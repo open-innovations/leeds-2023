{
 "cells": [
  {
   "cell_type": "code",
   "execution_count": 1,
   "id": "f868e9fa",
   "metadata": {
    "execution": {
     "iopub.execute_input": "2023-12-02T23:39:35.453242Z",
     "iopub.status.busy": "2023-12-02T23:39:35.452799Z",
     "iopub.status.idle": "2023-12-02T23:39:42.767834Z",
     "shell.execute_reply": "2023-12-02T23:39:42.767191Z"
    },
    "papermill": {
     "duration": 7.32029,
     "end_time": "2023-12-02T23:39:42.769416",
     "exception": false,
     "start_time": "2023-12-02T23:39:35.449126",
     "status": "completed"
    },
    "tags": []
   },
   "outputs": [],
   "source": [
    "import os\n",
    "import pandas as pd\n",
    "from events import load_event_data, get_first_ward, normalise_ward"
   ]
  },
  {
   "cell_type": "code",
   "execution_count": 2,
   "id": "f24a4ff5",
   "metadata": {
    "execution": {
     "iopub.execute_input": "2023-12-02T23:39:42.774412Z",
     "iopub.status.busy": "2023-12-02T23:39:42.774211Z",
     "iopub.status.idle": "2023-12-02T23:39:42.777725Z",
     "shell.execute_reply": "2023-12-02T23:39:42.777086Z"
    },
    "papermill": {
     "duration": 0.007362,
     "end_time": "2023-12-02T23:39:42.779004",
     "exception": false,
     "start_time": "2023-12-02T23:39:42.771642",
     "status": "completed"
    },
    "tags": []
   },
   "outputs": [],
   "source": [
    "latest_date = pd.Timestamp.today().ceil('D')"
   ]
  },
  {
   "cell_type": "code",
   "execution_count": 3,
   "id": "3a8beb66",
   "metadata": {
    "execution": {
     "iopub.execute_input": "2023-12-02T23:39:42.783848Z",
     "iopub.status.busy": "2023-12-02T23:39:42.783405Z",
     "iopub.status.idle": "2023-12-02T23:39:42.798144Z",
     "shell.execute_reply": "2023-12-02T23:39:42.797645Z"
    },
    "papermill": {
     "duration": 0.018526,
     "end_time": "2023-12-02T23:39:42.799388",
     "exception": false,
     "start_time": "2023-12-02T23:39:42.780862",
     "status": "completed"
    },
    "tags": []
   },
   "outputs": [],
   "source": [
    "tickets = pd.read_csv('../../../../data/metrics/events/tickets/orders.csv', parse_dates=['created_at', 'event_date'])\n",
    "tickets = tickets[tickets.event_date <= latest_date]"
   ]
  },
  {
   "cell_type": "code",
   "execution_count": 4,
   "id": "8a28b806",
   "metadata": {
    "execution": {
     "iopub.execute_input": "2023-12-02T23:39:42.804142Z",
     "iopub.status.busy": "2023-12-02T23:39:42.803664Z",
     "iopub.status.idle": "2023-12-02T23:39:42.853076Z",
     "shell.execute_reply": "2023-12-02T23:39:42.852475Z"
    },
    "papermill": {
     "duration": 0.053325,
     "end_time": "2023-12-02T23:39:42.854551",
     "exception": false,
     "start_time": "2023-12-02T23:39:42.801226",
     "status": "completed"
    },
    "tags": []
   },
   "outputs": [],
   "source": [
    "events = load_event_data()\n",
    "\n",
    "events = pd.concat([\n",
    "  events,\n",
    "  events.pipe(get_first_ward).pipe(normalise_ward).fillna('UNKNOWN'),\n",
    "  pd.Series(\n",
    "      events.actual_audience_size_number_of_participants_in_person + events.actual_audience_size_number_of_participants_online,\n",
    "      name='attendances'\n",
    "  )\n",
    "], axis=1).rename(columns={\n",
    "    'start_date': 'date'\n",
    "}).loc[:, ['ward_code', 'date', 'event_unique_identifier', 'attendances']]"
   ]
  },
  {
   "cell_type": "code",
   "execution_count": 5,
   "id": "2bcf99ba",
   "metadata": {
    "execution": {
     "iopub.execute_input": "2023-12-02T23:39:42.859582Z",
     "iopub.status.busy": "2023-12-02T23:39:42.859198Z",
     "iopub.status.idle": "2023-12-02T23:39:42.862279Z",
     "shell.execute_reply": "2023-12-02T23:39:42.861718Z"
    },
    "papermill": {
     "duration": 0.00696,
     "end_time": "2023-12-02T23:39:42.863494",
     "exception": false,
     "start_time": "2023-12-02T23:39:42.856534",
     "status": "completed"
    },
    "tags": []
   },
   "outputs": [],
   "source": [
    "OUTPUT_DIR='../../../../docs/metrics/events/signature/_data/'\n",
    "os.makedirs(OUTPUT_DIR, exist_ok=True)"
   ]
  },
  {
   "cell_type": "markdown",
   "id": "413696d2",
   "metadata": {
    "papermill": {
     "duration": 0.001882,
     "end_time": "2023-12-02T23:39:42.867315",
     "exception": false,
     "start_time": "2023-12-02T23:39:42.865433",
     "status": "completed"
    },
    "tags": []
   },
   "source": [
    "Events CSVs"
   ]
  },
  {
   "cell_type": "code",
   "execution_count": 6,
   "id": "796f39be",
   "metadata": {
    "execution": {
     "iopub.execute_input": "2023-12-02T23:39:42.872256Z",
     "iopub.status.busy": "2023-12-02T23:39:42.871670Z",
     "iopub.status.idle": "2023-12-02T23:39:42.877622Z",
     "shell.execute_reply": "2023-12-02T23:39:42.877000Z"
    },
    "papermill": {
     "duration": 0.00973,
     "end_time": "2023-12-02T23:39:42.878901",
     "exception": false,
     "start_time": "2023-12-02T23:39:42.869171",
     "status": "completed"
    },
    "tags": []
   },
   "outputs": [],
   "source": [
    "pd.DataFrame({\n",
    "  'events': events.groupby('ward_code').event_unique_identifier.count(),\n",
    "  'attendances': events.groupby('ward_code').attendances.sum().astype(int),\n",
    "}).to_csv(os.path.join(OUTPUT_DIR, 'events_by_ward.csv'))\n"
   ]
  },
  {
   "cell_type": "code",
   "execution_count": 7,
   "id": "bda3af3b",
   "metadata": {
    "execution": {
     "iopub.execute_input": "2023-12-02T23:39:42.884011Z",
     "iopub.status.busy": "2023-12-02T23:39:42.883472Z",
     "iopub.status.idle": "2023-12-02T23:39:42.891196Z",
     "shell.execute_reply": "2023-12-02T23:39:42.890580Z"
    },
    "papermill": {
     "duration": 0.011598,
     "end_time": "2023-12-02T23:39:42.892559",
     "exception": false,
     "start_time": "2023-12-02T23:39:42.880961",
     "status": "completed"
    },
    "tags": []
   },
   "outputs": [],
   "source": [
    "pd.DataFrame({\n",
    "  'events': events.groupby('date').event_unique_identifier.count(),\n",
    "  'attendances': events.groupby('date').attendances.sum().astype(int),\n",
    "}).resample('M').sum().astype(int).to_csv(os.path.join(OUTPUT_DIR, 'events_by_date.csv'))"
   ]
  },
  {
   "cell_type": "markdown",
   "id": "a5f80b80",
   "metadata": {
    "papermill": {
     "duration": 0.002684,
     "end_time": "2023-12-02T23:39:42.897242",
     "exception": false,
     "start_time": "2023-12-02T23:39:42.894558",
     "status": "completed"
    },
    "tags": []
   },
   "source": [
    "Tickets CSV"
   ]
  },
  {
   "cell_type": "code",
   "execution_count": 8,
   "id": "604ea392",
   "metadata": {
    "execution": {
     "iopub.execute_input": "2023-12-02T23:39:42.902078Z",
     "iopub.status.busy": "2023-12-02T23:39:42.901720Z",
     "iopub.status.idle": "2023-12-02T23:39:42.907986Z",
     "shell.execute_reply": "2023-12-02T23:39:42.907471Z"
    },
    "papermill": {
     "duration": 0.010213,
     "end_time": "2023-12-02T23:39:42.909367",
     "exception": false,
     "start_time": "2023-12-02T23:39:42.899154",
     "status": "completed"
    },
    "tags": []
   },
   "outputs": [],
   "source": [
    "pd.DataFrame({\n",
    "  'orders': tickets.groupby('ward_code').number_of_tickets.count(),\n",
    "  'tickets': tickets.groupby('ward_code').number_of_tickets.sum().astype(int),\n",
    "}).to_csv(os.path.join(OUTPUT_DIR, 'tickets_by_ward.csv'))"
   ]
  },
  {
   "cell_type": "code",
   "execution_count": 9,
   "id": "94c4d6ad",
   "metadata": {
    "execution": {
     "iopub.execute_input": "2023-12-02T23:39:42.914235Z",
     "iopub.status.busy": "2023-12-02T23:39:42.913872Z",
     "iopub.status.idle": "2023-12-02T23:39:42.920629Z",
     "shell.execute_reply": "2023-12-02T23:39:42.920003Z"
    },
    "papermill": {
     "duration": 0.010726,
     "end_time": "2023-12-02T23:39:42.922045",
     "exception": false,
     "start_time": "2023-12-02T23:39:42.911319",
     "status": "completed"
    },
    "tags": []
   },
   "outputs": [],
   "source": [
    "pd.DataFrame({\n",
    "  'orders': tickets.groupby('event_date').number_of_tickets.count(),\n",
    "  'tickets': tickets.groupby('event_date').number_of_tickets.sum().astype(int),\n",
    "}).resample('M').sum().to_csv(os.path.join(OUTPUT_DIR, 'tickets_by_event_date.csv'))"
   ]
  },
  {
   "cell_type": "code",
   "execution_count": 10,
   "id": "7bd5ae43",
   "metadata": {
    "execution": {
     "iopub.execute_input": "2023-12-02T23:39:42.927381Z",
     "iopub.status.busy": "2023-12-02T23:39:42.926881Z",
     "iopub.status.idle": "2023-12-02T23:39:42.931908Z",
     "shell.execute_reply": "2023-12-02T23:39:42.931283Z"
    },
    "papermill": {
     "duration": 0.009286,
     "end_time": "2023-12-02T23:39:42.933328",
     "exception": false,
     "start_time": "2023-12-02T23:39:42.924042",
     "status": "completed"
    },
    "tags": []
   },
   "outputs": [],
   "source": [
    "pd.Series({\n",
    "    'total_events': events.event_unique_identifier.count(),\n",
    "    'total_attendances': events.attendances.count(),\n",
    "    'first_event': events.date.min(),\n",
    "    'latest_event': events.date.max(),\n",
    "    'total_ticket_orders_for_events_to_date': tickets.number_of_tickets.count(),\n",
    "    'total_tickets_sold_for_events_to_date': tickets.number_of_tickets.sum(),\n",
    "}).to_json(os.path.join(OUTPUT_DIR, 'headlines.json'), indent=2)"
   ]
  },
  {
   "cell_type": "code",
   "execution_count": null,
   "id": "7889dac5",
   "metadata": {
    "papermill": {
     "duration": 0.002029,
     "end_time": "2023-12-02T23:39:42.937386",
     "exception": false,
     "start_time": "2023-12-02T23:39:42.935357",
     "status": "completed"
    },
    "tags": []
   },
   "outputs": [],
   "source": []
  }
 ],
 "metadata": {
  "kernelspec": {
   "display_name": "leeds-2023-YZF5GfJv",
   "language": "python",
   "name": "python3"
  },
  "language_info": {
   "codemirror_mode": {
    "name": "ipython",
    "version": 3
   },
   "file_extension": ".py",
   "mimetype": "text/x-python",
   "name": "python",
   "nbconvert_exporter": "python",
   "pygments_lexer": "ipython3",
   "version": "3.10.13"
  },
  "papermill": {
   "default_parameters": {},
   "duration": 8.971524,
   "end_time": "2023-12-02T23:39:43.154835",
   "environment_variables": {},
   "exception": null,
   "input_path": "prepare.ipynb",
   "output_path": "../../../../working/output/signature-prepare.ipynb",
   "parameters": {},
   "start_time": "2023-12-02T23:39:34.183311",
   "version": "2.4.0"
  }
 },
 "nbformat": 4,
 "nbformat_minor": 5
}