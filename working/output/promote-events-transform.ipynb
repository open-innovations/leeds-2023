{
 "cells": [
  {
   "cell_type": "code",
   "execution_count": 1,
   "id": "c3b8d0ec",
   "metadata": {
    "execution": {
     "iopub.execute_input": "2023-08-15T23:38:06.160604Z",
     "iopub.status.busy": "2023-08-15T23:38:06.160087Z",
     "iopub.status.idle": "2023-08-15T23:38:06.464704Z",
     "shell.execute_reply": "2023-08-15T23:38:06.463909Z"
    },
    "papermill": {
     "duration": 0.311492,
     "end_time": "2023-08-15T23:38:06.467102",
     "exception": false,
     "start_time": "2023-08-15T23:38:06.155610",
     "status": "completed"
    },
    "tags": []
   },
   "outputs": [],
   "source": [
    "import os\n",
    "import pandas as pd"
   ]
  },
  {
   "cell_type": "code",
   "execution_count": 2,
   "id": "1a6e4ae2",
   "metadata": {
    "execution": {
     "iopub.execute_input": "2023-08-15T23:38:06.472337Z",
     "iopub.status.busy": "2023-08-15T23:38:06.471974Z",
     "iopub.status.idle": "2023-08-15T23:38:06.475737Z",
     "shell.execute_reply": "2023-08-15T23:38:06.474969Z"
    },
    "papermill": {
     "duration": 0.008774,
     "end_time": "2023-08-15T23:38:06.477757",
     "exception": false,
     "start_time": "2023-08-15T23:38:06.468983",
     "status": "completed"
    },
    "tags": []
   },
   "outputs": [],
   "source": [
    "EVENTS_RAW_DATA = '../../../working/metrics/promote-events/events.csv'\n",
    "DATA_DIR = '../../../data/metrics/events/promote-events/'\n",
    "EVENTS_DATA = os.path.join(DATA_DIR, 'events.csv')"
   ]
  },
  {
   "cell_type": "code",
   "execution_count": 3,
   "id": "9499915e",
   "metadata": {
    "execution": {
     "iopub.execute_input": "2023-08-15T23:38:06.482022Z",
     "iopub.status.busy": "2023-08-15T23:38:06.481527Z",
     "iopub.status.idle": "2023-08-15T23:38:06.485584Z",
     "shell.execute_reply": "2023-08-15T23:38:06.484858Z"
    },
    "papermill": {
     "duration": 0.008406,
     "end_time": "2023-08-15T23:38:06.487618",
     "exception": false,
     "start_time": "2023-08-15T23:38:06.479212",
     "status": "completed"
    },
    "tags": []
   },
   "outputs": [],
   "source": [
    "columns = {\n",
    "    'id': 'id',\n",
    "    'name': 'name',\n",
    "    'locationName': 'location',\n",
    "    'cardPrice': 'card_price',\n",
    "    'timeslots': 'time',\n",
    "    'displayOnWebsite': 'display',\n",
    "    'Stage': 'stage',\n",
    "}"
   ]
  },
  {
   "cell_type": "code",
   "execution_count": 4,
   "id": "7c61dbae",
   "metadata": {
    "execution": {
     "iopub.execute_input": "2023-08-15T23:38:06.492078Z",
     "iopub.status.busy": "2023-08-15T23:38:06.491454Z",
     "iopub.status.idle": "2023-08-15T23:38:06.507787Z",
     "shell.execute_reply": "2023-08-15T23:38:06.507017Z"
    },
    "papermill": {
     "duration": 0.020564,
     "end_time": "2023-08-15T23:38:06.509681",
     "exception": false,
     "start_time": "2023-08-15T23:38:06.489117",
     "status": "completed"
    },
    "tags": []
   },
   "outputs": [],
   "source": [
    "data = pd.read_csv(EVENTS_RAW_DATA)[columns.keys()].rename(columns=columns)\n",
    "data.time = pd.to_datetime(data.time, errors='coerce')"
   ]
  },
  {
   "cell_type": "code",
   "execution_count": 5,
   "id": "7f127dc2",
   "metadata": {
    "execution": {
     "iopub.execute_input": "2023-08-15T23:38:06.514408Z",
     "iopub.status.busy": "2023-08-15T23:38:06.513915Z",
     "iopub.status.idle": "2023-08-15T23:38:06.525046Z",
     "shell.execute_reply": "2023-08-15T23:38:06.524388Z"
    },
    "papermill": {
     "duration": 0.015497,
     "end_time": "2023-08-15T23:38:06.526814",
     "exception": false,
     "start_time": "2023-08-15T23:38:06.511317",
     "status": "completed"
    },
    "tags": []
   },
   "outputs": [],
   "source": [
    "data.to_csv(os.path.join(DATA_DIR, 'events.csv'), index=False)"
   ]
  }
 ],
 "metadata": {
  "kernelspec": {
   "display_name": "leeds-2023-YZF5GfJv",
   "language": "python",
   "name": "python3"
  },
  "language_info": {
   "codemirror_mode": {
    "name": "ipython",
    "version": 3
   },
   "file_extension": ".py",
   "mimetype": "text/x-python",
   "name": "python",
   "nbconvert_exporter": "python",
   "pygments_lexer": "ipython3",
   "version": "3.10.12"
  },
  "papermill": {
   "default_parameters": {},
   "duration": 1.962131,
   "end_time": "2023-08-15T23:38:06.746521",
   "environment_variables": {},
   "exception": null,
   "input_path": "transform.ipynb",
   "output_path": "../../../working/output/promote-events-transform.ipynb",
   "parameters": {},
   "start_time": "2023-08-15T23:38:04.784390",
   "version": "2.4.0"
  }
 },
 "nbformat": 4,
 "nbformat_minor": 5
}