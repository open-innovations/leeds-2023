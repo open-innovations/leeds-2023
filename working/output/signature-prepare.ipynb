{
 "cells": [
  {
   "cell_type": "code",
   "execution_count": 1,
   "id": "7e0bcecd",
   "metadata": {
    "execution": {
     "iopub.execute_input": "2023-09-28T23:40:15.791779Z",
     "iopub.status.busy": "2023-09-28T23:40:15.791234Z",
     "iopub.status.idle": "2023-09-28T23:40:27.766757Z",
     "shell.execute_reply": "2023-09-28T23:40:27.765912Z"
    },
    "papermill": {
     "duration": 11.982631,
     "end_time": "2023-09-28T23:40:27.768908",
     "exception": false,
     "start_time": "2023-09-28T23:40:15.786277",
     "status": "completed"
    },
    "tags": []
   },
   "outputs": [],
   "source": [
    "import os\n",
    "import pandas as pd\n",
    "from events import load_event_data, get_first_ward, normalise_ward"
   ]
  },
  {
   "cell_type": "code",
   "execution_count": 2,
   "id": "cf1280a8",
   "metadata": {
    "execution": {
     "iopub.execute_input": "2023-09-28T23:40:27.776435Z",
     "iopub.status.busy": "2023-09-28T23:40:27.775704Z",
     "iopub.status.idle": "2023-09-28T23:40:27.780411Z",
     "shell.execute_reply": "2023-09-28T23:40:27.779663Z"
    },
    "papermill": {
     "duration": 0.010245,
     "end_time": "2023-09-28T23:40:27.782071",
     "exception": false,
     "start_time": "2023-09-28T23:40:27.771826",
     "status": "completed"
    },
    "tags": []
   },
   "outputs": [],
   "source": [
    "latest_date = pd.Timestamp.today().ceil('D')"
   ]
  },
  {
   "cell_type": "code",
   "execution_count": 3,
   "id": "0d9cf4ed",
   "metadata": {
    "execution": {
     "iopub.execute_input": "2023-09-28T23:40:27.789339Z",
     "iopub.status.busy": "2023-09-28T23:40:27.788585Z",
     "iopub.status.idle": "2023-09-28T23:40:27.808934Z",
     "shell.execute_reply": "2023-09-28T23:40:27.808165Z"
    },
    "papermill": {
     "duration": 0.025894,
     "end_time": "2023-09-28T23:40:27.810764",
     "exception": false,
     "start_time": "2023-09-28T23:40:27.784870",
     "status": "completed"
    },
    "tags": []
   },
   "outputs": [],
   "source": [
    "tickets = pd.read_csv('../../../../data/metrics/events/tickets/orders.csv', parse_dates=['created_at', 'event_date'])\n",
    "tickets = tickets[tickets.event_date <= latest_date]"
   ]
  },
  {
   "cell_type": "code",
   "execution_count": 4,
   "id": "e8b9289c",
   "metadata": {
    "execution": {
     "iopub.execute_input": "2023-09-28T23:40:27.817634Z",
     "iopub.status.busy": "2023-09-28T23:40:27.816986Z",
     "iopub.status.idle": "2023-09-28T23:40:28.052329Z",
     "shell.execute_reply": "2023-09-28T23:40:28.051512Z"
    },
    "papermill": {
     "duration": 0.241153,
     "end_time": "2023-09-28T23:40:28.054510",
     "exception": false,
     "start_time": "2023-09-28T23:40:27.813357",
     "status": "completed"
    },
    "tags": []
   },
   "outputs": [],
   "source": [
    "events = load_event_data()\n",
    "\n",
    "events = pd.concat([\n",
    "  events,\n",
    "  events.pipe(get_first_ward).pipe(normalise_ward).fillna('UNKNOWN'),\n",
    "  pd.Series(\n",
    "      events.actual_audience_size_number_of_participants_in_person + events.actual_audience_size_number_of_participants_online,\n",
    "      name='attendances'\n",
    "  )\n",
    "], axis=1).rename(columns={\n",
    "    'start_date': 'date'\n",
    "}).loc[:, ['ward_code', 'date', 'event_unique_identifier', 'attendances']]"
   ]
  },
  {
   "cell_type": "code",
   "execution_count": 5,
   "id": "1187132e",
   "metadata": {
    "execution": {
     "iopub.execute_input": "2023-09-28T23:40:28.062288Z",
     "iopub.status.busy": "2023-09-28T23:40:28.061966Z",
     "iopub.status.idle": "2023-09-28T23:40:28.067250Z",
     "shell.execute_reply": "2023-09-28T23:40:28.066578Z"
    },
    "papermill": {
     "duration": 0.011513,
     "end_time": "2023-09-28T23:40:28.069085",
     "exception": false,
     "start_time": "2023-09-28T23:40:28.057572",
     "status": "completed"
    },
    "tags": []
   },
   "outputs": [],
   "source": [
    "OUTPUT_DIR='../../../../docs/metrics/events/signature/_data/'\n",
    "os.makedirs(OUTPUT_DIR, exist_ok=True)"
   ]
  },
  {
   "cell_type": "markdown",
   "id": "3af57c7d",
   "metadata": {
    "papermill": {
     "duration": 0.002739,
     "end_time": "2023-09-28T23:40:28.074530",
     "exception": false,
     "start_time": "2023-09-28T23:40:28.071791",
     "status": "completed"
    },
    "tags": []
   },
   "source": [
    "Events CSVs"
   ]
  },
  {
   "cell_type": "code",
   "execution_count": 6,
   "id": "717033dd",
   "metadata": {
    "execution": {
     "iopub.execute_input": "2023-09-28T23:40:28.082427Z",
     "iopub.status.busy": "2023-09-28T23:40:28.080828Z",
     "iopub.status.idle": "2023-09-28T23:40:28.090619Z",
     "shell.execute_reply": "2023-09-28T23:40:28.089937Z"
    },
    "papermill": {
     "duration": 0.01561,
     "end_time": "2023-09-28T23:40:28.092711",
     "exception": false,
     "start_time": "2023-09-28T23:40:28.077101",
     "status": "completed"
    },
    "tags": []
   },
   "outputs": [],
   "source": [
    "pd.DataFrame({\n",
    "  'events': events.groupby('ward_code').event_unique_identifier.count(),\n",
    "  'attendances': events.groupby('ward_code').attendances.sum().astype(int),\n",
    "}).to_csv(os.path.join(OUTPUT_DIR, 'events_by_ward.csv'))\n"
   ]
  },
  {
   "cell_type": "code",
   "execution_count": 7,
   "id": "521ec1ec",
   "metadata": {
    "execution": {
     "iopub.execute_input": "2023-09-28T23:40:28.099599Z",
     "iopub.status.busy": "2023-09-28T23:40:28.098929Z",
     "iopub.status.idle": "2023-09-28T23:40:28.111545Z",
     "shell.execute_reply": "2023-09-28T23:40:28.110842Z"
    },
    "papermill": {
     "duration": 0.018175,
     "end_time": "2023-09-28T23:40:28.113504",
     "exception": false,
     "start_time": "2023-09-28T23:40:28.095329",
     "status": "completed"
    },
    "tags": []
   },
   "outputs": [],
   "source": [
    "pd.DataFrame({\n",
    "  'events': events.groupby('date').event_unique_identifier.count(),\n",
    "  'attendances': events.groupby('date').attendances.sum().astype(int),\n",
    "}).resample('M').sum().astype(int).to_csv(os.path.join(OUTPUT_DIR, 'events_by_date.csv'))"
   ]
  },
  {
   "cell_type": "markdown",
   "id": "a578c5dd",
   "metadata": {
    "papermill": {
     "duration": 0.002675,
     "end_time": "2023-09-28T23:40:28.118945",
     "exception": false,
     "start_time": "2023-09-28T23:40:28.116270",
     "status": "completed"
    },
    "tags": []
   },
   "source": [
    "Tickets CSV"
   ]
  },
  {
   "cell_type": "code",
   "execution_count": 8,
   "id": "7d0a6ec8",
   "metadata": {
    "execution": {
     "iopub.execute_input": "2023-09-28T23:40:28.125816Z",
     "iopub.status.busy": "2023-09-28T23:40:28.125147Z",
     "iopub.status.idle": "2023-09-28T23:40:28.133699Z",
     "shell.execute_reply": "2023-09-28T23:40:28.133021Z"
    },
    "papermill": {
     "duration": 0.013878,
     "end_time": "2023-09-28T23:40:28.135378",
     "exception": false,
     "start_time": "2023-09-28T23:40:28.121500",
     "status": "completed"
    },
    "tags": []
   },
   "outputs": [],
   "source": [
    "pd.DataFrame({\n",
    "  'orders': tickets.groupby('ward_code').number_of_tickets.count(),\n",
    "  'tickets': tickets.groupby('ward_code').number_of_tickets.sum().astype(int),\n",
    "}).to_csv(os.path.join(OUTPUT_DIR, 'tickets_by_ward.csv'))"
   ]
  },
  {
   "cell_type": "code",
   "execution_count": 9,
   "id": "b0b42a2c",
   "metadata": {
    "execution": {
     "iopub.execute_input": "2023-09-28T23:40:28.142332Z",
     "iopub.status.busy": "2023-09-28T23:40:28.141868Z",
     "iopub.status.idle": "2023-09-28T23:40:28.151589Z",
     "shell.execute_reply": "2023-09-28T23:40:28.150887Z"
    },
    "papermill": {
     "duration": 0.015353,
     "end_time": "2023-09-28T23:40:28.153470",
     "exception": false,
     "start_time": "2023-09-28T23:40:28.138117",
     "status": "completed"
    },
    "tags": []
   },
   "outputs": [],
   "source": [
    "pd.DataFrame({\n",
    "  'orders': tickets.groupby('event_date').number_of_tickets.count(),\n",
    "  'tickets': tickets.groupby('event_date').number_of_tickets.sum().astype(int),\n",
    "}).resample('M').sum().to_csv(os.path.join(OUTPUT_DIR, 'tickets_by_event_date.csv'))"
   ]
  },
  {
   "cell_type": "code",
   "execution_count": 10,
   "id": "0a82502b",
   "metadata": {
    "execution": {
     "iopub.execute_input": "2023-09-28T23:40:28.162053Z",
     "iopub.status.busy": "2023-09-28T23:40:28.161379Z",
     "iopub.status.idle": "2023-09-28T23:40:28.167547Z",
     "shell.execute_reply": "2023-09-28T23:40:28.166871Z"
    },
    "papermill": {
     "duration": 0.013051,
     "end_time": "2023-09-28T23:40:28.169376",
     "exception": false,
     "start_time": "2023-09-28T23:40:28.156325",
     "status": "completed"
    },
    "tags": []
   },
   "outputs": [],
   "source": [
    "pd.Series({\n",
    "    'total_events': events.event_unique_identifier.count(),\n",
    "    'total_attendances': events.attendances.count(),\n",
    "    'first_event': events.date.min(),\n",
    "    'latest_event': events.date.max(),\n",
    "    'total_ticket_orders_for_events_to_date': tickets.number_of_tickets.count(),\n",
    "    'total_tickets_sold_for_events_to_date': tickets.number_of_tickets.sum(),\n",
    "}).to_json(os.path.join(OUTPUT_DIR, 'headlines.json'), indent=2)"
   ]
  },
  {
   "cell_type": "code",
   "execution_count": null,
   "id": "83f8b089",
   "metadata": {
    "papermill": {
     "duration": 0.003161,
     "end_time": "2023-09-28T23:40:28.175531",
     "exception": false,
     "start_time": "2023-09-28T23:40:28.172370",
     "status": "completed"
    },
    "tags": []
   },
   "outputs": [],
   "source": []
  }
 ],
 "metadata": {
  "kernelspec": {
   "display_name": "leeds-2023-YZF5GfJv",
   "language": "python",
   "name": "python3"
  },
  "language_info": {
   "codemirror_mode": {
    "name": "ipython",
    "version": 3
   },
   "file_extension": ".py",
   "mimetype": "text/x-python",
   "name": "python",
   "nbconvert_exporter": "python",
   "pygments_lexer": "ipython3",
   "version": "3.10.13"
  },
  "papermill": {
   "default_parameters": {},
   "duration": 14.456797,
   "end_time": "2023-09-28T23:40:28.598235",
   "environment_variables": {},
   "exception": null,
   "input_path": "prepare.ipynb",
   "output_path": "../../../../working/output/signature-prepare.ipynb",
   "parameters": {},
   "start_time": "2023-09-28T23:40:14.141438",
   "version": "2.4.0"
  }
 },
 "nbformat": 4,
 "nbformat_minor": 5
}