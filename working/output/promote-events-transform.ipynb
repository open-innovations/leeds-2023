{
 "cells": [
  {
   "cell_type": "code",
   "execution_count": 1,
   "id": "e9a8617d",
   "metadata": {
    "execution": {
     "iopub.execute_input": "2023-08-23T23:40:31.476241Z",
     "iopub.status.busy": "2023-08-23T23:40:31.475545Z",
     "iopub.status.idle": "2023-08-23T23:40:31.711112Z",
     "shell.execute_reply": "2023-08-23T23:40:31.709864Z"
    },
    "papermill": {
     "duration": 0.240951,
     "end_time": "2023-08-23T23:40:31.713409",
     "exception": false,
     "start_time": "2023-08-23T23:40:31.472458",
     "status": "completed"
    },
    "tags": []
   },
   "outputs": [],
   "source": [
    "import os\n",
    "import pandas as pd"
   ]
  },
  {
   "cell_type": "code",
   "execution_count": 2,
   "id": "5afb02e4",
   "metadata": {
    "execution": {
     "iopub.execute_input": "2023-08-23T23:40:31.717955Z",
     "iopub.status.busy": "2023-08-23T23:40:31.717162Z",
     "iopub.status.idle": "2023-08-23T23:40:31.720897Z",
     "shell.execute_reply": "2023-08-23T23:40:31.720258Z"
    },
    "papermill": {
     "duration": 0.007418,
     "end_time": "2023-08-23T23:40:31.722386",
     "exception": false,
     "start_time": "2023-08-23T23:40:31.714968",
     "status": "completed"
    },
    "tags": []
   },
   "outputs": [],
   "source": [
    "EVENTS_RAW_DATA = '../../../working/metrics/promote-events/events.csv'\n",
    "DATA_DIR = '../../../data/metrics/events/promote-events/'\n",
    "EVENTS_DATA = os.path.join(DATA_DIR, 'events.csv')"
   ]
  },
  {
   "cell_type": "code",
   "execution_count": 3,
   "id": "f3ef8f81",
   "metadata": {
    "execution": {
     "iopub.execute_input": "2023-08-23T23:40:31.725947Z",
     "iopub.status.busy": "2023-08-23T23:40:31.725464Z",
     "iopub.status.idle": "2023-08-23T23:40:31.728714Z",
     "shell.execute_reply": "2023-08-23T23:40:31.728091Z"
    },
    "papermill": {
     "duration": 0.006747,
     "end_time": "2023-08-23T23:40:31.730281",
     "exception": false,
     "start_time": "2023-08-23T23:40:31.723534",
     "status": "completed"
    },
    "tags": []
   },
   "outputs": [],
   "source": [
    "columns = {\n",
    "    'id': 'id',\n",
    "    'name': 'name',\n",
    "    'locationName': 'location',\n",
    "    'cardPrice': 'card_price',\n",
    "    'timeslots': 'time',\n",
    "    # 'displayOnWebsite': 'display',\n",
    "    'Stage': 'stage',\n",
    "}"
   ]
  },
  {
   "cell_type": "code",
   "execution_count": 4,
   "id": "ec681d9e",
   "metadata": {
    "execution": {
     "iopub.execute_input": "2023-08-23T23:40:31.733817Z",
     "iopub.status.busy": "2023-08-23T23:40:31.733352Z",
     "iopub.status.idle": "2023-08-23T23:40:31.743134Z",
     "shell.execute_reply": "2023-08-23T23:40:31.742589Z"
    },
    "papermill": {
     "duration": 0.013072,
     "end_time": "2023-08-23T23:40:31.744518",
     "exception": false,
     "start_time": "2023-08-23T23:40:31.731446",
     "status": "completed"
    },
    "tags": []
   },
   "outputs": [],
   "source": [
    "data = pd.read_csv(EVENTS_RAW_DATA)[columns.keys()].rename(columns=columns)\n",
    "data.time = pd.to_datetime(data.time, errors='coerce')"
   ]
  },
  {
   "cell_type": "code",
   "execution_count": 5,
   "id": "2a040a95",
   "metadata": {
    "execution": {
     "iopub.execute_input": "2023-08-23T23:40:31.748101Z",
     "iopub.status.busy": "2023-08-23T23:40:31.747710Z",
     "iopub.status.idle": "2023-08-23T23:40:31.753247Z",
     "shell.execute_reply": "2023-08-23T23:40:31.752334Z"
    },
    "papermill": {
     "duration": 0.009011,
     "end_time": "2023-08-23T23:40:31.754750",
     "exception": false,
     "start_time": "2023-08-23T23:40:31.745739",
     "status": "completed"
    },
    "tags": []
   },
   "outputs": [],
   "source": [
    "data.to_csv(os.path.join(DATA_DIR, 'events.csv'), index=False)"
   ]
  }
 ],
 "metadata": {
  "kernelspec": {
   "display_name": "leeds-2023-YZF5GfJv",
   "language": "python",
   "name": "python3"
  },
  "language_info": {
   "codemirror_mode": {
    "name": "ipython",
    "version": 3
   },
   "file_extension": ".py",
   "mimetype": "text/x-python",
   "name": "python",
   "nbconvert_exporter": "python",
   "pygments_lexer": "ipython3",
   "version": "3.10.12"
  },
  "papermill": {
   "default_parameters": {},
   "duration": 1.879401,
   "end_time": "2023-08-23T23:40:31.972854",
   "environment_variables": {},
   "exception": null,
   "input_path": "transform.ipynb",
   "output_path": "../../../working/output/promote-events-transform.ipynb",
   "parameters": {},
   "start_time": "2023-08-23T23:40:30.093453",
   "version": "2.4.0"
  }
 },
 "nbformat": 4,
 "nbformat_minor": 5
}