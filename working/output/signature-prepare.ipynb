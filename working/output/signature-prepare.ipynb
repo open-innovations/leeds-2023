{
 "cells": [
  {
   "cell_type": "code",
   "execution_count": 1,
   "id": "70aca55c",
   "metadata": {
    "execution": {
     "iopub.execute_input": "2023-11-28T23:40:50.313918Z",
     "iopub.status.busy": "2023-11-28T23:40:50.313643Z",
     "iopub.status.idle": "2023-11-28T23:40:57.471178Z",
     "shell.execute_reply": "2023-11-28T23:40:57.470527Z"
    },
    "papermill": {
     "duration": 7.16278,
     "end_time": "2023-11-28T23:40:57.472778",
     "exception": false,
     "start_time": "2023-11-28T23:40:50.309998",
     "status": "completed"
    },
    "tags": []
   },
   "outputs": [],
   "source": [
    "import os\n",
    "import pandas as pd\n",
    "from events import load_event_data, get_first_ward, normalise_ward"
   ]
  },
  {
   "cell_type": "code",
   "execution_count": 2,
   "id": "a92697b6",
   "metadata": {
    "execution": {
     "iopub.execute_input": "2023-11-28T23:40:57.478145Z",
     "iopub.status.busy": "2023-11-28T23:40:57.477692Z",
     "iopub.status.idle": "2023-11-28T23:40:57.481322Z",
     "shell.execute_reply": "2023-11-28T23:40:57.480613Z"
    },
    "papermill": {
     "duration": 0.007672,
     "end_time": "2023-11-28T23:40:57.482681",
     "exception": false,
     "start_time": "2023-11-28T23:40:57.475009",
     "status": "completed"
    },
    "tags": []
   },
   "outputs": [],
   "source": [
    "latest_date = pd.Timestamp.today().ceil('D')"
   ]
  },
  {
   "cell_type": "code",
   "execution_count": 3,
   "id": "f0301d89",
   "metadata": {
    "execution": {
     "iopub.execute_input": "2023-11-28T23:40:57.487456Z",
     "iopub.status.busy": "2023-11-28T23:40:57.487067Z",
     "iopub.status.idle": "2023-11-28T23:40:57.501528Z",
     "shell.execute_reply": "2023-11-28T23:40:57.500912Z"
    },
    "papermill": {
     "duration": 0.018691,
     "end_time": "2023-11-28T23:40:57.503167",
     "exception": false,
     "start_time": "2023-11-28T23:40:57.484476",
     "status": "completed"
    },
    "tags": []
   },
   "outputs": [],
   "source": [
    "tickets = pd.read_csv('../../../../data/metrics/events/tickets/orders.csv', parse_dates=['created_at', 'event_date'])\n",
    "tickets = tickets[tickets.event_date <= latest_date]"
   ]
  },
  {
   "cell_type": "code",
   "execution_count": 4,
   "id": "879eabda",
   "metadata": {
    "execution": {
     "iopub.execute_input": "2023-11-28T23:40:57.507904Z",
     "iopub.status.busy": "2023-11-28T23:40:57.507473Z",
     "iopub.status.idle": "2023-11-28T23:40:57.558072Z",
     "shell.execute_reply": "2023-11-28T23:40:57.557413Z"
    },
    "papermill": {
     "duration": 0.054617,
     "end_time": "2023-11-28T23:40:57.559626",
     "exception": false,
     "start_time": "2023-11-28T23:40:57.505009",
     "status": "completed"
    },
    "tags": []
   },
   "outputs": [],
   "source": [
    "events = load_event_data()\n",
    "\n",
    "events = pd.concat([\n",
    "  events,\n",
    "  events.pipe(get_first_ward).pipe(normalise_ward).fillna('UNKNOWN'),\n",
    "  pd.Series(\n",
    "      events.actual_audience_size_number_of_participants_in_person + events.actual_audience_size_number_of_participants_online,\n",
    "      name='attendances'\n",
    "  )\n",
    "], axis=1).rename(columns={\n",
    "    'start_date': 'date'\n",
    "}).loc[:, ['ward_code', 'date', 'event_unique_identifier', 'attendances']]"
   ]
  },
  {
   "cell_type": "code",
   "execution_count": 5,
   "id": "949b537b",
   "metadata": {
    "execution": {
     "iopub.execute_input": "2023-11-28T23:40:57.564577Z",
     "iopub.status.busy": "2023-11-28T23:40:57.564121Z",
     "iopub.status.idle": "2023-11-28T23:40:57.567160Z",
     "shell.execute_reply": "2023-11-28T23:40:57.566647Z"
    },
    "papermill": {
     "duration": 0.00691,
     "end_time": "2023-11-28T23:40:57.568474",
     "exception": false,
     "start_time": "2023-11-28T23:40:57.561564",
     "status": "completed"
    },
    "tags": []
   },
   "outputs": [],
   "source": [
    "OUTPUT_DIR='../../../../docs/metrics/events/signature/_data/'\n",
    "os.makedirs(OUTPUT_DIR, exist_ok=True)"
   ]
  },
  {
   "cell_type": "markdown",
   "id": "1dab13c2",
   "metadata": {
    "papermill": {
     "duration": 0.001959,
     "end_time": "2023-11-28T23:40:57.572329",
     "exception": false,
     "start_time": "2023-11-28T23:40:57.570370",
     "status": "completed"
    },
    "tags": []
   },
   "source": [
    "Events CSVs"
   ]
  },
  {
   "cell_type": "code",
   "execution_count": 6,
   "id": "75a5713c",
   "metadata": {
    "execution": {
     "iopub.execute_input": "2023-11-28T23:40:57.577241Z",
     "iopub.status.busy": "2023-11-28T23:40:57.576748Z",
     "iopub.status.idle": "2023-11-28T23:40:57.582850Z",
     "shell.execute_reply": "2023-11-28T23:40:57.582340Z"
    },
    "papermill": {
     "duration": 0.009921,
     "end_time": "2023-11-28T23:40:57.584134",
     "exception": false,
     "start_time": "2023-11-28T23:40:57.574213",
     "status": "completed"
    },
    "tags": []
   },
   "outputs": [],
   "source": [
    "pd.DataFrame({\n",
    "  'events': events.groupby('ward_code').event_unique_identifier.count(),\n",
    "  'attendances': events.groupby('ward_code').attendances.sum().astype(int),\n",
    "}).to_csv(os.path.join(OUTPUT_DIR, 'events_by_ward.csv'))\n"
   ]
  },
  {
   "cell_type": "code",
   "execution_count": 7,
   "id": "d8cd2912",
   "metadata": {
    "execution": {
     "iopub.execute_input": "2023-11-28T23:40:57.589315Z",
     "iopub.status.busy": "2023-11-28T23:40:57.588933Z",
     "iopub.status.idle": "2023-11-28T23:40:57.596719Z",
     "shell.execute_reply": "2023-11-28T23:40:57.596110Z"
    },
    "papermill": {
     "duration": 0.011942,
     "end_time": "2023-11-28T23:40:57.598120",
     "exception": false,
     "start_time": "2023-11-28T23:40:57.586178",
     "status": "completed"
    },
    "tags": []
   },
   "outputs": [],
   "source": [
    "pd.DataFrame({\n",
    "  'events': events.groupby('date').event_unique_identifier.count(),\n",
    "  'attendances': events.groupby('date').attendances.sum().astype(int),\n",
    "}).resample('M').sum().astype(int).to_csv(os.path.join(OUTPUT_DIR, 'events_by_date.csv'))"
   ]
  },
  {
   "cell_type": "markdown",
   "id": "27aae0b0",
   "metadata": {
    "papermill": {
     "duration": 0.002767,
     "end_time": "2023-11-28T23:40:57.602851",
     "exception": false,
     "start_time": "2023-11-28T23:40:57.600084",
     "status": "completed"
    },
    "tags": []
   },
   "source": [
    "Tickets CSV"
   ]
  },
  {
   "cell_type": "code",
   "execution_count": 8,
   "id": "f28efcb1",
   "metadata": {
    "execution": {
     "iopub.execute_input": "2023-11-28T23:40:57.607674Z",
     "iopub.status.busy": "2023-11-28T23:40:57.607348Z",
     "iopub.status.idle": "2023-11-28T23:40:57.613481Z",
     "shell.execute_reply": "2023-11-28T23:40:57.612989Z"
    },
    "papermill": {
     "duration": 0.010059,
     "end_time": "2023-11-28T23:40:57.614831",
     "exception": false,
     "start_time": "2023-11-28T23:40:57.604772",
     "status": "completed"
    },
    "tags": []
   },
   "outputs": [],
   "source": [
    "pd.DataFrame({\n",
    "  'orders': tickets.groupby('ward_code').number_of_tickets.count(),\n",
    "  'tickets': tickets.groupby('ward_code').number_of_tickets.sum().astype(int),\n",
    "}).to_csv(os.path.join(OUTPUT_DIR, 'tickets_by_ward.csv'))"
   ]
  },
  {
   "cell_type": "code",
   "execution_count": 9,
   "id": "c5c8491e",
   "metadata": {
    "execution": {
     "iopub.execute_input": "2023-11-28T23:40:57.619795Z",
     "iopub.status.busy": "2023-11-28T23:40:57.619441Z",
     "iopub.status.idle": "2023-11-28T23:40:57.626067Z",
     "shell.execute_reply": "2023-11-28T23:40:57.625453Z"
    },
    "papermill": {
     "duration": 0.010689,
     "end_time": "2023-11-28T23:40:57.627475",
     "exception": false,
     "start_time": "2023-11-28T23:40:57.616786",
     "status": "completed"
    },
    "tags": []
   },
   "outputs": [],
   "source": [
    "pd.DataFrame({\n",
    "  'orders': tickets.groupby('event_date').number_of_tickets.count(),\n",
    "  'tickets': tickets.groupby('event_date').number_of_tickets.sum().astype(int),\n",
    "}).resample('M').sum().to_csv(os.path.join(OUTPUT_DIR, 'tickets_by_event_date.csv'))"
   ]
  },
  {
   "cell_type": "code",
   "execution_count": 10,
   "id": "9fc2e98a",
   "metadata": {
    "execution": {
     "iopub.execute_input": "2023-11-28T23:40:57.632531Z",
     "iopub.status.busy": "2023-11-28T23:40:57.632210Z",
     "iopub.status.idle": "2023-11-28T23:40:57.636936Z",
     "shell.execute_reply": "2023-11-28T23:40:57.636431Z"
    },
    "papermill": {
     "duration": 0.008741,
     "end_time": "2023-11-28T23:40:57.638211",
     "exception": false,
     "start_time": "2023-11-28T23:40:57.629470",
     "status": "completed"
    },
    "tags": []
   },
   "outputs": [],
   "source": [
    "pd.Series({\n",
    "    'total_events': events.event_unique_identifier.count(),\n",
    "    'total_attendances': events.attendances.count(),\n",
    "    'first_event': events.date.min(),\n",
    "    'latest_event': events.date.max(),\n",
    "    'total_ticket_orders_for_events_to_date': tickets.number_of_tickets.count(),\n",
    "    'total_tickets_sold_for_events_to_date': tickets.number_of_tickets.sum(),\n",
    "}).to_json(os.path.join(OUTPUT_DIR, 'headlines.json'), indent=2)"
   ]
  },
  {
   "cell_type": "code",
   "execution_count": null,
   "id": "ac9851d7",
   "metadata": {
    "papermill": {
     "duration": 0.00196,
     "end_time": "2023-11-28T23:40:57.642211",
     "exception": false,
     "start_time": "2023-11-28T23:40:57.640251",
     "status": "completed"
    },
    "tags": []
   },
   "outputs": [],
   "source": []
  }
 ],
 "metadata": {
  "kernelspec": {
   "display_name": "leeds-2023-YZF5GfJv",
   "language": "python",
   "name": "python3"
  },
  "language_info": {
   "codemirror_mode": {
    "name": "ipython",
    "version": 3
   },
   "file_extension": ".py",
   "mimetype": "text/x-python",
   "name": "python",
   "nbconvert_exporter": "python",
   "pygments_lexer": "ipython3",
   "version": "3.10.13"
  },
  "papermill": {
   "default_parameters": {},
   "duration": 8.797811,
   "end_time": "2023-11-28T23:40:57.859980",
   "environment_variables": {},
   "exception": null,
   "input_path": "prepare.ipynb",
   "output_path": "../../../../working/output/signature-prepare.ipynb",
   "parameters": {},
   "start_time": "2023-11-28T23:40:49.062169",
   "version": "2.4.0"
  }
 },
 "nbformat": 4,
 "nbformat_minor": 5
}