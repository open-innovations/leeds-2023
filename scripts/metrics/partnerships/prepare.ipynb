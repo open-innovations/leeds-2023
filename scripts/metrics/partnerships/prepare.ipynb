{
 "cells": [
  {
   "cell_type": "code",
   "execution_count": 2,
   "metadata": {},
   "outputs": [],
   "source": [
    "import ast\n",
    "import os\n",
    "import sys\n",
    "from pathlib import Path\n",
    "\n",
    "import pandas as pd"
   ]
  },
  {
   "cell_type": "code",
   "execution_count": 3,
   "metadata": {},
   "outputs": [],
   "source": [
    "TOP_DIR = Path('../../../').resolve()\n",
    "if str(TOP_DIR) not in sys.path: sys.path.append(str(TOP_DIR))"
   ]
  },
  {
   "cell_type": "code",
   "execution_count": 4,
   "metadata": {},
   "outputs": [],
   "source": [
    "MAIN_DATA_DIR = TOP_DIR.joinpath('data/metrics/partnerships')\n",
    "PARTNERSHIPS_DATA = MAIN_DATA_DIR.joinpath('partnerships.csv')\n",
    "\n",
    "SITE_DATA_DIR = TOP_DIR.joinpath('docs/metrics/partnerships/_data')\n",
    "SITE_DATA_DIR.mkdir(parents=True, exist_ok=True)"
   ]
  },
  {
   "cell_type": "code",
   "execution_count": 5,
   "metadata": {},
   "outputs": [],
   "source": [
    "partnerships_data = pd.read_csv(PARTNERSHIPS_DATA, parse_dates=['start_date'])\n",
    "partnerships_data.list_of_countries_involved = partnerships_data.list_of_countries_involved.fillna('[]').apply(ast.literal_eval)"
   ]
  },
  {
   "cell_type": "markdown",
   "metadata": {},
   "source": [
    "Summarise"
   ]
  },
  {
   "cell_type": "markdown",
   "metadata": {},
   "source": [
    "Country code reference created with `jq`\n",
    "\n",
    "```sh\n",
    "jq '[.features[].properties]' docs/_data/geojson/world.geojson > data/reference/country_codes.json\n",
    "```"
   ]
  },
  {
   "cell_type": "code",
   "execution_count": 6,
   "metadata": {},
   "outputs": [],
   "source": [
    "country_codes = pd.read_json(\n",
    "    TOP_DIR.joinpath('data/reference/country_codes.json')\n",
    ").loc[:, ['ADM0_A3', 'NAME_LONG']].set_index('NAME_LONG')"
   ]
  },
  {
   "cell_type": "code",
   "execution_count": 7,
   "metadata": {},
   "outputs": [],
   "source": [
    "countries_data = partnerships_data.rename(\n",
    "    columns={'list_of_countries_involved':'countries'}\n",
    ").countries.explode().value_counts().to_frame('number_of_partners').sort_index()"
   ]
  },
  {
   "cell_type": "code",
   "execution_count": 8,
   "metadata": {},
   "outputs": [],
   "source": [
    "combined = pd.merge(\n",
    "  left=countries_data,\n",
    "  right=country_codes,\n",
    "  left_on='countries',\n",
    "  right_index=True,\n",
    "  how='left',\n",
    ").fillna('')\n",
    "combined.to_csv(\n",
    "  SITE_DATA_DIR.joinpath('countries.csv')\n",
    ")"
   ]
  },
  {
   "cell_type": "code",
   "execution_count": 9,
   "metadata": {},
   "outputs": [],
   "source": [
    "pd.Series({\n",
    "    'total_partnerships': len(partnerships_data),\n",
    "    'total_international': partnerships_data.international_element_to_project_.count(),\n",
    "    'total_unique_countries': len(countries_data),\n",
    "    'total_events': partnerships_data.total_number_of_events.sum(),\n",
    "    'total_audience': partnerships_data.audience_numbers.sum(),\n",
    "    'total_digital_audience': partnerships_data.digital_audiences.sum(),\n",
    "    'total_participants': partnerships_data.number_of_participants.sum(),\n",
    "    'total_in_person_events': partnerships_data['online_in_person_both'].value_counts()['In person'],\n",
    "    'both_online_in_person_events': partnerships_data['online_in_person_both'].value_counts()['Both'],\n",
    "    'online_only_events': partnerships_data['online_in_person_both'].value_counts()['Online']\n",
    "}).astype(int).to_json(\n",
    "    os.path.join(SITE_DATA_DIR, 'headlines.json'),\n",
    "    date_format='iso', indent=2\n",
    ")"
   ]
  },
  {
   "cell_type": "markdown",
   "metadata": {},
   "source": [
    "Summarise by ward"
   ]
  },
  {
   "cell_type": "code",
   "execution_count": 10,
   "metadata": {},
   "outputs": [],
   "source": [
    "partnerships_data.fillna('UNKNOWN').groupby('partner_venue_ward_code').partner_organisation.count().to_csv(os.path.join(SITE_DATA_DIR, 'partnerships_by_ward.csv'))"
   ]
  },
  {
   "cell_type": "markdown",
   "metadata": {},
   "source": [
    "Summarise by month"
   ]
  },
  {
   "cell_type": "code",
   "execution_count": 11,
   "metadata": {},
   "outputs": [],
   "source": [
    "partnerships_data.groupby('start_date').partner_organisation.count().resample('MS').sum().cumsum().to_csv(os.path.join(SITE_DATA_DIR, 'partnerships_by_month.csv'))"
   ]
  },
  {
   "cell_type": "markdown",
   "metadata": {},
   "source": [
    "Event type"
   ]
  },
  {
   "cell_type": "code",
   "execution_count": 12,
   "metadata": {},
   "outputs": [],
   "source": [
    "event_type = pd.DataFrame({\n",
    "    'event_type': partnerships_data.groupby('online_in_person_both').partner_organisation.count()\n",
    "}).reset_index().to_csv(os.path.join(SITE_DATA_DIR, 'event_type.csv'), index=False)"
   ]
  },
  {
   "cell_type": "markdown",
   "metadata": {},
   "source": [
    "Project Artform"
   ]
  },
  {
   "cell_type": "code",
   "execution_count": 13,
   "metadata": {},
   "outputs": [],
   "source": [
    "artform = pd.DataFrame({\n",
    "    'number_of_partners': partnerships_data.groupby('project_artform').partner_organisation.count()\n",
    "}).T.rename(columns={\n",
    "    'Combined arts': 'combined_arts',\n",
    "    'Dance': 'dance',\n",
    "    'Literature': 'literature',\n",
    "    'Music': 'music',\n",
    "    'Theatre': 'theatre',\n",
    "    'Visual art': 'visual_art'\n",
    "}).reset_index().to_csv(os.path.join(SITE_DATA_DIR, 'artforms.csv'), index=False)"
   ]
  },
  {
   "cell_type": "markdown",
   "metadata": {},
   "source": [
    "## Project outputs"
   ]
  },
  {
   "cell_type": "markdown",
   "metadata": {},
   "source": [
    "Clean up the Project Outputs column"
   ]
  },
  {
   "cell_type": "code",
   "execution_count": 76,
   "metadata": {},
   "outputs": [],
   "source": [
    "outputs = partnerships_data.project_output\n",
    "outputs = partnerships_data.project_output.str.split(',').explode().str.replace(\"'\", '').str.strip(\"[,] \")\n",
    "outputs = outputs.value_counts().to_frame().T\n",
    "outputs = outputs.drop(columns = {'murals', 'etc.)'}).rename(columns={'Public Artwork (sculptures': 'Public Artwork', 'School event': 'School Event'})\n",
    "\n",
    "outputs.to_csv(os.path.join(SITE_DATA_DIR, 'project_outputs.csv'), index=False)"
   ]
  },
  {
   "cell_type": "code",
   "execution_count": null,
   "metadata": {},
   "outputs": [],
   "source": []
  }
 ],
 "metadata": {
  "kernelspec": {
   "display_name": "leeds-2023-OyOrD6k7",
   "language": "python",
   "name": "python3"
  },
  "language_info": {
   "codemirror_mode": {
    "name": "ipython",
    "version": 3
   },
   "file_extension": ".py",
   "mimetype": "text/x-python",
   "name": "python",
   "nbconvert_exporter": "python",
   "pygments_lexer": "ipython3",
   "version": "3.10.12"
  },
  "orig_nbformat": 4
 },
 "nbformat": 4,
 "nbformat_minor": 2
}
