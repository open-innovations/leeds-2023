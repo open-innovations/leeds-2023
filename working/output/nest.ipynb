{
 "cells": [
  {
   "cell_type": "markdown",
   "id": "1a4ac128",
   "metadata": {
    "papermill": {
     "duration": 0.002288,
     "end_time": "2023-10-29T23:39:33.921578",
     "exception": false,
     "start_time": "2023-10-29T23:39:33.919290",
     "status": "completed"
    },
    "tags": []
   },
   "source": [
    "# Nest\n",
    "\n",
    "Prepares data for the Nest page "
   ]
  },
  {
   "cell_type": "code",
   "execution_count": 1,
   "id": "91ad6875",
   "metadata": {
    "execution": {
     "iopub.execute_input": "2023-10-29T23:39:33.926778Z",
     "iopub.status.busy": "2023-10-29T23:39:33.926119Z",
     "iopub.status.idle": "2023-10-29T23:39:43.937722Z",
     "shell.execute_reply": "2023-10-29T23:39:43.937009Z"
    },
    "papermill": {
     "duration": 10.016173,
     "end_time": "2023-10-29T23:39:43.939600",
     "exception": false,
     "start_time": "2023-10-29T23:39:33.923427",
     "status": "completed"
    },
    "tags": []
   },
   "outputs": [],
   "source": [
    "import os\n",
    "from events import (\n",
    "    load_event_data, filter_public_events, filter_by_project, prepare, save_files, count_wards\n",
    ")"
   ]
  },
  {
   "cell_type": "markdown",
   "id": "0b0f1558",
   "metadata": {
    "papermill": {
     "duration": 0.001949,
     "end_time": "2023-10-29T23:39:43.943520",
     "exception": false,
     "start_time": "2023-10-29T23:39:43.941571",
     "status": "completed"
    },
    "tags": []
   },
   "source": [
    "Set output directory"
   ]
  },
  {
   "cell_type": "code",
   "execution_count": 2,
   "id": "e81b92cd",
   "metadata": {
    "execution": {
     "iopub.execute_input": "2023-10-29T23:39:43.948336Z",
     "iopub.status.busy": "2023-10-29T23:39:43.947675Z",
     "iopub.status.idle": "2023-10-29T23:39:43.951664Z",
     "shell.execute_reply": "2023-10-29T23:39:43.951090Z"
    },
    "papermill": {
     "duration": 0.007961,
     "end_time": "2023-10-29T23:39:43.953118",
     "exception": false,
     "start_time": "2023-10-29T23:39:43.945157",
     "status": "completed"
    },
    "tags": []
   },
   "outputs": [],
   "source": [
    "OUT_DIR = '../../../../docs/metrics/events/nest/_data/events'"
   ]
  },
  {
   "cell_type": "markdown",
   "id": "30b052f6",
   "metadata": {
    "papermill": {
     "duration": 0.001583,
     "end_time": "2023-10-29T23:39:43.956320",
     "exception": false,
     "start_time": "2023-10-29T23:39:43.954737",
     "status": "completed"
    },
    "tags": []
   },
   "source": [
    "Read in event data and filter by **My LEEDS 2023** project.\n",
    "\n",
    "The criteria are:\n",
    "\n",
    "* project type is 'Produce (Signature)'\n",
    "* event_type contains 'Public Event -'\n",
    "\n",
    "It's then filtered by project_name is '10 - Melt'"
   ]
  },
  {
   "cell_type": "code",
   "execution_count": 3,
   "id": "01f7fd54",
   "metadata": {
    "execution": {
     "iopub.execute_input": "2023-10-29T23:39:43.960628Z",
     "iopub.status.busy": "2023-10-29T23:39:43.960228Z",
     "iopub.status.idle": "2023-10-29T23:39:43.988046Z",
     "shell.execute_reply": "2023-10-29T23:39:43.987344Z"
    },
    "papermill": {
     "duration": 0.031791,
     "end_time": "2023-10-29T23:39:43.989699",
     "exception": false,
     "start_time": "2023-10-29T23:39:43.957908",
     "status": "completed"
    },
    "tags": []
   },
   "outputs": [
    {
     "data": {
      "text/html": [
       "<div>\n",
       "<style scoped>\n",
       "    .dataframe tbody tr th:only-of-type {\n",
       "        vertical-align: middle;\n",
       "    }\n",
       "\n",
       "    .dataframe tbody tr th {\n",
       "        vertical-align: top;\n",
       "    }\n",
       "\n",
       "    .dataframe thead th {\n",
       "        text-align: right;\n",
       "    }\n",
       "</style>\n",
       "<table border=\"1\" class=\"dataframe\">\n",
       "  <thead>\n",
       "    <tr style=\"text-align: right;\">\n",
       "      <th></th>\n",
       "      <th>actual_audience_size_number_of_participants_in_person</th>\n",
       "      <th>actual_audience_size_number_of_participants_online</th>\n",
       "      <th>airtable_id</th>\n",
       "      <th>end_date</th>\n",
       "      <th>event_name</th>\n",
       "      <th>event_type</th>\n",
       "      <th>event_unique_identifier</th>\n",
       "      <th>number_of_booked_participants</th>\n",
       "      <th>postcode_(from_venue)</th>\n",
       "      <th>project_name</th>\n",
       "      <th>project_type</th>\n",
       "      <th>season</th>\n",
       "      <th>start_date</th>\n",
       "      <th>ticket_tailor_id</th>\n",
       "      <th>ward_(from_venue)</th>\n",
       "    </tr>\n",
       "  </thead>\n",
       "  <tbody>\n",
       "    <tr>\n",
       "      <th>1103</th>\n",
       "      <td>1338.0</td>\n",
       "      <td>NaN</td>\n",
       "      <td>241</td>\n",
       "      <td>2023-09-09</td>\n",
       "      <td>Melt (Run)</td>\n",
       "      <td>['Public Event - Performance']</td>\n",
       "      <td>10 - Melt: Melt (Run)</td>\n",
       "      <td>1542.0</td>\n",
       "      <td>['LS26 8AL']</td>\n",
       "      <td>10 - Melt</td>\n",
       "      <td>Produce (Signature)</td>\n",
       "      <td>['Season 3 - Dreaming']</td>\n",
       "      <td>2023-09-05</td>\n",
       "      <td>NaN</td>\n",
       "      <td>['Garforth and Swillington']</td>\n",
       "    </tr>\n",
       "  </tbody>\n",
       "</table>\n",
       "</div>"
      ],
      "text/plain": [
       "      actual_audience_size_number_of_participants_in_person  \\\n",
       "1103                                             1338.0       \n",
       "\n",
       "      actual_audience_size_number_of_participants_online  airtable_id  \\\n",
       "1103                                                NaN           241   \n",
       "\n",
       "        end_date  event_name                      event_type  \\\n",
       "1103  2023-09-09  Melt (Run)  ['Public Event - Performance']   \n",
       "\n",
       "     event_unique_identifier  number_of_booked_participants  \\\n",
       "1103   10 - Melt: Melt (Run)                         1542.0   \n",
       "\n",
       "     postcode_(from_venue) project_name         project_type  \\\n",
       "1103          ['LS26 8AL']    10 - Melt  Produce (Signature)   \n",
       "\n",
       "                       season start_date  ticket_tailor_id  \\\n",
       "1103  ['Season 3 - Dreaming'] 2023-09-05               NaN   \n",
       "\n",
       "                 ward_(from_venue)  \n",
       "1103  ['Garforth and Swillington']  "
      ]
     },
     "execution_count": 3,
     "metadata": {},
     "output_type": "execute_result"
    }
   ],
   "source": [
    "data = (\n",
    "  load_event_data()\n",
    "    .pipe(filter_by_project, '10 - Melt')\n",
    "    .pipe(filter_public_events)\n",
    "  )\n",
    "data"
   ]
  },
  {
   "cell_type": "markdown",
   "id": "8397f9fc",
   "metadata": {
    "papermill": {
     "duration": 0.001936,
     "end_time": "2023-10-29T23:39:43.993553",
     "exception": false,
     "start_time": "2023-10-29T23:39:43.991617",
     "status": "completed"
    },
    "tags": []
   },
   "source": [
    "Run the processing and save the files"
   ]
  },
  {
   "cell_type": "code",
   "execution_count": 4,
   "id": "80323338",
   "metadata": {
    "execution": {
     "iopub.execute_input": "2023-10-29T23:39:43.998531Z",
     "iopub.status.busy": "2023-10-29T23:39:43.998182Z",
     "iopub.status.idle": "2023-10-29T23:39:44.023890Z",
     "shell.execute_reply": "2023-10-29T23:39:44.023295Z"
    },
    "papermill": {
     "duration": 0.03002,
     "end_time": "2023-10-29T23:39:44.025423",
     "exception": false,
     "start_time": "2023-10-29T23:39:43.995403",
     "status": "completed"
    },
    "tags": []
   },
   "outputs": [],
   "source": [
    "data = data.pipe(prepare).pipe(save_files, OUT_DIR)"
   ]
  }
 ],
 "metadata": {
  "kernelspec": {
   "display_name": "leeds-2023-YZF5GfJv",
   "language": "python",
   "name": "python3"
  },
  "language_info": {
   "codemirror_mode": {
    "name": "ipython",
    "version": 3
   },
   "file_extension": ".py",
   "mimetype": "text/x-python",
   "name": "python",
   "nbconvert_exporter": "python",
   "pygments_lexer": "ipython3",
   "version": "3.10.13"
  },
  "papermill": {
   "default_parameters": {},
   "duration": 11.773349,
   "end_time": "2023-10-29T23:39:44.344793",
   "environment_variables": {},
   "exception": null,
   "input_path": "nest.ipynb",
   "output_path": "../../../../working/output/nest.ipynb",
   "parameters": {},
   "start_time": "2023-10-29T23:39:32.571444",
   "version": "2.4.0"
  }
 },
 "nbformat": 4,
 "nbformat_minor": 5
}