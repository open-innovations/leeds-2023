{
 "cells": [
  {
   "cell_type": "code",
   "execution_count": 1,
   "id": "0cd11d79",
   "metadata": {
    "execution": {
     "iopub.execute_input": "2023-12-18T10:00:21.040447Z",
     "iopub.status.busy": "2023-12-18T10:00:21.040156Z",
     "iopub.status.idle": "2023-12-18T10:00:21.229803Z",
     "shell.execute_reply": "2023-12-18T10:00:21.229374Z"
    },
    "papermill": {
     "duration": 0.194475,
     "end_time": "2023-12-18T10:00:21.230917",
     "exception": false,
     "start_time": "2023-12-18T10:00:21.036442",
     "status": "completed"
    },
    "tags": []
   },
   "outputs": [],
   "source": [
    "import sys\n",
    "from pathlib import Path\n",
    "\n",
    "import pandas as pd\n",
    "\n",
    "TOP_DIR = Path('../../../..').resolve()\n",
    "\n",
    "if str(TOP_DIR) not in sys.path: sys.path.append(str(TOP_DIR))"
   ]
  },
  {
   "cell_type": "code",
   "execution_count": 2,
   "id": "f9ad0686",
   "metadata": {
    "execution": {
     "iopub.execute_input": "2023-12-18T10:00:21.234871Z",
     "iopub.status.busy": "2023-12-18T10:00:21.234670Z",
     "iopub.status.idle": "2023-12-18T10:00:25.876499Z",
     "shell.execute_reply": "2023-12-18T10:00:25.876134Z"
    },
    "papermill": {
     "duration": 4.644931,
     "end_time": "2023-12-18T10:00:25.877622",
     "exception": false,
     "start_time": "2023-12-18T10:00:21.232691",
     "status": "completed"
    },
    "tags": []
   },
   "outputs": [],
   "source": [
    "from lib.util.geo import postcode_formatter, postcode_to_ward_code"
   ]
  },
  {
   "cell_type": "code",
   "execution_count": 3,
   "id": "ef1eab66",
   "metadata": {
    "execution": {
     "iopub.execute_input": "2023-12-18T10:00:25.881274Z",
     "iopub.status.busy": "2023-12-18T10:00:25.881123Z",
     "iopub.status.idle": "2023-12-18T10:00:25.895392Z",
     "shell.execute_reply": "2023-12-18T10:00:25.895021Z"
    },
    "papermill": {
     "duration": 0.017213,
     "end_time": "2023-12-18T10:00:25.896403",
     "exception": false,
     "start_time": "2023-12-18T10:00:25.879190",
     "status": "completed"
    },
    "tags": []
   },
   "outputs": [],
   "source": [
    "ticket_data = pd.read_csv(\n",
    "    '../../../../working/metrics/ticketing/orders.csv',\n",
    "    parse_dates=['created_at', 'event_date'],\n",
    "    usecols=[\n",
    "        'created_at',\n",
    "        'event_id',\n",
    "        'event_name',\n",
    "        'event_date',\n",
    "        'event_time',\n",
    "        'number_of_tickets',\n",
    "        'postcode_from_question',\n",
    "        'postcode_from_address',\n",
    "        'status',\n",
    "    ]\n",
    ")"
   ]
  },
  {
   "cell_type": "code",
   "execution_count": 4,
   "id": "0dc585b0",
   "metadata": {
    "execution": {
     "iopub.execute_input": "2023-12-18T10:00:25.899901Z",
     "iopub.status.busy": "2023-12-18T10:00:25.899737Z",
     "iopub.status.idle": "2023-12-18T10:00:25.905268Z",
     "shell.execute_reply": "2023-12-18T10:00:25.904938Z"
    },
    "papermill": {
     "duration": 0.008211,
     "end_time": "2023-12-18T10:00:25.906072",
     "exception": false,
     "start_time": "2023-12-18T10:00:25.897861",
     "status": "completed"
    },
    "tags": []
   },
   "outputs": [
    {
     "name": "stdout",
     "output_type": "stream",
     "text": [
      "<class 'pandas.core.frame.DataFrame'>\n",
      "RangeIndex: 6684 entries, 0 to 6683\n",
      "Data columns (total 9 columns):\n",
      " #   Column                  Non-Null Count  Dtype         \n",
      "---  ------                  --------------  -----         \n",
      " 0   postcode_from_question  6314 non-null   object        \n",
      " 1   postcode_from_address   850 non-null    object        \n",
      " 2   created_at              6684 non-null   datetime64[ns]\n",
      " 3   event_id                6684 non-null   object        \n",
      " 4   event_name              6684 non-null   object        \n",
      " 5   event_date              6684 non-null   datetime64[ns]\n",
      " 6   event_time              6684 non-null   object        \n",
      " 7   number_of_tickets       6684 non-null   int64         \n",
      " 8   status                  6684 non-null   object        \n",
      "dtypes: datetime64[ns](2), int64(1), object(6)\n",
      "memory usage: 470.1+ KB\n"
     ]
    }
   ],
   "source": [
    "ticket_data.info()"
   ]
  },
  {
   "cell_type": "code",
   "execution_count": 5,
   "id": "9a5d8e73",
   "metadata": {
    "execution": {
     "iopub.execute_input": "2023-12-18T10:00:25.909518Z",
     "iopub.status.busy": "2023-12-18T10:00:25.909386Z",
     "iopub.status.idle": "2023-12-18T10:00:25.912445Z",
     "shell.execute_reply": "2023-12-18T10:00:25.912161Z"
    },
    "papermill": {
     "duration": 0.005695,
     "end_time": "2023-12-18T10:00:25.913260",
     "exception": false,
     "start_time": "2023-12-18T10:00:25.907565",
     "status": "completed"
    },
    "tags": []
   },
   "outputs": [],
   "source": [
    "completed_orders = (\n",
    "    ticket_data.loc[\n",
    "        ~ticket_data.status.isin(['cancelled']),\n",
    "        ticket_data.columns\n",
    "    ]\n",
    ")"
   ]
  },
  {
   "cell_type": "code",
   "execution_count": 6,
   "id": "fde06384",
   "metadata": {
    "execution": {
     "iopub.execute_input": "2023-12-18T10:00:25.916630Z",
     "iopub.status.busy": "2023-12-18T10:00:25.916428Z",
     "iopub.status.idle": "2023-12-18T10:00:26.604588Z",
     "shell.execute_reply": "2023-12-18T10:00:26.604236Z"
    },
    "papermill": {
     "duration": 0.691017,
     "end_time": "2023-12-18T10:00:26.605712",
     "exception": false,
     "start_time": "2023-12-18T10:00:25.914695",
     "status": "completed"
    },
    "tags": []
   },
   "outputs": [],
   "source": [
    "completed_orders['ward_code'] = (\n",
    "    completed_orders\n",
    "        .loc[:, ['postcode_from_question', 'postcode_from_address']]\n",
    "        .bfill()\n",
    "        .iloc[:, 0]\n",
    "        .pipe(postcode_formatter)\n",
    "        .map(postcode_to_ward_code)\n",
    ")"
   ]
  },
  {
   "cell_type": "markdown",
   "id": "abf19c2a",
   "metadata": {
    "papermill": {
     "duration": 0.001481,
     "end_time": "2023-12-18T10:00:26.608882",
     "exception": false,
     "start_time": "2023-12-18T10:00:26.607401",
     "status": "completed"
    },
    "tags": []
   },
   "source": [
    "Get the events data"
   ]
  },
  {
   "cell_type": "code",
   "execution_count": 7,
   "id": "04aa7b31",
   "metadata": {
    "execution": {
     "iopub.execute_input": "2023-12-18T10:00:26.612338Z",
     "iopub.status.busy": "2023-12-18T10:00:26.612157Z",
     "iopub.status.idle": "2023-12-18T10:00:26.621631Z",
     "shell.execute_reply": "2023-12-18T10:00:26.621292Z"
    },
    "papermill": {
     "duration": 0.012265,
     "end_time": "2023-12-18T10:00:26.622567",
     "exception": false,
     "start_time": "2023-12-18T10:00:26.610302",
     "status": "completed"
    },
    "tags": []
   },
   "outputs": [],
   "source": [
    "def prepare_events(data: pd.DataFrame):\n",
    "    data = data.rename(columns={\n",
    "        'Project name': 'project_name',\n",
    "        'Event type': 'event_type',\n",
    "        'Ticket Tailor ID': 'ticket_tailor_id'\n",
    "    })\n",
    "    data['public_event'] = data.event_type.str.contains('Public Event')\n",
    "    data['ticket_tailor_id'] = data.ticket_tailor_id.str.split(\n",
    "        pat=r'[\\s,]+', regex=True)\n",
    "    data = data.drop(columns=['event_type'])\n",
    "    data = data.explode('ticket_tailor_id')\n",
    "    data = data.loc[data.ticket_tailor_id.notna() & (data.ticket_tailor_id != '')]\n",
    "    return data\n",
    "\n",
    "\n",
    "events = pd.read_csv(\n",
    "    '../../../../working/metrics/events/all.csv',\n",
    "    usecols=[\n",
    "        'Project name',\n",
    "        'Event type',\n",
    "        'Ticket Tailor ID'\n",
    "    ]\n",
    ").pipe(prepare_events)"
   ]
  },
  {
   "cell_type": "markdown",
   "id": "ac69198b",
   "metadata": {
    "papermill": {
     "duration": 0.001449,
     "end_time": "2023-12-18T10:00:26.626091",
     "exception": false,
     "start_time": "2023-12-18T10:00:26.624642",
     "status": "completed"
    },
    "tags": []
   },
   "source": [
    "Duplicated ticket tailor IDs"
   ]
  },
  {
   "cell_type": "code",
   "execution_count": 8,
   "id": "becb9cc7",
   "metadata": {
    "execution": {
     "iopub.execute_input": "2023-12-18T10:00:26.629651Z",
     "iopub.status.busy": "2023-12-18T10:00:26.629469Z",
     "iopub.status.idle": "2023-12-18T10:00:26.636252Z",
     "shell.execute_reply": "2023-12-18T10:00:26.635957Z"
    },
    "papermill": {
     "duration": 0.009531,
     "end_time": "2023-12-18T10:00:26.637042",
     "exception": false,
     "start_time": "2023-12-18T10:00:26.627511",
     "status": "completed"
    },
    "tags": []
   },
   "outputs": [
    {
     "data": {
      "text/html": [
       "<div>\n",
       "<style scoped>\n",
       "    .dataframe tbody tr th:only-of-type {\n",
       "        vertical-align: middle;\n",
       "    }\n",
       "\n",
       "    .dataframe tbody tr th {\n",
       "        vertical-align: top;\n",
       "    }\n",
       "\n",
       "    .dataframe thead th {\n",
       "        text-align: right;\n",
       "    }\n",
       "</style>\n",
       "<table border=\"1\" class=\"dataframe\">\n",
       "  <thead>\n",
       "    <tr style=\"text-align: right;\">\n",
       "      <th></th>\n",
       "      <th>project_name</th>\n",
       "      <th>ticket_tailor_id</th>\n",
       "      <th>public_event</th>\n",
       "    </tr>\n",
       "  </thead>\n",
       "  <tbody>\n",
       "    <tr>\n",
       "      <th>117</th>\n",
       "      <td>11 - All That Lives</td>\n",
       "      <td>985872</td>\n",
       "      <td>True</td>\n",
       "    </tr>\n",
       "    <tr>\n",
       "      <th>134</th>\n",
       "      <td>09 - Smeaton300: Moon Palace East Leeds Observ...</td>\n",
       "      <td>ev_2918127</td>\n",
       "      <td>True</td>\n",
       "    </tr>\n",
       "    <tr>\n",
       "      <th>159</th>\n",
       "      <td>11 - All That Lives</td>\n",
       "      <td>985872</td>\n",
       "      <td>True</td>\n",
       "    </tr>\n",
       "    <tr>\n",
       "      <th>251</th>\n",
       "      <td>Creative Learning S3</td>\n",
       "      <td>ev_3073624</td>\n",
       "      <td>False</td>\n",
       "    </tr>\n",
       "    <tr>\n",
       "      <th>309</th>\n",
       "      <td>11 - All That Lives</td>\n",
       "      <td>985872</td>\n",
       "      <td>True</td>\n",
       "    </tr>\n",
       "    <tr>\n",
       "      <th>608</th>\n",
       "      <td>11 - All That Lives</td>\n",
       "      <td>985872</td>\n",
       "      <td>True</td>\n",
       "    </tr>\n",
       "    <tr>\n",
       "      <th>887</th>\n",
       "      <td>07 - Children's Day</td>\n",
       "      <td>ev_2963290</td>\n",
       "      <td>NaN</td>\n",
       "    </tr>\n",
       "    <tr>\n",
       "      <th>887</th>\n",
       "      <td>07 - Children's Day</td>\n",
       "      <td>ev_2963290</td>\n",
       "      <td>NaN</td>\n",
       "    </tr>\n",
       "    <tr>\n",
       "      <th>887</th>\n",
       "      <td>07 - Children's Day</td>\n",
       "      <td>ev_2963295</td>\n",
       "      <td>NaN</td>\n",
       "    </tr>\n",
       "    <tr>\n",
       "      <th>887</th>\n",
       "      <td>07 - Children's Day</td>\n",
       "      <td>ev_2963297</td>\n",
       "      <td>NaN</td>\n",
       "    </tr>\n",
       "    <tr>\n",
       "      <th>887</th>\n",
       "      <td>07 - Children's Day</td>\n",
       "      <td>ev_2963295</td>\n",
       "      <td>NaN</td>\n",
       "    </tr>\n",
       "    <tr>\n",
       "      <th>887</th>\n",
       "      <td>07 - Children's Day</td>\n",
       "      <td>ev_2963296</td>\n",
       "      <td>NaN</td>\n",
       "    </tr>\n",
       "    <tr>\n",
       "      <th>887</th>\n",
       "      <td>07 - Children's Day</td>\n",
       "      <td>ev_2963296</td>\n",
       "      <td>NaN</td>\n",
       "    </tr>\n",
       "    <tr>\n",
       "      <th>887</th>\n",
       "      <td>07 - Children's Day</td>\n",
       "      <td>ev_2963297</td>\n",
       "      <td>NaN</td>\n",
       "    </tr>\n",
       "    <tr>\n",
       "      <th>928</th>\n",
       "      <td>11 - All That Lives</td>\n",
       "      <td>985872</td>\n",
       "      <td>True</td>\n",
       "    </tr>\n",
       "    <tr>\n",
       "      <th>1094</th>\n",
       "      <td>09 - Smeaton300: Moon Palace East Leeds Observ...</td>\n",
       "      <td>ev_2918127</td>\n",
       "      <td>True</td>\n",
       "    </tr>\n",
       "    <tr>\n",
       "      <th>1365</th>\n",
       "      <td>07 - Children's Day</td>\n",
       "      <td>ev_2963290</td>\n",
       "      <td>True</td>\n",
       "    </tr>\n",
       "    <tr>\n",
       "      <th>1365</th>\n",
       "      <td>07 - Children's Day</td>\n",
       "      <td>ev_2963295</td>\n",
       "      <td>True</td>\n",
       "    </tr>\n",
       "    <tr>\n",
       "      <th>1365</th>\n",
       "      <td>07 - Children's Day</td>\n",
       "      <td>ev_2963296</td>\n",
       "      <td>True</td>\n",
       "    </tr>\n",
       "    <tr>\n",
       "      <th>1365</th>\n",
       "      <td>07 - Children's Day</td>\n",
       "      <td>ev_2963297</td>\n",
       "      <td>True</td>\n",
       "    </tr>\n",
       "    <tr>\n",
       "      <th>1383</th>\n",
       "      <td>09 - Smeaton300: Moon Palace East Leeds Observ...</td>\n",
       "      <td>ev_2918127</td>\n",
       "      <td>True</td>\n",
       "    </tr>\n",
       "    <tr>\n",
       "      <th>1463</th>\n",
       "      <td>Creative Learning S3</td>\n",
       "      <td>ev_3073624</td>\n",
       "      <td>False</td>\n",
       "    </tr>\n",
       "  </tbody>\n",
       "</table>\n",
       "</div>"
      ],
      "text/plain": [
       "                                           project_name ticket_tailor_id  \\\n",
       "117                                 11 - All That Lives           985872   \n",
       "134   09 - Smeaton300: Moon Palace East Leeds Observ...       ev_2918127   \n",
       "159                                 11 - All That Lives           985872   \n",
       "251                                Creative Learning S3       ev_3073624   \n",
       "309                                 11 - All That Lives           985872   \n",
       "608                                 11 - All That Lives           985872   \n",
       "887                                 07 - Children's Day       ev_2963290   \n",
       "887                                 07 - Children's Day       ev_2963290   \n",
       "887                                 07 - Children's Day       ev_2963295   \n",
       "887                                 07 - Children's Day       ev_2963297   \n",
       "887                                 07 - Children's Day       ev_2963295   \n",
       "887                                 07 - Children's Day       ev_2963296   \n",
       "887                                 07 - Children's Day       ev_2963296   \n",
       "887                                 07 - Children's Day       ev_2963297   \n",
       "928                                 11 - All That Lives           985872   \n",
       "1094  09 - Smeaton300: Moon Palace East Leeds Observ...       ev_2918127   \n",
       "1365                                07 - Children's Day       ev_2963290   \n",
       "1365                                07 - Children's Day       ev_2963295   \n",
       "1365                                07 - Children's Day       ev_2963296   \n",
       "1365                                07 - Children's Day       ev_2963297   \n",
       "1383  09 - Smeaton300: Moon Palace East Leeds Observ...       ev_2918127   \n",
       "1463                               Creative Learning S3       ev_3073624   \n",
       "\n",
       "     public_event  \n",
       "117          True  \n",
       "134          True  \n",
       "159          True  \n",
       "251         False  \n",
       "309          True  \n",
       "608          True  \n",
       "887           NaN  \n",
       "887           NaN  \n",
       "887           NaN  \n",
       "887           NaN  \n",
       "887           NaN  \n",
       "887           NaN  \n",
       "887           NaN  \n",
       "887           NaN  \n",
       "928          True  \n",
       "1094         True  \n",
       "1365         True  \n",
       "1365         True  \n",
       "1365         True  \n",
       "1365         True  \n",
       "1383         True  \n",
       "1463        False  "
      ]
     },
     "execution_count": 8,
     "metadata": {},
     "output_type": "execute_result"
    }
   ],
   "source": [
    "events[\n",
    "  events.ticket_tailor_id.isin(\n",
    "    events.ticket_tailor_id[\n",
    "      events.ticket_tailor_id.duplicated()\n",
    "    ].to_list()\n",
    "  )\n",
    "]"
   ]
  },
  {
   "cell_type": "code",
   "execution_count": 9,
   "id": "21aa71ec",
   "metadata": {
    "execution": {
     "iopub.execute_input": "2023-12-18T10:00:26.640879Z",
     "iopub.status.busy": "2023-12-18T10:00:26.640729Z",
     "iopub.status.idle": "2023-12-18T10:00:26.643071Z",
     "shell.execute_reply": "2023-12-18T10:00:26.642806Z"
    },
    "papermill": {
     "duration": 0.005102,
     "end_time": "2023-12-18T10:00:26.643849",
     "exception": false,
     "start_time": "2023-12-18T10:00:26.638747",
     "status": "completed"
    },
    "tags": []
   },
   "outputs": [
    {
     "data": {
      "text/plain": [
       "6519"
      ]
     },
     "execution_count": 9,
     "metadata": {},
     "output_type": "execute_result"
    }
   ],
   "source": [
    "len(completed_orders)"
   ]
  },
  {
   "cell_type": "code",
   "execution_count": 10,
   "id": "60541516",
   "metadata": {
    "execution": {
     "iopub.execute_input": "2023-12-18T10:00:26.647677Z",
     "iopub.status.busy": "2023-12-18T10:00:26.647529Z",
     "iopub.status.idle": "2023-12-18T10:00:26.652585Z",
     "shell.execute_reply": "2023-12-18T10:00:26.652260Z"
    },
    "papermill": {
     "duration": 0.00789,
     "end_time": "2023-12-18T10:00:26.653438",
     "exception": false,
     "start_time": "2023-12-18T10:00:26.645548",
     "status": "completed"
    },
    "tags": []
   },
   "outputs": [],
   "source": [
    "completed_orders = completed_orders.merge(\n",
    "    events.drop_duplicates().set_index('ticket_tailor_id'),\n",
    "    left_on='event_id',\n",
    "    right_index=True,\n",
    "    how='left'\n",
    ")"
   ]
  },
  {
   "cell_type": "code",
   "execution_count": 11,
   "id": "1fc3a8b7",
   "metadata": {
    "execution": {
     "iopub.execute_input": "2023-12-18T10:00:26.657489Z",
     "iopub.status.busy": "2023-12-18T10:00:26.657337Z",
     "iopub.status.idle": "2023-12-18T10:00:26.659734Z",
     "shell.execute_reply": "2023-12-18T10:00:26.659464Z"
    },
    "papermill": {
     "duration": 0.005159,
     "end_time": "2023-12-18T10:00:26.660406",
     "exception": false,
     "start_time": "2023-12-18T10:00:26.655247",
     "status": "completed"
    },
    "tags": []
   },
   "outputs": [
    {
     "data": {
      "text/plain": [
       "6527"
      ]
     },
     "execution_count": 11,
     "metadata": {},
     "output_type": "execute_result"
    }
   ],
   "source": [
    "len(completed_orders)"
   ]
  },
  {
   "cell_type": "code",
   "execution_count": 12,
   "id": "76452a9b",
   "metadata": {
    "execution": {
     "iopub.execute_input": "2023-12-18T10:00:26.664359Z",
     "iopub.status.busy": "2023-12-18T10:00:26.664219Z",
     "iopub.status.idle": "2023-12-18T10:00:26.666187Z",
     "shell.execute_reply": "2023-12-18T10:00:26.665916Z"
    },
    "papermill": {
     "duration": 0.004719,
     "end_time": "2023-12-18T10:00:26.666875",
     "exception": false,
     "start_time": "2023-12-18T10:00:26.662156",
     "status": "completed"
    },
    "tags": []
   },
   "outputs": [],
   "source": [
    "OUTPUT_DIR = TOP_DIR.joinpath('data/metrics/events/tickets/')\n",
    "OUTPUT_DIR.mkdir(parents=True, exist_ok=True)"
   ]
  },
  {
   "cell_type": "code",
   "execution_count": 13,
   "id": "916aad94",
   "metadata": {
    "execution": {
     "iopub.execute_input": "2023-12-18T10:00:26.670880Z",
     "iopub.status.busy": "2023-12-18T10:00:26.670740Z",
     "iopub.status.idle": "2023-12-18T10:00:26.687287Z",
     "shell.execute_reply": "2023-12-18T10:00:26.686953Z"
    },
    "papermill": {
     "duration": 0.019519,
     "end_time": "2023-12-18T10:00:26.688199",
     "exception": false,
     "start_time": "2023-12-18T10:00:26.668680",
     "status": "completed"
    },
    "tags": []
   },
   "outputs": [],
   "source": [
    "completed_orders.loc[:, [\n",
    "    'created_at',\n",
    "    'event_id',\n",
    "    'event_date',\n",
    "    'number_of_tickets',\n",
    "    'ward_code',\n",
    "    'project_name',\n",
    "    'public_event',\n",
    "]].sort_values(['created_at', 'event_id']).to_csv(\n",
    "  OUTPUT_DIR.joinpath('orders.csv'),\n",
    "  index=False\n",
    ")"
   ]
  },
  {
   "cell_type": "code",
   "execution_count": 14,
   "id": "34487c90",
   "metadata": {
    "execution": {
     "iopub.execute_input": "2023-12-18T10:00:26.692449Z",
     "iopub.status.busy": "2023-12-18T10:00:26.692279Z",
     "iopub.status.idle": "2023-12-18T10:00:26.698206Z",
     "shell.execute_reply": "2023-12-18T10:00:26.697898Z"
    },
    "papermill": {
     "duration": 0.008836,
     "end_time": "2023-12-18T10:00:26.698904",
     "exception": false,
     "start_time": "2023-12-18T10:00:26.690068",
     "status": "completed"
    },
    "tags": []
   },
   "outputs": [],
   "source": [
    "(\n",
    "    completed_orders.loc[:, ['event_date', 'event_time', 'event_name', 'event_id', 'project_name', 'public_event']]\n",
    "      .drop_duplicates()\n",
    "      .sort_values(['event_date', 'event_time'])\n",
    "      .to_csv('../../../../data/metrics/events/tickets/events.csv', index=False)\n",
    ")"
   ]
  },
  {
   "cell_type": "code",
   "execution_count": 15,
   "id": "40d49487",
   "metadata": {
    "execution": {
     "iopub.execute_input": "2023-12-18T10:00:26.703099Z",
     "iopub.status.busy": "2023-12-18T10:00:26.702949Z",
     "iopub.status.idle": "2023-12-18T10:00:26.983955Z",
     "shell.execute_reply": "2023-12-18T10:00:26.983627Z"
    },
    "papermill": {
     "duration": 0.284085,
     "end_time": "2023-12-18T10:00:26.984842",
     "exception": false,
     "start_time": "2023-12-18T10:00:26.700757",
     "status": "completed"
    },
    "tags": []
   },
   "outputs": [
    {
     "data": {
      "image/png": "[encoded data removed]",
      "text/plain": [
       "<Figure size 640x480 with 1 Axes>"
      ]
     },
     "metadata": {},
     "output_type": "display_data"
    }
   ],
   "source": [
    "chart = completed_orders.groupby(['project_name']).number_of_tickets.sum().sort_values().plot.barh()"
   ]
  },
  {
   "cell_type": "code",
   "execution_count": 16,
   "id": "f66ed298",
   "metadata": {
    "execution": {
     "iopub.execute_input": "2023-12-18T10:00:26.990440Z",
     "iopub.status.busy": "2023-12-18T10:00:26.990254Z",
     "iopub.status.idle": "2023-12-18T10:00:27.093319Z",
     "shell.execute_reply": "2023-12-18T10:00:27.092816Z"
    },
    "papermill": {
     "duration": 0.107148,
     "end_time": "2023-12-18T10:00:27.094509",
     "exception": false,
     "start_time": "2023-12-18T10:00:26.987361",
     "status": "completed"
    },
    "tags": []
   },
   "outputs": [
    {
     "data": {
      "image/png": "[encoded data removed]",
      "text/plain": [
       "<Figure size 640x480 with 1 Axes>"
      ]
     },
     "metadata": {},
     "output_type": "display_data"
    }
   ],
   "source": [
    "chart = completed_orders.groupby([\n",
    "    'event_date'\n",
    "    ]).number_of_tickets.sum().resample('M').sum().cumsum().plot.bar()"
   ]
  },
  {
   "cell_type": "code",
   "execution_count": null,
   "id": "ed7570c1",
   "metadata": {
    "papermill": {
     "duration": 0.004237,
     "end_time": "2023-12-18T10:00:27.103066",
     "exception": false,
     "start_time": "2023-12-18T10:00:27.098829",
     "status": "completed"
    },
    "tags": []
   },
   "outputs": [],
   "source": []
  }
 ],
 "metadata": {
  "kernelspec": {
   "display_name": "leeds-2023-YZF5GfJv",
   "language": "python",
   "name": "python3"
  },
  "language_info": {
   "codemirror_mode": {
    "name": "ipython",
    "version": 3
   },
   "file_extension": ".py",
   "mimetype": "text/x-python",
   "name": "python",
   "nbconvert_exporter": "python",
   "pygments_lexer": "ipython3",
   "version": "3.10.12"
  },
  "papermill": {
   "default_parameters": {},
   "duration": 7.236469,
   "end_time": "2023-12-18T10:00:27.423296",
   "environment_variables": {},
   "exception": null,
   "input_path": "tickets.ipynb",
   "output_path": "../../../../working/output/tickets-transform.ipynb",
   "parameters": {},
   "start_time": "2023-12-18T10:00:20.186827",
   "version": "2.4.0"
  }
 },
 "nbformat": 4,
 "nbformat_minor": 5
}