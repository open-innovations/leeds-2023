{
 "cells": [
  {
   "cell_type": "code",
   "execution_count": 1,
   "id": "42ae746d",
   "metadata": {
    "execution": {
     "iopub.execute_input": "2023-09-13T23:40:36.611659Z",
     "iopub.status.busy": "2023-09-13T23:40:36.611229Z",
     "iopub.status.idle": "2023-09-13T23:40:50.700190Z",
     "shell.execute_reply": "2023-09-13T23:40:50.699029Z"
    },
    "papermill": {
     "duration": 14.097312,
     "end_time": "2023-09-13T23:40:50.703023",
     "exception": false,
     "start_time": "2023-09-13T23:40:36.605711",
     "status": "completed"
    },
    "tags": []
   },
   "outputs": [],
   "source": [
    "import os\n",
    "import pandas as pd\n",
    "from events import load_event_data, get_first_ward, normalise_ward"
   ]
  },
  {
   "cell_type": "code",
   "execution_count": 2,
   "id": "86d65659",
   "metadata": {
    "execution": {
     "iopub.execute_input": "2023-09-13T23:40:50.711382Z",
     "iopub.status.busy": "2023-09-13T23:40:50.711006Z",
     "iopub.status.idle": "2023-09-13T23:40:50.716724Z",
     "shell.execute_reply": "2023-09-13T23:40:50.715655Z"
    },
    "papermill": {
     "duration": 0.016353,
     "end_time": "2023-09-13T23:40:50.723109",
     "exception": false,
     "start_time": "2023-09-13T23:40:50.706756",
     "status": "completed"
    },
    "tags": []
   },
   "outputs": [],
   "source": [
    "latest_date = pd.Timestamp.today().ceil('D')"
   ]
  },
  {
   "cell_type": "code",
   "execution_count": 3,
   "id": "6defed76",
   "metadata": {
    "execution": {
     "iopub.execute_input": "2023-09-13T23:40:50.737115Z",
     "iopub.status.busy": "2023-09-13T23:40:50.736223Z",
     "iopub.status.idle": "2023-09-13T23:40:50.763116Z",
     "shell.execute_reply": "2023-09-13T23:40:50.762115Z"
    },
    "papermill": {
     "duration": 0.039417,
     "end_time": "2023-09-13T23:40:50.765717",
     "exception": false,
     "start_time": "2023-09-13T23:40:50.726300",
     "status": "completed"
    },
    "tags": []
   },
   "outputs": [],
   "source": [
    "tickets = pd.read_csv('../../../../data/metrics/events/tickets/orders.csv', parse_dates=['created_at', 'event_date'])\n",
    "tickets = tickets[tickets.event_date <= latest_date]"
   ]
  },
  {
   "cell_type": "code",
   "execution_count": 4,
   "id": "e1e988d0",
   "metadata": {
    "execution": {
     "iopub.execute_input": "2023-09-13T23:40:50.773250Z",
     "iopub.status.busy": "2023-09-13T23:40:50.772917Z",
     "iopub.status.idle": "2023-09-13T23:40:51.102098Z",
     "shell.execute_reply": "2023-09-13T23:40:51.100714Z"
    },
    "papermill": {
     "duration": 0.336245,
     "end_time": "2023-09-13T23:40:51.105053",
     "exception": false,
     "start_time": "2023-09-13T23:40:50.768808",
     "status": "completed"
    },
    "tags": []
   },
   "outputs": [],
   "source": [
    "events = load_event_data()\n",
    "\n",
    "events = pd.concat([\n",
    "  events,\n",
    "  events.pipe(get_first_ward).pipe(normalise_ward).fillna('UNKNOWN'),\n",
    "  pd.Series(\n",
    "      events.actual_audience_size_number_of_participants_in_person + events.actual_audience_size_number_of_participants_online,\n",
    "      name='attendances'\n",
    "  )\n",
    "], axis=1).rename(columns={\n",
    "    'start_date': 'date'\n",
    "}).loc[:, ['ward_code', 'date', 'event_unique_identifier', 'attendances']]"
   ]
  },
  {
   "cell_type": "code",
   "execution_count": 5,
   "id": "9412bd92",
   "metadata": {
    "execution": {
     "iopub.execute_input": "2023-09-13T23:40:51.112902Z",
     "iopub.status.busy": "2023-09-13T23:40:51.112527Z",
     "iopub.status.idle": "2023-09-13T23:40:51.117165Z",
     "shell.execute_reply": "2023-09-13T23:40:51.116201Z"
    },
    "papermill": {
     "duration": 0.011682,
     "end_time": "2023-09-13T23:40:51.119956",
     "exception": false,
     "start_time": "2023-09-13T23:40:51.108274",
     "status": "completed"
    },
    "tags": []
   },
   "outputs": [],
   "source": [
    "OUTPUT_DIR='../../../../docs/metrics/events/signature/_data/'\n",
    "os.makedirs(OUTPUT_DIR, exist_ok=True)"
   ]
  },
  {
   "cell_type": "markdown",
   "id": "3b4364ba",
   "metadata": {
    "papermill": {
     "duration": 0.003071,
     "end_time": "2023-09-13T23:40:51.125972",
     "exception": false,
     "start_time": "2023-09-13T23:40:51.122901",
     "status": "completed"
    },
    "tags": []
   },
   "source": [
    "Events CSVs"
   ]
  },
  {
   "cell_type": "code",
   "execution_count": 6,
   "id": "3333733c",
   "metadata": {
    "execution": {
     "iopub.execute_input": "2023-09-13T23:40:51.134228Z",
     "iopub.status.busy": "2023-09-13T23:40:51.133843Z",
     "iopub.status.idle": "2023-09-13T23:40:51.144189Z",
     "shell.execute_reply": "2023-09-13T23:40:51.143204Z"
    },
    "papermill": {
     "duration": 0.017676,
     "end_time": "2023-09-13T23:40:51.146556",
     "exception": false,
     "start_time": "2023-09-13T23:40:51.128880",
     "status": "completed"
    },
    "tags": []
   },
   "outputs": [],
   "source": [
    "pd.DataFrame({\n",
    "  'events': events.groupby('ward_code').event_unique_identifier.count(),\n",
    "  'attendances': events.groupby('ward_code').attendances.sum().astype(int),\n",
    "}).to_csv(os.path.join(OUTPUT_DIR, 'events_by_ward.csv'))\n"
   ]
  },
  {
   "cell_type": "code",
   "execution_count": 7,
   "id": "4d0a3480",
   "metadata": {
    "execution": {
     "iopub.execute_input": "2023-09-13T23:40:51.154259Z",
     "iopub.status.busy": "2023-09-13T23:40:51.153986Z",
     "iopub.status.idle": "2023-09-13T23:40:51.169668Z",
     "shell.execute_reply": "2023-09-13T23:40:51.168616Z"
    },
    "papermill": {
     "duration": 0.022184,
     "end_time": "2023-09-13T23:40:51.171989",
     "exception": false,
     "start_time": "2023-09-13T23:40:51.149805",
     "status": "completed"
    },
    "tags": []
   },
   "outputs": [],
   "source": [
    "pd.DataFrame({\n",
    "  'events': events.groupby('date').event_unique_identifier.count(),\n",
    "  'attendances': events.groupby('date').attendances.sum().astype(int),\n",
    "}).resample('M').sum().astype(int).to_csv(os.path.join(OUTPUT_DIR, 'events_by_date.csv'))"
   ]
  },
  {
   "cell_type": "markdown",
   "id": "64e22d9b",
   "metadata": {
    "papermill": {
     "duration": 0.003008,
     "end_time": "2023-09-13T23:40:51.178309",
     "exception": false,
     "start_time": "2023-09-13T23:40:51.175301",
     "status": "completed"
    },
    "tags": []
   },
   "source": [
    "Tickets CSV"
   ]
  },
  {
   "cell_type": "code",
   "execution_count": 8,
   "id": "89ca7860",
   "metadata": {
    "execution": {
     "iopub.execute_input": "2023-09-13T23:40:51.187019Z",
     "iopub.status.busy": "2023-09-13T23:40:51.186599Z",
     "iopub.status.idle": "2023-09-13T23:40:51.199190Z",
     "shell.execute_reply": "2023-09-13T23:40:51.198049Z"
    },
    "papermill": {
     "duration": 0.020255,
     "end_time": "2023-09-13T23:40:51.201831",
     "exception": false,
     "start_time": "2023-09-13T23:40:51.181576",
     "status": "completed"
    },
    "tags": []
   },
   "outputs": [],
   "source": [
    "pd.DataFrame({\n",
    "  'orders': tickets.groupby('ward_code').number_of_tickets.count(),\n",
    "  'tickets': tickets.groupby('ward_code').number_of_tickets.sum().astype(int),\n",
    "}).to_csv(os.path.join(OUTPUT_DIR, 'tickets_by_ward.csv'))"
   ]
  },
  {
   "cell_type": "code",
   "execution_count": 9,
   "id": "b65fd014",
   "metadata": {
    "execution": {
     "iopub.execute_input": "2023-09-13T23:40:51.210377Z",
     "iopub.status.busy": "2023-09-13T23:40:51.209885Z",
     "iopub.status.idle": "2023-09-13T23:40:51.223449Z",
     "shell.execute_reply": "2023-09-13T23:40:51.222436Z"
    },
    "papermill": {
     "duration": 0.020324,
     "end_time": "2023-09-13T23:40:51.225682",
     "exception": false,
     "start_time": "2023-09-13T23:40:51.205358",
     "status": "completed"
    },
    "tags": []
   },
   "outputs": [],
   "source": [
    "pd.DataFrame({\n",
    "  'orders': tickets.groupby('event_date').number_of_tickets.count(),\n",
    "  'tickets': tickets.groupby('event_date').number_of_tickets.sum().astype(int),\n",
    "}).resample('M').sum().to_csv(os.path.join(OUTPUT_DIR, 'tickets_by_event_date.csv'))"
   ]
  },
  {
   "cell_type": "code",
   "execution_count": 10,
   "id": "8fffd024",
   "metadata": {
    "execution": {
     "iopub.execute_input": "2023-09-13T23:40:51.238649Z",
     "iopub.status.busy": "2023-09-13T23:40:51.237435Z",
     "iopub.status.idle": "2023-09-13T23:40:51.246489Z",
     "shell.execute_reply": "2023-09-13T23:40:51.245456Z"
    },
    "papermill": {
     "duration": 0.017924,
     "end_time": "2023-09-13T23:40:51.248699",
     "exception": false,
     "start_time": "2023-09-13T23:40:51.230775",
     "status": "completed"
    },
    "tags": []
   },
   "outputs": [],
   "source": [
    "pd.Series({\n",
    "    'total_events': events.event_unique_identifier.count(),\n",
    "    'total_attendances': events.attendances.count(),\n",
    "    'first_event': events.date.min(),\n",
    "    'latest_event': events.date.max(),\n",
    "    'total_ticket_orders_for_events_to_date': tickets.number_of_tickets.count(),\n",
    "    'total_tickets_sold_for_events_to_date': tickets.number_of_tickets.sum(),\n",
    "}).to_json(os.path.join(OUTPUT_DIR, 'headlines.json'), indent=2)"
   ]
  },
  {
   "cell_type": "code",
   "execution_count": null,
   "id": "8ad07d58",
   "metadata": {
    "papermill": {
     "duration": 0.003856,
     "end_time": "2023-09-13T23:40:51.255994",
     "exception": false,
     "start_time": "2023-09-13T23:40:51.252138",
     "status": "completed"
    },
    "tags": []
   },
   "outputs": [],
   "source": []
  }
 ],
 "metadata": {
  "kernelspec": {
   "display_name": "leeds-2023-YZF5GfJv",
   "language": "python",
   "name": "python3"
  },
  "language_info": {
   "codemirror_mode": {
    "name": "ipython",
    "version": 3
   },
   "file_extension": ".py",
   "mimetype": "text/x-python",
   "name": "python",
   "nbconvert_exporter": "python",
   "pygments_lexer": "ipython3",
   "version": "3.10.13"
  },
  "papermill": {
   "default_parameters": {},
   "duration": 17.045038,
   "end_time": "2023-09-13T23:40:51.780383",
   "environment_variables": {},
   "exception": null,
   "input_path": "prepare.ipynb",
   "output_path": "../../../../working/output/signature-prepare.ipynb",
   "parameters": {},
   "start_time": "2023-09-13T23:40:34.735345",
   "version": "2.4.0"
  }
 },
 "nbformat": 4,
 "nbformat_minor": 5
}