{
 "cells": [
  {
   "cell_type": "code",
   "execution_count": 1,
   "id": "abb8aca0",
   "metadata": {
    "execution": {
     "iopub.execute_input": "2023-09-16T23:39:38.333603Z",
     "iopub.status.busy": "2023-09-16T23:39:38.332906Z",
     "iopub.status.idle": "2023-09-16T23:39:38.583524Z",
     "shell.execute_reply": "2023-09-16T23:39:38.582860Z"
    },
    "papermill": {
     "duration": 0.255287,
     "end_time": "2023-09-16T23:39:38.585337",
     "exception": false,
     "start_time": "2023-09-16T23:39:38.330050",
     "status": "completed"
    },
    "tags": []
   },
   "outputs": [],
   "source": [
    "import os\n",
    "import pandas as pd"
   ]
  },
  {
   "cell_type": "code",
   "execution_count": 2,
   "id": "31913e30",
   "metadata": {
    "execution": {
     "iopub.execute_input": "2023-09-16T23:39:38.589955Z",
     "iopub.status.busy": "2023-09-16T23:39:38.589661Z",
     "iopub.status.idle": "2023-09-16T23:39:38.593964Z",
     "shell.execute_reply": "2023-09-16T23:39:38.593373Z"
    },
    "papermill": {
     "duration": 0.007985,
     "end_time": "2023-09-16T23:39:38.595336",
     "exception": false,
     "start_time": "2023-09-16T23:39:38.587351",
     "status": "completed"
    },
    "tags": []
   },
   "outputs": [],
   "source": [
    "EVENTS_RAW_DATA = '../../../working/metrics/promote-events/events.csv'\n",
    "DATA_DIR = '../../../data/metrics/events/promote-events/'\n",
    "EVENTS_DATA = os.path.join(DATA_DIR, 'events.csv')"
   ]
  },
  {
   "cell_type": "code",
   "execution_count": 3,
   "id": "e89ff92c",
   "metadata": {
    "execution": {
     "iopub.execute_input": "2023-09-16T23:39:38.599258Z",
     "iopub.status.busy": "2023-09-16T23:39:38.598683Z",
     "iopub.status.idle": "2023-09-16T23:39:38.602110Z",
     "shell.execute_reply": "2023-09-16T23:39:38.601472Z"
    },
    "papermill": {
     "duration": 0.006882,
     "end_time": "2023-09-16T23:39:38.603561",
     "exception": false,
     "start_time": "2023-09-16T23:39:38.596679",
     "status": "completed"
    },
    "tags": []
   },
   "outputs": [],
   "source": [
    "columns = {\n",
    "    'id': 'id',\n",
    "    'name': 'name',\n",
    "    'locationName': 'location',\n",
    "    'cardPrice': 'card_price',\n",
    "    'timeslots': 'time',\n",
    "    # 'displayOnWebsite': 'display',\n",
    "    'Stage': 'stage',\n",
    "}"
   ]
  },
  {
   "cell_type": "code",
   "execution_count": 4,
   "id": "7445c9c6",
   "metadata": {
    "execution": {
     "iopub.execute_input": "2023-09-16T23:39:38.608187Z",
     "iopub.status.busy": "2023-09-16T23:39:38.606943Z",
     "iopub.status.idle": "2023-09-16T23:39:38.618245Z",
     "shell.execute_reply": "2023-09-16T23:39:38.617652Z"
    },
    "papermill": {
     "duration": 0.014883,
     "end_time": "2023-09-16T23:39:38.619778",
     "exception": false,
     "start_time": "2023-09-16T23:39:38.604895",
     "status": "completed"
    },
    "tags": []
   },
   "outputs": [],
   "source": [
    "data = pd.read_csv(EVENTS_RAW_DATA)[columns.keys()].rename(columns=columns)\n",
    "data.time = pd.to_datetime(data.time, errors='coerce')"
   ]
  },
  {
   "cell_type": "code",
   "execution_count": 5,
   "id": "d79f4ec5",
   "metadata": {
    "execution": {
     "iopub.execute_input": "2023-09-16T23:39:38.623716Z",
     "iopub.status.busy": "2023-09-16T23:39:38.623296Z",
     "iopub.status.idle": "2023-09-16T23:39:38.628819Z",
     "shell.execute_reply": "2023-09-16T23:39:38.628239Z"
    },
    "papermill": {
     "duration": 0.009034,
     "end_time": "2023-09-16T23:39:38.630211",
     "exception": false,
     "start_time": "2023-09-16T23:39:38.621177",
     "status": "completed"
    },
    "tags": []
   },
   "outputs": [],
   "source": [
    "data.to_csv(os.path.join(DATA_DIR, 'events.csv'), index=False)"
   ]
  }
 ],
 "metadata": {
  "kernelspec": {
   "display_name": "leeds-2023-YZF5GfJv",
   "language": "python",
   "name": "python3"
  },
  "language_info": {
   "codemirror_mode": {
    "name": "ipython",
    "version": 3
   },
   "file_extension": ".py",
   "mimetype": "text/x-python",
   "name": "python",
   "nbconvert_exporter": "python",
   "pygments_lexer": "ipython3",
   "version": "3.10.13"
  },
  "papermill": {
   "default_parameters": {},
   "duration": 1.873736,
   "end_time": "2023-09-16T23:39:38.848771",
   "environment_variables": {},
   "exception": null,
   "input_path": "transform.ipynb",
   "output_path": "../../../working/output/promote-events-transform.ipynb",
   "parameters": {},
   "start_time": "2023-09-16T23:39:36.975035",
   "version": "2.4.0"
  }
 },
 "nbformat": 4,
 "nbformat_minor": 5
}