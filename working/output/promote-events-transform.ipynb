{
 "cells": [
  {
   "cell_type": "code",
   "execution_count": 1,
   "id": "318c86ca",
   "metadata": {
    "execution": {
     "iopub.execute_input": "2023-09-08T09:02:23.162875Z",
     "iopub.status.busy": "2023-09-08T09:02:23.162200Z",
     "iopub.status.idle": "2023-09-08T09:02:23.405430Z",
     "shell.execute_reply": "2023-09-08T09:02:23.404772Z"
    },
    "papermill": {
     "duration": 0.248228,
     "end_time": "2023-09-08T09:02:23.407610",
     "exception": false,
     "start_time": "2023-09-08T09:02:23.159382",
     "status": "completed"
    },
    "tags": []
   },
   "outputs": [],
   "source": [
    "import os\n",
    "import pandas as pd"
   ]
  },
  {
   "cell_type": "code",
   "execution_count": 2,
   "id": "f91a1027",
   "metadata": {
    "execution": {
     "iopub.execute_input": "2023-09-08T09:02:23.412112Z",
     "iopub.status.busy": "2023-09-08T09:02:23.411578Z",
     "iopub.status.idle": "2023-09-08T09:02:23.415076Z",
     "shell.execute_reply": "2023-09-08T09:02:23.414447Z"
    },
    "papermill": {
     "duration": 0.007397,
     "end_time": "2023-09-08T09:02:23.416676",
     "exception": false,
     "start_time": "2023-09-08T09:02:23.409279",
     "status": "completed"
    },
    "tags": []
   },
   "outputs": [],
   "source": [
    "EVENTS_RAW_DATA = '../../../working/metrics/promote-events/events.csv'\n",
    "DATA_DIR = '../../../data/metrics/events/promote-events/'\n",
    "EVENTS_DATA = os.path.join(DATA_DIR, 'events.csv')"
   ]
  },
  {
   "cell_type": "code",
   "execution_count": 3,
   "id": "3196a1c5",
   "metadata": {
    "execution": {
     "iopub.execute_input": "2023-09-08T09:02:23.420544Z",
     "iopub.status.busy": "2023-09-08T09:02:23.420018Z",
     "iopub.status.idle": "2023-09-08T09:02:23.423401Z",
     "shell.execute_reply": "2023-09-08T09:02:23.422791Z"
    },
    "papermill": {
     "duration": 0.006782,
     "end_time": "2023-09-08T09:02:23.424803",
     "exception": false,
     "start_time": "2023-09-08T09:02:23.418021",
     "status": "completed"
    },
    "tags": []
   },
   "outputs": [],
   "source": [
    "columns = {\n",
    "    'id': 'id',\n",
    "    'name': 'name',\n",
    "    'locationName': 'location',\n",
    "    'cardPrice': 'card_price',\n",
    "    'timeslots': 'time',\n",
    "    # 'displayOnWebsite': 'display',\n",
    "    'Stage': 'stage',\n",
    "}"
   ]
  },
  {
   "cell_type": "code",
   "execution_count": 4,
   "id": "236ed141",
   "metadata": {
    "execution": {
     "iopub.execute_input": "2023-09-08T09:02:23.428578Z",
     "iopub.status.busy": "2023-09-08T09:02:23.428250Z",
     "iopub.status.idle": "2023-09-08T09:02:23.439528Z",
     "shell.execute_reply": "2023-09-08T09:02:23.438332Z"
    },
    "papermill": {
     "duration": 0.014775,
     "end_time": "2023-09-08T09:02:23.441041",
     "exception": false,
     "start_time": "2023-09-08T09:02:23.426266",
     "status": "completed"
    },
    "tags": []
   },
   "outputs": [],
   "source": [
    "data = pd.read_csv(EVENTS_RAW_DATA)[columns.keys()].rename(columns=columns)\n",
    "data.time = pd.to_datetime(data.time, errors='coerce')"
   ]
  },
  {
   "cell_type": "code",
   "execution_count": 5,
   "id": "e0f6d0b4",
   "metadata": {
    "execution": {
     "iopub.execute_input": "2023-09-08T09:02:23.444914Z",
     "iopub.status.busy": "2023-09-08T09:02:23.444490Z",
     "iopub.status.idle": "2023-09-08T09:02:23.449849Z",
     "shell.execute_reply": "2023-09-08T09:02:23.449270Z"
    },
    "papermill": {
     "duration": 0.008923,
     "end_time": "2023-09-08T09:02:23.451337",
     "exception": false,
     "start_time": "2023-09-08T09:02:23.442414",
     "status": "completed"
    },
    "tags": []
   },
   "outputs": [],
   "source": [
    "data.to_csv(os.path.join(DATA_DIR, 'events.csv'), index=False)"
   ]
  }
 ],
 "metadata": {
  "kernelspec": {
   "display_name": "leeds-2023-YZF5GfJv",
   "language": "python",
   "name": "python3"
  },
  "language_info": {
   "codemirror_mode": {
    "name": "ipython",
    "version": 3
   },
   "file_extension": ".py",
   "mimetype": "text/x-python",
   "name": "python",
   "nbconvert_exporter": "python",
   "pygments_lexer": "ipython3",
   "version": "3.10.13"
  },
  "papermill": {
   "default_parameters": {},
   "duration": 1.850797,
   "end_time": "2023-09-08T09:02:23.669601",
   "environment_variables": {},
   "exception": null,
   "input_path": "transform.ipynb",
   "output_path": "../../../working/output/promote-events-transform.ipynb",
   "parameters": {},
   "start_time": "2023-09-08T09:02:21.818804",
   "version": "2.4.0"
  }
 },
 "nbformat": 4,
 "nbformat_minor": 5
}