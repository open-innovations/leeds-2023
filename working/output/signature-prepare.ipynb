{
 "cells": [
  {
   "cell_type": "code",
   "execution_count": 1,
   "id": "d1523801",
   "metadata": {
    "execution": {
     "iopub.execute_input": "2023-11-26T23:39:23.961771Z",
     "iopub.status.busy": "2023-11-26T23:39:23.961513Z",
     "iopub.status.idle": "2023-11-26T23:39:31.100830Z",
     "shell.execute_reply": "2023-11-26T23:39:31.100113Z"
    },
    "papermill": {
     "duration": 7.144509,
     "end_time": "2023-11-26T23:39:31.102607",
     "exception": false,
     "start_time": "2023-11-26T23:39:23.958098",
     "status": "completed"
    },
    "tags": []
   },
   "outputs": [],
   "source": [
    "import os\n",
    "import pandas as pd\n",
    "from events import load_event_data, get_first_ward, normalise_ward"
   ]
  },
  {
   "cell_type": "code",
   "execution_count": 2,
   "id": "33ed5c76",
   "metadata": {
    "execution": {
     "iopub.execute_input": "2023-11-26T23:39:31.107681Z",
     "iopub.status.busy": "2023-11-26T23:39:31.107409Z",
     "iopub.status.idle": "2023-11-26T23:39:31.111204Z",
     "shell.execute_reply": "2023-11-26T23:39:31.110537Z"
    },
    "papermill": {
     "duration": 0.00774,
     "end_time": "2023-11-26T23:39:31.112541",
     "exception": false,
     "start_time": "2023-11-26T23:39:31.104801",
     "status": "completed"
    },
    "tags": []
   },
   "outputs": [],
   "source": [
    "latest_date = pd.Timestamp.today().ceil('D')"
   ]
  },
  {
   "cell_type": "code",
   "execution_count": 3,
   "id": "ce8eb796",
   "metadata": {
    "execution": {
     "iopub.execute_input": "2023-11-26T23:39:31.117203Z",
     "iopub.status.busy": "2023-11-26T23:39:31.116766Z",
     "iopub.status.idle": "2023-11-26T23:39:31.131406Z",
     "shell.execute_reply": "2023-11-26T23:39:31.130895Z"
    },
    "papermill": {
     "duration": 0.018363,
     "end_time": "2023-11-26T23:39:31.132679",
     "exception": false,
     "start_time": "2023-11-26T23:39:31.114316",
     "status": "completed"
    },
    "tags": []
   },
   "outputs": [],
   "source": [
    "tickets = pd.read_csv('../../../../data/metrics/events/tickets/orders.csv', parse_dates=['created_at', 'event_date'])\n",
    "tickets = tickets[tickets.event_date <= latest_date]"
   ]
  },
  {
   "cell_type": "code",
   "execution_count": 4,
   "id": "d4bb922a",
   "metadata": {
    "execution": {
     "iopub.execute_input": "2023-11-26T23:39:31.137409Z",
     "iopub.status.busy": "2023-11-26T23:39:31.137040Z",
     "iopub.status.idle": "2023-11-26T23:39:31.186020Z",
     "shell.execute_reply": "2023-11-26T23:39:31.185508Z"
    },
    "papermill": {
     "duration": 0.052886,
     "end_time": "2023-11-26T23:39:31.187393",
     "exception": false,
     "start_time": "2023-11-26T23:39:31.134507",
     "status": "completed"
    },
    "tags": []
   },
   "outputs": [],
   "source": [
    "events = load_event_data()\n",
    "\n",
    "events = pd.concat([\n",
    "  events,\n",
    "  events.pipe(get_first_ward).pipe(normalise_ward).fillna('UNKNOWN'),\n",
    "  pd.Series(\n",
    "      events.actual_audience_size_number_of_participants_in_person + events.actual_audience_size_number_of_participants_online,\n",
    "      name='attendances'\n",
    "  )\n",
    "], axis=1).rename(columns={\n",
    "    'start_date': 'date'\n",
    "}).loc[:, ['ward_code', 'date', 'event_unique_identifier', 'attendances']]"
   ]
  },
  {
   "cell_type": "code",
   "execution_count": 5,
   "id": "b27002ec",
   "metadata": {
    "execution": {
     "iopub.execute_input": "2023-11-26T23:39:31.192407Z",
     "iopub.status.busy": "2023-11-26T23:39:31.191960Z",
     "iopub.status.idle": "2023-11-26T23:39:31.195134Z",
     "shell.execute_reply": "2023-11-26T23:39:31.194604Z"
    },
    "papermill": {
     "duration": 0.00709,
     "end_time": "2023-11-26T23:39:31.196428",
     "exception": false,
     "start_time": "2023-11-26T23:39:31.189338",
     "status": "completed"
    },
    "tags": []
   },
   "outputs": [],
   "source": [
    "OUTPUT_DIR='../../../../docs/metrics/events/signature/_data/'\n",
    "os.makedirs(OUTPUT_DIR, exist_ok=True)"
   ]
  },
  {
   "cell_type": "markdown",
   "id": "32e8dbcb",
   "metadata": {
    "papermill": {
     "duration": 0.001947,
     "end_time": "2023-11-26T23:39:31.200279",
     "exception": false,
     "start_time": "2023-11-26T23:39:31.198332",
     "status": "completed"
    },
    "tags": []
   },
   "source": [
    "Events CSVs"
   ]
  },
  {
   "cell_type": "code",
   "execution_count": 6,
   "id": "ff1be612",
   "metadata": {
    "execution": {
     "iopub.execute_input": "2023-11-26T23:39:31.205105Z",
     "iopub.status.busy": "2023-11-26T23:39:31.204704Z",
     "iopub.status.idle": "2023-11-26T23:39:31.210852Z",
     "shell.execute_reply": "2023-11-26T23:39:31.210329Z"
    },
    "papermill": {
     "duration": 0.009973,
     "end_time": "2023-11-26T23:39:31.212136",
     "exception": false,
     "start_time": "2023-11-26T23:39:31.202163",
     "status": "completed"
    },
    "tags": []
   },
   "outputs": [],
   "source": [
    "pd.DataFrame({\n",
    "  'events': events.groupby('ward_code').event_unique_identifier.count(),\n",
    "  'attendances': events.groupby('ward_code').attendances.sum().astype(int),\n",
    "}).to_csv(os.path.join(OUTPUT_DIR, 'events_by_ward.csv'))\n"
   ]
  },
  {
   "cell_type": "code",
   "execution_count": 7,
   "id": "411967c6",
   "metadata": {
    "execution": {
     "iopub.execute_input": "2023-11-26T23:39:31.217288Z",
     "iopub.status.busy": "2023-11-26T23:39:31.216906Z",
     "iopub.status.idle": "2023-11-26T23:39:31.225155Z",
     "shell.execute_reply": "2023-11-26T23:39:31.224529Z"
    },
    "papermill": {
     "duration": 0.012344,
     "end_time": "2023-11-26T23:39:31.226559",
     "exception": false,
     "start_time": "2023-11-26T23:39:31.214215",
     "status": "completed"
    },
    "tags": []
   },
   "outputs": [],
   "source": [
    "pd.DataFrame({\n",
    "  'events': events.groupby('date').event_unique_identifier.count(),\n",
    "  'attendances': events.groupby('date').attendances.sum().astype(int),\n",
    "}).resample('M').sum().astype(int).to_csv(os.path.join(OUTPUT_DIR, 'events_by_date.csv'))"
   ]
  },
  {
   "cell_type": "markdown",
   "id": "4f2ace9f",
   "metadata": {
    "papermill": {
     "duration": 0.002673,
     "end_time": "2023-11-26T23:39:31.231228",
     "exception": false,
     "start_time": "2023-11-26T23:39:31.228555",
     "status": "completed"
    },
    "tags": []
   },
   "source": [
    "Tickets CSV"
   ]
  },
  {
   "cell_type": "code",
   "execution_count": 8,
   "id": "2bcd8367",
   "metadata": {
    "execution": {
     "iopub.execute_input": "2023-11-26T23:39:31.236092Z",
     "iopub.status.busy": "2023-11-26T23:39:31.235728Z",
     "iopub.status.idle": "2023-11-26T23:39:31.241840Z",
     "shell.execute_reply": "2023-11-26T23:39:31.241230Z"
    },
    "papermill": {
     "duration": 0.010306,
     "end_time": "2023-11-26T23:39:31.243446",
     "exception": false,
     "start_time": "2023-11-26T23:39:31.233140",
     "status": "completed"
    },
    "tags": []
   },
   "outputs": [],
   "source": [
    "pd.DataFrame({\n",
    "  'orders': tickets.groupby('ward_code').number_of_tickets.count(),\n",
    "  'tickets': tickets.groupby('ward_code').number_of_tickets.sum().astype(int),\n",
    "}).to_csv(os.path.join(OUTPUT_DIR, 'tickets_by_ward.csv'))"
   ]
  },
  {
   "cell_type": "code",
   "execution_count": 9,
   "id": "14e9bbbb",
   "metadata": {
    "execution": {
     "iopub.execute_input": "2023-11-26T23:39:31.248374Z",
     "iopub.status.busy": "2023-11-26T23:39:31.248002Z",
     "iopub.status.idle": "2023-11-26T23:39:31.254808Z",
     "shell.execute_reply": "2023-11-26T23:39:31.254171Z"
    },
    "papermill": {
     "duration": 0.010751,
     "end_time": "2023-11-26T23:39:31.256183",
     "exception": false,
     "start_time": "2023-11-26T23:39:31.245432",
     "status": "completed"
    },
    "tags": []
   },
   "outputs": [],
   "source": [
    "pd.DataFrame({\n",
    "  'orders': tickets.groupby('event_date').number_of_tickets.count(),\n",
    "  'tickets': tickets.groupby('event_date').number_of_tickets.sum().astype(int),\n",
    "}).resample('M').sum().to_csv(os.path.join(OUTPUT_DIR, 'tickets_by_event_date.csv'))"
   ]
  },
  {
   "cell_type": "code",
   "execution_count": 10,
   "id": "fc702cae",
   "metadata": {
    "execution": {
     "iopub.execute_input": "2023-11-26T23:39:31.261395Z",
     "iopub.status.busy": "2023-11-26T23:39:31.260906Z",
     "iopub.status.idle": "2023-11-26T23:39:31.265856Z",
     "shell.execute_reply": "2023-11-26T23:39:31.265246Z"
    },
    "papermill": {
     "duration": 0.009168,
     "end_time": "2023-11-26T23:39:31.267334",
     "exception": false,
     "start_time": "2023-11-26T23:39:31.258166",
     "status": "completed"
    },
    "tags": []
   },
   "outputs": [],
   "source": [
    "pd.Series({\n",
    "    'total_events': events.event_unique_identifier.count(),\n",
    "    'total_attendances': events.attendances.count(),\n",
    "    'first_event': events.date.min(),\n",
    "    'latest_event': events.date.max(),\n",
    "    'total_ticket_orders_for_events_to_date': tickets.number_of_tickets.count(),\n",
    "    'total_tickets_sold_for_events_to_date': tickets.number_of_tickets.sum(),\n",
    "}).to_json(os.path.join(OUTPUT_DIR, 'headlines.json'), indent=2)"
   ]
  },
  {
   "cell_type": "code",
   "execution_count": null,
   "id": "89751170",
   "metadata": {
    "papermill": {
     "duration": 0.001979,
     "end_time": "2023-11-26T23:39:31.271331",
     "exception": false,
     "start_time": "2023-11-26T23:39:31.269352",
     "status": "completed"
    },
    "tags": []
   },
   "outputs": [],
   "source": []
  }
 ],
 "metadata": {
  "kernelspec": {
   "display_name": "leeds-2023-YZF5GfJv",
   "language": "python",
   "name": "python3"
  },
  "language_info": {
   "codemirror_mode": {
    "name": "ipython",
    "version": 3
   },
   "file_extension": ".py",
   "mimetype": "text/x-python",
   "name": "python",
   "nbconvert_exporter": "python",
   "pygments_lexer": "ipython3",
   "version": "3.10.13"
  },
  "papermill": {
   "default_parameters": {},
   "duration": 8.772114,
   "end_time": "2023-11-26T23:39:31.490803",
   "environment_variables": {},
   "exception": null,
   "input_path": "prepare.ipynb",
   "output_path": "../../../../working/output/signature-prepare.ipynb",
   "parameters": {},
   "start_time": "2023-11-26T23:39:22.718689",
   "version": "2.4.0"
  }
 },
 "nbformat": 4,
 "nbformat_minor": 5
}