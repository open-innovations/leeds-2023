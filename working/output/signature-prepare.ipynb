{
 "cells": [
  {
   "cell_type": "code",
   "execution_count": 1,
   "id": "f82f9e9b",
   "metadata": {
    "execution": {
     "iopub.execute_input": "2023-12-31T23:40:45.331503Z",
     "iopub.status.busy": "2023-12-31T23:40:45.331211Z",
     "iopub.status.idle": "2023-12-31T23:40:52.534949Z",
     "shell.execute_reply": "2023-12-31T23:40:52.534243Z"
    },
    "papermill": {
     "duration": 7.209072,
     "end_time": "2023-12-31T23:40:52.536728",
     "exception": false,
     "start_time": "2023-12-31T23:40:45.327656",
     "status": "completed"
    },
    "tags": []
   },
   "outputs": [],
   "source": [
    "import os\n",
    "import pandas as pd\n",
    "from events import load_event_data, get_first_ward, normalise_ward"
   ]
  },
  {
   "cell_type": "code",
   "execution_count": 2,
   "id": "a8597034",
   "metadata": {
    "execution": {
     "iopub.execute_input": "2023-12-31T23:40:52.542023Z",
     "iopub.status.busy": "2023-12-31T23:40:52.541679Z",
     "iopub.status.idle": "2023-12-31T23:40:52.545128Z",
     "shell.execute_reply": "2023-12-31T23:40:52.544474Z"
    },
    "papermill": {
     "duration": 0.007336,
     "end_time": "2023-12-31T23:40:52.546362",
     "exception": false,
     "start_time": "2023-12-31T23:40:52.539026",
     "status": "completed"
    },
    "tags": []
   },
   "outputs": [],
   "source": [
    "latest_date = pd.Timestamp.today().ceil('D')"
   ]
  },
  {
   "cell_type": "code",
   "execution_count": 3,
   "id": "464dfd12",
   "metadata": {
    "execution": {
     "iopub.execute_input": "2023-12-31T23:40:52.551196Z",
     "iopub.status.busy": "2023-12-31T23:40:52.550717Z",
     "iopub.status.idle": "2023-12-31T23:40:52.569058Z",
     "shell.execute_reply": "2023-12-31T23:40:52.568430Z"
    },
    "papermill": {
     "duration": 0.022288,
     "end_time": "2023-12-31T23:40:52.570439",
     "exception": false,
     "start_time": "2023-12-31T23:40:52.548151",
     "status": "completed"
    },
    "tags": []
   },
   "outputs": [],
   "source": [
    "tickets = pd.read_csv('../../../../data/metrics/events/tickets/orders.csv', parse_dates=['created_at', 'event_date'])\n",
    "tickets = tickets[tickets.event_date <= latest_date]"
   ]
  },
  {
   "cell_type": "code",
   "execution_count": 4,
   "id": "ab6c9495",
   "metadata": {
    "execution": {
     "iopub.execute_input": "2023-12-31T23:40:52.575342Z",
     "iopub.status.busy": "2023-12-31T23:40:52.574834Z",
     "iopub.status.idle": "2023-12-31T23:40:52.628871Z",
     "shell.execute_reply": "2023-12-31T23:40:52.628329Z"
    },
    "papermill": {
     "duration": 0.058002,
     "end_time": "2023-12-31T23:40:52.630283",
     "exception": false,
     "start_time": "2023-12-31T23:40:52.572281",
     "status": "completed"
    },
    "tags": []
   },
   "outputs": [],
   "source": [
    "events = load_event_data()\n",
    "\n",
    "events = pd.concat([\n",
    "  events,\n",
    "  events.pipe(get_first_ward).pipe(normalise_ward).fillna('UNKNOWN'),\n",
    "  pd.Series(\n",
    "      events.actual_audience_size_number_of_participants_in_person + events.actual_audience_size_number_of_participants_online,\n",
    "      name='attendances'\n",
    "  )\n",
    "], axis=1).rename(columns={\n",
    "    'start_date': 'date'\n",
    "}).loc[:, ['ward_code', 'date', 'event_unique_identifier', 'attendances']]"
   ]
  },
  {
   "cell_type": "code",
   "execution_count": 5,
   "id": "ec4daa0a",
   "metadata": {
    "execution": {
     "iopub.execute_input": "2023-12-31T23:40:52.635201Z",
     "iopub.status.busy": "2023-12-31T23:40:52.634833Z",
     "iopub.status.idle": "2023-12-31T23:40:52.638063Z",
     "shell.execute_reply": "2023-12-31T23:40:52.637443Z"
    },
    "papermill": {
     "duration": 0.007172,
     "end_time": "2023-12-31T23:40:52.639409",
     "exception": false,
     "start_time": "2023-12-31T23:40:52.632237",
     "status": "completed"
    },
    "tags": []
   },
   "outputs": [],
   "source": [
    "OUTPUT_DIR='../../../../docs/metrics/events/signature/_data/'\n",
    "os.makedirs(OUTPUT_DIR, exist_ok=True)"
   ]
  },
  {
   "cell_type": "markdown",
   "id": "69a3747e",
   "metadata": {
    "papermill": {
     "duration": 0.001941,
     "end_time": "2023-12-31T23:40:52.643386",
     "exception": false,
     "start_time": "2023-12-31T23:40:52.641445",
     "status": "completed"
    },
    "tags": []
   },
   "source": [
    "Events CSVs"
   ]
  },
  {
   "cell_type": "code",
   "execution_count": 6,
   "id": "4414b14d",
   "metadata": {
    "execution": {
     "iopub.execute_input": "2023-12-31T23:40:52.648401Z",
     "iopub.status.busy": "2023-12-31T23:40:52.648065Z",
     "iopub.status.idle": "2023-12-31T23:40:52.654167Z",
     "shell.execute_reply": "2023-12-31T23:40:52.653564Z"
    },
    "papermill": {
     "duration": 0.010291,
     "end_time": "2023-12-31T23:40:52.655541",
     "exception": false,
     "start_time": "2023-12-31T23:40:52.645250",
     "status": "completed"
    },
    "tags": []
   },
   "outputs": [],
   "source": [
    "pd.DataFrame({\n",
    "  'events': events.groupby('ward_code').event_unique_identifier.count(),\n",
    "  'attendances': events.groupby('ward_code').attendances.sum().astype(int),\n",
    "}).to_csv(os.path.join(OUTPUT_DIR, 'events_by_ward.csv'))\n"
   ]
  },
  {
   "cell_type": "code",
   "execution_count": 7,
   "id": "775b7a3b",
   "metadata": {
    "execution": {
     "iopub.execute_input": "2023-12-31T23:40:52.660501Z",
     "iopub.status.busy": "2023-12-31T23:40:52.660042Z",
     "iopub.status.idle": "2023-12-31T23:40:52.667760Z",
     "shell.execute_reply": "2023-12-31T23:40:52.667140Z"
    },
    "papermill": {
     "duration": 0.011661,
     "end_time": "2023-12-31T23:40:52.669186",
     "exception": false,
     "start_time": "2023-12-31T23:40:52.657525",
     "status": "completed"
    },
    "tags": []
   },
   "outputs": [],
   "source": [
    "pd.DataFrame({\n",
    "  'events': events.groupby('date').event_unique_identifier.count(),\n",
    "  'attendances': events.groupby('date').attendances.sum().astype(int),\n",
    "}).resample('M').sum().astype(int).to_csv(os.path.join(OUTPUT_DIR, 'events_by_date.csv'))"
   ]
  },
  {
   "cell_type": "markdown",
   "id": "64965023",
   "metadata": {
    "papermill": {
     "duration": 0.00264,
     "end_time": "2023-12-31T23:40:52.673764",
     "exception": false,
     "start_time": "2023-12-31T23:40:52.671124",
     "status": "completed"
    },
    "tags": []
   },
   "source": [
    "Tickets CSV"
   ]
  },
  {
   "cell_type": "code",
   "execution_count": 8,
   "id": "92c7786e",
   "metadata": {
    "execution": {
     "iopub.execute_input": "2023-12-31T23:40:52.678436Z",
     "iopub.status.busy": "2023-12-31T23:40:52.678144Z",
     "iopub.status.idle": "2023-12-31T23:40:52.684053Z",
     "shell.execute_reply": "2023-12-31T23:40:52.683566Z"
    },
    "papermill": {
     "duration": 0.009629,
     "end_time": "2023-12-31T23:40:52.685334",
     "exception": false,
     "start_time": "2023-12-31T23:40:52.675705",
     "status": "completed"
    },
    "tags": []
   },
   "outputs": [],
   "source": [
    "pd.DataFrame({\n",
    "  'orders': tickets.groupby('ward_code').number_of_tickets.count(),\n",
    "  'tickets': tickets.groupby('ward_code').number_of_tickets.sum().astype(int),\n",
    "}).to_csv(os.path.join(OUTPUT_DIR, 'tickets_by_ward.csv'))"
   ]
  },
  {
   "cell_type": "code",
   "execution_count": 9,
   "id": "709b101d",
   "metadata": {
    "execution": {
     "iopub.execute_input": "2023-12-31T23:40:52.690193Z",
     "iopub.status.busy": "2023-12-31T23:40:52.689829Z",
     "iopub.status.idle": "2023-12-31T23:40:52.696543Z",
     "shell.execute_reply": "2023-12-31T23:40:52.696042Z"
    },
    "papermill": {
     "duration": 0.010532,
     "end_time": "2023-12-31T23:40:52.697833",
     "exception": false,
     "start_time": "2023-12-31T23:40:52.687301",
     "status": "completed"
    },
    "tags": []
   },
   "outputs": [],
   "source": [
    "pd.DataFrame({\n",
    "  'orders': tickets.groupby('event_date').number_of_tickets.count(),\n",
    "  'tickets': tickets.groupby('event_date').number_of_tickets.sum().astype(int),\n",
    "}).resample('M').sum().to_csv(os.path.join(OUTPUT_DIR, 'tickets_by_event_date.csv'))"
   ]
  },
  {
   "cell_type": "code",
   "execution_count": 10,
   "id": "ff36c790",
   "metadata": {
    "execution": {
     "iopub.execute_input": "2023-12-31T23:40:52.702824Z",
     "iopub.status.busy": "2023-12-31T23:40:52.702462Z",
     "iopub.status.idle": "2023-12-31T23:40:52.707232Z",
     "shell.execute_reply": "2023-12-31T23:40:52.706614Z"
    },
    "papermill": {
     "duration": 0.008644,
     "end_time": "2023-12-31T23:40:52.708474",
     "exception": false,
     "start_time": "2023-12-31T23:40:52.699830",
     "status": "completed"
    },
    "tags": []
   },
   "outputs": [],
   "source": [
    "pd.Series({\n",
    "    'total_events': events.event_unique_identifier.count(),\n",
    "    'total_attendances': events.attendances.count(),\n",
    "    'first_event': events.date.min(),\n",
    "    'latest_event': events.date.max(),\n",
    "    'total_ticket_orders_for_events_to_date': tickets.number_of_tickets.count(),\n",
    "    'total_tickets_sold_for_events_to_date': tickets.number_of_tickets.sum(),\n",
    "}).to_json(os.path.join(OUTPUT_DIR, 'headlines.json'), indent=2)"
   ]
  },
  {
   "cell_type": "code",
   "execution_count": null,
   "id": "b66999be",
   "metadata": {
    "papermill": {
     "duration": 0.002038,
     "end_time": "2023-12-31T23:40:52.712556",
     "exception": false,
     "start_time": "2023-12-31T23:40:52.710518",
     "status": "completed"
    },
    "tags": []
   },
   "outputs": [],
   "source": []
  }
 ],
 "metadata": {
  "kernelspec": {
   "display_name": "leeds-2023-YZF5GfJv",
   "language": "python",
   "name": "python3"
  },
  "language_info": {
   "codemirror_mode": {
    "name": "ipython",
    "version": 3
   },
   "file_extension": ".py",
   "mimetype": "text/x-python",
   "name": "python",
   "nbconvert_exporter": "python",
   "pygments_lexer": "ipython3",
   "version": "3.10.13"
  },
  "papermill": {
   "default_parameters": {},
   "duration": 8.844553,
   "end_time": "2023-12-31T23:40:52.930756",
   "environment_variables": {},
   "exception": null,
   "input_path": "prepare.ipynb",
   "output_path": "../../../../working/output/signature-prepare.ipynb",
   "parameters": {},
   "start_time": "2023-12-31T23:40:44.086203",
   "version": "2.4.0"
  }
 },
 "nbformat": 4,
 "nbformat_minor": 5
}