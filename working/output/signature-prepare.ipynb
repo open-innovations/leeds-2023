{
 "cells": [
  {
   "cell_type": "code",
   "execution_count": 1,
   "id": "a55e90a4",
   "metadata": {
    "execution": {
     "iopub.execute_input": "2023-08-09T23:39:15.989898Z",
     "iopub.status.busy": "2023-08-09T23:39:15.989396Z",
     "iopub.status.idle": "2023-08-09T23:39:25.544234Z",
     "shell.execute_reply": "2023-08-09T23:39:25.543524Z"
    },
    "papermill": {
     "duration": 9.561288,
     "end_time": "2023-08-09T23:39:25.546521",
     "exception": false,
     "start_time": "2023-08-09T23:39:15.985233",
     "status": "completed"
    },
    "tags": []
   },
   "outputs": [],
   "source": [
    "import os\n",
    "import pandas as pd\n",
    "from events import load_event_data, get_first_ward, normalise_ward"
   ]
  },
  {
   "cell_type": "code",
   "execution_count": 2,
   "id": "dfb4eda6",
   "metadata": {
    "execution": {
     "iopub.execute_input": "2023-08-09T23:39:25.552510Z",
     "iopub.status.busy": "2023-08-09T23:39:25.551869Z",
     "iopub.status.idle": "2023-08-09T23:39:25.556552Z",
     "shell.execute_reply": "2023-08-09T23:39:25.555995Z"
    },
    "papermill": {
     "duration": 0.00921,
     "end_time": "2023-08-09T23:39:25.558072",
     "exception": false,
     "start_time": "2023-08-09T23:39:25.548862",
     "status": "completed"
    },
    "tags": []
   },
   "outputs": [],
   "source": [
    "latest_date = pd.Timestamp.today().ceil('D')"
   ]
  },
  {
   "cell_type": "code",
   "execution_count": 3,
   "id": "a5a004d7",
   "metadata": {
    "execution": {
     "iopub.execute_input": "2023-08-09T23:39:25.563176Z",
     "iopub.status.busy": "2023-08-09T23:39:25.562767Z",
     "iopub.status.idle": "2023-08-09T23:39:25.579431Z",
     "shell.execute_reply": "2023-08-09T23:39:25.578764Z"
    },
    "papermill": {
     "duration": 0.021153,
     "end_time": "2023-08-09T23:39:25.581151",
     "exception": false,
     "start_time": "2023-08-09T23:39:25.559998",
     "status": "completed"
    },
    "tags": []
   },
   "outputs": [],
   "source": [
    "tickets = pd.read_csv('../../../../data/metrics/events/tickets/orders.csv', parse_dates=['created_at', 'event_date'])\n",
    "tickets = tickets[tickets.event_date <= latest_date]"
   ]
  },
  {
   "cell_type": "code",
   "execution_count": 4,
   "id": "a7e9b898",
   "metadata": {
    "execution": {
     "iopub.execute_input": "2023-08-09T23:39:25.586989Z",
     "iopub.status.busy": "2023-08-09T23:39:25.586426Z",
     "iopub.status.idle": "2023-08-09T23:39:25.748121Z",
     "shell.execute_reply": "2023-08-09T23:39:25.747435Z"
    },
    "papermill": {
     "duration": 0.166807,
     "end_time": "2023-08-09T23:39:25.750230",
     "exception": false,
     "start_time": "2023-08-09T23:39:25.583423",
     "status": "completed"
    },
    "tags": []
   },
   "outputs": [],
   "source": [
    "events = load_event_data()\n",
    "\n",
    "events = pd.concat([\n",
    "  events,\n",
    "  events.pipe(get_first_ward).pipe(normalise_ward).fillna('UNKNOWN'),\n",
    "  pd.Series(\n",
    "      events.actual_audience_size_number_of_participants_in_person + events.actual_audience_size_number_of_participants_online,\n",
    "      name='attendances'\n",
    "  )\n",
    "], axis=1).rename(columns={\n",
    "    'start_date': 'date'\n",
    "}).loc[:, ['ward_code', 'date', 'event_unique_identifier', 'attendances']]"
   ]
  },
  {
   "cell_type": "code",
   "execution_count": 5,
   "id": "ca19cbf4",
   "metadata": {
    "execution": {
     "iopub.execute_input": "2023-08-09T23:39:25.756474Z",
     "iopub.status.busy": "2023-08-09T23:39:25.756015Z",
     "iopub.status.idle": "2023-08-09T23:39:25.759490Z",
     "shell.execute_reply": "2023-08-09T23:39:25.758810Z"
    },
    "papermill": {
     "duration": 0.008417,
     "end_time": "2023-08-09T23:39:25.761122",
     "exception": false,
     "start_time": "2023-08-09T23:39:25.752705",
     "status": "completed"
    },
    "tags": []
   },
   "outputs": [],
   "source": [
    "OUTPUT_DIR='../../../../docs/metrics/events/signature/_data/'\n",
    "os.makedirs(OUTPUT_DIR, exist_ok=True)"
   ]
  },
  {
   "cell_type": "markdown",
   "id": "8b988002",
   "metadata": {
    "papermill": {
     "duration": 0.002083,
     "end_time": "2023-08-09T23:39:25.765285",
     "exception": false,
     "start_time": "2023-08-09T23:39:25.763202",
     "status": "completed"
    },
    "tags": []
   },
   "source": [
    "Events CSVs"
   ]
  },
  {
   "cell_type": "code",
   "execution_count": 6,
   "id": "60190f9f",
   "metadata": {
    "execution": {
     "iopub.execute_input": "2023-08-09T23:39:25.770778Z",
     "iopub.status.busy": "2023-08-09T23:39:25.770138Z",
     "iopub.status.idle": "2023-08-09T23:39:25.777127Z",
     "shell.execute_reply": "2023-08-09T23:39:25.776558Z"
    },
    "papermill": {
     "duration": 0.011241,
     "end_time": "2023-08-09T23:39:25.778557",
     "exception": false,
     "start_time": "2023-08-09T23:39:25.767316",
     "status": "completed"
    },
    "tags": []
   },
   "outputs": [],
   "source": [
    "pd.DataFrame({\n",
    "  'events': events.groupby('ward_code').event_unique_identifier.count(),\n",
    "  'attendances': events.groupby('ward_code').attendances.sum().astype(int),\n",
    "}).to_csv(os.path.join(OUTPUT_DIR, 'events_by_ward.csv'))\n"
   ]
  },
  {
   "cell_type": "code",
   "execution_count": 7,
   "id": "47e362f7",
   "metadata": {
    "execution": {
     "iopub.execute_input": "2023-08-09T23:39:25.784168Z",
     "iopub.status.busy": "2023-08-09T23:39:25.783554Z",
     "iopub.status.idle": "2023-08-09T23:39:25.793963Z",
     "shell.execute_reply": "2023-08-09T23:39:25.793403Z"
    },
    "papermill": {
     "duration": 0.014852,
     "end_time": "2023-08-09T23:39:25.795509",
     "exception": false,
     "start_time": "2023-08-09T23:39:25.780657",
     "status": "completed"
    },
    "tags": []
   },
   "outputs": [],
   "source": [
    "pd.DataFrame({\n",
    "  'events': events.groupby('date').event_unique_identifier.count(),\n",
    "  'attendances': events.groupby('date').attendances.sum().astype(int),\n",
    "}).resample('M').sum().astype(int).to_csv(os.path.join(OUTPUT_DIR, 'events_by_date.csv'))"
   ]
  },
  {
   "cell_type": "markdown",
   "id": "7c90fc6f",
   "metadata": {
    "papermill": {
     "duration": 0.002117,
     "end_time": "2023-08-09T23:39:25.799719",
     "exception": false,
     "start_time": "2023-08-09T23:39:25.797602",
     "status": "completed"
    },
    "tags": []
   },
   "source": [
    "Tickets CSV"
   ]
  },
  {
   "cell_type": "code",
   "execution_count": 8,
   "id": "8363e20a",
   "metadata": {
    "execution": {
     "iopub.execute_input": "2023-08-09T23:39:25.805143Z",
     "iopub.status.busy": "2023-08-09T23:39:25.804594Z",
     "iopub.status.idle": "2023-08-09T23:39:25.811191Z",
     "shell.execute_reply": "2023-08-09T23:39:25.810638Z"
    },
    "papermill": {
     "duration": 0.010928,
     "end_time": "2023-08-09T23:39:25.812690",
     "exception": false,
     "start_time": "2023-08-09T23:39:25.801762",
     "status": "completed"
    },
    "tags": []
   },
   "outputs": [],
   "source": [
    "pd.DataFrame({\n",
    "  'orders': tickets.groupby('ward_code').number_of_tickets.count(),\n",
    "  'tickets': tickets.groupby('ward_code').number_of_tickets.sum().astype(int),\n",
    "}).to_csv(os.path.join(OUTPUT_DIR, 'tickets_by_ward.csv'))"
   ]
  },
  {
   "cell_type": "code",
   "execution_count": 9,
   "id": "cfd8a076",
   "metadata": {
    "execution": {
     "iopub.execute_input": "2023-08-09T23:39:25.819490Z",
     "iopub.status.busy": "2023-08-09T23:39:25.819054Z",
     "iopub.status.idle": "2023-08-09T23:39:25.827035Z",
     "shell.execute_reply": "2023-08-09T23:39:25.826469Z"
    },
    "papermill": {
     "duration": 0.013739,
     "end_time": "2023-08-09T23:39:25.828528",
     "exception": false,
     "start_time": "2023-08-09T23:39:25.814789",
     "status": "completed"
    },
    "tags": []
   },
   "outputs": [],
   "source": [
    "pd.DataFrame({\n",
    "  'orders': tickets.groupby('event_date').number_of_tickets.count(),\n",
    "  'tickets': tickets.groupby('event_date').number_of_tickets.sum().astype(int),\n",
    "}).resample('M').sum().to_csv(os.path.join(OUTPUT_DIR, 'tickets_by_event_date.csv'))"
   ]
  },
  {
   "cell_type": "code",
   "execution_count": 10,
   "id": "d8d8534e",
   "metadata": {
    "execution": {
     "iopub.execute_input": "2023-08-09T23:39:25.835097Z",
     "iopub.status.busy": "2023-08-09T23:39:25.834551Z",
     "iopub.status.idle": "2023-08-09T23:39:25.839720Z",
     "shell.execute_reply": "2023-08-09T23:39:25.839161Z"
    },
    "papermill": {
     "duration": 0.010418,
     "end_time": "2023-08-09T23:39:25.841133",
     "exception": false,
     "start_time": "2023-08-09T23:39:25.830715",
     "status": "completed"
    },
    "tags": []
   },
   "outputs": [],
   "source": [
    "pd.Series({\n",
    "    'total_events': events.event_unique_identifier.count(),\n",
    "    'total_attendances': events.attendances.count(),\n",
    "    'first_event': events.date.min(),\n",
    "    'latest_event': events.date.max(),\n",
    "    'total_ticket_orders_for_events_to_date': tickets.number_of_tickets.count(),\n",
    "    'total_tickets_sold_for_events_to_date': tickets.number_of_tickets.sum(),\n",
    "}).to_json(os.path.join(OUTPUT_DIR, 'headlines.json'), indent=2)"
   ]
  },
  {
   "cell_type": "code",
   "execution_count": null,
   "id": "786ec479",
   "metadata": {
    "papermill": {
     "duration": 0.002114,
     "end_time": "2023-08-09T23:39:25.845418",
     "exception": false,
     "start_time": "2023-08-09T23:39:25.843304",
     "status": "completed"
    },
    "tags": []
   },
   "outputs": [],
   "source": []
  }
 ],
 "metadata": {
  "kernelspec": {
   "display_name": "leeds-2023-YZF5GfJv",
   "language": "python",
   "name": "python3"
  },
  "language_info": {
   "codemirror_mode": {
    "name": "ipython",
    "version": 3
   },
   "file_extension": ".py",
   "mimetype": "text/x-python",
   "name": "python",
   "nbconvert_exporter": "python",
   "pygments_lexer": "ipython3",
   "version": "3.10.6"
  },
  "papermill": {
   "default_parameters": {},
   "duration": 11.562084,
   "end_time": "2023-08-09T23:39:26.163810",
   "environment_variables": {},
   "exception": null,
   "input_path": "prepare.ipynb",
   "output_path": "../../../../working/output/signature-prepare.ipynb",
   "parameters": {},
   "start_time": "2023-08-09T23:39:14.601726",
   "version": "2.4.0"
  }
 },
 "nbformat": 4,
 "nbformat_minor": 5
}