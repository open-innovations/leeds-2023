{
 "cells": [
  {
   "cell_type": "code",
   "execution_count": 1,
   "id": "6124dd76",
   "metadata": {
    "execution": {
     "iopub.execute_input": "2023-12-29T23:38:57.160823Z",
     "iopub.status.busy": "2023-12-29T23:38:57.160618Z",
     "iopub.status.idle": "2023-12-29T23:38:57.398119Z",
     "shell.execute_reply": "2023-12-29T23:38:57.397558Z"
    },
    "papermill": {
     "duration": 0.242651,
     "end_time": "2023-12-29T23:38:57.399730",
     "exception": false,
     "start_time": "2023-12-29T23:38:57.157079",
     "status": "completed"
    },
    "tags": []
   },
   "outputs": [],
   "source": [
    "from pathlib import Path\n",
    "import pandas as pd"
   ]
  },
  {
   "cell_type": "markdown",
   "id": "dfbb11e0",
   "metadata": {
    "papermill": {
     "duration": 0.002172,
     "end_time": "2023-12-29T23:38:57.404429",
     "exception": false,
     "start_time": "2023-12-29T23:38:57.402257",
     "status": "completed"
    },
    "tags": []
   },
   "source": [
    "Load the orders data which was created in the [transform stage](./tickets.ipynb)."
   ]
  },
  {
   "cell_type": "code",
   "execution_count": 2,
   "id": "00c9a821",
   "metadata": {
    "execution": {
     "iopub.execute_input": "2023-12-29T23:38:57.409844Z",
     "iopub.status.busy": "2023-12-29T23:38:57.409537Z",
     "iopub.status.idle": "2023-12-29T23:38:57.428179Z",
     "shell.execute_reply": "2023-12-29T23:38:57.427561Z"
    },
    "papermill": {
     "duration": 0.022979,
     "end_time": "2023-12-29T23:38:57.429588",
     "exception": false,
     "start_time": "2023-12-29T23:38:57.406609",
     "status": "completed"
    },
    "tags": []
   },
   "outputs": [],
   "source": [
    "def prepare(data: pd.DataFrame) -> pd.DataFrame:\n",
    "    data = data.loc[\n",
    "        (\n",
    "            data.public_event == True\n",
    "        ) & (\n",
    "            ~data.project_name.isin([\n",
    "                'Skills Development',\n",
    "            ])\n",
    "        )\n",
    "    ]\n",
    "    data = data.drop(columns=['public_event'])\n",
    "    return data\n",
    "\n",
    "\n",
    "orders = pd.read_csv(\n",
    "    '../../../../data/metrics/events/tickets/orders.csv',\n",
    "    usecols=[\n",
    "        'created_at',\n",
    "        'project_name',\n",
    "        'public_event',\n",
    "        'number_of_tickets'\n",
    "    ],\n",
    "    parse_dates=['created_at']\n",
    ").pipe(prepare)"
   ]
  },
  {
   "cell_type": "markdown",
   "id": "4de5af28",
   "metadata": {
    "papermill": {
     "duration": 0.00205,
     "end_time": "2023-12-29T23:38:57.433817",
     "exception": false,
     "start_time": "2023-12-29T23:38:57.431767",
     "status": "completed"
    },
    "tags": []
   },
   "source": [
    "Define functions to count and sum tickets, and to append cumulative versions of those."
   ]
  },
  {
   "cell_type": "code",
   "execution_count": 3,
   "id": "5717e8e5",
   "metadata": {
    "execution": {
     "iopub.execute_input": "2023-12-29T23:38:57.439202Z",
     "iopub.status.busy": "2023-12-29T23:38:57.438809Z",
     "iopub.status.idle": "2023-12-29T23:38:57.442762Z",
     "shell.execute_reply": "2023-12-29T23:38:57.442132Z"
    },
    "papermill": {
     "duration": 0.008115,
     "end_time": "2023-12-29T23:38:57.444041",
     "exception": false,
     "start_time": "2023-12-29T23:38:57.435926",
     "status": "completed"
    },
    "tags": []
   },
   "outputs": [],
   "source": [
    "def count_and_sum(series):\n",
    "    return pd.concat([\n",
    "        series.count().to_frame('orders'),\n",
    "        series.sum().to_frame('tickets'),\n",
    "    ], axis=1)\n",
    "\n",
    "\n",
    "def cumulate(df: pd.DataFrame) -> pd.DataFrame:\n",
    "    return pd.concat([\n",
    "        df,\n",
    "        df.cumsum().rename(columns=lambda x: f'cumulative_{x}')\n",
    "    ], axis=1)"
   ]
  },
  {
   "cell_type": "markdown",
   "id": "164f33dc",
   "metadata": {
    "papermill": {
     "duration": 0.002146,
     "end_time": "2023-12-29T23:38:57.448366",
     "exception": false,
     "start_time": "2023-12-29T23:38:57.446220",
     "status": "completed"
    },
    "tags": []
   },
   "source": [
    "Create output directory"
   ]
  },
  {
   "cell_type": "code",
   "execution_count": 4,
   "id": "115a947b",
   "metadata": {
    "execution": {
     "iopub.execute_input": "2023-12-29T23:38:57.453865Z",
     "iopub.status.busy": "2023-12-29T23:38:57.453370Z",
     "iopub.status.idle": "2023-12-29T23:38:57.456548Z",
     "shell.execute_reply": "2023-12-29T23:38:57.456047Z"
    },
    "papermill": {
     "duration": 0.007215,
     "end_time": "2023-12-29T23:38:57.457789",
     "exception": false,
     "start_time": "2023-12-29T23:38:57.450574",
     "status": "completed"
    },
    "tags": []
   },
   "outputs": [],
   "source": [
    "OUTPUT_DIR = Path('../../../../docs/metrics/tickets/_data/')\n",
    "OUTPUT_DIR.mkdir(parents=True, exist_ok=True)"
   ]
  },
  {
   "cell_type": "markdown",
   "id": "a193dc8a",
   "metadata": {
    "papermill": {
     "duration": 0.002192,
     "end_time": "2023-12-29T23:38:57.462939",
     "exception": false,
     "start_time": "2023-12-29T23:38:57.460747",
     "status": "completed"
    },
    "tags": []
   },
   "source": [
    "Count / sum the orders and tickets by project code and save to a JSON file"
   ]
  },
  {
   "cell_type": "code",
   "execution_count": 5,
   "id": "19045374",
   "metadata": {
    "execution": {
     "iopub.execute_input": "2023-12-29T23:38:57.468329Z",
     "iopub.status.busy": "2023-12-29T23:38:57.467958Z",
     "iopub.status.idle": "2023-12-29T23:38:57.474427Z",
     "shell.execute_reply": "2023-12-29T23:38:57.473893Z"
    },
    "papermill": {
     "duration": 0.010591,
     "end_time": "2023-12-29T23:38:57.475697",
     "exception": false,
     "start_time": "2023-12-29T23:38:57.465106",
     "status": "completed"
    },
    "tags": []
   },
   "outputs": [],
   "source": [
    "by_project = orders.groupby('project_name').number_of_tickets.pipe(count_and_sum)\n",
    "by_project.loc['total']= by_project.sum()\n",
    "by_project.T.to_json(\n",
    "  OUTPUT_DIR.joinpath('headlines.json'),\n",
    "  indent=2\n",
    ")"
   ]
  },
  {
   "cell_type": "markdown",
   "id": "8106064a",
   "metadata": {
    "papermill": {
     "duration": 0.002265,
     "end_time": "2023-12-29T23:38:57.480215",
     "exception": false,
     "start_time": "2023-12-29T23:38:57.477950",
     "status": "completed"
    },
    "tags": []
   },
   "source": [
    "Add `day` column"
   ]
  },
  {
   "cell_type": "code",
   "execution_count": 6,
   "id": "508a4984",
   "metadata": {
    "execution": {
     "iopub.execute_input": "2023-12-29T23:38:57.485755Z",
     "iopub.status.busy": "2023-12-29T23:38:57.485311Z",
     "iopub.status.idle": "2023-12-29T23:38:57.489337Z",
     "shell.execute_reply": "2023-12-29T23:38:57.488811Z"
    },
    "papermill": {
     "duration": 0.008191,
     "end_time": "2023-12-29T23:38:57.490631",
     "exception": false,
     "start_time": "2023-12-29T23:38:57.482440",
     "status": "completed"
    },
    "tags": []
   },
   "outputs": [],
   "source": [
    "orders['day'] = orders.created_at.dt.floor('D')"
   ]
  },
  {
   "cell_type": "code",
   "execution_count": 7,
   "id": "23305ef9",
   "metadata": {
    "execution": {
     "iopub.execute_input": "2023-12-29T23:38:57.496081Z",
     "iopub.status.busy": "2023-12-29T23:38:57.495698Z",
     "iopub.status.idle": "2023-12-29T23:38:57.504979Z",
     "shell.execute_reply": "2023-12-29T23:38:57.504379Z"
    },
    "papermill": {
     "duration": 0.013405,
     "end_time": "2023-12-29T23:38:57.506280",
     "exception": false,
     "start_time": "2023-12-29T23:38:57.492875",
     "status": "completed"
    },
    "tags": []
   },
   "outputs": [
    {
     "data": {
      "text/html": [
       "<div>\n",
       "<style scoped>\n",
       "    .dataframe tbody tr th:only-of-type {\n",
       "        vertical-align: middle;\n",
       "    }\n",
       "\n",
       "    .dataframe tbody tr th {\n",
       "        vertical-align: top;\n",
       "    }\n",
       "\n",
       "    .dataframe thead th {\n",
       "        text-align: right;\n",
       "    }\n",
       "</style>\n",
       "<table border=\"1\" class=\"dataframe\">\n",
       "  <thead>\n",
       "    <tr style=\"text-align: right;\">\n",
       "      <th></th>\n",
       "      <th>created_at</th>\n",
       "      <th>day</th>\n",
       "    </tr>\n",
       "  </thead>\n",
       "  <tbody>\n",
       "    <tr>\n",
       "      <th>176</th>\n",
       "      <td>2023-03-30 16:58:03</td>\n",
       "      <td>2023-03-30</td>\n",
       "    </tr>\n",
       "    <tr>\n",
       "      <th>177</th>\n",
       "      <td>2023-03-30 18:44:08</td>\n",
       "      <td>2023-03-30</td>\n",
       "    </tr>\n",
       "    <tr>\n",
       "      <th>180</th>\n",
       "      <td>2023-03-30 20:32:43</td>\n",
       "      <td>2023-03-30</td>\n",
       "    </tr>\n",
       "    <tr>\n",
       "      <th>181</th>\n",
       "      <td>2023-03-30 21:27:59</td>\n",
       "      <td>2023-03-30</td>\n",
       "    </tr>\n",
       "    <tr>\n",
       "      <th>183</th>\n",
       "      <td>2023-03-30 22:56:31</td>\n",
       "      <td>2023-03-30</td>\n",
       "    </tr>\n",
       "  </tbody>\n",
       "</table>\n",
       "</div>"
      ],
      "text/plain": [
       "             created_at        day\n",
       "176 2023-03-30 16:58:03 2023-03-30\n",
       "177 2023-03-30 18:44:08 2023-03-30\n",
       "180 2023-03-30 20:32:43 2023-03-30\n",
       "181 2023-03-30 21:27:59 2023-03-30\n",
       "183 2023-03-30 22:56:31 2023-03-30"
      ]
     },
     "execution_count": 7,
     "metadata": {},
     "output_type": "execute_result"
    }
   ],
   "source": [
    "orders.loc[:, ['created_at', 'day']].head()"
   ]
  },
  {
   "cell_type": "markdown",
   "id": "5d5928aa",
   "metadata": {
    "papermill": {
     "duration": 0.002573,
     "end_time": "2023-12-29T23:38:57.511536",
     "exception": false,
     "start_time": "2023-12-29T23:38:57.508963",
     "status": "completed"
    },
    "tags": []
   },
   "source": [
    "Save table cumulative weekly per project"
   ]
  },
  {
   "cell_type": "code",
   "execution_count": 8,
   "id": "1d00acc8",
   "metadata": {
    "execution": {
     "iopub.execute_input": "2023-12-29T23:38:57.517407Z",
     "iopub.status.busy": "2023-12-29T23:38:57.517063Z",
     "iopub.status.idle": "2023-12-29T23:38:57.527283Z",
     "shell.execute_reply": "2023-12-29T23:38:57.526667Z"
    },
    "papermill": {
     "duration": 0.01469,
     "end_time": "2023-12-29T23:38:57.528626",
     "exception": false,
     "start_time": "2023-12-29T23:38:57.513936",
     "status": "completed"
    },
    "tags": []
   },
   "outputs": [],
   "source": [
    "orders.groupby(\n",
    "  ['day', 'project_name']\n",
    ").number_of_tickets.pipe(\n",
    "  count_and_sum\n",
    ").tickets.unstack().fillna(0).resample('W-FRI').sum().cumsum().rename_axis('week').to_csv(\n",
    "  OUTPUT_DIR.joinpath('by_project_cumulative_weekly.csv')\n",
    ")"
   ]
  },
  {
   "cell_type": "markdown",
   "id": "f9c48ba8",
   "metadata": {
    "papermill": {
     "duration": 0.002485,
     "end_time": "2023-12-29T23:38:57.533662",
     "exception": false,
     "start_time": "2023-12-29T23:38:57.531177",
     "status": "completed"
    },
    "tags": []
   },
   "source": [
    "Save cumulative monthly sales"
   ]
  },
  {
   "cell_type": "code",
   "execution_count": 9,
   "id": "552cc200",
   "metadata": {
    "execution": {
     "iopub.execute_input": "2023-12-29T23:38:57.539585Z",
     "iopub.status.busy": "2023-12-29T23:38:57.539244Z",
     "iopub.status.idle": "2023-12-29T23:38:57.546181Z",
     "shell.execute_reply": "2023-12-29T23:38:57.545690Z"
    },
    "papermill": {
     "duration": 0.01131,
     "end_time": "2023-12-29T23:38:57.547459",
     "exception": false,
     "start_time": "2023-12-29T23:38:57.536149",
     "status": "completed"
    },
    "tags": []
   },
   "outputs": [],
   "source": [
    "orders.groupby(['day']).number_of_tickets.pipe(count_and_sum).resample('MS').sum().pipe(cumulate).rename_axis('month').to_csv(\n",
    "  OUTPUT_DIR.joinpath('monthly_cumulative.csv')\n",
    ")"
   ]
  },
  {
   "cell_type": "code",
   "execution_count": null,
   "id": "21961505",
   "metadata": {
    "papermill": {
     "duration": 0.00254,
     "end_time": "2023-12-29T23:38:57.552500",
     "exception": false,
     "start_time": "2023-12-29T23:38:57.549960",
     "status": "completed"
    },
    "tags": []
   },
   "outputs": [],
   "source": []
  }
 ],
 "metadata": {
  "kernelspec": {
   "display_name": "leeds-2023-YZF5GfJv",
   "language": "python",
   "name": "python3"
  },
  "language_info": {
   "codemirror_mode": {
    "name": "ipython",
    "version": 3
   },
   "file_extension": ".py",
   "mimetype": "text/x-python",
   "name": "python",
   "nbconvert_exporter": "python",
   "pygments_lexer": "ipython3",
   "version": "3.10.13"
  },
  "papermill": {
   "default_parameters": {},
   "duration": 1.855534,
   "end_time": "2023-12-29T23:38:57.770966",
   "environment_variables": {},
   "exception": null,
   "input_path": "prepare.ipynb",
   "output_path": "../../../../working/output/tickets-prepare.ipynb",
   "parameters": {},
   "start_time": "2023-12-29T23:38:55.915432",
   "version": "2.4.0"
  }
 },
 "nbformat": 4,
 "nbformat_minor": 5
}