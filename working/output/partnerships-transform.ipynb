{
 "cells": [
  {
   "cell_type": "code",
   "execution_count": 1,
   "id": "f502551b",
   "metadata": {
    "execution": {
     "iopub.execute_input": "2023-12-15T14:36:21.902309Z",
     "iopub.status.busy": "2023-12-15T14:36:21.902132Z",
     "iopub.status.idle": "2023-12-15T14:36:22.069235Z",
     "shell.execute_reply": "2023-12-15T14:36:22.068780Z"
    },
    "papermill": {
     "duration": 0.174094,
     "end_time": "2023-12-15T14:36:22.070383",
     "exception": false,
     "start_time": "2023-12-15T14:36:21.896289",
     "status": "completed"
    },
    "tags": []
   },
   "outputs": [],
   "source": [
    "import sys\n",
    "from pathlib import Path\n",
    "\n",
    "import pandas as pd\n",
    "\n",
    "TOP_DIR = Path('../../../').resolve()\n",
    "\n",
    "if str(TOP_DIR) not in sys.path: sys.path.append(str(TOP_DIR))"
   ]
  },
  {
   "cell_type": "code",
   "execution_count": 2,
   "id": "7eae8486",
   "metadata": {
    "execution": {
     "iopub.execute_input": "2023-12-15T14:36:22.484813Z",
     "iopub.status.busy": "2023-12-15T14:36:22.484016Z",
     "iopub.status.idle": "2023-12-15T14:36:27.118220Z",
     "shell.execute_reply": "2023-12-15T14:36:27.117747Z"
    },
    "papermill": {
     "duration": 5.047719,
     "end_time": "2023-12-15T14:36:27.119306",
     "exception": false,
     "start_time": "2023-12-15T14:36:22.071587",
     "status": "completed"
    },
    "tags": []
   },
   "outputs": [],
   "source": [
    "from lib.util.geo import postcode_formatter, postcode_to_ward_code"
   ]
  },
  {
   "cell_type": "code",
   "execution_count": 3,
   "id": "f052e0bb",
   "metadata": {
    "execution": {
     "iopub.execute_input": "2023-12-15T14:36:27.122359Z",
     "iopub.status.busy": "2023-12-15T14:36:27.122231Z",
     "iopub.status.idle": "2023-12-15T14:36:27.127814Z",
     "shell.execute_reply": "2023-12-15T14:36:27.127530Z"
    },
    "papermill": {
     "duration": 0.007978,
     "end_time": "2023-12-15T14:36:27.128559",
     "exception": false,
     "start_time": "2023-12-15T14:36:27.120581",
     "status": "completed"
    },
    "tags": []
   },
   "outputs": [],
   "source": [
    "data = pd.read_csv(\n",
    "    '../../../working/metrics/partnerships/all.csv',\n",
    "    parse_dates=['Start date', 'End date'],\n",
    "    usecols=[\n",
    "        # 'Partner Lead Contact',\n",
    "        'Partner Organisation',\n",
    "        'List of countries involved',\n",
    "        'End date',\n",
    "        # 'Baseline survey completed by partner',\n",
    "        'Start date',\n",
    "        'Partner Venue Postcode',\n",
    "        # 'Notes',\n",
    "        'Partnership Status',\n",
    "        'Project Artform',\n",
    "        # 'Project Description',\n",
    "        'Project Name',\n",
    "        # 'Offered SAIL training',\n",
    "        'Project Output',\n",
    "        # 'L23 economic contribution',\n",
    "        'International element to project?',\n",
    "        'Online/in person/both',\n",
    "        'Number of countries involved',\n",
    "        'Season',\n",
    "        # 'Partner Venue Name',\n",
    "        # 'Contract signed by partner',\n",
    "        'Duration of activity/event',\n",
    "        # 'LEEDS 2023 Assignee.id',\n",
    "        # 'LEEDS 2023 Assignee.email',\n",
    "        # 'LEEDS 2023 Assignee.name',\n",
    "        # 'Last Modified By.id',\n",
    "        # 'Last Modified By.email',\n",
    "        # 'Last Modified By.name',\n",
    "        # 'Activity log completed by partner',\n",
    "        # 'Final survey completed by partner',\n",
    "        # 'Number of unique countries',\n",
    "        'Contains heritage, young people',\n",
    "        # 'Total budget',\n",
    "        'Digital audiences',\n",
    "        'Audience numbers',\n",
    "        'number of participants',\n",
    "        'Total number of events'\n",
    "    ]\n",
    ")"
   ]
  },
  {
   "cell_type": "code",
   "execution_count": 4,
   "id": "2e64acba",
   "metadata": {
    "execution": {
     "iopub.execute_input": "2023-12-15T14:36:27.131176Z",
     "iopub.status.busy": "2023-12-15T14:36:27.131031Z",
     "iopub.status.idle": "2023-12-15T14:36:27.134463Z",
     "shell.execute_reply": "2023-12-15T14:36:27.134207Z"
    },
    "papermill": {
     "duration": 0.005442,
     "end_time": "2023-12-15T14:36:27.135080",
     "exception": false,
     "start_time": "2023-12-15T14:36:27.129638",
     "status": "completed"
    },
    "tags": []
   },
   "outputs": [
    {
     "data": {
      "text/plain": [
       "['Partner Organisation',\n",
       " 'List of countries involved',\n",
       " 'End date',\n",
       " 'Start date',\n",
       " 'Partner Venue Postcode',\n",
       " 'Partnership Status',\n",
       " 'Project Artform',\n",
       " 'Project Name',\n",
       " 'Project Output',\n",
       " 'International element to project?',\n",
       " 'Online/in person/both',\n",
       " 'Number of countries involved',\n",
       " 'Season',\n",
       " 'Duration of activity/event',\n",
       " 'Contains heritage, young people',\n",
       " 'Digital audiences',\n",
       " 'Audience numbers',\n",
       " 'number of participants',\n",
       " 'Total number of events']"
      ]
     },
     "execution_count": 4,
     "metadata": {},
     "output_type": "execute_result"
    }
   ],
   "source": [
    "data.columns.to_list()"
   ]
  },
  {
   "cell_type": "code",
   "execution_count": 5,
   "id": "2b4d622f",
   "metadata": {
    "execution": {
     "iopub.execute_input": "2023-12-15T14:36:27.137660Z",
     "iopub.status.busy": "2023-12-15T14:36:27.137534Z",
     "iopub.status.idle": "2023-12-15T14:36:27.139823Z",
     "shell.execute_reply": "2023-12-15T14:36:27.139558Z"
    },
    "papermill": {
     "duration": 0.004254,
     "end_time": "2023-12-15T14:36:27.140423",
     "exception": false,
     "start_time": "2023-12-15T14:36:27.136169",
     "status": "completed"
    },
    "tags": []
   },
   "outputs": [],
   "source": [
    "data.columns = data.columns.str.strip().str.lower().str.replace(r'[^a-z0-9]+', '_', regex=True)"
   ]
  },
  {
   "cell_type": "code",
   "execution_count": 6,
   "id": "f742d28e",
   "metadata": {
    "execution": {
     "iopub.execute_input": "2023-12-15T14:36:27.143071Z",
     "iopub.status.busy": "2023-12-15T14:36:27.142940Z",
     "iopub.status.idle": "2023-12-15T14:36:27.761907Z",
     "shell.execute_reply": "2023-12-15T14:36:27.761297Z"
    },
    "papermill": {
     "duration": 0.621533,
     "end_time": "2023-12-15T14:36:27.763073",
     "exception": false,
     "start_time": "2023-12-15T14:36:27.141540",
     "status": "completed"
    },
    "tags": []
   },
   "outputs": [],
   "source": [
    "data['partner_venue_ward_code'] = data['partner_venue_postcode'].pipe(postcode_formatter).map(postcode_to_ward_code)"
   ]
  },
  {
   "cell_type": "code",
   "execution_count": 7,
   "id": "93c0f2d1",
   "metadata": {
    "execution": {
     "iopub.execute_input": "2023-12-15T14:36:27.766292Z",
     "iopub.status.busy": "2023-12-15T14:36:27.766132Z",
     "iopub.status.idle": "2023-12-15T14:36:27.769402Z",
     "shell.execute_reply": "2023-12-15T14:36:27.769091Z"
    },
    "papermill": {
     "duration": 0.005771,
     "end_time": "2023-12-15T14:36:27.770196",
     "exception": false,
     "start_time": "2023-12-15T14:36:27.764425",
     "status": "completed"
    },
    "tags": []
   },
   "outputs": [],
   "source": [
    "data['list_of_countries_involved'] = (\n",
    "  data['list_of_countries_involved']\n",
    "    .str.strip()\n",
    "    .str.replace('[\\.]', '', regex=True)\n",
    "    .str.replace(r'[\\n]+|\\s*,\\s*', '|', regex=True)\n",
    "    .str.replace('The Netherlands','Netherlands')\n",
    "    .str.strip('|')\n",
    "    .str.split('|')\n",
    ")\n"
   ]
  },
  {
   "cell_type": "code",
   "execution_count": 8,
   "id": "cf7a6728",
   "metadata": {
    "execution": {
     "iopub.execute_input": "2023-12-15T14:36:27.773042Z",
     "iopub.status.busy": "2023-12-15T14:36:27.772928Z",
     "iopub.status.idle": "2023-12-15T14:36:27.775713Z",
     "shell.execute_reply": "2023-12-15T14:36:27.775436Z"
    },
    "papermill": {
     "duration": 0.004923,
     "end_time": "2023-12-15T14:36:27.776320",
     "exception": false,
     "start_time": "2023-12-15T14:36:27.771397",
     "status": "completed"
    },
    "tags": []
   },
   "outputs": [],
   "source": [
    "data['number_of_countries_involved'] = data.loc[data.list_of_countries_involved.notna(), 'list_of_countries_involved'].map(len)\n",
    "data['number_of_countries_involved'].fillna(0, inplace=True)"
   ]
  },
  {
   "cell_type": "code",
   "execution_count": 9,
   "id": "841ab8bb",
   "metadata": {
    "execution": {
     "iopub.execute_input": "2023-12-15T14:36:27.779092Z",
     "iopub.status.busy": "2023-12-15T14:36:27.778928Z",
     "iopub.status.idle": "2023-12-15T14:36:27.780755Z",
     "shell.execute_reply": "2023-12-15T14:36:27.780487Z"
    },
    "papermill": {
     "duration": 0.003932,
     "end_time": "2023-12-15T14:36:27.781433",
     "exception": false,
     "start_time": "2023-12-15T14:36:27.777501",
     "status": "completed"
    },
    "tags": []
   },
   "outputs": [],
   "source": [
    "OUTPUT_DIR = Path('../../../data/metrics/partnerships')\n",
    "OUTPUT_DIR.mkdir(parents=True, exist_ok=True)"
   ]
  },
  {
   "cell_type": "code",
   "execution_count": 10,
   "id": "9ffae200",
   "metadata": {
    "execution": {
     "iopub.execute_input": "2023-12-15T14:36:27.784215Z",
     "iopub.status.busy": "2023-12-15T14:36:27.784082Z",
     "iopub.status.idle": "2023-12-15T14:36:27.787137Z",
     "shell.execute_reply": "2023-12-15T14:36:27.786854Z"
    },
    "papermill": {
     "duration": 0.005266,
     "end_time": "2023-12-15T14:36:27.787838",
     "exception": false,
     "start_time": "2023-12-15T14:36:27.782572",
     "status": "completed"
    },
    "tags": []
   },
   "outputs": [],
   "source": [
    "data.to_csv(\n",
    "  OUTPUT_DIR.joinpath('partnerships.csv'),\n",
    "  index=False\n",
    ")"
   ]
  },
  {
   "cell_type": "code",
   "execution_count": 11,
   "id": "228d9ab3",
   "metadata": {
    "execution": {
     "iopub.execute_input": "2023-12-15T14:36:27.790655Z",
     "iopub.status.busy": "2023-12-15T14:36:27.790526Z",
     "iopub.status.idle": "2023-12-15T14:36:27.793748Z",
     "shell.execute_reply": "2023-12-15T14:36:27.793435Z"
    },
    "papermill": {
     "duration": 0.005504,
     "end_time": "2023-12-15T14:36:27.794515",
     "exception": false,
     "start_time": "2023-12-15T14:36:27.789011",
     "status": "completed"
    },
    "tags": []
   },
   "outputs": [],
   "source": [
    "data.loc[data.list_of_countries_involved.notna(), 'list_of_countries_involved'].explode().drop_duplicates().sort_values().reset_index(drop=True).to_frame('unique_countries').to_csv(OUTPUT_DIR.joinpath('countries.csv'), index=False)"
   ]
  },
  {
   "cell_type": "code",
   "execution_count": null,
   "id": "5e050420",
   "metadata": {
    "papermill": {
     "duration": 0.001147,
     "end_time": "2023-12-15T14:36:27.797355",
     "exception": false,
     "start_time": "2023-12-15T14:36:27.796208",
     "status": "completed"
    },
    "tags": []
   },
   "outputs": [],
   "source": []
  }
 ],
 "metadata": {
  "kernelspec": {
   "display_name": "leeds-2023-YZF5GfJv",
   "language": "python",
   "name": "python3"
  },
  "language_info": {
   "codemirror_mode": {
    "name": "ipython",
    "version": 3
   },
   "file_extension": ".py",
   "mimetype": "text/x-python",
   "name": "python",
   "nbconvert_exporter": "python",
   "pygments_lexer": "ipython3",
   "version": "3.10.12"
  },
  "papermill": {
   "default_parameters": {},
   "duration": 6.974969,
   "end_time": "2023-12-15T14:36:28.014526",
   "environment_variables": {},
   "exception": null,
   "input_path": "transform.ipynb",
   "output_path": "../../../working/output/partnerships-transform.ipynb",
   "parameters": {},
   "start_time": "2023-12-15T14:36:21.039557",
   "version": "2.4.0"
  }
 },
 "nbformat": 4,
 "nbformat_minor": 5
}