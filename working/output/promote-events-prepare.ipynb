{
 "cells": [
  {
   "cell_type": "code",
   "execution_count": 1,
   "id": "43a9c9ae",
   "metadata": {
    "execution": {
     "iopub.execute_input": "2023-10-30T23:38:11.696139Z",
     "iopub.status.busy": "2023-10-30T23:38:11.695778Z",
     "iopub.status.idle": "2023-10-30T23:38:12.040711Z",
     "shell.execute_reply": "2023-10-30T23:38:12.039753Z"
    },
    "papermill": {
     "duration": 0.352103,
     "end_time": "2023-10-30T23:38:12.043007",
     "exception": false,
     "start_time": "2023-10-30T23:38:11.690904",
     "status": "completed"
    },
    "tags": []
   },
   "outputs": [],
   "source": [
    "import os\n",
    "import pandas as pd"
   ]
  },
  {
   "cell_type": "code",
   "execution_count": 2,
   "id": "626c5447",
   "metadata": {
    "execution": {
     "iopub.execute_input": "2023-10-30T23:38:12.049244Z",
     "iopub.status.busy": "2023-10-30T23:38:12.048894Z",
     "iopub.status.idle": "2023-10-30T23:38:12.054552Z",
     "shell.execute_reply": "2023-10-30T23:38:12.053692Z"
    },
    "papermill": {
     "duration": 0.011033,
     "end_time": "2023-10-30T23:38:12.056597",
     "exception": false,
     "start_time": "2023-10-30T23:38:12.045564",
     "status": "completed"
    },
    "tags": []
   },
   "outputs": [],
   "source": [
    "DATA_DIR='../../../docs/metrics/events/promote/_data/'\n",
    "os.makedirs(DATA_DIR, exist_ok=True)"
   ]
  },
  {
   "cell_type": "code",
   "execution_count": 3,
   "id": "058d3ba3",
   "metadata": {
    "execution": {
     "iopub.execute_input": "2023-10-30T23:38:12.062929Z",
     "iopub.status.busy": "2023-10-30T23:38:12.062665Z",
     "iopub.status.idle": "2023-10-30T23:38:12.073287Z",
     "shell.execute_reply": "2023-10-30T23:38:12.072410Z"
    },
    "papermill": {
     "duration": 0.016597,
     "end_time": "2023-10-30T23:38:12.075325",
     "exception": false,
     "start_time": "2023-10-30T23:38:12.058728",
     "status": "completed"
    },
    "tags": []
   },
   "outputs": [],
   "source": [
    "data = pd.read_csv('../../../data/metrics/events/promote-events/events.csv', parse_dates=['time'])"
   ]
  },
  {
   "cell_type": "code",
   "execution_count": 4,
   "id": "e23cb676",
   "metadata": {
    "execution": {
     "iopub.execute_input": "2023-10-30T23:38:12.080936Z",
     "iopub.status.busy": "2023-10-30T23:38:12.080676Z",
     "iopub.status.idle": "2023-10-30T23:38:12.087247Z",
     "shell.execute_reply": "2023-10-30T23:38:12.086390Z"
    },
    "papermill": {
     "duration": 0.011674,
     "end_time": "2023-10-30T23:38:12.089174",
     "exception": false,
     "start_time": "2023-10-30T23:38:12.077500",
     "status": "completed"
    },
    "tags": []
   },
   "outputs": [],
   "source": [
    "pd.Series({\n",
    "    'total_events': len(data.id.unique()),\n",
    "    'total_event_instances': len(data.time),\n",
    "    'earliest_event': data.time.min(),\n",
    "    'latest_event': data.time.max(),\n",
    "}).to_json(\n",
    "    os.path.join(DATA_DIR, 'headlines.json'),\n",
    "    date_format='iso', indent=2\n",
    ")"
   ]
  },
  {
   "cell_type": "code",
   "execution_count": 5,
   "id": "cfdd6eb3",
   "metadata": {
    "execution": {
     "iopub.execute_input": "2023-10-30T23:38:12.095318Z",
     "iopub.status.busy": "2023-10-30T23:38:12.094691Z",
     "iopub.status.idle": "2023-10-30T23:38:12.106273Z",
     "shell.execute_reply": "2023-10-30T23:38:12.105376Z"
    },
    "papermill": {
     "duration": 0.016579,
     "end_time": "2023-10-30T23:38:12.108028",
     "exception": false,
     "start_time": "2023-10-30T23:38:12.091449",
     "status": "completed"
    },
    "tags": []
   },
   "outputs": [],
   "source": [
    "events = pd.DataFrame({\n",
    "    'events': data.groupby('id').agg({ 'time': 'min' }).reset_index().groupby('time').id.count(),\n",
    "    'event_instances': data.groupby('time').id.count(),\n",
    "}).fillna(0).astype(int)"
   ]
  },
  {
   "cell_type": "code",
   "execution_count": 6,
   "id": "4623ba80",
   "metadata": {
    "execution": {
     "iopub.execute_input": "2023-10-30T23:38:12.114174Z",
     "iopub.status.busy": "2023-10-30T23:38:12.113655Z",
     "iopub.status.idle": "2023-10-30T23:38:12.118206Z",
     "shell.execute_reply": "2023-10-30T23:38:12.117299Z"
    },
    "papermill": {
     "duration": 0.009988,
     "end_time": "2023-10-30T23:38:12.120402",
     "exception": false,
     "start_time": "2023-10-30T23:38:12.110414",
     "status": "completed"
    },
    "tags": []
   },
   "outputs": [],
   "source": [
    "def cumulate(data):\n",
    "    return pd.concat([\n",
    "        data,\n",
    "        data.cumsum().rename(columns=lambda c: f'cumulative_{c}')\n",
    "    ], axis=1)"
   ]
  },
  {
   "cell_type": "code",
   "execution_count": 7,
   "id": "ea2945c0",
   "metadata": {
    "execution": {
     "iopub.execute_input": "2023-10-30T23:38:12.126521Z",
     "iopub.status.busy": "2023-10-30T23:38:12.125926Z",
     "iopub.status.idle": "2023-10-30T23:38:12.137810Z",
     "shell.execute_reply": "2023-10-30T23:38:12.136925Z"
    },
    "papermill": {
     "duration": 0.017242,
     "end_time": "2023-10-30T23:38:12.139911",
     "exception": false,
     "start_time": "2023-10-30T23:38:12.122669",
     "status": "completed"
    },
    "tags": []
   },
   "outputs": [],
   "source": [
    "events.resample('W-FRI').sum().pipe(cumulate).to_csv(os.path.join(DATA_DIR, 'by_week.csv'))"
   ]
  },
  {
   "cell_type": "code",
   "execution_count": 8,
   "id": "c8eb75f5",
   "metadata": {
    "execution": {
     "iopub.execute_input": "2023-10-30T23:38:12.146667Z",
     "iopub.status.busy": "2023-10-30T23:38:12.145853Z",
     "iopub.status.idle": "2023-10-30T23:38:12.153252Z",
     "shell.execute_reply": "2023-10-30T23:38:12.152403Z"
    },
    "papermill": {
     "duration": 0.012907,
     "end_time": "2023-10-30T23:38:12.155297",
     "exception": false,
     "start_time": "2023-10-30T23:38:12.142390",
     "status": "completed"
    },
    "tags": []
   },
   "outputs": [],
   "source": [
    "events.resample('MS').sum().pipe(cumulate).to_csv(os.path.join(DATA_DIR, 'by_month.csv'))"
   ]
  },
  {
   "cell_type": "code",
   "execution_count": null,
   "id": "0a5bb97e",
   "metadata": {
    "papermill": {
     "duration": 0.002804,
     "end_time": "2023-10-30T23:38:12.160531",
     "exception": false,
     "start_time": "2023-10-30T23:38:12.157727",
     "status": "completed"
    },
    "tags": []
   },
   "outputs": [],
   "source": []
  }
 ],
 "metadata": {
  "kernelspec": {
   "display_name": "leeds-2023-YZF5GfJv",
   "language": "python",
   "name": "python3"
  },
  "language_info": {
   "codemirror_mode": {
    "name": "ipython",
    "version": 3
   },
   "file_extension": ".py",
   "mimetype": "text/x-python",
   "name": "python",
   "nbconvert_exporter": "python",
   "pygments_lexer": "ipython3",
   "version": "3.10.13"
  },
  "papermill": {
   "default_parameters": {},
   "duration": 2.521402,
   "end_time": "2023-10-30T23:38:12.381165",
   "environment_variables": {},
   "exception": null,
   "input_path": "prepare.ipynb",
   "output_path": "../../../working/output/promote-events-prepare.ipynb",
   "parameters": {},
   "start_time": "2023-10-30T23:38:09.859763",
   "version": "2.4.0"
  }
 },
 "nbformat": 4,
 "nbformat_minor": 5
}