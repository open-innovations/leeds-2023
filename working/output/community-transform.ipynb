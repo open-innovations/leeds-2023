{
 "cells": [
  {
   "cell_type": "code",
   "execution_count": 1,
   "id": "ec341787",
   "metadata": {
    "execution": {
     "iopub.execute_input": "2023-10-30T23:38:16.714110Z",
     "iopub.status.busy": "2023-10-30T23:38:16.713104Z",
     "iopub.status.idle": "2023-10-30T23:38:16.723831Z",
     "shell.execute_reply": "2023-10-30T23:38:16.723060Z"
    },
    "papermill": {
     "duration": 0.017469,
     "end_time": "2023-10-30T23:38:16.725815",
     "exception": false,
     "start_time": "2023-10-30T23:38:16.708346",
     "status": "completed"
    },
    "tags": []
   },
   "outputs": [],
   "source": [
    "import os\n",
    "import sys\n",
    "\n",
    "TOP_DIR=os.path.realpath(\"../../..\")\n",
    "if TOP_DIR not in sys.path: sys.path.append(TOP_DIR)"
   ]
  },
  {
   "cell_type": "code",
   "execution_count": 2,
   "id": "c7efc722",
   "metadata": {
    "execution": {
     "iopub.execute_input": "2023-10-30T23:38:16.733039Z",
     "iopub.status.busy": "2023-10-30T23:38:16.732779Z",
     "iopub.status.idle": "2023-10-30T23:38:29.212691Z",
     "shell.execute_reply": "2023-10-30T23:38:29.211545Z"
    },
    "papermill": {
     "duration": 12.485905,
     "end_time": "2023-10-30T23:38:29.214755",
     "exception": false,
     "start_time": "2023-10-30T23:38:16.728850",
     "status": "completed"
    },
    "tags": []
   },
   "outputs": [],
   "source": [
    "import pandas as pd\n",
    "import numpy as np\n",
    "from lib.util.convert import standardise_columns, literal_converter\n",
    "from lib.util.geo import normalise_leeds_wards, ward_name_to_code"
   ]
  },
  {
   "cell_type": "code",
   "execution_count": 3,
   "id": "6c654877",
   "metadata": {
    "execution": {
     "iopub.execute_input": "2023-10-30T23:38:29.222416Z",
     "iopub.status.busy": "2023-10-30T23:38:29.221928Z",
     "iopub.status.idle": "2023-10-30T23:38:29.247122Z",
     "shell.execute_reply": "2023-10-30T23:38:29.246176Z"
    },
    "papermill": {
     "duration": 0.031459,
     "end_time": "2023-10-30T23:38:29.249350",
     "exception": false,
     "start_time": "2023-10-30T23:38:29.217891",
     "status": "completed"
    },
    "tags": []
   },
   "outputs": [],
   "source": [
    "data = pd.read_csv('../../../working/metrics/community/events.csv', parse_dates=['Start date'])\n",
    "data = data.rename(columns=standardise_columns)"
   ]
  },
  {
   "cell_type": "code",
   "execution_count": 4,
   "id": "59dd7fb2",
   "metadata": {
    "execution": {
     "iopub.execute_input": "2023-10-30T23:38:29.256617Z",
     "iopub.status.busy": "2023-10-30T23:38:29.255743Z",
     "iopub.status.idle": "2023-10-30T23:38:29.267443Z",
     "shell.execute_reply": "2023-10-30T23:38:29.266574Z"
    },
    "papermill": {
     "duration": 0.017335,
     "end_time": "2023-10-30T23:38:29.269523",
     "exception": false,
     "start_time": "2023-10-30T23:38:29.252188",
     "status": "completed"
    },
    "tags": []
   },
   "outputs": [],
   "source": [
    "wards = data['ward_(from_venue)'].fillna('[]').pipe(literal_converter).apply(np.unique)"
   ]
  },
  {
   "cell_type": "code",
   "execution_count": 5,
   "id": "fc0c8178",
   "metadata": {
    "execution": {
     "iopub.execute_input": "2023-10-30T23:38:29.275962Z",
     "iopub.status.busy": "2023-10-30T23:38:29.275690Z",
     "iopub.status.idle": "2023-10-30T23:38:29.307119Z",
     "shell.execute_reply": "2023-10-30T23:38:29.305961Z"
    },
    "papermill": {
     "duration": 0.037047,
     "end_time": "2023-10-30T23:38:29.309308",
     "exception": false,
     "start_time": "2023-10-30T23:38:29.272261",
     "status": "completed"
    },
    "tags": []
   },
   "outputs": [],
   "source": [
    "data['ward_name'] = wards.apply(lambda x: x[0] if len(x) > 0 else np.nan).pipe(normalise_leeds_wards)\n",
    "data['ward_code'] = data.ward_name.pipe(ward_name_to_code)\n",
    "data['audience'] = data.actual_audience_size_number_of_participants_in_person\n",
    "cleaned_data = data.loc[:, ['event_name', 'project_name', 'start_date', 'ward_name', 'ward_code', 'audience']]"
   ]
  },
  {
   "cell_type": "code",
   "execution_count": 6,
   "id": "cb59d3ae",
   "metadata": {
    "execution": {
     "iopub.execute_input": "2023-10-30T23:38:29.316158Z",
     "iopub.status.busy": "2023-10-30T23:38:29.315504Z",
     "iopub.status.idle": "2023-10-30T23:38:29.323550Z",
     "shell.execute_reply": "2023-10-30T23:38:29.322768Z"
    },
    "papermill": {
     "duration": 0.013749,
     "end_time": "2023-10-30T23:38:29.325631",
     "exception": false,
     "start_time": "2023-10-30T23:38:29.311882",
     "status": "completed"
    },
    "tags": []
   },
   "outputs": [],
   "source": [
    "DATA_DIR='../../../data/metrics/community'\n",
    "os.makedirs(DATA_DIR, exist_ok=True)\n",
    "cleaned_data.to_csv(os.path.join(DATA_DIR, 'events.csv'), index=False)"
   ]
  },
  {
   "cell_type": "markdown",
   "id": "4c1566ac",
   "metadata": {
    "papermill": {
     "duration": 0.003308,
     "end_time": "2023-10-30T23:38:29.331805",
     "exception": false,
     "start_time": "2023-10-30T23:38:29.328497",
     "status": "completed"
    },
    "tags": []
   },
   "source": [
    "Missing or duplicated wards"
   ]
  },
  {
   "cell_type": "code",
   "execution_count": 7,
   "id": "7b2e6e5c",
   "metadata": {
    "execution": {
     "iopub.execute_input": "2023-10-30T23:38:29.339097Z",
     "iopub.status.busy": "2023-10-30T23:38:29.338471Z",
     "iopub.status.idle": "2023-10-30T23:38:29.359543Z",
     "shell.execute_reply": "2023-10-30T23:38:29.358476Z"
    },
    "papermill": {
     "duration": 0.027,
     "end_time": "2023-10-30T23:38:29.361567",
     "exception": false,
     "start_time": "2023-10-30T23:38:29.334567",
     "status": "completed"
    },
    "tags": []
   },
   "outputs": [
    {
     "data": {
      "text/html": [
       "<div>\n",
       "<style scoped>\n",
       "    .dataframe tbody tr th:only-of-type {\n",
       "        vertical-align: middle;\n",
       "    }\n",
       "\n",
       "    .dataframe tbody tr th {\n",
       "        vertical-align: top;\n",
       "    }\n",
       "\n",
       "    .dataframe thead th {\n",
       "        text-align: right;\n",
       "    }\n",
       "</style>\n",
       "<table border=\"1\" class=\"dataframe\">\n",
       "  <thead>\n",
       "    <tr style=\"text-align: right;\">\n",
       "      <th></th>\n",
       "      <th>project_name</th>\n",
       "      <th>event_name</th>\n",
       "      <th>start_date</th>\n",
       "      <th>ward_(from_venue)</th>\n",
       "    </tr>\n",
       "  </thead>\n",
       "  <tbody>\n",
       "    <tr>\n",
       "      <th>49</th>\n",
       "      <td>01 - The Awakening</td>\n",
       "      <td>Creation Station - Leeds City Council</td>\n",
       "      <td>2022-11-23</td>\n",
       "      <td>NaN</td>\n",
       "    </tr>\n",
       "    <tr>\n",
       "      <th>50</th>\n",
       "      <td>01 - The Awakening</td>\n",
       "      <td>Creation Station - Leeds City Council</td>\n",
       "      <td>2022-11-24</td>\n",
       "      <td>NaN</td>\n",
       "    </tr>\n",
       "    <tr>\n",
       "      <th>64</th>\n",
       "      <td>01 - The Awakening</td>\n",
       "      <td>Creation Station - Yorkshire Schools Dance Fes...</td>\n",
       "      <td>2022-11-19</td>\n",
       "      <td>NaN</td>\n",
       "    </tr>\n",
       "    <tr>\n",
       "      <th>66</th>\n",
       "      <td>01 - The Awakening</td>\n",
       "      <td>Creation Station: Ballot Engagement</td>\n",
       "      <td>NaT</td>\n",
       "      <td>NaN</td>\n",
       "    </tr>\n",
       "    <tr>\n",
       "      <th>68</th>\n",
       "      <td>01 - The Awakening</td>\n",
       "      <td>Leeds Arts University - Creation Station</td>\n",
       "      <td>NaT</td>\n",
       "      <td>NaN</td>\n",
       "    </tr>\n",
       "    <tr>\n",
       "      <th>...</th>\n",
       "      <td>...</td>\n",
       "      <td>...</td>\n",
       "      <td>...</td>\n",
       "      <td>...</td>\n",
       "    </tr>\n",
       "    <tr>\n",
       "      <th>302</th>\n",
       "      <td>Waking the Artist</td>\n",
       "      <td>The Den Headingley Pack</td>\n",
       "      <td>2023-02-13</td>\n",
       "      <td>NaN</td>\n",
       "    </tr>\n",
       "    <tr>\n",
       "      <th>303</th>\n",
       "      <td>Waking the Artist</td>\n",
       "      <td>The Heritage Cooking Company CIC Pack</td>\n",
       "      <td>2023-02-13</td>\n",
       "      <td>NaN</td>\n",
       "    </tr>\n",
       "    <tr>\n",
       "      <th>304</th>\n",
       "      <td>Waking the Artist</td>\n",
       "      <td>Turning Lives Around Pack</td>\n",
       "      <td>2023-02-22</td>\n",
       "      <td>NaN</td>\n",
       "    </tr>\n",
       "    <tr>\n",
       "      <th>306</th>\n",
       "      <td>Waking the Artist</td>\n",
       "      <td>Wetherby Town Hall Pack</td>\n",
       "      <td>2023-02-25</td>\n",
       "      <td>NaN</td>\n",
       "    </tr>\n",
       "    <tr>\n",
       "      <th>307</th>\n",
       "      <td>Waking the Artist</td>\n",
       "      <td>Who Let The Dads Out Fulneck Moravian Church Pack</td>\n",
       "      <td>2023-02-22</td>\n",
       "      <td>NaN</td>\n",
       "    </tr>\n",
       "  </tbody>\n",
       "</table>\n",
       "<p>83 rows × 4 columns</p>\n",
       "</div>"
      ],
      "text/plain": [
       "           project_name                                         event_name  \\\n",
       "49   01 - The Awakening             Creation Station - Leeds City Council    \n",
       "50   01 - The Awakening             Creation Station - Leeds City Council    \n",
       "64   01 - The Awakening  Creation Station - Yorkshire Schools Dance Fes...   \n",
       "66   01 - The Awakening               Creation Station: Ballot Engagement    \n",
       "68   01 - The Awakening           Leeds Arts University - Creation Station   \n",
       "..                  ...                                                ...   \n",
       "302   Waking the Artist                            The Den Headingley Pack   \n",
       "303   Waking the Artist              The Heritage Cooking Company CIC Pack   \n",
       "304   Waking the Artist                          Turning Lives Around Pack   \n",
       "306   Waking the Artist                            Wetherby Town Hall Pack   \n",
       "307   Waking the Artist  Who Let The Dads Out Fulneck Moravian Church Pack   \n",
       "\n",
       "    start_date ward_(from_venue)  \n",
       "49  2022-11-23               NaN  \n",
       "50  2022-11-24               NaN  \n",
       "64  2022-11-19               NaN  \n",
       "66         NaT               NaN  \n",
       "68         NaT               NaN  \n",
       "..         ...               ...  \n",
       "302 2023-02-13               NaN  \n",
       "303 2023-02-13               NaN  \n",
       "304 2023-02-22               NaN  \n",
       "306 2023-02-25               NaN  \n",
       "307 2023-02-22               NaN  \n",
       "\n",
       "[83 rows x 4 columns]"
      ]
     },
     "execution_count": 7,
     "metadata": {},
     "output_type": "execute_result"
    }
   ],
   "source": [
    "data.loc[wards.apply(len) != 1, ['project_name', 'event_name', 'start_date', 'ward_(from_venue)']]"
   ]
  },
  {
   "cell_type": "markdown",
   "id": "6016fc30",
   "metadata": {
    "papermill": {
     "duration": 0.002955,
     "end_time": "2023-10-30T23:38:29.368454",
     "exception": false,
     "start_time": "2023-10-30T23:38:29.365499",
     "status": "completed"
    },
    "tags": []
   },
   "source": [
    "Missing audience"
   ]
  },
  {
   "cell_type": "code",
   "execution_count": 8,
   "id": "3453663e",
   "metadata": {
    "execution": {
     "iopub.execute_input": "2023-10-30T23:38:29.376323Z",
     "iopub.status.busy": "2023-10-30T23:38:29.375675Z",
     "iopub.status.idle": "2023-10-30T23:38:29.390532Z",
     "shell.execute_reply": "2023-10-30T23:38:29.389508Z"
    },
    "papermill": {
     "duration": 0.020851,
     "end_time": "2023-10-30T23:38:29.392363",
     "exception": false,
     "start_time": "2023-10-30T23:38:29.371512",
     "status": "completed"
    },
    "tags": []
   },
   "outputs": [
    {
     "data": {
      "text/html": [
       "<div>\n",
       "<style scoped>\n",
       "    .dataframe tbody tr th:only-of-type {\n",
       "        vertical-align: middle;\n",
       "    }\n",
       "\n",
       "    .dataframe tbody tr th {\n",
       "        vertical-align: top;\n",
       "    }\n",
       "\n",
       "    .dataframe thead th {\n",
       "        text-align: right;\n",
       "    }\n",
       "</style>\n",
       "<table border=\"1\" class=\"dataframe\">\n",
       "  <thead>\n",
       "    <tr style=\"text-align: right;\">\n",
       "      <th></th>\n",
       "      <th>project_name</th>\n",
       "      <th>event_name</th>\n",
       "      <th>start_date</th>\n",
       "      <th>audience</th>\n",
       "    </tr>\n",
       "  </thead>\n",
       "  <tbody>\n",
       "    <tr>\n",
       "      <th>0</th>\n",
       "      <td>01 - The Awakening</td>\n",
       "      <td>Ballot Facilitated Session - Carr Manor Commun...</td>\n",
       "      <td>2022-11-01</td>\n",
       "      <td>NaN</td>\n",
       "    </tr>\n",
       "    <tr>\n",
       "      <th>1</th>\n",
       "      <td>01 - The Awakening</td>\n",
       "      <td>Ballot Facilitated Session - Chapel Allerton P...</td>\n",
       "      <td>2022-11-07</td>\n",
       "      <td>NaN</td>\n",
       "    </tr>\n",
       "    <tr>\n",
       "      <th>2</th>\n",
       "      <td>01 - The Awakening</td>\n",
       "      <td>Ballot Facilitated Session - Cobden Primary Sc...</td>\n",
       "      <td>2022-11-09</td>\n",
       "      <td>NaN</td>\n",
       "    </tr>\n",
       "    <tr>\n",
       "      <th>3</th>\n",
       "      <td>01 - The Awakening</td>\n",
       "      <td>Ballot Facilitated Session - Cobden Primary Sc...</td>\n",
       "      <td>2022-11-10</td>\n",
       "      <td>NaN</td>\n",
       "    </tr>\n",
       "    <tr>\n",
       "      <th>4</th>\n",
       "      <td>01 - The Awakening</td>\n",
       "      <td>Ballot Facilitated Session - Cobden Primary Sc...</td>\n",
       "      <td>2022-11-18</td>\n",
       "      <td>NaN</td>\n",
       "    </tr>\n",
       "    <tr>\n",
       "      <th>...</th>\n",
       "      <td>...</td>\n",
       "      <td>...</td>\n",
       "      <td>...</td>\n",
       "      <td>...</td>\n",
       "    </tr>\n",
       "    <tr>\n",
       "      <th>257</th>\n",
       "      <td>Hidden Stories</td>\n",
       "      <td>Try Your Hand at Ceramic Sculpture</td>\n",
       "      <td>2023-09-10</td>\n",
       "      <td>NaN</td>\n",
       "    </tr>\n",
       "    <tr>\n",
       "      <th>258</th>\n",
       "      <td>Hidden Stories</td>\n",
       "      <td>Try Your Hand at Ceramic Sculpture</td>\n",
       "      <td>2023-09-16</td>\n",
       "      <td>NaN</td>\n",
       "    </tr>\n",
       "    <tr>\n",
       "      <th>259</th>\n",
       "      <td>Hidden Stories</td>\n",
       "      <td>Try Your Hand at Stone Carving</td>\n",
       "      <td>2023-09-09</td>\n",
       "      <td>NaN</td>\n",
       "    </tr>\n",
       "    <tr>\n",
       "      <th>260</th>\n",
       "      <td>Hidden Stories</td>\n",
       "      <td>Try Your Hand at Stone Carving</td>\n",
       "      <td>2023-09-10</td>\n",
       "      <td>NaN</td>\n",
       "    </tr>\n",
       "    <tr>\n",
       "      <th>261</th>\n",
       "      <td>Hidden Stories</td>\n",
       "      <td>Try Your Hand at Stone Carving</td>\n",
       "      <td>2023-09-16</td>\n",
       "      <td>NaN</td>\n",
       "    </tr>\n",
       "  </tbody>\n",
       "</table>\n",
       "<p>178 rows × 4 columns</p>\n",
       "</div>"
      ],
      "text/plain": [
       "           project_name                                         event_name  \\\n",
       "0    01 - The Awakening  Ballot Facilitated Session - Carr Manor Commun...   \n",
       "1    01 - The Awakening  Ballot Facilitated Session - Chapel Allerton P...   \n",
       "2    01 - The Awakening  Ballot Facilitated Session - Cobden Primary Sc...   \n",
       "3    01 - The Awakening  Ballot Facilitated Session - Cobden Primary Sc...   \n",
       "4    01 - The Awakening  Ballot Facilitated Session - Cobden Primary Sc...   \n",
       "..                  ...                                                ...   \n",
       "257      Hidden Stories                 Try Your Hand at Ceramic Sculpture   \n",
       "258      Hidden Stories                 Try Your Hand at Ceramic Sculpture   \n",
       "259      Hidden Stories                     Try Your Hand at Stone Carving   \n",
       "260      Hidden Stories                     Try Your Hand at Stone Carving   \n",
       "261      Hidden Stories                     Try Your Hand at Stone Carving   \n",
       "\n",
       "    start_date  audience  \n",
       "0   2022-11-01       NaN  \n",
       "1   2022-11-07       NaN  \n",
       "2   2022-11-09       NaN  \n",
       "3   2022-11-10       NaN  \n",
       "4   2022-11-18       NaN  \n",
       "..         ...       ...  \n",
       "257 2023-09-10       NaN  \n",
       "258 2023-09-16       NaN  \n",
       "259 2023-09-09       NaN  \n",
       "260 2023-09-10       NaN  \n",
       "261 2023-09-16       NaN  \n",
       "\n",
       "[178 rows x 4 columns]"
      ]
     },
     "execution_count": 8,
     "metadata": {},
     "output_type": "execute_result"
    }
   ],
   "source": [
    "data.loc[data.audience.isna(), ['project_name', 'event_name', 'start_date', 'audience']]"
   ]
  },
  {
   "cell_type": "code",
   "execution_count": null,
   "id": "148145c3",
   "metadata": {
    "papermill": {
     "duration": 0.003232,
     "end_time": "2023-10-30T23:38:29.398722",
     "exception": false,
     "start_time": "2023-10-30T23:38:29.395490",
     "status": "completed"
    },
    "tags": []
   },
   "outputs": [],
   "source": []
  },
  {
   "cell_type": "code",
   "execution_count": null,
   "id": "0eafe6a7",
   "metadata": {
    "papermill": {
     "duration": 0.003992,
     "end_time": "2023-10-30T23:38:29.406081",
     "exception": false,
     "start_time": "2023-10-30T23:38:29.402089",
     "status": "completed"
    },
    "tags": []
   },
   "outputs": [],
   "source": []
  }
 ],
 "metadata": {
  "kernelspec": {
   "display_name": "leeds-2023-YZF5GfJv",
   "language": "python",
   "name": "python3"
  },
  "language_info": {
   "codemirror_mode": {
    "name": "ipython",
    "version": 3
   },
   "file_extension": ".py",
   "mimetype": "text/x-python",
   "name": "python",
   "nbconvert_exporter": "python",
   "pygments_lexer": "ipython3",
   "version": "3.10.13"
  },
  "papermill": {
   "default_parameters": {},
   "duration": 14.628455,
   "end_time": "2023-10-30T23:38:29.728520",
   "environment_variables": {},
   "exception": null,
   "input_path": "transform.ipynb",
   "output_path": "../../../working/output/community-transform.ipynb",
   "parameters": {},
   "start_time": "2023-10-30T23:38:15.100065",
   "version": "2.4.0"
  }
 },
 "nbformat": 4,
 "nbformat_minor": 5
}