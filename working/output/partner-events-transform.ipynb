{
 "cells": [
  {
   "cell_type": "code",
   "execution_count": 1,
   "id": "6f71871f",
   "metadata": {
    "execution": {
     "iopub.execute_input": "2023-11-29T23:37:34.815691Z",
     "iopub.status.busy": "2023-11-29T23:37:34.815168Z",
     "iopub.status.idle": "2023-11-29T23:37:35.056343Z",
     "shell.execute_reply": "2023-11-29T23:37:35.055620Z"
    },
    "papermill": {
     "duration": 0.246376,
     "end_time": "2023-11-29T23:37:35.058145",
     "exception": false,
     "start_time": "2023-11-29T23:37:34.811769",
     "status": "completed"
    },
    "tags": []
   },
   "outputs": [],
   "source": [
    "import os\n",
    "import sys\n",
    "import pandas as pd\n",
    "lib_dir = os.path.realpath('../../../lib/')\n",
    "if lib_dir not in sys.path: sys.path.append(lib_dir)"
   ]
  },
  {
   "cell_type": "code",
   "execution_count": 2,
   "id": "d61dca04",
   "metadata": {
    "execution": {
     "iopub.execute_input": "2023-11-29T23:37:35.063992Z",
     "iopub.status.busy": "2023-11-29T23:37:35.063577Z",
     "iopub.status.idle": "2023-11-29T23:37:41.895862Z",
     "shell.execute_reply": "2023-11-29T23:37:41.895214Z"
    },
    "papermill": {
     "duration": 6.836836,
     "end_time": "2023-11-29T23:37:41.897456",
     "exception": false,
     "start_time": "2023-11-29T23:37:35.060620",
     "status": "completed"
    },
    "tags": []
   },
   "outputs": [],
   "source": [
    "import util.geo"
   ]
  },
  {
   "cell_type": "code",
   "execution_count": 3,
   "id": "46fe465b",
   "metadata": {
    "execution": {
     "iopub.execute_input": "2023-11-29T23:37:41.903123Z",
     "iopub.status.busy": "2023-11-29T23:37:41.902742Z",
     "iopub.status.idle": "2023-11-29T23:37:41.906004Z",
     "shell.execute_reply": "2023-11-29T23:37:41.905430Z"
    },
    "papermill": {
     "duration": 0.007368,
     "end_time": "2023-11-29T23:37:41.907280",
     "exception": false,
     "start_time": "2023-11-29T23:37:41.899912",
     "status": "completed"
    },
    "tags": []
   },
   "outputs": [],
   "source": [
    "EVENTS_RAW_DATA = '../../../working/metrics/partner-events/events.csv'\n",
    "DATA_DIR = '../../../data/metrics/events/partner-events/'\n",
    "EVENTS_DATA = os.path.join(DATA_DIR, 'events.csv')"
   ]
  },
  {
   "cell_type": "code",
   "execution_count": 4,
   "id": "5db68fc7",
   "metadata": {
    "execution": {
     "iopub.execute_input": "2023-11-29T23:37:41.912491Z",
     "iopub.status.busy": "2023-11-29T23:37:41.912130Z",
     "iopub.status.idle": "2023-11-29T23:37:41.915487Z",
     "shell.execute_reply": "2023-11-29T23:37:41.914965Z"
    },
    "papermill": {
     "duration": 0.007424,
     "end_time": "2023-11-29T23:37:41.916794",
     "exception": false,
     "start_time": "2023-11-29T23:37:41.909370",
     "status": "completed"
    },
    "tags": []
   },
   "outputs": [],
   "source": [
    "columns = {\n",
    "    'Event Name': 'name',\n",
    "    'Event Start Date': 'start_date',\n",
    "    'Event End Date': 'end_date',\n",
    "    'Partner/Promote': 'partner_promote',\n",
    "    'Stage': 'stage',\n",
    "    'Live date': 'live_date',\n",
    "    'Venue postcode': 'postcode',\n",
    "    'Pricing Policy': 'pricing',\n",
    "    'Venue - including address': 'venue',\n",
    "    'Is this event on Leeds Inspried?': 'on_leeds_inspired',\n",
    "}"
   ]
  },
  {
   "cell_type": "markdown",
   "id": "299ec405",
   "metadata": {
    "papermill": {
     "duration": 0.002117,
     "end_time": "2023-11-29T23:37:41.921060",
     "exception": false,
     "start_time": "2023-11-29T23:37:41.918943",
     "status": "completed"
    },
    "tags": []
   },
   "source": [
    "Load the data and rename columns. Parse the dates to dates."
   ]
  },
  {
   "cell_type": "code",
   "execution_count": 5,
   "id": "64df192d",
   "metadata": {
    "execution": {
     "iopub.execute_input": "2023-11-29T23:37:41.926321Z",
     "iopub.status.busy": "2023-11-29T23:37:41.925931Z",
     "iopub.status.idle": "2023-11-29T23:37:41.935118Z",
     "shell.execute_reply": "2023-11-29T23:37:41.934630Z"
    },
    "papermill": {
     "duration": 0.013209,
     "end_time": "2023-11-29T23:37:41.936364",
     "exception": false,
     "start_time": "2023-11-29T23:37:41.923155",
     "status": "completed"
    },
    "tags": []
   },
   "outputs": [],
   "source": [
    "data = pd.read_csv(EVENTS_RAW_DATA)[columns.keys()].rename(columns=columns)\n",
    "data.start_date = pd.to_datetime(data.start_date, errors='coerce')\n",
    "data.end_date = pd.to_datetime(data.end_date, errors='coerce')"
   ]
  },
  {
   "cell_type": "markdown",
   "id": "56b3c59a",
   "metadata": {
    "papermill": {
     "duration": 0.00215,
     "end_time": "2023-11-29T23:37:41.940783",
     "exception": false,
     "start_time": "2023-11-29T23:37:41.938633",
     "status": "completed"
    },
    "tags": []
   },
   "source": [
    "Filter data by not LI Pull through and start date before now"
   ]
  },
  {
   "cell_type": "code",
   "execution_count": 6,
   "id": "1bd997c2",
   "metadata": {
    "execution": {
     "iopub.execute_input": "2023-11-29T23:37:41.947164Z",
     "iopub.status.busy": "2023-11-29T23:37:41.946744Z",
     "iopub.status.idle": "2023-11-29T23:37:41.951515Z",
     "shell.execute_reply": "2023-11-29T23:37:41.950912Z"
    },
    "papermill": {
     "duration": 0.009079,
     "end_time": "2023-11-29T23:37:41.952795",
     "exception": false,
     "start_time": "2023-11-29T23:37:41.943716",
     "status": "completed"
    },
    "tags": []
   },
   "outputs": [],
   "source": [
    "data = data[\n",
    "    # (data.live_date == 'This event is live ') &\n",
    "    ((data.stage != 'LI pull through') & data.stage.notna()) &\n",
    "    (data.start_date < pd.Timestamp.now())\n",
    "]"
   ]
  },
  {
   "cell_type": "code",
   "execution_count": 7,
   "id": "407beb32",
   "metadata": {
    "execution": {
     "iopub.execute_input": "2023-11-29T23:37:41.958184Z",
     "iopub.status.busy": "2023-11-29T23:37:41.957791Z",
     "iopub.status.idle": "2023-11-29T23:37:42.790342Z",
     "shell.execute_reply": "2023-11-29T23:37:42.789675Z"
    },
    "papermill": {
     "duration": 0.836965,
     "end_time": "2023-11-29T23:37:42.791950",
     "exception": false,
     "start_time": "2023-11-29T23:37:41.954985",
     "status": "completed"
    },
    "tags": []
   },
   "outputs": [],
   "source": [
    "data['ward_code'] = data.postcode.pipe(util.geo.postcode_formatter).map(util.geo.postcode_to_ward_code)\n",
    "data['ward_name'] = data.ward_code.pipe(util.geo.ward_code_to_name)"
   ]
  },
  {
   "cell_type": "markdown",
   "id": "66e0adf3",
   "metadata": {
    "papermill": {
     "duration": 0.002269,
     "end_time": "2023-11-29T23:37:42.796768",
     "exception": false,
     "start_time": "2023-11-29T23:37:42.794499",
     "status": "completed"
    },
    "tags": []
   },
   "source": [
    "Save the file"
   ]
  },
  {
   "cell_type": "code",
   "execution_count": 8,
   "id": "2fc54344",
   "metadata": {
    "execution": {
     "iopub.execute_input": "2023-11-29T23:37:42.802373Z",
     "iopub.status.busy": "2023-11-29T23:37:42.801961Z",
     "iopub.status.idle": "2023-11-29T23:37:42.807522Z",
     "shell.execute_reply": "2023-11-29T23:37:42.807020Z"
    },
    "papermill": {
     "duration": 0.009765,
     "end_time": "2023-11-29T23:37:42.808755",
     "exception": false,
     "start_time": "2023-11-29T23:37:42.798990",
     "status": "completed"
    },
    "tags": []
   },
   "outputs": [],
   "source": [
    "data[\n",
    "    ['name','start_date','end_date','ward_code']\n",
    "].to_csv(EVENTS_DATA, index=False)"
   ]
  },
  {
   "cell_type": "markdown",
   "id": "88e959a0",
   "metadata": {
    "papermill": {
     "duration": 0.002166,
     "end_time": "2023-11-29T23:37:42.813171",
     "exception": false,
     "start_time": "2023-11-29T23:37:42.811005",
     "status": "completed"
    },
    "tags": []
   },
   "source": [
    "Print out missing postcode data"
   ]
  },
  {
   "cell_type": "code",
   "execution_count": 9,
   "id": "3a8d79a9",
   "metadata": {
    "execution": {
     "iopub.execute_input": "2023-11-29T23:37:42.818736Z",
     "iopub.status.busy": "2023-11-29T23:37:42.818341Z",
     "iopub.status.idle": "2023-11-29T23:37:42.829533Z",
     "shell.execute_reply": "2023-11-29T23:37:42.828986Z"
    },
    "papermill": {
     "duration": 0.015424,
     "end_time": "2023-11-29T23:37:42.830858",
     "exception": false,
     "start_time": "2023-11-29T23:37:42.815434",
     "status": "completed"
    },
    "tags": []
   },
   "outputs": [
    {
     "data": {
      "text/html": [
       "<div>\n",
       "<style scoped>\n",
       "    .dataframe tbody tr th:only-of-type {\n",
       "        vertical-align: middle;\n",
       "    }\n",
       "\n",
       "    .dataframe tbody tr th {\n",
       "        vertical-align: top;\n",
       "    }\n",
       "\n",
       "    .dataframe thead th {\n",
       "        text-align: right;\n",
       "    }\n",
       "</style>\n",
       "<table border=\"1\" class=\"dataframe\">\n",
       "  <thead>\n",
       "    <tr style=\"text-align: right;\">\n",
       "      <th></th>\n",
       "      <th>name</th>\n",
       "      <th>start_date</th>\n",
       "    </tr>\n",
       "  </thead>\n",
       "  <tbody>\n",
       "    <tr>\n",
       "      <th>1</th>\n",
       "      <td>East Street Arts, A City Less Grey 2022</td>\n",
       "      <td>2022-10-08</td>\n",
       "    </tr>\n",
       "    <tr>\n",
       "      <th>3</th>\n",
       "      <td>Phoenix Dance Theatre Virtual Gallery</td>\n",
       "      <td>2023-01-01</td>\n",
       "    </tr>\n",
       "    <tr>\n",
       "      <th>4</th>\n",
       "      <td>The Big Art Giveaway, School of Creative Arts ...</td>\n",
       "      <td>2023-01-01</td>\n",
       "    </tr>\n",
       "    <tr>\n",
       "      <th>5</th>\n",
       "      <td>Embassy of Netherlands, Meet Leeds Lab</td>\n",
       "      <td>2023-01-16</td>\n",
       "    </tr>\n",
       "    <tr>\n",
       "      <th>6</th>\n",
       "      <td>Shifting Borders: A Journey to the Centre of o...</td>\n",
       "      <td>2023-01-24</td>\n",
       "    </tr>\n",
       "    <tr>\n",
       "      <th>...</th>\n",
       "      <td>...</td>\n",
       "      <td>...</td>\n",
       "    </tr>\n",
       "    <tr>\n",
       "      <th>298</th>\n",
       "      <td>afrah shafiq: st.itch</td>\n",
       "      <td>2023-11-16</td>\n",
       "    </tr>\n",
       "    <tr>\n",
       "      <th>299</th>\n",
       "      <td>Leeds Language Week: Chinese Dance and Languag...</td>\n",
       "      <td>2023-11-19</td>\n",
       "    </tr>\n",
       "    <tr>\n",
       "      <th>300</th>\n",
       "      <td>Leeds Language Week: Taste of China</td>\n",
       "      <td>2023-11-19</td>\n",
       "    </tr>\n",
       "    <tr>\n",
       "      <th>302</th>\n",
       "      <td>Don't Go To Bed Just Yet: Live recording from ...</td>\n",
       "      <td>2023-11-21</td>\n",
       "    </tr>\n",
       "    <tr>\n",
       "      <th>304</th>\n",
       "      <td>Wellbeing Wednesdays</td>\n",
       "      <td>2023-11-22</td>\n",
       "    </tr>\n",
       "  </tbody>\n",
       "</table>\n",
       "<p>126 rows × 2 columns</p>\n",
       "</div>"
      ],
      "text/plain": [
       "                                                  name start_date\n",
       "1              East Street Arts, A City Less Grey 2022 2022-10-08\n",
       "3                Phoenix Dance Theatre Virtual Gallery 2023-01-01\n",
       "4    The Big Art Giveaway, School of Creative Arts ... 2023-01-01\n",
       "5               Embassy of Netherlands, Meet Leeds Lab 2023-01-16\n",
       "6    Shifting Borders: A Journey to the Centre of o... 2023-01-24\n",
       "..                                                 ...        ...\n",
       "298                              afrah shafiq: st.itch 2023-11-16\n",
       "299  Leeds Language Week: Chinese Dance and Languag... 2023-11-19\n",
       "300                Leeds Language Week: Taste of China 2023-11-19\n",
       "302  Don't Go To Bed Just Yet: Live recording from ... 2023-11-21\n",
       "304                               Wellbeing Wednesdays 2023-11-22\n",
       "\n",
       "[126 rows x 2 columns]"
      ]
     },
     "execution_count": 9,
     "metadata": {},
     "output_type": "execute_result"
    }
   ],
   "source": [
    "data[data.postcode.isna()][[\n",
    "    'name', 'start_date'\n",
    "]]"
   ]
  },
  {
   "cell_type": "markdown",
   "id": "41a9ec0d",
   "metadata": {
    "papermill": {
     "duration": 0.002456,
     "end_time": "2023-11-29T23:37:42.835768",
     "exception": false,
     "start_time": "2023-11-29T23:37:42.833312",
     "status": "completed"
    },
    "tags": []
   },
   "source": [
    "Plot the pricing"
   ]
  },
  {
   "cell_type": "code",
   "execution_count": 10,
   "id": "dc9ed64f",
   "metadata": {
    "execution": {
     "iopub.execute_input": "2023-11-29T23:37:42.841803Z",
     "iopub.status.busy": "2023-11-29T23:37:42.841316Z",
     "iopub.status.idle": "2023-11-29T23:37:43.571029Z",
     "shell.execute_reply": "2023-11-29T23:37:43.570354Z"
    },
    "papermill": {
     "duration": 0.73416,
     "end_time": "2023-11-29T23:37:43.572408",
     "exception": false,
     "start_time": "2023-11-29T23:37:42.838248",
     "status": "completed"
    },
    "tags": []
   },
   "outputs": [
    {
     "data": {
      "image/png": "[encoded data removed]",
      "text/plain": [
       "<Figure size 640x480 with 1 Axes>"
      ]
     },
     "metadata": {},
     "output_type": "display_data"
    }
   ],
   "source": [
    "# .groupby('pricing').count().plot.barh()\n",
    "pricing = data.pricing.fillna('Unspecified').str.replace('[\\[\\'\\]]', '', regex=True).to_frame().reset_index().groupby('pricing').count()\n",
    "\n",
    "pricing.columns = ['count']\n",
    "plot = pricing.plot.barh()\n"
   ]
  },
  {
   "cell_type": "code",
   "execution_count": null,
   "id": "19125120",
   "metadata": {
    "papermill": {
     "duration": 0.002987,
     "end_time": "2023-11-29T23:37:43.578538",
     "exception": false,
     "start_time": "2023-11-29T23:37:43.575551",
     "status": "completed"
    },
    "tags": []
   },
   "outputs": [],
   "source": []
  }
 ],
 "metadata": {
  "kernelspec": {
   "display_name": "leeds-2023-YZF5GfJv",
   "language": "python",
   "name": "python3"
  },
  "language_info": {
   "codemirror_mode": {
    "name": "ipython",
    "version": 3
   },
   "file_extension": ".py",
   "mimetype": "text/x-python",
   "name": "python",
   "nbconvert_exporter": "python",
   "pygments_lexer": "ipython3",
   "version": "3.10.13"
  },
  "papermill": {
   "default_parameters": {},
   "duration": 10.320908,
   "end_time": "2023-11-29T23:37:43.898218",
   "environment_variables": {},
   "exception": null,
   "input_path": "transform.ipynb",
   "output_path": "../../../working/output/partner-events-transform.ipynb",
   "parameters": {},
   "start_time": "2023-11-29T23:37:33.577310",
   "version": "2.4.0"
  }
 },
 "nbformat": 4,
 "nbformat_minor": 5
}