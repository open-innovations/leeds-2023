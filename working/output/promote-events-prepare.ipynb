{
 "cells": [
  {
   "cell_type": "code",
   "execution_count": 1,
   "id": "ecb3196b",
   "metadata": {
    "execution": {
     "iopub.execute_input": "2023-09-16T23:39:40.834291Z",
     "iopub.status.busy": "2023-09-16T23:39:40.833752Z",
     "iopub.status.idle": "2023-09-16T23:39:41.085914Z",
     "shell.execute_reply": "2023-09-16T23:39:41.085230Z"
    },
    "papermill": {
     "duration": 0.257716,
     "end_time": "2023-09-16T23:39:41.087699",
     "exception": false,
     "start_time": "2023-09-16T23:39:40.829983",
     "status": "completed"
    },
    "tags": []
   },
   "outputs": [],
   "source": [
    "import os\n",
    "import pandas as pd"
   ]
  },
  {
   "cell_type": "code",
   "execution_count": 2,
   "id": "cc56dfdd",
   "metadata": {
    "execution": {
     "iopub.execute_input": "2023-09-16T23:39:41.093235Z",
     "iopub.status.busy": "2023-09-16T23:39:41.092668Z",
     "iopub.status.idle": "2023-09-16T23:39:41.096017Z",
     "shell.execute_reply": "2023-09-16T23:39:41.095498Z"
    },
    "papermill": {
     "duration": 0.007487,
     "end_time": "2023-09-16T23:39:41.097353",
     "exception": false,
     "start_time": "2023-09-16T23:39:41.089866",
     "status": "completed"
    },
    "tags": []
   },
   "outputs": [],
   "source": [
    "DATA_DIR='../../../docs/metrics/events/promote/_data/'\n",
    "os.makedirs(DATA_DIR, exist_ok=True)"
   ]
  },
  {
   "cell_type": "code",
   "execution_count": 3,
   "id": "d95ea381",
   "metadata": {
    "execution": {
     "iopub.execute_input": "2023-09-16T23:39:41.102265Z",
     "iopub.status.busy": "2023-09-16T23:39:41.101663Z",
     "iopub.status.idle": "2023-09-16T23:39:41.110549Z",
     "shell.execute_reply": "2023-09-16T23:39:41.109965Z"
    },
    "papermill": {
     "duration": 0.013042,
     "end_time": "2023-09-16T23:39:41.112180",
     "exception": false,
     "start_time": "2023-09-16T23:39:41.099138",
     "status": "completed"
    },
    "tags": []
   },
   "outputs": [],
   "source": [
    "data = pd.read_csv('../../../data/metrics/events/promote-events/events.csv', parse_dates=['time'])"
   ]
  },
  {
   "cell_type": "code",
   "execution_count": 4,
   "id": "d5d2d97b",
   "metadata": {
    "execution": {
     "iopub.execute_input": "2023-09-16T23:39:41.117009Z",
     "iopub.status.busy": "2023-09-16T23:39:41.116574Z",
     "iopub.status.idle": "2023-09-16T23:39:41.121775Z",
     "shell.execute_reply": "2023-09-16T23:39:41.121139Z"
    },
    "papermill": {
     "duration": 0.009229,
     "end_time": "2023-09-16T23:39:41.123247",
     "exception": false,
     "start_time": "2023-09-16T23:39:41.114018",
     "status": "completed"
    },
    "tags": []
   },
   "outputs": [],
   "source": [
    "pd.Series({\n",
    "    'total_events': len(data.id.unique()),\n",
    "    'total_event_instances': len(data.time),\n",
    "    'earliest_event': data.time.min(),\n",
    "    'latest_event': data.time.max(),\n",
    "}).to_json(\n",
    "    os.path.join(DATA_DIR, 'headlines.json'),\n",
    "    date_format='iso', indent=2\n",
    ")"
   ]
  },
  {
   "cell_type": "code",
   "execution_count": 5,
   "id": "7e6f9c18",
   "metadata": {
    "execution": {
     "iopub.execute_input": "2023-09-16T23:39:41.127967Z",
     "iopub.status.busy": "2023-09-16T23:39:41.127553Z",
     "iopub.status.idle": "2023-09-16T23:39:41.136085Z",
     "shell.execute_reply": "2023-09-16T23:39:41.135503Z"
    },
    "papermill": {
     "duration": 0.012397,
     "end_time": "2023-09-16T23:39:41.137479",
     "exception": false,
     "start_time": "2023-09-16T23:39:41.125082",
     "status": "completed"
    },
    "tags": []
   },
   "outputs": [],
   "source": [
    "events = pd.DataFrame({\n",
    "    'events': data.groupby('id').agg({ 'time': 'min' }).reset_index().groupby('time').id.count(),\n",
    "    'event_instances': data.groupby('time').id.count(),\n",
    "}).fillna(0).astype(int)"
   ]
  },
  {
   "cell_type": "code",
   "execution_count": 6,
   "id": "ee0f1af2",
   "metadata": {
    "execution": {
     "iopub.execute_input": "2023-09-16T23:39:41.142481Z",
     "iopub.status.busy": "2023-09-16T23:39:41.141929Z",
     "iopub.status.idle": "2023-09-16T23:39:41.145506Z",
     "shell.execute_reply": "2023-09-16T23:39:41.144860Z"
    },
    "papermill": {
     "duration": 0.007752,
     "end_time": "2023-09-16T23:39:41.147113",
     "exception": false,
     "start_time": "2023-09-16T23:39:41.139361",
     "status": "completed"
    },
    "tags": []
   },
   "outputs": [],
   "source": [
    "def cumulate(data):\n",
    "    return pd.concat([\n",
    "        data,\n",
    "        data.cumsum().rename(columns=lambda c: f'cumulative_{c}')\n",
    "    ], axis=1)"
   ]
  },
  {
   "cell_type": "code",
   "execution_count": 7,
   "id": "b58f5ad5",
   "metadata": {
    "execution": {
     "iopub.execute_input": "2023-09-16T23:39:41.152131Z",
     "iopub.status.busy": "2023-09-16T23:39:41.151582Z",
     "iopub.status.idle": "2023-09-16T23:39:41.161522Z",
     "shell.execute_reply": "2023-09-16T23:39:41.160919Z"
    },
    "papermill": {
     "duration": 0.013911,
     "end_time": "2023-09-16T23:39:41.162939",
     "exception": false,
     "start_time": "2023-09-16T23:39:41.149028",
     "status": "completed"
    },
    "tags": []
   },
   "outputs": [],
   "source": [
    "events.resample('W-FRI').sum().pipe(cumulate).to_csv(os.path.join(DATA_DIR, 'by_week.csv'))"
   ]
  },
  {
   "cell_type": "code",
   "execution_count": 8,
   "id": "2e1ed075",
   "metadata": {
    "execution": {
     "iopub.execute_input": "2023-09-16T23:39:41.168019Z",
     "iopub.status.busy": "2023-09-16T23:39:41.167609Z",
     "iopub.status.idle": "2023-09-16T23:39:41.173438Z",
     "shell.execute_reply": "2023-09-16T23:39:41.172768Z"
    },
    "papermill": {
     "duration": 0.009916,
     "end_time": "2023-09-16T23:39:41.174878",
     "exception": false,
     "start_time": "2023-09-16T23:39:41.164962",
     "status": "completed"
    },
    "tags": []
   },
   "outputs": [],
   "source": [
    "events.resample('MS').sum().pipe(cumulate).to_csv(os.path.join(DATA_DIR, 'by_month.csv'))"
   ]
  },
  {
   "cell_type": "code",
   "execution_count": null,
   "id": "45fdfe9c",
   "metadata": {
    "papermill": {
     "duration": 0.001943,
     "end_time": "2023-09-16T23:39:41.178777",
     "exception": false,
     "start_time": "2023-09-16T23:39:41.176834",
     "status": "completed"
    },
    "tags": []
   },
   "outputs": [],
   "source": []
  }
 ],
 "metadata": {
  "kernelspec": {
   "display_name": "leeds-2023-YZF5GfJv",
   "language": "python",
   "name": "python3"
  },
  "language_info": {
   "codemirror_mode": {
    "name": "ipython",
    "version": 3
   },
   "file_extension": ".py",
   "mimetype": "text/x-python",
   "name": "python",
   "nbconvert_exporter": "python",
   "pygments_lexer": "ipython3",
   "version": "3.10.13"
  },
  "papermill": {
   "default_parameters": {},
   "duration": 1.926182,
   "end_time": "2023-09-16T23:39:41.398047",
   "environment_variables": {},
   "exception": null,
   "input_path": "prepare.ipynb",
   "output_path": "../../../working/output/promote-events-prepare.ipynb",
   "parameters": {},
   "start_time": "2023-09-16T23:39:39.471865",
   "version": "2.4.0"
  }
 },
 "nbformat": 4,
 "nbformat_minor": 5
}