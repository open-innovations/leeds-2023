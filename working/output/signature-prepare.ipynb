{
 "cells": [
  {
   "cell_type": "code",
   "execution_count": 1,
   "id": "b6961b3b",
   "metadata": {
    "execution": {
     "iopub.execute_input": "2023-12-27T23:40:31.774094Z",
     "iopub.status.busy": "2023-12-27T23:40:31.773606Z",
     "iopub.status.idle": "2023-12-27T23:40:39.208748Z",
     "shell.execute_reply": "2023-12-27T23:40:39.208089Z"
    },
    "papermill": {
     "duration": 7.440398,
     "end_time": "2023-12-27T23:40:39.210481",
     "exception": false,
     "start_time": "2023-12-27T23:40:31.770083",
     "status": "completed"
    },
    "tags": []
   },
   "outputs": [],
   "source": [
    "import os\n",
    "import pandas as pd\n",
    "from events import load_event_data, get_first_ward, normalise_ward"
   ]
  },
  {
   "cell_type": "code",
   "execution_count": 2,
   "id": "8bf19425",
   "metadata": {
    "execution": {
     "iopub.execute_input": "2023-12-27T23:40:39.215825Z",
     "iopub.status.busy": "2023-12-27T23:40:39.215414Z",
     "iopub.status.idle": "2023-12-27T23:40:39.218835Z",
     "shell.execute_reply": "2023-12-27T23:40:39.218231Z"
    },
    "papermill": {
     "duration": 0.007393,
     "end_time": "2023-12-27T23:40:39.220115",
     "exception": false,
     "start_time": "2023-12-27T23:40:39.212722",
     "status": "completed"
    },
    "tags": []
   },
   "outputs": [],
   "source": [
    "latest_date = pd.Timestamp.today().ceil('D')"
   ]
  },
  {
   "cell_type": "code",
   "execution_count": 3,
   "id": "f83ce4b9",
   "metadata": {
    "execution": {
     "iopub.execute_input": "2023-12-27T23:40:39.224960Z",
     "iopub.status.busy": "2023-12-27T23:40:39.224511Z",
     "iopub.status.idle": "2023-12-27T23:40:39.242629Z",
     "shell.execute_reply": "2023-12-27T23:40:39.241970Z"
    },
    "papermill": {
     "duration": 0.022105,
     "end_time": "2023-12-27T23:40:39.244030",
     "exception": false,
     "start_time": "2023-12-27T23:40:39.221925",
     "status": "completed"
    },
    "tags": []
   },
   "outputs": [],
   "source": [
    "tickets = pd.read_csv('../../../../data/metrics/events/tickets/orders.csv', parse_dates=['created_at', 'event_date'])\n",
    "tickets = tickets[tickets.event_date <= latest_date]"
   ]
  },
  {
   "cell_type": "code",
   "execution_count": 4,
   "id": "c79ab67e",
   "metadata": {
    "execution": {
     "iopub.execute_input": "2023-12-27T23:40:39.248679Z",
     "iopub.status.busy": "2023-12-27T23:40:39.248483Z",
     "iopub.status.idle": "2023-12-27T23:40:39.302565Z",
     "shell.execute_reply": "2023-12-27T23:40:39.301968Z"
    },
    "papermill": {
     "duration": 0.058137,
     "end_time": "2023-12-27T23:40:39.304121",
     "exception": false,
     "start_time": "2023-12-27T23:40:39.245984",
     "status": "completed"
    },
    "tags": []
   },
   "outputs": [],
   "source": [
    "events = load_event_data()\n",
    "\n",
    "events = pd.concat([\n",
    "  events,\n",
    "  events.pipe(get_first_ward).pipe(normalise_ward).fillna('UNKNOWN'),\n",
    "  pd.Series(\n",
    "      events.actual_audience_size_number_of_participants_in_person + events.actual_audience_size_number_of_participants_online,\n",
    "      name='attendances'\n",
    "  )\n",
    "], axis=1).rename(columns={\n",
    "    'start_date': 'date'\n",
    "}).loc[:, ['ward_code', 'date', 'event_unique_identifier', 'attendances']]"
   ]
  },
  {
   "cell_type": "code",
   "execution_count": 5,
   "id": "a4617f26",
   "metadata": {
    "execution": {
     "iopub.execute_input": "2023-12-27T23:40:39.309206Z",
     "iopub.status.busy": "2023-12-27T23:40:39.308809Z",
     "iopub.status.idle": "2023-12-27T23:40:39.312022Z",
     "shell.execute_reply": "2023-12-27T23:40:39.311471Z"
    },
    "papermill": {
     "duration": 0.007056,
     "end_time": "2023-12-27T23:40:39.313274",
     "exception": false,
     "start_time": "2023-12-27T23:40:39.306218",
     "status": "completed"
    },
    "tags": []
   },
   "outputs": [],
   "source": [
    "OUTPUT_DIR='../../../../docs/metrics/events/signature/_data/'\n",
    "os.makedirs(OUTPUT_DIR, exist_ok=True)"
   ]
  },
  {
   "cell_type": "markdown",
   "id": "8561f640",
   "metadata": {
    "papermill": {
     "duration": 0.001958,
     "end_time": "2023-12-27T23:40:39.317264",
     "exception": false,
     "start_time": "2023-12-27T23:40:39.315306",
     "status": "completed"
    },
    "tags": []
   },
   "source": [
    "Events CSVs"
   ]
  },
  {
   "cell_type": "code",
   "execution_count": 6,
   "id": "cc95629f",
   "metadata": {
    "execution": {
     "iopub.execute_input": "2023-12-27T23:40:39.322125Z",
     "iopub.status.busy": "2023-12-27T23:40:39.321733Z",
     "iopub.status.idle": "2023-12-27T23:40:39.327982Z",
     "shell.execute_reply": "2023-12-27T23:40:39.327353Z"
    },
    "papermill": {
     "duration": 0.010212,
     "end_time": "2023-12-27T23:40:39.329363",
     "exception": false,
     "start_time": "2023-12-27T23:40:39.319151",
     "status": "completed"
    },
    "tags": []
   },
   "outputs": [],
   "source": [
    "pd.DataFrame({\n",
    "  'events': events.groupby('ward_code').event_unique_identifier.count(),\n",
    "  'attendances': events.groupby('ward_code').attendances.sum().astype(int),\n",
    "}).to_csv(os.path.join(OUTPUT_DIR, 'events_by_ward.csv'))\n"
   ]
  },
  {
   "cell_type": "code",
   "execution_count": 7,
   "id": "fa5215b4",
   "metadata": {
    "execution": {
     "iopub.execute_input": "2023-12-27T23:40:39.334263Z",
     "iopub.status.busy": "2023-12-27T23:40:39.333904Z",
     "iopub.status.idle": "2023-12-27T23:40:39.341972Z",
     "shell.execute_reply": "2023-12-27T23:40:39.341477Z"
    },
    "papermill": {
     "duration": 0.01192,
     "end_time": "2023-12-27T23:40:39.343257",
     "exception": false,
     "start_time": "2023-12-27T23:40:39.331337",
     "status": "completed"
    },
    "tags": []
   },
   "outputs": [],
   "source": [
    "pd.DataFrame({\n",
    "  'events': events.groupby('date').event_unique_identifier.count(),\n",
    "  'attendances': events.groupby('date').attendances.sum().astype(int),\n",
    "}).resample('M').sum().astype(int).to_csv(os.path.join(OUTPUT_DIR, 'events_by_date.csv'))"
   ]
  },
  {
   "cell_type": "markdown",
   "id": "56c8a26f",
   "metadata": {
    "papermill": {
     "duration": 0.002688,
     "end_time": "2023-12-27T23:40:39.347913",
     "exception": false,
     "start_time": "2023-12-27T23:40:39.345225",
     "status": "completed"
    },
    "tags": []
   },
   "source": [
    "Tickets CSV"
   ]
  },
  {
   "cell_type": "code",
   "execution_count": 8,
   "id": "cd5f4277",
   "metadata": {
    "execution": {
     "iopub.execute_input": "2023-12-27T23:40:39.352926Z",
     "iopub.status.busy": "2023-12-27T23:40:39.352538Z",
     "iopub.status.idle": "2023-12-27T23:40:39.358977Z",
     "shell.execute_reply": "2023-12-27T23:40:39.358318Z"
    },
    "papermill": {
     "duration": 0.010574,
     "end_time": "2023-12-27T23:40:39.360423",
     "exception": false,
     "start_time": "2023-12-27T23:40:39.349849",
     "status": "completed"
    },
    "tags": []
   },
   "outputs": [],
   "source": [
    "pd.DataFrame({\n",
    "  'orders': tickets.groupby('ward_code').number_of_tickets.count(),\n",
    "  'tickets': tickets.groupby('ward_code').number_of_tickets.sum().astype(int),\n",
    "}).to_csv(os.path.join(OUTPUT_DIR, 'tickets_by_ward.csv'))"
   ]
  },
  {
   "cell_type": "code",
   "execution_count": 9,
   "id": "52d34a67",
   "metadata": {
    "execution": {
     "iopub.execute_input": "2023-12-27T23:40:39.365713Z",
     "iopub.status.busy": "2023-12-27T23:40:39.365238Z",
     "iopub.status.idle": "2023-12-27T23:40:39.372503Z",
     "shell.execute_reply": "2023-12-27T23:40:39.371960Z"
    },
    "papermill": {
     "duration": 0.011342,
     "end_time": "2023-12-27T23:40:39.373843",
     "exception": false,
     "start_time": "2023-12-27T23:40:39.362501",
     "status": "completed"
    },
    "tags": []
   },
   "outputs": [],
   "source": [
    "pd.DataFrame({\n",
    "  'orders': tickets.groupby('event_date').number_of_tickets.count(),\n",
    "  'tickets': tickets.groupby('event_date').number_of_tickets.sum().astype(int),\n",
    "}).resample('M').sum().to_csv(os.path.join(OUTPUT_DIR, 'tickets_by_event_date.csv'))"
   ]
  },
  {
   "cell_type": "code",
   "execution_count": 10,
   "id": "0687aae0",
   "metadata": {
    "execution": {
     "iopub.execute_input": "2023-12-27T23:40:39.379201Z",
     "iopub.status.busy": "2023-12-27T23:40:39.378852Z",
     "iopub.status.idle": "2023-12-27T23:40:39.383982Z",
     "shell.execute_reply": "2023-12-27T23:40:39.383357Z"
    },
    "papermill": {
     "duration": 0.009317,
     "end_time": "2023-12-27T23:40:39.385313",
     "exception": false,
     "start_time": "2023-12-27T23:40:39.375996",
     "status": "completed"
    },
    "tags": []
   },
   "outputs": [],
   "source": [
    "pd.Series({\n",
    "    'total_events': events.event_unique_identifier.count(),\n",
    "    'total_attendances': events.attendances.count(),\n",
    "    'first_event': events.date.min(),\n",
    "    'latest_event': events.date.max(),\n",
    "    'total_ticket_orders_for_events_to_date': tickets.number_of_tickets.count(),\n",
    "    'total_tickets_sold_for_events_to_date': tickets.number_of_tickets.sum(),\n",
    "}).to_json(os.path.join(OUTPUT_DIR, 'headlines.json'), indent=2)"
   ]
  },
  {
   "cell_type": "code",
   "execution_count": null,
   "id": "a3d40cc3",
   "metadata": {
    "papermill": {
     "duration": 0.002029,
     "end_time": "2023-12-27T23:40:39.389442",
     "exception": false,
     "start_time": "2023-12-27T23:40:39.387413",
     "status": "completed"
    },
    "tags": []
   },
   "outputs": [],
   "source": []
  }
 ],
 "metadata": {
  "kernelspec": {
   "display_name": "leeds-2023-YZF5GfJv",
   "language": "python",
   "name": "python3"
  },
  "language_info": {
   "codemirror_mode": {
    "name": "ipython",
    "version": 3
   },
   "file_extension": ".py",
   "mimetype": "text/x-python",
   "name": "python",
   "nbconvert_exporter": "python",
   "pygments_lexer": "ipython3",
   "version": "3.10.13"
  },
  "papermill": {
   "default_parameters": {},
   "duration": 9.172816,
   "end_time": "2023-12-27T23:40:39.707776",
   "environment_variables": {},
   "exception": null,
   "input_path": "prepare.ipynb",
   "output_path": "../../../../working/output/signature-prepare.ipynb",
   "parameters": {},
   "start_time": "2023-12-27T23:40:30.534960",
   "version": "2.4.0"
  }
 },
 "nbformat": 4,
 "nbformat_minor": 5
}