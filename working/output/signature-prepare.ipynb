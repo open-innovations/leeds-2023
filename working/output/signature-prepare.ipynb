{
 "cells": [
  {
   "cell_type": "code",
   "execution_count": 1,
   "id": "fcd04d84",
   "metadata": {
    "execution": {
     "iopub.execute_input": "2023-12-29T23:39:58.395374Z",
     "iopub.status.busy": "2023-12-29T23:39:58.395163Z",
     "iopub.status.idle": "2023-12-29T23:40:05.575990Z",
     "shell.execute_reply": "2023-12-29T23:40:05.575368Z"
    },
    "papermill": {
     "duration": 7.185723,
     "end_time": "2023-12-29T23:40:05.577576",
     "exception": false,
     "start_time": "2023-12-29T23:39:58.391853",
     "status": "completed"
    },
    "tags": []
   },
   "outputs": [],
   "source": [
    "import os\n",
    "import pandas as pd\n",
    "from events import load_event_data, get_first_ward, normalise_ward"
   ]
  },
  {
   "cell_type": "code",
   "execution_count": 2,
   "id": "580b77c8",
   "metadata": {
    "execution": {
     "iopub.execute_input": "2023-12-29T23:40:05.582867Z",
     "iopub.status.busy": "2023-12-29T23:40:05.582456Z",
     "iopub.status.idle": "2023-12-29T23:40:05.585899Z",
     "shell.execute_reply": "2023-12-29T23:40:05.585373Z"
    },
    "papermill": {
     "duration": 0.007413,
     "end_time": "2023-12-29T23:40:05.587209",
     "exception": false,
     "start_time": "2023-12-29T23:40:05.579796",
     "status": "completed"
    },
    "tags": []
   },
   "outputs": [],
   "source": [
    "latest_date = pd.Timestamp.today().ceil('D')"
   ]
  },
  {
   "cell_type": "code",
   "execution_count": 3,
   "id": "4ff2d6e5",
   "metadata": {
    "execution": {
     "iopub.execute_input": "2023-12-29T23:40:05.591959Z",
     "iopub.status.busy": "2023-12-29T23:40:05.591592Z",
     "iopub.status.idle": "2023-12-29T23:40:05.609478Z",
     "shell.execute_reply": "2023-12-29T23:40:05.608858Z"
    },
    "papermill": {
     "duration": 0.021893,
     "end_time": "2023-12-29T23:40:05.610941",
     "exception": false,
     "start_time": "2023-12-29T23:40:05.589048",
     "status": "completed"
    },
    "tags": []
   },
   "outputs": [],
   "source": [
    "tickets = pd.read_csv('../../../../data/metrics/events/tickets/orders.csv', parse_dates=['created_at', 'event_date'])\n",
    "tickets = tickets[tickets.event_date <= latest_date]"
   ]
  },
  {
   "cell_type": "code",
   "execution_count": 4,
   "id": "bc5c39ce",
   "metadata": {
    "execution": {
     "iopub.execute_input": "2023-12-29T23:40:05.616732Z",
     "iopub.status.busy": "2023-12-29T23:40:05.616364Z",
     "iopub.status.idle": "2023-12-29T23:40:05.669237Z",
     "shell.execute_reply": "2023-12-29T23:40:05.668737Z"
    },
    "papermill": {
     "duration": 0.057804,
     "end_time": "2023-12-29T23:40:05.670576",
     "exception": false,
     "start_time": "2023-12-29T23:40:05.612772",
     "status": "completed"
    },
    "tags": []
   },
   "outputs": [],
   "source": [
    "events = load_event_data()\n",
    "\n",
    "events = pd.concat([\n",
    "  events,\n",
    "  events.pipe(get_first_ward).pipe(normalise_ward).fillna('UNKNOWN'),\n",
    "  pd.Series(\n",
    "      events.actual_audience_size_number_of_participants_in_person + events.actual_audience_size_number_of_participants_online,\n",
    "      name='attendances'\n",
    "  )\n",
    "], axis=1).rename(columns={\n",
    "    'start_date': 'date'\n",
    "}).loc[:, ['ward_code', 'date', 'event_unique_identifier', 'attendances']]"
   ]
  },
  {
   "cell_type": "code",
   "execution_count": 5,
   "id": "e445baa1",
   "metadata": {
    "execution": {
     "iopub.execute_input": "2023-12-29T23:40:05.675122Z",
     "iopub.status.busy": "2023-12-29T23:40:05.674923Z",
     "iopub.status.idle": "2023-12-29T23:40:05.678084Z",
     "shell.execute_reply": "2023-12-29T23:40:05.677544Z"
    },
    "papermill": {
     "duration": 0.006944,
     "end_time": "2023-12-29T23:40:05.679401",
     "exception": false,
     "start_time": "2023-12-29T23:40:05.672457",
     "status": "completed"
    },
    "tags": []
   },
   "outputs": [],
   "source": [
    "OUTPUT_DIR='../../../../docs/metrics/events/signature/_data/'\n",
    "os.makedirs(OUTPUT_DIR, exist_ok=True)"
   ]
  },
  {
   "cell_type": "markdown",
   "id": "a59a908b",
   "metadata": {
    "papermill": {
     "duration": 0.002116,
     "end_time": "2023-12-29T23:40:05.683512",
     "exception": false,
     "start_time": "2023-12-29T23:40:05.681396",
     "status": "completed"
    },
    "tags": []
   },
   "source": [
    "Events CSVs"
   ]
  },
  {
   "cell_type": "code",
   "execution_count": 6,
   "id": "8392fc36",
   "metadata": {
    "execution": {
     "iopub.execute_input": "2023-12-29T23:40:05.688304Z",
     "iopub.status.busy": "2023-12-29T23:40:05.687938Z",
     "iopub.status.idle": "2023-12-29T23:40:05.693537Z",
     "shell.execute_reply": "2023-12-29T23:40:05.693055Z"
    },
    "papermill": {
     "duration": 0.009443,
     "end_time": "2023-12-29T23:40:05.694823",
     "exception": false,
     "start_time": "2023-12-29T23:40:05.685380",
     "status": "completed"
    },
    "tags": []
   },
   "outputs": [],
   "source": [
    "pd.DataFrame({\n",
    "  'events': events.groupby('ward_code').event_unique_identifier.count(),\n",
    "  'attendances': events.groupby('ward_code').attendances.sum().astype(int),\n",
    "}).to_csv(os.path.join(OUTPUT_DIR, 'events_by_ward.csv'))\n"
   ]
  },
  {
   "cell_type": "code",
   "execution_count": 7,
   "id": "94b3e028",
   "metadata": {
    "execution": {
     "iopub.execute_input": "2023-12-29T23:40:05.699696Z",
     "iopub.status.busy": "2023-12-29T23:40:05.699253Z",
     "iopub.status.idle": "2023-12-29T23:40:05.707138Z",
     "shell.execute_reply": "2023-12-29T23:40:05.706516Z"
    },
    "papermill": {
     "duration": 0.011762,
     "end_time": "2023-12-29T23:40:05.708506",
     "exception": false,
     "start_time": "2023-12-29T23:40:05.696744",
     "status": "completed"
    },
    "tags": []
   },
   "outputs": [],
   "source": [
    "pd.DataFrame({\n",
    "  'events': events.groupby('date').event_unique_identifier.count(),\n",
    "  'attendances': events.groupby('date').attendances.sum().astype(int),\n",
    "}).resample('M').sum().astype(int).to_csv(os.path.join(OUTPUT_DIR, 'events_by_date.csv'))"
   ]
  },
  {
   "cell_type": "markdown",
   "id": "c5243b8d",
   "metadata": {
    "papermill": {
     "duration": 0.002732,
     "end_time": "2023-12-29T23:40:05.713208",
     "exception": false,
     "start_time": "2023-12-29T23:40:05.710476",
     "status": "completed"
    },
    "tags": []
   },
   "source": [
    "Tickets CSV"
   ]
  },
  {
   "cell_type": "code",
   "execution_count": 8,
   "id": "cc860685",
   "metadata": {
    "execution": {
     "iopub.execute_input": "2023-12-29T23:40:05.718257Z",
     "iopub.status.busy": "2023-12-29T23:40:05.717778Z",
     "iopub.status.idle": "2023-12-29T23:40:05.724038Z",
     "shell.execute_reply": "2023-12-29T23:40:05.723436Z"
    },
    "papermill": {
     "duration": 0.010217,
     "end_time": "2023-12-29T23:40:05.725404",
     "exception": false,
     "start_time": "2023-12-29T23:40:05.715187",
     "status": "completed"
    },
    "tags": []
   },
   "outputs": [],
   "source": [
    "pd.DataFrame({\n",
    "  'orders': tickets.groupby('ward_code').number_of_tickets.count(),\n",
    "  'tickets': tickets.groupby('ward_code').number_of_tickets.sum().astype(int),\n",
    "}).to_csv(os.path.join(OUTPUT_DIR, 'tickets_by_ward.csv'))"
   ]
  },
  {
   "cell_type": "code",
   "execution_count": 9,
   "id": "c6e90801",
   "metadata": {
    "execution": {
     "iopub.execute_input": "2023-12-29T23:40:05.730483Z",
     "iopub.status.busy": "2023-12-29T23:40:05.729978Z",
     "iopub.status.idle": "2023-12-29T23:40:05.736750Z",
     "shell.execute_reply": "2023-12-29T23:40:05.736142Z"
    },
    "papermill": {
     "duration": 0.010737,
     "end_time": "2023-12-29T23:40:05.738151",
     "exception": false,
     "start_time": "2023-12-29T23:40:05.727414",
     "status": "completed"
    },
    "tags": []
   },
   "outputs": [],
   "source": [
    "pd.DataFrame({\n",
    "  'orders': tickets.groupby('event_date').number_of_tickets.count(),\n",
    "  'tickets': tickets.groupby('event_date').number_of_tickets.sum().astype(int),\n",
    "}).resample('M').sum().to_csv(os.path.join(OUTPUT_DIR, 'tickets_by_event_date.csv'))"
   ]
  },
  {
   "cell_type": "code",
   "execution_count": 10,
   "id": "3827fc34",
   "metadata": {
    "execution": {
     "iopub.execute_input": "2023-12-29T23:40:05.743175Z",
     "iopub.status.busy": "2023-12-29T23:40:05.742825Z",
     "iopub.status.idle": "2023-12-29T23:40:05.747649Z",
     "shell.execute_reply": "2023-12-29T23:40:05.747035Z"
    },
    "papermill": {
     "duration": 0.009051,
     "end_time": "2023-12-29T23:40:05.749200",
     "exception": false,
     "start_time": "2023-12-29T23:40:05.740149",
     "status": "completed"
    },
    "tags": []
   },
   "outputs": [],
   "source": [
    "pd.Series({\n",
    "    'total_events': events.event_unique_identifier.count(),\n",
    "    'total_attendances': events.attendances.count(),\n",
    "    'first_event': events.date.min(),\n",
    "    'latest_event': events.date.max(),\n",
    "    'total_ticket_orders_for_events_to_date': tickets.number_of_tickets.count(),\n",
    "    'total_tickets_sold_for_events_to_date': tickets.number_of_tickets.sum(),\n",
    "}).to_json(os.path.join(OUTPUT_DIR, 'headlines.json'), indent=2)"
   ]
  },
  {
   "cell_type": "code",
   "execution_count": null,
   "id": "790c0945",
   "metadata": {
    "papermill": {
     "duration": 0.00199,
     "end_time": "2023-12-29T23:40:05.753258",
     "exception": false,
     "start_time": "2023-12-29T23:40:05.751268",
     "status": "completed"
    },
    "tags": []
   },
   "outputs": [],
   "source": []
  }
 ],
 "metadata": {
  "kernelspec": {
   "display_name": "leeds-2023-YZF5GfJv",
   "language": "python",
   "name": "python3"
  },
  "language_info": {
   "codemirror_mode": {
    "name": "ipython",
    "version": 3
   },
   "file_extension": ".py",
   "mimetype": "text/x-python",
   "name": "python",
   "nbconvert_exporter": "python",
   "pygments_lexer": "ipython3",
   "version": "3.10.13"
  },
  "papermill": {
   "default_parameters": {},
   "duration": 8.821545,
   "end_time": "2023-12-29T23:40:05.971234",
   "environment_variables": {},
   "exception": null,
   "input_path": "prepare.ipynb",
   "output_path": "../../../../working/output/signature-prepare.ipynb",
   "parameters": {},
   "start_time": "2023-12-29T23:39:57.149689",
   "version": "2.4.0"
  }
 },
 "nbformat": 4,
 "nbformat_minor": 5
}