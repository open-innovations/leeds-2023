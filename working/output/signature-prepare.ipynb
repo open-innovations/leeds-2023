{
 "cells": [
  {
   "cell_type": "code",
   "execution_count": 1,
   "id": "fffb23f9",
   "metadata": {
    "execution": {
     "iopub.execute_input": "2023-09-20T23:39:21.543466Z",
     "iopub.status.busy": "2023-09-20T23:39:21.542736Z",
     "iopub.status.idle": "2023-09-20T23:39:32.803029Z",
     "shell.execute_reply": "2023-09-20T23:39:32.802246Z"
    },
    "papermill": {
     "duration": 11.267164,
     "end_time": "2023-09-20T23:39:32.805226",
     "exception": false,
     "start_time": "2023-09-20T23:39:21.538062",
     "status": "completed"
    },
    "tags": []
   },
   "outputs": [],
   "source": [
    "import os\n",
    "import pandas as pd\n",
    "from events import load_event_data, get_first_ward, normalise_ward"
   ]
  },
  {
   "cell_type": "code",
   "execution_count": 2,
   "id": "45e72fa4",
   "metadata": {
    "execution": {
     "iopub.execute_input": "2023-09-20T23:39:32.813011Z",
     "iopub.status.busy": "2023-09-20T23:39:32.812464Z",
     "iopub.status.idle": "2023-09-20T23:39:32.816899Z",
     "shell.execute_reply": "2023-09-20T23:39:32.816121Z"
    },
    "papermill": {
     "duration": 0.010492,
     "end_time": "2023-09-20T23:39:32.818886",
     "exception": false,
     "start_time": "2023-09-20T23:39:32.808394",
     "status": "completed"
    },
    "tags": []
   },
   "outputs": [],
   "source": [
    "latest_date = pd.Timestamp.today().ceil('D')"
   ]
  },
  {
   "cell_type": "code",
   "execution_count": 3,
   "id": "a2a4dbc0",
   "metadata": {
    "execution": {
     "iopub.execute_input": "2023-09-20T23:39:32.825233Z",
     "iopub.status.busy": "2023-09-20T23:39:32.824591Z",
     "iopub.status.idle": "2023-09-20T23:39:32.842763Z",
     "shell.execute_reply": "2023-09-20T23:39:32.842104Z"
    },
    "papermill": {
     "duration": 0.023175,
     "end_time": "2023-09-20T23:39:32.844469",
     "exception": false,
     "start_time": "2023-09-20T23:39:32.821294",
     "status": "completed"
    },
    "tags": []
   },
   "outputs": [],
   "source": [
    "tickets = pd.read_csv('../../../../data/metrics/events/tickets/orders.csv', parse_dates=['created_at', 'event_date'])\n",
    "tickets = tickets[tickets.event_date <= latest_date]"
   ]
  },
  {
   "cell_type": "code",
   "execution_count": 4,
   "id": "769c36c7",
   "metadata": {
    "execution": {
     "iopub.execute_input": "2023-09-20T23:39:32.851695Z",
     "iopub.status.busy": "2023-09-20T23:39:32.850918Z",
     "iopub.status.idle": "2023-09-20T23:39:33.092050Z",
     "shell.execute_reply": "2023-09-20T23:39:33.091286Z"
    },
    "papermill": {
     "duration": 0.247126,
     "end_time": "2023-09-20T23:39:33.094359",
     "exception": false,
     "start_time": "2023-09-20T23:39:32.847233",
     "status": "completed"
    },
    "tags": []
   },
   "outputs": [],
   "source": [
    "events = load_event_data()\n",
    "\n",
    "events = pd.concat([\n",
    "  events,\n",
    "  events.pipe(get_first_ward).pipe(normalise_ward).fillna('UNKNOWN'),\n",
    "  pd.Series(\n",
    "      events.actual_audience_size_number_of_participants_in_person + events.actual_audience_size_number_of_participants_online,\n",
    "      name='attendances'\n",
    "  )\n",
    "], axis=1).rename(columns={\n",
    "    'start_date': 'date'\n",
    "}).loc[:, ['ward_code', 'date', 'event_unique_identifier', 'attendances']]"
   ]
  },
  {
   "cell_type": "code",
   "execution_count": 5,
   "id": "98e09835",
   "metadata": {
    "execution": {
     "iopub.execute_input": "2023-09-20T23:39:33.101477Z",
     "iopub.status.busy": "2023-09-20T23:39:33.101197Z",
     "iopub.status.idle": "2023-09-20T23:39:33.106052Z",
     "shell.execute_reply": "2023-09-20T23:39:33.105421Z"
    },
    "papermill": {
     "duration": 0.01041,
     "end_time": "2023-09-20T23:39:33.107612",
     "exception": false,
     "start_time": "2023-09-20T23:39:33.097202",
     "status": "completed"
    },
    "tags": []
   },
   "outputs": [],
   "source": [
    "OUTPUT_DIR='../../../../docs/metrics/events/signature/_data/'\n",
    "os.makedirs(OUTPUT_DIR, exist_ok=True)"
   ]
  },
  {
   "cell_type": "markdown",
   "id": "18386705",
   "metadata": {
    "papermill": {
     "duration": 0.002537,
     "end_time": "2023-09-20T23:39:33.112659",
     "exception": false,
     "start_time": "2023-09-20T23:39:33.110122",
     "status": "completed"
    },
    "tags": []
   },
   "source": [
    "Events CSVs"
   ]
  },
  {
   "cell_type": "code",
   "execution_count": 6,
   "id": "0305aeca",
   "metadata": {
    "execution": {
     "iopub.execute_input": "2023-09-20T23:39:33.118934Z",
     "iopub.status.busy": "2023-09-20T23:39:33.118448Z",
     "iopub.status.idle": "2023-09-20T23:39:33.126431Z",
     "shell.execute_reply": "2023-09-20T23:39:33.125750Z"
    },
    "papermill": {
     "duration": 0.013114,
     "end_time": "2023-09-20T23:39:33.128183",
     "exception": false,
     "start_time": "2023-09-20T23:39:33.115069",
     "status": "completed"
    },
    "tags": []
   },
   "outputs": [],
   "source": [
    "pd.DataFrame({\n",
    "  'events': events.groupby('ward_code').event_unique_identifier.count(),\n",
    "  'attendances': events.groupby('ward_code').attendances.sum().astype(int),\n",
    "}).to_csv(os.path.join(OUTPUT_DIR, 'events_by_ward.csv'))\n"
   ]
  },
  {
   "cell_type": "code",
   "execution_count": 7,
   "id": "fe2e1655",
   "metadata": {
    "execution": {
     "iopub.execute_input": "2023-09-20T23:39:33.134659Z",
     "iopub.status.busy": "2023-09-20T23:39:33.134286Z",
     "iopub.status.idle": "2023-09-20T23:39:33.146585Z",
     "shell.execute_reply": "2023-09-20T23:39:33.145912Z"
    },
    "papermill": {
     "duration": 0.017379,
     "end_time": "2023-09-20T23:39:33.148138",
     "exception": false,
     "start_time": "2023-09-20T23:39:33.130759",
     "status": "completed"
    },
    "tags": []
   },
   "outputs": [],
   "source": [
    "pd.DataFrame({\n",
    "  'events': events.groupby('date').event_unique_identifier.count(),\n",
    "  'attendances': events.groupby('date').attendances.sum().astype(int),\n",
    "}).resample('M').sum().astype(int).to_csv(os.path.join(OUTPUT_DIR, 'events_by_date.csv'))"
   ]
  },
  {
   "cell_type": "markdown",
   "id": "53b5bd17",
   "metadata": {
    "papermill": {
     "duration": 0.002642,
     "end_time": "2023-09-20T23:39:33.153494",
     "exception": false,
     "start_time": "2023-09-20T23:39:33.150852",
     "status": "completed"
    },
    "tags": []
   },
   "source": [
    "Tickets CSV"
   ]
  },
  {
   "cell_type": "code",
   "execution_count": 8,
   "id": "ae6b365e",
   "metadata": {
    "execution": {
     "iopub.execute_input": "2023-09-20T23:39:33.160117Z",
     "iopub.status.busy": "2023-09-20T23:39:33.159583Z",
     "iopub.status.idle": "2023-09-20T23:39:33.167996Z",
     "shell.execute_reply": "2023-09-20T23:39:33.167365Z"
    },
    "papermill": {
     "duration": 0.013764,
     "end_time": "2023-09-20T23:39:33.169744",
     "exception": false,
     "start_time": "2023-09-20T23:39:33.155980",
     "status": "completed"
    },
    "tags": []
   },
   "outputs": [],
   "source": [
    "pd.DataFrame({\n",
    "  'orders': tickets.groupby('ward_code').number_of_tickets.count(),\n",
    "  'tickets': tickets.groupby('ward_code').number_of_tickets.sum().astype(int),\n",
    "}).to_csv(os.path.join(OUTPUT_DIR, 'tickets_by_ward.csv'))"
   ]
  },
  {
   "cell_type": "code",
   "execution_count": 9,
   "id": "961893f4",
   "metadata": {
    "execution": {
     "iopub.execute_input": "2023-09-20T23:39:33.176248Z",
     "iopub.status.busy": "2023-09-20T23:39:33.175840Z",
     "iopub.status.idle": "2023-09-20T23:39:33.185084Z",
     "shell.execute_reply": "2023-09-20T23:39:33.184431Z"
    },
    "papermill": {
     "duration": 0.014478,
     "end_time": "2023-09-20T23:39:33.186788",
     "exception": false,
     "start_time": "2023-09-20T23:39:33.172310",
     "status": "completed"
    },
    "tags": []
   },
   "outputs": [],
   "source": [
    "pd.DataFrame({\n",
    "  'orders': tickets.groupby('event_date').number_of_tickets.count(),\n",
    "  'tickets': tickets.groupby('event_date').number_of_tickets.sum().astype(int),\n",
    "}).resample('M').sum().to_csv(os.path.join(OUTPUT_DIR, 'tickets_by_event_date.csv'))"
   ]
  },
  {
   "cell_type": "code",
   "execution_count": 10,
   "id": "e164f2bc",
   "metadata": {
    "execution": {
     "iopub.execute_input": "2023-09-20T23:39:33.194391Z",
     "iopub.status.busy": "2023-09-20T23:39:33.193987Z",
     "iopub.status.idle": "2023-09-20T23:39:33.200064Z",
     "shell.execute_reply": "2023-09-20T23:39:33.199452Z"
    },
    "papermill": {
     "duration": 0.012217,
     "end_time": "2023-09-20T23:39:33.201635",
     "exception": false,
     "start_time": "2023-09-20T23:39:33.189418",
     "status": "completed"
    },
    "tags": []
   },
   "outputs": [],
   "source": [
    "pd.Series({\n",
    "    'total_events': events.event_unique_identifier.count(),\n",
    "    'total_attendances': events.attendances.count(),\n",
    "    'first_event': events.date.min(),\n",
    "    'latest_event': events.date.max(),\n",
    "    'total_ticket_orders_for_events_to_date': tickets.number_of_tickets.count(),\n",
    "    'total_tickets_sold_for_events_to_date': tickets.number_of_tickets.sum(),\n",
    "}).to_json(os.path.join(OUTPUT_DIR, 'headlines.json'), indent=2)"
   ]
  },
  {
   "cell_type": "code",
   "execution_count": null,
   "id": "50ff3b75",
   "metadata": {
    "papermill": {
     "duration": 0.002703,
     "end_time": "2023-09-20T23:39:33.207085",
     "exception": false,
     "start_time": "2023-09-20T23:39:33.204382",
     "status": "completed"
    },
    "tags": []
   },
   "outputs": [],
   "source": []
  }
 ],
 "metadata": {
  "kernelspec": {
   "display_name": "leeds-2023-YZF5GfJv",
   "language": "python",
   "name": "python3"
  },
  "language_info": {
   "codemirror_mode": {
    "name": "ipython",
    "version": 3
   },
   "file_extension": ".py",
   "mimetype": "text/x-python",
   "name": "python",
   "nbconvert_exporter": "python",
   "pygments_lexer": "ipython3",
   "version": "3.10.13"
  },
  "papermill": {
   "default_parameters": {},
   "duration": 13.686761,
   "end_time": "2023-09-20T23:39:33.627619",
   "environment_variables": {},
   "exception": null,
   "input_path": "prepare.ipynb",
   "output_path": "../../../../working/output/signature-prepare.ipynb",
   "parameters": {},
   "start_time": "2023-09-20T23:39:19.940858",
   "version": "2.4.0"
  }
 },
 "nbformat": 4,
 "nbformat_minor": 5
}