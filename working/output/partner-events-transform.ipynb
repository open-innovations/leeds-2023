{
 "cells": [
  {
   "cell_type": "code",
   "execution_count": 1,
   "id": "8218e046",
   "metadata": {
    "execution": {
     "iopub.execute_input": "2023-12-08T23:37:25.490010Z",
     "iopub.status.busy": "2023-12-08T23:37:25.489726Z",
     "iopub.status.idle": "2023-12-08T23:37:25.731358Z",
     "shell.execute_reply": "2023-12-08T23:37:25.730681Z"
    },
    "papermill": {
     "duration": 0.247189,
     "end_time": "2023-12-08T23:37:25.733013",
     "exception": false,
     "start_time": "2023-12-08T23:37:25.485824",
     "status": "completed"
    },
    "tags": []
   },
   "outputs": [],
   "source": [
    "import os\n",
    "import sys\n",
    "import pandas as pd\n",
    "lib_dir = os.path.realpath('../../../lib/')\n",
    "if lib_dir not in sys.path: sys.path.append(lib_dir)"
   ]
  },
  {
   "cell_type": "code",
   "execution_count": 2,
   "id": "ad737de2",
   "metadata": {
    "execution": {
     "iopub.execute_input": "2023-12-08T23:37:25.739033Z",
     "iopub.status.busy": "2023-12-08T23:37:25.738412Z",
     "iopub.status.idle": "2023-12-08T23:37:32.796928Z",
     "shell.execute_reply": "2023-12-08T23:37:32.796279Z"
    },
    "papermill": {
     "duration": 7.063002,
     "end_time": "2023-12-08T23:37:32.798514",
     "exception": false,
     "start_time": "2023-12-08T23:37:25.735512",
     "status": "completed"
    },
    "tags": []
   },
   "outputs": [],
   "source": [
    "import util.geo"
   ]
  },
  {
   "cell_type": "code",
   "execution_count": 3,
   "id": "17e9bde3",
   "metadata": {
    "execution": {
     "iopub.execute_input": "2023-12-08T23:37:32.804298Z",
     "iopub.status.busy": "2023-12-08T23:37:32.803883Z",
     "iopub.status.idle": "2023-12-08T23:37:32.807161Z",
     "shell.execute_reply": "2023-12-08T23:37:32.806554Z"
    },
    "papermill": {
     "duration": 0.007476,
     "end_time": "2023-12-08T23:37:32.808489",
     "exception": false,
     "start_time": "2023-12-08T23:37:32.801013",
     "status": "completed"
    },
    "tags": []
   },
   "outputs": [],
   "source": [
    "EVENTS_RAW_DATA = '../../../working/metrics/partner-events/events.csv'\n",
    "DATA_DIR = '../../../data/metrics/events/partner-events/'\n",
    "EVENTS_DATA = os.path.join(DATA_DIR, 'events.csv')"
   ]
  },
  {
   "cell_type": "code",
   "execution_count": 4,
   "id": "0b03df4d",
   "metadata": {
    "execution": {
     "iopub.execute_input": "2023-12-08T23:37:32.813931Z",
     "iopub.status.busy": "2023-12-08T23:37:32.813454Z",
     "iopub.status.idle": "2023-12-08T23:37:32.816863Z",
     "shell.execute_reply": "2023-12-08T23:37:32.816321Z"
    },
    "papermill": {
     "duration": 0.00746,
     "end_time": "2023-12-08T23:37:32.818109",
     "exception": false,
     "start_time": "2023-12-08T23:37:32.810649",
     "status": "completed"
    },
    "tags": []
   },
   "outputs": [],
   "source": [
    "columns = {\n",
    "    'Event Name': 'name',\n",
    "    'Event Start Date': 'start_date',\n",
    "    'Event End Date': 'end_date',\n",
    "    'Partner/Promote': 'partner_promote',\n",
    "    'Stage': 'stage',\n",
    "    'Live date': 'live_date',\n",
    "    'Venue postcode': 'postcode',\n",
    "    'Pricing Policy': 'pricing',\n",
    "    'Venue - including address': 'venue',\n",
    "    'Is this event on Leeds Inspried?': 'on_leeds_inspired',\n",
    "}"
   ]
  },
  {
   "cell_type": "markdown",
   "id": "af4ca4ec",
   "metadata": {
    "papermill": {
     "duration": 0.002165,
     "end_time": "2023-12-08T23:37:32.822470",
     "exception": false,
     "start_time": "2023-12-08T23:37:32.820305",
     "status": "completed"
    },
    "tags": []
   },
   "source": [
    "Load the data and rename columns. Parse the dates to dates."
   ]
  },
  {
   "cell_type": "code",
   "execution_count": 5,
   "id": "5b67b24c",
   "metadata": {
    "execution": {
     "iopub.execute_input": "2023-12-08T23:37:32.827883Z",
     "iopub.status.busy": "2023-12-08T23:37:32.827385Z",
     "iopub.status.idle": "2023-12-08T23:37:32.836785Z",
     "shell.execute_reply": "2023-12-08T23:37:32.836168Z"
    },
    "papermill": {
     "duration": 0.013561,
     "end_time": "2023-12-08T23:37:32.838144",
     "exception": false,
     "start_time": "2023-12-08T23:37:32.824583",
     "status": "completed"
    },
    "tags": []
   },
   "outputs": [],
   "source": [
    "data = pd.read_csv(EVENTS_RAW_DATA)[columns.keys()].rename(columns=columns)\n",
    "data.start_date = pd.to_datetime(data.start_date, errors='coerce')\n",
    "data.end_date = pd.to_datetime(data.end_date, errors='coerce')"
   ]
  },
  {
   "cell_type": "markdown",
   "id": "b269293f",
   "metadata": {
    "papermill": {
     "duration": 0.002117,
     "end_time": "2023-12-08T23:37:32.842492",
     "exception": false,
     "start_time": "2023-12-08T23:37:32.840375",
     "status": "completed"
    },
    "tags": []
   },
   "source": [
    "Filter data by not LI Pull through and start date before now"
   ]
  },
  {
   "cell_type": "code",
   "execution_count": 6,
   "id": "9a7f914e",
   "metadata": {
    "execution": {
     "iopub.execute_input": "2023-12-08T23:37:32.848514Z",
     "iopub.status.busy": "2023-12-08T23:37:32.848153Z",
     "iopub.status.idle": "2023-12-08T23:37:32.852593Z",
     "shell.execute_reply": "2023-12-08T23:37:32.851995Z"
    },
    "papermill": {
     "duration": 0.008553,
     "end_time": "2023-12-08T23:37:32.853908",
     "exception": false,
     "start_time": "2023-12-08T23:37:32.845355",
     "status": "completed"
    },
    "tags": []
   },
   "outputs": [],
   "source": [
    "data = data[\n",
    "    # (data.live_date == 'This event is live ') &\n",
    "    ((data.stage != 'LI pull through') & data.stage.notna()) &\n",
    "    (data.start_date < pd.Timestamp.now())\n",
    "]"
   ]
  },
  {
   "cell_type": "code",
   "execution_count": 7,
   "id": "4f79f481",
   "metadata": {
    "execution": {
     "iopub.execute_input": "2023-12-08T23:37:32.859294Z",
     "iopub.status.busy": "2023-12-08T23:37:32.858933Z",
     "iopub.status.idle": "2023-12-08T23:37:33.707970Z",
     "shell.execute_reply": "2023-12-08T23:37:33.707324Z"
    },
    "papermill": {
     "duration": 0.853584,
     "end_time": "2023-12-08T23:37:33.709691",
     "exception": false,
     "start_time": "2023-12-08T23:37:32.856107",
     "status": "completed"
    },
    "tags": []
   },
   "outputs": [],
   "source": [
    "data['ward_code'] = data.postcode.pipe(util.geo.postcode_formatter).map(util.geo.postcode_to_ward_code)\n",
    "data['ward_name'] = data.ward_code.pipe(util.geo.ward_code_to_name)"
   ]
  },
  {
   "cell_type": "markdown",
   "id": "5af717d1",
   "metadata": {
    "papermill": {
     "duration": 0.002441,
     "end_time": "2023-12-08T23:37:33.714775",
     "exception": false,
     "start_time": "2023-12-08T23:37:33.712334",
     "status": "completed"
    },
    "tags": []
   },
   "source": [
    "Save the file"
   ]
  },
  {
   "cell_type": "code",
   "execution_count": 8,
   "id": "683a46fb",
   "metadata": {
    "execution": {
     "iopub.execute_input": "2023-12-08T23:37:33.720497Z",
     "iopub.status.busy": "2023-12-08T23:37:33.720072Z",
     "iopub.status.idle": "2023-12-08T23:37:33.725893Z",
     "shell.execute_reply": "2023-12-08T23:37:33.725387Z"
    },
    "papermill": {
     "duration": 0.010206,
     "end_time": "2023-12-08T23:37:33.727194",
     "exception": false,
     "start_time": "2023-12-08T23:37:33.716988",
     "status": "completed"
    },
    "tags": []
   },
   "outputs": [],
   "source": [
    "data[\n",
    "    ['name','start_date','end_date','ward_code']\n",
    "].to_csv(EVENTS_DATA, index=False)"
   ]
  },
  {
   "cell_type": "markdown",
   "id": "4870a589",
   "metadata": {
    "papermill": {
     "duration": 0.002216,
     "end_time": "2023-12-08T23:37:33.731673",
     "exception": false,
     "start_time": "2023-12-08T23:37:33.729457",
     "status": "completed"
    },
    "tags": []
   },
   "source": [
    "Print out missing postcode data"
   ]
  },
  {
   "cell_type": "code",
   "execution_count": 9,
   "id": "60c6fb5c",
   "metadata": {
    "execution": {
     "iopub.execute_input": "2023-12-08T23:37:33.737235Z",
     "iopub.status.busy": "2023-12-08T23:37:33.736814Z",
     "iopub.status.idle": "2023-12-08T23:37:33.748352Z",
     "shell.execute_reply": "2023-12-08T23:37:33.747805Z"
    },
    "papermill": {
     "duration": 0.015681,
     "end_time": "2023-12-08T23:37:33.749594",
     "exception": false,
     "start_time": "2023-12-08T23:37:33.733913",
     "status": "completed"
    },
    "tags": []
   },
   "outputs": [
    {
     "data": {
      "text/html": [
       "<div>\n",
       "<style scoped>\n",
       "    .dataframe tbody tr th:only-of-type {\n",
       "        vertical-align: middle;\n",
       "    }\n",
       "\n",
       "    .dataframe tbody tr th {\n",
       "        vertical-align: top;\n",
       "    }\n",
       "\n",
       "    .dataframe thead th {\n",
       "        text-align: right;\n",
       "    }\n",
       "</style>\n",
       "<table border=\"1\" class=\"dataframe\">\n",
       "  <thead>\n",
       "    <tr style=\"text-align: right;\">\n",
       "      <th></th>\n",
       "      <th>name</th>\n",
       "      <th>start_date</th>\n",
       "    </tr>\n",
       "  </thead>\n",
       "  <tbody>\n",
       "    <tr>\n",
       "      <th>1</th>\n",
       "      <td>East Street Arts, A City Less Grey 2022</td>\n",
       "      <td>2022-10-08</td>\n",
       "    </tr>\n",
       "    <tr>\n",
       "      <th>3</th>\n",
       "      <td>Phoenix Dance Theatre Virtual Gallery</td>\n",
       "      <td>2023-01-01</td>\n",
       "    </tr>\n",
       "    <tr>\n",
       "      <th>4</th>\n",
       "      <td>The Big Art Giveaway, School of Creative Arts ...</td>\n",
       "      <td>2023-01-01</td>\n",
       "    </tr>\n",
       "    <tr>\n",
       "      <th>5</th>\n",
       "      <td>Embassy of Netherlands, Meet Leeds Lab</td>\n",
       "      <td>2023-01-16</td>\n",
       "    </tr>\n",
       "    <tr>\n",
       "      <th>6</th>\n",
       "      <td>Shifting Borders: A Journey to the Centre of o...</td>\n",
       "      <td>2023-01-24</td>\n",
       "    </tr>\n",
       "    <tr>\n",
       "      <th>...</th>\n",
       "      <td>...</td>\n",
       "      <td>...</td>\n",
       "    </tr>\n",
       "    <tr>\n",
       "      <th>300</th>\n",
       "      <td>Leeds Language Week: Taste of China</td>\n",
       "      <td>2023-11-19</td>\n",
       "    </tr>\n",
       "    <tr>\n",
       "      <th>302</th>\n",
       "      <td>Don't Go To Bed Just Yet: Live recording from ...</td>\n",
       "      <td>2023-11-21</td>\n",
       "    </tr>\n",
       "    <tr>\n",
       "      <th>304</th>\n",
       "      <td>Wellbeing Wednesdays</td>\n",
       "      <td>2023-11-22</td>\n",
       "    </tr>\n",
       "    <tr>\n",
       "      <th>315</th>\n",
       "      <td>Art Social for Teachers: Textile Stories with ...</td>\n",
       "      <td>2023-12-06</td>\n",
       "    </tr>\n",
       "    <tr>\n",
       "      <th>318</th>\n",
       "      <td>Leeds Beckett University presents ‘A Christmas...</td>\n",
       "      <td>2023-12-08</td>\n",
       "    </tr>\n",
       "  </tbody>\n",
       "</table>\n",
       "<p>128 rows × 2 columns</p>\n",
       "</div>"
      ],
      "text/plain": [
       "                                                  name start_date\n",
       "1              East Street Arts, A City Less Grey 2022 2022-10-08\n",
       "3                Phoenix Dance Theatre Virtual Gallery 2023-01-01\n",
       "4    The Big Art Giveaway, School of Creative Arts ... 2023-01-01\n",
       "5               Embassy of Netherlands, Meet Leeds Lab 2023-01-16\n",
       "6    Shifting Borders: A Journey to the Centre of o... 2023-01-24\n",
       "..                                                 ...        ...\n",
       "300                Leeds Language Week: Taste of China 2023-11-19\n",
       "302  Don't Go To Bed Just Yet: Live recording from ... 2023-11-21\n",
       "304                               Wellbeing Wednesdays 2023-11-22\n",
       "315  Art Social for Teachers: Textile Stories with ... 2023-12-06\n",
       "318  Leeds Beckett University presents ‘A Christmas... 2023-12-08\n",
       "\n",
       "[128 rows x 2 columns]"
      ]
     },
     "execution_count": 9,
     "metadata": {},
     "output_type": "execute_result"
    }
   ],
   "source": [
    "data[data.postcode.isna()][[\n",
    "    'name', 'start_date'\n",
    "]]"
   ]
  },
  {
   "cell_type": "markdown",
   "id": "b578cc2a",
   "metadata": {
    "papermill": {
     "duration": 0.002488,
     "end_time": "2023-12-08T23:37:33.754625",
     "exception": false,
     "start_time": "2023-12-08T23:37:33.752137",
     "status": "completed"
    },
    "tags": []
   },
   "source": [
    "Plot the pricing"
   ]
  },
  {
   "cell_type": "code",
   "execution_count": 10,
   "id": "e856f24e",
   "metadata": {
    "execution": {
     "iopub.execute_input": "2023-12-08T23:37:33.760637Z",
     "iopub.status.busy": "2023-12-08T23:37:33.760259Z",
     "iopub.status.idle": "2023-12-08T23:37:34.242613Z",
     "shell.execute_reply": "2023-12-08T23:37:34.241860Z"
    },
    "papermill": {
     "duration": 0.486918,
     "end_time": "2023-12-08T23:37:34.243995",
     "exception": false,
     "start_time": "2023-12-08T23:37:33.757077",
     "status": "completed"
    },
    "tags": []
   },
   "outputs": [
    {
     "data": {
      "image/png": "[encoded data removed]",
      "text/plain": [
       "<Figure size 640x480 with 1 Axes>"
      ]
     },
     "metadata": {},
     "output_type": "display_data"
    }
   ],
   "source": [
    "# .groupby('pricing').count().plot.barh()\n",
    "pricing = data.pricing.fillna('Unspecified').str.replace('[\\[\\'\\]]', '', regex=True).to_frame().reset_index().groupby('pricing').count()\n",
    "\n",
    "pricing.columns = ['count']\n",
    "plot = pricing.plot.barh()\n"
   ]
  },
  {
   "cell_type": "code",
   "execution_count": null,
   "id": "a6d959b4",
   "metadata": {
    "papermill": {
     "duration": 0.002991,
     "end_time": "2023-12-08T23:37:34.250194",
     "exception": false,
     "start_time": "2023-12-08T23:37:34.247203",
     "status": "completed"
    },
    "tags": []
   },
   "outputs": [],
   "source": []
  }
 ],
 "metadata": {
  "kernelspec": {
   "display_name": "leeds-2023-YZF5GfJv",
   "language": "python",
   "name": "python3"
  },
  "language_info": {
   "codemirror_mode": {
    "name": "ipython",
    "version": 3
   },
   "file_extension": ".py",
   "mimetype": "text/x-python",
   "name": "python",
   "nbconvert_exporter": "python",
   "pygments_lexer": "ipython3",
   "version": "3.10.13"
  },
  "papermill": {
   "default_parameters": {},
   "duration": 10.329775,
   "end_time": "2023-12-08T23:37:34.569437",
   "environment_variables": {},
   "exception": null,
   "input_path": "transform.ipynb",
   "output_path": "../../../working/output/partner-events-transform.ipynb",
   "parameters": {},
   "start_time": "2023-12-08T23:37:24.239662",
   "version": "2.4.0"
  }
 },
 "nbformat": 4,
 "nbformat_minor": 5
}