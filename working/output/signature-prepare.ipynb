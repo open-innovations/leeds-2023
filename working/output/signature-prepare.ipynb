{
 "cells": [
  {
   "cell_type": "code",
   "execution_count": 1,
   "id": "30cb4079",
   "metadata": {
    "execution": {
     "iopub.execute_input": "2023-08-01T23:40:46.450211Z",
     "iopub.status.busy": "2023-08-01T23:40:46.449434Z",
     "iopub.status.idle": "2023-08-01T23:40:59.531312Z",
     "shell.execute_reply": "2023-08-01T23:40:59.530183Z"
    },
    "papermill": {
     "duration": 13.0896,
     "end_time": "2023-08-01T23:40:59.534191",
     "exception": false,
     "start_time": "2023-08-01T23:40:46.444591",
     "status": "completed"
    },
    "tags": []
   },
   "outputs": [],
   "source": [
    "import os\n",
    "import pandas as pd\n",
    "from events import load_event_data, get_first_ward, normalise_ward"
   ]
  },
  {
   "cell_type": "code",
   "execution_count": 2,
   "id": "67b085ac",
   "metadata": {
    "execution": {
     "iopub.execute_input": "2023-08-01T23:40:59.541612Z",
     "iopub.status.busy": "2023-08-01T23:40:59.541083Z",
     "iopub.status.idle": "2023-08-01T23:40:59.547369Z",
     "shell.execute_reply": "2023-08-01T23:40:59.546515Z"
    },
    "papermill": {
     "duration": 0.01223,
     "end_time": "2023-08-01T23:40:59.549454",
     "exception": false,
     "start_time": "2023-08-01T23:40:59.537224",
     "status": "completed"
    },
    "tags": []
   },
   "outputs": [],
   "source": [
    "latest_date = pd.Timestamp.today().ceil('D')"
   ]
  },
  {
   "cell_type": "code",
   "execution_count": 3,
   "id": "44442309",
   "metadata": {
    "execution": {
     "iopub.execute_input": "2023-08-01T23:40:59.556436Z",
     "iopub.status.busy": "2023-08-01T23:40:59.555637Z",
     "iopub.status.idle": "2023-08-01T23:40:59.574526Z",
     "shell.execute_reply": "2023-08-01T23:40:59.573476Z"
    },
    "papermill": {
     "duration": 0.025088,
     "end_time": "2023-08-01T23:40:59.577200",
     "exception": false,
     "start_time": "2023-08-01T23:40:59.552112",
     "status": "completed"
    },
    "tags": []
   },
   "outputs": [],
   "source": [
    "tickets = pd.read_csv('../../../../data/metrics/events/tickets/orders.csv', parse_dates=['created_at', 'event_date'])\n",
    "tickets = tickets[tickets.event_date <= latest_date]"
   ]
  },
  {
   "cell_type": "code",
   "execution_count": 4,
   "id": "6c8bea80",
   "metadata": {
    "execution": {
     "iopub.execute_input": "2023-08-01T23:40:59.583953Z",
     "iopub.status.busy": "2023-08-01T23:40:59.583648Z",
     "iopub.status.idle": "2023-08-01T23:40:59.781216Z",
     "shell.execute_reply": "2023-08-01T23:40:59.780037Z"
    },
    "papermill": {
     "duration": 0.204139,
     "end_time": "2023-08-01T23:40:59.784157",
     "exception": false,
     "start_time": "2023-08-01T23:40:59.580018",
     "status": "completed"
    },
    "tags": []
   },
   "outputs": [],
   "source": [
    "events = load_event_data()\n",
    "\n",
    "events = pd.concat([\n",
    "  events,\n",
    "  events.pipe(get_first_ward).pipe(normalise_ward).fillna('UNKNOWN'),\n",
    "  pd.Series(\n",
    "      events.actual_audience_size_number_of_participants_in_person + events.actual_audience_size_number_of_participants_online,\n",
    "      name='attendances'\n",
    "  )\n",
    "], axis=1).rename(columns={\n",
    "    'start_date': 'date'\n",
    "}).loc[:, ['ward_code', 'date', 'event_unique_identifier', 'attendances']]"
   ]
  },
  {
   "cell_type": "code",
   "execution_count": 5,
   "id": "05339ef1",
   "metadata": {
    "execution": {
     "iopub.execute_input": "2023-08-01T23:40:59.792007Z",
     "iopub.status.busy": "2023-08-01T23:40:59.791704Z",
     "iopub.status.idle": "2023-08-01T23:40:59.796306Z",
     "shell.execute_reply": "2023-08-01T23:40:59.795445Z"
    },
    "papermill": {
     "duration": 0.011152,
     "end_time": "2023-08-01T23:40:59.798657",
     "exception": false,
     "start_time": "2023-08-01T23:40:59.787505",
     "status": "completed"
    },
    "tags": []
   },
   "outputs": [],
   "source": [
    "OUTPUT_DIR='../../../../docs/metrics/events/signature/_data/'\n",
    "os.makedirs(OUTPUT_DIR, exist_ok=True)"
   ]
  },
  {
   "cell_type": "markdown",
   "id": "b2b23df4",
   "metadata": {
    "papermill": {
     "duration": 0.003073,
     "end_time": "2023-08-01T23:40:59.804404",
     "exception": false,
     "start_time": "2023-08-01T23:40:59.801331",
     "status": "completed"
    },
    "tags": []
   },
   "source": [
    "Events CSVs"
   ]
  },
  {
   "cell_type": "code",
   "execution_count": 6,
   "id": "8285befb",
   "metadata": {
    "execution": {
     "iopub.execute_input": "2023-08-01T23:40:59.811208Z",
     "iopub.status.busy": "2023-08-01T23:40:59.810897Z",
     "iopub.status.idle": "2023-08-01T23:40:59.820232Z",
     "shell.execute_reply": "2023-08-01T23:40:59.819255Z"
    },
    "papermill": {
     "duration": 0.015007,
     "end_time": "2023-08-01T23:40:59.822208",
     "exception": false,
     "start_time": "2023-08-01T23:40:59.807201",
     "status": "completed"
    },
    "tags": []
   },
   "outputs": [],
   "source": [
    "pd.DataFrame({\n",
    "  'events': events.groupby('ward_code').event_unique_identifier.count(),\n",
    "  'attendances': events.groupby('ward_code').attendances.sum().astype(int),\n",
    "}).to_csv(os.path.join(OUTPUT_DIR, 'events_by_ward.csv'))\n"
   ]
  },
  {
   "cell_type": "code",
   "execution_count": 7,
   "id": "12eb44fd",
   "metadata": {
    "execution": {
     "iopub.execute_input": "2023-08-01T23:40:59.829385Z",
     "iopub.status.busy": "2023-08-01T23:40:59.829085Z",
     "iopub.status.idle": "2023-08-01T23:40:59.844270Z",
     "shell.execute_reply": "2023-08-01T23:40:59.843237Z"
    },
    "papermill": {
     "duration": 0.021009,
     "end_time": "2023-08-01T23:40:59.846420",
     "exception": false,
     "start_time": "2023-08-01T23:40:59.825411",
     "status": "completed"
    },
    "tags": []
   },
   "outputs": [],
   "source": [
    "pd.DataFrame({\n",
    "  'events': events.groupby('date').event_unique_identifier.count(),\n",
    "  'attendances': events.groupby('date').attendances.sum().astype(int),\n",
    "}).resample('M').sum().astype(int).to_csv(os.path.join(OUTPUT_DIR, 'events_by_date.csv'))"
   ]
  },
  {
   "cell_type": "markdown",
   "id": "a7a2eecd",
   "metadata": {
    "papermill": {
     "duration": 0.002749,
     "end_time": "2023-08-01T23:40:59.852088",
     "exception": false,
     "start_time": "2023-08-01T23:40:59.849339",
     "status": "completed"
    },
    "tags": []
   },
   "source": [
    "Tickets CSV"
   ]
  },
  {
   "cell_type": "code",
   "execution_count": 8,
   "id": "85d9559a",
   "metadata": {
    "execution": {
     "iopub.execute_input": "2023-08-01T23:40:59.859747Z",
     "iopub.status.busy": "2023-08-01T23:40:59.859022Z",
     "iopub.status.idle": "2023-08-01T23:40:59.868489Z",
     "shell.execute_reply": "2023-08-01T23:40:59.867671Z"
    },
    "papermill": {
     "duration": 0.015547,
     "end_time": "2023-08-01T23:40:59.870582",
     "exception": false,
     "start_time": "2023-08-01T23:40:59.855035",
     "status": "completed"
    },
    "tags": []
   },
   "outputs": [],
   "source": [
    "pd.DataFrame({\n",
    "  'orders': tickets.groupby('ward_code').number_of_tickets.count(),\n",
    "  'tickets': tickets.groupby('ward_code').number_of_tickets.sum().astype(int),\n",
    "}).to_csv(os.path.join(OUTPUT_DIR, 'tickets_by_ward.csv'))"
   ]
  },
  {
   "cell_type": "code",
   "execution_count": 9,
   "id": "bdaef94d",
   "metadata": {
    "execution": {
     "iopub.execute_input": "2023-08-01T23:40:59.877658Z",
     "iopub.status.busy": "2023-08-01T23:40:59.877085Z",
     "iopub.status.idle": "2023-08-01T23:40:59.888074Z",
     "shell.execute_reply": "2023-08-01T23:40:59.887279Z"
    },
    "papermill": {
     "duration": 0.016723,
     "end_time": "2023-08-01T23:40:59.890155",
     "exception": false,
     "start_time": "2023-08-01T23:40:59.873432",
     "status": "completed"
    },
    "tags": []
   },
   "outputs": [],
   "source": [
    "pd.DataFrame({\n",
    "  'orders': tickets.groupby('event_date').number_of_tickets.count(),\n",
    "  'tickets': tickets.groupby('event_date').number_of_tickets.sum().astype(int),\n",
    "}).resample('M').sum().to_csv(os.path.join(OUTPUT_DIR, 'tickets_by_event_date.csv'))"
   ]
  },
  {
   "cell_type": "code",
   "execution_count": 10,
   "id": "fbc568c1",
   "metadata": {
    "execution": {
     "iopub.execute_input": "2023-08-01T23:40:59.899683Z",
     "iopub.status.busy": "2023-08-01T23:40:59.899200Z",
     "iopub.status.idle": "2023-08-01T23:40:59.906516Z",
     "shell.execute_reply": "2023-08-01T23:40:59.905581Z"
    },
    "papermill": {
     "duration": 0.015097,
     "end_time": "2023-08-01T23:40:59.908761",
     "exception": false,
     "start_time": "2023-08-01T23:40:59.893664",
     "status": "completed"
    },
    "tags": []
   },
   "outputs": [],
   "source": [
    "pd.Series({\n",
    "    'total_events': events.event_unique_identifier.count(),\n",
    "    'total_attendances': events.attendances.count(),\n",
    "    'first_event': events.date.min(),\n",
    "    'latest_event': events.date.max(),\n",
    "    'total_ticket_orders_for_events_to_date': tickets.number_of_tickets.count(),\n",
    "    'total_tickets_sold_for_events_to_date': tickets.number_of_tickets.sum(),\n",
    "}).to_json(os.path.join(OUTPUT_DIR, 'headlines.json'), indent=2)"
   ]
  },
  {
   "cell_type": "code",
   "execution_count": null,
   "id": "cf4f5fd0",
   "metadata": {
    "papermill": {
     "duration": 0.00277,
     "end_time": "2023-08-01T23:40:59.914701",
     "exception": false,
     "start_time": "2023-08-01T23:40:59.911931",
     "status": "completed"
    },
    "tags": []
   },
   "outputs": [],
   "source": []
  }
 ],
 "metadata": {
  "kernelspec": {
   "display_name": "leeds-2023-YZF5GfJv",
   "language": "python",
   "name": "python3"
  },
  "language_info": {
   "codemirror_mode": {
    "name": "ipython",
    "version": 3
   },
   "file_extension": ".py",
   "mimetype": "text/x-python",
   "name": "python",
   "nbconvert_exporter": "python",
   "pygments_lexer": "ipython3",
   "version": "3.10.6"
  },
  "papermill": {
   "default_parameters": {},
   "duration": 15.478888,
   "end_time": "2023-08-01T23:41:00.340557",
   "environment_variables": {},
   "exception": null,
   "input_path": "prepare.ipynb",
   "output_path": "../../../../working/output/signature-prepare.ipynb",
   "parameters": {},
   "start_time": "2023-08-01T23:40:44.861669",
   "version": "2.4.0"
  }
 },
 "nbformat": 4,
 "nbformat_minor": 5
}