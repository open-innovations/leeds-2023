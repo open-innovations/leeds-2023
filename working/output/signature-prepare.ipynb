{
 "cells": [
  {
   "cell_type": "code",
   "execution_count": 1,
   "id": "1e20383b",
   "metadata": {
    "execution": {
     "iopub.execute_input": "2023-11-24T23:40:20.723969Z",
     "iopub.status.busy": "2023-11-24T23:40:20.723461Z",
     "iopub.status.idle": "2023-11-24T23:40:27.838760Z",
     "shell.execute_reply": "2023-11-24T23:40:27.838097Z"
    },
    "papermill": {
     "duration": 7.120062,
     "end_time": "2023-11-24T23:40:27.840302",
     "exception": false,
     "start_time": "2023-11-24T23:40:20.720240",
     "status": "completed"
    },
    "tags": []
   },
   "outputs": [],
   "source": [
    "import os\n",
    "import pandas as pd\n",
    "from events import load_event_data, get_first_ward, normalise_ward"
   ]
  },
  {
   "cell_type": "code",
   "execution_count": 2,
   "id": "db26b693",
   "metadata": {
    "execution": {
     "iopub.execute_input": "2023-11-24T23:40:27.845532Z",
     "iopub.status.busy": "2023-11-24T23:40:27.845052Z",
     "iopub.status.idle": "2023-11-24T23:40:27.848617Z",
     "shell.execute_reply": "2023-11-24T23:40:27.848001Z"
    },
    "papermill": {
     "duration": 0.007526,
     "end_time": "2023-11-24T23:40:27.850025",
     "exception": false,
     "start_time": "2023-11-24T23:40:27.842499",
     "status": "completed"
    },
    "tags": []
   },
   "outputs": [],
   "source": [
    "latest_date = pd.Timestamp.today().ceil('D')"
   ]
  },
  {
   "cell_type": "code",
   "execution_count": 3,
   "id": "966f91d5",
   "metadata": {
    "execution": {
     "iopub.execute_input": "2023-11-24T23:40:27.855002Z",
     "iopub.status.busy": "2023-11-24T23:40:27.854348Z",
     "iopub.status.idle": "2023-11-24T23:40:27.868658Z",
     "shell.execute_reply": "2023-11-24T23:40:27.868050Z"
    },
    "papermill": {
     "duration": 0.0184,
     "end_time": "2023-11-24T23:40:27.870283",
     "exception": false,
     "start_time": "2023-11-24T23:40:27.851883",
     "status": "completed"
    },
    "tags": []
   },
   "outputs": [],
   "source": [
    "tickets = pd.read_csv('../../../../data/metrics/events/tickets/orders.csv', parse_dates=['created_at', 'event_date'])\n",
    "tickets = tickets[tickets.event_date <= latest_date]"
   ]
  },
  {
   "cell_type": "code",
   "execution_count": 4,
   "id": "dbc7a153",
   "metadata": {
    "execution": {
     "iopub.execute_input": "2023-11-24T23:40:27.874989Z",
     "iopub.status.busy": "2023-11-24T23:40:27.874546Z",
     "iopub.status.idle": "2023-11-24T23:40:27.924539Z",
     "shell.execute_reply": "2023-11-24T23:40:27.923921Z"
    },
    "papermill": {
     "duration": 0.05378,
     "end_time": "2023-11-24T23:40:27.925904",
     "exception": false,
     "start_time": "2023-11-24T23:40:27.872124",
     "status": "completed"
    },
    "tags": []
   },
   "outputs": [],
   "source": [
    "events = load_event_data()\n",
    "\n",
    "events = pd.concat([\n",
    "  events,\n",
    "  events.pipe(get_first_ward).pipe(normalise_ward).fillna('UNKNOWN'),\n",
    "  pd.Series(\n",
    "      events.actual_audience_size_number_of_participants_in_person + events.actual_audience_size_number_of_participants_online,\n",
    "      name='attendances'\n",
    "  )\n",
    "], axis=1).rename(columns={\n",
    "    'start_date': 'date'\n",
    "}).loc[:, ['ward_code', 'date', 'event_unique_identifier', 'attendances']]"
   ]
  },
  {
   "cell_type": "code",
   "execution_count": 5,
   "id": "c6a2c5c3",
   "metadata": {
    "execution": {
     "iopub.execute_input": "2023-11-24T23:40:27.930965Z",
     "iopub.status.busy": "2023-11-24T23:40:27.930532Z",
     "iopub.status.idle": "2023-11-24T23:40:27.934336Z",
     "shell.execute_reply": "2023-11-24T23:40:27.933698Z"
    },
    "papermill": {
     "duration": 0.0079,
     "end_time": "2023-11-24T23:40:27.935713",
     "exception": false,
     "start_time": "2023-11-24T23:40:27.927813",
     "status": "completed"
    },
    "tags": []
   },
   "outputs": [],
   "source": [
    "OUTPUT_DIR='../../../../docs/metrics/events/signature/_data/'\n",
    "os.makedirs(OUTPUT_DIR, exist_ok=True)"
   ]
  },
  {
   "cell_type": "markdown",
   "id": "84b96cb4",
   "metadata": {
    "papermill": {
     "duration": 0.00205,
     "end_time": "2023-11-24T23:40:27.939757",
     "exception": false,
     "start_time": "2023-11-24T23:40:27.937707",
     "status": "completed"
    },
    "tags": []
   },
   "source": [
    "Events CSVs"
   ]
  },
  {
   "cell_type": "code",
   "execution_count": 6,
   "id": "23547abf",
   "metadata": {
    "execution": {
     "iopub.execute_input": "2023-11-24T23:40:27.944837Z",
     "iopub.status.busy": "2023-11-24T23:40:27.944412Z",
     "iopub.status.idle": "2023-11-24T23:40:27.951248Z",
     "shell.execute_reply": "2023-11-24T23:40:27.950708Z"
    },
    "papermill": {
     "duration": 0.010911,
     "end_time": "2023-11-24T23:40:27.952665",
     "exception": false,
     "start_time": "2023-11-24T23:40:27.941754",
     "status": "completed"
    },
    "tags": []
   },
   "outputs": [],
   "source": [
    "pd.DataFrame({\n",
    "  'events': events.groupby('ward_code').event_unique_identifier.count(),\n",
    "  'attendances': events.groupby('ward_code').attendances.sum().astype(int),\n",
    "}).to_csv(os.path.join(OUTPUT_DIR, 'events_by_ward.csv'))\n"
   ]
  },
  {
   "cell_type": "code",
   "execution_count": 7,
   "id": "0c81bf0d",
   "metadata": {
    "execution": {
     "iopub.execute_input": "2023-11-24T23:40:27.957928Z",
     "iopub.status.busy": "2023-11-24T23:40:27.957523Z",
     "iopub.status.idle": "2023-11-24T23:40:27.966672Z",
     "shell.execute_reply": "2023-11-24T23:40:27.966029Z"
    },
    "papermill": {
     "duration": 0.013505,
     "end_time": "2023-11-24T23:40:27.968301",
     "exception": false,
     "start_time": "2023-11-24T23:40:27.954796",
     "status": "completed"
    },
    "tags": []
   },
   "outputs": [],
   "source": [
    "pd.DataFrame({\n",
    "  'events': events.groupby('date').event_unique_identifier.count(),\n",
    "  'attendances': events.groupby('date').attendances.sum().astype(int),\n",
    "}).resample('M').sum().astype(int).to_csv(os.path.join(OUTPUT_DIR, 'events_by_date.csv'))"
   ]
  },
  {
   "cell_type": "markdown",
   "id": "78c0b009",
   "metadata": {
    "papermill": {
     "duration": 0.003805,
     "end_time": "2023-11-24T23:40:27.975061",
     "exception": false,
     "start_time": "2023-11-24T23:40:27.971256",
     "status": "completed"
    },
    "tags": []
   },
   "source": [
    "Tickets CSV"
   ]
  },
  {
   "cell_type": "code",
   "execution_count": 8,
   "id": "161ed6eb",
   "metadata": {
    "execution": {
     "iopub.execute_input": "2023-11-24T23:40:27.981735Z",
     "iopub.status.busy": "2023-11-24T23:40:27.981544Z",
     "iopub.status.idle": "2023-11-24T23:40:27.987713Z",
     "shell.execute_reply": "2023-11-24T23:40:27.987095Z"
    },
    "papermill": {
     "duration": 0.011164,
     "end_time": "2023-11-24T23:40:27.989104",
     "exception": false,
     "start_time": "2023-11-24T23:40:27.977940",
     "status": "completed"
    },
    "tags": []
   },
   "outputs": [],
   "source": [
    "pd.DataFrame({\n",
    "  'orders': tickets.groupby('ward_code').number_of_tickets.count(),\n",
    "  'tickets': tickets.groupby('ward_code').number_of_tickets.sum().astype(int),\n",
    "}).to_csv(os.path.join(OUTPUT_DIR, 'tickets_by_ward.csv'))"
   ]
  },
  {
   "cell_type": "code",
   "execution_count": 9,
   "id": "b5610e9e",
   "metadata": {
    "execution": {
     "iopub.execute_input": "2023-11-24T23:40:27.994273Z",
     "iopub.status.busy": "2023-11-24T23:40:27.993813Z",
     "iopub.status.idle": "2023-11-24T23:40:28.002408Z",
     "shell.execute_reply": "2023-11-24T23:40:28.001758Z"
    },
    "papermill": {
     "duration": 0.012633,
     "end_time": "2023-11-24T23:40:28.003759",
     "exception": false,
     "start_time": "2023-11-24T23:40:27.991126",
     "status": "completed"
    },
    "tags": []
   },
   "outputs": [],
   "source": [
    "pd.DataFrame({\n",
    "  'orders': tickets.groupby('event_date').number_of_tickets.count(),\n",
    "  'tickets': tickets.groupby('event_date').number_of_tickets.sum().astype(int),\n",
    "}).resample('M').sum().to_csv(os.path.join(OUTPUT_DIR, 'tickets_by_event_date.csv'))"
   ]
  },
  {
   "cell_type": "code",
   "execution_count": 10,
   "id": "690f35c5",
   "metadata": {
    "execution": {
     "iopub.execute_input": "2023-11-24T23:40:28.009157Z",
     "iopub.status.busy": "2023-11-24T23:40:28.008640Z",
     "iopub.status.idle": "2023-11-24T23:40:28.013880Z",
     "shell.execute_reply": "2023-11-24T23:40:28.013255Z"
    },
    "papermill": {
     "duration": 0.009581,
     "end_time": "2023-11-24T23:40:28.015312",
     "exception": false,
     "start_time": "2023-11-24T23:40:28.005731",
     "status": "completed"
    },
    "tags": []
   },
   "outputs": [],
   "source": [
    "pd.Series({\n",
    "    'total_events': events.event_unique_identifier.count(),\n",
    "    'total_attendances': events.attendances.count(),\n",
    "    'first_event': events.date.min(),\n",
    "    'latest_event': events.date.max(),\n",
    "    'total_ticket_orders_for_events_to_date': tickets.number_of_tickets.count(),\n",
    "    'total_tickets_sold_for_events_to_date': tickets.number_of_tickets.sum(),\n",
    "}).to_json(os.path.join(OUTPUT_DIR, 'headlines.json'), indent=2)"
   ]
  },
  {
   "cell_type": "code",
   "execution_count": null,
   "id": "f0a04fa6",
   "metadata": {
    "papermill": {
     "duration": 0.002113,
     "end_time": "2023-11-24T23:40:28.019569",
     "exception": false,
     "start_time": "2023-11-24T23:40:28.017456",
     "status": "completed"
    },
    "tags": []
   },
   "outputs": [],
   "source": []
  }
 ],
 "metadata": {
  "kernelspec": {
   "display_name": "leeds-2023-YZF5GfJv",
   "language": "python",
   "name": "python3"
  },
  "language_info": {
   "codemirror_mode": {
    "name": "ipython",
    "version": 3
   },
   "file_extension": ".py",
   "mimetype": "text/x-python",
   "name": "python",
   "nbconvert_exporter": "python",
   "pygments_lexer": "ipython3",
   "version": "3.10.13"
  },
  "papermill": {
   "default_parameters": {},
   "duration": 8.749696,
   "end_time": "2023-11-24T23:40:28.238139",
   "environment_variables": {},
   "exception": null,
   "input_path": "prepare.ipynb",
   "output_path": "../../../../working/output/signature-prepare.ipynb",
   "parameters": {},
   "start_time": "2023-11-24T23:40:19.488443",
   "version": "2.4.0"
  }
 },
 "nbformat": 4,
 "nbformat_minor": 5
}