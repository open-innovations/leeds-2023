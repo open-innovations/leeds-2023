{
 "cells": [
  {
   "cell_type": "code",
   "execution_count": 1,
   "id": "5c03cd2b",
   "metadata": {
    "execution": {
     "iopub.execute_input": "2023-10-09T23:38:15.639247Z",
     "iopub.status.busy": "2023-10-09T23:38:15.638731Z",
     "iopub.status.idle": "2023-10-09T23:38:15.906135Z",
     "shell.execute_reply": "2023-10-09T23:38:15.905475Z"
    },
    "papermill": {
     "duration": 0.274085,
     "end_time": "2023-10-09T23:38:15.907951",
     "exception": false,
     "start_time": "2023-10-09T23:38:15.633866",
     "status": "completed"
    },
    "tags": []
   },
   "outputs": [],
   "source": [
    "import glob\n",
    "import os\n",
    "\n",
    "import pandas as pd\n",
    "from cision import (add_hash, append_filename, clean_up, convert_numbers,\n",
    "                    drop_empty_headlines, guess_date, guess_encoding,\n",
    "                    normalise_column_names, patch_column_names, save_csv,\n",
    "                    logger)"
   ]
  },
  {
   "cell_type": "markdown",
   "id": "85c50274",
   "metadata": {
    "papermill": {
     "duration": 0.002932,
     "end_time": "2023-10-09T23:38:15.913815",
     "exception": false,
     "start_time": "2023-10-09T23:38:15.910883",
     "status": "completed"
    },
    "tags": []
   },
   "source": [
    "The media files are downloaded to `working/manual/media` with a `dvc` url import. The files are uploaded to files.open-innovations.org by AMA, who are LEEDS 2023's media partner."
   ]
  },
  {
   "cell_type": "code",
   "execution_count": 2,
   "id": "9aa7e893",
   "metadata": {
    "execution": {
     "iopub.execute_input": "2023-10-09T23:38:15.920776Z",
     "iopub.status.busy": "2023-10-09T23:38:15.920054Z",
     "iopub.status.idle": "2023-10-09T23:38:15.923552Z",
     "shell.execute_reply": "2023-10-09T23:38:15.922883Z"
    },
    "papermill": {
     "duration": 0.00863,
     "end_time": "2023-10-09T23:38:15.925087",
     "exception": false,
     "start_time": "2023-10-09T23:38:15.916457",
     "status": "completed"
    },
    "tags": []
   },
   "outputs": [],
   "source": [
    "WORKING_DIR = '../../../working/manual/media/'"
   ]
  },
  {
   "cell_type": "markdown",
   "id": "9a3b96d6",
   "metadata": {
    "papermill": {
     "duration": 0.002519,
     "end_time": "2023-10-09T23:38:15.930226",
     "exception": false,
     "start_time": "2023-10-09T23:38:15.927707",
     "status": "completed"
    },
    "tags": []
   },
   "source": [
    "Get the list of input files and work out which is the latest date in the column"
   ]
  },
  {
   "cell_type": "code",
   "execution_count": 3,
   "id": "fa894385",
   "metadata": {
    "execution": {
     "iopub.execute_input": "2023-10-09T23:38:15.936378Z",
     "iopub.status.busy": "2023-10-09T23:38:15.936153Z",
     "iopub.status.idle": "2023-10-09T23:38:15.943763Z",
     "shell.execute_reply": "2023-10-09T23:38:15.943188Z"
    },
    "papermill": {
     "duration": 0.012509,
     "end_time": "2023-10-09T23:38:15.945313",
     "exception": false,
     "start_time": "2023-10-09T23:38:15.932804",
     "status": "completed"
    },
    "tags": []
   },
   "outputs": [],
   "source": [
    "files=glob.glob('*.csv', root_dir=WORKING_DIR)\n",
    "input_files = pd.Series(\n",
    "    files, index=files, name='latest_input_date'\n",
    ").str.lower().str.replace(\n",
    "    r'(leeds 2023.*?media coverage( w\\.e\\.*)*\\s*([\\d\\.]*-){0,1}|.csv$)', '', regex=True\n",
    ").str.strip().pipe(pd.to_datetime, format='%d.%m.%y', errors='coerce').sort_values()"
   ]
  },
  {
   "cell_type": "markdown",
   "id": "4970ba79",
   "metadata": {
    "papermill": {
     "duration": 0.002527,
     "end_time": "2023-10-09T23:38:15.950518",
     "exception": false,
     "start_time": "2023-10-09T23:38:15.947991",
     "status": "completed"
    },
    "tags": []
   },
   "source": [
    "List files with invalid dates"
   ]
  },
  {
   "cell_type": "code",
   "execution_count": 4,
   "id": "e0377013",
   "metadata": {
    "execution": {
     "iopub.execute_input": "2023-10-09T23:38:15.957112Z",
     "iopub.status.busy": "2023-10-09T23:38:15.956540Z",
     "iopub.status.idle": "2023-10-09T23:38:15.968033Z",
     "shell.execute_reply": "2023-10-09T23:38:15.967186Z"
    },
    "papermill": {
     "duration": 0.016299,
     "end_time": "2023-10-09T23:38:15.969417",
     "exception": false,
     "start_time": "2023-10-09T23:38:15.953118",
     "status": "completed"
    },
    "tags": []
   },
   "outputs": [
    {
     "data": {
      "text/html": [
       "<div>\n",
       "<style scoped>\n",
       "    .dataframe tbody tr th:only-of-type {\n",
       "        vertical-align: middle;\n",
       "    }\n",
       "\n",
       "    .dataframe tbody tr th {\n",
       "        vertical-align: top;\n",
       "    }\n",
       "\n",
       "    .dataframe thead th {\n",
       "        text-align: right;\n",
       "    }\n",
       "</style>\n",
       "<table border=\"1\" class=\"dataframe\">\n",
       "  <thead>\n",
       "    <tr style=\"text-align: right;\">\n",
       "      <th></th>\n",
       "      <th>latest_input_date</th>\n",
       "    </tr>\n",
       "  </thead>\n",
       "  <tbody>\n",
       "  </tbody>\n",
       "</table>\n",
       "</div>"
      ],
      "text/plain": [
       "Empty DataFrame\n",
       "Columns: [latest_input_date]\n",
       "Index: []"
      ]
     },
     "execution_count": 4,
     "metadata": {},
     "output_type": "execute_result"
    }
   ],
   "source": [
    "input_files.loc[input_files.isna()].to_frame()"
   ]
  },
  {
   "cell_type": "markdown",
   "id": "650ea90d",
   "metadata": {
    "papermill": {
     "duration": 0.002775,
     "end_time": "2023-10-09T23:38:15.975124",
     "exception": false,
     "start_time": "2023-10-09T23:38:15.972349",
     "status": "completed"
    },
    "tags": []
   },
   "source": [
    "Load the cision date into a long "
   ]
  },
  {
   "cell_type": "code",
   "execution_count": 5,
   "id": "7b1a510b",
   "metadata": {
    "execution": {
     "iopub.execute_input": "2023-10-09T23:38:15.981893Z",
     "iopub.status.busy": "2023-10-09T23:38:15.981459Z",
     "iopub.status.idle": "2023-10-09T23:38:15.988427Z",
     "shell.execute_reply": "2023-10-09T23:38:15.987789Z"
    },
    "papermill": {
     "duration": 0.011954,
     "end_time": "2023-10-09T23:38:15.989838",
     "exception": false,
     "start_time": "2023-10-09T23:38:15.977884",
     "status": "completed"
    },
    "tags": []
   },
   "outputs": [],
   "source": [
    "required_columns = set([\n",
    "    'news_date', 'news_headline', 'outlet_name', 'audience_reach', 'uv'\n",
    "])\n",
    "\n",
    "\n",
    "def load_cision_file(filename):\n",
    "    source_file = os.path.basename(filename)\n",
    "    latest_date = input_files.loc[source_file]\n",
    "    logger.info('Loading %s', source_file)\n",
    "    logger.info('Latest date %s', str(latest_date))\n",
    "\n",
    "    try:\n",
    "        data = pd.read_csv(\n",
    "            filename,\n",
    "            encoding=guess_encoding(filename),\n",
    "            thousands=',',\n",
    "            skipinitialspace=True\n",
    "        )\n",
    "    except Exception as e:\n",
    "        logger.warning('Cannot process %s', filename)\n",
    "        logger.info(e)\n",
    "        return\n",
    "\n",
    "    data = (\n",
    "        data\n",
    "        .pipe(add_hash)\n",
    "        .pipe(append_filename, source_file)\n",
    "        .pipe(normalise_column_names)\n",
    "        .pipe(patch_column_names)\n",
    "        .pipe(drop_empty_headlines)\n",
    "        .pipe(guess_date, latest_date=latest_date)\n",
    "        .pipe(convert_numbers)\n",
    "    )\n",
    "\n",
    "    data['latest_date'] = latest_date\n",
    "\n",
    "    # Check for expected columns\n",
    "    try:\n",
    "        assert required_columns.issubset(data.columns)\n",
    "    except:\n",
    "        missing = required_columns.difference(data.columns)\n",
    "        logger.warning(\"Missing columns %s in %s\", missing, filename)\n",
    "        logger.info(\"Got columns %r\", data.columns)\n",
    "        return\n",
    "\n",
    "    return data"
   ]
  },
  {
   "cell_type": "code",
   "execution_count": 6,
   "id": "8dac7bbe",
   "metadata": {
    "execution": {
     "iopub.execute_input": "2023-10-09T23:38:15.997672Z",
     "iopub.status.busy": "2023-10-09T23:38:15.997109Z",
     "iopub.status.idle": "2023-10-09T23:38:17.004805Z",
     "shell.execute_reply": "2023-10-09T23:38:17.004113Z"
    },
    "papermill": {
     "duration": 1.014038,
     "end_time": "2023-10-09T23:38:17.006740",
     "exception": false,
     "start_time": "2023-10-09T23:38:15.992702",
     "status": "completed"
    },
    "tags": []
   },
   "outputs": [],
   "source": [
    "cision_data = pd.concat([\n",
    "    load_cision_file(os.path.join(WORKING_DIR, f))\n",
    "    for f in\n",
    "    input_files.loc[input_files.notna()].index.to_list()\n",
    "])"
   ]
  },
  {
   "cell_type": "markdown",
   "id": "e8fa4e79",
   "metadata": {
    "papermill": {
     "duration": 0.003166,
     "end_time": "2023-10-09T23:38:17.013161",
     "exception": false,
     "start_time": "2023-10-09T23:38:17.009995",
     "status": "completed"
    },
    "tags": []
   },
   "source": [
    "Print missing dates"
   ]
  },
  {
   "cell_type": "code",
   "execution_count": 7,
   "id": "bd26980b",
   "metadata": {
    "execution": {
     "iopub.execute_input": "2023-10-09T23:38:17.020317Z",
     "iopub.status.busy": "2023-10-09T23:38:17.019818Z",
     "iopub.status.idle": "2023-10-09T23:38:17.030623Z",
     "shell.execute_reply": "2023-10-09T23:38:17.029929Z"
    },
    "papermill": {
     "duration": 0.016331,
     "end_time": "2023-10-09T23:38:17.032381",
     "exception": false,
     "start_time": "2023-10-09T23:38:17.016050",
     "status": "completed"
    },
    "tags": []
   },
   "outputs": [
    {
     "data": {
      "text/html": [
       "<div>\n",
       "<style scoped>\n",
       "    .dataframe tbody tr th:only-of-type {\n",
       "        vertical-align: middle;\n",
       "    }\n",
       "\n",
       "    .dataframe tbody tr th {\n",
       "        vertical-align: top;\n",
       "    }\n",
       "\n",
       "    .dataframe thead th {\n",
       "        text-align: right;\n",
       "    }\n",
       "</style>\n",
       "<table border=\"1\" class=\"dataframe\">\n",
       "  <thead>\n",
       "    <tr style=\"text-align: right;\">\n",
       "      <th></th>\n",
       "      <th>news_date</th>\n",
       "      <th>input_date</th>\n",
       "      <th>source_file</th>\n",
       "    </tr>\n",
       "  </thead>\n",
       "  <tbody>\n",
       "    <tr>\n",
       "      <th>0</th>\n",
       "      <td>NaT</td>\n",
       "      <td>1/1/2023</td>\n",
       "      <td>Leeds 2023 weekly media coverage 23.12.22.csv</td>\n",
       "    </tr>\n",
       "    <tr>\n",
       "      <th>1</th>\n",
       "      <td>NaT</td>\n",
       "      <td>1/1/2023</td>\n",
       "      <td>Leeds 2023 weekly media coverage 23.12.22.csv</td>\n",
       "    </tr>\n",
       "    <tr>\n",
       "      <th>23</th>\n",
       "      <td>NaT</td>\n",
       "      <td>01.08.23</td>\n",
       "      <td>LEEDS 2023 Weekly media coverage w.e. 21.07.23...</td>\n",
       "    </tr>\n",
       "  </tbody>\n",
       "</table>\n",
       "</div>"
      ],
      "text/plain": [
       "   news_date input_date                                        source_file\n",
       "0        NaT   1/1/2023      Leeds 2023 weekly media coverage 23.12.22.csv\n",
       "1        NaT   1/1/2023      Leeds 2023 weekly media coverage 23.12.22.csv\n",
       "23       NaT   01.08.23  LEEDS 2023 Weekly media coverage w.e. 21.07.23..."
      ]
     },
     "execution_count": 7,
     "metadata": {},
     "output_type": "execute_result"
    }
   ],
   "source": [
    "cision_data[cision_data.news_date.isna()].loc[:, ['news_date', 'input_date', 'source_file']]"
   ]
  },
  {
   "cell_type": "code",
   "execution_count": 8,
   "id": "c627acc7",
   "metadata": {
    "execution": {
     "iopub.execute_input": "2023-10-09T23:38:17.039848Z",
     "iopub.status.busy": "2023-10-09T23:38:17.039424Z",
     "iopub.status.idle": "2023-10-09T23:38:17.091875Z",
     "shell.execute_reply": "2023-10-09T23:38:17.091225Z"
    },
    "papermill": {
     "duration": 0.057871,
     "end_time": "2023-10-09T23:38:17.093444",
     "exception": false,
     "start_time": "2023-10-09T23:38:17.035573",
     "status": "completed"
    },
    "tags": []
   },
   "outputs": [
    {
     "data": {
      "text/html": [
       "<div>\n",
       "<style scoped>\n",
       "    .dataframe tbody tr th:only-of-type {\n",
       "        vertical-align: middle;\n",
       "    }\n",
       "\n",
       "    .dataframe tbody tr th {\n",
       "        vertical-align: top;\n",
       "    }\n",
       "\n",
       "    .dataframe thead th {\n",
       "        text-align: right;\n",
       "    }\n",
       "</style>\n",
       "<table border=\"1\" class=\"dataframe\">\n",
       "  <thead>\n",
       "    <tr style=\"text-align: right;\">\n",
       "      <th></th>\n",
       "      <th>news_date</th>\n",
       "      <th>news_headline</th>\n",
       "      <th>outlet_name</th>\n",
       "      <th>audience_reach</th>\n",
       "      <th>uv</th>\n",
       "      <th>tone</th>\n",
       "      <th>medium</th>\n",
       "      <th>outlet_type</th>\n",
       "      <th>custom_tags</th>\n",
       "      <th>news_company_mentions</th>\n",
       "      <th>hash</th>\n",
       "      <th>source_file</th>\n",
       "      <th>latest_date</th>\n",
       "      <th>input_date</th>\n",
       "    </tr>\n",
       "  </thead>\n",
       "  <tbody>\n",
       "    <tr>\n",
       "      <th>236</th>\n",
       "      <td>2022-09-17</td>\n",
       "      <td>Four West Leeds sites earmarked for local auth...</td>\n",
       "      <td>West Leeds Dispatch</td>\n",
       "      <td>0</td>\n",
       "      <td>3141</td>\n",
       "      <td>POS</td>\n",
       "      <td>Online</td>\n",
       "      <td>Online, consumer</td>\n",
       "      <td>Local</td>\n",
       "      <td>Leeds 2023</td>\n",
       "      <td>13479499968123036765</td>\n",
       "      <td>Leeds 2023 media coverage 23.09.22-17.10.22.csv</td>\n",
       "      <td>2022-10-17</td>\n",
       "      <td>17/09/2022</td>\n",
       "    </tr>\n",
       "    <tr>\n",
       "      <th>237</th>\n",
       "      <td>2022-09-17</td>\n",
       "      <td>Inspirational Bramley Baths hailed a 'beacon f...</td>\n",
       "      <td>West Leeds Dispatch</td>\n",
       "      <td>0</td>\n",
       "      <td>3141</td>\n",
       "      <td>NEU</td>\n",
       "      <td>Online</td>\n",
       "      <td>Online, consumer</td>\n",
       "      <td>Local</td>\n",
       "      <td>Leeds 2023</td>\n",
       "      <td>453098313913252842</td>\n",
       "      <td>Leeds 2023 media coverage 23.09.22-17.10.22.csv</td>\n",
       "      <td>2022-10-17</td>\n",
       "      <td>17/09/2022</td>\n",
       "    </tr>\n",
       "    <tr>\n",
       "      <th>235</th>\n",
       "      <td>2022-09-17</td>\n",
       "      <td>Support Leeds 2023 city of culture by voluntee...</td>\n",
       "      <td>West Leeds Dispatch</td>\n",
       "      <td>0</td>\n",
       "      <td>3141</td>\n",
       "      <td>NEU</td>\n",
       "      <td>Online</td>\n",
       "      <td>Online, consumer</td>\n",
       "      <td>Local</td>\n",
       "      <td>Leeds 2023</td>\n",
       "      <td>10670817045611648545</td>\n",
       "      <td>Leeds 2023 media coverage 23.09.22-17.10.22.csv</td>\n",
       "      <td>2022-10-17</td>\n",
       "      <td>17/09/2022</td>\n",
       "    </tr>\n",
       "    <tr>\n",
       "      <th>234</th>\n",
       "      <td>2022-09-17</td>\n",
       "      <td>Youths shift 34 tonnes as new Bramley eco peac...</td>\n",
       "      <td>West Leeds Dispatch</td>\n",
       "      <td>0</td>\n",
       "      <td>3141</td>\n",
       "      <td>NEU</td>\n",
       "      <td>Online</td>\n",
       "      <td>Online, consumer</td>\n",
       "      <td>Local</td>\n",
       "      <td>Leeds 2023</td>\n",
       "      <td>13785126224380383013</td>\n",
       "      <td>Leeds 2023 media coverage 23.09.22-17.10.22.csv</td>\n",
       "      <td>2022-10-17</td>\n",
       "      <td>17/09/2022</td>\n",
       "    </tr>\n",
       "    <tr>\n",
       "      <th>233</th>\n",
       "      <td>2022-09-20</td>\n",
       "      <td>Inspirational Bramley Baths hailed a 'beacon f...</td>\n",
       "      <td>West Leeds Dispatch</td>\n",
       "      <td>0</td>\n",
       "      <td>3141</td>\n",
       "      <td>NEU</td>\n",
       "      <td>Online</td>\n",
       "      <td>Online, consumer</td>\n",
       "      <td>Local</td>\n",
       "      <td>Leeds 2023</td>\n",
       "      <td>12296830178779861036</td>\n",
       "      <td>Leeds 2023 media coverage 23.09.22-17.10.22.csv</td>\n",
       "      <td>2022-10-17</td>\n",
       "      <td>20/09/2022</td>\n",
       "    </tr>\n",
       "    <tr>\n",
       "      <th>...</th>\n",
       "      <td>...</td>\n",
       "      <td>...</td>\n",
       "      <td>...</td>\n",
       "      <td>...</td>\n",
       "      <td>...</td>\n",
       "      <td>...</td>\n",
       "      <td>...</td>\n",
       "      <td>...</td>\n",
       "      <td>...</td>\n",
       "      <td>...</td>\n",
       "      <td>...</td>\n",
       "      <td>...</td>\n",
       "      <td>...</td>\n",
       "      <td>...</td>\n",
       "    </tr>\n",
       "    <tr>\n",
       "      <th>193</th>\n",
       "      <td>2023-09-07</td>\n",
       "      <td>South Leeds Goes To The Playhouse Archives</td>\n",
       "      <td>South Leeds Life</td>\n",
       "      <td>0</td>\n",
       "      <td>1741</td>\n",
       "      <td>POS</td>\n",
       "      <td>Online</td>\n",
       "      <td>NaN</td>\n",
       "      <td>NaN</td>\n",
       "      <td>NaN</td>\n",
       "      <td>10163121866067807486</td>\n",
       "      <td>LEEDS 2023 Weekly media coverage w.e 08.09.23.csv</td>\n",
       "      <td>2023-09-08</td>\n",
       "      <td>07/09/2023</td>\n",
       "    </tr>\n",
       "    <tr>\n",
       "      <th>194</th>\n",
       "      <td>2023-09-08</td>\n",
       "      <td>Any Work That Wanted Doing</td>\n",
       "      <td>West Leeds Dispatch</td>\n",
       "      <td>0</td>\n",
       "      <td>3492</td>\n",
       "      <td>NEU</td>\n",
       "      <td>Online</td>\n",
       "      <td>NaN</td>\n",
       "      <td>NaN</td>\n",
       "      <td>NaN</td>\n",
       "      <td>10258372046474045511</td>\n",
       "      <td>LEEDS 2023 Weekly media coverage w.e 08.09.23.csv</td>\n",
       "      <td>2023-09-08</td>\n",
       "      <td>08/09/2023</td>\n",
       "    </tr>\n",
       "    <tr>\n",
       "      <th>243</th>\n",
       "      <td>2023-09-08</td>\n",
       "      <td>Radio clip from BBC Leeds at 2023-09-08 07:12:...</td>\n",
       "      <td>BBC Radio Leeds</td>\n",
       "      <td>78000</td>\n",
       "      <td>0</td>\n",
       "      <td>NEU</td>\n",
       "      <td>Broadcast</td>\n",
       "      <td>NaN</td>\n",
       "      <td>NaN</td>\n",
       "      <td>NaN</td>\n",
       "      <td>6691218088979109270</td>\n",
       "      <td>LEEDS 2023 Weekly media coverage w.e 08.09.23.csv</td>\n",
       "      <td>2023-09-08</td>\n",
       "      <td>08/09/2023</td>\n",
       "    </tr>\n",
       "    <tr>\n",
       "      <th>244</th>\n",
       "      <td>2023-09-08</td>\n",
       "      <td>Radio clip from BBC Leeds at 2023-09-08 07:19:...</td>\n",
       "      <td>BBC Radio Leeds</td>\n",
       "      <td>78000</td>\n",
       "      <td>0</td>\n",
       "      <td>NEU</td>\n",
       "      <td>Broadcast</td>\n",
       "      <td>NaN</td>\n",
       "      <td>NaN</td>\n",
       "      <td>NaN</td>\n",
       "      <td>16523518763970165355</td>\n",
       "      <td>LEEDS 2023 Weekly media coverage w.e 08.09.23.csv</td>\n",
       "      <td>2023-09-08</td>\n",
       "      <td>08/09/2023</td>\n",
       "    </tr>\n",
       "    <tr>\n",
       "      <th>245</th>\n",
       "      <td>2023-09-08</td>\n",
       "      <td>Radio clip from BBC Leeds at 2023-09-08 07:55:...</td>\n",
       "      <td>BBC Radio Leeds</td>\n",
       "      <td>78000</td>\n",
       "      <td>0</td>\n",
       "      <td>POS</td>\n",
       "      <td>Broadcast</td>\n",
       "      <td>NaN</td>\n",
       "      <td>NaN</td>\n",
       "      <td>NaN</td>\n",
       "      <td>14488735387496575551</td>\n",
       "      <td>LEEDS 2023 Weekly media coverage w.e 08.09.23.csv</td>\n",
       "      <td>2023-09-08</td>\n",
       "      <td>08/09/2023</td>\n",
       "    </tr>\n",
       "  </tbody>\n",
       "</table>\n",
       "<p>2149 rows × 14 columns</p>\n",
       "</div>"
      ],
      "text/plain": [
       "     news_date                                      news_headline  \\\n",
       "236 2022-09-17  Four West Leeds sites earmarked for local auth...   \n",
       "237 2022-09-17  Inspirational Bramley Baths hailed a 'beacon f...   \n",
       "235 2022-09-17  Support Leeds 2023 city of culture by voluntee...   \n",
       "234 2022-09-17  Youths shift 34 tonnes as new Bramley eco peac...   \n",
       "233 2022-09-20  Inspirational Bramley Baths hailed a 'beacon f...   \n",
       "..         ...                                                ...   \n",
       "193 2023-09-07         South Leeds Goes To The Playhouse Archives   \n",
       "194 2023-09-08                         Any Work That Wanted Doing   \n",
       "243 2023-09-08  Radio clip from BBC Leeds at 2023-09-08 07:12:...   \n",
       "244 2023-09-08  Radio clip from BBC Leeds at 2023-09-08 07:19:...   \n",
       "245 2023-09-08  Radio clip from BBC Leeds at 2023-09-08 07:55:...   \n",
       "\n",
       "             outlet_name  audience_reach    uv tone     medium  \\\n",
       "236  West Leeds Dispatch               0  3141  POS     Online   \n",
       "237  West Leeds Dispatch               0  3141  NEU     Online   \n",
       "235  West Leeds Dispatch               0  3141  NEU     Online   \n",
       "234  West Leeds Dispatch               0  3141  NEU     Online   \n",
       "233  West Leeds Dispatch               0  3141  NEU     Online   \n",
       "..                   ...             ...   ...  ...        ...   \n",
       "193     South Leeds Life               0  1741  POS     Online   \n",
       "194  West Leeds Dispatch               0  3492  NEU     Online   \n",
       "243      BBC Radio Leeds           78000     0  NEU  Broadcast   \n",
       "244      BBC Radio Leeds           78000     0  NEU  Broadcast   \n",
       "245      BBC Radio Leeds           78000     0  POS  Broadcast   \n",
       "\n",
       "          outlet_type custom_tags news_company_mentions                  hash  \\\n",
       "236  Online, consumer       Local            Leeds 2023  13479499968123036765   \n",
       "237  Online, consumer       Local            Leeds 2023    453098313913252842   \n",
       "235  Online, consumer       Local            Leeds 2023  10670817045611648545   \n",
       "234  Online, consumer       Local            Leeds 2023  13785126224380383013   \n",
       "233  Online, consumer       Local            Leeds 2023  12296830178779861036   \n",
       "..                ...         ...                   ...                   ...   \n",
       "193               NaN         NaN                   NaN  10163121866067807486   \n",
       "194               NaN         NaN                   NaN  10258372046474045511   \n",
       "243               NaN         NaN                   NaN   6691218088979109270   \n",
       "244               NaN         NaN                   NaN  16523518763970165355   \n",
       "245               NaN         NaN                   NaN  14488735387496575551   \n",
       "\n",
       "                                           source_file latest_date  input_date  \n",
       "236    Leeds 2023 media coverage 23.09.22-17.10.22.csv  2022-10-17  17/09/2022  \n",
       "237    Leeds 2023 media coverage 23.09.22-17.10.22.csv  2022-10-17  17/09/2022  \n",
       "235    Leeds 2023 media coverage 23.09.22-17.10.22.csv  2022-10-17  17/09/2022  \n",
       "234    Leeds 2023 media coverage 23.09.22-17.10.22.csv  2022-10-17  17/09/2022  \n",
       "233    Leeds 2023 media coverage 23.09.22-17.10.22.csv  2022-10-17  20/09/2022  \n",
       "..                                                 ...         ...         ...  \n",
       "193  LEEDS 2023 Weekly media coverage w.e 08.09.23.csv  2023-09-08  07/09/2023  \n",
       "194  LEEDS 2023 Weekly media coverage w.e 08.09.23.csv  2023-09-08  08/09/2023  \n",
       "243  LEEDS 2023 Weekly media coverage w.e 08.09.23.csv  2023-09-08  08/09/2023  \n",
       "244  LEEDS 2023 Weekly media coverage w.e 08.09.23.csv  2023-09-08  08/09/2023  \n",
       "245  LEEDS 2023 Weekly media coverage w.e 08.09.23.csv  2023-09-08  08/09/2023  \n",
       "\n",
       "[2149 rows x 14 columns]"
      ]
     },
     "execution_count": 8,
     "metadata": {},
     "output_type": "execute_result"
    }
   ],
   "source": [
    "CISION_FILE = '../../../data/metrics/media_coverage/combined_cision.csv'\n",
    "os.makedirs(os.path.dirname(CISION_FILE), exist_ok=True)\n",
    "\n",
    "cision_data.loc[cision_data.news_date.notna()].pipe(clean_up).pipe(save_csv, output_file=CISION_FILE)"
   ]
  },
  {
   "cell_type": "markdown",
   "id": "12cca857",
   "metadata": {
    "papermill": {
     "duration": 0.003506,
     "end_time": "2023-10-09T23:38:17.100645",
     "exception": false,
     "start_time": "2023-10-09T23:38:17.097139",
     "status": "completed"
    },
    "tags": []
   },
   "source": [
    "Plot the number of days in a week where data is available. This shows potential gaps in the data."
   ]
  },
  {
   "cell_type": "code",
   "execution_count": 9,
   "id": "44a07d42",
   "metadata": {
    "execution": {
     "iopub.execute_input": "2023-10-09T23:38:17.109105Z",
     "iopub.status.busy": "2023-10-09T23:38:17.108491Z",
     "iopub.status.idle": "2023-10-09T23:38:17.932182Z",
     "shell.execute_reply": "2023-10-09T23:38:17.931571Z"
    },
    "papermill": {
     "duration": 0.829774,
     "end_time": "2023-10-09T23:38:17.933947",
     "exception": false,
     "start_time": "2023-10-09T23:38:17.104173",
     "status": "completed"
    },
    "tags": []
   },
   "outputs": [
    {
     "data": {
      "image/png": "[encoded data removed]",
      "text/plain": [
       "<Figure size 640x480 with 1 Axes>"
      ]
     },
     "metadata": {},
     "output_type": "display_data"
    }
   ],
   "source": [
    "ax = cision_data.groupby('news_date').news_headline.count().resample('W').count().plot.barh(\n",
    "  xlabel='Number of days in week with news coverage'\n",
    ")"
   ]
  },
  {
   "cell_type": "code",
   "execution_count": null,
   "id": "7e76dd43",
   "metadata": {
    "papermill": {
     "duration": 0.004597,
     "end_time": "2023-10-09T23:38:17.943451",
     "exception": false,
     "start_time": "2023-10-09T23:38:17.938854",
     "status": "completed"
    },
    "tags": []
   },
   "outputs": [],
   "source": []
  }
 ],
 "metadata": {
  "kernelspec": {
   "display_name": "leeds-2023-YZF5GfJv",
   "language": "python",
   "name": "python3"
  },
  "language_info": {
   "codemirror_mode": {
    "name": "ipython",
    "version": 3
   },
   "file_extension": ".py",
   "mimetype": "text/x-python",
   "name": "python",
   "nbconvert_exporter": "python",
   "pygments_lexer": "ipython3",
   "version": "3.10.13"
  },
  "papermill": {
   "default_parameters": {},
   "duration": 3.986619,
   "end_time": "2023-10-09T23:38:18.265682",
   "environment_variables": {},
   "exception": null,
   "input_path": "ingest-cision.ipynb",
   "output_path": "../../../working/output/media-ingest-cision.ipynb",
   "parameters": {},
   "start_time": "2023-10-09T23:38:14.279063",
   "version": "2.4.0"
  }
 },
 "nbformat": 4,
 "nbformat_minor": 5
}