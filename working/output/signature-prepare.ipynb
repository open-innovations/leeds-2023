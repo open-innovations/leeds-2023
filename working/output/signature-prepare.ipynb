{
 "cells": [
  {
   "cell_type": "code",
   "execution_count": 1,
   "id": "c0d00a0a",
   "metadata": {
    "execution": {
     "iopub.execute_input": "2023-10-17T23:41:14.484687Z",
     "iopub.status.busy": "2023-10-17T23:41:14.484151Z",
     "iopub.status.idle": "2023-10-17T23:41:25.549649Z",
     "shell.execute_reply": "2023-10-17T23:41:25.548385Z"
    },
    "papermill": {
     "duration": 11.073533,
     "end_time": "2023-10-17T23:41:25.553000",
     "exception": false,
     "start_time": "2023-10-17T23:41:14.479467",
     "status": "completed"
    },
    "tags": []
   },
   "outputs": [],
   "source": [
    "import os\n",
    "import pandas as pd\n",
    "from events import load_event_data, get_first_ward, normalise_ward"
   ]
  },
  {
   "cell_type": "code",
   "execution_count": 2,
   "id": "c10356bb",
   "metadata": {
    "execution": {
     "iopub.execute_input": "2023-10-17T23:41:25.559917Z",
     "iopub.status.busy": "2023-10-17T23:41:25.559240Z",
     "iopub.status.idle": "2023-10-17T23:41:25.564126Z",
     "shell.execute_reply": "2023-10-17T23:41:25.563510Z"
    },
    "papermill": {
     "duration": 0.009836,
     "end_time": "2023-10-17T23:41:25.565703",
     "exception": false,
     "start_time": "2023-10-17T23:41:25.555867",
     "status": "completed"
    },
    "tags": []
   },
   "outputs": [],
   "source": [
    "latest_date = pd.Timestamp.today().ceil('D')"
   ]
  },
  {
   "cell_type": "code",
   "execution_count": 3,
   "id": "00819413",
   "metadata": {
    "execution": {
     "iopub.execute_input": "2023-10-17T23:41:25.571835Z",
     "iopub.status.busy": "2023-10-17T23:41:25.571206Z",
     "iopub.status.idle": "2023-10-17T23:41:25.591112Z",
     "shell.execute_reply": "2023-10-17T23:41:25.590484Z"
    },
    "papermill": {
     "duration": 0.024584,
     "end_time": "2023-10-17T23:41:25.592649",
     "exception": false,
     "start_time": "2023-10-17T23:41:25.568065",
     "status": "completed"
    },
    "tags": []
   },
   "outputs": [],
   "source": [
    "tickets = pd.read_csv('../../../../data/metrics/events/tickets/orders.csv', parse_dates=['created_at', 'event_date'])\n",
    "tickets = tickets[tickets.event_date <= latest_date]"
   ]
  },
  {
   "cell_type": "code",
   "execution_count": 4,
   "id": "6c290413",
   "metadata": {
    "execution": {
     "iopub.execute_input": "2023-10-17T23:41:25.598440Z",
     "iopub.status.busy": "2023-10-17T23:41:25.598216Z",
     "iopub.status.idle": "2023-10-17T23:41:25.862729Z",
     "shell.execute_reply": "2023-10-17T23:41:25.861991Z"
    },
    "papermill": {
     "duration": 0.269957,
     "end_time": "2023-10-17T23:41:25.864964",
     "exception": false,
     "start_time": "2023-10-17T23:41:25.595007",
     "status": "completed"
    },
    "tags": []
   },
   "outputs": [],
   "source": [
    "events = load_event_data()\n",
    "\n",
    "events = pd.concat([\n",
    "  events,\n",
    "  events.pipe(get_first_ward).pipe(normalise_ward).fillna('UNKNOWN'),\n",
    "  pd.Series(\n",
    "      events.actual_audience_size_number_of_participants_in_person + events.actual_audience_size_number_of_participants_online,\n",
    "      name='attendances'\n",
    "  )\n",
    "], axis=1).rename(columns={\n",
    "    'start_date': 'date'\n",
    "}).loc[:, ['ward_code', 'date', 'event_unique_identifier', 'attendances']]"
   ]
  },
  {
   "cell_type": "code",
   "execution_count": 5,
   "id": "a16e170a",
   "metadata": {
    "execution": {
     "iopub.execute_input": "2023-10-17T23:41:25.872333Z",
     "iopub.status.busy": "2023-10-17T23:41:25.871692Z",
     "iopub.status.idle": "2023-10-17T23:41:25.875398Z",
     "shell.execute_reply": "2023-10-17T23:41:25.874731Z"
    },
    "papermill": {
     "duration": 0.009324,
     "end_time": "2023-10-17T23:41:25.877122",
     "exception": false,
     "start_time": "2023-10-17T23:41:25.867798",
     "status": "completed"
    },
    "tags": []
   },
   "outputs": [],
   "source": [
    "OUTPUT_DIR='../../../../docs/metrics/events/signature/_data/'\n",
    "os.makedirs(OUTPUT_DIR, exist_ok=True)"
   ]
  },
  {
   "cell_type": "markdown",
   "id": "5ced8603",
   "metadata": {
    "papermill": {
     "duration": 0.002472,
     "end_time": "2023-10-17T23:41:25.882009",
     "exception": false,
     "start_time": "2023-10-17T23:41:25.879537",
     "status": "completed"
    },
    "tags": []
   },
   "source": [
    "Events CSVs"
   ]
  },
  {
   "cell_type": "code",
   "execution_count": 6,
   "id": "fed6eb55",
   "metadata": {
    "execution": {
     "iopub.execute_input": "2023-10-17T23:41:25.888141Z",
     "iopub.status.busy": "2023-10-17T23:41:25.887514Z",
     "iopub.status.idle": "2023-10-17T23:41:25.896374Z",
     "shell.execute_reply": "2023-10-17T23:41:25.895764Z"
    },
    "papermill": {
     "duration": 0.013524,
     "end_time": "2023-10-17T23:41:25.897869",
     "exception": false,
     "start_time": "2023-10-17T23:41:25.884345",
     "status": "completed"
    },
    "tags": []
   },
   "outputs": [],
   "source": [
    "pd.DataFrame({\n",
    "  'events': events.groupby('ward_code').event_unique_identifier.count(),\n",
    "  'attendances': events.groupby('ward_code').attendances.sum().astype(int),\n",
    "}).to_csv(os.path.join(OUTPUT_DIR, 'events_by_ward.csv'))\n"
   ]
  },
  {
   "cell_type": "code",
   "execution_count": 7,
   "id": "514f4576",
   "metadata": {
    "execution": {
     "iopub.execute_input": "2023-10-17T23:41:25.903898Z",
     "iopub.status.busy": "2023-10-17T23:41:25.903448Z",
     "iopub.status.idle": "2023-10-17T23:41:25.915589Z",
     "shell.execute_reply": "2023-10-17T23:41:25.914967Z"
    },
    "papermill": {
     "duration": 0.017047,
     "end_time": "2023-10-17T23:41:25.917332",
     "exception": false,
     "start_time": "2023-10-17T23:41:25.900285",
     "status": "completed"
    },
    "tags": []
   },
   "outputs": [],
   "source": [
    "pd.DataFrame({\n",
    "  'events': events.groupby('date').event_unique_identifier.count(),\n",
    "  'attendances': events.groupby('date').attendances.sum().astype(int),\n",
    "}).resample('M').sum().astype(int).to_csv(os.path.join(OUTPUT_DIR, 'events_by_date.csv'))"
   ]
  },
  {
   "cell_type": "markdown",
   "id": "536a4137",
   "metadata": {
    "papermill": {
     "duration": 0.00242,
     "end_time": "2023-10-17T23:41:25.922227",
     "exception": false,
     "start_time": "2023-10-17T23:41:25.919807",
     "status": "completed"
    },
    "tags": []
   },
   "source": [
    "Tickets CSV"
   ]
  },
  {
   "cell_type": "code",
   "execution_count": 8,
   "id": "e3d4a971",
   "metadata": {
    "execution": {
     "iopub.execute_input": "2023-10-17T23:41:25.928398Z",
     "iopub.status.busy": "2023-10-17T23:41:25.927799Z",
     "iopub.status.idle": "2023-10-17T23:41:25.934965Z",
     "shell.execute_reply": "2023-10-17T23:41:25.934388Z"
    },
    "papermill": {
     "duration": 0.011986,
     "end_time": "2023-10-17T23:41:25.936609",
     "exception": false,
     "start_time": "2023-10-17T23:41:25.924623",
     "status": "completed"
    },
    "tags": []
   },
   "outputs": [],
   "source": [
    "pd.DataFrame({\n",
    "  'orders': tickets.groupby('ward_code').number_of_tickets.count(),\n",
    "  'tickets': tickets.groupby('ward_code').number_of_tickets.sum().astype(int),\n",
    "}).to_csv(os.path.join(OUTPUT_DIR, 'tickets_by_ward.csv'))"
   ]
  },
  {
   "cell_type": "code",
   "execution_count": 9,
   "id": "df01015f",
   "metadata": {
    "execution": {
     "iopub.execute_input": "2023-10-17T23:41:25.942782Z",
     "iopub.status.busy": "2023-10-17T23:41:25.942263Z",
     "iopub.status.idle": "2023-10-17T23:41:25.950582Z",
     "shell.execute_reply": "2023-10-17T23:41:25.949983Z"
    },
    "papermill": {
     "duration": 0.012978,
     "end_time": "2023-10-17T23:41:25.952048",
     "exception": false,
     "start_time": "2023-10-17T23:41:25.939070",
     "status": "completed"
    },
    "tags": []
   },
   "outputs": [],
   "source": [
    "pd.DataFrame({\n",
    "  'orders': tickets.groupby('event_date').number_of_tickets.count(),\n",
    "  'tickets': tickets.groupby('event_date').number_of_tickets.sum().astype(int),\n",
    "}).resample('M').sum().to_csv(os.path.join(OUTPUT_DIR, 'tickets_by_event_date.csv'))"
   ]
  },
  {
   "cell_type": "code",
   "execution_count": 10,
   "id": "fc90a762",
   "metadata": {
    "execution": {
     "iopub.execute_input": "2023-10-17T23:41:25.959211Z",
     "iopub.status.busy": "2023-10-17T23:41:25.958776Z",
     "iopub.status.idle": "2023-10-17T23:41:25.964266Z",
     "shell.execute_reply": "2023-10-17T23:41:25.963607Z"
    },
    "papermill": {
     "duration": 0.011232,
     "end_time": "2023-10-17T23:41:25.965753",
     "exception": false,
     "start_time": "2023-10-17T23:41:25.954521",
     "status": "completed"
    },
    "tags": []
   },
   "outputs": [],
   "source": [
    "pd.Series({\n",
    "    'total_events': events.event_unique_identifier.count(),\n",
    "    'total_attendances': events.attendances.count(),\n",
    "    'first_event': events.date.min(),\n",
    "    'latest_event': events.date.max(),\n",
    "    'total_ticket_orders_for_events_to_date': tickets.number_of_tickets.count(),\n",
    "    'total_tickets_sold_for_events_to_date': tickets.number_of_tickets.sum(),\n",
    "}).to_json(os.path.join(OUTPUT_DIR, 'headlines.json'), indent=2)"
   ]
  },
  {
   "cell_type": "code",
   "execution_count": null,
   "id": "8f2f318f",
   "metadata": {
    "papermill": {
     "duration": 0.002609,
     "end_time": "2023-10-17T23:41:25.971074",
     "exception": false,
     "start_time": "2023-10-17T23:41:25.968465",
     "status": "completed"
    },
    "tags": []
   },
   "outputs": [],
   "source": []
  }
 ],
 "metadata": {
  "kernelspec": {
   "display_name": "leeds-2023-YZF5GfJv",
   "language": "python",
   "name": "python3"
  },
  "language_info": {
   "codemirror_mode": {
    "name": "ipython",
    "version": 3
   },
   "file_extension": ".py",
   "mimetype": "text/x-python",
   "name": "python",
   "nbconvert_exporter": "python",
   "pygments_lexer": "ipython3",
   "version": "3.10.13"
  },
  "papermill": {
   "default_parameters": {},
   "duration": 13.198067,
   "end_time": "2023-10-17T23:41:26.291036",
   "environment_variables": {},
   "exception": null,
   "input_path": "prepare.ipynb",
   "output_path": "../../../../working/output/signature-prepare.ipynb",
   "parameters": {},
   "start_time": "2023-10-17T23:41:13.092969",
   "version": "2.4.0"
  }
 },
 "nbformat": 4,
 "nbformat_minor": 5
}