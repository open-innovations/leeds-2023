{
 "cells": [
  {
   "cell_type": "code",
   "execution_count": 1,
   "id": "9e629e02",
   "metadata": {
    "execution": {
     "iopub.execute_input": "2023-10-16T23:41:05.248035Z",
     "iopub.status.busy": "2023-10-16T23:41:05.247243Z",
     "iopub.status.idle": "2023-10-16T23:41:05.514196Z",
     "shell.execute_reply": "2023-10-16T23:41:05.513468Z"
    },
    "papermill": {
     "duration": 0.273524,
     "end_time": "2023-10-16T23:41:05.516653",
     "exception": false,
     "start_time": "2023-10-16T23:41:05.243129",
     "status": "completed"
    },
    "tags": []
   },
   "outputs": [],
   "source": [
    "import os\n",
    "import pandas as pd"
   ]
  },
  {
   "cell_type": "code",
   "execution_count": 2,
   "id": "4b726f67",
   "metadata": {
    "execution": {
     "iopub.execute_input": "2023-10-16T23:41:05.522486Z",
     "iopub.status.busy": "2023-10-16T23:41:05.521817Z",
     "iopub.status.idle": "2023-10-16T23:41:05.525546Z",
     "shell.execute_reply": "2023-10-16T23:41:05.524862Z"
    },
    "papermill": {
     "duration": 0.008001,
     "end_time": "2023-10-16T23:41:05.527015",
     "exception": false,
     "start_time": "2023-10-16T23:41:05.519014",
     "status": "completed"
    },
    "tags": []
   },
   "outputs": [],
   "source": [
    "DATA_DIR='../../../docs/metrics/events/promote/_data/'\n",
    "os.makedirs(DATA_DIR, exist_ok=True)"
   ]
  },
  {
   "cell_type": "code",
   "execution_count": 3,
   "id": "1de5e22e",
   "metadata": {
    "execution": {
     "iopub.execute_input": "2023-10-16T23:41:05.535996Z",
     "iopub.status.busy": "2023-10-16T23:41:05.535441Z",
     "iopub.status.idle": "2023-10-16T23:41:05.544656Z",
     "shell.execute_reply": "2023-10-16T23:41:05.544060Z"
    },
    "papermill": {
     "duration": 0.017351,
     "end_time": "2023-10-16T23:41:05.546210",
     "exception": false,
     "start_time": "2023-10-16T23:41:05.528859",
     "status": "completed"
    },
    "tags": []
   },
   "outputs": [],
   "source": [
    "data = pd.read_csv('../../../data/metrics/events/promote-events/events.csv', parse_dates=['time'])"
   ]
  },
  {
   "cell_type": "code",
   "execution_count": 4,
   "id": "df53c8e9",
   "metadata": {
    "execution": {
     "iopub.execute_input": "2023-10-16T23:41:05.551356Z",
     "iopub.status.busy": "2023-10-16T23:41:05.550910Z",
     "iopub.status.idle": "2023-10-16T23:41:05.557565Z",
     "shell.execute_reply": "2023-10-16T23:41:05.556937Z"
    },
    "papermill": {
     "duration": 0.011031,
     "end_time": "2023-10-16T23:41:05.559155",
     "exception": false,
     "start_time": "2023-10-16T23:41:05.548124",
     "status": "completed"
    },
    "tags": []
   },
   "outputs": [],
   "source": [
    "pd.Series({\n",
    "    'total_events': len(data.id.unique()),\n",
    "    'total_event_instances': len(data.time),\n",
    "    'earliest_event': data.time.min(),\n",
    "    'latest_event': data.time.max(),\n",
    "}).to_json(\n",
    "    os.path.join(DATA_DIR, 'headlines.json'),\n",
    "    date_format='iso', indent=2\n",
    ")"
   ]
  },
  {
   "cell_type": "code",
   "execution_count": 5,
   "id": "5b936a0d",
   "metadata": {
    "execution": {
     "iopub.execute_input": "2023-10-16T23:41:05.564308Z",
     "iopub.status.busy": "2023-10-16T23:41:05.563860Z",
     "iopub.status.idle": "2023-10-16T23:41:05.572170Z",
     "shell.execute_reply": "2023-10-16T23:41:05.571577Z"
    },
    "papermill": {
     "duration": 0.012704,
     "end_time": "2023-10-16T23:41:05.573765",
     "exception": false,
     "start_time": "2023-10-16T23:41:05.561061",
     "status": "completed"
    },
    "tags": []
   },
   "outputs": [],
   "source": [
    "events = pd.DataFrame({\n",
    "    'events': data.groupby('id').agg({ 'time': 'min' }).reset_index().groupby('time').id.count(),\n",
    "    'event_instances': data.groupby('time').id.count(),\n",
    "}).fillna(0).astype(int)"
   ]
  },
  {
   "cell_type": "code",
   "execution_count": 6,
   "id": "42d47250",
   "metadata": {
    "execution": {
     "iopub.execute_input": "2023-10-16T23:41:05.578871Z",
     "iopub.status.busy": "2023-10-16T23:41:05.578443Z",
     "iopub.status.idle": "2023-10-16T23:41:05.581968Z",
     "shell.execute_reply": "2023-10-16T23:41:05.581311Z"
    },
    "papermill": {
     "duration": 0.007772,
     "end_time": "2023-10-16T23:41:05.583443",
     "exception": false,
     "start_time": "2023-10-16T23:41:05.575671",
     "status": "completed"
    },
    "tags": []
   },
   "outputs": [],
   "source": [
    "def cumulate(data):\n",
    "    return pd.concat([\n",
    "        data,\n",
    "        data.cumsum().rename(columns=lambda c: f'cumulative_{c}')\n",
    "    ], axis=1)"
   ]
  },
  {
   "cell_type": "code",
   "execution_count": 7,
   "id": "a554c331",
   "metadata": {
    "execution": {
     "iopub.execute_input": "2023-10-16T23:41:05.588399Z",
     "iopub.status.busy": "2023-10-16T23:41:05.588182Z",
     "iopub.status.idle": "2023-10-16T23:41:05.598192Z",
     "shell.execute_reply": "2023-10-16T23:41:05.597578Z"
    },
    "papermill": {
     "duration": 0.014312,
     "end_time": "2023-10-16T23:41:05.599730",
     "exception": false,
     "start_time": "2023-10-16T23:41:05.585418",
     "status": "completed"
    },
    "tags": []
   },
   "outputs": [],
   "source": [
    "events.resample('W-FRI').sum().pipe(cumulate).to_csv(os.path.join(DATA_DIR, 'by_week.csv'))"
   ]
  },
  {
   "cell_type": "code",
   "execution_count": 8,
   "id": "07b1bbda",
   "metadata": {
    "execution": {
     "iopub.execute_input": "2023-10-16T23:41:05.605069Z",
     "iopub.status.busy": "2023-10-16T23:41:05.604648Z",
     "iopub.status.idle": "2023-10-16T23:41:05.610860Z",
     "shell.execute_reply": "2023-10-16T23:41:05.610200Z"
    },
    "papermill": {
     "duration": 0.010581,
     "end_time": "2023-10-16T23:41:05.612440",
     "exception": false,
     "start_time": "2023-10-16T23:41:05.601859",
     "status": "completed"
    },
    "tags": []
   },
   "outputs": [],
   "source": [
    "events.resample('MS').sum().pipe(cumulate).to_csv(os.path.join(DATA_DIR, 'by_month.csv'))"
   ]
  },
  {
   "cell_type": "code",
   "execution_count": null,
   "id": "90a98f0c",
   "metadata": {
    "papermill": {
     "duration": 0.001974,
     "end_time": "2023-10-16T23:41:05.616447",
     "exception": false,
     "start_time": "2023-10-16T23:41:05.614473",
     "status": "completed"
    },
    "tags": []
   },
   "outputs": [],
   "source": []
  }
 ],
 "metadata": {
  "kernelspec": {
   "display_name": "leeds-2023-YZF5GfJv",
   "language": "python",
   "name": "python3"
  },
  "language_info": {
   "codemirror_mode": {
    "name": "ipython",
    "version": 3
   },
   "file_extension": ".py",
   "mimetype": "text/x-python",
   "name": "python",
   "nbconvert_exporter": "python",
   "pygments_lexer": "ipython3",
   "version": "3.10.13"
  },
  "papermill": {
   "default_parameters": {},
   "duration": 1.977392,
   "end_time": "2023-10-16T23:41:05.836282",
   "environment_variables": {},
   "exception": null,
   "input_path": "prepare.ipynb",
   "output_path": "../../../working/output/promote-events-prepare.ipynb",
   "parameters": {},
   "start_time": "2023-10-16T23:41:03.858890",
   "version": "2.4.0"
  }
 },
 "nbformat": 4,
 "nbformat_minor": 5
}