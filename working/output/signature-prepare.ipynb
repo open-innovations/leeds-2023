{
 "cells": [
  {
   "cell_type": "code",
   "execution_count": 1,
   "id": "4d32b9ed",
   "metadata": {
    "execution": {
     "iopub.execute_input": "2023-09-23T23:38:55.897159Z",
     "iopub.status.busy": "2023-09-23T23:38:55.896582Z",
     "iopub.status.idle": "2023-09-23T23:39:05.614260Z",
     "shell.execute_reply": "2023-09-23T23:39:05.613589Z"
    },
    "papermill": {
     "duration": 9.723534,
     "end_time": "2023-09-23T23:39:05.616055",
     "exception": false,
     "start_time": "2023-09-23T23:38:55.892521",
     "status": "completed"
    },
    "tags": []
   },
   "outputs": [],
   "source": [
    "import os\n",
    "import pandas as pd\n",
    "from events import load_event_data, get_first_ward, normalise_ward"
   ]
  },
  {
   "cell_type": "code",
   "execution_count": 2,
   "id": "2b108e9c",
   "metadata": {
    "execution": {
     "iopub.execute_input": "2023-09-23T23:39:05.622509Z",
     "iopub.status.busy": "2023-09-23T23:39:05.621927Z",
     "iopub.status.idle": "2023-09-23T23:39:05.626834Z",
     "shell.execute_reply": "2023-09-23T23:39:05.626248Z"
    },
    "papermill": {
     "duration": 0.009631,
     "end_time": "2023-09-23T23:39:05.628303",
     "exception": false,
     "start_time": "2023-09-23T23:39:05.618672",
     "status": "completed"
    },
    "tags": []
   },
   "outputs": [],
   "source": [
    "latest_date = pd.Timestamp.today().ceil('D')"
   ]
  },
  {
   "cell_type": "code",
   "execution_count": 3,
   "id": "32cd5152",
   "metadata": {
    "execution": {
     "iopub.execute_input": "2023-09-23T23:39:05.633923Z",
     "iopub.status.busy": "2023-09-23T23:39:05.633509Z",
     "iopub.status.idle": "2023-09-23T23:39:05.651741Z",
     "shell.execute_reply": "2023-09-23T23:39:05.651154Z"
    },
    "papermill": {
     "duration": 0.022807,
     "end_time": "2023-09-23T23:39:05.653338",
     "exception": false,
     "start_time": "2023-09-23T23:39:05.630531",
     "status": "completed"
    },
    "tags": []
   },
   "outputs": [],
   "source": [
    "tickets = pd.read_csv('../../../../data/metrics/events/tickets/orders.csv', parse_dates=['created_at', 'event_date'])\n",
    "tickets = tickets[tickets.event_date <= latest_date]"
   ]
  },
  {
   "cell_type": "code",
   "execution_count": 4,
   "id": "3a024820",
   "metadata": {
    "execution": {
     "iopub.execute_input": "2023-09-23T23:39:05.659001Z",
     "iopub.status.busy": "2023-09-23T23:39:05.658572Z",
     "iopub.status.idle": "2023-09-23T23:39:05.882394Z",
     "shell.execute_reply": "2023-09-23T23:39:05.881743Z"
    },
    "papermill": {
     "duration": 0.2287,
     "end_time": "2023-09-23T23:39:05.884327",
     "exception": false,
     "start_time": "2023-09-23T23:39:05.655627",
     "status": "completed"
    },
    "tags": []
   },
   "outputs": [],
   "source": [
    "events = load_event_data()\n",
    "\n",
    "events = pd.concat([\n",
    "  events,\n",
    "  events.pipe(get_first_ward).pipe(normalise_ward).fillna('UNKNOWN'),\n",
    "  pd.Series(\n",
    "      events.actual_audience_size_number_of_participants_in_person + events.actual_audience_size_number_of_participants_online,\n",
    "      name='attendances'\n",
    "  )\n",
    "], axis=1).rename(columns={\n",
    "    'start_date': 'date'\n",
    "}).loc[:, ['ward_code', 'date', 'event_unique_identifier', 'attendances']]"
   ]
  },
  {
   "cell_type": "code",
   "execution_count": 5,
   "id": "9b01109d",
   "metadata": {
    "execution": {
     "iopub.execute_input": "2023-09-23T23:39:05.890691Z",
     "iopub.status.busy": "2023-09-23T23:39:05.890216Z",
     "iopub.status.idle": "2023-09-23T23:39:05.893748Z",
     "shell.execute_reply": "2023-09-23T23:39:05.893106Z"
    },
    "papermill": {
     "duration": 0.008379,
     "end_time": "2023-09-23T23:39:05.895322",
     "exception": false,
     "start_time": "2023-09-23T23:39:05.886943",
     "status": "completed"
    },
    "tags": []
   },
   "outputs": [],
   "source": [
    "OUTPUT_DIR='../../../../docs/metrics/events/signature/_data/'\n",
    "os.makedirs(OUTPUT_DIR, exist_ok=True)"
   ]
  },
  {
   "cell_type": "markdown",
   "id": "1e4ebe77",
   "metadata": {
    "papermill": {
     "duration": 0.002357,
     "end_time": "2023-09-23T23:39:05.899999",
     "exception": false,
     "start_time": "2023-09-23T23:39:05.897642",
     "status": "completed"
    },
    "tags": []
   },
   "source": [
    "Events CSVs"
   ]
  },
  {
   "cell_type": "code",
   "execution_count": 6,
   "id": "c936b1b5",
   "metadata": {
    "execution": {
     "iopub.execute_input": "2023-09-23T23:39:05.905546Z",
     "iopub.status.busy": "2023-09-23T23:39:05.905319Z",
     "iopub.status.idle": "2023-09-23T23:39:05.912025Z",
     "shell.execute_reply": "2023-09-23T23:39:05.911430Z"
    },
    "papermill": {
     "duration": 0.011193,
     "end_time": "2023-09-23T23:39:05.913501",
     "exception": false,
     "start_time": "2023-09-23T23:39:05.902308",
     "status": "completed"
    },
    "tags": []
   },
   "outputs": [],
   "source": [
    "pd.DataFrame({\n",
    "  'events': events.groupby('ward_code').event_unique_identifier.count(),\n",
    "  'attendances': events.groupby('ward_code').attendances.sum().astype(int),\n",
    "}).to_csv(os.path.join(OUTPUT_DIR, 'events_by_ward.csv'))\n"
   ]
  },
  {
   "cell_type": "code",
   "execution_count": 7,
   "id": "a850bfe7",
   "metadata": {
    "execution": {
     "iopub.execute_input": "2023-09-23T23:39:05.919329Z",
     "iopub.status.busy": "2023-09-23T23:39:05.918926Z",
     "iopub.status.idle": "2023-09-23T23:39:05.929158Z",
     "shell.execute_reply": "2023-09-23T23:39:05.928572Z"
    },
    "papermill": {
     "duration": 0.014856,
     "end_time": "2023-09-23T23:39:05.930771",
     "exception": false,
     "start_time": "2023-09-23T23:39:05.915915",
     "status": "completed"
    },
    "tags": []
   },
   "outputs": [],
   "source": [
    "pd.DataFrame({\n",
    "  'events': events.groupby('date').event_unique_identifier.count(),\n",
    "  'attendances': events.groupby('date').attendances.sum().astype(int),\n",
    "}).resample('M').sum().astype(int).to_csv(os.path.join(OUTPUT_DIR, 'events_by_date.csv'))"
   ]
  },
  {
   "cell_type": "markdown",
   "id": "484e606f",
   "metadata": {
    "papermill": {
     "duration": 0.002422,
     "end_time": "2023-09-23T23:39:05.935646",
     "exception": false,
     "start_time": "2023-09-23T23:39:05.933224",
     "status": "completed"
    },
    "tags": []
   },
   "source": [
    "Tickets CSV"
   ]
  },
  {
   "cell_type": "code",
   "execution_count": 8,
   "id": "d97143cf",
   "metadata": {
    "execution": {
     "iopub.execute_input": "2023-09-23T23:39:05.941556Z",
     "iopub.status.busy": "2023-09-23T23:39:05.941132Z",
     "iopub.status.idle": "2023-09-23T23:39:05.948074Z",
     "shell.execute_reply": "2023-09-23T23:39:05.947424Z"
    },
    "papermill": {
     "duration": 0.011552,
     "end_time": "2023-09-23T23:39:05.949540",
     "exception": false,
     "start_time": "2023-09-23T23:39:05.937988",
     "status": "completed"
    },
    "tags": []
   },
   "outputs": [],
   "source": [
    "pd.DataFrame({\n",
    "  'orders': tickets.groupby('ward_code').number_of_tickets.count(),\n",
    "  'tickets': tickets.groupby('ward_code').number_of_tickets.sum().astype(int),\n",
    "}).to_csv(os.path.join(OUTPUT_DIR, 'tickets_by_ward.csv'))"
   ]
  },
  {
   "cell_type": "code",
   "execution_count": 9,
   "id": "63f03c35",
   "metadata": {
    "execution": {
     "iopub.execute_input": "2023-09-23T23:39:05.955467Z",
     "iopub.status.busy": "2023-09-23T23:39:05.955250Z",
     "iopub.status.idle": "2023-09-23T23:39:05.963027Z",
     "shell.execute_reply": "2023-09-23T23:39:05.962425Z"
    },
    "papermill": {
     "duration": 0.012579,
     "end_time": "2023-09-23T23:39:05.964581",
     "exception": false,
     "start_time": "2023-09-23T23:39:05.952002",
     "status": "completed"
    },
    "tags": []
   },
   "outputs": [],
   "source": [
    "pd.DataFrame({\n",
    "  'orders': tickets.groupby('event_date').number_of_tickets.count(),\n",
    "  'tickets': tickets.groupby('event_date').number_of_tickets.sum().astype(int),\n",
    "}).resample('M').sum().to_csv(os.path.join(OUTPUT_DIR, 'tickets_by_event_date.csv'))"
   ]
  },
  {
   "cell_type": "code",
   "execution_count": 10,
   "id": "08072f29",
   "metadata": {
    "execution": {
     "iopub.execute_input": "2023-09-23T23:39:05.971573Z",
     "iopub.status.busy": "2023-09-23T23:39:05.971041Z",
     "iopub.status.idle": "2023-09-23T23:39:05.976227Z",
     "shell.execute_reply": "2023-09-23T23:39:05.975587Z"
    },
    "papermill": {
     "duration": 0.010567,
     "end_time": "2023-09-23T23:39:05.977619",
     "exception": false,
     "start_time": "2023-09-23T23:39:05.967052",
     "status": "completed"
    },
    "tags": []
   },
   "outputs": [],
   "source": [
    "pd.Series({\n",
    "    'total_events': events.event_unique_identifier.count(),\n",
    "    'total_attendances': events.attendances.count(),\n",
    "    'first_event': events.date.min(),\n",
    "    'latest_event': events.date.max(),\n",
    "    'total_ticket_orders_for_events_to_date': tickets.number_of_tickets.count(),\n",
    "    'total_tickets_sold_for_events_to_date': tickets.number_of_tickets.sum(),\n",
    "}).to_json(os.path.join(OUTPUT_DIR, 'headlines.json'), indent=2)"
   ]
  },
  {
   "cell_type": "code",
   "execution_count": null,
   "id": "f9777249",
   "metadata": {
    "papermill": {
     "duration": 0.00246,
     "end_time": "2023-09-23T23:39:05.982606",
     "exception": false,
     "start_time": "2023-09-23T23:39:05.980146",
     "status": "completed"
    },
    "tags": []
   },
   "outputs": [],
   "source": []
  }
 ],
 "metadata": {
  "kernelspec": {
   "display_name": "leeds-2023-YZF5GfJv",
   "language": "python",
   "name": "python3"
  },
  "language_info": {
   "codemirror_mode": {
    "name": "ipython",
    "version": 3
   },
   "file_extension": ".py",
   "mimetype": "text/x-python",
   "name": "python",
   "nbconvert_exporter": "python",
   "pygments_lexer": "ipython3",
   "version": "3.10.13"
  },
  "papermill": {
   "default_parameters": {},
   "duration": 11.758942,
   "end_time": "2023-09-23T23:39:06.303142",
   "environment_variables": {},
   "exception": null,
   "input_path": "prepare.ipynb",
   "output_path": "../../../../working/output/signature-prepare.ipynb",
   "parameters": {},
   "start_time": "2023-09-23T23:38:54.544200",
   "version": "2.4.0"
  }
 },
 "nbformat": 4,
 "nbformat_minor": 5
}