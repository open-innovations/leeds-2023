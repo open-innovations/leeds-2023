{
 "cells": [
  {
   "cell_type": "code",
   "execution_count": 1,
   "id": "c96a1d08",
   "metadata": {
    "execution": {
     "iopub.execute_input": "2023-10-10T11:23:07.172706Z",
     "iopub.status.busy": "2023-10-10T11:23:07.172445Z",
     "iopub.status.idle": "2023-10-10T11:23:11.988309Z",
     "shell.execute_reply": "2023-10-10T11:23:11.987852Z"
    },
    "papermill": {
     "duration": 4.822207,
     "end_time": "2023-10-10T11:23:11.989355",
     "exception": false,
     "start_time": "2023-10-10T11:23:07.167148",
     "status": "completed"
    },
    "tags": []
   },
   "outputs": [],
   "source": [
    "import os\n",
    "import pandas as pd\n",
    "from events import load_event_data, get_first_ward, normalise_ward"
   ]
  },
  {
   "cell_type": "code",
   "execution_count": 2,
   "id": "8369093f",
   "metadata": {
    "execution": {
     "iopub.execute_input": "2023-10-10T11:23:11.992406Z",
     "iopub.status.busy": "2023-10-10T11:23:11.992249Z",
     "iopub.status.idle": "2023-10-10T11:23:11.994535Z",
     "shell.execute_reply": "2023-10-10T11:23:11.994249Z"
    },
    "papermill": {
     "duration": 0.004519,
     "end_time": "2023-10-10T11:23:11.995187",
     "exception": false,
     "start_time": "2023-10-10T11:23:11.990668",
     "status": "completed"
    },
    "tags": []
   },
   "outputs": [],
   "source": [
    "latest_date = pd.Timestamp.today().ceil('D')"
   ]
  },
  {
   "cell_type": "code",
   "execution_count": 3,
   "id": "23145c0b",
   "metadata": {
    "execution": {
     "iopub.execute_input": "2023-10-10T11:23:11.997877Z",
     "iopub.status.busy": "2023-10-10T11:23:11.997759Z",
     "iopub.status.idle": "2023-10-10T11:23:12.007596Z",
     "shell.execute_reply": "2023-10-10T11:23:12.007261Z"
    },
    "papermill": {
     "duration": 0.012027,
     "end_time": "2023-10-10T11:23:12.008310",
     "exception": false,
     "start_time": "2023-10-10T11:23:11.996283",
     "status": "completed"
    },
    "tags": []
   },
   "outputs": [],
   "source": [
    "tickets = pd.read_csv('../../../../data/metrics/events/tickets/orders.csv', parse_dates=['created_at', 'event_date'])\n",
    "tickets = tickets[tickets.event_date <= latest_date]"
   ]
  },
  {
   "cell_type": "code",
   "execution_count": 4,
   "id": "be9aff0d",
   "metadata": {
    "execution": {
     "iopub.execute_input": "2023-10-10T11:23:12.010999Z",
     "iopub.status.busy": "2023-10-10T11:23:12.010852Z",
     "iopub.status.idle": "2023-10-10T11:23:12.107872Z",
     "shell.execute_reply": "2023-10-10T11:23:12.107416Z"
    },
    "papermill": {
     "duration": 0.099465,
     "end_time": "2023-10-10T11:23:12.108907",
     "exception": false,
     "start_time": "2023-10-10T11:23:12.009442",
     "status": "completed"
    },
    "tags": []
   },
   "outputs": [],
   "source": [
    "events = load_event_data()\n",
    "\n",
    "events = pd.concat([\n",
    "  events,\n",
    "  events.pipe(get_first_ward).pipe(normalise_ward).fillna('UNKNOWN'),\n",
    "  pd.Series(\n",
    "      events.actual_audience_size_number_of_participants_in_person + events.actual_audience_size_number_of_participants_online,\n",
    "      name='attendances'\n",
    "  )\n",
    "], axis=1).rename(columns={\n",
    "    'start_date': 'date'\n",
    "}).loc[:, ['ward_code', 'date', 'event_unique_identifier', 'attendances']]"
   ]
  },
  {
   "cell_type": "code",
   "execution_count": 5,
   "id": "e4593f1d",
   "metadata": {
    "execution": {
     "iopub.execute_input": "2023-10-10T11:23:12.111988Z",
     "iopub.status.busy": "2023-10-10T11:23:12.111855Z",
     "iopub.status.idle": "2023-10-10T11:23:12.113949Z",
     "shell.execute_reply": "2023-10-10T11:23:12.113643Z"
    },
    "papermill": {
     "duration": 0.004539,
     "end_time": "2023-10-10T11:23:12.114756",
     "exception": false,
     "start_time": "2023-10-10T11:23:12.110217",
     "status": "completed"
    },
    "tags": []
   },
   "outputs": [],
   "source": [
    "OUTPUT_DIR='../../../../docs/metrics/events/signature/_data/'\n",
    "os.makedirs(OUTPUT_DIR, exist_ok=True)"
   ]
  },
  {
   "cell_type": "markdown",
   "id": "abf92b2c",
   "metadata": {
    "papermill": {
     "duration": 0.001081,
     "end_time": "2023-10-10T11:23:12.116914",
     "exception": false,
     "start_time": "2023-10-10T11:23:12.115833",
     "status": "completed"
    },
    "tags": []
   },
   "source": [
    "Events CSVs"
   ]
  },
  {
   "cell_type": "code",
   "execution_count": 6,
   "id": "c09ff1a7",
   "metadata": {
    "execution": {
     "iopub.execute_input": "2023-10-10T11:23:12.119498Z",
     "iopub.status.busy": "2023-10-10T11:23:12.119354Z",
     "iopub.status.idle": "2023-10-10T11:23:12.123213Z",
     "shell.execute_reply": "2023-10-10T11:23:12.122918Z"
    },
    "papermill": {
     "duration": 0.005884,
     "end_time": "2023-10-10T11:23:12.123843",
     "exception": false,
     "start_time": "2023-10-10T11:23:12.117959",
     "status": "completed"
    },
    "tags": []
   },
   "outputs": [],
   "source": [
    "pd.DataFrame({\n",
    "  'events': events.groupby('ward_code').event_unique_identifier.count(),\n",
    "  'attendances': events.groupby('ward_code').attendances.sum().astype(int),\n",
    "}).to_csv(os.path.join(OUTPUT_DIR, 'events_by_ward.csv'))\n"
   ]
  },
  {
   "cell_type": "code",
   "execution_count": 7,
   "id": "df747415",
   "metadata": {
    "execution": {
     "iopub.execute_input": "2023-10-10T11:23:12.126518Z",
     "iopub.status.busy": "2023-10-10T11:23:12.126379Z",
     "iopub.status.idle": "2023-10-10T11:23:12.132040Z",
     "shell.execute_reply": "2023-10-10T11:23:12.131718Z"
    },
    "papermill": {
     "duration": 0.007712,
     "end_time": "2023-10-10T11:23:12.132689",
     "exception": false,
     "start_time": "2023-10-10T11:23:12.124977",
     "status": "completed"
    },
    "tags": []
   },
   "outputs": [],
   "source": [
    "pd.DataFrame({\n",
    "  'events': events.groupby('date').event_unique_identifier.count(),\n",
    "  'attendances': events.groupby('date').attendances.sum().astype(int),\n",
    "}).resample('M').sum().astype(int).to_csv(os.path.join(OUTPUT_DIR, 'events_by_date.csv'))"
   ]
  },
  {
   "cell_type": "markdown",
   "id": "efca7abf",
   "metadata": {
    "papermill": {
     "duration": 0.001092,
     "end_time": "2023-10-10T11:23:12.134931",
     "exception": false,
     "start_time": "2023-10-10T11:23:12.133839",
     "status": "completed"
    },
    "tags": []
   },
   "source": [
    "Tickets CSV"
   ]
  },
  {
   "cell_type": "code",
   "execution_count": 8,
   "id": "257c88ab",
   "metadata": {
    "execution": {
     "iopub.execute_input": "2023-10-10T11:23:12.137523Z",
     "iopub.status.busy": "2023-10-10T11:23:12.137386Z",
     "iopub.status.idle": "2023-10-10T11:23:12.141114Z",
     "shell.execute_reply": "2023-10-10T11:23:12.140842Z"
    },
    "papermill": {
     "duration": 0.005752,
     "end_time": "2023-10-10T11:23:12.141738",
     "exception": false,
     "start_time": "2023-10-10T11:23:12.135986",
     "status": "completed"
    },
    "tags": []
   },
   "outputs": [],
   "source": [
    "pd.DataFrame({\n",
    "  'orders': tickets.groupby('ward_code').number_of_tickets.count(),\n",
    "  'tickets': tickets.groupby('ward_code').number_of_tickets.sum().astype(int),\n",
    "}).to_csv(os.path.join(OUTPUT_DIR, 'tickets_by_ward.csv'))"
   ]
  },
  {
   "cell_type": "code",
   "execution_count": 9,
   "id": "5fbfc611",
   "metadata": {
    "execution": {
     "iopub.execute_input": "2023-10-10T11:23:12.144393Z",
     "iopub.status.busy": "2023-10-10T11:23:12.144262Z",
     "iopub.status.idle": "2023-10-10T11:23:12.148617Z",
     "shell.execute_reply": "2023-10-10T11:23:12.148303Z"
    },
    "papermill": {
     "duration": 0.006381,
     "end_time": "2023-10-10T11:23:12.149240",
     "exception": false,
     "start_time": "2023-10-10T11:23:12.142859",
     "status": "completed"
    },
    "tags": []
   },
   "outputs": [],
   "source": [
    "pd.DataFrame({\n",
    "  'orders': tickets.groupby('event_date').number_of_tickets.count(),\n",
    "  'tickets': tickets.groupby('event_date').number_of_tickets.sum().astype(int),\n",
    "}).resample('M').sum().to_csv(os.path.join(OUTPUT_DIR, 'tickets_by_event_date.csv'))"
   ]
  },
  {
   "cell_type": "code",
   "execution_count": 10,
   "id": "e804628c",
   "metadata": {
    "execution": {
     "iopub.execute_input": "2023-10-10T11:23:12.151992Z",
     "iopub.status.busy": "2023-10-10T11:23:12.151861Z",
     "iopub.status.idle": "2023-10-10T11:23:12.154727Z",
     "shell.execute_reply": "2023-10-10T11:23:12.154416Z"
    },
    "papermill": {
     "duration": 0.004954,
     "end_time": "2023-10-10T11:23:12.155335",
     "exception": false,
     "start_time": "2023-10-10T11:23:12.150381",
     "status": "completed"
    },
    "tags": []
   },
   "outputs": [],
   "source": [
    "pd.Series({\n",
    "    'total_events': events.event_unique_identifier.count(),\n",
    "    'total_attendances': events.attendances.count(),\n",
    "    'first_event': events.date.min(),\n",
    "    'latest_event': events.date.max(),\n",
    "    'total_ticket_orders_for_events_to_date': tickets.number_of_tickets.count(),\n",
    "    'total_tickets_sold_for_events_to_date': tickets.number_of_tickets.sum(),\n",
    "}).to_json(os.path.join(OUTPUT_DIR, 'headlines.json'), indent=2)"
   ]
  },
  {
   "cell_type": "code",
   "execution_count": null,
   "id": "d4ffe5ee",
   "metadata": {
    "papermill": {
     "duration": 0.001073,
     "end_time": "2023-10-10T11:23:12.157543",
     "exception": false,
     "start_time": "2023-10-10T11:23:12.156470",
     "status": "completed"
    },
    "tags": []
   },
   "outputs": [],
   "source": []
  }
 ],
 "metadata": {
  "kernelspec": {
   "display_name": "leeds-2023-YZF5GfJv",
   "language": "python",
   "name": "python3"
  },
  "language_info": {
   "codemirror_mode": {
    "name": "ipython",
    "version": 3
   },
   "file_extension": ".py",
   "mimetype": "text/x-python",
   "name": "python",
   "nbconvert_exporter": "python",
   "pygments_lexer": "ipython3",
   "version": "3.10.12"
  },
  "papermill": {
   "default_parameters": {},
   "duration": 5.924902,
   "end_time": "2023-10-10T11:23:12.374622",
   "environment_variables": {},
   "exception": null,
   "input_path": "prepare.ipynb",
   "output_path": "../../../../working/output/signature-prepare.ipynb",
   "parameters": {},
   "start_time": "2023-10-10T11:23:06.449720",
   "version": "2.4.0"
  }
 },
 "nbformat": 4,
 "nbformat_minor": 5
}