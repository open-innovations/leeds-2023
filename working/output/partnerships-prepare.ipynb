{
 "cells": [
  {
   "cell_type": "code",
   "execution_count": 1,
   "id": "2bb8ee21",
   "metadata": {
    "execution": {
     "iopub.execute_input": "2024-01-23T11:55:24.973630Z",
     "iopub.status.busy": "2024-01-23T11:55:24.973393Z",
     "iopub.status.idle": "2024-01-23T11:55:25.173839Z",
     "shell.execute_reply": "2024-01-23T11:55:25.173435Z"
    },
    "papermill": {
     "duration": 0.205502,
     "end_time": "2024-01-23T11:55:25.175191",
     "exception": false,
     "start_time": "2024-01-23T11:55:24.969689",
     "status": "completed"
    },
    "tags": []
   },
   "outputs": [],
   "source": [
    "import ast\n",
    "import os\n",
    "import sys\n",
    "from pathlib import Path\n",
    "\n",
    "import pandas as pd"
   ]
  },
  {
   "cell_type": "code",
   "execution_count": 2,
   "id": "8ad10ebd",
   "metadata": {
    "execution": {
     "iopub.execute_input": "2024-01-23T11:55:25.181115Z",
     "iopub.status.busy": "2024-01-23T11:55:25.180892Z",
     "iopub.status.idle": "2024-01-23T11:55:25.183287Z",
     "shell.execute_reply": "2024-01-23T11:55:25.182941Z"
    },
    "papermill": {
     "duration": 0.006203,
     "end_time": "2024-01-23T11:55:25.183976",
     "exception": false,
     "start_time": "2024-01-23T11:55:25.177773",
     "status": "completed"
    },
    "tags": []
   },
   "outputs": [],
   "source": [
    "TOP_DIR = Path('../../../').resolve()\n",
    "if str(TOP_DIR) not in sys.path: sys.path.append(str(TOP_DIR))"
   ]
  },
  {
   "cell_type": "code",
   "execution_count": 3,
   "id": "3d45c6c7",
   "metadata": {
    "execution": {
     "iopub.execute_input": "2024-01-23T11:55:25.187665Z",
     "iopub.status.busy": "2024-01-23T11:55:25.187534Z",
     "iopub.status.idle": "2024-01-23T11:55:25.189883Z",
     "shell.execute_reply": "2024-01-23T11:55:25.189568Z"
    },
    "papermill": {
     "duration": 0.00502,
     "end_time": "2024-01-23T11:55:25.190588",
     "exception": false,
     "start_time": "2024-01-23T11:55:25.185568",
     "status": "completed"
    },
    "tags": []
   },
   "outputs": [],
   "source": [
    "MAIN_DATA_DIR = TOP_DIR.joinpath('data/metrics/partnerships')\n",
    "PARTNERSHIPS_DATA = MAIN_DATA_DIR.joinpath('partnerships.csv')\n",
    "\n",
    "SITE_DATA_DIR = TOP_DIR.joinpath('docs/metrics/partnerships/_data')\n",
    "SITE_DATA_DIR.mkdir(parents=True, exist_ok=True)"
   ]
  },
  {
   "cell_type": "code",
   "execution_count": 4,
   "id": "8d79153e",
   "metadata": {
    "execution": {
     "iopub.execute_input": "2024-01-23T11:55:25.196044Z",
     "iopub.status.busy": "2024-01-23T11:55:25.195901Z",
     "iopub.status.idle": "2024-01-23T11:55:25.202288Z",
     "shell.execute_reply": "2024-01-23T11:55:25.201952Z"
    },
    "papermill": {
     "duration": 0.010215,
     "end_time": "2024-01-23T11:55:25.203164",
     "exception": false,
     "start_time": "2024-01-23T11:55:25.192949",
     "status": "completed"
    },
    "tags": []
   },
   "outputs": [],
   "source": [
    "partnerships_data = pd.read_csv(PARTNERSHIPS_DATA, parse_dates=['start_date'])\n",
    "partnerships_data.list_of_countries_involved = partnerships_data.list_of_countries_involved.fillna('[]').apply(ast.literal_eval)"
   ]
  },
  {
   "cell_type": "markdown",
   "id": "cdef5983",
   "metadata": {
    "papermill": {
     "duration": 0.001637,
     "end_time": "2024-01-23T11:55:25.206580",
     "exception": false,
     "start_time": "2024-01-23T11:55:25.204943",
     "status": "completed"
    },
    "tags": []
   },
   "source": [
    "Summarise"
   ]
  },
  {
   "cell_type": "markdown",
   "id": "a093deda",
   "metadata": {
    "papermill": {
     "duration": 0.001526,
     "end_time": "2024-01-23T11:55:25.209624",
     "exception": false,
     "start_time": "2024-01-23T11:55:25.208098",
     "status": "completed"
    },
    "tags": []
   },
   "source": [
    "Country code reference created with `jq`\n",
    "\n",
    "```sh\n",
    "jq '[.features[].properties]' docs/_data/geojson/world.geojson > data/reference/country_codes.json\n",
    "```"
   ]
  },
  {
   "cell_type": "code",
   "execution_count": 5,
   "id": "66b9b19e",
   "metadata": {
    "execution": {
     "iopub.execute_input": "2024-01-23T11:55:25.214933Z",
     "iopub.status.busy": "2024-01-23T11:55:25.214721Z",
     "iopub.status.idle": "2024-01-23T11:55:25.238974Z",
     "shell.execute_reply": "2024-01-23T11:55:25.238617Z"
    },
    "papermill": {
     "duration": 0.028175,
     "end_time": "2024-01-23T11:55:25.239992",
     "exception": false,
     "start_time": "2024-01-23T11:55:25.211817",
     "status": "completed"
    },
    "tags": []
   },
   "outputs": [],
   "source": [
    "country_codes = pd.read_json(\n",
    "    TOP_DIR.joinpath('data/reference/country_codes.json')\n",
    ").loc[:, ['ADM0_A3', 'NAME_LONG']].set_index('NAME_LONG')"
   ]
  },
  {
   "cell_type": "code",
   "execution_count": 6,
   "id": "3f65800b",
   "metadata": {
    "execution": {
     "iopub.execute_input": "2024-01-23T11:55:25.244682Z",
     "iopub.status.busy": "2024-01-23T11:55:25.244468Z",
     "iopub.status.idle": "2024-01-23T11:55:25.247849Z",
     "shell.execute_reply": "2024-01-23T11:55:25.247514Z"
    },
    "papermill": {
     "duration": 0.007009,
     "end_time": "2024-01-23T11:55:25.248691",
     "exception": false,
     "start_time": "2024-01-23T11:55:25.241682",
     "status": "completed"
    },
    "tags": []
   },
   "outputs": [],
   "source": [
    "countries_data = partnerships_data.rename(\n",
    "    columns={'list_of_countries_involved':'countries'}\n",
    ").countries.explode().value_counts().to_frame('number_of_partners').sort_index()"
   ]
  },
  {
   "cell_type": "code",
   "execution_count": 7,
   "id": "c45c96d8",
   "metadata": {
    "execution": {
     "iopub.execute_input": "2024-01-23T11:55:25.254283Z",
     "iopub.status.busy": "2024-01-23T11:55:25.254090Z",
     "iopub.status.idle": "2024-01-23T11:55:25.258377Z",
     "shell.execute_reply": "2024-01-23T11:55:25.258055Z"
    },
    "papermill": {
     "duration": 0.007979,
     "end_time": "2024-01-23T11:55:25.259136",
     "exception": false,
     "start_time": "2024-01-23T11:55:25.251157",
     "status": "completed"
    },
    "tags": []
   },
   "outputs": [],
   "source": [
    "combined = pd.merge(\n",
    "  left=countries_data,\n",
    "  right=country_codes,\n",
    "  left_on='countries',\n",
    "  right_index=True,\n",
    "  how='left',\n",
    ").fillna('')\n",
    "combined.to_csv(\n",
    "  SITE_DATA_DIR.joinpath('countries.csv')\n",
    ")"
   ]
  },
  {
   "cell_type": "code",
   "execution_count": 8,
   "id": "57ff0587",
   "metadata": {
    "execution": {
     "iopub.execute_input": "2024-01-23T11:55:25.263371Z",
     "iopub.status.busy": "2024-01-23T11:55:25.263141Z",
     "iopub.status.idle": "2024-01-23T11:55:25.267676Z",
     "shell.execute_reply": "2024-01-23T11:55:25.267279Z"
    },
    "papermill": {
     "duration": 0.007651,
     "end_time": "2024-01-23T11:55:25.268505",
     "exception": false,
     "start_time": "2024-01-23T11:55:25.260854",
     "status": "completed"
    },
    "tags": []
   },
   "outputs": [],
   "source": [
    "pd.Series({\n",
    "    'total_partnerships': len(partnerships_data),\n",
    "    'total_international': partnerships_data.international_element_to_project_.count(),\n",
    "    'total_unique_countries': len(countries_data),\n",
    "    'total_events': partnerships_data.total_number_of_events.sum(),\n",
    "    'total_audience': partnerships_data.audience_numbers.sum(),\n",
    "    'total_digital_audience': partnerships_data.digital_audiences.sum(),\n",
    "    'total_participants': partnerships_data.number_of_participants.sum(),\n",
    "    'total_in_person_events': partnerships_data['online_in_person_both'].value_counts()['In person'],\n",
    "    'both_online_in_person_events': partnerships_data['online_in_person_both'].value_counts()['Both'],\n",
    "    'online_only_events': partnerships_data['online_in_person_both'].value_counts()['Online']\n",
    "}).astype(int).to_json(\n",
    "    os.path.join(SITE_DATA_DIR, 'headlines.json'),\n",
    "    date_format='iso', indent=2\n",
    ")"
   ]
  },
  {
   "cell_type": "markdown",
   "id": "f7c80da0",
   "metadata": {
    "papermill": {
     "duration": 0.001627,
     "end_time": "2024-01-23T11:55:25.271850",
     "exception": false,
     "start_time": "2024-01-23T11:55:25.270223",
     "status": "completed"
    },
    "tags": []
   },
   "source": [
    "Summarise by ward"
   ]
  },
  {
   "cell_type": "code",
   "execution_count": 9,
   "id": "050d0043",
   "metadata": {
    "execution": {
     "iopub.execute_input": "2024-01-23T11:55:25.275968Z",
     "iopub.status.busy": "2024-01-23T11:55:25.275754Z",
     "iopub.status.idle": "2024-01-23T11:55:25.280179Z",
     "shell.execute_reply": "2024-01-23T11:55:25.279827Z"
    },
    "papermill": {
     "duration": 0.0075,
     "end_time": "2024-01-23T11:55:25.280930",
     "exception": false,
     "start_time": "2024-01-23T11:55:25.273430",
     "status": "completed"
    },
    "tags": []
   },
   "outputs": [],
   "source": [
    "partnerships_data.fillna('UNKNOWN').groupby('partner_venue_ward_code').partner_organisation.count().to_csv(os.path.join(SITE_DATA_DIR, 'partnerships_by_ward.csv'))"
   ]
  },
  {
   "cell_type": "markdown",
   "id": "adc92560",
   "metadata": {
    "papermill": {
     "duration": 0.001629,
     "end_time": "2024-01-23T11:55:25.284405",
     "exception": false,
     "start_time": "2024-01-23T11:55:25.282776",
     "status": "completed"
    },
    "tags": []
   },
   "source": [
    "Summarise by month"
   ]
  },
  {
   "cell_type": "code",
   "execution_count": 10,
   "id": "4b49a03d",
   "metadata": {
    "execution": {
     "iopub.execute_input": "2024-01-23T11:55:25.288316Z",
     "iopub.status.busy": "2024-01-23T11:55:25.288120Z",
     "iopub.status.idle": "2024-01-23T11:55:25.293098Z",
     "shell.execute_reply": "2024-01-23T11:55:25.292695Z"
    },
    "papermill": {
     "duration": 0.008196,
     "end_time": "2024-01-23T11:55:25.294151",
     "exception": false,
     "start_time": "2024-01-23T11:55:25.285955",
     "status": "completed"
    },
    "tags": []
   },
   "outputs": [],
   "source": [
    "partnerships_data.groupby('start_date').partner_organisation.count().resample('MS').sum().cumsum().to_csv(os.path.join(SITE_DATA_DIR, 'partnerships_by_month.csv'))"
   ]
  },
  {
   "cell_type": "markdown",
   "id": "30927782",
   "metadata": {
    "papermill": {
     "duration": 0.002451,
     "end_time": "2024-01-23T11:55:25.299186",
     "exception": false,
     "start_time": "2024-01-23T11:55:25.296735",
     "status": "completed"
    },
    "tags": []
   },
   "source": [
    "Event type"
   ]
  },
  {
   "cell_type": "code",
   "execution_count": 11,
   "id": "c945605b",
   "metadata": {
    "execution": {
     "iopub.execute_input": "2024-01-23T11:55:25.304399Z",
     "iopub.status.busy": "2024-01-23T11:55:25.304143Z",
     "iopub.status.idle": "2024-01-23T11:55:25.308658Z",
     "shell.execute_reply": "2024-01-23T11:55:25.308266Z"
    },
    "papermill": {
     "duration": 0.008161,
     "end_time": "2024-01-23T11:55:25.309571",
     "exception": false,
     "start_time": "2024-01-23T11:55:25.301410",
     "status": "completed"
    },
    "tags": []
   },
   "outputs": [],
   "source": [
    "event_type = pd.DataFrame({\n",
    "    'event_type': partnerships_data.groupby('online_in_person_both').partner_organisation.count()\n",
    "}).reset_index().to_csv(os.path.join(SITE_DATA_DIR, 'event_type.csv'), index=False)"
   ]
  },
  {
   "cell_type": "markdown",
   "id": "3acd384e",
   "metadata": {
    "papermill": {
     "duration": 0.001736,
     "end_time": "2024-01-23T11:55:25.313078",
     "exception": false,
     "start_time": "2024-01-23T11:55:25.311342",
     "status": "completed"
    },
    "tags": []
   },
   "source": [
    "Project Artform"
   ]
  },
  {
   "cell_type": "code",
   "execution_count": 12,
   "id": "71b449e3",
   "metadata": {
    "execution": {
     "iopub.execute_input": "2024-01-23T11:55:25.317287Z",
     "iopub.status.busy": "2024-01-23T11:55:25.317022Z",
     "iopub.status.idle": "2024-01-23T11:55:25.322421Z",
     "shell.execute_reply": "2024-01-23T11:55:25.322023Z"
    },
    "papermill": {
     "duration": 0.008686,
     "end_time": "2024-01-23T11:55:25.323366",
     "exception": false,
     "start_time": "2024-01-23T11:55:25.314680",
     "status": "completed"
    },
    "tags": []
   },
   "outputs": [],
   "source": [
    "artform = pd.DataFrame({\n",
    "    'number_of_partners': partnerships_data.groupby('project_artform').partner_organisation.count()\n",
    "}).T.rename(columns={\n",
    "    'Combined arts': 'combined_arts',\n",
    "    'Dance': 'dance',\n",
    "    'Literature': 'literature',\n",
    "    'Music': 'music',\n",
    "    'Theatre': 'theatre',\n",
    "    'Visual art': 'visual_art'\n",
    "}).reset_index().to_csv(os.path.join(SITE_DATA_DIR, 'artforms.csv'), index=False)"
   ]
  },
  {
   "cell_type": "markdown",
   "id": "c42e001a",
   "metadata": {
    "papermill": {
     "duration": 0.002187,
     "end_time": "2024-01-23T11:55:25.328044",
     "exception": false,
     "start_time": "2024-01-23T11:55:25.325857",
     "status": "completed"
    },
    "tags": []
   },
   "source": [
    "## Project outputs"
   ]
  },
  {
   "cell_type": "markdown",
   "id": "2410b515",
   "metadata": {
    "papermill": {
     "duration": 0.00172,
     "end_time": "2024-01-23T11:55:25.331435",
     "exception": false,
     "start_time": "2024-01-23T11:55:25.329715",
     "status": "completed"
    },
    "tags": []
   },
   "source": [
    "Clean up the Project Outputs column"
   ]
  },
  {
   "cell_type": "code",
   "execution_count": 13,
   "id": "5ee0b79c",
   "metadata": {
    "execution": {
     "iopub.execute_input": "2024-01-23T11:55:25.335728Z",
     "iopub.status.busy": "2024-01-23T11:55:25.335475Z",
     "iopub.status.idle": "2024-01-23T11:55:25.341027Z",
     "shell.execute_reply": "2024-01-23T11:55:25.340707Z"
    },
    "papermill": {
     "duration": 0.008657,
     "end_time": "2024-01-23T11:55:25.341745",
     "exception": false,
     "start_time": "2024-01-23T11:55:25.333088",
     "status": "completed"
    },
    "tags": []
   },
   "outputs": [],
   "source": [
    "outputs = partnerships_data.project_output\n",
    "outputs = partnerships_data.project_output.str.split(',').explode().str.replace(\"'\", '').str.strip(\"[,] \")\n",
    "outputs = outputs.value_counts().to_frame().T\n",
    "outputs = outputs.drop(columns = {'murals', 'etc.)'}).rename(columns={'Public Artwork (sculptures': 'Public Artwork', 'School event': 'School Event'})\n",
    "\n",
    "outputs.to_csv(os.path.join(SITE_DATA_DIR, 'project_outputs.csv'), index=False)"
   ]
  },
  {
   "cell_type": "code",
   "execution_count": null,
   "id": "61000e8e",
   "metadata": {
    "papermill": {
     "duration": 0.001619,
     "end_time": "2024-01-23T11:55:25.345087",
     "exception": false,
     "start_time": "2024-01-23T11:55:25.343468",
     "status": "completed"
    },
    "tags": []
   },
   "outputs": [],
   "source": []
  }
 ],
 "metadata": {
  "kernelspec": {
   "display_name": "leeds-2023-OyOrD6k7",
   "language": "python",
   "name": "python3"
  },
  "language_info": {
   "codemirror_mode": {
    "name": "ipython",
    "version": 3
   },
   "file_extension": ".py",
   "mimetype": "text/x-python",
   "name": "python",
   "nbconvert_exporter": "python",
   "pygments_lexer": "ipython3",
   "version": "3.10.12"
  },
  "papermill": {
   "default_parameters": {},
   "duration": 1.321993,
   "end_time": "2024-01-23T11:55:25.561861",
   "environment_variables": {},
   "exception": null,
   "input_path": "prepare.ipynb",
   "output_path": "../../../working/output/partnerships-prepare.ipynb",
   "parameters": {},
   "start_time": "2024-01-23T11:55:24.239868",
   "version": "2.4.0"
  }
 },
 "nbformat": 4,
 "nbformat_minor": 5
}