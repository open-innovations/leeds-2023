{
 "cells": [
  {
   "cell_type": "code",
   "execution_count": 1,
   "id": "c8df4020",
   "metadata": {
    "execution": {
     "iopub.execute_input": "2023-08-07T23:41:04.225194Z",
     "iopub.status.busy": "2023-08-07T23:41:04.224882Z",
     "iopub.status.idle": "2023-08-07T23:41:14.016798Z",
     "shell.execute_reply": "2023-08-07T23:41:14.015779Z"
    },
    "papermill": {
     "duration": 9.798273,
     "end_time": "2023-08-07T23:41:14.019148",
     "exception": false,
     "start_time": "2023-08-07T23:41:04.220875",
     "status": "completed"
    },
    "tags": []
   },
   "outputs": [],
   "source": [
    "import os\n",
    "import pandas as pd\n",
    "from events import load_event_data, get_first_ward, normalise_ward"
   ]
  },
  {
   "cell_type": "code",
   "execution_count": 2,
   "id": "852c8630",
   "metadata": {
    "execution": {
     "iopub.execute_input": "2023-08-07T23:41:14.025333Z",
     "iopub.status.busy": "2023-08-07T23:41:14.025088Z",
     "iopub.status.idle": "2023-08-07T23:41:14.029364Z",
     "shell.execute_reply": "2023-08-07T23:41:14.028337Z"
    },
    "papermill": {
     "duration": 0.009719,
     "end_time": "2023-08-07T23:41:14.031420",
     "exception": false,
     "start_time": "2023-08-07T23:41:14.021701",
     "status": "completed"
    },
    "tags": []
   },
   "outputs": [],
   "source": [
    "latest_date = pd.Timestamp.today().ceil('D')"
   ]
  },
  {
   "cell_type": "code",
   "execution_count": 3,
   "id": "07cc87bc",
   "metadata": {
    "execution": {
     "iopub.execute_input": "2023-08-07T23:41:14.037725Z",
     "iopub.status.busy": "2023-08-07T23:41:14.037486Z",
     "iopub.status.idle": "2023-08-07T23:41:14.053828Z",
     "shell.execute_reply": "2023-08-07T23:41:14.052940Z"
    },
    "papermill": {
     "duration": 0.021934,
     "end_time": "2023-08-07T23:41:14.055680",
     "exception": false,
     "start_time": "2023-08-07T23:41:14.033746",
     "status": "completed"
    },
    "tags": []
   },
   "outputs": [],
   "source": [
    "tickets = pd.read_csv('../../../../data/metrics/events/tickets/orders.csv', parse_dates=['created_at', 'event_date'])\n",
    "tickets = tickets[tickets.event_date <= latest_date]"
   ]
  },
  {
   "cell_type": "code",
   "execution_count": 4,
   "id": "2016453f",
   "metadata": {
    "execution": {
     "iopub.execute_input": "2023-08-07T23:41:14.061411Z",
     "iopub.status.busy": "2023-08-07T23:41:14.061123Z",
     "iopub.status.idle": "2023-08-07T23:41:14.243795Z",
     "shell.execute_reply": "2023-08-07T23:41:14.242966Z"
    },
    "papermill": {
     "duration": 0.18812,
     "end_time": "2023-08-07T23:41:14.246008",
     "exception": false,
     "start_time": "2023-08-07T23:41:14.057888",
     "status": "completed"
    },
    "tags": []
   },
   "outputs": [],
   "source": [
    "events = load_event_data()\n",
    "\n",
    "events = pd.concat([\n",
    "  events,\n",
    "  events.pipe(get_first_ward).pipe(normalise_ward).fillna('UNKNOWN'),\n",
    "  pd.Series(\n",
    "      events.actual_audience_size_number_of_participants_in_person + events.actual_audience_size_number_of_participants_online,\n",
    "      name='attendances'\n",
    "  )\n",
    "], axis=1).rename(columns={\n",
    "    'start_date': 'date'\n",
    "}).loc[:, ['ward_code', 'date', 'event_unique_identifier', 'attendances']]"
   ]
  },
  {
   "cell_type": "code",
   "execution_count": 5,
   "id": "5914f137",
   "metadata": {
    "execution": {
     "iopub.execute_input": "2023-08-07T23:41:14.252713Z",
     "iopub.status.busy": "2023-08-07T23:41:14.252437Z",
     "iopub.status.idle": "2023-08-07T23:41:14.256462Z",
     "shell.execute_reply": "2023-08-07T23:41:14.255686Z"
    },
    "papermill": {
     "duration": 0.009418,
     "end_time": "2023-08-07T23:41:14.258250",
     "exception": false,
     "start_time": "2023-08-07T23:41:14.248832",
     "status": "completed"
    },
    "tags": []
   },
   "outputs": [],
   "source": [
    "OUTPUT_DIR='../../../../docs/metrics/events/signature/_data/'\n",
    "os.makedirs(OUTPUT_DIR, exist_ok=True)"
   ]
  },
  {
   "cell_type": "markdown",
   "id": "af7799ca",
   "metadata": {
    "papermill": {
     "duration": 0.002164,
     "end_time": "2023-08-07T23:41:14.262429",
     "exception": false,
     "start_time": "2023-08-07T23:41:14.260265",
     "status": "completed"
    },
    "tags": []
   },
   "source": [
    "Events CSVs"
   ]
  },
  {
   "cell_type": "code",
   "execution_count": 6,
   "id": "9f946c9a",
   "metadata": {
    "execution": {
     "iopub.execute_input": "2023-08-07T23:41:14.268037Z",
     "iopub.status.busy": "2023-08-07T23:41:14.267763Z",
     "iopub.status.idle": "2023-08-07T23:41:14.275558Z",
     "shell.execute_reply": "2023-08-07T23:41:14.274618Z"
    },
    "papermill": {
     "duration": 0.012776,
     "end_time": "2023-08-07T23:41:14.277281",
     "exception": false,
     "start_time": "2023-08-07T23:41:14.264505",
     "status": "completed"
    },
    "tags": []
   },
   "outputs": [],
   "source": [
    "pd.DataFrame({\n",
    "  'events': events.groupby('ward_code').event_unique_identifier.count(),\n",
    "  'attendances': events.groupby('ward_code').attendances.sum().astype(int),\n",
    "}).to_csv(os.path.join(OUTPUT_DIR, 'events_by_ward.csv'))\n"
   ]
  },
  {
   "cell_type": "code",
   "execution_count": 7,
   "id": "c01c1736",
   "metadata": {
    "execution": {
     "iopub.execute_input": "2023-08-07T23:41:14.283241Z",
     "iopub.status.busy": "2023-08-07T23:41:14.282945Z",
     "iopub.status.idle": "2023-08-07T23:41:14.294519Z",
     "shell.execute_reply": "2023-08-07T23:41:14.293668Z"
    },
    "papermill": {
     "duration": 0.016723,
     "end_time": "2023-08-07T23:41:14.296296",
     "exception": false,
     "start_time": "2023-08-07T23:41:14.279573",
     "status": "completed"
    },
    "tags": []
   },
   "outputs": [],
   "source": [
    "pd.DataFrame({\n",
    "  'events': events.groupby('date').event_unique_identifier.count(),\n",
    "  'attendances': events.groupby('date').attendances.sum().astype(int),\n",
    "}).resample('M').sum().astype(int).to_csv(os.path.join(OUTPUT_DIR, 'events_by_date.csv'))"
   ]
  },
  {
   "cell_type": "markdown",
   "id": "cc067986",
   "metadata": {
    "papermill": {
     "duration": 0.002255,
     "end_time": "2023-08-07T23:41:14.300772",
     "exception": false,
     "start_time": "2023-08-07T23:41:14.298517",
     "status": "completed"
    },
    "tags": []
   },
   "source": [
    "Tickets CSV"
   ]
  },
  {
   "cell_type": "code",
   "execution_count": 8,
   "id": "2257a49c",
   "metadata": {
    "execution": {
     "iopub.execute_input": "2023-08-07T23:41:14.306752Z",
     "iopub.status.busy": "2023-08-07T23:41:14.306187Z",
     "iopub.status.idle": "2023-08-07T23:41:14.314289Z",
     "shell.execute_reply": "2023-08-07T23:41:14.313429Z"
    },
    "papermill": {
     "duration": 0.013556,
     "end_time": "2023-08-07T23:41:14.316518",
     "exception": false,
     "start_time": "2023-08-07T23:41:14.302962",
     "status": "completed"
    },
    "tags": []
   },
   "outputs": [],
   "source": [
    "pd.DataFrame({\n",
    "  'orders': tickets.groupby('ward_code').number_of_tickets.count(),\n",
    "  'tickets': tickets.groupby('ward_code').number_of_tickets.sum().astype(int),\n",
    "}).to_csv(os.path.join(OUTPUT_DIR, 'tickets_by_ward.csv'))"
   ]
  },
  {
   "cell_type": "code",
   "execution_count": 9,
   "id": "51f70c41",
   "metadata": {
    "execution": {
     "iopub.execute_input": "2023-08-07T23:41:14.322190Z",
     "iopub.status.busy": "2023-08-07T23:41:14.321920Z",
     "iopub.status.idle": "2023-08-07T23:41:14.332041Z",
     "shell.execute_reply": "2023-08-07T23:41:14.331170Z"
    },
    "papermill": {
     "duration": 0.015382,
     "end_time": "2023-08-07T23:41:14.334037",
     "exception": false,
     "start_time": "2023-08-07T23:41:14.318655",
     "status": "completed"
    },
    "tags": []
   },
   "outputs": [],
   "source": [
    "pd.DataFrame({\n",
    "  'orders': tickets.groupby('event_date').number_of_tickets.count(),\n",
    "  'tickets': tickets.groupby('event_date').number_of_tickets.sum().astype(int),\n",
    "}).resample('M').sum().to_csv(os.path.join(OUTPUT_DIR, 'tickets_by_event_date.csv'))"
   ]
  },
  {
   "cell_type": "code",
   "execution_count": 10,
   "id": "55d701df",
   "metadata": {
    "execution": {
     "iopub.execute_input": "2023-08-07T23:41:14.341370Z",
     "iopub.status.busy": "2023-08-07T23:41:14.341136Z",
     "iopub.status.idle": "2023-08-07T23:41:14.346962Z",
     "shell.execute_reply": "2023-08-07T23:41:14.346134Z"
    },
    "papermill": {
     "duration": 0.012126,
     "end_time": "2023-08-07T23:41:14.348986",
     "exception": false,
     "start_time": "2023-08-07T23:41:14.336860",
     "status": "completed"
    },
    "tags": []
   },
   "outputs": [],
   "source": [
    "pd.Series({\n",
    "    'total_events': events.event_unique_identifier.count(),\n",
    "    'total_attendances': events.attendances.count(),\n",
    "    'first_event': events.date.min(),\n",
    "    'latest_event': events.date.max(),\n",
    "    'total_ticket_orders_for_events_to_date': tickets.number_of_tickets.count(),\n",
    "    'total_tickets_sold_for_events_to_date': tickets.number_of_tickets.sum(),\n",
    "}).to_json(os.path.join(OUTPUT_DIR, 'headlines.json'), indent=2)"
   ]
  },
  {
   "cell_type": "code",
   "execution_count": null,
   "id": "54473a29",
   "metadata": {
    "papermill": {
     "duration": 0.002318,
     "end_time": "2023-08-07T23:41:14.353685",
     "exception": false,
     "start_time": "2023-08-07T23:41:14.351367",
     "status": "completed"
    },
    "tags": []
   },
   "outputs": [],
   "source": []
  }
 ],
 "metadata": {
  "kernelspec": {
   "display_name": "leeds-2023-YZF5GfJv",
   "language": "python",
   "name": "python3"
  },
  "language_info": {
   "codemirror_mode": {
    "name": "ipython",
    "version": 3
   },
   "file_extension": ".py",
   "mimetype": "text/x-python",
   "name": "python",
   "nbconvert_exporter": "python",
   "pygments_lexer": "ipython3",
   "version": "3.10.6"
  },
  "papermill": {
   "default_parameters": {},
   "duration": 11.827494,
   "end_time": "2023-08-07T23:41:14.673347",
   "environment_variables": {},
   "exception": null,
   "input_path": "prepare.ipynb",
   "output_path": "../../../../working/output/signature-prepare.ipynb",
   "parameters": {},
   "start_time": "2023-08-07T23:41:02.845853",
   "version": "2.4.0"
  }
 },
 "nbformat": 4,
 "nbformat_minor": 5
}