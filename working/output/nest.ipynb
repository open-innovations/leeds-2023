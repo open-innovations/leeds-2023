{
 "cells": [
  {
   "cell_type": "markdown",
   "id": "9b1377f2",
   "metadata": {
    "papermill": {
     "duration": 0.002018,
     "end_time": "2023-11-15T23:38:44.589524",
     "exception": false,
     "start_time": "2023-11-15T23:38:44.587506",
     "status": "completed"
    },
    "tags": []
   },
   "source": [
    "# Nest\n",
    "\n",
    "Prepares data for the Nest page "
   ]
  },
  {
   "cell_type": "code",
   "execution_count": 1,
   "id": "379f9588",
   "metadata": {
    "execution": {
     "iopub.execute_input": "2023-11-15T23:38:44.593672Z",
     "iopub.status.busy": "2023-11-15T23:38:44.593419Z",
     "iopub.status.idle": "2023-11-15T23:38:52.106069Z",
     "shell.execute_reply": "2023-11-15T23:38:52.105322Z"
    },
    "papermill": {
     "duration": 7.516655,
     "end_time": "2023-11-15T23:38:52.107736",
     "exception": false,
     "start_time": "2023-11-15T23:38:44.591081",
     "status": "completed"
    },
    "tags": []
   },
   "outputs": [],
   "source": [
    "import os\n",
    "from events import (\n",
    "    load_event_data, filter_public_events, filter_by_project, prepare, save_files, count_wards\n",
    ")"
   ]
  },
  {
   "cell_type": "markdown",
   "id": "454a4411",
   "metadata": {
    "papermill": {
     "duration": 0.001389,
     "end_time": "2023-11-15T23:38:52.110745",
     "exception": false,
     "start_time": "2023-11-15T23:38:52.109356",
     "status": "completed"
    },
    "tags": []
   },
   "source": [
    "Set output directory"
   ]
  },
  {
   "cell_type": "code",
   "execution_count": 2,
   "id": "a654dd20",
   "metadata": {
    "execution": {
     "iopub.execute_input": "2023-11-15T23:38:52.114626Z",
     "iopub.status.busy": "2023-11-15T23:38:52.114179Z",
     "iopub.status.idle": "2023-11-15T23:38:52.117419Z",
     "shell.execute_reply": "2023-11-15T23:38:52.116859Z"
    },
    "papermill": {
     "duration": 0.006672,
     "end_time": "2023-11-15T23:38:52.118711",
     "exception": false,
     "start_time": "2023-11-15T23:38:52.112039",
     "status": "completed"
    },
    "tags": []
   },
   "outputs": [],
   "source": [
    "OUT_DIR = '../../../../docs/metrics/events/nest/_data/events'"
   ]
  },
  {
   "cell_type": "markdown",
   "id": "899a5b8d",
   "metadata": {
    "papermill": {
     "duration": 0.001281,
     "end_time": "2023-11-15T23:38:52.121359",
     "exception": false,
     "start_time": "2023-11-15T23:38:52.120078",
     "status": "completed"
    },
    "tags": []
   },
   "source": [
    "Read in event data and filter by **My LEEDS 2023** project.\n",
    "\n",
    "The criteria are:\n",
    "\n",
    "* project type is 'Produce (Signature)'\n",
    "* event_type contains 'Public Event -'\n",
    "\n",
    "It's then filtered by project_name is '10 - Melt'"
   ]
  },
  {
   "cell_type": "code",
   "execution_count": 3,
   "id": "74f05671",
   "metadata": {
    "execution": {
     "iopub.execute_input": "2023-11-15T23:38:52.125066Z",
     "iopub.status.busy": "2023-11-15T23:38:52.124690Z",
     "iopub.status.idle": "2023-11-15T23:38:52.148704Z",
     "shell.execute_reply": "2023-11-15T23:38:52.148059Z"
    },
    "papermill": {
     "duration": 0.027325,
     "end_time": "2023-11-15T23:38:52.150040",
     "exception": false,
     "start_time": "2023-11-15T23:38:52.122715",
     "status": "completed"
    },
    "tags": []
   },
   "outputs": [
    {
     "data": {
      "text/html": [
       "<div>\n",
       "<style scoped>\n",
       "    .dataframe tbody tr th:only-of-type {\n",
       "        vertical-align: middle;\n",
       "    }\n",
       "\n",
       "    .dataframe tbody tr th {\n",
       "        vertical-align: top;\n",
       "    }\n",
       "\n",
       "    .dataframe thead th {\n",
       "        text-align: right;\n",
       "    }\n",
       "</style>\n",
       "<table border=\"1\" class=\"dataframe\">\n",
       "  <thead>\n",
       "    <tr style=\"text-align: right;\">\n",
       "      <th></th>\n",
       "      <th>actual_audience_size_number_of_participants_in_person</th>\n",
       "      <th>actual_audience_size_number_of_participants_online</th>\n",
       "      <th>airtable_id</th>\n",
       "      <th>end_date</th>\n",
       "      <th>event_name</th>\n",
       "      <th>event_type</th>\n",
       "      <th>event_unique_identifier</th>\n",
       "      <th>number_of_booked_participants</th>\n",
       "      <th>postcode_(from_venue)</th>\n",
       "      <th>project_name</th>\n",
       "      <th>project_type</th>\n",
       "      <th>season</th>\n",
       "      <th>start_date</th>\n",
       "      <th>ticket_tailor_id</th>\n",
       "      <th>ward_(from_venue)</th>\n",
       "    </tr>\n",
       "  </thead>\n",
       "  <tbody>\n",
       "    <tr>\n",
       "      <th>1095</th>\n",
       "      <td>1338.0</td>\n",
       "      <td>NaN</td>\n",
       "      <td>241</td>\n",
       "      <td>2023-09-09</td>\n",
       "      <td>Melt (Run)</td>\n",
       "      <td>['Public Event - Performance']</td>\n",
       "      <td>10 - Melt: Melt (Run)</td>\n",
       "      <td>1542.0</td>\n",
       "      <td>['LS26 8AL']</td>\n",
       "      <td>10 - Melt</td>\n",
       "      <td>Produce (Signature)</td>\n",
       "      <td>['Season 3 - Dreaming']</td>\n",
       "      <td>2023-09-05</td>\n",
       "      <td>ev_2809632, ev_2809633,  ev_2809634,  ev_28096...</td>\n",
       "      <td>['Garforth and Swillington']</td>\n",
       "    </tr>\n",
       "  </tbody>\n",
       "</table>\n",
       "</div>"
      ],
      "text/plain": [
       "      actual_audience_size_number_of_participants_in_person  \\\n",
       "1095                                             1338.0       \n",
       "\n",
       "      actual_audience_size_number_of_participants_online  airtable_id  \\\n",
       "1095                                                NaN           241   \n",
       "\n",
       "        end_date  event_name                      event_type  \\\n",
       "1095  2023-09-09  Melt (Run)  ['Public Event - Performance']   \n",
       "\n",
       "     event_unique_identifier  number_of_booked_participants  \\\n",
       "1095   10 - Melt: Melt (Run)                         1542.0   \n",
       "\n",
       "     postcode_(from_venue) project_name         project_type  \\\n",
       "1095          ['LS26 8AL']    10 - Melt  Produce (Signature)   \n",
       "\n",
       "                       season start_date  \\\n",
       "1095  ['Season 3 - Dreaming'] 2023-09-05   \n",
       "\n",
       "                                       ticket_tailor_id  \\\n",
       "1095  ev_2809632, ev_2809633,  ev_2809634,  ev_28096...   \n",
       "\n",
       "                 ward_(from_venue)  \n",
       "1095  ['Garforth and Swillington']  "
      ]
     },
     "execution_count": 3,
     "metadata": {},
     "output_type": "execute_result"
    }
   ],
   "source": [
    "data = (\n",
    "  load_event_data()\n",
    "    .pipe(filter_by_project, '10 - Melt')\n",
    "    .pipe(filter_public_events)\n",
    "  )\n",
    "data"
   ]
  },
  {
   "cell_type": "markdown",
   "id": "dd9be1c2",
   "metadata": {
    "papermill": {
     "duration": 0.001498,
     "end_time": "2023-11-15T23:38:52.153220",
     "exception": false,
     "start_time": "2023-11-15T23:38:52.151722",
     "status": "completed"
    },
    "tags": []
   },
   "source": [
    "Run the processing and save the files"
   ]
  },
  {
   "cell_type": "code",
   "execution_count": 4,
   "id": "3fbf63d2",
   "metadata": {
    "execution": {
     "iopub.execute_input": "2023-11-15T23:38:52.157467Z",
     "iopub.status.busy": "2023-11-15T23:38:52.156987Z",
     "iopub.status.idle": "2023-11-15T23:38:52.180276Z",
     "shell.execute_reply": "2023-11-15T23:38:52.179710Z"
    },
    "papermill": {
     "duration": 0.027003,
     "end_time": "2023-11-15T23:38:52.181806",
     "exception": false,
     "start_time": "2023-11-15T23:38:52.154803",
     "status": "completed"
    },
    "tags": []
   },
   "outputs": [],
   "source": [
    "data = data.pipe(prepare).pipe(save_files, OUT_DIR)"
   ]
  }
 ],
 "metadata": {
  "kernelspec": {
   "display_name": "leeds-2023-YZF5GfJv",
   "language": "python",
   "name": "python3"
  },
  "language_info": {
   "codemirror_mode": {
    "name": "ipython",
    "version": 3
   },
   "file_extension": ".py",
   "mimetype": "text/x-python",
   "name": "python",
   "nbconvert_exporter": "python",
   "pygments_lexer": "ipython3",
   "version": "3.10.13"
  },
  "papermill": {
   "default_parameters": {},
   "duration": 9.167398,
   "end_time": "2023-11-15T23:38:52.500136",
   "environment_variables": {},
   "exception": null,
   "input_path": "nest.ipynb",
   "output_path": "../../../../working/output/nest.ipynb",
   "parameters": {},
   "start_time": "2023-11-15T23:38:43.332738",
   "version": "2.4.0"
  }
 },
 "nbformat": 4,
 "nbformat_minor": 5
}