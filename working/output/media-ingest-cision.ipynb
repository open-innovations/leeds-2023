{
 "cells": [
  {
   "cell_type": "code",
   "execution_count": 1,
   "id": "231dc3d7",
   "metadata": {
    "execution": {
     "iopub.execute_input": "2023-11-13T15:11:03.619628Z",
     "iopub.status.busy": "2023-11-13T15:11:03.618959Z",
     "iopub.status.idle": "2023-11-13T15:11:03.776317Z",
     "shell.execute_reply": "2023-11-13T15:11:03.775869Z"
    },
    "papermill": {
     "duration": 0.164456,
     "end_time": "2023-11-13T15:11:03.777443",
     "exception": false,
     "start_time": "2023-11-13T15:11:03.612987",
     "status": "completed"
    },
    "tags": []
   },
   "outputs": [],
   "source": [
    "import glob\n",
    "import os\n",
    "\n",
    "import pandas as pd\n",
    "from cision import (add_hash, append_filename, clean_up, convert_numbers,\n",
    "                    drop_empty_headlines, guess_date, guess_encoding,\n",
    "                    normalise_column_names, patch_column_names, save_csv,\n",
    "                    logger)"
   ]
  },
  {
   "cell_type": "markdown",
   "id": "94d52fab",
   "metadata": {
    "papermill": {
     "duration": 0.001185,
     "end_time": "2023-11-13T15:11:03.780075",
     "exception": false,
     "start_time": "2023-11-13T15:11:03.778890",
     "status": "completed"
    },
    "tags": []
   },
   "source": [
    "The media files are downloaded to `working/manual/media` with a `dvc` url import. The files are uploaded to files.open-innovations.org by AMA, who are LEEDS 2023's media partner."
   ]
  },
  {
   "cell_type": "code",
   "execution_count": 2,
   "id": "b8f1b953",
   "metadata": {
    "execution": {
     "iopub.execute_input": "2023-11-13T15:11:03.782992Z",
     "iopub.status.busy": "2023-11-13T15:11:03.782816Z",
     "iopub.status.idle": "2023-11-13T15:11:03.784959Z",
     "shell.execute_reply": "2023-11-13T15:11:03.784645Z"
    },
    "papermill": {
     "duration": 0.004391,
     "end_time": "2023-11-13T15:11:03.785619",
     "exception": false,
     "start_time": "2023-11-13T15:11:03.781228",
     "status": "completed"
    },
    "tags": []
   },
   "outputs": [],
   "source": [
    "WORKING_DIR = '../../../working/manual/media/'"
   ]
  },
  {
   "cell_type": "markdown",
   "id": "74813ff8",
   "metadata": {
    "papermill": {
     "duration": 0.001133,
     "end_time": "2023-11-13T15:11:03.787966",
     "exception": false,
     "start_time": "2023-11-13T15:11:03.786833",
     "status": "completed"
    },
    "tags": []
   },
   "source": [
    "Get the list of input files and work out which is the latest date in the column"
   ]
  },
  {
   "cell_type": "code",
   "execution_count": 3,
   "id": "e9763d36",
   "metadata": {
    "execution": {
     "iopub.execute_input": "2023-11-13T15:11:03.790919Z",
     "iopub.status.busy": "2023-11-13T15:11:03.790728Z",
     "iopub.status.idle": "2023-11-13T15:11:03.794822Z",
     "shell.execute_reply": "2023-11-13T15:11:03.794539Z"
    },
    "papermill": {
     "duration": 0.006523,
     "end_time": "2023-11-13T15:11:03.795644",
     "exception": false,
     "start_time": "2023-11-13T15:11:03.789121",
     "status": "completed"
    },
    "tags": []
   },
   "outputs": [],
   "source": [
    "files=glob.glob('*.csv', root_dir=WORKING_DIR)\n",
    "input_files = pd.Series(\n",
    "    files, index=files, name='latest_input_date'\n",
    ").str.lower().str.replace(\n",
    "    r'(leeds 2023.*?media coverage( w\\.e\\.*)*\\s*([\\d\\.]*-){0,1}|.csv$)', '', regex=True\n",
    ").str.strip().pipe(pd.to_datetime, format='%d.%m.%y', errors='coerce').sort_values()"
   ]
  },
  {
   "cell_type": "markdown",
   "id": "b9692479",
   "metadata": {
    "papermill": {
     "duration": 0.001137,
     "end_time": "2023-11-13T15:11:03.797976",
     "exception": false,
     "start_time": "2023-11-13T15:11:03.796839",
     "status": "completed"
    },
    "tags": []
   },
   "source": [
    "List files with invalid dates"
   ]
  },
  {
   "cell_type": "code",
   "execution_count": 4,
   "id": "e2c0b0b2",
   "metadata": {
    "execution": {
     "iopub.execute_input": "2023-11-13T15:11:03.800869Z",
     "iopub.status.busy": "2023-11-13T15:11:03.800656Z",
     "iopub.status.idle": "2023-11-13T15:11:03.805812Z",
     "shell.execute_reply": "2023-11-13T15:11:03.805538Z"
    },
    "papermill": {
     "duration": 0.007391,
     "end_time": "2023-11-13T15:11:03.806511",
     "exception": false,
     "start_time": "2023-11-13T15:11:03.799120",
     "status": "completed"
    },
    "tags": []
   },
   "outputs": [
    {
     "data": {
      "text/html": [
       "<div>\n",
       "<style scoped>\n",
       "    .dataframe tbody tr th:only-of-type {\n",
       "        vertical-align: middle;\n",
       "    }\n",
       "\n",
       "    .dataframe tbody tr th {\n",
       "        vertical-align: top;\n",
       "    }\n",
       "\n",
       "    .dataframe thead th {\n",
       "        text-align: right;\n",
       "    }\n",
       "</style>\n",
       "<table border=\"1\" class=\"dataframe\">\n",
       "  <thead>\n",
       "    <tr style=\"text-align: right;\">\n",
       "      <th></th>\n",
       "      <th>latest_input_date</th>\n",
       "    </tr>\n",
       "  </thead>\n",
       "  <tbody>\n",
       "  </tbody>\n",
       "</table>\n",
       "</div>"
      ],
      "text/plain": [
       "Empty DataFrame\n",
       "Columns: [latest_input_date]\n",
       "Index: []"
      ]
     },
     "execution_count": 4,
     "metadata": {},
     "output_type": "execute_result"
    }
   ],
   "source": [
    "input_files.loc[input_files.isna()].to_frame()"
   ]
  },
  {
   "cell_type": "markdown",
   "id": "74743490",
   "metadata": {
    "papermill": {
     "duration": 0.001241,
     "end_time": "2023-11-13T15:11:03.809114",
     "exception": false,
     "start_time": "2023-11-13T15:11:03.807873",
     "status": "completed"
    },
    "tags": []
   },
   "source": [
    "Load the cision date into a long "
   ]
  },
  {
   "cell_type": "code",
   "execution_count": 5,
   "id": "3d5fe3a8",
   "metadata": {
    "execution": {
     "iopub.execute_input": "2023-11-13T15:11:03.812699Z",
     "iopub.status.busy": "2023-11-13T15:11:03.812559Z",
     "iopub.status.idle": "2023-11-13T15:11:03.816490Z",
     "shell.execute_reply": "2023-11-13T15:11:03.816170Z"
    },
    "papermill": {
     "duration": 0.006731,
     "end_time": "2023-11-13T15:11:03.817227",
     "exception": false,
     "start_time": "2023-11-13T15:11:03.810496",
     "status": "completed"
    },
    "tags": []
   },
   "outputs": [],
   "source": [
    "required_columns = set([\n",
    "    'news_date', 'news_headline', 'outlet_name', 'audience_reach', 'uv'\n",
    "])\n",
    "\n",
    "\n",
    "def load_cision_file(filename):\n",
    "    source_file = os.path.basename(filename)\n",
    "    print(source_file)\n",
    "    latest_date = input_files.loc[source_file]\n",
    "    logger.info('Loading %s', source_file)\n",
    "    logger.info('Latest date %s', str(latest_date))\n",
    "\n",
    "    try:\n",
    "        data = pd.read_csv(\n",
    "            filename,\n",
    "            encoding=guess_encoding(filename),\n",
    "            thousands=',',\n",
    "            skipinitialspace=True\n",
    "        )\n",
    "    except Exception as e:\n",
    "        logger.warning('Cannot process %s', filename)\n",
    "        logger.info(e)\n",
    "        return\n",
    "\n",
    "    # print(data.pipe(normalise_column_names).pipe(patch_column_names)['uv'].fillna(0).astype('Int64'))\n",
    "    data = (\n",
    "        data\n",
    "        .pipe(add_hash)\n",
    "        .pipe(append_filename, source_file)\n",
    "        .pipe(normalise_column_names)\n",
    "        .pipe(patch_column_names)\n",
    "        .pipe(drop_empty_headlines)\n",
    "        .pipe(guess_date, latest_date=latest_date)\n",
    "        .pipe(convert_numbers)\n",
    "    )\n",
    "\n",
    "    data['latest_date'] = latest_date\n",
    "\n",
    "    # Check for expected columns\n",
    "    try:\n",
    "        assert required_columns.issubset(data.columns)\n",
    "    except:\n",
    "        missing = required_columns.difference(data.columns)\n",
    "        logger.warning(\"Missing columns %s in %s\", missing, filename)\n",
    "        logger.info(\"Got columns %r\", data.columns)\n",
    "        return\n",
    "\n",
    "    return data"
   ]
  },
  {
   "cell_type": "code",
   "execution_count": 6,
   "id": "4d7aa889",
   "metadata": {
    "execution": {
     "iopub.execute_input": "2023-11-13T15:11:03.821895Z",
     "iopub.status.busy": "2023-11-13T15:11:03.821733Z",
     "iopub.status.idle": "2023-11-13T15:11:04.251141Z",
     "shell.execute_reply": "2023-11-13T15:11:04.250724Z"
    },
    "papermill": {
     "duration": 0.433292,
     "end_time": "2023-11-13T15:11:04.252100",
     "exception": false,
     "start_time": "2023-11-13T15:11:03.818808",
     "status": "completed"
    },
    "tags": []
   },
   "outputs": [
    {
     "name": "stdout",
     "output_type": "stream",
     "text": [
      "Leeds 2023 media coverage 23.09.22-17.10.22.csv\n",
      "Leeds 2023 weekly media coverage 24.11.22.csv\n",
      "Leeds 2023 weekly media coverage 02.12.22.csv\n",
      "Leeds 2023 weekly media coverage 09.12.22.csv\n",
      "Leeds 2023 weekly media coverage 16.12.22.csv\n",
      "Leeds 2023 weekly media coverage 23.12.22.csv\n",
      "Leeds 2023 weekly media coverage 1-6.01.23.csv\n",
      "LEEDS 2023 The Awakening media coverage 7-9.01.23.csv\n",
      "Leeds 2023 weekly media coverage w.e. 13.01.23.csv\n",
      "Leeds 2023 weekly media coverage 13-20.01.23.csv\n",
      "Leeds 2023 weekly media coverage 21-27.01.23.csv\n",
      "Leeds 2023 weekly media coverage w.e 03.02.23.csv\n",
      "LEEDS 2023 weekly media coverage W.e 10.02.23.csv\n",
      "LEEDS 2023 Weekly Media Coverage w.e. 17.02.23.csv\n",
      "LEEDS 2023 weekly media coverage w.e. 24.02.23.csv\n",
      "LEEDS 2023 weekly media coverage w.e. 03.03.23.csv\n",
      "Leeds 2023 weekly media coverage w.e. 10.03.23.csv\n",
      "Leeds 2023 weekly media coverage w.e. 17.03.23.csv\n",
      "Leeds 2023 weekly media coverage 24.03.23.csv\n",
      "leeds 2023 weekly media coverage w.e. 31.03.23.csv\n",
      "Leeds 2023 weekly media coverage w.e. 6.04.23.csv\n",
      "LEEDS 2023 Weekly media coverage 28.04.23.csv\n",
      "LEEDS 2023 weekly media coverage w.e. 05.05.23.csv\n",
      "LEEDS 2023 Weekly media coverage w.e 12.05.23.csv\n",
      "Leeds 2023 weekly media coverage w.e 19.05.23.csv\n",
      "Leeds 2023 weekly media coverage w.e 26.5.23.csv\n"
     ]
    },
    {
     "name": "stdout",
     "output_type": "stream",
     "text": [
      "LEEDS 2023 Weekly media coverage w.e. 02.06.23.csv\n",
      "LEEDS 2023 Weekly media coverage w.e. 09.06.23.csv\n",
      "LEEDS 2023 Weekly media coverage w.e. 16.06.23.csv\n",
      "LEEDS 2023 Weekly media coverage w.e. 23.06.23.csv\n",
      "LEEDS 2023 Weekly media coverage 30.06.23.csv\n",
      "LEEDS 2023 Weekly media coverage w.e 07.07.23 .csv\n",
      "LEEDS 2023 Weekly media coverage w.e 14.07.23.csv\n",
      "LEEDS 2023 Weekly media coverage w.e. 21.07.23.csv\n",
      "LEEDS 2023 weekly media coverage w.e 28.07.23.csv\n",
      "Leeds 2023 weekly media coverage 29.07-18.08.23.csv\n",
      "LEEDS 2023 Weekly media coverage w.e 08.09.23.csv\n",
      "LEEDS 2023 Weekly media coverage 09.09.23-03.11.23.csv\n"
     ]
    }
   ],
   "source": [
    "cision_data = pd.concat([\n",
    "    load_cision_file(os.path.join(WORKING_DIR, f))\n",
    "    for f in\n",
    "    input_files.loc[input_files.notna()].index.to_list()\n",
    "])"
   ]
  },
  {
   "cell_type": "markdown",
   "id": "5f74c156",
   "metadata": {
    "papermill": {
     "duration": 0.001417,
     "end_time": "2023-11-13T15:11:04.255129",
     "exception": false,
     "start_time": "2023-11-13T15:11:04.253712",
     "status": "completed"
    },
    "tags": []
   },
   "source": [
    "Print missing dates"
   ]
  },
  {
   "cell_type": "code",
   "execution_count": 7,
   "id": "4acb530e",
   "metadata": {
    "execution": {
     "iopub.execute_input": "2023-11-13T15:11:04.258576Z",
     "iopub.status.busy": "2023-11-13T15:11:04.258322Z",
     "iopub.status.idle": "2023-11-13T15:11:04.263783Z",
     "shell.execute_reply": "2023-11-13T15:11:04.263407Z"
    },
    "papermill": {
     "duration": 0.008002,
     "end_time": "2023-11-13T15:11:04.264500",
     "exception": false,
     "start_time": "2023-11-13T15:11:04.256498",
     "status": "completed"
    },
    "tags": []
   },
   "outputs": [
    {
     "data": {
      "text/html": [
       "<div>\n",
       "<style scoped>\n",
       "    .dataframe tbody tr th:only-of-type {\n",
       "        vertical-align: middle;\n",
       "    }\n",
       "\n",
       "    .dataframe tbody tr th {\n",
       "        vertical-align: top;\n",
       "    }\n",
       "\n",
       "    .dataframe thead th {\n",
       "        text-align: right;\n",
       "    }\n",
       "</style>\n",
       "<table border=\"1\" class=\"dataframe\">\n",
       "  <thead>\n",
       "    <tr style=\"text-align: right;\">\n",
       "      <th></th>\n",
       "      <th>news_date</th>\n",
       "      <th>input_date</th>\n",
       "      <th>source_file</th>\n",
       "    </tr>\n",
       "  </thead>\n",
       "  <tbody>\n",
       "    <tr>\n",
       "      <th>0</th>\n",
       "      <td>NaT</td>\n",
       "      <td>1/1/2023</td>\n",
       "      <td>Leeds 2023 weekly media coverage 23.12.22.csv</td>\n",
       "    </tr>\n",
       "    <tr>\n",
       "      <th>1</th>\n",
       "      <td>NaT</td>\n",
       "      <td>1/1/2023</td>\n",
       "      <td>Leeds 2023 weekly media coverage 23.12.22.csv</td>\n",
       "    </tr>\n",
       "    <tr>\n",
       "      <th>23</th>\n",
       "      <td>NaT</td>\n",
       "      <td>01.08.23</td>\n",
       "      <td>LEEDS 2023 Weekly media coverage w.e. 21.07.23...</td>\n",
       "    </tr>\n",
       "  </tbody>\n",
       "</table>\n",
       "</div>"
      ],
      "text/plain": [
       "   news_date input_date                                        source_file\n",
       "0        NaT   1/1/2023      Leeds 2023 weekly media coverage 23.12.22.csv\n",
       "1        NaT   1/1/2023      Leeds 2023 weekly media coverage 23.12.22.csv\n",
       "23       NaT   01.08.23  LEEDS 2023 Weekly media coverage w.e. 21.07.23..."
      ]
     },
     "execution_count": 7,
     "metadata": {},
     "output_type": "execute_result"
    }
   ],
   "source": [
    "cision_data[cision_data.news_date.isna()].loc[:, ['news_date', 'input_date', 'source_file']]"
   ]
  },
  {
   "cell_type": "code",
   "execution_count": 8,
   "id": "25b26706",
   "metadata": {
    "execution": {
     "iopub.execute_input": "2023-11-13T15:11:04.268130Z",
     "iopub.status.busy": "2023-11-13T15:11:04.267991Z",
     "iopub.status.idle": "2023-11-13T15:11:04.292766Z",
     "shell.execute_reply": "2023-11-13T15:11:04.292467Z"
    },
    "papermill": {
     "duration": 0.027482,
     "end_time": "2023-11-13T15:11:04.293578",
     "exception": false,
     "start_time": "2023-11-13T15:11:04.266096",
     "status": "completed"
    },
    "tags": []
   },
   "outputs": [
    {
     "data": {
      "text/html": [
       "<div>\n",
       "<style scoped>\n",
       "    .dataframe tbody tr th:only-of-type {\n",
       "        vertical-align: middle;\n",
       "    }\n",
       "\n",
       "    .dataframe tbody tr th {\n",
       "        vertical-align: top;\n",
       "    }\n",
       "\n",
       "    .dataframe thead th {\n",
       "        text-align: right;\n",
       "    }\n",
       "</style>\n",
       "<table border=\"1\" class=\"dataframe\">\n",
       "  <thead>\n",
       "    <tr style=\"text-align: right;\">\n",
       "      <th></th>\n",
       "      <th>news_date</th>\n",
       "      <th>news_headline</th>\n",
       "      <th>outlet_name</th>\n",
       "      <th>audience_reach</th>\n",
       "      <th>uv</th>\n",
       "      <th>tone</th>\n",
       "      <th>medium</th>\n",
       "      <th>outlet_type</th>\n",
       "      <th>custom_tags</th>\n",
       "      <th>news_company_mentions</th>\n",
       "      <th>hash</th>\n",
       "      <th>source_file</th>\n",
       "      <th>latest_date</th>\n",
       "      <th>input_date</th>\n",
       "    </tr>\n",
       "  </thead>\n",
       "  <tbody>\n",
       "    <tr>\n",
       "      <th>236</th>\n",
       "      <td>2022-09-17</td>\n",
       "      <td>Four West Leeds sites earmarked for local auth...</td>\n",
       "      <td>West Leeds Dispatch</td>\n",
       "      <td>0</td>\n",
       "      <td>3141.0</td>\n",
       "      <td>POS</td>\n",
       "      <td>Online</td>\n",
       "      <td>Online, consumer</td>\n",
       "      <td>Local</td>\n",
       "      <td>Leeds 2023</td>\n",
       "      <td>13479499968123036765</td>\n",
       "      <td>Leeds 2023 media coverage 23.09.22-17.10.22.csv</td>\n",
       "      <td>2022-10-17</td>\n",
       "      <td>17/09/2022</td>\n",
       "    </tr>\n",
       "    <tr>\n",
       "      <th>237</th>\n",
       "      <td>2022-09-17</td>\n",
       "      <td>Inspirational Bramley Baths hailed a 'beacon f...</td>\n",
       "      <td>West Leeds Dispatch</td>\n",
       "      <td>0</td>\n",
       "      <td>3141.0</td>\n",
       "      <td>NEU</td>\n",
       "      <td>Online</td>\n",
       "      <td>Online, consumer</td>\n",
       "      <td>Local</td>\n",
       "      <td>Leeds 2023</td>\n",
       "      <td>453098313913252842</td>\n",
       "      <td>Leeds 2023 media coverage 23.09.22-17.10.22.csv</td>\n",
       "      <td>2022-10-17</td>\n",
       "      <td>17/09/2022</td>\n",
       "    </tr>\n",
       "    <tr>\n",
       "      <th>235</th>\n",
       "      <td>2022-09-17</td>\n",
       "      <td>Support Leeds 2023 city of culture by voluntee...</td>\n",
       "      <td>West Leeds Dispatch</td>\n",
       "      <td>0</td>\n",
       "      <td>3141.0</td>\n",
       "      <td>NEU</td>\n",
       "      <td>Online</td>\n",
       "      <td>Online, consumer</td>\n",
       "      <td>Local</td>\n",
       "      <td>Leeds 2023</td>\n",
       "      <td>10670817045611648545</td>\n",
       "      <td>Leeds 2023 media coverage 23.09.22-17.10.22.csv</td>\n",
       "      <td>2022-10-17</td>\n",
       "      <td>17/09/2022</td>\n",
       "    </tr>\n",
       "    <tr>\n",
       "      <th>234</th>\n",
       "      <td>2022-09-17</td>\n",
       "      <td>Youths shift 34 tonnes as new Bramley eco peac...</td>\n",
       "      <td>West Leeds Dispatch</td>\n",
       "      <td>0</td>\n",
       "      <td>3141.0</td>\n",
       "      <td>NEU</td>\n",
       "      <td>Online</td>\n",
       "      <td>Online, consumer</td>\n",
       "      <td>Local</td>\n",
       "      <td>Leeds 2023</td>\n",
       "      <td>13785126224380383013</td>\n",
       "      <td>Leeds 2023 media coverage 23.09.22-17.10.22.csv</td>\n",
       "      <td>2022-10-17</td>\n",
       "      <td>17/09/2022</td>\n",
       "    </tr>\n",
       "    <tr>\n",
       "      <th>233</th>\n",
       "      <td>2022-09-20</td>\n",
       "      <td>Inspirational Bramley Baths hailed a 'beacon f...</td>\n",
       "      <td>West Leeds Dispatch</td>\n",
       "      <td>0</td>\n",
       "      <td>3141.0</td>\n",
       "      <td>NEU</td>\n",
       "      <td>Online</td>\n",
       "      <td>Online, consumer</td>\n",
       "      <td>Local</td>\n",
       "      <td>Leeds 2023</td>\n",
       "      <td>12296830178779861036</td>\n",
       "      <td>Leeds 2023 media coverage 23.09.22-17.10.22.csv</td>\n",
       "      <td>2022-10-17</td>\n",
       "      <td>20/09/2022</td>\n",
       "    </tr>\n",
       "    <tr>\n",
       "      <th>...</th>\n",
       "      <td>...</td>\n",
       "      <td>...</td>\n",
       "      <td>...</td>\n",
       "      <td>...</td>\n",
       "      <td>...</td>\n",
       "      <td>...</td>\n",
       "      <td>...</td>\n",
       "      <td>...</td>\n",
       "      <td>...</td>\n",
       "      <td>...</td>\n",
       "      <td>...</td>\n",
       "      <td>...</td>\n",
       "      <td>...</td>\n",
       "      <td>...</td>\n",
       "    </tr>\n",
       "    <tr>\n",
       "      <th>234</th>\n",
       "      <td>2023-11-02</td>\n",
       "      <td>Radio clip from BBC Leeds at 2023-11-02 09:47:...</td>\n",
       "      <td>BBC Radio Leeds</td>\n",
       "      <td>78000</td>\n",
       "      <td>0.0</td>\n",
       "      <td>NEU</td>\n",
       "      <td>Broadcast</td>\n",
       "      <td>NaN</td>\n",
       "      <td>NaN</td>\n",
       "      <td>NaN</td>\n",
       "      <td>1023971215112660833</td>\n",
       "      <td>LEEDS 2023 Weekly media coverage 09.09.23-03.1...</td>\n",
       "      <td>2023-11-03</td>\n",
       "      <td>02/11/2023</td>\n",
       "    </tr>\n",
       "    <tr>\n",
       "      <th>236</th>\n",
       "      <td>2023-11-03</td>\n",
       "      <td>LIFF 2023 Programme Preview</td>\n",
       "      <td>Gryphon - www.thegryphon.co.uk, The</td>\n",
       "      <td>0</td>\n",
       "      <td>1638.0</td>\n",
       "      <td>POS</td>\n",
       "      <td>Online</td>\n",
       "      <td>NaN</td>\n",
       "      <td>NaN</td>\n",
       "      <td>NaN</td>\n",
       "      <td>5382099588182015276</td>\n",
       "      <td>LEEDS 2023 Weekly media coverage 09.09.23-03.1...</td>\n",
       "      <td>2023-11-03</td>\n",
       "      <td>03/11/2023</td>\n",
       "    </tr>\n",
       "    <tr>\n",
       "      <th>239</th>\n",
       "      <td>2023-11-03</td>\n",
       "      <td>Leeds Architecture Awards honour innovations i...</td>\n",
       "      <td>Bradford Zone</td>\n",
       "      <td>0</td>\n",
       "      <td>0.0</td>\n",
       "      <td>POS</td>\n",
       "      <td>Online</td>\n",
       "      <td>NaN</td>\n",
       "      <td>NaN</td>\n",
       "      <td>NaN</td>\n",
       "      <td>8389772923225667567</td>\n",
       "      <td>LEEDS 2023 Weekly media coverage 09.09.23-03.1...</td>\n",
       "      <td>2023-11-03</td>\n",
       "      <td>03/11/2023</td>\n",
       "    </tr>\n",
       "    <tr>\n",
       "      <th>237</th>\n",
       "      <td>2023-11-03</td>\n",
       "      <td>New multi-media exhibition 'This is a FOREST' ...</td>\n",
       "      <td>Yorkshire Bylines</td>\n",
       "      <td>0</td>\n",
       "      <td>8326.0</td>\n",
       "      <td>NEU</td>\n",
       "      <td>Online</td>\n",
       "      <td>NaN</td>\n",
       "      <td>NaN</td>\n",
       "      <td>NaN</td>\n",
       "      <td>9558766405138936321</td>\n",
       "      <td>LEEDS 2023 Weekly media coverage 09.09.23-03.1...</td>\n",
       "      <td>2023-11-03</td>\n",
       "      <td>03/11/2023</td>\n",
       "    </tr>\n",
       "    <tr>\n",
       "      <th>238</th>\n",
       "      <td>2023-11-03</td>\n",
       "      <td>New multi-media exhibition 'This is a FOREST' ...</td>\n",
       "      <td>Flipboard</td>\n",
       "      <td>0</td>\n",
       "      <td>1296330.0</td>\n",
       "      <td>NEU</td>\n",
       "      <td>Online</td>\n",
       "      <td>NaN</td>\n",
       "      <td>NaN</td>\n",
       "      <td>NaN</td>\n",
       "      <td>14494659201769219070</td>\n",
       "      <td>LEEDS 2023 Weekly media coverage 09.09.23-03.1...</td>\n",
       "      <td>2023-11-03</td>\n",
       "      <td>03/11/2023</td>\n",
       "    </tr>\n",
       "  </tbody>\n",
       "</table>\n",
       "<p>2387 rows × 14 columns</p>\n",
       "</div>"
      ],
      "text/plain": [
       "     news_date                                      news_headline  \\\n",
       "236 2022-09-17  Four West Leeds sites earmarked for local auth...   \n",
       "237 2022-09-17  Inspirational Bramley Baths hailed a 'beacon f...   \n",
       "235 2022-09-17  Support Leeds 2023 city of culture by voluntee...   \n",
       "234 2022-09-17  Youths shift 34 tonnes as new Bramley eco peac...   \n",
       "233 2022-09-20  Inspirational Bramley Baths hailed a 'beacon f...   \n",
       "..         ...                                                ...   \n",
       "234 2023-11-02  Radio clip from BBC Leeds at 2023-11-02 09:47:...   \n",
       "236 2023-11-03                        LIFF 2023 Programme Preview   \n",
       "239 2023-11-03  Leeds Architecture Awards honour innovations i...   \n",
       "237 2023-11-03  New multi-media exhibition 'This is a FOREST' ...   \n",
       "238 2023-11-03  New multi-media exhibition 'This is a FOREST' ...   \n",
       "\n",
       "                             outlet_name  audience_reach         uv tone  \\\n",
       "236                  West Leeds Dispatch               0     3141.0  POS   \n",
       "237                  West Leeds Dispatch               0     3141.0  NEU   \n",
       "235                  West Leeds Dispatch               0     3141.0  NEU   \n",
       "234                  West Leeds Dispatch               0     3141.0  NEU   \n",
       "233                  West Leeds Dispatch               0     3141.0  NEU   \n",
       "..                                   ...             ...        ...  ...   \n",
       "234                      BBC Radio Leeds           78000        0.0  NEU   \n",
       "236  Gryphon - www.thegryphon.co.uk, The               0     1638.0  POS   \n",
       "239                        Bradford Zone               0        0.0  POS   \n",
       "237                    Yorkshire Bylines               0     8326.0  NEU   \n",
       "238                            Flipboard               0  1296330.0  NEU   \n",
       "\n",
       "        medium       outlet_type custom_tags news_company_mentions  \\\n",
       "236     Online  Online, consumer       Local            Leeds 2023   \n",
       "237     Online  Online, consumer       Local            Leeds 2023   \n",
       "235     Online  Online, consumer       Local            Leeds 2023   \n",
       "234     Online  Online, consumer       Local            Leeds 2023   \n",
       "233     Online  Online, consumer       Local            Leeds 2023   \n",
       "..         ...               ...         ...                   ...   \n",
       "234  Broadcast               NaN         NaN                   NaN   \n",
       "236     Online               NaN         NaN                   NaN   \n",
       "239     Online               NaN         NaN                   NaN   \n",
       "237     Online               NaN         NaN                   NaN   \n",
       "238     Online               NaN         NaN                   NaN   \n",
       "\n",
       "                     hash                                        source_file  \\\n",
       "236  13479499968123036765    Leeds 2023 media coverage 23.09.22-17.10.22.csv   \n",
       "237    453098313913252842    Leeds 2023 media coverage 23.09.22-17.10.22.csv   \n",
       "235  10670817045611648545    Leeds 2023 media coverage 23.09.22-17.10.22.csv   \n",
       "234  13785126224380383013    Leeds 2023 media coverage 23.09.22-17.10.22.csv   \n",
       "233  12296830178779861036    Leeds 2023 media coverage 23.09.22-17.10.22.csv   \n",
       "..                    ...                                                ...   \n",
       "234   1023971215112660833  LEEDS 2023 Weekly media coverage 09.09.23-03.1...   \n",
       "236   5382099588182015276  LEEDS 2023 Weekly media coverage 09.09.23-03.1...   \n",
       "239   8389772923225667567  LEEDS 2023 Weekly media coverage 09.09.23-03.1...   \n",
       "237   9558766405138936321  LEEDS 2023 Weekly media coverage 09.09.23-03.1...   \n",
       "238  14494659201769219070  LEEDS 2023 Weekly media coverage 09.09.23-03.1...   \n",
       "\n",
       "    latest_date  input_date  \n",
       "236  2022-10-17  17/09/2022  \n",
       "237  2022-10-17  17/09/2022  \n",
       "235  2022-10-17  17/09/2022  \n",
       "234  2022-10-17  17/09/2022  \n",
       "233  2022-10-17  20/09/2022  \n",
       "..          ...         ...  \n",
       "234  2023-11-03  02/11/2023  \n",
       "236  2023-11-03  03/11/2023  \n",
       "239  2023-11-03  03/11/2023  \n",
       "237  2023-11-03  03/11/2023  \n",
       "238  2023-11-03  03/11/2023  \n",
       "\n",
       "[2387 rows x 14 columns]"
      ]
     },
     "execution_count": 8,
     "metadata": {},
     "output_type": "execute_result"
    }
   ],
   "source": [
    "CISION_FILE = '../../../data/metrics/media_coverage/combined_cision.csv'\n",
    "os.makedirs(os.path.dirname(CISION_FILE), exist_ok=True)\n",
    "\n",
    "cision_data.loc[cision_data.news_date.notna()].pipe(clean_up).pipe(save_csv, output_file=CISION_FILE)"
   ]
  },
  {
   "cell_type": "markdown",
   "id": "111c85a7",
   "metadata": {
    "papermill": {
     "duration": 0.001634,
     "end_time": "2023-11-13T15:11:04.296989",
     "exception": false,
     "start_time": "2023-11-13T15:11:04.295355",
     "status": "completed"
    },
    "tags": []
   },
   "source": [
    "Plot the number of days in a week where data is available. This shows potential gaps in the data."
   ]
  },
  {
   "cell_type": "code",
   "execution_count": 9,
   "id": "30cce313",
   "metadata": {
    "execution": {
     "iopub.execute_input": "2023-11-13T15:11:04.300958Z",
     "iopub.status.busy": "2023-11-13T15:11:04.300746Z",
     "iopub.status.idle": "2023-11-13T15:11:04.697464Z",
     "shell.execute_reply": "2023-11-13T15:11:04.697076Z"
    },
    "papermill": {
     "duration": 0.399598,
     "end_time": "2023-11-13T15:11:04.698276",
     "exception": false,
     "start_time": "2023-11-13T15:11:04.298678",
     "status": "completed"
    },
    "tags": []
   },
   "outputs": [
    {
     "data": {
      "image/png": "[encoded data removed]",
      "text/plain": [
       "<Figure size 640x480 with 1 Axes>"
      ]
     },
     "metadata": {},
     "output_type": "display_data"
    }
   ],
   "source": [
    "ax = cision_data.groupby('news_date').news_headline.count().resample('W').count().plot.barh(\n",
    "  xlabel='Number of days in week with news coverage'\n",
    ")"
   ]
  },
  {
   "cell_type": "code",
   "execution_count": null,
   "id": "3914dd1f",
   "metadata": {
    "papermill": {
     "duration": 0.002726,
     "end_time": "2023-11-13T15:11:04.703960",
     "exception": false,
     "start_time": "2023-11-13T15:11:04.701234",
     "status": "completed"
    },
    "tags": []
   },
   "outputs": [],
   "source": []
  }
 ],
 "metadata": {
  "kernelspec": {
   "display_name": "leeds-2023-YZF5GfJv",
   "language": "python",
   "name": "python3"
  },
  "language_info": {
   "codemirror_mode": {
    "name": "ipython",
    "version": 3
   },
   "file_extension": ".py",
   "mimetype": "text/x-python",
   "name": "python",
   "nbconvert_exporter": "python",
   "pygments_lexer": "ipython3",
   "version": "3.10.12"
  },
  "papermill": {
   "default_parameters": {},
   "duration": 2.167553,
   "end_time": "2023-11-13T15:11:04.924925",
   "environment_variables": {},
   "exception": null,
   "input_path": "ingest-cision.ipynb",
   "output_path": "../../../working/output/media-ingest-cision.ipynb",
   "parameters": {},
   "start_time": "2023-11-13T15:11:02.757372",
   "version": "2.4.0"
  }
 },
 "nbformat": 4,
 "nbformat_minor": 5
}