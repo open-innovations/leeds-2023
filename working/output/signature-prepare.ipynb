{
 "cells": [
  {
   "cell_type": "code",
   "execution_count": 1,
   "id": "2899759a",
   "metadata": {
    "execution": {
     "iopub.execute_input": "2023-12-22T11:26:39.985377Z",
     "iopub.status.busy": "2023-12-22T11:26:39.985202Z",
     "iopub.status.idle": "2023-12-22T11:26:45.302122Z",
     "shell.execute_reply": "2023-12-22T11:26:45.301736Z"
    },
    "papermill": {
     "duration": 5.320346,
     "end_time": "2023-12-22T11:26:45.303224",
     "exception": false,
     "start_time": "2023-12-22T11:26:39.982878",
     "status": "completed"
    },
    "tags": []
   },
   "outputs": [],
   "source": [
    "import os\n",
    "import pandas as pd\n",
    "from events import load_event_data, get_first_ward, normalise_ward"
   ]
  },
  {
   "cell_type": "code",
   "execution_count": 2,
   "id": "eb957d27",
   "metadata": {
    "execution": {
     "iopub.execute_input": "2023-12-22T11:26:45.306339Z",
     "iopub.status.busy": "2023-12-22T11:26:45.306181Z",
     "iopub.status.idle": "2023-12-22T11:26:45.308568Z",
     "shell.execute_reply": "2023-12-22T11:26:45.308290Z"
    },
    "papermill": {
     "duration": 0.00488,
     "end_time": "2023-12-22T11:26:45.309427",
     "exception": false,
     "start_time": "2023-12-22T11:26:45.304547",
     "status": "completed"
    },
    "tags": []
   },
   "outputs": [],
   "source": [
    "latest_date = pd.Timestamp.today().ceil('D')"
   ]
  },
  {
   "cell_type": "code",
   "execution_count": 3,
   "id": "a26666b1",
   "metadata": {
    "execution": {
     "iopub.execute_input": "2023-12-22T11:26:45.312146Z",
     "iopub.status.busy": "2023-12-22T11:26:45.311961Z",
     "iopub.status.idle": "2023-12-22T11:26:45.323596Z",
     "shell.execute_reply": "2023-12-22T11:26:45.323235Z"
    },
    "papermill": {
     "duration": 0.014014,
     "end_time": "2023-12-22T11:26:45.324511",
     "exception": false,
     "start_time": "2023-12-22T11:26:45.310497",
     "status": "completed"
    },
    "tags": []
   },
   "outputs": [],
   "source": [
    "tickets = pd.read_csv('../../../../data/metrics/events/tickets/orders.csv', parse_dates=['created_at', 'event_date'])\n",
    "tickets = tickets[tickets.event_date <= latest_date]"
   ]
  },
  {
   "cell_type": "code",
   "execution_count": 4,
   "id": "cc2a4123",
   "metadata": {
    "execution": {
     "iopub.execute_input": "2023-12-22T11:26:45.327250Z",
     "iopub.status.busy": "2023-12-22T11:26:45.327103Z",
     "iopub.status.idle": "2023-12-22T11:26:45.359281Z",
     "shell.execute_reply": "2023-12-22T11:26:45.358913Z"
    },
    "papermill": {
     "duration": 0.03464,
     "end_time": "2023-12-22T11:26:45.360285",
     "exception": false,
     "start_time": "2023-12-22T11:26:45.325645",
     "status": "completed"
    },
    "tags": []
   },
   "outputs": [],
   "source": [
    "events = load_event_data()\n",
    "\n",
    "events = pd.concat([\n",
    "  events,\n",
    "  events.pipe(get_first_ward).pipe(normalise_ward).fillna('UNKNOWN'),\n",
    "  pd.Series(\n",
    "      events.actual_audience_size_number_of_participants_in_person + events.actual_audience_size_number_of_participants_online,\n",
    "      name='attendances'\n",
    "  )\n",
    "], axis=1).rename(columns={\n",
    "    'start_date': 'date'\n",
    "}).loc[:, ['ward_code', 'date', 'event_unique_identifier', 'attendances']]"
   ]
  },
  {
   "cell_type": "code",
   "execution_count": 5,
   "id": "79c26b61",
   "metadata": {
    "execution": {
     "iopub.execute_input": "2023-12-22T11:26:45.363086Z",
     "iopub.status.busy": "2023-12-22T11:26:45.362948Z",
     "iopub.status.idle": "2023-12-22T11:26:45.365035Z",
     "shell.execute_reply": "2023-12-22T11:26:45.364720Z"
    },
    "papermill": {
     "duration": 0.004454,
     "end_time": "2023-12-22T11:26:45.365875",
     "exception": false,
     "start_time": "2023-12-22T11:26:45.361421",
     "status": "completed"
    },
    "tags": []
   },
   "outputs": [],
   "source": [
    "OUTPUT_DIR='../../../../docs/metrics/events/signature/_data/'\n",
    "os.makedirs(OUTPUT_DIR, exist_ok=True)"
   ]
  },
  {
   "cell_type": "markdown",
   "id": "ff1f97d6",
   "metadata": {
    "papermill": {
     "duration": 0.001117,
     "end_time": "2023-12-22T11:26:45.368062",
     "exception": false,
     "start_time": "2023-12-22T11:26:45.366945",
     "status": "completed"
    },
    "tags": []
   },
   "source": [
    "Events CSVs"
   ]
  },
  {
   "cell_type": "code",
   "execution_count": 6,
   "id": "17ed9cac",
   "metadata": {
    "execution": {
     "iopub.execute_input": "2023-12-22T11:26:45.370817Z",
     "iopub.status.busy": "2023-12-22T11:26:45.370678Z",
     "iopub.status.idle": "2023-12-22T11:26:45.374705Z",
     "shell.execute_reply": "2023-12-22T11:26:45.374369Z"
    },
    "papermill": {
     "duration": 0.006452,
     "end_time": "2023-12-22T11:26:45.375548",
     "exception": false,
     "start_time": "2023-12-22T11:26:45.369096",
     "status": "completed"
    },
    "tags": []
   },
   "outputs": [],
   "source": [
    "pd.DataFrame({\n",
    "  'events': events.groupby('ward_code').event_unique_identifier.count(),\n",
    "  'attendances': events.groupby('ward_code').attendances.sum().astype(int),\n",
    "}).to_csv(os.path.join(OUTPUT_DIR, 'events_by_ward.csv'))\n"
   ]
  },
  {
   "cell_type": "code",
   "execution_count": 7,
   "id": "c1c557bb",
   "metadata": {
    "execution": {
     "iopub.execute_input": "2023-12-22T11:26:45.378346Z",
     "iopub.status.busy": "2023-12-22T11:26:45.378124Z",
     "iopub.status.idle": "2023-12-22T11:26:45.383596Z",
     "shell.execute_reply": "2023-12-22T11:26:45.383262Z"
    },
    "papermill": {
     "duration": 0.007822,
     "end_time": "2023-12-22T11:26:45.384497",
     "exception": false,
     "start_time": "2023-12-22T11:26:45.376675",
     "status": "completed"
    },
    "tags": []
   },
   "outputs": [],
   "source": [
    "pd.DataFrame({\n",
    "  'events': events.groupby('date').event_unique_identifier.count(),\n",
    "  'attendances': events.groupby('date').attendances.sum().astype(int),\n",
    "}).resample('M').sum().astype(int).to_csv(os.path.join(OUTPUT_DIR, 'events_by_date.csv'))"
   ]
  },
  {
   "cell_type": "markdown",
   "id": "1e81ac13",
   "metadata": {
    "papermill": {
     "duration": 0.001187,
     "end_time": "2023-12-22T11:26:45.386927",
     "exception": false,
     "start_time": "2023-12-22T11:26:45.385740",
     "status": "completed"
    },
    "tags": []
   },
   "source": [
    "Tickets CSV"
   ]
  },
  {
   "cell_type": "code",
   "execution_count": 8,
   "id": "f848b052",
   "metadata": {
    "execution": {
     "iopub.execute_input": "2023-12-22T11:26:45.389931Z",
     "iopub.status.busy": "2023-12-22T11:26:45.389771Z",
     "iopub.status.idle": "2023-12-22T11:26:45.394046Z",
     "shell.execute_reply": "2023-12-22T11:26:45.393711Z"
    },
    "papermill": {
     "duration": 0.00686,
     "end_time": "2023-12-22T11:26:45.394884",
     "exception": false,
     "start_time": "2023-12-22T11:26:45.388024",
     "status": "completed"
    },
    "tags": []
   },
   "outputs": [],
   "source": [
    "pd.DataFrame({\n",
    "  'orders': tickets.groupby('ward_code').number_of_tickets.count(),\n",
    "  'tickets': tickets.groupby('ward_code').number_of_tickets.sum().astype(int),\n",
    "}).to_csv(os.path.join(OUTPUT_DIR, 'tickets_by_ward.csv'))"
   ]
  },
  {
   "cell_type": "code",
   "execution_count": 9,
   "id": "e5f848f2",
   "metadata": {
    "execution": {
     "iopub.execute_input": "2023-12-22T11:26:45.397890Z",
     "iopub.status.busy": "2023-12-22T11:26:45.397777Z",
     "iopub.status.idle": "2023-12-22T11:26:45.402542Z",
     "shell.execute_reply": "2023-12-22T11:26:45.402212Z"
    },
    "papermill": {
     "duration": 0.007507,
     "end_time": "2023-12-22T11:26:45.403557",
     "exception": false,
     "start_time": "2023-12-22T11:26:45.396050",
     "status": "completed"
    },
    "tags": []
   },
   "outputs": [],
   "source": [
    "pd.DataFrame({\n",
    "  'orders': tickets.groupby('event_date').number_of_tickets.count(),\n",
    "  'tickets': tickets.groupby('event_date').number_of_tickets.sum().astype(int),\n",
    "}).resample('M').sum().to_csv(os.path.join(OUTPUT_DIR, 'tickets_by_event_date.csv'))"
   ]
  },
  {
   "cell_type": "code",
   "execution_count": 10,
   "id": "3769df56",
   "metadata": {
    "execution": {
     "iopub.execute_input": "2023-12-22T11:26:45.407533Z",
     "iopub.status.busy": "2023-12-22T11:26:45.407372Z",
     "iopub.status.idle": "2023-12-22T11:26:45.410548Z",
     "shell.execute_reply": "2023-12-22T11:26:45.410244Z"
    },
    "papermill": {
     "duration": 0.006077,
     "end_time": "2023-12-22T11:26:45.411188",
     "exception": false,
     "start_time": "2023-12-22T11:26:45.405111",
     "status": "completed"
    },
    "tags": []
   },
   "outputs": [],
   "source": [
    "pd.Series({\n",
    "    'total_events': events.event_unique_identifier.count(),\n",
    "    'total_attendances': events.attendances.count(),\n",
    "    'first_event': events.date.min(),\n",
    "    'latest_event': events.date.max(),\n",
    "    'total_ticket_orders_for_events_to_date': tickets.number_of_tickets.count(),\n",
    "    'total_tickets_sold_for_events_to_date': tickets.number_of_tickets.sum(),\n",
    "}).to_json(os.path.join(OUTPUT_DIR, 'headlines.json'), indent=2)"
   ]
  },
  {
   "cell_type": "code",
   "execution_count": null,
   "id": "8d0b2225",
   "metadata": {
    "papermill": {
     "duration": 0.001116,
     "end_time": "2023-12-22T11:26:45.413540",
     "exception": false,
     "start_time": "2023-12-22T11:26:45.412424",
     "status": "completed"
    },
    "tags": []
   },
   "outputs": [],
   "source": []
  }
 ],
 "metadata": {
  "kernelspec": {
   "display_name": "leeds-2023-YZF5GfJv",
   "language": "python",
   "name": "python3"
  },
  "language_info": {
   "codemirror_mode": {
    "name": "ipython",
    "version": 3
   },
   "file_extension": ".py",
   "mimetype": "text/x-python",
   "name": "python",
   "nbconvert_exporter": "python",
   "pygments_lexer": "ipython3",
   "version": "3.10.12"
  },
  "papermill": {
   "default_parameters": {},
   "duration": 6.367817,
   "end_time": "2023-12-22T11:26:45.628979",
   "environment_variables": {},
   "exception": null,
   "input_path": "prepare.ipynb",
   "output_path": "../../../../working/output/signature-prepare.ipynb",
   "parameters": {},
   "start_time": "2023-12-22T11:26:39.261162",
   "version": "2.4.0"
  }
 },
 "nbformat": 4,
 "nbformat_minor": 5
}