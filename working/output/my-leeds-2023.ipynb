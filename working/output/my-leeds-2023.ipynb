{
 "cells": [
  {
   "cell_type": "markdown",
   "id": "0dce409e",
   "metadata": {
    "papermill": {
     "duration": 0.002807,
     "end_time": "2023-07-24T23:38:33.377172",
     "exception": false,
     "start_time": "2023-07-24T23:38:33.374365",
     "status": "completed"
    },
    "tags": []
   },
   "source": [
    "# My LEEDS 2023\n",
    "\n",
    "Prepares data for the My LEEDS 2023 page "
   ]
  },
  {
   "cell_type": "code",
   "execution_count": 1,
   "id": "864a17d0",
   "metadata": {
    "execution": {
     "iopub.execute_input": "2023-07-24T23:38:33.383229Z",
     "iopub.status.busy": "2023-07-24T23:38:33.382743Z",
     "iopub.status.idle": "2023-07-24T23:38:43.092186Z",
     "shell.execute_reply": "2023-07-24T23:38:43.091484Z"
    },
    "papermill": {
     "duration": 9.714518,
     "end_time": "2023-07-24T23:38:43.094113",
     "exception": false,
     "start_time": "2023-07-24T23:38:33.379595",
     "status": "completed"
    },
    "tags": []
   },
   "outputs": [],
   "source": [
    "from events import (\n",
    "    load_event_data, filter_by_project, prepare, save_files, count_wards\n",
    ")"
   ]
  },
  {
   "cell_type": "markdown",
   "id": "bbece76b",
   "metadata": {
    "papermill": {
     "duration": 0.002003,
     "end_time": "2023-07-24T23:38:43.098367",
     "exception": false,
     "start_time": "2023-07-24T23:38:43.096364",
     "status": "completed"
    },
    "tags": []
   },
   "source": [
    "Set output directory"
   ]
  },
  {
   "cell_type": "code",
   "execution_count": 2,
   "id": "393aa0b6",
   "metadata": {
    "execution": {
     "iopub.execute_input": "2023-07-24T23:38:43.103546Z",
     "iopub.status.busy": "2023-07-24T23:38:43.103108Z",
     "iopub.status.idle": "2023-07-24T23:38:43.106512Z",
     "shell.execute_reply": "2023-07-24T23:38:43.105844Z"
    },
    "papermill": {
     "duration": 0.007781,
     "end_time": "2023-07-24T23:38:43.108009",
     "exception": false,
     "start_time": "2023-07-24T23:38:43.100228",
     "status": "completed"
    },
    "tags": []
   },
   "outputs": [],
   "source": [
    "OUT_DIR = '../../../../docs/metrics/events/my-leeds-2023/_data/events'"
   ]
  },
  {
   "cell_type": "markdown",
   "id": "b0002122",
   "metadata": {
    "papermill": {
     "duration": 0.001896,
     "end_time": "2023-07-24T23:38:43.111829",
     "exception": false,
     "start_time": "2023-07-24T23:38:43.109933",
     "status": "completed"
    },
    "tags": []
   },
   "source": [
    "Read in event data and filter by **My LEEDS 2023** project"
   ]
  },
  {
   "cell_type": "code",
   "execution_count": 3,
   "id": "0f3f96e2",
   "metadata": {
    "execution": {
     "iopub.execute_input": "2023-07-24T23:38:43.117348Z",
     "iopub.status.busy": "2023-07-24T23:38:43.116608Z",
     "iopub.status.idle": "2023-07-24T23:38:43.131300Z",
     "shell.execute_reply": "2023-07-24T23:38:43.130716Z"
    },
    "papermill": {
     "duration": 0.019294,
     "end_time": "2023-07-24T23:38:43.133037",
     "exception": false,
     "start_time": "2023-07-24T23:38:43.113743",
     "status": "completed"
    },
    "tags": []
   },
   "outputs": [],
   "source": [
    "data = load_event_data().pipe(filter_by_project, '12 - My LEEDS 2023')"
   ]
  },
  {
   "cell_type": "markdown",
   "id": "9d3bfd0f",
   "metadata": {
    "papermill": {
     "duration": 0.002024,
     "end_time": "2023-07-24T23:38:43.138205",
     "exception": false,
     "start_time": "2023-07-24T23:38:43.136181",
     "status": "completed"
    },
    "tags": []
   },
   "source": [
    "Run the processing and save the files"
   ]
  },
  {
   "cell_type": "code",
   "execution_count": 4,
   "id": "6f2405cc",
   "metadata": {
    "execution": {
     "iopub.execute_input": "2023-07-24T23:38:43.143566Z",
     "iopub.status.busy": "2023-07-24T23:38:43.142973Z",
     "iopub.status.idle": "2023-07-24T23:38:43.228300Z",
     "shell.execute_reply": "2023-07-24T23:38:43.227622Z"
    },
    "papermill": {
     "duration": 0.090455,
     "end_time": "2023-07-24T23:38:43.230651",
     "exception": false,
     "start_time": "2023-07-24T23:38:43.140196",
     "status": "completed"
    },
    "tags": []
   },
   "outputs": [],
   "source": [
    "data = data.pipe(prepare).pipe(save_files, OUT_DIR)"
   ]
  },
  {
   "cell_type": "markdown",
   "id": "53b23de6",
   "metadata": {
    "papermill": {
     "duration": 0.002117,
     "end_time": "2023-07-24T23:38:43.235020",
     "exception": false,
     "start_time": "2023-07-24T23:38:43.232903",
     "status": "completed"
    },
    "tags": []
   },
   "source": [
    "Print a list of events which have no ward, or more than one"
   ]
  },
  {
   "cell_type": "code",
   "execution_count": 5,
   "id": "e749d8c0",
   "metadata": {
    "execution": {
     "iopub.execute_input": "2023-07-24T23:38:43.240505Z",
     "iopub.status.busy": "2023-07-24T23:38:43.239962Z",
     "iopub.status.idle": "2023-07-24T23:38:43.256331Z",
     "shell.execute_reply": "2023-07-24T23:38:43.255692Z"
    },
    "papermill": {
     "duration": 0.020772,
     "end_time": "2023-07-24T23:38:43.257761",
     "exception": false,
     "start_time": "2023-07-24T23:38:43.236989",
     "status": "completed"
    },
    "tags": []
   },
   "outputs": [
    {
     "data": {
      "text/html": [
       "<div>\n",
       "<style scoped>\n",
       "    .dataframe tbody tr th:only-of-type {\n",
       "        vertical-align: middle;\n",
       "    }\n",
       "\n",
       "    .dataframe tbody tr th {\n",
       "        vertical-align: top;\n",
       "    }\n",
       "\n",
       "    .dataframe thead th {\n",
       "        text-align: right;\n",
       "    }\n",
       "</style>\n",
       "<table border=\"1\" class=\"dataframe\">\n",
       "  <thead>\n",
       "    <tr style=\"text-align: right;\">\n",
       "      <th></th>\n",
       "      <th>airtable_id</th>\n",
       "      <th>event_name</th>\n",
       "      <th>start_date</th>\n",
       "      <th>ward_(from_venue)</th>\n",
       "    </tr>\n",
       "  </thead>\n",
       "  <tbody>\n",
       "    <tr>\n",
       "      <th>768</th>\n",
       "      <td>657</td>\n",
       "      <td>The Gift: Garments</td>\n",
       "      <td>2023-06-17</td>\n",
       "      <td>NaN</td>\n",
       "    </tr>\n",
       "    <tr>\n",
       "      <th>770</th>\n",
       "      <td>656</td>\n",
       "      <td>The Gift: digital gift launch</td>\n",
       "      <td>2023-06-19</td>\n",
       "      <td>NaN</td>\n",
       "    </tr>\n",
       "    <tr>\n",
       "      <th>828</th>\n",
       "      <td>265</td>\n",
       "      <td>My Leeds Event Day 1 (Live Activation)</td>\n",
       "      <td>2023-07-08</td>\n",
       "      <td>NaN</td>\n",
       "    </tr>\n",
       "    <tr>\n",
       "      <th>830</th>\n",
       "      <td>430</td>\n",
       "      <td>My LEEDS Summer: Alwoodley Festival of Sport a...</td>\n",
       "      <td>2023-07-09</td>\n",
       "      <td>['Alwoodley', 'Alwoodley', 'Alwoodley', 'Alwoo...</td>\n",
       "    </tr>\n",
       "  </tbody>\n",
       "</table>\n",
       "</div>"
      ],
      "text/plain": [
       "     airtable_id                                         event_name  \\\n",
       "768          657                                 The Gift: Garments   \n",
       "770          656                     The Gift: digital gift launch    \n",
       "828          265             My Leeds Event Day 1 (Live Activation)   \n",
       "830          430  My LEEDS Summer: Alwoodley Festival of Sport a...   \n",
       "\n",
       "    start_date                                  ward_(from_venue)  \n",
       "768 2023-06-17                                                NaN  \n",
       "770 2023-06-19                                                NaN  \n",
       "828 2023-07-08                                                NaN  \n",
       "830 2023-07-09  ['Alwoodley', 'Alwoodley', 'Alwoodley', 'Alwoo...  "
      ]
     },
     "execution_count": 5,
     "metadata": {},
     "output_type": "execute_result"
    }
   ],
   "source": [
    "data[data.pipe(count_wards) != 1][[\n",
    "    'airtable_id',\n",
    "    'event_name',\n",
    "    'start_date',\n",
    "    'ward_(from_venue)',\n",
    "]]"
   ]
  },
  {
   "cell_type": "markdown",
   "id": "7e0b3cd2",
   "metadata": {
    "papermill": {
     "duration": 0.002244,
     "end_time": "2023-07-24T23:38:43.262364",
     "exception": false,
     "start_time": "2023-07-24T23:38:43.260120",
     "status": "completed"
    },
    "tags": []
   },
   "source": [
    "Print a list of events with no audience recorded"
   ]
  },
  {
   "cell_type": "code",
   "execution_count": 6,
   "id": "83b0897e",
   "metadata": {
    "execution": {
     "iopub.execute_input": "2023-07-24T23:38:43.268092Z",
     "iopub.status.busy": "2023-07-24T23:38:43.267611Z",
     "iopub.status.idle": "2023-07-24T23:38:43.279642Z",
     "shell.execute_reply": "2023-07-24T23:38:43.278971Z"
    },
    "papermill": {
     "duration": 0.017494,
     "end_time": "2023-07-24T23:38:43.282081",
     "exception": false,
     "start_time": "2023-07-24T23:38:43.264587",
     "status": "completed"
    },
    "tags": []
   },
   "outputs": [
    {
     "data": {
      "text/html": [
       "<div>\n",
       "<style scoped>\n",
       "    .dataframe tbody tr th:only-of-type {\n",
       "        vertical-align: middle;\n",
       "    }\n",
       "\n",
       "    .dataframe tbody tr th {\n",
       "        vertical-align: top;\n",
       "    }\n",
       "\n",
       "    .dataframe thead th {\n",
       "        text-align: right;\n",
       "    }\n",
       "</style>\n",
       "<table border=\"1\" class=\"dataframe\">\n",
       "  <thead>\n",
       "    <tr style=\"text-align: right;\">\n",
       "      <th></th>\n",
       "      <th>airtable_id</th>\n",
       "      <th>event_name</th>\n",
       "      <th>start_date</th>\n",
       "      <th>audience_size</th>\n",
       "    </tr>\n",
       "  </thead>\n",
       "  <tbody>\n",
       "    <tr>\n",
       "      <th>265</th>\n",
       "      <td>560</td>\n",
       "      <td>Pudsey Grant Info Session</td>\n",
       "      <td>2023-02-13</td>\n",
       "      <td>0.0</td>\n",
       "    </tr>\n",
       "    <tr>\n",
       "      <th>266</th>\n",
       "      <td>561</td>\n",
       "      <td>Rothwell Grant Info Session</td>\n",
       "      <td>2023-02-13</td>\n",
       "      <td>0.0</td>\n",
       "    </tr>\n",
       "    <tr>\n",
       "      <th>268</th>\n",
       "      <td>562</td>\n",
       "      <td>Roundhay Grant Info Session 1</td>\n",
       "      <td>2023-02-13</td>\n",
       "      <td>0.0</td>\n",
       "    </tr>\n",
       "    <tr>\n",
       "      <th>280</th>\n",
       "      <td>567</td>\n",
       "      <td>Wetherby Grant Info Session 1</td>\n",
       "      <td>2023-02-14</td>\n",
       "      <td>0.0</td>\n",
       "    </tr>\n",
       "    <tr>\n",
       "      <th>289</th>\n",
       "      <td>565</td>\n",
       "      <td>Weetwood Grant Info Session 1</td>\n",
       "      <td>2023-02-15</td>\n",
       "      <td>0.0</td>\n",
       "    </tr>\n",
       "    <tr>\n",
       "      <th>300</th>\n",
       "      <td>563</td>\n",
       "      <td>Roundhay Grant Info Session 2</td>\n",
       "      <td>2023-02-16</td>\n",
       "      <td>0.0</td>\n",
       "    </tr>\n",
       "    <tr>\n",
       "      <th>303</th>\n",
       "      <td>564</td>\n",
       "      <td>Temple Newsam Grant Info Session</td>\n",
       "      <td>2023-02-16</td>\n",
       "      <td>0.0</td>\n",
       "    </tr>\n",
       "    <tr>\n",
       "      <th>315</th>\n",
       "      <td>566</td>\n",
       "      <td>Weetwood Grant Info Session 2</td>\n",
       "      <td>2023-02-19</td>\n",
       "      <td>0.0</td>\n",
       "    </tr>\n",
       "    <tr>\n",
       "      <th>323</th>\n",
       "      <td>558</td>\n",
       "      <td>Otley and Yeadon Grant Info Session 1</td>\n",
       "      <td>2023-02-20</td>\n",
       "      <td>0.0</td>\n",
       "    </tr>\n",
       "    <tr>\n",
       "      <th>334</th>\n",
       "      <td>559</td>\n",
       "      <td>Otley and Yeadon Grant Info Session 2</td>\n",
       "      <td>2023-02-21</td>\n",
       "      <td>0.0</td>\n",
       "    </tr>\n",
       "    <tr>\n",
       "      <th>336</th>\n",
       "      <td>568</td>\n",
       "      <td>Wetherby Grant Info Session 2</td>\n",
       "      <td>2023-02-21</td>\n",
       "      <td>0.0</td>\n",
       "    </tr>\n",
       "    <tr>\n",
       "      <th>768</th>\n",
       "      <td>657</td>\n",
       "      <td>The Gift: Garments</td>\n",
       "      <td>2023-06-17</td>\n",
       "      <td>0.0</td>\n",
       "    </tr>\n",
       "    <tr>\n",
       "      <th>770</th>\n",
       "      <td>656</td>\n",
       "      <td>The Gift: digital gift launch</td>\n",
       "      <td>2023-06-19</td>\n",
       "      <td>0.0</td>\n",
       "    </tr>\n",
       "    <tr>\n",
       "      <th>778</th>\n",
       "      <td>417</td>\n",
       "      <td>My LEEDS Summer: Moortown Picnic in the Park</td>\n",
       "      <td>2023-06-24</td>\n",
       "      <td>0.0</td>\n",
       "    </tr>\n",
       "    <tr>\n",
       "      <th>810</th>\n",
       "      <td>425</td>\n",
       "      <td>My LEEDS Summer: Guiseley and Rawdon Feast</td>\n",
       "      <td>2023-07-02</td>\n",
       "      <td>0.0</td>\n",
       "    </tr>\n",
       "    <tr>\n",
       "      <th>827</th>\n",
       "      <td>428</td>\n",
       "      <td>My LEEDS Summer: Gipton &amp; Harehills</td>\n",
       "      <td>2023-07-08</td>\n",
       "      <td>0.0</td>\n",
       "    </tr>\n",
       "    <tr>\n",
       "      <th>828</th>\n",
       "      <td>265</td>\n",
       "      <td>My Leeds Event Day 1 (Live Activation)</td>\n",
       "      <td>2023-07-08</td>\n",
       "      <td>0.0</td>\n",
       "    </tr>\n",
       "    <tr>\n",
       "      <th>852</th>\n",
       "      <td>435</td>\n",
       "      <td>My LEEDS Summer: Headingley &amp; Hyde Park</td>\n",
       "      <td>2023-07-22</td>\n",
       "      <td>0.0</td>\n",
       "    </tr>\n",
       "    <tr>\n",
       "      <th>857</th>\n",
       "      <td>446</td>\n",
       "      <td>My LEEDS Summer: Morley South</td>\n",
       "      <td>2023-07-23</td>\n",
       "      <td>0.0</td>\n",
       "    </tr>\n",
       "  </tbody>\n",
       "</table>\n",
       "</div>"
      ],
      "text/plain": [
       "     airtable_id                                    event_name start_date  \\\n",
       "265          560                     Pudsey Grant Info Session 2023-02-13   \n",
       "266          561                   Rothwell Grant Info Session 2023-02-13   \n",
       "268          562                 Roundhay Grant Info Session 1 2023-02-13   \n",
       "280          567                 Wetherby Grant Info Session 1 2023-02-14   \n",
       "289          565                 Weetwood Grant Info Session 1 2023-02-15   \n",
       "300          563                 Roundhay Grant Info Session 2 2023-02-16   \n",
       "303          564              Temple Newsam Grant Info Session 2023-02-16   \n",
       "315          566                 Weetwood Grant Info Session 2 2023-02-19   \n",
       "323          558         Otley and Yeadon Grant Info Session 1 2023-02-20   \n",
       "334          559         Otley and Yeadon Grant Info Session 2 2023-02-21   \n",
       "336          568                 Wetherby Grant Info Session 2 2023-02-21   \n",
       "768          657                            The Gift: Garments 2023-06-17   \n",
       "770          656                The Gift: digital gift launch  2023-06-19   \n",
       "778          417  My LEEDS Summer: Moortown Picnic in the Park 2023-06-24   \n",
       "810          425    My LEEDS Summer: Guiseley and Rawdon Feast 2023-07-02   \n",
       "827          428           My LEEDS Summer: Gipton & Harehills 2023-07-08   \n",
       "828          265        My Leeds Event Day 1 (Live Activation) 2023-07-08   \n",
       "852          435       My LEEDS Summer: Headingley & Hyde Park 2023-07-22   \n",
       "857          446                 My LEEDS Summer: Morley South 2023-07-23   \n",
       "\n",
       "     audience_size  \n",
       "265            0.0  \n",
       "266            0.0  \n",
       "268            0.0  \n",
       "280            0.0  \n",
       "289            0.0  \n",
       "300            0.0  \n",
       "303            0.0  \n",
       "315            0.0  \n",
       "323            0.0  \n",
       "334            0.0  \n",
       "336            0.0  \n",
       "768            0.0  \n",
       "770            0.0  \n",
       "778            0.0  \n",
       "810            0.0  \n",
       "827            0.0  \n",
       "828            0.0  \n",
       "852            0.0  \n",
       "857            0.0  "
      ]
     },
     "execution_count": 6,
     "metadata": {},
     "output_type": "execute_result"
    }
   ],
   "source": [
    "data[data.audience_size == 0][[\n",
    "    'airtable_id', 'event_name', 'start_date', 'audience_size'\n",
    "]]"
   ]
  },
  {
   "cell_type": "code",
   "execution_count": 7,
   "id": "4701c710",
   "metadata": {
    "execution": {
     "iopub.execute_input": "2023-07-24T23:38:43.288605Z",
     "iopub.status.busy": "2023-07-24T23:38:43.288053Z",
     "iopub.status.idle": "2023-07-24T23:38:43.786468Z",
     "shell.execute_reply": "2023-07-24T23:38:43.785764Z"
    },
    "papermill": {
     "duration": 0.503806,
     "end_time": "2023-07-24T23:38:43.788452",
     "exception": false,
     "start_time": "2023-07-24T23:38:43.284646",
     "status": "completed"
    },
    "tags": []
   },
   "outputs": [
    {
     "data": {
      "text/plain": [
       "event_type\n",
       "['Public Event - Digital Experience']     1\n",
       "['Public Event - Installation']           1\n",
       "['Public Event - Performance']           25\n",
       "['Public Event - Talk / Tour']           11\n",
       "Name: event_name, dtype: int64"
      ]
     },
     "execution_count": 7,
     "metadata": {},
     "output_type": "execute_result"
    },
    {
     "data": {
      "image/png": "[encoded data removed]",
      "text/plain": [
       "<Figure size 640x480 with 1 Axes>"
      ]
     },
     "metadata": {},
     "output_type": "display_data"
    }
   ],
   "source": [
    "plot = data.groupby('event_type').event_name.count().plot.barh()\n",
    "plot.xaxis.label.set_text('Number of events')\n",
    "plot.yaxis.label.set_text('Event Type Labels')\n",
    "data.groupby('event_type').event_name.count()"
   ]
  }
 ],
 "metadata": {
  "kernelspec": {
   "display_name": "leeds-2023-YZF5GfJv",
   "language": "python",
   "name": "python3"
  },
  "language_info": {
   "codemirror_mode": {
    "name": "ipython",
    "version": 3
   },
   "file_extension": ".py",
   "mimetype": "text/x-python",
   "name": "python",
   "nbconvert_exporter": "python",
   "pygments_lexer": "ipython3",
   "version": "3.10.6"
  },
  "papermill": {
   "default_parameters": {},
   "duration": 12.180082,
   "end_time": "2023-07-24T23:38:44.208813",
   "environment_variables": {},
   "exception": null,
   "input_path": "my-leeds-2023.ipynb",
   "output_path": "../../../../working/output/my-leeds-2023.ipynb",
   "parameters": {},
   "start_time": "2023-07-24T23:38:32.028731",
   "version": "2.4.0"
  }
 },
 "nbformat": 4,
 "nbformat_minor": 5
}