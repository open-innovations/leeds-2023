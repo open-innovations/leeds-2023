{
 "cells": [
  {
   "cell_type": "code",
   "execution_count": 1,
   "id": "e1c80b85",
   "metadata": {
    "execution": {
     "iopub.execute_input": "2023-09-18T23:40:20.061833Z",
     "iopub.status.busy": "2023-09-18T23:40:20.061271Z",
     "iopub.status.idle": "2023-09-18T23:40:20.068735Z",
     "shell.execute_reply": "2023-09-18T23:40:20.068049Z"
    },
    "papermill": {
     "duration": 0.012911,
     "end_time": "2023-09-18T23:40:20.070340",
     "exception": false,
     "start_time": "2023-09-18T23:40:20.057429",
     "status": "completed"
    },
    "tags": []
   },
   "outputs": [],
   "source": [
    "import os\n",
    "import sys\n",
    "\n",
    "TOP_DIR=os.path.realpath(\"../../..\")\n",
    "if TOP_DIR not in sys.path: sys.path.append(TOP_DIR)"
   ]
  },
  {
   "cell_type": "code",
   "execution_count": 2,
   "id": "4de82f5a",
   "metadata": {
    "execution": {
     "iopub.execute_input": "2023-09-18T23:40:20.076357Z",
     "iopub.status.busy": "2023-09-18T23:40:20.075805Z",
     "iopub.status.idle": "2023-09-18T23:40:29.947894Z",
     "shell.execute_reply": "2023-09-18T23:40:29.947216Z"
    },
    "papermill": {
     "duration": 9.876884,
     "end_time": "2023-09-18T23:40:29.949625",
     "exception": false,
     "start_time": "2023-09-18T23:40:20.072741",
     "status": "completed"
    },
    "tags": []
   },
   "outputs": [],
   "source": [
    "import pandas as pd\n",
    "import numpy as np\n",
    "from lib.util.convert import standardise_columns, literal_converter\n",
    "from lib.util.geo import normalise_leeds_wards, ward_name_to_code"
   ]
  },
  {
   "cell_type": "code",
   "execution_count": 3,
   "id": "4a09dfa0",
   "metadata": {
    "execution": {
     "iopub.execute_input": "2023-09-18T23:40:29.955823Z",
     "iopub.status.busy": "2023-09-18T23:40:29.955443Z",
     "iopub.status.idle": "2023-09-18T23:40:29.977856Z",
     "shell.execute_reply": "2023-09-18T23:40:29.977264Z"
    },
    "papermill": {
     "duration": 0.027484,
     "end_time": "2023-09-18T23:40:29.979532",
     "exception": false,
     "start_time": "2023-09-18T23:40:29.952048",
     "status": "completed"
    },
    "tags": []
   },
   "outputs": [],
   "source": [
    "data = pd.read_csv('../../../working/metrics/community/events.csv', parse_dates=['Start date'])\n",
    "data = data.rename(columns=standardise_columns)"
   ]
  },
  {
   "cell_type": "code",
   "execution_count": 4,
   "id": "3d59b94b",
   "metadata": {
    "execution": {
     "iopub.execute_input": "2023-09-18T23:40:29.985104Z",
     "iopub.status.busy": "2023-09-18T23:40:29.984692Z",
     "iopub.status.idle": "2023-09-18T23:40:29.995161Z",
     "shell.execute_reply": "2023-09-18T23:40:29.994586Z"
    },
    "papermill": {
     "duration": 0.014743,
     "end_time": "2023-09-18T23:40:29.996522",
     "exception": false,
     "start_time": "2023-09-18T23:40:29.981779",
     "status": "completed"
    },
    "tags": []
   },
   "outputs": [],
   "source": [
    "wards = data['ward_(from_venue)'].fillna('[]').pipe(literal_converter).apply(np.unique)"
   ]
  },
  {
   "cell_type": "code",
   "execution_count": 5,
   "id": "fcffc5bc",
   "metadata": {
    "execution": {
     "iopub.execute_input": "2023-09-18T23:40:30.002089Z",
     "iopub.status.busy": "2023-09-18T23:40:30.001560Z",
     "iopub.status.idle": "2023-09-18T23:40:30.391485Z",
     "shell.execute_reply": "2023-09-18T23:40:30.390815Z"
    },
    "papermill": {
     "duration": 0.394741,
     "end_time": "2023-09-18T23:40:30.393449",
     "exception": false,
     "start_time": "2023-09-18T23:40:29.998708",
     "status": "completed"
    },
    "tags": []
   },
   "outputs": [],
   "source": [
    "data['ward_name'] = wards.apply(lambda x: x[0] if len(x) > 0 else np.nan).pipe(normalise_leeds_wards)\n",
    "data['ward_code'] = data.ward_name.pipe(ward_name_to_code)\n",
    "data['audience'] = data.actual_audience_size_number_of_participants_in_person\n",
    "cleaned_data = data.loc[:, ['event_name', 'project_name', 'start_date', 'ward_name', 'ward_code', 'audience']]"
   ]
  },
  {
   "cell_type": "code",
   "execution_count": 6,
   "id": "2baaf180",
   "metadata": {
    "execution": {
     "iopub.execute_input": "2023-09-18T23:40:30.400093Z",
     "iopub.status.busy": "2023-09-18T23:40:30.399607Z",
     "iopub.status.idle": "2023-09-18T23:40:30.407493Z",
     "shell.execute_reply": "2023-09-18T23:40:30.406877Z"
    },
    "papermill": {
     "duration": 0.013043,
     "end_time": "2023-09-18T23:40:30.409018",
     "exception": false,
     "start_time": "2023-09-18T23:40:30.395975",
     "status": "completed"
    },
    "tags": []
   },
   "outputs": [],
   "source": [
    "DATA_DIR='../../../data/metrics/community'\n",
    "os.makedirs(DATA_DIR, exist_ok=True)\n",
    "cleaned_data.to_csv(os.path.join(DATA_DIR, 'events.csv'), index=False)"
   ]
  },
  {
   "cell_type": "markdown",
   "id": "c3f9ee77",
   "metadata": {
    "papermill": {
     "duration": 0.002259,
     "end_time": "2023-09-18T23:40:30.413713",
     "exception": false,
     "start_time": "2023-09-18T23:40:30.411454",
     "status": "completed"
    },
    "tags": []
   },
   "source": [
    "Missing or duplicated wards"
   ]
  },
  {
   "cell_type": "code",
   "execution_count": 7,
   "id": "906a68db",
   "metadata": {
    "execution": {
     "iopub.execute_input": "2023-09-18T23:40:30.419389Z",
     "iopub.status.busy": "2023-09-18T23:40:30.418994Z",
     "iopub.status.idle": "2023-09-18T23:40:30.435171Z",
     "shell.execute_reply": "2023-09-18T23:40:30.434449Z"
    },
    "papermill": {
     "duration": 0.020832,
     "end_time": "2023-09-18T23:40:30.436779",
     "exception": false,
     "start_time": "2023-09-18T23:40:30.415947",
     "status": "completed"
    },
    "tags": []
   },
   "outputs": [
    {
     "data": {
      "text/html": [
       "<div>\n",
       "<style scoped>\n",
       "    .dataframe tbody tr th:only-of-type {\n",
       "        vertical-align: middle;\n",
       "    }\n",
       "\n",
       "    .dataframe tbody tr th {\n",
       "        vertical-align: top;\n",
       "    }\n",
       "\n",
       "    .dataframe thead th {\n",
       "        text-align: right;\n",
       "    }\n",
       "</style>\n",
       "<table border=\"1\" class=\"dataframe\">\n",
       "  <thead>\n",
       "    <tr style=\"text-align: right;\">\n",
       "      <th></th>\n",
       "      <th>project_name</th>\n",
       "      <th>event_name</th>\n",
       "      <th>start_date</th>\n",
       "      <th>ward_(from_venue)</th>\n",
       "    </tr>\n",
       "  </thead>\n",
       "  <tbody>\n",
       "    <tr>\n",
       "      <th>49</th>\n",
       "      <td>01 - The Awakening</td>\n",
       "      <td>Creation Station - Leeds City Council</td>\n",
       "      <td>2022-11-23</td>\n",
       "      <td>NaN</td>\n",
       "    </tr>\n",
       "    <tr>\n",
       "      <th>50</th>\n",
       "      <td>01 - The Awakening</td>\n",
       "      <td>Creation Station - Leeds City Council</td>\n",
       "      <td>2022-11-24</td>\n",
       "      <td>NaN</td>\n",
       "    </tr>\n",
       "    <tr>\n",
       "      <th>64</th>\n",
       "      <td>01 - The Awakening</td>\n",
       "      <td>Creation Station - Yorkshire Schools Dance Fes...</td>\n",
       "      <td>2022-11-19</td>\n",
       "      <td>NaN</td>\n",
       "    </tr>\n",
       "    <tr>\n",
       "      <th>66</th>\n",
       "      <td>01 - The Awakening</td>\n",
       "      <td>Creation Station: Ballot Engagement</td>\n",
       "      <td>NaT</td>\n",
       "      <td>NaN</td>\n",
       "    </tr>\n",
       "    <tr>\n",
       "      <th>68</th>\n",
       "      <td>01 - The Awakening</td>\n",
       "      <td>Leeds Arts University - Creation Station</td>\n",
       "      <td>NaT</td>\n",
       "      <td>NaN</td>\n",
       "    </tr>\n",
       "    <tr>\n",
       "      <th>...</th>\n",
       "      <td>...</td>\n",
       "      <td>...</td>\n",
       "      <td>...</td>\n",
       "      <td>...</td>\n",
       "    </tr>\n",
       "    <tr>\n",
       "      <th>288</th>\n",
       "      <td>Waking the Artist</td>\n",
       "      <td>Spring Gardens Pack</td>\n",
       "      <td>2023-03-23</td>\n",
       "      <td>NaN</td>\n",
       "    </tr>\n",
       "    <tr>\n",
       "      <th>289</th>\n",
       "      <td>Waking the Artist</td>\n",
       "      <td>The Den Headingley Pack</td>\n",
       "      <td>2023-02-13</td>\n",
       "      <td>NaN</td>\n",
       "    </tr>\n",
       "    <tr>\n",
       "      <th>290</th>\n",
       "      <td>Waking the Artist</td>\n",
       "      <td>Turning Lives Around Pack</td>\n",
       "      <td>2023-02-22</td>\n",
       "      <td>NaN</td>\n",
       "    </tr>\n",
       "    <tr>\n",
       "      <th>292</th>\n",
       "      <td>Waking the Artist</td>\n",
       "      <td>Wetherby Town Hall Pack</td>\n",
       "      <td>2023-02-25</td>\n",
       "      <td>NaN</td>\n",
       "    </tr>\n",
       "    <tr>\n",
       "      <th>293</th>\n",
       "      <td>Waking the Artist</td>\n",
       "      <td>Who Let The Dads Out Fulneck Moravian Church Pack</td>\n",
       "      <td>2023-02-22</td>\n",
       "      <td>NaN</td>\n",
       "    </tr>\n",
       "  </tbody>\n",
       "</table>\n",
       "<p>77 rows × 4 columns</p>\n",
       "</div>"
      ],
      "text/plain": [
       "           project_name                                         event_name  \\\n",
       "49   01 - The Awakening             Creation Station - Leeds City Council    \n",
       "50   01 - The Awakening             Creation Station - Leeds City Council    \n",
       "64   01 - The Awakening  Creation Station - Yorkshire Schools Dance Fes...   \n",
       "66   01 - The Awakening               Creation Station: Ballot Engagement    \n",
       "68   01 - The Awakening           Leeds Arts University - Creation Station   \n",
       "..                  ...                                                ...   \n",
       "288   Waking the Artist                                Spring Gardens Pack   \n",
       "289   Waking the Artist                            The Den Headingley Pack   \n",
       "290   Waking the Artist                          Turning Lives Around Pack   \n",
       "292   Waking the Artist                            Wetherby Town Hall Pack   \n",
       "293   Waking the Artist  Who Let The Dads Out Fulneck Moravian Church Pack   \n",
       "\n",
       "    start_date ward_(from_venue)  \n",
       "49  2022-11-23               NaN  \n",
       "50  2022-11-24               NaN  \n",
       "64  2022-11-19               NaN  \n",
       "66         NaT               NaN  \n",
       "68         NaT               NaN  \n",
       "..         ...               ...  \n",
       "288 2023-03-23               NaN  \n",
       "289 2023-02-13               NaN  \n",
       "290 2023-02-22               NaN  \n",
       "292 2023-02-25               NaN  \n",
       "293 2023-02-22               NaN  \n",
       "\n",
       "[77 rows x 4 columns]"
      ]
     },
     "execution_count": 7,
     "metadata": {},
     "output_type": "execute_result"
    }
   ],
   "source": [
    "data.loc[wards.apply(len) != 1, ['project_name', 'event_name', 'start_date', 'ward_(from_venue)']]"
   ]
  },
  {
   "cell_type": "markdown",
   "id": "49852e7e",
   "metadata": {
    "papermill": {
     "duration": 0.002595,
     "end_time": "2023-09-18T23:40:30.442017",
     "exception": false,
     "start_time": "2023-09-18T23:40:30.439422",
     "status": "completed"
    },
    "tags": []
   },
   "source": [
    "Missing audience"
   ]
  },
  {
   "cell_type": "code",
   "execution_count": 8,
   "id": "24bf066c",
   "metadata": {
    "execution": {
     "iopub.execute_input": "2023-09-18T23:40:30.448314Z",
     "iopub.status.busy": "2023-09-18T23:40:30.447884Z",
     "iopub.status.idle": "2023-09-18T23:40:30.460297Z",
     "shell.execute_reply": "2023-09-18T23:40:30.459539Z"
    },
    "papermill": {
     "duration": 0.01733,
     "end_time": "2023-09-18T23:40:30.461923",
     "exception": false,
     "start_time": "2023-09-18T23:40:30.444593",
     "status": "completed"
    },
    "tags": []
   },
   "outputs": [
    {
     "data": {
      "text/html": [
       "<div>\n",
       "<style scoped>\n",
       "    .dataframe tbody tr th:only-of-type {\n",
       "        vertical-align: middle;\n",
       "    }\n",
       "\n",
       "    .dataframe tbody tr th {\n",
       "        vertical-align: top;\n",
       "    }\n",
       "\n",
       "    .dataframe thead th {\n",
       "        text-align: right;\n",
       "    }\n",
       "</style>\n",
       "<table border=\"1\" class=\"dataframe\">\n",
       "  <thead>\n",
       "    <tr style=\"text-align: right;\">\n",
       "      <th></th>\n",
       "      <th>project_name</th>\n",
       "      <th>event_name</th>\n",
       "      <th>start_date</th>\n",
       "      <th>audience</th>\n",
       "    </tr>\n",
       "  </thead>\n",
       "  <tbody>\n",
       "    <tr>\n",
       "      <th>0</th>\n",
       "      <td>01 - The Awakening</td>\n",
       "      <td>Ballot Facilitated Session - Carr Manor Commun...</td>\n",
       "      <td>2022-11-01</td>\n",
       "      <td>NaN</td>\n",
       "    </tr>\n",
       "    <tr>\n",
       "      <th>1</th>\n",
       "      <td>01 - The Awakening</td>\n",
       "      <td>Ballot Facilitated Session - Chapel Allerton P...</td>\n",
       "      <td>2022-11-07</td>\n",
       "      <td>NaN</td>\n",
       "    </tr>\n",
       "    <tr>\n",
       "      <th>2</th>\n",
       "      <td>01 - The Awakening</td>\n",
       "      <td>Ballot Facilitated Session - Cobden Primary Sc...</td>\n",
       "      <td>2022-11-09</td>\n",
       "      <td>NaN</td>\n",
       "    </tr>\n",
       "    <tr>\n",
       "      <th>3</th>\n",
       "      <td>01 - The Awakening</td>\n",
       "      <td>Ballot Facilitated Session - Cobden Primary Sc...</td>\n",
       "      <td>2022-11-10</td>\n",
       "      <td>NaN</td>\n",
       "    </tr>\n",
       "    <tr>\n",
       "      <th>4</th>\n",
       "      <td>01 - The Awakening</td>\n",
       "      <td>Ballot Facilitated Session - Cobden Primary Sc...</td>\n",
       "      <td>2022-11-18</td>\n",
       "      <td>NaN</td>\n",
       "    </tr>\n",
       "    <tr>\n",
       "      <th>...</th>\n",
       "      <td>...</td>\n",
       "      <td>...</td>\n",
       "      <td>...</td>\n",
       "      <td>...</td>\n",
       "    </tr>\n",
       "    <tr>\n",
       "      <th>252</th>\n",
       "      <td>Hidden Stories</td>\n",
       "      <td>Try Your Hand at Stone Carving</td>\n",
       "      <td>2023-09-09</td>\n",
       "      <td>NaN</td>\n",
       "    </tr>\n",
       "    <tr>\n",
       "      <th>253</th>\n",
       "      <td>Hidden Stories</td>\n",
       "      <td>Try Your Hand at Stone Carving</td>\n",
       "      <td>2023-09-10</td>\n",
       "      <td>NaN</td>\n",
       "    </tr>\n",
       "    <tr>\n",
       "      <th>254</th>\n",
       "      <td>Hidden Stories</td>\n",
       "      <td>Try Your Hand at Stone Carving</td>\n",
       "      <td>2023-09-16</td>\n",
       "      <td>NaN</td>\n",
       "    </tr>\n",
       "    <tr>\n",
       "      <th>255</th>\n",
       "      <td>Leeds International African Arts Festival</td>\n",
       "      <td>African and Caribbean Enterprise</td>\n",
       "      <td>2023-07-08</td>\n",
       "      <td>NaN</td>\n",
       "    </tr>\n",
       "    <tr>\n",
       "      <th>256</th>\n",
       "      <td>Leeds International African Arts Festival</td>\n",
       "      <td>Step into Africa</td>\n",
       "      <td>2023-07-09</td>\n",
       "      <td>NaN</td>\n",
       "    </tr>\n",
       "  </tbody>\n",
       "</table>\n",
       "<p>179 rows × 4 columns</p>\n",
       "</div>"
      ],
      "text/plain": [
       "                                   project_name  \\\n",
       "0                            01 - The Awakening   \n",
       "1                            01 - The Awakening   \n",
       "2                            01 - The Awakening   \n",
       "3                            01 - The Awakening   \n",
       "4                            01 - The Awakening   \n",
       "..                                          ...   \n",
       "252                              Hidden Stories   \n",
       "253                              Hidden Stories   \n",
       "254                              Hidden Stories   \n",
       "255  Leeds International African Arts Festival    \n",
       "256  Leeds International African Arts Festival    \n",
       "\n",
       "                                            event_name start_date  audience  \n",
       "0    Ballot Facilitated Session - Carr Manor Commun... 2022-11-01       NaN  \n",
       "1    Ballot Facilitated Session - Chapel Allerton P... 2022-11-07       NaN  \n",
       "2    Ballot Facilitated Session - Cobden Primary Sc... 2022-11-09       NaN  \n",
       "3    Ballot Facilitated Session - Cobden Primary Sc... 2022-11-10       NaN  \n",
       "4    Ballot Facilitated Session - Cobden Primary Sc... 2022-11-18       NaN  \n",
       "..                                                 ...        ...       ...  \n",
       "252                     Try Your Hand at Stone Carving 2023-09-09       NaN  \n",
       "253                     Try Your Hand at Stone Carving 2023-09-10       NaN  \n",
       "254                     Try Your Hand at Stone Carving 2023-09-16       NaN  \n",
       "255                  African and Caribbean Enterprise  2023-07-08       NaN  \n",
       "256                                   Step into Africa 2023-07-09       NaN  \n",
       "\n",
       "[179 rows x 4 columns]"
      ]
     },
     "execution_count": 8,
     "metadata": {},
     "output_type": "execute_result"
    }
   ],
   "source": [
    "data.loc[data.audience.isna(), ['project_name', 'event_name', 'start_date', 'audience']]"
   ]
  },
  {
   "cell_type": "code",
   "execution_count": null,
   "id": "7d30e0cb",
   "metadata": {
    "papermill": {
     "duration": 0.002766,
     "end_time": "2023-09-18T23:40:30.467527",
     "exception": false,
     "start_time": "2023-09-18T23:40:30.464761",
     "status": "completed"
    },
    "tags": []
   },
   "outputs": [],
   "source": []
  },
  {
   "cell_type": "code",
   "execution_count": null,
   "id": "8d09ccee",
   "metadata": {
    "papermill": {
     "duration": 0.003559,
     "end_time": "2023-09-18T23:40:30.473834",
     "exception": false,
     "start_time": "2023-09-18T23:40:30.470275",
     "status": "completed"
    },
    "tags": []
   },
   "outputs": [],
   "source": []
  }
 ],
 "metadata": {
  "kernelspec": {
   "display_name": "leeds-2023-YZF5GfJv",
   "language": "python",
   "name": "python3"
  },
  "language_info": {
   "codemirror_mode": {
    "name": "ipython",
    "version": 3
   },
   "file_extension": ".py",
   "mimetype": "text/x-python",
   "name": "python",
   "nbconvert_exporter": "python",
   "pygments_lexer": "ipython3",
   "version": "3.10.13"
  },
  "papermill": {
   "default_parameters": {},
   "duration": 12.091513,
   "end_time": "2023-09-18T23:40:30.794691",
   "environment_variables": {},
   "exception": null,
   "input_path": "transform.ipynb",
   "output_path": "../../../working/output/community-transform.ipynb",
   "parameters": {},
   "start_time": "2023-09-18T23:40:18.703178",
   "version": "2.4.0"
  }
 },
 "nbformat": 4,
 "nbformat_minor": 5
}