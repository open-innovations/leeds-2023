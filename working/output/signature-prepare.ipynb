{
 "cells": [
  {
   "cell_type": "code",
   "execution_count": 1,
   "id": "4a63aed1",
   "metadata": {
    "execution": {
     "iopub.execute_input": "2023-10-07T23:39:35.976965Z",
     "iopub.status.busy": "2023-10-07T23:39:35.976063Z",
     "iopub.status.idle": "2023-10-07T23:39:47.902837Z",
     "shell.execute_reply": "2023-10-07T23:39:47.901496Z"
    },
    "papermill": {
     "duration": 11.934409,
     "end_time": "2023-10-07T23:39:47.905400",
     "exception": false,
     "start_time": "2023-10-07T23:39:35.970991",
     "status": "completed"
    },
    "tags": []
   },
   "outputs": [],
   "source": [
    "import os\n",
    "import pandas as pd\n",
    "from events import load_event_data, get_first_ward, normalise_ward"
   ]
  },
  {
   "cell_type": "code",
   "execution_count": 2,
   "id": "d104abd6",
   "metadata": {
    "execution": {
     "iopub.execute_input": "2023-10-07T23:39:47.913956Z",
     "iopub.status.busy": "2023-10-07T23:39:47.913189Z",
     "iopub.status.idle": "2023-10-07T23:39:47.918046Z",
     "shell.execute_reply": "2023-10-07T23:39:47.916770Z"
    },
    "papermill": {
     "duration": 0.0108,
     "end_time": "2023-10-07T23:39:47.919861",
     "exception": false,
     "start_time": "2023-10-07T23:39:47.909061",
     "status": "completed"
    },
    "tags": []
   },
   "outputs": [],
   "source": [
    "latest_date = pd.Timestamp.today().ceil('D')"
   ]
  },
  {
   "cell_type": "code",
   "execution_count": 3,
   "id": "9a570201",
   "metadata": {
    "execution": {
     "iopub.execute_input": "2023-10-07T23:39:47.926805Z",
     "iopub.status.busy": "2023-10-07T23:39:47.926093Z",
     "iopub.status.idle": "2023-10-07T23:39:47.946263Z",
     "shell.execute_reply": "2023-10-07T23:39:47.945585Z"
    },
    "papermill": {
     "duration": 0.025531,
     "end_time": "2023-10-07T23:39:47.948040",
     "exception": false,
     "start_time": "2023-10-07T23:39:47.922509",
     "status": "completed"
    },
    "tags": []
   },
   "outputs": [],
   "source": [
    "tickets = pd.read_csv('../../../../data/metrics/events/tickets/orders.csv', parse_dates=['created_at', 'event_date'])\n",
    "tickets = tickets[tickets.event_date <= latest_date]"
   ]
  },
  {
   "cell_type": "code",
   "execution_count": 4,
   "id": "a036d5f3",
   "metadata": {
    "execution": {
     "iopub.execute_input": "2023-10-07T23:39:47.955000Z",
     "iopub.status.busy": "2023-10-07T23:39:47.954387Z",
     "iopub.status.idle": "2023-10-07T23:39:48.241877Z",
     "shell.execute_reply": "2023-10-07T23:39:48.241048Z"
    },
    "papermill": {
     "duration": 0.293415,
     "end_time": "2023-10-07T23:39:48.244230",
     "exception": false,
     "start_time": "2023-10-07T23:39:47.950815",
     "status": "completed"
    },
    "tags": []
   },
   "outputs": [],
   "source": [
    "events = load_event_data()\n",
    "\n",
    "events = pd.concat([\n",
    "  events,\n",
    "  events.pipe(get_first_ward).pipe(normalise_ward).fillna('UNKNOWN'),\n",
    "  pd.Series(\n",
    "      events.actual_audience_size_number_of_participants_in_person + events.actual_audience_size_number_of_participants_online,\n",
    "      name='attendances'\n",
    "  )\n",
    "], axis=1).rename(columns={\n",
    "    'start_date': 'date'\n",
    "}).loc[:, ['ward_code', 'date', 'event_unique_identifier', 'attendances']]"
   ]
  },
  {
   "cell_type": "code",
   "execution_count": 5,
   "id": "3c3d58bc",
   "metadata": {
    "execution": {
     "iopub.execute_input": "2023-10-07T23:39:48.252527Z",
     "iopub.status.busy": "2023-10-07T23:39:48.252239Z",
     "iopub.status.idle": "2023-10-07T23:39:48.257895Z",
     "shell.execute_reply": "2023-10-07T23:39:48.256618Z"
    },
    "papermill": {
     "duration": 0.011946,
     "end_time": "2023-10-07T23:39:48.259804",
     "exception": false,
     "start_time": "2023-10-07T23:39:48.247858",
     "status": "completed"
    },
    "tags": []
   },
   "outputs": [],
   "source": [
    "OUTPUT_DIR='../../../../docs/metrics/events/signature/_data/'\n",
    "os.makedirs(OUTPUT_DIR, exist_ok=True)"
   ]
  },
  {
   "cell_type": "markdown",
   "id": "b5424100",
   "metadata": {
    "papermill": {
     "duration": 0.002895,
     "end_time": "2023-10-07T23:39:48.265366",
     "exception": false,
     "start_time": "2023-10-07T23:39:48.262471",
     "status": "completed"
    },
    "tags": []
   },
   "source": [
    "Events CSVs"
   ]
  },
  {
   "cell_type": "code",
   "execution_count": 6,
   "id": "5b5427e5",
   "metadata": {
    "execution": {
     "iopub.execute_input": "2023-10-07T23:39:48.272332Z",
     "iopub.status.busy": "2023-10-07T23:39:48.271903Z",
     "iopub.status.idle": "2023-10-07T23:39:48.281432Z",
     "shell.execute_reply": "2023-10-07T23:39:48.280121Z"
    },
    "papermill": {
     "duration": 0.015109,
     "end_time": "2023-10-07T23:39:48.283245",
     "exception": false,
     "start_time": "2023-10-07T23:39:48.268136",
     "status": "completed"
    },
    "tags": []
   },
   "outputs": [],
   "source": [
    "pd.DataFrame({\n",
    "  'events': events.groupby('ward_code').event_unique_identifier.count(),\n",
    "  'attendances': events.groupby('ward_code').attendances.sum().astype(int),\n",
    "}).to_csv(os.path.join(OUTPUT_DIR, 'events_by_ward.csv'))\n"
   ]
  },
  {
   "cell_type": "code",
   "execution_count": 7,
   "id": "30752da6",
   "metadata": {
    "execution": {
     "iopub.execute_input": "2023-10-07T23:39:48.290271Z",
     "iopub.status.busy": "2023-10-07T23:39:48.290011Z",
     "iopub.status.idle": "2023-10-07T23:39:48.302941Z",
     "shell.execute_reply": "2023-10-07T23:39:48.301916Z"
    },
    "papermill": {
     "duration": 0.018436,
     "end_time": "2023-10-07T23:39:48.304635",
     "exception": false,
     "start_time": "2023-10-07T23:39:48.286199",
     "status": "completed"
    },
    "tags": []
   },
   "outputs": [],
   "source": [
    "pd.DataFrame({\n",
    "  'events': events.groupby('date').event_unique_identifier.count(),\n",
    "  'attendances': events.groupby('date').attendances.sum().astype(int),\n",
    "}).resample('M').sum().astype(int).to_csv(os.path.join(OUTPUT_DIR, 'events_by_date.csv'))"
   ]
  },
  {
   "cell_type": "markdown",
   "id": "49a46948",
   "metadata": {
    "papermill": {
     "duration": 0.002927,
     "end_time": "2023-10-07T23:39:48.310445",
     "exception": false,
     "start_time": "2023-10-07T23:39:48.307518",
     "status": "completed"
    },
    "tags": []
   },
   "source": [
    "Tickets CSV"
   ]
  },
  {
   "cell_type": "code",
   "execution_count": 8,
   "id": "d05f78a1",
   "metadata": {
    "execution": {
     "iopub.execute_input": "2023-10-07T23:39:48.317773Z",
     "iopub.status.busy": "2023-10-07T23:39:48.317144Z",
     "iopub.status.idle": "2023-10-07T23:39:48.327070Z",
     "shell.execute_reply": "2023-10-07T23:39:48.326384Z"
    },
    "papermill": {
     "duration": 0.015601,
     "end_time": "2023-10-07T23:39:48.328936",
     "exception": false,
     "start_time": "2023-10-07T23:39:48.313335",
     "status": "completed"
    },
    "tags": []
   },
   "outputs": [],
   "source": [
    "pd.DataFrame({\n",
    "  'orders': tickets.groupby('ward_code').number_of_tickets.count(),\n",
    "  'tickets': tickets.groupby('ward_code').number_of_tickets.sum().astype(int),\n",
    "}).to_csv(os.path.join(OUTPUT_DIR, 'tickets_by_ward.csv'))"
   ]
  },
  {
   "cell_type": "code",
   "execution_count": 9,
   "id": "f1135e24",
   "metadata": {
    "execution": {
     "iopub.execute_input": "2023-10-07T23:39:48.336845Z",
     "iopub.status.busy": "2023-10-07T23:39:48.336340Z",
     "iopub.status.idle": "2023-10-07T23:39:48.345952Z",
     "shell.execute_reply": "2023-10-07T23:39:48.344819Z"
    },
    "papermill": {
     "duration": 0.015222,
     "end_time": "2023-10-07T23:39:48.347661",
     "exception": false,
     "start_time": "2023-10-07T23:39:48.332439",
     "status": "completed"
    },
    "tags": []
   },
   "outputs": [],
   "source": [
    "pd.DataFrame({\n",
    "  'orders': tickets.groupby('event_date').number_of_tickets.count(),\n",
    "  'tickets': tickets.groupby('event_date').number_of_tickets.sum().astype(int),\n",
    "}).resample('M').sum().to_csv(os.path.join(OUTPUT_DIR, 'tickets_by_event_date.csv'))"
   ]
  },
  {
   "cell_type": "code",
   "execution_count": 10,
   "id": "69ddccd4",
   "metadata": {
    "execution": {
     "iopub.execute_input": "2023-10-07T23:39:48.356421Z",
     "iopub.status.busy": "2023-10-07T23:39:48.355945Z",
     "iopub.status.idle": "2023-10-07T23:39:48.361996Z",
     "shell.execute_reply": "2023-10-07T23:39:48.361339Z"
    },
    "papermill": {
     "duration": 0.012829,
     "end_time": "2023-10-07T23:39:48.363634",
     "exception": false,
     "start_time": "2023-10-07T23:39:48.350805",
     "status": "completed"
    },
    "tags": []
   },
   "outputs": [],
   "source": [
    "pd.Series({\n",
    "    'total_events': events.event_unique_identifier.count(),\n",
    "    'total_attendances': events.attendances.count(),\n",
    "    'first_event': events.date.min(),\n",
    "    'latest_event': events.date.max(),\n",
    "    'total_ticket_orders_for_events_to_date': tickets.number_of_tickets.count(),\n",
    "    'total_tickets_sold_for_events_to_date': tickets.number_of_tickets.sum(),\n",
    "}).to_json(os.path.join(OUTPUT_DIR, 'headlines.json'), indent=2)"
   ]
  },
  {
   "cell_type": "code",
   "execution_count": null,
   "id": "15ee20c8",
   "metadata": {
    "papermill": {
     "duration": 0.002972,
     "end_time": "2023-10-07T23:39:48.370140",
     "exception": false,
     "start_time": "2023-10-07T23:39:48.367168",
     "status": "completed"
    },
    "tags": []
   },
   "outputs": [],
   "source": []
  }
 ],
 "metadata": {
  "kernelspec": {
   "display_name": "leeds-2023-YZF5GfJv",
   "language": "python",
   "name": "python3"
  },
  "language_info": {
   "codemirror_mode": {
    "name": "ipython",
    "version": 3
   },
   "file_extension": ".py",
   "mimetype": "text/x-python",
   "name": "python",
   "nbconvert_exporter": "python",
   "pygments_lexer": "ipython3",
   "version": "3.10.13"
  },
  "papermill": {
   "default_parameters": {},
   "duration": 14.298078,
   "end_time": "2023-10-07T23:39:48.691378",
   "environment_variables": {},
   "exception": null,
   "input_path": "prepare.ipynb",
   "output_path": "../../../../working/output/signature-prepare.ipynb",
   "parameters": {},
   "start_time": "2023-10-07T23:39:34.393300",
   "version": "2.4.0"
  }
 },
 "nbformat": 4,
 "nbformat_minor": 5
}