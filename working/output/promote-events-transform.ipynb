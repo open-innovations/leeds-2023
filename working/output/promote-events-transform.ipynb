{
 "cells": [
  {
   "cell_type": "code",
   "execution_count": 1,
   "id": "b4484b6c",
   "metadata": {
    "execution": {
     "iopub.execute_input": "2023-08-20T23:37:16.378892Z",
     "iopub.status.busy": "2023-08-20T23:37:16.378265Z",
     "iopub.status.idle": "2023-08-20T23:37:16.607312Z",
     "shell.execute_reply": "2023-08-20T23:37:16.606708Z"
    },
    "papermill": {
     "duration": 0.233562,
     "end_time": "2023-08-20T23:37:16.609067",
     "exception": false,
     "start_time": "2023-08-20T23:37:16.375505",
     "status": "completed"
    },
    "tags": []
   },
   "outputs": [],
   "source": [
    "import os\n",
    "import pandas as pd"
   ]
  },
  {
   "cell_type": "code",
   "execution_count": 2,
   "id": "d9f5c402",
   "metadata": {
    "execution": {
     "iopub.execute_input": "2023-08-20T23:37:16.613197Z",
     "iopub.status.busy": "2023-08-20T23:37:16.612702Z",
     "iopub.status.idle": "2023-08-20T23:37:16.615940Z",
     "shell.execute_reply": "2023-08-20T23:37:16.615369Z"
    },
    "papermill": {
     "duration": 0.00675,
     "end_time": "2023-08-20T23:37:16.617325",
     "exception": false,
     "start_time": "2023-08-20T23:37:16.610575",
     "status": "completed"
    },
    "tags": []
   },
   "outputs": [],
   "source": [
    "EVENTS_RAW_DATA = '../../../working/metrics/promote-events/events.csv'\n",
    "DATA_DIR = '../../../data/metrics/events/promote-events/'\n",
    "EVENTS_DATA = os.path.join(DATA_DIR, 'events.csv')"
   ]
  },
  {
   "cell_type": "code",
   "execution_count": 3,
   "id": "59647ef9",
   "metadata": {
    "execution": {
     "iopub.execute_input": "2023-08-20T23:37:16.620733Z",
     "iopub.status.busy": "2023-08-20T23:37:16.620238Z",
     "iopub.status.idle": "2023-08-20T23:37:16.623384Z",
     "shell.execute_reply": "2023-08-20T23:37:16.622827Z"
    },
    "papermill": {
     "duration": 0.006187,
     "end_time": "2023-08-20T23:37:16.624663",
     "exception": false,
     "start_time": "2023-08-20T23:37:16.618476",
     "status": "completed"
    },
    "tags": []
   },
   "outputs": [],
   "source": [
    "columns = {\n",
    "    'id': 'id',\n",
    "    'name': 'name',\n",
    "    'locationName': 'location',\n",
    "    'cardPrice': 'card_price',\n",
    "    'timeslots': 'time',\n",
    "    # 'displayOnWebsite': 'display',\n",
    "    'Stage': 'stage',\n",
    "}"
   ]
  },
  {
   "cell_type": "code",
   "execution_count": 4,
   "id": "0b7e3952",
   "metadata": {
    "execution": {
     "iopub.execute_input": "2023-08-20T23:37:16.627951Z",
     "iopub.status.busy": "2023-08-20T23:37:16.627640Z",
     "iopub.status.idle": "2023-08-20T23:37:16.637354Z",
     "shell.execute_reply": "2023-08-20T23:37:16.636816Z"
    },
    "papermill": {
     "duration": 0.012972,
     "end_time": "2023-08-20T23:37:16.638830",
     "exception": false,
     "start_time": "2023-08-20T23:37:16.625858",
     "status": "completed"
    },
    "tags": []
   },
   "outputs": [],
   "source": [
    "data = pd.read_csv(EVENTS_RAW_DATA)[columns.keys()].rename(columns=columns)\n",
    "data.time = pd.to_datetime(data.time, errors='coerce')"
   ]
  },
  {
   "cell_type": "code",
   "execution_count": 5,
   "id": "0e5bcd44",
   "metadata": {
    "execution": {
     "iopub.execute_input": "2023-08-20T23:37:16.642446Z",
     "iopub.status.busy": "2023-08-20T23:37:16.641963Z",
     "iopub.status.idle": "2023-08-20T23:37:16.646905Z",
     "shell.execute_reply": "2023-08-20T23:37:16.646384Z"
    },
    "papermill": {
     "duration": 0.008139,
     "end_time": "2023-08-20T23:37:16.648189",
     "exception": false,
     "start_time": "2023-08-20T23:37:16.640050",
     "status": "completed"
    },
    "tags": []
   },
   "outputs": [],
   "source": [
    "data.to_csv(os.path.join(DATA_DIR, 'events.csv'), index=False)"
   ]
  }
 ],
 "metadata": {
  "kernelspec": {
   "display_name": "leeds-2023-YZF5GfJv",
   "language": "python",
   "name": "python3"
  },
  "language_info": {
   "codemirror_mode": {
    "name": "ipython",
    "version": 3
   },
   "file_extension": ".py",
   "mimetype": "text/x-python",
   "name": "python",
   "nbconvert_exporter": "python",
   "pygments_lexer": "ipython3",
   "version": "3.10.12"
  },
  "papermill": {
   "default_parameters": {},
   "duration": 1.854636,
   "end_time": "2023-08-20T23:37:16.866228",
   "environment_variables": {},
   "exception": null,
   "input_path": "transform.ipynb",
   "output_path": "../../../working/output/promote-events-transform.ipynb",
   "parameters": {},
   "start_time": "2023-08-20T23:37:15.011592",
   "version": "2.4.0"
  }
 },
 "nbformat": 4,
 "nbformat_minor": 5
}