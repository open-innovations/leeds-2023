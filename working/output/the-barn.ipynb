{
 "cells": [
  {
   "cell_type": "code",
   "execution_count": 1,
   "id": "ca612715",
   "metadata": {
    "execution": {
     "iopub.execute_input": "2023-07-12T18:28:10.416090Z",
     "iopub.status.busy": "2023-07-12T18:28:10.415921Z",
     "iopub.status.idle": "2023-07-12T18:28:10.591966Z",
     "shell.execute_reply": "2023-07-12T18:28:10.591549Z"
    },
    "papermill": {
     "duration": 0.179227,
     "end_time": "2023-07-12T18:28:10.592988",
     "exception": false,
     "start_time": "2023-07-12T18:28:10.413761",
     "status": "completed"
    },
    "tags": []
   },
   "outputs": [],
   "source": [
    "import os\n",
    "import sys\n",
    "import pandas as pd\n",
    "import numpy as np"
   ]
  },
  {
   "cell_type": "code",
   "execution_count": 2,
   "id": "e23a6fcc",
   "metadata": {
    "execution": {
     "iopub.execute_input": "2023-07-12T18:28:10.595959Z",
     "iopub.status.busy": "2023-07-12T18:28:10.595758Z",
     "iopub.status.idle": "2023-07-12T18:28:10.606778Z",
     "shell.execute_reply": "2023-07-12T18:28:10.606385Z"
    },
    "papermill": {
     "duration": 0.013546,
     "end_time": "2023-07-12T18:28:10.607758",
     "exception": false,
     "start_time": "2023-07-12T18:28:10.594212",
     "status": "completed"
    },
    "tags": []
   },
   "outputs": [],
   "source": [
    "lib_dir = os.path.abspath('../../../../lib/')\n",
    "if not lib_dir in sys.path: sys.path.append(lib_dir)\n",
    "\n",
    "import util.geo\n",
    "import util.convert"
   ]
  },
  {
   "cell_type": "code",
   "execution_count": 3,
   "id": "bd63d85e",
   "metadata": {
    "execution": {
     "iopub.execute_input": "2023-07-12T18:28:10.610652Z",
     "iopub.status.busy": "2023-07-12T18:28:10.610487Z",
     "iopub.status.idle": "2023-07-12T18:28:10.619484Z",
     "shell.execute_reply": "2023-07-12T18:28:10.619116Z"
    },
    "papermill": {
     "duration": 0.01155,
     "end_time": "2023-07-12T18:28:10.620399",
     "exception": false,
     "start_time": "2023-07-12T18:28:10.608849",
     "status": "completed"
    },
    "tags": []
   },
   "outputs": [],
   "source": [
    "data = pd.read_csv('../../../../data/metrics/events/master/all.csv', parse_dates=['start_date'])\n",
    "data = data.loc[\n",
    "    (data.project_type == 'Produce (Signature)') &\n",
    "    (data.project_name == '05 - The Barn') &\n",
    "    (data.event_type.str.contains('Public Event -')) &\n",
    "    (data.start_date < pd.Timestamp.now())\n",
    "]"
   ]
  },
  {
   "cell_type": "code",
   "execution_count": 4,
   "id": "30d4f691",
   "metadata": {
    "execution": {
     "iopub.execute_input": "2023-07-12T18:28:10.623394Z",
     "iopub.status.busy": "2023-07-12T18:28:10.623187Z",
     "iopub.status.idle": "2023-07-12T18:28:10.626335Z",
     "shell.execute_reply": "2023-07-12T18:28:10.625987Z"
    },
    "papermill": {
     "duration": 0.005746,
     "end_time": "2023-07-12T18:28:10.627290",
     "exception": false,
     "start_time": "2023-07-12T18:28:10.621544",
     "status": "completed"
    },
    "tags": []
   },
   "outputs": [],
   "source": [
    "wards = data['ward_(from_venue)'].fillna(value='[]').pipe(util.convert.literal_converter).apply(np.unique)"
   ]
  },
  {
   "cell_type": "code",
   "execution_count": 5,
   "id": "e89eaa4c",
   "metadata": {
    "execution": {
     "iopub.execute_input": "2023-07-12T18:28:10.630790Z",
     "iopub.status.busy": "2023-07-12T18:28:10.630607Z",
     "iopub.status.idle": "2023-07-12T18:28:10.639737Z",
     "shell.execute_reply": "2023-07-12T18:28:10.639317Z"
    },
    "papermill": {
     "duration": 0.012059,
     "end_time": "2023-07-12T18:28:10.640811",
     "exception": false,
     "start_time": "2023-07-12T18:28:10.628752",
     "status": "completed"
    },
    "tags": []
   },
   "outputs": [
    {
     "data": {
      "text/html": [
       "<div>\n",
       "<style scoped>\n",
       "    .dataframe tbody tr th:only-of-type {\n",
       "        vertical-align: middle;\n",
       "    }\n",
       "\n",
       "    .dataframe tbody tr th {\n",
       "        vertical-align: top;\n",
       "    }\n",
       "\n",
       "    .dataframe thead th {\n",
       "        text-align: right;\n",
       "    }\n",
       "</style>\n",
       "<table border=\"1\" class=\"dataframe\">\n",
       "  <thead>\n",
       "    <tr style=\"text-align: right;\">\n",
       "      <th></th>\n",
       "      <th>event_unique_identifier</th>\n",
       "      <th>project_name</th>\n",
       "      <th>event_name</th>\n",
       "      <th>event_type</th>\n",
       "      <th>season</th>\n",
       "      <th>start_date</th>\n",
       "      <th>airtable_id</th>\n",
       "      <th>actual_audience_size_number_of_participants_in_person</th>\n",
       "      <th>project_type</th>\n",
       "      <th>ward_(from_venue)</th>\n",
       "      <th>postcode_(from_venue)</th>\n",
       "      <th>end_date</th>\n",
       "      <th>number_of_booked_participants</th>\n",
       "      <th>actual_audience_size_number_of_participants_online</th>\n",
       "    </tr>\n",
       "  </thead>\n",
       "  <tbody>\n",
       "    <tr>\n",
       "      <th>362</th>\n",
       "      <td>05 - The Barn: The Space Digital Interactive P...</td>\n",
       "      <td>05 - The Barn</td>\n",
       "      <td>The Space Digital Interactive Playspace (schoo...</td>\n",
       "      <td>['Public Event - Digital Experience', 'CLE - C...</td>\n",
       "      <td>['Season 2 - Playing']</td>\n",
       "      <td>2023-05-16</td>\n",
       "      <td>1623</td>\n",
       "      <td>4.0</td>\n",
       "      <td>Produce (Signature)</td>\n",
       "      <td>NaN</td>\n",
       "      <td>NaN</td>\n",
       "      <td>2023-05-18</td>\n",
       "      <td>7.0</td>\n",
       "      <td>0.0</td>\n",
       "    </tr>\n",
       "    <tr>\n",
       "      <th>542</th>\n",
       "      <td>05 - The Barn: The Space Digital Interactive P...</td>\n",
       "      <td>05 - The Barn</td>\n",
       "      <td>The Space Digital Interactive Playspace</td>\n",
       "      <td>['Public Event - Digital Experience', 'CLE - C...</td>\n",
       "      <td>['Season 2 - Playing']</td>\n",
       "      <td>2023-05-16</td>\n",
       "      <td>351</td>\n",
       "      <td>128.0</td>\n",
       "      <td>Produce (Signature)</td>\n",
       "      <td>NaN</td>\n",
       "      <td>NaN</td>\n",
       "      <td>2023-05-18</td>\n",
       "      <td>7.0</td>\n",
       "      <td>NaN</td>\n",
       "    </tr>\n",
       "  </tbody>\n",
       "</table>\n",
       "</div>"
      ],
      "text/plain": [
       "                               event_unique_identifier   project_name  \\\n",
       "362  05 - The Barn: The Space Digital Interactive P...  05 - The Barn   \n",
       "542  05 - The Barn: The Space Digital Interactive P...  05 - The Barn   \n",
       "\n",
       "                                            event_name  \\\n",
       "362  The Space Digital Interactive Playspace (schoo...   \n",
       "542           The Space Digital Interactive Playspace    \n",
       "\n",
       "                                            event_type  \\\n",
       "362  ['Public Event - Digital Experience', 'CLE - C...   \n",
       "542  ['Public Event - Digital Experience', 'CLE - C...   \n",
       "\n",
       "                     season start_date  airtable_id  \\\n",
       "362  ['Season 2 - Playing'] 2023-05-16         1623   \n",
       "542  ['Season 2 - Playing'] 2023-05-16          351   \n",
       "\n",
       "     actual_audience_size_number_of_participants_in_person  \\\n",
       "362                                                4.0       \n",
       "542                                              128.0       \n",
       "\n",
       "            project_type ward_(from_venue) postcode_(from_venue)    end_date  \\\n",
       "362  Produce (Signature)               NaN                   NaN  2023-05-18   \n",
       "542  Produce (Signature)               NaN                   NaN  2023-05-18   \n",
       "\n",
       "     number_of_booked_participants  \\\n",
       "362                            7.0   \n",
       "542                            7.0   \n",
       "\n",
       "     actual_audience_size_number_of_participants_online  \n",
       "362                                                0.0   \n",
       "542                                                NaN   "
      ]
     },
     "execution_count": 5,
     "metadata": {},
     "output_type": "execute_result"
    }
   ],
   "source": [
    "data[wards.apply(len) != 1]"
   ]
  },
  {
   "cell_type": "code",
   "execution_count": 6,
   "id": "35636c86",
   "metadata": {
    "execution": {
     "iopub.execute_input": "2023-07-12T18:28:10.645374Z",
     "iopub.status.busy": "2023-07-12T18:28:10.645159Z",
     "iopub.status.idle": "2023-07-12T18:28:10.662849Z",
     "shell.execute_reply": "2023-07-12T18:28:10.662415Z"
    },
    "papermill": {
     "duration": 0.021035,
     "end_time": "2023-07-12T18:28:10.663775",
     "exception": false,
     "start_time": "2023-07-12T18:28:10.642740",
     "status": "completed"
    },
    "tags": []
   },
   "outputs": [],
   "source": [
    "data['ward_code'] = wards.apply(lambda x: x[0] if len(x) > 0 else np.nan).pipe(util.geo.normalise_leeds_wards).pipe(util.geo.ward_name_to_code)"
   ]
  },
  {
   "cell_type": "code",
   "execution_count": 7,
   "id": "4cf2b2cd",
   "metadata": {
    "execution": {
     "iopub.execute_input": "2023-07-12T18:28:10.667862Z",
     "iopub.status.busy": "2023-07-12T18:28:10.667421Z",
     "iopub.status.idle": "2023-07-12T18:28:10.671397Z",
     "shell.execute_reply": "2023-07-12T18:28:10.670877Z"
    },
    "papermill": {
     "duration": 0.00727,
     "end_time": "2023-07-12T18:28:10.672457",
     "exception": false,
     "start_time": "2023-07-12T18:28:10.665187",
     "status": "completed"
    },
    "tags": []
   },
   "outputs": [],
   "source": [
    "data['audience_size'] = data.actual_audience_size_number_of_participants_in_person.fillna(0) + data.actual_audience_size_number_of_participants_online.fillna(0)"
   ]
  },
  {
   "cell_type": "code",
   "execution_count": 8,
   "id": "d8407f70",
   "metadata": {
    "execution": {
     "iopub.execute_input": "2023-07-12T18:28:10.676142Z",
     "iopub.status.busy": "2023-07-12T18:28:10.675934Z",
     "iopub.status.idle": "2023-07-12T18:28:10.679238Z",
     "shell.execute_reply": "2023-07-12T18:28:10.678003Z"
    },
    "papermill": {
     "duration": 0.006503,
     "end_time": "2023-07-12T18:28:10.680534",
     "exception": false,
     "start_time": "2023-07-12T18:28:10.674031",
     "status": "completed"
    },
    "tags": []
   },
   "outputs": [],
   "source": [
    "OUT_DIR = '../../../../docs/metrics/events/the-barn/_data/events'\n",
    "os.makedirs(OUT_DIR, exist_ok=True)"
   ]
  },
  {
   "cell_type": "code",
   "execution_count": 9,
   "id": "d57cf319",
   "metadata": {
    "execution": {
     "iopub.execute_input": "2023-07-12T18:28:10.684455Z",
     "iopub.status.busy": "2023-07-12T18:28:10.684001Z",
     "iopub.status.idle": "2023-07-12T18:28:10.688978Z",
     "shell.execute_reply": "2023-07-12T18:28:10.688570Z"
    },
    "papermill": {
     "duration": 0.008123,
     "end_time": "2023-07-12T18:28:10.690021",
     "exception": false,
     "start_time": "2023-07-12T18:28:10.681898",
     "status": "completed"
    },
    "tags": []
   },
   "outputs": [],
   "source": [
    "by_ward = pd.DataFrame(\n",
    "  {\n",
    "    'events': data.groupby('ward_code').audience_size.count(),\n",
    "    'audience': data.groupby('ward_code').audience_size.sum(),\n",
    "  }\n",
    ")\n",
    "by_ward.to_csv(os.path.join(OUT_DIR, 'by_ward.csv'))"
   ]
  },
  {
   "cell_type": "code",
   "execution_count": 10,
   "id": "a399964b",
   "metadata": {
    "execution": {
     "iopub.execute_input": "2023-07-12T18:28:10.693796Z",
     "iopub.status.busy": "2023-07-12T18:28:10.693607Z",
     "iopub.status.idle": "2023-07-12T18:28:10.701787Z",
     "shell.execute_reply": "2023-07-12T18:28:10.701397Z"
    },
    "papermill": {
     "duration": 0.011279,
     "end_time": "2023-07-12T18:28:10.702872",
     "exception": false,
     "start_time": "2023-07-12T18:28:10.691593",
     "status": "completed"
    },
    "tags": []
   },
   "outputs": [],
   "source": [
    "by_week = pd.DataFrame({\n",
    "  'events': data.groupby('start_date').audience_size.count(),\n",
    "  'audience': data.groupby('start_date').audience_size.sum().astype(int)\n",
    "}).resample('W-FRI').sum()\n",
    "by_week.index.name = 'week_ending'\n",
    "by_week['cumulative_events'] = by_week.events.cumsum()\n",
    "by_week['cumulative_audience'] = by_week.audience.cumsum()\n",
    "by_week.to_csv(os.path.join(OUT_DIR, 'by_week.csv'))"
   ]
  },
  {
   "cell_type": "code",
   "execution_count": 11,
   "id": "a52c471f",
   "metadata": {
    "execution": {
     "iopub.execute_input": "2023-07-12T18:28:10.706746Z",
     "iopub.status.busy": "2023-07-12T18:28:10.706449Z",
     "iopub.status.idle": "2023-07-12T18:28:10.711618Z",
     "shell.execute_reply": "2023-07-12T18:28:10.711202Z"
    },
    "papermill": {
     "duration": 0.008299,
     "end_time": "2023-07-12T18:28:10.712689",
     "exception": false,
     "start_time": "2023-07-12T18:28:10.704390",
     "status": "completed"
    },
    "tags": []
   },
   "outputs": [],
   "source": [
    "by_month = by_week.resample('M').sum()\n",
    "by_month['cumulative_events'] = by_month.events.cumsum()\n",
    "by_month['cumulative_audience'] = by_month.audience.cumsum()\n",
    "by_month.index.name = 'month_ending'\n",
    "by_month.to_csv(os.path.join(OUT_DIR, 'by_month.csv'))"
   ]
  },
  {
   "cell_type": "code",
   "execution_count": 12,
   "id": "67b29566",
   "metadata": {
    "execution": {
     "iopub.execute_input": "2023-07-12T18:28:10.717632Z",
     "iopub.status.busy": "2023-07-12T18:28:10.717396Z",
     "iopub.status.idle": "2023-07-12T18:28:10.720973Z",
     "shell.execute_reply": "2023-07-12T18:28:10.720591Z"
    },
    "papermill": {
     "duration": 0.007127,
     "end_time": "2023-07-12T18:28:10.722001",
     "exception": false,
     "start_time": "2023-07-12T18:28:10.714874",
     "status": "completed"
    },
    "tags": []
   },
   "outputs": [],
   "source": [
    "by_month.drop(\n",
    "    columns=['events', 'audience']\n",
    ").rename(\n",
    "    columns=lambda n: n.replace('cumulative', 'total')\n",
    ").iloc[-1].to_json(os.path.join(OUT_DIR, 'headlines.json'))"
   ]
  }
 ],
 "metadata": {
  "kernelspec": {
   "display_name": "leeds-2023-YZF5GfJv",
   "language": "python",
   "name": "python3"
  },
  "language_info": {
   "codemirror_mode": {
    "name": "ipython",
    "version": 3
   },
   "file_extension": ".py",
   "mimetype": "text/x-python",
   "name": "python",
   "nbconvert_exporter": "python",
   "pygments_lexer": "ipython3",
   "version": "3.10.6"
  },
  "papermill": {
   "default_parameters": {},
   "duration": 1.239809,
   "end_time": "2023-07-12T18:28:10.938108",
   "environment_variables": {},
   "exception": null,
   "input_path": "the-barn.ipynb",
   "output_path": "../../../../working/output/the-barn.ipynb",
   "parameters": {},
   "start_time": "2023-07-12T18:28:09.698299",
   "version": "2.4.0"
  }
 },
 "nbformat": 4,
 "nbformat_minor": 5
}