{
 "cells": [
  {
   "cell_type": "code",
   "execution_count": 1,
   "id": "3b9001b4",
   "metadata": {
    "execution": {
     "iopub.execute_input": "2023-12-27T23:39:29.740190Z",
     "iopub.status.busy": "2023-12-27T23:39:29.739967Z",
     "iopub.status.idle": "2023-12-27T23:39:29.980353Z",
     "shell.execute_reply": "2023-12-27T23:39:29.979779Z"
    },
    "papermill": {
     "duration": 0.245691,
     "end_time": "2023-12-27T23:39:29.981947",
     "exception": false,
     "start_time": "2023-12-27T23:39:29.736256",
     "status": "completed"
    },
    "tags": []
   },
   "outputs": [],
   "source": [
    "from pathlib import Path\n",
    "import pandas as pd"
   ]
  },
  {
   "cell_type": "markdown",
   "id": "fc191282",
   "metadata": {
    "papermill": {
     "duration": 0.00217,
     "end_time": "2023-12-27T23:39:29.986653",
     "exception": false,
     "start_time": "2023-12-27T23:39:29.984483",
     "status": "completed"
    },
    "tags": []
   },
   "source": [
    "Load the orders data which was created in the [transform stage](./tickets.ipynb)."
   ]
  },
  {
   "cell_type": "code",
   "execution_count": 2,
   "id": "36884d87",
   "metadata": {
    "execution": {
     "iopub.execute_input": "2023-12-27T23:39:29.991912Z",
     "iopub.status.busy": "2023-12-27T23:39:29.991640Z",
     "iopub.status.idle": "2023-12-27T23:39:30.009322Z",
     "shell.execute_reply": "2023-12-27T23:39:30.008816Z"
    },
    "papermill": {
     "duration": 0.021859,
     "end_time": "2023-12-27T23:39:30.010629",
     "exception": false,
     "start_time": "2023-12-27T23:39:29.988770",
     "status": "completed"
    },
    "tags": []
   },
   "outputs": [],
   "source": [
    "def prepare(data: pd.DataFrame) -> pd.DataFrame:\n",
    "    data = data.loc[\n",
    "        (\n",
    "            data.public_event == True\n",
    "        ) & (\n",
    "            ~data.project_name.isin([\n",
    "                'Skills Development',\n",
    "            ])\n",
    "        )\n",
    "    ]\n",
    "    data = data.drop(columns=['public_event'])\n",
    "    return data\n",
    "\n",
    "\n",
    "orders = pd.read_csv(\n",
    "    '../../../../data/metrics/events/tickets/orders.csv',\n",
    "    usecols=[\n",
    "        'created_at',\n",
    "        'project_name',\n",
    "        'public_event',\n",
    "        'number_of_tickets'\n",
    "    ],\n",
    "    parse_dates=['created_at']\n",
    ").pipe(prepare)"
   ]
  },
  {
   "cell_type": "markdown",
   "id": "f4cc6507",
   "metadata": {
    "papermill": {
     "duration": 0.00217,
     "end_time": "2023-12-27T23:39:30.014971",
     "exception": false,
     "start_time": "2023-12-27T23:39:30.012801",
     "status": "completed"
    },
    "tags": []
   },
   "source": [
    "Define functions to count and sum tickets, and to append cumulative versions of those."
   ]
  },
  {
   "cell_type": "code",
   "execution_count": 3,
   "id": "333fe947",
   "metadata": {
    "execution": {
     "iopub.execute_input": "2023-12-27T23:39:30.020280Z",
     "iopub.status.busy": "2023-12-27T23:39:30.019909Z",
     "iopub.status.idle": "2023-12-27T23:39:30.023978Z",
     "shell.execute_reply": "2023-12-27T23:39:30.023342Z"
    },
    "papermill": {
     "duration": 0.00828,
     "end_time": "2023-12-27T23:39:30.025339",
     "exception": false,
     "start_time": "2023-12-27T23:39:30.017059",
     "status": "completed"
    },
    "tags": []
   },
   "outputs": [],
   "source": [
    "def count_and_sum(series):\n",
    "    return pd.concat([\n",
    "        series.count().to_frame('orders'),\n",
    "        series.sum().to_frame('tickets'),\n",
    "    ], axis=1)\n",
    "\n",
    "\n",
    "def cumulate(df: pd.DataFrame) -> pd.DataFrame:\n",
    "    return pd.concat([\n",
    "        df,\n",
    "        df.cumsum().rename(columns=lambda x: f'cumulative_{x}')\n",
    "    ], axis=1)"
   ]
  },
  {
   "cell_type": "markdown",
   "id": "6b8df379",
   "metadata": {
    "papermill": {
     "duration": 0.002106,
     "end_time": "2023-12-27T23:39:30.029701",
     "exception": false,
     "start_time": "2023-12-27T23:39:30.027595",
     "status": "completed"
    },
    "tags": []
   },
   "source": [
    "Create output directory"
   ]
  },
  {
   "cell_type": "code",
   "execution_count": 4,
   "id": "60a25517",
   "metadata": {
    "execution": {
     "iopub.execute_input": "2023-12-27T23:39:30.035015Z",
     "iopub.status.busy": "2023-12-27T23:39:30.034611Z",
     "iopub.status.idle": "2023-12-27T23:39:30.037856Z",
     "shell.execute_reply": "2023-12-27T23:39:30.037324Z"
    },
    "papermill": {
     "duration": 0.007258,
     "end_time": "2023-12-27T23:39:30.039131",
     "exception": false,
     "start_time": "2023-12-27T23:39:30.031873",
     "status": "completed"
    },
    "tags": []
   },
   "outputs": [],
   "source": [
    "OUTPUT_DIR = Path('../../../../docs/metrics/tickets/_data/')\n",
    "OUTPUT_DIR.mkdir(parents=True, exist_ok=True)"
   ]
  },
  {
   "cell_type": "markdown",
   "id": "792a4685",
   "metadata": {
    "papermill": {
     "duration": 0.002161,
     "end_time": "2023-12-27T23:39:30.044219",
     "exception": false,
     "start_time": "2023-12-27T23:39:30.042058",
     "status": "completed"
    },
    "tags": []
   },
   "source": [
    "Count / sum the orders and tickets by project code and save to a JSON file"
   ]
  },
  {
   "cell_type": "code",
   "execution_count": 5,
   "id": "2906467d",
   "metadata": {
    "execution": {
     "iopub.execute_input": "2023-12-27T23:39:30.049540Z",
     "iopub.status.busy": "2023-12-27T23:39:30.049177Z",
     "iopub.status.idle": "2023-12-27T23:39:30.055728Z",
     "shell.execute_reply": "2023-12-27T23:39:30.055201Z"
    },
    "papermill": {
     "duration": 0.010641,
     "end_time": "2023-12-27T23:39:30.057010",
     "exception": false,
     "start_time": "2023-12-27T23:39:30.046369",
     "status": "completed"
    },
    "tags": []
   },
   "outputs": [],
   "source": [
    "by_project = orders.groupby('project_name').number_of_tickets.pipe(count_and_sum)\n",
    "by_project.loc['total']= by_project.sum()\n",
    "by_project.T.to_json(\n",
    "  OUTPUT_DIR.joinpath('headlines.json'),\n",
    "  indent=2\n",
    ")"
   ]
  },
  {
   "cell_type": "markdown",
   "id": "a29a5465",
   "metadata": {
    "papermill": {
     "duration": 0.00218,
     "end_time": "2023-12-27T23:39:30.061466",
     "exception": false,
     "start_time": "2023-12-27T23:39:30.059286",
     "status": "completed"
    },
    "tags": []
   },
   "source": [
    "Add `day` column"
   ]
  },
  {
   "cell_type": "code",
   "execution_count": 6,
   "id": "ac4567ef",
   "metadata": {
    "execution": {
     "iopub.execute_input": "2023-12-27T23:39:30.066959Z",
     "iopub.status.busy": "2023-12-27T23:39:30.066492Z",
     "iopub.status.idle": "2023-12-27T23:39:30.070303Z",
     "shell.execute_reply": "2023-12-27T23:39:30.069756Z"
    },
    "papermill": {
     "duration": 0.007901,
     "end_time": "2023-12-27T23:39:30.071588",
     "exception": false,
     "start_time": "2023-12-27T23:39:30.063687",
     "status": "completed"
    },
    "tags": []
   },
   "outputs": [],
   "source": [
    "orders['day'] = orders.created_at.dt.floor('D')"
   ]
  },
  {
   "cell_type": "code",
   "execution_count": 7,
   "id": "55007b41",
   "metadata": {
    "execution": {
     "iopub.execute_input": "2023-12-27T23:39:30.077253Z",
     "iopub.status.busy": "2023-12-27T23:39:30.076782Z",
     "iopub.status.idle": "2023-12-27T23:39:30.086625Z",
     "shell.execute_reply": "2023-12-27T23:39:30.086073Z"
    },
    "papermill": {
     "duration": 0.014094,
     "end_time": "2023-12-27T23:39:30.087934",
     "exception": false,
     "start_time": "2023-12-27T23:39:30.073840",
     "status": "completed"
    },
    "tags": []
   },
   "outputs": [
    {
     "data": {
      "text/html": [
       "<div>\n",
       "<style scoped>\n",
       "    .dataframe tbody tr th:only-of-type {\n",
       "        vertical-align: middle;\n",
       "    }\n",
       "\n",
       "    .dataframe tbody tr th {\n",
       "        vertical-align: top;\n",
       "    }\n",
       "\n",
       "    .dataframe thead th {\n",
       "        text-align: right;\n",
       "    }\n",
       "</style>\n",
       "<table border=\"1\" class=\"dataframe\">\n",
       "  <thead>\n",
       "    <tr style=\"text-align: right;\">\n",
       "      <th></th>\n",
       "      <th>created_at</th>\n",
       "      <th>day</th>\n",
       "    </tr>\n",
       "  </thead>\n",
       "  <tbody>\n",
       "    <tr>\n",
       "      <th>176</th>\n",
       "      <td>2023-03-30 16:58:03</td>\n",
       "      <td>2023-03-30</td>\n",
       "    </tr>\n",
       "    <tr>\n",
       "      <th>177</th>\n",
       "      <td>2023-03-30 18:44:08</td>\n",
       "      <td>2023-03-30</td>\n",
       "    </tr>\n",
       "    <tr>\n",
       "      <th>180</th>\n",
       "      <td>2023-03-30 20:32:43</td>\n",
       "      <td>2023-03-30</td>\n",
       "    </tr>\n",
       "    <tr>\n",
       "      <th>181</th>\n",
       "      <td>2023-03-30 21:27:59</td>\n",
       "      <td>2023-03-30</td>\n",
       "    </tr>\n",
       "    <tr>\n",
       "      <th>183</th>\n",
       "      <td>2023-03-30 22:56:31</td>\n",
       "      <td>2023-03-30</td>\n",
       "    </tr>\n",
       "  </tbody>\n",
       "</table>\n",
       "</div>"
      ],
      "text/plain": [
       "             created_at        day\n",
       "176 2023-03-30 16:58:03 2023-03-30\n",
       "177 2023-03-30 18:44:08 2023-03-30\n",
       "180 2023-03-30 20:32:43 2023-03-30\n",
       "181 2023-03-30 21:27:59 2023-03-30\n",
       "183 2023-03-30 22:56:31 2023-03-30"
      ]
     },
     "execution_count": 7,
     "metadata": {},
     "output_type": "execute_result"
    }
   ],
   "source": [
    "orders.loc[:, ['created_at', 'day']].head()"
   ]
  },
  {
   "cell_type": "markdown",
   "id": "6e8df2f2",
   "metadata": {
    "papermill": {
     "duration": 0.002354,
     "end_time": "2023-12-27T23:39:30.092936",
     "exception": false,
     "start_time": "2023-12-27T23:39:30.090582",
     "status": "completed"
    },
    "tags": []
   },
   "source": [
    "Save table cumulative weekly per project"
   ]
  },
  {
   "cell_type": "code",
   "execution_count": 8,
   "id": "bb6115cf",
   "metadata": {
    "execution": {
     "iopub.execute_input": "2023-12-27T23:39:30.098764Z",
     "iopub.status.busy": "2023-12-27T23:39:30.098401Z",
     "iopub.status.idle": "2023-12-27T23:39:30.108754Z",
     "shell.execute_reply": "2023-12-27T23:39:30.108248Z"
    },
    "papermill": {
     "duration": 0.014669,
     "end_time": "2023-12-27T23:39:30.110036",
     "exception": false,
     "start_time": "2023-12-27T23:39:30.095367",
     "status": "completed"
    },
    "tags": []
   },
   "outputs": [],
   "source": [
    "orders.groupby(\n",
    "  ['day', 'project_name']\n",
    ").number_of_tickets.pipe(\n",
    "  count_and_sum\n",
    ").tickets.unstack().fillna(0).resample('W-FRI').sum().cumsum().rename_axis('week').to_csv(\n",
    "  OUTPUT_DIR.joinpath('by_project_cumulative_weekly.csv')\n",
    ")"
   ]
  },
  {
   "cell_type": "markdown",
   "id": "adc9684f",
   "metadata": {
    "papermill": {
     "duration": 0.002428,
     "end_time": "2023-12-27T23:39:30.114990",
     "exception": false,
     "start_time": "2023-12-27T23:39:30.112562",
     "status": "completed"
    },
    "tags": []
   },
   "source": [
    "Save cumulative monthly sales"
   ]
  },
  {
   "cell_type": "code",
   "execution_count": 9,
   "id": "ffb5eeef",
   "metadata": {
    "execution": {
     "iopub.execute_input": "2023-12-27T23:39:30.120833Z",
     "iopub.status.busy": "2023-12-27T23:39:30.120376Z",
     "iopub.status.idle": "2023-12-27T23:39:30.127345Z",
     "shell.execute_reply": "2023-12-27T23:39:30.126847Z"
    },
    "papermill": {
     "duration": 0.011242,
     "end_time": "2023-12-27T23:39:30.128607",
     "exception": false,
     "start_time": "2023-12-27T23:39:30.117365",
     "status": "completed"
    },
    "tags": []
   },
   "outputs": [],
   "source": [
    "orders.groupby(['day']).number_of_tickets.pipe(count_and_sum).resample('MS').sum().pipe(cumulate).rename_axis('month').to_csv(\n",
    "  OUTPUT_DIR.joinpath('monthly_cumulative.csv')\n",
    ")"
   ]
  },
  {
   "cell_type": "code",
   "execution_count": null,
   "id": "54f48ba0",
   "metadata": {
    "papermill": {
     "duration": 0.002483,
     "end_time": "2023-12-27T23:39:30.133611",
     "exception": false,
     "start_time": "2023-12-27T23:39:30.131128",
     "status": "completed"
    },
    "tags": []
   },
   "outputs": [],
   "source": []
  }
 ],
 "metadata": {
  "kernelspec": {
   "display_name": "leeds-2023-YZF5GfJv",
   "language": "python",
   "name": "python3"
  },
  "language_info": {
   "codemirror_mode": {
    "name": "ipython",
    "version": 3
   },
   "file_extension": ".py",
   "mimetype": "text/x-python",
   "name": "python",
   "nbconvert_exporter": "python",
   "pygments_lexer": "ipython3",
   "version": "3.10.13"
  },
  "papermill": {
   "default_parameters": {},
   "duration": 1.848747,
   "end_time": "2023-12-27T23:39:30.351345",
   "environment_variables": {},
   "exception": null,
   "input_path": "prepare.ipynb",
   "output_path": "../../../../working/output/tickets-prepare.ipynb",
   "parameters": {},
   "start_time": "2023-12-27T23:39:28.502598",
   "version": "2.4.0"
  }
 },
 "nbformat": 4,
 "nbformat_minor": 5
}