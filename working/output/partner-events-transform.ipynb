{
 "cells": [
  {
   "cell_type": "code",
   "execution_count": 1,
   "id": "e5825ca4",
   "metadata": {
    "execution": {
     "iopub.execute_input": "2023-08-02T23:37:28.339568Z",
     "iopub.status.busy": "2023-08-02T23:37:28.338964Z",
     "iopub.status.idle": "2023-08-02T23:37:28.597934Z",
     "shell.execute_reply": "2023-08-02T23:37:28.596408Z"
    },
    "papermill": {
     "duration": 0.26638,
     "end_time": "2023-08-02T23:37:28.600862",
     "exception": false,
     "start_time": "2023-08-02T23:37:28.334482",
     "status": "completed"
    },
    "tags": []
   },
   "outputs": [],
   "source": [
    "import os\n",
    "import sys\n",
    "import pandas as pd\n",
    "lib_dir = os.path.realpath('../../../lib/')\n",
    "if lib_dir not in sys.path: sys.path.append(lib_dir)"
   ]
  },
  {
   "cell_type": "code",
   "execution_count": 2,
   "id": "769b097d",
   "metadata": {
    "execution": {
     "iopub.execute_input": "2023-08-02T23:37:28.608128Z",
     "iopub.status.busy": "2023-08-02T23:37:28.607518Z",
     "iopub.status.idle": "2023-08-02T23:37:38.365888Z",
     "shell.execute_reply": "2023-08-02T23:37:38.364827Z"
    },
    "papermill": {
     "duration": 9.763725,
     "end_time": "2023-08-02T23:37:38.367906",
     "exception": false,
     "start_time": "2023-08-02T23:37:28.604181",
     "status": "completed"
    },
    "tags": []
   },
   "outputs": [],
   "source": [
    "import util.geo"
   ]
  },
  {
   "cell_type": "code",
   "execution_count": 3,
   "id": "0d50f40f",
   "metadata": {
    "execution": {
     "iopub.execute_input": "2023-08-02T23:37:38.376568Z",
     "iopub.status.busy": "2023-08-02T23:37:38.375011Z",
     "iopub.status.idle": "2023-08-02T23:37:38.380356Z",
     "shell.execute_reply": "2023-08-02T23:37:38.379498Z"
    },
    "papermill": {
     "duration": 0.010607,
     "end_time": "2023-08-02T23:37:38.381994",
     "exception": false,
     "start_time": "2023-08-02T23:37:38.371387",
     "status": "completed"
    },
    "tags": []
   },
   "outputs": [],
   "source": [
    "EVENTS_RAW_DATA = '../../../working/metrics/partner-events/events.csv'\n",
    "DATA_DIR = '../../../data/metrics/events/partner-events/'\n",
    "EVENTS_DATA = os.path.join(DATA_DIR, 'events.csv')"
   ]
  },
  {
   "cell_type": "code",
   "execution_count": 4,
   "id": "7df634af",
   "metadata": {
    "execution": {
     "iopub.execute_input": "2023-08-02T23:37:38.387821Z",
     "iopub.status.busy": "2023-08-02T23:37:38.387355Z",
     "iopub.status.idle": "2023-08-02T23:37:38.391555Z",
     "shell.execute_reply": "2023-08-02T23:37:38.390711Z"
    },
    "papermill": {
     "duration": 0.009216,
     "end_time": "2023-08-02T23:37:38.393570",
     "exception": false,
     "start_time": "2023-08-02T23:37:38.384354",
     "status": "completed"
    },
    "tags": []
   },
   "outputs": [],
   "source": [
    "columns = {\n",
    "    'Event Name': 'name',\n",
    "    'Event Start Date': 'start_date',\n",
    "    'Event End Date': 'end_date',\n",
    "    'Partner/Promote': 'partner_promote',\n",
    "    'Stage': 'stage',\n",
    "    'Live date': 'live_date',\n",
    "    'Venue postcode': 'postcode',\n",
    "    'Pricing Policy': 'pricing',\n",
    "    'Venue - including address': 'venue',\n",
    "    'Is this event on Leeds Inspried?': 'on_leeds_inspired',\n",
    "}"
   ]
  },
  {
   "cell_type": "markdown",
   "id": "35da482d",
   "metadata": {
    "papermill": {
     "duration": 0.002343,
     "end_time": "2023-08-02T23:37:38.398157",
     "exception": false,
     "start_time": "2023-08-02T23:37:38.395814",
     "status": "completed"
    },
    "tags": []
   },
   "source": [
    "Load the data and rename columns. Parse the dates to dates."
   ]
  },
  {
   "cell_type": "code",
   "execution_count": 5,
   "id": "23756b09",
   "metadata": {
    "execution": {
     "iopub.execute_input": "2023-08-02T23:37:38.404040Z",
     "iopub.status.busy": "2023-08-02T23:37:38.403572Z",
     "iopub.status.idle": "2023-08-02T23:37:38.415598Z",
     "shell.execute_reply": "2023-08-02T23:37:38.414771Z"
    },
    "papermill": {
     "duration": 0.016688,
     "end_time": "2023-08-02T23:37:38.417212",
     "exception": false,
     "start_time": "2023-08-02T23:37:38.400524",
     "status": "completed"
    },
    "tags": []
   },
   "outputs": [],
   "source": [
    "data = pd.read_csv(EVENTS_RAW_DATA)[columns.keys()].rename(columns=columns)\n",
    "data.start_date = pd.to_datetime(data.start_date, errors='coerce')\n",
    "data.end_date = pd.to_datetime(data.end_date, errors='coerce')"
   ]
  },
  {
   "cell_type": "markdown",
   "id": "88d62f1b",
   "metadata": {
    "papermill": {
     "duration": 0.002505,
     "end_time": "2023-08-02T23:37:38.422020",
     "exception": false,
     "start_time": "2023-08-02T23:37:38.419515",
     "status": "completed"
    },
    "tags": []
   },
   "source": [
    "Filter data by not LI Pull through and start date before now"
   ]
  },
  {
   "cell_type": "code",
   "execution_count": 6,
   "id": "e832b488",
   "metadata": {
    "execution": {
     "iopub.execute_input": "2023-08-02T23:37:38.428059Z",
     "iopub.status.busy": "2023-08-02T23:37:38.427835Z",
     "iopub.status.idle": "2023-08-02T23:37:38.433789Z",
     "shell.execute_reply": "2023-08-02T23:37:38.432827Z"
    },
    "papermill": {
     "duration": 0.010955,
     "end_time": "2023-08-02T23:37:38.435646",
     "exception": false,
     "start_time": "2023-08-02T23:37:38.424691",
     "status": "completed"
    },
    "tags": []
   },
   "outputs": [],
   "source": [
    "data = data[\n",
    "    # (data.live_date == 'This event is live ') &\n",
    "    ((data.stage != 'LI pull through') & data.stage.notna()) &\n",
    "    (data.start_date < pd.Timestamp.now())\n",
    "]"
   ]
  },
  {
   "cell_type": "code",
   "execution_count": 7,
   "id": "40b20253",
   "metadata": {
    "execution": {
     "iopub.execute_input": "2023-08-02T23:37:38.441845Z",
     "iopub.status.busy": "2023-08-02T23:37:38.441626Z",
     "iopub.status.idle": "2023-08-02T23:37:39.793170Z",
     "shell.execute_reply": "2023-08-02T23:37:39.792120Z"
    },
    "papermill": {
     "duration": 1.357255,
     "end_time": "2023-08-02T23:37:39.795240",
     "exception": false,
     "start_time": "2023-08-02T23:37:38.437985",
     "status": "completed"
    },
    "tags": []
   },
   "outputs": [],
   "source": [
    "data['ward_code'] = data.postcode.pipe(util.geo.postcode_formatter).map(util.geo.postcode_to_ward_code)\n",
    "data['ward_name'] = data.ward_code.pipe(util.geo.ward_code_to_name)"
   ]
  },
  {
   "cell_type": "markdown",
   "id": "2a4bea67",
   "metadata": {
    "papermill": {
     "duration": 0.003612,
     "end_time": "2023-08-02T23:37:39.801708",
     "exception": false,
     "start_time": "2023-08-02T23:37:39.798096",
     "status": "completed"
    },
    "tags": []
   },
   "source": [
    "Save the file"
   ]
  },
  {
   "cell_type": "code",
   "execution_count": 8,
   "id": "c71fd089",
   "metadata": {
    "execution": {
     "iopub.execute_input": "2023-08-02T23:37:39.809145Z",
     "iopub.status.busy": "2023-08-02T23:37:39.808216Z",
     "iopub.status.idle": "2023-08-02T23:37:39.815609Z",
     "shell.execute_reply": "2023-08-02T23:37:39.814851Z"
    },
    "papermill": {
     "duration": 0.013088,
     "end_time": "2023-08-02T23:37:39.817445",
     "exception": false,
     "start_time": "2023-08-02T23:37:39.804357",
     "status": "completed"
    },
    "tags": []
   },
   "outputs": [],
   "source": [
    "data[\n",
    "    ['name','start_date','end_date','ward_code']\n",
    "].to_csv(EVENTS_DATA, index=False)"
   ]
  },
  {
   "cell_type": "markdown",
   "id": "e737b311",
   "metadata": {
    "papermill": {
     "duration": 0.002482,
     "end_time": "2023-08-02T23:37:39.822303",
     "exception": false,
     "start_time": "2023-08-02T23:37:39.819821",
     "status": "completed"
    },
    "tags": []
   },
   "source": [
    "Print out missing postcode data"
   ]
  },
  {
   "cell_type": "code",
   "execution_count": 9,
   "id": "d3395f40",
   "metadata": {
    "execution": {
     "iopub.execute_input": "2023-08-02T23:37:39.829301Z",
     "iopub.status.busy": "2023-08-02T23:37:39.828512Z",
     "iopub.status.idle": "2023-08-02T23:37:39.842365Z",
     "shell.execute_reply": "2023-08-02T23:37:39.841582Z"
    },
    "papermill": {
     "duration": 0.019238,
     "end_time": "2023-08-02T23:37:39.844408",
     "exception": false,
     "start_time": "2023-08-02T23:37:39.825170",
     "status": "completed"
    },
    "tags": []
   },
   "outputs": [
    {
     "data": {
      "text/html": [
       "<div>\n",
       "<style scoped>\n",
       "    .dataframe tbody tr th:only-of-type {\n",
       "        vertical-align: middle;\n",
       "    }\n",
       "\n",
       "    .dataframe tbody tr th {\n",
       "        vertical-align: top;\n",
       "    }\n",
       "\n",
       "    .dataframe thead th {\n",
       "        text-align: right;\n",
       "    }\n",
       "</style>\n",
       "<table border=\"1\" class=\"dataframe\">\n",
       "  <thead>\n",
       "    <tr style=\"text-align: right;\">\n",
       "      <th></th>\n",
       "      <th>name</th>\n",
       "      <th>start_date</th>\n",
       "    </tr>\n",
       "  </thead>\n",
       "  <tbody>\n",
       "    <tr>\n",
       "      <th>1</th>\n",
       "      <td>East Street Arts, A City Less Grey 2022</td>\n",
       "      <td>2022-10-08</td>\n",
       "    </tr>\n",
       "    <tr>\n",
       "      <th>3</th>\n",
       "      <td>Phoenix Dance Theatre Virtual Gallery</td>\n",
       "      <td>2023-01-01</td>\n",
       "    </tr>\n",
       "    <tr>\n",
       "      <th>4</th>\n",
       "      <td>The Big Art Giveaway, School of Creative Arts ...</td>\n",
       "      <td>2023-01-01</td>\n",
       "    </tr>\n",
       "    <tr>\n",
       "      <th>5</th>\n",
       "      <td>Embassy of Netherlands, Meet Leeds Lab</td>\n",
       "      <td>2023-01-16</td>\n",
       "    </tr>\n",
       "    <tr>\n",
       "      <th>6</th>\n",
       "      <td>Shifting Borders: A Journey to the Centre of o...</td>\n",
       "      <td>2023-01-24</td>\n",
       "    </tr>\n",
       "    <tr>\n",
       "      <th>12</th>\n",
       "      <td>Leeds Lit Fest 2023</td>\n",
       "      <td>2023-02-25</td>\n",
       "    </tr>\n",
       "    <tr>\n",
       "      <th>26</th>\n",
       "      <td>East Street Arts, Add Fuel</td>\n",
       "      <td>2023-04-01</td>\n",
       "    </tr>\n",
       "    <tr>\n",
       "      <th>43</th>\n",
       "      <td>Jamica Society Leeds, Out of Many Festival - T...</td>\n",
       "      <td>2023-05-01</td>\n",
       "    </tr>\n",
       "    <tr>\n",
       "      <th>44</th>\n",
       "      <td>Sayang, Si Polan - International residency in ...</td>\n",
       "      <td>2023-05-01</td>\n",
       "    </tr>\n",
       "    <tr>\n",
       "      <th>63</th>\n",
       "      <td>Leeds Jazz Festival 2023</td>\n",
       "      <td>2023-05-25</td>\n",
       "    </tr>\n",
       "    <tr>\n",
       "      <th>79</th>\n",
       "      <td>Keira Martin, Queenie and the Pooka (Performan...</td>\n",
       "      <td>2023-06-05</td>\n",
       "    </tr>\n",
       "    <tr>\n",
       "      <th>80</th>\n",
       "      <td>My LEEDS Summer: Kirkstall Makes + Moves</td>\n",
       "      <td>2023-06-11</td>\n",
       "    </tr>\n",
       "    <tr>\n",
       "      <th>83</th>\n",
       "      <td>My LEEDS Summer at Hunslet Festival</td>\n",
       "      <td>2023-06-17</td>\n",
       "    </tr>\n",
       "    <tr>\n",
       "      <th>84</th>\n",
       "      <td>My LEEDS Summer: Roundhay World Music &amp; Food Fest</td>\n",
       "      <td>2023-06-17</td>\n",
       "    </tr>\n",
       "    <tr>\n",
       "      <th>92</th>\n",
       "      <td>My LEEDS Summer: Beeston Festival</td>\n",
       "      <td>2023-06-24</td>\n",
       "    </tr>\n",
       "    <tr>\n",
       "      <th>93</th>\n",
       "      <td>My LEEDS Summer: Crossgates and Whinmoor - Pas...</td>\n",
       "      <td>2023-06-24</td>\n",
       "    </tr>\n",
       "    <tr>\n",
       "      <th>94</th>\n",
       "      <td>My LEEDS Summer: Picnic in the Park</td>\n",
       "      <td>2023-06-24</td>\n",
       "    </tr>\n",
       "    <tr>\n",
       "      <th>97</th>\n",
       "      <td>Becoming the Brontës</td>\n",
       "      <td>2023-06-29</td>\n",
       "    </tr>\n",
       "    <tr>\n",
       "      <th>103</th>\n",
       "      <td>My LEEDS Summer: Wetherby Drovers Day</td>\n",
       "      <td>2023-07-01</td>\n",
       "    </tr>\n",
       "    <tr>\n",
       "      <th>104</th>\n",
       "      <td>My Leeds Summer : Walk of Art</td>\n",
       "      <td>2023-07-01</td>\n",
       "    </tr>\n",
       "    <tr>\n",
       "      <th>107</th>\n",
       "      <td>My LEEDS Summer: The Feast</td>\n",
       "      <td>2023-07-02</td>\n",
       "    </tr>\n",
       "    <tr>\n",
       "      <th>108</th>\n",
       "      <td>My LEEDS summer: Celebration Day</td>\n",
       "      <td>2023-07-02</td>\n",
       "    </tr>\n",
       "    <tr>\n",
       "      <th>116</th>\n",
       "      <td>My LEEDS Summer : Wonderful Workshops and Cele...</td>\n",
       "      <td>2023-07-06</td>\n",
       "    </tr>\n",
       "    <tr>\n",
       "      <th>123</th>\n",
       "      <td>My LEEDS Summer: The Gipton and Harehills Crea...</td>\n",
       "      <td>2023-07-08</td>\n",
       "    </tr>\n",
       "    <tr>\n",
       "      <th>125</th>\n",
       "      <td>My LEEDS Summer: Ardsley &amp; Robin Hood: Celebra...</td>\n",
       "      <td>2023-07-09</td>\n",
       "    </tr>\n",
       "    <tr>\n",
       "      <th>127</th>\n",
       "      <td>My LEEDS Summer: The Big Summer Picnic</td>\n",
       "      <td>2023-07-09</td>\n",
       "    </tr>\n",
       "    <tr>\n",
       "      <th>130</th>\n",
       "      <td>My LEEDS Summer: Ralph Thoresby Summer Festival</td>\n",
       "      <td>2023-07-15</td>\n",
       "    </tr>\n",
       "    <tr>\n",
       "      <th>132</th>\n",
       "      <td>My LEEDS Summer: Fuse Festival</td>\n",
       "      <td>2023-07-17</td>\n",
       "    </tr>\n",
       "    <tr>\n",
       "      <th>134</th>\n",
       "      <td>Community Training Programme</td>\n",
       "      <td>2023-07-20</td>\n",
       "    </tr>\n",
       "    <tr>\n",
       "      <th>136</th>\n",
       "      <td>My LEEDS Summer: Festival of Culture</td>\n",
       "      <td>2023-07-22</td>\n",
       "    </tr>\n",
       "    <tr>\n",
       "      <th>137</th>\n",
       "      <td>My LEEDS Summer: Kippax and Methley Culture Trail</td>\n",
       "      <td>2023-07-22</td>\n",
       "    </tr>\n",
       "    <tr>\n",
       "      <th>138</th>\n",
       "      <td>My LEEDS Summer: Farnley and Wortley gives it ...</td>\n",
       "      <td>2023-07-23</td>\n",
       "    </tr>\n",
       "    <tr>\n",
       "      <th>139</th>\n",
       "      <td>My LEEDS Summer: Garforth and Swillington's Cr...</td>\n",
       "      <td>2023-07-23</td>\n",
       "    </tr>\n",
       "    <tr>\n",
       "      <th>140</th>\n",
       "      <td>My LEEDS Summer: Morley Make Together</td>\n",
       "      <td>2023-07-23</td>\n",
       "    </tr>\n",
       "    <tr>\n",
       "      <th>141</th>\n",
       "      <td>Gracefool Collective, Kick Off 2023</td>\n",
       "      <td>2023-07-27</td>\n",
       "    </tr>\n",
       "    <tr>\n",
       "      <th>145</th>\n",
       "      <td>My LEEDS Summer: Picture Palace in the Park</td>\n",
       "      <td>2023-07-29</td>\n",
       "    </tr>\n",
       "  </tbody>\n",
       "</table>\n",
       "</div>"
      ],
      "text/plain": [
       "                                                  name start_date\n",
       "1              East Street Arts, A City Less Grey 2022 2022-10-08\n",
       "3                Phoenix Dance Theatre Virtual Gallery 2023-01-01\n",
       "4    The Big Art Giveaway, School of Creative Arts ... 2023-01-01\n",
       "5               Embassy of Netherlands, Meet Leeds Lab 2023-01-16\n",
       "6    Shifting Borders: A Journey to the Centre of o... 2023-01-24\n",
       "12                                 Leeds Lit Fest 2023 2023-02-25\n",
       "26                          East Street Arts, Add Fuel 2023-04-01\n",
       "43   Jamica Society Leeds, Out of Many Festival - T... 2023-05-01\n",
       "44   Sayang, Si Polan - International residency in ... 2023-05-01\n",
       "63                            Leeds Jazz Festival 2023 2023-05-25\n",
       "79   Keira Martin, Queenie and the Pooka (Performan... 2023-06-05\n",
       "80            My LEEDS Summer: Kirkstall Makes + Moves 2023-06-11\n",
       "83                 My LEEDS Summer at Hunslet Festival 2023-06-17\n",
       "84   My LEEDS Summer: Roundhay World Music & Food Fest 2023-06-17\n",
       "92                   My LEEDS Summer: Beeston Festival 2023-06-24\n",
       "93   My LEEDS Summer: Crossgates and Whinmoor - Pas... 2023-06-24\n",
       "94                 My LEEDS Summer: Picnic in the Park 2023-06-24\n",
       "97                                Becoming the Brontës 2023-06-29\n",
       "103              My LEEDS Summer: Wetherby Drovers Day 2023-07-01\n",
       "104                      My Leeds Summer : Walk of Art 2023-07-01\n",
       "107                         My LEEDS Summer: The Feast 2023-07-02\n",
       "108                   My LEEDS summer: Celebration Day 2023-07-02\n",
       "116  My LEEDS Summer : Wonderful Workshops and Cele... 2023-07-06\n",
       "123  My LEEDS Summer: The Gipton and Harehills Crea... 2023-07-08\n",
       "125  My LEEDS Summer: Ardsley & Robin Hood: Celebra... 2023-07-09\n",
       "127             My LEEDS Summer: The Big Summer Picnic 2023-07-09\n",
       "130    My LEEDS Summer: Ralph Thoresby Summer Festival 2023-07-15\n",
       "132                     My LEEDS Summer: Fuse Festival 2023-07-17\n",
       "134                       Community Training Programme 2023-07-20\n",
       "136               My LEEDS Summer: Festival of Culture 2023-07-22\n",
       "137  My LEEDS Summer: Kippax and Methley Culture Trail 2023-07-22\n",
       "138  My LEEDS Summer: Farnley and Wortley gives it ... 2023-07-23\n",
       "139  My LEEDS Summer: Garforth and Swillington's Cr... 2023-07-23\n",
       "140              My LEEDS Summer: Morley Make Together 2023-07-23\n",
       "141                Gracefool Collective, Kick Off 2023 2023-07-27\n",
       "145        My LEEDS Summer: Picture Palace in the Park 2023-07-29"
      ]
     },
     "execution_count": 9,
     "metadata": {},
     "output_type": "execute_result"
    }
   ],
   "source": [
    "data[data.postcode.isna()][[\n",
    "    'name', 'start_date'\n",
    "]]"
   ]
  },
  {
   "cell_type": "markdown",
   "id": "bd10e0e9",
   "metadata": {
    "papermill": {
     "duration": 0.002859,
     "end_time": "2023-08-02T23:37:39.850098",
     "exception": false,
     "start_time": "2023-08-02T23:37:39.847239",
     "status": "completed"
    },
    "tags": []
   },
   "source": [
    "Plot the pricing"
   ]
  },
  {
   "cell_type": "code",
   "execution_count": 10,
   "id": "ef9476fb",
   "metadata": {
    "execution": {
     "iopub.execute_input": "2023-08-02T23:37:39.857594Z",
     "iopub.status.busy": "2023-08-02T23:37:39.857372Z",
     "iopub.status.idle": "2023-08-02T23:37:40.865653Z",
     "shell.execute_reply": "2023-08-02T23:37:40.864968Z"
    },
    "papermill": {
     "duration": 1.014426,
     "end_time": "2023-08-02T23:37:40.867418",
     "exception": false,
     "start_time": "2023-08-02T23:37:39.852992",
     "status": "completed"
    },
    "tags": []
   },
   "outputs": [
    {
     "data": {
      "image/png": "[encoded data removed]",
      "text/plain": [
       "<Figure size 640x480 with 1 Axes>"
      ]
     },
     "metadata": {},
     "output_type": "display_data"
    }
   ],
   "source": [
    "# .groupby('pricing').count().plot.barh()\n",
    "pricing = data.pricing.fillna('Unspecified').str.replace('[\\[\\'\\]]', '', regex=True).to_frame().reset_index().groupby('pricing').count()\n",
    "\n",
    "pricing.columns = ['count']\n",
    "plot = pricing.plot.barh()\n"
   ]
  },
  {
   "cell_type": "code",
   "execution_count": null,
   "id": "6cf14291",
   "metadata": {
    "papermill": {
     "duration": 0.003388,
     "end_time": "2023-08-02T23:37:40.874364",
     "exception": false,
     "start_time": "2023-08-02T23:37:40.870976",
     "status": "completed"
    },
    "tags": []
   },
   "outputs": [],
   "source": []
  }
 ],
 "metadata": {
  "kernelspec": {
   "display_name": "leeds-2023-YZF5GfJv",
   "language": "python",
   "name": "python3"
  },
  "language_info": {
   "codemirror_mode": {
    "name": "ipython",
    "version": 3
   },
   "file_extension": ".py",
   "mimetype": "text/x-python",
   "name": "python",
   "nbconvert_exporter": "python",
   "pygments_lexer": "ipython3",
   "version": "3.10.6"
  },
  "papermill": {
   "default_parameters": {},
   "duration": 14.330226,
   "end_time": "2023-08-02T23:37:41.296440",
   "environment_variables": {},
   "exception": null,
   "input_path": "transform.ipynb",
   "output_path": "../../../working/output/partner-events-transform.ipynb",
   "parameters": {},
   "start_time": "2023-08-02T23:37:26.966214",
   "version": "2.4.0"
  }
 },
 "nbformat": 4,
 "nbformat_minor": 5
}