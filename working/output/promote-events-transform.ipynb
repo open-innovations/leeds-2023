{
 "cells": [
  {
   "cell_type": "code",
   "execution_count": 1,
   "id": "80bd7115",
   "metadata": {
    "execution": {
     "iopub.execute_input": "2023-09-14T23:40:42.008350Z",
     "iopub.status.busy": "2023-09-14T23:40:42.007818Z",
     "iopub.status.idle": "2023-09-14T23:40:42.255558Z",
     "shell.execute_reply": "2023-09-14T23:40:42.254914Z"
    },
    "papermill": {
     "duration": 0.252537,
     "end_time": "2023-09-14T23:40:42.257349",
     "exception": false,
     "start_time": "2023-09-14T23:40:42.004812",
     "status": "completed"
    },
    "tags": []
   },
   "outputs": [],
   "source": [
    "import os\n",
    "import pandas as pd"
   ]
  },
  {
   "cell_type": "code",
   "execution_count": 2,
   "id": "458f2d10",
   "metadata": {
    "execution": {
     "iopub.execute_input": "2023-09-14T23:40:42.261758Z",
     "iopub.status.busy": "2023-09-14T23:40:42.261464Z",
     "iopub.status.idle": "2023-09-14T23:40:42.265760Z",
     "shell.execute_reply": "2023-09-14T23:40:42.265186Z"
    },
    "papermill": {
     "duration": 0.008192,
     "end_time": "2023-09-14T23:40:42.267228",
     "exception": false,
     "start_time": "2023-09-14T23:40:42.259036",
     "status": "completed"
    },
    "tags": []
   },
   "outputs": [],
   "source": [
    "EVENTS_RAW_DATA = '../../../working/metrics/promote-events/events.csv'\n",
    "DATA_DIR = '../../../data/metrics/events/promote-events/'\n",
    "EVENTS_DATA = os.path.join(DATA_DIR, 'events.csv')"
   ]
  },
  {
   "cell_type": "code",
   "execution_count": 3,
   "id": "f34564cd",
   "metadata": {
    "execution": {
     "iopub.execute_input": "2023-09-14T23:40:42.270909Z",
     "iopub.status.busy": "2023-09-14T23:40:42.270489Z",
     "iopub.status.idle": "2023-09-14T23:40:42.274750Z",
     "shell.execute_reply": "2023-09-14T23:40:42.274169Z"
    },
    "papermill": {
     "duration": 0.007642,
     "end_time": "2023-09-14T23:40:42.276178",
     "exception": false,
     "start_time": "2023-09-14T23:40:42.268536",
     "status": "completed"
    },
    "tags": []
   },
   "outputs": [],
   "source": [
    "columns = {\n",
    "    'id': 'id',\n",
    "    'name': 'name',\n",
    "    'locationName': 'location',\n",
    "    'cardPrice': 'card_price',\n",
    "    'timeslots': 'time',\n",
    "    # 'displayOnWebsite': 'display',\n",
    "    'Stage': 'stage',\n",
    "}"
   ]
  },
  {
   "cell_type": "code",
   "execution_count": 4,
   "id": "fb241fec",
   "metadata": {
    "execution": {
     "iopub.execute_input": "2023-09-14T23:40:42.279777Z",
     "iopub.status.busy": "2023-09-14T23:40:42.279451Z",
     "iopub.status.idle": "2023-09-14T23:40:42.290811Z",
     "shell.execute_reply": "2023-09-14T23:40:42.290212Z"
    },
    "papermill": {
     "duration": 0.014758,
     "end_time": "2023-09-14T23:40:42.292250",
     "exception": false,
     "start_time": "2023-09-14T23:40:42.277492",
     "status": "completed"
    },
    "tags": []
   },
   "outputs": [],
   "source": [
    "data = pd.read_csv(EVENTS_RAW_DATA)[columns.keys()].rename(columns=columns)\n",
    "data.time = pd.to_datetime(data.time, errors='coerce')"
   ]
  },
  {
   "cell_type": "code",
   "execution_count": 5,
   "id": "8807e74a",
   "metadata": {
    "execution": {
     "iopub.execute_input": "2023-09-14T23:40:42.296340Z",
     "iopub.status.busy": "2023-09-14T23:40:42.295717Z",
     "iopub.status.idle": "2023-09-14T23:40:42.301263Z",
     "shell.execute_reply": "2023-09-14T23:40:42.300692Z"
    },
    "papermill": {
     "duration": 0.009208,
     "end_time": "2023-09-14T23:40:42.302829",
     "exception": false,
     "start_time": "2023-09-14T23:40:42.293621",
     "status": "completed"
    },
    "tags": []
   },
   "outputs": [],
   "source": [
    "data.to_csv(os.path.join(DATA_DIR, 'events.csv'), index=False)"
   ]
  }
 ],
 "metadata": {
  "kernelspec": {
   "display_name": "leeds-2023-YZF5GfJv",
   "language": "python",
   "name": "python3"
  },
  "language_info": {
   "codemirror_mode": {
    "name": "ipython",
    "version": 3
   },
   "file_extension": ".py",
   "mimetype": "text/x-python",
   "name": "python",
   "nbconvert_exporter": "python",
   "pygments_lexer": "ipython3",
   "version": "3.10.13"
  },
  "papermill": {
   "default_parameters": {},
   "duration": 1.861657,
   "end_time": "2023-09-14T23:40:42.521262",
   "environment_variables": {},
   "exception": null,
   "input_path": "transform.ipynb",
   "output_path": "../../../working/output/promote-events-transform.ipynb",
   "parameters": {},
   "start_time": "2023-09-14T23:40:40.659605",
   "version": "2.4.0"
  }
 },
 "nbformat": 4,
 "nbformat_minor": 5
}