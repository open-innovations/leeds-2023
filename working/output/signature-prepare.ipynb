{
 "cells": [
  {
   "cell_type": "code",
   "execution_count": 1,
   "id": "7bb0c680",
   "metadata": {
    "execution": {
     "iopub.execute_input": "2023-08-30T23:39:26.269073Z",
     "iopub.status.busy": "2023-08-30T23:39:26.268593Z",
     "iopub.status.idle": "2023-08-30T23:39:35.943089Z",
     "shell.execute_reply": "2023-08-30T23:39:35.942351Z"
    },
    "papermill": {
     "duration": 9.681244,
     "end_time": "2023-08-30T23:39:35.945411",
     "exception": false,
     "start_time": "2023-08-30T23:39:26.264167",
     "status": "completed"
    },
    "tags": []
   },
   "outputs": [],
   "source": [
    "import os\n",
    "import pandas as pd\n",
    "from events import load_event_data, get_first_ward, normalise_ward"
   ]
  },
  {
   "cell_type": "code",
   "execution_count": 2,
   "id": "30f30908",
   "metadata": {
    "execution": {
     "iopub.execute_input": "2023-08-30T23:39:35.951415Z",
     "iopub.status.busy": "2023-08-30T23:39:35.950937Z",
     "iopub.status.idle": "2023-08-30T23:39:35.955679Z",
     "shell.execute_reply": "2023-08-30T23:39:35.954971Z"
    },
    "papermill": {
     "duration": 0.00933,
     "end_time": "2023-08-30T23:39:35.957119",
     "exception": false,
     "start_time": "2023-08-30T23:39:35.947789",
     "status": "completed"
    },
    "tags": []
   },
   "outputs": [],
   "source": [
    "latest_date = pd.Timestamp.today().ceil('D')"
   ]
  },
  {
   "cell_type": "code",
   "execution_count": 3,
   "id": "4acc061c",
   "metadata": {
    "execution": {
     "iopub.execute_input": "2023-08-30T23:39:35.962365Z",
     "iopub.status.busy": "2023-08-30T23:39:35.961930Z",
     "iopub.status.idle": "2023-08-30T23:39:35.979647Z",
     "shell.execute_reply": "2023-08-30T23:39:35.979052Z"
    },
    "papermill": {
     "duration": 0.022322,
     "end_time": "2023-08-30T23:39:35.981426",
     "exception": false,
     "start_time": "2023-08-30T23:39:35.959104",
     "status": "completed"
    },
    "tags": []
   },
   "outputs": [],
   "source": [
    "tickets = pd.read_csv('../../../../data/metrics/events/tickets/orders.csv', parse_dates=['created_at', 'event_date'])\n",
    "tickets = tickets[tickets.event_date <= latest_date]"
   ]
  },
  {
   "cell_type": "code",
   "execution_count": 4,
   "id": "e5061daa",
   "metadata": {
    "execution": {
     "iopub.execute_input": "2023-08-30T23:39:35.986723Z",
     "iopub.status.busy": "2023-08-30T23:39:35.986303Z",
     "iopub.status.idle": "2023-08-30T23:39:36.173099Z",
     "shell.execute_reply": "2023-08-30T23:39:36.172384Z"
    },
    "papermill": {
     "duration": 0.191745,
     "end_time": "2023-08-30T23:39:36.175250",
     "exception": false,
     "start_time": "2023-08-30T23:39:35.983505",
     "status": "completed"
    },
    "tags": []
   },
   "outputs": [],
   "source": [
    "events = load_event_data()\n",
    "\n",
    "events = pd.concat([\n",
    "  events,\n",
    "  events.pipe(get_first_ward).pipe(normalise_ward).fillna('UNKNOWN'),\n",
    "  pd.Series(\n",
    "      events.actual_audience_size_number_of_participants_in_person + events.actual_audience_size_number_of_participants_online,\n",
    "      name='attendances'\n",
    "  )\n",
    "], axis=1).rename(columns={\n",
    "    'start_date': 'date'\n",
    "}).loc[:, ['ward_code', 'date', 'event_unique_identifier', 'attendances']]"
   ]
  },
  {
   "cell_type": "code",
   "execution_count": 5,
   "id": "4507990d",
   "metadata": {
    "execution": {
     "iopub.execute_input": "2023-08-30T23:39:36.182265Z",
     "iopub.status.busy": "2023-08-30T23:39:36.181642Z",
     "iopub.status.idle": "2023-08-30T23:39:36.185159Z",
     "shell.execute_reply": "2023-08-30T23:39:36.184511Z"
    },
    "papermill": {
     "duration": 0.008685,
     "end_time": "2023-08-30T23:39:36.186618",
     "exception": false,
     "start_time": "2023-08-30T23:39:36.177933",
     "status": "completed"
    },
    "tags": []
   },
   "outputs": [],
   "source": [
    "OUTPUT_DIR='../../../../docs/metrics/events/signature/_data/'\n",
    "os.makedirs(OUTPUT_DIR, exist_ok=True)"
   ]
  },
  {
   "cell_type": "markdown",
   "id": "de5ca705",
   "metadata": {
    "papermill": {
     "duration": 0.002073,
     "end_time": "2023-08-30T23:39:36.190786",
     "exception": false,
     "start_time": "2023-08-30T23:39:36.188713",
     "status": "completed"
    },
    "tags": []
   },
   "source": [
    "Events CSVs"
   ]
  },
  {
   "cell_type": "code",
   "execution_count": 6,
   "id": "e12f8dff",
   "metadata": {
    "execution": {
     "iopub.execute_input": "2023-08-30T23:39:36.196236Z",
     "iopub.status.busy": "2023-08-30T23:39:36.195672Z",
     "iopub.status.idle": "2023-08-30T23:39:36.203806Z",
     "shell.execute_reply": "2023-08-30T23:39:36.203234Z"
    },
    "papermill": {
     "duration": 0.012417,
     "end_time": "2023-08-30T23:39:36.205279",
     "exception": false,
     "start_time": "2023-08-30T23:39:36.192862",
     "status": "completed"
    },
    "tags": []
   },
   "outputs": [],
   "source": [
    "pd.DataFrame({\n",
    "  'events': events.groupby('ward_code').event_unique_identifier.count(),\n",
    "  'attendances': events.groupby('ward_code').attendances.sum().astype(int),\n",
    "}).to_csv(os.path.join(OUTPUT_DIR, 'events_by_ward.csv'))\n"
   ]
  },
  {
   "cell_type": "code",
   "execution_count": 7,
   "id": "9d2a7c48",
   "metadata": {
    "execution": {
     "iopub.execute_input": "2023-08-30T23:39:36.210598Z",
     "iopub.status.busy": "2023-08-30T23:39:36.210177Z",
     "iopub.status.idle": "2023-08-30T23:39:36.220749Z",
     "shell.execute_reply": "2023-08-30T23:39:36.220077Z"
    },
    "papermill": {
     "duration": 0.015032,
     "end_time": "2023-08-30T23:39:36.222385",
     "exception": false,
     "start_time": "2023-08-30T23:39:36.207353",
     "status": "completed"
    },
    "tags": []
   },
   "outputs": [],
   "source": [
    "pd.DataFrame({\n",
    "  'events': events.groupby('date').event_unique_identifier.count(),\n",
    "  'attendances': events.groupby('date').attendances.sum().astype(int),\n",
    "}).resample('M').sum().astype(int).to_csv(os.path.join(OUTPUT_DIR, 'events_by_date.csv'))"
   ]
  },
  {
   "cell_type": "markdown",
   "id": "adcc9d80",
   "metadata": {
    "papermill": {
     "duration": 0.002234,
     "end_time": "2023-08-30T23:39:36.226825",
     "exception": false,
     "start_time": "2023-08-30T23:39:36.224591",
     "status": "completed"
    },
    "tags": []
   },
   "source": [
    "Tickets CSV"
   ]
  },
  {
   "cell_type": "code",
   "execution_count": 8,
   "id": "bffd48b4",
   "metadata": {
    "execution": {
     "iopub.execute_input": "2023-08-30T23:39:36.232356Z",
     "iopub.status.busy": "2023-08-30T23:39:36.231912Z",
     "iopub.status.idle": "2023-08-30T23:39:36.239182Z",
     "shell.execute_reply": "2023-08-30T23:39:36.238614Z"
    },
    "papermill": {
     "duration": 0.011795,
     "end_time": "2023-08-30T23:39:36.240743",
     "exception": false,
     "start_time": "2023-08-30T23:39:36.228948",
     "status": "completed"
    },
    "tags": []
   },
   "outputs": [],
   "source": [
    "pd.DataFrame({\n",
    "  'orders': tickets.groupby('ward_code').number_of_tickets.count(),\n",
    "  'tickets': tickets.groupby('ward_code').number_of_tickets.sum().astype(int),\n",
    "}).to_csv(os.path.join(OUTPUT_DIR, 'tickets_by_ward.csv'))"
   ]
  },
  {
   "cell_type": "code",
   "execution_count": 9,
   "id": "6dee5aae",
   "metadata": {
    "execution": {
     "iopub.execute_input": "2023-08-30T23:39:36.246401Z",
     "iopub.status.busy": "2023-08-30T23:39:36.245976Z",
     "iopub.status.idle": "2023-08-30T23:39:36.254340Z",
     "shell.execute_reply": "2023-08-30T23:39:36.253776Z"
    },
    "papermill": {
     "duration": 0.012815,
     "end_time": "2023-08-30T23:39:36.255784",
     "exception": false,
     "start_time": "2023-08-30T23:39:36.242969",
     "status": "completed"
    },
    "tags": []
   },
   "outputs": [],
   "source": [
    "pd.DataFrame({\n",
    "  'orders': tickets.groupby('event_date').number_of_tickets.count(),\n",
    "  'tickets': tickets.groupby('event_date').number_of_tickets.sum().astype(int),\n",
    "}).resample('M').sum().to_csv(os.path.join(OUTPUT_DIR, 'tickets_by_event_date.csv'))"
   ]
  },
  {
   "cell_type": "code",
   "execution_count": 10,
   "id": "afd83136",
   "metadata": {
    "execution": {
     "iopub.execute_input": "2023-08-30T23:39:36.262565Z",
     "iopub.status.busy": "2023-08-30T23:39:36.261992Z",
     "iopub.status.idle": "2023-08-30T23:39:36.267428Z",
     "shell.execute_reply": "2023-08-30T23:39:36.266797Z"
    },
    "papermill": {
     "duration": 0.011023,
     "end_time": "2023-08-30T23:39:36.269041",
     "exception": false,
     "start_time": "2023-08-30T23:39:36.258018",
     "status": "completed"
    },
    "tags": []
   },
   "outputs": [],
   "source": [
    "pd.Series({\n",
    "    'total_events': events.event_unique_identifier.count(),\n",
    "    'total_attendances': events.attendances.count(),\n",
    "    'first_event': events.date.min(),\n",
    "    'latest_event': events.date.max(),\n",
    "    'total_ticket_orders_for_events_to_date': tickets.number_of_tickets.count(),\n",
    "    'total_tickets_sold_for_events_to_date': tickets.number_of_tickets.sum(),\n",
    "}).to_json(os.path.join(OUTPUT_DIR, 'headlines.json'), indent=2)"
   ]
  },
  {
   "cell_type": "code",
   "execution_count": null,
   "id": "5411d6e1",
   "metadata": {
    "papermill": {
     "duration": 0.002187,
     "end_time": "2023-08-30T23:39:36.273443",
     "exception": false,
     "start_time": "2023-08-30T23:39:36.271256",
     "status": "completed"
    },
    "tags": []
   },
   "outputs": [],
   "source": []
  }
 ],
 "metadata": {
  "kernelspec": {
   "display_name": "leeds-2023-YZF5GfJv",
   "language": "python",
   "name": "python3"
  },
  "language_info": {
   "codemirror_mode": {
    "name": "ipython",
    "version": 3
   },
   "file_extension": ".py",
   "mimetype": "text/x-python",
   "name": "python",
   "nbconvert_exporter": "python",
   "pygments_lexer": "ipython3",
   "version": "3.10.12"
  },
  "papermill": {
   "default_parameters": {},
   "duration": 11.728211,
   "end_time": "2023-08-30T23:39:36.593242",
   "environment_variables": {},
   "exception": null,
   "input_path": "prepare.ipynb",
   "output_path": "../../../../working/output/signature-prepare.ipynb",
   "parameters": {},
   "start_time": "2023-08-30T23:39:24.865031",
   "version": "2.4.0"
  }
 },
 "nbformat": 4,
 "nbformat_minor": 5
}