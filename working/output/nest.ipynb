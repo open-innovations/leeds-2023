{
 "cells": [
  {
   "cell_type": "markdown",
   "id": "a0c82633",
   "metadata": {
    "papermill": {
     "duration": 0.002856,
     "end_time": "2023-10-24T23:38:17.382412",
     "exception": false,
     "start_time": "2023-10-24T23:38:17.379556",
     "status": "completed"
    },
    "tags": []
   },
   "source": [
    "# Nest\n",
    "\n",
    "Prepares data for the Nest page "
   ]
  },
  {
   "cell_type": "code",
   "execution_count": 1,
   "id": "6c9e9e77",
   "metadata": {
    "execution": {
     "iopub.execute_input": "2023-10-24T23:38:17.388942Z",
     "iopub.status.busy": "2023-10-24T23:38:17.388217Z",
     "iopub.status.idle": "2023-10-24T23:38:29.049725Z",
     "shell.execute_reply": "2023-10-24T23:38:29.048725Z"
    },
    "papermill": {
     "duration": 11.667265,
     "end_time": "2023-10-24T23:38:29.051901",
     "exception": false,
     "start_time": "2023-10-24T23:38:17.384636",
     "status": "completed"
    },
    "tags": []
   },
   "outputs": [],
   "source": [
    "import os\n",
    "from events import (\n",
    "    load_event_data, filter_public_events, filter_by_project, prepare, save_files, count_wards\n",
    ")"
   ]
  },
  {
   "cell_type": "markdown",
   "id": "da9ccaef",
   "metadata": {
    "papermill": {
     "duration": 0.00693,
     "end_time": "2023-10-24T23:38:29.060843",
     "exception": false,
     "start_time": "2023-10-24T23:38:29.053913",
     "status": "completed"
    },
    "tags": []
   },
   "source": [
    "Set output directory"
   ]
  },
  {
   "cell_type": "code",
   "execution_count": 2,
   "id": "2456bf27",
   "metadata": {
    "execution": {
     "iopub.execute_input": "2023-10-24T23:38:29.066604Z",
     "iopub.status.busy": "2023-10-24T23:38:29.066274Z",
     "iopub.status.idle": "2023-10-24T23:38:29.070957Z",
     "shell.execute_reply": "2023-10-24T23:38:29.069917Z"
    },
    "papermill": {
     "duration": 0.010562,
     "end_time": "2023-10-24T23:38:29.073420",
     "exception": false,
     "start_time": "2023-10-24T23:38:29.062858",
     "status": "completed"
    },
    "tags": []
   },
   "outputs": [],
   "source": [
    "OUT_DIR = '../../../../docs/metrics/events/nest/_data/events'"
   ]
  },
  {
   "cell_type": "markdown",
   "id": "01339f6b",
   "metadata": {
    "papermill": {
     "duration": 0.00212,
     "end_time": "2023-10-24T23:38:29.077293",
     "exception": false,
     "start_time": "2023-10-24T23:38:29.075173",
     "status": "completed"
    },
    "tags": []
   },
   "source": [
    "Read in event data and filter by **My LEEDS 2023** project.\n",
    "\n",
    "The criteria are:\n",
    "\n",
    "* project type is 'Produce (Signature)'\n",
    "* event_type contains 'Public Event -'\n",
    "\n",
    "It's then filtered by project_name is '10 - Melt'"
   ]
  },
  {
   "cell_type": "code",
   "execution_count": 3,
   "id": "fe0649e6",
   "metadata": {
    "execution": {
     "iopub.execute_input": "2023-10-24T23:38:29.083079Z",
     "iopub.status.busy": "2023-10-24T23:38:29.082818Z",
     "iopub.status.idle": "2023-10-24T23:38:29.116128Z",
     "shell.execute_reply": "2023-10-24T23:38:29.115244Z"
    },
    "papermill": {
     "duration": 0.038167,
     "end_time": "2023-10-24T23:38:29.117926",
     "exception": false,
     "start_time": "2023-10-24T23:38:29.079759",
     "status": "completed"
    },
    "tags": []
   },
   "outputs": [
    {
     "data": {
      "text/html": [
       "<div>\n",
       "<style scoped>\n",
       "    .dataframe tbody tr th:only-of-type {\n",
       "        vertical-align: middle;\n",
       "    }\n",
       "\n",
       "    .dataframe tbody tr th {\n",
       "        vertical-align: top;\n",
       "    }\n",
       "\n",
       "    .dataframe thead th {\n",
       "        text-align: right;\n",
       "    }\n",
       "</style>\n",
       "<table border=\"1\" class=\"dataframe\">\n",
       "  <thead>\n",
       "    <tr style=\"text-align: right;\">\n",
       "      <th></th>\n",
       "      <th>actual_audience_size_number_of_participants_in_person</th>\n",
       "      <th>actual_audience_size_number_of_participants_online</th>\n",
       "      <th>airtable_id</th>\n",
       "      <th>end_date</th>\n",
       "      <th>event_name</th>\n",
       "      <th>event_type</th>\n",
       "      <th>event_unique_identifier</th>\n",
       "      <th>number_of_booked_participants</th>\n",
       "      <th>postcode_(from_venue)</th>\n",
       "      <th>project_name</th>\n",
       "      <th>project_type</th>\n",
       "      <th>season</th>\n",
       "      <th>start_date</th>\n",
       "      <th>ward_(from_venue)</th>\n",
       "    </tr>\n",
       "  </thead>\n",
       "  <tbody>\n",
       "    <tr>\n",
       "      <th>1087</th>\n",
       "      <td>1338.0</td>\n",
       "      <td>NaN</td>\n",
       "      <td>241</td>\n",
       "      <td>2023-09-09</td>\n",
       "      <td>Melt (Run)</td>\n",
       "      <td>['Public Event - Performance']</td>\n",
       "      <td>10 - Melt: Melt (Run)</td>\n",
       "      <td>1542.0</td>\n",
       "      <td>['LS26 8AL']</td>\n",
       "      <td>10 - Melt</td>\n",
       "      <td>Produce (Signature)</td>\n",
       "      <td>['Season 3 - Dreaming']</td>\n",
       "      <td>2023-09-05</td>\n",
       "      <td>['Garforth and Swillington']</td>\n",
       "    </tr>\n",
       "  </tbody>\n",
       "</table>\n",
       "</div>"
      ],
      "text/plain": [
       "      actual_audience_size_number_of_participants_in_person  \\\n",
       "1087                                             1338.0       \n",
       "\n",
       "      actual_audience_size_number_of_participants_online  airtable_id  \\\n",
       "1087                                                NaN           241   \n",
       "\n",
       "        end_date  event_name                      event_type  \\\n",
       "1087  2023-09-09  Melt (Run)  ['Public Event - Performance']   \n",
       "\n",
       "     event_unique_identifier  number_of_booked_participants  \\\n",
       "1087   10 - Melt: Melt (Run)                         1542.0   \n",
       "\n",
       "     postcode_(from_venue) project_name         project_type  \\\n",
       "1087          ['LS26 8AL']    10 - Melt  Produce (Signature)   \n",
       "\n",
       "                       season start_date             ward_(from_venue)  \n",
       "1087  ['Season 3 - Dreaming'] 2023-09-05  ['Garforth and Swillington']  "
      ]
     },
     "execution_count": 3,
     "metadata": {},
     "output_type": "execute_result"
    }
   ],
   "source": [
    "data = (\n",
    "  load_event_data()\n",
    "    .pipe(filter_by_project, '10 - Melt')\n",
    "    .pipe(filter_public_events)\n",
    "  )\n",
    "data"
   ]
  },
  {
   "cell_type": "markdown",
   "id": "75e08487",
   "metadata": {
    "papermill": {
     "duration": 0.002104,
     "end_time": "2023-10-24T23:38:29.122444",
     "exception": false,
     "start_time": "2023-10-24T23:38:29.120340",
     "status": "completed"
    },
    "tags": []
   },
   "source": [
    "Run the processing and save the files"
   ]
  },
  {
   "cell_type": "code",
   "execution_count": 4,
   "id": "e2205863",
   "metadata": {
    "execution": {
     "iopub.execute_input": "2023-10-24T23:38:29.129359Z",
     "iopub.status.busy": "2023-10-24T23:38:29.128953Z",
     "iopub.status.idle": "2023-10-24T23:38:29.166525Z",
     "shell.execute_reply": "2023-10-24T23:38:29.165680Z"
    },
    "papermill": {
     "duration": 0.044022,
     "end_time": "2023-10-24T23:38:29.168692",
     "exception": false,
     "start_time": "2023-10-24T23:38:29.124670",
     "status": "completed"
    },
    "tags": []
   },
   "outputs": [],
   "source": [
    "data = data.pipe(prepare).pipe(save_files, OUT_DIR)"
   ]
  }
 ],
 "metadata": {
  "kernelspec": {
   "display_name": "leeds-2023-YZF5GfJv",
   "language": "python",
   "name": "python3"
  },
  "language_info": {
   "codemirror_mode": {
    "name": "ipython",
    "version": 3
   },
   "file_extension": ".py",
   "mimetype": "text/x-python",
   "name": "python",
   "nbconvert_exporter": "python",
   "pygments_lexer": "ipython3",
   "version": "3.10.13"
  },
  "papermill": {
   "default_parameters": {},
   "duration": 13.794693,
   "end_time": "2023-10-24T23:38:29.590876",
   "environment_variables": {},
   "exception": null,
   "input_path": "nest.ipynb",
   "output_path": "../../../../working/output/nest.ipynb",
   "parameters": {},
   "start_time": "2023-10-24T23:38:15.796183",
   "version": "2.4.0"
  }
 },
 "nbformat": 4,
 "nbformat_minor": 5
}