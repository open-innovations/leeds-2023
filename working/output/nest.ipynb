{
 "cells": [
  {
   "cell_type": "markdown",
   "id": "e8ec0c4d",
   "metadata": {
    "papermill": {
     "duration": 0.002794,
     "end_time": "2023-10-30T12:24:40.650491",
     "exception": false,
     "start_time": "2023-10-30T12:24:40.647697",
     "status": "completed"
    },
    "tags": []
   },
   "source": [
    "# Nest\n",
    "\n",
    "Prepares data for the Nest page "
   ]
  },
  {
   "cell_type": "code",
   "execution_count": 1,
   "id": "38f34da4",
   "metadata": {
    "execution": {
     "iopub.execute_input": "2023-10-30T12:24:40.657468Z",
     "iopub.status.busy": "2023-10-30T12:24:40.656466Z",
     "iopub.status.idle": "2023-10-30T12:24:53.542509Z",
     "shell.execute_reply": "2023-10-30T12:24:53.541451Z"
    },
    "papermill": {
     "duration": 12.892227,
     "end_time": "2023-10-30T12:24:53.545018",
     "exception": false,
     "start_time": "2023-10-30T12:24:40.652791",
     "status": "completed"
    },
    "tags": []
   },
   "outputs": [],
   "source": [
    "import os\n",
    "from events import (\n",
    "    load_event_data, filter_public_events, filter_by_project, prepare, save_files, count_wards\n",
    ")"
   ]
  },
  {
   "cell_type": "markdown",
   "id": "6f1290b2",
   "metadata": {
    "papermill": {
     "duration": 0.002855,
     "end_time": "2023-10-30T12:24:53.550569",
     "exception": false,
     "start_time": "2023-10-30T12:24:53.547714",
     "status": "completed"
    },
    "tags": []
   },
   "source": [
    "Set output directory"
   ]
  },
  {
   "cell_type": "code",
   "execution_count": 2,
   "id": "9c585531",
   "metadata": {
    "execution": {
     "iopub.execute_input": "2023-10-30T12:24:53.556489Z",
     "iopub.status.busy": "2023-10-30T12:24:53.555754Z",
     "iopub.status.idle": "2023-10-30T12:24:53.559677Z",
     "shell.execute_reply": "2023-10-30T12:24:53.558886Z"
    },
    "papermill": {
     "duration": 0.009029,
     "end_time": "2023-10-30T12:24:53.561721",
     "exception": false,
     "start_time": "2023-10-30T12:24:53.552692",
     "status": "completed"
    },
    "tags": []
   },
   "outputs": [],
   "source": [
    "OUT_DIR = '../../../../docs/metrics/events/nest/_data/events'"
   ]
  },
  {
   "cell_type": "markdown",
   "id": "8c216304",
   "metadata": {
    "papermill": {
     "duration": 0.002003,
     "end_time": "2023-10-30T12:24:53.565710",
     "exception": false,
     "start_time": "2023-10-30T12:24:53.563707",
     "status": "completed"
    },
    "tags": []
   },
   "source": [
    "Read in event data and filter by **My LEEDS 2023** project.\n",
    "\n",
    "The criteria are:\n",
    "\n",
    "* project type is 'Produce (Signature)'\n",
    "* event_type contains 'Public Event -'\n",
    "\n",
    "It's then filtered by project_name is '10 - Melt'"
   ]
  },
  {
   "cell_type": "code",
   "execution_count": 3,
   "id": "8ab48ac4",
   "metadata": {
    "execution": {
     "iopub.execute_input": "2023-10-30T12:24:53.571340Z",
     "iopub.status.busy": "2023-10-30T12:24:53.570674Z",
     "iopub.status.idle": "2023-10-30T12:24:53.606145Z",
     "shell.execute_reply": "2023-10-30T12:24:53.605191Z"
    },
    "papermill": {
     "duration": 0.041371,
     "end_time": "2023-10-30T12:24:53.609093",
     "exception": false,
     "start_time": "2023-10-30T12:24:53.567722",
     "status": "completed"
    },
    "tags": []
   },
   "outputs": [
    {
     "data": {
      "text/html": [
       "<div>\n",
       "<style scoped>\n",
       "    .dataframe tbody tr th:only-of-type {\n",
       "        vertical-align: middle;\n",
       "    }\n",
       "\n",
       "    .dataframe tbody tr th {\n",
       "        vertical-align: top;\n",
       "    }\n",
       "\n",
       "    .dataframe thead th {\n",
       "        text-align: right;\n",
       "    }\n",
       "</style>\n",
       "<table border=\"1\" class=\"dataframe\">\n",
       "  <thead>\n",
       "    <tr style=\"text-align: right;\">\n",
       "      <th></th>\n",
       "      <th>actual_audience_size_number_of_participants_in_person</th>\n",
       "      <th>actual_audience_size_number_of_participants_online</th>\n",
       "      <th>airtable_id</th>\n",
       "      <th>end_date</th>\n",
       "      <th>event_name</th>\n",
       "      <th>event_type</th>\n",
       "      <th>event_unique_identifier</th>\n",
       "      <th>number_of_booked_participants</th>\n",
       "      <th>postcode_(from_venue)</th>\n",
       "      <th>project_name</th>\n",
       "      <th>project_type</th>\n",
       "      <th>season</th>\n",
       "      <th>start_date</th>\n",
       "      <th>ticket_tailor_id</th>\n",
       "      <th>ward_(from_venue)</th>\n",
       "    </tr>\n",
       "  </thead>\n",
       "  <tbody>\n",
       "    <tr>\n",
       "      <th>1103</th>\n",
       "      <td>1338.0</td>\n",
       "      <td>NaN</td>\n",
       "      <td>241</td>\n",
       "      <td>2023-09-09</td>\n",
       "      <td>Melt (Run)</td>\n",
       "      <td>['Public Event - Performance']</td>\n",
       "      <td>10 - Melt: Melt (Run)</td>\n",
       "      <td>1542.0</td>\n",
       "      <td>['LS26 8AL']</td>\n",
       "      <td>10 - Melt</td>\n",
       "      <td>Produce (Signature)</td>\n",
       "      <td>['Season 3 - Dreaming']</td>\n",
       "      <td>2023-09-05</td>\n",
       "      <td>NaN</td>\n",
       "      <td>['Garforth and Swillington']</td>\n",
       "    </tr>\n",
       "  </tbody>\n",
       "</table>\n",
       "</div>"
      ],
      "text/plain": [
       "      actual_audience_size_number_of_participants_in_person  \\\n",
       "1103                                             1338.0       \n",
       "\n",
       "      actual_audience_size_number_of_participants_online  airtable_id  \\\n",
       "1103                                                NaN           241   \n",
       "\n",
       "        end_date  event_name                      event_type  \\\n",
       "1103  2023-09-09  Melt (Run)  ['Public Event - Performance']   \n",
       "\n",
       "     event_unique_identifier  number_of_booked_participants  \\\n",
       "1103   10 - Melt: Melt (Run)                         1542.0   \n",
       "\n",
       "     postcode_(from_venue) project_name         project_type  \\\n",
       "1103          ['LS26 8AL']    10 - Melt  Produce (Signature)   \n",
       "\n",
       "                       season start_date  ticket_tailor_id  \\\n",
       "1103  ['Season 3 - Dreaming'] 2023-09-05               NaN   \n",
       "\n",
       "                 ward_(from_venue)  \n",
       "1103  ['Garforth and Swillington']  "
      ]
     },
     "execution_count": 3,
     "metadata": {},
     "output_type": "execute_result"
    }
   ],
   "source": [
    "data = (\n",
    "  load_event_data()\n",
    "    .pipe(filter_by_project, '10 - Melt')\n",
    "    .pipe(filter_public_events)\n",
    "  )\n",
    "data"
   ]
  },
  {
   "cell_type": "markdown",
   "id": "39ba0bc3",
   "metadata": {
    "papermill": {
     "duration": 0.002361,
     "end_time": "2023-10-30T12:24:53.614948",
     "exception": false,
     "start_time": "2023-10-30T12:24:53.612587",
     "status": "completed"
    },
    "tags": []
   },
   "source": [
    "Run the processing and save the files"
   ]
  },
  {
   "cell_type": "code",
   "execution_count": 4,
   "id": "453fb857",
   "metadata": {
    "execution": {
     "iopub.execute_input": "2023-10-30T12:24:53.621067Z",
     "iopub.status.busy": "2023-10-30T12:24:53.620565Z",
     "iopub.status.idle": "2023-10-30T12:24:53.652286Z",
     "shell.execute_reply": "2023-10-30T12:24:53.651503Z"
    },
    "papermill": {
     "duration": 0.036903,
     "end_time": "2023-10-30T12:24:53.654155",
     "exception": false,
     "start_time": "2023-10-30T12:24:53.617252",
     "status": "completed"
    },
    "tags": []
   },
   "outputs": [],
   "source": [
    "data = data.pipe(prepare).pipe(save_files, OUT_DIR)"
   ]
  }
 ],
 "metadata": {
  "kernelspec": {
   "display_name": "leeds-2023-YZF5GfJv",
   "language": "python",
   "name": "python3"
  },
  "language_info": {
   "codemirror_mode": {
    "name": "ipython",
    "version": 3
   },
   "file_extension": ".py",
   "mimetype": "text/x-python",
   "name": "python",
   "nbconvert_exporter": "python",
   "pygments_lexer": "ipython3",
   "version": "3.10.13"
  },
  "papermill": {
   "default_parameters": {},
   "duration": 15.027049,
   "end_time": "2023-10-30T12:24:54.077664",
   "environment_variables": {},
   "exception": null,
   "input_path": "nest.ipynb",
   "output_path": "../../../../working/output/nest.ipynb",
   "parameters": {},
   "start_time": "2023-10-30T12:24:39.050615",
   "version": "2.4.0"
  }
 },
 "nbformat": 4,
 "nbformat_minor": 5
}