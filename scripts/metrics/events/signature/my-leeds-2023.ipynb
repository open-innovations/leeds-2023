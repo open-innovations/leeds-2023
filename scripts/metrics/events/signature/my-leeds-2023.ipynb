{
 "cells": [
  {
   "cell_type": "markdown",
   "metadata": {},
   "source": [
    "# My LEEDS 2023\n",
    "\n",
    "Prepares data for the My LEEDS 2023 page "
   ]
  },
  {
   "cell_type": "code",
   "execution_count": 1,
   "metadata": {},
   "outputs": [],
   "source": [
    "import os\n",
    "import sys\n",
    "import pandas as pd\n",
    "import numpy as np"
   ]
  },
  {
   "cell_type": "code",
   "execution_count": 2,
   "metadata": {},
   "outputs": [],
   "source": [
    "lib_dir = os.path.abspath('../../../../lib/')\n",
    "if not lib_dir in sys.path: sys.path.append(lib_dir)\n",
    "\n",
    "import util.geo\n",
    "import util.convert"
   ]
  },
  {
   "cell_type": "markdown",
   "metadata": {},
   "source": [
    "Read in event data and filter by past / current (starting before today) tagged with the appropriate project name and event type"
   ]
  },
  {
   "cell_type": "code",
   "execution_count": 3,
   "metadata": {},
   "outputs": [],
   "source": [
    "data = pd.read_csv('../../../../data/metrics/events/master/all.csv', parse_dates=['start_date'])\n",
    "data = data.loc[\n",
    "    (data.project_type == 'Produce (Signature)') &\n",
    "    (data.project_name == '12 - My LEEDS 2023') &\n",
    "    (data.event_type.str.contains('Public Event -')) &\n",
    "    (data.start_date < pd.Timestamp.now())\n",
    "]"
   ]
  },
  {
   "cell_type": "markdown",
   "metadata": {},
   "source": [
    "Calculate series of wards"
   ]
  },
  {
   "cell_type": "code",
   "execution_count": 4,
   "metadata": {},
   "outputs": [],
   "source": [
    "wards = data['ward_(from_venue)'].fillna(value='[]').pipe(util.convert.literal_converter).apply(np.unique)"
   ]
  },
  {
   "cell_type": "markdown",
   "metadata": {},
   "source": [
    "Print a list of events which have no ward, or more than one"
   ]
  },
  {
   "cell_type": "code",
   "execution_count": 5,
   "metadata": {},
   "outputs": [
    {
     "data": {
      "text/html": [
       "<div>\n",
       "<style scoped>\n",
       "    .dataframe tbody tr th:only-of-type {\n",
       "        vertical-align: middle;\n",
       "    }\n",
       "\n",
       "    .dataframe tbody tr th {\n",
       "        vertical-align: top;\n",
       "    }\n",
       "\n",
       "    .dataframe thead th {\n",
       "        text-align: right;\n",
       "    }\n",
       "</style>\n",
       "<table border=\"1\" class=\"dataframe\">\n",
       "  <thead>\n",
       "    <tr style=\"text-align: right;\">\n",
       "      <th></th>\n",
       "      <th>project_name</th>\n",
       "      <th>event_name</th>\n",
       "      <th>event_type</th>\n",
       "      <th>season</th>\n",
       "      <th>start_date</th>\n",
       "      <th>airtable_id</th>\n",
       "      <th>actual_audience_size_number_of_participants_in_person</th>\n",
       "      <th>event_unique_identifier</th>\n",
       "      <th>project_type</th>\n",
       "      <th>ward_(from_venue)</th>\n",
       "      <th>postcode_(from_venue)</th>\n",
       "      <th>end_date</th>\n",
       "      <th>number_of_booked_participants</th>\n",
       "      <th>actual_audience_size_number_of_participants_online</th>\n",
       "    </tr>\n",
       "  </thead>\n",
       "  <tbody>\n",
       "    <tr>\n",
       "      <th>14</th>\n",
       "      <td>12 - My LEEDS 2023</td>\n",
       "      <td>My Leeds Event Day 1 (Live Activation)</td>\n",
       "      <td>['Public Event - Performance']</td>\n",
       "      <td>['Season 2 - Playing']</td>\n",
       "      <td>2023-07-08</td>\n",
       "      <td>265</td>\n",
       "      <td>NaN</td>\n",
       "      <td>12 - My LEEDS 2023: My Leeds Event Day 1 (Live...</td>\n",
       "      <td>Produce (Signature)</td>\n",
       "      <td>NaN</td>\n",
       "      <td>NaN</td>\n",
       "      <td>2023-07-09</td>\n",
       "      <td>NaN</td>\n",
       "      <td>NaN</td>\n",
       "    </tr>\n",
       "    <tr>\n",
       "      <th>776</th>\n",
       "      <td>12 - My LEEDS 2023</td>\n",
       "      <td>The Gift: digital gift launch</td>\n",
       "      <td>['Public Event - Digital Experience']</td>\n",
       "      <td>['Season 2 - Playing']</td>\n",
       "      <td>2023-06-19</td>\n",
       "      <td>656</td>\n",
       "      <td>NaN</td>\n",
       "      <td>12 - My LEEDS 2023: The Gift: digital gift lau...</td>\n",
       "      <td>Produce (Signature)</td>\n",
       "      <td>NaN</td>\n",
       "      <td>NaN</td>\n",
       "      <td>2023-06-19</td>\n",
       "      <td>NaN</td>\n",
       "      <td>NaN</td>\n",
       "    </tr>\n",
       "    <tr>\n",
       "      <th>857</th>\n",
       "      <td>12 - My LEEDS 2023</td>\n",
       "      <td>The Gift: Garments</td>\n",
       "      <td>['Public Event - Installation']</td>\n",
       "      <td>['Season 2 - Playing']</td>\n",
       "      <td>2023-06-17</td>\n",
       "      <td>657</td>\n",
       "      <td>NaN</td>\n",
       "      <td>12 - My LEEDS 2023: The Gift: Garments</td>\n",
       "      <td>Produce (Signature)</td>\n",
       "      <td>NaN</td>\n",
       "      <td>NaN</td>\n",
       "      <td>2023-08-27</td>\n",
       "      <td>NaN</td>\n",
       "      <td>NaN</td>\n",
       "    </tr>\n",
       "    <tr>\n",
       "      <th>1025</th>\n",
       "      <td>12 - My LEEDS 2023</td>\n",
       "      <td>My LEEDS Summer: Alwoodley Festival of Sport a...</td>\n",
       "      <td>['Public Event - Performance']</td>\n",
       "      <td>['Season 2 - Playing']</td>\n",
       "      <td>2023-07-09</td>\n",
       "      <td>430</td>\n",
       "      <td>NaN</td>\n",
       "      <td>12 - My LEEDS 2023: My LEEDS Summer: Alwoodley...</td>\n",
       "      <td>Produce (Signature)</td>\n",
       "      <td>['Alwoodley', 'Alwoodley', 'Alwoodley', 'Alwoo...</td>\n",
       "      <td>['LS17 7NZ', 'LS17 7PF', 'LS17 5HX', 'LS17 7HL...</td>\n",
       "      <td>2023-07-09</td>\n",
       "      <td>NaN</td>\n",
       "      <td>NaN</td>\n",
       "    </tr>\n",
       "  </tbody>\n",
       "</table>\n",
       "</div>"
      ],
      "text/plain": [
       "            project_name                                         event_name  \\\n",
       "14    12 - My LEEDS 2023             My Leeds Event Day 1 (Live Activation)   \n",
       "776   12 - My LEEDS 2023                     The Gift: digital gift launch    \n",
       "857   12 - My LEEDS 2023                                 The Gift: Garments   \n",
       "1025  12 - My LEEDS 2023  My LEEDS Summer: Alwoodley Festival of Sport a...   \n",
       "\n",
       "                                 event_type                  season  \\\n",
       "14           ['Public Event - Performance']  ['Season 2 - Playing']   \n",
       "776   ['Public Event - Digital Experience']  ['Season 2 - Playing']   \n",
       "857         ['Public Event - Installation']  ['Season 2 - Playing']   \n",
       "1025         ['Public Event - Performance']  ['Season 2 - Playing']   \n",
       "\n",
       "     start_date  airtable_id  \\\n",
       "14   2023-07-08          265   \n",
       "776  2023-06-19          656   \n",
       "857  2023-06-17          657   \n",
       "1025 2023-07-09          430   \n",
       "\n",
       "      actual_audience_size_number_of_participants_in_person  \\\n",
       "14                                                  NaN       \n",
       "776                                                 NaN       \n",
       "857                                                 NaN       \n",
       "1025                                                NaN       \n",
       "\n",
       "                                event_unique_identifier         project_type  \\\n",
       "14    12 - My LEEDS 2023: My Leeds Event Day 1 (Live...  Produce (Signature)   \n",
       "776   12 - My LEEDS 2023: The Gift: digital gift lau...  Produce (Signature)   \n",
       "857              12 - My LEEDS 2023: The Gift: Garments  Produce (Signature)   \n",
       "1025  12 - My LEEDS 2023: My LEEDS Summer: Alwoodley...  Produce (Signature)   \n",
       "\n",
       "                                      ward_(from_venue)  \\\n",
       "14                                                  NaN   \n",
       "776                                                 NaN   \n",
       "857                                                 NaN   \n",
       "1025  ['Alwoodley', 'Alwoodley', 'Alwoodley', 'Alwoo...   \n",
       "\n",
       "                                  postcode_(from_venue)    end_date  \\\n",
       "14                                                  NaN  2023-07-09   \n",
       "776                                                 NaN  2023-06-19   \n",
       "857                                                 NaN  2023-08-27   \n",
       "1025  ['LS17 7NZ', 'LS17 7PF', 'LS17 5HX', 'LS17 7HL...  2023-07-09   \n",
       "\n",
       "      number_of_booked_participants  \\\n",
       "14                              NaN   \n",
       "776                             NaN   \n",
       "857                             NaN   \n",
       "1025                            NaN   \n",
       "\n",
       "      actual_audience_size_number_of_participants_online  \n",
       "14                                                  NaN   \n",
       "776                                                 NaN   \n",
       "857                                                 NaN   \n",
       "1025                                                NaN   "
      ]
     },
     "execution_count": 5,
     "metadata": {},
     "output_type": "execute_result"
    }
   ],
   "source": [
    "data[wards.apply(len) != 1]"
   ]
  },
  {
   "cell_type": "markdown",
   "metadata": {},
   "source": [
    "Pick the first ward in the list and create a new column"
   ]
  },
  {
   "cell_type": "code",
   "execution_count": 6,
   "metadata": {},
   "outputs": [],
   "source": [
    "data['ward_code'] = wards.apply(lambda x: x[0] if len(x) > 0 else np.nan).pipe(util.geo.normalise_leeds_wards).pipe(util.geo.ward_name_to_code)"
   ]
  },
  {
   "cell_type": "markdown",
   "metadata": {},
   "source": [
    "Calculate audience size"
   ]
  },
  {
   "cell_type": "code",
   "execution_count": 7,
   "metadata": {},
   "outputs": [],
   "source": [
    "data['audience_size'] = data.actual_audience_size_number_of_participants_in_person.fillna(0) + data.actual_audience_size_number_of_participants_online.fillna(0)"
   ]
  },
  {
   "cell_type": "markdown",
   "metadata": {},
   "source": [
    "Create output directory"
   ]
  },
  {
   "cell_type": "code",
   "execution_count": 8,
   "metadata": {},
   "outputs": [],
   "source": [
    "OUT_DIR = '../../../../docs/metrics/events/my-leeds-2023/_data/events'\n",
    "os.makedirs(OUT_DIR, exist_ok=True)"
   ]
  },
  {
   "cell_type": "markdown",
   "metadata": {},
   "source": [
    "Create counts of events by ward and save CSV"
   ]
  },
  {
   "cell_type": "code",
   "execution_count": 9,
   "metadata": {},
   "outputs": [],
   "source": [
    "by_ward = pd.DataFrame(\n",
    "  {\n",
    "    'events': data.groupby('ward_code').audience_size.count(),\n",
    "    'audience': data.groupby('ward_code').audience_size.sum(),\n",
    "  }\n",
    ")\n",
    "by_ward.to_csv(os.path.join(OUT_DIR, 'by_ward.csv'))"
   ]
  },
  {
   "cell_type": "markdown",
   "metadata": {},
   "source": [
    "Create summary by week"
   ]
  },
  {
   "cell_type": "code",
   "execution_count": 10,
   "metadata": {},
   "outputs": [],
   "source": [
    "by_week = pd.DataFrame({\n",
    "  'events': data.groupby('start_date').audience_size.count(),\n",
    "  'audience': data.groupby('start_date').audience_size.sum().astype(int)\n",
    "}).resample('W-FRI').sum()\n",
    "by_week.index.name = 'week_ending'\n",
    "by_week['cumulative_events'] = by_week.events.cumsum()\n",
    "by_week['cumulative_audience'] = by_week.audience.cumsum()\n",
    "by_week.to_csv(os.path.join(OUT_DIR, 'by_week.csv'))"
   ]
  },
  {
   "cell_type": "markdown",
   "metadata": {},
   "source": [
    "Create summary by month"
   ]
  },
  {
   "cell_type": "code",
   "execution_count": 11,
   "metadata": {},
   "outputs": [],
   "source": [
    "by_month = by_week.resample('M').sum()\n",
    "by_month['cumulative_events'] = by_month.events.cumsum()\n",
    "by_month['cumulative_audience'] = by_month.audience.cumsum()\n",
    "by_month.index.name = 'month_ending'\n",
    "by_month.to_csv(os.path.join(OUT_DIR, 'by_month.csv'))"
   ]
  },
  {
   "cell_type": "markdown",
   "metadata": {},
   "source": [
    "Create headline counts of events"
   ]
  },
  {
   "cell_type": "code",
   "execution_count": 12,
   "metadata": {},
   "outputs": [],
   "source": [
    "by_month.drop(\n",
    "    columns=['events', 'audience']\n",
    ").rename(\n",
    "    columns=lambda n: n.replace('cumulative', 'total')\n",
    ").iloc[-1].to_json(os.path.join(OUT_DIR, 'headlines.json'))"
   ]
  }
 ],
 "metadata": {
  "kernelspec": {
   "display_name": "leeds-2023-YZF5GfJv",
   "language": "python",
   "name": "python3"
  },
  "language_info": {
   "codemirror_mode": {
    "name": "ipython",
    "version": 3
   },
   "file_extension": ".py",
   "mimetype": "text/x-python",
   "name": "python",
   "nbconvert_exporter": "python",
   "pygments_lexer": "ipython3",
   "version": "3.10.6"
  },
  "orig_nbformat": 4
 },
 "nbformat": 4,
 "nbformat_minor": 2
}
