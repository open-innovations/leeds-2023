{
 "cells": [
  {
   "cell_type": "code",
   "execution_count": 1,
   "id": "e82a8eb8",
   "metadata": {
    "execution": {
     "iopub.execute_input": "2023-10-04T23:41:15.548613Z",
     "iopub.status.busy": "2023-10-04T23:41:15.548069Z",
     "iopub.status.idle": "2023-10-04T23:41:28.458992Z",
     "shell.execute_reply": "2023-10-04T23:41:28.457974Z"
    },
    "papermill": {
     "duration": 12.92049,
     "end_time": "2023-10-04T23:41:28.461735",
     "exception": false,
     "start_time": "2023-10-04T23:41:15.541245",
     "status": "completed"
    },
    "tags": []
   },
   "outputs": [],
   "source": [
    "import os\n",
    "import pandas as pd\n",
    "from events import load_event_data, get_first_ward, normalise_ward"
   ]
  },
  {
   "cell_type": "code",
   "execution_count": 2,
   "id": "fe6b3497",
   "metadata": {
    "execution": {
     "iopub.execute_input": "2023-10-04T23:41:28.470514Z",
     "iopub.status.busy": "2023-10-04T23:41:28.470240Z",
     "iopub.status.idle": "2023-10-04T23:41:28.476016Z",
     "shell.execute_reply": "2023-10-04T23:41:28.474679Z"
    },
    "papermill": {
     "duration": 0.012287,
     "end_time": "2023-10-04T23:41:28.477973",
     "exception": false,
     "start_time": "2023-10-04T23:41:28.465686",
     "status": "completed"
    },
    "tags": []
   },
   "outputs": [],
   "source": [
    "latest_date = pd.Timestamp.today().ceil('D')"
   ]
  },
  {
   "cell_type": "code",
   "execution_count": 3,
   "id": "608986c3",
   "metadata": {
    "execution": {
     "iopub.execute_input": "2023-10-04T23:41:28.485006Z",
     "iopub.status.busy": "2023-10-04T23:41:28.484711Z",
     "iopub.status.idle": "2023-10-04T23:41:28.510972Z",
     "shell.execute_reply": "2023-10-04T23:41:28.510056Z"
    },
    "papermill": {
     "duration": 0.032211,
     "end_time": "2023-10-04T23:41:28.513333",
     "exception": false,
     "start_time": "2023-10-04T23:41:28.481122",
     "status": "completed"
    },
    "tags": []
   },
   "outputs": [],
   "source": [
    "tickets = pd.read_csv('../../../../data/metrics/events/tickets/orders.csv', parse_dates=['created_at', 'event_date'])\n",
    "tickets = tickets[tickets.event_date <= latest_date]"
   ]
  },
  {
   "cell_type": "code",
   "execution_count": 4,
   "id": "e798128d",
   "metadata": {
    "execution": {
     "iopub.execute_input": "2023-10-04T23:41:28.520335Z",
     "iopub.status.busy": "2023-10-04T23:41:28.520074Z",
     "iopub.status.idle": "2023-10-04T23:41:28.818407Z",
     "shell.execute_reply": "2023-10-04T23:41:28.817364Z"
    },
    "papermill": {
     "duration": 0.305021,
     "end_time": "2023-10-04T23:41:28.821210",
     "exception": false,
     "start_time": "2023-10-04T23:41:28.516189",
     "status": "completed"
    },
    "tags": []
   },
   "outputs": [],
   "source": [
    "events = load_event_data()\n",
    "\n",
    "events = pd.concat([\n",
    "  events,\n",
    "  events.pipe(get_first_ward).pipe(normalise_ward).fillna('UNKNOWN'),\n",
    "  pd.Series(\n",
    "      events.actual_audience_size_number_of_participants_in_person + events.actual_audience_size_number_of_participants_online,\n",
    "      name='attendances'\n",
    "  )\n",
    "], axis=1).rename(columns={\n",
    "    'start_date': 'date'\n",
    "}).loc[:, ['ward_code', 'date', 'event_unique_identifier', 'attendances']]"
   ]
  },
  {
   "cell_type": "code",
   "execution_count": 5,
   "id": "e15bea5b",
   "metadata": {
    "execution": {
     "iopub.execute_input": "2023-10-04T23:41:28.828954Z",
     "iopub.status.busy": "2023-10-04T23:41:28.828180Z",
     "iopub.status.idle": "2023-10-04T23:41:28.834221Z",
     "shell.execute_reply": "2023-10-04T23:41:28.833136Z"
    },
    "papermill": {
     "duration": 0.012135,
     "end_time": "2023-10-04T23:41:28.836503",
     "exception": false,
     "start_time": "2023-10-04T23:41:28.824368",
     "status": "completed"
    },
    "tags": []
   },
   "outputs": [],
   "source": [
    "OUTPUT_DIR='../../../../docs/metrics/events/signature/_data/'\n",
    "os.makedirs(OUTPUT_DIR, exist_ok=True)"
   ]
  },
  {
   "cell_type": "markdown",
   "id": "a4318bd5",
   "metadata": {
    "papermill": {
     "duration": 0.003093,
     "end_time": "2023-10-04T23:41:28.842716",
     "exception": false,
     "start_time": "2023-10-04T23:41:28.839623",
     "status": "completed"
    },
    "tags": []
   },
   "source": [
    "Events CSVs"
   ]
  },
  {
   "cell_type": "code",
   "execution_count": 6,
   "id": "87b0bbee",
   "metadata": {
    "execution": {
     "iopub.execute_input": "2023-10-04T23:41:28.849710Z",
     "iopub.status.busy": "2023-10-04T23:41:28.849411Z",
     "iopub.status.idle": "2023-10-04T23:41:28.858713Z",
     "shell.execute_reply": "2023-10-04T23:41:28.857859Z"
    },
    "papermill": {
     "duration": 0.015133,
     "end_time": "2023-10-04T23:41:28.860958",
     "exception": false,
     "start_time": "2023-10-04T23:41:28.845825",
     "status": "completed"
    },
    "tags": []
   },
   "outputs": [],
   "source": [
    "pd.DataFrame({\n",
    "  'events': events.groupby('ward_code').event_unique_identifier.count(),\n",
    "  'attendances': events.groupby('ward_code').attendances.sum().astype(int),\n",
    "}).to_csv(os.path.join(OUTPUT_DIR, 'events_by_ward.csv'))\n"
   ]
  },
  {
   "cell_type": "code",
   "execution_count": 7,
   "id": "c731bb88",
   "metadata": {
    "execution": {
     "iopub.execute_input": "2023-10-04T23:41:28.867506Z",
     "iopub.status.busy": "2023-10-04T23:41:28.867267Z",
     "iopub.status.idle": "2023-10-04T23:41:28.880424Z",
     "shell.execute_reply": "2023-10-04T23:41:28.879473Z"
    },
    "papermill": {
     "duration": 0.018881,
     "end_time": "2023-10-04T23:41:28.882450",
     "exception": false,
     "start_time": "2023-10-04T23:41:28.863569",
     "status": "completed"
    },
    "tags": []
   },
   "outputs": [],
   "source": [
    "pd.DataFrame({\n",
    "  'events': events.groupby('date').event_unique_identifier.count(),\n",
    "  'attendances': events.groupby('date').attendances.sum().astype(int),\n",
    "}).resample('M').sum().astype(int).to_csv(os.path.join(OUTPUT_DIR, 'events_by_date.csv'))"
   ]
  },
  {
   "cell_type": "markdown",
   "id": "234ce331",
   "metadata": {
    "papermill": {
     "duration": 0.003023,
     "end_time": "2023-10-04T23:41:28.888460",
     "exception": false,
     "start_time": "2023-10-04T23:41:28.885437",
     "status": "completed"
    },
    "tags": []
   },
   "source": [
    "Tickets CSV"
   ]
  },
  {
   "cell_type": "code",
   "execution_count": 8,
   "id": "78e18d40",
   "metadata": {
    "execution": {
     "iopub.execute_input": "2023-10-04T23:41:28.896397Z",
     "iopub.status.busy": "2023-10-04T23:41:28.896003Z",
     "iopub.status.idle": "2023-10-04T23:41:28.904336Z",
     "shell.execute_reply": "2023-10-04T23:41:28.903548Z"
    },
    "papermill": {
     "duration": 0.014895,
     "end_time": "2023-10-04T23:41:28.906504",
     "exception": false,
     "start_time": "2023-10-04T23:41:28.891609",
     "status": "completed"
    },
    "tags": []
   },
   "outputs": [],
   "source": [
    "pd.DataFrame({\n",
    "  'orders': tickets.groupby('ward_code').number_of_tickets.count(),\n",
    "  'tickets': tickets.groupby('ward_code').number_of_tickets.sum().astype(int),\n",
    "}).to_csv(os.path.join(OUTPUT_DIR, 'tickets_by_ward.csv'))"
   ]
  },
  {
   "cell_type": "code",
   "execution_count": 9,
   "id": "aec850ae",
   "metadata": {
    "execution": {
     "iopub.execute_input": "2023-10-04T23:41:28.913864Z",
     "iopub.status.busy": "2023-10-04T23:41:28.913300Z",
     "iopub.status.idle": "2023-10-04T23:41:28.926092Z",
     "shell.execute_reply": "2023-10-04T23:41:28.924634Z"
    },
    "papermill": {
     "duration": 0.022456,
     "end_time": "2023-10-04T23:41:28.932042",
     "exception": false,
     "start_time": "2023-10-04T23:41:28.909586",
     "status": "completed"
    },
    "tags": []
   },
   "outputs": [],
   "source": [
    "pd.DataFrame({\n",
    "  'orders': tickets.groupby('event_date').number_of_tickets.count(),\n",
    "  'tickets': tickets.groupby('event_date').number_of_tickets.sum().astype(int),\n",
    "}).resample('M').sum().to_csv(os.path.join(OUTPUT_DIR, 'tickets_by_event_date.csv'))"
   ]
  },
  {
   "cell_type": "code",
   "execution_count": 10,
   "id": "3760a010",
   "metadata": {
    "execution": {
     "iopub.execute_input": "2023-10-04T23:41:28.941760Z",
     "iopub.status.busy": "2023-10-04T23:41:28.941203Z",
     "iopub.status.idle": "2023-10-04T23:41:28.947834Z",
     "shell.execute_reply": "2023-10-04T23:41:28.947084Z"
    },
    "papermill": {
     "duration": 0.014232,
     "end_time": "2023-10-04T23:41:28.949468",
     "exception": false,
     "start_time": "2023-10-04T23:41:28.935236",
     "status": "completed"
    },
    "tags": []
   },
   "outputs": [],
   "source": [
    "pd.Series({\n",
    "    'total_events': events.event_unique_identifier.count(),\n",
    "    'total_attendances': events.attendances.count(),\n",
    "    'first_event': events.date.min(),\n",
    "    'latest_event': events.date.max(),\n",
    "    'total_ticket_orders_for_events_to_date': tickets.number_of_tickets.count(),\n",
    "    'total_tickets_sold_for_events_to_date': tickets.number_of_tickets.sum(),\n",
    "}).to_json(os.path.join(OUTPUT_DIR, 'headlines.json'), indent=2)"
   ]
  },
  {
   "cell_type": "code",
   "execution_count": null,
   "id": "c34c88d9",
   "metadata": {
    "papermill": {
     "duration": 0.003111,
     "end_time": "2023-10-04T23:41:28.955782",
     "exception": false,
     "start_time": "2023-10-04T23:41:28.952671",
     "status": "completed"
    },
    "tags": []
   },
   "outputs": [],
   "source": []
  }
 ],
 "metadata": {
  "kernelspec": {
   "display_name": "leeds-2023-YZF5GfJv",
   "language": "python",
   "name": "python3"
  },
  "language_info": {
   "codemirror_mode": {
    "name": "ipython",
    "version": 3
   },
   "file_extension": ".py",
   "mimetype": "text/x-python",
   "name": "python",
   "nbconvert_exporter": "python",
   "pygments_lexer": "ipython3",
   "version": "3.10.13"
  },
  "papermill": {
   "default_parameters": {},
   "duration": 15.800008,
   "end_time": "2023-10-04T23:41:29.377995",
   "environment_variables": {},
   "exception": null,
   "input_path": "prepare.ipynb",
   "output_path": "../../../../working/output/signature-prepare.ipynb",
   "parameters": {},
   "start_time": "2023-10-04T23:41:13.577987",
   "version": "2.4.0"
  }
 },
 "nbformat": 4,
 "nbformat_minor": 5
}