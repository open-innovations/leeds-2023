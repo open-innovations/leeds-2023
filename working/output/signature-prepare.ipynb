{
 "cells": [
  {
   "cell_type": "code",
   "execution_count": 1,
   "id": "faa3212b",
   "metadata": {
    "execution": {
     "iopub.execute_input": "2023-08-26T23:38:56.884340Z",
     "iopub.status.busy": "2023-08-26T23:38:56.883781Z",
     "iopub.status.idle": "2023-08-26T23:39:06.226844Z",
     "shell.execute_reply": "2023-08-26T23:39:06.226128Z"
    },
    "papermill": {
     "duration": 9.349472,
     "end_time": "2023-08-26T23:39:06.229169",
     "exception": false,
     "start_time": "2023-08-26T23:38:56.879697",
     "status": "completed"
    },
    "tags": []
   },
   "outputs": [],
   "source": [
    "import os\n",
    "import pandas as pd\n",
    "from events import load_event_data, get_first_ward, normalise_ward"
   ]
  },
  {
   "cell_type": "code",
   "execution_count": 2,
   "id": "cdb09673",
   "metadata": {
    "execution": {
     "iopub.execute_input": "2023-08-26T23:39:06.235133Z",
     "iopub.status.busy": "2023-08-26T23:39:06.234492Z",
     "iopub.status.idle": "2023-08-26T23:39:06.238381Z",
     "shell.execute_reply": "2023-08-26T23:39:06.237758Z"
    },
    "papermill": {
     "duration": 0.008426,
     "end_time": "2023-08-26T23:39:06.239962",
     "exception": false,
     "start_time": "2023-08-26T23:39:06.231536",
     "status": "completed"
    },
    "tags": []
   },
   "outputs": [],
   "source": [
    "latest_date = pd.Timestamp.today().ceil('D')"
   ]
  },
  {
   "cell_type": "code",
   "execution_count": 3,
   "id": "1506255e",
   "metadata": {
    "execution": {
     "iopub.execute_input": "2023-08-26T23:39:06.245186Z",
     "iopub.status.busy": "2023-08-26T23:39:06.244671Z",
     "iopub.status.idle": "2023-08-26T23:39:06.261580Z",
     "shell.execute_reply": "2023-08-26T23:39:06.261002Z"
    },
    "papermill": {
     "duration": 0.021295,
     "end_time": "2023-08-26T23:39:06.263199",
     "exception": false,
     "start_time": "2023-08-26T23:39:06.241904",
     "status": "completed"
    },
    "tags": []
   },
   "outputs": [],
   "source": [
    "tickets = pd.read_csv('../../../../data/metrics/events/tickets/orders.csv', parse_dates=['created_at', 'event_date'])\n",
    "tickets = tickets[tickets.event_date <= latest_date]"
   ]
  },
  {
   "cell_type": "code",
   "execution_count": 4,
   "id": "a8b2547d",
   "metadata": {
    "execution": {
     "iopub.execute_input": "2023-08-26T23:39:06.268538Z",
     "iopub.status.busy": "2023-08-26T23:39:06.268001Z",
     "iopub.status.idle": "2023-08-26T23:39:06.443269Z",
     "shell.execute_reply": "2023-08-26T23:39:06.442600Z"
    },
    "papermill": {
     "duration": 0.179825,
     "end_time": "2023-08-26T23:39:06.445047",
     "exception": false,
     "start_time": "2023-08-26T23:39:06.265222",
     "status": "completed"
    },
    "tags": []
   },
   "outputs": [],
   "source": [
    "events = load_event_data()\n",
    "\n",
    "events = pd.concat([\n",
    "  events,\n",
    "  events.pipe(get_first_ward).pipe(normalise_ward).fillna('UNKNOWN'),\n",
    "  pd.Series(\n",
    "      events.actual_audience_size_number_of_participants_in_person + events.actual_audience_size_number_of_participants_online,\n",
    "      name='attendances'\n",
    "  )\n",
    "], axis=1).rename(columns={\n",
    "    'start_date': 'date'\n",
    "}).loc[:, ['ward_code', 'date', 'event_unique_identifier', 'attendances']]"
   ]
  },
  {
   "cell_type": "code",
   "execution_count": 5,
   "id": "c501f65e",
   "metadata": {
    "execution": {
     "iopub.execute_input": "2023-08-26T23:39:06.450776Z",
     "iopub.status.busy": "2023-08-26T23:39:06.450325Z",
     "iopub.status.idle": "2023-08-26T23:39:06.453846Z",
     "shell.execute_reply": "2023-08-26T23:39:06.453094Z"
    },
    "papermill": {
     "duration": 0.007856,
     "end_time": "2023-08-26T23:39:06.455263",
     "exception": false,
     "start_time": "2023-08-26T23:39:06.447407",
     "status": "completed"
    },
    "tags": []
   },
   "outputs": [],
   "source": [
    "OUTPUT_DIR='../../../../docs/metrics/events/signature/_data/'\n",
    "os.makedirs(OUTPUT_DIR, exist_ok=True)"
   ]
  },
  {
   "cell_type": "markdown",
   "id": "c71d768d",
   "metadata": {
    "papermill": {
     "duration": 0.002066,
     "end_time": "2023-08-26T23:39:06.459353",
     "exception": false,
     "start_time": "2023-08-26T23:39:06.457287",
     "status": "completed"
    },
    "tags": []
   },
   "source": [
    "Events CSVs"
   ]
  },
  {
   "cell_type": "code",
   "execution_count": 6,
   "id": "d0a66932",
   "metadata": {
    "execution": {
     "iopub.execute_input": "2023-08-26T23:39:06.464705Z",
     "iopub.status.busy": "2023-08-26T23:39:06.464197Z",
     "iopub.status.idle": "2023-08-26T23:39:06.471956Z",
     "shell.execute_reply": "2023-08-26T23:39:06.471399Z"
    },
    "papermill": {
     "duration": 0.012016,
     "end_time": "2023-08-26T23:39:06.473403",
     "exception": false,
     "start_time": "2023-08-26T23:39:06.461387",
     "status": "completed"
    },
    "tags": []
   },
   "outputs": [],
   "source": [
    "pd.DataFrame({\n",
    "  'events': events.groupby('ward_code').event_unique_identifier.count(),\n",
    "  'attendances': events.groupby('ward_code').attendances.sum().astype(int),\n",
    "}).to_csv(os.path.join(OUTPUT_DIR, 'events_by_ward.csv'))\n"
   ]
  },
  {
   "cell_type": "code",
   "execution_count": 7,
   "id": "7ca986de",
   "metadata": {
    "execution": {
     "iopub.execute_input": "2023-08-26T23:39:06.478776Z",
     "iopub.status.busy": "2023-08-26T23:39:06.478258Z",
     "iopub.status.idle": "2023-08-26T23:39:06.488260Z",
     "shell.execute_reply": "2023-08-26T23:39:06.487718Z"
    },
    "papermill": {
     "duration": 0.014326,
     "end_time": "2023-08-26T23:39:06.489785",
     "exception": false,
     "start_time": "2023-08-26T23:39:06.475459",
     "status": "completed"
    },
    "tags": []
   },
   "outputs": [],
   "source": [
    "pd.DataFrame({\n",
    "  'events': events.groupby('date').event_unique_identifier.count(),\n",
    "  'attendances': events.groupby('date').attendances.sum().astype(int),\n",
    "}).resample('M').sum().astype(int).to_csv(os.path.join(OUTPUT_DIR, 'events_by_date.csv'))"
   ]
  },
  {
   "cell_type": "markdown",
   "id": "59434fef",
   "metadata": {
    "papermill": {
     "duration": 0.00212,
     "end_time": "2023-08-26T23:39:06.493977",
     "exception": false,
     "start_time": "2023-08-26T23:39:06.491857",
     "status": "completed"
    },
    "tags": []
   },
   "source": [
    "Tickets CSV"
   ]
  },
  {
   "cell_type": "code",
   "execution_count": 8,
   "id": "aaefebae",
   "metadata": {
    "execution": {
     "iopub.execute_input": "2023-08-26T23:39:06.499480Z",
     "iopub.status.busy": "2023-08-26T23:39:06.498927Z",
     "iopub.status.idle": "2023-08-26T23:39:06.507312Z",
     "shell.execute_reply": "2023-08-26T23:39:06.506488Z"
    },
    "papermill": {
     "duration": 0.012689,
     "end_time": "2023-08-26T23:39:06.508734",
     "exception": false,
     "start_time": "2023-08-26T23:39:06.496045",
     "status": "completed"
    },
    "tags": []
   },
   "outputs": [],
   "source": [
    "pd.DataFrame({\n",
    "  'orders': tickets.groupby('ward_code').number_of_tickets.count(),\n",
    "  'tickets': tickets.groupby('ward_code').number_of_tickets.sum().astype(int),\n",
    "}).to_csv(os.path.join(OUTPUT_DIR, 'tickets_by_ward.csv'))"
   ]
  },
  {
   "cell_type": "code",
   "execution_count": 9,
   "id": "8f47489f",
   "metadata": {
    "execution": {
     "iopub.execute_input": "2023-08-26T23:39:06.514074Z",
     "iopub.status.busy": "2023-08-26T23:39:06.513668Z",
     "iopub.status.idle": "2023-08-26T23:39:06.522033Z",
     "shell.execute_reply": "2023-08-26T23:39:06.520748Z"
    },
    "papermill": {
     "duration": 0.012597,
     "end_time": "2023-08-26T23:39:06.523476",
     "exception": false,
     "start_time": "2023-08-26T23:39:06.510879",
     "status": "completed"
    },
    "tags": []
   },
   "outputs": [],
   "source": [
    "pd.DataFrame({\n",
    "  'orders': tickets.groupby('event_date').number_of_tickets.count(),\n",
    "  'tickets': tickets.groupby('event_date').number_of_tickets.sum().astype(int),\n",
    "}).resample('M').sum().to_csv(os.path.join(OUTPUT_DIR, 'tickets_by_event_date.csv'))"
   ]
  },
  {
   "cell_type": "code",
   "execution_count": 10,
   "id": "ba6bc819",
   "metadata": {
    "execution": {
     "iopub.execute_input": "2023-08-26T23:39:06.529948Z",
     "iopub.status.busy": "2023-08-26T23:39:06.529440Z",
     "iopub.status.idle": "2023-08-26T23:39:06.534365Z",
     "shell.execute_reply": "2023-08-26T23:39:06.533770Z"
    },
    "papermill": {
     "duration": 0.010219,
     "end_time": "2023-08-26T23:39:06.535842",
     "exception": false,
     "start_time": "2023-08-26T23:39:06.525623",
     "status": "completed"
    },
    "tags": []
   },
   "outputs": [],
   "source": [
    "pd.Series({\n",
    "    'total_events': events.event_unique_identifier.count(),\n",
    "    'total_attendances': events.attendances.count(),\n",
    "    'first_event': events.date.min(),\n",
    "    'latest_event': events.date.max(),\n",
    "    'total_ticket_orders_for_events_to_date': tickets.number_of_tickets.count(),\n",
    "    'total_tickets_sold_for_events_to_date': tickets.number_of_tickets.sum(),\n",
    "}).to_json(os.path.join(OUTPUT_DIR, 'headlines.json'), indent=2)"
   ]
  },
  {
   "cell_type": "code",
   "execution_count": null,
   "id": "14f3c0ec",
   "metadata": {
    "papermill": {
     "duration": 0.002137,
     "end_time": "2023-08-26T23:39:06.540144",
     "exception": false,
     "start_time": "2023-08-26T23:39:06.538007",
     "status": "completed"
    },
    "tags": []
   },
   "outputs": [],
   "source": []
  }
 ],
 "metadata": {
  "kernelspec": {
   "display_name": "leeds-2023-YZF5GfJv",
   "language": "python",
   "name": "python3"
  },
  "language_info": {
   "codemirror_mode": {
    "name": "ipython",
    "version": 3
   },
   "file_extension": ".py",
   "mimetype": "text/x-python",
   "name": "python",
   "nbconvert_exporter": "python",
   "pygments_lexer": "ipython3",
   "version": "3.10.12"
  },
  "papermill": {
   "default_parameters": {},
   "duration": 11.364221,
   "end_time": "2023-08-26T23:39:06.859427",
   "environment_variables": {},
   "exception": null,
   "input_path": "prepare.ipynb",
   "output_path": "../../../../working/output/signature-prepare.ipynb",
   "parameters": {},
   "start_time": "2023-08-26T23:38:55.495206",
   "version": "2.4.0"
  }
 },
 "nbformat": 4,
 "nbformat_minor": 5
}