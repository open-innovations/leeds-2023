{
 "cells": [
  {
   "cell_type": "code",
   "execution_count": 1,
   "id": "ededcdda",
   "metadata": {
    "execution": {
     "iopub.execute_input": "2023-10-09T23:40:29.477082Z",
     "iopub.status.busy": "2023-10-09T23:40:29.476544Z",
     "iopub.status.idle": "2023-10-09T23:40:29.730135Z",
     "shell.execute_reply": "2023-10-09T23:40:29.729478Z"
    },
    "papermill": {
     "duration": 0.258378,
     "end_time": "2023-10-09T23:40:29.731914",
     "exception": false,
     "start_time": "2023-10-09T23:40:29.473536",
     "status": "completed"
    },
    "tags": []
   },
   "outputs": [],
   "source": [
    "import os\n",
    "import pandas as pd"
   ]
  },
  {
   "cell_type": "code",
   "execution_count": 2,
   "id": "3d49fe1f",
   "metadata": {
    "execution": {
     "iopub.execute_input": "2023-10-09T23:40:29.736468Z",
     "iopub.status.busy": "2023-10-09T23:40:29.735771Z",
     "iopub.status.idle": "2023-10-09T23:40:29.739916Z",
     "shell.execute_reply": "2023-10-09T23:40:29.738716Z"
    },
    "papermill": {
     "duration": 0.007862,
     "end_time": "2023-10-09T23:40:29.741425",
     "exception": false,
     "start_time": "2023-10-09T23:40:29.733563",
     "status": "completed"
    },
    "tags": []
   },
   "outputs": [],
   "source": [
    "EVENTS_RAW_DATA = '../../../working/metrics/promote-events/events.csv'\n",
    "DATA_DIR = '../../../data/metrics/events/promote-events/'\n",
    "EVENTS_DATA = os.path.join(DATA_DIR, 'events.csv')"
   ]
  },
  {
   "cell_type": "code",
   "execution_count": 3,
   "id": "1dc4c6db",
   "metadata": {
    "execution": {
     "iopub.execute_input": "2023-10-09T23:40:29.745121Z",
     "iopub.status.busy": "2023-10-09T23:40:29.744711Z",
     "iopub.status.idle": "2023-10-09T23:40:29.748397Z",
     "shell.execute_reply": "2023-10-09T23:40:29.747775Z"
    },
    "papermill": {
     "duration": 0.007163,
     "end_time": "2023-10-09T23:40:29.749892",
     "exception": false,
     "start_time": "2023-10-09T23:40:29.742729",
     "status": "completed"
    },
    "tags": []
   },
   "outputs": [],
   "source": [
    "columns = {\n",
    "    'id': 'id',\n",
    "    'name': 'name',\n",
    "    'locationName': 'location',\n",
    "    'cardPrice': 'card_price',\n",
    "    'timeslots': 'time',\n",
    "    # 'displayOnWebsite': 'display',\n",
    "    'Stage': 'stage',\n",
    "}"
   ]
  },
  {
   "cell_type": "code",
   "execution_count": 4,
   "id": "ab1ad687",
   "metadata": {
    "execution": {
     "iopub.execute_input": "2023-10-09T23:40:29.754111Z",
     "iopub.status.busy": "2023-10-09T23:40:29.753709Z",
     "iopub.status.idle": "2023-10-09T23:40:29.765479Z",
     "shell.execute_reply": "2023-10-09T23:40:29.764546Z"
    },
    "papermill": {
     "duration": 0.015146,
     "end_time": "2023-10-09T23:40:29.766852",
     "exception": false,
     "start_time": "2023-10-09T23:40:29.751706",
     "status": "completed"
    },
    "tags": []
   },
   "outputs": [],
   "source": [
    "data = pd.read_csv(EVENTS_RAW_DATA)[columns.keys()].rename(columns=columns)\n",
    "data.time = pd.to_datetime(data.time, errors='coerce')"
   ]
  },
  {
   "cell_type": "code",
   "execution_count": 5,
   "id": "abf82fef",
   "metadata": {
    "execution": {
     "iopub.execute_input": "2023-10-09T23:40:29.770873Z",
     "iopub.status.busy": "2023-10-09T23:40:29.770341Z",
     "iopub.status.idle": "2023-10-09T23:40:29.776756Z",
     "shell.execute_reply": "2023-10-09T23:40:29.776200Z"
    },
    "papermill": {
     "duration": 0.009952,
     "end_time": "2023-10-09T23:40:29.778203",
     "exception": false,
     "start_time": "2023-10-09T23:40:29.768251",
     "status": "completed"
    },
    "tags": []
   },
   "outputs": [],
   "source": [
    "data.to_csv(os.path.join(DATA_DIR, 'events.csv'), index=False)"
   ]
  }
 ],
 "metadata": {
  "kernelspec": {
   "display_name": "leeds-2023-YZF5GfJv",
   "language": "python",
   "name": "python3"
  },
  "language_info": {
   "codemirror_mode": {
    "name": "ipython",
    "version": 3
   },
   "file_extension": ".py",
   "mimetype": "text/x-python",
   "name": "python",
   "nbconvert_exporter": "python",
   "pygments_lexer": "ipython3",
   "version": "3.10.13"
  },
  "papermill": {
   "default_parameters": {},
   "duration": 1.875994,
   "end_time": "2023-10-09T23:40:29.996194",
   "environment_variables": {},
   "exception": null,
   "input_path": "transform.ipynb",
   "output_path": "../../../working/output/promote-events-transform.ipynb",
   "parameters": {},
   "start_time": "2023-10-09T23:40:28.120200",
   "version": "2.4.0"
  }
 },
 "nbformat": 4,
 "nbformat_minor": 5
}