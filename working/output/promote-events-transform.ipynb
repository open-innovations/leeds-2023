{
 "cells": [
  {
   "cell_type": "code",
   "execution_count": 1,
   "id": "dc6a8e2e",
   "metadata": {
    "execution": {
     "iopub.execute_input": "2023-08-31T12:16:21.350639Z",
     "iopub.status.busy": "2023-08-31T12:16:21.350084Z",
     "iopub.status.idle": "2023-08-31T12:16:21.606691Z",
     "shell.execute_reply": "2023-08-31T12:16:21.605928Z"
    },
    "papermill": {
     "duration": 0.262343,
     "end_time": "2023-08-31T12:16:21.609150",
     "exception": false,
     "start_time": "2023-08-31T12:16:21.346807",
     "status": "completed"
    },
    "tags": []
   },
   "outputs": [],
   "source": [
    "import os\n",
    "import pandas as pd"
   ]
  },
  {
   "cell_type": "code",
   "execution_count": 2,
   "id": "75125080",
   "metadata": {
    "execution": {
     "iopub.execute_input": "2023-08-31T12:16:21.614057Z",
     "iopub.status.busy": "2023-08-31T12:16:21.613456Z",
     "iopub.status.idle": "2023-08-31T12:16:21.617124Z",
     "shell.execute_reply": "2023-08-31T12:16:21.616472Z"
    },
    "papermill": {
     "duration": 0.007855,
     "end_time": "2023-08-31T12:16:21.618703",
     "exception": false,
     "start_time": "2023-08-31T12:16:21.610848",
     "status": "completed"
    },
    "tags": []
   },
   "outputs": [],
   "source": [
    "EVENTS_RAW_DATA = '../../../working/metrics/promote-events/events.csv'\n",
    "DATA_DIR = '../../../data/metrics/events/promote-events/'\n",
    "EVENTS_DATA = os.path.join(DATA_DIR, 'events.csv')"
   ]
  },
  {
   "cell_type": "code",
   "execution_count": 3,
   "id": "63cbd934",
   "metadata": {
    "execution": {
     "iopub.execute_input": "2023-08-31T12:16:21.622546Z",
     "iopub.status.busy": "2023-08-31T12:16:21.621966Z",
     "iopub.status.idle": "2023-08-31T12:16:21.626325Z",
     "shell.execute_reply": "2023-08-31T12:16:21.625730Z"
    },
    "papermill": {
     "duration": 0.007907,
     "end_time": "2023-08-31T12:16:21.627836",
     "exception": false,
     "start_time": "2023-08-31T12:16:21.619929",
     "status": "completed"
    },
    "tags": []
   },
   "outputs": [],
   "source": [
    "columns = {\n",
    "    'id': 'id',\n",
    "    'name': 'name',\n",
    "    'locationName': 'location',\n",
    "    'cardPrice': 'card_price',\n",
    "    'timeslots': 'time',\n",
    "    # 'displayOnWebsite': 'display',\n",
    "    'Stage': 'stage',\n",
    "}"
   ]
  },
  {
   "cell_type": "code",
   "execution_count": 4,
   "id": "62274078",
   "metadata": {
    "execution": {
     "iopub.execute_input": "2023-08-31T12:16:21.631443Z",
     "iopub.status.busy": "2023-08-31T12:16:21.631103Z",
     "iopub.status.idle": "2023-08-31T12:16:21.641993Z",
     "shell.execute_reply": "2023-08-31T12:16:21.641407Z"
    },
    "papermill": {
     "duration": 0.01433,
     "end_time": "2023-08-31T12:16:21.643420",
     "exception": false,
     "start_time": "2023-08-31T12:16:21.629090",
     "status": "completed"
    },
    "tags": []
   },
   "outputs": [],
   "source": [
    "data = pd.read_csv(EVENTS_RAW_DATA)[columns.keys()].rename(columns=columns)\n",
    "data.time = pd.to_datetime(data.time, errors='coerce')"
   ]
  },
  {
   "cell_type": "code",
   "execution_count": 5,
   "id": "f7cfac2a",
   "metadata": {
    "execution": {
     "iopub.execute_input": "2023-08-31T12:16:21.647336Z",
     "iopub.status.busy": "2023-08-31T12:16:21.646910Z",
     "iopub.status.idle": "2023-08-31T12:16:21.652520Z",
     "shell.execute_reply": "2023-08-31T12:16:21.651960Z"
    },
    "papermill": {
     "duration": 0.009283,
     "end_time": "2023-08-31T12:16:21.654006",
     "exception": false,
     "start_time": "2023-08-31T12:16:21.644723",
     "status": "completed"
    },
    "tags": []
   },
   "outputs": [],
   "source": [
    "data.to_csv(os.path.join(DATA_DIR, 'events.csv'), index=False)"
   ]
  }
 ],
 "metadata": {
  "kernelspec": {
   "display_name": "leeds-2023-YZF5GfJv",
   "language": "python",
   "name": "python3"
  },
  "language_info": {
   "codemirror_mode": {
    "name": "ipython",
    "version": 3
   },
   "file_extension": ".py",
   "mimetype": "text/x-python",
   "name": "python",
   "nbconvert_exporter": "python",
   "pygments_lexer": "ipython3",
   "version": "3.10.12"
  },
  "papermill": {
   "default_parameters": {},
   "duration": 2.026463,
   "end_time": "2023-08-31T12:16:21.973089",
   "environment_variables": {},
   "exception": null,
   "input_path": "transform.ipynb",
   "output_path": "../../../working/output/promote-events-transform.ipynb",
   "parameters": {},
   "start_time": "2023-08-31T12:16:19.946626",
   "version": "2.4.0"
  }
 },
 "nbformat": 4,
 "nbformat_minor": 5
}