{
 "cells": [
  {
   "cell_type": "code",
   "execution_count": 1,
   "id": "1f42abaa",
   "metadata": {
    "execution": {
     "iopub.execute_input": "2023-09-14T23:40:44.504427Z",
     "iopub.status.busy": "2023-09-14T23:40:44.503764Z",
     "iopub.status.idle": "2023-09-14T23:40:44.753370Z",
     "shell.execute_reply": "2023-09-14T23:40:44.752718Z"
    },
    "papermill": {
     "duration": 0.255443,
     "end_time": "2023-09-14T23:40:44.755493",
     "exception": false,
     "start_time": "2023-09-14T23:40:44.500050",
     "status": "completed"
    },
    "tags": []
   },
   "outputs": [],
   "source": [
    "import os\n",
    "import pandas as pd"
   ]
  },
  {
   "cell_type": "code",
   "execution_count": 2,
   "id": "24773b27",
   "metadata": {
    "execution": {
     "iopub.execute_input": "2023-09-14T23:40:44.761034Z",
     "iopub.status.busy": "2023-09-14T23:40:44.760385Z",
     "iopub.status.idle": "2023-09-14T23:40:44.763952Z",
     "shell.execute_reply": "2023-09-14T23:40:44.763351Z"
    },
    "papermill": {
     "duration": 0.007763,
     "end_time": "2023-09-14T23:40:44.765358",
     "exception": false,
     "start_time": "2023-09-14T23:40:44.757595",
     "status": "completed"
    },
    "tags": []
   },
   "outputs": [],
   "source": [
    "DATA_DIR='../../../docs/metrics/events/promote/_data/'\n",
    "os.makedirs(DATA_DIR, exist_ok=True)"
   ]
  },
  {
   "cell_type": "code",
   "execution_count": 3,
   "id": "be108ff7",
   "metadata": {
    "execution": {
     "iopub.execute_input": "2023-09-14T23:40:44.770129Z",
     "iopub.status.busy": "2023-09-14T23:40:44.769589Z",
     "iopub.status.idle": "2023-09-14T23:40:44.778306Z",
     "shell.execute_reply": "2023-09-14T23:40:44.777716Z"
    },
    "papermill": {
     "duration": 0.012652,
     "end_time": "2023-09-14T23:40:44.779826",
     "exception": false,
     "start_time": "2023-09-14T23:40:44.767174",
     "status": "completed"
    },
    "tags": []
   },
   "outputs": [],
   "source": [
    "data = pd.read_csv('../../../data/metrics/events/promote-events/events.csv', parse_dates=['time'])"
   ]
  },
  {
   "cell_type": "code",
   "execution_count": 4,
   "id": "603ee370",
   "metadata": {
    "execution": {
     "iopub.execute_input": "2023-09-14T23:40:44.784628Z",
     "iopub.status.busy": "2023-09-14T23:40:44.784220Z",
     "iopub.status.idle": "2023-09-14T23:40:44.790379Z",
     "shell.execute_reply": "2023-09-14T23:40:44.789808Z"
    },
    "papermill": {
     "duration": 0.010097,
     "end_time": "2023-09-14T23:40:44.791711",
     "exception": false,
     "start_time": "2023-09-14T23:40:44.781614",
     "status": "completed"
    },
    "tags": []
   },
   "outputs": [],
   "source": [
    "pd.Series({\n",
    "    'total_events': len(data.id.unique()),\n",
    "    'total_event_instances': len(data.time),\n",
    "    'earliest_event': data.time.min(),\n",
    "    'latest_event': data.time.max(),\n",
    "}).to_json(\n",
    "    os.path.join(DATA_DIR, 'headlines.json'),\n",
    "    date_format='iso', indent=2\n",
    ")"
   ]
  },
  {
   "cell_type": "code",
   "execution_count": 5,
   "id": "e5092410",
   "metadata": {
    "execution": {
     "iopub.execute_input": "2023-09-14T23:40:44.796541Z",
     "iopub.status.busy": "2023-09-14T23:40:44.796005Z",
     "iopub.status.idle": "2023-09-14T23:40:44.803864Z",
     "shell.execute_reply": "2023-09-14T23:40:44.803221Z"
    },
    "papermill": {
     "duration": 0.011721,
     "end_time": "2023-09-14T23:40:44.805239",
     "exception": false,
     "start_time": "2023-09-14T23:40:44.793518",
     "status": "completed"
    },
    "tags": []
   },
   "outputs": [],
   "source": [
    "events = pd.DataFrame({\n",
    "    'events': data.groupby('id').agg({ 'time': 'min' }).reset_index().groupby('time').id.count(),\n",
    "    'event_instances': data.groupby('time').id.count(),\n",
    "}).fillna(0).astype(int)"
   ]
  },
  {
   "cell_type": "code",
   "execution_count": 6,
   "id": "bb8a81ab",
   "metadata": {
    "execution": {
     "iopub.execute_input": "2023-09-14T23:40:44.810146Z",
     "iopub.status.busy": "2023-09-14T23:40:44.809748Z",
     "iopub.status.idle": "2023-09-14T23:40:44.814124Z",
     "shell.execute_reply": "2023-09-14T23:40:44.813556Z"
    },
    "papermill": {
     "duration": 0.008408,
     "end_time": "2023-09-14T23:40:44.815527",
     "exception": false,
     "start_time": "2023-09-14T23:40:44.807119",
     "status": "completed"
    },
    "tags": []
   },
   "outputs": [],
   "source": [
    "def cumulate(data):\n",
    "    return pd.concat([\n",
    "        data,\n",
    "        data.cumsum().rename(columns=lambda c: f'cumulative_{c}')\n",
    "    ], axis=1)"
   ]
  },
  {
   "cell_type": "code",
   "execution_count": 7,
   "id": "ab5bfb17",
   "metadata": {
    "execution": {
     "iopub.execute_input": "2023-09-14T23:40:44.820358Z",
     "iopub.status.busy": "2023-09-14T23:40:44.819955Z",
     "iopub.status.idle": "2023-09-14T23:40:44.829571Z",
     "shell.execute_reply": "2023-09-14T23:40:44.828992Z"
    },
    "papermill": {
     "duration": 0.013754,
     "end_time": "2023-09-14T23:40:44.831173",
     "exception": false,
     "start_time": "2023-09-14T23:40:44.817419",
     "status": "completed"
    },
    "tags": []
   },
   "outputs": [],
   "source": [
    "events.resample('W-FRI').sum().pipe(cumulate).to_csv(os.path.join(DATA_DIR, 'by_week.csv'))"
   ]
  },
  {
   "cell_type": "code",
   "execution_count": 8,
   "id": "b27ecec6",
   "metadata": {
    "execution": {
     "iopub.execute_input": "2023-09-14T23:40:44.836203Z",
     "iopub.status.busy": "2023-09-14T23:40:44.835798Z",
     "iopub.status.idle": "2023-09-14T23:40:44.842657Z",
     "shell.execute_reply": "2023-09-14T23:40:44.842073Z"
    },
    "papermill": {
     "duration": 0.010916,
     "end_time": "2023-09-14T23:40:44.844084",
     "exception": false,
     "start_time": "2023-09-14T23:40:44.833168",
     "status": "completed"
    },
    "tags": []
   },
   "outputs": [],
   "source": [
    "events.resample('MS').sum().pipe(cumulate).to_csv(os.path.join(DATA_DIR, 'by_month.csv'))"
   ]
  },
  {
   "cell_type": "code",
   "execution_count": null,
   "id": "a16b9ffd",
   "metadata": {
    "papermill": {
     "duration": 0.001917,
     "end_time": "2023-09-14T23:40:44.847956",
     "exception": false,
     "start_time": "2023-09-14T23:40:44.846039",
     "status": "completed"
    },
    "tags": []
   },
   "outputs": [],
   "source": []
  }
 ],
 "metadata": {
  "kernelspec": {
   "display_name": "leeds-2023-YZF5GfJv",
   "language": "python",
   "name": "python3"
  },
  "language_info": {
   "codemirror_mode": {
    "name": "ipython",
    "version": 3
   },
   "file_extension": ".py",
   "mimetype": "text/x-python",
   "name": "python",
   "nbconvert_exporter": "python",
   "pygments_lexer": "ipython3",
   "version": "3.10.13"
  },
  "papermill": {
   "default_parameters": {},
   "duration": 1.918479,
   "end_time": "2023-09-14T23:40:45.067050",
   "environment_variables": {},
   "exception": null,
   "input_path": "prepare.ipynb",
   "output_path": "../../../working/output/promote-events-prepare.ipynb",
   "parameters": {},
   "start_time": "2023-09-14T23:40:43.148571",
   "version": "2.4.0"
  }
 },
 "nbformat": 4,
 "nbformat_minor": 5
}