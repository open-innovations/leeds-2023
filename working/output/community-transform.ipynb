{
 "cells": [
  {
   "cell_type": "code",
   "execution_count": 1,
   "id": "9fc6b85c",
   "metadata": {
    "execution": {
     "iopub.execute_input": "2023-10-15T23:40:20.355443Z",
     "iopub.status.busy": "2023-10-15T23:40:20.354910Z",
     "iopub.status.idle": "2023-10-15T23:40:20.362407Z",
     "shell.execute_reply": "2023-10-15T23:40:20.361700Z"
    },
    "papermill": {
     "duration": 0.013302,
     "end_time": "2023-10-15T23:40:20.364068",
     "exception": false,
     "start_time": "2023-10-15T23:40:20.350766",
     "status": "completed"
    },
    "tags": []
   },
   "outputs": [],
   "source": [
    "import os\n",
    "import sys\n",
    "\n",
    "TOP_DIR=os.path.realpath(\"../../..\")\n",
    "if TOP_DIR not in sys.path: sys.path.append(TOP_DIR)"
   ]
  },
  {
   "cell_type": "code",
   "execution_count": 2,
   "id": "3a155807",
   "metadata": {
    "execution": {
     "iopub.execute_input": "2023-10-15T23:40:20.369861Z",
     "iopub.status.busy": "2023-10-15T23:40:20.369429Z",
     "iopub.status.idle": "2023-10-15T23:40:30.203334Z",
     "shell.execute_reply": "2023-10-15T23:40:30.202636Z"
    },
    "papermill": {
     "duration": 9.838739,
     "end_time": "2023-10-15T23:40:30.205250",
     "exception": false,
     "start_time": "2023-10-15T23:40:20.366511",
     "status": "completed"
    },
    "tags": []
   },
   "outputs": [],
   "source": [
    "import pandas as pd\n",
    "import numpy as np\n",
    "from lib.util.convert import standardise_columns, literal_converter\n",
    "from lib.util.geo import normalise_leeds_wards, ward_name_to_code"
   ]
  },
  {
   "cell_type": "code",
   "execution_count": 3,
   "id": "a52a1c89",
   "metadata": {
    "execution": {
     "iopub.execute_input": "2023-10-15T23:40:30.211531Z",
     "iopub.status.busy": "2023-10-15T23:40:30.211080Z",
     "iopub.status.idle": "2023-10-15T23:40:30.234000Z",
     "shell.execute_reply": "2023-10-15T23:40:30.233399Z"
    },
    "papermill": {
     "duration": 0.027882,
     "end_time": "2023-10-15T23:40:30.235581",
     "exception": false,
     "start_time": "2023-10-15T23:40:30.207699",
     "status": "completed"
    },
    "tags": []
   },
   "outputs": [],
   "source": [
    "data = pd.read_csv('../../../working/metrics/community/events.csv', parse_dates=['Start date'])\n",
    "data = data.rename(columns=standardise_columns)"
   ]
  },
  {
   "cell_type": "code",
   "execution_count": 4,
   "id": "4927ecef",
   "metadata": {
    "execution": {
     "iopub.execute_input": "2023-10-15T23:40:30.241221Z",
     "iopub.status.busy": "2023-10-15T23:40:30.240786Z",
     "iopub.status.idle": "2023-10-15T23:40:30.250745Z",
     "shell.execute_reply": "2023-10-15T23:40:30.250138Z"
    },
    "papermill": {
     "duration": 0.01429,
     "end_time": "2023-10-15T23:40:30.252153",
     "exception": false,
     "start_time": "2023-10-15T23:40:30.237863",
     "status": "completed"
    },
    "tags": []
   },
   "outputs": [],
   "source": [
    "wards = data['ward_(from_venue)'].fillna('[]').pipe(literal_converter).apply(np.unique)"
   ]
  },
  {
   "cell_type": "code",
   "execution_count": 5,
   "id": "4433c5b8",
   "metadata": {
    "execution": {
     "iopub.execute_input": "2023-10-15T23:40:30.257650Z",
     "iopub.status.busy": "2023-10-15T23:40:30.257228Z",
     "iopub.status.idle": "2023-10-15T23:40:30.658873Z",
     "shell.execute_reply": "2023-10-15T23:40:30.658140Z"
    },
    "papermill": {
     "duration": 0.406403,
     "end_time": "2023-10-15T23:40:30.660746",
     "exception": false,
     "start_time": "2023-10-15T23:40:30.254343",
     "status": "completed"
    },
    "tags": []
   },
   "outputs": [],
   "source": [
    "data['ward_name'] = wards.apply(lambda x: x[0] if len(x) > 0 else np.nan).pipe(normalise_leeds_wards)\n",
    "data['ward_code'] = data.ward_name.pipe(ward_name_to_code)\n",
    "data['audience'] = data.actual_audience_size_number_of_participants_in_person\n",
    "cleaned_data = data.loc[:, ['event_name', 'project_name', 'start_date', 'ward_name', 'ward_code', 'audience']]"
   ]
  },
  {
   "cell_type": "code",
   "execution_count": 6,
   "id": "0a07a7a8",
   "metadata": {
    "execution": {
     "iopub.execute_input": "2023-10-15T23:40:30.667430Z",
     "iopub.status.busy": "2023-10-15T23:40:30.666787Z",
     "iopub.status.idle": "2023-10-15T23:40:30.673427Z",
     "shell.execute_reply": "2023-10-15T23:40:30.672857Z"
    },
    "papermill": {
     "duration": 0.011789,
     "end_time": "2023-10-15T23:40:30.675052",
     "exception": false,
     "start_time": "2023-10-15T23:40:30.663263",
     "status": "completed"
    },
    "tags": []
   },
   "outputs": [],
   "source": [
    "DATA_DIR='../../../data/metrics/community'\n",
    "os.makedirs(DATA_DIR, exist_ok=True)\n",
    "cleaned_data.to_csv(os.path.join(DATA_DIR, 'events.csv'), index=False)"
   ]
  },
  {
   "cell_type": "markdown",
   "id": "de456461",
   "metadata": {
    "papermill": {
     "duration": 0.002222,
     "end_time": "2023-10-15T23:40:30.679651",
     "exception": false,
     "start_time": "2023-10-15T23:40:30.677429",
     "status": "completed"
    },
    "tags": []
   },
   "source": [
    "Missing or duplicated wards"
   ]
  },
  {
   "cell_type": "code",
   "execution_count": 7,
   "id": "81b5f173",
   "metadata": {
    "execution": {
     "iopub.execute_input": "2023-10-15T23:40:30.685408Z",
     "iopub.status.busy": "2023-10-15T23:40:30.684853Z",
     "iopub.status.idle": "2023-10-15T23:40:30.701092Z",
     "shell.execute_reply": "2023-10-15T23:40:30.700453Z"
    },
    "papermill": {
     "duration": 0.021101,
     "end_time": "2023-10-15T23:40:30.702979",
     "exception": false,
     "start_time": "2023-10-15T23:40:30.681878",
     "status": "completed"
    },
    "tags": []
   },
   "outputs": [
    {
     "data": {
      "text/html": [
       "<div>\n",
       "<style scoped>\n",
       "    .dataframe tbody tr th:only-of-type {\n",
       "        vertical-align: middle;\n",
       "    }\n",
       "\n",
       "    .dataframe tbody tr th {\n",
       "        vertical-align: top;\n",
       "    }\n",
       "\n",
       "    .dataframe thead th {\n",
       "        text-align: right;\n",
       "    }\n",
       "</style>\n",
       "<table border=\"1\" class=\"dataframe\">\n",
       "  <thead>\n",
       "    <tr style=\"text-align: right;\">\n",
       "      <th></th>\n",
       "      <th>project_name</th>\n",
       "      <th>event_name</th>\n",
       "      <th>start_date</th>\n",
       "      <th>ward_(from_venue)</th>\n",
       "    </tr>\n",
       "  </thead>\n",
       "  <tbody>\n",
       "    <tr>\n",
       "      <th>49</th>\n",
       "      <td>01 - The Awakening</td>\n",
       "      <td>Creation Station - Leeds City Council</td>\n",
       "      <td>2022-11-23</td>\n",
       "      <td>NaN</td>\n",
       "    </tr>\n",
       "    <tr>\n",
       "      <th>50</th>\n",
       "      <td>01 - The Awakening</td>\n",
       "      <td>Creation Station - Leeds City Council</td>\n",
       "      <td>2022-11-24</td>\n",
       "      <td>NaN</td>\n",
       "    </tr>\n",
       "    <tr>\n",
       "      <th>64</th>\n",
       "      <td>01 - The Awakening</td>\n",
       "      <td>Creation Station - Yorkshire Schools Dance Fes...</td>\n",
       "      <td>2022-11-19</td>\n",
       "      <td>NaN</td>\n",
       "    </tr>\n",
       "    <tr>\n",
       "      <th>66</th>\n",
       "      <td>01 - The Awakening</td>\n",
       "      <td>Creation Station: Ballot Engagement</td>\n",
       "      <td>NaT</td>\n",
       "      <td>NaN</td>\n",
       "    </tr>\n",
       "    <tr>\n",
       "      <th>68</th>\n",
       "      <td>01 - The Awakening</td>\n",
       "      <td>Leeds Arts University - Creation Station</td>\n",
       "      <td>NaT</td>\n",
       "      <td>NaN</td>\n",
       "    </tr>\n",
       "    <tr>\n",
       "      <th>...</th>\n",
       "      <td>...</td>\n",
       "      <td>...</td>\n",
       "      <td>...</td>\n",
       "      <td>...</td>\n",
       "    </tr>\n",
       "    <tr>\n",
       "      <th>295</th>\n",
       "      <td>Waking the Artist</td>\n",
       "      <td>Spring Gardens Pack</td>\n",
       "      <td>2023-03-23</td>\n",
       "      <td>NaN</td>\n",
       "    </tr>\n",
       "    <tr>\n",
       "      <th>296</th>\n",
       "      <td>Waking the Artist</td>\n",
       "      <td>The Den Headingley Pack</td>\n",
       "      <td>2023-02-13</td>\n",
       "      <td>NaN</td>\n",
       "    </tr>\n",
       "    <tr>\n",
       "      <th>297</th>\n",
       "      <td>Waking the Artist</td>\n",
       "      <td>Turning Lives Around Pack</td>\n",
       "      <td>2023-02-22</td>\n",
       "      <td>NaN</td>\n",
       "    </tr>\n",
       "    <tr>\n",
       "      <th>299</th>\n",
       "      <td>Waking the Artist</td>\n",
       "      <td>Wetherby Town Hall Pack</td>\n",
       "      <td>2023-02-25</td>\n",
       "      <td>NaN</td>\n",
       "    </tr>\n",
       "    <tr>\n",
       "      <th>300</th>\n",
       "      <td>Waking the Artist</td>\n",
       "      <td>Who Let The Dads Out Fulneck Moravian Church Pack</td>\n",
       "      <td>2023-02-22</td>\n",
       "      <td>NaN</td>\n",
       "    </tr>\n",
       "  </tbody>\n",
       "</table>\n",
       "<p>79 rows × 4 columns</p>\n",
       "</div>"
      ],
      "text/plain": [
       "           project_name                                         event_name  \\\n",
       "49   01 - The Awakening             Creation Station - Leeds City Council    \n",
       "50   01 - The Awakening             Creation Station - Leeds City Council    \n",
       "64   01 - The Awakening  Creation Station - Yorkshire Schools Dance Fes...   \n",
       "66   01 - The Awakening               Creation Station: Ballot Engagement    \n",
       "68   01 - The Awakening           Leeds Arts University - Creation Station   \n",
       "..                  ...                                                ...   \n",
       "295   Waking the Artist                                Spring Gardens Pack   \n",
       "296   Waking the Artist                            The Den Headingley Pack   \n",
       "297   Waking the Artist                          Turning Lives Around Pack   \n",
       "299   Waking the Artist                            Wetherby Town Hall Pack   \n",
       "300   Waking the Artist  Who Let The Dads Out Fulneck Moravian Church Pack   \n",
       "\n",
       "    start_date ward_(from_venue)  \n",
       "49  2022-11-23               NaN  \n",
       "50  2022-11-24               NaN  \n",
       "64  2022-11-19               NaN  \n",
       "66         NaT               NaN  \n",
       "68         NaT               NaN  \n",
       "..         ...               ...  \n",
       "295 2023-03-23               NaN  \n",
       "296 2023-02-13               NaN  \n",
       "297 2023-02-22               NaN  \n",
       "299 2023-02-25               NaN  \n",
       "300 2023-02-22               NaN  \n",
       "\n",
       "[79 rows x 4 columns]"
      ]
     },
     "execution_count": 7,
     "metadata": {},
     "output_type": "execute_result"
    }
   ],
   "source": [
    "data.loc[wards.apply(len) != 1, ['project_name', 'event_name', 'start_date', 'ward_(from_venue)']]"
   ]
  },
  {
   "cell_type": "markdown",
   "id": "816d7551",
   "metadata": {
    "papermill": {
     "duration": 0.002591,
     "end_time": "2023-10-15T23:40:30.708217",
     "exception": false,
     "start_time": "2023-10-15T23:40:30.705626",
     "status": "completed"
    },
    "tags": []
   },
   "source": [
    "Missing audience"
   ]
  },
  {
   "cell_type": "code",
   "execution_count": 8,
   "id": "81e16be8",
   "metadata": {
    "execution": {
     "iopub.execute_input": "2023-10-15T23:40:30.714704Z",
     "iopub.status.busy": "2023-10-15T23:40:30.714088Z",
     "iopub.status.idle": "2023-10-15T23:40:30.727439Z",
     "shell.execute_reply": "2023-10-15T23:40:30.726817Z"
    },
    "papermill": {
     "duration": 0.018166,
     "end_time": "2023-10-15T23:40:30.728936",
     "exception": false,
     "start_time": "2023-10-15T23:40:30.710770",
     "status": "completed"
    },
    "tags": []
   },
   "outputs": [
    {
     "data": {
      "text/html": [
       "<div>\n",
       "<style scoped>\n",
       "    .dataframe tbody tr th:only-of-type {\n",
       "        vertical-align: middle;\n",
       "    }\n",
       "\n",
       "    .dataframe tbody tr th {\n",
       "        vertical-align: top;\n",
       "    }\n",
       "\n",
       "    .dataframe thead th {\n",
       "        text-align: right;\n",
       "    }\n",
       "</style>\n",
       "<table border=\"1\" class=\"dataframe\">\n",
       "  <thead>\n",
       "    <tr style=\"text-align: right;\">\n",
       "      <th></th>\n",
       "      <th>project_name</th>\n",
       "      <th>event_name</th>\n",
       "      <th>start_date</th>\n",
       "      <th>audience</th>\n",
       "    </tr>\n",
       "  </thead>\n",
       "  <tbody>\n",
       "    <tr>\n",
       "      <th>0</th>\n",
       "      <td>01 - The Awakening</td>\n",
       "      <td>Ballot Facilitated Session - Carr Manor Commun...</td>\n",
       "      <td>2022-11-01</td>\n",
       "      <td>NaN</td>\n",
       "    </tr>\n",
       "    <tr>\n",
       "      <th>1</th>\n",
       "      <td>01 - The Awakening</td>\n",
       "      <td>Ballot Facilitated Session - Chapel Allerton P...</td>\n",
       "      <td>2022-11-07</td>\n",
       "      <td>NaN</td>\n",
       "    </tr>\n",
       "    <tr>\n",
       "      <th>2</th>\n",
       "      <td>01 - The Awakening</td>\n",
       "      <td>Ballot Facilitated Session - Cobden Primary Sc...</td>\n",
       "      <td>2022-11-09</td>\n",
       "      <td>NaN</td>\n",
       "    </tr>\n",
       "    <tr>\n",
       "      <th>3</th>\n",
       "      <td>01 - The Awakening</td>\n",
       "      <td>Ballot Facilitated Session - Cobden Primary Sc...</td>\n",
       "      <td>2022-11-10</td>\n",
       "      <td>NaN</td>\n",
       "    </tr>\n",
       "    <tr>\n",
       "      <th>4</th>\n",
       "      <td>01 - The Awakening</td>\n",
       "      <td>Ballot Facilitated Session - Cobden Primary Sc...</td>\n",
       "      <td>2022-11-18</td>\n",
       "      <td>NaN</td>\n",
       "    </tr>\n",
       "    <tr>\n",
       "      <th>...</th>\n",
       "      <td>...</td>\n",
       "      <td>...</td>\n",
       "      <td>...</td>\n",
       "      <td>...</td>\n",
       "    </tr>\n",
       "    <tr>\n",
       "      <th>257</th>\n",
       "      <td>Hidden Stories</td>\n",
       "      <td>Try Your Hand at Ceramic Sculpture</td>\n",
       "      <td>2023-09-10</td>\n",
       "      <td>NaN</td>\n",
       "    </tr>\n",
       "    <tr>\n",
       "      <th>258</th>\n",
       "      <td>Hidden Stories</td>\n",
       "      <td>Try Your Hand at Ceramic Sculpture</td>\n",
       "      <td>2023-09-16</td>\n",
       "      <td>NaN</td>\n",
       "    </tr>\n",
       "    <tr>\n",
       "      <th>259</th>\n",
       "      <td>Hidden Stories</td>\n",
       "      <td>Try Your Hand at Stone Carving</td>\n",
       "      <td>2023-09-09</td>\n",
       "      <td>NaN</td>\n",
       "    </tr>\n",
       "    <tr>\n",
       "      <th>260</th>\n",
       "      <td>Hidden Stories</td>\n",
       "      <td>Try Your Hand at Stone Carving</td>\n",
       "      <td>2023-09-10</td>\n",
       "      <td>NaN</td>\n",
       "    </tr>\n",
       "    <tr>\n",
       "      <th>261</th>\n",
       "      <td>Hidden Stories</td>\n",
       "      <td>Try Your Hand at Stone Carving</td>\n",
       "      <td>2023-09-16</td>\n",
       "      <td>NaN</td>\n",
       "    </tr>\n",
       "  </tbody>\n",
       "</table>\n",
       "<p>179 rows × 4 columns</p>\n",
       "</div>"
      ],
      "text/plain": [
       "           project_name                                         event_name  \\\n",
       "0    01 - The Awakening  Ballot Facilitated Session - Carr Manor Commun...   \n",
       "1    01 - The Awakening  Ballot Facilitated Session - Chapel Allerton P...   \n",
       "2    01 - The Awakening  Ballot Facilitated Session - Cobden Primary Sc...   \n",
       "3    01 - The Awakening  Ballot Facilitated Session - Cobden Primary Sc...   \n",
       "4    01 - The Awakening  Ballot Facilitated Session - Cobden Primary Sc...   \n",
       "..                  ...                                                ...   \n",
       "257      Hidden Stories                 Try Your Hand at Ceramic Sculpture   \n",
       "258      Hidden Stories                 Try Your Hand at Ceramic Sculpture   \n",
       "259      Hidden Stories                     Try Your Hand at Stone Carving   \n",
       "260      Hidden Stories                     Try Your Hand at Stone Carving   \n",
       "261      Hidden Stories                     Try Your Hand at Stone Carving   \n",
       "\n",
       "    start_date  audience  \n",
       "0   2022-11-01       NaN  \n",
       "1   2022-11-07       NaN  \n",
       "2   2022-11-09       NaN  \n",
       "3   2022-11-10       NaN  \n",
       "4   2022-11-18       NaN  \n",
       "..         ...       ...  \n",
       "257 2023-09-10       NaN  \n",
       "258 2023-09-16       NaN  \n",
       "259 2023-09-09       NaN  \n",
       "260 2023-09-10       NaN  \n",
       "261 2023-09-16       NaN  \n",
       "\n",
       "[179 rows x 4 columns]"
      ]
     },
     "execution_count": 8,
     "metadata": {},
     "output_type": "execute_result"
    }
   ],
   "source": [
    "data.loc[data.audience.isna(), ['project_name', 'event_name', 'start_date', 'audience']]"
   ]
  },
  {
   "cell_type": "code",
   "execution_count": null,
   "id": "74b00da8",
   "metadata": {
    "papermill": {
     "duration": 0.002762,
     "end_time": "2023-10-15T23:40:30.734630",
     "exception": false,
     "start_time": "2023-10-15T23:40:30.731868",
     "status": "completed"
    },
    "tags": []
   },
   "outputs": [],
   "source": []
  },
  {
   "cell_type": "code",
   "execution_count": null,
   "id": "605a4b70",
   "metadata": {
    "papermill": {
     "duration": 0.003551,
     "end_time": "2023-10-15T23:40:30.740915",
     "exception": false,
     "start_time": "2023-10-15T23:40:30.737364",
     "status": "completed"
    },
    "tags": []
   },
   "outputs": [],
   "source": []
  }
 ],
 "metadata": {
  "kernelspec": {
   "display_name": "leeds-2023-YZF5GfJv",
   "language": "python",
   "name": "python3"
  },
  "language_info": {
   "codemirror_mode": {
    "name": "ipython",
    "version": 3
   },
   "file_extension": ".py",
   "mimetype": "text/x-python",
   "name": "python",
   "nbconvert_exporter": "python",
   "pygments_lexer": "ipython3",
   "version": "3.10.13"
  },
  "papermill": {
   "default_parameters": {},
   "duration": 12.066197,
   "end_time": "2023-10-15T23:40:31.060854",
   "environment_variables": {},
   "exception": null,
   "input_path": "transform.ipynb",
   "output_path": "../../../working/output/community-transform.ipynb",
   "parameters": {},
   "start_time": "2023-10-15T23:40:18.994657",
   "version": "2.4.0"
  }
 },
 "nbformat": 4,
 "nbformat_minor": 5
}