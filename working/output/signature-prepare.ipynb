{
 "cells": [
  {
   "cell_type": "code",
   "execution_count": 1,
   "id": "a19f9aff",
   "metadata": {
    "execution": {
     "iopub.execute_input": "2023-08-23T23:40:18.465670Z",
     "iopub.status.busy": "2023-08-23T23:40:18.464969Z",
     "iopub.status.idle": "2023-08-23T23:40:27.830774Z",
     "shell.execute_reply": "2023-08-23T23:40:27.830060Z"
    },
    "papermill": {
     "duration": 9.372179,
     "end_time": "2023-08-23T23:40:27.832696",
     "exception": false,
     "start_time": "2023-08-23T23:40:18.460517",
     "status": "completed"
    },
    "tags": []
   },
   "outputs": [],
   "source": [
    "import os\n",
    "import pandas as pd\n",
    "from events import load_event_data, get_first_ward, normalise_ward"
   ]
  },
  {
   "cell_type": "code",
   "execution_count": 2,
   "id": "faaeddde",
   "metadata": {
    "execution": {
     "iopub.execute_input": "2023-08-23T23:40:27.839279Z",
     "iopub.status.busy": "2023-08-23T23:40:27.838902Z",
     "iopub.status.idle": "2023-08-23T23:40:27.846018Z",
     "shell.execute_reply": "2023-08-23T23:40:27.845390Z"
    },
    "papermill": {
     "duration": 0.012063,
     "end_time": "2023-08-23T23:40:27.847474",
     "exception": false,
     "start_time": "2023-08-23T23:40:27.835411",
     "status": "completed"
    },
    "tags": []
   },
   "outputs": [],
   "source": [
    "latest_date = pd.Timestamp.today().ceil('D')"
   ]
  },
  {
   "cell_type": "code",
   "execution_count": 3,
   "id": "6f395164",
   "metadata": {
    "execution": {
     "iopub.execute_input": "2023-08-23T23:40:27.852722Z",
     "iopub.status.busy": "2023-08-23T23:40:27.852150Z",
     "iopub.status.idle": "2023-08-23T23:40:27.868353Z",
     "shell.execute_reply": "2023-08-23T23:40:27.867258Z"
    },
    "papermill": {
     "duration": 0.020528,
     "end_time": "2023-08-23T23:40:27.869961",
     "exception": false,
     "start_time": "2023-08-23T23:40:27.849433",
     "status": "completed"
    },
    "tags": []
   },
   "outputs": [],
   "source": [
    "tickets = pd.read_csv('../../../../data/metrics/events/tickets/orders.csv', parse_dates=['created_at', 'event_date'])\n",
    "tickets = tickets[tickets.event_date <= latest_date]"
   ]
  },
  {
   "cell_type": "code",
   "execution_count": 4,
   "id": "1fa105f5",
   "metadata": {
    "execution": {
     "iopub.execute_input": "2023-08-23T23:40:27.875868Z",
     "iopub.status.busy": "2023-08-23T23:40:27.875324Z",
     "iopub.status.idle": "2023-08-23T23:40:28.046654Z",
     "shell.execute_reply": "2023-08-23T23:40:28.045977Z"
    },
    "papermill": {
     "duration": 0.176615,
     "end_time": "2023-08-23T23:40:28.048836",
     "exception": false,
     "start_time": "2023-08-23T23:40:27.872221",
     "status": "completed"
    },
    "tags": []
   },
   "outputs": [],
   "source": [
    "events = load_event_data()\n",
    "\n",
    "events = pd.concat([\n",
    "  events,\n",
    "  events.pipe(get_first_ward).pipe(normalise_ward).fillna('UNKNOWN'),\n",
    "  pd.Series(\n",
    "      events.actual_audience_size_number_of_participants_in_person + events.actual_audience_size_number_of_participants_online,\n",
    "      name='attendances'\n",
    "  )\n",
    "], axis=1).rename(columns={\n",
    "    'start_date': 'date'\n",
    "}).loc[:, ['ward_code', 'date', 'event_unique_identifier', 'attendances']]"
   ]
  },
  {
   "cell_type": "code",
   "execution_count": 5,
   "id": "00f689cb",
   "metadata": {
    "execution": {
     "iopub.execute_input": "2023-08-23T23:40:28.054619Z",
     "iopub.status.busy": "2023-08-23T23:40:28.054173Z",
     "iopub.status.idle": "2023-08-23T23:40:28.057520Z",
     "shell.execute_reply": "2023-08-23T23:40:28.056880Z"
    },
    "papermill": {
     "duration": 0.00792,
     "end_time": "2023-08-23T23:40:28.059092",
     "exception": false,
     "start_time": "2023-08-23T23:40:28.051172",
     "status": "completed"
    },
    "tags": []
   },
   "outputs": [],
   "source": [
    "OUTPUT_DIR='../../../../docs/metrics/events/signature/_data/'\n",
    "os.makedirs(OUTPUT_DIR, exist_ok=True)"
   ]
  },
  {
   "cell_type": "markdown",
   "id": "f69675fb",
   "metadata": {
    "papermill": {
     "duration": 0.002106,
     "end_time": "2023-08-23T23:40:28.063220",
     "exception": false,
     "start_time": "2023-08-23T23:40:28.061114",
     "status": "completed"
    },
    "tags": []
   },
   "source": [
    "Events CSVs"
   ]
  },
  {
   "cell_type": "code",
   "execution_count": 6,
   "id": "e2e9aed7",
   "metadata": {
    "execution": {
     "iopub.execute_input": "2023-08-23T23:40:28.068744Z",
     "iopub.status.busy": "2023-08-23T23:40:28.068151Z",
     "iopub.status.idle": "2023-08-23T23:40:28.075797Z",
     "shell.execute_reply": "2023-08-23T23:40:28.074923Z"
    },
    "papermill": {
     "duration": 0.012054,
     "end_time": "2023-08-23T23:40:28.077314",
     "exception": false,
     "start_time": "2023-08-23T23:40:28.065260",
     "status": "completed"
    },
    "tags": []
   },
   "outputs": [],
   "source": [
    "pd.DataFrame({\n",
    "  'events': events.groupby('ward_code').event_unique_identifier.count(),\n",
    "  'attendances': events.groupby('ward_code').attendances.sum().astype(int),\n",
    "}).to_csv(os.path.join(OUTPUT_DIR, 'events_by_ward.csv'))\n"
   ]
  },
  {
   "cell_type": "code",
   "execution_count": 7,
   "id": "6af96059",
   "metadata": {
    "execution": {
     "iopub.execute_input": "2023-08-23T23:40:28.082541Z",
     "iopub.status.busy": "2023-08-23T23:40:28.082205Z",
     "iopub.status.idle": "2023-08-23T23:40:28.092465Z",
     "shell.execute_reply": "2023-08-23T23:40:28.091919Z"
    },
    "papermill": {
     "duration": 0.014593,
     "end_time": "2023-08-23T23:40:28.093956",
     "exception": false,
     "start_time": "2023-08-23T23:40:28.079363",
     "status": "completed"
    },
    "tags": []
   },
   "outputs": [],
   "source": [
    "pd.DataFrame({\n",
    "  'events': events.groupby('date').event_unique_identifier.count(),\n",
    "  'attendances': events.groupby('date').attendances.sum().astype(int),\n",
    "}).resample('M').sum().astype(int).to_csv(os.path.join(OUTPUT_DIR, 'events_by_date.csv'))"
   ]
  },
  {
   "cell_type": "markdown",
   "id": "4b0e604d",
   "metadata": {
    "papermill": {
     "duration": 0.002148,
     "end_time": "2023-08-23T23:40:28.098188",
     "exception": false,
     "start_time": "2023-08-23T23:40:28.096040",
     "status": "completed"
    },
    "tags": []
   },
   "source": [
    "Tickets CSV"
   ]
  },
  {
   "cell_type": "code",
   "execution_count": 8,
   "id": "8d2f92cd",
   "metadata": {
    "execution": {
     "iopub.execute_input": "2023-08-23T23:40:28.103602Z",
     "iopub.status.busy": "2023-08-23T23:40:28.103205Z",
     "iopub.status.idle": "2023-08-23T23:40:28.109941Z",
     "shell.execute_reply": "2023-08-23T23:40:28.109373Z"
    },
    "papermill": {
     "duration": 0.011194,
     "end_time": "2023-08-23T23:40:28.111470",
     "exception": false,
     "start_time": "2023-08-23T23:40:28.100276",
     "status": "completed"
    },
    "tags": []
   },
   "outputs": [],
   "source": [
    "pd.DataFrame({\n",
    "  'orders': tickets.groupby('ward_code').number_of_tickets.count(),\n",
    "  'tickets': tickets.groupby('ward_code').number_of_tickets.sum().astype(int),\n",
    "}).to_csv(os.path.join(OUTPUT_DIR, 'tickets_by_ward.csv'))"
   ]
  },
  {
   "cell_type": "code",
   "execution_count": 9,
   "id": "53922a4d",
   "metadata": {
    "execution": {
     "iopub.execute_input": "2023-08-23T23:40:28.116873Z",
     "iopub.status.busy": "2023-08-23T23:40:28.116573Z",
     "iopub.status.idle": "2023-08-23T23:40:28.124509Z",
     "shell.execute_reply": "2023-08-23T23:40:28.123955Z"
    },
    "papermill": {
     "duration": 0.012245,
     "end_time": "2023-08-23T23:40:28.125906",
     "exception": false,
     "start_time": "2023-08-23T23:40:28.113661",
     "status": "completed"
    },
    "tags": []
   },
   "outputs": [],
   "source": [
    "pd.DataFrame({\n",
    "  'orders': tickets.groupby('event_date').number_of_tickets.count(),\n",
    "  'tickets': tickets.groupby('event_date').number_of_tickets.sum().astype(int),\n",
    "}).resample('M').sum().to_csv(os.path.join(OUTPUT_DIR, 'tickets_by_event_date.csv'))"
   ]
  },
  {
   "cell_type": "code",
   "execution_count": 10,
   "id": "bedc534d",
   "metadata": {
    "execution": {
     "iopub.execute_input": "2023-08-23T23:40:28.132370Z",
     "iopub.status.busy": "2023-08-23T23:40:28.131870Z",
     "iopub.status.idle": "2023-08-23T23:40:28.138134Z",
     "shell.execute_reply": "2023-08-23T23:40:28.137579Z"
    },
    "papermill": {
     "duration": 0.011771,
     "end_time": "2023-08-23T23:40:28.139813",
     "exception": false,
     "start_time": "2023-08-23T23:40:28.128042",
     "status": "completed"
    },
    "tags": []
   },
   "outputs": [],
   "source": [
    "pd.Series({\n",
    "    'total_events': events.event_unique_identifier.count(),\n",
    "    'total_attendances': events.attendances.count(),\n",
    "    'first_event': events.date.min(),\n",
    "    'latest_event': events.date.max(),\n",
    "    'total_ticket_orders_for_events_to_date': tickets.number_of_tickets.count(),\n",
    "    'total_tickets_sold_for_events_to_date': tickets.number_of_tickets.sum(),\n",
    "}).to_json(os.path.join(OUTPUT_DIR, 'headlines.json'), indent=2)"
   ]
  },
  {
   "cell_type": "code",
   "execution_count": null,
   "id": "2d4d6957",
   "metadata": {
    "papermill": {
     "duration": 0.002133,
     "end_time": "2023-08-23T23:40:28.144113",
     "exception": false,
     "start_time": "2023-08-23T23:40:28.141980",
     "status": "completed"
    },
    "tags": []
   },
   "outputs": [],
   "source": []
  }
 ],
 "metadata": {
  "kernelspec": {
   "display_name": "leeds-2023-YZF5GfJv",
   "language": "python",
   "name": "python3"
  },
  "language_info": {
   "codemirror_mode": {
    "name": "ipython",
    "version": 3
   },
   "file_extension": ".py",
   "mimetype": "text/x-python",
   "name": "python",
   "nbconvert_exporter": "python",
   "pygments_lexer": "ipython3",
   "version": "3.10.12"
  },
  "papermill": {
   "default_parameters": {},
   "duration": 11.245852,
   "end_time": "2023-08-23T23:40:28.464416",
   "environment_variables": {},
   "exception": null,
   "input_path": "prepare.ipynb",
   "output_path": "../../../../working/output/signature-prepare.ipynb",
   "parameters": {},
   "start_time": "2023-08-23T23:40:17.218564",
   "version": "2.4.0"
  }
 },
 "nbformat": 4,
 "nbformat_minor": 5
}