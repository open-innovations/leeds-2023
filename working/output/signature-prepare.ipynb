{
 "cells": [
  {
   "cell_type": "code",
   "execution_count": 1,
   "id": "f291858b",
   "metadata": {
    "execution": {
     "iopub.execute_input": "2023-09-02T23:39:47.520568Z",
     "iopub.status.busy": "2023-09-02T23:39:47.519266Z",
     "iopub.status.idle": "2023-09-02T23:39:58.412872Z",
     "shell.execute_reply": "2023-09-02T23:39:58.411952Z"
    },
    "papermill": {
     "duration": 10.903484,
     "end_time": "2023-09-02T23:39:58.415955",
     "exception": false,
     "start_time": "2023-09-02T23:39:47.512471",
     "status": "completed"
    },
    "tags": []
   },
   "outputs": [],
   "source": [
    "import os\n",
    "import pandas as pd\n",
    "from events import load_event_data, get_first_ward, normalise_ward"
   ]
  },
  {
   "cell_type": "code",
   "execution_count": 2,
   "id": "1bf59d44",
   "metadata": {
    "execution": {
     "iopub.execute_input": "2023-09-02T23:39:58.422804Z",
     "iopub.status.busy": "2023-09-02T23:39:58.422128Z",
     "iopub.status.idle": "2023-09-02T23:39:58.427842Z",
     "shell.execute_reply": "2023-09-02T23:39:58.426998Z"
    },
    "papermill": {
     "duration": 0.010767,
     "end_time": "2023-09-02T23:39:58.429489",
     "exception": false,
     "start_time": "2023-09-02T23:39:58.418722",
     "status": "completed"
    },
    "tags": []
   },
   "outputs": [],
   "source": [
    "latest_date = pd.Timestamp.today().ceil('D')"
   ]
  },
  {
   "cell_type": "code",
   "execution_count": 3,
   "id": "a4c64cd4",
   "metadata": {
    "execution": {
     "iopub.execute_input": "2023-09-02T23:39:58.435721Z",
     "iopub.status.busy": "2023-09-02T23:39:58.435230Z",
     "iopub.status.idle": "2023-09-02T23:39:58.455118Z",
     "shell.execute_reply": "2023-09-02T23:39:58.454466Z"
    },
    "papermill": {
     "duration": 0.025005,
     "end_time": "2023-09-02T23:39:58.456856",
     "exception": false,
     "start_time": "2023-09-02T23:39:58.431851",
     "status": "completed"
    },
    "tags": []
   },
   "outputs": [],
   "source": [
    "tickets = pd.read_csv('../../../../data/metrics/events/tickets/orders.csv', parse_dates=['created_at', 'event_date'])\n",
    "tickets = tickets[tickets.event_date <= latest_date]"
   ]
  },
  {
   "cell_type": "code",
   "execution_count": 4,
   "id": "9c736c09",
   "metadata": {
    "execution": {
     "iopub.execute_input": "2023-09-02T23:39:58.462959Z",
     "iopub.status.busy": "2023-09-02T23:39:58.462322Z",
     "iopub.status.idle": "2023-09-02T23:39:58.686931Z",
     "shell.execute_reply": "2023-09-02T23:39:58.685519Z"
    },
    "papermill": {
     "duration": 0.231143,
     "end_time": "2023-09-02T23:39:58.690121",
     "exception": false,
     "start_time": "2023-09-02T23:39:58.458978",
     "status": "completed"
    },
    "tags": []
   },
   "outputs": [],
   "source": [
    "events = load_event_data()\n",
    "\n",
    "events = pd.concat([\n",
    "  events,\n",
    "  events.pipe(get_first_ward).pipe(normalise_ward).fillna('UNKNOWN'),\n",
    "  pd.Series(\n",
    "      events.actual_audience_size_number_of_participants_in_person + events.actual_audience_size_number_of_participants_online,\n",
    "      name='attendances'\n",
    "  )\n",
    "], axis=1).rename(columns={\n",
    "    'start_date': 'date'\n",
    "}).loc[:, ['ward_code', 'date', 'event_unique_identifier', 'attendances']]"
   ]
  },
  {
   "cell_type": "code",
   "execution_count": 5,
   "id": "3bb67821",
   "metadata": {
    "execution": {
     "iopub.execute_input": "2023-09-02T23:39:58.697668Z",
     "iopub.status.busy": "2023-09-02T23:39:58.696944Z",
     "iopub.status.idle": "2023-09-02T23:39:58.700802Z",
     "shell.execute_reply": "2023-09-02T23:39:58.700118Z"
    },
    "papermill": {
     "duration": 0.009267,
     "end_time": "2023-09-02T23:39:58.702472",
     "exception": false,
     "start_time": "2023-09-02T23:39:58.693205",
     "status": "completed"
    },
    "tags": []
   },
   "outputs": [],
   "source": [
    "OUTPUT_DIR='../../../../docs/metrics/events/signature/_data/'\n",
    "os.makedirs(OUTPUT_DIR, exist_ok=True)"
   ]
  },
  {
   "cell_type": "markdown",
   "id": "801a0f03",
   "metadata": {
    "papermill": {
     "duration": 0.002428,
     "end_time": "2023-09-02T23:39:58.707321",
     "exception": false,
     "start_time": "2023-09-02T23:39:58.704893",
     "status": "completed"
    },
    "tags": []
   },
   "source": [
    "Events CSVs"
   ]
  },
  {
   "cell_type": "code",
   "execution_count": 6,
   "id": "5f7528f6",
   "metadata": {
    "execution": {
     "iopub.execute_input": "2023-09-02T23:39:58.713693Z",
     "iopub.status.busy": "2023-09-02T23:39:58.713058Z",
     "iopub.status.idle": "2023-09-02T23:39:58.720788Z",
     "shell.execute_reply": "2023-09-02T23:39:58.719779Z"
    },
    "papermill": {
     "duration": 0.012764,
     "end_time": "2023-09-02T23:39:58.722524",
     "exception": false,
     "start_time": "2023-09-02T23:39:58.709760",
     "status": "completed"
    },
    "tags": []
   },
   "outputs": [],
   "source": [
    "pd.DataFrame({\n",
    "  'events': events.groupby('ward_code').event_unique_identifier.count(),\n",
    "  'attendances': events.groupby('ward_code').attendances.sum().astype(int),\n",
    "}).to_csv(os.path.join(OUTPUT_DIR, 'events_by_ward.csv'))\n"
   ]
  },
  {
   "cell_type": "code",
   "execution_count": 7,
   "id": "4a06bdb3",
   "metadata": {
    "execution": {
     "iopub.execute_input": "2023-09-02T23:39:58.728805Z",
     "iopub.status.busy": "2023-09-02T23:39:58.728124Z",
     "iopub.status.idle": "2023-09-02T23:39:58.742227Z",
     "shell.execute_reply": "2023-09-02T23:39:58.741184Z"
    },
    "papermill": {
     "duration": 0.019057,
     "end_time": "2023-09-02T23:39:58.743900",
     "exception": false,
     "start_time": "2023-09-02T23:39:58.724843",
     "status": "completed"
    },
    "tags": []
   },
   "outputs": [],
   "source": [
    "pd.DataFrame({\n",
    "  'events': events.groupby('date').event_unique_identifier.count(),\n",
    "  'attendances': events.groupby('date').attendances.sum().astype(int),\n",
    "}).resample('M').sum().astype(int).to_csv(os.path.join(OUTPUT_DIR, 'events_by_date.csv'))"
   ]
  },
  {
   "cell_type": "markdown",
   "id": "757956eb",
   "metadata": {
    "papermill": {
     "duration": 0.002499,
     "end_time": "2023-09-02T23:39:58.748728",
     "exception": false,
     "start_time": "2023-09-02T23:39:58.746229",
     "status": "completed"
    },
    "tags": []
   },
   "source": [
    "Tickets CSV"
   ]
  },
  {
   "cell_type": "code",
   "execution_count": 8,
   "id": "fe383977",
   "metadata": {
    "execution": {
     "iopub.execute_input": "2023-09-02T23:39:58.755115Z",
     "iopub.status.busy": "2023-09-02T23:39:58.754632Z",
     "iopub.status.idle": "2023-09-02T23:39:58.762281Z",
     "shell.execute_reply": "2023-09-02T23:39:58.761613Z"
    },
    "papermill": {
     "duration": 0.012906,
     "end_time": "2023-09-02T23:39:58.764089",
     "exception": false,
     "start_time": "2023-09-02T23:39:58.751183",
     "status": "completed"
    },
    "tags": []
   },
   "outputs": [],
   "source": [
    "pd.DataFrame({\n",
    "  'orders': tickets.groupby('ward_code').number_of_tickets.count(),\n",
    "  'tickets': tickets.groupby('ward_code').number_of_tickets.sum().astype(int),\n",
    "}).to_csv(os.path.join(OUTPUT_DIR, 'tickets_by_ward.csv'))"
   ]
  },
  {
   "cell_type": "code",
   "execution_count": 9,
   "id": "e21c35af",
   "metadata": {
    "execution": {
     "iopub.execute_input": "2023-09-02T23:39:58.770598Z",
     "iopub.status.busy": "2023-09-02T23:39:58.769976Z",
     "iopub.status.idle": "2023-09-02T23:39:58.778685Z",
     "shell.execute_reply": "2023-09-02T23:39:58.778057Z"
    },
    "papermill": {
     "duration": 0.013881,
     "end_time": "2023-09-02T23:39:58.780409",
     "exception": false,
     "start_time": "2023-09-02T23:39:58.766528",
     "status": "completed"
    },
    "tags": []
   },
   "outputs": [],
   "source": [
    "pd.DataFrame({\n",
    "  'orders': tickets.groupby('event_date').number_of_tickets.count(),\n",
    "  'tickets': tickets.groupby('event_date').number_of_tickets.sum().astype(int),\n",
    "}).resample('M').sum().to_csv(os.path.join(OUTPUT_DIR, 'tickets_by_event_date.csv'))"
   ]
  },
  {
   "cell_type": "code",
   "execution_count": 10,
   "id": "9d3045b3",
   "metadata": {
    "execution": {
     "iopub.execute_input": "2023-09-02T23:39:58.787802Z",
     "iopub.status.busy": "2023-09-02T23:39:58.787300Z",
     "iopub.status.idle": "2023-09-02T23:39:58.792916Z",
     "shell.execute_reply": "2023-09-02T23:39:58.792197Z"
    },
    "papermill": {
     "duration": 0.011675,
     "end_time": "2023-09-02T23:39:58.794570",
     "exception": false,
     "start_time": "2023-09-02T23:39:58.782895",
     "status": "completed"
    },
    "tags": []
   },
   "outputs": [],
   "source": [
    "pd.Series({\n",
    "    'total_events': events.event_unique_identifier.count(),\n",
    "    'total_attendances': events.attendances.count(),\n",
    "    'first_event': events.date.min(),\n",
    "    'latest_event': events.date.max(),\n",
    "    'total_ticket_orders_for_events_to_date': tickets.number_of_tickets.count(),\n",
    "    'total_tickets_sold_for_events_to_date': tickets.number_of_tickets.sum(),\n",
    "}).to_json(os.path.join(OUTPUT_DIR, 'headlines.json'), indent=2)"
   ]
  },
  {
   "cell_type": "code",
   "execution_count": null,
   "id": "6fdae50a",
   "metadata": {
    "papermill": {
     "duration": 0.002534,
     "end_time": "2023-09-02T23:39:58.799840",
     "exception": false,
     "start_time": "2023-09-02T23:39:58.797306",
     "status": "completed"
    },
    "tags": []
   },
   "outputs": [],
   "source": []
  }
 ],
 "metadata": {
  "kernelspec": {
   "display_name": "leeds-2023-YZF5GfJv",
   "language": "python",
   "name": "python3"
  },
  "language_info": {
   "codemirror_mode": {
    "name": "ipython",
    "version": 3
   },
   "file_extension": ".py",
   "mimetype": "text/x-python",
   "name": "python",
   "nbconvert_exporter": "python",
   "pygments_lexer": "ipython3",
   "version": "3.10.12"
  },
  "papermill": {
   "default_parameters": {},
   "duration": 12.963682,
   "end_time": "2023-09-02T23:39:59.120252",
   "environment_variables": {},
   "exception": null,
   "input_path": "prepare.ipynb",
   "output_path": "../../../../working/output/signature-prepare.ipynb",
   "parameters": {},
   "start_time": "2023-09-02T23:39:46.156570",
   "version": "2.4.0"
  }
 },
 "nbformat": 4,
 "nbformat_minor": 5
}