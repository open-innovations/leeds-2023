{
 "cells": [
  {
   "cell_type": "code",
   "execution_count": 1,
   "id": "86c77245",
   "metadata": {
    "execution": {
     "iopub.execute_input": "2023-12-22T12:48:22.958061Z",
     "iopub.status.busy": "2023-12-22T12:48:22.957813Z",
     "iopub.status.idle": "2023-12-22T12:48:23.199441Z",
     "shell.execute_reply": "2023-12-22T12:48:23.198759Z"
    },
    "papermill": {
     "duration": 0.247282,
     "end_time": "2023-12-22T12:48:23.201185",
     "exception": false,
     "start_time": "2023-12-22T12:48:22.953903",
     "status": "completed"
    },
    "tags": []
   },
   "outputs": [],
   "source": [
    "from pathlib import Path\n",
    "import pandas as pd"
   ]
  },
  {
   "cell_type": "markdown",
   "id": "aa15a3c5",
   "metadata": {
    "papermill": {
     "duration": 0.002183,
     "end_time": "2023-12-22T12:48:23.205908",
     "exception": false,
     "start_time": "2023-12-22T12:48:23.203725",
     "status": "completed"
    },
    "tags": []
   },
   "source": [
    "Load the orders data which was created in the [transform stage](./tickets.ipynb)."
   ]
  },
  {
   "cell_type": "code",
   "execution_count": 2,
   "id": "334d35a7",
   "metadata": {
    "execution": {
     "iopub.execute_input": "2023-12-22T12:48:23.211581Z",
     "iopub.status.busy": "2023-12-22T12:48:23.211019Z",
     "iopub.status.idle": "2023-12-22T12:48:23.229165Z",
     "shell.execute_reply": "2023-12-22T12:48:23.228646Z"
    },
    "papermill": {
     "duration": 0.02241,
     "end_time": "2023-12-22T12:48:23.230448",
     "exception": false,
     "start_time": "2023-12-22T12:48:23.208038",
     "status": "completed"
    },
    "tags": []
   },
   "outputs": [],
   "source": [
    "def prepare(data: pd.DataFrame) -> pd.DataFrame:\n",
    "    data = data.loc[\n",
    "        (\n",
    "            data.public_event == True\n",
    "        ) & (\n",
    "            ~data.project_name.isin([\n",
    "                'Skills Development',\n",
    "            ])\n",
    "        )\n",
    "    ]\n",
    "    data = data.drop(columns=['public_event'])\n",
    "    return data\n",
    "\n",
    "\n",
    "orders = pd.read_csv(\n",
    "    '../../../../data/metrics/events/tickets/orders.csv',\n",
    "    usecols=[\n",
    "        'created_at',\n",
    "        'project_name',\n",
    "        'public_event',\n",
    "        'number_of_tickets'\n",
    "    ],\n",
    "    parse_dates=['created_at']\n",
    ").pipe(prepare)"
   ]
  },
  {
   "cell_type": "markdown",
   "id": "203b6b5f",
   "metadata": {
    "papermill": {
     "duration": 0.002115,
     "end_time": "2023-12-22T12:48:23.234830",
     "exception": false,
     "start_time": "2023-12-22T12:48:23.232715",
     "status": "completed"
    },
    "tags": []
   },
   "source": [
    "Define functions to count and sum tickets, and to append cumulative versions of those."
   ]
  },
  {
   "cell_type": "code",
   "execution_count": 3,
   "id": "624843e7",
   "metadata": {
    "execution": {
     "iopub.execute_input": "2023-12-22T12:48:23.240308Z",
     "iopub.status.busy": "2023-12-22T12:48:23.239862Z",
     "iopub.status.idle": "2023-12-22T12:48:23.243812Z",
     "shell.execute_reply": "2023-12-22T12:48:23.243264Z"
    },
    "papermill": {
     "duration": 0.008127,
     "end_time": "2023-12-22T12:48:23.245094",
     "exception": false,
     "start_time": "2023-12-22T12:48:23.236967",
     "status": "completed"
    },
    "tags": []
   },
   "outputs": [],
   "source": [
    "def count_and_sum(series):\n",
    "    return pd.concat([\n",
    "        series.count().to_frame('orders'),\n",
    "        series.sum().to_frame('tickets'),\n",
    "    ], axis=1)\n",
    "\n",
    "\n",
    "def cumulate(df: pd.DataFrame) -> pd.DataFrame:\n",
    "    return pd.concat([\n",
    "        df,\n",
    "        df.cumsum().rename(columns=lambda x: f'cumulative_{x}')\n",
    "    ], axis=1)"
   ]
  },
  {
   "cell_type": "markdown",
   "id": "189a5c8b",
   "metadata": {
    "papermill": {
     "duration": 0.002146,
     "end_time": "2023-12-22T12:48:23.249420",
     "exception": false,
     "start_time": "2023-12-22T12:48:23.247274",
     "status": "completed"
    },
    "tags": []
   },
   "source": [
    "Create output directory"
   ]
  },
  {
   "cell_type": "code",
   "execution_count": 4,
   "id": "bccb2a1f",
   "metadata": {
    "execution": {
     "iopub.execute_input": "2023-12-22T12:48:23.254466Z",
     "iopub.status.busy": "2023-12-22T12:48:23.254279Z",
     "iopub.status.idle": "2023-12-22T12:48:23.257303Z",
     "shell.execute_reply": "2023-12-22T12:48:23.256724Z"
    },
    "papermill": {
     "duration": 0.00698,
     "end_time": "2023-12-22T12:48:23.258544",
     "exception": false,
     "start_time": "2023-12-22T12:48:23.251564",
     "status": "completed"
    },
    "tags": []
   },
   "outputs": [],
   "source": [
    "OUTPUT_DIR = Path('../../../../docs/metrics/tickets/_data/')\n",
    "OUTPUT_DIR.mkdir(parents=True, exist_ok=True)"
   ]
  },
  {
   "cell_type": "markdown",
   "id": "a99b820b",
   "metadata": {
    "papermill": {
     "duration": 0.002133,
     "end_time": "2023-12-22T12:48:23.263731",
     "exception": false,
     "start_time": "2023-12-22T12:48:23.261598",
     "status": "completed"
    },
    "tags": []
   },
   "source": [
    "Count / sum the orders and tickets by project code and save to a JSON file"
   ]
  },
  {
   "cell_type": "code",
   "execution_count": 5,
   "id": "a8cbdce4",
   "metadata": {
    "execution": {
     "iopub.execute_input": "2023-12-22T12:48:23.269006Z",
     "iopub.status.busy": "2023-12-22T12:48:23.268766Z",
     "iopub.status.idle": "2023-12-22T12:48:23.275601Z",
     "shell.execute_reply": "2023-12-22T12:48:23.274995Z"
    },
    "papermill": {
     "duration": 0.01105,
     "end_time": "2023-12-22T12:48:23.276947",
     "exception": false,
     "start_time": "2023-12-22T12:48:23.265897",
     "status": "completed"
    },
    "tags": []
   },
   "outputs": [],
   "source": [
    "by_project = orders.groupby('project_name').number_of_tickets.pipe(count_and_sum)\n",
    "by_project.loc['total']= by_project.sum()\n",
    "by_project.T.to_json(\n",
    "  OUTPUT_DIR.joinpath('headlines.json'),\n",
    "  indent=2\n",
    ")"
   ]
  },
  {
   "cell_type": "markdown",
   "id": "625cbdf4",
   "metadata": {
    "papermill": {
     "duration": 0.002278,
     "end_time": "2023-12-22T12:48:23.281478",
     "exception": false,
     "start_time": "2023-12-22T12:48:23.279200",
     "status": "completed"
    },
    "tags": []
   },
   "source": [
    "Add `day` column"
   ]
  },
  {
   "cell_type": "code",
   "execution_count": 6,
   "id": "a30d9482",
   "metadata": {
    "execution": {
     "iopub.execute_input": "2023-12-22T12:48:23.286922Z",
     "iopub.status.busy": "2023-12-22T12:48:23.286551Z",
     "iopub.status.idle": "2023-12-22T12:48:23.290318Z",
     "shell.execute_reply": "2023-12-22T12:48:23.289751Z"
    },
    "papermill": {
     "duration": 0.007895,
     "end_time": "2023-12-22T12:48:23.291572",
     "exception": false,
     "start_time": "2023-12-22T12:48:23.283677",
     "status": "completed"
    },
    "tags": []
   },
   "outputs": [],
   "source": [
    "orders['day'] = orders.created_at.dt.floor('D')"
   ]
  },
  {
   "cell_type": "code",
   "execution_count": 7,
   "id": "0d320ed5",
   "metadata": {
    "execution": {
     "iopub.execute_input": "2023-12-22T12:48:23.297285Z",
     "iopub.status.busy": "2023-12-22T12:48:23.296759Z",
     "iopub.status.idle": "2023-12-22T12:48:23.305996Z",
     "shell.execute_reply": "2023-12-22T12:48:23.305449Z"
    },
    "papermill": {
     "duration": 0.013375,
     "end_time": "2023-12-22T12:48:23.307246",
     "exception": false,
     "start_time": "2023-12-22T12:48:23.293871",
     "status": "completed"
    },
    "tags": []
   },
   "outputs": [
    {
     "data": {
      "text/html": [
       "<div>\n",
       "<style scoped>\n",
       "    .dataframe tbody tr th:only-of-type {\n",
       "        vertical-align: middle;\n",
       "    }\n",
       "\n",
       "    .dataframe tbody tr th {\n",
       "        vertical-align: top;\n",
       "    }\n",
       "\n",
       "    .dataframe thead th {\n",
       "        text-align: right;\n",
       "    }\n",
       "</style>\n",
       "<table border=\"1\" class=\"dataframe\">\n",
       "  <thead>\n",
       "    <tr style=\"text-align: right;\">\n",
       "      <th></th>\n",
       "      <th>created_at</th>\n",
       "      <th>day</th>\n",
       "    </tr>\n",
       "  </thead>\n",
       "  <tbody>\n",
       "    <tr>\n",
       "      <th>176</th>\n",
       "      <td>2023-03-30 16:58:03</td>\n",
       "      <td>2023-03-30</td>\n",
       "    </tr>\n",
       "    <tr>\n",
       "      <th>177</th>\n",
       "      <td>2023-03-30 18:44:08</td>\n",
       "      <td>2023-03-30</td>\n",
       "    </tr>\n",
       "    <tr>\n",
       "      <th>180</th>\n",
       "      <td>2023-03-30 20:32:43</td>\n",
       "      <td>2023-03-30</td>\n",
       "    </tr>\n",
       "    <tr>\n",
       "      <th>181</th>\n",
       "      <td>2023-03-30 21:27:59</td>\n",
       "      <td>2023-03-30</td>\n",
       "    </tr>\n",
       "    <tr>\n",
       "      <th>183</th>\n",
       "      <td>2023-03-30 22:56:31</td>\n",
       "      <td>2023-03-30</td>\n",
       "    </tr>\n",
       "  </tbody>\n",
       "</table>\n",
       "</div>"
      ],
      "text/plain": [
       "             created_at        day\n",
       "176 2023-03-30 16:58:03 2023-03-30\n",
       "177 2023-03-30 18:44:08 2023-03-30\n",
       "180 2023-03-30 20:32:43 2023-03-30\n",
       "181 2023-03-30 21:27:59 2023-03-30\n",
       "183 2023-03-30 22:56:31 2023-03-30"
      ]
     },
     "execution_count": 7,
     "metadata": {},
     "output_type": "execute_result"
    }
   ],
   "source": [
    "orders.loc[:, ['created_at', 'day']].head()"
   ]
  },
  {
   "cell_type": "markdown",
   "id": "bc9ca113",
   "metadata": {
    "papermill": {
     "duration": 0.002417,
     "end_time": "2023-12-22T12:48:23.312334",
     "exception": false,
     "start_time": "2023-12-22T12:48:23.309917",
     "status": "completed"
    },
    "tags": []
   },
   "source": [
    "Save table cumulative weekly per project"
   ]
  },
  {
   "cell_type": "code",
   "execution_count": 8,
   "id": "e5bc57a9",
   "metadata": {
    "execution": {
     "iopub.execute_input": "2023-12-22T12:48:23.318267Z",
     "iopub.status.busy": "2023-12-22T12:48:23.317830Z",
     "iopub.status.idle": "2023-12-22T12:48:23.327950Z",
     "shell.execute_reply": "2023-12-22T12:48:23.327444Z"
    },
    "papermill": {
     "duration": 0.014491,
     "end_time": "2023-12-22T12:48:23.329276",
     "exception": false,
     "start_time": "2023-12-22T12:48:23.314785",
     "status": "completed"
    },
    "tags": []
   },
   "outputs": [],
   "source": [
    "orders.groupby(\n",
    "  ['day', 'project_name']\n",
    ").number_of_tickets.pipe(\n",
    "  count_and_sum\n",
    ").tickets.unstack().fillna(0).resample('W-FRI').sum().cumsum().rename_axis('week').to_csv(\n",
    "  OUTPUT_DIR.joinpath('by_project_cumulative_weekly.csv')\n",
    ")"
   ]
  },
  {
   "cell_type": "markdown",
   "id": "98f6958d",
   "metadata": {
    "papermill": {
     "duration": 0.002444,
     "end_time": "2023-12-22T12:48:23.334216",
     "exception": false,
     "start_time": "2023-12-22T12:48:23.331772",
     "status": "completed"
    },
    "tags": []
   },
   "source": [
    "Save cumulative monthly sales"
   ]
  },
  {
   "cell_type": "code",
   "execution_count": 9,
   "id": "8baa5395",
   "metadata": {
    "execution": {
     "iopub.execute_input": "2023-12-22T12:48:23.340207Z",
     "iopub.status.busy": "2023-12-22T12:48:23.339710Z",
     "iopub.status.idle": "2023-12-22T12:48:23.346479Z",
     "shell.execute_reply": "2023-12-22T12:48:23.345980Z"
    },
    "papermill": {
     "duration": 0.011079,
     "end_time": "2023-12-22T12:48:23.347746",
     "exception": false,
     "start_time": "2023-12-22T12:48:23.336667",
     "status": "completed"
    },
    "tags": []
   },
   "outputs": [],
   "source": [
    "orders.groupby(['day']).number_of_tickets.pipe(count_and_sum).resample('MS').sum().pipe(cumulate).rename_axis('month').to_csv(\n",
    "  OUTPUT_DIR.joinpath('monthly_cumulative.csv')\n",
    ")"
   ]
  },
  {
   "cell_type": "code",
   "execution_count": null,
   "id": "5b2a98de",
   "metadata": {
    "papermill": {
     "duration": 0.002555,
     "end_time": "2023-12-22T12:48:23.352815",
     "exception": false,
     "start_time": "2023-12-22T12:48:23.350260",
     "status": "completed"
    },
    "tags": []
   },
   "outputs": [],
   "source": []
  }
 ],
 "metadata": {
  "kernelspec": {
   "display_name": "leeds-2023-YZF5GfJv",
   "language": "python",
   "name": "python3"
  },
  "language_info": {
   "codemirror_mode": {
    "name": "ipython",
    "version": 3
   },
   "file_extension": ".py",
   "mimetype": "text/x-python",
   "name": "python",
   "nbconvert_exporter": "python",
   "pygments_lexer": "ipython3",
   "version": "3.10.13"
  },
  "papermill": {
   "default_parameters": {},
   "duration": 1.852799,
   "end_time": "2023-12-22T12:48:23.571276",
   "environment_variables": {},
   "exception": null,
   "input_path": "prepare.ipynb",
   "output_path": "../../../../working/output/tickets-prepare.ipynb",
   "parameters": {},
   "start_time": "2023-12-22T12:48:21.718477",
   "version": "2.4.0"
  }
 },
 "nbformat": 4,
 "nbformat_minor": 5
}