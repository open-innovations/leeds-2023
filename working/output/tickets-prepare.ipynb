{
 "cells": [
  {
   "cell_type": "code",
   "execution_count": 1,
   "id": "3335407d",
   "metadata": {
    "execution": {
     "iopub.execute_input": "2023-12-21T23:39:03.676828Z",
     "iopub.status.busy": "2023-12-21T23:39:03.676591Z",
     "iopub.status.idle": "2023-12-21T23:39:03.921833Z",
     "shell.execute_reply": "2023-12-21T23:39:03.921264Z"
    },
    "papermill": {
     "duration": 0.250621,
     "end_time": "2023-12-21T23:39:03.923569",
     "exception": false,
     "start_time": "2023-12-21T23:39:03.672948",
     "status": "completed"
    },
    "tags": []
   },
   "outputs": [],
   "source": [
    "from pathlib import Path\n",
    "import pandas as pd"
   ]
  },
  {
   "cell_type": "markdown",
   "id": "464b61c3",
   "metadata": {
    "papermill": {
     "duration": 0.002211,
     "end_time": "2023-12-21T23:39:03.928445",
     "exception": false,
     "start_time": "2023-12-21T23:39:03.926234",
     "status": "completed"
    },
    "tags": []
   },
   "source": [
    "Load the orders data which was created in the [transform stage](./tickets.ipynb)."
   ]
  },
  {
   "cell_type": "code",
   "execution_count": 2,
   "id": "c6239091",
   "metadata": {
    "execution": {
     "iopub.execute_input": "2023-12-21T23:39:03.934090Z",
     "iopub.status.busy": "2023-12-21T23:39:03.933640Z",
     "iopub.status.idle": "2023-12-21T23:39:03.951477Z",
     "shell.execute_reply": "2023-12-21T23:39:03.950898Z"
    },
    "papermill": {
     "duration": 0.022259,
     "end_time": "2023-12-21T23:39:03.952886",
     "exception": false,
     "start_time": "2023-12-21T23:39:03.930627",
     "status": "completed"
    },
    "tags": []
   },
   "outputs": [],
   "source": [
    "def prepare(data: pd.DataFrame) -> pd.DataFrame:\n",
    "    data = data.loc[\n",
    "        (\n",
    "            data.public_event == True\n",
    "        ) & (\n",
    "            ~data.project_name.isin([\n",
    "                'Skills Development',\n",
    "            ])\n",
    "        )\n",
    "    ]\n",
    "    data = data.drop(columns=['public_event'])\n",
    "    return data\n",
    "\n",
    "\n",
    "orders = pd.read_csv(\n",
    "    '../../../../data/metrics/events/tickets/orders.csv',\n",
    "    usecols=[\n",
    "        'created_at',\n",
    "        'project_name',\n",
    "        'public_event',\n",
    "        'number_of_tickets'\n",
    "    ],\n",
    "    parse_dates=['created_at']\n",
    ").pipe(prepare)"
   ]
  },
  {
   "cell_type": "markdown",
   "id": "3f272036",
   "metadata": {
    "papermill": {
     "duration": 0.002142,
     "end_time": "2023-12-21T23:39:03.957214",
     "exception": false,
     "start_time": "2023-12-21T23:39:03.955072",
     "status": "completed"
    },
    "tags": []
   },
   "source": [
    "Define functions to count and sum tickets, and to append cumulative versions of those."
   ]
  },
  {
   "cell_type": "code",
   "execution_count": 3,
   "id": "213c6d59",
   "metadata": {
    "execution": {
     "iopub.execute_input": "2023-12-21T23:39:03.962706Z",
     "iopub.status.busy": "2023-12-21T23:39:03.962187Z",
     "iopub.status.idle": "2023-12-21T23:39:03.966224Z",
     "shell.execute_reply": "2023-12-21T23:39:03.965680Z"
    },
    "papermill": {
     "duration": 0.008161,
     "end_time": "2023-12-21T23:39:03.967467",
     "exception": false,
     "start_time": "2023-12-21T23:39:03.959306",
     "status": "completed"
    },
    "tags": []
   },
   "outputs": [],
   "source": [
    "def count_and_sum(series):\n",
    "    return pd.concat([\n",
    "        series.count().to_frame('orders'),\n",
    "        series.sum().to_frame('tickets'),\n",
    "    ], axis=1)\n",
    "\n",
    "\n",
    "def cumulate(df: pd.DataFrame) -> pd.DataFrame:\n",
    "    return pd.concat([\n",
    "        df,\n",
    "        df.cumsum().rename(columns=lambda x: f'cumulative_{x}')\n",
    "    ], axis=1)"
   ]
  },
  {
   "cell_type": "markdown",
   "id": "3746da50",
   "metadata": {
    "papermill": {
     "duration": 0.002094,
     "end_time": "2023-12-21T23:39:03.971778",
     "exception": false,
     "start_time": "2023-12-21T23:39:03.969684",
     "status": "completed"
    },
    "tags": []
   },
   "source": [
    "Create output directory"
   ]
  },
  {
   "cell_type": "code",
   "execution_count": 4,
   "id": "558ec286",
   "metadata": {
    "execution": {
     "iopub.execute_input": "2023-12-21T23:39:03.976922Z",
     "iopub.status.busy": "2023-12-21T23:39:03.976731Z",
     "iopub.status.idle": "2023-12-21T23:39:03.980020Z",
     "shell.execute_reply": "2023-12-21T23:39:03.979482Z"
    },
    "papermill": {
     "duration": 0.007298,
     "end_time": "2023-12-21T23:39:03.981283",
     "exception": false,
     "start_time": "2023-12-21T23:39:03.973985",
     "status": "completed"
    },
    "tags": []
   },
   "outputs": [],
   "source": [
    "OUTPUT_DIR = Path('../../../../docs/metrics/tickets/_data/')\n",
    "OUTPUT_DIR.mkdir(parents=True, exist_ok=True)"
   ]
  },
  {
   "cell_type": "markdown",
   "id": "c6f16ddb",
   "metadata": {
    "papermill": {
     "duration": 0.002163,
     "end_time": "2023-12-21T23:39:03.986657",
     "exception": false,
     "start_time": "2023-12-21T23:39:03.984494",
     "status": "completed"
    },
    "tags": []
   },
   "source": [
    "Count / sum the orders and tickets by project code and save to a JSON file"
   ]
  },
  {
   "cell_type": "code",
   "execution_count": 5,
   "id": "fa083449",
   "metadata": {
    "execution": {
     "iopub.execute_input": "2023-12-21T23:39:03.992092Z",
     "iopub.status.busy": "2023-12-21T23:39:03.991751Z",
     "iopub.status.idle": "2023-12-21T23:39:03.998313Z",
     "shell.execute_reply": "2023-12-21T23:39:03.997712Z"
    },
    "papermill": {
     "duration": 0.010961,
     "end_time": "2023-12-21T23:39:03.999814",
     "exception": false,
     "start_time": "2023-12-21T23:39:03.988853",
     "status": "completed"
    },
    "tags": []
   },
   "outputs": [],
   "source": [
    "by_project = orders.groupby('project_name').number_of_tickets.pipe(count_and_sum)\n",
    "by_project.loc['total']= by_project.sum()\n",
    "by_project.T.to_json(\n",
    "  OUTPUT_DIR.joinpath('headlines.json'),\n",
    "  indent=2\n",
    ")"
   ]
  },
  {
   "cell_type": "markdown",
   "id": "b86c863d",
   "metadata": {
    "papermill": {
     "duration": 0.00228,
     "end_time": "2023-12-21T23:39:04.004381",
     "exception": false,
     "start_time": "2023-12-21T23:39:04.002101",
     "status": "completed"
    },
    "tags": []
   },
   "source": [
    "Add `day` column"
   ]
  },
  {
   "cell_type": "code",
   "execution_count": 6,
   "id": "d7af3fd9",
   "metadata": {
    "execution": {
     "iopub.execute_input": "2023-12-21T23:39:04.009848Z",
     "iopub.status.busy": "2023-12-21T23:39:04.009471Z",
     "iopub.status.idle": "2023-12-21T23:39:04.013464Z",
     "shell.execute_reply": "2023-12-21T23:39:04.012932Z"
    },
    "papermill": {
     "duration": 0.008064,
     "end_time": "2023-12-21T23:39:04.014691",
     "exception": false,
     "start_time": "2023-12-21T23:39:04.006627",
     "status": "completed"
    },
    "tags": []
   },
   "outputs": [],
   "source": [
    "orders['day'] = orders.created_at.dt.floor('D')"
   ]
  },
  {
   "cell_type": "code",
   "execution_count": 7,
   "id": "d75ca802",
   "metadata": {
    "execution": {
     "iopub.execute_input": "2023-12-21T23:39:04.020378Z",
     "iopub.status.busy": "2023-12-21T23:39:04.019872Z",
     "iopub.status.idle": "2023-12-21T23:39:04.029338Z",
     "shell.execute_reply": "2023-12-21T23:39:04.028739Z"
    },
    "papermill": {
     "duration": 0.013716,
     "end_time": "2023-12-21T23:39:04.030699",
     "exception": false,
     "start_time": "2023-12-21T23:39:04.016983",
     "status": "completed"
    },
    "tags": []
   },
   "outputs": [
    {
     "data": {
      "text/html": [
       "<div>\n",
       "<style scoped>\n",
       "    .dataframe tbody tr th:only-of-type {\n",
       "        vertical-align: middle;\n",
       "    }\n",
       "\n",
       "    .dataframe tbody tr th {\n",
       "        vertical-align: top;\n",
       "    }\n",
       "\n",
       "    .dataframe thead th {\n",
       "        text-align: right;\n",
       "    }\n",
       "</style>\n",
       "<table border=\"1\" class=\"dataframe\">\n",
       "  <thead>\n",
       "    <tr style=\"text-align: right;\">\n",
       "      <th></th>\n",
       "      <th>created_at</th>\n",
       "      <th>day</th>\n",
       "    </tr>\n",
       "  </thead>\n",
       "  <tbody>\n",
       "    <tr>\n",
       "      <th>176</th>\n",
       "      <td>2023-03-30 16:58:03</td>\n",
       "      <td>2023-03-30</td>\n",
       "    </tr>\n",
       "    <tr>\n",
       "      <th>177</th>\n",
       "      <td>2023-03-30 18:44:08</td>\n",
       "      <td>2023-03-30</td>\n",
       "    </tr>\n",
       "    <tr>\n",
       "      <th>180</th>\n",
       "      <td>2023-03-30 20:32:43</td>\n",
       "      <td>2023-03-30</td>\n",
       "    </tr>\n",
       "    <tr>\n",
       "      <th>181</th>\n",
       "      <td>2023-03-30 21:27:59</td>\n",
       "      <td>2023-03-30</td>\n",
       "    </tr>\n",
       "    <tr>\n",
       "      <th>183</th>\n",
       "      <td>2023-03-30 22:56:31</td>\n",
       "      <td>2023-03-30</td>\n",
       "    </tr>\n",
       "  </tbody>\n",
       "</table>\n",
       "</div>"
      ],
      "text/plain": [
       "             created_at        day\n",
       "176 2023-03-30 16:58:03 2023-03-30\n",
       "177 2023-03-30 18:44:08 2023-03-30\n",
       "180 2023-03-30 20:32:43 2023-03-30\n",
       "181 2023-03-30 21:27:59 2023-03-30\n",
       "183 2023-03-30 22:56:31 2023-03-30"
      ]
     },
     "execution_count": 7,
     "metadata": {},
     "output_type": "execute_result"
    }
   ],
   "source": [
    "orders.loc[:, ['created_at', 'day']].head()"
   ]
  },
  {
   "cell_type": "markdown",
   "id": "7ccec96a",
   "metadata": {
    "papermill": {
     "duration": 0.002442,
     "end_time": "2023-12-21T23:39:04.035843",
     "exception": false,
     "start_time": "2023-12-21T23:39:04.033401",
     "status": "completed"
    },
    "tags": []
   },
   "source": [
    "Save table cumulative weekly per project"
   ]
  },
  {
   "cell_type": "code",
   "execution_count": 8,
   "id": "09fb25e4",
   "metadata": {
    "execution": {
     "iopub.execute_input": "2023-12-21T23:39:04.041708Z",
     "iopub.status.busy": "2023-12-21T23:39:04.041344Z",
     "iopub.status.idle": "2023-12-21T23:39:04.051382Z",
     "shell.execute_reply": "2023-12-21T23:39:04.050894Z"
    },
    "papermill": {
     "duration": 0.014396,
     "end_time": "2023-12-21T23:39:04.052706",
     "exception": false,
     "start_time": "2023-12-21T23:39:04.038310",
     "status": "completed"
    },
    "tags": []
   },
   "outputs": [],
   "source": [
    "orders.groupby(\n",
    "  ['day', 'project_name']\n",
    ").number_of_tickets.pipe(\n",
    "  count_and_sum\n",
    ").tickets.unstack().fillna(0).resample('W-FRI').sum().cumsum().rename_axis('week').to_csv(\n",
    "  OUTPUT_DIR.joinpath('by_project_cumulative_weekly.csv')\n",
    ")"
   ]
  },
  {
   "cell_type": "markdown",
   "id": "11ddc210",
   "metadata": {
    "papermill": {
     "duration": 0.002443,
     "end_time": "2023-12-21T23:39:04.057643",
     "exception": false,
     "start_time": "2023-12-21T23:39:04.055200",
     "status": "completed"
    },
    "tags": []
   },
   "source": [
    "Save cumulative monthly sales"
   ]
  },
  {
   "cell_type": "code",
   "execution_count": 9,
   "id": "e7888342",
   "metadata": {
    "execution": {
     "iopub.execute_input": "2023-12-21T23:39:04.063694Z",
     "iopub.status.busy": "2023-12-21T23:39:04.063211Z",
     "iopub.status.idle": "2023-12-21T23:39:04.070325Z",
     "shell.execute_reply": "2023-12-21T23:39:04.069828Z"
    },
    "papermill": {
     "duration": 0.011541,
     "end_time": "2023-12-21T23:39:04.071616",
     "exception": false,
     "start_time": "2023-12-21T23:39:04.060075",
     "status": "completed"
    },
    "tags": []
   },
   "outputs": [],
   "source": [
    "orders.groupby(['day']).number_of_tickets.pipe(count_and_sum).resample('MS').sum().pipe(cumulate).rename_axis('month').to_csv(\n",
    "  OUTPUT_DIR.joinpath('monthly_cumulative.csv')\n",
    ")"
   ]
  },
  {
   "cell_type": "code",
   "execution_count": null,
   "id": "e6ade069",
   "metadata": {
    "papermill": {
     "duration": 0.002525,
     "end_time": "2023-12-21T23:39:04.076660",
     "exception": false,
     "start_time": "2023-12-21T23:39:04.074135",
     "status": "completed"
    },
    "tags": []
   },
   "outputs": [],
   "source": []
  }
 ],
 "metadata": {
  "kernelspec": {
   "display_name": "leeds-2023-YZF5GfJv",
   "language": "python",
   "name": "python3"
  },
  "language_info": {
   "codemirror_mode": {
    "name": "ipython",
    "version": 3
   },
   "file_extension": ".py",
   "mimetype": "text/x-python",
   "name": "python",
   "nbconvert_exporter": "python",
   "pygments_lexer": "ipython3",
   "version": "3.10.13"
  },
  "papermill": {
   "default_parameters": {},
   "duration": 1.87158,
   "end_time": "2023-12-21T23:39:04.295722",
   "environment_variables": {},
   "exception": null,
   "input_path": "prepare.ipynb",
   "output_path": "../../../../working/output/tickets-prepare.ipynb",
   "parameters": {},
   "start_time": "2023-12-21T23:39:02.424142",
   "version": "2.4.0"
  }
 },
 "nbformat": 4,
 "nbformat_minor": 5
}