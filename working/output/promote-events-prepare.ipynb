{
 "cells": [
  {
   "cell_type": "code",
   "execution_count": 1,
   "id": "f840992b",
   "metadata": {
    "execution": {
     "iopub.execute_input": "2023-08-01T23:41:09.692858Z",
     "iopub.status.busy": "2023-08-01T23:41:09.692003Z",
     "iopub.status.idle": "2023-08-01T23:41:10.051627Z",
     "shell.execute_reply": "2023-08-01T23:41:10.050607Z"
    },
    "papermill": {
     "duration": 0.36687,
     "end_time": "2023-08-01T23:41:10.054220",
     "exception": false,
     "start_time": "2023-08-01T23:41:09.687350",
     "status": "completed"
    },
    "tags": []
   },
   "outputs": [],
   "source": [
    "import os\n",
    "import pandas as pd"
   ]
  },
  {
   "cell_type": "code",
   "execution_count": 2,
   "id": "279c1afa",
   "metadata": {
    "execution": {
     "iopub.execute_input": "2023-08-01T23:41:10.060682Z",
     "iopub.status.busy": "2023-08-01T23:41:10.060291Z",
     "iopub.status.idle": "2023-08-01T23:41:10.064848Z",
     "shell.execute_reply": "2023-08-01T23:41:10.063975Z"
    },
    "papermill": {
     "duration": 0.010576,
     "end_time": "2023-08-01T23:41:10.067546",
     "exception": false,
     "start_time": "2023-08-01T23:41:10.056970",
     "status": "completed"
    },
    "tags": []
   },
   "outputs": [],
   "source": [
    "DATA_DIR='../../../docs/metrics/events/promote/_data/'\n",
    "os.makedirs(DATA_DIR, exist_ok=True)"
   ]
  },
  {
   "cell_type": "code",
   "execution_count": 3,
   "id": "df83523d",
   "metadata": {
    "execution": {
     "iopub.execute_input": "2023-08-01T23:41:10.072828Z",
     "iopub.status.busy": "2023-08-01T23:41:10.072555Z",
     "iopub.status.idle": "2023-08-01T23:41:10.086011Z",
     "shell.execute_reply": "2023-08-01T23:41:10.085059Z"
    },
    "papermill": {
     "duration": 0.018617,
     "end_time": "2023-08-01T23:41:10.088325",
     "exception": false,
     "start_time": "2023-08-01T23:41:10.069708",
     "status": "completed"
    },
    "tags": []
   },
   "outputs": [],
   "source": [
    "data = pd.read_csv('../../../data/metrics/events/promote-events/events.csv', parse_dates=['time'])"
   ]
  },
  {
   "cell_type": "code",
   "execution_count": 4,
   "id": "44f10748",
   "metadata": {
    "execution": {
     "iopub.execute_input": "2023-08-01T23:41:10.094199Z",
     "iopub.status.busy": "2023-08-01T23:41:10.093904Z",
     "iopub.status.idle": "2023-08-01T23:41:10.101441Z",
     "shell.execute_reply": "2023-08-01T23:41:10.100361Z"
    },
    "papermill": {
     "duration": 0.012936,
     "end_time": "2023-08-01T23:41:10.103573",
     "exception": false,
     "start_time": "2023-08-01T23:41:10.090637",
     "status": "completed"
    },
    "tags": []
   },
   "outputs": [],
   "source": [
    "pd.Series({\n",
    "    'total_events': len(data.id.unique()),\n",
    "    'total_event_instances': len(data.time),\n",
    "    'earliest_event': data.time.min(),\n",
    "    'latest_event': data.time.max(),\n",
    "}).to_json(\n",
    "    os.path.join(DATA_DIR, 'headlines.json'),\n",
    "    date_format='iso', indent=2\n",
    ")"
   ]
  },
  {
   "cell_type": "code",
   "execution_count": 5,
   "id": "36d2116c",
   "metadata": {
    "execution": {
     "iopub.execute_input": "2023-08-01T23:41:10.109086Z",
     "iopub.status.busy": "2023-08-01T23:41:10.108801Z",
     "iopub.status.idle": "2023-08-01T23:41:10.120009Z",
     "shell.execute_reply": "2023-08-01T23:41:10.119064Z"
    },
    "papermill": {
     "duration": 0.016751,
     "end_time": "2023-08-01T23:41:10.122283",
     "exception": false,
     "start_time": "2023-08-01T23:41:10.105532",
     "status": "completed"
    },
    "tags": []
   },
   "outputs": [],
   "source": [
    "events = pd.DataFrame({\n",
    "    'events': data.groupby('id').agg({ 'time': 'min' }).reset_index().groupby('time').id.count(),\n",
    "    'event_instances': data.groupby('time').id.count(),\n",
    "}).fillna(0).astype(int)"
   ]
  },
  {
   "cell_type": "code",
   "execution_count": 6,
   "id": "668406d2",
   "metadata": {
    "execution": {
     "iopub.execute_input": "2023-08-01T23:41:10.128992Z",
     "iopub.status.busy": "2023-08-01T23:41:10.128280Z",
     "iopub.status.idle": "2023-08-01T23:41:10.133016Z",
     "shell.execute_reply": "2023-08-01T23:41:10.132159Z"
    },
    "papermill": {
     "duration": 0.010331,
     "end_time": "2023-08-01T23:41:10.135014",
     "exception": false,
     "start_time": "2023-08-01T23:41:10.124683",
     "status": "completed"
    },
    "tags": []
   },
   "outputs": [],
   "source": [
    "def cumulate(data):\n",
    "    return pd.concat([\n",
    "        data,\n",
    "        data.cumsum().rename(columns=lambda c: f'cumulative_{c}')\n",
    "    ], axis=1)"
   ]
  },
  {
   "cell_type": "code",
   "execution_count": 7,
   "id": "01dd9d78",
   "metadata": {
    "execution": {
     "iopub.execute_input": "2023-08-01T23:41:10.140937Z",
     "iopub.status.busy": "2023-08-01T23:41:10.140548Z",
     "iopub.status.idle": "2023-08-01T23:41:10.158582Z",
     "shell.execute_reply": "2023-08-01T23:41:10.157492Z"
    },
    "papermill": {
     "duration": 0.023697,
     "end_time": "2023-08-01T23:41:10.161108",
     "exception": false,
     "start_time": "2023-08-01T23:41:10.137411",
     "status": "completed"
    },
    "tags": []
   },
   "outputs": [],
   "source": [
    "events.resample('W-FRI').sum().pipe(cumulate).to_csv(os.path.join(DATA_DIR, 'by_week.csv'))"
   ]
  },
  {
   "cell_type": "code",
   "execution_count": 8,
   "id": "b6634ae6",
   "metadata": {
    "execution": {
     "iopub.execute_input": "2023-08-01T23:41:10.167538Z",
     "iopub.status.busy": "2023-08-01T23:41:10.167156Z",
     "iopub.status.idle": "2023-08-01T23:41:10.175550Z",
     "shell.execute_reply": "2023-08-01T23:41:10.174670Z"
    },
    "papermill": {
     "duration": 0.014285,
     "end_time": "2023-08-01T23:41:10.178036",
     "exception": false,
     "start_time": "2023-08-01T23:41:10.163751",
     "status": "completed"
    },
    "tags": []
   },
   "outputs": [],
   "source": [
    "events.resample('MS').sum().pipe(cumulate).to_csv(os.path.join(DATA_DIR, 'by_month.csv'))"
   ]
  },
  {
   "cell_type": "code",
   "execution_count": null,
   "id": "bcbd307c",
   "metadata": {
    "papermill": {
     "duration": 0.002033,
     "end_time": "2023-08-01T23:41:10.182189",
     "exception": false,
     "start_time": "2023-08-01T23:41:10.180156",
     "status": "completed"
    },
    "tags": []
   },
   "outputs": [],
   "source": []
  }
 ],
 "metadata": {
  "kernelspec": {
   "display_name": "leeds-2023-YZF5GfJv",
   "language": "python",
   "name": "python3"
  },
  "language_info": {
   "codemirror_mode": {
    "name": "ipython",
    "version": 3
   },
   "file_extension": ".py",
   "mimetype": "text/x-python",
   "name": "python",
   "nbconvert_exporter": "python",
   "pygments_lexer": "ipython3",
   "version": "3.10.6"
  },
  "papermill": {
   "default_parameters": {},
   "duration": 2.406321,
   "end_time": "2023-08-01T23:41:10.503615",
   "environment_variables": {},
   "exception": null,
   "input_path": "prepare.ipynb",
   "output_path": "../../../working/output/promote-events-prepare.ipynb",
   "parameters": {},
   "start_time": "2023-08-01T23:41:08.097294",
   "version": "2.4.0"
  }
 },
 "nbformat": 4,
 "nbformat_minor": 5
}