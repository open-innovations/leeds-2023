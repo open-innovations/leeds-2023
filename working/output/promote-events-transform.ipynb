{
 "cells": [
  {
   "cell_type": "code",
   "execution_count": 1,
   "id": "151dffac",
   "metadata": {
    "execution": {
     "iopub.execute_input": "2023-09-01T23:39:10.175940Z",
     "iopub.status.busy": "2023-09-01T23:39:10.175425Z",
     "iopub.status.idle": "2023-09-01T23:39:10.412849Z",
     "shell.execute_reply": "2023-09-01T23:39:10.412223Z"
    },
    "papermill": {
     "duration": 0.24204,
     "end_time": "2023-09-01T23:39:10.414789",
     "exception": false,
     "start_time": "2023-09-01T23:39:10.172749",
     "status": "completed"
    },
    "tags": []
   },
   "outputs": [],
   "source": [
    "import os\n",
    "import pandas as pd"
   ]
  },
  {
   "cell_type": "code",
   "execution_count": 2,
   "id": "11113c50",
   "metadata": {
    "execution": {
     "iopub.execute_input": "2023-09-01T23:39:10.419281Z",
     "iopub.status.busy": "2023-09-01T23:39:10.418640Z",
     "iopub.status.idle": "2023-09-01T23:39:10.422038Z",
     "shell.execute_reply": "2023-09-01T23:39:10.421455Z"
    },
    "papermill": {
     "duration": 0.007139,
     "end_time": "2023-09-01T23:39:10.423435",
     "exception": false,
     "start_time": "2023-09-01T23:39:10.416296",
     "status": "completed"
    },
    "tags": []
   },
   "outputs": [],
   "source": [
    "EVENTS_RAW_DATA = '../../../working/metrics/promote-events/events.csv'\n",
    "DATA_DIR = '../../../data/metrics/events/promote-events/'\n",
    "EVENTS_DATA = os.path.join(DATA_DIR, 'events.csv')"
   ]
  },
  {
   "cell_type": "code",
   "execution_count": 3,
   "id": "c4a358e1",
   "metadata": {
    "execution": {
     "iopub.execute_input": "2023-09-01T23:39:10.426607Z",
     "iopub.status.busy": "2023-09-01T23:39:10.426407Z",
     "iopub.status.idle": "2023-09-01T23:39:10.429591Z",
     "shell.execute_reply": "2023-09-01T23:39:10.429007Z"
    },
    "papermill": {
     "duration": 0.006452,
     "end_time": "2023-09-01T23:39:10.431057",
     "exception": false,
     "start_time": "2023-09-01T23:39:10.424605",
     "status": "completed"
    },
    "tags": []
   },
   "outputs": [],
   "source": [
    "columns = {\n",
    "    'id': 'id',\n",
    "    'name': 'name',\n",
    "    'locationName': 'location',\n",
    "    'cardPrice': 'card_price',\n",
    "    'timeslots': 'time',\n",
    "    # 'displayOnWebsite': 'display',\n",
    "    'Stage': 'stage',\n",
    "}"
   ]
  },
  {
   "cell_type": "code",
   "execution_count": 4,
   "id": "3beae8d4",
   "metadata": {
    "execution": {
     "iopub.execute_input": "2023-09-01T23:39:10.434404Z",
     "iopub.status.busy": "2023-09-01T23:39:10.434073Z",
     "iopub.status.idle": "2023-09-01T23:39:10.444999Z",
     "shell.execute_reply": "2023-09-01T23:39:10.444456Z"
    },
    "papermill": {
     "duration": 0.014232,
     "end_time": "2023-09-01T23:39:10.446487",
     "exception": false,
     "start_time": "2023-09-01T23:39:10.432255",
     "status": "completed"
    },
    "tags": []
   },
   "outputs": [],
   "source": [
    "data = pd.read_csv(EVENTS_RAW_DATA)[columns.keys()].rename(columns=columns)\n",
    "data.time = pd.to_datetime(data.time, errors='coerce')"
   ]
  },
  {
   "cell_type": "code",
   "execution_count": 5,
   "id": "ba3c80bf",
   "metadata": {
    "execution": {
     "iopub.execute_input": "2023-09-01T23:39:10.450157Z",
     "iopub.status.busy": "2023-09-01T23:39:10.449716Z",
     "iopub.status.idle": "2023-09-01T23:39:10.455017Z",
     "shell.execute_reply": "2023-09-01T23:39:10.454473Z"
    },
    "papermill": {
     "duration": 0.008549,
     "end_time": "2023-09-01T23:39:10.456291",
     "exception": false,
     "start_time": "2023-09-01T23:39:10.447742",
     "status": "completed"
    },
    "tags": []
   },
   "outputs": [],
   "source": [
    "data.to_csv(os.path.join(DATA_DIR, 'events.csv'), index=False)"
   ]
  }
 ],
 "metadata": {
  "kernelspec": {
   "display_name": "leeds-2023-YZF5GfJv",
   "language": "python",
   "name": "python3"
  },
  "language_info": {
   "codemirror_mode": {
    "name": "ipython",
    "version": 3
   },
   "file_extension": ".py",
   "mimetype": "text/x-python",
   "name": "python",
   "nbconvert_exporter": "python",
   "pygments_lexer": "ipython3",
   "version": "3.10.12"
  },
  "papermill": {
   "default_parameters": {},
   "duration": 1.881032,
   "end_time": "2023-09-01T23:39:10.673483",
   "environment_variables": {},
   "exception": null,
   "input_path": "transform.ipynb",
   "output_path": "../../../working/output/promote-events-transform.ipynb",
   "parameters": {},
   "start_time": "2023-09-01T23:39:08.792451",
   "version": "2.4.0"
  }
 },
 "nbformat": 4,
 "nbformat_minor": 5
}