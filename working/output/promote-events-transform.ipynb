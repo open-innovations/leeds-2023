{
 "cells": [
  {
   "cell_type": "code",
   "execution_count": 1,
   "id": "9356bd0c",
   "metadata": {
    "execution": {
     "iopub.execute_input": "2023-11-13T15:15:29.588938Z",
     "iopub.status.busy": "2023-11-13T15:15:29.588805Z",
     "iopub.status.idle": "2023-11-13T15:15:29.752380Z",
     "shell.execute_reply": "2023-11-13T15:15:29.751934Z"
    },
    "papermill": {
     "duration": 0.169782,
     "end_time": "2023-11-13T15:15:29.753317",
     "exception": false,
     "start_time": "2023-11-13T15:15:29.583535",
     "status": "completed"
    },
    "tags": []
   },
   "outputs": [],
   "source": [
    "import os\n",
    "import pandas as pd"
   ]
  },
  {
   "cell_type": "code",
   "execution_count": 2,
   "id": "8d2cdad9",
   "metadata": {
    "execution": {
     "iopub.execute_input": "2023-11-13T15:15:29.755528Z",
     "iopub.status.busy": "2023-11-13T15:15:29.755337Z",
     "iopub.status.idle": "2023-11-13T15:15:29.757360Z",
     "shell.execute_reply": "2023-11-13T15:15:29.757078Z"
    },
    "papermill": {
     "duration": 0.003961,
     "end_time": "2023-11-13T15:15:29.758172",
     "exception": false,
     "start_time": "2023-11-13T15:15:29.754211",
     "status": "completed"
    },
    "tags": []
   },
   "outputs": [],
   "source": [
    "EVENTS_RAW_DATA = '../../../working/metrics/promote-events/events.csv'\n",
    "DATA_DIR = '../../../data/metrics/events/promote-events/'\n",
    "EVENTS_DATA = os.path.join(DATA_DIR, 'events.csv')"
   ]
  },
  {
   "cell_type": "code",
   "execution_count": 3,
   "id": "37ec580b",
   "metadata": {
    "execution": {
     "iopub.execute_input": "2023-11-13T15:15:29.759918Z",
     "iopub.status.busy": "2023-11-13T15:15:29.759807Z",
     "iopub.status.idle": "2023-11-13T15:15:29.761668Z",
     "shell.execute_reply": "2023-11-13T15:15:29.761399Z"
    },
    "papermill": {
     "duration": 0.003507,
     "end_time": "2023-11-13T15:15:29.762324",
     "exception": false,
     "start_time": "2023-11-13T15:15:29.758817",
     "status": "completed"
    },
    "tags": []
   },
   "outputs": [],
   "source": [
    "columns = {\n",
    "    'id': 'id',\n",
    "    'name': 'name',\n",
    "    'locationName': 'location',\n",
    "    'cardPrice': 'card_price',\n",
    "    'timeslots': 'time',\n",
    "    # 'displayOnWebsite': 'display',\n",
    "    'Stage': 'stage',\n",
    "}"
   ]
  },
  {
   "cell_type": "code",
   "execution_count": 4,
   "id": "ec280ea6",
   "metadata": {
    "execution": {
     "iopub.execute_input": "2023-11-13T15:15:29.764105Z",
     "iopub.status.busy": "2023-11-13T15:15:29.763940Z",
     "iopub.status.idle": "2023-11-13T15:15:29.769400Z",
     "shell.execute_reply": "2023-11-13T15:15:29.769075Z"
    },
    "papermill": {
     "duration": 0.007224,
     "end_time": "2023-11-13T15:15:29.770216",
     "exception": false,
     "start_time": "2023-11-13T15:15:29.762992",
     "status": "completed"
    },
    "tags": []
   },
   "outputs": [],
   "source": [
    "data = pd.read_csv(EVENTS_RAW_DATA)[columns.keys()].rename(columns=columns)\n",
    "data.time = pd.to_datetime(data.time, errors='coerce')"
   ]
  },
  {
   "cell_type": "code",
   "execution_count": 5,
   "id": "aaa19144",
   "metadata": {
    "execution": {
     "iopub.execute_input": "2023-11-13T15:15:29.772115Z",
     "iopub.status.busy": "2023-11-13T15:15:29.771941Z",
     "iopub.status.idle": "2023-11-13T15:15:29.774819Z",
     "shell.execute_reply": "2023-11-13T15:15:29.774577Z"
    },
    "papermill": {
     "duration": 0.004653,
     "end_time": "2023-11-13T15:15:29.775609",
     "exception": false,
     "start_time": "2023-11-13T15:15:29.770956",
     "status": "completed"
    },
    "tags": []
   },
   "outputs": [],
   "source": [
    "data.to_csv(os.path.join(DATA_DIR, 'events.csv'), index=False)"
   ]
  }
 ],
 "metadata": {
  "kernelspec": {
   "display_name": "leeds-2023-YZF5GfJv",
   "language": "python",
   "name": "python3"
  },
  "language_info": {
   "codemirror_mode": {
    "name": "ipython",
    "version": 3
   },
   "file_extension": ".py",
   "mimetype": "text/x-python",
   "name": "python",
   "nbconvert_exporter": "python",
   "pygments_lexer": "ipython3",
   "version": "3.10.12"
  },
  "papermill": {
   "default_parameters": {},
   "duration": 1.125397,
   "end_time": "2023-11-13T15:15:29.993533",
   "environment_variables": {},
   "exception": null,
   "input_path": "transform.ipynb",
   "output_path": "../../../working/output/promote-events-transform.ipynb",
   "parameters": {},
   "start_time": "2023-11-13T15:15:28.868136",
   "version": "2.4.0"
  }
 },
 "nbformat": 4,
 "nbformat_minor": 5
}