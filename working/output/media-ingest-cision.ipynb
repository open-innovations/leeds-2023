{
 "cells": [
  {
   "cell_type": "code",
   "execution_count": 1,
   "id": "5ba7c134",
   "metadata": {
    "execution": {
     "iopub.execute_input": "2023-10-06T23:38:05.180969Z",
     "iopub.status.busy": "2023-10-06T23:38:05.180183Z",
     "iopub.status.idle": "2023-10-06T23:38:05.484832Z",
     "shell.execute_reply": "2023-10-06T23:38:05.484138Z"
    },
    "papermill": {
     "duration": 0.310479,
     "end_time": "2023-10-06T23:38:05.486611",
     "exception": false,
     "start_time": "2023-10-06T23:38:05.176132",
     "status": "completed"
    },
    "tags": []
   },
   "outputs": [],
   "source": [
    "import glob\n",
    "import os\n",
    "\n",
    "import pandas as pd\n",
    "from cision import (add_hash, append_filename, clean_up, convert_numbers,\n",
    "                    drop_empty_headlines, guess_date, guess_encoding,\n",
    "                    normalise_column_names, patch_column_names, save_csv,\n",
    "                    logger)"
   ]
  },
  {
   "cell_type": "markdown",
   "id": "8c9170de",
   "metadata": {
    "papermill": {
     "duration": 0.00214,
     "end_time": "2023-10-06T23:38:05.491470",
     "exception": false,
     "start_time": "2023-10-06T23:38:05.489330",
     "status": "completed"
    },
    "tags": []
   },
   "source": [
    "The media files are downloaded to `working/manual/media` with a `dvc` url import. The files are uploaded to files.open-innovations.org by AMA, who are LEEDS 2023's media partner."
   ]
  },
  {
   "cell_type": "code",
   "execution_count": 2,
   "id": "d3fd5d85",
   "metadata": {
    "execution": {
     "iopub.execute_input": "2023-10-06T23:38:05.496960Z",
     "iopub.status.busy": "2023-10-06T23:38:05.496271Z",
     "iopub.status.idle": "2023-10-06T23:38:05.499694Z",
     "shell.execute_reply": "2023-10-06T23:38:05.499018Z"
    },
    "papermill": {
     "duration": 0.007684,
     "end_time": "2023-10-06T23:38:05.501118",
     "exception": false,
     "start_time": "2023-10-06T23:38:05.493434",
     "status": "completed"
    },
    "tags": []
   },
   "outputs": [],
   "source": [
    "WORKING_DIR = '../../../working/manual/media/'"
   ]
  },
  {
   "cell_type": "markdown",
   "id": "f987b9a0",
   "metadata": {
    "papermill": {
     "duration": 0.001967,
     "end_time": "2023-10-06T23:38:05.505161",
     "exception": false,
     "start_time": "2023-10-06T23:38:05.503194",
     "status": "completed"
    },
    "tags": []
   },
   "source": [
    "Get the list of input files and work out which is the latest date in the column"
   ]
  },
  {
   "cell_type": "code",
   "execution_count": 3,
   "id": "bd218931",
   "metadata": {
    "execution": {
     "iopub.execute_input": "2023-10-06T23:38:05.510272Z",
     "iopub.status.busy": "2023-10-06T23:38:05.509842Z",
     "iopub.status.idle": "2023-10-06T23:38:05.517628Z",
     "shell.execute_reply": "2023-10-06T23:38:05.517019Z"
    },
    "papermill": {
     "duration": 0.012008,
     "end_time": "2023-10-06T23:38:05.519134",
     "exception": false,
     "start_time": "2023-10-06T23:38:05.507126",
     "status": "completed"
    },
    "tags": []
   },
   "outputs": [],
   "source": [
    "files=glob.glob('*.csv', root_dir=WORKING_DIR)\n",
    "input_files = pd.Series(\n",
    "    files, index=files, name='latest_input_date'\n",
    ").str.lower().str.replace(\n",
    "    r'(leeds 2023.*?media coverage( w\\.e\\.*)*\\s*([\\d\\.]*-){0,1}|.csv$)', '', regex=True\n",
    ").str.strip().pipe(pd.to_datetime, format='%d.%m.%y', errors='coerce').sort_values()"
   ]
  },
  {
   "cell_type": "markdown",
   "id": "c8731602",
   "metadata": {
    "papermill": {
     "duration": 0.002031,
     "end_time": "2023-10-06T23:38:05.523310",
     "exception": false,
     "start_time": "2023-10-06T23:38:05.521279",
     "status": "completed"
    },
    "tags": []
   },
   "source": [
    "List files with invalid dates"
   ]
  },
  {
   "cell_type": "code",
   "execution_count": 4,
   "id": "8bd8b473",
   "metadata": {
    "execution": {
     "iopub.execute_input": "2023-10-06T23:38:05.528917Z",
     "iopub.status.busy": "2023-10-06T23:38:05.528247Z",
     "iopub.status.idle": "2023-10-06T23:38:05.538173Z",
     "shell.execute_reply": "2023-10-06T23:38:05.537535Z"
    },
    "papermill": {
     "duration": 0.014443,
     "end_time": "2023-10-06T23:38:05.539806",
     "exception": false,
     "start_time": "2023-10-06T23:38:05.525363",
     "status": "completed"
    },
    "tags": []
   },
   "outputs": [
    {
     "data": {
      "text/html": [
       "<div>\n",
       "<style scoped>\n",
       "    .dataframe tbody tr th:only-of-type {\n",
       "        vertical-align: middle;\n",
       "    }\n",
       "\n",
       "    .dataframe tbody tr th {\n",
       "        vertical-align: top;\n",
       "    }\n",
       "\n",
       "    .dataframe thead th {\n",
       "        text-align: right;\n",
       "    }\n",
       "</style>\n",
       "<table border=\"1\" class=\"dataframe\">\n",
       "  <thead>\n",
       "    <tr style=\"text-align: right;\">\n",
       "      <th></th>\n",
       "      <th>latest_input_date</th>\n",
       "    </tr>\n",
       "  </thead>\n",
       "  <tbody>\n",
       "  </tbody>\n",
       "</table>\n",
       "</div>"
      ],
      "text/plain": [
       "Empty DataFrame\n",
       "Columns: [latest_input_date]\n",
       "Index: []"
      ]
     },
     "execution_count": 4,
     "metadata": {},
     "output_type": "execute_result"
    }
   ],
   "source": [
    "input_files.loc[input_files.isna()].to_frame()"
   ]
  },
  {
   "cell_type": "markdown",
   "id": "5d4a5ac4",
   "metadata": {
    "papermill": {
     "duration": 0.002239,
     "end_time": "2023-10-06T23:38:05.544380",
     "exception": false,
     "start_time": "2023-10-06T23:38:05.542141",
     "status": "completed"
    },
    "tags": []
   },
   "source": [
    "Load the cision date into a long "
   ]
  },
  {
   "cell_type": "code",
   "execution_count": 5,
   "id": "0d59de0f",
   "metadata": {
    "execution": {
     "iopub.execute_input": "2023-10-06T23:38:05.550274Z",
     "iopub.status.busy": "2023-10-06T23:38:05.549779Z",
     "iopub.status.idle": "2023-10-06T23:38:05.556468Z",
     "shell.execute_reply": "2023-10-06T23:38:05.555808Z"
    },
    "papermill": {
     "duration": 0.01124,
     "end_time": "2023-10-06T23:38:05.557882",
     "exception": false,
     "start_time": "2023-10-06T23:38:05.546642",
     "status": "completed"
    },
    "tags": []
   },
   "outputs": [],
   "source": [
    "required_columns = set([\n",
    "    'news_date', 'news_headline', 'outlet_name', 'audience_reach', 'uv'\n",
    "])\n",
    "\n",
    "\n",
    "def load_cision_file(filename):\n",
    "    source_file = os.path.basename(filename)\n",
    "    latest_date = input_files.loc[source_file]\n",
    "    logger.info('Loading %s', source_file)\n",
    "    logger.info('Latest date %s', str(latest_date))\n",
    "\n",
    "    try:\n",
    "        data = pd.read_csv(\n",
    "            filename,\n",
    "            encoding=guess_encoding(filename),\n",
    "            thousands=',',\n",
    "            skipinitialspace=True\n",
    "        )\n",
    "    except Exception as e:\n",
    "        logger.warning('Cannot process %s', filename)\n",
    "        logger.info(e)\n",
    "        return\n",
    "\n",
    "    data = (\n",
    "        data\n",
    "        .pipe(add_hash)\n",
    "        .pipe(append_filename, source_file)\n",
    "        .pipe(normalise_column_names)\n",
    "        .pipe(patch_column_names)\n",
    "        .pipe(drop_empty_headlines)\n",
    "        .pipe(guess_date, latest_date=latest_date)\n",
    "        .pipe(convert_numbers)\n",
    "    )\n",
    "\n",
    "    data['latest_date'] = latest_date\n",
    "\n",
    "    # Check for expected columns\n",
    "    try:\n",
    "        assert required_columns.issubset(data.columns)\n",
    "    except:\n",
    "        missing = required_columns.difference(data.columns)\n",
    "        logger.warning(\"Missing columns %s in %s\", missing, filename)\n",
    "        logger.info(\"Got columns %r\", data.columns)\n",
    "        return\n",
    "\n",
    "    return data"
   ]
  },
  {
   "cell_type": "code",
   "execution_count": 6,
   "id": "88382a1a",
   "metadata": {
    "execution": {
     "iopub.execute_input": "2023-10-06T23:38:05.563808Z",
     "iopub.status.busy": "2023-10-06T23:38:05.563285Z",
     "iopub.status.idle": "2023-10-06T23:38:06.598865Z",
     "shell.execute_reply": "2023-10-06T23:38:06.598194Z"
    },
    "papermill": {
     "duration": 1.040609,
     "end_time": "2023-10-06T23:38:06.600808",
     "exception": false,
     "start_time": "2023-10-06T23:38:05.560199",
     "status": "completed"
    },
    "tags": []
   },
   "outputs": [],
   "source": [
    "cision_data = pd.concat([\n",
    "    load_cision_file(os.path.join(WORKING_DIR, f))\n",
    "    for f in\n",
    "    input_files.loc[input_files.notna()].index.to_list()\n",
    "])"
   ]
  },
  {
   "cell_type": "code",
   "execution_count": 7,
   "id": "cb800abf",
   "metadata": {
    "execution": {
     "iopub.execute_input": "2023-10-06T23:38:06.607752Z",
     "iopub.status.busy": "2023-10-06T23:38:06.607231Z",
     "iopub.status.idle": "2023-10-06T23:38:06.657422Z",
     "shell.execute_reply": "2023-10-06T23:38:06.656691Z"
    },
    "papermill": {
     "duration": 0.05582,
     "end_time": "2023-10-06T23:38:06.659322",
     "exception": false,
     "start_time": "2023-10-06T23:38:06.603502",
     "status": "completed"
    },
    "tags": []
   },
   "outputs": [
    {
     "data": {
      "text/html": [
       "<div>\n",
       "<style scoped>\n",
       "    .dataframe tbody tr th:only-of-type {\n",
       "        vertical-align: middle;\n",
       "    }\n",
       "\n",
       "    .dataframe tbody tr th {\n",
       "        vertical-align: top;\n",
       "    }\n",
       "\n",
       "    .dataframe thead th {\n",
       "        text-align: right;\n",
       "    }\n",
       "</style>\n",
       "<table border=\"1\" class=\"dataframe\">\n",
       "  <thead>\n",
       "    <tr style=\"text-align: right;\">\n",
       "      <th></th>\n",
       "      <th>news_date</th>\n",
       "      <th>news_headline</th>\n",
       "      <th>outlet_name</th>\n",
       "      <th>audience_reach</th>\n",
       "      <th>uv</th>\n",
       "      <th>tone</th>\n",
       "      <th>medium</th>\n",
       "      <th>outlet_type</th>\n",
       "      <th>custom_tags</th>\n",
       "      <th>news_company_mentions</th>\n",
       "      <th>hash</th>\n",
       "      <th>source_file</th>\n",
       "      <th>latest_date</th>\n",
       "      <th>input_date</th>\n",
       "    </tr>\n",
       "  </thead>\n",
       "  <tbody>\n",
       "    <tr>\n",
       "      <th>236</th>\n",
       "      <td>2022-09-17</td>\n",
       "      <td>Four West Leeds sites earmarked for local auth...</td>\n",
       "      <td>West Leeds Dispatch</td>\n",
       "      <td>0</td>\n",
       "      <td>3141</td>\n",
       "      <td>POS</td>\n",
       "      <td>Online</td>\n",
       "      <td>Online, consumer</td>\n",
       "      <td>Local</td>\n",
       "      <td>Leeds 2023</td>\n",
       "      <td>13479499968123036765</td>\n",
       "      <td>Leeds 2023 media coverage 23.09.22-17.10.22.csv</td>\n",
       "      <td>2022-10-17</td>\n",
       "      <td>17/09/2022</td>\n",
       "    </tr>\n",
       "    <tr>\n",
       "      <th>237</th>\n",
       "      <td>2022-09-17</td>\n",
       "      <td>Inspirational Bramley Baths hailed a 'beacon f...</td>\n",
       "      <td>West Leeds Dispatch</td>\n",
       "      <td>0</td>\n",
       "      <td>3141</td>\n",
       "      <td>NEU</td>\n",
       "      <td>Online</td>\n",
       "      <td>Online, consumer</td>\n",
       "      <td>Local</td>\n",
       "      <td>Leeds 2023</td>\n",
       "      <td>453098313913252842</td>\n",
       "      <td>Leeds 2023 media coverage 23.09.22-17.10.22.csv</td>\n",
       "      <td>2022-10-17</td>\n",
       "      <td>17/09/2022</td>\n",
       "    </tr>\n",
       "    <tr>\n",
       "      <th>235</th>\n",
       "      <td>2022-09-17</td>\n",
       "      <td>Support Leeds 2023 city of culture by voluntee...</td>\n",
       "      <td>West Leeds Dispatch</td>\n",
       "      <td>0</td>\n",
       "      <td>3141</td>\n",
       "      <td>NEU</td>\n",
       "      <td>Online</td>\n",
       "      <td>Online, consumer</td>\n",
       "      <td>Local</td>\n",
       "      <td>Leeds 2023</td>\n",
       "      <td>10670817045611648545</td>\n",
       "      <td>Leeds 2023 media coverage 23.09.22-17.10.22.csv</td>\n",
       "      <td>2022-10-17</td>\n",
       "      <td>17/09/2022</td>\n",
       "    </tr>\n",
       "    <tr>\n",
       "      <th>234</th>\n",
       "      <td>2022-09-17</td>\n",
       "      <td>Youths shift 34 tonnes as new Bramley eco peac...</td>\n",
       "      <td>West Leeds Dispatch</td>\n",
       "      <td>0</td>\n",
       "      <td>3141</td>\n",
       "      <td>NEU</td>\n",
       "      <td>Online</td>\n",
       "      <td>Online, consumer</td>\n",
       "      <td>Local</td>\n",
       "      <td>Leeds 2023</td>\n",
       "      <td>13785126224380383013</td>\n",
       "      <td>Leeds 2023 media coverage 23.09.22-17.10.22.csv</td>\n",
       "      <td>2022-10-17</td>\n",
       "      <td>17/09/2022</td>\n",
       "    </tr>\n",
       "    <tr>\n",
       "      <th>233</th>\n",
       "      <td>2022-09-20</td>\n",
       "      <td>Inspirational Bramley Baths hailed a 'beacon f...</td>\n",
       "      <td>West Leeds Dispatch</td>\n",
       "      <td>0</td>\n",
       "      <td>3141</td>\n",
       "      <td>NEU</td>\n",
       "      <td>Online</td>\n",
       "      <td>Online, consumer</td>\n",
       "      <td>Local</td>\n",
       "      <td>Leeds 2023</td>\n",
       "      <td>12296830178779861036</td>\n",
       "      <td>Leeds 2023 media coverage 23.09.22-17.10.22.csv</td>\n",
       "      <td>2022-10-17</td>\n",
       "      <td>20/09/2022</td>\n",
       "    </tr>\n",
       "    <tr>\n",
       "      <th>...</th>\n",
       "      <td>...</td>\n",
       "      <td>...</td>\n",
       "      <td>...</td>\n",
       "      <td>...</td>\n",
       "      <td>...</td>\n",
       "      <td>...</td>\n",
       "      <td>...</td>\n",
       "      <td>...</td>\n",
       "      <td>...</td>\n",
       "      <td>...</td>\n",
       "      <td>...</td>\n",
       "      <td>...</td>\n",
       "      <td>...</td>\n",
       "      <td>...</td>\n",
       "    </tr>\n",
       "    <tr>\n",
       "      <th>244</th>\n",
       "      <td>2023-09-08</td>\n",
       "      <td>Radio clip from BBC Leeds at 2023-09-08 07:19:...</td>\n",
       "      <td>BBC Radio Leeds</td>\n",
       "      <td>78000</td>\n",
       "      <td>0</td>\n",
       "      <td>NEU</td>\n",
       "      <td>Broadcast</td>\n",
       "      <td>NaN</td>\n",
       "      <td>NaN</td>\n",
       "      <td>NaN</td>\n",
       "      <td>16523518763970165355</td>\n",
       "      <td>LEEDS 2023 Weekly media coverage w.e 08.09.23.csv</td>\n",
       "      <td>2023-09-08</td>\n",
       "      <td>08/09/2023</td>\n",
       "    </tr>\n",
       "    <tr>\n",
       "      <th>245</th>\n",
       "      <td>2023-09-08</td>\n",
       "      <td>Radio clip from BBC Leeds at 2023-09-08 07:55:...</td>\n",
       "      <td>BBC Radio Leeds</td>\n",
       "      <td>78000</td>\n",
       "      <td>0</td>\n",
       "      <td>POS</td>\n",
       "      <td>Broadcast</td>\n",
       "      <td>NaN</td>\n",
       "      <td>NaN</td>\n",
       "      <td>NaN</td>\n",
       "      <td>14488735387496575551</td>\n",
       "      <td>LEEDS 2023 Weekly media coverage w.e 08.09.23.csv</td>\n",
       "      <td>2023-09-08</td>\n",
       "      <td>08/09/2023</td>\n",
       "    </tr>\n",
       "    <tr>\n",
       "      <th>23</th>\n",
       "      <td>NaT</td>\n",
       "      <td>EXPLORE</td>\n",
       "      <td>Green Parent, The</td>\n",
       "      <td>35000</td>\n",
       "      <td>0</td>\n",
       "      <td>NEU</td>\n",
       "      <td>NaN</td>\n",
       "      <td>NaN</td>\n",
       "      <td>NaN</td>\n",
       "      <td>NaN</td>\n",
       "      <td>8932821233510695958</td>\n",
       "      <td>LEEDS 2023 Weekly media coverage w.e. 21.07.23...</td>\n",
       "      <td>2023-07-21</td>\n",
       "      <td>01.08.23</td>\n",
       "    </tr>\n",
       "    <tr>\n",
       "      <th>0</th>\n",
       "      <td>NaT</td>\n",
       "      <td>LEEDING LIGHT</td>\n",
       "      <td>Hospitality &amp; Events North</td>\n",
       "      <td>15000</td>\n",
       "      <td>0</td>\n",
       "      <td>NaN</td>\n",
       "      <td>NaN</td>\n",
       "      <td>Magazine, consumer</td>\n",
       "      <td>NaN</td>\n",
       "      <td>Leeds 2023; The Awakening</td>\n",
       "      <td>15770751386347907183</td>\n",
       "      <td>Leeds 2023 weekly media coverage 23.12.22.csv</td>\n",
       "      <td>2022-12-23</td>\n",
       "      <td>1/1/2023</td>\n",
       "    </tr>\n",
       "    <tr>\n",
       "      <th>1</th>\n",
       "      <td>NaT</td>\n",
       "      <td>LOOK Ahead</td>\n",
       "      <td>Hospitality &amp; Events North</td>\n",
       "      <td>15000</td>\n",
       "      <td>0</td>\n",
       "      <td>NaN</td>\n",
       "      <td>NaN</td>\n",
       "      <td>Magazine, consumer</td>\n",
       "      <td>NaN</td>\n",
       "      <td>Leeds Year Of Culture</td>\n",
       "      <td>2439360905158121048</td>\n",
       "      <td>Leeds 2023 weekly media coverage 23.12.22.csv</td>\n",
       "      <td>2022-12-23</td>\n",
       "      <td>1/1/2023</td>\n",
       "    </tr>\n",
       "  </tbody>\n",
       "</table>\n",
       "<p>2152 rows × 14 columns</p>\n",
       "</div>"
      ],
      "text/plain": [
       "     news_date                                      news_headline  \\\n",
       "236 2022-09-17  Four West Leeds sites earmarked for local auth...   \n",
       "237 2022-09-17  Inspirational Bramley Baths hailed a 'beacon f...   \n",
       "235 2022-09-17  Support Leeds 2023 city of culture by voluntee...   \n",
       "234 2022-09-17  Youths shift 34 tonnes as new Bramley eco peac...   \n",
       "233 2022-09-20  Inspirational Bramley Baths hailed a 'beacon f...   \n",
       "..         ...                                                ...   \n",
       "244 2023-09-08  Radio clip from BBC Leeds at 2023-09-08 07:19:...   \n",
       "245 2023-09-08  Radio clip from BBC Leeds at 2023-09-08 07:55:...   \n",
       "23         NaT                                            EXPLORE   \n",
       "0          NaT                                      LEEDING LIGHT   \n",
       "1          NaT                                         LOOK Ahead   \n",
       "\n",
       "                    outlet_name  audience_reach    uv tone     medium  \\\n",
       "236         West Leeds Dispatch               0  3141  POS     Online   \n",
       "237         West Leeds Dispatch               0  3141  NEU     Online   \n",
       "235         West Leeds Dispatch               0  3141  NEU     Online   \n",
       "234         West Leeds Dispatch               0  3141  NEU     Online   \n",
       "233         West Leeds Dispatch               0  3141  NEU     Online   \n",
       "..                          ...             ...   ...  ...        ...   \n",
       "244             BBC Radio Leeds           78000     0  NEU  Broadcast   \n",
       "245             BBC Radio Leeds           78000     0  POS  Broadcast   \n",
       "23            Green Parent, The           35000     0  NEU        NaN   \n",
       "0    Hospitality & Events North           15000     0  NaN        NaN   \n",
       "1    Hospitality & Events North           15000     0  NaN        NaN   \n",
       "\n",
       "            outlet_type custom_tags      news_company_mentions  \\\n",
       "236    Online, consumer       Local                 Leeds 2023   \n",
       "237    Online, consumer       Local                 Leeds 2023   \n",
       "235    Online, consumer       Local                 Leeds 2023   \n",
       "234    Online, consumer       Local                 Leeds 2023   \n",
       "233    Online, consumer       Local                 Leeds 2023   \n",
       "..                  ...         ...                        ...   \n",
       "244                 NaN         NaN                        NaN   \n",
       "245                 NaN         NaN                        NaN   \n",
       "23                  NaN         NaN                        NaN   \n",
       "0    Magazine, consumer         NaN  Leeds 2023; The Awakening   \n",
       "1    Magazine, consumer         NaN      Leeds Year Of Culture   \n",
       "\n",
       "                     hash                                        source_file  \\\n",
       "236  13479499968123036765    Leeds 2023 media coverage 23.09.22-17.10.22.csv   \n",
       "237    453098313913252842    Leeds 2023 media coverage 23.09.22-17.10.22.csv   \n",
       "235  10670817045611648545    Leeds 2023 media coverage 23.09.22-17.10.22.csv   \n",
       "234  13785126224380383013    Leeds 2023 media coverage 23.09.22-17.10.22.csv   \n",
       "233  12296830178779861036    Leeds 2023 media coverage 23.09.22-17.10.22.csv   \n",
       "..                    ...                                                ...   \n",
       "244  16523518763970165355  LEEDS 2023 Weekly media coverage w.e 08.09.23.csv   \n",
       "245  14488735387496575551  LEEDS 2023 Weekly media coverage w.e 08.09.23.csv   \n",
       "23    8932821233510695958  LEEDS 2023 Weekly media coverage w.e. 21.07.23...   \n",
       "0    15770751386347907183      Leeds 2023 weekly media coverage 23.12.22.csv   \n",
       "1     2439360905158121048      Leeds 2023 weekly media coverage 23.12.22.csv   \n",
       "\n",
       "    latest_date  input_date  \n",
       "236  2022-10-17  17/09/2022  \n",
       "237  2022-10-17  17/09/2022  \n",
       "235  2022-10-17  17/09/2022  \n",
       "234  2022-10-17  17/09/2022  \n",
       "233  2022-10-17  20/09/2022  \n",
       "..          ...         ...  \n",
       "244  2023-09-08  08/09/2023  \n",
       "245  2023-09-08  08/09/2023  \n",
       "23   2023-07-21    01.08.23  \n",
       "0    2022-12-23    1/1/2023  \n",
       "1    2022-12-23    1/1/2023  \n",
       "\n",
       "[2152 rows x 14 columns]"
      ]
     },
     "execution_count": 7,
     "metadata": {},
     "output_type": "execute_result"
    }
   ],
   "source": [
    "CISION_FILE = '../../../data/metrics/media_coverage/combined_cision.csv'\n",
    "os.makedirs(os.path.dirname(CISION_FILE), exist_ok=True)\n",
    "\n",
    "cision_data.pipe(clean_up).pipe(save_csv, output_file=CISION_FILE)"
   ]
  }
 ],
 "metadata": {
  "kernelspec": {
   "display_name": "leeds-2023-YZF5GfJv",
   "language": "python",
   "name": "python3"
  },
  "language_info": {
   "codemirror_mode": {
    "name": "ipython",
    "version": 3
   },
   "file_extension": ".py",
   "mimetype": "text/x-python",
   "name": "python",
   "nbconvert_exporter": "python",
   "pygments_lexer": "ipython3",
   "version": "3.10.13"
  },
  "papermill": {
   "default_parameters": {},
   "duration": 3.066245,
   "end_time": "2023-10-06T23:38:06.879938",
   "environment_variables": {},
   "exception": null,
   "input_path": "ingest-cision.ipynb",
   "output_path": "../../../working/output/media-ingest-cision.ipynb",
   "parameters": {},
   "start_time": "2023-10-06T23:38:03.813693",
   "version": "2.4.0"
  }
 },
 "nbformat": 4,
 "nbformat_minor": 5
}