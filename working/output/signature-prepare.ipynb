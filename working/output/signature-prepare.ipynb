{
 "cells": [
  {
   "cell_type": "code",
   "execution_count": 1,
   "id": "1f0ffc4c",
   "metadata": {
    "execution": {
     "iopub.execute_input": "2023-12-12T23:40:20.070856Z",
     "iopub.status.busy": "2023-12-12T23:40:20.070561Z",
     "iopub.status.idle": "2023-12-12T23:40:27.376637Z",
     "shell.execute_reply": "2023-12-12T23:40:27.375985Z"
    },
    "papermill": {
     "duration": 7.311523,
     "end_time": "2023-12-12T23:40:27.378356",
     "exception": false,
     "start_time": "2023-12-12T23:40:20.066833",
     "status": "completed"
    },
    "tags": []
   },
   "outputs": [],
   "source": [
    "import os\n",
    "import pandas as pd\n",
    "from events import load_event_data, get_first_ward, normalise_ward"
   ]
  },
  {
   "cell_type": "code",
   "execution_count": 2,
   "id": "5f6103cd",
   "metadata": {
    "execution": {
     "iopub.execute_input": "2023-12-12T23:40:27.383691Z",
     "iopub.status.busy": "2023-12-12T23:40:27.383314Z",
     "iopub.status.idle": "2023-12-12T23:40:27.386811Z",
     "shell.execute_reply": "2023-12-12T23:40:27.386170Z"
    },
    "papermill": {
     "duration": 0.007482,
     "end_time": "2023-12-12T23:40:27.388107",
     "exception": false,
     "start_time": "2023-12-12T23:40:27.380625",
     "status": "completed"
    },
    "tags": []
   },
   "outputs": [],
   "source": [
    "latest_date = pd.Timestamp.today().ceil('D')"
   ]
  },
  {
   "cell_type": "code",
   "execution_count": 3,
   "id": "6e4d1d07",
   "metadata": {
    "execution": {
     "iopub.execute_input": "2023-12-12T23:40:27.392678Z",
     "iopub.status.busy": "2023-12-12T23:40:27.392313Z",
     "iopub.status.idle": "2023-12-12T23:40:27.406933Z",
     "shell.execute_reply": "2023-12-12T23:40:27.406413Z"
    },
    "papermill": {
     "duration": 0.0183,
     "end_time": "2023-12-12T23:40:27.408192",
     "exception": false,
     "start_time": "2023-12-12T23:40:27.389892",
     "status": "completed"
    },
    "tags": []
   },
   "outputs": [],
   "source": [
    "tickets = pd.read_csv('../../../../data/metrics/events/tickets/orders.csv', parse_dates=['created_at', 'event_date'])\n",
    "tickets = tickets[tickets.event_date <= latest_date]"
   ]
  },
  {
   "cell_type": "code",
   "execution_count": 4,
   "id": "df9fe182",
   "metadata": {
    "execution": {
     "iopub.execute_input": "2023-12-12T23:40:27.412885Z",
     "iopub.status.busy": "2023-12-12T23:40:27.412428Z",
     "iopub.status.idle": "2023-12-12T23:40:27.464898Z",
     "shell.execute_reply": "2023-12-12T23:40:27.464390Z"
    },
    "papermill": {
     "duration": 0.056233,
     "end_time": "2023-12-12T23:40:27.466252",
     "exception": false,
     "start_time": "2023-12-12T23:40:27.410019",
     "status": "completed"
    },
    "tags": []
   },
   "outputs": [],
   "source": [
    "events = load_event_data()\n",
    "\n",
    "events = pd.concat([\n",
    "  events,\n",
    "  events.pipe(get_first_ward).pipe(normalise_ward).fillna('UNKNOWN'),\n",
    "  pd.Series(\n",
    "      events.actual_audience_size_number_of_participants_in_person + events.actual_audience_size_number_of_participants_online,\n",
    "      name='attendances'\n",
    "  )\n",
    "], axis=1).rename(columns={\n",
    "    'start_date': 'date'\n",
    "}).loc[:, ['ward_code', 'date', 'event_unique_identifier', 'attendances']]"
   ]
  },
  {
   "cell_type": "code",
   "execution_count": 5,
   "id": "ae604d30",
   "metadata": {
    "execution": {
     "iopub.execute_input": "2023-12-12T23:40:27.471198Z",
     "iopub.status.busy": "2023-12-12T23:40:27.470826Z",
     "iopub.status.idle": "2023-12-12T23:40:27.474115Z",
     "shell.execute_reply": "2023-12-12T23:40:27.473553Z"
    },
    "papermill": {
     "duration": 0.007141,
     "end_time": "2023-12-12T23:40:27.475404",
     "exception": false,
     "start_time": "2023-12-12T23:40:27.468263",
     "status": "completed"
    },
    "tags": []
   },
   "outputs": [],
   "source": [
    "OUTPUT_DIR='../../../../docs/metrics/events/signature/_data/'\n",
    "os.makedirs(OUTPUT_DIR, exist_ok=True)"
   ]
  },
  {
   "cell_type": "markdown",
   "id": "0f6135d8",
   "metadata": {
    "papermill": {
     "duration": 0.00198,
     "end_time": "2023-12-12T23:40:27.479279",
     "exception": false,
     "start_time": "2023-12-12T23:40:27.477299",
     "status": "completed"
    },
    "tags": []
   },
   "source": [
    "Events CSVs"
   ]
  },
  {
   "cell_type": "code",
   "execution_count": 6,
   "id": "94e06d7f",
   "metadata": {
    "execution": {
     "iopub.execute_input": "2023-12-12T23:40:27.484196Z",
     "iopub.status.busy": "2023-12-12T23:40:27.483837Z",
     "iopub.status.idle": "2023-12-12T23:40:27.489627Z",
     "shell.execute_reply": "2023-12-12T23:40:27.489140Z"
    },
    "papermill": {
     "duration": 0.009592,
     "end_time": "2023-12-12T23:40:27.490890",
     "exception": false,
     "start_time": "2023-12-12T23:40:27.481298",
     "status": "completed"
    },
    "tags": []
   },
   "outputs": [],
   "source": [
    "pd.DataFrame({\n",
    "  'events': events.groupby('ward_code').event_unique_identifier.count(),\n",
    "  'attendances': events.groupby('ward_code').attendances.sum().astype(int),\n",
    "}).to_csv(os.path.join(OUTPUT_DIR, 'events_by_ward.csv'))\n"
   ]
  },
  {
   "cell_type": "code",
   "execution_count": 7,
   "id": "d1097284",
   "metadata": {
    "execution": {
     "iopub.execute_input": "2023-12-12T23:40:27.495862Z",
     "iopub.status.busy": "2023-12-12T23:40:27.495404Z",
     "iopub.status.idle": "2023-12-12T23:40:27.503196Z",
     "shell.execute_reply": "2023-12-12T23:40:27.502566Z"
    },
    "papermill": {
     "duration": 0.011666,
     "end_time": "2023-12-12T23:40:27.504492",
     "exception": false,
     "start_time": "2023-12-12T23:40:27.492826",
     "status": "completed"
    },
    "tags": []
   },
   "outputs": [],
   "source": [
    "pd.DataFrame({\n",
    "  'events': events.groupby('date').event_unique_identifier.count(),\n",
    "  'attendances': events.groupby('date').attendances.sum().astype(int),\n",
    "}).resample('M').sum().astype(int).to_csv(os.path.join(OUTPUT_DIR, 'events_by_date.csv'))"
   ]
  },
  {
   "cell_type": "markdown",
   "id": "578290ee",
   "metadata": {
    "papermill": {
     "duration": 0.00262,
     "end_time": "2023-12-12T23:40:27.509128",
     "exception": false,
     "start_time": "2023-12-12T23:40:27.506508",
     "status": "completed"
    },
    "tags": []
   },
   "source": [
    "Tickets CSV"
   ]
  },
  {
   "cell_type": "code",
   "execution_count": 8,
   "id": "bdef1c79",
   "metadata": {
    "execution": {
     "iopub.execute_input": "2023-12-12T23:40:27.513971Z",
     "iopub.status.busy": "2023-12-12T23:40:27.513617Z",
     "iopub.status.idle": "2023-12-12T23:40:27.519878Z",
     "shell.execute_reply": "2023-12-12T23:40:27.519393Z"
    },
    "papermill": {
     "duration": 0.010083,
     "end_time": "2023-12-12T23:40:27.521155",
     "exception": false,
     "start_time": "2023-12-12T23:40:27.511072",
     "status": "completed"
    },
    "tags": []
   },
   "outputs": [],
   "source": [
    "pd.DataFrame({\n",
    "  'orders': tickets.groupby('ward_code').number_of_tickets.count(),\n",
    "  'tickets': tickets.groupby('ward_code').number_of_tickets.sum().astype(int),\n",
    "}).to_csv(os.path.join(OUTPUT_DIR, 'tickets_by_ward.csv'))"
   ]
  },
  {
   "cell_type": "code",
   "execution_count": 9,
   "id": "7e5032a1",
   "metadata": {
    "execution": {
     "iopub.execute_input": "2023-12-12T23:40:27.526016Z",
     "iopub.status.busy": "2023-12-12T23:40:27.525829Z",
     "iopub.status.idle": "2023-12-12T23:40:27.532733Z",
     "shell.execute_reply": "2023-12-12T23:40:27.532129Z"
    },
    "papermill": {
     "duration": 0.010935,
     "end_time": "2023-12-12T23:40:27.534112",
     "exception": false,
     "start_time": "2023-12-12T23:40:27.523177",
     "status": "completed"
    },
    "tags": []
   },
   "outputs": [],
   "source": [
    "pd.DataFrame({\n",
    "  'orders': tickets.groupby('event_date').number_of_tickets.count(),\n",
    "  'tickets': tickets.groupby('event_date').number_of_tickets.sum().astype(int),\n",
    "}).resample('M').sum().to_csv(os.path.join(OUTPUT_DIR, 'tickets_by_event_date.csv'))"
   ]
  },
  {
   "cell_type": "code",
   "execution_count": 10,
   "id": "3dd9b102",
   "metadata": {
    "execution": {
     "iopub.execute_input": "2023-12-12T23:40:27.539191Z",
     "iopub.status.busy": "2023-12-12T23:40:27.538834Z",
     "iopub.status.idle": "2023-12-12T23:40:27.543542Z",
     "shell.execute_reply": "2023-12-12T23:40:27.543003Z"
    },
    "papermill": {
     "duration": 0.008609,
     "end_time": "2023-12-12T23:40:27.544754",
     "exception": false,
     "start_time": "2023-12-12T23:40:27.536145",
     "status": "completed"
    },
    "tags": []
   },
   "outputs": [],
   "source": [
    "pd.Series({\n",
    "    'total_events': events.event_unique_identifier.count(),\n",
    "    'total_attendances': events.attendances.count(),\n",
    "    'first_event': events.date.min(),\n",
    "    'latest_event': events.date.max(),\n",
    "    'total_ticket_orders_for_events_to_date': tickets.number_of_tickets.count(),\n",
    "    'total_tickets_sold_for_events_to_date': tickets.number_of_tickets.sum(),\n",
    "}).to_json(os.path.join(OUTPUT_DIR, 'headlines.json'), indent=2)"
   ]
  },
  {
   "cell_type": "code",
   "execution_count": null,
   "id": "1d3c7e0a",
   "metadata": {
    "papermill": {
     "duration": 0.001979,
     "end_time": "2023-12-12T23:40:27.548807",
     "exception": false,
     "start_time": "2023-12-12T23:40:27.546828",
     "status": "completed"
    },
    "tags": []
   },
   "outputs": [],
   "source": []
  }
 ],
 "metadata": {
  "kernelspec": {
   "display_name": "leeds-2023-YZF5GfJv",
   "language": "python",
   "name": "python3"
  },
  "language_info": {
   "codemirror_mode": {
    "name": "ipython",
    "version": 3
   },
   "file_extension": ".py",
   "mimetype": "text/x-python",
   "name": "python",
   "nbconvert_exporter": "python",
   "pygments_lexer": "ipython3",
   "version": "3.10.13"
  },
  "papermill": {
   "default_parameters": {},
   "duration": 8.949227,
   "end_time": "2023-12-12T23:40:27.767545",
   "environment_variables": {},
   "exception": null,
   "input_path": "prepare.ipynb",
   "output_path": "../../../../working/output/signature-prepare.ipynb",
   "parameters": {},
   "start_time": "2023-12-12T23:40:18.818318",
   "version": "2.4.0"
  }
 },
 "nbformat": 4,
 "nbformat_minor": 5
}