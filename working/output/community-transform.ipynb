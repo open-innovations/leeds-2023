{
 "cells": [
  {
   "cell_type": "code",
   "execution_count": 1,
   "id": "8b5a8243",
   "metadata": {
    "execution": {
     "iopub.execute_input": "2023-08-25T23:37:36.707765Z",
     "iopub.status.busy": "2023-08-25T23:37:36.706994Z",
     "iopub.status.idle": "2023-08-25T23:37:36.714793Z",
     "shell.execute_reply": "2023-08-25T23:37:36.714153Z"
    },
    "papermill": {
     "duration": 0.013795,
     "end_time": "2023-08-25T23:37:36.716283",
     "exception": false,
     "start_time": "2023-08-25T23:37:36.702488",
     "status": "completed"
    },
    "tags": []
   },
   "outputs": [],
   "source": [
    "import os\n",
    "import sys\n",
    "\n",
    "TOP_DIR=os.path.realpath(\"../../..\")\n",
    "if TOP_DIR not in sys.path: sys.path.append(TOP_DIR)"
   ]
  },
  {
   "cell_type": "code",
   "execution_count": 2,
   "id": "7b97b757",
   "metadata": {
    "execution": {
     "iopub.execute_input": "2023-08-25T23:37:36.721633Z",
     "iopub.status.busy": "2023-08-25T23:37:36.721213Z",
     "iopub.status.idle": "2023-08-25T23:37:46.957449Z",
     "shell.execute_reply": "2023-08-25T23:37:46.956697Z"
    },
    "papermill": {
     "duration": 10.240961,
     "end_time": "2023-08-25T23:37:46.959449",
     "exception": false,
     "start_time": "2023-08-25T23:37:36.718488",
     "status": "completed"
    },
    "tags": []
   },
   "outputs": [],
   "source": [
    "import pandas as pd\n",
    "import numpy as np\n",
    "from lib.util.convert import standardise_columns, literal_converter\n",
    "from lib.util.geo import normalise_leeds_wards, ward_name_to_code"
   ]
  },
  {
   "cell_type": "code",
   "execution_count": 3,
   "id": "c8bbe245",
   "metadata": {
    "execution": {
     "iopub.execute_input": "2023-08-25T23:37:46.965732Z",
     "iopub.status.busy": "2023-08-25T23:37:46.965251Z",
     "iopub.status.idle": "2023-08-25T23:37:46.987422Z",
     "shell.execute_reply": "2023-08-25T23:37:46.986803Z"
    },
    "papermill": {
     "duration": 0.027142,
     "end_time": "2023-08-25T23:37:46.989087",
     "exception": false,
     "start_time": "2023-08-25T23:37:46.961945",
     "status": "completed"
    },
    "tags": []
   },
   "outputs": [],
   "source": [
    "data = pd.read_csv('../../../working/metrics/community/events.csv', parse_dates=['Start date'])\n",
    "data = data.rename(columns=standardise_columns)"
   ]
  },
  {
   "cell_type": "code",
   "execution_count": 4,
   "id": "3cfbe2e5",
   "metadata": {
    "execution": {
     "iopub.execute_input": "2023-08-25T23:37:46.994669Z",
     "iopub.status.busy": "2023-08-25T23:37:46.994086Z",
     "iopub.status.idle": "2023-08-25T23:37:47.002938Z",
     "shell.execute_reply": "2023-08-25T23:37:47.002382Z"
    },
    "papermill": {
     "duration": 0.013103,
     "end_time": "2023-08-25T23:37:47.004329",
     "exception": false,
     "start_time": "2023-08-25T23:37:46.991226",
     "status": "completed"
    },
    "tags": []
   },
   "outputs": [],
   "source": [
    "wards = data['ward_(from_venue)'].fillna('[]').pipe(literal_converter).apply(np.unique)"
   ]
  },
  {
   "cell_type": "code",
   "execution_count": 5,
   "id": "d7311366",
   "metadata": {
    "execution": {
     "iopub.execute_input": "2023-08-25T23:37:47.009530Z",
     "iopub.status.busy": "2023-08-25T23:37:47.009000Z",
     "iopub.status.idle": "2023-08-25T23:37:47.323147Z",
     "shell.execute_reply": "2023-08-25T23:37:47.322448Z"
    },
    "papermill": {
     "duration": 0.319012,
     "end_time": "2023-08-25T23:37:47.325314",
     "exception": false,
     "start_time": "2023-08-25T23:37:47.006302",
     "status": "completed"
    },
    "tags": []
   },
   "outputs": [],
   "source": [
    "data['ward_name'] = wards.apply(lambda x: x[0] if len(x) > 0 else np.nan).pipe(normalise_leeds_wards)\n",
    "data['ward_code'] = data.ward_name.pipe(ward_name_to_code)\n",
    "data['audience'] = data.actual_audience_size_number_of_participants_in_person\n",
    "cleaned_data = data.loc[:, ['event_name', 'project_name', 'start_date', 'ward_name', 'ward_code', 'audience']]"
   ]
  },
  {
   "cell_type": "code",
   "execution_count": 6,
   "id": "ccf21dbb",
   "metadata": {
    "execution": {
     "iopub.execute_input": "2023-08-25T23:37:47.331591Z",
     "iopub.status.busy": "2023-08-25T23:37:47.331153Z",
     "iopub.status.idle": "2023-08-25T23:37:47.337546Z",
     "shell.execute_reply": "2023-08-25T23:37:47.336998Z"
    },
    "papermill": {
     "duration": 0.011102,
     "end_time": "2023-08-25T23:37:47.339005",
     "exception": false,
     "start_time": "2023-08-25T23:37:47.327903",
     "status": "completed"
    },
    "tags": []
   },
   "outputs": [],
   "source": [
    "DATA_DIR='../../../data/metrics/community'\n",
    "os.makedirs(DATA_DIR, exist_ok=True)\n",
    "cleaned_data.to_csv(os.path.join(DATA_DIR, 'events.csv'), index=False)"
   ]
  },
  {
   "cell_type": "markdown",
   "id": "a051a7ea",
   "metadata": {
    "papermill": {
     "duration": 0.001888,
     "end_time": "2023-08-25T23:37:47.342933",
     "exception": false,
     "start_time": "2023-08-25T23:37:47.341045",
     "status": "completed"
    },
    "tags": []
   },
   "source": [
    "Missing or duplicated wards"
   ]
  },
  {
   "cell_type": "code",
   "execution_count": 7,
   "id": "4538a919",
   "metadata": {
    "execution": {
     "iopub.execute_input": "2023-08-25T23:37:47.348141Z",
     "iopub.status.busy": "2023-08-25T23:37:47.347573Z",
     "iopub.status.idle": "2023-08-25T23:37:47.362564Z",
     "shell.execute_reply": "2023-08-25T23:37:47.361932Z"
    },
    "papermill": {
     "duration": 0.019461,
     "end_time": "2023-08-25T23:37:47.364380",
     "exception": false,
     "start_time": "2023-08-25T23:37:47.344919",
     "status": "completed"
    },
    "tags": []
   },
   "outputs": [
    {
     "data": {
      "text/html": [
       "<div>\n",
       "<style scoped>\n",
       "    .dataframe tbody tr th:only-of-type {\n",
       "        vertical-align: middle;\n",
       "    }\n",
       "\n",
       "    .dataframe tbody tr th {\n",
       "        vertical-align: top;\n",
       "    }\n",
       "\n",
       "    .dataframe thead th {\n",
       "        text-align: right;\n",
       "    }\n",
       "</style>\n",
       "<table border=\"1\" class=\"dataframe\">\n",
       "  <thead>\n",
       "    <tr style=\"text-align: right;\">\n",
       "      <th></th>\n",
       "      <th>project_name</th>\n",
       "      <th>event_name</th>\n",
       "      <th>start_date</th>\n",
       "      <th>ward_(from_venue)</th>\n",
       "    </tr>\n",
       "  </thead>\n",
       "  <tbody>\n",
       "    <tr>\n",
       "      <th>49</th>\n",
       "      <td>01 - The Awakening</td>\n",
       "      <td>Creation Station - Leeds City Council</td>\n",
       "      <td>2022-11-23</td>\n",
       "      <td>NaN</td>\n",
       "    </tr>\n",
       "    <tr>\n",
       "      <th>50</th>\n",
       "      <td>01 - The Awakening</td>\n",
       "      <td>Creation Station - Leeds City Council</td>\n",
       "      <td>2022-11-24</td>\n",
       "      <td>NaN</td>\n",
       "    </tr>\n",
       "    <tr>\n",
       "      <th>64</th>\n",
       "      <td>01 - The Awakening</td>\n",
       "      <td>Creation Station - Yorkshire Schools Dance Fes...</td>\n",
       "      <td>2022-11-19</td>\n",
       "      <td>NaN</td>\n",
       "    </tr>\n",
       "    <tr>\n",
       "      <th>66</th>\n",
       "      <td>01 - The Awakening</td>\n",
       "      <td>Mass Movement Rehearsals</td>\n",
       "      <td>2023-01-05</td>\n",
       "      <td>NaN</td>\n",
       "    </tr>\n",
       "    <tr>\n",
       "      <th>67</th>\n",
       "      <td>01 - The Awakening</td>\n",
       "      <td>Waking the Artist in Communities</td>\n",
       "      <td>2023-02-06</td>\n",
       "      <td>NaN</td>\n",
       "    </tr>\n",
       "    <tr>\n",
       "      <th>...</th>\n",
       "      <td>...</td>\n",
       "      <td>...</td>\n",
       "      <td>...</td>\n",
       "      <td>...</td>\n",
       "    </tr>\n",
       "    <tr>\n",
       "      <th>265</th>\n",
       "      <td>Waking the Artist</td>\n",
       "      <td>Spring Gardens Pack</td>\n",
       "      <td>2023-03-23</td>\n",
       "      <td>NaN</td>\n",
       "    </tr>\n",
       "    <tr>\n",
       "      <th>266</th>\n",
       "      <td>Waking the Artist</td>\n",
       "      <td>The Den Headingley Pack</td>\n",
       "      <td>2023-02-13</td>\n",
       "      <td>NaN</td>\n",
       "    </tr>\n",
       "    <tr>\n",
       "      <th>267</th>\n",
       "      <td>Waking the Artist</td>\n",
       "      <td>Turning Lives Around Pack</td>\n",
       "      <td>2023-02-22</td>\n",
       "      <td>NaN</td>\n",
       "    </tr>\n",
       "    <tr>\n",
       "      <th>269</th>\n",
       "      <td>Waking the Artist</td>\n",
       "      <td>Wetherby Town Hall Pack</td>\n",
       "      <td>2023-02-25</td>\n",
       "      <td>NaN</td>\n",
       "    </tr>\n",
       "    <tr>\n",
       "      <th>270</th>\n",
       "      <td>Waking the Artist</td>\n",
       "      <td>Who Let The Dads Out Fulneck Moravian Church Pack</td>\n",
       "      <td>2023-02-22</td>\n",
       "      <td>NaN</td>\n",
       "    </tr>\n",
       "  </tbody>\n",
       "</table>\n",
       "<p>73 rows × 4 columns</p>\n",
       "</div>"
      ],
      "text/plain": [
       "           project_name                                         event_name  \\\n",
       "49   01 - The Awakening             Creation Station - Leeds City Council    \n",
       "50   01 - The Awakening             Creation Station - Leeds City Council    \n",
       "64   01 - The Awakening  Creation Station - Yorkshire Schools Dance Fes...   \n",
       "66   01 - The Awakening                           Mass Movement Rehearsals   \n",
       "67   01 - The Awakening                  Waking the Artist in Communities    \n",
       "..                  ...                                                ...   \n",
       "265   Waking the Artist                                Spring Gardens Pack   \n",
       "266   Waking the Artist                            The Den Headingley Pack   \n",
       "267   Waking the Artist                          Turning Lives Around Pack   \n",
       "269   Waking the Artist                            Wetherby Town Hall Pack   \n",
       "270   Waking the Artist  Who Let The Dads Out Fulneck Moravian Church Pack   \n",
       "\n",
       "    start_date ward_(from_venue)  \n",
       "49  2022-11-23               NaN  \n",
       "50  2022-11-24               NaN  \n",
       "64  2022-11-19               NaN  \n",
       "66  2023-01-05               NaN  \n",
       "67  2023-02-06               NaN  \n",
       "..         ...               ...  \n",
       "265 2023-03-23               NaN  \n",
       "266 2023-02-13               NaN  \n",
       "267 2023-02-22               NaN  \n",
       "269 2023-02-25               NaN  \n",
       "270 2023-02-22               NaN  \n",
       "\n",
       "[73 rows x 4 columns]"
      ]
     },
     "execution_count": 7,
     "metadata": {},
     "output_type": "execute_result"
    }
   ],
   "source": [
    "data.loc[wards.apply(len) != 1, ['project_name', 'event_name', 'start_date', 'ward_(from_venue)']]"
   ]
  },
  {
   "cell_type": "markdown",
   "id": "c07cfce5",
   "metadata": {
    "papermill": {
     "duration": 0.002294,
     "end_time": "2023-08-25T23:37:47.369002",
     "exception": false,
     "start_time": "2023-08-25T23:37:47.366708",
     "status": "completed"
    },
    "tags": []
   },
   "source": [
    "Missing audience"
   ]
  },
  {
   "cell_type": "code",
   "execution_count": 8,
   "id": "e37cd490",
   "metadata": {
    "execution": {
     "iopub.execute_input": "2023-08-25T23:37:47.374922Z",
     "iopub.status.busy": "2023-08-25T23:37:47.374376Z",
     "iopub.status.idle": "2023-08-25T23:37:47.388021Z",
     "shell.execute_reply": "2023-08-25T23:37:47.387482Z"
    },
    "papermill": {
     "duration": 0.018469,
     "end_time": "2023-08-25T23:37:47.389709",
     "exception": false,
     "start_time": "2023-08-25T23:37:47.371240",
     "status": "completed"
    },
    "tags": []
   },
   "outputs": [
    {
     "data": {
      "text/html": [
       "<div>\n",
       "<style scoped>\n",
       "    .dataframe tbody tr th:only-of-type {\n",
       "        vertical-align: middle;\n",
       "    }\n",
       "\n",
       "    .dataframe tbody tr th {\n",
       "        vertical-align: top;\n",
       "    }\n",
       "\n",
       "    .dataframe thead th {\n",
       "        text-align: right;\n",
       "    }\n",
       "</style>\n",
       "<table border=\"1\" class=\"dataframe\">\n",
       "  <thead>\n",
       "    <tr style=\"text-align: right;\">\n",
       "      <th></th>\n",
       "      <th>project_name</th>\n",
       "      <th>event_name</th>\n",
       "      <th>start_date</th>\n",
       "      <th>audience</th>\n",
       "    </tr>\n",
       "  </thead>\n",
       "  <tbody>\n",
       "    <tr>\n",
       "      <th>0</th>\n",
       "      <td>01 - The Awakening</td>\n",
       "      <td>Ballot Facilitated Session - Carr Manor Commun...</td>\n",
       "      <td>2022-11-01</td>\n",
       "      <td>NaN</td>\n",
       "    </tr>\n",
       "    <tr>\n",
       "      <th>1</th>\n",
       "      <td>01 - The Awakening</td>\n",
       "      <td>Ballot Facilitated Session - Chapel Allerton P...</td>\n",
       "      <td>2022-11-07</td>\n",
       "      <td>NaN</td>\n",
       "    </tr>\n",
       "    <tr>\n",
       "      <th>2</th>\n",
       "      <td>01 - The Awakening</td>\n",
       "      <td>Ballot Facilitated Session - Cobden Primary Sc...</td>\n",
       "      <td>2022-11-09</td>\n",
       "      <td>NaN</td>\n",
       "    </tr>\n",
       "    <tr>\n",
       "      <th>3</th>\n",
       "      <td>01 - The Awakening</td>\n",
       "      <td>Ballot Facilitated Session - Cobden Primary Sc...</td>\n",
       "      <td>2022-11-10</td>\n",
       "      <td>NaN</td>\n",
       "    </tr>\n",
       "    <tr>\n",
       "      <th>4</th>\n",
       "      <td>01 - The Awakening</td>\n",
       "      <td>Ballot Facilitated Session - Cobden Primary Sc...</td>\n",
       "      <td>2022-11-18</td>\n",
       "      <td>NaN</td>\n",
       "    </tr>\n",
       "    <tr>\n",
       "      <th>...</th>\n",
       "      <td>...</td>\n",
       "      <td>...</td>\n",
       "      <td>...</td>\n",
       "      <td>...</td>\n",
       "    </tr>\n",
       "    <tr>\n",
       "      <th>229</th>\n",
       "      <td>My World My City My Neighbourhood</td>\n",
       "      <td>Lincoln Greeners - Festival Closing</td>\n",
       "      <td>2023-08-24</td>\n",
       "      <td>NaN</td>\n",
       "    </tr>\n",
       "    <tr>\n",
       "      <th>230</th>\n",
       "      <td>My World My City My Neighbourhood</td>\n",
       "      <td>Lincoln Greeners - Festival Opening</td>\n",
       "      <td>2023-05-21</td>\n",
       "      <td>NaN</td>\n",
       "    </tr>\n",
       "    <tr>\n",
       "      <th>231</th>\n",
       "      <td>My World My City My Neighbourhood</td>\n",
       "      <td>Stand and Be Counted Round Table</td>\n",
       "      <td>2023-04-24</td>\n",
       "      <td>NaN</td>\n",
       "    </tr>\n",
       "    <tr>\n",
       "      <th>232</th>\n",
       "      <td>My World My City My Neighbourhood</td>\n",
       "      <td>The Ginnel</td>\n",
       "      <td>2023-10-13</td>\n",
       "      <td>NaN</td>\n",
       "    </tr>\n",
       "    <tr>\n",
       "      <th>233</th>\n",
       "      <td>My World My City My Neighbourhood</td>\n",
       "      <td>The Path Between</td>\n",
       "      <td>2023-10-14</td>\n",
       "      <td>NaN</td>\n",
       "    </tr>\n",
       "  </tbody>\n",
       "</table>\n",
       "<p>178 rows × 4 columns</p>\n",
       "</div>"
      ],
      "text/plain": [
       "                          project_name  \\\n",
       "0                   01 - The Awakening   \n",
       "1                   01 - The Awakening   \n",
       "2                   01 - The Awakening   \n",
       "3                   01 - The Awakening   \n",
       "4                   01 - The Awakening   \n",
       "..                                 ...   \n",
       "229  My World My City My Neighbourhood   \n",
       "230  My World My City My Neighbourhood   \n",
       "231  My World My City My Neighbourhood   \n",
       "232  My World My City My Neighbourhood   \n",
       "233  My World My City My Neighbourhood   \n",
       "\n",
       "                                            event_name start_date  audience  \n",
       "0    Ballot Facilitated Session - Carr Manor Commun... 2022-11-01       NaN  \n",
       "1    Ballot Facilitated Session - Chapel Allerton P... 2022-11-07       NaN  \n",
       "2    Ballot Facilitated Session - Cobden Primary Sc... 2022-11-09       NaN  \n",
       "3    Ballot Facilitated Session - Cobden Primary Sc... 2022-11-10       NaN  \n",
       "4    Ballot Facilitated Session - Cobden Primary Sc... 2022-11-18       NaN  \n",
       "..                                                 ...        ...       ...  \n",
       "229                Lincoln Greeners - Festival Closing 2023-08-24       NaN  \n",
       "230                Lincoln Greeners - Festival Opening 2023-05-21       NaN  \n",
       "231                   Stand and Be Counted Round Table 2023-04-24       NaN  \n",
       "232                                         The Ginnel 2023-10-13       NaN  \n",
       "233                                   The Path Between 2023-10-14       NaN  \n",
       "\n",
       "[178 rows x 4 columns]"
      ]
     },
     "execution_count": 8,
     "metadata": {},
     "output_type": "execute_result"
    }
   ],
   "source": [
    "data.loc[data.audience.isna(), ['project_name', 'event_name', 'start_date', 'audience']]"
   ]
  },
  {
   "cell_type": "code",
   "execution_count": null,
   "id": "e94c1b6f",
   "metadata": {
    "papermill": {
     "duration": 0.002506,
     "end_time": "2023-08-25T23:37:47.394670",
     "exception": false,
     "start_time": "2023-08-25T23:37:47.392164",
     "status": "completed"
    },
    "tags": []
   },
   "outputs": [],
   "source": []
  },
  {
   "cell_type": "code",
   "execution_count": null,
   "id": "fdf0d09b",
   "metadata": {
    "papermill": {
     "duration": 0.003369,
     "end_time": "2023-08-25T23:37:47.400483",
     "exception": false,
     "start_time": "2023-08-25T23:37:47.397114",
     "status": "completed"
    },
    "tags": []
   },
   "outputs": [],
   "source": []
  }
 ],
 "metadata": {
  "kernelspec": {
   "display_name": "leeds-2023-YZF5GfJv",
   "language": "python",
   "name": "python3"
  },
  "language_info": {
   "codemirror_mode": {
    "name": "ipython",
    "version": 3
   },
   "file_extension": ".py",
   "mimetype": "text/x-python",
   "name": "python",
   "nbconvert_exporter": "python",
   "pygments_lexer": "ipython3",
   "version": "3.10.12"
  },
  "papermill": {
   "default_parameters": {},
   "duration": 12.281986,
   "end_time": "2023-08-25T23:37:47.719734",
   "environment_variables": {},
   "exception": null,
   "input_path": "transform.ipynb",
   "output_path": "../../../working/output/community-transform.ipynb",
   "parameters": {},
   "start_time": "2023-08-25T23:37:35.437748",
   "version": "2.4.0"
  }
 },
 "nbformat": 4,
 "nbformat_minor": 5
}