{
 "cells": [
  {
   "cell_type": "code",
   "execution_count": 1,
   "id": "26461b91",
   "metadata": {
    "execution": {
     "iopub.execute_input": "2023-12-18T23:41:05.016987Z",
     "iopub.status.busy": "2023-12-18T23:41:05.016479Z",
     "iopub.status.idle": "2023-12-18T23:41:05.264058Z",
     "shell.execute_reply": "2023-12-18T23:41:05.263455Z"
    },
    "papermill": {
     "duration": 0.252342,
     "end_time": "2023-12-18T23:41:05.265671",
     "exception": false,
     "start_time": "2023-12-18T23:41:05.013329",
     "status": "completed"
    },
    "tags": []
   },
   "outputs": [],
   "source": [
    "import os, sys\n",
    "TOP_DIR = os.path.realpath('../../..')\n",
    "if TOP_DIR not in sys.path: sys.path.append(TOP_DIR)\n",
    "import pandas as pd"
   ]
  },
  {
   "cell_type": "code",
   "execution_count": 2,
   "id": "7691da4c",
   "metadata": {
    "execution": {
     "iopub.execute_input": "2023-12-18T23:41:05.270059Z",
     "iopub.status.busy": "2023-12-18T23:41:05.269601Z",
     "iopub.status.idle": "2023-12-18T23:41:05.273990Z",
     "shell.execute_reply": "2023-12-18T23:41:05.273353Z"
    },
    "papermill": {
     "duration": 0.008051,
     "end_time": "2023-12-18T23:41:05.275460",
     "exception": false,
     "start_time": "2023-12-18T23:41:05.267409",
     "status": "completed"
    },
    "tags": []
   },
   "outputs": [],
   "source": [
    "from lib.util.convert import named_cumulative_sum"
   ]
  },
  {
   "cell_type": "code",
   "execution_count": 3,
   "id": "1c50bc95",
   "metadata": {
    "execution": {
     "iopub.execute_input": "2023-12-18T23:41:05.279197Z",
     "iopub.status.busy": "2023-12-18T23:41:05.278830Z",
     "iopub.status.idle": "2023-12-18T23:41:05.287422Z",
     "shell.execute_reply": "2023-12-18T23:41:05.286787Z"
    },
    "papermill": {
     "duration": 0.01205,
     "end_time": "2023-12-18T23:41:05.288904",
     "exception": false,
     "start_time": "2023-12-18T23:41:05.276854",
     "status": "completed"
    },
    "tags": []
   },
   "outputs": [],
   "source": [
    "data = pd.read_csv('../../../data/metrics/community/events.csv', parse_dates=['start_date'])\n",
    "data.ward_code = data.ward_code.fillna('UNKNOWN')"
   ]
  },
  {
   "cell_type": "markdown",
   "id": "f4996a6a",
   "metadata": {
    "papermill": {
     "duration": 0.001435,
     "end_time": "2023-12-18T23:41:05.291822",
     "exception": false,
     "start_time": "2023-12-18T23:41:05.290387",
     "status": "completed"
    },
    "tags": []
   },
   "source": [
    "Set up output directories"
   ]
  },
  {
   "cell_type": "code",
   "execution_count": 4,
   "id": "32296eeb",
   "metadata": {
    "execution": {
     "iopub.execute_input": "2023-12-18T23:41:05.296300Z",
     "iopub.status.busy": "2023-12-18T23:41:05.295822Z",
     "iopub.status.idle": "2023-12-18T23:41:05.299085Z",
     "shell.execute_reply": "2023-12-18T23:41:05.298539Z"
    },
    "papermill": {
     "duration": 0.007163,
     "end_time": "2023-12-18T23:41:05.300423",
     "exception": false,
     "start_time": "2023-12-18T23:41:05.293260",
     "status": "completed"
    },
    "tags": []
   },
   "outputs": [],
   "source": [
    "OUT_DIR = '../../../docs/metrics/community/_data'\n",
    "os.makedirs(OUT_DIR, exist_ok=True)"
   ]
  },
  {
   "cell_type": "code",
   "execution_count": 5,
   "id": "2f3c2172",
   "metadata": {
    "execution": {
     "iopub.execute_input": "2023-12-18T23:41:05.304470Z",
     "iopub.status.busy": "2023-12-18T23:41:05.304088Z",
     "iopub.status.idle": "2023-12-18T23:41:05.310416Z",
     "shell.execute_reply": "2023-12-18T23:41:05.309897Z"
    },
    "papermill": {
     "duration": 0.00974,
     "end_time": "2023-12-18T23:41:05.311742",
     "exception": false,
     "start_time": "2023-12-18T23:41:05.302002",
     "status": "completed"
    },
    "tags": []
   },
   "outputs": [],
   "source": [
    "pd.Series({\n",
    "  'events': data.event_name.count(),\n",
    "  'audience': data.audience.sum().astype(int),\n",
    "  'errors': {\n",
    "    'missing_wards': (data.ward_code == 'UNKNOWN').value_counts()[True],\n",
    "    'missing_audience': data.audience.isna().value_counts()[True],\n",
    "    'zero_audience':  (data.audience < 1).value_counts()[True],  \n",
    "  }\n",
    "}).to_json(os.path.join(OUT_DIR, 'headlines.json'), indent=2)"
   ]
  },
  {
   "cell_type": "code",
   "execution_count": 6,
   "id": "2a7c250f",
   "metadata": {
    "execution": {
     "iopub.execute_input": "2023-12-18T23:41:05.315767Z",
     "iopub.status.busy": "2023-12-18T23:41:05.315458Z",
     "iopub.status.idle": "2023-12-18T23:41:05.322276Z",
     "shell.execute_reply": "2023-12-18T23:41:05.321758Z"
    },
    "papermill": {
     "duration": 0.010358,
     "end_time": "2023-12-18T23:41:05.323619",
     "exception": false,
     "start_time": "2023-12-18T23:41:05.313261",
     "status": "completed"
    },
    "tags": []
   },
   "outputs": [],
   "source": [
    "by_ward = pd.DataFrame({\n",
    "  'events': data.groupby('ward_code').event_name.count().fillna(0).astype('int'),\n",
    "  'audience': data.groupby('ward_code').audience.sum().fillna(0).astype('int'),\n",
    "}).to_csv(os.path.join(OUT_DIR, 'by_ward.csv'))"
   ]
  },
  {
   "cell_type": "code",
   "execution_count": 7,
   "id": "4792104d",
   "metadata": {
    "execution": {
     "iopub.execute_input": "2023-12-18T23:41:05.328022Z",
     "iopub.status.busy": "2023-12-18T23:41:05.327451Z",
     "iopub.status.idle": "2023-12-18T23:41:05.336822Z",
     "shell.execute_reply": "2023-12-18T23:41:05.336143Z"
    },
    "papermill": {
     "duration": 0.012878,
     "end_time": "2023-12-18T23:41:05.338050",
     "exception": false,
     "start_time": "2023-12-18T23:41:05.325172",
     "status": "completed"
    },
    "tags": []
   },
   "outputs": [],
   "source": [
    "by_date = pd.DataFrame({\n",
    "    'events': data.groupby('start_date').event_name.count(),\n",
    "    'audience': data.groupby('start_date').audience.sum(),\n",
    "}).resample('M').sum()\n",
    "\n",
    "pd.concat([\n",
    "    by_date,\n",
    "    by_date.pipe(named_cumulative_sum)\n",
    "], axis=1).astype('int').to_csv(os.path.join(OUT_DIR, 'by_date.csv'))"
   ]
  }
 ],
 "metadata": {
  "kernelspec": {
   "display_name": "leeds-2023-YZF5GfJv",
   "language": "python",
   "name": "python3"
  },
  "language_info": {
   "codemirror_mode": {
    "name": "ipython",
    "version": 3
   },
   "file_extension": ".py",
   "mimetype": "text/x-python",
   "name": "python",
   "nbconvert_exporter": "python",
   "pygments_lexer": "ipython3",
   "version": "3.10.13"
  },
  "papermill": {
   "default_parameters": {},
   "duration": 1.796991,
   "end_time": "2023-12-18T23:41:05.556070",
   "environment_variables": {},
   "exception": null,
   "input_path": "prepare.ipynb",
   "output_path": "../../../working/output/community-prepare.ipynb",
   "parameters": {},
   "start_time": "2023-12-18T23:41:03.759079",
   "version": "2.4.0"
  }
 },
 "nbformat": 4,
 "nbformat_minor": 5
}