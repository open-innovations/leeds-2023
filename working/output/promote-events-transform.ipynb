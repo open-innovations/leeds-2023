{
 "cells": [
  {
   "cell_type": "code",
   "execution_count": 1,
   "id": "dc49ce1d",
   "metadata": {
    "execution": {
     "iopub.execute_input": "2023-11-27T23:37:42.782901Z",
     "iopub.status.busy": "2023-11-27T23:37:42.782722Z",
     "iopub.status.idle": "2023-11-27T23:37:43.019122Z",
     "shell.execute_reply": "2023-11-27T23:37:43.018410Z"
    },
    "papermill": {
     "duration": 0.240381,
     "end_time": "2023-11-27T23:37:43.020840",
     "exception": false,
     "start_time": "2023-11-27T23:37:42.780459",
     "status": "completed"
    },
    "tags": []
   },
   "outputs": [],
   "source": [
    "import os\n",
    "import pandas as pd"
   ]
  },
  {
   "cell_type": "code",
   "execution_count": 2,
   "id": "fef2937b",
   "metadata": {
    "execution": {
     "iopub.execute_input": "2023-11-27T23:37:43.024677Z",
     "iopub.status.busy": "2023-11-27T23:37:43.024217Z",
     "iopub.status.idle": "2023-11-27T23:37:43.027375Z",
     "shell.execute_reply": "2023-11-27T23:37:43.026806Z"
    },
    "papermill": {
     "duration": 0.006367,
     "end_time": "2023-11-27T23:37:43.028651",
     "exception": false,
     "start_time": "2023-11-27T23:37:43.022284",
     "status": "completed"
    },
    "tags": []
   },
   "outputs": [],
   "source": [
    "EVENTS_RAW_DATA = '../../../working/metrics/promote-events/events.csv'\n",
    "DATA_DIR = '../../../data/metrics/events/promote-events/'\n",
    "EVENTS_DATA = os.path.join(DATA_DIR, 'events.csv')"
   ]
  },
  {
   "cell_type": "code",
   "execution_count": 3,
   "id": "8e197135",
   "metadata": {
    "execution": {
     "iopub.execute_input": "2023-11-27T23:37:43.031667Z",
     "iopub.status.busy": "2023-11-27T23:37:43.031456Z",
     "iopub.status.idle": "2023-11-27T23:37:43.034848Z",
     "shell.execute_reply": "2023-11-27T23:37:43.034235Z"
    },
    "papermill": {
     "duration": 0.006369,
     "end_time": "2023-11-27T23:37:43.036192",
     "exception": false,
     "start_time": "2023-11-27T23:37:43.029823",
     "status": "completed"
    },
    "tags": []
   },
   "outputs": [],
   "source": [
    "columns = {\n",
    "    'id': 'id',\n",
    "    'name': 'name',\n",
    "    'locationName': 'location',\n",
    "    'cardPrice': 'card_price',\n",
    "    'timeslots': 'time',\n",
    "    # 'displayOnWebsite': 'display',\n",
    "    'Stage': 'stage',\n",
    "}"
   ]
  },
  {
   "cell_type": "code",
   "execution_count": 4,
   "id": "a29abfd8",
   "metadata": {
    "execution": {
     "iopub.execute_input": "2023-11-27T23:37:43.039604Z",
     "iopub.status.busy": "2023-11-27T23:37:43.039091Z",
     "iopub.status.idle": "2023-11-27T23:37:43.047814Z",
     "shell.execute_reply": "2023-11-27T23:37:43.047305Z"
    },
    "papermill": {
     "duration": 0.011811,
     "end_time": "2023-11-27T23:37:43.049130",
     "exception": false,
     "start_time": "2023-11-27T23:37:43.037319",
     "status": "completed"
    },
    "tags": []
   },
   "outputs": [],
   "source": [
    "data = pd.read_csv(EVENTS_RAW_DATA)[columns.keys()].rename(columns=columns)\n",
    "data.time = pd.to_datetime(data.time, errors='coerce')"
   ]
  },
  {
   "cell_type": "code",
   "execution_count": 5,
   "id": "58b3e3fb",
   "metadata": {
    "execution": {
     "iopub.execute_input": "2023-11-27T23:37:43.052417Z",
     "iopub.status.busy": "2023-11-27T23:37:43.052040Z",
     "iopub.status.idle": "2023-11-27T23:37:43.056715Z",
     "shell.execute_reply": "2023-11-27T23:37:43.056177Z"
    },
    "papermill": {
     "duration": 0.00772,
     "end_time": "2023-11-27T23:37:43.058034",
     "exception": false,
     "start_time": "2023-11-27T23:37:43.050314",
     "status": "completed"
    },
    "tags": []
   },
   "outputs": [],
   "source": [
    "data.to_csv(os.path.join(DATA_DIR, 'events.csv'), index=False)"
   ]
  }
 ],
 "metadata": {
  "kernelspec": {
   "display_name": "leeds-2023-YZF5GfJv",
   "language": "python",
   "name": "python3"
  },
  "language_info": {
   "codemirror_mode": {
    "name": "ipython",
    "version": 3
   },
   "file_extension": ".py",
   "mimetype": "text/x-python",
   "name": "python",
   "nbconvert_exporter": "python",
   "pygments_lexer": "ipython3",
   "version": "3.10.13"
  },
  "papermill": {
   "default_parameters": {},
   "duration": 1.733486,
   "end_time": "2023-11-27T23:37:43.275101",
   "environment_variables": {},
   "exception": null,
   "input_path": "transform.ipynb",
   "output_path": "../../../working/output/promote-events-transform.ipynb",
   "parameters": {},
   "start_time": "2023-11-27T23:37:41.541615",
   "version": "2.4.0"
  }
 },
 "nbformat": 4,
 "nbformat_minor": 5
}