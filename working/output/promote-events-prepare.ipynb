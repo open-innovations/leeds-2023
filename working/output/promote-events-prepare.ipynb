{
 "cells": [
  {
   "cell_type": "code",
   "execution_count": 1,
   "id": "699a0dcb",
   "metadata": {
    "execution": {
     "iopub.execute_input": "2023-09-03T23:39:12.982241Z",
     "iopub.status.busy": "2023-09-03T23:39:12.981729Z",
     "iopub.status.idle": "2023-09-03T23:39:13.209960Z",
     "shell.execute_reply": "2023-09-03T23:39:13.209352Z"
    },
    "papermill": {
     "duration": 0.23346,
     "end_time": "2023-09-03T23:39:13.212083",
     "exception": false,
     "start_time": "2023-09-03T23:39:12.978623",
     "status": "completed"
    },
    "tags": []
   },
   "outputs": [],
   "source": [
    "import os\n",
    "import pandas as pd"
   ]
  },
  {
   "cell_type": "code",
   "execution_count": 2,
   "id": "b14ea2e8",
   "metadata": {
    "execution": {
     "iopub.execute_input": "2023-09-03T23:39:13.217108Z",
     "iopub.status.busy": "2023-09-03T23:39:13.216594Z",
     "iopub.status.idle": "2023-09-03T23:39:13.219969Z",
     "shell.execute_reply": "2023-09-03T23:39:13.219353Z"
    },
    "papermill": {
     "duration": 0.00741,
     "end_time": "2023-09-03T23:39:13.221394",
     "exception": false,
     "start_time": "2023-09-03T23:39:13.213984",
     "status": "completed"
    },
    "tags": []
   },
   "outputs": [],
   "source": [
    "DATA_DIR='../../../docs/metrics/events/promote/_data/'\n",
    "os.makedirs(DATA_DIR, exist_ok=True)"
   ]
  },
  {
   "cell_type": "code",
   "execution_count": 3,
   "id": "ef9c5bff",
   "metadata": {
    "execution": {
     "iopub.execute_input": "2023-09-03T23:39:13.225769Z",
     "iopub.status.busy": "2023-09-03T23:39:13.225267Z",
     "iopub.status.idle": "2023-09-03T23:39:13.233647Z",
     "shell.execute_reply": "2023-09-03T23:39:13.233102Z"
    },
    "papermill": {
     "duration": 0.012,
     "end_time": "2023-09-03T23:39:13.234981",
     "exception": false,
     "start_time": "2023-09-03T23:39:13.222981",
     "status": "completed"
    },
    "tags": []
   },
   "outputs": [],
   "source": [
    "data = pd.read_csv('../../../data/metrics/events/promote-events/events.csv', parse_dates=['time'])"
   ]
  },
  {
   "cell_type": "code",
   "execution_count": 4,
   "id": "887dd495",
   "metadata": {
    "execution": {
     "iopub.execute_input": "2023-09-03T23:39:13.239251Z",
     "iopub.status.busy": "2023-09-03T23:39:13.238928Z",
     "iopub.status.idle": "2023-09-03T23:39:13.243905Z",
     "shell.execute_reply": "2023-09-03T23:39:13.243301Z"
    },
    "papermill": {
     "duration": 0.008683,
     "end_time": "2023-09-03T23:39:13.245257",
     "exception": false,
     "start_time": "2023-09-03T23:39:13.236574",
     "status": "completed"
    },
    "tags": []
   },
   "outputs": [],
   "source": [
    "pd.Series({\n",
    "    'total_events': len(data.id.unique()),\n",
    "    'total_event_instances': len(data.time),\n",
    "    'earliest_event': data.time.min(),\n",
    "    'latest_event': data.time.max(),\n",
    "}).to_json(\n",
    "    os.path.join(DATA_DIR, 'headlines.json'),\n",
    "    date_format='iso', indent=2\n",
    ")"
   ]
  },
  {
   "cell_type": "code",
   "execution_count": 5,
   "id": "ebc8af76",
   "metadata": {
    "execution": {
     "iopub.execute_input": "2023-09-03T23:39:13.249398Z",
     "iopub.status.busy": "2023-09-03T23:39:13.249081Z",
     "iopub.status.idle": "2023-09-03T23:39:13.256679Z",
     "shell.execute_reply": "2023-09-03T23:39:13.256133Z"
    },
    "papermill": {
     "duration": 0.011129,
     "end_time": "2023-09-03T23:39:13.257959",
     "exception": false,
     "start_time": "2023-09-03T23:39:13.246830",
     "status": "completed"
    },
    "tags": []
   },
   "outputs": [],
   "source": [
    "events = pd.DataFrame({\n",
    "    'events': data.groupby('id').agg({ 'time': 'min' }).reset_index().groupby('time').id.count(),\n",
    "    'event_instances': data.groupby('time').id.count(),\n",
    "}).fillna(0).astype(int)"
   ]
  },
  {
   "cell_type": "code",
   "execution_count": 6,
   "id": "e8112171",
   "metadata": {
    "execution": {
     "iopub.execute_input": "2023-09-03T23:39:13.262156Z",
     "iopub.status.busy": "2023-09-03T23:39:13.261836Z",
     "iopub.status.idle": "2023-09-03T23:39:13.265202Z",
     "shell.execute_reply": "2023-09-03T23:39:13.264614Z"
    },
    "papermill": {
     "duration": 0.00701,
     "end_time": "2023-09-03T23:39:13.266572",
     "exception": false,
     "start_time": "2023-09-03T23:39:13.259562",
     "status": "completed"
    },
    "tags": []
   },
   "outputs": [],
   "source": [
    "def cumulate(data):\n",
    "    return pd.concat([\n",
    "        data,\n",
    "        data.cumsum().rename(columns=lambda c: f'cumulative_{c}')\n",
    "    ], axis=1)"
   ]
  },
  {
   "cell_type": "code",
   "execution_count": 7,
   "id": "b6a9bb84",
   "metadata": {
    "execution": {
     "iopub.execute_input": "2023-09-03T23:39:13.270953Z",
     "iopub.status.busy": "2023-09-03T23:39:13.270486Z",
     "iopub.status.idle": "2023-09-03T23:39:13.279878Z",
     "shell.execute_reply": "2023-09-03T23:39:13.279313Z"
    },
    "papermill": {
     "duration": 0.013021,
     "end_time": "2023-09-03T23:39:13.281256",
     "exception": false,
     "start_time": "2023-09-03T23:39:13.268235",
     "status": "completed"
    },
    "tags": []
   },
   "outputs": [],
   "source": [
    "events.resample('W-FRI').sum().pipe(cumulate).to_csv(os.path.join(DATA_DIR, 'by_week.csv'))"
   ]
  },
  {
   "cell_type": "code",
   "execution_count": 8,
   "id": "c8b5e15b",
   "metadata": {
    "execution": {
     "iopub.execute_input": "2023-09-03T23:39:13.285788Z",
     "iopub.status.busy": "2023-09-03T23:39:13.285450Z",
     "iopub.status.idle": "2023-09-03T23:39:13.291688Z",
     "shell.execute_reply": "2023-09-03T23:39:13.291091Z"
    },
    "papermill": {
     "duration": 0.010187,
     "end_time": "2023-09-03T23:39:13.293233",
     "exception": false,
     "start_time": "2023-09-03T23:39:13.283046",
     "status": "completed"
    },
    "tags": []
   },
   "outputs": [],
   "source": [
    "events.resample('MS').sum().pipe(cumulate).to_csv(os.path.join(DATA_DIR, 'by_month.csv'))"
   ]
  },
  {
   "cell_type": "code",
   "execution_count": null,
   "id": "6382e8eb",
   "metadata": {
    "papermill": {
     "duration": 0.00168,
     "end_time": "2023-09-03T23:39:13.296678",
     "exception": false,
     "start_time": "2023-09-03T23:39:13.294998",
     "status": "completed"
    },
    "tags": []
   },
   "outputs": [],
   "source": []
  }
 ],
 "metadata": {
  "kernelspec": {
   "display_name": "leeds-2023-YZF5GfJv",
   "language": "python",
   "name": "python3"
  },
  "language_info": {
   "codemirror_mode": {
    "name": "ipython",
    "version": 3
   },
   "file_extension": ".py",
   "mimetype": "text/x-python",
   "name": "python",
   "nbconvert_exporter": "python",
   "pygments_lexer": "ipython3",
   "version": "3.10.12"
  },
  "papermill": {
   "default_parameters": {},
   "duration": 1.917701,
   "end_time": "2023-09-03T23:39:13.515335",
   "environment_variables": {},
   "exception": null,
   "input_path": "prepare.ipynb",
   "output_path": "../../../working/output/promote-events-prepare.ipynb",
   "parameters": {},
   "start_time": "2023-09-03T23:39:11.597634",
   "version": "2.4.0"
  }
 },
 "nbformat": 4,
 "nbformat_minor": 5
}