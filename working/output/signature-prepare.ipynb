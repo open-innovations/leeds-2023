{
 "cells": [
  {
   "cell_type": "code",
   "execution_count": 1,
   "id": "09438cb4",
   "metadata": {
    "execution": {
     "iopub.execute_input": "2023-08-04T23:38:48.226954Z",
     "iopub.status.busy": "2023-08-04T23:38:48.226470Z",
     "iopub.status.idle": "2023-08-04T23:38:58.151612Z",
     "shell.execute_reply": "2023-08-04T23:38:58.150864Z"
    },
    "papermill": {
     "duration": 9.93167,
     "end_time": "2023-08-04T23:38:58.153639",
     "exception": false,
     "start_time": "2023-08-04T23:38:48.221969",
     "status": "completed"
    },
    "tags": []
   },
   "outputs": [],
   "source": [
    "import os\n",
    "import pandas as pd\n",
    "from events import load_event_data, get_first_ward, normalise_ward"
   ]
  },
  {
   "cell_type": "code",
   "execution_count": 2,
   "id": "50cf880f",
   "metadata": {
    "execution": {
     "iopub.execute_input": "2023-08-04T23:38:58.159934Z",
     "iopub.status.busy": "2023-08-04T23:38:58.159329Z",
     "iopub.status.idle": "2023-08-04T23:38:58.164200Z",
     "shell.execute_reply": "2023-08-04T23:38:58.163646Z"
    },
    "papermill": {
     "duration": 0.009656,
     "end_time": "2023-08-04T23:38:58.165687",
     "exception": false,
     "start_time": "2023-08-04T23:38:58.156031",
     "status": "completed"
    },
    "tags": []
   },
   "outputs": [],
   "source": [
    "latest_date = pd.Timestamp.today().ceil('D')"
   ]
  },
  {
   "cell_type": "code",
   "execution_count": 3,
   "id": "8d3b40cc",
   "metadata": {
    "execution": {
     "iopub.execute_input": "2023-08-04T23:38:58.170889Z",
     "iopub.status.busy": "2023-08-04T23:38:58.170476Z",
     "iopub.status.idle": "2023-08-04T23:38:58.186067Z",
     "shell.execute_reply": "2023-08-04T23:38:58.185516Z"
    },
    "papermill": {
     "duration": 0.019962,
     "end_time": "2023-08-04T23:38:58.187565",
     "exception": false,
     "start_time": "2023-08-04T23:38:58.167603",
     "status": "completed"
    },
    "tags": []
   },
   "outputs": [],
   "source": [
    "tickets = pd.read_csv('../../../../data/metrics/events/tickets/orders.csv', parse_dates=['created_at', 'event_date'])\n",
    "tickets = tickets[tickets.event_date <= latest_date]"
   ]
  },
  {
   "cell_type": "code",
   "execution_count": 4,
   "id": "3167822c",
   "metadata": {
    "execution": {
     "iopub.execute_input": "2023-08-04T23:38:58.192594Z",
     "iopub.status.busy": "2023-08-04T23:38:58.192354Z",
     "iopub.status.idle": "2023-08-04T23:38:58.343879Z",
     "shell.execute_reply": "2023-08-04T23:38:58.343178Z"
    },
    "papermill": {
     "duration": 0.156449,
     "end_time": "2023-08-04T23:38:58.345980",
     "exception": false,
     "start_time": "2023-08-04T23:38:58.189531",
     "status": "completed"
    },
    "tags": []
   },
   "outputs": [],
   "source": [
    "events = load_event_data()\n",
    "\n",
    "events = pd.concat([\n",
    "  events,\n",
    "  events.pipe(get_first_ward).pipe(normalise_ward).fillna('UNKNOWN'),\n",
    "  pd.Series(\n",
    "      events.actual_audience_size_number_of_participants_in_person + events.actual_audience_size_number_of_participants_online,\n",
    "      name='attendances'\n",
    "  )\n",
    "], axis=1).rename(columns={\n",
    "    'start_date': 'date'\n",
    "}).loc[:, ['ward_code', 'date', 'event_unique_identifier', 'attendances']]"
   ]
  },
  {
   "cell_type": "code",
   "execution_count": 5,
   "id": "e63b410b",
   "metadata": {
    "execution": {
     "iopub.execute_input": "2023-08-04T23:38:58.352165Z",
     "iopub.status.busy": "2023-08-04T23:38:58.351702Z",
     "iopub.status.idle": "2023-08-04T23:38:58.355218Z",
     "shell.execute_reply": "2023-08-04T23:38:58.354583Z"
    },
    "papermill": {
     "duration": 0.008407,
     "end_time": "2023-08-04T23:38:58.356766",
     "exception": false,
     "start_time": "2023-08-04T23:38:58.348359",
     "status": "completed"
    },
    "tags": []
   },
   "outputs": [],
   "source": [
    "OUTPUT_DIR='../../../../docs/metrics/events/signature/_data/'\n",
    "os.makedirs(OUTPUT_DIR, exist_ok=True)"
   ]
  },
  {
   "cell_type": "markdown",
   "id": "9f744b08",
   "metadata": {
    "papermill": {
     "duration": 0.002032,
     "end_time": "2023-08-04T23:38:58.360814",
     "exception": false,
     "start_time": "2023-08-04T23:38:58.358782",
     "status": "completed"
    },
    "tags": []
   },
   "source": [
    "Events CSVs"
   ]
  },
  {
   "cell_type": "code",
   "execution_count": 6,
   "id": "5f1c9ce0",
   "metadata": {
    "execution": {
     "iopub.execute_input": "2023-08-04T23:38:58.365895Z",
     "iopub.status.busy": "2023-08-04T23:38:58.365507Z",
     "iopub.status.idle": "2023-08-04T23:38:58.372238Z",
     "shell.execute_reply": "2023-08-04T23:38:58.371698Z"
    },
    "papermill": {
     "duration": 0.010952,
     "end_time": "2023-08-04T23:38:58.373733",
     "exception": false,
     "start_time": "2023-08-04T23:38:58.362781",
     "status": "completed"
    },
    "tags": []
   },
   "outputs": [],
   "source": [
    "pd.DataFrame({\n",
    "  'events': events.groupby('ward_code').event_unique_identifier.count(),\n",
    "  'attendances': events.groupby('ward_code').attendances.sum().astype(int),\n",
    "}).to_csv(os.path.join(OUTPUT_DIR, 'events_by_ward.csv'))\n"
   ]
  },
  {
   "cell_type": "code",
   "execution_count": 7,
   "id": "3165f89d",
   "metadata": {
    "execution": {
     "iopub.execute_input": "2023-08-04T23:38:58.378923Z",
     "iopub.status.busy": "2023-08-04T23:38:58.378527Z",
     "iopub.status.idle": "2023-08-04T23:38:58.388715Z",
     "shell.execute_reply": "2023-08-04T23:38:58.388162Z"
    },
    "papermill": {
     "duration": 0.014486,
     "end_time": "2023-08-04T23:38:58.390237",
     "exception": false,
     "start_time": "2023-08-04T23:38:58.375751",
     "status": "completed"
    },
    "tags": []
   },
   "outputs": [],
   "source": [
    "pd.DataFrame({\n",
    "  'events': events.groupby('date').event_unique_identifier.count(),\n",
    "  'attendances': events.groupby('date').attendances.sum().astype(int),\n",
    "}).resample('M').sum().astype(int).to_csv(os.path.join(OUTPUT_DIR, 'events_by_date.csv'))"
   ]
  },
  {
   "cell_type": "markdown",
   "id": "5ca5db70",
   "metadata": {
    "papermill": {
     "duration": 0.002089,
     "end_time": "2023-08-04T23:38:58.394355",
     "exception": false,
     "start_time": "2023-08-04T23:38:58.392266",
     "status": "completed"
    },
    "tags": []
   },
   "source": [
    "Tickets CSV"
   ]
  },
  {
   "cell_type": "code",
   "execution_count": 8,
   "id": "a2c7515f",
   "metadata": {
    "execution": {
     "iopub.execute_input": "2023-08-04T23:38:58.399709Z",
     "iopub.status.busy": "2023-08-04T23:38:58.399128Z",
     "iopub.status.idle": "2023-08-04T23:38:58.405519Z",
     "shell.execute_reply": "2023-08-04T23:38:58.404975Z"
    },
    "papermill": {
     "duration": 0.010633,
     "end_time": "2023-08-04T23:38:58.407011",
     "exception": false,
     "start_time": "2023-08-04T23:38:58.396378",
     "status": "completed"
    },
    "tags": []
   },
   "outputs": [],
   "source": [
    "pd.DataFrame({\n",
    "  'orders': tickets.groupby('ward_code').number_of_tickets.count(),\n",
    "  'tickets': tickets.groupby('ward_code').number_of_tickets.sum().astype(int),\n",
    "}).to_csv(os.path.join(OUTPUT_DIR, 'tickets_by_ward.csv'))"
   ]
  },
  {
   "cell_type": "code",
   "execution_count": 9,
   "id": "2152e7cd",
   "metadata": {
    "execution": {
     "iopub.execute_input": "2023-08-04T23:38:58.412357Z",
     "iopub.status.busy": "2023-08-04T23:38:58.411838Z",
     "iopub.status.idle": "2023-08-04T23:38:58.419253Z",
     "shell.execute_reply": "2023-08-04T23:38:58.418715Z"
    },
    "papermill": {
     "duration": 0.011617,
     "end_time": "2023-08-04T23:38:58.420715",
     "exception": false,
     "start_time": "2023-08-04T23:38:58.409098",
     "status": "completed"
    },
    "tags": []
   },
   "outputs": [],
   "source": [
    "pd.DataFrame({\n",
    "  'orders': tickets.groupby('event_date').number_of_tickets.count(),\n",
    "  'tickets': tickets.groupby('event_date').number_of_tickets.sum().astype(int),\n",
    "}).resample('M').sum().to_csv(os.path.join(OUTPUT_DIR, 'tickets_by_event_date.csv'))"
   ]
  },
  {
   "cell_type": "code",
   "execution_count": 10,
   "id": "e45e91e4",
   "metadata": {
    "execution": {
     "iopub.execute_input": "2023-08-04T23:38:58.427123Z",
     "iopub.status.busy": "2023-08-04T23:38:58.426723Z",
     "iopub.status.idle": "2023-08-04T23:38:58.431759Z",
     "shell.execute_reply": "2023-08-04T23:38:58.431146Z"
    },
    "papermill": {
     "duration": 0.010377,
     "end_time": "2023-08-04T23:38:58.433198",
     "exception": false,
     "start_time": "2023-08-04T23:38:58.422821",
     "status": "completed"
    },
    "tags": []
   },
   "outputs": [],
   "source": [
    "pd.Series({\n",
    "    'total_events': events.event_unique_identifier.count(),\n",
    "    'total_attendances': events.attendances.count(),\n",
    "    'first_event': events.date.min(),\n",
    "    'latest_event': events.date.max(),\n",
    "    'total_ticket_orders_for_events_to_date': tickets.number_of_tickets.count(),\n",
    "    'total_tickets_sold_for_events_to_date': tickets.number_of_tickets.sum(),\n",
    "}).to_json(os.path.join(OUTPUT_DIR, 'headlines.json'), indent=2)"
   ]
  },
  {
   "cell_type": "code",
   "execution_count": null,
   "id": "ba655b10",
   "metadata": {
    "papermill": {
     "duration": 0.002089,
     "end_time": "2023-08-04T23:38:58.437403",
     "exception": false,
     "start_time": "2023-08-04T23:38:58.435314",
     "status": "completed"
    },
    "tags": []
   },
   "outputs": [],
   "source": []
  }
 ],
 "metadata": {
  "kernelspec": {
   "display_name": "leeds-2023-YZF5GfJv",
   "language": "python",
   "name": "python3"
  },
  "language_info": {
   "codemirror_mode": {
    "name": "ipython",
    "version": 3
   },
   "file_extension": ".py",
   "mimetype": "text/x-python",
   "name": "python",
   "nbconvert_exporter": "python",
   "pygments_lexer": "ipython3",
   "version": "3.10.6"
  },
  "papermill": {
   "default_parameters": {},
   "duration": 11.925708,
   "end_time": "2023-08-04T23:38:58.756112",
   "environment_variables": {},
   "exception": null,
   "input_path": "prepare.ipynb",
   "output_path": "../../../../working/output/signature-prepare.ipynb",
   "parameters": {},
   "start_time": "2023-08-04T23:38:46.830404",
   "version": "2.4.0"
  }
 },
 "nbformat": 4,
 "nbformat_minor": 5
}