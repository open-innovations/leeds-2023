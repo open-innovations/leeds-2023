{
 "cells": [
  {
   "cell_type": "code",
   "execution_count": 36,
   "metadata": {},
   "outputs": [],
   "source": [
    "import sys\n",
    "from pathlib import Path\n",
    "\n",
    "import pandas as pd\n",
    "import os\n",
    "\n",
    "TOP_DIR = Path('../../../').resolve()\n",
    "\n",
    "if str(TOP_DIR) not in sys.path: sys.path.append(str(TOP_DIR))"
   ]
  },
  {
   "cell_type": "code",
   "execution_count": 3,
   "metadata": {},
   "outputs": [],
   "source": [
    "from lib.util.geo import postcode_formatter, postcode_to_ward_code"
   ]
  },
  {
   "cell_type": "code",
   "execution_count": 4,
   "metadata": {},
   "outputs": [],
   "source": [
    "data = pd.read_csv(\n",
    "    '../../../working/metrics/partnerships/all.csv',\n",
    "    parse_dates=['Start date', 'End date'],\n",
    "    usecols=[\n",
    "        # 'Partner Lead Contact',\n",
    "        'Partner Organisation',\n",
    "        'List of countries involved',\n",
    "        'End date',\n",
    "        # 'Baseline survey completed by partner',\n",
    "        'Start date',\n",
    "        'Partner Venue Postcode',\n",
    "        # 'Notes',\n",
    "        'Partnership Status',\n",
    "        'Project Artform',\n",
    "        # 'Project Description',\n",
    "        'Project Name',\n",
    "        # 'Offered SAIL training',\n",
    "        'Project Output',\n",
    "        # 'L23 economic contribution',\n",
    "        'International element to project?',\n",
    "        'Online/in person/both',\n",
    "        'Number of countries involved',\n",
    "        'Season',\n",
    "        # 'Partner Venue Name',\n",
    "        # 'Contract signed by partner',\n",
    "        'Duration of activity/event',\n",
    "        # 'LEEDS 2023 Assignee.id',\n",
    "        # 'LEEDS 2023 Assignee.email',\n",
    "        # 'LEEDS 2023 Assignee.name',\n",
    "        # 'Last Modified By.id',\n",
    "        # 'Last Modified By.email',\n",
    "        # 'Last Modified By.name',\n",
    "        # 'Activity log completed by partner',\n",
    "        # 'Final survey completed by partner',\n",
    "        # 'Number of unique countries',\n",
    "        'Contains heritage, young people',\n",
    "        # 'Total budget',\n",
    "        'Digital audiences',\n",
    "        'Audience numbers',\n",
    "        'number of participants',\n",
    "        'Total number of events'\n",
    "    ]\n",
    ")"
   ]
  },
  {
   "cell_type": "code",
   "execution_count": 5,
   "metadata": {},
   "outputs": [
    {
     "data": {
      "text/plain": [
       "['Partner Organisation',\n",
       " 'List of countries involved',\n",
       " 'End date',\n",
       " 'Start date',\n",
       " 'Partner Venue Postcode',\n",
       " 'Partnership Status',\n",
       " 'Project Artform',\n",
       " 'Project Name',\n",
       " 'Project Output',\n",
       " 'International element to project?',\n",
       " 'Online/in person/both',\n",
       " 'Number of countries involved',\n",
       " 'Season',\n",
       " 'Duration of activity/event',\n",
       " 'Contains heritage, young people',\n",
       " 'Digital audiences',\n",
       " 'Audience numbers',\n",
       " 'number of participants',\n",
       " 'Total number of events']"
      ]
     },
     "execution_count": 5,
     "metadata": {},
     "output_type": "execute_result"
    }
   ],
   "source": [
    "data.columns.to_list()"
   ]
  },
  {
   "cell_type": "code",
   "execution_count": 6,
   "metadata": {},
   "outputs": [],
   "source": [
    "data.columns = data.columns.str.strip().str.lower().str.replace(r'[^a-z0-9]+', '_', regex=True)"
   ]
  },
  {
   "cell_type": "code",
   "execution_count": 7,
   "metadata": {},
   "outputs": [],
   "source": [
    "data['partner_venue_ward_code'] = data['partner_venue_postcode'].pipe(postcode_formatter).map(postcode_to_ward_code)"
   ]
  },
  {
   "cell_type": "code",
   "execution_count": 8,
   "metadata": {},
   "outputs": [],
   "source": [
    "data['list_of_countries_involved'] = (\n",
    "  data['list_of_countries_involved']\n",
    "    .str.strip()\n",
    "    .str.replace('[\\.]', '', regex=True)\n",
    "    .str.replace(r'[\\n]+|\\s*,\\s*', '|', regex=True)\n",
    "    .str.replace('The Netherlands','Netherlands')\n",
    "    .str.strip('|')\n",
    "    .str.split('|')\n",
    ")\n"
   ]
  },
  {
   "cell_type": "code",
   "execution_count": 14,
   "metadata": {},
   "outputs": [
    {
     "name": "stdout",
     "output_type": "stream",
     "text": [
      "                   partner_organisation list_of_countries_involved   end_date  \\\n",
      "0                     Leeds Art Gallery                    [Italy] 2023-10-05   \n",
      "1                    Somone (Band Name)              [Netherlands] 2023-10-17   \n",
      "2              The Performance Ensemble         [China, Hong Kong] 2023-05-06   \n",
      "3   Leeds Art Gallery & Yorkshire Dance              [Netherlands] 2023-12-10   \n",
      "4                        Daily Lift Ltd                        NaN 2023-12-17   \n",
      "..                                  ...                        ...        ...   \n",
      "61                     East Street Arts              [Netherlands] 2023-01-20   \n",
      "62                        Sunken Studio              [Netherlands] 2023-10-20   \n",
      "63               Rugby League World Cup                        NaN 2023-09-28   \n",
      "64                          Opera North             [South Africa] 2023-04-29   \n",
      "65                               LS-TEN              [Netherlands] 2023-05-21   \n",
      "\n",
      "   start_date partner_venue_postcode partnership_status project_artform  \\\n",
      "0  2023-10-05                LS1 6NU        In progress           Music   \n",
      "1  2023-10-17               LS28 5UJ               Done           Music   \n",
      "2  2023-04-24                LS2 7UP        In progress   Combined arts   \n",
      "3  2023-12-08                LS1 3AA        In progress           Dance   \n",
      "4  2023-12-13               LS10 1JQ        In progress   Combined arts   \n",
      "..        ...                    ...                ...             ...   \n",
      "61 2023-01-16                LS9 7EH               Done   Combined arts   \n",
      "62 2023-12-01                LS101AW        In progress   Combined arts   \n",
      "63 2022-10-13                 M3 4AP               Done   Combined arts   \n",
      "64 2023-03-30                LS2 7AU        In progress           Music   \n",
      "65 2023-05-19               LS10 1NT               Done   Combined arts   \n",
      "\n",
      "                                         project_name  \\\n",
      "0          Leeds Art Gallery: Sonia Boyce (HAR Event)   \n",
      "1                         Someone at The Old Woollen    \n",
      "2   The Performance Ensemble: 1001 Stories & Sinfo...   \n",
      "3   MEET LEEDS LAB: Katjia Heitmann: Motus Mori Co...   \n",
      "4                       Daily Life Ltd: EPIC DOMESTIC   \n",
      "..                                                ...   \n",
      "61                       MEET LEEDS LAB: January 2023   \n",
      "62   MEET LEEDS LAB: Archie Hyde (Artistic Residency)   \n",
      "63                        Rugby League World Cup 2021   \n",
      "64                           Opera North: As You Are    \n",
      "65                              LS-TEN: Northern Roll   \n",
      "\n",
      "                                       project_output  \\\n",
      "0                                     ['Performance']   \n",
      "1                                     ['Performance']   \n",
      "2   ['Performance', 'Exhibition', 'Workshop', 'Oth...   \n",
      "3                         ['Performance', 'Workshop']   \n",
      "4                         ['Performance', 'Workshop']   \n",
      "..                                                ...   \n",
      "61                                      ['Residency']   \n",
      "62                                      ['Residency']   \n",
      "63  ['Performance', 'Pop-up', 'Public Artwork (scu...   \n",
      "64                                    ['Performance']   \n",
      "65              ['Performance', 'Workshop', 'Other ']   \n",
      "\n",
      "   international_element_to_project_ online_in_person_both  \\\n",
      "0                               True             In person   \n",
      "1                               True             In person   \n",
      "2                               True             In person   \n",
      "3                               True             In person   \n",
      "4                                NaN             In person   \n",
      "..                               ...                   ...   \n",
      "61                              True             In person   \n",
      "62                              True             In person   \n",
      "63                               NaN             In person   \n",
      "64                              True             In person   \n",
      "65                              True             In person   \n",
      "\n",
      "    number_of_countries_involved                      season  \\\n",
      "0                            1.0   Dreaming (1 Sep - 31 Dec)   \n",
      "1                            1.0   Dreaming (1 Sep - 31 Dec)   \n",
      "2                            2.0  Awakening (1 Jan - 30 Apr)   \n",
      "3                            1.0   Dreaming (1 Sep - 31 Dec)   \n",
      "4                            0.0   Dreaming (1 Sep - 31 Dec)   \n",
      "..                           ...                         ...   \n",
      "61                           1.0  Awakening (1 Jan - 30 Apr)   \n",
      "62                           1.0   Dreaming (1 Sep - 31 Dec)   \n",
      "63                           0.0                        2022   \n",
      "64                           1.0  Awakening (1 Jan - 30 Apr)   \n",
      "65                           1.0    Playing (1 May - 31 Aug)   \n",
      "\n",
      "         duration_of_activity_event contains_heritage_young_people  \\\n",
      "0        ['One off event/activity']                            NaN   \n",
      "1        ['One off event/activity']                            NaN   \n",
      "2   ['Series of events/activities']                            NaN   \n",
      "3   ['Series of events/activities']                            NaN   \n",
      "4   ['Series of events/activities']                            NaN   \n",
      "..                              ...                            ...   \n",
      "61  ['Series of events/activities']                            NaN   \n",
      "62  ['Series of events/activities']                            NaN   \n",
      "63  ['Series of events/activities']               ['Young people']   \n",
      "64  ['Series of events/activities']                            NaN   \n",
      "65  ['Series of events/activities']               ['Young people']   \n",
      "\n",
      "    digital_audiences  audience_numbers  number_of_participants  \\\n",
      "0                 NaN               NaN                     NaN   \n",
      "1                 NaN               NaN                     NaN   \n",
      "2                 NaN               NaN                     NaN   \n",
      "3                 NaN               NaN                     NaN   \n",
      "4                 NaN               NaN                     NaN   \n",
      "..                ...               ...                     ...   \n",
      "61                NaN              62.0                     9.0   \n",
      "62                NaN               NaN                     NaN   \n",
      "63                NaN               NaN                     NaN   \n",
      "64                NaN            1966.0                     NaN   \n",
      "65                NaN               NaN                   512.0   \n",
      "\n",
      "    total_number_of_events partner_venue_ward_code  \n",
      "0                      NaN               E05011403  \n",
      "1                      NaN               E05011389  \n",
      "2                      NaN               E05011403  \n",
      "3                      NaN               E05011403  \n",
      "4                      NaN               E05011399  \n",
      "..                     ...                     ...  \n",
      "61                     NaN               E05011388  \n",
      "62                     1.0               E05011399  \n",
      "63                     NaN               E05011361  \n",
      "64                     NaN               E05011403  \n",
      "65                     NaN               E05011399  \n",
      "\n",
      "[66 rows x 20 columns]\n"
     ]
    }
   ],
   "source": [
    "data['number_of_countries_involved'] = data.loc[data.list_of_countries_involved.notna(), 'list_of_countries_involved'].map(len)\n",
    "data['number_of_countries_involved'].fillna(0, inplace=True)"
   ]
  },
  {
   "cell_type": "code",
   "execution_count": 10,
   "metadata": {},
   "outputs": [],
   "source": [
    "OUTPUT_DIR = Path('../../../docs/_data/metrics/partnerships')\n",
    "OUTPUT_DIR.mkdir(parents=True, exist_ok=True)"
   ]
  },
  {
   "cell_type": "code",
   "execution_count": 11,
   "metadata": {},
   "outputs": [],
   "source": [
    "data.to_csv(\n",
    "  OUTPUT_DIR.joinpath('partnerships.csv'),\n",
    "  index=False\n",
    ")"
   ]
  },
  {
   "cell_type": "markdown",
   "metadata": {},
   "source": [
    "Create summary by country"
   ]
  },
  {
   "cell_type": "code",
   "execution_count": null,
   "metadata": {},
   "outputs": [],
   "source": [
    "# data.loc[data.list_of_countries_involved.notna(), 'list_of_countries_involved'].explode().drop_duplicates().sort_values().reset_index(drop=True).to_frame('unique_countries').to_csv(OUTPUT_DIR.joinpath('countries.csv'), index=False)"
   ]
  },
  {
   "cell_type": "code",
   "execution_count": 84,
   "metadata": {},
   "outputs": [],
   "source": [
    "COUNTRIES_REF = '../../../data/reference'\n",
    "country_codes = pd.read_csv(os.path.join(COUNTRIES_REF, 'country_codes.csv'))\n",
    "country_codes = country_codes.set_index('NAME_LONG')\n",
    "\n",
    "countries = data.rename(columns={'list_of_countries_involved':'countries'}).countries.explode().reset_index().groupby(['countries'])['countries'].count().to_frame('number_of_partners')\n",
    "\n",
    "combined = pd.merge(countries,country_codes,left_on='countries',right_index=True).to_csv(OUTPUT_DIR.joinpath('countries.csv'))"
   ]
  },
  {
   "cell_type": "code",
   "execution_count": null,
   "metadata": {},
   "outputs": [],
   "source": []
  }
 ],
 "metadata": {
  "kernelspec": {
   "display_name": "leeds-2023-YZF5GfJv",
   "language": "python",
   "name": "python3"
  },
  "language_info": {
   "codemirror_mode": {
    "name": "ipython",
    "version": 3
   },
   "file_extension": ".py",
   "mimetype": "text/x-python",
   "name": "python",
   "nbconvert_exporter": "python",
   "pygments_lexer": "ipython3",
   "version": "3.10.12"
  },
  "orig_nbformat": 4
 },
 "nbformat": 4,
 "nbformat_minor": 2
}
