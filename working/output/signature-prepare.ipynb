{
 "cells": [
  {
   "cell_type": "code",
   "execution_count": 1,
   "id": "76918420",
   "metadata": {
    "execution": {
     "iopub.execute_input": "2023-12-14T23:39:57.088882Z",
     "iopub.status.busy": "2023-12-14T23:39:57.088625Z",
     "iopub.status.idle": "2023-12-14T23:40:04.458771Z",
     "shell.execute_reply": "2023-12-14T23:40:04.458098Z"
    },
    "papermill": {
     "duration": 7.375354,
     "end_time": "2023-12-14T23:40:04.460489",
     "exception": false,
     "start_time": "2023-12-14T23:39:57.085135",
     "status": "completed"
    },
    "tags": []
   },
   "outputs": [],
   "source": [
    "import os\n",
    "import pandas as pd\n",
    "from events import load_event_data, get_first_ward, normalise_ward"
   ]
  },
  {
   "cell_type": "code",
   "execution_count": 2,
   "id": "8f3bc74f",
   "metadata": {
    "execution": {
     "iopub.execute_input": "2023-12-14T23:40:04.465879Z",
     "iopub.status.busy": "2023-12-14T23:40:04.465378Z",
     "iopub.status.idle": "2023-12-14T23:40:04.468943Z",
     "shell.execute_reply": "2023-12-14T23:40:04.468355Z"
    },
    "papermill": {
     "duration": 0.007483,
     "end_time": "2023-12-14T23:40:04.470225",
     "exception": false,
     "start_time": "2023-12-14T23:40:04.462742",
     "status": "completed"
    },
    "tags": []
   },
   "outputs": [],
   "source": [
    "latest_date = pd.Timestamp.today().ceil('D')"
   ]
  },
  {
   "cell_type": "code",
   "execution_count": 3,
   "id": "02f23e4d",
   "metadata": {
    "execution": {
     "iopub.execute_input": "2023-12-14T23:40:04.475032Z",
     "iopub.status.busy": "2023-12-14T23:40:04.474601Z",
     "iopub.status.idle": "2023-12-14T23:40:04.489676Z",
     "shell.execute_reply": "2023-12-14T23:40:04.489026Z"
    },
    "papermill": {
     "duration": 0.018983,
     "end_time": "2023-12-14T23:40:04.491028",
     "exception": false,
     "start_time": "2023-12-14T23:40:04.472045",
     "status": "completed"
    },
    "tags": []
   },
   "outputs": [],
   "source": [
    "tickets = pd.read_csv('../../../../data/metrics/events/tickets/orders.csv', parse_dates=['created_at', 'event_date'])\n",
    "tickets = tickets[tickets.event_date <= latest_date]"
   ]
  },
  {
   "cell_type": "code",
   "execution_count": 4,
   "id": "488289a6",
   "metadata": {
    "execution": {
     "iopub.execute_input": "2023-12-14T23:40:04.495650Z",
     "iopub.status.busy": "2023-12-14T23:40:04.495419Z",
     "iopub.status.idle": "2023-12-14T23:40:04.550965Z",
     "shell.execute_reply": "2023-12-14T23:40:04.550374Z"
    },
    "papermill": {
     "duration": 0.059685,
     "end_time": "2023-12-14T23:40:04.552557",
     "exception": false,
     "start_time": "2023-12-14T23:40:04.492872",
     "status": "completed"
    },
    "tags": []
   },
   "outputs": [],
   "source": [
    "events = load_event_data()\n",
    "\n",
    "events = pd.concat([\n",
    "  events,\n",
    "  events.pipe(get_first_ward).pipe(normalise_ward).fillna('UNKNOWN'),\n",
    "  pd.Series(\n",
    "      events.actual_audience_size_number_of_participants_in_person + events.actual_audience_size_number_of_participants_online,\n",
    "      name='attendances'\n",
    "  )\n",
    "], axis=1).rename(columns={\n",
    "    'start_date': 'date'\n",
    "}).loc[:, ['ward_code', 'date', 'event_unique_identifier', 'attendances']]"
   ]
  },
  {
   "cell_type": "code",
   "execution_count": 5,
   "id": "da7774b2",
   "metadata": {
    "execution": {
     "iopub.execute_input": "2023-12-14T23:40:04.557748Z",
     "iopub.status.busy": "2023-12-14T23:40:04.557351Z",
     "iopub.status.idle": "2023-12-14T23:40:04.560727Z",
     "shell.execute_reply": "2023-12-14T23:40:04.560157Z"
    },
    "papermill": {
     "duration": 0.007285,
     "end_time": "2023-12-14T23:40:04.561956",
     "exception": false,
     "start_time": "2023-12-14T23:40:04.554671",
     "status": "completed"
    },
    "tags": []
   },
   "outputs": [],
   "source": [
    "OUTPUT_DIR='../../../../docs/metrics/events/signature/_data/'\n",
    "os.makedirs(OUTPUT_DIR, exist_ok=True)"
   ]
  },
  {
   "cell_type": "markdown",
   "id": "af313ddf",
   "metadata": {
    "papermill": {
     "duration": 0.001987,
     "end_time": "2023-12-14T23:40:04.565977",
     "exception": false,
     "start_time": "2023-12-14T23:40:04.563990",
     "status": "completed"
    },
    "tags": []
   },
   "source": [
    "Events CSVs"
   ]
  },
  {
   "cell_type": "code",
   "execution_count": 6,
   "id": "df4235f6",
   "metadata": {
    "execution": {
     "iopub.execute_input": "2023-12-14T23:40:04.570774Z",
     "iopub.status.busy": "2023-12-14T23:40:04.570431Z",
     "iopub.status.idle": "2023-12-14T23:40:04.576805Z",
     "shell.execute_reply": "2023-12-14T23:40:04.576179Z"
    },
    "papermill": {
     "duration": 0.010404,
     "end_time": "2023-12-14T23:40:04.578288",
     "exception": false,
     "start_time": "2023-12-14T23:40:04.567884",
     "status": "completed"
    },
    "tags": []
   },
   "outputs": [],
   "source": [
    "pd.DataFrame({\n",
    "  'events': events.groupby('ward_code').event_unique_identifier.count(),\n",
    "  'attendances': events.groupby('ward_code').attendances.sum().astype(int),\n",
    "}).to_csv(os.path.join(OUTPUT_DIR, 'events_by_ward.csv'))\n"
   ]
  },
  {
   "cell_type": "code",
   "execution_count": 7,
   "id": "9db1b1ef",
   "metadata": {
    "execution": {
     "iopub.execute_input": "2023-12-14T23:40:04.583093Z",
     "iopub.status.busy": "2023-12-14T23:40:04.582751Z",
     "iopub.status.idle": "2023-12-14T23:40:04.590420Z",
     "shell.execute_reply": "2023-12-14T23:40:04.589888Z"
    },
    "papermill": {
     "duration": 0.011466,
     "end_time": "2023-12-14T23:40:04.591688",
     "exception": false,
     "start_time": "2023-12-14T23:40:04.580222",
     "status": "completed"
    },
    "tags": []
   },
   "outputs": [],
   "source": [
    "pd.DataFrame({\n",
    "  'events': events.groupby('date').event_unique_identifier.count(),\n",
    "  'attendances': events.groupby('date').attendances.sum().astype(int),\n",
    "}).resample('M').sum().astype(int).to_csv(os.path.join(OUTPUT_DIR, 'events_by_date.csv'))"
   ]
  },
  {
   "cell_type": "markdown",
   "id": "681844ef",
   "metadata": {
    "papermill": {
     "duration": 0.002662,
     "end_time": "2023-12-14T23:40:04.596294",
     "exception": false,
     "start_time": "2023-12-14T23:40:04.593632",
     "status": "completed"
    },
    "tags": []
   },
   "source": [
    "Tickets CSV"
   ]
  },
  {
   "cell_type": "code",
   "execution_count": 8,
   "id": "20d65a97",
   "metadata": {
    "execution": {
     "iopub.execute_input": "2023-12-14T23:40:04.601193Z",
     "iopub.status.busy": "2023-12-14T23:40:04.600826Z",
     "iopub.status.idle": "2023-12-14T23:40:04.606958Z",
     "shell.execute_reply": "2023-12-14T23:40:04.606357Z"
    },
    "papermill": {
     "duration": 0.010047,
     "end_time": "2023-12-14T23:40:04.608305",
     "exception": false,
     "start_time": "2023-12-14T23:40:04.598258",
     "status": "completed"
    },
    "tags": []
   },
   "outputs": [],
   "source": [
    "pd.DataFrame({\n",
    "  'orders': tickets.groupby('ward_code').number_of_tickets.count(),\n",
    "  'tickets': tickets.groupby('ward_code').number_of_tickets.sum().astype(int),\n",
    "}).to_csv(os.path.join(OUTPUT_DIR, 'tickets_by_ward.csv'))"
   ]
  },
  {
   "cell_type": "code",
   "execution_count": 9,
   "id": "fc6b6892",
   "metadata": {
    "execution": {
     "iopub.execute_input": "2023-12-14T23:40:04.613485Z",
     "iopub.status.busy": "2023-12-14T23:40:04.612982Z",
     "iopub.status.idle": "2023-12-14T23:40:04.619761Z",
     "shell.execute_reply": "2023-12-14T23:40:04.619156Z"
    },
    "papermill": {
     "duration": 0.01094,
     "end_time": "2023-12-14T23:40:04.621262",
     "exception": false,
     "start_time": "2023-12-14T23:40:04.610322",
     "status": "completed"
    },
    "tags": []
   },
   "outputs": [],
   "source": [
    "pd.DataFrame({\n",
    "  'orders': tickets.groupby('event_date').number_of_tickets.count(),\n",
    "  'tickets': tickets.groupby('event_date').number_of_tickets.sum().astype(int),\n",
    "}).resample('M').sum().to_csv(os.path.join(OUTPUT_DIR, 'tickets_by_event_date.csv'))"
   ]
  },
  {
   "cell_type": "code",
   "execution_count": 10,
   "id": "d45b221c",
   "metadata": {
    "execution": {
     "iopub.execute_input": "2023-12-14T23:40:04.626283Z",
     "iopub.status.busy": "2023-12-14T23:40:04.626061Z",
     "iopub.status.idle": "2023-12-14T23:40:04.631018Z",
     "shell.execute_reply": "2023-12-14T23:40:04.630487Z"
    },
    "papermill": {
     "duration": 0.008994,
     "end_time": "2023-12-14T23:40:04.632303",
     "exception": false,
     "start_time": "2023-12-14T23:40:04.623309",
     "status": "completed"
    },
    "tags": []
   },
   "outputs": [],
   "source": [
    "pd.Series({\n",
    "    'total_events': events.event_unique_identifier.count(),\n",
    "    'total_attendances': events.attendances.count(),\n",
    "    'first_event': events.date.min(),\n",
    "    'latest_event': events.date.max(),\n",
    "    'total_ticket_orders_for_events_to_date': tickets.number_of_tickets.count(),\n",
    "    'total_tickets_sold_for_events_to_date': tickets.number_of_tickets.sum(),\n",
    "}).to_json(os.path.join(OUTPUT_DIR, 'headlines.json'), indent=2)"
   ]
  },
  {
   "cell_type": "code",
   "execution_count": null,
   "id": "2890987e",
   "metadata": {
    "papermill": {
     "duration": 0.001965,
     "end_time": "2023-12-14T23:40:04.636328",
     "exception": false,
     "start_time": "2023-12-14T23:40:04.634363",
     "status": "completed"
    },
    "tags": []
   },
   "outputs": [],
   "source": []
  }
 ],
 "metadata": {
  "kernelspec": {
   "display_name": "leeds-2023-YZF5GfJv",
   "language": "python",
   "name": "python3"
  },
  "language_info": {
   "codemirror_mode": {
    "name": "ipython",
    "version": 3
   },
   "file_extension": ".py",
   "mimetype": "text/x-python",
   "name": "python",
   "nbconvert_exporter": "python",
   "pygments_lexer": "ipython3",
   "version": "3.10.13"
  },
  "papermill": {
   "default_parameters": {},
   "duration": 9.01252,
   "end_time": "2023-12-14T23:40:04.854815",
   "environment_variables": {},
   "exception": null,
   "input_path": "prepare.ipynb",
   "output_path": "../../../../working/output/signature-prepare.ipynb",
   "parameters": {},
   "start_time": "2023-12-14T23:39:55.842295",
   "version": "2.4.0"
  }
 },
 "nbformat": 4,
 "nbformat_minor": 5
}