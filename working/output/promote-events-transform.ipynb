{
 "cells": [
  {
   "cell_type": "code",
   "execution_count": 1,
   "id": "094ff972",
   "metadata": {
    "execution": {
     "iopub.execute_input": "2023-07-30T23:39:05.997568Z",
     "iopub.status.busy": "2023-07-30T23:39:05.996919Z",
     "iopub.status.idle": "2023-07-30T23:39:06.225354Z",
     "shell.execute_reply": "2023-07-30T23:39:06.224733Z"
    },
    "papermill": {
     "duration": 0.233032,
     "end_time": "2023-07-30T23:39:06.227076",
     "exception": false,
     "start_time": "2023-07-30T23:39:05.994044",
     "status": "completed"
    },
    "tags": []
   },
   "outputs": [],
   "source": [
    "import os\n",
    "import pandas as pd"
   ]
  },
  {
   "cell_type": "code",
   "execution_count": 2,
   "id": "26a1b39d",
   "metadata": {
    "execution": {
     "iopub.execute_input": "2023-07-30T23:39:06.231126Z",
     "iopub.status.busy": "2023-07-30T23:39:06.230633Z",
     "iopub.status.idle": "2023-07-30T23:39:06.233959Z",
     "shell.execute_reply": "2023-07-30T23:39:06.233340Z"
    },
    "papermill": {
     "duration": 0.00687,
     "end_time": "2023-07-30T23:39:06.235407",
     "exception": false,
     "start_time": "2023-07-30T23:39:06.228537",
     "status": "completed"
    },
    "tags": []
   },
   "outputs": [],
   "source": [
    "EVENTS_RAW_DATA = '../../../working/metrics/promote-events/events.csv'\n",
    "DATA_DIR = '../../../data/metrics/events/promote-events/'\n",
    "EVENTS_DATA = os.path.join(DATA_DIR, 'events.csv')"
   ]
  },
  {
   "cell_type": "code",
   "execution_count": 3,
   "id": "84761e64",
   "metadata": {
    "execution": {
     "iopub.execute_input": "2023-07-30T23:39:06.238876Z",
     "iopub.status.busy": "2023-07-30T23:39:06.238397Z",
     "iopub.status.idle": "2023-07-30T23:39:06.241619Z",
     "shell.execute_reply": "2023-07-30T23:39:06.241012Z"
    },
    "papermill": {
     "duration": 0.006605,
     "end_time": "2023-07-30T23:39:06.243150",
     "exception": false,
     "start_time": "2023-07-30T23:39:06.236545",
     "status": "completed"
    },
    "tags": []
   },
   "outputs": [],
   "source": [
    "columns = {\n",
    "    'id': 'id',\n",
    "    'name': 'name',\n",
    "    'locationName': 'location',\n",
    "    'cardPrice': 'card_price',\n",
    "    'timeslots': 'time',\n",
    "    'displayOnWebsite': 'display',\n",
    "    'Stage': 'stage',\n",
    "}"
   ]
  },
  {
   "cell_type": "code",
   "execution_count": 4,
   "id": "52263b1f",
   "metadata": {
    "execution": {
     "iopub.execute_input": "2023-07-30T23:39:06.246487Z",
     "iopub.status.busy": "2023-07-30T23:39:06.246164Z",
     "iopub.status.idle": "2023-07-30T23:39:06.258836Z",
     "shell.execute_reply": "2023-07-30T23:39:06.258298Z"
    },
    "papermill": {
     "duration": 0.015941,
     "end_time": "2023-07-30T23:39:06.260253",
     "exception": false,
     "start_time": "2023-07-30T23:39:06.244312",
     "status": "completed"
    },
    "tags": []
   },
   "outputs": [],
   "source": [
    "data = pd.read_csv(EVENTS_RAW_DATA)[columns.keys()].rename(columns=columns)\n",
    "data.time = pd.to_datetime(data.time, errors='coerce')"
   ]
  },
  {
   "cell_type": "code",
   "execution_count": 5,
   "id": "a672c5a5",
   "metadata": {
    "execution": {
     "iopub.execute_input": "2023-07-30T23:39:06.264868Z",
     "iopub.status.busy": "2023-07-30T23:39:06.264309Z",
     "iopub.status.idle": "2023-07-30T23:39:06.271895Z",
     "shell.execute_reply": "2023-07-30T23:39:06.271364Z"
    },
    "papermill": {
     "duration": 0.01181,
     "end_time": "2023-07-30T23:39:06.273259",
     "exception": false,
     "start_time": "2023-07-30T23:39:06.261449",
     "status": "completed"
    },
    "tags": []
   },
   "outputs": [],
   "source": [
    "data.to_csv(os.path.join(DATA_DIR, 'events.csv'), index=False)"
   ]
  }
 ],
 "metadata": {
  "kernelspec": {
   "display_name": "leeds-2023-YZF5GfJv",
   "language": "python",
   "name": "python3"
  },
  "language_info": {
   "codemirror_mode": {
    "name": "ipython",
    "version": 3
   },
   "file_extension": ".py",
   "mimetype": "text/x-python",
   "name": "python",
   "nbconvert_exporter": "python",
   "pygments_lexer": "ipython3",
   "version": "3.10.6"
  },
  "papermill": {
   "default_parameters": {},
   "duration": 1.86533,
   "end_time": "2023-07-30T23:39:06.489933",
   "environment_variables": {},
   "exception": null,
   "input_path": "transform.ipynb",
   "output_path": "../../../working/output/promote-events-transform.ipynb",
   "parameters": {},
   "start_time": "2023-07-30T23:39:04.624603",
   "version": "2.4.0"
  }
 },
 "nbformat": 4,
 "nbformat_minor": 5
}