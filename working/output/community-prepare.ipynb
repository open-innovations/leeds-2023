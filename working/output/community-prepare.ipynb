{
 "cells": [
  {
   "cell_type": "code",
   "execution_count": 1,
   "id": "05f8f704",
   "metadata": {
    "execution": {
     "iopub.execute_input": "2023-09-19T23:40:16.011361Z",
     "iopub.status.busy": "2023-09-19T23:40:16.010720Z",
     "iopub.status.idle": "2023-09-19T23:40:16.281634Z",
     "shell.execute_reply": "2023-09-19T23:40:16.280878Z"
    },
    "papermill": {
     "duration": 0.27754,
     "end_time": "2023-09-19T23:40:16.283804",
     "exception": false,
     "start_time": "2023-09-19T23:40:16.006264",
     "status": "completed"
    },
    "tags": []
   },
   "outputs": [],
   "source": [
    "import os, sys\n",
    "TOP_DIR = os.path.realpath('../../..')\n",
    "if TOP_DIR not in sys.path: sys.path.append(TOP_DIR)\n",
    "import pandas as pd"
   ]
  },
  {
   "cell_type": "code",
   "execution_count": 2,
   "id": "238343e4",
   "metadata": {
    "execution": {
     "iopub.execute_input": "2023-09-19T23:40:16.290233Z",
     "iopub.status.busy": "2023-09-19T23:40:16.289502Z",
     "iopub.status.idle": "2023-09-19T23:40:16.294276Z",
     "shell.execute_reply": "2023-09-19T23:40:16.293623Z"
    },
    "papermill": {
     "duration": 0.009509,
     "end_time": "2023-09-19T23:40:16.295899",
     "exception": false,
     "start_time": "2023-09-19T23:40:16.286390",
     "status": "completed"
    },
    "tags": []
   },
   "outputs": [],
   "source": [
    "from lib.util.convert import named_cumulative_sum"
   ]
  },
  {
   "cell_type": "code",
   "execution_count": 3,
   "id": "3e84e8c2",
   "metadata": {
    "execution": {
     "iopub.execute_input": "2023-09-19T23:40:16.300840Z",
     "iopub.status.busy": "2023-09-19T23:40:16.300227Z",
     "iopub.status.idle": "2023-09-19T23:40:16.311262Z",
     "shell.execute_reply": "2023-09-19T23:40:16.310645Z"
    },
    "papermill": {
     "duration": 0.015108,
     "end_time": "2023-09-19T23:40:16.312752",
     "exception": false,
     "start_time": "2023-09-19T23:40:16.297644",
     "status": "completed"
    },
    "tags": []
   },
   "outputs": [],
   "source": [
    "data = pd.read_csv('../../../data/metrics/community/events.csv', parse_dates=['start_date'])\n",
    "data.ward_code = data.ward_code.fillna('UNKNOWN')"
   ]
  },
  {
   "cell_type": "markdown",
   "id": "ad503f57",
   "metadata": {
    "papermill": {
     "duration": 0.001766,
     "end_time": "2023-09-19T23:40:16.316320",
     "exception": false,
     "start_time": "2023-09-19T23:40:16.314554",
     "status": "completed"
    },
    "tags": []
   },
   "source": [
    "Set up output directories"
   ]
  },
  {
   "cell_type": "code",
   "execution_count": 4,
   "id": "16041c4e",
   "metadata": {
    "execution": {
     "iopub.execute_input": "2023-09-19T23:40:16.321209Z",
     "iopub.status.busy": "2023-09-19T23:40:16.320651Z",
     "iopub.status.idle": "2023-09-19T23:40:16.324190Z",
     "shell.execute_reply": "2023-09-19T23:40:16.323536Z"
    },
    "papermill": {
     "duration": 0.007711,
     "end_time": "2023-09-19T23:40:16.325772",
     "exception": false,
     "start_time": "2023-09-19T23:40:16.318061",
     "status": "completed"
    },
    "tags": []
   },
   "outputs": [],
   "source": [
    "OUT_DIR = '../../../docs/metrics/community/_data'\n",
    "os.makedirs(OUT_DIR, exist_ok=True)"
   ]
  },
  {
   "cell_type": "code",
   "execution_count": 5,
   "id": "8b5ec13c",
   "metadata": {
    "execution": {
     "iopub.execute_input": "2023-09-19T23:40:16.330560Z",
     "iopub.status.busy": "2023-09-19T23:40:16.330018Z",
     "iopub.status.idle": "2023-09-19T23:40:16.336935Z",
     "shell.execute_reply": "2023-09-19T23:40:16.336293Z"
    },
    "papermill": {
     "duration": 0.010922,
     "end_time": "2023-09-19T23:40:16.338480",
     "exception": false,
     "start_time": "2023-09-19T23:40:16.327558",
     "status": "completed"
    },
    "tags": []
   },
   "outputs": [],
   "source": [
    "pd.Series({\n",
    "  'events': data.event_name.count(),\n",
    "  'audience': data.audience.sum().astype(int),\n",
    "  'errors': {\n",
    "    'missing_wards': (data.ward_code == 'UNKNOWN').value_counts()[True],\n",
    "    'missing_audience': data.audience.isna().value_counts()[True],\n",
    "    'zero_audience':  (data.audience < 1).value_counts()[True],  \n",
    "  }\n",
    "}).to_json(os.path.join(OUT_DIR, 'headlines.json'), indent=2)"
   ]
  },
  {
   "cell_type": "code",
   "execution_count": 6,
   "id": "f362682d",
   "metadata": {
    "execution": {
     "iopub.execute_input": "2023-09-19T23:40:16.343496Z",
     "iopub.status.busy": "2023-09-19T23:40:16.342963Z",
     "iopub.status.idle": "2023-09-19T23:40:16.350205Z",
     "shell.execute_reply": "2023-09-19T23:40:16.349619Z"
    },
    "papermill": {
     "duration": 0.0115,
     "end_time": "2023-09-19T23:40:16.351793",
     "exception": false,
     "start_time": "2023-09-19T23:40:16.340293",
     "status": "completed"
    },
    "tags": []
   },
   "outputs": [],
   "source": [
    "by_ward = pd.DataFrame({\n",
    "  'events': data.groupby('ward_code').event_name.count().fillna(0).astype('int'),\n",
    "  'audience': data.groupby('ward_code').audience.sum().fillna(0).astype('int'),\n",
    "}).to_csv(os.path.join(OUT_DIR, 'by_ward.csv'))"
   ]
  },
  {
   "cell_type": "code",
   "execution_count": 7,
   "id": "49c3a388",
   "metadata": {
    "execution": {
     "iopub.execute_input": "2023-09-19T23:40:16.356734Z",
     "iopub.status.busy": "2023-09-19T23:40:16.356222Z",
     "iopub.status.idle": "2023-09-19T23:40:16.368055Z",
     "shell.execute_reply": "2023-09-19T23:40:16.367465Z"
    },
    "papermill": {
     "duration": 0.016011,
     "end_time": "2023-09-19T23:40:16.369633",
     "exception": false,
     "start_time": "2023-09-19T23:40:16.353622",
     "status": "completed"
    },
    "tags": []
   },
   "outputs": [],
   "source": [
    "by_date = pd.DataFrame({\n",
    "    'events': data.groupby('start_date').event_name.count(),\n",
    "    'audience': data.groupby('start_date').audience.sum(),\n",
    "}).resample('M').sum()\n",
    "\n",
    "pd.concat([\n",
    "    by_date,\n",
    "    by_date.pipe(named_cumulative_sum)\n",
    "], axis=1).astype('int').to_csv(os.path.join(OUT_DIR, 'by_date.csv'))"
   ]
  }
 ],
 "metadata": {
  "kernelspec": {
   "display_name": "leeds-2023-YZF5GfJv",
   "language": "python",
   "name": "python3"
  },
  "language_info": {
   "codemirror_mode": {
    "name": "ipython",
    "version": 3
   },
   "file_extension": ".py",
   "mimetype": "text/x-python",
   "name": "python",
   "nbconvert_exporter": "python",
   "pygments_lexer": "ipython3",
   "version": "3.10.13"
  },
  "papermill": {
   "default_parameters": {},
   "duration": 1.973914,
   "end_time": "2023-09-19T23:40:16.589351",
   "environment_variables": {},
   "exception": null,
   "input_path": "prepare.ipynb",
   "output_path": "../../../working/output/community-prepare.ipynb",
   "parameters": {},
   "start_time": "2023-09-19T23:40:14.615437",
   "version": "2.4.0"
  }
 },
 "nbformat": 4,
 "nbformat_minor": 5
}