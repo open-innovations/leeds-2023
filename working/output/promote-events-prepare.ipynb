{
 "cells": [
  {
   "cell_type": "code",
   "execution_count": 1,
   "id": "781c5117",
   "metadata": {
    "execution": {
     "iopub.execute_input": "2023-11-27T23:37:45.043294Z",
     "iopub.status.busy": "2023-11-27T23:37:45.042951Z",
     "iopub.status.idle": "2023-11-27T23:37:45.278743Z",
     "shell.execute_reply": "2023-11-27T23:37:45.278064Z"
    },
    "papermill": {
     "duration": 0.240254,
     "end_time": "2023-11-27T23:37:45.280382",
     "exception": false,
     "start_time": "2023-11-27T23:37:45.040128",
     "status": "completed"
    },
    "tags": []
   },
   "outputs": [],
   "source": [
    "import os\n",
    "import pandas as pd"
   ]
  },
  {
   "cell_type": "code",
   "execution_count": 2,
   "id": "ca2b37d4",
   "metadata": {
    "execution": {
     "iopub.execute_input": "2023-11-27T23:37:45.284786Z",
     "iopub.status.busy": "2023-11-27T23:37:45.284378Z",
     "iopub.status.idle": "2023-11-27T23:37:45.287678Z",
     "shell.execute_reply": "2023-11-27T23:37:45.287049Z"
    },
    "papermill": {
     "duration": 0.006828,
     "end_time": "2023-11-27T23:37:45.289005",
     "exception": false,
     "start_time": "2023-11-27T23:37:45.282177",
     "status": "completed"
    },
    "tags": []
   },
   "outputs": [],
   "source": [
    "DATA_DIR='../../../docs/metrics/events/promote/_data/'\n",
    "os.makedirs(DATA_DIR, exist_ok=True)"
   ]
  },
  {
   "cell_type": "code",
   "execution_count": 3,
   "id": "0d62da25",
   "metadata": {
    "execution": {
     "iopub.execute_input": "2023-11-27T23:37:45.292907Z",
     "iopub.status.busy": "2023-11-27T23:37:45.292570Z",
     "iopub.status.idle": "2023-11-27T23:37:45.300281Z",
     "shell.execute_reply": "2023-11-27T23:37:45.299782Z"
    },
    "papermill": {
     "duration": 0.011147,
     "end_time": "2023-11-27T23:37:45.301603",
     "exception": false,
     "start_time": "2023-11-27T23:37:45.290456",
     "status": "completed"
    },
    "tags": []
   },
   "outputs": [],
   "source": [
    "data = pd.read_csv('../../../data/metrics/events/promote-events/events.csv', parse_dates=['time'])"
   ]
  },
  {
   "cell_type": "code",
   "execution_count": 4,
   "id": "21a82fdd",
   "metadata": {
    "execution": {
     "iopub.execute_input": "2023-11-27T23:37:45.305600Z",
     "iopub.status.busy": "2023-11-27T23:37:45.305169Z",
     "iopub.status.idle": "2023-11-27T23:37:45.309865Z",
     "shell.execute_reply": "2023-11-27T23:37:45.309333Z"
    },
    "papermill": {
     "duration": 0.008032,
     "end_time": "2023-11-27T23:37:45.311135",
     "exception": false,
     "start_time": "2023-11-27T23:37:45.303103",
     "status": "completed"
    },
    "tags": []
   },
   "outputs": [],
   "source": [
    "pd.Series({\n",
    "    'total_events': len(data.id.unique()),\n",
    "    'total_event_instances': len(data.time),\n",
    "    'earliest_event': data.time.min(),\n",
    "    'latest_event': data.time.max(),\n",
    "}).to_json(\n",
    "    os.path.join(DATA_DIR, 'headlines.json'),\n",
    "    date_format='iso', indent=2\n",
    ")"
   ]
  },
  {
   "cell_type": "code",
   "execution_count": 5,
   "id": "e722c208",
   "metadata": {
    "execution": {
     "iopub.execute_input": "2023-11-27T23:37:45.315079Z",
     "iopub.status.busy": "2023-11-27T23:37:45.314729Z",
     "iopub.status.idle": "2023-11-27T23:37:45.321736Z",
     "shell.execute_reply": "2023-11-27T23:37:45.321235Z"
    },
    "papermill": {
     "duration": 0.010366,
     "end_time": "2023-11-27T23:37:45.322994",
     "exception": false,
     "start_time": "2023-11-27T23:37:45.312628",
     "status": "completed"
    },
    "tags": []
   },
   "outputs": [],
   "source": [
    "events = pd.DataFrame({\n",
    "    'events': data.groupby('id').agg({ 'time': 'min' }).reset_index().groupby('time').id.count(),\n",
    "    'event_instances': data.groupby('time').id.count(),\n",
    "}).fillna(0).astype(int)"
   ]
  },
  {
   "cell_type": "code",
   "execution_count": 6,
   "id": "a6748b81",
   "metadata": {
    "execution": {
     "iopub.execute_input": "2023-11-27T23:37:45.326981Z",
     "iopub.status.busy": "2023-11-27T23:37:45.326648Z",
     "iopub.status.idle": "2023-11-27T23:37:45.329999Z",
     "shell.execute_reply": "2023-11-27T23:37:45.329348Z"
    },
    "papermill": {
     "duration": 0.006759,
     "end_time": "2023-11-27T23:37:45.331315",
     "exception": false,
     "start_time": "2023-11-27T23:37:45.324556",
     "status": "completed"
    },
    "tags": []
   },
   "outputs": [],
   "source": [
    "def cumulate(data):\n",
    "    return pd.concat([\n",
    "        data,\n",
    "        data.cumsum().rename(columns=lambda c: f'cumulative_{c}')\n",
    "    ], axis=1)"
   ]
  },
  {
   "cell_type": "code",
   "execution_count": 7,
   "id": "aa6d6fb0",
   "metadata": {
    "execution": {
     "iopub.execute_input": "2023-11-27T23:37:45.335592Z",
     "iopub.status.busy": "2023-11-27T23:37:45.335212Z",
     "iopub.status.idle": "2023-11-27T23:37:45.343037Z",
     "shell.execute_reply": "2023-11-27T23:37:45.342385Z"
    },
    "papermill": {
     "duration": 0.011671,
     "end_time": "2023-11-27T23:37:45.344591",
     "exception": false,
     "start_time": "2023-11-27T23:37:45.332920",
     "status": "completed"
    },
    "tags": []
   },
   "outputs": [],
   "source": [
    "events.resample('W-FRI').sum().pipe(cumulate).to_csv(os.path.join(DATA_DIR, 'by_week.csv'))"
   ]
  },
  {
   "cell_type": "code",
   "execution_count": 8,
   "id": "37c59a7e",
   "metadata": {
    "execution": {
     "iopub.execute_input": "2023-11-27T23:37:45.348656Z",
     "iopub.status.busy": "2023-11-27T23:37:45.348262Z",
     "iopub.status.idle": "2023-11-27T23:37:45.353462Z",
     "shell.execute_reply": "2023-11-27T23:37:45.352919Z"
    },
    "papermill": {
     "duration": 0.008555,
     "end_time": "2023-11-27T23:37:45.354688",
     "exception": false,
     "start_time": "2023-11-27T23:37:45.346133",
     "status": "completed"
    },
    "tags": []
   },
   "outputs": [],
   "source": [
    "events.resample('MS').sum().pipe(cumulate).to_csv(os.path.join(DATA_DIR, 'by_month.csv'))"
   ]
  },
  {
   "cell_type": "code",
   "execution_count": null,
   "id": "01f868d5",
   "metadata": {
    "papermill": {
     "duration": 0.001589,
     "end_time": "2023-11-27T23:37:45.357866",
     "exception": false,
     "start_time": "2023-11-27T23:37:45.356277",
     "status": "completed"
    },
    "tags": []
   },
   "outputs": [],
   "source": []
  }
 ],
 "metadata": {
  "kernelspec": {
   "display_name": "leeds-2023-YZF5GfJv",
   "language": "python",
   "name": "python3"
  },
  "language_info": {
   "codemirror_mode": {
    "name": "ipython",
    "version": 3
   },
   "file_extension": ".py",
   "mimetype": "text/x-python",
   "name": "python",
   "nbconvert_exporter": "python",
   "pygments_lexer": "ipython3",
   "version": "3.10.13"
  },
  "papermill": {
   "default_parameters": {},
   "duration": 1.775112,
   "end_time": "2023-11-27T23:37:45.575238",
   "environment_variables": {},
   "exception": null,
   "input_path": "prepare.ipynb",
   "output_path": "../../../working/output/promote-events-prepare.ipynb",
   "parameters": {},
   "start_time": "2023-11-27T23:37:43.800126",
   "version": "2.4.0"
  }
 },
 "nbformat": 4,
 "nbformat_minor": 5
}