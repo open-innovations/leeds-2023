{
 "cells": [
  {
   "cell_type": "code",
   "execution_count": 1,
   "id": "9d841d9e",
   "metadata": {
    "execution": {
     "iopub.execute_input": "2023-08-03T23:39:25.522042Z",
     "iopub.status.busy": "2023-08-03T23:39:25.521538Z",
     "iopub.status.idle": "2023-08-03T23:39:34.125797Z",
     "shell.execute_reply": "2023-08-03T23:39:34.125168Z"
    },
    "papermill": {
     "duration": 8.609863,
     "end_time": "2023-08-03T23:39:34.127890",
     "exception": false,
     "start_time": "2023-08-03T23:39:25.518027",
     "status": "completed"
    },
    "tags": []
   },
   "outputs": [],
   "source": [
    "import os\n",
    "import pandas as pd\n",
    "from events import load_event_data, get_first_ward, normalise_ward"
   ]
  },
  {
   "cell_type": "code",
   "execution_count": 2,
   "id": "72ed96be",
   "metadata": {
    "execution": {
     "iopub.execute_input": "2023-08-03T23:39:34.133401Z",
     "iopub.status.busy": "2023-08-03T23:39:34.132952Z",
     "iopub.status.idle": "2023-08-03T23:39:34.136512Z",
     "shell.execute_reply": "2023-08-03T23:39:34.135878Z"
    },
    "papermill": {
     "duration": 0.007916,
     "end_time": "2023-08-03T23:39:34.138077",
     "exception": false,
     "start_time": "2023-08-03T23:39:34.130161",
     "status": "completed"
    },
    "tags": []
   },
   "outputs": [],
   "source": [
    "latest_date = pd.Timestamp.today().ceil('D')"
   ]
  },
  {
   "cell_type": "code",
   "execution_count": 3,
   "id": "586d9a15",
   "metadata": {
    "execution": {
     "iopub.execute_input": "2023-08-03T23:39:34.143300Z",
     "iopub.status.busy": "2023-08-03T23:39:34.142736Z",
     "iopub.status.idle": "2023-08-03T23:39:34.157722Z",
     "shell.execute_reply": "2023-08-03T23:39:34.157170Z"
    },
    "papermill": {
     "duration": 0.019176,
     "end_time": "2023-08-03T23:39:34.159181",
     "exception": false,
     "start_time": "2023-08-03T23:39:34.140005",
     "status": "completed"
    },
    "tags": []
   },
   "outputs": [],
   "source": [
    "tickets = pd.read_csv('../../../../data/metrics/events/tickets/orders.csv', parse_dates=['created_at', 'event_date'])\n",
    "tickets = tickets[tickets.event_date <= latest_date]"
   ]
  },
  {
   "cell_type": "code",
   "execution_count": 4,
   "id": "ffae0786",
   "metadata": {
    "execution": {
     "iopub.execute_input": "2023-08-03T23:39:34.164307Z",
     "iopub.status.busy": "2023-08-03T23:39:34.163813Z",
     "iopub.status.idle": "2023-08-03T23:39:34.311642Z",
     "shell.execute_reply": "2023-08-03T23:39:34.311039Z"
    },
    "papermill": {
     "duration": 0.15221,
     "end_time": "2023-08-03T23:39:34.313374",
     "exception": false,
     "start_time": "2023-08-03T23:39:34.161164",
     "status": "completed"
    },
    "tags": []
   },
   "outputs": [],
   "source": [
    "events = load_event_data()\n",
    "\n",
    "events = pd.concat([\n",
    "  events,\n",
    "  events.pipe(get_first_ward).pipe(normalise_ward).fillna('UNKNOWN'),\n",
    "  pd.Series(\n",
    "      events.actual_audience_size_number_of_participants_in_person + events.actual_audience_size_number_of_participants_online,\n",
    "      name='attendances'\n",
    "  )\n",
    "], axis=1).rename(columns={\n",
    "    'start_date': 'date'\n",
    "}).loc[:, ['ward_code', 'date', 'event_unique_identifier', 'attendances']]"
   ]
  },
  {
   "cell_type": "code",
   "execution_count": 5,
   "id": "d5eb6402",
   "metadata": {
    "execution": {
     "iopub.execute_input": "2023-08-03T23:39:34.319485Z",
     "iopub.status.busy": "2023-08-03T23:39:34.318945Z",
     "iopub.status.idle": "2023-08-03T23:39:34.322270Z",
     "shell.execute_reply": "2023-08-03T23:39:34.321674Z"
    },
    "papermill": {
     "duration": 0.008035,
     "end_time": "2023-08-03T23:39:34.323659",
     "exception": false,
     "start_time": "2023-08-03T23:39:34.315624",
     "status": "completed"
    },
    "tags": []
   },
   "outputs": [],
   "source": [
    "OUTPUT_DIR='../../../../docs/metrics/events/signature/_data/'\n",
    "os.makedirs(OUTPUT_DIR, exist_ok=True)"
   ]
  },
  {
   "cell_type": "markdown",
   "id": "ec3f5f30",
   "metadata": {
    "papermill": {
     "duration": 0.002012,
     "end_time": "2023-08-03T23:39:34.327679",
     "exception": false,
     "start_time": "2023-08-03T23:39:34.325667",
     "status": "completed"
    },
    "tags": []
   },
   "source": [
    "Events CSVs"
   ]
  },
  {
   "cell_type": "code",
   "execution_count": 6,
   "id": "3afa60cf",
   "metadata": {
    "execution": {
     "iopub.execute_input": "2023-08-03T23:39:34.332521Z",
     "iopub.status.busy": "2023-08-03T23:39:34.332312Z",
     "iopub.status.idle": "2023-08-03T23:39:34.338794Z",
     "shell.execute_reply": "2023-08-03T23:39:34.338214Z"
    },
    "papermill": {
     "duration": 0.01051,
     "end_time": "2023-08-03T23:39:34.340171",
     "exception": false,
     "start_time": "2023-08-03T23:39:34.329661",
     "status": "completed"
    },
    "tags": []
   },
   "outputs": [],
   "source": [
    "pd.DataFrame({\n",
    "  'events': events.groupby('ward_code').event_unique_identifier.count(),\n",
    "  'attendances': events.groupby('ward_code').attendances.sum().astype(int),\n",
    "}).to_csv(os.path.join(OUTPUT_DIR, 'events_by_ward.csv'))\n"
   ]
  },
  {
   "cell_type": "code",
   "execution_count": 7,
   "id": "668f77fc",
   "metadata": {
    "execution": {
     "iopub.execute_input": "2023-08-03T23:39:34.345301Z",
     "iopub.status.busy": "2023-08-03T23:39:34.344982Z",
     "iopub.status.idle": "2023-08-03T23:39:34.356007Z",
     "shell.execute_reply": "2023-08-03T23:39:34.355442Z"
    },
    "papermill": {
     "duration": 0.015263,
     "end_time": "2023-08-03T23:39:34.357485",
     "exception": false,
     "start_time": "2023-08-03T23:39:34.342222",
     "status": "completed"
    },
    "tags": []
   },
   "outputs": [],
   "source": [
    "pd.DataFrame({\n",
    "  'events': events.groupby('date').event_unique_identifier.count(),\n",
    "  'attendances': events.groupby('date').attendances.sum().astype(int),\n",
    "}).resample('M').sum().astype(int).to_csv(os.path.join(OUTPUT_DIR, 'events_by_date.csv'))"
   ]
  },
  {
   "cell_type": "markdown",
   "id": "0309eb18",
   "metadata": {
    "papermill": {
     "duration": 0.002129,
     "end_time": "2023-08-03T23:39:34.361691",
     "exception": false,
     "start_time": "2023-08-03T23:39:34.359562",
     "status": "completed"
    },
    "tags": []
   },
   "source": [
    "Tickets CSV"
   ]
  },
  {
   "cell_type": "code",
   "execution_count": 8,
   "id": "8f4ca26b",
   "metadata": {
    "execution": {
     "iopub.execute_input": "2023-08-03T23:39:34.367203Z",
     "iopub.status.busy": "2023-08-03T23:39:34.366572Z",
     "iopub.status.idle": "2023-08-03T23:39:34.373119Z",
     "shell.execute_reply": "2023-08-03T23:39:34.372584Z"
    },
    "papermill": {
     "duration": 0.010823,
     "end_time": "2023-08-03T23:39:34.374526",
     "exception": false,
     "start_time": "2023-08-03T23:39:34.363703",
     "status": "completed"
    },
    "tags": []
   },
   "outputs": [],
   "source": [
    "pd.DataFrame({\n",
    "  'orders': tickets.groupby('ward_code').number_of_tickets.count(),\n",
    "  'tickets': tickets.groupby('ward_code').number_of_tickets.sum().astype(int),\n",
    "}).to_csv(os.path.join(OUTPUT_DIR, 'tickets_by_ward.csv'))"
   ]
  },
  {
   "cell_type": "code",
   "execution_count": 9,
   "id": "43eac41b",
   "metadata": {
    "execution": {
     "iopub.execute_input": "2023-08-03T23:39:34.380056Z",
     "iopub.status.busy": "2023-08-03T23:39:34.379433Z",
     "iopub.status.idle": "2023-08-03T23:39:34.387117Z",
     "shell.execute_reply": "2023-08-03T23:39:34.386571Z"
    },
    "papermill": {
     "duration": 0.011837,
     "end_time": "2023-08-03T23:39:34.388503",
     "exception": false,
     "start_time": "2023-08-03T23:39:34.376666",
     "status": "completed"
    },
    "tags": []
   },
   "outputs": [],
   "source": [
    "pd.DataFrame({\n",
    "  'orders': tickets.groupby('event_date').number_of_tickets.count(),\n",
    "  'tickets': tickets.groupby('event_date').number_of_tickets.sum().astype(int),\n",
    "}).resample('M').sum().to_csv(os.path.join(OUTPUT_DIR, 'tickets_by_event_date.csv'))"
   ]
  },
  {
   "cell_type": "code",
   "execution_count": 10,
   "id": "24bd53dd",
   "metadata": {
    "execution": {
     "iopub.execute_input": "2023-08-03T23:39:34.394723Z",
     "iopub.status.busy": "2023-08-03T23:39:34.394199Z",
     "iopub.status.idle": "2023-08-03T23:39:34.400053Z",
     "shell.execute_reply": "2023-08-03T23:39:34.399528Z"
    },
    "papermill": {
     "duration": 0.011112,
     "end_time": "2023-08-03T23:39:34.401741",
     "exception": false,
     "start_time": "2023-08-03T23:39:34.390629",
     "status": "completed"
    },
    "tags": []
   },
   "outputs": [],
   "source": [
    "pd.Series({\n",
    "    'total_events': events.event_unique_identifier.count(),\n",
    "    'total_attendances': events.attendances.count(),\n",
    "    'first_event': events.date.min(),\n",
    "    'latest_event': events.date.max(),\n",
    "    'total_ticket_orders_for_events_to_date': tickets.number_of_tickets.count(),\n",
    "    'total_tickets_sold_for_events_to_date': tickets.number_of_tickets.sum(),\n",
    "}).to_json(os.path.join(OUTPUT_DIR, 'headlines.json'), indent=2)"
   ]
  },
  {
   "cell_type": "code",
   "execution_count": null,
   "id": "88b534f0",
   "metadata": {
    "papermill": {
     "duration": 0.002048,
     "end_time": "2023-08-03T23:39:34.405945",
     "exception": false,
     "start_time": "2023-08-03T23:39:34.403897",
     "status": "completed"
    },
    "tags": []
   },
   "outputs": [],
   "source": []
  }
 ],
 "metadata": {
  "kernelspec": {
   "display_name": "leeds-2023-YZF5GfJv",
   "language": "python",
   "name": "python3"
  },
  "language_info": {
   "codemirror_mode": {
    "name": "ipython",
    "version": 3
   },
   "file_extension": ".py",
   "mimetype": "text/x-python",
   "name": "python",
   "nbconvert_exporter": "python",
   "pygments_lexer": "ipython3",
   "version": "3.10.6"
  },
  "papermill": {
   "default_parameters": {},
   "duration": 10.581224,
   "end_time": "2023-08-03T23:39:34.724848",
   "environment_variables": {},
   "exception": null,
   "input_path": "prepare.ipynb",
   "output_path": "../../../../working/output/signature-prepare.ipynb",
   "parameters": {},
   "start_time": "2023-08-03T23:39:24.143624",
   "version": "2.4.0"
  }
 },
 "nbformat": 4,
 "nbformat_minor": 5
}