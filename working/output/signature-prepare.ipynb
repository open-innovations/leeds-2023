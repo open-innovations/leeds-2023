{
 "cells": [
  {
   "cell_type": "code",
   "execution_count": 1,
   "id": "ce801c08",
   "metadata": {
    "execution": {
     "iopub.execute_input": "2023-09-25T23:39:32.540863Z",
     "iopub.status.busy": "2023-09-25T23:39:32.539977Z",
     "iopub.status.idle": "2023-09-25T23:39:43.912126Z",
     "shell.execute_reply": "2023-09-25T23:39:43.911106Z"
    },
    "papermill": {
     "duration": 11.382274,
     "end_time": "2023-09-25T23:39:43.915441",
     "exception": false,
     "start_time": "2023-09-25T23:39:32.533167",
     "status": "completed"
    },
    "tags": []
   },
   "outputs": [],
   "source": [
    "import os\n",
    "import pandas as pd\n",
    "from events import load_event_data, get_first_ward, normalise_ward"
   ]
  },
  {
   "cell_type": "code",
   "execution_count": 2,
   "id": "b3e5725c",
   "metadata": {
    "execution": {
     "iopub.execute_input": "2023-09-25T23:39:43.925354Z",
     "iopub.status.busy": "2023-09-25T23:39:43.924681Z",
     "iopub.status.idle": "2023-09-25T23:39:43.929394Z",
     "shell.execute_reply": "2023-09-25T23:39:43.928741Z"
    },
    "papermill": {
     "duration": 0.010615,
     "end_time": "2023-09-25T23:39:43.931289",
     "exception": false,
     "start_time": "2023-09-25T23:39:43.920674",
     "status": "completed"
    },
    "tags": []
   },
   "outputs": [],
   "source": [
    "latest_date = pd.Timestamp.today().ceil('D')"
   ]
  },
  {
   "cell_type": "code",
   "execution_count": 3,
   "id": "b0e7232b",
   "metadata": {
    "execution": {
     "iopub.execute_input": "2023-09-25T23:39:43.938167Z",
     "iopub.status.busy": "2023-09-25T23:39:43.937525Z",
     "iopub.status.idle": "2023-09-25T23:39:43.957434Z",
     "shell.execute_reply": "2023-09-25T23:39:43.956805Z"
    },
    "papermill": {
     "duration": 0.025246,
     "end_time": "2023-09-25T23:39:43.959200",
     "exception": false,
     "start_time": "2023-09-25T23:39:43.933954",
     "status": "completed"
    },
    "tags": []
   },
   "outputs": [],
   "source": [
    "tickets = pd.read_csv('../../../../data/metrics/events/tickets/orders.csv', parse_dates=['created_at', 'event_date'])\n",
    "tickets = tickets[tickets.event_date <= latest_date]"
   ]
  },
  {
   "cell_type": "code",
   "execution_count": 4,
   "id": "255085a4",
   "metadata": {
    "execution": {
     "iopub.execute_input": "2023-09-25T23:39:43.966080Z",
     "iopub.status.busy": "2023-09-25T23:39:43.965403Z",
     "iopub.status.idle": "2023-09-25T23:39:44.208850Z",
     "shell.execute_reply": "2023-09-25T23:39:44.207622Z"
    },
    "papermill": {
     "duration": 0.250462,
     "end_time": "2023-09-25T23:39:44.212213",
     "exception": false,
     "start_time": "2023-09-25T23:39:43.961751",
     "status": "completed"
    },
    "tags": []
   },
   "outputs": [],
   "source": [
    "events = load_event_data()\n",
    "\n",
    "events = pd.concat([\n",
    "  events,\n",
    "  events.pipe(get_first_ward).pipe(normalise_ward).fillna('UNKNOWN'),\n",
    "  pd.Series(\n",
    "      events.actual_audience_size_number_of_participants_in_person + events.actual_audience_size_number_of_participants_online,\n",
    "      name='attendances'\n",
    "  )\n",
    "], axis=1).rename(columns={\n",
    "    'start_date': 'date'\n",
    "}).loc[:, ['ward_code', 'date', 'event_unique_identifier', 'attendances']]"
   ]
  },
  {
   "cell_type": "code",
   "execution_count": 5,
   "id": "26e6e91c",
   "metadata": {
    "execution": {
     "iopub.execute_input": "2023-09-25T23:39:44.220704Z",
     "iopub.status.busy": "2023-09-25T23:39:44.220010Z",
     "iopub.status.idle": "2023-09-25T23:39:44.223895Z",
     "shell.execute_reply": "2023-09-25T23:39:44.223158Z"
    },
    "papermill": {
     "duration": 0.010024,
     "end_time": "2023-09-25T23:39:44.225672",
     "exception": false,
     "start_time": "2023-09-25T23:39:44.215648",
     "status": "completed"
    },
    "tags": []
   },
   "outputs": [],
   "source": [
    "OUTPUT_DIR='../../../../docs/metrics/events/signature/_data/'\n",
    "os.makedirs(OUTPUT_DIR, exist_ok=True)"
   ]
  },
  {
   "cell_type": "markdown",
   "id": "32660354",
   "metadata": {
    "papermill": {
     "duration": 0.002669,
     "end_time": "2023-09-25T23:39:44.230992",
     "exception": false,
     "start_time": "2023-09-25T23:39:44.228323",
     "status": "completed"
    },
    "tags": []
   },
   "source": [
    "Events CSVs"
   ]
  },
  {
   "cell_type": "code",
   "execution_count": 6,
   "id": "9e9da262",
   "metadata": {
    "execution": {
     "iopub.execute_input": "2023-09-25T23:39:44.237877Z",
     "iopub.status.busy": "2023-09-25T23:39:44.237202Z",
     "iopub.status.idle": "2023-09-25T23:39:44.245210Z",
     "shell.execute_reply": "2023-09-25T23:39:44.244583Z"
    },
    "papermill": {
     "duration": 0.01328,
     "end_time": "2023-09-25T23:39:44.246911",
     "exception": false,
     "start_time": "2023-09-25T23:39:44.233631",
     "status": "completed"
    },
    "tags": []
   },
   "outputs": [],
   "source": [
    "pd.DataFrame({\n",
    "  'events': events.groupby('ward_code').event_unique_identifier.count(),\n",
    "  'attendances': events.groupby('ward_code').attendances.sum().astype(int),\n",
    "}).to_csv(os.path.join(OUTPUT_DIR, 'events_by_ward.csv'))\n"
   ]
  },
  {
   "cell_type": "code",
   "execution_count": 7,
   "id": "b6389d42",
   "metadata": {
    "execution": {
     "iopub.execute_input": "2023-09-25T23:39:44.253897Z",
     "iopub.status.busy": "2023-09-25T23:39:44.253288Z",
     "iopub.status.idle": "2023-09-25T23:39:44.265772Z",
     "shell.execute_reply": "2023-09-25T23:39:44.265018Z"
    },
    "papermill": {
     "duration": 0.018043,
     "end_time": "2023-09-25T23:39:44.267588",
     "exception": false,
     "start_time": "2023-09-25T23:39:44.249545",
     "status": "completed"
    },
    "tags": []
   },
   "outputs": [],
   "source": [
    "pd.DataFrame({\n",
    "  'events': events.groupby('date').event_unique_identifier.count(),\n",
    "  'attendances': events.groupby('date').attendances.sum().astype(int),\n",
    "}).resample('M').sum().astype(int).to_csv(os.path.join(OUTPUT_DIR, 'events_by_date.csv'))"
   ]
  },
  {
   "cell_type": "markdown",
   "id": "964a2b4d",
   "metadata": {
    "papermill": {
     "duration": 0.002653,
     "end_time": "2023-09-25T23:39:44.273260",
     "exception": false,
     "start_time": "2023-09-25T23:39:44.270607",
     "status": "completed"
    },
    "tags": []
   },
   "source": [
    "Tickets CSV"
   ]
  },
  {
   "cell_type": "code",
   "execution_count": 8,
   "id": "0d23b68c",
   "metadata": {
    "execution": {
     "iopub.execute_input": "2023-09-25T23:39:44.280267Z",
     "iopub.status.busy": "2023-09-25T23:39:44.279817Z",
     "iopub.status.idle": "2023-09-25T23:39:44.287691Z",
     "shell.execute_reply": "2023-09-25T23:39:44.287080Z"
    },
    "papermill": {
     "duration": 0.013502,
     "end_time": "2023-09-25T23:39:44.289478",
     "exception": false,
     "start_time": "2023-09-25T23:39:44.275976",
     "status": "completed"
    },
    "tags": []
   },
   "outputs": [],
   "source": [
    "pd.DataFrame({\n",
    "  'orders': tickets.groupby('ward_code').number_of_tickets.count(),\n",
    "  'tickets': tickets.groupby('ward_code').number_of_tickets.sum().astype(int),\n",
    "}).to_csv(os.path.join(OUTPUT_DIR, 'tickets_by_ward.csv'))"
   ]
  },
  {
   "cell_type": "code",
   "execution_count": 9,
   "id": "55c04cb2",
   "metadata": {
    "execution": {
     "iopub.execute_input": "2023-09-25T23:39:44.296648Z",
     "iopub.status.busy": "2023-09-25T23:39:44.296152Z",
     "iopub.status.idle": "2023-09-25T23:39:44.305729Z",
     "shell.execute_reply": "2023-09-25T23:39:44.305104Z"
    },
    "papermill": {
     "duration": 0.015204,
     "end_time": "2023-09-25T23:39:44.307416",
     "exception": false,
     "start_time": "2023-09-25T23:39:44.292212",
     "status": "completed"
    },
    "tags": []
   },
   "outputs": [],
   "source": [
    "pd.DataFrame({\n",
    "  'orders': tickets.groupby('event_date').number_of_tickets.count(),\n",
    "  'tickets': tickets.groupby('event_date').number_of_tickets.sum().astype(int),\n",
    "}).resample('M').sum().to_csv(os.path.join(OUTPUT_DIR, 'tickets_by_event_date.csv'))"
   ]
  },
  {
   "cell_type": "code",
   "execution_count": 10,
   "id": "3d9ed482",
   "metadata": {
    "execution": {
     "iopub.execute_input": "2023-09-25T23:39:44.315654Z",
     "iopub.status.busy": "2023-09-25T23:39:44.315030Z",
     "iopub.status.idle": "2023-09-25T23:39:44.320857Z",
     "shell.execute_reply": "2023-09-25T23:39:44.320139Z"
    },
    "papermill": {
     "duration": 0.012022,
     "end_time": "2023-09-25T23:39:44.322236",
     "exception": false,
     "start_time": "2023-09-25T23:39:44.310214",
     "status": "completed"
    },
    "tags": []
   },
   "outputs": [],
   "source": [
    "pd.Series({\n",
    "    'total_events': events.event_unique_identifier.count(),\n",
    "    'total_attendances': events.attendances.count(),\n",
    "    'first_event': events.date.min(),\n",
    "    'latest_event': events.date.max(),\n",
    "    'total_ticket_orders_for_events_to_date': tickets.number_of_tickets.count(),\n",
    "    'total_tickets_sold_for_events_to_date': tickets.number_of_tickets.sum(),\n",
    "}).to_json(os.path.join(OUTPUT_DIR, 'headlines.json'), indent=2)"
   ]
  },
  {
   "cell_type": "code",
   "execution_count": null,
   "id": "77cf37d1",
   "metadata": {
    "papermill": {
     "duration": 0.002906,
     "end_time": "2023-09-25T23:39:44.328071",
     "exception": false,
     "start_time": "2023-09-25T23:39:44.325165",
     "status": "completed"
    },
    "tags": []
   },
   "outputs": [],
   "source": []
  }
 ],
 "metadata": {
  "kernelspec": {
   "display_name": "leeds-2023-YZF5GfJv",
   "language": "python",
   "name": "python3"
  },
  "language_info": {
   "codemirror_mode": {
    "name": "ipython",
    "version": 3
   },
   "file_extension": ".py",
   "mimetype": "text/x-python",
   "name": "python",
   "nbconvert_exporter": "python",
   "pygments_lexer": "ipython3",
   "version": "3.10.13"
  },
  "papermill": {
   "default_parameters": {},
   "duration": 13.664426,
   "end_time": "2023-09-25T23:39:44.650370",
   "environment_variables": {},
   "exception": null,
   "input_path": "prepare.ipynb",
   "output_path": "../../../../working/output/signature-prepare.ipynb",
   "parameters": {},
   "start_time": "2023-09-25T23:39:30.985944",
   "version": "2.4.0"
  }
 },
 "nbformat": 4,
 "nbformat_minor": 5
}