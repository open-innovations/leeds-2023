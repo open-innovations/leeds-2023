{
 "cells": [
  {
   "cell_type": "code",
   "execution_count": 1,
   "id": "c2118508",
   "metadata": {
    "execution": {
     "iopub.execute_input": "2023-10-15T23:37:18.523488Z",
     "iopub.status.busy": "2023-10-15T23:37:18.522958Z",
     "iopub.status.idle": "2023-10-15T23:37:18.773188Z",
     "shell.execute_reply": "2023-10-15T23:37:18.772529Z"
    },
    "papermill": {
     "duration": 0.256543,
     "end_time": "2023-10-15T23:37:18.775183",
     "exception": false,
     "start_time": "2023-10-15T23:37:18.518640",
     "status": "completed"
    },
    "tags": []
   },
   "outputs": [],
   "source": [
    "import os\n",
    "import sys\n",
    "import pandas as pd\n",
    "lib_dir = os.path.realpath('../../../lib/')\n",
    "if lib_dir not in sys.path: sys.path.append(lib_dir)"
   ]
  },
  {
   "cell_type": "code",
   "execution_count": 2,
   "id": "ef201ac2",
   "metadata": {
    "execution": {
     "iopub.execute_input": "2023-10-15T23:37:18.782087Z",
     "iopub.status.busy": "2023-10-15T23:37:18.781465Z",
     "iopub.status.idle": "2023-10-15T23:37:28.569307Z",
     "shell.execute_reply": "2023-10-15T23:37:28.568632Z"
    },
    "papermill": {
     "duration": 9.793133,
     "end_time": "2023-10-15T23:37:28.571234",
     "exception": false,
     "start_time": "2023-10-15T23:37:18.778101",
     "status": "completed"
    },
    "tags": []
   },
   "outputs": [],
   "source": [
    "import util.geo"
   ]
  },
  {
   "cell_type": "code",
   "execution_count": 3,
   "id": "b7cb77ba",
   "metadata": {
    "execution": {
     "iopub.execute_input": "2023-10-15T23:37:28.579119Z",
     "iopub.status.busy": "2023-10-15T23:37:28.578485Z",
     "iopub.status.idle": "2023-10-15T23:37:28.582040Z",
     "shell.execute_reply": "2023-10-15T23:37:28.581427Z"
    },
    "papermill": {
     "duration": 0.009024,
     "end_time": "2023-10-15T23:37:28.583575",
     "exception": false,
     "start_time": "2023-10-15T23:37:28.574551",
     "status": "completed"
    },
    "tags": []
   },
   "outputs": [],
   "source": [
    "EVENTS_RAW_DATA = '../../../working/metrics/partner-events/events.csv'\n",
    "DATA_DIR = '../../../data/metrics/events/partner-events/'\n",
    "EVENTS_DATA = os.path.join(DATA_DIR, 'events.csv')"
   ]
  },
  {
   "cell_type": "code",
   "execution_count": 4,
   "id": "80f49e34",
   "metadata": {
    "execution": {
     "iopub.execute_input": "2023-10-15T23:37:28.590021Z",
     "iopub.status.busy": "2023-10-15T23:37:28.589523Z",
     "iopub.status.idle": "2023-10-15T23:37:28.593223Z",
     "shell.execute_reply": "2023-10-15T23:37:28.592568Z"
    },
    "papermill": {
     "duration": 0.008589,
     "end_time": "2023-10-15T23:37:28.594765",
     "exception": false,
     "start_time": "2023-10-15T23:37:28.586176",
     "status": "completed"
    },
    "tags": []
   },
   "outputs": [],
   "source": [
    "columns = {\n",
    "    'Event Name': 'name',\n",
    "    'Event Start Date': 'start_date',\n",
    "    'Event End Date': 'end_date',\n",
    "    'Partner/Promote': 'partner_promote',\n",
    "    'Stage': 'stage',\n",
    "    'Live date': 'live_date',\n",
    "    'Venue postcode': 'postcode',\n",
    "    'Pricing Policy': 'pricing',\n",
    "    'Venue - including address': 'venue',\n",
    "    'Is this event on Leeds Inspried?': 'on_leeds_inspired',\n",
    "}"
   ]
  },
  {
   "cell_type": "markdown",
   "id": "24cdc94c",
   "metadata": {
    "papermill": {
     "duration": 0.002633,
     "end_time": "2023-10-15T23:37:28.599991",
     "exception": false,
     "start_time": "2023-10-15T23:37:28.597358",
     "status": "completed"
    },
    "tags": []
   },
   "source": [
    "Load the data and rename columns. Parse the dates to dates."
   ]
  },
  {
   "cell_type": "code",
   "execution_count": 5,
   "id": "6602b82b",
   "metadata": {
    "execution": {
     "iopub.execute_input": "2023-10-15T23:37:28.606066Z",
     "iopub.status.busy": "2023-10-15T23:37:28.605854Z",
     "iopub.status.idle": "2023-10-15T23:37:28.617046Z",
     "shell.execute_reply": "2023-10-15T23:37:28.616455Z"
    },
    "papermill": {
     "duration": 0.015942,
     "end_time": "2023-10-15T23:37:28.618508",
     "exception": false,
     "start_time": "2023-10-15T23:37:28.602566",
     "status": "completed"
    },
    "tags": []
   },
   "outputs": [],
   "source": [
    "data = pd.read_csv(EVENTS_RAW_DATA)[columns.keys()].rename(columns=columns)\n",
    "data.start_date = pd.to_datetime(data.start_date, errors='coerce')\n",
    "data.end_date = pd.to_datetime(data.end_date, errors='coerce')"
   ]
  },
  {
   "cell_type": "markdown",
   "id": "bd5009b4",
   "metadata": {
    "papermill": {
     "duration": 0.002582,
     "end_time": "2023-10-15T23:37:28.623723",
     "exception": false,
     "start_time": "2023-10-15T23:37:28.621141",
     "status": "completed"
    },
    "tags": []
   },
   "source": [
    "Filter data by not LI Pull through and start date before now"
   ]
  },
  {
   "cell_type": "code",
   "execution_count": 6,
   "id": "8cb3d9f5",
   "metadata": {
    "execution": {
     "iopub.execute_input": "2023-10-15T23:37:28.630403Z",
     "iopub.status.busy": "2023-10-15T23:37:28.629836Z",
     "iopub.status.idle": "2023-10-15T23:37:28.634979Z",
     "shell.execute_reply": "2023-10-15T23:37:28.634332Z"
    },
    "papermill": {
     "duration": 0.009928,
     "end_time": "2023-10-15T23:37:28.636386",
     "exception": false,
     "start_time": "2023-10-15T23:37:28.626458",
     "status": "completed"
    },
    "tags": []
   },
   "outputs": [],
   "source": [
    "data = data[\n",
    "    # (data.live_date == 'This event is live ') &\n",
    "    ((data.stage != 'LI pull through') & data.stage.notna()) &\n",
    "    (data.start_date < pd.Timestamp.now())\n",
    "]"
   ]
  },
  {
   "cell_type": "code",
   "execution_count": 7,
   "id": "416c1ac1",
   "metadata": {
    "execution": {
     "iopub.execute_input": "2023-10-15T23:37:28.642986Z",
     "iopub.status.busy": "2023-10-15T23:37:28.642468Z",
     "iopub.status.idle": "2023-10-15T23:37:29.587392Z",
     "shell.execute_reply": "2023-10-15T23:37:29.586743Z"
    },
    "papermill": {
     "duration": 0.950218,
     "end_time": "2023-10-15T23:37:29.589316",
     "exception": false,
     "start_time": "2023-10-15T23:37:28.639098",
     "status": "completed"
    },
    "tags": []
   },
   "outputs": [],
   "source": [
    "data['ward_code'] = data.postcode.pipe(util.geo.postcode_formatter).map(util.geo.postcode_to_ward_code)\n",
    "data['ward_name'] = data.ward_code.pipe(util.geo.ward_code_to_name)"
   ]
  },
  {
   "cell_type": "markdown",
   "id": "44504b9d",
   "metadata": {
    "papermill": {
     "duration": 0.00388,
     "end_time": "2023-10-15T23:37:29.596229",
     "exception": false,
     "start_time": "2023-10-15T23:37:29.592349",
     "status": "completed"
    },
    "tags": []
   },
   "source": [
    "Save the file"
   ]
  },
  {
   "cell_type": "code",
   "execution_count": 8,
   "id": "f5dc423d",
   "metadata": {
    "execution": {
     "iopub.execute_input": "2023-10-15T23:37:29.602782Z",
     "iopub.status.busy": "2023-10-15T23:37:29.602534Z",
     "iopub.status.idle": "2023-10-15T23:37:29.610430Z",
     "shell.execute_reply": "2023-10-15T23:37:29.609835Z"
    },
    "papermill": {
     "duration": 0.012939,
     "end_time": "2023-10-15T23:37:29.611910",
     "exception": false,
     "start_time": "2023-10-15T23:37:29.598971",
     "status": "completed"
    },
    "tags": []
   },
   "outputs": [],
   "source": [
    "data[\n",
    "    ['name','start_date','end_date','ward_code']\n",
    "].to_csv(EVENTS_DATA, index=False)"
   ]
  },
  {
   "cell_type": "markdown",
   "id": "5e32be0a",
   "metadata": {
    "papermill": {
     "duration": 0.002679,
     "end_time": "2023-10-15T23:37:29.617515",
     "exception": false,
     "start_time": "2023-10-15T23:37:29.614836",
     "status": "completed"
    },
    "tags": []
   },
   "source": [
    "Print out missing postcode data"
   ]
  },
  {
   "cell_type": "code",
   "execution_count": 9,
   "id": "ed873f82",
   "metadata": {
    "execution": {
     "iopub.execute_input": "2023-10-15T23:37:29.624478Z",
     "iopub.status.busy": "2023-10-15T23:37:29.623876Z",
     "iopub.status.idle": "2023-10-15T23:37:29.639430Z",
     "shell.execute_reply": "2023-10-15T23:37:29.638895Z"
    },
    "papermill": {
     "duration": 0.020724,
     "end_time": "2023-10-15T23:37:29.641048",
     "exception": false,
     "start_time": "2023-10-15T23:37:29.620324",
     "status": "completed"
    },
    "tags": []
   },
   "outputs": [
    {
     "data": {
      "text/html": [
       "<div>\n",
       "<style scoped>\n",
       "    .dataframe tbody tr th:only-of-type {\n",
       "        vertical-align: middle;\n",
       "    }\n",
       "\n",
       "    .dataframe tbody tr th {\n",
       "        vertical-align: top;\n",
       "    }\n",
       "\n",
       "    .dataframe thead th {\n",
       "        text-align: right;\n",
       "    }\n",
       "</style>\n",
       "<table border=\"1\" class=\"dataframe\">\n",
       "  <thead>\n",
       "    <tr style=\"text-align: right;\">\n",
       "      <th></th>\n",
       "      <th>name</th>\n",
       "      <th>start_date</th>\n",
       "    </tr>\n",
       "  </thead>\n",
       "  <tbody>\n",
       "    <tr>\n",
       "      <th>1</th>\n",
       "      <td>East Street Arts, A City Less Grey 2022</td>\n",
       "      <td>2022-10-08</td>\n",
       "    </tr>\n",
       "    <tr>\n",
       "      <th>3</th>\n",
       "      <td>Phoenix Dance Theatre Virtual Gallery</td>\n",
       "      <td>2023-01-01</td>\n",
       "    </tr>\n",
       "    <tr>\n",
       "      <th>4</th>\n",
       "      <td>The Big Art Giveaway, School of Creative Arts ...</td>\n",
       "      <td>2023-01-01</td>\n",
       "    </tr>\n",
       "    <tr>\n",
       "      <th>5</th>\n",
       "      <td>Embassy of Netherlands, Meet Leeds Lab</td>\n",
       "      <td>2023-01-16</td>\n",
       "    </tr>\n",
       "    <tr>\n",
       "      <th>6</th>\n",
       "      <td>Shifting Borders: A Journey to the Centre of o...</td>\n",
       "      <td>2023-01-24</td>\n",
       "    </tr>\n",
       "    <tr>\n",
       "      <th>...</th>\n",
       "      <td>...</td>\n",
       "      <td>...</td>\n",
       "    </tr>\n",
       "    <tr>\n",
       "      <th>211</th>\n",
       "      <td>Re-imagining Home: Teacher CPD Session</td>\n",
       "      <td>2023-10-09</td>\n",
       "    </tr>\n",
       "    <tr>\n",
       "      <th>212</th>\n",
       "      <td>TRANSFORM 23</td>\n",
       "      <td>2023-10-11</td>\n",
       "    </tr>\n",
       "    <tr>\n",
       "      <th>213</th>\n",
       "      <td>Wild Irish Tales: An evening of story telling ...</td>\n",
       "      <td>2023-10-11</td>\n",
       "    </tr>\n",
       "    <tr>\n",
       "      <th>215</th>\n",
       "      <td>Sayang presents: Si Polan x2 sharing (RSVP)</td>\n",
       "      <td>2023-10-12</td>\n",
       "    </tr>\n",
       "    <tr>\n",
       "      <th>219</th>\n",
       "      <td>NWMCMN: The Path Between</td>\n",
       "      <td>2023-10-14</td>\n",
       "    </tr>\n",
       "  </tbody>\n",
       "</table>\n",
       "<p>69 rows × 2 columns</p>\n",
       "</div>"
      ],
      "text/plain": [
       "                                                  name start_date\n",
       "1              East Street Arts, A City Less Grey 2022 2022-10-08\n",
       "3                Phoenix Dance Theatre Virtual Gallery 2023-01-01\n",
       "4    The Big Art Giveaway, School of Creative Arts ... 2023-01-01\n",
       "5               Embassy of Netherlands, Meet Leeds Lab 2023-01-16\n",
       "6    Shifting Borders: A Journey to the Centre of o... 2023-01-24\n",
       "..                                                 ...        ...\n",
       "211             Re-imagining Home: Teacher CPD Session 2023-10-09\n",
       "212                                      TRANSFORM 23  2023-10-11\n",
       "213  Wild Irish Tales: An evening of story telling ... 2023-10-11\n",
       "215        Sayang presents: Si Polan x2 sharing (RSVP) 2023-10-12\n",
       "219                           NWMCMN: The Path Between 2023-10-14\n",
       "\n",
       "[69 rows x 2 columns]"
      ]
     },
     "execution_count": 9,
     "metadata": {},
     "output_type": "execute_result"
    }
   ],
   "source": [
    "data[data.postcode.isna()][[\n",
    "    'name', 'start_date'\n",
    "]]"
   ]
  },
  {
   "cell_type": "markdown",
   "id": "1c8c0ea9",
   "metadata": {
    "papermill": {
     "duration": 0.00322,
     "end_time": "2023-10-15T23:37:29.647341",
     "exception": false,
     "start_time": "2023-10-15T23:37:29.644121",
     "status": "completed"
    },
    "tags": []
   },
   "source": [
    "Plot the pricing"
   ]
  },
  {
   "cell_type": "code",
   "execution_count": 10,
   "id": "5e58264f",
   "metadata": {
    "execution": {
     "iopub.execute_input": "2023-10-15T23:37:29.654684Z",
     "iopub.status.busy": "2023-10-15T23:37:29.654464Z",
     "iopub.status.idle": "2023-10-15T23:37:30.159157Z",
     "shell.execute_reply": "2023-10-15T23:37:30.158571Z"
    },
    "papermill": {
     "duration": 0.510203,
     "end_time": "2023-10-15T23:37:30.160906",
     "exception": false,
     "start_time": "2023-10-15T23:37:29.650703",
     "status": "completed"
    },
    "tags": []
   },
   "outputs": [
    {
     "data": {
      "image/png": "[encoded data removed]",
      "text/plain": [
       "<Figure size 640x480 with 1 Axes>"
      ]
     },
     "metadata": {},
     "output_type": "display_data"
    }
   ],
   "source": [
    "# .groupby('pricing').count().plot.barh()\n",
    "pricing = data.pricing.fillna('Unspecified').str.replace('[\\[\\'\\]]', '', regex=True).to_frame().reset_index().groupby('pricing').count()\n",
    "\n",
    "pricing.columns = ['count']\n",
    "plot = pricing.plot.barh()\n"
   ]
  },
  {
   "cell_type": "code",
   "execution_count": null,
   "id": "8b69988d",
   "metadata": {
    "papermill": {
     "duration": 0.00374,
     "end_time": "2023-10-15T23:37:30.168380",
     "exception": false,
     "start_time": "2023-10-15T23:37:30.164640",
     "status": "completed"
    },
    "tags": []
   },
   "outputs": [],
   "source": []
  }
 ],
 "metadata": {
  "kernelspec": {
   "display_name": "leeds-2023-YZF5GfJv",
   "language": "python",
   "name": "python3"
  },
  "language_info": {
   "codemirror_mode": {
    "name": "ipython",
    "version": 3
   },
   "file_extension": ".py",
   "mimetype": "text/x-python",
   "name": "python",
   "nbconvert_exporter": "python",
   "pygments_lexer": "ipython3",
   "version": "3.10.13"
  },
  "papermill": {
   "default_parameters": {},
   "duration": 13.322949,
   "end_time": "2023-10-15T23:37:30.488723",
   "environment_variables": {},
   "exception": null,
   "input_path": "transform.ipynb",
   "output_path": "../../../working/output/partner-events-transform.ipynb",
   "parameters": {},
   "start_time": "2023-10-15T23:37:17.165774",
   "version": "2.4.0"
  }
 },
 "nbformat": 4,
 "nbformat_minor": 5
}