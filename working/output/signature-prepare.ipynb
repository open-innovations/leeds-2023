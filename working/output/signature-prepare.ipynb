{
 "cells": [
  {
   "cell_type": "code",
   "execution_count": 1,
   "id": "f18961a9",
   "metadata": {
    "execution": {
     "iopub.execute_input": "2023-10-09T23:39:58.997499Z",
     "iopub.status.busy": "2023-10-09T23:39:58.996812Z",
     "iopub.status.idle": "2023-10-09T23:40:08.960952Z",
     "shell.execute_reply": "2023-10-09T23:40:08.960279Z"
    },
    "papermill": {
     "duration": 9.969997,
     "end_time": "2023-10-09T23:40:08.962920",
     "exception": false,
     "start_time": "2023-10-09T23:39:58.992923",
     "status": "completed"
    },
    "tags": []
   },
   "outputs": [],
   "source": [
    "import os\n",
    "import pandas as pd\n",
    "from events import load_event_data, get_first_ward, normalise_ward"
   ]
  },
  {
   "cell_type": "code",
   "execution_count": 2,
   "id": "07f8aef2",
   "metadata": {
    "execution": {
     "iopub.execute_input": "2023-10-09T23:40:08.969267Z",
     "iopub.status.busy": "2023-10-09T23:40:08.968819Z",
     "iopub.status.idle": "2023-10-09T23:40:08.973490Z",
     "shell.execute_reply": "2023-10-09T23:40:08.972865Z"
    },
    "papermill": {
     "duration": 0.009522,
     "end_time": "2023-10-09T23:40:08.975071",
     "exception": false,
     "start_time": "2023-10-09T23:40:08.965549",
     "status": "completed"
    },
    "tags": []
   },
   "outputs": [],
   "source": [
    "latest_date = pd.Timestamp.today().ceil('D')"
   ]
  },
  {
   "cell_type": "code",
   "execution_count": 3,
   "id": "91abb9a5",
   "metadata": {
    "execution": {
     "iopub.execute_input": "2023-10-09T23:40:08.980768Z",
     "iopub.status.busy": "2023-10-09T23:40:08.980343Z",
     "iopub.status.idle": "2023-10-09T23:40:08.998958Z",
     "shell.execute_reply": "2023-10-09T23:40:08.997904Z"
    },
    "papermill": {
     "duration": 0.023145,
     "end_time": "2023-10-09T23:40:09.000442",
     "exception": false,
     "start_time": "2023-10-09T23:40:08.977297",
     "status": "completed"
    },
    "tags": []
   },
   "outputs": [],
   "source": [
    "tickets = pd.read_csv('../../../../data/metrics/events/tickets/orders.csv', parse_dates=['created_at', 'event_date'])\n",
    "tickets = tickets[tickets.event_date <= latest_date]"
   ]
  },
  {
   "cell_type": "code",
   "execution_count": 4,
   "id": "72d7875c",
   "metadata": {
    "execution": {
     "iopub.execute_input": "2023-10-09T23:40:09.006097Z",
     "iopub.status.busy": "2023-10-09T23:40:09.005679Z",
     "iopub.status.idle": "2023-10-09T23:40:09.237545Z",
     "shell.execute_reply": "2023-10-09T23:40:09.236893Z"
    },
    "papermill": {
     "duration": 0.236716,
     "end_time": "2023-10-09T23:40:09.239438",
     "exception": false,
     "start_time": "2023-10-09T23:40:09.002722",
     "status": "completed"
    },
    "tags": []
   },
   "outputs": [],
   "source": [
    "events = load_event_data()\n",
    "\n",
    "events = pd.concat([\n",
    "  events,\n",
    "  events.pipe(get_first_ward).pipe(normalise_ward).fillna('UNKNOWN'),\n",
    "  pd.Series(\n",
    "      events.actual_audience_size_number_of_participants_in_person + events.actual_audience_size_number_of_participants_online,\n",
    "      name='attendances'\n",
    "  )\n",
    "], axis=1).rename(columns={\n",
    "    'start_date': 'date'\n",
    "}).loc[:, ['ward_code', 'date', 'event_unique_identifier', 'attendances']]"
   ]
  },
  {
   "cell_type": "code",
   "execution_count": 5,
   "id": "02e41205",
   "metadata": {
    "execution": {
     "iopub.execute_input": "2023-10-09T23:40:09.246467Z",
     "iopub.status.busy": "2023-10-09T23:40:09.246006Z",
     "iopub.status.idle": "2023-10-09T23:40:09.249385Z",
     "shell.execute_reply": "2023-10-09T23:40:09.248810Z"
    },
    "papermill": {
     "duration": 0.008356,
     "end_time": "2023-10-09T23:40:09.250871",
     "exception": false,
     "start_time": "2023-10-09T23:40:09.242515",
     "status": "completed"
    },
    "tags": []
   },
   "outputs": [],
   "source": [
    "OUTPUT_DIR='../../../../docs/metrics/events/signature/_data/'\n",
    "os.makedirs(OUTPUT_DIR, exist_ok=True)"
   ]
  },
  {
   "cell_type": "markdown",
   "id": "8518ef5c",
   "metadata": {
    "papermill": {
     "duration": 0.002402,
     "end_time": "2023-10-09T23:40:09.255617",
     "exception": false,
     "start_time": "2023-10-09T23:40:09.253215",
     "status": "completed"
    },
    "tags": []
   },
   "source": [
    "Events CSVs"
   ]
  },
  {
   "cell_type": "code",
   "execution_count": 6,
   "id": "787d04ec",
   "metadata": {
    "execution": {
     "iopub.execute_input": "2023-10-09T23:40:09.261186Z",
     "iopub.status.busy": "2023-10-09T23:40:09.260959Z",
     "iopub.status.idle": "2023-10-09T23:40:09.267632Z",
     "shell.execute_reply": "2023-10-09T23:40:09.267010Z"
    },
    "papermill": {
     "duration": 0.011292,
     "end_time": "2023-10-09T23:40:09.269200",
     "exception": false,
     "start_time": "2023-10-09T23:40:09.257908",
     "status": "completed"
    },
    "tags": []
   },
   "outputs": [],
   "source": [
    "pd.DataFrame({\n",
    "  'events': events.groupby('ward_code').event_unique_identifier.count(),\n",
    "  'attendances': events.groupby('ward_code').attendances.sum().astype(int),\n",
    "}).to_csv(os.path.join(OUTPUT_DIR, 'events_by_ward.csv'))\n"
   ]
  },
  {
   "cell_type": "code",
   "execution_count": 7,
   "id": "d89bb7ae",
   "metadata": {
    "execution": {
     "iopub.execute_input": "2023-10-09T23:40:09.275012Z",
     "iopub.status.busy": "2023-10-09T23:40:09.274605Z",
     "iopub.status.idle": "2023-10-09T23:40:09.285553Z",
     "shell.execute_reply": "2023-10-09T23:40:09.284970Z"
    },
    "papermill": {
     "duration": 0.015521,
     "end_time": "2023-10-09T23:40:09.287099",
     "exception": false,
     "start_time": "2023-10-09T23:40:09.271578",
     "status": "completed"
    },
    "tags": []
   },
   "outputs": [],
   "source": [
    "pd.DataFrame({\n",
    "  'events': events.groupby('date').event_unique_identifier.count(),\n",
    "  'attendances': events.groupby('date').attendances.sum().astype(int),\n",
    "}).resample('M').sum().astype(int).to_csv(os.path.join(OUTPUT_DIR, 'events_by_date.csv'))"
   ]
  },
  {
   "cell_type": "markdown",
   "id": "46d12d13",
   "metadata": {
    "papermill": {
     "duration": 0.002402,
     "end_time": "2023-10-09T23:40:09.291889",
     "exception": false,
     "start_time": "2023-10-09T23:40:09.289487",
     "status": "completed"
    },
    "tags": []
   },
   "source": [
    "Tickets CSV"
   ]
  },
  {
   "cell_type": "code",
   "execution_count": 8,
   "id": "d2ad0e6e",
   "metadata": {
    "execution": {
     "iopub.execute_input": "2023-10-09T23:40:09.297646Z",
     "iopub.status.busy": "2023-10-09T23:40:09.297433Z",
     "iopub.status.idle": "2023-10-09T23:40:09.304019Z",
     "shell.execute_reply": "2023-10-09T23:40:09.303433Z"
    },
    "papermill": {
     "duration": 0.011274,
     "end_time": "2023-10-09T23:40:09.305531",
     "exception": false,
     "start_time": "2023-10-09T23:40:09.294257",
     "status": "completed"
    },
    "tags": []
   },
   "outputs": [],
   "source": [
    "pd.DataFrame({\n",
    "  'orders': tickets.groupby('ward_code').number_of_tickets.count(),\n",
    "  'tickets': tickets.groupby('ward_code').number_of_tickets.sum().astype(int),\n",
    "}).to_csv(os.path.join(OUTPUT_DIR, 'tickets_by_ward.csv'))"
   ]
  },
  {
   "cell_type": "code",
   "execution_count": 9,
   "id": "80329b8d",
   "metadata": {
    "execution": {
     "iopub.execute_input": "2023-10-09T23:40:09.311494Z",
     "iopub.status.busy": "2023-10-09T23:40:09.311078Z",
     "iopub.status.idle": "2023-10-09T23:40:09.318947Z",
     "shell.execute_reply": "2023-10-09T23:40:09.318365Z"
    },
    "papermill": {
     "duration": 0.012392,
     "end_time": "2023-10-09T23:40:09.320361",
     "exception": false,
     "start_time": "2023-10-09T23:40:09.307969",
     "status": "completed"
    },
    "tags": []
   },
   "outputs": [],
   "source": [
    "pd.DataFrame({\n",
    "  'orders': tickets.groupby('event_date').number_of_tickets.count(),\n",
    "  'tickets': tickets.groupby('event_date').number_of_tickets.sum().astype(int),\n",
    "}).resample('M').sum().to_csv(os.path.join(OUTPUT_DIR, 'tickets_by_event_date.csv'))"
   ]
  },
  {
   "cell_type": "code",
   "execution_count": 10,
   "id": "a61f5ae2",
   "metadata": {
    "execution": {
     "iopub.execute_input": "2023-10-09T23:40:09.327309Z",
     "iopub.status.busy": "2023-10-09T23:40:09.326751Z",
     "iopub.status.idle": "2023-10-09T23:40:09.331999Z",
     "shell.execute_reply": "2023-10-09T23:40:09.331346Z"
    },
    "papermill": {
     "duration": 0.010689,
     "end_time": "2023-10-09T23:40:09.333480",
     "exception": false,
     "start_time": "2023-10-09T23:40:09.322791",
     "status": "completed"
    },
    "tags": []
   },
   "outputs": [],
   "source": [
    "pd.Series({\n",
    "    'total_events': events.event_unique_identifier.count(),\n",
    "    'total_attendances': events.attendances.count(),\n",
    "    'first_event': events.date.min(),\n",
    "    'latest_event': events.date.max(),\n",
    "    'total_ticket_orders_for_events_to_date': tickets.number_of_tickets.count(),\n",
    "    'total_tickets_sold_for_events_to_date': tickets.number_of_tickets.sum(),\n",
    "}).to_json(os.path.join(OUTPUT_DIR, 'headlines.json'), indent=2)"
   ]
  },
  {
   "cell_type": "code",
   "execution_count": null,
   "id": "69bc9573",
   "metadata": {
    "papermill": {
     "duration": 0.002421,
     "end_time": "2023-10-09T23:40:09.338477",
     "exception": false,
     "start_time": "2023-10-09T23:40:09.336056",
     "status": "completed"
    },
    "tags": []
   },
   "outputs": [],
   "source": []
  }
 ],
 "metadata": {
  "kernelspec": {
   "display_name": "leeds-2023-YZF5GfJv",
   "language": "python",
   "name": "python3"
  },
  "language_info": {
   "codemirror_mode": {
    "name": "ipython",
    "version": 3
   },
   "file_extension": ".py",
   "mimetype": "text/x-python",
   "name": "python",
   "nbconvert_exporter": "python",
   "pygments_lexer": "ipython3",
   "version": "3.10.13"
  },
  "papermill": {
   "default_parameters": {},
   "duration": 12.026339,
   "end_time": "2023-10-09T23:40:09.657140",
   "environment_variables": {},
   "exception": null,
   "input_path": "prepare.ipynb",
   "output_path": "../../../../working/output/signature-prepare.ipynb",
   "parameters": {},
   "start_time": "2023-10-09T23:39:57.630801",
   "version": "2.4.0"
  }
 },
 "nbformat": 4,
 "nbformat_minor": 5
}