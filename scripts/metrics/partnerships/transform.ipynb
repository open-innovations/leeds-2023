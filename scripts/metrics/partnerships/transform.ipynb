{
 "cells": [
  {
   "cell_type": "code",
   "execution_count": 1,
   "metadata": {},
   "outputs": [],
   "source": [
    "import sys\n",
    "from pathlib import Path\n",
    "\n",
    "import pandas as pd\n",
    "\n",
    "TOP_DIR = Path('../../../').resolve()\n",
    "\n",
    "if str(TOP_DIR) not in sys.path: sys.path.append(str(TOP_DIR))"
   ]
  },
  {
   "cell_type": "code",
   "execution_count": 2,
   "metadata": {},
   "outputs": [],
   "source": [
    "from lib.util.geo import postcode_formatter, postcode_to_ward_code"
   ]
  },
  {
   "cell_type": "code",
   "execution_count": 3,
   "metadata": {},
   "outputs": [],
   "source": [
    "data = pd.read_csv(\n",
    "    '../../../working/metrics/partnerships/all.csv',\n",
    "    parse_dates=['Start date', 'End date'],\n",
    "    usecols=[\n",
    "        # 'Partner Lead Contact',\n",
    "        'Partner Organisation',\n",
    "        'List of countries involved',\n",
    "        'End date',\n",
    "        # 'Baseline survey completed by partner',\n",
    "        'Start date',\n",
    "        'Partner Venue Postcode',\n",
    "        # 'Notes',\n",
    "        'Partnership Status',\n",
    "        'Project Artform',\n",
    "        # 'Project Description',\n",
    "        'Project Name',\n",
    "        # 'Offered SAIL training',\n",
    "        'Project Output',\n",
    "        # 'L23 economic contribution',\n",
    "        'International element to project?',\n",
    "        'Online/in person/both',\n",
    "        'Number of countries involved',\n",
    "        'Season',\n",
    "        # 'Partner Venue Name',\n",
    "        # 'Contract signed by partner',\n",
    "        'Duration of activity/event',\n",
    "        # 'LEEDS 2023 Assignee.id',\n",
    "        # 'LEEDS 2023 Assignee.email',\n",
    "        # 'LEEDS 2023 Assignee.name',\n",
    "        # 'Last Modified By.id',\n",
    "        # 'Last Modified By.email',\n",
    "        # 'Last Modified By.name',\n",
    "        # 'Activity log completed by partner',\n",
    "        # 'Final survey completed by partner',\n",
    "        # 'Number of unique countries',\n",
    "        'Contains heritage, young people',\n",
    "        # 'Total budget',\n",
    "        'Digital audiences',\n",
    "        'Audience numbers',\n",
    "        'number of participants',\n",
    "        'Total number of events'\n",
    "    ]\n",
    ")"
   ]
  },
  {
   "cell_type": "code",
   "execution_count": 4,
   "metadata": {},
   "outputs": [
    {
     "data": {
      "text/plain": [
       "['Partner Organisation',\n",
       " 'List of countries involved',\n",
       " 'End date',\n",
       " 'Start date',\n",
       " 'Partner Venue Postcode',\n",
       " 'Partnership Status',\n",
       " 'Project Artform',\n",
       " 'Project Name',\n",
       " 'Project Output',\n",
       " 'International element to project?',\n",
       " 'Online/in person/both',\n",
       " 'Number of countries involved',\n",
       " 'Season',\n",
       " 'Duration of activity/event',\n",
       " 'Contains heritage, young people',\n",
       " 'Digital audiences',\n",
       " 'Audience numbers',\n",
       " 'number of participants',\n",
       " 'Total number of events']"
      ]
     },
     "execution_count": 4,
     "metadata": {},
     "output_type": "execute_result"
    }
   ],
   "source": [
    "data.columns.to_list()"
   ]
  },
  {
   "cell_type": "code",
   "execution_count": 5,
   "metadata": {},
   "outputs": [],
   "source": [
    "data.columns = data.columns.str.strip().str.lower().str.replace(r'[^a-z0-9]+', '_', regex=True)"
   ]
  },
  {
   "cell_type": "code",
   "execution_count": 6,
   "metadata": {},
   "outputs": [],
   "source": [
    "data['partner_venue_ward_code'] = data['partner_venue_postcode'].pipe(postcode_formatter).map(postcode_to_ward_code)"
   ]
  },
  {
   "cell_type": "code",
   "execution_count": 7,
   "metadata": {},
   "outputs": [],
   "source": [
    "data['list_of_countries_involved'] = (\n",
    "  data['list_of_countries_involved']\n",
    "    .str.strip()\n",
    "    .str.replace('[\\.]', '', regex=True)\n",
    "    .str.replace(r'[\\n]+|\\s*,\\s*', '|', regex=True)\n",
    "    .str.replace('The Netherlands','Netherlands')\n",
    "    .str.strip('|')\n",
    "    .str.split('|')\n",
    ")\n"
   ]
  },
  {
   "cell_type": "code",
   "execution_count": 8,
   "metadata": {},
   "outputs": [],
   "source": [
    "data['number_of_countries_involved'] = data.loc[data.list_of_countries_involved.notna(), 'list_of_countries_involved'].map(len)\n",
    "data['number_of_countries_involved'].fillna(0, inplace=True)"
   ]
  },
  {
   "cell_type": "code",
   "execution_count": 9,
   "metadata": {},
   "outputs": [],
   "source": [
    "OUTPUT_DIR = Path('../../../data/metrics/partnerships')\n",
    "OUTPUT_DIR.mkdir(parents=True, exist_ok=True)"
   ]
  },
  {
   "cell_type": "code",
   "execution_count": 10,
   "metadata": {},
   "outputs": [],
   "source": [
    "data.to_csv(\n",
    "  OUTPUT_DIR.joinpath('partnerships.csv'),\n",
    "  index=False\n",
    ")"
   ]
  },
  {
   "cell_type": "code",
   "execution_count": 12,
   "metadata": {},
   "outputs": [],
   "source": [
    "data.loc[data.list_of_countries_involved.notna(), 'list_of_countries_involved'].explode().drop_duplicates().sort_values().reset_index(drop=True).to_frame('unique_countries').to_csv(OUTPUT_DIR.joinpath('countries.csv'), index=False)"
   ]
  },
  {
   "cell_type": "code",
   "execution_count": null,
   "metadata": {},
   "outputs": [],
   "source": []
  }
 ],
 "metadata": {
  "kernelspec": {
   "display_name": "leeds-2023-YZF5GfJv",
   "language": "python",
   "name": "python3"
  },
  "language_info": {
   "codemirror_mode": {
    "name": "ipython",
    "version": 3
   },
   "file_extension": ".py",
   "mimetype": "text/x-python",
   "name": "python",
   "nbconvert_exporter": "python",
   "pygments_lexer": "ipython3",
   "version": "3.10.12"
  },
  "orig_nbformat": 4
 },
 "nbformat": 4,
 "nbformat_minor": 2
}
