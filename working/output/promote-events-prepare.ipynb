{
 "cells": [
  {
   "cell_type": "code",
   "execution_count": 1,
   "id": "c9afae21",
   "metadata": {
    "execution": {
     "iopub.execute_input": "2023-07-18T23:39:05.993660Z",
     "iopub.status.busy": "2023-07-18T23:39:05.993168Z",
     "iopub.status.idle": "2023-07-18T23:39:06.253351Z",
     "shell.execute_reply": "2023-07-18T23:39:06.252659Z"
    },
    "papermill": {
     "duration": 0.266207,
     "end_time": "2023-07-18T23:39:06.255676",
     "exception": false,
     "start_time": "2023-07-18T23:39:05.989469",
     "status": "completed"
    },
    "tags": []
   },
   "outputs": [],
   "source": [
    "import os\n",
    "import pandas as pd"
   ]
  },
  {
   "cell_type": "code",
   "execution_count": 2,
   "id": "41995599",
   "metadata": {
    "execution": {
     "iopub.execute_input": "2023-07-18T23:39:06.261196Z",
     "iopub.status.busy": "2023-07-18T23:39:06.260425Z",
     "iopub.status.idle": "2023-07-18T23:39:06.264190Z",
     "shell.execute_reply": "2023-07-18T23:39:06.263524Z"
    },
    "papermill": {
     "duration": 0.007961,
     "end_time": "2023-07-18T23:39:06.265651",
     "exception": false,
     "start_time": "2023-07-18T23:39:06.257690",
     "status": "completed"
    },
    "tags": []
   },
   "outputs": [],
   "source": [
    "DATA_DIR='../../../docs/metrics/events/promote/_data/'\n",
    "os.makedirs(DATA_DIR, exist_ok=True)"
   ]
  },
  {
   "cell_type": "code",
   "execution_count": 3,
   "id": "b4b3b9e8",
   "metadata": {
    "execution": {
     "iopub.execute_input": "2023-07-18T23:39:06.270135Z",
     "iopub.status.busy": "2023-07-18T23:39:06.269761Z",
     "iopub.status.idle": "2023-07-18T23:39:06.280103Z",
     "shell.execute_reply": "2023-07-18T23:39:06.279487Z"
    },
    "papermill": {
     "duration": 0.014481,
     "end_time": "2023-07-18T23:39:06.281798",
     "exception": false,
     "start_time": "2023-07-18T23:39:06.267317",
     "status": "completed"
    },
    "tags": []
   },
   "outputs": [],
   "source": [
    "data = pd.read_csv('../../../data/metrics/events/promote-events/events.csv', parse_dates=['time'])"
   ]
  },
  {
   "cell_type": "code",
   "execution_count": 4,
   "id": "251c24ad",
   "metadata": {
    "execution": {
     "iopub.execute_input": "2023-07-18T23:39:06.286423Z",
     "iopub.status.busy": "2023-07-18T23:39:06.286177Z",
     "iopub.status.idle": "2023-07-18T23:39:06.291961Z",
     "shell.execute_reply": "2023-07-18T23:39:06.291293Z"
    },
    "papermill": {
     "duration": 0.009897,
     "end_time": "2023-07-18T23:39:06.293432",
     "exception": false,
     "start_time": "2023-07-18T23:39:06.283535",
     "status": "completed"
    },
    "tags": []
   },
   "outputs": [],
   "source": [
    "pd.Series({\n",
    "    'total_events': len(data.id.unique()),\n",
    "    'total_event_instances': len(data.time),\n",
    "    'earliest_event': data.time.min(),\n",
    "    'latest_event': data.time.max(),\n",
    "}).to_json(\n",
    "    os.path.join(DATA_DIR, 'headlines.json'),\n",
    "    date_format='iso', indent=2\n",
    ")"
   ]
  },
  {
   "cell_type": "code",
   "execution_count": 5,
   "id": "05f61ea1",
   "metadata": {
    "execution": {
     "iopub.execute_input": "2023-07-18T23:39:06.297903Z",
     "iopub.status.busy": "2023-07-18T23:39:06.297549Z",
     "iopub.status.idle": "2023-07-18T23:39:06.306089Z",
     "shell.execute_reply": "2023-07-18T23:39:06.305481Z"
    },
    "papermill": {
     "duration": 0.012734,
     "end_time": "2023-07-18T23:39:06.307847",
     "exception": false,
     "start_time": "2023-07-18T23:39:06.295113",
     "status": "completed"
    },
    "tags": []
   },
   "outputs": [],
   "source": [
    "events = pd.DataFrame({\n",
    "    'events': data.groupby('id').agg({ 'time': 'min' }).reset_index().groupby('time').id.count(),\n",
    "    'event_instances': data.groupby('time').id.count(),\n",
    "}).fillna(0).astype(int)"
   ]
  },
  {
   "cell_type": "code",
   "execution_count": 6,
   "id": "83682827",
   "metadata": {
    "execution": {
     "iopub.execute_input": "2023-07-18T23:39:06.312514Z",
     "iopub.status.busy": "2023-07-18T23:39:06.312140Z",
     "iopub.status.idle": "2023-07-18T23:39:06.315952Z",
     "shell.execute_reply": "2023-07-18T23:39:06.315271Z"
    },
    "papermill": {
     "duration": 0.007839,
     "end_time": "2023-07-18T23:39:06.317462",
     "exception": false,
     "start_time": "2023-07-18T23:39:06.309623",
     "status": "completed"
    },
    "tags": []
   },
   "outputs": [],
   "source": [
    "def cumulate(data):\n",
    "    return pd.concat([\n",
    "        data,\n",
    "        data.cumsum().rename(columns=lambda c: f'cumulative_{c}')\n",
    "    ], axis=1)"
   ]
  },
  {
   "cell_type": "code",
   "execution_count": 7,
   "id": "449b02b6",
   "metadata": {
    "execution": {
     "iopub.execute_input": "2023-07-18T23:39:06.322139Z",
     "iopub.status.busy": "2023-07-18T23:39:06.321639Z",
     "iopub.status.idle": "2023-07-18T23:39:06.331976Z",
     "shell.execute_reply": "2023-07-18T23:39:06.331362Z"
    },
    "papermill": {
     "duration": 0.014645,
     "end_time": "2023-07-18T23:39:06.333822",
     "exception": false,
     "start_time": "2023-07-18T23:39:06.319177",
     "status": "completed"
    },
    "tags": []
   },
   "outputs": [],
   "source": [
    "events.resample('W-FRI').sum().pipe(cumulate).to_csv(os.path.join(DATA_DIR, 'by_week.csv'))"
   ]
  },
  {
   "cell_type": "code",
   "execution_count": 8,
   "id": "cfd77289",
   "metadata": {
    "execution": {
     "iopub.execute_input": "2023-07-18T23:39:06.338626Z",
     "iopub.status.busy": "2023-07-18T23:39:06.338203Z",
     "iopub.status.idle": "2023-07-18T23:39:06.344358Z",
     "shell.execute_reply": "2023-07-18T23:39:06.343740Z"
    },
    "papermill": {
     "duration": 0.010124,
     "end_time": "2023-07-18T23:39:06.345812",
     "exception": false,
     "start_time": "2023-07-18T23:39:06.335688",
     "status": "completed"
    },
    "tags": []
   },
   "outputs": [],
   "source": [
    "events.resample('MS').sum().pipe(cumulate).to_csv(os.path.join(DATA_DIR, 'by_month.csv'))"
   ]
  },
  {
   "cell_type": "code",
   "execution_count": null,
   "id": "e138b963",
   "metadata": {
    "papermill": {
     "duration": 0.001722,
     "end_time": "2023-07-18T23:39:06.349290",
     "exception": false,
     "start_time": "2023-07-18T23:39:06.347568",
     "status": "completed"
    },
    "tags": []
   },
   "outputs": [],
   "source": []
  }
 ],
 "metadata": {
  "kernelspec": {
   "display_name": "leeds-2023-YZF5GfJv",
   "language": "python",
   "name": "python3"
  },
  "language_info": {
   "codemirror_mode": {
    "name": "ipython",
    "version": 3
   },
   "file_extension": ".py",
   "mimetype": "text/x-python",
   "name": "python",
   "nbconvert_exporter": "python",
   "pygments_lexer": "ipython3",
   "version": "3.10.6"
  },
  "papermill": {
   "default_parameters": {},
   "duration": 1.935811,
   "end_time": "2023-07-18T23:39:06.568068",
   "environment_variables": {},
   "exception": null,
   "input_path": "prepare.ipynb",
   "output_path": "../../../working/output/promote-events-prepare.ipynb",
   "parameters": {},
   "start_time": "2023-07-18T23:39:04.632257",
   "version": "2.4.0"
  }
 },
 "nbformat": 4,
 "nbformat_minor": 5
}