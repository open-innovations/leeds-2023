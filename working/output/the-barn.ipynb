{
 "cells": [
  {
   "cell_type": "markdown",
   "id": "b8c1625d",
   "metadata": {
    "papermill": {
     "duration": 0.002574,
     "end_time": "2023-11-24T23:39:42.275662",
     "exception": false,
     "start_time": "2023-11-24T23:39:42.273088",
     "status": "completed"
    },
    "tags": []
   },
   "source": [
    "# The Barn\n",
    "\n",
    "Prepares data for The Barn signature events page"
   ]
  },
  {
   "cell_type": "code",
   "execution_count": 1,
   "id": "eace5081",
   "metadata": {
    "execution": {
     "iopub.execute_input": "2023-11-24T23:39:42.280707Z",
     "iopub.status.busy": "2023-11-24T23:39:42.280339Z",
     "iopub.status.idle": "2023-11-24T23:39:49.437977Z",
     "shell.execute_reply": "2023-11-24T23:39:49.437257Z"
    },
    "papermill": {
     "duration": 7.162083,
     "end_time": "2023-11-24T23:39:49.439742",
     "exception": false,
     "start_time": "2023-11-24T23:39:42.277659",
     "status": "completed"
    },
    "tags": []
   },
   "outputs": [],
   "source": [
    "from events import (\n",
    "    load_event_data, filter_public_events, filter_by_project, prepare, save_files, count_wards\n",
    ")"
   ]
  },
  {
   "cell_type": "markdown",
   "id": "ed79ab1b",
   "metadata": {
    "papermill": {
     "duration": 0.002189,
     "end_time": "2023-11-24T23:39:49.444055",
     "exception": false,
     "start_time": "2023-11-24T23:39:49.441866",
     "status": "completed"
    },
    "tags": []
   },
   "source": [
    "Set an output directory"
   ]
  },
  {
   "cell_type": "code",
   "execution_count": 2,
   "id": "b5577820",
   "metadata": {
    "execution": {
     "iopub.execute_input": "2023-11-24T23:39:49.449082Z",
     "iopub.status.busy": "2023-11-24T23:39:49.448659Z",
     "iopub.status.idle": "2023-11-24T23:39:49.451722Z",
     "shell.execute_reply": "2023-11-24T23:39:49.451158Z"
    },
    "papermill": {
     "duration": 0.007071,
     "end_time": "2023-11-24T23:39:49.452997",
     "exception": false,
     "start_time": "2023-11-24T23:39:49.445926",
     "status": "completed"
    },
    "tags": []
   },
   "outputs": [],
   "source": [
    "OUT_DIR = '../../../../docs/metrics/events/the-barn/_data/events'"
   ]
  },
  {
   "cell_type": "markdown",
   "id": "029712e5",
   "metadata": {
    "papermill": {
     "duration": 0.001911,
     "end_time": "2023-11-24T23:39:49.456823",
     "exception": false,
     "start_time": "2023-11-24T23:39:49.454912",
     "status": "completed"
    },
    "tags": []
   },
   "source": [
    "Read in event data and filter by **The Barn**"
   ]
  },
  {
   "cell_type": "code",
   "execution_count": 3,
   "id": "28366a23",
   "metadata": {
    "execution": {
     "iopub.execute_input": "2023-11-24T23:39:49.461568Z",
     "iopub.status.busy": "2023-11-24T23:39:49.461212Z",
     "iopub.status.idle": "2023-11-24T23:39:49.474488Z",
     "shell.execute_reply": "2023-11-24T23:39:49.473833Z"
    },
    "papermill": {
     "duration": 0.017072,
     "end_time": "2023-11-24T23:39:49.475809",
     "exception": false,
     "start_time": "2023-11-24T23:39:49.458737",
     "status": "completed"
    },
    "tags": []
   },
   "outputs": [],
   "source": [
    "data = (\n",
    "  load_event_data()\n",
    "    .pipe(filter_by_project, '05 - The Barn')\n",
    "    .pipe(filter_public_events)\n",
    "  )"
   ]
  },
  {
   "cell_type": "markdown",
   "id": "23c0a4c5",
   "metadata": {
    "papermill": {
     "duration": 0.001913,
     "end_time": "2023-11-24T23:39:49.479626",
     "exception": false,
     "start_time": "2023-11-24T23:39:49.477713",
     "status": "completed"
    },
    "tags": []
   },
   "source": [
    "Run the processing and save the files"
   ]
  },
  {
   "cell_type": "code",
   "execution_count": 4,
   "id": "d74c1a3e",
   "metadata": {
    "execution": {
     "iopub.execute_input": "2023-11-24T23:39:49.484405Z",
     "iopub.status.busy": "2023-11-24T23:39:49.483954Z",
     "iopub.status.idle": "2023-11-24T23:39:49.507285Z",
     "shell.execute_reply": "2023-11-24T23:39:49.506777Z"
    },
    "papermill": {
     "duration": 0.027089,
     "end_time": "2023-11-24T23:39:49.508564",
     "exception": false,
     "start_time": "2023-11-24T23:39:49.481475",
     "status": "completed"
    },
    "tags": []
   },
   "outputs": [],
   "source": [
    "data = data.pipe(prepare).pipe(save_files, OUT_DIR)"
   ]
  },
  {
   "cell_type": "markdown",
   "id": "2c1bd7e4",
   "metadata": {
    "papermill": {
     "duration": 0.001859,
     "end_time": "2023-11-24T23:39:49.513162",
     "exception": false,
     "start_time": "2023-11-24T23:39:49.511303",
     "status": "completed"
    },
    "tags": []
   },
   "source": [
    "Print a list of events which have no ward, or more than one"
   ]
  },
  {
   "cell_type": "code",
   "execution_count": 5,
   "id": "cf62cb43",
   "metadata": {
    "execution": {
     "iopub.execute_input": "2023-11-24T23:39:49.517800Z",
     "iopub.status.busy": "2023-11-24T23:39:49.517608Z",
     "iopub.status.idle": "2023-11-24T23:39:49.529157Z",
     "shell.execute_reply": "2023-11-24T23:39:49.528627Z"
    },
    "papermill": {
     "duration": 0.015401,
     "end_time": "2023-11-24T23:39:49.530485",
     "exception": false,
     "start_time": "2023-11-24T23:39:49.515084",
     "status": "completed"
    },
    "tags": []
   },
   "outputs": [
    {
     "data": {
      "text/html": [
       "<div>\n",
       "<style scoped>\n",
       "    .dataframe tbody tr th:only-of-type {\n",
       "        vertical-align: middle;\n",
       "    }\n",
       "\n",
       "    .dataframe tbody tr th {\n",
       "        vertical-align: top;\n",
       "    }\n",
       "\n",
       "    .dataframe thead th {\n",
       "        text-align: right;\n",
       "    }\n",
       "</style>\n",
       "<table border=\"1\" class=\"dataframe\">\n",
       "  <thead>\n",
       "    <tr style=\"text-align: right;\">\n",
       "      <th></th>\n",
       "      <th>airtable_id</th>\n",
       "      <th>event_name</th>\n",
       "      <th>start_date</th>\n",
       "      <th>ward_(from_venue)</th>\n",
       "    </tr>\n",
       "  </thead>\n",
       "  <tbody>\n",
       "    <tr>\n",
       "      <th>699</th>\n",
       "      <td>351</td>\n",
       "      <td>The Space Digital Interactive Playspace</td>\n",
       "      <td>2023-05-16</td>\n",
       "      <td>NaN</td>\n",
       "    </tr>\n",
       "    <tr>\n",
       "      <th>700</th>\n",
       "      <td>1623</td>\n",
       "      <td>The Space Digital Interactive Playspace (schoo...</td>\n",
       "      <td>2023-05-16</td>\n",
       "      <td>NaN</td>\n",
       "    </tr>\n",
       "  </tbody>\n",
       "</table>\n",
       "</div>"
      ],
      "text/plain": [
       "     airtable_id                                         event_name  \\\n",
       "699          351           The Space Digital Interactive Playspace    \n",
       "700         1623  The Space Digital Interactive Playspace (schoo...   \n",
       "\n",
       "    start_date ward_(from_venue)  \n",
       "699 2023-05-16               NaN  \n",
       "700 2023-05-16               NaN  "
      ]
     },
     "execution_count": 5,
     "metadata": {},
     "output_type": "execute_result"
    }
   ],
   "source": [
    "data[data.pipe(count_wards) != 1][[\n",
    "    'airtable_id',\n",
    "    'event_name',\n",
    "    'start_date',\n",
    "    'ward_(from_venue)',\n",
    "]]"
   ]
  },
  {
   "cell_type": "markdown",
   "id": "d107bcff",
   "metadata": {
    "papermill": {
     "duration": 0.00214,
     "end_time": "2023-11-24T23:39:49.534762",
     "exception": false,
     "start_time": "2023-11-24T23:39:49.532622",
     "status": "completed"
    },
    "tags": []
   },
   "source": [
    "Print a list of events with no audience recorded"
   ]
  },
  {
   "cell_type": "code",
   "execution_count": 6,
   "id": "1fce613e",
   "metadata": {
    "execution": {
     "iopub.execute_input": "2023-11-24T23:39:49.539728Z",
     "iopub.status.busy": "2023-11-24T23:39:49.539540Z",
     "iopub.status.idle": "2023-11-24T23:39:49.547478Z",
     "shell.execute_reply": "2023-11-24T23:39:49.546942Z"
    },
    "papermill": {
     "duration": 0.011957,
     "end_time": "2023-11-24T23:39:49.548781",
     "exception": false,
     "start_time": "2023-11-24T23:39:49.536824",
     "status": "completed"
    },
    "tags": []
   },
   "outputs": [
    {
     "data": {
      "text/html": [
       "<div>\n",
       "<style scoped>\n",
       "    .dataframe tbody tr th:only-of-type {\n",
       "        vertical-align: middle;\n",
       "    }\n",
       "\n",
       "    .dataframe tbody tr th {\n",
       "        vertical-align: top;\n",
       "    }\n",
       "\n",
       "    .dataframe thead th {\n",
       "        text-align: right;\n",
       "    }\n",
       "</style>\n",
       "<table border=\"1\" class=\"dataframe\">\n",
       "  <thead>\n",
       "    <tr style=\"text-align: right;\">\n",
       "      <th></th>\n",
       "      <th>airtable_id</th>\n",
       "      <th>event_name</th>\n",
       "      <th>start_date</th>\n",
       "      <th>audience_size</th>\n",
       "    </tr>\n",
       "  </thead>\n",
       "  <tbody>\n",
       "    <tr>\n",
       "      <th>675</th>\n",
       "      <td>1156</td>\n",
       "      <td>Shazia Mirza - 9pm show</td>\n",
       "      <td>2023-05-11</td>\n",
       "      <td>0.0</td>\n",
       "    </tr>\n",
       "    <tr>\n",
       "      <th>723</th>\n",
       "      <td>1162</td>\n",
       "      <td>Christie Watson</td>\n",
       "      <td>2023-05-21</td>\n",
       "      <td>0.0</td>\n",
       "    </tr>\n",
       "  </tbody>\n",
       "</table>\n",
       "</div>"
      ],
      "text/plain": [
       "     airtable_id               event_name start_date  audience_size\n",
       "675         1156  Shazia Mirza - 9pm show 2023-05-11            0.0\n",
       "723         1162          Christie Watson 2023-05-21            0.0"
      ]
     },
     "execution_count": 6,
     "metadata": {},
     "output_type": "execute_result"
    }
   ],
   "source": [
    "data[data.audience_size == 0][[\n",
    "    'airtable_id', 'event_name', 'start_date', 'audience_size'\n",
    "]]"
   ]
  },
  {
   "cell_type": "markdown",
   "id": "27b27351",
   "metadata": {
    "papermill": {
     "duration": 0.002272,
     "end_time": "2023-11-24T23:39:49.553443",
     "exception": false,
     "start_time": "2023-11-24T23:39:49.551171",
     "status": "completed"
    },
    "tags": []
   },
   "source": [
    "Plot event types shown"
   ]
  },
  {
   "cell_type": "code",
   "execution_count": 7,
   "id": "10312de4",
   "metadata": {
    "execution": {
     "iopub.execute_input": "2023-11-24T23:39:49.558982Z",
     "iopub.status.busy": "2023-11-24T23:39:49.558581Z",
     "iopub.status.idle": "2023-11-24T23:39:49.983429Z",
     "shell.execute_reply": "2023-11-24T23:39:49.982758Z"
    },
    "papermill": {
     "duration": 0.429088,
     "end_time": "2023-11-24T23:39:49.984804",
     "exception": false,
     "start_time": "2023-11-24T23:39:49.555716",
     "status": "completed"
    },
    "tags": []
   },
   "outputs": [
    {
     "data": {
      "image/png": "[encoded data removed]",
      "text/plain": [
       "<Figure size 640x480 with 1 Axes>"
      ]
     },
     "metadata": {},
     "output_type": "display_data"
    }
   ],
   "source": [
    "plot = data.groupby('event_type').event_name.count().plot.barh()\n",
    "plot.xaxis.label.set_text('Number of events')\n",
    "plot.yaxis.label.set_text('Event Type Labels')"
   ]
  }
 ],
 "metadata": {
  "kernelspec": {
   "display_name": "leeds-2023-YZF5GfJv",
   "language": "python",
   "name": "python3"
  },
  "language_info": {
   "codemirror_mode": {
    "name": "ipython",
    "version": 3
   },
   "file_extension": ".py",
   "mimetype": "text/x-python",
   "name": "python",
   "nbconvert_exporter": "python",
   "pygments_lexer": "ipython3",
   "version": "3.10.13"
  },
  "papermill": {
   "default_parameters": {},
   "duration": 9.2713,
   "end_time": "2023-11-24T23:39:50.303617",
   "environment_variables": {},
   "exception": null,
   "input_path": "the-barn.ipynb",
   "output_path": "../../../../working/output/the-barn.ipynb",
   "parameters": {},
   "start_time": "2023-11-24T23:39:41.032317",
   "version": "2.4.0"
  }
 },
 "nbformat": 4,
 "nbformat_minor": 5
}