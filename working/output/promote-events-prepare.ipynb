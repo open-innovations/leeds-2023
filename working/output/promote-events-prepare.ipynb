{
 "cells": [
  {
   "cell_type": "code",
   "execution_count": 1,
   "id": "c60f92a3",
   "metadata": {
    "execution": {
     "iopub.execute_input": "2023-08-19T10:22:19.730286Z",
     "iopub.status.busy": "2023-08-19T10:22:19.729484Z",
     "iopub.status.idle": "2023-08-19T10:22:19.973230Z",
     "shell.execute_reply": "2023-08-19T10:22:19.972523Z"
    },
    "papermill": {
     "duration": 0.249858,
     "end_time": "2023-08-19T10:22:19.975524",
     "exception": false,
     "start_time": "2023-08-19T10:22:19.725666",
     "status": "completed"
    },
    "tags": []
   },
   "outputs": [],
   "source": [
    "import os\n",
    "import pandas as pd"
   ]
  },
  {
   "cell_type": "code",
   "execution_count": 2,
   "id": "cf36a327",
   "metadata": {
    "execution": {
     "iopub.execute_input": "2023-08-19T10:22:19.980986Z",
     "iopub.status.busy": "2023-08-19T10:22:19.980197Z",
     "iopub.status.idle": "2023-08-19T10:22:19.984910Z",
     "shell.execute_reply": "2023-08-19T10:22:19.984198Z"
    },
    "papermill": {
     "duration": 0.008848,
     "end_time": "2023-08-19T10:22:19.986351",
     "exception": false,
     "start_time": "2023-08-19T10:22:19.977503",
     "status": "completed"
    },
    "tags": []
   },
   "outputs": [],
   "source": [
    "DATA_DIR='../../../docs/metrics/events/promote/_data/'\n",
    "os.makedirs(DATA_DIR, exist_ok=True)"
   ]
  },
  {
   "cell_type": "code",
   "execution_count": 3,
   "id": "f50b9d27",
   "metadata": {
    "execution": {
     "iopub.execute_input": "2023-08-19T10:22:19.990653Z",
     "iopub.status.busy": "2023-08-19T10:22:19.990243Z",
     "iopub.status.idle": "2023-08-19T10:22:19.998517Z",
     "shell.execute_reply": "2023-08-19T10:22:19.997966Z"
    },
    "papermill": {
     "duration": 0.012077,
     "end_time": "2023-08-19T10:22:20.000018",
     "exception": false,
     "start_time": "2023-08-19T10:22:19.987941",
     "status": "completed"
    },
    "tags": []
   },
   "outputs": [],
   "source": [
    "data = pd.read_csv('../../../data/metrics/events/promote-events/events.csv', parse_dates=['time'])"
   ]
  },
  {
   "cell_type": "code",
   "execution_count": 4,
   "id": "67d10242",
   "metadata": {
    "execution": {
     "iopub.execute_input": "2023-08-19T10:22:20.004365Z",
     "iopub.status.busy": "2023-08-19T10:22:20.003962Z",
     "iopub.status.idle": "2023-08-19T10:22:20.009128Z",
     "shell.execute_reply": "2023-08-19T10:22:20.008467Z"
    },
    "papermill": {
     "duration": 0.009011,
     "end_time": "2023-08-19T10:22:20.010622",
     "exception": false,
     "start_time": "2023-08-19T10:22:20.001611",
     "status": "completed"
    },
    "tags": []
   },
   "outputs": [],
   "source": [
    "pd.Series({\n",
    "    'total_events': len(data.id.unique()),\n",
    "    'total_event_instances': len(data.time),\n",
    "    'earliest_event': data.time.min(),\n",
    "    'latest_event': data.time.max(),\n",
    "}).to_json(\n",
    "    os.path.join(DATA_DIR, 'headlines.json'),\n",
    "    date_format='iso', indent=2\n",
    ")"
   ]
  },
  {
   "cell_type": "code",
   "execution_count": 5,
   "id": "6cb16bfd",
   "metadata": {
    "execution": {
     "iopub.execute_input": "2023-08-19T10:22:20.015007Z",
     "iopub.status.busy": "2023-08-19T10:22:20.014605Z",
     "iopub.status.idle": "2023-08-19T10:22:20.022539Z",
     "shell.execute_reply": "2023-08-19T10:22:20.021892Z"
    },
    "papermill": {
     "duration": 0.011826,
     "end_time": "2023-08-19T10:22:20.024075",
     "exception": false,
     "start_time": "2023-08-19T10:22:20.012249",
     "status": "completed"
    },
    "tags": []
   },
   "outputs": [],
   "source": [
    "events = pd.DataFrame({\n",
    "    'events': data.groupby('id').agg({ 'time': 'min' }).reset_index().groupby('time').id.count(),\n",
    "    'event_instances': data.groupby('time').id.count(),\n",
    "}).fillna(0).astype(int)"
   ]
  },
  {
   "cell_type": "code",
   "execution_count": 6,
   "id": "76437a49",
   "metadata": {
    "execution": {
     "iopub.execute_input": "2023-08-19T10:22:20.028471Z",
     "iopub.status.busy": "2023-08-19T10:22:20.028075Z",
     "iopub.status.idle": "2023-08-19T10:22:20.031474Z",
     "shell.execute_reply": "2023-08-19T10:22:20.030856Z"
    },
    "papermill": {
     "duration": 0.007263,
     "end_time": "2023-08-19T10:22:20.033011",
     "exception": false,
     "start_time": "2023-08-19T10:22:20.025748",
     "status": "completed"
    },
    "tags": []
   },
   "outputs": [],
   "source": [
    "def cumulate(data):\n",
    "    return pd.concat([\n",
    "        data,\n",
    "        data.cumsum().rename(columns=lambda c: f'cumulative_{c}')\n",
    "    ], axis=1)"
   ]
  },
  {
   "cell_type": "code",
   "execution_count": 7,
   "id": "7e444eed",
   "metadata": {
    "execution": {
     "iopub.execute_input": "2023-08-19T10:22:20.037348Z",
     "iopub.status.busy": "2023-08-19T10:22:20.036959Z",
     "iopub.status.idle": "2023-08-19T10:22:20.046433Z",
     "shell.execute_reply": "2023-08-19T10:22:20.045876Z"
    },
    "papermill": {
     "duration": 0.013333,
     "end_time": "2023-08-19T10:22:20.047982",
     "exception": false,
     "start_time": "2023-08-19T10:22:20.034649",
     "status": "completed"
    },
    "tags": []
   },
   "outputs": [],
   "source": [
    "events.resample('W-FRI').sum().pipe(cumulate).to_csv(os.path.join(DATA_DIR, 'by_week.csv'))"
   ]
  },
  {
   "cell_type": "code",
   "execution_count": 8,
   "id": "963e0d5f",
   "metadata": {
    "execution": {
     "iopub.execute_input": "2023-08-19T10:22:20.052636Z",
     "iopub.status.busy": "2023-08-19T10:22:20.052229Z",
     "iopub.status.idle": "2023-08-19T10:22:20.058016Z",
     "shell.execute_reply": "2023-08-19T10:22:20.057411Z"
    },
    "papermill": {
     "duration": 0.009583,
     "end_time": "2023-08-19T10:22:20.059421",
     "exception": false,
     "start_time": "2023-08-19T10:22:20.049838",
     "status": "completed"
    },
    "tags": []
   },
   "outputs": [],
   "source": [
    "events.resample('MS').sum().pipe(cumulate).to_csv(os.path.join(DATA_DIR, 'by_month.csv'))"
   ]
  },
  {
   "cell_type": "code",
   "execution_count": null,
   "id": "39de23b5",
   "metadata": {
    "papermill": {
     "duration": 0.001675,
     "end_time": "2023-08-19T10:22:20.062837",
     "exception": false,
     "start_time": "2023-08-19T10:22:20.061162",
     "status": "completed"
    },
    "tags": []
   },
   "outputs": [],
   "source": []
  }
 ],
 "metadata": {
  "kernelspec": {
   "display_name": "leeds-2023-YZF5GfJv",
   "language": "python",
   "name": "python3"
  },
  "language_info": {
   "codemirror_mode": {
    "name": "ipython",
    "version": 3
   },
   "file_extension": ".py",
   "mimetype": "text/x-python",
   "name": "python",
   "nbconvert_exporter": "python",
   "pygments_lexer": "ipython3",
   "version": "3.10.12"
  },
  "papermill": {
   "default_parameters": {},
   "duration": 1.93664,
   "end_time": "2023-08-19T10:22:20.280844",
   "environment_variables": {},
   "exception": null,
   "input_path": "prepare.ipynb",
   "output_path": "../../../working/output/promote-events-prepare.ipynb",
   "parameters": {},
   "start_time": "2023-08-19T10:22:18.344204",
   "version": "2.4.0"
  }
 },
 "nbformat": 4,
 "nbformat_minor": 5
}