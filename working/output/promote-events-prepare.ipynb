{
 "cells": [
  {
   "cell_type": "code",
   "execution_count": 1,
   "id": "7f724f07",
   "metadata": {
    "execution": {
     "iopub.execute_input": "2023-07-15T23:39:50.572784Z",
     "iopub.status.busy": "2023-07-15T23:39:50.572265Z",
     "iopub.status.idle": "2023-07-15T23:39:50.799805Z",
     "shell.execute_reply": "2023-07-15T23:39:50.799193Z"
    },
    "papermill": {
     "duration": 0.232706,
     "end_time": "2023-07-15T23:39:50.801858",
     "exception": false,
     "start_time": "2023-07-15T23:39:50.569152",
     "status": "completed"
    },
    "tags": []
   },
   "outputs": [],
   "source": [
    "import os\n",
    "import pandas as pd"
   ]
  },
  {
   "cell_type": "code",
   "execution_count": 2,
   "id": "913de5f7",
   "metadata": {
    "execution": {
     "iopub.execute_input": "2023-07-15T23:39:50.806544Z",
     "iopub.status.busy": "2023-07-15T23:39:50.806064Z",
     "iopub.status.idle": "2023-07-15T23:39:50.809293Z",
     "shell.execute_reply": "2023-07-15T23:39:50.808697Z"
    },
    "papermill": {
     "duration": 0.007064,
     "end_time": "2023-07-15T23:39:50.810774",
     "exception": false,
     "start_time": "2023-07-15T23:39:50.803710",
     "status": "completed"
    },
    "tags": []
   },
   "outputs": [],
   "source": [
    "DATA_DIR='../../../docs/metrics/events/promote/_data/'\n",
    "os.makedirs(DATA_DIR, exist_ok=True)"
   ]
  },
  {
   "cell_type": "code",
   "execution_count": 3,
   "id": "8cb3a51d",
   "metadata": {
    "execution": {
     "iopub.execute_input": "2023-07-15T23:39:50.815033Z",
     "iopub.status.busy": "2023-07-15T23:39:50.814529Z",
     "iopub.status.idle": "2023-07-15T23:39:50.823415Z",
     "shell.execute_reply": "2023-07-15T23:39:50.822892Z"
    },
    "papermill": {
     "duration": 0.012439,
     "end_time": "2023-07-15T23:39:50.824773",
     "exception": false,
     "start_time": "2023-07-15T23:39:50.812334",
     "status": "completed"
    },
    "tags": []
   },
   "outputs": [],
   "source": [
    "data = pd.read_csv('../../../data/metrics/events/promote-events/events.csv', parse_dates=['time'])"
   ]
  },
  {
   "cell_type": "code",
   "execution_count": 4,
   "id": "753e08bb",
   "metadata": {
    "execution": {
     "iopub.execute_input": "2023-07-15T23:39:50.828878Z",
     "iopub.status.busy": "2023-07-15T23:39:50.828560Z",
     "iopub.status.idle": "2023-07-15T23:39:50.833542Z",
     "shell.execute_reply": "2023-07-15T23:39:50.832939Z"
    },
    "papermill": {
     "duration": 0.008575,
     "end_time": "2023-07-15T23:39:50.834916",
     "exception": false,
     "start_time": "2023-07-15T23:39:50.826341",
     "status": "completed"
    },
    "tags": []
   },
   "outputs": [],
   "source": [
    "pd.Series({\n",
    "    'total_events': len(data.id.unique()),\n",
    "    'total_event_instances': len(data.time),\n",
    "    'earliest_event': data.time.min(),\n",
    "    'latest_event': data.time.max(),\n",
    "}).to_json(\n",
    "    os.path.join(DATA_DIR, 'headlines.json'),\n",
    "    date_format='iso', indent=2\n",
    ")"
   ]
  },
  {
   "cell_type": "code",
   "execution_count": 5,
   "id": "3a7c23d8",
   "metadata": {
    "execution": {
     "iopub.execute_input": "2023-07-15T23:39:50.839140Z",
     "iopub.status.busy": "2023-07-15T23:39:50.838657Z",
     "iopub.status.idle": "2023-07-15T23:39:50.845914Z",
     "shell.execute_reply": "2023-07-15T23:39:50.845371Z"
    },
    "papermill": {
     "duration": 0.010815,
     "end_time": "2023-07-15T23:39:50.847282",
     "exception": false,
     "start_time": "2023-07-15T23:39:50.836467",
     "status": "completed"
    },
    "tags": []
   },
   "outputs": [],
   "source": [
    "events = pd.DataFrame({\n",
    "    'events': data.groupby('id').agg({ 'time': 'min' }).reset_index().groupby('time').id.count(),\n",
    "    'event_instances': data.groupby('time').id.count(),\n",
    "}).fillna(0).astype(int)"
   ]
  },
  {
   "cell_type": "code",
   "execution_count": 6,
   "id": "bbeb8c7e",
   "metadata": {
    "execution": {
     "iopub.execute_input": "2023-07-15T23:39:50.851489Z",
     "iopub.status.busy": "2023-07-15T23:39:50.851105Z",
     "iopub.status.idle": "2023-07-15T23:39:50.854366Z",
     "shell.execute_reply": "2023-07-15T23:39:50.853781Z"
    },
    "papermill": {
     "duration": 0.006927,
     "end_time": "2023-07-15T23:39:50.855805",
     "exception": false,
     "start_time": "2023-07-15T23:39:50.848878",
     "status": "completed"
    },
    "tags": []
   },
   "outputs": [],
   "source": [
    "def cumulate(data):\n",
    "    return pd.concat([\n",
    "        data,\n",
    "        data.cumsum().rename(columns=lambda c: f'cumulative_{c}')\n",
    "    ], axis=1)"
   ]
  },
  {
   "cell_type": "code",
   "execution_count": 7,
   "id": "391147a8",
   "metadata": {
    "execution": {
     "iopub.execute_input": "2023-07-15T23:39:50.859980Z",
     "iopub.status.busy": "2023-07-15T23:39:50.859670Z",
     "iopub.status.idle": "2023-07-15T23:39:50.868504Z",
     "shell.execute_reply": "2023-07-15T23:39:50.867966Z"
    },
    "papermill": {
     "duration": 0.012374,
     "end_time": "2023-07-15T23:39:50.869830",
     "exception": false,
     "start_time": "2023-07-15T23:39:50.857456",
     "status": "completed"
    },
    "tags": []
   },
   "outputs": [],
   "source": [
    "events.resample('W-FRI').sum().pipe(cumulate).to_csv(os.path.join(DATA_DIR, 'by_week.csv'))"
   ]
  },
  {
   "cell_type": "code",
   "execution_count": 8,
   "id": "a109b0de",
   "metadata": {
    "execution": {
     "iopub.execute_input": "2023-07-15T23:39:50.874239Z",
     "iopub.status.busy": "2023-07-15T23:39:50.873844Z",
     "iopub.status.idle": "2023-07-15T23:39:50.879217Z",
     "shell.execute_reply": "2023-07-15T23:39:50.878630Z"
    },
    "papermill": {
     "duration": 0.009099,
     "end_time": "2023-07-15T23:39:50.880636",
     "exception": false,
     "start_time": "2023-07-15T23:39:50.871537",
     "status": "completed"
    },
    "tags": []
   },
   "outputs": [],
   "source": [
    "events.resample('MS').sum().pipe(cumulate).to_csv(os.path.join(DATA_DIR, 'by_month.csv'))"
   ]
  },
  {
   "cell_type": "code",
   "execution_count": null,
   "id": "c0b0faab",
   "metadata": {
    "papermill": {
     "duration": 0.001598,
     "end_time": "2023-07-15T23:39:50.883940",
     "exception": false,
     "start_time": "2023-07-15T23:39:50.882342",
     "status": "completed"
    },
    "tags": []
   },
   "outputs": [],
   "source": []
  }
 ],
 "metadata": {
  "kernelspec": {
   "display_name": "leeds-2023-YZF5GfJv",
   "language": "python",
   "name": "python3"
  },
  "language_info": {
   "codemirror_mode": {
    "name": "ipython",
    "version": 3
   },
   "file_extension": ".py",
   "mimetype": "text/x-python",
   "name": "python",
   "nbconvert_exporter": "python",
   "pygments_lexer": "ipython3",
   "version": "3.10.6"
  },
  "papermill": {
   "default_parameters": {},
   "duration": 1.84143,
   "end_time": "2023-07-15T23:39:51.101161",
   "environment_variables": {},
   "exception": null,
   "input_path": "prepare.ipynb",
   "output_path": "../../../working/output/promote-events-prepare.ipynb",
   "parameters": {},
   "start_time": "2023-07-15T23:39:49.259731",
   "version": "2.4.0"
  }
 },
 "nbformat": 4,
 "nbformat_minor": 5
}