{
 "cells": [
  {
   "cell_type": "code",
   "execution_count": 1,
   "id": "3047c72d",
   "metadata": {
    "execution": {
     "iopub.execute_input": "2023-12-23T23:39:15.062105Z",
     "iopub.status.busy": "2023-12-23T23:39:15.061806Z",
     "iopub.status.idle": "2023-12-23T23:39:15.309572Z",
     "shell.execute_reply": "2023-12-23T23:39:15.308822Z"
    },
    "papermill": {
     "duration": 0.254,
     "end_time": "2023-12-23T23:39:15.311503",
     "exception": false,
     "start_time": "2023-12-23T23:39:15.057503",
     "status": "completed"
    },
    "tags": []
   },
   "outputs": [],
   "source": [
    "import sys\n",
    "from pathlib import Path\n",
    "\n",
    "import pandas as pd\n",
    "\n",
    "TOP_DIR = Path('../../../..').resolve()\n",
    "\n",
    "if str(TOP_DIR) not in sys.path: sys.path.append(str(TOP_DIR))"
   ]
  },
  {
   "cell_type": "code",
   "execution_count": 2,
   "id": "777409b2",
   "metadata": {
    "execution": {
     "iopub.execute_input": "2023-12-23T23:39:15.317968Z",
     "iopub.status.busy": "2023-12-23T23:39:15.317457Z",
     "iopub.status.idle": "2023-12-23T23:39:22.457058Z",
     "shell.execute_reply": "2023-12-23T23:39:22.456410Z"
    },
    "papermill": {
     "duration": 7.144469,
     "end_time": "2023-12-23T23:39:22.458696",
     "exception": false,
     "start_time": "2023-12-23T23:39:15.314227",
     "status": "completed"
    },
    "tags": []
   },
   "outputs": [],
   "source": [
    "from lib.util.geo import postcode_formatter, postcode_to_ward_code"
   ]
  },
  {
   "cell_type": "code",
   "execution_count": 3,
   "id": "d204562b",
   "metadata": {
    "execution": {
     "iopub.execute_input": "2023-12-23T23:39:22.465058Z",
     "iopub.status.busy": "2023-12-23T23:39:22.464586Z",
     "iopub.status.idle": "2023-12-23T23:39:22.486778Z",
     "shell.execute_reply": "2023-12-23T23:39:22.486109Z"
    },
    "papermill": {
     "duration": 0.027032,
     "end_time": "2023-12-23T23:39:22.488521",
     "exception": false,
     "start_time": "2023-12-23T23:39:22.461489",
     "status": "completed"
    },
    "tags": []
   },
   "outputs": [],
   "source": [
    "ticket_data = pd.read_csv(\n",
    "    '../../../../working/metrics/ticketing/orders.csv',\n",
    "    parse_dates=['created_at', 'event_date'],\n",
    "    usecols=[\n",
    "        'created_at',\n",
    "        'event_id',\n",
    "        'event_name',\n",
    "        'event_date',\n",
    "        'event_time',\n",
    "        'number_of_tickets',\n",
    "        'postcode_from_question',\n",
    "        'postcode_from_address',\n",
    "        'status',\n",
    "    ]\n",
    ")"
   ]
  },
  {
   "cell_type": "code",
   "execution_count": 4,
   "id": "bdaa2a43",
   "metadata": {
    "execution": {
     "iopub.execute_input": "2023-12-23T23:39:22.494626Z",
     "iopub.status.busy": "2023-12-23T23:39:22.494248Z",
     "iopub.status.idle": "2023-12-23T23:39:22.502811Z",
     "shell.execute_reply": "2023-12-23T23:39:22.502254Z"
    },
    "papermill": {
     "duration": 0.013069,
     "end_time": "2023-12-23T23:39:22.504169",
     "exception": false,
     "start_time": "2023-12-23T23:39:22.491100",
     "status": "completed"
    },
    "tags": []
   },
   "outputs": [
    {
     "name": "stdout",
     "output_type": "stream",
     "text": [
      "<class 'pandas.core.frame.DataFrame'>\n",
      "RangeIndex: 6975 entries, 0 to 6974\n",
      "Data columns (total 9 columns):\n",
      " #   Column                  Non-Null Count  Dtype         \n",
      "---  ------                  --------------  -----         \n",
      " 0   postcode_from_question  6562 non-null   object        \n",
      " 1   postcode_from_address   861 non-null    object        \n",
      " 2   created_at              6975 non-null   datetime64[ns]\n",
      " 3   event_id                6975 non-null   object        \n",
      " 4   event_name              6975 non-null   object        \n",
      " 5   event_date              6975 non-null   datetime64[ns]\n",
      " 6   event_time              6975 non-null   object        \n",
      " 7   number_of_tickets       6975 non-null   int64         \n",
      " 8   status                  6975 non-null   object        \n",
      "dtypes: datetime64[ns](2), int64(1), object(6)\n",
      "memory usage: 490.6+ KB\n"
     ]
    }
   ],
   "source": [
    "ticket_data.info()"
   ]
  },
  {
   "cell_type": "code",
   "execution_count": 5,
   "id": "e0d96f18",
   "metadata": {
    "execution": {
     "iopub.execute_input": "2023-12-23T23:39:22.510501Z",
     "iopub.status.busy": "2023-12-23T23:39:22.510091Z",
     "iopub.status.idle": "2023-12-23T23:39:22.515167Z",
     "shell.execute_reply": "2023-12-23T23:39:22.514623Z"
    },
    "papermill": {
     "duration": 0.009677,
     "end_time": "2023-12-23T23:39:22.516458",
     "exception": false,
     "start_time": "2023-12-23T23:39:22.506781",
     "status": "completed"
    },
    "tags": []
   },
   "outputs": [],
   "source": [
    "completed_orders = (\n",
    "    ticket_data.loc[\n",
    "        ~ticket_data.status.isin(['cancelled']),\n",
    "        ticket_data.columns\n",
    "    ]\n",
    ")"
   ]
  },
  {
   "cell_type": "code",
   "execution_count": 6,
   "id": "cde0c2b1",
   "metadata": {
    "execution": {
     "iopub.execute_input": "2023-12-23T23:39:22.522820Z",
     "iopub.status.busy": "2023-12-23T23:39:22.522418Z",
     "iopub.status.idle": "2023-12-23T23:39:23.456540Z",
     "shell.execute_reply": "2023-12-23T23:39:23.455887Z"
    },
    "papermill": {
     "duration": 0.939077,
     "end_time": "2023-12-23T23:39:23.458157",
     "exception": false,
     "start_time": "2023-12-23T23:39:22.519080",
     "status": "completed"
    },
    "tags": []
   },
   "outputs": [],
   "source": [
    "completed_orders['ward_code'] = (\n",
    "    completed_orders\n",
    "        .loc[:, ['postcode_from_question', 'postcode_from_address']]\n",
    "        .bfill()\n",
    "        .iloc[:, 0]\n",
    "        .pipe(postcode_formatter)\n",
    "        .map(postcode_to_ward_code)\n",
    ")"
   ]
  },
  {
   "cell_type": "markdown",
   "id": "ee743623",
   "metadata": {
    "papermill": {
     "duration": 0.00255,
     "end_time": "2023-12-23T23:39:23.464356",
     "exception": false,
     "start_time": "2023-12-23T23:39:23.461806",
     "status": "completed"
    },
    "tags": []
   },
   "source": [
    "Get the events data"
   ]
  },
  {
   "cell_type": "code",
   "execution_count": 7,
   "id": "c66b134a",
   "metadata": {
    "execution": {
     "iopub.execute_input": "2023-12-23T23:39:23.470611Z",
     "iopub.status.busy": "2023-12-23T23:39:23.470168Z",
     "iopub.status.idle": "2023-12-23T23:39:23.486650Z",
     "shell.execute_reply": "2023-12-23T23:39:23.486127Z"
    },
    "papermill": {
     "duration": 0.021198,
     "end_time": "2023-12-23T23:39:23.488027",
     "exception": false,
     "start_time": "2023-12-23T23:39:23.466829",
     "status": "completed"
    },
    "tags": []
   },
   "outputs": [],
   "source": [
    "def prepare_events(data: pd.DataFrame):\n",
    "    data = data.rename(columns={\n",
    "        'Project name': 'project_name',\n",
    "        'Event type': 'event_type',\n",
    "        'Ticket Tailor ID': 'ticket_tailor_id'\n",
    "    })\n",
    "    data['public_event'] = data.event_type.str.contains('Public Event')\n",
    "    data['ticket_tailor_id'] = data.ticket_tailor_id.str.split(\n",
    "        pat=r'[\\s,]+', regex=True)\n",
    "    data = data.drop(columns=['event_type'])\n",
    "    data = data.explode('ticket_tailor_id')\n",
    "    data = data.loc[data.ticket_tailor_id.notna() & (data.ticket_tailor_id != '')]\n",
    "    return data\n",
    "\n",
    "\n",
    "events = pd.read_csv(\n",
    "    '../../../../working/metrics/events/all.csv',\n",
    "    usecols=[\n",
    "        'Project name',\n",
    "        'Event type',\n",
    "        'Ticket Tailor ID'\n",
    "    ]\n",
    ").pipe(prepare_events)"
   ]
  },
  {
   "cell_type": "markdown",
   "id": "47e192e4",
   "metadata": {
    "papermill": {
     "duration": 0.002551,
     "end_time": "2023-12-23T23:39:23.493254",
     "exception": false,
     "start_time": "2023-12-23T23:39:23.490703",
     "status": "completed"
    },
    "tags": []
   },
   "source": [
    "Duplicated ticket tailor IDs"
   ]
  },
  {
   "cell_type": "code",
   "execution_count": 8,
   "id": "c5b6fa05",
   "metadata": {
    "execution": {
     "iopub.execute_input": "2023-12-23T23:39:23.499412Z",
     "iopub.status.busy": "2023-12-23T23:39:23.499042Z",
     "iopub.status.idle": "2023-12-23T23:39:23.510063Z",
     "shell.execute_reply": "2023-12-23T23:39:23.509527Z"
    },
    "papermill": {
     "duration": 0.015583,
     "end_time": "2023-12-23T23:39:23.511347",
     "exception": false,
     "start_time": "2023-12-23T23:39:23.495764",
     "status": "completed"
    },
    "tags": []
   },
   "outputs": [
    {
     "data": {
      "text/html": [
       "<div>\n",
       "<style scoped>\n",
       "    .dataframe tbody tr th:only-of-type {\n",
       "        vertical-align: middle;\n",
       "    }\n",
       "\n",
       "    .dataframe tbody tr th {\n",
       "        vertical-align: top;\n",
       "    }\n",
       "\n",
       "    .dataframe thead th {\n",
       "        text-align: right;\n",
       "    }\n",
       "</style>\n",
       "<table border=\"1\" class=\"dataframe\">\n",
       "  <thead>\n",
       "    <tr style=\"text-align: right;\">\n",
       "      <th></th>\n",
       "      <th>project_name</th>\n",
       "      <th>ticket_tailor_id</th>\n",
       "      <th>public_event</th>\n",
       "    </tr>\n",
       "  </thead>\n",
       "  <tbody>\n",
       "    <tr>\n",
       "      <th>127</th>\n",
       "      <td>11 - All That Lives</td>\n",
       "      <td>985872</td>\n",
       "      <td>True</td>\n",
       "    </tr>\n",
       "    <tr>\n",
       "      <th>147</th>\n",
       "      <td>09 - Smeaton300: Moon Palace East Leeds Observ...</td>\n",
       "      <td>ev_2918127</td>\n",
       "      <td>True</td>\n",
       "    </tr>\n",
       "    <tr>\n",
       "      <th>173</th>\n",
       "      <td>11 - All That Lives</td>\n",
       "      <td>985872</td>\n",
       "      <td>True</td>\n",
       "    </tr>\n",
       "    <tr>\n",
       "      <th>272</th>\n",
       "      <td>Creative Learning S3</td>\n",
       "      <td>ev_3073624</td>\n",
       "      <td>False</td>\n",
       "    </tr>\n",
       "    <tr>\n",
       "      <th>332</th>\n",
       "      <td>11 - All That Lives</td>\n",
       "      <td>985872</td>\n",
       "      <td>True</td>\n",
       "    </tr>\n",
       "    <tr>\n",
       "      <th>651</th>\n",
       "      <td>11 - All That Lives</td>\n",
       "      <td>985872</td>\n",
       "      <td>True</td>\n",
       "    </tr>\n",
       "    <tr>\n",
       "      <th>948</th>\n",
       "      <td>07 - Children's Day</td>\n",
       "      <td>ev_2963290</td>\n",
       "      <td>NaN</td>\n",
       "    </tr>\n",
       "    <tr>\n",
       "      <th>948</th>\n",
       "      <td>07 - Children's Day</td>\n",
       "      <td>ev_2963290</td>\n",
       "      <td>NaN</td>\n",
       "    </tr>\n",
       "    <tr>\n",
       "      <th>948</th>\n",
       "      <td>07 - Children's Day</td>\n",
       "      <td>ev_2963295</td>\n",
       "      <td>NaN</td>\n",
       "    </tr>\n",
       "    <tr>\n",
       "      <th>948</th>\n",
       "      <td>07 - Children's Day</td>\n",
       "      <td>ev_2963297</td>\n",
       "      <td>NaN</td>\n",
       "    </tr>\n",
       "    <tr>\n",
       "      <th>948</th>\n",
       "      <td>07 - Children's Day</td>\n",
       "      <td>ev_2963295</td>\n",
       "      <td>NaN</td>\n",
       "    </tr>\n",
       "    <tr>\n",
       "      <th>948</th>\n",
       "      <td>07 - Children's Day</td>\n",
       "      <td>ev_2963296</td>\n",
       "      <td>NaN</td>\n",
       "    </tr>\n",
       "    <tr>\n",
       "      <th>948</th>\n",
       "      <td>07 - Children's Day</td>\n",
       "      <td>ev_2963296</td>\n",
       "      <td>NaN</td>\n",
       "    </tr>\n",
       "    <tr>\n",
       "      <th>948</th>\n",
       "      <td>07 - Children's Day</td>\n",
       "      <td>ev_2963297</td>\n",
       "      <td>NaN</td>\n",
       "    </tr>\n",
       "    <tr>\n",
       "      <th>992</th>\n",
       "      <td>11 - All That Lives</td>\n",
       "      <td>985872</td>\n",
       "      <td>True</td>\n",
       "    </tr>\n",
       "    <tr>\n",
       "      <th>1172</th>\n",
       "      <td>09 - Smeaton300: Moon Palace East Leeds Observ...</td>\n",
       "      <td>ev_2918127</td>\n",
       "      <td>True</td>\n",
       "    </tr>\n",
       "    <tr>\n",
       "      <th>1462</th>\n",
       "      <td>07 - Children's Day</td>\n",
       "      <td>ev_2963290</td>\n",
       "      <td>True</td>\n",
       "    </tr>\n",
       "    <tr>\n",
       "      <th>1462</th>\n",
       "      <td>07 - Children's Day</td>\n",
       "      <td>ev_2963295</td>\n",
       "      <td>True</td>\n",
       "    </tr>\n",
       "    <tr>\n",
       "      <th>1462</th>\n",
       "      <td>07 - Children's Day</td>\n",
       "      <td>ev_2963296</td>\n",
       "      <td>True</td>\n",
       "    </tr>\n",
       "    <tr>\n",
       "      <th>1462</th>\n",
       "      <td>07 - Children's Day</td>\n",
       "      <td>ev_2963297</td>\n",
       "      <td>True</td>\n",
       "    </tr>\n",
       "    <tr>\n",
       "      <th>1482</th>\n",
       "      <td>09 - Smeaton300: Moon Palace East Leeds Observ...</td>\n",
       "      <td>ev_2918127</td>\n",
       "      <td>True</td>\n",
       "    </tr>\n",
       "    <tr>\n",
       "      <th>1567</th>\n",
       "      <td>Creative Learning S3</td>\n",
       "      <td>ev_3073624</td>\n",
       "      <td>False</td>\n",
       "    </tr>\n",
       "  </tbody>\n",
       "</table>\n",
       "</div>"
      ],
      "text/plain": [
       "                                           project_name ticket_tailor_id  \\\n",
       "127                                 11 - All That Lives           985872   \n",
       "147   09 - Smeaton300: Moon Palace East Leeds Observ...       ev_2918127   \n",
       "173                                 11 - All That Lives           985872   \n",
       "272                                Creative Learning S3       ev_3073624   \n",
       "332                                 11 - All That Lives           985872   \n",
       "651                                 11 - All That Lives           985872   \n",
       "948                                 07 - Children's Day       ev_2963290   \n",
       "948                                 07 - Children's Day       ev_2963290   \n",
       "948                                 07 - Children's Day       ev_2963295   \n",
       "948                                 07 - Children's Day       ev_2963297   \n",
       "948                                 07 - Children's Day       ev_2963295   \n",
       "948                                 07 - Children's Day       ev_2963296   \n",
       "948                                 07 - Children's Day       ev_2963296   \n",
       "948                                 07 - Children's Day       ev_2963297   \n",
       "992                                 11 - All That Lives           985872   \n",
       "1172  09 - Smeaton300: Moon Palace East Leeds Observ...       ev_2918127   \n",
       "1462                                07 - Children's Day       ev_2963290   \n",
       "1462                                07 - Children's Day       ev_2963295   \n",
       "1462                                07 - Children's Day       ev_2963296   \n",
       "1462                                07 - Children's Day       ev_2963297   \n",
       "1482  09 - Smeaton300: Moon Palace East Leeds Observ...       ev_2918127   \n",
       "1567                               Creative Learning S3       ev_3073624   \n",
       "\n",
       "     public_event  \n",
       "127          True  \n",
       "147          True  \n",
       "173          True  \n",
       "272         False  \n",
       "332          True  \n",
       "651          True  \n",
       "948           NaN  \n",
       "948           NaN  \n",
       "948           NaN  \n",
       "948           NaN  \n",
       "948           NaN  \n",
       "948           NaN  \n",
       "948           NaN  \n",
       "948           NaN  \n",
       "992          True  \n",
       "1172         True  \n",
       "1462         True  \n",
       "1462         True  \n",
       "1462         True  \n",
       "1462         True  \n",
       "1482         True  \n",
       "1567        False  "
      ]
     },
     "execution_count": 8,
     "metadata": {},
     "output_type": "execute_result"
    }
   ],
   "source": [
    "events[\n",
    "  events.ticket_tailor_id.isin(\n",
    "    events.ticket_tailor_id[\n",
    "      events.ticket_tailor_id.duplicated()\n",
    "    ].to_list()\n",
    "  )\n",
    "]"
   ]
  },
  {
   "cell_type": "code",
   "execution_count": 9,
   "id": "9b442818",
   "metadata": {
    "execution": {
     "iopub.execute_input": "2023-12-23T23:39:23.518020Z",
     "iopub.status.busy": "2023-12-23T23:39:23.517785Z",
     "iopub.status.idle": "2023-12-23T23:39:23.521999Z",
     "shell.execute_reply": "2023-12-23T23:39:23.521472Z"
    },
    "papermill": {
     "duration": 0.008979,
     "end_time": "2023-12-23T23:39:23.523231",
     "exception": false,
     "start_time": "2023-12-23T23:39:23.514252",
     "status": "completed"
    },
    "tags": []
   },
   "outputs": [
    {
     "data": {
      "text/plain": [
       "6786"
      ]
     },
     "execution_count": 9,
     "metadata": {},
     "output_type": "execute_result"
    }
   ],
   "source": [
    "len(completed_orders)"
   ]
  },
  {
   "cell_type": "code",
   "execution_count": 10,
   "id": "a439f5b5",
   "metadata": {
    "execution": {
     "iopub.execute_input": "2023-12-23T23:39:23.530069Z",
     "iopub.status.busy": "2023-12-23T23:39:23.529674Z",
     "iopub.status.idle": "2023-12-23T23:39:23.543811Z",
     "shell.execute_reply": "2023-12-23T23:39:23.543293Z"
    },
    "papermill": {
     "duration": 0.019033,
     "end_time": "2023-12-23T23:39:23.545168",
     "exception": false,
     "start_time": "2023-12-23T23:39:23.526135",
     "status": "completed"
    },
    "tags": []
   },
   "outputs": [],
   "source": [
    "completed_orders = completed_orders.merge(\n",
    "    events.drop_duplicates().set_index('ticket_tailor_id'),\n",
    "    left_on='event_id',\n",
    "    right_index=True,\n",
    "    how='left'\n",
    ")\n",
    "completed_orders['event_datetime'] = pd.to_datetime(completed_orders.event_date.astype(str) + 'T' + completed_orders.event_time)\n"
   ]
  },
  {
   "cell_type": "code",
   "execution_count": 11,
   "id": "5aea2940",
   "metadata": {
    "execution": {
     "iopub.execute_input": "2023-12-23T23:39:23.552235Z",
     "iopub.status.busy": "2023-12-23T23:39:23.551827Z",
     "iopub.status.idle": "2023-12-23T23:39:23.555903Z",
     "shell.execute_reply": "2023-12-23T23:39:23.555295Z"
    },
    "papermill": {
     "duration": 0.008971,
     "end_time": "2023-12-23T23:39:23.557219",
     "exception": false,
     "start_time": "2023-12-23T23:39:23.548248",
     "status": "completed"
    },
    "tags": []
   },
   "outputs": [
    {
     "data": {
      "text/plain": [
       "6794"
      ]
     },
     "execution_count": 11,
     "metadata": {},
     "output_type": "execute_result"
    }
   ],
   "source": [
    "len(completed_orders)"
   ]
  },
  {
   "cell_type": "code",
   "execution_count": 12,
   "id": "42bbbfce",
   "metadata": {
    "execution": {
     "iopub.execute_input": "2023-12-23T23:39:23.564357Z",
     "iopub.status.busy": "2023-12-23T23:39:23.563980Z",
     "iopub.status.idle": "2023-12-23T23:39:23.567233Z",
     "shell.execute_reply": "2023-12-23T23:39:23.566576Z"
    },
    "papermill": {
     "duration": 0.008344,
     "end_time": "2023-12-23T23:39:23.568625",
     "exception": false,
     "start_time": "2023-12-23T23:39:23.560281",
     "status": "completed"
    },
    "tags": []
   },
   "outputs": [],
   "source": [
    "OUTPUT_DIR = TOP_DIR.joinpath('data/metrics/events/tickets/')\n",
    "OUTPUT_DIR.mkdir(parents=True, exist_ok=True)"
   ]
  },
  {
   "cell_type": "code",
   "execution_count": 13,
   "id": "0196eafd",
   "metadata": {
    "execution": {
     "iopub.execute_input": "2023-12-23T23:39:23.576180Z",
     "iopub.status.busy": "2023-12-23T23:39:23.575684Z",
     "iopub.status.idle": "2023-12-23T23:39:23.611458Z",
     "shell.execute_reply": "2023-12-23T23:39:23.610927Z"
    },
    "papermill": {
     "duration": 0.040851,
     "end_time": "2023-12-23T23:39:23.612797",
     "exception": false,
     "start_time": "2023-12-23T23:39:23.571946",
     "status": "completed"
    },
    "tags": []
   },
   "outputs": [],
   "source": [
    "completed_orders.loc[:, [\n",
    "    'created_at',\n",
    "    'event_id',\n",
    "    'event_date',\n",
    "    'event_datetime',\n",
    "    'number_of_tickets',\n",
    "    'ward_code',\n",
    "    'project_name',\n",
    "    'public_event',\n",
    "]].sort_values(['created_at', 'event_id']).to_csv(\n",
    "  OUTPUT_DIR.joinpath('orders.csv'),\n",
    "  index=False\n",
    ")"
   ]
  },
  {
   "cell_type": "code",
   "execution_count": 14,
   "id": "8dccca00",
   "metadata": {
    "execution": {
     "iopub.execute_input": "2023-12-23T23:39:23.620092Z",
     "iopub.status.busy": "2023-12-23T23:39:23.619674Z",
     "iopub.status.idle": "2023-12-23T23:39:23.628888Z",
     "shell.execute_reply": "2023-12-23T23:39:23.628392Z"
    },
    "papermill": {
     "duration": 0.014212,
     "end_time": "2023-12-23T23:39:23.630152",
     "exception": false,
     "start_time": "2023-12-23T23:39:23.615940",
     "status": "completed"
    },
    "tags": []
   },
   "outputs": [],
   "source": [
    "(\n",
    "    completed_orders.loc[:, ['event_date', 'event_time', 'event_name', 'event_id', 'project_name', 'public_event']]\n",
    "      .drop_duplicates()\n",
    "      .sort_values(['event_date', 'event_time'])\n",
    "      .to_csv('../../../../data/metrics/events/tickets/events.csv', index=False)\n",
    ")"
   ]
  },
  {
   "cell_type": "code",
   "execution_count": 15,
   "id": "71ba8844",
   "metadata": {
    "execution": {
     "iopub.execute_input": "2023-12-23T23:39:23.637307Z",
     "iopub.status.busy": "2023-12-23T23:39:23.636999Z",
     "iopub.status.idle": "2023-12-23T23:39:24.695577Z",
     "shell.execute_reply": "2023-12-23T23:39:24.694875Z"
    },
    "papermill": {
     "duration": 1.063741,
     "end_time": "2023-12-23T23:39:24.697016",
     "exception": false,
     "start_time": "2023-12-23T23:39:23.633275",
     "status": "completed"
    },
    "tags": []
   },
   "outputs": [
    {
     "data": {
      "image/png": "[encoded data removed]",
      "text/plain": [
       "<Figure size 640x480 with 1 Axes>"
      ]
     },
     "metadata": {},
     "output_type": "display_data"
    }
   ],
   "source": [
    "chart = completed_orders.groupby(['project_name']).number_of_tickets.sum().sort_values().plot.barh()"
   ]
  },
  {
   "cell_type": "code",
   "execution_count": 16,
   "id": "cd0f2234",
   "metadata": {
    "execution": {
     "iopub.execute_input": "2023-12-23T23:39:24.706926Z",
     "iopub.status.busy": "2023-12-23T23:39:24.706334Z",
     "iopub.status.idle": "2023-12-23T23:39:24.880814Z",
     "shell.execute_reply": "2023-12-23T23:39:24.880116Z"
    },
    "papermill": {
     "duration": 0.181128,
     "end_time": "2023-12-23T23:39:24.882318",
     "exception": false,
     "start_time": "2023-12-23T23:39:24.701190",
     "status": "completed"
    },
    "tags": []
   },
   "outputs": [
    {
     "data": {
      "image/png": "[encoded data removed]",
      "text/plain": [
       "<Figure size 640x480 with 1 Axes>"
      ]
     },
     "metadata": {},
     "output_type": "display_data"
    }
   ],
   "source": [
    "chart = completed_orders.groupby([\n",
    "    'event_date'\n",
    "    ]).number_of_tickets.sum().resample('M').sum().cumsum().plot.bar()"
   ]
  },
  {
   "cell_type": "code",
   "execution_count": null,
   "id": "9b3264ab",
   "metadata": {
    "papermill": {
     "duration": 0.004176,
     "end_time": "2023-12-23T23:39:24.892086",
     "exception": false,
     "start_time": "2023-12-23T23:39:24.887910",
     "status": "completed"
    },
    "tags": []
   },
   "outputs": [],
   "source": []
  }
 ],
 "metadata": {
  "kernelspec": {
   "display_name": "leeds-2023-YZF5GfJv",
   "language": "python",
   "name": "python3"
  },
  "language_info": {
   "codemirror_mode": {
    "name": "ipython",
    "version": 3
   },
   "file_extension": ".py",
   "mimetype": "text/x-python",
   "name": "python",
   "nbconvert_exporter": "python",
   "pygments_lexer": "ipython3",
   "version": "3.10.13"
  },
  "papermill": {
   "default_parameters": {},
   "duration": 11.739398,
   "end_time": "2023-12-23T23:39:25.213190",
   "environment_variables": {},
   "exception": null,
   "input_path": "tickets.ipynb",
   "output_path": "../../../../working/output/tickets-transform.ipynb",
   "parameters": {},
   "start_time": "2023-12-23T23:39:13.473792",
   "version": "2.4.0"
  }
 },
 "nbformat": 4,
 "nbformat_minor": 5
}