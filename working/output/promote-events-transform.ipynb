{
 "cells": [
  {
   "cell_type": "code",
   "execution_count": 1,
   "id": "40e1a5be",
   "metadata": {
    "execution": {
     "iopub.execute_input": "2023-09-17T23:39:08.776767Z",
     "iopub.status.busy": "2023-09-17T23:39:08.776217Z",
     "iopub.status.idle": "2023-09-17T23:39:09.035275Z",
     "shell.execute_reply": "2023-09-17T23:39:09.034604Z"
    },
    "papermill": {
     "duration": 0.264385,
     "end_time": "2023-09-17T23:39:09.037428",
     "exception": false,
     "start_time": "2023-09-17T23:39:08.773043",
     "status": "completed"
    },
    "tags": []
   },
   "outputs": [],
   "source": [
    "import os\n",
    "import pandas as pd"
   ]
  },
  {
   "cell_type": "code",
   "execution_count": 2,
   "id": "48eaf056",
   "metadata": {
    "execution": {
     "iopub.execute_input": "2023-09-17T23:39:09.042088Z",
     "iopub.status.busy": "2023-09-17T23:39:09.041452Z",
     "iopub.status.idle": "2023-09-17T23:39:09.044966Z",
     "shell.execute_reply": "2023-09-17T23:39:09.044332Z"
    },
    "papermill": {
     "duration": 0.007302,
     "end_time": "2023-09-17T23:39:09.046375",
     "exception": false,
     "start_time": "2023-09-17T23:39:09.039073",
     "status": "completed"
    },
    "tags": []
   },
   "outputs": [],
   "source": [
    "EVENTS_RAW_DATA = '../../../working/metrics/promote-events/events.csv'\n",
    "DATA_DIR = '../../../data/metrics/events/promote-events/'\n",
    "EVENTS_DATA = os.path.join(DATA_DIR, 'events.csv')"
   ]
  },
  {
   "cell_type": "code",
   "execution_count": 3,
   "id": "6a5afc21",
   "metadata": {
    "execution": {
     "iopub.execute_input": "2023-09-17T23:39:09.050110Z",
     "iopub.status.busy": "2023-09-17T23:39:09.049696Z",
     "iopub.status.idle": "2023-09-17T23:39:09.053970Z",
     "shell.execute_reply": "2023-09-17T23:39:09.053396Z"
    },
    "papermill": {
     "duration": 0.007814,
     "end_time": "2023-09-17T23:39:09.055519",
     "exception": false,
     "start_time": "2023-09-17T23:39:09.047705",
     "status": "completed"
    },
    "tags": []
   },
   "outputs": [],
   "source": [
    "columns = {\n",
    "    'id': 'id',\n",
    "    'name': 'name',\n",
    "    'locationName': 'location',\n",
    "    'cardPrice': 'card_price',\n",
    "    'timeslots': 'time',\n",
    "    # 'displayOnWebsite': 'display',\n",
    "    'Stage': 'stage',\n",
    "}"
   ]
  },
  {
   "cell_type": "code",
   "execution_count": 4,
   "id": "5a5ba80a",
   "metadata": {
    "execution": {
     "iopub.execute_input": "2023-09-17T23:39:09.059287Z",
     "iopub.status.busy": "2023-09-17T23:39:09.058868Z",
     "iopub.status.idle": "2023-09-17T23:39:09.069516Z",
     "shell.execute_reply": "2023-09-17T23:39:09.068895Z"
    },
    "papermill": {
     "duration": 0.014198,
     "end_time": "2023-09-17T23:39:09.071054",
     "exception": false,
     "start_time": "2023-09-17T23:39:09.056856",
     "status": "completed"
    },
    "tags": []
   },
   "outputs": [],
   "source": [
    "data = pd.read_csv(EVENTS_RAW_DATA)[columns.keys()].rename(columns=columns)\n",
    "data.time = pd.to_datetime(data.time, errors='coerce')"
   ]
  },
  {
   "cell_type": "code",
   "execution_count": 5,
   "id": "796787b5",
   "metadata": {
    "execution": {
     "iopub.execute_input": "2023-09-17T23:39:09.075100Z",
     "iopub.status.busy": "2023-09-17T23:39:09.074679Z",
     "iopub.status.idle": "2023-09-17T23:39:09.080270Z",
     "shell.execute_reply": "2023-09-17T23:39:09.079677Z"
    },
    "papermill": {
     "duration": 0.009283,
     "end_time": "2023-09-17T23:39:09.081777",
     "exception": false,
     "start_time": "2023-09-17T23:39:09.072494",
     "status": "completed"
    },
    "tags": []
   },
   "outputs": [],
   "source": [
    "data.to_csv(os.path.join(DATA_DIR, 'events.csv'), index=False)"
   ]
  }
 ],
 "metadata": {
  "kernelspec": {
   "display_name": "leeds-2023-YZF5GfJv",
   "language": "python",
   "name": "python3"
  },
  "language_info": {
   "codemirror_mode": {
    "name": "ipython",
    "version": 3
   },
   "file_extension": ".py",
   "mimetype": "text/x-python",
   "name": "python",
   "nbconvert_exporter": "python",
   "pygments_lexer": "ipython3",
   "version": "3.10.13"
  },
  "papermill": {
   "default_parameters": {},
   "duration": 1.887725,
   "end_time": "2023-09-17T23:39:09.299507",
   "environment_variables": {},
   "exception": null,
   "input_path": "transform.ipynb",
   "output_path": "../../../working/output/promote-events-transform.ipynb",
   "parameters": {},
   "start_time": "2023-09-17T23:39:07.411782",
   "version": "2.4.0"
  }
 },
 "nbformat": 4,
 "nbformat_minor": 5
}