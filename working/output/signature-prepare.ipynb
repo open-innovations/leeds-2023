{
 "cells": [
  {
   "cell_type": "code",
   "execution_count": 1,
   "id": "d873f900",
   "metadata": {
    "execution": {
     "iopub.execute_input": "2023-08-29T23:39:46.852319Z",
     "iopub.status.busy": "2023-08-29T23:39:46.851502Z",
     "iopub.status.idle": "2023-08-29T23:39:56.277610Z",
     "shell.execute_reply": "2023-08-29T23:39:56.276878Z"
    },
    "papermill": {
     "duration": 9.432806,
     "end_time": "2023-08-29T23:39:56.279937",
     "exception": false,
     "start_time": "2023-08-29T23:39:46.847131",
     "status": "completed"
    },
    "tags": []
   },
   "outputs": [],
   "source": [
    "import os\n",
    "import pandas as pd\n",
    "from events import load_event_data, get_first_ward, normalise_ward"
   ]
  },
  {
   "cell_type": "code",
   "execution_count": 2,
   "id": "9ef9d597",
   "metadata": {
    "execution": {
     "iopub.execute_input": "2023-08-29T23:39:56.286208Z",
     "iopub.status.busy": "2023-08-29T23:39:56.285657Z",
     "iopub.status.idle": "2023-08-29T23:39:56.290639Z",
     "shell.execute_reply": "2023-08-29T23:39:56.289950Z"
    },
    "papermill": {
     "duration": 0.009454,
     "end_time": "2023-08-29T23:39:56.292163",
     "exception": false,
     "start_time": "2023-08-29T23:39:56.282709",
     "status": "completed"
    },
    "tags": []
   },
   "outputs": [],
   "source": [
    "latest_date = pd.Timestamp.today().ceil('D')"
   ]
  },
  {
   "cell_type": "code",
   "execution_count": 3,
   "id": "149f95cd",
   "metadata": {
    "execution": {
     "iopub.execute_input": "2023-08-29T23:39:56.297264Z",
     "iopub.status.busy": "2023-08-29T23:39:56.296852Z",
     "iopub.status.idle": "2023-08-29T23:39:56.313763Z",
     "shell.execute_reply": "2023-08-29T23:39:56.313189Z"
    },
    "papermill": {
     "duration": 0.021266,
     "end_time": "2023-08-29T23:39:56.315355",
     "exception": false,
     "start_time": "2023-08-29T23:39:56.294089",
     "status": "completed"
    },
    "tags": []
   },
   "outputs": [],
   "source": [
    "tickets = pd.read_csv('../../../../data/metrics/events/tickets/orders.csv', parse_dates=['created_at', 'event_date'])\n",
    "tickets = tickets[tickets.event_date <= latest_date]"
   ]
  },
  {
   "cell_type": "code",
   "execution_count": 4,
   "id": "5b4391e6",
   "metadata": {
    "execution": {
     "iopub.execute_input": "2023-08-29T23:39:56.320900Z",
     "iopub.status.busy": "2023-08-29T23:39:56.320279Z",
     "iopub.status.idle": "2023-08-29T23:39:56.498120Z",
     "shell.execute_reply": "2023-08-29T23:39:56.497434Z"
    },
    "papermill": {
     "duration": 0.182842,
     "end_time": "2023-08-29T23:39:56.500269",
     "exception": false,
     "start_time": "2023-08-29T23:39:56.317427",
     "status": "completed"
    },
    "tags": []
   },
   "outputs": [],
   "source": [
    "events = load_event_data()\n",
    "\n",
    "events = pd.concat([\n",
    "  events,\n",
    "  events.pipe(get_first_ward).pipe(normalise_ward).fillna('UNKNOWN'),\n",
    "  pd.Series(\n",
    "      events.actual_audience_size_number_of_participants_in_person + events.actual_audience_size_number_of_participants_online,\n",
    "      name='attendances'\n",
    "  )\n",
    "], axis=1).rename(columns={\n",
    "    'start_date': 'date'\n",
    "}).loc[:, ['ward_code', 'date', 'event_unique_identifier', 'attendances']]"
   ]
  },
  {
   "cell_type": "code",
   "execution_count": 5,
   "id": "c0c0bfb3",
   "metadata": {
    "execution": {
     "iopub.execute_input": "2023-08-29T23:39:56.506942Z",
     "iopub.status.busy": "2023-08-29T23:39:56.506283Z",
     "iopub.status.idle": "2023-08-29T23:39:56.509796Z",
     "shell.execute_reply": "2023-08-29T23:39:56.509190Z"
    },
    "papermill": {
     "duration": 0.00841,
     "end_time": "2023-08-29T23:39:56.511321",
     "exception": false,
     "start_time": "2023-08-29T23:39:56.502911",
     "status": "completed"
    },
    "tags": []
   },
   "outputs": [],
   "source": [
    "OUTPUT_DIR='../../../../docs/metrics/events/signature/_data/'\n",
    "os.makedirs(OUTPUT_DIR, exist_ok=True)"
   ]
  },
  {
   "cell_type": "markdown",
   "id": "e6a993fe",
   "metadata": {
    "papermill": {
     "duration": 0.002094,
     "end_time": "2023-08-29T23:39:56.515482",
     "exception": false,
     "start_time": "2023-08-29T23:39:56.513388",
     "status": "completed"
    },
    "tags": []
   },
   "source": [
    "Events CSVs"
   ]
  },
  {
   "cell_type": "code",
   "execution_count": 6,
   "id": "54f6d542",
   "metadata": {
    "execution": {
     "iopub.execute_input": "2023-08-29T23:39:56.520767Z",
     "iopub.status.busy": "2023-08-29T23:39:56.520264Z",
     "iopub.status.idle": "2023-08-29T23:39:56.526950Z",
     "shell.execute_reply": "2023-08-29T23:39:56.526394Z"
    },
    "papermill": {
     "duration": 0.010914,
     "end_time": "2023-08-29T23:39:56.528431",
     "exception": false,
     "start_time": "2023-08-29T23:39:56.517517",
     "status": "completed"
    },
    "tags": []
   },
   "outputs": [],
   "source": [
    "pd.DataFrame({\n",
    "  'events': events.groupby('ward_code').event_unique_identifier.count(),\n",
    "  'attendances': events.groupby('ward_code').attendances.sum().astype(int),\n",
    "}).to_csv(os.path.join(OUTPUT_DIR, 'events_by_ward.csv'))\n"
   ]
  },
  {
   "cell_type": "code",
   "execution_count": 7,
   "id": "5d3dca66",
   "metadata": {
    "execution": {
     "iopub.execute_input": "2023-08-29T23:39:56.533660Z",
     "iopub.status.busy": "2023-08-29T23:39:56.533263Z",
     "iopub.status.idle": "2023-08-29T23:39:56.543549Z",
     "shell.execute_reply": "2023-08-29T23:39:56.542992Z"
    },
    "papermill": {
     "duration": 0.014589,
     "end_time": "2023-08-29T23:39:56.545076",
     "exception": false,
     "start_time": "2023-08-29T23:39:56.530487",
     "status": "completed"
    },
    "tags": []
   },
   "outputs": [],
   "source": [
    "pd.DataFrame({\n",
    "  'events': events.groupby('date').event_unique_identifier.count(),\n",
    "  'attendances': events.groupby('date').attendances.sum().astype(int),\n",
    "}).resample('M').sum().astype(int).to_csv(os.path.join(OUTPUT_DIR, 'events_by_date.csv'))"
   ]
  },
  {
   "cell_type": "markdown",
   "id": "76c59ca3",
   "metadata": {
    "papermill": {
     "duration": 0.002133,
     "end_time": "2023-08-29T23:39:56.549305",
     "exception": false,
     "start_time": "2023-08-29T23:39:56.547172",
     "status": "completed"
    },
    "tags": []
   },
   "source": [
    "Tickets CSV"
   ]
  },
  {
   "cell_type": "code",
   "execution_count": 8,
   "id": "5c0b9fbe",
   "metadata": {
    "execution": {
     "iopub.execute_input": "2023-08-29T23:39:56.554725Z",
     "iopub.status.busy": "2023-08-29T23:39:56.554193Z",
     "iopub.status.idle": "2023-08-29T23:39:56.560562Z",
     "shell.execute_reply": "2023-08-29T23:39:56.560025Z"
    },
    "papermill": {
     "duration": 0.010746,
     "end_time": "2023-08-29T23:39:56.562118",
     "exception": false,
     "start_time": "2023-08-29T23:39:56.551372",
     "status": "completed"
    },
    "tags": []
   },
   "outputs": [],
   "source": [
    "pd.DataFrame({\n",
    "  'orders': tickets.groupby('ward_code').number_of_tickets.count(),\n",
    "  'tickets': tickets.groupby('ward_code').number_of_tickets.sum().astype(int),\n",
    "}).to_csv(os.path.join(OUTPUT_DIR, 'tickets_by_ward.csv'))"
   ]
  },
  {
   "cell_type": "code",
   "execution_count": 9,
   "id": "49be3424",
   "metadata": {
    "execution": {
     "iopub.execute_input": "2023-08-29T23:39:56.567481Z",
     "iopub.status.busy": "2023-08-29T23:39:56.567086Z",
     "iopub.status.idle": "2023-08-29T23:39:56.574641Z",
     "shell.execute_reply": "2023-08-29T23:39:56.574100Z"
    },
    "papermill": {
     "duration": 0.011916,
     "end_time": "2023-08-29T23:39:56.576163",
     "exception": false,
     "start_time": "2023-08-29T23:39:56.564247",
     "status": "completed"
    },
    "tags": []
   },
   "outputs": [],
   "source": [
    "pd.DataFrame({\n",
    "  'orders': tickets.groupby('event_date').number_of_tickets.count(),\n",
    "  'tickets': tickets.groupby('event_date').number_of_tickets.sum().astype(int),\n",
    "}).resample('M').sum().to_csv(os.path.join(OUTPUT_DIR, 'tickets_by_event_date.csv'))"
   ]
  },
  {
   "cell_type": "code",
   "execution_count": 10,
   "id": "bd64ec14",
   "metadata": {
    "execution": {
     "iopub.execute_input": "2023-08-29T23:39:56.582444Z",
     "iopub.status.busy": "2023-08-29T23:39:56.582048Z",
     "iopub.status.idle": "2023-08-29T23:39:56.586905Z",
     "shell.execute_reply": "2023-08-29T23:39:56.586300Z"
    },
    "papermill": {
     "duration": 0.010128,
     "end_time": "2023-08-29T23:39:56.588413",
     "exception": false,
     "start_time": "2023-08-29T23:39:56.578285",
     "status": "completed"
    },
    "tags": []
   },
   "outputs": [],
   "source": [
    "pd.Series({\n",
    "    'total_events': events.event_unique_identifier.count(),\n",
    "    'total_attendances': events.attendances.count(),\n",
    "    'first_event': events.date.min(),\n",
    "    'latest_event': events.date.max(),\n",
    "    'total_ticket_orders_for_events_to_date': tickets.number_of_tickets.count(),\n",
    "    'total_tickets_sold_for_events_to_date': tickets.number_of_tickets.sum(),\n",
    "}).to_json(os.path.join(OUTPUT_DIR, 'headlines.json'), indent=2)"
   ]
  },
  {
   "cell_type": "code",
   "execution_count": null,
   "id": "2cd601eb",
   "metadata": {
    "papermill": {
     "duration": 0.002154,
     "end_time": "2023-08-29T23:39:56.592711",
     "exception": false,
     "start_time": "2023-08-29T23:39:56.590557",
     "status": "completed"
    },
    "tags": []
   },
   "outputs": [],
   "source": []
  }
 ],
 "metadata": {
  "kernelspec": {
   "display_name": "leeds-2023-YZF5GfJv",
   "language": "python",
   "name": "python3"
  },
  "language_info": {
   "codemirror_mode": {
    "name": "ipython",
    "version": 3
   },
   "file_extension": ".py",
   "mimetype": "text/x-python",
   "name": "python",
   "nbconvert_exporter": "python",
   "pygments_lexer": "ipython3",
   "version": "3.10.12"
  },
  "papermill": {
   "default_parameters": {},
   "duration": 11.448361,
   "end_time": "2023-08-29T23:39:56.910852",
   "environment_variables": {},
   "exception": null,
   "input_path": "prepare.ipynb",
   "output_path": "../../../../working/output/signature-prepare.ipynb",
   "parameters": {},
   "start_time": "2023-08-29T23:39:45.462491",
   "version": "2.4.0"
  }
 },
 "nbformat": 4,
 "nbformat_minor": 5
}