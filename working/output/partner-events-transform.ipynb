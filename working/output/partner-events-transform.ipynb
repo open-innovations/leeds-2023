{
 "cells": [
  {
   "cell_type": "code",
   "execution_count": 1,
   "id": "efbc39db",
   "metadata": {
    "execution": {
     "iopub.execute_input": "2023-07-14T23:38:30.751437Z",
     "iopub.status.busy": "2023-07-14T23:38:30.750830Z",
     "iopub.status.idle": "2023-07-14T23:38:31.089588Z",
     "shell.execute_reply": "2023-07-14T23:38:31.088611Z"
    },
    "papermill": {
     "duration": 0.346705,
     "end_time": "2023-07-14T23:38:31.092255",
     "exception": false,
     "start_time": "2023-07-14T23:38:30.745550",
     "status": "completed"
    },
    "tags": []
   },
   "outputs": [],
   "source": [
    "import os\n",
    "import sys\n",
    "import pandas as pd\n",
    "lib_dir = os.path.realpath('../../../lib/')\n",
    "if lib_dir not in sys.path: sys.path.append(lib_dir)"
   ]
  },
  {
   "cell_type": "code",
   "execution_count": 2,
   "id": "5f5980cd",
   "metadata": {
    "execution": {
     "iopub.execute_input": "2023-07-14T23:38:31.101088Z",
     "iopub.status.busy": "2023-07-14T23:38:31.100656Z",
     "iopub.status.idle": "2023-07-14T23:38:43.090409Z",
     "shell.execute_reply": "2023-07-14T23:38:43.089317Z"
    },
    "papermill": {
     "duration": 11.997228,
     "end_time": "2023-07-14T23:38:43.093140",
     "exception": false,
     "start_time": "2023-07-14T23:38:31.095912",
     "status": "completed"
    },
    "tags": []
   },
   "outputs": [],
   "source": [
    "import util.geo"
   ]
  },
  {
   "cell_type": "code",
   "execution_count": 3,
   "id": "862292fa",
   "metadata": {
    "execution": {
     "iopub.execute_input": "2023-07-14T23:38:43.100773Z",
     "iopub.status.busy": "2023-07-14T23:38:43.100059Z",
     "iopub.status.idle": "2023-07-14T23:38:43.104769Z",
     "shell.execute_reply": "2023-07-14T23:38:43.103860Z"
    },
    "papermill": {
     "duration": 0.010293,
     "end_time": "2023-07-14T23:38:43.106409",
     "exception": false,
     "start_time": "2023-07-14T23:38:43.096116",
     "status": "completed"
    },
    "tags": []
   },
   "outputs": [],
   "source": [
    "EVENTS_RAW_DATA = '../../../working/metrics/partner-events/events.csv'\n",
    "DATA_DIR = '../../../data/metrics/events/partner-events/'\n",
    "EVENTS_DATA = os.path.join(DATA_DIR, 'events.csv')"
   ]
  },
  {
   "cell_type": "code",
   "execution_count": 4,
   "id": "f9a4408d",
   "metadata": {
    "execution": {
     "iopub.execute_input": "2023-07-14T23:38:43.114765Z",
     "iopub.status.busy": "2023-07-14T23:38:43.113818Z",
     "iopub.status.idle": "2023-07-14T23:38:43.118871Z",
     "shell.execute_reply": "2023-07-14T23:38:43.118084Z"
    },
    "papermill": {
     "duration": 0.010933,
     "end_time": "2023-07-14T23:38:43.120584",
     "exception": false,
     "start_time": "2023-07-14T23:38:43.109651",
     "status": "completed"
    },
    "tags": []
   },
   "outputs": [],
   "source": [
    "columns = {\n",
    "    'Event Name': 'name',\n",
    "    'Event Start Date': 'start_date',\n",
    "    'Event End Date': 'end_date',\n",
    "    'Partner/Promote': 'partner_promote',\n",
    "    'Stage': 'stage',\n",
    "    'Live date': 'live_date',\n",
    "    'Venue postcode': 'postcode',\n",
    "    'Pricing Policy': 'pricing',\n",
    "    'Venue - including address': 'venue',\n",
    "    'Is this event on Leeds Inspried?': 'on_leeds_inspired',\n",
    "}"
   ]
  },
  {
   "cell_type": "markdown",
   "id": "1668658c",
   "metadata": {
    "papermill": {
     "duration": 0.003269,
     "end_time": "2023-07-14T23:38:43.127558",
     "exception": false,
     "start_time": "2023-07-14T23:38:43.124289",
     "status": "completed"
    },
    "tags": []
   },
   "source": [
    "Load the data and rename columns. Parse the dates to dates."
   ]
  },
  {
   "cell_type": "code",
   "execution_count": 5,
   "id": "fae7cd33",
   "metadata": {
    "execution": {
     "iopub.execute_input": "2023-07-14T23:38:43.135139Z",
     "iopub.status.busy": "2023-07-14T23:38:43.134611Z",
     "iopub.status.idle": "2023-07-14T23:38:43.148434Z",
     "shell.execute_reply": "2023-07-14T23:38:43.147451Z"
    },
    "papermill": {
     "duration": 0.020185,
     "end_time": "2023-07-14T23:38:43.150758",
     "exception": false,
     "start_time": "2023-07-14T23:38:43.130573",
     "status": "completed"
    },
    "tags": []
   },
   "outputs": [],
   "source": [
    "data = pd.read_csv(EVENTS_RAW_DATA)[columns.keys()].rename(columns=columns)\n",
    "data.start_date = pd.to_datetime(data.start_date, errors='coerce')\n",
    "data.end_date = pd.to_datetime(data.end_date, errors='coerce')"
   ]
  },
  {
   "cell_type": "markdown",
   "id": "aec8a8fc",
   "metadata": {
    "papermill": {
     "duration": 0.003224,
     "end_time": "2023-07-14T23:38:43.157126",
     "exception": false,
     "start_time": "2023-07-14T23:38:43.153902",
     "status": "completed"
    },
    "tags": []
   },
   "source": [
    "Filter data by not LI Pull through and start date before now"
   ]
  },
  {
   "cell_type": "code",
   "execution_count": 6,
   "id": "438fc8c5",
   "metadata": {
    "execution": {
     "iopub.execute_input": "2023-07-14T23:38:43.166095Z",
     "iopub.status.busy": "2023-07-14T23:38:43.165469Z",
     "iopub.status.idle": "2023-07-14T23:38:43.173031Z",
     "shell.execute_reply": "2023-07-14T23:38:43.171959Z"
    },
    "papermill": {
     "duration": 0.015137,
     "end_time": "2023-07-14T23:38:43.175598",
     "exception": false,
     "start_time": "2023-07-14T23:38:43.160461",
     "status": "completed"
    },
    "tags": []
   },
   "outputs": [],
   "source": [
    "data = data[\n",
    "    # (data.live_date == 'This event is live ') &\n",
    "    ((data.stage != 'LI pull through') & data.stage.notna()) &\n",
    "    (data.start_date < pd.Timestamp.now())\n",
    "]"
   ]
  },
  {
   "cell_type": "code",
   "execution_count": 7,
   "id": "3e2966f0",
   "metadata": {
    "execution": {
     "iopub.execute_input": "2023-07-14T23:38:43.185365Z",
     "iopub.status.busy": "2023-07-14T23:38:43.184295Z",
     "iopub.status.idle": "2023-07-14T23:38:44.930917Z",
     "shell.execute_reply": "2023-07-14T23:38:44.929918Z"
    },
    "papermill": {
     "duration": 1.754767,
     "end_time": "2023-07-14T23:38:44.933987",
     "exception": false,
     "start_time": "2023-07-14T23:38:43.179220",
     "status": "completed"
    },
    "tags": []
   },
   "outputs": [],
   "source": [
    "data['ward_code'] = data.postcode.pipe(util.geo.postcode_formatter).map(util.geo.postcode_to_ward_code)\n",
    "data['ward_name'] = data.ward_code.pipe(util.geo.ward_code_to_name)"
   ]
  },
  {
   "cell_type": "markdown",
   "id": "14bb8372",
   "metadata": {
    "papermill": {
     "duration": 0.003298,
     "end_time": "2023-07-14T23:38:44.940615",
     "exception": false,
     "start_time": "2023-07-14T23:38:44.937317",
     "status": "completed"
    },
    "tags": []
   },
   "source": [
    "Save the file"
   ]
  },
  {
   "cell_type": "code",
   "execution_count": 8,
   "id": "7ab7d474",
   "metadata": {
    "execution": {
     "iopub.execute_input": "2023-07-14T23:38:44.948255Z",
     "iopub.status.busy": "2023-07-14T23:38:44.947912Z",
     "iopub.status.idle": "2023-07-14T23:38:44.957240Z",
     "shell.execute_reply": "2023-07-14T23:38:44.956054Z"
    },
    "papermill": {
     "duration": 0.01538,
     "end_time": "2023-07-14T23:38:44.959085",
     "exception": false,
     "start_time": "2023-07-14T23:38:44.943705",
     "status": "completed"
    },
    "tags": []
   },
   "outputs": [],
   "source": [
    "data[\n",
    "    ['name','start_date','end_date','ward_code']\n",
    "].to_csv(EVENTS_DATA, index=False)"
   ]
  },
  {
   "cell_type": "markdown",
   "id": "61f85e5c",
   "metadata": {
    "papermill": {
     "duration": 0.004068,
     "end_time": "2023-07-14T23:38:44.965999",
     "exception": false,
     "start_time": "2023-07-14T23:38:44.961931",
     "status": "completed"
    },
    "tags": []
   },
   "source": [
    "Print out missing postcode data"
   ]
  },
  {
   "cell_type": "code",
   "execution_count": 9,
   "id": "19d68783",
   "metadata": {
    "execution": {
     "iopub.execute_input": "2023-07-14T23:38:44.974547Z",
     "iopub.status.busy": "2023-07-14T23:38:44.974177Z",
     "iopub.status.idle": "2023-07-14T23:38:44.992117Z",
     "shell.execute_reply": "2023-07-14T23:38:44.991089Z"
    },
    "papermill": {
     "duration": 0.025398,
     "end_time": "2023-07-14T23:38:44.994673",
     "exception": false,
     "start_time": "2023-07-14T23:38:44.969275",
     "status": "completed"
    },
    "tags": []
   },
   "outputs": [
    {
     "data": {
      "text/html": [
       "<div>\n",
       "<style scoped>\n",
       "    .dataframe tbody tr th:only-of-type {\n",
       "        vertical-align: middle;\n",
       "    }\n",
       "\n",
       "    .dataframe tbody tr th {\n",
       "        vertical-align: top;\n",
       "    }\n",
       "\n",
       "    .dataframe thead th {\n",
       "        text-align: right;\n",
       "    }\n",
       "</style>\n",
       "<table border=\"1\" class=\"dataframe\">\n",
       "  <thead>\n",
       "    <tr style=\"text-align: right;\">\n",
       "      <th></th>\n",
       "      <th>name</th>\n",
       "      <th>start_date</th>\n",
       "    </tr>\n",
       "  </thead>\n",
       "  <tbody>\n",
       "    <tr>\n",
       "      <th>3</th>\n",
       "      <td>Phoenix Dance Theatre Virtual Gallery</td>\n",
       "      <td>2023-01-01</td>\n",
       "    </tr>\n",
       "    <tr>\n",
       "      <th>4</th>\n",
       "      <td>The Big Art Giveaway, School of Creative Arts ...</td>\n",
       "      <td>2023-01-01</td>\n",
       "    </tr>\n",
       "    <tr>\n",
       "      <th>6</th>\n",
       "      <td>Shifting Borders: A Journey to the Centre of o...</td>\n",
       "      <td>2023-01-24</td>\n",
       "    </tr>\n",
       "    <tr>\n",
       "      <th>13</th>\n",
       "      <td>Leeds Lit Fest 2023</td>\n",
       "      <td>2023-02-25</td>\n",
       "    </tr>\n",
       "    <tr>\n",
       "      <th>45</th>\n",
       "      <td>Jamica Society Leeds, Out of Many Festival - T...</td>\n",
       "      <td>2023-05-01</td>\n",
       "    </tr>\n",
       "    <tr>\n",
       "      <th>46</th>\n",
       "      <td>Sayang, Si Polan - International residency in ...</td>\n",
       "      <td>2023-05-01</td>\n",
       "    </tr>\n",
       "    <tr>\n",
       "      <th>65</th>\n",
       "      <td>Leeds Jazz Festival 2023</td>\n",
       "      <td>2023-05-25</td>\n",
       "    </tr>\n",
       "    <tr>\n",
       "      <th>81</th>\n",
       "      <td>Keira Martin, Queenie and the Pooka (Performan...</td>\n",
       "      <td>2023-06-05</td>\n",
       "    </tr>\n",
       "    <tr>\n",
       "      <th>82</th>\n",
       "      <td>My LEEDS Summer: Kirkstall Makes + Moves</td>\n",
       "      <td>2023-06-11</td>\n",
       "    </tr>\n",
       "    <tr>\n",
       "      <th>85</th>\n",
       "      <td>My LEEDS Summer at Hunslet Festival</td>\n",
       "      <td>2023-06-17</td>\n",
       "    </tr>\n",
       "    <tr>\n",
       "      <th>86</th>\n",
       "      <td>My LEEDS Summer: Roundhay World Music &amp; Food Fest</td>\n",
       "      <td>2023-06-17</td>\n",
       "    </tr>\n",
       "    <tr>\n",
       "      <th>95</th>\n",
       "      <td>My LEEDS Summer: Beeston Festival</td>\n",
       "      <td>2023-06-24</td>\n",
       "    </tr>\n",
       "    <tr>\n",
       "      <th>96</th>\n",
       "      <td>My LEEDS Summer: Crossgates and Whinmoor - Pas...</td>\n",
       "      <td>2023-06-24</td>\n",
       "    </tr>\n",
       "    <tr>\n",
       "      <th>97</th>\n",
       "      <td>My LEEDS Summer: Picnic in the Park</td>\n",
       "      <td>2023-06-24</td>\n",
       "    </tr>\n",
       "    <tr>\n",
       "      <th>100</th>\n",
       "      <td>Becoming the Brontës</td>\n",
       "      <td>2023-06-29</td>\n",
       "    </tr>\n",
       "    <tr>\n",
       "      <th>107</th>\n",
       "      <td>My LEEDS Summer: Wetherby Drovers Day</td>\n",
       "      <td>2023-07-01</td>\n",
       "    </tr>\n",
       "    <tr>\n",
       "      <th>108</th>\n",
       "      <td>My Leeds Summer : Walk of Art</td>\n",
       "      <td>2023-07-01</td>\n",
       "    </tr>\n",
       "    <tr>\n",
       "      <th>111</th>\n",
       "      <td>My LEEDS Summer: The Feast</td>\n",
       "      <td>2023-07-02</td>\n",
       "    </tr>\n",
       "    <tr>\n",
       "      <th>112</th>\n",
       "      <td>My LEEDS summer: Celebration Day</td>\n",
       "      <td>2023-07-02</td>\n",
       "    </tr>\n",
       "    <tr>\n",
       "      <th>120</th>\n",
       "      <td>My LEEDS Summer : Wonderful Workshops and Cele...</td>\n",
       "      <td>2023-07-06</td>\n",
       "    </tr>\n",
       "    <tr>\n",
       "      <th>128</th>\n",
       "      <td>My LEEDS Summer: The Gipton and Harehills Crea...</td>\n",
       "      <td>2023-07-08</td>\n",
       "    </tr>\n",
       "    <tr>\n",
       "      <th>130</th>\n",
       "      <td>My LEEDS Summer: Ardsley &amp; Robin Hood: Celebra...</td>\n",
       "      <td>2023-07-09</td>\n",
       "    </tr>\n",
       "    <tr>\n",
       "      <th>133</th>\n",
       "      <td>My LEEDS Summer: The Big Summer Picnic</td>\n",
       "      <td>2023-07-09</td>\n",
       "    </tr>\n",
       "  </tbody>\n",
       "</table>\n",
       "</div>"
      ],
      "text/plain": [
       "                                                  name start_date\n",
       "3                Phoenix Dance Theatre Virtual Gallery 2023-01-01\n",
       "4    The Big Art Giveaway, School of Creative Arts ... 2023-01-01\n",
       "6    Shifting Borders: A Journey to the Centre of o... 2023-01-24\n",
       "13                                 Leeds Lit Fest 2023 2023-02-25\n",
       "45   Jamica Society Leeds, Out of Many Festival - T... 2023-05-01\n",
       "46   Sayang, Si Polan - International residency in ... 2023-05-01\n",
       "65                            Leeds Jazz Festival 2023 2023-05-25\n",
       "81   Keira Martin, Queenie and the Pooka (Performan... 2023-06-05\n",
       "82            My LEEDS Summer: Kirkstall Makes + Moves 2023-06-11\n",
       "85                 My LEEDS Summer at Hunslet Festival 2023-06-17\n",
       "86   My LEEDS Summer: Roundhay World Music & Food Fest 2023-06-17\n",
       "95                   My LEEDS Summer: Beeston Festival 2023-06-24\n",
       "96   My LEEDS Summer: Crossgates and Whinmoor - Pas... 2023-06-24\n",
       "97                 My LEEDS Summer: Picnic in the Park 2023-06-24\n",
       "100                               Becoming the Brontës 2023-06-29\n",
       "107              My LEEDS Summer: Wetherby Drovers Day 2023-07-01\n",
       "108                      My Leeds Summer : Walk of Art 2023-07-01\n",
       "111                         My LEEDS Summer: The Feast 2023-07-02\n",
       "112                   My LEEDS summer: Celebration Day 2023-07-02\n",
       "120  My LEEDS Summer : Wonderful Workshops and Cele... 2023-07-06\n",
       "128  My LEEDS Summer: The Gipton and Harehills Crea... 2023-07-08\n",
       "130  My LEEDS Summer: Ardsley & Robin Hood: Celebra... 2023-07-09\n",
       "133             My LEEDS Summer: The Big Summer Picnic 2023-07-09"
      ]
     },
     "execution_count": 9,
     "metadata": {},
     "output_type": "execute_result"
    }
   ],
   "source": [
    "data[data.postcode.isna()][[\n",
    "    'name', 'start_date'\n",
    "]]"
   ]
  },
  {
   "cell_type": "markdown",
   "id": "40d052c3",
   "metadata": {
    "papermill": {
     "duration": 0.003366,
     "end_time": "2023-07-14T23:38:45.002269",
     "exception": false,
     "start_time": "2023-07-14T23:38:44.998903",
     "status": "completed"
    },
    "tags": []
   },
   "source": [
    "Plot the pricing"
   ]
  },
  {
   "cell_type": "code",
   "execution_count": 10,
   "id": "409990c0",
   "metadata": {
    "execution": {
     "iopub.execute_input": "2023-07-14T23:38:45.012412Z",
     "iopub.status.busy": "2023-07-14T23:38:45.011615Z",
     "iopub.status.idle": "2023-07-14T23:38:46.145413Z",
     "shell.execute_reply": "2023-07-14T23:38:46.143775Z"
    },
    "papermill": {
     "duration": 1.141034,
     "end_time": "2023-07-14T23:38:46.147922",
     "exception": false,
     "start_time": "2023-07-14T23:38:45.006888",
     "status": "completed"
    },
    "tags": []
   },
   "outputs": [
    {
     "data": {
      "image/png": "[encoded data removed]",
      "text/plain": [
       "<Figure size 640x480 with 1 Axes>"
      ]
     },
     "metadata": {},
     "output_type": "display_data"
    }
   ],
   "source": [
    "# .groupby('pricing').count().plot.barh()\n",
    "pricing = data.pricing.fillna('Unspecified').str.replace('[\\[\\'\\]]', '', regex=True).to_frame().reset_index().groupby('pricing').count()\n",
    "\n",
    "pricing.columns = ['count']\n",
    "plot = pricing.plot.barh()\n"
   ]
  },
  {
   "cell_type": "code",
   "execution_count": null,
   "id": "ed42dc55",
   "metadata": {
    "papermill": {
     "duration": 0.004002,
     "end_time": "2023-07-14T23:38:46.156214",
     "exception": false,
     "start_time": "2023-07-14T23:38:46.152212",
     "status": "completed"
    },
    "tags": []
   },
   "outputs": [],
   "source": []
  }
 ],
 "metadata": {
  "kernelspec": {
   "display_name": "leeds-2023-YZF5GfJv",
   "language": "python",
   "name": "python3"
  },
  "language_info": {
   "codemirror_mode": {
    "name": "ipython",
    "version": 3
   },
   "file_extension": ".py",
   "mimetype": "text/x-python",
   "name": "python",
   "nbconvert_exporter": "python",
   "pygments_lexer": "ipython3",
   "version": "3.10.6"
  },
  "papermill": {
   "default_parameters": {},
   "duration": 17.704992,
   "end_time": "2023-07-14T23:38:46.780336",
   "environment_variables": {},
   "exception": null,
   "input_path": "transform.ipynb",
   "output_path": "../../../working/output/partner-events-transform.ipynb",
   "parameters": {},
   "start_time": "2023-07-14T23:38:29.075344",
   "version": "2.4.0"
  }
 },
 "nbformat": 4,
 "nbformat_minor": 5
}