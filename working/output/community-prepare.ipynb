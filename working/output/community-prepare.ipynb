{
 "cells": [
  {
   "cell_type": "code",
   "execution_count": 1,
   "id": "c5f9080a",
   "metadata": {
    "execution": {
     "iopub.execute_input": "2023-08-18T17:33:59.458022Z",
     "iopub.status.busy": "2023-08-18T17:33:59.457869Z",
     "iopub.status.idle": "2023-08-18T17:33:59.643342Z",
     "shell.execute_reply": "2023-08-18T17:33:59.642932Z"
    },
    "papermill": {
     "duration": 0.191512,
     "end_time": "2023-08-18T17:33:59.644410",
     "exception": false,
     "start_time": "2023-08-18T17:33:59.452898",
     "status": "completed"
    },
    "tags": []
   },
   "outputs": [],
   "source": [
    "import os, sys\n",
    "TOP_DIR = os.path.realpath('../../..')\n",
    "if TOP_DIR not in sys.path: sys.path.append(TOP_DIR)\n",
    "import pandas as pd"
   ]
  },
  {
   "cell_type": "code",
   "execution_count": 2,
   "id": "2f303f0a",
   "metadata": {
    "execution": {
     "iopub.execute_input": "2023-08-18T17:33:59.646941Z",
     "iopub.status.busy": "2023-08-18T17:33:59.646755Z",
     "iopub.status.idle": "2023-08-18T17:33:59.649314Z",
     "shell.execute_reply": "2023-08-18T17:33:59.649007Z"
    },
    "papermill": {
     "duration": 0.004546,
     "end_time": "2023-08-18T17:33:59.649986",
     "exception": false,
     "start_time": "2023-08-18T17:33:59.645440",
     "status": "completed"
    },
    "tags": []
   },
   "outputs": [],
   "source": [
    "from lib.util.convert import named_cumulative_sum"
   ]
  },
  {
   "cell_type": "code",
   "execution_count": 3,
   "id": "5af6acf3",
   "metadata": {
    "execution": {
     "iopub.execute_input": "2023-08-18T17:33:59.652054Z",
     "iopub.status.busy": "2023-08-18T17:33:59.651905Z",
     "iopub.status.idle": "2023-08-18T17:33:59.657574Z",
     "shell.execute_reply": "2023-08-18T17:33:59.657253Z"
    },
    "papermill": {
     "duration": 0.007467,
     "end_time": "2023-08-18T17:33:59.658238",
     "exception": false,
     "start_time": "2023-08-18T17:33:59.650771",
     "status": "completed"
    },
    "tags": []
   },
   "outputs": [],
   "source": [
    "data = pd.read_csv('../../../data/metrics/community/events.csv', parse_dates=['start_date'])\n",
    "data.ward_code = data.ward_code.fillna('UNKNOWN')"
   ]
  },
  {
   "cell_type": "markdown",
   "id": "b34c15aa",
   "metadata": {
    "papermill": {
     "duration": 0.000799,
     "end_time": "2023-08-18T17:33:59.659904",
     "exception": false,
     "start_time": "2023-08-18T17:33:59.659105",
     "status": "completed"
    },
    "tags": []
   },
   "source": [
    "Set up output directories"
   ]
  },
  {
   "cell_type": "code",
   "execution_count": 4,
   "id": "3ff01ba9",
   "metadata": {
    "execution": {
     "iopub.execute_input": "2023-08-18T17:33:59.661889Z",
     "iopub.status.busy": "2023-08-18T17:33:59.661745Z",
     "iopub.status.idle": "2023-08-18T17:33:59.663551Z",
     "shell.execute_reply": "2023-08-18T17:33:59.663277Z"
    },
    "papermill": {
     "duration": 0.003512,
     "end_time": "2023-08-18T17:33:59.664158",
     "exception": false,
     "start_time": "2023-08-18T17:33:59.660646",
     "status": "completed"
    },
    "tags": []
   },
   "outputs": [],
   "source": [
    "OUT_DIR = '../../../docs/metrics/community/_data'\n",
    "os.makedirs(OUT_DIR, exist_ok=True)"
   ]
  },
  {
   "cell_type": "code",
   "execution_count": 5,
   "id": "7b45c2b4",
   "metadata": {
    "execution": {
     "iopub.execute_input": "2023-08-18T17:33:59.666325Z",
     "iopub.status.busy": "2023-08-18T17:33:59.666187Z",
     "iopub.status.idle": "2023-08-18T17:33:59.669917Z",
     "shell.execute_reply": "2023-08-18T17:33:59.669606Z"
    },
    "papermill": {
     "duration": 0.005472,
     "end_time": "2023-08-18T17:33:59.670527",
     "exception": false,
     "start_time": "2023-08-18T17:33:59.665055",
     "status": "completed"
    },
    "tags": []
   },
   "outputs": [],
   "source": [
    "pd.Series({\n",
    "  'events': data.event_name.count(),\n",
    "  'audience': data.audience.sum().astype(int),\n",
    "  'errors': {\n",
    "    'missing_wards': (data.ward_code == 'UNKNOWN').value_counts()[True],\n",
    "    'missing_audience': data.audience.isna().value_counts()[True],\n",
    "    'zero_audience':  (data.audience < 1).value_counts()[True],  \n",
    "  }\n",
    "}).to_json(os.path.join(OUT_DIR, 'headlines.json'), indent=2)"
   ]
  },
  {
   "cell_type": "code",
   "execution_count": 6,
   "id": "082f1421",
   "metadata": {
    "execution": {
     "iopub.execute_input": "2023-08-18T17:33:59.672881Z",
     "iopub.status.busy": "2023-08-18T17:33:59.672730Z",
     "iopub.status.idle": "2023-08-18T17:33:59.677350Z",
     "shell.execute_reply": "2023-08-18T17:33:59.676970Z"
    },
    "papermill": {
     "duration": 0.006792,
     "end_time": "2023-08-18T17:33:59.678222",
     "exception": false,
     "start_time": "2023-08-18T17:33:59.671430",
     "status": "completed"
    },
    "tags": []
   },
   "outputs": [],
   "source": [
    "by_ward = pd.DataFrame({\n",
    "  'events': data.groupby('ward_code').event_name.count().fillna(0).astype('int'),\n",
    "  'audience': data.groupby('ward_code').audience.sum().fillna(0).astype('int'),\n",
    "}).to_csv(os.path.join(OUT_DIR, 'by_ward.csv'))"
   ]
  },
  {
   "cell_type": "code",
   "execution_count": 7,
   "id": "33d70774",
   "metadata": {
    "execution": {
     "iopub.execute_input": "2023-08-18T17:33:59.680944Z",
     "iopub.status.busy": "2023-08-18T17:33:59.680790Z",
     "iopub.status.idle": "2023-08-18T17:33:59.688416Z",
     "shell.execute_reply": "2023-08-18T17:33:59.688052Z"
    },
    "papermill": {
     "duration": 0.009839,
     "end_time": "2023-08-18T17:33:59.689204",
     "exception": false,
     "start_time": "2023-08-18T17:33:59.679365",
     "status": "completed"
    },
    "tags": []
   },
   "outputs": [],
   "source": [
    "by_date = pd.DataFrame({\n",
    "    'events': data.groupby('start_date').event_name.count(),\n",
    "    'audience': data.groupby('start_date').audience.sum(),\n",
    "}).resample('M').sum()\n",
    "\n",
    "pd.concat([\n",
    "    by_date,\n",
    "    by_date.pipe(named_cumulative_sum)\n",
    "], axis=1).astype('int').to_csv(os.path.join(OUT_DIR, 'by_date.csv'))"
   ]
  }
 ],
 "metadata": {
  "kernelspec": {
   "display_name": "leeds-2023-YZF5GfJv",
   "language": "python",
   "name": "python3"
  },
  "language_info": {
   "codemirror_mode": {
    "name": "ipython",
    "version": 3
   },
   "file_extension": ".py",
   "mimetype": "text/x-python",
   "name": "python",
   "nbconvert_exporter": "python",
   "pygments_lexer": "ipython3",
   "version": "3.10.12"
  },
  "papermill": {
   "default_parameters": {},
   "duration": 1.169627,
   "end_time": "2023-08-18T17:33:59.907293",
   "environment_variables": {},
   "exception": null,
   "input_path": "prepare.ipynb",
   "output_path": "../../../working/output/community-prepare.ipynb",
   "parameters": {},
   "start_time": "2023-08-18T17:33:58.737666",
   "version": "2.4.0"
  }
 },
 "nbformat": 4,
 "nbformat_minor": 5
}