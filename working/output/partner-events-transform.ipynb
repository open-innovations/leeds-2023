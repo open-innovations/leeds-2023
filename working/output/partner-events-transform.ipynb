{
 "cells": [
  {
   "cell_type": "code",
   "execution_count": 1,
   "id": "80ed3f51",
   "metadata": {
    "execution": {
     "iopub.execute_input": "2023-10-17T23:38:01.764808Z",
     "iopub.status.busy": "2023-10-17T23:38:01.764035Z",
     "iopub.status.idle": "2023-10-17T23:38:02.039322Z",
     "shell.execute_reply": "2023-10-17T23:38:02.038573Z"
    },
    "papermill": {
     "duration": 0.282379,
     "end_time": "2023-10-17T23:38:02.041441",
     "exception": false,
     "start_time": "2023-10-17T23:38:01.759062",
     "status": "completed"
    },
    "tags": []
   },
   "outputs": [],
   "source": [
    "import os\n",
    "import sys\n",
    "import pandas as pd\n",
    "lib_dir = os.path.realpath('../../../lib/')\n",
    "if lib_dir not in sys.path: sys.path.append(lib_dir)"
   ]
  },
  {
   "cell_type": "code",
   "execution_count": 2,
   "id": "7801d129",
   "metadata": {
    "execution": {
     "iopub.execute_input": "2023-10-17T23:38:02.049350Z",
     "iopub.status.busy": "2023-10-17T23:38:02.048992Z",
     "iopub.status.idle": "2023-10-17T23:38:13.265264Z",
     "shell.execute_reply": "2023-10-17T23:38:13.264441Z"
    },
    "papermill": {
     "duration": 11.22254,
     "end_time": "2023-10-17T23:38:13.267402",
     "exception": false,
     "start_time": "2023-10-17T23:38:02.044862",
     "status": "completed"
    },
    "tags": []
   },
   "outputs": [],
   "source": [
    "import util.geo"
   ]
  },
  {
   "cell_type": "code",
   "execution_count": 3,
   "id": "5c9934cd",
   "metadata": {
    "execution": {
     "iopub.execute_input": "2023-10-17T23:38:13.280497Z",
     "iopub.status.busy": "2023-10-17T23:38:13.280059Z",
     "iopub.status.idle": "2023-10-17T23:38:13.284058Z",
     "shell.execute_reply": "2023-10-17T23:38:13.283436Z"
    },
    "papermill": {
     "duration": 0.010864,
     "end_time": "2023-10-17T23:38:13.285494",
     "exception": false,
     "start_time": "2023-10-17T23:38:13.274630",
     "status": "completed"
    },
    "tags": []
   },
   "outputs": [],
   "source": [
    "EVENTS_RAW_DATA = '../../../working/metrics/partner-events/events.csv'\n",
    "DATA_DIR = '../../../data/metrics/events/partner-events/'\n",
    "EVENTS_DATA = os.path.join(DATA_DIR, 'events.csv')"
   ]
  },
  {
   "cell_type": "code",
   "execution_count": 4,
   "id": "5f1796b7",
   "metadata": {
    "execution": {
     "iopub.execute_input": "2023-10-17T23:38:13.293318Z",
     "iopub.status.busy": "2023-10-17T23:38:13.292615Z",
     "iopub.status.idle": "2023-10-17T23:38:13.296745Z",
     "shell.execute_reply": "2023-10-17T23:38:13.296061Z"
    },
    "papermill": {
     "duration": 0.009835,
     "end_time": "2023-10-17T23:38:13.298317",
     "exception": false,
     "start_time": "2023-10-17T23:38:13.288482",
     "status": "completed"
    },
    "tags": []
   },
   "outputs": [],
   "source": [
    "columns = {\n",
    "    'Event Name': 'name',\n",
    "    'Event Start Date': 'start_date',\n",
    "    'Event End Date': 'end_date',\n",
    "    'Partner/Promote': 'partner_promote',\n",
    "    'Stage': 'stage',\n",
    "    'Live date': 'live_date',\n",
    "    'Venue postcode': 'postcode',\n",
    "    'Pricing Policy': 'pricing',\n",
    "    'Venue - including address': 'venue',\n",
    "    'Is this event on Leeds Inspried?': 'on_leeds_inspired',\n",
    "}"
   ]
  },
  {
   "cell_type": "markdown",
   "id": "d77ed7c1",
   "metadata": {
    "papermill": {
     "duration": 0.002729,
     "end_time": "2023-10-17T23:38:13.303867",
     "exception": false,
     "start_time": "2023-10-17T23:38:13.301138",
     "status": "completed"
    },
    "tags": []
   },
   "source": [
    "Load the data and rename columns. Parse the dates to dates."
   ]
  },
  {
   "cell_type": "code",
   "execution_count": 5,
   "id": "078f5054",
   "metadata": {
    "execution": {
     "iopub.execute_input": "2023-10-17T23:38:13.310585Z",
     "iopub.status.busy": "2023-10-17T23:38:13.310355Z",
     "iopub.status.idle": "2023-10-17T23:38:13.322938Z",
     "shell.execute_reply": "2023-10-17T23:38:13.322335Z"
    },
    "papermill": {
     "duration": 0.017878,
     "end_time": "2023-10-17T23:38:13.324588",
     "exception": false,
     "start_time": "2023-10-17T23:38:13.306710",
     "status": "completed"
    },
    "tags": []
   },
   "outputs": [],
   "source": [
    "data = pd.read_csv(EVENTS_RAW_DATA)[columns.keys()].rename(columns=columns)\n",
    "data.start_date = pd.to_datetime(data.start_date, errors='coerce')\n",
    "data.end_date = pd.to_datetime(data.end_date, errors='coerce')"
   ]
  },
  {
   "cell_type": "markdown",
   "id": "d52ad088",
   "metadata": {
    "papermill": {
     "duration": 0.00265,
     "end_time": "2023-10-17T23:38:13.330083",
     "exception": false,
     "start_time": "2023-10-17T23:38:13.327433",
     "status": "completed"
    },
    "tags": []
   },
   "source": [
    "Filter data by not LI Pull through and start date before now"
   ]
  },
  {
   "cell_type": "code",
   "execution_count": 6,
   "id": "553dfede",
   "metadata": {
    "execution": {
     "iopub.execute_input": "2023-10-17T23:38:13.336854Z",
     "iopub.status.busy": "2023-10-17T23:38:13.336410Z",
     "iopub.status.idle": "2023-10-17T23:38:13.342918Z",
     "shell.execute_reply": "2023-10-17T23:38:13.342333Z"
    },
    "papermill": {
     "duration": 0.01146,
     "end_time": "2023-10-17T23:38:13.344319",
     "exception": false,
     "start_time": "2023-10-17T23:38:13.332859",
     "status": "completed"
    },
    "tags": []
   },
   "outputs": [],
   "source": [
    "data = data[\n",
    "    # (data.live_date == 'This event is live ') &\n",
    "    ((data.stage != 'LI pull through') & data.stage.notna()) &\n",
    "    (data.start_date < pd.Timestamp.now())\n",
    "]"
   ]
  },
  {
   "cell_type": "code",
   "execution_count": 7,
   "id": "b7de9210",
   "metadata": {
    "execution": {
     "iopub.execute_input": "2023-10-17T23:38:13.351071Z",
     "iopub.status.busy": "2023-10-17T23:38:13.350527Z",
     "iopub.status.idle": "2023-10-17T23:38:14.685946Z",
     "shell.execute_reply": "2023-10-17T23:38:14.685231Z"
    },
    "papermill": {
     "duration": 1.340958,
     "end_time": "2023-10-17T23:38:14.687964",
     "exception": false,
     "start_time": "2023-10-17T23:38:13.347006",
     "status": "completed"
    },
    "tags": []
   },
   "outputs": [],
   "source": [
    "data['ward_code'] = data.postcode.pipe(util.geo.postcode_formatter).map(util.geo.postcode_to_ward_code)\n",
    "data['ward_name'] = data.ward_code.pipe(util.geo.ward_code_to_name)"
   ]
  },
  {
   "cell_type": "markdown",
   "id": "00c5e468",
   "metadata": {
    "papermill": {
     "duration": 0.004293,
     "end_time": "2023-10-17T23:38:14.695516",
     "exception": false,
     "start_time": "2023-10-17T23:38:14.691223",
     "status": "completed"
    },
    "tags": []
   },
   "source": [
    "Save the file"
   ]
  },
  {
   "cell_type": "code",
   "execution_count": 8,
   "id": "4f3022dc",
   "metadata": {
    "execution": {
     "iopub.execute_input": "2023-10-17T23:38:14.702723Z",
     "iopub.status.busy": "2023-10-17T23:38:14.702170Z",
     "iopub.status.idle": "2023-10-17T23:38:14.710352Z",
     "shell.execute_reply": "2023-10-17T23:38:14.709687Z"
    },
    "papermill": {
     "duration": 0.013489,
     "end_time": "2023-10-17T23:38:14.711780",
     "exception": false,
     "start_time": "2023-10-17T23:38:14.698291",
     "status": "completed"
    },
    "tags": []
   },
   "outputs": [],
   "source": [
    "data[\n",
    "    ['name','start_date','end_date','ward_code']\n",
    "].to_csv(EVENTS_DATA, index=False)"
   ]
  },
  {
   "cell_type": "markdown",
   "id": "3497188e",
   "metadata": {
    "papermill": {
     "duration": 0.002722,
     "end_time": "2023-10-17T23:38:14.717343",
     "exception": false,
     "start_time": "2023-10-17T23:38:14.714621",
     "status": "completed"
    },
    "tags": []
   },
   "source": [
    "Print out missing postcode data"
   ]
  },
  {
   "cell_type": "code",
   "execution_count": 9,
   "id": "e825d7a1",
   "metadata": {
    "execution": {
     "iopub.execute_input": "2023-10-17T23:38:14.724331Z",
     "iopub.status.busy": "2023-10-17T23:38:14.723709Z",
     "iopub.status.idle": "2023-10-17T23:38:14.740236Z",
     "shell.execute_reply": "2023-10-17T23:38:14.739546Z"
    },
    "papermill": {
     "duration": 0.021574,
     "end_time": "2023-10-17T23:38:14.741752",
     "exception": false,
     "start_time": "2023-10-17T23:38:14.720178",
     "status": "completed"
    },
    "tags": []
   },
   "outputs": [
    {
     "data": {
      "text/html": [
       "<div>\n",
       "<style scoped>\n",
       "    .dataframe tbody tr th:only-of-type {\n",
       "        vertical-align: middle;\n",
       "    }\n",
       "\n",
       "    .dataframe tbody tr th {\n",
       "        vertical-align: top;\n",
       "    }\n",
       "\n",
       "    .dataframe thead th {\n",
       "        text-align: right;\n",
       "    }\n",
       "</style>\n",
       "<table border=\"1\" class=\"dataframe\">\n",
       "  <thead>\n",
       "    <tr style=\"text-align: right;\">\n",
       "      <th></th>\n",
       "      <th>name</th>\n",
       "      <th>start_date</th>\n",
       "    </tr>\n",
       "  </thead>\n",
       "  <tbody>\n",
       "    <tr>\n",
       "      <th>1</th>\n",
       "      <td>East Street Arts, A City Less Grey 2022</td>\n",
       "      <td>2022-10-08</td>\n",
       "    </tr>\n",
       "    <tr>\n",
       "      <th>3</th>\n",
       "      <td>Phoenix Dance Theatre Virtual Gallery</td>\n",
       "      <td>2023-01-01</td>\n",
       "    </tr>\n",
       "    <tr>\n",
       "      <th>4</th>\n",
       "      <td>The Big Art Giveaway, School of Creative Arts ...</td>\n",
       "      <td>2023-01-01</td>\n",
       "    </tr>\n",
       "    <tr>\n",
       "      <th>5</th>\n",
       "      <td>Embassy of Netherlands, Meet Leeds Lab</td>\n",
       "      <td>2023-01-16</td>\n",
       "    </tr>\n",
       "    <tr>\n",
       "      <th>6</th>\n",
       "      <td>Shifting Borders: A Journey to the Centre of o...</td>\n",
       "      <td>2023-01-24</td>\n",
       "    </tr>\n",
       "    <tr>\n",
       "      <th>...</th>\n",
       "      <td>...</td>\n",
       "      <td>...</td>\n",
       "    </tr>\n",
       "    <tr>\n",
       "      <th>215</th>\n",
       "      <td>Sayang presents: Si Polan x2 sharing (RSVP)</td>\n",
       "      <td>2023-10-12</td>\n",
       "    </tr>\n",
       "    <tr>\n",
       "      <th>219</th>\n",
       "      <td>NWMCMN: The Path Between</td>\n",
       "      <td>2023-10-14</td>\n",
       "    </tr>\n",
       "    <tr>\n",
       "      <th>223</th>\n",
       "      <td>Art, Love and Marriage: Breaking Stereotypes</td>\n",
       "      <td>2023-10-16</td>\n",
       "    </tr>\n",
       "    <tr>\n",
       "      <th>224</th>\n",
       "      <td>Kully Thiarai: Leeds 2023</td>\n",
       "      <td>2023-10-17</td>\n",
       "    </tr>\n",
       "    <tr>\n",
       "      <th>225</th>\n",
       "      <td>Someone at the Old Woollen</td>\n",
       "      <td>2023-10-17</td>\n",
       "    </tr>\n",
       "  </tbody>\n",
       "</table>\n",
       "<p>72 rows × 2 columns</p>\n",
       "</div>"
      ],
      "text/plain": [
       "                                                  name start_date\n",
       "1              East Street Arts, A City Less Grey 2022 2022-10-08\n",
       "3                Phoenix Dance Theatre Virtual Gallery 2023-01-01\n",
       "4    The Big Art Giveaway, School of Creative Arts ... 2023-01-01\n",
       "5               Embassy of Netherlands, Meet Leeds Lab 2023-01-16\n",
       "6    Shifting Borders: A Journey to the Centre of o... 2023-01-24\n",
       "..                                                 ...        ...\n",
       "215        Sayang presents: Si Polan x2 sharing (RSVP) 2023-10-12\n",
       "219                           NWMCMN: The Path Between 2023-10-14\n",
       "223       Art, Love and Marriage: Breaking Stereotypes 2023-10-16\n",
       "224                          Kully Thiarai: Leeds 2023 2023-10-17\n",
       "225                         Someone at the Old Woollen 2023-10-17\n",
       "\n",
       "[72 rows x 2 columns]"
      ]
     },
     "execution_count": 9,
     "metadata": {},
     "output_type": "execute_result"
    }
   ],
   "source": [
    "data[data.postcode.isna()][[\n",
    "    'name', 'start_date'\n",
    "]]"
   ]
  },
  {
   "cell_type": "markdown",
   "id": "617d8374",
   "metadata": {
    "papermill": {
     "duration": 0.00303,
     "end_time": "2023-10-17T23:38:14.747969",
     "exception": false,
     "start_time": "2023-10-17T23:38:14.744939",
     "status": "completed"
    },
    "tags": []
   },
   "source": [
    "Plot the pricing"
   ]
  },
  {
   "cell_type": "code",
   "execution_count": 10,
   "id": "997e3225",
   "metadata": {
    "execution": {
     "iopub.execute_input": "2023-10-17T23:38:14.755390Z",
     "iopub.status.busy": "2023-10-17T23:38:14.754928Z",
     "iopub.status.idle": "2023-10-17T23:38:15.302548Z",
     "shell.execute_reply": "2023-10-17T23:38:15.301821Z"
    },
    "papermill": {
     "duration": 0.553345,
     "end_time": "2023-10-17T23:38:15.304346",
     "exception": false,
     "start_time": "2023-10-17T23:38:14.751001",
     "status": "completed"
    },
    "tags": []
   },
   "outputs": [
    {
     "data": {
      "image/png": "[encoded data removed]",
      "text/plain": [
       "<Figure size 640x480 with 1 Axes>"
      ]
     },
     "metadata": {},
     "output_type": "display_data"
    }
   ],
   "source": [
    "# .groupby('pricing').count().plot.barh()\n",
    "pricing = data.pricing.fillna('Unspecified').str.replace('[\\[\\'\\]]', '', regex=True).to_frame().reset_index().groupby('pricing').count()\n",
    "\n",
    "pricing.columns = ['count']\n",
    "plot = pricing.plot.barh()\n"
   ]
  },
  {
   "cell_type": "code",
   "execution_count": null,
   "id": "f67da1f1",
   "metadata": {
    "papermill": {
     "duration": 0.003525,
     "end_time": "2023-10-17T23:38:15.312287",
     "exception": false,
     "start_time": "2023-10-17T23:38:15.308762",
     "status": "completed"
    },
    "tags": []
   },
   "outputs": [],
   "source": []
  }
 ],
 "metadata": {
  "kernelspec": {
   "display_name": "leeds-2023-YZF5GfJv",
   "language": "python",
   "name": "python3"
  },
  "language_info": {
   "codemirror_mode": {
    "name": "ipython",
    "version": 3
   },
   "file_extension": ".py",
   "mimetype": "text/x-python",
   "name": "python",
   "nbconvert_exporter": "python",
   "pygments_lexer": "ipython3",
   "version": "3.10.13"
  },
  "papermill": {
   "default_parameters": {},
   "duration": 15.355312,
   "end_time": "2023-10-17T23:38:15.734274",
   "environment_variables": {},
   "exception": null,
   "input_path": "transform.ipynb",
   "output_path": "../../../working/output/partner-events-transform.ipynb",
   "parameters": {},
   "start_time": "2023-10-17T23:38:00.378962",
   "version": "2.4.0"
  }
 },
 "nbformat": 4,
 "nbformat_minor": 5
}