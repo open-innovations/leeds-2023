{
 "cells": [
  {
   "cell_type": "code",
   "execution_count": 1,
   "id": "d21e1d0e",
   "metadata": {
    "execution": {
     "iopub.execute_input": "2023-12-10T23:39:36.967287Z",
     "iopub.status.busy": "2023-12-10T23:39:36.967034Z",
     "iopub.status.idle": "2023-12-10T23:39:44.237548Z",
     "shell.execute_reply": "2023-12-10T23:39:44.236890Z"
    },
    "papermill": {
     "duration": 7.275859,
     "end_time": "2023-12-10T23:39:44.239218",
     "exception": false,
     "start_time": "2023-12-10T23:39:36.963359",
     "status": "completed"
    },
    "tags": []
   },
   "outputs": [],
   "source": [
    "import os\n",
    "import pandas as pd\n",
    "from events import load_event_data, get_first_ward, normalise_ward"
   ]
  },
  {
   "cell_type": "code",
   "execution_count": 2,
   "id": "9186ee13",
   "metadata": {
    "execution": {
     "iopub.execute_input": "2023-12-10T23:39:44.244446Z",
     "iopub.status.busy": "2023-12-10T23:39:44.244069Z",
     "iopub.status.idle": "2023-12-10T23:39:44.247573Z",
     "shell.execute_reply": "2023-12-10T23:39:44.247045Z"
    },
    "papermill": {
     "duration": 0.007424,
     "end_time": "2023-12-10T23:39:44.248832",
     "exception": false,
     "start_time": "2023-12-10T23:39:44.241408",
     "status": "completed"
    },
    "tags": []
   },
   "outputs": [],
   "source": [
    "latest_date = pd.Timestamp.today().ceil('D')"
   ]
  },
  {
   "cell_type": "code",
   "execution_count": 3,
   "id": "8f8b042a",
   "metadata": {
    "execution": {
     "iopub.execute_input": "2023-12-10T23:39:44.253604Z",
     "iopub.status.busy": "2023-12-10T23:39:44.253114Z",
     "iopub.status.idle": "2023-12-10T23:39:44.268315Z",
     "shell.execute_reply": "2023-12-10T23:39:44.267788Z"
    },
    "papermill": {
     "duration": 0.018943,
     "end_time": "2023-12-10T23:39:44.269611",
     "exception": false,
     "start_time": "2023-12-10T23:39:44.250668",
     "status": "completed"
    },
    "tags": []
   },
   "outputs": [],
   "source": [
    "tickets = pd.read_csv('../../../../data/metrics/events/tickets/orders.csv', parse_dates=['created_at', 'event_date'])\n",
    "tickets = tickets[tickets.event_date <= latest_date]"
   ]
  },
  {
   "cell_type": "code",
   "execution_count": 4,
   "id": "105afe95",
   "metadata": {
    "execution": {
     "iopub.execute_input": "2023-12-10T23:39:44.274331Z",
     "iopub.status.busy": "2023-12-10T23:39:44.273864Z",
     "iopub.status.idle": "2023-12-10T23:39:44.325685Z",
     "shell.execute_reply": "2023-12-10T23:39:44.325164Z"
    },
    "papermill": {
     "duration": 0.055605,
     "end_time": "2023-12-10T23:39:44.327086",
     "exception": false,
     "start_time": "2023-12-10T23:39:44.271481",
     "status": "completed"
    },
    "tags": []
   },
   "outputs": [],
   "source": [
    "events = load_event_data()\n",
    "\n",
    "events = pd.concat([\n",
    "  events,\n",
    "  events.pipe(get_first_ward).pipe(normalise_ward).fillna('UNKNOWN'),\n",
    "  pd.Series(\n",
    "      events.actual_audience_size_number_of_participants_in_person + events.actual_audience_size_number_of_participants_online,\n",
    "      name='attendances'\n",
    "  )\n",
    "], axis=1).rename(columns={\n",
    "    'start_date': 'date'\n",
    "}).loc[:, ['ward_code', 'date', 'event_unique_identifier', 'attendances']]"
   ]
  },
  {
   "cell_type": "code",
   "execution_count": 5,
   "id": "8ca08b67",
   "metadata": {
    "execution": {
     "iopub.execute_input": "2023-12-10T23:39:44.331978Z",
     "iopub.status.busy": "2023-12-10T23:39:44.331584Z",
     "iopub.status.idle": "2023-12-10T23:39:44.334729Z",
     "shell.execute_reply": "2023-12-10T23:39:44.334171Z"
    },
    "papermill": {
     "duration": 0.006924,
     "end_time": "2023-12-10T23:39:44.336016",
     "exception": false,
     "start_time": "2023-12-10T23:39:44.329092",
     "status": "completed"
    },
    "tags": []
   },
   "outputs": [],
   "source": [
    "OUTPUT_DIR='../../../../docs/metrics/events/signature/_data/'\n",
    "os.makedirs(OUTPUT_DIR, exist_ok=True)"
   ]
  },
  {
   "cell_type": "markdown",
   "id": "14942f0b",
   "metadata": {
    "papermill": {
     "duration": 0.001927,
     "end_time": "2023-12-10T23:39:44.339808",
     "exception": false,
     "start_time": "2023-12-10T23:39:44.337881",
     "status": "completed"
    },
    "tags": []
   },
   "source": [
    "Events CSVs"
   ]
  },
  {
   "cell_type": "code",
   "execution_count": 6,
   "id": "06ccf572",
   "metadata": {
    "execution": {
     "iopub.execute_input": "2023-12-10T23:39:44.344720Z",
     "iopub.status.busy": "2023-12-10T23:39:44.344305Z",
     "iopub.status.idle": "2023-12-10T23:39:44.350360Z",
     "shell.execute_reply": "2023-12-10T23:39:44.349846Z"
    },
    "papermill": {
     "duration": 0.009945,
     "end_time": "2023-12-10T23:39:44.351704",
     "exception": false,
     "start_time": "2023-12-10T23:39:44.341759",
     "status": "completed"
    },
    "tags": []
   },
   "outputs": [],
   "source": [
    "pd.DataFrame({\n",
    "  'events': events.groupby('ward_code').event_unique_identifier.count(),\n",
    "  'attendances': events.groupby('ward_code').attendances.sum().astype(int),\n",
    "}).to_csv(os.path.join(OUTPUT_DIR, 'events_by_ward.csv'))\n"
   ]
  },
  {
   "cell_type": "code",
   "execution_count": 7,
   "id": "7dbe6dcb",
   "metadata": {
    "execution": {
     "iopub.execute_input": "2023-12-10T23:39:44.356584Z",
     "iopub.status.busy": "2023-12-10T23:39:44.356186Z",
     "iopub.status.idle": "2023-12-10T23:39:44.363566Z",
     "shell.execute_reply": "2023-12-10T23:39:44.363072Z"
    },
    "papermill": {
     "duration": 0.011216,
     "end_time": "2023-12-10T23:39:44.364839",
     "exception": false,
     "start_time": "2023-12-10T23:39:44.353623",
     "status": "completed"
    },
    "tags": []
   },
   "outputs": [],
   "source": [
    "pd.DataFrame({\n",
    "  'events': events.groupby('date').event_unique_identifier.count(),\n",
    "  'attendances': events.groupby('date').attendances.sum().astype(int),\n",
    "}).resample('M').sum().astype(int).to_csv(os.path.join(OUTPUT_DIR, 'events_by_date.csv'))"
   ]
  },
  {
   "cell_type": "markdown",
   "id": "dc866adb",
   "metadata": {
    "papermill": {
     "duration": 0.002609,
     "end_time": "2023-12-10T23:39:44.369408",
     "exception": false,
     "start_time": "2023-12-10T23:39:44.366799",
     "status": "completed"
    },
    "tags": []
   },
   "source": [
    "Tickets CSV"
   ]
  },
  {
   "cell_type": "code",
   "execution_count": 8,
   "id": "714b1f4c",
   "metadata": {
    "execution": {
     "iopub.execute_input": "2023-12-10T23:39:44.374191Z",
     "iopub.status.busy": "2023-12-10T23:39:44.373822Z",
     "iopub.status.idle": "2023-12-10T23:39:44.379955Z",
     "shell.execute_reply": "2023-12-10T23:39:44.379462Z"
    },
    "papermill": {
     "duration": 0.009871,
     "end_time": "2023-12-10T23:39:44.381224",
     "exception": false,
     "start_time": "2023-12-10T23:39:44.371353",
     "status": "completed"
    },
    "tags": []
   },
   "outputs": [],
   "source": [
    "pd.DataFrame({\n",
    "  'orders': tickets.groupby('ward_code').number_of_tickets.count(),\n",
    "  'tickets': tickets.groupby('ward_code').number_of_tickets.sum().astype(int),\n",
    "}).to_csv(os.path.join(OUTPUT_DIR, 'tickets_by_ward.csv'))"
   ]
  },
  {
   "cell_type": "code",
   "execution_count": 9,
   "id": "25a94044",
   "metadata": {
    "execution": {
     "iopub.execute_input": "2023-12-10T23:39:44.386226Z",
     "iopub.status.busy": "2023-12-10T23:39:44.385844Z",
     "iopub.status.idle": "2023-12-10T23:39:44.392355Z",
     "shell.execute_reply": "2023-12-10T23:39:44.391863Z"
    },
    "papermill": {
     "duration": 0.010421,
     "end_time": "2023-12-10T23:39:44.393625",
     "exception": false,
     "start_time": "2023-12-10T23:39:44.383204",
     "status": "completed"
    },
    "tags": []
   },
   "outputs": [],
   "source": [
    "pd.DataFrame({\n",
    "  'orders': tickets.groupby('event_date').number_of_tickets.count(),\n",
    "  'tickets': tickets.groupby('event_date').number_of_tickets.sum().astype(int),\n",
    "}).resample('M').sum().to_csv(os.path.join(OUTPUT_DIR, 'tickets_by_event_date.csv'))"
   ]
  },
  {
   "cell_type": "code",
   "execution_count": 10,
   "id": "74cc7687",
   "metadata": {
    "execution": {
     "iopub.execute_input": "2023-12-10T23:39:44.398765Z",
     "iopub.status.busy": "2023-12-10T23:39:44.398361Z",
     "iopub.status.idle": "2023-12-10T23:39:44.402959Z",
     "shell.execute_reply": "2023-12-10T23:39:44.402429Z"
    },
    "papermill": {
     "duration": 0.008544,
     "end_time": "2023-12-10T23:39:44.404198",
     "exception": false,
     "start_time": "2023-12-10T23:39:44.395654",
     "status": "completed"
    },
    "tags": []
   },
   "outputs": [],
   "source": [
    "pd.Series({\n",
    "    'total_events': events.event_unique_identifier.count(),\n",
    "    'total_attendances': events.attendances.count(),\n",
    "    'first_event': events.date.min(),\n",
    "    'latest_event': events.date.max(),\n",
    "    'total_ticket_orders_for_events_to_date': tickets.number_of_tickets.count(),\n",
    "    'total_tickets_sold_for_events_to_date': tickets.number_of_tickets.sum(),\n",
    "}).to_json(os.path.join(OUTPUT_DIR, 'headlines.json'), indent=2)"
   ]
  },
  {
   "cell_type": "code",
   "execution_count": null,
   "id": "7c1b4e2c",
   "metadata": {
    "papermill": {
     "duration": 0.004811,
     "end_time": "2023-12-10T23:39:44.411042",
     "exception": false,
     "start_time": "2023-12-10T23:39:44.406231",
     "status": "completed"
    },
    "tags": []
   },
   "outputs": [],
   "source": []
  }
 ],
 "metadata": {
  "kernelspec": {
   "display_name": "leeds-2023-YZF5GfJv",
   "language": "python",
   "name": "python3"
  },
  "language_info": {
   "codemirror_mode": {
    "name": "ipython",
    "version": 3
   },
   "file_extension": ".py",
   "mimetype": "text/x-python",
   "name": "python",
   "nbconvert_exporter": "python",
   "pygments_lexer": "ipython3",
   "version": "3.10.13"
  },
  "papermill": {
   "default_parameters": {},
   "duration": 9.011719,
   "end_time": "2023-12-10T23:39:44.728663",
   "environment_variables": {},
   "exception": null,
   "input_path": "prepare.ipynb",
   "output_path": "../../../../working/output/signature-prepare.ipynb",
   "parameters": {},
   "start_time": "2023-12-10T23:39:35.716944",
   "version": "2.4.0"
  }
 },
 "nbformat": 4,
 "nbformat_minor": 5
}