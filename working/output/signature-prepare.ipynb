{
 "cells": [
  {
   "cell_type": "code",
   "execution_count": 1,
   "id": "c0fb9edd",
   "metadata": {
    "execution": {
     "iopub.execute_input": "2024-01-03T23:40:19.270104Z",
     "iopub.status.busy": "2024-01-03T23:40:19.269633Z",
     "iopub.status.idle": "2024-01-03T23:40:26.942289Z",
     "shell.execute_reply": "2024-01-03T23:40:26.941625Z"
    },
    "papermill": {
     "duration": 7.678221,
     "end_time": "2024-01-03T23:40:26.943944",
     "exception": false,
     "start_time": "2024-01-03T23:40:19.265723",
     "status": "completed"
    },
    "tags": []
   },
   "outputs": [],
   "source": [
    "import os\n",
    "import pandas as pd\n",
    "from events import load_event_data, get_first_ward, normalise_ward"
   ]
  },
  {
   "cell_type": "code",
   "execution_count": 2,
   "id": "c720d98c",
   "metadata": {
    "execution": {
     "iopub.execute_input": "2024-01-03T23:40:26.949526Z",
     "iopub.status.busy": "2024-01-03T23:40:26.949060Z",
     "iopub.status.idle": "2024-01-03T23:40:26.952776Z",
     "shell.execute_reply": "2024-01-03T23:40:26.952191Z"
    },
    "papermill": {
     "duration": 0.007839,
     "end_time": "2024-01-03T23:40:26.954129",
     "exception": false,
     "start_time": "2024-01-03T23:40:26.946290",
     "status": "completed"
    },
    "tags": []
   },
   "outputs": [],
   "source": [
    "latest_date = pd.Timestamp.today().ceil('D')"
   ]
  },
  {
   "cell_type": "code",
   "execution_count": 3,
   "id": "c998a0ce",
   "metadata": {
    "execution": {
     "iopub.execute_input": "2024-01-03T23:40:26.959030Z",
     "iopub.status.busy": "2024-01-03T23:40:26.958645Z",
     "iopub.status.idle": "2024-01-03T23:40:26.978183Z",
     "shell.execute_reply": "2024-01-03T23:40:26.977614Z"
    },
    "papermill": {
     "duration": 0.023765,
     "end_time": "2024-01-03T23:40:26.979783",
     "exception": false,
     "start_time": "2024-01-03T23:40:26.956018",
     "status": "completed"
    },
    "tags": []
   },
   "outputs": [],
   "source": [
    "tickets = pd.read_csv('../../../../data/metrics/events/tickets/orders.csv', parse_dates=['created_at', 'event_date'])\n",
    "tickets = tickets[tickets.event_date <= latest_date]"
   ]
  },
  {
   "cell_type": "code",
   "execution_count": 4,
   "id": "e4c4a084",
   "metadata": {
    "execution": {
     "iopub.execute_input": "2024-01-03T23:40:26.984953Z",
     "iopub.status.busy": "2024-01-03T23:40:26.984567Z",
     "iopub.status.idle": "2024-01-03T23:40:27.040780Z",
     "shell.execute_reply": "2024-01-03T23:40:27.040133Z"
    },
    "papermill": {
     "duration": 0.060569,
     "end_time": "2024-01-03T23:40:27.042433",
     "exception": false,
     "start_time": "2024-01-03T23:40:26.981864",
     "status": "completed"
    },
    "tags": []
   },
   "outputs": [],
   "source": [
    "events = load_event_data()\n",
    "\n",
    "events = pd.concat([\n",
    "  events,\n",
    "  events.pipe(get_first_ward).pipe(normalise_ward).fillna('UNKNOWN'),\n",
    "  pd.Series(\n",
    "      events.actual_audience_size_number_of_participants_in_person + events.actual_audience_size_number_of_participants_online,\n",
    "      name='attendances'\n",
    "  )\n",
    "], axis=1).rename(columns={\n",
    "    'start_date': 'date'\n",
    "}).loc[:, ['ward_code', 'date', 'event_unique_identifier', 'attendances']]"
   ]
  },
  {
   "cell_type": "code",
   "execution_count": 5,
   "id": "535de6fd",
   "metadata": {
    "execution": {
     "iopub.execute_input": "2024-01-03T23:40:27.047720Z",
     "iopub.status.busy": "2024-01-03T23:40:27.047255Z",
     "iopub.status.idle": "2024-01-03T23:40:27.050616Z",
     "shell.execute_reply": "2024-01-03T23:40:27.049999Z"
    },
    "papermill": {
     "duration": 0.007372,
     "end_time": "2024-01-03T23:40:27.051913",
     "exception": false,
     "start_time": "2024-01-03T23:40:27.044541",
     "status": "completed"
    },
    "tags": []
   },
   "outputs": [],
   "source": [
    "OUTPUT_DIR='../../../../docs/metrics/events/signature/_data/'\n",
    "os.makedirs(OUTPUT_DIR, exist_ok=True)"
   ]
  },
  {
   "cell_type": "markdown",
   "id": "97a86b7c",
   "metadata": {
    "papermill": {
     "duration": 0.001964,
     "end_time": "2024-01-03T23:40:27.055950",
     "exception": false,
     "start_time": "2024-01-03T23:40:27.053986",
     "status": "completed"
    },
    "tags": []
   },
   "source": [
    "Events CSVs"
   ]
  },
  {
   "cell_type": "code",
   "execution_count": 6,
   "id": "64d9c94f",
   "metadata": {
    "execution": {
     "iopub.execute_input": "2024-01-03T23:40:27.060851Z",
     "iopub.status.busy": "2024-01-03T23:40:27.060453Z",
     "iopub.status.idle": "2024-01-03T23:40:27.066739Z",
     "shell.execute_reply": "2024-01-03T23:40:27.066231Z"
    },
    "papermill": {
     "duration": 0.010206,
     "end_time": "2024-01-03T23:40:27.068031",
     "exception": false,
     "start_time": "2024-01-03T23:40:27.057825",
     "status": "completed"
    },
    "tags": []
   },
   "outputs": [],
   "source": [
    "pd.DataFrame({\n",
    "  'events': events.groupby('ward_code').event_unique_identifier.count(),\n",
    "  'attendances': events.groupby('ward_code').attendances.sum().astype(int),\n",
    "}).to_csv(os.path.join(OUTPUT_DIR, 'events_by_ward.csv'))\n"
   ]
  },
  {
   "cell_type": "code",
   "execution_count": 7,
   "id": "a62602eb",
   "metadata": {
    "execution": {
     "iopub.execute_input": "2024-01-03T23:40:27.073163Z",
     "iopub.status.busy": "2024-01-03T23:40:27.072698Z",
     "iopub.status.idle": "2024-01-03T23:40:27.080922Z",
     "shell.execute_reply": "2024-01-03T23:40:27.080272Z"
    },
    "papermill": {
     "duration": 0.012345,
     "end_time": "2024-01-03T23:40:27.082353",
     "exception": false,
     "start_time": "2024-01-03T23:40:27.070008",
     "status": "completed"
    },
    "tags": []
   },
   "outputs": [],
   "source": [
    "pd.DataFrame({\n",
    "  'events': events.groupby('date').event_unique_identifier.count(),\n",
    "  'attendances': events.groupby('date').attendances.sum().astype(int),\n",
    "}).resample('M').sum().astype(int).to_csv(os.path.join(OUTPUT_DIR, 'events_by_date.csv'))"
   ]
  },
  {
   "cell_type": "markdown",
   "id": "a2b947ca",
   "metadata": {
    "papermill": {
     "duration": 0.00274,
     "end_time": "2024-01-03T23:40:27.087168",
     "exception": false,
     "start_time": "2024-01-03T23:40:27.084428",
     "status": "completed"
    },
    "tags": []
   },
   "source": [
    "Tickets CSV"
   ]
  },
  {
   "cell_type": "code",
   "execution_count": 8,
   "id": "62dc5d76",
   "metadata": {
    "execution": {
     "iopub.execute_input": "2024-01-03T23:40:27.092283Z",
     "iopub.status.busy": "2024-01-03T23:40:27.091870Z",
     "iopub.status.idle": "2024-01-03T23:40:27.098877Z",
     "shell.execute_reply": "2024-01-03T23:40:27.098356Z"
    },
    "papermill": {
     "duration": 0.011013,
     "end_time": "2024-01-03T23:40:27.100155",
     "exception": false,
     "start_time": "2024-01-03T23:40:27.089142",
     "status": "completed"
    },
    "tags": []
   },
   "outputs": [],
   "source": [
    "pd.DataFrame({\n",
    "  'orders': tickets.groupby('ward_code').number_of_tickets.count(),\n",
    "  'tickets': tickets.groupby('ward_code').number_of_tickets.sum().astype(int),\n",
    "}).to_csv(os.path.join(OUTPUT_DIR, 'tickets_by_ward.csv'))"
   ]
  },
  {
   "cell_type": "code",
   "execution_count": 9,
   "id": "e00b6854",
   "metadata": {
    "execution": {
     "iopub.execute_input": "2024-01-03T23:40:27.105222Z",
     "iopub.status.busy": "2024-01-03T23:40:27.105012Z",
     "iopub.status.idle": "2024-01-03T23:40:27.112468Z",
     "shell.execute_reply": "2024-01-03T23:40:27.111831Z"
    },
    "papermill": {
     "duration": 0.011513,
     "end_time": "2024-01-03T23:40:27.113751",
     "exception": false,
     "start_time": "2024-01-03T23:40:27.102238",
     "status": "completed"
    },
    "tags": []
   },
   "outputs": [],
   "source": [
    "pd.DataFrame({\n",
    "  'orders': tickets.groupby('event_date').number_of_tickets.count(),\n",
    "  'tickets': tickets.groupby('event_date').number_of_tickets.sum().astype(int),\n",
    "}).resample('M').sum().to_csv(os.path.join(OUTPUT_DIR, 'tickets_by_event_date.csv'))"
   ]
  },
  {
   "cell_type": "code",
   "execution_count": 10,
   "id": "21180782",
   "metadata": {
    "execution": {
     "iopub.execute_input": "2024-01-03T23:40:27.118851Z",
     "iopub.status.busy": "2024-01-03T23:40:27.118608Z",
     "iopub.status.idle": "2024-01-03T23:40:27.123784Z",
     "shell.execute_reply": "2024-01-03T23:40:27.123245Z"
    },
    "papermill": {
     "duration": 0.009318,
     "end_time": "2024-01-03T23:40:27.125108",
     "exception": false,
     "start_time": "2024-01-03T23:40:27.115790",
     "status": "completed"
    },
    "tags": []
   },
   "outputs": [],
   "source": [
    "pd.Series({\n",
    "    'total_events': events.event_unique_identifier.count(),\n",
    "    'total_attendances': events.attendances.count(),\n",
    "    'first_event': events.date.min(),\n",
    "    'latest_event': events.date.max(),\n",
    "    'total_ticket_orders_for_events_to_date': tickets.number_of_tickets.count(),\n",
    "    'total_tickets_sold_for_events_to_date': tickets.number_of_tickets.sum(),\n",
    "}).to_json(os.path.join(OUTPUT_DIR, 'headlines.json'), indent=2)"
   ]
  },
  {
   "cell_type": "code",
   "execution_count": null,
   "id": "176b649b",
   "metadata": {
    "papermill": {
     "duration": 0.002023,
     "end_time": "2024-01-03T23:40:27.129162",
     "exception": false,
     "start_time": "2024-01-03T23:40:27.127139",
     "status": "completed"
    },
    "tags": []
   },
   "outputs": [],
   "source": []
  }
 ],
 "metadata": {
  "kernelspec": {
   "display_name": "leeds-2023-YZF5GfJv",
   "language": "python",
   "name": "python3"
  },
  "language_info": {
   "codemirror_mode": {
    "name": "ipython",
    "version": 3
   },
   "file_extension": ".py",
   "mimetype": "text/x-python",
   "name": "python",
   "nbconvert_exporter": "python",
   "pygments_lexer": "ipython3",
   "version": "3.10.13"
  },
  "papermill": {
   "default_parameters": {},
   "duration": 9.433765,
   "end_time": "2024-01-03T23:40:27.447164",
   "environment_variables": {},
   "exception": null,
   "input_path": "prepare.ipynb",
   "output_path": "../../../../working/output/signature-prepare.ipynb",
   "parameters": {},
   "start_time": "2024-01-03T23:40:18.013399",
   "version": "2.4.0"
  }
 },
 "nbformat": 4,
 "nbformat_minor": 5
}