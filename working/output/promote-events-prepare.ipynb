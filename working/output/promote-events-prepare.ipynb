{
 "cells": [
  {
   "cell_type": "code",
   "execution_count": 1,
   "id": "363d0c99",
   "metadata": {
    "execution": {
     "iopub.execute_input": "2023-12-11T23:41:22.273320Z",
     "iopub.status.busy": "2023-12-11T23:41:22.273001Z",
     "iopub.status.idle": "2023-12-11T23:41:22.522058Z",
     "shell.execute_reply": "2023-12-11T23:41:22.521464Z"
    },
    "papermill": {
     "duration": 0.253948,
     "end_time": "2023-12-11T23:41:22.523706",
     "exception": false,
     "start_time": "2023-12-11T23:41:22.269758",
     "status": "completed"
    },
    "tags": []
   },
   "outputs": [],
   "source": [
    "import os\n",
    "import pandas as pd"
   ]
  },
  {
   "cell_type": "code",
   "execution_count": 2,
   "id": "f3c3c3a0",
   "metadata": {
    "execution": {
     "iopub.execute_input": "2023-12-11T23:41:22.528282Z",
     "iopub.status.busy": "2023-12-11T23:41:22.527797Z",
     "iopub.status.idle": "2023-12-11T23:41:22.531253Z",
     "shell.execute_reply": "2023-12-11T23:41:22.530713Z"
    },
    "papermill": {
     "duration": 0.007008,
     "end_time": "2023-12-11T23:41:22.532559",
     "exception": false,
     "start_time": "2023-12-11T23:41:22.525551",
     "status": "completed"
    },
    "tags": []
   },
   "outputs": [],
   "source": [
    "DATA_DIR='../../../docs/metrics/events/promote/_data/'\n",
    "os.makedirs(DATA_DIR, exist_ok=True)"
   ]
  },
  {
   "cell_type": "code",
   "execution_count": 3,
   "id": "041b769d",
   "metadata": {
    "execution": {
     "iopub.execute_input": "2023-12-11T23:41:22.536779Z",
     "iopub.status.busy": "2023-12-11T23:41:22.536274Z",
     "iopub.status.idle": "2023-12-11T23:41:22.544213Z",
     "shell.execute_reply": "2023-12-11T23:41:22.543591Z"
    },
    "papermill": {
     "duration": 0.011825,
     "end_time": "2023-12-11T23:41:22.545902",
     "exception": false,
     "start_time": "2023-12-11T23:41:22.534077",
     "status": "completed"
    },
    "tags": []
   },
   "outputs": [],
   "source": [
    "data = pd.read_csv('../../../data/metrics/events/promote-events/events.csv', parse_dates=['time'])"
   ]
  },
  {
   "cell_type": "code",
   "execution_count": 4,
   "id": "3ce68cc7",
   "metadata": {
    "execution": {
     "iopub.execute_input": "2023-12-11T23:41:22.550049Z",
     "iopub.status.busy": "2023-12-11T23:41:22.549666Z",
     "iopub.status.idle": "2023-12-11T23:41:22.554653Z",
     "shell.execute_reply": "2023-12-11T23:41:22.554118Z"
    },
    "papermill": {
     "duration": 0.008426,
     "end_time": "2023-12-11T23:41:22.555943",
     "exception": false,
     "start_time": "2023-12-11T23:41:22.547517",
     "status": "completed"
    },
    "tags": []
   },
   "outputs": [],
   "source": [
    "pd.Series({\n",
    "    'total_events': len(data.id.unique()),\n",
    "    'total_event_instances': len(data.time),\n",
    "    'earliest_event': data.time.min(),\n",
    "    'latest_event': data.time.max(),\n",
    "}).to_json(\n",
    "    os.path.join(DATA_DIR, 'headlines.json'),\n",
    "    date_format='iso', indent=2\n",
    ")"
   ]
  },
  {
   "cell_type": "code",
   "execution_count": 5,
   "id": "2d562dfe",
   "metadata": {
    "execution": {
     "iopub.execute_input": "2023-12-11T23:41:22.560034Z",
     "iopub.status.busy": "2023-12-11T23:41:22.559666Z",
     "iopub.status.idle": "2023-12-11T23:41:22.567080Z",
     "shell.execute_reply": "2023-12-11T23:41:22.566495Z"
    },
    "papermill": {
     "duration": 0.010849,
     "end_time": "2023-12-11T23:41:22.568381",
     "exception": false,
     "start_time": "2023-12-11T23:41:22.557532",
     "status": "completed"
    },
    "tags": []
   },
   "outputs": [],
   "source": [
    "events = pd.DataFrame({\n",
    "    'events': data.groupby('id').agg({ 'time': 'min' }).reset_index().groupby('time').id.count(),\n",
    "    'event_instances': data.groupby('time').id.count(),\n",
    "}).fillna(0).astype(int)"
   ]
  },
  {
   "cell_type": "code",
   "execution_count": 6,
   "id": "b9e1f9cb",
   "metadata": {
    "execution": {
     "iopub.execute_input": "2023-12-11T23:41:22.572796Z",
     "iopub.status.busy": "2023-12-11T23:41:22.572213Z",
     "iopub.status.idle": "2023-12-11T23:41:22.575788Z",
     "shell.execute_reply": "2023-12-11T23:41:22.575161Z"
    },
    "papermill": {
     "duration": 0.007041,
     "end_time": "2023-12-11T23:41:22.577016",
     "exception": false,
     "start_time": "2023-12-11T23:41:22.569975",
     "status": "completed"
    },
    "tags": []
   },
   "outputs": [],
   "source": [
    "def cumulate(data):\n",
    "    return pd.concat([\n",
    "        data,\n",
    "        data.cumsum().rename(columns=lambda c: f'cumulative_{c}')\n",
    "    ], axis=1)"
   ]
  },
  {
   "cell_type": "code",
   "execution_count": 7,
   "id": "9c0cde3d",
   "metadata": {
    "execution": {
     "iopub.execute_input": "2023-12-11T23:41:22.581266Z",
     "iopub.status.busy": "2023-12-11T23:41:22.580869Z",
     "iopub.status.idle": "2023-12-11T23:41:22.589091Z",
     "shell.execute_reply": "2023-12-11T23:41:22.588567Z"
    },
    "papermill": {
     "duration": 0.011755,
     "end_time": "2023-12-11T23:41:22.590367",
     "exception": false,
     "start_time": "2023-12-11T23:41:22.578612",
     "status": "completed"
    },
    "tags": []
   },
   "outputs": [],
   "source": [
    "events.resample('W-FRI').sum().pipe(cumulate).to_csv(os.path.join(DATA_DIR, 'by_week.csv'))"
   ]
  },
  {
   "cell_type": "code",
   "execution_count": 8,
   "id": "7e0b0de2",
   "metadata": {
    "execution": {
     "iopub.execute_input": "2023-12-11T23:41:22.594600Z",
     "iopub.status.busy": "2023-12-11T23:41:22.594232Z",
     "iopub.status.idle": "2023-12-11T23:41:22.599639Z",
     "shell.execute_reply": "2023-12-11T23:41:22.599015Z"
    },
    "papermill": {
     "duration": 0.009129,
     "end_time": "2023-12-11T23:41:22.601115",
     "exception": false,
     "start_time": "2023-12-11T23:41:22.591986",
     "status": "completed"
    },
    "tags": []
   },
   "outputs": [],
   "source": [
    "events.resample('MS').sum().pipe(cumulate).to_csv(os.path.join(DATA_DIR, 'by_month.csv'))"
   ]
  },
  {
   "cell_type": "code",
   "execution_count": null,
   "id": "21ec5b4f",
   "metadata": {
    "papermill": {
     "duration": 0.001585,
     "end_time": "2023-12-11T23:41:22.604332",
     "exception": false,
     "start_time": "2023-12-11T23:41:22.602747",
     "status": "completed"
    },
    "tags": []
   },
   "outputs": [],
   "source": []
  }
 ],
 "metadata": {
  "kernelspec": {
   "display_name": "leeds-2023-YZF5GfJv",
   "language": "python",
   "name": "python3"
  },
  "language_info": {
   "codemirror_mode": {
    "name": "ipython",
    "version": 3
   },
   "file_extension": ".py",
   "mimetype": "text/x-python",
   "name": "python",
   "nbconvert_exporter": "python",
   "pygments_lexer": "ipython3",
   "version": "3.10.13"
  },
  "papermill": {
   "default_parameters": {},
   "duration": 1.802718,
   "end_time": "2023-12-11T23:41:22.822045",
   "environment_variables": {},
   "exception": null,
   "input_path": "prepare.ipynb",
   "output_path": "../../../working/output/promote-events-prepare.ipynb",
   "parameters": {},
   "start_time": "2023-12-11T23:41:21.019327",
   "version": "2.4.0"
  }
 },
 "nbformat": 4,
 "nbformat_minor": 5
}