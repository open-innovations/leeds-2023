{
 "cells": [
  {
   "cell_type": "code",
   "execution_count": 1,
   "id": "7f946f3a",
   "metadata": {
    "execution": {
     "iopub.execute_input": "2023-08-26T23:37:16.661578Z",
     "iopub.status.busy": "2023-08-26T23:37:16.661002Z",
     "iopub.status.idle": "2023-08-26T23:37:16.899171Z",
     "shell.execute_reply": "2023-08-26T23:37:16.898144Z"
    },
    "papermill": {
     "duration": 0.244942,
     "end_time": "2023-08-26T23:37:16.901186",
     "exception": false,
     "start_time": "2023-08-26T23:37:16.656244",
     "status": "completed"
    },
    "tags": []
   },
   "outputs": [],
   "source": [
    "import os\n",
    "import sys\n",
    "import pandas as pd\n",
    "lib_dir = os.path.realpath('../../../lib/')\n",
    "if lib_dir not in sys.path: sys.path.append(lib_dir)"
   ]
  },
  {
   "cell_type": "code",
   "execution_count": 2,
   "id": "376abd51",
   "metadata": {
    "execution": {
     "iopub.execute_input": "2023-08-26T23:37:16.907878Z",
     "iopub.status.busy": "2023-08-26T23:37:16.907227Z",
     "iopub.status.idle": "2023-08-26T23:37:25.961497Z",
     "shell.execute_reply": "2023-08-26T23:37:25.960411Z"
    },
    "papermill": {
     "duration": 9.059668,
     "end_time": "2023-08-26T23:37:25.963567",
     "exception": false,
     "start_time": "2023-08-26T23:37:16.903899",
     "status": "completed"
    },
    "tags": []
   },
   "outputs": [],
   "source": [
    "import util.geo"
   ]
  },
  {
   "cell_type": "code",
   "execution_count": 3,
   "id": "0329c127",
   "metadata": {
    "execution": {
     "iopub.execute_input": "2023-08-26T23:37:25.970267Z",
     "iopub.status.busy": "2023-08-26T23:37:25.969708Z",
     "iopub.status.idle": "2023-08-26T23:37:25.973019Z",
     "shell.execute_reply": "2023-08-26T23:37:25.972434Z"
    },
    "papermill": {
     "duration": 0.00828,
     "end_time": "2023-08-26T23:37:25.974503",
     "exception": false,
     "start_time": "2023-08-26T23:37:25.966223",
     "status": "completed"
    },
    "tags": []
   },
   "outputs": [],
   "source": [
    "EVENTS_RAW_DATA = '../../../working/metrics/partner-events/events.csv'\n",
    "DATA_DIR = '../../../data/metrics/events/partner-events/'\n",
    "EVENTS_DATA = os.path.join(DATA_DIR, 'events.csv')"
   ]
  },
  {
   "cell_type": "code",
   "execution_count": 4,
   "id": "4b4dc09d",
   "metadata": {
    "execution": {
     "iopub.execute_input": "2023-08-26T23:37:25.980204Z",
     "iopub.status.busy": "2023-08-26T23:37:25.979676Z",
     "iopub.status.idle": "2023-08-26T23:37:25.983158Z",
     "shell.execute_reply": "2023-08-26T23:37:25.982577Z"
    },
    "papermill": {
     "duration": 0.007791,
     "end_time": "2023-08-26T23:37:25.984529",
     "exception": false,
     "start_time": "2023-08-26T23:37:25.976738",
     "status": "completed"
    },
    "tags": []
   },
   "outputs": [],
   "source": [
    "columns = {\n",
    "    'Event Name': 'name',\n",
    "    'Event Start Date': 'start_date',\n",
    "    'Event End Date': 'end_date',\n",
    "    'Partner/Promote': 'partner_promote',\n",
    "    'Stage': 'stage',\n",
    "    'Live date': 'live_date',\n",
    "    'Venue postcode': 'postcode',\n",
    "    'Pricing Policy': 'pricing',\n",
    "    'Venue - including address': 'venue',\n",
    "    'Is this event on Leeds Inspried?': 'on_leeds_inspired',\n",
    "}"
   ]
  },
  {
   "cell_type": "markdown",
   "id": "941edb37",
   "metadata": {
    "papermill": {
     "duration": 0.002291,
     "end_time": "2023-08-26T23:37:25.989071",
     "exception": false,
     "start_time": "2023-08-26T23:37:25.986780",
     "status": "completed"
    },
    "tags": []
   },
   "source": [
    "Load the data and rename columns. Parse the dates to dates."
   ]
  },
  {
   "cell_type": "code",
   "execution_count": 5,
   "id": "10b9d6d9",
   "metadata": {
    "execution": {
     "iopub.execute_input": "2023-08-26T23:37:25.994607Z",
     "iopub.status.busy": "2023-08-26T23:37:25.994220Z",
     "iopub.status.idle": "2023-08-26T23:37:26.004767Z",
     "shell.execute_reply": "2023-08-26T23:37:26.004230Z"
    },
    "papermill": {
     "duration": 0.014984,
     "end_time": "2023-08-26T23:37:26.006309",
     "exception": false,
     "start_time": "2023-08-26T23:37:25.991325",
     "status": "completed"
    },
    "tags": []
   },
   "outputs": [],
   "source": [
    "data = pd.read_csv(EVENTS_RAW_DATA)[columns.keys()].rename(columns=columns)\n",
    "data.start_date = pd.to_datetime(data.start_date, errors='coerce')\n",
    "data.end_date = pd.to_datetime(data.end_date, errors='coerce')"
   ]
  },
  {
   "cell_type": "markdown",
   "id": "b6033577",
   "metadata": {
    "papermill": {
     "duration": 0.002259,
     "end_time": "2023-08-26T23:37:26.010880",
     "exception": false,
     "start_time": "2023-08-26T23:37:26.008621",
     "status": "completed"
    },
    "tags": []
   },
   "source": [
    "Filter data by not LI Pull through and start date before now"
   ]
  },
  {
   "cell_type": "code",
   "execution_count": 6,
   "id": "87bd6038",
   "metadata": {
    "execution": {
     "iopub.execute_input": "2023-08-26T23:37:26.016732Z",
     "iopub.status.busy": "2023-08-26T23:37:26.016212Z",
     "iopub.status.idle": "2023-08-26T23:37:26.021957Z",
     "shell.execute_reply": "2023-08-26T23:37:26.021411Z"
    },
    "papermill": {
     "duration": 0.010296,
     "end_time": "2023-08-26T23:37:26.023504",
     "exception": false,
     "start_time": "2023-08-26T23:37:26.013208",
     "status": "completed"
    },
    "tags": []
   },
   "outputs": [],
   "source": [
    "data = data[\n",
    "    # (data.live_date == 'This event is live ') &\n",
    "    ((data.stage != 'LI pull through') & data.stage.notna()) &\n",
    "    (data.start_date < pd.Timestamp.now())\n",
    "]"
   ]
  },
  {
   "cell_type": "code",
   "execution_count": 7,
   "id": "8238527f",
   "metadata": {
    "execution": {
     "iopub.execute_input": "2023-08-26T23:37:26.029376Z",
     "iopub.status.busy": "2023-08-26T23:37:26.028959Z",
     "iopub.status.idle": "2023-08-26T23:37:27.199600Z",
     "shell.execute_reply": "2023-08-26T23:37:27.198901Z"
    },
    "papermill": {
     "duration": 1.17586,
     "end_time": "2023-08-26T23:37:27.201682",
     "exception": false,
     "start_time": "2023-08-26T23:37:26.025822",
     "status": "completed"
    },
    "tags": []
   },
   "outputs": [],
   "source": [
    "data['ward_code'] = data.postcode.pipe(util.geo.postcode_formatter).map(util.geo.postcode_to_ward_code)\n",
    "data['ward_name'] = data.ward_code.pipe(util.geo.ward_code_to_name)"
   ]
  },
  {
   "cell_type": "markdown",
   "id": "e76a4c57",
   "metadata": {
    "papermill": {
     "duration": 0.003818,
     "end_time": "2023-08-26T23:37:27.208539",
     "exception": false,
     "start_time": "2023-08-26T23:37:27.204721",
     "status": "completed"
    },
    "tags": []
   },
   "source": [
    "Save the file"
   ]
  },
  {
   "cell_type": "code",
   "execution_count": 8,
   "id": "a2c63354",
   "metadata": {
    "execution": {
     "iopub.execute_input": "2023-08-26T23:37:27.214661Z",
     "iopub.status.busy": "2023-08-26T23:37:27.214230Z",
     "iopub.status.idle": "2023-08-26T23:37:27.221111Z",
     "shell.execute_reply": "2023-08-26T23:37:27.219952Z"
    },
    "papermill": {
     "duration": 0.011634,
     "end_time": "2023-08-26T23:37:27.222573",
     "exception": false,
     "start_time": "2023-08-26T23:37:27.210939",
     "status": "completed"
    },
    "tags": []
   },
   "outputs": [],
   "source": [
    "data[\n",
    "    ['name','start_date','end_date','ward_code']\n",
    "].to_csv(EVENTS_DATA, index=False)"
   ]
  },
  {
   "cell_type": "markdown",
   "id": "ab5e76cf",
   "metadata": {
    "papermill": {
     "duration": 0.002369,
     "end_time": "2023-08-26T23:37:27.227331",
     "exception": false,
     "start_time": "2023-08-26T23:37:27.224962",
     "status": "completed"
    },
    "tags": []
   },
   "source": [
    "Print out missing postcode data"
   ]
  },
  {
   "cell_type": "code",
   "execution_count": 9,
   "id": "18df9857",
   "metadata": {
    "execution": {
     "iopub.execute_input": "2023-08-26T23:37:27.233452Z",
     "iopub.status.busy": "2023-08-26T23:37:27.233030Z",
     "iopub.status.idle": "2023-08-26T23:37:27.245638Z",
     "shell.execute_reply": "2023-08-26T23:37:27.244991Z"
    },
    "papermill": {
     "duration": 0.017617,
     "end_time": "2023-08-26T23:37:27.247377",
     "exception": false,
     "start_time": "2023-08-26T23:37:27.229760",
     "status": "completed"
    },
    "tags": []
   },
   "outputs": [
    {
     "data": {
      "text/html": [
       "<div>\n",
       "<style scoped>\n",
       "    .dataframe tbody tr th:only-of-type {\n",
       "        vertical-align: middle;\n",
       "    }\n",
       "\n",
       "    .dataframe tbody tr th {\n",
       "        vertical-align: top;\n",
       "    }\n",
       "\n",
       "    .dataframe thead th {\n",
       "        text-align: right;\n",
       "    }\n",
       "</style>\n",
       "<table border=\"1\" class=\"dataframe\">\n",
       "  <thead>\n",
       "    <tr style=\"text-align: right;\">\n",
       "      <th></th>\n",
       "      <th>name</th>\n",
       "      <th>start_date</th>\n",
       "    </tr>\n",
       "  </thead>\n",
       "  <tbody>\n",
       "    <tr>\n",
       "      <th>1</th>\n",
       "      <td>East Street Arts, A City Less Grey 2022</td>\n",
       "      <td>2022-10-08</td>\n",
       "    </tr>\n",
       "    <tr>\n",
       "      <th>3</th>\n",
       "      <td>Phoenix Dance Theatre Virtual Gallery</td>\n",
       "      <td>2023-01-01</td>\n",
       "    </tr>\n",
       "    <tr>\n",
       "      <th>4</th>\n",
       "      <td>The Big Art Giveaway, School of Creative Arts ...</td>\n",
       "      <td>2023-01-01</td>\n",
       "    </tr>\n",
       "    <tr>\n",
       "      <th>5</th>\n",
       "      <td>Embassy of Netherlands, Meet Leeds Lab</td>\n",
       "      <td>2023-01-16</td>\n",
       "    </tr>\n",
       "    <tr>\n",
       "      <th>6</th>\n",
       "      <td>Shifting Borders: A Journey to the Centre of o...</td>\n",
       "      <td>2023-01-24</td>\n",
       "    </tr>\n",
       "    <tr>\n",
       "      <th>11</th>\n",
       "      <td>Leeds Lit Fest 2023</td>\n",
       "      <td>2023-02-25</td>\n",
       "    </tr>\n",
       "    <tr>\n",
       "      <th>25</th>\n",
       "      <td>East Street Arts, Add Fuel</td>\n",
       "      <td>2023-04-01</td>\n",
       "    </tr>\n",
       "    <tr>\n",
       "      <th>42</th>\n",
       "      <td>Jamica Society Leeds, Out of Many Festival - T...</td>\n",
       "      <td>2023-05-01</td>\n",
       "    </tr>\n",
       "    <tr>\n",
       "      <th>43</th>\n",
       "      <td>Sayang, Si Polan - International residency in ...</td>\n",
       "      <td>2023-05-01</td>\n",
       "    </tr>\n",
       "    <tr>\n",
       "      <th>62</th>\n",
       "      <td>Leeds Jazz Festival 2023</td>\n",
       "      <td>2023-05-25</td>\n",
       "    </tr>\n",
       "    <tr>\n",
       "      <th>78</th>\n",
       "      <td>Keira Martin, Queenie and the Pooka (Performan...</td>\n",
       "      <td>2023-06-05</td>\n",
       "    </tr>\n",
       "    <tr>\n",
       "      <th>79</th>\n",
       "      <td>My LEEDS Summer: Kirkstall Makes + Moves</td>\n",
       "      <td>2023-06-11</td>\n",
       "    </tr>\n",
       "    <tr>\n",
       "      <th>82</th>\n",
       "      <td>My LEEDS Summer at Hunslet Festival</td>\n",
       "      <td>2023-06-17</td>\n",
       "    </tr>\n",
       "    <tr>\n",
       "      <th>83</th>\n",
       "      <td>My LEEDS Summer: Roundhay World Music &amp; Food Fest</td>\n",
       "      <td>2023-06-17</td>\n",
       "    </tr>\n",
       "    <tr>\n",
       "      <th>91</th>\n",
       "      <td>My LEEDS Summer: Beeston Festival</td>\n",
       "      <td>2023-06-24</td>\n",
       "    </tr>\n",
       "    <tr>\n",
       "      <th>92</th>\n",
       "      <td>My LEEDS Summer: Crossgates and Whinmoor - Pas...</td>\n",
       "      <td>2023-06-24</td>\n",
       "    </tr>\n",
       "    <tr>\n",
       "      <th>93</th>\n",
       "      <td>My LEEDS Summer: Picnic in the Park</td>\n",
       "      <td>2023-06-24</td>\n",
       "    </tr>\n",
       "    <tr>\n",
       "      <th>96</th>\n",
       "      <td>Becoming the Brontës</td>\n",
       "      <td>2023-06-29</td>\n",
       "    </tr>\n",
       "    <tr>\n",
       "      <th>102</th>\n",
       "      <td>My LEEDS Summer: Wetherby Drovers Day</td>\n",
       "      <td>2023-07-01</td>\n",
       "    </tr>\n",
       "    <tr>\n",
       "      <th>103</th>\n",
       "      <td>My Leeds Summer : Walk of Art</td>\n",
       "      <td>2023-07-01</td>\n",
       "    </tr>\n",
       "    <tr>\n",
       "      <th>106</th>\n",
       "      <td>My LEEDS Summer: The Feast</td>\n",
       "      <td>2023-07-02</td>\n",
       "    </tr>\n",
       "    <tr>\n",
       "      <th>107</th>\n",
       "      <td>My LEEDS summer: Celebration Day</td>\n",
       "      <td>2023-07-02</td>\n",
       "    </tr>\n",
       "    <tr>\n",
       "      <th>115</th>\n",
       "      <td>My LEEDS Summer : Wonderful Workshops and Cele...</td>\n",
       "      <td>2023-07-06</td>\n",
       "    </tr>\n",
       "    <tr>\n",
       "      <th>122</th>\n",
       "      <td>My LEEDS Summer: The Gipton and Harehills Crea...</td>\n",
       "      <td>2023-07-08</td>\n",
       "    </tr>\n",
       "    <tr>\n",
       "      <th>124</th>\n",
       "      <td>My LEEDS Summer: Ardsley &amp; Robin Hood: Celebra...</td>\n",
       "      <td>2023-07-09</td>\n",
       "    </tr>\n",
       "    <tr>\n",
       "      <th>126</th>\n",
       "      <td>My LEEDS Summer: The Big Summer Picnic</td>\n",
       "      <td>2023-07-09</td>\n",
       "    </tr>\n",
       "    <tr>\n",
       "      <th>129</th>\n",
       "      <td>My LEEDS Summer: Ralph Thoresby Summer Festival</td>\n",
       "      <td>2023-07-15</td>\n",
       "    </tr>\n",
       "    <tr>\n",
       "      <th>131</th>\n",
       "      <td>My LEEDS Summer: Fuse Festival</td>\n",
       "      <td>2023-07-17</td>\n",
       "    </tr>\n",
       "    <tr>\n",
       "      <th>133</th>\n",
       "      <td>Community Training Programme</td>\n",
       "      <td>2023-07-20</td>\n",
       "    </tr>\n",
       "    <tr>\n",
       "      <th>135</th>\n",
       "      <td>My LEEDS Summer: Festival of Culture</td>\n",
       "      <td>2023-07-22</td>\n",
       "    </tr>\n",
       "    <tr>\n",
       "      <th>136</th>\n",
       "      <td>My LEEDS Summer: Kippax and Methley Culture Trail</td>\n",
       "      <td>2023-07-22</td>\n",
       "    </tr>\n",
       "    <tr>\n",
       "      <th>137</th>\n",
       "      <td>My LEEDS Summer: Farnley and Wortley gives it ...</td>\n",
       "      <td>2023-07-23</td>\n",
       "    </tr>\n",
       "    <tr>\n",
       "      <th>138</th>\n",
       "      <td>My LEEDS Summer: Garforth and Swillington's Cr...</td>\n",
       "      <td>2023-07-23</td>\n",
       "    </tr>\n",
       "    <tr>\n",
       "      <th>139</th>\n",
       "      <td>My LEEDS Summer: Morley Make Together</td>\n",
       "      <td>2023-07-23</td>\n",
       "    </tr>\n",
       "    <tr>\n",
       "      <th>140</th>\n",
       "      <td>Gracefool Collective, Kick Off 2023</td>\n",
       "      <td>2023-07-27</td>\n",
       "    </tr>\n",
       "    <tr>\n",
       "      <th>144</th>\n",
       "      <td>My LEEDS Summer: Picture Palace in the Park</td>\n",
       "      <td>2023-07-29</td>\n",
       "    </tr>\n",
       "    <tr>\n",
       "      <th>148</th>\n",
       "      <td>My LEEDS Summer: Cultural Bloom</td>\n",
       "      <td>2023-08-05</td>\n",
       "    </tr>\n",
       "    <tr>\n",
       "      <th>149</th>\n",
       "      <td>My Leeds Summer: Armley Extravaganza</td>\n",
       "      <td>2023-08-05</td>\n",
       "    </tr>\n",
       "    <tr>\n",
       "      <th>150</th>\n",
       "      <td>My Leeds Summer: Music, Moves and Makes</td>\n",
       "      <td>2023-08-06</td>\n",
       "    </tr>\n",
       "    <tr>\n",
       "      <th>155</th>\n",
       "      <td>My LEEDS Summer: A World in our Ward</td>\n",
       "      <td>2023-08-12</td>\n",
       "    </tr>\n",
       "    <tr>\n",
       "      <th>160</th>\n",
       "      <td>Blissful Ignorance</td>\n",
       "      <td>2023-08-17</td>\n",
       "    </tr>\n",
       "    <tr>\n",
       "      <th>161</th>\n",
       "      <td>My LEEDS Summer: Mingle and Mix in Morley Nort...</td>\n",
       "      <td>2023-08-19</td>\n",
       "    </tr>\n",
       "  </tbody>\n",
       "</table>\n",
       "</div>"
      ],
      "text/plain": [
       "                                                  name start_date\n",
       "1              East Street Arts, A City Less Grey 2022 2022-10-08\n",
       "3                Phoenix Dance Theatre Virtual Gallery 2023-01-01\n",
       "4    The Big Art Giveaway, School of Creative Arts ... 2023-01-01\n",
       "5               Embassy of Netherlands, Meet Leeds Lab 2023-01-16\n",
       "6    Shifting Borders: A Journey to the Centre of o... 2023-01-24\n",
       "11                                 Leeds Lit Fest 2023 2023-02-25\n",
       "25                          East Street Arts, Add Fuel 2023-04-01\n",
       "42   Jamica Society Leeds, Out of Many Festival - T... 2023-05-01\n",
       "43   Sayang, Si Polan - International residency in ... 2023-05-01\n",
       "62                            Leeds Jazz Festival 2023 2023-05-25\n",
       "78   Keira Martin, Queenie and the Pooka (Performan... 2023-06-05\n",
       "79            My LEEDS Summer: Kirkstall Makes + Moves 2023-06-11\n",
       "82                 My LEEDS Summer at Hunslet Festival 2023-06-17\n",
       "83   My LEEDS Summer: Roundhay World Music & Food Fest 2023-06-17\n",
       "91                   My LEEDS Summer: Beeston Festival 2023-06-24\n",
       "92   My LEEDS Summer: Crossgates and Whinmoor - Pas... 2023-06-24\n",
       "93                 My LEEDS Summer: Picnic in the Park 2023-06-24\n",
       "96                                Becoming the Brontës 2023-06-29\n",
       "102              My LEEDS Summer: Wetherby Drovers Day 2023-07-01\n",
       "103                      My Leeds Summer : Walk of Art 2023-07-01\n",
       "106                         My LEEDS Summer: The Feast 2023-07-02\n",
       "107                   My LEEDS summer: Celebration Day 2023-07-02\n",
       "115  My LEEDS Summer : Wonderful Workshops and Cele... 2023-07-06\n",
       "122  My LEEDS Summer: The Gipton and Harehills Crea... 2023-07-08\n",
       "124  My LEEDS Summer: Ardsley & Robin Hood: Celebra... 2023-07-09\n",
       "126             My LEEDS Summer: The Big Summer Picnic 2023-07-09\n",
       "129    My LEEDS Summer: Ralph Thoresby Summer Festival 2023-07-15\n",
       "131                     My LEEDS Summer: Fuse Festival 2023-07-17\n",
       "133                       Community Training Programme 2023-07-20\n",
       "135               My LEEDS Summer: Festival of Culture 2023-07-22\n",
       "136  My LEEDS Summer: Kippax and Methley Culture Trail 2023-07-22\n",
       "137  My LEEDS Summer: Farnley and Wortley gives it ... 2023-07-23\n",
       "138  My LEEDS Summer: Garforth and Swillington's Cr... 2023-07-23\n",
       "139              My LEEDS Summer: Morley Make Together 2023-07-23\n",
       "140                Gracefool Collective, Kick Off 2023 2023-07-27\n",
       "144        My LEEDS Summer: Picture Palace in the Park 2023-07-29\n",
       "148                    My LEEDS Summer: Cultural Bloom 2023-08-05\n",
       "149               My Leeds Summer: Armley Extravaganza 2023-08-05\n",
       "150            My Leeds Summer: Music, Moves and Makes 2023-08-06\n",
       "155               My LEEDS Summer: A World in our Ward 2023-08-12\n",
       "160                                 Blissful Ignorance 2023-08-17\n",
       "161  My LEEDS Summer: Mingle and Mix in Morley Nort... 2023-08-19"
      ]
     },
     "execution_count": 9,
     "metadata": {},
     "output_type": "execute_result"
    }
   ],
   "source": [
    "data[data.postcode.isna()][[\n",
    "    'name', 'start_date'\n",
    "]]"
   ]
  },
  {
   "cell_type": "markdown",
   "id": "96877b5a",
   "metadata": {
    "papermill": {
     "duration": 0.002759,
     "end_time": "2023-08-26T23:37:27.252973",
     "exception": false,
     "start_time": "2023-08-26T23:37:27.250214",
     "status": "completed"
    },
    "tags": []
   },
   "source": [
    "Plot the pricing"
   ]
  },
  {
   "cell_type": "code",
   "execution_count": 10,
   "id": "071a92e6",
   "metadata": {
    "execution": {
     "iopub.execute_input": "2023-08-26T23:37:27.260373Z",
     "iopub.status.busy": "2023-08-26T23:37:27.259950Z",
     "iopub.status.idle": "2023-08-26T23:37:27.739746Z",
     "shell.execute_reply": "2023-08-26T23:37:27.739156Z"
    },
    "papermill": {
     "duration": 0.485432,
     "end_time": "2023-08-26T23:37:27.741443",
     "exception": false,
     "start_time": "2023-08-26T23:37:27.256011",
     "status": "completed"
    },
    "tags": []
   },
   "outputs": [
    {
     "data": {
      "image/png": "[encoded data removed]",
      "text/plain": [
       "<Figure size 640x480 with 1 Axes>"
      ]
     },
     "metadata": {},
     "output_type": "display_data"
    }
   ],
   "source": [
    "# .groupby('pricing').count().plot.barh()\n",
    "pricing = data.pricing.fillna('Unspecified').str.replace('[\\[\\'\\]]', '', regex=True).to_frame().reset_index().groupby('pricing').count()\n",
    "\n",
    "pricing.columns = ['count']\n",
    "plot = pricing.plot.barh()\n"
   ]
  },
  {
   "cell_type": "code",
   "execution_count": null,
   "id": "c9f97ae3",
   "metadata": {
    "papermill": {
     "duration": 0.003586,
     "end_time": "2023-08-26T23:37:27.748960",
     "exception": false,
     "start_time": "2023-08-26T23:37:27.745374",
     "status": "completed"
    },
    "tags": []
   },
   "outputs": [],
   "source": []
  }
 ],
 "metadata": {
  "kernelspec": {
   "display_name": "leeds-2023-YZF5GfJv",
   "language": "python",
   "name": "python3"
  },
  "language_info": {
   "codemirror_mode": {
    "name": "ipython",
    "version": 3
   },
   "file_extension": ".py",
   "mimetype": "text/x-python",
   "name": "python",
   "nbconvert_exporter": "python",
   "pygments_lexer": "ipython3",
   "version": "3.10.12"
  },
  "papermill": {
   "default_parameters": {},
   "duration": 12.898191,
   "end_time": "2023-08-26T23:37:28.172031",
   "environment_variables": {},
   "exception": null,
   "input_path": "transform.ipynb",
   "output_path": "../../../working/output/partner-events-transform.ipynb",
   "parameters": {},
   "start_time": "2023-08-26T23:37:15.273840",
   "version": "2.4.0"
  }
 },
 "nbformat": 4,
 "nbformat_minor": 5
}