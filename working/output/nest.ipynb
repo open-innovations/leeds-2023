{
 "cells": [
  {
   "cell_type": "markdown",
   "id": "9af7d781",
   "metadata": {
    "papermill": {
     "duration": 0.0022,
     "end_time": "2023-10-21T23:37:57.852015",
     "exception": false,
     "start_time": "2023-10-21T23:37:57.849815",
     "status": "completed"
    },
    "tags": []
   },
   "source": [
    "# Nest\n",
    "\n",
    "Prepares data for the Nest page "
   ]
  },
  {
   "cell_type": "code",
   "execution_count": 1,
   "id": "45eb7a5c",
   "metadata": {
    "execution": {
     "iopub.execute_input": "2023-10-21T23:37:57.857387Z",
     "iopub.status.busy": "2023-10-21T23:37:57.856581Z",
     "iopub.status.idle": "2023-10-21T23:38:08.427795Z",
     "shell.execute_reply": "2023-10-21T23:38:08.427114Z"
    },
    "papermill": {
     "duration": 10.575692,
     "end_time": "2023-10-21T23:38:08.429604",
     "exception": false,
     "start_time": "2023-10-21T23:37:57.853912",
     "status": "completed"
    },
    "tags": []
   },
   "outputs": [],
   "source": [
    "import os\n",
    "from events import (\n",
    "    load_event_data, filter_public_events, filter_by_project, prepare, save_files, count_wards\n",
    ")"
   ]
  },
  {
   "cell_type": "markdown",
   "id": "a999920b",
   "metadata": {
    "papermill": {
     "duration": 0.002014,
     "end_time": "2023-10-21T23:38:08.433532",
     "exception": false,
     "start_time": "2023-10-21T23:38:08.431518",
     "status": "completed"
    },
    "tags": []
   },
   "source": [
    "Set output directory"
   ]
  },
  {
   "cell_type": "code",
   "execution_count": 2,
   "id": "ae4fac61",
   "metadata": {
    "execution": {
     "iopub.execute_input": "2023-10-21T23:38:08.437912Z",
     "iopub.status.busy": "2023-10-21T23:38:08.437680Z",
     "iopub.status.idle": "2023-10-21T23:38:08.440871Z",
     "shell.execute_reply": "2023-10-21T23:38:08.440206Z"
    },
    "papermill": {
     "duration": 0.007257,
     "end_time": "2023-10-21T23:38:08.442397",
     "exception": false,
     "start_time": "2023-10-21T23:38:08.435140",
     "status": "completed"
    },
    "tags": []
   },
   "outputs": [],
   "source": [
    "OUT_DIR = '../../../../docs/metrics/events/nest/_data/events'"
   ]
  },
  {
   "cell_type": "markdown",
   "id": "ef1539e4",
   "metadata": {
    "papermill": {
     "duration": 0.001604,
     "end_time": "2023-10-21T23:38:08.445628",
     "exception": false,
     "start_time": "2023-10-21T23:38:08.444024",
     "status": "completed"
    },
    "tags": []
   },
   "source": [
    "Read in event data and filter by **My LEEDS 2023** project.\n",
    "\n",
    "The criteria are:\n",
    "\n",
    "* project type is 'Produce (Signature)'\n",
    "* event_type contains 'Public Event -'\n",
    "\n",
    "It's then filtered by project_name is '10 - Melt'"
   ]
  },
  {
   "cell_type": "code",
   "execution_count": 3,
   "id": "98e7e73d",
   "metadata": {
    "execution": {
     "iopub.execute_input": "2023-10-21T23:38:08.450086Z",
     "iopub.status.busy": "2023-10-21T23:38:08.449645Z",
     "iopub.status.idle": "2023-10-21T23:38:08.476019Z",
     "shell.execute_reply": "2023-10-21T23:38:08.475372Z"
    },
    "papermill": {
     "duration": 0.03063,
     "end_time": "2023-10-21T23:38:08.477856",
     "exception": false,
     "start_time": "2023-10-21T23:38:08.447226",
     "status": "completed"
    },
    "tags": []
   },
   "outputs": [
    {
     "data": {
      "text/html": [
       "<div>\n",
       "<style scoped>\n",
       "    .dataframe tbody tr th:only-of-type {\n",
       "        vertical-align: middle;\n",
       "    }\n",
       "\n",
       "    .dataframe tbody tr th {\n",
       "        vertical-align: top;\n",
       "    }\n",
       "\n",
       "    .dataframe thead th {\n",
       "        text-align: right;\n",
       "    }\n",
       "</style>\n",
       "<table border=\"1\" class=\"dataframe\">\n",
       "  <thead>\n",
       "    <tr style=\"text-align: right;\">\n",
       "      <th></th>\n",
       "      <th>actual_audience_size_number_of_participants_in_person</th>\n",
       "      <th>actual_audience_size_number_of_participants_online</th>\n",
       "      <th>airtable_id</th>\n",
       "      <th>end_date</th>\n",
       "      <th>event_name</th>\n",
       "      <th>event_type</th>\n",
       "      <th>event_unique_identifier</th>\n",
       "      <th>number_of_booked_participants</th>\n",
       "      <th>postcode_(from_venue)</th>\n",
       "      <th>project_name</th>\n",
       "      <th>project_type</th>\n",
       "      <th>season</th>\n",
       "      <th>start_date</th>\n",
       "      <th>ward_(from_venue)</th>\n",
       "    </tr>\n",
       "  </thead>\n",
       "  <tbody>\n",
       "    <tr>\n",
       "      <th>1084</th>\n",
       "      <td>1338.0</td>\n",
       "      <td>NaN</td>\n",
       "      <td>241</td>\n",
       "      <td>2023-09-09</td>\n",
       "      <td>Melt (Run)</td>\n",
       "      <td>['Public Event - Performance']</td>\n",
       "      <td>10 - Melt: Melt (Run)</td>\n",
       "      <td>1542.0</td>\n",
       "      <td>['LS26 8AL']</td>\n",
       "      <td>10 - Melt</td>\n",
       "      <td>Produce (Signature)</td>\n",
       "      <td>['Season 3 - Dreaming']</td>\n",
       "      <td>2023-09-05</td>\n",
       "      <td>['Garforth and Swillington']</td>\n",
       "    </tr>\n",
       "  </tbody>\n",
       "</table>\n",
       "</div>"
      ],
      "text/plain": [
       "      actual_audience_size_number_of_participants_in_person  \\\n",
       "1084                                             1338.0       \n",
       "\n",
       "      actual_audience_size_number_of_participants_online  airtable_id  \\\n",
       "1084                                                NaN           241   \n",
       "\n",
       "        end_date  event_name                      event_type  \\\n",
       "1084  2023-09-09  Melt (Run)  ['Public Event - Performance']   \n",
       "\n",
       "     event_unique_identifier  number_of_booked_participants  \\\n",
       "1084   10 - Melt: Melt (Run)                         1542.0   \n",
       "\n",
       "     postcode_(from_venue) project_name         project_type  \\\n",
       "1084          ['LS26 8AL']    10 - Melt  Produce (Signature)   \n",
       "\n",
       "                       season start_date             ward_(from_venue)  \n",
       "1084  ['Season 3 - Dreaming'] 2023-09-05  ['Garforth and Swillington']  "
      ]
     },
     "execution_count": 3,
     "metadata": {},
     "output_type": "execute_result"
    }
   ],
   "source": [
    "data = (\n",
    "  load_event_data()\n",
    "    .pipe(filter_by_project, '10 - Melt')\n",
    "    .pipe(filter_public_events)\n",
    "  )\n",
    "data"
   ]
  },
  {
   "cell_type": "markdown",
   "id": "f66a3d5c",
   "metadata": {
    "papermill": {
     "duration": 0.001937,
     "end_time": "2023-10-21T23:38:08.481731",
     "exception": false,
     "start_time": "2023-10-21T23:38:08.479794",
     "status": "completed"
    },
    "tags": []
   },
   "source": [
    "Run the processing and save the files"
   ]
  },
  {
   "cell_type": "code",
   "execution_count": 4,
   "id": "effbe40a",
   "metadata": {
    "execution": {
     "iopub.execute_input": "2023-10-21T23:38:08.486452Z",
     "iopub.status.busy": "2023-10-21T23:38:08.486230Z",
     "iopub.status.idle": "2023-10-21T23:38:08.513046Z",
     "shell.execute_reply": "2023-10-21T23:38:08.512404Z"
    },
    "papermill": {
     "duration": 0.031201,
     "end_time": "2023-10-21T23:38:08.514788",
     "exception": false,
     "start_time": "2023-10-21T23:38:08.483587",
     "status": "completed"
    },
    "tags": []
   },
   "outputs": [],
   "source": [
    "data = data.pipe(prepare).pipe(save_files, OUT_DIR)"
   ]
  }
 ],
 "metadata": {
  "kernelspec": {
   "display_name": "leeds-2023-YZF5GfJv",
   "language": "python",
   "name": "python3"
  },
  "language_info": {
   "codemirror_mode": {
    "name": "ipython",
    "version": 3
   },
   "file_extension": ".py",
   "mimetype": "text/x-python",
   "name": "python",
   "nbconvert_exporter": "python",
   "pygments_lexer": "ipython3",
   "version": "3.10.13"
  },
  "papermill": {
   "default_parameters": {},
   "duration": 12.334439,
   "end_time": "2023-10-21T23:38:08.833977",
   "environment_variables": {},
   "exception": null,
   "input_path": "nest.ipynb",
   "output_path": "../../../../working/output/nest.ipynb",
   "parameters": {},
   "start_time": "2023-10-21T23:37:56.499538",
   "version": "2.4.0"
  }
 },
 "nbformat": 4,
 "nbformat_minor": 5
}