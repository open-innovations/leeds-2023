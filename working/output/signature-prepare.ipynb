{
 "cells": [
  {
   "cell_type": "code",
   "execution_count": 1,
   "id": "1de9d04c",
   "metadata": {
    "execution": {
     "iopub.execute_input": "2023-08-27T23:39:40.024639Z",
     "iopub.status.busy": "2023-08-27T23:39:40.023817Z",
     "iopub.status.idle": "2023-08-27T23:39:51.517960Z",
     "shell.execute_reply": "2023-08-27T23:39:51.516969Z"
    },
    "papermill": {
     "duration": 11.501837,
     "end_time": "2023-08-27T23:39:51.520664",
     "exception": false,
     "start_time": "2023-08-27T23:39:40.018827",
     "status": "completed"
    },
    "tags": []
   },
   "outputs": [],
   "source": [
    "import os\n",
    "import pandas as pd\n",
    "from events import load_event_data, get_first_ward, normalise_ward"
   ]
  },
  {
   "cell_type": "code",
   "execution_count": 2,
   "id": "8de1c325",
   "metadata": {
    "execution": {
     "iopub.execute_input": "2023-08-27T23:39:51.528329Z",
     "iopub.status.busy": "2023-08-27T23:39:51.527770Z",
     "iopub.status.idle": "2023-08-27T23:39:51.532164Z",
     "shell.execute_reply": "2023-08-27T23:39:51.531376Z"
    },
    "papermill": {
     "duration": 0.010699,
     "end_time": "2023-08-27T23:39:51.534360",
     "exception": false,
     "start_time": "2023-08-27T23:39:51.523661",
     "status": "completed"
    },
    "tags": []
   },
   "outputs": [],
   "source": [
    "latest_date = pd.Timestamp.today().ceil('D')"
   ]
  },
  {
   "cell_type": "code",
   "execution_count": 3,
   "id": "f0176daa",
   "metadata": {
    "execution": {
     "iopub.execute_input": "2023-08-27T23:39:51.541111Z",
     "iopub.status.busy": "2023-08-27T23:39:51.540602Z",
     "iopub.status.idle": "2023-08-27T23:39:51.560844Z",
     "shell.execute_reply": "2023-08-27T23:39:51.560166Z"
    },
    "papermill": {
     "duration": 0.025835,
     "end_time": "2023-08-27T23:39:51.562731",
     "exception": false,
     "start_time": "2023-08-27T23:39:51.536896",
     "status": "completed"
    },
    "tags": []
   },
   "outputs": [],
   "source": [
    "tickets = pd.read_csv('../../../../data/metrics/events/tickets/orders.csv', parse_dates=['created_at', 'event_date'])\n",
    "tickets = tickets[tickets.event_date <= latest_date]"
   ]
  },
  {
   "cell_type": "code",
   "execution_count": 4,
   "id": "9189c1b5",
   "metadata": {
    "execution": {
     "iopub.execute_input": "2023-08-27T23:39:51.569485Z",
     "iopub.status.busy": "2023-08-27T23:39:51.568867Z",
     "iopub.status.idle": "2023-08-27T23:39:51.785394Z",
     "shell.execute_reply": "2023-08-27T23:39:51.784546Z"
    },
    "papermill": {
     "duration": 0.222677,
     "end_time": "2023-08-27T23:39:51.787975",
     "exception": false,
     "start_time": "2023-08-27T23:39:51.565298",
     "status": "completed"
    },
    "tags": []
   },
   "outputs": [],
   "source": [
    "events = load_event_data()\n",
    "\n",
    "events = pd.concat([\n",
    "  events,\n",
    "  events.pipe(get_first_ward).pipe(normalise_ward).fillna('UNKNOWN'),\n",
    "  pd.Series(\n",
    "      events.actual_audience_size_number_of_participants_in_person + events.actual_audience_size_number_of_participants_online,\n",
    "      name='attendances'\n",
    "  )\n",
    "], axis=1).rename(columns={\n",
    "    'start_date': 'date'\n",
    "}).loc[:, ['ward_code', 'date', 'event_unique_identifier', 'attendances']]"
   ]
  },
  {
   "cell_type": "code",
   "execution_count": 5,
   "id": "57dcd067",
   "metadata": {
    "execution": {
     "iopub.execute_input": "2023-08-27T23:39:51.796353Z",
     "iopub.status.busy": "2023-08-27T23:39:51.796068Z",
     "iopub.status.idle": "2023-08-27T23:39:51.801217Z",
     "shell.execute_reply": "2023-08-27T23:39:51.800487Z"
    },
    "papermill": {
     "duration": 0.011472,
     "end_time": "2023-08-27T23:39:51.803150",
     "exception": false,
     "start_time": "2023-08-27T23:39:51.791678",
     "status": "completed"
    },
    "tags": []
   },
   "outputs": [],
   "source": [
    "OUTPUT_DIR='../../../../docs/metrics/events/signature/_data/'\n",
    "os.makedirs(OUTPUT_DIR, exist_ok=True)"
   ]
  },
  {
   "cell_type": "markdown",
   "id": "6d25fa7b",
   "metadata": {
    "papermill": {
     "duration": 0.002675,
     "end_time": "2023-08-27T23:39:51.808448",
     "exception": false,
     "start_time": "2023-08-27T23:39:51.805773",
     "status": "completed"
    },
    "tags": []
   },
   "source": [
    "Events CSVs"
   ]
  },
  {
   "cell_type": "code",
   "execution_count": 6,
   "id": "3133cdbc",
   "metadata": {
    "execution": {
     "iopub.execute_input": "2023-08-27T23:39:51.815002Z",
     "iopub.status.busy": "2023-08-27T23:39:51.814565Z",
     "iopub.status.idle": "2023-08-27T23:39:51.822938Z",
     "shell.execute_reply": "2023-08-27T23:39:51.821978Z"
    },
    "papermill": {
     "duration": 0.01399,
     "end_time": "2023-08-27T23:39:51.825061",
     "exception": false,
     "start_time": "2023-08-27T23:39:51.811071",
     "status": "completed"
    },
    "tags": []
   },
   "outputs": [],
   "source": [
    "pd.DataFrame({\n",
    "  'events': events.groupby('ward_code').event_unique_identifier.count(),\n",
    "  'attendances': events.groupby('ward_code').attendances.sum().astype(int),\n",
    "}).to_csv(os.path.join(OUTPUT_DIR, 'events_by_ward.csv'))\n"
   ]
  },
  {
   "cell_type": "code",
   "execution_count": 7,
   "id": "ecef5d8a",
   "metadata": {
    "execution": {
     "iopub.execute_input": "2023-08-27T23:39:51.832810Z",
     "iopub.status.busy": "2023-08-27T23:39:51.832550Z",
     "iopub.status.idle": "2023-08-27T23:39:51.844410Z",
     "shell.execute_reply": "2023-08-27T23:39:51.843738Z"
    },
    "papermill": {
     "duration": 0.017873,
     "end_time": "2023-08-27T23:39:51.846266",
     "exception": false,
     "start_time": "2023-08-27T23:39:51.828393",
     "status": "completed"
    },
    "tags": []
   },
   "outputs": [],
   "source": [
    "pd.DataFrame({\n",
    "  'events': events.groupby('date').event_unique_identifier.count(),\n",
    "  'attendances': events.groupby('date').attendances.sum().astype(int),\n",
    "}).resample('M').sum().astype(int).to_csv(os.path.join(OUTPUT_DIR, 'events_by_date.csv'))"
   ]
  },
  {
   "cell_type": "markdown",
   "id": "44395c15",
   "metadata": {
    "papermill": {
     "duration": 0.003105,
     "end_time": "2023-08-27T23:39:51.852084",
     "exception": false,
     "start_time": "2023-08-27T23:39:51.848979",
     "status": "completed"
    },
    "tags": []
   },
   "source": [
    "Tickets CSV"
   ]
  },
  {
   "cell_type": "code",
   "execution_count": 8,
   "id": "b32778dc",
   "metadata": {
    "execution": {
     "iopub.execute_input": "2023-08-27T23:39:51.859766Z",
     "iopub.status.busy": "2023-08-27T23:39:51.859500Z",
     "iopub.status.idle": "2023-08-27T23:39:51.868803Z",
     "shell.execute_reply": "2023-08-27T23:39:51.866634Z"
    },
    "papermill": {
     "duration": 0.015788,
     "end_time": "2023-08-27T23:39:51.871365",
     "exception": false,
     "start_time": "2023-08-27T23:39:51.855577",
     "status": "completed"
    },
    "tags": []
   },
   "outputs": [],
   "source": [
    "pd.DataFrame({\n",
    "  'orders': tickets.groupby('ward_code').number_of_tickets.count(),\n",
    "  'tickets': tickets.groupby('ward_code').number_of_tickets.sum().astype(int),\n",
    "}).to_csv(os.path.join(OUTPUT_DIR, 'tickets_by_ward.csv'))"
   ]
  },
  {
   "cell_type": "code",
   "execution_count": 9,
   "id": "ddfd8935",
   "metadata": {
    "execution": {
     "iopub.execute_input": "2023-08-27T23:39:51.878510Z",
     "iopub.status.busy": "2023-08-27T23:39:51.877848Z",
     "iopub.status.idle": "2023-08-27T23:39:51.888358Z",
     "shell.execute_reply": "2023-08-27T23:39:51.887622Z"
    },
    "papermill": {
     "duration": 0.016598,
     "end_time": "2023-08-27T23:39:51.890847",
     "exception": false,
     "start_time": "2023-08-27T23:39:51.874249",
     "status": "completed"
    },
    "tags": []
   },
   "outputs": [],
   "source": [
    "pd.DataFrame({\n",
    "  'orders': tickets.groupby('event_date').number_of_tickets.count(),\n",
    "  'tickets': tickets.groupby('event_date').number_of_tickets.sum().astype(int),\n",
    "}).resample('M').sum().to_csv(os.path.join(OUTPUT_DIR, 'tickets_by_event_date.csv'))"
   ]
  },
  {
   "cell_type": "code",
   "execution_count": 10,
   "id": "a8c292fd",
   "metadata": {
    "execution": {
     "iopub.execute_input": "2023-08-27T23:39:51.900145Z",
     "iopub.status.busy": "2023-08-27T23:39:51.899594Z",
     "iopub.status.idle": "2023-08-27T23:39:51.905652Z",
     "shell.execute_reply": "2023-08-27T23:39:51.904891Z"
    },
    "papermill": {
     "duration": 0.013121,
     "end_time": "2023-08-27T23:39:51.907439",
     "exception": false,
     "start_time": "2023-08-27T23:39:51.894318",
     "status": "completed"
    },
    "tags": []
   },
   "outputs": [],
   "source": [
    "pd.Series({\n",
    "    'total_events': events.event_unique_identifier.count(),\n",
    "    'total_attendances': events.attendances.count(),\n",
    "    'first_event': events.date.min(),\n",
    "    'latest_event': events.date.max(),\n",
    "    'total_ticket_orders_for_events_to_date': tickets.number_of_tickets.count(),\n",
    "    'total_tickets_sold_for_events_to_date': tickets.number_of_tickets.sum(),\n",
    "}).to_json(os.path.join(OUTPUT_DIR, 'headlines.json'), indent=2)"
   ]
  },
  {
   "cell_type": "code",
   "execution_count": null,
   "id": "6d8a0a80",
   "metadata": {
    "papermill": {
     "duration": 0.002784,
     "end_time": "2023-08-27T23:39:51.913055",
     "exception": false,
     "start_time": "2023-08-27T23:39:51.910271",
     "status": "completed"
    },
    "tags": []
   },
   "outputs": [],
   "source": []
  }
 ],
 "metadata": {
  "kernelspec": {
   "display_name": "leeds-2023-YZF5GfJv",
   "language": "python",
   "name": "python3"
  },
  "language_info": {
   "codemirror_mode": {
    "name": "ipython",
    "version": 3
   },
   "file_extension": ".py",
   "mimetype": "text/x-python",
   "name": "python",
   "nbconvert_exporter": "python",
   "pygments_lexer": "ipython3",
   "version": "3.10.12"
  },
  "papermill": {
   "default_parameters": {},
   "duration": 13.741399,
   "end_time": "2023-08-27T23:39:52.234602",
   "environment_variables": {},
   "exception": null,
   "input_path": "prepare.ipynb",
   "output_path": "../../../../working/output/signature-prepare.ipynb",
   "parameters": {},
   "start_time": "2023-08-27T23:39:38.493203",
   "version": "2.4.0"
  }
 },
 "nbformat": 4,
 "nbformat_minor": 5
}