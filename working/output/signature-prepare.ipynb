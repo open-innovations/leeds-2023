{
 "cells": [
  {
   "cell_type": "code",
   "execution_count": 1,
   "id": "664890ff",
   "metadata": {
    "execution": {
     "iopub.execute_input": "2023-08-18T17:33:39.802732Z",
     "iopub.status.busy": "2023-08-18T17:33:39.802577Z",
     "iopub.status.idle": "2023-08-18T17:33:44.528371Z",
     "shell.execute_reply": "2023-08-18T17:33:44.527901Z"
    },
    "papermill": {
     "duration": 4.732805,
     "end_time": "2023-08-18T17:33:44.529475",
     "exception": false,
     "start_time": "2023-08-18T17:33:39.796670",
     "status": "completed"
    },
    "tags": []
   },
   "outputs": [],
   "source": [
    "import os\n",
    "import pandas as pd\n",
    "from events import load_event_data, get_first_ward, normalise_ward"
   ]
  },
  {
   "cell_type": "code",
   "execution_count": 2,
   "id": "24d4bc0a",
   "metadata": {
    "execution": {
     "iopub.execute_input": "2023-08-18T17:33:44.532675Z",
     "iopub.status.busy": "2023-08-18T17:33:44.532502Z",
     "iopub.status.idle": "2023-08-18T17:33:44.535016Z",
     "shell.execute_reply": "2023-08-18T17:33:44.534630Z"
    },
    "papermill": {
     "duration": 0.004919,
     "end_time": "2023-08-18T17:33:44.535723",
     "exception": false,
     "start_time": "2023-08-18T17:33:44.530804",
     "status": "completed"
    },
    "tags": []
   },
   "outputs": [],
   "source": [
    "latest_date = pd.Timestamp.today().ceil('D')"
   ]
  },
  {
   "cell_type": "code",
   "execution_count": 3,
   "id": "ab9b89ba",
   "metadata": {
    "execution": {
     "iopub.execute_input": "2023-08-18T17:33:44.538347Z",
     "iopub.status.busy": "2023-08-18T17:33:44.538171Z",
     "iopub.status.idle": "2023-08-18T17:33:44.546669Z",
     "shell.execute_reply": "2023-08-18T17:33:44.546324Z"
    },
    "papermill": {
     "duration": 0.010686,
     "end_time": "2023-08-18T17:33:44.547472",
     "exception": false,
     "start_time": "2023-08-18T17:33:44.536786",
     "status": "completed"
    },
    "tags": []
   },
   "outputs": [],
   "source": [
    "tickets = pd.read_csv('../../../../data/metrics/events/tickets/orders.csv', parse_dates=['created_at', 'event_date'])\n",
    "tickets = tickets[tickets.event_date <= latest_date]"
   ]
  },
  {
   "cell_type": "code",
   "execution_count": 4,
   "id": "da0c4465",
   "metadata": {
    "execution": {
     "iopub.execute_input": "2023-08-18T17:33:44.550343Z",
     "iopub.status.busy": "2023-08-18T17:33:44.550150Z",
     "iopub.status.idle": "2023-08-18T17:33:44.628386Z",
     "shell.execute_reply": "2023-08-18T17:33:44.627921Z"
    },
    "papermill": {
     "duration": 0.080717,
     "end_time": "2023-08-18T17:33:44.629381",
     "exception": false,
     "start_time": "2023-08-18T17:33:44.548664",
     "status": "completed"
    },
    "tags": []
   },
   "outputs": [],
   "source": [
    "events = load_event_data()\n",
    "\n",
    "events = pd.concat([\n",
    "  events,\n",
    "  events.pipe(get_first_ward).pipe(normalise_ward).fillna('UNKNOWN'),\n",
    "  pd.Series(\n",
    "      events.actual_audience_size_number_of_participants_in_person + events.actual_audience_size_number_of_participants_online,\n",
    "      name='attendances'\n",
    "  )\n",
    "], axis=1).rename(columns={\n",
    "    'start_date': 'date'\n",
    "}).loc[:, ['ward_code', 'date', 'event_unique_identifier', 'attendances']]"
   ]
  },
  {
   "cell_type": "code",
   "execution_count": 5,
   "id": "610c1b96",
   "metadata": {
    "execution": {
     "iopub.execute_input": "2023-08-18T17:33:44.632285Z",
     "iopub.status.busy": "2023-08-18T17:33:44.632090Z",
     "iopub.status.idle": "2023-08-18T17:33:44.634516Z",
     "shell.execute_reply": "2023-08-18T17:33:44.634110Z"
    },
    "papermill": {
     "duration": 0.004778,
     "end_time": "2023-08-18T17:33:44.635296",
     "exception": false,
     "start_time": "2023-08-18T17:33:44.630518",
     "status": "completed"
    },
    "tags": []
   },
   "outputs": [],
   "source": [
    "OUTPUT_DIR='../../../../docs/metrics/events/signature/_data/'\n",
    "os.makedirs(OUTPUT_DIR, exist_ok=True)"
   ]
  },
  {
   "cell_type": "markdown",
   "id": "ff9ffa41",
   "metadata": {
    "papermill": {
     "duration": 0.001108,
     "end_time": "2023-08-18T17:33:44.637601",
     "exception": false,
     "start_time": "2023-08-18T17:33:44.636493",
     "status": "completed"
    },
    "tags": []
   },
   "source": [
    "Events CSVs"
   ]
  },
  {
   "cell_type": "code",
   "execution_count": 6,
   "id": "07feeef3",
   "metadata": {
    "execution": {
     "iopub.execute_input": "2023-08-18T17:33:44.640239Z",
     "iopub.status.busy": "2023-08-18T17:33:44.640059Z",
     "iopub.status.idle": "2023-08-18T17:33:44.643825Z",
     "shell.execute_reply": "2023-08-18T17:33:44.643518Z"
    },
    "papermill": {
     "duration": 0.005951,
     "end_time": "2023-08-18T17:33:44.644626",
     "exception": false,
     "start_time": "2023-08-18T17:33:44.638675",
     "status": "completed"
    },
    "tags": []
   },
   "outputs": [],
   "source": [
    "pd.DataFrame({\n",
    "  'events': events.groupby('ward_code').event_unique_identifier.count(),\n",
    "  'attendances': events.groupby('ward_code').attendances.sum().astype(int),\n",
    "}).to_csv(os.path.join(OUTPUT_DIR, 'events_by_ward.csv'))\n"
   ]
  },
  {
   "cell_type": "code",
   "execution_count": 7,
   "id": "ddd7c0eb",
   "metadata": {
    "execution": {
     "iopub.execute_input": "2023-08-18T17:33:44.647488Z",
     "iopub.status.busy": "2023-08-18T17:33:44.647241Z",
     "iopub.status.idle": "2023-08-18T17:33:44.653005Z",
     "shell.execute_reply": "2023-08-18T17:33:44.652679Z"
    },
    "papermill": {
     "duration": 0.008106,
     "end_time": "2023-08-18T17:33:44.653873",
     "exception": false,
     "start_time": "2023-08-18T17:33:44.645767",
     "status": "completed"
    },
    "tags": []
   },
   "outputs": [],
   "source": [
    "pd.DataFrame({\n",
    "  'events': events.groupby('date').event_unique_identifier.count(),\n",
    "  'attendances': events.groupby('date').attendances.sum().astype(int),\n",
    "}).resample('M').sum().astype(int).to_csv(os.path.join(OUTPUT_DIR, 'events_by_date.csv'))"
   ]
  },
  {
   "cell_type": "markdown",
   "id": "8d578b22",
   "metadata": {
    "papermill": {
     "duration": 0.001203,
     "end_time": "2023-08-18T17:33:44.656251",
     "exception": false,
     "start_time": "2023-08-18T17:33:44.655048",
     "status": "completed"
    },
    "tags": []
   },
   "source": [
    "Tickets CSV"
   ]
  },
  {
   "cell_type": "code",
   "execution_count": 8,
   "id": "99bb256c",
   "metadata": {
    "execution": {
     "iopub.execute_input": "2023-08-18T17:33:44.659035Z",
     "iopub.status.busy": "2023-08-18T17:33:44.658811Z",
     "iopub.status.idle": "2023-08-18T17:33:44.662520Z",
     "shell.execute_reply": "2023-08-18T17:33:44.662201Z"
    },
    "papermill": {
     "duration": 0.005913,
     "end_time": "2023-08-18T17:33:44.663259",
     "exception": false,
     "start_time": "2023-08-18T17:33:44.657346",
     "status": "completed"
    },
    "tags": []
   },
   "outputs": [],
   "source": [
    "pd.DataFrame({\n",
    "  'orders': tickets.groupby('ward_code').number_of_tickets.count(),\n",
    "  'tickets': tickets.groupby('ward_code').number_of_tickets.sum().astype(int),\n",
    "}).to_csv(os.path.join(OUTPUT_DIR, 'tickets_by_ward.csv'))"
   ]
  },
  {
   "cell_type": "code",
   "execution_count": 9,
   "id": "ec5a6394",
   "metadata": {
    "execution": {
     "iopub.execute_input": "2023-08-18T17:33:44.666008Z",
     "iopub.status.busy": "2023-08-18T17:33:44.665841Z",
     "iopub.status.idle": "2023-08-18T17:33:44.670184Z",
     "shell.execute_reply": "2023-08-18T17:33:44.669888Z"
    },
    "papermill": {
     "duration": 0.006563,
     "end_time": "2023-08-18T17:33:44.670949",
     "exception": false,
     "start_time": "2023-08-18T17:33:44.664386",
     "status": "completed"
    },
    "tags": []
   },
   "outputs": [],
   "source": [
    "pd.DataFrame({\n",
    "  'orders': tickets.groupby('event_date').number_of_tickets.count(),\n",
    "  'tickets': tickets.groupby('event_date').number_of_tickets.sum().astype(int),\n",
    "}).resample('M').sum().to_csv(os.path.join(OUTPUT_DIR, 'tickets_by_event_date.csv'))"
   ]
  },
  {
   "cell_type": "code",
   "execution_count": 10,
   "id": "e78f739f",
   "metadata": {
    "execution": {
     "iopub.execute_input": "2023-08-18T17:33:44.673817Z",
     "iopub.status.busy": "2023-08-18T17:33:44.673620Z",
     "iopub.status.idle": "2023-08-18T17:33:44.676398Z",
     "shell.execute_reply": "2023-08-18T17:33:44.676090Z"
    },
    "papermill": {
     "duration": 0.005005,
     "end_time": "2023-08-18T17:33:44.677128",
     "exception": false,
     "start_time": "2023-08-18T17:33:44.672123",
     "status": "completed"
    },
    "tags": []
   },
   "outputs": [],
   "source": [
    "pd.Series({\n",
    "    'total_events': events.event_unique_identifier.count(),\n",
    "    'total_attendances': events.attendances.count(),\n",
    "    'first_event': events.date.min(),\n",
    "    'latest_event': events.date.max(),\n",
    "    'total_ticket_orders_for_events_to_date': tickets.number_of_tickets.count(),\n",
    "    'total_tickets_sold_for_events_to_date': tickets.number_of_tickets.sum(),\n",
    "}).to_json(os.path.join(OUTPUT_DIR, 'headlines.json'), indent=2)"
   ]
  },
  {
   "cell_type": "code",
   "execution_count": null,
   "id": "e4b159ed",
   "metadata": {
    "papermill": {
     "duration": 0.001086,
     "end_time": "2023-08-18T17:33:44.679390",
     "exception": false,
     "start_time": "2023-08-18T17:33:44.678304",
     "status": "completed"
    },
    "tags": []
   },
   "outputs": [],
   "source": []
  }
 ],
 "metadata": {
  "kernelspec": {
   "display_name": "leeds-2023-YZF5GfJv",
   "language": "python",
   "name": "python3"
  },
  "language_info": {
   "codemirror_mode": {
    "name": "ipython",
    "version": 3
   },
   "file_extension": ".py",
   "mimetype": "text/x-python",
   "name": "python",
   "nbconvert_exporter": "python",
   "pygments_lexer": "ipython3",
   "version": "3.10.12"
  },
  "papermill": {
   "default_parameters": {},
   "duration": 5.81324,
   "end_time": "2023-08-18T17:33:44.895540",
   "environment_variables": {},
   "exception": null,
   "input_path": "prepare.ipynb",
   "output_path": "../../../../working/output/signature-prepare.ipynb",
   "parameters": {},
   "start_time": "2023-08-18T17:33:39.082300",
   "version": "2.4.0"
  }
 },
 "nbformat": 4,
 "nbformat_minor": 5
}