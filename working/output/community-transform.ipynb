{
 "cells": [
  {
   "cell_type": "code",
   "execution_count": 1,
   "id": "250d663e",
   "metadata": {
    "execution": {
     "iopub.execute_input": "2023-08-18T17:33:53.234071Z",
     "iopub.status.busy": "2023-08-18T17:33:53.232721Z",
     "iopub.status.idle": "2023-08-18T17:33:53.245161Z",
     "shell.execute_reply": "2023-08-18T17:33:53.243935Z"
    },
    "papermill": {
     "duration": 0.021452,
     "end_time": "2023-08-18T17:33:53.248909",
     "exception": false,
     "start_time": "2023-08-18T17:33:53.227457",
     "status": "completed"
    },
    "tags": []
   },
   "outputs": [],
   "source": [
    "import os\n",
    "import sys\n",
    "\n",
    "TOP_DIR=os.path.realpath(\"../../..\")\n",
    "if TOP_DIR not in sys.path: sys.path.append(TOP_DIR)"
   ]
  },
  {
   "cell_type": "code",
   "execution_count": 2,
   "id": "22d04057",
   "metadata": {
    "execution": {
     "iopub.execute_input": "2023-08-18T17:33:53.259665Z",
     "iopub.status.busy": "2023-08-18T17:33:53.259329Z",
     "iopub.status.idle": "2023-08-18T17:33:57.987741Z",
     "shell.execute_reply": "2023-08-18T17:33:57.987179Z"
    },
    "papermill": {
     "duration": 4.73429,
     "end_time": "2023-08-18T17:33:57.988835",
     "exception": false,
     "start_time": "2023-08-18T17:33:53.254545",
     "status": "completed"
    },
    "tags": []
   },
   "outputs": [],
   "source": [
    "import pandas as pd\n",
    "import numpy as np\n",
    "from lib.util.convert import standardise_columns, literal_converter\n",
    "from lib.util.geo import normalise_leeds_wards, ward_name_to_code"
   ]
  },
  {
   "cell_type": "code",
   "execution_count": 3,
   "id": "078e3adf",
   "metadata": {
    "execution": {
     "iopub.execute_input": "2023-08-18T17:33:57.991847Z",
     "iopub.status.busy": "2023-08-18T17:33:57.991725Z",
     "iopub.status.idle": "2023-08-18T17:33:58.002857Z",
     "shell.execute_reply": "2023-08-18T17:33:58.002512Z"
    },
    "papermill": {
     "duration": 0.013719,
     "end_time": "2023-08-18T17:33:58.003784",
     "exception": false,
     "start_time": "2023-08-18T17:33:57.990065",
     "status": "completed"
    },
    "tags": []
   },
   "outputs": [],
   "source": [
    "data = pd.read_csv('../../../working/metrics/community/events.csv', parse_dates=['Start date'])\n",
    "data = data.rename(columns=standardise_columns)"
   ]
  },
  {
   "cell_type": "code",
   "execution_count": 4,
   "id": "5e461f6e",
   "metadata": {
    "execution": {
     "iopub.execute_input": "2023-08-18T17:33:58.006674Z",
     "iopub.status.busy": "2023-08-18T17:33:58.006446Z",
     "iopub.status.idle": "2023-08-18T17:33:58.010879Z",
     "shell.execute_reply": "2023-08-18T17:33:58.010586Z"
    },
    "papermill": {
     "duration": 0.006625,
     "end_time": "2023-08-18T17:33:58.011543",
     "exception": false,
     "start_time": "2023-08-18T17:33:58.004918",
     "status": "completed"
    },
    "tags": []
   },
   "outputs": [],
   "source": [
    "wards = data['ward_(from_venue)'].fillna('[]').pipe(literal_converter).apply(np.unique)"
   ]
  },
  {
   "cell_type": "code",
   "execution_count": 5,
   "id": "7d400759",
   "metadata": {
    "execution": {
     "iopub.execute_input": "2023-08-18T17:33:58.014061Z",
     "iopub.status.busy": "2023-08-18T17:33:58.013918Z",
     "iopub.status.idle": "2023-08-18T17:33:58.161565Z",
     "shell.execute_reply": "2023-08-18T17:33:58.161119Z"
    },
    "papermill": {
     "duration": 0.149945,
     "end_time": "2023-08-18T17:33:58.162525",
     "exception": false,
     "start_time": "2023-08-18T17:33:58.012580",
     "status": "completed"
    },
    "tags": []
   },
   "outputs": [],
   "source": [
    "data['ward_name'] = wards.apply(lambda x: x[0] if len(x) > 0 else np.nan).pipe(normalise_leeds_wards)\n",
    "data['ward_code'] = data.ward_name.pipe(ward_name_to_code)\n",
    "data['audience'] = data.actual_audience_size_number_of_participants_in_person\n",
    "cleaned_data = data.loc[:, ['event_name', 'project_name', 'start_date', 'ward_name', 'ward_code', 'audience']]"
   ]
  },
  {
   "cell_type": "code",
   "execution_count": 6,
   "id": "bf4f0be1",
   "metadata": {
    "execution": {
     "iopub.execute_input": "2023-08-18T17:33:58.165462Z",
     "iopub.status.busy": "2023-08-18T17:33:58.165330Z",
     "iopub.status.idle": "2023-08-18T17:33:58.169361Z",
     "shell.execute_reply": "2023-08-18T17:33:58.169079Z"
    },
    "papermill": {
     "duration": 0.00623,
     "end_time": "2023-08-18T17:33:58.170001",
     "exception": false,
     "start_time": "2023-08-18T17:33:58.163771",
     "status": "completed"
    },
    "tags": []
   },
   "outputs": [],
   "source": [
    "DATA_DIR='../../../data/metrics/community'\n",
    "os.makedirs(DATA_DIR, exist_ok=True)\n",
    "cleaned_data.to_csv(os.path.join(DATA_DIR, 'events.csv'), index=False)"
   ]
  },
  {
   "cell_type": "markdown",
   "id": "68318d1d",
   "metadata": {
    "papermill": {
     "duration": 0.001021,
     "end_time": "2023-08-18T17:33:58.172187",
     "exception": false,
     "start_time": "2023-08-18T17:33:58.171166",
     "status": "completed"
    },
    "tags": []
   },
   "source": [
    "Missing or duplicated wards"
   ]
  },
  {
   "cell_type": "code",
   "execution_count": 7,
   "id": "23693907",
   "metadata": {
    "execution": {
     "iopub.execute_input": "2023-08-18T17:33:58.174765Z",
     "iopub.status.busy": "2023-08-18T17:33:58.174645Z",
     "iopub.status.idle": "2023-08-18T17:33:58.182895Z",
     "shell.execute_reply": "2023-08-18T17:33:58.182610Z"
    },
    "papermill": {
     "duration": 0.010348,
     "end_time": "2023-08-18T17:33:58.183560",
     "exception": false,
     "start_time": "2023-08-18T17:33:58.173212",
     "status": "completed"
    },
    "tags": []
   },
   "outputs": [
    {
     "data": {
      "text/html": [
       "<div>\n",
       "<style scoped>\n",
       "    .dataframe tbody tr th:only-of-type {\n",
       "        vertical-align: middle;\n",
       "    }\n",
       "\n",
       "    .dataframe tbody tr th {\n",
       "        vertical-align: top;\n",
       "    }\n",
       "\n",
       "    .dataframe thead th {\n",
       "        text-align: right;\n",
       "    }\n",
       "</style>\n",
       "<table border=\"1\" class=\"dataframe\">\n",
       "  <thead>\n",
       "    <tr style=\"text-align: right;\">\n",
       "      <th></th>\n",
       "      <th>project_name</th>\n",
       "      <th>event_name</th>\n",
       "      <th>start_date</th>\n",
       "      <th>ward_(from_venue)</th>\n",
       "    </tr>\n",
       "  </thead>\n",
       "  <tbody>\n",
       "    <tr>\n",
       "      <th>49</th>\n",
       "      <td>01 - The Awakening</td>\n",
       "      <td>Creation Station - Leeds City Council</td>\n",
       "      <td>2022-11-23</td>\n",
       "      <td>NaN</td>\n",
       "    </tr>\n",
       "    <tr>\n",
       "      <th>50</th>\n",
       "      <td>01 - The Awakening</td>\n",
       "      <td>Creation Station - Leeds City Council</td>\n",
       "      <td>2022-11-24</td>\n",
       "      <td>NaN</td>\n",
       "    </tr>\n",
       "    <tr>\n",
       "      <th>64</th>\n",
       "      <td>01 - The Awakening</td>\n",
       "      <td>Creation Station - Yorkshire Schools Dance Fes...</td>\n",
       "      <td>2022-11-19</td>\n",
       "      <td>NaN</td>\n",
       "    </tr>\n",
       "    <tr>\n",
       "      <th>66</th>\n",
       "      <td>01 - The Awakening</td>\n",
       "      <td>Mass Movement Rehearsals</td>\n",
       "      <td>2023-01-05</td>\n",
       "      <td>NaN</td>\n",
       "    </tr>\n",
       "    <tr>\n",
       "      <th>67</th>\n",
       "      <td>01 - The Awakening</td>\n",
       "      <td>Waking the Artist in Communities</td>\n",
       "      <td>2023-02-06</td>\n",
       "      <td>NaN</td>\n",
       "    </tr>\n",
       "    <tr>\n",
       "      <th>...</th>\n",
       "      <td>...</td>\n",
       "      <td>...</td>\n",
       "      <td>...</td>\n",
       "      <td>...</td>\n",
       "    </tr>\n",
       "    <tr>\n",
       "      <th>265</th>\n",
       "      <td>Waking the Artist</td>\n",
       "      <td>Spring Gardens Pack</td>\n",
       "      <td>2023-03-23</td>\n",
       "      <td>NaN</td>\n",
       "    </tr>\n",
       "    <tr>\n",
       "      <th>266</th>\n",
       "      <td>Waking the Artist</td>\n",
       "      <td>The Den Headingley Pack</td>\n",
       "      <td>2023-02-13</td>\n",
       "      <td>NaN</td>\n",
       "    </tr>\n",
       "    <tr>\n",
       "      <th>267</th>\n",
       "      <td>Waking the Artist</td>\n",
       "      <td>Turning Lives Around Pack</td>\n",
       "      <td>2023-02-22</td>\n",
       "      <td>NaN</td>\n",
       "    </tr>\n",
       "    <tr>\n",
       "      <th>269</th>\n",
       "      <td>Waking the Artist</td>\n",
       "      <td>Wetherby Town Hall Pack</td>\n",
       "      <td>2023-02-25</td>\n",
       "      <td>NaN</td>\n",
       "    </tr>\n",
       "    <tr>\n",
       "      <th>270</th>\n",
       "      <td>Waking the Artist</td>\n",
       "      <td>Who Let The Dads Out Fulneck Moravian Church Pack</td>\n",
       "      <td>2023-02-22</td>\n",
       "      <td>NaN</td>\n",
       "    </tr>\n",
       "  </tbody>\n",
       "</table>\n",
       "<p>73 rows × 4 columns</p>\n",
       "</div>"
      ],
      "text/plain": [
       "           project_name                                         event_name  \\\n",
       "49   01 - The Awakening             Creation Station - Leeds City Council    \n",
       "50   01 - The Awakening             Creation Station - Leeds City Council    \n",
       "64   01 - The Awakening  Creation Station - Yorkshire Schools Dance Fes...   \n",
       "66   01 - The Awakening                           Mass Movement Rehearsals   \n",
       "67   01 - The Awakening                  Waking the Artist in Communities    \n",
       "..                  ...                                                ...   \n",
       "265   Waking the Artist                                Spring Gardens Pack   \n",
       "266   Waking the Artist                            The Den Headingley Pack   \n",
       "267   Waking the Artist                          Turning Lives Around Pack   \n",
       "269   Waking the Artist                            Wetherby Town Hall Pack   \n",
       "270   Waking the Artist  Who Let The Dads Out Fulneck Moravian Church Pack   \n",
       "\n",
       "    start_date ward_(from_venue)  \n",
       "49  2022-11-23               NaN  \n",
       "50  2022-11-24               NaN  \n",
       "64  2022-11-19               NaN  \n",
       "66  2023-01-05               NaN  \n",
       "67  2023-02-06               NaN  \n",
       "..         ...               ...  \n",
       "265 2023-03-23               NaN  \n",
       "266 2023-02-13               NaN  \n",
       "267 2023-02-22               NaN  \n",
       "269 2023-02-25               NaN  \n",
       "270 2023-02-22               NaN  \n",
       "\n",
       "[73 rows x 4 columns]"
      ]
     },
     "execution_count": 7,
     "metadata": {},
     "output_type": "execute_result"
    }
   ],
   "source": [
    "data.loc[wards.apply(len) != 1, ['project_name', 'event_name', 'start_date', 'ward_(from_venue)']]"
   ]
  },
  {
   "cell_type": "markdown",
   "id": "45b48e18",
   "metadata": {
    "papermill": {
     "duration": 0.001222,
     "end_time": "2023-08-18T17:33:58.186086",
     "exception": false,
     "start_time": "2023-08-18T17:33:58.184864",
     "status": "completed"
    },
    "tags": []
   },
   "source": [
    "Missing audience"
   ]
  },
  {
   "cell_type": "code",
   "execution_count": 8,
   "id": "3408f3d6",
   "metadata": {
    "execution": {
     "iopub.execute_input": "2023-08-18T17:33:58.188941Z",
     "iopub.status.busy": "2023-08-18T17:33:58.188826Z",
     "iopub.status.idle": "2023-08-18T17:33:58.194965Z",
     "shell.execute_reply": "2023-08-18T17:33:58.194696Z"
    },
    "papermill": {
     "duration": 0.008338,
     "end_time": "2023-08-18T17:33:58.195585",
     "exception": false,
     "start_time": "2023-08-18T17:33:58.187247",
     "status": "completed"
    },
    "tags": []
   },
   "outputs": [
    {
     "data": {
      "text/html": [
       "<div>\n",
       "<style scoped>\n",
       "    .dataframe tbody tr th:only-of-type {\n",
       "        vertical-align: middle;\n",
       "    }\n",
       "\n",
       "    .dataframe tbody tr th {\n",
       "        vertical-align: top;\n",
       "    }\n",
       "\n",
       "    .dataframe thead th {\n",
       "        text-align: right;\n",
       "    }\n",
       "</style>\n",
       "<table border=\"1\" class=\"dataframe\">\n",
       "  <thead>\n",
       "    <tr style=\"text-align: right;\">\n",
       "      <th></th>\n",
       "      <th>project_name</th>\n",
       "      <th>event_name</th>\n",
       "      <th>start_date</th>\n",
       "      <th>audience</th>\n",
       "    </tr>\n",
       "  </thead>\n",
       "  <tbody>\n",
       "    <tr>\n",
       "      <th>0</th>\n",
       "      <td>01 - The Awakening</td>\n",
       "      <td>Ballot Facilitated Session - Carr Manor Commun...</td>\n",
       "      <td>2022-11-01</td>\n",
       "      <td>NaN</td>\n",
       "    </tr>\n",
       "    <tr>\n",
       "      <th>1</th>\n",
       "      <td>01 - The Awakening</td>\n",
       "      <td>Ballot Facilitated Session - Chapel Allerton P...</td>\n",
       "      <td>2022-11-07</td>\n",
       "      <td>NaN</td>\n",
       "    </tr>\n",
       "    <tr>\n",
       "      <th>2</th>\n",
       "      <td>01 - The Awakening</td>\n",
       "      <td>Ballot Facilitated Session - Cobden Primary Sc...</td>\n",
       "      <td>2022-11-09</td>\n",
       "      <td>NaN</td>\n",
       "    </tr>\n",
       "    <tr>\n",
       "      <th>3</th>\n",
       "      <td>01 - The Awakening</td>\n",
       "      <td>Ballot Facilitated Session - Cobden Primary Sc...</td>\n",
       "      <td>2022-11-10</td>\n",
       "      <td>NaN</td>\n",
       "    </tr>\n",
       "    <tr>\n",
       "      <th>4</th>\n",
       "      <td>01 - The Awakening</td>\n",
       "      <td>Ballot Facilitated Session - Cobden Primary Sc...</td>\n",
       "      <td>2022-11-18</td>\n",
       "      <td>NaN</td>\n",
       "    </tr>\n",
       "    <tr>\n",
       "      <th>...</th>\n",
       "      <td>...</td>\n",
       "      <td>...</td>\n",
       "      <td>...</td>\n",
       "      <td>...</td>\n",
       "    </tr>\n",
       "    <tr>\n",
       "      <th>229</th>\n",
       "      <td>My World My City My Neighbourhood</td>\n",
       "      <td>Lincoln Greeners - Festival Closing</td>\n",
       "      <td>2023-08-24</td>\n",
       "      <td>NaN</td>\n",
       "    </tr>\n",
       "    <tr>\n",
       "      <th>230</th>\n",
       "      <td>My World My City My Neighbourhood</td>\n",
       "      <td>Lincoln Greeners - Festival Opening</td>\n",
       "      <td>2023-05-21</td>\n",
       "      <td>NaN</td>\n",
       "    </tr>\n",
       "    <tr>\n",
       "      <th>231</th>\n",
       "      <td>My World My City My Neighbourhood</td>\n",
       "      <td>Stand and Be Counted Round Table</td>\n",
       "      <td>2023-04-24</td>\n",
       "      <td>NaN</td>\n",
       "    </tr>\n",
       "    <tr>\n",
       "      <th>232</th>\n",
       "      <td>My World My City My Neighbourhood</td>\n",
       "      <td>The Ginnel</td>\n",
       "      <td>2023-10-13</td>\n",
       "      <td>NaN</td>\n",
       "    </tr>\n",
       "    <tr>\n",
       "      <th>233</th>\n",
       "      <td>My World My City My Neighbourhood</td>\n",
       "      <td>The Path Between</td>\n",
       "      <td>2023-10-14</td>\n",
       "      <td>NaN</td>\n",
       "    </tr>\n",
       "  </tbody>\n",
       "</table>\n",
       "<p>178 rows × 4 columns</p>\n",
       "</div>"
      ],
      "text/plain": [
       "                          project_name  \\\n",
       "0                   01 - The Awakening   \n",
       "1                   01 - The Awakening   \n",
       "2                   01 - The Awakening   \n",
       "3                   01 - The Awakening   \n",
       "4                   01 - The Awakening   \n",
       "..                                 ...   \n",
       "229  My World My City My Neighbourhood   \n",
       "230  My World My City My Neighbourhood   \n",
       "231  My World My City My Neighbourhood   \n",
       "232  My World My City My Neighbourhood   \n",
       "233  My World My City My Neighbourhood   \n",
       "\n",
       "                                            event_name start_date  audience  \n",
       "0    Ballot Facilitated Session - Carr Manor Commun... 2022-11-01       NaN  \n",
       "1    Ballot Facilitated Session - Chapel Allerton P... 2022-11-07       NaN  \n",
       "2    Ballot Facilitated Session - Cobden Primary Sc... 2022-11-09       NaN  \n",
       "3    Ballot Facilitated Session - Cobden Primary Sc... 2022-11-10       NaN  \n",
       "4    Ballot Facilitated Session - Cobden Primary Sc... 2022-11-18       NaN  \n",
       "..                                                 ...        ...       ...  \n",
       "229                Lincoln Greeners - Festival Closing 2023-08-24       NaN  \n",
       "230                Lincoln Greeners - Festival Opening 2023-05-21       NaN  \n",
       "231                   Stand and Be Counted Round Table 2023-04-24       NaN  \n",
       "232                                         The Ginnel 2023-10-13       NaN  \n",
       "233                                   The Path Between 2023-10-14       NaN  \n",
       "\n",
       "[178 rows x 4 columns]"
      ]
     },
     "execution_count": 8,
     "metadata": {},
     "output_type": "execute_result"
    }
   ],
   "source": [
    "data.loc[data.audience.isna(), ['project_name', 'event_name', 'start_date', 'audience']]"
   ]
  },
  {
   "cell_type": "code",
   "execution_count": null,
   "id": "8ffa1e64",
   "metadata": {
    "papermill": {
     "duration": 0.001275,
     "end_time": "2023-08-18T17:33:58.198213",
     "exception": false,
     "start_time": "2023-08-18T17:33:58.196938",
     "status": "completed"
    },
    "tags": []
   },
   "outputs": [],
   "source": []
  },
  {
   "cell_type": "code",
   "execution_count": null,
   "id": "d7d55877",
   "metadata": {
    "papermill": {
     "duration": 0.001295,
     "end_time": "2023-08-18T17:33:58.200801",
     "exception": false,
     "start_time": "2023-08-18T17:33:58.199506",
     "status": "completed"
    },
    "tags": []
   },
   "outputs": [],
   "source": []
  }
 ],
 "metadata": {
  "kernelspec": {
   "display_name": "leeds-2023-YZF5GfJv",
   "language": "python",
   "name": "python3"
  },
  "language_info": {
   "codemirror_mode": {
    "name": "ipython",
    "version": 3
   },
   "file_extension": ".py",
   "mimetype": "text/x-python",
   "name": "python",
   "nbconvert_exporter": "python",
   "pygments_lexer": "ipython3",
   "version": "3.10.12"
  },
  "papermill": {
   "default_parameters": {},
   "duration": 6.049274,
   "end_time": "2023-08-18T17:33:58.417585",
   "environment_variables": {},
   "exception": null,
   "input_path": "transform.ipynb",
   "output_path": "../../../working/output/community-transform.ipynb",
   "parameters": {},
   "start_time": "2023-08-18T17:33:52.368311",
   "version": "2.4.0"
  }
 },
 "nbformat": 4,
 "nbformat_minor": 5
}