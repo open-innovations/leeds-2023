{
 "cells": [
  {
   "cell_type": "code",
   "execution_count": 1,
   "id": "9deea1e9",
   "metadata": {
    "execution": {
     "iopub.execute_input": "2023-12-19T23:38:26.762524Z",
     "iopub.status.busy": "2023-12-19T23:38:26.762123Z",
     "iopub.status.idle": "2023-12-19T23:38:26.998372Z",
     "shell.execute_reply": "2023-12-19T23:38:26.997809Z"
    },
    "papermill": {
     "duration": 0.241629,
     "end_time": "2023-12-19T23:38:26.999998",
     "exception": false,
     "start_time": "2023-12-19T23:38:26.758369",
     "status": "completed"
    },
    "tags": []
   },
   "outputs": [],
   "source": [
    "import sys\n",
    "from pathlib import Path\n",
    "\n",
    "import pandas as pd\n",
    "\n",
    "TOP_DIR = Path('../../../..').resolve()\n",
    "\n",
    "if str(TOP_DIR) not in sys.path: sys.path.append(str(TOP_DIR))"
   ]
  },
  {
   "cell_type": "code",
   "execution_count": 2,
   "id": "772f8f87",
   "metadata": {
    "execution": {
     "iopub.execute_input": "2023-12-19T23:38:27.006387Z",
     "iopub.status.busy": "2023-12-19T23:38:27.005899Z",
     "iopub.status.idle": "2023-12-19T23:38:33.923940Z",
     "shell.execute_reply": "2023-12-19T23:38:33.923220Z"
    },
    "papermill": {
     "duration": 6.922894,
     "end_time": "2023-12-19T23:38:33.925616",
     "exception": false,
     "start_time": "2023-12-19T23:38:27.002722",
     "status": "completed"
    },
    "tags": []
   },
   "outputs": [],
   "source": [
    "from lib.util.geo import postcode_formatter, postcode_to_ward_code"
   ]
  },
  {
   "cell_type": "code",
   "execution_count": 3,
   "id": "d5949fc6",
   "metadata": {
    "execution": {
     "iopub.execute_input": "2023-12-19T23:38:33.932532Z",
     "iopub.status.busy": "2023-12-19T23:38:33.932027Z",
     "iopub.status.idle": "2023-12-19T23:38:33.953882Z",
     "shell.execute_reply": "2023-12-19T23:38:33.953319Z"
    },
    "papermill": {
     "duration": 0.026789,
     "end_time": "2023-12-19T23:38:33.955183",
     "exception": false,
     "start_time": "2023-12-19T23:38:33.928394",
     "status": "completed"
    },
    "tags": []
   },
   "outputs": [],
   "source": [
    "ticket_data = pd.read_csv(\n",
    "    '../../../../working/metrics/ticketing/orders.csv',\n",
    "    parse_dates=['created_at', 'event_date'],\n",
    "    usecols=[\n",
    "        'created_at',\n",
    "        'event_id',\n",
    "        'event_name',\n",
    "        'event_date',\n",
    "        'event_time',\n",
    "        'number_of_tickets',\n",
    "        'postcode_from_question',\n",
    "        'postcode_from_address',\n",
    "        'status',\n",
    "    ]\n",
    ")"
   ]
  },
  {
   "cell_type": "code",
   "execution_count": 4,
   "id": "85399433",
   "metadata": {
    "execution": {
     "iopub.execute_input": "2023-12-19T23:38:33.961116Z",
     "iopub.status.busy": "2023-12-19T23:38:33.960654Z",
     "iopub.status.idle": "2023-12-19T23:38:33.969115Z",
     "shell.execute_reply": "2023-12-19T23:38:33.968593Z"
    },
    "papermill": {
     "duration": 0.012794,
     "end_time": "2023-12-19T23:38:33.970385",
     "exception": false,
     "start_time": "2023-12-19T23:38:33.957591",
     "status": "completed"
    },
    "tags": []
   },
   "outputs": [
    {
     "name": "stdout",
     "output_type": "stream",
     "text": [
      "<class 'pandas.core.frame.DataFrame'>\n",
      "RangeIndex: 6766 entries, 0 to 6765\n",
      "Data columns (total 9 columns):\n",
      " #   Column                  Non-Null Count  Dtype         \n",
      "---  ------                  --------------  -----         \n",
      " 0   postcode_from_question  6384 non-null   object        \n",
      " 1   postcode_from_address   854 non-null    object        \n",
      " 2   created_at              6766 non-null   datetime64[ns]\n",
      " 3   event_id                6766 non-null   object        \n",
      " 4   event_name              6766 non-null   object        \n",
      " 5   event_date              6766 non-null   datetime64[ns]\n",
      " 6   event_time              6766 non-null   object        \n",
      " 7   number_of_tickets       6766 non-null   int64         \n",
      " 8   status                  6766 non-null   object        \n",
      "dtypes: datetime64[ns](2), int64(1), object(6)\n",
      "memory usage: 475.9+ KB\n"
     ]
    }
   ],
   "source": [
    "ticket_data.info()"
   ]
  },
  {
   "cell_type": "code",
   "execution_count": 5,
   "id": "24bf7655",
   "metadata": {
    "execution": {
     "iopub.execute_input": "2023-12-19T23:38:33.976562Z",
     "iopub.status.busy": "2023-12-19T23:38:33.976187Z",
     "iopub.status.idle": "2023-12-19T23:38:33.980985Z",
     "shell.execute_reply": "2023-12-19T23:38:33.980481Z"
    },
    "papermill": {
     "duration": 0.009174,
     "end_time": "2023-12-19T23:38:33.982159",
     "exception": false,
     "start_time": "2023-12-19T23:38:33.972985",
     "status": "completed"
    },
    "tags": []
   },
   "outputs": [],
   "source": [
    "completed_orders = (\n",
    "    ticket_data.loc[\n",
    "        ~ticket_data.status.isin(['cancelled']),\n",
    "        ticket_data.columns\n",
    "    ]\n",
    ")"
   ]
  },
  {
   "cell_type": "code",
   "execution_count": 6,
   "id": "26abba40",
   "metadata": {
    "execution": {
     "iopub.execute_input": "2023-12-19T23:38:33.988426Z",
     "iopub.status.busy": "2023-12-19T23:38:33.987930Z",
     "iopub.status.idle": "2023-12-19T23:38:34.867012Z",
     "shell.execute_reply": "2023-12-19T23:38:34.866301Z"
    },
    "papermill": {
     "duration": 0.884071,
     "end_time": "2023-12-19T23:38:34.868811",
     "exception": false,
     "start_time": "2023-12-19T23:38:33.984740",
     "status": "completed"
    },
    "tags": []
   },
   "outputs": [],
   "source": [
    "completed_orders['ward_code'] = (\n",
    "    completed_orders\n",
    "        .loc[:, ['postcode_from_question', 'postcode_from_address']]\n",
    "        .bfill()\n",
    "        .iloc[:, 0]\n",
    "        .pipe(postcode_formatter)\n",
    "        .map(postcode_to_ward_code)\n",
    ")"
   ]
  },
  {
   "cell_type": "markdown",
   "id": "42ad6aff",
   "metadata": {
    "papermill": {
     "duration": 0.002628,
     "end_time": "2023-12-19T23:38:34.875073",
     "exception": false,
     "start_time": "2023-12-19T23:38:34.872445",
     "status": "completed"
    },
    "tags": []
   },
   "source": [
    "Get the events data"
   ]
  },
  {
   "cell_type": "code",
   "execution_count": 7,
   "id": "279e9c53",
   "metadata": {
    "execution": {
     "iopub.execute_input": "2023-12-19T23:38:34.881285Z",
     "iopub.status.busy": "2023-12-19T23:38:34.880874Z",
     "iopub.status.idle": "2023-12-19T23:38:34.896260Z",
     "shell.execute_reply": "2023-12-19T23:38:34.895718Z"
    },
    "papermill": {
     "duration": 0.019918,
     "end_time": "2023-12-19T23:38:34.897524",
     "exception": false,
     "start_time": "2023-12-19T23:38:34.877606",
     "status": "completed"
    },
    "tags": []
   },
   "outputs": [],
   "source": [
    "def prepare_events(data: pd.DataFrame):\n",
    "    data = data.rename(columns={\n",
    "        'Project name': 'project_name',\n",
    "        'Event type': 'event_type',\n",
    "        'Ticket Tailor ID': 'ticket_tailor_id'\n",
    "    })\n",
    "    data['public_event'] = data.event_type.str.contains('Public Event')\n",
    "    data['ticket_tailor_id'] = data.ticket_tailor_id.str.split(\n",
    "        pat=r'[\\s,]+', regex=True)\n",
    "    data = data.drop(columns=['event_type'])\n",
    "    data = data.explode('ticket_tailor_id')\n",
    "    data = data.loc[data.ticket_tailor_id.notna() & (data.ticket_tailor_id != '')]\n",
    "    return data\n",
    "\n",
    "\n",
    "events = pd.read_csv(\n",
    "    '../../../../working/metrics/events/all.csv',\n",
    "    usecols=[\n",
    "        'Project name',\n",
    "        'Event type',\n",
    "        'Ticket Tailor ID'\n",
    "    ]\n",
    ").pipe(prepare_events)"
   ]
  },
  {
   "cell_type": "markdown",
   "id": "c4b4f19b",
   "metadata": {
    "papermill": {
     "duration": 0.002509,
     "end_time": "2023-12-19T23:38:34.902677",
     "exception": false,
     "start_time": "2023-12-19T23:38:34.900168",
     "status": "completed"
    },
    "tags": []
   },
   "source": [
    "Duplicated ticket tailor IDs"
   ]
  },
  {
   "cell_type": "code",
   "execution_count": 8,
   "id": "43796c7a",
   "metadata": {
    "execution": {
     "iopub.execute_input": "2023-12-19T23:38:34.908843Z",
     "iopub.status.busy": "2023-12-19T23:38:34.908471Z",
     "iopub.status.idle": "2023-12-19T23:38:34.919891Z",
     "shell.execute_reply": "2023-12-19T23:38:34.919232Z"
    },
    "papermill": {
     "duration": 0.016036,
     "end_time": "2023-12-19T23:38:34.921273",
     "exception": false,
     "start_time": "2023-12-19T23:38:34.905237",
     "status": "completed"
    },
    "tags": []
   },
   "outputs": [
    {
     "data": {
      "text/html": [
       "<div>\n",
       "<style scoped>\n",
       "    .dataframe tbody tr th:only-of-type {\n",
       "        vertical-align: middle;\n",
       "    }\n",
       "\n",
       "    .dataframe tbody tr th {\n",
       "        vertical-align: top;\n",
       "    }\n",
       "\n",
       "    .dataframe thead th {\n",
       "        text-align: right;\n",
       "    }\n",
       "</style>\n",
       "<table border=\"1\" class=\"dataframe\">\n",
       "  <thead>\n",
       "    <tr style=\"text-align: right;\">\n",
       "      <th></th>\n",
       "      <th>project_name</th>\n",
       "      <th>ticket_tailor_id</th>\n",
       "      <th>public_event</th>\n",
       "    </tr>\n",
       "  </thead>\n",
       "  <tbody>\n",
       "    <tr>\n",
       "      <th>130</th>\n",
       "      <td>11 - All That Lives</td>\n",
       "      <td>985872</td>\n",
       "      <td>True</td>\n",
       "    </tr>\n",
       "    <tr>\n",
       "      <th>149</th>\n",
       "      <td>09 - Smeaton300: Moon Palace East Leeds Observ...</td>\n",
       "      <td>ev_2918127</td>\n",
       "      <td>True</td>\n",
       "    </tr>\n",
       "    <tr>\n",
       "      <th>175</th>\n",
       "      <td>11 - All That Lives</td>\n",
       "      <td>985872</td>\n",
       "      <td>True</td>\n",
       "    </tr>\n",
       "    <tr>\n",
       "      <th>271</th>\n",
       "      <td>Creative Learning S3</td>\n",
       "      <td>ev_3073624</td>\n",
       "      <td>False</td>\n",
       "    </tr>\n",
       "    <tr>\n",
       "      <th>333</th>\n",
       "      <td>11 - All That Lives</td>\n",
       "      <td>985872</td>\n",
       "      <td>True</td>\n",
       "    </tr>\n",
       "    <tr>\n",
       "      <th>647</th>\n",
       "      <td>11 - All That Lives</td>\n",
       "      <td>985872</td>\n",
       "      <td>True</td>\n",
       "    </tr>\n",
       "    <tr>\n",
       "      <th>940</th>\n",
       "      <td>07 - Children's Day</td>\n",
       "      <td>ev_2963290</td>\n",
       "      <td>NaN</td>\n",
       "    </tr>\n",
       "    <tr>\n",
       "      <th>940</th>\n",
       "      <td>07 - Children's Day</td>\n",
       "      <td>ev_2963290</td>\n",
       "      <td>NaN</td>\n",
       "    </tr>\n",
       "    <tr>\n",
       "      <th>940</th>\n",
       "      <td>07 - Children's Day</td>\n",
       "      <td>ev_2963295</td>\n",
       "      <td>NaN</td>\n",
       "    </tr>\n",
       "    <tr>\n",
       "      <th>940</th>\n",
       "      <td>07 - Children's Day</td>\n",
       "      <td>ev_2963297</td>\n",
       "      <td>NaN</td>\n",
       "    </tr>\n",
       "    <tr>\n",
       "      <th>940</th>\n",
       "      <td>07 - Children's Day</td>\n",
       "      <td>ev_2963295</td>\n",
       "      <td>NaN</td>\n",
       "    </tr>\n",
       "    <tr>\n",
       "      <th>940</th>\n",
       "      <td>07 - Children's Day</td>\n",
       "      <td>ev_2963296</td>\n",
       "      <td>NaN</td>\n",
       "    </tr>\n",
       "    <tr>\n",
       "      <th>940</th>\n",
       "      <td>07 - Children's Day</td>\n",
       "      <td>ev_2963296</td>\n",
       "      <td>NaN</td>\n",
       "    </tr>\n",
       "    <tr>\n",
       "      <th>940</th>\n",
       "      <td>07 - Children's Day</td>\n",
       "      <td>ev_2963297</td>\n",
       "      <td>NaN</td>\n",
       "    </tr>\n",
       "    <tr>\n",
       "      <th>984</th>\n",
       "      <td>11 - All That Lives</td>\n",
       "      <td>985872</td>\n",
       "      <td>True</td>\n",
       "    </tr>\n",
       "    <tr>\n",
       "      <th>1163</th>\n",
       "      <td>09 - Smeaton300: Moon Palace East Leeds Observ...</td>\n",
       "      <td>ev_2918127</td>\n",
       "      <td>True</td>\n",
       "    </tr>\n",
       "    <tr>\n",
       "      <th>1445</th>\n",
       "      <td>07 - Children's Day</td>\n",
       "      <td>ev_2963290</td>\n",
       "      <td>True</td>\n",
       "    </tr>\n",
       "    <tr>\n",
       "      <th>1445</th>\n",
       "      <td>07 - Children's Day</td>\n",
       "      <td>ev_2963295</td>\n",
       "      <td>True</td>\n",
       "    </tr>\n",
       "    <tr>\n",
       "      <th>1445</th>\n",
       "      <td>07 - Children's Day</td>\n",
       "      <td>ev_2963296</td>\n",
       "      <td>True</td>\n",
       "    </tr>\n",
       "    <tr>\n",
       "      <th>1445</th>\n",
       "      <td>07 - Children's Day</td>\n",
       "      <td>ev_2963297</td>\n",
       "      <td>True</td>\n",
       "    </tr>\n",
       "    <tr>\n",
       "      <th>1465</th>\n",
       "      <td>09 - Smeaton300: Moon Palace East Leeds Observ...</td>\n",
       "      <td>ev_2918127</td>\n",
       "      <td>True</td>\n",
       "    </tr>\n",
       "    <tr>\n",
       "      <th>1549</th>\n",
       "      <td>Creative Learning S3</td>\n",
       "      <td>ev_3073624</td>\n",
       "      <td>False</td>\n",
       "    </tr>\n",
       "  </tbody>\n",
       "</table>\n",
       "</div>"
      ],
      "text/plain": [
       "                                           project_name ticket_tailor_id  \\\n",
       "130                                 11 - All That Lives           985872   \n",
       "149   09 - Smeaton300: Moon Palace East Leeds Observ...       ev_2918127   \n",
       "175                                 11 - All That Lives           985872   \n",
       "271                                Creative Learning S3       ev_3073624   \n",
       "333                                 11 - All That Lives           985872   \n",
       "647                                 11 - All That Lives           985872   \n",
       "940                                 07 - Children's Day       ev_2963290   \n",
       "940                                 07 - Children's Day       ev_2963290   \n",
       "940                                 07 - Children's Day       ev_2963295   \n",
       "940                                 07 - Children's Day       ev_2963297   \n",
       "940                                 07 - Children's Day       ev_2963295   \n",
       "940                                 07 - Children's Day       ev_2963296   \n",
       "940                                 07 - Children's Day       ev_2963296   \n",
       "940                                 07 - Children's Day       ev_2963297   \n",
       "984                                 11 - All That Lives           985872   \n",
       "1163  09 - Smeaton300: Moon Palace East Leeds Observ...       ev_2918127   \n",
       "1445                                07 - Children's Day       ev_2963290   \n",
       "1445                                07 - Children's Day       ev_2963295   \n",
       "1445                                07 - Children's Day       ev_2963296   \n",
       "1445                                07 - Children's Day       ev_2963297   \n",
       "1465  09 - Smeaton300: Moon Palace East Leeds Observ...       ev_2918127   \n",
       "1549                               Creative Learning S3       ev_3073624   \n",
       "\n",
       "     public_event  \n",
       "130          True  \n",
       "149          True  \n",
       "175          True  \n",
       "271         False  \n",
       "333          True  \n",
       "647          True  \n",
       "940           NaN  \n",
       "940           NaN  \n",
       "940           NaN  \n",
       "940           NaN  \n",
       "940           NaN  \n",
       "940           NaN  \n",
       "940           NaN  \n",
       "940           NaN  \n",
       "984          True  \n",
       "1163         True  \n",
       "1445         True  \n",
       "1445         True  \n",
       "1445         True  \n",
       "1445         True  \n",
       "1465         True  \n",
       "1549        False  "
      ]
     },
     "execution_count": 8,
     "metadata": {},
     "output_type": "execute_result"
    }
   ],
   "source": [
    "events[\n",
    "  events.ticket_tailor_id.isin(\n",
    "    events.ticket_tailor_id[\n",
    "      events.ticket_tailor_id.duplicated()\n",
    "    ].to_list()\n",
    "  )\n",
    "]"
   ]
  },
  {
   "cell_type": "code",
   "execution_count": 9,
   "id": "36fed653",
   "metadata": {
    "execution": {
     "iopub.execute_input": "2023-12-19T23:38:34.927987Z",
     "iopub.status.busy": "2023-12-19T23:38:34.927621Z",
     "iopub.status.idle": "2023-12-19T23:38:34.931820Z",
     "shell.execute_reply": "2023-12-19T23:38:34.931177Z"
    },
    "papermill": {
     "duration": 0.008941,
     "end_time": "2023-12-19T23:38:34.933121",
     "exception": false,
     "start_time": "2023-12-19T23:38:34.924180",
     "status": "completed"
    },
    "tags": []
   },
   "outputs": [
    {
     "data": {
      "text/plain": [
       "6593"
      ]
     },
     "execution_count": 9,
     "metadata": {},
     "output_type": "execute_result"
    }
   ],
   "source": [
    "len(completed_orders)"
   ]
  },
  {
   "cell_type": "code",
   "execution_count": 10,
   "id": "de25427e",
   "metadata": {
    "execution": {
     "iopub.execute_input": "2023-12-19T23:38:34.940174Z",
     "iopub.status.busy": "2023-12-19T23:38:34.939694Z",
     "iopub.status.idle": "2023-12-19T23:38:34.947127Z",
     "shell.execute_reply": "2023-12-19T23:38:34.946629Z"
    },
    "papermill": {
     "duration": 0.012389,
     "end_time": "2023-12-19T23:38:34.948467",
     "exception": false,
     "start_time": "2023-12-19T23:38:34.936078",
     "status": "completed"
    },
    "tags": []
   },
   "outputs": [],
   "source": [
    "completed_orders = completed_orders.merge(\n",
    "    events.drop_duplicates().set_index('ticket_tailor_id'),\n",
    "    left_on='event_id',\n",
    "    right_index=True,\n",
    "    how='left'\n",
    ")"
   ]
  },
  {
   "cell_type": "code",
   "execution_count": 11,
   "id": "bbffd797",
   "metadata": {
    "execution": {
     "iopub.execute_input": "2023-12-19T23:38:34.955282Z",
     "iopub.status.busy": "2023-12-19T23:38:34.955104Z",
     "iopub.status.idle": "2023-12-19T23:38:34.958942Z",
     "shell.execute_reply": "2023-12-19T23:38:34.958349Z"
    },
    "papermill": {
     "duration": 0.008746,
     "end_time": "2023-12-19T23:38:34.960252",
     "exception": false,
     "start_time": "2023-12-19T23:38:34.951506",
     "status": "completed"
    },
    "tags": []
   },
   "outputs": [
    {
     "data": {
      "text/plain": [
       "6601"
      ]
     },
     "execution_count": 11,
     "metadata": {},
     "output_type": "execute_result"
    }
   ],
   "source": [
    "len(completed_orders)"
   ]
  },
  {
   "cell_type": "code",
   "execution_count": 12,
   "id": "2bb78321",
   "metadata": {
    "execution": {
     "iopub.execute_input": "2023-12-19T23:38:34.967405Z",
     "iopub.status.busy": "2023-12-19T23:38:34.967000Z",
     "iopub.status.idle": "2023-12-19T23:38:34.970051Z",
     "shell.execute_reply": "2023-12-19T23:38:34.969517Z"
    },
    "papermill": {
     "duration": 0.008012,
     "end_time": "2023-12-19T23:38:34.971297",
     "exception": false,
     "start_time": "2023-12-19T23:38:34.963285",
     "status": "completed"
    },
    "tags": []
   },
   "outputs": [],
   "source": [
    "OUTPUT_DIR = TOP_DIR.joinpath('data/metrics/events/tickets/')\n",
    "OUTPUT_DIR.mkdir(parents=True, exist_ok=True)"
   ]
  },
  {
   "cell_type": "code",
   "execution_count": 13,
   "id": "2f40cc0d",
   "metadata": {
    "execution": {
     "iopub.execute_input": "2023-12-19T23:38:34.978736Z",
     "iopub.status.busy": "2023-12-19T23:38:34.978384Z",
     "iopub.status.idle": "2023-12-19T23:38:35.004368Z",
     "shell.execute_reply": "2023-12-19T23:38:35.003748Z"
    },
    "papermill": {
     "duration": 0.031131,
     "end_time": "2023-12-19T23:38:35.005681",
     "exception": false,
     "start_time": "2023-12-19T23:38:34.974550",
     "status": "completed"
    },
    "tags": []
   },
   "outputs": [],
   "source": [
    "completed_orders.loc[:, [\n",
    "    'created_at',\n",
    "    'event_id',\n",
    "    'event_date',\n",
    "    'number_of_tickets',\n",
    "    'ward_code',\n",
    "    'project_name',\n",
    "    'public_event',\n",
    "]].sort_values(['created_at', 'event_id']).to_csv(\n",
    "  OUTPUT_DIR.joinpath('orders.csv'),\n",
    "  index=False\n",
    ")"
   ]
  },
  {
   "cell_type": "code",
   "execution_count": 14,
   "id": "e13b7632",
   "metadata": {
    "execution": {
     "iopub.execute_input": "2023-12-19T23:38:35.013026Z",
     "iopub.status.busy": "2023-12-19T23:38:35.012630Z",
     "iopub.status.idle": "2023-12-19T23:38:35.021307Z",
     "shell.execute_reply": "2023-12-19T23:38:35.020816Z"
    },
    "papermill": {
     "duration": 0.013731,
     "end_time": "2023-12-19T23:38:35.022567",
     "exception": false,
     "start_time": "2023-12-19T23:38:35.008836",
     "status": "completed"
    },
    "tags": []
   },
   "outputs": [],
   "source": [
    "(\n",
    "    completed_orders.loc[:, ['event_date', 'event_time', 'event_name', 'event_id', 'project_name', 'public_event']]\n",
    "      .drop_duplicates()\n",
    "      .sort_values(['event_date', 'event_time'])\n",
    "      .to_csv('../../../../data/metrics/events/tickets/events.csv', index=False)\n",
    ")"
   ]
  },
  {
   "cell_type": "code",
   "execution_count": 15,
   "id": "ea9c4986",
   "metadata": {
    "execution": {
     "iopub.execute_input": "2023-12-19T23:38:35.029834Z",
     "iopub.status.busy": "2023-12-19T23:38:35.029431Z",
     "iopub.status.idle": "2023-12-19T23:38:35.725941Z",
     "shell.execute_reply": "2023-12-19T23:38:35.725289Z"
    },
    "papermill": {
     "duration": 0.701594,
     "end_time": "2023-12-19T23:38:35.727305",
     "exception": false,
     "start_time": "2023-12-19T23:38:35.025711",
     "status": "completed"
    },
    "tags": []
   },
   "outputs": [
    {
     "data": {
      "image/png": "[encoded data removed]",
      "text/plain": [
       "<Figure size 640x480 with 1 Axes>"
      ]
     },
     "metadata": {},
     "output_type": "display_data"
    }
   ],
   "source": [
    "chart = completed_orders.groupby(['project_name']).number_of_tickets.sum().sort_values().plot.barh()"
   ]
  },
  {
   "cell_type": "code",
   "execution_count": 16,
   "id": "10047893",
   "metadata": {
    "execution": {
     "iopub.execute_input": "2023-12-19T23:38:35.736314Z",
     "iopub.status.busy": "2023-12-19T23:38:35.735765Z",
     "iopub.status.idle": "2023-12-19T23:38:35.878572Z",
     "shell.execute_reply": "2023-12-19T23:38:35.877949Z"
    },
    "papermill": {
     "duration": 0.148667,
     "end_time": "2023-12-19T23:38:35.879923",
     "exception": false,
     "start_time": "2023-12-19T23:38:35.731256",
     "status": "completed"
    },
    "tags": []
   },
   "outputs": [
    {
     "data": {
      "image/png": "[encoded data removed]",
      "text/plain": [
       "<Figure size 640x480 with 1 Axes>"
      ]
     },
     "metadata": {},
     "output_type": "display_data"
    }
   ],
   "source": [
    "chart = completed_orders.groupby([\n",
    "    'event_date'\n",
    "    ]).number_of_tickets.sum().resample('M').sum().cumsum().plot.bar()"
   ]
  },
  {
   "cell_type": "code",
   "execution_count": null,
   "id": "b480e9a5",
   "metadata": {
    "papermill": {
     "duration": 0.005294,
     "end_time": "2023-12-19T23:38:35.889461",
     "exception": false,
     "start_time": "2023-12-19T23:38:35.884167",
     "status": "completed"
    },
    "tags": []
   },
   "outputs": [],
   "source": []
  }
 ],
 "metadata": {
  "kernelspec": {
   "display_name": "leeds-2023-YZF5GfJv",
   "language": "python",
   "name": "python3"
  },
  "language_info": {
   "codemirror_mode": {
    "name": "ipython",
    "version": 3
   },
   "file_extension": ".py",
   "mimetype": "text/x-python",
   "name": "python",
   "nbconvert_exporter": "python",
   "pygments_lexer": "ipython3",
   "version": "3.10.13"
  },
  "papermill": {
   "default_parameters": {},
   "duration": 10.731712,
   "end_time": "2023-12-19T23:38:36.209756",
   "environment_variables": {},
   "exception": null,
   "input_path": "tickets.ipynb",
   "output_path": "../../../../working/output/tickets-transform.ipynb",
   "parameters": {},
   "start_time": "2023-12-19T23:38:25.478044",
   "version": "2.4.0"
  }
 },
 "nbformat": 4,
 "nbformat_minor": 5
}