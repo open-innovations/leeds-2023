{
 "cells": [
  {
   "cell_type": "code",
   "execution_count": 1,
   "id": "ef9b583b",
   "metadata": {
    "execution": {
     "iopub.execute_input": "2023-11-27T23:41:06.785761Z",
     "iopub.status.busy": "2023-11-27T23:41:06.785268Z",
     "iopub.status.idle": "2023-11-27T23:41:13.880964Z",
     "shell.execute_reply": "2023-11-27T23:41:13.880295Z"
    },
    "papermill": {
     "duration": 7.100661,
     "end_time": "2023-11-27T23:41:13.882650",
     "exception": false,
     "start_time": "2023-11-27T23:41:06.781989",
     "status": "completed"
    },
    "tags": []
   },
   "outputs": [],
   "source": [
    "import os\n",
    "import pandas as pd\n",
    "from events import load_event_data, get_first_ward, normalise_ward"
   ]
  },
  {
   "cell_type": "code",
   "execution_count": 2,
   "id": "5fe12c4a",
   "metadata": {
    "execution": {
     "iopub.execute_input": "2023-11-27T23:41:13.887882Z",
     "iopub.status.busy": "2023-11-27T23:41:13.887659Z",
     "iopub.status.idle": "2023-11-27T23:41:13.891276Z",
     "shell.execute_reply": "2023-11-27T23:41:13.890728Z"
    },
    "papermill": {
     "duration": 0.00778,
     "end_time": "2023-11-27T23:41:13.892659",
     "exception": false,
     "start_time": "2023-11-27T23:41:13.884879",
     "status": "completed"
    },
    "tags": []
   },
   "outputs": [],
   "source": [
    "latest_date = pd.Timestamp.today().ceil('D')"
   ]
  },
  {
   "cell_type": "code",
   "execution_count": 3,
   "id": "8c1a307d",
   "metadata": {
    "execution": {
     "iopub.execute_input": "2023-11-27T23:41:13.897501Z",
     "iopub.status.busy": "2023-11-27T23:41:13.897053Z",
     "iopub.status.idle": "2023-11-27T23:41:13.911360Z",
     "shell.execute_reply": "2023-11-27T23:41:13.910749Z"
    },
    "papermill": {
     "duration": 0.018493,
     "end_time": "2023-11-27T23:41:13.912952",
     "exception": false,
     "start_time": "2023-11-27T23:41:13.894459",
     "status": "completed"
    },
    "tags": []
   },
   "outputs": [],
   "source": [
    "tickets = pd.read_csv('../../../../data/metrics/events/tickets/orders.csv', parse_dates=['created_at', 'event_date'])\n",
    "tickets = tickets[tickets.event_date <= latest_date]"
   ]
  },
  {
   "cell_type": "code",
   "execution_count": 4,
   "id": "91a9a7d9",
   "metadata": {
    "execution": {
     "iopub.execute_input": "2023-11-27T23:41:13.917839Z",
     "iopub.status.busy": "2023-11-27T23:41:13.917389Z",
     "iopub.status.idle": "2023-11-27T23:41:13.967988Z",
     "shell.execute_reply": "2023-11-27T23:41:13.967345Z"
    },
    "papermill": {
     "duration": 0.054605,
     "end_time": "2023-11-27T23:41:13.969398",
     "exception": false,
     "start_time": "2023-11-27T23:41:13.914793",
     "status": "completed"
    },
    "tags": []
   },
   "outputs": [],
   "source": [
    "events = load_event_data()\n",
    "\n",
    "events = pd.concat([\n",
    "  events,\n",
    "  events.pipe(get_first_ward).pipe(normalise_ward).fillna('UNKNOWN'),\n",
    "  pd.Series(\n",
    "      events.actual_audience_size_number_of_participants_in_person + events.actual_audience_size_number_of_participants_online,\n",
    "      name='attendances'\n",
    "  )\n",
    "], axis=1).rename(columns={\n",
    "    'start_date': 'date'\n",
    "}).loc[:, ['ward_code', 'date', 'event_unique_identifier', 'attendances']]"
   ]
  },
  {
   "cell_type": "code",
   "execution_count": 5,
   "id": "a9c93851",
   "metadata": {
    "execution": {
     "iopub.execute_input": "2023-11-27T23:41:13.974203Z",
     "iopub.status.busy": "2023-11-27T23:41:13.973826Z",
     "iopub.status.idle": "2023-11-27T23:41:13.976870Z",
     "shell.execute_reply": "2023-11-27T23:41:13.976273Z"
    },
    "papermill": {
     "duration": 0.006896,
     "end_time": "2023-11-27T23:41:13.978175",
     "exception": false,
     "start_time": "2023-11-27T23:41:13.971279",
     "status": "completed"
    },
    "tags": []
   },
   "outputs": [],
   "source": [
    "OUTPUT_DIR='../../../../docs/metrics/events/signature/_data/'\n",
    "os.makedirs(OUTPUT_DIR, exist_ok=True)"
   ]
  },
  {
   "cell_type": "markdown",
   "id": "eef18820",
   "metadata": {
    "papermill": {
     "duration": 0.00194,
     "end_time": "2023-11-27T23:41:13.982026",
     "exception": false,
     "start_time": "2023-11-27T23:41:13.980086",
     "status": "completed"
    },
    "tags": []
   },
   "source": [
    "Events CSVs"
   ]
  },
  {
   "cell_type": "code",
   "execution_count": 6,
   "id": "6627b929",
   "metadata": {
    "execution": {
     "iopub.execute_input": "2023-11-27T23:41:13.986814Z",
     "iopub.status.busy": "2023-11-27T23:41:13.986411Z",
     "iopub.status.idle": "2023-11-27T23:41:13.992052Z",
     "shell.execute_reply": "2023-11-27T23:41:13.991550Z"
    },
    "papermill": {
     "duration": 0.009429,
     "end_time": "2023-11-27T23:41:13.993326",
     "exception": false,
     "start_time": "2023-11-27T23:41:13.983897",
     "status": "completed"
    },
    "tags": []
   },
   "outputs": [],
   "source": [
    "pd.DataFrame({\n",
    "  'events': events.groupby('ward_code').event_unique_identifier.count(),\n",
    "  'attendances': events.groupby('ward_code').attendances.sum().astype(int),\n",
    "}).to_csv(os.path.join(OUTPUT_DIR, 'events_by_ward.csv'))\n"
   ]
  },
  {
   "cell_type": "code",
   "execution_count": 7,
   "id": "5801147e",
   "metadata": {
    "execution": {
     "iopub.execute_input": "2023-11-27T23:41:13.998318Z",
     "iopub.status.busy": "2023-11-27T23:41:13.997961Z",
     "iopub.status.idle": "2023-11-27T23:41:14.005606Z",
     "shell.execute_reply": "2023-11-27T23:41:14.005109Z"
    },
    "papermill": {
     "duration": 0.011479,
     "end_time": "2023-11-27T23:41:14.006842",
     "exception": false,
     "start_time": "2023-11-27T23:41:13.995363",
     "status": "completed"
    },
    "tags": []
   },
   "outputs": [],
   "source": [
    "pd.DataFrame({\n",
    "  'events': events.groupby('date').event_unique_identifier.count(),\n",
    "  'attendances': events.groupby('date').attendances.sum().astype(int),\n",
    "}).resample('M').sum().astype(int).to_csv(os.path.join(OUTPUT_DIR, 'events_by_date.csv'))"
   ]
  },
  {
   "cell_type": "markdown",
   "id": "4fdc2c98",
   "metadata": {
    "papermill": {
     "duration": 0.002783,
     "end_time": "2023-11-27T23:41:14.011606",
     "exception": false,
     "start_time": "2023-11-27T23:41:14.008823",
     "status": "completed"
    },
    "tags": []
   },
   "source": [
    "Tickets CSV"
   ]
  },
  {
   "cell_type": "code",
   "execution_count": 8,
   "id": "c8fe9416",
   "metadata": {
    "execution": {
     "iopub.execute_input": "2023-11-27T23:41:14.016425Z",
     "iopub.status.busy": "2023-11-27T23:41:14.016075Z",
     "iopub.status.idle": "2023-11-27T23:41:14.022328Z",
     "shell.execute_reply": "2023-11-27T23:41:14.021830Z"
    },
    "papermill": {
     "duration": 0.010087,
     "end_time": "2023-11-27T23:41:14.023651",
     "exception": false,
     "start_time": "2023-11-27T23:41:14.013564",
     "status": "completed"
    },
    "tags": []
   },
   "outputs": [],
   "source": [
    "pd.DataFrame({\n",
    "  'orders': tickets.groupby('ward_code').number_of_tickets.count(),\n",
    "  'tickets': tickets.groupby('ward_code').number_of_tickets.sum().astype(int),\n",
    "}).to_csv(os.path.join(OUTPUT_DIR, 'tickets_by_ward.csv'))"
   ]
  },
  {
   "cell_type": "code",
   "execution_count": 9,
   "id": "b2d0fce3",
   "metadata": {
    "execution": {
     "iopub.execute_input": "2023-11-27T23:41:14.028698Z",
     "iopub.status.busy": "2023-11-27T23:41:14.028282Z",
     "iopub.status.idle": "2023-11-27T23:41:14.035239Z",
     "shell.execute_reply": "2023-11-27T23:41:14.034630Z"
    },
    "papermill": {
     "duration": 0.010829,
     "end_time": "2023-11-27T23:41:14.036511",
     "exception": false,
     "start_time": "2023-11-27T23:41:14.025682",
     "status": "completed"
    },
    "tags": []
   },
   "outputs": [],
   "source": [
    "pd.DataFrame({\n",
    "  'orders': tickets.groupby('event_date').number_of_tickets.count(),\n",
    "  'tickets': tickets.groupby('event_date').number_of_tickets.sum().astype(int),\n",
    "}).resample('M').sum().to_csv(os.path.join(OUTPUT_DIR, 'tickets_by_event_date.csv'))"
   ]
  },
  {
   "cell_type": "code",
   "execution_count": 10,
   "id": "14a8461c",
   "metadata": {
    "execution": {
     "iopub.execute_input": "2023-11-27T23:41:14.041561Z",
     "iopub.status.busy": "2023-11-27T23:41:14.041217Z",
     "iopub.status.idle": "2023-11-27T23:41:14.045955Z",
     "shell.execute_reply": "2023-11-27T23:41:14.045349Z"
    },
    "papermill": {
     "duration": 0.008816,
     "end_time": "2023-11-27T23:41:14.047326",
     "exception": false,
     "start_time": "2023-11-27T23:41:14.038510",
     "status": "completed"
    },
    "tags": []
   },
   "outputs": [],
   "source": [
    "pd.Series({\n",
    "    'total_events': events.event_unique_identifier.count(),\n",
    "    'total_attendances': events.attendances.count(),\n",
    "    'first_event': events.date.min(),\n",
    "    'latest_event': events.date.max(),\n",
    "    'total_ticket_orders_for_events_to_date': tickets.number_of_tickets.count(),\n",
    "    'total_tickets_sold_for_events_to_date': tickets.number_of_tickets.sum(),\n",
    "}).to_json(os.path.join(OUTPUT_DIR, 'headlines.json'), indent=2)"
   ]
  },
  {
   "cell_type": "code",
   "execution_count": null,
   "id": "1114ef40",
   "metadata": {
    "papermill": {
     "duration": 0.001995,
     "end_time": "2023-11-27T23:41:14.051367",
     "exception": false,
     "start_time": "2023-11-27T23:41:14.049372",
     "status": "completed"
    },
    "tags": []
   },
   "outputs": [],
   "source": []
  }
 ],
 "metadata": {
  "kernelspec": {
   "display_name": "leeds-2023-YZF5GfJv",
   "language": "python",
   "name": "python3"
  },
  "language_info": {
   "codemirror_mode": {
    "name": "ipython",
    "version": 3
   },
   "file_extension": ".py",
   "mimetype": "text/x-python",
   "name": "python",
   "nbconvert_exporter": "python",
   "pygments_lexer": "ipython3",
   "version": "3.10.13"
  },
  "papermill": {
   "default_parameters": {},
   "duration": 8.755598,
   "end_time": "2023-11-27T23:41:14.269885",
   "environment_variables": {},
   "exception": null,
   "input_path": "prepare.ipynb",
   "output_path": "../../../../working/output/signature-prepare.ipynb",
   "parameters": {},
   "start_time": "2023-11-27T23:41:05.514287",
   "version": "2.4.0"
  }
 },
 "nbformat": 4,
 "nbformat_minor": 5
}