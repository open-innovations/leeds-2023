{
 "cells": [
  {
   "cell_type": "code",
   "execution_count": 1,
   "id": "880eb77b",
   "metadata": {
    "execution": {
     "iopub.execute_input": "2023-12-25T23:40:16.911634Z",
     "iopub.status.busy": "2023-12-25T23:40:16.911271Z",
     "iopub.status.idle": "2023-12-25T23:40:23.977596Z",
     "shell.execute_reply": "2023-12-25T23:40:23.976859Z"
    },
    "papermill": {
     "duration": 7.071152,
     "end_time": "2023-12-25T23:40:23.979368",
     "exception": false,
     "start_time": "2023-12-25T23:40:16.908216",
     "status": "completed"
    },
    "tags": []
   },
   "outputs": [],
   "source": [
    "import os\n",
    "import pandas as pd\n",
    "from events import load_event_data, get_first_ward, normalise_ward"
   ]
  },
  {
   "cell_type": "code",
   "execution_count": 2,
   "id": "f7ce4630",
   "metadata": {
    "execution": {
     "iopub.execute_input": "2023-12-25T23:40:23.984701Z",
     "iopub.status.busy": "2023-12-25T23:40:23.984285Z",
     "iopub.status.idle": "2023-12-25T23:40:23.987845Z",
     "shell.execute_reply": "2023-12-25T23:40:23.987313Z"
    },
    "papermill": {
     "duration": 0.007531,
     "end_time": "2023-12-25T23:40:23.989115",
     "exception": false,
     "start_time": "2023-12-25T23:40:23.981584",
     "status": "completed"
    },
    "tags": []
   },
   "outputs": [],
   "source": [
    "latest_date = pd.Timestamp.today().ceil('D')"
   ]
  },
  {
   "cell_type": "code",
   "execution_count": 3,
   "id": "de62d665",
   "metadata": {
    "execution": {
     "iopub.execute_input": "2023-12-25T23:40:23.993892Z",
     "iopub.status.busy": "2023-12-25T23:40:23.993505Z",
     "iopub.status.idle": "2023-12-25T23:40:24.010789Z",
     "shell.execute_reply": "2023-12-25T23:40:24.010252Z"
    },
    "papermill": {
     "duration": 0.02108,
     "end_time": "2023-12-25T23:40:24.012049",
     "exception": false,
     "start_time": "2023-12-25T23:40:23.990969",
     "status": "completed"
    },
    "tags": []
   },
   "outputs": [],
   "source": [
    "tickets = pd.read_csv('../../../../data/metrics/events/tickets/orders.csv', parse_dates=['created_at', 'event_date'])\n",
    "tickets = tickets[tickets.event_date <= latest_date]"
   ]
  },
  {
   "cell_type": "code",
   "execution_count": 4,
   "id": "b58b46bf",
   "metadata": {
    "execution": {
     "iopub.execute_input": "2023-12-25T23:40:24.016774Z",
     "iopub.status.busy": "2023-12-25T23:40:24.016318Z",
     "iopub.status.idle": "2023-12-25T23:40:24.069882Z",
     "shell.execute_reply": "2023-12-25T23:40:24.069256Z"
    },
    "papermill": {
     "duration": 0.0574,
     "end_time": "2023-12-25T23:40:24.071271",
     "exception": false,
     "start_time": "2023-12-25T23:40:24.013871",
     "status": "completed"
    },
    "tags": []
   },
   "outputs": [],
   "source": [
    "events = load_event_data()\n",
    "\n",
    "events = pd.concat([\n",
    "  events,\n",
    "  events.pipe(get_first_ward).pipe(normalise_ward).fillna('UNKNOWN'),\n",
    "  pd.Series(\n",
    "      events.actual_audience_size_number_of_participants_in_person + events.actual_audience_size_number_of_participants_online,\n",
    "      name='attendances'\n",
    "  )\n",
    "], axis=1).rename(columns={\n",
    "    'start_date': 'date'\n",
    "}).loc[:, ['ward_code', 'date', 'event_unique_identifier', 'attendances']]"
   ]
  },
  {
   "cell_type": "code",
   "execution_count": 5,
   "id": "f3c93dde",
   "metadata": {
    "execution": {
     "iopub.execute_input": "2023-12-25T23:40:24.075899Z",
     "iopub.status.busy": "2023-12-25T23:40:24.075690Z",
     "iopub.status.idle": "2023-12-25T23:40:24.078877Z",
     "shell.execute_reply": "2023-12-25T23:40:24.078143Z"
    },
    "papermill": {
     "duration": 0.007049,
     "end_time": "2023-12-25T23:40:24.080174",
     "exception": false,
     "start_time": "2023-12-25T23:40:24.073125",
     "status": "completed"
    },
    "tags": []
   },
   "outputs": [],
   "source": [
    "OUTPUT_DIR='../../../../docs/metrics/events/signature/_data/'\n",
    "os.makedirs(OUTPUT_DIR, exist_ok=True)"
   ]
  },
  {
   "cell_type": "markdown",
   "id": "205aad49",
   "metadata": {
    "papermill": {
     "duration": 0.001976,
     "end_time": "2023-12-25T23:40:24.084110",
     "exception": false,
     "start_time": "2023-12-25T23:40:24.082134",
     "status": "completed"
    },
    "tags": []
   },
   "source": [
    "Events CSVs"
   ]
  },
  {
   "cell_type": "code",
   "execution_count": 6,
   "id": "3562f69e",
   "metadata": {
    "execution": {
     "iopub.execute_input": "2023-12-25T23:40:24.088759Z",
     "iopub.status.busy": "2023-12-25T23:40:24.088534Z",
     "iopub.status.idle": "2023-12-25T23:40:24.094666Z",
     "shell.execute_reply": "2023-12-25T23:40:24.094044Z"
    },
    "papermill": {
     "duration": 0.010175,
     "end_time": "2023-12-25T23:40:24.096144",
     "exception": false,
     "start_time": "2023-12-25T23:40:24.085969",
     "status": "completed"
    },
    "tags": []
   },
   "outputs": [],
   "source": [
    "pd.DataFrame({\n",
    "  'events': events.groupby('ward_code').event_unique_identifier.count(),\n",
    "  'attendances': events.groupby('ward_code').attendances.sum().astype(int),\n",
    "}).to_csv(os.path.join(OUTPUT_DIR, 'events_by_ward.csv'))\n"
   ]
  },
  {
   "cell_type": "code",
   "execution_count": 7,
   "id": "ace3db0c",
   "metadata": {
    "execution": {
     "iopub.execute_input": "2023-12-25T23:40:24.100883Z",
     "iopub.status.busy": "2023-12-25T23:40:24.100539Z",
     "iopub.status.idle": "2023-12-25T23:40:24.108086Z",
     "shell.execute_reply": "2023-12-25T23:40:24.107454Z"
    },
    "papermill": {
     "duration": 0.0114,
     "end_time": "2023-12-25T23:40:24.109438",
     "exception": false,
     "start_time": "2023-12-25T23:40:24.098038",
     "status": "completed"
    },
    "tags": []
   },
   "outputs": [],
   "source": [
    "pd.DataFrame({\n",
    "  'events': events.groupby('date').event_unique_identifier.count(),\n",
    "  'attendances': events.groupby('date').attendances.sum().astype(int),\n",
    "}).resample('M').sum().astype(int).to_csv(os.path.join(OUTPUT_DIR, 'events_by_date.csv'))"
   ]
  },
  {
   "cell_type": "markdown",
   "id": "e1de7d68",
   "metadata": {
    "papermill": {
     "duration": 0.002622,
     "end_time": "2023-12-25T23:40:24.114045",
     "exception": false,
     "start_time": "2023-12-25T23:40:24.111423",
     "status": "completed"
    },
    "tags": []
   },
   "source": [
    "Tickets CSV"
   ]
  },
  {
   "cell_type": "code",
   "execution_count": 8,
   "id": "00b7abdb",
   "metadata": {
    "execution": {
     "iopub.execute_input": "2023-12-25T23:40:24.118855Z",
     "iopub.status.busy": "2023-12-25T23:40:24.118497Z",
     "iopub.status.idle": "2023-12-25T23:40:24.124824Z",
     "shell.execute_reply": "2023-12-25T23:40:24.124329Z"
    },
    "papermill": {
     "duration": 0.010066,
     "end_time": "2023-12-25T23:40:24.126050",
     "exception": false,
     "start_time": "2023-12-25T23:40:24.115984",
     "status": "completed"
    },
    "tags": []
   },
   "outputs": [],
   "source": [
    "pd.DataFrame({\n",
    "  'orders': tickets.groupby('ward_code').number_of_tickets.count(),\n",
    "  'tickets': tickets.groupby('ward_code').number_of_tickets.sum().astype(int),\n",
    "}).to_csv(os.path.join(OUTPUT_DIR, 'tickets_by_ward.csv'))"
   ]
  },
  {
   "cell_type": "code",
   "execution_count": 9,
   "id": "aa9da810",
   "metadata": {
    "execution": {
     "iopub.execute_input": "2023-12-25T23:40:24.131064Z",
     "iopub.status.busy": "2023-12-25T23:40:24.130712Z",
     "iopub.status.idle": "2023-12-25T23:40:24.137507Z",
     "shell.execute_reply": "2023-12-25T23:40:24.136896Z"
    },
    "papermill": {
     "duration": 0.010809,
     "end_time": "2023-12-25T23:40:24.138871",
     "exception": false,
     "start_time": "2023-12-25T23:40:24.128062",
     "status": "completed"
    },
    "tags": []
   },
   "outputs": [],
   "source": [
    "pd.DataFrame({\n",
    "  'orders': tickets.groupby('event_date').number_of_tickets.count(),\n",
    "  'tickets': tickets.groupby('event_date').number_of_tickets.sum().astype(int),\n",
    "}).resample('M').sum().to_csv(os.path.join(OUTPUT_DIR, 'tickets_by_event_date.csv'))"
   ]
  },
  {
   "cell_type": "code",
   "execution_count": 10,
   "id": "74d91e78",
   "metadata": {
    "execution": {
     "iopub.execute_input": "2023-12-25T23:40:24.143969Z",
     "iopub.status.busy": "2023-12-25T23:40:24.143578Z",
     "iopub.status.idle": "2023-12-25T23:40:24.148221Z",
     "shell.execute_reply": "2023-12-25T23:40:24.147604Z"
    },
    "papermill": {
     "duration": 0.008645,
     "end_time": "2023-12-25T23:40:24.149520",
     "exception": false,
     "start_time": "2023-12-25T23:40:24.140875",
     "status": "completed"
    },
    "tags": []
   },
   "outputs": [],
   "source": [
    "pd.Series({\n",
    "    'total_events': events.event_unique_identifier.count(),\n",
    "    'total_attendances': events.attendances.count(),\n",
    "    'first_event': events.date.min(),\n",
    "    'latest_event': events.date.max(),\n",
    "    'total_ticket_orders_for_events_to_date': tickets.number_of_tickets.count(),\n",
    "    'total_tickets_sold_for_events_to_date': tickets.number_of_tickets.sum(),\n",
    "}).to_json(os.path.join(OUTPUT_DIR, 'headlines.json'), indent=2)"
   ]
  },
  {
   "cell_type": "code",
   "execution_count": null,
   "id": "78b2900e",
   "metadata": {
    "papermill": {
     "duration": 0.001967,
     "end_time": "2023-12-25T23:40:24.153549",
     "exception": false,
     "start_time": "2023-12-25T23:40:24.151582",
     "status": "completed"
    },
    "tags": []
   },
   "outputs": [],
   "source": []
  }
 ],
 "metadata": {
  "kernelspec": {
   "display_name": "leeds-2023-YZF5GfJv",
   "language": "python",
   "name": "python3"
  },
  "language_info": {
   "codemirror_mode": {
    "name": "ipython",
    "version": 3
   },
   "file_extension": ".py",
   "mimetype": "text/x-python",
   "name": "python",
   "nbconvert_exporter": "python",
   "pygments_lexer": "ipython3",
   "version": "3.10.13"
  },
  "papermill": {
   "default_parameters": {},
   "duration": 8.697958,
   "end_time": "2023-12-25T23:40:24.371709",
   "environment_variables": {},
   "exception": null,
   "input_path": "prepare.ipynb",
   "output_path": "../../../../working/output/signature-prepare.ipynb",
   "parameters": {},
   "start_time": "2023-12-25T23:40:15.673751",
   "version": "2.4.0"
  }
 },
 "nbformat": 4,
 "nbformat_minor": 5
}