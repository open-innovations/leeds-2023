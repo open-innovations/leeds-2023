{
 "cells": [
  {
   "cell_type": "code",
   "execution_count": 1,
   "id": "6096863c",
   "metadata": {
    "execution": {
     "iopub.execute_input": "2023-12-24T23:40:00.412665Z",
     "iopub.status.busy": "2023-12-24T23:40:00.412411Z",
     "iopub.status.idle": "2023-12-24T23:40:07.677166Z",
     "shell.execute_reply": "2023-12-24T23:40:07.676525Z"
    },
    "papermill": {
     "duration": 7.269937,
     "end_time": "2023-12-24T23:40:07.678888",
     "exception": false,
     "start_time": "2023-12-24T23:40:00.408951",
     "status": "completed"
    },
    "tags": []
   },
   "outputs": [],
   "source": [
    "import os\n",
    "import pandas as pd\n",
    "from events import load_event_data, get_first_ward, normalise_ward"
   ]
  },
  {
   "cell_type": "code",
   "execution_count": 2,
   "id": "2228d8f1",
   "metadata": {
    "execution": {
     "iopub.execute_input": "2023-12-24T23:40:07.684163Z",
     "iopub.status.busy": "2023-12-24T23:40:07.683783Z",
     "iopub.status.idle": "2023-12-24T23:40:07.687099Z",
     "shell.execute_reply": "2023-12-24T23:40:07.686542Z"
    },
    "papermill": {
     "duration": 0.007266,
     "end_time": "2023-12-24T23:40:07.688351",
     "exception": false,
     "start_time": "2023-12-24T23:40:07.681085",
     "status": "completed"
    },
    "tags": []
   },
   "outputs": [],
   "source": [
    "latest_date = pd.Timestamp.today().ceil('D')"
   ]
  },
  {
   "cell_type": "code",
   "execution_count": 3,
   "id": "f7170144",
   "metadata": {
    "execution": {
     "iopub.execute_input": "2023-12-24T23:40:07.693022Z",
     "iopub.status.busy": "2023-12-24T23:40:07.692643Z",
     "iopub.status.idle": "2023-12-24T23:40:07.710016Z",
     "shell.execute_reply": "2023-12-24T23:40:07.709528Z"
    },
    "papermill": {
     "duration": 0.021079,
     "end_time": "2023-12-24T23:40:07.711278",
     "exception": false,
     "start_time": "2023-12-24T23:40:07.690199",
     "status": "completed"
    },
    "tags": []
   },
   "outputs": [],
   "source": [
    "tickets = pd.read_csv('../../../../data/metrics/events/tickets/orders.csv', parse_dates=['created_at', 'event_date'])\n",
    "tickets = tickets[tickets.event_date <= latest_date]"
   ]
  },
  {
   "cell_type": "code",
   "execution_count": 4,
   "id": "c606591c",
   "metadata": {
    "execution": {
     "iopub.execute_input": "2023-12-24T23:40:07.715878Z",
     "iopub.status.busy": "2023-12-24T23:40:07.715541Z",
     "iopub.status.idle": "2023-12-24T23:40:07.769597Z",
     "shell.execute_reply": "2023-12-24T23:40:07.768945Z"
    },
    "papermill": {
     "duration": 0.057952,
     "end_time": "2023-12-24T23:40:07.771062",
     "exception": false,
     "start_time": "2023-12-24T23:40:07.713110",
     "status": "completed"
    },
    "tags": []
   },
   "outputs": [],
   "source": [
    "events = load_event_data()\n",
    "\n",
    "events = pd.concat([\n",
    "  events,\n",
    "  events.pipe(get_first_ward).pipe(normalise_ward).fillna('UNKNOWN'),\n",
    "  pd.Series(\n",
    "      events.actual_audience_size_number_of_participants_in_person + events.actual_audience_size_number_of_participants_online,\n",
    "      name='attendances'\n",
    "  )\n",
    "], axis=1).rename(columns={\n",
    "    'start_date': 'date'\n",
    "}).loc[:, ['ward_code', 'date', 'event_unique_identifier', 'attendances']]"
   ]
  },
  {
   "cell_type": "code",
   "execution_count": 5,
   "id": "0deb6232",
   "metadata": {
    "execution": {
     "iopub.execute_input": "2023-12-24T23:40:07.775879Z",
     "iopub.status.busy": "2023-12-24T23:40:07.775543Z",
     "iopub.status.idle": "2023-12-24T23:40:07.778638Z",
     "shell.execute_reply": "2023-12-24T23:40:07.778097Z"
    },
    "papermill": {
     "duration": 0.006844,
     "end_time": "2023-12-24T23:40:07.779844",
     "exception": false,
     "start_time": "2023-12-24T23:40:07.773000",
     "status": "completed"
    },
    "tags": []
   },
   "outputs": [],
   "source": [
    "OUTPUT_DIR='../../../../docs/metrics/events/signature/_data/'\n",
    "os.makedirs(OUTPUT_DIR, exist_ok=True)"
   ]
  },
  {
   "cell_type": "markdown",
   "id": "2479f871",
   "metadata": {
    "papermill": {
     "duration": 0.00202,
     "end_time": "2023-12-24T23:40:07.783876",
     "exception": false,
     "start_time": "2023-12-24T23:40:07.781856",
     "status": "completed"
    },
    "tags": []
   },
   "source": [
    "Events CSVs"
   ]
  },
  {
   "cell_type": "code",
   "execution_count": 6,
   "id": "9e0ae064",
   "metadata": {
    "execution": {
     "iopub.execute_input": "2023-12-24T23:40:07.788533Z",
     "iopub.status.busy": "2023-12-24T23:40:07.788211Z",
     "iopub.status.idle": "2023-12-24T23:40:07.794019Z",
     "shell.execute_reply": "2023-12-24T23:40:07.793424Z"
    },
    "papermill": {
     "duration": 0.009662,
     "end_time": "2023-12-24T23:40:07.795384",
     "exception": false,
     "start_time": "2023-12-24T23:40:07.785722",
     "status": "completed"
    },
    "tags": []
   },
   "outputs": [],
   "source": [
    "pd.DataFrame({\n",
    "  'events': events.groupby('ward_code').event_unique_identifier.count(),\n",
    "  'attendances': events.groupby('ward_code').attendances.sum().astype(int),\n",
    "}).to_csv(os.path.join(OUTPUT_DIR, 'events_by_ward.csv'))\n"
   ]
  },
  {
   "cell_type": "code",
   "execution_count": 7,
   "id": "64b0fa29",
   "metadata": {
    "execution": {
     "iopub.execute_input": "2023-12-24T23:40:07.800325Z",
     "iopub.status.busy": "2023-12-24T23:40:07.799833Z",
     "iopub.status.idle": "2023-12-24T23:40:07.807708Z",
     "shell.execute_reply": "2023-12-24T23:40:07.807216Z"
    },
    "papermill": {
     "duration": 0.011687,
     "end_time": "2023-12-24T23:40:07.808962",
     "exception": false,
     "start_time": "2023-12-24T23:40:07.797275",
     "status": "completed"
    },
    "tags": []
   },
   "outputs": [],
   "source": [
    "pd.DataFrame({\n",
    "  'events': events.groupby('date').event_unique_identifier.count(),\n",
    "  'attendances': events.groupby('date').attendances.sum().astype(int),\n",
    "}).resample('M').sum().astype(int).to_csv(os.path.join(OUTPUT_DIR, 'events_by_date.csv'))"
   ]
  },
  {
   "cell_type": "markdown",
   "id": "bf5caa81",
   "metadata": {
    "papermill": {
     "duration": 0.0027,
     "end_time": "2023-12-24T23:40:07.813648",
     "exception": false,
     "start_time": "2023-12-24T23:40:07.810948",
     "status": "completed"
    },
    "tags": []
   },
   "source": [
    "Tickets CSV"
   ]
  },
  {
   "cell_type": "code",
   "execution_count": 8,
   "id": "b8bb78b5",
   "metadata": {
    "execution": {
     "iopub.execute_input": "2023-12-24T23:40:07.818337Z",
     "iopub.status.busy": "2023-12-24T23:40:07.818122Z",
     "iopub.status.idle": "2023-12-24T23:40:07.824406Z",
     "shell.execute_reply": "2023-12-24T23:40:07.823926Z"
    },
    "papermill": {
     "duration": 0.010091,
     "end_time": "2023-12-24T23:40:07.825695",
     "exception": false,
     "start_time": "2023-12-24T23:40:07.815604",
     "status": "completed"
    },
    "tags": []
   },
   "outputs": [],
   "source": [
    "pd.DataFrame({\n",
    "  'orders': tickets.groupby('ward_code').number_of_tickets.count(),\n",
    "  'tickets': tickets.groupby('ward_code').number_of_tickets.sum().astype(int),\n",
    "}).to_csv(os.path.join(OUTPUT_DIR, 'tickets_by_ward.csv'))"
   ]
  },
  {
   "cell_type": "code",
   "execution_count": 9,
   "id": "fd920ab6",
   "metadata": {
    "execution": {
     "iopub.execute_input": "2023-12-24T23:40:07.830631Z",
     "iopub.status.busy": "2023-12-24T23:40:07.830266Z",
     "iopub.status.idle": "2023-12-24T23:40:07.837139Z",
     "shell.execute_reply": "2023-12-24T23:40:07.836623Z"
    },
    "papermill": {
     "duration": 0.010747,
     "end_time": "2023-12-24T23:40:07.838418",
     "exception": false,
     "start_time": "2023-12-24T23:40:07.827671",
     "status": "completed"
    },
    "tags": []
   },
   "outputs": [],
   "source": [
    "pd.DataFrame({\n",
    "  'orders': tickets.groupby('event_date').number_of_tickets.count(),\n",
    "  'tickets': tickets.groupby('event_date').number_of_tickets.sum().astype(int),\n",
    "}).resample('M').sum().to_csv(os.path.join(OUTPUT_DIR, 'tickets_by_event_date.csv'))"
   ]
  },
  {
   "cell_type": "code",
   "execution_count": 10,
   "id": "bdfea0da",
   "metadata": {
    "execution": {
     "iopub.execute_input": "2023-12-24T23:40:07.843387Z",
     "iopub.status.busy": "2023-12-24T23:40:07.843035Z",
     "iopub.status.idle": "2023-12-24T23:40:07.847694Z",
     "shell.execute_reply": "2023-12-24T23:40:07.847094Z"
    },
    "papermill": {
     "duration": 0.008484,
     "end_time": "2023-12-24T23:40:07.848883",
     "exception": false,
     "start_time": "2023-12-24T23:40:07.840399",
     "status": "completed"
    },
    "tags": []
   },
   "outputs": [],
   "source": [
    "pd.Series({\n",
    "    'total_events': events.event_unique_identifier.count(),\n",
    "    'total_attendances': events.attendances.count(),\n",
    "    'first_event': events.date.min(),\n",
    "    'latest_event': events.date.max(),\n",
    "    'total_ticket_orders_for_events_to_date': tickets.number_of_tickets.count(),\n",
    "    'total_tickets_sold_for_events_to_date': tickets.number_of_tickets.sum(),\n",
    "}).to_json(os.path.join(OUTPUT_DIR, 'headlines.json'), indent=2)"
   ]
  },
  {
   "cell_type": "code",
   "execution_count": null,
   "id": "b7c9b5b9",
   "metadata": {
    "papermill": {
     "duration": 0.001929,
     "end_time": "2023-12-24T23:40:07.852844",
     "exception": false,
     "start_time": "2023-12-24T23:40:07.850915",
     "status": "completed"
    },
    "tags": []
   },
   "outputs": [],
   "source": []
  }
 ],
 "metadata": {
  "kernelspec": {
   "display_name": "leeds-2023-YZF5GfJv",
   "language": "python",
   "name": "python3"
  },
  "language_info": {
   "codemirror_mode": {
    "name": "ipython",
    "version": 3
   },
   "file_extension": ".py",
   "mimetype": "text/x-python",
   "name": "python",
   "nbconvert_exporter": "python",
   "pygments_lexer": "ipython3",
   "version": "3.10.13"
  },
  "papermill": {
   "default_parameters": {},
   "duration": 8.899908,
   "end_time": "2023-12-24T23:40:08.070036",
   "environment_variables": {},
   "exception": null,
   "input_path": "prepare.ipynb",
   "output_path": "../../../../working/output/signature-prepare.ipynb",
   "parameters": {},
   "start_time": "2023-12-24T23:39:59.170128",
   "version": "2.4.0"
  }
 },
 "nbformat": 4,
 "nbformat_minor": 5
}