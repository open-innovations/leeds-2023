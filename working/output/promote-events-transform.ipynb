{
 "cells": [
  {
   "cell_type": "code",
   "execution_count": 1,
   "id": "b4eb141d",
   "metadata": {
    "execution": {
     "iopub.execute_input": "2023-09-18T23:40:13.113766Z",
     "iopub.status.busy": "2023-09-18T23:40:13.113053Z",
     "iopub.status.idle": "2023-09-18T23:40:13.363694Z",
     "shell.execute_reply": "2023-09-18T23:40:13.363016Z"
    },
    "papermill": {
     "duration": 0.255292,
     "end_time": "2023-09-18T23:40:13.365478",
     "exception": false,
     "start_time": "2023-09-18T23:40:13.110186",
     "status": "completed"
    },
    "tags": []
   },
   "outputs": [],
   "source": [
    "import os\n",
    "import pandas as pd"
   ]
  },
  {
   "cell_type": "code",
   "execution_count": 2,
   "id": "9766954a",
   "metadata": {
    "execution": {
     "iopub.execute_input": "2023-09-18T23:40:13.370183Z",
     "iopub.status.busy": "2023-09-18T23:40:13.369534Z",
     "iopub.status.idle": "2023-09-18T23:40:13.373711Z",
     "shell.execute_reply": "2023-09-18T23:40:13.373143Z"
    },
    "papermill": {
     "duration": 0.007884,
     "end_time": "2023-09-18T23:40:13.375068",
     "exception": false,
     "start_time": "2023-09-18T23:40:13.367184",
     "status": "completed"
    },
    "tags": []
   },
   "outputs": [],
   "source": [
    "EVENTS_RAW_DATA = '../../../working/metrics/promote-events/events.csv'\n",
    "DATA_DIR = '../../../data/metrics/events/promote-events/'\n",
    "EVENTS_DATA = os.path.join(DATA_DIR, 'events.csv')"
   ]
  },
  {
   "cell_type": "code",
   "execution_count": 3,
   "id": "b1b58120",
   "metadata": {
    "execution": {
     "iopub.execute_input": "2023-09-18T23:40:13.378916Z",
     "iopub.status.busy": "2023-09-18T23:40:13.378367Z",
     "iopub.status.idle": "2023-09-18T23:40:13.381752Z",
     "shell.execute_reply": "2023-09-18T23:40:13.381122Z"
    },
    "papermill": {
     "duration": 0.006926,
     "end_time": "2023-09-18T23:40:13.383295",
     "exception": false,
     "start_time": "2023-09-18T23:40:13.376369",
     "status": "completed"
    },
    "tags": []
   },
   "outputs": [],
   "source": [
    "columns = {\n",
    "    'id': 'id',\n",
    "    'name': 'name',\n",
    "    'locationName': 'location',\n",
    "    'cardPrice': 'card_price',\n",
    "    'timeslots': 'time',\n",
    "    # 'displayOnWebsite': 'display',\n",
    "    'Stage': 'stage',\n",
    "}"
   ]
  },
  {
   "cell_type": "code",
   "execution_count": 4,
   "id": "6457f7d9",
   "metadata": {
    "execution": {
     "iopub.execute_input": "2023-09-18T23:40:13.387302Z",
     "iopub.status.busy": "2023-09-18T23:40:13.386892Z",
     "iopub.status.idle": "2023-09-18T23:40:13.397320Z",
     "shell.execute_reply": "2023-09-18T23:40:13.396735Z"
    },
    "papermill": {
     "duration": 0.014214,
     "end_time": "2023-09-18T23:40:13.398835",
     "exception": false,
     "start_time": "2023-09-18T23:40:13.384621",
     "status": "completed"
    },
    "tags": []
   },
   "outputs": [],
   "source": [
    "data = pd.read_csv(EVENTS_RAW_DATA)[columns.keys()].rename(columns=columns)\n",
    "data.time = pd.to_datetime(data.time, errors='coerce')"
   ]
  },
  {
   "cell_type": "code",
   "execution_count": 5,
   "id": "8433f499",
   "metadata": {
    "execution": {
     "iopub.execute_input": "2023-09-18T23:40:13.402895Z",
     "iopub.status.busy": "2023-09-18T23:40:13.402301Z",
     "iopub.status.idle": "2023-09-18T23:40:13.407766Z",
     "shell.execute_reply": "2023-09-18T23:40:13.407184Z"
    },
    "papermill": {
     "duration": 0.008996,
     "end_time": "2023-09-18T23:40:13.409208",
     "exception": false,
     "start_time": "2023-09-18T23:40:13.400212",
     "status": "completed"
    },
    "tags": []
   },
   "outputs": [],
   "source": [
    "data.to_csv(os.path.join(DATA_DIR, 'events.csv'), index=False)"
   ]
  }
 ],
 "metadata": {
  "kernelspec": {
   "display_name": "leeds-2023-YZF5GfJv",
   "language": "python",
   "name": "python3"
  },
  "language_info": {
   "codemirror_mode": {
    "name": "ipython",
    "version": 3
   },
   "file_extension": ".py",
   "mimetype": "text/x-python",
   "name": "python",
   "nbconvert_exporter": "python",
   "pygments_lexer": "ipython3",
   "version": "3.10.13"
  },
  "papermill": {
   "default_parameters": {},
   "duration": 1.868457,
   "end_time": "2023-09-18T23:40:13.628927",
   "environment_variables": {},
   "exception": null,
   "input_path": "transform.ipynb",
   "output_path": "../../../working/output/promote-events-transform.ipynb",
   "parameters": {},
   "start_time": "2023-09-18T23:40:11.760470",
   "version": "2.4.0"
  }
 },
 "nbformat": 4,
 "nbformat_minor": 5
}