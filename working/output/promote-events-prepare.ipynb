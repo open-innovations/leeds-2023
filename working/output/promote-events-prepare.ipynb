{
 "cells": [
  {
   "cell_type": "code",
   "execution_count": 1,
   "id": "0e2d6d3c",
   "metadata": {
    "execution": {
     "iopub.execute_input": "2023-08-04T23:37:40.073068Z",
     "iopub.status.busy": "2023-08-04T23:37:40.072306Z",
     "iopub.status.idle": "2023-08-04T23:37:40.327518Z",
     "shell.execute_reply": "2023-08-04T23:37:40.326803Z"
    },
    "papermill": {
     "duration": 0.261302,
     "end_time": "2023-08-04T23:37:40.329573",
     "exception": false,
     "start_time": "2023-08-04T23:37:40.068271",
     "status": "completed"
    },
    "tags": []
   },
   "outputs": [],
   "source": [
    "import os\n",
    "import pandas as pd"
   ]
  },
  {
   "cell_type": "code",
   "execution_count": 2,
   "id": "de5f4259",
   "metadata": {
    "execution": {
     "iopub.execute_input": "2023-08-04T23:37:40.334821Z",
     "iopub.status.busy": "2023-08-04T23:37:40.334108Z",
     "iopub.status.idle": "2023-08-04T23:37:40.337544Z",
     "shell.execute_reply": "2023-08-04T23:37:40.336991Z"
    },
    "papermill": {
     "duration": 0.007494,
     "end_time": "2023-08-04T23:37:40.339023",
     "exception": false,
     "start_time": "2023-08-04T23:37:40.331529",
     "status": "completed"
    },
    "tags": []
   },
   "outputs": [],
   "source": [
    "DATA_DIR='../../../docs/metrics/events/promote/_data/'\n",
    "os.makedirs(DATA_DIR, exist_ok=True)"
   ]
  },
  {
   "cell_type": "code",
   "execution_count": 3,
   "id": "9631a16d",
   "metadata": {
    "execution": {
     "iopub.execute_input": "2023-08-04T23:37:40.343462Z",
     "iopub.status.busy": "2023-08-04T23:37:40.342949Z",
     "iopub.status.idle": "2023-08-04T23:37:40.353122Z",
     "shell.execute_reply": "2023-08-04T23:37:40.352552Z"
    },
    "papermill": {
     "duration": 0.014104,
     "end_time": "2023-08-04T23:37:40.354677",
     "exception": false,
     "start_time": "2023-08-04T23:37:40.340573",
     "status": "completed"
    },
    "tags": []
   },
   "outputs": [],
   "source": [
    "data = pd.read_csv('../../../data/metrics/events/promote-events/events.csv', parse_dates=['time'])"
   ]
  },
  {
   "cell_type": "code",
   "execution_count": 4,
   "id": "9b34ac54",
   "metadata": {
    "execution": {
     "iopub.execute_input": "2023-08-04T23:37:40.359062Z",
     "iopub.status.busy": "2023-08-04T23:37:40.358662Z",
     "iopub.status.idle": "2023-08-04T23:37:40.364020Z",
     "shell.execute_reply": "2023-08-04T23:37:40.363412Z"
    },
    "papermill": {
     "duration": 0.00919,
     "end_time": "2023-08-04T23:37:40.365439",
     "exception": false,
     "start_time": "2023-08-04T23:37:40.356249",
     "status": "completed"
    },
    "tags": []
   },
   "outputs": [],
   "source": [
    "pd.Series({\n",
    "    'total_events': len(data.id.unique()),\n",
    "    'total_event_instances': len(data.time),\n",
    "    'earliest_event': data.time.min(),\n",
    "    'latest_event': data.time.max(),\n",
    "}).to_json(\n",
    "    os.path.join(DATA_DIR, 'headlines.json'),\n",
    "    date_format='iso', indent=2\n",
    ")"
   ]
  },
  {
   "cell_type": "code",
   "execution_count": 5,
   "id": "186441f2",
   "metadata": {
    "execution": {
     "iopub.execute_input": "2023-08-04T23:37:40.369661Z",
     "iopub.status.busy": "2023-08-04T23:37:40.369269Z",
     "iopub.status.idle": "2023-08-04T23:37:40.377156Z",
     "shell.execute_reply": "2023-08-04T23:37:40.376609Z"
    },
    "papermill": {
     "duration": 0.011573,
     "end_time": "2023-08-04T23:37:40.378549",
     "exception": false,
     "start_time": "2023-08-04T23:37:40.366976",
     "status": "completed"
    },
    "tags": []
   },
   "outputs": [],
   "source": [
    "events = pd.DataFrame({\n",
    "    'events': data.groupby('id').agg({ 'time': 'min' }).reset_index().groupby('time').id.count(),\n",
    "    'event_instances': data.groupby('time').id.count(),\n",
    "}).fillna(0).astype(int)"
   ]
  },
  {
   "cell_type": "code",
   "execution_count": 6,
   "id": "44f8fd35",
   "metadata": {
    "execution": {
     "iopub.execute_input": "2023-08-04T23:37:40.382850Z",
     "iopub.status.busy": "2023-08-04T23:37:40.382455Z",
     "iopub.status.idle": "2023-08-04T23:37:40.385965Z",
     "shell.execute_reply": "2023-08-04T23:37:40.385343Z"
    },
    "papermill": {
     "duration": 0.007384,
     "end_time": "2023-08-04T23:37:40.387515",
     "exception": false,
     "start_time": "2023-08-04T23:37:40.380131",
     "status": "completed"
    },
    "tags": []
   },
   "outputs": [],
   "source": [
    "def cumulate(data):\n",
    "    return pd.concat([\n",
    "        data,\n",
    "        data.cumsum().rename(columns=lambda c: f'cumulative_{c}')\n",
    "    ], axis=1)"
   ]
  },
  {
   "cell_type": "code",
   "execution_count": 7,
   "id": "54496d87",
   "metadata": {
    "execution": {
     "iopub.execute_input": "2023-08-04T23:37:40.391834Z",
     "iopub.status.busy": "2023-08-04T23:37:40.391450Z",
     "iopub.status.idle": "2023-08-04T23:37:40.401344Z",
     "shell.execute_reply": "2023-08-04T23:37:40.400793Z"
    },
    "papermill": {
     "duration": 0.013602,
     "end_time": "2023-08-04T23:37:40.402759",
     "exception": false,
     "start_time": "2023-08-04T23:37:40.389157",
     "status": "completed"
    },
    "tags": []
   },
   "outputs": [],
   "source": [
    "events.resample('W-FRI').sum().pipe(cumulate).to_csv(os.path.join(DATA_DIR, 'by_week.csv'))"
   ]
  },
  {
   "cell_type": "code",
   "execution_count": 8,
   "id": "952a47c4",
   "metadata": {
    "execution": {
     "iopub.execute_input": "2023-08-04T23:37:40.407246Z",
     "iopub.status.busy": "2023-08-04T23:37:40.406857Z",
     "iopub.status.idle": "2023-08-04T23:37:40.412532Z",
     "shell.execute_reply": "2023-08-04T23:37:40.411928Z"
    },
    "papermill": {
     "duration": 0.009458,
     "end_time": "2023-08-04T23:37:40.413956",
     "exception": false,
     "start_time": "2023-08-04T23:37:40.404498",
     "status": "completed"
    },
    "tags": []
   },
   "outputs": [],
   "source": [
    "events.resample('MS').sum().pipe(cumulate).to_csv(os.path.join(DATA_DIR, 'by_month.csv'))"
   ]
  },
  {
   "cell_type": "code",
   "execution_count": null,
   "id": "3fada539",
   "metadata": {
    "papermill": {
     "duration": 0.001641,
     "end_time": "2023-08-04T23:37:40.417252",
     "exception": false,
     "start_time": "2023-08-04T23:37:40.415611",
     "status": "completed"
    },
    "tags": []
   },
   "outputs": [],
   "source": []
  }
 ],
 "metadata": {
  "kernelspec": {
   "display_name": "leeds-2023-YZF5GfJv",
   "language": "python",
   "name": "python3"
  },
  "language_info": {
   "codemirror_mode": {
    "name": "ipython",
    "version": 3
   },
   "file_extension": ".py",
   "mimetype": "text/x-python",
   "name": "python",
   "nbconvert_exporter": "python",
   "pygments_lexer": "ipython3",
   "version": "3.10.6"
  },
  "papermill": {
   "default_parameters": {},
   "duration": 1.955724,
   "end_time": "2023-08-04T23:37:40.635236",
   "environment_variables": {},
   "exception": null,
   "input_path": "prepare.ipynb",
   "output_path": "../../../working/output/promote-events-prepare.ipynb",
   "parameters": {},
   "start_time": "2023-08-04T23:37:38.679512",
   "version": "2.4.0"
  }
 },
 "nbformat": 4,
 "nbformat_minor": 5
}