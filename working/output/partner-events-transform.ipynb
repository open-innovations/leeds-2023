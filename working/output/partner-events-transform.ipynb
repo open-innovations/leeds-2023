{
 "cells": [
  {
   "cell_type": "code",
   "execution_count": 1,
   "id": "d026bfa6",
   "metadata": {
    "execution": {
     "iopub.execute_input": "2023-11-16T23:38:01.951116Z",
     "iopub.status.busy": "2023-11-16T23:38:01.950881Z",
     "iopub.status.idle": "2023-11-16T23:38:02.188930Z",
     "shell.execute_reply": "2023-11-16T23:38:02.188350Z"
    },
    "papermill": {
     "duration": 0.243605,
     "end_time": "2023-11-16T23:38:02.190598",
     "exception": false,
     "start_time": "2023-11-16T23:38:01.946993",
     "status": "completed"
    },
    "tags": []
   },
   "outputs": [],
   "source": [
    "import os\n",
    "import sys\n",
    "import pandas as pd\n",
    "lib_dir = os.path.realpath('../../../lib/')\n",
    "if lib_dir not in sys.path: sys.path.append(lib_dir)"
   ]
  },
  {
   "cell_type": "code",
   "execution_count": 2,
   "id": "9698bfd3",
   "metadata": {
    "execution": {
     "iopub.execute_input": "2023-11-16T23:38:02.196398Z",
     "iopub.status.busy": "2023-11-16T23:38:02.195959Z",
     "iopub.status.idle": "2023-11-16T23:38:09.389278Z",
     "shell.execute_reply": "2023-11-16T23:38:09.388645Z"
    },
    "papermill": {
     "duration": 7.197886,
     "end_time": "2023-11-16T23:38:09.390948",
     "exception": false,
     "start_time": "2023-11-16T23:38:02.193062",
     "status": "completed"
    },
    "tags": []
   },
   "outputs": [],
   "source": [
    "import util.geo"
   ]
  },
  {
   "cell_type": "code",
   "execution_count": 3,
   "id": "d97aeb1a",
   "metadata": {
    "execution": {
     "iopub.execute_input": "2023-11-16T23:38:09.396716Z",
     "iopub.status.busy": "2023-11-16T23:38:09.396332Z",
     "iopub.status.idle": "2023-11-16T23:38:09.399482Z",
     "shell.execute_reply": "2023-11-16T23:38:09.398938Z"
    },
    "papermill": {
     "duration": 0.007276,
     "end_time": "2023-11-16T23:38:09.400707",
     "exception": false,
     "start_time": "2023-11-16T23:38:09.393431",
     "status": "completed"
    },
    "tags": []
   },
   "outputs": [],
   "source": [
    "EVENTS_RAW_DATA = '../../../working/metrics/partner-events/events.csv'\n",
    "DATA_DIR = '../../../data/metrics/events/partner-events/'\n",
    "EVENTS_DATA = os.path.join(DATA_DIR, 'events.csv')"
   ]
  },
  {
   "cell_type": "code",
   "execution_count": 4,
   "id": "6743f7b7",
   "metadata": {
    "execution": {
     "iopub.execute_input": "2023-11-16T23:38:09.406083Z",
     "iopub.status.busy": "2023-11-16T23:38:09.405615Z",
     "iopub.status.idle": "2023-11-16T23:38:09.408970Z",
     "shell.execute_reply": "2023-11-16T23:38:09.408432Z"
    },
    "papermill": {
     "duration": 0.007364,
     "end_time": "2023-11-16T23:38:09.410197",
     "exception": false,
     "start_time": "2023-11-16T23:38:09.402833",
     "status": "completed"
    },
    "tags": []
   },
   "outputs": [],
   "source": [
    "columns = {\n",
    "    'Event Name': 'name',\n",
    "    'Event Start Date': 'start_date',\n",
    "    'Event End Date': 'end_date',\n",
    "    'Partner/Promote': 'partner_promote',\n",
    "    'Stage': 'stage',\n",
    "    'Live date': 'live_date',\n",
    "    'Venue postcode': 'postcode',\n",
    "    'Pricing Policy': 'pricing',\n",
    "    'Venue - including address': 'venue',\n",
    "    'Is this event on Leeds Inspried?': 'on_leeds_inspired',\n",
    "}"
   ]
  },
  {
   "cell_type": "markdown",
   "id": "ea0c8c08",
   "metadata": {
    "papermill": {
     "duration": 0.002169,
     "end_time": "2023-11-16T23:38:09.414488",
     "exception": false,
     "start_time": "2023-11-16T23:38:09.412319",
     "status": "completed"
    },
    "tags": []
   },
   "source": [
    "Load the data and rename columns. Parse the dates to dates."
   ]
  },
  {
   "cell_type": "code",
   "execution_count": 5,
   "id": "d4d181b7",
   "metadata": {
    "execution": {
     "iopub.execute_input": "2023-11-16T23:38:09.419524Z",
     "iopub.status.busy": "2023-11-16T23:38:09.419336Z",
     "iopub.status.idle": "2023-11-16T23:38:09.428325Z",
     "shell.execute_reply": "2023-11-16T23:38:09.427824Z"
    },
    "papermill": {
     "duration": 0.01303,
     "end_time": "2023-11-16T23:38:09.429602",
     "exception": false,
     "start_time": "2023-11-16T23:38:09.416572",
     "status": "completed"
    },
    "tags": []
   },
   "outputs": [],
   "source": [
    "data = pd.read_csv(EVENTS_RAW_DATA)[columns.keys()].rename(columns=columns)\n",
    "data.start_date = pd.to_datetime(data.start_date, errors='coerce')\n",
    "data.end_date = pd.to_datetime(data.end_date, errors='coerce')"
   ]
  },
  {
   "cell_type": "markdown",
   "id": "8a6cc448",
   "metadata": {
    "papermill": {
     "duration": 0.002147,
     "end_time": "2023-11-16T23:38:09.433901",
     "exception": false,
     "start_time": "2023-11-16T23:38:09.431754",
     "status": "completed"
    },
    "tags": []
   },
   "source": [
    "Filter data by not LI Pull through and start date before now"
   ]
  },
  {
   "cell_type": "code",
   "execution_count": 6,
   "id": "1f3f84f9",
   "metadata": {
    "execution": {
     "iopub.execute_input": "2023-11-16T23:38:09.439764Z",
     "iopub.status.busy": "2023-11-16T23:38:09.439539Z",
     "iopub.status.idle": "2023-11-16T23:38:09.444226Z",
     "shell.execute_reply": "2023-11-16T23:38:09.443692Z"
    },
    "papermill": {
     "duration": 0.008676,
     "end_time": "2023-11-16T23:38:09.445453",
     "exception": false,
     "start_time": "2023-11-16T23:38:09.436777",
     "status": "completed"
    },
    "tags": []
   },
   "outputs": [],
   "source": [
    "data = data[\n",
    "    # (data.live_date == 'This event is live ') &\n",
    "    ((data.stage != 'LI pull through') & data.stage.notna()) &\n",
    "    (data.start_date < pd.Timestamp.now())\n",
    "]"
   ]
  },
  {
   "cell_type": "code",
   "execution_count": 7,
   "id": "3c056b89",
   "metadata": {
    "execution": {
     "iopub.execute_input": "2023-11-16T23:38:09.450791Z",
     "iopub.status.busy": "2023-11-16T23:38:09.450455Z",
     "iopub.status.idle": "2023-11-16T23:38:10.333211Z",
     "shell.execute_reply": "2023-11-16T23:38:10.332507Z"
    },
    "papermill": {
     "duration": 0.887322,
     "end_time": "2023-11-16T23:38:10.334973",
     "exception": false,
     "start_time": "2023-11-16T23:38:09.447651",
     "status": "completed"
    },
    "tags": []
   },
   "outputs": [],
   "source": [
    "data['ward_code'] = data.postcode.pipe(util.geo.postcode_formatter).map(util.geo.postcode_to_ward_code)\n",
    "data['ward_name'] = data.ward_code.pipe(util.geo.ward_code_to_name)"
   ]
  },
  {
   "cell_type": "markdown",
   "id": "eba0e9e8",
   "metadata": {
    "papermill": {
     "duration": 0.002395,
     "end_time": "2023-11-16T23:38:10.339926",
     "exception": false,
     "start_time": "2023-11-16T23:38:10.337531",
     "status": "completed"
    },
    "tags": []
   },
   "source": [
    "Save the file"
   ]
  },
  {
   "cell_type": "code",
   "execution_count": 8,
   "id": "9bfb7632",
   "metadata": {
    "execution": {
     "iopub.execute_input": "2023-11-16T23:38:10.345601Z",
     "iopub.status.busy": "2023-11-16T23:38:10.345078Z",
     "iopub.status.idle": "2023-11-16T23:38:10.351077Z",
     "shell.execute_reply": "2023-11-16T23:38:10.350480Z"
    },
    "papermill": {
     "duration": 0.010453,
     "end_time": "2023-11-16T23:38:10.352568",
     "exception": false,
     "start_time": "2023-11-16T23:38:10.342115",
     "status": "completed"
    },
    "tags": []
   },
   "outputs": [],
   "source": [
    "data[\n",
    "    ['name','start_date','end_date','ward_code']\n",
    "].to_csv(EVENTS_DATA, index=False)"
   ]
  },
  {
   "cell_type": "markdown",
   "id": "b58e8d64",
   "metadata": {
    "papermill": {
     "duration": 0.002148,
     "end_time": "2023-11-16T23:38:10.356991",
     "exception": false,
     "start_time": "2023-11-16T23:38:10.354843",
     "status": "completed"
    },
    "tags": []
   },
   "source": [
    "Print out missing postcode data"
   ]
  },
  {
   "cell_type": "code",
   "execution_count": 9,
   "id": "e051fe03",
   "metadata": {
    "execution": {
     "iopub.execute_input": "2023-11-16T23:38:10.362732Z",
     "iopub.status.busy": "2023-11-16T23:38:10.362130Z",
     "iopub.status.idle": "2023-11-16T23:38:10.373410Z",
     "shell.execute_reply": "2023-11-16T23:38:10.372811Z"
    },
    "papermill": {
     "duration": 0.015543,
     "end_time": "2023-11-16T23:38:10.374788",
     "exception": false,
     "start_time": "2023-11-16T23:38:10.359245",
     "status": "completed"
    },
    "tags": []
   },
   "outputs": [
    {
     "data": {
      "text/html": [
       "<div>\n",
       "<style scoped>\n",
       "    .dataframe tbody tr th:only-of-type {\n",
       "        vertical-align: middle;\n",
       "    }\n",
       "\n",
       "    .dataframe tbody tr th {\n",
       "        vertical-align: top;\n",
       "    }\n",
       "\n",
       "    .dataframe thead th {\n",
       "        text-align: right;\n",
       "    }\n",
       "</style>\n",
       "<table border=\"1\" class=\"dataframe\">\n",
       "  <thead>\n",
       "    <tr style=\"text-align: right;\">\n",
       "      <th></th>\n",
       "      <th>name</th>\n",
       "      <th>start_date</th>\n",
       "    </tr>\n",
       "  </thead>\n",
       "  <tbody>\n",
       "    <tr>\n",
       "      <th>1</th>\n",
       "      <td>East Street Arts, A City Less Grey 2022</td>\n",
       "      <td>2022-10-08</td>\n",
       "    </tr>\n",
       "    <tr>\n",
       "      <th>3</th>\n",
       "      <td>Phoenix Dance Theatre Virtual Gallery</td>\n",
       "      <td>2023-01-01</td>\n",
       "    </tr>\n",
       "    <tr>\n",
       "      <th>4</th>\n",
       "      <td>The Big Art Giveaway, School of Creative Arts ...</td>\n",
       "      <td>2023-01-01</td>\n",
       "    </tr>\n",
       "    <tr>\n",
       "      <th>5</th>\n",
       "      <td>Embassy of Netherlands, Meet Leeds Lab</td>\n",
       "      <td>2023-01-16</td>\n",
       "    </tr>\n",
       "    <tr>\n",
       "      <th>6</th>\n",
       "      <td>Shifting Borders: A Journey to the Centre of o...</td>\n",
       "      <td>2023-01-24</td>\n",
       "    </tr>\n",
       "    <tr>\n",
       "      <th>...</th>\n",
       "      <td>...</td>\n",
       "      <td>...</td>\n",
       "    </tr>\n",
       "    <tr>\n",
       "      <th>292</th>\n",
       "      <td>Leeds Language Week: Stories Beyond Borders - ...</td>\n",
       "      <td>2023-11-15</td>\n",
       "    </tr>\n",
       "    <tr>\n",
       "      <th>293</th>\n",
       "      <td>Leeds Language Week: Teacher CPD: Designing CL...</td>\n",
       "      <td>2023-11-15</td>\n",
       "    </tr>\n",
       "    <tr>\n",
       "      <th>294</th>\n",
       "      <td>Leeds Language Week: Test de Nivel (Placement ...</td>\n",
       "      <td>2023-11-15</td>\n",
       "    </tr>\n",
       "    <tr>\n",
       "      <th>296</th>\n",
       "      <td>Leeds Language Week: Sentidos y Sensaciones (S...</td>\n",
       "      <td>2023-11-16</td>\n",
       "    </tr>\n",
       "    <tr>\n",
       "      <th>297</th>\n",
       "      <td>Leeds Language Week: Where Will Languages Take...</td>\n",
       "      <td>2023-11-16</td>\n",
       "    </tr>\n",
       "  </tbody>\n",
       "</table>\n",
       "<p>121 rows × 2 columns</p>\n",
       "</div>"
      ],
      "text/plain": [
       "                                                  name start_date\n",
       "1              East Street Arts, A City Less Grey 2022 2022-10-08\n",
       "3                Phoenix Dance Theatre Virtual Gallery 2023-01-01\n",
       "4    The Big Art Giveaway, School of Creative Arts ... 2023-01-01\n",
       "5               Embassy of Netherlands, Meet Leeds Lab 2023-01-16\n",
       "6    Shifting Borders: A Journey to the Centre of o... 2023-01-24\n",
       "..                                                 ...        ...\n",
       "292  Leeds Language Week: Stories Beyond Borders - ... 2023-11-15\n",
       "293  Leeds Language Week: Teacher CPD: Designing CL... 2023-11-15\n",
       "294  Leeds Language Week: Test de Nivel (Placement ... 2023-11-15\n",
       "296  Leeds Language Week: Sentidos y Sensaciones (S... 2023-11-16\n",
       "297  Leeds Language Week: Where Will Languages Take... 2023-11-16\n",
       "\n",
       "[121 rows x 2 columns]"
      ]
     },
     "execution_count": 9,
     "metadata": {},
     "output_type": "execute_result"
    }
   ],
   "source": [
    "data[data.postcode.isna()][[\n",
    "    'name', 'start_date'\n",
    "]]"
   ]
  },
  {
   "cell_type": "markdown",
   "id": "f81df593",
   "metadata": {
    "papermill": {
     "duration": 0.002444,
     "end_time": "2023-11-16T23:38:10.379744",
     "exception": false,
     "start_time": "2023-11-16T23:38:10.377300",
     "status": "completed"
    },
    "tags": []
   },
   "source": [
    "Plot the pricing"
   ]
  },
  {
   "cell_type": "code",
   "execution_count": 10,
   "id": "bac03d54",
   "metadata": {
    "execution": {
     "iopub.execute_input": "2023-11-16T23:38:10.385683Z",
     "iopub.status.busy": "2023-11-16T23:38:10.385322Z",
     "iopub.status.idle": "2023-11-16T23:38:10.832102Z",
     "shell.execute_reply": "2023-11-16T23:38:10.831441Z"
    },
    "papermill": {
     "duration": 0.451221,
     "end_time": "2023-11-16T23:38:10.833436",
     "exception": false,
     "start_time": "2023-11-16T23:38:10.382215",
     "status": "completed"
    },
    "tags": []
   },
   "outputs": [
    {
     "data": {
      "image/png": "[encoded data removed]",
      "text/plain": [
       "<Figure size 640x480 with 1 Axes>"
      ]
     },
     "metadata": {},
     "output_type": "display_data"
    }
   ],
   "source": [
    "# .groupby('pricing').count().plot.barh()\n",
    "pricing = data.pricing.fillna('Unspecified').str.replace('[\\[\\'\\]]', '', regex=True).to_frame().reset_index().groupby('pricing').count()\n",
    "\n",
    "pricing.columns = ['count']\n",
    "plot = pricing.plot.barh()\n"
   ]
  },
  {
   "cell_type": "code",
   "execution_count": null,
   "id": "e24f5027",
   "metadata": {
    "papermill": {
     "duration": 0.002998,
     "end_time": "2023-11-16T23:38:10.839628",
     "exception": false,
     "start_time": "2023-11-16T23:38:10.836630",
     "status": "completed"
    },
    "tags": []
   },
   "outputs": [],
   "source": []
  }
 ],
 "metadata": {
  "kernelspec": {
   "display_name": "leeds-2023-YZF5GfJv",
   "language": "python",
   "name": "python3"
  },
  "language_info": {
   "codemirror_mode": {
    "name": "ipython",
    "version": 3
   },
   "file_extension": ".py",
   "mimetype": "text/x-python",
   "name": "python",
   "nbconvert_exporter": "python",
   "pygments_lexer": "ipython3",
   "version": "3.10.13"
  },
  "papermill": {
   "default_parameters": {},
   "duration": 10.461363,
   "end_time": "2023-11-16T23:38:11.158491",
   "environment_variables": {},
   "exception": null,
   "input_path": "transform.ipynb",
   "output_path": "../../../working/output/partner-events-transform.ipynb",
   "parameters": {},
   "start_time": "2023-11-16T23:38:00.697128",
   "version": "2.4.0"
  }
 },
 "nbformat": 4,
 "nbformat_minor": 5
}