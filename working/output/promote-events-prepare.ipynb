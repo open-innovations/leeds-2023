{
 "cells": [
  {
   "cell_type": "code",
   "execution_count": 1,
   "id": "dac42450",
   "metadata": {
    "execution": {
     "iopub.execute_input": "2023-09-25T23:40:25.259684Z",
     "iopub.status.busy": "2023-09-25T23:40:25.258439Z",
     "iopub.status.idle": "2023-09-25T23:40:25.550349Z",
     "shell.execute_reply": "2023-09-25T23:40:25.549593Z"
    },
    "papermill": {
     "duration": 0.30093,
     "end_time": "2023-09-25T23:40:25.552461",
     "exception": false,
     "start_time": "2023-09-25T23:40:25.251531",
     "status": "completed"
    },
    "tags": []
   },
   "outputs": [],
   "source": [
    "import os\n",
    "import pandas as pd"
   ]
  },
  {
   "cell_type": "code",
   "execution_count": 2,
   "id": "4ab7e0a6",
   "metadata": {
    "execution": {
     "iopub.execute_input": "2023-09-25T23:40:25.558870Z",
     "iopub.status.busy": "2023-09-25T23:40:25.558079Z",
     "iopub.status.idle": "2023-09-25T23:40:25.561980Z",
     "shell.execute_reply": "2023-09-25T23:40:25.561220Z"
    },
    "papermill": {
     "duration": 0.008911,
     "end_time": "2023-09-25T23:40:25.563795",
     "exception": false,
     "start_time": "2023-09-25T23:40:25.554884",
     "status": "completed"
    },
    "tags": []
   },
   "outputs": [],
   "source": [
    "DATA_DIR='../../../docs/metrics/events/promote/_data/'\n",
    "os.makedirs(DATA_DIR, exist_ok=True)"
   ]
  },
  {
   "cell_type": "code",
   "execution_count": 3,
   "id": "32c5c959",
   "metadata": {
    "execution": {
     "iopub.execute_input": "2023-09-25T23:40:25.569508Z",
     "iopub.status.busy": "2023-09-25T23:40:25.569017Z",
     "iopub.status.idle": "2023-09-25T23:40:25.578697Z",
     "shell.execute_reply": "2023-09-25T23:40:25.578000Z"
    },
    "papermill": {
     "duration": 0.01455,
     "end_time": "2023-09-25T23:40:25.580400",
     "exception": false,
     "start_time": "2023-09-25T23:40:25.565850",
     "status": "completed"
    },
    "tags": []
   },
   "outputs": [],
   "source": [
    "data = pd.read_csv('../../../data/metrics/events/promote-events/events.csv', parse_dates=['time'])"
   ]
  },
  {
   "cell_type": "code",
   "execution_count": 4,
   "id": "00a26b01",
   "metadata": {
    "execution": {
     "iopub.execute_input": "2023-09-25T23:40:25.585928Z",
     "iopub.status.busy": "2023-09-25T23:40:25.585536Z",
     "iopub.status.idle": "2023-09-25T23:40:25.591235Z",
     "shell.execute_reply": "2023-09-25T23:40:25.590545Z"
    },
    "papermill": {
     "duration": 0.010542,
     "end_time": "2023-09-25T23:40:25.593068",
     "exception": false,
     "start_time": "2023-09-25T23:40:25.582526",
     "status": "completed"
    },
    "tags": []
   },
   "outputs": [],
   "source": [
    "pd.Series({\n",
    "    'total_events': len(data.id.unique()),\n",
    "    'total_event_instances': len(data.time),\n",
    "    'earliest_event': data.time.min(),\n",
    "    'latest_event': data.time.max(),\n",
    "}).to_json(\n",
    "    os.path.join(DATA_DIR, 'headlines.json'),\n",
    "    date_format='iso', indent=2\n",
    ")"
   ]
  },
  {
   "cell_type": "code",
   "execution_count": 5,
   "id": "70b7169b",
   "metadata": {
    "execution": {
     "iopub.execute_input": "2023-09-25T23:40:25.598964Z",
     "iopub.status.busy": "2023-09-25T23:40:25.598335Z",
     "iopub.status.idle": "2023-09-25T23:40:25.607043Z",
     "shell.execute_reply": "2023-09-25T23:40:25.606396Z"
    },
    "papermill": {
     "duration": 0.013312,
     "end_time": "2023-09-25T23:40:25.608577",
     "exception": false,
     "start_time": "2023-09-25T23:40:25.595265",
     "status": "completed"
    },
    "tags": []
   },
   "outputs": [],
   "source": [
    "events = pd.DataFrame({\n",
    "    'events': data.groupby('id').agg({ 'time': 'min' }).reset_index().groupby('time').id.count(),\n",
    "    'event_instances': data.groupby('time').id.count(),\n",
    "}).fillna(0).astype(int)"
   ]
  },
  {
   "cell_type": "code",
   "execution_count": 6,
   "id": "04735d6a",
   "metadata": {
    "execution": {
     "iopub.execute_input": "2023-09-25T23:40:25.614171Z",
     "iopub.status.busy": "2023-09-25T23:40:25.613730Z",
     "iopub.status.idle": "2023-09-25T23:40:25.618487Z",
     "shell.execute_reply": "2023-09-25T23:40:25.617832Z"
    },
    "papermill": {
     "duration": 0.009629,
     "end_time": "2023-09-25T23:40:25.620114",
     "exception": false,
     "start_time": "2023-09-25T23:40:25.610485",
     "status": "completed"
    },
    "tags": []
   },
   "outputs": [],
   "source": [
    "def cumulate(data):\n",
    "    return pd.concat([\n",
    "        data,\n",
    "        data.cumsum().rename(columns=lambda c: f'cumulative_{c}')\n",
    "    ], axis=1)"
   ]
  },
  {
   "cell_type": "code",
   "execution_count": 7,
   "id": "78544625",
   "metadata": {
    "execution": {
     "iopub.execute_input": "2023-09-25T23:40:25.625636Z",
     "iopub.status.busy": "2023-09-25T23:40:25.625165Z",
     "iopub.status.idle": "2023-09-25T23:40:25.636650Z",
     "shell.execute_reply": "2023-09-25T23:40:25.635993Z"
    },
    "papermill": {
     "duration": 0.016245,
     "end_time": "2023-09-25T23:40:25.638265",
     "exception": false,
     "start_time": "2023-09-25T23:40:25.622020",
     "status": "completed"
    },
    "tags": []
   },
   "outputs": [],
   "source": [
    "events.resample('W-FRI').sum().pipe(cumulate).to_csv(os.path.join(DATA_DIR, 'by_week.csv'))"
   ]
  },
  {
   "cell_type": "code",
   "execution_count": 8,
   "id": "6a2018e1",
   "metadata": {
    "execution": {
     "iopub.execute_input": "2023-09-25T23:40:25.644297Z",
     "iopub.status.busy": "2023-09-25T23:40:25.643671Z",
     "iopub.status.idle": "2023-09-25T23:40:25.650331Z",
     "shell.execute_reply": "2023-09-25T23:40:25.649678Z"
    },
    "papermill": {
     "duration": 0.011518,
     "end_time": "2023-09-25T23:40:25.652028",
     "exception": false,
     "start_time": "2023-09-25T23:40:25.640510",
     "status": "completed"
    },
    "tags": []
   },
   "outputs": [],
   "source": [
    "events.resample('MS').sum().pipe(cumulate).to_csv(os.path.join(DATA_DIR, 'by_month.csv'))"
   ]
  },
  {
   "cell_type": "code",
   "execution_count": null,
   "id": "a0d2b2a7",
   "metadata": {
    "papermill": {
     "duration": 0.002167,
     "end_time": "2023-09-25T23:40:25.656594",
     "exception": false,
     "start_time": "2023-09-25T23:40:25.654427",
     "status": "completed"
    },
    "tags": []
   },
   "outputs": [],
   "source": []
  }
 ],
 "metadata": {
  "kernelspec": {
   "display_name": "leeds-2023-YZF5GfJv",
   "language": "python",
   "name": "python3"
  },
  "language_info": {
   "codemirror_mode": {
    "name": "ipython",
    "version": 3
   },
   "file_extension": ".py",
   "mimetype": "text/x-python",
   "name": "python",
   "nbconvert_exporter": "python",
   "pygments_lexer": "ipython3",
   "version": "3.10.13"
  },
  "papermill": {
   "default_parameters": {},
   "duration": 2.277111,
   "end_time": "2023-09-25T23:40:25.876753",
   "environment_variables": {},
   "exception": null,
   "input_path": "prepare.ipynb",
   "output_path": "../../../working/output/promote-events-prepare.ipynb",
   "parameters": {},
   "start_time": "2023-09-25T23:40:23.599642",
   "version": "2.4.0"
  }
 },
 "nbformat": 4,
 "nbformat_minor": 5
}