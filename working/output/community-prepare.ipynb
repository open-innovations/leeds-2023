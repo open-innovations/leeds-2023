{
 "cells": [
  {
   "cell_type": "code",
   "execution_count": 1,
   "id": "b16ec363",
   "metadata": {
    "execution": {
     "iopub.execute_input": "2023-08-03T23:38:11.600601Z",
     "iopub.status.busy": "2023-08-03T23:38:11.600066Z",
     "iopub.status.idle": "2023-08-03T23:38:11.829919Z",
     "shell.execute_reply": "2023-08-03T23:38:11.829296Z"
    },
    "papermill": {
     "duration": 0.235201,
     "end_time": "2023-08-03T23:38:11.832000",
     "exception": false,
     "start_time": "2023-08-03T23:38:11.596799",
     "status": "completed"
    },
    "tags": []
   },
   "outputs": [],
   "source": [
    "import os, sys\n",
    "TOP_DIR = os.path.realpath('../../..')\n",
    "if TOP_DIR not in sys.path: sys.path.append(TOP_DIR)\n",
    "import pandas as pd"
   ]
  },
  {
   "cell_type": "code",
   "execution_count": 2,
   "id": "caab63bd",
   "metadata": {
    "execution": {
     "iopub.execute_input": "2023-08-03T23:38:11.836699Z",
     "iopub.status.busy": "2023-08-03T23:38:11.836018Z",
     "iopub.status.idle": "2023-08-03T23:38:11.840066Z",
     "shell.execute_reply": "2023-08-03T23:38:11.839544Z"
    },
    "papermill": {
     "duration": 0.007702,
     "end_time": "2023-08-03T23:38:11.841487",
     "exception": false,
     "start_time": "2023-08-03T23:38:11.833785",
     "status": "completed"
    },
    "tags": []
   },
   "outputs": [],
   "source": [
    "from lib.util.convert import named_cumulative_sum"
   ]
  },
  {
   "cell_type": "code",
   "execution_count": 3,
   "id": "07833f2f",
   "metadata": {
    "execution": {
     "iopub.execute_input": "2023-08-03T23:38:11.845348Z",
     "iopub.status.busy": "2023-08-03T23:38:11.845153Z",
     "iopub.status.idle": "2023-08-03T23:38:11.854364Z",
     "shell.execute_reply": "2023-08-03T23:38:11.853833Z"
    },
    "papermill": {
     "duration": 0.012763,
     "end_time": "2023-08-03T23:38:11.855687",
     "exception": false,
     "start_time": "2023-08-03T23:38:11.842924",
     "status": "completed"
    },
    "tags": []
   },
   "outputs": [],
   "source": [
    "data = pd.read_csv('../../../data/metrics/community/events.csv', parse_dates=['start_date'])\n",
    "data.ward_code = data.ward_code.fillna('UNKNOWN')"
   ]
  },
  {
   "cell_type": "markdown",
   "id": "306149d0",
   "metadata": {
    "papermill": {
     "duration": 0.001443,
     "end_time": "2023-08-03T23:38:11.858601",
     "exception": false,
     "start_time": "2023-08-03T23:38:11.857158",
     "status": "completed"
    },
    "tags": []
   },
   "source": [
    "Set up output directories"
   ]
  },
  {
   "cell_type": "code",
   "execution_count": 4,
   "id": "502ecc2a",
   "metadata": {
    "execution": {
     "iopub.execute_input": "2023-08-03T23:38:11.862462Z",
     "iopub.status.busy": "2023-08-03T23:38:11.862251Z",
     "iopub.status.idle": "2023-08-03T23:38:11.865167Z",
     "shell.execute_reply": "2023-08-03T23:38:11.864579Z"
    },
    "papermill": {
     "duration": 0.006591,
     "end_time": "2023-08-03T23:38:11.866619",
     "exception": false,
     "start_time": "2023-08-03T23:38:11.860028",
     "status": "completed"
    },
    "tags": []
   },
   "outputs": [],
   "source": [
    "OUT_DIR = '../../../docs/metrics/community/_data'\n",
    "os.makedirs(OUT_DIR, exist_ok=True)"
   ]
  },
  {
   "cell_type": "code",
   "execution_count": 5,
   "id": "45d98424",
   "metadata": {
    "execution": {
     "iopub.execute_input": "2023-08-03T23:38:11.870551Z",
     "iopub.status.busy": "2023-08-03T23:38:11.870227Z",
     "iopub.status.idle": "2023-08-03T23:38:11.876466Z",
     "shell.execute_reply": "2023-08-03T23:38:11.875836Z"
    },
    "papermill": {
     "duration": 0.009656,
     "end_time": "2023-08-03T23:38:11.877730",
     "exception": false,
     "start_time": "2023-08-03T23:38:11.868074",
     "status": "completed"
    },
    "tags": []
   },
   "outputs": [],
   "source": [
    "pd.Series({\n",
    "  'events': data.event_name.count(),\n",
    "  'audience': data.audience.sum().astype(int),\n",
    "  'errors': {\n",
    "    'missing_wards': (data.ward_code == 'UNKNOWN').value_counts()[True],\n",
    "    'missing_audience': data.audience.isna().value_counts()[True],\n",
    "    'zero_audience':  (data.audience < 1).value_counts()[True],  \n",
    "  }\n",
    "}).to_json(os.path.join(OUT_DIR, 'headlines.json'), indent=2)"
   ]
  },
  {
   "cell_type": "code",
   "execution_count": 6,
   "id": "1fcf4e6a",
   "metadata": {
    "execution": {
     "iopub.execute_input": "2023-08-03T23:38:11.881653Z",
     "iopub.status.busy": "2023-08-03T23:38:11.881457Z",
     "iopub.status.idle": "2023-08-03T23:38:11.888006Z",
     "shell.execute_reply": "2023-08-03T23:38:11.887475Z"
    },
    "papermill": {
     "duration": 0.010193,
     "end_time": "2023-08-03T23:38:11.889427",
     "exception": false,
     "start_time": "2023-08-03T23:38:11.879234",
     "status": "completed"
    },
    "tags": []
   },
   "outputs": [],
   "source": [
    "by_ward = pd.DataFrame({\n",
    "  'events': data.groupby('ward_code').event_name.count().fillna(0).astype('int'),\n",
    "  'audience': data.groupby('ward_code').audience.sum().fillna(0).astype('int'),\n",
    "}).to_csv(os.path.join(OUT_DIR, 'by_ward.csv'))"
   ]
  },
  {
   "cell_type": "code",
   "execution_count": 7,
   "id": "175f2fe6",
   "metadata": {
    "execution": {
     "iopub.execute_input": "2023-08-03T23:38:11.893688Z",
     "iopub.status.busy": "2023-08-03T23:38:11.893361Z",
     "iopub.status.idle": "2023-08-03T23:38:11.904262Z",
     "shell.execute_reply": "2023-08-03T23:38:11.903705Z"
    },
    "papermill": {
     "duration": 0.014595,
     "end_time": "2023-08-03T23:38:11.905625",
     "exception": false,
     "start_time": "2023-08-03T23:38:11.891030",
     "status": "completed"
    },
    "tags": []
   },
   "outputs": [],
   "source": [
    "by_date = pd.DataFrame({\n",
    "    'events': data.groupby('start_date').event_name.count(),\n",
    "    'audience': data.groupby('start_date').audience.sum(),\n",
    "}).resample('M').sum()\n",
    "\n",
    "pd.concat([\n",
    "    by_date,\n",
    "    by_date.pipe(named_cumulative_sum)\n",
    "], axis=1).astype('int').to_csv(os.path.join(OUT_DIR, 'by_date.csv'))"
   ]
  }
 ],
 "metadata": {
  "kernelspec": {
   "display_name": "leeds-2023-YZF5GfJv",
   "language": "python",
   "name": "python3"
  },
  "language_info": {
   "codemirror_mode": {
    "name": "ipython",
    "version": 3
   },
   "file_extension": ".py",
   "mimetype": "text/x-python",
   "name": "python",
   "nbconvert_exporter": "python",
   "pygments_lexer": "ipython3",
   "version": "3.10.6"
  },
  "papermill": {
   "default_parameters": {},
   "duration": 1.910177,
   "end_time": "2023-08-03T23:38:12.124547",
   "environment_variables": {},
   "exception": null,
   "input_path": "prepare.ipynb",
   "output_path": "../../../working/output/community-prepare.ipynb",
   "parameters": {},
   "start_time": "2023-08-03T23:38:10.214370",
   "version": "2.4.0"
  }
 },
 "nbformat": 4,
 "nbformat_minor": 5
}