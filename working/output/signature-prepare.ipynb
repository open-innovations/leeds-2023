{
 "cells": [
  {
   "cell_type": "code",
   "execution_count": 1,
   "id": "db37e257",
   "metadata": {
    "execution": {
     "iopub.execute_input": "2023-09-22T23:40:36.239709Z",
     "iopub.status.busy": "2023-09-22T23:40:36.239164Z",
     "iopub.status.idle": "2023-09-22T23:40:50.593268Z",
     "shell.execute_reply": "2023-09-22T23:40:50.592352Z"
    },
    "papermill": {
     "duration": 14.3622,
     "end_time": "2023-09-22T23:40:50.595680",
     "exception": false,
     "start_time": "2023-09-22T23:40:36.233480",
     "status": "completed"
    },
    "tags": []
   },
   "outputs": [],
   "source": [
    "import os\n",
    "import pandas as pd\n",
    "from events import load_event_data, get_first_ward, normalise_ward"
   ]
  },
  {
   "cell_type": "code",
   "execution_count": 2,
   "id": "69806cfc",
   "metadata": {
    "execution": {
     "iopub.execute_input": "2023-09-22T23:40:50.604804Z",
     "iopub.status.busy": "2023-09-22T23:40:50.604067Z",
     "iopub.status.idle": "2023-09-22T23:40:50.609344Z",
     "shell.execute_reply": "2023-09-22T23:40:50.608383Z"
    },
    "papermill": {
     "duration": 0.012134,
     "end_time": "2023-09-22T23:40:50.611525",
     "exception": false,
     "start_time": "2023-09-22T23:40:50.599391",
     "status": "completed"
    },
    "tags": []
   },
   "outputs": [],
   "source": [
    "latest_date = pd.Timestamp.today().ceil('D')"
   ]
  },
  {
   "cell_type": "code",
   "execution_count": 3,
   "id": "ecf08411",
   "metadata": {
    "execution": {
     "iopub.execute_input": "2023-09-22T23:40:50.619987Z",
     "iopub.status.busy": "2023-09-22T23:40:50.619272Z",
     "iopub.status.idle": "2023-09-22T23:40:50.646126Z",
     "shell.execute_reply": "2023-09-22T23:40:50.645137Z"
    },
    "papermill": {
     "duration": 0.033917,
     "end_time": "2023-09-22T23:40:50.648600",
     "exception": false,
     "start_time": "2023-09-22T23:40:50.614683",
     "status": "completed"
    },
    "tags": []
   },
   "outputs": [],
   "source": [
    "tickets = pd.read_csv('../../../../data/metrics/events/tickets/orders.csv', parse_dates=['created_at', 'event_date'])\n",
    "tickets = tickets[tickets.event_date <= latest_date]"
   ]
  },
  {
   "cell_type": "code",
   "execution_count": 4,
   "id": "7efba89c",
   "metadata": {
    "execution": {
     "iopub.execute_input": "2023-09-22T23:40:50.657427Z",
     "iopub.status.busy": "2023-09-22T23:40:50.656635Z",
     "iopub.status.idle": "2023-09-22T23:40:50.977545Z",
     "shell.execute_reply": "2023-09-22T23:40:50.976441Z"
    },
    "papermill": {
     "duration": 0.327844,
     "end_time": "2023-09-22T23:40:50.979989",
     "exception": false,
     "start_time": "2023-09-22T23:40:50.652145",
     "status": "completed"
    },
    "tags": []
   },
   "outputs": [],
   "source": [
    "events = load_event_data()\n",
    "\n",
    "events = pd.concat([\n",
    "  events,\n",
    "  events.pipe(get_first_ward).pipe(normalise_ward).fillna('UNKNOWN'),\n",
    "  pd.Series(\n",
    "      events.actual_audience_size_number_of_participants_in_person + events.actual_audience_size_number_of_participants_online,\n",
    "      name='attendances'\n",
    "  )\n",
    "], axis=1).rename(columns={\n",
    "    'start_date': 'date'\n",
    "}).loc[:, ['ward_code', 'date', 'event_unique_identifier', 'attendances']]"
   ]
  },
  {
   "cell_type": "code",
   "execution_count": 5,
   "id": "c1e086e8",
   "metadata": {
    "execution": {
     "iopub.execute_input": "2023-09-22T23:40:50.988482Z",
     "iopub.status.busy": "2023-09-22T23:40:50.988109Z",
     "iopub.status.idle": "2023-09-22T23:40:50.993077Z",
     "shell.execute_reply": "2023-09-22T23:40:50.992013Z"
    },
    "papermill": {
     "duration": 0.011796,
     "end_time": "2023-09-22T23:40:50.995348",
     "exception": false,
     "start_time": "2023-09-22T23:40:50.983552",
     "status": "completed"
    },
    "tags": []
   },
   "outputs": [],
   "source": [
    "OUTPUT_DIR='../../../../docs/metrics/events/signature/_data/'\n",
    "os.makedirs(OUTPUT_DIR, exist_ok=True)"
   ]
  },
  {
   "cell_type": "markdown",
   "id": "88ff4c00",
   "metadata": {
    "papermill": {
     "duration": 0.003235,
     "end_time": "2023-09-22T23:40:51.002018",
     "exception": false,
     "start_time": "2023-09-22T23:40:50.998783",
     "status": "completed"
    },
    "tags": []
   },
   "source": [
    "Events CSVs"
   ]
  },
  {
   "cell_type": "code",
   "execution_count": 6,
   "id": "7bb26c5a",
   "metadata": {
    "execution": {
     "iopub.execute_input": "2023-09-22T23:40:51.010045Z",
     "iopub.status.busy": "2023-09-22T23:40:51.009675Z",
     "iopub.status.idle": "2023-09-22T23:40:51.019761Z",
     "shell.execute_reply": "2023-09-22T23:40:51.018866Z"
    },
    "papermill": {
     "duration": 0.016684,
     "end_time": "2023-09-22T23:40:51.021798",
     "exception": false,
     "start_time": "2023-09-22T23:40:51.005114",
     "status": "completed"
    },
    "tags": []
   },
   "outputs": [],
   "source": [
    "pd.DataFrame({\n",
    "  'events': events.groupby('ward_code').event_unique_identifier.count(),\n",
    "  'attendances': events.groupby('ward_code').attendances.sum().astype(int),\n",
    "}).to_csv(os.path.join(OUTPUT_DIR, 'events_by_ward.csv'))\n"
   ]
  },
  {
   "cell_type": "code",
   "execution_count": 7,
   "id": "c258f74e",
   "metadata": {
    "execution": {
     "iopub.execute_input": "2023-09-22T23:40:51.030708Z",
     "iopub.status.busy": "2023-09-22T23:40:51.029752Z",
     "iopub.status.idle": "2023-09-22T23:40:51.045605Z",
     "shell.execute_reply": "2023-09-22T23:40:51.044484Z"
    },
    "papermill": {
     "duration": 0.023242,
     "end_time": "2023-09-22T23:40:51.048598",
     "exception": false,
     "start_time": "2023-09-22T23:40:51.025356",
     "status": "completed"
    },
    "tags": []
   },
   "outputs": [],
   "source": [
    "pd.DataFrame({\n",
    "  'events': events.groupby('date').event_unique_identifier.count(),\n",
    "  'attendances': events.groupby('date').attendances.sum().astype(int),\n",
    "}).resample('M').sum().astype(int).to_csv(os.path.join(OUTPUT_DIR, 'events_by_date.csv'))"
   ]
  },
  {
   "cell_type": "markdown",
   "id": "23147693",
   "metadata": {
    "papermill": {
     "duration": 0.003343,
     "end_time": "2023-09-22T23:40:51.055336",
     "exception": false,
     "start_time": "2023-09-22T23:40:51.051993",
     "status": "completed"
    },
    "tags": []
   },
   "source": [
    "Tickets CSV"
   ]
  },
  {
   "cell_type": "code",
   "execution_count": 8,
   "id": "1f14d3cf",
   "metadata": {
    "execution": {
     "iopub.execute_input": "2023-09-22T23:40:51.064551Z",
     "iopub.status.busy": "2023-09-22T23:40:51.063397Z",
     "iopub.status.idle": "2023-09-22T23:40:51.077938Z",
     "shell.execute_reply": "2023-09-22T23:40:51.076592Z"
    },
    "papermill": {
     "duration": 0.021905,
     "end_time": "2023-09-22T23:40:51.080413",
     "exception": false,
     "start_time": "2023-09-22T23:40:51.058508",
     "status": "completed"
    },
    "tags": []
   },
   "outputs": [],
   "source": [
    "pd.DataFrame({\n",
    "  'orders': tickets.groupby('ward_code').number_of_tickets.count(),\n",
    "  'tickets': tickets.groupby('ward_code').number_of_tickets.sum().astype(int),\n",
    "}).to_csv(os.path.join(OUTPUT_DIR, 'tickets_by_ward.csv'))"
   ]
  },
  {
   "cell_type": "code",
   "execution_count": 9,
   "id": "b5a14bb9",
   "metadata": {
    "execution": {
     "iopub.execute_input": "2023-09-22T23:40:51.089609Z",
     "iopub.status.busy": "2023-09-22T23:40:51.088729Z",
     "iopub.status.idle": "2023-09-22T23:40:51.101533Z",
     "shell.execute_reply": "2023-09-22T23:40:51.100427Z"
    },
    "papermill": {
     "duration": 0.020078,
     "end_time": "2023-09-22T23:40:51.104273",
     "exception": false,
     "start_time": "2023-09-22T23:40:51.084195",
     "status": "completed"
    },
    "tags": []
   },
   "outputs": [],
   "source": [
    "pd.DataFrame({\n",
    "  'orders': tickets.groupby('event_date').number_of_tickets.count(),\n",
    "  'tickets': tickets.groupby('event_date').number_of_tickets.sum().astype(int),\n",
    "}).resample('M').sum().to_csv(os.path.join(OUTPUT_DIR, 'tickets_by_event_date.csv'))"
   ]
  },
  {
   "cell_type": "code",
   "execution_count": 10,
   "id": "0248ab4f",
   "metadata": {
    "execution": {
     "iopub.execute_input": "2023-09-22T23:40:51.114242Z",
     "iopub.status.busy": "2023-09-22T23:40:51.113864Z",
     "iopub.status.idle": "2023-09-22T23:40:51.121646Z",
     "shell.execute_reply": "2023-09-22T23:40:51.120726Z"
    },
    "papermill": {
     "duration": 0.01637,
     "end_time": "2023-09-22T23:40:51.124014",
     "exception": false,
     "start_time": "2023-09-22T23:40:51.107644",
     "status": "completed"
    },
    "tags": []
   },
   "outputs": [],
   "source": [
    "pd.Series({\n",
    "    'total_events': events.event_unique_identifier.count(),\n",
    "    'total_attendances': events.attendances.count(),\n",
    "    'first_event': events.date.min(),\n",
    "    'latest_event': events.date.max(),\n",
    "    'total_ticket_orders_for_events_to_date': tickets.number_of_tickets.count(),\n",
    "    'total_tickets_sold_for_events_to_date': tickets.number_of_tickets.sum(),\n",
    "}).to_json(os.path.join(OUTPUT_DIR, 'headlines.json'), indent=2)"
   ]
  },
  {
   "cell_type": "code",
   "execution_count": null,
   "id": "71048baa",
   "metadata": {
    "papermill": {
     "duration": 0.003301,
     "end_time": "2023-09-22T23:40:51.130995",
     "exception": false,
     "start_time": "2023-09-22T23:40:51.127694",
     "status": "completed"
    },
    "tags": []
   },
   "outputs": [],
   "source": []
  }
 ],
 "metadata": {
  "kernelspec": {
   "display_name": "leeds-2023-YZF5GfJv",
   "language": "python",
   "name": "python3"
  },
  "language_info": {
   "codemirror_mode": {
    "name": "ipython",
    "version": 3
   },
   "file_extension": ".py",
   "mimetype": "text/x-python",
   "name": "python",
   "nbconvert_exporter": "python",
   "pygments_lexer": "ipython3",
   "version": "3.10.13"
  },
  "papermill": {
   "default_parameters": {},
   "duration": 17.502032,
   "end_time": "2023-09-22T23:40:51.657937",
   "environment_variables": {},
   "exception": null,
   "input_path": "prepare.ipynb",
   "output_path": "../../../../working/output/signature-prepare.ipynb",
   "parameters": {},
   "start_time": "2023-09-22T23:40:34.155905",
   "version": "2.4.0"
  }
 },
 "nbformat": 4,
 "nbformat_minor": 5
}