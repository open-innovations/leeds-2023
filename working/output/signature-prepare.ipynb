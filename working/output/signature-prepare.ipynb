{
 "cells": [
  {
   "cell_type": "code",
   "execution_count": 1,
   "id": "c439b58c",
   "metadata": {
    "execution": {
     "iopub.execute_input": "2023-10-22T23:40:04.454666Z",
     "iopub.status.busy": "2023-10-22T23:40:04.453960Z",
     "iopub.status.idle": "2023-10-22T23:40:14.810296Z",
     "shell.execute_reply": "2023-10-22T23:40:14.809609Z"
    },
    "papermill": {
     "duration": 10.362097,
     "end_time": "2023-10-22T23:40:14.812073",
     "exception": false,
     "start_time": "2023-10-22T23:40:04.449976",
     "status": "completed"
    },
    "tags": []
   },
   "outputs": [],
   "source": [
    "import os\n",
    "import pandas as pd\n",
    "from events import load_event_data, get_first_ward, normalise_ward"
   ]
  },
  {
   "cell_type": "code",
   "execution_count": 2,
   "id": "54533826",
   "metadata": {
    "execution": {
     "iopub.execute_input": "2023-10-22T23:40:14.818497Z",
     "iopub.status.busy": "2023-10-22T23:40:14.818026Z",
     "iopub.status.idle": "2023-10-22T23:40:14.822719Z",
     "shell.execute_reply": "2023-10-22T23:40:14.822111Z"
    },
    "papermill": {
     "duration": 0.009672,
     "end_time": "2023-10-22T23:40:14.824402",
     "exception": false,
     "start_time": "2023-10-22T23:40:14.814730",
     "status": "completed"
    },
    "tags": []
   },
   "outputs": [],
   "source": [
    "latest_date = pd.Timestamp.today().ceil('D')"
   ]
  },
  {
   "cell_type": "code",
   "execution_count": 3,
   "id": "0cee9e1d",
   "metadata": {
    "execution": {
     "iopub.execute_input": "2023-10-22T23:40:14.830120Z",
     "iopub.status.busy": "2023-10-22T23:40:14.829682Z",
     "iopub.status.idle": "2023-10-22T23:40:14.847151Z",
     "shell.execute_reply": "2023-10-22T23:40:14.846552Z"
    },
    "papermill": {
     "duration": 0.022057,
     "end_time": "2023-10-22T23:40:14.848769",
     "exception": false,
     "start_time": "2023-10-22T23:40:14.826712",
     "status": "completed"
    },
    "tags": []
   },
   "outputs": [],
   "source": [
    "tickets = pd.read_csv('../../../../data/metrics/events/tickets/orders.csv', parse_dates=['created_at', 'event_date'])\n",
    "tickets = tickets[tickets.event_date <= latest_date]"
   ]
  },
  {
   "cell_type": "code",
   "execution_count": 4,
   "id": "42d37192",
   "metadata": {
    "execution": {
     "iopub.execute_input": "2023-10-22T23:40:14.854462Z",
     "iopub.status.busy": "2023-10-22T23:40:14.854048Z",
     "iopub.status.idle": "2023-10-22T23:40:14.902714Z",
     "shell.execute_reply": "2023-10-22T23:40:14.901913Z"
    },
    "papermill": {
     "duration": 0.053363,
     "end_time": "2023-10-22T23:40:14.904432",
     "exception": false,
     "start_time": "2023-10-22T23:40:14.851069",
     "status": "completed"
    },
    "tags": []
   },
   "outputs": [],
   "source": [
    "events = load_event_data()\n",
    "\n",
    "events = pd.concat([\n",
    "  events,\n",
    "  events.pipe(get_first_ward).pipe(normalise_ward).fillna('UNKNOWN'),\n",
    "  pd.Series(\n",
    "      events.actual_audience_size_number_of_participants_in_person + events.actual_audience_size_number_of_participants_online,\n",
    "      name='attendances'\n",
    "  )\n",
    "], axis=1).rename(columns={\n",
    "    'start_date': 'date'\n",
    "}).loc[:, ['ward_code', 'date', 'event_unique_identifier', 'attendances']]"
   ]
  },
  {
   "cell_type": "code",
   "execution_count": 5,
   "id": "f28b141a",
   "metadata": {
    "execution": {
     "iopub.execute_input": "2023-10-22T23:40:14.910753Z",
     "iopub.status.busy": "2023-10-22T23:40:14.910162Z",
     "iopub.status.idle": "2023-10-22T23:40:14.913734Z",
     "shell.execute_reply": "2023-10-22T23:40:14.913101Z"
    },
    "papermill": {
     "duration": 0.008401,
     "end_time": "2023-10-22T23:40:14.915315",
     "exception": false,
     "start_time": "2023-10-22T23:40:14.906914",
     "status": "completed"
    },
    "tags": []
   },
   "outputs": [],
   "source": [
    "OUTPUT_DIR='../../../../docs/metrics/events/signature/_data/'\n",
    "os.makedirs(OUTPUT_DIR, exist_ok=True)"
   ]
  },
  {
   "cell_type": "markdown",
   "id": "ee1efc3a",
   "metadata": {
    "papermill": {
     "duration": 0.00268,
     "end_time": "2023-10-22T23:40:14.920566",
     "exception": false,
     "start_time": "2023-10-22T23:40:14.917886",
     "status": "completed"
    },
    "tags": []
   },
   "source": [
    "Events CSVs"
   ]
  },
  {
   "cell_type": "code",
   "execution_count": 6,
   "id": "47aee60d",
   "metadata": {
    "execution": {
     "iopub.execute_input": "2023-10-22T23:40:14.926209Z",
     "iopub.status.busy": "2023-10-22T23:40:14.925989Z",
     "iopub.status.idle": "2023-10-22T23:40:14.933047Z",
     "shell.execute_reply": "2023-10-22T23:40:14.932457Z"
    },
    "papermill": {
     "duration": 0.011687,
     "end_time": "2023-10-22T23:40:14.934586",
     "exception": false,
     "start_time": "2023-10-22T23:40:14.922899",
     "status": "completed"
    },
    "tags": []
   },
   "outputs": [],
   "source": [
    "pd.DataFrame({\n",
    "  'events': events.groupby('ward_code').event_unique_identifier.count(),\n",
    "  'attendances': events.groupby('ward_code').attendances.sum().astype(int),\n",
    "}).to_csv(os.path.join(OUTPUT_DIR, 'events_by_ward.csv'))\n"
   ]
  },
  {
   "cell_type": "code",
   "execution_count": 7,
   "id": "699dbe9c",
   "metadata": {
    "execution": {
     "iopub.execute_input": "2023-10-22T23:40:14.940490Z",
     "iopub.status.busy": "2023-10-22T23:40:14.940070Z",
     "iopub.status.idle": "2023-10-22T23:40:14.948868Z",
     "shell.execute_reply": "2023-10-22T23:40:14.948278Z"
    },
    "papermill": {
     "duration": 0.013356,
     "end_time": "2023-10-22T23:40:14.950336",
     "exception": false,
     "start_time": "2023-10-22T23:40:14.936980",
     "status": "completed"
    },
    "tags": []
   },
   "outputs": [],
   "source": [
    "pd.DataFrame({\n",
    "  'events': events.groupby('date').event_unique_identifier.count(),\n",
    "  'attendances': events.groupby('date').attendances.sum().astype(int),\n",
    "}).resample('M').sum().astype(int).to_csv(os.path.join(OUTPUT_DIR, 'events_by_date.csv'))"
   ]
  },
  {
   "cell_type": "markdown",
   "id": "04174a0d",
   "metadata": {
    "papermill": {
     "duration": 0.002388,
     "end_time": "2023-10-22T23:40:14.955978",
     "exception": false,
     "start_time": "2023-10-22T23:40:14.953590",
     "status": "completed"
    },
    "tags": []
   },
   "source": [
    "Tickets CSV"
   ]
  },
  {
   "cell_type": "code",
   "execution_count": 8,
   "id": "25bbdbf5",
   "metadata": {
    "execution": {
     "iopub.execute_input": "2023-10-22T23:40:14.961945Z",
     "iopub.status.busy": "2023-10-22T23:40:14.961518Z",
     "iopub.status.idle": "2023-10-22T23:40:14.968472Z",
     "shell.execute_reply": "2023-10-22T23:40:14.967940Z"
    },
    "papermill": {
     "duration": 0.011649,
     "end_time": "2023-10-22T23:40:14.970004",
     "exception": false,
     "start_time": "2023-10-22T23:40:14.958355",
     "status": "completed"
    },
    "tags": []
   },
   "outputs": [],
   "source": [
    "pd.DataFrame({\n",
    "  'orders': tickets.groupby('ward_code').number_of_tickets.count(),\n",
    "  'tickets': tickets.groupby('ward_code').number_of_tickets.sum().astype(int),\n",
    "}).to_csv(os.path.join(OUTPUT_DIR, 'tickets_by_ward.csv'))"
   ]
  },
  {
   "cell_type": "code",
   "execution_count": 9,
   "id": "b63e6a7b",
   "metadata": {
    "execution": {
     "iopub.execute_input": "2023-10-22T23:40:14.976190Z",
     "iopub.status.busy": "2023-10-22T23:40:14.975638Z",
     "iopub.status.idle": "2023-10-22T23:40:14.983558Z",
     "shell.execute_reply": "2023-10-22T23:40:14.982979Z"
    },
    "papermill": {
     "duration": 0.01254,
     "end_time": "2023-10-22T23:40:14.985013",
     "exception": false,
     "start_time": "2023-10-22T23:40:14.972473",
     "status": "completed"
    },
    "tags": []
   },
   "outputs": [],
   "source": [
    "pd.DataFrame({\n",
    "  'orders': tickets.groupby('event_date').number_of_tickets.count(),\n",
    "  'tickets': tickets.groupby('event_date').number_of_tickets.sum().astype(int),\n",
    "}).resample('M').sum().to_csv(os.path.join(OUTPUT_DIR, 'tickets_by_event_date.csv'))"
   ]
  },
  {
   "cell_type": "code",
   "execution_count": 10,
   "id": "b9ed7c07",
   "metadata": {
    "execution": {
     "iopub.execute_input": "2023-10-22T23:40:14.991343Z",
     "iopub.status.busy": "2023-10-22T23:40:14.990784Z",
     "iopub.status.idle": "2023-10-22T23:40:14.996039Z",
     "shell.execute_reply": "2023-10-22T23:40:14.995377Z"
    },
    "papermill": {
     "duration": 0.010106,
     "end_time": "2023-10-22T23:40:14.997663",
     "exception": false,
     "start_time": "2023-10-22T23:40:14.987557",
     "status": "completed"
    },
    "tags": []
   },
   "outputs": [],
   "source": [
    "pd.Series({\n",
    "    'total_events': events.event_unique_identifier.count(),\n",
    "    'total_attendances': events.attendances.count(),\n",
    "    'first_event': events.date.min(),\n",
    "    'latest_event': events.date.max(),\n",
    "    'total_ticket_orders_for_events_to_date': tickets.number_of_tickets.count(),\n",
    "    'total_tickets_sold_for_events_to_date': tickets.number_of_tickets.sum(),\n",
    "}).to_json(os.path.join(OUTPUT_DIR, 'headlines.json'), indent=2)"
   ]
  },
  {
   "cell_type": "code",
   "execution_count": null,
   "id": "cfae95d6",
   "metadata": {
    "papermill": {
     "duration": 0.002455,
     "end_time": "2023-10-22T23:40:15.002639",
     "exception": false,
     "start_time": "2023-10-22T23:40:15.000184",
     "status": "completed"
    },
    "tags": []
   },
   "outputs": [],
   "source": []
  }
 ],
 "metadata": {
  "kernelspec": {
   "display_name": "leeds-2023-YZF5GfJv",
   "language": "python",
   "name": "python3"
  },
  "language_info": {
   "codemirror_mode": {
    "name": "ipython",
    "version": 3
   },
   "file_extension": ".py",
   "mimetype": "text/x-python",
   "name": "python",
   "nbconvert_exporter": "python",
   "pygments_lexer": "ipython3",
   "version": "3.10.13"
  },
  "papermill": {
   "default_parameters": {},
   "duration": 12.23137,
   "end_time": "2023-10-22T23:40:15.322131",
   "environment_variables": {},
   "exception": null,
   "input_path": "prepare.ipynb",
   "output_path": "../../../../working/output/signature-prepare.ipynb",
   "parameters": {},
   "start_time": "2023-10-22T23:40:03.090761",
   "version": "2.4.0"
  }
 },
 "nbformat": 4,
 "nbformat_minor": 5
}