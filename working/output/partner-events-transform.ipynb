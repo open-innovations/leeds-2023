{
 "cells": [
  {
   "cell_type": "code",
   "execution_count": 1,
   "id": "22b7537f",
   "metadata": {
    "execution": {
     "iopub.execute_input": "2023-10-16T23:37:36.898900Z",
     "iopub.status.busy": "2023-10-16T23:37:36.898303Z",
     "iopub.status.idle": "2023-10-16T23:37:37.158399Z",
     "shell.execute_reply": "2023-10-16T23:37:37.157652Z"
    },
    "papermill": {
     "duration": 0.267903,
     "end_time": "2023-10-16T23:37:37.160870",
     "exception": false,
     "start_time": "2023-10-16T23:37:36.892967",
     "status": "completed"
    },
    "tags": []
   },
   "outputs": [],
   "source": [
    "import os\n",
    "import sys\n",
    "import pandas as pd\n",
    "lib_dir = os.path.realpath('../../../lib/')\n",
    "if lib_dir not in sys.path: sys.path.append(lib_dir)"
   ]
  },
  {
   "cell_type": "code",
   "execution_count": 2,
   "id": "924bbe46",
   "metadata": {
    "execution": {
     "iopub.execute_input": "2023-10-16T23:37:37.168553Z",
     "iopub.status.busy": "2023-10-16T23:37:37.167900Z",
     "iopub.status.idle": "2023-10-16T23:37:47.486375Z",
     "shell.execute_reply": "2023-10-16T23:37:47.485597Z"
    },
    "papermill": {
     "duration": 10.323935,
     "end_time": "2023-10-16T23:37:47.488224",
     "exception": false,
     "start_time": "2023-10-16T23:37:37.164289",
     "status": "completed"
    },
    "tags": []
   },
   "outputs": [],
   "source": [
    "import util.geo"
   ]
  },
  {
   "cell_type": "code",
   "execution_count": 3,
   "id": "ae9b0781",
   "metadata": {
    "execution": {
     "iopub.execute_input": "2023-10-16T23:37:47.495665Z",
     "iopub.status.busy": "2023-10-16T23:37:47.495066Z",
     "iopub.status.idle": "2023-10-16T23:37:47.499740Z",
     "shell.execute_reply": "2023-10-16T23:37:47.499130Z"
    },
    "papermill": {
     "duration": 0.009985,
     "end_time": "2023-10-16T23:37:47.501330",
     "exception": false,
     "start_time": "2023-10-16T23:37:47.491345",
     "status": "completed"
    },
    "tags": []
   },
   "outputs": [],
   "source": [
    "EVENTS_RAW_DATA = '../../../working/metrics/partner-events/events.csv'\n",
    "DATA_DIR = '../../../data/metrics/events/partner-events/'\n",
    "EVENTS_DATA = os.path.join(DATA_DIR, 'events.csv')"
   ]
  },
  {
   "cell_type": "code",
   "execution_count": 4,
   "id": "204a7b07",
   "metadata": {
    "execution": {
     "iopub.execute_input": "2023-10-16T23:37:47.508010Z",
     "iopub.status.busy": "2023-10-16T23:37:47.507478Z",
     "iopub.status.idle": "2023-10-16T23:37:47.512214Z",
     "shell.execute_reply": "2023-10-16T23:37:47.511606Z"
    },
    "papermill": {
     "duration": 0.009602,
     "end_time": "2023-10-16T23:37:47.513648",
     "exception": false,
     "start_time": "2023-10-16T23:37:47.504046",
     "status": "completed"
    },
    "tags": []
   },
   "outputs": [],
   "source": [
    "columns = {\n",
    "    'Event Name': 'name',\n",
    "    'Event Start Date': 'start_date',\n",
    "    'Event End Date': 'end_date',\n",
    "    'Partner/Promote': 'partner_promote',\n",
    "    'Stage': 'stage',\n",
    "    'Live date': 'live_date',\n",
    "    'Venue postcode': 'postcode',\n",
    "    'Pricing Policy': 'pricing',\n",
    "    'Venue - including address': 'venue',\n",
    "    'Is this event on Leeds Inspried?': 'on_leeds_inspired',\n",
    "}"
   ]
  },
  {
   "cell_type": "markdown",
   "id": "a9b5979e",
   "metadata": {
    "papermill": {
     "duration": 0.002741,
     "end_time": "2023-10-16T23:37:47.519083",
     "exception": false,
     "start_time": "2023-10-16T23:37:47.516342",
     "status": "completed"
    },
    "tags": []
   },
   "source": [
    "Load the data and rename columns. Parse the dates to dates."
   ]
  },
  {
   "cell_type": "code",
   "execution_count": 5,
   "id": "13684e7c",
   "metadata": {
    "execution": {
     "iopub.execute_input": "2023-10-16T23:37:47.525920Z",
     "iopub.status.busy": "2023-10-16T23:37:47.525275Z",
     "iopub.status.idle": "2023-10-16T23:37:47.537009Z",
     "shell.execute_reply": "2023-10-16T23:37:47.536421Z"
    },
    "papermill": {
     "duration": 0.016825,
     "end_time": "2023-10-16T23:37:47.538607",
     "exception": false,
     "start_time": "2023-10-16T23:37:47.521782",
     "status": "completed"
    },
    "tags": []
   },
   "outputs": [],
   "source": [
    "data = pd.read_csv(EVENTS_RAW_DATA)[columns.keys()].rename(columns=columns)\n",
    "data.start_date = pd.to_datetime(data.start_date, errors='coerce')\n",
    "data.end_date = pd.to_datetime(data.end_date, errors='coerce')"
   ]
  },
  {
   "cell_type": "markdown",
   "id": "9317ea49",
   "metadata": {
    "papermill": {
     "duration": 0.002712,
     "end_time": "2023-10-16T23:37:47.544073",
     "exception": false,
     "start_time": "2023-10-16T23:37:47.541361",
     "status": "completed"
    },
    "tags": []
   },
   "source": [
    "Filter data by not LI Pull through and start date before now"
   ]
  },
  {
   "cell_type": "code",
   "execution_count": 6,
   "id": "f72e2010",
   "metadata": {
    "execution": {
     "iopub.execute_input": "2023-10-16T23:37:47.550959Z",
     "iopub.status.busy": "2023-10-16T23:37:47.550428Z",
     "iopub.status.idle": "2023-10-16T23:37:47.556506Z",
     "shell.execute_reply": "2023-10-16T23:37:47.555911Z"
    },
    "papermill": {
     "duration": 0.011038,
     "end_time": "2023-10-16T23:37:47.557958",
     "exception": false,
     "start_time": "2023-10-16T23:37:47.546920",
     "status": "completed"
    },
    "tags": []
   },
   "outputs": [],
   "source": [
    "data = data[\n",
    "    # (data.live_date == 'This event is live ') &\n",
    "    ((data.stage != 'LI pull through') & data.stage.notna()) &\n",
    "    (data.start_date < pd.Timestamp.now())\n",
    "]"
   ]
  },
  {
   "cell_type": "code",
   "execution_count": 7,
   "id": "b00c6e4c",
   "metadata": {
    "execution": {
     "iopub.execute_input": "2023-10-16T23:37:47.564729Z",
     "iopub.status.busy": "2023-10-16T23:37:47.564318Z",
     "iopub.status.idle": "2023-10-16T23:37:48.776971Z",
     "shell.execute_reply": "2023-10-16T23:37:48.776238Z"
    },
    "papermill": {
     "duration": 1.21832,
     "end_time": "2023-10-16T23:37:48.779009",
     "exception": false,
     "start_time": "2023-10-16T23:37:47.560689",
     "status": "completed"
    },
    "tags": []
   },
   "outputs": [],
   "source": [
    "data['ward_code'] = data.postcode.pipe(util.geo.postcode_formatter).map(util.geo.postcode_to_ward_code)\n",
    "data['ward_name'] = data.ward_code.pipe(util.geo.ward_code_to_name)"
   ]
  },
  {
   "cell_type": "markdown",
   "id": "8a8e9354",
   "metadata": {
    "papermill": {
     "duration": 0.004193,
     "end_time": "2023-10-16T23:37:48.786478",
     "exception": false,
     "start_time": "2023-10-16T23:37:48.782285",
     "status": "completed"
    },
    "tags": []
   },
   "source": [
    "Save the file"
   ]
  },
  {
   "cell_type": "code",
   "execution_count": 8,
   "id": "94e63476",
   "metadata": {
    "execution": {
     "iopub.execute_input": "2023-10-16T23:37:48.793512Z",
     "iopub.status.busy": "2023-10-16T23:37:48.793072Z",
     "iopub.status.idle": "2023-10-16T23:37:48.801141Z",
     "shell.execute_reply": "2023-10-16T23:37:48.800512Z"
    },
    "papermill": {
     "duration": 0.013519,
     "end_time": "2023-10-16T23:37:48.802809",
     "exception": false,
     "start_time": "2023-10-16T23:37:48.789290",
     "status": "completed"
    },
    "tags": []
   },
   "outputs": [],
   "source": [
    "data[\n",
    "    ['name','start_date','end_date','ward_code']\n",
    "].to_csv(EVENTS_DATA, index=False)"
   ]
  },
  {
   "cell_type": "markdown",
   "id": "4f6ad6d9",
   "metadata": {
    "papermill": {
     "duration": 0.002825,
     "end_time": "2023-10-16T23:37:48.808562",
     "exception": false,
     "start_time": "2023-10-16T23:37:48.805737",
     "status": "completed"
    },
    "tags": []
   },
   "source": [
    "Print out missing postcode data"
   ]
  },
  {
   "cell_type": "code",
   "execution_count": 9,
   "id": "f01b1370",
   "metadata": {
    "execution": {
     "iopub.execute_input": "2023-10-16T23:37:48.815946Z",
     "iopub.status.busy": "2023-10-16T23:37:48.815364Z",
     "iopub.status.idle": "2023-10-16T23:37:48.831746Z",
     "shell.execute_reply": "2023-10-16T23:37:48.831070Z"
    },
    "papermill": {
     "duration": 0.021677,
     "end_time": "2023-10-16T23:37:48.833178",
     "exception": false,
     "start_time": "2023-10-16T23:37:48.811501",
     "status": "completed"
    },
    "tags": []
   },
   "outputs": [
    {
     "data": {
      "text/html": [
       "<div>\n",
       "<style scoped>\n",
       "    .dataframe tbody tr th:only-of-type {\n",
       "        vertical-align: middle;\n",
       "    }\n",
       "\n",
       "    .dataframe tbody tr th {\n",
       "        vertical-align: top;\n",
       "    }\n",
       "\n",
       "    .dataframe thead th {\n",
       "        text-align: right;\n",
       "    }\n",
       "</style>\n",
       "<table border=\"1\" class=\"dataframe\">\n",
       "  <thead>\n",
       "    <tr style=\"text-align: right;\">\n",
       "      <th></th>\n",
       "      <th>name</th>\n",
       "      <th>start_date</th>\n",
       "    </tr>\n",
       "  </thead>\n",
       "  <tbody>\n",
       "    <tr>\n",
       "      <th>1</th>\n",
       "      <td>East Street Arts, A City Less Grey 2022</td>\n",
       "      <td>2022-10-08</td>\n",
       "    </tr>\n",
       "    <tr>\n",
       "      <th>3</th>\n",
       "      <td>Phoenix Dance Theatre Virtual Gallery</td>\n",
       "      <td>2023-01-01</td>\n",
       "    </tr>\n",
       "    <tr>\n",
       "      <th>4</th>\n",
       "      <td>The Big Art Giveaway, School of Creative Arts ...</td>\n",
       "      <td>2023-01-01</td>\n",
       "    </tr>\n",
       "    <tr>\n",
       "      <th>5</th>\n",
       "      <td>Embassy of Netherlands, Meet Leeds Lab</td>\n",
       "      <td>2023-01-16</td>\n",
       "    </tr>\n",
       "    <tr>\n",
       "      <th>6</th>\n",
       "      <td>Shifting Borders: A Journey to the Centre of o...</td>\n",
       "      <td>2023-01-24</td>\n",
       "    </tr>\n",
       "    <tr>\n",
       "      <th>...</th>\n",
       "      <td>...</td>\n",
       "      <td>...</td>\n",
       "    </tr>\n",
       "    <tr>\n",
       "      <th>212</th>\n",
       "      <td>TRANSFORM 23</td>\n",
       "      <td>2023-10-11</td>\n",
       "    </tr>\n",
       "    <tr>\n",
       "      <th>213</th>\n",
       "      <td>Wild Irish Tales: An evening of story telling ...</td>\n",
       "      <td>2023-10-11</td>\n",
       "    </tr>\n",
       "    <tr>\n",
       "      <th>215</th>\n",
       "      <td>Sayang presents: Si Polan x2 sharing (RSVP)</td>\n",
       "      <td>2023-10-12</td>\n",
       "    </tr>\n",
       "    <tr>\n",
       "      <th>219</th>\n",
       "      <td>NWMCMN: The Path Between</td>\n",
       "      <td>2023-10-14</td>\n",
       "    </tr>\n",
       "    <tr>\n",
       "      <th>223</th>\n",
       "      <td>Art, Love and Marriage: Breaking Stereotypes</td>\n",
       "      <td>2023-10-16</td>\n",
       "    </tr>\n",
       "  </tbody>\n",
       "</table>\n",
       "<p>70 rows × 2 columns</p>\n",
       "</div>"
      ],
      "text/plain": [
       "                                                  name start_date\n",
       "1              East Street Arts, A City Less Grey 2022 2022-10-08\n",
       "3                Phoenix Dance Theatre Virtual Gallery 2023-01-01\n",
       "4    The Big Art Giveaway, School of Creative Arts ... 2023-01-01\n",
       "5               Embassy of Netherlands, Meet Leeds Lab 2023-01-16\n",
       "6    Shifting Borders: A Journey to the Centre of o... 2023-01-24\n",
       "..                                                 ...        ...\n",
       "212                                      TRANSFORM 23  2023-10-11\n",
       "213  Wild Irish Tales: An evening of story telling ... 2023-10-11\n",
       "215        Sayang presents: Si Polan x2 sharing (RSVP) 2023-10-12\n",
       "219                           NWMCMN: The Path Between 2023-10-14\n",
       "223       Art, Love and Marriage: Breaking Stereotypes 2023-10-16\n",
       "\n",
       "[70 rows x 2 columns]"
      ]
     },
     "execution_count": 9,
     "metadata": {},
     "output_type": "execute_result"
    }
   ],
   "source": [
    "data[data.postcode.isna()][[\n",
    "    'name', 'start_date'\n",
    "]]"
   ]
  },
  {
   "cell_type": "markdown",
   "id": "a061fca0",
   "metadata": {
    "papermill": {
     "duration": 0.003151,
     "end_time": "2023-10-16T23:37:48.839579",
     "exception": false,
     "start_time": "2023-10-16T23:37:48.836428",
     "status": "completed"
    },
    "tags": []
   },
   "source": [
    "Plot the pricing"
   ]
  },
  {
   "cell_type": "code",
   "execution_count": 10,
   "id": "60360c9f",
   "metadata": {
    "execution": {
     "iopub.execute_input": "2023-10-16T23:37:48.847251Z",
     "iopub.status.busy": "2023-10-16T23:37:48.846795Z",
     "iopub.status.idle": "2023-10-16T23:37:49.384766Z",
     "shell.execute_reply": "2023-10-16T23:37:49.384043Z"
    },
    "papermill": {
     "duration": 0.54394,
     "end_time": "2023-10-16T23:37:49.386715",
     "exception": false,
     "start_time": "2023-10-16T23:37:48.842775",
     "status": "completed"
    },
    "tags": []
   },
   "outputs": [
    {
     "data": {
      "image/png": "[encoded data removed]",
      "text/plain": [
       "<Figure size 640x480 with 1 Axes>"
      ]
     },
     "metadata": {},
     "output_type": "display_data"
    }
   ],
   "source": [
    "# .groupby('pricing').count().plot.barh()\n",
    "pricing = data.pricing.fillna('Unspecified').str.replace('[\\[\\'\\]]', '', regex=True).to_frame().reset_index().groupby('pricing').count()\n",
    "\n",
    "pricing.columns = ['count']\n",
    "plot = pricing.plot.barh()\n"
   ]
  },
  {
   "cell_type": "code",
   "execution_count": null,
   "id": "15ed66fb",
   "metadata": {
    "papermill": {
     "duration": 0.003988,
     "end_time": "2023-10-16T23:37:49.395066",
     "exception": false,
     "start_time": "2023-10-16T23:37:49.391078",
     "status": "completed"
    },
    "tags": []
   },
   "outputs": [],
   "source": []
  }
 ],
 "metadata": {
  "kernelspec": {
   "display_name": "leeds-2023-YZF5GfJv",
   "language": "python",
   "name": "python3"
  },
  "language_info": {
   "codemirror_mode": {
    "name": "ipython",
    "version": 3
   },
   "file_extension": ".py",
   "mimetype": "text/x-python",
   "name": "python",
   "nbconvert_exporter": "python",
   "pygments_lexer": "ipython3",
   "version": "3.10.13"
  },
  "papermill": {
   "default_parameters": {},
   "duration": 14.29637,
   "end_time": "2023-10-16T23:37:49.817795",
   "environment_variables": {},
   "exception": null,
   "input_path": "transform.ipynb",
   "output_path": "../../../working/output/partner-events-transform.ipynb",
   "parameters": {},
   "start_time": "2023-10-16T23:37:35.521425",
   "version": "2.4.0"
  }
 },
 "nbformat": 4,
 "nbformat_minor": 5
}