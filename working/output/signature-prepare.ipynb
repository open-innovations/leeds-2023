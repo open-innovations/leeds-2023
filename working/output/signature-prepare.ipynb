{
 "cells": [
  {
   "cell_type": "code",
   "execution_count": 1,
   "id": "a9f21894",
   "metadata": {
    "execution": {
     "iopub.execute_input": "2023-08-08T23:39:01.558514Z",
     "iopub.status.busy": "2023-08-08T23:39:01.557998Z",
     "iopub.status.idle": "2023-08-08T23:39:10.278679Z",
     "shell.execute_reply": "2023-08-08T23:39:10.278061Z"
    },
    "papermill": {
     "duration": 8.726411,
     "end_time": "2023-08-08T23:39:10.280627",
     "exception": false,
     "start_time": "2023-08-08T23:39:01.554216",
     "status": "completed"
    },
    "tags": []
   },
   "outputs": [],
   "source": [
    "import os\n",
    "import pandas as pd\n",
    "from events import load_event_data, get_first_ward, normalise_ward"
   ]
  },
  {
   "cell_type": "code",
   "execution_count": 2,
   "id": "f2005e92",
   "metadata": {
    "execution": {
     "iopub.execute_input": "2023-08-08T23:39:10.286801Z",
     "iopub.status.busy": "2023-08-08T23:39:10.286360Z",
     "iopub.status.idle": "2023-08-08T23:39:10.289900Z",
     "shell.execute_reply": "2023-08-08T23:39:10.289304Z"
    },
    "papermill": {
     "duration": 0.008861,
     "end_time": "2023-08-08T23:39:10.291747",
     "exception": false,
     "start_time": "2023-08-08T23:39:10.282886",
     "status": "completed"
    },
    "tags": []
   },
   "outputs": [],
   "source": [
    "latest_date = pd.Timestamp.today().ceil('D')"
   ]
  },
  {
   "cell_type": "code",
   "execution_count": 3,
   "id": "3c13b973",
   "metadata": {
    "execution": {
     "iopub.execute_input": "2023-08-08T23:39:10.297314Z",
     "iopub.status.busy": "2023-08-08T23:39:10.296802Z",
     "iopub.status.idle": "2023-08-08T23:39:10.311629Z",
     "shell.execute_reply": "2023-08-08T23:39:10.311035Z"
    },
    "papermill": {
     "duration": 0.019064,
     "end_time": "2023-08-08T23:39:10.313143",
     "exception": false,
     "start_time": "2023-08-08T23:39:10.294079",
     "status": "completed"
    },
    "tags": []
   },
   "outputs": [],
   "source": [
    "tickets = pd.read_csv('../../../../data/metrics/events/tickets/orders.csv', parse_dates=['created_at', 'event_date'])\n",
    "tickets = tickets[tickets.event_date <= latest_date]"
   ]
  },
  {
   "cell_type": "code",
   "execution_count": 4,
   "id": "24a61ee2",
   "metadata": {
    "execution": {
     "iopub.execute_input": "2023-08-08T23:39:10.318573Z",
     "iopub.status.busy": "2023-08-08T23:39:10.318122Z",
     "iopub.status.idle": "2023-08-08T23:39:10.478536Z",
     "shell.execute_reply": "2023-08-08T23:39:10.477903Z"
    },
    "papermill": {
     "duration": 0.165176,
     "end_time": "2023-08-08T23:39:10.480441",
     "exception": false,
     "start_time": "2023-08-08T23:39:10.315265",
     "status": "completed"
    },
    "tags": []
   },
   "outputs": [],
   "source": [
    "events = load_event_data()\n",
    "\n",
    "events = pd.concat([\n",
    "  events,\n",
    "  events.pipe(get_first_ward).pipe(normalise_ward).fillna('UNKNOWN'),\n",
    "  pd.Series(\n",
    "      events.actual_audience_size_number_of_participants_in_person + events.actual_audience_size_number_of_participants_online,\n",
    "      name='attendances'\n",
    "  )\n",
    "], axis=1).rename(columns={\n",
    "    'start_date': 'date'\n",
    "}).loc[:, ['ward_code', 'date', 'event_unique_identifier', 'attendances']]"
   ]
  },
  {
   "cell_type": "code",
   "execution_count": 5,
   "id": "f934b2f0",
   "metadata": {
    "execution": {
     "iopub.execute_input": "2023-08-08T23:39:10.486462Z",
     "iopub.status.busy": "2023-08-08T23:39:10.486085Z",
     "iopub.status.idle": "2023-08-08T23:39:10.489533Z",
     "shell.execute_reply": "2023-08-08T23:39:10.488912Z"
    },
    "papermill": {
     "duration": 0.008334,
     "end_time": "2023-08-08T23:39:10.491041",
     "exception": false,
     "start_time": "2023-08-08T23:39:10.482707",
     "status": "completed"
    },
    "tags": []
   },
   "outputs": [],
   "source": [
    "OUTPUT_DIR='../../../../docs/metrics/events/signature/_data/'\n",
    "os.makedirs(OUTPUT_DIR, exist_ok=True)"
   ]
  },
  {
   "cell_type": "markdown",
   "id": "6e3344d8",
   "metadata": {
    "papermill": {
     "duration": 0.001973,
     "end_time": "2023-08-08T23:39:10.495053",
     "exception": false,
     "start_time": "2023-08-08T23:39:10.493080",
     "status": "completed"
    },
    "tags": []
   },
   "source": [
    "Events CSVs"
   ]
  },
  {
   "cell_type": "code",
   "execution_count": 6,
   "id": "63fab101",
   "metadata": {
    "execution": {
     "iopub.execute_input": "2023-08-08T23:39:10.499921Z",
     "iopub.status.busy": "2023-08-08T23:39:10.499712Z",
     "iopub.status.idle": "2023-08-08T23:39:10.506330Z",
     "shell.execute_reply": "2023-08-08T23:39:10.505732Z"
    },
    "papermill": {
     "duration": 0.010827,
     "end_time": "2023-08-08T23:39:10.507872",
     "exception": false,
     "start_time": "2023-08-08T23:39:10.497045",
     "status": "completed"
    },
    "tags": []
   },
   "outputs": [],
   "source": [
    "pd.DataFrame({\n",
    "  'events': events.groupby('ward_code').event_unique_identifier.count(),\n",
    "  'attendances': events.groupby('ward_code').attendances.sum().astype(int),\n",
    "}).to_csv(os.path.join(OUTPUT_DIR, 'events_by_ward.csv'))\n"
   ]
  },
  {
   "cell_type": "code",
   "execution_count": 7,
   "id": "ea9a961e",
   "metadata": {
    "execution": {
     "iopub.execute_input": "2023-08-08T23:39:10.513006Z",
     "iopub.status.busy": "2023-08-08T23:39:10.512672Z",
     "iopub.status.idle": "2023-08-08T23:39:10.522877Z",
     "shell.execute_reply": "2023-08-08T23:39:10.522328Z"
    },
    "papermill": {
     "duration": 0.014383,
     "end_time": "2023-08-08T23:39:10.524288",
     "exception": false,
     "start_time": "2023-08-08T23:39:10.509905",
     "status": "completed"
    },
    "tags": []
   },
   "outputs": [],
   "source": [
    "pd.DataFrame({\n",
    "  'events': events.groupby('date').event_unique_identifier.count(),\n",
    "  'attendances': events.groupby('date').attendances.sum().astype(int),\n",
    "}).resample('M').sum().astype(int).to_csv(os.path.join(OUTPUT_DIR, 'events_by_date.csv'))"
   ]
  },
  {
   "cell_type": "markdown",
   "id": "ce7c48c8",
   "metadata": {
    "papermill": {
     "duration": 0.002077,
     "end_time": "2023-08-08T23:39:10.528421",
     "exception": false,
     "start_time": "2023-08-08T23:39:10.526344",
     "status": "completed"
    },
    "tags": []
   },
   "source": [
    "Tickets CSV"
   ]
  },
  {
   "cell_type": "code",
   "execution_count": 8,
   "id": "b05e6048",
   "metadata": {
    "execution": {
     "iopub.execute_input": "2023-08-08T23:39:10.533490Z",
     "iopub.status.busy": "2023-08-08T23:39:10.533091Z",
     "iopub.status.idle": "2023-08-08T23:39:10.539393Z",
     "shell.execute_reply": "2023-08-08T23:39:10.538858Z"
    },
    "papermill": {
     "duration": 0.010397,
     "end_time": "2023-08-08T23:39:10.540800",
     "exception": false,
     "start_time": "2023-08-08T23:39:10.530403",
     "status": "completed"
    },
    "tags": []
   },
   "outputs": [],
   "source": [
    "pd.DataFrame({\n",
    "  'orders': tickets.groupby('ward_code').number_of_tickets.count(),\n",
    "  'tickets': tickets.groupby('ward_code').number_of_tickets.sum().astype(int),\n",
    "}).to_csv(os.path.join(OUTPUT_DIR, 'tickets_by_ward.csv'))"
   ]
  },
  {
   "cell_type": "code",
   "execution_count": 9,
   "id": "3c221fb4",
   "metadata": {
    "execution": {
     "iopub.execute_input": "2023-08-08T23:39:10.545979Z",
     "iopub.status.busy": "2023-08-08T23:39:10.545656Z",
     "iopub.status.idle": "2023-08-08T23:39:10.553169Z",
     "shell.execute_reply": "2023-08-08T23:39:10.552638Z"
    },
    "papermill": {
     "duration": 0.011595,
     "end_time": "2023-08-08T23:39:10.554485",
     "exception": false,
     "start_time": "2023-08-08T23:39:10.542890",
     "status": "completed"
    },
    "tags": []
   },
   "outputs": [],
   "source": [
    "pd.DataFrame({\n",
    "  'orders': tickets.groupby('event_date').number_of_tickets.count(),\n",
    "  'tickets': tickets.groupby('event_date').number_of_tickets.sum().astype(int),\n",
    "}).resample('M').sum().to_csv(os.path.join(OUTPUT_DIR, 'tickets_by_event_date.csv'))"
   ]
  },
  {
   "cell_type": "code",
   "execution_count": 10,
   "id": "ae4a82a9",
   "metadata": {
    "execution": {
     "iopub.execute_input": "2023-08-08T23:39:10.560629Z",
     "iopub.status.busy": "2023-08-08T23:39:10.560222Z",
     "iopub.status.idle": "2023-08-08T23:39:10.565191Z",
     "shell.execute_reply": "2023-08-08T23:39:10.564573Z"
    },
    "papermill": {
     "duration": 0.010025,
     "end_time": "2023-08-08T23:39:10.566643",
     "exception": false,
     "start_time": "2023-08-08T23:39:10.556618",
     "status": "completed"
    },
    "tags": []
   },
   "outputs": [],
   "source": [
    "pd.Series({\n",
    "    'total_events': events.event_unique_identifier.count(),\n",
    "    'total_attendances': events.attendances.count(),\n",
    "    'first_event': events.date.min(),\n",
    "    'latest_event': events.date.max(),\n",
    "    'total_ticket_orders_for_events_to_date': tickets.number_of_tickets.count(),\n",
    "    'total_tickets_sold_for_events_to_date': tickets.number_of_tickets.sum(),\n",
    "}).to_json(os.path.join(OUTPUT_DIR, 'headlines.json'), indent=2)"
   ]
  },
  {
   "cell_type": "code",
   "execution_count": null,
   "id": "b5ba297a",
   "metadata": {
    "papermill": {
     "duration": 0.002035,
     "end_time": "2023-08-08T23:39:10.570837",
     "exception": false,
     "start_time": "2023-08-08T23:39:10.568802",
     "status": "completed"
    },
    "tags": []
   },
   "outputs": [],
   "source": []
  }
 ],
 "metadata": {
  "kernelspec": {
   "display_name": "leeds-2023-YZF5GfJv",
   "language": "python",
   "name": "python3"
  },
  "language_info": {
   "codemirror_mode": {
    "name": "ipython",
    "version": 3
   },
   "file_extension": ".py",
   "mimetype": "text/x-python",
   "name": "python",
   "nbconvert_exporter": "python",
   "pygments_lexer": "ipython3",
   "version": "3.10.6"
  },
  "papermill": {
   "default_parameters": {},
   "duration": 10.708857,
   "end_time": "2023-08-08T23:39:10.889699",
   "environment_variables": {},
   "exception": null,
   "input_path": "prepare.ipynb",
   "output_path": "../../../../working/output/signature-prepare.ipynb",
   "parameters": {},
   "start_time": "2023-08-08T23:39:00.180842",
   "version": "2.4.0"
  }
 },
 "nbformat": 4,
 "nbformat_minor": 5
}