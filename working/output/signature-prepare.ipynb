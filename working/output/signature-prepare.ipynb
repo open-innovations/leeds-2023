{
 "cells": [
  {
   "cell_type": "code",
   "execution_count": 1,
   "id": "a1180d3b",
   "metadata": {
    "execution": {
     "iopub.execute_input": "2023-09-19T23:39:13.215071Z",
     "iopub.status.busy": "2023-09-19T23:39:13.214550Z",
     "iopub.status.idle": "2023-09-19T23:39:24.335440Z",
     "shell.execute_reply": "2023-09-19T23:39:24.334637Z"
    },
    "papermill": {
     "duration": 11.128041,
     "end_time": "2023-09-19T23:39:24.337625",
     "exception": false,
     "start_time": "2023-09-19T23:39:13.209584",
     "status": "completed"
    },
    "tags": []
   },
   "outputs": [],
   "source": [
    "import os\n",
    "import pandas as pd\n",
    "from events import load_event_data, get_first_ward, normalise_ward"
   ]
  },
  {
   "cell_type": "code",
   "execution_count": 2,
   "id": "075ea7fb",
   "metadata": {
    "execution": {
     "iopub.execute_input": "2023-09-19T23:39:24.345368Z",
     "iopub.status.busy": "2023-09-19T23:39:24.344741Z",
     "iopub.status.idle": "2023-09-19T23:39:24.348898Z",
     "shell.execute_reply": "2023-09-19T23:39:24.348221Z"
    },
    "papermill": {
     "duration": 0.00943,
     "end_time": "2023-09-19T23:39:24.350405",
     "exception": false,
     "start_time": "2023-09-19T23:39:24.340975",
     "status": "completed"
    },
    "tags": []
   },
   "outputs": [],
   "source": [
    "latest_date = pd.Timestamp.today().ceil('D')"
   ]
  },
  {
   "cell_type": "code",
   "execution_count": 3,
   "id": "aab86562",
   "metadata": {
    "execution": {
     "iopub.execute_input": "2023-09-19T23:39:24.356391Z",
     "iopub.status.busy": "2023-09-19T23:39:24.355958Z",
     "iopub.status.idle": "2023-09-19T23:39:24.373859Z",
     "shell.execute_reply": "2023-09-19T23:39:24.373252Z"
    },
    "papermill": {
     "duration": 0.022874,
     "end_time": "2023-09-19T23:39:24.375642",
     "exception": false,
     "start_time": "2023-09-19T23:39:24.352768",
     "status": "completed"
    },
    "tags": []
   },
   "outputs": [],
   "source": [
    "tickets = pd.read_csv('../../../../data/metrics/events/tickets/orders.csv', parse_dates=['created_at', 'event_date'])\n",
    "tickets = tickets[tickets.event_date <= latest_date]"
   ]
  },
  {
   "cell_type": "code",
   "execution_count": 4,
   "id": "d58e9677",
   "metadata": {
    "execution": {
     "iopub.execute_input": "2023-09-19T23:39:24.381664Z",
     "iopub.status.busy": "2023-09-19T23:39:24.381114Z",
     "iopub.status.idle": "2023-09-19T23:39:24.620088Z",
     "shell.execute_reply": "2023-09-19T23:39:24.619319Z"
    },
    "papermill": {
     "duration": 0.244197,
     "end_time": "2023-09-19T23:39:24.622184",
     "exception": false,
     "start_time": "2023-09-19T23:39:24.377987",
     "status": "completed"
    },
    "tags": []
   },
   "outputs": [],
   "source": [
    "events = load_event_data()\n",
    "\n",
    "events = pd.concat([\n",
    "  events,\n",
    "  events.pipe(get_first_ward).pipe(normalise_ward).fillna('UNKNOWN'),\n",
    "  pd.Series(\n",
    "      events.actual_audience_size_number_of_participants_in_person + events.actual_audience_size_number_of_participants_online,\n",
    "      name='attendances'\n",
    "  )\n",
    "], axis=1).rename(columns={\n",
    "    'start_date': 'date'\n",
    "}).loc[:, ['ward_code', 'date', 'event_unique_identifier', 'attendances']]"
   ]
  },
  {
   "cell_type": "code",
   "execution_count": 5,
   "id": "8b1d703d",
   "metadata": {
    "execution": {
     "iopub.execute_input": "2023-09-19T23:39:24.629345Z",
     "iopub.status.busy": "2023-09-19T23:39:24.628842Z",
     "iopub.status.idle": "2023-09-19T23:39:24.632662Z",
     "shell.execute_reply": "2023-09-19T23:39:24.631966Z"
    },
    "papermill": {
     "duration": 0.009214,
     "end_time": "2023-09-19T23:39:24.634451",
     "exception": false,
     "start_time": "2023-09-19T23:39:24.625237",
     "status": "completed"
    },
    "tags": []
   },
   "outputs": [],
   "source": [
    "OUTPUT_DIR='../../../../docs/metrics/events/signature/_data/'\n",
    "os.makedirs(OUTPUT_DIR, exist_ok=True)"
   ]
  },
  {
   "cell_type": "markdown",
   "id": "e9f714d0",
   "metadata": {
    "papermill": {
     "duration": 0.002534,
     "end_time": "2023-09-19T23:39:24.639490",
     "exception": false,
     "start_time": "2023-09-19T23:39:24.636956",
     "status": "completed"
    },
    "tags": []
   },
   "source": [
    "Events CSVs"
   ]
  },
  {
   "cell_type": "code",
   "execution_count": 6,
   "id": "819396be",
   "metadata": {
    "execution": {
     "iopub.execute_input": "2023-09-19T23:39:24.645906Z",
     "iopub.status.busy": "2023-09-19T23:39:24.645397Z",
     "iopub.status.idle": "2023-09-19T23:39:24.653179Z",
     "shell.execute_reply": "2023-09-19T23:39:24.652542Z"
    },
    "papermill": {
     "duration": 0.012966,
     "end_time": "2023-09-19T23:39:24.654841",
     "exception": false,
     "start_time": "2023-09-19T23:39:24.641875",
     "status": "completed"
    },
    "tags": []
   },
   "outputs": [],
   "source": [
    "pd.DataFrame({\n",
    "  'events': events.groupby('ward_code').event_unique_identifier.count(),\n",
    "  'attendances': events.groupby('ward_code').attendances.sum().astype(int),\n",
    "}).to_csv(os.path.join(OUTPUT_DIR, 'events_by_ward.csv'))\n"
   ]
  },
  {
   "cell_type": "code",
   "execution_count": 7,
   "id": "7b4bf01f",
   "metadata": {
    "execution": {
     "iopub.execute_input": "2023-09-19T23:39:24.661261Z",
     "iopub.status.busy": "2023-09-19T23:39:24.660694Z",
     "iopub.status.idle": "2023-09-19T23:39:24.673372Z",
     "shell.execute_reply": "2023-09-19T23:39:24.672728Z"
    },
    "papermill": {
     "duration": 0.017668,
     "end_time": "2023-09-19T23:39:24.674994",
     "exception": false,
     "start_time": "2023-09-19T23:39:24.657326",
     "status": "completed"
    },
    "tags": []
   },
   "outputs": [],
   "source": [
    "pd.DataFrame({\n",
    "  'events': events.groupby('date').event_unique_identifier.count(),\n",
    "  'attendances': events.groupby('date').attendances.sum().astype(int),\n",
    "}).resample('M').sum().astype(int).to_csv(os.path.join(OUTPUT_DIR, 'events_by_date.csv'))"
   ]
  },
  {
   "cell_type": "markdown",
   "id": "412fff0a",
   "metadata": {
    "papermill": {
     "duration": 0.002618,
     "end_time": "2023-09-19T23:39:24.680176",
     "exception": false,
     "start_time": "2023-09-19T23:39:24.677558",
     "status": "completed"
    },
    "tags": []
   },
   "source": [
    "Tickets CSV"
   ]
  },
  {
   "cell_type": "code",
   "execution_count": 8,
   "id": "a27afb2c",
   "metadata": {
    "execution": {
     "iopub.execute_input": "2023-09-19T23:39:24.686877Z",
     "iopub.status.busy": "2023-09-19T23:39:24.686349Z",
     "iopub.status.idle": "2023-09-19T23:39:24.696298Z",
     "shell.execute_reply": "2023-09-19T23:39:24.695626Z"
    },
    "papermill": {
     "duration": 0.015151,
     "end_time": "2023-09-19T23:39:24.697828",
     "exception": false,
     "start_time": "2023-09-19T23:39:24.682677",
     "status": "completed"
    },
    "tags": []
   },
   "outputs": [],
   "source": [
    "pd.DataFrame({\n",
    "  'orders': tickets.groupby('ward_code').number_of_tickets.count(),\n",
    "  'tickets': tickets.groupby('ward_code').number_of_tickets.sum().astype(int),\n",
    "}).to_csv(os.path.join(OUTPUT_DIR, 'tickets_by_ward.csv'))"
   ]
  },
  {
   "cell_type": "code",
   "execution_count": 9,
   "id": "3b8e52b2",
   "metadata": {
    "execution": {
     "iopub.execute_input": "2023-09-19T23:39:24.704454Z",
     "iopub.status.busy": "2023-09-19T23:39:24.703968Z",
     "iopub.status.idle": "2023-09-19T23:39:24.712811Z",
     "shell.execute_reply": "2023-09-19T23:39:24.712178Z"
    },
    "papermill": {
     "duration": 0.013921,
     "end_time": "2023-09-19T23:39:24.714421",
     "exception": false,
     "start_time": "2023-09-19T23:39:24.700500",
     "status": "completed"
    },
    "tags": []
   },
   "outputs": [],
   "source": [
    "pd.DataFrame({\n",
    "  'orders': tickets.groupby('event_date').number_of_tickets.count(),\n",
    "  'tickets': tickets.groupby('event_date').number_of_tickets.sum().astype(int),\n",
    "}).resample('M').sum().to_csv(os.path.join(OUTPUT_DIR, 'tickets_by_event_date.csv'))"
   ]
  },
  {
   "cell_type": "code",
   "execution_count": 10,
   "id": "430b4715",
   "metadata": {
    "execution": {
     "iopub.execute_input": "2023-09-19T23:39:24.722095Z",
     "iopub.status.busy": "2023-09-19T23:39:24.721619Z",
     "iopub.status.idle": "2023-09-19T23:39:24.728484Z",
     "shell.execute_reply": "2023-09-19T23:39:24.727867Z"
    },
    "papermill": {
     "duration": 0.012914,
     "end_time": "2023-09-19T23:39:24.729984",
     "exception": false,
     "start_time": "2023-09-19T23:39:24.717070",
     "status": "completed"
    },
    "tags": []
   },
   "outputs": [],
   "source": [
    "pd.Series({\n",
    "    'total_events': events.event_unique_identifier.count(),\n",
    "    'total_attendances': events.attendances.count(),\n",
    "    'first_event': events.date.min(),\n",
    "    'latest_event': events.date.max(),\n",
    "    'total_ticket_orders_for_events_to_date': tickets.number_of_tickets.count(),\n",
    "    'total_tickets_sold_for_events_to_date': tickets.number_of_tickets.sum(),\n",
    "}).to_json(os.path.join(OUTPUT_DIR, 'headlines.json'), indent=2)"
   ]
  },
  {
   "cell_type": "code",
   "execution_count": null,
   "id": "8823867b",
   "metadata": {
    "papermill": {
     "duration": 0.002866,
     "end_time": "2023-09-19T23:39:24.735634",
     "exception": false,
     "start_time": "2023-09-19T23:39:24.732768",
     "status": "completed"
    },
    "tags": []
   },
   "outputs": [],
   "source": []
  }
 ],
 "metadata": {
  "kernelspec": {
   "display_name": "leeds-2023-YZF5GfJv",
   "language": "python",
   "name": "python3"
  },
  "language_info": {
   "codemirror_mode": {
    "name": "ipython",
    "version": 3
   },
   "file_extension": ".py",
   "mimetype": "text/x-python",
   "name": "python",
   "nbconvert_exporter": "python",
   "pygments_lexer": "ipython3",
   "version": "3.10.13"
  },
  "papermill": {
   "default_parameters": {},
   "duration": 13.324721,
   "end_time": "2023-09-19T23:39:25.156198",
   "environment_variables": {},
   "exception": null,
   "input_path": "prepare.ipynb",
   "output_path": "../../../../working/output/signature-prepare.ipynb",
   "parameters": {},
   "start_time": "2023-09-19T23:39:11.831477",
   "version": "2.4.0"
  }
 },
 "nbformat": 4,
 "nbformat_minor": 5
}