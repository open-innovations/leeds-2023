{
 "cells": [
  {
   "cell_type": "code",
   "execution_count": 1,
   "id": "c6762a23",
   "metadata": {
    "execution": {
     "iopub.execute_input": "2023-08-19T10:23:32.445468Z",
     "iopub.status.busy": "2023-08-19T10:23:32.444918Z",
     "iopub.status.idle": "2023-08-19T10:23:42.005407Z",
     "shell.execute_reply": "2023-08-19T10:23:42.004646Z"
    },
    "papermill": {
     "duration": 9.56702,
     "end_time": "2023-08-19T10:23:42.007711",
     "exception": false,
     "start_time": "2023-08-19T10:23:32.440691",
     "status": "completed"
    },
    "tags": []
   },
   "outputs": [],
   "source": [
    "import os\n",
    "import pandas as pd\n",
    "from events import load_event_data, get_first_ward, normalise_ward"
   ]
  },
  {
   "cell_type": "code",
   "execution_count": 2,
   "id": "a2126d07",
   "metadata": {
    "execution": {
     "iopub.execute_input": "2023-08-19T10:23:42.013787Z",
     "iopub.status.busy": "2023-08-19T10:23:42.013292Z",
     "iopub.status.idle": "2023-08-19T10:23:42.017156Z",
     "shell.execute_reply": "2023-08-19T10:23:42.016509Z"
    },
    "papermill": {
     "duration": 0.008598,
     "end_time": "2023-08-19T10:23:42.018744",
     "exception": false,
     "start_time": "2023-08-19T10:23:42.010146",
     "status": "completed"
    },
    "tags": []
   },
   "outputs": [],
   "source": [
    "latest_date = pd.Timestamp.today().ceil('D')"
   ]
  },
  {
   "cell_type": "code",
   "execution_count": 3,
   "id": "e33705b8",
   "metadata": {
    "execution": {
     "iopub.execute_input": "2023-08-19T10:23:42.024180Z",
     "iopub.status.busy": "2023-08-19T10:23:42.023587Z",
     "iopub.status.idle": "2023-08-19T10:23:42.038547Z",
     "shell.execute_reply": "2023-08-19T10:23:42.037966Z"
    },
    "papermill": {
     "duration": 0.019397,
     "end_time": "2023-08-19T10:23:42.040133",
     "exception": false,
     "start_time": "2023-08-19T10:23:42.020736",
     "status": "completed"
    },
    "tags": []
   },
   "outputs": [],
   "source": [
    "tickets = pd.read_csv('../../../../data/metrics/events/tickets/orders.csv', parse_dates=['created_at', 'event_date'])\n",
    "tickets = tickets[tickets.event_date <= latest_date]"
   ]
  },
  {
   "cell_type": "code",
   "execution_count": 4,
   "id": "36537e6a",
   "metadata": {
    "execution": {
     "iopub.execute_input": "2023-08-19T10:23:42.050573Z",
     "iopub.status.busy": "2023-08-19T10:23:42.050120Z",
     "iopub.status.idle": "2023-08-19T10:23:42.225337Z",
     "shell.execute_reply": "2023-08-19T10:23:42.224676Z"
    },
    "papermill": {
     "duration": 0.184942,
     "end_time": "2023-08-19T10:23:42.227159",
     "exception": false,
     "start_time": "2023-08-19T10:23:42.042217",
     "status": "completed"
    },
    "tags": []
   },
   "outputs": [],
   "source": [
    "events = load_event_data()\n",
    "\n",
    "events = pd.concat([\n",
    "  events,\n",
    "  events.pipe(get_first_ward).pipe(normalise_ward).fillna('UNKNOWN'),\n",
    "  pd.Series(\n",
    "      events.actual_audience_size_number_of_participants_in_person + events.actual_audience_size_number_of_participants_online,\n",
    "      name='attendances'\n",
    "  )\n",
    "], axis=1).rename(columns={\n",
    "    'start_date': 'date'\n",
    "}).loc[:, ['ward_code', 'date', 'event_unique_identifier', 'attendances']]"
   ]
  },
  {
   "cell_type": "code",
   "execution_count": 5,
   "id": "d421d4ea",
   "metadata": {
    "execution": {
     "iopub.execute_input": "2023-08-19T10:23:42.233251Z",
     "iopub.status.busy": "2023-08-19T10:23:42.232785Z",
     "iopub.status.idle": "2023-08-19T10:23:42.236150Z",
     "shell.execute_reply": "2023-08-19T10:23:42.235515Z"
    },
    "papermill": {
     "duration": 0.008296,
     "end_time": "2023-08-19T10:23:42.237815",
     "exception": false,
     "start_time": "2023-08-19T10:23:42.229519",
     "status": "completed"
    },
    "tags": []
   },
   "outputs": [],
   "source": [
    "OUTPUT_DIR='../../../../docs/metrics/events/signature/_data/'\n",
    "os.makedirs(OUTPUT_DIR, exist_ok=True)"
   ]
  },
  {
   "cell_type": "markdown",
   "id": "edd27eb0",
   "metadata": {
    "papermill": {
     "duration": 0.002117,
     "end_time": "2023-08-19T10:23:42.241993",
     "exception": false,
     "start_time": "2023-08-19T10:23:42.239876",
     "status": "completed"
    },
    "tags": []
   },
   "source": [
    "Events CSVs"
   ]
  },
  {
   "cell_type": "code",
   "execution_count": 6,
   "id": "be3e4f0c",
   "metadata": {
    "execution": {
     "iopub.execute_input": "2023-08-19T10:23:42.247525Z",
     "iopub.status.busy": "2023-08-19T10:23:42.246954Z",
     "iopub.status.idle": "2023-08-19T10:23:42.255106Z",
     "shell.execute_reply": "2023-08-19T10:23:42.254552Z"
    },
    "papermill": {
     "duration": 0.012492,
     "end_time": "2023-08-19T10:23:42.256538",
     "exception": false,
     "start_time": "2023-08-19T10:23:42.244046",
     "status": "completed"
    },
    "tags": []
   },
   "outputs": [],
   "source": [
    "pd.DataFrame({\n",
    "  'events': events.groupby('ward_code').event_unique_identifier.count(),\n",
    "  'attendances': events.groupby('ward_code').attendances.sum().astype(int),\n",
    "}).to_csv(os.path.join(OUTPUT_DIR, 'events_by_ward.csv'))\n"
   ]
  },
  {
   "cell_type": "code",
   "execution_count": 7,
   "id": "efc30b2b",
   "metadata": {
    "execution": {
     "iopub.execute_input": "2023-08-19T10:23:42.262008Z",
     "iopub.status.busy": "2023-08-19T10:23:42.261579Z",
     "iopub.status.idle": "2023-08-19T10:23:42.272182Z",
     "shell.execute_reply": "2023-08-19T10:23:42.271600Z"
    },
    "papermill": {
     "duration": 0.015103,
     "end_time": "2023-08-19T10:23:42.273775",
     "exception": false,
     "start_time": "2023-08-19T10:23:42.258672",
     "status": "completed"
    },
    "tags": []
   },
   "outputs": [],
   "source": [
    "pd.DataFrame({\n",
    "  'events': events.groupby('date').event_unique_identifier.count(),\n",
    "  'attendances': events.groupby('date').attendances.sum().astype(int),\n",
    "}).resample('M').sum().astype(int).to_csv(os.path.join(OUTPUT_DIR, 'events_by_date.csv'))"
   ]
  },
  {
   "cell_type": "markdown",
   "id": "6ba6bfef",
   "metadata": {
    "papermill": {
     "duration": 0.002219,
     "end_time": "2023-08-19T10:23:42.278208",
     "exception": false,
     "start_time": "2023-08-19T10:23:42.275989",
     "status": "completed"
    },
    "tags": []
   },
   "source": [
    "Tickets CSV"
   ]
  },
  {
   "cell_type": "code",
   "execution_count": 8,
   "id": "d07638b3",
   "metadata": {
    "execution": {
     "iopub.execute_input": "2023-08-19T10:23:42.284126Z",
     "iopub.status.busy": "2023-08-19T10:23:42.283537Z",
     "iopub.status.idle": "2023-08-19T10:23:42.290361Z",
     "shell.execute_reply": "2023-08-19T10:23:42.289807Z"
    },
    "papermill": {
     "duration": 0.011496,
     "end_time": "2023-08-19T10:23:42.291863",
     "exception": false,
     "start_time": "2023-08-19T10:23:42.280367",
     "status": "completed"
    },
    "tags": []
   },
   "outputs": [],
   "source": [
    "pd.DataFrame({\n",
    "  'orders': tickets.groupby('ward_code').number_of_tickets.count(),\n",
    "  'tickets': tickets.groupby('ward_code').number_of_tickets.sum().astype(int),\n",
    "}).to_csv(os.path.join(OUTPUT_DIR, 'tickets_by_ward.csv'))"
   ]
  },
  {
   "cell_type": "code",
   "execution_count": 9,
   "id": "4907ffc5",
   "metadata": {
    "execution": {
     "iopub.execute_input": "2023-08-19T10:23:42.297493Z",
     "iopub.status.busy": "2023-08-19T10:23:42.296954Z",
     "iopub.status.idle": "2023-08-19T10:23:42.304884Z",
     "shell.execute_reply": "2023-08-19T10:23:42.304307Z"
    },
    "papermill": {
     "duration": 0.012406,
     "end_time": "2023-08-19T10:23:42.306446",
     "exception": false,
     "start_time": "2023-08-19T10:23:42.294040",
     "status": "completed"
    },
    "tags": []
   },
   "outputs": [],
   "source": [
    "pd.DataFrame({\n",
    "  'orders': tickets.groupby('event_date').number_of_tickets.count(),\n",
    "  'tickets': tickets.groupby('event_date').number_of_tickets.sum().astype(int),\n",
    "}).resample('M').sum().to_csv(os.path.join(OUTPUT_DIR, 'tickets_by_event_date.csv'))"
   ]
  },
  {
   "cell_type": "code",
   "execution_count": 10,
   "id": "d85c9189",
   "metadata": {
    "execution": {
     "iopub.execute_input": "2023-08-19T10:23:42.313175Z",
     "iopub.status.busy": "2023-08-19T10:23:42.312536Z",
     "iopub.status.idle": "2023-08-19T10:23:42.317722Z",
     "shell.execute_reply": "2023-08-19T10:23:42.317184Z"
    },
    "papermill": {
     "duration": 0.010516,
     "end_time": "2023-08-19T10:23:42.319189",
     "exception": false,
     "start_time": "2023-08-19T10:23:42.308673",
     "status": "completed"
    },
    "tags": []
   },
   "outputs": [],
   "source": [
    "pd.Series({\n",
    "    'total_events': events.event_unique_identifier.count(),\n",
    "    'total_attendances': events.attendances.count(),\n",
    "    'first_event': events.date.min(),\n",
    "    'latest_event': events.date.max(),\n",
    "    'total_ticket_orders_for_events_to_date': tickets.number_of_tickets.count(),\n",
    "    'total_tickets_sold_for_events_to_date': tickets.number_of_tickets.sum(),\n",
    "}).to_json(os.path.join(OUTPUT_DIR, 'headlines.json'), indent=2)"
   ]
  },
  {
   "cell_type": "code",
   "execution_count": null,
   "id": "9d012c25",
   "metadata": {
    "papermill": {
     "duration": 0.002123,
     "end_time": "2023-08-19T10:23:42.323499",
     "exception": false,
     "start_time": "2023-08-19T10:23:42.321376",
     "status": "completed"
    },
    "tags": []
   },
   "outputs": [],
   "source": []
  }
 ],
 "metadata": {
  "kernelspec": {
   "display_name": "leeds-2023-YZF5GfJv",
   "language": "python",
   "name": "python3"
  },
  "language_info": {
   "codemirror_mode": {
    "name": "ipython",
    "version": 3
   },
   "file_extension": ".py",
   "mimetype": "text/x-python",
   "name": "python",
   "nbconvert_exporter": "python",
   "pygments_lexer": "ipython3",
   "version": "3.10.12"
  },
  "papermill": {
   "default_parameters": {},
   "duration": 11.588891,
   "end_time": "2023-08-19T10:23:42.642056",
   "environment_variables": {},
   "exception": null,
   "input_path": "prepare.ipynb",
   "output_path": "../../../../working/output/signature-prepare.ipynb",
   "parameters": {},
   "start_time": "2023-08-19T10:23:31.053165",
   "version": "2.4.0"
  }
 },
 "nbformat": 4,
 "nbformat_minor": 5
}