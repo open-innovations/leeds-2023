{
 "cells": [
  {
   "cell_type": "code",
   "execution_count": 1,
   "id": "5b9377ab",
   "metadata": {
    "execution": {
     "iopub.execute_input": "2023-08-15T23:38:08.848914Z",
     "iopub.status.busy": "2023-08-15T23:38:08.848071Z",
     "iopub.status.idle": "2023-08-15T23:38:09.135666Z",
     "shell.execute_reply": "2023-08-15T23:38:09.134689Z"
    },
    "papermill": {
     "duration": 0.296031,
     "end_time": "2023-08-15T23:38:09.139004",
     "exception": false,
     "start_time": "2023-08-15T23:38:08.842973",
     "status": "completed"
    },
    "tags": []
   },
   "outputs": [],
   "source": [
    "import os\n",
    "import pandas as pd"
   ]
  },
  {
   "cell_type": "code",
   "execution_count": 2,
   "id": "ce81be67",
   "metadata": {
    "execution": {
     "iopub.execute_input": "2023-08-15T23:38:09.145814Z",
     "iopub.status.busy": "2023-08-15T23:38:09.144997Z",
     "iopub.status.idle": "2023-08-15T23:38:09.149280Z",
     "shell.execute_reply": "2023-08-15T23:38:09.148537Z"
    },
    "papermill": {
     "duration": 0.009149,
     "end_time": "2023-08-15T23:38:09.151036",
     "exception": false,
     "start_time": "2023-08-15T23:38:09.141887",
     "status": "completed"
    },
    "tags": []
   },
   "outputs": [],
   "source": [
    "DATA_DIR='../../../docs/metrics/events/promote/_data/'\n",
    "os.makedirs(DATA_DIR, exist_ok=True)"
   ]
  },
  {
   "cell_type": "code",
   "execution_count": 3,
   "id": "1d8e2d4d",
   "metadata": {
    "execution": {
     "iopub.execute_input": "2023-08-15T23:38:09.156233Z",
     "iopub.status.busy": "2023-08-15T23:38:09.155965Z",
     "iopub.status.idle": "2023-08-15T23:38:09.169536Z",
     "shell.execute_reply": "2023-08-15T23:38:09.168858Z"
    },
    "papermill": {
     "duration": 0.018356,
     "end_time": "2023-08-15T23:38:09.171334",
     "exception": false,
     "start_time": "2023-08-15T23:38:09.152978",
     "status": "completed"
    },
    "tags": []
   },
   "outputs": [],
   "source": [
    "data = pd.read_csv('../../../data/metrics/events/promote-events/events.csv', parse_dates=['time'])"
   ]
  },
  {
   "cell_type": "code",
   "execution_count": 4,
   "id": "85b999e1",
   "metadata": {
    "execution": {
     "iopub.execute_input": "2023-08-15T23:38:09.177214Z",
     "iopub.status.busy": "2023-08-15T23:38:09.176439Z",
     "iopub.status.idle": "2023-08-15T23:38:09.182775Z",
     "shell.execute_reply": "2023-08-15T23:38:09.182048Z"
    },
    "papermill": {
     "duration": 0.011205,
     "end_time": "2023-08-15T23:38:09.184546",
     "exception": false,
     "start_time": "2023-08-15T23:38:09.173341",
     "status": "completed"
    },
    "tags": []
   },
   "outputs": [],
   "source": [
    "pd.Series({\n",
    "    'total_events': len(data.id.unique()),\n",
    "    'total_event_instances': len(data.time),\n",
    "    'earliest_event': data.time.min(),\n",
    "    'latest_event': data.time.max(),\n",
    "}).to_json(\n",
    "    os.path.join(DATA_DIR, 'headlines.json'),\n",
    "    date_format='iso', indent=2\n",
    ")"
   ]
  },
  {
   "cell_type": "code",
   "execution_count": 5,
   "id": "3806816b",
   "metadata": {
    "execution": {
     "iopub.execute_input": "2023-08-15T23:38:09.189922Z",
     "iopub.status.busy": "2023-08-15T23:38:09.189441Z",
     "iopub.status.idle": "2023-08-15T23:38:09.198640Z",
     "shell.execute_reply": "2023-08-15T23:38:09.197953Z"
    },
    "papermill": {
     "duration": 0.013775,
     "end_time": "2023-08-15T23:38:09.200283",
     "exception": false,
     "start_time": "2023-08-15T23:38:09.186508",
     "status": "completed"
    },
    "tags": []
   },
   "outputs": [],
   "source": [
    "events = pd.DataFrame({\n",
    "    'events': data.groupby('id').agg({ 'time': 'min' }).reset_index().groupby('time').id.count(),\n",
    "    'event_instances': data.groupby('time').id.count(),\n",
    "}).fillna(0).astype(int)"
   ]
  },
  {
   "cell_type": "code",
   "execution_count": 6,
   "id": "73af96ca",
   "metadata": {
    "execution": {
     "iopub.execute_input": "2023-08-15T23:38:09.205647Z",
     "iopub.status.busy": "2023-08-15T23:38:09.205089Z",
     "iopub.status.idle": "2023-08-15T23:38:09.209086Z",
     "shell.execute_reply": "2023-08-15T23:38:09.208364Z"
    },
    "papermill": {
     "duration": 0.009011,
     "end_time": "2023-08-15T23:38:09.211234",
     "exception": false,
     "start_time": "2023-08-15T23:38:09.202223",
     "status": "completed"
    },
    "tags": []
   },
   "outputs": [],
   "source": [
    "def cumulate(data):\n",
    "    return pd.concat([\n",
    "        data,\n",
    "        data.cumsum().rename(columns=lambda c: f'cumulative_{c}')\n",
    "    ], axis=1)"
   ]
  },
  {
   "cell_type": "code",
   "execution_count": 7,
   "id": "1d44efed",
   "metadata": {
    "execution": {
     "iopub.execute_input": "2023-08-15T23:38:09.216675Z",
     "iopub.status.busy": "2023-08-15T23:38:09.216041Z",
     "iopub.status.idle": "2023-08-15T23:38:09.227357Z",
     "shell.execute_reply": "2023-08-15T23:38:09.226702Z"
    },
    "papermill": {
     "duration": 0.015974,
     "end_time": "2023-08-15T23:38:09.229224",
     "exception": false,
     "start_time": "2023-08-15T23:38:09.213250",
     "status": "completed"
    },
    "tags": []
   },
   "outputs": [],
   "source": [
    "events.resample('W-FRI').sum().pipe(cumulate).to_csv(os.path.join(DATA_DIR, 'by_week.csv'))"
   ]
  },
  {
   "cell_type": "code",
   "execution_count": 8,
   "id": "0ece3436",
   "metadata": {
    "execution": {
     "iopub.execute_input": "2023-08-15T23:38:09.234995Z",
     "iopub.status.busy": "2023-08-15T23:38:09.234371Z",
     "iopub.status.idle": "2023-08-15T23:38:09.241320Z",
     "shell.execute_reply": "2023-08-15T23:38:09.240639Z"
    },
    "papermill": {
     "duration": 0.011768,
     "end_time": "2023-08-15T23:38:09.243181",
     "exception": false,
     "start_time": "2023-08-15T23:38:09.231413",
     "status": "completed"
    },
    "tags": []
   },
   "outputs": [],
   "source": [
    "events.resample('MS').sum().pipe(cumulate).to_csv(os.path.join(DATA_DIR, 'by_month.csv'))"
   ]
  },
  {
   "cell_type": "code",
   "execution_count": null,
   "id": "3e4aa2a5",
   "metadata": {
    "papermill": {
     "duration": 0.002573,
     "end_time": "2023-08-15T23:38:09.248519",
     "exception": false,
     "start_time": "2023-08-15T23:38:09.245946",
     "status": "completed"
    },
    "tags": []
   },
   "outputs": [],
   "source": []
  }
 ],
 "metadata": {
  "kernelspec": {
   "display_name": "leeds-2023-YZF5GfJv",
   "language": "python",
   "name": "python3"
  },
  "language_info": {
   "codemirror_mode": {
    "name": "ipython",
    "version": 3
   },
   "file_extension": ".py",
   "mimetype": "text/x-python",
   "name": "python",
   "nbconvert_exporter": "python",
   "pygments_lexer": "ipython3",
   "version": "3.10.12"
  },
  "papermill": {
   "default_parameters": {},
   "duration": 2.015729,
   "end_time": "2023-08-15T23:38:09.473868",
   "environment_variables": {},
   "exception": null,
   "input_path": "prepare.ipynb",
   "output_path": "../../../working/output/promote-events-prepare.ipynb",
   "parameters": {},
   "start_time": "2023-08-15T23:38:07.458139",
   "version": "2.4.0"
  }
 },
 "nbformat": 4,
 "nbformat_minor": 5
}