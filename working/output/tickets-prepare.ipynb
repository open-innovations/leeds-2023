{
 "cells": [
  {
   "cell_type": "code",
   "execution_count": 1,
   "id": "187b2430",
   "metadata": {
    "execution": {
     "iopub.execute_input": "2023-12-31T23:39:43.805891Z",
     "iopub.status.busy": "2023-12-31T23:39:43.805691Z",
     "iopub.status.idle": "2023-12-31T23:39:44.043899Z",
     "shell.execute_reply": "2023-12-31T23:39:44.043236Z"
    },
    "papermill": {
     "duration": 0.243296,
     "end_time": "2023-12-31T23:39:44.045575",
     "exception": false,
     "start_time": "2023-12-31T23:39:43.802279",
     "status": "completed"
    },
    "tags": []
   },
   "outputs": [],
   "source": [
    "from pathlib import Path\n",
    "import pandas as pd"
   ]
  },
  {
   "cell_type": "markdown",
   "id": "647995b9",
   "metadata": {
    "papermill": {
     "duration": 0.002141,
     "end_time": "2023-12-31T23:39:44.050184",
     "exception": false,
     "start_time": "2023-12-31T23:39:44.048043",
     "status": "completed"
    },
    "tags": []
   },
   "source": [
    "Load the orders data which was created in the [transform stage](./tickets.ipynb)."
   ]
  },
  {
   "cell_type": "code",
   "execution_count": 2,
   "id": "df25849c",
   "metadata": {
    "execution": {
     "iopub.execute_input": "2023-12-31T23:39:44.055562Z",
     "iopub.status.busy": "2023-12-31T23:39:44.055032Z",
     "iopub.status.idle": "2023-12-31T23:39:44.073832Z",
     "shell.execute_reply": "2023-12-31T23:39:44.073172Z"
    },
    "papermill": {
     "duration": 0.022843,
     "end_time": "2023-12-31T23:39:44.075127",
     "exception": false,
     "start_time": "2023-12-31T23:39:44.052284",
     "status": "completed"
    },
    "tags": []
   },
   "outputs": [],
   "source": [
    "def prepare(data: pd.DataFrame) -> pd.DataFrame:\n",
    "    data = data.loc[\n",
    "        (\n",
    "            data.public_event == True\n",
    "        ) & (\n",
    "            ~data.project_name.isin([\n",
    "                'Skills Development',\n",
    "            ])\n",
    "        )\n",
    "    ]\n",
    "    data = data.drop(columns=['public_event'])\n",
    "    return data\n",
    "\n",
    "\n",
    "orders = pd.read_csv(\n",
    "    '../../../../data/metrics/events/tickets/orders.csv',\n",
    "    usecols=[\n",
    "        'created_at',\n",
    "        'project_name',\n",
    "        'public_event',\n",
    "        'number_of_tickets'\n",
    "    ],\n",
    "    parse_dates=['created_at']\n",
    ").pipe(prepare)"
   ]
  },
  {
   "cell_type": "markdown",
   "id": "f8302645",
   "metadata": {
    "papermill": {
     "duration": 0.002041,
     "end_time": "2023-12-31T23:39:44.079393",
     "exception": false,
     "start_time": "2023-12-31T23:39:44.077352",
     "status": "completed"
    },
    "tags": []
   },
   "source": [
    "Define functions to count and sum tickets, and to append cumulative versions of those."
   ]
  },
  {
   "cell_type": "code",
   "execution_count": 3,
   "id": "2b0d9f10",
   "metadata": {
    "execution": {
     "iopub.execute_input": "2023-12-31T23:39:44.084633Z",
     "iopub.status.busy": "2023-12-31T23:39:44.084280Z",
     "iopub.status.idle": "2023-12-31T23:39:44.088263Z",
     "shell.execute_reply": "2023-12-31T23:39:44.087711Z"
    },
    "papermill": {
     "duration": 0.00804,
     "end_time": "2023-12-31T23:39:44.089537",
     "exception": false,
     "start_time": "2023-12-31T23:39:44.081497",
     "status": "completed"
    },
    "tags": []
   },
   "outputs": [],
   "source": [
    "def count_and_sum(series):\n",
    "    return pd.concat([\n",
    "        series.count().to_frame('orders'),\n",
    "        series.sum().to_frame('tickets'),\n",
    "    ], axis=1)\n",
    "\n",
    "\n",
    "def cumulate(df: pd.DataFrame) -> pd.DataFrame:\n",
    "    return pd.concat([\n",
    "        df,\n",
    "        df.cumsum().rename(columns=lambda x: f'cumulative_{x}')\n",
    "    ], axis=1)"
   ]
  },
  {
   "cell_type": "markdown",
   "id": "145322ce",
   "metadata": {
    "papermill": {
     "duration": 0.002145,
     "end_time": "2023-12-31T23:39:44.093835",
     "exception": false,
     "start_time": "2023-12-31T23:39:44.091690",
     "status": "completed"
    },
    "tags": []
   },
   "source": [
    "Create output directory"
   ]
  },
  {
   "cell_type": "code",
   "execution_count": 4,
   "id": "0cb09616",
   "metadata": {
    "execution": {
     "iopub.execute_input": "2023-12-31T23:39:44.098909Z",
     "iopub.status.busy": "2023-12-31T23:39:44.098729Z",
     "iopub.status.idle": "2023-12-31T23:39:44.101948Z",
     "shell.execute_reply": "2023-12-31T23:39:44.101436Z"
    },
    "papermill": {
     "duration": 0.007268,
     "end_time": "2023-12-31T23:39:44.103242",
     "exception": false,
     "start_time": "2023-12-31T23:39:44.095974",
     "status": "completed"
    },
    "tags": []
   },
   "outputs": [],
   "source": [
    "OUTPUT_DIR = Path('../../../../docs/metrics/tickets/_data/')\n",
    "OUTPUT_DIR.mkdir(parents=True, exist_ok=True)"
   ]
  },
  {
   "cell_type": "markdown",
   "id": "ba11f870",
   "metadata": {
    "papermill": {
     "duration": 0.002109,
     "end_time": "2023-12-31T23:39:44.108275",
     "exception": false,
     "start_time": "2023-12-31T23:39:44.106166",
     "status": "completed"
    },
    "tags": []
   },
   "source": [
    "Count / sum the orders and tickets by project code and save to a JSON file"
   ]
  },
  {
   "cell_type": "code",
   "execution_count": 5,
   "id": "915a08b6",
   "metadata": {
    "execution": {
     "iopub.execute_input": "2023-12-31T23:39:44.113642Z",
     "iopub.status.busy": "2023-12-31T23:39:44.113203Z",
     "iopub.status.idle": "2023-12-31T23:39:44.119273Z",
     "shell.execute_reply": "2023-12-31T23:39:44.118799Z"
    },
    "papermill": {
     "duration": 0.010082,
     "end_time": "2023-12-31T23:39:44.120488",
     "exception": false,
     "start_time": "2023-12-31T23:39:44.110406",
     "status": "completed"
    },
    "tags": []
   },
   "outputs": [],
   "source": [
    "by_project = orders.groupby('project_name').number_of_tickets.pipe(count_and_sum)\n",
    "by_project.loc['total']= by_project.sum()\n",
    "by_project.T.to_json(\n",
    "  OUTPUT_DIR.joinpath('headlines.json'),\n",
    "  indent=2\n",
    ")"
   ]
  },
  {
   "cell_type": "markdown",
   "id": "4a65d4f1",
   "metadata": {
    "papermill": {
     "duration": 0.002239,
     "end_time": "2023-12-31T23:39:44.124972",
     "exception": false,
     "start_time": "2023-12-31T23:39:44.122733",
     "status": "completed"
    },
    "tags": []
   },
   "source": [
    "Add `day` column"
   ]
  },
  {
   "cell_type": "code",
   "execution_count": 6,
   "id": "8211814e",
   "metadata": {
    "execution": {
     "iopub.execute_input": "2023-12-31T23:39:44.130206Z",
     "iopub.status.busy": "2023-12-31T23:39:44.130025Z",
     "iopub.status.idle": "2023-12-31T23:39:44.133786Z",
     "shell.execute_reply": "2023-12-31T23:39:44.133264Z"
    },
    "papermill": {
     "duration": 0.007841,
     "end_time": "2023-12-31T23:39:44.135030",
     "exception": false,
     "start_time": "2023-12-31T23:39:44.127189",
     "status": "completed"
    },
    "tags": []
   },
   "outputs": [],
   "source": [
    "orders['day'] = orders.created_at.dt.floor('D')"
   ]
  },
  {
   "cell_type": "code",
   "execution_count": 7,
   "id": "199a83dc",
   "metadata": {
    "execution": {
     "iopub.execute_input": "2023-12-31T23:39:44.140652Z",
     "iopub.status.busy": "2023-12-31T23:39:44.140150Z",
     "iopub.status.idle": "2023-12-31T23:39:44.149458Z",
     "shell.execute_reply": "2023-12-31T23:39:44.148947Z"
    },
    "papermill": {
     "duration": 0.013397,
     "end_time": "2023-12-31T23:39:44.150702",
     "exception": false,
     "start_time": "2023-12-31T23:39:44.137305",
     "status": "completed"
    },
    "tags": []
   },
   "outputs": [
    {
     "data": {
      "text/html": [
       "<div>\n",
       "<style scoped>\n",
       "    .dataframe tbody tr th:only-of-type {\n",
       "        vertical-align: middle;\n",
       "    }\n",
       "\n",
       "    .dataframe tbody tr th {\n",
       "        vertical-align: top;\n",
       "    }\n",
       "\n",
       "    .dataframe thead th {\n",
       "        text-align: right;\n",
       "    }\n",
       "</style>\n",
       "<table border=\"1\" class=\"dataframe\">\n",
       "  <thead>\n",
       "    <tr style=\"text-align: right;\">\n",
       "      <th></th>\n",
       "      <th>created_at</th>\n",
       "      <th>day</th>\n",
       "    </tr>\n",
       "  </thead>\n",
       "  <tbody>\n",
       "    <tr>\n",
       "      <th>176</th>\n",
       "      <td>2023-03-30 16:58:03</td>\n",
       "      <td>2023-03-30</td>\n",
       "    </tr>\n",
       "    <tr>\n",
       "      <th>177</th>\n",
       "      <td>2023-03-30 18:44:08</td>\n",
       "      <td>2023-03-30</td>\n",
       "    </tr>\n",
       "    <tr>\n",
       "      <th>180</th>\n",
       "      <td>2023-03-30 20:32:43</td>\n",
       "      <td>2023-03-30</td>\n",
       "    </tr>\n",
       "    <tr>\n",
       "      <th>181</th>\n",
       "      <td>2023-03-30 21:27:59</td>\n",
       "      <td>2023-03-30</td>\n",
       "    </tr>\n",
       "    <tr>\n",
       "      <th>183</th>\n",
       "      <td>2023-03-30 22:56:31</td>\n",
       "      <td>2023-03-30</td>\n",
       "    </tr>\n",
       "  </tbody>\n",
       "</table>\n",
       "</div>"
      ],
      "text/plain": [
       "             created_at        day\n",
       "176 2023-03-30 16:58:03 2023-03-30\n",
       "177 2023-03-30 18:44:08 2023-03-30\n",
       "180 2023-03-30 20:32:43 2023-03-30\n",
       "181 2023-03-30 21:27:59 2023-03-30\n",
       "183 2023-03-30 22:56:31 2023-03-30"
      ]
     },
     "execution_count": 7,
     "metadata": {},
     "output_type": "execute_result"
    }
   ],
   "source": [
    "orders.loc[:, ['created_at', 'day']].head()"
   ]
  },
  {
   "cell_type": "markdown",
   "id": "45f124b8",
   "metadata": {
    "papermill": {
     "duration": 0.002418,
     "end_time": "2023-12-31T23:39:44.155787",
     "exception": false,
     "start_time": "2023-12-31T23:39:44.153369",
     "status": "completed"
    },
    "tags": []
   },
   "source": [
    "Save table cumulative weekly per project"
   ]
  },
  {
   "cell_type": "code",
   "execution_count": 8,
   "id": "2c9c5e7e",
   "metadata": {
    "execution": {
     "iopub.execute_input": "2023-12-31T23:39:44.161790Z",
     "iopub.status.busy": "2023-12-31T23:39:44.161275Z",
     "iopub.status.idle": "2023-12-31T23:39:44.171274Z",
     "shell.execute_reply": "2023-12-31T23:39:44.170787Z"
    },
    "papermill": {
     "duration": 0.014328,
     "end_time": "2023-12-31T23:39:44.172529",
     "exception": false,
     "start_time": "2023-12-31T23:39:44.158201",
     "status": "completed"
    },
    "tags": []
   },
   "outputs": [],
   "source": [
    "orders.groupby(\n",
    "  ['day', 'project_name']\n",
    ").number_of_tickets.pipe(\n",
    "  count_and_sum\n",
    ").tickets.unstack().fillna(0).resample('W-FRI').sum().cumsum().rename_axis('week').to_csv(\n",
    "  OUTPUT_DIR.joinpath('by_project_cumulative_weekly.csv')\n",
    ")"
   ]
  },
  {
   "cell_type": "markdown",
   "id": "527a4d75",
   "metadata": {
    "papermill": {
     "duration": 0.002417,
     "end_time": "2023-12-31T23:39:44.177491",
     "exception": false,
     "start_time": "2023-12-31T23:39:44.175074",
     "status": "completed"
    },
    "tags": []
   },
   "source": [
    "Save cumulative monthly sales"
   ]
  },
  {
   "cell_type": "code",
   "execution_count": 9,
   "id": "e5ee381b",
   "metadata": {
    "execution": {
     "iopub.execute_input": "2023-12-31T23:39:44.183281Z",
     "iopub.status.busy": "2023-12-31T23:39:44.182902Z",
     "iopub.status.idle": "2023-12-31T23:39:44.189417Z",
     "shell.execute_reply": "2023-12-31T23:39:44.188819Z"
    },
    "papermill": {
     "duration": 0.010911,
     "end_time": "2023-12-31T23:39:44.190787",
     "exception": false,
     "start_time": "2023-12-31T23:39:44.179876",
     "status": "completed"
    },
    "tags": []
   },
   "outputs": [],
   "source": [
    "orders.groupby(['day']).number_of_tickets.pipe(count_and_sum).resample('MS').sum().pipe(cumulate).rename_axis('month').to_csv(\n",
    "  OUTPUT_DIR.joinpath('monthly_cumulative.csv')\n",
    ")"
   ]
  },
  {
   "cell_type": "code",
   "execution_count": null,
   "id": "ddc924d9",
   "metadata": {
    "papermill": {
     "duration": 0.002479,
     "end_time": "2023-12-31T23:39:44.195807",
     "exception": false,
     "start_time": "2023-12-31T23:39:44.193328",
     "status": "completed"
    },
    "tags": []
   },
   "outputs": [],
   "source": []
  }
 ],
 "metadata": {
  "kernelspec": {
   "display_name": "leeds-2023-YZF5GfJv",
   "language": "python",
   "name": "python3"
  },
  "language_info": {
   "codemirror_mode": {
    "name": "ipython",
    "version": 3
   },
   "file_extension": ".py",
   "mimetype": "text/x-python",
   "name": "python",
   "nbconvert_exporter": "python",
   "pygments_lexer": "ipython3",
   "version": "3.10.13"
  },
  "papermill": {
   "default_parameters": {},
   "duration": 1.849628,
   "end_time": "2023-12-31T23:39:44.413843",
   "environment_variables": {},
   "exception": null,
   "input_path": "prepare.ipynb",
   "output_path": "../../../../working/output/tickets-prepare.ipynb",
   "parameters": {},
   "start_time": "2023-12-31T23:39:42.564215",
   "version": "2.4.0"
  }
 },
 "nbformat": 4,
 "nbformat_minor": 5
}