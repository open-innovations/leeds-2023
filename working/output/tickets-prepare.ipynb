{
 "cells": [
  {
   "cell_type": "code",
   "execution_count": 1,
   "id": "fe1b4c86",
   "metadata": {
    "execution": {
     "iopub.execute_input": "2023-12-18T09:58:26.613471Z",
     "iopub.status.busy": "2023-12-18T09:58:26.612869Z",
     "iopub.status.idle": "2023-12-18T09:58:26.773136Z",
     "shell.execute_reply": "2023-12-18T09:58:26.772776Z"
    },
    "papermill": {
     "duration": 0.167069,
     "end_time": "2023-12-18T09:58:26.774145",
     "exception": false,
     "start_time": "2023-12-18T09:58:26.607076",
     "status": "completed"
    },
    "tags": []
   },
   "outputs": [],
   "source": [
    "from pathlib import Path\n",
    "import pandas as pd"
   ]
  },
  {
   "cell_type": "markdown",
   "id": "15fba5cf",
   "metadata": {
    "papermill": {
     "duration": 0.001219,
     "end_time": "2023-12-18T09:58:26.776718",
     "exception": false,
     "start_time": "2023-12-18T09:58:26.775499",
     "status": "completed"
    },
    "tags": []
   },
   "source": [
    "Load the orders data which was created in the [transform stage](./tickets.ipynb)."
   ]
  },
  {
   "cell_type": "code",
   "execution_count": 2,
   "id": "bcd89de7",
   "metadata": {
    "execution": {
     "iopub.execute_input": "2023-12-18T09:58:26.779587Z",
     "iopub.status.busy": "2023-12-18T09:58:26.779408Z",
     "iopub.status.idle": "2023-12-18T09:58:26.790606Z",
     "shell.execute_reply": "2023-12-18T09:58:26.790266Z"
    },
    "papermill": {
     "duration": 0.01383,
     "end_time": "2023-12-18T09:58:26.791631",
     "exception": false,
     "start_time": "2023-12-18T09:58:26.777801",
     "status": "completed"
    },
    "tags": []
   },
   "outputs": [],
   "source": [
    "def prepare(data: pd.DataFrame) -> pd.DataFrame:\n",
    "    data = data.loc[\n",
    "        (\n",
    "            data.public_event == True\n",
    "        ) & (\n",
    "            ~data.project_name.isin([\n",
    "                'Skills Development',\n",
    "            ])\n",
    "        )\n",
    "    ]\n",
    "    data = data.drop(columns=['public_event'])\n",
    "    return data\n",
    "\n",
    "\n",
    "orders = pd.read_csv(\n",
    "    '../../../../data/metrics/events/tickets/orders.csv',\n",
    "    usecols=[\n",
    "        'created_at',\n",
    "        'project_name',\n",
    "        'public_event',\n",
    "        'number_of_tickets'\n",
    "    ],\n",
    "    parse_dates=['created_at']\n",
    ").pipe(prepare)"
   ]
  },
  {
   "cell_type": "markdown",
   "id": "2302f030",
   "metadata": {
    "papermill": {
     "duration": 0.001094,
     "end_time": "2023-12-18T09:58:26.793936",
     "exception": false,
     "start_time": "2023-12-18T09:58:26.792842",
     "status": "completed"
    },
    "tags": []
   },
   "source": [
    "Define functions to count and sum tickets, and to append cumulative versions of those."
   ]
  },
  {
   "cell_type": "code",
   "execution_count": 3,
   "id": "2fa077d5",
   "metadata": {
    "execution": {
     "iopub.execute_input": "2023-12-18T09:58:26.796596Z",
     "iopub.status.busy": "2023-12-18T09:58:26.796471Z",
     "iopub.status.idle": "2023-12-18T09:58:26.798993Z",
     "shell.execute_reply": "2023-12-18T09:58:26.798698Z"
    },
    "papermill": {
     "duration": 0.004643,
     "end_time": "2023-12-18T09:58:26.799638",
     "exception": false,
     "start_time": "2023-12-18T09:58:26.794995",
     "status": "completed"
    },
    "tags": []
   },
   "outputs": [],
   "source": [
    "def count_and_sum(series):\n",
    "    return pd.concat([\n",
    "        series.count().to_frame('orders'),\n",
    "        series.sum().to_frame('tickets'),\n",
    "    ], axis=1)\n",
    "\n",
    "\n",
    "def cumulate(df: pd.DataFrame) -> pd.DataFrame:\n",
    "    return pd.concat([\n",
    "        df,\n",
    "        df.cumsum().rename(columns=lambda x: f'cumulative_{x}')\n",
    "    ], axis=1)"
   ]
  },
  {
   "cell_type": "markdown",
   "id": "ccd8aded",
   "metadata": {
    "papermill": {
     "duration": 0.001124,
     "end_time": "2023-12-18T09:58:26.801922",
     "exception": false,
     "start_time": "2023-12-18T09:58:26.800798",
     "status": "completed"
    },
    "tags": []
   },
   "source": [
    "Create output directory"
   ]
  },
  {
   "cell_type": "code",
   "execution_count": 4,
   "id": "df2fbe14",
   "metadata": {
    "execution": {
     "iopub.execute_input": "2023-12-18T09:58:26.804514Z",
     "iopub.status.busy": "2023-12-18T09:58:26.804405Z",
     "iopub.status.idle": "2023-12-18T09:58:26.806247Z",
     "shell.execute_reply": "2023-12-18T09:58:26.805981Z"
    },
    "papermill": {
     "duration": 0.003855,
     "end_time": "2023-12-18T09:58:26.806843",
     "exception": false,
     "start_time": "2023-12-18T09:58:26.802988",
     "status": "completed"
    },
    "tags": []
   },
   "outputs": [],
   "source": [
    "OUTPUT_DIR = Path('../../../../docs/metrics/tickets/_data/')\n",
    "OUTPUT_DIR.mkdir(parents=True, exist_ok=True)"
   ]
  },
  {
   "cell_type": "markdown",
   "id": "b726c3b6",
   "metadata": {
    "papermill": {
     "duration": 0.001117,
     "end_time": "2023-12-18T09:58:26.809096",
     "exception": false,
     "start_time": "2023-12-18T09:58:26.807979",
     "status": "completed"
    },
    "tags": []
   },
   "source": [
    "Count / sum the orders and tickets by project code and save to a JSON file"
   ]
  },
  {
   "cell_type": "code",
   "execution_count": 5,
   "id": "772de52a",
   "metadata": {
    "execution": {
     "iopub.execute_input": "2023-12-18T09:58:26.811770Z",
     "iopub.status.busy": "2023-12-18T09:58:26.811623Z",
     "iopub.status.idle": "2023-12-18T09:58:26.815621Z",
     "shell.execute_reply": "2023-12-18T09:58:26.815315Z"
    },
    "papermill": {
     "duration": 0.006071,
     "end_time": "2023-12-18T09:58:26.816252",
     "exception": false,
     "start_time": "2023-12-18T09:58:26.810181",
     "status": "completed"
    },
    "tags": []
   },
   "outputs": [],
   "source": [
    "by_project = orders.groupby('project_name').number_of_tickets.pipe(count_and_sum)\n",
    "by_project.loc['total']= by_project.sum()\n",
    "by_project.T.to_json(\n",
    "  OUTPUT_DIR.joinpath('headlines.json'),\n",
    "  indent=2\n",
    ")"
   ]
  },
  {
   "cell_type": "markdown",
   "id": "781f16fd",
   "metadata": {
    "papermill": {
     "duration": 0.001105,
     "end_time": "2023-12-18T09:58:26.818525",
     "exception": false,
     "start_time": "2023-12-18T09:58:26.817420",
     "status": "completed"
    },
    "tags": []
   },
   "source": [
    "Add `week` and `month` columns"
   ]
  },
  {
   "cell_type": "code",
   "execution_count": 6,
   "id": "a36f4776",
   "metadata": {
    "execution": {
     "iopub.execute_input": "2023-12-18T09:58:26.821857Z",
     "iopub.status.busy": "2023-12-18T09:58:26.821647Z",
     "iopub.status.idle": "2023-12-18T09:58:26.825547Z",
     "shell.execute_reply": "2023-12-18T09:58:26.825234Z"
    },
    "papermill": {
     "duration": 0.006114,
     "end_time": "2023-12-18T09:58:26.826229",
     "exception": false,
     "start_time": "2023-12-18T09:58:26.820115",
     "status": "completed"
    },
    "tags": []
   },
   "outputs": [],
   "source": [
    "orders['week'] = orders.created_at.dt.to_period('W-FRI').dt.to_timestamp()\n",
    "orders['month'] = orders.created_at.dt.to_period('M').dt.to_timestamp()"
   ]
  },
  {
   "cell_type": "markdown",
   "id": "fba54d25",
   "metadata": {
    "papermill": {
     "duration": 0.001141,
     "end_time": "2023-12-18T09:58:26.828576",
     "exception": false,
     "start_time": "2023-12-18T09:58:26.827435",
     "status": "completed"
    },
    "tags": []
   },
   "source": [
    "Save table cumulative weekly per project"
   ]
  },
  {
   "cell_type": "code",
   "execution_count": 7,
   "id": "9cdaa17f",
   "metadata": {
    "execution": {
     "iopub.execute_input": "2023-12-18T09:58:26.831357Z",
     "iopub.status.busy": "2023-12-18T09:58:26.831226Z",
     "iopub.status.idle": "2023-12-18T09:58:26.836050Z",
     "shell.execute_reply": "2023-12-18T09:58:26.835738Z"
    },
    "papermill": {
     "duration": 0.006955,
     "end_time": "2023-12-18T09:58:26.836643",
     "exception": false,
     "start_time": "2023-12-18T09:58:26.829688",
     "status": "completed"
    },
    "tags": []
   },
   "outputs": [],
   "source": [
    "orders.groupby(\n",
    "  ['week', 'project_name']\n",
    ").number_of_tickets.pipe(\n",
    "  count_and_sum\n",
    ").tickets.unstack().fillna(0).cumsum().to_csv(\n",
    "  OUTPUT_DIR.joinpath('by_project_cumulative_weekly.csv')\n",
    ")"
   ]
  },
  {
   "cell_type": "markdown",
   "id": "b71a3d70",
   "metadata": {
    "papermill": {
     "duration": 0.001153,
     "end_time": "2023-12-18T09:58:26.839017",
     "exception": false,
     "start_time": "2023-12-18T09:58:26.837864",
     "status": "completed"
    },
    "tags": []
   },
   "source": [
    "Save cumulative monthly sales"
   ]
  },
  {
   "cell_type": "code",
   "execution_count": 8,
   "id": "d7c47169",
   "metadata": {
    "execution": {
     "iopub.execute_input": "2023-12-18T09:58:26.841860Z",
     "iopub.status.busy": "2023-12-18T09:58:26.841721Z",
     "iopub.status.idle": "2023-12-18T09:58:26.845211Z",
     "shell.execute_reply": "2023-12-18T09:58:26.844900Z"
    },
    "papermill": {
     "duration": 0.005685,
     "end_time": "2023-12-18T09:58:26.845838",
     "exception": false,
     "start_time": "2023-12-18T09:58:26.840153",
     "status": "completed"
    },
    "tags": []
   },
   "outputs": [],
   "source": [
    "orders.groupby(['month']).number_of_tickets.pipe(count_and_sum).pipe(cumulate).to_csv(\n",
    "  OUTPUT_DIR.joinpath('monthly_cumulative.csv')\n",
    ")"
   ]
  }
 ],
 "metadata": {
  "kernelspec": {
   "display_name": "leeds-2023-YZF5GfJv",
   "language": "python",
   "name": "python3"
  },
  "language_info": {
   "codemirror_mode": {
    "name": "ipython",
    "version": 3
   },
   "file_extension": ".py",
   "mimetype": "text/x-python",
   "name": "python",
   "nbconvert_exporter": "python",
   "pygments_lexer": "ipython3",
   "version": "3.10.12"
  },
  "papermill": {
   "default_parameters": {},
   "duration": 1.170954,
   "end_time": "2023-12-18T09:58:27.064315",
   "environment_variables": {},
   "exception": null,
   "input_path": "prepare.ipynb",
   "output_path": "../../../../working/output/tickets-prepare.ipynb",
   "parameters": {},
   "start_time": "2023-12-18T09:58:25.893361",
   "version": "2.4.0"
  }
 },
 "nbformat": 4,
 "nbformat_minor": 5
}