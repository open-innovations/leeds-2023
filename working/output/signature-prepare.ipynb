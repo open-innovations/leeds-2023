{
 "cells": [
  {
   "cell_type": "code",
   "execution_count": 1,
   "id": "25774d27",
   "metadata": {
    "execution": {
     "iopub.execute_input": "2023-08-11T23:39:25.988984Z",
     "iopub.status.busy": "2023-08-11T23:39:25.988330Z",
     "iopub.status.idle": "2023-08-11T23:39:36.998110Z",
     "shell.execute_reply": "2023-08-11T23:39:36.997297Z"
    },
    "papermill": {
     "duration": 11.01755,
     "end_time": "2023-08-11T23:39:37.000776",
     "exception": false,
     "start_time": "2023-08-11T23:39:25.983226",
     "status": "completed"
    },
    "tags": []
   },
   "outputs": [],
   "source": [
    "import os\n",
    "import pandas as pd\n",
    "from events import load_event_data, get_first_ward, normalise_ward"
   ]
  },
  {
   "cell_type": "code",
   "execution_count": 2,
   "id": "5b2565ee",
   "metadata": {
    "execution": {
     "iopub.execute_input": "2023-08-11T23:39:37.007628Z",
     "iopub.status.busy": "2023-08-11T23:39:37.007083Z",
     "iopub.status.idle": "2023-08-11T23:39:37.011272Z",
     "shell.execute_reply": "2023-08-11T23:39:37.010550Z"
    },
    "papermill": {
     "duration": 0.009721,
     "end_time": "2023-08-11T23:39:37.013316",
     "exception": false,
     "start_time": "2023-08-11T23:39:37.003595",
     "status": "completed"
    },
    "tags": []
   },
   "outputs": [],
   "source": [
    "latest_date = pd.Timestamp.today().ceil('D')"
   ]
  },
  {
   "cell_type": "code",
   "execution_count": 3,
   "id": "dfadaab0",
   "metadata": {
    "execution": {
     "iopub.execute_input": "2023-08-11T23:39:37.019392Z",
     "iopub.status.busy": "2023-08-11T23:39:37.018929Z",
     "iopub.status.idle": "2023-08-11T23:39:37.036061Z",
     "shell.execute_reply": "2023-08-11T23:39:37.035391Z"
    },
    "papermill": {
     "duration": 0.022159,
     "end_time": "2023-08-11T23:39:37.037819",
     "exception": false,
     "start_time": "2023-08-11T23:39:37.015660",
     "status": "completed"
    },
    "tags": []
   },
   "outputs": [],
   "source": [
    "tickets = pd.read_csv('../../../../data/metrics/events/tickets/orders.csv', parse_dates=['created_at', 'event_date'])\n",
    "tickets = tickets[tickets.event_date <= latest_date]"
   ]
  },
  {
   "cell_type": "code",
   "execution_count": 4,
   "id": "0ff13df5",
   "metadata": {
    "execution": {
     "iopub.execute_input": "2023-08-11T23:39:37.044143Z",
     "iopub.status.busy": "2023-08-11T23:39:37.043528Z",
     "iopub.status.idle": "2023-08-11T23:39:37.231156Z",
     "shell.execute_reply": "2023-08-11T23:39:37.230389Z"
    },
    "papermill": {
     "duration": 0.19293,
     "end_time": "2023-08-11T23:39:37.233210",
     "exception": false,
     "start_time": "2023-08-11T23:39:37.040280",
     "status": "completed"
    },
    "tags": []
   },
   "outputs": [],
   "source": [
    "events = load_event_data()\n",
    "\n",
    "events = pd.concat([\n",
    "  events,\n",
    "  events.pipe(get_first_ward).pipe(normalise_ward).fillna('UNKNOWN'),\n",
    "  pd.Series(\n",
    "      events.actual_audience_size_number_of_participants_in_person + events.actual_audience_size_number_of_participants_online,\n",
    "      name='attendances'\n",
    "  )\n",
    "], axis=1).rename(columns={\n",
    "    'start_date': 'date'\n",
    "}).loc[:, ['ward_code', 'date', 'event_unique_identifier', 'attendances']]"
   ]
  },
  {
   "cell_type": "code",
   "execution_count": 5,
   "id": "17bbab4d",
   "metadata": {
    "execution": {
     "iopub.execute_input": "2023-08-11T23:39:37.240445Z",
     "iopub.status.busy": "2023-08-11T23:39:37.239709Z",
     "iopub.status.idle": "2023-08-11T23:39:37.244796Z",
     "shell.execute_reply": "2023-08-11T23:39:37.244012Z"
    },
    "papermill": {
     "duration": 0.01065,
     "end_time": "2023-08-11T23:39:37.246672",
     "exception": false,
     "start_time": "2023-08-11T23:39:37.236022",
     "status": "completed"
    },
    "tags": []
   },
   "outputs": [],
   "source": [
    "OUTPUT_DIR='../../../../docs/metrics/events/signature/_data/'\n",
    "os.makedirs(OUTPUT_DIR, exist_ok=True)"
   ]
  },
  {
   "cell_type": "markdown",
   "id": "4464bcf7",
   "metadata": {
    "papermill": {
     "duration": 0.002541,
     "end_time": "2023-08-11T23:39:37.251659",
     "exception": false,
     "start_time": "2023-08-11T23:39:37.249118",
     "status": "completed"
    },
    "tags": []
   },
   "source": [
    "Events CSVs"
   ]
  },
  {
   "cell_type": "code",
   "execution_count": 6,
   "id": "171dfb7d",
   "metadata": {
    "execution": {
     "iopub.execute_input": "2023-08-11T23:39:37.258054Z",
     "iopub.status.busy": "2023-08-11T23:39:37.257572Z",
     "iopub.status.idle": "2023-08-11T23:39:37.266944Z",
     "shell.execute_reply": "2023-08-11T23:39:37.266243Z"
    },
    "papermill": {
     "duration": 0.014631,
     "end_time": "2023-08-11T23:39:37.268752",
     "exception": false,
     "start_time": "2023-08-11T23:39:37.254121",
     "status": "completed"
    },
    "tags": []
   },
   "outputs": [],
   "source": [
    "pd.DataFrame({\n",
    "  'events': events.groupby('ward_code').event_unique_identifier.count(),\n",
    "  'attendances': events.groupby('ward_code').attendances.sum().astype(int),\n",
    "}).to_csv(os.path.join(OUTPUT_DIR, 'events_by_ward.csv'))\n"
   ]
  },
  {
   "cell_type": "code",
   "execution_count": 7,
   "id": "ab355cf8",
   "metadata": {
    "execution": {
     "iopub.execute_input": "2023-08-11T23:39:37.275194Z",
     "iopub.status.busy": "2023-08-11T23:39:37.274772Z",
     "iopub.status.idle": "2023-08-11T23:39:37.288030Z",
     "shell.execute_reply": "2023-08-11T23:39:37.287323Z"
    },
    "papermill": {
     "duration": 0.018485,
     "end_time": "2023-08-11T23:39:37.289783",
     "exception": false,
     "start_time": "2023-08-11T23:39:37.271298",
     "status": "completed"
    },
    "tags": []
   },
   "outputs": [],
   "source": [
    "pd.DataFrame({\n",
    "  'events': events.groupby('date').event_unique_identifier.count(),\n",
    "  'attendances': events.groupby('date').attendances.sum().astype(int),\n",
    "}).resample('M').sum().astype(int).to_csv(os.path.join(OUTPUT_DIR, 'events_by_date.csv'))"
   ]
  },
  {
   "cell_type": "markdown",
   "id": "99dfb7d2",
   "metadata": {
    "papermill": {
     "duration": 0.002601,
     "end_time": "2023-08-11T23:39:37.295004",
     "exception": false,
     "start_time": "2023-08-11T23:39:37.292403",
     "status": "completed"
    },
    "tags": []
   },
   "source": [
    "Tickets CSV"
   ]
  },
  {
   "cell_type": "code",
   "execution_count": 8,
   "id": "e08f1d63",
   "metadata": {
    "execution": {
     "iopub.execute_input": "2023-08-11T23:39:37.301780Z",
     "iopub.status.busy": "2023-08-11T23:39:37.301081Z",
     "iopub.status.idle": "2023-08-11T23:39:37.308925Z",
     "shell.execute_reply": "2023-08-11T23:39:37.308284Z"
    },
    "papermill": {
     "duration": 0.013185,
     "end_time": "2023-08-11T23:39:37.310680",
     "exception": false,
     "start_time": "2023-08-11T23:39:37.297495",
     "status": "completed"
    },
    "tags": []
   },
   "outputs": [],
   "source": [
    "pd.DataFrame({\n",
    "  'orders': tickets.groupby('ward_code').number_of_tickets.count(),\n",
    "  'tickets': tickets.groupby('ward_code').number_of_tickets.sum().astype(int),\n",
    "}).to_csv(os.path.join(OUTPUT_DIR, 'tickets_by_ward.csv'))"
   ]
  },
  {
   "cell_type": "code",
   "execution_count": 9,
   "id": "ddf0b2e5",
   "metadata": {
    "execution": {
     "iopub.execute_input": "2023-08-11T23:39:37.317089Z",
     "iopub.status.busy": "2023-08-11T23:39:37.316613Z",
     "iopub.status.idle": "2023-08-11T23:39:37.325662Z",
     "shell.execute_reply": "2023-08-11T23:39:37.325016Z"
    },
    "papermill": {
     "duration": 0.014276,
     "end_time": "2023-08-11T23:39:37.327481",
     "exception": false,
     "start_time": "2023-08-11T23:39:37.313205",
     "status": "completed"
    },
    "tags": []
   },
   "outputs": [],
   "source": [
    "pd.DataFrame({\n",
    "  'orders': tickets.groupby('event_date').number_of_tickets.count(),\n",
    "  'tickets': tickets.groupby('event_date').number_of_tickets.sum().astype(int),\n",
    "}).resample('M').sum().to_csv(os.path.join(OUTPUT_DIR, 'tickets_by_event_date.csv'))"
   ]
  },
  {
   "cell_type": "code",
   "execution_count": 10,
   "id": "d0baa42d",
   "metadata": {
    "execution": {
     "iopub.execute_input": "2023-08-11T23:39:37.334934Z",
     "iopub.status.busy": "2023-08-11T23:39:37.334466Z",
     "iopub.status.idle": "2023-08-11T23:39:37.340276Z",
     "shell.execute_reply": "2023-08-11T23:39:37.339538Z"
    },
    "papermill": {
     "duration": 0.011955,
     "end_time": "2023-08-11T23:39:37.342007",
     "exception": false,
     "start_time": "2023-08-11T23:39:37.330052",
     "status": "completed"
    },
    "tags": []
   },
   "outputs": [],
   "source": [
    "pd.Series({\n",
    "    'total_events': events.event_unique_identifier.count(),\n",
    "    'total_attendances': events.attendances.count(),\n",
    "    'first_event': events.date.min(),\n",
    "    'latest_event': events.date.max(),\n",
    "    'total_ticket_orders_for_events_to_date': tickets.number_of_tickets.count(),\n",
    "    'total_tickets_sold_for_events_to_date': tickets.number_of_tickets.sum(),\n",
    "}).to_json(os.path.join(OUTPUT_DIR, 'headlines.json'), indent=2)"
   ]
  },
  {
   "cell_type": "code",
   "execution_count": null,
   "id": "2373542f",
   "metadata": {
    "papermill": {
     "duration": 0.002871,
     "end_time": "2023-08-11T23:39:37.347589",
     "exception": false,
     "start_time": "2023-08-11T23:39:37.344718",
     "status": "completed"
    },
    "tags": []
   },
   "outputs": [],
   "source": []
  }
 ],
 "metadata": {
  "kernelspec": {
   "display_name": "leeds-2023-YZF5GfJv",
   "language": "python",
   "name": "python3"
  },
  "language_info": {
   "codemirror_mode": {
    "name": "ipython",
    "version": 3
   },
   "file_extension": ".py",
   "mimetype": "text/x-python",
   "name": "python",
   "nbconvert_exporter": "python",
   "pygments_lexer": "ipython3",
   "version": "3.10.12"
  },
  "papermill": {
   "default_parameters": {},
   "duration": 13.046983,
   "end_time": "2023-08-11T23:39:37.667040",
   "environment_variables": {},
   "exception": null,
   "input_path": "prepare.ipynb",
   "output_path": "../../../../working/output/signature-prepare.ipynb",
   "parameters": {},
   "start_time": "2023-08-11T23:39:24.620057",
   "version": "2.4.0"
  }
 },
 "nbformat": 4,
 "nbformat_minor": 5
}