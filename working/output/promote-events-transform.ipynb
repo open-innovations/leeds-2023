{
 "cells": [
  {
   "cell_type": "code",
   "execution_count": 1,
   "id": "28792a15",
   "metadata": {
    "execution": {
     "iopub.execute_input": "2023-07-20T13:29:02.433010Z",
     "iopub.status.busy": "2023-07-20T13:29:02.432680Z",
     "iopub.status.idle": "2023-07-20T13:29:02.730288Z",
     "shell.execute_reply": "2023-07-20T13:29:02.729428Z"
    },
    "papermill": {
     "duration": 0.304865,
     "end_time": "2023-07-20T13:29:02.733394",
     "exception": false,
     "start_time": "2023-07-20T13:29:02.428529",
     "status": "completed"
    },
    "tags": []
   },
   "outputs": [],
   "source": [
    "import os\n",
    "import pandas as pd"
   ]
  },
  {
   "cell_type": "code",
   "execution_count": 2,
   "id": "b2f0403c",
   "metadata": {
    "execution": {
     "iopub.execute_input": "2023-07-20T13:29:02.738352Z",
     "iopub.status.busy": "2023-07-20T13:29:02.737594Z",
     "iopub.status.idle": "2023-07-20T13:29:02.743525Z",
     "shell.execute_reply": "2023-07-20T13:29:02.742735Z"
    },
    "papermill": {
     "duration": 0.010051,
     "end_time": "2023-07-20T13:29:02.745268",
     "exception": false,
     "start_time": "2023-07-20T13:29:02.735217",
     "status": "completed"
    },
    "tags": []
   },
   "outputs": [],
   "source": [
    "EVENTS_RAW_DATA = '../../../working/metrics/promote-events/events.csv'\n",
    "DATA_DIR = '../../../data/metrics/events/promote-events/'\n",
    "EVENTS_DATA = os.path.join(DATA_DIR, 'events.csv')"
   ]
  },
  {
   "cell_type": "code",
   "execution_count": 3,
   "id": "c23a4f8b",
   "metadata": {
    "execution": {
     "iopub.execute_input": "2023-07-20T13:29:02.749231Z",
     "iopub.status.busy": "2023-07-20T13:29:02.748836Z",
     "iopub.status.idle": "2023-07-20T13:29:02.753953Z",
     "shell.execute_reply": "2023-07-20T13:29:02.753201Z"
    },
    "papermill": {
     "duration": 0.009117,
     "end_time": "2023-07-20T13:29:02.755726",
     "exception": false,
     "start_time": "2023-07-20T13:29:02.746609",
     "status": "completed"
    },
    "tags": []
   },
   "outputs": [],
   "source": [
    "columns = {\n",
    "    'id': 'id',\n",
    "    'name': 'name',\n",
    "    'locationName': 'location',\n",
    "    'cardPrice': 'card_price',\n",
    "    'timeslots': 'time',\n",
    "    'displayOnWebsite': 'display',\n",
    "    'Stage': 'stage',\n",
    "}"
   ]
  },
  {
   "cell_type": "code",
   "execution_count": 4,
   "id": "6cdb0569",
   "metadata": {
    "execution": {
     "iopub.execute_input": "2023-07-20T13:29:02.759760Z",
     "iopub.status.busy": "2023-07-20T13:29:02.759370Z",
     "iopub.status.idle": "2023-07-20T13:29:02.777762Z",
     "shell.execute_reply": "2023-07-20T13:29:02.776557Z"
    },
    "papermill": {
     "duration": 0.022544,
     "end_time": "2023-07-20T13:29:02.779672",
     "exception": false,
     "start_time": "2023-07-20T13:29:02.757128",
     "status": "completed"
    },
    "tags": []
   },
   "outputs": [],
   "source": [
    "data = pd.read_csv(EVENTS_RAW_DATA)[columns.keys()].rename(columns=columns)\n",
    "data.time = pd.to_datetime(data.time, errors='coerce')"
   ]
  },
  {
   "cell_type": "code",
   "execution_count": 5,
   "id": "e94a39f0",
   "metadata": {
    "execution": {
     "iopub.execute_input": "2023-07-20T13:29:02.784489Z",
     "iopub.status.busy": "2023-07-20T13:29:02.784026Z",
     "iopub.status.idle": "2023-07-20T13:29:02.793128Z",
     "shell.execute_reply": "2023-07-20T13:29:02.792302Z"
    },
    "papermill": {
     "duration": 0.013818,
     "end_time": "2023-07-20T13:29:02.795004",
     "exception": false,
     "start_time": "2023-07-20T13:29:02.781186",
     "status": "completed"
    },
    "tags": []
   },
   "outputs": [],
   "source": [
    "data.to_csv(os.path.join(DATA_DIR, 'events.csv'), index=False)"
   ]
  }
 ],
 "metadata": {
  "kernelspec": {
   "display_name": "leeds-2023-YZF5GfJv",
   "language": "python",
   "name": "python3"
  },
  "language_info": {
   "codemirror_mode": {
    "name": "ipython",
    "version": 3
   },
   "file_extension": ".py",
   "mimetype": "text/x-python",
   "name": "python",
   "nbconvert_exporter": "python",
   "pygments_lexer": "ipython3",
   "version": "3.10.6"
  },
  "papermill": {
   "default_parameters": {},
   "duration": 1.946263,
   "end_time": "2023-07-20T13:29:03.014497",
   "environment_variables": {},
   "exception": null,
   "input_path": "transform.ipynb",
   "output_path": "../../../working/output/promote-events-transform.ipynb",
   "parameters": {},
   "start_time": "2023-07-20T13:29:01.068234",
   "version": "2.4.0"
  }
 },
 "nbformat": 4,
 "nbformat_minor": 5
}