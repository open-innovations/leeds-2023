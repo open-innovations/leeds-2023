{
 "cells": [
  {
   "cell_type": "code",
   "execution_count": 1,
   "id": "637570c1",
   "metadata": {
    "execution": {
     "iopub.execute_input": "2023-07-24T23:37:06.685920Z",
     "iopub.status.busy": "2023-07-24T23:37:06.685247Z",
     "iopub.status.idle": "2023-07-24T23:37:06.934254Z",
     "shell.execute_reply": "2023-07-24T23:37:06.933577Z"
    },
    "papermill": {
     "duration": 0.255443,
     "end_time": "2023-07-24T23:37:06.936475",
     "exception": false,
     "start_time": "2023-07-24T23:37:06.681032",
     "status": "completed"
    },
    "tags": []
   },
   "outputs": [],
   "source": [
    "import os\n",
    "import sys\n",
    "import pandas as pd\n",
    "lib_dir = os.path.realpath('../../../lib/')\n",
    "if lib_dir not in sys.path: sys.path.append(lib_dir)"
   ]
  },
  {
   "cell_type": "code",
   "execution_count": 2,
   "id": "f28f385a",
   "metadata": {
    "execution": {
     "iopub.execute_input": "2023-07-24T23:37:06.943091Z",
     "iopub.status.busy": "2023-07-24T23:37:06.942427Z",
     "iopub.status.idle": "2023-07-24T23:37:16.419302Z",
     "shell.execute_reply": "2023-07-24T23:37:16.418604Z"
    },
    "papermill": {
     "duration": 9.482141,
     "end_time": "2023-07-24T23:37:16.421287",
     "exception": false,
     "start_time": "2023-07-24T23:37:06.939146",
     "status": "completed"
    },
    "tags": []
   },
   "outputs": [],
   "source": [
    "import util.geo"
   ]
  },
  {
   "cell_type": "code",
   "execution_count": 3,
   "id": "fb5815cd",
   "metadata": {
    "execution": {
     "iopub.execute_input": "2023-07-24T23:37:16.427665Z",
     "iopub.status.busy": "2023-07-24T23:37:16.427232Z",
     "iopub.status.idle": "2023-07-24T23:37:16.431303Z",
     "shell.execute_reply": "2023-07-24T23:37:16.430807Z"
    },
    "papermill": {
     "duration": 0.008651,
     "end_time": "2023-07-24T23:37:16.432577",
     "exception": false,
     "start_time": "2023-07-24T23:37:16.423926",
     "status": "completed"
    },
    "tags": []
   },
   "outputs": [],
   "source": [
    "EVENTS_RAW_DATA = '../../../working/metrics/partner-events/events.csv'\n",
    "DATA_DIR = '../../../data/metrics/events/partner-events/'\n",
    "EVENTS_DATA = os.path.join(DATA_DIR, 'events.csv')"
   ]
  },
  {
   "cell_type": "code",
   "execution_count": 4,
   "id": "93e8c1c0",
   "metadata": {
    "execution": {
     "iopub.execute_input": "2023-07-24T23:37:16.438297Z",
     "iopub.status.busy": "2023-07-24T23:37:16.437884Z",
     "iopub.status.idle": "2023-07-24T23:37:16.441368Z",
     "shell.execute_reply": "2023-07-24T23:37:16.440888Z"
    },
    "papermill": {
     "duration": 0.007839,
     "end_time": "2023-07-24T23:37:16.442661",
     "exception": false,
     "start_time": "2023-07-24T23:37:16.434822",
     "status": "completed"
    },
    "tags": []
   },
   "outputs": [],
   "source": [
    "columns = {\n",
    "    'Event Name': 'name',\n",
    "    'Event Start Date': 'start_date',\n",
    "    'Event End Date': 'end_date',\n",
    "    'Partner/Promote': 'partner_promote',\n",
    "    'Stage': 'stage',\n",
    "    'Live date': 'live_date',\n",
    "    'Venue postcode': 'postcode',\n",
    "    'Pricing Policy': 'pricing',\n",
    "    'Venue - including address': 'venue',\n",
    "    'Is this event on Leeds Inspried?': 'on_leeds_inspired',\n",
    "}"
   ]
  },
  {
   "cell_type": "markdown",
   "id": "6048a5ae",
   "metadata": {
    "papermill": {
     "duration": 0.002242,
     "end_time": "2023-07-24T23:37:16.447129",
     "exception": false,
     "start_time": "2023-07-24T23:37:16.444887",
     "status": "completed"
    },
    "tags": []
   },
   "source": [
    "Load the data and rename columns. Parse the dates to dates."
   ]
  },
  {
   "cell_type": "code",
   "execution_count": 5,
   "id": "f3236dd3",
   "metadata": {
    "execution": {
     "iopub.execute_input": "2023-07-24T23:37:16.452964Z",
     "iopub.status.busy": "2023-07-24T23:37:16.452534Z",
     "iopub.status.idle": "2023-07-24T23:37:16.463169Z",
     "shell.execute_reply": "2023-07-24T23:37:16.462645Z"
    },
    "papermill": {
     "duration": 0.015456,
     "end_time": "2023-07-24T23:37:16.464794",
     "exception": false,
     "start_time": "2023-07-24T23:37:16.449338",
     "status": "completed"
    },
    "tags": []
   },
   "outputs": [],
   "source": [
    "data = pd.read_csv(EVENTS_RAW_DATA)[columns.keys()].rename(columns=columns)\n",
    "data.start_date = pd.to_datetime(data.start_date, errors='coerce')\n",
    "data.end_date = pd.to_datetime(data.end_date, errors='coerce')"
   ]
  },
  {
   "cell_type": "markdown",
   "id": "066e2065",
   "metadata": {
    "papermill": {
     "duration": 0.002567,
     "end_time": "2023-07-24T23:37:16.470082",
     "exception": false,
     "start_time": "2023-07-24T23:37:16.467515",
     "status": "completed"
    },
    "tags": []
   },
   "source": [
    "Filter data by not LI Pull through and start date before now"
   ]
  },
  {
   "cell_type": "code",
   "execution_count": 6,
   "id": "c3daeca3",
   "metadata": {
    "execution": {
     "iopub.execute_input": "2023-07-24T23:37:16.476261Z",
     "iopub.status.busy": "2023-07-24T23:37:16.475757Z",
     "iopub.status.idle": "2023-07-24T23:37:16.480632Z",
     "shell.execute_reply": "2023-07-24T23:37:16.480137Z"
    },
    "papermill": {
     "duration": 0.009465,
     "end_time": "2023-07-24T23:37:16.482046",
     "exception": false,
     "start_time": "2023-07-24T23:37:16.472581",
     "status": "completed"
    },
    "tags": []
   },
   "outputs": [],
   "source": [
    "data = data[\n",
    "    # (data.live_date == 'This event is live ') &\n",
    "    ((data.stage != 'LI pull through') & data.stage.notna()) &\n",
    "    (data.start_date < pd.Timestamp.now())\n",
    "]"
   ]
  },
  {
   "cell_type": "code",
   "execution_count": 7,
   "id": "aa510342",
   "metadata": {
    "execution": {
     "iopub.execute_input": "2023-07-24T23:37:16.487930Z",
     "iopub.status.busy": "2023-07-24T23:37:16.487387Z",
     "iopub.status.idle": "2023-07-24T23:37:17.701760Z",
     "shell.execute_reply": "2023-07-24T23:37:17.701062Z"
    },
    "papermill": {
     "duration": 1.219444,
     "end_time": "2023-07-24T23:37:17.703757",
     "exception": false,
     "start_time": "2023-07-24T23:37:16.484313",
     "status": "completed"
    },
    "tags": []
   },
   "outputs": [],
   "source": [
    "data['ward_code'] = data.postcode.pipe(util.geo.postcode_formatter).map(util.geo.postcode_to_ward_code)\n",
    "data['ward_name'] = data.ward_code.pipe(util.geo.ward_code_to_name)"
   ]
  },
  {
   "cell_type": "markdown",
   "id": "e9946e91",
   "metadata": {
    "papermill": {
     "duration": 0.002799,
     "end_time": "2023-07-24T23:37:17.709574",
     "exception": false,
     "start_time": "2023-07-24T23:37:17.706775",
     "status": "completed"
    },
    "tags": []
   },
   "source": [
    "Save the file"
   ]
  },
  {
   "cell_type": "code",
   "execution_count": 8,
   "id": "f17dc711",
   "metadata": {
    "execution": {
     "iopub.execute_input": "2023-07-24T23:37:17.715815Z",
     "iopub.status.busy": "2023-07-24T23:37:17.715232Z",
     "iopub.status.idle": "2023-07-24T23:37:17.721326Z",
     "shell.execute_reply": "2023-07-24T23:37:17.720785Z"
    },
    "papermill": {
     "duration": 0.010857,
     "end_time": "2023-07-24T23:37:17.722847",
     "exception": false,
     "start_time": "2023-07-24T23:37:17.711990",
     "status": "completed"
    },
    "tags": []
   },
   "outputs": [],
   "source": [
    "data[\n",
    "    ['name','start_date','end_date','ward_code']\n",
    "].to_csv(EVENTS_DATA, index=False)"
   ]
  },
  {
   "cell_type": "markdown",
   "id": "bae32bf7",
   "metadata": {
    "papermill": {
     "duration": 0.002316,
     "end_time": "2023-07-24T23:37:17.727495",
     "exception": false,
     "start_time": "2023-07-24T23:37:17.725179",
     "status": "completed"
    },
    "tags": []
   },
   "source": [
    "Print out missing postcode data"
   ]
  },
  {
   "cell_type": "code",
   "execution_count": 9,
   "id": "2d43cec3",
   "metadata": {
    "execution": {
     "iopub.execute_input": "2023-07-24T23:37:17.733728Z",
     "iopub.status.busy": "2023-07-24T23:37:17.733149Z",
     "iopub.status.idle": "2023-07-24T23:37:17.745354Z",
     "shell.execute_reply": "2023-07-24T23:37:17.744724Z"
    },
    "papermill": {
     "duration": 0.017306,
     "end_time": "2023-07-24T23:37:17.747178",
     "exception": false,
     "start_time": "2023-07-24T23:37:17.729872",
     "status": "completed"
    },
    "tags": []
   },
   "outputs": [
    {
     "data": {
      "text/html": [
       "<div>\n",
       "<style scoped>\n",
       "    .dataframe tbody tr th:only-of-type {\n",
       "        vertical-align: middle;\n",
       "    }\n",
       "\n",
       "    .dataframe tbody tr th {\n",
       "        vertical-align: top;\n",
       "    }\n",
       "\n",
       "    .dataframe thead th {\n",
       "        text-align: right;\n",
       "    }\n",
       "</style>\n",
       "<table border=\"1\" class=\"dataframe\">\n",
       "  <thead>\n",
       "    <tr style=\"text-align: right;\">\n",
       "      <th></th>\n",
       "      <th>name</th>\n",
       "      <th>start_date</th>\n",
       "    </tr>\n",
       "  </thead>\n",
       "  <tbody>\n",
       "    <tr>\n",
       "      <th>1</th>\n",
       "      <td>East Street Arts, A City Less Grey 2022</td>\n",
       "      <td>2022-10-08</td>\n",
       "    </tr>\n",
       "    <tr>\n",
       "      <th>3</th>\n",
       "      <td>Phoenix Dance Theatre Virtual Gallery</td>\n",
       "      <td>2023-01-01</td>\n",
       "    </tr>\n",
       "    <tr>\n",
       "      <th>4</th>\n",
       "      <td>The Big Art Giveaway, School of Creative Arts ...</td>\n",
       "      <td>2023-01-01</td>\n",
       "    </tr>\n",
       "    <tr>\n",
       "      <th>5</th>\n",
       "      <td>Embassy of Netherlands, Meet Leeds Lab</td>\n",
       "      <td>2023-01-16</td>\n",
       "    </tr>\n",
       "    <tr>\n",
       "      <th>6</th>\n",
       "      <td>Shifting Borders: A Journey to the Centre of o...</td>\n",
       "      <td>2023-01-24</td>\n",
       "    </tr>\n",
       "    <tr>\n",
       "      <th>12</th>\n",
       "      <td>Leeds Lit Fest 2023</td>\n",
       "      <td>2023-02-25</td>\n",
       "    </tr>\n",
       "    <tr>\n",
       "      <th>26</th>\n",
       "      <td>East Street Arts, Add Fuel</td>\n",
       "      <td>2023-04-01</td>\n",
       "    </tr>\n",
       "    <tr>\n",
       "      <th>43</th>\n",
       "      <td>Jamica Society Leeds, Out of Many Festival - T...</td>\n",
       "      <td>2023-05-01</td>\n",
       "    </tr>\n",
       "    <tr>\n",
       "      <th>44</th>\n",
       "      <td>Sayang, Si Polan - International residency in ...</td>\n",
       "      <td>2023-05-01</td>\n",
       "    </tr>\n",
       "    <tr>\n",
       "      <th>63</th>\n",
       "      <td>Leeds Jazz Festival 2023</td>\n",
       "      <td>2023-05-25</td>\n",
       "    </tr>\n",
       "    <tr>\n",
       "      <th>79</th>\n",
       "      <td>Keira Martin, Queenie and the Pooka (Performan...</td>\n",
       "      <td>2023-06-05</td>\n",
       "    </tr>\n",
       "    <tr>\n",
       "      <th>80</th>\n",
       "      <td>My LEEDS Summer: Kirkstall Makes + Moves</td>\n",
       "      <td>2023-06-11</td>\n",
       "    </tr>\n",
       "    <tr>\n",
       "      <th>83</th>\n",
       "      <td>My LEEDS Summer at Hunslet Festival</td>\n",
       "      <td>2023-06-17</td>\n",
       "    </tr>\n",
       "    <tr>\n",
       "      <th>84</th>\n",
       "      <td>My LEEDS Summer: Roundhay World Music &amp; Food Fest</td>\n",
       "      <td>2023-06-17</td>\n",
       "    </tr>\n",
       "    <tr>\n",
       "      <th>93</th>\n",
       "      <td>My LEEDS Summer: Beeston Festival</td>\n",
       "      <td>2023-06-24</td>\n",
       "    </tr>\n",
       "    <tr>\n",
       "      <th>94</th>\n",
       "      <td>My LEEDS Summer: Crossgates and Whinmoor - Pas...</td>\n",
       "      <td>2023-06-24</td>\n",
       "    </tr>\n",
       "    <tr>\n",
       "      <th>95</th>\n",
       "      <td>My LEEDS Summer: Picnic in the Park</td>\n",
       "      <td>2023-06-24</td>\n",
       "    </tr>\n",
       "    <tr>\n",
       "      <th>98</th>\n",
       "      <td>Becoming the Brontës</td>\n",
       "      <td>2023-06-29</td>\n",
       "    </tr>\n",
       "    <tr>\n",
       "      <th>105</th>\n",
       "      <td>My LEEDS Summer: Wetherby Drovers Day</td>\n",
       "      <td>2023-07-01</td>\n",
       "    </tr>\n",
       "    <tr>\n",
       "      <th>106</th>\n",
       "      <td>My Leeds Summer : Walk of Art</td>\n",
       "      <td>2023-07-01</td>\n",
       "    </tr>\n",
       "    <tr>\n",
       "      <th>109</th>\n",
       "      <td>My LEEDS Summer: The Feast</td>\n",
       "      <td>2023-07-02</td>\n",
       "    </tr>\n",
       "    <tr>\n",
       "      <th>110</th>\n",
       "      <td>My LEEDS summer: Celebration Day</td>\n",
       "      <td>2023-07-02</td>\n",
       "    </tr>\n",
       "    <tr>\n",
       "      <th>118</th>\n",
       "      <td>My LEEDS Summer : Wonderful Workshops and Cele...</td>\n",
       "      <td>2023-07-06</td>\n",
       "    </tr>\n",
       "    <tr>\n",
       "      <th>125</th>\n",
       "      <td>My LEEDS Summer: The Gipton and Harehills Crea...</td>\n",
       "      <td>2023-07-08</td>\n",
       "    </tr>\n",
       "    <tr>\n",
       "      <th>127</th>\n",
       "      <td>My LEEDS Summer: Ardsley &amp; Robin Hood: Celebra...</td>\n",
       "      <td>2023-07-09</td>\n",
       "    </tr>\n",
       "    <tr>\n",
       "      <th>130</th>\n",
       "      <td>My LEEDS Summer: The Big Summer Picnic</td>\n",
       "      <td>2023-07-09</td>\n",
       "    </tr>\n",
       "    <tr>\n",
       "      <th>133</th>\n",
       "      <td>My LEEDS Summer: Ralph Thoresby Summer Festival</td>\n",
       "      <td>2023-07-15</td>\n",
       "    </tr>\n",
       "    <tr>\n",
       "      <th>135</th>\n",
       "      <td>My LEEDS Summer: Fuse Festival</td>\n",
       "      <td>2023-07-17</td>\n",
       "    </tr>\n",
       "    <tr>\n",
       "      <th>137</th>\n",
       "      <td>Community Training Programme</td>\n",
       "      <td>2023-07-20</td>\n",
       "    </tr>\n",
       "    <tr>\n",
       "      <th>139</th>\n",
       "      <td>My LEEDS Summer: Festival of Culture</td>\n",
       "      <td>2023-07-22</td>\n",
       "    </tr>\n",
       "    <tr>\n",
       "      <th>140</th>\n",
       "      <td>My LEEDS Summer: Kippax and Methley Culture Trail</td>\n",
       "      <td>2023-07-22</td>\n",
       "    </tr>\n",
       "    <tr>\n",
       "      <th>141</th>\n",
       "      <td>My LEEDS Summer: Farnley and Wortley gives it ...</td>\n",
       "      <td>2023-07-23</td>\n",
       "    </tr>\n",
       "    <tr>\n",
       "      <th>142</th>\n",
       "      <td>My LEEDS Summer: Garforth and Swillington's Cr...</td>\n",
       "      <td>2023-07-23</td>\n",
       "    </tr>\n",
       "    <tr>\n",
       "      <th>143</th>\n",
       "      <td>My LEEDS Summer: Morley Make Together</td>\n",
       "      <td>2023-07-23</td>\n",
       "    </tr>\n",
       "  </tbody>\n",
       "</table>\n",
       "</div>"
      ],
      "text/plain": [
       "                                                  name start_date\n",
       "1              East Street Arts, A City Less Grey 2022 2022-10-08\n",
       "3                Phoenix Dance Theatre Virtual Gallery 2023-01-01\n",
       "4    The Big Art Giveaway, School of Creative Arts ... 2023-01-01\n",
       "5               Embassy of Netherlands, Meet Leeds Lab 2023-01-16\n",
       "6    Shifting Borders: A Journey to the Centre of o... 2023-01-24\n",
       "12                                 Leeds Lit Fest 2023 2023-02-25\n",
       "26                          East Street Arts, Add Fuel 2023-04-01\n",
       "43   Jamica Society Leeds, Out of Many Festival - T... 2023-05-01\n",
       "44   Sayang, Si Polan - International residency in ... 2023-05-01\n",
       "63                            Leeds Jazz Festival 2023 2023-05-25\n",
       "79   Keira Martin, Queenie and the Pooka (Performan... 2023-06-05\n",
       "80            My LEEDS Summer: Kirkstall Makes + Moves 2023-06-11\n",
       "83                 My LEEDS Summer at Hunslet Festival 2023-06-17\n",
       "84   My LEEDS Summer: Roundhay World Music & Food Fest 2023-06-17\n",
       "93                   My LEEDS Summer: Beeston Festival 2023-06-24\n",
       "94   My LEEDS Summer: Crossgates and Whinmoor - Pas... 2023-06-24\n",
       "95                 My LEEDS Summer: Picnic in the Park 2023-06-24\n",
       "98                                Becoming the Brontës 2023-06-29\n",
       "105              My LEEDS Summer: Wetherby Drovers Day 2023-07-01\n",
       "106                      My Leeds Summer : Walk of Art 2023-07-01\n",
       "109                         My LEEDS Summer: The Feast 2023-07-02\n",
       "110                   My LEEDS summer: Celebration Day 2023-07-02\n",
       "118  My LEEDS Summer : Wonderful Workshops and Cele... 2023-07-06\n",
       "125  My LEEDS Summer: The Gipton and Harehills Crea... 2023-07-08\n",
       "127  My LEEDS Summer: Ardsley & Robin Hood: Celebra... 2023-07-09\n",
       "130             My LEEDS Summer: The Big Summer Picnic 2023-07-09\n",
       "133    My LEEDS Summer: Ralph Thoresby Summer Festival 2023-07-15\n",
       "135                     My LEEDS Summer: Fuse Festival 2023-07-17\n",
       "137                       Community Training Programme 2023-07-20\n",
       "139               My LEEDS Summer: Festival of Culture 2023-07-22\n",
       "140  My LEEDS Summer: Kippax and Methley Culture Trail 2023-07-22\n",
       "141  My LEEDS Summer: Farnley and Wortley gives it ... 2023-07-23\n",
       "142  My LEEDS Summer: Garforth and Swillington's Cr... 2023-07-23\n",
       "143              My LEEDS Summer: Morley Make Together 2023-07-23"
      ]
     },
     "execution_count": 9,
     "metadata": {},
     "output_type": "execute_result"
    }
   ],
   "source": [
    "data[data.postcode.isna()][[\n",
    "    'name', 'start_date'\n",
    "]]"
   ]
  },
  {
   "cell_type": "markdown",
   "id": "7135d3af",
   "metadata": {
    "papermill": {
     "duration": 0.002719,
     "end_time": "2023-07-24T23:37:17.752727",
     "exception": false,
     "start_time": "2023-07-24T23:37:17.750008",
     "status": "completed"
    },
    "tags": []
   },
   "source": [
    "Plot the pricing"
   ]
  },
  {
   "cell_type": "code",
   "execution_count": 10,
   "id": "70deacd7",
   "metadata": {
    "execution": {
     "iopub.execute_input": "2023-07-24T23:37:17.763367Z",
     "iopub.status.busy": "2023-07-24T23:37:17.762745Z",
     "iopub.status.idle": "2023-07-24T23:37:18.614232Z",
     "shell.execute_reply": "2023-07-24T23:37:18.613359Z"
    },
    "papermill": {
     "duration": 0.856917,
     "end_time": "2023-07-24T23:37:18.615950",
     "exception": false,
     "start_time": "2023-07-24T23:37:17.759033",
     "status": "completed"
    },
    "tags": []
   },
   "outputs": [
    {
     "data": {
      "image/png": "[encoded data removed]",
      "text/plain": [
       "<Figure size 640x480 with 1 Axes>"
      ]
     },
     "metadata": {},
     "output_type": "display_data"
    }
   ],
   "source": [
    "# .groupby('pricing').count().plot.barh()\n",
    "pricing = data.pricing.fillna('Unspecified').str.replace('[\\[\\'\\]]', '', regex=True).to_frame().reset_index().groupby('pricing').count()\n",
    "\n",
    "pricing.columns = ['count']\n",
    "plot = pricing.plot.barh()\n"
   ]
  },
  {
   "cell_type": "code",
   "execution_count": null,
   "id": "4178d605",
   "metadata": {
    "papermill": {
     "duration": 0.003145,
     "end_time": "2023-07-24T23:37:18.622607",
     "exception": false,
     "start_time": "2023-07-24T23:37:18.619462",
     "status": "completed"
    },
    "tags": []
   },
   "outputs": [],
   "source": []
  }
 ],
 "metadata": {
  "kernelspec": {
   "display_name": "leeds-2023-YZF5GfJv",
   "language": "python",
   "name": "python3"
  },
  "language_info": {
   "codemirror_mode": {
    "name": "ipython",
    "version": 3
   },
   "file_extension": ".py",
   "mimetype": "text/x-python",
   "name": "python",
   "nbconvert_exporter": "python",
   "pygments_lexer": "ipython3",
   "version": "3.10.6"
  },
  "papermill": {
   "default_parameters": {},
   "duration": 13.748631,
   "end_time": "2023-07-24T23:37:19.043292",
   "environment_variables": {},
   "exception": null,
   "input_path": "transform.ipynb",
   "output_path": "../../../working/output/partner-events-transform.ipynb",
   "parameters": {},
   "start_time": "2023-07-24T23:37:05.294661",
   "version": "2.4.0"
  }
 },
 "nbformat": 4,
 "nbformat_minor": 5
}