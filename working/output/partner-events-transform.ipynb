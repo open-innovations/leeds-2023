{
 "cells": [
  {
   "cell_type": "code",
   "execution_count": 1,
   "id": "7eba6e4e",
   "metadata": {
    "execution": {
     "iopub.execute_input": "2023-11-20T23:37:37.281046Z",
     "iopub.status.busy": "2023-11-20T23:37:37.280837Z",
     "iopub.status.idle": "2023-11-20T23:37:37.519471Z",
     "shell.execute_reply": "2023-11-20T23:37:37.518886Z"
    },
    "papermill": {
     "duration": 0.24384,
     "end_time": "2023-11-20T23:37:37.521141",
     "exception": false,
     "start_time": "2023-11-20T23:37:37.277301",
     "status": "completed"
    },
    "tags": []
   },
   "outputs": [],
   "source": [
    "import os\n",
    "import sys\n",
    "import pandas as pd\n",
    "lib_dir = os.path.realpath('../../../lib/')\n",
    "if lib_dir not in sys.path: sys.path.append(lib_dir)"
   ]
  },
  {
   "cell_type": "code",
   "execution_count": 2,
   "id": "a1b60eed",
   "metadata": {
    "execution": {
     "iopub.execute_input": "2023-11-20T23:37:37.526797Z",
     "iopub.status.busy": "2023-11-20T23:37:37.526551Z",
     "iopub.status.idle": "2023-11-20T23:37:44.446590Z",
     "shell.execute_reply": "2023-11-20T23:37:44.445859Z"
    },
    "papermill": {
     "duration": 6.924797,
     "end_time": "2023-11-20T23:37:44.448463",
     "exception": false,
     "start_time": "2023-11-20T23:37:37.523666",
     "status": "completed"
    },
    "tags": []
   },
   "outputs": [],
   "source": [
    "import util.geo"
   ]
  },
  {
   "cell_type": "code",
   "execution_count": 3,
   "id": "cb648d8a",
   "metadata": {
    "execution": {
     "iopub.execute_input": "2023-11-20T23:37:44.454654Z",
     "iopub.status.busy": "2023-11-20T23:37:44.454185Z",
     "iopub.status.idle": "2023-11-20T23:37:44.457427Z",
     "shell.execute_reply": "2023-11-20T23:37:44.456824Z"
    },
    "papermill": {
     "duration": 0.007694,
     "end_time": "2023-11-20T23:37:44.458835",
     "exception": false,
     "start_time": "2023-11-20T23:37:44.451141",
     "status": "completed"
    },
    "tags": []
   },
   "outputs": [],
   "source": [
    "EVENTS_RAW_DATA = '../../../working/metrics/partner-events/events.csv'\n",
    "DATA_DIR = '../../../data/metrics/events/partner-events/'\n",
    "EVENTS_DATA = os.path.join(DATA_DIR, 'events.csv')"
   ]
  },
  {
   "cell_type": "code",
   "execution_count": 4,
   "id": "1c9afbcc",
   "metadata": {
    "execution": {
     "iopub.execute_input": "2023-11-20T23:37:44.464240Z",
     "iopub.status.busy": "2023-11-20T23:37:44.463780Z",
     "iopub.status.idle": "2023-11-20T23:37:44.467203Z",
     "shell.execute_reply": "2023-11-20T23:37:44.466677Z"
    },
    "papermill": {
     "duration": 0.007427,
     "end_time": "2023-11-20T23:37:44.468425",
     "exception": false,
     "start_time": "2023-11-20T23:37:44.460998",
     "status": "completed"
    },
    "tags": []
   },
   "outputs": [],
   "source": [
    "columns = {\n",
    "    'Event Name': 'name',\n",
    "    'Event Start Date': 'start_date',\n",
    "    'Event End Date': 'end_date',\n",
    "    'Partner/Promote': 'partner_promote',\n",
    "    'Stage': 'stage',\n",
    "    'Live date': 'live_date',\n",
    "    'Venue postcode': 'postcode',\n",
    "    'Pricing Policy': 'pricing',\n",
    "    'Venue - including address': 'venue',\n",
    "    'Is this event on Leeds Inspried?': 'on_leeds_inspired',\n",
    "}"
   ]
  },
  {
   "cell_type": "markdown",
   "id": "8976f7c0",
   "metadata": {
    "papermill": {
     "duration": 0.002171,
     "end_time": "2023-11-20T23:37:44.472813",
     "exception": false,
     "start_time": "2023-11-20T23:37:44.470642",
     "status": "completed"
    },
    "tags": []
   },
   "source": [
    "Load the data and rename columns. Parse the dates to dates."
   ]
  },
  {
   "cell_type": "code",
   "execution_count": 5,
   "id": "7d3d83f7",
   "metadata": {
    "execution": {
     "iopub.execute_input": "2023-11-20T23:37:44.478166Z",
     "iopub.status.busy": "2023-11-20T23:37:44.477722Z",
     "iopub.status.idle": "2023-11-20T23:37:44.486668Z",
     "shell.execute_reply": "2023-11-20T23:37:44.486163Z"
    },
    "papermill": {
     "duration": 0.012991,
     "end_time": "2023-11-20T23:37:44.487970",
     "exception": false,
     "start_time": "2023-11-20T23:37:44.474979",
     "status": "completed"
    },
    "tags": []
   },
   "outputs": [],
   "source": [
    "data = pd.read_csv(EVENTS_RAW_DATA)[columns.keys()].rename(columns=columns)\n",
    "data.start_date = pd.to_datetime(data.start_date, errors='coerce')\n",
    "data.end_date = pd.to_datetime(data.end_date, errors='coerce')"
   ]
  },
  {
   "cell_type": "markdown",
   "id": "e84ce819",
   "metadata": {
    "papermill": {
     "duration": 0.002175,
     "end_time": "2023-11-20T23:37:44.492348",
     "exception": false,
     "start_time": "2023-11-20T23:37:44.490173",
     "status": "completed"
    },
    "tags": []
   },
   "source": [
    "Filter data by not LI Pull through and start date before now"
   ]
  },
  {
   "cell_type": "code",
   "execution_count": 6,
   "id": "71e49596",
   "metadata": {
    "execution": {
     "iopub.execute_input": "2023-11-20T23:37:44.498460Z",
     "iopub.status.busy": "2023-11-20T23:37:44.498102Z",
     "iopub.status.idle": "2023-11-20T23:37:44.502283Z",
     "shell.execute_reply": "2023-11-20T23:37:44.501677Z"
    },
    "papermill": {
     "duration": 0.008286,
     "end_time": "2023-11-20T23:37:44.503567",
     "exception": false,
     "start_time": "2023-11-20T23:37:44.495281",
     "status": "completed"
    },
    "tags": []
   },
   "outputs": [],
   "source": [
    "data = data[\n",
    "    # (data.live_date == 'This event is live ') &\n",
    "    ((data.stage != 'LI pull through') & data.stage.notna()) &\n",
    "    (data.start_date < pd.Timestamp.now())\n",
    "]"
   ]
  },
  {
   "cell_type": "code",
   "execution_count": 7,
   "id": "da993eeb",
   "metadata": {
    "execution": {
     "iopub.execute_input": "2023-11-20T23:37:44.508808Z",
     "iopub.status.busy": "2023-11-20T23:37:44.508616Z",
     "iopub.status.idle": "2023-11-20T23:37:45.365521Z",
     "shell.execute_reply": "2023-11-20T23:37:45.364851Z"
    },
    "papermill": {
     "duration": 0.861498,
     "end_time": "2023-11-20T23:37:45.367251",
     "exception": false,
     "start_time": "2023-11-20T23:37:44.505753",
     "status": "completed"
    },
    "tags": []
   },
   "outputs": [],
   "source": [
    "data['ward_code'] = data.postcode.pipe(util.geo.postcode_formatter).map(util.geo.postcode_to_ward_code)\n",
    "data['ward_name'] = data.ward_code.pipe(util.geo.ward_code_to_name)"
   ]
  },
  {
   "cell_type": "markdown",
   "id": "a969c83a",
   "metadata": {
    "papermill": {
     "duration": 0.002401,
     "end_time": "2023-11-20T23:37:45.372281",
     "exception": false,
     "start_time": "2023-11-20T23:37:45.369880",
     "status": "completed"
    },
    "tags": []
   },
   "source": [
    "Save the file"
   ]
  },
  {
   "cell_type": "code",
   "execution_count": 8,
   "id": "bddc8f1c",
   "metadata": {
    "execution": {
     "iopub.execute_input": "2023-11-20T23:37:45.378025Z",
     "iopub.status.busy": "2023-11-20T23:37:45.377603Z",
     "iopub.status.idle": "2023-11-20T23:37:45.383677Z",
     "shell.execute_reply": "2023-11-20T23:37:45.383175Z"
    },
    "papermill": {
     "duration": 0.010388,
     "end_time": "2023-11-20T23:37:45.384948",
     "exception": false,
     "start_time": "2023-11-20T23:37:45.374560",
     "status": "completed"
    },
    "tags": []
   },
   "outputs": [],
   "source": [
    "data[\n",
    "    ['name','start_date','end_date','ward_code']\n",
    "].to_csv(EVENTS_DATA, index=False)"
   ]
  },
  {
   "cell_type": "markdown",
   "id": "252e4137",
   "metadata": {
    "papermill": {
     "duration": 0.00225,
     "end_time": "2023-11-20T23:37:45.389492",
     "exception": false,
     "start_time": "2023-11-20T23:37:45.387242",
     "status": "completed"
    },
    "tags": []
   },
   "source": [
    "Print out missing postcode data"
   ]
  },
  {
   "cell_type": "code",
   "execution_count": 9,
   "id": "88a6e128",
   "metadata": {
    "execution": {
     "iopub.execute_input": "2023-11-20T23:37:45.395208Z",
     "iopub.status.busy": "2023-11-20T23:37:45.394832Z",
     "iopub.status.idle": "2023-11-20T23:37:45.406050Z",
     "shell.execute_reply": "2023-11-20T23:37:45.405385Z"
    },
    "papermill": {
     "duration": 0.015466,
     "end_time": "2023-11-20T23:37:45.407284",
     "exception": false,
     "start_time": "2023-11-20T23:37:45.391818",
     "status": "completed"
    },
    "tags": []
   },
   "outputs": [
    {
     "data": {
      "text/html": [
       "<div>\n",
       "<style scoped>\n",
       "    .dataframe tbody tr th:only-of-type {\n",
       "        vertical-align: middle;\n",
       "    }\n",
       "\n",
       "    .dataframe tbody tr th {\n",
       "        vertical-align: top;\n",
       "    }\n",
       "\n",
       "    .dataframe thead th {\n",
       "        text-align: right;\n",
       "    }\n",
       "</style>\n",
       "<table border=\"1\" class=\"dataframe\">\n",
       "  <thead>\n",
       "    <tr style=\"text-align: right;\">\n",
       "      <th></th>\n",
       "      <th>name</th>\n",
       "      <th>start_date</th>\n",
       "    </tr>\n",
       "  </thead>\n",
       "  <tbody>\n",
       "    <tr>\n",
       "      <th>1</th>\n",
       "      <td>East Street Arts, A City Less Grey 2022</td>\n",
       "      <td>2022-10-08</td>\n",
       "    </tr>\n",
       "    <tr>\n",
       "      <th>3</th>\n",
       "      <td>Phoenix Dance Theatre Virtual Gallery</td>\n",
       "      <td>2023-01-01</td>\n",
       "    </tr>\n",
       "    <tr>\n",
       "      <th>4</th>\n",
       "      <td>The Big Art Giveaway, School of Creative Arts ...</td>\n",
       "      <td>2023-01-01</td>\n",
       "    </tr>\n",
       "    <tr>\n",
       "      <th>5</th>\n",
       "      <td>Embassy of Netherlands, Meet Leeds Lab</td>\n",
       "      <td>2023-01-16</td>\n",
       "    </tr>\n",
       "    <tr>\n",
       "      <th>6</th>\n",
       "      <td>Shifting Borders: A Journey to the Centre of o...</td>\n",
       "      <td>2023-01-24</td>\n",
       "    </tr>\n",
       "    <tr>\n",
       "      <th>...</th>\n",
       "      <td>...</td>\n",
       "      <td>...</td>\n",
       "    </tr>\n",
       "    <tr>\n",
       "      <th>296</th>\n",
       "      <td>Leeds Language Week: Sentidos y Sensaciones (S...</td>\n",
       "      <td>2023-11-16</td>\n",
       "    </tr>\n",
       "    <tr>\n",
       "      <th>297</th>\n",
       "      <td>Leeds Language Week: Where Will Languages Take...</td>\n",
       "      <td>2023-11-16</td>\n",
       "    </tr>\n",
       "    <tr>\n",
       "      <th>298</th>\n",
       "      <td>afrah shafiq: st.itch</td>\n",
       "      <td>2023-11-16</td>\n",
       "    </tr>\n",
       "    <tr>\n",
       "      <th>299</th>\n",
       "      <td>Leeds Language Week: Chinese Dance and Languag...</td>\n",
       "      <td>2023-11-19</td>\n",
       "    </tr>\n",
       "    <tr>\n",
       "      <th>300</th>\n",
       "      <td>Leeds Language Week: Taste of China</td>\n",
       "      <td>2023-11-19</td>\n",
       "    </tr>\n",
       "  </tbody>\n",
       "</table>\n",
       "<p>124 rows × 2 columns</p>\n",
       "</div>"
      ],
      "text/plain": [
       "                                                  name start_date\n",
       "1              East Street Arts, A City Less Grey 2022 2022-10-08\n",
       "3                Phoenix Dance Theatre Virtual Gallery 2023-01-01\n",
       "4    The Big Art Giveaway, School of Creative Arts ... 2023-01-01\n",
       "5               Embassy of Netherlands, Meet Leeds Lab 2023-01-16\n",
       "6    Shifting Borders: A Journey to the Centre of o... 2023-01-24\n",
       "..                                                 ...        ...\n",
       "296  Leeds Language Week: Sentidos y Sensaciones (S... 2023-11-16\n",
       "297  Leeds Language Week: Where Will Languages Take... 2023-11-16\n",
       "298                              afrah shafiq: st.itch 2023-11-16\n",
       "299  Leeds Language Week: Chinese Dance and Languag... 2023-11-19\n",
       "300                Leeds Language Week: Taste of China 2023-11-19\n",
       "\n",
       "[124 rows x 2 columns]"
      ]
     },
     "execution_count": 9,
     "metadata": {},
     "output_type": "execute_result"
    }
   ],
   "source": [
    "data[data.postcode.isna()][[\n",
    "    'name', 'start_date'\n",
    "]]"
   ]
  },
  {
   "cell_type": "markdown",
   "id": "0120f9ba",
   "metadata": {
    "papermill": {
     "duration": 0.002479,
     "end_time": "2023-11-20T23:37:45.412321",
     "exception": false,
     "start_time": "2023-11-20T23:37:45.409842",
     "status": "completed"
    },
    "tags": []
   },
   "source": [
    "Plot the pricing"
   ]
  },
  {
   "cell_type": "code",
   "execution_count": 10,
   "id": "e63b6436",
   "metadata": {
    "execution": {
     "iopub.execute_input": "2023-11-20T23:37:45.418486Z",
     "iopub.status.busy": "2023-11-20T23:37:45.418051Z",
     "iopub.status.idle": "2023-11-20T23:37:46.150862Z",
     "shell.execute_reply": "2023-11-20T23:37:46.150130Z"
    },
    "papermill": {
     "duration": 0.737365,
     "end_time": "2023-11-20T23:37:46.152266",
     "exception": false,
     "start_time": "2023-11-20T23:37:45.414901",
     "status": "completed"
    },
    "tags": []
   },
   "outputs": [
    {
     "data": {
      "image/png": "[encoded data removed]",
      "text/plain": [
       "<Figure size 640x480 with 1 Axes>"
      ]
     },
     "metadata": {},
     "output_type": "display_data"
    }
   ],
   "source": [
    "# .groupby('pricing').count().plot.barh()\n",
    "pricing = data.pricing.fillna('Unspecified').str.replace('[\\[\\'\\]]', '', regex=True).to_frame().reset_index().groupby('pricing').count()\n",
    "\n",
    "pricing.columns = ['count']\n",
    "plot = pricing.plot.barh()\n"
   ]
  },
  {
   "cell_type": "code",
   "execution_count": null,
   "id": "741a823c",
   "metadata": {
    "papermill": {
     "duration": 0.002915,
     "end_time": "2023-11-20T23:37:46.158400",
     "exception": false,
     "start_time": "2023-11-20T23:37:46.155485",
     "status": "completed"
    },
    "tags": []
   },
   "outputs": [],
   "source": []
  }
 ],
 "metadata": {
  "kernelspec": {
   "display_name": "leeds-2023-YZF5GfJv",
   "language": "python",
   "name": "python3"
  },
  "language_info": {
   "codemirror_mode": {
    "name": "ipython",
    "version": 3
   },
   "file_extension": ".py",
   "mimetype": "text/x-python",
   "name": "python",
   "nbconvert_exporter": "python",
   "pygments_lexer": "ipython3",
   "version": "3.10.13"
  },
  "papermill": {
   "default_parameters": {},
   "duration": 10.443038,
   "end_time": "2023-11-20T23:37:46.477165",
   "environment_variables": {},
   "exception": null,
   "input_path": "transform.ipynb",
   "output_path": "../../../working/output/partner-events-transform.ipynb",
   "parameters": {},
   "start_time": "2023-11-20T23:37:36.034127",
   "version": "2.4.0"
  }
 },
 "nbformat": 4,
 "nbformat_minor": 5
}