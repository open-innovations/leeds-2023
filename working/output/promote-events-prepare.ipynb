{
 "cells": [
  {
   "cell_type": "code",
   "execution_count": 1,
   "id": "a5b5f0cb",
   "metadata": {
    "execution": {
     "iopub.execute_input": "2023-09-01T23:39:12.492600Z",
     "iopub.status.busy": "2023-09-01T23:39:12.491948Z",
     "iopub.status.idle": "2023-09-01T23:39:12.721326Z",
     "shell.execute_reply": "2023-09-01T23:39:12.720704Z"
    },
    "papermill": {
     "duration": 0.23479,
     "end_time": "2023-09-01T23:39:12.723339",
     "exception": false,
     "start_time": "2023-09-01T23:39:12.488549",
     "status": "completed"
    },
    "tags": []
   },
   "outputs": [],
   "source": [
    "import os\n",
    "import pandas as pd"
   ]
  },
  {
   "cell_type": "code",
   "execution_count": 2,
   "id": "48c9c13e",
   "metadata": {
    "execution": {
     "iopub.execute_input": "2023-09-01T23:39:12.728316Z",
     "iopub.status.busy": "2023-09-01T23:39:12.727885Z",
     "iopub.status.idle": "2023-09-01T23:39:12.731226Z",
     "shell.execute_reply": "2023-09-01T23:39:12.730604Z"
    },
    "papermill": {
     "duration": 0.00716,
     "end_time": "2023-09-01T23:39:12.732585",
     "exception": false,
     "start_time": "2023-09-01T23:39:12.725425",
     "status": "completed"
    },
    "tags": []
   },
   "outputs": [],
   "source": [
    "DATA_DIR='../../../docs/metrics/events/promote/_data/'\n",
    "os.makedirs(DATA_DIR, exist_ok=True)"
   ]
  },
  {
   "cell_type": "code",
   "execution_count": 3,
   "id": "b1d80322",
   "metadata": {
    "execution": {
     "iopub.execute_input": "2023-09-01T23:39:12.736851Z",
     "iopub.status.busy": "2023-09-01T23:39:12.736366Z",
     "iopub.status.idle": "2023-09-01T23:39:12.744577Z",
     "shell.execute_reply": "2023-09-01T23:39:12.744031Z"
    },
    "papermill": {
     "duration": 0.011808,
     "end_time": "2023-09-01T23:39:12.745982",
     "exception": false,
     "start_time": "2023-09-01T23:39:12.734174",
     "status": "completed"
    },
    "tags": []
   },
   "outputs": [],
   "source": [
    "data = pd.read_csv('../../../data/metrics/events/promote-events/events.csv', parse_dates=['time'])"
   ]
  },
  {
   "cell_type": "code",
   "execution_count": 4,
   "id": "a1e10b39",
   "metadata": {
    "execution": {
     "iopub.execute_input": "2023-09-01T23:39:12.750334Z",
     "iopub.status.busy": "2023-09-01T23:39:12.749837Z",
     "iopub.status.idle": "2023-09-01T23:39:12.755080Z",
     "shell.execute_reply": "2023-09-01T23:39:12.754471Z"
    },
    "papermill": {
     "duration": 0.008962,
     "end_time": "2023-09-01T23:39:12.756506",
     "exception": false,
     "start_time": "2023-09-01T23:39:12.747544",
     "status": "completed"
    },
    "tags": []
   },
   "outputs": [],
   "source": [
    "pd.Series({\n",
    "    'total_events': len(data.id.unique()),\n",
    "    'total_event_instances': len(data.time),\n",
    "    'earliest_event': data.time.min(),\n",
    "    'latest_event': data.time.max(),\n",
    "}).to_json(\n",
    "    os.path.join(DATA_DIR, 'headlines.json'),\n",
    "    date_format='iso', indent=2\n",
    ")"
   ]
  },
  {
   "cell_type": "code",
   "execution_count": 5,
   "id": "b226c223",
   "metadata": {
    "execution": {
     "iopub.execute_input": "2023-09-01T23:39:12.760512Z",
     "iopub.status.busy": "2023-09-01T23:39:12.760311Z",
     "iopub.status.idle": "2023-09-01T23:39:12.767870Z",
     "shell.execute_reply": "2023-09-01T23:39:12.767335Z"
    },
    "papermill": {
     "duration": 0.011091,
     "end_time": "2023-09-01T23:39:12.769212",
     "exception": false,
     "start_time": "2023-09-01T23:39:12.758121",
     "status": "completed"
    },
    "tags": []
   },
   "outputs": [],
   "source": [
    "events = pd.DataFrame({\n",
    "    'events': data.groupby('id').agg({ 'time': 'min' }).reset_index().groupby('time').id.count(),\n",
    "    'event_instances': data.groupby('time').id.count(),\n",
    "}).fillna(0).astype(int)"
   ]
  },
  {
   "cell_type": "code",
   "execution_count": 6,
   "id": "f6d50139",
   "metadata": {
    "execution": {
     "iopub.execute_input": "2023-09-01T23:39:12.773711Z",
     "iopub.status.busy": "2023-09-01T23:39:12.773210Z",
     "iopub.status.idle": "2023-09-01T23:39:12.777249Z",
     "shell.execute_reply": "2023-09-01T23:39:12.776639Z"
    },
    "papermill": {
     "duration": 0.007763,
     "end_time": "2023-09-01T23:39:12.778643",
     "exception": false,
     "start_time": "2023-09-01T23:39:12.770880",
     "status": "completed"
    },
    "tags": []
   },
   "outputs": [],
   "source": [
    "def cumulate(data):\n",
    "    return pd.concat([\n",
    "        data,\n",
    "        data.cumsum().rename(columns=lambda c: f'cumulative_{c}')\n",
    "    ], axis=1)"
   ]
  },
  {
   "cell_type": "code",
   "execution_count": 7,
   "id": "acaf30ae",
   "metadata": {
    "execution": {
     "iopub.execute_input": "2023-09-01T23:39:12.782881Z",
     "iopub.status.busy": "2023-09-01T23:39:12.782562Z",
     "iopub.status.idle": "2023-09-01T23:39:12.792711Z",
     "shell.execute_reply": "2023-09-01T23:39:12.792168Z"
    },
    "papermill": {
     "duration": 0.013954,
     "end_time": "2023-09-01T23:39:12.794235",
     "exception": false,
     "start_time": "2023-09-01T23:39:12.780281",
     "status": "completed"
    },
    "tags": []
   },
   "outputs": [],
   "source": [
    "events.resample('W-FRI').sum().pipe(cumulate).to_csv(os.path.join(DATA_DIR, 'by_week.csv'))"
   ]
  },
  {
   "cell_type": "code",
   "execution_count": 8,
   "id": "b550ade4",
   "metadata": {
    "execution": {
     "iopub.execute_input": "2023-09-01T23:39:12.798729Z",
     "iopub.status.busy": "2023-09-01T23:39:12.798401Z",
     "iopub.status.idle": "2023-09-01T23:39:12.804238Z",
     "shell.execute_reply": "2023-09-01T23:39:12.803666Z"
    },
    "papermill": {
     "duration": 0.009729,
     "end_time": "2023-09-01T23:39:12.805743",
     "exception": false,
     "start_time": "2023-09-01T23:39:12.796014",
     "status": "completed"
    },
    "tags": []
   },
   "outputs": [],
   "source": [
    "events.resample('MS').sum().pipe(cumulate).to_csv(os.path.join(DATA_DIR, 'by_month.csv'))"
   ]
  },
  {
   "cell_type": "code",
   "execution_count": null,
   "id": "0925d8e9",
   "metadata": {
    "papermill": {
     "duration": 0.002013,
     "end_time": "2023-09-01T23:39:12.809494",
     "exception": false,
     "start_time": "2023-09-01T23:39:12.807481",
     "status": "completed"
    },
    "tags": []
   },
   "outputs": [],
   "source": []
  }
 ],
 "metadata": {
  "kernelspec": {
   "display_name": "leeds-2023-YZF5GfJv",
   "language": "python",
   "name": "python3"
  },
  "language_info": {
   "codemirror_mode": {
    "name": "ipython",
    "version": 3
   },
   "file_extension": ".py",
   "mimetype": "text/x-python",
   "name": "python",
   "nbconvert_exporter": "python",
   "pygments_lexer": "ipython3",
   "version": "3.10.12"
  },
  "papermill": {
   "default_parameters": {},
   "duration": 1.787557,
   "end_time": "2023-09-01T23:39:13.028180",
   "environment_variables": {},
   "exception": null,
   "input_path": "prepare.ipynb",
   "output_path": "../../../working/output/promote-events-prepare.ipynb",
   "parameters": {},
   "start_time": "2023-09-01T23:39:11.240623",
   "version": "2.4.0"
  }
 },
 "nbformat": 4,
 "nbformat_minor": 5
}