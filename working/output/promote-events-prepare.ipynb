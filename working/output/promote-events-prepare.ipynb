{
 "cells": [
  {
   "cell_type": "code",
   "execution_count": 1,
   "id": "5f9631b8",
   "metadata": {
    "execution": {
     "iopub.execute_input": "2023-08-10T23:37:39.847646Z",
     "iopub.status.busy": "2023-08-10T23:37:39.846848Z",
     "iopub.status.idle": "2023-08-10T23:37:40.085782Z",
     "shell.execute_reply": "2023-08-10T23:37:40.085108Z"
    },
    "papermill": {
     "duration": 0.245457,
     "end_time": "2023-08-10T23:37:40.088074",
     "exception": false,
     "start_time": "2023-08-10T23:37:39.842617",
     "status": "completed"
    },
    "tags": []
   },
   "outputs": [],
   "source": [
    "import os\n",
    "import pandas as pd"
   ]
  },
  {
   "cell_type": "code",
   "execution_count": 2,
   "id": "eb8d4eed",
   "metadata": {
    "execution": {
     "iopub.execute_input": "2023-08-10T23:37:40.093275Z",
     "iopub.status.busy": "2023-08-10T23:37:40.092611Z",
     "iopub.status.idle": "2023-08-10T23:37:40.097030Z",
     "shell.execute_reply": "2023-08-10T23:37:40.096470Z"
    },
    "papermill": {
     "duration": 0.008455,
     "end_time": "2023-08-10T23:37:40.098459",
     "exception": false,
     "start_time": "2023-08-10T23:37:40.090004",
     "status": "completed"
    },
    "tags": []
   },
   "outputs": [],
   "source": [
    "DATA_DIR='../../../docs/metrics/events/promote/_data/'\n",
    "os.makedirs(DATA_DIR, exist_ok=True)"
   ]
  },
  {
   "cell_type": "code",
   "execution_count": 3,
   "id": "df4ae5e5",
   "metadata": {
    "execution": {
     "iopub.execute_input": "2023-08-10T23:37:40.102668Z",
     "iopub.status.busy": "2023-08-10T23:37:40.102340Z",
     "iopub.status.idle": "2023-08-10T23:37:40.112262Z",
     "shell.execute_reply": "2023-08-10T23:37:40.111696Z"
    },
    "papermill": {
     "duration": 0.013677,
     "end_time": "2023-08-10T23:37:40.113729",
     "exception": false,
     "start_time": "2023-08-10T23:37:40.100052",
     "status": "completed"
    },
    "tags": []
   },
   "outputs": [],
   "source": [
    "data = pd.read_csv('../../../data/metrics/events/promote-events/events.csv', parse_dates=['time'])"
   ]
  },
  {
   "cell_type": "code",
   "execution_count": 4,
   "id": "4de732e7",
   "metadata": {
    "execution": {
     "iopub.execute_input": "2023-08-10T23:37:40.118140Z",
     "iopub.status.busy": "2023-08-10T23:37:40.117616Z",
     "iopub.status.idle": "2023-08-10T23:37:40.122748Z",
     "shell.execute_reply": "2023-08-10T23:37:40.122136Z"
    },
    "papermill": {
     "duration": 0.008895,
     "end_time": "2023-08-10T23:37:40.124180",
     "exception": false,
     "start_time": "2023-08-10T23:37:40.115285",
     "status": "completed"
    },
    "tags": []
   },
   "outputs": [],
   "source": [
    "pd.Series({\n",
    "    'total_events': len(data.id.unique()),\n",
    "    'total_event_instances': len(data.time),\n",
    "    'earliest_event': data.time.min(),\n",
    "    'latest_event': data.time.max(),\n",
    "}).to_json(\n",
    "    os.path.join(DATA_DIR, 'headlines.json'),\n",
    "    date_format='iso', indent=2\n",
    ")"
   ]
  },
  {
   "cell_type": "code",
   "execution_count": 5,
   "id": "7d1a89d0",
   "metadata": {
    "execution": {
     "iopub.execute_input": "2023-08-10T23:37:40.128459Z",
     "iopub.status.busy": "2023-08-10T23:37:40.128066Z",
     "iopub.status.idle": "2023-08-10T23:37:40.135709Z",
     "shell.execute_reply": "2023-08-10T23:37:40.135179Z"
    },
    "papermill": {
     "duration": 0.01137,
     "end_time": "2023-08-10T23:37:40.137119",
     "exception": false,
     "start_time": "2023-08-10T23:37:40.125749",
     "status": "completed"
    },
    "tags": []
   },
   "outputs": [],
   "source": [
    "events = pd.DataFrame({\n",
    "    'events': data.groupby('id').agg({ 'time': 'min' }).reset_index().groupby('time').id.count(),\n",
    "    'event_instances': data.groupby('time').id.count(),\n",
    "}).fillna(0).astype(int)"
   ]
  },
  {
   "cell_type": "code",
   "execution_count": 6,
   "id": "13e5cfd1",
   "metadata": {
    "execution": {
     "iopub.execute_input": "2023-08-10T23:37:40.141581Z",
     "iopub.status.busy": "2023-08-10T23:37:40.141075Z",
     "iopub.status.idle": "2023-08-10T23:37:40.144436Z",
     "shell.execute_reply": "2023-08-10T23:37:40.143849Z"
    },
    "papermill": {
     "duration": 0.007205,
     "end_time": "2023-08-10T23:37:40.145929",
     "exception": false,
     "start_time": "2023-08-10T23:37:40.138724",
     "status": "completed"
    },
    "tags": []
   },
   "outputs": [],
   "source": [
    "def cumulate(data):\n",
    "    return pd.concat([\n",
    "        data,\n",
    "        data.cumsum().rename(columns=lambda c: f'cumulative_{c}')\n",
    "    ], axis=1)"
   ]
  },
  {
   "cell_type": "code",
   "execution_count": 7,
   "id": "72676e72",
   "metadata": {
    "execution": {
     "iopub.execute_input": "2023-08-10T23:37:40.150319Z",
     "iopub.status.busy": "2023-08-10T23:37:40.149992Z",
     "iopub.status.idle": "2023-08-10T23:37:40.159468Z",
     "shell.execute_reply": "2023-08-10T23:37:40.158913Z"
    },
    "papermill": {
     "duration": 0.013361,
     "end_time": "2023-08-10T23:37:40.160923",
     "exception": false,
     "start_time": "2023-08-10T23:37:40.147562",
     "status": "completed"
    },
    "tags": []
   },
   "outputs": [],
   "source": [
    "events.resample('W-FRI').sum().pipe(cumulate).to_csv(os.path.join(DATA_DIR, 'by_week.csv'))"
   ]
  },
  {
   "cell_type": "code",
   "execution_count": 8,
   "id": "405fd9e6",
   "metadata": {
    "execution": {
     "iopub.execute_input": "2023-08-10T23:37:40.165553Z",
     "iopub.status.busy": "2023-08-10T23:37:40.165149Z",
     "iopub.status.idle": "2023-08-10T23:37:40.171068Z",
     "shell.execute_reply": "2023-08-10T23:37:40.170463Z"
    },
    "papermill": {
     "duration": 0.009809,
     "end_time": "2023-08-10T23:37:40.172500",
     "exception": false,
     "start_time": "2023-08-10T23:37:40.162691",
     "status": "completed"
    },
    "tags": []
   },
   "outputs": [],
   "source": [
    "events.resample('MS').sum().pipe(cumulate).to_csv(os.path.join(DATA_DIR, 'by_month.csv'))"
   ]
  },
  {
   "cell_type": "code",
   "execution_count": null,
   "id": "32969507",
   "metadata": {
    "papermill": {
     "duration": 0.001708,
     "end_time": "2023-08-10T23:37:40.175913",
     "exception": false,
     "start_time": "2023-08-10T23:37:40.174205",
     "status": "completed"
    },
    "tags": []
   },
   "outputs": [],
   "source": []
  }
 ],
 "metadata": {
  "kernelspec": {
   "display_name": "leeds-2023-YZF5GfJv",
   "language": "python",
   "name": "python3"
  },
  "language_info": {
   "codemirror_mode": {
    "name": "ipython",
    "version": 3
   },
   "file_extension": ".py",
   "mimetype": "text/x-python",
   "name": "python",
   "nbconvert_exporter": "python",
   "pygments_lexer": "ipython3",
   "version": "3.10.12"
  },
  "papermill": {
   "default_parameters": {},
   "duration": 1.938147,
   "end_time": "2023-08-10T23:37:40.393905",
   "environment_variables": {},
   "exception": null,
   "input_path": "prepare.ipynb",
   "output_path": "../../../working/output/promote-events-prepare.ipynb",
   "parameters": {},
   "start_time": "2023-08-10T23:37:38.455758",
   "version": "2.4.0"
  }
 },
 "nbformat": 4,
 "nbformat_minor": 5
}