{
 "cells": [
  {
   "cell_type": "code",
   "execution_count": 1,
   "id": "260add2b",
   "metadata": {
    "execution": {
     "iopub.execute_input": "2023-10-23T23:38:13.889115Z",
     "iopub.status.busy": "2023-10-23T23:38:13.888734Z",
     "iopub.status.idle": "2023-10-23T23:38:14.202928Z",
     "shell.execute_reply": "2023-10-23T23:38:14.201885Z"
    },
    "papermill": {
     "duration": 0.320949,
     "end_time": "2023-10-23T23:38:14.205226",
     "exception": false,
     "start_time": "2023-10-23T23:38:13.884277",
     "status": "completed"
    },
    "tags": []
   },
   "outputs": [],
   "source": [
    "import os\n",
    "import pandas as pd"
   ]
  },
  {
   "cell_type": "code",
   "execution_count": 2,
   "id": "4fbbc71f",
   "metadata": {
    "execution": {
     "iopub.execute_input": "2023-10-23T23:38:14.211543Z",
     "iopub.status.busy": "2023-10-23T23:38:14.211165Z",
     "iopub.status.idle": "2023-10-23T23:38:14.215572Z",
     "shell.execute_reply": "2023-10-23T23:38:14.214711Z"
    },
    "papermill": {
     "duration": 0.009853,
     "end_time": "2023-10-23T23:38:14.217486",
     "exception": false,
     "start_time": "2023-10-23T23:38:14.207633",
     "status": "completed"
    },
    "tags": []
   },
   "outputs": [],
   "source": [
    "DATA_DIR='../../../docs/metrics/events/promote/_data/'\n",
    "os.makedirs(DATA_DIR, exist_ok=True)"
   ]
  },
  {
   "cell_type": "code",
   "execution_count": 3,
   "id": "4eedc78a",
   "metadata": {
    "execution": {
     "iopub.execute_input": "2023-10-23T23:38:14.223104Z",
     "iopub.status.busy": "2023-10-23T23:38:14.222555Z",
     "iopub.status.idle": "2023-10-23T23:38:14.233423Z",
     "shell.execute_reply": "2023-10-23T23:38:14.232636Z"
    },
    "papermill": {
     "duration": 0.015808,
     "end_time": "2023-10-23T23:38:14.235307",
     "exception": false,
     "start_time": "2023-10-23T23:38:14.219499",
     "status": "completed"
    },
    "tags": []
   },
   "outputs": [],
   "source": [
    "data = pd.read_csv('../../../data/metrics/events/promote-events/events.csv', parse_dates=['time'])"
   ]
  },
  {
   "cell_type": "code",
   "execution_count": 4,
   "id": "6ca0e023",
   "metadata": {
    "execution": {
     "iopub.execute_input": "2023-10-23T23:38:14.241241Z",
     "iopub.status.busy": "2023-10-23T23:38:14.240699Z",
     "iopub.status.idle": "2023-10-23T23:38:14.247261Z",
     "shell.execute_reply": "2023-10-23T23:38:14.246442Z"
    },
    "papermill": {
     "duration": 0.011863,
     "end_time": "2023-10-23T23:38:14.249224",
     "exception": false,
     "start_time": "2023-10-23T23:38:14.237361",
     "status": "completed"
    },
    "tags": []
   },
   "outputs": [],
   "source": [
    "pd.Series({\n",
    "    'total_events': len(data.id.unique()),\n",
    "    'total_event_instances': len(data.time),\n",
    "    'earliest_event': data.time.min(),\n",
    "    'latest_event': data.time.max(),\n",
    "}).to_json(\n",
    "    os.path.join(DATA_DIR, 'headlines.json'),\n",
    "    date_format='iso', indent=2\n",
    ")"
   ]
  },
  {
   "cell_type": "code",
   "execution_count": 5,
   "id": "da47f986",
   "metadata": {
    "execution": {
     "iopub.execute_input": "2023-10-23T23:38:14.254608Z",
     "iopub.status.busy": "2023-10-23T23:38:14.254027Z",
     "iopub.status.idle": "2023-10-23T23:38:14.264407Z",
     "shell.execute_reply": "2023-10-23T23:38:14.263419Z"
    },
    "papermill": {
     "duration": 0.015038,
     "end_time": "2023-10-23T23:38:14.266119",
     "exception": false,
     "start_time": "2023-10-23T23:38:14.251081",
     "status": "completed"
    },
    "tags": []
   },
   "outputs": [],
   "source": [
    "events = pd.DataFrame({\n",
    "    'events': data.groupby('id').agg({ 'time': 'min' }).reset_index().groupby('time').id.count(),\n",
    "    'event_instances': data.groupby('time').id.count(),\n",
    "}).fillna(0).astype(int)"
   ]
  },
  {
   "cell_type": "code",
   "execution_count": 6,
   "id": "ff78332c",
   "metadata": {
    "execution": {
     "iopub.execute_input": "2023-10-23T23:38:14.271376Z",
     "iopub.status.busy": "2023-10-23T23:38:14.271115Z",
     "iopub.status.idle": "2023-10-23T23:38:14.275950Z",
     "shell.execute_reply": "2023-10-23T23:38:14.275128Z"
    },
    "papermill": {
     "duration": 0.009916,
     "end_time": "2023-10-23T23:38:14.277958",
     "exception": false,
     "start_time": "2023-10-23T23:38:14.268042",
     "status": "completed"
    },
    "tags": []
   },
   "outputs": [],
   "source": [
    "def cumulate(data):\n",
    "    return pd.concat([\n",
    "        data,\n",
    "        data.cumsum().rename(columns=lambda c: f'cumulative_{c}')\n",
    "    ], axis=1)"
   ]
  },
  {
   "cell_type": "code",
   "execution_count": 7,
   "id": "ad01f6d6",
   "metadata": {
    "execution": {
     "iopub.execute_input": "2023-10-23T23:38:14.283164Z",
     "iopub.status.busy": "2023-10-23T23:38:14.282889Z",
     "iopub.status.idle": "2023-10-23T23:38:14.298686Z",
     "shell.execute_reply": "2023-10-23T23:38:14.297893Z"
    },
    "papermill": {
     "duration": 0.023009,
     "end_time": "2023-10-23T23:38:14.302939",
     "exception": false,
     "start_time": "2023-10-23T23:38:14.279930",
     "status": "completed"
    },
    "tags": []
   },
   "outputs": [],
   "source": [
    "events.resample('W-FRI').sum().pipe(cumulate).to_csv(os.path.join(DATA_DIR, 'by_week.csv'))"
   ]
  },
  {
   "cell_type": "code",
   "execution_count": 8,
   "id": "c2614897",
   "metadata": {
    "execution": {
     "iopub.execute_input": "2023-10-23T23:38:14.309079Z",
     "iopub.status.busy": "2023-10-23T23:38:14.308330Z",
     "iopub.status.idle": "2023-10-23T23:38:14.316281Z",
     "shell.execute_reply": "2023-10-23T23:38:14.315507Z"
    },
    "papermill": {
     "duration": 0.012791,
     "end_time": "2023-10-23T23:38:14.317971",
     "exception": false,
     "start_time": "2023-10-23T23:38:14.305180",
     "status": "completed"
    },
    "tags": []
   },
   "outputs": [],
   "source": [
    "events.resample('MS').sum().pipe(cumulate).to_csv(os.path.join(DATA_DIR, 'by_month.csv'))"
   ]
  },
  {
   "cell_type": "code",
   "execution_count": null,
   "id": "868c7c8d",
   "metadata": {
    "papermill": {
     "duration": 0.002361,
     "end_time": "2023-10-23T23:38:14.322475",
     "exception": false,
     "start_time": "2023-10-23T23:38:14.320114",
     "status": "completed"
    },
    "tags": []
   },
   "outputs": [],
   "source": []
  }
 ],
 "metadata": {
  "kernelspec": {
   "display_name": "leeds-2023-YZF5GfJv",
   "language": "python",
   "name": "python3"
  },
  "language_info": {
   "codemirror_mode": {
    "name": "ipython",
    "version": 3
   },
   "file_extension": ".py",
   "mimetype": "text/x-python",
   "name": "python",
   "nbconvert_exporter": "python",
   "pygments_lexer": "ipython3",
   "version": "3.10.13"
  },
  "papermill": {
   "default_parameters": {},
   "duration": 2.23975,
   "end_time": "2023-10-23T23:38:14.542842",
   "environment_variables": {},
   "exception": null,
   "input_path": "prepare.ipynb",
   "output_path": "../../../working/output/promote-events-prepare.ipynb",
   "parameters": {},
   "start_time": "2023-10-23T23:38:12.303092",
   "version": "2.4.0"
  }
 },
 "nbformat": 4,
 "nbformat_minor": 5
}