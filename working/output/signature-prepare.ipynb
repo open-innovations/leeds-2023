{
 "cells": [
  {
   "cell_type": "code",
   "execution_count": 1,
   "id": "1ff5ba99",
   "metadata": {
    "execution": {
     "iopub.execute_input": "2023-09-11T23:39:45.274497Z",
     "iopub.status.busy": "2023-09-11T23:39:45.273884Z",
     "iopub.status.idle": "2023-09-11T23:39:55.824331Z",
     "shell.execute_reply": "2023-09-11T23:39:55.823574Z"
    },
    "papermill": {
     "duration": 10.557911,
     "end_time": "2023-09-11T23:39:55.826774",
     "exception": false,
     "start_time": "2023-09-11T23:39:45.268863",
     "status": "completed"
    },
    "tags": []
   },
   "outputs": [],
   "source": [
    "import os\n",
    "import pandas as pd\n",
    "from events import load_event_data, get_first_ward, normalise_ward"
   ]
  },
  {
   "cell_type": "code",
   "execution_count": 2,
   "id": "96f2cc9e",
   "metadata": {
    "execution": {
     "iopub.execute_input": "2023-09-11T23:39:55.833563Z",
     "iopub.status.busy": "2023-09-11T23:39:55.832876Z",
     "iopub.status.idle": "2023-09-11T23:39:55.838327Z",
     "shell.execute_reply": "2023-09-11T23:39:55.837694Z"
    },
    "papermill": {
     "duration": 0.010262,
     "end_time": "2023-09-11T23:39:55.839792",
     "exception": false,
     "start_time": "2023-09-11T23:39:55.829530",
     "status": "completed"
    },
    "tags": []
   },
   "outputs": [],
   "source": [
    "latest_date = pd.Timestamp.today().ceil('D')"
   ]
  },
  {
   "cell_type": "code",
   "execution_count": 3,
   "id": "503fda85",
   "metadata": {
    "execution": {
     "iopub.execute_input": "2023-09-11T23:39:55.845748Z",
     "iopub.status.busy": "2023-09-11T23:39:55.845299Z",
     "iopub.status.idle": "2023-09-11T23:39:55.863873Z",
     "shell.execute_reply": "2023-09-11T23:39:55.863227Z"
    },
    "papermill": {
     "duration": 0.02348,
     "end_time": "2023-09-11T23:39:55.865572",
     "exception": false,
     "start_time": "2023-09-11T23:39:55.842092",
     "status": "completed"
    },
    "tags": []
   },
   "outputs": [],
   "source": [
    "tickets = pd.read_csv('../../../../data/metrics/events/tickets/orders.csv', parse_dates=['created_at', 'event_date'])\n",
    "tickets = tickets[tickets.event_date <= latest_date]"
   ]
  },
  {
   "cell_type": "code",
   "execution_count": 4,
   "id": "6e32295a",
   "metadata": {
    "execution": {
     "iopub.execute_input": "2023-09-11T23:39:55.871774Z",
     "iopub.status.busy": "2023-09-11T23:39:55.871192Z",
     "iopub.status.idle": "2023-09-11T23:39:56.104824Z",
     "shell.execute_reply": "2023-09-11T23:39:56.104065Z"
    },
    "papermill": {
     "duration": 0.239164,
     "end_time": "2023-09-11T23:39:56.107165",
     "exception": false,
     "start_time": "2023-09-11T23:39:55.868001",
     "status": "completed"
    },
    "tags": []
   },
   "outputs": [],
   "source": [
    "events = load_event_data()\n",
    "\n",
    "events = pd.concat([\n",
    "  events,\n",
    "  events.pipe(get_first_ward).pipe(normalise_ward).fillna('UNKNOWN'),\n",
    "  pd.Series(\n",
    "      events.actual_audience_size_number_of_participants_in_person + events.actual_audience_size_number_of_participants_online,\n",
    "      name='attendances'\n",
    "  )\n",
    "], axis=1).rename(columns={\n",
    "    'start_date': 'date'\n",
    "}).loc[:, ['ward_code', 'date', 'event_unique_identifier', 'attendances']]"
   ]
  },
  {
   "cell_type": "code",
   "execution_count": 5,
   "id": "a1e609ef",
   "metadata": {
    "execution": {
     "iopub.execute_input": "2023-09-11T23:39:56.113757Z",
     "iopub.status.busy": "2023-09-11T23:39:56.113274Z",
     "iopub.status.idle": "2023-09-11T23:39:56.116939Z",
     "shell.execute_reply": "2023-09-11T23:39:56.116257Z"
    },
    "papermill": {
     "duration": 0.008746,
     "end_time": "2023-09-11T23:39:56.118638",
     "exception": false,
     "start_time": "2023-09-11T23:39:56.109892",
     "status": "completed"
    },
    "tags": []
   },
   "outputs": [],
   "source": [
    "OUTPUT_DIR='../../../../docs/metrics/events/signature/_data/'\n",
    "os.makedirs(OUTPUT_DIR, exist_ok=True)"
   ]
  },
  {
   "cell_type": "markdown",
   "id": "957da847",
   "metadata": {
    "papermill": {
     "duration": 0.002443,
     "end_time": "2023-09-11T23:39:56.123490",
     "exception": false,
     "start_time": "2023-09-11T23:39:56.121047",
     "status": "completed"
    },
    "tags": []
   },
   "source": [
    "Events CSVs"
   ]
  },
  {
   "cell_type": "code",
   "execution_count": 6,
   "id": "ceabb595",
   "metadata": {
    "execution": {
     "iopub.execute_input": "2023-09-11T23:39:56.129505Z",
     "iopub.status.busy": "2023-09-11T23:39:56.129060Z",
     "iopub.status.idle": "2023-09-11T23:39:56.136089Z",
     "shell.execute_reply": "2023-09-11T23:39:56.135483Z"
    },
    "papermill": {
     "duration": 0.011839,
     "end_time": "2023-09-11T23:39:56.137687",
     "exception": false,
     "start_time": "2023-09-11T23:39:56.125848",
     "status": "completed"
    },
    "tags": []
   },
   "outputs": [],
   "source": [
    "pd.DataFrame({\n",
    "  'events': events.groupby('ward_code').event_unique_identifier.count(),\n",
    "  'attendances': events.groupby('ward_code').attendances.sum().astype(int),\n",
    "}).to_csv(os.path.join(OUTPUT_DIR, 'events_by_ward.csv'))\n"
   ]
  },
  {
   "cell_type": "code",
   "execution_count": 7,
   "id": "1acda0df",
   "metadata": {
    "execution": {
     "iopub.execute_input": "2023-09-11T23:39:56.143606Z",
     "iopub.status.busy": "2023-09-11T23:39:56.143288Z",
     "iopub.status.idle": "2023-09-11T23:39:56.153974Z",
     "shell.execute_reply": "2023-09-11T23:39:56.153366Z"
    },
    "papermill": {
     "duration": 0.01562,
     "end_time": "2023-09-11T23:39:56.155725",
     "exception": false,
     "start_time": "2023-09-11T23:39:56.140105",
     "status": "completed"
    },
    "tags": []
   },
   "outputs": [],
   "source": [
    "pd.DataFrame({\n",
    "  'events': events.groupby('date').event_unique_identifier.count(),\n",
    "  'attendances': events.groupby('date').attendances.sum().astype(int),\n",
    "}).resample('M').sum().astype(int).to_csv(os.path.join(OUTPUT_DIR, 'events_by_date.csv'))"
   ]
  },
  {
   "cell_type": "markdown",
   "id": "31d7ea5b",
   "metadata": {
    "papermill": {
     "duration": 0.002503,
     "end_time": "2023-09-11T23:39:56.160681",
     "exception": false,
     "start_time": "2023-09-11T23:39:56.158178",
     "status": "completed"
    },
    "tags": []
   },
   "source": [
    "Tickets CSV"
   ]
  },
  {
   "cell_type": "code",
   "execution_count": 8,
   "id": "e8259d7b",
   "metadata": {
    "execution": {
     "iopub.execute_input": "2023-09-11T23:39:56.166920Z",
     "iopub.status.busy": "2023-09-11T23:39:56.166340Z",
     "iopub.status.idle": "2023-09-11T23:39:56.173574Z",
     "shell.execute_reply": "2023-09-11T23:39:56.172978Z"
    },
    "papermill": {
     "duration": 0.012034,
     "end_time": "2023-09-11T23:39:56.175125",
     "exception": false,
     "start_time": "2023-09-11T23:39:56.163091",
     "status": "completed"
    },
    "tags": []
   },
   "outputs": [],
   "source": [
    "pd.DataFrame({\n",
    "  'orders': tickets.groupby('ward_code').number_of_tickets.count(),\n",
    "  'tickets': tickets.groupby('ward_code').number_of_tickets.sum().astype(int),\n",
    "}).to_csv(os.path.join(OUTPUT_DIR, 'tickets_by_ward.csv'))"
   ]
  },
  {
   "cell_type": "code",
   "execution_count": 9,
   "id": "cdb6ad55",
   "metadata": {
    "execution": {
     "iopub.execute_input": "2023-09-11T23:39:56.181367Z",
     "iopub.status.busy": "2023-09-11T23:39:56.180941Z",
     "iopub.status.idle": "2023-09-11T23:39:56.189126Z",
     "shell.execute_reply": "2023-09-11T23:39:56.188528Z"
    },
    "papermill": {
     "duration": 0.013119,
     "end_time": "2023-09-11T23:39:56.190771",
     "exception": false,
     "start_time": "2023-09-11T23:39:56.177652",
     "status": "completed"
    },
    "tags": []
   },
   "outputs": [],
   "source": [
    "pd.DataFrame({\n",
    "  'orders': tickets.groupby('event_date').number_of_tickets.count(),\n",
    "  'tickets': tickets.groupby('event_date').number_of_tickets.sum().astype(int),\n",
    "}).resample('M').sum().to_csv(os.path.join(OUTPUT_DIR, 'tickets_by_event_date.csv'))"
   ]
  },
  {
   "cell_type": "code",
   "execution_count": 10,
   "id": "64c44e02",
   "metadata": {
    "execution": {
     "iopub.execute_input": "2023-09-11T23:39:56.197994Z",
     "iopub.status.busy": "2023-09-11T23:39:56.197559Z",
     "iopub.status.idle": "2023-09-11T23:39:56.202976Z",
     "shell.execute_reply": "2023-09-11T23:39:56.202293Z"
    },
    "papermill": {
     "duration": 0.011222,
     "end_time": "2023-09-11T23:39:56.204541",
     "exception": false,
     "start_time": "2023-09-11T23:39:56.193319",
     "status": "completed"
    },
    "tags": []
   },
   "outputs": [],
   "source": [
    "pd.Series({\n",
    "    'total_events': events.event_unique_identifier.count(),\n",
    "    'total_attendances': events.attendances.count(),\n",
    "    'first_event': events.date.min(),\n",
    "    'latest_event': events.date.max(),\n",
    "    'total_ticket_orders_for_events_to_date': tickets.number_of_tickets.count(),\n",
    "    'total_tickets_sold_for_events_to_date': tickets.number_of_tickets.sum(),\n",
    "}).to_json(os.path.join(OUTPUT_DIR, 'headlines.json'), indent=2)"
   ]
  },
  {
   "cell_type": "code",
   "execution_count": null,
   "id": "9e849e81",
   "metadata": {
    "papermill": {
     "duration": 0.002573,
     "end_time": "2023-09-11T23:39:56.209689",
     "exception": false,
     "start_time": "2023-09-11T23:39:56.207116",
     "status": "completed"
    },
    "tags": []
   },
   "outputs": [],
   "source": []
  }
 ],
 "metadata": {
  "kernelspec": {
   "display_name": "leeds-2023-YZF5GfJv",
   "language": "python",
   "name": "python3"
  },
  "language_info": {
   "codemirror_mode": {
    "name": "ipython",
    "version": 3
   },
   "file_extension": ".py",
   "mimetype": "text/x-python",
   "name": "python",
   "nbconvert_exporter": "python",
   "pygments_lexer": "ipython3",
   "version": "3.10.13"
  },
  "papermill": {
   "default_parameters": {},
   "duration": 12.637575,
   "end_time": "2023-09-11T23:39:56.533335",
   "environment_variables": {},
   "exception": null,
   "input_path": "prepare.ipynb",
   "output_path": "../../../../working/output/signature-prepare.ipynb",
   "parameters": {},
   "start_time": "2023-09-11T23:39:43.895760",
   "version": "2.4.0"
  }
 },
 "nbformat": 4,
 "nbformat_minor": 5
}