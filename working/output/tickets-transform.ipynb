{
 "cells": [
  {
   "cell_type": "code",
   "execution_count": 1,
   "id": "91cf8345",
   "metadata": {
    "execution": {
     "iopub.execute_input": "2023-12-20T23:39:05.737664Z",
     "iopub.status.busy": "2023-12-20T23:39:05.737485Z",
     "iopub.status.idle": "2023-12-20T23:39:05.982786Z",
     "shell.execute_reply": "2023-12-20T23:39:05.982066Z"
    },
    "papermill": {
     "duration": 0.250733,
     "end_time": "2023-12-20T23:39:05.984556",
     "exception": false,
     "start_time": "2023-12-20T23:39:05.733823",
     "status": "completed"
    },
    "tags": []
   },
   "outputs": [],
   "source": [
    "import sys\n",
    "from pathlib import Path\n",
    "\n",
    "import pandas as pd\n",
    "\n",
    "TOP_DIR = Path('../../../..').resolve()\n",
    "\n",
    "if str(TOP_DIR) not in sys.path: sys.path.append(str(TOP_DIR))"
   ]
  },
  {
   "cell_type": "code",
   "execution_count": 2,
   "id": "bca90445",
   "metadata": {
    "execution": {
     "iopub.execute_input": "2023-12-20T23:39:05.991462Z",
     "iopub.status.busy": "2023-12-20T23:39:05.990904Z",
     "iopub.status.idle": "2023-12-20T23:39:12.797917Z",
     "shell.execute_reply": "2023-12-20T23:39:12.797275Z"
    },
    "papermill": {
     "duration": 6.812195,
     "end_time": "2023-12-20T23:39:12.799483",
     "exception": false,
     "start_time": "2023-12-20T23:39:05.987288",
     "status": "completed"
    },
    "tags": []
   },
   "outputs": [],
   "source": [
    "from lib.util.geo import postcode_formatter, postcode_to_ward_code"
   ]
  },
  {
   "cell_type": "code",
   "execution_count": 3,
   "id": "c6554aba",
   "metadata": {
    "execution": {
     "iopub.execute_input": "2023-12-20T23:39:12.805919Z",
     "iopub.status.busy": "2023-12-20T23:39:12.805544Z",
     "iopub.status.idle": "2023-12-20T23:39:12.826796Z",
     "shell.execute_reply": "2023-12-20T23:39:12.826297Z"
    },
    "papermill": {
     "duration": 0.025927,
     "end_time": "2023-12-20T23:39:12.828166",
     "exception": false,
     "start_time": "2023-12-20T23:39:12.802239",
     "status": "completed"
    },
    "tags": []
   },
   "outputs": [],
   "source": [
    "ticket_data = pd.read_csv(\n",
    "    '../../../../working/metrics/ticketing/orders.csv',\n",
    "    parse_dates=['created_at', 'event_date'],\n",
    "    usecols=[\n",
    "        'created_at',\n",
    "        'event_id',\n",
    "        'event_name',\n",
    "        'event_date',\n",
    "        'event_time',\n",
    "        'number_of_tickets',\n",
    "        'postcode_from_question',\n",
    "        'postcode_from_address',\n",
    "        'status',\n",
    "    ]\n",
    ")"
   ]
  },
  {
   "cell_type": "code",
   "execution_count": 4,
   "id": "6a96d668",
   "metadata": {
    "execution": {
     "iopub.execute_input": "2023-12-20T23:39:12.833939Z",
     "iopub.status.busy": "2023-12-20T23:39:12.833500Z",
     "iopub.status.idle": "2023-12-20T23:39:12.842020Z",
     "shell.execute_reply": "2023-12-20T23:39:12.841446Z"
    },
    "papermill": {
     "duration": 0.012844,
     "end_time": "2023-12-20T23:39:12.843378",
     "exception": false,
     "start_time": "2023-12-20T23:39:12.830534",
     "status": "completed"
    },
    "tags": []
   },
   "outputs": [
    {
     "name": "stdout",
     "output_type": "stream",
     "text": [
      "<class 'pandas.core.frame.DataFrame'>\n",
      "RangeIndex: 6822 entries, 0 to 6821\n",
      "Data columns (total 9 columns):\n",
      " #   Column                  Non-Null Count  Dtype         \n",
      "---  ------                  --------------  -----         \n",
      " 0   postcode_from_question  6429 non-null   object        \n",
      " 1   postcode_from_address   855 non-null    object        \n",
      " 2   created_at              6822 non-null   datetime64[ns]\n",
      " 3   event_id                6822 non-null   object        \n",
      " 4   event_name              6822 non-null   object        \n",
      " 5   event_date              6822 non-null   datetime64[ns]\n",
      " 6   event_time              6822 non-null   object        \n",
      " 7   number_of_tickets       6822 non-null   int64         \n",
      " 8   status                  6822 non-null   object        \n",
      "dtypes: datetime64[ns](2), int64(1), object(6)\n",
      "memory usage: 479.8+ KB\n"
     ]
    }
   ],
   "source": [
    "ticket_data.info()"
   ]
  },
  {
   "cell_type": "code",
   "execution_count": 5,
   "id": "f2d9bebf",
   "metadata": {
    "execution": {
     "iopub.execute_input": "2023-12-20T23:39:12.849650Z",
     "iopub.status.busy": "2023-12-20T23:39:12.849151Z",
     "iopub.status.idle": "2023-12-20T23:39:12.853992Z",
     "shell.execute_reply": "2023-12-20T23:39:12.853362Z"
    },
    "papermill": {
     "duration": 0.009317,
     "end_time": "2023-12-20T23:39:12.855296",
     "exception": false,
     "start_time": "2023-12-20T23:39:12.845979",
     "status": "completed"
    },
    "tags": []
   },
   "outputs": [],
   "source": [
    "completed_orders = (\n",
    "    ticket_data.loc[\n",
    "        ~ticket_data.status.isin(['cancelled']),\n",
    "        ticket_data.columns\n",
    "    ]\n",
    ")"
   ]
  },
  {
   "cell_type": "code",
   "execution_count": 6,
   "id": "a7208d05",
   "metadata": {
    "execution": {
     "iopub.execute_input": "2023-12-20T23:39:12.861427Z",
     "iopub.status.busy": "2023-12-20T23:39:12.860994Z",
     "iopub.status.idle": "2023-12-20T23:39:13.721342Z",
     "shell.execute_reply": "2023-12-20T23:39:13.720643Z"
    },
    "papermill": {
     "duration": 0.865198,
     "end_time": "2023-12-20T23:39:13.723068",
     "exception": false,
     "start_time": "2023-12-20T23:39:12.857870",
     "status": "completed"
    },
    "tags": []
   },
   "outputs": [],
   "source": [
    "completed_orders['ward_code'] = (\n",
    "    completed_orders\n",
    "        .loc[:, ['postcode_from_question', 'postcode_from_address']]\n",
    "        .bfill()\n",
    "        .iloc[:, 0]\n",
    "        .pipe(postcode_formatter)\n",
    "        .map(postcode_to_ward_code)\n",
    ")"
   ]
  },
  {
   "cell_type": "markdown",
   "id": "9ab15677",
   "metadata": {
    "papermill": {
     "duration": 0.002685,
     "end_time": "2023-12-20T23:39:13.729404",
     "exception": false,
     "start_time": "2023-12-20T23:39:13.726719",
     "status": "completed"
    },
    "tags": []
   },
   "source": [
    "Get the events data"
   ]
  },
  {
   "cell_type": "code",
   "execution_count": 7,
   "id": "8a2bd4c7",
   "metadata": {
    "execution": {
     "iopub.execute_input": "2023-12-20T23:39:13.735782Z",
     "iopub.status.busy": "2023-12-20T23:39:13.735273Z",
     "iopub.status.idle": "2023-12-20T23:39:13.751468Z",
     "shell.execute_reply": "2023-12-20T23:39:13.750960Z"
    },
    "papermill": {
     "duration": 0.02084,
     "end_time": "2023-12-20T23:39:13.752757",
     "exception": false,
     "start_time": "2023-12-20T23:39:13.731917",
     "status": "completed"
    },
    "tags": []
   },
   "outputs": [],
   "source": [
    "def prepare_events(data: pd.DataFrame):\n",
    "    data = data.rename(columns={\n",
    "        'Project name': 'project_name',\n",
    "        'Event type': 'event_type',\n",
    "        'Ticket Tailor ID': 'ticket_tailor_id'\n",
    "    })\n",
    "    data['public_event'] = data.event_type.str.contains('Public Event')\n",
    "    data['ticket_tailor_id'] = data.ticket_tailor_id.str.split(\n",
    "        pat=r'[\\s,]+', regex=True)\n",
    "    data = data.drop(columns=['event_type'])\n",
    "    data = data.explode('ticket_tailor_id')\n",
    "    data = data.loc[data.ticket_tailor_id.notna() & (data.ticket_tailor_id != '')]\n",
    "    return data\n",
    "\n",
    "\n",
    "events = pd.read_csv(\n",
    "    '../../../../working/metrics/events/all.csv',\n",
    "    usecols=[\n",
    "        'Project name',\n",
    "        'Event type',\n",
    "        'Ticket Tailor ID'\n",
    "    ]\n",
    ").pipe(prepare_events)"
   ]
  },
  {
   "cell_type": "markdown",
   "id": "3ebaee8d",
   "metadata": {
    "papermill": {
     "duration": 0.002547,
     "end_time": "2023-12-20T23:39:13.757927",
     "exception": false,
     "start_time": "2023-12-20T23:39:13.755380",
     "status": "completed"
    },
    "tags": []
   },
   "source": [
    "Duplicated ticket tailor IDs"
   ]
  },
  {
   "cell_type": "code",
   "execution_count": 8,
   "id": "487720f2",
   "metadata": {
    "execution": {
     "iopub.execute_input": "2023-12-20T23:39:13.764183Z",
     "iopub.status.busy": "2023-12-20T23:39:13.763736Z",
     "iopub.status.idle": "2023-12-20T23:39:13.775015Z",
     "shell.execute_reply": "2023-12-20T23:39:13.774411Z"
    },
    "papermill": {
     "duration": 0.015817,
     "end_time": "2023-12-20T23:39:13.776286",
     "exception": false,
     "start_time": "2023-12-20T23:39:13.760469",
     "status": "completed"
    },
    "tags": []
   },
   "outputs": [
    {
     "data": {
      "text/html": [
       "<div>\n",
       "<style scoped>\n",
       "    .dataframe tbody tr th:only-of-type {\n",
       "        vertical-align: middle;\n",
       "    }\n",
       "\n",
       "    .dataframe tbody tr th {\n",
       "        vertical-align: top;\n",
       "    }\n",
       "\n",
       "    .dataframe thead th {\n",
       "        text-align: right;\n",
       "    }\n",
       "</style>\n",
       "<table border=\"1\" class=\"dataframe\">\n",
       "  <thead>\n",
       "    <tr style=\"text-align: right;\">\n",
       "      <th></th>\n",
       "      <th>project_name</th>\n",
       "      <th>ticket_tailor_id</th>\n",
       "      <th>public_event</th>\n",
       "    </tr>\n",
       "  </thead>\n",
       "  <tbody>\n",
       "    <tr>\n",
       "      <th>130</th>\n",
       "      <td>11 - All That Lives</td>\n",
       "      <td>985872</td>\n",
       "      <td>True</td>\n",
       "    </tr>\n",
       "    <tr>\n",
       "      <th>149</th>\n",
       "      <td>09 - Smeaton300: Moon Palace East Leeds Observ...</td>\n",
       "      <td>ev_2918127</td>\n",
       "      <td>True</td>\n",
       "    </tr>\n",
       "    <tr>\n",
       "      <th>175</th>\n",
       "      <td>11 - All That Lives</td>\n",
       "      <td>985872</td>\n",
       "      <td>True</td>\n",
       "    </tr>\n",
       "    <tr>\n",
       "      <th>276</th>\n",
       "      <td>Creative Learning S3</td>\n",
       "      <td>ev_3073624</td>\n",
       "      <td>False</td>\n",
       "    </tr>\n",
       "    <tr>\n",
       "      <th>338</th>\n",
       "      <td>11 - All That Lives</td>\n",
       "      <td>985872</td>\n",
       "      <td>True</td>\n",
       "    </tr>\n",
       "    <tr>\n",
       "      <th>658</th>\n",
       "      <td>11 - All That Lives</td>\n",
       "      <td>985872</td>\n",
       "      <td>True</td>\n",
       "    </tr>\n",
       "    <tr>\n",
       "      <th>959</th>\n",
       "      <td>07 - Children's Day</td>\n",
       "      <td>ev_2963290</td>\n",
       "      <td>NaN</td>\n",
       "    </tr>\n",
       "    <tr>\n",
       "      <th>959</th>\n",
       "      <td>07 - Children's Day</td>\n",
       "      <td>ev_2963290</td>\n",
       "      <td>NaN</td>\n",
       "    </tr>\n",
       "    <tr>\n",
       "      <th>959</th>\n",
       "      <td>07 - Children's Day</td>\n",
       "      <td>ev_2963295</td>\n",
       "      <td>NaN</td>\n",
       "    </tr>\n",
       "    <tr>\n",
       "      <th>959</th>\n",
       "      <td>07 - Children's Day</td>\n",
       "      <td>ev_2963297</td>\n",
       "      <td>NaN</td>\n",
       "    </tr>\n",
       "    <tr>\n",
       "      <th>959</th>\n",
       "      <td>07 - Children's Day</td>\n",
       "      <td>ev_2963295</td>\n",
       "      <td>NaN</td>\n",
       "    </tr>\n",
       "    <tr>\n",
       "      <th>959</th>\n",
       "      <td>07 - Children's Day</td>\n",
       "      <td>ev_2963296</td>\n",
       "      <td>NaN</td>\n",
       "    </tr>\n",
       "    <tr>\n",
       "      <th>959</th>\n",
       "      <td>07 - Children's Day</td>\n",
       "      <td>ev_2963296</td>\n",
       "      <td>NaN</td>\n",
       "    </tr>\n",
       "    <tr>\n",
       "      <th>959</th>\n",
       "      <td>07 - Children's Day</td>\n",
       "      <td>ev_2963297</td>\n",
       "      <td>NaN</td>\n",
       "    </tr>\n",
       "    <tr>\n",
       "      <th>1003</th>\n",
       "      <td>11 - All That Lives</td>\n",
       "      <td>985872</td>\n",
       "      <td>True</td>\n",
       "    </tr>\n",
       "    <tr>\n",
       "      <th>1184</th>\n",
       "      <td>09 - Smeaton300: Moon Palace East Leeds Observ...</td>\n",
       "      <td>ev_2918127</td>\n",
       "      <td>True</td>\n",
       "    </tr>\n",
       "    <tr>\n",
       "      <th>1470</th>\n",
       "      <td>07 - Children's Day</td>\n",
       "      <td>ev_2963290</td>\n",
       "      <td>True</td>\n",
       "    </tr>\n",
       "    <tr>\n",
       "      <th>1470</th>\n",
       "      <td>07 - Children's Day</td>\n",
       "      <td>ev_2963295</td>\n",
       "      <td>True</td>\n",
       "    </tr>\n",
       "    <tr>\n",
       "      <th>1470</th>\n",
       "      <td>07 - Children's Day</td>\n",
       "      <td>ev_2963296</td>\n",
       "      <td>True</td>\n",
       "    </tr>\n",
       "    <tr>\n",
       "      <th>1470</th>\n",
       "      <td>07 - Children's Day</td>\n",
       "      <td>ev_2963297</td>\n",
       "      <td>True</td>\n",
       "    </tr>\n",
       "    <tr>\n",
       "      <th>1490</th>\n",
       "      <td>09 - Smeaton300: Moon Palace East Leeds Observ...</td>\n",
       "      <td>ev_2918127</td>\n",
       "      <td>True</td>\n",
       "    </tr>\n",
       "    <tr>\n",
       "      <th>1577</th>\n",
       "      <td>Creative Learning S3</td>\n",
       "      <td>ev_3073624</td>\n",
       "      <td>False</td>\n",
       "    </tr>\n",
       "  </tbody>\n",
       "</table>\n",
       "</div>"
      ],
      "text/plain": [
       "                                           project_name ticket_tailor_id  \\\n",
       "130                                 11 - All That Lives           985872   \n",
       "149   09 - Smeaton300: Moon Palace East Leeds Observ...       ev_2918127   \n",
       "175                                 11 - All That Lives           985872   \n",
       "276                                Creative Learning S3       ev_3073624   \n",
       "338                                 11 - All That Lives           985872   \n",
       "658                                 11 - All That Lives           985872   \n",
       "959                                 07 - Children's Day       ev_2963290   \n",
       "959                                 07 - Children's Day       ev_2963290   \n",
       "959                                 07 - Children's Day       ev_2963295   \n",
       "959                                 07 - Children's Day       ev_2963297   \n",
       "959                                 07 - Children's Day       ev_2963295   \n",
       "959                                 07 - Children's Day       ev_2963296   \n",
       "959                                 07 - Children's Day       ev_2963296   \n",
       "959                                 07 - Children's Day       ev_2963297   \n",
       "1003                                11 - All That Lives           985872   \n",
       "1184  09 - Smeaton300: Moon Palace East Leeds Observ...       ev_2918127   \n",
       "1470                                07 - Children's Day       ev_2963290   \n",
       "1470                                07 - Children's Day       ev_2963295   \n",
       "1470                                07 - Children's Day       ev_2963296   \n",
       "1470                                07 - Children's Day       ev_2963297   \n",
       "1490  09 - Smeaton300: Moon Palace East Leeds Observ...       ev_2918127   \n",
       "1577                               Creative Learning S3       ev_3073624   \n",
       "\n",
       "     public_event  \n",
       "130          True  \n",
       "149          True  \n",
       "175          True  \n",
       "276         False  \n",
       "338          True  \n",
       "658          True  \n",
       "959           NaN  \n",
       "959           NaN  \n",
       "959           NaN  \n",
       "959           NaN  \n",
       "959           NaN  \n",
       "959           NaN  \n",
       "959           NaN  \n",
       "959           NaN  \n",
       "1003         True  \n",
       "1184         True  \n",
       "1470         True  \n",
       "1470         True  \n",
       "1470         True  \n",
       "1470         True  \n",
       "1490         True  \n",
       "1577        False  "
      ]
     },
     "execution_count": 8,
     "metadata": {},
     "output_type": "execute_result"
    }
   ],
   "source": [
    "events[\n",
    "  events.ticket_tailor_id.isin(\n",
    "    events.ticket_tailor_id[\n",
    "      events.ticket_tailor_id.duplicated()\n",
    "    ].to_list()\n",
    "  )\n",
    "]"
   ]
  },
  {
   "cell_type": "code",
   "execution_count": 9,
   "id": "86ce132a",
   "metadata": {
    "execution": {
     "iopub.execute_input": "2023-12-20T23:39:13.783043Z",
     "iopub.status.busy": "2023-12-20T23:39:13.782676Z",
     "iopub.status.idle": "2023-12-20T23:39:13.786602Z",
     "shell.execute_reply": "2023-12-20T23:39:13.785977Z"
    },
    "papermill": {
     "duration": 0.008676,
     "end_time": "2023-12-20T23:39:13.787848",
     "exception": false,
     "start_time": "2023-12-20T23:39:13.779172",
     "status": "completed"
    },
    "tags": []
   },
   "outputs": [
    {
     "data": {
      "text/plain": [
       "6647"
      ]
     },
     "execution_count": 9,
     "metadata": {},
     "output_type": "execute_result"
    }
   ],
   "source": [
    "len(completed_orders)"
   ]
  },
  {
   "cell_type": "code",
   "execution_count": 10,
   "id": "fd583371",
   "metadata": {
    "execution": {
     "iopub.execute_input": "2023-12-20T23:39:13.794746Z",
     "iopub.status.busy": "2023-12-20T23:39:13.794405Z",
     "iopub.status.idle": "2023-12-20T23:39:13.801709Z",
     "shell.execute_reply": "2023-12-20T23:39:13.801078Z"
    },
    "papermill": {
     "duration": 0.012334,
     "end_time": "2023-12-20T23:39:13.803137",
     "exception": false,
     "start_time": "2023-12-20T23:39:13.790803",
     "status": "completed"
    },
    "tags": []
   },
   "outputs": [],
   "source": [
    "completed_orders = completed_orders.merge(\n",
    "    events.drop_duplicates().set_index('ticket_tailor_id'),\n",
    "    left_on='event_id',\n",
    "    right_index=True,\n",
    "    how='left'\n",
    ")"
   ]
  },
  {
   "cell_type": "code",
   "execution_count": 11,
   "id": "db8eec6b",
   "metadata": {
    "execution": {
     "iopub.execute_input": "2023-12-20T23:39:13.810027Z",
     "iopub.status.busy": "2023-12-20T23:39:13.809668Z",
     "iopub.status.idle": "2023-12-20T23:39:13.813721Z",
     "shell.execute_reply": "2023-12-20T23:39:13.813195Z"
    },
    "papermill": {
     "duration": 0.008812,
     "end_time": "2023-12-20T23:39:13.814976",
     "exception": false,
     "start_time": "2023-12-20T23:39:13.806164",
     "status": "completed"
    },
    "tags": []
   },
   "outputs": [
    {
     "data": {
      "text/plain": [
       "6655"
      ]
     },
     "execution_count": 11,
     "metadata": {},
     "output_type": "execute_result"
    }
   ],
   "source": [
    "len(completed_orders)"
   ]
  },
  {
   "cell_type": "code",
   "execution_count": 12,
   "id": "1f92d67b",
   "metadata": {
    "execution": {
     "iopub.execute_input": "2023-12-20T23:39:13.822159Z",
     "iopub.status.busy": "2023-12-20T23:39:13.821775Z",
     "iopub.status.idle": "2023-12-20T23:39:13.825060Z",
     "shell.execute_reply": "2023-12-20T23:39:13.824501Z"
    },
    "papermill": {
     "duration": 0.008192,
     "end_time": "2023-12-20T23:39:13.826285",
     "exception": false,
     "start_time": "2023-12-20T23:39:13.818093",
     "status": "completed"
    },
    "tags": []
   },
   "outputs": [],
   "source": [
    "OUTPUT_DIR = TOP_DIR.joinpath('data/metrics/events/tickets/')\n",
    "OUTPUT_DIR.mkdir(parents=True, exist_ok=True)"
   ]
  },
  {
   "cell_type": "code",
   "execution_count": 13,
   "id": "02407d55",
   "metadata": {
    "execution": {
     "iopub.execute_input": "2023-12-20T23:39:13.833600Z",
     "iopub.status.busy": "2023-12-20T23:39:13.833172Z",
     "iopub.status.idle": "2023-12-20T23:39:13.859713Z",
     "shell.execute_reply": "2023-12-20T23:39:13.859076Z"
    },
    "papermill": {
     "duration": 0.031532,
     "end_time": "2023-12-20T23:39:13.861093",
     "exception": false,
     "start_time": "2023-12-20T23:39:13.829561",
     "status": "completed"
    },
    "tags": []
   },
   "outputs": [],
   "source": [
    "completed_orders.loc[:, [\n",
    "    'created_at',\n",
    "    'event_id',\n",
    "    'event_date',\n",
    "    'number_of_tickets',\n",
    "    'ward_code',\n",
    "    'project_name',\n",
    "    'public_event',\n",
    "]].sort_values(['created_at', 'event_id']).to_csv(\n",
    "  OUTPUT_DIR.joinpath('orders.csv'),\n",
    "  index=False\n",
    ")"
   ]
  },
  {
   "cell_type": "code",
   "execution_count": 14,
   "id": "9fd8b894",
   "metadata": {
    "execution": {
     "iopub.execute_input": "2023-12-20T23:39:13.868482Z",
     "iopub.status.busy": "2023-12-20T23:39:13.868081Z",
     "iopub.status.idle": "2023-12-20T23:39:13.876566Z",
     "shell.execute_reply": "2023-12-20T23:39:13.875935Z"
    },
    "papermill": {
     "duration": 0.01373,
     "end_time": "2023-12-20T23:39:13.877965",
     "exception": false,
     "start_time": "2023-12-20T23:39:13.864235",
     "status": "completed"
    },
    "tags": []
   },
   "outputs": [],
   "source": [
    "(\n",
    "    completed_orders.loc[:, ['event_date', 'event_time', 'event_name', 'event_id', 'project_name', 'public_event']]\n",
    "      .drop_duplicates()\n",
    "      .sort_values(['event_date', 'event_time'])\n",
    "      .to_csv('../../../../data/metrics/events/tickets/events.csv', index=False)\n",
    ")"
   ]
  },
  {
   "cell_type": "code",
   "execution_count": 15,
   "id": "c5f95758",
   "metadata": {
    "execution": {
     "iopub.execute_input": "2023-12-20T23:39:13.885241Z",
     "iopub.status.busy": "2023-12-20T23:39:13.884875Z",
     "iopub.status.idle": "2023-12-20T23:39:14.822005Z",
     "shell.execute_reply": "2023-12-20T23:39:14.821350Z"
    },
    "papermill": {
     "duration": 0.942268,
     "end_time": "2023-12-20T23:39:14.823386",
     "exception": false,
     "start_time": "2023-12-20T23:39:13.881118",
     "status": "completed"
    },
    "tags": []
   },
   "outputs": [
    {
     "data": {
      "image/png": "[encoded data removed]",
      "text/plain": [
       "<Figure size 640x480 with 1 Axes>"
      ]
     },
     "metadata": {},
     "output_type": "display_data"
    }
   ],
   "source": [
    "chart = completed_orders.groupby(['project_name']).number_of_tickets.sum().sort_values().plot.barh()"
   ]
  },
  {
   "cell_type": "code",
   "execution_count": 16,
   "id": "32904759",
   "metadata": {
    "execution": {
     "iopub.execute_input": "2023-12-20T23:39:14.832349Z",
     "iopub.status.busy": "2023-12-20T23:39:14.831904Z",
     "iopub.status.idle": "2023-12-20T23:39:15.004264Z",
     "shell.execute_reply": "2023-12-20T23:39:15.003603Z"
    },
    "papermill": {
     "duration": 0.178194,
     "end_time": "2023-12-20T23:39:15.005614",
     "exception": false,
     "start_time": "2023-12-20T23:39:14.827420",
     "status": "completed"
    },
    "tags": []
   },
   "outputs": [
    {
     "data": {
      "image/png": "[encoded data removed]",
      "text/plain": [
       "<Figure size 640x480 with 1 Axes>"
      ]
     },
     "metadata": {},
     "output_type": "display_data"
    }
   ],
   "source": [
    "chart = completed_orders.groupby([\n",
    "    'event_date'\n",
    "    ]).number_of_tickets.sum().resample('M').sum().cumsum().plot.bar()"
   ]
  },
  {
   "cell_type": "code",
   "execution_count": null,
   "id": "5aea504a",
   "metadata": {
    "papermill": {
     "duration": 0.004049,
     "end_time": "2023-12-20T23:39:15.013952",
     "exception": false,
     "start_time": "2023-12-20T23:39:15.009903",
     "status": "completed"
    },
    "tags": []
   },
   "outputs": [],
   "source": []
  }
 ],
 "metadata": {
  "kernelspec": {
   "display_name": "leeds-2023-YZF5GfJv",
   "language": "python",
   "name": "python3"
  },
  "language_info": {
   "codemirror_mode": {
    "name": "ipython",
    "version": 3
   },
   "file_extension": ".py",
   "mimetype": "text/x-python",
   "name": "python",
   "nbconvert_exporter": "python",
   "pygments_lexer": "ipython3",
   "version": "3.10.13"
  },
  "papermill": {
   "default_parameters": {},
   "duration": 11.434464,
   "end_time": "2023-12-20T23:39:15.334975",
   "environment_variables": {},
   "exception": null,
   "input_path": "tickets.ipynb",
   "output_path": "../../../../working/output/tickets-transform.ipynb",
   "parameters": {},
   "start_time": "2023-12-20T23:39:03.900511",
   "version": "2.4.0"
  }
 },
 "nbformat": 4,
 "nbformat_minor": 5
}