{
 "cells": [
  {
   "cell_type": "code",
   "execution_count": 1,
   "id": "1f8c4dac",
   "metadata": {
    "execution": {
     "iopub.execute_input": "2023-12-30T23:38:57.260670Z",
     "iopub.status.busy": "2023-12-30T23:38:57.260408Z",
     "iopub.status.idle": "2023-12-30T23:38:57.508106Z",
     "shell.execute_reply": "2023-12-30T23:38:57.507423Z"
    },
    "papermill": {
     "duration": 0.253677,
     "end_time": "2023-12-30T23:38:57.509804",
     "exception": false,
     "start_time": "2023-12-30T23:38:57.256127",
     "status": "completed"
    },
    "tags": []
   },
   "outputs": [],
   "source": [
    "import sys\n",
    "from pathlib import Path\n",
    "\n",
    "import pandas as pd\n",
    "\n",
    "TOP_DIR = Path('../../../..').resolve()\n",
    "\n",
    "if str(TOP_DIR) not in sys.path: sys.path.append(str(TOP_DIR))"
   ]
  },
  {
   "cell_type": "code",
   "execution_count": 2,
   "id": "edde634e",
   "metadata": {
    "execution": {
     "iopub.execute_input": "2023-12-30T23:38:57.516125Z",
     "iopub.status.busy": "2023-12-30T23:38:57.515666Z",
     "iopub.status.idle": "2023-12-30T23:39:05.058823Z",
     "shell.execute_reply": "2023-12-30T23:39:05.058149Z"
    },
    "papermill": {
     "duration": 7.548085,
     "end_time": "2023-12-30T23:39:05.060610",
     "exception": false,
     "start_time": "2023-12-30T23:38:57.512525",
     "status": "completed"
    },
    "tags": []
   },
   "outputs": [],
   "source": [
    "from lib.util.geo import postcode_formatter, postcode_to_ward_code"
   ]
  },
  {
   "cell_type": "code",
   "execution_count": 3,
   "id": "80216879",
   "metadata": {
    "execution": {
     "iopub.execute_input": "2023-12-30T23:39:05.069412Z",
     "iopub.status.busy": "2023-12-30T23:39:05.069031Z",
     "iopub.status.idle": "2023-12-30T23:39:05.093792Z",
     "shell.execute_reply": "2023-12-30T23:39:05.093233Z"
    },
    "papermill": {
     "duration": 0.031963,
     "end_time": "2023-12-30T23:39:05.095449",
     "exception": false,
     "start_time": "2023-12-30T23:39:05.063486",
     "status": "completed"
    },
    "tags": []
   },
   "outputs": [],
   "source": [
    "ticket_data = pd.read_csv(\n",
    "    '../../../../working/metrics/ticketing/orders.csv',\n",
    "    parse_dates=['created_at', 'event_date'],\n",
    "    usecols=[\n",
    "        'created_at',\n",
    "        'event_id',\n",
    "        'event_name',\n",
    "        'event_date',\n",
    "        'event_time',\n",
    "        'number_of_tickets',\n",
    "        'postcode_from_question',\n",
    "        'postcode_from_address',\n",
    "        'status',\n",
    "    ]\n",
    ")"
   ]
  },
  {
   "cell_type": "code",
   "execution_count": 4,
   "id": "0bb5039e",
   "metadata": {
    "execution": {
     "iopub.execute_input": "2023-12-30T23:39:05.101838Z",
     "iopub.status.busy": "2023-12-30T23:39:05.101273Z",
     "iopub.status.idle": "2023-12-30T23:39:05.110660Z",
     "shell.execute_reply": "2023-12-30T23:39:05.110031Z"
    },
    "papermill": {
     "duration": 0.013928,
     "end_time": "2023-12-30T23:39:05.111978",
     "exception": false,
     "start_time": "2023-12-30T23:39:05.098050",
     "status": "completed"
    },
    "tags": []
   },
   "outputs": [
    {
     "name": "stdout",
     "output_type": "stream",
     "text": [
      "<class 'pandas.core.frame.DataFrame'>\n",
      "RangeIndex: 7480 entries, 0 to 7479\n",
      "Data columns (total 9 columns):\n",
      " #   Column                  Non-Null Count  Dtype         \n",
      "---  ------                  --------------  -----         \n",
      " 0   postcode_from_question  6929 non-null   object        \n",
      " 1   postcode_from_address   875 non-null    object        \n",
      " 2   created_at              7480 non-null   datetime64[ns]\n",
      " 3   event_id                7480 non-null   object        \n",
      " 4   event_name              7480 non-null   object        \n",
      " 5   event_date              7480 non-null   datetime64[ns]\n",
      " 6   event_time              7480 non-null   object        \n",
      " 7   number_of_tickets       7480 non-null   int64         \n",
      " 8   status                  7480 non-null   object        \n",
      "dtypes: datetime64[ns](2), int64(1), object(6)\n",
      "memory usage: 526.1+ KB\n"
     ]
    }
   ],
   "source": [
    "ticket_data.info()"
   ]
  },
  {
   "cell_type": "code",
   "execution_count": 5,
   "id": "1571040a",
   "metadata": {
    "execution": {
     "iopub.execute_input": "2023-12-30T23:39:05.118727Z",
     "iopub.status.busy": "2023-12-30T23:39:05.118285Z",
     "iopub.status.idle": "2023-12-30T23:39:05.123472Z",
     "shell.execute_reply": "2023-12-30T23:39:05.122944Z"
    },
    "papermill": {
     "duration": 0.010029,
     "end_time": "2023-12-30T23:39:05.124823",
     "exception": false,
     "start_time": "2023-12-30T23:39:05.114794",
     "status": "completed"
    },
    "tags": []
   },
   "outputs": [],
   "source": [
    "completed_orders = (\n",
    "    ticket_data.loc[\n",
    "        ~ticket_data.status.isin(['cancelled']),\n",
    "        ticket_data.columns\n",
    "    ]\n",
    ")"
   ]
  },
  {
   "cell_type": "code",
   "execution_count": 6,
   "id": "e0da56fe",
   "metadata": {
    "execution": {
     "iopub.execute_input": "2023-12-30T23:39:05.131094Z",
     "iopub.status.busy": "2023-12-30T23:39:05.130723Z",
     "iopub.status.idle": "2023-12-30T23:39:06.109098Z",
     "shell.execute_reply": "2023-12-30T23:39:06.108508Z"
    },
    "papermill": {
     "duration": 0.983266,
     "end_time": "2023-12-30T23:39:06.110725",
     "exception": false,
     "start_time": "2023-12-30T23:39:05.127459",
     "status": "completed"
    },
    "tags": []
   },
   "outputs": [],
   "source": [
    "completed_orders['ward_code'] = (\n",
    "    completed_orders\n",
    "        .loc[:, ['postcode_from_question', 'postcode_from_address']]\n",
    "        .bfill()\n",
    "        .iloc[:, 0]\n",
    "        .pipe(postcode_formatter)\n",
    "        .map(postcode_to_ward_code)\n",
    ")"
   ]
  },
  {
   "cell_type": "markdown",
   "id": "d95808cd",
   "metadata": {
    "papermill": {
     "duration": 0.00284,
     "end_time": "2023-12-30T23:39:06.117215",
     "exception": false,
     "start_time": "2023-12-30T23:39:06.114375",
     "status": "completed"
    },
    "tags": []
   },
   "source": [
    "Get the events data"
   ]
  },
  {
   "cell_type": "code",
   "execution_count": 7,
   "id": "ec5af2eb",
   "metadata": {
    "execution": {
     "iopub.execute_input": "2023-12-30T23:39:06.123544Z",
     "iopub.status.busy": "2023-12-30T23:39:06.123097Z",
     "iopub.status.idle": "2023-12-30T23:39:06.139627Z",
     "shell.execute_reply": "2023-12-30T23:39:06.139102Z"
    },
    "papermill": {
     "duration": 0.021201,
     "end_time": "2023-12-30T23:39:06.140949",
     "exception": false,
     "start_time": "2023-12-30T23:39:06.119748",
     "status": "completed"
    },
    "tags": []
   },
   "outputs": [],
   "source": [
    "def prepare_events(data: pd.DataFrame):\n",
    "    data = data.rename(columns={\n",
    "        'Project name': 'project_name',\n",
    "        'Event type': 'event_type',\n",
    "        'Ticket Tailor ID': 'ticket_tailor_id'\n",
    "    })\n",
    "    data['public_event'] = data.event_type.str.contains('Public Event')\n",
    "    data['ticket_tailor_id'] = data.ticket_tailor_id.str.split(\n",
    "        pat=r'[\\s,]+', regex=True)\n",
    "    data = data.drop(columns=['event_type'])\n",
    "    data = data.explode('ticket_tailor_id')\n",
    "    data = data.loc[data.ticket_tailor_id.notna() & (data.ticket_tailor_id != '')]\n",
    "    return data\n",
    "\n",
    "\n",
    "events = pd.read_csv(\n",
    "    '../../../../working/metrics/events/all.csv',\n",
    "    usecols=[\n",
    "        'Project name',\n",
    "        'Event type',\n",
    "        'Ticket Tailor ID'\n",
    "    ]\n",
    ").pipe(prepare_events)"
   ]
  },
  {
   "cell_type": "markdown",
   "id": "4100f50d",
   "metadata": {
    "papermill": {
     "duration": 0.002507,
     "end_time": "2023-12-30T23:39:06.146161",
     "exception": false,
     "start_time": "2023-12-30T23:39:06.143654",
     "status": "completed"
    },
    "tags": []
   },
   "source": [
    "Duplicated ticket tailor IDs"
   ]
  },
  {
   "cell_type": "code",
   "execution_count": 8,
   "id": "9aebfa83",
   "metadata": {
    "execution": {
     "iopub.execute_input": "2023-12-30T23:39:06.152391Z",
     "iopub.status.busy": "2023-12-30T23:39:06.152005Z",
     "iopub.status.idle": "2023-12-30T23:39:06.162907Z",
     "shell.execute_reply": "2023-12-30T23:39:06.162280Z"
    },
    "papermill": {
     "duration": 0.01552,
     "end_time": "2023-12-30T23:39:06.164237",
     "exception": false,
     "start_time": "2023-12-30T23:39:06.148717",
     "status": "completed"
    },
    "tags": []
   },
   "outputs": [
    {
     "data": {
      "text/html": [
       "<div>\n",
       "<style scoped>\n",
       "    .dataframe tbody tr th:only-of-type {\n",
       "        vertical-align: middle;\n",
       "    }\n",
       "\n",
       "    .dataframe tbody tr th {\n",
       "        vertical-align: top;\n",
       "    }\n",
       "\n",
       "    .dataframe thead th {\n",
       "        text-align: right;\n",
       "    }\n",
       "</style>\n",
       "<table border=\"1\" class=\"dataframe\">\n",
       "  <thead>\n",
       "    <tr style=\"text-align: right;\">\n",
       "      <th></th>\n",
       "      <th>project_name</th>\n",
       "      <th>ticket_tailor_id</th>\n",
       "      <th>public_event</th>\n",
       "    </tr>\n",
       "  </thead>\n",
       "  <tbody>\n",
       "    <tr>\n",
       "      <th>127</th>\n",
       "      <td>11 - All That Lives</td>\n",
       "      <td>985872</td>\n",
       "      <td>True</td>\n",
       "    </tr>\n",
       "    <tr>\n",
       "      <th>147</th>\n",
       "      <td>09 - Smeaton300: Moon Palace East Leeds Observ...</td>\n",
       "      <td>ev_2918127</td>\n",
       "      <td>True</td>\n",
       "    </tr>\n",
       "    <tr>\n",
       "      <th>173</th>\n",
       "      <td>11 - All That Lives</td>\n",
       "      <td>985872</td>\n",
       "      <td>True</td>\n",
       "    </tr>\n",
       "    <tr>\n",
       "      <th>272</th>\n",
       "      <td>Creative Learning S3</td>\n",
       "      <td>ev_3073624</td>\n",
       "      <td>False</td>\n",
       "    </tr>\n",
       "    <tr>\n",
       "      <th>332</th>\n",
       "      <td>11 - All That Lives</td>\n",
       "      <td>985872</td>\n",
       "      <td>True</td>\n",
       "    </tr>\n",
       "    <tr>\n",
       "      <th>651</th>\n",
       "      <td>11 - All That Lives</td>\n",
       "      <td>985872</td>\n",
       "      <td>True</td>\n",
       "    </tr>\n",
       "    <tr>\n",
       "      <th>948</th>\n",
       "      <td>07 - Children's Day</td>\n",
       "      <td>ev_2963290</td>\n",
       "      <td>NaN</td>\n",
       "    </tr>\n",
       "    <tr>\n",
       "      <th>948</th>\n",
       "      <td>07 - Children's Day</td>\n",
       "      <td>ev_2963290</td>\n",
       "      <td>NaN</td>\n",
       "    </tr>\n",
       "    <tr>\n",
       "      <th>948</th>\n",
       "      <td>07 - Children's Day</td>\n",
       "      <td>ev_2963295</td>\n",
       "      <td>NaN</td>\n",
       "    </tr>\n",
       "    <tr>\n",
       "      <th>948</th>\n",
       "      <td>07 - Children's Day</td>\n",
       "      <td>ev_2963297</td>\n",
       "      <td>NaN</td>\n",
       "    </tr>\n",
       "    <tr>\n",
       "      <th>948</th>\n",
       "      <td>07 - Children's Day</td>\n",
       "      <td>ev_2963295</td>\n",
       "      <td>NaN</td>\n",
       "    </tr>\n",
       "    <tr>\n",
       "      <th>948</th>\n",
       "      <td>07 - Children's Day</td>\n",
       "      <td>ev_2963296</td>\n",
       "      <td>NaN</td>\n",
       "    </tr>\n",
       "    <tr>\n",
       "      <th>948</th>\n",
       "      <td>07 - Children's Day</td>\n",
       "      <td>ev_2963296</td>\n",
       "      <td>NaN</td>\n",
       "    </tr>\n",
       "    <tr>\n",
       "      <th>948</th>\n",
       "      <td>07 - Children's Day</td>\n",
       "      <td>ev_2963297</td>\n",
       "      <td>NaN</td>\n",
       "    </tr>\n",
       "    <tr>\n",
       "      <th>992</th>\n",
       "      <td>11 - All That Lives</td>\n",
       "      <td>985872</td>\n",
       "      <td>True</td>\n",
       "    </tr>\n",
       "    <tr>\n",
       "      <th>1172</th>\n",
       "      <td>09 - Smeaton300: Moon Palace East Leeds Observ...</td>\n",
       "      <td>ev_2918127</td>\n",
       "      <td>True</td>\n",
       "    </tr>\n",
       "    <tr>\n",
       "      <th>1462</th>\n",
       "      <td>07 - Children's Day</td>\n",
       "      <td>ev_2963290</td>\n",
       "      <td>True</td>\n",
       "    </tr>\n",
       "    <tr>\n",
       "      <th>1462</th>\n",
       "      <td>07 - Children's Day</td>\n",
       "      <td>ev_2963295</td>\n",
       "      <td>True</td>\n",
       "    </tr>\n",
       "    <tr>\n",
       "      <th>1462</th>\n",
       "      <td>07 - Children's Day</td>\n",
       "      <td>ev_2963296</td>\n",
       "      <td>True</td>\n",
       "    </tr>\n",
       "    <tr>\n",
       "      <th>1462</th>\n",
       "      <td>07 - Children's Day</td>\n",
       "      <td>ev_2963297</td>\n",
       "      <td>True</td>\n",
       "    </tr>\n",
       "    <tr>\n",
       "      <th>1482</th>\n",
       "      <td>09 - Smeaton300: Moon Palace East Leeds Observ...</td>\n",
       "      <td>ev_2918127</td>\n",
       "      <td>True</td>\n",
       "    </tr>\n",
       "    <tr>\n",
       "      <th>1567</th>\n",
       "      <td>Creative Learning S3</td>\n",
       "      <td>ev_3073624</td>\n",
       "      <td>False</td>\n",
       "    </tr>\n",
       "  </tbody>\n",
       "</table>\n",
       "</div>"
      ],
      "text/plain": [
       "                                           project_name ticket_tailor_id  \\\n",
       "127                                 11 - All That Lives           985872   \n",
       "147   09 - Smeaton300: Moon Palace East Leeds Observ...       ev_2918127   \n",
       "173                                 11 - All That Lives           985872   \n",
       "272                                Creative Learning S3       ev_3073624   \n",
       "332                                 11 - All That Lives           985872   \n",
       "651                                 11 - All That Lives           985872   \n",
       "948                                 07 - Children's Day       ev_2963290   \n",
       "948                                 07 - Children's Day       ev_2963290   \n",
       "948                                 07 - Children's Day       ev_2963295   \n",
       "948                                 07 - Children's Day       ev_2963297   \n",
       "948                                 07 - Children's Day       ev_2963295   \n",
       "948                                 07 - Children's Day       ev_2963296   \n",
       "948                                 07 - Children's Day       ev_2963296   \n",
       "948                                 07 - Children's Day       ev_2963297   \n",
       "992                                 11 - All That Lives           985872   \n",
       "1172  09 - Smeaton300: Moon Palace East Leeds Observ...       ev_2918127   \n",
       "1462                                07 - Children's Day       ev_2963290   \n",
       "1462                                07 - Children's Day       ev_2963295   \n",
       "1462                                07 - Children's Day       ev_2963296   \n",
       "1462                                07 - Children's Day       ev_2963297   \n",
       "1482  09 - Smeaton300: Moon Palace East Leeds Observ...       ev_2918127   \n",
       "1567                               Creative Learning S3       ev_3073624   \n",
       "\n",
       "     public_event  \n",
       "127          True  \n",
       "147          True  \n",
       "173          True  \n",
       "272         False  \n",
       "332          True  \n",
       "651          True  \n",
       "948           NaN  \n",
       "948           NaN  \n",
       "948           NaN  \n",
       "948           NaN  \n",
       "948           NaN  \n",
       "948           NaN  \n",
       "948           NaN  \n",
       "948           NaN  \n",
       "992          True  \n",
       "1172         True  \n",
       "1462         True  \n",
       "1462         True  \n",
       "1462         True  \n",
       "1462         True  \n",
       "1482         True  \n",
       "1567        False  "
      ]
     },
     "execution_count": 8,
     "metadata": {},
     "output_type": "execute_result"
    }
   ],
   "source": [
    "events[\n",
    "  events.ticket_tailor_id.isin(\n",
    "    events.ticket_tailor_id[\n",
    "      events.ticket_tailor_id.duplicated()\n",
    "    ].to_list()\n",
    "  )\n",
    "]"
   ]
  },
  {
   "cell_type": "code",
   "execution_count": 9,
   "id": "7075cd48",
   "metadata": {
    "execution": {
     "iopub.execute_input": "2023-12-30T23:39:06.171230Z",
     "iopub.status.busy": "2023-12-30T23:39:06.170715Z",
     "iopub.status.idle": "2023-12-30T23:39:06.174944Z",
     "shell.execute_reply": "2023-12-30T23:39:06.174388Z"
    },
    "papermill": {
     "duration": 0.009008,
     "end_time": "2023-12-30T23:39:06.176184",
     "exception": false,
     "start_time": "2023-12-30T23:39:06.167176",
     "status": "completed"
    },
    "tags": []
   },
   "outputs": [
    {
     "data": {
      "text/plain": [
       "7259"
      ]
     },
     "execution_count": 9,
     "metadata": {},
     "output_type": "execute_result"
    }
   ],
   "source": [
    "len(completed_orders)"
   ]
  },
  {
   "cell_type": "code",
   "execution_count": 10,
   "id": "c5b02e43",
   "metadata": {
    "execution": {
     "iopub.execute_input": "2023-12-30T23:39:06.183145Z",
     "iopub.status.busy": "2023-12-30T23:39:06.182769Z",
     "iopub.status.idle": "2023-12-30T23:39:06.197749Z",
     "shell.execute_reply": "2023-12-30T23:39:06.197063Z"
    },
    "papermill": {
     "duration": 0.020144,
     "end_time": "2023-12-30T23:39:06.199317",
     "exception": false,
     "start_time": "2023-12-30T23:39:06.179173",
     "status": "completed"
    },
    "tags": []
   },
   "outputs": [],
   "source": [
    "completed_orders = completed_orders.merge(\n",
    "    events.drop_duplicates().set_index('ticket_tailor_id'),\n",
    "    left_on='event_id',\n",
    "    right_index=True,\n",
    "    how='left'\n",
    ")\n",
    "completed_orders['event_datetime'] = pd.to_datetime(completed_orders.event_date.astype(str) + 'T' + completed_orders.event_time)\n"
   ]
  },
  {
   "cell_type": "code",
   "execution_count": 11,
   "id": "1954f2d2",
   "metadata": {
    "execution": {
     "iopub.execute_input": "2023-12-30T23:39:06.206785Z",
     "iopub.status.busy": "2023-12-30T23:39:06.206237Z",
     "iopub.status.idle": "2023-12-30T23:39:06.210622Z",
     "shell.execute_reply": "2023-12-30T23:39:06.210015Z"
    },
    "papermill": {
     "duration": 0.009408,
     "end_time": "2023-12-30T23:39:06.211955",
     "exception": false,
     "start_time": "2023-12-30T23:39:06.202547",
     "status": "completed"
    },
    "tags": []
   },
   "outputs": [
    {
     "data": {
      "text/plain": [
       "7267"
      ]
     },
     "execution_count": 11,
     "metadata": {},
     "output_type": "execute_result"
    }
   ],
   "source": [
    "len(completed_orders)"
   ]
  },
  {
   "cell_type": "code",
   "execution_count": 12,
   "id": "166292e3",
   "metadata": {
    "execution": {
     "iopub.execute_input": "2023-12-30T23:39:06.219442Z",
     "iopub.status.busy": "2023-12-30T23:39:06.219038Z",
     "iopub.status.idle": "2023-12-30T23:39:06.222283Z",
     "shell.execute_reply": "2023-12-30T23:39:06.221681Z"
    },
    "papermill": {
     "duration": 0.008427,
     "end_time": "2023-12-30T23:39:06.223626",
     "exception": false,
     "start_time": "2023-12-30T23:39:06.215199",
     "status": "completed"
    },
    "tags": []
   },
   "outputs": [],
   "source": [
    "OUTPUT_DIR = TOP_DIR.joinpath('data/metrics/events/tickets/')\n",
    "OUTPUT_DIR.mkdir(parents=True, exist_ok=True)"
   ]
  },
  {
   "cell_type": "code",
   "execution_count": 13,
   "id": "43b0e62e",
   "metadata": {
    "execution": {
     "iopub.execute_input": "2023-12-30T23:39:06.231166Z",
     "iopub.status.busy": "2023-12-30T23:39:06.230641Z",
     "iopub.status.idle": "2023-12-30T23:39:06.268477Z",
     "shell.execute_reply": "2023-12-30T23:39:06.267783Z"
    },
    "papermill": {
     "duration": 0.043344,
     "end_time": "2023-12-30T23:39:06.270142",
     "exception": false,
     "start_time": "2023-12-30T23:39:06.226798",
     "status": "completed"
    },
    "tags": []
   },
   "outputs": [],
   "source": [
    "completed_orders.loc[:, [\n",
    "    'created_at',\n",
    "    'event_id',\n",
    "    'event_date',\n",
    "    'event_datetime',\n",
    "    'number_of_tickets',\n",
    "    'ward_code',\n",
    "    'project_name',\n",
    "    'public_event',\n",
    "]].sort_values(['created_at', 'event_id']).to_csv(\n",
    "  OUTPUT_DIR.joinpath('orders.csv'),\n",
    "  index=False\n",
    ")"
   ]
  },
  {
   "cell_type": "code",
   "execution_count": 14,
   "id": "18444800",
   "metadata": {
    "execution": {
     "iopub.execute_input": "2023-12-30T23:39:06.277936Z",
     "iopub.status.busy": "2023-12-30T23:39:06.277413Z",
     "iopub.status.idle": "2023-12-30T23:39:06.287507Z",
     "shell.execute_reply": "2023-12-30T23:39:06.286854Z"
    },
    "papermill": {
     "duration": 0.015337,
     "end_time": "2023-12-30T23:39:06.288853",
     "exception": false,
     "start_time": "2023-12-30T23:39:06.273516",
     "status": "completed"
    },
    "tags": []
   },
   "outputs": [],
   "source": [
    "(\n",
    "    completed_orders.loc[:, ['event_date', 'event_time', 'event_name', 'event_id', 'project_name', 'public_event']]\n",
    "      .drop_duplicates()\n",
    "      .sort_values(['event_date', 'event_time'])\n",
    "      .to_csv('../../../../data/metrics/events/tickets/events.csv', index=False)\n",
    ")"
   ]
  },
  {
   "cell_type": "code",
   "execution_count": 15,
   "id": "2cb16c05",
   "metadata": {
    "execution": {
     "iopub.execute_input": "2023-12-30T23:39:06.296350Z",
     "iopub.status.busy": "2023-12-30T23:39:06.295950Z",
     "iopub.status.idle": "2023-12-30T23:39:07.135385Z",
     "shell.execute_reply": "2023-12-30T23:39:07.134738Z"
    },
    "papermill": {
     "duration": 0.844699,
     "end_time": "2023-12-30T23:39:07.136781",
     "exception": false,
     "start_time": "2023-12-30T23:39:06.292082",
     "status": "completed"
    },
    "tags": []
   },
   "outputs": [
    {
     "data": {
      "image/png": "[encoded data removed]",
      "text/plain": [
       "<Figure size 640x480 with 1 Axes>"
      ]
     },
     "metadata": {},
     "output_type": "display_data"
    }
   ],
   "source": [
    "chart = completed_orders.groupby(['project_name']).number_of_tickets.sum().sort_values().plot.barh()"
   ]
  },
  {
   "cell_type": "code",
   "execution_count": 16,
   "id": "ec052b10",
   "metadata": {
    "execution": {
     "iopub.execute_input": "2023-12-30T23:39:07.146185Z",
     "iopub.status.busy": "2023-12-30T23:39:07.145706Z",
     "iopub.status.idle": "2023-12-30T23:39:07.334275Z",
     "shell.execute_reply": "2023-12-30T23:39:07.333600Z"
    },
    "papermill": {
     "duration": 0.194753,
     "end_time": "2023-12-30T23:39:07.335636",
     "exception": false,
     "start_time": "2023-12-30T23:39:07.140883",
     "status": "completed"
    },
    "tags": []
   },
   "outputs": [
    {
     "data": {
      "image/png": "[encoded data removed]",
      "text/plain": [
       "<Figure size 640x480 with 1 Axes>"
      ]
     },
     "metadata": {},
     "output_type": "display_data"
    }
   ],
   "source": [
    "chart = completed_orders.groupby([\n",
    "    'event_date'\n",
    "    ]).number_of_tickets.sum().resample('M').sum().cumsum().plot.bar()"
   ]
  },
  {
   "cell_type": "code",
   "execution_count": null,
   "id": "262a58e6",
   "metadata": {
    "papermill": {
     "duration": 0.003975,
     "end_time": "2023-12-30T23:39:07.343809",
     "exception": false,
     "start_time": "2023-12-30T23:39:07.339834",
     "status": "completed"
    },
    "tags": []
   },
   "outputs": [],
   "source": []
  }
 ],
 "metadata": {
  "kernelspec": {
   "display_name": "leeds-2023-YZF5GfJv",
   "language": "python",
   "name": "python3"
  },
  "language_info": {
   "codemirror_mode": {
    "name": "ipython",
    "version": 3
   },
   "file_extension": ".py",
   "mimetype": "text/x-python",
   "name": "python",
   "nbconvert_exporter": "python",
   "pygments_lexer": "ipython3",
   "version": "3.10.13"
  },
  "papermill": {
   "default_parameters": {},
   "duration": 12.057321,
   "end_time": "2023-12-30T23:39:07.664726",
   "environment_variables": {},
   "exception": null,
   "input_path": "tickets.ipynb",
   "output_path": "../../../../working/output/tickets-transform.ipynb",
   "parameters": {},
   "start_time": "2023-12-30T23:38:55.607405",
   "version": "2.4.0"
  }
 },
 "nbformat": 4,
 "nbformat_minor": 5
}