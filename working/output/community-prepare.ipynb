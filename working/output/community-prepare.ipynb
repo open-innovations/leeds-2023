{
 "cells": [
  {
   "cell_type": "code",
   "execution_count": 1,
   "id": "697d5e3c",
   "metadata": {
    "execution": {
     "iopub.execute_input": "2023-08-01T23:36:59.156242Z",
     "iopub.status.busy": "2023-08-01T23:36:59.155470Z",
     "iopub.status.idle": "2023-08-01T23:36:59.469628Z",
     "shell.execute_reply": "2023-08-01T23:36:59.468400Z"
    },
    "papermill": {
     "duration": 0.321312,
     "end_time": "2023-08-01T23:36:59.472472",
     "exception": false,
     "start_time": "2023-08-01T23:36:59.151160",
     "status": "completed"
    },
    "tags": []
   },
   "outputs": [],
   "source": [
    "import os, sys\n",
    "TOP_DIR = os.path.realpath('../../..')\n",
    "if TOP_DIR not in sys.path: sys.path.append(TOP_DIR)\n",
    "import pandas as pd"
   ]
  },
  {
   "cell_type": "code",
   "execution_count": 2,
   "id": "3bc89067",
   "metadata": {
    "execution": {
     "iopub.execute_input": "2023-08-01T23:36:59.479377Z",
     "iopub.status.busy": "2023-08-01T23:36:59.478119Z",
     "iopub.status.idle": "2023-08-01T23:36:59.484464Z",
     "shell.execute_reply": "2023-08-01T23:36:59.483531Z"
    },
    "papermill": {
     "duration": 0.012033,
     "end_time": "2023-08-01T23:36:59.486954",
     "exception": false,
     "start_time": "2023-08-01T23:36:59.474921",
     "status": "completed"
    },
    "tags": []
   },
   "outputs": [],
   "source": [
    "from lib.util.convert import named_cumulative_sum"
   ]
  },
  {
   "cell_type": "code",
   "execution_count": 3,
   "id": "1abac169",
   "metadata": {
    "execution": {
     "iopub.execute_input": "2023-08-01T23:36:59.492752Z",
     "iopub.status.busy": "2023-08-01T23:36:59.492409Z",
     "iopub.status.idle": "2023-08-01T23:36:59.506161Z",
     "shell.execute_reply": "2023-08-01T23:36:59.505228Z"
    },
    "papermill": {
     "duration": 0.018924,
     "end_time": "2023-08-01T23:36:59.508213",
     "exception": false,
     "start_time": "2023-08-01T23:36:59.489289",
     "status": "completed"
    },
    "tags": []
   },
   "outputs": [],
   "source": [
    "data = pd.read_csv('../../../data/metrics/community/events.csv', parse_dates=['start_date'])\n",
    "data.ward_code = data.ward_code.fillna('UNKNOWN')"
   ]
  },
  {
   "cell_type": "markdown",
   "id": "f0908b96",
   "metadata": {
    "papermill": {
     "duration": 0.001967,
     "end_time": "2023-08-01T23:36:59.512231",
     "exception": false,
     "start_time": "2023-08-01T23:36:59.510264",
     "status": "completed"
    },
    "tags": []
   },
   "source": [
    "Set up output directories"
   ]
  },
  {
   "cell_type": "code",
   "execution_count": 4,
   "id": "4ba30be7",
   "metadata": {
    "execution": {
     "iopub.execute_input": "2023-08-01T23:36:59.517401Z",
     "iopub.status.busy": "2023-08-01T23:36:59.516982Z",
     "iopub.status.idle": "2023-08-01T23:36:59.521509Z",
     "shell.execute_reply": "2023-08-01T23:36:59.520615Z"
    },
    "papermill": {
     "duration": 0.009741,
     "end_time": "2023-08-01T23:36:59.523912",
     "exception": false,
     "start_time": "2023-08-01T23:36:59.514171",
     "status": "completed"
    },
    "tags": []
   },
   "outputs": [],
   "source": [
    "OUT_DIR = '../../../docs/metrics/community/_data'\n",
    "os.makedirs(OUT_DIR, exist_ok=True)"
   ]
  },
  {
   "cell_type": "code",
   "execution_count": 5,
   "id": "1da3714d",
   "metadata": {
    "execution": {
     "iopub.execute_input": "2023-08-01T23:36:59.529251Z",
     "iopub.status.busy": "2023-08-01T23:36:59.528972Z",
     "iopub.status.idle": "2023-08-01T23:36:59.538071Z",
     "shell.execute_reply": "2023-08-01T23:36:59.537105Z"
    },
    "papermill": {
     "duration": 0.014434,
     "end_time": "2023-08-01T23:36:59.540381",
     "exception": false,
     "start_time": "2023-08-01T23:36:59.525947",
     "status": "completed"
    },
    "tags": []
   },
   "outputs": [],
   "source": [
    "pd.Series({\n",
    "  'events': data.event_name.count(),\n",
    "  'audience': data.audience.sum().astype(int),\n",
    "  'errors': {\n",
    "    'missing_wards': (data.ward_code == 'UNKNOWN').value_counts()[True],\n",
    "    'missing_audience': data.audience.isna().value_counts()[True],\n",
    "    'zero_audience':  (data.audience < 1).value_counts()[True],  \n",
    "  }\n",
    "}).to_json(os.path.join(OUT_DIR, 'headlines.json'), indent=2)"
   ]
  },
  {
   "cell_type": "code",
   "execution_count": 6,
   "id": "f88a48cc",
   "metadata": {
    "execution": {
     "iopub.execute_input": "2023-08-01T23:36:59.545873Z",
     "iopub.status.busy": "2023-08-01T23:36:59.545283Z",
     "iopub.status.idle": "2023-08-01T23:36:59.556323Z",
     "shell.execute_reply": "2023-08-01T23:36:59.555457Z"
    },
    "papermill": {
     "duration": 0.016104,
     "end_time": "2023-08-01T23:36:59.558481",
     "exception": false,
     "start_time": "2023-08-01T23:36:59.542377",
     "status": "completed"
    },
    "tags": []
   },
   "outputs": [],
   "source": [
    "by_ward = pd.DataFrame({\n",
    "  'events': data.groupby('ward_code').event_name.count().fillna(0).astype('int'),\n",
    "  'audience': data.groupby('ward_code').audience.sum().fillna(0).astype('int'),\n",
    "}).to_csv(os.path.join(OUT_DIR, 'by_ward.csv'))"
   ]
  },
  {
   "cell_type": "code",
   "execution_count": 7,
   "id": "2b3a2464",
   "metadata": {
    "execution": {
     "iopub.execute_input": "2023-08-01T23:36:59.564042Z",
     "iopub.status.busy": "2023-08-01T23:36:59.563581Z",
     "iopub.status.idle": "2023-08-01T23:36:59.578829Z",
     "shell.execute_reply": "2023-08-01T23:36:59.577970Z"
    },
    "papermill": {
     "duration": 0.020571,
     "end_time": "2023-08-01T23:36:59.581261",
     "exception": false,
     "start_time": "2023-08-01T23:36:59.560690",
     "status": "completed"
    },
    "tags": []
   },
   "outputs": [],
   "source": [
    "by_date = pd.DataFrame({\n",
    "    'events': data.groupby('start_date').event_name.count(),\n",
    "    'audience': data.groupby('start_date').audience.sum(),\n",
    "}).resample('M').sum()\n",
    "\n",
    "pd.concat([\n",
    "    by_date,\n",
    "    by_date.pipe(named_cumulative_sum)\n",
    "], axis=1).astype('int').to_csv(os.path.join(OUT_DIR, 'by_date.csv'))"
   ]
  }
 ],
 "metadata": {
  "kernelspec": {
   "display_name": "leeds-2023-YZF5GfJv",
   "language": "python",
   "name": "python3"
  },
  "language_info": {
   "codemirror_mode": {
    "name": "ipython",
    "version": 3
   },
   "file_extension": ".py",
   "mimetype": "text/x-python",
   "name": "python",
   "nbconvert_exporter": "python",
   "pygments_lexer": "ipython3",
   "version": "3.10.6"
  },
  "papermill": {
   "default_parameters": {},
   "duration": 2.320818,
   "end_time": "2023-08-01T23:36:59.903146",
   "environment_variables": {},
   "exception": null,
   "input_path": "prepare.ipynb",
   "output_path": "../../../working/output/community-prepare.ipynb",
   "parameters": {},
   "start_time": "2023-08-01T23:36:57.582328",
   "version": "2.4.0"
  }
 },
 "nbformat": 4,
 "nbformat_minor": 5
}