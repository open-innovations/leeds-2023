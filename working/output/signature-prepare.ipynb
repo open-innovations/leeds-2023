{
 "cells": [
  {
   "cell_type": "code",
   "execution_count": 1,
   "id": "c3d3435b",
   "metadata": {
    "execution": {
     "iopub.execute_input": "2023-09-11T10:26:35.007081Z",
     "iopub.status.busy": "2023-09-11T10:26:35.006326Z",
     "iopub.status.idle": "2023-09-11T10:26:49.551185Z",
     "shell.execute_reply": "2023-09-11T10:26:49.550110Z"
    },
    "papermill": {
     "duration": 14.553104,
     "end_time": "2023-09-11T10:26:49.553851",
     "exception": false,
     "start_time": "2023-09-11T10:26:35.000747",
     "status": "completed"
    },
    "tags": []
   },
   "outputs": [],
   "source": [
    "import os\n",
    "import pandas as pd\n",
    "from events import load_event_data, get_first_ward, normalise_ward"
   ]
  },
  {
   "cell_type": "code",
   "execution_count": 2,
   "id": "3a2fec42",
   "metadata": {
    "execution": {
     "iopub.execute_input": "2023-09-11T10:26:49.564345Z",
     "iopub.status.busy": "2023-09-11T10:26:49.563254Z",
     "iopub.status.idle": "2023-09-11T10:26:49.569187Z",
     "shell.execute_reply": "2023-09-11T10:26:49.568284Z"
    },
    "papermill": {
     "duration": 0.013602,
     "end_time": "2023-09-11T10:26:49.571539",
     "exception": false,
     "start_time": "2023-09-11T10:26:49.557937",
     "status": "completed"
    },
    "tags": []
   },
   "outputs": [],
   "source": [
    "latest_date = pd.Timestamp.today().ceil('D')"
   ]
  },
  {
   "cell_type": "code",
   "execution_count": 3,
   "id": "52f95dde",
   "metadata": {
    "execution": {
     "iopub.execute_input": "2023-09-11T10:26:49.580637Z",
     "iopub.status.busy": "2023-09-11T10:26:49.579826Z",
     "iopub.status.idle": "2023-09-11T10:26:49.606927Z",
     "shell.execute_reply": "2023-09-11T10:26:49.605756Z"
    },
    "papermill": {
     "duration": 0.034653,
     "end_time": "2023-09-11T10:26:49.609496",
     "exception": false,
     "start_time": "2023-09-11T10:26:49.574843",
     "status": "completed"
    },
    "tags": []
   },
   "outputs": [],
   "source": [
    "tickets = pd.read_csv('../../../../data/metrics/events/tickets/orders.csv', parse_dates=['created_at', 'event_date'])\n",
    "tickets = tickets[tickets.event_date <= latest_date]"
   ]
  },
  {
   "cell_type": "code",
   "execution_count": 4,
   "id": "49a22159",
   "metadata": {
    "execution": {
     "iopub.execute_input": "2023-09-11T10:26:49.618155Z",
     "iopub.status.busy": "2023-09-11T10:26:49.617645Z",
     "iopub.status.idle": "2023-09-11T10:26:49.936859Z",
     "shell.execute_reply": "2023-09-11T10:26:49.935766Z"
    },
    "papermill": {
     "duration": 0.326593,
     "end_time": "2023-09-11T10:26:49.939507",
     "exception": false,
     "start_time": "2023-09-11T10:26:49.612914",
     "status": "completed"
    },
    "tags": []
   },
   "outputs": [],
   "source": [
    "events = load_event_data()\n",
    "\n",
    "events = pd.concat([\n",
    "  events,\n",
    "  events.pipe(get_first_ward).pipe(normalise_ward).fillna('UNKNOWN'),\n",
    "  pd.Series(\n",
    "      events.actual_audience_size_number_of_participants_in_person + events.actual_audience_size_number_of_participants_online,\n",
    "      name='attendances'\n",
    "  )\n",
    "], axis=1).rename(columns={\n",
    "    'start_date': 'date'\n",
    "}).loc[:, ['ward_code', 'date', 'event_unique_identifier', 'attendances']]"
   ]
  },
  {
   "cell_type": "code",
   "execution_count": 5,
   "id": "f7e13704",
   "metadata": {
    "execution": {
     "iopub.execute_input": "2023-09-11T10:26:49.948784Z",
     "iopub.status.busy": "2023-09-11T10:26:49.948392Z",
     "iopub.status.idle": "2023-09-11T10:26:49.953627Z",
     "shell.execute_reply": "2023-09-11T10:26:49.952471Z"
    },
    "papermill": {
     "duration": 0.012638,
     "end_time": "2023-09-11T10:26:49.955788",
     "exception": false,
     "start_time": "2023-09-11T10:26:49.943150",
     "status": "completed"
    },
    "tags": []
   },
   "outputs": [],
   "source": [
    "OUTPUT_DIR='../../../../docs/metrics/events/signature/_data/'\n",
    "os.makedirs(OUTPUT_DIR, exist_ok=True)"
   ]
  },
  {
   "cell_type": "markdown",
   "id": "5662c1a8",
   "metadata": {
    "papermill": {
     "duration": 0.003389,
     "end_time": "2023-09-11T10:26:49.962772",
     "exception": false,
     "start_time": "2023-09-11T10:26:49.959383",
     "status": "completed"
    },
    "tags": []
   },
   "source": [
    "Events CSVs"
   ]
  },
  {
   "cell_type": "code",
   "execution_count": 6,
   "id": "8c407813",
   "metadata": {
    "execution": {
     "iopub.execute_input": "2023-09-11T10:26:49.971031Z",
     "iopub.status.busy": "2023-09-11T10:26:49.970622Z",
     "iopub.status.idle": "2023-09-11T10:26:49.981786Z",
     "shell.execute_reply": "2023-09-11T10:26:49.980719Z"
    },
    "papermill": {
     "duration": 0.018523,
     "end_time": "2023-09-11T10:26:49.984424",
     "exception": false,
     "start_time": "2023-09-11T10:26:49.965901",
     "status": "completed"
    },
    "tags": []
   },
   "outputs": [],
   "source": [
    "pd.DataFrame({\n",
    "  'events': events.groupby('ward_code').event_unique_identifier.count(),\n",
    "  'attendances': events.groupby('ward_code').attendances.sum().astype(int),\n",
    "}).to_csv(os.path.join(OUTPUT_DIR, 'events_by_ward.csv'))\n"
   ]
  },
  {
   "cell_type": "code",
   "execution_count": 7,
   "id": "a3725a43",
   "metadata": {
    "execution": {
     "iopub.execute_input": "2023-09-11T10:26:49.993267Z",
     "iopub.status.busy": "2023-09-11T10:26:49.992879Z",
     "iopub.status.idle": "2023-09-11T10:26:50.011221Z",
     "shell.execute_reply": "2023-09-11T10:26:50.009904Z"
    },
    "papermill": {
     "duration": 0.026421,
     "end_time": "2023-09-11T10:26:50.014175",
     "exception": false,
     "start_time": "2023-09-11T10:26:49.987754",
     "status": "completed"
    },
    "tags": []
   },
   "outputs": [],
   "source": [
    "pd.DataFrame({\n",
    "  'events': events.groupby('date').event_unique_identifier.count(),\n",
    "  'attendances': events.groupby('date').attendances.sum().astype(int),\n",
    "}).resample('M').sum().astype(int).to_csv(os.path.join(OUTPUT_DIR, 'events_by_date.csv'))"
   ]
  },
  {
   "cell_type": "markdown",
   "id": "65800e50",
   "metadata": {
    "papermill": {
     "duration": 0.00335,
     "end_time": "2023-09-11T10:26:50.020861",
     "exception": false,
     "start_time": "2023-09-11T10:26:50.017511",
     "status": "completed"
    },
    "tags": []
   },
   "source": [
    "Tickets CSV"
   ]
  },
  {
   "cell_type": "code",
   "execution_count": 8,
   "id": "cfe5675e",
   "metadata": {
    "execution": {
     "iopub.execute_input": "2023-09-11T10:26:50.030778Z",
     "iopub.status.busy": "2023-09-11T10:26:50.029699Z",
     "iopub.status.idle": "2023-09-11T10:26:50.040610Z",
     "shell.execute_reply": "2023-09-11T10:26:50.039585Z"
    },
    "papermill": {
     "duration": 0.018823,
     "end_time": "2023-09-11T10:26:50.043252",
     "exception": false,
     "start_time": "2023-09-11T10:26:50.024429",
     "status": "completed"
    },
    "tags": []
   },
   "outputs": [],
   "source": [
    "pd.DataFrame({\n",
    "  'orders': tickets.groupby('ward_code').number_of_tickets.count(),\n",
    "  'tickets': tickets.groupby('ward_code').number_of_tickets.sum().astype(int),\n",
    "}).to_csv(os.path.join(OUTPUT_DIR, 'tickets_by_ward.csv'))"
   ]
  },
  {
   "cell_type": "code",
   "execution_count": 9,
   "id": "df601cd7",
   "metadata": {
    "execution": {
     "iopub.execute_input": "2023-09-11T10:26:50.052351Z",
     "iopub.status.busy": "2023-09-11T10:26:50.051751Z",
     "iopub.status.idle": "2023-09-11T10:26:50.066346Z",
     "shell.execute_reply": "2023-09-11T10:26:50.065325Z"
    },
    "papermill": {
     "duration": 0.022124,
     "end_time": "2023-09-11T10:26:50.069008",
     "exception": false,
     "start_time": "2023-09-11T10:26:50.046884",
     "status": "completed"
    },
    "tags": []
   },
   "outputs": [],
   "source": [
    "pd.DataFrame({\n",
    "  'orders': tickets.groupby('event_date').number_of_tickets.count(),\n",
    "  'tickets': tickets.groupby('event_date').number_of_tickets.sum().astype(int),\n",
    "}).resample('M').sum().to_csv(os.path.join(OUTPUT_DIR, 'tickets_by_event_date.csv'))"
   ]
  },
  {
   "cell_type": "code",
   "execution_count": 10,
   "id": "79f365a8",
   "metadata": {
    "execution": {
     "iopub.execute_input": "2023-09-11T10:26:50.079639Z",
     "iopub.status.busy": "2023-09-11T10:26:50.078819Z",
     "iopub.status.idle": "2023-09-11T10:26:50.087260Z",
     "shell.execute_reply": "2023-09-11T10:26:50.086200Z"
    },
    "papermill": {
     "duration": 0.017088,
     "end_time": "2023-09-11T10:26:50.089582",
     "exception": false,
     "start_time": "2023-09-11T10:26:50.072494",
     "status": "completed"
    },
    "tags": []
   },
   "outputs": [],
   "source": [
    "pd.Series({\n",
    "    'total_events': events.event_unique_identifier.count(),\n",
    "    'total_attendances': events.attendances.count(),\n",
    "    'first_event': events.date.min(),\n",
    "    'latest_event': events.date.max(),\n",
    "    'total_ticket_orders_for_events_to_date': tickets.number_of_tickets.count(),\n",
    "    'total_tickets_sold_for_events_to_date': tickets.number_of_tickets.sum(),\n",
    "}).to_json(os.path.join(OUTPUT_DIR, 'headlines.json'), indent=2)"
   ]
  },
  {
   "cell_type": "code",
   "execution_count": null,
   "id": "d55a64a0",
   "metadata": {
    "papermill": {
     "duration": 0.003351,
     "end_time": "2023-09-11T10:26:50.096508",
     "exception": false,
     "start_time": "2023-09-11T10:26:50.093157",
     "status": "completed"
    },
    "tags": []
   },
   "outputs": [],
   "source": []
  }
 ],
 "metadata": {
  "kernelspec": {
   "display_name": "leeds-2023-YZF5GfJv",
   "language": "python",
   "name": "python3"
  },
  "language_info": {
   "codemirror_mode": {
    "name": "ipython",
    "version": 3
   },
   "file_extension": ".py",
   "mimetype": "text/x-python",
   "name": "python",
   "nbconvert_exporter": "python",
   "pygments_lexer": "ipython3",
   "version": "3.10.13"
  },
  "papermill": {
   "default_parameters": {},
   "duration": 17.71012,
   "end_time": "2023-09-11T10:26:50.621162",
   "environment_variables": {},
   "exception": null,
   "input_path": "prepare.ipynb",
   "output_path": "../../../../working/output/signature-prepare.ipynb",
   "parameters": {},
   "start_time": "2023-09-11T10:26:32.911042",
   "version": "2.4.0"
  }
 },
 "nbformat": 4,
 "nbformat_minor": 5
}