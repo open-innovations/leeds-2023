{
 "cells": [
  {
   "cell_type": "code",
   "execution_count": 1,
   "id": "da86e4d3",
   "metadata": {
    "execution": {
     "iopub.execute_input": "2023-08-18T17:34:25.708337Z",
     "iopub.status.busy": "2023-08-18T17:34:25.707044Z",
     "iopub.status.idle": "2023-08-18T17:34:25.864652Z",
     "shell.execute_reply": "2023-08-18T17:34:25.864198Z"
    },
    "papermill": {
     "duration": 0.16403,
     "end_time": "2023-08-18T17:34:25.865741",
     "exception": false,
     "start_time": "2023-08-18T17:34:25.701711",
     "status": "completed"
    },
    "tags": []
   },
   "outputs": [],
   "source": [
    "import os\n",
    "import pandas as pd"
   ]
  },
  {
   "cell_type": "code",
   "execution_count": 2,
   "id": "269d94b5",
   "metadata": {
    "execution": {
     "iopub.execute_input": "2023-08-18T17:34:25.868457Z",
     "iopub.status.busy": "2023-08-18T17:34:25.868278Z",
     "iopub.status.idle": "2023-08-18T17:34:25.870579Z",
     "shell.execute_reply": "2023-08-18T17:34:25.870298Z"
    },
    "papermill": {
     "duration": 0.004515,
     "end_time": "2023-08-18T17:34:25.871328",
     "exception": false,
     "start_time": "2023-08-18T17:34:25.866813",
     "status": "completed"
    },
    "tags": []
   },
   "outputs": [],
   "source": [
    "DATA_DIR='../../../docs/metrics/events/promote/_data/'\n",
    "os.makedirs(DATA_DIR, exist_ok=True)"
   ]
  },
  {
   "cell_type": "code",
   "execution_count": 3,
   "id": "ae848c56",
   "metadata": {
    "execution": {
     "iopub.execute_input": "2023-08-18T17:34:25.873498Z",
     "iopub.status.busy": "2023-08-18T17:34:25.873331Z",
     "iopub.status.idle": "2023-08-18T17:34:25.878155Z",
     "shell.execute_reply": "2023-08-18T17:34:25.877834Z"
    },
    "papermill": {
     "duration": 0.006652,
     "end_time": "2023-08-18T17:34:25.878826",
     "exception": false,
     "start_time": "2023-08-18T17:34:25.872174",
     "status": "completed"
    },
    "tags": []
   },
   "outputs": [],
   "source": [
    "data = pd.read_csv('../../../data/metrics/events/promote-events/events.csv', parse_dates=['time'])"
   ]
  },
  {
   "cell_type": "code",
   "execution_count": 4,
   "id": "0eca2c8b",
   "metadata": {
    "execution": {
     "iopub.execute_input": "2023-08-18T17:34:25.881151Z",
     "iopub.status.busy": "2023-08-18T17:34:25.880984Z",
     "iopub.status.idle": "2023-08-18T17:34:25.883859Z",
     "shell.execute_reply": "2023-08-18T17:34:25.883566Z"
    },
    "papermill": {
     "duration": 0.004791,
     "end_time": "2023-08-18T17:34:25.884508",
     "exception": false,
     "start_time": "2023-08-18T17:34:25.879717",
     "status": "completed"
    },
    "tags": []
   },
   "outputs": [],
   "source": [
    "pd.Series({\n",
    "    'total_events': len(data.id.unique()),\n",
    "    'total_event_instances': len(data.time),\n",
    "    'earliest_event': data.time.min(),\n",
    "    'latest_event': data.time.max(),\n",
    "}).to_json(\n",
    "    os.path.join(DATA_DIR, 'headlines.json'),\n",
    "    date_format='iso', indent=2\n",
    ")"
   ]
  },
  {
   "cell_type": "code",
   "execution_count": 5,
   "id": "266853bd",
   "metadata": {
    "execution": {
     "iopub.execute_input": "2023-08-18T17:34:25.886669Z",
     "iopub.status.busy": "2023-08-18T17:34:25.886564Z",
     "iopub.status.idle": "2023-08-18T17:34:25.890933Z",
     "shell.execute_reply": "2023-08-18T17:34:25.890624Z"
    },
    "papermill": {
     "duration": 0.006147,
     "end_time": "2023-08-18T17:34:25.891530",
     "exception": false,
     "start_time": "2023-08-18T17:34:25.885383",
     "status": "completed"
    },
    "tags": []
   },
   "outputs": [],
   "source": [
    "events = pd.DataFrame({\n",
    "    'events': data.groupby('id').agg({ 'time': 'min' }).reset_index().groupby('time').id.count(),\n",
    "    'event_instances': data.groupby('time').id.count(),\n",
    "}).fillna(0).astype(int)"
   ]
  },
  {
   "cell_type": "code",
   "execution_count": 6,
   "id": "f003a879",
   "metadata": {
    "execution": {
     "iopub.execute_input": "2023-08-18T17:34:25.893794Z",
     "iopub.status.busy": "2023-08-18T17:34:25.893644Z",
     "iopub.status.idle": "2023-08-18T17:34:25.895554Z",
     "shell.execute_reply": "2023-08-18T17:34:25.895293Z"
    },
    "papermill": {
     "duration": 0.003883,
     "end_time": "2023-08-18T17:34:25.896300",
     "exception": false,
     "start_time": "2023-08-18T17:34:25.892417",
     "status": "completed"
    },
    "tags": []
   },
   "outputs": [],
   "source": [
    "def cumulate(data):\n",
    "    return pd.concat([\n",
    "        data,\n",
    "        data.cumsum().rename(columns=lambda c: f'cumulative_{c}')\n",
    "    ], axis=1)"
   ]
  },
  {
   "cell_type": "code",
   "execution_count": 7,
   "id": "7ee1c660",
   "metadata": {
    "execution": {
     "iopub.execute_input": "2023-08-18T17:34:25.898873Z",
     "iopub.status.busy": "2023-08-18T17:34:25.898688Z",
     "iopub.status.idle": "2023-08-18T17:34:25.904287Z",
     "shell.execute_reply": "2023-08-18T17:34:25.903971Z"
    },
    "papermill": {
     "duration": 0.007797,
     "end_time": "2023-08-18T17:34:25.905104",
     "exception": false,
     "start_time": "2023-08-18T17:34:25.897307",
     "status": "completed"
    },
    "tags": []
   },
   "outputs": [],
   "source": [
    "events.resample('W-FRI').sum().pipe(cumulate).to_csv(os.path.join(DATA_DIR, 'by_week.csv'))"
   ]
  },
  {
   "cell_type": "code",
   "execution_count": 8,
   "id": "5dda2b4e",
   "metadata": {
    "execution": {
     "iopub.execute_input": "2023-08-18T17:34:25.907537Z",
     "iopub.status.busy": "2023-08-18T17:34:25.907359Z",
     "iopub.status.idle": "2023-08-18T17:34:25.910785Z",
     "shell.execute_reply": "2023-08-18T17:34:25.910466Z"
    },
    "papermill": {
     "duration": 0.005464,
     "end_time": "2023-08-18T17:34:25.911532",
     "exception": false,
     "start_time": "2023-08-18T17:34:25.906068",
     "status": "completed"
    },
    "tags": []
   },
   "outputs": [],
   "source": [
    "events.resample('MS').sum().pipe(cumulate).to_csv(os.path.join(DATA_DIR, 'by_month.csv'))"
   ]
  },
  {
   "cell_type": "code",
   "execution_count": null,
   "id": "d69b499b",
   "metadata": {
    "papermill": {
     "duration": 0.000873,
     "end_time": "2023-08-18T17:34:25.913326",
     "exception": false,
     "start_time": "2023-08-18T17:34:25.912453",
     "status": "completed"
    },
    "tags": []
   },
   "outputs": [],
   "source": []
  }
 ],
 "metadata": {
  "kernelspec": {
   "display_name": "leeds-2023-YZF5GfJv",
   "language": "python",
   "name": "python3"
  },
  "language_info": {
   "codemirror_mode": {
    "name": "ipython",
    "version": 3
   },
   "file_extension": ".py",
   "mimetype": "text/x-python",
   "name": "python",
   "nbconvert_exporter": "python",
   "pygments_lexer": "ipython3",
   "version": "3.10.12"
  },
  "papermill": {
   "default_parameters": {},
   "duration": 1.145624,
   "end_time": "2023-08-18T17:34:26.131042",
   "environment_variables": {},
   "exception": null,
   "input_path": "prepare.ipynb",
   "output_path": "../../../working/output/promote-events-prepare.ipynb",
   "parameters": {},
   "start_time": "2023-08-18T17:34:24.985418",
   "version": "2.4.0"
  }
 },
 "nbformat": 4,
 "nbformat_minor": 5
}