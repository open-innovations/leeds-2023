{
 "cells": [
  {
   "cell_type": "code",
   "execution_count": 1,
   "id": "69519ae3",
   "metadata": {
    "execution": {
     "iopub.execute_input": "2023-11-29T23:36:57.251362Z",
     "iopub.status.busy": "2023-11-29T23:36:57.251122Z",
     "iopub.status.idle": "2023-11-29T23:36:57.258578Z",
     "shell.execute_reply": "2023-11-29T23:36:57.257961Z"
    },
    "papermill": {
     "duration": 0.012056,
     "end_time": "2023-11-29T23:36:57.259983",
     "exception": false,
     "start_time": "2023-11-29T23:36:57.247927",
     "status": "completed"
    },
    "tags": []
   },
   "outputs": [],
   "source": [
    "import os\n",
    "import sys\n",
    "\n",
    "TOP_DIR=os.path.realpath(\"../../..\")\n",
    "if TOP_DIR not in sys.path: sys.path.append(TOP_DIR)"
   ]
  },
  {
   "cell_type": "code",
   "execution_count": 2,
   "id": "3b9bd910",
   "metadata": {
    "execution": {
     "iopub.execute_input": "2023-11-29T23:36:57.264660Z",
     "iopub.status.busy": "2023-11-29T23:36:57.264323Z",
     "iopub.status.idle": "2023-11-29T23:37:04.403217Z",
     "shell.execute_reply": "2023-11-29T23:37:04.402574Z"
    },
    "papermill": {
     "duration": 7.142927,
     "end_time": "2023-11-29T23:37:04.404858",
     "exception": false,
     "start_time": "2023-11-29T23:36:57.261931",
     "status": "completed"
    },
    "tags": []
   },
   "outputs": [],
   "source": [
    "import pandas as pd\n",
    "import numpy as np\n",
    "from lib.util.convert import standardise_columns, literal_converter\n",
    "from lib.util.geo import normalise_leeds_wards, ward_name_to_code"
   ]
  },
  {
   "cell_type": "code",
   "execution_count": 3,
   "id": "bbcd0424",
   "metadata": {
    "execution": {
     "iopub.execute_input": "2023-11-29T23:37:04.410028Z",
     "iopub.status.busy": "2023-11-29T23:37:04.409511Z",
     "iopub.status.idle": "2023-11-29T23:37:04.424880Z",
     "shell.execute_reply": "2023-11-29T23:37:04.424397Z"
    },
    "papermill": {
     "duration": 0.019186,
     "end_time": "2023-11-29T23:37:04.426134",
     "exception": false,
     "start_time": "2023-11-29T23:37:04.406948",
     "status": "completed"
    },
    "tags": []
   },
   "outputs": [],
   "source": [
    "data = pd.read_csv('../../../working/metrics/community/events.csv', parse_dates=['Start date'])\n",
    "data = data.rename(columns=standardise_columns)"
   ]
  },
  {
   "cell_type": "code",
   "execution_count": 4,
   "id": "da952761",
   "metadata": {
    "execution": {
     "iopub.execute_input": "2023-11-29T23:37:04.430812Z",
     "iopub.status.busy": "2023-11-29T23:37:04.430321Z",
     "iopub.status.idle": "2023-11-29T23:37:04.439167Z",
     "shell.execute_reply": "2023-11-29T23:37:04.438561Z"
    },
    "papermill": {
     "duration": 0.012623,
     "end_time": "2023-11-29T23:37:04.440502",
     "exception": false,
     "start_time": "2023-11-29T23:37:04.427879",
     "status": "completed"
    },
    "tags": []
   },
   "outputs": [],
   "source": [
    "wards = data['ward_(from_venue)'].fillna('[]').pipe(literal_converter).apply(np.unique)"
   ]
  },
  {
   "cell_type": "code",
   "execution_count": 5,
   "id": "c3879647",
   "metadata": {
    "execution": {
     "iopub.execute_input": "2023-11-29T23:37:04.444926Z",
     "iopub.status.busy": "2023-11-29T23:37:04.444586Z",
     "iopub.status.idle": "2023-11-29T23:37:04.464638Z",
     "shell.execute_reply": "2023-11-29T23:37:04.463983Z"
    },
    "papermill": {
     "duration": 0.023804,
     "end_time": "2023-11-29T23:37:04.466081",
     "exception": false,
     "start_time": "2023-11-29T23:37:04.442277",
     "status": "completed"
    },
    "tags": []
   },
   "outputs": [],
   "source": [
    "data['ward_name'] = wards.apply(lambda x: x[0] if len(x) > 0 else np.nan).pipe(normalise_leeds_wards)\n",
    "data['ward_code'] = data.ward_name.pipe(ward_name_to_code)\n",
    "data['audience'] = data.actual_audience_size_number_of_participants_in_person\n",
    "cleaned_data = data.loc[:, ['event_name', 'project_name', 'start_date', 'ward_name', 'ward_code', 'audience']]"
   ]
  },
  {
   "cell_type": "code",
   "execution_count": 6,
   "id": "f592e448",
   "metadata": {
    "execution": {
     "iopub.execute_input": "2023-11-29T23:37:04.470808Z",
     "iopub.status.busy": "2023-11-29T23:37:04.470429Z",
     "iopub.status.idle": "2023-11-29T23:37:04.476161Z",
     "shell.execute_reply": "2023-11-29T23:37:04.475529Z"
    },
    "papermill": {
     "duration": 0.009672,
     "end_time": "2023-11-29T23:37:04.477525",
     "exception": false,
     "start_time": "2023-11-29T23:37:04.467853",
     "status": "completed"
    },
    "tags": []
   },
   "outputs": [],
   "source": [
    "DATA_DIR='../../../data/metrics/community'\n",
    "os.makedirs(DATA_DIR, exist_ok=True)\n",
    "cleaned_data.to_csv(os.path.join(DATA_DIR, 'events.csv'), index=False)"
   ]
  },
  {
   "cell_type": "markdown",
   "id": "ada0a3b0",
   "metadata": {
    "papermill": {
     "duration": 0.001785,
     "end_time": "2023-11-29T23:37:04.481178",
     "exception": false,
     "start_time": "2023-11-29T23:37:04.479393",
     "status": "completed"
    },
    "tags": []
   },
   "source": [
    "Missing or duplicated wards"
   ]
  },
  {
   "cell_type": "code",
   "execution_count": 7,
   "id": "8be94495",
   "metadata": {
    "execution": {
     "iopub.execute_input": "2023-11-29T23:37:04.485918Z",
     "iopub.status.busy": "2023-11-29T23:37:04.485428Z",
     "iopub.status.idle": "2023-11-29T23:37:04.498094Z",
     "shell.execute_reply": "2023-11-29T23:37:04.497464Z"
    },
    "papermill": {
     "duration": 0.016409,
     "end_time": "2023-11-29T23:37:04.499427",
     "exception": false,
     "start_time": "2023-11-29T23:37:04.483018",
     "status": "completed"
    },
    "tags": []
   },
   "outputs": [
    {
     "data": {
      "text/html": [
       "<div>\n",
       "<style scoped>\n",
       "    .dataframe tbody tr th:only-of-type {\n",
       "        vertical-align: middle;\n",
       "    }\n",
       "\n",
       "    .dataframe tbody tr th {\n",
       "        vertical-align: top;\n",
       "    }\n",
       "\n",
       "    .dataframe thead th {\n",
       "        text-align: right;\n",
       "    }\n",
       "</style>\n",
       "<table border=\"1\" class=\"dataframe\">\n",
       "  <thead>\n",
       "    <tr style=\"text-align: right;\">\n",
       "      <th></th>\n",
       "      <th>project_name</th>\n",
       "      <th>event_name</th>\n",
       "      <th>start_date</th>\n",
       "      <th>ward_(from_venue)</th>\n",
       "    </tr>\n",
       "  </thead>\n",
       "  <tbody>\n",
       "    <tr>\n",
       "      <th>25</th>\n",
       "      <td>01 - The Awakening</td>\n",
       "      <td>Be More and Swarthmore Pack</td>\n",
       "      <td>2023-02-07</td>\n",
       "      <td>NaN</td>\n",
       "    </tr>\n",
       "    <tr>\n",
       "      <th>55</th>\n",
       "      <td>01 - The Awakening</td>\n",
       "      <td>Creation Station - Leeds City Council</td>\n",
       "      <td>2022-11-23</td>\n",
       "      <td>NaN</td>\n",
       "    </tr>\n",
       "    <tr>\n",
       "      <th>56</th>\n",
       "      <td>01 - The Awakening</td>\n",
       "      <td>Creation Station - Leeds City Council</td>\n",
       "      <td>2022-11-24</td>\n",
       "      <td>NaN</td>\n",
       "    </tr>\n",
       "    <tr>\n",
       "      <th>70</th>\n",
       "      <td>01 - The Awakening</td>\n",
       "      <td>Creation Station - Yorkshire Schools Dance Fes...</td>\n",
       "      <td>2022-11-19</td>\n",
       "      <td>NaN</td>\n",
       "    </tr>\n",
       "    <tr>\n",
       "      <th>72</th>\n",
       "      <td>01 - The Awakening</td>\n",
       "      <td>Creation Station: Ballot Engagement</td>\n",
       "      <td>NaT</td>\n",
       "      <td>NaN</td>\n",
       "    </tr>\n",
       "    <tr>\n",
       "      <th>...</th>\n",
       "      <td>...</td>\n",
       "      <td>...</td>\n",
       "      <td>...</td>\n",
       "      <td>...</td>\n",
       "    </tr>\n",
       "    <tr>\n",
       "      <th>289</th>\n",
       "      <td>Hidden Stories</td>\n",
       "      <td>Edible Archives: Eating The Corn Exchange Slot 2</td>\n",
       "      <td>2023-10-29</td>\n",
       "      <td>NaN</td>\n",
       "    </tr>\n",
       "    <tr>\n",
       "      <th>290</th>\n",
       "      <td>Hidden Stories</td>\n",
       "      <td>Harewood House - Aberford Community Cafe</td>\n",
       "      <td>2023-04-28</td>\n",
       "      <td>NaN</td>\n",
       "    </tr>\n",
       "    <tr>\n",
       "      <th>298</th>\n",
       "      <td>Hidden Stories</td>\n",
       "      <td>Lens Lab Exhibition</td>\n",
       "      <td>2023-09-16</td>\n",
       "      <td>NaN</td>\n",
       "    </tr>\n",
       "    <tr>\n",
       "      <th>304</th>\n",
       "      <td>Hidden Stories</td>\n",
       "      <td>Royal Armouries Exhibition</td>\n",
       "      <td>2023-09-07</td>\n",
       "      <td>NaN</td>\n",
       "    </tr>\n",
       "    <tr>\n",
       "      <th>308</th>\n",
       "      <td>Hidden Stories</td>\n",
       "      <td>TBC British Library Collaboration</td>\n",
       "      <td>NaT</td>\n",
       "      <td>NaN</td>\n",
       "    </tr>\n",
       "  </tbody>\n",
       "</table>\n",
       "<p>81 rows × 4 columns</p>\n",
       "</div>"
      ],
      "text/plain": [
       "           project_name                                         event_name  \\\n",
       "25   01 - The Awakening                        Be More and Swarthmore Pack   \n",
       "55   01 - The Awakening             Creation Station - Leeds City Council    \n",
       "56   01 - The Awakening             Creation Station - Leeds City Council    \n",
       "70   01 - The Awakening  Creation Station - Yorkshire Schools Dance Fes...   \n",
       "72   01 - The Awakening               Creation Station: Ballot Engagement    \n",
       "..                  ...                                                ...   \n",
       "289      Hidden Stories   Edible Archives: Eating The Corn Exchange Slot 2   \n",
       "290      Hidden Stories           Harewood House - Aberford Community Cafe   \n",
       "298      Hidden Stories                                Lens Lab Exhibition   \n",
       "304      Hidden Stories                         Royal Armouries Exhibition   \n",
       "308      Hidden Stories                  TBC British Library Collaboration   \n",
       "\n",
       "    start_date ward_(from_venue)  \n",
       "25  2023-02-07               NaN  \n",
       "55  2022-11-23               NaN  \n",
       "56  2022-11-24               NaN  \n",
       "70  2022-11-19               NaN  \n",
       "72         NaT               NaN  \n",
       "..         ...               ...  \n",
       "289 2023-10-29               NaN  \n",
       "290 2023-04-28               NaN  \n",
       "298 2023-09-16               NaN  \n",
       "304 2023-09-07               NaN  \n",
       "308        NaT               NaN  \n",
       "\n",
       "[81 rows x 4 columns]"
      ]
     },
     "execution_count": 7,
     "metadata": {},
     "output_type": "execute_result"
    }
   ],
   "source": [
    "data.loc[wards.apply(len) != 1, ['project_name', 'event_name', 'start_date', 'ward_(from_venue)']]"
   ]
  },
  {
   "cell_type": "markdown",
   "id": "757cda5e",
   "metadata": {
    "papermill": {
     "duration": 0.002021,
     "end_time": "2023-11-29T23:37:04.504236",
     "exception": false,
     "start_time": "2023-11-29T23:37:04.502215",
     "status": "completed"
    },
    "tags": []
   },
   "source": [
    "Missing audience"
   ]
  },
  {
   "cell_type": "code",
   "execution_count": 8,
   "id": "a1847715",
   "metadata": {
    "execution": {
     "iopub.execute_input": "2023-11-29T23:37:04.509511Z",
     "iopub.status.busy": "2023-11-29T23:37:04.509042Z",
     "iopub.status.idle": "2023-11-29T23:37:04.518769Z",
     "shell.execute_reply": "2023-11-29T23:37:04.518220Z"
    },
    "papermill": {
     "duration": 0.01371,
     "end_time": "2023-11-29T23:37:04.520041",
     "exception": false,
     "start_time": "2023-11-29T23:37:04.506331",
     "status": "completed"
    },
    "tags": []
   },
   "outputs": [
    {
     "data": {
      "text/html": [
       "<div>\n",
       "<style scoped>\n",
       "    .dataframe tbody tr th:only-of-type {\n",
       "        vertical-align: middle;\n",
       "    }\n",
       "\n",
       "    .dataframe tbody tr th {\n",
       "        vertical-align: top;\n",
       "    }\n",
       "\n",
       "    .dataframe thead th {\n",
       "        text-align: right;\n",
       "    }\n",
       "</style>\n",
       "<table border=\"1\" class=\"dataframe\">\n",
       "  <thead>\n",
       "    <tr style=\"text-align: right;\">\n",
       "      <th></th>\n",
       "      <th>project_name</th>\n",
       "      <th>event_name</th>\n",
       "      <th>start_date</th>\n",
       "      <th>audience</th>\n",
       "    </tr>\n",
       "  </thead>\n",
       "  <tbody>\n",
       "    <tr>\n",
       "      <th>2</th>\n",
       "      <td>01 - The Awakening</td>\n",
       "      <td>Ballot Facilitated Session - Carr Manor Commun...</td>\n",
       "      <td>2022-11-01</td>\n",
       "      <td>NaN</td>\n",
       "    </tr>\n",
       "    <tr>\n",
       "      <th>3</th>\n",
       "      <td>01 - The Awakening</td>\n",
       "      <td>Ballot Facilitated Session - Chapel Allerton P...</td>\n",
       "      <td>2022-11-07</td>\n",
       "      <td>NaN</td>\n",
       "    </tr>\n",
       "    <tr>\n",
       "      <th>4</th>\n",
       "      <td>01 - The Awakening</td>\n",
       "      <td>Ballot Facilitated Session - Cobden Primary Sc...</td>\n",
       "      <td>2022-11-09</td>\n",
       "      <td>NaN</td>\n",
       "    </tr>\n",
       "    <tr>\n",
       "      <th>5</th>\n",
       "      <td>01 - The Awakening</td>\n",
       "      <td>Ballot Facilitated Session - Cobden Primary Sc...</td>\n",
       "      <td>2022-11-10</td>\n",
       "      <td>NaN</td>\n",
       "    </tr>\n",
       "    <tr>\n",
       "      <th>6</th>\n",
       "      <td>01 - The Awakening</td>\n",
       "      <td>Ballot Facilitated Session - Cobden Primary Sc...</td>\n",
       "      <td>2022-11-18</td>\n",
       "      <td>NaN</td>\n",
       "    </tr>\n",
       "    <tr>\n",
       "      <th>...</th>\n",
       "      <td>...</td>\n",
       "      <td>...</td>\n",
       "      <td>...</td>\n",
       "      <td>...</td>\n",
       "    </tr>\n",
       "    <tr>\n",
       "      <th>311</th>\n",
       "      <td>Hidden Stories</td>\n",
       "      <td>Try Your Hand at Ceramic Sculpture</td>\n",
       "      <td>2023-09-10</td>\n",
       "      <td>NaN</td>\n",
       "    </tr>\n",
       "    <tr>\n",
       "      <th>312</th>\n",
       "      <td>Hidden Stories</td>\n",
       "      <td>Try Your Hand at Ceramic Sculpture</td>\n",
       "      <td>2023-09-16</td>\n",
       "      <td>NaN</td>\n",
       "    </tr>\n",
       "    <tr>\n",
       "      <th>313</th>\n",
       "      <td>Hidden Stories</td>\n",
       "      <td>Try Your Hand at Stone Carving</td>\n",
       "      <td>2023-09-09</td>\n",
       "      <td>NaN</td>\n",
       "    </tr>\n",
       "    <tr>\n",
       "      <th>314</th>\n",
       "      <td>Hidden Stories</td>\n",
       "      <td>Try Your Hand at Stone Carving</td>\n",
       "      <td>2023-09-10</td>\n",
       "      <td>NaN</td>\n",
       "    </tr>\n",
       "    <tr>\n",
       "      <th>315</th>\n",
       "      <td>Hidden Stories</td>\n",
       "      <td>Try Your Hand at Stone Carving</td>\n",
       "      <td>2023-09-16</td>\n",
       "      <td>NaN</td>\n",
       "    </tr>\n",
       "  </tbody>\n",
       "</table>\n",
       "<p>185 rows × 4 columns</p>\n",
       "</div>"
      ],
      "text/plain": [
       "           project_name                                         event_name  \\\n",
       "2    01 - The Awakening  Ballot Facilitated Session - Carr Manor Commun...   \n",
       "3    01 - The Awakening  Ballot Facilitated Session - Chapel Allerton P...   \n",
       "4    01 - The Awakening  Ballot Facilitated Session - Cobden Primary Sc...   \n",
       "5    01 - The Awakening  Ballot Facilitated Session - Cobden Primary Sc...   \n",
       "6    01 - The Awakening  Ballot Facilitated Session - Cobden Primary Sc...   \n",
       "..                  ...                                                ...   \n",
       "311      Hidden Stories                 Try Your Hand at Ceramic Sculpture   \n",
       "312      Hidden Stories                 Try Your Hand at Ceramic Sculpture   \n",
       "313      Hidden Stories                     Try Your Hand at Stone Carving   \n",
       "314      Hidden Stories                     Try Your Hand at Stone Carving   \n",
       "315      Hidden Stories                     Try Your Hand at Stone Carving   \n",
       "\n",
       "    start_date  audience  \n",
       "2   2022-11-01       NaN  \n",
       "3   2022-11-07       NaN  \n",
       "4   2022-11-09       NaN  \n",
       "5   2022-11-10       NaN  \n",
       "6   2022-11-18       NaN  \n",
       "..         ...       ...  \n",
       "311 2023-09-10       NaN  \n",
       "312 2023-09-16       NaN  \n",
       "313 2023-09-09       NaN  \n",
       "314 2023-09-10       NaN  \n",
       "315 2023-09-16       NaN  \n",
       "\n",
       "[185 rows x 4 columns]"
      ]
     },
     "execution_count": 8,
     "metadata": {},
     "output_type": "execute_result"
    }
   ],
   "source": [
    "data.loc[data.audience.isna(), ['project_name', 'event_name', 'start_date', 'audience']]"
   ]
  },
  {
   "cell_type": "code",
   "execution_count": null,
   "id": "780c30c6",
   "metadata": {
    "papermill": {
     "duration": 0.00233,
     "end_time": "2023-11-29T23:37:04.524772",
     "exception": false,
     "start_time": "2023-11-29T23:37:04.522442",
     "status": "completed"
    },
    "tags": []
   },
   "outputs": [],
   "source": []
  },
  {
   "cell_type": "code",
   "execution_count": null,
   "id": "503ad60c",
   "metadata": {
    "papermill": {
     "duration": 0.002169,
     "end_time": "2023-11-29T23:37:04.529278",
     "exception": false,
     "start_time": "2023-11-29T23:37:04.527109",
     "status": "completed"
    },
    "tags": []
   },
   "outputs": [],
   "source": []
  }
 ],
 "metadata": {
  "kernelspec": {
   "display_name": "leeds-2023-YZF5GfJv",
   "language": "python",
   "name": "python3"
  },
  "language_info": {
   "codemirror_mode": {
    "name": "ipython",
    "version": 3
   },
   "file_extension": ".py",
   "mimetype": "text/x-python",
   "name": "python",
   "nbconvert_exporter": "python",
   "pygments_lexer": "ipython3",
   "version": "3.10.13"
  },
  "papermill": {
   "default_parameters": {},
   "duration": 9.016079,
   "end_time": "2023-11-29T23:37:04.748561",
   "environment_variables": {},
   "exception": null,
   "input_path": "transform.ipynb",
   "output_path": "../../../working/output/community-transform.ipynb",
   "parameters": {},
   "start_time": "2023-11-29T23:36:55.732482",
   "version": "2.4.0"
  }
 },
 "nbformat": 4,
 "nbformat_minor": 5
}