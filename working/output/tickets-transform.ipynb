{
 "cells": [
  {
   "cell_type": "code",
   "execution_count": 1,
   "id": "5239198f",
   "metadata": {
    "execution": {
     "iopub.execute_input": "2023-12-22T12:48:11.456664Z",
     "iopub.status.busy": "2023-12-22T12:48:11.456408Z",
     "iopub.status.idle": "2023-12-22T12:48:11.693301Z",
     "shell.execute_reply": "2023-12-22T12:48:11.692738Z"
    },
    "papermill": {
     "duration": 0.242621,
     "end_time": "2023-12-22T12:48:11.694922",
     "exception": false,
     "start_time": "2023-12-22T12:48:11.452301",
     "status": "completed"
    },
    "tags": []
   },
   "outputs": [],
   "source": [
    "import sys\n",
    "from pathlib import Path\n",
    "\n",
    "import pandas as pd\n",
    "\n",
    "TOP_DIR = Path('../../../..').resolve()\n",
    "\n",
    "if str(TOP_DIR) not in sys.path: sys.path.append(str(TOP_DIR))"
   ]
  },
  {
   "cell_type": "code",
   "execution_count": 2,
   "id": "d57a03db",
   "metadata": {
    "execution": {
     "iopub.execute_input": "2023-12-22T12:48:11.701243Z",
     "iopub.status.busy": "2023-12-22T12:48:11.700805Z",
     "iopub.status.idle": "2023-12-22T12:48:18.810711Z",
     "shell.execute_reply": "2023-12-22T12:48:18.810080Z"
    },
    "papermill": {
     "duration": 7.114704,
     "end_time": "2023-12-22T12:48:18.812382",
     "exception": false,
     "start_time": "2023-12-22T12:48:11.697678",
     "status": "completed"
    },
    "tags": []
   },
   "outputs": [],
   "source": [
    "from lib.util.geo import postcode_formatter, postcode_to_ward_code"
   ]
  },
  {
   "cell_type": "code",
   "execution_count": 3,
   "id": "741fa164",
   "metadata": {
    "execution": {
     "iopub.execute_input": "2023-12-22T12:48:18.818758Z",
     "iopub.status.busy": "2023-12-22T12:48:18.818348Z",
     "iopub.status.idle": "2023-12-22T12:48:18.840387Z",
     "shell.execute_reply": "2023-12-22T12:48:18.839873Z"
    },
    "papermill": {
     "duration": 0.026649,
     "end_time": "2023-12-22T12:48:18.841783",
     "exception": false,
     "start_time": "2023-12-22T12:48:18.815134",
     "status": "completed"
    },
    "tags": []
   },
   "outputs": [],
   "source": [
    "ticket_data = pd.read_csv(\n",
    "    '../../../../working/metrics/ticketing/orders.csv',\n",
    "    parse_dates=['created_at', 'event_date'],\n",
    "    usecols=[\n",
    "        'created_at',\n",
    "        'event_id',\n",
    "        'event_name',\n",
    "        'event_date',\n",
    "        'event_time',\n",
    "        'number_of_tickets',\n",
    "        'postcode_from_question',\n",
    "        'postcode_from_address',\n",
    "        'status',\n",
    "    ]\n",
    ")"
   ]
  },
  {
   "cell_type": "code",
   "execution_count": 4,
   "id": "b508f725",
   "metadata": {
    "execution": {
     "iopub.execute_input": "2023-12-22T12:48:18.847670Z",
     "iopub.status.busy": "2023-12-22T12:48:18.847227Z",
     "iopub.status.idle": "2023-12-22T12:48:18.855782Z",
     "shell.execute_reply": "2023-12-22T12:48:18.855222Z"
    },
    "papermill": {
     "duration": 0.012906,
     "end_time": "2023-12-22T12:48:18.857118",
     "exception": false,
     "start_time": "2023-12-22T12:48:18.844212",
     "status": "completed"
    },
    "tags": []
   },
   "outputs": [
    {
     "name": "stdout",
     "output_type": "stream",
     "text": [
      "<class 'pandas.core.frame.DataFrame'>\n",
      "RangeIndex: 6896 entries, 0 to 6895\n",
      "Data columns (total 9 columns):\n",
      " #   Column                  Non-Null Count  Dtype         \n",
      "---  ------                  --------------  -----         \n",
      " 0   postcode_from_question  6494 non-null   object        \n",
      " 1   postcode_from_address   860 non-null    object        \n",
      " 2   created_at              6896 non-null   datetime64[ns]\n",
      " 3   event_id                6896 non-null   object        \n",
      " 4   event_name              6896 non-null   object        \n",
      " 5   event_date              6896 non-null   datetime64[ns]\n",
      " 6   event_time              6896 non-null   object        \n",
      " 7   number_of_tickets       6896 non-null   int64         \n",
      " 8   status                  6896 non-null   object        \n",
      "dtypes: datetime64[ns](2), int64(1), object(6)\n",
      "memory usage: 485.0+ KB\n"
     ]
    }
   ],
   "source": [
    "ticket_data.info()"
   ]
  },
  {
   "cell_type": "code",
   "execution_count": 5,
   "id": "3d055bad",
   "metadata": {
    "execution": {
     "iopub.execute_input": "2023-12-22T12:48:18.863237Z",
     "iopub.status.busy": "2023-12-22T12:48:18.862848Z",
     "iopub.status.idle": "2023-12-22T12:48:18.867532Z",
     "shell.execute_reply": "2023-12-22T12:48:18.867026Z"
    },
    "papermill": {
     "duration": 0.009139,
     "end_time": "2023-12-22T12:48:18.868835",
     "exception": false,
     "start_time": "2023-12-22T12:48:18.859696",
     "status": "completed"
    },
    "tags": []
   },
   "outputs": [],
   "source": [
    "completed_orders = (\n",
    "    ticket_data.loc[\n",
    "        ~ticket_data.status.isin(['cancelled']),\n",
    "        ticket_data.columns\n",
    "    ]\n",
    ")"
   ]
  },
  {
   "cell_type": "code",
   "execution_count": 6,
   "id": "5c319d45",
   "metadata": {
    "execution": {
     "iopub.execute_input": "2023-12-22T12:48:18.874935Z",
     "iopub.status.busy": "2023-12-22T12:48:18.874532Z",
     "iopub.status.idle": "2023-12-22T12:48:19.766342Z",
     "shell.execute_reply": "2023-12-22T12:48:19.765703Z"
    },
    "papermill": {
     "duration": 0.896591,
     "end_time": "2023-12-22T12:48:19.767965",
     "exception": false,
     "start_time": "2023-12-22T12:48:18.871374",
     "status": "completed"
    },
    "tags": []
   },
   "outputs": [],
   "source": [
    "completed_orders['ward_code'] = (\n",
    "    completed_orders\n",
    "        .loc[:, ['postcode_from_question', 'postcode_from_address']]\n",
    "        .bfill()\n",
    "        .iloc[:, 0]\n",
    "        .pipe(postcode_formatter)\n",
    "        .map(postcode_to_ward_code)\n",
    ")"
   ]
  },
  {
   "cell_type": "markdown",
   "id": "5eaed146",
   "metadata": {
    "papermill": {
     "duration": 0.002578,
     "end_time": "2023-12-22T12:48:19.774207",
     "exception": false,
     "start_time": "2023-12-22T12:48:19.771629",
     "status": "completed"
    },
    "tags": []
   },
   "source": [
    "Get the events data"
   ]
  },
  {
   "cell_type": "code",
   "execution_count": 7,
   "id": "13ef1bbb",
   "metadata": {
    "execution": {
     "iopub.execute_input": "2023-12-22T12:48:19.780435Z",
     "iopub.status.busy": "2023-12-22T12:48:19.779996Z",
     "iopub.status.idle": "2023-12-22T12:48:19.796173Z",
     "shell.execute_reply": "2023-12-22T12:48:19.795652Z"
    },
    "papermill": {
     "duration": 0.020801,
     "end_time": "2023-12-22T12:48:19.797519",
     "exception": false,
     "start_time": "2023-12-22T12:48:19.776718",
     "status": "completed"
    },
    "tags": []
   },
   "outputs": [],
   "source": [
    "def prepare_events(data: pd.DataFrame):\n",
    "    data = data.rename(columns={\n",
    "        'Project name': 'project_name',\n",
    "        'Event type': 'event_type',\n",
    "        'Ticket Tailor ID': 'ticket_tailor_id'\n",
    "    })\n",
    "    data['public_event'] = data.event_type.str.contains('Public Event')\n",
    "    data['ticket_tailor_id'] = data.ticket_tailor_id.str.split(\n",
    "        pat=r'[\\s,]+', regex=True)\n",
    "    data = data.drop(columns=['event_type'])\n",
    "    data = data.explode('ticket_tailor_id')\n",
    "    data = data.loc[data.ticket_tailor_id.notna() & (data.ticket_tailor_id != '')]\n",
    "    return data\n",
    "\n",
    "\n",
    "events = pd.read_csv(\n",
    "    '../../../../working/metrics/events/all.csv',\n",
    "    usecols=[\n",
    "        'Project name',\n",
    "        'Event type',\n",
    "        'Ticket Tailor ID'\n",
    "    ]\n",
    ").pipe(prepare_events)"
   ]
  },
  {
   "cell_type": "markdown",
   "id": "579ae2a5",
   "metadata": {
    "papermill": {
     "duration": 0.002506,
     "end_time": "2023-12-22T12:48:19.802661",
     "exception": false,
     "start_time": "2023-12-22T12:48:19.800155",
     "status": "completed"
    },
    "tags": []
   },
   "source": [
    "Duplicated ticket tailor IDs"
   ]
  },
  {
   "cell_type": "code",
   "execution_count": 8,
   "id": "2b36b470",
   "metadata": {
    "execution": {
     "iopub.execute_input": "2023-12-22T12:48:19.808641Z",
     "iopub.status.busy": "2023-12-22T12:48:19.808457Z",
     "iopub.status.idle": "2023-12-22T12:48:19.819462Z",
     "shell.execute_reply": "2023-12-22T12:48:19.818848Z"
    },
    "papermill": {
     "duration": 0.01559,
     "end_time": "2023-12-22T12:48:19.820788",
     "exception": false,
     "start_time": "2023-12-22T12:48:19.805198",
     "status": "completed"
    },
    "tags": []
   },
   "outputs": [
    {
     "data": {
      "text/html": [
       "<div>\n",
       "<style scoped>\n",
       "    .dataframe tbody tr th:only-of-type {\n",
       "        vertical-align: middle;\n",
       "    }\n",
       "\n",
       "    .dataframe tbody tr th {\n",
       "        vertical-align: top;\n",
       "    }\n",
       "\n",
       "    .dataframe thead th {\n",
       "        text-align: right;\n",
       "    }\n",
       "</style>\n",
       "<table border=\"1\" class=\"dataframe\">\n",
       "  <thead>\n",
       "    <tr style=\"text-align: right;\">\n",
       "      <th></th>\n",
       "      <th>project_name</th>\n",
       "      <th>ticket_tailor_id</th>\n",
       "      <th>public_event</th>\n",
       "    </tr>\n",
       "  </thead>\n",
       "  <tbody>\n",
       "    <tr>\n",
       "      <th>127</th>\n",
       "      <td>11 - All That Lives</td>\n",
       "      <td>985872</td>\n",
       "      <td>True</td>\n",
       "    </tr>\n",
       "    <tr>\n",
       "      <th>147</th>\n",
       "      <td>09 - Smeaton300: Moon Palace East Leeds Observ...</td>\n",
       "      <td>ev_2918127</td>\n",
       "      <td>True</td>\n",
       "    </tr>\n",
       "    <tr>\n",
       "      <th>173</th>\n",
       "      <td>11 - All That Lives</td>\n",
       "      <td>985872</td>\n",
       "      <td>True</td>\n",
       "    </tr>\n",
       "    <tr>\n",
       "      <th>272</th>\n",
       "      <td>Creative Learning S3</td>\n",
       "      <td>ev_3073624</td>\n",
       "      <td>False</td>\n",
       "    </tr>\n",
       "    <tr>\n",
       "      <th>333</th>\n",
       "      <td>11 - All That Lives</td>\n",
       "      <td>985872</td>\n",
       "      <td>True</td>\n",
       "    </tr>\n",
       "    <tr>\n",
       "      <th>652</th>\n",
       "      <td>11 - All That Lives</td>\n",
       "      <td>985872</td>\n",
       "      <td>True</td>\n",
       "    </tr>\n",
       "    <tr>\n",
       "      <th>950</th>\n",
       "      <td>07 - Children's Day</td>\n",
       "      <td>ev_2963290</td>\n",
       "      <td>NaN</td>\n",
       "    </tr>\n",
       "    <tr>\n",
       "      <th>950</th>\n",
       "      <td>07 - Children's Day</td>\n",
       "      <td>ev_2963290</td>\n",
       "      <td>NaN</td>\n",
       "    </tr>\n",
       "    <tr>\n",
       "      <th>950</th>\n",
       "      <td>07 - Children's Day</td>\n",
       "      <td>ev_2963295</td>\n",
       "      <td>NaN</td>\n",
       "    </tr>\n",
       "    <tr>\n",
       "      <th>950</th>\n",
       "      <td>07 - Children's Day</td>\n",
       "      <td>ev_2963297</td>\n",
       "      <td>NaN</td>\n",
       "    </tr>\n",
       "    <tr>\n",
       "      <th>950</th>\n",
       "      <td>07 - Children's Day</td>\n",
       "      <td>ev_2963295</td>\n",
       "      <td>NaN</td>\n",
       "    </tr>\n",
       "    <tr>\n",
       "      <th>950</th>\n",
       "      <td>07 - Children's Day</td>\n",
       "      <td>ev_2963296</td>\n",
       "      <td>NaN</td>\n",
       "    </tr>\n",
       "    <tr>\n",
       "      <th>950</th>\n",
       "      <td>07 - Children's Day</td>\n",
       "      <td>ev_2963296</td>\n",
       "      <td>NaN</td>\n",
       "    </tr>\n",
       "    <tr>\n",
       "      <th>950</th>\n",
       "      <td>07 - Children's Day</td>\n",
       "      <td>ev_2963297</td>\n",
       "      <td>NaN</td>\n",
       "    </tr>\n",
       "    <tr>\n",
       "      <th>994</th>\n",
       "      <td>11 - All That Lives</td>\n",
       "      <td>985872</td>\n",
       "      <td>True</td>\n",
       "    </tr>\n",
       "    <tr>\n",
       "      <th>1174</th>\n",
       "      <td>09 - Smeaton300: Moon Palace East Leeds Observ...</td>\n",
       "      <td>ev_2918127</td>\n",
       "      <td>True</td>\n",
       "    </tr>\n",
       "    <tr>\n",
       "      <th>1464</th>\n",
       "      <td>07 - Children's Day</td>\n",
       "      <td>ev_2963290</td>\n",
       "      <td>True</td>\n",
       "    </tr>\n",
       "    <tr>\n",
       "      <th>1464</th>\n",
       "      <td>07 - Children's Day</td>\n",
       "      <td>ev_2963295</td>\n",
       "      <td>True</td>\n",
       "    </tr>\n",
       "    <tr>\n",
       "      <th>1464</th>\n",
       "      <td>07 - Children's Day</td>\n",
       "      <td>ev_2963296</td>\n",
       "      <td>True</td>\n",
       "    </tr>\n",
       "    <tr>\n",
       "      <th>1464</th>\n",
       "      <td>07 - Children's Day</td>\n",
       "      <td>ev_2963297</td>\n",
       "      <td>True</td>\n",
       "    </tr>\n",
       "    <tr>\n",
       "      <th>1484</th>\n",
       "      <td>09 - Smeaton300: Moon Palace East Leeds Observ...</td>\n",
       "      <td>ev_2918127</td>\n",
       "      <td>True</td>\n",
       "    </tr>\n",
       "    <tr>\n",
       "      <th>1569</th>\n",
       "      <td>Creative Learning S3</td>\n",
       "      <td>ev_3073624</td>\n",
       "      <td>False</td>\n",
       "    </tr>\n",
       "  </tbody>\n",
       "</table>\n",
       "</div>"
      ],
      "text/plain": [
       "                                           project_name ticket_tailor_id  \\\n",
       "127                                 11 - All That Lives           985872   \n",
       "147   09 - Smeaton300: Moon Palace East Leeds Observ...       ev_2918127   \n",
       "173                                 11 - All That Lives           985872   \n",
       "272                                Creative Learning S3       ev_3073624   \n",
       "333                                 11 - All That Lives           985872   \n",
       "652                                 11 - All That Lives           985872   \n",
       "950                                 07 - Children's Day       ev_2963290   \n",
       "950                                 07 - Children's Day       ev_2963290   \n",
       "950                                 07 - Children's Day       ev_2963295   \n",
       "950                                 07 - Children's Day       ev_2963297   \n",
       "950                                 07 - Children's Day       ev_2963295   \n",
       "950                                 07 - Children's Day       ev_2963296   \n",
       "950                                 07 - Children's Day       ev_2963296   \n",
       "950                                 07 - Children's Day       ev_2963297   \n",
       "994                                 11 - All That Lives           985872   \n",
       "1174  09 - Smeaton300: Moon Palace East Leeds Observ...       ev_2918127   \n",
       "1464                                07 - Children's Day       ev_2963290   \n",
       "1464                                07 - Children's Day       ev_2963295   \n",
       "1464                                07 - Children's Day       ev_2963296   \n",
       "1464                                07 - Children's Day       ev_2963297   \n",
       "1484  09 - Smeaton300: Moon Palace East Leeds Observ...       ev_2918127   \n",
       "1569                               Creative Learning S3       ev_3073624   \n",
       "\n",
       "     public_event  \n",
       "127          True  \n",
       "147          True  \n",
       "173          True  \n",
       "272         False  \n",
       "333          True  \n",
       "652          True  \n",
       "950           NaN  \n",
       "950           NaN  \n",
       "950           NaN  \n",
       "950           NaN  \n",
       "950           NaN  \n",
       "950           NaN  \n",
       "950           NaN  \n",
       "950           NaN  \n",
       "994          True  \n",
       "1174         True  \n",
       "1464         True  \n",
       "1464         True  \n",
       "1464         True  \n",
       "1464         True  \n",
       "1484         True  \n",
       "1569        False  "
      ]
     },
     "execution_count": 8,
     "metadata": {},
     "output_type": "execute_result"
    }
   ],
   "source": [
    "events[\n",
    "  events.ticket_tailor_id.isin(\n",
    "    events.ticket_tailor_id[\n",
    "      events.ticket_tailor_id.duplicated()\n",
    "    ].to_list()\n",
    "  )\n",
    "]"
   ]
  },
  {
   "cell_type": "code",
   "execution_count": 9,
   "id": "cc08bbd3",
   "metadata": {
    "execution": {
     "iopub.execute_input": "2023-12-22T12:48:19.827546Z",
     "iopub.status.busy": "2023-12-22T12:48:19.827167Z",
     "iopub.status.idle": "2023-12-22T12:48:19.831149Z",
     "shell.execute_reply": "2023-12-22T12:48:19.830556Z"
    },
    "papermill": {
     "duration": 0.008876,
     "end_time": "2023-12-22T12:48:19.832550",
     "exception": false,
     "start_time": "2023-12-22T12:48:19.823674",
     "status": "completed"
    },
    "tags": []
   },
   "outputs": [
    {
     "data": {
      "text/plain": [
       "6708"
      ]
     },
     "execution_count": 9,
     "metadata": {},
     "output_type": "execute_result"
    }
   ],
   "source": [
    "len(completed_orders)"
   ]
  },
  {
   "cell_type": "code",
   "execution_count": 10,
   "id": "a62fbdea",
   "metadata": {
    "execution": {
     "iopub.execute_input": "2023-12-22T12:48:19.839391Z",
     "iopub.status.busy": "2023-12-22T12:48:19.839060Z",
     "iopub.status.idle": "2023-12-22T12:48:19.852825Z",
     "shell.execute_reply": "2023-12-22T12:48:19.852293Z"
    },
    "papermill": {
     "duration": 0.018677,
     "end_time": "2023-12-22T12:48:19.854146",
     "exception": false,
     "start_time": "2023-12-22T12:48:19.835469",
     "status": "completed"
    },
    "tags": []
   },
   "outputs": [],
   "source": [
    "completed_orders = completed_orders.merge(\n",
    "    events.drop_duplicates().set_index('ticket_tailor_id'),\n",
    "    left_on='event_id',\n",
    "    right_index=True,\n",
    "    how='left'\n",
    ")\n",
    "completed_orders['event_datetime'] = pd.to_datetime(completed_orders.event_date.astype(str) + 'T' + completed_orders.event_time)\n"
   ]
  },
  {
   "cell_type": "code",
   "execution_count": 11,
   "id": "3a1f4ed6",
   "metadata": {
    "execution": {
     "iopub.execute_input": "2023-12-22T12:48:19.861198Z",
     "iopub.status.busy": "2023-12-22T12:48:19.860809Z",
     "iopub.status.idle": "2023-12-22T12:48:19.864728Z",
     "shell.execute_reply": "2023-12-22T12:48:19.864108Z"
    },
    "papermill": {
     "duration": 0.008914,
     "end_time": "2023-12-22T12:48:19.866101",
     "exception": false,
     "start_time": "2023-12-22T12:48:19.857187",
     "status": "completed"
    },
    "tags": []
   },
   "outputs": [
    {
     "data": {
      "text/plain": [
       "6716"
      ]
     },
     "execution_count": 11,
     "metadata": {},
     "output_type": "execute_result"
    }
   ],
   "source": [
    "len(completed_orders)"
   ]
  },
  {
   "cell_type": "code",
   "execution_count": 12,
   "id": "3c9755ef",
   "metadata": {
    "execution": {
     "iopub.execute_input": "2023-12-22T12:48:19.873245Z",
     "iopub.status.busy": "2023-12-22T12:48:19.872882Z",
     "iopub.status.idle": "2023-12-22T12:48:19.875988Z",
     "shell.execute_reply": "2023-12-22T12:48:19.875390Z"
    },
    "papermill": {
     "duration": 0.008143,
     "end_time": "2023-12-22T12:48:19.877342",
     "exception": false,
     "start_time": "2023-12-22T12:48:19.869199",
     "status": "completed"
    },
    "tags": []
   },
   "outputs": [],
   "source": [
    "OUTPUT_DIR = TOP_DIR.joinpath('data/metrics/events/tickets/')\n",
    "OUTPUT_DIR.mkdir(parents=True, exist_ok=True)"
   ]
  },
  {
   "cell_type": "code",
   "execution_count": 13,
   "id": "57aeab2c",
   "metadata": {
    "execution": {
     "iopub.execute_input": "2023-12-22T12:48:19.884892Z",
     "iopub.status.busy": "2023-12-22T12:48:19.884343Z",
     "iopub.status.idle": "2023-12-22T12:48:19.918808Z",
     "shell.execute_reply": "2023-12-22T12:48:19.918190Z"
    },
    "papermill": {
     "duration": 0.039649,
     "end_time": "2023-12-22T12:48:19.920290",
     "exception": false,
     "start_time": "2023-12-22T12:48:19.880641",
     "status": "completed"
    },
    "tags": []
   },
   "outputs": [],
   "source": [
    "completed_orders.loc[:, [\n",
    "    'created_at',\n",
    "    'event_id',\n",
    "    'event_date',\n",
    "    'event_datetime',\n",
    "    'number_of_tickets',\n",
    "    'ward_code',\n",
    "    'project_name',\n",
    "    'public_event',\n",
    "]].sort_values(['created_at', 'event_id']).to_csv(\n",
    "  OUTPUT_DIR.joinpath('orders.csv'),\n",
    "  index=False\n",
    ")"
   ]
  },
  {
   "cell_type": "code",
   "execution_count": 14,
   "id": "b89b07ff",
   "metadata": {
    "execution": {
     "iopub.execute_input": "2023-12-22T12:48:19.927326Z",
     "iopub.status.busy": "2023-12-22T12:48:19.927138Z",
     "iopub.status.idle": "2023-12-22T12:48:19.935393Z",
     "shell.execute_reply": "2023-12-22T12:48:19.934898Z"
    },
    "papermill": {
     "duration": 0.013318,
     "end_time": "2023-12-22T12:48:19.936710",
     "exception": false,
     "start_time": "2023-12-22T12:48:19.923392",
     "status": "completed"
    },
    "tags": []
   },
   "outputs": [],
   "source": [
    "(\n",
    "    completed_orders.loc[:, ['event_date', 'event_time', 'event_name', 'event_id', 'project_name', 'public_event']]\n",
    "      .drop_duplicates()\n",
    "      .sort_values(['event_date', 'event_time'])\n",
    "      .to_csv('../../../../data/metrics/events/tickets/events.csv', index=False)\n",
    ")"
   ]
  },
  {
   "cell_type": "code",
   "execution_count": 15,
   "id": "bb14e838",
   "metadata": {
    "execution": {
     "iopub.execute_input": "2023-12-22T12:48:19.943802Z",
     "iopub.status.busy": "2023-12-22T12:48:19.943575Z",
     "iopub.status.idle": "2023-12-22T12:48:20.663555Z",
     "shell.execute_reply": "2023-12-22T12:48:20.662887Z"
    },
    "papermill": {
     "duration": 0.72524,
     "end_time": "2023-12-22T12:48:20.665070",
     "exception": false,
     "start_time": "2023-12-22T12:48:19.939830",
     "status": "completed"
    },
    "tags": []
   },
   "outputs": [
    {
     "data": {
      "image/png": "[encoded data removed]",
      "text/plain": [
       "<Figure size 640x480 with 1 Axes>"
      ]
     },
     "metadata": {},
     "output_type": "display_data"
    }
   ],
   "source": [
    "chart = completed_orders.groupby(['project_name']).number_of_tickets.sum().sort_values().plot.barh()"
   ]
  },
  {
   "cell_type": "code",
   "execution_count": 16,
   "id": "665117d8",
   "metadata": {
    "execution": {
     "iopub.execute_input": "2023-12-22T12:48:20.673962Z",
     "iopub.status.busy": "2023-12-22T12:48:20.673529Z",
     "iopub.status.idle": "2023-12-22T12:48:20.848030Z",
     "shell.execute_reply": "2023-12-22T12:48:20.847367Z"
    },
    "papermill": {
     "duration": 0.18035,
     "end_time": "2023-12-22T12:48:20.849416",
     "exception": false,
     "start_time": "2023-12-22T12:48:20.669066",
     "status": "completed"
    },
    "tags": []
   },
   "outputs": [
    {
     "data": {
      "image/png": "[encoded data removed]",
      "text/plain": [
       "<Figure size 640x480 with 1 Axes>"
      ]
     },
     "metadata": {},
     "output_type": "display_data"
    }
   ],
   "source": [
    "chart = completed_orders.groupby([\n",
    "    'event_date'\n",
    "    ]).number_of_tickets.sum().resample('M').sum().cumsum().plot.bar()"
   ]
  },
  {
   "cell_type": "code",
   "execution_count": null,
   "id": "c9821bd1",
   "metadata": {
    "papermill": {
     "duration": 0.004129,
     "end_time": "2023-12-22T12:48:20.857873",
     "exception": false,
     "start_time": "2023-12-22T12:48:20.853744",
     "status": "completed"
    },
    "tags": []
   },
   "outputs": [],
   "source": []
  }
 ],
 "metadata": {
  "kernelspec": {
   "display_name": "leeds-2023-YZF5GfJv",
   "language": "python",
   "name": "python3"
  },
  "language_info": {
   "codemirror_mode": {
    "name": "ipython",
    "version": 3
   },
   "file_extension": ".py",
   "mimetype": "text/x-python",
   "name": "python",
   "nbconvert_exporter": "python",
   "pygments_lexer": "ipython3",
   "version": "3.10.13"
  },
  "papermill": {
   "default_parameters": {},
   "duration": 11.07965,
   "end_time": "2023-12-22T12:48:21.178725",
   "environment_variables": {},
   "exception": null,
   "input_path": "tickets.ipynb",
   "output_path": "../../../../working/output/tickets-transform.ipynb",
   "parameters": {},
   "start_time": "2023-12-22T12:48:10.099075",
   "version": "2.4.0"
  }
 },
 "nbformat": 4,
 "nbformat_minor": 5
}