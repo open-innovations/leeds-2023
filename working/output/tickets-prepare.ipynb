{
 "cells": [
  {
   "cell_type": "code",
   "execution_count": 1,
   "id": "41b34eff",
   "metadata": {
    "execution": {
     "iopub.execute_input": "2023-12-24T23:38:58.450243Z",
     "iopub.status.busy": "2023-12-24T23:38:58.449928Z",
     "iopub.status.idle": "2023-12-24T23:38:58.689964Z",
     "shell.execute_reply": "2023-12-24T23:38:58.689284Z"
    },
    "papermill": {
     "duration": 0.245633,
     "end_time": "2023-12-24T23:38:58.691737",
     "exception": false,
     "start_time": "2023-12-24T23:38:58.446104",
     "status": "completed"
    },
    "tags": []
   },
   "outputs": [],
   "source": [
    "from pathlib import Path\n",
    "import pandas as pd"
   ]
  },
  {
   "cell_type": "markdown",
   "id": "912e50da",
   "metadata": {
    "papermill": {
     "duration": 0.002094,
     "end_time": "2023-12-24T23:38:58.696462",
     "exception": false,
     "start_time": "2023-12-24T23:38:58.694368",
     "status": "completed"
    },
    "tags": []
   },
   "source": [
    "Load the orders data which was created in the [transform stage](./tickets.ipynb)."
   ]
  },
  {
   "cell_type": "code",
   "execution_count": 2,
   "id": "df5931dc",
   "metadata": {
    "execution": {
     "iopub.execute_input": "2023-12-24T23:38:58.702092Z",
     "iopub.status.busy": "2023-12-24T23:38:58.701533Z",
     "iopub.status.idle": "2023-12-24T23:38:58.719859Z",
     "shell.execute_reply": "2023-12-24T23:38:58.719250Z"
    },
    "papermill": {
     "duration": 0.022602,
     "end_time": "2023-12-24T23:38:58.721245",
     "exception": false,
     "start_time": "2023-12-24T23:38:58.698643",
     "status": "completed"
    },
    "tags": []
   },
   "outputs": [],
   "source": [
    "def prepare(data: pd.DataFrame) -> pd.DataFrame:\n",
    "    data = data.loc[\n",
    "        (\n",
    "            data.public_event == True\n",
    "        ) & (\n",
    "            ~data.project_name.isin([\n",
    "                'Skills Development',\n",
    "            ])\n",
    "        )\n",
    "    ]\n",
    "    data = data.drop(columns=['public_event'])\n",
    "    return data\n",
    "\n",
    "\n",
    "orders = pd.read_csv(\n",
    "    '../../../../data/metrics/events/tickets/orders.csv',\n",
    "    usecols=[\n",
    "        'created_at',\n",
    "        'project_name',\n",
    "        'public_event',\n",
    "        'number_of_tickets'\n",
    "    ],\n",
    "    parse_dates=['created_at']\n",
    ").pipe(prepare)"
   ]
  },
  {
   "cell_type": "markdown",
   "id": "1b4ebf6f",
   "metadata": {
    "papermill": {
     "duration": 0.002071,
     "end_time": "2023-12-24T23:38:58.725530",
     "exception": false,
     "start_time": "2023-12-24T23:38:58.723459",
     "status": "completed"
    },
    "tags": []
   },
   "source": [
    "Define functions to count and sum tickets, and to append cumulative versions of those."
   ]
  },
  {
   "cell_type": "code",
   "execution_count": 3,
   "id": "7b59d975",
   "metadata": {
    "execution": {
     "iopub.execute_input": "2023-12-24T23:38:58.731038Z",
     "iopub.status.busy": "2023-12-24T23:38:58.730554Z",
     "iopub.status.idle": "2023-12-24T23:38:58.734572Z",
     "shell.execute_reply": "2023-12-24T23:38:58.733935Z"
    },
    "papermill": {
     "duration": 0.008235,
     "end_time": "2023-12-24T23:38:58.735880",
     "exception": false,
     "start_time": "2023-12-24T23:38:58.727645",
     "status": "completed"
    },
    "tags": []
   },
   "outputs": [],
   "source": [
    "def count_and_sum(series):\n",
    "    return pd.concat([\n",
    "        series.count().to_frame('orders'),\n",
    "        series.sum().to_frame('tickets'),\n",
    "    ], axis=1)\n",
    "\n",
    "\n",
    "def cumulate(df: pd.DataFrame) -> pd.DataFrame:\n",
    "    return pd.concat([\n",
    "        df,\n",
    "        df.cumsum().rename(columns=lambda x: f'cumulative_{x}')\n",
    "    ], axis=1)"
   ]
  },
  {
   "cell_type": "markdown",
   "id": "1a42cd70",
   "metadata": {
    "papermill": {
     "duration": 0.002137,
     "end_time": "2023-12-24T23:38:58.740150",
     "exception": false,
     "start_time": "2023-12-24T23:38:58.738013",
     "status": "completed"
    },
    "tags": []
   },
   "source": [
    "Create output directory"
   ]
  },
  {
   "cell_type": "code",
   "execution_count": 4,
   "id": "dab0db11",
   "metadata": {
    "execution": {
     "iopub.execute_input": "2023-12-24T23:38:58.745456Z",
     "iopub.status.busy": "2023-12-24T23:38:58.745095Z",
     "iopub.status.idle": "2023-12-24T23:38:58.748093Z",
     "shell.execute_reply": "2023-12-24T23:38:58.747598Z"
    },
    "papermill": {
     "duration": 0.007061,
     "end_time": "2023-12-24T23:38:58.749367",
     "exception": false,
     "start_time": "2023-12-24T23:38:58.742306",
     "status": "completed"
    },
    "tags": []
   },
   "outputs": [],
   "source": [
    "OUTPUT_DIR = Path('../../../../docs/metrics/tickets/_data/')\n",
    "OUTPUT_DIR.mkdir(parents=True, exist_ok=True)"
   ]
  },
  {
   "cell_type": "markdown",
   "id": "f1ae7516",
   "metadata": {
    "papermill": {
     "duration": 0.002199,
     "end_time": "2023-12-24T23:38:58.754574",
     "exception": false,
     "start_time": "2023-12-24T23:38:58.752375",
     "status": "completed"
    },
    "tags": []
   },
   "source": [
    "Count / sum the orders and tickets by project code and save to a JSON file"
   ]
  },
  {
   "cell_type": "code",
   "execution_count": 5,
   "id": "e5ffb7fc",
   "metadata": {
    "execution": {
     "iopub.execute_input": "2023-12-24T23:38:58.759946Z",
     "iopub.status.busy": "2023-12-24T23:38:58.759591Z",
     "iopub.status.idle": "2023-12-24T23:38:58.765907Z",
     "shell.execute_reply": "2023-12-24T23:38:58.765298Z"
    },
    "papermill": {
     "duration": 0.01055,
     "end_time": "2023-12-24T23:38:58.767301",
     "exception": false,
     "start_time": "2023-12-24T23:38:58.756751",
     "status": "completed"
    },
    "tags": []
   },
   "outputs": [],
   "source": [
    "by_project = orders.groupby('project_name').number_of_tickets.pipe(count_and_sum)\n",
    "by_project.loc['total']= by_project.sum()\n",
    "by_project.T.to_json(\n",
    "  OUTPUT_DIR.joinpath('headlines.json'),\n",
    "  indent=2\n",
    ")"
   ]
  },
  {
   "cell_type": "markdown",
   "id": "c2f32e58",
   "metadata": {
    "papermill": {
     "duration": 0.002278,
     "end_time": "2023-12-24T23:38:58.771768",
     "exception": false,
     "start_time": "2023-12-24T23:38:58.769490",
     "status": "completed"
    },
    "tags": []
   },
   "source": [
    "Add `day` column"
   ]
  },
  {
   "cell_type": "code",
   "execution_count": 6,
   "id": "b0bfba03",
   "metadata": {
    "execution": {
     "iopub.execute_input": "2023-12-24T23:38:58.777168Z",
     "iopub.status.busy": "2023-12-24T23:38:58.776784Z",
     "iopub.status.idle": "2023-12-24T23:38:58.780555Z",
     "shell.execute_reply": "2023-12-24T23:38:58.780015Z"
    },
    "papermill": {
     "duration": 0.007821,
     "end_time": "2023-12-24T23:38:58.781770",
     "exception": false,
     "start_time": "2023-12-24T23:38:58.773949",
     "status": "completed"
    },
    "tags": []
   },
   "outputs": [],
   "source": [
    "orders['day'] = orders.created_at.dt.floor('D')"
   ]
  },
  {
   "cell_type": "code",
   "execution_count": 7,
   "id": "278cb52c",
   "metadata": {
    "execution": {
     "iopub.execute_input": "2023-12-24T23:38:58.787336Z",
     "iopub.status.busy": "2023-12-24T23:38:58.786961Z",
     "iopub.status.idle": "2023-12-24T23:38:58.796117Z",
     "shell.execute_reply": "2023-12-24T23:38:58.795592Z"
    },
    "papermill": {
     "duration": 0.013307,
     "end_time": "2023-12-24T23:38:58.797351",
     "exception": false,
     "start_time": "2023-12-24T23:38:58.784044",
     "status": "completed"
    },
    "tags": []
   },
   "outputs": [
    {
     "data": {
      "text/html": [
       "<div>\n",
       "<style scoped>\n",
       "    .dataframe tbody tr th:only-of-type {\n",
       "        vertical-align: middle;\n",
       "    }\n",
       "\n",
       "    .dataframe tbody tr th {\n",
       "        vertical-align: top;\n",
       "    }\n",
       "\n",
       "    .dataframe thead th {\n",
       "        text-align: right;\n",
       "    }\n",
       "</style>\n",
       "<table border=\"1\" class=\"dataframe\">\n",
       "  <thead>\n",
       "    <tr style=\"text-align: right;\">\n",
       "      <th></th>\n",
       "      <th>created_at</th>\n",
       "      <th>day</th>\n",
       "    </tr>\n",
       "  </thead>\n",
       "  <tbody>\n",
       "    <tr>\n",
       "      <th>176</th>\n",
       "      <td>2023-03-30 16:58:03</td>\n",
       "      <td>2023-03-30</td>\n",
       "    </tr>\n",
       "    <tr>\n",
       "      <th>177</th>\n",
       "      <td>2023-03-30 18:44:08</td>\n",
       "      <td>2023-03-30</td>\n",
       "    </tr>\n",
       "    <tr>\n",
       "      <th>180</th>\n",
       "      <td>2023-03-30 20:32:43</td>\n",
       "      <td>2023-03-30</td>\n",
       "    </tr>\n",
       "    <tr>\n",
       "      <th>181</th>\n",
       "      <td>2023-03-30 21:27:59</td>\n",
       "      <td>2023-03-30</td>\n",
       "    </tr>\n",
       "    <tr>\n",
       "      <th>183</th>\n",
       "      <td>2023-03-30 22:56:31</td>\n",
       "      <td>2023-03-30</td>\n",
       "    </tr>\n",
       "  </tbody>\n",
       "</table>\n",
       "</div>"
      ],
      "text/plain": [
       "             created_at        day\n",
       "176 2023-03-30 16:58:03 2023-03-30\n",
       "177 2023-03-30 18:44:08 2023-03-30\n",
       "180 2023-03-30 20:32:43 2023-03-30\n",
       "181 2023-03-30 21:27:59 2023-03-30\n",
       "183 2023-03-30 22:56:31 2023-03-30"
      ]
     },
     "execution_count": 7,
     "metadata": {},
     "output_type": "execute_result"
    }
   ],
   "source": [
    "orders.loc[:, ['created_at', 'day']].head()"
   ]
  },
  {
   "cell_type": "markdown",
   "id": "2697c61b",
   "metadata": {
    "papermill": {
     "duration": 0.002429,
     "end_time": "2023-12-24T23:38:58.802430",
     "exception": false,
     "start_time": "2023-12-24T23:38:58.800001",
     "status": "completed"
    },
    "tags": []
   },
   "source": [
    "Save table cumulative weekly per project"
   ]
  },
  {
   "cell_type": "code",
   "execution_count": 8,
   "id": "4fa175dc",
   "metadata": {
    "execution": {
     "iopub.execute_input": "2023-12-24T23:38:58.808182Z",
     "iopub.status.busy": "2023-12-24T23:38:58.807825Z",
     "iopub.status.idle": "2023-12-24T23:38:58.817657Z",
     "shell.execute_reply": "2023-12-24T23:38:58.817170Z"
    },
    "papermill": {
     "duration": 0.014179,
     "end_time": "2023-12-24T23:38:58.818956",
     "exception": false,
     "start_time": "2023-12-24T23:38:58.804777",
     "status": "completed"
    },
    "tags": []
   },
   "outputs": [],
   "source": [
    "orders.groupby(\n",
    "  ['day', 'project_name']\n",
    ").number_of_tickets.pipe(\n",
    "  count_and_sum\n",
    ").tickets.unstack().fillna(0).resample('W-FRI').sum().cumsum().rename_axis('week').to_csv(\n",
    "  OUTPUT_DIR.joinpath('by_project_cumulative_weekly.csv')\n",
    ")"
   ]
  },
  {
   "cell_type": "markdown",
   "id": "1c25661d",
   "metadata": {
    "papermill": {
     "duration": 0.00241,
     "end_time": "2023-12-24T23:38:58.823881",
     "exception": false,
     "start_time": "2023-12-24T23:38:58.821471",
     "status": "completed"
    },
    "tags": []
   },
   "source": [
    "Save cumulative monthly sales"
   ]
  },
  {
   "cell_type": "code",
   "execution_count": 9,
   "id": "9e8582cc",
   "metadata": {
    "execution": {
     "iopub.execute_input": "2023-12-24T23:38:58.829700Z",
     "iopub.status.busy": "2023-12-24T23:38:58.829318Z",
     "iopub.status.idle": "2023-12-24T23:38:58.836040Z",
     "shell.execute_reply": "2023-12-24T23:38:58.835434Z"
    },
    "papermill": {
     "duration": 0.011254,
     "end_time": "2023-12-24T23:38:58.837544",
     "exception": false,
     "start_time": "2023-12-24T23:38:58.826290",
     "status": "completed"
    },
    "tags": []
   },
   "outputs": [],
   "source": [
    "orders.groupby(['day']).number_of_tickets.pipe(count_and_sum).resample('MS').sum().pipe(cumulate).rename_axis('month').to_csv(\n",
    "  OUTPUT_DIR.joinpath('monthly_cumulative.csv')\n",
    ")"
   ]
  },
  {
   "cell_type": "code",
   "execution_count": null,
   "id": "529cf522",
   "metadata": {
    "papermill": {
     "duration": 0.002527,
     "end_time": "2023-12-24T23:38:58.842571",
     "exception": false,
     "start_time": "2023-12-24T23:38:58.840044",
     "status": "completed"
    },
    "tags": []
   },
   "outputs": [],
   "source": []
  }
 ],
 "metadata": {
  "kernelspec": {
   "display_name": "leeds-2023-YZF5GfJv",
   "language": "python",
   "name": "python3"
  },
  "language_info": {
   "codemirror_mode": {
    "name": "ipython",
    "version": 3
   },
   "file_extension": ".py",
   "mimetype": "text/x-python",
   "name": "python",
   "nbconvert_exporter": "python",
   "pygments_lexer": "ipython3",
   "version": "3.10.13"
  },
  "papermill": {
   "default_parameters": {},
   "duration": 1.85452,
   "end_time": "2023-12-24T23:38:59.061488",
   "environment_variables": {},
   "exception": null,
   "input_path": "prepare.ipynb",
   "output_path": "../../../../working/output/tickets-prepare.ipynb",
   "parameters": {},
   "start_time": "2023-12-24T23:38:57.206968",
   "version": "2.4.0"
  }
 },
 "nbformat": 4,
 "nbformat_minor": 5
}