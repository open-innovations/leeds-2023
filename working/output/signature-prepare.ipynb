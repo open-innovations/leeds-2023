{
 "cells": [
  {
   "cell_type": "code",
   "execution_count": 1,
   "id": "1d300709",
   "metadata": {
    "execution": {
     "iopub.execute_input": "2023-12-20T19:13:51.158177Z",
     "iopub.status.busy": "2023-12-20T19:13:51.157958Z",
     "iopub.status.idle": "2023-12-20T19:13:56.464720Z",
     "shell.execute_reply": "2023-12-20T19:13:56.464292Z"
    },
    "papermill": {
     "duration": 5.310291,
     "end_time": "2023-12-20T19:13:56.465799",
     "exception": false,
     "start_time": "2023-12-20T19:13:51.155508",
     "status": "completed"
    },
    "tags": []
   },
   "outputs": [],
   "source": [
    "import os\n",
    "import pandas as pd\n",
    "from events import load_event_data, get_first_ward, normalise_ward"
   ]
  },
  {
   "cell_type": "code",
   "execution_count": 2,
   "id": "5364a16b",
   "metadata": {
    "execution": {
     "iopub.execute_input": "2023-12-20T19:13:56.468919Z",
     "iopub.status.busy": "2023-12-20T19:13:56.468780Z",
     "iopub.status.idle": "2023-12-20T19:13:56.471148Z",
     "shell.execute_reply": "2023-12-20T19:13:56.470865Z"
    },
    "papermill": {
     "duration": 0.004699,
     "end_time": "2023-12-20T19:13:56.471779",
     "exception": false,
     "start_time": "2023-12-20T19:13:56.467080",
     "status": "completed"
    },
    "tags": []
   },
   "outputs": [],
   "source": [
    "latest_date = pd.Timestamp.today().ceil('D')"
   ]
  },
  {
   "cell_type": "code",
   "execution_count": 3,
   "id": "97b1c15f",
   "metadata": {
    "execution": {
     "iopub.execute_input": "2023-12-20T19:13:56.474505Z",
     "iopub.status.busy": "2023-12-20T19:13:56.474271Z",
     "iopub.status.idle": "2023-12-20T19:13:56.485100Z",
     "shell.execute_reply": "2023-12-20T19:13:56.484758Z"
    },
    "papermill": {
     "duration": 0.013142,
     "end_time": "2023-12-20T19:13:56.485956",
     "exception": false,
     "start_time": "2023-12-20T19:13:56.472814",
     "status": "completed"
    },
    "tags": []
   },
   "outputs": [],
   "source": [
    "tickets = pd.read_csv('../../../../data/metrics/events/tickets/orders.csv', parse_dates=['created_at', 'event_date'])\n",
    "tickets = tickets[tickets.event_date <= latest_date]"
   ]
  },
  {
   "cell_type": "code",
   "execution_count": 4,
   "id": "f7ba3d44",
   "metadata": {
    "execution": {
     "iopub.execute_input": "2023-12-20T19:13:56.488728Z",
     "iopub.status.busy": "2023-12-20T19:13:56.488535Z",
     "iopub.status.idle": "2023-12-20T19:13:56.520948Z",
     "shell.execute_reply": "2023-12-20T19:13:56.520511Z"
    },
    "papermill": {
     "duration": 0.034976,
     "end_time": "2023-12-20T19:13:56.522040",
     "exception": false,
     "start_time": "2023-12-20T19:13:56.487064",
     "status": "completed"
    },
    "tags": []
   },
   "outputs": [],
   "source": [
    "events = load_event_data()\n",
    "\n",
    "events = pd.concat([\n",
    "  events,\n",
    "  events.pipe(get_first_ward).pipe(normalise_ward).fillna('UNKNOWN'),\n",
    "  pd.Series(\n",
    "      events.actual_audience_size_number_of_participants_in_person + events.actual_audience_size_number_of_participants_online,\n",
    "      name='attendances'\n",
    "  )\n",
    "], axis=1).rename(columns={\n",
    "    'start_date': 'date'\n",
    "}).loc[:, ['ward_code', 'date', 'event_unique_identifier', 'attendances']]"
   ]
  },
  {
   "cell_type": "code",
   "execution_count": 5,
   "id": "06352082",
   "metadata": {
    "execution": {
     "iopub.execute_input": "2023-12-20T19:13:56.524947Z",
     "iopub.status.busy": "2023-12-20T19:13:56.524810Z",
     "iopub.status.idle": "2023-12-20T19:13:56.526942Z",
     "shell.execute_reply": "2023-12-20T19:13:56.526632Z"
    },
    "papermill": {
     "duration": 0.004487,
     "end_time": "2023-12-20T19:13:56.527685",
     "exception": false,
     "start_time": "2023-12-20T19:13:56.523198",
     "status": "completed"
    },
    "tags": []
   },
   "outputs": [],
   "source": [
    "OUTPUT_DIR='../../../../docs/metrics/events/signature/_data/'\n",
    "os.makedirs(OUTPUT_DIR, exist_ok=True)"
   ]
  },
  {
   "cell_type": "markdown",
   "id": "093d209a",
   "metadata": {
    "papermill": {
     "duration": 0.00108,
     "end_time": "2023-12-20T19:13:56.529840",
     "exception": false,
     "start_time": "2023-12-20T19:13:56.528760",
     "status": "completed"
    },
    "tags": []
   },
   "source": [
    "Events CSVs"
   ]
  },
  {
   "cell_type": "code",
   "execution_count": 6,
   "id": "d038801a",
   "metadata": {
    "execution": {
     "iopub.execute_input": "2023-12-20T19:13:56.532493Z",
     "iopub.status.busy": "2023-12-20T19:13:56.532282Z",
     "iopub.status.idle": "2023-12-20T19:13:56.536113Z",
     "shell.execute_reply": "2023-12-20T19:13:56.535788Z"
    },
    "papermill": {
     "duration": 0.005995,
     "end_time": "2023-12-20T19:13:56.536846",
     "exception": false,
     "start_time": "2023-12-20T19:13:56.530851",
     "status": "completed"
    },
    "tags": []
   },
   "outputs": [],
   "source": [
    "pd.DataFrame({\n",
    "  'events': events.groupby('ward_code').event_unique_identifier.count(),\n",
    "  'attendances': events.groupby('ward_code').attendances.sum().astype(int),\n",
    "}).to_csv(os.path.join(OUTPUT_DIR, 'events_by_ward.csv'))\n"
   ]
  },
  {
   "cell_type": "code",
   "execution_count": 7,
   "id": "9dbdf5a5",
   "metadata": {
    "execution": {
     "iopub.execute_input": "2023-12-20T19:13:56.539646Z",
     "iopub.status.busy": "2023-12-20T19:13:56.539462Z",
     "iopub.status.idle": "2023-12-20T19:13:56.544457Z",
     "shell.execute_reply": "2023-12-20T19:13:56.544146Z"
    },
    "papermill": {
     "duration": 0.007338,
     "end_time": "2023-12-20T19:13:56.545280",
     "exception": false,
     "start_time": "2023-12-20T19:13:56.537942",
     "status": "completed"
    },
    "tags": []
   },
   "outputs": [],
   "source": [
    "pd.DataFrame({\n",
    "  'events': events.groupby('date').event_unique_identifier.count(),\n",
    "  'attendances': events.groupby('date').attendances.sum().astype(int),\n",
    "}).resample('M').sum().astype(int).to_csv(os.path.join(OUTPUT_DIR, 'events_by_date.csv'))"
   ]
  },
  {
   "cell_type": "markdown",
   "id": "59de8da6",
   "metadata": {
    "papermill": {
     "duration": 0.001212,
     "end_time": "2023-12-20T19:13:56.547668",
     "exception": false,
     "start_time": "2023-12-20T19:13:56.546456",
     "status": "completed"
    },
    "tags": []
   },
   "source": [
    "Tickets CSV"
   ]
  },
  {
   "cell_type": "code",
   "execution_count": 8,
   "id": "835bc947",
   "metadata": {
    "execution": {
     "iopub.execute_input": "2023-12-20T19:13:56.550466Z",
     "iopub.status.busy": "2023-12-20T19:13:56.550320Z",
     "iopub.status.idle": "2023-12-20T19:13:56.554481Z",
     "shell.execute_reply": "2023-12-20T19:13:56.554158Z"
    },
    "papermill": {
     "duration": 0.006383,
     "end_time": "2023-12-20T19:13:56.555152",
     "exception": false,
     "start_time": "2023-12-20T19:13:56.548769",
     "status": "completed"
    },
    "tags": []
   },
   "outputs": [],
   "source": [
    "pd.DataFrame({\n",
    "  'orders': tickets.groupby('ward_code').number_of_tickets.count(),\n",
    "  'tickets': tickets.groupby('ward_code').number_of_tickets.sum().astype(int),\n",
    "}).to_csv(os.path.join(OUTPUT_DIR, 'tickets_by_ward.csv'))"
   ]
  },
  {
   "cell_type": "code",
   "execution_count": 9,
   "id": "e5426e7a",
   "metadata": {
    "execution": {
     "iopub.execute_input": "2023-12-20T19:13:56.558027Z",
     "iopub.status.busy": "2023-12-20T19:13:56.557840Z",
     "iopub.status.idle": "2023-12-20T19:13:56.562402Z",
     "shell.execute_reply": "2023-12-20T19:13:56.562082Z"
    },
    "papermill": {
     "duration": 0.006744,
     "end_time": "2023-12-20T19:13:56.563047",
     "exception": false,
     "start_time": "2023-12-20T19:13:56.556303",
     "status": "completed"
    },
    "tags": []
   },
   "outputs": [],
   "source": [
    "pd.DataFrame({\n",
    "  'orders': tickets.groupby('event_date').number_of_tickets.count(),\n",
    "  'tickets': tickets.groupby('event_date').number_of_tickets.sum().astype(int),\n",
    "}).resample('M').sum().to_csv(os.path.join(OUTPUT_DIR, 'tickets_by_event_date.csv'))"
   ]
  },
  {
   "cell_type": "code",
   "execution_count": 10,
   "id": "aac61e9e",
   "metadata": {
    "execution": {
     "iopub.execute_input": "2023-12-20T19:13:56.566477Z",
     "iopub.status.busy": "2023-12-20T19:13:56.566267Z",
     "iopub.status.idle": "2023-12-20T19:13:56.569197Z",
     "shell.execute_reply": "2023-12-20T19:13:56.568881Z"
    },
    "papermill": {
     "duration": 0.005632,
     "end_time": "2023-12-20T19:13:56.569843",
     "exception": false,
     "start_time": "2023-12-20T19:13:56.564211",
     "status": "completed"
    },
    "tags": []
   },
   "outputs": [],
   "source": [
    "pd.Series({\n",
    "    'total_events': events.event_unique_identifier.count(),\n",
    "    'total_attendances': events.attendances.count(),\n",
    "    'first_event': events.date.min(),\n",
    "    'latest_event': events.date.max(),\n",
    "    'total_ticket_orders_for_events_to_date': tickets.number_of_tickets.count(),\n",
    "    'total_tickets_sold_for_events_to_date': tickets.number_of_tickets.sum(),\n",
    "}).to_json(os.path.join(OUTPUT_DIR, 'headlines.json'), indent=2)"
   ]
  },
  {
   "cell_type": "code",
   "execution_count": null,
   "id": "1140c295",
   "metadata": {
    "papermill": {
     "duration": 0.001124,
     "end_time": "2023-12-20T19:13:56.572206",
     "exception": false,
     "start_time": "2023-12-20T19:13:56.571082",
     "status": "completed"
    },
    "tags": []
   },
   "outputs": [],
   "source": []
  }
 ],
 "metadata": {
  "kernelspec": {
   "display_name": "leeds-2023-YZF5GfJv",
   "language": "python",
   "name": "python3"
  },
  "language_info": {
   "codemirror_mode": {
    "name": "ipython",
    "version": 3
   },
   "file_extension": ".py",
   "mimetype": "text/x-python",
   "name": "python",
   "nbconvert_exporter": "python",
   "pygments_lexer": "ipython3",
   "version": "3.10.12"
  },
  "papermill": {
   "default_parameters": {},
   "duration": 6.35215,
   "end_time": "2023-12-20T19:13:56.787289",
   "environment_variables": {},
   "exception": null,
   "input_path": "prepare.ipynb",
   "output_path": "../../../../working/output/signature-prepare.ipynb",
   "parameters": {},
   "start_time": "2023-12-20T19:13:50.435139",
   "version": "2.4.0"
  }
 },
 "nbformat": 4,
 "nbformat_minor": 5
}