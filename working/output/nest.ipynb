{
 "cells": [
  {
   "cell_type": "markdown",
   "id": "3ef012dd",
   "metadata": {
    "papermill": {
     "duration": 0.004362,
     "end_time": "2023-10-10T11:29:18.033865",
     "exception": false,
     "start_time": "2023-10-10T11:29:18.029503",
     "status": "completed"
    },
    "tags": []
   },
   "source": [
    "# Nest\n",
    "\n",
    "Prepares data for the Nest page "
   ]
  },
  {
   "cell_type": "code",
   "execution_count": 1,
   "id": "e78a5fbb",
   "metadata": {
    "execution": {
     "iopub.execute_input": "2023-10-10T11:29:18.036398Z",
     "iopub.status.busy": "2023-10-10T11:29:18.036232Z",
     "iopub.status.idle": "2023-10-10T11:29:22.859510Z",
     "shell.execute_reply": "2023-10-10T11:29:22.859027Z"
    },
    "papermill": {
     "duration": 4.825824,
     "end_time": "2023-10-10T11:29:22.860601",
     "exception": false,
     "start_time": "2023-10-10T11:29:18.034777",
     "status": "completed"
    },
    "tags": []
   },
   "outputs": [],
   "source": [
    "import os\n",
    "from events import (\n",
    "    load_event_data, filter_by_project, prepare, save_files, count_wards\n",
    ")"
   ]
  },
  {
   "cell_type": "markdown",
   "id": "0e896eaf",
   "metadata": {
    "papermill": {
     "duration": 0.000803,
     "end_time": "2023-10-10T11:29:22.862452",
     "exception": false,
     "start_time": "2023-10-10T11:29:22.861649",
     "status": "completed"
    },
    "tags": []
   },
   "source": [
    "Set output directory"
   ]
  },
  {
   "cell_type": "code",
   "execution_count": 2,
   "id": "946d3c79",
   "metadata": {
    "execution": {
     "iopub.execute_input": "2023-10-10T11:29:22.864650Z",
     "iopub.status.busy": "2023-10-10T11:29:22.864449Z",
     "iopub.status.idle": "2023-10-10T11:29:22.866384Z",
     "shell.execute_reply": "2023-10-10T11:29:22.866120Z"
    },
    "papermill": {
     "duration": 0.003915,
     "end_time": "2023-10-10T11:29:22.867134",
     "exception": false,
     "start_time": "2023-10-10T11:29:22.863219",
     "status": "completed"
    },
    "tags": []
   },
   "outputs": [],
   "source": [
    "OUT_DIR = '../../../../docs/metrics/events/nest/_data/events'"
   ]
  },
  {
   "cell_type": "markdown",
   "id": "4a082e98",
   "metadata": {
    "papermill": {
     "duration": 0.000719,
     "end_time": "2023-10-10T11:29:22.868657",
     "exception": false,
     "start_time": "2023-10-10T11:29:22.867938",
     "status": "completed"
    },
    "tags": []
   },
   "source": [
    "Read in event data and filter by **My LEEDS 2023** project.\n",
    "\n",
    "The criteria are:\n",
    "\n",
    "* project type is 'Produce (Signature)'\n",
    "* event_type contains 'Public Event -'\n",
    "\n",
    "It's then filtered by project_name is '10 - Melt'"
   ]
  },
  {
   "cell_type": "code",
   "execution_count": 3,
   "id": "5df6679f",
   "metadata": {
    "execution": {
     "iopub.execute_input": "2023-10-10T11:29:22.870625Z",
     "iopub.status.busy": "2023-10-10T11:29:22.870479Z",
     "iopub.status.idle": "2023-10-10T11:29:22.884556Z",
     "shell.execute_reply": "2023-10-10T11:29:22.884271Z"
    },
    "papermill": {
     "duration": 0.01585,
     "end_time": "2023-10-10T11:29:22.885230",
     "exception": false,
     "start_time": "2023-10-10T11:29:22.869380",
     "status": "completed"
    },
    "tags": []
   },
   "outputs": [
    {
     "data": {
      "text/html": [
       "<div>\n",
       "<style scoped>\n",
       "    .dataframe tbody tr th:only-of-type {\n",
       "        vertical-align: middle;\n",
       "    }\n",
       "\n",
       "    .dataframe tbody tr th {\n",
       "        vertical-align: top;\n",
       "    }\n",
       "\n",
       "    .dataframe thead th {\n",
       "        text-align: right;\n",
       "    }\n",
       "</style>\n",
       "<table border=\"1\" class=\"dataframe\">\n",
       "  <thead>\n",
       "    <tr style=\"text-align: right;\">\n",
       "      <th></th>\n",
       "      <th>actual_audience_size_number_of_participants_in_person</th>\n",
       "      <th>actual_audience_size_number_of_participants_online</th>\n",
       "      <th>airtable_id</th>\n",
       "      <th>end_date</th>\n",
       "      <th>event_name</th>\n",
       "      <th>event_type</th>\n",
       "      <th>event_unique_identifier</th>\n",
       "      <th>number_of_booked_participants</th>\n",
       "      <th>postcode_(from_venue)</th>\n",
       "      <th>project_name</th>\n",
       "      <th>project_type</th>\n",
       "      <th>season</th>\n",
       "      <th>start_date</th>\n",
       "      <th>ward_(from_venue)</th>\n",
       "    </tr>\n",
       "  </thead>\n",
       "  <tbody>\n",
       "    <tr>\n",
       "      <th>1054</th>\n",
       "      <td>1338.0</td>\n",
       "      <td>NaN</td>\n",
       "      <td>241</td>\n",
       "      <td>2023-09-09</td>\n",
       "      <td>Melt (Run)</td>\n",
       "      <td>['Public Event - Performance']</td>\n",
       "      <td>10 - Melt: Melt (Run)</td>\n",
       "      <td>1542.0</td>\n",
       "      <td>['LS26 8AL']</td>\n",
       "      <td>10 - Melt</td>\n",
       "      <td>Produce (Signature)</td>\n",
       "      <td>['Season 3 - Dreaming']</td>\n",
       "      <td>2023-09-05</td>\n",
       "      <td>['Garforth and Swillington']</td>\n",
       "    </tr>\n",
       "  </tbody>\n",
       "</table>\n",
       "</div>"
      ],
      "text/plain": [
       "      actual_audience_size_number_of_participants_in_person  \\\n",
       "1054                                             1338.0       \n",
       "\n",
       "      actual_audience_size_number_of_participants_online  airtable_id  \\\n",
       "1054                                                NaN           241   \n",
       "\n",
       "        end_date  event_name                      event_type  \\\n",
       "1054  2023-09-09  Melt (Run)  ['Public Event - Performance']   \n",
       "\n",
       "     event_unique_identifier  number_of_booked_participants  \\\n",
       "1054   10 - Melt: Melt (Run)                         1542.0   \n",
       "\n",
       "     postcode_(from_venue) project_name         project_type  \\\n",
       "1054          ['LS26 8AL']    10 - Melt  Produce (Signature)   \n",
       "\n",
       "                       season start_date             ward_(from_venue)  \n",
       "1054  ['Season 3 - Dreaming'] 2023-09-05  ['Garforth and Swillington']  "
      ]
     },
     "execution_count": 3,
     "metadata": {},
     "output_type": "execute_result"
    }
   ],
   "source": [
    "data = load_event_data().pipe(filter_by_project, '10 - Melt')\n",
    "data"
   ]
  },
  {
   "cell_type": "markdown",
   "id": "cdac2785",
   "metadata": {
    "papermill": {
     "duration": 0.000869,
     "end_time": "2023-10-10T11:29:22.887099",
     "exception": false,
     "start_time": "2023-10-10T11:29:22.886230",
     "status": "completed"
    },
    "tags": []
   },
   "source": [
    "Run the processing and save the files"
   ]
  },
  {
   "cell_type": "code",
   "execution_count": 4,
   "id": "ca8d0301",
   "metadata": {
    "execution": {
     "iopub.execute_input": "2023-10-10T11:29:22.889363Z",
     "iopub.status.busy": "2023-10-10T11:29:22.889180Z",
     "iopub.status.idle": "2023-10-10T11:29:22.905062Z",
     "shell.execute_reply": "2023-10-10T11:29:22.904735Z"
    },
    "papermill": {
     "duration": 0.017913,
     "end_time": "2023-10-10T11:29:22.905884",
     "exception": false,
     "start_time": "2023-10-10T11:29:22.887971",
     "status": "completed"
    },
    "tags": []
   },
   "outputs": [],
   "source": [
    "data = data.pipe(prepare).pipe(save_files, OUT_DIR)"
   ]
  }
 ],
 "metadata": {
  "kernelspec": {
   "display_name": "leeds-2023-YZF5GfJv",
   "language": "python",
   "name": "python3"
  },
  "language_info": {
   "codemirror_mode": {
    "name": "ipython",
    "version": 3
   },
   "file_extension": ".py",
   "mimetype": "text/x-python",
   "name": "python",
   "nbconvert_exporter": "python",
   "pygments_lexer": "ipython3",
   "version": "3.10.12"
  },
  "papermill": {
   "default_parameters": {},
   "duration": 5.948413,
   "end_time": "2023-10-10T11:29:23.121355",
   "environment_variables": {},
   "exception": null,
   "input_path": "nest.ipynb",
   "output_path": "../../../../working/output/nest.ipynb",
   "parameters": {},
   "start_time": "2023-10-10T11:29:17.172942",
   "version": "2.4.0"
  }
 },
 "nbformat": 4,
 "nbformat_minor": 5
}