{
 "cells": [
  {
   "cell_type": "markdown",
   "id": "15c51a06",
   "metadata": {
    "papermill": {
     "duration": 0.003153,
     "end_time": "2023-07-23T23:38:38.603573",
     "exception": false,
     "start_time": "2023-07-23T23:38:38.600420",
     "status": "completed"
    },
    "tags": []
   },
   "source": [
    "# The Barn\n",
    "\n",
    "Prepares data for The Barn signature events page"
   ]
  },
  {
   "cell_type": "code",
   "execution_count": 1,
   "id": "a67e5b47",
   "metadata": {
    "execution": {
     "iopub.execute_input": "2023-07-23T23:38:38.610050Z",
     "iopub.status.busy": "2023-07-23T23:38:38.609428Z",
     "iopub.status.idle": "2023-07-23T23:38:47.949998Z",
     "shell.execute_reply": "2023-07-23T23:38:47.949303Z"
    },
    "papermill": {
     "duration": 9.346187,
     "end_time": "2023-07-23T23:38:47.952294",
     "exception": false,
     "start_time": "2023-07-23T23:38:38.606107",
     "status": "completed"
    },
    "tags": []
   },
   "outputs": [],
   "source": [
    "from events import (\n",
    "    load_event_data, filter_by_project, prepare, save_files, count_wards\n",
    ")"
   ]
  },
  {
   "cell_type": "markdown",
   "id": "0ab74de1",
   "metadata": {
    "papermill": {
     "duration": 0.002048,
     "end_time": "2023-07-23T23:38:47.956638",
     "exception": false,
     "start_time": "2023-07-23T23:38:47.954590",
     "status": "completed"
    },
    "tags": []
   },
   "source": [
    "Set an output directory"
   ]
  },
  {
   "cell_type": "code",
   "execution_count": 2,
   "id": "8dae2cf7",
   "metadata": {
    "execution": {
     "iopub.execute_input": "2023-07-23T23:38:47.961920Z",
     "iopub.status.busy": "2023-07-23T23:38:47.961488Z",
     "iopub.status.idle": "2023-07-23T23:38:47.964657Z",
     "shell.execute_reply": "2023-07-23T23:38:47.964046Z"
    },
    "papermill": {
     "duration": 0.007617,
     "end_time": "2023-07-23T23:38:47.966192",
     "exception": false,
     "start_time": "2023-07-23T23:38:47.958575",
     "status": "completed"
    },
    "tags": []
   },
   "outputs": [],
   "source": [
    "OUT_DIR = '../../../../docs/metrics/events/the-barn/_data/events'"
   ]
  },
  {
   "cell_type": "markdown",
   "id": "84b95fa6",
   "metadata": {
    "papermill": {
     "duration": 0.001896,
     "end_time": "2023-07-23T23:38:47.970021",
     "exception": false,
     "start_time": "2023-07-23T23:38:47.968125",
     "status": "completed"
    },
    "tags": []
   },
   "source": [
    "Read in event data and filter by **The Barn**"
   ]
  },
  {
   "cell_type": "code",
   "execution_count": 3,
   "id": "e5bc8189",
   "metadata": {
    "execution": {
     "iopub.execute_input": "2023-07-23T23:38:47.975253Z",
     "iopub.status.busy": "2023-07-23T23:38:47.974723Z",
     "iopub.status.idle": "2023-07-23T23:38:47.990707Z",
     "shell.execute_reply": "2023-07-23T23:38:47.989869Z"
    },
    "papermill": {
     "duration": 0.020259,
     "end_time": "2023-07-23T23:38:47.992199",
     "exception": false,
     "start_time": "2023-07-23T23:38:47.971940",
     "status": "completed"
    },
    "tags": []
   },
   "outputs": [],
   "source": [
    "data = load_event_data().pipe(filter_by_project, '05 - The Barn')"
   ]
  },
  {
   "cell_type": "markdown",
   "id": "780e502c",
   "metadata": {
    "papermill": {
     "duration": 0.00191,
     "end_time": "2023-07-23T23:38:47.996098",
     "exception": false,
     "start_time": "2023-07-23T23:38:47.994188",
     "status": "completed"
    },
    "tags": []
   },
   "source": [
    "Run the processing and save the files"
   ]
  },
  {
   "cell_type": "code",
   "execution_count": 4,
   "id": "0d4b9de8",
   "metadata": {
    "execution": {
     "iopub.execute_input": "2023-07-23T23:38:48.001363Z",
     "iopub.status.busy": "2023-07-23T23:38:48.000822Z",
     "iopub.status.idle": "2023-07-23T23:38:48.051421Z",
     "shell.execute_reply": "2023-07-23T23:38:48.050795Z"
    },
    "papermill": {
     "duration": 0.054966,
     "end_time": "2023-07-23T23:38:48.053082",
     "exception": false,
     "start_time": "2023-07-23T23:38:47.998116",
     "status": "completed"
    },
    "tags": []
   },
   "outputs": [],
   "source": [
    "data = data.pipe(prepare).pipe(save_files, OUT_DIR)"
   ]
  },
  {
   "cell_type": "markdown",
   "id": "e9025008",
   "metadata": {
    "papermill": {
     "duration": 0.002392,
     "end_time": "2023-07-23T23:38:48.057755",
     "exception": false,
     "start_time": "2023-07-23T23:38:48.055363",
     "status": "completed"
    },
    "tags": []
   },
   "source": [
    "Print a list of events which have no ward, or more than one"
   ]
  },
  {
   "cell_type": "code",
   "execution_count": 5,
   "id": "19345a19",
   "metadata": {
    "execution": {
     "iopub.execute_input": "2023-07-23T23:38:48.063137Z",
     "iopub.status.busy": "2023-07-23T23:38:48.062728Z",
     "iopub.status.idle": "2023-07-23T23:38:48.075450Z",
     "shell.execute_reply": "2023-07-23T23:38:48.074826Z"
    },
    "papermill": {
     "duration": 0.017215,
     "end_time": "2023-07-23T23:38:48.077076",
     "exception": false,
     "start_time": "2023-07-23T23:38:48.059861",
     "status": "completed"
    },
    "tags": []
   },
   "outputs": [
    {
     "data": {
      "text/html": [
       "<div>\n",
       "<style scoped>\n",
       "    .dataframe tbody tr th:only-of-type {\n",
       "        vertical-align: middle;\n",
       "    }\n",
       "\n",
       "    .dataframe tbody tr th {\n",
       "        vertical-align: top;\n",
       "    }\n",
       "\n",
       "    .dataframe thead th {\n",
       "        text-align: right;\n",
       "    }\n",
       "</style>\n",
       "<table border=\"1\" class=\"dataframe\">\n",
       "  <thead>\n",
       "    <tr style=\"text-align: right;\">\n",
       "      <th></th>\n",
       "      <th>airtable_id</th>\n",
       "      <th>event_name</th>\n",
       "      <th>start_date</th>\n",
       "      <th>ward_(from_venue)</th>\n",
       "    </tr>\n",
       "  </thead>\n",
       "  <tbody>\n",
       "    <tr>\n",
       "      <th>650</th>\n",
       "      <td>351</td>\n",
       "      <td>The Space Digital Interactive Playspace</td>\n",
       "      <td>2023-05-16</td>\n",
       "      <td>NaN</td>\n",
       "    </tr>\n",
       "    <tr>\n",
       "      <th>651</th>\n",
       "      <td>1623</td>\n",
       "      <td>The Space Digital Interactive Playspace (schoo...</td>\n",
       "      <td>2023-05-16</td>\n",
       "      <td>NaN</td>\n",
       "    </tr>\n",
       "  </tbody>\n",
       "</table>\n",
       "</div>"
      ],
      "text/plain": [
       "     airtable_id                                         event_name  \\\n",
       "650          351           The Space Digital Interactive Playspace    \n",
       "651         1623  The Space Digital Interactive Playspace (schoo...   \n",
       "\n",
       "    start_date ward_(from_venue)  \n",
       "650 2023-05-16               NaN  \n",
       "651 2023-05-16               NaN  "
      ]
     },
     "execution_count": 5,
     "metadata": {},
     "output_type": "execute_result"
    }
   ],
   "source": [
    "data[data.pipe(count_wards) != 1][[\n",
    "    'airtable_id',\n",
    "    'event_name',\n",
    "    'start_date',\n",
    "    'ward_(from_venue)',\n",
    "]]"
   ]
  },
  {
   "cell_type": "markdown",
   "id": "f3087ed1",
   "metadata": {
    "papermill": {
     "duration": 0.002178,
     "end_time": "2023-07-23T23:38:48.081499",
     "exception": false,
     "start_time": "2023-07-23T23:38:48.079321",
     "status": "completed"
    },
    "tags": []
   },
   "source": [
    "Print a list of events with no audience recorded"
   ]
  },
  {
   "cell_type": "code",
   "execution_count": 6,
   "id": "5006b4ac",
   "metadata": {
    "execution": {
     "iopub.execute_input": "2023-07-23T23:38:48.087180Z",
     "iopub.status.busy": "2023-07-23T23:38:48.086643Z",
     "iopub.status.idle": "2023-07-23T23:38:48.096967Z",
     "shell.execute_reply": "2023-07-23T23:38:48.096433Z"
    },
    "papermill": {
     "duration": 0.014656,
     "end_time": "2023-07-23T23:38:48.098387",
     "exception": false,
     "start_time": "2023-07-23T23:38:48.083731",
     "status": "completed"
    },
    "tags": []
   },
   "outputs": [
    {
     "data": {
      "text/html": [
       "<div>\n",
       "<style scoped>\n",
       "    .dataframe tbody tr th:only-of-type {\n",
       "        vertical-align: middle;\n",
       "    }\n",
       "\n",
       "    .dataframe tbody tr th {\n",
       "        vertical-align: top;\n",
       "    }\n",
       "\n",
       "    .dataframe thead th {\n",
       "        text-align: right;\n",
       "    }\n",
       "</style>\n",
       "<table border=\"1\" class=\"dataframe\">\n",
       "  <thead>\n",
       "    <tr style=\"text-align: right;\">\n",
       "      <th></th>\n",
       "      <th>airtable_id</th>\n",
       "      <th>event_name</th>\n",
       "      <th>start_date</th>\n",
       "      <th>audience_size</th>\n",
       "    </tr>\n",
       "  </thead>\n",
       "  <tbody>\n",
       "    <tr>\n",
       "      <th>626</th>\n",
       "      <td>1156</td>\n",
       "      <td>Shazia Mirza - 9pm show</td>\n",
       "      <td>2023-05-11</td>\n",
       "      <td>0.0</td>\n",
       "    </tr>\n",
       "    <tr>\n",
       "      <th>674</th>\n",
       "      <td>1162</td>\n",
       "      <td>Christie Watson</td>\n",
       "      <td>2023-05-21</td>\n",
       "      <td>0.0</td>\n",
       "    </tr>\n",
       "  </tbody>\n",
       "</table>\n",
       "</div>"
      ],
      "text/plain": [
       "     airtable_id               event_name start_date  audience_size\n",
       "626         1156  Shazia Mirza - 9pm show 2023-05-11            0.0\n",
       "674         1162          Christie Watson 2023-05-21            0.0"
      ]
     },
     "execution_count": 6,
     "metadata": {},
     "output_type": "execute_result"
    }
   ],
   "source": [
    "data[data.audience_size == 0][[\n",
    "    'airtable_id', 'event_name', 'start_date', 'audience_size'\n",
    "]]"
   ]
  },
  {
   "cell_type": "markdown",
   "id": "07267a0f",
   "metadata": {
    "papermill": {
     "duration": 0.00229,
     "end_time": "2023-07-23T23:38:48.103008",
     "exception": false,
     "start_time": "2023-07-23T23:38:48.100718",
     "status": "completed"
    },
    "tags": []
   },
   "source": [
    "Plot event types shown"
   ]
  },
  {
   "cell_type": "code",
   "execution_count": 7,
   "id": "9a0cdc13",
   "metadata": {
    "execution": {
     "iopub.execute_input": "2023-07-23T23:38:48.108959Z",
     "iopub.status.busy": "2023-07-23T23:38:48.108551Z",
     "iopub.status.idle": "2023-07-23T23:38:48.594044Z",
     "shell.execute_reply": "2023-07-23T23:38:48.593385Z"
    },
    "papermill": {
     "duration": 0.490317,
     "end_time": "2023-07-23T23:38:48.595691",
     "exception": false,
     "start_time": "2023-07-23T23:38:48.105374",
     "status": "completed"
    },
    "tags": []
   },
   "outputs": [
    {
     "data": {
      "image/png": "[encoded data removed]",
      "text/plain": [
       "<Figure size 640x480 with 1 Axes>"
      ]
     },
     "metadata": {},
     "output_type": "display_data"
    }
   ],
   "source": [
    "plot = data.groupby('event_type').event_name.count().plot.barh()\n",
    "plot.xaxis.label.set_text('Number of events')\n",
    "plot.yaxis.label.set_text('Event Type Labels')"
   ]
  }
 ],
 "metadata": {
  "kernelspec": {
   "display_name": "leeds-2023-YZF5GfJv",
   "language": "python",
   "name": "python3"
  },
  "language_info": {
   "codemirror_mode": {
    "name": "ipython",
    "version": 3
   },
   "file_extension": ".py",
   "mimetype": "text/x-python",
   "name": "python",
   "nbconvert_exporter": "python",
   "pygments_lexer": "ipython3",
   "version": "3.10.6"
  },
  "papermill": {
   "default_parameters": {},
   "duration": 11.740773,
   "end_time": "2023-07-23T23:38:49.016867",
   "environment_variables": {},
   "exception": null,
   "input_path": "the-barn.ipynb",
   "output_path": "../../../../working/output/the-barn.ipynb",
   "parameters": {},
   "start_time": "2023-07-23T23:38:37.276094",
   "version": "2.4.0"
  }
 },
 "nbformat": 4,
 "nbformat_minor": 5
}