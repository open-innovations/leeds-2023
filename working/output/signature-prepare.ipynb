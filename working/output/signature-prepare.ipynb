{
 "cells": [
  {
   "cell_type": "code",
   "execution_count": 1,
   "id": "16843bfa",
   "metadata": {
    "execution": {
     "iopub.execute_input": "2023-12-03T23:39:24.974705Z",
     "iopub.status.busy": "2023-12-03T23:39:24.974500Z",
     "iopub.status.idle": "2023-12-03T23:39:32.160011Z",
     "shell.execute_reply": "2023-12-03T23:39:32.159266Z"
    },
    "papermill": {
     "duration": 7.190492,
     "end_time": "2023-12-03T23:39:32.161822",
     "exception": false,
     "start_time": "2023-12-03T23:39:24.971330",
     "status": "completed"
    },
    "tags": []
   },
   "outputs": [],
   "source": [
    "import os\n",
    "import pandas as pd\n",
    "from events import load_event_data, get_first_ward, normalise_ward"
   ]
  },
  {
   "cell_type": "code",
   "execution_count": 2,
   "id": "5d0ff93c",
   "metadata": {
    "execution": {
     "iopub.execute_input": "2023-12-03T23:39:32.167230Z",
     "iopub.status.busy": "2023-12-03T23:39:32.166846Z",
     "iopub.status.idle": "2023-12-03T23:39:32.170397Z",
     "shell.execute_reply": "2023-12-03T23:39:32.169785Z"
    },
    "papermill": {
     "duration": 0.007514,
     "end_time": "2023-12-03T23:39:32.171706",
     "exception": false,
     "start_time": "2023-12-03T23:39:32.164192",
     "status": "completed"
    },
    "tags": []
   },
   "outputs": [],
   "source": [
    "latest_date = pd.Timestamp.today().ceil('D')"
   ]
  },
  {
   "cell_type": "code",
   "execution_count": 3,
   "id": "17447f56",
   "metadata": {
    "execution": {
     "iopub.execute_input": "2023-12-03T23:39:32.176404Z",
     "iopub.status.busy": "2023-12-03T23:39:32.176051Z",
     "iopub.status.idle": "2023-12-03T23:39:32.190900Z",
     "shell.execute_reply": "2023-12-03T23:39:32.190387Z"
    },
    "papermill": {
     "duration": 0.018728,
     "end_time": "2023-12-03T23:39:32.192284",
     "exception": false,
     "start_time": "2023-12-03T23:39:32.173556",
     "status": "completed"
    },
    "tags": []
   },
   "outputs": [],
   "source": [
    "tickets = pd.read_csv('../../../../data/metrics/events/tickets/orders.csv', parse_dates=['created_at', 'event_date'])\n",
    "tickets = tickets[tickets.event_date <= latest_date]"
   ]
  },
  {
   "cell_type": "code",
   "execution_count": 4,
   "id": "203c3b8a",
   "metadata": {
    "execution": {
     "iopub.execute_input": "2023-12-03T23:39:32.197000Z",
     "iopub.status.busy": "2023-12-03T23:39:32.196771Z",
     "iopub.status.idle": "2023-12-03T23:39:32.248905Z",
     "shell.execute_reply": "2023-12-03T23:39:32.248362Z"
    },
    "papermill": {
     "duration": 0.056089,
     "end_time": "2023-12-03T23:39:32.250263",
     "exception": false,
     "start_time": "2023-12-03T23:39:32.194174",
     "status": "completed"
    },
    "tags": []
   },
   "outputs": [],
   "source": [
    "events = load_event_data()\n",
    "\n",
    "events = pd.concat([\n",
    "  events,\n",
    "  events.pipe(get_first_ward).pipe(normalise_ward).fillna('UNKNOWN'),\n",
    "  pd.Series(\n",
    "      events.actual_audience_size_number_of_participants_in_person + events.actual_audience_size_number_of_participants_online,\n",
    "      name='attendances'\n",
    "  )\n",
    "], axis=1).rename(columns={\n",
    "    'start_date': 'date'\n",
    "}).loc[:, ['ward_code', 'date', 'event_unique_identifier', 'attendances']]"
   ]
  },
  {
   "cell_type": "code",
   "execution_count": 5,
   "id": "8c01a21d",
   "metadata": {
    "execution": {
     "iopub.execute_input": "2023-12-03T23:39:32.255353Z",
     "iopub.status.busy": "2023-12-03T23:39:32.254940Z",
     "iopub.status.idle": "2023-12-03T23:39:32.258294Z",
     "shell.execute_reply": "2023-12-03T23:39:32.257758Z"
    },
    "papermill": {
     "duration": 0.007258,
     "end_time": "2023-12-03T23:39:32.259545",
     "exception": false,
     "start_time": "2023-12-03T23:39:32.252287",
     "status": "completed"
    },
    "tags": []
   },
   "outputs": [],
   "source": [
    "OUTPUT_DIR='../../../../docs/metrics/events/signature/_data/'\n",
    "os.makedirs(OUTPUT_DIR, exist_ok=True)"
   ]
  },
  {
   "cell_type": "markdown",
   "id": "32d092c4",
   "metadata": {
    "papermill": {
     "duration": 0.001916,
     "end_time": "2023-12-03T23:39:32.263390",
     "exception": false,
     "start_time": "2023-12-03T23:39:32.261474",
     "status": "completed"
    },
    "tags": []
   },
   "source": [
    "Events CSVs"
   ]
  },
  {
   "cell_type": "code",
   "execution_count": 6,
   "id": "ca8f0b7b",
   "metadata": {
    "execution": {
     "iopub.execute_input": "2023-12-03T23:39:32.268440Z",
     "iopub.status.busy": "2023-12-03T23:39:32.268063Z",
     "iopub.status.idle": "2023-12-03T23:39:32.273933Z",
     "shell.execute_reply": "2023-12-03T23:39:32.273448Z"
    },
    "papermill": {
     "duration": 0.009812,
     "end_time": "2023-12-03T23:39:32.275236",
     "exception": false,
     "start_time": "2023-12-03T23:39:32.265424",
     "status": "completed"
    },
    "tags": []
   },
   "outputs": [],
   "source": [
    "pd.DataFrame({\n",
    "  'events': events.groupby('ward_code').event_unique_identifier.count(),\n",
    "  'attendances': events.groupby('ward_code').attendances.sum().astype(int),\n",
    "}).to_csv(os.path.join(OUTPUT_DIR, 'events_by_ward.csv'))\n"
   ]
  },
  {
   "cell_type": "code",
   "execution_count": 7,
   "id": "a15fa75b",
   "metadata": {
    "execution": {
     "iopub.execute_input": "2023-12-03T23:39:32.280118Z",
     "iopub.status.busy": "2023-12-03T23:39:32.279736Z",
     "iopub.status.idle": "2023-12-03T23:39:32.287188Z",
     "shell.execute_reply": "2023-12-03T23:39:32.286699Z"
    },
    "papermill": {
     "duration": 0.011247,
     "end_time": "2023-12-03T23:39:32.288450",
     "exception": false,
     "start_time": "2023-12-03T23:39:32.277203",
     "status": "completed"
    },
    "tags": []
   },
   "outputs": [],
   "source": [
    "pd.DataFrame({\n",
    "  'events': events.groupby('date').event_unique_identifier.count(),\n",
    "  'attendances': events.groupby('date').attendances.sum().astype(int),\n",
    "}).resample('M').sum().astype(int).to_csv(os.path.join(OUTPUT_DIR, 'events_by_date.csv'))"
   ]
  },
  {
   "cell_type": "markdown",
   "id": "a92aaa58",
   "metadata": {
    "papermill": {
     "duration": 0.002669,
     "end_time": "2023-12-03T23:39:32.293090",
     "exception": false,
     "start_time": "2023-12-03T23:39:32.290421",
     "status": "completed"
    },
    "tags": []
   },
   "source": [
    "Tickets CSV"
   ]
  },
  {
   "cell_type": "code",
   "execution_count": 8,
   "id": "285b94df",
   "metadata": {
    "execution": {
     "iopub.execute_input": "2023-12-03T23:39:32.297890Z",
     "iopub.status.busy": "2023-12-03T23:39:32.297534Z",
     "iopub.status.idle": "2023-12-03T23:39:32.303569Z",
     "shell.execute_reply": "2023-12-03T23:39:32.303053Z"
    },
    "papermill": {
     "duration": 0.009813,
     "end_time": "2023-12-03T23:39:32.304827",
     "exception": false,
     "start_time": "2023-12-03T23:39:32.295014",
     "status": "completed"
    },
    "tags": []
   },
   "outputs": [],
   "source": [
    "pd.DataFrame({\n",
    "  'orders': tickets.groupby('ward_code').number_of_tickets.count(),\n",
    "  'tickets': tickets.groupby('ward_code').number_of_tickets.sum().astype(int),\n",
    "}).to_csv(os.path.join(OUTPUT_DIR, 'tickets_by_ward.csv'))"
   ]
  },
  {
   "cell_type": "code",
   "execution_count": 9,
   "id": "bc5305af",
   "metadata": {
    "execution": {
     "iopub.execute_input": "2023-12-03T23:39:32.309720Z",
     "iopub.status.busy": "2023-12-03T23:39:32.309383Z",
     "iopub.status.idle": "2023-12-03T23:39:32.316110Z",
     "shell.execute_reply": "2023-12-03T23:39:32.315481Z"
    },
    "papermill": {
     "duration": 0.01066,
     "end_time": "2023-12-03T23:39:32.317457",
     "exception": false,
     "start_time": "2023-12-03T23:39:32.306797",
     "status": "completed"
    },
    "tags": []
   },
   "outputs": [],
   "source": [
    "pd.DataFrame({\n",
    "  'orders': tickets.groupby('event_date').number_of_tickets.count(),\n",
    "  'tickets': tickets.groupby('event_date').number_of_tickets.sum().astype(int),\n",
    "}).resample('M').sum().to_csv(os.path.join(OUTPUT_DIR, 'tickets_by_event_date.csv'))"
   ]
  },
  {
   "cell_type": "code",
   "execution_count": 10,
   "id": "c8602647",
   "metadata": {
    "execution": {
     "iopub.execute_input": "2023-12-03T23:39:32.322565Z",
     "iopub.status.busy": "2023-12-03T23:39:32.322194Z",
     "iopub.status.idle": "2023-12-03T23:39:32.326888Z",
     "shell.execute_reply": "2023-12-03T23:39:32.326289Z"
    },
    "papermill": {
     "duration": 0.008917,
     "end_time": "2023-12-03T23:39:32.328357",
     "exception": false,
     "start_time": "2023-12-03T23:39:32.319440",
     "status": "completed"
    },
    "tags": []
   },
   "outputs": [],
   "source": [
    "pd.Series({\n",
    "    'total_events': events.event_unique_identifier.count(),\n",
    "    'total_attendances': events.attendances.count(),\n",
    "    'first_event': events.date.min(),\n",
    "    'latest_event': events.date.max(),\n",
    "    'total_ticket_orders_for_events_to_date': tickets.number_of_tickets.count(),\n",
    "    'total_tickets_sold_for_events_to_date': tickets.number_of_tickets.sum(),\n",
    "}).to_json(os.path.join(OUTPUT_DIR, 'headlines.json'), indent=2)"
   ]
  },
  {
   "cell_type": "code",
   "execution_count": null,
   "id": "5f73a9e5",
   "metadata": {
    "papermill": {
     "duration": 0.002002,
     "end_time": "2023-12-03T23:39:32.332387",
     "exception": false,
     "start_time": "2023-12-03T23:39:32.330385",
     "status": "completed"
    },
    "tags": []
   },
   "outputs": [],
   "source": []
  }
 ],
 "metadata": {
  "kernelspec": {
   "display_name": "leeds-2023-YZF5GfJv",
   "language": "python",
   "name": "python3"
  },
  "language_info": {
   "codemirror_mode": {
    "name": "ipython",
    "version": 3
   },
   "file_extension": ".py",
   "mimetype": "text/x-python",
   "name": "python",
   "nbconvert_exporter": "python",
   "pygments_lexer": "ipython3",
   "version": "3.10.13"
  },
  "papermill": {
   "default_parameters": {},
   "duration": 8.813072,
   "end_time": "2023-12-03T23:39:32.550523",
   "environment_variables": {},
   "exception": null,
   "input_path": "prepare.ipynb",
   "output_path": "../../../../working/output/signature-prepare.ipynb",
   "parameters": {},
   "start_time": "2023-12-03T23:39:23.737451",
   "version": "2.4.0"
  }
 },
 "nbformat": 4,
 "nbformat_minor": 5
}