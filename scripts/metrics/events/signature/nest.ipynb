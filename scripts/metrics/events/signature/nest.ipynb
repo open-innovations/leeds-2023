{
 "cells": [
  {
   "cell_type": "markdown",
   "metadata": {},
   "source": [
    "# Nest\n",
    "\n",
    "Prepares data for the Nest page "
   ]
  },
  {
   "cell_type": "code",
   "execution_count": 55,
   "metadata": {},
   "outputs": [],
   "source": [
    "import os\n",
    "import pandas as pd\n",
    "from events import (\n",
    "    load_event_data, filter_public_events, filter_by_project, prepare, save_files, count_wards, filter_signature_events\n",
    ")\n",
    "import ticket_helpers\n"
   ]
  },
  {
   "cell_type": "markdown",
   "metadata": {},
   "source": [
    "Set output directory"
   ]
  },
  {
   "cell_type": "code",
   "execution_count": 56,
   "metadata": {},
   "outputs": [],
   "source": [
    "OUT_DIR = '../../../../docs/metrics/events/nest/_data/events'\n",
    "os.makedirs(OUT_DIR, exist_ok=True)"
   ]
  },
  {
   "cell_type": "markdown",
   "metadata": {},
   "source": [
    "Read in event data and apply Airtable filters.\n",
    "\n",
    "* Project_type is 'Produce (Signature)'\n",
    "* Project_name is '10 - Melt'\n",
    "* Event_type is 'Public Event -' and 'CLE - Community Engagement'"
   ]
  },
  {
   "cell_type": "code",
   "execution_count": 57,
   "metadata": {},
   "outputs": [
    {
     "data": {
      "text/html": [
       "<div>\n",
       "<style scoped>\n",
       "    .dataframe tbody tr th:only-of-type {\n",
       "        vertical-align: middle;\n",
       "    }\n",
       "\n",
       "    .dataframe tbody tr th {\n",
       "        vertical-align: top;\n",
       "    }\n",
       "\n",
       "    .dataframe thead th {\n",
       "        text-align: right;\n",
       "    }\n",
       "</style>\n",
       "<table border=\"1\" class=\"dataframe\">\n",
       "  <thead>\n",
       "    <tr style=\"text-align: right;\">\n",
       "      <th></th>\n",
       "      <th>actual_audience_size_number_of_participants_in_person</th>\n",
       "      <th>actual_audience_size_number_of_participants_online</th>\n",
       "      <th>airtable_id</th>\n",
       "      <th>end_date</th>\n",
       "      <th>event_name</th>\n",
       "      <th>event_type</th>\n",
       "      <th>event_unique_identifier</th>\n",
       "      <th>number_of_booked_participants</th>\n",
       "      <th>postcode_(from_venue)</th>\n",
       "      <th>project_name</th>\n",
       "      <th>project_type</th>\n",
       "      <th>season</th>\n",
       "      <th>start_date</th>\n",
       "      <th>ticket_tailor_id</th>\n",
       "      <th>ward_(from_venue)</th>\n",
       "    </tr>\n",
       "  </thead>\n",
       "  <tbody>\n",
       "    <tr>\n",
       "      <th>1074</th>\n",
       "      <td>1338.0</td>\n",
       "      <td>NaN</td>\n",
       "      <td>241</td>\n",
       "      <td>2023-09-09</td>\n",
       "      <td>Melt (Run)</td>\n",
       "      <td>['Public Event - Performance']</td>\n",
       "      <td>10 - Melt: Melt (Run)</td>\n",
       "      <td>1542.0</td>\n",
       "      <td>['LS26 8AL']</td>\n",
       "      <td>10 - Melt</td>\n",
       "      <td>Produce (Signature)</td>\n",
       "      <td>['Season 3 - Dreaming']</td>\n",
       "      <td>2023-09-05</td>\n",
       "      <td>ev_2809632, ev_2809633,  ev_2809634,  ev_28096...</td>\n",
       "      <td>['Garforth and Swillington']</td>\n",
       "    </tr>\n",
       "  </tbody>\n",
       "</table>\n",
       "</div>"
      ],
      "text/plain": [
       "      actual_audience_size_number_of_participants_in_person  \\\n",
       "1074                                             1338.0       \n",
       "\n",
       "      actual_audience_size_number_of_participants_online  airtable_id  \\\n",
       "1074                                                NaN           241   \n",
       "\n",
       "        end_date  event_name                      event_type  \\\n",
       "1074  2023-09-09  Melt (Run)  ['Public Event - Performance']   \n",
       "\n",
       "     event_unique_identifier  number_of_booked_participants  \\\n",
       "1074   10 - Melt: Melt (Run)                         1542.0   \n",
       "\n",
       "     postcode_(from_venue) project_name         project_type  \\\n",
       "1074          ['LS26 8AL']    10 - Melt  Produce (Signature)   \n",
       "\n",
       "                       season start_date  \\\n",
       "1074  ['Season 3 - Dreaming'] 2023-09-05   \n",
       "\n",
       "                                       ticket_tailor_id  \\\n",
       "1074  ev_2809632, ev_2809633,  ev_2809634,  ev_28096...   \n",
       "\n",
       "                 ward_(from_venue)  \n",
       "1074  ['Garforth and Swillington']  "
      ]
     },
     "execution_count": 57,
     "metadata": {},
     "output_type": "execute_result"
    }
   ],
   "source": [
    "data = (\n",
    "  load_event_data()\n",
    "    .pipe(filter_signature_events)\n",
    "    .pipe(filter_by_project, '10 - Melt')\n",
    "    .pipe(filter_public_events)\n",
    "  )\n",
    "data"
   ]
  },
  {
   "cell_type": "markdown",
   "metadata": {},
   "source": [
    "Run the processing and save the files"
   ]
  },
  {
   "cell_type": "code",
   "execution_count": 58,
   "metadata": {},
   "outputs": [],
   "source": [
    "data = data.pipe(filter_public_events).pipe(prepare).pipe(save_files, OUT_DIR)"
   ]
  },
  {
   "cell_type": "markdown",
   "metadata": {},
   "source": [
    "## Ticket processing\n",
    "\n",
    "Extract the ticket data"
   ]
  },
  {
   "cell_type": "code",
   "execution_count": 59,
   "metadata": {},
   "outputs": [
    {
     "data": {
      "text/html": [
       "<div>\n",
       "<style scoped>\n",
       "    .dataframe tbody tr th:only-of-type {\n",
       "        vertical-align: middle;\n",
       "    }\n",
       "\n",
       "    .dataframe tbody tr th {\n",
       "        vertical-align: top;\n",
       "    }\n",
       "\n",
       "    .dataframe thead th {\n",
       "        text-align: right;\n",
       "    }\n",
       "</style>\n",
       "<table border=\"1\" class=\"dataframe\">\n",
       "  <thead>\n",
       "    <tr style=\"text-align: right;\">\n",
       "      <th></th>\n",
       "      <th>ticket_tailor_id</th>\n",
       "      <th>airtable_id</th>\n",
       "      <th>created_at</th>\n",
       "      <th>event_date</th>\n",
       "      <th>number_of_tickets</th>\n",
       "      <th>ward_code</th>\n",
       "    </tr>\n",
       "  </thead>\n",
       "  <tbody>\n",
       "    <tr>\n",
       "      <th>0</th>\n",
       "      <td>ev_2809632</td>\n",
       "      <td>241</td>\n",
       "      <td>2023-07-11 21:55:42</td>\n",
       "      <td>2023-09-05</td>\n",
       "      <td>2</td>\n",
       "      <td>E05011402</td>\n",
       "    </tr>\n",
       "    <tr>\n",
       "      <th>1</th>\n",
       "      <td>ev_2809632</td>\n",
       "      <td>241</td>\n",
       "      <td>2023-07-13 13:29:16</td>\n",
       "      <td>2023-09-05</td>\n",
       "      <td>2</td>\n",
       "      <td>E05011402</td>\n",
       "    </tr>\n",
       "    <tr>\n",
       "      <th>2</th>\n",
       "      <td>ev_2809632</td>\n",
       "      <td>241</td>\n",
       "      <td>2023-07-14 18:21:57</td>\n",
       "      <td>2023-09-05</td>\n",
       "      <td>3</td>\n",
       "      <td>E05001372</td>\n",
       "    </tr>\n",
       "    <tr>\n",
       "      <th>3</th>\n",
       "      <td>ev_2809632</td>\n",
       "      <td>241</td>\n",
       "      <td>2023-07-17 11:10:07</td>\n",
       "      <td>2023-09-05</td>\n",
       "      <td>2</td>\n",
       "      <td>E05011403</td>\n",
       "    </tr>\n",
       "    <tr>\n",
       "      <th>4</th>\n",
       "      <td>ev_2809632</td>\n",
       "      <td>241</td>\n",
       "      <td>2023-07-17 16:39:03</td>\n",
       "      <td>2023-09-05</td>\n",
       "      <td>5</td>\n",
       "      <td>E05011390</td>\n",
       "    </tr>\n",
       "    <tr>\n",
       "      <th>...</th>\n",
       "      <td>...</td>\n",
       "      <td>...</td>\n",
       "      <td>...</td>\n",
       "      <td>...</td>\n",
       "      <td>...</td>\n",
       "      <td>...</td>\n",
       "    </tr>\n",
       "    <tr>\n",
       "      <th>715</th>\n",
       "      <td>ev_2809636</td>\n",
       "      <td>241</td>\n",
       "      <td>2023-09-08 11:43:24</td>\n",
       "      <td>2023-09-09</td>\n",
       "      <td>4</td>\n",
       "      <td>E05012841</td>\n",
       "    </tr>\n",
       "    <tr>\n",
       "      <th>716</th>\n",
       "      <td>ev_2809636</td>\n",
       "      <td>241</td>\n",
       "      <td>2023-09-08 15:24:13</td>\n",
       "      <td>2023-09-09</td>\n",
       "      <td>2</td>\n",
       "      <td>E05011413</td>\n",
       "    </tr>\n",
       "    <tr>\n",
       "      <th>717</th>\n",
       "      <td>ev_2809636</td>\n",
       "      <td>241</td>\n",
       "      <td>2023-09-08 15:58:49</td>\n",
       "      <td>2023-09-09</td>\n",
       "      <td>1</td>\n",
       "      <td>NaN</td>\n",
       "    </tr>\n",
       "    <tr>\n",
       "      <th>718</th>\n",
       "      <td>ev_2809636</td>\n",
       "      <td>241</td>\n",
       "      <td>2023-09-09 11:43:24</td>\n",
       "      <td>2023-09-09</td>\n",
       "      <td>2</td>\n",
       "      <td>E05011396</td>\n",
       "    </tr>\n",
       "    <tr>\n",
       "      <th>719</th>\n",
       "      <td>ev_2809636</td>\n",
       "      <td>241</td>\n",
       "      <td>2023-09-09 13:59:04</td>\n",
       "      <td>2023-09-09</td>\n",
       "      <td>1</td>\n",
       "      <td>E05013713</td>\n",
       "    </tr>\n",
       "  </tbody>\n",
       "</table>\n",
       "<p>720 rows × 6 columns</p>\n",
       "</div>"
      ],
      "text/plain": [
       "    ticket_tailor_id  airtable_id          created_at event_date  \\\n",
       "0         ev_2809632          241 2023-07-11 21:55:42 2023-09-05   \n",
       "1         ev_2809632          241 2023-07-13 13:29:16 2023-09-05   \n",
       "2         ev_2809632          241 2023-07-14 18:21:57 2023-09-05   \n",
       "3         ev_2809632          241 2023-07-17 11:10:07 2023-09-05   \n",
       "4         ev_2809632          241 2023-07-17 16:39:03 2023-09-05   \n",
       "..               ...          ...                 ...        ...   \n",
       "715       ev_2809636          241 2023-09-08 11:43:24 2023-09-09   \n",
       "716       ev_2809636          241 2023-09-08 15:24:13 2023-09-09   \n",
       "717       ev_2809636          241 2023-09-08 15:58:49 2023-09-09   \n",
       "718       ev_2809636          241 2023-09-09 11:43:24 2023-09-09   \n",
       "719       ev_2809636          241 2023-09-09 13:59:04 2023-09-09   \n",
       "\n",
       "     number_of_tickets  ward_code  \n",
       "0                    2  E05011402  \n",
       "1                    2  E05011402  \n",
       "2                    3  E05001372  \n",
       "3                    2  E05011403  \n",
       "4                    5  E05011390  \n",
       "..                 ...        ...  \n",
       "715                  4  E05012841  \n",
       "716                  2  E05011413  \n",
       "717                  1        NaN  \n",
       "718                  2  E05011396  \n",
       "719                  1  E05013713  \n",
       "\n",
       "[720 rows x 6 columns]"
      ]
     },
     "execution_count": 59,
     "metadata": {},
     "output_type": "execute_result"
    }
   ],
   "source": [
    "ticket_sales = data.pipe(filter_public_events).pipe(ticket_helpers.get_tickets_for_event)\n",
    "ticket_sales"
   ]
  },
  {
   "cell_type": "code",
   "execution_count": 60,
   "metadata": {},
   "outputs": [],
   "source": [
    "pd.DataFrame({\n",
    "  'tickets': ticket_sales.groupby('event_date').number_of_tickets.sum().astype(int),\n",
    "}).resample('D').sum().reset_index().to_csv(os.path.join(OUT_DIR, 'tickets_by_event_date.csv'), index=False)"
   ]
  },
  {
   "cell_type": "markdown",
   "metadata": {},
   "source": [
    "By Date"
   ]
  },
  {
   "cell_type": "code",
   "execution_count": 61,
   "metadata": {},
   "outputs": [],
   "source": [
    "ticket_sales.pipe(ticket_helpers.summarise_by_ward).reset_index().to_csv(\n",
    "    os.path.join(OUT_DIR, 'tickets_by_ward.csv'), index=False)\n"
   ]
  },
  {
   "cell_type": "markdown",
   "metadata": {},
   "source": [
    "By Date"
   ]
  },
  {
   "cell_type": "code",
   "execution_count": 62,
   "metadata": {},
   "outputs": [],
   "source": [
    "(\n",
    "  ticket_sales\n",
    "    .pipe(ticket_helpers.summarise_by_date)\n",
    "    .resample('W-FRI').sum()\n",
    "    .cumsum()\n",
    ")\n",
    "ticket_sales.to_csv(os.path.join(OUT_DIR, 'tickets_by_date.csv'))"
   ]
  },
  {
   "cell_type": "markdown",
   "metadata": {},
   "source": []
  }
 ],
 "metadata": {
  "kernelspec": {
   "display_name": "leeds-2023-YZF5GfJv",
   "language": "python",
   "name": "python3"
  },
  "language_info": {
   "codemirror_mode": {
    "name": "ipython",
    "version": 3
   },
   "file_extension": ".py",
   "mimetype": "text/x-python",
   "name": "python",
   "nbconvert_exporter": "python",
   "pygments_lexer": "ipython3",
   "version": "3.10.8"
  },
  "orig_nbformat": 4
 },
 "nbformat": 4,
 "nbformat_minor": 2
}
