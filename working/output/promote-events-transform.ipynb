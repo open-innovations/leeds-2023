{
 "cells": [
  {
   "cell_type": "code",
   "execution_count": 1,
   "id": "9b951278",
   "metadata": {
    "execution": {
     "iopub.execute_input": "2023-09-11T10:26:55.988484Z",
     "iopub.status.busy": "2023-09-11T10:26:55.988094Z",
     "iopub.status.idle": "2023-09-11T10:26:56.400036Z",
     "shell.execute_reply": "2023-09-11T10:26:56.397015Z"
    },
    "papermill": {
     "duration": 0.419309,
     "end_time": "2023-09-11T10:26:56.402985",
     "exception": false,
     "start_time": "2023-09-11T10:26:55.983676",
     "status": "completed"
    },
    "tags": []
   },
   "outputs": [],
   "source": [
    "import os\n",
    "import pandas as pd"
   ]
  },
  {
   "cell_type": "code",
   "execution_count": 2,
   "id": "54a4f72e",
   "metadata": {
    "execution": {
     "iopub.execute_input": "2023-09-11T10:26:56.429903Z",
     "iopub.status.busy": "2023-09-11T10:26:56.428859Z",
     "iopub.status.idle": "2023-09-11T10:26:56.433895Z",
     "shell.execute_reply": "2023-09-11T10:26:56.432994Z"
    },
    "papermill": {
     "duration": 0.031092,
     "end_time": "2023-09-11T10:26:56.436343",
     "exception": false,
     "start_time": "2023-09-11T10:26:56.405251",
     "status": "completed"
    },
    "tags": []
   },
   "outputs": [],
   "source": [
    "EVENTS_RAW_DATA = '../../../working/metrics/promote-events/events.csv'\n",
    "DATA_DIR = '../../../data/metrics/events/promote-events/'\n",
    "EVENTS_DATA = os.path.join(DATA_DIR, 'events.csv')"
   ]
  },
  {
   "cell_type": "code",
   "execution_count": 3,
   "id": "839b1913",
   "metadata": {
    "execution": {
     "iopub.execute_input": "2023-09-11T10:26:56.484593Z",
     "iopub.status.busy": "2023-09-11T10:26:56.483897Z",
     "iopub.status.idle": "2023-09-11T10:26:56.488808Z",
     "shell.execute_reply": "2023-09-11T10:26:56.487786Z"
    },
    "papermill": {
     "duration": 0.045588,
     "end_time": "2023-09-11T10:26:56.491050",
     "exception": false,
     "start_time": "2023-09-11T10:26:56.445462",
     "status": "completed"
    },
    "tags": []
   },
   "outputs": [],
   "source": [
    "columns = {\n",
    "    'id': 'id',\n",
    "    'name': 'name',\n",
    "    'locationName': 'location',\n",
    "    'cardPrice': 'card_price',\n",
    "    'timeslots': 'time',\n",
    "    # 'displayOnWebsite': 'display',\n",
    "    'Stage': 'stage',\n",
    "}"
   ]
  },
  {
   "cell_type": "code",
   "execution_count": 4,
   "id": "93278ecb",
   "metadata": {
    "execution": {
     "iopub.execute_input": "2023-09-11T10:26:56.499774Z",
     "iopub.status.busy": "2023-09-11T10:26:56.499304Z",
     "iopub.status.idle": "2023-09-11T10:26:56.517392Z",
     "shell.execute_reply": "2023-09-11T10:26:56.516189Z"
    },
    "papermill": {
     "duration": 0.027237,
     "end_time": "2023-09-11T10:26:56.520231",
     "exception": false,
     "start_time": "2023-09-11T10:26:56.492994",
     "status": "completed"
    },
    "tags": []
   },
   "outputs": [],
   "source": [
    "data = pd.read_csv(EVENTS_RAW_DATA)[columns.keys()].rename(columns=columns)\n",
    "data.time = pd.to_datetime(data.time, errors='coerce')"
   ]
  },
  {
   "cell_type": "code",
   "execution_count": 5,
   "id": "3027018f",
   "metadata": {
    "execution": {
     "iopub.execute_input": "2023-09-11T10:26:56.531173Z",
     "iopub.status.busy": "2023-09-11T10:26:56.530311Z",
     "iopub.status.idle": "2023-09-11T10:26:56.539497Z",
     "shell.execute_reply": "2023-09-11T10:26:56.538378Z"
    },
    "papermill": {
     "duration": 0.016945,
     "end_time": "2023-09-11T10:26:56.543248",
     "exception": false,
     "start_time": "2023-09-11T10:26:56.526303",
     "status": "completed"
    },
    "tags": []
   },
   "outputs": [],
   "source": [
    "data.to_csv(os.path.join(DATA_DIR, 'events.csv'), index=False)"
   ]
  }
 ],
 "metadata": {
  "kernelspec": {
   "display_name": "leeds-2023-YZF5GfJv",
   "language": "python",
   "name": "python3"
  },
  "language_info": {
   "codemirror_mode": {
    "name": "ipython",
    "version": 3
   },
   "file_extension": ".py",
   "mimetype": "text/x-python",
   "name": "python",
   "nbconvert_exporter": "python",
   "pygments_lexer": "ipython3",
   "version": "3.10.13"
  },
  "papermill": {
   "default_parameters": {},
   "duration": 3.207435,
   "end_time": "2023-09-11T10:26:56.967441",
   "environment_variables": {},
   "exception": null,
   "input_path": "transform.ipynb",
   "output_path": "../../../working/output/promote-events-transform.ipynb",
   "parameters": {},
   "start_time": "2023-09-11T10:26:53.760006",
   "version": "2.4.0"
  }
 },
 "nbformat": 4,
 "nbformat_minor": 5
}