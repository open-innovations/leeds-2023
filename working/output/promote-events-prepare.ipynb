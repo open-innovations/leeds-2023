{
 "cells": [
  {
   "cell_type": "code",
   "execution_count": 1,
   "id": "611839c0",
   "metadata": {
    "execution": {
     "iopub.execute_input": "2023-11-13T23:37:50.684199Z",
     "iopub.status.busy": "2023-11-13T23:37:50.683934Z",
     "iopub.status.idle": "2023-11-13T23:37:50.922967Z",
     "shell.execute_reply": "2023-11-13T23:37:50.922380Z"
    },
    "papermill": {
     "duration": 0.243851,
     "end_time": "2023-11-13T23:37:50.924593",
     "exception": false,
     "start_time": "2023-11-13T23:37:50.680742",
     "status": "completed"
    },
    "tags": []
   },
   "outputs": [],
   "source": [
    "import os\n",
    "import pandas as pd"
   ]
  },
  {
   "cell_type": "code",
   "execution_count": 2,
   "id": "c4354988",
   "metadata": {
    "execution": {
     "iopub.execute_input": "2023-11-13T23:37:50.929134Z",
     "iopub.status.busy": "2023-11-13T23:37:50.928663Z",
     "iopub.status.idle": "2023-11-13T23:37:50.931934Z",
     "shell.execute_reply": "2023-11-13T23:37:50.931395Z"
    },
    "papermill": {
     "duration": 0.006821,
     "end_time": "2023-11-13T23:37:50.933245",
     "exception": false,
     "start_time": "2023-11-13T23:37:50.926424",
     "status": "completed"
    },
    "tags": []
   },
   "outputs": [],
   "source": [
    "DATA_DIR='../../../docs/metrics/events/promote/_data/'\n",
    "os.makedirs(DATA_DIR, exist_ok=True)"
   ]
  },
  {
   "cell_type": "code",
   "execution_count": 3,
   "id": "09658b76",
   "metadata": {
    "execution": {
     "iopub.execute_input": "2023-11-13T23:37:50.937144Z",
     "iopub.status.busy": "2023-11-13T23:37:50.936790Z",
     "iopub.status.idle": "2023-11-13T23:37:50.944490Z",
     "shell.execute_reply": "2023-11-13T23:37:50.943971Z"
    },
    "papermill": {
     "duration": 0.011142,
     "end_time": "2023-11-13T23:37:50.945823",
     "exception": false,
     "start_time": "2023-11-13T23:37:50.934681",
     "status": "completed"
    },
    "tags": []
   },
   "outputs": [],
   "source": [
    "data = pd.read_csv('../../../data/metrics/events/promote-events/events.csv', parse_dates=['time'])"
   ]
  },
  {
   "cell_type": "code",
   "execution_count": 4,
   "id": "b68a9664",
   "metadata": {
    "execution": {
     "iopub.execute_input": "2023-11-13T23:37:50.949831Z",
     "iopub.status.busy": "2023-11-13T23:37:50.949464Z",
     "iopub.status.idle": "2023-11-13T23:37:50.954226Z",
     "shell.execute_reply": "2023-11-13T23:37:50.953682Z"
    },
    "papermill": {
     "duration": 0.008212,
     "end_time": "2023-11-13T23:37:50.955540",
     "exception": false,
     "start_time": "2023-11-13T23:37:50.947328",
     "status": "completed"
    },
    "tags": []
   },
   "outputs": [],
   "source": [
    "pd.Series({\n",
    "    'total_events': len(data.id.unique()),\n",
    "    'total_event_instances': len(data.time),\n",
    "    'earliest_event': data.time.min(),\n",
    "    'latest_event': data.time.max(),\n",
    "}).to_json(\n",
    "    os.path.join(DATA_DIR, 'headlines.json'),\n",
    "    date_format='iso', indent=2\n",
    ")"
   ]
  },
  {
   "cell_type": "code",
   "execution_count": 5,
   "id": "ef5eecca",
   "metadata": {
    "execution": {
     "iopub.execute_input": "2023-11-13T23:37:50.959497Z",
     "iopub.status.busy": "2023-11-13T23:37:50.959129Z",
     "iopub.status.idle": "2023-11-13T23:37:50.966659Z",
     "shell.execute_reply": "2023-11-13T23:37:50.966166Z"
    },
    "papermill": {
     "duration": 0.010836,
     "end_time": "2023-11-13T23:37:50.967885",
     "exception": false,
     "start_time": "2023-11-13T23:37:50.957049",
     "status": "completed"
    },
    "tags": []
   },
   "outputs": [],
   "source": [
    "events = pd.DataFrame({\n",
    "    'events': data.groupby('id').agg({ 'time': 'min' }).reset_index().groupby('time').id.count(),\n",
    "    'event_instances': data.groupby('time').id.count(),\n",
    "}).fillna(0).astype(int)"
   ]
  },
  {
   "cell_type": "code",
   "execution_count": 6,
   "id": "d149134b",
   "metadata": {
    "execution": {
     "iopub.execute_input": "2023-11-13T23:37:50.972076Z",
     "iopub.status.busy": "2023-11-13T23:37:50.971698Z",
     "iopub.status.idle": "2023-11-13T23:37:50.975097Z",
     "shell.execute_reply": "2023-11-13T23:37:50.974499Z"
    },
    "papermill": {
     "duration": 0.006893,
     "end_time": "2023-11-13T23:37:50.976383",
     "exception": false,
     "start_time": "2023-11-13T23:37:50.969490",
     "status": "completed"
    },
    "tags": []
   },
   "outputs": [],
   "source": [
    "def cumulate(data):\n",
    "    return pd.concat([\n",
    "        data,\n",
    "        data.cumsum().rename(columns=lambda c: f'cumulative_{c}')\n",
    "    ], axis=1)"
   ]
  },
  {
   "cell_type": "code",
   "execution_count": 7,
   "id": "86a5eb6b",
   "metadata": {
    "execution": {
     "iopub.execute_input": "2023-11-13T23:37:50.980592Z",
     "iopub.status.busy": "2023-11-13T23:37:50.980216Z",
     "iopub.status.idle": "2023-11-13T23:37:50.988005Z",
     "shell.execute_reply": "2023-11-13T23:37:50.987390Z"
    },
    "papermill": {
     "duration": 0.011619,
     "end_time": "2023-11-13T23:37:50.989576",
     "exception": false,
     "start_time": "2023-11-13T23:37:50.977957",
     "status": "completed"
    },
    "tags": []
   },
   "outputs": [],
   "source": [
    "events.resample('W-FRI').sum().pipe(cumulate).to_csv(os.path.join(DATA_DIR, 'by_week.csv'))"
   ]
  },
  {
   "cell_type": "code",
   "execution_count": 8,
   "id": "28a73297",
   "metadata": {
    "execution": {
     "iopub.execute_input": "2023-11-13T23:37:50.993711Z",
     "iopub.status.busy": "2023-11-13T23:37:50.993356Z",
     "iopub.status.idle": "2023-11-13T23:37:50.998565Z",
     "shell.execute_reply": "2023-11-13T23:37:50.998017Z"
    },
    "papermill": {
     "duration": 0.008638,
     "end_time": "2023-11-13T23:37:50.999816",
     "exception": false,
     "start_time": "2023-11-13T23:37:50.991178",
     "status": "completed"
    },
    "tags": []
   },
   "outputs": [],
   "source": [
    "events.resample('MS').sum().pipe(cumulate).to_csv(os.path.join(DATA_DIR, 'by_month.csv'))"
   ]
  },
  {
   "cell_type": "code",
   "execution_count": null,
   "id": "fbc6f9d6",
   "metadata": {
    "papermill": {
     "duration": 0.001584,
     "end_time": "2023-11-13T23:37:51.003058",
     "exception": false,
     "start_time": "2023-11-13T23:37:51.001474",
     "status": "completed"
    },
    "tags": []
   },
   "outputs": [],
   "source": []
  }
 ],
 "metadata": {
  "kernelspec": {
   "display_name": "leeds-2023-YZF5GfJv",
   "language": "python",
   "name": "python3"
  },
  "language_info": {
   "codemirror_mode": {
    "name": "ipython",
    "version": 3
   },
   "file_extension": ".py",
   "mimetype": "text/x-python",
   "name": "python",
   "nbconvert_exporter": "python",
   "pygments_lexer": "ipython3",
   "version": "3.10.13"
  },
  "papermill": {
   "default_parameters": {},
   "duration": 1.781204,
   "end_time": "2023-11-13T23:37:51.220498",
   "environment_variables": {},
   "exception": null,
   "input_path": "prepare.ipynb",
   "output_path": "../../../working/output/promote-events-prepare.ipynb",
   "parameters": {},
   "start_time": "2023-11-13T23:37:49.439294",
   "version": "2.4.0"
  }
 },
 "nbformat": 4,
 "nbformat_minor": 5
}