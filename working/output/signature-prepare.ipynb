{
 "cells": [
  {
   "cell_type": "code",
   "execution_count": 1,
   "id": "76afe183",
   "metadata": {
    "execution": {
     "iopub.execute_input": "2023-08-20T23:38:28.144551Z",
     "iopub.status.busy": "2023-08-20T23:38:28.144047Z",
     "iopub.status.idle": "2023-08-20T23:38:36.611724Z",
     "shell.execute_reply": "2023-08-20T23:38:36.611098Z"
    },
    "papermill": {
     "duration": 8.473435,
     "end_time": "2023-08-20T23:38:36.613737",
     "exception": false,
     "start_time": "2023-08-20T23:38:28.140302",
     "status": "completed"
    },
    "tags": []
   },
   "outputs": [],
   "source": [
    "import os\n",
    "import pandas as pd\n",
    "from events import load_event_data, get_first_ward, normalise_ward"
   ]
  },
  {
   "cell_type": "code",
   "execution_count": 2,
   "id": "b03a2f4a",
   "metadata": {
    "execution": {
     "iopub.execute_input": "2023-08-20T23:38:36.619492Z",
     "iopub.status.busy": "2023-08-20T23:38:36.619147Z",
     "iopub.status.idle": "2023-08-20T23:38:36.622754Z",
     "shell.execute_reply": "2023-08-20T23:38:36.622161Z"
    },
    "papermill": {
     "duration": 0.008193,
     "end_time": "2023-08-20T23:38:36.624227",
     "exception": false,
     "start_time": "2023-08-20T23:38:36.616034",
     "status": "completed"
    },
    "tags": []
   },
   "outputs": [],
   "source": [
    "latest_date = pd.Timestamp.today().ceil('D')"
   ]
  },
  {
   "cell_type": "code",
   "execution_count": 3,
   "id": "507e7ae8",
   "metadata": {
    "execution": {
     "iopub.execute_input": "2023-08-20T23:38:36.629335Z",
     "iopub.status.busy": "2023-08-20T23:38:36.628761Z",
     "iopub.status.idle": "2023-08-20T23:38:36.644521Z",
     "shell.execute_reply": "2023-08-20T23:38:36.643992Z"
    },
    "papermill": {
     "duration": 0.019803,
     "end_time": "2023-08-20T23:38:36.645955",
     "exception": false,
     "start_time": "2023-08-20T23:38:36.626152",
     "status": "completed"
    },
    "tags": []
   },
   "outputs": [],
   "source": [
    "tickets = pd.read_csv('../../../../data/metrics/events/tickets/orders.csv', parse_dates=['created_at', 'event_date'])\n",
    "tickets = tickets[tickets.event_date <= latest_date]"
   ]
  },
  {
   "cell_type": "code",
   "execution_count": 4,
   "id": "deb5cf89",
   "metadata": {
    "execution": {
     "iopub.execute_input": "2023-08-20T23:38:36.651082Z",
     "iopub.status.busy": "2023-08-20T23:38:36.650524Z",
     "iopub.status.idle": "2023-08-20T23:38:36.819750Z",
     "shell.execute_reply": "2023-08-20T23:38:36.819149Z"
    },
    "papermill": {
     "duration": 0.173628,
     "end_time": "2023-08-20T23:38:36.821571",
     "exception": false,
     "start_time": "2023-08-20T23:38:36.647943",
     "status": "completed"
    },
    "tags": []
   },
   "outputs": [],
   "source": [
    "events = load_event_data()\n",
    "\n",
    "events = pd.concat([\n",
    "  events,\n",
    "  events.pipe(get_first_ward).pipe(normalise_ward).fillna('UNKNOWN'),\n",
    "  pd.Series(\n",
    "      events.actual_audience_size_number_of_participants_in_person + events.actual_audience_size_number_of_participants_online,\n",
    "      name='attendances'\n",
    "  )\n",
    "], axis=1).rename(columns={\n",
    "    'start_date': 'date'\n",
    "}).loc[:, ['ward_code', 'date', 'event_unique_identifier', 'attendances']]"
   ]
  },
  {
   "cell_type": "code",
   "execution_count": 5,
   "id": "d7042d1b",
   "metadata": {
    "execution": {
     "iopub.execute_input": "2023-08-20T23:38:36.827440Z",
     "iopub.status.busy": "2023-08-20T23:38:36.827103Z",
     "iopub.status.idle": "2023-08-20T23:38:36.832957Z",
     "shell.execute_reply": "2023-08-20T23:38:36.830210Z"
    },
    "papermill": {
     "duration": 0.010495,
     "end_time": "2023-08-20T23:38:36.834343",
     "exception": false,
     "start_time": "2023-08-20T23:38:36.823848",
     "status": "completed"
    },
    "tags": []
   },
   "outputs": [],
   "source": [
    "OUTPUT_DIR='../../../../docs/metrics/events/signature/_data/'\n",
    "os.makedirs(OUTPUT_DIR, exist_ok=True)"
   ]
  },
  {
   "cell_type": "markdown",
   "id": "d2bbe71a",
   "metadata": {
    "papermill": {
     "duration": 0.002041,
     "end_time": "2023-08-20T23:38:36.838392",
     "exception": false,
     "start_time": "2023-08-20T23:38:36.836351",
     "status": "completed"
    },
    "tags": []
   },
   "source": [
    "Events CSVs"
   ]
  },
  {
   "cell_type": "code",
   "execution_count": 6,
   "id": "f164bc4b",
   "metadata": {
    "execution": {
     "iopub.execute_input": "2023-08-20T23:38:36.843477Z",
     "iopub.status.busy": "2023-08-20T23:38:36.842987Z",
     "iopub.status.idle": "2023-08-20T23:38:36.849324Z",
     "shell.execute_reply": "2023-08-20T23:38:36.848784Z"
    },
    "papermill": {
     "duration": 0.010354,
     "end_time": "2023-08-20T23:38:36.850716",
     "exception": false,
     "start_time": "2023-08-20T23:38:36.840362",
     "status": "completed"
    },
    "tags": []
   },
   "outputs": [],
   "source": [
    "pd.DataFrame({\n",
    "  'events': events.groupby('ward_code').event_unique_identifier.count(),\n",
    "  'attendances': events.groupby('ward_code').attendances.sum().astype(int),\n",
    "}).to_csv(os.path.join(OUTPUT_DIR, 'events_by_ward.csv'))\n"
   ]
  },
  {
   "cell_type": "code",
   "execution_count": 7,
   "id": "a889dc98",
   "metadata": {
    "execution": {
     "iopub.execute_input": "2023-08-20T23:38:36.855967Z",
     "iopub.status.busy": "2023-08-20T23:38:36.855489Z",
     "iopub.status.idle": "2023-08-20T23:38:36.865502Z",
     "shell.execute_reply": "2023-08-20T23:38:36.864942Z"
    },
    "papermill": {
     "duration": 0.014111,
     "end_time": "2023-08-20T23:38:36.866893",
     "exception": false,
     "start_time": "2023-08-20T23:38:36.852782",
     "status": "completed"
    },
    "tags": []
   },
   "outputs": [],
   "source": [
    "pd.DataFrame({\n",
    "  'events': events.groupby('date').event_unique_identifier.count(),\n",
    "  'attendances': events.groupby('date').attendances.sum().astype(int),\n",
    "}).resample('M').sum().astype(int).to_csv(os.path.join(OUTPUT_DIR, 'events_by_date.csv'))"
   ]
  },
  {
   "cell_type": "markdown",
   "id": "1d766f11",
   "metadata": {
    "papermill": {
     "duration": 0.002123,
     "end_time": "2023-08-20T23:38:36.871171",
     "exception": false,
     "start_time": "2023-08-20T23:38:36.869048",
     "status": "completed"
    },
    "tags": []
   },
   "source": [
    "Tickets CSV"
   ]
  },
  {
   "cell_type": "code",
   "execution_count": 8,
   "id": "3cf3ff17",
   "metadata": {
    "execution": {
     "iopub.execute_input": "2023-08-20T23:38:36.876494Z",
     "iopub.status.busy": "2023-08-20T23:38:36.875984Z",
     "iopub.status.idle": "2023-08-20T23:38:36.882191Z",
     "shell.execute_reply": "2023-08-20T23:38:36.881647Z"
    },
    "papermill": {
     "duration": 0.01041,
     "end_time": "2023-08-20T23:38:36.883638",
     "exception": false,
     "start_time": "2023-08-20T23:38:36.873228",
     "status": "completed"
    },
    "tags": []
   },
   "outputs": [],
   "source": [
    "pd.DataFrame({\n",
    "  'orders': tickets.groupby('ward_code').number_of_tickets.count(),\n",
    "  'tickets': tickets.groupby('ward_code').number_of_tickets.sum().astype(int),\n",
    "}).to_csv(os.path.join(OUTPUT_DIR, 'tickets_by_ward.csv'))"
   ]
  },
  {
   "cell_type": "code",
   "execution_count": 9,
   "id": "e3f5cafd",
   "metadata": {
    "execution": {
     "iopub.execute_input": "2023-08-20T23:38:36.888970Z",
     "iopub.status.busy": "2023-08-20T23:38:36.888654Z",
     "iopub.status.idle": "2023-08-20T23:38:36.896368Z",
     "shell.execute_reply": "2023-08-20T23:38:36.895754Z"
    },
    "papermill": {
     "duration": 0.012014,
     "end_time": "2023-08-20T23:38:36.897814",
     "exception": false,
     "start_time": "2023-08-20T23:38:36.885800",
     "status": "completed"
    },
    "tags": []
   },
   "outputs": [],
   "source": [
    "pd.DataFrame({\n",
    "  'orders': tickets.groupby('event_date').number_of_tickets.count(),\n",
    "  'tickets': tickets.groupby('event_date').number_of_tickets.sum().astype(int),\n",
    "}).resample('M').sum().to_csv(os.path.join(OUTPUT_DIR, 'tickets_by_event_date.csv'))"
   ]
  },
  {
   "cell_type": "code",
   "execution_count": 10,
   "id": "15aff6e2",
   "metadata": {
    "execution": {
     "iopub.execute_input": "2023-08-20T23:38:36.904112Z",
     "iopub.status.busy": "2023-08-20T23:38:36.903616Z",
     "iopub.status.idle": "2023-08-20T23:38:36.908615Z",
     "shell.execute_reply": "2023-08-20T23:38:36.908032Z"
    },
    "papermill": {
     "duration": 0.010005,
     "end_time": "2023-08-20T23:38:36.910004",
     "exception": false,
     "start_time": "2023-08-20T23:38:36.899999",
     "status": "completed"
    },
    "tags": []
   },
   "outputs": [],
   "source": [
    "pd.Series({\n",
    "    'total_events': events.event_unique_identifier.count(),\n",
    "    'total_attendances': events.attendances.count(),\n",
    "    'first_event': events.date.min(),\n",
    "    'latest_event': events.date.max(),\n",
    "    'total_ticket_orders_for_events_to_date': tickets.number_of_tickets.count(),\n",
    "    'total_tickets_sold_for_events_to_date': tickets.number_of_tickets.sum(),\n",
    "}).to_json(os.path.join(OUTPUT_DIR, 'headlines.json'), indent=2)"
   ]
  },
  {
   "cell_type": "code",
   "execution_count": null,
   "id": "2bbc7c25",
   "metadata": {
    "papermill": {
     "duration": 0.00212,
     "end_time": "2023-08-20T23:38:36.914303",
     "exception": false,
     "start_time": "2023-08-20T23:38:36.912183",
     "status": "completed"
    },
    "tags": []
   },
   "outputs": [],
   "source": []
  }
 ],
 "metadata": {
  "kernelspec": {
   "display_name": "leeds-2023-YZF5GfJv",
   "language": "python",
   "name": "python3"
  },
  "language_info": {
   "codemirror_mode": {
    "name": "ipython",
    "version": 3
   },
   "file_extension": ".py",
   "mimetype": "text/x-python",
   "name": "python",
   "nbconvert_exporter": "python",
   "pygments_lexer": "ipython3",
   "version": "3.10.12"
  },
  "papermill": {
   "default_parameters": {},
   "duration": 10.461347,
   "end_time": "2023-08-20T23:38:37.232307",
   "environment_variables": {},
   "exception": null,
   "input_path": "prepare.ipynb",
   "output_path": "../../../../working/output/signature-prepare.ipynb",
   "parameters": {},
   "start_time": "2023-08-20T23:38:26.770960",
   "version": "2.4.0"
  }
 },
 "nbformat": 4,
 "nbformat_minor": 5
}