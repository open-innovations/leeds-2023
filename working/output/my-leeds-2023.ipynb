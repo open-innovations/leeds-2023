{
 "cells": [
  {
   "cell_type": "markdown",
   "id": "a4cf3786",
   "metadata": {
    "papermill": {
     "duration": 0.003109,
     "end_time": "2023-07-12T17:52:57.976177",
     "exception": false,
     "start_time": "2023-07-12T17:52:57.973068",
     "status": "completed"
    },
    "tags": []
   },
   "source": [
    "# My LEEDS 2023\n",
    "\n",
    "Prepares data for the My LEEDS 2023 page "
   ]
  },
  {
   "cell_type": "code",
   "execution_count": 1,
   "id": "bebb59aa",
   "metadata": {
    "execution": {
     "iopub.execute_input": "2023-07-12T17:52:57.981322Z",
     "iopub.status.busy": "2023-07-12T17:52:57.981154Z",
     "iopub.status.idle": "2023-07-12T17:52:58.182159Z",
     "shell.execute_reply": "2023-07-12T17:52:58.181668Z"
    },
    "papermill": {
     "duration": 0.204857,
     "end_time": "2023-07-12T17:52:58.183217",
     "exception": false,
     "start_time": "2023-07-12T17:52:57.978360",
     "status": "completed"
    },
    "tags": []
   },
   "outputs": [],
   "source": [
    "import os\n",
    "import sys\n",
    "import pandas as pd\n",
    "import numpy as np"
   ]
  },
  {
   "cell_type": "code",
   "execution_count": 2,
   "id": "bb8fc47b",
   "metadata": {
    "execution": {
     "iopub.execute_input": "2023-07-12T17:52:58.188092Z",
     "iopub.status.busy": "2023-07-12T17:52:58.187622Z",
     "iopub.status.idle": "2023-07-12T17:52:58.199733Z",
     "shell.execute_reply": "2023-07-12T17:52:58.199232Z"
    },
    "papermill": {
     "duration": 0.01587,
     "end_time": "2023-07-12T17:52:58.201033",
     "exception": false,
     "start_time": "2023-07-12T17:52:58.185163",
     "status": "completed"
    },
    "tags": []
   },
   "outputs": [],
   "source": [
    "lib_dir = os.path.abspath('../../../../lib/')\n",
    "if not lib_dir in sys.path: sys.path.append(lib_dir)\n",
    "\n",
    "import util.geo\n",
    "import util.convert"
   ]
  },
  {
   "cell_type": "markdown",
   "id": "b76d71d3",
   "metadata": {
    "papermill": {
     "duration": 0.001769,
     "end_time": "2023-07-12T17:52:58.204760",
     "exception": false,
     "start_time": "2023-07-12T17:52:58.202991",
     "status": "completed"
    },
    "tags": []
   },
   "source": [
    "Read in event data and filter by past / current (starting before today) tagged with the appropriate project name and event type"
   ]
  },
  {
   "cell_type": "code",
   "execution_count": 3,
   "id": "c26b451e",
   "metadata": {
    "execution": {
     "iopub.execute_input": "2023-07-12T17:52:58.209479Z",
     "iopub.status.busy": "2023-07-12T17:52:58.209242Z",
     "iopub.status.idle": "2023-07-12T17:52:58.222388Z",
     "shell.execute_reply": "2023-07-12T17:52:58.221828Z"
    },
    "papermill": {
     "duration": 0.017215,
     "end_time": "2023-07-12T17:52:58.223745",
     "exception": false,
     "start_time": "2023-07-12T17:52:58.206530",
     "status": "completed"
    },
    "tags": []
   },
   "outputs": [],
   "source": [
    "data = pd.read_csv('../../../../data/metrics/events/master/all.csv', parse_dates=['start_date'])\n",
    "data = data.loc[\n",
    "    (data.project_type == 'Produce (Signature)') &\n",
    "    (data.project_name == '12 - My LEEDS 2023') &\n",
    "    (data.event_type.str.contains('Public Event -')) &\n",
    "    (data.start_date < pd.Timestamp.now())\n",
    "]"
   ]
  },
  {
   "cell_type": "markdown",
   "id": "5b8ef1f7",
   "metadata": {
    "papermill": {
     "duration": 0.00158,
     "end_time": "2023-07-12T17:52:58.228034",
     "exception": false,
     "start_time": "2023-07-12T17:52:58.226454",
     "status": "completed"
    },
    "tags": []
   },
   "source": [
    "Calculate series of wards"
   ]
  },
  {
   "cell_type": "code",
   "execution_count": 4,
   "id": "6f961bd8",
   "metadata": {
    "execution": {
     "iopub.execute_input": "2023-07-12T17:52:58.232007Z",
     "iopub.status.busy": "2023-07-12T17:52:58.231772Z",
     "iopub.status.idle": "2023-07-12T17:52:58.235440Z",
     "shell.execute_reply": "2023-07-12T17:52:58.235010Z"
    },
    "papermill": {
     "duration": 0.006777,
     "end_time": "2023-07-12T17:52:58.236337",
     "exception": false,
     "start_time": "2023-07-12T17:52:58.229560",
     "status": "completed"
    },
    "tags": []
   },
   "outputs": [],
   "source": [
    "wards = data['ward_(from_venue)'].fillna(value='[]').pipe(util.convert.literal_converter).apply(np.unique)"
   ]
  },
  {
   "cell_type": "markdown",
   "id": "009027b4",
   "metadata": {
    "papermill": {
     "duration": 0.001612,
     "end_time": "2023-07-12T17:52:58.239574",
     "exception": false,
     "start_time": "2023-07-12T17:52:58.237962",
     "status": "completed"
    },
    "tags": []
   },
   "source": [
    "Print a list of events which have no ward, or more than one"
   ]
  },
  {
   "cell_type": "code",
   "execution_count": 5,
   "id": "9d788482",
   "metadata": {
    "execution": {
     "iopub.execute_input": "2023-07-12T17:52:58.243480Z",
     "iopub.status.busy": "2023-07-12T17:52:58.243259Z",
     "iopub.status.idle": "2023-07-12T17:52:58.253407Z",
     "shell.execute_reply": "2023-07-12T17:52:58.252946Z"
    },
    "papermill": {
     "duration": 0.013171,
     "end_time": "2023-07-12T17:52:58.254296",
     "exception": false,
     "start_time": "2023-07-12T17:52:58.241125",
     "status": "completed"
    },
    "tags": []
   },
   "outputs": [
    {
     "data": {
      "text/html": [
       "<div>\n",
       "<style scoped>\n",
       "    .dataframe tbody tr th:only-of-type {\n",
       "        vertical-align: middle;\n",
       "    }\n",
       "\n",
       "    .dataframe tbody tr th {\n",
       "        vertical-align: top;\n",
       "    }\n",
       "\n",
       "    .dataframe thead th {\n",
       "        text-align: right;\n",
       "    }\n",
       "</style>\n",
       "<table border=\"1\" class=\"dataframe\">\n",
       "  <thead>\n",
       "    <tr style=\"text-align: right;\">\n",
       "      <th></th>\n",
       "      <th>project_name</th>\n",
       "      <th>event_name</th>\n",
       "      <th>event_type</th>\n",
       "      <th>season</th>\n",
       "      <th>start_date</th>\n",
       "      <th>airtable_id</th>\n",
       "      <th>actual_audience_size_number_of_participants_in_person</th>\n",
       "      <th>event_unique_identifier</th>\n",
       "      <th>project_type</th>\n",
       "      <th>ward_(from_venue)</th>\n",
       "      <th>postcode_(from_venue)</th>\n",
       "      <th>end_date</th>\n",
       "      <th>number_of_booked_participants</th>\n",
       "      <th>actual_audience_size_number_of_participants_online</th>\n",
       "    </tr>\n",
       "  </thead>\n",
       "  <tbody>\n",
       "    <tr>\n",
       "      <th>11</th>\n",
       "      <td>12 - My LEEDS 2023</td>\n",
       "      <td>My Leeds Event Day 1 (Live Activation)</td>\n",
       "      <td>['Public Event - Performance']</td>\n",
       "      <td>['Season 2 - Playing']</td>\n",
       "      <td>2023-07-08</td>\n",
       "      <td>265</td>\n",
       "      <td>NaN</td>\n",
       "      <td>12 - My LEEDS 2023: My Leeds Event Day 1 (Live...</td>\n",
       "      <td>Produce (Signature)</td>\n",
       "      <td>NaN</td>\n",
       "      <td>NaN</td>\n",
       "      <td>2023-07-09</td>\n",
       "      <td>NaN</td>\n",
       "      <td>NaN</td>\n",
       "    </tr>\n",
       "    <tr>\n",
       "      <th>506</th>\n",
       "      <td>12 - My LEEDS 2023</td>\n",
       "      <td>The Gift: digital gift launch</td>\n",
       "      <td>['Public Event - Digital Experience']</td>\n",
       "      <td>['Season 2 - Playing']</td>\n",
       "      <td>2023-06-19</td>\n",
       "      <td>656</td>\n",
       "      <td>NaN</td>\n",
       "      <td>12 - My LEEDS 2023: The Gift: digital gift lau...</td>\n",
       "      <td>Produce (Signature)</td>\n",
       "      <td>NaN</td>\n",
       "      <td>NaN</td>\n",
       "      <td>2023-06-19</td>\n",
       "      <td>NaN</td>\n",
       "      <td>NaN</td>\n",
       "    </tr>\n",
       "    <tr>\n",
       "      <th>570</th>\n",
       "      <td>12 - My LEEDS 2023</td>\n",
       "      <td>The Gift: Garments</td>\n",
       "      <td>['Public Event - Installation']</td>\n",
       "      <td>['Season 2 - Playing']</td>\n",
       "      <td>2023-06-17</td>\n",
       "      <td>657</td>\n",
       "      <td>NaN</td>\n",
       "      <td>12 - My LEEDS 2023: The Gift: Garments</td>\n",
       "      <td>Produce (Signature)</td>\n",
       "      <td>NaN</td>\n",
       "      <td>NaN</td>\n",
       "      <td>2023-08-27</td>\n",
       "      <td>NaN</td>\n",
       "      <td>NaN</td>\n",
       "    </tr>\n",
       "    <tr>\n",
       "      <th>686</th>\n",
       "      <td>12 - My LEEDS 2023</td>\n",
       "      <td>My LEEDS Summer: Alwoodley Festival of Sport a...</td>\n",
       "      <td>['Public Event - Performance']</td>\n",
       "      <td>['Season 2 - Playing']</td>\n",
       "      <td>2023-07-09</td>\n",
       "      <td>430</td>\n",
       "      <td>NaN</td>\n",
       "      <td>12 - My LEEDS 2023: My LEEDS Summer: Alwoodley...</td>\n",
       "      <td>Produce (Signature)</td>\n",
       "      <td>['Alwoodley', 'Alwoodley', 'Alwoodley', 'Alwoo...</td>\n",
       "      <td>['LS17 7NZ', 'LS17 7PF', 'LS17 5HX', 'LS17 7HL...</td>\n",
       "      <td>2023-07-09</td>\n",
       "      <td>NaN</td>\n",
       "      <td>NaN</td>\n",
       "    </tr>\n",
       "  </tbody>\n",
       "</table>\n",
       "</div>"
      ],
      "text/plain": [
       "           project_name                                         event_name  \\\n",
       "11   12 - My LEEDS 2023             My Leeds Event Day 1 (Live Activation)   \n",
       "506  12 - My LEEDS 2023                     The Gift: digital gift launch    \n",
       "570  12 - My LEEDS 2023                                 The Gift: Garments   \n",
       "686  12 - My LEEDS 2023  My LEEDS Summer: Alwoodley Festival of Sport a...   \n",
       "\n",
       "                                event_type                  season start_date  \\\n",
       "11          ['Public Event - Performance']  ['Season 2 - Playing'] 2023-07-08   \n",
       "506  ['Public Event - Digital Experience']  ['Season 2 - Playing'] 2023-06-19   \n",
       "570        ['Public Event - Installation']  ['Season 2 - Playing'] 2023-06-17   \n",
       "686         ['Public Event - Performance']  ['Season 2 - Playing'] 2023-07-09   \n",
       "\n",
       "     airtable_id  actual_audience_size_number_of_participants_in_person  \\\n",
       "11           265                                                NaN       \n",
       "506          656                                                NaN       \n",
       "570          657                                                NaN       \n",
       "686          430                                                NaN       \n",
       "\n",
       "                               event_unique_identifier         project_type  \\\n",
       "11   12 - My LEEDS 2023: My Leeds Event Day 1 (Live...  Produce (Signature)   \n",
       "506  12 - My LEEDS 2023: The Gift: digital gift lau...  Produce (Signature)   \n",
       "570             12 - My LEEDS 2023: The Gift: Garments  Produce (Signature)   \n",
       "686  12 - My LEEDS 2023: My LEEDS Summer: Alwoodley...  Produce (Signature)   \n",
       "\n",
       "                                     ward_(from_venue)  \\\n",
       "11                                                 NaN   \n",
       "506                                                NaN   \n",
       "570                                                NaN   \n",
       "686  ['Alwoodley', 'Alwoodley', 'Alwoodley', 'Alwoo...   \n",
       "\n",
       "                                 postcode_(from_venue)    end_date  \\\n",
       "11                                                 NaN  2023-07-09   \n",
       "506                                                NaN  2023-06-19   \n",
       "570                                                NaN  2023-08-27   \n",
       "686  ['LS17 7NZ', 'LS17 7PF', 'LS17 5HX', 'LS17 7HL...  2023-07-09   \n",
       "\n",
       "     number_of_booked_participants  \\\n",
       "11                             NaN   \n",
       "506                            NaN   \n",
       "570                            NaN   \n",
       "686                            NaN   \n",
       "\n",
       "     actual_audience_size_number_of_participants_online  \n",
       "11                                                 NaN   \n",
       "506                                                NaN   \n",
       "570                                                NaN   \n",
       "686                                                NaN   "
      ]
     },
     "execution_count": 5,
     "metadata": {},
     "output_type": "execute_result"
    }
   ],
   "source": [
    "data[wards.apply(len) != 1]"
   ]
  },
  {
   "cell_type": "markdown",
   "id": "a8e3af0a",
   "metadata": {
    "papermill": {
     "duration": 0.002406,
     "end_time": "2023-07-12T17:52:58.258501",
     "exception": false,
     "start_time": "2023-07-12T17:52:58.256095",
     "status": "completed"
    },
    "tags": []
   },
   "source": [
    "Pick the first ward in the list and create a new column"
   ]
  },
  {
   "cell_type": "code",
   "execution_count": 6,
   "id": "496a05b5",
   "metadata": {
    "execution": {
     "iopub.execute_input": "2023-07-12T17:52:58.263930Z",
     "iopub.status.busy": "2023-07-12T17:52:58.263708Z",
     "iopub.status.idle": "2023-07-12T17:52:58.290680Z",
     "shell.execute_reply": "2023-07-12T17:52:58.290329Z"
    },
    "papermill": {
     "duration": 0.030721,
     "end_time": "2023-07-12T17:52:58.291495",
     "exception": false,
     "start_time": "2023-07-12T17:52:58.260774",
     "status": "completed"
    },
    "tags": []
   },
   "outputs": [],
   "source": [
    "data['ward_code'] = wards.apply(lambda x: x[0] if len(x) > 0 else np.nan).pipe(util.geo.normalise_leeds_wards).pipe(util.geo.ward_name_to_code)"
   ]
  },
  {
   "cell_type": "markdown",
   "id": "faf21ec5",
   "metadata": {
    "papermill": {
     "duration": 0.00179,
     "end_time": "2023-07-12T17:52:58.295315",
     "exception": false,
     "start_time": "2023-07-12T17:52:58.293525",
     "status": "completed"
    },
    "tags": []
   },
   "source": [
    "Calculate audience size"
   ]
  },
  {
   "cell_type": "code",
   "execution_count": 7,
   "id": "ab109e66",
   "metadata": {
    "execution": {
     "iopub.execute_input": "2023-07-12T17:52:58.299709Z",
     "iopub.status.busy": "2023-07-12T17:52:58.299436Z",
     "iopub.status.idle": "2023-07-12T17:52:58.303013Z",
     "shell.execute_reply": "2023-07-12T17:52:58.302685Z"
    },
    "papermill": {
     "duration": 0.006677,
     "end_time": "2023-07-12T17:52:58.303727",
     "exception": false,
     "start_time": "2023-07-12T17:52:58.297050",
     "status": "completed"
    },
    "tags": []
   },
   "outputs": [],
   "source": [
    "data['audience_size'] = data.actual_audience_size_number_of_participants_in_person.fillna(0) + data.actual_audience_size_number_of_participants_online.fillna(0)"
   ]
  },
  {
   "cell_type": "markdown",
   "id": "698c7b5c",
   "metadata": {
    "papermill": {
     "duration": 0.001749,
     "end_time": "2023-07-12T17:52:58.307385",
     "exception": false,
     "start_time": "2023-07-12T17:52:58.305636",
     "status": "completed"
    },
    "tags": []
   },
   "source": [
    "Create output directory"
   ]
  },
  {
   "cell_type": "code",
   "execution_count": 8,
   "id": "4d3da629",
   "metadata": {
    "execution": {
     "iopub.execute_input": "2023-07-12T17:52:58.311638Z",
     "iopub.status.busy": "2023-07-12T17:52:58.311445Z",
     "iopub.status.idle": "2023-07-12T17:52:58.313734Z",
     "shell.execute_reply": "2023-07-12T17:52:58.313424Z"
    },
    "papermill": {
     "duration": 0.005266,
     "end_time": "2023-07-12T17:52:58.314445",
     "exception": false,
     "start_time": "2023-07-12T17:52:58.309179",
     "status": "completed"
    },
    "tags": []
   },
   "outputs": [],
   "source": [
    "OUT_DIR = '../../../../docs/metrics/events/my-leeds-2023/_data/events'\n",
    "os.makedirs(OUT_DIR, exist_ok=True)"
   ]
  },
  {
   "cell_type": "markdown",
   "id": "e1b3fe95",
   "metadata": {
    "papermill": {
     "duration": 0.001699,
     "end_time": "2023-07-12T17:52:58.317943",
     "exception": false,
     "start_time": "2023-07-12T17:52:58.316244",
     "status": "completed"
    },
    "tags": []
   },
   "source": [
    "Create counts of events by ward and save CSV"
   ]
  },
  {
   "cell_type": "code",
   "execution_count": 9,
   "id": "749d69a7",
   "metadata": {
    "execution": {
     "iopub.execute_input": "2023-07-12T17:52:58.322055Z",
     "iopub.status.busy": "2023-07-12T17:52:58.321841Z",
     "iopub.status.idle": "2023-07-12T17:52:58.326374Z",
     "shell.execute_reply": "2023-07-12T17:52:58.326049Z"
    },
    "papermill": {
     "duration": 0.007481,
     "end_time": "2023-07-12T17:52:58.327097",
     "exception": false,
     "start_time": "2023-07-12T17:52:58.319616",
     "status": "completed"
    },
    "tags": []
   },
   "outputs": [],
   "source": [
    "by_ward = pd.DataFrame(\n",
    "  {\n",
    "    'events': data.groupby('ward_code').audience_size.count(),\n",
    "    'audience': data.groupby('ward_code').audience_size.sum(),\n",
    "  }\n",
    ")\n",
    "by_ward.to_csv(os.path.join(OUT_DIR, 'by_ward.csv'))"
   ]
  },
  {
   "cell_type": "markdown",
   "id": "d3e7cced",
   "metadata": {
    "papermill": {
     "duration": 0.001695,
     "end_time": "2023-07-12T17:52:58.330674",
     "exception": false,
     "start_time": "2023-07-12T17:52:58.328979",
     "status": "completed"
    },
    "tags": []
   },
   "source": [
    "Create summary by week"
   ]
  },
  {
   "cell_type": "code",
   "execution_count": 10,
   "id": "bb874d87",
   "metadata": {
    "execution": {
     "iopub.execute_input": "2023-07-12T17:52:58.334853Z",
     "iopub.status.busy": "2023-07-12T17:52:58.334683Z",
     "iopub.status.idle": "2023-07-12T17:52:58.346022Z",
     "shell.execute_reply": "2023-07-12T17:52:58.345463Z"
    },
    "papermill": {
     "duration": 0.014742,
     "end_time": "2023-07-12T17:52:58.347123",
     "exception": false,
     "start_time": "2023-07-12T17:52:58.332381",
     "status": "completed"
    },
    "tags": []
   },
   "outputs": [],
   "source": [
    "by_week = pd.DataFrame({\n",
    "  'events': data.groupby('start_date').audience_size.count(),\n",
    "  'audience': data.groupby('start_date').audience_size.sum().astype(int)\n",
    "}).resample('W-FRI').sum()\n",
    "by_week.index.name = 'week_ending'\n",
    "by_week['cumulative_events'] = by_week.events.cumsum()\n",
    "by_week['cumulative_audience'] = by_week.audience.cumsum()\n",
    "by_week.to_csv(os.path.join(OUT_DIR, 'by_week.csv'))"
   ]
  },
  {
   "cell_type": "markdown",
   "id": "6c6c2846",
   "metadata": {
    "papermill": {
     "duration": 0.001706,
     "end_time": "2023-07-12T17:52:58.350749",
     "exception": false,
     "start_time": "2023-07-12T17:52:58.349043",
     "status": "completed"
    },
    "tags": []
   },
   "source": [
    "Create summary by month"
   ]
  },
  {
   "cell_type": "code",
   "execution_count": 11,
   "id": "72a6aa7e",
   "metadata": {
    "execution": {
     "iopub.execute_input": "2023-07-12T17:52:58.354796Z",
     "iopub.status.busy": "2023-07-12T17:52:58.354649Z",
     "iopub.status.idle": "2023-07-12T17:52:58.359156Z",
     "shell.execute_reply": "2023-07-12T17:52:58.358820Z"
    },
    "papermill": {
     "duration": 0.007355,
     "end_time": "2023-07-12T17:52:58.359814",
     "exception": false,
     "start_time": "2023-07-12T17:52:58.352459",
     "status": "completed"
    },
    "tags": []
   },
   "outputs": [],
   "source": [
    "by_month = by_week.resample('M').sum()\n",
    "by_month['cumulative_events'] = by_month.events.cumsum()\n",
    "by_month['cumulative_audience'] = by_month.audience.cumsum()\n",
    "by_month.index.name = 'month_ending'\n",
    "by_month.to_csv(os.path.join(OUT_DIR, 'by_month.csv'))"
   ]
  },
  {
   "cell_type": "markdown",
   "id": "ef20308f",
   "metadata": {
    "papermill": {
     "duration": 0.00271,
     "end_time": "2023-07-12T17:52:58.364343",
     "exception": false,
     "start_time": "2023-07-12T17:52:58.361633",
     "status": "completed"
    },
    "tags": []
   },
   "source": [
    "Create headline counts of events"
   ]
  },
  {
   "cell_type": "code",
   "execution_count": 12,
   "id": "be58b020",
   "metadata": {
    "execution": {
     "iopub.execute_input": "2023-07-12T17:52:58.369026Z",
     "iopub.status.busy": "2023-07-12T17:52:58.368806Z",
     "iopub.status.idle": "2023-07-12T17:52:58.373196Z",
     "shell.execute_reply": "2023-07-12T17:52:58.372689Z"
    },
    "papermill": {
     "duration": 0.007914,
     "end_time": "2023-07-12T17:52:58.374264",
     "exception": false,
     "start_time": "2023-07-12T17:52:58.366350",
     "status": "completed"
    },
    "tags": []
   },
   "outputs": [],
   "source": [
    "by_month.drop(\n",
    "    columns=['events', 'audience']\n",
    ").rename(\n",
    "    columns=lambda n: n.replace('cumulative', 'total')\n",
    ").iloc[-1].to_json(os.path.join(OUT_DIR, 'headlines.json'))"
   ]
  }
 ],
 "metadata": {
  "kernelspec": {
   "display_name": "leeds-2023-YZF5GfJv",
   "language": "python",
   "name": "python3"
  },
  "language_info": {
   "codemirror_mode": {
    "name": "ipython",
    "version": 3
   },
   "file_extension": ".py",
   "mimetype": "text/x-python",
   "name": "python",
   "nbconvert_exporter": "python",
   "pygments_lexer": "ipython3",
   "version": "3.10.6"
  },
  "papermill": {
   "default_parameters": {},
   "duration": 1.33129,
   "end_time": "2023-07-12T17:52:58.592306",
   "environment_variables": {},
   "exception": null,
   "input_path": "my-leeds-2023.ipynb",
   "output_path": "../../../../working/output/my-leeds-2023.ipynb",
   "parameters": {},
   "start_time": "2023-07-12T17:52:57.261016",
   "version": "2.4.0"
  }
 },
 "nbformat": 4,
 "nbformat_minor": 5
}