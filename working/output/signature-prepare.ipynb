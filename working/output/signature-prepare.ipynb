{
 "cells": [
  {
   "cell_type": "code",
   "execution_count": 1,
   "id": "aa76a891",
   "metadata": {
    "execution": {
     "iopub.execute_input": "2023-11-22T23:40:26.721031Z",
     "iopub.status.busy": "2023-11-22T23:40:26.720776Z",
     "iopub.status.idle": "2023-11-22T23:40:34.252596Z",
     "shell.execute_reply": "2023-11-22T23:40:34.251807Z"
    },
    "papermill": {
     "duration": 7.537285,
     "end_time": "2023-11-22T23:40:34.254594",
     "exception": false,
     "start_time": "2023-11-22T23:40:26.717309",
     "status": "completed"
    },
    "tags": []
   },
   "outputs": [],
   "source": [
    "import os\n",
    "import pandas as pd\n",
    "from events import load_event_data, get_first_ward, normalise_ward"
   ]
  },
  {
   "cell_type": "code",
   "execution_count": 2,
   "id": "8337d91a",
   "metadata": {
    "execution": {
     "iopub.execute_input": "2023-11-22T23:40:34.260495Z",
     "iopub.status.busy": "2023-11-22T23:40:34.259927Z",
     "iopub.status.idle": "2023-11-22T23:40:34.263824Z",
     "shell.execute_reply": "2023-11-22T23:40:34.263246Z"
    },
    "papermill": {
     "duration": 0.008172,
     "end_time": "2023-11-22T23:40:34.265096",
     "exception": false,
     "start_time": "2023-11-22T23:40:34.256924",
     "status": "completed"
    },
    "tags": []
   },
   "outputs": [],
   "source": [
    "latest_date = pd.Timestamp.today().ceil('D')"
   ]
  },
  {
   "cell_type": "code",
   "execution_count": 3,
   "id": "427ab182",
   "metadata": {
    "execution": {
     "iopub.execute_input": "2023-11-22T23:40:34.270205Z",
     "iopub.status.busy": "2023-11-22T23:40:34.269725Z",
     "iopub.status.idle": "2023-11-22T23:40:34.284962Z",
     "shell.execute_reply": "2023-11-22T23:40:34.284386Z"
    },
    "papermill": {
     "duration": 0.019544,
     "end_time": "2023-11-22T23:40:34.286601",
     "exception": false,
     "start_time": "2023-11-22T23:40:34.267057",
     "status": "completed"
    },
    "tags": []
   },
   "outputs": [],
   "source": [
    "tickets = pd.read_csv('../../../../data/metrics/events/tickets/orders.csv', parse_dates=['created_at', 'event_date'])\n",
    "tickets = tickets[tickets.event_date <= latest_date]"
   ]
  },
  {
   "cell_type": "code",
   "execution_count": 4,
   "id": "5d219294",
   "metadata": {
    "execution": {
     "iopub.execute_input": "2023-11-22T23:40:34.291993Z",
     "iopub.status.busy": "2023-11-22T23:40:34.291460Z",
     "iopub.status.idle": "2023-11-22T23:40:34.342599Z",
     "shell.execute_reply": "2023-11-22T23:40:34.341840Z"
    },
    "papermill": {
     "duration": 0.055784,
     "end_time": "2023-11-22T23:40:34.344398",
     "exception": false,
     "start_time": "2023-11-22T23:40:34.288614",
     "status": "completed"
    },
    "tags": []
   },
   "outputs": [],
   "source": [
    "events = load_event_data()\n",
    "\n",
    "events = pd.concat([\n",
    "  events,\n",
    "  events.pipe(get_first_ward).pipe(normalise_ward).fillna('UNKNOWN'),\n",
    "  pd.Series(\n",
    "      events.actual_audience_size_number_of_participants_in_person + events.actual_audience_size_number_of_participants_online,\n",
    "      name='attendances'\n",
    "  )\n",
    "], axis=1).rename(columns={\n",
    "    'start_date': 'date'\n",
    "}).loc[:, ['ward_code', 'date', 'event_unique_identifier', 'attendances']]"
   ]
  },
  {
   "cell_type": "code",
   "execution_count": 5,
   "id": "59756078",
   "metadata": {
    "execution": {
     "iopub.execute_input": "2023-11-22T23:40:34.349866Z",
     "iopub.status.busy": "2023-11-22T23:40:34.349360Z",
     "iopub.status.idle": "2023-11-22T23:40:34.352846Z",
     "shell.execute_reply": "2023-11-22T23:40:34.352197Z"
    },
    "papermill": {
     "duration": 0.007553,
     "end_time": "2023-11-22T23:40:34.354111",
     "exception": false,
     "start_time": "2023-11-22T23:40:34.346558",
     "status": "completed"
    },
    "tags": []
   },
   "outputs": [],
   "source": [
    "OUTPUT_DIR='../../../../docs/metrics/events/signature/_data/'\n",
    "os.makedirs(OUTPUT_DIR, exist_ok=True)"
   ]
  },
  {
   "cell_type": "markdown",
   "id": "73021c02",
   "metadata": {
    "papermill": {
     "duration": 0.001949,
     "end_time": "2023-11-22T23:40:34.358053",
     "exception": false,
     "start_time": "2023-11-22T23:40:34.356104",
     "status": "completed"
    },
    "tags": []
   },
   "source": [
    "Events CSVs"
   ]
  },
  {
   "cell_type": "code",
   "execution_count": 6,
   "id": "7eeabc54",
   "metadata": {
    "execution": {
     "iopub.execute_input": "2023-11-22T23:40:34.363188Z",
     "iopub.status.busy": "2023-11-22T23:40:34.362680Z",
     "iopub.status.idle": "2023-11-22T23:40:34.369207Z",
     "shell.execute_reply": "2023-11-22T23:40:34.368587Z"
    },
    "papermill": {
     "duration": 0.010687,
     "end_time": "2023-11-22T23:40:34.370785",
     "exception": false,
     "start_time": "2023-11-22T23:40:34.360098",
     "status": "completed"
    },
    "tags": []
   },
   "outputs": [],
   "source": [
    "pd.DataFrame({\n",
    "  'events': events.groupby('ward_code').event_unique_identifier.count(),\n",
    "  'attendances': events.groupby('ward_code').attendances.sum().astype(int),\n",
    "}).to_csv(os.path.join(OUTPUT_DIR, 'events_by_ward.csv'))\n"
   ]
  },
  {
   "cell_type": "code",
   "execution_count": 7,
   "id": "32b39e82",
   "metadata": {
    "execution": {
     "iopub.execute_input": "2023-11-22T23:40:34.375792Z",
     "iopub.status.busy": "2023-11-22T23:40:34.375403Z",
     "iopub.status.idle": "2023-11-22T23:40:34.383911Z",
     "shell.execute_reply": "2023-11-22T23:40:34.383392Z"
    },
    "papermill": {
     "duration": 0.012542,
     "end_time": "2023-11-22T23:40:34.385263",
     "exception": false,
     "start_time": "2023-11-22T23:40:34.372721",
     "status": "completed"
    },
    "tags": []
   },
   "outputs": [],
   "source": [
    "pd.DataFrame({\n",
    "  'events': events.groupby('date').event_unique_identifier.count(),\n",
    "  'attendances': events.groupby('date').attendances.sum().astype(int),\n",
    "}).resample('M').sum().astype(int).to_csv(os.path.join(OUTPUT_DIR, 'events_by_date.csv'))"
   ]
  },
  {
   "cell_type": "markdown",
   "id": "2a0337ab",
   "metadata": {
    "papermill": {
     "duration": 0.002825,
     "end_time": "2023-11-22T23:40:34.390150",
     "exception": false,
     "start_time": "2023-11-22T23:40:34.387325",
     "status": "completed"
    },
    "tags": []
   },
   "source": [
    "Tickets CSV"
   ]
  },
  {
   "cell_type": "code",
   "execution_count": 8,
   "id": "f7fd90a6",
   "metadata": {
    "execution": {
     "iopub.execute_input": "2023-11-22T23:40:34.395227Z",
     "iopub.status.busy": "2023-11-22T23:40:34.394839Z",
     "iopub.status.idle": "2023-11-22T23:40:34.401122Z",
     "shell.execute_reply": "2023-11-22T23:40:34.400616Z"
    },
    "papermill": {
     "duration": 0.010217,
     "end_time": "2023-11-22T23:40:34.402369",
     "exception": false,
     "start_time": "2023-11-22T23:40:34.392152",
     "status": "completed"
    },
    "tags": []
   },
   "outputs": [],
   "source": [
    "pd.DataFrame({\n",
    "  'orders': tickets.groupby('ward_code').number_of_tickets.count(),\n",
    "  'tickets': tickets.groupby('ward_code').number_of_tickets.sum().astype(int),\n",
    "}).to_csv(os.path.join(OUTPUT_DIR, 'tickets_by_ward.csv'))"
   ]
  },
  {
   "cell_type": "code",
   "execution_count": 9,
   "id": "9ec21bb1",
   "metadata": {
    "execution": {
     "iopub.execute_input": "2023-11-22T23:40:34.407480Z",
     "iopub.status.busy": "2023-11-22T23:40:34.407091Z",
     "iopub.status.idle": "2023-11-22T23:40:34.414485Z",
     "shell.execute_reply": "2023-11-22T23:40:34.413822Z"
    },
    "papermill": {
     "duration": 0.011564,
     "end_time": "2023-11-22T23:40:34.415983",
     "exception": false,
     "start_time": "2023-11-22T23:40:34.404419",
     "status": "completed"
    },
    "tags": []
   },
   "outputs": [],
   "source": [
    "pd.DataFrame({\n",
    "  'orders': tickets.groupby('event_date').number_of_tickets.count(),\n",
    "  'tickets': tickets.groupby('event_date').number_of_tickets.sum().astype(int),\n",
    "}).resample('M').sum().to_csv(os.path.join(OUTPUT_DIR, 'tickets_by_event_date.csv'))"
   ]
  },
  {
   "cell_type": "code",
   "execution_count": 10,
   "id": "a6b82211",
   "metadata": {
    "execution": {
     "iopub.execute_input": "2023-11-22T23:40:34.421126Z",
     "iopub.status.busy": "2023-11-22T23:40:34.420769Z",
     "iopub.status.idle": "2023-11-22T23:40:34.425826Z",
     "shell.execute_reply": "2023-11-22T23:40:34.425216Z"
    },
    "papermill": {
     "duration": 0.009133,
     "end_time": "2023-11-22T23:40:34.427138",
     "exception": false,
     "start_time": "2023-11-22T23:40:34.418005",
     "status": "completed"
    },
    "tags": []
   },
   "outputs": [],
   "source": [
    "pd.Series({\n",
    "    'total_events': events.event_unique_identifier.count(),\n",
    "    'total_attendances': events.attendances.count(),\n",
    "    'first_event': events.date.min(),\n",
    "    'latest_event': events.date.max(),\n",
    "    'total_ticket_orders_for_events_to_date': tickets.number_of_tickets.count(),\n",
    "    'total_tickets_sold_for_events_to_date': tickets.number_of_tickets.sum(),\n",
    "}).to_json(os.path.join(OUTPUT_DIR, 'headlines.json'), indent=2)"
   ]
  },
  {
   "cell_type": "code",
   "execution_count": null,
   "id": "7c47115c",
   "metadata": {
    "papermill": {
     "duration": 0.002045,
     "end_time": "2023-11-22T23:40:34.431195",
     "exception": false,
     "start_time": "2023-11-22T23:40:34.429150",
     "status": "completed"
    },
    "tags": []
   },
   "outputs": [],
   "source": []
  }
 ],
 "metadata": {
  "kernelspec": {
   "display_name": "leeds-2023-YZF5GfJv",
   "language": "python",
   "name": "python3"
  },
  "language_info": {
   "codemirror_mode": {
    "name": "ipython",
    "version": 3
   },
   "file_extension": ".py",
   "mimetype": "text/x-python",
   "name": "python",
   "nbconvert_exporter": "python",
   "pygments_lexer": "ipython3",
   "version": "3.10.13"
  },
  "papermill": {
   "default_parameters": {},
   "duration": 9.298192,
   "end_time": "2023-11-22T23:40:34.749038",
   "environment_variables": {},
   "exception": null,
   "input_path": "prepare.ipynb",
   "output_path": "../../../../working/output/signature-prepare.ipynb",
   "parameters": {},
   "start_time": "2023-11-22T23:40:25.450846",
   "version": "2.4.0"
  }
 },
 "nbformat": 4,
 "nbformat_minor": 5
}