{
 "cells": [
  {
   "cell_type": "code",
   "execution_count": 1,
   "id": "c434b643",
   "metadata": {
    "execution": {
     "iopub.execute_input": "2023-10-25T23:41:35.037031Z",
     "iopub.status.busy": "2023-10-25T23:41:35.036666Z",
     "iopub.status.idle": "2023-10-25T23:41:49.732217Z",
     "shell.execute_reply": "2023-10-25T23:41:49.731144Z"
    },
    "papermill": {
     "duration": 14.704456,
     "end_time": "2023-10-25T23:41:49.735205",
     "exception": false,
     "start_time": "2023-10-25T23:41:35.030749",
     "status": "completed"
    },
    "tags": []
   },
   "outputs": [],
   "source": [
    "import os\n",
    "import pandas as pd\n",
    "from events import load_event_data, get_first_ward, normalise_ward"
   ]
  },
  {
   "cell_type": "code",
   "execution_count": 2,
   "id": "87b4284a",
   "metadata": {
    "execution": {
     "iopub.execute_input": "2023-10-25T23:41:49.744405Z",
     "iopub.status.busy": "2023-10-25T23:41:49.743462Z",
     "iopub.status.idle": "2023-10-25T23:41:49.750155Z",
     "shell.execute_reply": "2023-10-25T23:41:49.748915Z"
    },
    "papermill": {
     "duration": 0.013294,
     "end_time": "2023-10-25T23:41:49.752382",
     "exception": false,
     "start_time": "2023-10-25T23:41:49.739088",
     "status": "completed"
    },
    "tags": []
   },
   "outputs": [],
   "source": [
    "latest_date = pd.Timestamp.today().ceil('D')"
   ]
  },
  {
   "cell_type": "code",
   "execution_count": 3,
   "id": "c50f2525",
   "metadata": {
    "execution": {
     "iopub.execute_input": "2023-10-25T23:41:49.760229Z",
     "iopub.status.busy": "2023-10-25T23:41:49.759678Z",
     "iopub.status.idle": "2023-10-25T23:41:49.786377Z",
     "shell.execute_reply": "2023-10-25T23:41:49.785369Z"
    },
    "papermill": {
     "duration": 0.033873,
     "end_time": "2023-10-25T23:41:49.789272",
     "exception": false,
     "start_time": "2023-10-25T23:41:49.755399",
     "status": "completed"
    },
    "tags": []
   },
   "outputs": [],
   "source": [
    "tickets = pd.read_csv('../../../../data/metrics/events/tickets/orders.csv', parse_dates=['created_at', 'event_date'])\n",
    "tickets = tickets[tickets.event_date <= latest_date]"
   ]
  },
  {
   "cell_type": "code",
   "execution_count": 4,
   "id": "23078d34",
   "metadata": {
    "execution": {
     "iopub.execute_input": "2023-10-25T23:41:49.797869Z",
     "iopub.status.busy": "2023-10-25T23:41:49.797215Z",
     "iopub.status.idle": "2023-10-25T23:41:49.862842Z",
     "shell.execute_reply": "2023-10-25T23:41:49.861651Z"
    },
    "papermill": {
     "duration": 0.073251,
     "end_time": "2023-10-25T23:41:49.865651",
     "exception": false,
     "start_time": "2023-10-25T23:41:49.792400",
     "status": "completed"
    },
    "tags": []
   },
   "outputs": [],
   "source": [
    "events = load_event_data()\n",
    "\n",
    "events = pd.concat([\n",
    "  events,\n",
    "  events.pipe(get_first_ward).pipe(normalise_ward).fillna('UNKNOWN'),\n",
    "  pd.Series(\n",
    "      events.actual_audience_size_number_of_participants_in_person + events.actual_audience_size_number_of_participants_online,\n",
    "      name='attendances'\n",
    "  )\n",
    "], axis=1).rename(columns={\n",
    "    'start_date': 'date'\n",
    "}).loc[:, ['ward_code', 'date', 'event_unique_identifier', 'attendances']]"
   ]
  },
  {
   "cell_type": "code",
   "execution_count": 5,
   "id": "562c58e1",
   "metadata": {
    "execution": {
     "iopub.execute_input": "2023-10-25T23:41:49.875061Z",
     "iopub.status.busy": "2023-10-25T23:41:49.874770Z",
     "iopub.status.idle": "2023-10-25T23:41:49.879167Z",
     "shell.execute_reply": "2023-10-25T23:41:49.878340Z"
    },
    "papermill": {
     "duration": 0.011408,
     "end_time": "2023-10-25T23:41:49.881448",
     "exception": false,
     "start_time": "2023-10-25T23:41:49.870040",
     "status": "completed"
    },
    "tags": []
   },
   "outputs": [],
   "source": [
    "OUTPUT_DIR='../../../../docs/metrics/events/signature/_data/'\n",
    "os.makedirs(OUTPUT_DIR, exist_ok=True)"
   ]
  },
  {
   "cell_type": "markdown",
   "id": "0aff47ca",
   "metadata": {
    "papermill": {
     "duration": 0.003146,
     "end_time": "2023-10-25T23:41:49.888102",
     "exception": false,
     "start_time": "2023-10-25T23:41:49.884956",
     "status": "completed"
    },
    "tags": []
   },
   "source": [
    "Events CSVs"
   ]
  },
  {
   "cell_type": "code",
   "execution_count": 6,
   "id": "f709ff90",
   "metadata": {
    "execution": {
     "iopub.execute_input": "2023-10-25T23:41:49.899722Z",
     "iopub.status.busy": "2023-10-25T23:41:49.899386Z",
     "iopub.status.idle": "2023-10-25T23:41:49.910024Z",
     "shell.execute_reply": "2023-10-25T23:41:49.909052Z"
    },
    "papermill": {
     "duration": 0.018192,
     "end_time": "2023-10-25T23:41:49.912666",
     "exception": false,
     "start_time": "2023-10-25T23:41:49.894474",
     "status": "completed"
    },
    "tags": []
   },
   "outputs": [],
   "source": [
    "pd.DataFrame({\n",
    "  'events': events.groupby('ward_code').event_unique_identifier.count(),\n",
    "  'attendances': events.groupby('ward_code').attendances.sum().astype(int),\n",
    "}).to_csv(os.path.join(OUTPUT_DIR, 'events_by_ward.csv'))\n"
   ]
  },
  {
   "cell_type": "code",
   "execution_count": 7,
   "id": "8b2d420b",
   "metadata": {
    "execution": {
     "iopub.execute_input": "2023-10-25T23:41:49.921087Z",
     "iopub.status.busy": "2023-10-25T23:41:49.920386Z",
     "iopub.status.idle": "2023-10-25T23:41:49.934548Z",
     "shell.execute_reply": "2023-10-25T23:41:49.933556Z"
    },
    "papermill": {
     "duration": 0.021109,
     "end_time": "2023-10-25T23:41:49.936909",
     "exception": false,
     "start_time": "2023-10-25T23:41:49.915800",
     "status": "completed"
    },
    "tags": []
   },
   "outputs": [],
   "source": [
    "pd.DataFrame({\n",
    "  'events': events.groupby('date').event_unique_identifier.count(),\n",
    "  'attendances': events.groupby('date').attendances.sum().astype(int),\n",
    "}).resample('M').sum().astype(int).to_csv(os.path.join(OUTPUT_DIR, 'events_by_date.csv'))"
   ]
  },
  {
   "cell_type": "markdown",
   "id": "a9618cb4",
   "metadata": {
    "papermill": {
     "duration": 0.002998,
     "end_time": "2023-10-25T23:41:49.944454",
     "exception": false,
     "start_time": "2023-10-25T23:41:49.941456",
     "status": "completed"
    },
    "tags": []
   },
   "source": [
    "Tickets CSV"
   ]
  },
  {
   "cell_type": "code",
   "execution_count": 8,
   "id": "69a8614a",
   "metadata": {
    "execution": {
     "iopub.execute_input": "2023-10-25T23:41:49.953070Z",
     "iopub.status.busy": "2023-10-25T23:41:49.952602Z",
     "iopub.status.idle": "2023-10-25T23:41:49.962694Z",
     "shell.execute_reply": "2023-10-25T23:41:49.961799Z"
    },
    "papermill": {
     "duration": 0.017293,
     "end_time": "2023-10-25T23:41:49.964778",
     "exception": false,
     "start_time": "2023-10-25T23:41:49.947485",
     "status": "completed"
    },
    "tags": []
   },
   "outputs": [],
   "source": [
    "pd.DataFrame({\n",
    "  'orders': tickets.groupby('ward_code').number_of_tickets.count(),\n",
    "  'tickets': tickets.groupby('ward_code').number_of_tickets.sum().astype(int),\n",
    "}).to_csv(os.path.join(OUTPUT_DIR, 'tickets_by_ward.csv'))"
   ]
  },
  {
   "cell_type": "code",
   "execution_count": 9,
   "id": "40b1fa3d",
   "metadata": {
    "execution": {
     "iopub.execute_input": "2023-10-25T23:41:49.973595Z",
     "iopub.status.busy": "2023-10-25T23:41:49.973113Z",
     "iopub.status.idle": "2023-10-25T23:41:49.986338Z",
     "shell.execute_reply": "2023-10-25T23:41:49.984994Z"
    },
    "papermill": {
     "duration": 0.020456,
     "end_time": "2023-10-25T23:41:49.988552",
     "exception": false,
     "start_time": "2023-10-25T23:41:49.968096",
     "status": "completed"
    },
    "tags": []
   },
   "outputs": [],
   "source": [
    "pd.DataFrame({\n",
    "  'orders': tickets.groupby('event_date').number_of_tickets.count(),\n",
    "  'tickets': tickets.groupby('event_date').number_of_tickets.sum().astype(int),\n",
    "}).resample('M').sum().to_csv(os.path.join(OUTPUT_DIR, 'tickets_by_event_date.csv'))"
   ]
  },
  {
   "cell_type": "code",
   "execution_count": 10,
   "id": "0dbb5ac8",
   "metadata": {
    "execution": {
     "iopub.execute_input": "2023-10-25T23:41:49.998294Z",
     "iopub.status.busy": "2023-10-25T23:41:49.997520Z",
     "iopub.status.idle": "2023-10-25T23:41:50.007102Z",
     "shell.execute_reply": "2023-10-25T23:41:50.006081Z"
    },
    "papermill": {
     "duration": 0.016876,
     "end_time": "2023-10-25T23:41:50.009690",
     "exception": false,
     "start_time": "2023-10-25T23:41:49.992814",
     "status": "completed"
    },
    "tags": []
   },
   "outputs": [],
   "source": [
    "pd.Series({\n",
    "    'total_events': events.event_unique_identifier.count(),\n",
    "    'total_attendances': events.attendances.count(),\n",
    "    'first_event': events.date.min(),\n",
    "    'latest_event': events.date.max(),\n",
    "    'total_ticket_orders_for_events_to_date': tickets.number_of_tickets.count(),\n",
    "    'total_tickets_sold_for_events_to_date': tickets.number_of_tickets.sum(),\n",
    "}).to_json(os.path.join(OUTPUT_DIR, 'headlines.json'), indent=2)"
   ]
  },
  {
   "cell_type": "code",
   "execution_count": null,
   "id": "c5113e03",
   "metadata": {
    "papermill": {
     "duration": 0.00359,
     "end_time": "2023-10-25T23:41:50.016906",
     "exception": false,
     "start_time": "2023-10-25T23:41:50.013316",
     "status": "completed"
    },
    "tags": []
   },
   "outputs": [],
   "source": []
  }
 ],
 "metadata": {
  "kernelspec": {
   "display_name": "leeds-2023-YZF5GfJv",
   "language": "python",
   "name": "python3"
  },
  "language_info": {
   "codemirror_mode": {
    "name": "ipython",
    "version": 3
   },
   "file_extension": ".py",
   "mimetype": "text/x-python",
   "name": "python",
   "nbconvert_exporter": "python",
   "pygments_lexer": "ipython3",
   "version": "3.10.13"
  },
  "papermill": {
   "default_parameters": {},
   "duration": 17.288588,
   "end_time": "2023-10-25T23:41:50.441338",
   "environment_variables": {},
   "exception": null,
   "input_path": "prepare.ipynb",
   "output_path": "../../../../working/output/signature-prepare.ipynb",
   "parameters": {},
   "start_time": "2023-10-25T23:41:33.152750",
   "version": "2.4.0"
  }
 },
 "nbformat": 4,
 "nbformat_minor": 5
}