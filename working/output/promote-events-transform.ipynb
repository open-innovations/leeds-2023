{
 "cells": [
  {
   "cell_type": "code",
   "execution_count": 1,
   "id": "c2150577",
   "metadata": {
    "execution": {
     "iopub.execute_input": "2023-10-16T23:41:02.661114Z",
     "iopub.status.busy": "2023-10-16T23:41:02.660528Z",
     "iopub.status.idle": "2023-10-16T23:41:02.926837Z",
     "shell.execute_reply": "2023-10-16T23:41:02.926177Z"
    },
    "papermill": {
     "duration": 0.272234,
     "end_time": "2023-10-16T23:41:02.929043",
     "exception": false,
     "start_time": "2023-10-16T23:41:02.656809",
     "status": "completed"
    },
    "tags": []
   },
   "outputs": [],
   "source": [
    "import os\n",
    "import pandas as pd"
   ]
  },
  {
   "cell_type": "code",
   "execution_count": 2,
   "id": "b7d5a8e4",
   "metadata": {
    "execution": {
     "iopub.execute_input": "2023-10-16T23:41:02.934064Z",
     "iopub.status.busy": "2023-10-16T23:41:02.933491Z",
     "iopub.status.idle": "2023-10-16T23:41:02.937804Z",
     "shell.execute_reply": "2023-10-16T23:41:02.936480Z"
    },
    "papermill": {
     "duration": 0.008436,
     "end_time": "2023-10-16T23:41:02.939434",
     "exception": false,
     "start_time": "2023-10-16T23:41:02.930998",
     "status": "completed"
    },
    "tags": []
   },
   "outputs": [],
   "source": [
    "EVENTS_RAW_DATA = '../../../working/metrics/promote-events/events.csv'\n",
    "DATA_DIR = '../../../data/metrics/events/promote-events/'\n",
    "EVENTS_DATA = os.path.join(DATA_DIR, 'events.csv')"
   ]
  },
  {
   "cell_type": "code",
   "execution_count": 3,
   "id": "691fa618",
   "metadata": {
    "execution": {
     "iopub.execute_input": "2023-10-16T23:41:02.943460Z",
     "iopub.status.busy": "2023-10-16T23:41:02.942919Z",
     "iopub.status.idle": "2023-10-16T23:41:02.946442Z",
     "shell.execute_reply": "2023-10-16T23:41:02.945796Z"
    },
    "papermill": {
     "duration": 0.007264,
     "end_time": "2023-10-16T23:41:02.948057",
     "exception": false,
     "start_time": "2023-10-16T23:41:02.940793",
     "status": "completed"
    },
    "tags": []
   },
   "outputs": [],
   "source": [
    "columns = {\n",
    "    'id': 'id',\n",
    "    'name': 'name',\n",
    "    'locationName': 'location',\n",
    "    'cardPrice': 'card_price',\n",
    "    'timeslots': 'time',\n",
    "    # 'displayOnWebsite': 'display',\n",
    "    'Stage': 'stage',\n",
    "}"
   ]
  },
  {
   "cell_type": "code",
   "execution_count": 4,
   "id": "9af51f8e",
   "metadata": {
    "execution": {
     "iopub.execute_input": "2023-10-16T23:41:02.952099Z",
     "iopub.status.busy": "2023-10-16T23:41:02.951564Z",
     "iopub.status.idle": "2023-10-16T23:41:02.962651Z",
     "shell.execute_reply": "2023-10-16T23:41:02.962041Z"
    },
    "papermill": {
     "duration": 0.014742,
     "end_time": "2023-10-16T23:41:02.964229",
     "exception": false,
     "start_time": "2023-10-16T23:41:02.949487",
     "status": "completed"
    },
    "tags": []
   },
   "outputs": [],
   "source": [
    "data = pd.read_csv(EVENTS_RAW_DATA)[columns.keys()].rename(columns=columns)\n",
    "data.time = pd.to_datetime(data.time, errors='coerce')"
   ]
  },
  {
   "cell_type": "code",
   "execution_count": 5,
   "id": "e57588bf",
   "metadata": {
    "execution": {
     "iopub.execute_input": "2023-10-16T23:41:02.968424Z",
     "iopub.status.busy": "2023-10-16T23:41:02.967833Z",
     "iopub.status.idle": "2023-10-16T23:41:02.973658Z",
     "shell.execute_reply": "2023-10-16T23:41:02.973053Z"
    },
    "papermill": {
     "duration": 0.009446,
     "end_time": "2023-10-16T23:41:02.975091",
     "exception": false,
     "start_time": "2023-10-16T23:41:02.965645",
     "status": "completed"
    },
    "tags": []
   },
   "outputs": [],
   "source": [
    "data.to_csv(os.path.join(DATA_DIR, 'events.csv'), index=False)"
   ]
  }
 ],
 "metadata": {
  "kernelspec": {
   "display_name": "leeds-2023-YZF5GfJv",
   "language": "python",
   "name": "python3"
  },
  "language_info": {
   "codemirror_mode": {
    "name": "ipython",
    "version": 3
   },
   "file_extension": ".py",
   "mimetype": "text/x-python",
   "name": "python",
   "nbconvert_exporter": "python",
   "pygments_lexer": "ipython3",
   "version": "3.10.13"
  },
  "papermill": {
   "default_parameters": {},
   "duration": 1.910512,
   "end_time": "2023-10-16T23:41:03.192651",
   "environment_variables": {},
   "exception": null,
   "input_path": "transform.ipynb",
   "output_path": "../../../working/output/promote-events-transform.ipynb",
   "parameters": {},
   "start_time": "2023-10-16T23:41:01.282139",
   "version": "2.4.0"
  }
 },
 "nbformat": 4,
 "nbformat_minor": 5
}