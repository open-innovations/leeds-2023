{
 "cells": [
  {
   "cell_type": "code",
   "execution_count": 1,
   "id": "808cc6c6",
   "metadata": {
    "execution": {
     "iopub.execute_input": "2023-07-21T23:38:22.543706Z",
     "iopub.status.busy": "2023-07-21T23:38:22.543214Z",
     "iopub.status.idle": "2023-07-21T23:38:22.787580Z",
     "shell.execute_reply": "2023-07-21T23:38:22.786900Z"
    },
    "papermill": {
     "duration": 0.249993,
     "end_time": "2023-07-21T23:38:22.789824",
     "exception": false,
     "start_time": "2023-07-21T23:38:22.539831",
     "status": "completed"
    },
    "tags": []
   },
   "outputs": [],
   "source": [
    "import os\n",
    "import pandas as pd"
   ]
  },
  {
   "cell_type": "code",
   "execution_count": 2,
   "id": "57dab2dd",
   "metadata": {
    "execution": {
     "iopub.execute_input": "2023-07-21T23:38:22.794452Z",
     "iopub.status.busy": "2023-07-21T23:38:22.793757Z",
     "iopub.status.idle": "2023-07-21T23:38:22.797257Z",
     "shell.execute_reply": "2023-07-21T23:38:22.796630Z"
    },
    "papermill": {
     "duration": 0.007541,
     "end_time": "2023-07-21T23:38:22.798964",
     "exception": false,
     "start_time": "2023-07-21T23:38:22.791423",
     "status": "completed"
    },
    "tags": []
   },
   "outputs": [],
   "source": [
    "EVENTS_RAW_DATA = '../../../working/metrics/promote-events/events.csv'\n",
    "DATA_DIR = '../../../data/metrics/events/promote-events/'\n",
    "EVENTS_DATA = os.path.join(DATA_DIR, 'events.csv')"
   ]
  },
  {
   "cell_type": "code",
   "execution_count": 3,
   "id": "5a5c116f",
   "metadata": {
    "execution": {
     "iopub.execute_input": "2023-07-21T23:38:22.802480Z",
     "iopub.status.busy": "2023-07-21T23:38:22.802054Z",
     "iopub.status.idle": "2023-07-21T23:38:22.805341Z",
     "shell.execute_reply": "2023-07-21T23:38:22.804726Z"
    },
    "papermill": {
     "duration": 0.006812,
     "end_time": "2023-07-21T23:38:22.806930",
     "exception": false,
     "start_time": "2023-07-21T23:38:22.800118",
     "status": "completed"
    },
    "tags": []
   },
   "outputs": [],
   "source": [
    "columns = {\n",
    "    'id': 'id',\n",
    "    'name': 'name',\n",
    "    'locationName': 'location',\n",
    "    'cardPrice': 'card_price',\n",
    "    'timeslots': 'time',\n",
    "    'displayOnWebsite': 'display',\n",
    "    'Stage': 'stage',\n",
    "}"
   ]
  },
  {
   "cell_type": "code",
   "execution_count": 4,
   "id": "13497774",
   "metadata": {
    "execution": {
     "iopub.execute_input": "2023-07-21T23:38:22.810272Z",
     "iopub.status.busy": "2023-07-21T23:38:22.809923Z",
     "iopub.status.idle": "2023-07-21T23:38:22.821290Z",
     "shell.execute_reply": "2023-07-21T23:38:22.820749Z"
    },
    "papermill": {
     "duration": 0.014634,
     "end_time": "2023-07-21T23:38:22.822716",
     "exception": false,
     "start_time": "2023-07-21T23:38:22.808082",
     "status": "completed"
    },
    "tags": []
   },
   "outputs": [],
   "source": [
    "data = pd.read_csv(EVENTS_RAW_DATA)[columns.keys()].rename(columns=columns)\n",
    "data.time = pd.to_datetime(data.time, errors='coerce')"
   ]
  },
  {
   "cell_type": "code",
   "execution_count": 5,
   "id": "d4b9dd2e",
   "metadata": {
    "execution": {
     "iopub.execute_input": "2023-07-21T23:38:22.826559Z",
     "iopub.status.busy": "2023-07-21T23:38:22.825975Z",
     "iopub.status.idle": "2023-07-21T23:38:22.834066Z",
     "shell.execute_reply": "2023-07-21T23:38:22.833525Z"
    },
    "papermill": {
     "duration": 0.01158,
     "end_time": "2023-07-21T23:38:22.835500",
     "exception": false,
     "start_time": "2023-07-21T23:38:22.823920",
     "status": "completed"
    },
    "tags": []
   },
   "outputs": [],
   "source": [
    "data.to_csv(os.path.join(DATA_DIR, 'events.csv'), index=False)"
   ]
  }
 ],
 "metadata": {
  "kernelspec": {
   "display_name": "leeds-2023-YZF5GfJv",
   "language": "python",
   "name": "python3"
  },
  "language_info": {
   "codemirror_mode": {
    "name": "ipython",
    "version": 3
   },
   "file_extension": ".py",
   "mimetype": "text/x-python",
   "name": "python",
   "nbconvert_exporter": "python",
   "pygments_lexer": "ipython3",
   "version": "3.10.6"
  },
  "papermill": {
   "default_parameters": {},
   "duration": 1.842342,
   "end_time": "2023-07-21T23:38:23.053571",
   "environment_variables": {},
   "exception": null,
   "input_path": "transform.ipynb",
   "output_path": "../../../working/output/promote-events-transform.ipynb",
   "parameters": {},
   "start_time": "2023-07-21T23:38:21.211229",
   "version": "2.4.0"
  }
 },
 "nbformat": 4,
 "nbformat_minor": 5
}