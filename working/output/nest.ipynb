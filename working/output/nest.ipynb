{
 "cells": [
  {
   "cell_type": "markdown",
   "id": "3e51893e",
   "metadata": {
    "papermill": {
     "duration": 0.004821,
     "end_time": "2023-11-13T15:14:52.737147",
     "exception": false,
     "start_time": "2023-11-13T15:14:52.732326",
     "status": "completed"
    },
    "tags": []
   },
   "source": [
    "# Nest\n",
    "\n",
    "Prepares data for the Nest page "
   ]
  },
  {
   "cell_type": "code",
   "execution_count": 1,
   "id": "6262c49a",
   "metadata": {
    "execution": {
     "iopub.execute_input": "2023-11-13T15:14:52.739929Z",
     "iopub.status.busy": "2023-11-13T15:14:52.739793Z",
     "iopub.status.idle": "2023-11-13T15:14:57.535098Z",
     "shell.execute_reply": "2023-11-13T15:14:57.534679Z"
    },
    "papermill": {
     "duration": 4.797697,
     "end_time": "2023-11-13T15:14:57.536148",
     "exception": false,
     "start_time": "2023-11-13T15:14:52.738451",
     "status": "completed"
    },
    "tags": []
   },
   "outputs": [],
   "source": [
    "import os\n",
    "from events import (\n",
    "    load_event_data, filter_public_events, filter_by_project, prepare, save_files, count_wards\n",
    ")"
   ]
  },
  {
   "cell_type": "markdown",
   "id": "960a108d",
   "metadata": {
    "papermill": {
     "duration": 0.000875,
     "end_time": "2023-11-13T15:14:57.538012",
     "exception": false,
     "start_time": "2023-11-13T15:14:57.537137",
     "status": "completed"
    },
    "tags": []
   },
   "source": [
    "Set output directory"
   ]
  },
  {
   "cell_type": "code",
   "execution_count": 2,
   "id": "3ebf8218",
   "metadata": {
    "execution": {
     "iopub.execute_input": "2023-11-13T15:14:57.540325Z",
     "iopub.status.busy": "2023-11-13T15:14:57.540177Z",
     "iopub.status.idle": "2023-11-13T15:14:57.542441Z",
     "shell.execute_reply": "2023-11-13T15:14:57.542124Z"
    },
    "papermill": {
     "duration": 0.004308,
     "end_time": "2023-11-13T15:14:57.543082",
     "exception": false,
     "start_time": "2023-11-13T15:14:57.538774",
     "status": "completed"
    },
    "tags": []
   },
   "outputs": [],
   "source": [
    "OUT_DIR = '../../../../docs/metrics/events/nest/_data/events'"
   ]
  },
  {
   "cell_type": "markdown",
   "id": "e8e863cf",
   "metadata": {
    "papermill": {
     "duration": 0.000705,
     "end_time": "2023-11-13T15:14:57.544558",
     "exception": false,
     "start_time": "2023-11-13T15:14:57.543853",
     "status": "completed"
    },
    "tags": []
   },
   "source": [
    "Read in event data and filter by **My LEEDS 2023** project.\n",
    "\n",
    "The criteria are:\n",
    "\n",
    "* project type is 'Produce (Signature)'\n",
    "* event_type contains 'Public Event -'\n",
    "\n",
    "It's then filtered by project_name is '10 - Melt'"
   ]
  },
  {
   "cell_type": "code",
   "execution_count": 3,
   "id": "cb5c1644",
   "metadata": {
    "execution": {
     "iopub.execute_input": "2023-11-13T15:14:57.546495Z",
     "iopub.status.busy": "2023-11-13T15:14:57.546357Z",
     "iopub.status.idle": "2023-11-13T15:14:57.560187Z",
     "shell.execute_reply": "2023-11-13T15:14:57.559899Z"
    },
    "papermill": {
     "duration": 0.015584,
     "end_time": "2023-11-13T15:14:57.560877",
     "exception": false,
     "start_time": "2023-11-13T15:14:57.545293",
     "status": "completed"
    },
    "tags": []
   },
   "outputs": [
    {
     "data": {
      "text/html": [
       "<div>\n",
       "<style scoped>\n",
       "    .dataframe tbody tr th:only-of-type {\n",
       "        vertical-align: middle;\n",
       "    }\n",
       "\n",
       "    .dataframe tbody tr th {\n",
       "        vertical-align: top;\n",
       "    }\n",
       "\n",
       "    .dataframe thead th {\n",
       "        text-align: right;\n",
       "    }\n",
       "</style>\n",
       "<table border=\"1\" class=\"dataframe\">\n",
       "  <thead>\n",
       "    <tr style=\"text-align: right;\">\n",
       "      <th></th>\n",
       "      <th>actual_audience_size_number_of_participants_in_person</th>\n",
       "      <th>actual_audience_size_number_of_participants_online</th>\n",
       "      <th>airtable_id</th>\n",
       "      <th>end_date</th>\n",
       "      <th>event_name</th>\n",
       "      <th>event_type</th>\n",
       "      <th>event_unique_identifier</th>\n",
       "      <th>number_of_booked_participants</th>\n",
       "      <th>postcode_(from_venue)</th>\n",
       "      <th>project_name</th>\n",
       "      <th>project_type</th>\n",
       "      <th>season</th>\n",
       "      <th>start_date</th>\n",
       "      <th>ticket_tailor_id</th>\n",
       "      <th>ward_(from_venue)</th>\n",
       "    </tr>\n",
       "  </thead>\n",
       "  <tbody>\n",
       "    <tr>\n",
       "      <th>1098</th>\n",
       "      <td>1338.0</td>\n",
       "      <td>NaN</td>\n",
       "      <td>241</td>\n",
       "      <td>2023-09-09</td>\n",
       "      <td>Melt (Run)</td>\n",
       "      <td>['Public Event - Performance']</td>\n",
       "      <td>10 - Melt: Melt (Run)</td>\n",
       "      <td>1542.0</td>\n",
       "      <td>['LS26 8AL']</td>\n",
       "      <td>10 - Melt</td>\n",
       "      <td>Produce (Signature)</td>\n",
       "      <td>['Season 3 - Dreaming']</td>\n",
       "      <td>2023-09-05</td>\n",
       "      <td>ev_2809632, ev_2809633,  ev_2809634,  ev_28096...</td>\n",
       "      <td>['Garforth and Swillington']</td>\n",
       "    </tr>\n",
       "  </tbody>\n",
       "</table>\n",
       "</div>"
      ],
      "text/plain": [
       "      actual_audience_size_number_of_participants_in_person  \\\n",
       "1098                                             1338.0       \n",
       "\n",
       "      actual_audience_size_number_of_participants_online  airtable_id  \\\n",
       "1098                                                NaN           241   \n",
       "\n",
       "        end_date  event_name                      event_type  \\\n",
       "1098  2023-09-09  Melt (Run)  ['Public Event - Performance']   \n",
       "\n",
       "     event_unique_identifier  number_of_booked_participants  \\\n",
       "1098   10 - Melt: Melt (Run)                         1542.0   \n",
       "\n",
       "     postcode_(from_venue) project_name         project_type  \\\n",
       "1098          ['LS26 8AL']    10 - Melt  Produce (Signature)   \n",
       "\n",
       "                       season start_date  \\\n",
       "1098  ['Season 3 - Dreaming'] 2023-09-05   \n",
       "\n",
       "                                       ticket_tailor_id  \\\n",
       "1098  ev_2809632, ev_2809633,  ev_2809634,  ev_28096...   \n",
       "\n",
       "                 ward_(from_venue)  \n",
       "1098  ['Garforth and Swillington']  "
      ]
     },
     "execution_count": 3,
     "metadata": {},
     "output_type": "execute_result"
    }
   ],
   "source": [
    "data = (\n",
    "  load_event_data()\n",
    "    .pipe(filter_by_project, '10 - Melt')\n",
    "    .pipe(filter_public_events)\n",
    "  )\n",
    "data"
   ]
  },
  {
   "cell_type": "markdown",
   "id": "d8222e9e",
   "metadata": {
    "papermill": {
     "duration": 0.00089,
     "end_time": "2023-11-13T15:14:57.562791",
     "exception": false,
     "start_time": "2023-11-13T15:14:57.561901",
     "status": "completed"
    },
    "tags": []
   },
   "source": [
    "Run the processing and save the files"
   ]
  },
  {
   "cell_type": "code",
   "execution_count": 4,
   "id": "5b5beb2c",
   "metadata": {
    "execution": {
     "iopub.execute_input": "2023-11-13T15:14:57.565117Z",
     "iopub.status.busy": "2023-11-13T15:14:57.564921Z",
     "iopub.status.idle": "2023-11-13T15:14:57.578796Z",
     "shell.execute_reply": "2023-11-13T15:14:57.578504Z"
    },
    "papermill": {
     "duration": 0.015914,
     "end_time": "2023-11-13T15:14:57.579601",
     "exception": false,
     "start_time": "2023-11-13T15:14:57.563687",
     "status": "completed"
    },
    "tags": []
   },
   "outputs": [],
   "source": [
    "data = data.pipe(prepare).pipe(save_files, OUT_DIR)"
   ]
  }
 ],
 "metadata": {
  "kernelspec": {
   "display_name": "leeds-2023-YZF5GfJv",
   "language": "python",
   "name": "python3"
  },
  "language_info": {
   "codemirror_mode": {
    "name": "ipython",
    "version": 3
   },
   "file_extension": ".py",
   "mimetype": "text/x-python",
   "name": "python",
   "nbconvert_exporter": "python",
   "pygments_lexer": "ipython3",
   "version": "3.10.12"
  },
  "papermill": {
   "default_parameters": {},
   "duration": 5.919546,
   "end_time": "2023-11-13T15:14:57.796478",
   "environment_variables": {},
   "exception": null,
   "input_path": "nest.ipynb",
   "output_path": "../../../../working/output/nest.ipynb",
   "parameters": {},
   "start_time": "2023-11-13T15:14:51.876932",
   "version": "2.4.0"
  }
 },
 "nbformat": 4,
 "nbformat_minor": 5
}