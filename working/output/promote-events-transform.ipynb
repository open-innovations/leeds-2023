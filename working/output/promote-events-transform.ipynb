{
 "cells": [
  {
   "cell_type": "code",
   "execution_count": 1,
   "id": "0f070153",
   "metadata": {
    "execution": {
     "iopub.execute_input": "2023-08-22T23:39:26.417662Z",
     "iopub.status.busy": "2023-08-22T23:39:26.416915Z",
     "iopub.status.idle": "2023-08-22T23:39:26.657357Z",
     "shell.execute_reply": "2023-08-22T23:39:26.656682Z"
    },
    "papermill": {
     "duration": 0.24547,
     "end_time": "2023-08-22T23:39:26.659285",
     "exception": false,
     "start_time": "2023-08-22T23:39:26.413815",
     "status": "completed"
    },
    "tags": []
   },
   "outputs": [],
   "source": [
    "import os\n",
    "import pandas as pd"
   ]
  },
  {
   "cell_type": "code",
   "execution_count": 2,
   "id": "69e3ffa9",
   "metadata": {
    "execution": {
     "iopub.execute_input": "2023-08-22T23:39:26.663785Z",
     "iopub.status.busy": "2023-08-22T23:39:26.663295Z",
     "iopub.status.idle": "2023-08-22T23:39:26.666720Z",
     "shell.execute_reply": "2023-08-22T23:39:26.666105Z"
    },
    "papermill": {
     "duration": 0.007556,
     "end_time": "2023-08-22T23:39:26.668406",
     "exception": false,
     "start_time": "2023-08-22T23:39:26.660850",
     "status": "completed"
    },
    "tags": []
   },
   "outputs": [],
   "source": [
    "EVENTS_RAW_DATA = '../../../working/metrics/promote-events/events.csv'\n",
    "DATA_DIR = '../../../data/metrics/events/promote-events/'\n",
    "EVENTS_DATA = os.path.join(DATA_DIR, 'events.csv')"
   ]
  },
  {
   "cell_type": "code",
   "execution_count": 3,
   "id": "d391c4fb",
   "metadata": {
    "execution": {
     "iopub.execute_input": "2023-08-22T23:39:26.671998Z",
     "iopub.status.busy": "2023-08-22T23:39:26.671492Z",
     "iopub.status.idle": "2023-08-22T23:39:26.674759Z",
     "shell.execute_reply": "2023-08-22T23:39:26.674138Z"
    },
    "papermill": {
     "duration": 0.006842,
     "end_time": "2023-08-22T23:39:26.676408",
     "exception": false,
     "start_time": "2023-08-22T23:39:26.669566",
     "status": "completed"
    },
    "tags": []
   },
   "outputs": [],
   "source": [
    "columns = {\n",
    "    'id': 'id',\n",
    "    'name': 'name',\n",
    "    'locationName': 'location',\n",
    "    'cardPrice': 'card_price',\n",
    "    'timeslots': 'time',\n",
    "    # 'displayOnWebsite': 'display',\n",
    "    'Stage': 'stage',\n",
    "}"
   ]
  },
  {
   "cell_type": "code",
   "execution_count": 4,
   "id": "ed53424b",
   "metadata": {
    "execution": {
     "iopub.execute_input": "2023-08-22T23:39:26.680020Z",
     "iopub.status.busy": "2023-08-22T23:39:26.679664Z",
     "iopub.status.idle": "2023-08-22T23:39:26.690823Z",
     "shell.execute_reply": "2023-08-22T23:39:26.690248Z"
    },
    "papermill": {
     "duration": 0.0147,
     "end_time": "2023-08-22T23:39:26.692351",
     "exception": false,
     "start_time": "2023-08-22T23:39:26.677651",
     "status": "completed"
    },
    "tags": []
   },
   "outputs": [],
   "source": [
    "data = pd.read_csv(EVENTS_RAW_DATA)[columns.keys()].rename(columns=columns)\n",
    "data.time = pd.to_datetime(data.time, errors='coerce')"
   ]
  },
  {
   "cell_type": "code",
   "execution_count": 5,
   "id": "ab195384",
   "metadata": {
    "execution": {
     "iopub.execute_input": "2023-08-22T23:39:26.696168Z",
     "iopub.status.busy": "2023-08-22T23:39:26.695755Z",
     "iopub.status.idle": "2023-08-22T23:39:26.701102Z",
     "shell.execute_reply": "2023-08-22T23:39:26.700556Z"
    },
    "papermill": {
     "duration": 0.008895,
     "end_time": "2023-08-22T23:39:26.702562",
     "exception": false,
     "start_time": "2023-08-22T23:39:26.693667",
     "status": "completed"
    },
    "tags": []
   },
   "outputs": [],
   "source": [
    "data.to_csv(os.path.join(DATA_DIR, 'events.csv'), index=False)"
   ]
  }
 ],
 "metadata": {
  "kernelspec": {
   "display_name": "leeds-2023-YZF5GfJv",
   "language": "python",
   "name": "python3"
  },
  "language_info": {
   "codemirror_mode": {
    "name": "ipython",
    "version": 3
   },
   "file_extension": ".py",
   "mimetype": "text/x-python",
   "name": "python",
   "nbconvert_exporter": "python",
   "pygments_lexer": "ipython3",
   "version": "3.10.12"
  },
  "papermill": {
   "default_parameters": {},
   "duration": 1.896749,
   "end_time": "2023-08-22T23:39:26.921384",
   "environment_variables": {},
   "exception": null,
   "input_path": "transform.ipynb",
   "output_path": "../../../working/output/promote-events-transform.ipynb",
   "parameters": {},
   "start_time": "2023-08-22T23:39:25.024635",
   "version": "2.4.0"
  }
 },
 "nbformat": 4,
 "nbformat_minor": 5
}