{
 "cells": [
  {
   "cell_type": "code",
   "execution_count": 1,
   "id": "e1be8459",
   "metadata": {
    "execution": {
     "iopub.execute_input": "2023-12-21T15:49:49.201902Z",
     "iopub.status.busy": "2023-12-21T15:49:49.201676Z",
     "iopub.status.idle": "2023-12-21T15:49:49.447210Z",
     "shell.execute_reply": "2023-12-21T15:49:49.446423Z"
    },
    "papermill": {
     "duration": 0.260661,
     "end_time": "2023-12-21T15:49:49.448922",
     "exception": false,
     "start_time": "2023-12-21T15:49:49.188261",
     "status": "completed"
    },
    "tags": []
   },
   "outputs": [],
   "source": [
    "import sys\n",
    "from pathlib import Path\n",
    "\n",
    "import pandas as pd\n",
    "\n",
    "TOP_DIR = Path('../../../').resolve()\n",
    "\n",
    "if str(TOP_DIR) not in sys.path: sys.path.append(str(TOP_DIR))"
   ]
  },
  {
   "cell_type": "code",
   "execution_count": 2,
   "id": "855b594c",
   "metadata": {
    "execution": {
     "iopub.execute_input": "2023-12-21T15:49:49.475624Z",
     "iopub.status.busy": "2023-12-21T15:49:49.475348Z",
     "iopub.status.idle": "2023-12-21T15:49:55.767850Z",
     "shell.execute_reply": "2023-12-21T15:49:55.766803Z"
    },
    "papermill": {
     "duration": 6.309547,
     "end_time": "2023-12-21T15:49:55.769416",
     "exception": false,
     "start_time": "2023-12-21T15:49:49.459869",
     "status": "completed"
    },
    "tags": []
   },
   "outputs": [],
   "source": [
    "from lib.util.geo import postcode_formatter, postcode_to_ward_code"
   ]
  },
  {
   "cell_type": "code",
   "execution_count": 3,
   "id": "263d6a87",
   "metadata": {
    "execution": {
     "iopub.execute_input": "2023-12-21T15:49:55.799503Z",
     "iopub.status.busy": "2023-12-21T15:49:55.798688Z",
     "iopub.status.idle": "2023-12-21T15:49:55.827735Z",
     "shell.execute_reply": "2023-12-21T15:49:55.826725Z"
    },
    "papermill": {
     "duration": 0.047692,
     "end_time": "2023-12-21T15:49:55.829249",
     "exception": false,
     "start_time": "2023-12-21T15:49:55.781557",
     "status": "completed"
    },
    "tags": []
   },
   "outputs": [],
   "source": [
    "data = pd.read_csv(\n",
    "    '../../../working/metrics/partnerships/all.csv',\n",
    "    parse_dates=['Start date', 'End date'],\n",
    "    usecols=[\n",
    "        # 'Partner Lead Contact',\n",
    "        'Partner Organisation',\n",
    "        'List of countries involved',\n",
    "        'End date',\n",
    "        # 'Baseline survey completed by partner',\n",
    "        'Start date',\n",
    "        'Partner Venue Postcode',\n",
    "        # 'Notes',\n",
    "        'Partnership Status',\n",
    "        'Project Artform',\n",
    "        # 'Project Description',\n",
    "        'Project Name',\n",
    "        # 'Offered SAIL training',\n",
    "        'Project Output',\n",
    "        # 'L23 economic contribution',\n",
    "        'International element to project?',\n",
    "        'Online/in person/both',\n",
    "        'Number of countries involved',\n",
    "        'Season',\n",
    "        # 'Partner Venue Name',\n",
    "        # 'Contract signed by partner',\n",
    "        'Duration of activity/event',\n",
    "        # 'LEEDS 2023 Assignee.id',\n",
    "        # 'LEEDS 2023 Assignee.email',\n",
    "        # 'LEEDS 2023 Assignee.name',\n",
    "        # 'Last Modified By.id',\n",
    "        # 'Last Modified By.email',\n",
    "        # 'Last Modified By.name',\n",
    "        # 'Activity log completed by partner',\n",
    "        # 'Final survey completed by partner',\n",
    "        # 'Number of unique countries',\n",
    "        'Contains heritage, young people',\n",
    "        # 'Total budget',\n",
    "        'Digital audiences',\n",
    "        'Audience numbers',\n",
    "        'number of participants',\n",
    "        'Total number of events'\n",
    "    ]\n",
    ")"
   ]
  },
  {
   "cell_type": "code",
   "execution_count": 4,
   "id": "da314a4f",
   "metadata": {
    "execution": {
     "iopub.execute_input": "2023-12-21T15:49:55.855138Z",
     "iopub.status.busy": "2023-12-21T15:49:55.854907Z",
     "iopub.status.idle": "2023-12-21T15:49:55.867526Z",
     "shell.execute_reply": "2023-12-21T15:49:55.866615Z"
    },
    "papermill": {
     "duration": 0.027922,
     "end_time": "2023-12-21T15:49:55.868742",
     "exception": false,
     "start_time": "2023-12-21T15:49:55.840820",
     "status": "completed"
    },
    "tags": []
   },
   "outputs": [
    {
     "data": {
      "text/plain": [
       "['Partner Organisation',\n",
       " 'List of countries involved',\n",
       " 'End date',\n",
       " 'Start date',\n",
       " 'Partner Venue Postcode',\n",
       " 'Partnership Status',\n",
       " 'Project Artform',\n",
       " 'Project Name',\n",
       " 'Project Output',\n",
       " 'International element to project?',\n",
       " 'Online/in person/both',\n",
       " 'Number of countries involved',\n",
       " 'Season',\n",
       " 'Duration of activity/event',\n",
       " 'Contains heritage, young people',\n",
       " 'Digital audiences',\n",
       " 'Audience numbers',\n",
       " 'number of participants',\n",
       " 'Total number of events']"
      ]
     },
     "execution_count": 4,
     "metadata": {},
     "output_type": "execute_result"
    }
   ],
   "source": [
    "data.columns.to_list()"
   ]
  },
  {
   "cell_type": "code",
   "execution_count": 5,
   "id": "c350e6ee",
   "metadata": {
    "execution": {
     "iopub.execute_input": "2023-12-21T15:49:55.897954Z",
     "iopub.status.busy": "2023-12-21T15:49:55.897719Z",
     "iopub.status.idle": "2023-12-21T15:49:55.907601Z",
     "shell.execute_reply": "2023-12-21T15:49:55.906626Z"
    },
    "papermill": {
     "duration": 0.028636,
     "end_time": "2023-12-21T15:49:55.908735",
     "exception": false,
     "start_time": "2023-12-21T15:49:55.880099",
     "status": "completed"
    },
    "tags": []
   },
   "outputs": [],
   "source": [
    "data.columns = data.columns.str.strip().str.lower().str.replace(r'[^a-z0-9]+', '_', regex=True)"
   ]
  },
  {
   "cell_type": "code",
   "execution_count": 6,
   "id": "6f9c978b",
   "metadata": {
    "execution": {
     "iopub.execute_input": "2023-12-21T15:49:55.933387Z",
     "iopub.status.busy": "2023-12-21T15:49:55.933090Z",
     "iopub.status.idle": "2023-12-21T15:49:56.717378Z",
     "shell.execute_reply": "2023-12-21T15:49:56.716657Z"
    },
    "papermill": {
     "duration": 0.799834,
     "end_time": "2023-12-21T15:49:56.718727",
     "exception": false,
     "start_time": "2023-12-21T15:49:55.918893",
     "status": "completed"
    },
    "tags": []
   },
   "outputs": [],
   "source": [
    "data['partner_venue_ward_code'] = data['partner_venue_postcode'].pipe(postcode_formatter).map(postcode_to_ward_code)"
   ]
  },
  {
   "cell_type": "code",
   "execution_count": 7,
   "id": "1fafdf27",
   "metadata": {
    "execution": {
     "iopub.execute_input": "2023-12-21T15:49:56.742243Z",
     "iopub.status.busy": "2023-12-21T15:49:56.742007Z",
     "iopub.status.idle": "2023-12-21T15:49:56.757486Z",
     "shell.execute_reply": "2023-12-21T15:49:56.756600Z"
    },
    "papermill": {
     "duration": 0.032622,
     "end_time": "2023-12-21T15:49:56.758825",
     "exception": false,
     "start_time": "2023-12-21T15:49:56.726203",
     "status": "completed"
    },
    "tags": []
   },
   "outputs": [],
   "source": [
    "data['list_of_countries_involved'] = (\n",
    "  data['list_of_countries_involved']\n",
    "    .str.strip()\n",
    "    .str.replace('[\\.]', '', regex=True)\n",
    "    .str.replace(r'[\\n]+|\\s*,\\s*', '|', regex=True)\n",
    "    .str.replace('The Netherlands','Netherlands')\n",
    "    .str.strip('|')\n",
    "    .str.split('|')\n",
    ")\n"
   ]
  },
  {
   "cell_type": "code",
   "execution_count": 8,
   "id": "a22337da",
   "metadata": {
    "execution": {
     "iopub.execute_input": "2023-12-21T15:49:56.784990Z",
     "iopub.status.busy": "2023-12-21T15:49:56.784232Z",
     "iopub.status.idle": "2023-12-21T15:49:56.808999Z",
     "shell.execute_reply": "2023-12-21T15:49:56.808132Z"
    },
    "papermill": {
     "duration": 0.04044,
     "end_time": "2023-12-21T15:49:56.810402",
     "exception": false,
     "start_time": "2023-12-21T15:49:56.769962",
     "status": "completed"
    },
    "tags": []
   },
   "outputs": [],
   "source": [
    "data['number_of_countries_involved'] = data.loc[data.list_of_countries_involved.notna(), 'list_of_countries_involved'].map(len)\n",
    "data['number_of_countries_involved'].fillna(0, inplace=True)"
   ]
  },
  {
   "cell_type": "code",
   "execution_count": 9,
   "id": "3f550100",
   "metadata": {
    "execution": {
     "iopub.execute_input": "2023-12-21T15:49:56.835994Z",
     "iopub.status.busy": "2023-12-21T15:49:56.835644Z",
     "iopub.status.idle": "2023-12-21T15:49:56.857820Z",
     "shell.execute_reply": "2023-12-21T15:49:56.856650Z"
    },
    "papermill": {
     "duration": 0.0395,
     "end_time": "2023-12-21T15:49:56.859123",
     "exception": false,
     "start_time": "2023-12-21T15:49:56.819623",
     "status": "completed"
    },
    "tags": []
   },
   "outputs": [],
   "source": [
    "OUTPUT_DIR = Path('../../../data/metrics/partnerships')\n",
    "OUTPUT_DIR.mkdir(parents=True, exist_ok=True)"
   ]
  },
  {
   "cell_type": "code",
   "execution_count": 10,
   "id": "9634136e",
   "metadata": {
    "execution": {
     "iopub.execute_input": "2023-12-21T15:49:56.882094Z",
     "iopub.status.busy": "2023-12-21T15:49:56.881735Z",
     "iopub.status.idle": "2023-12-21T15:49:56.907441Z",
     "shell.execute_reply": "2023-12-21T15:49:56.906602Z"
    },
    "papermill": {
     "duration": 0.041162,
     "end_time": "2023-12-21T15:49:56.908857",
     "exception": false,
     "start_time": "2023-12-21T15:49:56.867695",
     "status": "completed"
    },
    "tags": []
   },
   "outputs": [],
   "source": [
    "data.to_csv(\n",
    "  OUTPUT_DIR.joinpath('partnerships.csv'),\n",
    "  index=False\n",
    ")"
   ]
  },
  {
   "cell_type": "code",
   "execution_count": 11,
   "id": "30c1c8a8",
   "metadata": {
    "execution": {
     "iopub.execute_input": "2023-12-21T15:49:56.932063Z",
     "iopub.status.busy": "2023-12-21T15:49:56.931829Z",
     "iopub.status.idle": "2023-12-21T15:49:56.957494Z",
     "shell.execute_reply": "2023-12-21T15:49:56.956606Z"
    },
    "papermill": {
     "duration": 0.041366,
     "end_time": "2023-12-21T15:49:56.958830",
     "exception": false,
     "start_time": "2023-12-21T15:49:56.917464",
     "status": "completed"
    },
    "tags": []
   },
   "outputs": [],
   "source": [
    "data.loc[data.list_of_countries_involved.notna(), 'list_of_countries_involved'].explode().drop_duplicates().sort_values().reset_index(drop=True).to_frame('unique_countries').to_csv(OUTPUT_DIR.joinpath('countries.csv'), index=False)"
   ]
  },
  {
   "cell_type": "code",
   "execution_count": null,
   "id": "c8c0be1e",
   "metadata": {
    "papermill": {
     "duration": 0.019294,
     "end_time": "2023-12-21T15:49:56.988877",
     "exception": false,
     "start_time": "2023-12-21T15:49:56.969583",
     "status": "completed"
    },
    "tags": []
   },
   "outputs": [],
   "source": []
  }
 ],
 "metadata": {
  "kernelspec": {
   "display_name": "leeds-2023-YZF5GfJv",
   "language": "python",
   "name": "python3"
  },
  "language_info": {
   "codemirror_mode": {
    "name": "ipython",
    "version": 3
   },
   "file_extension": ".py",
   "mimetype": "text/x-python",
   "name": "python",
   "nbconvert_exporter": "python",
   "pygments_lexer": "ipython3",
   "version": "3.10.12"
  },
  "papermill": {
   "default_parameters": {},
   "duration": 9.235683,
   "end_time": "2023-12-21T15:49:57.259726",
   "environment_variables": {},
   "exception": null,
   "input_path": "transform.ipynb",
   "output_path": "../../../working/output/partnerships-transform.ipynb",
   "parameters": {},
   "start_time": "2023-12-21T15:49:48.024043",
   "version": "2.4.0"
  }
 },
 "nbformat": 4,
 "nbformat_minor": 5
}