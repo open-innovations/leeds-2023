{
 "cells": [
  {
   "cell_type": "code",
   "execution_count": 1,
   "id": "6f43d1fd",
   "metadata": {
    "execution": {
     "iopub.execute_input": "2023-08-04T23:37:37.578022Z",
     "iopub.status.busy": "2023-08-04T23:37:37.577510Z",
     "iopub.status.idle": "2023-08-04T23:37:37.825690Z",
     "shell.execute_reply": "2023-08-04T23:37:37.824989Z"
    },
    "papermill": {
     "duration": 0.254079,
     "end_time": "2023-08-04T23:37:37.828048",
     "exception": false,
     "start_time": "2023-08-04T23:37:37.573969",
     "status": "completed"
    },
    "tags": []
   },
   "outputs": [],
   "source": [
    "import os\n",
    "import pandas as pd"
   ]
  },
  {
   "cell_type": "code",
   "execution_count": 2,
   "id": "6ee9cc32",
   "metadata": {
    "execution": {
     "iopub.execute_input": "2023-08-04T23:37:37.832899Z",
     "iopub.status.busy": "2023-08-04T23:37:37.832248Z",
     "iopub.status.idle": "2023-08-04T23:37:37.835777Z",
     "shell.execute_reply": "2023-08-04T23:37:37.835121Z"
    },
    "papermill": {
     "duration": 0.007621,
     "end_time": "2023-08-04T23:37:37.837297",
     "exception": false,
     "start_time": "2023-08-04T23:37:37.829676",
     "status": "completed"
    },
    "tags": []
   },
   "outputs": [],
   "source": [
    "EVENTS_RAW_DATA = '../../../working/metrics/promote-events/events.csv'\n",
    "DATA_DIR = '../../../data/metrics/events/promote-events/'\n",
    "EVENTS_DATA = os.path.join(DATA_DIR, 'events.csv')"
   ]
  },
  {
   "cell_type": "code",
   "execution_count": 3,
   "id": "16a8b401",
   "metadata": {
    "execution": {
     "iopub.execute_input": "2023-08-04T23:37:37.840803Z",
     "iopub.status.busy": "2023-08-04T23:37:37.840370Z",
     "iopub.status.idle": "2023-08-04T23:37:37.843713Z",
     "shell.execute_reply": "2023-08-04T23:37:37.843108Z"
    },
    "papermill": {
     "duration": 0.006827,
     "end_time": "2023-08-04T23:37:37.845283",
     "exception": false,
     "start_time": "2023-08-04T23:37:37.838456",
     "status": "completed"
    },
    "tags": []
   },
   "outputs": [],
   "source": [
    "columns = {\n",
    "    'id': 'id',\n",
    "    'name': 'name',\n",
    "    'locationName': 'location',\n",
    "    'cardPrice': 'card_price',\n",
    "    'timeslots': 'time',\n",
    "    'displayOnWebsite': 'display',\n",
    "    'Stage': 'stage',\n",
    "}"
   ]
  },
  {
   "cell_type": "code",
   "execution_count": 4,
   "id": "dd463b00",
   "metadata": {
    "execution": {
     "iopub.execute_input": "2023-08-04T23:37:37.848691Z",
     "iopub.status.busy": "2023-08-04T23:37:37.848298Z",
     "iopub.status.idle": "2023-08-04T23:37:37.861417Z",
     "shell.execute_reply": "2023-08-04T23:37:37.860874Z"
    },
    "papermill": {
     "duration": 0.016368,
     "end_time": "2023-08-04T23:37:37.862808",
     "exception": false,
     "start_time": "2023-08-04T23:37:37.846440",
     "status": "completed"
    },
    "tags": []
   },
   "outputs": [],
   "source": [
    "data = pd.read_csv(EVENTS_RAW_DATA)[columns.keys()].rename(columns=columns)\n",
    "data.time = pd.to_datetime(data.time, errors='coerce')"
   ]
  },
  {
   "cell_type": "code",
   "execution_count": 5,
   "id": "0f0f6d7c",
   "metadata": {
    "execution": {
     "iopub.execute_input": "2023-08-04T23:37:37.866395Z",
     "iopub.status.busy": "2023-08-04T23:37:37.865997Z",
     "iopub.status.idle": "2023-08-04T23:37:37.874499Z",
     "shell.execute_reply": "2023-08-04T23:37:37.873963Z"
    },
    "papermill": {
     "duration": 0.012023,
     "end_time": "2023-08-04T23:37:37.876025",
     "exception": false,
     "start_time": "2023-08-04T23:37:37.864002",
     "status": "completed"
    },
    "tags": []
   },
   "outputs": [],
   "source": [
    "data.to_csv(os.path.join(DATA_DIR, 'events.csv'), index=False)"
   ]
  }
 ],
 "metadata": {
  "kernelspec": {
   "display_name": "leeds-2023-YZF5GfJv",
   "language": "python",
   "name": "python3"
  },
  "language_info": {
   "codemirror_mode": {
    "name": "ipython",
    "version": 3
   },
   "file_extension": ".py",
   "mimetype": "text/x-python",
   "name": "python",
   "nbconvert_exporter": "python",
   "pygments_lexer": "ipython3",
   "version": "3.10.6"
  },
  "papermill": {
   "default_parameters": {},
   "duration": 1.911555,
   "end_time": "2023-08-04T23:37:38.094853",
   "environment_variables": {},
   "exception": null,
   "input_path": "transform.ipynb",
   "output_path": "../../../working/output/promote-events-transform.ipynb",
   "parameters": {},
   "start_time": "2023-08-04T23:37:36.183298",
   "version": "2.4.0"
  }
 },
 "nbformat": 4,
 "nbformat_minor": 5
}