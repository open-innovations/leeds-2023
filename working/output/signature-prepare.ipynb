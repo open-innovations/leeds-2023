{
 "cells": [
  {
   "cell_type": "code",
   "execution_count": 1,
   "id": "d79e753b",
   "metadata": {
    "execution": {
     "iopub.execute_input": "2023-10-15T23:40:05.908057Z",
     "iopub.status.busy": "2023-10-15T23:40:05.907350Z",
     "iopub.status.idle": "2023-10-15T23:40:15.686400Z",
     "shell.execute_reply": "2023-10-15T23:40:15.685715Z"
    },
    "papermill": {
     "duration": 9.784893,
     "end_time": "2023-10-15T23:40:15.688205",
     "exception": false,
     "start_time": "2023-10-15T23:40:05.903312",
     "status": "completed"
    },
    "tags": []
   },
   "outputs": [],
   "source": [
    "import os\n",
    "import pandas as pd\n",
    "from events import load_event_data, get_first_ward, normalise_ward"
   ]
  },
  {
   "cell_type": "code",
   "execution_count": 2,
   "id": "446031d1",
   "metadata": {
    "execution": {
     "iopub.execute_input": "2023-10-15T23:40:15.695382Z",
     "iopub.status.busy": "2023-10-15T23:40:15.694711Z",
     "iopub.status.idle": "2023-10-15T23:40:15.699260Z",
     "shell.execute_reply": "2023-10-15T23:40:15.698686Z"
    },
    "papermill": {
     "duration": 0.009406,
     "end_time": "2023-10-15T23:40:15.700719",
     "exception": false,
     "start_time": "2023-10-15T23:40:15.691313",
     "status": "completed"
    },
    "tags": []
   },
   "outputs": [],
   "source": [
    "latest_date = pd.Timestamp.today().ceil('D')"
   ]
  },
  {
   "cell_type": "code",
   "execution_count": 3,
   "id": "1a449424",
   "metadata": {
    "execution": {
     "iopub.execute_input": "2023-10-15T23:40:15.706479Z",
     "iopub.status.busy": "2023-10-15T23:40:15.706047Z",
     "iopub.status.idle": "2023-10-15T23:40:15.724425Z",
     "shell.execute_reply": "2023-10-15T23:40:15.723783Z"
    },
    "papermill": {
     "duration": 0.023153,
     "end_time": "2023-10-15T23:40:15.726141",
     "exception": false,
     "start_time": "2023-10-15T23:40:15.702988",
     "status": "completed"
    },
    "tags": []
   },
   "outputs": [],
   "source": [
    "tickets = pd.read_csv('../../../../data/metrics/events/tickets/orders.csv', parse_dates=['created_at', 'event_date'])\n",
    "tickets = tickets[tickets.event_date <= latest_date]"
   ]
  },
  {
   "cell_type": "code",
   "execution_count": 4,
   "id": "e5aae97e",
   "metadata": {
    "execution": {
     "iopub.execute_input": "2023-10-15T23:40:15.732328Z",
     "iopub.status.busy": "2023-10-15T23:40:15.731748Z",
     "iopub.status.idle": "2023-10-15T23:40:15.966989Z",
     "shell.execute_reply": "2023-10-15T23:40:15.966383Z"
    },
    "papermill": {
     "duration": 0.240343,
     "end_time": "2023-10-15T23:40:15.968937",
     "exception": false,
     "start_time": "2023-10-15T23:40:15.728594",
     "status": "completed"
    },
    "tags": []
   },
   "outputs": [],
   "source": [
    "events = load_event_data()\n",
    "\n",
    "events = pd.concat([\n",
    "  events,\n",
    "  events.pipe(get_first_ward).pipe(normalise_ward).fillna('UNKNOWN'),\n",
    "  pd.Series(\n",
    "      events.actual_audience_size_number_of_participants_in_person + events.actual_audience_size_number_of_participants_online,\n",
    "      name='attendances'\n",
    "  )\n",
    "], axis=1).rename(columns={\n",
    "    'start_date': 'date'\n",
    "}).loc[:, ['ward_code', 'date', 'event_unique_identifier', 'attendances']]"
   ]
  },
  {
   "cell_type": "code",
   "execution_count": 5,
   "id": "71a3f0c0",
   "metadata": {
    "execution": {
     "iopub.execute_input": "2023-10-15T23:40:15.976631Z",
     "iopub.status.busy": "2023-10-15T23:40:15.975312Z",
     "iopub.status.idle": "2023-10-15T23:40:15.980134Z",
     "shell.execute_reply": "2023-10-15T23:40:15.979606Z"
    },
    "papermill": {
     "duration": 0.010005,
     "end_time": "2023-10-15T23:40:15.981908",
     "exception": false,
     "start_time": "2023-10-15T23:40:15.971903",
     "status": "completed"
    },
    "tags": []
   },
   "outputs": [],
   "source": [
    "OUTPUT_DIR='../../../../docs/metrics/events/signature/_data/'\n",
    "os.makedirs(OUTPUT_DIR, exist_ok=True)"
   ]
  },
  {
   "cell_type": "markdown",
   "id": "910b9d97",
   "metadata": {
    "papermill": {
     "duration": 0.002368,
     "end_time": "2023-10-15T23:40:15.986664",
     "exception": false,
     "start_time": "2023-10-15T23:40:15.984296",
     "status": "completed"
    },
    "tags": []
   },
   "source": [
    "Events CSVs"
   ]
  },
  {
   "cell_type": "code",
   "execution_count": 6,
   "id": "73d67ec4",
   "metadata": {
    "execution": {
     "iopub.execute_input": "2023-10-15T23:40:15.992198Z",
     "iopub.status.busy": "2023-10-15T23:40:15.991978Z",
     "iopub.status.idle": "2023-10-15T23:40:15.999242Z",
     "shell.execute_reply": "2023-10-15T23:40:15.998683Z"
    },
    "papermill": {
     "duration": 0.011837,
     "end_time": "2023-10-15T23:40:16.000828",
     "exception": false,
     "start_time": "2023-10-15T23:40:15.988991",
     "status": "completed"
    },
    "tags": []
   },
   "outputs": [],
   "source": [
    "pd.DataFrame({\n",
    "  'events': events.groupby('ward_code').event_unique_identifier.count(),\n",
    "  'attendances': events.groupby('ward_code').attendances.sum().astype(int),\n",
    "}).to_csv(os.path.join(OUTPUT_DIR, 'events_by_ward.csv'))\n"
   ]
  },
  {
   "cell_type": "code",
   "execution_count": 7,
   "id": "4c22750d",
   "metadata": {
    "execution": {
     "iopub.execute_input": "2023-10-15T23:40:16.006559Z",
     "iopub.status.busy": "2023-10-15T23:40:16.006305Z",
     "iopub.status.idle": "2023-10-15T23:40:16.018236Z",
     "shell.execute_reply": "2023-10-15T23:40:16.017705Z"
    },
    "papermill": {
     "duration": 0.016653,
     "end_time": "2023-10-15T23:40:16.019924",
     "exception": false,
     "start_time": "2023-10-15T23:40:16.003271",
     "status": "completed"
    },
    "tags": []
   },
   "outputs": [],
   "source": [
    "pd.DataFrame({\n",
    "  'events': events.groupby('date').event_unique_identifier.count(),\n",
    "  'attendances': events.groupby('date').attendances.sum().astype(int),\n",
    "}).resample('M').sum().astype(int).to_csv(os.path.join(OUTPUT_DIR, 'events_by_date.csv'))"
   ]
  },
  {
   "cell_type": "markdown",
   "id": "1b423bbc",
   "metadata": {
    "papermill": {
     "duration": 0.002456,
     "end_time": "2023-10-15T23:40:16.025089",
     "exception": false,
     "start_time": "2023-10-15T23:40:16.022633",
     "status": "completed"
    },
    "tags": []
   },
   "source": [
    "Tickets CSV"
   ]
  },
  {
   "cell_type": "code",
   "execution_count": 8,
   "id": "ce23ba2a",
   "metadata": {
    "execution": {
     "iopub.execute_input": "2023-10-15T23:40:16.031323Z",
     "iopub.status.busy": "2023-10-15T23:40:16.030707Z",
     "iopub.status.idle": "2023-10-15T23:40:16.038312Z",
     "shell.execute_reply": "2023-10-15T23:40:16.037732Z"
    },
    "papermill": {
     "duration": 0.012294,
     "end_time": "2023-10-15T23:40:16.039836",
     "exception": false,
     "start_time": "2023-10-15T23:40:16.027542",
     "status": "completed"
    },
    "tags": []
   },
   "outputs": [],
   "source": [
    "pd.DataFrame({\n",
    "  'orders': tickets.groupby('ward_code').number_of_tickets.count(),\n",
    "  'tickets': tickets.groupby('ward_code').number_of_tickets.sum().astype(int),\n",
    "}).to_csv(os.path.join(OUTPUT_DIR, 'tickets_by_ward.csv'))"
   ]
  },
  {
   "cell_type": "code",
   "execution_count": 9,
   "id": "5d8b1298",
   "metadata": {
    "execution": {
     "iopub.execute_input": "2023-10-15T23:40:16.046102Z",
     "iopub.status.busy": "2023-10-15T23:40:16.045550Z",
     "iopub.status.idle": "2023-10-15T23:40:16.053532Z",
     "shell.execute_reply": "2023-10-15T23:40:16.052945Z"
    },
    "papermill": {
     "duration": 0.012759,
     "end_time": "2023-10-15T23:40:16.055066",
     "exception": false,
     "start_time": "2023-10-15T23:40:16.042307",
     "status": "completed"
    },
    "tags": []
   },
   "outputs": [],
   "source": [
    "pd.DataFrame({\n",
    "  'orders': tickets.groupby('event_date').number_of_tickets.count(),\n",
    "  'tickets': tickets.groupby('event_date').number_of_tickets.sum().astype(int),\n",
    "}).resample('M').sum().to_csv(os.path.join(OUTPUT_DIR, 'tickets_by_event_date.csv'))"
   ]
  },
  {
   "cell_type": "code",
   "execution_count": 10,
   "id": "e010b1b2",
   "metadata": {
    "execution": {
     "iopub.execute_input": "2023-10-15T23:40:16.062024Z",
     "iopub.status.busy": "2023-10-15T23:40:16.061608Z",
     "iopub.status.idle": "2023-10-15T23:40:16.066766Z",
     "shell.execute_reply": "2023-10-15T23:40:16.066122Z"
    },
    "papermill": {
     "duration": 0.010602,
     "end_time": "2023-10-15T23:40:16.068158",
     "exception": false,
     "start_time": "2023-10-15T23:40:16.057556",
     "status": "completed"
    },
    "tags": []
   },
   "outputs": [],
   "source": [
    "pd.Series({\n",
    "    'total_events': events.event_unique_identifier.count(),\n",
    "    'total_attendances': events.attendances.count(),\n",
    "    'first_event': events.date.min(),\n",
    "    'latest_event': events.date.max(),\n",
    "    'total_ticket_orders_for_events_to_date': tickets.number_of_tickets.count(),\n",
    "    'total_tickets_sold_for_events_to_date': tickets.number_of_tickets.sum(),\n",
    "}).to_json(os.path.join(OUTPUT_DIR, 'headlines.json'), indent=2)"
   ]
  },
  {
   "cell_type": "code",
   "execution_count": null,
   "id": "99d56f52",
   "metadata": {
    "papermill": {
     "duration": 0.002402,
     "end_time": "2023-10-15T23:40:16.073094",
     "exception": false,
     "start_time": "2023-10-15T23:40:16.070692",
     "status": "completed"
    },
    "tags": []
   },
   "outputs": [],
   "source": []
  }
 ],
 "metadata": {
  "kernelspec": {
   "display_name": "leeds-2023-YZF5GfJv",
   "language": "python",
   "name": "python3"
  },
  "language_info": {
   "codemirror_mode": {
    "name": "ipython",
    "version": 3
   },
   "file_extension": ".py",
   "mimetype": "text/x-python",
   "name": "python",
   "nbconvert_exporter": "python",
   "pygments_lexer": "ipython3",
   "version": "3.10.13"
  },
  "papermill": {
   "default_parameters": {},
   "duration": 11.840507,
   "end_time": "2023-10-15T23:40:16.393012",
   "environment_variables": {},
   "exception": null,
   "input_path": "prepare.ipynb",
   "output_path": "../../../../working/output/signature-prepare.ipynb",
   "parameters": {},
   "start_time": "2023-10-15T23:40:04.552505",
   "version": "2.4.0"
  }
 },
 "nbformat": 4,
 "nbformat_minor": 5
}