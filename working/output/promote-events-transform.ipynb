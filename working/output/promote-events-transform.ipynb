{
 "cells": [
  {
   "cell_type": "code",
   "execution_count": 1,
   "id": "ebdbca56",
   "metadata": {
    "execution": {
     "iopub.execute_input": "2023-09-03T23:39:10.549688Z",
     "iopub.status.busy": "2023-09-03T23:39:10.549260Z",
     "iopub.status.idle": "2023-09-03T23:39:10.782001Z",
     "shell.execute_reply": "2023-09-03T23:39:10.781383Z"
    },
    "papermill": {
     "duration": 0.237334,
     "end_time": "2023-09-03T23:39:10.783980",
     "exception": false,
     "start_time": "2023-09-03T23:39:10.546646",
     "status": "completed"
    },
    "tags": []
   },
   "outputs": [],
   "source": [
    "import os\n",
    "import pandas as pd"
   ]
  },
  {
   "cell_type": "code",
   "execution_count": 2,
   "id": "ea1f5bbc",
   "metadata": {
    "execution": {
     "iopub.execute_input": "2023-09-03T23:39:10.787982Z",
     "iopub.status.busy": "2023-09-03T23:39:10.787684Z",
     "iopub.status.idle": "2023-09-03T23:39:10.791749Z",
     "shell.execute_reply": "2023-09-03T23:39:10.791190Z"
    },
    "papermill": {
     "duration": 0.007671,
     "end_time": "2023-09-03T23:39:10.793134",
     "exception": false,
     "start_time": "2023-09-03T23:39:10.785463",
     "status": "completed"
    },
    "tags": []
   },
   "outputs": [],
   "source": [
    "EVENTS_RAW_DATA = '../../../working/metrics/promote-events/events.csv'\n",
    "DATA_DIR = '../../../data/metrics/events/promote-events/'\n",
    "EVENTS_DATA = os.path.join(DATA_DIR, 'events.csv')"
   ]
  },
  {
   "cell_type": "code",
   "execution_count": 3,
   "id": "aa239a4b",
   "metadata": {
    "execution": {
     "iopub.execute_input": "2023-09-03T23:39:10.796451Z",
     "iopub.status.busy": "2023-09-03T23:39:10.796243Z",
     "iopub.status.idle": "2023-09-03T23:39:10.800139Z",
     "shell.execute_reply": "2023-09-03T23:39:10.799574Z"
    },
    "papermill": {
     "duration": 0.007259,
     "end_time": "2023-09-03T23:39:10.801569",
     "exception": false,
     "start_time": "2023-09-03T23:39:10.794310",
     "status": "completed"
    },
    "tags": []
   },
   "outputs": [],
   "source": [
    "columns = {\n",
    "    'id': 'id',\n",
    "    'name': 'name',\n",
    "    'locationName': 'location',\n",
    "    'cardPrice': 'card_price',\n",
    "    'timeslots': 'time',\n",
    "    # 'displayOnWebsite': 'display',\n",
    "    'Stage': 'stage',\n",
    "}"
   ]
  },
  {
   "cell_type": "code",
   "execution_count": 4,
   "id": "08e4bc8d",
   "metadata": {
    "execution": {
     "iopub.execute_input": "2023-09-03T23:39:10.804885Z",
     "iopub.status.busy": "2023-09-03T23:39:10.804683Z",
     "iopub.status.idle": "2023-09-03T23:39:10.814283Z",
     "shell.execute_reply": "2023-09-03T23:39:10.813761Z"
    },
    "papermill": {
     "duration": 0.013033,
     "end_time": "2023-09-03T23:39:10.815775",
     "exception": false,
     "start_time": "2023-09-03T23:39:10.802742",
     "status": "completed"
    },
    "tags": []
   },
   "outputs": [],
   "source": [
    "data = pd.read_csv(EVENTS_RAW_DATA)[columns.keys()].rename(columns=columns)\n",
    "data.time = pd.to_datetime(data.time, errors='coerce')"
   ]
  },
  {
   "cell_type": "code",
   "execution_count": 5,
   "id": "30a54f56",
   "metadata": {
    "execution": {
     "iopub.execute_input": "2023-09-03T23:39:10.819198Z",
     "iopub.status.busy": "2023-09-03T23:39:10.818996Z",
     "iopub.status.idle": "2023-09-03T23:39:10.823851Z",
     "shell.execute_reply": "2023-09-03T23:39:10.823305Z"
    },
    "papermill": {
     "duration": 0.008261,
     "end_time": "2023-09-03T23:39:10.825267",
     "exception": false,
     "start_time": "2023-09-03T23:39:10.817006",
     "status": "completed"
    },
    "tags": []
   },
   "outputs": [],
   "source": [
    "data.to_csv(os.path.join(DATA_DIR, 'events.csv'), index=False)"
   ]
  }
 ],
 "metadata": {
  "kernelspec": {
   "display_name": "leeds-2023-YZF5GfJv",
   "language": "python",
   "name": "python3"
  },
  "language_info": {
   "codemirror_mode": {
    "name": "ipython",
    "version": 3
   },
   "file_extension": ".py",
   "mimetype": "text/x-python",
   "name": "python",
   "nbconvert_exporter": "python",
   "pygments_lexer": "ipython3",
   "version": "3.10.12"
  },
  "papermill": {
   "default_parameters": {},
   "duration": 1.865095,
   "end_time": "2023-09-03T23:39:11.042330",
   "environment_variables": {},
   "exception": null,
   "input_path": "transform.ipynb",
   "output_path": "../../../working/output/promote-events-transform.ipynb",
   "parameters": {},
   "start_time": "2023-09-03T23:39:09.177235",
   "version": "2.4.0"
  }
 },
 "nbformat": 4,
 "nbformat_minor": 5
}