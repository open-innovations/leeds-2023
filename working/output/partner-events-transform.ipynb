{
 "cells": [
  {
   "cell_type": "code",
   "execution_count": 1,
   "id": "3762eb49",
   "metadata": {
    "execution": {
     "iopub.execute_input": "2023-10-29T23:37:04.723305Z",
     "iopub.status.busy": "2023-10-29T23:37:04.722804Z",
     "iopub.status.idle": "2023-10-29T23:37:04.972635Z",
     "shell.execute_reply": "2023-10-29T23:37:04.971997Z"
    },
    "papermill": {
     "duration": 0.256151,
     "end_time": "2023-10-29T23:37:04.974509",
     "exception": false,
     "start_time": "2023-10-29T23:37:04.718358",
     "status": "completed"
    },
    "tags": []
   },
   "outputs": [],
   "source": [
    "import os\n",
    "import sys\n",
    "import pandas as pd\n",
    "lib_dir = os.path.realpath('../../../lib/')\n",
    "if lib_dir not in sys.path: sys.path.append(lib_dir)"
   ]
  },
  {
   "cell_type": "code",
   "execution_count": 2,
   "id": "a6546179",
   "metadata": {
    "execution": {
     "iopub.execute_input": "2023-10-29T23:37:04.981663Z",
     "iopub.status.busy": "2023-10-29T23:37:04.981051Z",
     "iopub.status.idle": "2023-10-29T23:37:15.022405Z",
     "shell.execute_reply": "2023-10-29T23:37:15.021751Z"
    },
    "papermill": {
     "duration": 10.046749,
     "end_time": "2023-10-29T23:37:15.024191",
     "exception": false,
     "start_time": "2023-10-29T23:37:04.977442",
     "status": "completed"
    },
    "tags": []
   },
   "outputs": [],
   "source": [
    "import util.geo"
   ]
  },
  {
   "cell_type": "code",
   "execution_count": 3,
   "id": "8a529fb5",
   "metadata": {
    "execution": {
     "iopub.execute_input": "2023-10-29T23:37:15.031395Z",
     "iopub.status.busy": "2023-10-29T23:37:15.031008Z",
     "iopub.status.idle": "2023-10-29T23:37:15.035573Z",
     "shell.execute_reply": "2023-10-29T23:37:15.034987Z"
    },
    "papermill": {
     "duration": 0.010027,
     "end_time": "2023-10-29T23:37:15.037196",
     "exception": false,
     "start_time": "2023-10-29T23:37:15.027169",
     "status": "completed"
    },
    "tags": []
   },
   "outputs": [],
   "source": [
    "EVENTS_RAW_DATA = '../../../working/metrics/partner-events/events.csv'\n",
    "DATA_DIR = '../../../data/metrics/events/partner-events/'\n",
    "EVENTS_DATA = os.path.join(DATA_DIR, 'events.csv')"
   ]
  },
  {
   "cell_type": "code",
   "execution_count": 4,
   "id": "93114a64",
   "metadata": {
    "execution": {
     "iopub.execute_input": "2023-10-29T23:37:15.043613Z",
     "iopub.status.busy": "2023-10-29T23:37:15.043216Z",
     "iopub.status.idle": "2023-10-29T23:37:15.046929Z",
     "shell.execute_reply": "2023-10-29T23:37:15.046295Z"
    },
    "papermill": {
     "duration": 0.008912,
     "end_time": "2023-10-29T23:37:15.048717",
     "exception": false,
     "start_time": "2023-10-29T23:37:15.039805",
     "status": "completed"
    },
    "tags": []
   },
   "outputs": [],
   "source": [
    "columns = {\n",
    "    'Event Name': 'name',\n",
    "    'Event Start Date': 'start_date',\n",
    "    'Event End Date': 'end_date',\n",
    "    'Partner/Promote': 'partner_promote',\n",
    "    'Stage': 'stage',\n",
    "    'Live date': 'live_date',\n",
    "    'Venue postcode': 'postcode',\n",
    "    'Pricing Policy': 'pricing',\n",
    "    'Venue - including address': 'venue',\n",
    "    'Is this event on Leeds Inspried?': 'on_leeds_inspired',\n",
    "}"
   ]
  },
  {
   "cell_type": "markdown",
   "id": "58b057e8",
   "metadata": {
    "papermill": {
     "duration": 0.002637,
     "end_time": "2023-10-29T23:37:15.053996",
     "exception": false,
     "start_time": "2023-10-29T23:37:15.051359",
     "status": "completed"
    },
    "tags": []
   },
   "source": [
    "Load the data and rename columns. Parse the dates to dates."
   ]
  },
  {
   "cell_type": "code",
   "execution_count": 5,
   "id": "872ee4c3",
   "metadata": {
    "execution": {
     "iopub.execute_input": "2023-10-29T23:37:15.060428Z",
     "iopub.status.busy": "2023-10-29T23:37:15.059867Z",
     "iopub.status.idle": "2023-10-29T23:37:15.070484Z",
     "shell.execute_reply": "2023-10-29T23:37:15.069894Z"
    },
    "papermill": {
     "duration": 0.015534,
     "end_time": "2023-10-29T23:37:15.072111",
     "exception": false,
     "start_time": "2023-10-29T23:37:15.056577",
     "status": "completed"
    },
    "tags": []
   },
   "outputs": [],
   "source": [
    "data = pd.read_csv(EVENTS_RAW_DATA)[columns.keys()].rename(columns=columns)\n",
    "data.start_date = pd.to_datetime(data.start_date, errors='coerce')\n",
    "data.end_date = pd.to_datetime(data.end_date, errors='coerce')"
   ]
  },
  {
   "cell_type": "markdown",
   "id": "02477b8c",
   "metadata": {
    "papermill": {
     "duration": 0.002587,
     "end_time": "2023-10-29T23:37:15.077371",
     "exception": false,
     "start_time": "2023-10-29T23:37:15.074784",
     "status": "completed"
    },
    "tags": []
   },
   "source": [
    "Filter data by not LI Pull through and start date before now"
   ]
  },
  {
   "cell_type": "code",
   "execution_count": 6,
   "id": "2f907180",
   "metadata": {
    "execution": {
     "iopub.execute_input": "2023-10-29T23:37:15.084551Z",
     "iopub.status.busy": "2023-10-29T23:37:15.084331Z",
     "iopub.status.idle": "2023-10-29T23:37:15.089110Z",
     "shell.execute_reply": "2023-10-29T23:37:15.088477Z"
    },
    "papermill": {
     "duration": 0.009773,
     "end_time": "2023-10-29T23:37:15.090626",
     "exception": false,
     "start_time": "2023-10-29T23:37:15.080853",
     "status": "completed"
    },
    "tags": []
   },
   "outputs": [],
   "source": [
    "data = data[\n",
    "    # (data.live_date == 'This event is live ') &\n",
    "    ((data.stage != 'LI pull through') & data.stage.notna()) &\n",
    "    (data.start_date < pd.Timestamp.now())\n",
    "]"
   ]
  },
  {
   "cell_type": "code",
   "execution_count": 7,
   "id": "07f5dfaf",
   "metadata": {
    "execution": {
     "iopub.execute_input": "2023-10-29T23:37:15.097205Z",
     "iopub.status.busy": "2023-10-29T23:37:15.096791Z",
     "iopub.status.idle": "2023-10-29T23:37:16.033311Z",
     "shell.execute_reply": "2023-10-29T23:37:16.032643Z"
    },
    "papermill": {
     "duration": 0.941928,
     "end_time": "2023-10-29T23:37:16.035271",
     "exception": false,
     "start_time": "2023-10-29T23:37:15.093343",
     "status": "completed"
    },
    "tags": []
   },
   "outputs": [],
   "source": [
    "data['ward_code'] = data.postcode.pipe(util.geo.postcode_formatter).map(util.geo.postcode_to_ward_code)\n",
    "data['ward_name'] = data.ward_code.pipe(util.geo.ward_code_to_name)"
   ]
  },
  {
   "cell_type": "markdown",
   "id": "a9904da6",
   "metadata": {
    "papermill": {
     "duration": 0.003206,
     "end_time": "2023-10-29T23:37:16.041550",
     "exception": false,
     "start_time": "2023-10-29T23:37:16.038344",
     "status": "completed"
    },
    "tags": []
   },
   "source": [
    "Save the file"
   ]
  },
  {
   "cell_type": "code",
   "execution_count": 8,
   "id": "5e2ad32f",
   "metadata": {
    "execution": {
     "iopub.execute_input": "2023-10-29T23:37:16.048589Z",
     "iopub.status.busy": "2023-10-29T23:37:16.047920Z",
     "iopub.status.idle": "2023-10-29T23:37:16.054173Z",
     "shell.execute_reply": "2023-10-29T23:37:16.053586Z"
    },
    "papermill": {
     "duration": 0.011399,
     "end_time": "2023-10-29T23:37:16.055695",
     "exception": false,
     "start_time": "2023-10-29T23:37:16.044296",
     "status": "completed"
    },
    "tags": []
   },
   "outputs": [],
   "source": [
    "data[\n",
    "    ['name','start_date','end_date','ward_code']\n",
    "].to_csv(EVENTS_DATA, index=False)"
   ]
  },
  {
   "cell_type": "markdown",
   "id": "e7bdbe83",
   "metadata": {
    "papermill": {
     "duration": 0.002743,
     "end_time": "2023-10-29T23:37:16.061252",
     "exception": false,
     "start_time": "2023-10-29T23:37:16.058509",
     "status": "completed"
    },
    "tags": []
   },
   "source": [
    "Print out missing postcode data"
   ]
  },
  {
   "cell_type": "code",
   "execution_count": 9,
   "id": "481d2bb4",
   "metadata": {
    "execution": {
     "iopub.execute_input": "2023-10-29T23:37:16.067736Z",
     "iopub.status.busy": "2023-10-29T23:37:16.067522Z",
     "iopub.status.idle": "2023-10-29T23:37:16.080763Z",
     "shell.execute_reply": "2023-10-29T23:37:16.080112Z"
    },
    "papermill": {
     "duration": 0.018422,
     "end_time": "2023-10-29T23:37:16.082467",
     "exception": false,
     "start_time": "2023-10-29T23:37:16.064045",
     "status": "completed"
    },
    "tags": []
   },
   "outputs": [
    {
     "data": {
      "text/html": [
       "<div>\n",
       "<style scoped>\n",
       "    .dataframe tbody tr th:only-of-type {\n",
       "        vertical-align: middle;\n",
       "    }\n",
       "\n",
       "    .dataframe tbody tr th {\n",
       "        vertical-align: top;\n",
       "    }\n",
       "\n",
       "    .dataframe thead th {\n",
       "        text-align: right;\n",
       "    }\n",
       "</style>\n",
       "<table border=\"1\" class=\"dataframe\">\n",
       "  <thead>\n",
       "    <tr style=\"text-align: right;\">\n",
       "      <th></th>\n",
       "      <th>name</th>\n",
       "      <th>start_date</th>\n",
       "    </tr>\n",
       "  </thead>\n",
       "  <tbody>\n",
       "    <tr>\n",
       "      <th>1</th>\n",
       "      <td>East Street Arts, A City Less Grey 2022</td>\n",
       "      <td>2022-10-08</td>\n",
       "    </tr>\n",
       "    <tr>\n",
       "      <th>3</th>\n",
       "      <td>Phoenix Dance Theatre Virtual Gallery</td>\n",
       "      <td>2023-01-01</td>\n",
       "    </tr>\n",
       "    <tr>\n",
       "      <th>4</th>\n",
       "      <td>The Big Art Giveaway, School of Creative Arts ...</td>\n",
       "      <td>2023-01-01</td>\n",
       "    </tr>\n",
       "    <tr>\n",
       "      <th>5</th>\n",
       "      <td>Embassy of Netherlands, Meet Leeds Lab</td>\n",
       "      <td>2023-01-16</td>\n",
       "    </tr>\n",
       "    <tr>\n",
       "      <th>6</th>\n",
       "      <td>Shifting Borders: A Journey to the Centre of o...</td>\n",
       "      <td>2023-01-24</td>\n",
       "    </tr>\n",
       "    <tr>\n",
       "      <th>...</th>\n",
       "      <td>...</td>\n",
       "      <td>...</td>\n",
       "    </tr>\n",
       "    <tr>\n",
       "      <th>251</th>\n",
       "      <td>All That Lives: Journey With Absent Friends</td>\n",
       "      <td>2023-10-27</td>\n",
       "    </tr>\n",
       "    <tr>\n",
       "      <th>252</th>\n",
       "      <td>All That Lives: What is Left?</td>\n",
       "      <td>2023-10-27</td>\n",
       "    </tr>\n",
       "    <tr>\n",
       "      <th>253</th>\n",
       "      <td>The Crossing</td>\n",
       "      <td>2023-10-27</td>\n",
       "    </tr>\n",
       "    <tr>\n",
       "      <th>254</th>\n",
       "      <td>Day of the Dead Papercraft Workshops</td>\n",
       "      <td>2023-10-28</td>\n",
       "    </tr>\n",
       "    <tr>\n",
       "      <th>255</th>\n",
       "      <td>Family Workshop: Geometric Poetry</td>\n",
       "      <td>2023-10-28</td>\n",
       "    </tr>\n",
       "  </tbody>\n",
       "</table>\n",
       "<p>91 rows × 2 columns</p>\n",
       "</div>"
      ],
      "text/plain": [
       "                                                  name start_date\n",
       "1              East Street Arts, A City Less Grey 2022 2022-10-08\n",
       "3                Phoenix Dance Theatre Virtual Gallery 2023-01-01\n",
       "4    The Big Art Giveaway, School of Creative Arts ... 2023-01-01\n",
       "5               Embassy of Netherlands, Meet Leeds Lab 2023-01-16\n",
       "6    Shifting Borders: A Journey to the Centre of o... 2023-01-24\n",
       "..                                                 ...        ...\n",
       "251        All That Lives: Journey With Absent Friends 2023-10-27\n",
       "252                      All That Lives: What is Left? 2023-10-27\n",
       "253                                       The Crossing 2023-10-27\n",
       "254               Day of the Dead Papercraft Workshops 2023-10-28\n",
       "255                  Family Workshop: Geometric Poetry 2023-10-28\n",
       "\n",
       "[91 rows x 2 columns]"
      ]
     },
     "execution_count": 9,
     "metadata": {},
     "output_type": "execute_result"
    }
   ],
   "source": [
    "data[data.postcode.isna()][[\n",
    "    'name', 'start_date'\n",
    "]]"
   ]
  },
  {
   "cell_type": "markdown",
   "id": "47c4c64e",
   "metadata": {
    "papermill": {
     "duration": 0.00303,
     "end_time": "2023-10-29T23:37:16.088590",
     "exception": false,
     "start_time": "2023-10-29T23:37:16.085560",
     "status": "completed"
    },
    "tags": []
   },
   "source": [
    "Plot the pricing"
   ]
  },
  {
   "cell_type": "code",
   "execution_count": 10,
   "id": "db43cc33",
   "metadata": {
    "execution": {
     "iopub.execute_input": "2023-10-29T23:37:16.096055Z",
     "iopub.status.busy": "2023-10-29T23:37:16.095598Z",
     "iopub.status.idle": "2023-10-29T23:37:16.605395Z",
     "shell.execute_reply": "2023-10-29T23:37:16.604700Z"
    },
    "papermill": {
     "duration": 0.515283,
     "end_time": "2023-10-29T23:37:16.606977",
     "exception": false,
     "start_time": "2023-10-29T23:37:16.091694",
     "status": "completed"
    },
    "tags": []
   },
   "outputs": [
    {
     "data": {
      "image/png": "[encoded data removed]",
      "text/plain": [
       "<Figure size 640x480 with 1 Axes>"
      ]
     },
     "metadata": {},
     "output_type": "display_data"
    }
   ],
   "source": [
    "# .groupby('pricing').count().plot.barh()\n",
    "pricing = data.pricing.fillna('Unspecified').str.replace('[\\[\\'\\]]', '', regex=True).to_frame().reset_index().groupby('pricing').count()\n",
    "\n",
    "pricing.columns = ['count']\n",
    "plot = pricing.plot.barh()\n"
   ]
  },
  {
   "cell_type": "code",
   "execution_count": null,
   "id": "d0a6812b",
   "metadata": {
    "papermill": {
     "duration": 0.004092,
     "end_time": "2023-10-29T23:37:16.614826",
     "exception": false,
     "start_time": "2023-10-29T23:37:16.610734",
     "status": "completed"
    },
    "tags": []
   },
   "outputs": [],
   "source": []
  }
 ],
 "metadata": {
  "kernelspec": {
   "display_name": "leeds-2023-YZF5GfJv",
   "language": "python",
   "name": "python3"
  },
  "language_info": {
   "codemirror_mode": {
    "name": "ipython",
    "version": 3
   },
   "file_extension": ".py",
   "mimetype": "text/x-python",
   "name": "python",
   "nbconvert_exporter": "python",
   "pygments_lexer": "ipython3",
   "version": "3.10.13"
  },
  "papermill": {
   "default_parameters": {},
   "duration": 13.559795,
   "end_time": "2023-10-29T23:37:16.936364",
   "environment_variables": {},
   "exception": null,
   "input_path": "transform.ipynb",
   "output_path": "../../../working/output/partner-events-transform.ipynb",
   "parameters": {},
   "start_time": "2023-10-29T23:37:03.376569",
   "version": "2.4.0"
  }
 },
 "nbformat": 4,
 "nbformat_minor": 5
}