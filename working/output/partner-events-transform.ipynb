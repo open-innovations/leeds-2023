{
 "cells": [
  {
   "cell_type": "code",
   "execution_count": 1,
   "id": "2f39b947",
   "metadata": {
    "execution": {
     "iopub.execute_input": "2023-12-02T23:37:06.509666Z",
     "iopub.status.busy": "2023-12-02T23:37:06.509465Z",
     "iopub.status.idle": "2023-12-02T23:37:06.753219Z",
     "shell.execute_reply": "2023-12-02T23:37:06.752497Z"
    },
    "papermill": {
     "duration": 0.248894,
     "end_time": "2023-12-02T23:37:06.754880",
     "exception": false,
     "start_time": "2023-12-02T23:37:06.505986",
     "status": "completed"
    },
    "tags": []
   },
   "outputs": [],
   "source": [
    "import os\n",
    "import sys\n",
    "import pandas as pd\n",
    "lib_dir = os.path.realpath('../../../lib/')\n",
    "if lib_dir not in sys.path: sys.path.append(lib_dir)"
   ]
  },
  {
   "cell_type": "code",
   "execution_count": 2,
   "id": "8623a913",
   "metadata": {
    "execution": {
     "iopub.execute_input": "2023-12-02T23:37:06.760823Z",
     "iopub.status.busy": "2023-12-02T23:37:06.760242Z",
     "iopub.status.idle": "2023-12-02T23:37:13.683510Z",
     "shell.execute_reply": "2023-12-02T23:37:13.682873Z"
    },
    "papermill": {
     "duration": 6.927719,
     "end_time": "2023-12-02T23:37:13.685071",
     "exception": false,
     "start_time": "2023-12-02T23:37:06.757352",
     "status": "completed"
    },
    "tags": []
   },
   "outputs": [],
   "source": [
    "import util.geo"
   ]
  },
  {
   "cell_type": "code",
   "execution_count": 3,
   "id": "7d8834e8",
   "metadata": {
    "execution": {
     "iopub.execute_input": "2023-12-02T23:37:13.690765Z",
     "iopub.status.busy": "2023-12-02T23:37:13.690348Z",
     "iopub.status.idle": "2023-12-02T23:37:13.693576Z",
     "shell.execute_reply": "2023-12-02T23:37:13.692966Z"
    },
    "papermill": {
     "duration": 0.00742,
     "end_time": "2023-12-02T23:37:13.694927",
     "exception": false,
     "start_time": "2023-12-02T23:37:13.687507",
     "status": "completed"
    },
    "tags": []
   },
   "outputs": [],
   "source": [
    "EVENTS_RAW_DATA = '../../../working/metrics/partner-events/events.csv'\n",
    "DATA_DIR = '../../../data/metrics/events/partner-events/'\n",
    "EVENTS_DATA = os.path.join(DATA_DIR, 'events.csv')"
   ]
  },
  {
   "cell_type": "code",
   "execution_count": 4,
   "id": "521b322f",
   "metadata": {
    "execution": {
     "iopub.execute_input": "2023-12-02T23:37:13.700296Z",
     "iopub.status.busy": "2023-12-02T23:37:13.699826Z",
     "iopub.status.idle": "2023-12-02T23:37:13.703368Z",
     "shell.execute_reply": "2023-12-02T23:37:13.702822Z"
    },
    "papermill": {
     "duration": 0.007607,
     "end_time": "2023-12-02T23:37:13.704676",
     "exception": false,
     "start_time": "2023-12-02T23:37:13.697069",
     "status": "completed"
    },
    "tags": []
   },
   "outputs": [],
   "source": [
    "columns = {\n",
    "    'Event Name': 'name',\n",
    "    'Event Start Date': 'start_date',\n",
    "    'Event End Date': 'end_date',\n",
    "    'Partner/Promote': 'partner_promote',\n",
    "    'Stage': 'stage',\n",
    "    'Live date': 'live_date',\n",
    "    'Venue postcode': 'postcode',\n",
    "    'Pricing Policy': 'pricing',\n",
    "    'Venue - including address': 'venue',\n",
    "    'Is this event on Leeds Inspried?': 'on_leeds_inspired',\n",
    "}"
   ]
  },
  {
   "cell_type": "markdown",
   "id": "56c6c8bc",
   "metadata": {
    "papermill": {
     "duration": 0.002158,
     "end_time": "2023-12-02T23:37:13.709002",
     "exception": false,
     "start_time": "2023-12-02T23:37:13.706844",
     "status": "completed"
    },
    "tags": []
   },
   "source": [
    "Load the data and rename columns. Parse the dates to dates."
   ]
  },
  {
   "cell_type": "code",
   "execution_count": 5,
   "id": "a4526db7",
   "metadata": {
    "execution": {
     "iopub.execute_input": "2023-12-02T23:37:13.714299Z",
     "iopub.status.busy": "2023-12-02T23:37:13.713944Z",
     "iopub.status.idle": "2023-12-02T23:37:13.722786Z",
     "shell.execute_reply": "2023-12-02T23:37:13.722282Z"
    },
    "papermill": {
     "duration": 0.012987,
     "end_time": "2023-12-02T23:37:13.724090",
     "exception": false,
     "start_time": "2023-12-02T23:37:13.711103",
     "status": "completed"
    },
    "tags": []
   },
   "outputs": [],
   "source": [
    "data = pd.read_csv(EVENTS_RAW_DATA)[columns.keys()].rename(columns=columns)\n",
    "data.start_date = pd.to_datetime(data.start_date, errors='coerce')\n",
    "data.end_date = pd.to_datetime(data.end_date, errors='coerce')"
   ]
  },
  {
   "cell_type": "markdown",
   "id": "6364ea8e",
   "metadata": {
    "papermill": {
     "duration": 0.002114,
     "end_time": "2023-12-02T23:37:13.728401",
     "exception": false,
     "start_time": "2023-12-02T23:37:13.726287",
     "status": "completed"
    },
    "tags": []
   },
   "source": [
    "Filter data by not LI Pull through and start date before now"
   ]
  },
  {
   "cell_type": "code",
   "execution_count": 6,
   "id": "73dfc9b3",
   "metadata": {
    "execution": {
     "iopub.execute_input": "2023-12-02T23:37:13.734569Z",
     "iopub.status.busy": "2023-12-02T23:37:13.734201Z",
     "iopub.status.idle": "2023-12-02T23:37:13.738641Z",
     "shell.execute_reply": "2023-12-02T23:37:13.738093Z"
    },
    "papermill": {
     "duration": 0.008552,
     "end_time": "2023-12-02T23:37:13.739926",
     "exception": false,
     "start_time": "2023-12-02T23:37:13.731374",
     "status": "completed"
    },
    "tags": []
   },
   "outputs": [],
   "source": [
    "data = data[\n",
    "    # (data.live_date == 'This event is live ') &\n",
    "    ((data.stage != 'LI pull through') & data.stage.notna()) &\n",
    "    (data.start_date < pd.Timestamp.now())\n",
    "]"
   ]
  },
  {
   "cell_type": "code",
   "execution_count": 7,
   "id": "7c3f703e",
   "metadata": {
    "execution": {
     "iopub.execute_input": "2023-12-02T23:37:13.745232Z",
     "iopub.status.busy": "2023-12-02T23:37:13.744898Z",
     "iopub.status.idle": "2023-12-02T23:37:14.620061Z",
     "shell.execute_reply": "2023-12-02T23:37:14.619354Z"
    },
    "papermill": {
     "duration": 0.879785,
     "end_time": "2023-12-02T23:37:14.621900",
     "exception": false,
     "start_time": "2023-12-02T23:37:13.742115",
     "status": "completed"
    },
    "tags": []
   },
   "outputs": [],
   "source": [
    "data['ward_code'] = data.postcode.pipe(util.geo.postcode_formatter).map(util.geo.postcode_to_ward_code)\n",
    "data['ward_name'] = data.ward_code.pipe(util.geo.ward_code_to_name)"
   ]
  },
  {
   "cell_type": "markdown",
   "id": "29df7080",
   "metadata": {
    "papermill": {
     "duration": 0.002402,
     "end_time": "2023-12-02T23:37:14.626871",
     "exception": false,
     "start_time": "2023-12-02T23:37:14.624469",
     "status": "completed"
    },
    "tags": []
   },
   "source": [
    "Save the file"
   ]
  },
  {
   "cell_type": "code",
   "execution_count": 8,
   "id": "cb77e586",
   "metadata": {
    "execution": {
     "iopub.execute_input": "2023-12-02T23:37:14.632509Z",
     "iopub.status.busy": "2023-12-02T23:37:14.632066Z",
     "iopub.status.idle": "2023-12-02T23:37:14.637968Z",
     "shell.execute_reply": "2023-12-02T23:37:14.637329Z"
    },
    "papermill": {
     "duration": 0.010293,
     "end_time": "2023-12-02T23:37:14.639369",
     "exception": false,
     "start_time": "2023-12-02T23:37:14.629076",
     "status": "completed"
    },
    "tags": []
   },
   "outputs": [],
   "source": [
    "data[\n",
    "    ['name','start_date','end_date','ward_code']\n",
    "].to_csv(EVENTS_DATA, index=False)"
   ]
  },
  {
   "cell_type": "markdown",
   "id": "2db9af2b",
   "metadata": {
    "papermill": {
     "duration": 0.002199,
     "end_time": "2023-12-02T23:37:14.643992",
     "exception": false,
     "start_time": "2023-12-02T23:37:14.641793",
     "status": "completed"
    },
    "tags": []
   },
   "source": [
    "Print out missing postcode data"
   ]
  },
  {
   "cell_type": "code",
   "execution_count": 9,
   "id": "d53896c3",
   "metadata": {
    "execution": {
     "iopub.execute_input": "2023-12-02T23:37:14.649545Z",
     "iopub.status.busy": "2023-12-02T23:37:14.649116Z",
     "iopub.status.idle": "2023-12-02T23:37:14.660277Z",
     "shell.execute_reply": "2023-12-02T23:37:14.659661Z"
    },
    "papermill": {
     "duration": 0.015357,
     "end_time": "2023-12-02T23:37:14.661633",
     "exception": false,
     "start_time": "2023-12-02T23:37:14.646276",
     "status": "completed"
    },
    "tags": []
   },
   "outputs": [
    {
     "data": {
      "text/html": [
       "<div>\n",
       "<style scoped>\n",
       "    .dataframe tbody tr th:only-of-type {\n",
       "        vertical-align: middle;\n",
       "    }\n",
       "\n",
       "    .dataframe tbody tr th {\n",
       "        vertical-align: top;\n",
       "    }\n",
       "\n",
       "    .dataframe thead th {\n",
       "        text-align: right;\n",
       "    }\n",
       "</style>\n",
       "<table border=\"1\" class=\"dataframe\">\n",
       "  <thead>\n",
       "    <tr style=\"text-align: right;\">\n",
       "      <th></th>\n",
       "      <th>name</th>\n",
       "      <th>start_date</th>\n",
       "    </tr>\n",
       "  </thead>\n",
       "  <tbody>\n",
       "    <tr>\n",
       "      <th>1</th>\n",
       "      <td>East Street Arts, A City Less Grey 2022</td>\n",
       "      <td>2022-10-08</td>\n",
       "    </tr>\n",
       "    <tr>\n",
       "      <th>3</th>\n",
       "      <td>Phoenix Dance Theatre Virtual Gallery</td>\n",
       "      <td>2023-01-01</td>\n",
       "    </tr>\n",
       "    <tr>\n",
       "      <th>4</th>\n",
       "      <td>The Big Art Giveaway, School of Creative Arts ...</td>\n",
       "      <td>2023-01-01</td>\n",
       "    </tr>\n",
       "    <tr>\n",
       "      <th>5</th>\n",
       "      <td>Embassy of Netherlands, Meet Leeds Lab</td>\n",
       "      <td>2023-01-16</td>\n",
       "    </tr>\n",
       "    <tr>\n",
       "      <th>6</th>\n",
       "      <td>Shifting Borders: A Journey to the Centre of o...</td>\n",
       "      <td>2023-01-24</td>\n",
       "    </tr>\n",
       "    <tr>\n",
       "      <th>...</th>\n",
       "      <td>...</td>\n",
       "      <td>...</td>\n",
       "    </tr>\n",
       "    <tr>\n",
       "      <th>298</th>\n",
       "      <td>afrah shafiq: st.itch</td>\n",
       "      <td>2023-11-16</td>\n",
       "    </tr>\n",
       "    <tr>\n",
       "      <th>299</th>\n",
       "      <td>Leeds Language Week: Chinese Dance and Languag...</td>\n",
       "      <td>2023-11-19</td>\n",
       "    </tr>\n",
       "    <tr>\n",
       "      <th>300</th>\n",
       "      <td>Leeds Language Week: Taste of China</td>\n",
       "      <td>2023-11-19</td>\n",
       "    </tr>\n",
       "    <tr>\n",
       "      <th>302</th>\n",
       "      <td>Don't Go To Bed Just Yet: Live recording from ...</td>\n",
       "      <td>2023-11-21</td>\n",
       "    </tr>\n",
       "    <tr>\n",
       "      <th>304</th>\n",
       "      <td>Wellbeing Wednesdays</td>\n",
       "      <td>2023-11-22</td>\n",
       "    </tr>\n",
       "  </tbody>\n",
       "</table>\n",
       "<p>126 rows × 2 columns</p>\n",
       "</div>"
      ],
      "text/plain": [
       "                                                  name start_date\n",
       "1              East Street Arts, A City Less Grey 2022 2022-10-08\n",
       "3                Phoenix Dance Theatre Virtual Gallery 2023-01-01\n",
       "4    The Big Art Giveaway, School of Creative Arts ... 2023-01-01\n",
       "5               Embassy of Netherlands, Meet Leeds Lab 2023-01-16\n",
       "6    Shifting Borders: A Journey to the Centre of o... 2023-01-24\n",
       "..                                                 ...        ...\n",
       "298                              afrah shafiq: st.itch 2023-11-16\n",
       "299  Leeds Language Week: Chinese Dance and Languag... 2023-11-19\n",
       "300                Leeds Language Week: Taste of China 2023-11-19\n",
       "302  Don't Go To Bed Just Yet: Live recording from ... 2023-11-21\n",
       "304                               Wellbeing Wednesdays 2023-11-22\n",
       "\n",
       "[126 rows x 2 columns]"
      ]
     },
     "execution_count": 9,
     "metadata": {},
     "output_type": "execute_result"
    }
   ],
   "source": [
    "data[data.postcode.isna()][[\n",
    "    'name', 'start_date'\n",
    "]]"
   ]
  },
  {
   "cell_type": "markdown",
   "id": "5b2cb50d",
   "metadata": {
    "papermill": {
     "duration": 0.002448,
     "end_time": "2023-12-02T23:37:14.666594",
     "exception": false,
     "start_time": "2023-12-02T23:37:14.664146",
     "status": "completed"
    },
    "tags": []
   },
   "source": [
    "Plot the pricing"
   ]
  },
  {
   "cell_type": "code",
   "execution_count": 10,
   "id": "82edcf63",
   "metadata": {
    "execution": {
     "iopub.execute_input": "2023-12-02T23:37:14.672596Z",
     "iopub.status.busy": "2023-12-02T23:37:14.672223Z",
     "iopub.status.idle": "2023-12-02T23:37:15.415244Z",
     "shell.execute_reply": "2023-12-02T23:37:15.414546Z"
    },
    "papermill": {
     "duration": 0.747603,
     "end_time": "2023-12-02T23:37:15.416720",
     "exception": false,
     "start_time": "2023-12-02T23:37:14.669117",
     "status": "completed"
    },
    "tags": []
   },
   "outputs": [
    {
     "data": {
      "image/png": "[encoded data removed]",
      "text/plain": [
       "<Figure size 640x480 with 1 Axes>"
      ]
     },
     "metadata": {},
     "output_type": "display_data"
    }
   ],
   "source": [
    "# .groupby('pricing').count().plot.barh()\n",
    "pricing = data.pricing.fillna('Unspecified').str.replace('[\\[\\'\\]]', '', regex=True).to_frame().reset_index().groupby('pricing').count()\n",
    "\n",
    "pricing.columns = ['count']\n",
    "plot = pricing.plot.barh()\n"
   ]
  },
  {
   "cell_type": "code",
   "execution_count": null,
   "id": "ec20d62d",
   "metadata": {
    "papermill": {
     "duration": 0.002911,
     "end_time": "2023-12-02T23:37:15.422752",
     "exception": false,
     "start_time": "2023-12-02T23:37:15.419841",
     "status": "completed"
    },
    "tags": []
   },
   "outputs": [],
   "source": []
  }
 ],
 "metadata": {
  "kernelspec": {
   "display_name": "leeds-2023-YZF5GfJv",
   "language": "python",
   "name": "python3"
  },
  "language_info": {
   "codemirror_mode": {
    "name": "ipython",
    "version": 3
   },
   "file_extension": ".py",
   "mimetype": "text/x-python",
   "name": "python",
   "nbconvert_exporter": "python",
   "pygments_lexer": "ipython3",
   "version": "3.10.13"
  },
  "papermill": {
   "default_parameters": {},
   "duration": 10.479269,
   "end_time": "2023-12-02T23:37:15.741945",
   "environment_variables": {},
   "exception": null,
   "input_path": "transform.ipynb",
   "output_path": "../../../working/output/partner-events-transform.ipynb",
   "parameters": {},
   "start_time": "2023-12-02T23:37:05.262676",
   "version": "2.4.0"
  }
 },
 "nbformat": 4,
 "nbformat_minor": 5
}