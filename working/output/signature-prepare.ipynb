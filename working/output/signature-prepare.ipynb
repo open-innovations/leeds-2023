{
 "cells": [
  {
   "cell_type": "code",
   "execution_count": 1,
   "id": "c726bc4b",
   "metadata": {
    "execution": {
     "iopub.execute_input": "2023-10-02T23:40:30.411051Z",
     "iopub.status.busy": "2023-10-02T23:40:30.409931Z",
     "iopub.status.idle": "2023-10-02T23:40:43.473227Z",
     "shell.execute_reply": "2023-10-02T23:40:43.472166Z"
    },
    "papermill": {
     "duration": 13.073783,
     "end_time": "2023-10-02T23:40:43.476630",
     "exception": false,
     "start_time": "2023-10-02T23:40:30.402847",
     "status": "completed"
    },
    "tags": []
   },
   "outputs": [],
   "source": [
    "import os\n",
    "import pandas as pd\n",
    "from events import load_event_data, get_first_ward, normalise_ward"
   ]
  },
  {
   "cell_type": "code",
   "execution_count": 2,
   "id": "b3084c45",
   "metadata": {
    "execution": {
     "iopub.execute_input": "2023-10-02T23:40:43.485079Z",
     "iopub.status.busy": "2023-10-02T23:40:43.484324Z",
     "iopub.status.idle": "2023-10-02T23:40:43.489527Z",
     "shell.execute_reply": "2023-10-02T23:40:43.488727Z"
    },
    "papermill": {
     "duration": 0.011322,
     "end_time": "2023-10-02T23:40:43.491376",
     "exception": false,
     "start_time": "2023-10-02T23:40:43.480054",
     "status": "completed"
    },
    "tags": []
   },
   "outputs": [],
   "source": [
    "latest_date = pd.Timestamp.today().ceil('D')"
   ]
  },
  {
   "cell_type": "code",
   "execution_count": 3,
   "id": "28f57e48",
   "metadata": {
    "execution": {
     "iopub.execute_input": "2023-10-02T23:40:43.498886Z",
     "iopub.status.busy": "2023-10-02T23:40:43.498217Z",
     "iopub.status.idle": "2023-10-02T23:40:43.522089Z",
     "shell.execute_reply": "2023-10-02T23:40:43.521249Z"
    },
    "papermill": {
     "duration": 0.030247,
     "end_time": "2023-10-02T23:40:43.524501",
     "exception": false,
     "start_time": "2023-10-02T23:40:43.494254",
     "status": "completed"
    },
    "tags": []
   },
   "outputs": [],
   "source": [
    "tickets = pd.read_csv('../../../../data/metrics/events/tickets/orders.csv', parse_dates=['created_at', 'event_date'])\n",
    "tickets = tickets[tickets.event_date <= latest_date]"
   ]
  },
  {
   "cell_type": "code",
   "execution_count": 4,
   "id": "4458c31d",
   "metadata": {
    "execution": {
     "iopub.execute_input": "2023-10-02T23:40:43.532932Z",
     "iopub.status.busy": "2023-10-02T23:40:43.532389Z",
     "iopub.status.idle": "2023-10-02T23:40:43.821620Z",
     "shell.execute_reply": "2023-10-02T23:40:43.820661Z"
    },
    "papermill": {
     "duration": 0.296333,
     "end_time": "2023-10-02T23:40:43.824400",
     "exception": false,
     "start_time": "2023-10-02T23:40:43.528067",
     "status": "completed"
    },
    "tags": []
   },
   "outputs": [],
   "source": [
    "events = load_event_data()\n",
    "\n",
    "events = pd.concat([\n",
    "  events,\n",
    "  events.pipe(get_first_ward).pipe(normalise_ward).fillna('UNKNOWN'),\n",
    "  pd.Series(\n",
    "      events.actual_audience_size_number_of_participants_in_person + events.actual_audience_size_number_of_participants_online,\n",
    "      name='attendances'\n",
    "  )\n",
    "], axis=1).rename(columns={\n",
    "    'start_date': 'date'\n",
    "}).loc[:, ['ward_code', 'date', 'event_unique_identifier', 'attendances']]"
   ]
  },
  {
   "cell_type": "code",
   "execution_count": 5,
   "id": "66d721a1",
   "metadata": {
    "execution": {
     "iopub.execute_input": "2023-10-02T23:40:43.834490Z",
     "iopub.status.busy": "2023-10-02T23:40:43.833608Z",
     "iopub.status.idle": "2023-10-02T23:40:43.837810Z",
     "shell.execute_reply": "2023-10-02T23:40:43.837140Z"
    },
    "papermill": {
     "duration": 0.010966,
     "end_time": "2023-10-02T23:40:43.839727",
     "exception": false,
     "start_time": "2023-10-02T23:40:43.828761",
     "status": "completed"
    },
    "tags": []
   },
   "outputs": [],
   "source": [
    "OUTPUT_DIR='../../../../docs/metrics/events/signature/_data/'\n",
    "os.makedirs(OUTPUT_DIR, exist_ok=True)"
   ]
  },
  {
   "cell_type": "markdown",
   "id": "14550fbc",
   "metadata": {
    "papermill": {
     "duration": 0.003177,
     "end_time": "2023-10-02T23:40:43.845975",
     "exception": false,
     "start_time": "2023-10-02T23:40:43.842798",
     "status": "completed"
    },
    "tags": []
   },
   "source": [
    "Events CSVs"
   ]
  },
  {
   "cell_type": "code",
   "execution_count": 6,
   "id": "0a85005b",
   "metadata": {
    "execution": {
     "iopub.execute_input": "2023-10-02T23:40:43.854498Z",
     "iopub.status.busy": "2023-10-02T23:40:43.853908Z",
     "iopub.status.idle": "2023-10-02T23:40:43.862306Z",
     "shell.execute_reply": "2023-10-02T23:40:43.861581Z"
    },
    "papermill": {
     "duration": 0.0148,
     "end_time": "2023-10-02T23:40:43.864484",
     "exception": false,
     "start_time": "2023-10-02T23:40:43.849684",
     "status": "completed"
    },
    "tags": []
   },
   "outputs": [],
   "source": [
    "pd.DataFrame({\n",
    "  'events': events.groupby('ward_code').event_unique_identifier.count(),\n",
    "  'attendances': events.groupby('ward_code').attendances.sum().astype(int),\n",
    "}).to_csv(os.path.join(OUTPUT_DIR, 'events_by_ward.csv'))\n"
   ]
  },
  {
   "cell_type": "code",
   "execution_count": 7,
   "id": "240fda9f",
   "metadata": {
    "execution": {
     "iopub.execute_input": "2023-10-02T23:40:43.873837Z",
     "iopub.status.busy": "2023-10-02T23:40:43.872359Z",
     "iopub.status.idle": "2023-10-02T23:40:43.886916Z",
     "shell.execute_reply": "2023-10-02T23:40:43.886202Z"
    },
    "papermill": {
     "duration": 0.02161,
     "end_time": "2023-10-02T23:40:43.889235",
     "exception": false,
     "start_time": "2023-10-02T23:40:43.867625",
     "status": "completed"
    },
    "tags": []
   },
   "outputs": [],
   "source": [
    "pd.DataFrame({\n",
    "  'events': events.groupby('date').event_unique_identifier.count(),\n",
    "  'attendances': events.groupby('date').attendances.sum().astype(int),\n",
    "}).resample('M').sum().astype(int).to_csv(os.path.join(OUTPUT_DIR, 'events_by_date.csv'))"
   ]
  },
  {
   "cell_type": "markdown",
   "id": "8b2fba46",
   "metadata": {
    "papermill": {
     "duration": 0.003937,
     "end_time": "2023-10-02T23:40:43.896420",
     "exception": false,
     "start_time": "2023-10-02T23:40:43.892483",
     "status": "completed"
    },
    "tags": []
   },
   "source": [
    "Tickets CSV"
   ]
  },
  {
   "cell_type": "code",
   "execution_count": 8,
   "id": "cdce5e5c",
   "metadata": {
    "execution": {
     "iopub.execute_input": "2023-10-02T23:40:43.904133Z",
     "iopub.status.busy": "2023-10-02T23:40:43.903813Z",
     "iopub.status.idle": "2023-10-02T23:40:43.914714Z",
     "shell.execute_reply": "2023-10-02T23:40:43.914011Z"
    },
    "papermill": {
     "duration": 0.0176,
     "end_time": "2023-10-02T23:40:43.917116",
     "exception": false,
     "start_time": "2023-10-02T23:40:43.899516",
     "status": "completed"
    },
    "tags": []
   },
   "outputs": [],
   "source": [
    "pd.DataFrame({\n",
    "  'orders': tickets.groupby('ward_code').number_of_tickets.count(),\n",
    "  'tickets': tickets.groupby('ward_code').number_of_tickets.sum().astype(int),\n",
    "}).to_csv(os.path.join(OUTPUT_DIR, 'tickets_by_ward.csv'))"
   ]
  },
  {
   "cell_type": "code",
   "execution_count": 9,
   "id": "7a61f62a",
   "metadata": {
    "execution": {
     "iopub.execute_input": "2023-10-02T23:40:43.924997Z",
     "iopub.status.busy": "2023-10-02T23:40:43.924698Z",
     "iopub.status.idle": "2023-10-02T23:40:43.936424Z",
     "shell.execute_reply": "2023-10-02T23:40:43.935711Z"
    },
    "papermill": {
     "duration": 0.018153,
     "end_time": "2023-10-02T23:40:43.938547",
     "exception": false,
     "start_time": "2023-10-02T23:40:43.920394",
     "status": "completed"
    },
    "tags": []
   },
   "outputs": [],
   "source": [
    "pd.DataFrame({\n",
    "  'orders': tickets.groupby('event_date').number_of_tickets.count(),\n",
    "  'tickets': tickets.groupby('event_date').number_of_tickets.sum().astype(int),\n",
    "}).resample('M').sum().to_csv(os.path.join(OUTPUT_DIR, 'tickets_by_event_date.csv'))"
   ]
  },
  {
   "cell_type": "code",
   "execution_count": 10,
   "id": "79f60a08",
   "metadata": {
    "execution": {
     "iopub.execute_input": "2023-10-02T23:40:43.948417Z",
     "iopub.status.busy": "2023-10-02T23:40:43.948116Z",
     "iopub.status.idle": "2023-10-02T23:40:43.955733Z",
     "shell.execute_reply": "2023-10-02T23:40:43.955000Z"
    },
    "papermill": {
     "duration": 0.015089,
     "end_time": "2023-10-02T23:40:43.957776",
     "exception": false,
     "start_time": "2023-10-02T23:40:43.942687",
     "status": "completed"
    },
    "tags": []
   },
   "outputs": [],
   "source": [
    "pd.Series({\n",
    "    'total_events': events.event_unique_identifier.count(),\n",
    "    'total_attendances': events.attendances.count(),\n",
    "    'first_event': events.date.min(),\n",
    "    'latest_event': events.date.max(),\n",
    "    'total_ticket_orders_for_events_to_date': tickets.number_of_tickets.count(),\n",
    "    'total_tickets_sold_for_events_to_date': tickets.number_of_tickets.sum(),\n",
    "}).to_json(os.path.join(OUTPUT_DIR, 'headlines.json'), indent=2)"
   ]
  },
  {
   "cell_type": "code",
   "execution_count": null,
   "id": "19941307",
   "metadata": {
    "papermill": {
     "duration": 0.003243,
     "end_time": "2023-10-02T23:40:43.964820",
     "exception": false,
     "start_time": "2023-10-02T23:40:43.961577",
     "status": "completed"
    },
    "tags": []
   },
   "outputs": [],
   "source": []
  }
 ],
 "metadata": {
  "kernelspec": {
   "display_name": "leeds-2023-YZF5GfJv",
   "language": "python",
   "name": "python3"
  },
  "language_info": {
   "codemirror_mode": {
    "name": "ipython",
    "version": 3
   },
   "file_extension": ".py",
   "mimetype": "text/x-python",
   "name": "python",
   "nbconvert_exporter": "python",
   "pygments_lexer": "ipython3",
   "version": "3.10.13"
  },
  "papermill": {
   "default_parameters": {},
   "duration": 15.617501,
   "end_time": "2023-10-02T23:40:44.400886",
   "environment_variables": {},
   "exception": null,
   "input_path": "prepare.ipynb",
   "output_path": "../../../../working/output/signature-prepare.ipynb",
   "parameters": {},
   "start_time": "2023-10-02T23:40:28.783385",
   "version": "2.4.0"
  }
 },
 "nbformat": 4,
 "nbformat_minor": 5
}