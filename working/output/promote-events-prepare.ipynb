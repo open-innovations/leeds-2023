{
 "cells": [
  {
   "cell_type": "code",
   "execution_count": 1,
   "id": "2990ce72",
   "metadata": {
    "execution": {
     "iopub.execute_input": "2023-08-05T23:38:35.532124Z",
     "iopub.status.busy": "2023-08-05T23:38:35.531417Z",
     "iopub.status.idle": "2023-08-05T23:38:35.845660Z",
     "shell.execute_reply": "2023-08-05T23:38:35.844682Z"
    },
    "papermill": {
     "duration": 0.32158,
     "end_time": "2023-08-05T23:38:35.848441",
     "exception": false,
     "start_time": "2023-08-05T23:38:35.526861",
     "status": "completed"
    },
    "tags": []
   },
   "outputs": [],
   "source": [
    "import os\n",
    "import pandas as pd"
   ]
  },
  {
   "cell_type": "code",
   "execution_count": 2,
   "id": "253df169",
   "metadata": {
    "execution": {
     "iopub.execute_input": "2023-08-05T23:38:35.855762Z",
     "iopub.status.busy": "2023-08-05T23:38:35.854216Z",
     "iopub.status.idle": "2023-08-05T23:38:35.860283Z",
     "shell.execute_reply": "2023-08-05T23:38:35.859348Z"
    },
    "papermill": {
     "duration": 0.011175,
     "end_time": "2023-08-05T23:38:35.862100",
     "exception": false,
     "start_time": "2023-08-05T23:38:35.850925",
     "status": "completed"
    },
    "tags": []
   },
   "outputs": [],
   "source": [
    "DATA_DIR='../../../docs/metrics/events/promote/_data/'\n",
    "os.makedirs(DATA_DIR, exist_ok=True)"
   ]
  },
  {
   "cell_type": "code",
   "execution_count": 3,
   "id": "d008ef2b",
   "metadata": {
    "execution": {
     "iopub.execute_input": "2023-08-05T23:38:35.868206Z",
     "iopub.status.busy": "2023-08-05T23:38:35.867407Z",
     "iopub.status.idle": "2023-08-05T23:38:35.883410Z",
     "shell.execute_reply": "2023-08-05T23:38:35.882356Z"
    },
    "papermill": {
     "duration": 0.021622,
     "end_time": "2023-08-05T23:38:35.885906",
     "exception": false,
     "start_time": "2023-08-05T23:38:35.864284",
     "status": "completed"
    },
    "tags": []
   },
   "outputs": [],
   "source": [
    "data = pd.read_csv('../../../data/metrics/events/promote-events/events.csv', parse_dates=['time'])"
   ]
  },
  {
   "cell_type": "code",
   "execution_count": 4,
   "id": "1b641feb",
   "metadata": {
    "execution": {
     "iopub.execute_input": "2023-08-05T23:38:35.891733Z",
     "iopub.status.busy": "2023-08-05T23:38:35.891216Z",
     "iopub.status.idle": "2023-08-05T23:38:35.898374Z",
     "shell.execute_reply": "2023-08-05T23:38:35.897338Z"
    },
    "papermill": {
     "duration": 0.012357,
     "end_time": "2023-08-05T23:38:35.900427",
     "exception": false,
     "start_time": "2023-08-05T23:38:35.888070",
     "status": "completed"
    },
    "tags": []
   },
   "outputs": [],
   "source": [
    "pd.Series({\n",
    "    'total_events': len(data.id.unique()),\n",
    "    'total_event_instances': len(data.time),\n",
    "    'earliest_event': data.time.min(),\n",
    "    'latest_event': data.time.max(),\n",
    "}).to_json(\n",
    "    os.path.join(DATA_DIR, 'headlines.json'),\n",
    "    date_format='iso', indent=2\n",
    ")"
   ]
  },
  {
   "cell_type": "code",
   "execution_count": 5,
   "id": "0e2d30b9",
   "metadata": {
    "execution": {
     "iopub.execute_input": "2023-08-05T23:38:35.905723Z",
     "iopub.status.busy": "2023-08-05T23:38:35.905453Z",
     "iopub.status.idle": "2023-08-05T23:38:35.916628Z",
     "shell.execute_reply": "2023-08-05T23:38:35.915686Z"
    },
    "papermill": {
     "duration": 0.016362,
     "end_time": "2023-08-05T23:38:35.918731",
     "exception": false,
     "start_time": "2023-08-05T23:38:35.902369",
     "status": "completed"
    },
    "tags": []
   },
   "outputs": [],
   "source": [
    "events = pd.DataFrame({\n",
    "    'events': data.groupby('id').agg({ 'time': 'min' }).reset_index().groupby('time').id.count(),\n",
    "    'event_instances': data.groupby('time').id.count(),\n",
    "}).fillna(0).astype(int)"
   ]
  },
  {
   "cell_type": "code",
   "execution_count": 6,
   "id": "c4da2d6f",
   "metadata": {
    "execution": {
     "iopub.execute_input": "2023-08-05T23:38:35.924079Z",
     "iopub.status.busy": "2023-08-05T23:38:35.923817Z",
     "iopub.status.idle": "2023-08-05T23:38:35.928457Z",
     "shell.execute_reply": "2023-08-05T23:38:35.927380Z"
    },
    "papermill": {
     "duration": 0.009908,
     "end_time": "2023-08-05T23:38:35.930771",
     "exception": false,
     "start_time": "2023-08-05T23:38:35.920863",
     "status": "completed"
    },
    "tags": []
   },
   "outputs": [],
   "source": [
    "def cumulate(data):\n",
    "    return pd.concat([\n",
    "        data,\n",
    "        data.cumsum().rename(columns=lambda c: f'cumulative_{c}')\n",
    "    ], axis=1)"
   ]
  },
  {
   "cell_type": "code",
   "execution_count": 7,
   "id": "140c6cf0",
   "metadata": {
    "execution": {
     "iopub.execute_input": "2023-08-05T23:38:35.936210Z",
     "iopub.status.busy": "2023-08-05T23:38:35.935929Z",
     "iopub.status.idle": "2023-08-05T23:38:35.949319Z",
     "shell.execute_reply": "2023-08-05T23:38:35.948547Z"
    },
    "papermill": {
     "duration": 0.018606,
     "end_time": "2023-08-05T23:38:35.951367",
     "exception": false,
     "start_time": "2023-08-05T23:38:35.932761",
     "status": "completed"
    },
    "tags": []
   },
   "outputs": [],
   "source": [
    "events.resample('W-FRI').sum().pipe(cumulate).to_csv(os.path.join(DATA_DIR, 'by_week.csv'))"
   ]
  },
  {
   "cell_type": "code",
   "execution_count": 8,
   "id": "a41d4f73",
   "metadata": {
    "execution": {
     "iopub.execute_input": "2023-08-05T23:38:35.957446Z",
     "iopub.status.busy": "2023-08-05T23:38:35.957178Z",
     "iopub.status.idle": "2023-08-05T23:38:35.964343Z",
     "shell.execute_reply": "2023-08-05T23:38:35.963379Z"
    },
    "papermill": {
     "duration": 0.012288,
     "end_time": "2023-08-05T23:38:35.966201",
     "exception": false,
     "start_time": "2023-08-05T23:38:35.953913",
     "status": "completed"
    },
    "tags": []
   },
   "outputs": [],
   "source": [
    "events.resample('MS').sum().pipe(cumulate).to_csv(os.path.join(DATA_DIR, 'by_month.csv'))"
   ]
  },
  {
   "cell_type": "code",
   "execution_count": null,
   "id": "695db6c3",
   "metadata": {
    "papermill": {
     "duration": 0.00221,
     "end_time": "2023-08-05T23:38:35.970584",
     "exception": false,
     "start_time": "2023-08-05T23:38:35.968374",
     "status": "completed"
    },
    "tags": []
   },
   "outputs": [],
   "source": []
  }
 ],
 "metadata": {
  "kernelspec": {
   "display_name": "leeds-2023-YZF5GfJv",
   "language": "python",
   "name": "python3"
  },
  "language_info": {
   "codemirror_mode": {
    "name": "ipython",
    "version": 3
   },
   "file_extension": ".py",
   "mimetype": "text/x-python",
   "name": "python",
   "nbconvert_exporter": "python",
   "pygments_lexer": "ipython3",
   "version": "3.10.6"
  },
  "papermill": {
   "default_parameters": {},
   "duration": 2.345777,
   "end_time": "2023-08-05T23:38:36.293971",
   "environment_variables": {},
   "exception": null,
   "input_path": "prepare.ipynb",
   "output_path": "../../../working/output/promote-events-prepare.ipynb",
   "parameters": {},
   "start_time": "2023-08-05T23:38:33.948194",
   "version": "2.4.0"
  }
 },
 "nbformat": 4,
 "nbformat_minor": 5
}