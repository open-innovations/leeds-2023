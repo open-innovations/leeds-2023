{
 "cells": [
  {
   "cell_type": "code",
   "execution_count": 1,
   "id": "2ab76f4b",
   "metadata": {
    "execution": {
     "iopub.execute_input": "2023-08-19T23:37:25.806554Z",
     "iopub.status.busy": "2023-08-19T23:37:25.806227Z",
     "iopub.status.idle": "2023-08-19T23:37:26.122711Z",
     "shell.execute_reply": "2023-08-19T23:37:26.121753Z"
    },
    "papermill": {
     "duration": 0.324638,
     "end_time": "2023-08-19T23:37:26.125882",
     "exception": false,
     "start_time": "2023-08-19T23:37:25.801244",
     "status": "completed"
    },
    "tags": []
   },
   "outputs": [],
   "source": [
    "import os\n",
    "import pandas as pd"
   ]
  },
  {
   "cell_type": "code",
   "execution_count": 2,
   "id": "c1f94144",
   "metadata": {
    "execution": {
     "iopub.execute_input": "2023-08-19T23:37:26.131365Z",
     "iopub.status.busy": "2023-08-19T23:37:26.130602Z",
     "iopub.status.idle": "2023-08-19T23:37:26.135813Z",
     "shell.execute_reply": "2023-08-19T23:37:26.134250Z"
    },
    "papermill": {
     "duration": 0.009949,
     "end_time": "2023-08-19T23:37:26.137960",
     "exception": false,
     "start_time": "2023-08-19T23:37:26.128011",
     "status": "completed"
    },
    "tags": []
   },
   "outputs": [],
   "source": [
    "EVENTS_RAW_DATA = '../../../working/metrics/promote-events/events.csv'\n",
    "DATA_DIR = '../../../data/metrics/events/promote-events/'\n",
    "EVENTS_DATA = os.path.join(DATA_DIR, 'events.csv')"
   ]
  },
  {
   "cell_type": "code",
   "execution_count": 3,
   "id": "3aef9838",
   "metadata": {
    "execution": {
     "iopub.execute_input": "2023-08-19T23:37:26.142530Z",
     "iopub.status.busy": "2023-08-19T23:37:26.142265Z",
     "iopub.status.idle": "2023-08-19T23:37:26.146122Z",
     "shell.execute_reply": "2023-08-19T23:37:26.145321Z"
    },
    "papermill": {
     "duration": 0.009437,
     "end_time": "2023-08-19T23:37:26.148933",
     "exception": false,
     "start_time": "2023-08-19T23:37:26.139496",
     "status": "completed"
    },
    "tags": []
   },
   "outputs": [],
   "source": [
    "columns = {\n",
    "    'id': 'id',\n",
    "    'name': 'name',\n",
    "    'locationName': 'location',\n",
    "    'cardPrice': 'card_price',\n",
    "    'timeslots': 'time',\n",
    "    # 'displayOnWebsite': 'display',\n",
    "    'Stage': 'stage',\n",
    "}"
   ]
  },
  {
   "cell_type": "code",
   "execution_count": 4,
   "id": "d40eac60",
   "metadata": {
    "execution": {
     "iopub.execute_input": "2023-08-19T23:37:26.153510Z",
     "iopub.status.busy": "2023-08-19T23:37:26.153265Z",
     "iopub.status.idle": "2023-08-19T23:37:26.167832Z",
     "shell.execute_reply": "2023-08-19T23:37:26.166041Z"
    },
    "papermill": {
     "duration": 0.022455,
     "end_time": "2023-08-19T23:37:26.172973",
     "exception": false,
     "start_time": "2023-08-19T23:37:26.150518",
     "status": "completed"
    },
    "tags": []
   },
   "outputs": [],
   "source": [
    "data = pd.read_csv(EVENTS_RAW_DATA)[columns.keys()].rename(columns=columns)\n",
    "data.time = pd.to_datetime(data.time, errors='coerce')"
   ]
  },
  {
   "cell_type": "code",
   "execution_count": 5,
   "id": "83feae0a",
   "metadata": {
    "execution": {
     "iopub.execute_input": "2023-08-19T23:37:26.185153Z",
     "iopub.status.busy": "2023-08-19T23:37:26.184301Z",
     "iopub.status.idle": "2023-08-19T23:37:26.191152Z",
     "shell.execute_reply": "2023-08-19T23:37:26.190574Z"
    },
    "papermill": {
     "duration": 0.015271,
     "end_time": "2023-08-19T23:37:26.192645",
     "exception": false,
     "start_time": "2023-08-19T23:37:26.177374",
     "status": "completed"
    },
    "tags": []
   },
   "outputs": [],
   "source": [
    "data.to_csv(os.path.join(DATA_DIR, 'events.csv'), index=False)"
   ]
  }
 ],
 "metadata": {
  "kernelspec": {
   "display_name": "leeds-2023-YZF5GfJv",
   "language": "python",
   "name": "python3"
  },
  "language_info": {
   "codemirror_mode": {
    "name": "ipython",
    "version": 3
   },
   "file_extension": ".py",
   "mimetype": "text/x-python",
   "name": "python",
   "nbconvert_exporter": "python",
   "pygments_lexer": "ipython3",
   "version": "3.10.12"
  },
  "papermill": {
   "default_parameters": {},
   "duration": 2.191947,
   "end_time": "2023-08-19T23:37:26.412299",
   "environment_variables": {},
   "exception": null,
   "input_path": "transform.ipynb",
   "output_path": "../../../working/output/promote-events-transform.ipynb",
   "parameters": {},
   "start_time": "2023-08-19T23:37:24.220352",
   "version": "2.4.0"
  }
 },
 "nbformat": 4,
 "nbformat_minor": 5
}