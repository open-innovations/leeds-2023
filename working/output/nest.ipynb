{
 "cells": [
  {
   "cell_type": "markdown",
   "id": "6d0f4c05",
   "metadata": {
    "papermill": {
     "duration": 0.001922,
     "end_time": "2023-11-13T23:37:53.034957",
     "exception": false,
     "start_time": "2023-11-13T23:37:53.033035",
     "status": "completed"
    },
    "tags": []
   },
   "source": [
    "# Nest\n",
    "\n",
    "Prepares data for the Nest page "
   ]
  },
  {
   "cell_type": "code",
   "execution_count": 1,
   "id": "07cdcecd",
   "metadata": {
    "execution": {
     "iopub.execute_input": "2023-11-13T23:37:53.039185Z",
     "iopub.status.busy": "2023-11-13T23:37:53.038902Z",
     "iopub.status.idle": "2023-11-13T23:38:00.186818Z",
     "shell.execute_reply": "2023-11-13T23:38:00.186119Z"
    },
    "papermill": {
     "duration": 7.152127,
     "end_time": "2023-11-13T23:38:00.188592",
     "exception": false,
     "start_time": "2023-11-13T23:37:53.036465",
     "status": "completed"
    },
    "tags": []
   },
   "outputs": [],
   "source": [
    "import os\n",
    "from events import (\n",
    "    load_event_data, filter_public_events, filter_by_project, prepare, save_files, count_wards\n",
    ")"
   ]
  },
  {
   "cell_type": "markdown",
   "id": "8bd1fa71",
   "metadata": {
    "papermill": {
     "duration": 0.001375,
     "end_time": "2023-11-13T23:38:00.191607",
     "exception": false,
     "start_time": "2023-11-13T23:38:00.190232",
     "status": "completed"
    },
    "tags": []
   },
   "source": [
    "Set output directory"
   ]
  },
  {
   "cell_type": "code",
   "execution_count": 2,
   "id": "4cb01bf0",
   "metadata": {
    "execution": {
     "iopub.execute_input": "2023-11-13T23:38:00.195428Z",
     "iopub.status.busy": "2023-11-13T23:38:00.195028Z",
     "iopub.status.idle": "2023-11-13T23:38:00.198133Z",
     "shell.execute_reply": "2023-11-13T23:38:00.197532Z"
    },
    "papermill": {
     "duration": 0.006455,
     "end_time": "2023-11-13T23:38:00.199404",
     "exception": false,
     "start_time": "2023-11-13T23:38:00.192949",
     "status": "completed"
    },
    "tags": []
   },
   "outputs": [],
   "source": [
    "OUT_DIR = '../../../../docs/metrics/events/nest/_data/events'"
   ]
  },
  {
   "cell_type": "markdown",
   "id": "097e3a0a",
   "metadata": {
    "papermill": {
     "duration": 0.001335,
     "end_time": "2023-11-13T23:38:00.202102",
     "exception": false,
     "start_time": "2023-11-13T23:38:00.200767",
     "status": "completed"
    },
    "tags": []
   },
   "source": [
    "Read in event data and filter by **My LEEDS 2023** project.\n",
    "\n",
    "The criteria are:\n",
    "\n",
    "* project type is 'Produce (Signature)'\n",
    "* event_type contains 'Public Event -'\n",
    "\n",
    "It's then filtered by project_name is '10 - Melt'"
   ]
  },
  {
   "cell_type": "code",
   "execution_count": 3,
   "id": "aa19f3c4",
   "metadata": {
    "execution": {
     "iopub.execute_input": "2023-11-13T23:38:00.205912Z",
     "iopub.status.busy": "2023-11-13T23:38:00.205584Z",
     "iopub.status.idle": "2023-11-13T23:38:00.228282Z",
     "shell.execute_reply": "2023-11-13T23:38:00.227683Z"
    },
    "papermill": {
     "duration": 0.026023,
     "end_time": "2023-11-13T23:38:00.229615",
     "exception": false,
     "start_time": "2023-11-13T23:38:00.203592",
     "status": "completed"
    },
    "tags": []
   },
   "outputs": [
    {
     "data": {
      "text/html": [
       "<div>\n",
       "<style scoped>\n",
       "    .dataframe tbody tr th:only-of-type {\n",
       "        vertical-align: middle;\n",
       "    }\n",
       "\n",
       "    .dataframe tbody tr th {\n",
       "        vertical-align: top;\n",
       "    }\n",
       "\n",
       "    .dataframe thead th {\n",
       "        text-align: right;\n",
       "    }\n",
       "</style>\n",
       "<table border=\"1\" class=\"dataframe\">\n",
       "  <thead>\n",
       "    <tr style=\"text-align: right;\">\n",
       "      <th></th>\n",
       "      <th>actual_audience_size_number_of_participants_in_person</th>\n",
       "      <th>actual_audience_size_number_of_participants_online</th>\n",
       "      <th>airtable_id</th>\n",
       "      <th>end_date</th>\n",
       "      <th>event_name</th>\n",
       "      <th>event_type</th>\n",
       "      <th>event_unique_identifier</th>\n",
       "      <th>number_of_booked_participants</th>\n",
       "      <th>postcode_(from_venue)</th>\n",
       "      <th>project_name</th>\n",
       "      <th>project_type</th>\n",
       "      <th>season</th>\n",
       "      <th>start_date</th>\n",
       "      <th>ticket_tailor_id</th>\n",
       "      <th>ward_(from_venue)</th>\n",
       "    </tr>\n",
       "  </thead>\n",
       "  <tbody>\n",
       "    <tr>\n",
       "      <th>1098</th>\n",
       "      <td>1338.0</td>\n",
       "      <td>NaN</td>\n",
       "      <td>241</td>\n",
       "      <td>2023-09-09</td>\n",
       "      <td>Melt (Run)</td>\n",
       "      <td>['Public Event - Performance']</td>\n",
       "      <td>10 - Melt: Melt (Run)</td>\n",
       "      <td>1542.0</td>\n",
       "      <td>['LS26 8AL']</td>\n",
       "      <td>10 - Melt</td>\n",
       "      <td>Produce (Signature)</td>\n",
       "      <td>['Season 3 - Dreaming']</td>\n",
       "      <td>2023-09-05</td>\n",
       "      <td>ev_2809632, ev_2809633,  ev_2809634,  ev_28096...</td>\n",
       "      <td>['Garforth and Swillington']</td>\n",
       "    </tr>\n",
       "  </tbody>\n",
       "</table>\n",
       "</div>"
      ],
      "text/plain": [
       "      actual_audience_size_number_of_participants_in_person  \\\n",
       "1098                                             1338.0       \n",
       "\n",
       "      actual_audience_size_number_of_participants_online  airtable_id  \\\n",
       "1098                                                NaN           241   \n",
       "\n",
       "        end_date  event_name                      event_type  \\\n",
       "1098  2023-09-09  Melt (Run)  ['Public Event - Performance']   \n",
       "\n",
       "     event_unique_identifier  number_of_booked_participants  \\\n",
       "1098   10 - Melt: Melt (Run)                         1542.0   \n",
       "\n",
       "     postcode_(from_venue) project_name         project_type  \\\n",
       "1098          ['LS26 8AL']    10 - Melt  Produce (Signature)   \n",
       "\n",
       "                       season start_date  \\\n",
       "1098  ['Season 3 - Dreaming'] 2023-09-05   \n",
       "\n",
       "                                       ticket_tailor_id  \\\n",
       "1098  ev_2809632, ev_2809633,  ev_2809634,  ev_28096...   \n",
       "\n",
       "                 ward_(from_venue)  \n",
       "1098  ['Garforth and Swillington']  "
      ]
     },
     "execution_count": 3,
     "metadata": {},
     "output_type": "execute_result"
    }
   ],
   "source": [
    "data = (\n",
    "  load_event_data()\n",
    "    .pipe(filter_by_project, '10 - Melt')\n",
    "    .pipe(filter_public_events)\n",
    "  )\n",
    "data"
   ]
  },
  {
   "cell_type": "markdown",
   "id": "06c1b286",
   "metadata": {
    "papermill": {
     "duration": 0.001545,
     "end_time": "2023-11-13T23:38:00.232785",
     "exception": false,
     "start_time": "2023-11-13T23:38:00.231240",
     "status": "completed"
    },
    "tags": []
   },
   "source": [
    "Run the processing and save the files"
   ]
  },
  {
   "cell_type": "code",
   "execution_count": 4,
   "id": "19266cc3",
   "metadata": {
    "execution": {
     "iopub.execute_input": "2023-11-13T23:38:00.237063Z",
     "iopub.status.busy": "2023-11-13T23:38:00.236588Z",
     "iopub.status.idle": "2023-11-13T23:38:00.258175Z",
     "shell.execute_reply": "2023-11-13T23:38:00.257565Z"
    },
    "papermill": {
     "duration": 0.025164,
     "end_time": "2023-11-13T23:38:00.259532",
     "exception": false,
     "start_time": "2023-11-13T23:38:00.234368",
     "status": "completed"
    },
    "tags": []
   },
   "outputs": [],
   "source": [
    "data = data.pipe(prepare).pipe(save_files, OUT_DIR)"
   ]
  }
 ],
 "metadata": {
  "kernelspec": {
   "display_name": "leeds-2023-YZF5GfJv",
   "language": "python",
   "name": "python3"
  },
  "language_info": {
   "codemirror_mode": {
    "name": "ipython",
    "version": 3
   },
   "file_extension": ".py",
   "mimetype": "text/x-python",
   "name": "python",
   "nbconvert_exporter": "python",
   "pygments_lexer": "ipython3",
   "version": "3.10.13"
  },
  "papermill": {
   "default_parameters": {},
   "duration": 8.681043,
   "end_time": "2023-11-13T23:38:00.476600",
   "environment_variables": {},
   "exception": null,
   "input_path": "nest.ipynb",
   "output_path": "../../../../working/output/nest.ipynb",
   "parameters": {},
   "start_time": "2023-11-13T23:37:51.795557",
   "version": "2.4.0"
  }
 },
 "nbformat": 4,
 "nbformat_minor": 5
}