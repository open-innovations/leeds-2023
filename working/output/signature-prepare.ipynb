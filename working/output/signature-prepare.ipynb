{
 "cells": [
  {
   "cell_type": "code",
   "execution_count": 1,
   "id": "88af998a",
   "metadata": {
    "execution": {
     "iopub.execute_input": "2023-10-06T09:23:21.437330Z",
     "iopub.status.busy": "2023-10-06T09:23:21.436567Z",
     "iopub.status.idle": "2023-10-06T09:23:26.227276Z",
     "shell.execute_reply": "2023-10-06T09:23:26.226815Z"
    },
    "papermill": {
     "duration": 4.79749,
     "end_time": "2023-10-06T09:23:26.228358",
     "exception": false,
     "start_time": "2023-10-06T09:23:21.430868",
     "status": "completed"
    },
    "tags": []
   },
   "outputs": [],
   "source": [
    "import os\n",
    "import pandas as pd\n",
    "from events import load_event_data, get_first_ward, normalise_ward"
   ]
  },
  {
   "cell_type": "code",
   "execution_count": 2,
   "id": "ec0568e4",
   "metadata": {
    "execution": {
     "iopub.execute_input": "2023-10-06T09:23:26.231514Z",
     "iopub.status.busy": "2023-10-06T09:23:26.231343Z",
     "iopub.status.idle": "2023-10-06T09:23:26.233595Z",
     "shell.execute_reply": "2023-10-06T09:23:26.233315Z"
    },
    "papermill": {
     "duration": 0.004635,
     "end_time": "2023-10-06T09:23:26.234333",
     "exception": false,
     "start_time": "2023-10-06T09:23:26.229698",
     "status": "completed"
    },
    "tags": []
   },
   "outputs": [],
   "source": [
    "latest_date = pd.Timestamp.today().ceil('D')"
   ]
  },
  {
   "cell_type": "code",
   "execution_count": 3,
   "id": "feb60f2e",
   "metadata": {
    "execution": {
     "iopub.execute_input": "2023-10-06T09:23:26.236946Z",
     "iopub.status.busy": "2023-10-06T09:23:26.236813Z",
     "iopub.status.idle": "2023-10-06T09:23:26.246985Z",
     "shell.execute_reply": "2023-10-06T09:23:26.246593Z"
    },
    "papermill": {
     "duration": 0.012609,
     "end_time": "2023-10-06T09:23:26.248017",
     "exception": false,
     "start_time": "2023-10-06T09:23:26.235408",
     "status": "completed"
    },
    "tags": []
   },
   "outputs": [],
   "source": [
    "tickets = pd.read_csv('../../../../data/metrics/events/tickets/orders.csv', parse_dates=['created_at', 'event_date'])\n",
    "tickets = tickets[tickets.event_date <= latest_date]"
   ]
  },
  {
   "cell_type": "code",
   "execution_count": 4,
   "id": "634e3a5d",
   "metadata": {
    "execution": {
     "iopub.execute_input": "2023-10-06T09:23:26.252152Z",
     "iopub.status.busy": "2023-10-06T09:23:26.251921Z",
     "iopub.status.idle": "2023-10-06T09:23:26.349216Z",
     "shell.execute_reply": "2023-10-06T09:23:26.348764Z"
    },
    "papermill": {
     "duration": 0.10062,
     "end_time": "2023-10-06T09:23:26.350272",
     "exception": false,
     "start_time": "2023-10-06T09:23:26.249652",
     "status": "completed"
    },
    "tags": []
   },
   "outputs": [],
   "source": [
    "events = load_event_data()\n",
    "\n",
    "events = pd.concat([\n",
    "  events,\n",
    "  events.pipe(get_first_ward).pipe(normalise_ward).fillna('UNKNOWN'),\n",
    "  pd.Series(\n",
    "      events.actual_audience_size_number_of_participants_in_person + events.actual_audience_size_number_of_participants_online,\n",
    "      name='attendances'\n",
    "  )\n",
    "], axis=1).rename(columns={\n",
    "    'start_date': 'date'\n",
    "}).loc[:, ['ward_code', 'date', 'event_unique_identifier', 'attendances']]"
   ]
  },
  {
   "cell_type": "code",
   "execution_count": 5,
   "id": "da914b7a",
   "metadata": {
    "execution": {
     "iopub.execute_input": "2023-10-06T09:23:26.353279Z",
     "iopub.status.busy": "2023-10-06T09:23:26.353128Z",
     "iopub.status.idle": "2023-10-06T09:23:26.355041Z",
     "shell.execute_reply": "2023-10-06T09:23:26.354771Z"
    },
    "papermill": {
     "duration": 0.004313,
     "end_time": "2023-10-06T09:23:26.355851",
     "exception": false,
     "start_time": "2023-10-06T09:23:26.351538",
     "status": "completed"
    },
    "tags": []
   },
   "outputs": [],
   "source": [
    "OUTPUT_DIR='../../../../docs/metrics/events/signature/_data/'\n",
    "os.makedirs(OUTPUT_DIR, exist_ok=True)"
   ]
  },
  {
   "cell_type": "markdown",
   "id": "d123b7a3",
   "metadata": {
    "papermill": {
     "duration": 0.001101,
     "end_time": "2023-10-06T09:23:26.358023",
     "exception": false,
     "start_time": "2023-10-06T09:23:26.356922",
     "status": "completed"
    },
    "tags": []
   },
   "source": [
    "Events CSVs"
   ]
  },
  {
   "cell_type": "code",
   "execution_count": 6,
   "id": "24d803aa",
   "metadata": {
    "execution": {
     "iopub.execute_input": "2023-10-06T09:23:26.360796Z",
     "iopub.status.busy": "2023-10-06T09:23:26.360650Z",
     "iopub.status.idle": "2023-10-06T09:23:26.364571Z",
     "shell.execute_reply": "2023-10-06T09:23:26.364259Z"
    },
    "papermill": {
     "duration": 0.006247,
     "end_time": "2023-10-06T09:23:26.365400",
     "exception": false,
     "start_time": "2023-10-06T09:23:26.359153",
     "status": "completed"
    },
    "tags": []
   },
   "outputs": [],
   "source": [
    "pd.DataFrame({\n",
    "  'events': events.groupby('ward_code').event_unique_identifier.count(),\n",
    "  'attendances': events.groupby('ward_code').attendances.sum().astype(int),\n",
    "}).to_csv(os.path.join(OUTPUT_DIR, 'events_by_ward.csv'))\n"
   ]
  },
  {
   "cell_type": "code",
   "execution_count": 7,
   "id": "d8acbe17",
   "metadata": {
    "execution": {
     "iopub.execute_input": "2023-10-06T09:23:26.368120Z",
     "iopub.status.busy": "2023-10-06T09:23:26.367989Z",
     "iopub.status.idle": "2023-10-06T09:23:26.373516Z",
     "shell.execute_reply": "2023-10-06T09:23:26.373220Z"
    },
    "papermill": {
     "duration": 0.007864,
     "end_time": "2023-10-06T09:23:26.374379",
     "exception": false,
     "start_time": "2023-10-06T09:23:26.366515",
     "status": "completed"
    },
    "tags": []
   },
   "outputs": [],
   "source": [
    "pd.DataFrame({\n",
    "  'events': events.groupby('date').event_unique_identifier.count(),\n",
    "  'attendances': events.groupby('date').attendances.sum().astype(int),\n",
    "}).resample('M').sum().astype(int).to_csv(os.path.join(OUTPUT_DIR, 'events_by_date.csv'))"
   ]
  },
  {
   "cell_type": "markdown",
   "id": "36b42a0d",
   "metadata": {
    "papermill": {
     "duration": 0.001062,
     "end_time": "2023-10-06T09:23:26.376602",
     "exception": false,
     "start_time": "2023-10-06T09:23:26.375540",
     "status": "completed"
    },
    "tags": []
   },
   "source": [
    "Tickets CSV"
   ]
  },
  {
   "cell_type": "code",
   "execution_count": 8,
   "id": "2965b249",
   "metadata": {
    "execution": {
     "iopub.execute_input": "2023-10-06T09:23:26.379338Z",
     "iopub.status.busy": "2023-10-06T09:23:26.379205Z",
     "iopub.status.idle": "2023-10-06T09:23:26.382995Z",
     "shell.execute_reply": "2023-10-06T09:23:26.382688Z"
    },
    "papermill": {
     "duration": 0.006102,
     "end_time": "2023-10-06T09:23:26.383806",
     "exception": false,
     "start_time": "2023-10-06T09:23:26.377704",
     "status": "completed"
    },
    "tags": []
   },
   "outputs": [],
   "source": [
    "pd.DataFrame({\n",
    "  'orders': tickets.groupby('ward_code').number_of_tickets.count(),\n",
    "  'tickets': tickets.groupby('ward_code').number_of_tickets.sum().astype(int),\n",
    "}).to_csv(os.path.join(OUTPUT_DIR, 'tickets_by_ward.csv'))"
   ]
  },
  {
   "cell_type": "code",
   "execution_count": 9,
   "id": "2eb99880",
   "metadata": {
    "execution": {
     "iopub.execute_input": "2023-10-06T09:23:26.386561Z",
     "iopub.status.busy": "2023-10-06T09:23:26.386433Z",
     "iopub.status.idle": "2023-10-06T09:23:26.390762Z",
     "shell.execute_reply": "2023-10-06T09:23:26.390455Z"
    },
    "papermill": {
     "duration": 0.006645,
     "end_time": "2023-10-06T09:23:26.391577",
     "exception": false,
     "start_time": "2023-10-06T09:23:26.384932",
     "status": "completed"
    },
    "tags": []
   },
   "outputs": [],
   "source": [
    "pd.DataFrame({\n",
    "  'orders': tickets.groupby('event_date').number_of_tickets.count(),\n",
    "  'tickets': tickets.groupby('event_date').number_of_tickets.sum().astype(int),\n",
    "}).resample('M').sum().to_csv(os.path.join(OUTPUT_DIR, 'tickets_by_event_date.csv'))"
   ]
  },
  {
   "cell_type": "code",
   "execution_count": 10,
   "id": "856377f0",
   "metadata": {
    "execution": {
     "iopub.execute_input": "2023-10-06T09:23:26.394365Z",
     "iopub.status.busy": "2023-10-06T09:23:26.394257Z",
     "iopub.status.idle": "2023-10-06T09:23:26.397084Z",
     "shell.execute_reply": "2023-10-06T09:23:26.396828Z"
    },
    "papermill": {
     "duration": 0.005143,
     "end_time": "2023-10-06T09:23:26.397873",
     "exception": false,
     "start_time": "2023-10-06T09:23:26.392730",
     "status": "completed"
    },
    "tags": []
   },
   "outputs": [],
   "source": [
    "pd.Series({\n",
    "    'total_events': events.event_unique_identifier.count(),\n",
    "    'total_attendances': events.attendances.count(),\n",
    "    'first_event': events.date.min(),\n",
    "    'latest_event': events.date.max(),\n",
    "    'total_ticket_orders_for_events_to_date': tickets.number_of_tickets.count(),\n",
    "    'total_tickets_sold_for_events_to_date': tickets.number_of_tickets.sum(),\n",
    "}).to_json(os.path.join(OUTPUT_DIR, 'headlines.json'), indent=2)"
   ]
  },
  {
   "cell_type": "code",
   "execution_count": null,
   "id": "fdf36598",
   "metadata": {
    "papermill": {
     "duration": 0.001096,
     "end_time": "2023-10-06T09:23:26.400152",
     "exception": false,
     "start_time": "2023-10-06T09:23:26.399056",
     "status": "completed"
    },
    "tags": []
   },
   "outputs": [],
   "source": []
  }
 ],
 "metadata": {
  "kernelspec": {
   "display_name": "leeds-2023-YZF5GfJv",
   "language": "python",
   "name": "python3"
  },
  "language_info": {
   "codemirror_mode": {
    "name": "ipython",
    "version": 3
   },
   "file_extension": ".py",
   "mimetype": "text/x-python",
   "name": "python",
   "nbconvert_exporter": "python",
   "pygments_lexer": "ipython3",
   "version": "3.10.12"
  },
  "papermill": {
   "default_parameters": {},
   "duration": 5.909307,
   "end_time": "2023-10-06T09:23:26.616995",
   "environment_variables": {},
   "exception": null,
   "input_path": "prepare.ipynb",
   "output_path": "../../../../working/output/signature-prepare.ipynb",
   "parameters": {},
   "start_time": "2023-10-06T09:23:20.707688",
   "version": "2.4.0"
  }
 },
 "nbformat": 4,
 "nbformat_minor": 5
}