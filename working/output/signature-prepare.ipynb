{
 "cells": [
  {
   "cell_type": "code",
   "execution_count": 1,
   "id": "11632e3b",
   "metadata": {
    "execution": {
     "iopub.execute_input": "2023-12-18T23:40:04.734583Z",
     "iopub.status.busy": "2023-12-18T23:40:04.734326Z",
     "iopub.status.idle": "2023-12-18T23:40:12.307371Z",
     "shell.execute_reply": "2023-12-18T23:40:12.306704Z"
    },
    "papermill": {
     "duration": 7.578323,
     "end_time": "2023-12-18T23:40:12.309021",
     "exception": false,
     "start_time": "2023-12-18T23:40:04.730698",
     "status": "completed"
    },
    "tags": []
   },
   "outputs": [],
   "source": [
    "import os\n",
    "import pandas as pd\n",
    "from events import load_event_data, get_first_ward, normalise_ward"
   ]
  },
  {
   "cell_type": "code",
   "execution_count": 2,
   "id": "071df02d",
   "metadata": {
    "execution": {
     "iopub.execute_input": "2023-12-18T23:40:12.314388Z",
     "iopub.status.busy": "2023-12-18T23:40:12.313961Z",
     "iopub.status.idle": "2023-12-18T23:40:12.317769Z",
     "shell.execute_reply": "2023-12-18T23:40:12.317196Z"
    },
    "papermill": {
     "duration": 0.007809,
     "end_time": "2023-12-18T23:40:12.319067",
     "exception": false,
     "start_time": "2023-12-18T23:40:12.311258",
     "status": "completed"
    },
    "tags": []
   },
   "outputs": [],
   "source": [
    "latest_date = pd.Timestamp.today().ceil('D')"
   ]
  },
  {
   "cell_type": "code",
   "execution_count": 3,
   "id": "03bcf5ec",
   "metadata": {
    "execution": {
     "iopub.execute_input": "2023-12-18T23:40:12.323981Z",
     "iopub.status.busy": "2023-12-18T23:40:12.323740Z",
     "iopub.status.idle": "2023-12-18T23:40:12.340632Z",
     "shell.execute_reply": "2023-12-18T23:40:12.340018Z"
    },
    "papermill": {
     "duration": 0.02122,
     "end_time": "2023-12-18T23:40:12.342227",
     "exception": false,
     "start_time": "2023-12-18T23:40:12.321007",
     "status": "completed"
    },
    "tags": []
   },
   "outputs": [],
   "source": [
    "tickets = pd.read_csv('../../../../data/metrics/events/tickets/orders.csv', parse_dates=['created_at', 'event_date'])\n",
    "tickets = tickets[tickets.event_date <= latest_date]"
   ]
  },
  {
   "cell_type": "code",
   "execution_count": 4,
   "id": "52e6a63e",
   "metadata": {
    "execution": {
     "iopub.execute_input": "2023-12-18T23:40:12.347235Z",
     "iopub.status.busy": "2023-12-18T23:40:12.346982Z",
     "iopub.status.idle": "2023-12-18T23:40:12.401068Z",
     "shell.execute_reply": "2023-12-18T23:40:12.400439Z"
    },
    "papermill": {
     "duration": 0.058519,
     "end_time": "2023-12-18T23:40:12.402765",
     "exception": false,
     "start_time": "2023-12-18T23:40:12.344246",
     "status": "completed"
    },
    "tags": []
   },
   "outputs": [],
   "source": [
    "events = load_event_data()\n",
    "\n",
    "events = pd.concat([\n",
    "  events,\n",
    "  events.pipe(get_first_ward).pipe(normalise_ward).fillna('UNKNOWN'),\n",
    "  pd.Series(\n",
    "      events.actual_audience_size_number_of_participants_in_person + events.actual_audience_size_number_of_participants_online,\n",
    "      name='attendances'\n",
    "  )\n",
    "], axis=1).rename(columns={\n",
    "    'start_date': 'date'\n",
    "}).loc[:, ['ward_code', 'date', 'event_unique_identifier', 'attendances']]"
   ]
  },
  {
   "cell_type": "code",
   "execution_count": 5,
   "id": "febb1621",
   "metadata": {
    "execution": {
     "iopub.execute_input": "2023-12-18T23:40:12.407822Z",
     "iopub.status.busy": "2023-12-18T23:40:12.407623Z",
     "iopub.status.idle": "2023-12-18T23:40:12.410904Z",
     "shell.execute_reply": "2023-12-18T23:40:12.410364Z"
    },
    "papermill": {
     "duration": 0.007202,
     "end_time": "2023-12-18T23:40:12.412128",
     "exception": false,
     "start_time": "2023-12-18T23:40:12.404926",
     "status": "completed"
    },
    "tags": []
   },
   "outputs": [],
   "source": [
    "OUTPUT_DIR='../../../../docs/metrics/events/signature/_data/'\n",
    "os.makedirs(OUTPUT_DIR, exist_ok=True)"
   ]
  },
  {
   "cell_type": "markdown",
   "id": "07924e3c",
   "metadata": {
    "papermill": {
     "duration": 0.001971,
     "end_time": "2023-12-18T23:40:12.416187",
     "exception": false,
     "start_time": "2023-12-18T23:40:12.414216",
     "status": "completed"
    },
    "tags": []
   },
   "source": [
    "Events CSVs"
   ]
  },
  {
   "cell_type": "code",
   "execution_count": 6,
   "id": "2f0cac59",
   "metadata": {
    "execution": {
     "iopub.execute_input": "2023-12-18T23:40:12.420924Z",
     "iopub.status.busy": "2023-12-18T23:40:12.420722Z",
     "iopub.status.idle": "2023-12-18T23:40:12.427080Z",
     "shell.execute_reply": "2023-12-18T23:40:12.426473Z"
    },
    "papermill": {
     "duration": 0.010354,
     "end_time": "2023-12-18T23:40:12.428457",
     "exception": false,
     "start_time": "2023-12-18T23:40:12.418103",
     "status": "completed"
    },
    "tags": []
   },
   "outputs": [],
   "source": [
    "pd.DataFrame({\n",
    "  'events': events.groupby('ward_code').event_unique_identifier.count(),\n",
    "  'attendances': events.groupby('ward_code').attendances.sum().astype(int),\n",
    "}).to_csv(os.path.join(OUTPUT_DIR, 'events_by_ward.csv'))\n"
   ]
  },
  {
   "cell_type": "code",
   "execution_count": 7,
   "id": "78b0c0ca",
   "metadata": {
    "execution": {
     "iopub.execute_input": "2023-12-18T23:40:12.433421Z",
     "iopub.status.busy": "2023-12-18T23:40:12.433050Z",
     "iopub.status.idle": "2023-12-18T23:40:12.441415Z",
     "shell.execute_reply": "2023-12-18T23:40:12.440774Z"
    },
    "papermill": {
     "duration": 0.012253,
     "end_time": "2023-12-18T23:40:12.442705",
     "exception": false,
     "start_time": "2023-12-18T23:40:12.430452",
     "status": "completed"
    },
    "tags": []
   },
   "outputs": [],
   "source": [
    "pd.DataFrame({\n",
    "  'events': events.groupby('date').event_unique_identifier.count(),\n",
    "  'attendances': events.groupby('date').attendances.sum().astype(int),\n",
    "}).resample('M').sum().astype(int).to_csv(os.path.join(OUTPUT_DIR, 'events_by_date.csv'))"
   ]
  },
  {
   "cell_type": "markdown",
   "id": "4cdc6ac3",
   "metadata": {
    "papermill": {
     "duration": 0.002739,
     "end_time": "2023-12-18T23:40:12.447537",
     "exception": false,
     "start_time": "2023-12-18T23:40:12.444798",
     "status": "completed"
    },
    "tags": []
   },
   "source": [
    "Tickets CSV"
   ]
  },
  {
   "cell_type": "code",
   "execution_count": 8,
   "id": "059bc147",
   "metadata": {
    "execution": {
     "iopub.execute_input": "2023-12-18T23:40:12.452692Z",
     "iopub.status.busy": "2023-12-18T23:40:12.452248Z",
     "iopub.status.idle": "2023-12-18T23:40:12.459177Z",
     "shell.execute_reply": "2023-12-18T23:40:12.458554Z"
    },
    "papermill": {
     "duration": 0.011211,
     "end_time": "2023-12-18T23:40:12.460704",
     "exception": false,
     "start_time": "2023-12-18T23:40:12.449493",
     "status": "completed"
    },
    "tags": []
   },
   "outputs": [],
   "source": [
    "pd.DataFrame({\n",
    "  'orders': tickets.groupby('ward_code').number_of_tickets.count(),\n",
    "  'tickets': tickets.groupby('ward_code').number_of_tickets.sum().astype(int),\n",
    "}).to_csv(os.path.join(OUTPUT_DIR, 'tickets_by_ward.csv'))"
   ]
  },
  {
   "cell_type": "code",
   "execution_count": 9,
   "id": "68da1c54",
   "metadata": {
    "execution": {
     "iopub.execute_input": "2023-12-18T23:40:12.465836Z",
     "iopub.status.busy": "2023-12-18T23:40:12.465474Z",
     "iopub.status.idle": "2023-12-18T23:40:12.473003Z",
     "shell.execute_reply": "2023-12-18T23:40:12.472345Z"
    },
    "papermill": {
     "duration": 0.011624,
     "end_time": "2023-12-18T23:40:12.474364",
     "exception": false,
     "start_time": "2023-12-18T23:40:12.462740",
     "status": "completed"
    },
    "tags": []
   },
   "outputs": [],
   "source": [
    "pd.DataFrame({\n",
    "  'orders': tickets.groupby('event_date').number_of_tickets.count(),\n",
    "  'tickets': tickets.groupby('event_date').number_of_tickets.sum().astype(int),\n",
    "}).resample('M').sum().to_csv(os.path.join(OUTPUT_DIR, 'tickets_by_event_date.csv'))"
   ]
  },
  {
   "cell_type": "code",
   "execution_count": 10,
   "id": "64bbedf6",
   "metadata": {
    "execution": {
     "iopub.execute_input": "2023-12-18T23:40:12.479617Z",
     "iopub.status.busy": "2023-12-18T23:40:12.479216Z",
     "iopub.status.idle": "2023-12-18T23:40:12.483959Z",
     "shell.execute_reply": "2023-12-18T23:40:12.483421Z"
    },
    "papermill": {
     "duration": 0.008838,
     "end_time": "2023-12-18T23:40:12.485248",
     "exception": false,
     "start_time": "2023-12-18T23:40:12.476410",
     "status": "completed"
    },
    "tags": []
   },
   "outputs": [],
   "source": [
    "pd.Series({\n",
    "    'total_events': events.event_unique_identifier.count(),\n",
    "    'total_attendances': events.attendances.count(),\n",
    "    'first_event': events.date.min(),\n",
    "    'latest_event': events.date.max(),\n",
    "    'total_ticket_orders_for_events_to_date': tickets.number_of_tickets.count(),\n",
    "    'total_tickets_sold_for_events_to_date': tickets.number_of_tickets.sum(),\n",
    "}).to_json(os.path.join(OUTPUT_DIR, 'headlines.json'), indent=2)"
   ]
  },
  {
   "cell_type": "code",
   "execution_count": null,
   "id": "b47fed64",
   "metadata": {
    "papermill": {
     "duration": 0.002027,
     "end_time": "2023-12-18T23:40:12.489364",
     "exception": false,
     "start_time": "2023-12-18T23:40:12.487337",
     "status": "completed"
    },
    "tags": []
   },
   "outputs": [],
   "source": []
  }
 ],
 "metadata": {
  "kernelspec": {
   "display_name": "leeds-2023-YZF5GfJv",
   "language": "python",
   "name": "python3"
  },
  "language_info": {
   "codemirror_mode": {
    "name": "ipython",
    "version": 3
   },
   "file_extension": ".py",
   "mimetype": "text/x-python",
   "name": "python",
   "nbconvert_exporter": "python",
   "pygments_lexer": "ipython3",
   "version": "3.10.13"
  },
  "papermill": {
   "default_parameters": {},
   "duration": 9.328163,
   "end_time": "2023-12-18T23:40:12.808288",
   "environment_variables": {},
   "exception": null,
   "input_path": "prepare.ipynb",
   "output_path": "../../../../working/output/signature-prepare.ipynb",
   "parameters": {},
   "start_time": "2023-12-18T23:40:03.480125",
   "version": "2.4.0"
  }
 },
 "nbformat": 4,
 "nbformat_minor": 5
}