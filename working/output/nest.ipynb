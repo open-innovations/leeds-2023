{
 "cells": [
  {
   "cell_type": "markdown",
   "id": "0d6e5025",
   "metadata": {
    "papermill": {
     "duration": 0.002991,
     "end_time": "2023-10-11T23:39:34.139476",
     "exception": false,
     "start_time": "2023-10-11T23:39:34.136485",
     "status": "completed"
    },
    "tags": []
   },
   "source": [
    "# Nest\n",
    "\n",
    "Prepares data for the Nest page "
   ]
  },
  {
   "cell_type": "code",
   "execution_count": 1,
   "id": "ebe9284e",
   "metadata": {
    "execution": {
     "iopub.execute_input": "2023-10-11T23:39:34.147593Z",
     "iopub.status.busy": "2023-10-11T23:39:34.146258Z",
     "iopub.status.idle": "2023-10-11T23:39:48.214827Z",
     "shell.execute_reply": "2023-10-11T23:39:48.213743Z"
    },
    "papermill": {
     "duration": 14.075529,
     "end_time": "2023-10-11T23:39:48.217453",
     "exception": false,
     "start_time": "2023-10-11T23:39:34.141924",
     "status": "completed"
    },
    "tags": []
   },
   "outputs": [],
   "source": [
    "import os\n",
    "from events import (\n",
    "    load_event_data, filter_by_project, prepare, save_files, count_wards\n",
    ")"
   ]
  },
  {
   "cell_type": "markdown",
   "id": "75da6873",
   "metadata": {
    "papermill": {
     "duration": 0.003826,
     "end_time": "2023-10-11T23:39:48.223743",
     "exception": false,
     "start_time": "2023-10-11T23:39:48.219917",
     "status": "completed"
    },
    "tags": []
   },
   "source": [
    "Set output directory"
   ]
  },
  {
   "cell_type": "code",
   "execution_count": 2,
   "id": "0626712f",
   "metadata": {
    "execution": {
     "iopub.execute_input": "2023-10-11T23:39:48.230423Z",
     "iopub.status.busy": "2023-10-11T23:39:48.229712Z",
     "iopub.status.idle": "2023-10-11T23:39:48.235655Z",
     "shell.execute_reply": "2023-10-11T23:39:48.234704Z"
    },
    "papermill": {
     "duration": 0.011717,
     "end_time": "2023-10-11T23:39:48.237743",
     "exception": false,
     "start_time": "2023-10-11T23:39:48.226026",
     "status": "completed"
    },
    "tags": []
   },
   "outputs": [],
   "source": [
    "OUT_DIR = '../../../../docs/metrics/events/nest/_data/events'"
   ]
  },
  {
   "cell_type": "markdown",
   "id": "5be0d4f0",
   "metadata": {
    "papermill": {
     "duration": 0.001918,
     "end_time": "2023-10-11T23:39:48.241607",
     "exception": false,
     "start_time": "2023-10-11T23:39:48.239689",
     "status": "completed"
    },
    "tags": []
   },
   "source": [
    "Read in event data and filter by **My LEEDS 2023** project.\n",
    "\n",
    "The criteria are:\n",
    "\n",
    "* project type is 'Produce (Signature)'\n",
    "* event_type contains 'Public Event -'\n",
    "\n",
    "It's then filtered by project_name is '10 - Melt'"
   ]
  },
  {
   "cell_type": "code",
   "execution_count": 3,
   "id": "087113e8",
   "metadata": {
    "execution": {
     "iopub.execute_input": "2023-10-11T23:39:48.247124Z",
     "iopub.status.busy": "2023-10-11T23:39:48.246597Z",
     "iopub.status.idle": "2023-10-11T23:39:48.284845Z",
     "shell.execute_reply": "2023-10-11T23:39:48.283851Z"
    },
    "papermill": {
     "duration": 0.043237,
     "end_time": "2023-10-11T23:39:48.286844",
     "exception": false,
     "start_time": "2023-10-11T23:39:48.243607",
     "status": "completed"
    },
    "tags": []
   },
   "outputs": [
    {
     "data": {
      "text/html": [
       "<div>\n",
       "<style scoped>\n",
       "    .dataframe tbody tr th:only-of-type {\n",
       "        vertical-align: middle;\n",
       "    }\n",
       "\n",
       "    .dataframe tbody tr th {\n",
       "        vertical-align: top;\n",
       "    }\n",
       "\n",
       "    .dataframe thead th {\n",
       "        text-align: right;\n",
       "    }\n",
       "</style>\n",
       "<table border=\"1\" class=\"dataframe\">\n",
       "  <thead>\n",
       "    <tr style=\"text-align: right;\">\n",
       "      <th></th>\n",
       "      <th>actual_audience_size_number_of_participants_in_person</th>\n",
       "      <th>actual_audience_size_number_of_participants_online</th>\n",
       "      <th>airtable_id</th>\n",
       "      <th>end_date</th>\n",
       "      <th>event_name</th>\n",
       "      <th>event_type</th>\n",
       "      <th>event_unique_identifier</th>\n",
       "      <th>number_of_booked_participants</th>\n",
       "      <th>postcode_(from_venue)</th>\n",
       "      <th>project_name</th>\n",
       "      <th>project_type</th>\n",
       "      <th>season</th>\n",
       "      <th>start_date</th>\n",
       "      <th>ward_(from_venue)</th>\n",
       "    </tr>\n",
       "  </thead>\n",
       "  <tbody>\n",
       "    <tr>\n",
       "      <th>1054</th>\n",
       "      <td>1338.0</td>\n",
       "      <td>NaN</td>\n",
       "      <td>241</td>\n",
       "      <td>2023-09-09</td>\n",
       "      <td>Melt (Run)</td>\n",
       "      <td>['Public Event - Performance']</td>\n",
       "      <td>10 - Melt: Melt (Run)</td>\n",
       "      <td>1542.0</td>\n",
       "      <td>['LS26 8AL']</td>\n",
       "      <td>10 - Melt</td>\n",
       "      <td>Produce (Signature)</td>\n",
       "      <td>['Season 3 - Dreaming']</td>\n",
       "      <td>2023-09-05</td>\n",
       "      <td>['Garforth and Swillington']</td>\n",
       "    </tr>\n",
       "  </tbody>\n",
       "</table>\n",
       "</div>"
      ],
      "text/plain": [
       "      actual_audience_size_number_of_participants_in_person  \\\n",
       "1054                                             1338.0       \n",
       "\n",
       "      actual_audience_size_number_of_participants_online  airtable_id  \\\n",
       "1054                                                NaN           241   \n",
       "\n",
       "        end_date  event_name                      event_type  \\\n",
       "1054  2023-09-09  Melt (Run)  ['Public Event - Performance']   \n",
       "\n",
       "     event_unique_identifier  number_of_booked_participants  \\\n",
       "1054   10 - Melt: Melt (Run)                         1542.0   \n",
       "\n",
       "     postcode_(from_venue) project_name         project_type  \\\n",
       "1054          ['LS26 8AL']    10 - Melt  Produce (Signature)   \n",
       "\n",
       "                       season start_date             ward_(from_venue)  \n",
       "1054  ['Season 3 - Dreaming'] 2023-09-05  ['Garforth and Swillington']  "
      ]
     },
     "execution_count": 3,
     "metadata": {},
     "output_type": "execute_result"
    }
   ],
   "source": [
    "data = load_event_data().pipe(filter_by_project, '10 - Melt')\n",
    "data"
   ]
  },
  {
   "cell_type": "markdown",
   "id": "b3926fee",
   "metadata": {
    "papermill": {
     "duration": 0.002341,
     "end_time": "2023-10-11T23:39:48.291773",
     "exception": false,
     "start_time": "2023-10-11T23:39:48.289432",
     "status": "completed"
    },
    "tags": []
   },
   "source": [
    "Run the processing and save the files"
   ]
  },
  {
   "cell_type": "code",
   "execution_count": 4,
   "id": "3c8798f5",
   "metadata": {
    "execution": {
     "iopub.execute_input": "2023-10-11T23:39:48.298111Z",
     "iopub.status.busy": "2023-10-11T23:39:48.297598Z",
     "iopub.status.idle": "2023-10-11T23:39:48.337774Z",
     "shell.execute_reply": "2023-10-11T23:39:48.336751Z"
    },
    "papermill": {
     "duration": 0.046392,
     "end_time": "2023-10-11T23:39:48.340503",
     "exception": false,
     "start_time": "2023-10-11T23:39:48.294111",
     "status": "completed"
    },
    "tags": []
   },
   "outputs": [],
   "source": [
    "data = data.pipe(prepare).pipe(save_files, OUT_DIR)"
   ]
  }
 ],
 "metadata": {
  "kernelspec": {
   "display_name": "leeds-2023-YZF5GfJv",
   "language": "python",
   "name": "python3"
  },
  "language_info": {
   "codemirror_mode": {
    "name": "ipython",
    "version": 3
   },
   "file_extension": ".py",
   "mimetype": "text/x-python",
   "name": "python",
   "nbconvert_exporter": "python",
   "pygments_lexer": "ipython3",
   "version": "3.10.13"
  },
  "papermill": {
   "default_parameters": {},
   "duration": 16.31515,
   "end_time": "2023-10-11T23:39:48.865753",
   "environment_variables": {},
   "exception": null,
   "input_path": "nest.ipynb",
   "output_path": "../../../../working/output/nest.ipynb",
   "parameters": {},
   "start_time": "2023-10-11T23:39:32.550603",
   "version": "2.4.0"
  }
 },
 "nbformat": 4,
 "nbformat_minor": 5
}