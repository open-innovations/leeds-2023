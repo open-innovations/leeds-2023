{
 "cells": [
  {
   "cell_type": "code",
   "execution_count": 1,
   "id": "1a6db94d",
   "metadata": {
    "execution": {
     "iopub.execute_input": "2023-10-06T11:05:42.247488Z",
     "iopub.status.busy": "2023-10-06T11:05:42.247034Z",
     "iopub.status.idle": "2023-10-06T11:05:52.333057Z",
     "shell.execute_reply": "2023-10-06T11:05:52.332383Z"
    },
    "papermill": {
     "duration": 10.092392,
     "end_time": "2023-10-06T11:05:52.335258",
     "exception": false,
     "start_time": "2023-10-06T11:05:42.242866",
     "status": "completed"
    },
    "tags": []
   },
   "outputs": [],
   "source": [
    "import os\n",
    "import pandas as pd\n",
    "from events import load_event_data, get_first_ward, normalise_ward"
   ]
  },
  {
   "cell_type": "code",
   "execution_count": 2,
   "id": "7c5cd332",
   "metadata": {
    "execution": {
     "iopub.execute_input": "2023-10-06T11:05:52.341529Z",
     "iopub.status.busy": "2023-10-06T11:05:52.340981Z",
     "iopub.status.idle": "2023-10-06T11:05:52.344806Z",
     "shell.execute_reply": "2023-10-06T11:05:52.344176Z"
    },
    "papermill": {
     "duration": 0.00841,
     "end_time": "2023-10-06T11:05:52.346281",
     "exception": false,
     "start_time": "2023-10-06T11:05:52.337871",
     "status": "completed"
    },
    "tags": []
   },
   "outputs": [],
   "source": [
    "latest_date = pd.Timestamp.today().ceil('D')"
   ]
  },
  {
   "cell_type": "code",
   "execution_count": 3,
   "id": "d5a6c0e8",
   "metadata": {
    "execution": {
     "iopub.execute_input": "2023-10-06T11:05:52.351925Z",
     "iopub.status.busy": "2023-10-06T11:05:52.351506Z",
     "iopub.status.idle": "2023-10-06T11:05:52.369421Z",
     "shell.execute_reply": "2023-10-06T11:05:52.368832Z"
    },
    "papermill": {
     "duration": 0.022496,
     "end_time": "2023-10-06T11:05:52.371007",
     "exception": false,
     "start_time": "2023-10-06T11:05:52.348511",
     "status": "completed"
    },
    "tags": []
   },
   "outputs": [],
   "source": [
    "tickets = pd.read_csv('../../../../data/metrics/events/tickets/orders.csv', parse_dates=['created_at', 'event_date'])\n",
    "tickets = tickets[tickets.event_date <= latest_date]"
   ]
  },
  {
   "cell_type": "code",
   "execution_count": 4,
   "id": "35ac0dc4",
   "metadata": {
    "execution": {
     "iopub.execute_input": "2023-10-06T11:05:52.377093Z",
     "iopub.status.busy": "2023-10-06T11:05:52.376675Z",
     "iopub.status.idle": "2023-10-06T11:05:52.611401Z",
     "shell.execute_reply": "2023-10-06T11:05:52.610750Z"
    },
    "papermill": {
     "duration": 0.239552,
     "end_time": "2023-10-06T11:05:52.613246",
     "exception": false,
     "start_time": "2023-10-06T11:05:52.373694",
     "status": "completed"
    },
    "tags": []
   },
   "outputs": [],
   "source": [
    "events = load_event_data()\n",
    "\n",
    "events = pd.concat([\n",
    "  events,\n",
    "  events.pipe(get_first_ward).pipe(normalise_ward).fillna('UNKNOWN'),\n",
    "  pd.Series(\n",
    "      events.actual_audience_size_number_of_participants_in_person + events.actual_audience_size_number_of_participants_online,\n",
    "      name='attendances'\n",
    "  )\n",
    "], axis=1).rename(columns={\n",
    "    'start_date': 'date'\n",
    "}).loc[:, ['ward_code', 'date', 'event_unique_identifier', 'attendances']]"
   ]
  },
  {
   "cell_type": "code",
   "execution_count": 5,
   "id": "6a664900",
   "metadata": {
    "execution": {
     "iopub.execute_input": "2023-10-06T11:05:52.619645Z",
     "iopub.status.busy": "2023-10-06T11:05:52.619171Z",
     "iopub.status.idle": "2023-10-06T11:05:52.623603Z",
     "shell.execute_reply": "2023-10-06T11:05:52.623013Z"
    },
    "papermill": {
     "duration": 0.009148,
     "end_time": "2023-10-06T11:05:52.625050",
     "exception": false,
     "start_time": "2023-10-06T11:05:52.615902",
     "status": "completed"
    },
    "tags": []
   },
   "outputs": [],
   "source": [
    "OUTPUT_DIR='../../../../docs/metrics/events/signature/_data/'\n",
    "os.makedirs(OUTPUT_DIR, exist_ok=True)"
   ]
  },
  {
   "cell_type": "markdown",
   "id": "af1dc5c6",
   "metadata": {
    "papermill": {
     "duration": 0.002357,
     "end_time": "2023-10-06T11:05:52.629776",
     "exception": false,
     "start_time": "2023-10-06T11:05:52.627419",
     "status": "completed"
    },
    "tags": []
   },
   "source": [
    "Events CSVs"
   ]
  },
  {
   "cell_type": "code",
   "execution_count": 6,
   "id": "f9583cce",
   "metadata": {
    "execution": {
     "iopub.execute_input": "2023-10-06T11:05:52.635321Z",
     "iopub.status.busy": "2023-10-06T11:05:52.635101Z",
     "iopub.status.idle": "2023-10-06T11:05:52.642121Z",
     "shell.execute_reply": "2023-10-06T11:05:52.641513Z"
    },
    "papermill": {
     "duration": 0.011648,
     "end_time": "2023-10-06T11:05:52.643750",
     "exception": false,
     "start_time": "2023-10-06T11:05:52.632102",
     "status": "completed"
    },
    "tags": []
   },
   "outputs": [],
   "source": [
    "pd.DataFrame({\n",
    "  'events': events.groupby('ward_code').event_unique_identifier.count(),\n",
    "  'attendances': events.groupby('ward_code').attendances.sum().astype(int),\n",
    "}).to_csv(os.path.join(OUTPUT_DIR, 'events_by_ward.csv'))\n"
   ]
  },
  {
   "cell_type": "code",
   "execution_count": 7,
   "id": "de0dff89",
   "metadata": {
    "execution": {
     "iopub.execute_input": "2023-10-06T11:05:52.649593Z",
     "iopub.status.busy": "2023-10-06T11:05:52.649182Z",
     "iopub.status.idle": "2023-10-06T11:05:52.659894Z",
     "shell.execute_reply": "2023-10-06T11:05:52.659314Z"
    },
    "papermill": {
     "duration": 0.015346,
     "end_time": "2023-10-06T11:05:52.661473",
     "exception": false,
     "start_time": "2023-10-06T11:05:52.646127",
     "status": "completed"
    },
    "tags": []
   },
   "outputs": [],
   "source": [
    "pd.DataFrame({\n",
    "  'events': events.groupby('date').event_unique_identifier.count(),\n",
    "  'attendances': events.groupby('date').attendances.sum().astype(int),\n",
    "}).resample('M').sum().astype(int).to_csv(os.path.join(OUTPUT_DIR, 'events_by_date.csv'))"
   ]
  },
  {
   "cell_type": "markdown",
   "id": "32850f97",
   "metadata": {
    "papermill": {
     "duration": 0.002416,
     "end_time": "2023-10-06T11:05:52.666336",
     "exception": false,
     "start_time": "2023-10-06T11:05:52.663920",
     "status": "completed"
    },
    "tags": []
   },
   "source": [
    "Tickets CSV"
   ]
  },
  {
   "cell_type": "code",
   "execution_count": 8,
   "id": "fa7b9756",
   "metadata": {
    "execution": {
     "iopub.execute_input": "2023-10-06T11:05:52.672045Z",
     "iopub.status.busy": "2023-10-06T11:05:52.671836Z",
     "iopub.status.idle": "2023-10-06T11:05:52.678703Z",
     "shell.execute_reply": "2023-10-06T11:05:52.678106Z"
    },
    "papermill": {
     "duration": 0.011363,
     "end_time": "2023-10-06T11:05:52.680117",
     "exception": false,
     "start_time": "2023-10-06T11:05:52.668754",
     "status": "completed"
    },
    "tags": []
   },
   "outputs": [],
   "source": [
    "pd.DataFrame({\n",
    "  'orders': tickets.groupby('ward_code').number_of_tickets.count(),\n",
    "  'tickets': tickets.groupby('ward_code').number_of_tickets.sum().astype(int),\n",
    "}).to_csv(os.path.join(OUTPUT_DIR, 'tickets_by_ward.csv'))"
   ]
  },
  {
   "cell_type": "code",
   "execution_count": 9,
   "id": "e02e34df",
   "metadata": {
    "execution": {
     "iopub.execute_input": "2023-10-06T11:05:52.686214Z",
     "iopub.status.busy": "2023-10-06T11:05:52.685685Z",
     "iopub.status.idle": "2023-10-06T11:05:52.693368Z",
     "shell.execute_reply": "2023-10-06T11:05:52.692788Z"
    },
    "papermill": {
     "duration": 0.012317,
     "end_time": "2023-10-06T11:05:52.694904",
     "exception": false,
     "start_time": "2023-10-06T11:05:52.682587",
     "status": "completed"
    },
    "tags": []
   },
   "outputs": [],
   "source": [
    "pd.DataFrame({\n",
    "  'orders': tickets.groupby('event_date').number_of_tickets.count(),\n",
    "  'tickets': tickets.groupby('event_date').number_of_tickets.sum().astype(int),\n",
    "}).resample('M').sum().to_csv(os.path.join(OUTPUT_DIR, 'tickets_by_event_date.csv'))"
   ]
  },
  {
   "cell_type": "code",
   "execution_count": 10,
   "id": "4501b676",
   "metadata": {
    "execution": {
     "iopub.execute_input": "2023-10-06T11:05:52.701868Z",
     "iopub.status.busy": "2023-10-06T11:05:52.701444Z",
     "iopub.status.idle": "2023-10-06T11:05:52.707419Z",
     "shell.execute_reply": "2023-10-06T11:05:52.706849Z"
    },
    "papermill": {
     "duration": 0.011484,
     "end_time": "2023-10-06T11:05:52.708868",
     "exception": false,
     "start_time": "2023-10-06T11:05:52.697384",
     "status": "completed"
    },
    "tags": []
   },
   "outputs": [],
   "source": [
    "pd.Series({\n",
    "    'total_events': events.event_unique_identifier.count(),\n",
    "    'total_attendances': events.attendances.count(),\n",
    "    'first_event': events.date.min(),\n",
    "    'latest_event': events.date.max(),\n",
    "    'total_ticket_orders_for_events_to_date': tickets.number_of_tickets.count(),\n",
    "    'total_tickets_sold_for_events_to_date': tickets.number_of_tickets.sum(),\n",
    "}).to_json(os.path.join(OUTPUT_DIR, 'headlines.json'), indent=2)"
   ]
  },
  {
   "cell_type": "code",
   "execution_count": null,
   "id": "cd6b6c10",
   "metadata": {
    "papermill": {
     "duration": 0.002435,
     "end_time": "2023-10-06T11:05:52.713819",
     "exception": false,
     "start_time": "2023-10-06T11:05:52.711384",
     "status": "completed"
    },
    "tags": []
   },
   "outputs": [],
   "source": []
  }
 ],
 "metadata": {
  "kernelspec": {
   "display_name": "leeds-2023-YZF5GfJv",
   "language": "python",
   "name": "python3"
  },
  "language_info": {
   "codemirror_mode": {
    "name": "ipython",
    "version": 3
   },
   "file_extension": ".py",
   "mimetype": "text/x-python",
   "name": "python",
   "nbconvert_exporter": "python",
   "pygments_lexer": "ipython3",
   "version": "3.10.13"
  },
  "papermill": {
   "default_parameters": {},
   "duration": 12.147063,
   "end_time": "2023-10-06T11:05:53.035319",
   "environment_variables": {},
   "exception": null,
   "input_path": "prepare.ipynb",
   "output_path": "../../../../working/output/signature-prepare.ipynb",
   "parameters": {},
   "start_time": "2023-10-06T11:05:40.888256",
   "version": "2.4.0"
  }
 },
 "nbformat": 4,
 "nbformat_minor": 5
}