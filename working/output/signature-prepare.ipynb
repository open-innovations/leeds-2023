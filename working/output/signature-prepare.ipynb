{
 "cells": [
  {
   "cell_type": "code",
   "execution_count": 1,
   "id": "8f1c0380",
   "metadata": {
    "execution": {
     "iopub.execute_input": "2023-10-23T23:40:50.039184Z",
     "iopub.status.busy": "2023-10-23T23:40:50.038516Z",
     "iopub.status.idle": "2023-10-23T23:41:02.007755Z",
     "shell.execute_reply": "2023-10-23T23:41:02.006831Z"
    },
    "papermill": {
     "duration": 11.976832,
     "end_time": "2023-10-23T23:41:02.010449",
     "exception": false,
     "start_time": "2023-10-23T23:40:50.033617",
     "status": "completed"
    },
    "tags": []
   },
   "outputs": [],
   "source": [
    "import os\n",
    "import pandas as pd\n",
    "from events import load_event_data, get_first_ward, normalise_ward"
   ]
  },
  {
   "cell_type": "code",
   "execution_count": 2,
   "id": "9a6b0b0a",
   "metadata": {
    "execution": {
     "iopub.execute_input": "2023-10-23T23:41:02.017633Z",
     "iopub.status.busy": "2023-10-23T23:41:02.017387Z",
     "iopub.status.idle": "2023-10-23T23:41:02.021966Z",
     "shell.execute_reply": "2023-10-23T23:41:02.021213Z"
    },
    "papermill": {
     "duration": 0.010215,
     "end_time": "2023-10-23T23:41:02.023885",
     "exception": false,
     "start_time": "2023-10-23T23:41:02.013670",
     "status": "completed"
    },
    "tags": []
   },
   "outputs": [],
   "source": [
    "latest_date = pd.Timestamp.today().ceil('D')"
   ]
  },
  {
   "cell_type": "code",
   "execution_count": 3,
   "id": "aad24b44",
   "metadata": {
    "execution": {
     "iopub.execute_input": "2023-10-23T23:41:02.030623Z",
     "iopub.status.busy": "2023-10-23T23:41:02.030068Z",
     "iopub.status.idle": "2023-10-23T23:41:02.053134Z",
     "shell.execute_reply": "2023-10-23T23:41:02.052055Z"
    },
    "papermill": {
     "duration": 0.029143,
     "end_time": "2023-10-23T23:41:02.055692",
     "exception": false,
     "start_time": "2023-10-23T23:41:02.026549",
     "status": "completed"
    },
    "tags": []
   },
   "outputs": [],
   "source": [
    "tickets = pd.read_csv('../../../../data/metrics/events/tickets/orders.csv', parse_dates=['created_at', 'event_date'])\n",
    "tickets = tickets[tickets.event_date <= latest_date]"
   ]
  },
  {
   "cell_type": "code",
   "execution_count": 4,
   "id": "02d6e3d5",
   "metadata": {
    "execution": {
     "iopub.execute_input": "2023-10-23T23:41:02.062883Z",
     "iopub.status.busy": "2023-10-23T23:41:02.062340Z",
     "iopub.status.idle": "2023-10-23T23:41:02.117213Z",
     "shell.execute_reply": "2023-10-23T23:41:02.116403Z"
    },
    "papermill": {
     "duration": 0.060599,
     "end_time": "2023-10-23T23:41:02.119129",
     "exception": false,
     "start_time": "2023-10-23T23:41:02.058530",
     "status": "completed"
    },
    "tags": []
   },
   "outputs": [],
   "source": [
    "events = load_event_data()\n",
    "\n",
    "events = pd.concat([\n",
    "  events,\n",
    "  events.pipe(get_first_ward).pipe(normalise_ward).fillna('UNKNOWN'),\n",
    "  pd.Series(\n",
    "      events.actual_audience_size_number_of_participants_in_person + events.actual_audience_size_number_of_participants_online,\n",
    "      name='attendances'\n",
    "  )\n",
    "], axis=1).rename(columns={\n",
    "    'start_date': 'date'\n",
    "}).loc[:, ['ward_code', 'date', 'event_unique_identifier', 'attendances']]"
   ]
  },
  {
   "cell_type": "code",
   "execution_count": 5,
   "id": "9f0cb0c0",
   "metadata": {
    "execution": {
     "iopub.execute_input": "2023-10-23T23:41:02.127022Z",
     "iopub.status.busy": "2023-10-23T23:41:02.126764Z",
     "iopub.status.idle": "2023-10-23T23:41:02.130942Z",
     "shell.execute_reply": "2023-10-23T23:41:02.130079Z"
    },
    "papermill": {
     "duration": 0.010675,
     "end_time": "2023-10-23T23:41:02.133529",
     "exception": false,
     "start_time": "2023-10-23T23:41:02.122854",
     "status": "completed"
    },
    "tags": []
   },
   "outputs": [],
   "source": [
    "OUTPUT_DIR='../../../../docs/metrics/events/signature/_data/'\n",
    "os.makedirs(OUTPUT_DIR, exist_ok=True)"
   ]
  },
  {
   "cell_type": "markdown",
   "id": "c77d901f",
   "metadata": {
    "papermill": {
     "duration": 0.002809,
     "end_time": "2023-10-23T23:41:02.138907",
     "exception": false,
     "start_time": "2023-10-23T23:41:02.136098",
     "status": "completed"
    },
    "tags": []
   },
   "source": [
    "Events CSVs"
   ]
  },
  {
   "cell_type": "code",
   "execution_count": 6,
   "id": "a6007bec",
   "metadata": {
    "execution": {
     "iopub.execute_input": "2023-10-23T23:41:02.146071Z",
     "iopub.status.busy": "2023-10-23T23:41:02.145797Z",
     "iopub.status.idle": "2023-10-23T23:41:02.154197Z",
     "shell.execute_reply": "2023-10-23T23:41:02.153416Z"
    },
    "papermill": {
     "duration": 0.014537,
     "end_time": "2023-10-23T23:41:02.155953",
     "exception": false,
     "start_time": "2023-10-23T23:41:02.141416",
     "status": "completed"
    },
    "tags": []
   },
   "outputs": [],
   "source": [
    "pd.DataFrame({\n",
    "  'events': events.groupby('ward_code').event_unique_identifier.count(),\n",
    "  'attendances': events.groupby('ward_code').attendances.sum().astype(int),\n",
    "}).to_csv(os.path.join(OUTPUT_DIR, 'events_by_ward.csv'))\n"
   ]
  },
  {
   "cell_type": "code",
   "execution_count": 7,
   "id": "1f418770",
   "metadata": {
    "execution": {
     "iopub.execute_input": "2023-10-23T23:41:02.162040Z",
     "iopub.status.busy": "2023-10-23T23:41:02.161785Z",
     "iopub.status.idle": "2023-10-23T23:41:02.173759Z",
     "shell.execute_reply": "2023-10-23T23:41:02.172726Z"
    },
    "papermill": {
     "duration": 0.017696,
     "end_time": "2023-10-23T23:41:02.176139",
     "exception": false,
     "start_time": "2023-10-23T23:41:02.158443",
     "status": "completed"
    },
    "tags": []
   },
   "outputs": [],
   "source": [
    "pd.DataFrame({\n",
    "  'events': events.groupby('date').event_unique_identifier.count(),\n",
    "  'attendances': events.groupby('date').attendances.sum().astype(int),\n",
    "}).resample('M').sum().astype(int).to_csv(os.path.join(OUTPUT_DIR, 'events_by_date.csv'))"
   ]
  },
  {
   "cell_type": "markdown",
   "id": "d2d086fe",
   "metadata": {
    "papermill": {
     "duration": 0.003352,
     "end_time": "2023-10-23T23:41:02.185212",
     "exception": false,
     "start_time": "2023-10-23T23:41:02.181860",
     "status": "completed"
    },
    "tags": []
   },
   "source": [
    "Tickets CSV"
   ]
  },
  {
   "cell_type": "code",
   "execution_count": 8,
   "id": "2450dfc0",
   "metadata": {
    "execution": {
     "iopub.execute_input": "2023-10-23T23:41:02.191592Z",
     "iopub.status.busy": "2023-10-23T23:41:02.191121Z",
     "iopub.status.idle": "2023-10-23T23:41:02.199113Z",
     "shell.execute_reply": "2023-10-23T23:41:02.198244Z"
    },
    "papermill": {
     "duration": 0.013098,
     "end_time": "2023-10-23T23:41:02.200878",
     "exception": false,
     "start_time": "2023-10-23T23:41:02.187780",
     "status": "completed"
    },
    "tags": []
   },
   "outputs": [],
   "source": [
    "pd.DataFrame({\n",
    "  'orders': tickets.groupby('ward_code').number_of_tickets.count(),\n",
    "  'tickets': tickets.groupby('ward_code').number_of_tickets.sum().astype(int),\n",
    "}).to_csv(os.path.join(OUTPUT_DIR, 'tickets_by_ward.csv'))"
   ]
  },
  {
   "cell_type": "code",
   "execution_count": 9,
   "id": "6e948e90",
   "metadata": {
    "execution": {
     "iopub.execute_input": "2023-10-23T23:41:02.207568Z",
     "iopub.status.busy": "2023-10-23T23:41:02.207329Z",
     "iopub.status.idle": "2023-10-23T23:41:02.216857Z",
     "shell.execute_reply": "2023-10-23T23:41:02.215739Z"
    },
    "papermill": {
     "duration": 0.015324,
     "end_time": "2023-10-23T23:41:02.218992",
     "exception": false,
     "start_time": "2023-10-23T23:41:02.203668",
     "status": "completed"
    },
    "tags": []
   },
   "outputs": [],
   "source": [
    "pd.DataFrame({\n",
    "  'orders': tickets.groupby('event_date').number_of_tickets.count(),\n",
    "  'tickets': tickets.groupby('event_date').number_of_tickets.sum().astype(int),\n",
    "}).resample('M').sum().to_csv(os.path.join(OUTPUT_DIR, 'tickets_by_event_date.csv'))"
   ]
  },
  {
   "cell_type": "code",
   "execution_count": 10,
   "id": "1387634f",
   "metadata": {
    "execution": {
     "iopub.execute_input": "2023-10-23T23:41:02.226197Z",
     "iopub.status.busy": "2023-10-23T23:41:02.225737Z",
     "iopub.status.idle": "2023-10-23T23:41:02.232035Z",
     "shell.execute_reply": "2023-10-23T23:41:02.231056Z"
    },
    "papermill": {
     "duration": 0.012464,
     "end_time": "2023-10-23T23:41:02.234432",
     "exception": false,
     "start_time": "2023-10-23T23:41:02.221968",
     "status": "completed"
    },
    "tags": []
   },
   "outputs": [],
   "source": [
    "pd.Series({\n",
    "    'total_events': events.event_unique_identifier.count(),\n",
    "    'total_attendances': events.attendances.count(),\n",
    "    'first_event': events.date.min(),\n",
    "    'latest_event': events.date.max(),\n",
    "    'total_ticket_orders_for_events_to_date': tickets.number_of_tickets.count(),\n",
    "    'total_tickets_sold_for_events_to_date': tickets.number_of_tickets.sum(),\n",
    "}).to_json(os.path.join(OUTPUT_DIR, 'headlines.json'), indent=2)"
   ]
  },
  {
   "cell_type": "code",
   "execution_count": null,
   "id": "9a0cfc55",
   "metadata": {
    "papermill": {
     "duration": 0.003131,
     "end_time": "2023-10-23T23:41:02.241082",
     "exception": false,
     "start_time": "2023-10-23T23:41:02.237951",
     "status": "completed"
    },
    "tags": []
   },
   "outputs": [],
   "source": []
  }
 ],
 "metadata": {
  "kernelspec": {
   "display_name": "leeds-2023-YZF5GfJv",
   "language": "python",
   "name": "python3"
  },
  "language_info": {
   "codemirror_mode": {
    "name": "ipython",
    "version": 3
   },
   "file_extension": ".py",
   "mimetype": "text/x-python",
   "name": "python",
   "nbconvert_exporter": "python",
   "pygments_lexer": "ipython3",
   "version": "3.10.13"
  },
  "papermill": {
   "default_parameters": {},
   "duration": 14.112499,
   "end_time": "2023-10-23T23:41:02.563737",
   "environment_variables": {},
   "exception": null,
   "input_path": "prepare.ipynb",
   "output_path": "../../../../working/output/signature-prepare.ipynb",
   "parameters": {},
   "start_time": "2023-10-23T23:40:48.451238",
   "version": "2.4.0"
  }
 },
 "nbformat": 4,
 "nbformat_minor": 5
}