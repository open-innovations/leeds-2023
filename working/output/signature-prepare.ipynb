{
 "cells": [
  {
   "cell_type": "code",
   "execution_count": 1,
   "id": "acb32b3c",
   "metadata": {
    "execution": {
     "iopub.execute_input": "2023-10-01T23:39:46.086753Z",
     "iopub.status.busy": "2023-10-01T23:39:46.085327Z",
     "iopub.status.idle": "2023-10-01T23:39:56.849069Z",
     "shell.execute_reply": "2023-10-01T23:39:56.848257Z"
    },
    "papermill": {
     "duration": 10.770441,
     "end_time": "2023-10-01T23:39:56.851196",
     "exception": false,
     "start_time": "2023-10-01T23:39:46.080755",
     "status": "completed"
    },
    "tags": []
   },
   "outputs": [],
   "source": [
    "import os\n",
    "import pandas as pd\n",
    "from events import load_event_data, get_first_ward, normalise_ward"
   ]
  },
  {
   "cell_type": "code",
   "execution_count": 2,
   "id": "9cf38791",
   "metadata": {
    "execution": {
     "iopub.execute_input": "2023-10-01T23:39:56.858752Z",
     "iopub.status.busy": "2023-10-01T23:39:56.858127Z",
     "iopub.status.idle": "2023-10-01T23:39:56.862796Z",
     "shell.execute_reply": "2023-10-01T23:39:56.862185Z"
    },
    "papermill": {
     "duration": 0.009855,
     "end_time": "2023-10-01T23:39:56.864445",
     "exception": false,
     "start_time": "2023-10-01T23:39:56.854590",
     "status": "completed"
    },
    "tags": []
   },
   "outputs": [],
   "source": [
    "latest_date = pd.Timestamp.today().ceil('D')"
   ]
  },
  {
   "cell_type": "code",
   "execution_count": 3,
   "id": "b1652fbd",
   "metadata": {
    "execution": {
     "iopub.execute_input": "2023-10-01T23:39:56.870315Z",
     "iopub.status.busy": "2023-10-01T23:39:56.869951Z",
     "iopub.status.idle": "2023-10-01T23:39:56.888726Z",
     "shell.execute_reply": "2023-10-01T23:39:56.888097Z"
    },
    "papermill": {
     "duration": 0.02356,
     "end_time": "2023-10-01T23:39:56.890315",
     "exception": false,
     "start_time": "2023-10-01T23:39:56.866755",
     "status": "completed"
    },
    "tags": []
   },
   "outputs": [],
   "source": [
    "tickets = pd.read_csv('../../../../data/metrics/events/tickets/orders.csv', parse_dates=['created_at', 'event_date'])\n",
    "tickets = tickets[tickets.event_date <= latest_date]"
   ]
  },
  {
   "cell_type": "code",
   "execution_count": 4,
   "id": "79b26a3f",
   "metadata": {
    "execution": {
     "iopub.execute_input": "2023-10-01T23:39:56.896337Z",
     "iopub.status.busy": "2023-10-01T23:39:56.895780Z",
     "iopub.status.idle": "2023-10-01T23:39:57.139694Z",
     "shell.execute_reply": "2023-10-01T23:39:57.138977Z"
    },
    "papermill": {
     "duration": 0.248982,
     "end_time": "2023-10-01T23:39:57.141625",
     "exception": false,
     "start_time": "2023-10-01T23:39:56.892643",
     "status": "completed"
    },
    "tags": []
   },
   "outputs": [],
   "source": [
    "events = load_event_data()\n",
    "\n",
    "events = pd.concat([\n",
    "  events,\n",
    "  events.pipe(get_first_ward).pipe(normalise_ward).fillna('UNKNOWN'),\n",
    "  pd.Series(\n",
    "      events.actual_audience_size_number_of_participants_in_person + events.actual_audience_size_number_of_participants_online,\n",
    "      name='attendances'\n",
    "  )\n",
    "], axis=1).rename(columns={\n",
    "    'start_date': 'date'\n",
    "}).loc[:, ['ward_code', 'date', 'event_unique_identifier', 'attendances']]"
   ]
  },
  {
   "cell_type": "code",
   "execution_count": 5,
   "id": "8615c545",
   "metadata": {
    "execution": {
     "iopub.execute_input": "2023-10-01T23:39:57.148358Z",
     "iopub.status.busy": "2023-10-01T23:39:57.147848Z",
     "iopub.status.idle": "2023-10-01T23:39:57.151629Z",
     "shell.execute_reply": "2023-10-01T23:39:57.150935Z"
    },
    "papermill": {
     "duration": 0.009144,
     "end_time": "2023-10-01T23:39:57.153476",
     "exception": false,
     "start_time": "2023-10-01T23:39:57.144332",
     "status": "completed"
    },
    "tags": []
   },
   "outputs": [],
   "source": [
    "OUTPUT_DIR='../../../../docs/metrics/events/signature/_data/'\n",
    "os.makedirs(OUTPUT_DIR, exist_ok=True)"
   ]
  },
  {
   "cell_type": "markdown",
   "id": "2ca1e485",
   "metadata": {
    "papermill": {
     "duration": 0.002545,
     "end_time": "2023-10-01T23:39:57.158495",
     "exception": false,
     "start_time": "2023-10-01T23:39:57.155950",
     "status": "completed"
    },
    "tags": []
   },
   "source": [
    "Events CSVs"
   ]
  },
  {
   "cell_type": "code",
   "execution_count": 6,
   "id": "6097a24a",
   "metadata": {
    "execution": {
     "iopub.execute_input": "2023-10-01T23:39:57.164652Z",
     "iopub.status.busy": "2023-10-01T23:39:57.164174Z",
     "iopub.status.idle": "2023-10-01T23:39:57.171422Z",
     "shell.execute_reply": "2023-10-01T23:39:57.170820Z"
    },
    "papermill": {
     "duration": 0.012148,
     "end_time": "2023-10-01T23:39:57.173055",
     "exception": false,
     "start_time": "2023-10-01T23:39:57.160907",
     "status": "completed"
    },
    "tags": []
   },
   "outputs": [],
   "source": [
    "pd.DataFrame({\n",
    "  'events': events.groupby('ward_code').event_unique_identifier.count(),\n",
    "  'attendances': events.groupby('ward_code').attendances.sum().astype(int),\n",
    "}).to_csv(os.path.join(OUTPUT_DIR, 'events_by_ward.csv'))\n"
   ]
  },
  {
   "cell_type": "code",
   "execution_count": 7,
   "id": "eea59378",
   "metadata": {
    "execution": {
     "iopub.execute_input": "2023-10-01T23:39:57.179255Z",
     "iopub.status.busy": "2023-10-01T23:39:57.178710Z",
     "iopub.status.idle": "2023-10-01T23:39:57.190883Z",
     "shell.execute_reply": "2023-10-01T23:39:57.190281Z"
    },
    "papermill": {
     "duration": 0.017301,
     "end_time": "2023-10-01T23:39:57.192780",
     "exception": false,
     "start_time": "2023-10-01T23:39:57.175479",
     "status": "completed"
    },
    "tags": []
   },
   "outputs": [],
   "source": [
    "pd.DataFrame({\n",
    "  'events': events.groupby('date').event_unique_identifier.count(),\n",
    "  'attendances': events.groupby('date').attendances.sum().astype(int),\n",
    "}).resample('M').sum().astype(int).to_csv(os.path.join(OUTPUT_DIR, 'events_by_date.csv'))"
   ]
  },
  {
   "cell_type": "markdown",
   "id": "0bedfcb1",
   "metadata": {
    "papermill": {
     "duration": 0.002489,
     "end_time": "2023-10-01T23:39:57.197725",
     "exception": false,
     "start_time": "2023-10-01T23:39:57.195236",
     "status": "completed"
    },
    "tags": []
   },
   "source": [
    "Tickets CSV"
   ]
  },
  {
   "cell_type": "code",
   "execution_count": 8,
   "id": "796eaaa4",
   "metadata": {
    "execution": {
     "iopub.execute_input": "2023-10-01T23:39:57.203743Z",
     "iopub.status.busy": "2023-10-01T23:39:57.203379Z",
     "iopub.status.idle": "2023-10-01T23:39:57.211337Z",
     "shell.execute_reply": "2023-10-01T23:39:57.210579Z"
    },
    "papermill": {
     "duration": 0.012743,
     "end_time": "2023-10-01T23:39:57.212899",
     "exception": false,
     "start_time": "2023-10-01T23:39:57.200156",
     "status": "completed"
    },
    "tags": []
   },
   "outputs": [],
   "source": [
    "pd.DataFrame({\n",
    "  'orders': tickets.groupby('ward_code').number_of_tickets.count(),\n",
    "  'tickets': tickets.groupby('ward_code').number_of_tickets.sum().astype(int),\n",
    "}).to_csv(os.path.join(OUTPUT_DIR, 'tickets_by_ward.csv'))"
   ]
  },
  {
   "cell_type": "code",
   "execution_count": 9,
   "id": "4748a453",
   "metadata": {
    "execution": {
     "iopub.execute_input": "2023-10-01T23:39:57.219142Z",
     "iopub.status.busy": "2023-10-01T23:39:57.218592Z",
     "iopub.status.idle": "2023-10-01T23:39:57.226555Z",
     "shell.execute_reply": "2023-10-01T23:39:57.225961Z"
    },
    "papermill": {
     "duration": 0.01283,
     "end_time": "2023-10-01T23:39:57.228196",
     "exception": false,
     "start_time": "2023-10-01T23:39:57.215366",
     "status": "completed"
    },
    "tags": []
   },
   "outputs": [],
   "source": [
    "pd.DataFrame({\n",
    "  'orders': tickets.groupby('event_date').number_of_tickets.count(),\n",
    "  'tickets': tickets.groupby('event_date').number_of_tickets.sum().astype(int),\n",
    "}).resample('M').sum().to_csv(os.path.join(OUTPUT_DIR, 'tickets_by_event_date.csv'))"
   ]
  },
  {
   "cell_type": "code",
   "execution_count": 10,
   "id": "e69002bb",
   "metadata": {
    "execution": {
     "iopub.execute_input": "2023-10-01T23:39:57.235434Z",
     "iopub.status.busy": "2023-10-01T23:39:57.235009Z",
     "iopub.status.idle": "2023-10-01T23:39:57.240633Z",
     "shell.execute_reply": "2023-10-01T23:39:57.239932Z"
    },
    "papermill": {
     "duration": 0.011413,
     "end_time": "2023-10-01T23:39:57.242126",
     "exception": false,
     "start_time": "2023-10-01T23:39:57.230713",
     "status": "completed"
    },
    "tags": []
   },
   "outputs": [],
   "source": [
    "pd.Series({\n",
    "    'total_events': events.event_unique_identifier.count(),\n",
    "    'total_attendances': events.attendances.count(),\n",
    "    'first_event': events.date.min(),\n",
    "    'latest_event': events.date.max(),\n",
    "    'total_ticket_orders_for_events_to_date': tickets.number_of_tickets.count(),\n",
    "    'total_tickets_sold_for_events_to_date': tickets.number_of_tickets.sum(),\n",
    "}).to_json(os.path.join(OUTPUT_DIR, 'headlines.json'), indent=2)"
   ]
  },
  {
   "cell_type": "code",
   "execution_count": null,
   "id": "ba6cefd8",
   "metadata": {
    "papermill": {
     "duration": 0.002694,
     "end_time": "2023-10-01T23:39:57.247736",
     "exception": false,
     "start_time": "2023-10-01T23:39:57.245042",
     "status": "completed"
    },
    "tags": []
   },
   "outputs": [],
   "source": []
  }
 ],
 "metadata": {
  "kernelspec": {
   "display_name": "leeds-2023-YZF5GfJv",
   "language": "python",
   "name": "python3"
  },
  "language_info": {
   "codemirror_mode": {
    "name": "ipython",
    "version": 3
   },
   "file_extension": ".py",
   "mimetype": "text/x-python",
   "name": "python",
   "nbconvert_exporter": "python",
   "pygments_lexer": "ipython3",
   "version": "3.10.13"
  },
  "papermill": {
   "default_parameters": {},
   "duration": 12.867576,
   "end_time": "2023-10-01T23:39:57.568448",
   "environment_variables": {},
   "exception": null,
   "input_path": "prepare.ipynb",
   "output_path": "../../../../working/output/signature-prepare.ipynb",
   "parameters": {},
   "start_time": "2023-10-01T23:39:44.700872",
   "version": "2.4.0"
  }
 },
 "nbformat": 4,
 "nbformat_minor": 5
}