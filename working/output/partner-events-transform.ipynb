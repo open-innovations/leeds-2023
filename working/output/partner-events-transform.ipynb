{
 "cells": [
  {
   "cell_type": "code",
   "execution_count": 1,
   "id": "fd70499f",
   "metadata": {
    "execution": {
     "iopub.execute_input": "2023-10-26T23:38:01.581569Z",
     "iopub.status.busy": "2023-10-26T23:38:01.580640Z",
     "iopub.status.idle": "2023-10-26T23:38:01.893424Z",
     "shell.execute_reply": "2023-10-26T23:38:01.892512Z"
    },
    "papermill": {
     "duration": 0.321803,
     "end_time": "2023-10-26T23:38:01.896846",
     "exception": false,
     "start_time": "2023-10-26T23:38:01.575043",
     "status": "completed"
    },
    "tags": []
   },
   "outputs": [],
   "source": [
    "import os\n",
    "import sys\n",
    "import pandas as pd\n",
    "lib_dir = os.path.realpath('../../../lib/')\n",
    "if lib_dir not in sys.path: sys.path.append(lib_dir)"
   ]
  },
  {
   "cell_type": "code",
   "execution_count": 2,
   "id": "cf0d39d2",
   "metadata": {
    "execution": {
     "iopub.execute_input": "2023-10-26T23:38:01.908054Z",
     "iopub.status.busy": "2023-10-26T23:38:01.907197Z",
     "iopub.status.idle": "2023-10-26T23:38:14.085328Z",
     "shell.execute_reply": "2023-10-26T23:38:14.084466Z"
    },
    "papermill": {
     "duration": 12.184971,
     "end_time": "2023-10-26T23:38:14.087783",
     "exception": false,
     "start_time": "2023-10-26T23:38:01.902812",
     "status": "completed"
    },
    "tags": []
   },
   "outputs": [],
   "source": [
    "import util.geo"
   ]
  },
  {
   "cell_type": "code",
   "execution_count": 3,
   "id": "9dda2941",
   "metadata": {
    "execution": {
     "iopub.execute_input": "2023-10-26T23:38:14.096669Z",
     "iopub.status.busy": "2023-10-26T23:38:14.095837Z",
     "iopub.status.idle": "2023-10-26T23:38:14.100899Z",
     "shell.execute_reply": "2023-10-26T23:38:14.100125Z"
    },
    "papermill": {
     "duration": 0.011454,
     "end_time": "2023-10-26T23:38:14.102822",
     "exception": false,
     "start_time": "2023-10-26T23:38:14.091368",
     "status": "completed"
    },
    "tags": []
   },
   "outputs": [],
   "source": [
    "EVENTS_RAW_DATA = '../../../working/metrics/partner-events/events.csv'\n",
    "DATA_DIR = '../../../data/metrics/events/partner-events/'\n",
    "EVENTS_DATA = os.path.join(DATA_DIR, 'events.csv')"
   ]
  },
  {
   "cell_type": "code",
   "execution_count": 4,
   "id": "2c993151",
   "metadata": {
    "execution": {
     "iopub.execute_input": "2023-10-26T23:38:14.110865Z",
     "iopub.status.busy": "2023-10-26T23:38:14.110367Z",
     "iopub.status.idle": "2023-10-26T23:38:14.114566Z",
     "shell.execute_reply": "2023-10-26T23:38:14.113858Z"
    },
    "papermill": {
     "duration": 0.010239,
     "end_time": "2023-10-26T23:38:14.116330",
     "exception": false,
     "start_time": "2023-10-26T23:38:14.106091",
     "status": "completed"
    },
    "tags": []
   },
   "outputs": [],
   "source": [
    "columns = {\n",
    "    'Event Name': 'name',\n",
    "    'Event Start Date': 'start_date',\n",
    "    'Event End Date': 'end_date',\n",
    "    'Partner/Promote': 'partner_promote',\n",
    "    'Stage': 'stage',\n",
    "    'Live date': 'live_date',\n",
    "    'Venue postcode': 'postcode',\n",
    "    'Pricing Policy': 'pricing',\n",
    "    'Venue - including address': 'venue',\n",
    "    'Is this event on Leeds Inspried?': 'on_leeds_inspired',\n",
    "}"
   ]
  },
  {
   "cell_type": "markdown",
   "id": "6f774b49",
   "metadata": {
    "papermill": {
     "duration": 0.003222,
     "end_time": "2023-10-26T23:38:14.122724",
     "exception": false,
     "start_time": "2023-10-26T23:38:14.119502",
     "status": "completed"
    },
    "tags": []
   },
   "source": [
    "Load the data and rename columns. Parse the dates to dates."
   ]
  },
  {
   "cell_type": "code",
   "execution_count": 5,
   "id": "f51443a5",
   "metadata": {
    "execution": {
     "iopub.execute_input": "2023-10-26T23:38:14.131280Z",
     "iopub.status.busy": "2023-10-26T23:38:14.130545Z",
     "iopub.status.idle": "2023-10-26T23:38:14.144509Z",
     "shell.execute_reply": "2023-10-26T23:38:14.143842Z"
    },
    "papermill": {
     "duration": 0.020455,
     "end_time": "2023-10-26T23:38:14.146374",
     "exception": false,
     "start_time": "2023-10-26T23:38:14.125919",
     "status": "completed"
    },
    "tags": []
   },
   "outputs": [],
   "source": [
    "data = pd.read_csv(EVENTS_RAW_DATA)[columns.keys()].rename(columns=columns)\n",
    "data.start_date = pd.to_datetime(data.start_date, errors='coerce')\n",
    "data.end_date = pd.to_datetime(data.end_date, errors='coerce')"
   ]
  },
  {
   "cell_type": "markdown",
   "id": "663869c4",
   "metadata": {
    "papermill": {
     "duration": 0.003225,
     "end_time": "2023-10-26T23:38:14.152866",
     "exception": false,
     "start_time": "2023-10-26T23:38:14.149641",
     "status": "completed"
    },
    "tags": []
   },
   "source": [
    "Filter data by not LI Pull through and start date before now"
   ]
  },
  {
   "cell_type": "code",
   "execution_count": 6,
   "id": "97445818",
   "metadata": {
    "execution": {
     "iopub.execute_input": "2023-10-26T23:38:14.162047Z",
     "iopub.status.busy": "2023-10-26T23:38:14.161500Z",
     "iopub.status.idle": "2023-10-26T23:38:14.167646Z",
     "shell.execute_reply": "2023-10-26T23:38:14.166854Z"
    },
    "papermill": {
     "duration": 0.012186,
     "end_time": "2023-10-26T23:38:14.169370",
     "exception": false,
     "start_time": "2023-10-26T23:38:14.157184",
     "status": "completed"
    },
    "tags": []
   },
   "outputs": [],
   "source": [
    "data = data[\n",
    "    # (data.live_date == 'This event is live ') &\n",
    "    ((data.stage != 'LI pull through') & data.stage.notna()) &\n",
    "    (data.start_date < pd.Timestamp.now())\n",
    "]"
   ]
  },
  {
   "cell_type": "code",
   "execution_count": 7,
   "id": "0d229f8d",
   "metadata": {
    "execution": {
     "iopub.execute_input": "2023-10-26T23:38:14.177341Z",
     "iopub.status.busy": "2023-10-26T23:38:14.176703Z",
     "iopub.status.idle": "2023-10-26T23:38:15.501231Z",
     "shell.execute_reply": "2023-10-26T23:38:15.499694Z"
    },
    "papermill": {
     "duration": 1.331752,
     "end_time": "2023-10-26T23:38:15.504369",
     "exception": false,
     "start_time": "2023-10-26T23:38:14.172617",
     "status": "completed"
    },
    "tags": []
   },
   "outputs": [],
   "source": [
    "data['ward_code'] = data.postcode.pipe(util.geo.postcode_formatter).map(util.geo.postcode_to_ward_code)\n",
    "data['ward_name'] = data.ward_code.pipe(util.geo.ward_code_to_name)"
   ]
  },
  {
   "cell_type": "markdown",
   "id": "8870e3b3",
   "metadata": {
    "papermill": {
     "duration": 0.004321,
     "end_time": "2023-10-26T23:38:15.514392",
     "exception": false,
     "start_time": "2023-10-26T23:38:15.510071",
     "status": "completed"
    },
    "tags": []
   },
   "source": [
    "Save the file"
   ]
  },
  {
   "cell_type": "code",
   "execution_count": 8,
   "id": "40e7283f",
   "metadata": {
    "execution": {
     "iopub.execute_input": "2023-10-26T23:38:15.522435Z",
     "iopub.status.busy": "2023-10-26T23:38:15.521919Z",
     "iopub.status.idle": "2023-10-26T23:38:15.531220Z",
     "shell.execute_reply": "2023-10-26T23:38:15.530356Z"
    },
    "papermill": {
     "duration": 0.015363,
     "end_time": "2023-10-26T23:38:15.532989",
     "exception": false,
     "start_time": "2023-10-26T23:38:15.517626",
     "status": "completed"
    },
    "tags": []
   },
   "outputs": [],
   "source": [
    "data[\n",
    "    ['name','start_date','end_date','ward_code']\n",
    "].to_csv(EVENTS_DATA, index=False)"
   ]
  },
  {
   "cell_type": "markdown",
   "id": "bb3b1f91",
   "metadata": {
    "papermill": {
     "duration": 0.003164,
     "end_time": "2023-10-26T23:38:15.539516",
     "exception": false,
     "start_time": "2023-10-26T23:38:15.536352",
     "status": "completed"
    },
    "tags": []
   },
   "source": [
    "Print out missing postcode data"
   ]
  },
  {
   "cell_type": "code",
   "execution_count": 9,
   "id": "6073c338",
   "metadata": {
    "execution": {
     "iopub.execute_input": "2023-10-26T23:38:15.547916Z",
     "iopub.status.busy": "2023-10-26T23:38:15.547247Z",
     "iopub.status.idle": "2023-10-26T23:38:15.563688Z",
     "shell.execute_reply": "2023-10-26T23:38:15.562750Z"
    },
    "papermill": {
     "duration": 0.022803,
     "end_time": "2023-10-26T23:38:15.565706",
     "exception": false,
     "start_time": "2023-10-26T23:38:15.542903",
     "status": "completed"
    },
    "tags": []
   },
   "outputs": [
    {
     "data": {
      "text/html": [
       "<div>\n",
       "<style scoped>\n",
       "    .dataframe tbody tr th:only-of-type {\n",
       "        vertical-align: middle;\n",
       "    }\n",
       "\n",
       "    .dataframe tbody tr th {\n",
       "        vertical-align: top;\n",
       "    }\n",
       "\n",
       "    .dataframe thead th {\n",
       "        text-align: right;\n",
       "    }\n",
       "</style>\n",
       "<table border=\"1\" class=\"dataframe\">\n",
       "  <thead>\n",
       "    <tr style=\"text-align: right;\">\n",
       "      <th></th>\n",
       "      <th>name</th>\n",
       "      <th>start_date</th>\n",
       "    </tr>\n",
       "  </thead>\n",
       "  <tbody>\n",
       "    <tr>\n",
       "      <th>1</th>\n",
       "      <td>East Street Arts, A City Less Grey 2022</td>\n",
       "      <td>2022-10-08</td>\n",
       "    </tr>\n",
       "    <tr>\n",
       "      <th>3</th>\n",
       "      <td>Phoenix Dance Theatre Virtual Gallery</td>\n",
       "      <td>2023-01-01</td>\n",
       "    </tr>\n",
       "    <tr>\n",
       "      <th>4</th>\n",
       "      <td>The Big Art Giveaway, School of Creative Arts ...</td>\n",
       "      <td>2023-01-01</td>\n",
       "    </tr>\n",
       "    <tr>\n",
       "      <th>5</th>\n",
       "      <td>Embassy of Netherlands, Meet Leeds Lab</td>\n",
       "      <td>2023-01-16</td>\n",
       "    </tr>\n",
       "    <tr>\n",
       "      <th>6</th>\n",
       "      <td>Shifting Borders: A Journey to the Centre of o...</td>\n",
       "      <td>2023-01-24</td>\n",
       "    </tr>\n",
       "    <tr>\n",
       "      <th>...</th>\n",
       "      <td>...</td>\n",
       "      <td>...</td>\n",
       "    </tr>\n",
       "    <tr>\n",
       "      <th>235</th>\n",
       "      <td>Artist Talk with Gemma Anderson-Tempini and Ma...</td>\n",
       "      <td>2023-10-21</td>\n",
       "    </tr>\n",
       "    <tr>\n",
       "      <th>239</th>\n",
       "      <td>Songs for No One - part of transform</td>\n",
       "      <td>2023-10-21</td>\n",
       "    </tr>\n",
       "    <tr>\n",
       "      <th>240</th>\n",
       "      <td>Spooky Shakespeare Suitcase Theatre</td>\n",
       "      <td>2023-10-21</td>\n",
       "    </tr>\n",
       "    <tr>\n",
       "      <th>243</th>\n",
       "      <td>The DOMA Annual Lecture: Could There Be Anothe...</td>\n",
       "      <td>2023-10-25</td>\n",
       "    </tr>\n",
       "    <tr>\n",
       "      <th>245</th>\n",
       "      <td>Jamie Jones-Buchanan: Culture and Sport</td>\n",
       "      <td>2023-10-26</td>\n",
       "    </tr>\n",
       "  </tbody>\n",
       "</table>\n",
       "<p>82 rows × 2 columns</p>\n",
       "</div>"
      ],
      "text/plain": [
       "                                                  name start_date\n",
       "1              East Street Arts, A City Less Grey 2022 2022-10-08\n",
       "3                Phoenix Dance Theatre Virtual Gallery 2023-01-01\n",
       "4    The Big Art Giveaway, School of Creative Arts ... 2023-01-01\n",
       "5               Embassy of Netherlands, Meet Leeds Lab 2023-01-16\n",
       "6    Shifting Borders: A Journey to the Centre of o... 2023-01-24\n",
       "..                                                 ...        ...\n",
       "235  Artist Talk with Gemma Anderson-Tempini and Ma... 2023-10-21\n",
       "239               Songs for No One - part of transform 2023-10-21\n",
       "240                Spooky Shakespeare Suitcase Theatre 2023-10-21\n",
       "243  The DOMA Annual Lecture: Could There Be Anothe... 2023-10-25\n",
       "245            Jamie Jones-Buchanan: Culture and Sport 2023-10-26\n",
       "\n",
       "[82 rows x 2 columns]"
      ]
     },
     "execution_count": 9,
     "metadata": {},
     "output_type": "execute_result"
    }
   ],
   "source": [
    "data[data.postcode.isna()][[\n",
    "    'name', 'start_date'\n",
    "]]"
   ]
  },
  {
   "cell_type": "markdown",
   "id": "58882f63",
   "metadata": {
    "papermill": {
     "duration": 0.004557,
     "end_time": "2023-10-26T23:38:15.573934",
     "exception": false,
     "start_time": "2023-10-26T23:38:15.569377",
     "status": "completed"
    },
    "tags": []
   },
   "source": [
    "Plot the pricing"
   ]
  },
  {
   "cell_type": "code",
   "execution_count": 10,
   "id": "08c66feb",
   "metadata": {
    "execution": {
     "iopub.execute_input": "2023-10-26T23:38:15.582800Z",
     "iopub.status.busy": "2023-10-26T23:38:15.582260Z",
     "iopub.status.idle": "2023-10-26T23:38:16.228314Z",
     "shell.execute_reply": "2023-10-26T23:38:16.227604Z"
    },
    "papermill": {
     "duration": 0.653197,
     "end_time": "2023-10-26T23:38:16.230868",
     "exception": false,
     "start_time": "2023-10-26T23:38:15.577671",
     "status": "completed"
    },
    "tags": []
   },
   "outputs": [
    {
     "data": {
      "image/png": "[encoded data removed]",
      "text/plain": [
       "<Figure size 640x480 with 1 Axes>"
      ]
     },
     "metadata": {},
     "output_type": "display_data"
    }
   ],
   "source": [
    "# .groupby('pricing').count().plot.barh()\n",
    "pricing = data.pricing.fillna('Unspecified').str.replace('[\\[\\'\\]]', '', regex=True).to_frame().reset_index().groupby('pricing').count()\n",
    "\n",
    "pricing.columns = ['count']\n",
    "plot = pricing.plot.barh()\n"
   ]
  },
  {
   "cell_type": "code",
   "execution_count": null,
   "id": "ac43a545",
   "metadata": {
    "papermill": {
     "duration": 0.007311,
     "end_time": "2023-10-26T23:38:16.243288",
     "exception": false,
     "start_time": "2023-10-26T23:38:16.235977",
     "status": "completed"
    },
    "tags": []
   },
   "outputs": [],
   "source": []
  }
 ],
 "metadata": {
  "kernelspec": {
   "display_name": "leeds-2023-YZF5GfJv",
   "language": "python",
   "name": "python3"
  },
  "language_info": {
   "codemirror_mode": {
    "name": "ipython",
    "version": 3
   },
   "file_extension": ".py",
   "mimetype": "text/x-python",
   "name": "python",
   "nbconvert_exporter": "python",
   "pygments_lexer": "ipython3",
   "version": "3.10.13"
  },
  "papermill": {
   "default_parameters": {},
   "duration": 16.678776,
   "end_time": "2023-10-26T23:38:16.671377",
   "environment_variables": {},
   "exception": null,
   "input_path": "transform.ipynb",
   "output_path": "../../../working/output/partner-events-transform.ipynb",
   "parameters": {},
   "start_time": "2023-10-26T23:37:59.992601",
   "version": "2.4.0"
  }
 },
 "nbformat": 4,
 "nbformat_minor": 5
}