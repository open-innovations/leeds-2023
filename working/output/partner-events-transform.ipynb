{
 "cells": [
  {
   "cell_type": "code",
   "execution_count": 1,
   "id": "f3ab8c2b",
   "metadata": {
    "execution": {
     "iopub.execute_input": "2023-12-18T23:40:36.575148Z",
     "iopub.status.busy": "2023-12-18T23:40:36.574897Z",
     "iopub.status.idle": "2023-12-18T23:40:36.820234Z",
     "shell.execute_reply": "2023-12-18T23:40:36.819662Z"
    },
    "papermill": {
     "duration": 0.250847,
     "end_time": "2023-12-18T23:40:36.821843",
     "exception": false,
     "start_time": "2023-12-18T23:40:36.570996",
     "status": "completed"
    },
    "tags": []
   },
   "outputs": [],
   "source": [
    "import os\n",
    "import sys\n",
    "import pandas as pd\n",
    "lib_dir = os.path.realpath('../../../lib/')\n",
    "if lib_dir not in sys.path: sys.path.append(lib_dir)"
   ]
  },
  {
   "cell_type": "code",
   "execution_count": 2,
   "id": "01de231e",
   "metadata": {
    "execution": {
     "iopub.execute_input": "2023-12-18T23:40:36.827736Z",
     "iopub.status.busy": "2023-12-18T23:40:36.827289Z",
     "iopub.status.idle": "2023-12-18T23:40:44.024012Z",
     "shell.execute_reply": "2023-12-18T23:40:44.023262Z"
    },
    "papermill": {
     "duration": 7.201551,
     "end_time": "2023-12-18T23:40:44.025898",
     "exception": false,
     "start_time": "2023-12-18T23:40:36.824347",
     "status": "completed"
    },
    "tags": []
   },
   "outputs": [],
   "source": [
    "import util.geo"
   ]
  },
  {
   "cell_type": "code",
   "execution_count": 3,
   "id": "61ffd575",
   "metadata": {
    "execution": {
     "iopub.execute_input": "2023-12-18T23:40:44.031705Z",
     "iopub.status.busy": "2023-12-18T23:40:44.031428Z",
     "iopub.status.idle": "2023-12-18T23:40:44.034931Z",
     "shell.execute_reply": "2023-12-18T23:40:44.034386Z"
    },
    "papermill": {
     "duration": 0.007847,
     "end_time": "2023-12-18T23:40:44.036243",
     "exception": false,
     "start_time": "2023-12-18T23:40:44.028396",
     "status": "completed"
    },
    "tags": []
   },
   "outputs": [],
   "source": [
    "EVENTS_RAW_DATA = '../../../working/metrics/partner-events/events.csv'\n",
    "DATA_DIR = '../../../data/metrics/events/partner-events/'\n",
    "EVENTS_DATA = os.path.join(DATA_DIR, 'events.csv')"
   ]
  },
  {
   "cell_type": "code",
   "execution_count": 4,
   "id": "2942ae81",
   "metadata": {
    "execution": {
     "iopub.execute_input": "2023-12-18T23:40:44.041652Z",
     "iopub.status.busy": "2023-12-18T23:40:44.041209Z",
     "iopub.status.idle": "2023-12-18T23:40:44.044628Z",
     "shell.execute_reply": "2023-12-18T23:40:44.043989Z"
    },
    "papermill": {
     "duration": 0.007514,
     "end_time": "2023-12-18T23:40:44.045957",
     "exception": false,
     "start_time": "2023-12-18T23:40:44.038443",
     "status": "completed"
    },
    "tags": []
   },
   "outputs": [],
   "source": [
    "columns = {\n",
    "    'Event Name': 'name',\n",
    "    'Event Start Date': 'start_date',\n",
    "    'Event End Date': 'end_date',\n",
    "    'Partner/Promote': 'partner_promote',\n",
    "    'Stage': 'stage',\n",
    "    'Live date': 'live_date',\n",
    "    'Venue postcode': 'postcode',\n",
    "    'Pricing Policy': 'pricing',\n",
    "    'Venue - including address': 'venue',\n",
    "    'Is this event on Leeds Inspried?': 'on_leeds_inspired',\n",
    "}"
   ]
  },
  {
   "cell_type": "markdown",
   "id": "5e63aa1e",
   "metadata": {
    "papermill": {
     "duration": 0.002188,
     "end_time": "2023-12-18T23:40:44.050303",
     "exception": false,
     "start_time": "2023-12-18T23:40:44.048115",
     "status": "completed"
    },
    "tags": []
   },
   "source": [
    "Load the data and rename columns. Parse the dates to dates."
   ]
  },
  {
   "cell_type": "code",
   "execution_count": 5,
   "id": "6088d257",
   "metadata": {
    "execution": {
     "iopub.execute_input": "2023-12-18T23:40:44.055760Z",
     "iopub.status.busy": "2023-12-18T23:40:44.055358Z",
     "iopub.status.idle": "2023-12-18T23:40:44.064927Z",
     "shell.execute_reply": "2023-12-18T23:40:44.064262Z"
    },
    "papermill": {
     "duration": 0.013939,
     "end_time": "2023-12-18T23:40:44.066354",
     "exception": false,
     "start_time": "2023-12-18T23:40:44.052415",
     "status": "completed"
    },
    "tags": []
   },
   "outputs": [],
   "source": [
    "data = pd.read_csv(EVENTS_RAW_DATA)[columns.keys()].rename(columns=columns)\n",
    "data.start_date = pd.to_datetime(data.start_date, errors='coerce')\n",
    "data.end_date = pd.to_datetime(data.end_date, errors='coerce')"
   ]
  },
  {
   "cell_type": "markdown",
   "id": "ed789eee",
   "metadata": {
    "papermill": {
     "duration": 0.002146,
     "end_time": "2023-12-18T23:40:44.070760",
     "exception": false,
     "start_time": "2023-12-18T23:40:44.068614",
     "status": "completed"
    },
    "tags": []
   },
   "source": [
    "Filter data by not LI Pull through and start date before now"
   ]
  },
  {
   "cell_type": "code",
   "execution_count": 6,
   "id": "40db0ae8",
   "metadata": {
    "execution": {
     "iopub.execute_input": "2023-12-18T23:40:44.077022Z",
     "iopub.status.busy": "2023-12-18T23:40:44.076550Z",
     "iopub.status.idle": "2023-12-18T23:40:44.081136Z",
     "shell.execute_reply": "2023-12-18T23:40:44.080552Z"
    },
    "papermill": {
     "duration": 0.00864,
     "end_time": "2023-12-18T23:40:44.082331",
     "exception": false,
     "start_time": "2023-12-18T23:40:44.073691",
     "status": "completed"
    },
    "tags": []
   },
   "outputs": [],
   "source": [
    "data = data[\n",
    "    # (data.live_date == 'This event is live ') &\n",
    "    ((data.stage != 'LI pull through') & data.stage.notna()) &\n",
    "    (data.start_date < pd.Timestamp.now())\n",
    "]"
   ]
  },
  {
   "cell_type": "code",
   "execution_count": 7,
   "id": "d7e7cda5",
   "metadata": {
    "execution": {
     "iopub.execute_input": "2023-12-18T23:40:44.087672Z",
     "iopub.status.busy": "2023-12-18T23:40:44.087289Z",
     "iopub.status.idle": "2023-12-18T23:40:44.990807Z",
     "shell.execute_reply": "2023-12-18T23:40:44.990174Z"
    },
    "papermill": {
     "duration": 0.907964,
     "end_time": "2023-12-18T23:40:44.992438",
     "exception": false,
     "start_time": "2023-12-18T23:40:44.084474",
     "status": "completed"
    },
    "tags": []
   },
   "outputs": [],
   "source": [
    "data['ward_code'] = data.postcode.pipe(util.geo.postcode_formatter).map(util.geo.postcode_to_ward_code)\n",
    "data['ward_name'] = data.ward_code.pipe(util.geo.ward_code_to_name)"
   ]
  },
  {
   "cell_type": "markdown",
   "id": "9c3ce36b",
   "metadata": {
    "papermill": {
     "duration": 0.002455,
     "end_time": "2023-12-18T23:40:44.997487",
     "exception": false,
     "start_time": "2023-12-18T23:40:44.995032",
     "status": "completed"
    },
    "tags": []
   },
   "source": [
    "Save the file"
   ]
  },
  {
   "cell_type": "code",
   "execution_count": 8,
   "id": "c81cf8a7",
   "metadata": {
    "execution": {
     "iopub.execute_input": "2023-12-18T23:40:45.003100Z",
     "iopub.status.busy": "2023-12-18T23:40:45.002665Z",
     "iopub.status.idle": "2023-12-18T23:40:45.008527Z",
     "shell.execute_reply": "2023-12-18T23:40:45.008000Z"
    },
    "papermill": {
     "duration": 0.010178,
     "end_time": "2023-12-18T23:40:45.009839",
     "exception": false,
     "start_time": "2023-12-18T23:40:44.999661",
     "status": "completed"
    },
    "tags": []
   },
   "outputs": [],
   "source": [
    "data[\n",
    "    ['name','start_date','end_date','ward_code']\n",
    "].to_csv(EVENTS_DATA, index=False)"
   ]
  },
  {
   "cell_type": "markdown",
   "id": "925dce66",
   "metadata": {
    "papermill": {
     "duration": 0.002245,
     "end_time": "2023-12-18T23:40:45.014311",
     "exception": false,
     "start_time": "2023-12-18T23:40:45.012066",
     "status": "completed"
    },
    "tags": []
   },
   "source": [
    "Print out missing postcode data"
   ]
  },
  {
   "cell_type": "code",
   "execution_count": 9,
   "id": "4d64544a",
   "metadata": {
    "execution": {
     "iopub.execute_input": "2023-12-18T23:40:45.019918Z",
     "iopub.status.busy": "2023-12-18T23:40:45.019520Z",
     "iopub.status.idle": "2023-12-18T23:40:45.031247Z",
     "shell.execute_reply": "2023-12-18T23:40:45.030633Z"
    },
    "papermill": {
     "duration": 0.016033,
     "end_time": "2023-12-18T23:40:45.032625",
     "exception": false,
     "start_time": "2023-12-18T23:40:45.016592",
     "status": "completed"
    },
    "tags": []
   },
   "outputs": [
    {
     "data": {
      "text/html": [
       "<div>\n",
       "<style scoped>\n",
       "    .dataframe tbody tr th:only-of-type {\n",
       "        vertical-align: middle;\n",
       "    }\n",
       "\n",
       "    .dataframe tbody tr th {\n",
       "        vertical-align: top;\n",
       "    }\n",
       "\n",
       "    .dataframe thead th {\n",
       "        text-align: right;\n",
       "    }\n",
       "</style>\n",
       "<table border=\"1\" class=\"dataframe\">\n",
       "  <thead>\n",
       "    <tr style=\"text-align: right;\">\n",
       "      <th></th>\n",
       "      <th>name</th>\n",
       "      <th>start_date</th>\n",
       "    </tr>\n",
       "  </thead>\n",
       "  <tbody>\n",
       "    <tr>\n",
       "      <th>1</th>\n",
       "      <td>East Street Arts, A City Less Grey 2022</td>\n",
       "      <td>2022-10-08</td>\n",
       "    </tr>\n",
       "    <tr>\n",
       "      <th>3</th>\n",
       "      <td>Phoenix Dance Theatre Virtual Gallery</td>\n",
       "      <td>2023-01-01</td>\n",
       "    </tr>\n",
       "    <tr>\n",
       "      <th>4</th>\n",
       "      <td>The Big Art Giveaway, School of Creative Arts ...</td>\n",
       "      <td>2023-01-01</td>\n",
       "    </tr>\n",
       "    <tr>\n",
       "      <th>5</th>\n",
       "      <td>Embassy of Netherlands, Meet Leeds Lab</td>\n",
       "      <td>2023-01-16</td>\n",
       "    </tr>\n",
       "    <tr>\n",
       "      <th>6</th>\n",
       "      <td>Shifting Borders: A Journey to the Centre of o...</td>\n",
       "      <td>2023-01-24</td>\n",
       "    </tr>\n",
       "    <tr>\n",
       "      <th>...</th>\n",
       "      <td>...</td>\n",
       "      <td>...</td>\n",
       "    </tr>\n",
       "    <tr>\n",
       "      <th>334</th>\n",
       "      <td>Wellbeing Wednesdays</td>\n",
       "      <td>2023-11-22</td>\n",
       "    </tr>\n",
       "    <tr>\n",
       "      <th>345</th>\n",
       "      <td>Art Social for Teachers: Textile Stories with ...</td>\n",
       "      <td>2023-12-06</td>\n",
       "    </tr>\n",
       "    <tr>\n",
       "      <th>348</th>\n",
       "      <td>Leeds Beckett University presents ‘A Christmas...</td>\n",
       "      <td>2023-12-08</td>\n",
       "    </tr>\n",
       "    <tr>\n",
       "      <th>349</th>\n",
       "      <td>Mohammad Barrangi: Last Dream</td>\n",
       "      <td>2023-12-11</td>\n",
       "    </tr>\n",
       "    <tr>\n",
       "      <th>352</th>\n",
       "      <td>Future Perfect - Preview Screening</td>\n",
       "      <td>2023-12-14</td>\n",
       "    </tr>\n",
       "  </tbody>\n",
       "</table>\n",
       "<p>130 rows × 2 columns</p>\n",
       "</div>"
      ],
      "text/plain": [
       "                                                  name start_date\n",
       "1              East Street Arts, A City Less Grey 2022 2022-10-08\n",
       "3                Phoenix Dance Theatre Virtual Gallery 2023-01-01\n",
       "4    The Big Art Giveaway, School of Creative Arts ... 2023-01-01\n",
       "5               Embassy of Netherlands, Meet Leeds Lab 2023-01-16\n",
       "6    Shifting Borders: A Journey to the Centre of o... 2023-01-24\n",
       "..                                                 ...        ...\n",
       "334                               Wellbeing Wednesdays 2023-11-22\n",
       "345  Art Social for Teachers: Textile Stories with ... 2023-12-06\n",
       "348  Leeds Beckett University presents ‘A Christmas... 2023-12-08\n",
       "349                      Mohammad Barrangi: Last Dream 2023-12-11\n",
       "352                 Future Perfect - Preview Screening 2023-12-14\n",
       "\n",
       "[130 rows x 2 columns]"
      ]
     },
     "execution_count": 9,
     "metadata": {},
     "output_type": "execute_result"
    }
   ],
   "source": [
    "data[data.postcode.isna()][[\n",
    "    'name', 'start_date'\n",
    "]]"
   ]
  },
  {
   "cell_type": "markdown",
   "id": "3b80e646",
   "metadata": {
    "papermill": {
     "duration": 0.002457,
     "end_time": "2023-12-18T23:40:45.037618",
     "exception": false,
     "start_time": "2023-12-18T23:40:45.035161",
     "status": "completed"
    },
    "tags": []
   },
   "source": [
    "Plot the pricing"
   ]
  },
  {
   "cell_type": "code",
   "execution_count": 10,
   "id": "4508ea44",
   "metadata": {
    "execution": {
     "iopub.execute_input": "2023-12-18T23:40:45.043755Z",
     "iopub.status.busy": "2023-12-18T23:40:45.043228Z",
     "iopub.status.idle": "2023-12-18T23:40:45.517671Z",
     "shell.execute_reply": "2023-12-18T23:40:45.516958Z"
    },
    "papermill": {
     "duration": 0.478971,
     "end_time": "2023-12-18T23:40:45.519065",
     "exception": false,
     "start_time": "2023-12-18T23:40:45.040094",
     "status": "completed"
    },
    "tags": []
   },
   "outputs": [
    {
     "data": {
      "image/png": "[encoded data removed]",
      "text/plain": [
       "<Figure size 640x480 with 1 Axes>"
      ]
     },
     "metadata": {},
     "output_type": "display_data"
    }
   ],
   "source": [
    "# .groupby('pricing').count().plot.barh()\n",
    "pricing = data.pricing.fillna('Unspecified').str.replace('[\\[\\'\\]]', '', regex=True).to_frame().reset_index().groupby('pricing').count()\n",
    "\n",
    "pricing.columns = ['count']\n",
    "plot = pricing.plot.barh()\n"
   ]
  },
  {
   "cell_type": "code",
   "execution_count": null,
   "id": "4ffd0a74",
   "metadata": {
    "papermill": {
     "duration": 0.002955,
     "end_time": "2023-12-18T23:40:45.525515",
     "exception": false,
     "start_time": "2023-12-18T23:40:45.522560",
     "status": "completed"
    },
    "tags": []
   },
   "outputs": [],
   "source": []
  }
 ],
 "metadata": {
  "kernelspec": {
   "display_name": "leeds-2023-YZF5GfJv",
   "language": "python",
   "name": "python3"
  },
  "language_info": {
   "codemirror_mode": {
    "name": "ipython",
    "version": 3
   },
   "file_extension": ".py",
   "mimetype": "text/x-python",
   "name": "python",
   "nbconvert_exporter": "python",
   "pygments_lexer": "ipython3",
   "version": "3.10.13"
  },
  "papermill": {
   "default_parameters": {},
   "duration": 10.5196,
   "end_time": "2023-12-18T23:40:45.845354",
   "environment_variables": {},
   "exception": null,
   "input_path": "transform.ipynb",
   "output_path": "../../../working/output/partner-events-transform.ipynb",
   "parameters": {},
   "start_time": "2023-12-18T23:40:35.325754",
   "version": "2.4.0"
  }
 },
 "nbformat": 4,
 "nbformat_minor": 5
}