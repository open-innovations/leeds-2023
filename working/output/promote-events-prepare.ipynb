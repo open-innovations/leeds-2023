{
 "cells": [
  {
   "cell_type": "code",
   "execution_count": 1,
   "id": "62f04402",
   "metadata": {
    "execution": {
     "iopub.execute_input": "2023-07-20T13:29:05.059217Z",
     "iopub.status.busy": "2023-07-20T13:29:05.058387Z",
     "iopub.status.idle": "2023-07-20T13:29:05.364398Z",
     "shell.execute_reply": "2023-07-20T13:29:05.363516Z"
    },
    "papermill": {
     "duration": 0.313972,
     "end_time": "2023-07-20T13:29:05.366961",
     "exception": false,
     "start_time": "2023-07-20T13:29:05.052989",
     "status": "completed"
    },
    "tags": []
   },
   "outputs": [],
   "source": [
    "import os\n",
    "import pandas as pd"
   ]
  },
  {
   "cell_type": "code",
   "execution_count": 2,
   "id": "4e0e80bb",
   "metadata": {
    "execution": {
     "iopub.execute_input": "2023-07-20T13:29:05.372721Z",
     "iopub.status.busy": "2023-07-20T13:29:05.372223Z",
     "iopub.status.idle": "2023-07-20T13:29:05.376804Z",
     "shell.execute_reply": "2023-07-20T13:29:05.375906Z"
    },
    "papermill": {
     "duration": 0.00974,
     "end_time": "2023-07-20T13:29:05.379018",
     "exception": false,
     "start_time": "2023-07-20T13:29:05.369278",
     "status": "completed"
    },
    "tags": []
   },
   "outputs": [],
   "source": [
    "DATA_DIR='../../../docs/metrics/events/promote/_data/'\n",
    "os.makedirs(DATA_DIR, exist_ok=True)"
   ]
  },
  {
   "cell_type": "code",
   "execution_count": 3,
   "id": "4907da42",
   "metadata": {
    "execution": {
     "iopub.execute_input": "2023-07-20T13:29:05.384364Z",
     "iopub.status.busy": "2023-07-20T13:29:05.383650Z",
     "iopub.status.idle": "2023-07-20T13:29:05.395926Z",
     "shell.execute_reply": "2023-07-20T13:29:05.395120Z"
    },
    "papermill": {
     "duration": 0.017216,
     "end_time": "2023-07-20T13:29:05.398106",
     "exception": false,
     "start_time": "2023-07-20T13:29:05.380890",
     "status": "completed"
    },
    "tags": []
   },
   "outputs": [],
   "source": [
    "data = pd.read_csv('../../../data/metrics/events/promote-events/events.csv', parse_dates=['time'])"
   ]
  },
  {
   "cell_type": "code",
   "execution_count": 4,
   "id": "ad8459ae",
   "metadata": {
    "execution": {
     "iopub.execute_input": "2023-07-20T13:29:05.403452Z",
     "iopub.status.busy": "2023-07-20T13:29:05.403054Z",
     "iopub.status.idle": "2023-07-20T13:29:05.409450Z",
     "shell.execute_reply": "2023-07-20T13:29:05.408687Z"
    },
    "papermill": {
     "duration": 0.011291,
     "end_time": "2023-07-20T13:29:05.411313",
     "exception": false,
     "start_time": "2023-07-20T13:29:05.400022",
     "status": "completed"
    },
    "tags": []
   },
   "outputs": [],
   "source": [
    "pd.Series({\n",
    "    'total_events': len(data.id.unique()),\n",
    "    'total_event_instances': len(data.time),\n",
    "    'earliest_event': data.time.min(),\n",
    "    'latest_event': data.time.max(),\n",
    "}).to_json(\n",
    "    os.path.join(DATA_DIR, 'headlines.json'),\n",
    "    date_format='iso', indent=2\n",
    ")"
   ]
  },
  {
   "cell_type": "code",
   "execution_count": 5,
   "id": "3833e2fd",
   "metadata": {
    "execution": {
     "iopub.execute_input": "2023-07-20T13:29:05.416667Z",
     "iopub.status.busy": "2023-07-20T13:29:05.415767Z",
     "iopub.status.idle": "2023-07-20T13:29:05.426099Z",
     "shell.execute_reply": "2023-07-20T13:29:05.425340Z"
    },
    "papermill": {
     "duration": 0.014794,
     "end_time": "2023-07-20T13:29:05.427956",
     "exception": false,
     "start_time": "2023-07-20T13:29:05.413162",
     "status": "completed"
    },
    "tags": []
   },
   "outputs": [],
   "source": [
    "events = pd.DataFrame({\n",
    "    'events': data.groupby('id').agg({ 'time': 'min' }).reset_index().groupby('time').id.count(),\n",
    "    'event_instances': data.groupby('time').id.count(),\n",
    "}).fillna(0).astype(int)"
   ]
  },
  {
   "cell_type": "code",
   "execution_count": 6,
   "id": "13d20aef",
   "metadata": {
    "execution": {
     "iopub.execute_input": "2023-07-20T13:29:05.433046Z",
     "iopub.status.busy": "2023-07-20T13:29:05.432579Z",
     "iopub.status.idle": "2023-07-20T13:29:05.437301Z",
     "shell.execute_reply": "2023-07-20T13:29:05.436110Z"
    },
    "papermill": {
     "duration": 0.009549,
     "end_time": "2023-07-20T13:29:05.439404",
     "exception": false,
     "start_time": "2023-07-20T13:29:05.429855",
     "status": "completed"
    },
    "tags": []
   },
   "outputs": [],
   "source": [
    "def cumulate(data):\n",
    "    return pd.concat([\n",
    "        data,\n",
    "        data.cumsum().rename(columns=lambda c: f'cumulative_{c}')\n",
    "    ], axis=1)"
   ]
  },
  {
   "cell_type": "code",
   "execution_count": 7,
   "id": "4b072c5d",
   "metadata": {
    "execution": {
     "iopub.execute_input": "2023-07-20T13:29:05.445346Z",
     "iopub.status.busy": "2023-07-20T13:29:05.444542Z",
     "iopub.status.idle": "2023-07-20T13:29:05.456557Z",
     "shell.execute_reply": "2023-07-20T13:29:05.455616Z"
    },
    "papermill": {
     "duration": 0.017122,
     "end_time": "2023-07-20T13:29:05.458509",
     "exception": false,
     "start_time": "2023-07-20T13:29:05.441387",
     "status": "completed"
    },
    "tags": []
   },
   "outputs": [],
   "source": [
    "events.resample('W-FRI').sum().pipe(cumulate).to_csv(os.path.join(DATA_DIR, 'by_week.csv'))"
   ]
  },
  {
   "cell_type": "code",
   "execution_count": 8,
   "id": "ab405a4b",
   "metadata": {
    "execution": {
     "iopub.execute_input": "2023-07-20T13:29:05.464322Z",
     "iopub.status.busy": "2023-07-20T13:29:05.463588Z",
     "iopub.status.idle": "2023-07-20T13:29:05.484310Z",
     "shell.execute_reply": "2023-07-20T13:29:05.483397Z"
    },
    "papermill": {
     "duration": 0.025588,
     "end_time": "2023-07-20T13:29:05.486305",
     "exception": false,
     "start_time": "2023-07-20T13:29:05.460717",
     "status": "completed"
    },
    "tags": []
   },
   "outputs": [],
   "source": [
    "events.resample('MS').sum().pipe(cumulate).to_csv(os.path.join(DATA_DIR, 'by_month.csv'))"
   ]
  },
  {
   "cell_type": "code",
   "execution_count": null,
   "id": "3e863fcc",
   "metadata": {
    "papermill": {
     "duration": 0.002157,
     "end_time": "2023-07-20T13:29:05.491331",
     "exception": false,
     "start_time": "2023-07-20T13:29:05.489174",
     "status": "completed"
    },
    "tags": []
   },
   "outputs": [],
   "source": []
  }
 ],
 "metadata": {
  "kernelspec": {
   "display_name": "leeds-2023-YZF5GfJv",
   "language": "python",
   "name": "python3"
  },
  "language_info": {
   "codemirror_mode": {
    "name": "ipython",
    "version": 3
   },
   "file_extension": ".py",
   "mimetype": "text/x-python",
   "name": "python",
   "nbconvert_exporter": "python",
   "pygments_lexer": "ipython3",
   "version": "3.10.6"
  },
  "papermill": {
   "default_parameters": {},
   "duration": 2.094411,
   "end_time": "2023-07-20T13:29:05.812176",
   "environment_variables": {},
   "exception": null,
   "input_path": "prepare.ipynb",
   "output_path": "../../../working/output/promote-events-prepare.ipynb",
   "parameters": {},
   "start_time": "2023-07-20T13:29:03.717765",
   "version": "2.4.0"
  }
 },
 "nbformat": 4,
 "nbformat_minor": 5
}