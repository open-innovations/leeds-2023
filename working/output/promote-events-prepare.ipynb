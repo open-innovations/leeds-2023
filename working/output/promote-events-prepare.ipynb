{
 "cells": [
  {
   "cell_type": "code",
   "execution_count": 1,
   "id": "f275480f",
   "metadata": {
    "execution": {
     "iopub.execute_input": "2023-07-24T23:39:04.424466Z",
     "iopub.status.busy": "2023-07-24T23:39:04.423872Z",
     "iopub.status.idle": "2023-07-24T23:39:04.679047Z",
     "shell.execute_reply": "2023-07-24T23:39:04.678213Z"
    },
    "papermill": {
     "duration": 0.261498,
     "end_time": "2023-07-24T23:39:04.681372",
     "exception": false,
     "start_time": "2023-07-24T23:39:04.419874",
     "status": "completed"
    },
    "tags": []
   },
   "outputs": [],
   "source": [
    "import os\n",
    "import pandas as pd"
   ]
  },
  {
   "cell_type": "code",
   "execution_count": 2,
   "id": "fc0af60f",
   "metadata": {
    "execution": {
     "iopub.execute_input": "2023-07-24T23:39:04.686365Z",
     "iopub.status.busy": "2023-07-24T23:39:04.686046Z",
     "iopub.status.idle": "2023-07-24T23:39:04.689355Z",
     "shell.execute_reply": "2023-07-24T23:39:04.688742Z"
    },
    "papermill": {
     "duration": 0.007533,
     "end_time": "2023-07-24T23:39:04.690886",
     "exception": false,
     "start_time": "2023-07-24T23:39:04.683353",
     "status": "completed"
    },
    "tags": []
   },
   "outputs": [],
   "source": [
    "DATA_DIR='../../../docs/metrics/events/promote/_data/'\n",
    "os.makedirs(DATA_DIR, exist_ok=True)"
   ]
  },
  {
   "cell_type": "code",
   "execution_count": 3,
   "id": "f51135a8",
   "metadata": {
    "execution": {
     "iopub.execute_input": "2023-07-24T23:39:04.695289Z",
     "iopub.status.busy": "2023-07-24T23:39:04.694765Z",
     "iopub.status.idle": "2023-07-24T23:39:04.704809Z",
     "shell.execute_reply": "2023-07-24T23:39:04.704220Z"
    },
    "papermill": {
     "duration": 0.014003,
     "end_time": "2023-07-24T23:39:04.706475",
     "exception": false,
     "start_time": "2023-07-24T23:39:04.692472",
     "status": "completed"
    },
    "tags": []
   },
   "outputs": [],
   "source": [
    "data = pd.read_csv('../../../data/metrics/events/promote-events/events.csv', parse_dates=['time'])"
   ]
  },
  {
   "cell_type": "code",
   "execution_count": 4,
   "id": "da86f07b",
   "metadata": {
    "execution": {
     "iopub.execute_input": "2023-07-24T23:39:04.711164Z",
     "iopub.status.busy": "2023-07-24T23:39:04.710737Z",
     "iopub.status.idle": "2023-07-24T23:39:04.716386Z",
     "shell.execute_reply": "2023-07-24T23:39:04.715774Z"
    },
    "papermill": {
     "duration": 0.009684,
     "end_time": "2023-07-24T23:39:04.717874",
     "exception": false,
     "start_time": "2023-07-24T23:39:04.708190",
     "status": "completed"
    },
    "tags": []
   },
   "outputs": [],
   "source": [
    "pd.Series({\n",
    "    'total_events': len(data.id.unique()),\n",
    "    'total_event_instances': len(data.time),\n",
    "    'earliest_event': data.time.min(),\n",
    "    'latest_event': data.time.max(),\n",
    "}).to_json(\n",
    "    os.path.join(DATA_DIR, 'headlines.json'),\n",
    "    date_format='iso', indent=2\n",
    ")"
   ]
  },
  {
   "cell_type": "code",
   "execution_count": 5,
   "id": "8d5434fa",
   "metadata": {
    "execution": {
     "iopub.execute_input": "2023-07-24T23:39:04.722226Z",
     "iopub.status.busy": "2023-07-24T23:39:04.721987Z",
     "iopub.status.idle": "2023-07-24T23:39:04.729800Z",
     "shell.execute_reply": "2023-07-24T23:39:04.729241Z"
    },
    "papermill": {
     "duration": 0.011879,
     "end_time": "2023-07-24T23:39:04.731398",
     "exception": false,
     "start_time": "2023-07-24T23:39:04.719519",
     "status": "completed"
    },
    "tags": []
   },
   "outputs": [],
   "source": [
    "events = pd.DataFrame({\n",
    "    'events': data.groupby('id').agg({ 'time': 'min' }).reset_index().groupby('time').id.count(),\n",
    "    'event_instances': data.groupby('time').id.count(),\n",
    "}).fillna(0).astype(int)"
   ]
  },
  {
   "cell_type": "code",
   "execution_count": 6,
   "id": "d6cfc962",
   "metadata": {
    "execution": {
     "iopub.execute_input": "2023-07-24T23:39:04.735847Z",
     "iopub.status.busy": "2023-07-24T23:39:04.735627Z",
     "iopub.status.idle": "2023-07-24T23:39:04.738994Z",
     "shell.execute_reply": "2023-07-24T23:39:04.738375Z"
    },
    "papermill": {
     "duration": 0.007436,
     "end_time": "2023-07-24T23:39:04.740513",
     "exception": false,
     "start_time": "2023-07-24T23:39:04.733077",
     "status": "completed"
    },
    "tags": []
   },
   "outputs": [],
   "source": [
    "def cumulate(data):\n",
    "    return pd.concat([\n",
    "        data,\n",
    "        data.cumsum().rename(columns=lambda c: f'cumulative_{c}')\n",
    "    ], axis=1)"
   ]
  },
  {
   "cell_type": "code",
   "execution_count": 7,
   "id": "8ace2b2e",
   "metadata": {
    "execution": {
     "iopub.execute_input": "2023-07-24T23:39:04.744926Z",
     "iopub.status.busy": "2023-07-24T23:39:04.744594Z",
     "iopub.status.idle": "2023-07-24T23:39:04.754758Z",
     "shell.execute_reply": "2023-07-24T23:39:04.754138Z"
    },
    "papermill": {
     "duration": 0.01442,
     "end_time": "2023-07-24T23:39:04.756623",
     "exception": false,
     "start_time": "2023-07-24T23:39:04.742203",
     "status": "completed"
    },
    "tags": []
   },
   "outputs": [],
   "source": [
    "events.resample('W-FRI').sum().pipe(cumulate).to_csv(os.path.join(DATA_DIR, 'by_week.csv'))"
   ]
  },
  {
   "cell_type": "code",
   "execution_count": 8,
   "id": "dc150449",
   "metadata": {
    "execution": {
     "iopub.execute_input": "2023-07-24T23:39:04.762056Z",
     "iopub.status.busy": "2023-07-24T23:39:04.761413Z",
     "iopub.status.idle": "2023-07-24T23:39:04.768402Z",
     "shell.execute_reply": "2023-07-24T23:39:04.767769Z"
    },
    "papermill": {
     "duration": 0.011378,
     "end_time": "2023-07-24T23:39:04.769976",
     "exception": false,
     "start_time": "2023-07-24T23:39:04.758598",
     "status": "completed"
    },
    "tags": []
   },
   "outputs": [],
   "source": [
    "events.resample('MS').sum().pipe(cumulate).to_csv(os.path.join(DATA_DIR, 'by_month.csv'))"
   ]
  },
  {
   "cell_type": "code",
   "execution_count": null,
   "id": "3fc1a636",
   "metadata": {
    "papermill": {
     "duration": 0.001754,
     "end_time": "2023-07-24T23:39:04.773596",
     "exception": false,
     "start_time": "2023-07-24T23:39:04.771842",
     "status": "completed"
    },
    "tags": []
   },
   "outputs": [],
   "source": []
  }
 ],
 "metadata": {
  "kernelspec": {
   "display_name": "leeds-2023-YZF5GfJv",
   "language": "python",
   "name": "python3"
  },
  "language_info": {
   "codemirror_mode": {
    "name": "ipython",
    "version": 3
   },
   "file_extension": ".py",
   "mimetype": "text/x-python",
   "name": "python",
   "nbconvert_exporter": "python",
   "pygments_lexer": "ipython3",
   "version": "3.10.6"
  },
  "papermill": {
   "default_parameters": {},
   "duration": 1.922775,
   "end_time": "2023-07-24T23:39:04.992571",
   "environment_variables": {},
   "exception": null,
   "input_path": "prepare.ipynb",
   "output_path": "../../../working/output/promote-events-prepare.ipynb",
   "parameters": {},
   "start_time": "2023-07-24T23:39:03.069796",
   "version": "2.4.0"
  }
 },
 "nbformat": 4,
 "nbformat_minor": 5
}