{
 "cells": [
  {
   "cell_type": "code",
   "execution_count": 1,
   "id": "936d6aa4",
   "metadata": {
    "execution": {
     "iopub.execute_input": "2023-10-30T12:25:28.634077Z",
     "iopub.status.busy": "2023-10-30T12:25:28.633437Z",
     "iopub.status.idle": "2023-10-30T12:25:41.609901Z",
     "shell.execute_reply": "2023-10-30T12:25:41.609003Z"
    },
    "papermill": {
     "duration": 12.984136,
     "end_time": "2023-10-30T12:25:41.612379",
     "exception": false,
     "start_time": "2023-10-30T12:25:28.628243",
     "status": "completed"
    },
    "tags": []
   },
   "outputs": [],
   "source": [
    "import os\n",
    "import pandas as pd\n",
    "from events import load_event_data, get_first_ward, normalise_ward"
   ]
  },
  {
   "cell_type": "code",
   "execution_count": 2,
   "id": "7dfcea1d",
   "metadata": {
    "execution": {
     "iopub.execute_input": "2023-10-30T12:25:41.621547Z",
     "iopub.status.busy": "2023-10-30T12:25:41.619902Z",
     "iopub.status.idle": "2023-10-30T12:25:41.625663Z",
     "shell.execute_reply": "2023-10-30T12:25:41.624896Z"
    },
    "papermill": {
     "duration": 0.01192,
     "end_time": "2023-10-30T12:25:41.627516",
     "exception": false,
     "start_time": "2023-10-30T12:25:41.615596",
     "status": "completed"
    },
    "tags": []
   },
   "outputs": [],
   "source": [
    "latest_date = pd.Timestamp.today().ceil('D')"
   ]
  },
  {
   "cell_type": "code",
   "execution_count": 3,
   "id": "8a7c982c",
   "metadata": {
    "execution": {
     "iopub.execute_input": "2023-10-30T12:25:41.634645Z",
     "iopub.status.busy": "2023-10-30T12:25:41.634005Z",
     "iopub.status.idle": "2023-10-30T12:25:41.654831Z",
     "shell.execute_reply": "2023-10-30T12:25:41.654073Z"
    },
    "papermill": {
     "duration": 0.026848,
     "end_time": "2023-10-30T12:25:41.657174",
     "exception": false,
     "start_time": "2023-10-30T12:25:41.630326",
     "status": "completed"
    },
    "tags": []
   },
   "outputs": [],
   "source": [
    "tickets = pd.read_csv('../../../../data/metrics/events/tickets/orders.csv', parse_dates=['created_at', 'event_date'])\n",
    "tickets = tickets[tickets.event_date <= latest_date]"
   ]
  },
  {
   "cell_type": "code",
   "execution_count": 4,
   "id": "e953277b",
   "metadata": {
    "execution": {
     "iopub.execute_input": "2023-10-30T12:25:41.664897Z",
     "iopub.status.busy": "2023-10-30T12:25:41.664616Z",
     "iopub.status.idle": "2023-10-30T12:25:41.725508Z",
     "shell.execute_reply": "2023-10-30T12:25:41.724468Z"
    },
    "papermill": {
     "duration": 0.067879,
     "end_time": "2023-10-30T12:25:41.728032",
     "exception": false,
     "start_time": "2023-10-30T12:25:41.660153",
     "status": "completed"
    },
    "tags": []
   },
   "outputs": [],
   "source": [
    "events = load_event_data()\n",
    "\n",
    "events = pd.concat([\n",
    "  events,\n",
    "  events.pipe(get_first_ward).pipe(normalise_ward).fillna('UNKNOWN'),\n",
    "  pd.Series(\n",
    "      events.actual_audience_size_number_of_participants_in_person + events.actual_audience_size_number_of_participants_online,\n",
    "      name='attendances'\n",
    "  )\n",
    "], axis=1).rename(columns={\n",
    "    'start_date': 'date'\n",
    "}).loc[:, ['ward_code', 'date', 'event_unique_identifier', 'attendances']]"
   ]
  },
  {
   "cell_type": "code",
   "execution_count": 5,
   "id": "3b298509",
   "metadata": {
    "execution": {
     "iopub.execute_input": "2023-10-30T12:25:41.737399Z",
     "iopub.status.busy": "2023-10-30T12:25:41.736548Z",
     "iopub.status.idle": "2023-10-30T12:25:41.740977Z",
     "shell.execute_reply": "2023-10-30T12:25:41.740157Z"
    },
    "papermill": {
     "duration": 0.011195,
     "end_time": "2023-10-30T12:25:41.742951",
     "exception": false,
     "start_time": "2023-10-30T12:25:41.731756",
     "status": "completed"
    },
    "tags": []
   },
   "outputs": [],
   "source": [
    "OUTPUT_DIR='../../../../docs/metrics/events/signature/_data/'\n",
    "os.makedirs(OUTPUT_DIR, exist_ok=True)"
   ]
  },
  {
   "cell_type": "markdown",
   "id": "0cc3c8c7",
   "metadata": {
    "papermill": {
     "duration": 0.002836,
     "end_time": "2023-10-30T12:25:41.748721",
     "exception": false,
     "start_time": "2023-10-30T12:25:41.745885",
     "status": "completed"
    },
    "tags": []
   },
   "source": [
    "Events CSVs"
   ]
  },
  {
   "cell_type": "code",
   "execution_count": 6,
   "id": "6013f531",
   "metadata": {
    "execution": {
     "iopub.execute_input": "2023-10-30T12:25:41.755649Z",
     "iopub.status.busy": "2023-10-30T12:25:41.755290Z",
     "iopub.status.idle": "2023-10-30T12:25:41.763494Z",
     "shell.execute_reply": "2023-10-30T12:25:41.762793Z"
    },
    "papermill": {
     "duration": 0.013816,
     "end_time": "2023-10-30T12:25:41.765339",
     "exception": false,
     "start_time": "2023-10-30T12:25:41.751523",
     "status": "completed"
    },
    "tags": []
   },
   "outputs": [],
   "source": [
    "pd.DataFrame({\n",
    "  'events': events.groupby('ward_code').event_unique_identifier.count(),\n",
    "  'attendances': events.groupby('ward_code').attendances.sum().astype(int),\n",
    "}).to_csv(os.path.join(OUTPUT_DIR, 'events_by_ward.csv'))\n"
   ]
  },
  {
   "cell_type": "code",
   "execution_count": 7,
   "id": "ec11991d",
   "metadata": {
    "execution": {
     "iopub.execute_input": "2023-10-30T12:25:41.772520Z",
     "iopub.status.busy": "2023-10-30T12:25:41.772000Z",
     "iopub.status.idle": "2023-10-30T12:25:41.782960Z",
     "shell.execute_reply": "2023-10-30T12:25:41.782212Z"
    },
    "papermill": {
     "duration": 0.016652,
     "end_time": "2023-10-30T12:25:41.784812",
     "exception": false,
     "start_time": "2023-10-30T12:25:41.768160",
     "status": "completed"
    },
    "tags": []
   },
   "outputs": [],
   "source": [
    "pd.DataFrame({\n",
    "  'events': events.groupby('date').event_unique_identifier.count(),\n",
    "  'attendances': events.groupby('date').attendances.sum().astype(int),\n",
    "}).resample('M').sum().astype(int).to_csv(os.path.join(OUTPUT_DIR, 'events_by_date.csv'))"
   ]
  },
  {
   "cell_type": "markdown",
   "id": "4801d911",
   "metadata": {
    "papermill": {
     "duration": 0.002854,
     "end_time": "2023-10-30T12:25:41.791635",
     "exception": false,
     "start_time": "2023-10-30T12:25:41.788781",
     "status": "completed"
    },
    "tags": []
   },
   "source": [
    "Tickets CSV"
   ]
  },
  {
   "cell_type": "code",
   "execution_count": 8,
   "id": "a13d419d",
   "metadata": {
    "execution": {
     "iopub.execute_input": "2023-10-30T12:25:41.798910Z",
     "iopub.status.busy": "2023-10-30T12:25:41.798406Z",
     "iopub.status.idle": "2023-10-30T12:25:41.807211Z",
     "shell.execute_reply": "2023-10-30T12:25:41.806471Z"
    },
    "papermill": {
     "duration": 0.014515,
     "end_time": "2023-10-30T12:25:41.809051",
     "exception": false,
     "start_time": "2023-10-30T12:25:41.794536",
     "status": "completed"
    },
    "tags": []
   },
   "outputs": [],
   "source": [
    "pd.DataFrame({\n",
    "  'orders': tickets.groupby('ward_code').number_of_tickets.count(),\n",
    "  'tickets': tickets.groupby('ward_code').number_of_tickets.sum().astype(int),\n",
    "}).to_csv(os.path.join(OUTPUT_DIR, 'tickets_by_ward.csv'))"
   ]
  },
  {
   "cell_type": "code",
   "execution_count": 9,
   "id": "57a2ae58",
   "metadata": {
    "execution": {
     "iopub.execute_input": "2023-10-30T12:25:41.816660Z",
     "iopub.status.busy": "2023-10-30T12:25:41.815865Z",
     "iopub.status.idle": "2023-10-30T12:25:41.825662Z",
     "shell.execute_reply": "2023-10-30T12:25:41.824917Z"
    },
    "papermill": {
     "duration": 0.015522,
     "end_time": "2023-10-30T12:25:41.827464",
     "exception": false,
     "start_time": "2023-10-30T12:25:41.811942",
     "status": "completed"
    },
    "tags": []
   },
   "outputs": [],
   "source": [
    "pd.DataFrame({\n",
    "  'orders': tickets.groupby('event_date').number_of_tickets.count(),\n",
    "  'tickets': tickets.groupby('event_date').number_of_tickets.sum().astype(int),\n",
    "}).resample('M').sum().to_csv(os.path.join(OUTPUT_DIR, 'tickets_by_event_date.csv'))"
   ]
  },
  {
   "cell_type": "code",
   "execution_count": 10,
   "id": "47f2397e",
   "metadata": {
    "execution": {
     "iopub.execute_input": "2023-10-30T12:25:41.835104Z",
     "iopub.status.busy": "2023-10-30T12:25:41.834415Z",
     "iopub.status.idle": "2023-10-30T12:25:41.840563Z",
     "shell.execute_reply": "2023-10-30T12:25:41.839794Z"
    },
    "papermill": {
     "duration": 0.011813,
     "end_time": "2023-10-30T12:25:41.842351",
     "exception": false,
     "start_time": "2023-10-30T12:25:41.830538",
     "status": "completed"
    },
    "tags": []
   },
   "outputs": [],
   "source": [
    "pd.Series({\n",
    "    'total_events': events.event_unique_identifier.count(),\n",
    "    'total_attendances': events.attendances.count(),\n",
    "    'first_event': events.date.min(),\n",
    "    'latest_event': events.date.max(),\n",
    "    'total_ticket_orders_for_events_to_date': tickets.number_of_tickets.count(),\n",
    "    'total_tickets_sold_for_events_to_date': tickets.number_of_tickets.sum(),\n",
    "}).to_json(os.path.join(OUTPUT_DIR, 'headlines.json'), indent=2)"
   ]
  },
  {
   "cell_type": "code",
   "execution_count": null,
   "id": "cf216533",
   "metadata": {
    "papermill": {
     "duration": 0.003241,
     "end_time": "2023-10-30T12:25:41.848909",
     "exception": false,
     "start_time": "2023-10-30T12:25:41.845668",
     "status": "completed"
    },
    "tags": []
   },
   "outputs": [],
   "source": []
  }
 ],
 "metadata": {
  "kernelspec": {
   "display_name": "leeds-2023-YZF5GfJv",
   "language": "python",
   "name": "python3"
  },
  "language_info": {
   "codemirror_mode": {
    "name": "ipython",
    "version": 3
   },
   "file_extension": ".py",
   "mimetype": "text/x-python",
   "name": "python",
   "nbconvert_exporter": "python",
   "pygments_lexer": "ipython3",
   "version": "3.10.13"
  },
  "papermill": {
   "default_parameters": {},
   "duration": 15.254309,
   "end_time": "2023-10-30T12:25:42.271580",
   "environment_variables": {},
   "exception": null,
   "input_path": "prepare.ipynb",
   "output_path": "../../../../working/output/signature-prepare.ipynb",
   "parameters": {},
   "start_time": "2023-10-30T12:25:27.017271",
   "version": "2.4.0"
  }
 },
 "nbformat": 4,
 "nbformat_minor": 5
}