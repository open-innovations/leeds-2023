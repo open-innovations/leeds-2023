{
 "cells": [
  {
   "cell_type": "code",
   "execution_count": 1,
   "id": "650d0b49",
   "metadata": {
    "execution": {
     "iopub.execute_input": "2023-12-18T23:39:10.148013Z",
     "iopub.status.busy": "2023-12-18T23:39:10.147738Z",
     "iopub.status.idle": "2023-12-18T23:39:10.389223Z",
     "shell.execute_reply": "2023-12-18T23:39:10.388503Z"
    },
    "papermill": {
     "duration": 0.246871,
     "end_time": "2023-12-18T23:39:10.390919",
     "exception": false,
     "start_time": "2023-12-18T23:39:10.144048",
     "status": "completed"
    },
    "tags": []
   },
   "outputs": [],
   "source": [
    "from pathlib import Path\n",
    "import pandas as pd"
   ]
  },
  {
   "cell_type": "markdown",
   "id": "4f21bf05",
   "metadata": {
    "papermill": {
     "duration": 0.001952,
     "end_time": "2023-12-18T23:39:10.395244",
     "exception": false,
     "start_time": "2023-12-18T23:39:10.393292",
     "status": "completed"
    },
    "tags": []
   },
   "source": [
    "Load the orders data which was created in the [transform stage](./tickets.ipynb)."
   ]
  },
  {
   "cell_type": "code",
   "execution_count": 2,
   "id": "4b343837",
   "metadata": {
    "execution": {
     "iopub.execute_input": "2023-12-18T23:39:10.400283Z",
     "iopub.status.busy": "2023-12-18T23:39:10.399867Z",
     "iopub.status.idle": "2023-12-18T23:39:10.417944Z",
     "shell.execute_reply": "2023-12-18T23:39:10.417290Z"
    },
    "papermill": {
     "duration": 0.02202,
     "end_time": "2023-12-18T23:39:10.419270",
     "exception": false,
     "start_time": "2023-12-18T23:39:10.397250",
     "status": "completed"
    },
    "tags": []
   },
   "outputs": [],
   "source": [
    "def prepare(data: pd.DataFrame) -> pd.DataFrame:\n",
    "    data = data.loc[\n",
    "        (\n",
    "            data.public_event == True\n",
    "        ) & (\n",
    "            ~data.project_name.isin([\n",
    "                'Skills Development',\n",
    "            ])\n",
    "        )\n",
    "    ]\n",
    "    data = data.drop(columns=['public_event'])\n",
    "    return data\n",
    "\n",
    "\n",
    "orders = pd.read_csv(\n",
    "    '../../../../data/metrics/events/tickets/orders.csv',\n",
    "    usecols=[\n",
    "        'created_at',\n",
    "        'project_name',\n",
    "        'public_event',\n",
    "        'number_of_tickets'\n",
    "    ],\n",
    "    parse_dates=['created_at']\n",
    ").pipe(prepare)"
   ]
  },
  {
   "cell_type": "markdown",
   "id": "2b9ef00d",
   "metadata": {
    "papermill": {
     "duration": 0.001907,
     "end_time": "2023-12-18T23:39:10.423204",
     "exception": false,
     "start_time": "2023-12-18T23:39:10.421297",
     "status": "completed"
    },
    "tags": []
   },
   "source": [
    "Define functions to count and sum tickets, and to append cumulative versions of those."
   ]
  },
  {
   "cell_type": "code",
   "execution_count": 3,
   "id": "d47c2c5f",
   "metadata": {
    "execution": {
     "iopub.execute_input": "2023-12-18T23:39:10.428194Z",
     "iopub.status.busy": "2023-12-18T23:39:10.427829Z",
     "iopub.status.idle": "2023-12-18T23:39:10.431798Z",
     "shell.execute_reply": "2023-12-18T23:39:10.431185Z"
    },
    "papermill": {
     "duration": 0.007935,
     "end_time": "2023-12-18T23:39:10.433108",
     "exception": false,
     "start_time": "2023-12-18T23:39:10.425173",
     "status": "completed"
    },
    "tags": []
   },
   "outputs": [],
   "source": [
    "def count_and_sum(series):\n",
    "    return pd.concat([\n",
    "        series.count().to_frame('orders'),\n",
    "        series.sum().to_frame('tickets'),\n",
    "    ], axis=1)\n",
    "\n",
    "\n",
    "def cumulate(df: pd.DataFrame) -> pd.DataFrame:\n",
    "    return pd.concat([\n",
    "        df,\n",
    "        df.cumsum().rename(columns=lambda x: f'cumulative_{x}')\n",
    "    ], axis=1)"
   ]
  },
  {
   "cell_type": "markdown",
   "id": "0d34e803",
   "metadata": {
    "papermill": {
     "duration": 0.001981,
     "end_time": "2023-12-18T23:39:10.437100",
     "exception": false,
     "start_time": "2023-12-18T23:39:10.435119",
     "status": "completed"
    },
    "tags": []
   },
   "source": [
    "Create output directory"
   ]
  },
  {
   "cell_type": "code",
   "execution_count": 4,
   "id": "da87087f",
   "metadata": {
    "execution": {
     "iopub.execute_input": "2023-12-18T23:39:10.442160Z",
     "iopub.status.busy": "2023-12-18T23:39:10.441691Z",
     "iopub.status.idle": "2023-12-18T23:39:10.445017Z",
     "shell.execute_reply": "2023-12-18T23:39:10.444346Z"
    },
    "papermill": {
     "duration": 0.007287,
     "end_time": "2023-12-18T23:39:10.446343",
     "exception": false,
     "start_time": "2023-12-18T23:39:10.439056",
     "status": "completed"
    },
    "tags": []
   },
   "outputs": [],
   "source": [
    "OUTPUT_DIR = Path('../../../../docs/metrics/tickets/_data/')\n",
    "OUTPUT_DIR.mkdir(parents=True, exist_ok=True)"
   ]
  },
  {
   "cell_type": "markdown",
   "id": "491d6475",
   "metadata": {
    "papermill": {
     "duration": 0.001962,
     "end_time": "2023-12-18T23:39:10.451073",
     "exception": false,
     "start_time": "2023-12-18T23:39:10.449111",
     "status": "completed"
    },
    "tags": []
   },
   "source": [
    "Count / sum the orders and tickets by project code and save to a JSON file"
   ]
  },
  {
   "cell_type": "code",
   "execution_count": 5,
   "id": "ad1efe21",
   "metadata": {
    "execution": {
     "iopub.execute_input": "2023-12-18T23:39:10.456036Z",
     "iopub.status.busy": "2023-12-18T23:39:10.455687Z",
     "iopub.status.idle": "2023-12-18T23:39:10.462104Z",
     "shell.execute_reply": "2023-12-18T23:39:10.461496Z"
    },
    "papermill": {
     "duration": 0.010259,
     "end_time": "2023-12-18T23:39:10.463318",
     "exception": false,
     "start_time": "2023-12-18T23:39:10.453059",
     "status": "completed"
    },
    "tags": []
   },
   "outputs": [],
   "source": [
    "by_project = orders.groupby('project_name').number_of_tickets.pipe(count_and_sum)\n",
    "by_project.loc['total']= by_project.sum()\n",
    "by_project.T.to_json(\n",
    "  OUTPUT_DIR.joinpath('headlines.json'),\n",
    "  indent=2\n",
    ")"
   ]
  },
  {
   "cell_type": "markdown",
   "id": "42fbf4e8",
   "metadata": {
    "papermill": {
     "duration": 0.002014,
     "end_time": "2023-12-18T23:39:10.467445",
     "exception": false,
     "start_time": "2023-12-18T23:39:10.465431",
     "status": "completed"
    },
    "tags": []
   },
   "source": [
    "Add `week` and `month` columns"
   ]
  },
  {
   "cell_type": "code",
   "execution_count": 6,
   "id": "239ac528",
   "metadata": {
    "execution": {
     "iopub.execute_input": "2023-12-18T23:39:10.472407Z",
     "iopub.status.busy": "2023-12-18T23:39:10.472074Z",
     "iopub.status.idle": "2023-12-18T23:39:10.478053Z",
     "shell.execute_reply": "2023-12-18T23:39:10.477418Z"
    },
    "papermill": {
     "duration": 0.009957,
     "end_time": "2023-12-18T23:39:10.479446",
     "exception": false,
     "start_time": "2023-12-18T23:39:10.469489",
     "status": "completed"
    },
    "tags": []
   },
   "outputs": [],
   "source": [
    "orders['week'] = orders.created_at.dt.to_period('W-FRI').dt.to_timestamp()\n",
    "orders['month'] = orders.created_at.dt.to_period('M').dt.to_timestamp()"
   ]
  },
  {
   "cell_type": "markdown",
   "id": "685c1e6b",
   "metadata": {
    "papermill": {
     "duration": 0.00206,
     "end_time": "2023-12-18T23:39:10.483661",
     "exception": false,
     "start_time": "2023-12-18T23:39:10.481601",
     "status": "completed"
    },
    "tags": []
   },
   "source": [
    "Save table cumulative weekly per project"
   ]
  },
  {
   "cell_type": "code",
   "execution_count": 7,
   "id": "d01d0c58",
   "metadata": {
    "execution": {
     "iopub.execute_input": "2023-12-18T23:39:10.489031Z",
     "iopub.status.busy": "2023-12-18T23:39:10.488578Z",
     "iopub.status.idle": "2023-12-18T23:39:10.496100Z",
     "shell.execute_reply": "2023-12-18T23:39:10.495485Z"
    },
    "papermill": {
     "duration": 0.01173,
     "end_time": "2023-12-18T23:39:10.497537",
     "exception": false,
     "start_time": "2023-12-18T23:39:10.485807",
     "status": "completed"
    },
    "tags": []
   },
   "outputs": [],
   "source": [
    "orders.groupby(\n",
    "  ['week', 'project_name']\n",
    ").number_of_tickets.pipe(\n",
    "  count_and_sum\n",
    ").tickets.unstack().fillna(0).cumsum().to_csv(\n",
    "  OUTPUT_DIR.joinpath('by_project_cumulative_weekly.csv')\n",
    ")"
   ]
  },
  {
   "cell_type": "markdown",
   "id": "bc892f17",
   "metadata": {
    "papermill": {
     "duration": 0.002114,
     "end_time": "2023-12-18T23:39:10.501915",
     "exception": false,
     "start_time": "2023-12-18T23:39:10.499801",
     "status": "completed"
    },
    "tags": []
   },
   "source": [
    "Save cumulative monthly sales"
   ]
  },
  {
   "cell_type": "code",
   "execution_count": 8,
   "id": "19593ddb",
   "metadata": {
    "execution": {
     "iopub.execute_input": "2023-12-18T23:39:10.507197Z",
     "iopub.status.busy": "2023-12-18T23:39:10.506848Z",
     "iopub.status.idle": "2023-12-18T23:39:10.512681Z",
     "shell.execute_reply": "2023-12-18T23:39:10.512013Z"
    },
    "papermill": {
     "duration": 0.01008,
     "end_time": "2023-12-18T23:39:10.514083",
     "exception": false,
     "start_time": "2023-12-18T23:39:10.504003",
     "status": "completed"
    },
    "tags": []
   },
   "outputs": [],
   "source": [
    "orders.groupby(['month']).number_of_tickets.pipe(count_and_sum).pipe(cumulate).to_csv(\n",
    "  OUTPUT_DIR.joinpath('monthly_cumulative.csv')\n",
    ")"
   ]
  }
 ],
 "metadata": {
  "kernelspec": {
   "display_name": "leeds-2023-YZF5GfJv",
   "language": "python",
   "name": "python3"
  },
  "language_info": {
   "codemirror_mode": {
    "name": "ipython",
    "version": 3
   },
   "file_extension": ".py",
   "mimetype": "text/x-python",
   "name": "python",
   "nbconvert_exporter": "python",
   "pygments_lexer": "ipython3",
   "version": "3.10.13"
  },
  "papermill": {
   "default_parameters": {},
   "duration": 1.840233,
   "end_time": "2023-12-18T23:39:10.732404",
   "environment_variables": {},
   "exception": null,
   "input_path": "prepare.ipynb",
   "output_path": "../../../../working/output/tickets-prepare.ipynb",
   "parameters": {},
   "start_time": "2023-12-18T23:39:08.892171",
   "version": "2.4.0"
  }
 },
 "nbformat": 4,
 "nbformat_minor": 5
}