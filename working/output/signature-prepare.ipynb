{
 "cells": [
  {
   "cell_type": "code",
   "execution_count": 1,
   "id": "006cc7bf",
   "metadata": {
    "execution": {
     "iopub.execute_input": "2023-09-27T23:39:32.941169Z",
     "iopub.status.busy": "2023-09-27T23:39:32.940522Z",
     "iopub.status.idle": "2023-09-27T23:39:42.621426Z",
     "shell.execute_reply": "2023-09-27T23:39:42.620743Z"
    },
    "papermill": {
     "duration": 9.686612,
     "end_time": "2023-09-27T23:39:42.623250",
     "exception": false,
     "start_time": "2023-09-27T23:39:32.936638",
     "status": "completed"
    },
    "tags": []
   },
   "outputs": [],
   "source": [
    "import os\n",
    "import pandas as pd\n",
    "from events import load_event_data, get_first_ward, normalise_ward"
   ]
  },
  {
   "cell_type": "code",
   "execution_count": 2,
   "id": "653a9ffd",
   "metadata": {
    "execution": {
     "iopub.execute_input": "2023-09-27T23:39:42.629465Z",
     "iopub.status.busy": "2023-09-27T23:39:42.629020Z",
     "iopub.status.idle": "2023-09-27T23:39:42.633637Z",
     "shell.execute_reply": "2023-09-27T23:39:42.633050Z"
    },
    "papermill": {
     "duration": 0.009221,
     "end_time": "2023-09-27T23:39:42.635092",
     "exception": false,
     "start_time": "2023-09-27T23:39:42.625871",
     "status": "completed"
    },
    "tags": []
   },
   "outputs": [],
   "source": [
    "latest_date = pd.Timestamp.today().ceil('D')"
   ]
  },
  {
   "cell_type": "code",
   "execution_count": 3,
   "id": "134970fe",
   "metadata": {
    "execution": {
     "iopub.execute_input": "2023-09-27T23:39:42.640735Z",
     "iopub.status.busy": "2023-09-27T23:39:42.640327Z",
     "iopub.status.idle": "2023-09-27T23:39:42.657976Z",
     "shell.execute_reply": "2023-09-27T23:39:42.657390Z"
    },
    "papermill": {
     "duration": 0.022171,
     "end_time": "2023-09-27T23:39:42.659511",
     "exception": false,
     "start_time": "2023-09-27T23:39:42.637340",
     "status": "completed"
    },
    "tags": []
   },
   "outputs": [],
   "source": [
    "tickets = pd.read_csv('../../../../data/metrics/events/tickets/orders.csv', parse_dates=['created_at', 'event_date'])\n",
    "tickets = tickets[tickets.event_date <= latest_date]"
   ]
  },
  {
   "cell_type": "code",
   "execution_count": 4,
   "id": "4b91904b",
   "metadata": {
    "execution": {
     "iopub.execute_input": "2023-09-27T23:39:42.666009Z",
     "iopub.status.busy": "2023-09-27T23:39:42.665414Z",
     "iopub.status.idle": "2023-09-27T23:39:42.888733Z",
     "shell.execute_reply": "2023-09-27T23:39:42.888059Z"
    },
    "papermill": {
     "duration": 0.228245,
     "end_time": "2023-09-27T23:39:42.890576",
     "exception": false,
     "start_time": "2023-09-27T23:39:42.662331",
     "status": "completed"
    },
    "tags": []
   },
   "outputs": [],
   "source": [
    "events = load_event_data()\n",
    "\n",
    "events = pd.concat([\n",
    "  events,\n",
    "  events.pipe(get_first_ward).pipe(normalise_ward).fillna('UNKNOWN'),\n",
    "  pd.Series(\n",
    "      events.actual_audience_size_number_of_participants_in_person + events.actual_audience_size_number_of_participants_online,\n",
    "      name='attendances'\n",
    "  )\n",
    "], axis=1).rename(columns={\n",
    "    'start_date': 'date'\n",
    "}).loc[:, ['ward_code', 'date', 'event_unique_identifier', 'attendances']]"
   ]
  },
  {
   "cell_type": "code",
   "execution_count": 5,
   "id": "75ce9476",
   "metadata": {
    "execution": {
     "iopub.execute_input": "2023-09-27T23:39:42.897290Z",
     "iopub.status.busy": "2023-09-27T23:39:42.896824Z",
     "iopub.status.idle": "2023-09-27T23:39:42.901260Z",
     "shell.execute_reply": "2023-09-27T23:39:42.900680Z"
    },
    "papermill": {
     "duration": 0.009637,
     "end_time": "2023-09-27T23:39:42.902874",
     "exception": false,
     "start_time": "2023-09-27T23:39:42.893237",
     "status": "completed"
    },
    "tags": []
   },
   "outputs": [],
   "source": [
    "OUTPUT_DIR='../../../../docs/metrics/events/signature/_data/'\n",
    "os.makedirs(OUTPUT_DIR, exist_ok=True)"
   ]
  },
  {
   "cell_type": "markdown",
   "id": "e3b0785f",
   "metadata": {
    "papermill": {
     "duration": 0.002381,
     "end_time": "2023-09-27T23:39:42.907636",
     "exception": false,
     "start_time": "2023-09-27T23:39:42.905255",
     "status": "completed"
    },
    "tags": []
   },
   "source": [
    "Events CSVs"
   ]
  },
  {
   "cell_type": "code",
   "execution_count": 6,
   "id": "db3fed5c",
   "metadata": {
    "execution": {
     "iopub.execute_input": "2023-09-27T23:39:42.913471Z",
     "iopub.status.busy": "2023-09-27T23:39:42.913043Z",
     "iopub.status.idle": "2023-09-27T23:39:42.919896Z",
     "shell.execute_reply": "2023-09-27T23:39:42.919277Z"
    },
    "papermill": {
     "duration": 0.011538,
     "end_time": "2023-09-27T23:39:42.921474",
     "exception": false,
     "start_time": "2023-09-27T23:39:42.909936",
     "status": "completed"
    },
    "tags": []
   },
   "outputs": [],
   "source": [
    "pd.DataFrame({\n",
    "  'events': events.groupby('ward_code').event_unique_identifier.count(),\n",
    "  'attendances': events.groupby('ward_code').attendances.sum().astype(int),\n",
    "}).to_csv(os.path.join(OUTPUT_DIR, 'events_by_ward.csv'))\n"
   ]
  },
  {
   "cell_type": "code",
   "execution_count": 7,
   "id": "1c47818b",
   "metadata": {
    "execution": {
     "iopub.execute_input": "2023-09-27T23:39:42.927577Z",
     "iopub.status.busy": "2023-09-27T23:39:42.927139Z",
     "iopub.status.idle": "2023-09-27T23:39:42.937867Z",
     "shell.execute_reply": "2023-09-27T23:39:42.937264Z"
    },
    "papermill": {
     "duration": 0.015392,
     "end_time": "2023-09-27T23:39:42.939347",
     "exception": false,
     "start_time": "2023-09-27T23:39:42.923955",
     "status": "completed"
    },
    "tags": []
   },
   "outputs": [],
   "source": [
    "pd.DataFrame({\n",
    "  'events': events.groupby('date').event_unique_identifier.count(),\n",
    "  'attendances': events.groupby('date').attendances.sum().astype(int),\n",
    "}).resample('M').sum().astype(int).to_csv(os.path.join(OUTPUT_DIR, 'events_by_date.csv'))"
   ]
  },
  {
   "cell_type": "markdown",
   "id": "673e096a",
   "metadata": {
    "papermill": {
     "duration": 0.002461,
     "end_time": "2023-09-27T23:39:42.944253",
     "exception": false,
     "start_time": "2023-09-27T23:39:42.941792",
     "status": "completed"
    },
    "tags": []
   },
   "source": [
    "Tickets CSV"
   ]
  },
  {
   "cell_type": "code",
   "execution_count": 8,
   "id": "e3b6657c",
   "metadata": {
    "execution": {
     "iopub.execute_input": "2023-09-27T23:39:42.950244Z",
     "iopub.status.busy": "2023-09-27T23:39:42.949809Z",
     "iopub.status.idle": "2023-09-27T23:39:42.957246Z",
     "shell.execute_reply": "2023-09-27T23:39:42.956239Z"
    },
    "papermill": {
     "duration": 0.012113,
     "end_time": "2023-09-27T23:39:42.958778",
     "exception": false,
     "start_time": "2023-09-27T23:39:42.946665",
     "status": "completed"
    },
    "tags": []
   },
   "outputs": [],
   "source": [
    "pd.DataFrame({\n",
    "  'orders': tickets.groupby('ward_code').number_of_tickets.count(),\n",
    "  'tickets': tickets.groupby('ward_code').number_of_tickets.sum().astype(int),\n",
    "}).to_csv(os.path.join(OUTPUT_DIR, 'tickets_by_ward.csv'))"
   ]
  },
  {
   "cell_type": "code",
   "execution_count": 9,
   "id": "b5162ea7",
   "metadata": {
    "execution": {
     "iopub.execute_input": "2023-09-27T23:39:42.964732Z",
     "iopub.status.busy": "2023-09-27T23:39:42.964514Z",
     "iopub.status.idle": "2023-09-27T23:39:42.972182Z",
     "shell.execute_reply": "2023-09-27T23:39:42.971598Z"
    },
    "papermill": {
     "duration": 0.012456,
     "end_time": "2023-09-27T23:39:42.973695",
     "exception": false,
     "start_time": "2023-09-27T23:39:42.961239",
     "status": "completed"
    },
    "tags": []
   },
   "outputs": [],
   "source": [
    "pd.DataFrame({\n",
    "  'orders': tickets.groupby('event_date').number_of_tickets.count(),\n",
    "  'tickets': tickets.groupby('event_date').number_of_tickets.sum().astype(int),\n",
    "}).resample('M').sum().to_csv(os.path.join(OUTPUT_DIR, 'tickets_by_event_date.csv'))"
   ]
  },
  {
   "cell_type": "code",
   "execution_count": 10,
   "id": "c15eece7",
   "metadata": {
    "execution": {
     "iopub.execute_input": "2023-09-27T23:39:42.981077Z",
     "iopub.status.busy": "2023-09-27T23:39:42.980487Z",
     "iopub.status.idle": "2023-09-27T23:39:42.987381Z",
     "shell.execute_reply": "2023-09-27T23:39:42.986049Z"
    },
    "papermill": {
     "duration": 0.012646,
     "end_time": "2023-09-27T23:39:42.988930",
     "exception": false,
     "start_time": "2023-09-27T23:39:42.976284",
     "status": "completed"
    },
    "tags": []
   },
   "outputs": [],
   "source": [
    "pd.Series({\n",
    "    'total_events': events.event_unique_identifier.count(),\n",
    "    'total_attendances': events.attendances.count(),\n",
    "    'first_event': events.date.min(),\n",
    "    'latest_event': events.date.max(),\n",
    "    'total_ticket_orders_for_events_to_date': tickets.number_of_tickets.count(),\n",
    "    'total_tickets_sold_for_events_to_date': tickets.number_of_tickets.sum(),\n",
    "}).to_json(os.path.join(OUTPUT_DIR, 'headlines.json'), indent=2)"
   ]
  },
  {
   "cell_type": "code",
   "execution_count": null,
   "id": "46e50558",
   "metadata": {
    "papermill": {
     "duration": 0.002445,
     "end_time": "2023-09-27T23:39:42.993920",
     "exception": false,
     "start_time": "2023-09-27T23:39:42.991475",
     "status": "completed"
    },
    "tags": []
   },
   "outputs": [],
   "source": []
  }
 ],
 "metadata": {
  "kernelspec": {
   "display_name": "leeds-2023-YZF5GfJv",
   "language": "python",
   "name": "python3"
  },
  "language_info": {
   "codemirror_mode": {
    "name": "ipython",
    "version": 3
   },
   "file_extension": ".py",
   "mimetype": "text/x-python",
   "name": "python",
   "nbconvert_exporter": "python",
   "pygments_lexer": "ipython3",
   "version": "3.10.13"
  },
  "papermill": {
   "default_parameters": {},
   "duration": 11.726216,
   "end_time": "2023-09-27T23:39:43.314276",
   "environment_variables": {},
   "exception": null,
   "input_path": "prepare.ipynb",
   "output_path": "../../../../working/output/signature-prepare.ipynb",
   "parameters": {},
   "start_time": "2023-09-27T23:39:31.588060",
   "version": "2.4.0"
  }
 },
 "nbformat": 4,
 "nbformat_minor": 5
}