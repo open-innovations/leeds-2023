{
 "cells": [
  {
   "cell_type": "code",
   "execution_count": 1,
   "id": "0fa092b0",
   "metadata": {
    "execution": {
     "iopub.execute_input": "2023-07-27T19:15:29.948898Z",
     "iopub.status.busy": "2023-07-27T19:15:29.948209Z",
     "iopub.status.idle": "2023-07-27T19:15:30.187396Z",
     "shell.execute_reply": "2023-07-27T19:15:30.186710Z"
    },
    "papermill": {
     "duration": 0.245211,
     "end_time": "2023-07-27T19:15:30.189707",
     "exception": false,
     "start_time": "2023-07-27T19:15:29.944496",
     "status": "completed"
    },
    "tags": []
   },
   "outputs": [],
   "source": [
    "import os\n",
    "import pandas as pd"
   ]
  },
  {
   "cell_type": "code",
   "execution_count": 2,
   "id": "1e8b2465",
   "metadata": {
    "execution": {
     "iopub.execute_input": "2023-07-27T19:15:30.194947Z",
     "iopub.status.busy": "2023-07-27T19:15:30.194316Z",
     "iopub.status.idle": "2023-07-27T19:15:30.197778Z",
     "shell.execute_reply": "2023-07-27T19:15:30.197164Z"
    },
    "papermill": {
     "duration": 0.007798,
     "end_time": "2023-07-27T19:15:30.199468",
     "exception": false,
     "start_time": "2023-07-27T19:15:30.191670",
     "status": "completed"
    },
    "tags": []
   },
   "outputs": [],
   "source": [
    "DATA_DIR='../../../docs/metrics/events/promote/_data/'\n",
    "os.makedirs(DATA_DIR, exist_ok=True)"
   ]
  },
  {
   "cell_type": "code",
   "execution_count": 3,
   "id": "107b347f",
   "metadata": {
    "execution": {
     "iopub.execute_input": "2023-07-27T19:15:30.203703Z",
     "iopub.status.busy": "2023-07-27T19:15:30.203299Z",
     "iopub.status.idle": "2023-07-27T19:15:30.212767Z",
     "shell.execute_reply": "2023-07-27T19:15:30.212233Z"
    },
    "papermill": {
     "duration": 0.013233,
     "end_time": "2023-07-27T19:15:30.214250",
     "exception": false,
     "start_time": "2023-07-27T19:15:30.201017",
     "status": "completed"
    },
    "tags": []
   },
   "outputs": [],
   "source": [
    "data = pd.read_csv('../../../data/metrics/events/promote-events/events.csv', parse_dates=['time'])"
   ]
  },
  {
   "cell_type": "code",
   "execution_count": 4,
   "id": "3707a296",
   "metadata": {
    "execution": {
     "iopub.execute_input": "2023-07-27T19:15:30.218508Z",
     "iopub.status.busy": "2023-07-27T19:15:30.218108Z",
     "iopub.status.idle": "2023-07-27T19:15:30.223324Z",
     "shell.execute_reply": "2023-07-27T19:15:30.222702Z"
    },
    "papermill": {
     "duration": 0.008901,
     "end_time": "2023-07-27T19:15:30.224728",
     "exception": false,
     "start_time": "2023-07-27T19:15:30.215827",
     "status": "completed"
    },
    "tags": []
   },
   "outputs": [],
   "source": [
    "pd.Series({\n",
    "    'total_events': len(data.id.unique()),\n",
    "    'total_event_instances': len(data.time),\n",
    "    'earliest_event': data.time.min(),\n",
    "    'latest_event': data.time.max(),\n",
    "}).to_json(\n",
    "    os.path.join(DATA_DIR, 'headlines.json'),\n",
    "    date_format='iso', indent=2\n",
    ")"
   ]
  },
  {
   "cell_type": "code",
   "execution_count": 5,
   "id": "9d405914",
   "metadata": {
    "execution": {
     "iopub.execute_input": "2023-07-27T19:15:30.228969Z",
     "iopub.status.busy": "2023-07-27T19:15:30.228573Z",
     "iopub.status.idle": "2023-07-27T19:15:30.236315Z",
     "shell.execute_reply": "2023-07-27T19:15:30.235753Z"
    },
    "papermill": {
     "duration": 0.011433,
     "end_time": "2023-07-27T19:15:30.237721",
     "exception": false,
     "start_time": "2023-07-27T19:15:30.226288",
     "status": "completed"
    },
    "tags": []
   },
   "outputs": [],
   "source": [
    "events = pd.DataFrame({\n",
    "    'events': data.groupby('id').agg({ 'time': 'min' }).reset_index().groupby('time').id.count(),\n",
    "    'event_instances': data.groupby('time').id.count(),\n",
    "}).fillna(0).astype(int)"
   ]
  },
  {
   "cell_type": "code",
   "execution_count": 6,
   "id": "82b055d3",
   "metadata": {
    "execution": {
     "iopub.execute_input": "2023-07-27T19:15:30.242036Z",
     "iopub.status.busy": "2023-07-27T19:15:30.241640Z",
     "iopub.status.idle": "2023-07-27T19:15:30.245047Z",
     "shell.execute_reply": "2023-07-27T19:15:30.244402Z"
    },
    "papermill": {
     "duration": 0.00738,
     "end_time": "2023-07-27T19:15:30.246730",
     "exception": false,
     "start_time": "2023-07-27T19:15:30.239350",
     "status": "completed"
    },
    "tags": []
   },
   "outputs": [],
   "source": [
    "def cumulate(data):\n",
    "    return pd.concat([\n",
    "        data,\n",
    "        data.cumsum().rename(columns=lambda c: f'cumulative_{c}')\n",
    "    ], axis=1)"
   ]
  },
  {
   "cell_type": "code",
   "execution_count": 7,
   "id": "af66e943",
   "metadata": {
    "execution": {
     "iopub.execute_input": "2023-07-27T19:15:30.251057Z",
     "iopub.status.busy": "2023-07-27T19:15:30.250729Z",
     "iopub.status.idle": "2023-07-27T19:15:30.260291Z",
     "shell.execute_reply": "2023-07-27T19:15:30.259741Z"
    },
    "papermill": {
     "duration": 0.013416,
     "end_time": "2023-07-27T19:15:30.261829",
     "exception": false,
     "start_time": "2023-07-27T19:15:30.248413",
     "status": "completed"
    },
    "tags": []
   },
   "outputs": [],
   "source": [
    "events.resample('W-FRI').sum().pipe(cumulate).to_csv(os.path.join(DATA_DIR, 'by_week.csv'))"
   ]
  },
  {
   "cell_type": "code",
   "execution_count": 8,
   "id": "6cdb8f03",
   "metadata": {
    "execution": {
     "iopub.execute_input": "2023-07-27T19:15:30.266387Z",
     "iopub.status.busy": "2023-07-27T19:15:30.265990Z",
     "iopub.status.idle": "2023-07-27T19:15:30.271620Z",
     "shell.execute_reply": "2023-07-27T19:15:30.270997Z"
    },
    "papermill": {
     "duration": 0.009419,
     "end_time": "2023-07-27T19:15:30.273031",
     "exception": false,
     "start_time": "2023-07-27T19:15:30.263612",
     "status": "completed"
    },
    "tags": []
   },
   "outputs": [],
   "source": [
    "events.resample('MS').sum().pipe(cumulate).to_csv(os.path.join(DATA_DIR, 'by_month.csv'))"
   ]
  },
  {
   "cell_type": "code",
   "execution_count": null,
   "id": "8752a7eb",
   "metadata": {
    "papermill": {
     "duration": 0.001672,
     "end_time": "2023-07-27T19:15:30.276386",
     "exception": false,
     "start_time": "2023-07-27T19:15:30.274714",
     "status": "completed"
    },
    "tags": []
   },
   "outputs": [],
   "source": []
  }
 ],
 "metadata": {
  "kernelspec": {
   "display_name": "leeds-2023-YZF5GfJv",
   "language": "python",
   "name": "python3"
  },
  "language_info": {
   "codemirror_mode": {
    "name": "ipython",
    "version": 3
   },
   "file_extension": ".py",
   "mimetype": "text/x-python",
   "name": "python",
   "nbconvert_exporter": "python",
   "pygments_lexer": "ipython3",
   "version": "3.10.6"
  },
  "papermill": {
   "default_parameters": {},
   "duration": 1.952139,
   "end_time": "2023-07-27T19:15:30.495538",
   "environment_variables": {},
   "exception": null,
   "input_path": "prepare.ipynb",
   "output_path": "../../../working/output/promote-events-prepare.ipynb",
   "parameters": {},
   "start_time": "2023-07-27T19:15:28.543399",
   "version": "2.4.0"
  }
 },
 "nbformat": 4,
 "nbformat_minor": 5
}