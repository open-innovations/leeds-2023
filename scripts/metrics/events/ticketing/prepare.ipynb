{
 "cells": [
  {
   "cell_type": "code",
   "execution_count": 1,
   "metadata": {},
   "outputs": [],
   "source": [
    "from pathlib import Path\n",
    "import pandas as pd"
   ]
  },
  {
   "cell_type": "markdown",
   "metadata": {},
   "source": [
    "Load the orders data which was created in the [transform stage](./tickets.ipynb)."
   ]
  },
  {
   "cell_type": "code",
   "execution_count": 2,
   "metadata": {},
   "outputs": [],
   "source": [
    "def prepare(data: pd.DataFrame) -> pd.DataFrame:\n",
    "    data = data.loc[\n",
    "        (\n",
    "            data.public_event == True\n",
    "        ) & (\n",
    "            ~data.project_name.isin([\n",
    "                'Skills Development',\n",
    "            ])\n",
    "        )\n",
    "    ]\n",
    "    data = data.drop(columns=['public_event'])\n",
    "    return data\n",
    "\n",
    "\n",
    "orders = pd.read_csv(\n",
    "    '../../../../data/metrics/events/tickets/orders.csv',\n",
    "    usecols=[\n",
    "        'created_at',\n",
    "        'project_name',\n",
    "        'public_event',\n",
    "        'number_of_tickets'\n",
    "    ],\n",
    "    parse_dates=['created_at']\n",
    ").pipe(prepare)"
   ]
  },
  {
   "cell_type": "markdown",
   "metadata": {},
   "source": [
    "Define functions to count and sum tickets, and to append cumulative versions of those."
   ]
  },
  {
   "cell_type": "code",
   "execution_count": 3,
   "metadata": {},
   "outputs": [],
   "source": [
    "def count_and_sum(series):\n",
    "    return pd.concat([\n",
    "        series.count().to_frame('orders'),\n",
    "        series.sum().to_frame('tickets'),\n",
    "    ], axis=1)\n",
    "\n",
    "\n",
    "def cumulate(df: pd.DataFrame) -> pd.DataFrame:\n",
    "    return pd.concat([\n",
    "        df,\n",
    "        df.cumsum().rename(columns=lambda x: f'cumulative_{x}')\n",
    "    ], axis=1)"
   ]
  },
  {
   "cell_type": "markdown",
   "metadata": {},
   "source": [
    "Create output directory"
   ]
  },
  {
   "cell_type": "code",
   "execution_count": 4,
   "metadata": {},
   "outputs": [],
   "source": [
    "OUTPUT_DIR = Path('../../../../docs/metrics/tickets/_data/')\n",
    "OUTPUT_DIR.mkdir(parents=True, exist_ok=True)"
   ]
  },
  {
   "cell_type": "markdown",
   "metadata": {},
   "source": [
    "Count / sum the orders and tickets by project code and save to a JSON file"
   ]
  },
  {
   "cell_type": "code",
   "execution_count": 5,
   "metadata": {},
   "outputs": [],
   "source": [
    "by_project = orders.groupby('project_name').number_of_tickets.pipe(count_and_sum)\n",
    "by_project.loc['total']= by_project.sum()\n",
    "by_project.T.to_json(\n",
    "  OUTPUT_DIR.joinpath('headlines.json'),\n",
    "  indent=2\n",
    ")"
   ]
  },
  {
   "cell_type": "markdown",
   "metadata": {},
   "source": [
    "Add `day` column"
   ]
  },
  {
   "cell_type": "code",
   "execution_count": 17,
   "metadata": {},
   "outputs": [],
   "source": [
    "orders['day'] = orders.created_at.dt.floor('D')"
   ]
  },
  {
   "cell_type": "code",
   "execution_count": 18,
   "metadata": {},
   "outputs": [
    {
     "data": {
      "text/html": [
       "<div>\n",
       "<style scoped>\n",
       "    .dataframe tbody tr th:only-of-type {\n",
       "        vertical-align: middle;\n",
       "    }\n",
       "\n",
       "    .dataframe tbody tr th {\n",
       "        vertical-align: top;\n",
       "    }\n",
       "\n",
       "    .dataframe thead th {\n",
       "        text-align: right;\n",
       "    }\n",
       "</style>\n",
       "<table border=\"1\" class=\"dataframe\">\n",
       "  <thead>\n",
       "    <tr style=\"text-align: right;\">\n",
       "      <th></th>\n",
       "      <th>created_at</th>\n",
       "      <th>day</th>\n",
       "    </tr>\n",
       "  </thead>\n",
       "  <tbody>\n",
       "    <tr>\n",
       "      <th>176</th>\n",
       "      <td>2023-03-30 16:58:03</td>\n",
       "      <td>2023-03-30</td>\n",
       "    </tr>\n",
       "    <tr>\n",
       "      <th>177</th>\n",
       "      <td>2023-03-30 18:44:08</td>\n",
       "      <td>2023-03-30</td>\n",
       "    </tr>\n",
       "    <tr>\n",
       "      <th>180</th>\n",
       "      <td>2023-03-30 20:32:43</td>\n",
       "      <td>2023-03-30</td>\n",
       "    </tr>\n",
       "    <tr>\n",
       "      <th>181</th>\n",
       "      <td>2023-03-30 21:27:59</td>\n",
       "      <td>2023-03-30</td>\n",
       "    </tr>\n",
       "    <tr>\n",
       "      <th>183</th>\n",
       "      <td>2023-03-30 22:56:31</td>\n",
       "      <td>2023-03-30</td>\n",
       "    </tr>\n",
       "  </tbody>\n",
       "</table>\n",
       "</div>"
      ],
      "text/plain": [
       "             created_at        day\n",
       "176 2023-03-30 16:58:03 2023-03-30\n",
       "177 2023-03-30 18:44:08 2023-03-30\n",
       "180 2023-03-30 20:32:43 2023-03-30\n",
       "181 2023-03-30 21:27:59 2023-03-30\n",
       "183 2023-03-30 22:56:31 2023-03-30"
      ]
     },
     "execution_count": 18,
     "metadata": {},
     "output_type": "execute_result"
    }
   ],
   "source": [
    "orders.loc[:, ['created_at', 'day']].head()"
   ]
  },
  {
   "cell_type": "markdown",
   "metadata": {},
   "source": [
    "Save table cumulative weekly per project"
   ]
  },
  {
   "cell_type": "code",
   "execution_count": 24,
   "metadata": {},
   "outputs": [],
   "source": [
    "orders.groupby(\n",
    "  ['day', 'project_name']\n",
    ").number_of_tickets.pipe(\n",
    "  count_and_sum\n",
    ").tickets.unstack().fillna(0).cumsum().resample('W-FRI').sum().to_csv(\n",
    "  OUTPUT_DIR.joinpath('by_project_cumulative_weekly.csv')\n",
    ")"
   ]
  },
  {
   "cell_type": "markdown",
   "metadata": {},
   "source": [
    "Save cumulative monthly sales"
   ]
  },
  {
   "cell_type": "code",
   "execution_count": 26,
   "metadata": {},
   "outputs": [],
   "source": [
    "orders.groupby(['month']).number_of_tickets.pipe(count_and_sum).pipe(cumulate).resample('MS').sum().to_csv(\n",
    "  OUTPUT_DIR.joinpath('monthly_cumulative.csv')\n",
    ")"
   ]
  },
  {
   "cell_type": "code",
   "execution_count": null,
   "metadata": {},
   "outputs": [],
   "source": []
  }
 ],
 "metadata": {
  "kernelspec": {
   "display_name": "leeds-2023-YZF5GfJv",
   "language": "python",
   "name": "python3"
  },
  "language_info": {
   "codemirror_mode": {
    "name": "ipython",
    "version": 3
   },
   "file_extension": ".py",
   "mimetype": "text/x-python",
   "name": "python",
   "nbconvert_exporter": "python",
   "pygments_lexer": "ipython3",
   "version": "3.10.12"
  },
  "orig_nbformat": 4
 },
 "nbformat": 4,
 "nbformat_minor": 2
}
