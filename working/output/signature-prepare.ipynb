{
 "cells": [
  {
   "cell_type": "code",
   "execution_count": 1,
   "id": "f502b424",
   "metadata": {
    "execution": {
     "iopub.execute_input": "2023-07-30T23:38:51.514290Z",
     "iopub.status.busy": "2023-07-30T23:38:51.513747Z",
     "iopub.status.idle": "2023-07-30T23:38:59.987943Z",
     "shell.execute_reply": "2023-07-30T23:38:59.987313Z"
    },
    "papermill": {
     "duration": 8.479831,
     "end_time": "2023-07-30T23:38:59.989956",
     "exception": false,
     "start_time": "2023-07-30T23:38:51.510125",
     "status": "completed"
    },
    "tags": []
   },
   "outputs": [],
   "source": [
    "import os\n",
    "import pandas as pd\n",
    "from events import load_event_data, get_first_ward, normalise_ward"
   ]
  },
  {
   "cell_type": "code",
   "execution_count": 2,
   "id": "4e7e30b0",
   "metadata": {
    "execution": {
     "iopub.execute_input": "2023-07-30T23:38:59.995595Z",
     "iopub.status.busy": "2023-07-30T23:38:59.995059Z",
     "iopub.status.idle": "2023-07-30T23:38:59.998679Z",
     "shell.execute_reply": "2023-07-30T23:38:59.998077Z"
    },
    "papermill": {
     "duration": 0.008044,
     "end_time": "2023-07-30T23:39:00.000227",
     "exception": false,
     "start_time": "2023-07-30T23:38:59.992183",
     "status": "completed"
    },
    "tags": []
   },
   "outputs": [],
   "source": [
    "latest_date = pd.Timestamp.today().ceil('D')"
   ]
  },
  {
   "cell_type": "code",
   "execution_count": 3,
   "id": "d923d76c",
   "metadata": {
    "execution": {
     "iopub.execute_input": "2023-07-30T23:39:00.005516Z",
     "iopub.status.busy": "2023-07-30T23:39:00.004917Z",
     "iopub.status.idle": "2023-07-30T23:39:00.019998Z",
     "shell.execute_reply": "2023-07-30T23:39:00.019437Z"
    },
    "papermill": {
     "duration": 0.019279,
     "end_time": "2023-07-30T23:39:00.021433",
     "exception": false,
     "start_time": "2023-07-30T23:39:00.002154",
     "status": "completed"
    },
    "tags": []
   },
   "outputs": [],
   "source": [
    "tickets = pd.read_csv('../../../../data/metrics/events/tickets/orders.csv', parse_dates=['created_at', 'event_date'])\n",
    "tickets = tickets[tickets.event_date <= latest_date]"
   ]
  },
  {
   "cell_type": "code",
   "execution_count": 4,
   "id": "457556d7",
   "metadata": {
    "execution": {
     "iopub.execute_input": "2023-07-30T23:39:00.026532Z",
     "iopub.status.busy": "2023-07-30T23:39:00.026177Z",
     "iopub.status.idle": "2023-07-30T23:39:00.169885Z",
     "shell.execute_reply": "2023-07-30T23:39:00.169251Z"
    },
    "papermill": {
     "duration": 0.148277,
     "end_time": "2023-07-30T23:39:00.171738",
     "exception": false,
     "start_time": "2023-07-30T23:39:00.023461",
     "status": "completed"
    },
    "tags": []
   },
   "outputs": [],
   "source": [
    "events = load_event_data()\n",
    "\n",
    "events = pd.concat([\n",
    "  events,\n",
    "  events.pipe(get_first_ward).pipe(normalise_ward).fillna('UNKNOWN'),\n",
    "  pd.Series(\n",
    "      events.actual_audience_size_number_of_participants_in_person + events.actual_audience_size_number_of_participants_online,\n",
    "      name='attendances'\n",
    "  )\n",
    "], axis=1).rename(columns={\n",
    "    'start_date': 'date'\n",
    "}).loc[:, ['ward_code', 'date', 'event_unique_identifier', 'attendances']]"
   ]
  },
  {
   "cell_type": "code",
   "execution_count": 5,
   "id": "3da3b45e",
   "metadata": {
    "execution": {
     "iopub.execute_input": "2023-07-30T23:39:00.177691Z",
     "iopub.status.busy": "2023-07-30T23:39:00.177159Z",
     "iopub.status.idle": "2023-07-30T23:39:00.180438Z",
     "shell.execute_reply": "2023-07-30T23:39:00.179836Z"
    },
    "papermill": {
     "duration": 0.007798,
     "end_time": "2023-07-30T23:39:00.181833",
     "exception": false,
     "start_time": "2023-07-30T23:39:00.174035",
     "status": "completed"
    },
    "tags": []
   },
   "outputs": [],
   "source": [
    "OUTPUT_DIR='../../../../docs/metrics/events/signature/_data/'\n",
    "os.makedirs(OUTPUT_DIR, exist_ok=True)"
   ]
  },
  {
   "cell_type": "markdown",
   "id": "d97d75f3",
   "metadata": {
    "papermill": {
     "duration": 0.002049,
     "end_time": "2023-07-30T23:39:00.185856",
     "exception": false,
     "start_time": "2023-07-30T23:39:00.183807",
     "status": "completed"
    },
    "tags": []
   },
   "source": [
    "Events CSVs"
   ]
  },
  {
   "cell_type": "code",
   "execution_count": 6,
   "id": "26bec00e",
   "metadata": {
    "execution": {
     "iopub.execute_input": "2023-07-30T23:39:00.190999Z",
     "iopub.status.busy": "2023-07-30T23:39:00.190471Z",
     "iopub.status.idle": "2023-07-30T23:39:00.198185Z",
     "shell.execute_reply": "2023-07-30T23:39:00.197618Z"
    },
    "papermill": {
     "duration": 0.011804,
     "end_time": "2023-07-30T23:39:00.199603",
     "exception": false,
     "start_time": "2023-07-30T23:39:00.187799",
     "status": "completed"
    },
    "tags": []
   },
   "outputs": [],
   "source": [
    "pd.DataFrame({\n",
    "  'events': events.groupby('ward_code').event_unique_identifier.count(),\n",
    "  'attendances': events.groupby('ward_code').attendances.sum().astype(int),\n",
    "}).to_csv(os.path.join(OUTPUT_DIR, 'events_by_ward.csv'))\n"
   ]
  },
  {
   "cell_type": "code",
   "execution_count": 7,
   "id": "425b620d",
   "metadata": {
    "execution": {
     "iopub.execute_input": "2023-07-30T23:39:00.204823Z",
     "iopub.status.busy": "2023-07-30T23:39:00.204288Z",
     "iopub.status.idle": "2023-07-30T23:39:00.214266Z",
     "shell.execute_reply": "2023-07-30T23:39:00.213700Z"
    },
    "papermill": {
     "duration": 0.013963,
     "end_time": "2023-07-30T23:39:00.215593",
     "exception": false,
     "start_time": "2023-07-30T23:39:00.201630",
     "status": "completed"
    },
    "tags": []
   },
   "outputs": [],
   "source": [
    "pd.DataFrame({\n",
    "  'events': events.groupby('date').event_unique_identifier.count(),\n",
    "  'attendances': events.groupby('date').attendances.sum().astype(int),\n",
    "}).resample('M').sum().astype(int).to_csv(os.path.join(OUTPUT_DIR, 'events_by_date.csv'))"
   ]
  },
  {
   "cell_type": "markdown",
   "id": "0a97c959",
   "metadata": {
    "papermill": {
     "duration": 0.002081,
     "end_time": "2023-07-30T23:39:00.219710",
     "exception": false,
     "start_time": "2023-07-30T23:39:00.217629",
     "status": "completed"
    },
    "tags": []
   },
   "source": [
    "Tickets CSV"
   ]
  },
  {
   "cell_type": "code",
   "execution_count": 8,
   "id": "608e7d29",
   "metadata": {
    "execution": {
     "iopub.execute_input": "2023-07-30T23:39:00.225126Z",
     "iopub.status.busy": "2023-07-30T23:39:00.224518Z",
     "iopub.status.idle": "2023-07-30T23:39:00.230697Z",
     "shell.execute_reply": "2023-07-30T23:39:00.230158Z"
    },
    "papermill": {
     "duration": 0.01036,
     "end_time": "2023-07-30T23:39:00.232109",
     "exception": false,
     "start_time": "2023-07-30T23:39:00.221749",
     "status": "completed"
    },
    "tags": []
   },
   "outputs": [],
   "source": [
    "pd.DataFrame({\n",
    "  'orders': tickets.groupby('ward_code').number_of_tickets.count(),\n",
    "  'tickets': tickets.groupby('ward_code').number_of_tickets.sum().astype(int),\n",
    "}).to_csv(os.path.join(OUTPUT_DIR, 'tickets_by_ward.csv'))"
   ]
  },
  {
   "cell_type": "code",
   "execution_count": 9,
   "id": "599b1193",
   "metadata": {
    "execution": {
     "iopub.execute_input": "2023-07-30T23:39:00.237506Z",
     "iopub.status.busy": "2023-07-30T23:39:00.236944Z",
     "iopub.status.idle": "2023-07-30T23:39:00.244311Z",
     "shell.execute_reply": "2023-07-30T23:39:00.243766Z"
    },
    "papermill": {
     "duration": 0.011616,
     "end_time": "2023-07-30T23:39:00.245808",
     "exception": false,
     "start_time": "2023-07-30T23:39:00.234192",
     "status": "completed"
    },
    "tags": []
   },
   "outputs": [],
   "source": [
    "pd.DataFrame({\n",
    "  'orders': tickets.groupby('event_date').number_of_tickets.count(),\n",
    "  'tickets': tickets.groupby('event_date').number_of_tickets.sum().astype(int),\n",
    "}).resample('M').sum().to_csv(os.path.join(OUTPUT_DIR, 'tickets_by_event_date.csv'))"
   ]
  },
  {
   "cell_type": "code",
   "execution_count": 10,
   "id": "a92944f9",
   "metadata": {
    "execution": {
     "iopub.execute_input": "2023-07-30T23:39:00.252016Z",
     "iopub.status.busy": "2023-07-30T23:39:00.251459Z",
     "iopub.status.idle": "2023-07-30T23:39:00.256424Z",
     "shell.execute_reply": "2023-07-30T23:39:00.255841Z"
    },
    "papermill": {
     "duration": 0.009847,
     "end_time": "2023-07-30T23:39:00.257735",
     "exception": false,
     "start_time": "2023-07-30T23:39:00.247888",
     "status": "completed"
    },
    "tags": []
   },
   "outputs": [],
   "source": [
    "pd.Series({\n",
    "    'total_events': events.event_unique_identifier.count(),\n",
    "    'total_attendances': events.attendances.count(),\n",
    "    'first_event': events.date.min(),\n",
    "    'latest_event': events.date.max(),\n",
    "    'total_ticket_orders_for_events_to_date': tickets.number_of_tickets.count(),\n",
    "    'total_tickets_sold_for_events_to_date': tickets.number_of_tickets.sum(),\n",
    "}).to_json(os.path.join(OUTPUT_DIR, 'headlines.json'), indent=2)"
   ]
  },
  {
   "cell_type": "code",
   "execution_count": null,
   "id": "2168ee01",
   "metadata": {
    "papermill": {
     "duration": 0.002054,
     "end_time": "2023-07-30T23:39:00.261920",
     "exception": false,
     "start_time": "2023-07-30T23:39:00.259866",
     "status": "completed"
    },
    "tags": []
   },
   "outputs": [],
   "source": []
  }
 ],
 "metadata": {
  "kernelspec": {
   "display_name": "leeds-2023-YZF5GfJv",
   "language": "python",
   "name": "python3"
  },
  "language_info": {
   "codemirror_mode": {
    "name": "ipython",
    "version": 3
   },
   "file_extension": ".py",
   "mimetype": "text/x-python",
   "name": "python",
   "nbconvert_exporter": "python",
   "pygments_lexer": "ipython3",
   "version": "3.10.6"
  },
  "papermill": {
   "default_parameters": {},
   "duration": 10.44142,
   "end_time": "2023-07-30T23:39:00.579860",
   "environment_variables": {},
   "exception": null,
   "input_path": "prepare.ipynb",
   "output_path": "../../../../working/output/signature-prepare.ipynb",
   "parameters": {},
   "start_time": "2023-07-30T23:38:50.138440",
   "version": "2.4.0"
  }
 },
 "nbformat": 4,
 "nbformat_minor": 5
}