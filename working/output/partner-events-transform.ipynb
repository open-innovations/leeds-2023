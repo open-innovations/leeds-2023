{
 "cells": [
  {
   "cell_type": "code",
   "execution_count": 1,
   "id": "5ae509ce",
   "metadata": {
    "execution": {
     "iopub.execute_input": "2023-08-05T23:37:49.107133Z",
     "iopub.status.busy": "2023-08-05T23:37:49.104941Z",
     "iopub.status.idle": "2023-08-05T23:37:49.440530Z",
     "shell.execute_reply": "2023-08-05T23:37:49.439427Z"
    },
    "papermill": {
     "duration": 0.34328,
     "end_time": "2023-08-05T23:37:49.443206",
     "exception": false,
     "start_time": "2023-08-05T23:37:49.099926",
     "status": "completed"
    },
    "tags": []
   },
   "outputs": [],
   "source": [
    "import os\n",
    "import sys\n",
    "import pandas as pd\n",
    "lib_dir = os.path.realpath('../../../lib/')\n",
    "if lib_dir not in sys.path: sys.path.append(lib_dir)"
   ]
  },
  {
   "cell_type": "code",
   "execution_count": 2,
   "id": "ec6481b2",
   "metadata": {
    "execution": {
     "iopub.execute_input": "2023-08-05T23:37:49.451316Z",
     "iopub.status.busy": "2023-08-05T23:37:49.450867Z",
     "iopub.status.idle": "2023-08-05T23:38:01.800915Z",
     "shell.execute_reply": "2023-08-05T23:38:01.799633Z"
    },
    "papermill": {
     "duration": 12.356539,
     "end_time": "2023-08-05T23:38:01.803283",
     "exception": false,
     "start_time": "2023-08-05T23:37:49.446744",
     "status": "completed"
    },
    "tags": []
   },
   "outputs": [],
   "source": [
    "import util.geo"
   ]
  },
  {
   "cell_type": "code",
   "execution_count": 3,
   "id": "3306e90b",
   "metadata": {
    "execution": {
     "iopub.execute_input": "2023-08-05T23:38:01.811272Z",
     "iopub.status.busy": "2023-08-05T23:38:01.810927Z",
     "iopub.status.idle": "2023-08-05T23:38:01.815754Z",
     "shell.execute_reply": "2023-08-05T23:38:01.814624Z"
    },
    "papermill": {
     "duration": 0.011591,
     "end_time": "2023-08-05T23:38:01.818224",
     "exception": false,
     "start_time": "2023-08-05T23:38:01.806633",
     "status": "completed"
    },
    "tags": []
   },
   "outputs": [],
   "source": [
    "EVENTS_RAW_DATA = '../../../working/metrics/partner-events/events.csv'\n",
    "DATA_DIR = '../../../data/metrics/events/partner-events/'\n",
    "EVENTS_DATA = os.path.join(DATA_DIR, 'events.csv')"
   ]
  },
  {
   "cell_type": "code",
   "execution_count": 4,
   "id": "26336dec",
   "metadata": {
    "execution": {
     "iopub.execute_input": "2023-08-05T23:38:01.825776Z",
     "iopub.status.busy": "2023-08-05T23:38:01.825038Z",
     "iopub.status.idle": "2023-08-05T23:38:01.831266Z",
     "shell.execute_reply": "2023-08-05T23:38:01.830240Z"
    },
    "papermill": {
     "duration": 0.012578,
     "end_time": "2023-08-05T23:38:01.833537",
     "exception": false,
     "start_time": "2023-08-05T23:38:01.820959",
     "status": "completed"
    },
    "tags": []
   },
   "outputs": [],
   "source": [
    "columns = {\n",
    "    'Event Name': 'name',\n",
    "    'Event Start Date': 'start_date',\n",
    "    'Event End Date': 'end_date',\n",
    "    'Partner/Promote': 'partner_promote',\n",
    "    'Stage': 'stage',\n",
    "    'Live date': 'live_date',\n",
    "    'Venue postcode': 'postcode',\n",
    "    'Pricing Policy': 'pricing',\n",
    "    'Venue - including address': 'venue',\n",
    "    'Is this event on Leeds Inspried?': 'on_leeds_inspired',\n",
    "}"
   ]
  },
  {
   "cell_type": "markdown",
   "id": "5f66b270",
   "metadata": {
    "papermill": {
     "duration": 0.002762,
     "end_time": "2023-08-05T23:38:01.839093",
     "exception": false,
     "start_time": "2023-08-05T23:38:01.836331",
     "status": "completed"
    },
    "tags": []
   },
   "source": [
    "Load the data and rename columns. Parse the dates to dates."
   ]
  },
  {
   "cell_type": "code",
   "execution_count": 5,
   "id": "9c2c54e8",
   "metadata": {
    "execution": {
     "iopub.execute_input": "2023-08-05T23:38:01.846981Z",
     "iopub.status.busy": "2023-08-05T23:38:01.846465Z",
     "iopub.status.idle": "2023-08-05T23:38:01.862546Z",
     "shell.execute_reply": "2023-08-05T23:38:01.861393Z"
    },
    "papermill": {
     "duration": 0.027996,
     "end_time": "2023-08-05T23:38:01.869850",
     "exception": false,
     "start_time": "2023-08-05T23:38:01.841854",
     "status": "completed"
    },
    "tags": []
   },
   "outputs": [],
   "source": [
    "data = pd.read_csv(EVENTS_RAW_DATA)[columns.keys()].rename(columns=columns)\n",
    "data.start_date = pd.to_datetime(data.start_date, errors='coerce')\n",
    "data.end_date = pd.to_datetime(data.end_date, errors='coerce')"
   ]
  },
  {
   "cell_type": "markdown",
   "id": "87d627c2",
   "metadata": {
    "papermill": {
     "duration": 0.003038,
     "end_time": "2023-08-05T23:38:01.875917",
     "exception": false,
     "start_time": "2023-08-05T23:38:01.872879",
     "status": "completed"
    },
    "tags": []
   },
   "source": [
    "Filter data by not LI Pull through and start date before now"
   ]
  },
  {
   "cell_type": "code",
   "execution_count": 6,
   "id": "6cd4084f",
   "metadata": {
    "execution": {
     "iopub.execute_input": "2023-08-05T23:38:01.883524Z",
     "iopub.status.busy": "2023-08-05T23:38:01.883197Z",
     "iopub.status.idle": "2023-08-05T23:38:01.891565Z",
     "shell.execute_reply": "2023-08-05T23:38:01.889443Z"
    },
    "papermill": {
     "duration": 0.014787,
     "end_time": "2023-08-05T23:38:01.893813",
     "exception": false,
     "start_time": "2023-08-05T23:38:01.879026",
     "status": "completed"
    },
    "tags": []
   },
   "outputs": [],
   "source": [
    "data = data[\n",
    "    # (data.live_date == 'This event is live ') &\n",
    "    ((data.stage != 'LI pull through') & data.stage.notna()) &\n",
    "    (data.start_date < pd.Timestamp.now())\n",
    "]"
   ]
  },
  {
   "cell_type": "code",
   "execution_count": 7,
   "id": "e14fbbef",
   "metadata": {
    "execution": {
     "iopub.execute_input": "2023-08-05T23:38:01.903542Z",
     "iopub.status.busy": "2023-08-05T23:38:01.902838Z",
     "iopub.status.idle": "2023-08-05T23:38:03.641337Z",
     "shell.execute_reply": "2023-08-05T23:38:03.640259Z"
    },
    "papermill": {
     "duration": 1.746837,
     "end_time": "2023-08-05T23:38:03.643665",
     "exception": false,
     "start_time": "2023-08-05T23:38:01.896828",
     "status": "completed"
    },
    "tags": []
   },
   "outputs": [],
   "source": [
    "data['ward_code'] = data.postcode.pipe(util.geo.postcode_formatter).map(util.geo.postcode_to_ward_code)\n",
    "data['ward_name'] = data.ward_code.pipe(util.geo.ward_code_to_name)"
   ]
  },
  {
   "cell_type": "markdown",
   "id": "e0218c90",
   "metadata": {
    "papermill": {
     "duration": 0.004437,
     "end_time": "2023-08-05T23:38:03.651521",
     "exception": false,
     "start_time": "2023-08-05T23:38:03.647084",
     "status": "completed"
    },
    "tags": []
   },
   "source": [
    "Save the file"
   ]
  },
  {
   "cell_type": "code",
   "execution_count": 8,
   "id": "96414ef4",
   "metadata": {
    "execution": {
     "iopub.execute_input": "2023-08-05T23:38:03.658918Z",
     "iopub.status.busy": "2023-08-05T23:38:03.658633Z",
     "iopub.status.idle": "2023-08-05T23:38:03.667332Z",
     "shell.execute_reply": "2023-08-05T23:38:03.666277Z"
    },
    "papermill": {
     "duration": 0.015234,
     "end_time": "2023-08-05T23:38:03.669687",
     "exception": false,
     "start_time": "2023-08-05T23:38:03.654453",
     "status": "completed"
    },
    "tags": []
   },
   "outputs": [],
   "source": [
    "data[\n",
    "    ['name','start_date','end_date','ward_code']\n",
    "].to_csv(EVENTS_DATA, index=False)"
   ]
  },
  {
   "cell_type": "markdown",
   "id": "a236a7ea",
   "metadata": {
    "papermill": {
     "duration": 0.002979,
     "end_time": "2023-08-05T23:38:03.675803",
     "exception": false,
     "start_time": "2023-08-05T23:38:03.672824",
     "status": "completed"
    },
    "tags": []
   },
   "source": [
    "Print out missing postcode data"
   ]
  },
  {
   "cell_type": "code",
   "execution_count": 9,
   "id": "27036f59",
   "metadata": {
    "execution": {
     "iopub.execute_input": "2023-08-05T23:38:03.683328Z",
     "iopub.status.busy": "2023-08-05T23:38:03.683045Z",
     "iopub.status.idle": "2023-08-05T23:38:03.700320Z",
     "shell.execute_reply": "2023-08-05T23:38:03.699336Z"
    },
    "papermill": {
     "duration": 0.023967,
     "end_time": "2023-08-05T23:38:03.703037",
     "exception": false,
     "start_time": "2023-08-05T23:38:03.679070",
     "status": "completed"
    },
    "tags": []
   },
   "outputs": [
    {
     "data": {
      "text/html": [
       "<div>\n",
       "<style scoped>\n",
       "    .dataframe tbody tr th:only-of-type {\n",
       "        vertical-align: middle;\n",
       "    }\n",
       "\n",
       "    .dataframe tbody tr th {\n",
       "        vertical-align: top;\n",
       "    }\n",
       "\n",
       "    .dataframe thead th {\n",
       "        text-align: right;\n",
       "    }\n",
       "</style>\n",
       "<table border=\"1\" class=\"dataframe\">\n",
       "  <thead>\n",
       "    <tr style=\"text-align: right;\">\n",
       "      <th></th>\n",
       "      <th>name</th>\n",
       "      <th>start_date</th>\n",
       "    </tr>\n",
       "  </thead>\n",
       "  <tbody>\n",
       "    <tr>\n",
       "      <th>1</th>\n",
       "      <td>East Street Arts, A City Less Grey 2022</td>\n",
       "      <td>2022-10-08</td>\n",
       "    </tr>\n",
       "    <tr>\n",
       "      <th>3</th>\n",
       "      <td>Phoenix Dance Theatre Virtual Gallery</td>\n",
       "      <td>2023-01-01</td>\n",
       "    </tr>\n",
       "    <tr>\n",
       "      <th>4</th>\n",
       "      <td>The Big Art Giveaway, School of Creative Arts ...</td>\n",
       "      <td>2023-01-01</td>\n",
       "    </tr>\n",
       "    <tr>\n",
       "      <th>5</th>\n",
       "      <td>Embassy of Netherlands, Meet Leeds Lab</td>\n",
       "      <td>2023-01-16</td>\n",
       "    </tr>\n",
       "    <tr>\n",
       "      <th>6</th>\n",
       "      <td>Shifting Borders: A Journey to the Centre of o...</td>\n",
       "      <td>2023-01-24</td>\n",
       "    </tr>\n",
       "    <tr>\n",
       "      <th>12</th>\n",
       "      <td>Leeds Lit Fest 2023</td>\n",
       "      <td>2023-02-25</td>\n",
       "    </tr>\n",
       "    <tr>\n",
       "      <th>26</th>\n",
       "      <td>East Street Arts, Add Fuel</td>\n",
       "      <td>2023-04-01</td>\n",
       "    </tr>\n",
       "    <tr>\n",
       "      <th>43</th>\n",
       "      <td>Jamica Society Leeds, Out of Many Festival - T...</td>\n",
       "      <td>2023-05-01</td>\n",
       "    </tr>\n",
       "    <tr>\n",
       "      <th>44</th>\n",
       "      <td>Sayang, Si Polan - International residency in ...</td>\n",
       "      <td>2023-05-01</td>\n",
       "    </tr>\n",
       "    <tr>\n",
       "      <th>63</th>\n",
       "      <td>Leeds Jazz Festival 2023</td>\n",
       "      <td>2023-05-25</td>\n",
       "    </tr>\n",
       "    <tr>\n",
       "      <th>79</th>\n",
       "      <td>Keira Martin, Queenie and the Pooka (Performan...</td>\n",
       "      <td>2023-06-05</td>\n",
       "    </tr>\n",
       "    <tr>\n",
       "      <th>80</th>\n",
       "      <td>My LEEDS Summer: Kirkstall Makes + Moves</td>\n",
       "      <td>2023-06-11</td>\n",
       "    </tr>\n",
       "    <tr>\n",
       "      <th>83</th>\n",
       "      <td>My LEEDS Summer at Hunslet Festival</td>\n",
       "      <td>2023-06-17</td>\n",
       "    </tr>\n",
       "    <tr>\n",
       "      <th>84</th>\n",
       "      <td>My LEEDS Summer: Roundhay World Music &amp; Food Fest</td>\n",
       "      <td>2023-06-17</td>\n",
       "    </tr>\n",
       "    <tr>\n",
       "      <th>92</th>\n",
       "      <td>My LEEDS Summer: Beeston Festival</td>\n",
       "      <td>2023-06-24</td>\n",
       "    </tr>\n",
       "    <tr>\n",
       "      <th>93</th>\n",
       "      <td>My LEEDS Summer: Crossgates and Whinmoor - Pas...</td>\n",
       "      <td>2023-06-24</td>\n",
       "    </tr>\n",
       "    <tr>\n",
       "      <th>94</th>\n",
       "      <td>My LEEDS Summer: Picnic in the Park</td>\n",
       "      <td>2023-06-24</td>\n",
       "    </tr>\n",
       "    <tr>\n",
       "      <th>97</th>\n",
       "      <td>Becoming the Brontës</td>\n",
       "      <td>2023-06-29</td>\n",
       "    </tr>\n",
       "    <tr>\n",
       "      <th>103</th>\n",
       "      <td>My LEEDS Summer: Wetherby Drovers Day</td>\n",
       "      <td>2023-07-01</td>\n",
       "    </tr>\n",
       "    <tr>\n",
       "      <th>104</th>\n",
       "      <td>My Leeds Summer : Walk of Art</td>\n",
       "      <td>2023-07-01</td>\n",
       "    </tr>\n",
       "    <tr>\n",
       "      <th>107</th>\n",
       "      <td>My LEEDS Summer: The Feast</td>\n",
       "      <td>2023-07-02</td>\n",
       "    </tr>\n",
       "    <tr>\n",
       "      <th>108</th>\n",
       "      <td>My LEEDS summer: Celebration Day</td>\n",
       "      <td>2023-07-02</td>\n",
       "    </tr>\n",
       "    <tr>\n",
       "      <th>116</th>\n",
       "      <td>My LEEDS Summer : Wonderful Workshops and Cele...</td>\n",
       "      <td>2023-07-06</td>\n",
       "    </tr>\n",
       "    <tr>\n",
       "      <th>123</th>\n",
       "      <td>My LEEDS Summer: The Gipton and Harehills Crea...</td>\n",
       "      <td>2023-07-08</td>\n",
       "    </tr>\n",
       "    <tr>\n",
       "      <th>125</th>\n",
       "      <td>My LEEDS Summer: Ardsley &amp; Robin Hood: Celebra...</td>\n",
       "      <td>2023-07-09</td>\n",
       "    </tr>\n",
       "    <tr>\n",
       "      <th>127</th>\n",
       "      <td>My LEEDS Summer: The Big Summer Picnic</td>\n",
       "      <td>2023-07-09</td>\n",
       "    </tr>\n",
       "    <tr>\n",
       "      <th>130</th>\n",
       "      <td>My LEEDS Summer: Ralph Thoresby Summer Festival</td>\n",
       "      <td>2023-07-15</td>\n",
       "    </tr>\n",
       "    <tr>\n",
       "      <th>132</th>\n",
       "      <td>My LEEDS Summer: Fuse Festival</td>\n",
       "      <td>2023-07-17</td>\n",
       "    </tr>\n",
       "    <tr>\n",
       "      <th>134</th>\n",
       "      <td>Community Training Programme</td>\n",
       "      <td>2023-07-20</td>\n",
       "    </tr>\n",
       "    <tr>\n",
       "      <th>136</th>\n",
       "      <td>My LEEDS Summer: Festival of Culture</td>\n",
       "      <td>2023-07-22</td>\n",
       "    </tr>\n",
       "    <tr>\n",
       "      <th>137</th>\n",
       "      <td>My LEEDS Summer: Kippax and Methley Culture Trail</td>\n",
       "      <td>2023-07-22</td>\n",
       "    </tr>\n",
       "    <tr>\n",
       "      <th>138</th>\n",
       "      <td>My LEEDS Summer: Farnley and Wortley gives it ...</td>\n",
       "      <td>2023-07-23</td>\n",
       "    </tr>\n",
       "    <tr>\n",
       "      <th>139</th>\n",
       "      <td>My LEEDS Summer: Garforth and Swillington's Cr...</td>\n",
       "      <td>2023-07-23</td>\n",
       "    </tr>\n",
       "    <tr>\n",
       "      <th>140</th>\n",
       "      <td>My LEEDS Summer: Morley Make Together</td>\n",
       "      <td>2023-07-23</td>\n",
       "    </tr>\n",
       "    <tr>\n",
       "      <th>141</th>\n",
       "      <td>Gracefool Collective, Kick Off 2023</td>\n",
       "      <td>2023-07-27</td>\n",
       "    </tr>\n",
       "    <tr>\n",
       "      <th>145</th>\n",
       "      <td>My LEEDS Summer: Picture Palace in the Park</td>\n",
       "      <td>2023-07-29</td>\n",
       "    </tr>\n",
       "    <tr>\n",
       "      <th>149</th>\n",
       "      <td>My LEEDS Summer: Cultural Bloom</td>\n",
       "      <td>2023-08-05</td>\n",
       "    </tr>\n",
       "    <tr>\n",
       "      <th>150</th>\n",
       "      <td>My Leeds Summer: Armley Extravaganza</td>\n",
       "      <td>2023-08-05</td>\n",
       "    </tr>\n",
       "  </tbody>\n",
       "</table>\n",
       "</div>"
      ],
      "text/plain": [
       "                                                  name start_date\n",
       "1              East Street Arts, A City Less Grey 2022 2022-10-08\n",
       "3                Phoenix Dance Theatre Virtual Gallery 2023-01-01\n",
       "4    The Big Art Giveaway, School of Creative Arts ... 2023-01-01\n",
       "5               Embassy of Netherlands, Meet Leeds Lab 2023-01-16\n",
       "6    Shifting Borders: A Journey to the Centre of o... 2023-01-24\n",
       "12                                 Leeds Lit Fest 2023 2023-02-25\n",
       "26                          East Street Arts, Add Fuel 2023-04-01\n",
       "43   Jamica Society Leeds, Out of Many Festival - T... 2023-05-01\n",
       "44   Sayang, Si Polan - International residency in ... 2023-05-01\n",
       "63                            Leeds Jazz Festival 2023 2023-05-25\n",
       "79   Keira Martin, Queenie and the Pooka (Performan... 2023-06-05\n",
       "80            My LEEDS Summer: Kirkstall Makes + Moves 2023-06-11\n",
       "83                 My LEEDS Summer at Hunslet Festival 2023-06-17\n",
       "84   My LEEDS Summer: Roundhay World Music & Food Fest 2023-06-17\n",
       "92                   My LEEDS Summer: Beeston Festival 2023-06-24\n",
       "93   My LEEDS Summer: Crossgates and Whinmoor - Pas... 2023-06-24\n",
       "94                 My LEEDS Summer: Picnic in the Park 2023-06-24\n",
       "97                                Becoming the Brontës 2023-06-29\n",
       "103              My LEEDS Summer: Wetherby Drovers Day 2023-07-01\n",
       "104                      My Leeds Summer : Walk of Art 2023-07-01\n",
       "107                         My LEEDS Summer: The Feast 2023-07-02\n",
       "108                   My LEEDS summer: Celebration Day 2023-07-02\n",
       "116  My LEEDS Summer : Wonderful Workshops and Cele... 2023-07-06\n",
       "123  My LEEDS Summer: The Gipton and Harehills Crea... 2023-07-08\n",
       "125  My LEEDS Summer: Ardsley & Robin Hood: Celebra... 2023-07-09\n",
       "127             My LEEDS Summer: The Big Summer Picnic 2023-07-09\n",
       "130    My LEEDS Summer: Ralph Thoresby Summer Festival 2023-07-15\n",
       "132                     My LEEDS Summer: Fuse Festival 2023-07-17\n",
       "134                       Community Training Programme 2023-07-20\n",
       "136               My LEEDS Summer: Festival of Culture 2023-07-22\n",
       "137  My LEEDS Summer: Kippax and Methley Culture Trail 2023-07-22\n",
       "138  My LEEDS Summer: Farnley and Wortley gives it ... 2023-07-23\n",
       "139  My LEEDS Summer: Garforth and Swillington's Cr... 2023-07-23\n",
       "140              My LEEDS Summer: Morley Make Together 2023-07-23\n",
       "141                Gracefool Collective, Kick Off 2023 2023-07-27\n",
       "145        My LEEDS Summer: Picture Palace in the Park 2023-07-29\n",
       "149                    My LEEDS Summer: Cultural Bloom 2023-08-05\n",
       "150               My Leeds Summer: Armley Extravaganza 2023-08-05"
      ]
     },
     "execution_count": 9,
     "metadata": {},
     "output_type": "execute_result"
    }
   ],
   "source": [
    "data[data.postcode.isna()][[\n",
    "    'name', 'start_date'\n",
    "]]"
   ]
  },
  {
   "cell_type": "markdown",
   "id": "3810beba",
   "metadata": {
    "papermill": {
     "duration": 0.003497,
     "end_time": "2023-08-05T23:38:03.710272",
     "exception": false,
     "start_time": "2023-08-05T23:38:03.706775",
     "status": "completed"
    },
    "tags": []
   },
   "source": [
    "Plot the pricing"
   ]
  },
  {
   "cell_type": "code",
   "execution_count": 10,
   "id": "e3917d84",
   "metadata": {
    "execution": {
     "iopub.execute_input": "2023-08-05T23:38:03.718887Z",
     "iopub.status.busy": "2023-08-05T23:38:03.718270Z",
     "iopub.status.idle": "2023-08-05T23:38:04.444345Z",
     "shell.execute_reply": "2023-08-05T23:38:04.443300Z"
    },
    "papermill": {
     "duration": 0.733305,
     "end_time": "2023-08-05T23:38:04.447177",
     "exception": false,
     "start_time": "2023-08-05T23:38:03.713872",
     "status": "completed"
    },
    "tags": []
   },
   "outputs": [
    {
     "data": {
      "image/png": "[encoded data removed]",
      "text/plain": [
       "<Figure size 640x480 with 1 Axes>"
      ]
     },
     "metadata": {},
     "output_type": "display_data"
    }
   ],
   "source": [
    "# .groupby('pricing').count().plot.barh()\n",
    "pricing = data.pricing.fillna('Unspecified').str.replace('[\\[\\'\\]]', '', regex=True).to_frame().reset_index().groupby('pricing').count()\n",
    "\n",
    "pricing.columns = ['count']\n",
    "plot = pricing.plot.barh()\n"
   ]
  },
  {
   "cell_type": "code",
   "execution_count": null,
   "id": "80e7e5f2",
   "metadata": {
    "papermill": {
     "duration": 0.004434,
     "end_time": "2023-08-05T23:38:04.456243",
     "exception": false,
     "start_time": "2023-08-05T23:38:04.451809",
     "status": "completed"
    },
    "tags": []
   },
   "outputs": [],
   "source": []
  }
 ],
 "metadata": {
  "kernelspec": {
   "display_name": "leeds-2023-YZF5GfJv",
   "language": "python",
   "name": "python3"
  },
  "language_info": {
   "codemirror_mode": {
    "name": "ipython",
    "version": 3
   },
   "file_extension": ".py",
   "mimetype": "text/x-python",
   "name": "python",
   "nbconvert_exporter": "python",
   "pygments_lexer": "ipython3",
   "version": "3.10.6"
  },
  "papermill": {
   "default_parameters": {},
   "duration": 17.343307,
   "end_time": "2023-08-05T23:38:04.880006",
   "environment_variables": {},
   "exception": null,
   "input_path": "transform.ipynb",
   "output_path": "../../../working/output/partner-events-transform.ipynb",
   "parameters": {},
   "start_time": "2023-08-05T23:37:47.536699",
   "version": "2.4.0"
  }
 },
 "nbformat": 4,
 "nbformat_minor": 5
}