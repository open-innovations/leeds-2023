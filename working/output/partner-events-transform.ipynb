{
 "cells": [
  {
   "cell_type": "code",
   "execution_count": 1,
   "id": "dc48c3fa",
   "metadata": {
    "execution": {
     "iopub.execute_input": "2023-10-20T23:38:40.458330Z",
     "iopub.status.busy": "2023-10-20T23:38:40.457454Z",
     "iopub.status.idle": "2023-10-20T23:38:40.734178Z",
     "shell.execute_reply": "2023-10-20T23:38:40.733332Z"
    },
    "papermill": {
     "duration": 0.283761,
     "end_time": "2023-10-20T23:38:40.736408",
     "exception": false,
     "start_time": "2023-10-20T23:38:40.452647",
     "status": "completed"
    },
    "tags": []
   },
   "outputs": [],
   "source": [
    "import os\n",
    "import sys\n",
    "import pandas as pd\n",
    "lib_dir = os.path.realpath('../../../lib/')\n",
    "if lib_dir not in sys.path: sys.path.append(lib_dir)"
   ]
  },
  {
   "cell_type": "code",
   "execution_count": 2,
   "id": "0dd3ff01",
   "metadata": {
    "execution": {
     "iopub.execute_input": "2023-10-20T23:38:40.744416Z",
     "iopub.status.busy": "2023-10-20T23:38:40.744071Z",
     "iopub.status.idle": "2023-10-20T23:38:52.270693Z",
     "shell.execute_reply": "2023-10-20T23:38:52.269944Z"
    },
    "papermill": {
     "duration": 11.532962,
     "end_time": "2023-10-20T23:38:52.272864",
     "exception": false,
     "start_time": "2023-10-20T23:38:40.739902",
     "status": "completed"
    },
    "tags": []
   },
   "outputs": [],
   "source": [
    "import util.geo"
   ]
  },
  {
   "cell_type": "code",
   "execution_count": 3,
   "id": "11f9f4b8",
   "metadata": {
    "execution": {
     "iopub.execute_input": "2023-10-20T23:38:52.281134Z",
     "iopub.status.busy": "2023-10-20T23:38:52.280666Z",
     "iopub.status.idle": "2023-10-20T23:38:52.284454Z",
     "shell.execute_reply": "2023-10-20T23:38:52.283783Z"
    },
    "papermill": {
     "duration": 0.00981,
     "end_time": "2023-10-20T23:38:52.286233",
     "exception": false,
     "start_time": "2023-10-20T23:38:52.276423",
     "status": "completed"
    },
    "tags": []
   },
   "outputs": [],
   "source": [
    "EVENTS_RAW_DATA = '../../../working/metrics/partner-events/events.csv'\n",
    "DATA_DIR = '../../../data/metrics/events/partner-events/'\n",
    "EVENTS_DATA = os.path.join(DATA_DIR, 'events.csv')"
   ]
  },
  {
   "cell_type": "code",
   "execution_count": 4,
   "id": "d1d9a1a0",
   "metadata": {
    "execution": {
     "iopub.execute_input": "2023-10-20T23:38:52.292735Z",
     "iopub.status.busy": "2023-10-20T23:38:52.292510Z",
     "iopub.status.idle": "2023-10-20T23:38:52.296200Z",
     "shell.execute_reply": "2023-10-20T23:38:52.295502Z"
    },
    "papermill": {
     "duration": 0.008877,
     "end_time": "2023-10-20T23:38:52.297793",
     "exception": false,
     "start_time": "2023-10-20T23:38:52.288916",
     "status": "completed"
    },
    "tags": []
   },
   "outputs": [],
   "source": [
    "columns = {\n",
    "    'Event Name': 'name',\n",
    "    'Event Start Date': 'start_date',\n",
    "    'Event End Date': 'end_date',\n",
    "    'Partner/Promote': 'partner_promote',\n",
    "    'Stage': 'stage',\n",
    "    'Live date': 'live_date',\n",
    "    'Venue postcode': 'postcode',\n",
    "    'Pricing Policy': 'pricing',\n",
    "    'Venue - including address': 'venue',\n",
    "    'Is this event on Leeds Inspried?': 'on_leeds_inspired',\n",
    "}"
   ]
  },
  {
   "cell_type": "markdown",
   "id": "a871544b",
   "metadata": {
    "papermill": {
     "duration": 0.002682,
     "end_time": "2023-10-20T23:38:52.303178",
     "exception": false,
     "start_time": "2023-10-20T23:38:52.300496",
     "status": "completed"
    },
    "tags": []
   },
   "source": [
    "Load the data and rename columns. Parse the dates to dates."
   ]
  },
  {
   "cell_type": "code",
   "execution_count": 5,
   "id": "b1b4869d",
   "metadata": {
    "execution": {
     "iopub.execute_input": "2023-10-20T23:38:52.309899Z",
     "iopub.status.busy": "2023-10-20T23:38:52.309330Z",
     "iopub.status.idle": "2023-10-20T23:38:52.320631Z",
     "shell.execute_reply": "2023-10-20T23:38:52.320022Z"
    },
    "papermill": {
     "duration": 0.016559,
     "end_time": "2023-10-20T23:38:52.322382",
     "exception": false,
     "start_time": "2023-10-20T23:38:52.305823",
     "status": "completed"
    },
    "tags": []
   },
   "outputs": [],
   "source": [
    "data = pd.read_csv(EVENTS_RAW_DATA)[columns.keys()].rename(columns=columns)\n",
    "data.start_date = pd.to_datetime(data.start_date, errors='coerce')\n",
    "data.end_date = pd.to_datetime(data.end_date, errors='coerce')"
   ]
  },
  {
   "cell_type": "markdown",
   "id": "eb2036e5",
   "metadata": {
    "papermill": {
     "duration": 0.003187,
     "end_time": "2023-10-20T23:38:52.328416",
     "exception": false,
     "start_time": "2023-10-20T23:38:52.325229",
     "status": "completed"
    },
    "tags": []
   },
   "source": [
    "Filter data by not LI Pull through and start date before now"
   ]
  },
  {
   "cell_type": "code",
   "execution_count": 6,
   "id": "a2cd6976",
   "metadata": {
    "execution": {
     "iopub.execute_input": "2023-10-20T23:38:52.337506Z",
     "iopub.status.busy": "2023-10-20T23:38:52.336770Z",
     "iopub.status.idle": "2023-10-20T23:38:52.342739Z",
     "shell.execute_reply": "2023-10-20T23:38:52.342099Z"
    },
    "papermill": {
     "duration": 0.012001,
     "end_time": "2023-10-20T23:38:52.344337",
     "exception": false,
     "start_time": "2023-10-20T23:38:52.332336",
     "status": "completed"
    },
    "tags": []
   },
   "outputs": [],
   "source": [
    "data = data[\n",
    "    # (data.live_date == 'This event is live ') &\n",
    "    ((data.stage != 'LI pull through') & data.stage.notna()) &\n",
    "    (data.start_date < pd.Timestamp.now())\n",
    "]"
   ]
  },
  {
   "cell_type": "code",
   "execution_count": 7,
   "id": "035a483b",
   "metadata": {
    "execution": {
     "iopub.execute_input": "2023-10-20T23:38:52.351256Z",
     "iopub.status.busy": "2023-10-20T23:38:52.350803Z",
     "iopub.status.idle": "2023-10-20T23:38:53.742603Z",
     "shell.execute_reply": "2023-10-20T23:38:53.741817Z"
    },
    "papermill": {
     "duration": 1.397717,
     "end_time": "2023-10-20T23:38:53.744783",
     "exception": false,
     "start_time": "2023-10-20T23:38:52.347066",
     "status": "completed"
    },
    "tags": []
   },
   "outputs": [],
   "source": [
    "data['ward_code'] = data.postcode.pipe(util.geo.postcode_formatter).map(util.geo.postcode_to_ward_code)\n",
    "data['ward_name'] = data.ward_code.pipe(util.geo.ward_code_to_name)"
   ]
  },
  {
   "cell_type": "markdown",
   "id": "635598f4",
   "metadata": {
    "papermill": {
     "duration": 0.003582,
     "end_time": "2023-10-20T23:38:53.751997",
     "exception": false,
     "start_time": "2023-10-20T23:38:53.748415",
     "status": "completed"
    },
    "tags": []
   },
   "source": [
    "Save the file"
   ]
  },
  {
   "cell_type": "code",
   "execution_count": 8,
   "id": "a0242654",
   "metadata": {
    "execution": {
     "iopub.execute_input": "2023-10-20T23:38:53.759491Z",
     "iopub.status.busy": "2023-10-20T23:38:53.758794Z",
     "iopub.status.idle": "2023-10-20T23:38:53.767271Z",
     "shell.execute_reply": "2023-10-20T23:38:53.766624Z"
    },
    "papermill": {
     "duration": 0.014371,
     "end_time": "2023-10-20T23:38:53.769205",
     "exception": false,
     "start_time": "2023-10-20T23:38:53.754834",
     "status": "completed"
    },
    "tags": []
   },
   "outputs": [],
   "source": [
    "data[\n",
    "    ['name','start_date','end_date','ward_code']\n",
    "].to_csv(EVENTS_DATA, index=False)"
   ]
  },
  {
   "cell_type": "markdown",
   "id": "b782462b",
   "metadata": {
    "papermill": {
     "duration": 0.002862,
     "end_time": "2023-10-20T23:38:53.775050",
     "exception": false,
     "start_time": "2023-10-20T23:38:53.772188",
     "status": "completed"
    },
    "tags": []
   },
   "source": [
    "Print out missing postcode data"
   ]
  },
  {
   "cell_type": "code",
   "execution_count": 9,
   "id": "44f76042",
   "metadata": {
    "execution": {
     "iopub.execute_input": "2023-10-20T23:38:53.782635Z",
     "iopub.status.busy": "2023-10-20T23:38:53.781956Z",
     "iopub.status.idle": "2023-10-20T23:38:53.796358Z",
     "shell.execute_reply": "2023-10-20T23:38:53.795763Z"
    },
    "papermill": {
     "duration": 0.020186,
     "end_time": "2023-10-20T23:38:53.798156",
     "exception": false,
     "start_time": "2023-10-20T23:38:53.777970",
     "status": "completed"
    },
    "tags": []
   },
   "outputs": [
    {
     "data": {
      "text/html": [
       "<div>\n",
       "<style scoped>\n",
       "    .dataframe tbody tr th:only-of-type {\n",
       "        vertical-align: middle;\n",
       "    }\n",
       "\n",
       "    .dataframe tbody tr th {\n",
       "        vertical-align: top;\n",
       "    }\n",
       "\n",
       "    .dataframe thead th {\n",
       "        text-align: right;\n",
       "    }\n",
       "</style>\n",
       "<table border=\"1\" class=\"dataframe\">\n",
       "  <thead>\n",
       "    <tr style=\"text-align: right;\">\n",
       "      <th></th>\n",
       "      <th>name</th>\n",
       "      <th>start_date</th>\n",
       "    </tr>\n",
       "  </thead>\n",
       "  <tbody>\n",
       "    <tr>\n",
       "      <th>1</th>\n",
       "      <td>East Street Arts, A City Less Grey 2022</td>\n",
       "      <td>2022-10-08</td>\n",
       "    </tr>\n",
       "    <tr>\n",
       "      <th>3</th>\n",
       "      <td>Phoenix Dance Theatre Virtual Gallery</td>\n",
       "      <td>2023-01-01</td>\n",
       "    </tr>\n",
       "    <tr>\n",
       "      <th>4</th>\n",
       "      <td>The Big Art Giveaway, School of Creative Arts ...</td>\n",
       "      <td>2023-01-01</td>\n",
       "    </tr>\n",
       "    <tr>\n",
       "      <th>5</th>\n",
       "      <td>Embassy of Netherlands, Meet Leeds Lab</td>\n",
       "      <td>2023-01-16</td>\n",
       "    </tr>\n",
       "    <tr>\n",
       "      <th>6</th>\n",
       "      <td>Shifting Borders: A Journey to the Centre of o...</td>\n",
       "      <td>2023-01-24</td>\n",
       "    </tr>\n",
       "    <tr>\n",
       "      <th>...</th>\n",
       "      <td>...</td>\n",
       "      <td>...</td>\n",
       "    </tr>\n",
       "    <tr>\n",
       "      <th>226</th>\n",
       "      <td>Art Social CPD for Teachers: People Pictures w...</td>\n",
       "      <td>2023-10-18</td>\n",
       "    </tr>\n",
       "    <tr>\n",
       "      <th>228</th>\n",
       "      <td>Return of the She-Punks!</td>\n",
       "      <td>2023-10-18</td>\n",
       "    </tr>\n",
       "    <tr>\n",
       "      <th>229</th>\n",
       "      <td>Northern Dreaming Storytelling session</td>\n",
       "      <td>2023-10-19</td>\n",
       "    </tr>\n",
       "    <tr>\n",
       "      <th>231</th>\n",
       "      <td>And She Built a Crooked House</td>\n",
       "      <td>2023-10-20</td>\n",
       "    </tr>\n",
       "    <tr>\n",
       "      <th>232</th>\n",
       "      <td>And She Built a Crooked House - 4D Yoga</td>\n",
       "      <td>2023-10-20</td>\n",
       "    </tr>\n",
       "  </tbody>\n",
       "</table>\n",
       "<p>77 rows × 2 columns</p>\n",
       "</div>"
      ],
      "text/plain": [
       "                                                  name start_date\n",
       "1              East Street Arts, A City Less Grey 2022 2022-10-08\n",
       "3                Phoenix Dance Theatre Virtual Gallery 2023-01-01\n",
       "4    The Big Art Giveaway, School of Creative Arts ... 2023-01-01\n",
       "5               Embassy of Netherlands, Meet Leeds Lab 2023-01-16\n",
       "6    Shifting Borders: A Journey to the Centre of o... 2023-01-24\n",
       "..                                                 ...        ...\n",
       "226  Art Social CPD for Teachers: People Pictures w... 2023-10-18\n",
       "228                           Return of the She-Punks! 2023-10-18\n",
       "229            Northern Dreaming Storytelling session  2023-10-19\n",
       "231                      And She Built a Crooked House 2023-10-20\n",
       "232            And She Built a Crooked House - 4D Yoga 2023-10-20\n",
       "\n",
       "[77 rows x 2 columns]"
      ]
     },
     "execution_count": 9,
     "metadata": {},
     "output_type": "execute_result"
    }
   ],
   "source": [
    "data[data.postcode.isna()][[\n",
    "    'name', 'start_date'\n",
    "]]"
   ]
  },
  {
   "cell_type": "markdown",
   "id": "2e8f9fc9",
   "metadata": {
    "papermill": {
     "duration": 0.00318,
     "end_time": "2023-10-20T23:38:53.804596",
     "exception": false,
     "start_time": "2023-10-20T23:38:53.801416",
     "status": "completed"
    },
    "tags": []
   },
   "source": [
    "Plot the pricing"
   ]
  },
  {
   "cell_type": "code",
   "execution_count": 10,
   "id": "dcf6f32c",
   "metadata": {
    "execution": {
     "iopub.execute_input": "2023-10-20T23:38:53.812717Z",
     "iopub.status.busy": "2023-10-20T23:38:53.812133Z",
     "iopub.status.idle": "2023-10-20T23:38:54.371947Z",
     "shell.execute_reply": "2023-10-20T23:38:54.371269Z"
    },
    "papermill": {
     "duration": 0.566034,
     "end_time": "2023-10-20T23:38:54.373826",
     "exception": false,
     "start_time": "2023-10-20T23:38:53.807792",
     "status": "completed"
    },
    "tags": []
   },
   "outputs": [
    {
     "data": {
      "image/png": "[encoded data removed]",
      "text/plain": [
       "<Figure size 640x480 with 1 Axes>"
      ]
     },
     "metadata": {},
     "output_type": "display_data"
    }
   ],
   "source": [
    "# .groupby('pricing').count().plot.barh()\n",
    "pricing = data.pricing.fillna('Unspecified').str.replace('[\\[\\'\\]]', '', regex=True).to_frame().reset_index().groupby('pricing').count()\n",
    "\n",
    "pricing.columns = ['count']\n",
    "plot = pricing.plot.barh()\n"
   ]
  },
  {
   "cell_type": "code",
   "execution_count": null,
   "id": "01f402a9",
   "metadata": {
    "papermill": {
     "duration": 0.003646,
     "end_time": "2023-10-20T23:38:54.381687",
     "exception": false,
     "start_time": "2023-10-20T23:38:54.378041",
     "status": "completed"
    },
    "tags": []
   },
   "outputs": [],
   "source": []
  }
 ],
 "metadata": {
  "kernelspec": {
   "display_name": "leeds-2023-YZF5GfJv",
   "language": "python",
   "name": "python3"
  },
  "language_info": {
   "codemirror_mode": {
    "name": "ipython",
    "version": 3
   },
   "file_extension": ".py",
   "mimetype": "text/x-python",
   "name": "python",
   "nbconvert_exporter": "python",
   "pygments_lexer": "ipython3",
   "version": "3.10.13"
  },
  "papermill": {
   "default_parameters": {},
   "duration": 16.044155,
   "end_time": "2023-10-20T23:38:54.904443",
   "environment_variables": {},
   "exception": null,
   "input_path": "transform.ipynb",
   "output_path": "../../../working/output/partner-events-transform.ipynb",
   "parameters": {},
   "start_time": "2023-10-20T23:38:38.860288",
   "version": "2.4.0"
  }
 },
 "nbformat": 4,
 "nbformat_minor": 5
}