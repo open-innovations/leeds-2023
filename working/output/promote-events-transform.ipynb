{
 "cells": [
  {
   "cell_type": "code",
   "execution_count": 1,
   "id": "5e6255fe",
   "metadata": {
    "execution": {
     "iopub.execute_input": "2023-08-13T23:36:48.866233Z",
     "iopub.status.busy": "2023-08-13T23:36:48.865511Z",
     "iopub.status.idle": "2023-08-13T23:36:49.116593Z",
     "shell.execute_reply": "2023-08-13T23:36:49.115867Z"
    },
    "papermill": {
     "duration": 0.256608,
     "end_time": "2023-08-13T23:36:49.118832",
     "exception": false,
     "start_time": "2023-08-13T23:36:48.862224",
     "status": "completed"
    },
    "tags": []
   },
   "outputs": [],
   "source": [
    "import os\n",
    "import pandas as pd"
   ]
  },
  {
   "cell_type": "code",
   "execution_count": 2,
   "id": "ec62c60f",
   "metadata": {
    "execution": {
     "iopub.execute_input": "2023-08-13T23:36:49.123285Z",
     "iopub.status.busy": "2023-08-13T23:36:49.122563Z",
     "iopub.status.idle": "2023-08-13T23:36:49.126084Z",
     "shell.execute_reply": "2023-08-13T23:36:49.125487Z"
    },
    "papermill": {
     "duration": 0.007127,
     "end_time": "2023-08-13T23:36:49.127550",
     "exception": false,
     "start_time": "2023-08-13T23:36:49.120423",
     "status": "completed"
    },
    "tags": []
   },
   "outputs": [],
   "source": [
    "EVENTS_RAW_DATA = '../../../working/metrics/promote-events/events.csv'\n",
    "DATA_DIR = '../../../data/metrics/events/promote-events/'\n",
    "EVENTS_DATA = os.path.join(DATA_DIR, 'events.csv')"
   ]
  },
  {
   "cell_type": "code",
   "execution_count": 3,
   "id": "792f0ae8",
   "metadata": {
    "execution": {
     "iopub.execute_input": "2023-08-13T23:36:49.131094Z",
     "iopub.status.busy": "2023-08-13T23:36:49.130694Z",
     "iopub.status.idle": "2023-08-13T23:36:49.134123Z",
     "shell.execute_reply": "2023-08-13T23:36:49.133467Z"
    },
    "papermill": {
     "duration": 0.006959,
     "end_time": "2023-08-13T23:36:49.135679",
     "exception": false,
     "start_time": "2023-08-13T23:36:49.128720",
     "status": "completed"
    },
    "tags": []
   },
   "outputs": [],
   "source": [
    "columns = {\n",
    "    'id': 'id',\n",
    "    'name': 'name',\n",
    "    'locationName': 'location',\n",
    "    'cardPrice': 'card_price',\n",
    "    'timeslots': 'time',\n",
    "    'displayOnWebsite': 'display',\n",
    "    'Stage': 'stage',\n",
    "}"
   ]
  },
  {
   "cell_type": "code",
   "execution_count": 4,
   "id": "8e1fa541",
   "metadata": {
    "execution": {
     "iopub.execute_input": "2023-08-13T23:36:49.139373Z",
     "iopub.status.busy": "2023-08-13T23:36:49.138971Z",
     "iopub.status.idle": "2023-08-13T23:36:49.153012Z",
     "shell.execute_reply": "2023-08-13T23:36:49.152404Z"
    },
    "papermill": {
     "duration": 0.017695,
     "end_time": "2023-08-13T23:36:49.154622",
     "exception": false,
     "start_time": "2023-08-13T23:36:49.136927",
     "status": "completed"
    },
    "tags": []
   },
   "outputs": [],
   "source": [
    "data = pd.read_csv(EVENTS_RAW_DATA)[columns.keys()].rename(columns=columns)\n",
    "data.time = pd.to_datetime(data.time, errors='coerce')"
   ]
  },
  {
   "cell_type": "code",
   "execution_count": 5,
   "id": "d1284060",
   "metadata": {
    "execution": {
     "iopub.execute_input": "2023-08-13T23:36:49.158725Z",
     "iopub.status.busy": "2023-08-13T23:36:49.158300Z",
     "iopub.status.idle": "2023-08-13T23:36:49.167254Z",
     "shell.execute_reply": "2023-08-13T23:36:49.166689Z"
    },
    "papermill": {
     "duration": 0.01278,
     "end_time": "2023-08-13T23:36:49.168812",
     "exception": false,
     "start_time": "2023-08-13T23:36:49.156032",
     "status": "completed"
    },
    "tags": []
   },
   "outputs": [],
   "source": [
    "data.to_csv(os.path.join(DATA_DIR, 'events.csv'), index=False)"
   ]
  }
 ],
 "metadata": {
  "kernelspec": {
   "display_name": "leeds-2023-YZF5GfJv",
   "language": "python",
   "name": "python3"
  },
  "language_info": {
   "codemirror_mode": {
    "name": "ipython",
    "version": 3
   },
   "file_extension": ".py",
   "mimetype": "text/x-python",
   "name": "python",
   "nbconvert_exporter": "python",
   "pygments_lexer": "ipython3",
   "version": "3.10.12"
  },
  "papermill": {
   "default_parameters": {},
   "duration": 1.927256,
   "end_time": "2023-08-13T23:36:49.387327",
   "environment_variables": {},
   "exception": null,
   "input_path": "transform.ipynb",
   "output_path": "../../../working/output/promote-events-transform.ipynb",
   "parameters": {},
   "start_time": "2023-08-13T23:36:47.460071",
   "version": "2.4.0"
  }
 },
 "nbformat": 4,
 "nbformat_minor": 5
}