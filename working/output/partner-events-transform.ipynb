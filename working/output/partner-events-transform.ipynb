{
 "cells": [
  {
   "cell_type": "code",
   "execution_count": 1,
   "id": "85e83989",
   "metadata": {
    "execution": {
     "iopub.execute_input": "2023-11-27T23:37:48.594899Z",
     "iopub.status.busy": "2023-11-27T23:37:48.594706Z",
     "iopub.status.idle": "2023-11-27T23:37:48.833229Z",
     "shell.execute_reply": "2023-11-27T23:37:48.832520Z"
    },
    "papermill": {
     "duration": 0.243669,
     "end_time": "2023-11-27T23:37:48.834975",
     "exception": false,
     "start_time": "2023-11-27T23:37:48.591306",
     "status": "completed"
    },
    "tags": []
   },
   "outputs": [],
   "source": [
    "import os\n",
    "import sys\n",
    "import pandas as pd\n",
    "lib_dir = os.path.realpath('../../../lib/')\n",
    "if lib_dir not in sys.path: sys.path.append(lib_dir)"
   ]
  },
  {
   "cell_type": "code",
   "execution_count": 2,
   "id": "864087e2",
   "metadata": {
    "execution": {
     "iopub.execute_input": "2023-11-27T23:37:48.840689Z",
     "iopub.status.busy": "2023-11-27T23:37:48.840262Z",
     "iopub.status.idle": "2023-11-27T23:37:55.684621Z",
     "shell.execute_reply": "2023-11-27T23:37:55.683894Z"
    },
    "papermill": {
     "duration": 6.848864,
     "end_time": "2023-11-27T23:37:55.686333",
     "exception": false,
     "start_time": "2023-11-27T23:37:48.837469",
     "status": "completed"
    },
    "tags": []
   },
   "outputs": [],
   "source": [
    "import util.geo"
   ]
  },
  {
   "cell_type": "code",
   "execution_count": 3,
   "id": "1e5f06da",
   "metadata": {
    "execution": {
     "iopub.execute_input": "2023-11-27T23:37:55.691863Z",
     "iopub.status.busy": "2023-11-27T23:37:55.691626Z",
     "iopub.status.idle": "2023-11-27T23:37:55.694969Z",
     "shell.execute_reply": "2023-11-27T23:37:55.694360Z"
    },
    "papermill": {
     "duration": 0.007606,
     "end_time": "2023-11-27T23:37:55.696375",
     "exception": false,
     "start_time": "2023-11-27T23:37:55.688769",
     "status": "completed"
    },
    "tags": []
   },
   "outputs": [],
   "source": [
    "EVENTS_RAW_DATA = '../../../working/metrics/partner-events/events.csv'\n",
    "DATA_DIR = '../../../data/metrics/events/partner-events/'\n",
    "EVENTS_DATA = os.path.join(DATA_DIR, 'events.csv')"
   ]
  },
  {
   "cell_type": "code",
   "execution_count": 4,
   "id": "91afb676",
   "metadata": {
    "execution": {
     "iopub.execute_input": "2023-11-27T23:37:55.701508Z",
     "iopub.status.busy": "2023-11-27T23:37:55.701154Z",
     "iopub.status.idle": "2023-11-27T23:37:55.704429Z",
     "shell.execute_reply": "2023-11-27T23:37:55.703845Z"
    },
    "papermill": {
     "duration": 0.007247,
     "end_time": "2023-11-27T23:37:55.705724",
     "exception": false,
     "start_time": "2023-11-27T23:37:55.698477",
     "status": "completed"
    },
    "tags": []
   },
   "outputs": [],
   "source": [
    "columns = {\n",
    "    'Event Name': 'name',\n",
    "    'Event Start Date': 'start_date',\n",
    "    'Event End Date': 'end_date',\n",
    "    'Partner/Promote': 'partner_promote',\n",
    "    'Stage': 'stage',\n",
    "    'Live date': 'live_date',\n",
    "    'Venue postcode': 'postcode',\n",
    "    'Pricing Policy': 'pricing',\n",
    "    'Venue - including address': 'venue',\n",
    "    'Is this event on Leeds Inspried?': 'on_leeds_inspired',\n",
    "}"
   ]
  },
  {
   "cell_type": "markdown",
   "id": "d1119d0c",
   "metadata": {
    "papermill": {
     "duration": 0.002128,
     "end_time": "2023-11-27T23:37:55.709986",
     "exception": false,
     "start_time": "2023-11-27T23:37:55.707858",
     "status": "completed"
    },
    "tags": []
   },
   "source": [
    "Load the data and rename columns. Parse the dates to dates."
   ]
  },
  {
   "cell_type": "code",
   "execution_count": 5,
   "id": "9b363af9",
   "metadata": {
    "execution": {
     "iopub.execute_input": "2023-11-27T23:37:55.715254Z",
     "iopub.status.busy": "2023-11-27T23:37:55.714804Z",
     "iopub.status.idle": "2023-11-27T23:37:55.723706Z",
     "shell.execute_reply": "2023-11-27T23:37:55.723208Z"
    },
    "papermill": {
     "duration": 0.012888,
     "end_time": "2023-11-27T23:37:55.724975",
     "exception": false,
     "start_time": "2023-11-27T23:37:55.712087",
     "status": "completed"
    },
    "tags": []
   },
   "outputs": [],
   "source": [
    "data = pd.read_csv(EVENTS_RAW_DATA)[columns.keys()].rename(columns=columns)\n",
    "data.start_date = pd.to_datetime(data.start_date, errors='coerce')\n",
    "data.end_date = pd.to_datetime(data.end_date, errors='coerce')"
   ]
  },
  {
   "cell_type": "markdown",
   "id": "67f7b293",
   "metadata": {
    "papermill": {
     "duration": 0.00214,
     "end_time": "2023-11-27T23:37:55.729254",
     "exception": false,
     "start_time": "2023-11-27T23:37:55.727114",
     "status": "completed"
    },
    "tags": []
   },
   "source": [
    "Filter data by not LI Pull through and start date before now"
   ]
  },
  {
   "cell_type": "code",
   "execution_count": 6,
   "id": "35222517",
   "metadata": {
    "execution": {
     "iopub.execute_input": "2023-11-27T23:37:55.735166Z",
     "iopub.status.busy": "2023-11-27T23:37:55.734962Z",
     "iopub.status.idle": "2023-11-27T23:37:55.739547Z",
     "shell.execute_reply": "2023-11-27T23:37:55.738997Z"
    },
    "papermill": {
     "duration": 0.008685,
     "end_time": "2023-11-27T23:37:55.740788",
     "exception": false,
     "start_time": "2023-11-27T23:37:55.732103",
     "status": "completed"
    },
    "tags": []
   },
   "outputs": [],
   "source": [
    "data = data[\n",
    "    # (data.live_date == 'This event is live ') &\n",
    "    ((data.stage != 'LI pull through') & data.stage.notna()) &\n",
    "    (data.start_date < pd.Timestamp.now())\n",
    "]"
   ]
  },
  {
   "cell_type": "code",
   "execution_count": 7,
   "id": "97351c4b",
   "metadata": {
    "execution": {
     "iopub.execute_input": "2023-11-27T23:37:55.746064Z",
     "iopub.status.busy": "2023-11-27T23:37:55.745688Z",
     "iopub.status.idle": "2023-11-27T23:37:56.591400Z",
     "shell.execute_reply": "2023-11-27T23:37:56.590775Z"
    },
    "papermill": {
     "duration": 0.850149,
     "end_time": "2023-11-27T23:37:56.593069",
     "exception": false,
     "start_time": "2023-11-27T23:37:55.742920",
     "status": "completed"
    },
    "tags": []
   },
   "outputs": [],
   "source": [
    "data['ward_code'] = data.postcode.pipe(util.geo.postcode_formatter).map(util.geo.postcode_to_ward_code)\n",
    "data['ward_name'] = data.ward_code.pipe(util.geo.ward_code_to_name)"
   ]
  },
  {
   "cell_type": "markdown",
   "id": "8e738543",
   "metadata": {
    "papermill": {
     "duration": 0.002307,
     "end_time": "2023-11-27T23:37:56.597914",
     "exception": false,
     "start_time": "2023-11-27T23:37:56.595607",
     "status": "completed"
    },
    "tags": []
   },
   "source": [
    "Save the file"
   ]
  },
  {
   "cell_type": "code",
   "execution_count": 8,
   "id": "f5682bdd",
   "metadata": {
    "execution": {
     "iopub.execute_input": "2023-11-27T23:37:56.603187Z",
     "iopub.status.busy": "2023-11-27T23:37:56.602971Z",
     "iopub.status.idle": "2023-11-27T23:37:56.608856Z",
     "shell.execute_reply": "2023-11-27T23:37:56.608300Z"
    },
    "papermill": {
     "duration": 0.009996,
     "end_time": "2023-11-27T23:37:56.610074",
     "exception": false,
     "start_time": "2023-11-27T23:37:56.600078",
     "status": "completed"
    },
    "tags": []
   },
   "outputs": [],
   "source": [
    "data[\n",
    "    ['name','start_date','end_date','ward_code']\n",
    "].to_csv(EVENTS_DATA, index=False)"
   ]
  },
  {
   "cell_type": "markdown",
   "id": "9d29b3c8",
   "metadata": {
    "papermill": {
     "duration": 0.002157,
     "end_time": "2023-11-27T23:37:56.614469",
     "exception": false,
     "start_time": "2023-11-27T23:37:56.612312",
     "status": "completed"
    },
    "tags": []
   },
   "source": [
    "Print out missing postcode data"
   ]
  },
  {
   "cell_type": "code",
   "execution_count": 9,
   "id": "3d69697f",
   "metadata": {
    "execution": {
     "iopub.execute_input": "2023-11-27T23:37:56.619911Z",
     "iopub.status.busy": "2023-11-27T23:37:56.619541Z",
     "iopub.status.idle": "2023-11-27T23:37:56.631102Z",
     "shell.execute_reply": "2023-11-27T23:37:56.630460Z"
    },
    "papermill": {
     "duration": 0.015711,
     "end_time": "2023-11-27T23:37:56.632417",
     "exception": false,
     "start_time": "2023-11-27T23:37:56.616706",
     "status": "completed"
    },
    "tags": []
   },
   "outputs": [
    {
     "data": {
      "text/html": [
       "<div>\n",
       "<style scoped>\n",
       "    .dataframe tbody tr th:only-of-type {\n",
       "        vertical-align: middle;\n",
       "    }\n",
       "\n",
       "    .dataframe tbody tr th {\n",
       "        vertical-align: top;\n",
       "    }\n",
       "\n",
       "    .dataframe thead th {\n",
       "        text-align: right;\n",
       "    }\n",
       "</style>\n",
       "<table border=\"1\" class=\"dataframe\">\n",
       "  <thead>\n",
       "    <tr style=\"text-align: right;\">\n",
       "      <th></th>\n",
       "      <th>name</th>\n",
       "      <th>start_date</th>\n",
       "    </tr>\n",
       "  </thead>\n",
       "  <tbody>\n",
       "    <tr>\n",
       "      <th>1</th>\n",
       "      <td>East Street Arts, A City Less Grey 2022</td>\n",
       "      <td>2022-10-08</td>\n",
       "    </tr>\n",
       "    <tr>\n",
       "      <th>3</th>\n",
       "      <td>Phoenix Dance Theatre Virtual Gallery</td>\n",
       "      <td>2023-01-01</td>\n",
       "    </tr>\n",
       "    <tr>\n",
       "      <th>4</th>\n",
       "      <td>The Big Art Giveaway, School of Creative Arts ...</td>\n",
       "      <td>2023-01-01</td>\n",
       "    </tr>\n",
       "    <tr>\n",
       "      <th>5</th>\n",
       "      <td>Embassy of Netherlands, Meet Leeds Lab</td>\n",
       "      <td>2023-01-16</td>\n",
       "    </tr>\n",
       "    <tr>\n",
       "      <th>6</th>\n",
       "      <td>Shifting Borders: A Journey to the Centre of o...</td>\n",
       "      <td>2023-01-24</td>\n",
       "    </tr>\n",
       "    <tr>\n",
       "      <th>...</th>\n",
       "      <td>...</td>\n",
       "      <td>...</td>\n",
       "    </tr>\n",
       "    <tr>\n",
       "      <th>298</th>\n",
       "      <td>afrah shafiq: st.itch</td>\n",
       "      <td>2023-11-16</td>\n",
       "    </tr>\n",
       "    <tr>\n",
       "      <th>299</th>\n",
       "      <td>Leeds Language Week: Chinese Dance and Languag...</td>\n",
       "      <td>2023-11-19</td>\n",
       "    </tr>\n",
       "    <tr>\n",
       "      <th>300</th>\n",
       "      <td>Leeds Language Week: Taste of China</td>\n",
       "      <td>2023-11-19</td>\n",
       "    </tr>\n",
       "    <tr>\n",
       "      <th>302</th>\n",
       "      <td>Don't Go To Bed Just Yet: Live recording from ...</td>\n",
       "      <td>2023-11-21</td>\n",
       "    </tr>\n",
       "    <tr>\n",
       "      <th>304</th>\n",
       "      <td>Wellbeing Wednesdays</td>\n",
       "      <td>2023-11-22</td>\n",
       "    </tr>\n",
       "  </tbody>\n",
       "</table>\n",
       "<p>126 rows × 2 columns</p>\n",
       "</div>"
      ],
      "text/plain": [
       "                                                  name start_date\n",
       "1              East Street Arts, A City Less Grey 2022 2022-10-08\n",
       "3                Phoenix Dance Theatre Virtual Gallery 2023-01-01\n",
       "4    The Big Art Giveaway, School of Creative Arts ... 2023-01-01\n",
       "5               Embassy of Netherlands, Meet Leeds Lab 2023-01-16\n",
       "6    Shifting Borders: A Journey to the Centre of o... 2023-01-24\n",
       "..                                                 ...        ...\n",
       "298                              afrah shafiq: st.itch 2023-11-16\n",
       "299  Leeds Language Week: Chinese Dance and Languag... 2023-11-19\n",
       "300                Leeds Language Week: Taste of China 2023-11-19\n",
       "302  Don't Go To Bed Just Yet: Live recording from ... 2023-11-21\n",
       "304                               Wellbeing Wednesdays 2023-11-22\n",
       "\n",
       "[126 rows x 2 columns]"
      ]
     },
     "execution_count": 9,
     "metadata": {},
     "output_type": "execute_result"
    }
   ],
   "source": [
    "data[data.postcode.isna()][[\n",
    "    'name', 'start_date'\n",
    "]]"
   ]
  },
  {
   "cell_type": "markdown",
   "id": "38d88ef0",
   "metadata": {
    "papermill": {
     "duration": 0.002387,
     "end_time": "2023-11-27T23:37:56.637282",
     "exception": false,
     "start_time": "2023-11-27T23:37:56.634895",
     "status": "completed"
    },
    "tags": []
   },
   "source": [
    "Plot the pricing"
   ]
  },
  {
   "cell_type": "code",
   "execution_count": 10,
   "id": "6bcc578f",
   "metadata": {
    "execution": {
     "iopub.execute_input": "2023-11-27T23:37:56.643127Z",
     "iopub.status.busy": "2023-11-27T23:37:56.642757Z",
     "iopub.status.idle": "2023-11-27T23:37:59.145484Z",
     "shell.execute_reply": "2023-11-27T23:37:59.144802Z"
    },
    "papermill": {
     "duration": 2.507167,
     "end_time": "2023-11-27T23:37:59.146879",
     "exception": false,
     "start_time": "2023-11-27T23:37:56.639712",
     "status": "completed"
    },
    "tags": []
   },
   "outputs": [
    {
     "data": {
      "image/png": "[encoded data removed]",
      "text/plain": [
       "<Figure size 640x480 with 1 Axes>"
      ]
     },
     "metadata": {},
     "output_type": "display_data"
    }
   ],
   "source": [
    "# .groupby('pricing').count().plot.barh()\n",
    "pricing = data.pricing.fillna('Unspecified').str.replace('[\\[\\'\\]]', '', regex=True).to_frame().reset_index().groupby('pricing').count()\n",
    "\n",
    "pricing.columns = ['count']\n",
    "plot = pricing.plot.barh()\n"
   ]
  },
  {
   "cell_type": "code",
   "execution_count": null,
   "id": "e4faf0df",
   "metadata": {
    "papermill": {
     "duration": 0.002781,
     "end_time": "2023-11-27T23:37:59.152816",
     "exception": false,
     "start_time": "2023-11-27T23:37:59.150035",
     "status": "completed"
    },
    "tags": []
   },
   "outputs": [],
   "source": []
  }
 ],
 "metadata": {
  "kernelspec": {
   "display_name": "leeds-2023-YZF5GfJv",
   "language": "python",
   "name": "python3"
  },
  "language_info": {
   "codemirror_mode": {
    "name": "ipython",
    "version": 3
   },
   "file_extension": ".py",
   "mimetype": "text/x-python",
   "name": "python",
   "nbconvert_exporter": "python",
   "pygments_lexer": "ipython3",
   "version": "3.10.13"
  },
  "papermill": {
   "default_parameters": {},
   "duration": 12.119489,
   "end_time": "2023-11-27T23:37:59.472687",
   "environment_variables": {},
   "exception": null,
   "input_path": "transform.ipynb",
   "output_path": "../../../working/output/partner-events-transform.ipynb",
   "parameters": {},
   "start_time": "2023-11-27T23:37:47.353198",
   "version": "2.4.0"
  }
 },
 "nbformat": 4,
 "nbformat_minor": 5
}