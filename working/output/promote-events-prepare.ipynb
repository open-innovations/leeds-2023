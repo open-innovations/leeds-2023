{
 "cells": [
  {
   "cell_type": "code",
   "execution_count": 1,
   "id": "bdfab174",
   "metadata": {
    "execution": {
     "iopub.execute_input": "2023-07-13T15:38:13.360187Z",
     "iopub.status.busy": "2023-07-13T15:38:13.359941Z",
     "iopub.status.idle": "2023-07-13T15:38:13.520379Z",
     "shell.execute_reply": "2023-07-13T15:38:13.519929Z"
    },
    "papermill": {
     "duration": 0.166789,
     "end_time": "2023-07-13T15:38:13.521420",
     "exception": false,
     "start_time": "2023-07-13T15:38:13.354631",
     "status": "completed"
    },
    "tags": []
   },
   "outputs": [],
   "source": [
    "import os\n",
    "import pandas as pd"
   ]
  },
  {
   "cell_type": "code",
   "execution_count": 2,
   "id": "f51065e8",
   "metadata": {
    "execution": {
     "iopub.execute_input": "2023-07-13T15:38:13.524158Z",
     "iopub.status.busy": "2023-07-13T15:38:13.523900Z",
     "iopub.status.idle": "2023-07-13T15:38:13.526109Z",
     "shell.execute_reply": "2023-07-13T15:38:13.525827Z"
    },
    "papermill": {
     "duration": 0.004401,
     "end_time": "2023-07-13T15:38:13.526858",
     "exception": false,
     "start_time": "2023-07-13T15:38:13.522457",
     "status": "completed"
    },
    "tags": []
   },
   "outputs": [],
   "source": [
    "DATA_DIR='../../../docs/metrics/events/promote/_data/'\n",
    "os.makedirs(DATA_DIR, exist_ok=True)"
   ]
  },
  {
   "cell_type": "code",
   "execution_count": 3,
   "id": "2045f749",
   "metadata": {
    "execution": {
     "iopub.execute_input": "2023-07-13T15:38:13.529279Z",
     "iopub.status.busy": "2023-07-13T15:38:13.529059Z",
     "iopub.status.idle": "2023-07-13T15:38:13.534711Z",
     "shell.execute_reply": "2023-07-13T15:38:13.534400Z"
    },
    "papermill": {
     "duration": 0.007651,
     "end_time": "2023-07-13T15:38:13.535492",
     "exception": false,
     "start_time": "2023-07-13T15:38:13.527841",
     "status": "completed"
    },
    "tags": []
   },
   "outputs": [],
   "source": [
    "data = pd.read_csv('../../../data/metrics/events/promote-events/events.csv', parse_dates=['time'])"
   ]
  },
  {
   "cell_type": "code",
   "execution_count": 4,
   "id": "02173094",
   "metadata": {
    "execution": {
     "iopub.execute_input": "2023-07-13T15:38:13.537834Z",
     "iopub.status.busy": "2023-07-13T15:38:13.537648Z",
     "iopub.status.idle": "2023-07-13T15:38:13.540744Z",
     "shell.execute_reply": "2023-07-13T15:38:13.540435Z"
    },
    "papermill": {
     "duration": 0.005165,
     "end_time": "2023-07-13T15:38:13.541528",
     "exception": false,
     "start_time": "2023-07-13T15:38:13.536363",
     "status": "completed"
    },
    "tags": []
   },
   "outputs": [],
   "source": [
    "pd.Series({\n",
    "    'total_events': len(data.id.unique()),\n",
    "    'total_event_instances': len(data.time),\n",
    "    'earliest_event': data.time.min(),\n",
    "    'latest_event': data.time.max(),\n",
    "}).to_json(\n",
    "    os.path.join(DATA_DIR, 'headlines.json'),\n",
    "    date_format='iso', indent=2\n",
    ")"
   ]
  },
  {
   "cell_type": "code",
   "execution_count": 5,
   "id": "bdcba7a9",
   "metadata": {
    "execution": {
     "iopub.execute_input": "2023-07-13T15:38:13.543867Z",
     "iopub.status.busy": "2023-07-13T15:38:13.543687Z",
     "iopub.status.idle": "2023-07-13T15:38:13.548410Z",
     "shell.execute_reply": "2023-07-13T15:38:13.548115Z"
    },
    "papermill": {
     "duration": 0.006705,
     "end_time": "2023-07-13T15:38:13.549156",
     "exception": false,
     "start_time": "2023-07-13T15:38:13.542451",
     "status": "completed"
    },
    "tags": []
   },
   "outputs": [],
   "source": [
    "events = pd.DataFrame({\n",
    "    'events': data.groupby('id').agg({ 'time': 'min' }).reset_index().groupby('time').id.count(),\n",
    "    'event_instances': data.groupby('time').id.count(),\n",
    "}).fillna(0).astype(int)"
   ]
  },
  {
   "cell_type": "code",
   "execution_count": 6,
   "id": "78509cc2",
   "metadata": {
    "execution": {
     "iopub.execute_input": "2023-07-13T15:38:13.551454Z",
     "iopub.status.busy": "2023-07-13T15:38:13.551273Z",
     "iopub.status.idle": "2023-07-13T15:38:13.553207Z",
     "shell.execute_reply": "2023-07-13T15:38:13.552948Z"
    },
    "papermill": {
     "duration": 0.003829,
     "end_time": "2023-07-13T15:38:13.553864",
     "exception": false,
     "start_time": "2023-07-13T15:38:13.550035",
     "status": "completed"
    },
    "tags": []
   },
   "outputs": [],
   "source": [
    "def cumulate(data):\n",
    "    return pd.concat([\n",
    "        data,\n",
    "        data.cumsum().rename(columns=lambda c: f'cumulative_{c}')\n",
    "    ], axis=1)"
   ]
  },
  {
   "cell_type": "code",
   "execution_count": 7,
   "id": "c4124f02",
   "metadata": {
    "execution": {
     "iopub.execute_input": "2023-07-13T15:38:13.556173Z",
     "iopub.status.busy": "2023-07-13T15:38:13.555974Z",
     "iopub.status.idle": "2023-07-13T15:38:13.561629Z",
     "shell.execute_reply": "2023-07-13T15:38:13.561311Z"
    },
    "papermill": {
     "duration": 0.007674,
     "end_time": "2023-07-13T15:38:13.562396",
     "exception": false,
     "start_time": "2023-07-13T15:38:13.554722",
     "status": "completed"
    },
    "tags": []
   },
   "outputs": [],
   "source": [
    "events.resample('W-FRI').sum().pipe(cumulate).to_csv(os.path.join(DATA_DIR, 'by_week.csv'))"
   ]
  },
  {
   "cell_type": "code",
   "execution_count": 8,
   "id": "e8968cc2",
   "metadata": {
    "execution": {
     "iopub.execute_input": "2023-07-13T15:38:13.564794Z",
     "iopub.status.busy": "2023-07-13T15:38:13.564609Z",
     "iopub.status.idle": "2023-07-13T15:38:13.568106Z",
     "shell.execute_reply": "2023-07-13T15:38:13.567856Z"
    },
    "papermill": {
     "duration": 0.005451,
     "end_time": "2023-07-13T15:38:13.568784",
     "exception": false,
     "start_time": "2023-07-13T15:38:13.563333",
     "status": "completed"
    },
    "tags": []
   },
   "outputs": [],
   "source": [
    "events.resample('MS').sum().pipe(cumulate).to_csv(os.path.join(DATA_DIR, 'by_month.csv'))"
   ]
  },
  {
   "cell_type": "code",
   "execution_count": null,
   "id": "33f8b164",
   "metadata": {
    "papermill": {
     "duration": 0.000826,
     "end_time": "2023-07-13T15:38:13.570509",
     "exception": false,
     "start_time": "2023-07-13T15:38:13.569683",
     "status": "completed"
    },
    "tags": []
   },
   "outputs": [],
   "source": []
  }
 ],
 "metadata": {
  "kernelspec": {
   "display_name": "leeds-2023-YZF5GfJv",
   "language": "python",
   "name": "python3"
  },
  "language_info": {
   "codemirror_mode": {
    "name": "ipython",
    "version": 3
   },
   "file_extension": ".py",
   "mimetype": "text/x-python",
   "name": "python",
   "nbconvert_exporter": "python",
   "pygments_lexer": "ipython3",
   "version": "3.10.6"
  },
  "papermill": {
   "default_parameters": {},
   "duration": 1.135868,
   "end_time": "2023-07-13T15:38:13.786577",
   "environment_variables": {},
   "exception": null,
   "input_path": "prepare.ipynb",
   "output_path": "../../../working/output/promote-events-prepare.ipynb",
   "parameters": {},
   "start_time": "2023-07-13T15:38:12.650709",
   "version": "2.4.0"
  }
 },
 "nbformat": 4,
 "nbformat_minor": 5
}