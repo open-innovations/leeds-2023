{
 "cells": [
  {
   "cell_type": "code",
   "execution_count": 1,
   "id": "bc29e2c3",
   "metadata": {
    "execution": {
     "iopub.execute_input": "2023-10-27T14:21:27.887909Z",
     "iopub.status.busy": "2023-10-27T14:21:27.887735Z",
     "iopub.status.idle": "2023-10-27T14:21:32.772981Z",
     "shell.execute_reply": "2023-10-27T14:21:32.772598Z"
    },
    "papermill": {
     "duration": 4.892249,
     "end_time": "2023-10-27T14:21:32.774000",
     "exception": false,
     "start_time": "2023-10-27T14:21:27.881751",
     "status": "completed"
    },
    "tags": []
   },
   "outputs": [],
   "source": [
    "import os\n",
    "import pandas as pd\n",
    "from events import load_event_data, get_first_ward, normalise_ward"
   ]
  },
  {
   "cell_type": "code",
   "execution_count": 2,
   "id": "22d30103",
   "metadata": {
    "execution": {
     "iopub.execute_input": "2023-10-27T14:21:32.777023Z",
     "iopub.status.busy": "2023-10-27T14:21:32.776862Z",
     "iopub.status.idle": "2023-10-27T14:21:32.779062Z",
     "shell.execute_reply": "2023-10-27T14:21:32.778767Z"
    },
    "papermill": {
     "duration": 0.004406,
     "end_time": "2023-10-27T14:21:32.779712",
     "exception": false,
     "start_time": "2023-10-27T14:21:32.775306",
     "status": "completed"
    },
    "tags": []
   },
   "outputs": [],
   "source": [
    "latest_date = pd.Timestamp.today().ceil('D')"
   ]
  },
  {
   "cell_type": "code",
   "execution_count": 3,
   "id": "d786c82b",
   "metadata": {
    "execution": {
     "iopub.execute_input": "2023-10-27T14:21:32.782514Z",
     "iopub.status.busy": "2023-10-27T14:21:32.782337Z",
     "iopub.status.idle": "2023-10-27T14:21:32.791333Z",
     "shell.execute_reply": "2023-10-27T14:21:32.790999Z"
    },
    "papermill": {
     "duration": 0.011285,
     "end_time": "2023-10-27T14:21:32.792040",
     "exception": false,
     "start_time": "2023-10-27T14:21:32.780755",
     "status": "completed"
    },
    "tags": []
   },
   "outputs": [],
   "source": [
    "tickets = pd.read_csv('../../../../data/metrics/events/tickets/orders.csv', parse_dates=['created_at', 'event_date'])\n",
    "tickets = tickets[tickets.event_date <= latest_date]"
   ]
  },
  {
   "cell_type": "code",
   "execution_count": 4,
   "id": "587c0e3f",
   "metadata": {
    "execution": {
     "iopub.execute_input": "2023-10-27T14:21:32.794838Z",
     "iopub.status.busy": "2023-10-27T14:21:32.794692Z",
     "iopub.status.idle": "2023-10-27T14:21:32.817730Z",
     "shell.execute_reply": "2023-10-27T14:21:32.817267Z"
    },
    "papermill": {
     "duration": 0.025401,
     "end_time": "2023-10-27T14:21:32.818581",
     "exception": false,
     "start_time": "2023-10-27T14:21:32.793180",
     "status": "completed"
    },
    "tags": []
   },
   "outputs": [],
   "source": [
    "events = load_event_data()\n",
    "\n",
    "events = pd.concat([\n",
    "  events,\n",
    "  events.pipe(get_first_ward).pipe(normalise_ward).fillna('UNKNOWN'),\n",
    "  pd.Series(\n",
    "      events.actual_audience_size_number_of_participants_in_person + events.actual_audience_size_number_of_participants_online,\n",
    "      name='attendances'\n",
    "  )\n",
    "], axis=1).rename(columns={\n",
    "    'start_date': 'date'\n",
    "}).loc[:, ['ward_code', 'date', 'event_unique_identifier', 'attendances']]"
   ]
  },
  {
   "cell_type": "code",
   "execution_count": 5,
   "id": "9cf79383",
   "metadata": {
    "execution": {
     "iopub.execute_input": "2023-10-27T14:21:32.821465Z",
     "iopub.status.busy": "2023-10-27T14:21:32.821316Z",
     "iopub.status.idle": "2023-10-27T14:21:32.823316Z",
     "shell.execute_reply": "2023-10-27T14:21:32.823048Z"
    },
    "papermill": {
     "duration": 0.004275,
     "end_time": "2023-10-27T14:21:32.824023",
     "exception": false,
     "start_time": "2023-10-27T14:21:32.819748",
     "status": "completed"
    },
    "tags": []
   },
   "outputs": [],
   "source": [
    "OUTPUT_DIR='../../../../docs/metrics/events/signature/_data/'\n",
    "os.makedirs(OUTPUT_DIR, exist_ok=True)"
   ]
  },
  {
   "cell_type": "markdown",
   "id": "8b3ca48e",
   "metadata": {
    "papermill": {
     "duration": 0.00111,
     "end_time": "2023-10-27T14:21:32.826204",
     "exception": false,
     "start_time": "2023-10-27T14:21:32.825094",
     "status": "completed"
    },
    "tags": []
   },
   "source": [
    "Events CSVs"
   ]
  },
  {
   "cell_type": "code",
   "execution_count": 6,
   "id": "60005f56",
   "metadata": {
    "execution": {
     "iopub.execute_input": "2023-10-27T14:21:32.828831Z",
     "iopub.status.busy": "2023-10-27T14:21:32.828699Z",
     "iopub.status.idle": "2023-10-27T14:21:32.832546Z",
     "shell.execute_reply": "2023-10-27T14:21:32.832236Z"
    },
    "papermill": {
     "duration": 0.005991,
     "end_time": "2023-10-27T14:21:32.833244",
     "exception": false,
     "start_time": "2023-10-27T14:21:32.827253",
     "status": "completed"
    },
    "tags": []
   },
   "outputs": [],
   "source": [
    "pd.DataFrame({\n",
    "  'events': events.groupby('ward_code').event_unique_identifier.count(),\n",
    "  'attendances': events.groupby('ward_code').attendances.sum().astype(int),\n",
    "}).to_csv(os.path.join(OUTPUT_DIR, 'events_by_ward.csv'))\n"
   ]
  },
  {
   "cell_type": "code",
   "execution_count": 7,
   "id": "8ea201c9",
   "metadata": {
    "execution": {
     "iopub.execute_input": "2023-10-27T14:21:32.835981Z",
     "iopub.status.busy": "2023-10-27T14:21:32.835842Z",
     "iopub.status.idle": "2023-10-27T14:21:32.840809Z",
     "shell.execute_reply": "2023-10-27T14:21:32.840498Z"
    },
    "papermill": {
     "duration": 0.007134,
     "end_time": "2023-10-27T14:21:32.841484",
     "exception": false,
     "start_time": "2023-10-27T14:21:32.834350",
     "status": "completed"
    },
    "tags": []
   },
   "outputs": [],
   "source": [
    "pd.DataFrame({\n",
    "  'events': events.groupby('date').event_unique_identifier.count(),\n",
    "  'attendances': events.groupby('date').attendances.sum().astype(int),\n",
    "}).resample('M').sum().astype(int).to_csv(os.path.join(OUTPUT_DIR, 'events_by_date.csv'))"
   ]
  },
  {
   "cell_type": "markdown",
   "id": "87ebcd60",
   "metadata": {
    "papermill": {
     "duration": 0.001119,
     "end_time": "2023-10-27T14:21:32.843762",
     "exception": false,
     "start_time": "2023-10-27T14:21:32.842643",
     "status": "completed"
    },
    "tags": []
   },
   "source": [
    "Tickets CSV"
   ]
  },
  {
   "cell_type": "code",
   "execution_count": 8,
   "id": "3d92d396",
   "metadata": {
    "execution": {
     "iopub.execute_input": "2023-10-27T14:21:32.846418Z",
     "iopub.status.busy": "2023-10-27T14:21:32.846279Z",
     "iopub.status.idle": "2023-10-27T14:21:32.850160Z",
     "shell.execute_reply": "2023-10-27T14:21:32.849650Z"
    },
    "papermill": {
     "duration": 0.005963,
     "end_time": "2023-10-27T14:21:32.850811",
     "exception": false,
     "start_time": "2023-10-27T14:21:32.844848",
     "status": "completed"
    },
    "tags": []
   },
   "outputs": [],
   "source": [
    "pd.DataFrame({\n",
    "  'orders': tickets.groupby('ward_code').number_of_tickets.count(),\n",
    "  'tickets': tickets.groupby('ward_code').number_of_tickets.sum().astype(int),\n",
    "}).to_csv(os.path.join(OUTPUT_DIR, 'tickets_by_ward.csv'))"
   ]
  },
  {
   "cell_type": "code",
   "execution_count": 9,
   "id": "7226bfa1",
   "metadata": {
    "execution": {
     "iopub.execute_input": "2023-10-27T14:21:32.853640Z",
     "iopub.status.busy": "2023-10-27T14:21:32.853490Z",
     "iopub.status.idle": "2023-10-27T14:21:32.858264Z",
     "shell.execute_reply": "2023-10-27T14:21:32.857645Z"
    },
    "papermill": {
     "duration": 0.007202,
     "end_time": "2023-10-27T14:21:32.859172",
     "exception": false,
     "start_time": "2023-10-27T14:21:32.851970",
     "status": "completed"
    },
    "tags": []
   },
   "outputs": [],
   "source": [
    "pd.DataFrame({\n",
    "  'orders': tickets.groupby('event_date').number_of_tickets.count(),\n",
    "  'tickets': tickets.groupby('event_date').number_of_tickets.sum().astype(int),\n",
    "}).resample('M').sum().to_csv(os.path.join(OUTPUT_DIR, 'tickets_by_event_date.csv'))"
   ]
  },
  {
   "cell_type": "code",
   "execution_count": 10,
   "id": "a1905024",
   "metadata": {
    "execution": {
     "iopub.execute_input": "2023-10-27T14:21:32.862883Z",
     "iopub.status.busy": "2023-10-27T14:21:32.862734Z",
     "iopub.status.idle": "2023-10-27T14:21:32.865632Z",
     "shell.execute_reply": "2023-10-27T14:21:32.865350Z"
    },
    "papermill": {
     "duration": 0.005554,
     "end_time": "2023-10-27T14:21:32.866196",
     "exception": false,
     "start_time": "2023-10-27T14:21:32.860642",
     "status": "completed"
    },
    "tags": []
   },
   "outputs": [],
   "source": [
    "pd.Series({\n",
    "    'total_events': events.event_unique_identifier.count(),\n",
    "    'total_attendances': events.attendances.count(),\n",
    "    'first_event': events.date.min(),\n",
    "    'latest_event': events.date.max(),\n",
    "    'total_ticket_orders_for_events_to_date': tickets.number_of_tickets.count(),\n",
    "    'total_tickets_sold_for_events_to_date': tickets.number_of_tickets.sum(),\n",
    "}).to_json(os.path.join(OUTPUT_DIR, 'headlines.json'), indent=2)"
   ]
  },
  {
   "cell_type": "code",
   "execution_count": null,
   "id": "517ee194",
   "metadata": {
    "papermill": {
     "duration": 0.001091,
     "end_time": "2023-10-27T14:21:32.868450",
     "exception": false,
     "start_time": "2023-10-27T14:21:32.867359",
     "status": "completed"
    },
    "tags": []
   },
   "outputs": [],
   "source": []
  }
 ],
 "metadata": {
  "kernelspec": {
   "display_name": "leeds-2023-YZF5GfJv",
   "language": "python",
   "name": "python3"
  },
  "language_info": {
   "codemirror_mode": {
    "name": "ipython",
    "version": 3
   },
   "file_extension": ".py",
   "mimetype": "text/x-python",
   "name": "python",
   "nbconvert_exporter": "python",
   "pygments_lexer": "ipython3",
   "version": "3.10.12"
  },
  "papermill": {
   "default_parameters": {},
   "duration": 6.059898,
   "end_time": "2023-10-27T14:21:33.084282",
   "environment_variables": {},
   "exception": null,
   "input_path": "prepare.ipynb",
   "output_path": "../../../../working/output/signature-prepare.ipynb",
   "parameters": {},
   "start_time": "2023-10-27T14:21:27.024384",
   "version": "2.4.0"
  }
 },
 "nbformat": 4,
 "nbformat_minor": 5
}