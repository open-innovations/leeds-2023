{
 "cells": [
  {
   "cell_type": "code",
   "execution_count": 1,
   "id": "53a84f9e",
   "metadata": {
    "execution": {
     "iopub.execute_input": "2023-10-06T23:39:47.253072Z",
     "iopub.status.busy": "2023-10-06T23:39:47.252422Z",
     "iopub.status.idle": "2023-10-06T23:39:57.610304Z",
     "shell.execute_reply": "2023-10-06T23:39:57.609588Z"
    },
    "papermill": {
     "duration": 10.36365,
     "end_time": "2023-10-06T23:39:57.612129",
     "exception": false,
     "start_time": "2023-10-06T23:39:47.248479",
     "status": "completed"
    },
    "tags": []
   },
   "outputs": [],
   "source": [
    "import os\n",
    "import pandas as pd\n",
    "from events import load_event_data, get_first_ward, normalise_ward"
   ]
  },
  {
   "cell_type": "code",
   "execution_count": 2,
   "id": "96ecd763",
   "metadata": {
    "execution": {
     "iopub.execute_input": "2023-10-06T23:39:57.618858Z",
     "iopub.status.busy": "2023-10-06T23:39:57.618234Z",
     "iopub.status.idle": "2023-10-06T23:39:57.623218Z",
     "shell.execute_reply": "2023-10-06T23:39:57.622625Z"
    },
    "papermill": {
     "duration": 0.010101,
     "end_time": "2023-10-06T23:39:57.624897",
     "exception": false,
     "start_time": "2023-10-06T23:39:57.614796",
     "status": "completed"
    },
    "tags": []
   },
   "outputs": [],
   "source": [
    "latest_date = pd.Timestamp.today().ceil('D')"
   ]
  },
  {
   "cell_type": "code",
   "execution_count": 3,
   "id": "185be832",
   "metadata": {
    "execution": {
     "iopub.execute_input": "2023-10-06T23:39:57.631021Z",
     "iopub.status.busy": "2023-10-06T23:39:57.630428Z",
     "iopub.status.idle": "2023-10-06T23:39:57.649040Z",
     "shell.execute_reply": "2023-10-06T23:39:57.648426Z"
    },
    "papermill": {
     "duration": 0.023419,
     "end_time": "2023-10-06T23:39:57.650634",
     "exception": false,
     "start_time": "2023-10-06T23:39:57.627215",
     "status": "completed"
    },
    "tags": []
   },
   "outputs": [],
   "source": [
    "tickets = pd.read_csv('../../../../data/metrics/events/tickets/orders.csv', parse_dates=['created_at', 'event_date'])\n",
    "tickets = tickets[tickets.event_date <= latest_date]"
   ]
  },
  {
   "cell_type": "code",
   "execution_count": 4,
   "id": "e8a03710",
   "metadata": {
    "execution": {
     "iopub.execute_input": "2023-10-06T23:39:57.657077Z",
     "iopub.status.busy": "2023-10-06T23:39:57.656456Z",
     "iopub.status.idle": "2023-10-06T23:39:57.892243Z",
     "shell.execute_reply": "2023-10-06T23:39:57.891563Z"
    },
    "papermill": {
     "duration": 0.240977,
     "end_time": "2023-10-06T23:39:57.894090",
     "exception": false,
     "start_time": "2023-10-06T23:39:57.653113",
     "status": "completed"
    },
    "tags": []
   },
   "outputs": [],
   "source": [
    "events = load_event_data()\n",
    "\n",
    "events = pd.concat([\n",
    "  events,\n",
    "  events.pipe(get_first_ward).pipe(normalise_ward).fillna('UNKNOWN'),\n",
    "  pd.Series(\n",
    "      events.actual_audience_size_number_of_participants_in_person + events.actual_audience_size_number_of_participants_online,\n",
    "      name='attendances'\n",
    "  )\n",
    "], axis=1).rename(columns={\n",
    "    'start_date': 'date'\n",
    "}).loc[:, ['ward_code', 'date', 'event_unique_identifier', 'attendances']]"
   ]
  },
  {
   "cell_type": "code",
   "execution_count": 5,
   "id": "f721a71f",
   "metadata": {
    "execution": {
     "iopub.execute_input": "2023-10-06T23:39:57.900919Z",
     "iopub.status.busy": "2023-10-06T23:39:57.900413Z",
     "iopub.status.idle": "2023-10-06T23:39:57.903979Z",
     "shell.execute_reply": "2023-10-06T23:39:57.903290Z"
    },
    "papermill": {
     "duration": 0.008733,
     "end_time": "2023-10-06T23:39:57.905515",
     "exception": false,
     "start_time": "2023-10-06T23:39:57.896782",
     "status": "completed"
    },
    "tags": []
   },
   "outputs": [],
   "source": [
    "OUTPUT_DIR='../../../../docs/metrics/events/signature/_data/'\n",
    "os.makedirs(OUTPUT_DIR, exist_ok=True)"
   ]
  },
  {
   "cell_type": "markdown",
   "id": "5a95c476",
   "metadata": {
    "papermill": {
     "duration": 0.002418,
     "end_time": "2023-10-06T23:39:57.910366",
     "exception": false,
     "start_time": "2023-10-06T23:39:57.907948",
     "status": "completed"
    },
    "tags": []
   },
   "source": [
    "Events CSVs"
   ]
  },
  {
   "cell_type": "code",
   "execution_count": 6,
   "id": "1fe3b3b0",
   "metadata": {
    "execution": {
     "iopub.execute_input": "2023-10-06T23:39:57.916576Z",
     "iopub.status.busy": "2023-10-06T23:39:57.915913Z",
     "iopub.status.idle": "2023-10-06T23:39:57.923018Z",
     "shell.execute_reply": "2023-10-06T23:39:57.922414Z"
    },
    "papermill": {
     "duration": 0.011736,
     "end_time": "2023-10-06T23:39:57.924487",
     "exception": false,
     "start_time": "2023-10-06T23:39:57.912751",
     "status": "completed"
    },
    "tags": []
   },
   "outputs": [],
   "source": [
    "pd.DataFrame({\n",
    "  'events': events.groupby('ward_code').event_unique_identifier.count(),\n",
    "  'attendances': events.groupby('ward_code').attendances.sum().astype(int),\n",
    "}).to_csv(os.path.join(OUTPUT_DIR, 'events_by_ward.csv'))\n"
   ]
  },
  {
   "cell_type": "code",
   "execution_count": 7,
   "id": "d1199581",
   "metadata": {
    "execution": {
     "iopub.execute_input": "2023-10-06T23:39:57.930521Z",
     "iopub.status.busy": "2023-10-06T23:39:57.930090Z",
     "iopub.status.idle": "2023-10-06T23:39:57.941522Z",
     "shell.execute_reply": "2023-10-06T23:39:57.940924Z"
    },
    "papermill": {
     "duration": 0.016217,
     "end_time": "2023-10-06T23:39:57.943130",
     "exception": false,
     "start_time": "2023-10-06T23:39:57.926913",
     "status": "completed"
    },
    "tags": []
   },
   "outputs": [],
   "source": [
    "pd.DataFrame({\n",
    "  'events': events.groupby('date').event_unique_identifier.count(),\n",
    "  'attendances': events.groupby('date').attendances.sum().astype(int),\n",
    "}).resample('M').sum().astype(int).to_csv(os.path.join(OUTPUT_DIR, 'events_by_date.csv'))"
   ]
  },
  {
   "cell_type": "markdown",
   "id": "511a6c2e",
   "metadata": {
    "papermill": {
     "duration": 0.00246,
     "end_time": "2023-10-06T23:39:57.948111",
     "exception": false,
     "start_time": "2023-10-06T23:39:57.945651",
     "status": "completed"
    },
    "tags": []
   },
   "source": [
    "Tickets CSV"
   ]
  },
  {
   "cell_type": "code",
   "execution_count": 8,
   "id": "7246fd6a",
   "metadata": {
    "execution": {
     "iopub.execute_input": "2023-10-06T23:39:57.954332Z",
     "iopub.status.busy": "2023-10-06T23:39:57.953746Z",
     "iopub.status.idle": "2023-10-06T23:39:57.961875Z",
     "shell.execute_reply": "2023-10-06T23:39:57.961283Z"
    },
    "papermill": {
     "duration": 0.013002,
     "end_time": "2023-10-06T23:39:57.963488",
     "exception": false,
     "start_time": "2023-10-06T23:39:57.950486",
     "status": "completed"
    },
    "tags": []
   },
   "outputs": [],
   "source": [
    "pd.DataFrame({\n",
    "  'orders': tickets.groupby('ward_code').number_of_tickets.count(),\n",
    "  'tickets': tickets.groupby('ward_code').number_of_tickets.sum().astype(int),\n",
    "}).to_csv(os.path.join(OUTPUT_DIR, 'tickets_by_ward.csv'))"
   ]
  },
  {
   "cell_type": "code",
   "execution_count": 9,
   "id": "d5d242bf",
   "metadata": {
    "execution": {
     "iopub.execute_input": "2023-10-06T23:39:57.969653Z",
     "iopub.status.busy": "2023-10-06T23:39:57.969214Z",
     "iopub.status.idle": "2023-10-06T23:39:57.977463Z",
     "shell.execute_reply": "2023-10-06T23:39:57.976869Z"
    },
    "papermill": {
     "duration": 0.012906,
     "end_time": "2023-10-06T23:39:57.978891",
     "exception": false,
     "start_time": "2023-10-06T23:39:57.965985",
     "status": "completed"
    },
    "tags": []
   },
   "outputs": [],
   "source": [
    "pd.DataFrame({\n",
    "  'orders': tickets.groupby('event_date').number_of_tickets.count(),\n",
    "  'tickets': tickets.groupby('event_date').number_of_tickets.sum().astype(int),\n",
    "}).resample('M').sum().to_csv(os.path.join(OUTPUT_DIR, 'tickets_by_event_date.csv'))"
   ]
  },
  {
   "cell_type": "code",
   "execution_count": 10,
   "id": "570e20d0",
   "metadata": {
    "execution": {
     "iopub.execute_input": "2023-10-06T23:39:57.986224Z",
     "iopub.status.busy": "2023-10-06T23:39:57.985652Z",
     "iopub.status.idle": "2023-10-06T23:39:57.992242Z",
     "shell.execute_reply": "2023-10-06T23:39:57.991650Z"
    },
    "papermill": {
     "duration": 0.012405,
     "end_time": "2023-10-06T23:39:57.993849",
     "exception": false,
     "start_time": "2023-10-06T23:39:57.981444",
     "status": "completed"
    },
    "tags": []
   },
   "outputs": [],
   "source": [
    "pd.Series({\n",
    "    'total_events': events.event_unique_identifier.count(),\n",
    "    'total_attendances': events.attendances.count(),\n",
    "    'first_event': events.date.min(),\n",
    "    'latest_event': events.date.max(),\n",
    "    'total_ticket_orders_for_events_to_date': tickets.number_of_tickets.count(),\n",
    "    'total_tickets_sold_for_events_to_date': tickets.number_of_tickets.sum(),\n",
    "}).to_json(os.path.join(OUTPUT_DIR, 'headlines.json'), indent=2)"
   ]
  },
  {
   "cell_type": "code",
   "execution_count": null,
   "id": "73d8fb9c",
   "metadata": {
    "papermill": {
     "duration": 0.002446,
     "end_time": "2023-10-06T23:39:57.998914",
     "exception": false,
     "start_time": "2023-10-06T23:39:57.996468",
     "status": "completed"
    },
    "tags": []
   },
   "outputs": [],
   "source": []
  }
 ],
 "metadata": {
  "kernelspec": {
   "display_name": "leeds-2023-YZF5GfJv",
   "language": "python",
   "name": "python3"
  },
  "language_info": {
   "codemirror_mode": {
    "name": "ipython",
    "version": 3
   },
   "file_extension": ".py",
   "mimetype": "text/x-python",
   "name": "python",
   "nbconvert_exporter": "python",
   "pygments_lexer": "ipython3",
   "version": "3.10.13"
  },
  "papermill": {
   "default_parameters": {},
   "duration": 12.598462,
   "end_time": "2023-10-06T23:39:58.318850",
   "environment_variables": {},
   "exception": null,
   "input_path": "prepare.ipynb",
   "output_path": "../../../../working/output/signature-prepare.ipynb",
   "parameters": {},
   "start_time": "2023-10-06T23:39:45.720388",
   "version": "2.4.0"
  }
 },
 "nbformat": 4,
 "nbformat_minor": 5
}