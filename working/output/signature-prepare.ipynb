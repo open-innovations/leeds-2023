{
 "cells": [
  {
   "cell_type": "code",
   "execution_count": 1,
   "id": "6747fd6c",
   "metadata": {
    "execution": {
     "iopub.execute_input": "2023-09-04T23:39:29.227986Z",
     "iopub.status.busy": "2023-09-04T23:39:29.227471Z",
     "iopub.status.idle": "2023-09-04T23:39:37.664145Z",
     "shell.execute_reply": "2023-09-04T23:39:37.663515Z"
    },
    "papermill": {
     "duration": 8.4421,
     "end_time": "2023-09-04T23:39:37.666084",
     "exception": false,
     "start_time": "2023-09-04T23:39:29.223984",
     "status": "completed"
    },
    "tags": []
   },
   "outputs": [],
   "source": [
    "import os\n",
    "import pandas as pd\n",
    "from events import load_event_data, get_first_ward, normalise_ward"
   ]
  },
  {
   "cell_type": "code",
   "execution_count": 2,
   "id": "b08a3c0f",
   "metadata": {
    "execution": {
     "iopub.execute_input": "2023-09-04T23:39:37.671742Z",
     "iopub.status.busy": "2023-09-04T23:39:37.671301Z",
     "iopub.status.idle": "2023-09-04T23:39:37.674844Z",
     "shell.execute_reply": "2023-09-04T23:39:37.674240Z"
    },
    "papermill": {
     "duration": 0.008008,
     "end_time": "2023-09-04T23:39:37.676393",
     "exception": false,
     "start_time": "2023-09-04T23:39:37.668385",
     "status": "completed"
    },
    "tags": []
   },
   "outputs": [],
   "source": [
    "latest_date = pd.Timestamp.today().ceil('D')"
   ]
  },
  {
   "cell_type": "code",
   "execution_count": 3,
   "id": "1fe86ca9",
   "metadata": {
    "execution": {
     "iopub.execute_input": "2023-09-04T23:39:37.681361Z",
     "iopub.status.busy": "2023-09-04T23:39:37.681026Z",
     "iopub.status.idle": "2023-09-04T23:39:37.696770Z",
     "shell.execute_reply": "2023-09-04T23:39:37.696224Z"
    },
    "papermill": {
     "duration": 0.019857,
     "end_time": "2023-09-04T23:39:37.698202",
     "exception": false,
     "start_time": "2023-09-04T23:39:37.678345",
     "status": "completed"
    },
    "tags": []
   },
   "outputs": [],
   "source": [
    "tickets = pd.read_csv('../../../../data/metrics/events/tickets/orders.csv', parse_dates=['created_at', 'event_date'])\n",
    "tickets = tickets[tickets.event_date <= latest_date]"
   ]
  },
  {
   "cell_type": "code",
   "execution_count": 4,
   "id": "b9e42c46",
   "metadata": {
    "execution": {
     "iopub.execute_input": "2023-09-04T23:39:37.703386Z",
     "iopub.status.busy": "2023-09-04T23:39:37.702880Z",
     "iopub.status.idle": "2023-09-04T23:39:37.898347Z",
     "shell.execute_reply": "2023-09-04T23:39:37.897716Z"
    },
    "papermill": {
     "duration": 0.199848,
     "end_time": "2023-09-04T23:39:37.900045",
     "exception": false,
     "start_time": "2023-09-04T23:39:37.700197",
     "status": "completed"
    },
    "tags": []
   },
   "outputs": [],
   "source": [
    "events = load_event_data()\n",
    "\n",
    "events = pd.concat([\n",
    "  events,\n",
    "  events.pipe(get_first_ward).pipe(normalise_ward).fillna('UNKNOWN'),\n",
    "  pd.Series(\n",
    "      events.actual_audience_size_number_of_participants_in_person + events.actual_audience_size_number_of_participants_online,\n",
    "      name='attendances'\n",
    "  )\n",
    "], axis=1).rename(columns={\n",
    "    'start_date': 'date'\n",
    "}).loc[:, ['ward_code', 'date', 'event_unique_identifier', 'attendances']]"
   ]
  },
  {
   "cell_type": "code",
   "execution_count": 5,
   "id": "ee0907a0",
   "metadata": {
    "execution": {
     "iopub.execute_input": "2023-09-04T23:39:37.905741Z",
     "iopub.status.busy": "2023-09-04T23:39:37.905241Z",
     "iopub.status.idle": "2023-09-04T23:39:37.908297Z",
     "shell.execute_reply": "2023-09-04T23:39:37.907846Z"
    },
    "papermill": {
     "duration": 0.007386,
     "end_time": "2023-09-04T23:39:37.909741",
     "exception": false,
     "start_time": "2023-09-04T23:39:37.902355",
     "status": "completed"
    },
    "tags": []
   },
   "outputs": [],
   "source": [
    "OUTPUT_DIR='../../../../docs/metrics/events/signature/_data/'\n",
    "os.makedirs(OUTPUT_DIR, exist_ok=True)"
   ]
  },
  {
   "cell_type": "markdown",
   "id": "520fc9f5",
   "metadata": {
    "papermill": {
     "duration": 0.002051,
     "end_time": "2023-09-04T23:39:37.913804",
     "exception": false,
     "start_time": "2023-09-04T23:39:37.911753",
     "status": "completed"
    },
    "tags": []
   },
   "source": [
    "Events CSVs"
   ]
  },
  {
   "cell_type": "code",
   "execution_count": 6,
   "id": "778585ab",
   "metadata": {
    "execution": {
     "iopub.execute_input": "2023-09-04T23:39:37.918765Z",
     "iopub.status.busy": "2023-09-04T23:39:37.918562Z",
     "iopub.status.idle": "2023-09-04T23:39:37.924674Z",
     "shell.execute_reply": "2023-09-04T23:39:37.924143Z"
    },
    "papermill": {
     "duration": 0.010225,
     "end_time": "2023-09-04T23:39:37.926015",
     "exception": false,
     "start_time": "2023-09-04T23:39:37.915790",
     "status": "completed"
    },
    "tags": []
   },
   "outputs": [],
   "source": [
    "pd.DataFrame({\n",
    "  'events': events.groupby('ward_code').event_unique_identifier.count(),\n",
    "  'attendances': events.groupby('ward_code').attendances.sum().astype(int),\n",
    "}).to_csv(os.path.join(OUTPUT_DIR, 'events_by_ward.csv'))\n"
   ]
  },
  {
   "cell_type": "code",
   "execution_count": 7,
   "id": "716bfac3",
   "metadata": {
    "execution": {
     "iopub.execute_input": "2023-09-04T23:39:37.931082Z",
     "iopub.status.busy": "2023-09-04T23:39:37.930762Z",
     "iopub.status.idle": "2023-09-04T23:39:37.940425Z",
     "shell.execute_reply": "2023-09-04T23:39:37.939884Z"
    },
    "papermill": {
     "duration": 0.013692,
     "end_time": "2023-09-04T23:39:37.941754",
     "exception": false,
     "start_time": "2023-09-04T23:39:37.928062",
     "status": "completed"
    },
    "tags": []
   },
   "outputs": [],
   "source": [
    "pd.DataFrame({\n",
    "  'events': events.groupby('date').event_unique_identifier.count(),\n",
    "  'attendances': events.groupby('date').attendances.sum().astype(int),\n",
    "}).resample('M').sum().astype(int).to_csv(os.path.join(OUTPUT_DIR, 'events_by_date.csv'))"
   ]
  },
  {
   "cell_type": "markdown",
   "id": "a1a2282d",
   "metadata": {
    "papermill": {
     "duration": 0.002079,
     "end_time": "2023-09-04T23:39:37.945884",
     "exception": false,
     "start_time": "2023-09-04T23:39:37.943805",
     "status": "completed"
    },
    "tags": []
   },
   "source": [
    "Tickets CSV"
   ]
  },
  {
   "cell_type": "code",
   "execution_count": 8,
   "id": "d43ff88e",
   "metadata": {
    "execution": {
     "iopub.execute_input": "2023-09-04T23:39:37.950990Z",
     "iopub.status.busy": "2023-09-04T23:39:37.950628Z",
     "iopub.status.idle": "2023-09-04T23:39:37.957226Z",
     "shell.execute_reply": "2023-09-04T23:39:37.956681Z"
    },
    "papermill": {
     "duration": 0.01077,
     "end_time": "2023-09-04T23:39:37.958699",
     "exception": false,
     "start_time": "2023-09-04T23:39:37.947929",
     "status": "completed"
    },
    "tags": []
   },
   "outputs": [],
   "source": [
    "pd.DataFrame({\n",
    "  'orders': tickets.groupby('ward_code').number_of_tickets.count(),\n",
    "  'tickets': tickets.groupby('ward_code').number_of_tickets.sum().astype(int),\n",
    "}).to_csv(os.path.join(OUTPUT_DIR, 'tickets_by_ward.csv'))"
   ]
  },
  {
   "cell_type": "code",
   "execution_count": 9,
   "id": "3fdd1b56",
   "metadata": {
    "execution": {
     "iopub.execute_input": "2023-09-04T23:39:37.964029Z",
     "iopub.status.busy": "2023-09-04T23:39:37.963559Z",
     "iopub.status.idle": "2023-09-04T23:39:37.970947Z",
     "shell.execute_reply": "2023-09-04T23:39:37.970406Z"
    },
    "papermill": {
     "duration": 0.011506,
     "end_time": "2023-09-04T23:39:37.972302",
     "exception": false,
     "start_time": "2023-09-04T23:39:37.960796",
     "status": "completed"
    },
    "tags": []
   },
   "outputs": [],
   "source": [
    "pd.DataFrame({\n",
    "  'orders': tickets.groupby('event_date').number_of_tickets.count(),\n",
    "  'tickets': tickets.groupby('event_date').number_of_tickets.sum().astype(int),\n",
    "}).resample('M').sum().to_csv(os.path.join(OUTPUT_DIR, 'tickets_by_event_date.csv'))"
   ]
  },
  {
   "cell_type": "code",
   "execution_count": 10,
   "id": "26d2c8e7",
   "metadata": {
    "execution": {
     "iopub.execute_input": "2023-09-04T23:39:37.978526Z",
     "iopub.status.busy": "2023-09-04T23:39:37.978037Z",
     "iopub.status.idle": "2023-09-04T23:39:37.982924Z",
     "shell.execute_reply": "2023-09-04T23:39:37.982261Z"
    },
    "papermill": {
     "duration": 0.009743,
     "end_time": "2023-09-04T23:39:37.984193",
     "exception": false,
     "start_time": "2023-09-04T23:39:37.974450",
     "status": "completed"
    },
    "tags": []
   },
   "outputs": [],
   "source": [
    "pd.Series({\n",
    "    'total_events': events.event_unique_identifier.count(),\n",
    "    'total_attendances': events.attendances.count(),\n",
    "    'first_event': events.date.min(),\n",
    "    'latest_event': events.date.max(),\n",
    "    'total_ticket_orders_for_events_to_date': tickets.number_of_tickets.count(),\n",
    "    'total_tickets_sold_for_events_to_date': tickets.number_of_tickets.sum(),\n",
    "}).to_json(os.path.join(OUTPUT_DIR, 'headlines.json'), indent=2)"
   ]
  },
  {
   "cell_type": "code",
   "execution_count": null,
   "id": "4ab29d65",
   "metadata": {
    "papermill": {
     "duration": 0.002096,
     "end_time": "2023-09-04T23:39:37.988456",
     "exception": false,
     "start_time": "2023-09-04T23:39:37.986360",
     "status": "completed"
    },
    "tags": []
   },
   "outputs": [],
   "source": []
  }
 ],
 "metadata": {
  "kernelspec": {
   "display_name": "leeds-2023-YZF5GfJv",
   "language": "python",
   "name": "python3"
  },
  "language_info": {
   "codemirror_mode": {
    "name": "ipython",
    "version": 3
   },
   "file_extension": ".py",
   "mimetype": "text/x-python",
   "name": "python",
   "nbconvert_exporter": "python",
   "pygments_lexer": "ipython3",
   "version": "3.10.12"
  },
  "papermill": {
   "default_parameters": {},
   "duration": 10.452612,
   "end_time": "2023-09-04T23:39:38.306276",
   "environment_variables": {},
   "exception": null,
   "input_path": "prepare.ipynb",
   "output_path": "../../../../working/output/signature-prepare.ipynb",
   "parameters": {},
   "start_time": "2023-09-04T23:39:27.853664",
   "version": "2.4.0"
  }
 },
 "nbformat": 4,
 "nbformat_minor": 5
}