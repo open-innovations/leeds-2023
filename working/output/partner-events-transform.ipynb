{
 "cells": [
  {
   "cell_type": "code",
   "execution_count": 1,
   "id": "024bd340",
   "metadata": {
    "execution": {
     "iopub.execute_input": "2023-10-25T23:37:44.388935Z",
     "iopub.status.busy": "2023-10-25T23:37:44.388018Z",
     "iopub.status.idle": "2023-10-25T23:37:44.767235Z",
     "shell.execute_reply": "2023-10-25T23:37:44.766041Z"
    },
    "papermill": {
     "duration": 0.388276,
     "end_time": "2023-10-25T23:37:44.770057",
     "exception": false,
     "start_time": "2023-10-25T23:37:44.381781",
     "status": "completed"
    },
    "tags": []
   },
   "outputs": [],
   "source": [
    "import os\n",
    "import sys\n",
    "import pandas as pd\n",
    "lib_dir = os.path.realpath('../../../lib/')\n",
    "if lib_dir not in sys.path: sys.path.append(lib_dir)"
   ]
  },
  {
   "cell_type": "code",
   "execution_count": 2,
   "id": "fc134a6d",
   "metadata": {
    "execution": {
     "iopub.execute_input": "2023-10-25T23:37:44.779051Z",
     "iopub.status.busy": "2023-10-25T23:37:44.778558Z",
     "iopub.status.idle": "2023-10-25T23:37:59.277808Z",
     "shell.execute_reply": "2023-10-25T23:37:59.276180Z"
    },
    "papermill": {
     "duration": 14.506596,
     "end_time": "2023-10-25T23:37:59.280701",
     "exception": false,
     "start_time": "2023-10-25T23:37:44.774105",
     "status": "completed"
    },
    "tags": []
   },
   "outputs": [],
   "source": [
    "import util.geo"
   ]
  },
  {
   "cell_type": "code",
   "execution_count": 3,
   "id": "ef1f4374",
   "metadata": {
    "execution": {
     "iopub.execute_input": "2023-10-25T23:37:59.289804Z",
     "iopub.status.busy": "2023-10-25T23:37:59.289483Z",
     "iopub.status.idle": "2023-10-25T23:37:59.294565Z",
     "shell.execute_reply": "2023-10-25T23:37:59.293294Z"
    },
    "papermill": {
     "duration": 0.011604,
     "end_time": "2023-10-25T23:37:59.296535",
     "exception": false,
     "start_time": "2023-10-25T23:37:59.284931",
     "status": "completed"
    },
    "tags": []
   },
   "outputs": [],
   "source": [
    "EVENTS_RAW_DATA = '../../../working/metrics/partner-events/events.csv'\n",
    "DATA_DIR = '../../../data/metrics/events/partner-events/'\n",
    "EVENTS_DATA = os.path.join(DATA_DIR, 'events.csv')"
   ]
  },
  {
   "cell_type": "code",
   "execution_count": 4,
   "id": "68d650eb",
   "metadata": {
    "execution": {
     "iopub.execute_input": "2023-10-25T23:37:59.306746Z",
     "iopub.status.busy": "2023-10-25T23:37:59.306063Z",
     "iopub.status.idle": "2023-10-25T23:37:59.311301Z",
     "shell.execute_reply": "2023-10-25T23:37:59.310336Z"
    },
    "papermill": {
     "duration": 0.012927,
     "end_time": "2023-10-25T23:37:59.313952",
     "exception": false,
     "start_time": "2023-10-25T23:37:59.301025",
     "status": "completed"
    },
    "tags": []
   },
   "outputs": [],
   "source": [
    "columns = {\n",
    "    'Event Name': 'name',\n",
    "    'Event Start Date': 'start_date',\n",
    "    'Event End Date': 'end_date',\n",
    "    'Partner/Promote': 'partner_promote',\n",
    "    'Stage': 'stage',\n",
    "    'Live date': 'live_date',\n",
    "    'Venue postcode': 'postcode',\n",
    "    'Pricing Policy': 'pricing',\n",
    "    'Venue - including address': 'venue',\n",
    "    'Is this event on Leeds Inspried?': 'on_leeds_inspired',\n",
    "}"
   ]
  },
  {
   "cell_type": "markdown",
   "id": "d6639c75",
   "metadata": {
    "papermill": {
     "duration": 0.003663,
     "end_time": "2023-10-25T23:37:59.321500",
     "exception": false,
     "start_time": "2023-10-25T23:37:59.317837",
     "status": "completed"
    },
    "tags": []
   },
   "source": [
    "Load the data and rename columns. Parse the dates to dates."
   ]
  },
  {
   "cell_type": "code",
   "execution_count": 5,
   "id": "a9bf4651",
   "metadata": {
    "execution": {
     "iopub.execute_input": "2023-10-25T23:37:59.329750Z",
     "iopub.status.busy": "2023-10-25T23:37:59.329361Z",
     "iopub.status.idle": "2023-10-25T23:37:59.344932Z",
     "shell.execute_reply": "2023-10-25T23:37:59.343965Z"
    },
    "papermill": {
     "duration": 0.022691,
     "end_time": "2023-10-25T23:37:59.347585",
     "exception": false,
     "start_time": "2023-10-25T23:37:59.324894",
     "status": "completed"
    },
    "tags": []
   },
   "outputs": [],
   "source": [
    "data = pd.read_csv(EVENTS_RAW_DATA)[columns.keys()].rename(columns=columns)\n",
    "data.start_date = pd.to_datetime(data.start_date, errors='coerce')\n",
    "data.end_date = pd.to_datetime(data.end_date, errors='coerce')"
   ]
  },
  {
   "cell_type": "markdown",
   "id": "782e0c40",
   "metadata": {
    "papermill": {
     "duration": 0.004037,
     "end_time": "2023-10-25T23:37:59.355554",
     "exception": false,
     "start_time": "2023-10-25T23:37:59.351517",
     "status": "completed"
    },
    "tags": []
   },
   "source": [
    "Filter data by not LI Pull through and start date before now"
   ]
  },
  {
   "cell_type": "code",
   "execution_count": 6,
   "id": "f2090e7c",
   "metadata": {
    "execution": {
     "iopub.execute_input": "2023-10-25T23:37:59.365546Z",
     "iopub.status.busy": "2023-10-25T23:37:59.364757Z",
     "iopub.status.idle": "2023-10-25T23:37:59.371722Z",
     "shell.execute_reply": "2023-10-25T23:37:59.370702Z"
    },
    "papermill": {
     "duration": 0.013618,
     "end_time": "2023-10-25T23:37:59.373805",
     "exception": false,
     "start_time": "2023-10-25T23:37:59.360187",
     "status": "completed"
    },
    "tags": []
   },
   "outputs": [],
   "source": [
    "data = data[\n",
    "    # (data.live_date == 'This event is live ') &\n",
    "    ((data.stage != 'LI pull through') & data.stage.notna()) &\n",
    "    (data.start_date < pd.Timestamp.now())\n",
    "]"
   ]
  },
  {
   "cell_type": "code",
   "execution_count": 7,
   "id": "b0ef0c8d",
   "metadata": {
    "execution": {
     "iopub.execute_input": "2023-10-25T23:37:59.382708Z",
     "iopub.status.busy": "2023-10-25T23:37:59.382065Z",
     "iopub.status.idle": "2023-10-25T23:38:01.184431Z",
     "shell.execute_reply": "2023-10-25T23:38:01.183379Z"
    },
    "papermill": {
     "duration": 1.809908,
     "end_time": "2023-10-25T23:38:01.187234",
     "exception": false,
     "start_time": "2023-10-25T23:37:59.377326",
     "status": "completed"
    },
    "tags": []
   },
   "outputs": [],
   "source": [
    "data['ward_code'] = data.postcode.pipe(util.geo.postcode_formatter).map(util.geo.postcode_to_ward_code)\n",
    "data['ward_name'] = data.ward_code.pipe(util.geo.ward_code_to_name)"
   ]
  },
  {
   "cell_type": "markdown",
   "id": "84d2433c",
   "metadata": {
    "papermill": {
     "duration": 0.004092,
     "end_time": "2023-10-25T23:38:01.195506",
     "exception": false,
     "start_time": "2023-10-25T23:38:01.191414",
     "status": "completed"
    },
    "tags": []
   },
   "source": [
    "Save the file"
   ]
  },
  {
   "cell_type": "code",
   "execution_count": 8,
   "id": "c647b571",
   "metadata": {
    "execution": {
     "iopub.execute_input": "2023-10-25T23:38:01.204272Z",
     "iopub.status.busy": "2023-10-25T23:38:01.203710Z",
     "iopub.status.idle": "2023-10-25T23:38:01.212493Z",
     "shell.execute_reply": "2023-10-25T23:38:01.211658Z"
    },
    "papermill": {
     "duration": 0.015439,
     "end_time": "2023-10-25T23:38:01.214507",
     "exception": false,
     "start_time": "2023-10-25T23:38:01.199068",
     "status": "completed"
    },
    "tags": []
   },
   "outputs": [],
   "source": [
    "data[\n",
    "    ['name','start_date','end_date','ward_code']\n",
    "].to_csv(EVENTS_DATA, index=False)"
   ]
  },
  {
   "cell_type": "markdown",
   "id": "89ce20c5",
   "metadata": {
    "papermill": {
     "duration": 0.003715,
     "end_time": "2023-10-25T23:38:01.222101",
     "exception": false,
     "start_time": "2023-10-25T23:38:01.218386",
     "status": "completed"
    },
    "tags": []
   },
   "source": [
    "Print out missing postcode data"
   ]
  },
  {
   "cell_type": "code",
   "execution_count": 9,
   "id": "fd28181b",
   "metadata": {
    "execution": {
     "iopub.execute_input": "2023-10-25T23:38:01.231557Z",
     "iopub.status.busy": "2023-10-25T23:38:01.230924Z",
     "iopub.status.idle": "2023-10-25T23:38:01.249492Z",
     "shell.execute_reply": "2023-10-25T23:38:01.248508Z"
    },
    "papermill": {
     "duration": 0.026366,
     "end_time": "2023-10-25T23:38:01.252340",
     "exception": false,
     "start_time": "2023-10-25T23:38:01.225974",
     "status": "completed"
    },
    "tags": []
   },
   "outputs": [
    {
     "data": {
      "text/html": [
       "<div>\n",
       "<style scoped>\n",
       "    .dataframe tbody tr th:only-of-type {\n",
       "        vertical-align: middle;\n",
       "    }\n",
       "\n",
       "    .dataframe tbody tr th {\n",
       "        vertical-align: top;\n",
       "    }\n",
       "\n",
       "    .dataframe thead th {\n",
       "        text-align: right;\n",
       "    }\n",
       "</style>\n",
       "<table border=\"1\" class=\"dataframe\">\n",
       "  <thead>\n",
       "    <tr style=\"text-align: right;\">\n",
       "      <th></th>\n",
       "      <th>name</th>\n",
       "      <th>start_date</th>\n",
       "    </tr>\n",
       "  </thead>\n",
       "  <tbody>\n",
       "    <tr>\n",
       "      <th>1</th>\n",
       "      <td>East Street Arts, A City Less Grey 2022</td>\n",
       "      <td>2022-10-08</td>\n",
       "    </tr>\n",
       "    <tr>\n",
       "      <th>3</th>\n",
       "      <td>Phoenix Dance Theatre Virtual Gallery</td>\n",
       "      <td>2023-01-01</td>\n",
       "    </tr>\n",
       "    <tr>\n",
       "      <th>4</th>\n",
       "      <td>The Big Art Giveaway, School of Creative Arts ...</td>\n",
       "      <td>2023-01-01</td>\n",
       "    </tr>\n",
       "    <tr>\n",
       "      <th>5</th>\n",
       "      <td>Embassy of Netherlands, Meet Leeds Lab</td>\n",
       "      <td>2023-01-16</td>\n",
       "    </tr>\n",
       "    <tr>\n",
       "      <th>6</th>\n",
       "      <td>Shifting Borders: A Journey to the Centre of o...</td>\n",
       "      <td>2023-01-24</td>\n",
       "    </tr>\n",
       "    <tr>\n",
       "      <th>...</th>\n",
       "      <td>...</td>\n",
       "      <td>...</td>\n",
       "    </tr>\n",
       "    <tr>\n",
       "      <th>232</th>\n",
       "      <td>And She Built a Crooked House - 4D Yoga</td>\n",
       "      <td>2023-10-20</td>\n",
       "    </tr>\n",
       "    <tr>\n",
       "      <th>235</th>\n",
       "      <td>Artist Talk with Gemma Anderson-Tempini and Ma...</td>\n",
       "      <td>2023-10-21</td>\n",
       "    </tr>\n",
       "    <tr>\n",
       "      <th>239</th>\n",
       "      <td>Songs for No One - part of transform</td>\n",
       "      <td>2023-10-21</td>\n",
       "    </tr>\n",
       "    <tr>\n",
       "      <th>240</th>\n",
       "      <td>Spooky Shakespeare Suitcase Theatre</td>\n",
       "      <td>2023-10-21</td>\n",
       "    </tr>\n",
       "    <tr>\n",
       "      <th>243</th>\n",
       "      <td>The DOMA Annual Lecture: Could There Be Anothe...</td>\n",
       "      <td>2023-10-25</td>\n",
       "    </tr>\n",
       "  </tbody>\n",
       "</table>\n",
       "<p>81 rows × 2 columns</p>\n",
       "</div>"
      ],
      "text/plain": [
       "                                                  name start_date\n",
       "1              East Street Arts, A City Less Grey 2022 2022-10-08\n",
       "3                Phoenix Dance Theatre Virtual Gallery 2023-01-01\n",
       "4    The Big Art Giveaway, School of Creative Arts ... 2023-01-01\n",
       "5               Embassy of Netherlands, Meet Leeds Lab 2023-01-16\n",
       "6    Shifting Borders: A Journey to the Centre of o... 2023-01-24\n",
       "..                                                 ...        ...\n",
       "232            And She Built a Crooked House - 4D Yoga 2023-10-20\n",
       "235  Artist Talk with Gemma Anderson-Tempini and Ma... 2023-10-21\n",
       "239               Songs for No One - part of transform 2023-10-21\n",
       "240                Spooky Shakespeare Suitcase Theatre 2023-10-21\n",
       "243  The DOMA Annual Lecture: Could There Be Anothe... 2023-10-25\n",
       "\n",
       "[81 rows x 2 columns]"
      ]
     },
     "execution_count": 9,
     "metadata": {},
     "output_type": "execute_result"
    }
   ],
   "source": [
    "data[data.postcode.isna()][[\n",
    "    'name', 'start_date'\n",
    "]]"
   ]
  },
  {
   "cell_type": "markdown",
   "id": "abae4954",
   "metadata": {
    "papermill": {
     "duration": 0.006441,
     "end_time": "2023-10-25T23:38:01.263526",
     "exception": false,
     "start_time": "2023-10-25T23:38:01.257085",
     "status": "completed"
    },
    "tags": []
   },
   "source": [
    "Plot the pricing"
   ]
  },
  {
   "cell_type": "code",
   "execution_count": 10,
   "id": "bf1c48a5",
   "metadata": {
    "execution": {
     "iopub.execute_input": "2023-10-25T23:38:01.275755Z",
     "iopub.status.busy": "2023-10-25T23:38:01.275090Z",
     "iopub.status.idle": "2023-10-25T23:38:02.047900Z",
     "shell.execute_reply": "2023-10-25T23:38:02.046809Z"
    },
    "papermill": {
     "duration": 0.78249,
     "end_time": "2023-10-25T23:38:02.050161",
     "exception": false,
     "start_time": "2023-10-25T23:38:01.267671",
     "status": "completed"
    },
    "tags": []
   },
   "outputs": [
    {
     "data": {
      "image/png": "[encoded data removed]",
      "text/plain": [
       "<Figure size 640x480 with 1 Axes>"
      ]
     },
     "metadata": {},
     "output_type": "display_data"
    }
   ],
   "source": [
    "# .groupby('pricing').count().plot.barh()\n",
    "pricing = data.pricing.fillna('Unspecified').str.replace('[\\[\\'\\]]', '', regex=True).to_frame().reset_index().groupby('pricing').count()\n",
    "\n",
    "pricing.columns = ['count']\n",
    "plot = pricing.plot.barh()\n"
   ]
  },
  {
   "cell_type": "code",
   "execution_count": null,
   "id": "f1f52c78",
   "metadata": {
    "papermill": {
     "duration": 0.005003,
     "end_time": "2023-10-25T23:38:02.060661",
     "exception": false,
     "start_time": "2023-10-25T23:38:02.055658",
     "status": "completed"
    },
    "tags": []
   },
   "outputs": [],
   "source": []
  }
 ],
 "metadata": {
  "kernelspec": {
   "display_name": "leeds-2023-YZF5GfJv",
   "language": "python",
   "name": "python3"
  },
  "language_info": {
   "codemirror_mode": {
    "name": "ipython",
    "version": 3
   },
   "file_extension": ".py",
   "mimetype": "text/x-python",
   "name": "python",
   "nbconvert_exporter": "python",
   "pygments_lexer": "ipython3",
   "version": "3.10.13"
  },
  "papermill": {
   "default_parameters": {},
   "duration": 20.072907,
   "end_time": "2023-10-25T23:38:02.587355",
   "environment_variables": {},
   "exception": null,
   "input_path": "transform.ipynb",
   "output_path": "../../../working/output/partner-events-transform.ipynb",
   "parameters": {},
   "start_time": "2023-10-25T23:37:42.514448",
   "version": "2.4.0"
  }
 },
 "nbformat": 4,
 "nbformat_minor": 5
}