{
 "cells": [
  {
   "cell_type": "code",
   "execution_count": 1,
   "id": "09671161",
   "metadata": {
    "execution": {
     "iopub.execute_input": "2023-10-30T23:38:08.402994Z",
     "iopub.status.busy": "2023-10-30T23:38:08.402332Z",
     "iopub.status.idle": "2023-10-30T23:38:08.725312Z",
     "shell.execute_reply": "2023-10-30T23:38:08.724405Z"
    },
    "papermill": {
     "duration": 0.32915,
     "end_time": "2023-10-30T23:38:08.727509",
     "exception": false,
     "start_time": "2023-10-30T23:38:08.398359",
     "status": "completed"
    },
    "tags": []
   },
   "outputs": [],
   "source": [
    "import os\n",
    "import pandas as pd"
   ]
  },
  {
   "cell_type": "code",
   "execution_count": 2,
   "id": "be5e2eaa",
   "metadata": {
    "execution": {
     "iopub.execute_input": "2023-10-30T23:38:08.733299Z",
     "iopub.status.busy": "2023-10-30T23:38:08.732469Z",
     "iopub.status.idle": "2023-10-30T23:38:08.737144Z",
     "shell.execute_reply": "2023-10-30T23:38:08.736228Z"
    },
    "papermill": {
     "duration": 0.009778,
     "end_time": "2023-10-30T23:38:08.739160",
     "exception": false,
     "start_time": "2023-10-30T23:38:08.729382",
     "status": "completed"
    },
    "tags": []
   },
   "outputs": [],
   "source": [
    "EVENTS_RAW_DATA = '../../../working/metrics/promote-events/events.csv'\n",
    "DATA_DIR = '../../../data/metrics/events/promote-events/'\n",
    "EVENTS_DATA = os.path.join(DATA_DIR, 'events.csv')"
   ]
  },
  {
   "cell_type": "code",
   "execution_count": 3,
   "id": "022f3fc8",
   "metadata": {
    "execution": {
     "iopub.execute_input": "2023-10-30T23:38:08.744061Z",
     "iopub.status.busy": "2023-10-30T23:38:08.743801Z",
     "iopub.status.idle": "2023-10-30T23:38:08.749129Z",
     "shell.execute_reply": "2023-10-30T23:38:08.748257Z"
    },
    "papermill": {
     "duration": 0.01045,
     "end_time": "2023-10-30T23:38:08.751162",
     "exception": false,
     "start_time": "2023-10-30T23:38:08.740712",
     "status": "completed"
    },
    "tags": []
   },
   "outputs": [],
   "source": [
    "columns = {\n",
    "    'id': 'id',\n",
    "    'name': 'name',\n",
    "    'locationName': 'location',\n",
    "    'cardPrice': 'card_price',\n",
    "    'timeslots': 'time',\n",
    "    # 'displayOnWebsite': 'display',\n",
    "    'Stage': 'stage',\n",
    "}"
   ]
  },
  {
   "cell_type": "code",
   "execution_count": 4,
   "id": "d074a6be",
   "metadata": {
    "execution": {
     "iopub.execute_input": "2023-10-30T23:38:08.755994Z",
     "iopub.status.busy": "2023-10-30T23:38:08.755369Z",
     "iopub.status.idle": "2023-10-30T23:38:08.769563Z",
     "shell.execute_reply": "2023-10-30T23:38:08.768626Z"
    },
    "papermill": {
     "duration": 0.018752,
     "end_time": "2023-10-30T23:38:08.771478",
     "exception": false,
     "start_time": "2023-10-30T23:38:08.752726",
     "status": "completed"
    },
    "tags": []
   },
   "outputs": [],
   "source": [
    "data = pd.read_csv(EVENTS_RAW_DATA)[columns.keys()].rename(columns=columns)\n",
    "data.time = pd.to_datetime(data.time, errors='coerce')"
   ]
  },
  {
   "cell_type": "code",
   "execution_count": 5,
   "id": "7e6fa079",
   "metadata": {
    "execution": {
     "iopub.execute_input": "2023-10-30T23:38:08.776657Z",
     "iopub.status.busy": "2023-10-30T23:38:08.776102Z",
     "iopub.status.idle": "2023-10-30T23:38:08.784113Z",
     "shell.execute_reply": "2023-10-30T23:38:08.783207Z"
    },
    "papermill": {
     "duration": 0.012794,
     "end_time": "2023-10-30T23:38:08.786181",
     "exception": false,
     "start_time": "2023-10-30T23:38:08.773387",
     "status": "completed"
    },
    "tags": []
   },
   "outputs": [],
   "source": [
    "data.to_csv(os.path.join(DATA_DIR, 'events.csv'), index=False)"
   ]
  }
 ],
 "metadata": {
  "kernelspec": {
   "display_name": "leeds-2023-YZF5GfJv",
   "language": "python",
   "name": "python3"
  },
  "language_info": {
   "codemirror_mode": {
    "name": "ipython",
    "version": 3
   },
   "file_extension": ".py",
   "mimetype": "text/x-python",
   "name": "python",
   "nbconvert_exporter": "python",
   "pygments_lexer": "ipython3",
   "version": "3.10.13"
  },
  "papermill": {
   "default_parameters": {},
   "duration": 2.218365,
   "end_time": "2023-10-30T23:38:09.005740",
   "environment_variables": {},
   "exception": null,
   "input_path": "transform.ipynb",
   "output_path": "../../../working/output/promote-events-transform.ipynb",
   "parameters": {},
   "start_time": "2023-10-30T23:38:06.787375",
   "version": "2.4.0"
  }
 },
 "nbformat": 4,
 "nbformat_minor": 5
}