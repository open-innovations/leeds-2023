{
 "cells": [
  {
   "cell_type": "markdown",
   "id": "e5a715d4",
   "metadata": {
    "papermill": {
     "duration": 0.002193,
     "end_time": "2023-10-15T23:37:50.316047",
     "exception": false,
     "start_time": "2023-10-15T23:37:50.313854",
     "status": "completed"
    },
    "tags": []
   },
   "source": [
    "# Nest\n",
    "\n",
    "Prepares data for the Nest page "
   ]
  },
  {
   "cell_type": "code",
   "execution_count": 1,
   "id": "3d9e9e40",
   "metadata": {
    "execution": {
     "iopub.execute_input": "2023-10-15T23:37:50.321065Z",
     "iopub.status.busy": "2023-10-15T23:37:50.320534Z",
     "iopub.status.idle": "2023-10-15T23:38:00.177118Z",
     "shell.execute_reply": "2023-10-15T23:38:00.176454Z"
    },
    "papermill": {
     "duration": 9.861442,
     "end_time": "2023-10-15T23:38:00.179314",
     "exception": false,
     "start_time": "2023-10-15T23:37:50.317872",
     "status": "completed"
    },
    "tags": []
   },
   "outputs": [],
   "source": [
    "import os\n",
    "from events import (\n",
    "    load_event_data, filter_by_project, prepare, save_files, count_wards\n",
    ")"
   ]
  },
  {
   "cell_type": "markdown",
   "id": "05b26ae7",
   "metadata": {
    "papermill": {
     "duration": 0.001641,
     "end_time": "2023-10-15T23:38:00.182894",
     "exception": false,
     "start_time": "2023-10-15T23:38:00.181253",
     "status": "completed"
    },
    "tags": []
   },
   "source": [
    "Set output directory"
   ]
  },
  {
   "cell_type": "code",
   "execution_count": 2,
   "id": "1f5431b7",
   "metadata": {
    "execution": {
     "iopub.execute_input": "2023-10-15T23:38:00.187798Z",
     "iopub.status.busy": "2023-10-15T23:38:00.187085Z",
     "iopub.status.idle": "2023-10-15T23:38:00.190592Z",
     "shell.execute_reply": "2023-10-15T23:38:00.189936Z"
    },
    "papermill": {
     "duration": 0.007616,
     "end_time": "2023-10-15T23:38:00.192099",
     "exception": false,
     "start_time": "2023-10-15T23:38:00.184483",
     "status": "completed"
    },
    "tags": []
   },
   "outputs": [],
   "source": [
    "OUT_DIR = '../../../../docs/metrics/events/nest/_data/events'"
   ]
  },
  {
   "cell_type": "markdown",
   "id": "81ef17e1",
   "metadata": {
    "papermill": {
     "duration": 0.001612,
     "end_time": "2023-10-15T23:38:00.195372",
     "exception": false,
     "start_time": "2023-10-15T23:38:00.193760",
     "status": "completed"
    },
    "tags": []
   },
   "source": [
    "Read in event data and filter by **My LEEDS 2023** project.\n",
    "\n",
    "The criteria are:\n",
    "\n",
    "* project type is 'Produce (Signature)'\n",
    "* event_type contains 'Public Event -'\n",
    "\n",
    "It's then filtered by project_name is '10 - Melt'"
   ]
  },
  {
   "cell_type": "code",
   "execution_count": 3,
   "id": "b1e12b14",
   "metadata": {
    "execution": {
     "iopub.execute_input": "2023-10-15T23:38:00.199975Z",
     "iopub.status.busy": "2023-10-15T23:38:00.199516Z",
     "iopub.status.idle": "2023-10-15T23:38:00.227788Z",
     "shell.execute_reply": "2023-10-15T23:38:00.227071Z"
    },
    "papermill": {
     "duration": 0.032689,
     "end_time": "2023-10-15T23:38:00.229708",
     "exception": false,
     "start_time": "2023-10-15T23:38:00.197019",
     "status": "completed"
    },
    "tags": []
   },
   "outputs": [
    {
     "data": {
      "text/html": [
       "<div>\n",
       "<style scoped>\n",
       "    .dataframe tbody tr th:only-of-type {\n",
       "        vertical-align: middle;\n",
       "    }\n",
       "\n",
       "    .dataframe tbody tr th {\n",
       "        vertical-align: top;\n",
       "    }\n",
       "\n",
       "    .dataframe thead th {\n",
       "        text-align: right;\n",
       "    }\n",
       "</style>\n",
       "<table border=\"1\" class=\"dataframe\">\n",
       "  <thead>\n",
       "    <tr style=\"text-align: right;\">\n",
       "      <th></th>\n",
       "      <th>actual_audience_size_number_of_participants_in_person</th>\n",
       "      <th>actual_audience_size_number_of_participants_online</th>\n",
       "      <th>airtable_id</th>\n",
       "      <th>end_date</th>\n",
       "      <th>event_name</th>\n",
       "      <th>event_type</th>\n",
       "      <th>event_unique_identifier</th>\n",
       "      <th>number_of_booked_participants</th>\n",
       "      <th>postcode_(from_venue)</th>\n",
       "      <th>project_name</th>\n",
       "      <th>project_type</th>\n",
       "      <th>season</th>\n",
       "      <th>start_date</th>\n",
       "      <th>ward_(from_venue)</th>\n",
       "    </tr>\n",
       "  </thead>\n",
       "  <tbody>\n",
       "    <tr>\n",
       "      <th>1054</th>\n",
       "      <td>1338.0</td>\n",
       "      <td>NaN</td>\n",
       "      <td>241</td>\n",
       "      <td>2023-09-09</td>\n",
       "      <td>Melt (Run)</td>\n",
       "      <td>['Public Event - Performance']</td>\n",
       "      <td>10 - Melt: Melt (Run)</td>\n",
       "      <td>1542.0</td>\n",
       "      <td>['LS26 8AL']</td>\n",
       "      <td>10 - Melt</td>\n",
       "      <td>Produce (Signature)</td>\n",
       "      <td>['Season 3 - Dreaming']</td>\n",
       "      <td>2023-09-05</td>\n",
       "      <td>['Garforth and Swillington']</td>\n",
       "    </tr>\n",
       "  </tbody>\n",
       "</table>\n",
       "</div>"
      ],
      "text/plain": [
       "      actual_audience_size_number_of_participants_in_person  \\\n",
       "1054                                             1338.0       \n",
       "\n",
       "      actual_audience_size_number_of_participants_online  airtable_id  \\\n",
       "1054                                                NaN           241   \n",
       "\n",
       "        end_date  event_name                      event_type  \\\n",
       "1054  2023-09-09  Melt (Run)  ['Public Event - Performance']   \n",
       "\n",
       "     event_unique_identifier  number_of_booked_participants  \\\n",
       "1054   10 - Melt: Melt (Run)                         1542.0   \n",
       "\n",
       "     postcode_(from_venue) project_name         project_type  \\\n",
       "1054          ['LS26 8AL']    10 - Melt  Produce (Signature)   \n",
       "\n",
       "                       season start_date             ward_(from_venue)  \n",
       "1054  ['Season 3 - Dreaming'] 2023-09-05  ['Garforth and Swillington']  "
      ]
     },
     "execution_count": 3,
     "metadata": {},
     "output_type": "execute_result"
    }
   ],
   "source": [
    "data = load_event_data().pipe(filter_by_project, '10 - Melt')\n",
    "data"
   ]
  },
  {
   "cell_type": "markdown",
   "id": "5da20c8a",
   "metadata": {
    "papermill": {
     "duration": 0.001835,
     "end_time": "2023-10-15T23:38:00.233612",
     "exception": false,
     "start_time": "2023-10-15T23:38:00.231777",
     "status": "completed"
    },
    "tags": []
   },
   "source": [
    "Run the processing and save the files"
   ]
  },
  {
   "cell_type": "code",
   "execution_count": 4,
   "id": "800d38b4",
   "metadata": {
    "execution": {
     "iopub.execute_input": "2023-10-15T23:38:00.238954Z",
     "iopub.status.busy": "2023-10-15T23:38:00.238307Z",
     "iopub.status.idle": "2023-10-15T23:38:00.269702Z",
     "shell.execute_reply": "2023-10-15T23:38:00.269058Z"
    },
    "papermill": {
     "duration": 0.035776,
     "end_time": "2023-10-15T23:38:00.271335",
     "exception": false,
     "start_time": "2023-10-15T23:38:00.235559",
     "status": "completed"
    },
    "tags": []
   },
   "outputs": [],
   "source": [
    "data = data.pipe(prepare).pipe(save_files, OUT_DIR)"
   ]
  }
 ],
 "metadata": {
  "kernelspec": {
   "display_name": "leeds-2023-YZF5GfJv",
   "language": "python",
   "name": "python3"
  },
  "language_info": {
   "codemirror_mode": {
    "name": "ipython",
    "version": 3
   },
   "file_extension": ".py",
   "mimetype": "text/x-python",
   "name": "python",
   "nbconvert_exporter": "python",
   "pygments_lexer": "ipython3",
   "version": "3.10.13"
  },
  "papermill": {
   "default_parameters": {},
   "duration": 11.638731,
   "end_time": "2023-10-15T23:38:00.594895",
   "environment_variables": {},
   "exception": null,
   "input_path": "nest.ipynb",
   "output_path": "../../../../working/output/nest.ipynb",
   "parameters": {},
   "start_time": "2023-10-15T23:37:48.956164",
   "version": "2.4.0"
  }
 },
 "nbformat": 4,
 "nbformat_minor": 5
}