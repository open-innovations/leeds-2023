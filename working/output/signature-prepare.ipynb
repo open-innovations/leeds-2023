{
 "cells": [
  {
   "cell_type": "code",
   "execution_count": 1,
   "id": "c5990dd1",
   "metadata": {
    "execution": {
     "iopub.execute_input": "2023-12-04T23:41:28.586032Z",
     "iopub.status.busy": "2023-12-04T23:41:28.585584Z",
     "iopub.status.idle": "2023-12-04T23:41:35.773716Z",
     "shell.execute_reply": "2023-12-04T23:41:35.773060Z"
    },
    "papermill": {
     "duration": 7.193276,
     "end_time": "2023-12-04T23:41:35.775373",
     "exception": false,
     "start_time": "2023-12-04T23:41:28.582097",
     "status": "completed"
    },
    "tags": []
   },
   "outputs": [],
   "source": [
    "import os\n",
    "import pandas as pd\n",
    "from events import load_event_data, get_first_ward, normalise_ward"
   ]
  },
  {
   "cell_type": "code",
   "execution_count": 2,
   "id": "a6e27d47",
   "metadata": {
    "execution": {
     "iopub.execute_input": "2023-12-04T23:41:35.780463Z",
     "iopub.status.busy": "2023-12-04T23:41:35.780089Z",
     "iopub.status.idle": "2023-12-04T23:41:35.783523Z",
     "shell.execute_reply": "2023-12-04T23:41:35.782974Z"
    },
    "papermill": {
     "duration": 0.007172,
     "end_time": "2023-12-04T23:41:35.784737",
     "exception": false,
     "start_time": "2023-12-04T23:41:35.777565",
     "status": "completed"
    },
    "tags": []
   },
   "outputs": [],
   "source": [
    "latest_date = pd.Timestamp.today().ceil('D')"
   ]
  },
  {
   "cell_type": "code",
   "execution_count": 3,
   "id": "e6ad3236",
   "metadata": {
    "execution": {
     "iopub.execute_input": "2023-12-04T23:41:35.789550Z",
     "iopub.status.busy": "2023-12-04T23:41:35.789002Z",
     "iopub.status.idle": "2023-12-04T23:41:35.803787Z",
     "shell.execute_reply": "2023-12-04T23:41:35.803142Z"
    },
    "papermill": {
     "duration": 0.01856,
     "end_time": "2023-12-04T23:41:35.805078",
     "exception": false,
     "start_time": "2023-12-04T23:41:35.786518",
     "status": "completed"
    },
    "tags": []
   },
   "outputs": [],
   "source": [
    "tickets = pd.read_csv('../../../../data/metrics/events/tickets/orders.csv', parse_dates=['created_at', 'event_date'])\n",
    "tickets = tickets[tickets.event_date <= latest_date]"
   ]
  },
  {
   "cell_type": "code",
   "execution_count": 4,
   "id": "95db7f11",
   "metadata": {
    "execution": {
     "iopub.execute_input": "2023-12-04T23:41:35.809908Z",
     "iopub.status.busy": "2023-12-04T23:41:35.809412Z",
     "iopub.status.idle": "2023-12-04T23:41:35.859835Z",
     "shell.execute_reply": "2023-12-04T23:41:35.859277Z"
    },
    "papermill": {
     "duration": 0.05434,
     "end_time": "2023-12-04T23:41:35.861217",
     "exception": false,
     "start_time": "2023-12-04T23:41:35.806877",
     "status": "completed"
    },
    "tags": []
   },
   "outputs": [],
   "source": [
    "events = load_event_data()\n",
    "\n",
    "events = pd.concat([\n",
    "  events,\n",
    "  events.pipe(get_first_ward).pipe(normalise_ward).fillna('UNKNOWN'),\n",
    "  pd.Series(\n",
    "      events.actual_audience_size_number_of_participants_in_person + events.actual_audience_size_number_of_participants_online,\n",
    "      name='attendances'\n",
    "  )\n",
    "], axis=1).rename(columns={\n",
    "    'start_date': 'date'\n",
    "}).loc[:, ['ward_code', 'date', 'event_unique_identifier', 'attendances']]"
   ]
  },
  {
   "cell_type": "code",
   "execution_count": 5,
   "id": "e9786f6f",
   "metadata": {
    "execution": {
     "iopub.execute_input": "2023-12-04T23:41:35.866192Z",
     "iopub.status.busy": "2023-12-04T23:41:35.865820Z",
     "iopub.status.idle": "2023-12-04T23:41:35.869122Z",
     "shell.execute_reply": "2023-12-04T23:41:35.868498Z"
    },
    "papermill": {
     "duration": 0.007235,
     "end_time": "2023-12-04T23:41:35.870420",
     "exception": false,
     "start_time": "2023-12-04T23:41:35.863185",
     "status": "completed"
    },
    "tags": []
   },
   "outputs": [],
   "source": [
    "OUTPUT_DIR='../../../../docs/metrics/events/signature/_data/'\n",
    "os.makedirs(OUTPUT_DIR, exist_ok=True)"
   ]
  },
  {
   "cell_type": "markdown",
   "id": "4247e13c",
   "metadata": {
    "papermill": {
     "duration": 0.00192,
     "end_time": "2023-12-04T23:41:35.874268",
     "exception": false,
     "start_time": "2023-12-04T23:41:35.872348",
     "status": "completed"
    },
    "tags": []
   },
   "source": [
    "Events CSVs"
   ]
  },
  {
   "cell_type": "code",
   "execution_count": 6,
   "id": "f901328c",
   "metadata": {
    "execution": {
     "iopub.execute_input": "2023-12-04T23:41:35.879046Z",
     "iopub.status.busy": "2023-12-04T23:41:35.878712Z",
     "iopub.status.idle": "2023-12-04T23:41:35.884847Z",
     "shell.execute_reply": "2023-12-04T23:41:35.884234Z"
    },
    "papermill": {
     "duration": 0.010079,
     "end_time": "2023-12-04T23:41:35.886256",
     "exception": false,
     "start_time": "2023-12-04T23:41:35.876177",
     "status": "completed"
    },
    "tags": []
   },
   "outputs": [],
   "source": [
    "pd.DataFrame({\n",
    "  'events': events.groupby('ward_code').event_unique_identifier.count(),\n",
    "  'attendances': events.groupby('ward_code').attendances.sum().astype(int),\n",
    "}).to_csv(os.path.join(OUTPUT_DIR, 'events_by_ward.csv'))\n"
   ]
  },
  {
   "cell_type": "code",
   "execution_count": 7,
   "id": "a215dc2f",
   "metadata": {
    "execution": {
     "iopub.execute_input": "2023-12-04T23:41:35.891138Z",
     "iopub.status.busy": "2023-12-04T23:41:35.890797Z",
     "iopub.status.idle": "2023-12-04T23:41:35.898342Z",
     "shell.execute_reply": "2023-12-04T23:41:35.897731Z"
    },
    "papermill": {
     "duration": 0.011468,
     "end_time": "2023-12-04T23:41:35.899785",
     "exception": false,
     "start_time": "2023-12-04T23:41:35.888317",
     "status": "completed"
    },
    "tags": []
   },
   "outputs": [],
   "source": [
    "pd.DataFrame({\n",
    "  'events': events.groupby('date').event_unique_identifier.count(),\n",
    "  'attendances': events.groupby('date').attendances.sum().astype(int),\n",
    "}).resample('M').sum().astype(int).to_csv(os.path.join(OUTPUT_DIR, 'events_by_date.csv'))"
   ]
  },
  {
   "cell_type": "markdown",
   "id": "cc9a088e",
   "metadata": {
    "papermill": {
     "duration": 0.00268,
     "end_time": "2023-12-04T23:41:35.904416",
     "exception": false,
     "start_time": "2023-12-04T23:41:35.901736",
     "status": "completed"
    },
    "tags": []
   },
   "source": [
    "Tickets CSV"
   ]
  },
  {
   "cell_type": "code",
   "execution_count": 8,
   "id": "230ff096",
   "metadata": {
    "execution": {
     "iopub.execute_input": "2023-12-04T23:41:35.909376Z",
     "iopub.status.busy": "2023-12-04T23:41:35.908946Z",
     "iopub.status.idle": "2023-12-04T23:41:35.914809Z",
     "shell.execute_reply": "2023-12-04T23:41:35.914316Z"
    },
    "papermill": {
     "duration": 0.009776,
     "end_time": "2023-12-04T23:41:35.916117",
     "exception": false,
     "start_time": "2023-12-04T23:41:35.906341",
     "status": "completed"
    },
    "tags": []
   },
   "outputs": [],
   "source": [
    "pd.DataFrame({\n",
    "  'orders': tickets.groupby('ward_code').number_of_tickets.count(),\n",
    "  'tickets': tickets.groupby('ward_code').number_of_tickets.sum().astype(int),\n",
    "}).to_csv(os.path.join(OUTPUT_DIR, 'tickets_by_ward.csv'))"
   ]
  },
  {
   "cell_type": "code",
   "execution_count": 9,
   "id": "b91c072a",
   "metadata": {
    "execution": {
     "iopub.execute_input": "2023-12-04T23:41:35.921105Z",
     "iopub.status.busy": "2023-12-04T23:41:35.920743Z",
     "iopub.status.idle": "2023-12-04T23:41:35.927670Z",
     "shell.execute_reply": "2023-12-04T23:41:35.927135Z"
    },
    "papermill": {
     "duration": 0.010831,
     "end_time": "2023-12-04T23:41:35.928938",
     "exception": false,
     "start_time": "2023-12-04T23:41:35.918107",
     "status": "completed"
    },
    "tags": []
   },
   "outputs": [],
   "source": [
    "pd.DataFrame({\n",
    "  'orders': tickets.groupby('event_date').number_of_tickets.count(),\n",
    "  'tickets': tickets.groupby('event_date').number_of_tickets.sum().astype(int),\n",
    "}).resample('M').sum().to_csv(os.path.join(OUTPUT_DIR, 'tickets_by_event_date.csv'))"
   ]
  },
  {
   "cell_type": "code",
   "execution_count": 10,
   "id": "3146515b",
   "metadata": {
    "execution": {
     "iopub.execute_input": "2023-12-04T23:41:35.934200Z",
     "iopub.status.busy": "2023-12-04T23:41:35.933702Z",
     "iopub.status.idle": "2023-12-04T23:41:35.938587Z",
     "shell.execute_reply": "2023-12-04T23:41:35.938075Z"
    },
    "papermill": {
     "duration": 0.008984,
     "end_time": "2023-12-04T23:41:35.939926",
     "exception": false,
     "start_time": "2023-12-04T23:41:35.930942",
     "status": "completed"
    },
    "tags": []
   },
   "outputs": [],
   "source": [
    "pd.Series({\n",
    "    'total_events': events.event_unique_identifier.count(),\n",
    "    'total_attendances': events.attendances.count(),\n",
    "    'first_event': events.date.min(),\n",
    "    'latest_event': events.date.max(),\n",
    "    'total_ticket_orders_for_events_to_date': tickets.number_of_tickets.count(),\n",
    "    'total_tickets_sold_for_events_to_date': tickets.number_of_tickets.sum(),\n",
    "}).to_json(os.path.join(OUTPUT_DIR, 'headlines.json'), indent=2)"
   ]
  },
  {
   "cell_type": "code",
   "execution_count": null,
   "id": "ca28791b",
   "metadata": {
    "papermill": {
     "duration": 0.002139,
     "end_time": "2023-12-04T23:41:35.944063",
     "exception": false,
     "start_time": "2023-12-04T23:41:35.941924",
     "status": "completed"
    },
    "tags": []
   },
   "outputs": [],
   "source": []
  }
 ],
 "metadata": {
  "kernelspec": {
   "display_name": "leeds-2023-YZF5GfJv",
   "language": "python",
   "name": "python3"
  },
  "language_info": {
   "codemirror_mode": {
    "name": "ipython",
    "version": 3
   },
   "file_extension": ".py",
   "mimetype": "text/x-python",
   "name": "python",
   "nbconvert_exporter": "python",
   "pygments_lexer": "ipython3",
   "version": "3.10.13"
  },
  "papermill": {
   "default_parameters": {},
   "duration": 8.824742,
   "end_time": "2023-12-04T23:41:36.161800",
   "environment_variables": {},
   "exception": null,
   "input_path": "prepare.ipynb",
   "output_path": "../../../../working/output/signature-prepare.ipynb",
   "parameters": {},
   "start_time": "2023-12-04T23:41:27.337058",
   "version": "2.4.0"
  }
 },
 "nbformat": 4,
 "nbformat_minor": 5
}