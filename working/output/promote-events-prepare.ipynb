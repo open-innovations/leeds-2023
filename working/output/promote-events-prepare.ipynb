{
 "cells": [
  {
   "cell_type": "code",
   "execution_count": 1,
   "id": "64dc64bf",
   "metadata": {
    "execution": {
     "iopub.execute_input": "2023-08-27T23:39:58.656331Z",
     "iopub.status.busy": "2023-08-27T23:39:58.655789Z",
     "iopub.status.idle": "2023-08-27T23:39:58.968316Z",
     "shell.execute_reply": "2023-08-27T23:39:58.967553Z"
    },
    "papermill": {
     "duration": 0.319079,
     "end_time": "2023-08-27T23:39:58.970520",
     "exception": false,
     "start_time": "2023-08-27T23:39:58.651441",
     "status": "completed"
    },
    "tags": []
   },
   "outputs": [],
   "source": [
    "import os\n",
    "import pandas as pd"
   ]
  },
  {
   "cell_type": "code",
   "execution_count": 2,
   "id": "fa7ecaf4",
   "metadata": {
    "execution": {
     "iopub.execute_input": "2023-08-27T23:39:58.976851Z",
     "iopub.status.busy": "2023-08-27T23:39:58.976217Z",
     "iopub.status.idle": "2023-08-27T23:39:58.980708Z",
     "shell.execute_reply": "2023-08-27T23:39:58.979930Z"
    },
    "papermill": {
     "duration": 0.010033,
     "end_time": "2023-08-27T23:39:58.982964",
     "exception": false,
     "start_time": "2023-08-27T23:39:58.972931",
     "status": "completed"
    },
    "tags": []
   },
   "outputs": [],
   "source": [
    "DATA_DIR='../../../docs/metrics/events/promote/_data/'\n",
    "os.makedirs(DATA_DIR, exist_ok=True)"
   ]
  },
  {
   "cell_type": "code",
   "execution_count": 3,
   "id": "7c8e6747",
   "metadata": {
    "execution": {
     "iopub.execute_input": "2023-08-27T23:39:58.989656Z",
     "iopub.status.busy": "2023-08-27T23:39:58.989142Z",
     "iopub.status.idle": "2023-08-27T23:39:59.005232Z",
     "shell.execute_reply": "2023-08-27T23:39:59.004300Z"
    },
    "papermill": {
     "duration": 0.022065,
     "end_time": "2023-08-27T23:39:59.006987",
     "exception": false,
     "start_time": "2023-08-27T23:39:58.984922",
     "status": "completed"
    },
    "tags": []
   },
   "outputs": [],
   "source": [
    "data = pd.read_csv('../../../data/metrics/events/promote-events/events.csv', parse_dates=['time'])"
   ]
  },
  {
   "cell_type": "code",
   "execution_count": 4,
   "id": "c34c3478",
   "metadata": {
    "execution": {
     "iopub.execute_input": "2023-08-27T23:39:59.015413Z",
     "iopub.status.busy": "2023-08-27T23:39:59.014722Z",
     "iopub.status.idle": "2023-08-27T23:39:59.024640Z",
     "shell.execute_reply": "2023-08-27T23:39:59.023842Z"
    },
    "papermill": {
     "duration": 0.021006,
     "end_time": "2023-08-27T23:39:59.030041",
     "exception": false,
     "start_time": "2023-08-27T23:39:59.009035",
     "status": "completed"
    },
    "tags": []
   },
   "outputs": [],
   "source": [
    "pd.Series({\n",
    "    'total_events': len(data.id.unique()),\n",
    "    'total_event_instances': len(data.time),\n",
    "    'earliest_event': data.time.min(),\n",
    "    'latest_event': data.time.max(),\n",
    "}).to_json(\n",
    "    os.path.join(DATA_DIR, 'headlines.json'),\n",
    "    date_format='iso', indent=2\n",
    ")"
   ]
  },
  {
   "cell_type": "code",
   "execution_count": 5,
   "id": "e37a9156",
   "metadata": {
    "execution": {
     "iopub.execute_input": "2023-08-27T23:39:59.035804Z",
     "iopub.status.busy": "2023-08-27T23:39:59.035068Z",
     "iopub.status.idle": "2023-08-27T23:39:59.045718Z",
     "shell.execute_reply": "2023-08-27T23:39:59.045028Z"
    },
    "papermill": {
     "duration": 0.015576,
     "end_time": "2023-08-27T23:39:59.047627",
     "exception": false,
     "start_time": "2023-08-27T23:39:59.032051",
     "status": "completed"
    },
    "tags": []
   },
   "outputs": [],
   "source": [
    "events = pd.DataFrame({\n",
    "    'events': data.groupby('id').agg({ 'time': 'min' }).reset_index().groupby('time').id.count(),\n",
    "    'event_instances': data.groupby('time').id.count(),\n",
    "}).fillna(0).astype(int)"
   ]
  },
  {
   "cell_type": "code",
   "execution_count": 6,
   "id": "8841c49e",
   "metadata": {
    "execution": {
     "iopub.execute_input": "2023-08-27T23:39:59.053511Z",
     "iopub.status.busy": "2023-08-27T23:39:59.052821Z",
     "iopub.status.idle": "2023-08-27T23:39:59.057185Z",
     "shell.execute_reply": "2023-08-27T23:39:59.056402Z"
    },
    "papermill": {
     "duration": 0.009446,
     "end_time": "2023-08-27T23:39:59.059137",
     "exception": false,
     "start_time": "2023-08-27T23:39:59.049691",
     "status": "completed"
    },
    "tags": []
   },
   "outputs": [],
   "source": [
    "def cumulate(data):\n",
    "    return pd.concat([\n",
    "        data,\n",
    "        data.cumsum().rename(columns=lambda c: f'cumulative_{c}')\n",
    "    ], axis=1)"
   ]
  },
  {
   "cell_type": "code",
   "execution_count": 7,
   "id": "d2823a53",
   "metadata": {
    "execution": {
     "iopub.execute_input": "2023-08-27T23:39:59.064857Z",
     "iopub.status.busy": "2023-08-27T23:39:59.064224Z",
     "iopub.status.idle": "2023-08-27T23:39:59.076436Z",
     "shell.execute_reply": "2023-08-27T23:39:59.075722Z"
    },
    "papermill": {
     "duration": 0.01736,
     "end_time": "2023-08-27T23:39:59.078578",
     "exception": false,
     "start_time": "2023-08-27T23:39:59.061218",
     "status": "completed"
    },
    "tags": []
   },
   "outputs": [],
   "source": [
    "events.resample('W-FRI').sum().pipe(cumulate).to_csv(os.path.join(DATA_DIR, 'by_week.csv'))"
   ]
  },
  {
   "cell_type": "code",
   "execution_count": 8,
   "id": "a500e651",
   "metadata": {
    "execution": {
     "iopub.execute_input": "2023-08-27T23:39:59.085350Z",
     "iopub.status.busy": "2023-08-27T23:39:59.084571Z",
     "iopub.status.idle": "2023-08-27T23:39:59.091996Z",
     "shell.execute_reply": "2023-08-27T23:39:59.091188Z"
    },
    "papermill": {
     "duration": 0.013266,
     "end_time": "2023-08-27T23:39:59.094260",
     "exception": false,
     "start_time": "2023-08-27T23:39:59.080994",
     "status": "completed"
    },
    "tags": []
   },
   "outputs": [],
   "source": [
    "events.resample('MS').sum().pipe(cumulate).to_csv(os.path.join(DATA_DIR, 'by_month.csv'))"
   ]
  },
  {
   "cell_type": "code",
   "execution_count": null,
   "id": "d0c00390",
   "metadata": {
    "papermill": {
     "duration": 0.002319,
     "end_time": "2023-08-27T23:39:59.098971",
     "exception": false,
     "start_time": "2023-08-27T23:39:59.096652",
     "status": "completed"
    },
    "tags": []
   },
   "outputs": [],
   "source": []
  }
 ],
 "metadata": {
  "kernelspec": {
   "display_name": "leeds-2023-YZF5GfJv",
   "language": "python",
   "name": "python3"
  },
  "language_info": {
   "codemirror_mode": {
    "name": "ipython",
    "version": 3
   },
   "file_extension": ".py",
   "mimetype": "text/x-python",
   "name": "python",
   "nbconvert_exporter": "python",
   "pygments_lexer": "ipython3",
   "version": "3.10.12"
  },
  "papermill": {
   "default_parameters": {},
   "duration": 2.38306,
   "end_time": "2023-08-27T23:39:59.423374",
   "environment_variables": {},
   "exception": null,
   "input_path": "prepare.ipynb",
   "output_path": "../../../working/output/promote-events-prepare.ipynb",
   "parameters": {},
   "start_time": "2023-08-27T23:39:57.040314",
   "version": "2.4.0"
  }
 },
 "nbformat": 4,
 "nbformat_minor": 5
}