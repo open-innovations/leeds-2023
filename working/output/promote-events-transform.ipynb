{
 "cells": [
  {
   "cell_type": "code",
   "execution_count": 1,
   "id": "2c7f0481",
   "metadata": {
    "execution": {
     "iopub.execute_input": "2023-08-05T23:38:32.544051Z",
     "iopub.status.busy": "2023-08-05T23:38:32.543176Z",
     "iopub.status.idle": "2023-08-05T23:38:32.881605Z",
     "shell.execute_reply": "2023-08-05T23:38:32.880577Z"
    },
    "papermill": {
     "duration": 0.347077,
     "end_time": "2023-08-05T23:38:32.885134",
     "exception": false,
     "start_time": "2023-08-05T23:38:32.538057",
     "status": "completed"
    },
    "tags": []
   },
   "outputs": [],
   "source": [
    "import os\n",
    "import pandas as pd"
   ]
  },
  {
   "cell_type": "code",
   "execution_count": 2,
   "id": "057fd815",
   "metadata": {
    "execution": {
     "iopub.execute_input": "2023-08-05T23:38:32.891717Z",
     "iopub.status.busy": "2023-08-05T23:38:32.891270Z",
     "iopub.status.idle": "2023-08-05T23:38:32.897730Z",
     "shell.execute_reply": "2023-08-05T23:38:32.896616Z"
    },
    "papermill": {
     "duration": 0.012594,
     "end_time": "2023-08-05T23:38:32.899810",
     "exception": false,
     "start_time": "2023-08-05T23:38:32.887216",
     "status": "completed"
    },
    "tags": []
   },
   "outputs": [],
   "source": [
    "EVENTS_RAW_DATA = '../../../working/metrics/promote-events/events.csv'\n",
    "DATA_DIR = '../../../data/metrics/events/promote-events/'\n",
    "EVENTS_DATA = os.path.join(DATA_DIR, 'events.csv')"
   ]
  },
  {
   "cell_type": "code",
   "execution_count": 3,
   "id": "f0c04564",
   "metadata": {
    "execution": {
     "iopub.execute_input": "2023-08-05T23:38:32.904413Z",
     "iopub.status.busy": "2023-08-05T23:38:32.904046Z",
     "iopub.status.idle": "2023-08-05T23:38:32.908633Z",
     "shell.execute_reply": "2023-08-05T23:38:32.907722Z"
    },
    "papermill": {
     "duration": 0.009763,
     "end_time": "2023-08-05T23:38:32.911149",
     "exception": false,
     "start_time": "2023-08-05T23:38:32.901386",
     "status": "completed"
    },
    "tags": []
   },
   "outputs": [],
   "source": [
    "columns = {\n",
    "    'id': 'id',\n",
    "    'name': 'name',\n",
    "    'locationName': 'location',\n",
    "    'cardPrice': 'card_price',\n",
    "    'timeslots': 'time',\n",
    "    'displayOnWebsite': 'display',\n",
    "    'Stage': 'stage',\n",
    "}"
   ]
  },
  {
   "cell_type": "code",
   "execution_count": 4,
   "id": "9638cb63",
   "metadata": {
    "execution": {
     "iopub.execute_input": "2023-08-05T23:38:32.915670Z",
     "iopub.status.busy": "2023-08-05T23:38:32.915313Z",
     "iopub.status.idle": "2023-08-05T23:38:32.934607Z",
     "shell.execute_reply": "2023-08-05T23:38:32.933642Z"
    },
    "papermill": {
     "duration": 0.024369,
     "end_time": "2023-08-05T23:38:32.937041",
     "exception": false,
     "start_time": "2023-08-05T23:38:32.912672",
     "status": "completed"
    },
    "tags": []
   },
   "outputs": [],
   "source": [
    "data = pd.read_csv(EVENTS_RAW_DATA)[columns.keys()].rename(columns=columns)\n",
    "data.time = pd.to_datetime(data.time, errors='coerce')"
   ]
  },
  {
   "cell_type": "code",
   "execution_count": 5,
   "id": "633d2c02",
   "metadata": {
    "execution": {
     "iopub.execute_input": "2023-08-05T23:38:32.941780Z",
     "iopub.status.busy": "2023-08-05T23:38:32.941481Z",
     "iopub.status.idle": "2023-08-05T23:38:32.953724Z",
     "shell.execute_reply": "2023-08-05T23:38:32.952815Z"
    },
    "papermill": {
     "duration": 0.017134,
     "end_time": "2023-08-05T23:38:32.955801",
     "exception": false,
     "start_time": "2023-08-05T23:38:32.938667",
     "status": "completed"
    },
    "tags": []
   },
   "outputs": [],
   "source": [
    "data.to_csv(os.path.join(DATA_DIR, 'events.csv'), index=False)"
   ]
  }
 ],
 "metadata": {
  "kernelspec": {
   "display_name": "leeds-2023-YZF5GfJv",
   "language": "python",
   "name": "python3"
  },
  "language_info": {
   "codemirror_mode": {
    "name": "ipython",
    "version": 3
   },
   "file_extension": ".py",
   "mimetype": "text/x-python",
   "name": "python",
   "nbconvert_exporter": "python",
   "pygments_lexer": "ipython3",
   "version": "3.10.6"
  },
  "papermill": {
   "default_parameters": {},
   "duration": 2.218749,
   "end_time": "2023-08-05T23:38:33.177075",
   "environment_variables": {},
   "exception": null,
   "input_path": "transform.ipynb",
   "output_path": "../../../working/output/promote-events-transform.ipynb",
   "parameters": {},
   "start_time": "2023-08-05T23:38:30.958326",
   "version": "2.4.0"
  }
 },
 "nbformat": 4,
 "nbformat_minor": 5
}