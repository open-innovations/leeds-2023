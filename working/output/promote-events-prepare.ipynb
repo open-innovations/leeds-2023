{
 "cells": [
  {
   "cell_type": "code",
   "execution_count": 1,
   "id": "922e8f22",
   "metadata": {
    "execution": {
     "iopub.execute_input": "2023-12-04T23:38:12.511228Z",
     "iopub.status.busy": "2023-12-04T23:38:12.510981Z",
     "iopub.status.idle": "2023-12-04T23:38:12.750093Z",
     "shell.execute_reply": "2023-12-04T23:38:12.749391Z"
    },
    "papermill": {
     "duration": 0.244062,
     "end_time": "2023-12-04T23:38:12.751923",
     "exception": false,
     "start_time": "2023-12-04T23:38:12.507861",
     "status": "completed"
    },
    "tags": []
   },
   "outputs": [],
   "source": [
    "import os\n",
    "import pandas as pd"
   ]
  },
  {
   "cell_type": "code",
   "execution_count": 2,
   "id": "96a97b47",
   "metadata": {
    "execution": {
     "iopub.execute_input": "2023-12-04T23:38:12.756522Z",
     "iopub.status.busy": "2023-12-04T23:38:12.755930Z",
     "iopub.status.idle": "2023-12-04T23:38:12.759315Z",
     "shell.execute_reply": "2023-12-04T23:38:12.758754Z"
    },
    "papermill": {
     "duration": 0.006911,
     "end_time": "2023-12-04T23:38:12.760630",
     "exception": false,
     "start_time": "2023-12-04T23:38:12.753719",
     "status": "completed"
    },
    "tags": []
   },
   "outputs": [],
   "source": [
    "DATA_DIR='../../../docs/metrics/events/promote/_data/'\n",
    "os.makedirs(DATA_DIR, exist_ok=True)"
   ]
  },
  {
   "cell_type": "code",
   "execution_count": 3,
   "id": "1c91e529",
   "metadata": {
    "execution": {
     "iopub.execute_input": "2023-12-04T23:38:12.764592Z",
     "iopub.status.busy": "2023-12-04T23:38:12.764232Z",
     "iopub.status.idle": "2023-12-04T23:38:12.771637Z",
     "shell.execute_reply": "2023-12-04T23:38:12.771096Z"
    },
    "papermill": {
     "duration": 0.010815,
     "end_time": "2023-12-04T23:38:12.772926",
     "exception": false,
     "start_time": "2023-12-04T23:38:12.762111",
     "status": "completed"
    },
    "tags": []
   },
   "outputs": [],
   "source": [
    "data = pd.read_csv('../../../data/metrics/events/promote-events/events.csv', parse_dates=['time'])"
   ]
  },
  {
   "cell_type": "code",
   "execution_count": 4,
   "id": "17672978",
   "metadata": {
    "execution": {
     "iopub.execute_input": "2023-12-04T23:38:12.776874Z",
     "iopub.status.busy": "2023-12-04T23:38:12.776509Z",
     "iopub.status.idle": "2023-12-04T23:38:12.781095Z",
     "shell.execute_reply": "2023-12-04T23:38:12.780563Z"
    },
    "papermill": {
     "duration": 0.007932,
     "end_time": "2023-12-04T23:38:12.782372",
     "exception": false,
     "start_time": "2023-12-04T23:38:12.774440",
     "status": "completed"
    },
    "tags": []
   },
   "outputs": [],
   "source": [
    "pd.Series({\n",
    "    'total_events': len(data.id.unique()),\n",
    "    'total_event_instances': len(data.time),\n",
    "    'earliest_event': data.time.min(),\n",
    "    'latest_event': data.time.max(),\n",
    "}).to_json(\n",
    "    os.path.join(DATA_DIR, 'headlines.json'),\n",
    "    date_format='iso', indent=2\n",
    ")"
   ]
  },
  {
   "cell_type": "code",
   "execution_count": 5,
   "id": "4dc48e45",
   "metadata": {
    "execution": {
     "iopub.execute_input": "2023-12-04T23:38:12.786376Z",
     "iopub.status.busy": "2023-12-04T23:38:12.786064Z",
     "iopub.status.idle": "2023-12-04T23:38:12.793271Z",
     "shell.execute_reply": "2023-12-04T23:38:12.792711Z"
    },
    "papermill": {
     "duration": 0.010643,
     "end_time": "2023-12-04T23:38:12.794544",
     "exception": false,
     "start_time": "2023-12-04T23:38:12.783901",
     "status": "completed"
    },
    "tags": []
   },
   "outputs": [],
   "source": [
    "events = pd.DataFrame({\n",
    "    'events': data.groupby('id').agg({ 'time': 'min' }).reset_index().groupby('time').id.count(),\n",
    "    'event_instances': data.groupby('time').id.count(),\n",
    "}).fillna(0).astype(int)"
   ]
  },
  {
   "cell_type": "code",
   "execution_count": 6,
   "id": "d7564872",
   "metadata": {
    "execution": {
     "iopub.execute_input": "2023-12-04T23:38:12.798609Z",
     "iopub.status.busy": "2023-12-04T23:38:12.798254Z",
     "iopub.status.idle": "2023-12-04T23:38:12.801492Z",
     "shell.execute_reply": "2023-12-04T23:38:12.800935Z"
    },
    "papermill": {
     "duration": 0.00667,
     "end_time": "2023-12-04T23:38:12.802780",
     "exception": false,
     "start_time": "2023-12-04T23:38:12.796110",
     "status": "completed"
    },
    "tags": []
   },
   "outputs": [],
   "source": [
    "def cumulate(data):\n",
    "    return pd.concat([\n",
    "        data,\n",
    "        data.cumsum().rename(columns=lambda c: f'cumulative_{c}')\n",
    "    ], axis=1)"
   ]
  },
  {
   "cell_type": "code",
   "execution_count": 7,
   "id": "6999df25",
   "metadata": {
    "execution": {
     "iopub.execute_input": "2023-12-04T23:38:12.807006Z",
     "iopub.status.busy": "2023-12-04T23:38:12.806652Z",
     "iopub.status.idle": "2023-12-04T23:38:12.814511Z",
     "shell.execute_reply": "2023-12-04T23:38:12.813986Z"
    },
    "papermill": {
     "duration": 0.011469,
     "end_time": "2023-12-04T23:38:12.815839",
     "exception": false,
     "start_time": "2023-12-04T23:38:12.804370",
     "status": "completed"
    },
    "tags": []
   },
   "outputs": [],
   "source": [
    "events.resample('W-FRI').sum().pipe(cumulate).to_csv(os.path.join(DATA_DIR, 'by_week.csv'))"
   ]
  },
  {
   "cell_type": "code",
   "execution_count": 8,
   "id": "bc0ced0d",
   "metadata": {
    "execution": {
     "iopub.execute_input": "2023-12-04T23:38:12.820098Z",
     "iopub.status.busy": "2023-12-04T23:38:12.819695Z",
     "iopub.status.idle": "2023-12-04T23:38:12.825077Z",
     "shell.execute_reply": "2023-12-04T23:38:12.824577Z"
    },
    "papermill": {
     "duration": 0.008874,
     "end_time": "2023-12-04T23:38:12.826331",
     "exception": false,
     "start_time": "2023-12-04T23:38:12.817457",
     "status": "completed"
    },
    "tags": []
   },
   "outputs": [],
   "source": [
    "events.resample('MS').sum().pipe(cumulate).to_csv(os.path.join(DATA_DIR, 'by_month.csv'))"
   ]
  },
  {
   "cell_type": "code",
   "execution_count": null,
   "id": "c7e6c818",
   "metadata": {
    "papermill": {
     "duration": 0.001569,
     "end_time": "2023-12-04T23:38:12.829548",
     "exception": false,
     "start_time": "2023-12-04T23:38:12.827979",
     "status": "completed"
    },
    "tags": []
   },
   "outputs": [],
   "source": []
  }
 ],
 "metadata": {
  "kernelspec": {
   "display_name": "leeds-2023-YZF5GfJv",
   "language": "python",
   "name": "python3"
  },
  "language_info": {
   "codemirror_mode": {
    "name": "ipython",
    "version": 3
   },
   "file_extension": ".py",
   "mimetype": "text/x-python",
   "name": "python",
   "nbconvert_exporter": "python",
   "pygments_lexer": "ipython3",
   "version": "3.10.13"
  },
  "papermill": {
   "default_parameters": {},
   "duration": 1.778335,
   "end_time": "2023-12-04T23:38:13.046704",
   "environment_variables": {},
   "exception": null,
   "input_path": "prepare.ipynb",
   "output_path": "../../../working/output/promote-events-prepare.ipynb",
   "parameters": {},
   "start_time": "2023-12-04T23:38:11.268369",
   "version": "2.4.0"
  }
 },
 "nbformat": 4,
 "nbformat_minor": 5
}