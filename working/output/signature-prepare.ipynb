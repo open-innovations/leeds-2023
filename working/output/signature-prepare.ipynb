{
 "cells": [
  {
   "cell_type": "code",
   "execution_count": 1,
   "id": "86c9d598",
   "metadata": {
    "execution": {
     "iopub.execute_input": "2023-11-13T23:40:03.010867Z",
     "iopub.status.busy": "2023-11-13T23:40:03.010627Z",
     "iopub.status.idle": "2023-11-13T23:40:10.190338Z",
     "shell.execute_reply": "2023-11-13T23:40:10.189684Z"
    },
    "papermill": {
     "duration": 7.184885,
     "end_time": "2023-11-13T23:40:10.192016",
     "exception": false,
     "start_time": "2023-11-13T23:40:03.007131",
     "status": "completed"
    },
    "tags": []
   },
   "outputs": [],
   "source": [
    "import os\n",
    "import pandas as pd\n",
    "from events import load_event_data, get_first_ward, normalise_ward"
   ]
  },
  {
   "cell_type": "code",
   "execution_count": 2,
   "id": "5f6dc366",
   "metadata": {
    "execution": {
     "iopub.execute_input": "2023-11-13T23:40:10.197477Z",
     "iopub.status.busy": "2023-11-13T23:40:10.196970Z",
     "iopub.status.idle": "2023-11-13T23:40:10.200471Z",
     "shell.execute_reply": "2023-11-13T23:40:10.199910Z"
    },
    "papermill": {
     "duration": 0.007525,
     "end_time": "2023-11-13T23:40:10.201806",
     "exception": false,
     "start_time": "2023-11-13T23:40:10.194281",
     "status": "completed"
    },
    "tags": []
   },
   "outputs": [],
   "source": [
    "latest_date = pd.Timestamp.today().ceil('D')"
   ]
  },
  {
   "cell_type": "code",
   "execution_count": 3,
   "id": "26ce6b63",
   "metadata": {
    "execution": {
     "iopub.execute_input": "2023-11-13T23:40:10.206638Z",
     "iopub.status.busy": "2023-11-13T23:40:10.206269Z",
     "iopub.status.idle": "2023-11-13T23:40:10.220308Z",
     "shell.execute_reply": "2023-11-13T23:40:10.219801Z"
    },
    "papermill": {
     "duration": 0.018008,
     "end_time": "2023-11-13T23:40:10.221661",
     "exception": false,
     "start_time": "2023-11-13T23:40:10.203653",
     "status": "completed"
    },
    "tags": []
   },
   "outputs": [],
   "source": [
    "tickets = pd.read_csv('../../../../data/metrics/events/tickets/orders.csv', parse_dates=['created_at', 'event_date'])\n",
    "tickets = tickets[tickets.event_date <= latest_date]"
   ]
  },
  {
   "cell_type": "code",
   "execution_count": 4,
   "id": "a1b3592e",
   "metadata": {
    "execution": {
     "iopub.execute_input": "2023-11-13T23:40:10.226565Z",
     "iopub.status.busy": "2023-11-13T23:40:10.226119Z",
     "iopub.status.idle": "2023-11-13T23:40:10.264361Z",
     "shell.execute_reply": "2023-11-13T23:40:10.263832Z"
    },
    "papermill": {
     "duration": 0.042179,
     "end_time": "2023-11-13T23:40:10.265755",
     "exception": false,
     "start_time": "2023-11-13T23:40:10.223576",
     "status": "completed"
    },
    "tags": []
   },
   "outputs": [],
   "source": [
    "events = load_event_data()\n",
    "\n",
    "events = pd.concat([\n",
    "  events,\n",
    "  events.pipe(get_first_ward).pipe(normalise_ward).fillna('UNKNOWN'),\n",
    "  pd.Series(\n",
    "      events.actual_audience_size_number_of_participants_in_person + events.actual_audience_size_number_of_participants_online,\n",
    "      name='attendances'\n",
    "  )\n",
    "], axis=1).rename(columns={\n",
    "    'start_date': 'date'\n",
    "}).loc[:, ['ward_code', 'date', 'event_unique_identifier', 'attendances']]"
   ]
  },
  {
   "cell_type": "code",
   "execution_count": 5,
   "id": "5a81b282",
   "metadata": {
    "execution": {
     "iopub.execute_input": "2023-11-13T23:40:10.270641Z",
     "iopub.status.busy": "2023-11-13T23:40:10.270280Z",
     "iopub.status.idle": "2023-11-13T23:40:10.273512Z",
     "shell.execute_reply": "2023-11-13T23:40:10.272960Z"
    },
    "papermill": {
     "duration": 0.006997,
     "end_time": "2023-11-13T23:40:10.274713",
     "exception": false,
     "start_time": "2023-11-13T23:40:10.267716",
     "status": "completed"
    },
    "tags": []
   },
   "outputs": [],
   "source": [
    "OUTPUT_DIR='../../../../docs/metrics/events/signature/_data/'\n",
    "os.makedirs(OUTPUT_DIR, exist_ok=True)"
   ]
  },
  {
   "cell_type": "markdown",
   "id": "86b7af5f",
   "metadata": {
    "papermill": {
     "duration": 0.001966,
     "end_time": "2023-11-13T23:40:10.278558",
     "exception": false,
     "start_time": "2023-11-13T23:40:10.276592",
     "status": "completed"
    },
    "tags": []
   },
   "source": [
    "Events CSVs"
   ]
  },
  {
   "cell_type": "code",
   "execution_count": 6,
   "id": "70a23517",
   "metadata": {
    "execution": {
     "iopub.execute_input": "2023-11-13T23:40:10.283400Z",
     "iopub.status.busy": "2023-11-13T23:40:10.282998Z",
     "iopub.status.idle": "2023-11-13T23:40:10.289130Z",
     "shell.execute_reply": "2023-11-13T23:40:10.288592Z"
    },
    "papermill": {
     "duration": 0.010029,
     "end_time": "2023-11-13T23:40:10.290465",
     "exception": false,
     "start_time": "2023-11-13T23:40:10.280436",
     "status": "completed"
    },
    "tags": []
   },
   "outputs": [],
   "source": [
    "pd.DataFrame({\n",
    "  'events': events.groupby('ward_code').event_unique_identifier.count(),\n",
    "  'attendances': events.groupby('ward_code').attendances.sum().astype(int),\n",
    "}).to_csv(os.path.join(OUTPUT_DIR, 'events_by_ward.csv'))\n"
   ]
  },
  {
   "cell_type": "code",
   "execution_count": 7,
   "id": "c3e729c8",
   "metadata": {
    "execution": {
     "iopub.execute_input": "2023-11-13T23:40:10.295380Z",
     "iopub.status.busy": "2023-11-13T23:40:10.295045Z",
     "iopub.status.idle": "2023-11-13T23:40:10.302996Z",
     "shell.execute_reply": "2023-11-13T23:40:10.302378Z"
    },
    "papermill": {
     "duration": 0.01201,
     "end_time": "2023-11-13T23:40:10.304407",
     "exception": false,
     "start_time": "2023-11-13T23:40:10.292397",
     "status": "completed"
    },
    "tags": []
   },
   "outputs": [],
   "source": [
    "pd.DataFrame({\n",
    "  'events': events.groupby('date').event_unique_identifier.count(),\n",
    "  'attendances': events.groupby('date').attendances.sum().astype(int),\n",
    "}).resample('M').sum().astype(int).to_csv(os.path.join(OUTPUT_DIR, 'events_by_date.csv'))"
   ]
  },
  {
   "cell_type": "markdown",
   "id": "bd037f1e",
   "metadata": {
    "papermill": {
     "duration": 0.002707,
     "end_time": "2023-11-13T23:40:10.309234",
     "exception": false,
     "start_time": "2023-11-13T23:40:10.306527",
     "status": "completed"
    },
    "tags": []
   },
   "source": [
    "Tickets CSV"
   ]
  },
  {
   "cell_type": "code",
   "execution_count": 8,
   "id": "86004bef",
   "metadata": {
    "execution": {
     "iopub.execute_input": "2023-11-13T23:40:10.314138Z",
     "iopub.status.busy": "2023-11-13T23:40:10.313781Z",
     "iopub.status.idle": "2023-11-13T23:40:10.320066Z",
     "shell.execute_reply": "2023-11-13T23:40:10.319564Z"
    },
    "papermill": {
     "duration": 0.010195,
     "end_time": "2023-11-13T23:40:10.321363",
     "exception": false,
     "start_time": "2023-11-13T23:40:10.311168",
     "status": "completed"
    },
    "tags": []
   },
   "outputs": [],
   "source": [
    "pd.DataFrame({\n",
    "  'orders': tickets.groupby('ward_code').number_of_tickets.count(),\n",
    "  'tickets': tickets.groupby('ward_code').number_of_tickets.sum().astype(int),\n",
    "}).to_csv(os.path.join(OUTPUT_DIR, 'tickets_by_ward.csv'))"
   ]
  },
  {
   "cell_type": "code",
   "execution_count": 9,
   "id": "76bb0f54",
   "metadata": {
    "execution": {
     "iopub.execute_input": "2023-11-13T23:40:10.326256Z",
     "iopub.status.busy": "2023-11-13T23:40:10.325899Z",
     "iopub.status.idle": "2023-11-13T23:40:10.332877Z",
     "shell.execute_reply": "2023-11-13T23:40:10.332321Z"
    },
    "papermill": {
     "duration": 0.01092,
     "end_time": "2023-11-13T23:40:10.334254",
     "exception": false,
     "start_time": "2023-11-13T23:40:10.323334",
     "status": "completed"
    },
    "tags": []
   },
   "outputs": [],
   "source": [
    "pd.DataFrame({\n",
    "  'orders': tickets.groupby('event_date').number_of_tickets.count(),\n",
    "  'tickets': tickets.groupby('event_date').number_of_tickets.sum().astype(int),\n",
    "}).resample('M').sum().to_csv(os.path.join(OUTPUT_DIR, 'tickets_by_event_date.csv'))"
   ]
  },
  {
   "cell_type": "code",
   "execution_count": 10,
   "id": "3490273e",
   "metadata": {
    "execution": {
     "iopub.execute_input": "2023-11-13T23:40:10.339517Z",
     "iopub.status.busy": "2023-11-13T23:40:10.339032Z",
     "iopub.status.idle": "2023-11-13T23:40:10.343772Z",
     "shell.execute_reply": "2023-11-13T23:40:10.343142Z"
    },
    "papermill": {
     "duration": 0.009222,
     "end_time": "2023-11-13T23:40:10.345495",
     "exception": false,
     "start_time": "2023-11-13T23:40:10.336273",
     "status": "completed"
    },
    "tags": []
   },
   "outputs": [],
   "source": [
    "pd.Series({\n",
    "    'total_events': events.event_unique_identifier.count(),\n",
    "    'total_attendances': events.attendances.count(),\n",
    "    'first_event': events.date.min(),\n",
    "    'latest_event': events.date.max(),\n",
    "    'total_ticket_orders_for_events_to_date': tickets.number_of_tickets.count(),\n",
    "    'total_tickets_sold_for_events_to_date': tickets.number_of_tickets.sum(),\n",
    "}).to_json(os.path.join(OUTPUT_DIR, 'headlines.json'), indent=2)"
   ]
  },
  {
   "cell_type": "code",
   "execution_count": null,
   "id": "18a2dd58",
   "metadata": {
    "papermill": {
     "duration": 0.002885,
     "end_time": "2023-11-13T23:40:10.351418",
     "exception": false,
     "start_time": "2023-11-13T23:40:10.348533",
     "status": "completed"
    },
    "tags": []
   },
   "outputs": [],
   "source": []
  }
 ],
 "metadata": {
  "kernelspec": {
   "display_name": "leeds-2023-YZF5GfJv",
   "language": "python",
   "name": "python3"
  },
  "language_info": {
   "codemirror_mode": {
    "name": "ipython",
    "version": 3
   },
   "file_extension": ".py",
   "mimetype": "text/x-python",
   "name": "python",
   "nbconvert_exporter": "python",
   "pygments_lexer": "ipython3",
   "version": "3.10.13"
  },
  "papermill": {
   "default_parameters": {},
   "duration": 8.819326,
   "end_time": "2023-11-13T23:40:10.569520",
   "environment_variables": {},
   "exception": null,
   "input_path": "prepare.ipynb",
   "output_path": "../../../../working/output/signature-prepare.ipynb",
   "parameters": {},
   "start_time": "2023-11-13T23:40:01.750194",
   "version": "2.4.0"
  }
 },
 "nbformat": 4,
 "nbformat_minor": 5
}