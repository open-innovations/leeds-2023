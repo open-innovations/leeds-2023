{
 "cells": [
  {
   "cell_type": "code",
   "execution_count": 1,
   "id": "e41e0248",
   "metadata": {
    "execution": {
     "iopub.execute_input": "2023-12-23T01:07:30.639777Z",
     "iopub.status.busy": "2023-12-23T01:07:30.639406Z",
     "iopub.status.idle": "2023-12-23T01:07:30.807635Z",
     "shell.execute_reply": "2023-12-23T01:07:30.807187Z"
    },
    "papermill": {
     "duration": 0.17559,
     "end_time": "2023-12-23T01:07:30.808654",
     "exception": false,
     "start_time": "2023-12-23T01:07:30.633064",
     "status": "completed"
    },
    "tags": []
   },
   "outputs": [],
   "source": [
    "import ast\n",
    "import os\n",
    "import sys\n",
    "from pathlib import Path\n",
    "\n",
    "import pandas as pd"
   ]
  },
  {
   "cell_type": "code",
   "execution_count": 2,
   "id": "aa7d830b",
   "metadata": {
    "execution": {
     "iopub.execute_input": "2023-12-23T01:07:30.812989Z",
     "iopub.status.busy": "2023-12-23T01:07:30.812531Z",
     "iopub.status.idle": "2023-12-23T01:07:30.814877Z",
     "shell.execute_reply": "2023-12-23T01:07:30.814577Z"
    },
    "papermill": {
     "duration": 0.005206,
     "end_time": "2023-12-23T01:07:30.815561",
     "exception": false,
     "start_time": "2023-12-23T01:07:30.810355",
     "status": "completed"
    },
    "tags": []
   },
   "outputs": [],
   "source": [
    "TOP_DIR = Path('../../../').resolve()\n",
    "if str(TOP_DIR) not in sys.path: sys.path.append(str(TOP_DIR))"
   ]
  },
  {
   "cell_type": "code",
   "execution_count": 3,
   "id": "34ef87ea",
   "metadata": {
    "execution": {
     "iopub.execute_input": "2023-12-23T01:07:30.819173Z",
     "iopub.status.busy": "2023-12-23T01:07:30.819029Z",
     "iopub.status.idle": "2023-12-23T01:07:30.821188Z",
     "shell.execute_reply": "2023-12-23T01:07:30.820904Z"
    },
    "papermill": {
     "duration": 0.004767,
     "end_time": "2023-12-23T01:07:30.821834",
     "exception": false,
     "start_time": "2023-12-23T01:07:30.817067",
     "status": "completed"
    },
    "tags": []
   },
   "outputs": [],
   "source": [
    "MAIN_DATA_DIR = TOP_DIR.joinpath('data/metrics/partnerships')\n",
    "PARTNERSHIPS_DATA = MAIN_DATA_DIR.joinpath('partnerships.csv')\n",
    "\n",
    "SITE_DATA_DIR = TOP_DIR.joinpath('docs/metrics/partnerships/_data')\n",
    "SITE_DATA_DIR.mkdir(parents=True, exist_ok=True)"
   ]
  },
  {
   "cell_type": "code",
   "execution_count": 4,
   "id": "5fde49fa",
   "metadata": {
    "execution": {
     "iopub.execute_input": "2023-12-23T01:07:30.825382Z",
     "iopub.status.busy": "2023-12-23T01:07:30.825243Z",
     "iopub.status.idle": "2023-12-23T01:07:30.830909Z",
     "shell.execute_reply": "2023-12-23T01:07:30.830596Z"
    },
    "papermill": {
     "duration": 0.008233,
     "end_time": "2023-12-23T01:07:30.831582",
     "exception": false,
     "start_time": "2023-12-23T01:07:30.823349",
     "status": "completed"
    },
    "tags": []
   },
   "outputs": [],
   "source": [
    "partnerships_data = pd.read_csv(PARTNERSHIPS_DATA, parse_dates=['start_date'])\n",
    "partnerships_data.list_of_countries_involved = partnerships_data.list_of_countries_involved.fillna('[]').apply(ast.literal_eval)"
   ]
  },
  {
   "cell_type": "markdown",
   "id": "09c2b3f3",
   "metadata": {
    "papermill": {
     "duration": 0.001502,
     "end_time": "2023-12-23T01:07:30.834646",
     "exception": false,
     "start_time": "2023-12-23T01:07:30.833144",
     "status": "completed"
    },
    "tags": []
   },
   "source": [
    "Summarise"
   ]
  },
  {
   "cell_type": "markdown",
   "id": "e2091874",
   "metadata": {
    "papermill": {
     "duration": 0.001501,
     "end_time": "2023-12-23T01:07:30.837643",
     "exception": false,
     "start_time": "2023-12-23T01:07:30.836142",
     "status": "completed"
    },
    "tags": []
   },
   "source": [
    "Country code reference created with `jq`\n",
    "\n",
    "```sh\n",
    "jq '[.features[].properties]' docs/_data/geojson/world.geojson > data/reference/country_codes.json\n",
    "```"
   ]
  },
  {
   "cell_type": "code",
   "execution_count": null,
   "id": "678d6b36",
   "metadata": {
    "papermill": {
     "duration": 0.001428,
     "end_time": "2023-12-23T01:07:30.840537",
     "exception": false,
     "start_time": "2023-12-23T01:07:30.839109",
     "status": "completed"
    },
    "tags": []
   },
   "outputs": [],
   "source": []
  },
  {
   "cell_type": "code",
   "execution_count": 5,
   "id": "b53d4c82",
   "metadata": {
    "execution": {
     "iopub.execute_input": "2023-12-23T01:07:30.844480Z",
     "iopub.status.busy": "2023-12-23T01:07:30.844358Z",
     "iopub.status.idle": "2023-12-23T01:07:30.849561Z",
     "shell.execute_reply": "2023-12-23T01:07:30.849234Z"
    },
    "papermill": {
     "duration": 0.008213,
     "end_time": "2023-12-23T01:07:30.850198",
     "exception": false,
     "start_time": "2023-12-23T01:07:30.841985",
     "status": "completed"
    },
    "tags": []
   },
   "outputs": [],
   "source": [
    "country_codes = pd.read_json(\n",
    "    TOP_DIR.joinpath('data/reference/country_codes.json')\n",
    ").loc[:, ['ADM0_A3', 'NAME_LONG']].set_index('NAME_LONG')"
   ]
  },
  {
   "cell_type": "code",
   "execution_count": 6,
   "id": "84be92e1",
   "metadata": {
    "execution": {
     "iopub.execute_input": "2023-12-23T01:07:30.853888Z",
     "iopub.status.busy": "2023-12-23T01:07:30.853679Z",
     "iopub.status.idle": "2023-12-23T01:07:30.856397Z",
     "shell.execute_reply": "2023-12-23T01:07:30.856144Z"
    },
    "papermill": {
     "duration": 0.005275,
     "end_time": "2023-12-23T01:07:30.857048",
     "exception": false,
     "start_time": "2023-12-23T01:07:30.851773",
     "status": "completed"
    },
    "tags": []
   },
   "outputs": [],
   "source": [
    "countries_data = partnerships_data.rename(\n",
    "    columns={'list_of_countries_involved':'countries'}\n",
    ").countries.explode().value_counts().to_frame('number_of_partners').sort_index()"
   ]
  },
  {
   "cell_type": "code",
   "execution_count": 7,
   "id": "f90d4292",
   "metadata": {
    "execution": {
     "iopub.execute_input": "2023-12-23T01:07:30.860691Z",
     "iopub.status.busy": "2023-12-23T01:07:30.860555Z",
     "iopub.status.idle": "2023-12-23T01:07:30.864113Z",
     "shell.execute_reply": "2023-12-23T01:07:30.863806Z"
    },
    "papermill": {
     "duration": 0.006088,
     "end_time": "2023-12-23T01:07:30.864706",
     "exception": false,
     "start_time": "2023-12-23T01:07:30.858618",
     "status": "completed"
    },
    "tags": []
   },
   "outputs": [],
   "source": [
    "combined = pd.merge(\n",
    "  left=countries_data,\n",
    "  right=country_codes,\n",
    "  left_on='countries',\n",
    "  right_index=True,\n",
    "  how='left',\n",
    ").fillna('')\n",
    "combined.to_csv(\n",
    "  SITE_DATA_DIR.joinpath('countries.csv')\n",
    ")"
   ]
  },
  {
   "cell_type": "code",
   "execution_count": 8,
   "id": "5896a338",
   "metadata": {
    "execution": {
     "iopub.execute_input": "2023-12-23T01:07:30.868489Z",
     "iopub.status.busy": "2023-12-23T01:07:30.868312Z",
     "iopub.status.idle": "2023-12-23T01:07:30.872034Z",
     "shell.execute_reply": "2023-12-23T01:07:30.871735Z"
    },
    "papermill": {
     "duration": 0.006333,
     "end_time": "2023-12-23T01:07:30.872626",
     "exception": false,
     "start_time": "2023-12-23T01:07:30.866293",
     "status": "completed"
    },
    "tags": []
   },
   "outputs": [],
   "source": [
    "pd.Series({\n",
    "    'total_partnerships': len(partnerships_data),\n",
    "    'total_international': partnerships_data.international_element_to_project_.count(),\n",
    "    'total_unique_countries': len(countries_data),\n",
    "    'total_events': partnerships_data.total_number_of_events.sum(),\n",
    "    'total_audience': partnerships_data.audience_numbers.sum(),\n",
    "    'total_digital_audience': partnerships_data.digital_audiences.sum(),\n",
    "    'total_participants': partnerships_data.number_of_participants.sum(),\n",
    "    'total_in_person_events': partnerships_data['online_in_person_both'].value_counts()['In person'],\n",
    "    'both_online_in_person_events': partnerships_data['online_in_person_both'].value_counts()['Both'],\n",
    "    'online_only_events': partnerships_data['online_in_person_both'].value_counts()['Online']\n",
    "}).astype(int).to_json(\n",
    "    os.path.join(SITE_DATA_DIR, 'headlines.json'),\n",
    "    date_format='iso', indent=2\n",
    ")"
   ]
  },
  {
   "cell_type": "markdown",
   "id": "5402bd0b",
   "metadata": {
    "papermill": {
     "duration": 0.00158,
     "end_time": "2023-12-23T01:07:30.875818",
     "exception": false,
     "start_time": "2023-12-23T01:07:30.874238",
     "status": "completed"
    },
    "tags": []
   },
   "source": [
    "Summarise by ward"
   ]
  },
  {
   "cell_type": "code",
   "execution_count": 9,
   "id": "6fd9a743",
   "metadata": {
    "execution": {
     "iopub.execute_input": "2023-12-23T01:07:30.879488Z",
     "iopub.status.busy": "2023-12-23T01:07:30.879307Z",
     "iopub.status.idle": "2023-12-23T01:07:30.883046Z",
     "shell.execute_reply": "2023-12-23T01:07:30.882733Z"
    },
    "papermill": {
     "duration": 0.006315,
     "end_time": "2023-12-23T01:07:30.883675",
     "exception": false,
     "start_time": "2023-12-23T01:07:30.877360",
     "status": "completed"
    },
    "tags": []
   },
   "outputs": [],
   "source": [
    "partnerships_data.fillna('UNKNOWN').groupby('partner_venue_ward_code').partner_organisation.count().to_csv(os.path.join(SITE_DATA_DIR, 'partnerships_by_ward.csv'))"
   ]
  },
  {
   "cell_type": "markdown",
   "id": "173028ab",
   "metadata": {
    "papermill": {
     "duration": 0.00156,
     "end_time": "2023-12-23T01:07:30.886850",
     "exception": false,
     "start_time": "2023-12-23T01:07:30.885290",
     "status": "completed"
    },
    "tags": []
   },
   "source": [
    "Summarise by month"
   ]
  },
  {
   "cell_type": "code",
   "execution_count": 10,
   "id": "67403e86",
   "metadata": {
    "execution": {
     "iopub.execute_input": "2023-12-23T01:07:30.890626Z",
     "iopub.status.busy": "2023-12-23T01:07:30.890416Z",
     "iopub.status.idle": "2023-12-23T01:07:30.894539Z",
     "shell.execute_reply": "2023-12-23T01:07:30.894223Z"
    },
    "papermill": {
     "duration": 0.006705,
     "end_time": "2023-12-23T01:07:30.895185",
     "exception": false,
     "start_time": "2023-12-23T01:07:30.888480",
     "status": "completed"
    },
    "tags": []
   },
   "outputs": [],
   "source": [
    "partnerships_data.groupby('start_date').partner_organisation.count().resample('MS').sum().cumsum().to_csv(os.path.join(SITE_DATA_DIR, 'partnerships_by_month.csv'))"
   ]
  },
  {
   "cell_type": "markdown",
   "id": "d328122e",
   "metadata": {
    "papermill": {
     "duration": 0.001715,
     "end_time": "2023-12-23T01:07:30.898549",
     "exception": false,
     "start_time": "2023-12-23T01:07:30.896834",
     "status": "completed"
    },
    "tags": []
   },
   "source": [
    "Event type"
   ]
  },
  {
   "cell_type": "code",
   "execution_count": 11,
   "id": "e6542e46",
   "metadata": {
    "execution": {
     "iopub.execute_input": "2023-12-23T01:07:30.902293Z",
     "iopub.status.busy": "2023-12-23T01:07:30.902158Z",
     "iopub.status.idle": "2023-12-23T01:07:30.905112Z",
     "shell.execute_reply": "2023-12-23T01:07:30.904841Z"
    },
    "papermill": {
     "duration": 0.005617,
     "end_time": "2023-12-23T01:07:30.905781",
     "exception": false,
     "start_time": "2023-12-23T01:07:30.900164",
     "status": "completed"
    },
    "tags": []
   },
   "outputs": [],
   "source": [
    "event_type = pd.DataFrame({\n",
    "    'event_type': partnerships_data.groupby('online_in_person_both').partner_organisation.count()\n",
    "}).reset_index().to_csv(os.path.join(SITE_DATA_DIR, 'event_type.csv'), index=False)"
   ]
  },
  {
   "cell_type": "markdown",
   "id": "524fb950",
   "metadata": {
    "papermill": {
     "duration": 0.001649,
     "end_time": "2023-12-23T01:07:30.909084",
     "exception": false,
     "start_time": "2023-12-23T01:07:30.907435",
     "status": "completed"
    },
    "tags": []
   },
   "source": [
    "Project Artform"
   ]
  },
  {
   "cell_type": "code",
   "execution_count": 12,
   "id": "6e6b5640",
   "metadata": {
    "execution": {
     "iopub.execute_input": "2023-12-23T01:07:30.912882Z",
     "iopub.status.busy": "2023-12-23T01:07:30.912746Z",
     "iopub.status.idle": "2023-12-23T01:07:30.916257Z",
     "shell.execute_reply": "2023-12-23T01:07:30.915887Z"
    },
    "papermill": {
     "duration": 0.006269,
     "end_time": "2023-12-23T01:07:30.917043",
     "exception": false,
     "start_time": "2023-12-23T01:07:30.910774",
     "status": "completed"
    },
    "tags": []
   },
   "outputs": [],
   "source": [
    "artform = pd.DataFrame({\n",
    "    'number_of_partners': partnerships_data.groupby('project_artform').partner_organisation.count()\n",
    "}).T.rename(columns={\n",
    "    'Combined arts': 'combined_arts',\n",
    "    'Dance': 'dance',\n",
    "    'Literature': 'literature',\n",
    "    'Music': 'music',\n",
    "    'Theatre': 'theatre',\n",
    "    'Visual art': 'visual_art'\n",
    "}).reset_index().to_csv(os.path.join(SITE_DATA_DIR, 'artforms.csv'), index=False)"
   ]
  },
  {
   "cell_type": "markdown",
   "id": "d66b03a3",
   "metadata": {
    "papermill": {
     "duration": 0.001765,
     "end_time": "2023-12-23T01:07:30.920563",
     "exception": false,
     "start_time": "2023-12-23T01:07:30.918798",
     "status": "completed"
    },
    "tags": []
   },
   "source": [
    "## Project outputs"
   ]
  },
  {
   "cell_type": "markdown",
   "id": "5d6b141c",
   "metadata": {
    "papermill": {
     "duration": 0.001597,
     "end_time": "2023-12-23T01:07:30.923791",
     "exception": false,
     "start_time": "2023-12-23T01:07:30.922194",
     "status": "completed"
    },
    "tags": []
   },
   "source": [
    "Clean up the Project Outputs column"
   ]
  },
  {
   "cell_type": "code",
   "execution_count": 13,
   "id": "0de23dfb",
   "metadata": {
    "execution": {
     "iopub.execute_input": "2023-12-23T01:07:30.927587Z",
     "iopub.status.busy": "2023-12-23T01:07:30.927448Z",
     "iopub.status.idle": "2023-12-23T01:07:30.931436Z",
     "shell.execute_reply": "2023-12-23T01:07:30.931180Z"
    },
    "papermill": {
     "duration": 0.006668,
     "end_time": "2023-12-23T01:07:30.932061",
     "exception": false,
     "start_time": "2023-12-23T01:07:30.925393",
     "status": "completed"
    },
    "tags": []
   },
   "outputs": [
    {
     "data": {
      "text/plain": [
       "0                                       ['Performance']\n",
       "1                                       ['Performance']\n",
       "2     ['Performance', 'Exhibition', 'Workshop', 'Oth...\n",
       "3                           ['Performance', 'Workshop']\n",
       "4                           ['Performance', 'Workshop']\n",
       "                            ...                        \n",
       "61                                        ['Residency']\n",
       "62                                        ['Residency']\n",
       "63    ['Performance', 'Pop-up', 'Public Artwork (scu...\n",
       "64                                      ['Performance']\n",
       "65                ['Performance', 'Workshop', 'Other ']\n",
       "Name: project_output, Length: 66, dtype: object"
      ]
     },
     "execution_count": 13,
     "metadata": {},
     "output_type": "execute_result"
    }
   ],
   "source": [
    "partnerships_data.project_output"
   ]
  },
  {
   "cell_type": "code",
   "execution_count": 14,
   "id": "4f2d2b2f",
   "metadata": {
    "execution": {
     "iopub.execute_input": "2023-12-23T01:07:30.936069Z",
     "iopub.status.busy": "2023-12-23T01:07:30.935965Z",
     "iopub.status.idle": "2023-12-23T01:07:30.938426Z",
     "shell.execute_reply": "2023-12-23T01:07:30.938159Z"
    },
    "papermill": {
     "duration": 0.00521,
     "end_time": "2023-12-23T01:07:30.939071",
     "exception": false,
     "start_time": "2023-12-23T01:07:30.933861",
     "status": "completed"
    },
    "tags": []
   },
   "outputs": [],
   "source": [
    "outputs = pd.DataFrame({\n",
    "    'number_of_partners': partnerships_data.groupby('project_output').partner_organisation.count()\n",
    "}).reset_index()"
   ]
  }
 ],
 "metadata": {
  "kernelspec": {
   "display_name": "leeds-2023-OyOrD6k7",
   "language": "python",
   "name": "python3"
  },
  "language_info": {
   "codemirror_mode": {
    "name": "ipython",
    "version": 3
   },
   "file_extension": ".py",
   "mimetype": "text/x-python",
   "name": "python",
   "nbconvert_exporter": "python",
   "pygments_lexer": "ipython3",
   "version": "3.10.12"
  },
  "papermill": {
   "default_parameters": {},
   "duration": 1.235645,
   "end_time": "2023-12-23T01:07:31.156923",
   "environment_variables": {},
   "exception": null,
   "input_path": "prepare.ipynb",
   "output_path": "../../../working/output/partnerships-prepare.ipynb",
   "parameters": {},
   "start_time": "2023-12-23T01:07:29.921278",
   "version": "2.4.0"
  }
 },
 "nbformat": 4,
 "nbformat_minor": 5
}