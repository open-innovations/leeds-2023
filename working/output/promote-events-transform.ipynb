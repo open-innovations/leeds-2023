{
 "cells": [
  {
   "cell_type": "code",
   "execution_count": 1,
   "id": "174e9afb",
   "metadata": {
    "execution": {
     "iopub.execute_input": "2023-08-06T23:38:05.087120Z",
     "iopub.status.busy": "2023-08-06T23:38:05.086294Z",
     "iopub.status.idle": "2023-08-06T23:38:05.382539Z",
     "shell.execute_reply": "2023-08-06T23:38:05.381739Z"
    },
    "papermill": {
     "duration": 0.301891,
     "end_time": "2023-08-06T23:38:05.384947",
     "exception": false,
     "start_time": "2023-08-06T23:38:05.083056",
     "status": "completed"
    },
    "tags": []
   },
   "outputs": [],
   "source": [
    "import os\n",
    "import pandas as pd"
   ]
  },
  {
   "cell_type": "code",
   "execution_count": 2,
   "id": "bb6b2301",
   "metadata": {
    "execution": {
     "iopub.execute_input": "2023-08-06T23:38:05.390011Z",
     "iopub.status.busy": "2023-08-06T23:38:05.389274Z",
     "iopub.status.idle": "2023-08-06T23:38:05.393183Z",
     "shell.execute_reply": "2023-08-06T23:38:05.392568Z"
    },
    "papermill": {
     "duration": 0.008189,
     "end_time": "2023-08-06T23:38:05.394937",
     "exception": false,
     "start_time": "2023-08-06T23:38:05.386748",
     "status": "completed"
    },
    "tags": []
   },
   "outputs": [],
   "source": [
    "EVENTS_RAW_DATA = '../../../working/metrics/promote-events/events.csv'\n",
    "DATA_DIR = '../../../data/metrics/events/promote-events/'\n",
    "EVENTS_DATA = os.path.join(DATA_DIR, 'events.csv')"
   ]
  },
  {
   "cell_type": "code",
   "execution_count": 3,
   "id": "b2885789",
   "metadata": {
    "execution": {
     "iopub.execute_input": "2023-08-06T23:38:05.398911Z",
     "iopub.status.busy": "2023-08-06T23:38:05.398521Z",
     "iopub.status.idle": "2023-08-06T23:38:05.402202Z",
     "shell.execute_reply": "2023-08-06T23:38:05.401471Z"
    },
    "papermill": {
     "duration": 0.007921,
     "end_time": "2023-08-06T23:38:05.404198",
     "exception": false,
     "start_time": "2023-08-06T23:38:05.396277",
     "status": "completed"
    },
    "tags": []
   },
   "outputs": [],
   "source": [
    "columns = {\n",
    "    'id': 'id',\n",
    "    'name': 'name',\n",
    "    'locationName': 'location',\n",
    "    'cardPrice': 'card_price',\n",
    "    'timeslots': 'time',\n",
    "    'displayOnWebsite': 'display',\n",
    "    'Stage': 'stage',\n",
    "}"
   ]
  },
  {
   "cell_type": "code",
   "execution_count": 4,
   "id": "7d8efc33",
   "metadata": {
    "execution": {
     "iopub.execute_input": "2023-08-06T23:38:05.408169Z",
     "iopub.status.busy": "2023-08-06T23:38:05.407797Z",
     "iopub.status.idle": "2023-08-06T23:38:05.422692Z",
     "shell.execute_reply": "2023-08-06T23:38:05.422071Z"
    },
    "papermill": {
     "duration": 0.018746,
     "end_time": "2023-08-06T23:38:05.424335",
     "exception": false,
     "start_time": "2023-08-06T23:38:05.405589",
     "status": "completed"
    },
    "tags": []
   },
   "outputs": [],
   "source": [
    "data = pd.read_csv(EVENTS_RAW_DATA)[columns.keys()].rename(columns=columns)\n",
    "data.time = pd.to_datetime(data.time, errors='coerce')"
   ]
  },
  {
   "cell_type": "code",
   "execution_count": 5,
   "id": "739f8e6f",
   "metadata": {
    "execution": {
     "iopub.execute_input": "2023-08-06T23:38:05.428560Z",
     "iopub.status.busy": "2023-08-06T23:38:05.428107Z",
     "iopub.status.idle": "2023-08-06T23:38:05.437789Z",
     "shell.execute_reply": "2023-08-06T23:38:05.437156Z"
    },
    "papermill": {
     "duration": 0.013669,
     "end_time": "2023-08-06T23:38:05.439490",
     "exception": false,
     "start_time": "2023-08-06T23:38:05.425821",
     "status": "completed"
    },
    "tags": []
   },
   "outputs": [],
   "source": [
    "data.to_csv(os.path.join(DATA_DIR, 'events.csv'), index=False)"
   ]
  }
 ],
 "metadata": {
  "kernelspec": {
   "display_name": "leeds-2023-YZF5GfJv",
   "language": "python",
   "name": "python3"
  },
  "language_info": {
   "codemirror_mode": {
    "name": "ipython",
    "version": 3
   },
   "file_extension": ".py",
   "mimetype": "text/x-python",
   "name": "python",
   "nbconvert_exporter": "python",
   "pygments_lexer": "ipython3",
   "version": "3.10.6"
  },
  "papermill": {
   "default_parameters": {},
   "duration": 1.932666,
   "end_time": "2023-08-06T23:38:05.658704",
   "environment_variables": {},
   "exception": null,
   "input_path": "transform.ipynb",
   "output_path": "../../../working/output/promote-events-transform.ipynb",
   "parameters": {},
   "start_time": "2023-08-06T23:38:03.726038",
   "version": "2.4.0"
  }
 },
 "nbformat": 4,
 "nbformat_minor": 5
}