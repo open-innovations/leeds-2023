{
 "cells": [
  {
   "cell_type": "code",
   "execution_count": 1,
   "id": "7557488f",
   "metadata": {
    "execution": {
     "iopub.execute_input": "2023-09-11T10:27:00.275086Z",
     "iopub.status.busy": "2023-09-11T10:27:00.274698Z",
     "iopub.status.idle": "2023-09-11T10:27:00.655737Z",
     "shell.execute_reply": "2023-09-11T10:27:00.654668Z"
    },
    "papermill": {
     "duration": 0.389087,
     "end_time": "2023-09-11T10:27:00.658841",
     "exception": false,
     "start_time": "2023-09-11T10:27:00.269754",
     "status": "completed"
    },
    "tags": []
   },
   "outputs": [],
   "source": [
    "import os\n",
    "import pandas as pd"
   ]
  },
  {
   "cell_type": "code",
   "execution_count": 2,
   "id": "8bff64dd",
   "metadata": {
    "execution": {
     "iopub.execute_input": "2023-09-11T10:27:00.666537Z",
     "iopub.status.busy": "2023-09-11T10:27:00.665819Z",
     "iopub.status.idle": "2023-09-11T10:27:00.671083Z",
     "shell.execute_reply": "2023-09-11T10:27:00.670038Z"
    },
    "papermill": {
     "duration": 0.012144,
     "end_time": "2023-09-11T10:27:00.673948",
     "exception": false,
     "start_time": "2023-09-11T10:27:00.661804",
     "status": "completed"
    },
    "tags": []
   },
   "outputs": [],
   "source": [
    "DATA_DIR='../../../docs/metrics/events/promote/_data/'\n",
    "os.makedirs(DATA_DIR, exist_ok=True)"
   ]
  },
  {
   "cell_type": "code",
   "execution_count": 3,
   "id": "0b13ab03",
   "metadata": {
    "execution": {
     "iopub.execute_input": "2023-09-11T10:27:00.680992Z",
     "iopub.status.busy": "2023-09-11T10:27:00.680477Z",
     "iopub.status.idle": "2023-09-11T10:27:00.694653Z",
     "shell.execute_reply": "2023-09-11T10:27:00.693625Z"
    },
    "papermill": {
     "duration": 0.020918,
     "end_time": "2023-09-11T10:27:00.697366",
     "exception": false,
     "start_time": "2023-09-11T10:27:00.676448",
     "status": "completed"
    },
    "tags": []
   },
   "outputs": [],
   "source": [
    "data = pd.read_csv('../../../data/metrics/events/promote-events/events.csv', parse_dates=['time'])"
   ]
  },
  {
   "cell_type": "code",
   "execution_count": 4,
   "id": "e29138fc",
   "metadata": {
    "execution": {
     "iopub.execute_input": "2023-09-11T10:27:00.705091Z",
     "iopub.status.busy": "2023-09-11T10:27:00.704234Z",
     "iopub.status.idle": "2023-09-11T10:27:00.713055Z",
     "shell.execute_reply": "2023-09-11T10:27:00.711876Z"
    },
    "papermill": {
     "duration": 0.015449,
     "end_time": "2023-09-11T10:27:00.715551",
     "exception": false,
     "start_time": "2023-09-11T10:27:00.700102",
     "status": "completed"
    },
    "tags": []
   },
   "outputs": [],
   "source": [
    "pd.Series({\n",
    "    'total_events': len(data.id.unique()),\n",
    "    'total_event_instances': len(data.time),\n",
    "    'earliest_event': data.time.min(),\n",
    "    'latest_event': data.time.max(),\n",
    "}).to_json(\n",
    "    os.path.join(DATA_DIR, 'headlines.json'),\n",
    "    date_format='iso', indent=2\n",
    ")"
   ]
  },
  {
   "cell_type": "code",
   "execution_count": 5,
   "id": "030709e1",
   "metadata": {
    "execution": {
     "iopub.execute_input": "2023-09-11T10:27:00.723119Z",
     "iopub.status.busy": "2023-09-11T10:27:00.722296Z",
     "iopub.status.idle": "2023-09-11T10:27:00.735935Z",
     "shell.execute_reply": "2023-09-11T10:27:00.734879Z"
    },
    "papermill": {
     "duration": 0.020242,
     "end_time": "2023-09-11T10:27:00.738404",
     "exception": false,
     "start_time": "2023-09-11T10:27:00.718162",
     "status": "completed"
    },
    "tags": []
   },
   "outputs": [],
   "source": [
    "events = pd.DataFrame({\n",
    "    'events': data.groupby('id').agg({ 'time': 'min' }).reset_index().groupby('time').id.count(),\n",
    "    'event_instances': data.groupby('time').id.count(),\n",
    "}).fillna(0).astype(int)"
   ]
  },
  {
   "cell_type": "code",
   "execution_count": 6,
   "id": "56371465",
   "metadata": {
    "execution": {
     "iopub.execute_input": "2023-09-11T10:27:00.746591Z",
     "iopub.status.busy": "2023-09-11T10:27:00.745743Z",
     "iopub.status.idle": "2023-09-11T10:27:00.751589Z",
     "shell.execute_reply": "2023-09-11T10:27:00.750631Z"
    },
    "papermill": {
     "duration": 0.012665,
     "end_time": "2023-09-11T10:27:00.753916",
     "exception": false,
     "start_time": "2023-09-11T10:27:00.741251",
     "status": "completed"
    },
    "tags": []
   },
   "outputs": [],
   "source": [
    "def cumulate(data):\n",
    "    return pd.concat([\n",
    "        data,\n",
    "        data.cumsum().rename(columns=lambda c: f'cumulative_{c}')\n",
    "    ], axis=1)"
   ]
  },
  {
   "cell_type": "code",
   "execution_count": 7,
   "id": "e760705f",
   "metadata": {
    "execution": {
     "iopub.execute_input": "2023-09-11T10:27:00.761675Z",
     "iopub.status.busy": "2023-09-11T10:27:00.760998Z",
     "iopub.status.idle": "2023-09-11T10:27:00.776826Z",
     "shell.execute_reply": "2023-09-11T10:27:00.775633Z"
    },
    "papermill": {
     "duration": 0.022856,
     "end_time": "2023-09-11T10:27:00.779479",
     "exception": false,
     "start_time": "2023-09-11T10:27:00.756623",
     "status": "completed"
    },
    "tags": []
   },
   "outputs": [],
   "source": [
    "events.resample('W-FRI').sum().pipe(cumulate).to_csv(os.path.join(DATA_DIR, 'by_week.csv'))"
   ]
  },
  {
   "cell_type": "code",
   "execution_count": 8,
   "id": "698ff3da",
   "metadata": {
    "execution": {
     "iopub.execute_input": "2023-09-11T10:27:00.787910Z",
     "iopub.status.busy": "2023-09-11T10:27:00.787505Z",
     "iopub.status.idle": "2023-09-11T10:27:00.797450Z",
     "shell.execute_reply": "2023-09-11T10:27:00.796406Z"
    },
    "papermill": {
     "duration": 0.016831,
     "end_time": "2023-09-11T10:27:00.799595",
     "exception": false,
     "start_time": "2023-09-11T10:27:00.782764",
     "status": "completed"
    },
    "tags": []
   },
   "outputs": [],
   "source": [
    "events.resample('MS').sum().pipe(cumulate).to_csv(os.path.join(DATA_DIR, 'by_month.csv'))"
   ]
  },
  {
   "cell_type": "code",
   "execution_count": null,
   "id": "9cec60f9",
   "metadata": {
    "papermill": {
     "duration": 0.002696,
     "end_time": "2023-09-11T10:27:00.805478",
     "exception": false,
     "start_time": "2023-09-11T10:27:00.802782",
     "status": "completed"
    },
    "tags": []
   },
   "outputs": [],
   "source": []
  }
 ],
 "metadata": {
  "kernelspec": {
   "display_name": "leeds-2023-YZF5GfJv",
   "language": "python",
   "name": "python3"
  },
  "language_info": {
   "codemirror_mode": {
    "name": "ipython",
    "version": 3
   },
   "file_extension": ".py",
   "mimetype": "text/x-python",
   "name": "python",
   "nbconvert_exporter": "python",
   "pygments_lexer": "ipython3",
   "version": "3.10.13"
  },
  "papermill": {
   "default_parameters": {},
   "duration": 3.077622,
   "end_time": "2023-09-11T10:27:01.229107",
   "environment_variables": {},
   "exception": null,
   "input_path": "prepare.ipynb",
   "output_path": "../../../working/output/promote-events-prepare.ipynb",
   "parameters": {},
   "start_time": "2023-09-11T10:26:58.151485",
   "version": "2.4.0"
  }
 },
 "nbformat": 4,
 "nbformat_minor": 5
}