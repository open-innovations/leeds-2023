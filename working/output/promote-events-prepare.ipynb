{
 "cells": [
  {
   "cell_type": "code",
   "execution_count": 1,
   "id": "1ebc746a",
   "metadata": {
    "execution": {
     "iopub.execute_input": "2023-08-29T00:00:19.671936Z",
     "iopub.status.busy": "2023-08-29T00:00:19.671503Z",
     "iopub.status.idle": "2023-08-29T00:00:19.901708Z",
     "shell.execute_reply": "2023-08-29T00:00:19.901073Z"
    },
    "papermill": {
     "duration": 0.235508,
     "end_time": "2023-08-29T00:00:19.903785",
     "exception": false,
     "start_time": "2023-08-29T00:00:19.668277",
     "status": "completed"
    },
    "tags": []
   },
   "outputs": [],
   "source": [
    "import os\n",
    "import pandas as pd"
   ]
  },
  {
   "cell_type": "code",
   "execution_count": 2,
   "id": "0ac74cdd",
   "metadata": {
    "execution": {
     "iopub.execute_input": "2023-08-29T00:00:19.908595Z",
     "iopub.status.busy": "2023-08-29T00:00:19.908050Z",
     "iopub.status.idle": "2023-08-29T00:00:19.911382Z",
     "shell.execute_reply": "2023-08-29T00:00:19.910766Z"
    },
    "papermill": {
     "duration": 0.007173,
     "end_time": "2023-08-29T00:00:19.912831",
     "exception": false,
     "start_time": "2023-08-29T00:00:19.905658",
     "status": "completed"
    },
    "tags": []
   },
   "outputs": [],
   "source": [
    "DATA_DIR='../../../docs/metrics/events/promote/_data/'\n",
    "os.makedirs(DATA_DIR, exist_ok=True)"
   ]
  },
  {
   "cell_type": "code",
   "execution_count": 3,
   "id": "8ebad2ee",
   "metadata": {
    "execution": {
     "iopub.execute_input": "2023-08-29T00:00:19.917226Z",
     "iopub.status.busy": "2023-08-29T00:00:19.916711Z",
     "iopub.status.idle": "2023-08-29T00:00:19.924904Z",
     "shell.execute_reply": "2023-08-29T00:00:19.924359Z"
    },
    "papermill": {
     "duration": 0.011802,
     "end_time": "2023-08-29T00:00:19.926273",
     "exception": false,
     "start_time": "2023-08-29T00:00:19.914471",
     "status": "completed"
    },
    "tags": []
   },
   "outputs": [],
   "source": [
    "data = pd.read_csv('../../../data/metrics/events/promote-events/events.csv', parse_dates=['time'])"
   ]
  },
  {
   "cell_type": "code",
   "execution_count": 4,
   "id": "abb256da",
   "metadata": {
    "execution": {
     "iopub.execute_input": "2023-08-29T00:00:19.930537Z",
     "iopub.status.busy": "2023-08-29T00:00:19.930190Z",
     "iopub.status.idle": "2023-08-29T00:00:19.935314Z",
     "shell.execute_reply": "2023-08-29T00:00:19.934703Z"
    },
    "papermill": {
     "duration": 0.008811,
     "end_time": "2023-08-29T00:00:19.936675",
     "exception": false,
     "start_time": "2023-08-29T00:00:19.927864",
     "status": "completed"
    },
    "tags": []
   },
   "outputs": [],
   "source": [
    "pd.Series({\n",
    "    'total_events': len(data.id.unique()),\n",
    "    'total_event_instances': len(data.time),\n",
    "    'earliest_event': data.time.min(),\n",
    "    'latest_event': data.time.max(),\n",
    "}).to_json(\n",
    "    os.path.join(DATA_DIR, 'headlines.json'),\n",
    "    date_format='iso', indent=2\n",
    ")"
   ]
  },
  {
   "cell_type": "code",
   "execution_count": 5,
   "id": "5fc6f146",
   "metadata": {
    "execution": {
     "iopub.execute_input": "2023-08-29T00:00:19.941123Z",
     "iopub.status.busy": "2023-08-29T00:00:19.940641Z",
     "iopub.status.idle": "2023-08-29T00:00:19.948357Z",
     "shell.execute_reply": "2023-08-29T00:00:19.947805Z"
    },
    "papermill": {
     "duration": 0.011428,
     "end_time": "2023-08-29T00:00:19.949727",
     "exception": false,
     "start_time": "2023-08-29T00:00:19.938299",
     "status": "completed"
    },
    "tags": []
   },
   "outputs": [],
   "source": [
    "events = pd.DataFrame({\n",
    "    'events': data.groupby('id').agg({ 'time': 'min' }).reset_index().groupby('time').id.count(),\n",
    "    'event_instances': data.groupby('time').id.count(),\n",
    "}).fillna(0).astype(int)"
   ]
  },
  {
   "cell_type": "code",
   "execution_count": 6,
   "id": "b6bf2a30",
   "metadata": {
    "execution": {
     "iopub.execute_input": "2023-08-29T00:00:19.954384Z",
     "iopub.status.busy": "2023-08-29T00:00:19.953871Z",
     "iopub.status.idle": "2023-08-29T00:00:19.957377Z",
     "shell.execute_reply": "2023-08-29T00:00:19.956774Z"
    },
    "papermill": {
     "duration": 0.007256,
     "end_time": "2023-08-29T00:00:19.958727",
     "exception": false,
     "start_time": "2023-08-29T00:00:19.951471",
     "status": "completed"
    },
    "tags": []
   },
   "outputs": [],
   "source": [
    "def cumulate(data):\n",
    "    return pd.concat([\n",
    "        data,\n",
    "        data.cumsum().rename(columns=lambda c: f'cumulative_{c}')\n",
    "    ], axis=1)"
   ]
  },
  {
   "cell_type": "code",
   "execution_count": 7,
   "id": "f3e6e296",
   "metadata": {
    "execution": {
     "iopub.execute_input": "2023-08-29T00:00:19.963062Z",
     "iopub.status.busy": "2023-08-29T00:00:19.962741Z",
     "iopub.status.idle": "2023-08-29T00:00:19.972477Z",
     "shell.execute_reply": "2023-08-29T00:00:19.971922Z"
    },
    "papermill": {
     "duration": 0.013495,
     "end_time": "2023-08-29T00:00:19.973885",
     "exception": false,
     "start_time": "2023-08-29T00:00:19.960390",
     "status": "completed"
    },
    "tags": []
   },
   "outputs": [],
   "source": [
    "events.resample('W-FRI').sum().pipe(cumulate).to_csv(os.path.join(DATA_DIR, 'by_week.csv'))"
   ]
  },
  {
   "cell_type": "code",
   "execution_count": 8,
   "id": "d61da547",
   "metadata": {
    "execution": {
     "iopub.execute_input": "2023-08-29T00:00:19.978602Z",
     "iopub.status.busy": "2023-08-29T00:00:19.978089Z",
     "iopub.status.idle": "2023-08-29T00:00:19.983898Z",
     "shell.execute_reply": "2023-08-29T00:00:19.983345Z"
    },
    "papermill": {
     "duration": 0.009569,
     "end_time": "2023-08-29T00:00:19.985259",
     "exception": false,
     "start_time": "2023-08-29T00:00:19.975690",
     "status": "completed"
    },
    "tags": []
   },
   "outputs": [],
   "source": [
    "events.resample('MS').sum().pipe(cumulate).to_csv(os.path.join(DATA_DIR, 'by_month.csv'))"
   ]
  },
  {
   "cell_type": "code",
   "execution_count": null,
   "id": "c207537e",
   "metadata": {
    "papermill": {
     "duration": 0.001671,
     "end_time": "2023-08-29T00:00:19.988664",
     "exception": false,
     "start_time": "2023-08-29T00:00:19.986993",
     "status": "completed"
    },
    "tags": []
   },
   "outputs": [],
   "source": []
  }
 ],
 "metadata": {
  "kernelspec": {
   "display_name": "leeds-2023-YZF5GfJv",
   "language": "python",
   "name": "python3"
  },
  "language_info": {
   "codemirror_mode": {
    "name": "ipython",
    "version": 3
   },
   "file_extension": ".py",
   "mimetype": "text/x-python",
   "name": "python",
   "nbconvert_exporter": "python",
   "pygments_lexer": "ipython3",
   "version": "3.10.12"
  },
  "papermill": {
   "default_parameters": {},
   "duration": 1.915589,
   "end_time": "2023-08-29T00:00:20.206124",
   "environment_variables": {},
   "exception": null,
   "input_path": "prepare.ipynb",
   "output_path": "../../../working/output/promote-events-prepare.ipynb",
   "parameters": {},
   "start_time": "2023-08-29T00:00:18.290535",
   "version": "2.4.0"
  }
 },
 "nbformat": 4,
 "nbformat_minor": 5
}