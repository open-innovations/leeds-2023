{
 "cells": [
  {
   "cell_type": "code",
   "execution_count": 1,
   "id": "20dddd0a",
   "metadata": {
    "execution": {
     "iopub.execute_input": "2023-07-24T23:39:01.941697Z",
     "iopub.status.busy": "2023-07-24T23:39:01.940950Z",
     "iopub.status.idle": "2023-07-24T23:39:02.195288Z",
     "shell.execute_reply": "2023-07-24T23:39:02.194533Z"
    },
    "papermill": {
     "duration": 0.259792,
     "end_time": "2023-07-24T23:39:02.197691",
     "exception": false,
     "start_time": "2023-07-24T23:39:01.937899",
     "status": "completed"
    },
    "tags": []
   },
   "outputs": [],
   "source": [
    "import os\n",
    "import pandas as pd"
   ]
  },
  {
   "cell_type": "code",
   "execution_count": 2,
   "id": "0d11f2a0",
   "metadata": {
    "execution": {
     "iopub.execute_input": "2023-07-24T23:39:02.202311Z",
     "iopub.status.busy": "2023-07-24T23:39:02.201594Z",
     "iopub.status.idle": "2023-07-24T23:39:02.205181Z",
     "shell.execute_reply": "2023-07-24T23:39:02.204553Z"
    },
    "papermill": {
     "duration": 0.00734,
     "end_time": "2023-07-24T23:39:02.206641",
     "exception": false,
     "start_time": "2023-07-24T23:39:02.199301",
     "status": "completed"
    },
    "tags": []
   },
   "outputs": [],
   "source": [
    "EVENTS_RAW_DATA = '../../../working/metrics/promote-events/events.csv'\n",
    "DATA_DIR = '../../../data/metrics/events/promote-events/'\n",
    "EVENTS_DATA = os.path.join(DATA_DIR, 'events.csv')"
   ]
  },
  {
   "cell_type": "code",
   "execution_count": 3,
   "id": "4797c238",
   "metadata": {
    "execution": {
     "iopub.execute_input": "2023-07-24T23:39:02.210328Z",
     "iopub.status.busy": "2023-07-24T23:39:02.209940Z",
     "iopub.status.idle": "2023-07-24T23:39:02.213459Z",
     "shell.execute_reply": "2023-07-24T23:39:02.212812Z"
    },
    "papermill": {
     "duration": 0.007214,
     "end_time": "2023-07-24T23:39:02.215095",
     "exception": false,
     "start_time": "2023-07-24T23:39:02.207881",
     "status": "completed"
    },
    "tags": []
   },
   "outputs": [],
   "source": [
    "columns = {\n",
    "    'id': 'id',\n",
    "    'name': 'name',\n",
    "    'locationName': 'location',\n",
    "    'cardPrice': 'card_price',\n",
    "    'timeslots': 'time',\n",
    "    'displayOnWebsite': 'display',\n",
    "    'Stage': 'stage',\n",
    "}"
   ]
  },
  {
   "cell_type": "code",
   "execution_count": 4,
   "id": "b50ad833",
   "metadata": {
    "execution": {
     "iopub.execute_input": "2023-07-24T23:39:02.218977Z",
     "iopub.status.busy": "2023-07-24T23:39:02.218433Z",
     "iopub.status.idle": "2023-07-24T23:39:02.231270Z",
     "shell.execute_reply": "2023-07-24T23:39:02.230634Z"
    },
    "papermill": {
     "duration": 0.016661,
     "end_time": "2023-07-24T23:39:02.233013",
     "exception": false,
     "start_time": "2023-07-24T23:39:02.216352",
     "status": "completed"
    },
    "tags": []
   },
   "outputs": [],
   "source": [
    "data = pd.read_csv(EVENTS_RAW_DATA)[columns.keys()].rename(columns=columns)\n",
    "data.time = pd.to_datetime(data.time, errors='coerce')"
   ]
  },
  {
   "cell_type": "code",
   "execution_count": 5,
   "id": "36f87284",
   "metadata": {
    "execution": {
     "iopub.execute_input": "2023-07-24T23:39:02.237066Z",
     "iopub.status.busy": "2023-07-24T23:39:02.236794Z",
     "iopub.status.idle": "2023-07-24T23:39:02.245887Z",
     "shell.execute_reply": "2023-07-24T23:39:02.245303Z"
    },
    "papermill": {
     "duration": 0.012885,
     "end_time": "2023-07-24T23:39:02.247387",
     "exception": false,
     "start_time": "2023-07-24T23:39:02.234502",
     "status": "completed"
    },
    "tags": []
   },
   "outputs": [],
   "source": [
    "data.to_csv(os.path.join(DATA_DIR, 'events.csv'), index=False)"
   ]
  }
 ],
 "metadata": {
  "kernelspec": {
   "display_name": "leeds-2023-YZF5GfJv",
   "language": "python",
   "name": "python3"
  },
  "language_info": {
   "codemirror_mode": {
    "name": "ipython",
    "version": 3
   },
   "file_extension": ".py",
   "mimetype": "text/x-python",
   "name": "python",
   "nbconvert_exporter": "python",
   "pygments_lexer": "ipython3",
   "version": "3.10.6"
  },
  "papermill": {
   "default_parameters": {},
   "duration": 1.883799,
   "end_time": "2023-07-24T23:39:02.465684",
   "environment_variables": {},
   "exception": null,
   "input_path": "transform.ipynb",
   "output_path": "../../../working/output/promote-events-transform.ipynb",
   "parameters": {},
   "start_time": "2023-07-24T23:39:00.581885",
   "version": "2.4.0"
  }
 },
 "nbformat": 4,
 "nbformat_minor": 5
}