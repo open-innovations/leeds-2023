{
 "cells": [
  {
   "cell_type": "code",
   "execution_count": 1,
   "id": "eaca6867",
   "metadata": {
    "execution": {
     "iopub.execute_input": "2023-12-16T23:38:49.191525Z",
     "iopub.status.busy": "2023-12-16T23:38:49.191200Z",
     "iopub.status.idle": "2023-12-16T23:38:56.184283Z",
     "shell.execute_reply": "2023-12-16T23:38:56.183644Z"
    },
    "papermill": {
     "duration": 6.997922,
     "end_time": "2023-12-16T23:38:56.185954",
     "exception": false,
     "start_time": "2023-12-16T23:38:49.188032",
     "status": "completed"
    },
    "tags": []
   },
   "outputs": [],
   "source": [
    "import os\n",
    "import pandas as pd\n",
    "from events import load_event_data, get_first_ward, normalise_ward"
   ]
  },
  {
   "cell_type": "code",
   "execution_count": 2,
   "id": "f21c407b",
   "metadata": {
    "execution": {
     "iopub.execute_input": "2023-12-16T23:38:56.191030Z",
     "iopub.status.busy": "2023-12-16T23:38:56.190725Z",
     "iopub.status.idle": "2023-12-16T23:38:56.194204Z",
     "shell.execute_reply": "2023-12-16T23:38:56.193657Z"
    },
    "papermill": {
     "duration": 0.007256,
     "end_time": "2023-12-16T23:38:56.195441",
     "exception": false,
     "start_time": "2023-12-16T23:38:56.188185",
     "status": "completed"
    },
    "tags": []
   },
   "outputs": [],
   "source": [
    "latest_date = pd.Timestamp.today().ceil('D')"
   ]
  },
  {
   "cell_type": "code",
   "execution_count": 3,
   "id": "c836225b",
   "metadata": {
    "execution": {
     "iopub.execute_input": "2023-12-16T23:38:56.200172Z",
     "iopub.status.busy": "2023-12-16T23:38:56.199792Z",
     "iopub.status.idle": "2023-12-16T23:38:56.215793Z",
     "shell.execute_reply": "2023-12-16T23:38:56.215308Z"
    },
    "papermill": {
     "duration": 0.019788,
     "end_time": "2023-12-16T23:38:56.217047",
     "exception": false,
     "start_time": "2023-12-16T23:38:56.197259",
     "status": "completed"
    },
    "tags": []
   },
   "outputs": [],
   "source": [
    "tickets = pd.read_csv('../../../../data/metrics/events/tickets/orders.csv', parse_dates=['created_at', 'event_date'])\n",
    "tickets = tickets[tickets.event_date <= latest_date]"
   ]
  },
  {
   "cell_type": "code",
   "execution_count": 4,
   "id": "59c63402",
   "metadata": {
    "execution": {
     "iopub.execute_input": "2023-12-16T23:38:56.221813Z",
     "iopub.status.busy": "2023-12-16T23:38:56.221356Z",
     "iopub.status.idle": "2023-12-16T23:38:56.272812Z",
     "shell.execute_reply": "2023-12-16T23:38:56.272257Z"
    },
    "papermill": {
     "duration": 0.055191,
     "end_time": "2023-12-16T23:38:56.274082",
     "exception": false,
     "start_time": "2023-12-16T23:38:56.218891",
     "status": "completed"
    },
    "tags": []
   },
   "outputs": [],
   "source": [
    "events = load_event_data()\n",
    "\n",
    "events = pd.concat([\n",
    "  events,\n",
    "  events.pipe(get_first_ward).pipe(normalise_ward).fillna('UNKNOWN'),\n",
    "  pd.Series(\n",
    "      events.actual_audience_size_number_of_participants_in_person + events.actual_audience_size_number_of_participants_online,\n",
    "      name='attendances'\n",
    "  )\n",
    "], axis=1).rename(columns={\n",
    "    'start_date': 'date'\n",
    "}).loc[:, ['ward_code', 'date', 'event_unique_identifier', 'attendances']]"
   ]
  },
  {
   "cell_type": "code",
   "execution_count": 5,
   "id": "436f66e4",
   "metadata": {
    "execution": {
     "iopub.execute_input": "2023-12-16T23:38:56.278761Z",
     "iopub.status.busy": "2023-12-16T23:38:56.278402Z",
     "iopub.status.idle": "2023-12-16T23:38:56.281322Z",
     "shell.execute_reply": "2023-12-16T23:38:56.280781Z"
    },
    "papermill": {
     "duration": 0.006606,
     "end_time": "2023-12-16T23:38:56.282545",
     "exception": false,
     "start_time": "2023-12-16T23:38:56.275939",
     "status": "completed"
    },
    "tags": []
   },
   "outputs": [],
   "source": [
    "OUTPUT_DIR='../../../../docs/metrics/events/signature/_data/'\n",
    "os.makedirs(OUTPUT_DIR, exist_ok=True)"
   ]
  },
  {
   "cell_type": "markdown",
   "id": "7119e2e7",
   "metadata": {
    "papermill": {
     "duration": 0.001966,
     "end_time": "2023-12-16T23:38:56.286418",
     "exception": false,
     "start_time": "2023-12-16T23:38:56.284452",
     "status": "completed"
    },
    "tags": []
   },
   "source": [
    "Events CSVs"
   ]
  },
  {
   "cell_type": "code",
   "execution_count": 6,
   "id": "dc32c640",
   "metadata": {
    "execution": {
     "iopub.execute_input": "2023-12-16T23:38:56.291080Z",
     "iopub.status.busy": "2023-12-16T23:38:56.290893Z",
     "iopub.status.idle": "2023-12-16T23:38:56.296620Z",
     "shell.execute_reply": "2023-12-16T23:38:56.296144Z"
    },
    "papermill": {
     "duration": 0.009554,
     "end_time": "2023-12-16T23:38:56.297932",
     "exception": false,
     "start_time": "2023-12-16T23:38:56.288378",
     "status": "completed"
    },
    "tags": []
   },
   "outputs": [],
   "source": [
    "pd.DataFrame({\n",
    "  'events': events.groupby('ward_code').event_unique_identifier.count(),\n",
    "  'attendances': events.groupby('ward_code').attendances.sum().astype(int),\n",
    "}).to_csv(os.path.join(OUTPUT_DIR, 'events_by_ward.csv'))\n"
   ]
  },
  {
   "cell_type": "code",
   "execution_count": 7,
   "id": "bca4b13e",
   "metadata": {
    "execution": {
     "iopub.execute_input": "2023-12-16T23:38:56.302882Z",
     "iopub.status.busy": "2023-12-16T23:38:56.302534Z",
     "iopub.status.idle": "2023-12-16T23:38:56.309712Z",
     "shell.execute_reply": "2023-12-16T23:38:56.309100Z"
    },
    "papermill": {
     "duration": 0.011167,
     "end_time": "2023-12-16T23:38:56.311005",
     "exception": false,
     "start_time": "2023-12-16T23:38:56.299838",
     "status": "completed"
    },
    "tags": []
   },
   "outputs": [],
   "source": [
    "pd.DataFrame({\n",
    "  'events': events.groupby('date').event_unique_identifier.count(),\n",
    "  'attendances': events.groupby('date').attendances.sum().astype(int),\n",
    "}).resample('M').sum().astype(int).to_csv(os.path.join(OUTPUT_DIR, 'events_by_date.csv'))"
   ]
  },
  {
   "cell_type": "markdown",
   "id": "30916188",
   "metadata": {
    "papermill": {
     "duration": 0.002651,
     "end_time": "2023-12-16T23:38:56.315598",
     "exception": false,
     "start_time": "2023-12-16T23:38:56.312947",
     "status": "completed"
    },
    "tags": []
   },
   "source": [
    "Tickets CSV"
   ]
  },
  {
   "cell_type": "code",
   "execution_count": 8,
   "id": "5fb4a130",
   "metadata": {
    "execution": {
     "iopub.execute_input": "2023-12-16T23:38:56.320506Z",
     "iopub.status.busy": "2023-12-16T23:38:56.320125Z",
     "iopub.status.idle": "2023-12-16T23:38:56.325990Z",
     "shell.execute_reply": "2023-12-16T23:38:56.325362Z"
    },
    "papermill": {
     "duration": 0.009722,
     "end_time": "2023-12-16T23:38:56.327243",
     "exception": false,
     "start_time": "2023-12-16T23:38:56.317521",
     "status": "completed"
    },
    "tags": []
   },
   "outputs": [],
   "source": [
    "pd.DataFrame({\n",
    "  'orders': tickets.groupby('ward_code').number_of_tickets.count(),\n",
    "  'tickets': tickets.groupby('ward_code').number_of_tickets.sum().astype(int),\n",
    "}).to_csv(os.path.join(OUTPUT_DIR, 'tickets_by_ward.csv'))"
   ]
  },
  {
   "cell_type": "code",
   "execution_count": 9,
   "id": "d2d087fa",
   "metadata": {
    "execution": {
     "iopub.execute_input": "2023-12-16T23:38:56.332234Z",
     "iopub.status.busy": "2023-12-16T23:38:56.331846Z",
     "iopub.status.idle": "2023-12-16T23:38:56.338206Z",
     "shell.execute_reply": "2023-12-16T23:38:56.337722Z"
    },
    "papermill": {
     "duration": 0.010285,
     "end_time": "2023-12-16T23:38:56.339483",
     "exception": false,
     "start_time": "2023-12-16T23:38:56.329198",
     "status": "completed"
    },
    "tags": []
   },
   "outputs": [],
   "source": [
    "pd.DataFrame({\n",
    "  'orders': tickets.groupby('event_date').number_of_tickets.count(),\n",
    "  'tickets': tickets.groupby('event_date').number_of_tickets.sum().astype(int),\n",
    "}).resample('M').sum().to_csv(os.path.join(OUTPUT_DIR, 'tickets_by_event_date.csv'))"
   ]
  },
  {
   "cell_type": "code",
   "execution_count": 10,
   "id": "81914622",
   "metadata": {
    "execution": {
     "iopub.execute_input": "2023-12-16T23:38:56.344538Z",
     "iopub.status.busy": "2023-12-16T23:38:56.344145Z",
     "iopub.status.idle": "2023-12-16T23:38:56.348561Z",
     "shell.execute_reply": "2023-12-16T23:38:56.348077Z"
    },
    "papermill": {
     "duration": 0.008383,
     "end_time": "2023-12-16T23:38:56.349835",
     "exception": false,
     "start_time": "2023-12-16T23:38:56.341452",
     "status": "completed"
    },
    "tags": []
   },
   "outputs": [],
   "source": [
    "pd.Series({\n",
    "    'total_events': events.event_unique_identifier.count(),\n",
    "    'total_attendances': events.attendances.count(),\n",
    "    'first_event': events.date.min(),\n",
    "    'latest_event': events.date.max(),\n",
    "    'total_ticket_orders_for_events_to_date': tickets.number_of_tickets.count(),\n",
    "    'total_tickets_sold_for_events_to_date': tickets.number_of_tickets.sum(),\n",
    "}).to_json(os.path.join(OUTPUT_DIR, 'headlines.json'), indent=2)"
   ]
  },
  {
   "cell_type": "code",
   "execution_count": null,
   "id": "534e876d",
   "metadata": {
    "papermill": {
     "duration": 0.002001,
     "end_time": "2023-12-16T23:38:56.353842",
     "exception": false,
     "start_time": "2023-12-16T23:38:56.351841",
     "status": "completed"
    },
    "tags": []
   },
   "outputs": [],
   "source": []
  }
 ],
 "metadata": {
  "kernelspec": {
   "display_name": "leeds-2023-YZF5GfJv",
   "language": "python",
   "name": "python3"
  },
  "language_info": {
   "codemirror_mode": {
    "name": "ipython",
    "version": 3
   },
   "file_extension": ".py",
   "mimetype": "text/x-python",
   "name": "python",
   "nbconvert_exporter": "python",
   "pygments_lexer": "ipython3",
   "version": "3.10.13"
  },
  "papermill": {
   "default_parameters": {},
   "duration": 8.619057,
   "end_time": "2023-12-16T23:38:56.572860",
   "environment_variables": {},
   "exception": null,
   "input_path": "prepare.ipynb",
   "output_path": "../../../../working/output/signature-prepare.ipynb",
   "parameters": {},
   "start_time": "2023-12-16T23:38:47.953803",
   "version": "2.4.0"
  }
 },
 "nbformat": 4,
 "nbformat_minor": 5
}