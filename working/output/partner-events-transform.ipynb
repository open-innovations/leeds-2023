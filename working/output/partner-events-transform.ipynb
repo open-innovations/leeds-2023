{
 "cells": [
  {
   "cell_type": "code",
   "execution_count": 1,
   "id": "9d6b7ed5",
   "metadata": {
    "execution": {
     "iopub.execute_input": "2023-07-22T23:36:37.941257Z",
     "iopub.status.busy": "2023-07-22T23:36:37.940749Z",
     "iopub.status.idle": "2023-07-22T23:36:38.163529Z",
     "shell.execute_reply": "2023-07-22T23:36:38.162931Z"
    },
    "papermill": {
     "duration": 0.22862,
     "end_time": "2023-07-22T23:36:38.165606",
     "exception": false,
     "start_time": "2023-07-22T23:36:37.936986",
     "status": "completed"
    },
    "tags": []
   },
   "outputs": [],
   "source": [
    "import os\n",
    "import sys\n",
    "import pandas as pd\n",
    "lib_dir = os.path.realpath('../../../lib/')\n",
    "if lib_dir not in sys.path: sys.path.append(lib_dir)"
   ]
  },
  {
   "cell_type": "code",
   "execution_count": 2,
   "id": "db8675f3",
   "metadata": {
    "execution": {
     "iopub.execute_input": "2023-07-22T23:36:38.171622Z",
     "iopub.status.busy": "2023-07-22T23:36:38.171136Z",
     "iopub.status.idle": "2023-07-22T23:36:46.407652Z",
     "shell.execute_reply": "2023-07-22T23:36:46.407025Z"
    },
    "papermill": {
     "duration": 8.241309,
     "end_time": "2023-07-22T23:36:46.409469",
     "exception": false,
     "start_time": "2023-07-22T23:36:38.168160",
     "status": "completed"
    },
    "tags": []
   },
   "outputs": [],
   "source": [
    "import util.geo"
   ]
  },
  {
   "cell_type": "code",
   "execution_count": 3,
   "id": "87441afc",
   "metadata": {
    "execution": {
     "iopub.execute_input": "2023-07-22T23:36:46.416062Z",
     "iopub.status.busy": "2023-07-22T23:36:46.415604Z",
     "iopub.status.idle": "2023-07-22T23:36:46.419781Z",
     "shell.execute_reply": "2023-07-22T23:36:46.419204Z"
    },
    "papermill": {
     "duration": 0.009217,
     "end_time": "2023-07-22T23:36:46.421230",
     "exception": false,
     "start_time": "2023-07-22T23:36:46.412013",
     "status": "completed"
    },
    "tags": []
   },
   "outputs": [],
   "source": [
    "EVENTS_RAW_DATA = '../../../working/metrics/partner-events/events.csv'\n",
    "DATA_DIR = '../../../data/metrics/events/partner-events/'\n",
    "EVENTS_DATA = os.path.join(DATA_DIR, 'events.csv')"
   ]
  },
  {
   "cell_type": "code",
   "execution_count": 4,
   "id": "748f9175",
   "metadata": {
    "execution": {
     "iopub.execute_input": "2023-07-22T23:36:46.426620Z",
     "iopub.status.busy": "2023-07-22T23:36:46.426229Z",
     "iopub.status.idle": "2023-07-22T23:36:46.429585Z",
     "shell.execute_reply": "2023-07-22T23:36:46.429022Z"
    },
    "papermill": {
     "duration": 0.007682,
     "end_time": "2023-07-22T23:36:46.431080",
     "exception": false,
     "start_time": "2023-07-22T23:36:46.423398",
     "status": "completed"
    },
    "tags": []
   },
   "outputs": [],
   "source": [
    "columns = {\n",
    "    'Event Name': 'name',\n",
    "    'Event Start Date': 'start_date',\n",
    "    'Event End Date': 'end_date',\n",
    "    'Partner/Promote': 'partner_promote',\n",
    "    'Stage': 'stage',\n",
    "    'Live date': 'live_date',\n",
    "    'Venue postcode': 'postcode',\n",
    "    'Pricing Policy': 'pricing',\n",
    "    'Venue - including address': 'venue',\n",
    "    'Is this event on Leeds Inspried?': 'on_leeds_inspired',\n",
    "}"
   ]
  },
  {
   "cell_type": "markdown",
   "id": "70967627",
   "metadata": {
    "papermill": {
     "duration": 0.002219,
     "end_time": "2023-07-22T23:36:46.435535",
     "exception": false,
     "start_time": "2023-07-22T23:36:46.433316",
     "status": "completed"
    },
    "tags": []
   },
   "source": [
    "Load the data and rename columns. Parse the dates to dates."
   ]
  },
  {
   "cell_type": "code",
   "execution_count": 5,
   "id": "e0a92121",
   "metadata": {
    "execution": {
     "iopub.execute_input": "2023-07-22T23:36:46.442015Z",
     "iopub.status.busy": "2023-07-22T23:36:46.441620Z",
     "iopub.status.idle": "2023-07-22T23:36:46.452154Z",
     "shell.execute_reply": "2023-07-22T23:36:46.451202Z"
    },
    "papermill": {
     "duration": 0.015083,
     "end_time": "2023-07-22T23:36:46.453506",
     "exception": false,
     "start_time": "2023-07-22T23:36:46.438423",
     "status": "completed"
    },
    "tags": []
   },
   "outputs": [],
   "source": [
    "data = pd.read_csv(EVENTS_RAW_DATA)[columns.keys()].rename(columns=columns)\n",
    "data.start_date = pd.to_datetime(data.start_date, errors='coerce')\n",
    "data.end_date = pd.to_datetime(data.end_date, errors='coerce')"
   ]
  },
  {
   "cell_type": "markdown",
   "id": "b48b8e1e",
   "metadata": {
    "papermill": {
     "duration": 0.002136,
     "end_time": "2023-07-22T23:36:46.457885",
     "exception": false,
     "start_time": "2023-07-22T23:36:46.455749",
     "status": "completed"
    },
    "tags": []
   },
   "source": [
    "Filter data by not LI Pull through and start date before now"
   ]
  },
  {
   "cell_type": "code",
   "execution_count": 6,
   "id": "f6378153",
   "metadata": {
    "execution": {
     "iopub.execute_input": "2023-07-22T23:36:46.463637Z",
     "iopub.status.busy": "2023-07-22T23:36:46.463057Z",
     "iopub.status.idle": "2023-07-22T23:36:46.467801Z",
     "shell.execute_reply": "2023-07-22T23:36:46.467194Z"
    },
    "papermill": {
     "duration": 0.008993,
     "end_time": "2023-07-22T23:36:46.469175",
     "exception": false,
     "start_time": "2023-07-22T23:36:46.460182",
     "status": "completed"
    },
    "tags": []
   },
   "outputs": [],
   "source": [
    "data = data[\n",
    "    # (data.live_date == 'This event is live ') &\n",
    "    ((data.stage != 'LI pull through') & data.stage.notna()) &\n",
    "    (data.start_date < pd.Timestamp.now())\n",
    "]"
   ]
  },
  {
   "cell_type": "code",
   "execution_count": 7,
   "id": "6daae7e3",
   "metadata": {
    "execution": {
     "iopub.execute_input": "2023-07-22T23:36:46.474719Z",
     "iopub.status.busy": "2023-07-22T23:36:46.474523Z",
     "iopub.status.idle": "2023-07-22T23:36:47.402821Z",
     "shell.execute_reply": "2023-07-22T23:36:47.401927Z"
    },
    "papermill": {
     "duration": 0.933227,
     "end_time": "2023-07-22T23:36:47.404651",
     "exception": false,
     "start_time": "2023-07-22T23:36:46.471424",
     "status": "completed"
    },
    "tags": []
   },
   "outputs": [],
   "source": [
    "data['ward_code'] = data.postcode.pipe(util.geo.postcode_formatter).map(util.geo.postcode_to_ward_code)\n",
    "data['ward_name'] = data.ward_code.pipe(util.geo.ward_code_to_name)"
   ]
  },
  {
   "cell_type": "markdown",
   "id": "9e0829af",
   "metadata": {
    "papermill": {
     "duration": 0.002667,
     "end_time": "2023-07-22T23:36:47.409900",
     "exception": false,
     "start_time": "2023-07-22T23:36:47.407233",
     "status": "completed"
    },
    "tags": []
   },
   "source": [
    "Save the file"
   ]
  },
  {
   "cell_type": "code",
   "execution_count": 8,
   "id": "bf0c0672",
   "metadata": {
    "execution": {
     "iopub.execute_input": "2023-07-22T23:36:47.415796Z",
     "iopub.status.busy": "2023-07-22T23:36:47.415219Z",
     "iopub.status.idle": "2023-07-22T23:36:47.422157Z",
     "shell.execute_reply": "2023-07-22T23:36:47.421285Z"
    },
    "papermill": {
     "duration": 0.011233,
     "end_time": "2023-07-22T23:36:47.423457",
     "exception": false,
     "start_time": "2023-07-22T23:36:47.412224",
     "status": "completed"
    },
    "tags": []
   },
   "outputs": [],
   "source": [
    "data[\n",
    "    ['name','start_date','end_date','ward_code']\n",
    "].to_csv(EVENTS_DATA, index=False)"
   ]
  },
  {
   "cell_type": "markdown",
   "id": "bc648709",
   "metadata": {
    "papermill": {
     "duration": 0.002246,
     "end_time": "2023-07-22T23:36:47.428046",
     "exception": false,
     "start_time": "2023-07-22T23:36:47.425800",
     "status": "completed"
    },
    "tags": []
   },
   "source": [
    "Print out missing postcode data"
   ]
  },
  {
   "cell_type": "code",
   "execution_count": 9,
   "id": "c26dde2f",
   "metadata": {
    "execution": {
     "iopub.execute_input": "2023-07-22T23:36:47.434331Z",
     "iopub.status.busy": "2023-07-22T23:36:47.433281Z",
     "iopub.status.idle": "2023-07-22T23:36:47.446314Z",
     "shell.execute_reply": "2023-07-22T23:36:47.445801Z"
    },
    "papermill": {
     "duration": 0.017295,
     "end_time": "2023-07-22T23:36:47.447680",
     "exception": false,
     "start_time": "2023-07-22T23:36:47.430385",
     "status": "completed"
    },
    "tags": []
   },
   "outputs": [
    {
     "data": {
      "text/html": [
       "<div>\n",
       "<style scoped>\n",
       "    .dataframe tbody tr th:only-of-type {\n",
       "        vertical-align: middle;\n",
       "    }\n",
       "\n",
       "    .dataframe tbody tr th {\n",
       "        vertical-align: top;\n",
       "    }\n",
       "\n",
       "    .dataframe thead th {\n",
       "        text-align: right;\n",
       "    }\n",
       "</style>\n",
       "<table border=\"1\" class=\"dataframe\">\n",
       "  <thead>\n",
       "    <tr style=\"text-align: right;\">\n",
       "      <th></th>\n",
       "      <th>name</th>\n",
       "      <th>start_date</th>\n",
       "    </tr>\n",
       "  </thead>\n",
       "  <tbody>\n",
       "    <tr>\n",
       "      <th>1</th>\n",
       "      <td>East Street Arts, A City Less Grey 2022</td>\n",
       "      <td>2022-10-08</td>\n",
       "    </tr>\n",
       "    <tr>\n",
       "      <th>3</th>\n",
       "      <td>Phoenix Dance Theatre Virtual Gallery</td>\n",
       "      <td>2023-01-01</td>\n",
       "    </tr>\n",
       "    <tr>\n",
       "      <th>4</th>\n",
       "      <td>The Big Art Giveaway, School of Creative Arts ...</td>\n",
       "      <td>2023-01-01</td>\n",
       "    </tr>\n",
       "    <tr>\n",
       "      <th>5</th>\n",
       "      <td>Embassy of Netherlands, Meet Leeds Lab</td>\n",
       "      <td>2023-01-16</td>\n",
       "    </tr>\n",
       "    <tr>\n",
       "      <th>6</th>\n",
       "      <td>Shifting Borders: A Journey to the Centre of o...</td>\n",
       "      <td>2023-01-24</td>\n",
       "    </tr>\n",
       "    <tr>\n",
       "      <th>12</th>\n",
       "      <td>Leeds Lit Fest 2023</td>\n",
       "      <td>2023-02-25</td>\n",
       "    </tr>\n",
       "    <tr>\n",
       "      <th>26</th>\n",
       "      <td>East Street Arts, Add Fuel</td>\n",
       "      <td>2023-04-01</td>\n",
       "    </tr>\n",
       "    <tr>\n",
       "      <th>43</th>\n",
       "      <td>Jamica Society Leeds, Out of Many Festival - T...</td>\n",
       "      <td>2023-05-01</td>\n",
       "    </tr>\n",
       "    <tr>\n",
       "      <th>44</th>\n",
       "      <td>Sayang, Si Polan - International residency in ...</td>\n",
       "      <td>2023-05-01</td>\n",
       "    </tr>\n",
       "    <tr>\n",
       "      <th>63</th>\n",
       "      <td>Leeds Jazz Festival 2023</td>\n",
       "      <td>2023-05-25</td>\n",
       "    </tr>\n",
       "    <tr>\n",
       "      <th>79</th>\n",
       "      <td>Keira Martin, Queenie and the Pooka (Performan...</td>\n",
       "      <td>2023-06-05</td>\n",
       "    </tr>\n",
       "    <tr>\n",
       "      <th>80</th>\n",
       "      <td>My LEEDS Summer: Kirkstall Makes + Moves</td>\n",
       "      <td>2023-06-11</td>\n",
       "    </tr>\n",
       "    <tr>\n",
       "      <th>83</th>\n",
       "      <td>My LEEDS Summer at Hunslet Festival</td>\n",
       "      <td>2023-06-17</td>\n",
       "    </tr>\n",
       "    <tr>\n",
       "      <th>84</th>\n",
       "      <td>My LEEDS Summer: Roundhay World Music &amp; Food Fest</td>\n",
       "      <td>2023-06-17</td>\n",
       "    </tr>\n",
       "    <tr>\n",
       "      <th>93</th>\n",
       "      <td>My LEEDS Summer: Beeston Festival</td>\n",
       "      <td>2023-06-24</td>\n",
       "    </tr>\n",
       "    <tr>\n",
       "      <th>94</th>\n",
       "      <td>My LEEDS Summer: Crossgates and Whinmoor - Pas...</td>\n",
       "      <td>2023-06-24</td>\n",
       "    </tr>\n",
       "    <tr>\n",
       "      <th>95</th>\n",
       "      <td>My LEEDS Summer: Picnic in the Park</td>\n",
       "      <td>2023-06-24</td>\n",
       "    </tr>\n",
       "    <tr>\n",
       "      <th>98</th>\n",
       "      <td>Becoming the Brontës</td>\n",
       "      <td>2023-06-29</td>\n",
       "    </tr>\n",
       "    <tr>\n",
       "      <th>105</th>\n",
       "      <td>My LEEDS Summer: Wetherby Drovers Day</td>\n",
       "      <td>2023-07-01</td>\n",
       "    </tr>\n",
       "    <tr>\n",
       "      <th>106</th>\n",
       "      <td>My Leeds Summer : Walk of Art</td>\n",
       "      <td>2023-07-01</td>\n",
       "    </tr>\n",
       "    <tr>\n",
       "      <th>109</th>\n",
       "      <td>My LEEDS Summer: The Feast</td>\n",
       "      <td>2023-07-02</td>\n",
       "    </tr>\n",
       "    <tr>\n",
       "      <th>110</th>\n",
       "      <td>My LEEDS summer: Celebration Day</td>\n",
       "      <td>2023-07-02</td>\n",
       "    </tr>\n",
       "    <tr>\n",
       "      <th>118</th>\n",
       "      <td>My LEEDS Summer : Wonderful Workshops and Cele...</td>\n",
       "      <td>2023-07-06</td>\n",
       "    </tr>\n",
       "    <tr>\n",
       "      <th>125</th>\n",
       "      <td>My LEEDS Summer: The Gipton and Harehills Crea...</td>\n",
       "      <td>2023-07-08</td>\n",
       "    </tr>\n",
       "    <tr>\n",
       "      <th>127</th>\n",
       "      <td>My LEEDS Summer: Ardsley &amp; Robin Hood: Celebra...</td>\n",
       "      <td>2023-07-09</td>\n",
       "    </tr>\n",
       "    <tr>\n",
       "      <th>130</th>\n",
       "      <td>My LEEDS Summer: The Big Summer Picnic</td>\n",
       "      <td>2023-07-09</td>\n",
       "    </tr>\n",
       "    <tr>\n",
       "      <th>133</th>\n",
       "      <td>My LEEDS Summer: Ralph Thoresby Summer Festival</td>\n",
       "      <td>2023-07-15</td>\n",
       "    </tr>\n",
       "    <tr>\n",
       "      <th>135</th>\n",
       "      <td>My LEEDS Summer: Fuse Festival</td>\n",
       "      <td>2023-07-17</td>\n",
       "    </tr>\n",
       "    <tr>\n",
       "      <th>137</th>\n",
       "      <td>Community Training Programme</td>\n",
       "      <td>2023-07-20</td>\n",
       "    </tr>\n",
       "    <tr>\n",
       "      <th>139</th>\n",
       "      <td>My LEEDS Summer: Festival of Culture</td>\n",
       "      <td>2023-07-22</td>\n",
       "    </tr>\n",
       "    <tr>\n",
       "      <th>140</th>\n",
       "      <td>My LEEDS Summer: Kippax and Methley Culture Trail</td>\n",
       "      <td>2023-07-22</td>\n",
       "    </tr>\n",
       "  </tbody>\n",
       "</table>\n",
       "</div>"
      ],
      "text/plain": [
       "                                                  name start_date\n",
       "1              East Street Arts, A City Less Grey 2022 2022-10-08\n",
       "3                Phoenix Dance Theatre Virtual Gallery 2023-01-01\n",
       "4    The Big Art Giveaway, School of Creative Arts ... 2023-01-01\n",
       "5               Embassy of Netherlands, Meet Leeds Lab 2023-01-16\n",
       "6    Shifting Borders: A Journey to the Centre of o... 2023-01-24\n",
       "12                                 Leeds Lit Fest 2023 2023-02-25\n",
       "26                          East Street Arts, Add Fuel 2023-04-01\n",
       "43   Jamica Society Leeds, Out of Many Festival - T... 2023-05-01\n",
       "44   Sayang, Si Polan - International residency in ... 2023-05-01\n",
       "63                            Leeds Jazz Festival 2023 2023-05-25\n",
       "79   Keira Martin, Queenie and the Pooka (Performan... 2023-06-05\n",
       "80            My LEEDS Summer: Kirkstall Makes + Moves 2023-06-11\n",
       "83                 My LEEDS Summer at Hunslet Festival 2023-06-17\n",
       "84   My LEEDS Summer: Roundhay World Music & Food Fest 2023-06-17\n",
       "93                   My LEEDS Summer: Beeston Festival 2023-06-24\n",
       "94   My LEEDS Summer: Crossgates and Whinmoor - Pas... 2023-06-24\n",
       "95                 My LEEDS Summer: Picnic in the Park 2023-06-24\n",
       "98                                Becoming the Brontës 2023-06-29\n",
       "105              My LEEDS Summer: Wetherby Drovers Day 2023-07-01\n",
       "106                      My Leeds Summer : Walk of Art 2023-07-01\n",
       "109                         My LEEDS Summer: The Feast 2023-07-02\n",
       "110                   My LEEDS summer: Celebration Day 2023-07-02\n",
       "118  My LEEDS Summer : Wonderful Workshops and Cele... 2023-07-06\n",
       "125  My LEEDS Summer: The Gipton and Harehills Crea... 2023-07-08\n",
       "127  My LEEDS Summer: Ardsley & Robin Hood: Celebra... 2023-07-09\n",
       "130             My LEEDS Summer: The Big Summer Picnic 2023-07-09\n",
       "133    My LEEDS Summer: Ralph Thoresby Summer Festival 2023-07-15\n",
       "135                     My LEEDS Summer: Fuse Festival 2023-07-17\n",
       "137                       Community Training Programme 2023-07-20\n",
       "139               My LEEDS Summer: Festival of Culture 2023-07-22\n",
       "140  My LEEDS Summer: Kippax and Methley Culture Trail 2023-07-22"
      ]
     },
     "execution_count": 9,
     "metadata": {},
     "output_type": "execute_result"
    }
   ],
   "source": [
    "data[data.postcode.isna()][[\n",
    "    'name', 'start_date'\n",
    "]]"
   ]
  },
  {
   "cell_type": "markdown",
   "id": "4ddecf1c",
   "metadata": {
    "papermill": {
     "duration": 0.002572,
     "end_time": "2023-07-22T23:36:47.452981",
     "exception": false,
     "start_time": "2023-07-22T23:36:47.450409",
     "status": "completed"
    },
    "tags": []
   },
   "source": [
    "Plot the pricing"
   ]
  },
  {
   "cell_type": "code",
   "execution_count": 10,
   "id": "2ff15061",
   "metadata": {
    "execution": {
     "iopub.execute_input": "2023-07-22T23:36:47.459841Z",
     "iopub.status.busy": "2023-07-22T23:36:47.459613Z",
     "iopub.status.idle": "2023-07-22T23:36:48.217131Z",
     "shell.execute_reply": "2023-07-22T23:36:48.216507Z"
    },
    "papermill": {
     "duration": 0.762419,
     "end_time": "2023-07-22T23:36:48.218553",
     "exception": false,
     "start_time": "2023-07-22T23:36:47.456134",
     "status": "completed"
    },
    "tags": []
   },
   "outputs": [
    {
     "data": {
      "image/png": "[encoded data removed]",
      "text/plain": [
       "<Figure size 640x480 with 1 Axes>"
      ]
     },
     "metadata": {},
     "output_type": "display_data"
    }
   ],
   "source": [
    "# .groupby('pricing').count().plot.barh()\n",
    "pricing = data.pricing.fillna('Unspecified').str.replace('[\\[\\'\\]]', '', regex=True).to_frame().reset_index().groupby('pricing').count()\n",
    "\n",
    "pricing.columns = ['count']\n",
    "plot = pricing.plot.barh()\n"
   ]
  },
  {
   "cell_type": "code",
   "execution_count": null,
   "id": "68ee0d26",
   "metadata": {
    "papermill": {
     "duration": 0.003693,
     "end_time": "2023-07-22T23:36:48.225641",
     "exception": false,
     "start_time": "2023-07-22T23:36:48.221948",
     "status": "completed"
    },
    "tags": []
   },
   "outputs": [],
   "source": []
  }
 ],
 "metadata": {
  "kernelspec": {
   "display_name": "leeds-2023-YZF5GfJv",
   "language": "python",
   "name": "python3"
  },
  "language_info": {
   "codemirror_mode": {
    "name": "ipython",
    "version": 3
   },
   "file_extension": ".py",
   "mimetype": "text/x-python",
   "name": "python",
   "nbconvert_exporter": "python",
   "pygments_lexer": "ipython3",
   "version": "3.10.6"
  },
  "papermill": {
   "default_parameters": {},
   "duration": 12.00146,
   "end_time": "2023-07-22T23:36:48.548703",
   "environment_variables": {},
   "exception": null,
   "input_path": "transform.ipynb",
   "output_path": "../../../working/output/partner-events-transform.ipynb",
   "parameters": {},
   "start_time": "2023-07-22T23:36:36.547243",
   "version": "2.4.0"
  }
 },
 "nbformat": 4,
 "nbformat_minor": 5
}