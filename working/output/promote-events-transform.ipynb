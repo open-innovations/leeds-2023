{
 "cells": [
  {
   "cell_type": "code",
   "execution_count": 1,
   "id": "a7ff5c14",
   "metadata": {
    "execution": {
     "iopub.execute_input": "2023-09-11T23:39:59.429162Z",
     "iopub.status.busy": "2023-09-11T23:39:59.428520Z",
     "iopub.status.idle": "2023-09-11T23:39:59.694227Z",
     "shell.execute_reply": "2023-09-11T23:39:59.693495Z"
    },
    "papermill": {
     "duration": 0.271726,
     "end_time": "2023-09-11T23:39:59.696627",
     "exception": false,
     "start_time": "2023-09-11T23:39:59.424901",
     "status": "completed"
    },
    "tags": []
   },
   "outputs": [],
   "source": [
    "import os\n",
    "import pandas as pd"
   ]
  },
  {
   "cell_type": "code",
   "execution_count": 2,
   "id": "6e588829",
   "metadata": {
    "execution": {
     "iopub.execute_input": "2023-09-11T23:39:59.701887Z",
     "iopub.status.busy": "2023-09-11T23:39:59.701147Z",
     "iopub.status.idle": "2023-09-11T23:39:59.704947Z",
     "shell.execute_reply": "2023-09-11T23:39:59.704324Z"
    },
    "papermill": {
     "duration": 0.008048,
     "end_time": "2023-09-11T23:39:59.706545",
     "exception": false,
     "start_time": "2023-09-11T23:39:59.698497",
     "status": "completed"
    },
    "tags": []
   },
   "outputs": [],
   "source": [
    "EVENTS_RAW_DATA = '../../../working/metrics/promote-events/events.csv'\n",
    "DATA_DIR = '../../../data/metrics/events/promote-events/'\n",
    "EVENTS_DATA = os.path.join(DATA_DIR, 'events.csv')"
   ]
  },
  {
   "cell_type": "code",
   "execution_count": 3,
   "id": "5f96048b",
   "metadata": {
    "execution": {
     "iopub.execute_input": "2023-09-11T23:39:59.710456Z",
     "iopub.status.busy": "2023-09-11T23:39:59.710022Z",
     "iopub.status.idle": "2023-09-11T23:39:59.713548Z",
     "shell.execute_reply": "2023-09-11T23:39:59.712851Z"
    },
    "papermill": {
     "duration": 0.007347,
     "end_time": "2023-09-11T23:39:59.715264",
     "exception": false,
     "start_time": "2023-09-11T23:39:59.707917",
     "status": "completed"
    },
    "tags": []
   },
   "outputs": [],
   "source": [
    "columns = {\n",
    "    'id': 'id',\n",
    "    'name': 'name',\n",
    "    'locationName': 'location',\n",
    "    'cardPrice': 'card_price',\n",
    "    'timeslots': 'time',\n",
    "    # 'displayOnWebsite': 'display',\n",
    "    'Stage': 'stage',\n",
    "}"
   ]
  },
  {
   "cell_type": "code",
   "execution_count": 4,
   "id": "8c85e480",
   "metadata": {
    "execution": {
     "iopub.execute_input": "2023-09-11T23:39:59.719159Z",
     "iopub.status.busy": "2023-09-11T23:39:59.718726Z",
     "iopub.status.idle": "2023-09-11T23:39:59.729803Z",
     "shell.execute_reply": "2023-09-11T23:39:59.729194Z"
    },
    "papermill": {
     "duration": 0.014741,
     "end_time": "2023-09-11T23:39:59.731385",
     "exception": false,
     "start_time": "2023-09-11T23:39:59.716644",
     "status": "completed"
    },
    "tags": []
   },
   "outputs": [],
   "source": [
    "data = pd.read_csv(EVENTS_RAW_DATA)[columns.keys()].rename(columns=columns)\n",
    "data.time = pd.to_datetime(data.time, errors='coerce')"
   ]
  },
  {
   "cell_type": "code",
   "execution_count": 5,
   "id": "bf7c6ab9",
   "metadata": {
    "execution": {
     "iopub.execute_input": "2023-09-11T23:39:59.735487Z",
     "iopub.status.busy": "2023-09-11T23:39:59.735045Z",
     "iopub.status.idle": "2023-09-11T23:39:59.741437Z",
     "shell.execute_reply": "2023-09-11T23:39:59.740808Z"
    },
    "papermill": {
     "duration": 0.010208,
     "end_time": "2023-09-11T23:39:59.743044",
     "exception": false,
     "start_time": "2023-09-11T23:39:59.732836",
     "status": "completed"
    },
    "tags": []
   },
   "outputs": [],
   "source": [
    "data.to_csv(os.path.join(DATA_DIR, 'events.csv'), index=False)"
   ]
  }
 ],
 "metadata": {
  "kernelspec": {
   "display_name": "leeds-2023-YZF5GfJv",
   "language": "python",
   "name": "python3"
  },
  "language_info": {
   "codemirror_mode": {
    "name": "ipython",
    "version": 3
   },
   "file_extension": ".py",
   "mimetype": "text/x-python",
   "name": "python",
   "nbconvert_exporter": "python",
   "pygments_lexer": "ipython3",
   "version": "3.10.13"
  },
  "papermill": {
   "default_parameters": {},
   "duration": 1.913316,
   "end_time": "2023-09-11T23:39:59.965482",
   "environment_variables": {},
   "exception": null,
   "input_path": "transform.ipynb",
   "output_path": "../../../working/output/promote-events-transform.ipynb",
   "parameters": {},
   "start_time": "2023-09-11T23:39:58.052166",
   "version": "2.4.0"
  }
 },
 "nbformat": 4,
 "nbformat_minor": 5
}