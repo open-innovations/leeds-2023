{
 "cells": [
  {
   "cell_type": "code",
   "execution_count": 1,
   "id": "ee764d7b",
   "metadata": {
    "execution": {
     "iopub.execute_input": "2023-07-14T23:41:43.888030Z",
     "iopub.status.busy": "2023-07-14T23:41:43.887671Z",
     "iopub.status.idle": "2023-07-14T23:41:44.224765Z",
     "shell.execute_reply": "2023-07-14T23:41:44.223799Z"
    },
    "papermill": {
     "duration": 0.344261,
     "end_time": "2023-07-14T23:41:44.227239",
     "exception": false,
     "start_time": "2023-07-14T23:41:43.882978",
     "status": "completed"
    },
    "tags": []
   },
   "outputs": [],
   "source": [
    "import os\n",
    "import pandas as pd"
   ]
  },
  {
   "cell_type": "code",
   "execution_count": 2,
   "id": "faaec2bb",
   "metadata": {
    "execution": {
     "iopub.execute_input": "2023-07-14T23:41:44.233767Z",
     "iopub.status.busy": "2023-07-14T23:41:44.233165Z",
     "iopub.status.idle": "2023-07-14T23:41:44.237354Z",
     "shell.execute_reply": "2023-07-14T23:41:44.236641Z"
    },
    "papermill": {
     "duration": 0.009425,
     "end_time": "2023-07-14T23:41:44.239163",
     "exception": false,
     "start_time": "2023-07-14T23:41:44.229738",
     "status": "completed"
    },
    "tags": []
   },
   "outputs": [],
   "source": [
    "DATA_DIR='../../../docs/metrics/events/promote/_data/'\n",
    "os.makedirs(DATA_DIR, exist_ok=True)"
   ]
  },
  {
   "cell_type": "code",
   "execution_count": 3,
   "id": "7da8bdbc",
   "metadata": {
    "execution": {
     "iopub.execute_input": "2023-07-14T23:41:44.245271Z",
     "iopub.status.busy": "2023-07-14T23:41:44.244940Z",
     "iopub.status.idle": "2023-07-14T23:41:44.258009Z",
     "shell.execute_reply": "2023-07-14T23:41:44.257067Z"
    },
    "papermill": {
     "duration": 0.018943,
     "end_time": "2023-07-14T23:41:44.260232",
     "exception": false,
     "start_time": "2023-07-14T23:41:44.241289",
     "status": "completed"
    },
    "tags": []
   },
   "outputs": [],
   "source": [
    "data = pd.read_csv('../../../data/metrics/events/promote-events/events.csv', parse_dates=['time'])"
   ]
  },
  {
   "cell_type": "code",
   "execution_count": 4,
   "id": "6245798a",
   "metadata": {
    "execution": {
     "iopub.execute_input": "2023-07-14T23:41:44.266667Z",
     "iopub.status.busy": "2023-07-14T23:41:44.266038Z",
     "iopub.status.idle": "2023-07-14T23:41:44.273974Z",
     "shell.execute_reply": "2023-07-14T23:41:44.273065Z"
    },
    "papermill": {
     "duration": 0.013782,
     "end_time": "2023-07-14T23:41:44.276231",
     "exception": false,
     "start_time": "2023-07-14T23:41:44.262449",
     "status": "completed"
    },
    "tags": []
   },
   "outputs": [],
   "source": [
    "pd.Series({\n",
    "    'total_events': len(data.id.unique()),\n",
    "    'total_event_instances': len(data.time),\n",
    "    'earliest_event': data.time.min(),\n",
    "    'latest_event': data.time.max(),\n",
    "}).to_json(\n",
    "    os.path.join(DATA_DIR, 'headlines.json'),\n",
    "    date_format='iso', indent=2\n",
    ")"
   ]
  },
  {
   "cell_type": "code",
   "execution_count": 5,
   "id": "409d800b",
   "metadata": {
    "execution": {
     "iopub.execute_input": "2023-07-14T23:41:44.282266Z",
     "iopub.status.busy": "2023-07-14T23:41:44.281955Z",
     "iopub.status.idle": "2023-07-14T23:41:44.294109Z",
     "shell.execute_reply": "2023-07-14T23:41:44.293128Z"
    },
    "papermill": {
     "duration": 0.017728,
     "end_time": "2023-07-14T23:41:44.296279",
     "exception": false,
     "start_time": "2023-07-14T23:41:44.278551",
     "status": "completed"
    },
    "tags": []
   },
   "outputs": [],
   "source": [
    "events = pd.DataFrame({\n",
    "    'events': data.groupby('id').agg({ 'time': 'min' }).reset_index().groupby('time').id.count(),\n",
    "    'event_instances': data.groupby('time').id.count(),\n",
    "}).fillna(0).astype(int)"
   ]
  },
  {
   "cell_type": "code",
   "execution_count": 6,
   "id": "dfd239c9",
   "metadata": {
    "execution": {
     "iopub.execute_input": "2023-07-14T23:41:44.301975Z",
     "iopub.status.busy": "2023-07-14T23:41:44.301678Z",
     "iopub.status.idle": "2023-07-14T23:41:44.306646Z",
     "shell.execute_reply": "2023-07-14T23:41:44.305559Z"
    },
    "papermill": {
     "duration": 0.011481,
     "end_time": "2023-07-14T23:41:44.310045",
     "exception": false,
     "start_time": "2023-07-14T23:41:44.298564",
     "status": "completed"
    },
    "tags": []
   },
   "outputs": [],
   "source": [
    "def cumulate(data):\n",
    "    return pd.concat([\n",
    "        data,\n",
    "        data.cumsum().rename(columns=lambda c: f'cumulative_{c}')\n",
    "    ], axis=1)"
   ]
  },
  {
   "cell_type": "code",
   "execution_count": 7,
   "id": "2913e094",
   "metadata": {
    "execution": {
     "iopub.execute_input": "2023-07-14T23:41:44.315991Z",
     "iopub.status.busy": "2023-07-14T23:41:44.315684Z",
     "iopub.status.idle": "2023-07-14T23:41:44.329532Z",
     "shell.execute_reply": "2023-07-14T23:41:44.328516Z"
    },
    "papermill": {
     "duration": 0.019391,
     "end_time": "2023-07-14T23:41:44.331805",
     "exception": false,
     "start_time": "2023-07-14T23:41:44.312414",
     "status": "completed"
    },
    "tags": []
   },
   "outputs": [],
   "source": [
    "events.resample('W-FRI').sum().pipe(cumulate).to_csv(os.path.join(DATA_DIR, 'by_week.csv'))"
   ]
  },
  {
   "cell_type": "code",
   "execution_count": 8,
   "id": "ff5c773a",
   "metadata": {
    "execution": {
     "iopub.execute_input": "2023-07-14T23:41:44.338491Z",
     "iopub.status.busy": "2023-07-14T23:41:44.338173Z",
     "iopub.status.idle": "2023-07-14T23:41:44.346932Z",
     "shell.execute_reply": "2023-07-14T23:41:44.346054Z"
    },
    "papermill": {
     "duration": 0.01436,
     "end_time": "2023-07-14T23:41:44.348912",
     "exception": false,
     "start_time": "2023-07-14T23:41:44.334552",
     "status": "completed"
    },
    "tags": []
   },
   "outputs": [],
   "source": [
    "events.resample('MS').sum().pipe(cumulate).to_csv(os.path.join(DATA_DIR, 'by_month.csv'))"
   ]
  },
  {
   "cell_type": "code",
   "execution_count": null,
   "id": "3c41d931",
   "metadata": {
    "papermill": {
     "duration": 0.0021,
     "end_time": "2023-07-14T23:41:44.353345",
     "exception": false,
     "start_time": "2023-07-14T23:41:44.351245",
     "status": "completed"
    },
    "tags": []
   },
   "outputs": [],
   "source": []
  }
 ],
 "metadata": {
  "kernelspec": {
   "display_name": "leeds-2023-YZF5GfJv",
   "language": "python",
   "name": "python3"
  },
  "language_info": {
   "codemirror_mode": {
    "name": "ipython",
    "version": 3
   },
   "file_extension": ".py",
   "mimetype": "text/x-python",
   "name": "python",
   "nbconvert_exporter": "python",
   "pygments_lexer": "ipython3",
   "version": "3.10.6"
  },
  "papermill": {
   "default_parameters": {},
   "duration": 2.164868,
   "end_time": "2023-07-14T23:41:44.675232",
   "environment_variables": {},
   "exception": null,
   "input_path": "prepare.ipynb",
   "output_path": "../../../working/output/promote-events-prepare.ipynb",
   "parameters": {},
   "start_time": "2023-07-14T23:41:42.510364",
   "version": "2.4.0"
  }
 },
 "nbformat": 4,
 "nbformat_minor": 5
}