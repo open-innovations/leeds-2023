{
 "cells": [
  {
   "cell_type": "code",
   "execution_count": 1,
   "id": "c0eab142",
   "metadata": {
    "execution": {
     "iopub.execute_input": "2023-11-22T15:23:08.747769Z",
     "iopub.status.busy": "2023-11-22T15:23:08.747540Z",
     "iopub.status.idle": "2023-11-22T15:23:08.754561Z",
     "shell.execute_reply": "2023-11-22T15:23:08.753980Z"
    },
    "papermill": {
     "duration": 0.011557,
     "end_time": "2023-11-22T15:23:08.756094",
     "exception": false,
     "start_time": "2023-11-22T15:23:08.744537",
     "status": "completed"
    },
    "tags": []
   },
   "outputs": [],
   "source": [
    "import os\n",
    "import sys\n",
    "\n",
    "TOP_DIR=os.path.realpath(\"../../..\")\n",
    "if TOP_DIR not in sys.path: sys.path.append(TOP_DIR)"
   ]
  },
  {
   "cell_type": "code",
   "execution_count": 2,
   "id": "43ed69ae",
   "metadata": {
    "execution": {
     "iopub.execute_input": "2023-11-22T15:23:08.760746Z",
     "iopub.status.busy": "2023-11-22T15:23:08.760370Z",
     "iopub.status.idle": "2023-11-22T15:23:15.766510Z",
     "shell.execute_reply": "2023-11-22T15:23:15.765874Z"
    },
    "papermill": {
     "duration": 7.010154,
     "end_time": "2023-11-22T15:23:15.768143",
     "exception": false,
     "start_time": "2023-11-22T15:23:08.757989",
     "status": "completed"
    },
    "tags": []
   },
   "outputs": [],
   "source": [
    "import pandas as pd\n",
    "import numpy as np\n",
    "from lib.util.convert import standardise_columns, literal_converter\n",
    "from lib.util.geo import normalise_leeds_wards, ward_name_to_code"
   ]
  },
  {
   "cell_type": "code",
   "execution_count": 3,
   "id": "76f99266",
   "metadata": {
    "execution": {
     "iopub.execute_input": "2023-11-22T15:23:15.773439Z",
     "iopub.status.busy": "2023-11-22T15:23:15.773058Z",
     "iopub.status.idle": "2023-11-22T15:23:15.788620Z",
     "shell.execute_reply": "2023-11-22T15:23:15.788125Z"
    },
    "papermill": {
     "duration": 0.019757,
     "end_time": "2023-11-22T15:23:15.789922",
     "exception": false,
     "start_time": "2023-11-22T15:23:15.770165",
     "status": "completed"
    },
    "tags": []
   },
   "outputs": [],
   "source": [
    "data = pd.read_csv('../../../working/metrics/community/events.csv', parse_dates=['Start date'])\n",
    "data = data.rename(columns=standardise_columns)"
   ]
  },
  {
   "cell_type": "code",
   "execution_count": 4,
   "id": "21fc927e",
   "metadata": {
    "execution": {
     "iopub.execute_input": "2023-11-22T15:23:15.794465Z",
     "iopub.status.busy": "2023-11-22T15:23:15.794005Z",
     "iopub.status.idle": "2023-11-22T15:23:15.802572Z",
     "shell.execute_reply": "2023-11-22T15:23:15.801938Z"
    },
    "papermill": {
     "duration": 0.012386,
     "end_time": "2023-11-22T15:23:15.804032",
     "exception": false,
     "start_time": "2023-11-22T15:23:15.791646",
     "status": "completed"
    },
    "tags": []
   },
   "outputs": [],
   "source": [
    "wards = data['ward_(from_venue)'].fillna('[]').pipe(literal_converter).apply(np.unique)"
   ]
  },
  {
   "cell_type": "code",
   "execution_count": 5,
   "id": "b8d3f3f8",
   "metadata": {
    "execution": {
     "iopub.execute_input": "2023-11-22T15:23:15.808548Z",
     "iopub.status.busy": "2023-11-22T15:23:15.808206Z",
     "iopub.status.idle": "2023-11-22T15:23:15.827206Z",
     "shell.execute_reply": "2023-11-22T15:23:15.826571Z"
    },
    "papermill": {
     "duration": 0.022818,
     "end_time": "2023-11-22T15:23:15.828607",
     "exception": false,
     "start_time": "2023-11-22T15:23:15.805789",
     "status": "completed"
    },
    "tags": []
   },
   "outputs": [],
   "source": [
    "data['ward_name'] = wards.apply(lambda x: x[0] if len(x) > 0 else np.nan).pipe(normalise_leeds_wards)\n",
    "data['ward_code'] = data.ward_name.pipe(ward_name_to_code)\n",
    "data['audience'] = data.actual_audience_size_number_of_participants_in_person\n",
    "cleaned_data = data.loc[:, ['event_name', 'project_name', 'start_date', 'ward_name', 'ward_code', 'audience']]"
   ]
  },
  {
   "cell_type": "code",
   "execution_count": 6,
   "id": "f8688e09",
   "metadata": {
    "execution": {
     "iopub.execute_input": "2023-11-22T15:23:15.833282Z",
     "iopub.status.busy": "2023-11-22T15:23:15.832930Z",
     "iopub.status.idle": "2023-11-22T15:23:15.838594Z",
     "shell.execute_reply": "2023-11-22T15:23:15.838111Z"
    },
    "papermill": {
     "duration": 0.009518,
     "end_time": "2023-11-22T15:23:15.839908",
     "exception": false,
     "start_time": "2023-11-22T15:23:15.830390",
     "status": "completed"
    },
    "tags": []
   },
   "outputs": [],
   "source": [
    "DATA_DIR='../../../data/metrics/community'\n",
    "os.makedirs(DATA_DIR, exist_ok=True)\n",
    "cleaned_data.to_csv(os.path.join(DATA_DIR, 'events.csv'), index=False)"
   ]
  },
  {
   "cell_type": "markdown",
   "id": "508b2500",
   "metadata": {
    "papermill": {
     "duration": 0.001748,
     "end_time": "2023-11-22T15:23:15.843488",
     "exception": false,
     "start_time": "2023-11-22T15:23:15.841740",
     "status": "completed"
    },
    "tags": []
   },
   "source": [
    "Missing or duplicated wards"
   ]
  },
  {
   "cell_type": "code",
   "execution_count": 7,
   "id": "92a33e6f",
   "metadata": {
    "execution": {
     "iopub.execute_input": "2023-11-22T15:23:15.848103Z",
     "iopub.status.busy": "2023-11-22T15:23:15.847710Z",
     "iopub.status.idle": "2023-11-22T15:23:15.860254Z",
     "shell.execute_reply": "2023-11-22T15:23:15.859626Z"
    },
    "papermill": {
     "duration": 0.016331,
     "end_time": "2023-11-22T15:23:15.861640",
     "exception": false,
     "start_time": "2023-11-22T15:23:15.845309",
     "status": "completed"
    },
    "tags": []
   },
   "outputs": [
    {
     "data": {
      "text/html": [
       "<div>\n",
       "<style scoped>\n",
       "    .dataframe tbody tr th:only-of-type {\n",
       "        vertical-align: middle;\n",
       "    }\n",
       "\n",
       "    .dataframe tbody tr th {\n",
       "        vertical-align: top;\n",
       "    }\n",
       "\n",
       "    .dataframe thead th {\n",
       "        text-align: right;\n",
       "    }\n",
       "</style>\n",
       "<table border=\"1\" class=\"dataframe\">\n",
       "  <thead>\n",
       "    <tr style=\"text-align: right;\">\n",
       "      <th></th>\n",
       "      <th>project_name</th>\n",
       "      <th>event_name</th>\n",
       "      <th>start_date</th>\n",
       "      <th>ward_(from_venue)</th>\n",
       "    </tr>\n",
       "  </thead>\n",
       "  <tbody>\n",
       "    <tr>\n",
       "      <th>49</th>\n",
       "      <td>01 - The Awakening</td>\n",
       "      <td>Creation Station - Leeds City Council</td>\n",
       "      <td>2022-11-23</td>\n",
       "      <td>NaN</td>\n",
       "    </tr>\n",
       "    <tr>\n",
       "      <th>50</th>\n",
       "      <td>01 - The Awakening</td>\n",
       "      <td>Creation Station - Leeds City Council</td>\n",
       "      <td>2022-11-24</td>\n",
       "      <td>NaN</td>\n",
       "    </tr>\n",
       "    <tr>\n",
       "      <th>64</th>\n",
       "      <td>01 - The Awakening</td>\n",
       "      <td>Creation Station - Yorkshire Schools Dance Fes...</td>\n",
       "      <td>2022-11-19</td>\n",
       "      <td>NaN</td>\n",
       "    </tr>\n",
       "    <tr>\n",
       "      <th>66</th>\n",
       "      <td>01 - The Awakening</td>\n",
       "      <td>Creation Station: Ballot Engagement</td>\n",
       "      <td>NaT</td>\n",
       "      <td>NaN</td>\n",
       "    </tr>\n",
       "    <tr>\n",
       "      <th>68</th>\n",
       "      <td>01 - The Awakening</td>\n",
       "      <td>Leeds Arts University - Creation Station</td>\n",
       "      <td>NaT</td>\n",
       "      <td>NaN</td>\n",
       "    </tr>\n",
       "    <tr>\n",
       "      <th>...</th>\n",
       "      <td>...</td>\n",
       "      <td>...</td>\n",
       "      <td>...</td>\n",
       "      <td>...</td>\n",
       "    </tr>\n",
       "    <tr>\n",
       "      <th>292</th>\n",
       "      <td>Waking the Artist</td>\n",
       "      <td>The Den Headingley Pack</td>\n",
       "      <td>2023-02-13</td>\n",
       "      <td>NaN</td>\n",
       "    </tr>\n",
       "    <tr>\n",
       "      <th>293</th>\n",
       "      <td>Waking the Artist</td>\n",
       "      <td>The Heritage Cooking Company CIC Pack</td>\n",
       "      <td>2023-02-13</td>\n",
       "      <td>NaN</td>\n",
       "    </tr>\n",
       "    <tr>\n",
       "      <th>294</th>\n",
       "      <td>Waking the Artist</td>\n",
       "      <td>Turning Lives Around Pack</td>\n",
       "      <td>2023-02-22</td>\n",
       "      <td>NaN</td>\n",
       "    </tr>\n",
       "    <tr>\n",
       "      <th>296</th>\n",
       "      <td>Waking the Artist</td>\n",
       "      <td>Wetherby Town Hall Pack</td>\n",
       "      <td>2023-02-25</td>\n",
       "      <td>NaN</td>\n",
       "    </tr>\n",
       "    <tr>\n",
       "      <th>297</th>\n",
       "      <td>Waking the Artist</td>\n",
       "      <td>Who Let The Dads Out Fulneck Moravian Church Pack</td>\n",
       "      <td>2023-02-22</td>\n",
       "      <td>NaN</td>\n",
       "    </tr>\n",
       "  </tbody>\n",
       "</table>\n",
       "<p>76 rows × 4 columns</p>\n",
       "</div>"
      ],
      "text/plain": [
       "           project_name                                         event_name  \\\n",
       "49   01 - The Awakening             Creation Station - Leeds City Council    \n",
       "50   01 - The Awakening             Creation Station - Leeds City Council    \n",
       "64   01 - The Awakening  Creation Station - Yorkshire Schools Dance Fes...   \n",
       "66   01 - The Awakening               Creation Station: Ballot Engagement    \n",
       "68   01 - The Awakening           Leeds Arts University - Creation Station   \n",
       "..                  ...                                                ...   \n",
       "292   Waking the Artist                            The Den Headingley Pack   \n",
       "293   Waking the Artist              The Heritage Cooking Company CIC Pack   \n",
       "294   Waking the Artist                          Turning Lives Around Pack   \n",
       "296   Waking the Artist                            Wetherby Town Hall Pack   \n",
       "297   Waking the Artist  Who Let The Dads Out Fulneck Moravian Church Pack   \n",
       "\n",
       "    start_date ward_(from_venue)  \n",
       "49  2022-11-23               NaN  \n",
       "50  2022-11-24               NaN  \n",
       "64  2022-11-19               NaN  \n",
       "66         NaT               NaN  \n",
       "68         NaT               NaN  \n",
       "..         ...               ...  \n",
       "292 2023-02-13               NaN  \n",
       "293 2023-02-13               NaN  \n",
       "294 2023-02-22               NaN  \n",
       "296 2023-02-25               NaN  \n",
       "297 2023-02-22               NaN  \n",
       "\n",
       "[76 rows x 4 columns]"
      ]
     },
     "execution_count": 7,
     "metadata": {},
     "output_type": "execute_result"
    }
   ],
   "source": [
    "data.loc[wards.apply(len) != 1, ['project_name', 'event_name', 'start_date', 'ward_(from_venue)']]"
   ]
  },
  {
   "cell_type": "markdown",
   "id": "d3a73b46",
   "metadata": {
    "papermill": {
     "duration": 0.001993,
     "end_time": "2023-11-22T15:23:15.866580",
     "exception": false,
     "start_time": "2023-11-22T15:23:15.864587",
     "status": "completed"
    },
    "tags": []
   },
   "source": [
    "Missing audience"
   ]
  },
  {
   "cell_type": "code",
   "execution_count": 8,
   "id": "f2af03c4",
   "metadata": {
    "execution": {
     "iopub.execute_input": "2023-11-22T15:23:15.871641Z",
     "iopub.status.busy": "2023-11-22T15:23:15.871252Z",
     "iopub.status.idle": "2023-11-22T15:23:15.880813Z",
     "shell.execute_reply": "2023-11-22T15:23:15.880217Z"
    },
    "papermill": {
     "duration": 0.013414,
     "end_time": "2023-11-22T15:23:15.882058",
     "exception": false,
     "start_time": "2023-11-22T15:23:15.868644",
     "status": "completed"
    },
    "tags": []
   },
   "outputs": [
    {
     "data": {
      "text/html": [
       "<div>\n",
       "<style scoped>\n",
       "    .dataframe tbody tr th:only-of-type {\n",
       "        vertical-align: middle;\n",
       "    }\n",
       "\n",
       "    .dataframe tbody tr th {\n",
       "        vertical-align: top;\n",
       "    }\n",
       "\n",
       "    .dataframe thead th {\n",
       "        text-align: right;\n",
       "    }\n",
       "</style>\n",
       "<table border=\"1\" class=\"dataframe\">\n",
       "  <thead>\n",
       "    <tr style=\"text-align: right;\">\n",
       "      <th></th>\n",
       "      <th>project_name</th>\n",
       "      <th>event_name</th>\n",
       "      <th>start_date</th>\n",
       "      <th>audience</th>\n",
       "    </tr>\n",
       "  </thead>\n",
       "  <tbody>\n",
       "    <tr>\n",
       "      <th>0</th>\n",
       "      <td>01 - The Awakening</td>\n",
       "      <td>Ballot Facilitated Session - Carr Manor Commun...</td>\n",
       "      <td>2022-11-01</td>\n",
       "      <td>NaN</td>\n",
       "    </tr>\n",
       "    <tr>\n",
       "      <th>1</th>\n",
       "      <td>01 - The Awakening</td>\n",
       "      <td>Ballot Facilitated Session - Chapel Allerton P...</td>\n",
       "      <td>2022-11-07</td>\n",
       "      <td>NaN</td>\n",
       "    </tr>\n",
       "    <tr>\n",
       "      <th>2</th>\n",
       "      <td>01 - The Awakening</td>\n",
       "      <td>Ballot Facilitated Session - Cobden Primary Sc...</td>\n",
       "      <td>2022-11-09</td>\n",
       "      <td>NaN</td>\n",
       "    </tr>\n",
       "    <tr>\n",
       "      <th>3</th>\n",
       "      <td>01 - The Awakening</td>\n",
       "      <td>Ballot Facilitated Session - Cobden Primary Sc...</td>\n",
       "      <td>2022-11-10</td>\n",
       "      <td>NaN</td>\n",
       "    </tr>\n",
       "    <tr>\n",
       "      <th>4</th>\n",
       "      <td>01 - The Awakening</td>\n",
       "      <td>Ballot Facilitated Session - Cobden Primary Sc...</td>\n",
       "      <td>2022-11-18</td>\n",
       "      <td>NaN</td>\n",
       "    </tr>\n",
       "    <tr>\n",
       "      <th>...</th>\n",
       "      <td>...</td>\n",
       "      <td>...</td>\n",
       "      <td>...</td>\n",
       "      <td>...</td>\n",
       "    </tr>\n",
       "    <tr>\n",
       "      <th>247</th>\n",
       "      <td>Hidden Stories</td>\n",
       "      <td>Try Your Hand at Ceramic Sculpture</td>\n",
       "      <td>2023-09-10</td>\n",
       "      <td>NaN</td>\n",
       "    </tr>\n",
       "    <tr>\n",
       "      <th>248</th>\n",
       "      <td>Hidden Stories</td>\n",
       "      <td>Try Your Hand at Ceramic Sculpture</td>\n",
       "      <td>2023-09-16</td>\n",
       "      <td>NaN</td>\n",
       "    </tr>\n",
       "    <tr>\n",
       "      <th>249</th>\n",
       "      <td>Hidden Stories</td>\n",
       "      <td>Try Your Hand at Stone Carving</td>\n",
       "      <td>2023-09-09</td>\n",
       "      <td>NaN</td>\n",
       "    </tr>\n",
       "    <tr>\n",
       "      <th>250</th>\n",
       "      <td>Hidden Stories</td>\n",
       "      <td>Try Your Hand at Stone Carving</td>\n",
       "      <td>2023-09-10</td>\n",
       "      <td>NaN</td>\n",
       "    </tr>\n",
       "    <tr>\n",
       "      <th>251</th>\n",
       "      <td>Hidden Stories</td>\n",
       "      <td>Try Your Hand at Stone Carving</td>\n",
       "      <td>2023-09-16</td>\n",
       "      <td>NaN</td>\n",
       "    </tr>\n",
       "  </tbody>\n",
       "</table>\n",
       "<p>176 rows × 4 columns</p>\n",
       "</div>"
      ],
      "text/plain": [
       "           project_name                                         event_name  \\\n",
       "0    01 - The Awakening  Ballot Facilitated Session - Carr Manor Commun...   \n",
       "1    01 - The Awakening  Ballot Facilitated Session - Chapel Allerton P...   \n",
       "2    01 - The Awakening  Ballot Facilitated Session - Cobden Primary Sc...   \n",
       "3    01 - The Awakening  Ballot Facilitated Session - Cobden Primary Sc...   \n",
       "4    01 - The Awakening  Ballot Facilitated Session - Cobden Primary Sc...   \n",
       "..                  ...                                                ...   \n",
       "247      Hidden Stories                 Try Your Hand at Ceramic Sculpture   \n",
       "248      Hidden Stories                 Try Your Hand at Ceramic Sculpture   \n",
       "249      Hidden Stories                     Try Your Hand at Stone Carving   \n",
       "250      Hidden Stories                     Try Your Hand at Stone Carving   \n",
       "251      Hidden Stories                     Try Your Hand at Stone Carving   \n",
       "\n",
       "    start_date  audience  \n",
       "0   2022-11-01       NaN  \n",
       "1   2022-11-07       NaN  \n",
       "2   2022-11-09       NaN  \n",
       "3   2022-11-10       NaN  \n",
       "4   2022-11-18       NaN  \n",
       "..         ...       ...  \n",
       "247 2023-09-10       NaN  \n",
       "248 2023-09-16       NaN  \n",
       "249 2023-09-09       NaN  \n",
       "250 2023-09-10       NaN  \n",
       "251 2023-09-16       NaN  \n",
       "\n",
       "[176 rows x 4 columns]"
      ]
     },
     "execution_count": 8,
     "metadata": {},
     "output_type": "execute_result"
    }
   ],
   "source": [
    "data.loc[data.audience.isna(), ['project_name', 'event_name', 'start_date', 'audience']]"
   ]
  },
  {
   "cell_type": "code",
   "execution_count": null,
   "id": "16b8db1f",
   "metadata": {
    "papermill": {
     "duration": 0.002327,
     "end_time": "2023-11-22T15:23:15.886763",
     "exception": false,
     "start_time": "2023-11-22T15:23:15.884436",
     "status": "completed"
    },
    "tags": []
   },
   "outputs": [],
   "source": []
  },
  {
   "cell_type": "code",
   "execution_count": null,
   "id": "7c8b2525",
   "metadata": {
    "papermill": {
     "duration": 0.00219,
     "end_time": "2023-11-22T15:23:15.891224",
     "exception": false,
     "start_time": "2023-11-22T15:23:15.889034",
     "status": "completed"
    },
    "tags": []
   },
   "outputs": [],
   "source": []
  }
 ],
 "metadata": {
  "kernelspec": {
   "display_name": "leeds-2023-YZF5GfJv",
   "language": "python",
   "name": "python3"
  },
  "language_info": {
   "codemirror_mode": {
    "name": "ipython",
    "version": 3
   },
   "file_extension": ".py",
   "mimetype": "text/x-python",
   "name": "python",
   "nbconvert_exporter": "python",
   "pygments_lexer": "ipython3",
   "version": "3.10.13"
  },
  "papermill": {
   "default_parameters": {},
   "duration": 8.678714,
   "end_time": "2023-11-22T15:23:16.108892",
   "environment_variables": {},
   "exception": null,
   "input_path": "transform.ipynb",
   "output_path": "../../../working/output/community-transform.ipynb",
   "parameters": {},
   "start_time": "2023-11-22T15:23:07.430178",
   "version": "2.4.0"
  }
 },
 "nbformat": 4,
 "nbformat_minor": 5
}