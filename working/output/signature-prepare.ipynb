{
 "cells": [
  {
   "cell_type": "code",
   "execution_count": 1,
   "id": "d7516ab3",
   "metadata": {
    "execution": {
     "iopub.execute_input": "2023-07-27T19:15:11.826760Z",
     "iopub.status.busy": "2023-07-27T19:15:11.826078Z",
     "iopub.status.idle": "2023-07-27T19:15:21.589748Z",
     "shell.execute_reply": "2023-07-27T19:15:21.589059Z"
    },
    "papermill": {
     "duration": 9.769825,
     "end_time": "2023-07-27T19:15:21.591819",
     "exception": false,
     "start_time": "2023-07-27T19:15:11.821994",
     "status": "completed"
    },
    "tags": []
   },
   "outputs": [],
   "source": [
    "import os\n",
    "import pandas as pd\n",
    "from events import load_event_data, get_first_ward, normalise_ward"
   ]
  },
  {
   "cell_type": "code",
   "execution_count": 2,
   "id": "8c86d923",
   "metadata": {
    "execution": {
     "iopub.execute_input": "2023-07-27T19:15:21.598327Z",
     "iopub.status.busy": "2023-07-27T19:15:21.597884Z",
     "iopub.status.idle": "2023-07-27T19:15:21.601749Z",
     "shell.execute_reply": "2023-07-27T19:15:21.601079Z"
    },
    "papermill": {
     "duration": 0.008766,
     "end_time": "2023-07-27T19:15:21.603382",
     "exception": false,
     "start_time": "2023-07-27T19:15:21.594616",
     "status": "completed"
    },
    "tags": []
   },
   "outputs": [],
   "source": [
    "latest_date = pd.Timestamp.today().ceil('D')"
   ]
  },
  {
   "cell_type": "code",
   "execution_count": 3,
   "id": "8b9eabb2",
   "metadata": {
    "execution": {
     "iopub.execute_input": "2023-07-27T19:15:21.608546Z",
     "iopub.status.busy": "2023-07-27T19:15:21.608117Z",
     "iopub.status.idle": "2023-07-27T19:15:21.623008Z",
     "shell.execute_reply": "2023-07-27T19:15:21.622429Z"
    },
    "papermill": {
     "duration": 0.019208,
     "end_time": "2023-07-27T19:15:21.624505",
     "exception": false,
     "start_time": "2023-07-27T19:15:21.605297",
     "status": "completed"
    },
    "tags": []
   },
   "outputs": [],
   "source": [
    "tickets = pd.read_csv('../../../../data/metrics/events/tickets/orders.csv', parse_dates=['created_at', 'event_date'])\n",
    "tickets = tickets[tickets.event_date <= latest_date]"
   ]
  },
  {
   "cell_type": "code",
   "execution_count": 4,
   "id": "c10d8fd1",
   "metadata": {
    "execution": {
     "iopub.execute_input": "2023-07-27T19:15:21.629633Z",
     "iopub.status.busy": "2023-07-27T19:15:21.629216Z",
     "iopub.status.idle": "2023-07-27T19:15:21.778279Z",
     "shell.execute_reply": "2023-07-27T19:15:21.777553Z"
    },
    "papermill": {
     "duration": 0.153902,
     "end_time": "2023-07-27T19:15:21.780351",
     "exception": false,
     "start_time": "2023-07-27T19:15:21.626449",
     "status": "completed"
    },
    "tags": []
   },
   "outputs": [],
   "source": [
    "events = load_event_data()\n",
    "\n",
    "events = pd.concat([\n",
    "  events,\n",
    "  events.pipe(get_first_ward).pipe(normalise_ward).fillna('UNKNOWN'),\n",
    "  pd.Series(\n",
    "      events.actual_audience_size_number_of_participants_in_person + events.actual_audience_size_number_of_participants_online,\n",
    "      name='attendances'\n",
    "  )\n",
    "], axis=1).rename(columns={\n",
    "    'start_date': 'date'\n",
    "}).loc[:, ['ward_code', 'date', 'event_unique_identifier', 'attendances']]"
   ]
  },
  {
   "cell_type": "code",
   "execution_count": 5,
   "id": "3f20e031",
   "metadata": {
    "execution": {
     "iopub.execute_input": "2023-07-27T19:15:21.787133Z",
     "iopub.status.busy": "2023-07-27T19:15:21.786530Z",
     "iopub.status.idle": "2023-07-27T19:15:21.789972Z",
     "shell.execute_reply": "2023-07-27T19:15:21.789340Z"
    },
    "papermill": {
     "duration": 0.008559,
     "end_time": "2023-07-27T19:15:21.791493",
     "exception": false,
     "start_time": "2023-07-27T19:15:21.782934",
     "status": "completed"
    },
    "tags": []
   },
   "outputs": [],
   "source": [
    "OUTPUT_DIR='../../../../docs/metrics/events/signature/_data/'\n",
    "os.makedirs(OUTPUT_DIR, exist_ok=True)"
   ]
  },
  {
   "cell_type": "markdown",
   "id": "5aae2efa",
   "metadata": {
    "papermill": {
     "duration": 0.002073,
     "end_time": "2023-07-27T19:15:21.795547",
     "exception": false,
     "start_time": "2023-07-27T19:15:21.793474",
     "status": "completed"
    },
    "tags": []
   },
   "source": [
    "Events CSVs"
   ]
  },
  {
   "cell_type": "code",
   "execution_count": 6,
   "id": "f7f7c59f",
   "metadata": {
    "execution": {
     "iopub.execute_input": "2023-07-27T19:15:21.800819Z",
     "iopub.status.busy": "2023-07-27T19:15:21.800290Z",
     "iopub.status.idle": "2023-07-27T19:15:21.808143Z",
     "shell.execute_reply": "2023-07-27T19:15:21.807583Z"
    },
    "papermill": {
     "duration": 0.011973,
     "end_time": "2023-07-27T19:15:21.809514",
     "exception": false,
     "start_time": "2023-07-27T19:15:21.797541",
     "status": "completed"
    },
    "tags": []
   },
   "outputs": [],
   "source": [
    "pd.DataFrame({\n",
    "  'events': events.groupby('ward_code').event_unique_identifier.count(),\n",
    "  'attendances': events.groupby('ward_code').attendances.sum().astype(int),\n",
    "}).to_csv(os.path.join(OUTPUT_DIR, 'events_by_ward.csv'))\n"
   ]
  },
  {
   "cell_type": "code",
   "execution_count": 7,
   "id": "b521c557",
   "metadata": {
    "execution": {
     "iopub.execute_input": "2023-07-27T19:15:21.814772Z",
     "iopub.status.busy": "2023-07-27T19:15:21.814237Z",
     "iopub.status.idle": "2023-07-27T19:15:21.825817Z",
     "shell.execute_reply": "2023-07-27T19:15:21.825249Z"
    },
    "papermill": {
     "duration": 0.015724,
     "end_time": "2023-07-27T19:15:21.827268",
     "exception": false,
     "start_time": "2023-07-27T19:15:21.811544",
     "status": "completed"
    },
    "tags": []
   },
   "outputs": [],
   "source": [
    "pd.DataFrame({\n",
    "  'events': events.groupby('date').event_unique_identifier.count(),\n",
    "  'attendances': events.groupby('date').attendances.sum().astype(int),\n",
    "}).resample('M').sum().astype(int).to_csv(os.path.join(OUTPUT_DIR, 'events_by_date.csv'))"
   ]
  },
  {
   "cell_type": "markdown",
   "id": "2766cdae",
   "metadata": {
    "papermill": {
     "duration": 0.002153,
     "end_time": "2023-07-27T19:15:21.831530",
     "exception": false,
     "start_time": "2023-07-27T19:15:21.829377",
     "status": "completed"
    },
    "tags": []
   },
   "source": [
    "Tickets CSV"
   ]
  },
  {
   "cell_type": "code",
   "execution_count": 8,
   "id": "d3992ca5",
   "metadata": {
    "execution": {
     "iopub.execute_input": "2023-07-27T19:15:21.836806Z",
     "iopub.status.busy": "2023-07-27T19:15:21.836380Z",
     "iopub.status.idle": "2023-07-27T19:15:21.843056Z",
     "shell.execute_reply": "2023-07-27T19:15:21.842497Z"
    },
    "papermill": {
     "duration": 0.010994,
     "end_time": "2023-07-27T19:15:21.844577",
     "exception": false,
     "start_time": "2023-07-27T19:15:21.833583",
     "status": "completed"
    },
    "tags": []
   },
   "outputs": [],
   "source": [
    "pd.DataFrame({\n",
    "  'orders': tickets.groupby('ward_code').number_of_tickets.count(),\n",
    "  'tickets': tickets.groupby('ward_code').number_of_tickets.sum().astype(int),\n",
    "}).to_csv(os.path.join(OUTPUT_DIR, 'tickets_by_ward.csv'))"
   ]
  },
  {
   "cell_type": "code",
   "execution_count": 9,
   "id": "34243b01",
   "metadata": {
    "execution": {
     "iopub.execute_input": "2023-07-27T19:15:21.849881Z",
     "iopub.status.busy": "2023-07-27T19:15:21.849477Z",
     "iopub.status.idle": "2023-07-27T19:15:21.857341Z",
     "shell.execute_reply": "2023-07-27T19:15:21.856780Z"
    },
    "papermill": {
     "duration": 0.012119,
     "end_time": "2023-07-27T19:15:21.858761",
     "exception": false,
     "start_time": "2023-07-27T19:15:21.846642",
     "status": "completed"
    },
    "tags": []
   },
   "outputs": [],
   "source": [
    "pd.DataFrame({\n",
    "  'orders': tickets.groupby('event_date').number_of_tickets.count(),\n",
    "  'tickets': tickets.groupby('event_date').number_of_tickets.sum().astype(int),\n",
    "}).resample('M').sum().to_csv(os.path.join(OUTPUT_DIR, 'tickets_by_event_date.csv'))"
   ]
  },
  {
   "cell_type": "code",
   "execution_count": 10,
   "id": "1bd3cdcf",
   "metadata": {
    "execution": {
     "iopub.execute_input": "2023-07-27T19:15:21.865383Z",
     "iopub.status.busy": "2023-07-27T19:15:21.864960Z",
     "iopub.status.idle": "2023-07-27T19:15:21.870260Z",
     "shell.execute_reply": "2023-07-27T19:15:21.869609Z"
    },
    "papermill": {
     "duration": 0.010641,
     "end_time": "2023-07-27T19:15:21.871722",
     "exception": false,
     "start_time": "2023-07-27T19:15:21.861081",
     "status": "completed"
    },
    "tags": []
   },
   "outputs": [],
   "source": [
    "pd.Series({\n",
    "    'total_events': events.event_unique_identifier.count(),\n",
    "    'total_attendances': events.attendances.count(),\n",
    "    'first_event': events.date.min(),\n",
    "    'latest_event': events.date.max(),\n",
    "    'total_ticket_orders_for_events_to_date': tickets.number_of_tickets.count(),\n",
    "    'total_tickets_sold_for_events_to_date': tickets.number_of_tickets.sum(),\n",
    "}).to_json(os.path.join(OUTPUT_DIR, 'headlines.json'), indent=2)"
   ]
  },
  {
   "cell_type": "code",
   "execution_count": null,
   "id": "9ff3a9aa",
   "metadata": {
    "papermill": {
     "duration": 0.00217,
     "end_time": "2023-07-27T19:15:21.876105",
     "exception": false,
     "start_time": "2023-07-27T19:15:21.873935",
     "status": "completed"
    },
    "tags": []
   },
   "outputs": [],
   "source": []
  }
 ],
 "metadata": {
  "kernelspec": {
   "display_name": "leeds-2023-YZF5GfJv",
   "language": "python",
   "name": "python3"
  },
  "language_info": {
   "codemirror_mode": {
    "name": "ipython",
    "version": 3
   },
   "file_extension": ".py",
   "mimetype": "text/x-python",
   "name": "python",
   "nbconvert_exporter": "python",
   "pygments_lexer": "ipython3",
   "version": "3.10.6"
  },
  "papermill": {
   "default_parameters": {},
   "duration": 11.78549,
   "end_time": "2023-07-27T19:15:22.195002",
   "environment_variables": {},
   "exception": null,
   "input_path": "prepare.ipynb",
   "output_path": "../../../../working/output/signature-prepare.ipynb",
   "parameters": {},
   "start_time": "2023-07-27T19:15:10.409512",
   "version": "2.4.0"
  }
 },
 "nbformat": 4,
 "nbformat_minor": 5
}