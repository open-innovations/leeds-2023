{
 "cells": [
  {
   "cell_type": "code",
   "execution_count": 1,
   "id": "db62229f",
   "metadata": {
    "execution": {
     "iopub.execute_input": "2023-08-31T12:16:07.497772Z",
     "iopub.status.busy": "2023-08-31T12:16:07.497158Z",
     "iopub.status.idle": "2023-08-31T12:16:17.788189Z",
     "shell.execute_reply": "2023-08-31T12:16:17.787456Z"
    },
    "papermill": {
     "duration": 10.298287,
     "end_time": "2023-08-31T12:16:17.790720",
     "exception": false,
     "start_time": "2023-08-31T12:16:07.492433",
     "status": "completed"
    },
    "tags": []
   },
   "outputs": [],
   "source": [
    "import os\n",
    "import pandas as pd\n",
    "from events import load_event_data, get_first_ward, normalise_ward"
   ]
  },
  {
   "cell_type": "code",
   "execution_count": 2,
   "id": "ec54c96d",
   "metadata": {
    "execution": {
     "iopub.execute_input": "2023-08-31T12:16:17.796948Z",
     "iopub.status.busy": "2023-08-31T12:16:17.796426Z",
     "iopub.status.idle": "2023-08-31T12:16:17.800423Z",
     "shell.execute_reply": "2023-08-31T12:16:17.799747Z"
    },
    "papermill": {
     "duration": 0.008923,
     "end_time": "2023-08-31T12:16:17.802107",
     "exception": false,
     "start_time": "2023-08-31T12:16:17.793184",
     "status": "completed"
    },
    "tags": []
   },
   "outputs": [],
   "source": [
    "latest_date = pd.Timestamp.today().ceil('D')"
   ]
  },
  {
   "cell_type": "code",
   "execution_count": 3,
   "id": "38fbf8d1",
   "metadata": {
    "execution": {
     "iopub.execute_input": "2023-08-31T12:16:17.807550Z",
     "iopub.status.busy": "2023-08-31T12:16:17.807022Z",
     "iopub.status.idle": "2023-08-31T12:16:17.824423Z",
     "shell.execute_reply": "2023-08-31T12:16:17.823873Z"
    },
    "papermill": {
     "duration": 0.021869,
     "end_time": "2023-08-31T12:16:17.825982",
     "exception": false,
     "start_time": "2023-08-31T12:16:17.804113",
     "status": "completed"
    },
    "tags": []
   },
   "outputs": [],
   "source": [
    "tickets = pd.read_csv('../../../../data/metrics/events/tickets/orders.csv', parse_dates=['created_at', 'event_date'])\n",
    "tickets = tickets[tickets.event_date <= latest_date]"
   ]
  },
  {
   "cell_type": "code",
   "execution_count": 4,
   "id": "06dc8d40",
   "metadata": {
    "execution": {
     "iopub.execute_input": "2023-08-31T12:16:17.831103Z",
     "iopub.status.busy": "2023-08-31T12:16:17.830875Z",
     "iopub.status.idle": "2023-08-31T12:16:18.024658Z",
     "shell.execute_reply": "2023-08-31T12:16:18.023995Z"
    },
    "papermill": {
     "duration": 0.198497,
     "end_time": "2023-08-31T12:16:18.026542",
     "exception": false,
     "start_time": "2023-08-31T12:16:17.828045",
     "status": "completed"
    },
    "tags": []
   },
   "outputs": [],
   "source": [
    "events = load_event_data()\n",
    "\n",
    "events = pd.concat([\n",
    "  events,\n",
    "  events.pipe(get_first_ward).pipe(normalise_ward).fillna('UNKNOWN'),\n",
    "  pd.Series(\n",
    "      events.actual_audience_size_number_of_participants_in_person + events.actual_audience_size_number_of_participants_online,\n",
    "      name='attendances'\n",
    "  )\n",
    "], axis=1).rename(columns={\n",
    "    'start_date': 'date'\n",
    "}).loc[:, ['ward_code', 'date', 'event_unique_identifier', 'attendances']]"
   ]
  },
  {
   "cell_type": "code",
   "execution_count": 5,
   "id": "7e3bb816",
   "metadata": {
    "execution": {
     "iopub.execute_input": "2023-08-31T12:16:18.033161Z",
     "iopub.status.busy": "2023-08-31T12:16:18.032491Z",
     "iopub.status.idle": "2023-08-31T12:16:18.035991Z",
     "shell.execute_reply": "2023-08-31T12:16:18.035428Z"
    },
    "papermill": {
     "duration": 0.007984,
     "end_time": "2023-08-31T12:16:18.037328",
     "exception": false,
     "start_time": "2023-08-31T12:16:18.029344",
     "status": "completed"
    },
    "tags": []
   },
   "outputs": [],
   "source": [
    "OUTPUT_DIR='../../../../docs/metrics/events/signature/_data/'\n",
    "os.makedirs(OUTPUT_DIR, exist_ok=True)"
   ]
  },
  {
   "cell_type": "markdown",
   "id": "3a589445",
   "metadata": {
    "papermill": {
     "duration": 0.002175,
     "end_time": "2023-08-31T12:16:18.041615",
     "exception": false,
     "start_time": "2023-08-31T12:16:18.039440",
     "status": "completed"
    },
    "tags": []
   },
   "source": [
    "Events CSVs"
   ]
  },
  {
   "cell_type": "code",
   "execution_count": 6,
   "id": "19ee559f",
   "metadata": {
    "execution": {
     "iopub.execute_input": "2023-08-31T12:16:18.047083Z",
     "iopub.status.busy": "2023-08-31T12:16:18.046631Z",
     "iopub.status.idle": "2023-08-31T12:16:18.053403Z",
     "shell.execute_reply": "2023-08-31T12:16:18.052813Z"
    },
    "papermill": {
     "duration": 0.011166,
     "end_time": "2023-08-31T12:16:18.054863",
     "exception": false,
     "start_time": "2023-08-31T12:16:18.043697",
     "status": "completed"
    },
    "tags": []
   },
   "outputs": [],
   "source": [
    "pd.DataFrame({\n",
    "  'events': events.groupby('ward_code').event_unique_identifier.count(),\n",
    "  'attendances': events.groupby('ward_code').attendances.sum().astype(int),\n",
    "}).to_csv(os.path.join(OUTPUT_DIR, 'events_by_ward.csv'))\n"
   ]
  },
  {
   "cell_type": "code",
   "execution_count": 7,
   "id": "62744beb",
   "metadata": {
    "execution": {
     "iopub.execute_input": "2023-08-31T12:16:18.060516Z",
     "iopub.status.busy": "2023-08-31T12:16:18.059900Z",
     "iopub.status.idle": "2023-08-31T12:16:18.070439Z",
     "shell.execute_reply": "2023-08-31T12:16:18.069881Z"
    },
    "papermill": {
     "duration": 0.01491,
     "end_time": "2023-08-31T12:16:18.071823",
     "exception": false,
     "start_time": "2023-08-31T12:16:18.056913",
     "status": "completed"
    },
    "tags": []
   },
   "outputs": [],
   "source": [
    "pd.DataFrame({\n",
    "  'events': events.groupby('date').event_unique_identifier.count(),\n",
    "  'attendances': events.groupby('date').attendances.sum().astype(int),\n",
    "}).resample('M').sum().astype(int).to_csv(os.path.join(OUTPUT_DIR, 'events_by_date.csv'))"
   ]
  },
  {
   "cell_type": "markdown",
   "id": "d2197dcb",
   "metadata": {
    "papermill": {
     "duration": 0.002222,
     "end_time": "2023-08-31T12:16:18.076250",
     "exception": false,
     "start_time": "2023-08-31T12:16:18.074028",
     "status": "completed"
    },
    "tags": []
   },
   "source": [
    "Tickets CSV"
   ]
  },
  {
   "cell_type": "code",
   "execution_count": 8,
   "id": "4d635cde",
   "metadata": {
    "execution": {
     "iopub.execute_input": "2023-08-31T12:16:18.081849Z",
     "iopub.status.busy": "2023-08-31T12:16:18.081467Z",
     "iopub.status.idle": "2023-08-31T12:16:18.088248Z",
     "shell.execute_reply": "2023-08-31T12:16:18.087732Z"
    },
    "papermill": {
     "duration": 0.011188,
     "end_time": "2023-08-31T12:16:18.089573",
     "exception": false,
     "start_time": "2023-08-31T12:16:18.078385",
     "status": "completed"
    },
    "tags": []
   },
   "outputs": [],
   "source": [
    "pd.DataFrame({\n",
    "  'orders': tickets.groupby('ward_code').number_of_tickets.count(),\n",
    "  'tickets': tickets.groupby('ward_code').number_of_tickets.sum().astype(int),\n",
    "}).to_csv(os.path.join(OUTPUT_DIR, 'tickets_by_ward.csv'))"
   ]
  },
  {
   "cell_type": "code",
   "execution_count": 9,
   "id": "4df9c574",
   "metadata": {
    "execution": {
     "iopub.execute_input": "2023-08-31T12:16:18.095246Z",
     "iopub.status.busy": "2023-08-31T12:16:18.094654Z",
     "iopub.status.idle": "2023-08-31T12:16:18.102509Z",
     "shell.execute_reply": "2023-08-31T12:16:18.101967Z"
    },
    "papermill": {
     "duration": 0.012103,
     "end_time": "2023-08-31T12:16:18.103855",
     "exception": false,
     "start_time": "2023-08-31T12:16:18.091752",
     "status": "completed"
    },
    "tags": []
   },
   "outputs": [],
   "source": [
    "pd.DataFrame({\n",
    "  'orders': tickets.groupby('event_date').number_of_tickets.count(),\n",
    "  'tickets': tickets.groupby('event_date').number_of_tickets.sum().astype(int),\n",
    "}).resample('M').sum().to_csv(os.path.join(OUTPUT_DIR, 'tickets_by_event_date.csv'))"
   ]
  },
  {
   "cell_type": "code",
   "execution_count": 10,
   "id": "588a31de",
   "metadata": {
    "execution": {
     "iopub.execute_input": "2023-08-31T12:16:18.110569Z",
     "iopub.status.busy": "2023-08-31T12:16:18.110146Z",
     "iopub.status.idle": "2023-08-31T12:16:18.115262Z",
     "shell.execute_reply": "2023-08-31T12:16:18.114764Z"
    },
    "papermill": {
     "duration": 0.01568,
     "end_time": "2023-08-31T12:16:18.121742",
     "exception": false,
     "start_time": "2023-08-31T12:16:18.106062",
     "status": "completed"
    },
    "tags": []
   },
   "outputs": [],
   "source": [
    "pd.Series({\n",
    "    'total_events': events.event_unique_identifier.count(),\n",
    "    'total_attendances': events.attendances.count(),\n",
    "    'first_event': events.date.min(),\n",
    "    'latest_event': events.date.max(),\n",
    "    'total_ticket_orders_for_events_to_date': tickets.number_of_tickets.count(),\n",
    "    'total_tickets_sold_for_events_to_date': tickets.number_of_tickets.sum(),\n",
    "}).to_json(os.path.join(OUTPUT_DIR, 'headlines.json'), indent=2)"
   ]
  },
  {
   "cell_type": "code",
   "execution_count": null,
   "id": "827322d4",
   "metadata": {
    "papermill": {
     "duration": 0.002212,
     "end_time": "2023-08-31T12:16:18.126211",
     "exception": false,
     "start_time": "2023-08-31T12:16:18.123999",
     "status": "completed"
    },
    "tags": []
   },
   "outputs": [],
   "source": []
  }
 ],
 "metadata": {
  "kernelspec": {
   "display_name": "leeds-2023-YZF5GfJv",
   "language": "python",
   "name": "python3"
  },
  "language_info": {
   "codemirror_mode": {
    "name": "ipython",
    "version": 3
   },
   "file_extension": ".py",
   "mimetype": "text/x-python",
   "name": "python",
   "nbconvert_exporter": "python",
   "pygments_lexer": "ipython3",
   "version": "3.10.12"
  },
  "papermill": {
   "default_parameters": {},
   "duration": 12.466961,
   "end_time": "2023-08-31T12:16:18.545913",
   "environment_variables": {},
   "exception": null,
   "input_path": "prepare.ipynb",
   "output_path": "../../../../working/output/signature-prepare.ipynb",
   "parameters": {},
   "start_time": "2023-08-31T12:16:06.078952",
   "version": "2.4.0"
  }
 },
 "nbformat": 4,
 "nbformat_minor": 5
}