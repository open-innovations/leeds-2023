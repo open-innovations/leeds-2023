{
 "cells": [
  {
   "cell_type": "code",
   "execution_count": 1,
   "id": "7b1f9b34",
   "metadata": {
    "execution": {
     "iopub.execute_input": "2023-09-08T09:02:10.440490Z",
     "iopub.status.busy": "2023-09-08T09:02:10.439825Z",
     "iopub.status.idle": "2023-09-08T09:02:19.687988Z",
     "shell.execute_reply": "2023-09-08T09:02:19.686900Z"
    },
    "papermill": {
     "duration": 9.25432,
     "end_time": "2023-09-08T09:02:19.690221",
     "exception": false,
     "start_time": "2023-09-08T09:02:10.435901",
     "status": "completed"
    },
    "tags": []
   },
   "outputs": [],
   "source": [
    "import os\n",
    "import pandas as pd\n",
    "from events import load_event_data, get_first_ward, normalise_ward"
   ]
  },
  {
   "cell_type": "code",
   "execution_count": 2,
   "id": "9f129d24",
   "metadata": {
    "execution": {
     "iopub.execute_input": "2023-09-08T09:02:19.696946Z",
     "iopub.status.busy": "2023-09-08T09:02:19.696327Z",
     "iopub.status.idle": "2023-09-08T09:02:19.701073Z",
     "shell.execute_reply": "2023-09-08T09:02:19.700462Z"
    },
    "papermill": {
     "duration": 0.009377,
     "end_time": "2023-09-08T09:02:19.702573",
     "exception": false,
     "start_time": "2023-09-08T09:02:19.693196",
     "status": "completed"
    },
    "tags": []
   },
   "outputs": [],
   "source": [
    "latest_date = pd.Timestamp.today().ceil('D')"
   ]
  },
  {
   "cell_type": "code",
   "execution_count": 3,
   "id": "4f720523",
   "metadata": {
    "execution": {
     "iopub.execute_input": "2023-09-08T09:02:19.708353Z",
     "iopub.status.busy": "2023-09-08T09:02:19.707789Z",
     "iopub.status.idle": "2023-09-08T09:02:19.726288Z",
     "shell.execute_reply": "2023-09-08T09:02:19.725708Z"
    },
    "papermill": {
     "duration": 0.022997,
     "end_time": "2023-09-08T09:02:19.727820",
     "exception": false,
     "start_time": "2023-09-08T09:02:19.704823",
     "status": "completed"
    },
    "tags": []
   },
   "outputs": [],
   "source": [
    "tickets = pd.read_csv('../../../../data/metrics/events/tickets/orders.csv', parse_dates=['created_at', 'event_date'])\n",
    "tickets = tickets[tickets.event_date <= latest_date]"
   ]
  },
  {
   "cell_type": "code",
   "execution_count": 4,
   "id": "0df93ab5",
   "metadata": {
    "execution": {
     "iopub.execute_input": "2023-09-08T09:02:19.733715Z",
     "iopub.status.busy": "2023-09-08T09:02:19.733117Z",
     "iopub.status.idle": "2023-09-08T09:02:19.957529Z",
     "shell.execute_reply": "2023-09-08T09:02:19.956871Z"
    },
    "papermill": {
     "duration": 0.229145,
     "end_time": "2023-09-08T09:02:19.959275",
     "exception": false,
     "start_time": "2023-09-08T09:02:19.730130",
     "status": "completed"
    },
    "tags": []
   },
   "outputs": [],
   "source": [
    "events = load_event_data()\n",
    "\n",
    "events = pd.concat([\n",
    "  events,\n",
    "  events.pipe(get_first_ward).pipe(normalise_ward).fillna('UNKNOWN'),\n",
    "  pd.Series(\n",
    "      events.actual_audience_size_number_of_participants_in_person + events.actual_audience_size_number_of_participants_online,\n",
    "      name='attendances'\n",
    "  )\n",
    "], axis=1).rename(columns={\n",
    "    'start_date': 'date'\n",
    "}).loc[:, ['ward_code', 'date', 'event_unique_identifier', 'attendances']]"
   ]
  },
  {
   "cell_type": "code",
   "execution_count": 5,
   "id": "208b46d5",
   "metadata": {
    "execution": {
     "iopub.execute_input": "2023-09-08T09:02:19.966001Z",
     "iopub.status.busy": "2023-09-08T09:02:19.965332Z",
     "iopub.status.idle": "2023-09-08T09:02:19.969340Z",
     "shell.execute_reply": "2023-09-08T09:02:19.968233Z"
    },
    "papermill": {
     "duration": 0.00888,
     "end_time": "2023-09-08T09:02:19.970777",
     "exception": false,
     "start_time": "2023-09-08T09:02:19.961897",
     "status": "completed"
    },
    "tags": []
   },
   "outputs": [],
   "source": [
    "OUTPUT_DIR='../../../../docs/metrics/events/signature/_data/'\n",
    "os.makedirs(OUTPUT_DIR, exist_ok=True)"
   ]
  },
  {
   "cell_type": "markdown",
   "id": "b052104d",
   "metadata": {
    "papermill": {
     "duration": 0.002347,
     "end_time": "2023-09-08T09:02:19.975488",
     "exception": false,
     "start_time": "2023-09-08T09:02:19.973141",
     "status": "completed"
    },
    "tags": []
   },
   "source": [
    "Events CSVs"
   ]
  },
  {
   "cell_type": "code",
   "execution_count": 6,
   "id": "2c72fd74",
   "metadata": {
    "execution": {
     "iopub.execute_input": "2023-09-08T09:02:19.981350Z",
     "iopub.status.busy": "2023-09-08T09:02:19.980914Z",
     "iopub.status.idle": "2023-09-08T09:02:19.987607Z",
     "shell.execute_reply": "2023-09-08T09:02:19.987011Z"
    },
    "papermill": {
     "duration": 0.011364,
     "end_time": "2023-09-08T09:02:19.989213",
     "exception": false,
     "start_time": "2023-09-08T09:02:19.977849",
     "status": "completed"
    },
    "tags": []
   },
   "outputs": [],
   "source": [
    "pd.DataFrame({\n",
    "  'events': events.groupby('ward_code').event_unique_identifier.count(),\n",
    "  'attendances': events.groupby('ward_code').attendances.sum().astype(int),\n",
    "}).to_csv(os.path.join(OUTPUT_DIR, 'events_by_ward.csv'))\n"
   ]
  },
  {
   "cell_type": "code",
   "execution_count": 7,
   "id": "2033dff2",
   "metadata": {
    "execution": {
     "iopub.execute_input": "2023-09-08T09:02:19.995072Z",
     "iopub.status.busy": "2023-09-08T09:02:19.994660Z",
     "iopub.status.idle": "2023-09-08T09:02:20.004915Z",
     "shell.execute_reply": "2023-09-08T09:02:20.004322Z"
    },
    "papermill": {
     "duration": 0.014922,
     "end_time": "2023-09-08T09:02:20.006506",
     "exception": false,
     "start_time": "2023-09-08T09:02:19.991584",
     "status": "completed"
    },
    "tags": []
   },
   "outputs": [],
   "source": [
    "pd.DataFrame({\n",
    "  'events': events.groupby('date').event_unique_identifier.count(),\n",
    "  'attendances': events.groupby('date').attendances.sum().astype(int),\n",
    "}).resample('M').sum().astype(int).to_csv(os.path.join(OUTPUT_DIR, 'events_by_date.csv'))"
   ]
  },
  {
   "cell_type": "markdown",
   "id": "e5ad681c",
   "metadata": {
    "papermill": {
     "duration": 0.002432,
     "end_time": "2023-09-08T09:02:20.011356",
     "exception": false,
     "start_time": "2023-09-08T09:02:20.008924",
     "status": "completed"
    },
    "tags": []
   },
   "source": [
    "Tickets CSV"
   ]
  },
  {
   "cell_type": "code",
   "execution_count": 8,
   "id": "021a3a7e",
   "metadata": {
    "execution": {
     "iopub.execute_input": "2023-09-08T09:02:20.017350Z",
     "iopub.status.busy": "2023-09-08T09:02:20.016801Z",
     "iopub.status.idle": "2023-09-08T09:02:20.024623Z",
     "shell.execute_reply": "2023-09-08T09:02:20.024046Z"
    },
    "papermill": {
     "duration": 0.012399,
     "end_time": "2023-09-08T09:02:20.026144",
     "exception": false,
     "start_time": "2023-09-08T09:02:20.013745",
     "status": "completed"
    },
    "tags": []
   },
   "outputs": [],
   "source": [
    "pd.DataFrame({\n",
    "  'orders': tickets.groupby('ward_code').number_of_tickets.count(),\n",
    "  'tickets': tickets.groupby('ward_code').number_of_tickets.sum().astype(int),\n",
    "}).to_csv(os.path.join(OUTPUT_DIR, 'tickets_by_ward.csv'))"
   ]
  },
  {
   "cell_type": "code",
   "execution_count": 9,
   "id": "27c9cf05",
   "metadata": {
    "execution": {
     "iopub.execute_input": "2023-09-08T09:02:20.032003Z",
     "iopub.status.busy": "2023-09-08T09:02:20.031794Z",
     "iopub.status.idle": "2023-09-08T09:02:20.039290Z",
     "shell.execute_reply": "2023-09-08T09:02:20.038703Z"
    },
    "papermill": {
     "duration": 0.01225,
     "end_time": "2023-09-08T09:02:20.040837",
     "exception": false,
     "start_time": "2023-09-08T09:02:20.028587",
     "status": "completed"
    },
    "tags": []
   },
   "outputs": [],
   "source": [
    "pd.DataFrame({\n",
    "  'orders': tickets.groupby('event_date').number_of_tickets.count(),\n",
    "  'tickets': tickets.groupby('event_date').number_of_tickets.sum().astype(int),\n",
    "}).resample('M').sum().to_csv(os.path.join(OUTPUT_DIR, 'tickets_by_event_date.csv'))"
   ]
  },
  {
   "cell_type": "code",
   "execution_count": 10,
   "id": "29b1626d",
   "metadata": {
    "execution": {
     "iopub.execute_input": "2023-09-08T09:02:20.047604Z",
     "iopub.status.busy": "2023-09-08T09:02:20.047386Z",
     "iopub.status.idle": "2023-09-08T09:02:20.052408Z",
     "shell.execute_reply": "2023-09-08T09:02:20.051789Z"
    },
    "papermill": {
     "duration": 0.010624,
     "end_time": "2023-09-08T09:02:20.053928",
     "exception": false,
     "start_time": "2023-09-08T09:02:20.043304",
     "status": "completed"
    },
    "tags": []
   },
   "outputs": [],
   "source": [
    "pd.Series({\n",
    "    'total_events': events.event_unique_identifier.count(),\n",
    "    'total_attendances': events.attendances.count(),\n",
    "    'first_event': events.date.min(),\n",
    "    'latest_event': events.date.max(),\n",
    "    'total_ticket_orders_for_events_to_date': tickets.number_of_tickets.count(),\n",
    "    'total_tickets_sold_for_events_to_date': tickets.number_of_tickets.sum(),\n",
    "}).to_json(os.path.join(OUTPUT_DIR, 'headlines.json'), indent=2)"
   ]
  },
  {
   "cell_type": "code",
   "execution_count": null,
   "id": "a106599b",
   "metadata": {
    "papermill": {
     "duration": 0.002442,
     "end_time": "2023-09-08T09:02:20.058880",
     "exception": false,
     "start_time": "2023-09-08T09:02:20.056438",
     "status": "completed"
    },
    "tags": []
   },
   "outputs": [],
   "source": []
  }
 ],
 "metadata": {
  "kernelspec": {
   "display_name": "leeds-2023-YZF5GfJv",
   "language": "python",
   "name": "python3"
  },
  "language_info": {
   "codemirror_mode": {
    "name": "ipython",
    "version": 3
   },
   "file_extension": ".py",
   "mimetype": "text/x-python",
   "name": "python",
   "nbconvert_exporter": "python",
   "pygments_lexer": "ipython3",
   "version": "3.10.13"
  },
  "papermill": {
   "default_parameters": {},
   "duration": 11.285433,
   "end_time": "2023-09-08T09:02:20.379223",
   "environment_variables": {},
   "exception": null,
   "input_path": "prepare.ipynb",
   "output_path": "../../../../working/output/signature-prepare.ipynb",
   "parameters": {},
   "start_time": "2023-09-08T09:02:09.093790",
   "version": "2.4.0"
  }
 },
 "nbformat": 4,
 "nbformat_minor": 5
}