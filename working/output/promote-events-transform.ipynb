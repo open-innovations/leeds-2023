{
 "cells": [
  {
   "cell_type": "code",
   "execution_count": 1,
   "id": "7ac9bb69",
   "metadata": {
    "execution": {
     "iopub.execute_input": "2023-08-21T23:39:41.860227Z",
     "iopub.status.busy": "2023-08-21T23:39:41.859259Z",
     "iopub.status.idle": "2023-08-21T23:39:42.202537Z",
     "shell.execute_reply": "2023-08-21T23:39:42.201529Z"
    },
    "papermill": {
     "duration": 0.349445,
     "end_time": "2023-08-21T23:39:42.205018",
     "exception": false,
     "start_time": "2023-08-21T23:39:41.855573",
     "status": "completed"
    },
    "tags": []
   },
   "outputs": [],
   "source": [
    "import os\n",
    "import pandas as pd"
   ]
  },
  {
   "cell_type": "code",
   "execution_count": 2,
   "id": "c5bb8f49",
   "metadata": {
    "execution": {
     "iopub.execute_input": "2023-08-21T23:39:42.210407Z",
     "iopub.status.busy": "2023-08-21T23:39:42.209977Z",
     "iopub.status.idle": "2023-08-21T23:39:42.214536Z",
     "shell.execute_reply": "2023-08-21T23:39:42.213631Z"
    },
    "papermill": {
     "duration": 0.009964,
     "end_time": "2023-08-21T23:39:42.216951",
     "exception": false,
     "start_time": "2023-08-21T23:39:42.206987",
     "status": "completed"
    },
    "tags": []
   },
   "outputs": [],
   "source": [
    "EVENTS_RAW_DATA = '../../../working/metrics/promote-events/events.csv'\n",
    "DATA_DIR = '../../../data/metrics/events/promote-events/'\n",
    "EVENTS_DATA = os.path.join(DATA_DIR, 'events.csv')"
   ]
  },
  {
   "cell_type": "code",
   "execution_count": 3,
   "id": "7e241ef2",
   "metadata": {
    "execution": {
     "iopub.execute_input": "2023-08-21T23:39:42.221589Z",
     "iopub.status.busy": "2023-08-21T23:39:42.221274Z",
     "iopub.status.idle": "2023-08-21T23:39:42.227157Z",
     "shell.execute_reply": "2023-08-21T23:39:42.224692Z"
    },
    "papermill": {
     "duration": 0.010617,
     "end_time": "2023-08-21T23:39:42.229304",
     "exception": false,
     "start_time": "2023-08-21T23:39:42.218687",
     "status": "completed"
    },
    "tags": []
   },
   "outputs": [],
   "source": [
    "columns = {\n",
    "    'id': 'id',\n",
    "    'name': 'name',\n",
    "    'locationName': 'location',\n",
    "    'cardPrice': 'card_price',\n",
    "    'timeslots': 'time',\n",
    "    # 'displayOnWebsite': 'display',\n",
    "    'Stage': 'stage',\n",
    "}"
   ]
  },
  {
   "cell_type": "code",
   "execution_count": 4,
   "id": "8a3d310c",
   "metadata": {
    "execution": {
     "iopub.execute_input": "2023-08-21T23:39:42.233819Z",
     "iopub.status.busy": "2023-08-21T23:39:42.233511Z",
     "iopub.status.idle": "2023-08-21T23:39:42.248533Z",
     "shell.execute_reply": "2023-08-21T23:39:42.247471Z"
    },
    "papermill": {
     "duration": 0.019781,
     "end_time": "2023-08-21T23:39:42.250726",
     "exception": false,
     "start_time": "2023-08-21T23:39:42.230945",
     "status": "completed"
    },
    "tags": []
   },
   "outputs": [],
   "source": [
    "data = pd.read_csv(EVENTS_RAW_DATA)[columns.keys()].rename(columns=columns)\n",
    "data.time = pd.to_datetime(data.time, errors='coerce')"
   ]
  },
  {
   "cell_type": "code",
   "execution_count": 5,
   "id": "41db471f",
   "metadata": {
    "execution": {
     "iopub.execute_input": "2023-08-21T23:39:42.255419Z",
     "iopub.status.busy": "2023-08-21T23:39:42.255126Z",
     "iopub.status.idle": "2023-08-21T23:39:42.267814Z",
     "shell.execute_reply": "2023-08-21T23:39:42.266926Z"
    },
    "papermill": {
     "duration": 0.01747,
     "end_time": "2023-08-21T23:39:42.269908",
     "exception": false,
     "start_time": "2023-08-21T23:39:42.252438",
     "status": "completed"
    },
    "tags": []
   },
   "outputs": [],
   "source": [
    "data.to_csv(os.path.join(DATA_DIR, 'events.csv'), index=False)"
   ]
  }
 ],
 "metadata": {
  "kernelspec": {
   "display_name": "leeds-2023-YZF5GfJv",
   "language": "python",
   "name": "python3"
  },
  "language_info": {
   "codemirror_mode": {
    "name": "ipython",
    "version": 3
   },
   "file_extension": ".py",
   "mimetype": "text/x-python",
   "name": "python",
   "nbconvert_exporter": "python",
   "pygments_lexer": "ipython3",
   "version": "3.10.12"
  },
  "papermill": {
   "default_parameters": {},
   "duration": 2.309831,
   "end_time": "2023-08-21T23:39:42.589978",
   "environment_variables": {},
   "exception": null,
   "input_path": "transform.ipynb",
   "output_path": "../../../working/output/promote-events-transform.ipynb",
   "parameters": {},
   "start_time": "2023-08-21T23:39:40.280147",
   "version": "2.4.0"
  }
 },
 "nbformat": 4,
 "nbformat_minor": 5
}