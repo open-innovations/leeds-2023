{
 "cells": [
  {
   "cell_type": "code",
   "execution_count": 1,
   "id": "182e90b5",
   "metadata": {
    "execution": {
     "iopub.execute_input": "2023-09-13T23:40:56.067660Z",
     "iopub.status.busy": "2023-09-13T23:40:56.066930Z",
     "iopub.status.idle": "2023-09-13T23:40:56.456128Z",
     "shell.execute_reply": "2023-09-13T23:40:56.454830Z"
    },
    "papermill": {
     "duration": 0.397153,
     "end_time": "2023-09-13T23:40:56.459825",
     "exception": false,
     "start_time": "2023-09-13T23:40:56.062672",
     "status": "completed"
    },
    "tags": []
   },
   "outputs": [],
   "source": [
    "import os\n",
    "import pandas as pd"
   ]
  },
  {
   "cell_type": "code",
   "execution_count": 2,
   "id": "3e39b965",
   "metadata": {
    "execution": {
     "iopub.execute_input": "2023-09-13T23:40:56.469596Z",
     "iopub.status.busy": "2023-09-13T23:40:56.468771Z",
     "iopub.status.idle": "2023-09-13T23:40:56.474117Z",
     "shell.execute_reply": "2023-09-13T23:40:56.472961Z"
    },
    "papermill": {
     "duration": 0.014282,
     "end_time": "2023-09-13T23:40:56.476463",
     "exception": false,
     "start_time": "2023-09-13T23:40:56.462181",
     "status": "completed"
    },
    "tags": []
   },
   "outputs": [],
   "source": [
    "EVENTS_RAW_DATA = '../../../working/metrics/promote-events/events.csv'\n",
    "DATA_DIR = '../../../data/metrics/events/promote-events/'\n",
    "EVENTS_DATA = os.path.join(DATA_DIR, 'events.csv')"
   ]
  },
  {
   "cell_type": "code",
   "execution_count": 3,
   "id": "6edb69f9",
   "metadata": {
    "execution": {
     "iopub.execute_input": "2023-09-13T23:40:56.482124Z",
     "iopub.status.busy": "2023-09-13T23:40:56.481491Z",
     "iopub.status.idle": "2023-09-13T23:40:56.486747Z",
     "shell.execute_reply": "2023-09-13T23:40:56.485783Z"
    },
    "papermill": {
     "duration": 0.011287,
     "end_time": "2023-09-13T23:40:56.489715",
     "exception": false,
     "start_time": "2023-09-13T23:40:56.478428",
     "status": "completed"
    },
    "tags": []
   },
   "outputs": [],
   "source": [
    "columns = {\n",
    "    'id': 'id',\n",
    "    'name': 'name',\n",
    "    'locationName': 'location',\n",
    "    'cardPrice': 'card_price',\n",
    "    'timeslots': 'time',\n",
    "    # 'displayOnWebsite': 'display',\n",
    "    'Stage': 'stage',\n",
    "}"
   ]
  },
  {
   "cell_type": "code",
   "execution_count": 4,
   "id": "18131f34",
   "metadata": {
    "execution": {
     "iopub.execute_input": "2023-09-13T23:40:56.494995Z",
     "iopub.status.busy": "2023-09-13T23:40:56.494654Z",
     "iopub.status.idle": "2023-09-13T23:40:56.510402Z",
     "shell.execute_reply": "2023-09-13T23:40:56.509486Z"
    },
    "papermill": {
     "duration": 0.021101,
     "end_time": "2023-09-13T23:40:56.512828",
     "exception": false,
     "start_time": "2023-09-13T23:40:56.491727",
     "status": "completed"
    },
    "tags": []
   },
   "outputs": [],
   "source": [
    "data = pd.read_csv(EVENTS_RAW_DATA)[columns.keys()].rename(columns=columns)\n",
    "data.time = pd.to_datetime(data.time, errors='coerce')"
   ]
  },
  {
   "cell_type": "code",
   "execution_count": 5,
   "id": "99a45251",
   "metadata": {
    "execution": {
     "iopub.execute_input": "2023-09-13T23:40:56.519156Z",
     "iopub.status.busy": "2023-09-13T23:40:56.518421Z",
     "iopub.status.idle": "2023-09-13T23:40:56.527106Z",
     "shell.execute_reply": "2023-09-13T23:40:56.526184Z"
    },
    "papermill": {
     "duration": 0.014715,
     "end_time": "2023-09-13T23:40:56.529601",
     "exception": false,
     "start_time": "2023-09-13T23:40:56.514886",
     "status": "completed"
    },
    "tags": []
   },
   "outputs": [],
   "source": [
    "data.to_csv(os.path.join(DATA_DIR, 'events.csv'), index=False)"
   ]
  }
 ],
 "metadata": {
  "kernelspec": {
   "display_name": "leeds-2023-YZF5GfJv",
   "language": "python",
   "name": "python3"
  },
  "language_info": {
   "codemirror_mode": {
    "name": "ipython",
    "version": 3
   },
   "file_extension": ".py",
   "mimetype": "text/x-python",
   "name": "python",
   "nbconvert_exporter": "python",
   "pygments_lexer": "ipython3",
   "version": "3.10.13"
  },
  "papermill": {
   "default_parameters": {},
   "duration": 2.785014,
   "end_time": "2023-09-13T23:40:56.951088",
   "environment_variables": {},
   "exception": null,
   "input_path": "transform.ipynb",
   "output_path": "../../../working/output/promote-events-transform.ipynb",
   "parameters": {},
   "start_time": "2023-09-13T23:40:54.166074",
   "version": "2.4.0"
  }
 },
 "nbformat": 4,
 "nbformat_minor": 5
}