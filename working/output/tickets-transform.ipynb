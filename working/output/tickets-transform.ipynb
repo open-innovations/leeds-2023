{
 "cells": [
  {
   "cell_type": "code",
   "execution_count": 1,
   "id": "6baef847",
   "metadata": {
    "execution": {
     "iopub.execute_input": "2023-12-27T23:39:18.409305Z",
     "iopub.status.busy": "2023-12-27T23:39:18.409079Z",
     "iopub.status.idle": "2023-12-27T23:39:18.647410Z",
     "shell.execute_reply": "2023-12-27T23:39:18.646704Z"
    },
    "papermill": {
     "duration": 0.244104,
     "end_time": "2023-12-27T23:39:18.649233",
     "exception": false,
     "start_time": "2023-12-27T23:39:18.405129",
     "status": "completed"
    },
    "tags": []
   },
   "outputs": [],
   "source": [
    "import sys\n",
    "from pathlib import Path\n",
    "\n",
    "import pandas as pd\n",
    "\n",
    "TOP_DIR = Path('../../../..').resolve()\n",
    "\n",
    "if str(TOP_DIR) not in sys.path: sys.path.append(str(TOP_DIR))"
   ]
  },
  {
   "cell_type": "code",
   "execution_count": 2,
   "id": "7de70fef",
   "metadata": {
    "execution": {
     "iopub.execute_input": "2023-12-27T23:39:18.655681Z",
     "iopub.status.busy": "2023-12-27T23:39:18.655145Z",
     "iopub.status.idle": "2023-12-27T23:39:25.644670Z",
     "shell.execute_reply": "2023-12-27T23:39:25.644044Z"
    },
    "papermill": {
     "duration": 6.994302,
     "end_time": "2023-12-27T23:39:25.646252",
     "exception": false,
     "start_time": "2023-12-27T23:39:18.651950",
     "status": "completed"
    },
    "tags": []
   },
   "outputs": [],
   "source": [
    "from lib.util.geo import postcode_formatter, postcode_to_ward_code"
   ]
  },
  {
   "cell_type": "code",
   "execution_count": 3,
   "id": "a11428e9",
   "metadata": {
    "execution": {
     "iopub.execute_input": "2023-12-27T23:39:25.652379Z",
     "iopub.status.busy": "2023-12-27T23:39:25.652037Z",
     "iopub.status.idle": "2023-12-27T23:39:25.674161Z",
     "shell.execute_reply": "2023-12-27T23:39:25.673501Z"
    },
    "papermill": {
     "duration": 0.026725,
     "end_time": "2023-12-27T23:39:25.675630",
     "exception": false,
     "start_time": "2023-12-27T23:39:25.648905",
     "status": "completed"
    },
    "tags": []
   },
   "outputs": [],
   "source": [
    "ticket_data = pd.read_csv(\n",
    "    '../../../../working/metrics/ticketing/orders.csv',\n",
    "    parse_dates=['created_at', 'event_date'],\n",
    "    usecols=[\n",
    "        'created_at',\n",
    "        'event_id',\n",
    "        'event_name',\n",
    "        'event_date',\n",
    "        'event_time',\n",
    "        'number_of_tickets',\n",
    "        'postcode_from_question',\n",
    "        'postcode_from_address',\n",
    "        'status',\n",
    "    ]\n",
    ")"
   ]
  },
  {
   "cell_type": "code",
   "execution_count": 4,
   "id": "8bc1dc56",
   "metadata": {
    "execution": {
     "iopub.execute_input": "2023-12-27T23:39:25.681708Z",
     "iopub.status.busy": "2023-12-27T23:39:25.681250Z",
     "iopub.status.idle": "2023-12-27T23:39:25.689791Z",
     "shell.execute_reply": "2023-12-27T23:39:25.689186Z"
    },
    "papermill": {
     "duration": 0.012931,
     "end_time": "2023-12-27T23:39:25.691113",
     "exception": false,
     "start_time": "2023-12-27T23:39:25.678182",
     "status": "completed"
    },
    "tags": []
   },
   "outputs": [
    {
     "name": "stdout",
     "output_type": "stream",
     "text": [
      "<class 'pandas.core.frame.DataFrame'>\n",
      "RangeIndex: 7200 entries, 0 to 7199\n",
      "Data columns (total 9 columns):\n",
      " #   Column                  Non-Null Count  Dtype         \n",
      "---  ------                  --------------  -----         \n",
      " 0   postcode_from_question  6726 non-null   object        \n",
      " 1   postcode_from_address   871 non-null    object        \n",
      " 2   created_at              7200 non-null   datetime64[ns]\n",
      " 3   event_id                7200 non-null   object        \n",
      " 4   event_name              7200 non-null   object        \n",
      " 5   event_date              7200 non-null   datetime64[ns]\n",
      " 6   event_time              7200 non-null   object        \n",
      " 7   number_of_tickets       7200 non-null   int64         \n",
      " 8   status                  7200 non-null   object        \n",
      "dtypes: datetime64[ns](2), int64(1), object(6)\n",
      "memory usage: 506.4+ KB\n"
     ]
    }
   ],
   "source": [
    "ticket_data.info()"
   ]
  },
  {
   "cell_type": "code",
   "execution_count": 5,
   "id": "08ca1670",
   "metadata": {
    "execution": {
     "iopub.execute_input": "2023-12-27T23:39:25.697265Z",
     "iopub.status.busy": "2023-12-27T23:39:25.696876Z",
     "iopub.status.idle": "2023-12-27T23:39:25.701629Z",
     "shell.execute_reply": "2023-12-27T23:39:25.701038Z"
    },
    "papermill": {
     "duration": 0.009311,
     "end_time": "2023-12-27T23:39:25.702989",
     "exception": false,
     "start_time": "2023-12-27T23:39:25.693678",
     "status": "completed"
    },
    "tags": []
   },
   "outputs": [],
   "source": [
    "completed_orders = (\n",
    "    ticket_data.loc[\n",
    "        ~ticket_data.status.isin(['cancelled']),\n",
    "        ticket_data.columns\n",
    "    ]\n",
    ")"
   ]
  },
  {
   "cell_type": "code",
   "execution_count": 6,
   "id": "d53c3736",
   "metadata": {
    "execution": {
     "iopub.execute_input": "2023-12-27T23:39:25.709771Z",
     "iopub.status.busy": "2023-12-27T23:39:25.709368Z",
     "iopub.status.idle": "2023-12-27T23:39:26.574718Z",
     "shell.execute_reply": "2023-12-27T23:39:26.574071Z"
    },
    "papermill": {
     "duration": 0.870885,
     "end_time": "2023-12-27T23:39:26.576381",
     "exception": false,
     "start_time": "2023-12-27T23:39:25.705496",
     "status": "completed"
    },
    "tags": []
   },
   "outputs": [],
   "source": [
    "completed_orders['ward_code'] = (\n",
    "    completed_orders\n",
    "        .loc[:, ['postcode_from_question', 'postcode_from_address']]\n",
    "        .bfill()\n",
    "        .iloc[:, 0]\n",
    "        .pipe(postcode_formatter)\n",
    "        .map(postcode_to_ward_code)\n",
    ")"
   ]
  },
  {
   "cell_type": "markdown",
   "id": "81815b77",
   "metadata": {
    "papermill": {
     "duration": 0.002643,
     "end_time": "2023-12-27T23:39:26.582087",
     "exception": false,
     "start_time": "2023-12-27T23:39:26.579444",
     "status": "completed"
    },
    "tags": []
   },
   "source": [
    "Get the events data"
   ]
  },
  {
   "cell_type": "code",
   "execution_count": 7,
   "id": "4b093608",
   "metadata": {
    "execution": {
     "iopub.execute_input": "2023-12-27T23:39:26.588414Z",
     "iopub.status.busy": "2023-12-27T23:39:26.588019Z",
     "iopub.status.idle": "2023-12-27T23:39:26.604128Z",
     "shell.execute_reply": "2023-12-27T23:39:26.603505Z"
    },
    "papermill": {
     "duration": 0.020797,
     "end_time": "2023-12-27T23:39:26.605450",
     "exception": false,
     "start_time": "2023-12-27T23:39:26.584653",
     "status": "completed"
    },
    "tags": []
   },
   "outputs": [],
   "source": [
    "def prepare_events(data: pd.DataFrame):\n",
    "    data = data.rename(columns={\n",
    "        'Project name': 'project_name',\n",
    "        'Event type': 'event_type',\n",
    "        'Ticket Tailor ID': 'ticket_tailor_id'\n",
    "    })\n",
    "    data['public_event'] = data.event_type.str.contains('Public Event')\n",
    "    data['ticket_tailor_id'] = data.ticket_tailor_id.str.split(\n",
    "        pat=r'[\\s,]+', regex=True)\n",
    "    data = data.drop(columns=['event_type'])\n",
    "    data = data.explode('ticket_tailor_id')\n",
    "    data = data.loc[data.ticket_tailor_id.notna() & (data.ticket_tailor_id != '')]\n",
    "    return data\n",
    "\n",
    "\n",
    "events = pd.read_csv(\n",
    "    '../../../../working/metrics/events/all.csv',\n",
    "    usecols=[\n",
    "        'Project name',\n",
    "        'Event type',\n",
    "        'Ticket Tailor ID'\n",
    "    ]\n",
    ").pipe(prepare_events)"
   ]
  },
  {
   "cell_type": "markdown",
   "id": "c99c6208",
   "metadata": {
    "papermill": {
     "duration": 0.002544,
     "end_time": "2023-12-27T23:39:26.610587",
     "exception": false,
     "start_time": "2023-12-27T23:39:26.608043",
     "status": "completed"
    },
    "tags": []
   },
   "source": [
    "Duplicated ticket tailor IDs"
   ]
  },
  {
   "cell_type": "code",
   "execution_count": 8,
   "id": "9c0602ae",
   "metadata": {
    "execution": {
     "iopub.execute_input": "2023-12-27T23:39:26.616985Z",
     "iopub.status.busy": "2023-12-27T23:39:26.616467Z",
     "iopub.status.idle": "2023-12-27T23:39:26.627340Z",
     "shell.execute_reply": "2023-12-27T23:39:26.626730Z"
    },
    "papermill": {
     "duration": 0.015504,
     "end_time": "2023-12-27T23:39:26.628644",
     "exception": false,
     "start_time": "2023-12-27T23:39:26.613140",
     "status": "completed"
    },
    "tags": []
   },
   "outputs": [
    {
     "data": {
      "text/html": [
       "<div>\n",
       "<style scoped>\n",
       "    .dataframe tbody tr th:only-of-type {\n",
       "        vertical-align: middle;\n",
       "    }\n",
       "\n",
       "    .dataframe tbody tr th {\n",
       "        vertical-align: top;\n",
       "    }\n",
       "\n",
       "    .dataframe thead th {\n",
       "        text-align: right;\n",
       "    }\n",
       "</style>\n",
       "<table border=\"1\" class=\"dataframe\">\n",
       "  <thead>\n",
       "    <tr style=\"text-align: right;\">\n",
       "      <th></th>\n",
       "      <th>project_name</th>\n",
       "      <th>ticket_tailor_id</th>\n",
       "      <th>public_event</th>\n",
       "    </tr>\n",
       "  </thead>\n",
       "  <tbody>\n",
       "    <tr>\n",
       "      <th>127</th>\n",
       "      <td>11 - All That Lives</td>\n",
       "      <td>985872</td>\n",
       "      <td>True</td>\n",
       "    </tr>\n",
       "    <tr>\n",
       "      <th>147</th>\n",
       "      <td>09 - Smeaton300: Moon Palace East Leeds Observ...</td>\n",
       "      <td>ev_2918127</td>\n",
       "      <td>True</td>\n",
       "    </tr>\n",
       "    <tr>\n",
       "      <th>173</th>\n",
       "      <td>11 - All That Lives</td>\n",
       "      <td>985872</td>\n",
       "      <td>True</td>\n",
       "    </tr>\n",
       "    <tr>\n",
       "      <th>272</th>\n",
       "      <td>Creative Learning S3</td>\n",
       "      <td>ev_3073624</td>\n",
       "      <td>False</td>\n",
       "    </tr>\n",
       "    <tr>\n",
       "      <th>332</th>\n",
       "      <td>11 - All That Lives</td>\n",
       "      <td>985872</td>\n",
       "      <td>True</td>\n",
       "    </tr>\n",
       "    <tr>\n",
       "      <th>651</th>\n",
       "      <td>11 - All That Lives</td>\n",
       "      <td>985872</td>\n",
       "      <td>True</td>\n",
       "    </tr>\n",
       "    <tr>\n",
       "      <th>948</th>\n",
       "      <td>07 - Children's Day</td>\n",
       "      <td>ev_2963290</td>\n",
       "      <td>NaN</td>\n",
       "    </tr>\n",
       "    <tr>\n",
       "      <th>948</th>\n",
       "      <td>07 - Children's Day</td>\n",
       "      <td>ev_2963290</td>\n",
       "      <td>NaN</td>\n",
       "    </tr>\n",
       "    <tr>\n",
       "      <th>948</th>\n",
       "      <td>07 - Children's Day</td>\n",
       "      <td>ev_2963295</td>\n",
       "      <td>NaN</td>\n",
       "    </tr>\n",
       "    <tr>\n",
       "      <th>948</th>\n",
       "      <td>07 - Children's Day</td>\n",
       "      <td>ev_2963297</td>\n",
       "      <td>NaN</td>\n",
       "    </tr>\n",
       "    <tr>\n",
       "      <th>948</th>\n",
       "      <td>07 - Children's Day</td>\n",
       "      <td>ev_2963295</td>\n",
       "      <td>NaN</td>\n",
       "    </tr>\n",
       "    <tr>\n",
       "      <th>948</th>\n",
       "      <td>07 - Children's Day</td>\n",
       "      <td>ev_2963296</td>\n",
       "      <td>NaN</td>\n",
       "    </tr>\n",
       "    <tr>\n",
       "      <th>948</th>\n",
       "      <td>07 - Children's Day</td>\n",
       "      <td>ev_2963296</td>\n",
       "      <td>NaN</td>\n",
       "    </tr>\n",
       "    <tr>\n",
       "      <th>948</th>\n",
       "      <td>07 - Children's Day</td>\n",
       "      <td>ev_2963297</td>\n",
       "      <td>NaN</td>\n",
       "    </tr>\n",
       "    <tr>\n",
       "      <th>992</th>\n",
       "      <td>11 - All That Lives</td>\n",
       "      <td>985872</td>\n",
       "      <td>True</td>\n",
       "    </tr>\n",
       "    <tr>\n",
       "      <th>1172</th>\n",
       "      <td>09 - Smeaton300: Moon Palace East Leeds Observ...</td>\n",
       "      <td>ev_2918127</td>\n",
       "      <td>True</td>\n",
       "    </tr>\n",
       "    <tr>\n",
       "      <th>1462</th>\n",
       "      <td>07 - Children's Day</td>\n",
       "      <td>ev_2963290</td>\n",
       "      <td>True</td>\n",
       "    </tr>\n",
       "    <tr>\n",
       "      <th>1462</th>\n",
       "      <td>07 - Children's Day</td>\n",
       "      <td>ev_2963295</td>\n",
       "      <td>True</td>\n",
       "    </tr>\n",
       "    <tr>\n",
       "      <th>1462</th>\n",
       "      <td>07 - Children's Day</td>\n",
       "      <td>ev_2963296</td>\n",
       "      <td>True</td>\n",
       "    </tr>\n",
       "    <tr>\n",
       "      <th>1462</th>\n",
       "      <td>07 - Children's Day</td>\n",
       "      <td>ev_2963297</td>\n",
       "      <td>True</td>\n",
       "    </tr>\n",
       "    <tr>\n",
       "      <th>1482</th>\n",
       "      <td>09 - Smeaton300: Moon Palace East Leeds Observ...</td>\n",
       "      <td>ev_2918127</td>\n",
       "      <td>True</td>\n",
       "    </tr>\n",
       "    <tr>\n",
       "      <th>1567</th>\n",
       "      <td>Creative Learning S3</td>\n",
       "      <td>ev_3073624</td>\n",
       "      <td>False</td>\n",
       "    </tr>\n",
       "  </tbody>\n",
       "</table>\n",
       "</div>"
      ],
      "text/plain": [
       "                                           project_name ticket_tailor_id  \\\n",
       "127                                 11 - All That Lives           985872   \n",
       "147   09 - Smeaton300: Moon Palace East Leeds Observ...       ev_2918127   \n",
       "173                                 11 - All That Lives           985872   \n",
       "272                                Creative Learning S3       ev_3073624   \n",
       "332                                 11 - All That Lives           985872   \n",
       "651                                 11 - All That Lives           985872   \n",
       "948                                 07 - Children's Day       ev_2963290   \n",
       "948                                 07 - Children's Day       ev_2963290   \n",
       "948                                 07 - Children's Day       ev_2963295   \n",
       "948                                 07 - Children's Day       ev_2963297   \n",
       "948                                 07 - Children's Day       ev_2963295   \n",
       "948                                 07 - Children's Day       ev_2963296   \n",
       "948                                 07 - Children's Day       ev_2963296   \n",
       "948                                 07 - Children's Day       ev_2963297   \n",
       "992                                 11 - All That Lives           985872   \n",
       "1172  09 - Smeaton300: Moon Palace East Leeds Observ...       ev_2918127   \n",
       "1462                                07 - Children's Day       ev_2963290   \n",
       "1462                                07 - Children's Day       ev_2963295   \n",
       "1462                                07 - Children's Day       ev_2963296   \n",
       "1462                                07 - Children's Day       ev_2963297   \n",
       "1482  09 - Smeaton300: Moon Palace East Leeds Observ...       ev_2918127   \n",
       "1567                               Creative Learning S3       ev_3073624   \n",
       "\n",
       "     public_event  \n",
       "127          True  \n",
       "147          True  \n",
       "173          True  \n",
       "272         False  \n",
       "332          True  \n",
       "651          True  \n",
       "948           NaN  \n",
       "948           NaN  \n",
       "948           NaN  \n",
       "948           NaN  \n",
       "948           NaN  \n",
       "948           NaN  \n",
       "948           NaN  \n",
       "948           NaN  \n",
       "992          True  \n",
       "1172         True  \n",
       "1462         True  \n",
       "1462         True  \n",
       "1462         True  \n",
       "1462         True  \n",
       "1482         True  \n",
       "1567        False  "
      ]
     },
     "execution_count": 8,
     "metadata": {},
     "output_type": "execute_result"
    }
   ],
   "source": [
    "events[\n",
    "  events.ticket_tailor_id.isin(\n",
    "    events.ticket_tailor_id[\n",
    "      events.ticket_tailor_id.duplicated()\n",
    "    ].to_list()\n",
    "  )\n",
    "]"
   ]
  },
  {
   "cell_type": "code",
   "execution_count": 9,
   "id": "e6af6e2c",
   "metadata": {
    "execution": {
     "iopub.execute_input": "2023-12-27T23:39:26.635426Z",
     "iopub.status.busy": "2023-12-27T23:39:26.635060Z",
     "iopub.status.idle": "2023-12-27T23:39:26.639008Z",
     "shell.execute_reply": "2023-12-27T23:39:26.638398Z"
    },
    "papermill": {
     "duration": 0.008864,
     "end_time": "2023-12-27T23:39:26.640383",
     "exception": false,
     "start_time": "2023-12-27T23:39:26.631519",
     "status": "completed"
    },
    "tags": []
   },
   "outputs": [
    {
     "data": {
      "text/plain": [
       "6992"
      ]
     },
     "execution_count": 9,
     "metadata": {},
     "output_type": "execute_result"
    }
   ],
   "source": [
    "len(completed_orders)"
   ]
  },
  {
   "cell_type": "code",
   "execution_count": 10,
   "id": "04e4ceaa",
   "metadata": {
    "execution": {
     "iopub.execute_input": "2023-12-27T23:39:26.647340Z",
     "iopub.status.busy": "2023-12-27T23:39:26.647011Z",
     "iopub.status.idle": "2023-12-27T23:39:26.661745Z",
     "shell.execute_reply": "2023-12-27T23:39:26.661090Z"
    },
    "papermill": {
     "duration": 0.019927,
     "end_time": "2023-12-27T23:39:26.663306",
     "exception": false,
     "start_time": "2023-12-27T23:39:26.643379",
     "status": "completed"
    },
    "tags": []
   },
   "outputs": [],
   "source": [
    "completed_orders = completed_orders.merge(\n",
    "    events.drop_duplicates().set_index('ticket_tailor_id'),\n",
    "    left_on='event_id',\n",
    "    right_index=True,\n",
    "    how='left'\n",
    ")\n",
    "completed_orders['event_datetime'] = pd.to_datetime(completed_orders.event_date.astype(str) + 'T' + completed_orders.event_time)\n"
   ]
  },
  {
   "cell_type": "code",
   "execution_count": 11,
   "id": "fd08ce86",
   "metadata": {
    "execution": {
     "iopub.execute_input": "2023-12-27T23:39:26.670355Z",
     "iopub.status.busy": "2023-12-27T23:39:26.669989Z",
     "iopub.status.idle": "2023-12-27T23:39:26.674043Z",
     "shell.execute_reply": "2023-12-27T23:39:26.673414Z"
    },
    "papermill": {
     "duration": 0.008987,
     "end_time": "2023-12-27T23:39:26.675383",
     "exception": false,
     "start_time": "2023-12-27T23:39:26.666396",
     "status": "completed"
    },
    "tags": []
   },
   "outputs": [
    {
     "data": {
      "text/plain": [
       "7000"
      ]
     },
     "execution_count": 11,
     "metadata": {},
     "output_type": "execute_result"
    }
   ],
   "source": [
    "len(completed_orders)"
   ]
  },
  {
   "cell_type": "code",
   "execution_count": 12,
   "id": "42a751e2",
   "metadata": {
    "execution": {
     "iopub.execute_input": "2023-12-27T23:39:26.682528Z",
     "iopub.status.busy": "2023-12-27T23:39:26.682193Z",
     "iopub.status.idle": "2023-12-27T23:39:26.685302Z",
     "shell.execute_reply": "2023-12-27T23:39:26.684677Z"
    },
    "papermill": {
     "duration": 0.008043,
     "end_time": "2023-12-27T23:39:26.686533",
     "exception": false,
     "start_time": "2023-12-27T23:39:26.678490",
     "status": "completed"
    },
    "tags": []
   },
   "outputs": [],
   "source": [
    "OUTPUT_DIR = TOP_DIR.joinpath('data/metrics/events/tickets/')\n",
    "OUTPUT_DIR.mkdir(parents=True, exist_ok=True)"
   ]
  },
  {
   "cell_type": "code",
   "execution_count": 13,
   "id": "ba0b9f93",
   "metadata": {
    "execution": {
     "iopub.execute_input": "2023-12-27T23:39:26.693930Z",
     "iopub.status.busy": "2023-12-27T23:39:26.693567Z",
     "iopub.status.idle": "2023-12-27T23:39:26.729046Z",
     "shell.execute_reply": "2023-12-27T23:39:26.728550Z"
    },
    "papermill": {
     "duration": 0.040618,
     "end_time": "2023-12-27T23:39:26.730363",
     "exception": false,
     "start_time": "2023-12-27T23:39:26.689745",
     "status": "completed"
    },
    "tags": []
   },
   "outputs": [],
   "source": [
    "completed_orders.loc[:, [\n",
    "    'created_at',\n",
    "    'event_id',\n",
    "    'event_date',\n",
    "    'event_datetime',\n",
    "    'number_of_tickets',\n",
    "    'ward_code',\n",
    "    'project_name',\n",
    "    'public_event',\n",
    "]].sort_values(['created_at', 'event_id']).to_csv(\n",
    "  OUTPUT_DIR.joinpath('orders.csv'),\n",
    "  index=False\n",
    ")"
   ]
  },
  {
   "cell_type": "code",
   "execution_count": 14,
   "id": "0567a6f1",
   "metadata": {
    "execution": {
     "iopub.execute_input": "2023-12-27T23:39:26.737524Z",
     "iopub.status.busy": "2023-12-27T23:39:26.737188Z",
     "iopub.status.idle": "2023-12-27T23:39:26.745650Z",
     "shell.execute_reply": "2023-12-27T23:39:26.745052Z"
    },
    "papermill": {
     "duration": 0.013581,
     "end_time": "2023-12-27T23:39:26.747047",
     "exception": false,
     "start_time": "2023-12-27T23:39:26.733466",
     "status": "completed"
    },
    "tags": []
   },
   "outputs": [],
   "source": [
    "(\n",
    "    completed_orders.loc[:, ['event_date', 'event_time', 'event_name', 'event_id', 'project_name', 'public_event']]\n",
    "      .drop_duplicates()\n",
    "      .sort_values(['event_date', 'event_time'])\n",
    "      .to_csv('../../../../data/metrics/events/tickets/events.csv', index=False)\n",
    ")"
   ]
  },
  {
   "cell_type": "code",
   "execution_count": 15,
   "id": "55ed6e3d",
   "metadata": {
    "execution": {
     "iopub.execute_input": "2023-12-27T23:39:26.754460Z",
     "iopub.status.busy": "2023-12-27T23:39:26.754101Z",
     "iopub.status.idle": "2023-12-27T23:39:27.449432Z",
     "shell.execute_reply": "2023-12-27T23:39:27.448776Z"
    },
    "papermill": {
     "duration": 0.70074,
     "end_time": "2023-12-27T23:39:27.450908",
     "exception": false,
     "start_time": "2023-12-27T23:39:26.750168",
     "status": "completed"
    },
    "tags": []
   },
   "outputs": [
    {
     "data": {
      "image/png": "[encoded data removed]",
      "text/plain": [
       "<Figure size 640x480 with 1 Axes>"
      ]
     },
     "metadata": {},
     "output_type": "display_data"
    }
   ],
   "source": [
    "chart = completed_orders.groupby(['project_name']).number_of_tickets.sum().sort_values().plot.barh()"
   ]
  },
  {
   "cell_type": "code",
   "execution_count": 16,
   "id": "f06f28a8",
   "metadata": {
    "execution": {
     "iopub.execute_input": "2023-12-27T23:39:27.459863Z",
     "iopub.status.busy": "2023-12-27T23:39:27.459446Z",
     "iopub.status.idle": "2023-12-27T23:39:27.633752Z",
     "shell.execute_reply": "2023-12-27T23:39:27.633089Z"
    },
    "papermill": {
     "duration": 0.180225,
     "end_time": "2023-12-27T23:39:27.635148",
     "exception": false,
     "start_time": "2023-12-27T23:39:27.454923",
     "status": "completed"
    },
    "tags": []
   },
   "outputs": [
    {
     "data": {
      "image/png": "[encoded data removed]",
      "text/plain": [
       "<Figure size 640x480 with 1 Axes>"
      ]
     },
     "metadata": {},
     "output_type": "display_data"
    }
   ],
   "source": [
    "chart = completed_orders.groupby([\n",
    "    'event_date'\n",
    "    ]).number_of_tickets.sum().resample('M').sum().cumsum().plot.bar()"
   ]
  },
  {
   "cell_type": "code",
   "execution_count": null,
   "id": "dbe85978",
   "metadata": {
    "papermill": {
     "duration": 0.004053,
     "end_time": "2023-12-27T23:39:27.644391",
     "exception": false,
     "start_time": "2023-12-27T23:39:27.640338",
     "status": "completed"
    },
    "tags": []
   },
   "outputs": [],
   "source": []
  }
 ],
 "metadata": {
  "kernelspec": {
   "display_name": "leeds-2023-YZF5GfJv",
   "language": "python",
   "name": "python3"
  },
  "language_info": {
   "codemirror_mode": {
    "name": "ipython",
    "version": 3
   },
   "file_extension": ".py",
   "mimetype": "text/x-python",
   "name": "python",
   "nbconvert_exporter": "python",
   "pygments_lexer": "ipython3",
   "version": "3.10.13"
  },
  "papermill": {
   "default_parameters": {},
   "duration": 11.102122,
   "end_time": "2023-12-27T23:39:27.965994",
   "environment_variables": {},
   "exception": null,
   "input_path": "tickets.ipynb",
   "output_path": "../../../../working/output/tickets-transform.ipynb",
   "parameters": {},
   "start_time": "2023-12-27T23:39:16.863872",
   "version": "2.4.0"
  }
 },
 "nbformat": 4,
 "nbformat_minor": 5
}