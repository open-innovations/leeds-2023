{
 "cells": [
  {
   "cell_type": "code",
   "execution_count": 1,
   "id": "5fb77a23",
   "metadata": {
    "execution": {
     "iopub.execute_input": "2023-08-12T23:37:56.572244Z",
     "iopub.status.busy": "2023-08-12T23:37:56.571730Z",
     "iopub.status.idle": "2023-08-12T23:37:56.827900Z",
     "shell.execute_reply": "2023-08-12T23:37:56.827197Z"
    },
    "papermill": {
     "duration": 0.26239,
     "end_time": "2023-08-12T23:37:56.829963",
     "exception": false,
     "start_time": "2023-08-12T23:37:56.567573",
     "status": "completed"
    },
    "tags": []
   },
   "outputs": [],
   "source": [
    "import os\n",
    "import pandas as pd"
   ]
  },
  {
   "cell_type": "code",
   "execution_count": 2,
   "id": "97a696a5",
   "metadata": {
    "execution": {
     "iopub.execute_input": "2023-08-12T23:37:56.835227Z",
     "iopub.status.busy": "2023-08-12T23:37:56.834778Z",
     "iopub.status.idle": "2023-08-12T23:37:56.838368Z",
     "shell.execute_reply": "2023-08-12T23:37:56.837729Z"
    },
    "papermill": {
     "duration": 0.008009,
     "end_time": "2023-08-12T23:37:56.839995",
     "exception": false,
     "start_time": "2023-08-12T23:37:56.831986",
     "status": "completed"
    },
    "tags": []
   },
   "outputs": [],
   "source": [
    "DATA_DIR='../../../docs/metrics/events/promote/_data/'\n",
    "os.makedirs(DATA_DIR, exist_ok=True)"
   ]
  },
  {
   "cell_type": "code",
   "execution_count": 3,
   "id": "e77b595e",
   "metadata": {
    "execution": {
     "iopub.execute_input": "2023-08-12T23:37:56.844338Z",
     "iopub.status.busy": "2023-08-12T23:37:56.843925Z",
     "iopub.status.idle": "2023-08-12T23:37:56.853953Z",
     "shell.execute_reply": "2023-08-12T23:37:56.853407Z"
    },
    "papermill": {
     "duration": 0.013898,
     "end_time": "2023-08-12T23:37:56.855477",
     "exception": false,
     "start_time": "2023-08-12T23:37:56.841579",
     "status": "completed"
    },
    "tags": []
   },
   "outputs": [],
   "source": [
    "data = pd.read_csv('../../../data/metrics/events/promote-events/events.csv', parse_dates=['time'])"
   ]
  },
  {
   "cell_type": "code",
   "execution_count": 4,
   "id": "aad5c37c",
   "metadata": {
    "execution": {
     "iopub.execute_input": "2023-08-12T23:37:56.859883Z",
     "iopub.status.busy": "2023-08-12T23:37:56.859477Z",
     "iopub.status.idle": "2023-08-12T23:37:56.864795Z",
     "shell.execute_reply": "2023-08-12T23:37:56.864170Z"
    },
    "papermill": {
     "duration": 0.009199,
     "end_time": "2023-08-12T23:37:56.866264",
     "exception": false,
     "start_time": "2023-08-12T23:37:56.857065",
     "status": "completed"
    },
    "tags": []
   },
   "outputs": [],
   "source": [
    "pd.Series({\n",
    "    'total_events': len(data.id.unique()),\n",
    "    'total_event_instances': len(data.time),\n",
    "    'earliest_event': data.time.min(),\n",
    "    'latest_event': data.time.max(),\n",
    "}).to_json(\n",
    "    os.path.join(DATA_DIR, 'headlines.json'),\n",
    "    date_format='iso', indent=2\n",
    ")"
   ]
  },
  {
   "cell_type": "code",
   "execution_count": 5,
   "id": "ee7fb306",
   "metadata": {
    "execution": {
     "iopub.execute_input": "2023-08-12T23:37:56.870788Z",
     "iopub.status.busy": "2023-08-12T23:37:56.870270Z",
     "iopub.status.idle": "2023-08-12T23:37:56.878010Z",
     "shell.execute_reply": "2023-08-12T23:37:56.877468Z"
    },
    "papermill": {
     "duration": 0.011574,
     "end_time": "2023-08-12T23:37:56.879452",
     "exception": false,
     "start_time": "2023-08-12T23:37:56.867878",
     "status": "completed"
    },
    "tags": []
   },
   "outputs": [],
   "source": [
    "events = pd.DataFrame({\n",
    "    'events': data.groupby('id').agg({ 'time': 'min' }).reset_index().groupby('time').id.count(),\n",
    "    'event_instances': data.groupby('time').id.count(),\n",
    "}).fillna(0).astype(int)"
   ]
  },
  {
   "cell_type": "code",
   "execution_count": 6,
   "id": "6d3d14ef",
   "metadata": {
    "execution": {
     "iopub.execute_input": "2023-08-12T23:37:56.884051Z",
     "iopub.status.busy": "2023-08-12T23:37:56.883538Z",
     "iopub.status.idle": "2023-08-12T23:37:56.887042Z",
     "shell.execute_reply": "2023-08-12T23:37:56.886431Z"
    },
    "papermill": {
     "duration": 0.007435,
     "end_time": "2023-08-12T23:37:56.888525",
     "exception": false,
     "start_time": "2023-08-12T23:37:56.881090",
     "status": "completed"
    },
    "tags": []
   },
   "outputs": [],
   "source": [
    "def cumulate(data):\n",
    "    return pd.concat([\n",
    "        data,\n",
    "        data.cumsum().rename(columns=lambda c: f'cumulative_{c}')\n",
    "    ], axis=1)"
   ]
  },
  {
   "cell_type": "code",
   "execution_count": 7,
   "id": "de9217bf",
   "metadata": {
    "execution": {
     "iopub.execute_input": "2023-08-12T23:37:56.893172Z",
     "iopub.status.busy": "2023-08-12T23:37:56.892678Z",
     "iopub.status.idle": "2023-08-12T23:37:56.902488Z",
     "shell.execute_reply": "2023-08-12T23:37:56.901911Z"
    },
    "papermill": {
     "duration": 0.013804,
     "end_time": "2023-08-12T23:37:56.903976",
     "exception": false,
     "start_time": "2023-08-12T23:37:56.890172",
     "status": "completed"
    },
    "tags": []
   },
   "outputs": [],
   "source": [
    "events.resample('W-FRI').sum().pipe(cumulate).to_csv(os.path.join(DATA_DIR, 'by_week.csv'))"
   ]
  },
  {
   "cell_type": "code",
   "execution_count": 8,
   "id": "9aa9b117",
   "metadata": {
    "execution": {
     "iopub.execute_input": "2023-08-12T23:37:56.908570Z",
     "iopub.status.busy": "2023-08-12T23:37:56.908171Z",
     "iopub.status.idle": "2023-08-12T23:37:56.914121Z",
     "shell.execute_reply": "2023-08-12T23:37:56.913522Z"
    },
    "papermill": {
     "duration": 0.009917,
     "end_time": "2023-08-12T23:37:56.915665",
     "exception": false,
     "start_time": "2023-08-12T23:37:56.905748",
     "status": "completed"
    },
    "tags": []
   },
   "outputs": [],
   "source": [
    "events.resample('MS').sum().pipe(cumulate).to_csv(os.path.join(DATA_DIR, 'by_month.csv'))"
   ]
  },
  {
   "cell_type": "code",
   "execution_count": null,
   "id": "9e26c140",
   "metadata": {
    "papermill": {
     "duration": 0.001707,
     "end_time": "2023-08-12T23:37:56.919077",
     "exception": false,
     "start_time": "2023-08-12T23:37:56.917370",
     "status": "completed"
    },
    "tags": []
   },
   "outputs": [],
   "source": []
  }
 ],
 "metadata": {
  "kernelspec": {
   "display_name": "leeds-2023-YZF5GfJv",
   "language": "python",
   "name": "python3"
  },
  "language_info": {
   "codemirror_mode": {
    "name": "ipython",
    "version": 3
   },
   "file_extension": ".py",
   "mimetype": "text/x-python",
   "name": "python",
   "nbconvert_exporter": "python",
   "pygments_lexer": "ipython3",
   "version": "3.10.12"
  },
  "papermill": {
   "default_parameters": {},
   "duration": 2.061134,
   "end_time": "2023-08-12T23:37:57.238383",
   "environment_variables": {},
   "exception": null,
   "input_path": "prepare.ipynb",
   "output_path": "../../../working/output/promote-events-prepare.ipynb",
   "parameters": {},
   "start_time": "2023-08-12T23:37:55.177249",
   "version": "2.4.0"
  }
 },
 "nbformat": 4,
 "nbformat_minor": 5
}