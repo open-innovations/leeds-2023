{
 "cells": [
  {
   "cell_type": "code",
   "execution_count": 1,
   "id": "5fd59e0e",
   "metadata": {
    "execution": {
     "iopub.execute_input": "2023-09-29T23:40:14.923658Z",
     "iopub.status.busy": "2023-09-29T23:40:14.922790Z",
     "iopub.status.idle": "2023-09-29T23:40:27.797191Z",
     "shell.execute_reply": "2023-09-29T23:40:27.796277Z"
    },
    "papermill": {
     "duration": 12.881935,
     "end_time": "2023-09-29T23:40:27.799701",
     "exception": false,
     "start_time": "2023-09-29T23:40:14.917766",
     "status": "completed"
    },
    "tags": []
   },
   "outputs": [],
   "source": [
    "import os\n",
    "import pandas as pd\n",
    "from events import load_event_data, get_first_ward, normalise_ward"
   ]
  },
  {
   "cell_type": "code",
   "execution_count": 2,
   "id": "430c9622",
   "metadata": {
    "execution": {
     "iopub.execute_input": "2023-09-29T23:40:27.808089Z",
     "iopub.status.busy": "2023-09-29T23:40:27.807447Z",
     "iopub.status.idle": "2023-09-29T23:40:27.813423Z",
     "shell.execute_reply": "2023-09-29T23:40:27.812719Z"
    },
    "papermill": {
     "duration": 0.012168,
     "end_time": "2023-09-29T23:40:27.815372",
     "exception": false,
     "start_time": "2023-09-29T23:40:27.803204",
     "status": "completed"
    },
    "tags": []
   },
   "outputs": [],
   "source": [
    "latest_date = pd.Timestamp.today().ceil('D')"
   ]
  },
  {
   "cell_type": "code",
   "execution_count": 3,
   "id": "93074763",
   "metadata": {
    "execution": {
     "iopub.execute_input": "2023-09-29T23:40:27.822634Z",
     "iopub.status.busy": "2023-09-29T23:40:27.822102Z",
     "iopub.status.idle": "2023-09-29T23:40:27.846163Z",
     "shell.execute_reply": "2023-09-29T23:40:27.845391Z"
    },
    "papermill": {
     "duration": 0.02993,
     "end_time": "2023-09-29T23:40:27.848128",
     "exception": false,
     "start_time": "2023-09-29T23:40:27.818198",
     "status": "completed"
    },
    "tags": []
   },
   "outputs": [],
   "source": [
    "tickets = pd.read_csv('../../../../data/metrics/events/tickets/orders.csv', parse_dates=['created_at', 'event_date'])\n",
    "tickets = tickets[tickets.event_date <= latest_date]"
   ]
  },
  {
   "cell_type": "code",
   "execution_count": 4,
   "id": "639e8834",
   "metadata": {
    "execution": {
     "iopub.execute_input": "2023-09-29T23:40:27.856249Z",
     "iopub.status.busy": "2023-09-29T23:40:27.855723Z",
     "iopub.status.idle": "2023-09-29T23:40:28.147261Z",
     "shell.execute_reply": "2023-09-29T23:40:28.146380Z"
    },
    "papermill": {
     "duration": 0.298415,
     "end_time": "2023-09-29T23:40:28.149578",
     "exception": false,
     "start_time": "2023-09-29T23:40:27.851163",
     "status": "completed"
    },
    "tags": []
   },
   "outputs": [],
   "source": [
    "events = load_event_data()\n",
    "\n",
    "events = pd.concat([\n",
    "  events,\n",
    "  events.pipe(get_first_ward).pipe(normalise_ward).fillna('UNKNOWN'),\n",
    "  pd.Series(\n",
    "      events.actual_audience_size_number_of_participants_in_person + events.actual_audience_size_number_of_participants_online,\n",
    "      name='attendances'\n",
    "  )\n",
    "], axis=1).rename(columns={\n",
    "    'start_date': 'date'\n",
    "}).loc[:, ['ward_code', 'date', 'event_unique_identifier', 'attendances']]"
   ]
  },
  {
   "cell_type": "code",
   "execution_count": 5,
   "id": "6494f7be",
   "metadata": {
    "execution": {
     "iopub.execute_input": "2023-09-29T23:40:28.159062Z",
     "iopub.status.busy": "2023-09-29T23:40:28.157995Z",
     "iopub.status.idle": "2023-09-29T23:40:28.162503Z",
     "shell.execute_reply": "2023-09-29T23:40:28.161691Z"
    },
    "papermill": {
     "duration": 0.011211,
     "end_time": "2023-09-29T23:40:28.164470",
     "exception": false,
     "start_time": "2023-09-29T23:40:28.153259",
     "status": "completed"
    },
    "tags": []
   },
   "outputs": [],
   "source": [
    "OUTPUT_DIR='../../../../docs/metrics/events/signature/_data/'\n",
    "os.makedirs(OUTPUT_DIR, exist_ok=True)"
   ]
  },
  {
   "cell_type": "markdown",
   "id": "58b1f261",
   "metadata": {
    "papermill": {
     "duration": 0.002979,
     "end_time": "2023-09-29T23:40:28.170387",
     "exception": false,
     "start_time": "2023-09-29T23:40:28.167408",
     "status": "completed"
    },
    "tags": []
   },
   "source": [
    "Events CSVs"
   ]
  },
  {
   "cell_type": "code",
   "execution_count": 6,
   "id": "38904b24",
   "metadata": {
    "execution": {
     "iopub.execute_input": "2023-09-29T23:40:28.177680Z",
     "iopub.status.busy": "2023-09-29T23:40:28.177170Z",
     "iopub.status.idle": "2023-09-29T23:40:28.185674Z",
     "shell.execute_reply": "2023-09-29T23:40:28.184960Z"
    },
    "papermill": {
     "duration": 0.014326,
     "end_time": "2023-09-29T23:40:28.187592",
     "exception": false,
     "start_time": "2023-09-29T23:40:28.173266",
     "status": "completed"
    },
    "tags": []
   },
   "outputs": [],
   "source": [
    "pd.DataFrame({\n",
    "  'events': events.groupby('ward_code').event_unique_identifier.count(),\n",
    "  'attendances': events.groupby('ward_code').attendances.sum().astype(int),\n",
    "}).to_csv(os.path.join(OUTPUT_DIR, 'events_by_ward.csv'))\n"
   ]
  },
  {
   "cell_type": "code",
   "execution_count": 7,
   "id": "58b5aff6",
   "metadata": {
    "execution": {
     "iopub.execute_input": "2023-09-29T23:40:28.195237Z",
     "iopub.status.busy": "2023-09-29T23:40:28.194564Z",
     "iopub.status.idle": "2023-09-29T23:40:28.207493Z",
     "shell.execute_reply": "2023-09-29T23:40:28.206768Z"
    },
    "papermill": {
     "duration": 0.018802,
     "end_time": "2023-09-29T23:40:28.209376",
     "exception": false,
     "start_time": "2023-09-29T23:40:28.190574",
     "status": "completed"
    },
    "tags": []
   },
   "outputs": [],
   "source": [
    "pd.DataFrame({\n",
    "  'events': events.groupby('date').event_unique_identifier.count(),\n",
    "  'attendances': events.groupby('date').attendances.sum().astype(int),\n",
    "}).resample('M').sum().astype(int).to_csv(os.path.join(OUTPUT_DIR, 'events_by_date.csv'))"
   ]
  },
  {
   "cell_type": "markdown",
   "id": "bdd7d54f",
   "metadata": {
    "papermill": {
     "duration": 0.003072,
     "end_time": "2023-09-29T23:40:28.215472",
     "exception": false,
     "start_time": "2023-09-29T23:40:28.212400",
     "status": "completed"
    },
    "tags": []
   },
   "source": [
    "Tickets CSV"
   ]
  },
  {
   "cell_type": "code",
   "execution_count": 8,
   "id": "adeaa247",
   "metadata": {
    "execution": {
     "iopub.execute_input": "2023-09-29T23:40:28.223417Z",
     "iopub.status.busy": "2023-09-29T23:40:28.222767Z",
     "iopub.status.idle": "2023-09-29T23:40:28.232743Z",
     "shell.execute_reply": "2023-09-29T23:40:28.232005Z"
    },
    "papermill": {
     "duration": 0.01619,
     "end_time": "2023-09-29T23:40:28.234666",
     "exception": false,
     "start_time": "2023-09-29T23:40:28.218476",
     "status": "completed"
    },
    "tags": []
   },
   "outputs": [],
   "source": [
    "pd.DataFrame({\n",
    "  'orders': tickets.groupby('ward_code').number_of_tickets.count(),\n",
    "  'tickets': tickets.groupby('ward_code').number_of_tickets.sum().astype(int),\n",
    "}).to_csv(os.path.join(OUTPUT_DIR, 'tickets_by_ward.csv'))"
   ]
  },
  {
   "cell_type": "code",
   "execution_count": 9,
   "id": "69187bed",
   "metadata": {
    "execution": {
     "iopub.execute_input": "2023-09-29T23:40:28.242608Z",
     "iopub.status.busy": "2023-09-29T23:40:28.242030Z",
     "iopub.status.idle": "2023-09-29T23:40:28.252066Z",
     "shell.execute_reply": "2023-09-29T23:40:28.251329Z"
    },
    "papermill": {
     "duration": 0.016216,
     "end_time": "2023-09-29T23:40:28.254021",
     "exception": false,
     "start_time": "2023-09-29T23:40:28.237805",
     "status": "completed"
    },
    "tags": []
   },
   "outputs": [],
   "source": [
    "pd.DataFrame({\n",
    "  'orders': tickets.groupby('event_date').number_of_tickets.count(),\n",
    "  'tickets': tickets.groupby('event_date').number_of_tickets.sum().astype(int),\n",
    "}).resample('M').sum().to_csv(os.path.join(OUTPUT_DIR, 'tickets_by_event_date.csv'))"
   ]
  },
  {
   "cell_type": "code",
   "execution_count": 10,
   "id": "79e13a5b",
   "metadata": {
    "execution": {
     "iopub.execute_input": "2023-09-29T23:40:28.263217Z",
     "iopub.status.busy": "2023-09-29T23:40:28.262702Z",
     "iopub.status.idle": "2023-09-29T23:40:28.268795Z",
     "shell.execute_reply": "2023-09-29T23:40:28.268028Z"
    },
    "papermill": {
     "duration": 0.013367,
     "end_time": "2023-09-29T23:40:28.270652",
     "exception": false,
     "start_time": "2023-09-29T23:40:28.257285",
     "status": "completed"
    },
    "tags": []
   },
   "outputs": [],
   "source": [
    "pd.Series({\n",
    "    'total_events': events.event_unique_identifier.count(),\n",
    "    'total_attendances': events.attendances.count(),\n",
    "    'first_event': events.date.min(),\n",
    "    'latest_event': events.date.max(),\n",
    "    'total_ticket_orders_for_events_to_date': tickets.number_of_tickets.count(),\n",
    "    'total_tickets_sold_for_events_to_date': tickets.number_of_tickets.sum(),\n",
    "}).to_json(os.path.join(OUTPUT_DIR, 'headlines.json'), indent=2)"
   ]
  },
  {
   "cell_type": "code",
   "execution_count": null,
   "id": "3525054b",
   "metadata": {
    "papermill": {
     "duration": 0.003025,
     "end_time": "2023-09-29T23:40:28.276739",
     "exception": false,
     "start_time": "2023-09-29T23:40:28.273714",
     "status": "completed"
    },
    "tags": []
   },
   "outputs": [],
   "source": []
  }
 ],
 "metadata": {
  "kernelspec": {
   "display_name": "leeds-2023-YZF5GfJv",
   "language": "python",
   "name": "python3"
  },
  "language_info": {
   "codemirror_mode": {
    "name": "ipython",
    "version": 3
   },
   "file_extension": ".py",
   "mimetype": "text/x-python",
   "name": "python",
   "nbconvert_exporter": "python",
   "pygments_lexer": "ipython3",
   "version": "3.10.13"
  },
  "papermill": {
   "default_parameters": {},
   "duration": 15.386626,
   "end_time": "2023-09-29T23:40:28.699664",
   "environment_variables": {},
   "exception": null,
   "input_path": "prepare.ipynb",
   "output_path": "../../../../working/output/signature-prepare.ipynb",
   "parameters": {},
   "start_time": "2023-09-29T23:40:13.313038",
   "version": "2.4.0"
  }
 },
 "nbformat": 4,
 "nbformat_minor": 5
}