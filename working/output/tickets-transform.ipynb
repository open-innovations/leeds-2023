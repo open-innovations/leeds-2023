{
 "cells": [
  {
   "cell_type": "code",
   "execution_count": 1,
   "id": "43b45487",
   "metadata": {
    "execution": {
     "iopub.execute_input": "2023-12-24T23:38:45.337162Z",
     "iopub.status.busy": "2023-12-24T23:38:45.336905Z",
     "iopub.status.idle": "2023-12-24T23:38:45.574223Z",
     "shell.execute_reply": "2023-12-24T23:38:45.573628Z"
    },
    "papermill": {
     "duration": 0.243105,
     "end_time": "2023-12-24T23:38:45.575755",
     "exception": false,
     "start_time": "2023-12-24T23:38:45.332650",
     "status": "completed"
    },
    "tags": []
   },
   "outputs": [],
   "source": [
    "import sys\n",
    "from pathlib import Path\n",
    "\n",
    "import pandas as pd\n",
    "\n",
    "TOP_DIR = Path('../../../..').resolve()\n",
    "\n",
    "if str(TOP_DIR) not in sys.path: sys.path.append(str(TOP_DIR))"
   ]
  },
  {
   "cell_type": "code",
   "execution_count": 2,
   "id": "2e22b2df",
   "metadata": {
    "execution": {
     "iopub.execute_input": "2023-12-24T23:38:45.582131Z",
     "iopub.status.busy": "2023-12-24T23:38:45.581662Z",
     "iopub.status.idle": "2023-12-24T23:38:52.587143Z",
     "shell.execute_reply": "2023-12-24T23:38:52.586495Z"
    },
    "papermill": {
     "duration": 7.010356,
     "end_time": "2023-12-24T23:38:52.588848",
     "exception": false,
     "start_time": "2023-12-24T23:38:45.578492",
     "status": "completed"
    },
    "tags": []
   },
   "outputs": [],
   "source": [
    "from lib.util.geo import postcode_formatter, postcode_to_ward_code"
   ]
  },
  {
   "cell_type": "code",
   "execution_count": 3,
   "id": "b8240a46",
   "metadata": {
    "execution": {
     "iopub.execute_input": "2023-12-24T23:38:52.595714Z",
     "iopub.status.busy": "2023-12-24T23:38:52.595184Z",
     "iopub.status.idle": "2023-12-24T23:38:52.617537Z",
     "shell.execute_reply": "2023-12-24T23:38:52.616909Z"
    },
    "papermill": {
     "duration": 0.027386,
     "end_time": "2023-12-24T23:38:52.619038",
     "exception": false,
     "start_time": "2023-12-24T23:38:52.591652",
     "status": "completed"
    },
    "tags": []
   },
   "outputs": [],
   "source": [
    "ticket_data = pd.read_csv(\n",
    "    '../../../../working/metrics/ticketing/orders.csv',\n",
    "    parse_dates=['created_at', 'event_date'],\n",
    "    usecols=[\n",
    "        'created_at',\n",
    "        'event_id',\n",
    "        'event_name',\n",
    "        'event_date',\n",
    "        'event_time',\n",
    "        'number_of_tickets',\n",
    "        'postcode_from_question',\n",
    "        'postcode_from_address',\n",
    "        'status',\n",
    "    ]\n",
    ")"
   ]
  },
  {
   "cell_type": "code",
   "execution_count": 4,
   "id": "1e22f4d7",
   "metadata": {
    "execution": {
     "iopub.execute_input": "2023-12-24T23:38:52.625126Z",
     "iopub.status.busy": "2023-12-24T23:38:52.624644Z",
     "iopub.status.idle": "2023-12-24T23:38:52.632984Z",
     "shell.execute_reply": "2023-12-24T23:38:52.632351Z"
    },
    "papermill": {
     "duration": 0.012856,
     "end_time": "2023-12-24T23:38:52.634378",
     "exception": false,
     "start_time": "2023-12-24T23:38:52.621522",
     "status": "completed"
    },
    "tags": []
   },
   "outputs": [
    {
     "name": "stdout",
     "output_type": "stream",
     "text": [
      "<class 'pandas.core.frame.DataFrame'>\n",
      "RangeIndex: 7020 entries, 0 to 7019\n",
      "Data columns (total 9 columns):\n",
      " #   Column                  Non-Null Count  Dtype         \n",
      "---  ------                  --------------  -----         \n",
      " 0   postcode_from_question  6602 non-null   object        \n",
      " 1   postcode_from_address   863 non-null    object        \n",
      " 2   created_at              7020 non-null   datetime64[ns]\n",
      " 3   event_id                7020 non-null   object        \n",
      " 4   event_name              7020 non-null   object        \n",
      " 5   event_date              7020 non-null   datetime64[ns]\n",
      " 6   event_time              7020 non-null   object        \n",
      " 7   number_of_tickets       7020 non-null   int64         \n",
      " 8   status                  7020 non-null   object        \n",
      "dtypes: datetime64[ns](2), int64(1), object(6)\n",
      "memory usage: 493.7+ KB\n"
     ]
    }
   ],
   "source": [
    "ticket_data.info()"
   ]
  },
  {
   "cell_type": "code",
   "execution_count": 5,
   "id": "f0acdf42",
   "metadata": {
    "execution": {
     "iopub.execute_input": "2023-12-24T23:38:52.640704Z",
     "iopub.status.busy": "2023-12-24T23:38:52.640106Z",
     "iopub.status.idle": "2023-12-24T23:38:52.645262Z",
     "shell.execute_reply": "2023-12-24T23:38:52.644614Z"
    },
    "papermill": {
     "duration": 0.009705,
     "end_time": "2023-12-24T23:38:52.646679",
     "exception": false,
     "start_time": "2023-12-24T23:38:52.636974",
     "status": "completed"
    },
    "tags": []
   },
   "outputs": [],
   "source": [
    "completed_orders = (\n",
    "    ticket_data.loc[\n",
    "        ~ticket_data.status.isin(['cancelled']),\n",
    "        ticket_data.columns\n",
    "    ]\n",
    ")"
   ]
  },
  {
   "cell_type": "code",
   "execution_count": 6,
   "id": "aa3e6ddc",
   "metadata": {
    "execution": {
     "iopub.execute_input": "2023-12-24T23:38:52.652865Z",
     "iopub.status.busy": "2023-12-24T23:38:52.652378Z",
     "iopub.status.idle": "2023-12-24T23:38:53.524965Z",
     "shell.execute_reply": "2023-12-24T23:38:53.524321Z"
    },
    "papermill": {
     "duration": 0.877406,
     "end_time": "2023-12-24T23:38:53.526607",
     "exception": false,
     "start_time": "2023-12-24T23:38:52.649201",
     "status": "completed"
    },
    "tags": []
   },
   "outputs": [],
   "source": [
    "completed_orders['ward_code'] = (\n",
    "    completed_orders\n",
    "        .loc[:, ['postcode_from_question', 'postcode_from_address']]\n",
    "        .bfill()\n",
    "        .iloc[:, 0]\n",
    "        .pipe(postcode_formatter)\n",
    "        .map(postcode_to_ward_code)\n",
    ")"
   ]
  },
  {
   "cell_type": "markdown",
   "id": "d67a755e",
   "metadata": {
    "papermill": {
     "duration": 0.002527,
     "end_time": "2023-12-24T23:38:53.532754",
     "exception": false,
     "start_time": "2023-12-24T23:38:53.530227",
     "status": "completed"
    },
    "tags": []
   },
   "source": [
    "Get the events data"
   ]
  },
  {
   "cell_type": "code",
   "execution_count": 7,
   "id": "8a53bf33",
   "metadata": {
    "execution": {
     "iopub.execute_input": "2023-12-24T23:38:53.539132Z",
     "iopub.status.busy": "2023-12-24T23:38:53.538686Z",
     "iopub.status.idle": "2023-12-24T23:38:53.555009Z",
     "shell.execute_reply": "2023-12-24T23:38:53.554342Z"
    },
    "papermill": {
     "duration": 0.021195,
     "end_time": "2023-12-24T23:38:53.556492",
     "exception": false,
     "start_time": "2023-12-24T23:38:53.535297",
     "status": "completed"
    },
    "tags": []
   },
   "outputs": [],
   "source": [
    "def prepare_events(data: pd.DataFrame):\n",
    "    data = data.rename(columns={\n",
    "        'Project name': 'project_name',\n",
    "        'Event type': 'event_type',\n",
    "        'Ticket Tailor ID': 'ticket_tailor_id'\n",
    "    })\n",
    "    data['public_event'] = data.event_type.str.contains('Public Event')\n",
    "    data['ticket_tailor_id'] = data.ticket_tailor_id.str.split(\n",
    "        pat=r'[\\s,]+', regex=True)\n",
    "    data = data.drop(columns=['event_type'])\n",
    "    data = data.explode('ticket_tailor_id')\n",
    "    data = data.loc[data.ticket_tailor_id.notna() & (data.ticket_tailor_id != '')]\n",
    "    return data\n",
    "\n",
    "\n",
    "events = pd.read_csv(\n",
    "    '../../../../working/metrics/events/all.csv',\n",
    "    usecols=[\n",
    "        'Project name',\n",
    "        'Event type',\n",
    "        'Ticket Tailor ID'\n",
    "    ]\n",
    ").pipe(prepare_events)"
   ]
  },
  {
   "cell_type": "markdown",
   "id": "63691d7f",
   "metadata": {
    "papermill": {
     "duration": 0.002604,
     "end_time": "2023-12-24T23:38:53.561846",
     "exception": false,
     "start_time": "2023-12-24T23:38:53.559242",
     "status": "completed"
    },
    "tags": []
   },
   "source": [
    "Duplicated ticket tailor IDs"
   ]
  },
  {
   "cell_type": "code",
   "execution_count": 8,
   "id": "9e7f94cb",
   "metadata": {
    "execution": {
     "iopub.execute_input": "2023-12-24T23:38:53.568014Z",
     "iopub.status.busy": "2023-12-24T23:38:53.567646Z",
     "iopub.status.idle": "2023-12-24T23:38:53.578647Z",
     "shell.execute_reply": "2023-12-24T23:38:53.577995Z"
    },
    "papermill": {
     "duration": 0.015576,
     "end_time": "2023-12-24T23:38:53.579967",
     "exception": false,
     "start_time": "2023-12-24T23:38:53.564391",
     "status": "completed"
    },
    "tags": []
   },
   "outputs": [
    {
     "data": {
      "text/html": [
       "<div>\n",
       "<style scoped>\n",
       "    .dataframe tbody tr th:only-of-type {\n",
       "        vertical-align: middle;\n",
       "    }\n",
       "\n",
       "    .dataframe tbody tr th {\n",
       "        vertical-align: top;\n",
       "    }\n",
       "\n",
       "    .dataframe thead th {\n",
       "        text-align: right;\n",
       "    }\n",
       "</style>\n",
       "<table border=\"1\" class=\"dataframe\">\n",
       "  <thead>\n",
       "    <tr style=\"text-align: right;\">\n",
       "      <th></th>\n",
       "      <th>project_name</th>\n",
       "      <th>ticket_tailor_id</th>\n",
       "      <th>public_event</th>\n",
       "    </tr>\n",
       "  </thead>\n",
       "  <tbody>\n",
       "    <tr>\n",
       "      <th>127</th>\n",
       "      <td>11 - All That Lives</td>\n",
       "      <td>985872</td>\n",
       "      <td>True</td>\n",
       "    </tr>\n",
       "    <tr>\n",
       "      <th>147</th>\n",
       "      <td>09 - Smeaton300: Moon Palace East Leeds Observ...</td>\n",
       "      <td>ev_2918127</td>\n",
       "      <td>True</td>\n",
       "    </tr>\n",
       "    <tr>\n",
       "      <th>173</th>\n",
       "      <td>11 - All That Lives</td>\n",
       "      <td>985872</td>\n",
       "      <td>True</td>\n",
       "    </tr>\n",
       "    <tr>\n",
       "      <th>272</th>\n",
       "      <td>Creative Learning S3</td>\n",
       "      <td>ev_3073624</td>\n",
       "      <td>False</td>\n",
       "    </tr>\n",
       "    <tr>\n",
       "      <th>332</th>\n",
       "      <td>11 - All That Lives</td>\n",
       "      <td>985872</td>\n",
       "      <td>True</td>\n",
       "    </tr>\n",
       "    <tr>\n",
       "      <th>651</th>\n",
       "      <td>11 - All That Lives</td>\n",
       "      <td>985872</td>\n",
       "      <td>True</td>\n",
       "    </tr>\n",
       "    <tr>\n",
       "      <th>948</th>\n",
       "      <td>07 - Children's Day</td>\n",
       "      <td>ev_2963290</td>\n",
       "      <td>NaN</td>\n",
       "    </tr>\n",
       "    <tr>\n",
       "      <th>948</th>\n",
       "      <td>07 - Children's Day</td>\n",
       "      <td>ev_2963290</td>\n",
       "      <td>NaN</td>\n",
       "    </tr>\n",
       "    <tr>\n",
       "      <th>948</th>\n",
       "      <td>07 - Children's Day</td>\n",
       "      <td>ev_2963295</td>\n",
       "      <td>NaN</td>\n",
       "    </tr>\n",
       "    <tr>\n",
       "      <th>948</th>\n",
       "      <td>07 - Children's Day</td>\n",
       "      <td>ev_2963297</td>\n",
       "      <td>NaN</td>\n",
       "    </tr>\n",
       "    <tr>\n",
       "      <th>948</th>\n",
       "      <td>07 - Children's Day</td>\n",
       "      <td>ev_2963295</td>\n",
       "      <td>NaN</td>\n",
       "    </tr>\n",
       "    <tr>\n",
       "      <th>948</th>\n",
       "      <td>07 - Children's Day</td>\n",
       "      <td>ev_2963296</td>\n",
       "      <td>NaN</td>\n",
       "    </tr>\n",
       "    <tr>\n",
       "      <th>948</th>\n",
       "      <td>07 - Children's Day</td>\n",
       "      <td>ev_2963296</td>\n",
       "      <td>NaN</td>\n",
       "    </tr>\n",
       "    <tr>\n",
       "      <th>948</th>\n",
       "      <td>07 - Children's Day</td>\n",
       "      <td>ev_2963297</td>\n",
       "      <td>NaN</td>\n",
       "    </tr>\n",
       "    <tr>\n",
       "      <th>992</th>\n",
       "      <td>11 - All That Lives</td>\n",
       "      <td>985872</td>\n",
       "      <td>True</td>\n",
       "    </tr>\n",
       "    <tr>\n",
       "      <th>1172</th>\n",
       "      <td>09 - Smeaton300: Moon Palace East Leeds Observ...</td>\n",
       "      <td>ev_2918127</td>\n",
       "      <td>True</td>\n",
       "    </tr>\n",
       "    <tr>\n",
       "      <th>1462</th>\n",
       "      <td>07 - Children's Day</td>\n",
       "      <td>ev_2963290</td>\n",
       "      <td>True</td>\n",
       "    </tr>\n",
       "    <tr>\n",
       "      <th>1462</th>\n",
       "      <td>07 - Children's Day</td>\n",
       "      <td>ev_2963295</td>\n",
       "      <td>True</td>\n",
       "    </tr>\n",
       "    <tr>\n",
       "      <th>1462</th>\n",
       "      <td>07 - Children's Day</td>\n",
       "      <td>ev_2963296</td>\n",
       "      <td>True</td>\n",
       "    </tr>\n",
       "    <tr>\n",
       "      <th>1462</th>\n",
       "      <td>07 - Children's Day</td>\n",
       "      <td>ev_2963297</td>\n",
       "      <td>True</td>\n",
       "    </tr>\n",
       "    <tr>\n",
       "      <th>1482</th>\n",
       "      <td>09 - Smeaton300: Moon Palace East Leeds Observ...</td>\n",
       "      <td>ev_2918127</td>\n",
       "      <td>True</td>\n",
       "    </tr>\n",
       "    <tr>\n",
       "      <th>1567</th>\n",
       "      <td>Creative Learning S3</td>\n",
       "      <td>ev_3073624</td>\n",
       "      <td>False</td>\n",
       "    </tr>\n",
       "  </tbody>\n",
       "</table>\n",
       "</div>"
      ],
      "text/plain": [
       "                                           project_name ticket_tailor_id  \\\n",
       "127                                 11 - All That Lives           985872   \n",
       "147   09 - Smeaton300: Moon Palace East Leeds Observ...       ev_2918127   \n",
       "173                                 11 - All That Lives           985872   \n",
       "272                                Creative Learning S3       ev_3073624   \n",
       "332                                 11 - All That Lives           985872   \n",
       "651                                 11 - All That Lives           985872   \n",
       "948                                 07 - Children's Day       ev_2963290   \n",
       "948                                 07 - Children's Day       ev_2963290   \n",
       "948                                 07 - Children's Day       ev_2963295   \n",
       "948                                 07 - Children's Day       ev_2963297   \n",
       "948                                 07 - Children's Day       ev_2963295   \n",
       "948                                 07 - Children's Day       ev_2963296   \n",
       "948                                 07 - Children's Day       ev_2963296   \n",
       "948                                 07 - Children's Day       ev_2963297   \n",
       "992                                 11 - All That Lives           985872   \n",
       "1172  09 - Smeaton300: Moon Palace East Leeds Observ...       ev_2918127   \n",
       "1462                                07 - Children's Day       ev_2963290   \n",
       "1462                                07 - Children's Day       ev_2963295   \n",
       "1462                                07 - Children's Day       ev_2963296   \n",
       "1462                                07 - Children's Day       ev_2963297   \n",
       "1482  09 - Smeaton300: Moon Palace East Leeds Observ...       ev_2918127   \n",
       "1567                               Creative Learning S3       ev_3073624   \n",
       "\n",
       "     public_event  \n",
       "127          True  \n",
       "147          True  \n",
       "173          True  \n",
       "272         False  \n",
       "332          True  \n",
       "651          True  \n",
       "948           NaN  \n",
       "948           NaN  \n",
       "948           NaN  \n",
       "948           NaN  \n",
       "948           NaN  \n",
       "948           NaN  \n",
       "948           NaN  \n",
       "948           NaN  \n",
       "992          True  \n",
       "1172         True  \n",
       "1462         True  \n",
       "1462         True  \n",
       "1462         True  \n",
       "1462         True  \n",
       "1482         True  \n",
       "1567        False  "
      ]
     },
     "execution_count": 8,
     "metadata": {},
     "output_type": "execute_result"
    }
   ],
   "source": [
    "events[\n",
    "  events.ticket_tailor_id.isin(\n",
    "    events.ticket_tailor_id[\n",
    "      events.ticket_tailor_id.duplicated()\n",
    "    ].to_list()\n",
    "  )\n",
    "]"
   ]
  },
  {
   "cell_type": "code",
   "execution_count": 9,
   "id": "cca71946",
   "metadata": {
    "execution": {
     "iopub.execute_input": "2023-12-24T23:38:53.586831Z",
     "iopub.status.busy": "2023-12-24T23:38:53.586371Z",
     "iopub.status.idle": "2023-12-24T23:38:53.590451Z",
     "shell.execute_reply": "2023-12-24T23:38:53.589846Z"
    },
    "papermill": {
     "duration": 0.008892,
     "end_time": "2023-12-24T23:38:53.591784",
     "exception": false,
     "start_time": "2023-12-24T23:38:53.582892",
     "status": "completed"
    },
    "tags": []
   },
   "outputs": [
    {
     "data": {
      "text/plain": [
       "6828"
      ]
     },
     "execution_count": 9,
     "metadata": {},
     "output_type": "execute_result"
    }
   ],
   "source": [
    "len(completed_orders)"
   ]
  },
  {
   "cell_type": "code",
   "execution_count": 10,
   "id": "c0309d38",
   "metadata": {
    "execution": {
     "iopub.execute_input": "2023-12-24T23:38:53.598660Z",
     "iopub.status.busy": "2023-12-24T23:38:53.598318Z",
     "iopub.status.idle": "2023-12-24T23:38:53.612392Z",
     "shell.execute_reply": "2023-12-24T23:38:53.611733Z"
    },
    "papermill": {
     "duration": 0.019061,
     "end_time": "2023-12-24T23:38:53.613793",
     "exception": false,
     "start_time": "2023-12-24T23:38:53.594732",
     "status": "completed"
    },
    "tags": []
   },
   "outputs": [],
   "source": [
    "completed_orders = completed_orders.merge(\n",
    "    events.drop_duplicates().set_index('ticket_tailor_id'),\n",
    "    left_on='event_id',\n",
    "    right_index=True,\n",
    "    how='left'\n",
    ")\n",
    "completed_orders['event_datetime'] = pd.to_datetime(completed_orders.event_date.astype(str) + 'T' + completed_orders.event_time)\n"
   ]
  },
  {
   "cell_type": "code",
   "execution_count": 11,
   "id": "59316424",
   "metadata": {
    "execution": {
     "iopub.execute_input": "2023-12-24T23:38:53.620780Z",
     "iopub.status.busy": "2023-12-24T23:38:53.620409Z",
     "iopub.status.idle": "2023-12-24T23:38:53.624474Z",
     "shell.execute_reply": "2023-12-24T23:38:53.623956Z"
    },
    "papermill": {
     "duration": 0.008933,
     "end_time": "2023-12-24T23:38:53.625756",
     "exception": false,
     "start_time": "2023-12-24T23:38:53.616823",
     "status": "completed"
    },
    "tags": []
   },
   "outputs": [
    {
     "data": {
      "text/plain": [
       "6836"
      ]
     },
     "execution_count": 11,
     "metadata": {},
     "output_type": "execute_result"
    }
   ],
   "source": [
    "len(completed_orders)"
   ]
  },
  {
   "cell_type": "code",
   "execution_count": 12,
   "id": "6ea7cec5",
   "metadata": {
    "execution": {
     "iopub.execute_input": "2023-12-24T23:38:53.632805Z",
     "iopub.status.busy": "2023-12-24T23:38:53.632404Z",
     "iopub.status.idle": "2023-12-24T23:38:53.635637Z",
     "shell.execute_reply": "2023-12-24T23:38:53.635108Z"
    },
    "papermill": {
     "duration": 0.0081,
     "end_time": "2023-12-24T23:38:53.636915",
     "exception": false,
     "start_time": "2023-12-24T23:38:53.628815",
     "status": "completed"
    },
    "tags": []
   },
   "outputs": [],
   "source": [
    "OUTPUT_DIR = TOP_DIR.joinpath('data/metrics/events/tickets/')\n",
    "OUTPUT_DIR.mkdir(parents=True, exist_ok=True)"
   ]
  },
  {
   "cell_type": "code",
   "execution_count": 13,
   "id": "e93708fd",
   "metadata": {
    "execution": {
     "iopub.execute_input": "2023-12-24T23:38:53.644161Z",
     "iopub.status.busy": "2023-12-24T23:38:53.643799Z",
     "iopub.status.idle": "2023-12-24T23:38:53.679039Z",
     "shell.execute_reply": "2023-12-24T23:38:53.678538Z"
    },
    "papermill": {
     "duration": 0.040188,
     "end_time": "2023-12-24T23:38:53.680356",
     "exception": false,
     "start_time": "2023-12-24T23:38:53.640168",
     "status": "completed"
    },
    "tags": []
   },
   "outputs": [],
   "source": [
    "completed_orders.loc[:, [\n",
    "    'created_at',\n",
    "    'event_id',\n",
    "    'event_date',\n",
    "    'event_datetime',\n",
    "    'number_of_tickets',\n",
    "    'ward_code',\n",
    "    'project_name',\n",
    "    'public_event',\n",
    "]].sort_values(['created_at', 'event_id']).to_csv(\n",
    "  OUTPUT_DIR.joinpath('orders.csv'),\n",
    "  index=False\n",
    ")"
   ]
  },
  {
   "cell_type": "code",
   "execution_count": 14,
   "id": "9b730d13",
   "metadata": {
    "execution": {
     "iopub.execute_input": "2023-12-24T23:38:53.687440Z",
     "iopub.status.busy": "2023-12-24T23:38:53.687229Z",
     "iopub.status.idle": "2023-12-24T23:38:53.695906Z",
     "shell.execute_reply": "2023-12-24T23:38:53.695310Z"
    },
    "papermill": {
     "duration": 0.013781,
     "end_time": "2023-12-24T23:38:53.697279",
     "exception": false,
     "start_time": "2023-12-24T23:38:53.683498",
     "status": "completed"
    },
    "tags": []
   },
   "outputs": [],
   "source": [
    "(\n",
    "    completed_orders.loc[:, ['event_date', 'event_time', 'event_name', 'event_id', 'project_name', 'public_event']]\n",
    "      .drop_duplicates()\n",
    "      .sort_values(['event_date', 'event_time'])\n",
    "      .to_csv('../../../../data/metrics/events/tickets/events.csv', index=False)\n",
    ")"
   ]
  },
  {
   "cell_type": "code",
   "execution_count": 15,
   "id": "ada23da8",
   "metadata": {
    "execution": {
     "iopub.execute_input": "2023-12-24T23:38:53.704525Z",
     "iopub.status.busy": "2023-12-24T23:38:53.704164Z",
     "iopub.status.idle": "2023-12-24T23:38:56.181666Z",
     "shell.execute_reply": "2023-12-24T23:38:56.181011Z"
    },
    "papermill": {
     "duration": 2.482599,
     "end_time": "2023-12-24T23:38:56.183048",
     "exception": false,
     "start_time": "2023-12-24T23:38:53.700449",
     "status": "completed"
    },
    "tags": []
   },
   "outputs": [
    {
     "data": {
      "image/png": "[encoded data removed]",
      "text/plain": [
       "<Figure size 640x480 with 1 Axes>"
      ]
     },
     "metadata": {},
     "output_type": "display_data"
    }
   ],
   "source": [
    "chart = completed_orders.groupby(['project_name']).number_of_tickets.sum().sort_values().plot.barh()"
   ]
  },
  {
   "cell_type": "code",
   "execution_count": 16,
   "id": "08cdd3fa",
   "metadata": {
    "execution": {
     "iopub.execute_input": "2023-12-24T23:38:56.192101Z",
     "iopub.status.busy": "2023-12-24T23:38:56.191634Z",
     "iopub.status.idle": "2023-12-24T23:38:56.338045Z",
     "shell.execute_reply": "2023-12-24T23:38:56.337382Z"
    },
    "papermill": {
     "duration": 0.152226,
     "end_time": "2023-12-24T23:38:56.339388",
     "exception": false,
     "start_time": "2023-12-24T23:38:56.187162",
     "status": "completed"
    },
    "tags": []
   },
   "outputs": [
    {
     "data": {
      "image/png": "[encoded data removed]",
      "text/plain": [
       "<Figure size 640x480 with 1 Axes>"
      ]
     },
     "metadata": {},
     "output_type": "display_data"
    }
   ],
   "source": [
    "chart = completed_orders.groupby([\n",
    "    'event_date'\n",
    "    ]).number_of_tickets.sum().resample('M').sum().cumsum().plot.bar()"
   ]
  },
  {
   "cell_type": "code",
   "execution_count": null,
   "id": "12d3ec79",
   "metadata": {
    "papermill": {
     "duration": 0.003926,
     "end_time": "2023-12-24T23:38:56.347557",
     "exception": false,
     "start_time": "2023-12-24T23:38:56.343631",
     "status": "completed"
    },
    "tags": []
   },
   "outputs": [],
   "source": []
  }
 ],
 "metadata": {
  "kernelspec": {
   "display_name": "leeds-2023-YZF5GfJv",
   "language": "python",
   "name": "python3"
  },
  "language_info": {
   "codemirror_mode": {
    "name": "ipython",
    "version": 3
   },
   "file_extension": ".py",
   "mimetype": "text/x-python",
   "name": "python",
   "nbconvert_exporter": "python",
   "pygments_lexer": "ipython3",
   "version": "3.10.13"
  },
  "papermill": {
   "default_parameters": {},
   "duration": 13.202778,
   "end_time": "2023-12-24T23:38:56.668046",
   "environment_variables": {},
   "exception": null,
   "input_path": "tickets.ipynb",
   "output_path": "../../../../working/output/tickets-transform.ipynb",
   "parameters": {},
   "start_time": "2023-12-24T23:38:43.465268",
   "version": "2.4.0"
  }
 },
 "nbformat": 4,
 "nbformat_minor": 5
}