{
 "cells": [
  {
   "cell_type": "code",
   "execution_count": 1,
   "id": "fcb6c83b",
   "metadata": {
    "execution": {
     "iopub.execute_input": "2023-10-09T23:40:31.971251Z",
     "iopub.status.busy": "2023-10-09T23:40:31.970648Z",
     "iopub.status.idle": "2023-10-09T23:40:32.218362Z",
     "shell.execute_reply": "2023-10-09T23:40:32.217701Z"
    },
    "papermill": {
     "duration": 0.253486,
     "end_time": "2023-10-09T23:40:32.220593",
     "exception": false,
     "start_time": "2023-10-09T23:40:31.967107",
     "status": "completed"
    },
    "tags": []
   },
   "outputs": [],
   "source": [
    "import os\n",
    "import pandas as pd"
   ]
  },
  {
   "cell_type": "code",
   "execution_count": 2,
   "id": "8ff9f255",
   "metadata": {
    "execution": {
     "iopub.execute_input": "2023-10-09T23:40:32.226089Z",
     "iopub.status.busy": "2023-10-09T23:40:32.225456Z",
     "iopub.status.idle": "2023-10-09T23:40:32.230071Z",
     "shell.execute_reply": "2023-10-09T23:40:32.229506Z"
    },
    "papermill": {
     "duration": 0.008745,
     "end_time": "2023-10-09T23:40:32.231435",
     "exception": false,
     "start_time": "2023-10-09T23:40:32.222690",
     "status": "completed"
    },
    "tags": []
   },
   "outputs": [],
   "source": [
    "DATA_DIR='../../../docs/metrics/events/promote/_data/'\n",
    "os.makedirs(DATA_DIR, exist_ok=True)"
   ]
  },
  {
   "cell_type": "code",
   "execution_count": 3,
   "id": "b3315574",
   "metadata": {
    "execution": {
     "iopub.execute_input": "2023-10-09T23:40:32.236195Z",
     "iopub.status.busy": "2023-10-09T23:40:32.235652Z",
     "iopub.status.idle": "2023-10-09T23:40:32.244250Z",
     "shell.execute_reply": "2023-10-09T23:40:32.243673Z"
    },
    "papermill": {
     "duration": 0.012429,
     "end_time": "2023-10-09T23:40:32.245643",
     "exception": false,
     "start_time": "2023-10-09T23:40:32.233214",
     "status": "completed"
    },
    "tags": []
   },
   "outputs": [],
   "source": [
    "data = pd.read_csv('../../../data/metrics/events/promote-events/events.csv', parse_dates=['time'])"
   ]
  },
  {
   "cell_type": "code",
   "execution_count": 4,
   "id": "d4af072e",
   "metadata": {
    "execution": {
     "iopub.execute_input": "2023-10-09T23:40:32.250523Z",
     "iopub.status.busy": "2023-10-09T23:40:32.249999Z",
     "iopub.status.idle": "2023-10-09T23:40:32.256334Z",
     "shell.execute_reply": "2023-10-09T23:40:32.255774Z"
    },
    "papermill": {
     "duration": 0.010326,
     "end_time": "2023-10-09T23:40:32.257781",
     "exception": false,
     "start_time": "2023-10-09T23:40:32.247455",
     "status": "completed"
    },
    "tags": []
   },
   "outputs": [],
   "source": [
    "pd.Series({\n",
    "    'total_events': len(data.id.unique()),\n",
    "    'total_event_instances': len(data.time),\n",
    "    'earliest_event': data.time.min(),\n",
    "    'latest_event': data.time.max(),\n",
    "}).to_json(\n",
    "    os.path.join(DATA_DIR, 'headlines.json'),\n",
    "    date_format='iso', indent=2\n",
    ")"
   ]
  },
  {
   "cell_type": "code",
   "execution_count": 5,
   "id": "e80332ec",
   "metadata": {
    "execution": {
     "iopub.execute_input": "2023-10-09T23:40:32.262386Z",
     "iopub.status.busy": "2023-10-09T23:40:32.262176Z",
     "iopub.status.idle": "2023-10-09T23:40:32.270323Z",
     "shell.execute_reply": "2023-10-09T23:40:32.269746Z"
    },
    "papermill": {
     "duration": 0.012288,
     "end_time": "2023-10-09T23:40:32.271902",
     "exception": false,
     "start_time": "2023-10-09T23:40:32.259614",
     "status": "completed"
    },
    "tags": []
   },
   "outputs": [],
   "source": [
    "events = pd.DataFrame({\n",
    "    'events': data.groupby('id').agg({ 'time': 'min' }).reset_index().groupby('time').id.count(),\n",
    "    'event_instances': data.groupby('time').id.count(),\n",
    "}).fillna(0).astype(int)"
   ]
  },
  {
   "cell_type": "code",
   "execution_count": 6,
   "id": "3cff6973",
   "metadata": {
    "execution": {
     "iopub.execute_input": "2023-10-09T23:40:32.276682Z",
     "iopub.status.busy": "2023-10-09T23:40:32.276264Z",
     "iopub.status.idle": "2023-10-09T23:40:32.279672Z",
     "shell.execute_reply": "2023-10-09T23:40:32.279046Z"
    },
    "papermill": {
     "duration": 0.007303,
     "end_time": "2023-10-09T23:40:32.281072",
     "exception": false,
     "start_time": "2023-10-09T23:40:32.273769",
     "status": "completed"
    },
    "tags": []
   },
   "outputs": [],
   "source": [
    "def cumulate(data):\n",
    "    return pd.concat([\n",
    "        data,\n",
    "        data.cumsum().rename(columns=lambda c: f'cumulative_{c}')\n",
    "    ], axis=1)"
   ]
  },
  {
   "cell_type": "code",
   "execution_count": 7,
   "id": "2cca2d72",
   "metadata": {
    "execution": {
     "iopub.execute_input": "2023-10-09T23:40:32.286022Z",
     "iopub.status.busy": "2023-10-09T23:40:32.285496Z",
     "iopub.status.idle": "2023-10-09T23:40:32.295634Z",
     "shell.execute_reply": "2023-10-09T23:40:32.295051Z"
    },
    "papermill": {
     "duration": 0.014095,
     "end_time": "2023-10-09T23:40:32.297053",
     "exception": false,
     "start_time": "2023-10-09T23:40:32.282958",
     "status": "completed"
    },
    "tags": []
   },
   "outputs": [],
   "source": [
    "events.resample('W-FRI').sum().pipe(cumulate).to_csv(os.path.join(DATA_DIR, 'by_week.csv'))"
   ]
  },
  {
   "cell_type": "code",
   "execution_count": 8,
   "id": "989aef5e",
   "metadata": {
    "execution": {
     "iopub.execute_input": "2023-10-09T23:40:32.302091Z",
     "iopub.status.busy": "2023-10-09T23:40:32.301678Z",
     "iopub.status.idle": "2023-10-09T23:40:32.307430Z",
     "shell.execute_reply": "2023-10-09T23:40:32.306794Z"
    },
    "papermill": {
     "duration": 0.009929,
     "end_time": "2023-10-09T23:40:32.309010",
     "exception": false,
     "start_time": "2023-10-09T23:40:32.299081",
     "status": "completed"
    },
    "tags": []
   },
   "outputs": [],
   "source": [
    "events.resample('MS').sum().pipe(cumulate).to_csv(os.path.join(DATA_DIR, 'by_month.csv'))"
   ]
  },
  {
   "cell_type": "code",
   "execution_count": null,
   "id": "88a9c25a",
   "metadata": {
    "papermill": {
     "duration": 0.001918,
     "end_time": "2023-10-09T23:40:32.312900",
     "exception": false,
     "start_time": "2023-10-09T23:40:32.310982",
     "status": "completed"
    },
    "tags": []
   },
   "outputs": [],
   "source": []
  }
 ],
 "metadata": {
  "kernelspec": {
   "display_name": "leeds-2023-YZF5GfJv",
   "language": "python",
   "name": "python3"
  },
  "language_info": {
   "codemirror_mode": {
    "name": "ipython",
    "version": 3
   },
   "file_extension": ".py",
   "mimetype": "text/x-python",
   "name": "python",
   "nbconvert_exporter": "python",
   "pygments_lexer": "ipython3",
   "version": "3.10.13"
  },
  "papermill": {
   "default_parameters": {},
   "duration": 1.913,
   "end_time": "2023-10-09T23:40:32.532122",
   "environment_variables": {},
   "exception": null,
   "input_path": "prepare.ipynb",
   "output_path": "../../../working/output/promote-events-prepare.ipynb",
   "parameters": {},
   "start_time": "2023-10-09T23:40:30.619122",
   "version": "2.4.0"
  }
 },
 "nbformat": 4,
 "nbformat_minor": 5
}