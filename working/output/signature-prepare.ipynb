{
 "cells": [
  {
   "cell_type": "code",
   "execution_count": 1,
   "id": "59dd8edd",
   "metadata": {
    "execution": {
     "iopub.execute_input": "2023-09-20T14:26:42.649461Z",
     "iopub.status.busy": "2023-09-20T14:26:42.648924Z",
     "iopub.status.idle": "2023-09-20T14:26:52.685037Z",
     "shell.execute_reply": "2023-09-20T14:26:52.684335Z"
    },
    "papermill": {
     "duration": 10.042128,
     "end_time": "2023-09-20T14:26:52.686828",
     "exception": false,
     "start_time": "2023-09-20T14:26:42.644700",
     "status": "completed"
    },
    "tags": []
   },
   "outputs": [],
   "source": [
    "import os\n",
    "import pandas as pd\n",
    "from events import load_event_data, get_first_ward, normalise_ward"
   ]
  },
  {
   "cell_type": "code",
   "execution_count": 2,
   "id": "1cc119f0",
   "metadata": {
    "execution": {
     "iopub.execute_input": "2023-09-20T14:26:52.693597Z",
     "iopub.status.busy": "2023-09-20T14:26:52.693077Z",
     "iopub.status.idle": "2023-09-20T14:26:52.697424Z",
     "shell.execute_reply": "2023-09-20T14:26:52.696722Z"
    },
    "papermill": {
     "duration": 0.009621,
     "end_time": "2023-09-20T14:26:52.699145",
     "exception": false,
     "start_time": "2023-09-20T14:26:52.689524",
     "status": "completed"
    },
    "tags": []
   },
   "outputs": [],
   "source": [
    "latest_date = pd.Timestamp.today().ceil('D')"
   ]
  },
  {
   "cell_type": "code",
   "execution_count": 3,
   "id": "e5d27cb3",
   "metadata": {
    "execution": {
     "iopub.execute_input": "2023-09-20T14:26:52.705319Z",
     "iopub.status.busy": "2023-09-20T14:26:52.704822Z",
     "iopub.status.idle": "2023-09-20T14:26:52.722797Z",
     "shell.execute_reply": "2023-09-20T14:26:52.722147Z"
    },
    "papermill": {
     "duration": 0.023063,
     "end_time": "2023-09-20T14:26:52.724552",
     "exception": false,
     "start_time": "2023-09-20T14:26:52.701489",
     "status": "completed"
    },
    "tags": []
   },
   "outputs": [],
   "source": [
    "tickets = pd.read_csv('../../../../data/metrics/events/tickets/orders.csv', parse_dates=['created_at', 'event_date'])\n",
    "tickets = tickets[tickets.event_date <= latest_date]"
   ]
  },
  {
   "cell_type": "code",
   "execution_count": 4,
   "id": "30db00bd",
   "metadata": {
    "execution": {
     "iopub.execute_input": "2023-09-20T14:26:52.730816Z",
     "iopub.status.busy": "2023-09-20T14:26:52.730203Z",
     "iopub.status.idle": "2023-09-20T14:26:52.955220Z",
     "shell.execute_reply": "2023-09-20T14:26:52.954524Z"
    },
    "papermill": {
     "duration": 0.230175,
     "end_time": "2023-09-20T14:26:52.957165",
     "exception": false,
     "start_time": "2023-09-20T14:26:52.726990",
     "status": "completed"
    },
    "tags": []
   },
   "outputs": [],
   "source": [
    "events = load_event_data()\n",
    "\n",
    "events = pd.concat([\n",
    "  events,\n",
    "  events.pipe(get_first_ward).pipe(normalise_ward).fillna('UNKNOWN'),\n",
    "  pd.Series(\n",
    "      events.actual_audience_size_number_of_participants_in_person + events.actual_audience_size_number_of_participants_online,\n",
    "      name='attendances'\n",
    "  )\n",
    "], axis=1).rename(columns={\n",
    "    'start_date': 'date'\n",
    "}).loc[:, ['ward_code', 'date', 'event_unique_identifier', 'attendances']]"
   ]
  },
  {
   "cell_type": "code",
   "execution_count": 5,
   "id": "60d08aca",
   "metadata": {
    "execution": {
     "iopub.execute_input": "2023-09-20T14:26:52.964022Z",
     "iopub.status.busy": "2023-09-20T14:26:52.963530Z",
     "iopub.status.idle": "2023-09-20T14:26:52.968038Z",
     "shell.execute_reply": "2023-09-20T14:26:52.967445Z"
    },
    "papermill": {
     "duration": 0.009781,
     "end_time": "2023-09-20T14:26:52.969641",
     "exception": false,
     "start_time": "2023-09-20T14:26:52.959860",
     "status": "completed"
    },
    "tags": []
   },
   "outputs": [],
   "source": [
    "OUTPUT_DIR='../../../../docs/metrics/events/signature/_data/'\n",
    "os.makedirs(OUTPUT_DIR, exist_ok=True)"
   ]
  },
  {
   "cell_type": "markdown",
   "id": "04fadef2",
   "metadata": {
    "papermill": {
     "duration": 0.002339,
     "end_time": "2023-09-20T14:26:52.974386",
     "exception": false,
     "start_time": "2023-09-20T14:26:52.972047",
     "status": "completed"
    },
    "tags": []
   },
   "source": [
    "Events CSVs"
   ]
  },
  {
   "cell_type": "code",
   "execution_count": 6,
   "id": "3f8a6da1",
   "metadata": {
    "execution": {
     "iopub.execute_input": "2023-09-20T14:26:52.980291Z",
     "iopub.status.busy": "2023-09-20T14:26:52.979842Z",
     "iopub.status.idle": "2023-09-20T14:26:52.986825Z",
     "shell.execute_reply": "2023-09-20T14:26:52.986180Z"
    },
    "papermill": {
     "duration": 0.011609,
     "end_time": "2023-09-20T14:26:52.988307",
     "exception": false,
     "start_time": "2023-09-20T14:26:52.976698",
     "status": "completed"
    },
    "tags": []
   },
   "outputs": [],
   "source": [
    "pd.DataFrame({\n",
    "  'events': events.groupby('ward_code').event_unique_identifier.count(),\n",
    "  'attendances': events.groupby('ward_code').attendances.sum().astype(int),\n",
    "}).to_csv(os.path.join(OUTPUT_DIR, 'events_by_ward.csv'))\n"
   ]
  },
  {
   "cell_type": "code",
   "execution_count": 7,
   "id": "80454e67",
   "metadata": {
    "execution": {
     "iopub.execute_input": "2023-09-20T14:26:52.994400Z",
     "iopub.status.busy": "2023-09-20T14:26:52.993960Z",
     "iopub.status.idle": "2023-09-20T14:26:53.004595Z",
     "shell.execute_reply": "2023-09-20T14:26:53.004001Z"
    },
    "papermill": {
     "duration": 0.015506,
     "end_time": "2023-09-20T14:26:53.006258",
     "exception": false,
     "start_time": "2023-09-20T14:26:52.990752",
     "status": "completed"
    },
    "tags": []
   },
   "outputs": [],
   "source": [
    "pd.DataFrame({\n",
    "  'events': events.groupby('date').event_unique_identifier.count(),\n",
    "  'attendances': events.groupby('date').attendances.sum().astype(int),\n",
    "}).resample('M').sum().astype(int).to_csv(os.path.join(OUTPUT_DIR, 'events_by_date.csv'))"
   ]
  },
  {
   "cell_type": "markdown",
   "id": "ce54e742",
   "metadata": {
    "papermill": {
     "duration": 0.002476,
     "end_time": "2023-09-20T14:26:53.011184",
     "exception": false,
     "start_time": "2023-09-20T14:26:53.008708",
     "status": "completed"
    },
    "tags": []
   },
   "source": [
    "Tickets CSV"
   ]
  },
  {
   "cell_type": "code",
   "execution_count": 8,
   "id": "2bf0c92e",
   "metadata": {
    "execution": {
     "iopub.execute_input": "2023-09-20T14:26:53.017205Z",
     "iopub.status.busy": "2023-09-20T14:26:53.016787Z",
     "iopub.status.idle": "2023-09-20T14:26:53.023708Z",
     "shell.execute_reply": "2023-09-20T14:26:53.023125Z"
    },
    "papermill": {
     "duration": 0.011671,
     "end_time": "2023-09-20T14:26:53.025243",
     "exception": false,
     "start_time": "2023-09-20T14:26:53.013572",
     "status": "completed"
    },
    "tags": []
   },
   "outputs": [],
   "source": [
    "pd.DataFrame({\n",
    "  'orders': tickets.groupby('ward_code').number_of_tickets.count(),\n",
    "  'tickets': tickets.groupby('ward_code').number_of_tickets.sum().astype(int),\n",
    "}).to_csv(os.path.join(OUTPUT_DIR, 'tickets_by_ward.csv'))"
   ]
  },
  {
   "cell_type": "code",
   "execution_count": 9,
   "id": "a1d0be7c",
   "metadata": {
    "execution": {
     "iopub.execute_input": "2023-09-20T14:26:53.031617Z",
     "iopub.status.busy": "2023-09-20T14:26:53.030971Z",
     "iopub.status.idle": "2023-09-20T14:26:53.039115Z",
     "shell.execute_reply": "2023-09-20T14:26:53.038507Z"
    },
    "papermill": {
     "duration": 0.012996,
     "end_time": "2023-09-20T14:26:53.040742",
     "exception": false,
     "start_time": "2023-09-20T14:26:53.027746",
     "status": "completed"
    },
    "tags": []
   },
   "outputs": [],
   "source": [
    "pd.DataFrame({\n",
    "  'orders': tickets.groupby('event_date').number_of_tickets.count(),\n",
    "  'tickets': tickets.groupby('event_date').number_of_tickets.sum().astype(int),\n",
    "}).resample('M').sum().to_csv(os.path.join(OUTPUT_DIR, 'tickets_by_event_date.csv'))"
   ]
  },
  {
   "cell_type": "code",
   "execution_count": 10,
   "id": "dac8b4df",
   "metadata": {
    "execution": {
     "iopub.execute_input": "2023-09-20T14:26:53.047973Z",
     "iopub.status.busy": "2023-09-20T14:26:53.047427Z",
     "iopub.status.idle": "2023-09-20T14:26:53.054219Z",
     "shell.execute_reply": "2023-09-20T14:26:53.053631Z"
    },
    "papermill": {
     "duration": 0.012697,
     "end_time": "2023-09-20T14:26:53.055990",
     "exception": false,
     "start_time": "2023-09-20T14:26:53.043293",
     "status": "completed"
    },
    "tags": []
   },
   "outputs": [],
   "source": [
    "pd.Series({\n",
    "    'total_events': events.event_unique_identifier.count(),\n",
    "    'total_attendances': events.attendances.count(),\n",
    "    'first_event': events.date.min(),\n",
    "    'latest_event': events.date.max(),\n",
    "    'total_ticket_orders_for_events_to_date': tickets.number_of_tickets.count(),\n",
    "    'total_tickets_sold_for_events_to_date': tickets.number_of_tickets.sum(),\n",
    "}).to_json(os.path.join(OUTPUT_DIR, 'headlines.json'), indent=2)"
   ]
  },
  {
   "cell_type": "code",
   "execution_count": null,
   "id": "804ec527",
   "metadata": {
    "papermill": {
     "duration": 0.002503,
     "end_time": "2023-09-20T14:26:53.061076",
     "exception": false,
     "start_time": "2023-09-20T14:26:53.058573",
     "status": "completed"
    },
    "tags": []
   },
   "outputs": [],
   "source": []
  }
 ],
 "metadata": {
  "kernelspec": {
   "display_name": "leeds-2023-YZF5GfJv",
   "language": "python",
   "name": "python3"
  },
  "language_info": {
   "codemirror_mode": {
    "name": "ipython",
    "version": 3
   },
   "file_extension": ".py",
   "mimetype": "text/x-python",
   "name": "python",
   "nbconvert_exporter": "python",
   "pygments_lexer": "ipython3",
   "version": "3.10.13"
  },
  "papermill": {
   "default_parameters": {},
   "duration": 12.100376,
   "end_time": "2023-09-20T14:26:53.381309",
   "environment_variables": {},
   "exception": null,
   "input_path": "prepare.ipynb",
   "output_path": "../../../../working/output/signature-prepare.ipynb",
   "parameters": {},
   "start_time": "2023-09-20T14:26:41.280933",
   "version": "2.4.0"
  }
 },
 "nbformat": 4,
 "nbformat_minor": 5
}