{
 "cells": [
  {
   "cell_type": "code",
   "execution_count": 1,
   "id": "6af24c52",
   "metadata": {
    "execution": {
     "iopub.execute_input": "2023-08-24T23:39:15.408977Z",
     "iopub.status.busy": "2023-08-24T23:39:15.408455Z",
     "iopub.status.idle": "2023-08-24T23:39:25.002370Z",
     "shell.execute_reply": "2023-08-24T23:39:25.001191Z"
    },
    "papermill": {
     "duration": 9.600455,
     "end_time": "2023-08-24T23:39:25.004694",
     "exception": false,
     "start_time": "2023-08-24T23:39:15.404239",
     "status": "completed"
    },
    "tags": []
   },
   "outputs": [],
   "source": [
    "import os\n",
    "import pandas as pd\n",
    "from events import load_event_data, get_first_ward, normalise_ward"
   ]
  },
  {
   "cell_type": "code",
   "execution_count": 2,
   "id": "dabeab9b",
   "metadata": {
    "execution": {
     "iopub.execute_input": "2023-08-24T23:39:25.010611Z",
     "iopub.status.busy": "2023-08-24T23:39:25.010138Z",
     "iopub.status.idle": "2023-08-24T23:39:25.013980Z",
     "shell.execute_reply": "2023-08-24T23:39:25.013314Z"
    },
    "papermill": {
     "duration": 0.008462,
     "end_time": "2023-08-24T23:39:25.015581",
     "exception": false,
     "start_time": "2023-08-24T23:39:25.007119",
     "status": "completed"
    },
    "tags": []
   },
   "outputs": [],
   "source": [
    "latest_date = pd.Timestamp.today().ceil('D')"
   ]
  },
  {
   "cell_type": "code",
   "execution_count": 3,
   "id": "75982b97",
   "metadata": {
    "execution": {
     "iopub.execute_input": "2023-08-24T23:39:25.020833Z",
     "iopub.status.busy": "2023-08-24T23:39:25.020393Z",
     "iopub.status.idle": "2023-08-24T23:39:25.035401Z",
     "shell.execute_reply": "2023-08-24T23:39:25.034832Z"
    },
    "papermill": {
     "duration": 0.019447,
     "end_time": "2023-08-24T23:39:25.036997",
     "exception": false,
     "start_time": "2023-08-24T23:39:25.017550",
     "status": "completed"
    },
    "tags": []
   },
   "outputs": [],
   "source": [
    "tickets = pd.read_csv('../../../../data/metrics/events/tickets/orders.csv', parse_dates=['created_at', 'event_date'])\n",
    "tickets = tickets[tickets.event_date <= latest_date]"
   ]
  },
  {
   "cell_type": "code",
   "execution_count": 4,
   "id": "06867f62",
   "metadata": {
    "execution": {
     "iopub.execute_input": "2023-08-24T23:39:25.042494Z",
     "iopub.status.busy": "2023-08-24T23:39:25.041898Z",
     "iopub.status.idle": "2023-08-24T23:39:25.216177Z",
     "shell.execute_reply": "2023-08-24T23:39:25.215455Z"
    },
    "papermill": {
     "duration": 0.179051,
     "end_time": "2023-08-24T23:39:25.218110",
     "exception": false,
     "start_time": "2023-08-24T23:39:25.039059",
     "status": "completed"
    },
    "tags": []
   },
   "outputs": [],
   "source": [
    "events = load_event_data()\n",
    "\n",
    "events = pd.concat([\n",
    "  events,\n",
    "  events.pipe(get_first_ward).pipe(normalise_ward).fillna('UNKNOWN'),\n",
    "  pd.Series(\n",
    "      events.actual_audience_size_number_of_participants_in_person + events.actual_audience_size_number_of_participants_online,\n",
    "      name='attendances'\n",
    "  )\n",
    "], axis=1).rename(columns={\n",
    "    'start_date': 'date'\n",
    "}).loc[:, ['ward_code', 'date', 'event_unique_identifier', 'attendances']]"
   ]
  },
  {
   "cell_type": "code",
   "execution_count": 5,
   "id": "f5c3b7ce",
   "metadata": {
    "execution": {
     "iopub.execute_input": "2023-08-24T23:39:25.224234Z",
     "iopub.status.busy": "2023-08-24T23:39:25.223750Z",
     "iopub.status.idle": "2023-08-24T23:39:25.227320Z",
     "shell.execute_reply": "2023-08-24T23:39:25.226620Z"
    },
    "papermill": {
     "duration": 0.008597,
     "end_time": "2023-08-24T23:39:25.229089",
     "exception": false,
     "start_time": "2023-08-24T23:39:25.220492",
     "status": "completed"
    },
    "tags": []
   },
   "outputs": [],
   "source": [
    "OUTPUT_DIR='../../../../docs/metrics/events/signature/_data/'\n",
    "os.makedirs(OUTPUT_DIR, exist_ok=True)"
   ]
  },
  {
   "cell_type": "markdown",
   "id": "85cc78c5",
   "metadata": {
    "papermill": {
     "duration": 0.002223,
     "end_time": "2023-08-24T23:39:25.233485",
     "exception": false,
     "start_time": "2023-08-24T23:39:25.231262",
     "status": "completed"
    },
    "tags": []
   },
   "source": [
    "Events CSVs"
   ]
  },
  {
   "cell_type": "code",
   "execution_count": 6,
   "id": "aa62e695",
   "metadata": {
    "execution": {
     "iopub.execute_input": "2023-08-24T23:39:25.239065Z",
     "iopub.status.busy": "2023-08-24T23:39:25.238608Z",
     "iopub.status.idle": "2023-08-24T23:39:25.245721Z",
     "shell.execute_reply": "2023-08-24T23:39:25.245099Z"
    },
    "papermill": {
     "duration": 0.011681,
     "end_time": "2023-08-24T23:39:25.247258",
     "exception": false,
     "start_time": "2023-08-24T23:39:25.235577",
     "status": "completed"
    },
    "tags": []
   },
   "outputs": [],
   "source": [
    "pd.DataFrame({\n",
    "  'events': events.groupby('ward_code').event_unique_identifier.count(),\n",
    "  'attendances': events.groupby('ward_code').attendances.sum().astype(int),\n",
    "}).to_csv(os.path.join(OUTPUT_DIR, 'events_by_ward.csv'))\n"
   ]
  },
  {
   "cell_type": "code",
   "execution_count": 7,
   "id": "e57d4bec",
   "metadata": {
    "execution": {
     "iopub.execute_input": "2023-08-24T23:39:25.252976Z",
     "iopub.status.busy": "2023-08-24T23:39:25.252402Z",
     "iopub.status.idle": "2023-08-24T23:39:25.264277Z",
     "shell.execute_reply": "2023-08-24T23:39:25.263706Z"
    },
    "papermill": {
     "duration": 0.016299,
     "end_time": "2023-08-24T23:39:25.265717",
     "exception": false,
     "start_time": "2023-08-24T23:39:25.249418",
     "status": "completed"
    },
    "tags": []
   },
   "outputs": [],
   "source": [
    "pd.DataFrame({\n",
    "  'events': events.groupby('date').event_unique_identifier.count(),\n",
    "  'attendances': events.groupby('date').attendances.sum().astype(int),\n",
    "}).resample('M').sum().astype(int).to_csv(os.path.join(OUTPUT_DIR, 'events_by_date.csv'))"
   ]
  },
  {
   "cell_type": "markdown",
   "id": "6fce03d3",
   "metadata": {
    "papermill": {
     "duration": 0.002222,
     "end_time": "2023-08-24T23:39:25.270113",
     "exception": false,
     "start_time": "2023-08-24T23:39:25.267891",
     "status": "completed"
    },
    "tags": []
   },
   "source": [
    "Tickets CSV"
   ]
  },
  {
   "cell_type": "code",
   "execution_count": 8,
   "id": "29c1c8b0",
   "metadata": {
    "execution": {
     "iopub.execute_input": "2023-08-24T23:39:25.275724Z",
     "iopub.status.busy": "2023-08-24T23:39:25.275294Z",
     "iopub.status.idle": "2023-08-24T23:39:25.282074Z",
     "shell.execute_reply": "2023-08-24T23:39:25.281515Z"
    },
    "papermill": {
     "duration": 0.011383,
     "end_time": "2023-08-24T23:39:25.283617",
     "exception": false,
     "start_time": "2023-08-24T23:39:25.272234",
     "status": "completed"
    },
    "tags": []
   },
   "outputs": [],
   "source": [
    "pd.DataFrame({\n",
    "  'orders': tickets.groupby('ward_code').number_of_tickets.count(),\n",
    "  'tickets': tickets.groupby('ward_code').number_of_tickets.sum().astype(int),\n",
    "}).to_csv(os.path.join(OUTPUT_DIR, 'tickets_by_ward.csv'))"
   ]
  },
  {
   "cell_type": "code",
   "execution_count": 9,
   "id": "1b9e1a90",
   "metadata": {
    "execution": {
     "iopub.execute_input": "2023-08-24T23:39:25.289315Z",
     "iopub.status.busy": "2023-08-24T23:39:25.288777Z",
     "iopub.status.idle": "2023-08-24T23:39:25.296481Z",
     "shell.execute_reply": "2023-08-24T23:39:25.295927Z"
    },
    "papermill": {
     "duration": 0.01222,
     "end_time": "2023-08-24T23:39:25.298013",
     "exception": false,
     "start_time": "2023-08-24T23:39:25.285793",
     "status": "completed"
    },
    "tags": []
   },
   "outputs": [],
   "source": [
    "pd.DataFrame({\n",
    "  'orders': tickets.groupby('event_date').number_of_tickets.count(),\n",
    "  'tickets': tickets.groupby('event_date').number_of_tickets.sum().astype(int),\n",
    "}).resample('M').sum().to_csv(os.path.join(OUTPUT_DIR, 'tickets_by_event_date.csv'))"
   ]
  },
  {
   "cell_type": "code",
   "execution_count": 10,
   "id": "06705576",
   "metadata": {
    "execution": {
     "iopub.execute_input": "2023-08-24T23:39:25.304479Z",
     "iopub.status.busy": "2023-08-24T23:39:25.304071Z",
     "iopub.status.idle": "2023-08-24T23:39:25.309189Z",
     "shell.execute_reply": "2023-08-24T23:39:25.308533Z"
    },
    "papermill": {
     "duration": 0.010529,
     "end_time": "2023-08-24T23:39:25.310712",
     "exception": false,
     "start_time": "2023-08-24T23:39:25.300183",
     "status": "completed"
    },
    "tags": []
   },
   "outputs": [],
   "source": [
    "pd.Series({\n",
    "    'total_events': events.event_unique_identifier.count(),\n",
    "    'total_attendances': events.attendances.count(),\n",
    "    'first_event': events.date.min(),\n",
    "    'latest_event': events.date.max(),\n",
    "    'total_ticket_orders_for_events_to_date': tickets.number_of_tickets.count(),\n",
    "    'total_tickets_sold_for_events_to_date': tickets.number_of_tickets.sum(),\n",
    "}).to_json(os.path.join(OUTPUT_DIR, 'headlines.json'), indent=2)"
   ]
  },
  {
   "cell_type": "code",
   "execution_count": null,
   "id": "a40af4c4",
   "metadata": {
    "papermill": {
     "duration": 0.00218,
     "end_time": "2023-08-24T23:39:25.315124",
     "exception": false,
     "start_time": "2023-08-24T23:39:25.312944",
     "status": "completed"
    },
    "tags": []
   },
   "outputs": [],
   "source": []
  }
 ],
 "metadata": {
  "kernelspec": {
   "display_name": "leeds-2023-YZF5GfJv",
   "language": "python",
   "name": "python3"
  },
  "language_info": {
   "codemirror_mode": {
    "name": "ipython",
    "version": 3
   },
   "file_extension": ".py",
   "mimetype": "text/x-python",
   "name": "python",
   "nbconvert_exporter": "python",
   "pygments_lexer": "ipython3",
   "version": "3.10.12"
  },
  "papermill": {
   "default_parameters": {},
   "duration": 11.625747,
   "end_time": "2023-08-24T23:39:25.633862",
   "environment_variables": {},
   "exception": null,
   "input_path": "prepare.ipynb",
   "output_path": "../../../../working/output/signature-prepare.ipynb",
   "parameters": {},
   "start_time": "2023-08-24T23:39:14.008115",
   "version": "2.4.0"
  }
 },
 "nbformat": 4,
 "nbformat_minor": 5
}