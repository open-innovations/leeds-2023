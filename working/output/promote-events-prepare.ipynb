{
 "cells": [
  {
   "cell_type": "code",
   "execution_count": 1,
   "id": "5fd3cbab",
   "metadata": {
    "execution": {
     "iopub.execute_input": "2023-07-16T23:39:28.941360Z",
     "iopub.status.busy": "2023-07-16T23:39:28.940624Z",
     "iopub.status.idle": "2023-07-16T23:39:29.178159Z",
     "shell.execute_reply": "2023-07-16T23:39:29.177533Z"
    },
    "papermill": {
     "duration": 0.242291,
     "end_time": "2023-07-16T23:39:29.179806",
     "exception": false,
     "start_time": "2023-07-16T23:39:28.937515",
     "status": "completed"
    },
    "tags": []
   },
   "outputs": [],
   "source": [
    "import os\n",
    "import pandas as pd"
   ]
  },
  {
   "cell_type": "code",
   "execution_count": 2,
   "id": "3e0c8f85",
   "metadata": {
    "execution": {
     "iopub.execute_input": "2023-07-16T23:39:29.185050Z",
     "iopub.status.busy": "2023-07-16T23:39:29.184507Z",
     "iopub.status.idle": "2023-07-16T23:39:29.187979Z",
     "shell.execute_reply": "2023-07-16T23:39:29.187383Z"
    },
    "papermill": {
     "duration": 0.007654,
     "end_time": "2023-07-16T23:39:29.189390",
     "exception": false,
     "start_time": "2023-07-16T23:39:29.181736",
     "status": "completed"
    },
    "tags": []
   },
   "outputs": [],
   "source": [
    "DATA_DIR='../../../docs/metrics/events/promote/_data/'\n",
    "os.makedirs(DATA_DIR, exist_ok=True)"
   ]
  },
  {
   "cell_type": "code",
   "execution_count": 3,
   "id": "9b1040db",
   "metadata": {
    "execution": {
     "iopub.execute_input": "2023-07-16T23:39:29.193657Z",
     "iopub.status.busy": "2023-07-16T23:39:29.193168Z",
     "iopub.status.idle": "2023-07-16T23:39:29.202565Z",
     "shell.execute_reply": "2023-07-16T23:39:29.202011Z"
    },
    "papermill": {
     "duration": 0.013041,
     "end_time": "2023-07-16T23:39:29.204004",
     "exception": false,
     "start_time": "2023-07-16T23:39:29.190963",
     "status": "completed"
    },
    "tags": []
   },
   "outputs": [],
   "source": [
    "data = pd.read_csv('../../../data/metrics/events/promote-events/events.csv', parse_dates=['time'])"
   ]
  },
  {
   "cell_type": "code",
   "execution_count": 4,
   "id": "a555976f",
   "metadata": {
    "execution": {
     "iopub.execute_input": "2023-07-16T23:39:29.208323Z",
     "iopub.status.busy": "2023-07-16T23:39:29.207922Z",
     "iopub.status.idle": "2023-07-16T23:39:29.213107Z",
     "shell.execute_reply": "2023-07-16T23:39:29.212516Z"
    },
    "papermill": {
     "duration": 0.008747,
     "end_time": "2023-07-16T23:39:29.214375",
     "exception": false,
     "start_time": "2023-07-16T23:39:29.205628",
     "status": "completed"
    },
    "tags": []
   },
   "outputs": [],
   "source": [
    "pd.Series({\n",
    "    'total_events': len(data.id.unique()),\n",
    "    'total_event_instances': len(data.time),\n",
    "    'earliest_event': data.time.min(),\n",
    "    'latest_event': data.time.max(),\n",
    "}).to_json(\n",
    "    os.path.join(DATA_DIR, 'headlines.json'),\n",
    "    date_format='iso', indent=2\n",
    ")"
   ]
  },
  {
   "cell_type": "code",
   "execution_count": 5,
   "id": "bb3db08b",
   "metadata": {
    "execution": {
     "iopub.execute_input": "2023-07-16T23:39:29.218391Z",
     "iopub.status.busy": "2023-07-16T23:39:29.218178Z",
     "iopub.status.idle": "2023-07-16T23:39:29.225863Z",
     "shell.execute_reply": "2023-07-16T23:39:29.225331Z"
    },
    "papermill": {
     "duration": 0.011238,
     "end_time": "2023-07-16T23:39:29.227186",
     "exception": false,
     "start_time": "2023-07-16T23:39:29.215948",
     "status": "completed"
    },
    "tags": []
   },
   "outputs": [],
   "source": [
    "events = pd.DataFrame({\n",
    "    'events': data.groupby('id').agg({ 'time': 'min' }).reset_index().groupby('time').id.count(),\n",
    "    'event_instances': data.groupby('time').id.count(),\n",
    "}).fillna(0).astype(int)"
   ]
  },
  {
   "cell_type": "code",
   "execution_count": 6,
   "id": "5b134e68",
   "metadata": {
    "execution": {
     "iopub.execute_input": "2023-07-16T23:39:29.231566Z",
     "iopub.status.busy": "2023-07-16T23:39:29.231088Z",
     "iopub.status.idle": "2023-07-16T23:39:29.234439Z",
     "shell.execute_reply": "2023-07-16T23:39:29.233838Z"
    },
    "papermill": {
     "duration": 0.006915,
     "end_time": "2023-07-16T23:39:29.235712",
     "exception": false,
     "start_time": "2023-07-16T23:39:29.228797",
     "status": "completed"
    },
    "tags": []
   },
   "outputs": [],
   "source": [
    "def cumulate(data):\n",
    "    return pd.concat([\n",
    "        data,\n",
    "        data.cumsum().rename(columns=lambda c: f'cumulative_{c}')\n",
    "    ], axis=1)"
   ]
  },
  {
   "cell_type": "code",
   "execution_count": 7,
   "id": "1cc1242c",
   "metadata": {
    "execution": {
     "iopub.execute_input": "2023-07-16T23:39:29.239835Z",
     "iopub.status.busy": "2023-07-16T23:39:29.239525Z",
     "iopub.status.idle": "2023-07-16T23:39:29.249104Z",
     "shell.execute_reply": "2023-07-16T23:39:29.248540Z"
    },
    "papermill": {
     "duration": 0.013057,
     "end_time": "2023-07-16T23:39:29.250385",
     "exception": false,
     "start_time": "2023-07-16T23:39:29.237328",
     "status": "completed"
    },
    "tags": []
   },
   "outputs": [],
   "source": [
    "events.resample('W-FRI').sum().pipe(cumulate).to_csv(os.path.join(DATA_DIR, 'by_week.csv'))"
   ]
  },
  {
   "cell_type": "code",
   "execution_count": 8,
   "id": "d8ddb2ad",
   "metadata": {
    "execution": {
     "iopub.execute_input": "2023-07-16T23:39:29.254858Z",
     "iopub.status.busy": "2023-07-16T23:39:29.254386Z",
     "iopub.status.idle": "2023-07-16T23:39:29.260062Z",
     "shell.execute_reply": "2023-07-16T23:39:29.259461Z"
    },
    "papermill": {
     "duration": 0.009326,
     "end_time": "2023-07-16T23:39:29.261432",
     "exception": false,
     "start_time": "2023-07-16T23:39:29.252106",
     "status": "completed"
    },
    "tags": []
   },
   "outputs": [],
   "source": [
    "events.resample('MS').sum().pipe(cumulate).to_csv(os.path.join(DATA_DIR, 'by_month.csv'))"
   ]
  },
  {
   "cell_type": "code",
   "execution_count": null,
   "id": "e84e0f7b",
   "metadata": {
    "papermill": {
     "duration": 0.001594,
     "end_time": "2023-07-16T23:39:29.264710",
     "exception": false,
     "start_time": "2023-07-16T23:39:29.263116",
     "status": "completed"
    },
    "tags": []
   },
   "outputs": [],
   "source": []
  }
 ],
 "metadata": {
  "kernelspec": {
   "display_name": "leeds-2023-YZF5GfJv",
   "language": "python",
   "name": "python3"
  },
  "language_info": {
   "codemirror_mode": {
    "name": "ipython",
    "version": 3
   },
   "file_extension": ".py",
   "mimetype": "text/x-python",
   "name": "python",
   "nbconvert_exporter": "python",
   "pygments_lexer": "ipython3",
   "version": "3.10.6"
  },
  "papermill": {
   "default_parameters": {},
   "duration": 1.865228,
   "end_time": "2023-07-16T23:39:29.482389",
   "environment_variables": {},
   "exception": null,
   "input_path": "prepare.ipynb",
   "output_path": "../../../working/output/promote-events-prepare.ipynb",
   "parameters": {},
   "start_time": "2023-07-16T23:39:27.617161",
   "version": "2.4.0"
  }
 },
 "nbformat": 4,
 "nbformat_minor": 5
}