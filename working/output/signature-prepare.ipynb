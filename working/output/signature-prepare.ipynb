{
 "cells": [
  {
   "cell_type": "code",
   "execution_count": 1,
   "id": "4d4749b2",
   "metadata": {
    "execution": {
     "iopub.execute_input": "2023-08-02T23:39:58.527699Z",
     "iopub.status.busy": "2023-08-02T23:39:58.527037Z",
     "iopub.status.idle": "2023-08-02T23:40:08.564627Z",
     "shell.execute_reply": "2023-08-02T23:40:08.563276Z"
    },
    "papermill": {
     "duration": 10.043891,
     "end_time": "2023-08-02T23:40:08.566641",
     "exception": false,
     "start_time": "2023-08-02T23:39:58.522750",
     "status": "completed"
    },
    "tags": []
   },
   "outputs": [],
   "source": [
    "import os\n",
    "import pandas as pd\n",
    "from events import load_event_data, get_first_ward, normalise_ward"
   ]
  },
  {
   "cell_type": "code",
   "execution_count": 2,
   "id": "031b1203",
   "metadata": {
    "execution": {
     "iopub.execute_input": "2023-08-02T23:40:08.573268Z",
     "iopub.status.busy": "2023-08-02T23:40:08.572733Z",
     "iopub.status.idle": "2023-08-02T23:40:08.577274Z",
     "shell.execute_reply": "2023-08-02T23:40:08.576492Z"
    },
    "papermill": {
     "duration": 0.009531,
     "end_time": "2023-08-02T23:40:08.579047",
     "exception": false,
     "start_time": "2023-08-02T23:40:08.569516",
     "status": "completed"
    },
    "tags": []
   },
   "outputs": [],
   "source": [
    "latest_date = pd.Timestamp.today().ceil('D')"
   ]
  },
  {
   "cell_type": "code",
   "execution_count": 3,
   "id": "0440f2c8",
   "metadata": {
    "execution": {
     "iopub.execute_input": "2023-08-02T23:40:08.584627Z",
     "iopub.status.busy": "2023-08-02T23:40:08.584364Z",
     "iopub.status.idle": "2023-08-02T23:40:08.600894Z",
     "shell.execute_reply": "2023-08-02T23:40:08.599843Z"
    },
    "papermill": {
     "duration": 0.021594,
     "end_time": "2023-08-02T23:40:08.602620",
     "exception": false,
     "start_time": "2023-08-02T23:40:08.581026",
     "status": "completed"
    },
    "tags": []
   },
   "outputs": [],
   "source": [
    "tickets = pd.read_csv('../../../../data/metrics/events/tickets/orders.csv', parse_dates=['created_at', 'event_date'])\n",
    "tickets = tickets[tickets.event_date <= latest_date]"
   ]
  },
  {
   "cell_type": "code",
   "execution_count": 4,
   "id": "54681aa2",
   "metadata": {
    "execution": {
     "iopub.execute_input": "2023-08-02T23:40:08.608141Z",
     "iopub.status.busy": "2023-08-02T23:40:08.607906Z",
     "iopub.status.idle": "2023-08-02T23:40:08.784547Z",
     "shell.execute_reply": "2023-08-02T23:40:08.783447Z"
    },
    "papermill": {
     "duration": 0.181925,
     "end_time": "2023-08-02T23:40:08.786695",
     "exception": false,
     "start_time": "2023-08-02T23:40:08.604770",
     "status": "completed"
    },
    "tags": []
   },
   "outputs": [],
   "source": [
    "events = load_event_data()\n",
    "\n",
    "events = pd.concat([\n",
    "  events,\n",
    "  events.pipe(get_first_ward).pipe(normalise_ward).fillna('UNKNOWN'),\n",
    "  pd.Series(\n",
    "      events.actual_audience_size_number_of_participants_in_person + events.actual_audience_size_number_of_participants_online,\n",
    "      name='attendances'\n",
    "  )\n",
    "], axis=1).rename(columns={\n",
    "    'start_date': 'date'\n",
    "}).loc[:, ['ward_code', 'date', 'event_unique_identifier', 'attendances']]"
   ]
  },
  {
   "cell_type": "code",
   "execution_count": 5,
   "id": "3790395e",
   "metadata": {
    "execution": {
     "iopub.execute_input": "2023-08-02T23:40:08.792912Z",
     "iopub.status.busy": "2023-08-02T23:40:08.792402Z",
     "iopub.status.idle": "2023-08-02T23:40:08.796460Z",
     "shell.execute_reply": "2023-08-02T23:40:08.795512Z"
    },
    "papermill": {
     "duration": 0.009046,
     "end_time": "2023-08-02T23:40:08.798185",
     "exception": false,
     "start_time": "2023-08-02T23:40:08.789139",
     "status": "completed"
    },
    "tags": []
   },
   "outputs": [],
   "source": [
    "OUTPUT_DIR='../../../../docs/metrics/events/signature/_data/'\n",
    "os.makedirs(OUTPUT_DIR, exist_ok=True)"
   ]
  },
  {
   "cell_type": "markdown",
   "id": "69732321",
   "metadata": {
    "papermill": {
     "duration": 0.002187,
     "end_time": "2023-08-02T23:40:08.802404",
     "exception": false,
     "start_time": "2023-08-02T23:40:08.800217",
     "status": "completed"
    },
    "tags": []
   },
   "source": [
    "Events CSVs"
   ]
  },
  {
   "cell_type": "code",
   "execution_count": 6,
   "id": "eb69126f",
   "metadata": {
    "execution": {
     "iopub.execute_input": "2023-08-02T23:40:08.808352Z",
     "iopub.status.busy": "2023-08-02T23:40:08.808084Z",
     "iopub.status.idle": "2023-08-02T23:40:08.816644Z",
     "shell.execute_reply": "2023-08-02T23:40:08.815297Z"
    },
    "papermill": {
     "duration": 0.013851,
     "end_time": "2023-08-02T23:40:08.818352",
     "exception": false,
     "start_time": "2023-08-02T23:40:08.804501",
     "status": "completed"
    },
    "tags": []
   },
   "outputs": [],
   "source": [
    "pd.DataFrame({\n",
    "  'events': events.groupby('ward_code').event_unique_identifier.count(),\n",
    "  'attendances': events.groupby('ward_code').attendances.sum().astype(int),\n",
    "}).to_csv(os.path.join(OUTPUT_DIR, 'events_by_ward.csv'))\n"
   ]
  },
  {
   "cell_type": "code",
   "execution_count": 7,
   "id": "5260e1ee",
   "metadata": {
    "execution": {
     "iopub.execute_input": "2023-08-02T23:40:08.823941Z",
     "iopub.status.busy": "2023-08-02T23:40:08.823670Z",
     "iopub.status.idle": "2023-08-02T23:40:08.835832Z",
     "shell.execute_reply": "2023-08-02T23:40:08.834800Z"
    },
    "papermill": {
     "duration": 0.017295,
     "end_time": "2023-08-02T23:40:08.837726",
     "exception": false,
     "start_time": "2023-08-02T23:40:08.820431",
     "status": "completed"
    },
    "tags": []
   },
   "outputs": [],
   "source": [
    "pd.DataFrame({\n",
    "  'events': events.groupby('date').event_unique_identifier.count(),\n",
    "  'attendances': events.groupby('date').attendances.sum().astype(int),\n",
    "}).resample('M').sum().astype(int).to_csv(os.path.join(OUTPUT_DIR, 'events_by_date.csv'))"
   ]
  },
  {
   "cell_type": "markdown",
   "id": "e18dad50",
   "metadata": {
    "papermill": {
     "duration": 0.002304,
     "end_time": "2023-08-02T23:40:08.842417",
     "exception": false,
     "start_time": "2023-08-02T23:40:08.840113",
     "status": "completed"
    },
    "tags": []
   },
   "source": [
    "Tickets CSV"
   ]
  },
  {
   "cell_type": "code",
   "execution_count": 8,
   "id": "64fbdcc6",
   "metadata": {
    "execution": {
     "iopub.execute_input": "2023-08-02T23:40:08.848657Z",
     "iopub.status.busy": "2023-08-02T23:40:08.847801Z",
     "iopub.status.idle": "2023-08-02T23:40:08.855235Z",
     "shell.execute_reply": "2023-08-02T23:40:08.854288Z"
    },
    "papermill": {
     "duration": 0.012387,
     "end_time": "2023-08-02T23:40:08.857081",
     "exception": false,
     "start_time": "2023-08-02T23:40:08.844694",
     "status": "completed"
    },
    "tags": []
   },
   "outputs": [],
   "source": [
    "pd.DataFrame({\n",
    "  'orders': tickets.groupby('ward_code').number_of_tickets.count(),\n",
    "  'tickets': tickets.groupby('ward_code').number_of_tickets.sum().astype(int),\n",
    "}).to_csv(os.path.join(OUTPUT_DIR, 'tickets_by_ward.csv'))"
   ]
  },
  {
   "cell_type": "code",
   "execution_count": 9,
   "id": "a8858db1",
   "metadata": {
    "execution": {
     "iopub.execute_input": "2023-08-02T23:40:08.862903Z",
     "iopub.status.busy": "2023-08-02T23:40:08.862391Z",
     "iopub.status.idle": "2023-08-02T23:40:08.872464Z",
     "shell.execute_reply": "2023-08-02T23:40:08.871684Z"
    },
    "papermill": {
     "duration": 0.014903,
     "end_time": "2023-08-02T23:40:08.874117",
     "exception": false,
     "start_time": "2023-08-02T23:40:08.859214",
     "status": "completed"
    },
    "tags": []
   },
   "outputs": [],
   "source": [
    "pd.DataFrame({\n",
    "  'orders': tickets.groupby('event_date').number_of_tickets.count(),\n",
    "  'tickets': tickets.groupby('event_date').number_of_tickets.sum().astype(int),\n",
    "}).resample('M').sum().to_csv(os.path.join(OUTPUT_DIR, 'tickets_by_event_date.csv'))"
   ]
  },
  {
   "cell_type": "code",
   "execution_count": 10,
   "id": "53dd62e0",
   "metadata": {
    "execution": {
     "iopub.execute_input": "2023-08-02T23:40:08.881211Z",
     "iopub.status.busy": "2023-08-02T23:40:08.880614Z",
     "iopub.status.idle": "2023-08-02T23:40:08.887581Z",
     "shell.execute_reply": "2023-08-02T23:40:08.886582Z"
    },
    "papermill": {
     "duration": 0.013236,
     "end_time": "2023-08-02T23:40:08.889582",
     "exception": false,
     "start_time": "2023-08-02T23:40:08.876346",
     "status": "completed"
    },
    "tags": []
   },
   "outputs": [],
   "source": [
    "pd.Series({\n",
    "    'total_events': events.event_unique_identifier.count(),\n",
    "    'total_attendances': events.attendances.count(),\n",
    "    'first_event': events.date.min(),\n",
    "    'latest_event': events.date.max(),\n",
    "    'total_ticket_orders_for_events_to_date': tickets.number_of_tickets.count(),\n",
    "    'total_tickets_sold_for_events_to_date': tickets.number_of_tickets.sum(),\n",
    "}).to_json(os.path.join(OUTPUT_DIR, 'headlines.json'), indent=2)"
   ]
  },
  {
   "cell_type": "code",
   "execution_count": null,
   "id": "b9218429",
   "metadata": {
    "papermill": {
     "duration": 0.002288,
     "end_time": "2023-08-02T23:40:08.894630",
     "exception": false,
     "start_time": "2023-08-02T23:40:08.892342",
     "status": "completed"
    },
    "tags": []
   },
   "outputs": [],
   "source": []
  }
 ],
 "metadata": {
  "kernelspec": {
   "display_name": "leeds-2023-YZF5GfJv",
   "language": "python",
   "name": "python3"
  },
  "language_info": {
   "codemirror_mode": {
    "name": "ipython",
    "version": 3
   },
   "file_extension": ".py",
   "mimetype": "text/x-python",
   "name": "python",
   "nbconvert_exporter": "python",
   "pygments_lexer": "ipython3",
   "version": "3.10.6"
  },
  "papermill": {
   "default_parameters": {},
   "duration": 12.031637,
   "end_time": "2023-08-02T23:40:09.214534",
   "environment_variables": {},
   "exception": null,
   "input_path": "prepare.ipynb",
   "output_path": "../../../../working/output/signature-prepare.ipynb",
   "parameters": {},
   "start_time": "2023-08-02T23:39:57.182897",
   "version": "2.4.0"
  }
 },
 "nbformat": 4,
 "nbformat_minor": 5
}