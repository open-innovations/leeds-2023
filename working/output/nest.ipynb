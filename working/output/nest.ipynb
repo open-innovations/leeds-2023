{
 "cells": [
  {
   "cell_type": "markdown",
   "id": "f716f2a4",
   "metadata": {
    "papermill": {
     "duration": 0.003009,
     "end_time": "2023-10-26T23:40:58.307860",
     "exception": false,
     "start_time": "2023-10-26T23:40:58.304851",
     "status": "completed"
    },
    "tags": []
   },
   "source": [
    "# Nest\n",
    "\n",
    "Prepares data for the Nest page "
   ]
  },
  {
   "cell_type": "code",
   "execution_count": 1,
   "id": "ce701c3c",
   "metadata": {
    "execution": {
     "iopub.execute_input": "2023-10-26T23:40:58.313837Z",
     "iopub.status.busy": "2023-10-26T23:40:58.313340Z",
     "iopub.status.idle": "2023-10-26T23:41:11.183015Z",
     "shell.execute_reply": "2023-10-26T23:41:11.181933Z"
    },
    "papermill": {
     "duration": 12.876228,
     "end_time": "2023-10-26T23:41:11.186409",
     "exception": false,
     "start_time": "2023-10-26T23:40:58.310181",
     "status": "completed"
    },
    "tags": []
   },
   "outputs": [],
   "source": [
    "import os\n",
    "from events import (\n",
    "    load_event_data, filter_public_events, filter_by_project, prepare, save_files, count_wards\n",
    ")"
   ]
  },
  {
   "cell_type": "markdown",
   "id": "b181aa14",
   "metadata": {
    "papermill": {
     "duration": 0.002015,
     "end_time": "2023-10-26T23:41:11.190863",
     "exception": false,
     "start_time": "2023-10-26T23:41:11.188848",
     "status": "completed"
    },
    "tags": []
   },
   "source": [
    "Set output directory"
   ]
  },
  {
   "cell_type": "code",
   "execution_count": 2,
   "id": "a27899a4",
   "metadata": {
    "execution": {
     "iopub.execute_input": "2023-10-26T23:41:11.196844Z",
     "iopub.status.busy": "2023-10-26T23:41:11.196114Z",
     "iopub.status.idle": "2023-10-26T23:41:11.200031Z",
     "shell.execute_reply": "2023-10-26T23:41:11.199267Z"
    },
    "papermill": {
     "duration": 0.008831,
     "end_time": "2023-10-26T23:41:11.201832",
     "exception": false,
     "start_time": "2023-10-26T23:41:11.193001",
     "status": "completed"
    },
    "tags": []
   },
   "outputs": [],
   "source": [
    "OUT_DIR = '../../../../docs/metrics/events/nest/_data/events'"
   ]
  },
  {
   "cell_type": "markdown",
   "id": "dda5992d",
   "metadata": {
    "papermill": {
     "duration": 0.001959,
     "end_time": "2023-10-26T23:41:11.205764",
     "exception": false,
     "start_time": "2023-10-26T23:41:11.203805",
     "status": "completed"
    },
    "tags": []
   },
   "source": [
    "Read in event data and filter by **My LEEDS 2023** project.\n",
    "\n",
    "The criteria are:\n",
    "\n",
    "* project type is 'Produce (Signature)'\n",
    "* event_type contains 'Public Event -'\n",
    "\n",
    "It's then filtered by project_name is '10 - Melt'"
   ]
  },
  {
   "cell_type": "code",
   "execution_count": 3,
   "id": "5dd8b252",
   "metadata": {
    "execution": {
     "iopub.execute_input": "2023-10-26T23:41:11.211117Z",
     "iopub.status.busy": "2023-10-26T23:41:11.210613Z",
     "iopub.status.idle": "2023-10-26T23:41:11.245595Z",
     "shell.execute_reply": "2023-10-26T23:41:11.244755Z"
    },
    "papermill": {
     "duration": 0.040227,
     "end_time": "2023-10-26T23:41:11.247950",
     "exception": false,
     "start_time": "2023-10-26T23:41:11.207723",
     "status": "completed"
    },
    "tags": []
   },
   "outputs": [
    {
     "data": {
      "text/html": [
       "<div>\n",
       "<style scoped>\n",
       "    .dataframe tbody tr th:only-of-type {\n",
       "        vertical-align: middle;\n",
       "    }\n",
       "\n",
       "    .dataframe tbody tr th {\n",
       "        vertical-align: top;\n",
       "    }\n",
       "\n",
       "    .dataframe thead th {\n",
       "        text-align: right;\n",
       "    }\n",
       "</style>\n",
       "<table border=\"1\" class=\"dataframe\">\n",
       "  <thead>\n",
       "    <tr style=\"text-align: right;\">\n",
       "      <th></th>\n",
       "      <th>actual_audience_size_number_of_participants_in_person</th>\n",
       "      <th>actual_audience_size_number_of_participants_online</th>\n",
       "      <th>airtable_id</th>\n",
       "      <th>end_date</th>\n",
       "      <th>event_name</th>\n",
       "      <th>event_type</th>\n",
       "      <th>event_unique_identifier</th>\n",
       "      <th>number_of_booked_participants</th>\n",
       "      <th>postcode_(from_venue)</th>\n",
       "      <th>project_name</th>\n",
       "      <th>project_type</th>\n",
       "      <th>season</th>\n",
       "      <th>start_date</th>\n",
       "      <th>ward_(from_venue)</th>\n",
       "    </tr>\n",
       "  </thead>\n",
       "  <tbody>\n",
       "    <tr>\n",
       "      <th>1103</th>\n",
       "      <td>1338.0</td>\n",
       "      <td>NaN</td>\n",
       "      <td>241</td>\n",
       "      <td>2023-09-09</td>\n",
       "      <td>Melt (Run)</td>\n",
       "      <td>['Public Event - Performance']</td>\n",
       "      <td>10 - Melt: Melt (Run)</td>\n",
       "      <td>1542.0</td>\n",
       "      <td>['LS26 8AL']</td>\n",
       "      <td>10 - Melt</td>\n",
       "      <td>Produce (Signature)</td>\n",
       "      <td>['Season 3 - Dreaming']</td>\n",
       "      <td>2023-09-05</td>\n",
       "      <td>['Garforth and Swillington']</td>\n",
       "    </tr>\n",
       "  </tbody>\n",
       "</table>\n",
       "</div>"
      ],
      "text/plain": [
       "      actual_audience_size_number_of_participants_in_person  \\\n",
       "1103                                             1338.0       \n",
       "\n",
       "      actual_audience_size_number_of_participants_online  airtable_id  \\\n",
       "1103                                                NaN           241   \n",
       "\n",
       "        end_date  event_name                      event_type  \\\n",
       "1103  2023-09-09  Melt (Run)  ['Public Event - Performance']   \n",
       "\n",
       "     event_unique_identifier  number_of_booked_participants  \\\n",
       "1103   10 - Melt: Melt (Run)                         1542.0   \n",
       "\n",
       "     postcode_(from_venue) project_name         project_type  \\\n",
       "1103          ['LS26 8AL']    10 - Melt  Produce (Signature)   \n",
       "\n",
       "                       season start_date             ward_(from_venue)  \n",
       "1103  ['Season 3 - Dreaming'] 2023-09-05  ['Garforth and Swillington']  "
      ]
     },
     "execution_count": 3,
     "metadata": {},
     "output_type": "execute_result"
    }
   ],
   "source": [
    "data = (\n",
    "  load_event_data()\n",
    "    .pipe(filter_by_project, '10 - Melt')\n",
    "    .pipe(filter_public_events)\n",
    "  )\n",
    "data"
   ]
  },
  {
   "cell_type": "markdown",
   "id": "92aea193",
   "metadata": {
    "papermill": {
     "duration": 0.002366,
     "end_time": "2023-10-26T23:41:11.252748",
     "exception": false,
     "start_time": "2023-10-26T23:41:11.250382",
     "status": "completed"
    },
    "tags": []
   },
   "source": [
    "Run the processing and save the files"
   ]
  },
  {
   "cell_type": "code",
   "execution_count": 4,
   "id": "24f3d33b",
   "metadata": {
    "execution": {
     "iopub.execute_input": "2023-10-26T23:41:11.258893Z",
     "iopub.status.busy": "2023-10-26T23:41:11.258214Z",
     "iopub.status.idle": "2023-10-26T23:41:11.289736Z",
     "shell.execute_reply": "2023-10-26T23:41:11.288951Z"
    },
    "papermill": {
     "duration": 0.036795,
     "end_time": "2023-10-26T23:41:11.291767",
     "exception": false,
     "start_time": "2023-10-26T23:41:11.254972",
     "status": "completed"
    },
    "tags": []
   },
   "outputs": [],
   "source": [
    "data = data.pipe(prepare).pipe(save_files, OUT_DIR)"
   ]
  }
 ],
 "metadata": {
  "kernelspec": {
   "display_name": "leeds-2023-YZF5GfJv",
   "language": "python",
   "name": "python3"
  },
  "language_info": {
   "codemirror_mode": {
    "name": "ipython",
    "version": 3
   },
   "file_extension": ".py",
   "mimetype": "text/x-python",
   "name": "python",
   "nbconvert_exporter": "python",
   "pygments_lexer": "ipython3",
   "version": "3.10.13"
  },
  "papermill": {
   "default_parameters": {},
   "duration": 15.033812,
   "end_time": "2023-10-26T23:41:11.714822",
   "environment_variables": {},
   "exception": null,
   "input_path": "nest.ipynb",
   "output_path": "../../../../working/output/nest.ipynb",
   "parameters": {},
   "start_time": "2023-10-26T23:40:56.681010",
   "version": "2.4.0"
  }
 },
 "nbformat": 4,
 "nbformat_minor": 5
}