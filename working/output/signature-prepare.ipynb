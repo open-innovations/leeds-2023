{
 "cells": [
  {
   "cell_type": "code",
   "execution_count": 1,
   "id": "84060f96",
   "metadata": {
    "execution": {
     "iopub.execute_input": "2023-12-23T23:40:31.199818Z",
     "iopub.status.busy": "2023-12-23T23:40:31.199558Z",
     "iopub.status.idle": "2023-12-23T23:40:38.837123Z",
     "shell.execute_reply": "2023-12-23T23:40:38.836398Z"
    },
    "papermill": {
     "duration": 7.643139,
     "end_time": "2023-12-23T23:40:38.838936",
     "exception": false,
     "start_time": "2023-12-23T23:40:31.195797",
     "status": "completed"
    },
    "tags": []
   },
   "outputs": [],
   "source": [
    "import os\n",
    "import pandas as pd\n",
    "from events import load_event_data, get_first_ward, normalise_ward"
   ]
  },
  {
   "cell_type": "code",
   "execution_count": 2,
   "id": "529fef55",
   "metadata": {
    "execution": {
     "iopub.execute_input": "2023-12-23T23:40:38.844182Z",
     "iopub.status.busy": "2023-12-23T23:40:38.843951Z",
     "iopub.status.idle": "2023-12-23T23:40:38.847725Z",
     "shell.execute_reply": "2023-12-23T23:40:38.847058Z"
    },
    "papermill": {
     "duration": 0.007807,
     "end_time": "2023-12-23T23:40:38.848988",
     "exception": false,
     "start_time": "2023-12-23T23:40:38.841181",
     "status": "completed"
    },
    "tags": []
   },
   "outputs": [],
   "source": [
    "latest_date = pd.Timestamp.today().ceil('D')"
   ]
  },
  {
   "cell_type": "code",
   "execution_count": 3,
   "id": "bf54ac56",
   "metadata": {
    "execution": {
     "iopub.execute_input": "2023-12-23T23:40:38.853744Z",
     "iopub.status.busy": "2023-12-23T23:40:38.853396Z",
     "iopub.status.idle": "2023-12-23T23:40:38.871200Z",
     "shell.execute_reply": "2023-12-23T23:40:38.870646Z"
    },
    "papermill": {
     "duration": 0.021704,
     "end_time": "2023-12-23T23:40:38.872487",
     "exception": false,
     "start_time": "2023-12-23T23:40:38.850783",
     "status": "completed"
    },
    "tags": []
   },
   "outputs": [],
   "source": [
    "tickets = pd.read_csv('../../../../data/metrics/events/tickets/orders.csv', parse_dates=['created_at', 'event_date'])\n",
    "tickets = tickets[tickets.event_date <= latest_date]"
   ]
  },
  {
   "cell_type": "code",
   "execution_count": 4,
   "id": "3849c4f1",
   "metadata": {
    "execution": {
     "iopub.execute_input": "2023-12-23T23:40:38.877281Z",
     "iopub.status.busy": "2023-12-23T23:40:38.876833Z",
     "iopub.status.idle": "2023-12-23T23:40:38.931132Z",
     "shell.execute_reply": "2023-12-23T23:40:38.930427Z"
    },
    "papermill": {
     "duration": 0.058385,
     "end_time": "2023-12-23T23:40:38.932752",
     "exception": false,
     "start_time": "2023-12-23T23:40:38.874367",
     "status": "completed"
    },
    "tags": []
   },
   "outputs": [],
   "source": [
    "events = load_event_data()\n",
    "\n",
    "events = pd.concat([\n",
    "  events,\n",
    "  events.pipe(get_first_ward).pipe(normalise_ward).fillna('UNKNOWN'),\n",
    "  pd.Series(\n",
    "      events.actual_audience_size_number_of_participants_in_person + events.actual_audience_size_number_of_participants_online,\n",
    "      name='attendances'\n",
    "  )\n",
    "], axis=1).rename(columns={\n",
    "    'start_date': 'date'\n",
    "}).loc[:, ['ward_code', 'date', 'event_unique_identifier', 'attendances']]"
   ]
  },
  {
   "cell_type": "code",
   "execution_count": 5,
   "id": "e753859b",
   "metadata": {
    "execution": {
     "iopub.execute_input": "2023-12-23T23:40:38.937846Z",
     "iopub.status.busy": "2023-12-23T23:40:38.937430Z",
     "iopub.status.idle": "2023-12-23T23:40:38.940769Z",
     "shell.execute_reply": "2023-12-23T23:40:38.940177Z"
    },
    "papermill": {
     "duration": 0.007358,
     "end_time": "2023-12-23T23:40:38.942132",
     "exception": false,
     "start_time": "2023-12-23T23:40:38.934774",
     "status": "completed"
    },
    "tags": []
   },
   "outputs": [],
   "source": [
    "OUTPUT_DIR='../../../../docs/metrics/events/signature/_data/'\n",
    "os.makedirs(OUTPUT_DIR, exist_ok=True)"
   ]
  },
  {
   "cell_type": "markdown",
   "id": "f501b017",
   "metadata": {
    "papermill": {
     "duration": 0.00199,
     "end_time": "2023-12-23T23:40:38.946173",
     "exception": false,
     "start_time": "2023-12-23T23:40:38.944183",
     "status": "completed"
    },
    "tags": []
   },
   "source": [
    "Events CSVs"
   ]
  },
  {
   "cell_type": "code",
   "execution_count": 6,
   "id": "13145e2f",
   "metadata": {
    "execution": {
     "iopub.execute_input": "2023-12-23T23:40:38.950987Z",
     "iopub.status.busy": "2023-12-23T23:40:38.950618Z",
     "iopub.status.idle": "2023-12-23T23:40:38.956647Z",
     "shell.execute_reply": "2023-12-23T23:40:38.956154Z"
    },
    "papermill": {
     "duration": 0.009882,
     "end_time": "2023-12-23T23:40:38.957935",
     "exception": false,
     "start_time": "2023-12-23T23:40:38.948053",
     "status": "completed"
    },
    "tags": []
   },
   "outputs": [],
   "source": [
    "pd.DataFrame({\n",
    "  'events': events.groupby('ward_code').event_unique_identifier.count(),\n",
    "  'attendances': events.groupby('ward_code').attendances.sum().astype(int),\n",
    "}).to_csv(os.path.join(OUTPUT_DIR, 'events_by_ward.csv'))\n"
   ]
  },
  {
   "cell_type": "code",
   "execution_count": 7,
   "id": "ca44d10b",
   "metadata": {
    "execution": {
     "iopub.execute_input": "2023-12-23T23:40:38.962864Z",
     "iopub.status.busy": "2023-12-23T23:40:38.962470Z",
     "iopub.status.idle": "2023-12-23T23:40:38.970736Z",
     "shell.execute_reply": "2023-12-23T23:40:38.970132Z"
    },
    "papermill": {
     "duration": 0.012302,
     "end_time": "2023-12-23T23:40:38.972232",
     "exception": false,
     "start_time": "2023-12-23T23:40:38.959930",
     "status": "completed"
    },
    "tags": []
   },
   "outputs": [],
   "source": [
    "pd.DataFrame({\n",
    "  'events': events.groupby('date').event_unique_identifier.count(),\n",
    "  'attendances': events.groupby('date').attendances.sum().astype(int),\n",
    "}).resample('M').sum().astype(int).to_csv(os.path.join(OUTPUT_DIR, 'events_by_date.csv'))"
   ]
  },
  {
   "cell_type": "markdown",
   "id": "f3e25bf1",
   "metadata": {
    "papermill": {
     "duration": 0.002796,
     "end_time": "2023-12-23T23:40:38.976978",
     "exception": false,
     "start_time": "2023-12-23T23:40:38.974182",
     "status": "completed"
    },
    "tags": []
   },
   "source": [
    "Tickets CSV"
   ]
  },
  {
   "cell_type": "code",
   "execution_count": 8,
   "id": "925201e6",
   "metadata": {
    "execution": {
     "iopub.execute_input": "2023-12-23T23:40:38.981982Z",
     "iopub.status.busy": "2023-12-23T23:40:38.981462Z",
     "iopub.status.idle": "2023-12-23T23:40:38.987915Z",
     "shell.execute_reply": "2023-12-23T23:40:38.987302Z"
    },
    "papermill": {
     "duration": 0.010326,
     "end_time": "2023-12-23T23:40:38.989198",
     "exception": false,
     "start_time": "2023-12-23T23:40:38.978872",
     "status": "completed"
    },
    "tags": []
   },
   "outputs": [],
   "source": [
    "pd.DataFrame({\n",
    "  'orders': tickets.groupby('ward_code').number_of_tickets.count(),\n",
    "  'tickets': tickets.groupby('ward_code').number_of_tickets.sum().astype(int),\n",
    "}).to_csv(os.path.join(OUTPUT_DIR, 'tickets_by_ward.csv'))"
   ]
  },
  {
   "cell_type": "code",
   "execution_count": 9,
   "id": "5a7e268d",
   "metadata": {
    "execution": {
     "iopub.execute_input": "2023-12-23T23:40:38.994217Z",
     "iopub.status.busy": "2023-12-23T23:40:38.993843Z",
     "iopub.status.idle": "2023-12-23T23:40:39.000698Z",
     "shell.execute_reply": "2023-12-23T23:40:39.000088Z"
    },
    "papermill": {
     "duration": 0.010813,
     "end_time": "2023-12-23T23:40:39.002027",
     "exception": false,
     "start_time": "2023-12-23T23:40:38.991214",
     "status": "completed"
    },
    "tags": []
   },
   "outputs": [],
   "source": [
    "pd.DataFrame({\n",
    "  'orders': tickets.groupby('event_date').number_of_tickets.count(),\n",
    "  'tickets': tickets.groupby('event_date').number_of_tickets.sum().astype(int),\n",
    "}).resample('M').sum().to_csv(os.path.join(OUTPUT_DIR, 'tickets_by_event_date.csv'))"
   ]
  },
  {
   "cell_type": "code",
   "execution_count": 10,
   "id": "f0020148",
   "metadata": {
    "execution": {
     "iopub.execute_input": "2023-12-23T23:40:39.007229Z",
     "iopub.status.busy": "2023-12-23T23:40:39.006744Z",
     "iopub.status.idle": "2023-12-23T23:40:39.011531Z",
     "shell.execute_reply": "2023-12-23T23:40:39.010906Z"
    },
    "papermill": {
     "duration": 0.008729,
     "end_time": "2023-12-23T23:40:39.012781",
     "exception": false,
     "start_time": "2023-12-23T23:40:39.004052",
     "status": "completed"
    },
    "tags": []
   },
   "outputs": [],
   "source": [
    "pd.Series({\n",
    "    'total_events': events.event_unique_identifier.count(),\n",
    "    'total_attendances': events.attendances.count(),\n",
    "    'first_event': events.date.min(),\n",
    "    'latest_event': events.date.max(),\n",
    "    'total_ticket_orders_for_events_to_date': tickets.number_of_tickets.count(),\n",
    "    'total_tickets_sold_for_events_to_date': tickets.number_of_tickets.sum(),\n",
    "}).to_json(os.path.join(OUTPUT_DIR, 'headlines.json'), indent=2)"
   ]
  },
  {
   "cell_type": "code",
   "execution_count": null,
   "id": "4ab25741",
   "metadata": {
    "papermill": {
     "duration": 0.00202,
     "end_time": "2023-12-23T23:40:39.016833",
     "exception": false,
     "start_time": "2023-12-23T23:40:39.014813",
     "status": "completed"
    },
    "tags": []
   },
   "outputs": [],
   "source": []
  }
 ],
 "metadata": {
  "kernelspec": {
   "display_name": "leeds-2023-YZF5GfJv",
   "language": "python",
   "name": "python3"
  },
  "language_info": {
   "codemirror_mode": {
    "name": "ipython",
    "version": 3
   },
   "file_extension": ".py",
   "mimetype": "text/x-python",
   "name": "python",
   "nbconvert_exporter": "python",
   "pygments_lexer": "ipython3",
   "version": "3.10.13"
  },
  "papermill": {
   "default_parameters": {},
   "duration": 9.378584,
   "end_time": "2023-12-23T23:40:39.334842",
   "environment_variables": {},
   "exception": null,
   "input_path": "prepare.ipynb",
   "output_path": "../../../../working/output/signature-prepare.ipynb",
   "parameters": {},
   "start_time": "2023-12-23T23:40:29.956258",
   "version": "2.4.0"
  }
 },
 "nbformat": 4,
 "nbformat_minor": 5
}