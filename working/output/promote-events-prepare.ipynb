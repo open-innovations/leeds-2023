{
 "cells": [
  {
   "cell_type": "code",
   "execution_count": 1,
   "id": "82ccaf0e",
   "metadata": {
    "execution": {
     "iopub.execute_input": "2023-07-22T23:38:43.440734Z",
     "iopub.status.busy": "2023-07-22T23:38:43.440216Z",
     "iopub.status.idle": "2023-07-22T23:38:43.666096Z",
     "shell.execute_reply": "2023-07-22T23:38:43.665483Z"
    },
    "papermill": {
     "duration": 0.23112,
     "end_time": "2023-07-22T23:38:43.668097",
     "exception": false,
     "start_time": "2023-07-22T23:38:43.436977",
     "status": "completed"
    },
    "tags": []
   },
   "outputs": [],
   "source": [
    "import os\n",
    "import pandas as pd"
   ]
  },
  {
   "cell_type": "code",
   "execution_count": 2,
   "id": "1af0e53f",
   "metadata": {
    "execution": {
     "iopub.execute_input": "2023-07-22T23:38:43.672934Z",
     "iopub.status.busy": "2023-07-22T23:38:43.672452Z",
     "iopub.status.idle": "2023-07-22T23:38:43.675695Z",
     "shell.execute_reply": "2023-07-22T23:38:43.675107Z"
    },
    "papermill": {
     "duration": 0.007211,
     "end_time": "2023-07-22T23:38:43.677163",
     "exception": false,
     "start_time": "2023-07-22T23:38:43.669952",
     "status": "completed"
    },
    "tags": []
   },
   "outputs": [],
   "source": [
    "DATA_DIR='../../../docs/metrics/events/promote/_data/'\n",
    "os.makedirs(DATA_DIR, exist_ok=True)"
   ]
  },
  {
   "cell_type": "code",
   "execution_count": 3,
   "id": "2f0d69dd",
   "metadata": {
    "execution": {
     "iopub.execute_input": "2023-07-22T23:38:43.681045Z",
     "iopub.status.busy": "2023-07-22T23:38:43.680851Z",
     "iopub.status.idle": "2023-07-22T23:38:43.690625Z",
     "shell.execute_reply": "2023-07-22T23:38:43.689422Z"
    },
    "papermill": {
     "duration": 0.013289,
     "end_time": "2023-07-22T23:38:43.691991",
     "exception": false,
     "start_time": "2023-07-22T23:38:43.678702",
     "status": "completed"
    },
    "tags": []
   },
   "outputs": [],
   "source": [
    "data = pd.read_csv('../../../data/metrics/events/promote-events/events.csv', parse_dates=['time'])"
   ]
  },
  {
   "cell_type": "code",
   "execution_count": 4,
   "id": "90afa61d",
   "metadata": {
    "execution": {
     "iopub.execute_input": "2023-07-22T23:38:43.696122Z",
     "iopub.status.busy": "2023-07-22T23:38:43.695804Z",
     "iopub.status.idle": "2023-07-22T23:38:43.700660Z",
     "shell.execute_reply": "2023-07-22T23:38:43.700064Z"
    },
    "papermill": {
     "duration": 0.008523,
     "end_time": "2023-07-22T23:38:43.702034",
     "exception": false,
     "start_time": "2023-07-22T23:38:43.693511",
     "status": "completed"
    },
    "tags": []
   },
   "outputs": [],
   "source": [
    "pd.Series({\n",
    "    'total_events': len(data.id.unique()),\n",
    "    'total_event_instances': len(data.time),\n",
    "    'earliest_event': data.time.min(),\n",
    "    'latest_event': data.time.max(),\n",
    "}).to_json(\n",
    "    os.path.join(DATA_DIR, 'headlines.json'),\n",
    "    date_format='iso', indent=2\n",
    ")"
   ]
  },
  {
   "cell_type": "code",
   "execution_count": 5,
   "id": "64ad0bd7",
   "metadata": {
    "execution": {
     "iopub.execute_input": "2023-07-22T23:38:43.706309Z",
     "iopub.status.busy": "2023-07-22T23:38:43.705989Z",
     "iopub.status.idle": "2023-07-22T23:38:43.713243Z",
     "shell.execute_reply": "2023-07-22T23:38:43.712724Z"
    },
    "papermill": {
     "duration": 0.010952,
     "end_time": "2023-07-22T23:38:43.714527",
     "exception": false,
     "start_time": "2023-07-22T23:38:43.703575",
     "status": "completed"
    },
    "tags": []
   },
   "outputs": [],
   "source": [
    "events = pd.DataFrame({\n",
    "    'events': data.groupby('id').agg({ 'time': 'min' }).reset_index().groupby('time').id.count(),\n",
    "    'event_instances': data.groupby('time').id.count(),\n",
    "}).fillna(0).astype(int)"
   ]
  },
  {
   "cell_type": "code",
   "execution_count": 6,
   "id": "89ee0fa1",
   "metadata": {
    "execution": {
     "iopub.execute_input": "2023-07-22T23:38:43.718624Z",
     "iopub.status.busy": "2023-07-22T23:38:43.718306Z",
     "iopub.status.idle": "2023-07-22T23:38:43.721540Z",
     "shell.execute_reply": "2023-07-22T23:38:43.720977Z"
    },
    "papermill": {
     "duration": 0.006862,
     "end_time": "2023-07-22T23:38:43.722976",
     "exception": false,
     "start_time": "2023-07-22T23:38:43.716114",
     "status": "completed"
    },
    "tags": []
   },
   "outputs": [],
   "source": [
    "def cumulate(data):\n",
    "    return pd.concat([\n",
    "        data,\n",
    "        data.cumsum().rename(columns=lambda c: f'cumulative_{c}')\n",
    "    ], axis=1)"
   ]
  },
  {
   "cell_type": "code",
   "execution_count": 7,
   "id": "c04f54a4",
   "metadata": {
    "execution": {
     "iopub.execute_input": "2023-07-22T23:38:43.727043Z",
     "iopub.status.busy": "2023-07-22T23:38:43.726842Z",
     "iopub.status.idle": "2023-07-22T23:38:43.735869Z",
     "shell.execute_reply": "2023-07-22T23:38:43.735308Z"
    },
    "papermill": {
     "duration": 0.012703,
     "end_time": "2023-07-22T23:38:43.737326",
     "exception": false,
     "start_time": "2023-07-22T23:38:43.724623",
     "status": "completed"
    },
    "tags": []
   },
   "outputs": [],
   "source": [
    "events.resample('W-FRI').sum().pipe(cumulate).to_csv(os.path.join(DATA_DIR, 'by_week.csv'))"
   ]
  },
  {
   "cell_type": "code",
   "execution_count": 8,
   "id": "06dbd902",
   "metadata": {
    "execution": {
     "iopub.execute_input": "2023-07-22T23:38:43.741632Z",
     "iopub.status.busy": "2023-07-22T23:38:43.741321Z",
     "iopub.status.idle": "2023-07-22T23:38:43.747793Z",
     "shell.execute_reply": "2023-07-22T23:38:43.747239Z"
    },
    "papermill": {
     "duration": 0.010162,
     "end_time": "2023-07-22T23:38:43.749200",
     "exception": false,
     "start_time": "2023-07-22T23:38:43.739038",
     "status": "completed"
    },
    "tags": []
   },
   "outputs": [],
   "source": [
    "events.resample('MS').sum().pipe(cumulate).to_csv(os.path.join(DATA_DIR, 'by_month.csv'))"
   ]
  },
  {
   "cell_type": "code",
   "execution_count": null,
   "id": "6cdde2eb",
   "metadata": {
    "papermill": {
     "duration": 0.001634,
     "end_time": "2023-07-22T23:38:43.752513",
     "exception": false,
     "start_time": "2023-07-22T23:38:43.750879",
     "status": "completed"
    },
    "tags": []
   },
   "outputs": [],
   "source": []
  }
 ],
 "metadata": {
  "kernelspec": {
   "display_name": "leeds-2023-YZF5GfJv",
   "language": "python",
   "name": "python3"
  },
  "language_info": {
   "codemirror_mode": {
    "name": "ipython",
    "version": 3
   },
   "file_extension": ".py",
   "mimetype": "text/x-python",
   "name": "python",
   "nbconvert_exporter": "python",
   "pygments_lexer": "ipython3",
   "version": "3.10.6"
  },
  "papermill": {
   "default_parameters": {},
   "duration": 1.850195,
   "end_time": "2023-07-22T23:38:43.971090",
   "environment_variables": {},
   "exception": null,
   "input_path": "prepare.ipynb",
   "output_path": "../../../working/output/promote-events-prepare.ipynb",
   "parameters": {},
   "start_time": "2023-07-22T23:38:42.120895",
   "version": "2.4.0"
  }
 },
 "nbformat": 4,
 "nbformat_minor": 5
}