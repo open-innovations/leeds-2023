{
 "cells": [
  {
   "cell_type": "code",
   "execution_count": 1,
   "id": "54750b94",
   "metadata": {
    "execution": {
     "iopub.execute_input": "2023-12-23T23:39:27.025402Z",
     "iopub.status.busy": "2023-12-23T23:39:27.025136Z",
     "iopub.status.idle": "2023-12-23T23:39:27.271411Z",
     "shell.execute_reply": "2023-12-23T23:39:27.270732Z"
    },
    "papermill": {
     "duration": 0.251861,
     "end_time": "2023-12-23T23:39:27.273119",
     "exception": false,
     "start_time": "2023-12-23T23:39:27.021258",
     "status": "completed"
    },
    "tags": []
   },
   "outputs": [],
   "source": [
    "from pathlib import Path\n",
    "import pandas as pd"
   ]
  },
  {
   "cell_type": "markdown",
   "id": "da5017ee",
   "metadata": {
    "papermill": {
     "duration": 0.002156,
     "end_time": "2023-12-23T23:39:27.277892",
     "exception": false,
     "start_time": "2023-12-23T23:39:27.275736",
     "status": "completed"
    },
    "tags": []
   },
   "source": [
    "Load the orders data which was created in the [transform stage](./tickets.ipynb)."
   ]
  },
  {
   "cell_type": "code",
   "execution_count": 2,
   "id": "f7336b4b",
   "metadata": {
    "execution": {
     "iopub.execute_input": "2023-12-23T23:39:27.283450Z",
     "iopub.status.busy": "2023-12-23T23:39:27.283023Z",
     "iopub.status.idle": "2023-12-23T23:39:27.301710Z",
     "shell.execute_reply": "2023-12-23T23:39:27.301203Z"
    },
    "papermill": {
     "duration": 0.023001,
     "end_time": "2023-12-23T23:39:27.303089",
     "exception": false,
     "start_time": "2023-12-23T23:39:27.280088",
     "status": "completed"
    },
    "tags": []
   },
   "outputs": [],
   "source": [
    "def prepare(data: pd.DataFrame) -> pd.DataFrame:\n",
    "    data = data.loc[\n",
    "        (\n",
    "            data.public_event == True\n",
    "        ) & (\n",
    "            ~data.project_name.isin([\n",
    "                'Skills Development',\n",
    "            ])\n",
    "        )\n",
    "    ]\n",
    "    data = data.drop(columns=['public_event'])\n",
    "    return data\n",
    "\n",
    "\n",
    "orders = pd.read_csv(\n",
    "    '../../../../data/metrics/events/tickets/orders.csv',\n",
    "    usecols=[\n",
    "        'created_at',\n",
    "        'project_name',\n",
    "        'public_event',\n",
    "        'number_of_tickets'\n",
    "    ],\n",
    "    parse_dates=['created_at']\n",
    ").pipe(prepare)"
   ]
  },
  {
   "cell_type": "markdown",
   "id": "494a0618",
   "metadata": {
    "papermill": {
     "duration": 0.002112,
     "end_time": "2023-12-23T23:39:27.307456",
     "exception": false,
     "start_time": "2023-12-23T23:39:27.305344",
     "status": "completed"
    },
    "tags": []
   },
   "source": [
    "Define functions to count and sum tickets, and to append cumulative versions of those."
   ]
  },
  {
   "cell_type": "code",
   "execution_count": 3,
   "id": "aaa525d4",
   "metadata": {
    "execution": {
     "iopub.execute_input": "2023-12-23T23:39:27.312798Z",
     "iopub.status.busy": "2023-12-23T23:39:27.312411Z",
     "iopub.status.idle": "2023-12-23T23:39:27.316575Z",
     "shell.execute_reply": "2023-12-23T23:39:27.316032Z"
    },
    "papermill": {
     "duration": 0.008313,
     "end_time": "2023-12-23T23:39:27.317830",
     "exception": false,
     "start_time": "2023-12-23T23:39:27.309517",
     "status": "completed"
    },
    "tags": []
   },
   "outputs": [],
   "source": [
    "def count_and_sum(series):\n",
    "    return pd.concat([\n",
    "        series.count().to_frame('orders'),\n",
    "        series.sum().to_frame('tickets'),\n",
    "    ], axis=1)\n",
    "\n",
    "\n",
    "def cumulate(df: pd.DataFrame) -> pd.DataFrame:\n",
    "    return pd.concat([\n",
    "        df,\n",
    "        df.cumsum().rename(columns=lambda x: f'cumulative_{x}')\n",
    "    ], axis=1)"
   ]
  },
  {
   "cell_type": "markdown",
   "id": "4711432a",
   "metadata": {
    "papermill": {
     "duration": 0.002108,
     "end_time": "2023-12-23T23:39:27.322138",
     "exception": false,
     "start_time": "2023-12-23T23:39:27.320030",
     "status": "completed"
    },
    "tags": []
   },
   "source": [
    "Create output directory"
   ]
  },
  {
   "cell_type": "code",
   "execution_count": 4,
   "id": "3d4dc517",
   "metadata": {
    "execution": {
     "iopub.execute_input": "2023-12-23T23:39:27.327485Z",
     "iopub.status.busy": "2023-12-23T23:39:27.327066Z",
     "iopub.status.idle": "2023-12-23T23:39:27.330325Z",
     "shell.execute_reply": "2023-12-23T23:39:27.329782Z"
    },
    "papermill": {
     "duration": 0.007388,
     "end_time": "2023-12-23T23:39:27.331669",
     "exception": false,
     "start_time": "2023-12-23T23:39:27.324281",
     "status": "completed"
    },
    "tags": []
   },
   "outputs": [],
   "source": [
    "OUTPUT_DIR = Path('../../../../docs/metrics/tickets/_data/')\n",
    "OUTPUT_DIR.mkdir(parents=True, exist_ok=True)"
   ]
  },
  {
   "cell_type": "markdown",
   "id": "56b0fb75",
   "metadata": {
    "papermill": {
     "duration": 0.002213,
     "end_time": "2023-12-23T23:39:27.336908",
     "exception": false,
     "start_time": "2023-12-23T23:39:27.334695",
     "status": "completed"
    },
    "tags": []
   },
   "source": [
    "Count / sum the orders and tickets by project code and save to a JSON file"
   ]
  },
  {
   "cell_type": "code",
   "execution_count": 5,
   "id": "4fb69970",
   "metadata": {
    "execution": {
     "iopub.execute_input": "2023-12-23T23:39:27.342338Z",
     "iopub.status.busy": "2023-12-23T23:39:27.341941Z",
     "iopub.status.idle": "2023-12-23T23:39:27.348538Z",
     "shell.execute_reply": "2023-12-23T23:39:27.347878Z"
    },
    "papermill": {
     "duration": 0.010755,
     "end_time": "2023-12-23T23:39:27.349825",
     "exception": false,
     "start_time": "2023-12-23T23:39:27.339070",
     "status": "completed"
    },
    "tags": []
   },
   "outputs": [],
   "source": [
    "by_project = orders.groupby('project_name').number_of_tickets.pipe(count_and_sum)\n",
    "by_project.loc['total']= by_project.sum()\n",
    "by_project.T.to_json(\n",
    "  OUTPUT_DIR.joinpath('headlines.json'),\n",
    "  indent=2\n",
    ")"
   ]
  },
  {
   "cell_type": "markdown",
   "id": "ea3dc8a6",
   "metadata": {
    "papermill": {
     "duration": 0.002214,
     "end_time": "2023-12-23T23:39:27.354314",
     "exception": false,
     "start_time": "2023-12-23T23:39:27.352100",
     "status": "completed"
    },
    "tags": []
   },
   "source": [
    "Add `day` column"
   ]
  },
  {
   "cell_type": "code",
   "execution_count": 6,
   "id": "d15a2799",
   "metadata": {
    "execution": {
     "iopub.execute_input": "2023-12-23T23:39:27.359772Z",
     "iopub.status.busy": "2023-12-23T23:39:27.359436Z",
     "iopub.status.idle": "2023-12-23T23:39:27.363452Z",
     "shell.execute_reply": "2023-12-23T23:39:27.362824Z"
    },
    "papermill": {
     "duration": 0.008233,
     "end_time": "2023-12-23T23:39:27.364779",
     "exception": false,
     "start_time": "2023-12-23T23:39:27.356546",
     "status": "completed"
    },
    "tags": []
   },
   "outputs": [],
   "source": [
    "orders['day'] = orders.created_at.dt.floor('D')"
   ]
  },
  {
   "cell_type": "code",
   "execution_count": 7,
   "id": "dfa5efff",
   "metadata": {
    "execution": {
     "iopub.execute_input": "2023-12-23T23:39:27.370389Z",
     "iopub.status.busy": "2023-12-23T23:39:27.369977Z",
     "iopub.status.idle": "2023-12-23T23:39:27.380010Z",
     "shell.execute_reply": "2023-12-23T23:39:27.379384Z"
    },
    "papermill": {
     "duration": 0.014271,
     "end_time": "2023-12-23T23:39:27.381297",
     "exception": false,
     "start_time": "2023-12-23T23:39:27.367026",
     "status": "completed"
    },
    "tags": []
   },
   "outputs": [
    {
     "data": {
      "text/html": [
       "<div>\n",
       "<style scoped>\n",
       "    .dataframe tbody tr th:only-of-type {\n",
       "        vertical-align: middle;\n",
       "    }\n",
       "\n",
       "    .dataframe tbody tr th {\n",
       "        vertical-align: top;\n",
       "    }\n",
       "\n",
       "    .dataframe thead th {\n",
       "        text-align: right;\n",
       "    }\n",
       "</style>\n",
       "<table border=\"1\" class=\"dataframe\">\n",
       "  <thead>\n",
       "    <tr style=\"text-align: right;\">\n",
       "      <th></th>\n",
       "      <th>created_at</th>\n",
       "      <th>day</th>\n",
       "    </tr>\n",
       "  </thead>\n",
       "  <tbody>\n",
       "    <tr>\n",
       "      <th>176</th>\n",
       "      <td>2023-03-30 16:58:03</td>\n",
       "      <td>2023-03-30</td>\n",
       "    </tr>\n",
       "    <tr>\n",
       "      <th>177</th>\n",
       "      <td>2023-03-30 18:44:08</td>\n",
       "      <td>2023-03-30</td>\n",
       "    </tr>\n",
       "    <tr>\n",
       "      <th>180</th>\n",
       "      <td>2023-03-30 20:32:43</td>\n",
       "      <td>2023-03-30</td>\n",
       "    </tr>\n",
       "    <tr>\n",
       "      <th>181</th>\n",
       "      <td>2023-03-30 21:27:59</td>\n",
       "      <td>2023-03-30</td>\n",
       "    </tr>\n",
       "    <tr>\n",
       "      <th>183</th>\n",
       "      <td>2023-03-30 22:56:31</td>\n",
       "      <td>2023-03-30</td>\n",
       "    </tr>\n",
       "  </tbody>\n",
       "</table>\n",
       "</div>"
      ],
      "text/plain": [
       "             created_at        day\n",
       "176 2023-03-30 16:58:03 2023-03-30\n",
       "177 2023-03-30 18:44:08 2023-03-30\n",
       "180 2023-03-30 20:32:43 2023-03-30\n",
       "181 2023-03-30 21:27:59 2023-03-30\n",
       "183 2023-03-30 22:56:31 2023-03-30"
      ]
     },
     "execution_count": 7,
     "metadata": {},
     "output_type": "execute_result"
    }
   ],
   "source": [
    "orders.loc[:, ['created_at', 'day']].head()"
   ]
  },
  {
   "cell_type": "markdown",
   "id": "7b573aa0",
   "metadata": {
    "papermill": {
     "duration": 0.00258,
     "end_time": "2023-12-23T23:39:27.386538",
     "exception": false,
     "start_time": "2023-12-23T23:39:27.383958",
     "status": "completed"
    },
    "tags": []
   },
   "source": [
    "Save table cumulative weekly per project"
   ]
  },
  {
   "cell_type": "code",
   "execution_count": 8,
   "id": "c4736989",
   "metadata": {
    "execution": {
     "iopub.execute_input": "2023-12-23T23:39:27.392561Z",
     "iopub.status.busy": "2023-12-23T23:39:27.392166Z",
     "iopub.status.idle": "2023-12-23T23:39:27.403517Z",
     "shell.execute_reply": "2023-12-23T23:39:27.402860Z"
    },
    "papermill": {
     "duration": 0.016003,
     "end_time": "2023-12-23T23:39:27.404929",
     "exception": false,
     "start_time": "2023-12-23T23:39:27.388926",
     "status": "completed"
    },
    "tags": []
   },
   "outputs": [],
   "source": [
    "orders.groupby(\n",
    "  ['day', 'project_name']\n",
    ").number_of_tickets.pipe(\n",
    "  count_and_sum\n",
    ").tickets.unstack().fillna(0).resample('W-FRI').sum().cumsum().rename_axis('week').to_csv(\n",
    "  OUTPUT_DIR.joinpath('by_project_cumulative_weekly.csv')\n",
    ")"
   ]
  },
  {
   "cell_type": "markdown",
   "id": "772654c0",
   "metadata": {
    "papermill": {
     "duration": 0.002644,
     "end_time": "2023-12-23T23:39:27.410151",
     "exception": false,
     "start_time": "2023-12-23T23:39:27.407507",
     "status": "completed"
    },
    "tags": []
   },
   "source": [
    "Save cumulative monthly sales"
   ]
  },
  {
   "cell_type": "code",
   "execution_count": 9,
   "id": "78f575b0",
   "metadata": {
    "execution": {
     "iopub.execute_input": "2023-12-23T23:39:27.416080Z",
     "iopub.status.busy": "2023-12-23T23:39:27.415682Z",
     "iopub.status.idle": "2023-12-23T23:39:27.422679Z",
     "shell.execute_reply": "2023-12-23T23:39:27.422186Z"
    },
    "papermill": {
     "duration": 0.011427,
     "end_time": "2023-12-23T23:39:27.423980",
     "exception": false,
     "start_time": "2023-12-23T23:39:27.412553",
     "status": "completed"
    },
    "tags": []
   },
   "outputs": [],
   "source": [
    "orders.groupby(['day']).number_of_tickets.pipe(count_and_sum).resample('MS').sum().pipe(cumulate).rename_axis('month').to_csv(\n",
    "  OUTPUT_DIR.joinpath('monthly_cumulative.csv')\n",
    ")"
   ]
  },
  {
   "cell_type": "code",
   "execution_count": null,
   "id": "94f5f403",
   "metadata": {
    "papermill": {
     "duration": 0.002563,
     "end_time": "2023-12-23T23:39:27.429001",
     "exception": false,
     "start_time": "2023-12-23T23:39:27.426438",
     "status": "completed"
    },
    "tags": []
   },
   "outputs": [],
   "source": []
  }
 ],
 "metadata": {
  "kernelspec": {
   "display_name": "leeds-2023-YZF5GfJv",
   "language": "python",
   "name": "python3"
  },
  "language_info": {
   "codemirror_mode": {
    "name": "ipython",
    "version": 3
   },
   "file_extension": ".py",
   "mimetype": "text/x-python",
   "name": "python",
   "nbconvert_exporter": "python",
   "pygments_lexer": "ipython3",
   "version": "3.10.13"
  },
  "papermill": {
   "default_parameters": {},
   "duration": 1.883416,
   "end_time": "2023-12-23T23:39:27.647274",
   "environment_variables": {},
   "exception": null,
   "input_path": "prepare.ipynb",
   "output_path": "../../../../working/output/tickets-prepare.ipynb",
   "parameters": {},
   "start_time": "2023-12-23T23:39:25.763858",
   "version": "2.4.0"
  }
 },
 "nbformat": 4,
 "nbformat_minor": 5
}