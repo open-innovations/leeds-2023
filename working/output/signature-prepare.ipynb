{
 "cells": [
  {
   "cell_type": "code",
   "execution_count": 1,
   "id": "b35b634f",
   "metadata": {
    "execution": {
     "iopub.execute_input": "2023-09-18T23:39:29.182841Z",
     "iopub.status.busy": "2023-09-18T23:39:29.182213Z",
     "iopub.status.idle": "2023-09-18T23:39:38.880098Z",
     "shell.execute_reply": "2023-09-18T23:39:38.879113Z"
    },
    "papermill": {
     "duration": 9.703995,
     "end_time": "2023-09-18T23:39:38.882003",
     "exception": false,
     "start_time": "2023-09-18T23:39:29.178008",
     "status": "completed"
    },
    "tags": []
   },
   "outputs": [],
   "source": [
    "import os\n",
    "import pandas as pd\n",
    "from events import load_event_data, get_first_ward, normalise_ward"
   ]
  },
  {
   "cell_type": "code",
   "execution_count": 2,
   "id": "e489db85",
   "metadata": {
    "execution": {
     "iopub.execute_input": "2023-09-18T23:39:38.888073Z",
     "iopub.status.busy": "2023-09-18T23:39:38.887829Z",
     "iopub.status.idle": "2023-09-18T23:39:38.891650Z",
     "shell.execute_reply": "2023-09-18T23:39:38.890999Z"
    },
    "papermill": {
     "duration": 0.008636,
     "end_time": "2023-09-18T23:39:38.893291",
     "exception": false,
     "start_time": "2023-09-18T23:39:38.884655",
     "status": "completed"
    },
    "tags": []
   },
   "outputs": [],
   "source": [
    "latest_date = pd.Timestamp.today().ceil('D')"
   ]
  },
  {
   "cell_type": "code",
   "execution_count": 3,
   "id": "ac08556b",
   "metadata": {
    "execution": {
     "iopub.execute_input": "2023-09-18T23:39:38.898869Z",
     "iopub.status.busy": "2023-09-18T23:39:38.898649Z",
     "iopub.status.idle": "2023-09-18T23:39:38.915935Z",
     "shell.execute_reply": "2023-09-18T23:39:38.914641Z"
    },
    "papermill": {
     "duration": 0.021947,
     "end_time": "2023-09-18T23:39:38.917483",
     "exception": false,
     "start_time": "2023-09-18T23:39:38.895536",
     "status": "completed"
    },
    "tags": []
   },
   "outputs": [],
   "source": [
    "tickets = pd.read_csv('../../../../data/metrics/events/tickets/orders.csv', parse_dates=['created_at', 'event_date'])\n",
    "tickets = tickets[tickets.event_date <= latest_date]"
   ]
  },
  {
   "cell_type": "code",
   "execution_count": 4,
   "id": "22ac7d1c",
   "metadata": {
    "execution": {
     "iopub.execute_input": "2023-09-18T23:39:38.923053Z",
     "iopub.status.busy": "2023-09-18T23:39:38.922835Z",
     "iopub.status.idle": "2023-09-18T23:39:39.147396Z",
     "shell.execute_reply": "2023-09-18T23:39:39.146732Z"
    },
    "papermill": {
     "duration": 0.229415,
     "end_time": "2023-09-18T23:39:39.149179",
     "exception": false,
     "start_time": "2023-09-18T23:39:38.919764",
     "status": "completed"
    },
    "tags": []
   },
   "outputs": [],
   "source": [
    "events = load_event_data()\n",
    "\n",
    "events = pd.concat([\n",
    "  events,\n",
    "  events.pipe(get_first_ward).pipe(normalise_ward).fillna('UNKNOWN'),\n",
    "  pd.Series(\n",
    "      events.actual_audience_size_number_of_participants_in_person + events.actual_audience_size_number_of_participants_online,\n",
    "      name='attendances'\n",
    "  )\n",
    "], axis=1).rename(columns={\n",
    "    'start_date': 'date'\n",
    "}).loc[:, ['ward_code', 'date', 'event_unique_identifier', 'attendances']]"
   ]
  },
  {
   "cell_type": "code",
   "execution_count": 5,
   "id": "83a6ca7e",
   "metadata": {
    "execution": {
     "iopub.execute_input": "2023-09-18T23:39:39.155727Z",
     "iopub.status.busy": "2023-09-18T23:39:39.155112Z",
     "iopub.status.idle": "2023-09-18T23:39:39.159801Z",
     "shell.execute_reply": "2023-09-18T23:39:39.159219Z"
    },
    "papermill": {
     "duration": 0.009453,
     "end_time": "2023-09-18T23:39:39.161268",
     "exception": false,
     "start_time": "2023-09-18T23:39:39.151815",
     "status": "completed"
    },
    "tags": []
   },
   "outputs": [],
   "source": [
    "OUTPUT_DIR='../../../../docs/metrics/events/signature/_data/'\n",
    "os.makedirs(OUTPUT_DIR, exist_ok=True)"
   ]
  },
  {
   "cell_type": "markdown",
   "id": "0550082a",
   "metadata": {
    "papermill": {
     "duration": 0.002355,
     "end_time": "2023-09-18T23:39:39.166062",
     "exception": false,
     "start_time": "2023-09-18T23:39:39.163707",
     "status": "completed"
    },
    "tags": []
   },
   "source": [
    "Events CSVs"
   ]
  },
  {
   "cell_type": "code",
   "execution_count": 6,
   "id": "4f78e4dc",
   "metadata": {
    "execution": {
     "iopub.execute_input": "2023-09-18T23:39:39.171898Z",
     "iopub.status.busy": "2023-09-18T23:39:39.171454Z",
     "iopub.status.idle": "2023-09-18T23:39:39.178361Z",
     "shell.execute_reply": "2023-09-18T23:39:39.177742Z"
    },
    "papermill": {
     "duration": 0.01153,
     "end_time": "2023-09-18T23:39:39.179902",
     "exception": false,
     "start_time": "2023-09-18T23:39:39.168372",
     "status": "completed"
    },
    "tags": []
   },
   "outputs": [],
   "source": [
    "pd.DataFrame({\n",
    "  'events': events.groupby('ward_code').event_unique_identifier.count(),\n",
    "  'attendances': events.groupby('ward_code').attendances.sum().astype(int),\n",
    "}).to_csv(os.path.join(OUTPUT_DIR, 'events_by_ward.csv'))\n"
   ]
  },
  {
   "cell_type": "code",
   "execution_count": 7,
   "id": "3bc3c9bd",
   "metadata": {
    "execution": {
     "iopub.execute_input": "2023-09-18T23:39:39.185794Z",
     "iopub.status.busy": "2023-09-18T23:39:39.185371Z",
     "iopub.status.idle": "2023-09-18T23:39:39.195859Z",
     "shell.execute_reply": "2023-09-18T23:39:39.195262Z"
    },
    "papermill": {
     "duration": 0.015167,
     "end_time": "2023-09-18T23:39:39.197463",
     "exception": false,
     "start_time": "2023-09-18T23:39:39.182296",
     "status": "completed"
    },
    "tags": []
   },
   "outputs": [],
   "source": [
    "pd.DataFrame({\n",
    "  'events': events.groupby('date').event_unique_identifier.count(),\n",
    "  'attendances': events.groupby('date').attendances.sum().astype(int),\n",
    "}).resample('M').sum().astype(int).to_csv(os.path.join(OUTPUT_DIR, 'events_by_date.csv'))"
   ]
  },
  {
   "cell_type": "markdown",
   "id": "ea96770e",
   "metadata": {
    "papermill": {
     "duration": 0.002421,
     "end_time": "2023-09-18T23:39:39.202347",
     "exception": false,
     "start_time": "2023-09-18T23:39:39.199926",
     "status": "completed"
    },
    "tags": []
   },
   "source": [
    "Tickets CSV"
   ]
  },
  {
   "cell_type": "code",
   "execution_count": 8,
   "id": "5ad26267",
   "metadata": {
    "execution": {
     "iopub.execute_input": "2023-09-18T23:39:39.208318Z",
     "iopub.status.busy": "2023-09-18T23:39:39.208082Z",
     "iopub.status.idle": "2023-09-18T23:39:39.215073Z",
     "shell.execute_reply": "2023-09-18T23:39:39.214482Z"
    },
    "papermill": {
     "duration": 0.011931,
     "end_time": "2023-09-18T23:39:39.216653",
     "exception": false,
     "start_time": "2023-09-18T23:39:39.204722",
     "status": "completed"
    },
    "tags": []
   },
   "outputs": [],
   "source": [
    "pd.DataFrame({\n",
    "  'orders': tickets.groupby('ward_code').number_of_tickets.count(),\n",
    "  'tickets': tickets.groupby('ward_code').number_of_tickets.sum().astype(int),\n",
    "}).to_csv(os.path.join(OUTPUT_DIR, 'tickets_by_ward.csv'))"
   ]
  },
  {
   "cell_type": "code",
   "execution_count": 9,
   "id": "08b9e0a7",
   "metadata": {
    "execution": {
     "iopub.execute_input": "2023-09-18T23:39:39.222734Z",
     "iopub.status.busy": "2023-09-18T23:39:39.222307Z",
     "iopub.status.idle": "2023-09-18T23:39:39.231566Z",
     "shell.execute_reply": "2023-09-18T23:39:39.230961Z"
    },
    "papermill": {
     "duration": 0.013902,
     "end_time": "2023-09-18T23:39:39.233033",
     "exception": false,
     "start_time": "2023-09-18T23:39:39.219131",
     "status": "completed"
    },
    "tags": []
   },
   "outputs": [],
   "source": [
    "pd.DataFrame({\n",
    "  'orders': tickets.groupby('event_date').number_of_tickets.count(),\n",
    "  'tickets': tickets.groupby('event_date').number_of_tickets.sum().astype(int),\n",
    "}).resample('M').sum().to_csv(os.path.join(OUTPUT_DIR, 'tickets_by_event_date.csv'))"
   ]
  },
  {
   "cell_type": "code",
   "execution_count": 10,
   "id": "a7e0e9f9",
   "metadata": {
    "execution": {
     "iopub.execute_input": "2023-09-18T23:39:39.240230Z",
     "iopub.status.busy": "2023-09-18T23:39:39.239781Z",
     "iopub.status.idle": "2023-09-18T23:39:39.246248Z",
     "shell.execute_reply": "2023-09-18T23:39:39.245637Z"
    },
    "papermill": {
     "duration": 0.012337,
     "end_time": "2023-09-18T23:39:39.247922",
     "exception": false,
     "start_time": "2023-09-18T23:39:39.235585",
     "status": "completed"
    },
    "tags": []
   },
   "outputs": [],
   "source": [
    "pd.Series({\n",
    "    'total_events': events.event_unique_identifier.count(),\n",
    "    'total_attendances': events.attendances.count(),\n",
    "    'first_event': events.date.min(),\n",
    "    'latest_event': events.date.max(),\n",
    "    'total_ticket_orders_for_events_to_date': tickets.number_of_tickets.count(),\n",
    "    'total_tickets_sold_for_events_to_date': tickets.number_of_tickets.sum(),\n",
    "}).to_json(os.path.join(OUTPUT_DIR, 'headlines.json'), indent=2)"
   ]
  },
  {
   "cell_type": "code",
   "execution_count": null,
   "id": "a23433fb",
   "metadata": {
    "papermill": {
     "duration": 0.002413,
     "end_time": "2023-09-18T23:39:39.252886",
     "exception": false,
     "start_time": "2023-09-18T23:39:39.250473",
     "status": "completed"
    },
    "tags": []
   },
   "outputs": [],
   "source": []
  }
 ],
 "metadata": {
  "kernelspec": {
   "display_name": "leeds-2023-YZF5GfJv",
   "language": "python",
   "name": "python3"
  },
  "language_info": {
   "codemirror_mode": {
    "name": "ipython",
    "version": 3
   },
   "file_extension": ".py",
   "mimetype": "text/x-python",
   "name": "python",
   "nbconvert_exporter": "python",
   "pygments_lexer": "ipython3",
   "version": "3.10.13"
  },
  "papermill": {
   "default_parameters": {},
   "duration": 11.750605,
   "end_time": "2023-09-18T23:39:39.573098",
   "environment_variables": {},
   "exception": null,
   "input_path": "prepare.ipynb",
   "output_path": "../../../../working/output/signature-prepare.ipynb",
   "parameters": {},
   "start_time": "2023-09-18T23:39:27.822493",
   "version": "2.4.0"
  }
 },
 "nbformat": 4,
 "nbformat_minor": 5
}