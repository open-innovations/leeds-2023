{
 "cells": [
  {
   "cell_type": "code",
   "execution_count": 1,
   "id": "2d621498",
   "metadata": {
    "execution": {
     "iopub.execute_input": "2023-12-23T01:13:18.727793Z",
     "iopub.status.busy": "2023-12-23T01:13:18.727544Z",
     "iopub.status.idle": "2023-12-23T01:13:18.965227Z",
     "shell.execute_reply": "2023-12-23T01:13:18.964552Z"
    },
    "papermill": {
     "duration": 0.243144,
     "end_time": "2023-12-23T01:13:18.966966",
     "exception": false,
     "start_time": "2023-12-23T01:13:18.723822",
     "status": "completed"
    },
    "tags": []
   },
   "outputs": [],
   "source": [
    "import sys\n",
    "from pathlib import Path\n",
    "\n",
    "import pandas as pd\n",
    "\n",
    "TOP_DIR = Path('../../../..').resolve()\n",
    "\n",
    "if str(TOP_DIR) not in sys.path: sys.path.append(str(TOP_DIR))"
   ]
  },
  {
   "cell_type": "code",
   "execution_count": 2,
   "id": "6eaf004d",
   "metadata": {
    "execution": {
     "iopub.execute_input": "2023-12-23T01:13:18.973316Z",
     "iopub.status.busy": "2023-12-23T01:13:18.972781Z",
     "iopub.status.idle": "2023-12-23T01:13:25.860057Z",
     "shell.execute_reply": "2023-12-23T01:13:25.859360Z"
    },
    "papermill": {
     "duration": 6.892163,
     "end_time": "2023-12-23T01:13:25.861852",
     "exception": false,
     "start_time": "2023-12-23T01:13:18.969689",
     "status": "completed"
    },
    "tags": []
   },
   "outputs": [],
   "source": [
    "from lib.util.geo import postcode_formatter, postcode_to_ward_code"
   ]
  },
  {
   "cell_type": "code",
   "execution_count": 3,
   "id": "464d857e",
   "metadata": {
    "execution": {
     "iopub.execute_input": "2023-12-23T01:13:25.868304Z",
     "iopub.status.busy": "2023-12-23T01:13:25.867911Z",
     "iopub.status.idle": "2023-12-23T01:13:25.889820Z",
     "shell.execute_reply": "2023-12-23T01:13:25.889207Z"
    },
    "papermill": {
     "duration": 0.026763,
     "end_time": "2023-12-23T01:13:25.891411",
     "exception": false,
     "start_time": "2023-12-23T01:13:25.864648",
     "status": "completed"
    },
    "tags": []
   },
   "outputs": [],
   "source": [
    "ticket_data = pd.read_csv(\n",
    "    '../../../../working/metrics/ticketing/orders.csv',\n",
    "    parse_dates=['created_at', 'event_date'],\n",
    "    usecols=[\n",
    "        'created_at',\n",
    "        'event_id',\n",
    "        'event_name',\n",
    "        'event_date',\n",
    "        'event_time',\n",
    "        'number_of_tickets',\n",
    "        'postcode_from_question',\n",
    "        'postcode_from_address',\n",
    "        'status',\n",
    "    ]\n",
    ")"
   ]
  },
  {
   "cell_type": "code",
   "execution_count": 4,
   "id": "fcd0b2a4",
   "metadata": {
    "execution": {
     "iopub.execute_input": "2023-12-23T01:13:25.897631Z",
     "iopub.status.busy": "2023-12-23T01:13:25.897203Z",
     "iopub.status.idle": "2023-12-23T01:13:25.905895Z",
     "shell.execute_reply": "2023-12-23T01:13:25.905263Z"
    },
    "papermill": {
     "duration": 0.013235,
     "end_time": "2023-12-23T01:13:25.907245",
     "exception": false,
     "start_time": "2023-12-23T01:13:25.894010",
     "status": "completed"
    },
    "tags": []
   },
   "outputs": [
    {
     "name": "stdout",
     "output_type": "stream",
     "text": [
      "<class 'pandas.core.frame.DataFrame'>\n",
      "RangeIndex: 6939 entries, 0 to 6938\n",
      "Data columns (total 9 columns):\n",
      " #   Column                  Non-Null Count  Dtype         \n",
      "---  ------                  --------------  -----         \n",
      " 0   postcode_from_question  6530 non-null   object        \n",
      " 1   postcode_from_address   861 non-null    object        \n",
      " 2   created_at              6939 non-null   datetime64[ns]\n",
      " 3   event_id                6939 non-null   object        \n",
      " 4   event_name              6939 non-null   object        \n",
      " 5   event_date              6939 non-null   datetime64[ns]\n",
      " 6   event_time              6939 non-null   object        \n",
      " 7   number_of_tickets       6939 non-null   int64         \n",
      " 8   status                  6939 non-null   object        \n",
      "dtypes: datetime64[ns](2), int64(1), object(6)\n",
      "memory usage: 488.0+ KB\n"
     ]
    }
   ],
   "source": [
    "ticket_data.info()"
   ]
  },
  {
   "cell_type": "code",
   "execution_count": 5,
   "id": "bd662fe7",
   "metadata": {
    "execution": {
     "iopub.execute_input": "2023-12-23T01:13:25.913260Z",
     "iopub.status.busy": "2023-12-23T01:13:25.912921Z",
     "iopub.status.idle": "2023-12-23T01:13:25.917801Z",
     "shell.execute_reply": "2023-12-23T01:13:25.917317Z"
    },
    "papermill": {
     "duration": 0.009346,
     "end_time": "2023-12-23T01:13:25.919173",
     "exception": false,
     "start_time": "2023-12-23T01:13:25.909827",
     "status": "completed"
    },
    "tags": []
   },
   "outputs": [],
   "source": [
    "completed_orders = (\n",
    "    ticket_data.loc[\n",
    "        ~ticket_data.status.isin(['cancelled']),\n",
    "        ticket_data.columns\n",
    "    ]\n",
    ")"
   ]
  },
  {
   "cell_type": "code",
   "execution_count": 6,
   "id": "3877aa7a",
   "metadata": {
    "execution": {
     "iopub.execute_input": "2023-12-23T01:13:25.925292Z",
     "iopub.status.busy": "2023-12-23T01:13:25.924952Z",
     "iopub.status.idle": "2023-12-23T01:13:26.809784Z",
     "shell.execute_reply": "2023-12-23T01:13:26.809084Z"
    },
    "papermill": {
     "duration": 0.88987,
     "end_time": "2023-12-23T01:13:26.811599",
     "exception": false,
     "start_time": "2023-12-23T01:13:25.921729",
     "status": "completed"
    },
    "tags": []
   },
   "outputs": [],
   "source": [
    "completed_orders['ward_code'] = (\n",
    "    completed_orders\n",
    "        .loc[:, ['postcode_from_question', 'postcode_from_address']]\n",
    "        .bfill()\n",
    "        .iloc[:, 0]\n",
    "        .pipe(postcode_formatter)\n",
    "        .map(postcode_to_ward_code)\n",
    ")"
   ]
  },
  {
   "cell_type": "markdown",
   "id": "93ba105d",
   "metadata": {
    "papermill": {
     "duration": 0.002586,
     "end_time": "2023-12-23T01:13:26.817801",
     "exception": false,
     "start_time": "2023-12-23T01:13:26.815215",
     "status": "completed"
    },
    "tags": []
   },
   "source": [
    "Get the events data"
   ]
  },
  {
   "cell_type": "code",
   "execution_count": 7,
   "id": "5d034eef",
   "metadata": {
    "execution": {
     "iopub.execute_input": "2023-12-23T01:13:26.824258Z",
     "iopub.status.busy": "2023-12-23T01:13:26.823716Z",
     "iopub.status.idle": "2023-12-23T01:13:26.840515Z",
     "shell.execute_reply": "2023-12-23T01:13:26.839888Z"
    },
    "papermill": {
     "duration": 0.021679,
     "end_time": "2023-12-23T01:13:26.842049",
     "exception": false,
     "start_time": "2023-12-23T01:13:26.820370",
     "status": "completed"
    },
    "tags": []
   },
   "outputs": [],
   "source": [
    "def prepare_events(data: pd.DataFrame):\n",
    "    data = data.rename(columns={\n",
    "        'Project name': 'project_name',\n",
    "        'Event type': 'event_type',\n",
    "        'Ticket Tailor ID': 'ticket_tailor_id'\n",
    "    })\n",
    "    data['public_event'] = data.event_type.str.contains('Public Event')\n",
    "    data['ticket_tailor_id'] = data.ticket_tailor_id.str.split(\n",
    "        pat=r'[\\s,]+', regex=True)\n",
    "    data = data.drop(columns=['event_type'])\n",
    "    data = data.explode('ticket_tailor_id')\n",
    "    data = data.loc[data.ticket_tailor_id.notna() & (data.ticket_tailor_id != '')]\n",
    "    return data\n",
    "\n",
    "\n",
    "events = pd.read_csv(\n",
    "    '../../../../working/metrics/events/all.csv',\n",
    "    usecols=[\n",
    "        'Project name',\n",
    "        'Event type',\n",
    "        'Ticket Tailor ID'\n",
    "    ]\n",
    ").pipe(prepare_events)"
   ]
  },
  {
   "cell_type": "markdown",
   "id": "13b1f523",
   "metadata": {
    "papermill": {
     "duration": 0.00251,
     "end_time": "2023-12-23T01:13:26.847263",
     "exception": false,
     "start_time": "2023-12-23T01:13:26.844753",
     "status": "completed"
    },
    "tags": []
   },
   "source": [
    "Duplicated ticket tailor IDs"
   ]
  },
  {
   "cell_type": "code",
   "execution_count": 8,
   "id": "a7635027",
   "metadata": {
    "execution": {
     "iopub.execute_input": "2023-12-23T01:13:26.853360Z",
     "iopub.status.busy": "2023-12-23T01:13:26.853014Z",
     "iopub.status.idle": "2023-12-23T01:13:26.863971Z",
     "shell.execute_reply": "2023-12-23T01:13:26.863341Z"
    },
    "papermill": {
     "duration": 0.015452,
     "end_time": "2023-12-23T01:13:26.865248",
     "exception": false,
     "start_time": "2023-12-23T01:13:26.849796",
     "status": "completed"
    },
    "tags": []
   },
   "outputs": [
    {
     "data": {
      "text/html": [
       "<div>\n",
       "<style scoped>\n",
       "    .dataframe tbody tr th:only-of-type {\n",
       "        vertical-align: middle;\n",
       "    }\n",
       "\n",
       "    .dataframe tbody tr th {\n",
       "        vertical-align: top;\n",
       "    }\n",
       "\n",
       "    .dataframe thead th {\n",
       "        text-align: right;\n",
       "    }\n",
       "</style>\n",
       "<table border=\"1\" class=\"dataframe\">\n",
       "  <thead>\n",
       "    <tr style=\"text-align: right;\">\n",
       "      <th></th>\n",
       "      <th>project_name</th>\n",
       "      <th>ticket_tailor_id</th>\n",
       "      <th>public_event</th>\n",
       "    </tr>\n",
       "  </thead>\n",
       "  <tbody>\n",
       "    <tr>\n",
       "      <th>127</th>\n",
       "      <td>11 - All That Lives</td>\n",
       "      <td>985872</td>\n",
       "      <td>True</td>\n",
       "    </tr>\n",
       "    <tr>\n",
       "      <th>147</th>\n",
       "      <td>09 - Smeaton300: Moon Palace East Leeds Observ...</td>\n",
       "      <td>ev_2918127</td>\n",
       "      <td>True</td>\n",
       "    </tr>\n",
       "    <tr>\n",
       "      <th>173</th>\n",
       "      <td>11 - All That Lives</td>\n",
       "      <td>985872</td>\n",
       "      <td>True</td>\n",
       "    </tr>\n",
       "    <tr>\n",
       "      <th>272</th>\n",
       "      <td>Creative Learning S3</td>\n",
       "      <td>ev_3073624</td>\n",
       "      <td>False</td>\n",
       "    </tr>\n",
       "    <tr>\n",
       "      <th>332</th>\n",
       "      <td>11 - All That Lives</td>\n",
       "      <td>985872</td>\n",
       "      <td>True</td>\n",
       "    </tr>\n",
       "    <tr>\n",
       "      <th>651</th>\n",
       "      <td>11 - All That Lives</td>\n",
       "      <td>985872</td>\n",
       "      <td>True</td>\n",
       "    </tr>\n",
       "    <tr>\n",
       "      <th>948</th>\n",
       "      <td>07 - Children's Day</td>\n",
       "      <td>ev_2963290</td>\n",
       "      <td>NaN</td>\n",
       "    </tr>\n",
       "    <tr>\n",
       "      <th>948</th>\n",
       "      <td>07 - Children's Day</td>\n",
       "      <td>ev_2963290</td>\n",
       "      <td>NaN</td>\n",
       "    </tr>\n",
       "    <tr>\n",
       "      <th>948</th>\n",
       "      <td>07 - Children's Day</td>\n",
       "      <td>ev_2963295</td>\n",
       "      <td>NaN</td>\n",
       "    </tr>\n",
       "    <tr>\n",
       "      <th>948</th>\n",
       "      <td>07 - Children's Day</td>\n",
       "      <td>ev_2963297</td>\n",
       "      <td>NaN</td>\n",
       "    </tr>\n",
       "    <tr>\n",
       "      <th>948</th>\n",
       "      <td>07 - Children's Day</td>\n",
       "      <td>ev_2963295</td>\n",
       "      <td>NaN</td>\n",
       "    </tr>\n",
       "    <tr>\n",
       "      <th>948</th>\n",
       "      <td>07 - Children's Day</td>\n",
       "      <td>ev_2963296</td>\n",
       "      <td>NaN</td>\n",
       "    </tr>\n",
       "    <tr>\n",
       "      <th>948</th>\n",
       "      <td>07 - Children's Day</td>\n",
       "      <td>ev_2963296</td>\n",
       "      <td>NaN</td>\n",
       "    </tr>\n",
       "    <tr>\n",
       "      <th>948</th>\n",
       "      <td>07 - Children's Day</td>\n",
       "      <td>ev_2963297</td>\n",
       "      <td>NaN</td>\n",
       "    </tr>\n",
       "    <tr>\n",
       "      <th>992</th>\n",
       "      <td>11 - All That Lives</td>\n",
       "      <td>985872</td>\n",
       "      <td>True</td>\n",
       "    </tr>\n",
       "    <tr>\n",
       "      <th>1172</th>\n",
       "      <td>09 - Smeaton300: Moon Palace East Leeds Observ...</td>\n",
       "      <td>ev_2918127</td>\n",
       "      <td>True</td>\n",
       "    </tr>\n",
       "    <tr>\n",
       "      <th>1462</th>\n",
       "      <td>07 - Children's Day</td>\n",
       "      <td>ev_2963290</td>\n",
       "      <td>True</td>\n",
       "    </tr>\n",
       "    <tr>\n",
       "      <th>1462</th>\n",
       "      <td>07 - Children's Day</td>\n",
       "      <td>ev_2963295</td>\n",
       "      <td>True</td>\n",
       "    </tr>\n",
       "    <tr>\n",
       "      <th>1462</th>\n",
       "      <td>07 - Children's Day</td>\n",
       "      <td>ev_2963296</td>\n",
       "      <td>True</td>\n",
       "    </tr>\n",
       "    <tr>\n",
       "      <th>1462</th>\n",
       "      <td>07 - Children's Day</td>\n",
       "      <td>ev_2963297</td>\n",
       "      <td>True</td>\n",
       "    </tr>\n",
       "    <tr>\n",
       "      <th>1482</th>\n",
       "      <td>09 - Smeaton300: Moon Palace East Leeds Observ...</td>\n",
       "      <td>ev_2918127</td>\n",
       "      <td>True</td>\n",
       "    </tr>\n",
       "    <tr>\n",
       "      <th>1567</th>\n",
       "      <td>Creative Learning S3</td>\n",
       "      <td>ev_3073624</td>\n",
       "      <td>False</td>\n",
       "    </tr>\n",
       "  </tbody>\n",
       "</table>\n",
       "</div>"
      ],
      "text/plain": [
       "                                           project_name ticket_tailor_id  \\\n",
       "127                                 11 - All That Lives           985872   \n",
       "147   09 - Smeaton300: Moon Palace East Leeds Observ...       ev_2918127   \n",
       "173                                 11 - All That Lives           985872   \n",
       "272                                Creative Learning S3       ev_3073624   \n",
       "332                                 11 - All That Lives           985872   \n",
       "651                                 11 - All That Lives           985872   \n",
       "948                                 07 - Children's Day       ev_2963290   \n",
       "948                                 07 - Children's Day       ev_2963290   \n",
       "948                                 07 - Children's Day       ev_2963295   \n",
       "948                                 07 - Children's Day       ev_2963297   \n",
       "948                                 07 - Children's Day       ev_2963295   \n",
       "948                                 07 - Children's Day       ev_2963296   \n",
       "948                                 07 - Children's Day       ev_2963296   \n",
       "948                                 07 - Children's Day       ev_2963297   \n",
       "992                                 11 - All That Lives           985872   \n",
       "1172  09 - Smeaton300: Moon Palace East Leeds Observ...       ev_2918127   \n",
       "1462                                07 - Children's Day       ev_2963290   \n",
       "1462                                07 - Children's Day       ev_2963295   \n",
       "1462                                07 - Children's Day       ev_2963296   \n",
       "1462                                07 - Children's Day       ev_2963297   \n",
       "1482  09 - Smeaton300: Moon Palace East Leeds Observ...       ev_2918127   \n",
       "1567                               Creative Learning S3       ev_3073624   \n",
       "\n",
       "     public_event  \n",
       "127          True  \n",
       "147          True  \n",
       "173          True  \n",
       "272         False  \n",
       "332          True  \n",
       "651          True  \n",
       "948           NaN  \n",
       "948           NaN  \n",
       "948           NaN  \n",
       "948           NaN  \n",
       "948           NaN  \n",
       "948           NaN  \n",
       "948           NaN  \n",
       "948           NaN  \n",
       "992          True  \n",
       "1172         True  \n",
       "1462         True  \n",
       "1462         True  \n",
       "1462         True  \n",
       "1462         True  \n",
       "1482         True  \n",
       "1567        False  "
      ]
     },
     "execution_count": 8,
     "metadata": {},
     "output_type": "execute_result"
    }
   ],
   "source": [
    "events[\n",
    "  events.ticket_tailor_id.isin(\n",
    "    events.ticket_tailor_id[\n",
    "      events.ticket_tailor_id.duplicated()\n",
    "    ].to_list()\n",
    "  )\n",
    "]"
   ]
  },
  {
   "cell_type": "code",
   "execution_count": 9,
   "id": "44f4f3aa",
   "metadata": {
    "execution": {
     "iopub.execute_input": "2023-12-23T01:13:26.872029Z",
     "iopub.status.busy": "2023-12-23T01:13:26.871660Z",
     "iopub.status.idle": "2023-12-23T01:13:26.875581Z",
     "shell.execute_reply": "2023-12-23T01:13:26.874949Z"
    },
    "papermill": {
     "duration": 0.008636,
     "end_time": "2023-12-23T01:13:26.876839",
     "exception": false,
     "start_time": "2023-12-23T01:13:26.868203",
     "status": "completed"
    },
    "tags": []
   },
   "outputs": [
    {
     "data": {
      "text/plain": [
       "6750"
      ]
     },
     "execution_count": 9,
     "metadata": {},
     "output_type": "execute_result"
    }
   ],
   "source": [
    "len(completed_orders)"
   ]
  },
  {
   "cell_type": "code",
   "execution_count": 10,
   "id": "ec1b48d8",
   "metadata": {
    "execution": {
     "iopub.execute_input": "2023-12-23T01:13:26.883829Z",
     "iopub.status.busy": "2023-12-23T01:13:26.883271Z",
     "iopub.status.idle": "2023-12-23T01:13:26.897327Z",
     "shell.execute_reply": "2023-12-23T01:13:26.896698Z"
    },
    "papermill": {
     "duration": 0.018898,
     "end_time": "2023-12-23T01:13:26.898704",
     "exception": false,
     "start_time": "2023-12-23T01:13:26.879806",
     "status": "completed"
    },
    "tags": []
   },
   "outputs": [],
   "source": [
    "completed_orders = completed_orders.merge(\n",
    "    events.drop_duplicates().set_index('ticket_tailor_id'),\n",
    "    left_on='event_id',\n",
    "    right_index=True,\n",
    "    how='left'\n",
    ")\n",
    "completed_orders['event_datetime'] = pd.to_datetime(completed_orders.event_date.astype(str) + 'T' + completed_orders.event_time)\n"
   ]
  },
  {
   "cell_type": "code",
   "execution_count": 11,
   "id": "3b561644",
   "metadata": {
    "execution": {
     "iopub.execute_input": "2023-12-23T01:13:26.905736Z",
     "iopub.status.busy": "2023-12-23T01:13:26.905377Z",
     "iopub.status.idle": "2023-12-23T01:13:26.909300Z",
     "shell.execute_reply": "2023-12-23T01:13:26.908686Z"
    },
    "papermill": {
     "duration": 0.008858,
     "end_time": "2023-12-23T01:13:26.910619",
     "exception": false,
     "start_time": "2023-12-23T01:13:26.901761",
     "status": "completed"
    },
    "tags": []
   },
   "outputs": [
    {
     "data": {
      "text/plain": [
       "6758"
      ]
     },
     "execution_count": 11,
     "metadata": {},
     "output_type": "execute_result"
    }
   ],
   "source": [
    "len(completed_orders)"
   ]
  },
  {
   "cell_type": "code",
   "execution_count": 12,
   "id": "20ff70fa",
   "metadata": {
    "execution": {
     "iopub.execute_input": "2023-12-23T01:13:26.917826Z",
     "iopub.status.busy": "2023-12-23T01:13:26.917416Z",
     "iopub.status.idle": "2023-12-23T01:13:26.920676Z",
     "shell.execute_reply": "2023-12-23T01:13:26.920141Z"
    },
    "papermill": {
     "duration": 0.00821,
     "end_time": "2023-12-23T01:13:26.921928",
     "exception": false,
     "start_time": "2023-12-23T01:13:26.913718",
     "status": "completed"
    },
    "tags": []
   },
   "outputs": [],
   "source": [
    "OUTPUT_DIR = TOP_DIR.joinpath('data/metrics/events/tickets/')\n",
    "OUTPUT_DIR.mkdir(parents=True, exist_ok=True)"
   ]
  },
  {
   "cell_type": "code",
   "execution_count": 13,
   "id": "ed7b0de3",
   "metadata": {
    "execution": {
     "iopub.execute_input": "2023-12-23T01:13:26.929280Z",
     "iopub.status.busy": "2023-12-23T01:13:26.928914Z",
     "iopub.status.idle": "2023-12-23T01:13:26.963776Z",
     "shell.execute_reply": "2023-12-23T01:13:26.963228Z"
    },
    "papermill": {
     "duration": 0.039841,
     "end_time": "2023-12-23T01:13:26.965080",
     "exception": false,
     "start_time": "2023-12-23T01:13:26.925239",
     "status": "completed"
    },
    "tags": []
   },
   "outputs": [],
   "source": [
    "completed_orders.loc[:, [\n",
    "    'created_at',\n",
    "    'event_id',\n",
    "    'event_date',\n",
    "    'event_datetime',\n",
    "    'number_of_tickets',\n",
    "    'ward_code',\n",
    "    'project_name',\n",
    "    'public_event',\n",
    "]].sort_values(['created_at', 'event_id']).to_csv(\n",
    "  OUTPUT_DIR.joinpath('orders.csv'),\n",
    "  index=False\n",
    ")"
   ]
  },
  {
   "cell_type": "code",
   "execution_count": 14,
   "id": "33d55310",
   "metadata": {
    "execution": {
     "iopub.execute_input": "2023-12-23T01:13:26.972209Z",
     "iopub.status.busy": "2023-12-23T01:13:26.971980Z",
     "iopub.status.idle": "2023-12-23T01:13:26.980473Z",
     "shell.execute_reply": "2023-12-23T01:13:26.979949Z"
    },
    "papermill": {
     "duration": 0.013544,
     "end_time": "2023-12-23T01:13:26.981778",
     "exception": false,
     "start_time": "2023-12-23T01:13:26.968234",
     "status": "completed"
    },
    "tags": []
   },
   "outputs": [],
   "source": [
    "(\n",
    "    completed_orders.loc[:, ['event_date', 'event_time', 'event_name', 'event_id', 'project_name', 'public_event']]\n",
    "      .drop_duplicates()\n",
    "      .sort_values(['event_date', 'event_time'])\n",
    "      .to_csv('../../../../data/metrics/events/tickets/events.csv', index=False)\n",
    ")"
   ]
  },
  {
   "cell_type": "code",
   "execution_count": 15,
   "id": "8c1cca43",
   "metadata": {
    "execution": {
     "iopub.execute_input": "2023-12-23T01:13:26.988988Z",
     "iopub.status.busy": "2023-12-23T01:13:26.988630Z",
     "iopub.status.idle": "2023-12-23T01:13:27.775403Z",
     "shell.execute_reply": "2023-12-23T01:13:27.774677Z"
    },
    "papermill": {
     "duration": 0.7918,
     "end_time": "2023-12-23T01:13:27.776724",
     "exception": false,
     "start_time": "2023-12-23T01:13:26.984924",
     "status": "completed"
    },
    "tags": []
   },
   "outputs": [
    {
     "data": {
      "image/png": "[encoded data removed]",
      "text/plain": [
       "<Figure size 640x480 with 1 Axes>"
      ]
     },
     "metadata": {},
     "output_type": "display_data"
    }
   ],
   "source": [
    "chart = completed_orders.groupby(['project_name']).number_of_tickets.sum().sort_values().plot.barh()"
   ]
  },
  {
   "cell_type": "code",
   "execution_count": 16,
   "id": "a3f699e9",
   "metadata": {
    "execution": {
     "iopub.execute_input": "2023-12-23T01:13:27.787202Z",
     "iopub.status.busy": "2023-12-23T01:13:27.786722Z",
     "iopub.status.idle": "2023-12-23T01:13:27.929196Z",
     "shell.execute_reply": "2023-12-23T01:13:27.928628Z"
    },
    "papermill": {
     "duration": 0.149625,
     "end_time": "2023-12-23T01:13:27.930484",
     "exception": false,
     "start_time": "2023-12-23T01:13:27.780859",
     "status": "completed"
    },
    "tags": []
   },
   "outputs": [
    {
     "data": {
      "image/png": "[encoded data removed]",
      "text/plain": [
       "<Figure size 640x480 with 1 Axes>"
      ]
     },
     "metadata": {},
     "output_type": "display_data"
    }
   ],
   "source": [
    "chart = completed_orders.groupby([\n",
    "    'event_date'\n",
    "    ]).number_of_tickets.sum().resample('M').sum().cumsum().plot.bar()"
   ]
  },
  {
   "cell_type": "code",
   "execution_count": null,
   "id": "01cbbe61",
   "metadata": {
    "papermill": {
     "duration": 0.003958,
     "end_time": "2023-12-23T01:13:27.938551",
     "exception": false,
     "start_time": "2023-12-23T01:13:27.934593",
     "status": "completed"
    },
    "tags": []
   },
   "outputs": [],
   "source": []
  }
 ],
 "metadata": {
  "kernelspec": {
   "display_name": "leeds-2023-YZF5GfJv",
   "language": "python",
   "name": "python3"
  },
  "language_info": {
   "codemirror_mode": {
    "name": "ipython",
    "version": 3
   },
   "file_extension": ".py",
   "mimetype": "text/x-python",
   "name": "python",
   "nbconvert_exporter": "python",
   "pygments_lexer": "ipython3",
   "version": "3.10.13"
  },
  "papermill": {
   "default_parameters": {},
   "duration": 11.312204,
   "end_time": "2023-12-23T01:13:28.258796",
   "environment_variables": {},
   "exception": null,
   "input_path": "tickets.ipynb",
   "output_path": "../../../../working/output/tickets-transform.ipynb",
   "parameters": {},
   "start_time": "2023-12-23T01:13:16.946592",
   "version": "2.4.0"
  }
 },
 "nbformat": 4,
 "nbformat_minor": 5
}