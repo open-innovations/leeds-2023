{
 "cells": [
  {
   "cell_type": "code",
   "execution_count": 1,
   "id": "d7e0081f",
   "metadata": {
    "execution": {
     "iopub.execute_input": "2023-12-21T23:38:51.770837Z",
     "iopub.status.busy": "2023-12-21T23:38:51.770652Z",
     "iopub.status.idle": "2023-12-21T23:38:52.016300Z",
     "shell.execute_reply": "2023-12-21T23:38:52.015669Z"
    },
    "papermill": {
     "duration": 0.251613,
     "end_time": "2023-12-21T23:38:52.018158",
     "exception": false,
     "start_time": "2023-12-21T23:38:51.766545",
     "status": "completed"
    },
    "tags": []
   },
   "outputs": [],
   "source": [
    "import sys\n",
    "from pathlib import Path\n",
    "\n",
    "import pandas as pd\n",
    "\n",
    "TOP_DIR = Path('../../../..').resolve()\n",
    "\n",
    "if str(TOP_DIR) not in sys.path: sys.path.append(str(TOP_DIR))"
   ]
  },
  {
   "cell_type": "code",
   "execution_count": 2,
   "id": "37d4e9de",
   "metadata": {
    "execution": {
     "iopub.execute_input": "2023-12-21T23:38:52.025019Z",
     "iopub.status.busy": "2023-12-21T23:38:52.024424Z",
     "iopub.status.idle": "2023-12-21T23:38:59.411853Z",
     "shell.execute_reply": "2023-12-21T23:38:59.411114Z"
    },
    "papermill": {
     "duration": 7.392836,
     "end_time": "2023-12-21T23:38:59.413972",
     "exception": false,
     "start_time": "2023-12-21T23:38:52.021136",
     "status": "completed"
    },
    "tags": []
   },
   "outputs": [],
   "source": [
    "from lib.util.geo import postcode_formatter, postcode_to_ward_code"
   ]
  },
  {
   "cell_type": "code",
   "execution_count": 3,
   "id": "ea93e1f2",
   "metadata": {
    "execution": {
     "iopub.execute_input": "2023-12-21T23:38:59.420528Z",
     "iopub.status.busy": "2023-12-21T23:38:59.420149Z",
     "iopub.status.idle": "2023-12-21T23:38:59.442268Z",
     "shell.execute_reply": "2023-12-21T23:38:59.441770Z"
    },
    "papermill": {
     "duration": 0.026694,
     "end_time": "2023-12-21T23:38:59.443604",
     "exception": false,
     "start_time": "2023-12-21T23:38:59.416910",
     "status": "completed"
    },
    "tags": []
   },
   "outputs": [],
   "source": [
    "ticket_data = pd.read_csv(\n",
    "    '../../../../working/metrics/ticketing/orders.csv',\n",
    "    parse_dates=['created_at', 'event_date'],\n",
    "    usecols=[\n",
    "        'created_at',\n",
    "        'event_id',\n",
    "        'event_name',\n",
    "        'event_date',\n",
    "        'event_time',\n",
    "        'number_of_tickets',\n",
    "        'postcode_from_question',\n",
    "        'postcode_from_address',\n",
    "        'status',\n",
    "    ]\n",
    ")"
   ]
  },
  {
   "cell_type": "code",
   "execution_count": 4,
   "id": "f1667695",
   "metadata": {
    "execution": {
     "iopub.execute_input": "2023-12-21T23:38:59.449531Z",
     "iopub.status.busy": "2023-12-21T23:38:59.449071Z",
     "iopub.status.idle": "2023-12-21T23:38:59.457171Z",
     "shell.execute_reply": "2023-12-21T23:38:59.456562Z"
    },
    "papermill": {
     "duration": 0.012453,
     "end_time": "2023-12-21T23:38:59.458483",
     "exception": false,
     "start_time": "2023-12-21T23:38:59.446030",
     "status": "completed"
    },
    "tags": []
   },
   "outputs": [
    {
     "name": "stdout",
     "output_type": "stream",
     "text": [
      "<class 'pandas.core.frame.DataFrame'>\n",
      "RangeIndex: 6870 entries, 0 to 6869\n",
      "Data columns (total 9 columns):\n",
      " #   Column                  Non-Null Count  Dtype         \n",
      "---  ------                  --------------  -----         \n",
      " 0   postcode_from_question  6471 non-null   object        \n",
      " 1   postcode_from_address   858 non-null    object        \n",
      " 2   created_at              6870 non-null   datetime64[ns]\n",
      " 3   event_id                6870 non-null   object        \n",
      " 4   event_name              6870 non-null   object        \n",
      " 5   event_date              6870 non-null   datetime64[ns]\n",
      " 6   event_time              6870 non-null   object        \n",
      " 7   number_of_tickets       6870 non-null   int64         \n",
      " 8   status                  6870 non-null   object        \n",
      "dtypes: datetime64[ns](2), int64(1), object(6)\n",
      "memory usage: 483.2+ KB\n"
     ]
    }
   ],
   "source": [
    "ticket_data.info()"
   ]
  },
  {
   "cell_type": "code",
   "execution_count": 5,
   "id": "da2f2828",
   "metadata": {
    "execution": {
     "iopub.execute_input": "2023-12-21T23:38:59.464664Z",
     "iopub.status.busy": "2023-12-21T23:38:59.464222Z",
     "iopub.status.idle": "2023-12-21T23:38:59.469235Z",
     "shell.execute_reply": "2023-12-21T23:38:59.468621Z"
    },
    "papermill": {
     "duration": 0.009513,
     "end_time": "2023-12-21T23:38:59.470591",
     "exception": false,
     "start_time": "2023-12-21T23:38:59.461078",
     "status": "completed"
    },
    "tags": []
   },
   "outputs": [],
   "source": [
    "completed_orders = (\n",
    "    ticket_data.loc[\n",
    "        ~ticket_data.status.isin(['cancelled']),\n",
    "        ticket_data.columns\n",
    "    ]\n",
    ")"
   ]
  },
  {
   "cell_type": "code",
   "execution_count": 6,
   "id": "2e3ce844",
   "metadata": {
    "execution": {
     "iopub.execute_input": "2023-12-21T23:38:59.476640Z",
     "iopub.status.busy": "2023-12-21T23:38:59.476313Z",
     "iopub.status.idle": "2023-12-21T23:39:00.471641Z",
     "shell.execute_reply": "2023-12-21T23:39:00.470994Z"
    },
    "papermill": {
     "duration": 1.000168,
     "end_time": "2023-12-21T23:39:00.473338",
     "exception": false,
     "start_time": "2023-12-21T23:38:59.473170",
     "status": "completed"
    },
    "tags": []
   },
   "outputs": [],
   "source": [
    "completed_orders['ward_code'] = (\n",
    "    completed_orders\n",
    "        .loc[:, ['postcode_from_question', 'postcode_from_address']]\n",
    "        .bfill()\n",
    "        .iloc[:, 0]\n",
    "        .pipe(postcode_formatter)\n",
    "        .map(postcode_to_ward_code)\n",
    ")"
   ]
  },
  {
   "cell_type": "markdown",
   "id": "9f60c1cc",
   "metadata": {
    "papermill": {
     "duration": 0.003557,
     "end_time": "2023-12-21T23:39:00.480598",
     "exception": false,
     "start_time": "2023-12-21T23:39:00.477041",
     "status": "completed"
    },
    "tags": []
   },
   "source": [
    "Get the events data"
   ]
  },
  {
   "cell_type": "code",
   "execution_count": 7,
   "id": "46d65753",
   "metadata": {
    "execution": {
     "iopub.execute_input": "2023-12-21T23:39:00.487192Z",
     "iopub.status.busy": "2023-12-21T23:39:00.486734Z",
     "iopub.status.idle": "2023-12-21T23:39:00.505608Z",
     "shell.execute_reply": "2023-12-21T23:39:00.505053Z"
    },
    "papermill": {
     "duration": 0.023892,
     "end_time": "2023-12-21T23:39:00.507012",
     "exception": false,
     "start_time": "2023-12-21T23:39:00.483120",
     "status": "completed"
    },
    "tags": []
   },
   "outputs": [],
   "source": [
    "def prepare_events(data: pd.DataFrame):\n",
    "    data = data.rename(columns={\n",
    "        'Project name': 'project_name',\n",
    "        'Event type': 'event_type',\n",
    "        'Ticket Tailor ID': 'ticket_tailor_id'\n",
    "    })\n",
    "    data['public_event'] = data.event_type.str.contains('Public Event')\n",
    "    data['ticket_tailor_id'] = data.ticket_tailor_id.str.split(\n",
    "        pat=r'[\\s,]+', regex=True)\n",
    "    data = data.drop(columns=['event_type'])\n",
    "    data = data.explode('ticket_tailor_id')\n",
    "    data = data.loc[data.ticket_tailor_id.notna() & (data.ticket_tailor_id != '')]\n",
    "    return data\n",
    "\n",
    "\n",
    "events = pd.read_csv(\n",
    "    '../../../../working/metrics/events/all.csv',\n",
    "    usecols=[\n",
    "        'Project name',\n",
    "        'Event type',\n",
    "        'Ticket Tailor ID'\n",
    "    ]\n",
    ").pipe(prepare_events)"
   ]
  },
  {
   "cell_type": "markdown",
   "id": "7a039d21",
   "metadata": {
    "papermill": {
     "duration": 0.002587,
     "end_time": "2023-12-21T23:39:00.512447",
     "exception": false,
     "start_time": "2023-12-21T23:39:00.509860",
     "status": "completed"
    },
    "tags": []
   },
   "source": [
    "Duplicated ticket tailor IDs"
   ]
  },
  {
   "cell_type": "code",
   "execution_count": 8,
   "id": "68081fd9",
   "metadata": {
    "execution": {
     "iopub.execute_input": "2023-12-21T23:39:00.518741Z",
     "iopub.status.busy": "2023-12-21T23:39:00.518319Z",
     "iopub.status.idle": "2023-12-21T23:39:00.529810Z",
     "shell.execute_reply": "2023-12-21T23:39:00.529203Z"
    },
    "papermill": {
     "duration": 0.016108,
     "end_time": "2023-12-21T23:39:00.531106",
     "exception": false,
     "start_time": "2023-12-21T23:39:00.514998",
     "status": "completed"
    },
    "tags": []
   },
   "outputs": [
    {
     "data": {
      "text/html": [
       "<div>\n",
       "<style scoped>\n",
       "    .dataframe tbody tr th:only-of-type {\n",
       "        vertical-align: middle;\n",
       "    }\n",
       "\n",
       "    .dataframe tbody tr th {\n",
       "        vertical-align: top;\n",
       "    }\n",
       "\n",
       "    .dataframe thead th {\n",
       "        text-align: right;\n",
       "    }\n",
       "</style>\n",
       "<table border=\"1\" class=\"dataframe\">\n",
       "  <thead>\n",
       "    <tr style=\"text-align: right;\">\n",
       "      <th></th>\n",
       "      <th>project_name</th>\n",
       "      <th>ticket_tailor_id</th>\n",
       "      <th>public_event</th>\n",
       "    </tr>\n",
       "  </thead>\n",
       "  <tbody>\n",
       "    <tr>\n",
       "      <th>127</th>\n",
       "      <td>11 - All That Lives</td>\n",
       "      <td>985872</td>\n",
       "      <td>True</td>\n",
       "    </tr>\n",
       "    <tr>\n",
       "      <th>147</th>\n",
       "      <td>09 - Smeaton300: Moon Palace East Leeds Observ...</td>\n",
       "      <td>ev_2918127</td>\n",
       "      <td>True</td>\n",
       "    </tr>\n",
       "    <tr>\n",
       "      <th>173</th>\n",
       "      <td>11 - All That Lives</td>\n",
       "      <td>985872</td>\n",
       "      <td>True</td>\n",
       "    </tr>\n",
       "    <tr>\n",
       "      <th>272</th>\n",
       "      <td>Creative Learning S3</td>\n",
       "      <td>ev_3073624</td>\n",
       "      <td>False</td>\n",
       "    </tr>\n",
       "    <tr>\n",
       "      <th>333</th>\n",
       "      <td>11 - All That Lives</td>\n",
       "      <td>985872</td>\n",
       "      <td>True</td>\n",
       "    </tr>\n",
       "    <tr>\n",
       "      <th>652</th>\n",
       "      <td>11 - All That Lives</td>\n",
       "      <td>985872</td>\n",
       "      <td>True</td>\n",
       "    </tr>\n",
       "    <tr>\n",
       "      <th>950</th>\n",
       "      <td>07 - Children's Day</td>\n",
       "      <td>ev_2963290</td>\n",
       "      <td>NaN</td>\n",
       "    </tr>\n",
       "    <tr>\n",
       "      <th>950</th>\n",
       "      <td>07 - Children's Day</td>\n",
       "      <td>ev_2963290</td>\n",
       "      <td>NaN</td>\n",
       "    </tr>\n",
       "    <tr>\n",
       "      <th>950</th>\n",
       "      <td>07 - Children's Day</td>\n",
       "      <td>ev_2963295</td>\n",
       "      <td>NaN</td>\n",
       "    </tr>\n",
       "    <tr>\n",
       "      <th>950</th>\n",
       "      <td>07 - Children's Day</td>\n",
       "      <td>ev_2963297</td>\n",
       "      <td>NaN</td>\n",
       "    </tr>\n",
       "    <tr>\n",
       "      <th>950</th>\n",
       "      <td>07 - Children's Day</td>\n",
       "      <td>ev_2963295</td>\n",
       "      <td>NaN</td>\n",
       "    </tr>\n",
       "    <tr>\n",
       "      <th>950</th>\n",
       "      <td>07 - Children's Day</td>\n",
       "      <td>ev_2963296</td>\n",
       "      <td>NaN</td>\n",
       "    </tr>\n",
       "    <tr>\n",
       "      <th>950</th>\n",
       "      <td>07 - Children's Day</td>\n",
       "      <td>ev_2963296</td>\n",
       "      <td>NaN</td>\n",
       "    </tr>\n",
       "    <tr>\n",
       "      <th>950</th>\n",
       "      <td>07 - Children's Day</td>\n",
       "      <td>ev_2963297</td>\n",
       "      <td>NaN</td>\n",
       "    </tr>\n",
       "    <tr>\n",
       "      <th>994</th>\n",
       "      <td>11 - All That Lives</td>\n",
       "      <td>985872</td>\n",
       "      <td>True</td>\n",
       "    </tr>\n",
       "    <tr>\n",
       "      <th>1174</th>\n",
       "      <td>09 - Smeaton300: Moon Palace East Leeds Observ...</td>\n",
       "      <td>ev_2918127</td>\n",
       "      <td>True</td>\n",
       "    </tr>\n",
       "    <tr>\n",
       "      <th>1464</th>\n",
       "      <td>07 - Children's Day</td>\n",
       "      <td>ev_2963290</td>\n",
       "      <td>True</td>\n",
       "    </tr>\n",
       "    <tr>\n",
       "      <th>1464</th>\n",
       "      <td>07 - Children's Day</td>\n",
       "      <td>ev_2963295</td>\n",
       "      <td>True</td>\n",
       "    </tr>\n",
       "    <tr>\n",
       "      <th>1464</th>\n",
       "      <td>07 - Children's Day</td>\n",
       "      <td>ev_2963296</td>\n",
       "      <td>True</td>\n",
       "    </tr>\n",
       "    <tr>\n",
       "      <th>1464</th>\n",
       "      <td>07 - Children's Day</td>\n",
       "      <td>ev_2963297</td>\n",
       "      <td>True</td>\n",
       "    </tr>\n",
       "    <tr>\n",
       "      <th>1484</th>\n",
       "      <td>09 - Smeaton300: Moon Palace East Leeds Observ...</td>\n",
       "      <td>ev_2918127</td>\n",
       "      <td>True</td>\n",
       "    </tr>\n",
       "    <tr>\n",
       "      <th>1569</th>\n",
       "      <td>Creative Learning S3</td>\n",
       "      <td>ev_3073624</td>\n",
       "      <td>False</td>\n",
       "    </tr>\n",
       "  </tbody>\n",
       "</table>\n",
       "</div>"
      ],
      "text/plain": [
       "                                           project_name ticket_tailor_id  \\\n",
       "127                                 11 - All That Lives           985872   \n",
       "147   09 - Smeaton300: Moon Palace East Leeds Observ...       ev_2918127   \n",
       "173                                 11 - All That Lives           985872   \n",
       "272                                Creative Learning S3       ev_3073624   \n",
       "333                                 11 - All That Lives           985872   \n",
       "652                                 11 - All That Lives           985872   \n",
       "950                                 07 - Children's Day       ev_2963290   \n",
       "950                                 07 - Children's Day       ev_2963290   \n",
       "950                                 07 - Children's Day       ev_2963295   \n",
       "950                                 07 - Children's Day       ev_2963297   \n",
       "950                                 07 - Children's Day       ev_2963295   \n",
       "950                                 07 - Children's Day       ev_2963296   \n",
       "950                                 07 - Children's Day       ev_2963296   \n",
       "950                                 07 - Children's Day       ev_2963297   \n",
       "994                                 11 - All That Lives           985872   \n",
       "1174  09 - Smeaton300: Moon Palace East Leeds Observ...       ev_2918127   \n",
       "1464                                07 - Children's Day       ev_2963290   \n",
       "1464                                07 - Children's Day       ev_2963295   \n",
       "1464                                07 - Children's Day       ev_2963296   \n",
       "1464                                07 - Children's Day       ev_2963297   \n",
       "1484  09 - Smeaton300: Moon Palace East Leeds Observ...       ev_2918127   \n",
       "1569                               Creative Learning S3       ev_3073624   \n",
       "\n",
       "     public_event  \n",
       "127          True  \n",
       "147          True  \n",
       "173          True  \n",
       "272         False  \n",
       "333          True  \n",
       "652          True  \n",
       "950           NaN  \n",
       "950           NaN  \n",
       "950           NaN  \n",
       "950           NaN  \n",
       "950           NaN  \n",
       "950           NaN  \n",
       "950           NaN  \n",
       "950           NaN  \n",
       "994          True  \n",
       "1174         True  \n",
       "1464         True  \n",
       "1464         True  \n",
       "1464         True  \n",
       "1464         True  \n",
       "1484         True  \n",
       "1569        False  "
      ]
     },
     "execution_count": 8,
     "metadata": {},
     "output_type": "execute_result"
    }
   ],
   "source": [
    "events[\n",
    "  events.ticket_tailor_id.isin(\n",
    "    events.ticket_tailor_id[\n",
    "      events.ticket_tailor_id.duplicated()\n",
    "    ].to_list()\n",
    "  )\n",
    "]"
   ]
  },
  {
   "cell_type": "code",
   "execution_count": 9,
   "id": "169a3126",
   "metadata": {
    "execution": {
     "iopub.execute_input": "2023-12-21T23:39:00.537801Z",
     "iopub.status.busy": "2023-12-21T23:39:00.537607Z",
     "iopub.status.idle": "2023-12-21T23:39:00.541688Z",
     "shell.execute_reply": "2023-12-21T23:39:00.541118Z"
    },
    "papermill": {
     "duration": 0.008809,
     "end_time": "2023-12-21T23:39:00.542942",
     "exception": false,
     "start_time": "2023-12-21T23:39:00.534133",
     "status": "completed"
    },
    "tags": []
   },
   "outputs": [
    {
     "data": {
      "text/plain": [
       "6690"
      ]
     },
     "execution_count": 9,
     "metadata": {},
     "output_type": "execute_result"
    }
   ],
   "source": [
    "len(completed_orders)"
   ]
  },
  {
   "cell_type": "code",
   "execution_count": 10,
   "id": "e9bb322c",
   "metadata": {
    "execution": {
     "iopub.execute_input": "2023-12-21T23:39:00.549924Z",
     "iopub.status.busy": "2023-12-21T23:39:00.549557Z",
     "iopub.status.idle": "2023-12-21T23:39:00.556745Z",
     "shell.execute_reply": "2023-12-21T23:39:00.556237Z"
    },
    "papermill": {
     "duration": 0.012054,
     "end_time": "2023-12-21T23:39:00.557968",
     "exception": false,
     "start_time": "2023-12-21T23:39:00.545914",
     "status": "completed"
    },
    "tags": []
   },
   "outputs": [],
   "source": [
    "completed_orders = completed_orders.merge(\n",
    "    events.drop_duplicates().set_index('ticket_tailor_id'),\n",
    "    left_on='event_id',\n",
    "    right_index=True,\n",
    "    how='left'\n",
    ")"
   ]
  },
  {
   "cell_type": "code",
   "execution_count": 11,
   "id": "19ae34b0",
   "metadata": {
    "execution": {
     "iopub.execute_input": "2023-12-21T23:39:00.565074Z",
     "iopub.status.busy": "2023-12-21T23:39:00.564706Z",
     "iopub.status.idle": "2023-12-21T23:39:00.568797Z",
     "shell.execute_reply": "2023-12-21T23:39:00.568143Z"
    },
    "papermill": {
     "duration": 0.008976,
     "end_time": "2023-12-21T23:39:00.570028",
     "exception": false,
     "start_time": "2023-12-21T23:39:00.561052",
     "status": "completed"
    },
    "tags": []
   },
   "outputs": [
    {
     "data": {
      "text/plain": [
       "6698"
      ]
     },
     "execution_count": 11,
     "metadata": {},
     "output_type": "execute_result"
    }
   ],
   "source": [
    "len(completed_orders)"
   ]
  },
  {
   "cell_type": "code",
   "execution_count": 12,
   "id": "15afa9a9",
   "metadata": {
    "execution": {
     "iopub.execute_input": "2023-12-21T23:39:00.577401Z",
     "iopub.status.busy": "2023-12-21T23:39:00.576881Z",
     "iopub.status.idle": "2023-12-21T23:39:00.580017Z",
     "shell.execute_reply": "2023-12-21T23:39:00.579491Z"
    },
    "papermill": {
     "duration": 0.008095,
     "end_time": "2023-12-21T23:39:00.581238",
     "exception": false,
     "start_time": "2023-12-21T23:39:00.573143",
     "status": "completed"
    },
    "tags": []
   },
   "outputs": [],
   "source": [
    "OUTPUT_DIR = TOP_DIR.joinpath('data/metrics/events/tickets/')\n",
    "OUTPUT_DIR.mkdir(parents=True, exist_ok=True)"
   ]
  },
  {
   "cell_type": "code",
   "execution_count": 13,
   "id": "6c639ad1",
   "metadata": {
    "execution": {
     "iopub.execute_input": "2023-12-21T23:39:00.588691Z",
     "iopub.status.busy": "2023-12-21T23:39:00.588356Z",
     "iopub.status.idle": "2023-12-21T23:39:00.615493Z",
     "shell.execute_reply": "2023-12-21T23:39:00.614893Z"
    },
    "papermill": {
     "duration": 0.032334,
     "end_time": "2023-12-21T23:39:00.616911",
     "exception": false,
     "start_time": "2023-12-21T23:39:00.584577",
     "status": "completed"
    },
    "tags": []
   },
   "outputs": [],
   "source": [
    "completed_orders.loc[:, [\n",
    "    'created_at',\n",
    "    'event_id',\n",
    "    'event_date',\n",
    "    'number_of_tickets',\n",
    "    'ward_code',\n",
    "    'project_name',\n",
    "    'public_event',\n",
    "]].sort_values(['created_at', 'event_id']).to_csv(\n",
    "  OUTPUT_DIR.joinpath('orders.csv'),\n",
    "  index=False\n",
    ")"
   ]
  },
  {
   "cell_type": "code",
   "execution_count": 14,
   "id": "9e4ee72b",
   "metadata": {
    "execution": {
     "iopub.execute_input": "2023-12-21T23:39:00.624112Z",
     "iopub.status.busy": "2023-12-21T23:39:00.623715Z",
     "iopub.status.idle": "2023-12-21T23:39:00.632496Z",
     "shell.execute_reply": "2023-12-21T23:39:00.631950Z"
    },
    "papermill": {
     "duration": 0.013891,
     "end_time": "2023-12-21T23:39:00.633864",
     "exception": false,
     "start_time": "2023-12-21T23:39:00.619973",
     "status": "completed"
    },
    "tags": []
   },
   "outputs": [],
   "source": [
    "(\n",
    "    completed_orders.loc[:, ['event_date', 'event_time', 'event_name', 'event_id', 'project_name', 'public_event']]\n",
    "      .drop_duplicates()\n",
    "      .sort_values(['event_date', 'event_time'])\n",
    "      .to_csv('../../../../data/metrics/events/tickets/events.csv', index=False)\n",
    ")"
   ]
  },
  {
   "cell_type": "code",
   "execution_count": 15,
   "id": "9df0a31c",
   "metadata": {
    "execution": {
     "iopub.execute_input": "2023-12-21T23:39:00.641047Z",
     "iopub.status.busy": "2023-12-21T23:39:00.640732Z",
     "iopub.status.idle": "2023-12-21T23:39:01.370867Z",
     "shell.execute_reply": "2023-12-21T23:39:01.370133Z"
    },
    "papermill": {
     "duration": 0.735318,
     "end_time": "2023-12-21T23:39:01.372328",
     "exception": false,
     "start_time": "2023-12-21T23:39:00.637010",
     "status": "completed"
    },
    "tags": []
   },
   "outputs": [
    {
     "data": {
      "image/png": "[encoded data removed]",
      "text/plain": [
       "<Figure size 640x480 with 1 Axes>"
      ]
     },
     "metadata": {},
     "output_type": "display_data"
    }
   ],
   "source": [
    "chart = completed_orders.groupby(['project_name']).number_of_tickets.sum().sort_values().plot.barh()"
   ]
  },
  {
   "cell_type": "code",
   "execution_count": 16,
   "id": "a126a61a",
   "metadata": {
    "execution": {
     "iopub.execute_input": "2023-12-21T23:39:01.381305Z",
     "iopub.status.busy": "2023-12-21T23:39:01.380802Z",
     "iopub.status.idle": "2023-12-21T23:39:01.554083Z",
     "shell.execute_reply": "2023-12-21T23:39:01.553387Z"
    },
    "papermill": {
     "duration": 0.179144,
     "end_time": "2023-12-21T23:39:01.555467",
     "exception": false,
     "start_time": "2023-12-21T23:39:01.376323",
     "status": "completed"
    },
    "tags": []
   },
   "outputs": [
    {
     "data": {
      "image/png": "[encoded data removed]",
      "text/plain": [
       "<Figure size 640x480 with 1 Axes>"
      ]
     },
     "metadata": {},
     "output_type": "display_data"
    }
   ],
   "source": [
    "chart = completed_orders.groupby([\n",
    "    'event_date'\n",
    "    ]).number_of_tickets.sum().resample('M').sum().cumsum().plot.bar()"
   ]
  },
  {
   "cell_type": "code",
   "execution_count": null,
   "id": "e875227c",
   "metadata": {
    "papermill": {
     "duration": 0.004029,
     "end_time": "2023-12-21T23:39:01.563783",
     "exception": false,
     "start_time": "2023-12-21T23:39:01.559754",
     "status": "completed"
    },
    "tags": []
   },
   "outputs": [],
   "source": []
  }
 ],
 "metadata": {
  "kernelspec": {
   "display_name": "leeds-2023-YZF5GfJv",
   "language": "python",
   "name": "python3"
  },
  "language_info": {
   "codemirror_mode": {
    "name": "ipython",
    "version": 3
   },
   "file_extension": ".py",
   "mimetype": "text/x-python",
   "name": "python",
   "nbconvert_exporter": "python",
   "pygments_lexer": "ipython3",
   "version": "3.10.13"
  },
  "papermill": {
   "default_parameters": {},
   "duration": 11.554622,
   "end_time": "2023-12-21T23:39:01.884431",
   "environment_variables": {},
   "exception": null,
   "input_path": "tickets.ipynb",
   "output_path": "../../../../working/output/tickets-transform.ipynb",
   "parameters": {},
   "start_time": "2023-12-21T23:38:50.329809",
   "version": "2.4.0"
  }
 },
 "nbformat": 4,
 "nbformat_minor": 5
}