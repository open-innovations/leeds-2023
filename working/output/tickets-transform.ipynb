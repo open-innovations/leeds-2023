{
 "cells": [
  {
   "cell_type": "code",
   "execution_count": 1,
   "id": "0a569f2f",
   "metadata": {
    "execution": {
     "iopub.execute_input": "2023-12-25T23:39:05.121897Z",
     "iopub.status.busy": "2023-12-25T23:39:05.121659Z",
     "iopub.status.idle": "2023-12-25T23:39:05.361077Z",
     "shell.execute_reply": "2023-12-25T23:39:05.360400Z"
    },
    "papermill": {
     "duration": 0.245005,
     "end_time": "2023-12-25T23:39:05.362786",
     "exception": false,
     "start_time": "2023-12-25T23:39:05.117781",
     "status": "completed"
    },
    "tags": []
   },
   "outputs": [],
   "source": [
    "import sys\n",
    "from pathlib import Path\n",
    "\n",
    "import pandas as pd\n",
    "\n",
    "TOP_DIR = Path('../../../..').resolve()\n",
    "\n",
    "if str(TOP_DIR) not in sys.path: sys.path.append(str(TOP_DIR))"
   ]
  },
  {
   "cell_type": "code",
   "execution_count": 2,
   "id": "6b539191",
   "metadata": {
    "execution": {
     "iopub.execute_input": "2023-12-25T23:39:05.369203Z",
     "iopub.status.busy": "2023-12-25T23:39:05.368614Z",
     "iopub.status.idle": "2023-12-25T23:39:12.201725Z",
     "shell.execute_reply": "2023-12-25T23:39:12.201067Z"
    },
    "papermill": {
     "duration": 6.837881,
     "end_time": "2023-12-25T23:39:12.203363",
     "exception": false,
     "start_time": "2023-12-25T23:39:05.365482",
     "status": "completed"
    },
    "tags": []
   },
   "outputs": [],
   "source": [
    "from lib.util.geo import postcode_formatter, postcode_to_ward_code"
   ]
  },
  {
   "cell_type": "code",
   "execution_count": 3,
   "id": "75324625",
   "metadata": {
    "execution": {
     "iopub.execute_input": "2023-12-25T23:39:12.209848Z",
     "iopub.status.busy": "2023-12-25T23:39:12.209474Z",
     "iopub.status.idle": "2023-12-25T23:39:12.231641Z",
     "shell.execute_reply": "2023-12-25T23:39:12.231021Z"
    },
    "papermill": {
     "duration": 0.026876,
     "end_time": "2023-12-25T23:39:12.232962",
     "exception": false,
     "start_time": "2023-12-25T23:39:12.206086",
     "status": "completed"
    },
    "tags": []
   },
   "outputs": [],
   "source": [
    "ticket_data = pd.read_csv(\n",
    "    '../../../../working/metrics/ticketing/orders.csv',\n",
    "    parse_dates=['created_at', 'event_date'],\n",
    "    usecols=[\n",
    "        'created_at',\n",
    "        'event_id',\n",
    "        'event_name',\n",
    "        'event_date',\n",
    "        'event_time',\n",
    "        'number_of_tickets',\n",
    "        'postcode_from_question',\n",
    "        'postcode_from_address',\n",
    "        'status',\n",
    "    ]\n",
    ")"
   ]
  },
  {
   "cell_type": "code",
   "execution_count": 4,
   "id": "7246ed7e",
   "metadata": {
    "execution": {
     "iopub.execute_input": "2023-12-25T23:39:12.239036Z",
     "iopub.status.busy": "2023-12-25T23:39:12.238524Z",
     "iopub.status.idle": "2023-12-25T23:39:12.247710Z",
     "shell.execute_reply": "2023-12-25T23:39:12.247063Z"
    },
    "papermill": {
     "duration": 0.013511,
     "end_time": "2023-12-25T23:39:12.249011",
     "exception": false,
     "start_time": "2023-12-25T23:39:12.235500",
     "status": "completed"
    },
    "tags": []
   },
   "outputs": [
    {
     "name": "stdout",
     "output_type": "stream",
     "text": [
      "<class 'pandas.core.frame.DataFrame'>\n",
      "RangeIndex: 7047 entries, 0 to 7046\n",
      "Data columns (total 9 columns):\n",
      " #   Column                  Non-Null Count  Dtype         \n",
      "---  ------                  --------------  -----         \n",
      " 0   postcode_from_question  6624 non-null   object        \n",
      " 1   postcode_from_address   864 non-null    object        \n",
      " 2   created_at              7047 non-null   datetime64[ns]\n",
      " 3   event_id                7047 non-null   object        \n",
      " 4   event_name              7047 non-null   object        \n",
      " 5   event_date              7047 non-null   datetime64[ns]\n",
      " 6   event_time              7047 non-null   object        \n",
      " 7   number_of_tickets       7047 non-null   int64         \n",
      " 8   status                  7047 non-null   object        \n",
      "dtypes: datetime64[ns](2), int64(1), object(6)\n",
      "memory usage: 495.6+ KB\n"
     ]
    }
   ],
   "source": [
    "ticket_data.info()"
   ]
  },
  {
   "cell_type": "code",
   "execution_count": 5,
   "id": "68961bb3",
   "metadata": {
    "execution": {
     "iopub.execute_input": "2023-12-25T23:39:12.255056Z",
     "iopub.status.busy": "2023-12-25T23:39:12.254711Z",
     "iopub.status.idle": "2023-12-25T23:39:12.259661Z",
     "shell.execute_reply": "2023-12-25T23:39:12.259119Z"
    },
    "papermill": {
     "duration": 0.009389,
     "end_time": "2023-12-25T23:39:12.260960",
     "exception": false,
     "start_time": "2023-12-25T23:39:12.251571",
     "status": "completed"
    },
    "tags": []
   },
   "outputs": [],
   "source": [
    "completed_orders = (\n",
    "    ticket_data.loc[\n",
    "        ~ticket_data.status.isin(['cancelled']),\n",
    "        ticket_data.columns\n",
    "    ]\n",
    ")"
   ]
  },
  {
   "cell_type": "code",
   "execution_count": 6,
   "id": "a32ccbc6",
   "metadata": {
    "execution": {
     "iopub.execute_input": "2023-12-25T23:39:12.267173Z",
     "iopub.status.busy": "2023-12-25T23:39:12.266704Z",
     "iopub.status.idle": "2023-12-25T23:39:13.166576Z",
     "shell.execute_reply": "2023-12-25T23:39:13.165915Z"
    },
    "papermill": {
     "duration": 0.904683,
     "end_time": "2023-12-25T23:39:13.168204",
     "exception": false,
     "start_time": "2023-12-25T23:39:12.263521",
     "status": "completed"
    },
    "tags": []
   },
   "outputs": [],
   "source": [
    "completed_orders['ward_code'] = (\n",
    "    completed_orders\n",
    "        .loc[:, ['postcode_from_question', 'postcode_from_address']]\n",
    "        .bfill()\n",
    "        .iloc[:, 0]\n",
    "        .pipe(postcode_formatter)\n",
    "        .map(postcode_to_ward_code)\n",
    ")"
   ]
  },
  {
   "cell_type": "markdown",
   "id": "0ce0763e",
   "metadata": {
    "papermill": {
     "duration": 0.002618,
     "end_time": "2023-12-25T23:39:13.174450",
     "exception": false,
     "start_time": "2023-12-25T23:39:13.171832",
     "status": "completed"
    },
    "tags": []
   },
   "source": [
    "Get the events data"
   ]
  },
  {
   "cell_type": "code",
   "execution_count": 7,
   "id": "01a7421e",
   "metadata": {
    "execution": {
     "iopub.execute_input": "2023-12-25T23:39:13.180536Z",
     "iopub.status.busy": "2023-12-25T23:39:13.180144Z",
     "iopub.status.idle": "2023-12-25T23:39:13.196820Z",
     "shell.execute_reply": "2023-12-25T23:39:13.196178Z"
    },
    "papermill": {
     "duration": 0.021303,
     "end_time": "2023-12-25T23:39:13.198254",
     "exception": false,
     "start_time": "2023-12-25T23:39:13.176951",
     "status": "completed"
    },
    "tags": []
   },
   "outputs": [],
   "source": [
    "def prepare_events(data: pd.DataFrame):\n",
    "    data = data.rename(columns={\n",
    "        'Project name': 'project_name',\n",
    "        'Event type': 'event_type',\n",
    "        'Ticket Tailor ID': 'ticket_tailor_id'\n",
    "    })\n",
    "    data['public_event'] = data.event_type.str.contains('Public Event')\n",
    "    data['ticket_tailor_id'] = data.ticket_tailor_id.str.split(\n",
    "        pat=r'[\\s,]+', regex=True)\n",
    "    data = data.drop(columns=['event_type'])\n",
    "    data = data.explode('ticket_tailor_id')\n",
    "    data = data.loc[data.ticket_tailor_id.notna() & (data.ticket_tailor_id != '')]\n",
    "    return data\n",
    "\n",
    "\n",
    "events = pd.read_csv(\n",
    "    '../../../../working/metrics/events/all.csv',\n",
    "    usecols=[\n",
    "        'Project name',\n",
    "        'Event type',\n",
    "        'Ticket Tailor ID'\n",
    "    ]\n",
    ").pipe(prepare_events)"
   ]
  },
  {
   "cell_type": "markdown",
   "id": "80aaf8c2",
   "metadata": {
    "papermill": {
     "duration": 0.002495,
     "end_time": "2023-12-25T23:39:13.203360",
     "exception": false,
     "start_time": "2023-12-25T23:39:13.200865",
     "status": "completed"
    },
    "tags": []
   },
   "source": [
    "Duplicated ticket tailor IDs"
   ]
  },
  {
   "cell_type": "code",
   "execution_count": 8,
   "id": "31451d59",
   "metadata": {
    "execution": {
     "iopub.execute_input": "2023-12-25T23:39:13.209475Z",
     "iopub.status.busy": "2023-12-25T23:39:13.209120Z",
     "iopub.status.idle": "2023-12-25T23:39:13.220175Z",
     "shell.execute_reply": "2023-12-25T23:39:13.219558Z"
    },
    "papermill": {
     "duration": 0.015672,
     "end_time": "2023-12-25T23:39:13.221523",
     "exception": false,
     "start_time": "2023-12-25T23:39:13.205851",
     "status": "completed"
    },
    "tags": []
   },
   "outputs": [
    {
     "data": {
      "text/html": [
       "<div>\n",
       "<style scoped>\n",
       "    .dataframe tbody tr th:only-of-type {\n",
       "        vertical-align: middle;\n",
       "    }\n",
       "\n",
       "    .dataframe tbody tr th {\n",
       "        vertical-align: top;\n",
       "    }\n",
       "\n",
       "    .dataframe thead th {\n",
       "        text-align: right;\n",
       "    }\n",
       "</style>\n",
       "<table border=\"1\" class=\"dataframe\">\n",
       "  <thead>\n",
       "    <tr style=\"text-align: right;\">\n",
       "      <th></th>\n",
       "      <th>project_name</th>\n",
       "      <th>ticket_tailor_id</th>\n",
       "      <th>public_event</th>\n",
       "    </tr>\n",
       "  </thead>\n",
       "  <tbody>\n",
       "    <tr>\n",
       "      <th>127</th>\n",
       "      <td>11 - All That Lives</td>\n",
       "      <td>985872</td>\n",
       "      <td>True</td>\n",
       "    </tr>\n",
       "    <tr>\n",
       "      <th>147</th>\n",
       "      <td>09 - Smeaton300: Moon Palace East Leeds Observ...</td>\n",
       "      <td>ev_2918127</td>\n",
       "      <td>True</td>\n",
       "    </tr>\n",
       "    <tr>\n",
       "      <th>173</th>\n",
       "      <td>11 - All That Lives</td>\n",
       "      <td>985872</td>\n",
       "      <td>True</td>\n",
       "    </tr>\n",
       "    <tr>\n",
       "      <th>272</th>\n",
       "      <td>Creative Learning S3</td>\n",
       "      <td>ev_3073624</td>\n",
       "      <td>False</td>\n",
       "    </tr>\n",
       "    <tr>\n",
       "      <th>332</th>\n",
       "      <td>11 - All That Lives</td>\n",
       "      <td>985872</td>\n",
       "      <td>True</td>\n",
       "    </tr>\n",
       "    <tr>\n",
       "      <th>651</th>\n",
       "      <td>11 - All That Lives</td>\n",
       "      <td>985872</td>\n",
       "      <td>True</td>\n",
       "    </tr>\n",
       "    <tr>\n",
       "      <th>948</th>\n",
       "      <td>07 - Children's Day</td>\n",
       "      <td>ev_2963290</td>\n",
       "      <td>NaN</td>\n",
       "    </tr>\n",
       "    <tr>\n",
       "      <th>948</th>\n",
       "      <td>07 - Children's Day</td>\n",
       "      <td>ev_2963290</td>\n",
       "      <td>NaN</td>\n",
       "    </tr>\n",
       "    <tr>\n",
       "      <th>948</th>\n",
       "      <td>07 - Children's Day</td>\n",
       "      <td>ev_2963295</td>\n",
       "      <td>NaN</td>\n",
       "    </tr>\n",
       "    <tr>\n",
       "      <th>948</th>\n",
       "      <td>07 - Children's Day</td>\n",
       "      <td>ev_2963297</td>\n",
       "      <td>NaN</td>\n",
       "    </tr>\n",
       "    <tr>\n",
       "      <th>948</th>\n",
       "      <td>07 - Children's Day</td>\n",
       "      <td>ev_2963295</td>\n",
       "      <td>NaN</td>\n",
       "    </tr>\n",
       "    <tr>\n",
       "      <th>948</th>\n",
       "      <td>07 - Children's Day</td>\n",
       "      <td>ev_2963296</td>\n",
       "      <td>NaN</td>\n",
       "    </tr>\n",
       "    <tr>\n",
       "      <th>948</th>\n",
       "      <td>07 - Children's Day</td>\n",
       "      <td>ev_2963296</td>\n",
       "      <td>NaN</td>\n",
       "    </tr>\n",
       "    <tr>\n",
       "      <th>948</th>\n",
       "      <td>07 - Children's Day</td>\n",
       "      <td>ev_2963297</td>\n",
       "      <td>NaN</td>\n",
       "    </tr>\n",
       "    <tr>\n",
       "      <th>992</th>\n",
       "      <td>11 - All That Lives</td>\n",
       "      <td>985872</td>\n",
       "      <td>True</td>\n",
       "    </tr>\n",
       "    <tr>\n",
       "      <th>1172</th>\n",
       "      <td>09 - Smeaton300: Moon Palace East Leeds Observ...</td>\n",
       "      <td>ev_2918127</td>\n",
       "      <td>True</td>\n",
       "    </tr>\n",
       "    <tr>\n",
       "      <th>1462</th>\n",
       "      <td>07 - Children's Day</td>\n",
       "      <td>ev_2963290</td>\n",
       "      <td>True</td>\n",
       "    </tr>\n",
       "    <tr>\n",
       "      <th>1462</th>\n",
       "      <td>07 - Children's Day</td>\n",
       "      <td>ev_2963295</td>\n",
       "      <td>True</td>\n",
       "    </tr>\n",
       "    <tr>\n",
       "      <th>1462</th>\n",
       "      <td>07 - Children's Day</td>\n",
       "      <td>ev_2963296</td>\n",
       "      <td>True</td>\n",
       "    </tr>\n",
       "    <tr>\n",
       "      <th>1462</th>\n",
       "      <td>07 - Children's Day</td>\n",
       "      <td>ev_2963297</td>\n",
       "      <td>True</td>\n",
       "    </tr>\n",
       "    <tr>\n",
       "      <th>1482</th>\n",
       "      <td>09 - Smeaton300: Moon Palace East Leeds Observ...</td>\n",
       "      <td>ev_2918127</td>\n",
       "      <td>True</td>\n",
       "    </tr>\n",
       "    <tr>\n",
       "      <th>1567</th>\n",
       "      <td>Creative Learning S3</td>\n",
       "      <td>ev_3073624</td>\n",
       "      <td>False</td>\n",
       "    </tr>\n",
       "  </tbody>\n",
       "</table>\n",
       "</div>"
      ],
      "text/plain": [
       "                                           project_name ticket_tailor_id  \\\n",
       "127                                 11 - All That Lives           985872   \n",
       "147   09 - Smeaton300: Moon Palace East Leeds Observ...       ev_2918127   \n",
       "173                                 11 - All That Lives           985872   \n",
       "272                                Creative Learning S3       ev_3073624   \n",
       "332                                 11 - All That Lives           985872   \n",
       "651                                 11 - All That Lives           985872   \n",
       "948                                 07 - Children's Day       ev_2963290   \n",
       "948                                 07 - Children's Day       ev_2963290   \n",
       "948                                 07 - Children's Day       ev_2963295   \n",
       "948                                 07 - Children's Day       ev_2963297   \n",
       "948                                 07 - Children's Day       ev_2963295   \n",
       "948                                 07 - Children's Day       ev_2963296   \n",
       "948                                 07 - Children's Day       ev_2963296   \n",
       "948                                 07 - Children's Day       ev_2963297   \n",
       "992                                 11 - All That Lives           985872   \n",
       "1172  09 - Smeaton300: Moon Palace East Leeds Observ...       ev_2918127   \n",
       "1462                                07 - Children's Day       ev_2963290   \n",
       "1462                                07 - Children's Day       ev_2963295   \n",
       "1462                                07 - Children's Day       ev_2963296   \n",
       "1462                                07 - Children's Day       ev_2963297   \n",
       "1482  09 - Smeaton300: Moon Palace East Leeds Observ...       ev_2918127   \n",
       "1567                               Creative Learning S3       ev_3073624   \n",
       "\n",
       "     public_event  \n",
       "127          True  \n",
       "147          True  \n",
       "173          True  \n",
       "272         False  \n",
       "332          True  \n",
       "651          True  \n",
       "948           NaN  \n",
       "948           NaN  \n",
       "948           NaN  \n",
       "948           NaN  \n",
       "948           NaN  \n",
       "948           NaN  \n",
       "948           NaN  \n",
       "948           NaN  \n",
       "992          True  \n",
       "1172         True  \n",
       "1462         True  \n",
       "1462         True  \n",
       "1462         True  \n",
       "1462         True  \n",
       "1482         True  \n",
       "1567        False  "
      ]
     },
     "execution_count": 8,
     "metadata": {},
     "output_type": "execute_result"
    }
   ],
   "source": [
    "events[\n",
    "  events.ticket_tailor_id.isin(\n",
    "    events.ticket_tailor_id[\n",
    "      events.ticket_tailor_id.duplicated()\n",
    "    ].to_list()\n",
    "  )\n",
    "]"
   ]
  },
  {
   "cell_type": "code",
   "execution_count": 9,
   "id": "9b8f3729",
   "metadata": {
    "execution": {
     "iopub.execute_input": "2023-12-25T23:39:13.228228Z",
     "iopub.status.busy": "2023-12-25T23:39:13.227784Z",
     "iopub.status.idle": "2023-12-25T23:39:13.231780Z",
     "shell.execute_reply": "2023-12-25T23:39:13.231177Z"
    },
    "papermill": {
     "duration": 0.008693,
     "end_time": "2023-12-25T23:39:13.233100",
     "exception": false,
     "start_time": "2023-12-25T23:39:13.224407",
     "status": "completed"
    },
    "tags": []
   },
   "outputs": [
    {
     "data": {
      "text/plain": [
       "6855"
      ]
     },
     "execution_count": 9,
     "metadata": {},
     "output_type": "execute_result"
    }
   ],
   "source": [
    "len(completed_orders)"
   ]
  },
  {
   "cell_type": "code",
   "execution_count": 10,
   "id": "6dfa91c2",
   "metadata": {
    "execution": {
     "iopub.execute_input": "2023-12-25T23:39:13.239872Z",
     "iopub.status.busy": "2023-12-25T23:39:13.239548Z",
     "iopub.status.idle": "2023-12-25T23:39:13.253433Z",
     "shell.execute_reply": "2023-12-25T23:39:13.252784Z"
    },
    "papermill": {
     "duration": 0.018813,
     "end_time": "2023-12-25T23:39:13.254858",
     "exception": false,
     "start_time": "2023-12-25T23:39:13.236045",
     "status": "completed"
    },
    "tags": []
   },
   "outputs": [],
   "source": [
    "completed_orders = completed_orders.merge(\n",
    "    events.drop_duplicates().set_index('ticket_tailor_id'),\n",
    "    left_on='event_id',\n",
    "    right_index=True,\n",
    "    how='left'\n",
    ")\n",
    "completed_orders['event_datetime'] = pd.to_datetime(completed_orders.event_date.astype(str) + 'T' + completed_orders.event_time)\n"
   ]
  },
  {
   "cell_type": "code",
   "execution_count": 11,
   "id": "6b81d0b7",
   "metadata": {
    "execution": {
     "iopub.execute_input": "2023-12-25T23:39:13.261785Z",
     "iopub.status.busy": "2023-12-25T23:39:13.261428Z",
     "iopub.status.idle": "2023-12-25T23:39:13.265441Z",
     "shell.execute_reply": "2023-12-25T23:39:13.264814Z"
    },
    "papermill": {
     "duration": 0.008827,
     "end_time": "2023-12-25T23:39:13.266686",
     "exception": false,
     "start_time": "2023-12-25T23:39:13.257859",
     "status": "completed"
    },
    "tags": []
   },
   "outputs": [
    {
     "data": {
      "text/plain": [
       "6863"
      ]
     },
     "execution_count": 11,
     "metadata": {},
     "output_type": "execute_result"
    }
   ],
   "source": [
    "len(completed_orders)"
   ]
  },
  {
   "cell_type": "code",
   "execution_count": 12,
   "id": "9836b54b",
   "metadata": {
    "execution": {
     "iopub.execute_input": "2023-12-25T23:39:13.273690Z",
     "iopub.status.busy": "2023-12-25T23:39:13.273353Z",
     "iopub.status.idle": "2023-12-25T23:39:13.276483Z",
     "shell.execute_reply": "2023-12-25T23:39:13.275871Z"
    },
    "papermill": {
     "duration": 0.008151,
     "end_time": "2023-12-25T23:39:13.277839",
     "exception": false,
     "start_time": "2023-12-25T23:39:13.269688",
     "status": "completed"
    },
    "tags": []
   },
   "outputs": [],
   "source": [
    "OUTPUT_DIR = TOP_DIR.joinpath('data/metrics/events/tickets/')\n",
    "OUTPUT_DIR.mkdir(parents=True, exist_ok=True)"
   ]
  },
  {
   "cell_type": "code",
   "execution_count": 13,
   "id": "3196bcb7",
   "metadata": {
    "execution": {
     "iopub.execute_input": "2023-12-25T23:39:13.285321Z",
     "iopub.status.busy": "2023-12-25T23:39:13.284923Z",
     "iopub.status.idle": "2023-12-25T23:39:13.320581Z",
     "shell.execute_reply": "2023-12-25T23:39:13.320086Z"
    },
    "papermill": {
     "duration": 0.040778,
     "end_time": "2023-12-25T23:39:13.321894",
     "exception": false,
     "start_time": "2023-12-25T23:39:13.281116",
     "status": "completed"
    },
    "tags": []
   },
   "outputs": [],
   "source": [
    "completed_orders.loc[:, [\n",
    "    'created_at',\n",
    "    'event_id',\n",
    "    'event_date',\n",
    "    'event_datetime',\n",
    "    'number_of_tickets',\n",
    "    'ward_code',\n",
    "    'project_name',\n",
    "    'public_event',\n",
    "]].sort_values(['created_at', 'event_id']).to_csv(\n",
    "  OUTPUT_DIR.joinpath('orders.csv'),\n",
    "  index=False\n",
    ")"
   ]
  },
  {
   "cell_type": "code",
   "execution_count": 14,
   "id": "0b761bf4",
   "metadata": {
    "execution": {
     "iopub.execute_input": "2023-12-25T23:39:13.329258Z",
     "iopub.status.busy": "2023-12-25T23:39:13.328708Z",
     "iopub.status.idle": "2023-12-25T23:39:13.337108Z",
     "shell.execute_reply": "2023-12-25T23:39:13.336609Z"
    },
    "papermill": {
     "duration": 0.013333,
     "end_time": "2023-12-25T23:39:13.338335",
     "exception": false,
     "start_time": "2023-12-25T23:39:13.325002",
     "status": "completed"
    },
    "tags": []
   },
   "outputs": [],
   "source": [
    "(\n",
    "    completed_orders.loc[:, ['event_date', 'event_time', 'event_name', 'event_id', 'project_name', 'public_event']]\n",
    "      .drop_duplicates()\n",
    "      .sort_values(['event_date', 'event_time'])\n",
    "      .to_csv('../../../../data/metrics/events/tickets/events.csv', index=False)\n",
    ")"
   ]
  },
  {
   "cell_type": "code",
   "execution_count": 15,
   "id": "889c4a0f",
   "metadata": {
    "execution": {
     "iopub.execute_input": "2023-12-25T23:39:13.345437Z",
     "iopub.status.busy": "2023-12-25T23:39:13.345219Z",
     "iopub.status.idle": "2023-12-25T23:39:14.077302Z",
     "shell.execute_reply": "2023-12-25T23:39:14.076633Z"
    },
    "papermill": {
     "duration": 0.73735,
     "end_time": "2023-12-25T23:39:14.078798",
     "exception": false,
     "start_time": "2023-12-25T23:39:13.341448",
     "status": "completed"
    },
    "tags": []
   },
   "outputs": [
    {
     "data": {
      "image/png": "[encoded data removed]",
      "text/plain": [
       "<Figure size 640x480 with 1 Axes>"
      ]
     },
     "metadata": {},
     "output_type": "display_data"
    }
   ],
   "source": [
    "chart = completed_orders.groupby(['project_name']).number_of_tickets.sum().sort_values().plot.barh()"
   ]
  },
  {
   "cell_type": "code",
   "execution_count": 16,
   "id": "90f7b4d5",
   "metadata": {
    "execution": {
     "iopub.execute_input": "2023-12-25T23:39:14.087690Z",
     "iopub.status.busy": "2023-12-25T23:39:14.087214Z",
     "iopub.status.idle": "2023-12-25T23:39:14.234726Z",
     "shell.execute_reply": "2023-12-25T23:39:14.234073Z"
    },
    "papermill": {
     "duration": 0.153223,
     "end_time": "2023-12-25T23:39:14.236011",
     "exception": false,
     "start_time": "2023-12-25T23:39:14.082788",
     "status": "completed"
    },
    "tags": []
   },
   "outputs": [
    {
     "data": {
      "image/png": "[encoded data removed]",
      "text/plain": [
       "<Figure size 640x480 with 1 Axes>"
      ]
     },
     "metadata": {},
     "output_type": "display_data"
    }
   ],
   "source": [
    "chart = completed_orders.groupby([\n",
    "    'event_date'\n",
    "    ]).number_of_tickets.sum().resample('M').sum().cumsum().plot.bar()"
   ]
  },
  {
   "cell_type": "code",
   "execution_count": null,
   "id": "7df7e6c8",
   "metadata": {
    "papermill": {
     "duration": 0.005311,
     "end_time": "2023-12-25T23:39:14.245498",
     "exception": false,
     "start_time": "2023-12-25T23:39:14.240187",
     "status": "completed"
    },
    "tags": []
   },
   "outputs": [],
   "source": []
  }
 ],
 "metadata": {
  "kernelspec": {
   "display_name": "leeds-2023-YZF5GfJv",
   "language": "python",
   "name": "python3"
  },
  "language_info": {
   "codemirror_mode": {
    "name": "ipython",
    "version": 3
   },
   "file_extension": ".py",
   "mimetype": "text/x-python",
   "name": "python",
   "nbconvert_exporter": "python",
   "pygments_lexer": "ipython3",
   "version": "3.10.13"
  },
  "papermill": {
   "default_parameters": {},
   "duration": 10.815635,
   "end_time": "2023-12-25T23:39:14.565627",
   "environment_variables": {},
   "exception": null,
   "input_path": "tickets.ipynb",
   "output_path": "../../../../working/output/tickets-transform.ipynb",
   "parameters": {},
   "start_time": "2023-12-25T23:39:03.749992",
   "version": "2.4.0"
  }
 },
 "nbformat": 4,
 "nbformat_minor": 5
}