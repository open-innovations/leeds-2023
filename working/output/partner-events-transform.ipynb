{
 "cells": [
  {
   "cell_type": "code",
   "execution_count": 1,
   "id": "a7f154ff",
   "metadata": {
    "execution": {
     "iopub.execute_input": "2023-10-11T23:38:33.793176Z",
     "iopub.status.busy": "2023-10-11T23:38:33.792118Z",
     "iopub.status.idle": "2023-10-11T23:38:34.114597Z",
     "shell.execute_reply": "2023-10-11T23:38:34.113614Z"
    },
    "papermill": {
     "duration": 0.332109,
     "end_time": "2023-10-11T23:38:34.116983",
     "exception": false,
     "start_time": "2023-10-11T23:38:33.784874",
     "status": "completed"
    },
    "tags": []
   },
   "outputs": [],
   "source": [
    "import os\n",
    "import sys\n",
    "import pandas as pd\n",
    "lib_dir = os.path.realpath('../../../lib/')\n",
    "if lib_dir not in sys.path: sys.path.append(lib_dir)"
   ]
  },
  {
   "cell_type": "code",
   "execution_count": 2,
   "id": "54ba4bc7",
   "metadata": {
    "execution": {
     "iopub.execute_input": "2023-10-11T23:38:34.126087Z",
     "iopub.status.busy": "2023-10-11T23:38:34.125661Z",
     "iopub.status.idle": "2023-10-11T23:38:48.039586Z",
     "shell.execute_reply": "2023-10-11T23:38:48.037488Z"
    },
    "papermill": {
     "duration": 13.922004,
     "end_time": "2023-10-11T23:38:48.042798",
     "exception": false,
     "start_time": "2023-10-11T23:38:34.120794",
     "status": "completed"
    },
    "tags": []
   },
   "outputs": [],
   "source": [
    "import util.geo"
   ]
  },
  {
   "cell_type": "code",
   "execution_count": 3,
   "id": "f54b61cc",
   "metadata": {
    "execution": {
     "iopub.execute_input": "2023-10-11T23:38:48.053238Z",
     "iopub.status.busy": "2023-10-11T23:38:48.052548Z",
     "iopub.status.idle": "2023-10-11T23:38:48.057195Z",
     "shell.execute_reply": "2023-10-11T23:38:48.056401Z"
    },
    "papermill": {
     "duration": 0.011602,
     "end_time": "2023-10-11T23:38:48.059405",
     "exception": false,
     "start_time": "2023-10-11T23:38:48.047803",
     "status": "completed"
    },
    "tags": []
   },
   "outputs": [],
   "source": [
    "EVENTS_RAW_DATA = '../../../working/metrics/partner-events/events.csv'\n",
    "DATA_DIR = '../../../data/metrics/events/partner-events/'\n",
    "EVENTS_DATA = os.path.join(DATA_DIR, 'events.csv')"
   ]
  },
  {
   "cell_type": "code",
   "execution_count": 4,
   "id": "f5f674df",
   "metadata": {
    "execution": {
     "iopub.execute_input": "2023-10-11T23:38:48.067515Z",
     "iopub.status.busy": "2023-10-11T23:38:48.066993Z",
     "iopub.status.idle": "2023-10-11T23:38:48.071409Z",
     "shell.execute_reply": "2023-10-11T23:38:48.070616Z"
    },
    "papermill": {
     "duration": 0.010708,
     "end_time": "2023-10-11T23:38:48.073351",
     "exception": false,
     "start_time": "2023-10-11T23:38:48.062643",
     "status": "completed"
    },
    "tags": []
   },
   "outputs": [],
   "source": [
    "columns = {\n",
    "    'Event Name': 'name',\n",
    "    'Event Start Date': 'start_date',\n",
    "    'Event End Date': 'end_date',\n",
    "    'Partner/Promote': 'partner_promote',\n",
    "    'Stage': 'stage',\n",
    "    'Live date': 'live_date',\n",
    "    'Venue postcode': 'postcode',\n",
    "    'Pricing Policy': 'pricing',\n",
    "    'Venue - including address': 'venue',\n",
    "    'Is this event on Leeds Inspried?': 'on_leeds_inspired',\n",
    "}"
   ]
  },
  {
   "cell_type": "markdown",
   "id": "b120a802",
   "metadata": {
    "papermill": {
     "duration": 0.003218,
     "end_time": "2023-10-11T23:38:48.079791",
     "exception": false,
     "start_time": "2023-10-11T23:38:48.076573",
     "status": "completed"
    },
    "tags": []
   },
   "source": [
    "Load the data and rename columns. Parse the dates to dates."
   ]
  },
  {
   "cell_type": "code",
   "execution_count": 5,
   "id": "3d128db7",
   "metadata": {
    "execution": {
     "iopub.execute_input": "2023-10-11T23:38:48.087291Z",
     "iopub.status.busy": "2023-10-11T23:38:48.086746Z",
     "iopub.status.idle": "2023-10-11T23:38:48.102996Z",
     "shell.execute_reply": "2023-10-11T23:38:48.102251Z"
    },
    "papermill": {
     "duration": 0.022049,
     "end_time": "2023-10-11T23:38:48.104843",
     "exception": false,
     "start_time": "2023-10-11T23:38:48.082794",
     "status": "completed"
    },
    "tags": []
   },
   "outputs": [],
   "source": [
    "data = pd.read_csv(EVENTS_RAW_DATA)[columns.keys()].rename(columns=columns)\n",
    "data.start_date = pd.to_datetime(data.start_date, errors='coerce')\n",
    "data.end_date = pd.to_datetime(data.end_date, errors='coerce')"
   ]
  },
  {
   "cell_type": "markdown",
   "id": "e7362469",
   "metadata": {
    "papermill": {
     "duration": 0.003243,
     "end_time": "2023-10-11T23:38:48.111392",
     "exception": false,
     "start_time": "2023-10-11T23:38:48.108149",
     "status": "completed"
    },
    "tags": []
   },
   "source": [
    "Filter data by not LI Pull through and start date before now"
   ]
  },
  {
   "cell_type": "code",
   "execution_count": 6,
   "id": "df01399c",
   "metadata": {
    "execution": {
     "iopub.execute_input": "2023-10-11T23:38:48.119832Z",
     "iopub.status.busy": "2023-10-11T23:38:48.119136Z",
     "iopub.status.idle": "2023-10-11T23:38:48.125674Z",
     "shell.execute_reply": "2023-10-11T23:38:48.124939Z"
    },
    "papermill": {
     "duration": 0.012566,
     "end_time": "2023-10-11T23:38:48.127275",
     "exception": false,
     "start_time": "2023-10-11T23:38:48.114709",
     "status": "completed"
    },
    "tags": []
   },
   "outputs": [],
   "source": [
    "data = data[\n",
    "    # (data.live_date == 'This event is live ') &\n",
    "    ((data.stage != 'LI pull through') & data.stage.notna()) &\n",
    "    (data.start_date < pd.Timestamp.now())\n",
    "]"
   ]
  },
  {
   "cell_type": "code",
   "execution_count": 7,
   "id": "51eb447d",
   "metadata": {
    "execution": {
     "iopub.execute_input": "2023-10-11T23:38:48.135248Z",
     "iopub.status.busy": "2023-10-11T23:38:48.134705Z",
     "iopub.status.idle": "2023-10-11T23:38:49.990449Z",
     "shell.execute_reply": "2023-10-11T23:38:49.989480Z"
    },
    "papermill": {
     "duration": 1.862576,
     "end_time": "2023-10-11T23:38:49.992999",
     "exception": false,
     "start_time": "2023-10-11T23:38:48.130423",
     "status": "completed"
    },
    "tags": []
   },
   "outputs": [],
   "source": [
    "data['ward_code'] = data.postcode.pipe(util.geo.postcode_formatter).map(util.geo.postcode_to_ward_code)\n",
    "data['ward_name'] = data.ward_code.pipe(util.geo.ward_code_to_name)"
   ]
  },
  {
   "cell_type": "markdown",
   "id": "cc7b166d",
   "metadata": {
    "papermill": {
     "duration": 0.005447,
     "end_time": "2023-10-11T23:38:50.003467",
     "exception": false,
     "start_time": "2023-10-11T23:38:49.998020",
     "status": "completed"
    },
    "tags": []
   },
   "source": [
    "Save the file"
   ]
  },
  {
   "cell_type": "code",
   "execution_count": 8,
   "id": "313e8e68",
   "metadata": {
    "execution": {
     "iopub.execute_input": "2023-10-11T23:38:50.012894Z",
     "iopub.status.busy": "2023-10-11T23:38:50.012002Z",
     "iopub.status.idle": "2023-10-11T23:38:50.021632Z",
     "shell.execute_reply": "2023-10-11T23:38:50.020745Z"
    },
    "papermill": {
     "duration": 0.016701,
     "end_time": "2023-10-11T23:38:50.023668",
     "exception": false,
     "start_time": "2023-10-11T23:38:50.006967",
     "status": "completed"
    },
    "tags": []
   },
   "outputs": [],
   "source": [
    "data[\n",
    "    ['name','start_date','end_date','ward_code']\n",
    "].to_csv(EVENTS_DATA, index=False)"
   ]
  },
  {
   "cell_type": "markdown",
   "id": "83ccac1d",
   "metadata": {
    "papermill": {
     "duration": 0.003311,
     "end_time": "2023-10-11T23:38:50.030456",
     "exception": false,
     "start_time": "2023-10-11T23:38:50.027145",
     "status": "completed"
    },
    "tags": []
   },
   "source": [
    "Print out missing postcode data"
   ]
  },
  {
   "cell_type": "code",
   "execution_count": 9,
   "id": "3e36de6c",
   "metadata": {
    "execution": {
     "iopub.execute_input": "2023-10-11T23:38:50.039476Z",
     "iopub.status.busy": "2023-10-11T23:38:50.038646Z",
     "iopub.status.idle": "2023-10-11T23:38:50.056824Z",
     "shell.execute_reply": "2023-10-11T23:38:50.056089Z"
    },
    "papermill": {
     "duration": 0.024907,
     "end_time": "2023-10-11T23:38:50.058814",
     "exception": false,
     "start_time": "2023-10-11T23:38:50.033907",
     "status": "completed"
    },
    "tags": []
   },
   "outputs": [
    {
     "data": {
      "text/html": [
       "<div>\n",
       "<style scoped>\n",
       "    .dataframe tbody tr th:only-of-type {\n",
       "        vertical-align: middle;\n",
       "    }\n",
       "\n",
       "    .dataframe tbody tr th {\n",
       "        vertical-align: top;\n",
       "    }\n",
       "\n",
       "    .dataframe thead th {\n",
       "        text-align: right;\n",
       "    }\n",
       "</style>\n",
       "<table border=\"1\" class=\"dataframe\">\n",
       "  <thead>\n",
       "    <tr style=\"text-align: right;\">\n",
       "      <th></th>\n",
       "      <th>name</th>\n",
       "      <th>start_date</th>\n",
       "    </tr>\n",
       "  </thead>\n",
       "  <tbody>\n",
       "    <tr>\n",
       "      <th>1</th>\n",
       "      <td>East Street Arts, A City Less Grey 2022</td>\n",
       "      <td>2022-10-08</td>\n",
       "    </tr>\n",
       "    <tr>\n",
       "      <th>3</th>\n",
       "      <td>Phoenix Dance Theatre Virtual Gallery</td>\n",
       "      <td>2023-01-01</td>\n",
       "    </tr>\n",
       "    <tr>\n",
       "      <th>4</th>\n",
       "      <td>The Big Art Giveaway, School of Creative Arts ...</td>\n",
       "      <td>2023-01-01</td>\n",
       "    </tr>\n",
       "    <tr>\n",
       "      <th>5</th>\n",
       "      <td>Embassy of Netherlands, Meet Leeds Lab</td>\n",
       "      <td>2023-01-16</td>\n",
       "    </tr>\n",
       "    <tr>\n",
       "      <th>6</th>\n",
       "      <td>Shifting Borders: A Journey to the Centre of o...</td>\n",
       "      <td>2023-01-24</td>\n",
       "    </tr>\n",
       "    <tr>\n",
       "      <th>...</th>\n",
       "      <td>...</td>\n",
       "      <td>...</td>\n",
       "    </tr>\n",
       "    <tr>\n",
       "      <th>205</th>\n",
       "      <td>Neville Street Artwork</td>\n",
       "      <td>2023-10-01</td>\n",
       "    </tr>\n",
       "    <tr>\n",
       "      <th>210</th>\n",
       "      <td>Fathom - Goat Monkey</td>\n",
       "      <td>2023-10-09</td>\n",
       "    </tr>\n",
       "    <tr>\n",
       "      <th>211</th>\n",
       "      <td>Re-imagining Home: Teacher CPD Session</td>\n",
       "      <td>2023-10-09</td>\n",
       "    </tr>\n",
       "    <tr>\n",
       "      <th>212</th>\n",
       "      <td>TRANSFORM 23</td>\n",
       "      <td>2023-10-11</td>\n",
       "    </tr>\n",
       "    <tr>\n",
       "      <th>213</th>\n",
       "      <td>Wild Irish Tales: An evening of story telling ...</td>\n",
       "      <td>2023-10-11</td>\n",
       "    </tr>\n",
       "  </tbody>\n",
       "</table>\n",
       "<p>67 rows × 2 columns</p>\n",
       "</div>"
      ],
      "text/plain": [
       "                                                  name start_date\n",
       "1              East Street Arts, A City Less Grey 2022 2022-10-08\n",
       "3                Phoenix Dance Theatre Virtual Gallery 2023-01-01\n",
       "4    The Big Art Giveaway, School of Creative Arts ... 2023-01-01\n",
       "5               Embassy of Netherlands, Meet Leeds Lab 2023-01-16\n",
       "6    Shifting Borders: A Journey to the Centre of o... 2023-01-24\n",
       "..                                                 ...        ...\n",
       "205                             Neville Street Artwork 2023-10-01\n",
       "210                               Fathom - Goat Monkey 2023-10-09\n",
       "211             Re-imagining Home: Teacher CPD Session 2023-10-09\n",
       "212                                      TRANSFORM 23  2023-10-11\n",
       "213  Wild Irish Tales: An evening of story telling ... 2023-10-11\n",
       "\n",
       "[67 rows x 2 columns]"
      ]
     },
     "execution_count": 9,
     "metadata": {},
     "output_type": "execute_result"
    }
   ],
   "source": [
    "data[data.postcode.isna()][[\n",
    "    'name', 'start_date'\n",
    "]]"
   ]
  },
  {
   "cell_type": "markdown",
   "id": "8ff80b8a",
   "metadata": {
    "papermill": {
     "duration": 0.003904,
     "end_time": "2023-10-11T23:38:50.066731",
     "exception": false,
     "start_time": "2023-10-11T23:38:50.062827",
     "status": "completed"
    },
    "tags": []
   },
   "source": [
    "Plot the pricing"
   ]
  },
  {
   "cell_type": "code",
   "execution_count": 10,
   "id": "2782e639",
   "metadata": {
    "execution": {
     "iopub.execute_input": "2023-10-11T23:38:50.076678Z",
     "iopub.status.busy": "2023-10-11T23:38:50.076081Z",
     "iopub.status.idle": "2023-10-11T23:38:50.776517Z",
     "shell.execute_reply": "2023-10-11T23:38:50.775719Z"
    },
    "papermill": {
     "duration": 0.707905,
     "end_time": "2023-10-11T23:38:50.778486",
     "exception": false,
     "start_time": "2023-10-11T23:38:50.070581",
     "status": "completed"
    },
    "tags": []
   },
   "outputs": [
    {
     "data": {
      "image/png": "[encoded data removed]",
      "text/plain": [
       "<Figure size 640x480 with 1 Axes>"
      ]
     },
     "metadata": {},
     "output_type": "display_data"
    }
   ],
   "source": [
    "# .groupby('pricing').count().plot.barh()\n",
    "pricing = data.pricing.fillna('Unspecified').str.replace('[\\[\\'\\]]', '', regex=True).to_frame().reset_index().groupby('pricing').count()\n",
    "\n",
    "pricing.columns = ['count']\n",
    "plot = pricing.plot.barh()\n"
   ]
  },
  {
   "cell_type": "code",
   "execution_count": null,
   "id": "a79ffe42",
   "metadata": {
    "papermill": {
     "duration": 0.004431,
     "end_time": "2023-10-11T23:38:50.787778",
     "exception": false,
     "start_time": "2023-10-11T23:38:50.783347",
     "status": "completed"
    },
    "tags": []
   },
   "outputs": [],
   "source": []
  }
 ],
 "metadata": {
  "kernelspec": {
   "display_name": "leeds-2023-YZF5GfJv",
   "language": "python",
   "name": "python3"
  },
  "language_info": {
   "codemirror_mode": {
    "name": "ipython",
    "version": 3
   },
   "file_extension": ".py",
   "mimetype": "text/x-python",
   "name": "python",
   "nbconvert_exporter": "python",
   "pygments_lexer": "ipython3",
   "version": "3.10.13"
  },
  "papermill": {
   "default_parameters": {},
   "duration": 19.255169,
   "end_time": "2023-10-11T23:38:51.413841",
   "environment_variables": {},
   "exception": null,
   "input_path": "transform.ipynb",
   "output_path": "../../../working/output/partner-events-transform.ipynb",
   "parameters": {},
   "start_time": "2023-10-11T23:38:32.158672",
   "version": "2.4.0"
  }
 },
 "nbformat": 4,
 "nbformat_minor": 5
}