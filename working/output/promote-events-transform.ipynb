{
 "cells": [
  {
   "cell_type": "code",
   "execution_count": 1,
   "id": "a243353d",
   "metadata": {
    "execution": {
     "iopub.execute_input": "2023-08-03T23:38:15.428431Z",
     "iopub.status.busy": "2023-08-03T23:38:15.427902Z",
     "iopub.status.idle": "2023-08-03T23:38:15.653007Z",
     "shell.execute_reply": "2023-08-03T23:38:15.652385Z"
    },
    "papermill": {
     "duration": 0.229715,
     "end_time": "2023-08-03T23:38:15.655037",
     "exception": false,
     "start_time": "2023-08-03T23:38:15.425322",
     "status": "completed"
    },
    "tags": []
   },
   "outputs": [],
   "source": [
    "import os\n",
    "import pandas as pd"
   ]
  },
  {
   "cell_type": "code",
   "execution_count": 2,
   "id": "64bdd38f",
   "metadata": {
    "execution": {
     "iopub.execute_input": "2023-08-03T23:38:15.659112Z",
     "iopub.status.busy": "2023-08-03T23:38:15.658502Z",
     "iopub.status.idle": "2023-08-03T23:38:15.661868Z",
     "shell.execute_reply": "2023-08-03T23:38:15.661273Z"
    },
    "papermill": {
     "duration": 0.006738,
     "end_time": "2023-08-03T23:38:15.663278",
     "exception": false,
     "start_time": "2023-08-03T23:38:15.656540",
     "status": "completed"
    },
    "tags": []
   },
   "outputs": [],
   "source": [
    "EVENTS_RAW_DATA = '../../../working/metrics/promote-events/events.csv'\n",
    "DATA_DIR = '../../../data/metrics/events/promote-events/'\n",
    "EVENTS_DATA = os.path.join(DATA_DIR, 'events.csv')"
   ]
  },
  {
   "cell_type": "code",
   "execution_count": 3,
   "id": "9f28bc78",
   "metadata": {
    "execution": {
     "iopub.execute_input": "2023-08-03T23:38:15.666757Z",
     "iopub.status.busy": "2023-08-03T23:38:15.666248Z",
     "iopub.status.idle": "2023-08-03T23:38:15.669360Z",
     "shell.execute_reply": "2023-08-03T23:38:15.668804Z"
    },
    "papermill": {
     "duration": 0.006273,
     "end_time": "2023-08-03T23:38:15.670712",
     "exception": false,
     "start_time": "2023-08-03T23:38:15.664439",
     "status": "completed"
    },
    "tags": []
   },
   "outputs": [],
   "source": [
    "columns = {\n",
    "    'id': 'id',\n",
    "    'name': 'name',\n",
    "    'locationName': 'location',\n",
    "    'cardPrice': 'card_price',\n",
    "    'timeslots': 'time',\n",
    "    'displayOnWebsite': 'display',\n",
    "    'Stage': 'stage',\n",
    "}"
   ]
  },
  {
   "cell_type": "code",
   "execution_count": 4,
   "id": "e9b5ce9a",
   "metadata": {
    "execution": {
     "iopub.execute_input": "2023-08-03T23:38:15.673987Z",
     "iopub.status.busy": "2023-08-03T23:38:15.673668Z",
     "iopub.status.idle": "2023-08-03T23:38:15.686242Z",
     "shell.execute_reply": "2023-08-03T23:38:15.685704Z"
    },
    "papermill": {
     "duration": 0.015731,
     "end_time": "2023-08-03T23:38:15.687595",
     "exception": false,
     "start_time": "2023-08-03T23:38:15.671864",
     "status": "completed"
    },
    "tags": []
   },
   "outputs": [],
   "source": [
    "data = pd.read_csv(EVENTS_RAW_DATA)[columns.keys()].rename(columns=columns)\n",
    "data.time = pd.to_datetime(data.time, errors='coerce')"
   ]
  },
  {
   "cell_type": "code",
   "execution_count": 5,
   "id": "15da8672",
   "metadata": {
    "execution": {
     "iopub.execute_input": "2023-08-03T23:38:15.691183Z",
     "iopub.status.busy": "2023-08-03T23:38:15.690707Z",
     "iopub.status.idle": "2023-08-03T23:38:15.698152Z",
     "shell.execute_reply": "2023-08-03T23:38:15.697625Z"
    },
    "papermill": {
     "duration": 0.010684,
     "end_time": "2023-08-03T23:38:15.699490",
     "exception": false,
     "start_time": "2023-08-03T23:38:15.688806",
     "status": "completed"
    },
    "tags": []
   },
   "outputs": [],
   "source": [
    "data.to_csv(os.path.join(DATA_DIR, 'events.csv'), index=False)"
   ]
  }
 ],
 "metadata": {
  "kernelspec": {
   "display_name": "leeds-2023-YZF5GfJv",
   "language": "python",
   "name": "python3"
  },
  "language_info": {
   "codemirror_mode": {
    "name": "ipython",
    "version": 3
   },
   "file_extension": ".py",
   "mimetype": "text/x-python",
   "name": "python",
   "nbconvert_exporter": "python",
   "pygments_lexer": "ipython3",
   "version": "3.10.6"
  },
  "papermill": {
   "default_parameters": {},
   "duration": 1.860826,
   "end_time": "2023-08-03T23:38:15.916214",
   "environment_variables": {},
   "exception": null,
   "input_path": "transform.ipynb",
   "output_path": "../../../working/output/promote-events-transform.ipynb",
   "parameters": {},
   "start_time": "2023-08-03T23:38:14.055388",
   "version": "2.4.0"
  }
 },
 "nbformat": 4,
 "nbformat_minor": 5
}