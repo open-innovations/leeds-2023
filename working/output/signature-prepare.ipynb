{
 "cells": [
  {
   "cell_type": "code",
   "execution_count": 1,
   "id": "6f52dcd1",
   "metadata": {
    "execution": {
     "iopub.execute_input": "2023-12-26T23:40:41.427770Z",
     "iopub.status.busy": "2023-12-26T23:40:41.427514Z",
     "iopub.status.idle": "2023-12-26T23:40:48.673241Z",
     "shell.execute_reply": "2023-12-26T23:40:48.672518Z"
    },
    "papermill": {
     "duration": 7.250937,
     "end_time": "2023-12-26T23:40:48.675086",
     "exception": false,
     "start_time": "2023-12-26T23:40:41.424149",
     "status": "completed"
    },
    "tags": []
   },
   "outputs": [],
   "source": [
    "import os\n",
    "import pandas as pd\n",
    "from events import load_event_data, get_first_ward, normalise_ward"
   ]
  },
  {
   "cell_type": "code",
   "execution_count": 2,
   "id": "b7131bcc",
   "metadata": {
    "execution": {
     "iopub.execute_input": "2023-12-26T23:40:48.680659Z",
     "iopub.status.busy": "2023-12-26T23:40:48.680152Z",
     "iopub.status.idle": "2023-12-26T23:40:48.683808Z",
     "shell.execute_reply": "2023-12-26T23:40:48.683160Z"
    },
    "papermill": {
     "duration": 0.007631,
     "end_time": "2023-12-26T23:40:48.685018",
     "exception": false,
     "start_time": "2023-12-26T23:40:48.677387",
     "status": "completed"
    },
    "tags": []
   },
   "outputs": [],
   "source": [
    "latest_date = pd.Timestamp.today().ceil('D')"
   ]
  },
  {
   "cell_type": "code",
   "execution_count": 3,
   "id": "0ea2d030",
   "metadata": {
    "execution": {
     "iopub.execute_input": "2023-12-26T23:40:48.689708Z",
     "iopub.status.busy": "2023-12-26T23:40:48.689386Z",
     "iopub.status.idle": "2023-12-26T23:40:48.707084Z",
     "shell.execute_reply": "2023-12-26T23:40:48.706571Z"
    },
    "papermill": {
     "duration": 0.021559,
     "end_time": "2023-12-26T23:40:48.708416",
     "exception": false,
     "start_time": "2023-12-26T23:40:48.686857",
     "status": "completed"
    },
    "tags": []
   },
   "outputs": [],
   "source": [
    "tickets = pd.read_csv('../../../../data/metrics/events/tickets/orders.csv', parse_dates=['created_at', 'event_date'])\n",
    "tickets = tickets[tickets.event_date <= latest_date]"
   ]
  },
  {
   "cell_type": "code",
   "execution_count": 4,
   "id": "73603ab8",
   "metadata": {
    "execution": {
     "iopub.execute_input": "2023-12-26T23:40:48.713284Z",
     "iopub.status.busy": "2023-12-26T23:40:48.712787Z",
     "iopub.status.idle": "2023-12-26T23:40:48.766633Z",
     "shell.execute_reply": "2023-12-26T23:40:48.766140Z"
    },
    "papermill": {
     "duration": 0.057711,
     "end_time": "2023-12-26T23:40:48.767954",
     "exception": false,
     "start_time": "2023-12-26T23:40:48.710243",
     "status": "completed"
    },
    "tags": []
   },
   "outputs": [],
   "source": [
    "events = load_event_data()\n",
    "\n",
    "events = pd.concat([\n",
    "  events,\n",
    "  events.pipe(get_first_ward).pipe(normalise_ward).fillna('UNKNOWN'),\n",
    "  pd.Series(\n",
    "      events.actual_audience_size_number_of_participants_in_person + events.actual_audience_size_number_of_participants_online,\n",
    "      name='attendances'\n",
    "  )\n",
    "], axis=1).rename(columns={\n",
    "    'start_date': 'date'\n",
    "}).loc[:, ['ward_code', 'date', 'event_unique_identifier', 'attendances']]"
   ]
  },
  {
   "cell_type": "code",
   "execution_count": 5,
   "id": "ef89ece9",
   "metadata": {
    "execution": {
     "iopub.execute_input": "2023-12-26T23:40:48.772711Z",
     "iopub.status.busy": "2023-12-26T23:40:48.772343Z",
     "iopub.status.idle": "2023-12-26T23:40:48.775327Z",
     "shell.execute_reply": "2023-12-26T23:40:48.774770Z"
    },
    "papermill": {
     "duration": 0.006786,
     "end_time": "2023-12-26T23:40:48.776606",
     "exception": false,
     "start_time": "2023-12-26T23:40:48.769820",
     "status": "completed"
    },
    "tags": []
   },
   "outputs": [],
   "source": [
    "OUTPUT_DIR='../../../../docs/metrics/events/signature/_data/'\n",
    "os.makedirs(OUTPUT_DIR, exist_ok=True)"
   ]
  },
  {
   "cell_type": "markdown",
   "id": "511bc728",
   "metadata": {
    "papermill": {
     "duration": 0.001963,
     "end_time": "2023-12-26T23:40:48.780565",
     "exception": false,
     "start_time": "2023-12-26T23:40:48.778602",
     "status": "completed"
    },
    "tags": []
   },
   "source": [
    "Events CSVs"
   ]
  },
  {
   "cell_type": "code",
   "execution_count": 6,
   "id": "5d2aee50",
   "metadata": {
    "execution": {
     "iopub.execute_input": "2023-12-26T23:40:48.785239Z",
     "iopub.status.busy": "2023-12-26T23:40:48.784876Z",
     "iopub.status.idle": "2023-12-26T23:40:48.790379Z",
     "shell.execute_reply": "2023-12-26T23:40:48.789916Z"
    },
    "papermill": {
     "duration": 0.009309,
     "end_time": "2023-12-26T23:40:48.791703",
     "exception": false,
     "start_time": "2023-12-26T23:40:48.782394",
     "status": "completed"
    },
    "tags": []
   },
   "outputs": [],
   "source": [
    "pd.DataFrame({\n",
    "  'events': events.groupby('ward_code').event_unique_identifier.count(),\n",
    "  'attendances': events.groupby('ward_code').attendances.sum().astype(int),\n",
    "}).to_csv(os.path.join(OUTPUT_DIR, 'events_by_ward.csv'))\n"
   ]
  },
  {
   "cell_type": "code",
   "execution_count": 7,
   "id": "3ab1b5c5",
   "metadata": {
    "execution": {
     "iopub.execute_input": "2023-12-26T23:40:48.796498Z",
     "iopub.status.busy": "2023-12-26T23:40:48.796147Z",
     "iopub.status.idle": "2023-12-26T23:40:48.803466Z",
     "shell.execute_reply": "2023-12-26T23:40:48.802949Z"
    },
    "papermill": {
     "duration": 0.011165,
     "end_time": "2023-12-26T23:40:48.804775",
     "exception": false,
     "start_time": "2023-12-26T23:40:48.793610",
     "status": "completed"
    },
    "tags": []
   },
   "outputs": [],
   "source": [
    "pd.DataFrame({\n",
    "  'events': events.groupby('date').event_unique_identifier.count(),\n",
    "  'attendances': events.groupby('date').attendances.sum().astype(int),\n",
    "}).resample('M').sum().astype(int).to_csv(os.path.join(OUTPUT_DIR, 'events_by_date.csv'))"
   ]
  },
  {
   "cell_type": "markdown",
   "id": "5e0ece54",
   "metadata": {
    "papermill": {
     "duration": 0.002654,
     "end_time": "2023-12-26T23:40:48.809372",
     "exception": false,
     "start_time": "2023-12-26T23:40:48.806718",
     "status": "completed"
    },
    "tags": []
   },
   "source": [
    "Tickets CSV"
   ]
  },
  {
   "cell_type": "code",
   "execution_count": 8,
   "id": "9ded75df",
   "metadata": {
    "execution": {
     "iopub.execute_input": "2023-12-26T23:40:48.814197Z",
     "iopub.status.busy": "2023-12-26T23:40:48.813834Z",
     "iopub.status.idle": "2023-12-26T23:40:48.819596Z",
     "shell.execute_reply": "2023-12-26T23:40:48.819087Z"
    },
    "papermill": {
     "duration": 0.00953,
     "end_time": "2023-12-26T23:40:48.820824",
     "exception": false,
     "start_time": "2023-12-26T23:40:48.811294",
     "status": "completed"
    },
    "tags": []
   },
   "outputs": [],
   "source": [
    "pd.DataFrame({\n",
    "  'orders': tickets.groupby('ward_code').number_of_tickets.count(),\n",
    "  'tickets': tickets.groupby('ward_code').number_of_tickets.sum().astype(int),\n",
    "}).to_csv(os.path.join(OUTPUT_DIR, 'tickets_by_ward.csv'))"
   ]
  },
  {
   "cell_type": "code",
   "execution_count": 9,
   "id": "cc737499",
   "metadata": {
    "execution": {
     "iopub.execute_input": "2023-12-26T23:40:48.825852Z",
     "iopub.status.busy": "2023-12-26T23:40:48.825448Z",
     "iopub.status.idle": "2023-12-26T23:40:48.832298Z",
     "shell.execute_reply": "2023-12-26T23:40:48.831793Z"
    },
    "papermill": {
     "duration": 0.010798,
     "end_time": "2023-12-26T23:40:48.833583",
     "exception": false,
     "start_time": "2023-12-26T23:40:48.822785",
     "status": "completed"
    },
    "tags": []
   },
   "outputs": [],
   "source": [
    "pd.DataFrame({\n",
    "  'orders': tickets.groupby('event_date').number_of_tickets.count(),\n",
    "  'tickets': tickets.groupby('event_date').number_of_tickets.sum().astype(int),\n",
    "}).resample('M').sum().to_csv(os.path.join(OUTPUT_DIR, 'tickets_by_event_date.csv'))"
   ]
  },
  {
   "cell_type": "code",
   "execution_count": 10,
   "id": "3fc65211",
   "metadata": {
    "execution": {
     "iopub.execute_input": "2023-12-26T23:40:48.838675Z",
     "iopub.status.busy": "2023-12-26T23:40:48.838270Z",
     "iopub.status.idle": "2023-12-26T23:40:48.842834Z",
     "shell.execute_reply": "2023-12-26T23:40:48.842332Z"
    },
    "papermill": {
     "duration": 0.008493,
     "end_time": "2023-12-26T23:40:48.844094",
     "exception": false,
     "start_time": "2023-12-26T23:40:48.835601",
     "status": "completed"
    },
    "tags": []
   },
   "outputs": [],
   "source": [
    "pd.Series({\n",
    "    'total_events': events.event_unique_identifier.count(),\n",
    "    'total_attendances': events.attendances.count(),\n",
    "    'first_event': events.date.min(),\n",
    "    'latest_event': events.date.max(),\n",
    "    'total_ticket_orders_for_events_to_date': tickets.number_of_tickets.count(),\n",
    "    'total_tickets_sold_for_events_to_date': tickets.number_of_tickets.sum(),\n",
    "}).to_json(os.path.join(OUTPUT_DIR, 'headlines.json'), indent=2)"
   ]
  },
  {
   "cell_type": "code",
   "execution_count": null,
   "id": "c3912d07",
   "metadata": {
    "papermill": {
     "duration": 0.00205,
     "end_time": "2023-12-26T23:40:48.848180",
     "exception": false,
     "start_time": "2023-12-26T23:40:48.846130",
     "status": "completed"
    },
    "tags": []
   },
   "outputs": [],
   "source": []
  }
 ],
 "metadata": {
  "kernelspec": {
   "display_name": "leeds-2023-YZF5GfJv",
   "language": "python",
   "name": "python3"
  },
  "language_info": {
   "codemirror_mode": {
    "name": "ipython",
    "version": 3
   },
   "file_extension": ".py",
   "mimetype": "text/x-python",
   "name": "python",
   "nbconvert_exporter": "python",
   "pygments_lexer": "ipython3",
   "version": "3.10.13"
  },
  "papermill": {
   "default_parameters": {},
   "duration": 8.986574,
   "end_time": "2023-12-26T23:40:49.166722",
   "environment_variables": {},
   "exception": null,
   "input_path": "prepare.ipynb",
   "output_path": "../../../../working/output/signature-prepare.ipynb",
   "parameters": {},
   "start_time": "2023-12-26T23:40:40.180148",
   "version": "2.4.0"
  }
 },
 "nbformat": 4,
 "nbformat_minor": 5
}