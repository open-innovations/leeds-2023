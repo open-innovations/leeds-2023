{
 "cells": [
  {
   "cell_type": "code",
   "execution_count": 1,
   "id": "d28b1497",
   "metadata": {
    "execution": {
     "iopub.execute_input": "2023-12-17T23:39:09.176739Z",
     "iopub.status.busy": "2023-12-17T23:39:09.176552Z",
     "iopub.status.idle": "2023-12-17T23:39:09.410528Z",
     "shell.execute_reply": "2023-12-17T23:39:09.409981Z"
    },
    "papermill": {
     "duration": 0.239374,
     "end_time": "2023-12-17T23:39:09.412095",
     "exception": false,
     "start_time": "2023-12-17T23:39:09.172721",
     "status": "completed"
    },
    "tags": []
   },
   "outputs": [],
   "source": [
    "import sys\n",
    "from pathlib import Path\n",
    "\n",
    "import pandas as pd\n",
    "\n",
    "TOP_DIR = Path('../../../..').resolve()\n",
    "\n",
    "if str(TOP_DIR) not in sys.path: sys.path.append(str(TOP_DIR))"
   ]
  },
  {
   "cell_type": "code",
   "execution_count": 2,
   "id": "1f6b3de5",
   "metadata": {
    "execution": {
     "iopub.execute_input": "2023-12-17T23:39:09.418337Z",
     "iopub.status.busy": "2023-12-17T23:39:09.417913Z",
     "iopub.status.idle": "2023-12-17T23:39:16.167911Z",
     "shell.execute_reply": "2023-12-17T23:39:16.167223Z"
    },
    "papermill": {
     "duration": 6.754805,
     "end_time": "2023-12-17T23:39:16.169643",
     "exception": false,
     "start_time": "2023-12-17T23:39:09.414838",
     "status": "completed"
    },
    "tags": []
   },
   "outputs": [],
   "source": [
    "from lib.util.geo import postcode_formatter, postcode_to_ward_code"
   ]
  },
  {
   "cell_type": "code",
   "execution_count": 3,
   "id": "d0514a0b",
   "metadata": {
    "execution": {
     "iopub.execute_input": "2023-12-17T23:39:16.176117Z",
     "iopub.status.busy": "2023-12-17T23:39:16.175896Z",
     "iopub.status.idle": "2023-12-17T23:39:16.196937Z",
     "shell.execute_reply": "2023-12-17T23:39:16.196318Z"
    },
    "papermill": {
     "duration": 0.025819,
     "end_time": "2023-12-17T23:39:16.198214",
     "exception": false,
     "start_time": "2023-12-17T23:39:16.172395",
     "status": "completed"
    },
    "tags": []
   },
   "outputs": [],
   "source": [
    "ticket_data = pd.read_csv(\n",
    "    '../../../../working/metrics/ticketing/orders.csv',\n",
    "    parse_dates=['created_at', 'event_date'],\n",
    "    usecols=[\n",
    "        'created_at',\n",
    "        'event_id',\n",
    "        'event_name',\n",
    "        'event_date',\n",
    "        'event_time',\n",
    "        'number_of_tickets',\n",
    "        'postcode_from_question',\n",
    "        'postcode_from_address',\n",
    "        'status',\n",
    "    ]\n",
    ")"
   ]
  },
  {
   "cell_type": "code",
   "execution_count": 4,
   "id": "f5077ee8",
   "metadata": {
    "execution": {
     "iopub.execute_input": "2023-12-17T23:39:16.204130Z",
     "iopub.status.busy": "2023-12-17T23:39:16.203680Z",
     "iopub.status.idle": "2023-12-17T23:39:16.211781Z",
     "shell.execute_reply": "2023-12-17T23:39:16.211158Z"
    },
    "papermill": {
     "duration": 0.012502,
     "end_time": "2023-12-17T23:39:16.213117",
     "exception": false,
     "start_time": "2023-12-17T23:39:16.200615",
     "status": "completed"
    },
    "tags": []
   },
   "outputs": [
    {
     "name": "stdout",
     "output_type": "stream",
     "text": [
      "<class 'pandas.core.frame.DataFrame'>\n",
      "RangeIndex: 6681 entries, 0 to 6680\n",
      "Data columns (total 9 columns):\n",
      " #   Column                  Non-Null Count  Dtype         \n",
      "---  ------                  --------------  -----         \n",
      " 0   postcode_from_question  6311 non-null   object        \n",
      " 1   postcode_from_address   850 non-null    object        \n",
      " 2   created_at              6681 non-null   datetime64[ns]\n",
      " 3   event_id                6681 non-null   object        \n",
      " 4   event_name              6681 non-null   object        \n",
      " 5   event_date              6681 non-null   datetime64[ns]\n",
      " 6   event_time              6681 non-null   object        \n",
      " 7   number_of_tickets       6681 non-null   int64         \n",
      " 8   status                  6681 non-null   object        \n",
      "dtypes: datetime64[ns](2), int64(1), object(6)\n",
      "memory usage: 469.9+ KB\n"
     ]
    }
   ],
   "source": [
    "ticket_data.info()"
   ]
  },
  {
   "cell_type": "code",
   "execution_count": 5,
   "id": "e17722e2",
   "metadata": {
    "execution": {
     "iopub.execute_input": "2023-12-17T23:39:16.219174Z",
     "iopub.status.busy": "2023-12-17T23:39:16.218814Z",
     "iopub.status.idle": "2023-12-17T23:39:16.223435Z",
     "shell.execute_reply": "2023-12-17T23:39:16.222836Z"
    },
    "papermill": {
     "duration": 0.009185,
     "end_time": "2023-12-17T23:39:16.224876",
     "exception": false,
     "start_time": "2023-12-17T23:39:16.215691",
     "status": "completed"
    },
    "tags": []
   },
   "outputs": [],
   "source": [
    "completed_orders = (\n",
    "    ticket_data.loc[\n",
    "        ~ticket_data.status.isin(['cancelled']),\n",
    "        ticket_data.columns\n",
    "    ]\n",
    ")"
   ]
  },
  {
   "cell_type": "code",
   "execution_count": 6,
   "id": "ad692b56",
   "metadata": {
    "execution": {
     "iopub.execute_input": "2023-12-17T23:39:16.230945Z",
     "iopub.status.busy": "2023-12-17T23:39:16.230598Z",
     "iopub.status.idle": "2023-12-17T23:39:17.080548Z",
     "shell.execute_reply": "2023-12-17T23:39:17.079830Z"
    },
    "papermill": {
     "duration": 0.854805,
     "end_time": "2023-12-17T23:39:17.082210",
     "exception": false,
     "start_time": "2023-12-17T23:39:16.227405",
     "status": "completed"
    },
    "tags": []
   },
   "outputs": [],
   "source": [
    "completed_orders['ward_code'] = (\n",
    "    completed_orders\n",
    "        .loc[:, ['postcode_from_question', 'postcode_from_address']]\n",
    "        .bfill()\n",
    "        .iloc[:, 0]\n",
    "        .pipe(postcode_formatter)\n",
    "        .map(postcode_to_ward_code)\n",
    ")"
   ]
  },
  {
   "cell_type": "markdown",
   "id": "4b36bb23",
   "metadata": {
    "papermill": {
     "duration": 0.002688,
     "end_time": "2023-12-17T23:39:17.088503",
     "exception": false,
     "start_time": "2023-12-17T23:39:17.085815",
     "status": "completed"
    },
    "tags": []
   },
   "source": [
    "Get the events data"
   ]
  },
  {
   "cell_type": "code",
   "execution_count": 7,
   "id": "1f34c988",
   "metadata": {
    "execution": {
     "iopub.execute_input": "2023-12-17T23:39:17.094766Z",
     "iopub.status.busy": "2023-12-17T23:39:17.094293Z",
     "iopub.status.idle": "2023-12-17T23:39:17.109614Z",
     "shell.execute_reply": "2023-12-17T23:39:17.109095Z"
    },
    "papermill": {
     "duration": 0.0199,
     "end_time": "2023-12-17T23:39:17.110939",
     "exception": false,
     "start_time": "2023-12-17T23:39:17.091039",
     "status": "completed"
    },
    "tags": []
   },
   "outputs": [],
   "source": [
    "def prepare_events(data: pd.DataFrame):\n",
    "    data = data.rename(columns={\n",
    "        'Project name': 'project_name',\n",
    "        'Event type': 'event_type',\n",
    "        'Ticket Tailor ID': 'ticket_tailor_id'\n",
    "    })\n",
    "    data['public_event'] = data.event_type.str.contains('Public Event')\n",
    "    data['ticket_tailor_id'] = data.ticket_tailor_id.str.split(\n",
    "        pat=r'[\\s,]+', regex=True)\n",
    "    data = data.drop(columns=['event_type'])\n",
    "    data = data.explode('ticket_tailor_id')\n",
    "    data = data.loc[data.ticket_tailor_id.notna() & (data.ticket_tailor_id != '')]\n",
    "    return data\n",
    "\n",
    "\n",
    "events = pd.read_csv(\n",
    "    '../../../../working/metrics/events/all.csv',\n",
    "    usecols=[\n",
    "        'Project name',\n",
    "        'Event type',\n",
    "        'Ticket Tailor ID'\n",
    "    ]\n",
    ").pipe(prepare_events)"
   ]
  },
  {
   "cell_type": "markdown",
   "id": "adf2354d",
   "metadata": {
    "papermill": {
     "duration": 0.002503,
     "end_time": "2023-12-17T23:39:17.116094",
     "exception": false,
     "start_time": "2023-12-17T23:39:17.113591",
     "status": "completed"
    },
    "tags": []
   },
   "source": [
    "Duplicated ticket tailor IDs"
   ]
  },
  {
   "cell_type": "code",
   "execution_count": 8,
   "id": "858ccfe6",
   "metadata": {
    "execution": {
     "iopub.execute_input": "2023-12-17T23:39:17.122279Z",
     "iopub.status.busy": "2023-12-17T23:39:17.121906Z",
     "iopub.status.idle": "2023-12-17T23:39:17.132536Z",
     "shell.execute_reply": "2023-12-17T23:39:17.131922Z"
    },
    "papermill": {
     "duration": 0.015156,
     "end_time": "2023-12-17T23:39:17.133782",
     "exception": false,
     "start_time": "2023-12-17T23:39:17.118626",
     "status": "completed"
    },
    "tags": []
   },
   "outputs": [
    {
     "data": {
      "text/html": [
       "<div>\n",
       "<style scoped>\n",
       "    .dataframe tbody tr th:only-of-type {\n",
       "        vertical-align: middle;\n",
       "    }\n",
       "\n",
       "    .dataframe tbody tr th {\n",
       "        vertical-align: top;\n",
       "    }\n",
       "\n",
       "    .dataframe thead th {\n",
       "        text-align: right;\n",
       "    }\n",
       "</style>\n",
       "<table border=\"1\" class=\"dataframe\">\n",
       "  <thead>\n",
       "    <tr style=\"text-align: right;\">\n",
       "      <th></th>\n",
       "      <th>project_name</th>\n",
       "      <th>ticket_tailor_id</th>\n",
       "      <th>public_event</th>\n",
       "    </tr>\n",
       "  </thead>\n",
       "  <tbody>\n",
       "    <tr>\n",
       "      <th>117</th>\n",
       "      <td>11 - All That Lives</td>\n",
       "      <td>985872</td>\n",
       "      <td>True</td>\n",
       "    </tr>\n",
       "    <tr>\n",
       "      <th>134</th>\n",
       "      <td>09 - Smeaton300: Moon Palace East Leeds Observ...</td>\n",
       "      <td>ev_2918127</td>\n",
       "      <td>True</td>\n",
       "    </tr>\n",
       "    <tr>\n",
       "      <th>159</th>\n",
       "      <td>11 - All That Lives</td>\n",
       "      <td>985872</td>\n",
       "      <td>True</td>\n",
       "    </tr>\n",
       "    <tr>\n",
       "      <th>251</th>\n",
       "      <td>Creative Learning S3</td>\n",
       "      <td>ev_3073624</td>\n",
       "      <td>False</td>\n",
       "    </tr>\n",
       "    <tr>\n",
       "      <th>309</th>\n",
       "      <td>11 - All That Lives</td>\n",
       "      <td>985872</td>\n",
       "      <td>True</td>\n",
       "    </tr>\n",
       "    <tr>\n",
       "      <th>608</th>\n",
       "      <td>11 - All That Lives</td>\n",
       "      <td>985872</td>\n",
       "      <td>True</td>\n",
       "    </tr>\n",
       "    <tr>\n",
       "      <th>887</th>\n",
       "      <td>07 - Children's Day</td>\n",
       "      <td>ev_2963290</td>\n",
       "      <td>NaN</td>\n",
       "    </tr>\n",
       "    <tr>\n",
       "      <th>887</th>\n",
       "      <td>07 - Children's Day</td>\n",
       "      <td>ev_2963290</td>\n",
       "      <td>NaN</td>\n",
       "    </tr>\n",
       "    <tr>\n",
       "      <th>887</th>\n",
       "      <td>07 - Children's Day</td>\n",
       "      <td>ev_2963295</td>\n",
       "      <td>NaN</td>\n",
       "    </tr>\n",
       "    <tr>\n",
       "      <th>887</th>\n",
       "      <td>07 - Children's Day</td>\n",
       "      <td>ev_2963297</td>\n",
       "      <td>NaN</td>\n",
       "    </tr>\n",
       "    <tr>\n",
       "      <th>887</th>\n",
       "      <td>07 - Children's Day</td>\n",
       "      <td>ev_2963295</td>\n",
       "      <td>NaN</td>\n",
       "    </tr>\n",
       "    <tr>\n",
       "      <th>887</th>\n",
       "      <td>07 - Children's Day</td>\n",
       "      <td>ev_2963296</td>\n",
       "      <td>NaN</td>\n",
       "    </tr>\n",
       "    <tr>\n",
       "      <th>887</th>\n",
       "      <td>07 - Children's Day</td>\n",
       "      <td>ev_2963296</td>\n",
       "      <td>NaN</td>\n",
       "    </tr>\n",
       "    <tr>\n",
       "      <th>887</th>\n",
       "      <td>07 - Children's Day</td>\n",
       "      <td>ev_2963297</td>\n",
       "      <td>NaN</td>\n",
       "    </tr>\n",
       "    <tr>\n",
       "      <th>928</th>\n",
       "      <td>11 - All That Lives</td>\n",
       "      <td>985872</td>\n",
       "      <td>True</td>\n",
       "    </tr>\n",
       "    <tr>\n",
       "      <th>1094</th>\n",
       "      <td>09 - Smeaton300: Moon Palace East Leeds Observ...</td>\n",
       "      <td>ev_2918127</td>\n",
       "      <td>True</td>\n",
       "    </tr>\n",
       "    <tr>\n",
       "      <th>1364</th>\n",
       "      <td>07 - Children's Day</td>\n",
       "      <td>ev_2963290</td>\n",
       "      <td>True</td>\n",
       "    </tr>\n",
       "    <tr>\n",
       "      <th>1364</th>\n",
       "      <td>07 - Children's Day</td>\n",
       "      <td>ev_2963295</td>\n",
       "      <td>True</td>\n",
       "    </tr>\n",
       "    <tr>\n",
       "      <th>1364</th>\n",
       "      <td>07 - Children's Day</td>\n",
       "      <td>ev_2963296</td>\n",
       "      <td>True</td>\n",
       "    </tr>\n",
       "    <tr>\n",
       "      <th>1364</th>\n",
       "      <td>07 - Children's Day</td>\n",
       "      <td>ev_2963297</td>\n",
       "      <td>True</td>\n",
       "    </tr>\n",
       "    <tr>\n",
       "      <th>1382</th>\n",
       "      <td>09 - Smeaton300: Moon Palace East Leeds Observ...</td>\n",
       "      <td>ev_2918127</td>\n",
       "      <td>True</td>\n",
       "    </tr>\n",
       "    <tr>\n",
       "      <th>1462</th>\n",
       "      <td>Creative Learning S3</td>\n",
       "      <td>ev_3073624</td>\n",
       "      <td>False</td>\n",
       "    </tr>\n",
       "  </tbody>\n",
       "</table>\n",
       "</div>"
      ],
      "text/plain": [
       "                                           project_name ticket_tailor_id  \\\n",
       "117                                 11 - All That Lives           985872   \n",
       "134   09 - Smeaton300: Moon Palace East Leeds Observ...       ev_2918127   \n",
       "159                                 11 - All That Lives           985872   \n",
       "251                                Creative Learning S3       ev_3073624   \n",
       "309                                 11 - All That Lives           985872   \n",
       "608                                 11 - All That Lives           985872   \n",
       "887                                 07 - Children's Day       ev_2963290   \n",
       "887                                 07 - Children's Day       ev_2963290   \n",
       "887                                 07 - Children's Day       ev_2963295   \n",
       "887                                 07 - Children's Day       ev_2963297   \n",
       "887                                 07 - Children's Day       ev_2963295   \n",
       "887                                 07 - Children's Day       ev_2963296   \n",
       "887                                 07 - Children's Day       ev_2963296   \n",
       "887                                 07 - Children's Day       ev_2963297   \n",
       "928                                 11 - All That Lives           985872   \n",
       "1094  09 - Smeaton300: Moon Palace East Leeds Observ...       ev_2918127   \n",
       "1364                                07 - Children's Day       ev_2963290   \n",
       "1364                                07 - Children's Day       ev_2963295   \n",
       "1364                                07 - Children's Day       ev_2963296   \n",
       "1364                                07 - Children's Day       ev_2963297   \n",
       "1382  09 - Smeaton300: Moon Palace East Leeds Observ...       ev_2918127   \n",
       "1462                               Creative Learning S3       ev_3073624   \n",
       "\n",
       "     public_event  \n",
       "117          True  \n",
       "134          True  \n",
       "159          True  \n",
       "251         False  \n",
       "309          True  \n",
       "608          True  \n",
       "887           NaN  \n",
       "887           NaN  \n",
       "887           NaN  \n",
       "887           NaN  \n",
       "887           NaN  \n",
       "887           NaN  \n",
       "887           NaN  \n",
       "887           NaN  \n",
       "928          True  \n",
       "1094         True  \n",
       "1364         True  \n",
       "1364         True  \n",
       "1364         True  \n",
       "1364         True  \n",
       "1382         True  \n",
       "1462        False  "
      ]
     },
     "execution_count": 8,
     "metadata": {},
     "output_type": "execute_result"
    }
   ],
   "source": [
    "events[\n",
    "  events.ticket_tailor_id.isin(\n",
    "    events.ticket_tailor_id[\n",
    "      events.ticket_tailor_id.duplicated()\n",
    "    ].to_list()\n",
    "  )\n",
    "]"
   ]
  },
  {
   "cell_type": "code",
   "execution_count": 9,
   "id": "16d41dcf",
   "metadata": {
    "execution": {
     "iopub.execute_input": "2023-12-17T23:39:17.140732Z",
     "iopub.status.busy": "2023-12-17T23:39:17.140186Z",
     "iopub.status.idle": "2023-12-17T23:39:17.144232Z",
     "shell.execute_reply": "2023-12-17T23:39:17.143622Z"
    },
    "papermill": {
     "duration": 0.008844,
     "end_time": "2023-12-17T23:39:17.145587",
     "exception": false,
     "start_time": "2023-12-17T23:39:17.136743",
     "status": "completed"
    },
    "tags": []
   },
   "outputs": [
    {
     "data": {
      "text/plain": [
       "6516"
      ]
     },
     "execution_count": 9,
     "metadata": {},
     "output_type": "execute_result"
    }
   ],
   "source": [
    "len(completed_orders)"
   ]
  },
  {
   "cell_type": "code",
   "execution_count": 10,
   "id": "6df88bca",
   "metadata": {
    "execution": {
     "iopub.execute_input": "2023-12-17T23:39:17.152433Z",
     "iopub.status.busy": "2023-12-17T23:39:17.152139Z",
     "iopub.status.idle": "2023-12-17T23:39:17.159017Z",
     "shell.execute_reply": "2023-12-17T23:39:17.158420Z"
    },
    "papermill": {
     "duration": 0.011845,
     "end_time": "2023-12-17T23:39:17.160394",
     "exception": false,
     "start_time": "2023-12-17T23:39:17.148549",
     "status": "completed"
    },
    "tags": []
   },
   "outputs": [],
   "source": [
    "completed_orders = completed_orders.merge(\n",
    "    events.drop_duplicates().set_index('ticket_tailor_id'),\n",
    "    left_on='event_id',\n",
    "    right_index=True,\n",
    "    how='left'\n",
    ")"
   ]
  },
  {
   "cell_type": "code",
   "execution_count": 11,
   "id": "1bb10bcd",
   "metadata": {
    "execution": {
     "iopub.execute_input": "2023-12-17T23:39:17.167461Z",
     "iopub.status.busy": "2023-12-17T23:39:17.166905Z",
     "iopub.status.idle": "2023-12-17T23:39:17.171000Z",
     "shell.execute_reply": "2023-12-17T23:39:17.170392Z"
    },
    "papermill": {
     "duration": 0.009075,
     "end_time": "2023-12-17T23:39:17.172458",
     "exception": false,
     "start_time": "2023-12-17T23:39:17.163383",
     "status": "completed"
    },
    "tags": []
   },
   "outputs": [
    {
     "data": {
      "text/plain": [
       "6524"
      ]
     },
     "execution_count": 11,
     "metadata": {},
     "output_type": "execute_result"
    }
   ],
   "source": [
    "len(completed_orders)"
   ]
  },
  {
   "cell_type": "code",
   "execution_count": 12,
   "id": "ea9b1c6f",
   "metadata": {
    "execution": {
     "iopub.execute_input": "2023-12-17T23:39:17.179738Z",
     "iopub.status.busy": "2023-12-17T23:39:17.179277Z",
     "iopub.status.idle": "2023-12-17T23:39:17.182487Z",
     "shell.execute_reply": "2023-12-17T23:39:17.181873Z"
    },
    "papermill": {
     "duration": 0.008244,
     "end_time": "2023-12-17T23:39:17.183783",
     "exception": false,
     "start_time": "2023-12-17T23:39:17.175539",
     "status": "completed"
    },
    "tags": []
   },
   "outputs": [],
   "source": [
    "OUTPUT_DIR = TOP_DIR.joinpath('data/metrics/events/tickets/')\n",
    "OUTPUT_DIR.mkdir(parents=True, exist_ok=True)"
   ]
  },
  {
   "cell_type": "code",
   "execution_count": 13,
   "id": "a0148d80",
   "metadata": {
    "execution": {
     "iopub.execute_input": "2023-12-17T23:39:17.191129Z",
     "iopub.status.busy": "2023-12-17T23:39:17.190766Z",
     "iopub.status.idle": "2023-12-17T23:39:17.216484Z",
     "shell.execute_reply": "2023-12-17T23:39:17.215834Z"
    },
    "papermill": {
     "duration": 0.03074,
     "end_time": "2023-12-17T23:39:17.217801",
     "exception": false,
     "start_time": "2023-12-17T23:39:17.187061",
     "status": "completed"
    },
    "tags": []
   },
   "outputs": [],
   "source": [
    "completed_orders.loc[:, [\n",
    "    'created_at',\n",
    "    'event_id',\n",
    "    'event_date',\n",
    "    'number_of_tickets',\n",
    "    'ward_code',\n",
    "    'project_name',\n",
    "    'public_event',\n",
    "]].sort_values(['created_at', 'event_id']).to_csv(\n",
    "  OUTPUT_DIR.joinpath('orders.csv'),\n",
    "  index=False\n",
    ")"
   ]
  },
  {
   "cell_type": "code",
   "execution_count": 14,
   "id": "34e5ea22",
   "metadata": {
    "execution": {
     "iopub.execute_input": "2023-12-17T23:39:17.225344Z",
     "iopub.status.busy": "2023-12-17T23:39:17.224827Z",
     "iopub.status.idle": "2023-12-17T23:39:17.233522Z",
     "shell.execute_reply": "2023-12-17T23:39:17.233020Z"
    },
    "papermill": {
     "duration": 0.013716,
     "end_time": "2023-12-17T23:39:17.234812",
     "exception": false,
     "start_time": "2023-12-17T23:39:17.221096",
     "status": "completed"
    },
    "tags": []
   },
   "outputs": [],
   "source": [
    "(\n",
    "    completed_orders.loc[:, ['event_date', 'event_time', 'event_name', 'event_id', 'project_name', 'public_event']]\n",
    "      .drop_duplicates()\n",
    "      .sort_values(['event_date', 'event_time'])\n",
    "      .to_csv('../../../../data/metrics/events/tickets/events.csv', index=False)\n",
    ")"
   ]
  },
  {
   "cell_type": "code",
   "execution_count": 15,
   "id": "15934ea5",
   "metadata": {
    "execution": {
     "iopub.execute_input": "2023-12-17T23:39:17.242029Z",
     "iopub.status.busy": "2023-12-17T23:39:17.241676Z",
     "iopub.status.idle": "2023-12-17T23:39:17.939209Z",
     "shell.execute_reply": "2023-12-17T23:39:17.938558Z"
    },
    "papermill": {
     "duration": 0.702609,
     "end_time": "2023-12-17T23:39:17.940601",
     "exception": false,
     "start_time": "2023-12-17T23:39:17.237992",
     "status": "completed"
    },
    "tags": []
   },
   "outputs": [
    {
     "data": {
      "image/png": "[encoded data removed]",
      "text/plain": [
       "<Figure size 640x480 with 1 Axes>"
      ]
     },
     "metadata": {},
     "output_type": "display_data"
    }
   ],
   "source": [
    "chart = completed_orders.groupby(['project_name']).number_of_tickets.sum().sort_values().plot.barh()"
   ]
  },
  {
   "cell_type": "code",
   "execution_count": 16,
   "id": "ebc8ab00",
   "metadata": {
    "execution": {
     "iopub.execute_input": "2023-12-17T23:39:17.949586Z",
     "iopub.status.busy": "2023-12-17T23:39:17.949046Z",
     "iopub.status.idle": "2023-12-17T23:39:18.120718Z",
     "shell.execute_reply": "2023-12-17T23:39:18.120075Z"
    },
    "papermill": {
     "duration": 0.177412,
     "end_time": "2023-12-17T23:39:18.121991",
     "exception": false,
     "start_time": "2023-12-17T23:39:17.944579",
     "status": "completed"
    },
    "tags": []
   },
   "outputs": [
    {
     "data": {
      "image/png": "[encoded data removed]",
      "text/plain": [
       "<Figure size 640x480 with 1 Axes>"
      ]
     },
     "metadata": {},
     "output_type": "display_data"
    }
   ],
   "source": [
    "chart = completed_orders.groupby([\n",
    "    'event_date'\n",
    "    ]).number_of_tickets.sum().resample('M').sum().cumsum().plot.bar()"
   ]
  },
  {
   "cell_type": "code",
   "execution_count": null,
   "id": "81cefadc",
   "metadata": {
    "papermill": {
     "duration": 0.003989,
     "end_time": "2023-12-17T23:39:18.130107",
     "exception": false,
     "start_time": "2023-12-17T23:39:18.126118",
     "status": "completed"
    },
    "tags": []
   },
   "outputs": [],
   "source": []
  }
 ],
 "metadata": {
  "kernelspec": {
   "display_name": "leeds-2023-YZF5GfJv",
   "language": "python",
   "name": "python3"
  },
  "language_info": {
   "codemirror_mode": {
    "name": "ipython",
    "version": 3
   },
   "file_extension": ".py",
   "mimetype": "text/x-python",
   "name": "python",
   "nbconvert_exporter": "python",
   "pygments_lexer": "ipython3",
   "version": "3.10.13"
  },
  "papermill": {
   "default_parameters": {},
   "duration": 10.966718,
   "end_time": "2023-12-17T23:39:18.450359",
   "environment_variables": {},
   "exception": null,
   "input_path": "tickets.ipynb",
   "output_path": "../../../../working/output/tickets-transform.ipynb",
   "parameters": {},
   "start_time": "2023-12-17T23:39:07.483641",
   "version": "2.4.0"
  }
 },
 "nbformat": 4,
 "nbformat_minor": 5
}