{
 "cells": [
  {
   "cell_type": "code",
   "execution_count": 1,
   "id": "371153fc",
   "metadata": {
    "execution": {
     "iopub.execute_input": "2024-01-23T11:52:49.811042Z",
     "iopub.status.busy": "2024-01-23T11:52:49.810721Z",
     "iopub.status.idle": "2024-01-23T11:52:55.177218Z",
     "shell.execute_reply": "2024-01-23T11:52:55.176842Z"
    },
    "papermill": {
     "duration": 5.369886,
     "end_time": "2024-01-23T11:52:55.178202",
     "exception": false,
     "start_time": "2024-01-23T11:52:49.808316",
     "status": "completed"
    },
    "tags": []
   },
   "outputs": [],
   "source": [
    "import os\n",
    "import pandas as pd\n",
    "from events import load_event_data, get_first_ward, normalise_ward"
   ]
  },
  {
   "cell_type": "code",
   "execution_count": 2,
   "id": "d82e66e5",
   "metadata": {
    "execution": {
     "iopub.execute_input": "2024-01-23T11:52:55.181582Z",
     "iopub.status.busy": "2024-01-23T11:52:55.181418Z",
     "iopub.status.idle": "2024-01-23T11:52:55.183653Z",
     "shell.execute_reply": "2024-01-23T11:52:55.183357Z"
    },
    "papermill": {
     "duration": 0.004659,
     "end_time": "2024-01-23T11:52:55.184336",
     "exception": false,
     "start_time": "2024-01-23T11:52:55.179677",
     "status": "completed"
    },
    "tags": []
   },
   "outputs": [],
   "source": [
    "latest_date = pd.Timestamp.today().ceil('D')"
   ]
  },
  {
   "cell_type": "code",
   "execution_count": 3,
   "id": "f78aedb3",
   "metadata": {
    "execution": {
     "iopub.execute_input": "2024-01-23T11:52:55.187547Z",
     "iopub.status.busy": "2024-01-23T11:52:55.187387Z",
     "iopub.status.idle": "2024-01-23T11:52:55.199467Z",
     "shell.execute_reply": "2024-01-23T11:52:55.199152Z"
    },
    "papermill": {
     "duration": 0.014664,
     "end_time": "2024-01-23T11:52:55.200302",
     "exception": false,
     "start_time": "2024-01-23T11:52:55.185638",
     "status": "completed"
    },
    "tags": []
   },
   "outputs": [],
   "source": [
    "tickets = pd.read_csv('../../../../data/metrics/events/tickets/orders.csv', parse_dates=['created_at', 'event_date'])\n",
    "tickets = tickets[tickets.event_date <= latest_date]"
   ]
  },
  {
   "cell_type": "code",
   "execution_count": 4,
   "id": "3595be9e",
   "metadata": {
    "execution": {
     "iopub.execute_input": "2024-01-23T11:52:55.203404Z",
     "iopub.status.busy": "2024-01-23T11:52:55.203243Z",
     "iopub.status.idle": "2024-01-23T11:52:55.205306Z",
     "shell.execute_reply": "2024-01-23T11:52:55.205000Z"
    },
    "papermill": {
     "duration": 0.004345,
     "end_time": "2024-01-23T11:52:55.205939",
     "exception": false,
     "start_time": "2024-01-23T11:52:55.201594",
     "status": "completed"
    },
    "tags": []
   },
   "outputs": [],
   "source": [
    "OUTPUT_DIR='../../../../docs/metrics/events/signature/_data/'\n",
    "os.makedirs(OUTPUT_DIR, exist_ok=True)"
   ]
  },
  {
   "cell_type": "code",
   "execution_count": 5,
   "id": "bbe13500",
   "metadata": {
    "execution": {
     "iopub.execute_input": "2024-01-23T11:52:55.208927Z",
     "iopub.status.busy": "2024-01-23T11:52:55.208789Z",
     "iopub.status.idle": "2024-01-23T11:52:55.239455Z",
     "shell.execute_reply": "2024-01-23T11:52:55.239022Z"
    },
    "papermill": {
     "duration": 0.033223,
     "end_time": "2024-01-23T11:52:55.240376",
     "exception": false,
     "start_time": "2024-01-23T11:52:55.207153",
     "status": "completed"
    },
    "tags": []
   },
   "outputs": [],
   "source": [
    "events = load_event_data()\n",
    "\n",
    "events = pd.concat([\n",
    "  events,\n",
    "  events.pipe(get_first_ward).pipe(normalise_ward).fillna('UNKNOWN'),\n",
    "  pd.Series(\n",
    "      events.actual_audience_size_number_of_participants_in_person + events.actual_audience_size_number_of_participants_online,\n",
    "      name='attendances'\n",
    "  )\n",
    "], axis=1).rename(columns={\n",
    "    'start_date': 'date'\n",
    "}).loc[:, ['ward_code', 'date', 'event_unique_identifier', 'attendances', 'actual_audience_size_number_of_participants_in_person', 'actual_audience_size_number_of_participants_online' ]]\n"
   ]
  },
  {
   "cell_type": "code",
   "execution_count": 6,
   "id": "a459dbe6",
   "metadata": {
    "execution": {
     "iopub.execute_input": "2024-01-23T11:52:55.243622Z",
     "iopub.status.busy": "2024-01-23T11:52:55.243448Z",
     "iopub.status.idle": "2024-01-23T11:52:55.246089Z",
     "shell.execute_reply": "2024-01-23T11:52:55.245793Z"
    },
    "papermill": {
     "duration": 0.005081,
     "end_time": "2024-01-23T11:52:55.246789",
     "exception": false,
     "start_time": "2024-01-23T11:52:55.241708",
     "status": "completed"
    },
    "tags": []
   },
   "outputs": [
    {
     "name": "stdout",
     "output_type": "stream",
     "text": [
      "129954.0\n"
     ]
    }
   ],
   "source": [
    "print(events.actual_audience_size_number_of_participants_in_person.sum())"
   ]
  },
  {
   "cell_type": "markdown",
   "id": "e8357652",
   "metadata": {
    "papermill": {
     "duration": 0.001233,
     "end_time": "2024-01-23T11:52:55.249337",
     "exception": false,
     "start_time": "2024-01-23T11:52:55.248104",
     "status": "completed"
    },
    "tags": []
   },
   "source": [
    "Events CSVs"
   ]
  },
  {
   "cell_type": "code",
   "execution_count": 7,
   "id": "2d976c45",
   "metadata": {
    "execution": {
     "iopub.execute_input": "2024-01-23T11:52:55.252461Z",
     "iopub.status.busy": "2024-01-23T11:52:55.252215Z",
     "iopub.status.idle": "2024-01-23T11:52:55.256788Z",
     "shell.execute_reply": "2024-01-23T11:52:55.256466Z"
    },
    "papermill": {
     "duration": 0.00698,
     "end_time": "2024-01-23T11:52:55.257565",
     "exception": false,
     "start_time": "2024-01-23T11:52:55.250585",
     "status": "completed"
    },
    "tags": []
   },
   "outputs": [],
   "source": [
    "pd.DataFrame({\n",
    "  'events': events.groupby('ward_code').event_unique_identifier.count(),\n",
    "  'in_person': events.groupby('ward_code').actual_audience_size_number_of_participants_in_person.sum().astype(int),\n",
    "  'online': events.groupby('ward_code').actual_audience_size_number_of_participants_online.sum().astype(int),\n",
    "}).to_csv(os.path.join(OUTPUT_DIR, 'events_by_ward.csv'))\n"
   ]
  },
  {
   "cell_type": "code",
   "execution_count": 8,
   "id": "000b8d32",
   "metadata": {
    "execution": {
     "iopub.execute_input": "2024-01-23T11:52:55.260882Z",
     "iopub.status.busy": "2024-01-23T11:52:55.260723Z",
     "iopub.status.idle": "2024-01-23T11:52:55.266149Z",
     "shell.execute_reply": "2024-01-23T11:52:55.265828Z"
    },
    "papermill": {
     "duration": 0.007963,
     "end_time": "2024-01-23T11:52:55.266904",
     "exception": false,
     "start_time": "2024-01-23T11:52:55.258941",
     "status": "completed"
    },
    "tags": []
   },
   "outputs": [],
   "source": [
    "pd.DataFrame({\n",
    "  'events': events.groupby('date').event_unique_identifier.count(),\n",
    "  'attendances': events.groupby('date').attendances.sum().astype(int),\n",
    "}).resample('M').sum().cumsum().astype(int).to_csv(os.path.join(OUTPUT_DIR, 'events_by_date.csv'))"
   ]
  },
  {
   "cell_type": "markdown",
   "id": "262ccf7e",
   "metadata": {
    "papermill": {
     "duration": 0.001806,
     "end_time": "2024-01-23T11:52:55.270136",
     "exception": false,
     "start_time": "2024-01-23T11:52:55.268330",
     "status": "completed"
    },
    "tags": []
   },
   "source": [
    "Tickets CSV"
   ]
  },
  {
   "cell_type": "code",
   "execution_count": 9,
   "id": "f7d50062",
   "metadata": {
    "execution": {
     "iopub.execute_input": "2024-01-23T11:52:55.273301Z",
     "iopub.status.busy": "2024-01-23T11:52:55.273137Z",
     "iopub.status.idle": "2024-01-23T11:52:55.277461Z",
     "shell.execute_reply": "2024-01-23T11:52:55.277170Z"
    },
    "papermill": {
     "duration": 0.006725,
     "end_time": "2024-01-23T11:52:55.278145",
     "exception": false,
     "start_time": "2024-01-23T11:52:55.271420",
     "status": "completed"
    },
    "tags": []
   },
   "outputs": [],
   "source": [
    "pd.DataFrame({\n",
    "  'orders': tickets.groupby('ward_code').number_of_tickets.count(),\n",
    "  'tickets': tickets.groupby('ward_code').number_of_tickets.sum().astype(int),\n",
    "}).to_csv(os.path.join(OUTPUT_DIR, 'tickets_by_ward.csv'))"
   ]
  },
  {
   "cell_type": "code",
   "execution_count": null,
   "id": "553bec41",
   "metadata": {
    "papermill": {
     "duration": 0.001307,
     "end_time": "2024-01-23T11:52:55.280834",
     "exception": false,
     "start_time": "2024-01-23T11:52:55.279527",
     "status": "completed"
    },
    "tags": []
   },
   "outputs": [],
   "source": []
  },
  {
   "cell_type": "code",
   "execution_count": 10,
   "id": "50b8039b",
   "metadata": {
    "execution": {
     "iopub.execute_input": "2024-01-23T11:52:55.284199Z",
     "iopub.status.busy": "2024-01-23T11:52:55.284044Z",
     "iopub.status.idle": "2024-01-23T11:52:55.289069Z",
     "shell.execute_reply": "2024-01-23T11:52:55.288724Z"
    },
    "papermill": {
     "duration": 0.007547,
     "end_time": "2024-01-23T11:52:55.289794",
     "exception": false,
     "start_time": "2024-01-23T11:52:55.282247",
     "status": "completed"
    },
    "tags": []
   },
   "outputs": [],
   "source": [
    "pd.DataFrame({\n",
    "  'orders': tickets.groupby('event_date').number_of_tickets.count(),\n",
    "  'tickets': tickets.groupby('event_date').number_of_tickets.sum().astype(int),\n",
    "}).resample('M').sum().cumsum().to_csv(os.path.join(OUTPUT_DIR, 'tickets_by_event_date.csv'))"
   ]
  },
  {
   "cell_type": "code",
   "execution_count": 11,
   "id": "bea1d853",
   "metadata": {
    "execution": {
     "iopub.execute_input": "2024-01-23T11:52:55.293212Z",
     "iopub.status.busy": "2024-01-23T11:52:55.293067Z",
     "iopub.status.idle": "2024-01-23T11:52:55.296432Z",
     "shell.execute_reply": "2024-01-23T11:52:55.296130Z"
    },
    "papermill": {
     "duration": 0.005891,
     "end_time": "2024-01-23T11:52:55.297105",
     "exception": false,
     "start_time": "2024-01-23T11:52:55.291214",
     "status": "completed"
    },
    "tags": []
   },
   "outputs": [],
   "source": [
    "pd.Series({\n",
    "    'total_events': events.event_unique_identifier.count(),\n",
    "    'total_in_person_attendances': events.actual_audience_size_number_of_participants_in_person.sum().astype(int),\n",
    "    'total_online_attendances': events.actual_audience_size_number_of_participants_online.sum().astype(int),\n",
    "    'first_event': events.date.min(),\n",
    "    'latest_event': events.date.max(),\n",
    "    'total_ticket_orders_for_events_to_date': tickets.number_of_tickets.count(),\n",
    "    'total_tickets_sold_for_events_to_date': tickets.number_of_tickets.sum(),\n",
    "}).to_json(os.path.join(OUTPUT_DIR, 'headlines.json'), indent=2)"
   ]
  },
  {
   "cell_type": "code",
   "execution_count": 12,
   "id": "c83d1d3b",
   "metadata": {
    "execution": {
     "iopub.execute_input": "2024-01-23T11:52:55.300577Z",
     "iopub.status.busy": "2024-01-23T11:52:55.300341Z",
     "iopub.status.idle": "2024-01-23T11:52:55.303276Z",
     "shell.execute_reply": "2024-01-23T11:52:55.302946Z"
    },
    "papermill": {
     "duration": 0.005501,
     "end_time": "2024-01-23T11:52:55.304008",
     "exception": false,
     "start_time": "2024-01-23T11:52:55.298507",
     "status": "completed"
    },
    "tags": []
   },
   "outputs": [
    {
     "name": "stdout",
     "output_type": "stream",
     "text": [
      "2      NaN\n",
      "3      NaN\n",
      "4      NaN\n",
      "5      NaN\n",
      "6      NaN\n",
      "        ..\n",
      "1218   NaN\n",
      "1219   NaN\n",
      "1220   NaN\n",
      "1221   NaN\n",
      "1222   NaN\n",
      "Name: attendances, Length: 745, dtype: float64\n"
     ]
    }
   ],
   "source": [
    "print(events.attendances)"
   ]
  },
  {
   "cell_type": "code",
   "execution_count": null,
   "id": "99389512",
   "metadata": {
    "papermill": {
     "duration": 0.001368,
     "end_time": "2024-01-23T11:52:55.306814",
     "exception": false,
     "start_time": "2024-01-23T11:52:55.305446",
     "status": "completed"
    },
    "tags": []
   },
   "outputs": [],
   "source": []
  }
 ],
 "metadata": {
  "kernelspec": {
   "display_name": "leeds-2023-YZF5GfJv",
   "language": "python",
   "name": "python3"
  },
  "language_info": {
   "codemirror_mode": {
    "name": "ipython",
    "version": 3
   },
   "file_extension": ".py",
   "mimetype": "text/x-python",
   "name": "python",
   "nbconvert_exporter": "python",
   "pygments_lexer": "ipython3",
   "version": "3.10.12"
  },
  "papermill": {
   "default_parameters": {},
   "duration": 6.540954,
   "end_time": "2024-01-23T11:52:55.623384",
   "environment_variables": {},
   "exception": null,
   "input_path": "prepare.ipynb",
   "output_path": "../../../../working/output/signature-prepare.ipynb",
   "parameters": {},
   "start_time": "2024-01-23T11:52:49.082430",
   "version": "2.4.0"
  }
 },
 "nbformat": 4,
 "nbformat_minor": 5
}