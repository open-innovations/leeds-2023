{
 "cells": [
  {
   "cell_type": "code",
   "execution_count": 1,
   "id": "55ba9601",
   "metadata": {
    "execution": {
     "iopub.execute_input": "2023-11-19T23:37:10.745171Z",
     "iopub.status.busy": "2023-11-19T23:37:10.744962Z",
     "iopub.status.idle": "2023-11-19T23:37:10.986838Z",
     "shell.execute_reply": "2023-11-19T23:37:10.986254Z"
    },
    "papermill": {
     "duration": 0.247218,
     "end_time": "2023-11-19T23:37:10.988429",
     "exception": false,
     "start_time": "2023-11-19T23:37:10.741211",
     "status": "completed"
    },
    "tags": []
   },
   "outputs": [],
   "source": [
    "import os\n",
    "import sys\n",
    "import pandas as pd\n",
    "lib_dir = os.path.realpath('../../../lib/')\n",
    "if lib_dir not in sys.path: sys.path.append(lib_dir)"
   ]
  },
  {
   "cell_type": "code",
   "execution_count": 2,
   "id": "1da533da",
   "metadata": {
    "execution": {
     "iopub.execute_input": "2023-11-19T23:37:10.994341Z",
     "iopub.status.busy": "2023-11-19T23:37:10.993820Z",
     "iopub.status.idle": "2023-11-19T23:37:18.139413Z",
     "shell.execute_reply": "2023-11-19T23:37:18.138777Z"
    },
    "papermill": {
     "duration": 7.150016,
     "end_time": "2023-11-19T23:37:18.141002",
     "exception": false,
     "start_time": "2023-11-19T23:37:10.990986",
     "status": "completed"
    },
    "tags": []
   },
   "outputs": [],
   "source": [
    "import util.geo"
   ]
  },
  {
   "cell_type": "code",
   "execution_count": 3,
   "id": "18f54e7c",
   "metadata": {
    "execution": {
     "iopub.execute_input": "2023-11-19T23:37:18.146780Z",
     "iopub.status.busy": "2023-11-19T23:37:18.146396Z",
     "iopub.status.idle": "2023-11-19T23:37:18.149515Z",
     "shell.execute_reply": "2023-11-19T23:37:18.148948Z"
    },
    "papermill": {
     "duration": 0.007379,
     "end_time": "2023-11-19T23:37:18.150864",
     "exception": false,
     "start_time": "2023-11-19T23:37:18.143485",
     "status": "completed"
    },
    "tags": []
   },
   "outputs": [],
   "source": [
    "EVENTS_RAW_DATA = '../../../working/metrics/partner-events/events.csv'\n",
    "DATA_DIR = '../../../data/metrics/events/partner-events/'\n",
    "EVENTS_DATA = os.path.join(DATA_DIR, 'events.csv')"
   ]
  },
  {
   "cell_type": "code",
   "execution_count": 4,
   "id": "a5c258e4",
   "metadata": {
    "execution": {
     "iopub.execute_input": "2023-11-19T23:37:18.156223Z",
     "iopub.status.busy": "2023-11-19T23:37:18.155780Z",
     "iopub.status.idle": "2023-11-19T23:37:18.159070Z",
     "shell.execute_reply": "2023-11-19T23:37:18.158523Z"
    },
    "papermill": {
     "duration": 0.007245,
     "end_time": "2023-11-19T23:37:18.160287",
     "exception": false,
     "start_time": "2023-11-19T23:37:18.153042",
     "status": "completed"
    },
    "tags": []
   },
   "outputs": [],
   "source": [
    "columns = {\n",
    "    'Event Name': 'name',\n",
    "    'Event Start Date': 'start_date',\n",
    "    'Event End Date': 'end_date',\n",
    "    'Partner/Promote': 'partner_promote',\n",
    "    'Stage': 'stage',\n",
    "    'Live date': 'live_date',\n",
    "    'Venue postcode': 'postcode',\n",
    "    'Pricing Policy': 'pricing',\n",
    "    'Venue - including address': 'venue',\n",
    "    'Is this event on Leeds Inspried?': 'on_leeds_inspired',\n",
    "}"
   ]
  },
  {
   "cell_type": "markdown",
   "id": "03ca12eb",
   "metadata": {
    "papermill": {
     "duration": 0.002128,
     "end_time": "2023-11-19T23:37:18.164595",
     "exception": false,
     "start_time": "2023-11-19T23:37:18.162467",
     "status": "completed"
    },
    "tags": []
   },
   "source": [
    "Load the data and rename columns. Parse the dates to dates."
   ]
  },
  {
   "cell_type": "code",
   "execution_count": 5,
   "id": "8e74f059",
   "metadata": {
    "execution": {
     "iopub.execute_input": "2023-11-19T23:37:18.170027Z",
     "iopub.status.busy": "2023-11-19T23:37:18.169479Z",
     "iopub.status.idle": "2023-11-19T23:37:18.178545Z",
     "shell.execute_reply": "2023-11-19T23:37:18.178013Z"
    },
    "papermill": {
     "duration": 0.01309,
     "end_time": "2023-11-19T23:37:18.179838",
     "exception": false,
     "start_time": "2023-11-19T23:37:18.166748",
     "status": "completed"
    },
    "tags": []
   },
   "outputs": [],
   "source": [
    "data = pd.read_csv(EVENTS_RAW_DATA)[columns.keys()].rename(columns=columns)\n",
    "data.start_date = pd.to_datetime(data.start_date, errors='coerce')\n",
    "data.end_date = pd.to_datetime(data.end_date, errors='coerce')"
   ]
  },
  {
   "cell_type": "markdown",
   "id": "f98a0690",
   "metadata": {
    "papermill": {
     "duration": 0.002158,
     "end_time": "2023-11-19T23:37:18.184198",
     "exception": false,
     "start_time": "2023-11-19T23:37:18.182040",
     "status": "completed"
    },
    "tags": []
   },
   "source": [
    "Filter data by not LI Pull through and start date before now"
   ]
  },
  {
   "cell_type": "code",
   "execution_count": 6,
   "id": "ac585aa4",
   "metadata": {
    "execution": {
     "iopub.execute_input": "2023-11-19T23:37:18.190369Z",
     "iopub.status.busy": "2023-11-19T23:37:18.189981Z",
     "iopub.status.idle": "2023-11-19T23:37:18.194298Z",
     "shell.execute_reply": "2023-11-19T23:37:18.193692Z"
    },
    "papermill": {
     "duration": 0.008468,
     "end_time": "2023-11-19T23:37:18.195581",
     "exception": false,
     "start_time": "2023-11-19T23:37:18.187113",
     "status": "completed"
    },
    "tags": []
   },
   "outputs": [],
   "source": [
    "data = data[\n",
    "    # (data.live_date == 'This event is live ') &\n",
    "    ((data.stage != 'LI pull through') & data.stage.notna()) &\n",
    "    (data.start_date < pd.Timestamp.now())\n",
    "]"
   ]
  },
  {
   "cell_type": "code",
   "execution_count": 7,
   "id": "29315a1c",
   "metadata": {
    "execution": {
     "iopub.execute_input": "2023-11-19T23:37:18.201202Z",
     "iopub.status.busy": "2023-11-19T23:37:18.200654Z",
     "iopub.status.idle": "2023-11-19T23:37:19.073209Z",
     "shell.execute_reply": "2023-11-19T23:37:19.072564Z"
    },
    "papermill": {
     "duration": 0.877113,
     "end_time": "2023-11-19T23:37:19.074911",
     "exception": false,
     "start_time": "2023-11-19T23:37:18.197798",
     "status": "completed"
    },
    "tags": []
   },
   "outputs": [],
   "source": [
    "data['ward_code'] = data.postcode.pipe(util.geo.postcode_formatter).map(util.geo.postcode_to_ward_code)\n",
    "data['ward_name'] = data.ward_code.pipe(util.geo.ward_code_to_name)"
   ]
  },
  {
   "cell_type": "markdown",
   "id": "342f822d",
   "metadata": {
    "papermill": {
     "duration": 0.002481,
     "end_time": "2023-11-19T23:37:19.079991",
     "exception": false,
     "start_time": "2023-11-19T23:37:19.077510",
     "status": "completed"
    },
    "tags": []
   },
   "source": [
    "Save the file"
   ]
  },
  {
   "cell_type": "code",
   "execution_count": 8,
   "id": "747df335",
   "metadata": {
    "execution": {
     "iopub.execute_input": "2023-11-19T23:37:19.085680Z",
     "iopub.status.busy": "2023-11-19T23:37:19.085212Z",
     "iopub.status.idle": "2023-11-19T23:37:19.091640Z",
     "shell.execute_reply": "2023-11-19T23:37:19.091140Z"
    },
    "papermill": {
     "duration": 0.010688,
     "end_time": "2023-11-19T23:37:19.092923",
     "exception": false,
     "start_time": "2023-11-19T23:37:19.082235",
     "status": "completed"
    },
    "tags": []
   },
   "outputs": [],
   "source": [
    "data[\n",
    "    ['name','start_date','end_date','ward_code']\n",
    "].to_csv(EVENTS_DATA, index=False)"
   ]
  },
  {
   "cell_type": "markdown",
   "id": "6344326b",
   "metadata": {
    "papermill": {
     "duration": 0.002195,
     "end_time": "2023-11-19T23:37:19.097414",
     "exception": false,
     "start_time": "2023-11-19T23:37:19.095219",
     "status": "completed"
    },
    "tags": []
   },
   "source": [
    "Print out missing postcode data"
   ]
  },
  {
   "cell_type": "code",
   "execution_count": 9,
   "id": "97387902",
   "metadata": {
    "execution": {
     "iopub.execute_input": "2023-11-19T23:37:19.103086Z",
     "iopub.status.busy": "2023-11-19T23:37:19.102636Z",
     "iopub.status.idle": "2023-11-19T23:37:19.114532Z",
     "shell.execute_reply": "2023-11-19T23:37:19.113899Z"
    },
    "papermill": {
     "duration": 0.016107,
     "end_time": "2023-11-19T23:37:19.115828",
     "exception": false,
     "start_time": "2023-11-19T23:37:19.099721",
     "status": "completed"
    },
    "tags": []
   },
   "outputs": [
    {
     "data": {
      "text/html": [
       "<div>\n",
       "<style scoped>\n",
       "    .dataframe tbody tr th:only-of-type {\n",
       "        vertical-align: middle;\n",
       "    }\n",
       "\n",
       "    .dataframe tbody tr th {\n",
       "        vertical-align: top;\n",
       "    }\n",
       "\n",
       "    .dataframe thead th {\n",
       "        text-align: right;\n",
       "    }\n",
       "</style>\n",
       "<table border=\"1\" class=\"dataframe\">\n",
       "  <thead>\n",
       "    <tr style=\"text-align: right;\">\n",
       "      <th></th>\n",
       "      <th>name</th>\n",
       "      <th>start_date</th>\n",
       "    </tr>\n",
       "  </thead>\n",
       "  <tbody>\n",
       "    <tr>\n",
       "      <th>1</th>\n",
       "      <td>East Street Arts, A City Less Grey 2022</td>\n",
       "      <td>2022-10-08</td>\n",
       "    </tr>\n",
       "    <tr>\n",
       "      <th>3</th>\n",
       "      <td>Phoenix Dance Theatre Virtual Gallery</td>\n",
       "      <td>2023-01-01</td>\n",
       "    </tr>\n",
       "    <tr>\n",
       "      <th>4</th>\n",
       "      <td>The Big Art Giveaway, School of Creative Arts ...</td>\n",
       "      <td>2023-01-01</td>\n",
       "    </tr>\n",
       "    <tr>\n",
       "      <th>5</th>\n",
       "      <td>Embassy of Netherlands, Meet Leeds Lab</td>\n",
       "      <td>2023-01-16</td>\n",
       "    </tr>\n",
       "    <tr>\n",
       "      <th>6</th>\n",
       "      <td>Shifting Borders: A Journey to the Centre of o...</td>\n",
       "      <td>2023-01-24</td>\n",
       "    </tr>\n",
       "    <tr>\n",
       "      <th>...</th>\n",
       "      <td>...</td>\n",
       "      <td>...</td>\n",
       "    </tr>\n",
       "    <tr>\n",
       "      <th>296</th>\n",
       "      <td>Leeds Language Week: Sentidos y Sensaciones (S...</td>\n",
       "      <td>2023-11-16</td>\n",
       "    </tr>\n",
       "    <tr>\n",
       "      <th>297</th>\n",
       "      <td>Leeds Language Week: Where Will Languages Take...</td>\n",
       "      <td>2023-11-16</td>\n",
       "    </tr>\n",
       "    <tr>\n",
       "      <th>298</th>\n",
       "      <td>afrah shafiq: st.itch</td>\n",
       "      <td>2023-11-16</td>\n",
       "    </tr>\n",
       "    <tr>\n",
       "      <th>299</th>\n",
       "      <td>Leeds Language Week: Chinese Dance and Languag...</td>\n",
       "      <td>2023-11-19</td>\n",
       "    </tr>\n",
       "    <tr>\n",
       "      <th>300</th>\n",
       "      <td>Leeds Language Week: Taste of China</td>\n",
       "      <td>2023-11-19</td>\n",
       "    </tr>\n",
       "  </tbody>\n",
       "</table>\n",
       "<p>124 rows × 2 columns</p>\n",
       "</div>"
      ],
      "text/plain": [
       "                                                  name start_date\n",
       "1              East Street Arts, A City Less Grey 2022 2022-10-08\n",
       "3                Phoenix Dance Theatre Virtual Gallery 2023-01-01\n",
       "4    The Big Art Giveaway, School of Creative Arts ... 2023-01-01\n",
       "5               Embassy of Netherlands, Meet Leeds Lab 2023-01-16\n",
       "6    Shifting Borders: A Journey to the Centre of o... 2023-01-24\n",
       "..                                                 ...        ...\n",
       "296  Leeds Language Week: Sentidos y Sensaciones (S... 2023-11-16\n",
       "297  Leeds Language Week: Where Will Languages Take... 2023-11-16\n",
       "298                              afrah shafiq: st.itch 2023-11-16\n",
       "299  Leeds Language Week: Chinese Dance and Languag... 2023-11-19\n",
       "300                Leeds Language Week: Taste of China 2023-11-19\n",
       "\n",
       "[124 rows x 2 columns]"
      ]
     },
     "execution_count": 9,
     "metadata": {},
     "output_type": "execute_result"
    }
   ],
   "source": [
    "data[data.postcode.isna()][[\n",
    "    'name', 'start_date'\n",
    "]]"
   ]
  },
  {
   "cell_type": "markdown",
   "id": "9526d0ff",
   "metadata": {
    "papermill": {
     "duration": 0.002421,
     "end_time": "2023-11-19T23:37:19.120804",
     "exception": false,
     "start_time": "2023-11-19T23:37:19.118383",
     "status": "completed"
    },
    "tags": []
   },
   "source": [
    "Plot the pricing"
   ]
  },
  {
   "cell_type": "code",
   "execution_count": 10,
   "id": "cd4c87a1",
   "metadata": {
    "execution": {
     "iopub.execute_input": "2023-11-19T23:37:19.126651Z",
     "iopub.status.busy": "2023-11-19T23:37:19.126472Z",
     "iopub.status.idle": "2023-11-19T23:37:19.600792Z",
     "shell.execute_reply": "2023-11-19T23:37:19.600105Z"
    },
    "papermill": {
     "duration": 0.478977,
     "end_time": "2023-11-19T23:37:19.602306",
     "exception": false,
     "start_time": "2023-11-19T23:37:19.123329",
     "status": "completed"
    },
    "tags": []
   },
   "outputs": [
    {
     "data": {
      "image/png": "[encoded data removed]",
      "text/plain": [
       "<Figure size 640x480 with 1 Axes>"
      ]
     },
     "metadata": {},
     "output_type": "display_data"
    }
   ],
   "source": [
    "# .groupby('pricing').count().plot.barh()\n",
    "pricing = data.pricing.fillna('Unspecified').str.replace('[\\[\\'\\]]', '', regex=True).to_frame().reset_index().groupby('pricing').count()\n",
    "\n",
    "pricing.columns = ['count']\n",
    "plot = pricing.plot.barh()\n"
   ]
  },
  {
   "cell_type": "code",
   "execution_count": null,
   "id": "bdb02560",
   "metadata": {
    "papermill": {
     "duration": 0.002893,
     "end_time": "2023-11-19T23:37:19.608783",
     "exception": false,
     "start_time": "2023-11-19T23:37:19.605890",
     "status": "completed"
    },
    "tags": []
   },
   "outputs": [],
   "source": []
  }
 ],
 "metadata": {
  "kernelspec": {
   "display_name": "leeds-2023-YZF5GfJv",
   "language": "python",
   "name": "python3"
  },
  "language_info": {
   "codemirror_mode": {
    "name": "ipython",
    "version": 3
   },
   "file_extension": ".py",
   "mimetype": "text/x-python",
   "name": "python",
   "nbconvert_exporter": "python",
   "pygments_lexer": "ipython3",
   "version": "3.10.13"
  },
  "papermill": {
   "default_parameters": {},
   "duration": 10.435474,
   "end_time": "2023-11-19T23:37:19.929145",
   "environment_variables": {},
   "exception": null,
   "input_path": "transform.ipynb",
   "output_path": "../../../working/output/partner-events-transform.ipynb",
   "parameters": {},
   "start_time": "2023-11-19T23:37:09.493671",
   "version": "2.4.0"
  }
 },
 "nbformat": 4,
 "nbformat_minor": 5
}