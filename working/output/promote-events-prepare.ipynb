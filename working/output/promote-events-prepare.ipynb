{
 "cells": [
  {
   "cell_type": "code",
   "execution_count": 1,
   "id": "2d3afd04",
   "metadata": {
    "execution": {
     "iopub.execute_input": "2023-11-20T23:37:33.721875Z",
     "iopub.status.busy": "2023-11-20T23:37:33.721566Z",
     "iopub.status.idle": "2023-11-20T23:37:33.965176Z",
     "shell.execute_reply": "2023-11-20T23:37:33.964603Z"
    },
    "papermill": {
     "duration": 0.248165,
     "end_time": "2023-11-20T23:37:33.966767",
     "exception": false,
     "start_time": "2023-11-20T23:37:33.718602",
     "status": "completed"
    },
    "tags": []
   },
   "outputs": [],
   "source": [
    "import os\n",
    "import pandas as pd"
   ]
  },
  {
   "cell_type": "code",
   "execution_count": 2,
   "id": "acf7cc4a",
   "metadata": {
    "execution": {
     "iopub.execute_input": "2023-11-20T23:37:33.971227Z",
     "iopub.status.busy": "2023-11-20T23:37:33.970775Z",
     "iopub.status.idle": "2023-11-20T23:37:33.974149Z",
     "shell.execute_reply": "2023-11-20T23:37:33.973583Z"
    },
    "papermill": {
     "duration": 0.006848,
     "end_time": "2023-11-20T23:37:33.975371",
     "exception": false,
     "start_time": "2023-11-20T23:37:33.968523",
     "status": "completed"
    },
    "tags": []
   },
   "outputs": [],
   "source": [
    "DATA_DIR='../../../docs/metrics/events/promote/_data/'\n",
    "os.makedirs(DATA_DIR, exist_ok=True)"
   ]
  },
  {
   "cell_type": "code",
   "execution_count": 3,
   "id": "0669bd0f",
   "metadata": {
    "execution": {
     "iopub.execute_input": "2023-11-20T23:37:33.979105Z",
     "iopub.status.busy": "2023-11-20T23:37:33.978915Z",
     "iopub.status.idle": "2023-11-20T23:37:33.986256Z",
     "shell.execute_reply": "2023-11-20T23:37:33.985735Z"
    },
    "papermill": {
     "duration": 0.010652,
     "end_time": "2023-11-20T23:37:33.987478",
     "exception": false,
     "start_time": "2023-11-20T23:37:33.976826",
     "status": "completed"
    },
    "tags": []
   },
   "outputs": [],
   "source": [
    "data = pd.read_csv('../../../data/metrics/events/promote-events/events.csv', parse_dates=['time'])"
   ]
  },
  {
   "cell_type": "code",
   "execution_count": 4,
   "id": "d62f1690",
   "metadata": {
    "execution": {
     "iopub.execute_input": "2023-11-20T23:37:33.991474Z",
     "iopub.status.busy": "2023-11-20T23:37:33.991025Z",
     "iopub.status.idle": "2023-11-20T23:37:33.995590Z",
     "shell.execute_reply": "2023-11-20T23:37:33.995088Z"
    },
    "papermill": {
     "duration": 0.007896,
     "end_time": "2023-11-20T23:37:33.996882",
     "exception": false,
     "start_time": "2023-11-20T23:37:33.988986",
     "status": "completed"
    },
    "tags": []
   },
   "outputs": [],
   "source": [
    "pd.Series({\n",
    "    'total_events': len(data.id.unique()),\n",
    "    'total_event_instances': len(data.time),\n",
    "    'earliest_event': data.time.min(),\n",
    "    'latest_event': data.time.max(),\n",
    "}).to_json(\n",
    "    os.path.join(DATA_DIR, 'headlines.json'),\n",
    "    date_format='iso', indent=2\n",
    ")"
   ]
  },
  {
   "cell_type": "code",
   "execution_count": 5,
   "id": "65bebca0",
   "metadata": {
    "execution": {
     "iopub.execute_input": "2023-11-20T23:37:34.000889Z",
     "iopub.status.busy": "2023-11-20T23:37:34.000533Z",
     "iopub.status.idle": "2023-11-20T23:37:34.008047Z",
     "shell.execute_reply": "2023-11-20T23:37:34.007549Z"
    },
    "papermill": {
     "duration": 0.010965,
     "end_time": "2023-11-20T23:37:34.009374",
     "exception": false,
     "start_time": "2023-11-20T23:37:33.998409",
     "status": "completed"
    },
    "tags": []
   },
   "outputs": [],
   "source": [
    "events = pd.DataFrame({\n",
    "    'events': data.groupby('id').agg({ 'time': 'min' }).reset_index().groupby('time').id.count(),\n",
    "    'event_instances': data.groupby('time').id.count(),\n",
    "}).fillna(0).astype(int)"
   ]
  },
  {
   "cell_type": "code",
   "execution_count": 6,
   "id": "dc866602",
   "metadata": {
    "execution": {
     "iopub.execute_input": "2023-11-20T23:37:34.013593Z",
     "iopub.status.busy": "2023-11-20T23:37:34.013096Z",
     "iopub.status.idle": "2023-11-20T23:37:34.016601Z",
     "shell.execute_reply": "2023-11-20T23:37:34.016109Z"
    },
    "papermill": {
     "duration": 0.00698,
     "end_time": "2023-11-20T23:37:34.017892",
     "exception": false,
     "start_time": "2023-11-20T23:37:34.010912",
     "status": "completed"
    },
    "tags": []
   },
   "outputs": [],
   "source": [
    "def cumulate(data):\n",
    "    return pd.concat([\n",
    "        data,\n",
    "        data.cumsum().rename(columns=lambda c: f'cumulative_{c}')\n",
    "    ], axis=1)"
   ]
  },
  {
   "cell_type": "code",
   "execution_count": 7,
   "id": "00ba3bcb",
   "metadata": {
    "execution": {
     "iopub.execute_input": "2023-11-20T23:37:34.022079Z",
     "iopub.status.busy": "2023-11-20T23:37:34.021626Z",
     "iopub.status.idle": "2023-11-20T23:37:34.029154Z",
     "shell.execute_reply": "2023-11-20T23:37:34.028534Z"
    },
    "papermill": {
     "duration": 0.011226,
     "end_time": "2023-11-20T23:37:34.030647",
     "exception": false,
     "start_time": "2023-11-20T23:37:34.019421",
     "status": "completed"
    },
    "tags": []
   },
   "outputs": [],
   "source": [
    "events.resample('W-FRI').sum().pipe(cumulate).to_csv(os.path.join(DATA_DIR, 'by_week.csv'))"
   ]
  },
  {
   "cell_type": "code",
   "execution_count": 8,
   "id": "521c3424",
   "metadata": {
    "execution": {
     "iopub.execute_input": "2023-11-20T23:37:34.034959Z",
     "iopub.status.busy": "2023-11-20T23:37:34.034457Z",
     "iopub.status.idle": "2023-11-20T23:37:34.039888Z",
     "shell.execute_reply": "2023-11-20T23:37:34.039285Z"
    },
    "papermill": {
     "duration": 0.009025,
     "end_time": "2023-11-20T23:37:34.041236",
     "exception": false,
     "start_time": "2023-11-20T23:37:34.032211",
     "status": "completed"
    },
    "tags": []
   },
   "outputs": [],
   "source": [
    "events.resample('MS').sum().pipe(cumulate).to_csv(os.path.join(DATA_DIR, 'by_month.csv'))"
   ]
  },
  {
   "cell_type": "code",
   "execution_count": null,
   "id": "43437e7d",
   "metadata": {
    "papermill": {
     "duration": 0.00156,
     "end_time": "2023-11-20T23:37:34.044404",
     "exception": false,
     "start_time": "2023-11-20T23:37:34.042844",
     "status": "completed"
    },
    "tags": []
   },
   "outputs": [],
   "source": []
  }
 ],
 "metadata": {
  "kernelspec": {
   "display_name": "leeds-2023-YZF5GfJv",
   "language": "python",
   "name": "python3"
  },
  "language_info": {
   "codemirror_mode": {
    "name": "ipython",
    "version": 3
   },
   "file_extension": ".py",
   "mimetype": "text/x-python",
   "name": "python",
   "nbconvert_exporter": "python",
   "pygments_lexer": "ipython3",
   "version": "3.10.13"
  },
  "papermill": {
   "default_parameters": {},
   "duration": 1.781242,
   "end_time": "2023-11-20T23:37:34.262269",
   "environment_variables": {},
   "exception": null,
   "input_path": "prepare.ipynb",
   "output_path": "../../../working/output/promote-events-prepare.ipynb",
   "parameters": {},
   "start_time": "2023-11-20T23:37:32.481027",
   "version": "2.4.0"
  }
 },
 "nbformat": 4,
 "nbformat_minor": 5
}