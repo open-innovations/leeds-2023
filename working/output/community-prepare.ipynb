{
 "cells": [
  {
   "cell_type": "code",
   "execution_count": 1,
   "id": "6f0649e6",
   "metadata": {
    "execution": {
     "iopub.execute_input": "2023-09-18T23:40:32.776882Z",
     "iopub.status.busy": "2023-09-18T23:40:32.776326Z",
     "iopub.status.idle": "2023-09-18T23:40:33.025214Z",
     "shell.execute_reply": "2023-09-18T23:40:33.024542Z"
    },
    "papermill": {
     "duration": 0.254518,
     "end_time": "2023-09-18T23:40:33.027139",
     "exception": false,
     "start_time": "2023-09-18T23:40:32.772621",
     "status": "completed"
    },
    "tags": []
   },
   "outputs": [],
   "source": [
    "import os, sys\n",
    "TOP_DIR = os.path.realpath('../../..')\n",
    "if TOP_DIR not in sys.path: sys.path.append(TOP_DIR)\n",
    "import pandas as pd"
   ]
  },
  {
   "cell_type": "code",
   "execution_count": 2,
   "id": "5266cd47",
   "metadata": {
    "execution": {
     "iopub.execute_input": "2023-09-18T23:40:33.032432Z",
     "iopub.status.busy": "2023-09-18T23:40:33.032137Z",
     "iopub.status.idle": "2023-09-18T23:40:33.036211Z",
     "shell.execute_reply": "2023-09-18T23:40:33.035574Z"
    },
    "papermill": {
     "duration": 0.008315,
     "end_time": "2023-09-18T23:40:33.037727",
     "exception": false,
     "start_time": "2023-09-18T23:40:33.029412",
     "status": "completed"
    },
    "tags": []
   },
   "outputs": [],
   "source": [
    "from lib.util.convert import named_cumulative_sum"
   ]
  },
  {
   "cell_type": "code",
   "execution_count": 3,
   "id": "db8b5037",
   "metadata": {
    "execution": {
     "iopub.execute_input": "2023-09-18T23:40:33.042117Z",
     "iopub.status.busy": "2023-09-18T23:40:33.041905Z",
     "iopub.status.idle": "2023-09-18T23:40:33.051822Z",
     "shell.execute_reply": "2023-09-18T23:40:33.051232Z"
    },
    "papermill": {
     "duration": 0.013833,
     "end_time": "2023-09-18T23:40:33.053256",
     "exception": false,
     "start_time": "2023-09-18T23:40:33.039423",
     "status": "completed"
    },
    "tags": []
   },
   "outputs": [],
   "source": [
    "data = pd.read_csv('../../../data/metrics/community/events.csv', parse_dates=['start_date'])\n",
    "data.ward_code = data.ward_code.fillna('UNKNOWN')"
   ]
  },
  {
   "cell_type": "markdown",
   "id": "6856844e",
   "metadata": {
    "papermill": {
     "duration": 0.001648,
     "end_time": "2023-09-18T23:40:33.056625",
     "exception": false,
     "start_time": "2023-09-18T23:40:33.054977",
     "status": "completed"
    },
    "tags": []
   },
   "source": [
    "Set up output directories"
   ]
  },
  {
   "cell_type": "code",
   "execution_count": 4,
   "id": "4276634b",
   "metadata": {
    "execution": {
     "iopub.execute_input": "2023-09-18T23:40:33.061021Z",
     "iopub.status.busy": "2023-09-18T23:40:33.060599Z",
     "iopub.status.idle": "2023-09-18T23:40:33.063979Z",
     "shell.execute_reply": "2023-09-18T23:40:33.063314Z"
    },
    "papermill": {
     "duration": 0.007296,
     "end_time": "2023-09-18T23:40:33.065606",
     "exception": false,
     "start_time": "2023-09-18T23:40:33.058310",
     "status": "completed"
    },
    "tags": []
   },
   "outputs": [],
   "source": [
    "OUT_DIR = '../../../docs/metrics/community/_data'\n",
    "os.makedirs(OUT_DIR, exist_ok=True)"
   ]
  },
  {
   "cell_type": "code",
   "execution_count": 5,
   "id": "6e2aee19",
   "metadata": {
    "execution": {
     "iopub.execute_input": "2023-09-18T23:40:33.070453Z",
     "iopub.status.busy": "2023-09-18T23:40:33.069884Z",
     "iopub.status.idle": "2023-09-18T23:40:33.076862Z",
     "shell.execute_reply": "2023-09-18T23:40:33.076248Z"
    },
    "papermill": {
     "duration": 0.010944,
     "end_time": "2023-09-18T23:40:33.078348",
     "exception": false,
     "start_time": "2023-09-18T23:40:33.067404",
     "status": "completed"
    },
    "tags": []
   },
   "outputs": [],
   "source": [
    "pd.Series({\n",
    "  'events': data.event_name.count(),\n",
    "  'audience': data.audience.sum().astype(int),\n",
    "  'errors': {\n",
    "    'missing_wards': (data.ward_code == 'UNKNOWN').value_counts()[True],\n",
    "    'missing_audience': data.audience.isna().value_counts()[True],\n",
    "    'zero_audience':  (data.audience < 1).value_counts()[True],  \n",
    "  }\n",
    "}).to_json(os.path.join(OUT_DIR, 'headlines.json'), indent=2)"
   ]
  },
  {
   "cell_type": "code",
   "execution_count": 6,
   "id": "3aa0e59f",
   "metadata": {
    "execution": {
     "iopub.execute_input": "2023-09-18T23:40:33.083212Z",
     "iopub.status.busy": "2023-09-18T23:40:33.082765Z",
     "iopub.status.idle": "2023-09-18T23:40:33.089966Z",
     "shell.execute_reply": "2023-09-18T23:40:33.089365Z"
    },
    "papermill": {
     "duration": 0.011338,
     "end_time": "2023-09-18T23:40:33.091516",
     "exception": false,
     "start_time": "2023-09-18T23:40:33.080178",
     "status": "completed"
    },
    "tags": []
   },
   "outputs": [],
   "source": [
    "by_ward = pd.DataFrame({\n",
    "  'events': data.groupby('ward_code').event_name.count().fillna(0).astype('int'),\n",
    "  'audience': data.groupby('ward_code').audience.sum().fillna(0).astype('int'),\n",
    "}).to_csv(os.path.join(OUT_DIR, 'by_ward.csv'))"
   ]
  },
  {
   "cell_type": "code",
   "execution_count": 7,
   "id": "09fa281e",
   "metadata": {
    "execution": {
     "iopub.execute_input": "2023-09-18T23:40:33.096533Z",
     "iopub.status.busy": "2023-09-18T23:40:33.096046Z",
     "iopub.status.idle": "2023-09-18T23:40:33.107902Z",
     "shell.execute_reply": "2023-09-18T23:40:33.107303Z"
    },
    "papermill": {
     "duration": 0.016075,
     "end_time": "2023-09-18T23:40:33.109478",
     "exception": false,
     "start_time": "2023-09-18T23:40:33.093403",
     "status": "completed"
    },
    "tags": []
   },
   "outputs": [],
   "source": [
    "by_date = pd.DataFrame({\n",
    "    'events': data.groupby('start_date').event_name.count(),\n",
    "    'audience': data.groupby('start_date').audience.sum(),\n",
    "}).resample('M').sum()\n",
    "\n",
    "pd.concat([\n",
    "    by_date,\n",
    "    by_date.pipe(named_cumulative_sum)\n",
    "], axis=1).astype('int').to_csv(os.path.join(OUT_DIR, 'by_date.csv'))"
   ]
  }
 ],
 "metadata": {
  "kernelspec": {
   "display_name": "leeds-2023-YZF5GfJv",
   "language": "python",
   "name": "python3"
  },
  "language_info": {
   "codemirror_mode": {
    "name": "ipython",
    "version": 3
   },
   "file_extension": ".py",
   "mimetype": "text/x-python",
   "name": "python",
   "nbconvert_exporter": "python",
   "pygments_lexer": "ipython3",
   "version": "3.10.13"
  },
  "papermill": {
   "default_parameters": {},
   "duration": 1.909047,
   "end_time": "2023-09-18T23:40:33.328456",
   "environment_variables": {},
   "exception": null,
   "input_path": "prepare.ipynb",
   "output_path": "../../../working/output/community-prepare.ipynb",
   "parameters": {},
   "start_time": "2023-09-18T23:40:31.419409",
   "version": "2.4.0"
  }
 },
 "nbformat": 4,
 "nbformat_minor": 5
}