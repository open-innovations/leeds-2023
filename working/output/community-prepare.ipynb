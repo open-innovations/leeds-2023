{
 "cells": [
  {
   "cell_type": "code",
   "execution_count": 1,
   "id": "c45b6010",
   "metadata": {
    "execution": {
     "iopub.execute_input": "2023-07-24T17:14:19.040522Z",
     "iopub.status.busy": "2023-07-24T17:14:19.040374Z",
     "iopub.status.idle": "2023-07-24T17:14:19.232351Z",
     "shell.execute_reply": "2023-07-24T17:14:19.231908Z"
    },
    "papermill": {
     "duration": 0.198025,
     "end_time": "2023-07-24T17:14:19.233409",
     "exception": false,
     "start_time": "2023-07-24T17:14:19.035384",
     "status": "completed"
    },
    "tags": []
   },
   "outputs": [],
   "source": [
    "import os, sys\n",
    "TOP_DIR = os.path.realpath('../../..')\n",
    "if TOP_DIR not in sys.path: sys.path.append(TOP_DIR)\n",
    "import pandas as pd"
   ]
  },
  {
   "cell_type": "code",
   "execution_count": 2,
   "id": "64db96cb",
   "metadata": {
    "execution": {
     "iopub.execute_input": "2023-07-24T17:14:19.235975Z",
     "iopub.status.busy": "2023-07-24T17:14:19.235776Z",
     "iopub.status.idle": "2023-07-24T17:14:19.238377Z",
     "shell.execute_reply": "2023-07-24T17:14:19.238062Z"
    },
    "papermill": {
     "duration": 0.004733,
     "end_time": "2023-07-24T17:14:19.239158",
     "exception": false,
     "start_time": "2023-07-24T17:14:19.234425",
     "status": "completed"
    },
    "tags": []
   },
   "outputs": [],
   "source": [
    "from lib.util.convert import named_cumulative_sum"
   ]
  },
  {
   "cell_type": "code",
   "execution_count": 3,
   "id": "f77b7385",
   "metadata": {
    "execution": {
     "iopub.execute_input": "2023-07-24T17:14:19.241216Z",
     "iopub.status.busy": "2023-07-24T17:14:19.241087Z",
     "iopub.status.idle": "2023-07-24T17:14:19.246806Z",
     "shell.execute_reply": "2023-07-24T17:14:19.246483Z"
    },
    "papermill": {
     "duration": 0.007578,
     "end_time": "2023-07-24T17:14:19.247546",
     "exception": false,
     "start_time": "2023-07-24T17:14:19.239968",
     "status": "completed"
    },
    "tags": []
   },
   "outputs": [],
   "source": [
    "data = pd.read_csv('../../../data/metrics/community/events.csv', parse_dates=['start_date'])\n",
    "data.ward_code = data.ward_code.fillna('UNKNOWN')"
   ]
  },
  {
   "cell_type": "markdown",
   "id": "3dc32c5c",
   "metadata": {
    "papermill": {
     "duration": 0.000795,
     "end_time": "2023-07-24T17:14:19.249182",
     "exception": false,
     "start_time": "2023-07-24T17:14:19.248387",
     "status": "completed"
    },
    "tags": []
   },
   "source": [
    "Set up output directories"
   ]
  },
  {
   "cell_type": "code",
   "execution_count": 4,
   "id": "b66142cf",
   "metadata": {
    "execution": {
     "iopub.execute_input": "2023-07-24T17:14:19.251132Z",
     "iopub.status.busy": "2023-07-24T17:14:19.250987Z",
     "iopub.status.idle": "2023-07-24T17:14:19.252955Z",
     "shell.execute_reply": "2023-07-24T17:14:19.252649Z"
    },
    "papermill": {
     "duration": 0.003794,
     "end_time": "2023-07-24T17:14:19.253715",
     "exception": false,
     "start_time": "2023-07-24T17:14:19.249921",
     "status": "completed"
    },
    "tags": []
   },
   "outputs": [],
   "source": [
    "OUT_DIR = '../../../docs/metrics/community/_data'\n",
    "os.makedirs(OUT_DIR, exist_ok=True)"
   ]
  },
  {
   "cell_type": "code",
   "execution_count": 5,
   "id": "ea2d45e8",
   "metadata": {
    "execution": {
     "iopub.execute_input": "2023-07-24T17:14:19.255735Z",
     "iopub.status.busy": "2023-07-24T17:14:19.255577Z",
     "iopub.status.idle": "2023-07-24T17:14:19.259184Z",
     "shell.execute_reply": "2023-07-24T17:14:19.258903Z"
    },
    "papermill": {
     "duration": 0.005365,
     "end_time": "2023-07-24T17:14:19.259851",
     "exception": false,
     "start_time": "2023-07-24T17:14:19.254486",
     "status": "completed"
    },
    "tags": []
   },
   "outputs": [],
   "source": [
    "pd.Series({\n",
    "  'events': data.event_name.count(),\n",
    "  'audience': data.audience.sum().astype(int),\n",
    "  'errors': {\n",
    "    'missing_wards': (data.ward_code == 'UNKNOWN').value_counts()[True],\n",
    "    'missing_audience': data.audience.isna().value_counts()[True],\n",
    "    'zero_audience':  (data.audience < 1).value_counts()[True],  \n",
    "  }\n",
    "}).to_json(os.path.join(OUT_DIR, 'headlines.json'), indent=2)"
   ]
  },
  {
   "cell_type": "code",
   "execution_count": 6,
   "id": "48546d25",
   "metadata": {
    "execution": {
     "iopub.execute_input": "2023-07-24T17:14:19.261998Z",
     "iopub.status.busy": "2023-07-24T17:14:19.261868Z",
     "iopub.status.idle": "2023-07-24T17:14:19.265628Z",
     "shell.execute_reply": "2023-07-24T17:14:19.265306Z"
    },
    "papermill": {
     "duration": 0.005679,
     "end_time": "2023-07-24T17:14:19.266348",
     "exception": false,
     "start_time": "2023-07-24T17:14:19.260669",
     "status": "completed"
    },
    "tags": []
   },
   "outputs": [],
   "source": [
    "by_ward = pd.DataFrame({\n",
    "  'events': data.groupby('ward_code').event_name.count(),\n",
    "  'audience': data.groupby('ward_code').audience.sum(),\n",
    "}).to_csv(os.path.join(OUT_DIR, 'by_ward.csv'))"
   ]
  },
  {
   "cell_type": "code",
   "execution_count": 7,
   "id": "1e69f481",
   "metadata": {
    "execution": {
     "iopub.execute_input": "2023-07-24T17:14:19.268647Z",
     "iopub.status.busy": "2023-07-24T17:14:19.268518Z",
     "iopub.status.idle": "2023-07-24T17:14:19.274997Z",
     "shell.execute_reply": "2023-07-24T17:14:19.274676Z"
    },
    "papermill": {
     "duration": 0.008291,
     "end_time": "2023-07-24T17:14:19.275624",
     "exception": false,
     "start_time": "2023-07-24T17:14:19.267333",
     "status": "completed"
    },
    "tags": []
   },
   "outputs": [],
   "source": [
    "by_date = pd.DataFrame({\n",
    "    'events': data.groupby('start_date').event_name.count(),\n",
    "    'audience': data.groupby('start_date').audience.sum(),\n",
    "}).resample('M').sum()\n",
    "\n",
    "pd.concat([\n",
    "    by_date,\n",
    "    by_date.pipe(named_cumulative_sum)\n",
    "], axis=1).astype('int').to_csv(os.path.join(OUT_DIR, 'by_date.csv'))"
   ]
  }
 ],
 "metadata": {
  "kernelspec": {
   "display_name": "leeds-2023-YZF5GfJv",
   "language": "python",
   "name": "python3"
  },
  "language_info": {
   "codemirror_mode": {
    "name": "ipython",
    "version": 3
   },
   "file_extension": ".py",
   "mimetype": "text/x-python",
   "name": "python",
   "nbconvert_exporter": "python",
   "pygments_lexer": "ipython3",
   "version": "3.10.6"
  },
  "papermill": {
   "default_parameters": {},
   "duration": 1.172211,
   "end_time": "2023-07-24T17:14:19.492971",
   "environment_variables": {},
   "exception": null,
   "input_path": "prepare.ipynb",
   "output_path": "../../../working/output/community-prepare.ipynb",
   "parameters": {},
   "start_time": "2023-07-24T17:14:18.320760",
   "version": "2.4.0"
  }
 },
 "nbformat": 4,
 "nbformat_minor": 5
}