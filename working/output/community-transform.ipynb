{
 "cells": [
  {
   "cell_type": "code",
   "execution_count": 1,
   "id": "a4f73caf",
   "metadata": {
    "execution": {
     "iopub.execute_input": "2023-12-05T23:37:05.063209Z",
     "iopub.status.busy": "2023-12-05T23:37:05.062637Z",
     "iopub.status.idle": "2023-12-05T23:37:05.070198Z",
     "shell.execute_reply": "2023-12-05T23:37:05.069566Z"
    },
    "papermill": {
     "duration": 0.012899,
     "end_time": "2023-12-05T23:37:05.071820",
     "exception": false,
     "start_time": "2023-12-05T23:37:05.058921",
     "status": "completed"
    },
    "tags": []
   },
   "outputs": [],
   "source": [
    "import os\n",
    "import sys\n",
    "\n",
    "TOP_DIR=os.path.realpath(\"../../..\")\n",
    "if TOP_DIR not in sys.path: sys.path.append(TOP_DIR)"
   ]
  },
  {
   "cell_type": "code",
   "execution_count": 2,
   "id": "06a13305",
   "metadata": {
    "execution": {
     "iopub.execute_input": "2023-12-05T23:37:05.076829Z",
     "iopub.status.busy": "2023-12-05T23:37:05.076441Z",
     "iopub.status.idle": "2023-12-05T23:37:12.675453Z",
     "shell.execute_reply": "2023-12-05T23:37:12.674701Z"
    },
    "papermill": {
     "duration": 7.603353,
     "end_time": "2023-12-05T23:37:12.677193",
     "exception": false,
     "start_time": "2023-12-05T23:37:05.073840",
     "status": "completed"
    },
    "tags": []
   },
   "outputs": [],
   "source": [
    "import pandas as pd\n",
    "import numpy as np\n",
    "from lib.util.convert import standardise_columns, literal_converter\n",
    "from lib.util.geo import normalise_leeds_wards, ward_name_to_code"
   ]
  },
  {
   "cell_type": "code",
   "execution_count": 3,
   "id": "f4c04253",
   "metadata": {
    "execution": {
     "iopub.execute_input": "2023-12-05T23:37:12.682188Z",
     "iopub.status.busy": "2023-12-05T23:37:12.681974Z",
     "iopub.status.idle": "2023-12-05T23:37:12.697635Z",
     "shell.execute_reply": "2023-12-05T23:37:12.696946Z"
    },
    "papermill": {
     "duration": 0.020126,
     "end_time": "2023-12-05T23:37:12.699321",
     "exception": false,
     "start_time": "2023-12-05T23:37:12.679195",
     "status": "completed"
    },
    "tags": []
   },
   "outputs": [],
   "source": [
    "data = pd.read_csv('../../../working/metrics/community/events.csv', parse_dates=['Start date'])\n",
    "data = data.rename(columns=standardise_columns)"
   ]
  },
  {
   "cell_type": "code",
   "execution_count": 4,
   "id": "ef43c16e",
   "metadata": {
    "execution": {
     "iopub.execute_input": "2023-12-05T23:37:12.704254Z",
     "iopub.status.busy": "2023-12-05T23:37:12.703733Z",
     "iopub.status.idle": "2023-12-05T23:37:12.712923Z",
     "shell.execute_reply": "2023-12-05T23:37:12.712268Z"
    },
    "papermill": {
     "duration": 0.013045,
     "end_time": "2023-12-05T23:37:12.714266",
     "exception": false,
     "start_time": "2023-12-05T23:37:12.701221",
     "status": "completed"
    },
    "tags": []
   },
   "outputs": [],
   "source": [
    "wards = data['ward_(from_venue)'].fillna('[]').pipe(literal_converter).apply(np.unique)"
   ]
  },
  {
   "cell_type": "code",
   "execution_count": 5,
   "id": "a6292b8d",
   "metadata": {
    "execution": {
     "iopub.execute_input": "2023-12-05T23:37:12.719096Z",
     "iopub.status.busy": "2023-12-05T23:37:12.718707Z",
     "iopub.status.idle": "2023-12-05T23:37:12.739371Z",
     "shell.execute_reply": "2023-12-05T23:37:12.738755Z"
    },
    "papermill": {
     "duration": 0.024596,
     "end_time": "2023-12-05T23:37:12.740741",
     "exception": false,
     "start_time": "2023-12-05T23:37:12.716145",
     "status": "completed"
    },
    "tags": []
   },
   "outputs": [],
   "source": [
    "data['ward_name'] = wards.apply(lambda x: x[0] if len(x) > 0 else np.nan).pipe(normalise_leeds_wards)\n",
    "data['ward_code'] = data.ward_name.pipe(ward_name_to_code)\n",
    "data['audience'] = data.actual_audience_size_number_of_participants_in_person\n",
    "cleaned_data = data.loc[:, ['event_name', 'project_name', 'start_date', 'ward_name', 'ward_code', 'audience']]"
   ]
  },
  {
   "cell_type": "code",
   "execution_count": 6,
   "id": "d632e440",
   "metadata": {
    "execution": {
     "iopub.execute_input": "2023-12-05T23:37:12.745799Z",
     "iopub.status.busy": "2023-12-05T23:37:12.745321Z",
     "iopub.status.idle": "2023-12-05T23:37:12.751447Z",
     "shell.execute_reply": "2023-12-05T23:37:12.750899Z"
    },
    "papermill": {
     "duration": 0.010066,
     "end_time": "2023-12-05T23:37:12.752738",
     "exception": false,
     "start_time": "2023-12-05T23:37:12.742672",
     "status": "completed"
    },
    "tags": []
   },
   "outputs": [],
   "source": [
    "DATA_DIR='../../../data/metrics/community'\n",
    "os.makedirs(DATA_DIR, exist_ok=True)\n",
    "cleaned_data.to_csv(os.path.join(DATA_DIR, 'events.csv'), index=False)"
   ]
  },
  {
   "cell_type": "markdown",
   "id": "cd8a244d",
   "metadata": {
    "papermill": {
     "duration": 0.001803,
     "end_time": "2023-12-05T23:37:12.756408",
     "exception": false,
     "start_time": "2023-12-05T23:37:12.754605",
     "status": "completed"
    },
    "tags": []
   },
   "source": [
    "Missing or duplicated wards"
   ]
  },
  {
   "cell_type": "code",
   "execution_count": 7,
   "id": "64652730",
   "metadata": {
    "execution": {
     "iopub.execute_input": "2023-12-05T23:37:12.761054Z",
     "iopub.status.busy": "2023-12-05T23:37:12.760706Z",
     "iopub.status.idle": "2023-12-05T23:37:12.774171Z",
     "shell.execute_reply": "2023-12-05T23:37:12.773526Z"
    },
    "papermill": {
     "duration": 0.017272,
     "end_time": "2023-12-05T23:37:12.775458",
     "exception": false,
     "start_time": "2023-12-05T23:37:12.758186",
     "status": "completed"
    },
    "tags": []
   },
   "outputs": [
    {
     "data": {
      "text/html": [
       "<div>\n",
       "<style scoped>\n",
       "    .dataframe tbody tr th:only-of-type {\n",
       "        vertical-align: middle;\n",
       "    }\n",
       "\n",
       "    .dataframe tbody tr th {\n",
       "        vertical-align: top;\n",
       "    }\n",
       "\n",
       "    .dataframe thead th {\n",
       "        text-align: right;\n",
       "    }\n",
       "</style>\n",
       "<table border=\"1\" class=\"dataframe\">\n",
       "  <thead>\n",
       "    <tr style=\"text-align: right;\">\n",
       "      <th></th>\n",
       "      <th>project_name</th>\n",
       "      <th>event_name</th>\n",
       "      <th>start_date</th>\n",
       "      <th>ward_(from_venue)</th>\n",
       "    </tr>\n",
       "  </thead>\n",
       "  <tbody>\n",
       "    <tr>\n",
       "      <th>25</th>\n",
       "      <td>01 - The Awakening</td>\n",
       "      <td>Be More and Swarthmore Pack</td>\n",
       "      <td>2023-02-07</td>\n",
       "      <td>NaN</td>\n",
       "    </tr>\n",
       "    <tr>\n",
       "      <th>55</th>\n",
       "      <td>01 - The Awakening</td>\n",
       "      <td>Creation Station - Leeds City Council</td>\n",
       "      <td>2022-11-23</td>\n",
       "      <td>NaN</td>\n",
       "    </tr>\n",
       "    <tr>\n",
       "      <th>56</th>\n",
       "      <td>01 - The Awakening</td>\n",
       "      <td>Creation Station - Leeds City Council</td>\n",
       "      <td>2022-11-24</td>\n",
       "      <td>NaN</td>\n",
       "    </tr>\n",
       "    <tr>\n",
       "      <th>70</th>\n",
       "      <td>01 - The Awakening</td>\n",
       "      <td>Creation Station - Yorkshire Schools Dance Fes...</td>\n",
       "      <td>2022-11-19</td>\n",
       "      <td>NaN</td>\n",
       "    </tr>\n",
       "    <tr>\n",
       "      <th>72</th>\n",
       "      <td>01 - The Awakening</td>\n",
       "      <td>Creation Station: Ballot Engagement</td>\n",
       "      <td>NaT</td>\n",
       "      <td>NaN</td>\n",
       "    </tr>\n",
       "    <tr>\n",
       "      <th>...</th>\n",
       "      <td>...</td>\n",
       "      <td>...</td>\n",
       "      <td>...</td>\n",
       "      <td>...</td>\n",
       "    </tr>\n",
       "    <tr>\n",
       "      <th>289</th>\n",
       "      <td>Hidden Stories</td>\n",
       "      <td>Edible Archives: Eating The Corn Exchange Slot 2</td>\n",
       "      <td>2023-10-29</td>\n",
       "      <td>NaN</td>\n",
       "    </tr>\n",
       "    <tr>\n",
       "      <th>290</th>\n",
       "      <td>Hidden Stories</td>\n",
       "      <td>Harewood House - Aberford Community Cafe</td>\n",
       "      <td>2023-04-28</td>\n",
       "      <td>NaN</td>\n",
       "    </tr>\n",
       "    <tr>\n",
       "      <th>298</th>\n",
       "      <td>Hidden Stories</td>\n",
       "      <td>Lens Lab Exhibition</td>\n",
       "      <td>2023-09-16</td>\n",
       "      <td>NaN</td>\n",
       "    </tr>\n",
       "    <tr>\n",
       "      <th>304</th>\n",
       "      <td>Hidden Stories</td>\n",
       "      <td>Royal Armouries Exhibition</td>\n",
       "      <td>2023-09-07</td>\n",
       "      <td>NaN</td>\n",
       "    </tr>\n",
       "    <tr>\n",
       "      <th>308</th>\n",
       "      <td>Hidden Stories</td>\n",
       "      <td>TBC British Library Collaboration</td>\n",
       "      <td>NaT</td>\n",
       "      <td>NaN</td>\n",
       "    </tr>\n",
       "  </tbody>\n",
       "</table>\n",
       "<p>81 rows × 4 columns</p>\n",
       "</div>"
      ],
      "text/plain": [
       "           project_name                                         event_name  \\\n",
       "25   01 - The Awakening                        Be More and Swarthmore Pack   \n",
       "55   01 - The Awakening             Creation Station - Leeds City Council    \n",
       "56   01 - The Awakening             Creation Station - Leeds City Council    \n",
       "70   01 - The Awakening  Creation Station - Yorkshire Schools Dance Fes...   \n",
       "72   01 - The Awakening               Creation Station: Ballot Engagement    \n",
       "..                  ...                                                ...   \n",
       "289      Hidden Stories   Edible Archives: Eating The Corn Exchange Slot 2   \n",
       "290      Hidden Stories           Harewood House - Aberford Community Cafe   \n",
       "298      Hidden Stories                                Lens Lab Exhibition   \n",
       "304      Hidden Stories                         Royal Armouries Exhibition   \n",
       "308      Hidden Stories                  TBC British Library Collaboration   \n",
       "\n",
       "    start_date ward_(from_venue)  \n",
       "25  2023-02-07               NaN  \n",
       "55  2022-11-23               NaN  \n",
       "56  2022-11-24               NaN  \n",
       "70  2022-11-19               NaN  \n",
       "72         NaT               NaN  \n",
       "..         ...               ...  \n",
       "289 2023-10-29               NaN  \n",
       "290 2023-04-28               NaN  \n",
       "298 2023-09-16               NaN  \n",
       "304 2023-09-07               NaN  \n",
       "308        NaT               NaN  \n",
       "\n",
       "[81 rows x 4 columns]"
      ]
     },
     "execution_count": 7,
     "metadata": {},
     "output_type": "execute_result"
    }
   ],
   "source": [
    "data.loc[wards.apply(len) != 1, ['project_name', 'event_name', 'start_date', 'ward_(from_venue)']]"
   ]
  },
  {
   "cell_type": "markdown",
   "id": "705da43b",
   "metadata": {
    "papermill": {
     "duration": 0.002074,
     "end_time": "2023-12-05T23:37:12.780428",
     "exception": false,
     "start_time": "2023-12-05T23:37:12.778354",
     "status": "completed"
    },
    "tags": []
   },
   "source": [
    "Missing audience"
   ]
  },
  {
   "cell_type": "code",
   "execution_count": 8,
   "id": "84273007",
   "metadata": {
    "execution": {
     "iopub.execute_input": "2023-12-05T23:37:12.785934Z",
     "iopub.status.busy": "2023-12-05T23:37:12.785447Z",
     "iopub.status.idle": "2023-12-05T23:37:12.795883Z",
     "shell.execute_reply": "2023-12-05T23:37:12.795184Z"
    },
    "papermill": {
     "duration": 0.014713,
     "end_time": "2023-12-05T23:37:12.797258",
     "exception": false,
     "start_time": "2023-12-05T23:37:12.782545",
     "status": "completed"
    },
    "tags": []
   },
   "outputs": [
    {
     "data": {
      "text/html": [
       "<div>\n",
       "<style scoped>\n",
       "    .dataframe tbody tr th:only-of-type {\n",
       "        vertical-align: middle;\n",
       "    }\n",
       "\n",
       "    .dataframe tbody tr th {\n",
       "        vertical-align: top;\n",
       "    }\n",
       "\n",
       "    .dataframe thead th {\n",
       "        text-align: right;\n",
       "    }\n",
       "</style>\n",
       "<table border=\"1\" class=\"dataframe\">\n",
       "  <thead>\n",
       "    <tr style=\"text-align: right;\">\n",
       "      <th></th>\n",
       "      <th>project_name</th>\n",
       "      <th>event_name</th>\n",
       "      <th>start_date</th>\n",
       "      <th>audience</th>\n",
       "    </tr>\n",
       "  </thead>\n",
       "  <tbody>\n",
       "    <tr>\n",
       "      <th>2</th>\n",
       "      <td>01 - The Awakening</td>\n",
       "      <td>Ballot Facilitated Session - Carr Manor Commun...</td>\n",
       "      <td>2022-11-01</td>\n",
       "      <td>NaN</td>\n",
       "    </tr>\n",
       "    <tr>\n",
       "      <th>3</th>\n",
       "      <td>01 - The Awakening</td>\n",
       "      <td>Ballot Facilitated Session - Chapel Allerton P...</td>\n",
       "      <td>2022-11-07</td>\n",
       "      <td>NaN</td>\n",
       "    </tr>\n",
       "    <tr>\n",
       "      <th>4</th>\n",
       "      <td>01 - The Awakening</td>\n",
       "      <td>Ballot Facilitated Session - Cobden Primary Sc...</td>\n",
       "      <td>2022-11-09</td>\n",
       "      <td>NaN</td>\n",
       "    </tr>\n",
       "    <tr>\n",
       "      <th>5</th>\n",
       "      <td>01 - The Awakening</td>\n",
       "      <td>Ballot Facilitated Session - Cobden Primary Sc...</td>\n",
       "      <td>2022-11-10</td>\n",
       "      <td>NaN</td>\n",
       "    </tr>\n",
       "    <tr>\n",
       "      <th>6</th>\n",
       "      <td>01 - The Awakening</td>\n",
       "      <td>Ballot Facilitated Session - Cobden Primary Sc...</td>\n",
       "      <td>2022-11-18</td>\n",
       "      <td>NaN</td>\n",
       "    </tr>\n",
       "    <tr>\n",
       "      <th>...</th>\n",
       "      <td>...</td>\n",
       "      <td>...</td>\n",
       "      <td>...</td>\n",
       "      <td>...</td>\n",
       "    </tr>\n",
       "    <tr>\n",
       "      <th>311</th>\n",
       "      <td>Hidden Stories</td>\n",
       "      <td>Try Your Hand at Ceramic Sculpture</td>\n",
       "      <td>2023-09-10</td>\n",
       "      <td>NaN</td>\n",
       "    </tr>\n",
       "    <tr>\n",
       "      <th>312</th>\n",
       "      <td>Hidden Stories</td>\n",
       "      <td>Try Your Hand at Ceramic Sculpture</td>\n",
       "      <td>2023-09-16</td>\n",
       "      <td>NaN</td>\n",
       "    </tr>\n",
       "    <tr>\n",
       "      <th>313</th>\n",
       "      <td>Hidden Stories</td>\n",
       "      <td>Try Your Hand at Stone Carving</td>\n",
       "      <td>2023-09-09</td>\n",
       "      <td>NaN</td>\n",
       "    </tr>\n",
       "    <tr>\n",
       "      <th>314</th>\n",
       "      <td>Hidden Stories</td>\n",
       "      <td>Try Your Hand at Stone Carving</td>\n",
       "      <td>2023-09-10</td>\n",
       "      <td>NaN</td>\n",
       "    </tr>\n",
       "    <tr>\n",
       "      <th>315</th>\n",
       "      <td>Hidden Stories</td>\n",
       "      <td>Try Your Hand at Stone Carving</td>\n",
       "      <td>2023-09-16</td>\n",
       "      <td>NaN</td>\n",
       "    </tr>\n",
       "  </tbody>\n",
       "</table>\n",
       "<p>185 rows × 4 columns</p>\n",
       "</div>"
      ],
      "text/plain": [
       "           project_name                                         event_name  \\\n",
       "2    01 - The Awakening  Ballot Facilitated Session - Carr Manor Commun...   \n",
       "3    01 - The Awakening  Ballot Facilitated Session - Chapel Allerton P...   \n",
       "4    01 - The Awakening  Ballot Facilitated Session - Cobden Primary Sc...   \n",
       "5    01 - The Awakening  Ballot Facilitated Session - Cobden Primary Sc...   \n",
       "6    01 - The Awakening  Ballot Facilitated Session - Cobden Primary Sc...   \n",
       "..                  ...                                                ...   \n",
       "311      Hidden Stories                 Try Your Hand at Ceramic Sculpture   \n",
       "312      Hidden Stories                 Try Your Hand at Ceramic Sculpture   \n",
       "313      Hidden Stories                     Try Your Hand at Stone Carving   \n",
       "314      Hidden Stories                     Try Your Hand at Stone Carving   \n",
       "315      Hidden Stories                     Try Your Hand at Stone Carving   \n",
       "\n",
       "    start_date  audience  \n",
       "2   2022-11-01       NaN  \n",
       "3   2022-11-07       NaN  \n",
       "4   2022-11-09       NaN  \n",
       "5   2022-11-10       NaN  \n",
       "6   2022-11-18       NaN  \n",
       "..         ...       ...  \n",
       "311 2023-09-10       NaN  \n",
       "312 2023-09-16       NaN  \n",
       "313 2023-09-09       NaN  \n",
       "314 2023-09-10       NaN  \n",
       "315 2023-09-16       NaN  \n",
       "\n",
       "[185 rows x 4 columns]"
      ]
     },
     "execution_count": 8,
     "metadata": {},
     "output_type": "execute_result"
    }
   ],
   "source": [
    "data.loc[data.audience.isna(), ['project_name', 'event_name', 'start_date', 'audience']]"
   ]
  },
  {
   "cell_type": "code",
   "execution_count": null,
   "id": "381f5f2d",
   "metadata": {
    "papermill": {
     "duration": 0.002255,
     "end_time": "2023-12-05T23:37:12.801939",
     "exception": false,
     "start_time": "2023-12-05T23:37:12.799684",
     "status": "completed"
    },
    "tags": []
   },
   "outputs": [],
   "source": []
  },
  {
   "cell_type": "code",
   "execution_count": null,
   "id": "35ea7236",
   "metadata": {
    "papermill": {
     "duration": 0.002216,
     "end_time": "2023-12-05T23:37:12.806525",
     "exception": false,
     "start_time": "2023-12-05T23:37:12.804309",
     "status": "completed"
    },
    "tags": []
   },
   "outputs": [],
   "source": []
  }
 ],
 "metadata": {
  "kernelspec": {
   "display_name": "leeds-2023-YZF5GfJv",
   "language": "python",
   "name": "python3"
  },
  "language_info": {
   "codemirror_mode": {
    "name": "ipython",
    "version": 3
   },
   "file_extension": ".py",
   "mimetype": "text/x-python",
   "name": "python",
   "nbconvert_exporter": "python",
   "pygments_lexer": "ipython3",
   "version": "3.10.13"
  },
  "papermill": {
   "default_parameters": {},
   "duration": 9.919138,
   "end_time": "2023-12-05T23:37:13.125935",
   "environment_variables": {},
   "exception": null,
   "input_path": "transform.ipynb",
   "output_path": "../../../working/output/community-transform.ipynb",
   "parameters": {},
   "start_time": "2023-12-05T23:37:03.206797",
   "version": "2.4.0"
  }
 },
 "nbformat": 4,
 "nbformat_minor": 5
}