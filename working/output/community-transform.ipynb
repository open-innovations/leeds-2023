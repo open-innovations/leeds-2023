{
 "cells": [
  {
   "cell_type": "code",
   "execution_count": 1,
   "id": "3c302ae4",
   "metadata": {
    "execution": {
     "iopub.execute_input": "2023-09-25T23:40:29.836769Z",
     "iopub.status.busy": "2023-09-25T23:40:29.835951Z",
     "iopub.status.idle": "2023-09-25T23:40:29.845257Z",
     "shell.execute_reply": "2023-09-25T23:40:29.844524Z"
    },
    "papermill": {
     "duration": 0.01575,
     "end_time": "2023-09-25T23:40:29.846992",
     "exception": false,
     "start_time": "2023-09-25T23:40:29.831242",
     "status": "completed"
    },
    "tags": []
   },
   "outputs": [],
   "source": [
    "import os\n",
    "import sys\n",
    "\n",
    "TOP_DIR=os.path.realpath(\"../../..\")\n",
    "if TOP_DIR not in sys.path: sys.path.append(TOP_DIR)"
   ]
  },
  {
   "cell_type": "code",
   "execution_count": 2,
   "id": "ddaab2d3",
   "metadata": {
    "execution": {
     "iopub.execute_input": "2023-09-25T23:40:29.853907Z",
     "iopub.status.busy": "2023-09-25T23:40:29.853196Z",
     "iopub.status.idle": "2023-09-25T23:40:41.425190Z",
     "shell.execute_reply": "2023-09-25T23:40:41.424167Z"
    },
    "papermill": {
     "duration": 11.577848,
     "end_time": "2023-09-25T23:40:41.427315",
     "exception": false,
     "start_time": "2023-09-25T23:40:29.849467",
     "status": "completed"
    },
    "tags": []
   },
   "outputs": [],
   "source": [
    "import pandas as pd\n",
    "import numpy as np\n",
    "from lib.util.convert import standardise_columns, literal_converter\n",
    "from lib.util.geo import normalise_leeds_wards, ward_name_to_code"
   ]
  },
  {
   "cell_type": "code",
   "execution_count": 3,
   "id": "10540e54",
   "metadata": {
    "execution": {
     "iopub.execute_input": "2023-09-25T23:40:41.434694Z",
     "iopub.status.busy": "2023-09-25T23:40:41.433941Z",
     "iopub.status.idle": "2023-09-25T23:40:41.461666Z",
     "shell.execute_reply": "2023-09-25T23:40:41.460786Z"
    },
    "papermill": {
     "duration": 0.034142,
     "end_time": "2023-09-25T23:40:41.464200",
     "exception": false,
     "start_time": "2023-09-25T23:40:41.430058",
     "status": "completed"
    },
    "tags": []
   },
   "outputs": [],
   "source": [
    "data = pd.read_csv('../../../working/metrics/community/events.csv', parse_dates=['Start date'])\n",
    "data = data.rename(columns=standardise_columns)"
   ]
  },
  {
   "cell_type": "code",
   "execution_count": 4,
   "id": "fc1c545a",
   "metadata": {
    "execution": {
     "iopub.execute_input": "2023-09-25T23:40:41.472178Z",
     "iopub.status.busy": "2023-09-25T23:40:41.471406Z",
     "iopub.status.idle": "2023-09-25T23:40:41.482424Z",
     "shell.execute_reply": "2023-09-25T23:40:41.481706Z"
    },
    "papermill": {
     "duration": 0.01637,
     "end_time": "2023-09-25T23:40:41.484122",
     "exception": false,
     "start_time": "2023-09-25T23:40:41.467752",
     "status": "completed"
    },
    "tags": []
   },
   "outputs": [],
   "source": [
    "wards = data['ward_(from_venue)'].fillna('[]').pipe(literal_converter).apply(np.unique)"
   ]
  },
  {
   "cell_type": "code",
   "execution_count": 5,
   "id": "6573027b",
   "metadata": {
    "execution": {
     "iopub.execute_input": "2023-09-25T23:40:41.490997Z",
     "iopub.status.busy": "2023-09-25T23:40:41.490470Z",
     "iopub.status.idle": "2023-09-25T23:40:41.939298Z",
     "shell.execute_reply": "2023-09-25T23:40:41.938278Z"
    },
    "papermill": {
     "duration": 0.455942,
     "end_time": "2023-09-25T23:40:41.942794",
     "exception": false,
     "start_time": "2023-09-25T23:40:41.486852",
     "status": "completed"
    },
    "tags": []
   },
   "outputs": [],
   "source": [
    "data['ward_name'] = wards.apply(lambda x: x[0] if len(x) > 0 else np.nan).pipe(normalise_leeds_wards)\n",
    "data['ward_code'] = data.ward_name.pipe(ward_name_to_code)\n",
    "data['audience'] = data.actual_audience_size_number_of_participants_in_person\n",
    "cleaned_data = data.loc[:, ['event_name', 'project_name', 'start_date', 'ward_name', 'ward_code', 'audience']]"
   ]
  },
  {
   "cell_type": "code",
   "execution_count": 6,
   "id": "da8bcae0",
   "metadata": {
    "execution": {
     "iopub.execute_input": "2023-09-25T23:40:41.950914Z",
     "iopub.status.busy": "2023-09-25T23:40:41.950335Z",
     "iopub.status.idle": "2023-09-25T23:40:41.958245Z",
     "shell.execute_reply": "2023-09-25T23:40:41.957509Z"
    },
    "papermill": {
     "duration": 0.014081,
     "end_time": "2023-09-25T23:40:41.960177",
     "exception": false,
     "start_time": "2023-09-25T23:40:41.946096",
     "status": "completed"
    },
    "tags": []
   },
   "outputs": [],
   "source": [
    "DATA_DIR='../../../data/metrics/community'\n",
    "os.makedirs(DATA_DIR, exist_ok=True)\n",
    "cleaned_data.to_csv(os.path.join(DATA_DIR, 'events.csv'), index=False)"
   ]
  },
  {
   "cell_type": "markdown",
   "id": "05a9e4f3",
   "metadata": {
    "papermill": {
     "duration": 0.002525,
     "end_time": "2023-09-25T23:40:41.965277",
     "exception": false,
     "start_time": "2023-09-25T23:40:41.962752",
     "status": "completed"
    },
    "tags": []
   },
   "source": [
    "Missing or duplicated wards"
   ]
  },
  {
   "cell_type": "code",
   "execution_count": 7,
   "id": "7e3cdbfb",
   "metadata": {
    "execution": {
     "iopub.execute_input": "2023-09-25T23:40:41.972454Z",
     "iopub.status.busy": "2023-09-25T23:40:41.971807Z",
     "iopub.status.idle": "2023-09-25T23:40:41.989965Z",
     "shell.execute_reply": "2023-09-25T23:40:41.989290Z"
    },
    "papermill": {
     "duration": 0.023618,
     "end_time": "2023-09-25T23:40:41.991665",
     "exception": false,
     "start_time": "2023-09-25T23:40:41.968047",
     "status": "completed"
    },
    "tags": []
   },
   "outputs": [
    {
     "data": {
      "text/html": [
       "<div>\n",
       "<style scoped>\n",
       "    .dataframe tbody tr th:only-of-type {\n",
       "        vertical-align: middle;\n",
       "    }\n",
       "\n",
       "    .dataframe tbody tr th {\n",
       "        vertical-align: top;\n",
       "    }\n",
       "\n",
       "    .dataframe thead th {\n",
       "        text-align: right;\n",
       "    }\n",
       "</style>\n",
       "<table border=\"1\" class=\"dataframe\">\n",
       "  <thead>\n",
       "    <tr style=\"text-align: right;\">\n",
       "      <th></th>\n",
       "      <th>project_name</th>\n",
       "      <th>event_name</th>\n",
       "      <th>start_date</th>\n",
       "      <th>ward_(from_venue)</th>\n",
       "    </tr>\n",
       "  </thead>\n",
       "  <tbody>\n",
       "    <tr>\n",
       "      <th>49</th>\n",
       "      <td>01 - The Awakening</td>\n",
       "      <td>Creation Station - Leeds City Council</td>\n",
       "      <td>2022-11-23</td>\n",
       "      <td>NaN</td>\n",
       "    </tr>\n",
       "    <tr>\n",
       "      <th>50</th>\n",
       "      <td>01 - The Awakening</td>\n",
       "      <td>Creation Station - Leeds City Council</td>\n",
       "      <td>2022-11-24</td>\n",
       "      <td>NaN</td>\n",
       "    </tr>\n",
       "    <tr>\n",
       "      <th>64</th>\n",
       "      <td>01 - The Awakening</td>\n",
       "      <td>Creation Station - Yorkshire Schools Dance Fes...</td>\n",
       "      <td>2022-11-19</td>\n",
       "      <td>NaN</td>\n",
       "    </tr>\n",
       "    <tr>\n",
       "      <th>66</th>\n",
       "      <td>01 - The Awakening</td>\n",
       "      <td>Creation Station: Ballot Engagement</td>\n",
       "      <td>NaT</td>\n",
       "      <td>NaN</td>\n",
       "    </tr>\n",
       "    <tr>\n",
       "      <th>68</th>\n",
       "      <td>01 - The Awakening</td>\n",
       "      <td>Leeds Arts University - Creation Station</td>\n",
       "      <td>NaT</td>\n",
       "      <td>NaN</td>\n",
       "    </tr>\n",
       "    <tr>\n",
       "      <th>...</th>\n",
       "      <td>...</td>\n",
       "      <td>...</td>\n",
       "      <td>...</td>\n",
       "      <td>...</td>\n",
       "    </tr>\n",
       "    <tr>\n",
       "      <th>293</th>\n",
       "      <td>Waking the Artist</td>\n",
       "      <td>Spring Gardens Pack</td>\n",
       "      <td>2023-03-23</td>\n",
       "      <td>NaN</td>\n",
       "    </tr>\n",
       "    <tr>\n",
       "      <th>294</th>\n",
       "      <td>Waking the Artist</td>\n",
       "      <td>The Den Headingley Pack</td>\n",
       "      <td>2023-02-13</td>\n",
       "      <td>NaN</td>\n",
       "    </tr>\n",
       "    <tr>\n",
       "      <th>295</th>\n",
       "      <td>Waking the Artist</td>\n",
       "      <td>Turning Lives Around Pack</td>\n",
       "      <td>2023-02-22</td>\n",
       "      <td>NaN</td>\n",
       "    </tr>\n",
       "    <tr>\n",
       "      <th>297</th>\n",
       "      <td>Waking the Artist</td>\n",
       "      <td>Wetherby Town Hall Pack</td>\n",
       "      <td>2023-02-25</td>\n",
       "      <td>NaN</td>\n",
       "    </tr>\n",
       "    <tr>\n",
       "      <th>298</th>\n",
       "      <td>Waking the Artist</td>\n",
       "      <td>Who Let The Dads Out Fulneck Moravian Church Pack</td>\n",
       "      <td>2023-02-22</td>\n",
       "      <td>NaN</td>\n",
       "    </tr>\n",
       "  </tbody>\n",
       "</table>\n",
       "<p>78 rows × 4 columns</p>\n",
       "</div>"
      ],
      "text/plain": [
       "           project_name                                         event_name  \\\n",
       "49   01 - The Awakening             Creation Station - Leeds City Council    \n",
       "50   01 - The Awakening             Creation Station - Leeds City Council    \n",
       "64   01 - The Awakening  Creation Station - Yorkshire Schools Dance Fes...   \n",
       "66   01 - The Awakening               Creation Station: Ballot Engagement    \n",
       "68   01 - The Awakening           Leeds Arts University - Creation Station   \n",
       "..                  ...                                                ...   \n",
       "293   Waking the Artist                                Spring Gardens Pack   \n",
       "294   Waking the Artist                            The Den Headingley Pack   \n",
       "295   Waking the Artist                          Turning Lives Around Pack   \n",
       "297   Waking the Artist                            Wetherby Town Hall Pack   \n",
       "298   Waking the Artist  Who Let The Dads Out Fulneck Moravian Church Pack   \n",
       "\n",
       "    start_date ward_(from_venue)  \n",
       "49  2022-11-23               NaN  \n",
       "50  2022-11-24               NaN  \n",
       "64  2022-11-19               NaN  \n",
       "66         NaT               NaN  \n",
       "68         NaT               NaN  \n",
       "..         ...               ...  \n",
       "293 2023-03-23               NaN  \n",
       "294 2023-02-13               NaN  \n",
       "295 2023-02-22               NaN  \n",
       "297 2023-02-25               NaN  \n",
       "298 2023-02-22               NaN  \n",
       "\n",
       "[78 rows x 4 columns]"
      ]
     },
     "execution_count": 7,
     "metadata": {},
     "output_type": "execute_result"
    }
   ],
   "source": [
    "data.loc[wards.apply(len) != 1, ['project_name', 'event_name', 'start_date', 'ward_(from_venue)']]"
   ]
  },
  {
   "cell_type": "markdown",
   "id": "76796015",
   "metadata": {
    "papermill": {
     "duration": 0.002794,
     "end_time": "2023-09-25T23:40:41.997363",
     "exception": false,
     "start_time": "2023-09-25T23:40:41.994569",
     "status": "completed"
    },
    "tags": []
   },
   "source": [
    "Missing audience"
   ]
  },
  {
   "cell_type": "code",
   "execution_count": 8,
   "id": "bae4c7dd",
   "metadata": {
    "execution": {
     "iopub.execute_input": "2023-09-25T23:40:42.004328Z",
     "iopub.status.busy": "2023-09-25T23:40:42.003829Z",
     "iopub.status.idle": "2023-09-25T23:40:42.019892Z",
     "shell.execute_reply": "2023-09-25T23:40:42.019179Z"
    },
    "papermill": {
     "duration": 0.021496,
     "end_time": "2023-09-25T23:40:42.021608",
     "exception": false,
     "start_time": "2023-09-25T23:40:42.000112",
     "status": "completed"
    },
    "tags": []
   },
   "outputs": [
    {
     "data": {
      "text/html": [
       "<div>\n",
       "<style scoped>\n",
       "    .dataframe tbody tr th:only-of-type {\n",
       "        vertical-align: middle;\n",
       "    }\n",
       "\n",
       "    .dataframe tbody tr th {\n",
       "        vertical-align: top;\n",
       "    }\n",
       "\n",
       "    .dataframe thead th {\n",
       "        text-align: right;\n",
       "    }\n",
       "</style>\n",
       "<table border=\"1\" class=\"dataframe\">\n",
       "  <thead>\n",
       "    <tr style=\"text-align: right;\">\n",
       "      <th></th>\n",
       "      <th>project_name</th>\n",
       "      <th>event_name</th>\n",
       "      <th>start_date</th>\n",
       "      <th>audience</th>\n",
       "    </tr>\n",
       "  </thead>\n",
       "  <tbody>\n",
       "    <tr>\n",
       "      <th>0</th>\n",
       "      <td>01 - The Awakening</td>\n",
       "      <td>Ballot Facilitated Session - Carr Manor Commun...</td>\n",
       "      <td>2022-11-01</td>\n",
       "      <td>NaN</td>\n",
       "    </tr>\n",
       "    <tr>\n",
       "      <th>1</th>\n",
       "      <td>01 - The Awakening</td>\n",
       "      <td>Ballot Facilitated Session - Chapel Allerton P...</td>\n",
       "      <td>2022-11-07</td>\n",
       "      <td>NaN</td>\n",
       "    </tr>\n",
       "    <tr>\n",
       "      <th>2</th>\n",
       "      <td>01 - The Awakening</td>\n",
       "      <td>Ballot Facilitated Session - Cobden Primary Sc...</td>\n",
       "      <td>2022-11-09</td>\n",
       "      <td>NaN</td>\n",
       "    </tr>\n",
       "    <tr>\n",
       "      <th>3</th>\n",
       "      <td>01 - The Awakening</td>\n",
       "      <td>Ballot Facilitated Session - Cobden Primary Sc...</td>\n",
       "      <td>2022-11-10</td>\n",
       "      <td>NaN</td>\n",
       "    </tr>\n",
       "    <tr>\n",
       "      <th>4</th>\n",
       "      <td>01 - The Awakening</td>\n",
       "      <td>Ballot Facilitated Session - Cobden Primary Sc...</td>\n",
       "      <td>2022-11-18</td>\n",
       "      <td>NaN</td>\n",
       "    </tr>\n",
       "    <tr>\n",
       "      <th>...</th>\n",
       "      <td>...</td>\n",
       "      <td>...</td>\n",
       "      <td>...</td>\n",
       "      <td>...</td>\n",
       "    </tr>\n",
       "    <tr>\n",
       "      <th>257</th>\n",
       "      <td>Hidden Stories</td>\n",
       "      <td>Try Your Hand at Stone Carving</td>\n",
       "      <td>2023-09-09</td>\n",
       "      <td>NaN</td>\n",
       "    </tr>\n",
       "    <tr>\n",
       "      <th>258</th>\n",
       "      <td>Hidden Stories</td>\n",
       "      <td>Try Your Hand at Stone Carving</td>\n",
       "      <td>2023-09-10</td>\n",
       "      <td>NaN</td>\n",
       "    </tr>\n",
       "    <tr>\n",
       "      <th>259</th>\n",
       "      <td>Hidden Stories</td>\n",
       "      <td>Try Your Hand at Stone Carving</td>\n",
       "      <td>2023-09-16</td>\n",
       "      <td>NaN</td>\n",
       "    </tr>\n",
       "    <tr>\n",
       "      <th>260</th>\n",
       "      <td>Leeds International African Arts Festival</td>\n",
       "      <td>African and Caribbean Enterprise</td>\n",
       "      <td>2023-07-08</td>\n",
       "      <td>NaN</td>\n",
       "    </tr>\n",
       "    <tr>\n",
       "      <th>261</th>\n",
       "      <td>Leeds International African Arts Festival</td>\n",
       "      <td>Step into Africa</td>\n",
       "      <td>2023-07-09</td>\n",
       "      <td>NaN</td>\n",
       "    </tr>\n",
       "  </tbody>\n",
       "</table>\n",
       "<p>180 rows × 4 columns</p>\n",
       "</div>"
      ],
      "text/plain": [
       "                                   project_name  \\\n",
       "0                            01 - The Awakening   \n",
       "1                            01 - The Awakening   \n",
       "2                            01 - The Awakening   \n",
       "3                            01 - The Awakening   \n",
       "4                            01 - The Awakening   \n",
       "..                                          ...   \n",
       "257                              Hidden Stories   \n",
       "258                              Hidden Stories   \n",
       "259                              Hidden Stories   \n",
       "260  Leeds International African Arts Festival    \n",
       "261  Leeds International African Arts Festival    \n",
       "\n",
       "                                            event_name start_date  audience  \n",
       "0    Ballot Facilitated Session - Carr Manor Commun... 2022-11-01       NaN  \n",
       "1    Ballot Facilitated Session - Chapel Allerton P... 2022-11-07       NaN  \n",
       "2    Ballot Facilitated Session - Cobden Primary Sc... 2022-11-09       NaN  \n",
       "3    Ballot Facilitated Session - Cobden Primary Sc... 2022-11-10       NaN  \n",
       "4    Ballot Facilitated Session - Cobden Primary Sc... 2022-11-18       NaN  \n",
       "..                                                 ...        ...       ...  \n",
       "257                     Try Your Hand at Stone Carving 2023-09-09       NaN  \n",
       "258                     Try Your Hand at Stone Carving 2023-09-10       NaN  \n",
       "259                     Try Your Hand at Stone Carving 2023-09-16       NaN  \n",
       "260                  African and Caribbean Enterprise  2023-07-08       NaN  \n",
       "261                                   Step into Africa 2023-07-09       NaN  \n",
       "\n",
       "[180 rows x 4 columns]"
      ]
     },
     "execution_count": 8,
     "metadata": {},
     "output_type": "execute_result"
    }
   ],
   "source": [
    "data.loc[data.audience.isna(), ['project_name', 'event_name', 'start_date', 'audience']]"
   ]
  },
  {
   "cell_type": "code",
   "execution_count": null,
   "id": "b38dc1de",
   "metadata": {
    "papermill": {
     "duration": 0.003192,
     "end_time": "2023-09-25T23:40:42.028137",
     "exception": false,
     "start_time": "2023-09-25T23:40:42.024945",
     "status": "completed"
    },
    "tags": []
   },
   "outputs": [],
   "source": []
  },
  {
   "cell_type": "code",
   "execution_count": null,
   "id": "8c45684f",
   "metadata": {
    "papermill": {
     "duration": 0.003219,
     "end_time": "2023-09-25T23:40:42.035610",
     "exception": false,
     "start_time": "2023-09-25T23:40:42.032391",
     "status": "completed"
    },
    "tags": []
   },
   "outputs": [],
   "source": []
  }
 ],
 "metadata": {
  "kernelspec": {
   "display_name": "leeds-2023-YZF5GfJv",
   "language": "python",
   "name": "python3"
  },
  "language_info": {
   "codemirror_mode": {
    "name": "ipython",
    "version": 3
   },
   "file_extension": ".py",
   "mimetype": "text/x-python",
   "name": "python",
   "nbconvert_exporter": "python",
   "pygments_lexer": "ipython3",
   "version": "3.10.13"
  },
  "papermill": {
   "default_parameters": {},
   "duration": 14.175701,
   "end_time": "2023-09-25T23:40:42.459903",
   "environment_variables": {},
   "exception": null,
   "input_path": "transform.ipynb",
   "output_path": "../../../working/output/community-transform.ipynb",
   "parameters": {},
   "start_time": "2023-09-25T23:40:28.284202",
   "version": "2.4.0"
  }
 },
 "nbformat": 4,
 "nbformat_minor": 5
}