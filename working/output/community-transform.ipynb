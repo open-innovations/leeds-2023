{
 "cells": [
  {
   "cell_type": "code",
   "execution_count": 1,
   "id": "2cedb4e6",
   "metadata": {
    "execution": {
     "iopub.execute_input": "2023-08-09T23:37:50.335085Z",
     "iopub.status.busy": "2023-08-09T23:37:50.334362Z",
     "iopub.status.idle": "2023-08-09T23:37:50.341479Z",
     "shell.execute_reply": "2023-08-09T23:37:50.340810Z"
    },
    "papermill": {
     "duration": 0.012847,
     "end_time": "2023-08-09T23:37:50.343074",
     "exception": false,
     "start_time": "2023-08-09T23:37:50.330227",
     "status": "completed"
    },
    "tags": []
   },
   "outputs": [],
   "source": [
    "import os\n",
    "import sys\n",
    "\n",
    "TOP_DIR=os.path.realpath(\"../../..\")\n",
    "if TOP_DIR not in sys.path: sys.path.append(TOP_DIR)"
   ]
  },
  {
   "cell_type": "code",
   "execution_count": 2,
   "id": "1c38bc3d",
   "metadata": {
    "execution": {
     "iopub.execute_input": "2023-08-09T23:37:50.348311Z",
     "iopub.status.busy": "2023-08-09T23:37:50.347893Z",
     "iopub.status.idle": "2023-08-09T23:37:59.804797Z",
     "shell.execute_reply": "2023-08-09T23:37:59.804097Z"
    },
    "papermill": {
     "duration": 9.461815,
     "end_time": "2023-08-09T23:37:59.807029",
     "exception": false,
     "start_time": "2023-08-09T23:37:50.345214",
     "status": "completed"
    },
    "tags": []
   },
   "outputs": [],
   "source": [
    "import pandas as pd\n",
    "import numpy as np\n",
    "from lib.util.convert import standardise_columns, literal_converter\n",
    "from lib.util.geo import normalise_leeds_wards, ward_name_to_code"
   ]
  },
  {
   "cell_type": "code",
   "execution_count": 3,
   "id": "da6587ff",
   "metadata": {
    "execution": {
     "iopub.execute_input": "2023-08-09T23:37:59.812600Z",
     "iopub.status.busy": "2023-08-09T23:37:59.812113Z",
     "iopub.status.idle": "2023-08-09T23:37:59.832553Z",
     "shell.execute_reply": "2023-08-09T23:37:59.831984Z"
    },
    "papermill": {
     "duration": 0.024905,
     "end_time": "2023-08-09T23:37:59.834101",
     "exception": false,
     "start_time": "2023-08-09T23:37:59.809196",
     "status": "completed"
    },
    "tags": []
   },
   "outputs": [],
   "source": [
    "data = pd.read_csv('../../../working/metrics/community/events.csv', parse_dates=['Start date'])\n",
    "data = data.rename(columns=standardise_columns)"
   ]
  },
  {
   "cell_type": "code",
   "execution_count": 4,
   "id": "3f4f2aad",
   "metadata": {
    "execution": {
     "iopub.execute_input": "2023-08-09T23:37:59.839377Z",
     "iopub.status.busy": "2023-08-09T23:37:59.838812Z",
     "iopub.status.idle": "2023-08-09T23:37:59.846707Z",
     "shell.execute_reply": "2023-08-09T23:37:59.846153Z"
    },
    "papermill": {
     "duration": 0.01208,
     "end_time": "2023-08-09T23:37:59.848183",
     "exception": false,
     "start_time": "2023-08-09T23:37:59.836103",
     "status": "completed"
    },
    "tags": []
   },
   "outputs": [],
   "source": [
    "wards = data['ward_(from_venue)'].fillna('[]').pipe(literal_converter).apply(np.unique)"
   ]
  },
  {
   "cell_type": "code",
   "execution_count": 5,
   "id": "896a71cd",
   "metadata": {
    "execution": {
     "iopub.execute_input": "2023-08-09T23:37:59.853085Z",
     "iopub.status.busy": "2023-08-09T23:37:59.852684Z",
     "iopub.status.idle": "2023-08-09T23:38:00.151937Z",
     "shell.execute_reply": "2023-08-09T23:38:00.151258Z"
    },
    "papermill": {
     "duration": 0.303868,
     "end_time": "2023-08-09T23:38:00.153938",
     "exception": false,
     "start_time": "2023-08-09T23:37:59.850070",
     "status": "completed"
    },
    "tags": []
   },
   "outputs": [],
   "source": [
    "data['ward_name'] = wards.apply(lambda x: x[0] if len(x) > 0 else np.nan).pipe(normalise_leeds_wards)\n",
    "data['ward_code'] = data.ward_name.pipe(ward_name_to_code)\n",
    "data['audience'] = data.actual_audience_size_number_of_participants_in_person\n",
    "cleaned_data = data.loc[:, ['event_name', 'project_name', 'start_date', 'ward_name', 'ward_code', 'audience']]"
   ]
  },
  {
   "cell_type": "code",
   "execution_count": 6,
   "id": "2ad5ec39",
   "metadata": {
    "execution": {
     "iopub.execute_input": "2023-08-09T23:38:00.160652Z",
     "iopub.status.busy": "2023-08-09T23:38:00.160128Z",
     "iopub.status.idle": "2023-08-09T23:38:00.167300Z",
     "shell.execute_reply": "2023-08-09T23:38:00.166713Z"
    },
    "papermill": {
     "duration": 0.012373,
     "end_time": "2023-08-09T23:38:00.168857",
     "exception": false,
     "start_time": "2023-08-09T23:38:00.156484",
     "status": "completed"
    },
    "tags": []
   },
   "outputs": [],
   "source": [
    "DATA_DIR='../../../data/metrics/community'\n",
    "os.makedirs(DATA_DIR, exist_ok=True)\n",
    "cleaned_data.to_csv(os.path.join(DATA_DIR, 'events.csv'), index=False)"
   ]
  },
  {
   "cell_type": "markdown",
   "id": "021ce71d",
   "metadata": {
    "papermill": {
     "duration": 0.001929,
     "end_time": "2023-08-09T23:38:00.172867",
     "exception": false,
     "start_time": "2023-08-09T23:38:00.170938",
     "status": "completed"
    },
    "tags": []
   },
   "source": [
    "Missing or duplicated wards"
   ]
  },
  {
   "cell_type": "code",
   "execution_count": 7,
   "id": "d07b09bc",
   "metadata": {
    "execution": {
     "iopub.execute_input": "2023-08-09T23:38:00.178189Z",
     "iopub.status.busy": "2023-08-09T23:38:00.177564Z",
     "iopub.status.idle": "2023-08-09T23:38:00.192914Z",
     "shell.execute_reply": "2023-08-09T23:38:00.192272Z"
    },
    "papermill": {
     "duration": 0.019773,
     "end_time": "2023-08-09T23:38:00.194567",
     "exception": false,
     "start_time": "2023-08-09T23:38:00.174794",
     "status": "completed"
    },
    "tags": []
   },
   "outputs": [
    {
     "data": {
      "text/html": [
       "<div>\n",
       "<style scoped>\n",
       "    .dataframe tbody tr th:only-of-type {\n",
       "        vertical-align: middle;\n",
       "    }\n",
       "\n",
       "    .dataframe tbody tr th {\n",
       "        vertical-align: top;\n",
       "    }\n",
       "\n",
       "    .dataframe thead th {\n",
       "        text-align: right;\n",
       "    }\n",
       "</style>\n",
       "<table border=\"1\" class=\"dataframe\">\n",
       "  <thead>\n",
       "    <tr style=\"text-align: right;\">\n",
       "      <th></th>\n",
       "      <th>project_name</th>\n",
       "      <th>event_name</th>\n",
       "      <th>start_date</th>\n",
       "      <th>ward_(from_venue)</th>\n",
       "    </tr>\n",
       "  </thead>\n",
       "  <tbody>\n",
       "    <tr>\n",
       "      <th>49</th>\n",
       "      <td>01 - The Awakening</td>\n",
       "      <td>Creation Station - Leeds City Council</td>\n",
       "      <td>2022-11-23</td>\n",
       "      <td>NaN</td>\n",
       "    </tr>\n",
       "    <tr>\n",
       "      <th>50</th>\n",
       "      <td>01 - The Awakening</td>\n",
       "      <td>Creation Station - Leeds City Council</td>\n",
       "      <td>2022-11-24</td>\n",
       "      <td>NaN</td>\n",
       "    </tr>\n",
       "    <tr>\n",
       "      <th>64</th>\n",
       "      <td>01 - The Awakening</td>\n",
       "      <td>Creation Station - Yorkshire Schools Dance Fes...</td>\n",
       "      <td>2022-11-19</td>\n",
       "      <td>NaN</td>\n",
       "    </tr>\n",
       "    <tr>\n",
       "      <th>66</th>\n",
       "      <td>01 - The Awakening</td>\n",
       "      <td>Mass Movement Rehearsals</td>\n",
       "      <td>2023-01-05</td>\n",
       "      <td>NaN</td>\n",
       "    </tr>\n",
       "    <tr>\n",
       "      <th>67</th>\n",
       "      <td>01 - The Awakening</td>\n",
       "      <td>Waking the Artist in Communities</td>\n",
       "      <td>2023-02-06</td>\n",
       "      <td>NaN</td>\n",
       "    </tr>\n",
       "    <tr>\n",
       "      <th>...</th>\n",
       "      <td>...</td>\n",
       "      <td>...</td>\n",
       "      <td>...</td>\n",
       "      <td>...</td>\n",
       "    </tr>\n",
       "    <tr>\n",
       "      <th>255</th>\n",
       "      <td>Waking the Artist</td>\n",
       "      <td>Spring Gardens Pack</td>\n",
       "      <td>2023-03-23</td>\n",
       "      <td>NaN</td>\n",
       "    </tr>\n",
       "    <tr>\n",
       "      <th>256</th>\n",
       "      <td>Waking the Artist</td>\n",
       "      <td>The Den Headingley Pack</td>\n",
       "      <td>2023-02-13</td>\n",
       "      <td>NaN</td>\n",
       "    </tr>\n",
       "    <tr>\n",
       "      <th>257</th>\n",
       "      <td>Waking the Artist</td>\n",
       "      <td>Turning Lives Around Pack</td>\n",
       "      <td>2023-02-22</td>\n",
       "      <td>NaN</td>\n",
       "    </tr>\n",
       "    <tr>\n",
       "      <th>259</th>\n",
       "      <td>Waking the Artist</td>\n",
       "      <td>Wetherby Town Hall Pack</td>\n",
       "      <td>2023-02-25</td>\n",
       "      <td>NaN</td>\n",
       "    </tr>\n",
       "    <tr>\n",
       "      <th>260</th>\n",
       "      <td>Waking the Artist</td>\n",
       "      <td>Who Let The Dads Out Fulneck Moravian Church Pack</td>\n",
       "      <td>2023-02-22</td>\n",
       "      <td>NaN</td>\n",
       "    </tr>\n",
       "  </tbody>\n",
       "</table>\n",
       "<p>73 rows × 4 columns</p>\n",
       "</div>"
      ],
      "text/plain": [
       "           project_name                                         event_name  \\\n",
       "49   01 - The Awakening             Creation Station - Leeds City Council    \n",
       "50   01 - The Awakening             Creation Station - Leeds City Council    \n",
       "64   01 - The Awakening  Creation Station - Yorkshire Schools Dance Fes...   \n",
       "66   01 - The Awakening                           Mass Movement Rehearsals   \n",
       "67   01 - The Awakening                  Waking the Artist in Communities    \n",
       "..                  ...                                                ...   \n",
       "255   Waking the Artist                                Spring Gardens Pack   \n",
       "256   Waking the Artist                            The Den Headingley Pack   \n",
       "257   Waking the Artist                          Turning Lives Around Pack   \n",
       "259   Waking the Artist                            Wetherby Town Hall Pack   \n",
       "260   Waking the Artist  Who Let The Dads Out Fulneck Moravian Church Pack   \n",
       "\n",
       "    start_date ward_(from_venue)  \n",
       "49  2022-11-23               NaN  \n",
       "50  2022-11-24               NaN  \n",
       "64  2022-11-19               NaN  \n",
       "66  2023-01-05               NaN  \n",
       "67  2023-02-06               NaN  \n",
       "..         ...               ...  \n",
       "255 2023-03-23               NaN  \n",
       "256 2023-02-13               NaN  \n",
       "257 2023-02-22               NaN  \n",
       "259 2023-02-25               NaN  \n",
       "260 2023-02-22               NaN  \n",
       "\n",
       "[73 rows x 4 columns]"
      ]
     },
     "execution_count": 7,
     "metadata": {},
     "output_type": "execute_result"
    }
   ],
   "source": [
    "data.loc[wards.apply(len) != 1, ['project_name', 'event_name', 'start_date', 'ward_(from_venue)']]"
   ]
  },
  {
   "cell_type": "markdown",
   "id": "4df04731",
   "metadata": {
    "papermill": {
     "duration": 0.002225,
     "end_time": "2023-08-09T23:38:00.199082",
     "exception": false,
     "start_time": "2023-08-09T23:38:00.196857",
     "status": "completed"
    },
    "tags": []
   },
   "source": [
    "Missing audience"
   ]
  },
  {
   "cell_type": "code",
   "execution_count": 8,
   "id": "87b743cf",
   "metadata": {
    "execution": {
     "iopub.execute_input": "2023-08-09T23:38:00.204741Z",
     "iopub.status.busy": "2023-08-09T23:38:00.204299Z",
     "iopub.status.idle": "2023-08-09T23:38:00.215779Z",
     "shell.execute_reply": "2023-08-09T23:38:00.215110Z"
    },
    "papermill": {
     "duration": 0.016709,
     "end_time": "2023-08-09T23:38:00.217992",
     "exception": false,
     "start_time": "2023-08-09T23:38:00.201283",
     "status": "completed"
    },
    "tags": []
   },
   "outputs": [
    {
     "data": {
      "text/html": [
       "<div>\n",
       "<style scoped>\n",
       "    .dataframe tbody tr th:only-of-type {\n",
       "        vertical-align: middle;\n",
       "    }\n",
       "\n",
       "    .dataframe tbody tr th {\n",
       "        vertical-align: top;\n",
       "    }\n",
       "\n",
       "    .dataframe thead th {\n",
       "        text-align: right;\n",
       "    }\n",
       "</style>\n",
       "<table border=\"1\" class=\"dataframe\">\n",
       "  <thead>\n",
       "    <tr style=\"text-align: right;\">\n",
       "      <th></th>\n",
       "      <th>project_name</th>\n",
       "      <th>event_name</th>\n",
       "      <th>start_date</th>\n",
       "      <th>audience</th>\n",
       "    </tr>\n",
       "  </thead>\n",
       "  <tbody>\n",
       "    <tr>\n",
       "      <th>0</th>\n",
       "      <td>01 - The Awakening</td>\n",
       "      <td>Ballot Facilitated Session - Carr Manor Commun...</td>\n",
       "      <td>2022-11-01</td>\n",
       "      <td>NaN</td>\n",
       "    </tr>\n",
       "    <tr>\n",
       "      <th>1</th>\n",
       "      <td>01 - The Awakening</td>\n",
       "      <td>Ballot Facilitated Session - Chapel Allerton P...</td>\n",
       "      <td>2022-11-07</td>\n",
       "      <td>NaN</td>\n",
       "    </tr>\n",
       "    <tr>\n",
       "      <th>2</th>\n",
       "      <td>01 - The Awakening</td>\n",
       "      <td>Ballot Facilitated Session - Cobden Primary Sc...</td>\n",
       "      <td>2022-11-09</td>\n",
       "      <td>NaN</td>\n",
       "    </tr>\n",
       "    <tr>\n",
       "      <th>3</th>\n",
       "      <td>01 - The Awakening</td>\n",
       "      <td>Ballot Facilitated Session - Cobden Primary Sc...</td>\n",
       "      <td>2022-11-10</td>\n",
       "      <td>NaN</td>\n",
       "    </tr>\n",
       "    <tr>\n",
       "      <th>4</th>\n",
       "      <td>01 - The Awakening</td>\n",
       "      <td>Ballot Facilitated Session - Cobden Primary Sc...</td>\n",
       "      <td>2022-11-18</td>\n",
       "      <td>NaN</td>\n",
       "    </tr>\n",
       "    <tr>\n",
       "      <th>...</th>\n",
       "      <td>...</td>\n",
       "      <td>...</td>\n",
       "      <td>...</td>\n",
       "      <td>...</td>\n",
       "    </tr>\n",
       "    <tr>\n",
       "      <th>219</th>\n",
       "      <td>My World My City My Neighbourhood</td>\n",
       "      <td>Lincoln Greeners - Festival Closing</td>\n",
       "      <td>2023-08-24</td>\n",
       "      <td>NaN</td>\n",
       "    </tr>\n",
       "    <tr>\n",
       "      <th>220</th>\n",
       "      <td>My World My City My Neighbourhood</td>\n",
       "      <td>Lincoln Greeners - Festival Opening</td>\n",
       "      <td>2023-05-21</td>\n",
       "      <td>NaN</td>\n",
       "    </tr>\n",
       "    <tr>\n",
       "      <th>221</th>\n",
       "      <td>My World My City My Neighbourhood</td>\n",
       "      <td>Stand and Be Counted Round Table</td>\n",
       "      <td>2023-04-24</td>\n",
       "      <td>NaN</td>\n",
       "    </tr>\n",
       "    <tr>\n",
       "      <th>222</th>\n",
       "      <td>My World My City My Neighbourhood</td>\n",
       "      <td>The Ginnel</td>\n",
       "      <td>2023-10-13</td>\n",
       "      <td>NaN</td>\n",
       "    </tr>\n",
       "    <tr>\n",
       "      <th>223</th>\n",
       "      <td>My World My City My Neighbourhood</td>\n",
       "      <td>The Path Between</td>\n",
       "      <td>2023-10-14</td>\n",
       "      <td>NaN</td>\n",
       "    </tr>\n",
       "  </tbody>\n",
       "</table>\n",
       "<p>168 rows × 4 columns</p>\n",
       "</div>"
      ],
      "text/plain": [
       "                          project_name  \\\n",
       "0                   01 - The Awakening   \n",
       "1                   01 - The Awakening   \n",
       "2                   01 - The Awakening   \n",
       "3                   01 - The Awakening   \n",
       "4                   01 - The Awakening   \n",
       "..                                 ...   \n",
       "219  My World My City My Neighbourhood   \n",
       "220  My World My City My Neighbourhood   \n",
       "221  My World My City My Neighbourhood   \n",
       "222  My World My City My Neighbourhood   \n",
       "223  My World My City My Neighbourhood   \n",
       "\n",
       "                                            event_name start_date  audience  \n",
       "0    Ballot Facilitated Session - Carr Manor Commun... 2022-11-01       NaN  \n",
       "1    Ballot Facilitated Session - Chapel Allerton P... 2022-11-07       NaN  \n",
       "2    Ballot Facilitated Session - Cobden Primary Sc... 2022-11-09       NaN  \n",
       "3    Ballot Facilitated Session - Cobden Primary Sc... 2022-11-10       NaN  \n",
       "4    Ballot Facilitated Session - Cobden Primary Sc... 2022-11-18       NaN  \n",
       "..                                                 ...        ...       ...  \n",
       "219                Lincoln Greeners - Festival Closing 2023-08-24       NaN  \n",
       "220                Lincoln Greeners - Festival Opening 2023-05-21       NaN  \n",
       "221                   Stand and Be Counted Round Table 2023-04-24       NaN  \n",
       "222                                         The Ginnel 2023-10-13       NaN  \n",
       "223                                   The Path Between 2023-10-14       NaN  \n",
       "\n",
       "[168 rows x 4 columns]"
      ]
     },
     "execution_count": 8,
     "metadata": {},
     "output_type": "execute_result"
    }
   ],
   "source": [
    "data.loc[data.audience.isna(), ['project_name', 'event_name', 'start_date', 'audience']]"
   ]
  },
  {
   "cell_type": "code",
   "execution_count": null,
   "id": "07131ba7",
   "metadata": {
    "papermill": {
     "duration": 0.002375,
     "end_time": "2023-08-09T23:38:00.222833",
     "exception": false,
     "start_time": "2023-08-09T23:38:00.220458",
     "status": "completed"
    },
    "tags": []
   },
   "outputs": [],
   "source": []
  },
  {
   "cell_type": "code",
   "execution_count": null,
   "id": "5ab1b402",
   "metadata": {
    "papermill": {
     "duration": 0.003223,
     "end_time": "2023-08-09T23:38:00.228461",
     "exception": false,
     "start_time": "2023-08-09T23:38:00.225238",
     "status": "completed"
    },
    "tags": []
   },
   "outputs": [],
   "source": []
  }
 ],
 "metadata": {
  "kernelspec": {
   "display_name": "leeds-2023-YZF5GfJv",
   "language": "python",
   "name": "python3"
  },
  "language_info": {
   "codemirror_mode": {
    "name": "ipython",
    "version": 3
   },
   "file_extension": ".py",
   "mimetype": "text/x-python",
   "name": "python",
   "nbconvert_exporter": "python",
   "pygments_lexer": "ipython3",
   "version": "3.10.6"
  },
  "papermill": {
   "default_parameters": {},
   "duration": 11.602193,
   "end_time": "2023-08-09T23:38:00.547984",
   "environment_variables": {},
   "exception": null,
   "input_path": "transform.ipynb",
   "output_path": "../../../working/output/community-transform.ipynb",
   "parameters": {},
   "start_time": "2023-08-09T23:37:48.945791",
   "version": "2.4.0"
  }
 },
 "nbformat": 4,
 "nbformat_minor": 5
}