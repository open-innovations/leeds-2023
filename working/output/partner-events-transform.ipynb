{
 "cells": [
  {
   "cell_type": "code",
   "execution_count": 1,
   "id": "88605a27",
   "metadata": {
    "execution": {
     "iopub.execute_input": "2023-10-06T09:21:42.649700Z",
     "iopub.status.busy": "2023-10-06T09:21:42.649098Z",
     "iopub.status.idle": "2023-10-06T09:21:42.811541Z",
     "shell.execute_reply": "2023-10-06T09:21:42.811096Z"
    },
    "papermill": {
     "duration": 0.169362,
     "end_time": "2023-10-06T09:21:42.812633",
     "exception": false,
     "start_time": "2023-10-06T09:21:42.643271",
     "status": "completed"
    },
    "tags": []
   },
   "outputs": [],
   "source": [
    "import os\n",
    "import sys\n",
    "import pandas as pd\n",
    "lib_dir = os.path.realpath('../../../lib/')\n",
    "if lib_dir not in sys.path: sys.path.append(lib_dir)"
   ]
  },
  {
   "cell_type": "code",
   "execution_count": 2,
   "id": "53e5eb66",
   "metadata": {
    "execution": {
     "iopub.execute_input": "2023-10-06T09:21:42.815920Z",
     "iopub.status.busy": "2023-10-06T09:21:42.815712Z",
     "iopub.status.idle": "2023-10-06T09:21:47.368157Z",
     "shell.execute_reply": "2023-10-06T09:21:47.367692Z"
    },
    "papermill": {
     "duration": 4.555136,
     "end_time": "2023-10-06T09:21:47.369199",
     "exception": false,
     "start_time": "2023-10-06T09:21:42.814063",
     "status": "completed"
    },
    "tags": []
   },
   "outputs": [],
   "source": [
    "import util.geo"
   ]
  },
  {
   "cell_type": "code",
   "execution_count": 3,
   "id": "ff2d9422",
   "metadata": {
    "execution": {
     "iopub.execute_input": "2023-10-06T09:21:47.372451Z",
     "iopub.status.busy": "2023-10-06T09:21:47.372286Z",
     "iopub.status.idle": "2023-10-06T09:21:47.374412Z",
     "shell.execute_reply": "2023-10-06T09:21:47.374089Z"
    },
    "papermill": {
     "duration": 0.004614,
     "end_time": "2023-10-06T09:21:47.375166",
     "exception": false,
     "start_time": "2023-10-06T09:21:47.370552",
     "status": "completed"
    },
    "tags": []
   },
   "outputs": [],
   "source": [
    "EVENTS_RAW_DATA = '../../../working/metrics/partner-events/events.csv'\n",
    "DATA_DIR = '../../../data/metrics/events/partner-events/'\n",
    "EVENTS_DATA = os.path.join(DATA_DIR, 'events.csv')"
   ]
  },
  {
   "cell_type": "code",
   "execution_count": 4,
   "id": "8169f2fd",
   "metadata": {
    "execution": {
     "iopub.execute_input": "2023-10-06T09:21:47.378156Z",
     "iopub.status.busy": "2023-10-06T09:21:47.378005Z",
     "iopub.status.idle": "2023-10-06T09:21:47.380079Z",
     "shell.execute_reply": "2023-10-06T09:21:47.379814Z"
    },
    "papermill": {
     "duration": 0.004304,
     "end_time": "2023-10-06T09:21:47.380659",
     "exception": false,
     "start_time": "2023-10-06T09:21:47.376355",
     "status": "completed"
    },
    "tags": []
   },
   "outputs": [],
   "source": [
    "columns = {\n",
    "    'Event Name': 'name',\n",
    "    'Event Start Date': 'start_date',\n",
    "    'Event End Date': 'end_date',\n",
    "    'Partner/Promote': 'partner_promote',\n",
    "    'Stage': 'stage',\n",
    "    'Live date': 'live_date',\n",
    "    'Venue postcode': 'postcode',\n",
    "    'Pricing Policy': 'pricing',\n",
    "    'Venue - including address': 'venue',\n",
    "    'Is this event on Leeds Inspried?': 'on_leeds_inspired',\n",
    "}"
   ]
  },
  {
   "cell_type": "markdown",
   "id": "785c46aa",
   "metadata": {
    "papermill": {
     "duration": 0.001123,
     "end_time": "2023-10-06T09:21:47.382989",
     "exception": false,
     "start_time": "2023-10-06T09:21:47.381866",
     "status": "completed"
    },
    "tags": []
   },
   "source": [
    "Load the data and rename columns. Parse the dates to dates."
   ]
  },
  {
   "cell_type": "code",
   "execution_count": 5,
   "id": "389df3c4",
   "metadata": {
    "execution": {
     "iopub.execute_input": "2023-10-06T09:21:47.385839Z",
     "iopub.status.busy": "2023-10-06T09:21:47.385668Z",
     "iopub.status.idle": "2023-10-06T09:21:47.391762Z",
     "shell.execute_reply": "2023-10-06T09:21:47.391442Z"
    },
    "papermill": {
     "duration": 0.00839,
     "end_time": "2023-10-06T09:21:47.392540",
     "exception": false,
     "start_time": "2023-10-06T09:21:47.384150",
     "status": "completed"
    },
    "tags": []
   },
   "outputs": [],
   "source": [
    "data = pd.read_csv(EVENTS_RAW_DATA)[columns.keys()].rename(columns=columns)\n",
    "data.start_date = pd.to_datetime(data.start_date, errors='coerce')\n",
    "data.end_date = pd.to_datetime(data.end_date, errors='coerce')"
   ]
  },
  {
   "cell_type": "markdown",
   "id": "6fbdbcbf",
   "metadata": {
    "papermill": {
     "duration": 0.001187,
     "end_time": "2023-10-06T09:21:47.394983",
     "exception": false,
     "start_time": "2023-10-06T09:21:47.393796",
     "status": "completed"
    },
    "tags": []
   },
   "source": [
    "Filter data by not LI Pull through and start date before now"
   ]
  },
  {
   "cell_type": "code",
   "execution_count": 6,
   "id": "3c85dcb4",
   "metadata": {
    "execution": {
     "iopub.execute_input": "2023-10-06T09:21:47.397806Z",
     "iopub.status.busy": "2023-10-06T09:21:47.397697Z",
     "iopub.status.idle": "2023-10-06T09:21:47.400465Z",
     "shell.execute_reply": "2023-10-06T09:21:47.400156Z"
    },
    "papermill": {
     "duration": 0.005085,
     "end_time": "2023-10-06T09:21:47.401216",
     "exception": false,
     "start_time": "2023-10-06T09:21:47.396131",
     "status": "completed"
    },
    "tags": []
   },
   "outputs": [],
   "source": [
    "data = data[\n",
    "    # (data.live_date == 'This event is live ') &\n",
    "    ((data.stage != 'LI pull through') & data.stage.notna()) &\n",
    "    (data.start_date < pd.Timestamp.now())\n",
    "]"
   ]
  },
  {
   "cell_type": "code",
   "execution_count": 7,
   "id": "de753223",
   "metadata": {
    "execution": {
     "iopub.execute_input": "2023-10-06T09:21:47.404153Z",
     "iopub.status.busy": "2023-10-06T09:21:47.403971Z",
     "iopub.status.idle": "2023-10-06T09:21:48.022331Z",
     "shell.execute_reply": "2023-10-06T09:21:48.021876Z"
    },
    "papermill": {
     "duration": 0.62097,
     "end_time": "2023-10-06T09:21:48.023403",
     "exception": false,
     "start_time": "2023-10-06T09:21:47.402433",
     "status": "completed"
    },
    "tags": []
   },
   "outputs": [],
   "source": [
    "data['ward_code'] = data.postcode.pipe(util.geo.postcode_formatter).map(util.geo.postcode_to_ward_code)\n",
    "data['ward_name'] = data.ward_code.pipe(util.geo.ward_code_to_name)"
   ]
  },
  {
   "cell_type": "markdown",
   "id": "3082656c",
   "metadata": {
    "papermill": {
     "duration": 0.001259,
     "end_time": "2023-10-06T09:21:48.026111",
     "exception": false,
     "start_time": "2023-10-06T09:21:48.024852",
     "status": "completed"
    },
    "tags": []
   },
   "source": [
    "Save the file"
   ]
  },
  {
   "cell_type": "code",
   "execution_count": 8,
   "id": "16a7e2bd",
   "metadata": {
    "execution": {
     "iopub.execute_input": "2023-10-06T09:21:48.029175Z",
     "iopub.status.busy": "2023-10-06T09:21:48.029019Z",
     "iopub.status.idle": "2023-10-06T09:21:48.032938Z",
     "shell.execute_reply": "2023-10-06T09:21:48.032600Z"
    },
    "papermill": {
     "duration": 0.006323,
     "end_time": "2023-10-06T09:21:48.033678",
     "exception": false,
     "start_time": "2023-10-06T09:21:48.027355",
     "status": "completed"
    },
    "tags": []
   },
   "outputs": [],
   "source": [
    "data[\n",
    "    ['name','start_date','end_date','ward_code']\n",
    "].to_csv(EVENTS_DATA, index=False)"
   ]
  },
  {
   "cell_type": "markdown",
   "id": "12654ad5",
   "metadata": {
    "papermill": {
     "duration": 0.001186,
     "end_time": "2023-10-06T09:21:48.036153",
     "exception": false,
     "start_time": "2023-10-06T09:21:48.034967",
     "status": "completed"
    },
    "tags": []
   },
   "source": [
    "Print out missing postcode data"
   ]
  },
  {
   "cell_type": "code",
   "execution_count": 9,
   "id": "c5af52ac",
   "metadata": {
    "execution": {
     "iopub.execute_input": "2023-10-06T09:21:48.039743Z",
     "iopub.status.busy": "2023-10-06T09:21:48.039528Z",
     "iopub.status.idle": "2023-10-06T09:21:48.046507Z",
     "shell.execute_reply": "2023-10-06T09:21:48.046244Z"
    },
    "papermill": {
     "duration": 0.009895,
     "end_time": "2023-10-06T09:21:48.047262",
     "exception": false,
     "start_time": "2023-10-06T09:21:48.037367",
     "status": "completed"
    },
    "tags": []
   },
   "outputs": [
    {
     "data": {
      "text/html": [
       "<div>\n",
       "<style scoped>\n",
       "    .dataframe tbody tr th:only-of-type {\n",
       "        vertical-align: middle;\n",
       "    }\n",
       "\n",
       "    .dataframe tbody tr th {\n",
       "        vertical-align: top;\n",
       "    }\n",
       "\n",
       "    .dataframe thead th {\n",
       "        text-align: right;\n",
       "    }\n",
       "</style>\n",
       "<table border=\"1\" class=\"dataframe\">\n",
       "  <thead>\n",
       "    <tr style=\"text-align: right;\">\n",
       "      <th></th>\n",
       "      <th>name</th>\n",
       "      <th>start_date</th>\n",
       "    </tr>\n",
       "  </thead>\n",
       "  <tbody>\n",
       "    <tr>\n",
       "      <th>1</th>\n",
       "      <td>East Street Arts, A City Less Grey 2022</td>\n",
       "      <td>2022-10-08</td>\n",
       "    </tr>\n",
       "    <tr>\n",
       "      <th>3</th>\n",
       "      <td>Phoenix Dance Theatre Virtual Gallery</td>\n",
       "      <td>2023-01-01</td>\n",
       "    </tr>\n",
       "    <tr>\n",
       "      <th>4</th>\n",
       "      <td>The Big Art Giveaway, School of Creative Arts ...</td>\n",
       "      <td>2023-01-01</td>\n",
       "    </tr>\n",
       "    <tr>\n",
       "      <th>5</th>\n",
       "      <td>Embassy of Netherlands, Meet Leeds Lab</td>\n",
       "      <td>2023-01-16</td>\n",
       "    </tr>\n",
       "    <tr>\n",
       "      <th>6</th>\n",
       "      <td>Shifting Borders: A Journey to the Centre of o...</td>\n",
       "      <td>2023-01-24</td>\n",
       "    </tr>\n",
       "    <tr>\n",
       "      <th>...</th>\n",
       "      <td>...</td>\n",
       "      <td>...</td>\n",
       "    </tr>\n",
       "    <tr>\n",
       "      <th>186</th>\n",
       "      <td>The Ida Network: Leeds meet-up</td>\n",
       "      <td>2023-09-11</td>\n",
       "    </tr>\n",
       "    <tr>\n",
       "      <th>191</th>\n",
       "      <td>Civic Skateboarding</td>\n",
       "      <td>2023-09-16</td>\n",
       "    </tr>\n",
       "    <tr>\n",
       "      <th>195</th>\n",
       "      <td>Jazz at HEART: Sam Newbould Quintet (UK tour)</td>\n",
       "      <td>2023-09-20</td>\n",
       "    </tr>\n",
       "    <tr>\n",
       "      <th>196</th>\n",
       "      <td>On Wednesdays We Wear Queer: Drag Night Extrav...</td>\n",
       "      <td>2023-09-20</td>\n",
       "    </tr>\n",
       "    <tr>\n",
       "      <th>205</th>\n",
       "      <td>Neville Street Artwork</td>\n",
       "      <td>2023-10-01</td>\n",
       "    </tr>\n",
       "  </tbody>\n",
       "</table>\n",
       "<p>63 rows × 2 columns</p>\n",
       "</div>"
      ],
      "text/plain": [
       "                                                  name start_date\n",
       "1              East Street Arts, A City Less Grey 2022 2022-10-08\n",
       "3                Phoenix Dance Theatre Virtual Gallery 2023-01-01\n",
       "4    The Big Art Giveaway, School of Creative Arts ... 2023-01-01\n",
       "5               Embassy of Netherlands, Meet Leeds Lab 2023-01-16\n",
       "6    Shifting Borders: A Journey to the Centre of o... 2023-01-24\n",
       "..                                                 ...        ...\n",
       "186                     The Ida Network: Leeds meet-up 2023-09-11\n",
       "191                                Civic Skateboarding 2023-09-16\n",
       "195      Jazz at HEART: Sam Newbould Quintet (UK tour) 2023-09-20\n",
       "196  On Wednesdays We Wear Queer: Drag Night Extrav... 2023-09-20\n",
       "205                             Neville Street Artwork 2023-10-01\n",
       "\n",
       "[63 rows x 2 columns]"
      ]
     },
     "execution_count": 9,
     "metadata": {},
     "output_type": "execute_result"
    }
   ],
   "source": [
    "data[data.postcode.isna()][[\n",
    "    'name', 'start_date'\n",
    "]]"
   ]
  },
  {
   "cell_type": "markdown",
   "id": "2ef3753f",
   "metadata": {
    "papermill": {
     "duration": 0.001354,
     "end_time": "2023-10-06T09:21:48.050064",
     "exception": false,
     "start_time": "2023-10-06T09:21:48.048710",
     "status": "completed"
    },
    "tags": []
   },
   "source": [
    "Plot the pricing"
   ]
  },
  {
   "cell_type": "code",
   "execution_count": 10,
   "id": "0eb0b683",
   "metadata": {
    "execution": {
     "iopub.execute_input": "2023-10-06T09:21:48.053340Z",
     "iopub.status.busy": "2023-10-06T09:21:48.053130Z",
     "iopub.status.idle": "2023-10-06T09:21:48.299879Z",
     "shell.execute_reply": "2023-10-06T09:21:48.299529Z"
    },
    "papermill": {
     "duration": 0.249296,
     "end_time": "2023-10-06T09:21:48.300690",
     "exception": false,
     "start_time": "2023-10-06T09:21:48.051394",
     "status": "completed"
    },
    "tags": []
   },
   "outputs": [
    {
     "data": {
      "image/png": "[encoded data removed]",
      "text/plain": [
       "<Figure size 640x480 with 1 Axes>"
      ]
     },
     "metadata": {},
     "output_type": "display_data"
    }
   ],
   "source": [
    "# .groupby('pricing').count().plot.barh()\n",
    "pricing = data.pricing.fillna('Unspecified').str.replace('[\\[\\'\\]]', '', regex=True).to_frame().reset_index().groupby('pricing').count()\n",
    "\n",
    "pricing.columns = ['count']\n",
    "plot = pricing.plot.barh()\n"
   ]
  },
  {
   "cell_type": "code",
   "execution_count": null,
   "id": "fb1e7fc3",
   "metadata": {
    "papermill": {
     "duration": 0.001628,
     "end_time": "2023-10-06T09:21:48.304177",
     "exception": false,
     "start_time": "2023-10-06T09:21:48.302549",
     "status": "completed"
    },
    "tags": []
   },
   "outputs": [],
   "source": []
  }
 ],
 "metadata": {
  "kernelspec": {
   "display_name": "leeds-2023-YZF5GfJv",
   "language": "python",
   "name": "python3"
  },
  "language_info": {
   "codemirror_mode": {
    "name": "ipython",
    "version": 3
   },
   "file_extension": ".py",
   "mimetype": "text/x-python",
   "name": "python",
   "nbconvert_exporter": "python",
   "pygments_lexer": "ipython3",
   "version": "3.10.12"
  },
  "papermill": {
   "default_parameters": {},
   "duration": 6.695692,
   "end_time": "2023-10-06T09:21:48.623362",
   "environment_variables": {},
   "exception": null,
   "input_path": "transform.ipynb",
   "output_path": "../../../working/output/partner-events-transform.ipynb",
   "parameters": {},
   "start_time": "2023-10-06T09:21:41.927670",
   "version": "2.4.0"
  }
 },
 "nbformat": 4,
 "nbformat_minor": 5
}