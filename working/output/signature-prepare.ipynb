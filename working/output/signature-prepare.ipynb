{
 "cells": [
  {
   "cell_type": "code",
   "execution_count": 1,
   "id": "17ac9be2",
   "metadata": {
    "execution": {
     "iopub.execute_input": "2023-12-09T23:39:13.555997Z",
     "iopub.status.busy": "2023-12-09T23:39:13.555745Z",
     "iopub.status.idle": "2023-12-09T23:39:21.005382Z",
     "shell.execute_reply": "2023-12-09T23:39:21.004534Z"
    },
    "papermill": {
     "duration": 7.454819,
     "end_time": "2023-12-09T23:39:21.007096",
     "exception": false,
     "start_time": "2023-12-09T23:39:13.552277",
     "status": "completed"
    },
    "tags": []
   },
   "outputs": [],
   "source": [
    "import os\n",
    "import pandas as pd\n",
    "from events import load_event_data, get_first_ward, normalise_ward"
   ]
  },
  {
   "cell_type": "code",
   "execution_count": 2,
   "id": "b2ab1127",
   "metadata": {
    "execution": {
     "iopub.execute_input": "2023-12-09T23:39:21.012459Z",
     "iopub.status.busy": "2023-12-09T23:39:21.012060Z",
     "iopub.status.idle": "2023-12-09T23:39:21.015550Z",
     "shell.execute_reply": "2023-12-09T23:39:21.014929Z"
    },
    "papermill": {
     "duration": 0.007573,
     "end_time": "2023-12-09T23:39:21.016948",
     "exception": false,
     "start_time": "2023-12-09T23:39:21.009375",
     "status": "completed"
    },
    "tags": []
   },
   "outputs": [],
   "source": [
    "latest_date = pd.Timestamp.today().ceil('D')"
   ]
  },
  {
   "cell_type": "code",
   "execution_count": 3,
   "id": "00e4fd93",
   "metadata": {
    "execution": {
     "iopub.execute_input": "2023-12-09T23:39:21.021736Z",
     "iopub.status.busy": "2023-12-09T23:39:21.021315Z",
     "iopub.status.idle": "2023-12-09T23:39:21.036461Z",
     "shell.execute_reply": "2023-12-09T23:39:21.035900Z"
    },
    "papermill": {
     "duration": 0.018918,
     "end_time": "2023-12-09T23:39:21.037692",
     "exception": false,
     "start_time": "2023-12-09T23:39:21.018774",
     "status": "completed"
    },
    "tags": []
   },
   "outputs": [],
   "source": [
    "tickets = pd.read_csv('../../../../data/metrics/events/tickets/orders.csv', parse_dates=['created_at', 'event_date'])\n",
    "tickets = tickets[tickets.event_date <= latest_date]"
   ]
  },
  {
   "cell_type": "code",
   "execution_count": 4,
   "id": "6ad969e7",
   "metadata": {
    "execution": {
     "iopub.execute_input": "2023-12-09T23:39:21.042620Z",
     "iopub.status.busy": "2023-12-09T23:39:21.042114Z",
     "iopub.status.idle": "2023-12-09T23:39:21.093359Z",
     "shell.execute_reply": "2023-12-09T23:39:21.092629Z"
    },
    "papermill": {
     "duration": 0.055517,
     "end_time": "2023-12-09T23:39:21.095041",
     "exception": false,
     "start_time": "2023-12-09T23:39:21.039524",
     "status": "completed"
    },
    "tags": []
   },
   "outputs": [],
   "source": [
    "events = load_event_data()\n",
    "\n",
    "events = pd.concat([\n",
    "  events,\n",
    "  events.pipe(get_first_ward).pipe(normalise_ward).fillna('UNKNOWN'),\n",
    "  pd.Series(\n",
    "      events.actual_audience_size_number_of_participants_in_person + events.actual_audience_size_number_of_participants_online,\n",
    "      name='attendances'\n",
    "  )\n",
    "], axis=1).rename(columns={\n",
    "    'start_date': 'date'\n",
    "}).loc[:, ['ward_code', 'date', 'event_unique_identifier', 'attendances']]"
   ]
  },
  {
   "cell_type": "code",
   "execution_count": 5,
   "id": "30193bc6",
   "metadata": {
    "execution": {
     "iopub.execute_input": "2023-12-09T23:39:21.100449Z",
     "iopub.status.busy": "2023-12-09T23:39:21.099854Z",
     "iopub.status.idle": "2023-12-09T23:39:21.103332Z",
     "shell.execute_reply": "2023-12-09T23:39:21.102704Z"
    },
    "papermill": {
     "duration": 0.007405,
     "end_time": "2023-12-09T23:39:21.104578",
     "exception": false,
     "start_time": "2023-12-09T23:39:21.097173",
     "status": "completed"
    },
    "tags": []
   },
   "outputs": [],
   "source": [
    "OUTPUT_DIR='../../../../docs/metrics/events/signature/_data/'\n",
    "os.makedirs(OUTPUT_DIR, exist_ok=True)"
   ]
  },
  {
   "cell_type": "markdown",
   "id": "a2261e8c",
   "metadata": {
    "papermill": {
     "duration": 0.001928,
     "end_time": "2023-12-09T23:39:21.108400",
     "exception": false,
     "start_time": "2023-12-09T23:39:21.106472",
     "status": "completed"
    },
    "tags": []
   },
   "source": [
    "Events CSVs"
   ]
  },
  {
   "cell_type": "code",
   "execution_count": 6,
   "id": "edff70ef",
   "metadata": {
    "execution": {
     "iopub.execute_input": "2023-12-09T23:39:21.113289Z",
     "iopub.status.busy": "2023-12-09T23:39:21.112950Z",
     "iopub.status.idle": "2023-12-09T23:39:21.118987Z",
     "shell.execute_reply": "2023-12-09T23:39:21.118385Z"
    },
    "papermill": {
     "duration": 0.009982,
     "end_time": "2023-12-09T23:39:21.120342",
     "exception": false,
     "start_time": "2023-12-09T23:39:21.110360",
     "status": "completed"
    },
    "tags": []
   },
   "outputs": [],
   "source": [
    "pd.DataFrame({\n",
    "  'events': events.groupby('ward_code').event_unique_identifier.count(),\n",
    "  'attendances': events.groupby('ward_code').attendances.sum().astype(int),\n",
    "}).to_csv(os.path.join(OUTPUT_DIR, 'events_by_ward.csv'))\n"
   ]
  },
  {
   "cell_type": "code",
   "execution_count": 7,
   "id": "ae887e8e",
   "metadata": {
    "execution": {
     "iopub.execute_input": "2023-12-09T23:39:21.125176Z",
     "iopub.status.busy": "2023-12-09T23:39:21.124817Z",
     "iopub.status.idle": "2023-12-09T23:39:21.132653Z",
     "shell.execute_reply": "2023-12-09T23:39:21.132110Z"
    },
    "papermill": {
     "duration": 0.011675,
     "end_time": "2023-12-09T23:39:21.133936",
     "exception": false,
     "start_time": "2023-12-09T23:39:21.122261",
     "status": "completed"
    },
    "tags": []
   },
   "outputs": [],
   "source": [
    "pd.DataFrame({\n",
    "  'events': events.groupby('date').event_unique_identifier.count(),\n",
    "  'attendances': events.groupby('date').attendances.sum().astype(int),\n",
    "}).resample('M').sum().astype(int).to_csv(os.path.join(OUTPUT_DIR, 'events_by_date.csv'))"
   ]
  },
  {
   "cell_type": "markdown",
   "id": "3e4e1623",
   "metadata": {
    "papermill": {
     "duration": 0.002658,
     "end_time": "2023-12-09T23:39:21.138604",
     "exception": false,
     "start_time": "2023-12-09T23:39:21.135946",
     "status": "completed"
    },
    "tags": []
   },
   "source": [
    "Tickets CSV"
   ]
  },
  {
   "cell_type": "code",
   "execution_count": 8,
   "id": "90b57d20",
   "metadata": {
    "execution": {
     "iopub.execute_input": "2023-12-09T23:39:21.143469Z",
     "iopub.status.busy": "2023-12-09T23:39:21.143078Z",
     "iopub.status.idle": "2023-12-09T23:39:21.149391Z",
     "shell.execute_reply": "2023-12-09T23:39:21.148779Z"
    },
    "papermill": {
     "duration": 0.010262,
     "end_time": "2023-12-09T23:39:21.150817",
     "exception": false,
     "start_time": "2023-12-09T23:39:21.140555",
     "status": "completed"
    },
    "tags": []
   },
   "outputs": [],
   "source": [
    "pd.DataFrame({\n",
    "  'orders': tickets.groupby('ward_code').number_of_tickets.count(),\n",
    "  'tickets': tickets.groupby('ward_code').number_of_tickets.sum().astype(int),\n",
    "}).to_csv(os.path.join(OUTPUT_DIR, 'tickets_by_ward.csv'))"
   ]
  },
  {
   "cell_type": "code",
   "execution_count": 9,
   "id": "45a6970b",
   "metadata": {
    "execution": {
     "iopub.execute_input": "2023-12-09T23:39:21.155819Z",
     "iopub.status.busy": "2023-12-09T23:39:21.155432Z",
     "iopub.status.idle": "2023-12-09T23:39:21.162357Z",
     "shell.execute_reply": "2023-12-09T23:39:21.161860Z"
    },
    "papermill": {
     "duration": 0.01085,
     "end_time": "2023-12-09T23:39:21.163664",
     "exception": false,
     "start_time": "2023-12-09T23:39:21.152814",
     "status": "completed"
    },
    "tags": []
   },
   "outputs": [],
   "source": [
    "pd.DataFrame({\n",
    "  'orders': tickets.groupby('event_date').number_of_tickets.count(),\n",
    "  'tickets': tickets.groupby('event_date').number_of_tickets.sum().astype(int),\n",
    "}).resample('M').sum().to_csv(os.path.join(OUTPUT_DIR, 'tickets_by_event_date.csv'))"
   ]
  },
  {
   "cell_type": "code",
   "execution_count": 10,
   "id": "a1425eed",
   "metadata": {
    "execution": {
     "iopub.execute_input": "2023-12-09T23:39:21.168700Z",
     "iopub.status.busy": "2023-12-09T23:39:21.168355Z",
     "iopub.status.idle": "2023-12-09T23:39:21.173298Z",
     "shell.execute_reply": "2023-12-09T23:39:21.172773Z"
    },
    "papermill": {
     "duration": 0.008927,
     "end_time": "2023-12-09T23:39:21.174587",
     "exception": false,
     "start_time": "2023-12-09T23:39:21.165660",
     "status": "completed"
    },
    "tags": []
   },
   "outputs": [],
   "source": [
    "pd.Series({\n",
    "    'total_events': events.event_unique_identifier.count(),\n",
    "    'total_attendances': events.attendances.count(),\n",
    "    'first_event': events.date.min(),\n",
    "    'latest_event': events.date.max(),\n",
    "    'total_ticket_orders_for_events_to_date': tickets.number_of_tickets.count(),\n",
    "    'total_tickets_sold_for_events_to_date': tickets.number_of_tickets.sum(),\n",
    "}).to_json(os.path.join(OUTPUT_DIR, 'headlines.json'), indent=2)"
   ]
  },
  {
   "cell_type": "code",
   "execution_count": null,
   "id": "5bea545a",
   "metadata": {
    "papermill": {
     "duration": 0.00197,
     "end_time": "2023-12-09T23:39:21.178654",
     "exception": false,
     "start_time": "2023-12-09T23:39:21.176684",
     "status": "completed"
    },
    "tags": []
   },
   "outputs": [],
   "source": []
  }
 ],
 "metadata": {
  "kernelspec": {
   "display_name": "leeds-2023-YZF5GfJv",
   "language": "python",
   "name": "python3"
  },
  "language_info": {
   "codemirror_mode": {
    "name": "ipython",
    "version": 3
   },
   "file_extension": ".py",
   "mimetype": "text/x-python",
   "name": "python",
   "nbconvert_exporter": "python",
   "pygments_lexer": "ipython3",
   "version": "3.10.13"
  },
  "papermill": {
   "default_parameters": {},
   "duration": 9.092129,
   "end_time": "2023-12-09T23:39:21.396289",
   "environment_variables": {},
   "exception": null,
   "input_path": "prepare.ipynb",
   "output_path": "../../../../working/output/signature-prepare.ipynb",
   "parameters": {},
   "start_time": "2023-12-09T23:39:12.304160",
   "version": "2.4.0"
  }
 },
 "nbformat": 4,
 "nbformat_minor": 5
}