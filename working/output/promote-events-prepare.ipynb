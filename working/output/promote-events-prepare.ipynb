{
 "cells": [
  {
   "cell_type": "code",
   "execution_count": 1,
   "id": "38f5d9fa",
   "metadata": {
    "execution": {
     "iopub.execute_input": "2023-09-13T23:40:59.824014Z",
     "iopub.status.busy": "2023-09-13T23:40:59.822820Z",
     "iopub.status.idle": "2023-09-13T23:41:00.216102Z",
     "shell.execute_reply": "2023-09-13T23:41:00.214956Z"
    },
    "papermill": {
     "duration": 0.400669,
     "end_time": "2023-09-13T23:41:00.218780",
     "exception": false,
     "start_time": "2023-09-13T23:40:59.818111",
     "status": "completed"
    },
    "tags": []
   },
   "outputs": [],
   "source": [
    "import os\n",
    "import pandas as pd"
   ]
  },
  {
   "cell_type": "code",
   "execution_count": 2,
   "id": "fb833446",
   "metadata": {
    "execution": {
     "iopub.execute_input": "2023-09-13T23:41:00.225767Z",
     "iopub.status.busy": "2023-09-13T23:41:00.225195Z",
     "iopub.status.idle": "2023-09-13T23:41:00.230843Z",
     "shell.execute_reply": "2023-09-13T23:41:00.229265Z"
    },
    "papermill": {
     "duration": 0.011589,
     "end_time": "2023-09-13T23:41:00.233140",
     "exception": false,
     "start_time": "2023-09-13T23:41:00.221551",
     "status": "completed"
    },
    "tags": []
   },
   "outputs": [],
   "source": [
    "DATA_DIR='../../../docs/metrics/events/promote/_data/'\n",
    "os.makedirs(DATA_DIR, exist_ok=True)"
   ]
  },
  {
   "cell_type": "code",
   "execution_count": 3,
   "id": "901156c2",
   "metadata": {
    "execution": {
     "iopub.execute_input": "2023-09-13T23:41:00.239407Z",
     "iopub.status.busy": "2023-09-13T23:41:00.238913Z",
     "iopub.status.idle": "2023-09-13T23:41:00.254205Z",
     "shell.execute_reply": "2023-09-13T23:41:00.253253Z"
    },
    "papermill": {
     "duration": 0.021202,
     "end_time": "2023-09-13T23:41:00.256873",
     "exception": false,
     "start_time": "2023-09-13T23:41:00.235671",
     "status": "completed"
    },
    "tags": []
   },
   "outputs": [],
   "source": [
    "data = pd.read_csv('../../../data/metrics/events/promote-events/events.csv', parse_dates=['time'])"
   ]
  },
  {
   "cell_type": "code",
   "execution_count": 4,
   "id": "f87f7284",
   "metadata": {
    "execution": {
     "iopub.execute_input": "2023-09-13T23:41:00.264237Z",
     "iopub.status.busy": "2023-09-13T23:41:00.263715Z",
     "iopub.status.idle": "2023-09-13T23:41:00.272023Z",
     "shell.execute_reply": "2023-09-13T23:41:00.270900Z"
    },
    "papermill": {
     "duration": 0.01557,
     "end_time": "2023-09-13T23:41:00.275168",
     "exception": false,
     "start_time": "2023-09-13T23:41:00.259598",
     "status": "completed"
    },
    "tags": []
   },
   "outputs": [],
   "source": [
    "pd.Series({\n",
    "    'total_events': len(data.id.unique()),\n",
    "    'total_event_instances': len(data.time),\n",
    "    'earliest_event': data.time.min(),\n",
    "    'latest_event': data.time.max(),\n",
    "}).to_json(\n",
    "    os.path.join(DATA_DIR, 'headlines.json'),\n",
    "    date_format='iso', indent=2\n",
    ")"
   ]
  },
  {
   "cell_type": "code",
   "execution_count": 5,
   "id": "0fc35240",
   "metadata": {
    "execution": {
     "iopub.execute_input": "2023-09-13T23:41:00.284477Z",
     "iopub.status.busy": "2023-09-13T23:41:00.282843Z",
     "iopub.status.idle": "2023-09-13T23:41:00.302878Z",
     "shell.execute_reply": "2023-09-13T23:41:00.301937Z"
    },
    "papermill": {
     "duration": 0.026358,
     "end_time": "2023-09-13T23:41:00.305314",
     "exception": false,
     "start_time": "2023-09-13T23:41:00.278956",
     "status": "completed"
    },
    "tags": []
   },
   "outputs": [],
   "source": [
    "events = pd.DataFrame({\n",
    "    'events': data.groupby('id').agg({ 'time': 'min' }).reset_index().groupby('time').id.count(),\n",
    "    'event_instances': data.groupby('time').id.count(),\n",
    "}).fillna(0).astype(int)"
   ]
  },
  {
   "cell_type": "code",
   "execution_count": 6,
   "id": "39098b4a",
   "metadata": {
    "execution": {
     "iopub.execute_input": "2023-09-13T23:41:00.313287Z",
     "iopub.status.busy": "2023-09-13T23:41:00.312686Z",
     "iopub.status.idle": "2023-09-13T23:41:00.317595Z",
     "shell.execute_reply": "2023-09-13T23:41:00.316671Z"
    },
    "papermill": {
     "duration": 0.011278,
     "end_time": "2023-09-13T23:41:00.320100",
     "exception": false,
     "start_time": "2023-09-13T23:41:00.308822",
     "status": "completed"
    },
    "tags": []
   },
   "outputs": [],
   "source": [
    "def cumulate(data):\n",
    "    return pd.concat([\n",
    "        data,\n",
    "        data.cumsum().rename(columns=lambda c: f'cumulative_{c}')\n",
    "    ], axis=1)"
   ]
  },
  {
   "cell_type": "code",
   "execution_count": 7,
   "id": "7b3f1a90",
   "metadata": {
    "execution": {
     "iopub.execute_input": "2023-09-13T23:41:00.327483Z",
     "iopub.status.busy": "2023-09-13T23:41:00.326737Z",
     "iopub.status.idle": "2023-09-13T23:41:00.344282Z",
     "shell.execute_reply": "2023-09-13T23:41:00.343168Z"
    },
    "papermill": {
     "duration": 0.024259,
     "end_time": "2023-09-13T23:41:00.347174",
     "exception": false,
     "start_time": "2023-09-13T23:41:00.322915",
     "status": "completed"
    },
    "tags": []
   },
   "outputs": [],
   "source": [
    "events.resample('W-FRI').sum().pipe(cumulate).to_csv(os.path.join(DATA_DIR, 'by_week.csv'))"
   ]
  },
  {
   "cell_type": "code",
   "execution_count": 8,
   "id": "764c5b2f",
   "metadata": {
    "execution": {
     "iopub.execute_input": "2023-09-13T23:41:00.355207Z",
     "iopub.status.busy": "2023-09-13T23:41:00.354873Z",
     "iopub.status.idle": "2023-09-13T23:41:00.365816Z",
     "shell.execute_reply": "2023-09-13T23:41:00.364847Z"
    },
    "papermill": {
     "duration": 0.017477,
     "end_time": "2023-09-13T23:41:00.368518",
     "exception": false,
     "start_time": "2023-09-13T23:41:00.351041",
     "status": "completed"
    },
    "tags": []
   },
   "outputs": [],
   "source": [
    "events.resample('MS').sum().pipe(cumulate).to_csv(os.path.join(DATA_DIR, 'by_month.csv'))"
   ]
  },
  {
   "cell_type": "code",
   "execution_count": null,
   "id": "01babcb8",
   "metadata": {
    "papermill": {
     "duration": 0.002662,
     "end_time": "2023-09-13T23:41:00.373858",
     "exception": false,
     "start_time": "2023-09-13T23:41:00.371196",
     "status": "completed"
    },
    "tags": []
   },
   "outputs": [],
   "source": []
  }
 ],
 "metadata": {
  "kernelspec": {
   "display_name": "leeds-2023-YZF5GfJv",
   "language": "python",
   "name": "python3"
  },
  "language_info": {
   "codemirror_mode": {
    "name": "ipython",
    "version": 3
   },
   "file_extension": ".py",
   "mimetype": "text/x-python",
   "name": "python",
   "nbconvert_exporter": "python",
   "pygments_lexer": "ipython3",
   "version": "3.10.13"
  },
  "papermill": {
   "default_parameters": {},
   "duration": 2.865212,
   "end_time": "2023-09-13T23:41:00.796630",
   "environment_variables": {},
   "exception": null,
   "input_path": "prepare.ipynb",
   "output_path": "../../../working/output/promote-events-prepare.ipynb",
   "parameters": {},
   "start_time": "2023-09-13T23:40:57.931418",
   "version": "2.4.0"
  }
 },
 "nbformat": 4,
 "nbformat_minor": 5
}