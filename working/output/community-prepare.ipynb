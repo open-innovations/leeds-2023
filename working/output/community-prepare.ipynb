{
 "cells": [
  {
   "cell_type": "code",
   "execution_count": 1,
   "id": "2d65257c",
   "metadata": {
    "execution": {
     "iopub.execute_input": "2023-12-20T19:14:05.998947Z",
     "iopub.status.busy": "2023-12-20T19:14:05.998724Z",
     "iopub.status.idle": "2023-12-20T19:14:06.207414Z",
     "shell.execute_reply": "2023-12-20T19:14:06.207044Z"
    },
    "papermill": {
     "duration": 0.21216,
     "end_time": "2023-12-20T19:14:06.208483",
     "exception": false,
     "start_time": "2023-12-20T19:14:05.996323",
     "status": "completed"
    },
    "tags": []
   },
   "outputs": [],
   "source": [
    "import os, sys\n",
    "TOP_DIR = os.path.realpath('../../..')\n",
    "if TOP_DIR not in sys.path: sys.path.append(TOP_DIR)\n",
    "import pandas as pd"
   ]
  },
  {
   "cell_type": "code",
   "execution_count": 2,
   "id": "71ed7707",
   "metadata": {
    "execution": {
     "iopub.execute_input": "2023-12-20T19:14:06.211254Z",
     "iopub.status.busy": "2023-12-20T19:14:06.211027Z",
     "iopub.status.idle": "2023-12-20T19:14:06.213593Z",
     "shell.execute_reply": "2023-12-20T19:14:06.213277Z"
    },
    "papermill": {
     "duration": 0.004757,
     "end_time": "2023-12-20T19:14:06.214404",
     "exception": false,
     "start_time": "2023-12-20T19:14:06.209647",
     "status": "completed"
    },
    "tags": []
   },
   "outputs": [],
   "source": [
    "from lib.util.convert import named_cumulative_sum"
   ]
  },
  {
   "cell_type": "code",
   "execution_count": 3,
   "id": "bb789817",
   "metadata": {
    "execution": {
     "iopub.execute_input": "2023-12-20T19:14:06.217173Z",
     "iopub.status.busy": "2023-12-20T19:14:06.217046Z",
     "iopub.status.idle": "2023-12-20T19:14:06.222641Z",
     "shell.execute_reply": "2023-12-20T19:14:06.222314Z"
    },
    "papermill": {
     "duration": 0.007904,
     "end_time": "2023-12-20T19:14:06.223425",
     "exception": false,
     "start_time": "2023-12-20T19:14:06.215521",
     "status": "completed"
    },
    "tags": []
   },
   "outputs": [],
   "source": [
    "data = pd.read_csv('../../../data/metrics/community/events.csv', parse_dates=['start_date'])\n",
    "data.ward_code = data.ward_code.fillna('UNKNOWN')"
   ]
  },
  {
   "cell_type": "markdown",
   "id": "615bb6f7",
   "metadata": {
    "papermill": {
     "duration": 0.000882,
     "end_time": "2023-12-20T19:14:06.225230",
     "exception": false,
     "start_time": "2023-12-20T19:14:06.224348",
     "status": "completed"
    },
    "tags": []
   },
   "source": [
    "Set up output directories"
   ]
  },
  {
   "cell_type": "code",
   "execution_count": 4,
   "id": "44bc5044",
   "metadata": {
    "execution": {
     "iopub.execute_input": "2023-12-20T19:14:06.227402Z",
     "iopub.status.busy": "2023-12-20T19:14:06.227213Z",
     "iopub.status.idle": "2023-12-20T19:14:06.229364Z",
     "shell.execute_reply": "2023-12-20T19:14:06.229064Z"
    },
    "papermill": {
     "duration": 0.004113,
     "end_time": "2023-12-20T19:14:06.230119",
     "exception": false,
     "start_time": "2023-12-20T19:14:06.226006",
     "status": "completed"
    },
    "tags": []
   },
   "outputs": [],
   "source": [
    "OUT_DIR = '../../../docs/metrics/community/_data'\n",
    "os.makedirs(OUT_DIR, exist_ok=True)"
   ]
  },
  {
   "cell_type": "code",
   "execution_count": 5,
   "id": "1190b184",
   "metadata": {
    "execution": {
     "iopub.execute_input": "2023-12-20T19:14:06.232521Z",
     "iopub.status.busy": "2023-12-20T19:14:06.232391Z",
     "iopub.status.idle": "2023-12-20T19:14:06.238261Z",
     "shell.execute_reply": "2023-12-20T19:14:06.237953Z"
    },
    "papermill": {
     "duration": 0.008086,
     "end_time": "2023-12-20T19:14:06.239091",
     "exception": false,
     "start_time": "2023-12-20T19:14:06.231005",
     "status": "completed"
    },
    "tags": []
   },
   "outputs": [],
   "source": [
    "pd.Series({\n",
    "  'events': data.event_name.count(),\n",
    "  'audience': data.audience.sum().astype(int),\n",
    "  'errors': {\n",
    "    'missing_wards': (data.ward_code == 'UNKNOWN').value_counts()[True],\n",
    "    'missing_audience': data.audience.isna().value_counts()[True],\n",
    "    'zero_audience':  (data.audience < 1).value_counts()[True],  \n",
    "  }\n",
    "}).to_json(os.path.join(OUT_DIR, 'headlines.json'), indent=2)"
   ]
  },
  {
   "cell_type": "code",
   "execution_count": 6,
   "id": "b0c4b82e",
   "metadata": {
    "execution": {
     "iopub.execute_input": "2023-12-20T19:14:06.241640Z",
     "iopub.status.busy": "2023-12-20T19:14:06.241494Z",
     "iopub.status.idle": "2023-12-20T19:14:06.245991Z",
     "shell.execute_reply": "2023-12-20T19:14:06.245691Z"
    },
    "papermill": {
     "duration": 0.006637,
     "end_time": "2023-12-20T19:14:06.246681",
     "exception": false,
     "start_time": "2023-12-20T19:14:06.240044",
     "status": "completed"
    },
    "tags": []
   },
   "outputs": [],
   "source": [
    "by_ward = pd.DataFrame({\n",
    "  'events': data.groupby('ward_code').event_name.count().fillna(0).astype('int'),\n",
    "  'audience': data.groupby('ward_code').audience.sum().fillna(0).astype('int'),\n",
    "}).to_csv(os.path.join(OUT_DIR, 'by_ward.csv'))"
   ]
  },
  {
   "cell_type": "code",
   "execution_count": 7,
   "id": "76b8069f",
   "metadata": {
    "execution": {
     "iopub.execute_input": "2023-12-20T19:14:06.249378Z",
     "iopub.status.busy": "2023-12-20T19:14:06.249249Z",
     "iopub.status.idle": "2023-12-20T19:14:06.255955Z",
     "shell.execute_reply": "2023-12-20T19:14:06.255636Z"
    },
    "papermill": {
     "duration": 0.009114,
     "end_time": "2023-12-20T19:14:06.256773",
     "exception": false,
     "start_time": "2023-12-20T19:14:06.247659",
     "status": "completed"
    },
    "tags": []
   },
   "outputs": [],
   "source": [
    "by_date = pd.DataFrame({\n",
    "    'events': data.groupby('start_date').event_name.count(),\n",
    "    'audience': data.groupby('start_date').audience.sum(),\n",
    "}).resample('M').sum()\n",
    "\n",
    "pd.concat([\n",
    "    by_date,\n",
    "    by_date.pipe(named_cumulative_sum)\n",
    "], axis=1).astype('int').to_csv(os.path.join(OUT_DIR, 'by_date.csv'))"
   ]
  }
 ],
 "metadata": {
  "kernelspec": {
   "display_name": "leeds-2023-YZF5GfJv",
   "language": "python",
   "name": "python3"
  },
  "language_info": {
   "codemirror_mode": {
    "name": "ipython",
    "version": 3
   },
   "file_extension": ".py",
   "mimetype": "text/x-python",
   "name": "python",
   "nbconvert_exporter": "python",
   "pygments_lexer": "ipython3",
   "version": "3.10.12"
  },
  "papermill": {
   "default_parameters": {},
   "duration": 1.196897,
   "end_time": "2023-12-20T19:14:06.475391",
   "environment_variables": {},
   "exception": null,
   "input_path": "prepare.ipynb",
   "output_path": "../../../working/output/community-prepare.ipynb",
   "parameters": {},
   "start_time": "2023-12-20T19:14:05.278494",
   "version": "2.4.0"
  }
 },
 "nbformat": 4,
 "nbformat_minor": 5
}