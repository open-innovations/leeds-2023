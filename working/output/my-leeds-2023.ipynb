{
 "cells": [
  {
   "cell_type": "markdown",
   "id": "f25f2572",
   "metadata": {
    "papermill": {
     "duration": 0.001906,
     "end_time": "2023-07-12T20:08:10.060883",
     "exception": false,
     "start_time": "2023-07-12T20:08:10.058977",
     "status": "completed"
    },
    "tags": []
   },
   "source": [
    "# My LEEDS 2023\n",
    "\n",
    "Prepares data for the My LEEDS 2023 page "
   ]
  },
  {
   "cell_type": "code",
   "execution_count": 1,
   "id": "2b2494c4",
   "metadata": {
    "execution": {
     "iopub.execute_input": "2023-07-12T20:08:10.064975Z",
     "iopub.status.busy": "2023-07-12T20:08:10.064798Z",
     "iopub.status.idle": "2023-07-12T20:08:10.245071Z",
     "shell.execute_reply": "2023-07-12T20:08:10.244701Z"
    },
    "papermill": {
     "duration": 0.183513,
     "end_time": "2023-07-12T20:08:10.246100",
     "exception": false,
     "start_time": "2023-07-12T20:08:10.062587",
     "status": "completed"
    },
    "tags": []
   },
   "outputs": [],
   "source": [
    "import os\n",
    "import sys\n",
    "import pandas as pd\n",
    "import numpy as np"
   ]
  },
  {
   "cell_type": "code",
   "execution_count": 2,
   "id": "e41141e2",
   "metadata": {
    "execution": {
     "iopub.execute_input": "2023-07-12T20:08:10.250135Z",
     "iopub.status.busy": "2023-07-12T20:08:10.249892Z",
     "iopub.status.idle": "2023-07-12T20:08:10.259985Z",
     "shell.execute_reply": "2023-07-12T20:08:10.259647Z"
    },
    "papermill": {
     "duration": 0.013219,
     "end_time": "2023-07-12T20:08:10.261042",
     "exception": false,
     "start_time": "2023-07-12T20:08:10.247823",
     "status": "completed"
    },
    "tags": []
   },
   "outputs": [],
   "source": [
    "lib_dir = os.path.abspath('../../../../lib/')\n",
    "if not lib_dir in sys.path: sys.path.append(lib_dir)\n",
    "\n",
    "import util.geo\n",
    "import util.convert"
   ]
  },
  {
   "cell_type": "markdown",
   "id": "21472784",
   "metadata": {
    "papermill": {
     "duration": 0.00148,
     "end_time": "2023-07-12T20:08:10.264187",
     "exception": false,
     "start_time": "2023-07-12T20:08:10.262707",
     "status": "completed"
    },
    "tags": []
   },
   "source": [
    "Read in event data and filter by past / current (starting before today) tagged with the appropriate project name and event type"
   ]
  },
  {
   "cell_type": "code",
   "execution_count": 3,
   "id": "1398eb5a",
   "metadata": {
    "execution": {
     "iopub.execute_input": "2023-07-12T20:08:10.268376Z",
     "iopub.status.busy": "2023-07-12T20:08:10.268219Z",
     "iopub.status.idle": "2023-07-12T20:08:10.277128Z",
     "shell.execute_reply": "2023-07-12T20:08:10.276792Z"
    },
    "papermill": {
     "duration": 0.012008,
     "end_time": "2023-07-12T20:08:10.277959",
     "exception": false,
     "start_time": "2023-07-12T20:08:10.265951",
     "status": "completed"
    },
    "tags": []
   },
   "outputs": [],
   "source": [
    "data = pd.read_csv('../../../../data/metrics/events/master/all.csv', parse_dates=['start_date'])\n",
    "data = data.loc[\n",
    "    (data.project_type == 'Produce (Signature)') &\n",
    "    (data.project_name == '12 - My LEEDS 2023') &\n",
    "    (data.event_type.str.contains('Public Event -')) &\n",
    "    (data.start_date < pd.Timestamp.now())\n",
    "]"
   ]
  },
  {
   "cell_type": "markdown",
   "id": "2add773e",
   "metadata": {
    "papermill": {
     "duration": 0.00151,
     "end_time": "2023-07-12T20:08:10.281061",
     "exception": false,
     "start_time": "2023-07-12T20:08:10.279551",
     "status": "completed"
    },
    "tags": []
   },
   "source": [
    "Calculate series of wards"
   ]
  },
  {
   "cell_type": "code",
   "execution_count": 4,
   "id": "2afc4939",
   "metadata": {
    "execution": {
     "iopub.execute_input": "2023-07-12T20:08:10.284606Z",
     "iopub.status.busy": "2023-07-12T20:08:10.284420Z",
     "iopub.status.idle": "2023-07-12T20:08:10.287781Z",
     "shell.execute_reply": "2023-07-12T20:08:10.287193Z"
    },
    "papermill": {
     "duration": 0.006023,
     "end_time": "2023-07-12T20:08:10.288555",
     "exception": false,
     "start_time": "2023-07-12T20:08:10.282532",
     "status": "completed"
    },
    "tags": []
   },
   "outputs": [],
   "source": [
    "wards = data['ward_(from_venue)'].fillna(value='[]').pipe(util.convert.literal_converter).apply(np.unique)"
   ]
  },
  {
   "cell_type": "markdown",
   "id": "4eb141f6",
   "metadata": {
    "papermill": {
     "duration": 0.001475,
     "end_time": "2023-07-12T20:08:10.291549",
     "exception": false,
     "start_time": "2023-07-12T20:08:10.290074",
     "status": "completed"
    },
    "tags": []
   },
   "source": [
    "Print a list of events which have no ward, or more than one"
   ]
  },
  {
   "cell_type": "code",
   "execution_count": 5,
   "id": "656f1ddc",
   "metadata": {
    "execution": {
     "iopub.execute_input": "2023-07-12T20:08:10.295173Z",
     "iopub.status.busy": "2023-07-12T20:08:10.294992Z",
     "iopub.status.idle": "2023-07-12T20:08:10.304016Z",
     "shell.execute_reply": "2023-07-12T20:08:10.303557Z"
    },
    "papermill": {
     "duration": 0.011944,
     "end_time": "2023-07-12T20:08:10.304987",
     "exception": false,
     "start_time": "2023-07-12T20:08:10.293043",
     "status": "completed"
    },
    "tags": []
   },
   "outputs": [
    {
     "data": {
      "text/html": [
       "<div>\n",
       "<style scoped>\n",
       "    .dataframe tbody tr th:only-of-type {\n",
       "        vertical-align: middle;\n",
       "    }\n",
       "\n",
       "    .dataframe tbody tr th {\n",
       "        vertical-align: top;\n",
       "    }\n",
       "\n",
       "    .dataframe thead th {\n",
       "        text-align: right;\n",
       "    }\n",
       "</style>\n",
       "<table border=\"1\" class=\"dataframe\">\n",
       "  <thead>\n",
       "    <tr style=\"text-align: right;\">\n",
       "      <th></th>\n",
       "      <th>project_name</th>\n",
       "      <th>event_name</th>\n",
       "      <th>event_type</th>\n",
       "      <th>season</th>\n",
       "      <th>start_date</th>\n",
       "      <th>airtable_id</th>\n",
       "      <th>actual_audience_size_number_of_participants_in_person</th>\n",
       "      <th>event_unique_identifier</th>\n",
       "      <th>project_type</th>\n",
       "      <th>ward_(from_venue)</th>\n",
       "      <th>postcode_(from_venue)</th>\n",
       "      <th>end_date</th>\n",
       "      <th>number_of_booked_participants</th>\n",
       "      <th>actual_audience_size_number_of_participants_online</th>\n",
       "    </tr>\n",
       "  </thead>\n",
       "  <tbody>\n",
       "    <tr>\n",
       "      <th>11</th>\n",
       "      <td>12 - My LEEDS 2023</td>\n",
       "      <td>My Leeds Event Day 1 (Live Activation)</td>\n",
       "      <td>['Public Event - Performance']</td>\n",
       "      <td>['Season 2 - Playing']</td>\n",
       "      <td>2023-07-08</td>\n",
       "      <td>265</td>\n",
       "      <td>NaN</td>\n",
       "      <td>12 - My LEEDS 2023: My Leeds Event Day 1 (Live...</td>\n",
       "      <td>Produce (Signature)</td>\n",
       "      <td>NaN</td>\n",
       "      <td>NaN</td>\n",
       "      <td>2023-07-09</td>\n",
       "      <td>NaN</td>\n",
       "      <td>NaN</td>\n",
       "    </tr>\n",
       "    <tr>\n",
       "      <th>506</th>\n",
       "      <td>12 - My LEEDS 2023</td>\n",
       "      <td>The Gift: digital gift launch</td>\n",
       "      <td>['Public Event - Digital Experience']</td>\n",
       "      <td>['Season 2 - Playing']</td>\n",
       "      <td>2023-06-19</td>\n",
       "      <td>656</td>\n",
       "      <td>NaN</td>\n",
       "      <td>12 - My LEEDS 2023: The Gift: digital gift lau...</td>\n",
       "      <td>Produce (Signature)</td>\n",
       "      <td>NaN</td>\n",
       "      <td>NaN</td>\n",
       "      <td>2023-06-19</td>\n",
       "      <td>NaN</td>\n",
       "      <td>NaN</td>\n",
       "    </tr>\n",
       "    <tr>\n",
       "      <th>570</th>\n",
       "      <td>12 - My LEEDS 2023</td>\n",
       "      <td>The Gift: Garments</td>\n",
       "      <td>['Public Event - Installation']</td>\n",
       "      <td>['Season 2 - Playing']</td>\n",
       "      <td>2023-06-17</td>\n",
       "      <td>657</td>\n",
       "      <td>NaN</td>\n",
       "      <td>12 - My LEEDS 2023: The Gift: Garments</td>\n",
       "      <td>Produce (Signature)</td>\n",
       "      <td>NaN</td>\n",
       "      <td>NaN</td>\n",
       "      <td>2023-08-27</td>\n",
       "      <td>NaN</td>\n",
       "      <td>NaN</td>\n",
       "    </tr>\n",
       "    <tr>\n",
       "      <th>686</th>\n",
       "      <td>12 - My LEEDS 2023</td>\n",
       "      <td>My LEEDS Summer: Alwoodley Festival of Sport a...</td>\n",
       "      <td>['Public Event - Performance']</td>\n",
       "      <td>['Season 2 - Playing']</td>\n",
       "      <td>2023-07-09</td>\n",
       "      <td>430</td>\n",
       "      <td>NaN</td>\n",
       "      <td>12 - My LEEDS 2023: My LEEDS Summer: Alwoodley...</td>\n",
       "      <td>Produce (Signature)</td>\n",
       "      <td>['Alwoodley', 'Alwoodley', 'Alwoodley', 'Alwoo...</td>\n",
       "      <td>['LS17 7NZ', 'LS17 7PF', 'LS17 5HX', 'LS17 7HL...</td>\n",
       "      <td>2023-07-09</td>\n",
       "      <td>NaN</td>\n",
       "      <td>NaN</td>\n",
       "    </tr>\n",
       "  </tbody>\n",
       "</table>\n",
       "</div>"
      ],
      "text/plain": [
       "           project_name                                         event_name  \\\n",
       "11   12 - My LEEDS 2023             My Leeds Event Day 1 (Live Activation)   \n",
       "506  12 - My LEEDS 2023                     The Gift: digital gift launch    \n",
       "570  12 - My LEEDS 2023                                 The Gift: Garments   \n",
       "686  12 - My LEEDS 2023  My LEEDS Summer: Alwoodley Festival of Sport a...   \n",
       "\n",
       "                                event_type                  season start_date  \\\n",
       "11          ['Public Event - Performance']  ['Season 2 - Playing'] 2023-07-08   \n",
       "506  ['Public Event - Digital Experience']  ['Season 2 - Playing'] 2023-06-19   \n",
       "570        ['Public Event - Installation']  ['Season 2 - Playing'] 2023-06-17   \n",
       "686         ['Public Event - Performance']  ['Season 2 - Playing'] 2023-07-09   \n",
       "\n",
       "     airtable_id  actual_audience_size_number_of_participants_in_person  \\\n",
       "11           265                                                NaN       \n",
       "506          656                                                NaN       \n",
       "570          657                                                NaN       \n",
       "686          430                                                NaN       \n",
       "\n",
       "                               event_unique_identifier         project_type  \\\n",
       "11   12 - My LEEDS 2023: My Leeds Event Day 1 (Live...  Produce (Signature)   \n",
       "506  12 - My LEEDS 2023: The Gift: digital gift lau...  Produce (Signature)   \n",
       "570             12 - My LEEDS 2023: The Gift: Garments  Produce (Signature)   \n",
       "686  12 - My LEEDS 2023: My LEEDS Summer: Alwoodley...  Produce (Signature)   \n",
       "\n",
       "                                     ward_(from_venue)  \\\n",
       "11                                                 NaN   \n",
       "506                                                NaN   \n",
       "570                                                NaN   \n",
       "686  ['Alwoodley', 'Alwoodley', 'Alwoodley', 'Alwoo...   \n",
       "\n",
       "                                 postcode_(from_venue)    end_date  \\\n",
       "11                                                 NaN  2023-07-09   \n",
       "506                                                NaN  2023-06-19   \n",
       "570                                                NaN  2023-08-27   \n",
       "686  ['LS17 7NZ', 'LS17 7PF', 'LS17 5HX', 'LS17 7HL...  2023-07-09   \n",
       "\n",
       "     number_of_booked_participants  \\\n",
       "11                             NaN   \n",
       "506                            NaN   \n",
       "570                            NaN   \n",
       "686                            NaN   \n",
       "\n",
       "     actual_audience_size_number_of_participants_online  \n",
       "11                                                 NaN   \n",
       "506                                                NaN   \n",
       "570                                                NaN   \n",
       "686                                                NaN   "
      ]
     },
     "execution_count": 5,
     "metadata": {},
     "output_type": "execute_result"
    }
   ],
   "source": [
    "data[wards.apply(len) != 1]"
   ]
  },
  {
   "cell_type": "markdown",
   "id": "67865908",
   "metadata": {
    "papermill": {
     "duration": 0.001727,
     "end_time": "2023-07-12T20:08:10.308451",
     "exception": false,
     "start_time": "2023-07-12T20:08:10.306724",
     "status": "completed"
    },
    "tags": []
   },
   "source": [
    "Pick the first ward in the list and create a new column"
   ]
  },
  {
   "cell_type": "code",
   "execution_count": 6,
   "id": "c702317a",
   "metadata": {
    "execution": {
     "iopub.execute_input": "2023-07-12T20:08:10.312363Z",
     "iopub.status.busy": "2023-07-12T20:08:10.312182Z",
     "iopub.status.idle": "2023-07-12T20:08:10.339783Z",
     "shell.execute_reply": "2023-07-12T20:08:10.339436Z"
    },
    "papermill": {
     "duration": 0.030618,
     "end_time": "2023-07-12T20:08:10.340661",
     "exception": false,
     "start_time": "2023-07-12T20:08:10.310043",
     "status": "completed"
    },
    "tags": []
   },
   "outputs": [],
   "source": [
    "data['ward_code'] = wards.apply(lambda x: x[0] if len(x) > 0 else np.nan).pipe(util.geo.normalise_leeds_wards).pipe(util.geo.ward_name_to_code)"
   ]
  },
  {
   "cell_type": "markdown",
   "id": "d0193fdc",
   "metadata": {
    "papermill": {
     "duration": 0.001714,
     "end_time": "2023-07-12T20:08:10.344092",
     "exception": false,
     "start_time": "2023-07-12T20:08:10.342378",
     "status": "completed"
    },
    "tags": []
   },
   "source": [
    "Calculate audience size"
   ]
  },
  {
   "cell_type": "code",
   "execution_count": 7,
   "id": "21ea4638",
   "metadata": {
    "execution": {
     "iopub.execute_input": "2023-07-12T20:08:10.348024Z",
     "iopub.status.busy": "2023-07-12T20:08:10.347757Z",
     "iopub.status.idle": "2023-07-12T20:08:10.350468Z",
     "shell.execute_reply": "2023-07-12T20:08:10.350181Z"
    },
    "papermill": {
     "duration": 0.005345,
     "end_time": "2023-07-12T20:08:10.351042",
     "exception": false,
     "start_time": "2023-07-12T20:08:10.345697",
     "status": "completed"
    },
    "tags": []
   },
   "outputs": [],
   "source": [
    "data['audience_size'] = data.actual_audience_size_number_of_participants_in_person.fillna(0) + data.actual_audience_size_number_of_participants_online.fillna(0)"
   ]
  },
  {
   "cell_type": "markdown",
   "id": "a8b2e6cb",
   "metadata": {
    "papermill": {
     "duration": 0.001829,
     "end_time": "2023-07-12T20:08:10.354618",
     "exception": false,
     "start_time": "2023-07-12T20:08:10.352789",
     "status": "completed"
    },
    "tags": []
   },
   "source": [
    "Create output directory"
   ]
  },
  {
   "cell_type": "code",
   "execution_count": 8,
   "id": "a94998a2",
   "metadata": {
    "execution": {
     "iopub.execute_input": "2023-07-12T20:08:10.358465Z",
     "iopub.status.busy": "2023-07-12T20:08:10.358323Z",
     "iopub.status.idle": "2023-07-12T20:08:10.360329Z",
     "shell.execute_reply": "2023-07-12T20:08:10.359998Z"
    },
    "papermill": {
     "duration": 0.004838,
     "end_time": "2023-07-12T20:08:10.361143",
     "exception": false,
     "start_time": "2023-07-12T20:08:10.356305",
     "status": "completed"
    },
    "tags": []
   },
   "outputs": [],
   "source": [
    "OUT_DIR = '../../../../docs/metrics/events/my-leeds-2023/_data/events'\n",
    "os.makedirs(OUT_DIR, exist_ok=True)"
   ]
  },
  {
   "cell_type": "markdown",
   "id": "d58e69a0",
   "metadata": {
    "papermill": {
     "duration": 0.001762,
     "end_time": "2023-07-12T20:08:10.364544",
     "exception": false,
     "start_time": "2023-07-12T20:08:10.362782",
     "status": "completed"
    },
    "tags": []
   },
   "source": [
    "Create counts of events by ward and save CSV"
   ]
  },
  {
   "cell_type": "code",
   "execution_count": 9,
   "id": "4384ec7d",
   "metadata": {
    "execution": {
     "iopub.execute_input": "2023-07-12T20:08:10.368468Z",
     "iopub.status.busy": "2023-07-12T20:08:10.368244Z",
     "iopub.status.idle": "2023-07-12T20:08:10.373293Z",
     "shell.execute_reply": "2023-07-12T20:08:10.371899Z"
    },
    "papermill": {
     "duration": 0.009674,
     "end_time": "2023-07-12T20:08:10.375852",
     "exception": false,
     "start_time": "2023-07-12T20:08:10.366178",
     "status": "completed"
    },
    "tags": []
   },
   "outputs": [],
   "source": [
    "by_ward = pd.DataFrame(\n",
    "  {\n",
    "    'events': data.groupby('ward_code').audience_size.count(),\n",
    "    'audience': data.groupby('ward_code').audience_size.sum(),\n",
    "  }\n",
    ")\n",
    "by_ward.to_csv(os.path.join(OUT_DIR, 'by_ward.csv'))"
   ]
  },
  {
   "cell_type": "markdown",
   "id": "afb28691",
   "metadata": {
    "papermill": {
     "duration": 0.002715,
     "end_time": "2023-07-12T20:08:10.383252",
     "exception": false,
     "start_time": "2023-07-12T20:08:10.380537",
     "status": "completed"
    },
    "tags": []
   },
   "source": [
    "Create summary by week"
   ]
  },
  {
   "cell_type": "code",
   "execution_count": 10,
   "id": "9b1359b9",
   "metadata": {
    "execution": {
     "iopub.execute_input": "2023-07-12T20:08:10.390371Z",
     "iopub.status.busy": "2023-07-12T20:08:10.390151Z",
     "iopub.status.idle": "2023-07-12T20:08:10.397863Z",
     "shell.execute_reply": "2023-07-12T20:08:10.397477Z"
    },
    "papermill": {
     "duration": 0.011905,
     "end_time": "2023-07-12T20:08:10.398789",
     "exception": false,
     "start_time": "2023-07-12T20:08:10.386884",
     "status": "completed"
    },
    "tags": []
   },
   "outputs": [],
   "source": [
    "by_week = pd.DataFrame({\n",
    "  'events': data.groupby('start_date').audience_size.count(),\n",
    "  'audience': data.groupby('start_date').audience_size.sum().astype(int)\n",
    "}).resample('W-FRI').sum()\n",
    "by_week.index.name = 'week_ending'\n",
    "by_week['cumulative_events'] = by_week.events.cumsum()\n",
    "by_week['cumulative_audience'] = by_week.audience.cumsum()\n",
    "by_week.to_csv(os.path.join(OUT_DIR, 'by_week.csv'))"
   ]
  },
  {
   "cell_type": "markdown",
   "id": "a90e383e",
   "metadata": {
    "papermill": {
     "duration": 0.001675,
     "end_time": "2023-07-12T20:08:10.402386",
     "exception": false,
     "start_time": "2023-07-12T20:08:10.400711",
     "status": "completed"
    },
    "tags": []
   },
   "source": [
    "Create summary by month"
   ]
  },
  {
   "cell_type": "code",
   "execution_count": 11,
   "id": "8553560c",
   "metadata": {
    "execution": {
     "iopub.execute_input": "2023-07-12T20:08:10.406522Z",
     "iopub.status.busy": "2023-07-12T20:08:10.406201Z",
     "iopub.status.idle": "2023-07-12T20:08:10.410476Z",
     "shell.execute_reply": "2023-07-12T20:08:10.410149Z"
    },
    "papermill": {
     "duration": 0.007046,
     "end_time": "2023-07-12T20:08:10.411104",
     "exception": false,
     "start_time": "2023-07-12T20:08:10.404058",
     "status": "completed"
    },
    "tags": []
   },
   "outputs": [],
   "source": [
    "by_month = by_week.resample('M').sum()\n",
    "by_month['cumulative_events'] = by_month.events.cumsum()\n",
    "by_month['cumulative_audience'] = by_month.audience.cumsum()\n",
    "by_month.index.name = 'month_ending'\n",
    "by_month.to_csv(os.path.join(OUT_DIR, 'by_month.csv'))"
   ]
  },
  {
   "cell_type": "markdown",
   "id": "16d75d08",
   "metadata": {
    "papermill": {
     "duration": 0.001828,
     "end_time": "2023-07-12T20:08:10.414681",
     "exception": false,
     "start_time": "2023-07-12T20:08:10.412853",
     "status": "completed"
    },
    "tags": []
   },
   "source": [
    "Create headline counts of events"
   ]
  },
  {
   "cell_type": "code",
   "execution_count": 12,
   "id": "be3ee61a",
   "metadata": {
    "execution": {
     "iopub.execute_input": "2023-07-12T20:08:10.418616Z",
     "iopub.status.busy": "2023-07-12T20:08:10.418399Z",
     "iopub.status.idle": "2023-07-12T20:08:10.421880Z",
     "shell.execute_reply": "2023-07-12T20:08:10.421587Z"
    },
    "papermill": {
     "duration": 0.006613,
     "end_time": "2023-07-12T20:08:10.422982",
     "exception": false,
     "start_time": "2023-07-12T20:08:10.416369",
     "status": "completed"
    },
    "tags": []
   },
   "outputs": [],
   "source": [
    "headlines = by_month.drop(\n",
    "    columns=['events', 'audience']\n",
    ").rename(\n",
    "    columns=lambda n: n.replace('cumulative', 'total')\n",
    ").iloc[-1]\n",
    "headlines['ward_count'] = len(by_ward.index)\n",
    "\n",
    "headlines.to_json(os.path.join(OUT_DIR, 'headlines.json'))"
   ]
  }
 ],
 "metadata": {
  "kernelspec": {
   "display_name": "leeds-2023-YZF5GfJv",
   "language": "python",
   "name": "python3"
  },
  "language_info": {
   "codemirror_mode": {
    "name": "ipython",
    "version": 3
   },
   "file_extension": ".py",
   "mimetype": "text/x-python",
   "name": "python",
   "nbconvert_exporter": "python",
   "pygments_lexer": "ipython3",
   "version": "3.10.6"
  },
  "papermill": {
   "default_parameters": {},
   "duration": 1.29306,
   "end_time": "2023-07-12T20:08:10.638786",
   "environment_variables": {},
   "exception": null,
   "input_path": "my-leeds-2023.ipynb",
   "output_path": "../../../../working/output/my-leeds-2023.ipynb",
   "parameters": {},
   "start_time": "2023-07-12T20:08:09.345726",
   "version": "2.4.0"
  }
 },
 "nbformat": 4,
 "nbformat_minor": 5
}