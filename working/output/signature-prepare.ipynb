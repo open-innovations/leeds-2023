{
 "cells": [
  {
   "cell_type": "code",
   "execution_count": 1,
   "id": "9e4c454c",
   "metadata": {
    "execution": {
     "iopub.execute_input": "2023-11-17T23:41:02.471309Z",
     "iopub.status.busy": "2023-11-17T23:41:02.471094Z",
     "iopub.status.idle": "2023-11-17T23:41:09.709687Z",
     "shell.execute_reply": "2023-11-17T23:41:09.708990Z"
    },
    "papermill": {
     "duration": 7.243611,
     "end_time": "2023-11-17T23:41:09.711474",
     "exception": false,
     "start_time": "2023-11-17T23:41:02.467863",
     "status": "completed"
    },
    "tags": []
   },
   "outputs": [],
   "source": [
    "import os\n",
    "import pandas as pd\n",
    "from events import load_event_data, get_first_ward, normalise_ward"
   ]
  },
  {
   "cell_type": "code",
   "execution_count": 2,
   "id": "8b69465f",
   "metadata": {
    "execution": {
     "iopub.execute_input": "2023-11-17T23:41:09.716885Z",
     "iopub.status.busy": "2023-11-17T23:41:09.716318Z",
     "iopub.status.idle": "2023-11-17T23:41:09.719857Z",
     "shell.execute_reply": "2023-11-17T23:41:09.719252Z"
    },
    "papermill": {
     "duration": 0.007451,
     "end_time": "2023-11-17T23:41:09.721147",
     "exception": false,
     "start_time": "2023-11-17T23:41:09.713696",
     "status": "completed"
    },
    "tags": []
   },
   "outputs": [],
   "source": [
    "latest_date = pd.Timestamp.today().ceil('D')"
   ]
  },
  {
   "cell_type": "code",
   "execution_count": 3,
   "id": "d4b654b5",
   "metadata": {
    "execution": {
     "iopub.execute_input": "2023-11-17T23:41:09.725901Z",
     "iopub.status.busy": "2023-11-17T23:41:09.725529Z",
     "iopub.status.idle": "2023-11-17T23:41:09.739747Z",
     "shell.execute_reply": "2023-11-17T23:41:09.739128Z"
    },
    "papermill": {
     "duration": 0.018292,
     "end_time": "2023-11-17T23:41:09.741254",
     "exception": false,
     "start_time": "2023-11-17T23:41:09.722962",
     "status": "completed"
    },
    "tags": []
   },
   "outputs": [],
   "source": [
    "tickets = pd.read_csv('../../../../data/metrics/events/tickets/orders.csv', parse_dates=['created_at', 'event_date'])\n",
    "tickets = tickets[tickets.event_date <= latest_date]"
   ]
  },
  {
   "cell_type": "code",
   "execution_count": 4,
   "id": "842054d5",
   "metadata": {
    "execution": {
     "iopub.execute_input": "2023-11-17T23:41:09.746050Z",
     "iopub.status.busy": "2023-11-17T23:41:09.745609Z",
     "iopub.status.idle": "2023-11-17T23:41:09.783248Z",
     "shell.execute_reply": "2023-11-17T23:41:09.782566Z"
    },
    "papermill": {
     "duration": 0.041783,
     "end_time": "2023-11-17T23:41:09.784841",
     "exception": false,
     "start_time": "2023-11-17T23:41:09.743058",
     "status": "completed"
    },
    "tags": []
   },
   "outputs": [],
   "source": [
    "events = load_event_data()\n",
    "\n",
    "events = pd.concat([\n",
    "  events,\n",
    "  events.pipe(get_first_ward).pipe(normalise_ward).fillna('UNKNOWN'),\n",
    "  pd.Series(\n",
    "      events.actual_audience_size_number_of_participants_in_person + events.actual_audience_size_number_of_participants_online,\n",
    "      name='attendances'\n",
    "  )\n",
    "], axis=1).rename(columns={\n",
    "    'start_date': 'date'\n",
    "}).loc[:, ['ward_code', 'date', 'event_unique_identifier', 'attendances']]"
   ]
  },
  {
   "cell_type": "code",
   "execution_count": 5,
   "id": "170e0fc3",
   "metadata": {
    "execution": {
     "iopub.execute_input": "2023-11-17T23:41:09.789950Z",
     "iopub.status.busy": "2023-11-17T23:41:09.789546Z",
     "iopub.status.idle": "2023-11-17T23:41:09.792960Z",
     "shell.execute_reply": "2023-11-17T23:41:09.792301Z"
    },
    "papermill": {
     "duration": 0.007431,
     "end_time": "2023-11-17T23:41:09.794298",
     "exception": false,
     "start_time": "2023-11-17T23:41:09.786867",
     "status": "completed"
    },
    "tags": []
   },
   "outputs": [],
   "source": [
    "OUTPUT_DIR='../../../../docs/metrics/events/signature/_data/'\n",
    "os.makedirs(OUTPUT_DIR, exist_ok=True)"
   ]
  },
  {
   "cell_type": "markdown",
   "id": "5917dc7f",
   "metadata": {
    "papermill": {
     "duration": 0.001986,
     "end_time": "2023-11-17T23:41:09.798224",
     "exception": false,
     "start_time": "2023-11-17T23:41:09.796238",
     "status": "completed"
    },
    "tags": []
   },
   "source": [
    "Events CSVs"
   ]
  },
  {
   "cell_type": "code",
   "execution_count": 6,
   "id": "33e7c65b",
   "metadata": {
    "execution": {
     "iopub.execute_input": "2023-11-17T23:41:09.803001Z",
     "iopub.status.busy": "2023-11-17T23:41:09.802638Z",
     "iopub.status.idle": "2023-11-17T23:41:09.808783Z",
     "shell.execute_reply": "2023-11-17T23:41:09.808244Z"
    },
    "papermill": {
     "duration": 0.009961,
     "end_time": "2023-11-17T23:41:09.810064",
     "exception": false,
     "start_time": "2023-11-17T23:41:09.800103",
     "status": "completed"
    },
    "tags": []
   },
   "outputs": [],
   "source": [
    "pd.DataFrame({\n",
    "  'events': events.groupby('ward_code').event_unique_identifier.count(),\n",
    "  'attendances': events.groupby('ward_code').attendances.sum().astype(int),\n",
    "}).to_csv(os.path.join(OUTPUT_DIR, 'events_by_ward.csv'))\n"
   ]
  },
  {
   "cell_type": "code",
   "execution_count": 7,
   "id": "dadbd652",
   "metadata": {
    "execution": {
     "iopub.execute_input": "2023-11-17T23:41:09.814885Z",
     "iopub.status.busy": "2023-11-17T23:41:09.814554Z",
     "iopub.status.idle": "2023-11-17T23:41:09.822370Z",
     "shell.execute_reply": "2023-11-17T23:41:09.821763Z"
    },
    "papermill": {
     "duration": 0.011836,
     "end_time": "2023-11-17T23:41:09.823842",
     "exception": false,
     "start_time": "2023-11-17T23:41:09.812006",
     "status": "completed"
    },
    "tags": []
   },
   "outputs": [],
   "source": [
    "pd.DataFrame({\n",
    "  'events': events.groupby('date').event_unique_identifier.count(),\n",
    "  'attendances': events.groupby('date').attendances.sum().astype(int),\n",
    "}).resample('M').sum().astype(int).to_csv(os.path.join(OUTPUT_DIR, 'events_by_date.csv'))"
   ]
  },
  {
   "cell_type": "markdown",
   "id": "7b9f89bb",
   "metadata": {
    "papermill": {
     "duration": 0.002715,
     "end_time": "2023-11-17T23:41:09.828688",
     "exception": false,
     "start_time": "2023-11-17T23:41:09.825973",
     "status": "completed"
    },
    "tags": []
   },
   "source": [
    "Tickets CSV"
   ]
  },
  {
   "cell_type": "code",
   "execution_count": 8,
   "id": "3d004caf",
   "metadata": {
    "execution": {
     "iopub.execute_input": "2023-11-17T23:41:09.833785Z",
     "iopub.status.busy": "2023-11-17T23:41:09.833260Z",
     "iopub.status.idle": "2023-11-17T23:41:09.839688Z",
     "shell.execute_reply": "2023-11-17T23:41:09.839008Z"
    },
    "papermill": {
     "duration": 0.010576,
     "end_time": "2023-11-17T23:41:09.841200",
     "exception": false,
     "start_time": "2023-11-17T23:41:09.830624",
     "status": "completed"
    },
    "tags": []
   },
   "outputs": [],
   "source": [
    "pd.DataFrame({\n",
    "  'orders': tickets.groupby('ward_code').number_of_tickets.count(),\n",
    "  'tickets': tickets.groupby('ward_code').number_of_tickets.sum().astype(int),\n",
    "}).to_csv(os.path.join(OUTPUT_DIR, 'tickets_by_ward.csv'))"
   ]
  },
  {
   "cell_type": "code",
   "execution_count": 9,
   "id": "5e9f74eb",
   "metadata": {
    "execution": {
     "iopub.execute_input": "2023-11-17T23:41:09.846264Z",
     "iopub.status.busy": "2023-11-17T23:41:09.845921Z",
     "iopub.status.idle": "2023-11-17T23:41:09.853338Z",
     "shell.execute_reply": "2023-11-17T23:41:09.852655Z"
    },
    "papermill": {
     "duration": 0.011372,
     "end_time": "2023-11-17T23:41:09.854612",
     "exception": false,
     "start_time": "2023-11-17T23:41:09.843240",
     "status": "completed"
    },
    "tags": []
   },
   "outputs": [],
   "source": [
    "pd.DataFrame({\n",
    "  'orders': tickets.groupby('event_date').number_of_tickets.count(),\n",
    "  'tickets': tickets.groupby('event_date').number_of_tickets.sum().astype(int),\n",
    "}).resample('M').sum().to_csv(os.path.join(OUTPUT_DIR, 'tickets_by_event_date.csv'))"
   ]
  },
  {
   "cell_type": "code",
   "execution_count": 10,
   "id": "120ba8c4",
   "metadata": {
    "execution": {
     "iopub.execute_input": "2023-11-17T23:41:09.859823Z",
     "iopub.status.busy": "2023-11-17T23:41:09.859320Z",
     "iopub.status.idle": "2023-11-17T23:41:09.864119Z",
     "shell.execute_reply": "2023-11-17T23:41:09.863517Z"
    },
    "papermill": {
     "duration": 0.008933,
     "end_time": "2023-11-17T23:41:09.865522",
     "exception": false,
     "start_time": "2023-11-17T23:41:09.856589",
     "status": "completed"
    },
    "tags": []
   },
   "outputs": [],
   "source": [
    "pd.Series({\n",
    "    'total_events': events.event_unique_identifier.count(),\n",
    "    'total_attendances': events.attendances.count(),\n",
    "    'first_event': events.date.min(),\n",
    "    'latest_event': events.date.max(),\n",
    "    'total_ticket_orders_for_events_to_date': tickets.number_of_tickets.count(),\n",
    "    'total_tickets_sold_for_events_to_date': tickets.number_of_tickets.sum(),\n",
    "}).to_json(os.path.join(OUTPUT_DIR, 'headlines.json'), indent=2)"
   ]
  },
  {
   "cell_type": "code",
   "execution_count": null,
   "id": "60446bc3",
   "metadata": {
    "papermill": {
     "duration": 0.002,
     "end_time": "2023-11-17T23:41:09.869534",
     "exception": false,
     "start_time": "2023-11-17T23:41:09.867534",
     "status": "completed"
    },
    "tags": []
   },
   "outputs": [],
   "source": []
  }
 ],
 "metadata": {
  "kernelspec": {
   "display_name": "leeds-2023-YZF5GfJv",
   "language": "python",
   "name": "python3"
  },
  "language_info": {
   "codemirror_mode": {
    "name": "ipython",
    "version": 3
   },
   "file_extension": ".py",
   "mimetype": "text/x-python",
   "name": "python",
   "nbconvert_exporter": "python",
   "pygments_lexer": "ipython3",
   "version": "3.10.13"
  },
  "papermill": {
   "default_parameters": {},
   "duration": 8.871116,
   "end_time": "2023-11-17T23:41:10.087401",
   "environment_variables": {},
   "exception": null,
   "input_path": "prepare.ipynb",
   "output_path": "../../../../working/output/signature-prepare.ipynb",
   "parameters": {},
   "start_time": "2023-11-17T23:41:01.216285",
   "version": "2.4.0"
  }
 },
 "nbformat": 4,
 "nbformat_minor": 5
}