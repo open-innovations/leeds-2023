{
 "cells": [
  {
   "cell_type": "code",
   "execution_count": 1,
   "id": "79311e6f",
   "metadata": {
    "execution": {
     "iopub.execute_input": "2023-08-29T00:00:04.832771Z",
     "iopub.status.busy": "2023-08-29T00:00:04.832334Z",
     "iopub.status.idle": "2023-08-29T00:00:13.807513Z",
     "shell.execute_reply": "2023-08-29T00:00:13.806872Z"
    },
    "papermill": {
     "duration": 8.980954,
     "end_time": "2023-08-29T00:00:13.809608",
     "exception": false,
     "start_time": "2023-08-29T00:00:04.828654",
     "status": "completed"
    },
    "tags": []
   },
   "outputs": [],
   "source": [
    "import os\n",
    "import pandas as pd\n",
    "from events import load_event_data, get_first_ward, normalise_ward"
   ]
  },
  {
   "cell_type": "code",
   "execution_count": 2,
   "id": "d5655de2",
   "metadata": {
    "execution": {
     "iopub.execute_input": "2023-08-29T00:00:13.815425Z",
     "iopub.status.busy": "2023-08-29T00:00:13.814826Z",
     "iopub.status.idle": "2023-08-29T00:00:13.818618Z",
     "shell.execute_reply": "2023-08-29T00:00:13.817975Z"
    },
    "papermill": {
     "duration": 0.008235,
     "end_time": "2023-08-29T00:00:13.820178",
     "exception": false,
     "start_time": "2023-08-29T00:00:13.811943",
     "status": "completed"
    },
    "tags": []
   },
   "outputs": [],
   "source": [
    "latest_date = pd.Timestamp.today().ceil('D')"
   ]
  },
  {
   "cell_type": "code",
   "execution_count": 3,
   "id": "faaa59f6",
   "metadata": {
    "execution": {
     "iopub.execute_input": "2023-08-29T00:00:13.825650Z",
     "iopub.status.busy": "2023-08-29T00:00:13.825066Z",
     "iopub.status.idle": "2023-08-29T00:00:13.840753Z",
     "shell.execute_reply": "2023-08-29T00:00:13.840157Z"
    },
    "papermill": {
     "duration": 0.020055,
     "end_time": "2023-08-29T00:00:13.842267",
     "exception": false,
     "start_time": "2023-08-29T00:00:13.822212",
     "status": "completed"
    },
    "tags": []
   },
   "outputs": [],
   "source": [
    "tickets = pd.read_csv('../../../../data/metrics/events/tickets/orders.csv', parse_dates=['created_at', 'event_date'])\n",
    "tickets = tickets[tickets.event_date <= latest_date]"
   ]
  },
  {
   "cell_type": "code",
   "execution_count": 4,
   "id": "3bece6ad",
   "metadata": {
    "execution": {
     "iopub.execute_input": "2023-08-29T00:00:13.847718Z",
     "iopub.status.busy": "2023-08-29T00:00:13.847160Z",
     "iopub.status.idle": "2023-08-29T00:00:14.024302Z",
     "shell.execute_reply": "2023-08-29T00:00:14.023670Z"
    },
    "papermill": {
     "duration": 0.181583,
     "end_time": "2023-08-29T00:00:14.025970",
     "exception": false,
     "start_time": "2023-08-29T00:00:13.844387",
     "status": "completed"
    },
    "tags": []
   },
   "outputs": [],
   "source": [
    "events = load_event_data()\n",
    "\n",
    "events = pd.concat([\n",
    "  events,\n",
    "  events.pipe(get_first_ward).pipe(normalise_ward).fillna('UNKNOWN'),\n",
    "  pd.Series(\n",
    "      events.actual_audience_size_number_of_participants_in_person + events.actual_audience_size_number_of_participants_online,\n",
    "      name='attendances'\n",
    "  )\n",
    "], axis=1).rename(columns={\n",
    "    'start_date': 'date'\n",
    "}).loc[:, ['ward_code', 'date', 'event_unique_identifier', 'attendances']]"
   ]
  },
  {
   "cell_type": "code",
   "execution_count": 5,
   "id": "2bf6cc69",
   "metadata": {
    "execution": {
     "iopub.execute_input": "2023-08-29T00:00:14.032138Z",
     "iopub.status.busy": "2023-08-29T00:00:14.031596Z",
     "iopub.status.idle": "2023-08-29T00:00:14.034923Z",
     "shell.execute_reply": "2023-08-29T00:00:14.034304Z"
    },
    "papermill": {
     "duration": 0.008046,
     "end_time": "2023-08-29T00:00:14.036307",
     "exception": false,
     "start_time": "2023-08-29T00:00:14.028261",
     "status": "completed"
    },
    "tags": []
   },
   "outputs": [],
   "source": [
    "OUTPUT_DIR='../../../../docs/metrics/events/signature/_data/'\n",
    "os.makedirs(OUTPUT_DIR, exist_ok=True)"
   ]
  },
  {
   "cell_type": "markdown",
   "id": "f7207b7f",
   "metadata": {
    "papermill": {
     "duration": 0.002034,
     "end_time": "2023-08-29T00:00:14.040375",
     "exception": false,
     "start_time": "2023-08-29T00:00:14.038341",
     "status": "completed"
    },
    "tags": []
   },
   "source": [
    "Events CSVs"
   ]
  },
  {
   "cell_type": "code",
   "execution_count": 6,
   "id": "bd2ab0e8",
   "metadata": {
    "execution": {
     "iopub.execute_input": "2023-08-29T00:00:14.045614Z",
     "iopub.status.busy": "2023-08-29T00:00:14.045033Z",
     "iopub.status.idle": "2023-08-29T00:00:14.051566Z",
     "shell.execute_reply": "2023-08-29T00:00:14.051025Z"
    },
    "papermill": {
     "duration": 0.010611,
     "end_time": "2023-08-29T00:00:14.052950",
     "exception": false,
     "start_time": "2023-08-29T00:00:14.042339",
     "status": "completed"
    },
    "tags": []
   },
   "outputs": [],
   "source": [
    "pd.DataFrame({\n",
    "  'events': events.groupby('ward_code').event_unique_identifier.count(),\n",
    "  'attendances': events.groupby('ward_code').attendances.sum().astype(int),\n",
    "}).to_csv(os.path.join(OUTPUT_DIR, 'events_by_ward.csv'))\n"
   ]
  },
  {
   "cell_type": "code",
   "execution_count": 7,
   "id": "2726b9d5",
   "metadata": {
    "execution": {
     "iopub.execute_input": "2023-08-29T00:00:14.058110Z",
     "iopub.status.busy": "2023-08-29T00:00:14.057895Z",
     "iopub.status.idle": "2023-08-29T00:00:14.067638Z",
     "shell.execute_reply": "2023-08-29T00:00:14.067082Z"
    },
    "papermill": {
     "duration": 0.013949,
     "end_time": "2023-08-29T00:00:14.068994",
     "exception": false,
     "start_time": "2023-08-29T00:00:14.055045",
     "status": "completed"
    },
    "tags": []
   },
   "outputs": [],
   "source": [
    "pd.DataFrame({\n",
    "  'events': events.groupby('date').event_unique_identifier.count(),\n",
    "  'attendances': events.groupby('date').attendances.sum().astype(int),\n",
    "}).resample('M').sum().astype(int).to_csv(os.path.join(OUTPUT_DIR, 'events_by_date.csv'))"
   ]
  },
  {
   "cell_type": "markdown",
   "id": "4bf82bbf",
   "metadata": {
    "papermill": {
     "duration": 0.002094,
     "end_time": "2023-08-29T00:00:14.073220",
     "exception": false,
     "start_time": "2023-08-29T00:00:14.071126",
     "status": "completed"
    },
    "tags": []
   },
   "source": [
    "Tickets CSV"
   ]
  },
  {
   "cell_type": "code",
   "execution_count": 8,
   "id": "67a42576",
   "metadata": {
    "execution": {
     "iopub.execute_input": "2023-08-29T00:00:14.078605Z",
     "iopub.status.busy": "2023-08-29T00:00:14.078053Z",
     "iopub.status.idle": "2023-08-29T00:00:14.084551Z",
     "shell.execute_reply": "2023-08-29T00:00:14.084022Z"
    },
    "papermill": {
     "duration": 0.010636,
     "end_time": "2023-08-29T00:00:14.085943",
     "exception": false,
     "start_time": "2023-08-29T00:00:14.075307",
     "status": "completed"
    },
    "tags": []
   },
   "outputs": [],
   "source": [
    "pd.DataFrame({\n",
    "  'orders': tickets.groupby('ward_code').number_of_tickets.count(),\n",
    "  'tickets': tickets.groupby('ward_code').number_of_tickets.sum().astype(int),\n",
    "}).to_csv(os.path.join(OUTPUT_DIR, 'tickets_by_ward.csv'))"
   ]
  },
  {
   "cell_type": "code",
   "execution_count": 9,
   "id": "2542efe3",
   "metadata": {
    "execution": {
     "iopub.execute_input": "2023-08-29T00:00:14.091613Z",
     "iopub.status.busy": "2023-08-29T00:00:14.090945Z",
     "iopub.status.idle": "2023-08-29T00:00:14.098721Z",
     "shell.execute_reply": "2023-08-29T00:00:14.098163Z"
    },
    "papermill": {
     "duration": 0.012088,
     "end_time": "2023-08-29T00:00:14.100197",
     "exception": false,
     "start_time": "2023-08-29T00:00:14.088109",
     "status": "completed"
    },
    "tags": []
   },
   "outputs": [],
   "source": [
    "pd.DataFrame({\n",
    "  'orders': tickets.groupby('event_date').number_of_tickets.count(),\n",
    "  'tickets': tickets.groupby('event_date').number_of_tickets.sum().astype(int),\n",
    "}).resample('M').sum().to_csv(os.path.join(OUTPUT_DIR, 'tickets_by_event_date.csv'))"
   ]
  },
  {
   "cell_type": "code",
   "execution_count": 10,
   "id": "165b96d4",
   "metadata": {
    "execution": {
     "iopub.execute_input": "2023-08-29T00:00:14.106651Z",
     "iopub.status.busy": "2023-08-29T00:00:14.106063Z",
     "iopub.status.idle": "2023-08-29T00:00:14.111083Z",
     "shell.execute_reply": "2023-08-29T00:00:14.110544Z"
    },
    "papermill": {
     "duration": 0.010135,
     "end_time": "2023-08-29T00:00:14.112507",
     "exception": false,
     "start_time": "2023-08-29T00:00:14.102372",
     "status": "completed"
    },
    "tags": []
   },
   "outputs": [],
   "source": [
    "pd.Series({\n",
    "    'total_events': events.event_unique_identifier.count(),\n",
    "    'total_attendances': events.attendances.count(),\n",
    "    'first_event': events.date.min(),\n",
    "    'latest_event': events.date.max(),\n",
    "    'total_ticket_orders_for_events_to_date': tickets.number_of_tickets.count(),\n",
    "    'total_tickets_sold_for_events_to_date': tickets.number_of_tickets.sum(),\n",
    "}).to_json(os.path.join(OUTPUT_DIR, 'headlines.json'), indent=2)"
   ]
  },
  {
   "cell_type": "code",
   "execution_count": null,
   "id": "eabde321",
   "metadata": {
    "papermill": {
     "duration": 0.002132,
     "end_time": "2023-08-29T00:00:14.116846",
     "exception": false,
     "start_time": "2023-08-29T00:00:14.114714",
     "status": "completed"
    },
    "tags": []
   },
   "outputs": [],
   "source": []
  }
 ],
 "metadata": {
  "kernelspec": {
   "display_name": "leeds-2023-YZF5GfJv",
   "language": "python",
   "name": "python3"
  },
  "language_info": {
   "codemirror_mode": {
    "name": "ipython",
    "version": 3
   },
   "file_extension": ".py",
   "mimetype": "text/x-python",
   "name": "python",
   "nbconvert_exporter": "python",
   "pygments_lexer": "ipython3",
   "version": "3.10.12"
  },
  "papermill": {
   "default_parameters": {},
   "duration": 10.981396,
   "end_time": "2023-08-29T00:00:14.435169",
   "environment_variables": {},
   "exception": null,
   "input_path": "prepare.ipynb",
   "output_path": "../../../../working/output/signature-prepare.ipynb",
   "parameters": {},
   "start_time": "2023-08-29T00:00:03.453773",
   "version": "2.4.0"
  }
 },
 "nbformat": 4,
 "nbformat_minor": 5
}