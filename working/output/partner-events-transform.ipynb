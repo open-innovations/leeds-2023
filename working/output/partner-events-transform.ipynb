{
 "cells": [
  {
   "cell_type": "code",
   "execution_count": 1,
   "id": "6d95433f",
   "metadata": {
    "execution": {
     "iopub.execute_input": "2023-09-30T23:37:01.934908Z",
     "iopub.status.busy": "2023-09-30T23:37:01.934196Z",
     "iopub.status.idle": "2023-09-30T23:37:02.192890Z",
     "shell.execute_reply": "2023-09-30T23:37:02.191603Z"
    },
    "papermill": {
     "duration": 0.265747,
     "end_time": "2023-09-30T23:37:02.194936",
     "exception": false,
     "start_time": "2023-09-30T23:37:01.929189",
     "status": "completed"
    },
    "tags": []
   },
   "outputs": [],
   "source": [
    "import os\n",
    "import sys\n",
    "import pandas as pd\n",
    "lib_dir = os.path.realpath('../../../lib/')\n",
    "if lib_dir not in sys.path: sys.path.append(lib_dir)"
   ]
  },
  {
   "cell_type": "code",
   "execution_count": 2,
   "id": "a9ba89a4",
   "metadata": {
    "execution": {
     "iopub.execute_input": "2023-09-30T23:37:02.203043Z",
     "iopub.status.busy": "2023-09-30T23:37:02.202384Z",
     "iopub.status.idle": "2023-09-30T23:37:12.594552Z",
     "shell.execute_reply": "2023-09-30T23:37:12.593738Z"
    },
    "papermill": {
     "duration": 10.398663,
     "end_time": "2023-09-30T23:37:12.597046",
     "exception": false,
     "start_time": "2023-09-30T23:37:02.198383",
     "status": "completed"
    },
    "tags": []
   },
   "outputs": [],
   "source": [
    "import util.geo"
   ]
  },
  {
   "cell_type": "code",
   "execution_count": 3,
   "id": "838c13ac",
   "metadata": {
    "execution": {
     "iopub.execute_input": "2023-09-30T23:37:12.605562Z",
     "iopub.status.busy": "2023-09-30T23:37:12.604911Z",
     "iopub.status.idle": "2023-09-30T23:37:12.609822Z",
     "shell.execute_reply": "2023-09-30T23:37:12.609111Z"
    },
    "papermill": {
     "duration": 0.011121,
     "end_time": "2023-09-30T23:37:12.611532",
     "exception": false,
     "start_time": "2023-09-30T23:37:12.600411",
     "status": "completed"
    },
    "tags": []
   },
   "outputs": [],
   "source": [
    "EVENTS_RAW_DATA = '../../../working/metrics/partner-events/events.csv'\n",
    "DATA_DIR = '../../../data/metrics/events/partner-events/'\n",
    "EVENTS_DATA = os.path.join(DATA_DIR, 'events.csv')"
   ]
  },
  {
   "cell_type": "code",
   "execution_count": 4,
   "id": "0cb5a5fb",
   "metadata": {
    "execution": {
     "iopub.execute_input": "2023-09-30T23:37:12.619571Z",
     "iopub.status.busy": "2023-09-30T23:37:12.618880Z",
     "iopub.status.idle": "2023-09-30T23:37:12.623219Z",
     "shell.execute_reply": "2023-09-30T23:37:12.622557Z"
    },
    "papermill": {
     "duration": 0.010453,
     "end_time": "2023-09-30T23:37:12.624950",
     "exception": false,
     "start_time": "2023-09-30T23:37:12.614497",
     "status": "completed"
    },
    "tags": []
   },
   "outputs": [],
   "source": [
    "columns = {\n",
    "    'Event Name': 'name',\n",
    "    'Event Start Date': 'start_date',\n",
    "    'Event End Date': 'end_date',\n",
    "    'Partner/Promote': 'partner_promote',\n",
    "    'Stage': 'stage',\n",
    "    'Live date': 'live_date',\n",
    "    'Venue postcode': 'postcode',\n",
    "    'Pricing Policy': 'pricing',\n",
    "    'Venue - including address': 'venue',\n",
    "    'Is this event on Leeds Inspried?': 'on_leeds_inspired',\n",
    "}"
   ]
  },
  {
   "cell_type": "markdown",
   "id": "3ff93961",
   "metadata": {
    "papermill": {
     "duration": 0.002963,
     "end_time": "2023-09-30T23:37:12.630817",
     "exception": false,
     "start_time": "2023-09-30T23:37:12.627854",
     "status": "completed"
    },
    "tags": []
   },
   "source": [
    "Load the data and rename columns. Parse the dates to dates."
   ]
  },
  {
   "cell_type": "code",
   "execution_count": 5,
   "id": "fd747b67",
   "metadata": {
    "execution": {
     "iopub.execute_input": "2023-09-30T23:37:12.638327Z",
     "iopub.status.busy": "2023-09-30T23:37:12.637671Z",
     "iopub.status.idle": "2023-09-30T23:37:12.651010Z",
     "shell.execute_reply": "2023-09-30T23:37:12.650283Z"
    },
    "papermill": {
     "duration": 0.01925,
     "end_time": "2023-09-30T23:37:12.652924",
     "exception": false,
     "start_time": "2023-09-30T23:37:12.633674",
     "status": "completed"
    },
    "tags": []
   },
   "outputs": [],
   "source": [
    "data = pd.read_csv(EVENTS_RAW_DATA)[columns.keys()].rename(columns=columns)\n",
    "data.start_date = pd.to_datetime(data.start_date, errors='coerce')\n",
    "data.end_date = pd.to_datetime(data.end_date, errors='coerce')"
   ]
  },
  {
   "cell_type": "markdown",
   "id": "3da91130",
   "metadata": {
    "papermill": {
     "duration": 0.002925,
     "end_time": "2023-09-30T23:37:12.658845",
     "exception": false,
     "start_time": "2023-09-30T23:37:12.655920",
     "status": "completed"
    },
    "tags": []
   },
   "source": [
    "Filter data by not LI Pull through and start date before now"
   ]
  },
  {
   "cell_type": "code",
   "execution_count": 6,
   "id": "775c2a0d",
   "metadata": {
    "execution": {
     "iopub.execute_input": "2023-09-30T23:37:12.666311Z",
     "iopub.status.busy": "2023-09-30T23:37:12.665845Z",
     "iopub.status.idle": "2023-09-30T23:37:12.672028Z",
     "shell.execute_reply": "2023-09-30T23:37:12.671254Z"
    },
    "papermill": {
     "duration": 0.0119,
     "end_time": "2023-09-30T23:37:12.673750",
     "exception": false,
     "start_time": "2023-09-30T23:37:12.661850",
     "status": "completed"
    },
    "tags": []
   },
   "outputs": [],
   "source": [
    "data = data[\n",
    "    # (data.live_date == 'This event is live ') &\n",
    "    ((data.stage != 'LI pull through') & data.stage.notna()) &\n",
    "    (data.start_date < pd.Timestamp.now())\n",
    "]"
   ]
  },
  {
   "cell_type": "code",
   "execution_count": 7,
   "id": "eee4013f",
   "metadata": {
    "execution": {
     "iopub.execute_input": "2023-09-30T23:37:12.681539Z",
     "iopub.status.busy": "2023-09-30T23:37:12.680961Z",
     "iopub.status.idle": "2023-09-30T23:37:13.945298Z",
     "shell.execute_reply": "2023-09-30T23:37:13.944622Z"
    },
    "papermill": {
     "duration": 1.270648,
     "end_time": "2023-09-30T23:37:13.947435",
     "exception": false,
     "start_time": "2023-09-30T23:37:12.676787",
     "status": "completed"
    },
    "tags": []
   },
   "outputs": [],
   "source": [
    "data['ward_code'] = data.postcode.pipe(util.geo.postcode_formatter).map(util.geo.postcode_to_ward_code)\n",
    "data['ward_name'] = data.ward_code.pipe(util.geo.ward_code_to_name)"
   ]
  },
  {
   "cell_type": "markdown",
   "id": "47d4fac9",
   "metadata": {
    "papermill": {
     "duration": 0.004062,
     "end_time": "2023-09-30T23:37:13.954696",
     "exception": false,
     "start_time": "2023-09-30T23:37:13.950634",
     "status": "completed"
    },
    "tags": []
   },
   "source": [
    "Save the file"
   ]
  },
  {
   "cell_type": "code",
   "execution_count": 8,
   "id": "c38d77ef",
   "metadata": {
    "execution": {
     "iopub.execute_input": "2023-09-30T23:37:13.962263Z",
     "iopub.status.busy": "2023-09-30T23:37:13.961966Z",
     "iopub.status.idle": "2023-09-30T23:37:13.970650Z",
     "shell.execute_reply": "2023-09-30T23:37:13.969899Z"
    },
    "papermill": {
     "duration": 0.014905,
     "end_time": "2023-09-30T23:37:13.972663",
     "exception": false,
     "start_time": "2023-09-30T23:37:13.957758",
     "status": "completed"
    },
    "tags": []
   },
   "outputs": [],
   "source": [
    "data[\n",
    "    ['name','start_date','end_date','ward_code']\n",
    "].to_csv(EVENTS_DATA, index=False)"
   ]
  },
  {
   "cell_type": "markdown",
   "id": "59145c35",
   "metadata": {
    "papermill": {
     "duration": 0.003061,
     "end_time": "2023-09-30T23:37:13.978793",
     "exception": false,
     "start_time": "2023-09-30T23:37:13.975732",
     "status": "completed"
    },
    "tags": []
   },
   "source": [
    "Print out missing postcode data"
   ]
  },
  {
   "cell_type": "code",
   "execution_count": 9,
   "id": "fccdc5b2",
   "metadata": {
    "execution": {
     "iopub.execute_input": "2023-09-30T23:37:13.986345Z",
     "iopub.status.busy": "2023-09-30T23:37:13.986051Z",
     "iopub.status.idle": "2023-09-30T23:37:14.004916Z",
     "shell.execute_reply": "2023-09-30T23:37:14.004214Z"
    },
    "papermill": {
     "duration": 0.025169,
     "end_time": "2023-09-30T23:37:14.007059",
     "exception": false,
     "start_time": "2023-09-30T23:37:13.981890",
     "status": "completed"
    },
    "tags": []
   },
   "outputs": [
    {
     "data": {
      "text/html": [
       "<div>\n",
       "<style scoped>\n",
       "    .dataframe tbody tr th:only-of-type {\n",
       "        vertical-align: middle;\n",
       "    }\n",
       "\n",
       "    .dataframe tbody tr th {\n",
       "        vertical-align: top;\n",
       "    }\n",
       "\n",
       "    .dataframe thead th {\n",
       "        text-align: right;\n",
       "    }\n",
       "</style>\n",
       "<table border=\"1\" class=\"dataframe\">\n",
       "  <thead>\n",
       "    <tr style=\"text-align: right;\">\n",
       "      <th></th>\n",
       "      <th>name</th>\n",
       "      <th>start_date</th>\n",
       "    </tr>\n",
       "  </thead>\n",
       "  <tbody>\n",
       "    <tr>\n",
       "      <th>1</th>\n",
       "      <td>East Street Arts, A City Less Grey 2022</td>\n",
       "      <td>2022-10-08</td>\n",
       "    </tr>\n",
       "    <tr>\n",
       "      <th>3</th>\n",
       "      <td>Phoenix Dance Theatre Virtual Gallery</td>\n",
       "      <td>2023-01-01</td>\n",
       "    </tr>\n",
       "    <tr>\n",
       "      <th>4</th>\n",
       "      <td>The Big Art Giveaway, School of Creative Arts ...</td>\n",
       "      <td>2023-01-01</td>\n",
       "    </tr>\n",
       "    <tr>\n",
       "      <th>5</th>\n",
       "      <td>Embassy of Netherlands, Meet Leeds Lab</td>\n",
       "      <td>2023-01-16</td>\n",
       "    </tr>\n",
       "    <tr>\n",
       "      <th>6</th>\n",
       "      <td>Shifting Borders: A Journey to the Centre of o...</td>\n",
       "      <td>2023-01-24</td>\n",
       "    </tr>\n",
       "    <tr>\n",
       "      <th>...</th>\n",
       "      <td>...</td>\n",
       "      <td>...</td>\n",
       "    </tr>\n",
       "    <tr>\n",
       "      <th>184</th>\n",
       "      <td>Leeds Language Week: MODERN FOREIGN LANGUAGES ...</td>\n",
       "      <td>2023-09-11</td>\n",
       "    </tr>\n",
       "    <tr>\n",
       "      <th>186</th>\n",
       "      <td>The Ida Network: Leeds meet-up</td>\n",
       "      <td>2023-09-11</td>\n",
       "    </tr>\n",
       "    <tr>\n",
       "      <th>191</th>\n",
       "      <td>Civic Skateboarding</td>\n",
       "      <td>2023-09-16</td>\n",
       "    </tr>\n",
       "    <tr>\n",
       "      <th>195</th>\n",
       "      <td>Jazz at HEART: Sam Newbould Quintet (UK tour)</td>\n",
       "      <td>2023-09-20</td>\n",
       "    </tr>\n",
       "    <tr>\n",
       "      <th>196</th>\n",
       "      <td>On Wednesdays We Wear Queer: Drag Night Extrav...</td>\n",
       "      <td>2023-09-20</td>\n",
       "    </tr>\n",
       "  </tbody>\n",
       "</table>\n",
       "<p>62 rows × 2 columns</p>\n",
       "</div>"
      ],
      "text/plain": [
       "                                                  name start_date\n",
       "1              East Street Arts, A City Less Grey 2022 2022-10-08\n",
       "3                Phoenix Dance Theatre Virtual Gallery 2023-01-01\n",
       "4    The Big Art Giveaway, School of Creative Arts ... 2023-01-01\n",
       "5               Embassy of Netherlands, Meet Leeds Lab 2023-01-16\n",
       "6    Shifting Borders: A Journey to the Centre of o... 2023-01-24\n",
       "..                                                 ...        ...\n",
       "184  Leeds Language Week: MODERN FOREIGN LANGUAGES ... 2023-09-11\n",
       "186                     The Ida Network: Leeds meet-up 2023-09-11\n",
       "191                                Civic Skateboarding 2023-09-16\n",
       "195      Jazz at HEART: Sam Newbould Quintet (UK tour) 2023-09-20\n",
       "196  On Wednesdays We Wear Queer: Drag Night Extrav... 2023-09-20\n",
       "\n",
       "[62 rows x 2 columns]"
      ]
     },
     "execution_count": 9,
     "metadata": {},
     "output_type": "execute_result"
    }
   ],
   "source": [
    "data[data.postcode.isna()][[\n",
    "    'name', 'start_date'\n",
    "]]"
   ]
  },
  {
   "cell_type": "markdown",
   "id": "822412bd",
   "metadata": {
    "papermill": {
     "duration": 0.003702,
     "end_time": "2023-09-30T23:37:14.014142",
     "exception": false,
     "start_time": "2023-09-30T23:37:14.010440",
     "status": "completed"
    },
    "tags": []
   },
   "source": [
    "Plot the pricing"
   ]
  },
  {
   "cell_type": "code",
   "execution_count": 10,
   "id": "299b95c3",
   "metadata": {
    "execution": {
     "iopub.execute_input": "2023-09-30T23:37:14.022529Z",
     "iopub.status.busy": "2023-09-30T23:37:14.022101Z",
     "iopub.status.idle": "2023-09-30T23:37:14.573934Z",
     "shell.execute_reply": "2023-09-30T23:37:14.573308Z"
    },
    "papermill": {
     "duration": 0.558141,
     "end_time": "2023-09-30T23:37:14.575642",
     "exception": false,
     "start_time": "2023-09-30T23:37:14.017501",
     "status": "completed"
    },
    "tags": []
   },
   "outputs": [
    {
     "data": {
      "image/png": "[encoded data removed]",
      "text/plain": [
       "<Figure size 640x480 with 1 Axes>"
      ]
     },
     "metadata": {},
     "output_type": "display_data"
    }
   ],
   "source": [
    "# .groupby('pricing').count().plot.barh()\n",
    "pricing = data.pricing.fillna('Unspecified').str.replace('[\\[\\'\\]]', '', regex=True).to_frame().reset_index().groupby('pricing').count()\n",
    "\n",
    "pricing.columns = ['count']\n",
    "plot = pricing.plot.barh()\n"
   ]
  },
  {
   "cell_type": "code",
   "execution_count": null,
   "id": "676a7cc4",
   "metadata": {
    "papermill": {
     "duration": 0.003577,
     "end_time": "2023-09-30T23:37:14.583506",
     "exception": false,
     "start_time": "2023-09-30T23:37:14.579929",
     "status": "completed"
    },
    "tags": []
   },
   "outputs": [],
   "source": []
  }
 ],
 "metadata": {
  "kernelspec": {
   "display_name": "leeds-2023-YZF5GfJv",
   "language": "python",
   "name": "python3"
  },
  "language_info": {
   "codemirror_mode": {
    "name": "ipython",
    "version": 3
   },
   "file_extension": ".py",
   "mimetype": "text/x-python",
   "name": "python",
   "nbconvert_exporter": "python",
   "pygments_lexer": "ipython3",
   "version": "3.10.13"
  },
  "papermill": {
   "default_parameters": {},
   "duration": 14.447194,
   "end_time": "2023-09-30T23:37:15.006294",
   "environment_variables": {},
   "exception": null,
   "input_path": "transform.ipynb",
   "output_path": "../../../working/output/partner-events-transform.ipynb",
   "parameters": {},
   "start_time": "2023-09-30T23:37:00.559100",
   "version": "2.4.0"
  }
 },
 "nbformat": 4,
 "nbformat_minor": 5
}