{
 "cells": [
  {
   "cell_type": "code",
   "execution_count": 1,
   "id": "40824ddd",
   "metadata": {
    "execution": {
     "iopub.execute_input": "2023-09-02T23:37:33.115890Z",
     "iopub.status.busy": "2023-09-02T23:37:33.115104Z",
     "iopub.status.idle": "2023-09-02T23:37:33.396792Z",
     "shell.execute_reply": "2023-09-02T23:37:33.395843Z"
    },
    "papermill": {
     "duration": 0.289975,
     "end_time": "2023-09-02T23:37:33.399987",
     "exception": false,
     "start_time": "2023-09-02T23:37:33.110012",
     "status": "completed"
    },
    "tags": []
   },
   "outputs": [],
   "source": [
    "import os\n",
    "import sys\n",
    "import pandas as pd\n",
    "lib_dir = os.path.realpath('../../../lib/')\n",
    "if lib_dir not in sys.path: sys.path.append(lib_dir)"
   ]
  },
  {
   "cell_type": "code",
   "execution_count": 2,
   "id": "478583bb",
   "metadata": {
    "execution": {
     "iopub.execute_input": "2023-09-02T23:37:33.409637Z",
     "iopub.status.busy": "2023-09-02T23:37:33.409096Z",
     "iopub.status.idle": "2023-09-02T23:37:44.160733Z",
     "shell.execute_reply": "2023-09-02T23:37:44.159714Z"
    },
    "papermill": {
     "duration": 10.757787,
     "end_time": "2023-09-02T23:37:44.162860",
     "exception": false,
     "start_time": "2023-09-02T23:37:33.405073",
     "status": "completed"
    },
    "tags": []
   },
   "outputs": [],
   "source": [
    "import util.geo"
   ]
  },
  {
   "cell_type": "code",
   "execution_count": 3,
   "id": "4185ba0a",
   "metadata": {
    "execution": {
     "iopub.execute_input": "2023-09-02T23:37:44.170872Z",
     "iopub.status.busy": "2023-09-02T23:37:44.170334Z",
     "iopub.status.idle": "2023-09-02T23:37:44.174141Z",
     "shell.execute_reply": "2023-09-02T23:37:44.173454Z"
    },
    "papermill": {
     "duration": 0.01002,
     "end_time": "2023-09-02T23:37:44.176107",
     "exception": false,
     "start_time": "2023-09-02T23:37:44.166087",
     "status": "completed"
    },
    "tags": []
   },
   "outputs": [],
   "source": [
    "EVENTS_RAW_DATA = '../../../working/metrics/partner-events/events.csv'\n",
    "DATA_DIR = '../../../data/metrics/events/partner-events/'\n",
    "EVENTS_DATA = os.path.join(DATA_DIR, 'events.csv')"
   ]
  },
  {
   "cell_type": "code",
   "execution_count": 4,
   "id": "2a01685c",
   "metadata": {
    "execution": {
     "iopub.execute_input": "2023-09-02T23:37:44.182850Z",
     "iopub.status.busy": "2023-09-02T23:37:44.182256Z",
     "iopub.status.idle": "2023-09-02T23:37:44.187367Z",
     "shell.execute_reply": "2023-09-02T23:37:44.186697Z"
    },
    "papermill": {
     "duration": 0.010318,
     "end_time": "2023-09-02T23:37:44.189029",
     "exception": false,
     "start_time": "2023-09-02T23:37:44.178711",
     "status": "completed"
    },
    "tags": []
   },
   "outputs": [],
   "source": [
    "columns = {\n",
    "    'Event Name': 'name',\n",
    "    'Event Start Date': 'start_date',\n",
    "    'Event End Date': 'end_date',\n",
    "    'Partner/Promote': 'partner_promote',\n",
    "    'Stage': 'stage',\n",
    "    'Live date': 'live_date',\n",
    "    'Venue postcode': 'postcode',\n",
    "    'Pricing Policy': 'pricing',\n",
    "    'Venue - including address': 'venue',\n",
    "    'Is this event on Leeds Inspried?': 'on_leeds_inspired',\n",
    "}"
   ]
  },
  {
   "cell_type": "markdown",
   "id": "c7f7d352",
   "metadata": {
    "papermill": {
     "duration": 0.002703,
     "end_time": "2023-09-02T23:37:44.194304",
     "exception": false,
     "start_time": "2023-09-02T23:37:44.191601",
     "status": "completed"
    },
    "tags": []
   },
   "source": [
    "Load the data and rename columns. Parse the dates to dates."
   ]
  },
  {
   "cell_type": "code",
   "execution_count": 5,
   "id": "2f44b7df",
   "metadata": {
    "execution": {
     "iopub.execute_input": "2023-09-02T23:37:44.201164Z",
     "iopub.status.busy": "2023-09-02T23:37:44.200530Z",
     "iopub.status.idle": "2023-09-02T23:37:44.214056Z",
     "shell.execute_reply": "2023-09-02T23:37:44.213220Z"
    },
    "papermill": {
     "duration": 0.019726,
     "end_time": "2023-09-02T23:37:44.216705",
     "exception": false,
     "start_time": "2023-09-02T23:37:44.196979",
     "status": "completed"
    },
    "tags": []
   },
   "outputs": [],
   "source": [
    "data = pd.read_csv(EVENTS_RAW_DATA)[columns.keys()].rename(columns=columns)\n",
    "data.start_date = pd.to_datetime(data.start_date, errors='coerce')\n",
    "data.end_date = pd.to_datetime(data.end_date, errors='coerce')"
   ]
  },
  {
   "cell_type": "markdown",
   "id": "3edc5faa",
   "metadata": {
    "papermill": {
     "duration": 0.002685,
     "end_time": "2023-09-02T23:37:44.223985",
     "exception": false,
     "start_time": "2023-09-02T23:37:44.221300",
     "status": "completed"
    },
    "tags": []
   },
   "source": [
    "Filter data by not LI Pull through and start date before now"
   ]
  },
  {
   "cell_type": "code",
   "execution_count": 6,
   "id": "ca74c91f",
   "metadata": {
    "execution": {
     "iopub.execute_input": "2023-09-02T23:37:44.230907Z",
     "iopub.status.busy": "2023-09-02T23:37:44.230419Z",
     "iopub.status.idle": "2023-09-02T23:37:44.236351Z",
     "shell.execute_reply": "2023-09-02T23:37:44.235706Z"
    },
    "papermill": {
     "duration": 0.011621,
     "end_time": "2023-09-02T23:37:44.238367",
     "exception": false,
     "start_time": "2023-09-02T23:37:44.226746",
     "status": "completed"
    },
    "tags": []
   },
   "outputs": [],
   "source": [
    "data = data[\n",
    "    # (data.live_date == 'This event is live ') &\n",
    "    ((data.stage != 'LI pull through') & data.stage.notna()) &\n",
    "    (data.start_date < pd.Timestamp.now())\n",
    "]"
   ]
  },
  {
   "cell_type": "code",
   "execution_count": 7,
   "id": "6093a7b4",
   "metadata": {
    "execution": {
     "iopub.execute_input": "2023-09-02T23:37:44.245266Z",
     "iopub.status.busy": "2023-09-02T23:37:44.244795Z",
     "iopub.status.idle": "2023-09-02T23:37:45.574177Z",
     "shell.execute_reply": "2023-09-02T23:37:45.573254Z"
    },
    "papermill": {
     "duration": 1.33626,
     "end_time": "2023-09-02T23:37:45.577366",
     "exception": false,
     "start_time": "2023-09-02T23:37:44.241106",
     "status": "completed"
    },
    "tags": []
   },
   "outputs": [],
   "source": [
    "data['ward_code'] = data.postcode.pipe(util.geo.postcode_formatter).map(util.geo.postcode_to_ward_code)\n",
    "data['ward_name'] = data.ward_code.pipe(util.geo.ward_code_to_name)"
   ]
  },
  {
   "cell_type": "markdown",
   "id": "595e9771",
   "metadata": {
    "papermill": {
     "duration": 0.004309,
     "end_time": "2023-09-02T23:37:45.586787",
     "exception": false,
     "start_time": "2023-09-02T23:37:45.582478",
     "status": "completed"
    },
    "tags": []
   },
   "source": [
    "Save the file"
   ]
  },
  {
   "cell_type": "code",
   "execution_count": 8,
   "id": "a6725f4e",
   "metadata": {
    "execution": {
     "iopub.execute_input": "2023-09-02T23:37:45.594322Z",
     "iopub.status.busy": "2023-09-02T23:37:45.593558Z",
     "iopub.status.idle": "2023-09-02T23:37:45.600980Z",
     "shell.execute_reply": "2023-09-02T23:37:45.600294Z"
    },
    "papermill": {
     "duration": 0.013122,
     "end_time": "2023-09-02T23:37:45.602750",
     "exception": false,
     "start_time": "2023-09-02T23:37:45.589628",
     "status": "completed"
    },
    "tags": []
   },
   "outputs": [],
   "source": [
    "data[\n",
    "    ['name','start_date','end_date','ward_code']\n",
    "].to_csv(EVENTS_DATA, index=False)"
   ]
  },
  {
   "cell_type": "markdown",
   "id": "5145468d",
   "metadata": {
    "papermill": {
     "duration": 0.002817,
     "end_time": "2023-09-02T23:37:45.608432",
     "exception": false,
     "start_time": "2023-09-02T23:37:45.605615",
     "status": "completed"
    },
    "tags": []
   },
   "source": [
    "Print out missing postcode data"
   ]
  },
  {
   "cell_type": "code",
   "execution_count": 9,
   "id": "96a06fe4",
   "metadata": {
    "execution": {
     "iopub.execute_input": "2023-09-02T23:37:45.615959Z",
     "iopub.status.busy": "2023-09-02T23:37:45.615283Z",
     "iopub.status.idle": "2023-09-02T23:37:45.629746Z",
     "shell.execute_reply": "2023-09-02T23:37:45.629140Z"
    },
    "papermill": {
     "duration": 0.019966,
     "end_time": "2023-09-02T23:37:45.631319",
     "exception": false,
     "start_time": "2023-09-02T23:37:45.611353",
     "status": "completed"
    },
    "tags": []
   },
   "outputs": [
    {
     "data": {
      "text/html": [
       "<div>\n",
       "<style scoped>\n",
       "    .dataframe tbody tr th:only-of-type {\n",
       "        vertical-align: middle;\n",
       "    }\n",
       "\n",
       "    .dataframe tbody tr th {\n",
       "        vertical-align: top;\n",
       "    }\n",
       "\n",
       "    .dataframe thead th {\n",
       "        text-align: right;\n",
       "    }\n",
       "</style>\n",
       "<table border=\"1\" class=\"dataframe\">\n",
       "  <thead>\n",
       "    <tr style=\"text-align: right;\">\n",
       "      <th></th>\n",
       "      <th>name</th>\n",
       "      <th>start_date</th>\n",
       "    </tr>\n",
       "  </thead>\n",
       "  <tbody>\n",
       "    <tr>\n",
       "      <th>1</th>\n",
       "      <td>East Street Arts, A City Less Grey 2022</td>\n",
       "      <td>2022-10-08</td>\n",
       "    </tr>\n",
       "    <tr>\n",
       "      <th>3</th>\n",
       "      <td>Phoenix Dance Theatre Virtual Gallery</td>\n",
       "      <td>2023-01-01</td>\n",
       "    </tr>\n",
       "    <tr>\n",
       "      <th>4</th>\n",
       "      <td>The Big Art Giveaway, School of Creative Arts ...</td>\n",
       "      <td>2023-01-01</td>\n",
       "    </tr>\n",
       "    <tr>\n",
       "      <th>5</th>\n",
       "      <td>Embassy of Netherlands, Meet Leeds Lab</td>\n",
       "      <td>2023-01-16</td>\n",
       "    </tr>\n",
       "    <tr>\n",
       "      <th>6</th>\n",
       "      <td>Shifting Borders: A Journey to the Centre of o...</td>\n",
       "      <td>2023-01-24</td>\n",
       "    </tr>\n",
       "    <tr>\n",
       "      <th>11</th>\n",
       "      <td>Leeds Lit Fest 2023</td>\n",
       "      <td>2023-02-25</td>\n",
       "    </tr>\n",
       "    <tr>\n",
       "      <th>25</th>\n",
       "      <td>East Street Arts, Add Fuel</td>\n",
       "      <td>2023-04-01</td>\n",
       "    </tr>\n",
       "    <tr>\n",
       "      <th>42</th>\n",
       "      <td>Jamica Society Leeds, Out of Many Festival - T...</td>\n",
       "      <td>2023-05-01</td>\n",
       "    </tr>\n",
       "    <tr>\n",
       "      <th>43</th>\n",
       "      <td>Sayang, Si Polan - International residency in ...</td>\n",
       "      <td>2023-05-01</td>\n",
       "    </tr>\n",
       "    <tr>\n",
       "      <th>62</th>\n",
       "      <td>Leeds Jazz Festival 2023</td>\n",
       "      <td>2023-05-25</td>\n",
       "    </tr>\n",
       "    <tr>\n",
       "      <th>78</th>\n",
       "      <td>Keira Martin, Queenie and the Pooka (Performan...</td>\n",
       "      <td>2023-06-05</td>\n",
       "    </tr>\n",
       "    <tr>\n",
       "      <th>79</th>\n",
       "      <td>My LEEDS Summer: Kirkstall Makes + Moves</td>\n",
       "      <td>2023-06-11</td>\n",
       "    </tr>\n",
       "    <tr>\n",
       "      <th>82</th>\n",
       "      <td>My LEEDS Summer at Hunslet Festival</td>\n",
       "      <td>2023-06-17</td>\n",
       "    </tr>\n",
       "    <tr>\n",
       "      <th>83</th>\n",
       "      <td>My LEEDS Summer: Roundhay World Music &amp; Food Fest</td>\n",
       "      <td>2023-06-17</td>\n",
       "    </tr>\n",
       "    <tr>\n",
       "      <th>91</th>\n",
       "      <td>My LEEDS Summer: Beeston Festival</td>\n",
       "      <td>2023-06-24</td>\n",
       "    </tr>\n",
       "    <tr>\n",
       "      <th>92</th>\n",
       "      <td>My LEEDS Summer: Crossgates and Whinmoor - Pas...</td>\n",
       "      <td>2023-06-24</td>\n",
       "    </tr>\n",
       "    <tr>\n",
       "      <th>93</th>\n",
       "      <td>My LEEDS Summer: Picnic in the Park</td>\n",
       "      <td>2023-06-24</td>\n",
       "    </tr>\n",
       "    <tr>\n",
       "      <th>96</th>\n",
       "      <td>Becoming the Brontës</td>\n",
       "      <td>2023-06-29</td>\n",
       "    </tr>\n",
       "    <tr>\n",
       "      <th>102</th>\n",
       "      <td>My LEEDS Summer: Wetherby Drovers Day</td>\n",
       "      <td>2023-07-01</td>\n",
       "    </tr>\n",
       "    <tr>\n",
       "      <th>103</th>\n",
       "      <td>My Leeds Summer : Walk of Art</td>\n",
       "      <td>2023-07-01</td>\n",
       "    </tr>\n",
       "    <tr>\n",
       "      <th>106</th>\n",
       "      <td>My LEEDS Summer: The Feast</td>\n",
       "      <td>2023-07-02</td>\n",
       "    </tr>\n",
       "    <tr>\n",
       "      <th>107</th>\n",
       "      <td>My LEEDS summer: Celebration Day</td>\n",
       "      <td>2023-07-02</td>\n",
       "    </tr>\n",
       "    <tr>\n",
       "      <th>115</th>\n",
       "      <td>My LEEDS Summer : Wonderful Workshops and Cele...</td>\n",
       "      <td>2023-07-06</td>\n",
       "    </tr>\n",
       "    <tr>\n",
       "      <th>122</th>\n",
       "      <td>My LEEDS Summer: The Gipton and Harehills Crea...</td>\n",
       "      <td>2023-07-08</td>\n",
       "    </tr>\n",
       "    <tr>\n",
       "      <th>124</th>\n",
       "      <td>My LEEDS Summer: Ardsley &amp; Robin Hood: Celebra...</td>\n",
       "      <td>2023-07-09</td>\n",
       "    </tr>\n",
       "    <tr>\n",
       "      <th>126</th>\n",
       "      <td>My LEEDS Summer: The Big Summer Picnic</td>\n",
       "      <td>2023-07-09</td>\n",
       "    </tr>\n",
       "    <tr>\n",
       "      <th>129</th>\n",
       "      <td>My LEEDS Summer: Ralph Thoresby Summer Festival</td>\n",
       "      <td>2023-07-15</td>\n",
       "    </tr>\n",
       "    <tr>\n",
       "      <th>131</th>\n",
       "      <td>My LEEDS Summer: Fuse Festival</td>\n",
       "      <td>2023-07-17</td>\n",
       "    </tr>\n",
       "    <tr>\n",
       "      <th>133</th>\n",
       "      <td>Community Training Programme</td>\n",
       "      <td>2023-07-20</td>\n",
       "    </tr>\n",
       "    <tr>\n",
       "      <th>135</th>\n",
       "      <td>My LEEDS Summer: Festival of Culture</td>\n",
       "      <td>2023-07-22</td>\n",
       "    </tr>\n",
       "    <tr>\n",
       "      <th>136</th>\n",
       "      <td>My LEEDS Summer: Kippax and Methley Culture Trail</td>\n",
       "      <td>2023-07-22</td>\n",
       "    </tr>\n",
       "    <tr>\n",
       "      <th>137</th>\n",
       "      <td>My LEEDS Summer: Farnley and Wortley gives it ...</td>\n",
       "      <td>2023-07-23</td>\n",
       "    </tr>\n",
       "    <tr>\n",
       "      <th>138</th>\n",
       "      <td>My LEEDS Summer: Garforth and Swillington's Cr...</td>\n",
       "      <td>2023-07-23</td>\n",
       "    </tr>\n",
       "    <tr>\n",
       "      <th>139</th>\n",
       "      <td>My LEEDS Summer: Morley Make Together</td>\n",
       "      <td>2023-07-23</td>\n",
       "    </tr>\n",
       "    <tr>\n",
       "      <th>140</th>\n",
       "      <td>Gracefool Collective, Kick Off 2023</td>\n",
       "      <td>2023-07-27</td>\n",
       "    </tr>\n",
       "    <tr>\n",
       "      <th>144</th>\n",
       "      <td>My LEEDS Summer: Picture Palace in the Park</td>\n",
       "      <td>2023-07-29</td>\n",
       "    </tr>\n",
       "    <tr>\n",
       "      <th>148</th>\n",
       "      <td>My LEEDS Summer: Cultural Bloom</td>\n",
       "      <td>2023-08-05</td>\n",
       "    </tr>\n",
       "    <tr>\n",
       "      <th>149</th>\n",
       "      <td>My Leeds Summer: Armley Extravaganza</td>\n",
       "      <td>2023-08-05</td>\n",
       "    </tr>\n",
       "    <tr>\n",
       "      <th>150</th>\n",
       "      <td>My Leeds Summer: Music, Moves and Makes</td>\n",
       "      <td>2023-08-06</td>\n",
       "    </tr>\n",
       "    <tr>\n",
       "      <th>155</th>\n",
       "      <td>My LEEDS Summer: A World in our Ward</td>\n",
       "      <td>2023-08-12</td>\n",
       "    </tr>\n",
       "    <tr>\n",
       "      <th>160</th>\n",
       "      <td>Blissful Ignorance</td>\n",
       "      <td>2023-08-17</td>\n",
       "    </tr>\n",
       "    <tr>\n",
       "      <th>161</th>\n",
       "      <td>My LEEDS Summer: Mingle and Mix in Morley Nort...</td>\n",
       "      <td>2023-08-19</td>\n",
       "    </tr>\n",
       "    <tr>\n",
       "      <th>173</th>\n",
       "      <td>Sayang, Si Polan - Public sound artwork/online...</td>\n",
       "      <td>2023-09-01</td>\n",
       "    </tr>\n",
       "  </tbody>\n",
       "</table>\n",
       "</div>"
      ],
      "text/plain": [
       "                                                  name start_date\n",
       "1              East Street Arts, A City Less Grey 2022 2022-10-08\n",
       "3                Phoenix Dance Theatre Virtual Gallery 2023-01-01\n",
       "4    The Big Art Giveaway, School of Creative Arts ... 2023-01-01\n",
       "5               Embassy of Netherlands, Meet Leeds Lab 2023-01-16\n",
       "6    Shifting Borders: A Journey to the Centre of o... 2023-01-24\n",
       "11                                 Leeds Lit Fest 2023 2023-02-25\n",
       "25                          East Street Arts, Add Fuel 2023-04-01\n",
       "42   Jamica Society Leeds, Out of Many Festival - T... 2023-05-01\n",
       "43   Sayang, Si Polan - International residency in ... 2023-05-01\n",
       "62                            Leeds Jazz Festival 2023 2023-05-25\n",
       "78   Keira Martin, Queenie and the Pooka (Performan... 2023-06-05\n",
       "79            My LEEDS Summer: Kirkstall Makes + Moves 2023-06-11\n",
       "82                 My LEEDS Summer at Hunslet Festival 2023-06-17\n",
       "83   My LEEDS Summer: Roundhay World Music & Food Fest 2023-06-17\n",
       "91                   My LEEDS Summer: Beeston Festival 2023-06-24\n",
       "92   My LEEDS Summer: Crossgates and Whinmoor - Pas... 2023-06-24\n",
       "93                 My LEEDS Summer: Picnic in the Park 2023-06-24\n",
       "96                                Becoming the Brontës 2023-06-29\n",
       "102              My LEEDS Summer: Wetherby Drovers Day 2023-07-01\n",
       "103                      My Leeds Summer : Walk of Art 2023-07-01\n",
       "106                         My LEEDS Summer: The Feast 2023-07-02\n",
       "107                   My LEEDS summer: Celebration Day 2023-07-02\n",
       "115  My LEEDS Summer : Wonderful Workshops and Cele... 2023-07-06\n",
       "122  My LEEDS Summer: The Gipton and Harehills Crea... 2023-07-08\n",
       "124  My LEEDS Summer: Ardsley & Robin Hood: Celebra... 2023-07-09\n",
       "126             My LEEDS Summer: The Big Summer Picnic 2023-07-09\n",
       "129    My LEEDS Summer: Ralph Thoresby Summer Festival 2023-07-15\n",
       "131                     My LEEDS Summer: Fuse Festival 2023-07-17\n",
       "133                       Community Training Programme 2023-07-20\n",
       "135               My LEEDS Summer: Festival of Culture 2023-07-22\n",
       "136  My LEEDS Summer: Kippax and Methley Culture Trail 2023-07-22\n",
       "137  My LEEDS Summer: Farnley and Wortley gives it ... 2023-07-23\n",
       "138  My LEEDS Summer: Garforth and Swillington's Cr... 2023-07-23\n",
       "139              My LEEDS Summer: Morley Make Together 2023-07-23\n",
       "140                Gracefool Collective, Kick Off 2023 2023-07-27\n",
       "144        My LEEDS Summer: Picture Palace in the Park 2023-07-29\n",
       "148                    My LEEDS Summer: Cultural Bloom 2023-08-05\n",
       "149               My Leeds Summer: Armley Extravaganza 2023-08-05\n",
       "150            My Leeds Summer: Music, Moves and Makes 2023-08-06\n",
       "155               My LEEDS Summer: A World in our Ward 2023-08-12\n",
       "160                                 Blissful Ignorance 2023-08-17\n",
       "161  My LEEDS Summer: Mingle and Mix in Morley Nort... 2023-08-19\n",
       "173  Sayang, Si Polan - Public sound artwork/online... 2023-09-01"
      ]
     },
     "execution_count": 9,
     "metadata": {},
     "output_type": "execute_result"
    }
   ],
   "source": [
    "data[data.postcode.isna()][[\n",
    "    'name', 'start_date'\n",
    "]]"
   ]
  },
  {
   "cell_type": "markdown",
   "id": "d66f32e0",
   "metadata": {
    "papermill": {
     "duration": 0.003326,
     "end_time": "2023-09-02T23:37:45.638073",
     "exception": false,
     "start_time": "2023-09-02T23:37:45.634747",
     "status": "completed"
    },
    "tags": []
   },
   "source": [
    "Plot the pricing"
   ]
  },
  {
   "cell_type": "code",
   "execution_count": 10,
   "id": "dcb9d35f",
   "metadata": {
    "execution": {
     "iopub.execute_input": "2023-09-02T23:37:45.646729Z",
     "iopub.status.busy": "2023-09-02T23:37:45.645990Z",
     "iopub.status.idle": "2023-09-02T23:37:46.214420Z",
     "shell.execute_reply": "2023-09-02T23:37:46.213662Z"
    },
    "papermill": {
     "duration": 0.575136,
     "end_time": "2023-09-02T23:37:46.216592",
     "exception": false,
     "start_time": "2023-09-02T23:37:45.641456",
     "status": "completed"
    },
    "tags": []
   },
   "outputs": [
    {
     "data": {
      "image/png": "[encoded data removed]",
      "text/plain": [
       "<Figure size 640x480 with 1 Axes>"
      ]
     },
     "metadata": {},
     "output_type": "display_data"
    }
   ],
   "source": [
    "# .groupby('pricing').count().plot.barh()\n",
    "pricing = data.pricing.fillna('Unspecified').str.replace('[\\[\\'\\]]', '', regex=True).to_frame().reset_index().groupby('pricing').count()\n",
    "\n",
    "pricing.columns = ['count']\n",
    "plot = pricing.plot.barh()\n"
   ]
  },
  {
   "cell_type": "code",
   "execution_count": null,
   "id": "999a85ad",
   "metadata": {
    "papermill": {
     "duration": 0.003926,
     "end_time": "2023-09-02T23:37:46.224800",
     "exception": false,
     "start_time": "2023-09-02T23:37:46.220874",
     "status": "completed"
    },
    "tags": []
   },
   "outputs": [],
   "source": []
  }
 ],
 "metadata": {
  "kernelspec": {
   "display_name": "leeds-2023-YZF5GfJv",
   "language": "python",
   "name": "python3"
  },
  "language_info": {
   "codemirror_mode": {
    "name": "ipython",
    "version": 3
   },
   "file_extension": ".py",
   "mimetype": "text/x-python",
   "name": "python",
   "nbconvert_exporter": "python",
   "pygments_lexer": "ipython3",
   "version": "3.10.12"
  },
  "papermill": {
   "default_parameters": {},
   "duration": 14.907287,
   "end_time": "2023-09-02T23:37:46.647869",
   "environment_variables": {},
   "exception": null,
   "input_path": "transform.ipynb",
   "output_path": "../../../working/output/partner-events-transform.ipynb",
   "parameters": {},
   "start_time": "2023-09-02T23:37:31.740582",
   "version": "2.4.0"
  }
 },
 "nbformat": 4,
 "nbformat_minor": 5
}