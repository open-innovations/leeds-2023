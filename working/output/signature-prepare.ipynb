{
 "cells": [
  {
   "cell_type": "code",
   "execution_count": 1,
   "id": "4808725f",
   "metadata": {
    "execution": {
     "iopub.execute_input": "2023-11-01T23:39:41.766786Z",
     "iopub.status.busy": "2023-11-01T23:39:41.766520Z",
     "iopub.status.idle": "2023-11-01T23:39:49.062394Z",
     "shell.execute_reply": "2023-11-01T23:39:49.061724Z"
    },
    "papermill": {
     "duration": 7.301067,
     "end_time": "2023-11-01T23:39:49.063987",
     "exception": false,
     "start_time": "2023-11-01T23:39:41.762920",
     "status": "completed"
    },
    "tags": []
   },
   "outputs": [],
   "source": [
    "import os\n",
    "import pandas as pd\n",
    "from events import load_event_data, get_first_ward, normalise_ward"
   ]
  },
  {
   "cell_type": "code",
   "execution_count": 2,
   "id": "5a741804",
   "metadata": {
    "execution": {
     "iopub.execute_input": "2023-11-01T23:39:49.069302Z",
     "iopub.status.busy": "2023-11-01T23:39:49.068858Z",
     "iopub.status.idle": "2023-11-01T23:39:49.072328Z",
     "shell.execute_reply": "2023-11-01T23:39:49.071759Z"
    },
    "papermill": {
     "duration": 0.007386,
     "end_time": "2023-11-01T23:39:49.073588",
     "exception": false,
     "start_time": "2023-11-01T23:39:49.066202",
     "status": "completed"
    },
    "tags": []
   },
   "outputs": [],
   "source": [
    "latest_date = pd.Timestamp.today().ceil('D')"
   ]
  },
  {
   "cell_type": "code",
   "execution_count": 3,
   "id": "13930e80",
   "metadata": {
    "execution": {
     "iopub.execute_input": "2023-11-01T23:39:49.078474Z",
     "iopub.status.busy": "2023-11-01T23:39:49.077982Z",
     "iopub.status.idle": "2023-11-01T23:39:49.092108Z",
     "shell.execute_reply": "2023-11-01T23:39:49.091616Z"
    },
    "papermill": {
     "duration": 0.017945,
     "end_time": "2023-11-01T23:39:49.093371",
     "exception": false,
     "start_time": "2023-11-01T23:39:49.075426",
     "status": "completed"
    },
    "tags": []
   },
   "outputs": [],
   "source": [
    "tickets = pd.read_csv('../../../../data/metrics/events/tickets/orders.csv', parse_dates=['created_at', 'event_date'])\n",
    "tickets = tickets[tickets.event_date <= latest_date]"
   ]
  },
  {
   "cell_type": "code",
   "execution_count": 4,
   "id": "54112a8e",
   "metadata": {
    "execution": {
     "iopub.execute_input": "2023-11-01T23:39:49.098087Z",
     "iopub.status.busy": "2023-11-01T23:39:49.097678Z",
     "iopub.status.idle": "2023-11-01T23:39:49.136144Z",
     "shell.execute_reply": "2023-11-01T23:39:49.135451Z"
    },
    "papermill": {
     "duration": 0.042528,
     "end_time": "2023-11-01T23:39:49.137765",
     "exception": false,
     "start_time": "2023-11-01T23:39:49.095237",
     "status": "completed"
    },
    "tags": []
   },
   "outputs": [],
   "source": [
    "events = load_event_data()\n",
    "\n",
    "events = pd.concat([\n",
    "  events,\n",
    "  events.pipe(get_first_ward).pipe(normalise_ward).fillna('UNKNOWN'),\n",
    "  pd.Series(\n",
    "      events.actual_audience_size_number_of_participants_in_person + events.actual_audience_size_number_of_participants_online,\n",
    "      name='attendances'\n",
    "  )\n",
    "], axis=1).rename(columns={\n",
    "    'start_date': 'date'\n",
    "}).loc[:, ['ward_code', 'date', 'event_unique_identifier', 'attendances']]"
   ]
  },
  {
   "cell_type": "code",
   "execution_count": 5,
   "id": "204601f4",
   "metadata": {
    "execution": {
     "iopub.execute_input": "2023-11-01T23:39:49.142926Z",
     "iopub.status.busy": "2023-11-01T23:39:49.142544Z",
     "iopub.status.idle": "2023-11-01T23:39:49.145615Z",
     "shell.execute_reply": "2023-11-01T23:39:49.145072Z"
    },
    "papermill": {
     "duration": 0.007004,
     "end_time": "2023-11-01T23:39:49.146861",
     "exception": false,
     "start_time": "2023-11-01T23:39:49.139857",
     "status": "completed"
    },
    "tags": []
   },
   "outputs": [],
   "source": [
    "OUTPUT_DIR='../../../../docs/metrics/events/signature/_data/'\n",
    "os.makedirs(OUTPUT_DIR, exist_ok=True)"
   ]
  },
  {
   "cell_type": "markdown",
   "id": "7d1f484b",
   "metadata": {
    "papermill": {
     "duration": 0.00194,
     "end_time": "2023-11-01T23:39:49.150722",
     "exception": false,
     "start_time": "2023-11-01T23:39:49.148782",
     "status": "completed"
    },
    "tags": []
   },
   "source": [
    "Events CSVs"
   ]
  },
  {
   "cell_type": "code",
   "execution_count": 6,
   "id": "6043cfeb",
   "metadata": {
    "execution": {
     "iopub.execute_input": "2023-11-01T23:39:49.155341Z",
     "iopub.status.busy": "2023-11-01T23:39:49.155011Z",
     "iopub.status.idle": "2023-11-01T23:39:49.160931Z",
     "shell.execute_reply": "2023-11-01T23:39:49.160324Z"
    },
    "papermill": {
     "duration": 0.009851,
     "end_time": "2023-11-01T23:39:49.162419",
     "exception": false,
     "start_time": "2023-11-01T23:39:49.152568",
     "status": "completed"
    },
    "tags": []
   },
   "outputs": [],
   "source": [
    "pd.DataFrame({\n",
    "  'events': events.groupby('ward_code').event_unique_identifier.count(),\n",
    "  'attendances': events.groupby('ward_code').attendances.sum().astype(int),\n",
    "}).to_csv(os.path.join(OUTPUT_DIR, 'events_by_ward.csv'))\n"
   ]
  },
  {
   "cell_type": "code",
   "execution_count": 7,
   "id": "7a7eb6f7",
   "metadata": {
    "execution": {
     "iopub.execute_input": "2023-11-01T23:39:49.167233Z",
     "iopub.status.busy": "2023-11-01T23:39:49.166859Z",
     "iopub.status.idle": "2023-11-01T23:39:49.174148Z",
     "shell.execute_reply": "2023-11-01T23:39:49.173618Z"
    },
    "papermill": {
     "duration": 0.011009,
     "end_time": "2023-11-01T23:39:49.175356",
     "exception": false,
     "start_time": "2023-11-01T23:39:49.164347",
     "status": "completed"
    },
    "tags": []
   },
   "outputs": [],
   "source": [
    "pd.DataFrame({\n",
    "  'events': events.groupby('date').event_unique_identifier.count(),\n",
    "  'attendances': events.groupby('date').attendances.sum().astype(int),\n",
    "}).resample('M').sum().astype(int).to_csv(os.path.join(OUTPUT_DIR, 'events_by_date.csv'))"
   ]
  },
  {
   "cell_type": "markdown",
   "id": "6c687732",
   "metadata": {
    "papermill": {
     "duration": 0.002708,
     "end_time": "2023-11-01T23:39:49.180121",
     "exception": false,
     "start_time": "2023-11-01T23:39:49.177413",
     "status": "completed"
    },
    "tags": []
   },
   "source": [
    "Tickets CSV"
   ]
  },
  {
   "cell_type": "code",
   "execution_count": 8,
   "id": "f4965e4c",
   "metadata": {
    "execution": {
     "iopub.execute_input": "2023-11-01T23:39:49.185029Z",
     "iopub.status.busy": "2023-11-01T23:39:49.184672Z",
     "iopub.status.idle": "2023-11-01T23:39:49.190707Z",
     "shell.execute_reply": "2023-11-01T23:39:49.190184Z"
    },
    "papermill": {
     "duration": 0.009873,
     "end_time": "2023-11-01T23:39:49.191964",
     "exception": false,
     "start_time": "2023-11-01T23:39:49.182091",
     "status": "completed"
    },
    "tags": []
   },
   "outputs": [],
   "source": [
    "pd.DataFrame({\n",
    "  'orders': tickets.groupby('ward_code').number_of_tickets.count(),\n",
    "  'tickets': tickets.groupby('ward_code').number_of_tickets.sum().astype(int),\n",
    "}).to_csv(os.path.join(OUTPUT_DIR, 'tickets_by_ward.csv'))"
   ]
  },
  {
   "cell_type": "code",
   "execution_count": 9,
   "id": "53f50df7",
   "metadata": {
    "execution": {
     "iopub.execute_input": "2023-11-01T23:39:49.196945Z",
     "iopub.status.busy": "2023-11-01T23:39:49.196585Z",
     "iopub.status.idle": "2023-11-01T23:39:49.203289Z",
     "shell.execute_reply": "2023-11-01T23:39:49.202789Z"
    },
    "papermill": {
     "duration": 0.010578,
     "end_time": "2023-11-01T23:39:49.204571",
     "exception": false,
     "start_time": "2023-11-01T23:39:49.193993",
     "status": "completed"
    },
    "tags": []
   },
   "outputs": [],
   "source": [
    "pd.DataFrame({\n",
    "  'orders': tickets.groupby('event_date').number_of_tickets.count(),\n",
    "  'tickets': tickets.groupby('event_date').number_of_tickets.sum().astype(int),\n",
    "}).resample('M').sum().to_csv(os.path.join(OUTPUT_DIR, 'tickets_by_event_date.csv'))"
   ]
  },
  {
   "cell_type": "code",
   "execution_count": 10,
   "id": "123d781d",
   "metadata": {
    "execution": {
     "iopub.execute_input": "2023-11-01T23:39:49.209662Z",
     "iopub.status.busy": "2023-11-01T23:39:49.209309Z",
     "iopub.status.idle": "2023-11-01T23:39:49.213819Z",
     "shell.execute_reply": "2023-11-01T23:39:49.213326Z"
    },
    "papermill": {
     "duration": 0.008491,
     "end_time": "2023-11-01T23:39:49.215125",
     "exception": false,
     "start_time": "2023-11-01T23:39:49.206634",
     "status": "completed"
    },
    "tags": []
   },
   "outputs": [],
   "source": [
    "pd.Series({\n",
    "    'total_events': events.event_unique_identifier.count(),\n",
    "    'total_attendances': events.attendances.count(),\n",
    "    'first_event': events.date.min(),\n",
    "    'latest_event': events.date.max(),\n",
    "    'total_ticket_orders_for_events_to_date': tickets.number_of_tickets.count(),\n",
    "    'total_tickets_sold_for_events_to_date': tickets.number_of_tickets.sum(),\n",
    "}).to_json(os.path.join(OUTPUT_DIR, 'headlines.json'), indent=2)"
   ]
  },
  {
   "cell_type": "code",
   "execution_count": null,
   "id": "691534da",
   "metadata": {
    "papermill": {
     "duration": 0.002036,
     "end_time": "2023-11-01T23:39:49.219196",
     "exception": false,
     "start_time": "2023-11-01T23:39:49.217160",
     "status": "completed"
    },
    "tags": []
   },
   "outputs": [],
   "source": []
  }
 ],
 "metadata": {
  "kernelspec": {
   "display_name": "leeds-2023-YZF5GfJv",
   "language": "python",
   "name": "python3"
  },
  "language_info": {
   "codemirror_mode": {
    "name": "ipython",
    "version": 3
   },
   "file_extension": ".py",
   "mimetype": "text/x-python",
   "name": "python",
   "nbconvert_exporter": "python",
   "pygments_lexer": "ipython3",
   "version": "3.10.13"
  },
  "papermill": {
   "default_parameters": {},
   "duration": 8.914667,
   "end_time": "2023-11-01T23:39:49.437221",
   "environment_variables": {},
   "exception": null,
   "input_path": "prepare.ipynb",
   "output_path": "../../../../working/output/signature-prepare.ipynb",
   "parameters": {},
   "start_time": "2023-11-01T23:39:40.522554",
   "version": "2.4.0"
  }
 },
 "nbformat": 4,
 "nbformat_minor": 5
}