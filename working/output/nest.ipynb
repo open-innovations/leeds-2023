{
 "cells": [
  {
   "cell_type": "markdown",
   "id": "6a87fd23",
   "metadata": {
    "papermill": {
     "duration": 0.002569,
     "end_time": "2023-10-12T23:38:29.365841",
     "exception": false,
     "start_time": "2023-10-12T23:38:29.363272",
     "status": "completed"
    },
    "tags": []
   },
   "source": [
    "# Nest\n",
    "\n",
    "Prepares data for the Nest page "
   ]
  },
  {
   "cell_type": "code",
   "execution_count": 1,
   "id": "7daee9ec",
   "metadata": {
    "execution": {
     "iopub.execute_input": "2023-10-12T23:38:29.371119Z",
     "iopub.status.busy": "2023-10-12T23:38:29.370577Z",
     "iopub.status.idle": "2023-10-12T23:38:39.247040Z",
     "shell.execute_reply": "2023-10-12T23:38:39.246368Z"
    },
    "papermill": {
     "duration": 9.881098,
     "end_time": "2023-10-12T23:38:39.248807",
     "exception": false,
     "start_time": "2023-10-12T23:38:29.367709",
     "status": "completed"
    },
    "tags": []
   },
   "outputs": [],
   "source": [
    "import os\n",
    "from events import (\n",
    "    load_event_data, filter_by_project, prepare, save_files, count_wards\n",
    ")"
   ]
  },
  {
   "cell_type": "markdown",
   "id": "fe2ace52",
   "metadata": {
    "papermill": {
     "duration": 0.00165,
     "end_time": "2023-10-12T23:38:39.253109",
     "exception": false,
     "start_time": "2023-10-12T23:38:39.251459",
     "status": "completed"
    },
    "tags": []
   },
   "source": [
    "Set output directory"
   ]
  },
  {
   "cell_type": "code",
   "execution_count": 2,
   "id": "5efa389d",
   "metadata": {
    "execution": {
     "iopub.execute_input": "2023-10-12T23:38:39.257784Z",
     "iopub.status.busy": "2023-10-12T23:38:39.257197Z",
     "iopub.status.idle": "2023-10-12T23:38:39.261469Z",
     "shell.execute_reply": "2023-10-12T23:38:39.260904Z"
    },
    "papermill": {
     "duration": 0.008281,
     "end_time": "2023-10-12T23:38:39.262994",
     "exception": false,
     "start_time": "2023-10-12T23:38:39.254713",
     "status": "completed"
    },
    "tags": []
   },
   "outputs": [],
   "source": [
    "OUT_DIR = '../../../../docs/metrics/events/nest/_data/events'"
   ]
  },
  {
   "cell_type": "markdown",
   "id": "cfa54999",
   "metadata": {
    "papermill": {
     "duration": 0.001577,
     "end_time": "2023-10-12T23:38:39.266206",
     "exception": false,
     "start_time": "2023-10-12T23:38:39.264629",
     "status": "completed"
    },
    "tags": []
   },
   "source": [
    "Read in event data and filter by **My LEEDS 2023** project.\n",
    "\n",
    "The criteria are:\n",
    "\n",
    "* project type is 'Produce (Signature)'\n",
    "* event_type contains 'Public Event -'\n",
    "\n",
    "It's then filtered by project_name is '10 - Melt'"
   ]
  },
  {
   "cell_type": "code",
   "execution_count": 3,
   "id": "abe6c6b1",
   "metadata": {
    "execution": {
     "iopub.execute_input": "2023-10-12T23:38:39.270504Z",
     "iopub.status.busy": "2023-10-12T23:38:39.270079Z",
     "iopub.status.idle": "2023-10-12T23:38:39.299161Z",
     "shell.execute_reply": "2023-10-12T23:38:39.298473Z"
    },
    "papermill": {
     "duration": 0.033217,
     "end_time": "2023-10-12T23:38:39.301013",
     "exception": false,
     "start_time": "2023-10-12T23:38:39.267796",
     "status": "completed"
    },
    "tags": []
   },
   "outputs": [
    {
     "data": {
      "text/html": [
       "<div>\n",
       "<style scoped>\n",
       "    .dataframe tbody tr th:only-of-type {\n",
       "        vertical-align: middle;\n",
       "    }\n",
       "\n",
       "    .dataframe tbody tr th {\n",
       "        vertical-align: top;\n",
       "    }\n",
       "\n",
       "    .dataframe thead th {\n",
       "        text-align: right;\n",
       "    }\n",
       "</style>\n",
       "<table border=\"1\" class=\"dataframe\">\n",
       "  <thead>\n",
       "    <tr style=\"text-align: right;\">\n",
       "      <th></th>\n",
       "      <th>actual_audience_size_number_of_participants_in_person</th>\n",
       "      <th>actual_audience_size_number_of_participants_online</th>\n",
       "      <th>airtable_id</th>\n",
       "      <th>end_date</th>\n",
       "      <th>event_name</th>\n",
       "      <th>event_type</th>\n",
       "      <th>event_unique_identifier</th>\n",
       "      <th>number_of_booked_participants</th>\n",
       "      <th>postcode_(from_venue)</th>\n",
       "      <th>project_name</th>\n",
       "      <th>project_type</th>\n",
       "      <th>season</th>\n",
       "      <th>start_date</th>\n",
       "      <th>ward_(from_venue)</th>\n",
       "    </tr>\n",
       "  </thead>\n",
       "  <tbody>\n",
       "    <tr>\n",
       "      <th>1054</th>\n",
       "      <td>1338.0</td>\n",
       "      <td>NaN</td>\n",
       "      <td>241</td>\n",
       "      <td>2023-09-09</td>\n",
       "      <td>Melt (Run)</td>\n",
       "      <td>['Public Event - Performance']</td>\n",
       "      <td>10 - Melt: Melt (Run)</td>\n",
       "      <td>1542.0</td>\n",
       "      <td>['LS26 8AL']</td>\n",
       "      <td>10 - Melt</td>\n",
       "      <td>Produce (Signature)</td>\n",
       "      <td>['Season 3 - Dreaming']</td>\n",
       "      <td>2023-09-05</td>\n",
       "      <td>['Garforth and Swillington']</td>\n",
       "    </tr>\n",
       "  </tbody>\n",
       "</table>\n",
       "</div>"
      ],
      "text/plain": [
       "      actual_audience_size_number_of_participants_in_person  \\\n",
       "1054                                             1338.0       \n",
       "\n",
       "      actual_audience_size_number_of_participants_online  airtable_id  \\\n",
       "1054                                                NaN           241   \n",
       "\n",
       "        end_date  event_name                      event_type  \\\n",
       "1054  2023-09-09  Melt (Run)  ['Public Event - Performance']   \n",
       "\n",
       "     event_unique_identifier  number_of_booked_participants  \\\n",
       "1054   10 - Melt: Melt (Run)                         1542.0   \n",
       "\n",
       "     postcode_(from_venue) project_name         project_type  \\\n",
       "1054          ['LS26 8AL']    10 - Melt  Produce (Signature)   \n",
       "\n",
       "                       season start_date             ward_(from_venue)  \n",
       "1054  ['Season 3 - Dreaming'] 2023-09-05  ['Garforth and Swillington']  "
      ]
     },
     "execution_count": 3,
     "metadata": {},
     "output_type": "execute_result"
    }
   ],
   "source": [
    "data = load_event_data().pipe(filter_by_project, '10 - Melt')\n",
    "data"
   ]
  },
  {
   "cell_type": "markdown",
   "id": "ba7854ae",
   "metadata": {
    "papermill": {
     "duration": 0.001794,
     "end_time": "2023-10-12T23:38:39.304856",
     "exception": false,
     "start_time": "2023-10-12T23:38:39.303062",
     "status": "completed"
    },
    "tags": []
   },
   "source": [
    "Run the processing and save the files"
   ]
  },
  {
   "cell_type": "code",
   "execution_count": 4,
   "id": "3e705ef4",
   "metadata": {
    "execution": {
     "iopub.execute_input": "2023-10-12T23:38:39.309958Z",
     "iopub.status.busy": "2023-10-12T23:38:39.309463Z",
     "iopub.status.idle": "2023-10-12T23:38:39.339644Z",
     "shell.execute_reply": "2023-10-12T23:38:39.339036Z"
    },
    "papermill": {
     "duration": 0.034396,
     "end_time": "2023-10-12T23:38:39.341198",
     "exception": false,
     "start_time": "2023-10-12T23:38:39.306802",
     "status": "completed"
    },
    "tags": []
   },
   "outputs": [],
   "source": [
    "data = data.pipe(prepare).pipe(save_files, OUT_DIR)"
   ]
  }
 ],
 "metadata": {
  "kernelspec": {
   "display_name": "leeds-2023-YZF5GfJv",
   "language": "python",
   "name": "python3"
  },
  "language_info": {
   "codemirror_mode": {
    "name": "ipython",
    "version": 3
   },
   "file_extension": ".py",
   "mimetype": "text/x-python",
   "name": "python",
   "nbconvert_exporter": "python",
   "pygments_lexer": "ipython3",
   "version": "3.10.13"
  },
  "papermill": {
   "default_parameters": {},
   "duration": 11.660763,
   "end_time": "2023-10-12T23:38:39.660293",
   "environment_variables": {},
   "exception": null,
   "input_path": "nest.ipynb",
   "output_path": "../../../../working/output/nest.ipynb",
   "parameters": {},
   "start_time": "2023-10-12T23:38:27.999530",
   "version": "2.4.0"
  }
 },
 "nbformat": 4,
 "nbformat_minor": 5
}