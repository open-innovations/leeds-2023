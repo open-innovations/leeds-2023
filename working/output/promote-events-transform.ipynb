{
 "cells": [
  {
   "cell_type": "code",
   "execution_count": 1,
   "id": "2a40b3ba",
   "metadata": {
    "execution": {
     "iopub.execute_input": "2023-08-02T23:40:15.031777Z",
     "iopub.status.busy": "2023-08-02T23:40:15.031480Z",
     "iopub.status.idle": "2023-08-02T23:40:15.309113Z",
     "shell.execute_reply": "2023-08-02T23:40:15.308151Z"
    },
    "papermill": {
     "duration": 0.283302,
     "end_time": "2023-08-02T23:40:15.311229",
     "exception": false,
     "start_time": "2023-08-02T23:40:15.027927",
     "status": "completed"
    },
    "tags": []
   },
   "outputs": [],
   "source": [
    "import os\n",
    "import pandas as pd"
   ]
  },
  {
   "cell_type": "code",
   "execution_count": 2,
   "id": "8dfc879c",
   "metadata": {
    "execution": {
     "iopub.execute_input": "2023-08-02T23:40:15.316185Z",
     "iopub.status.busy": "2023-08-02T23:40:15.315619Z",
     "iopub.status.idle": "2023-08-02T23:40:15.319684Z",
     "shell.execute_reply": "2023-08-02T23:40:15.318835Z"
    },
    "papermill": {
     "duration": 0.008301,
     "end_time": "2023-08-02T23:40:15.321292",
     "exception": false,
     "start_time": "2023-08-02T23:40:15.312991",
     "status": "completed"
    },
    "tags": []
   },
   "outputs": [],
   "source": [
    "EVENTS_RAW_DATA = '../../../working/metrics/promote-events/events.csv'\n",
    "DATA_DIR = '../../../data/metrics/events/promote-events/'\n",
    "EVENTS_DATA = os.path.join(DATA_DIR, 'events.csv')"
   ]
  },
  {
   "cell_type": "code",
   "execution_count": 3,
   "id": "047ad4d6",
   "metadata": {
    "execution": {
     "iopub.execute_input": "2023-08-02T23:40:15.324852Z",
     "iopub.status.busy": "2023-08-02T23:40:15.324343Z",
     "iopub.status.idle": "2023-08-02T23:40:15.328044Z",
     "shell.execute_reply": "2023-08-02T23:40:15.327383Z"
    },
    "papermill": {
     "duration": 0.007199,
     "end_time": "2023-08-02T23:40:15.329635",
     "exception": false,
     "start_time": "2023-08-02T23:40:15.322436",
     "status": "completed"
    },
    "tags": []
   },
   "outputs": [],
   "source": [
    "columns = {\n",
    "    'id': 'id',\n",
    "    'name': 'name',\n",
    "    'locationName': 'location',\n",
    "    'cardPrice': 'card_price',\n",
    "    'timeslots': 'time',\n",
    "    'displayOnWebsite': 'display',\n",
    "    'Stage': 'stage',\n",
    "}"
   ]
  },
  {
   "cell_type": "code",
   "execution_count": 4,
   "id": "3be655a6",
   "metadata": {
    "execution": {
     "iopub.execute_input": "2023-08-02T23:40:15.333506Z",
     "iopub.status.busy": "2023-08-02T23:40:15.332973Z",
     "iopub.status.idle": "2023-08-02T23:40:15.346965Z",
     "shell.execute_reply": "2023-08-02T23:40:15.346130Z"
    },
    "papermill": {
     "duration": 0.017632,
     "end_time": "2023-08-02T23:40:15.348676",
     "exception": false,
     "start_time": "2023-08-02T23:40:15.331044",
     "status": "completed"
    },
    "tags": []
   },
   "outputs": [],
   "source": [
    "data = pd.read_csv(EVENTS_RAW_DATA)[columns.keys()].rename(columns=columns)\n",
    "data.time = pd.to_datetime(data.time, errors='coerce')"
   ]
  },
  {
   "cell_type": "code",
   "execution_count": 5,
   "id": "7a016379",
   "metadata": {
    "execution": {
     "iopub.execute_input": "2023-08-02T23:40:15.352619Z",
     "iopub.status.busy": "2023-08-02T23:40:15.352213Z",
     "iopub.status.idle": "2023-08-02T23:40:15.360968Z",
     "shell.execute_reply": "2023-08-02T23:40:15.360083Z"
    },
    "papermill": {
     "duration": 0.012949,
     "end_time": "2023-08-02T23:40:15.362896",
     "exception": false,
     "start_time": "2023-08-02T23:40:15.349947",
     "status": "completed"
    },
    "tags": []
   },
   "outputs": [],
   "source": [
    "data.to_csv(os.path.join(DATA_DIR, 'events.csv'), index=False)"
   ]
  }
 ],
 "metadata": {
  "kernelspec": {
   "display_name": "leeds-2023-YZF5GfJv",
   "language": "python",
   "name": "python3"
  },
  "language_info": {
   "codemirror_mode": {
    "name": "ipython",
    "version": 3
   },
   "file_extension": ".py",
   "mimetype": "text/x-python",
   "name": "python",
   "nbconvert_exporter": "python",
   "pygments_lexer": "ipython3",
   "version": "3.10.6"
  },
  "papermill": {
   "default_parameters": {},
   "duration": 1.890171,
   "end_time": "2023-08-02T23:40:15.581917",
   "environment_variables": {},
   "exception": null,
   "input_path": "transform.ipynb",
   "output_path": "../../../working/output/promote-events-transform.ipynb",
   "parameters": {},
   "start_time": "2023-08-02T23:40:13.691746",
   "version": "2.4.0"
  }
 },
 "nbformat": 4,
 "nbformat_minor": 5
}