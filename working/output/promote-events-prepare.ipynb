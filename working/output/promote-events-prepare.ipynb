{
 "cells": [
  {
   "cell_type": "code",
   "execution_count": 1,
   "id": "c4a5c8e4",
   "metadata": {
    "execution": {
     "iopub.execute_input": "2023-08-25T23:39:23.545795Z",
     "iopub.status.busy": "2023-08-25T23:39:23.545305Z",
     "iopub.status.idle": "2023-08-25T23:39:23.797556Z",
     "shell.execute_reply": "2023-08-25T23:39:23.796843Z"
    },
    "papermill": {
     "duration": 0.258185,
     "end_time": "2023-08-25T23:39:23.799650",
     "exception": false,
     "start_time": "2023-08-25T23:39:23.541465",
     "status": "completed"
    },
    "tags": []
   },
   "outputs": [],
   "source": [
    "import os\n",
    "import pandas as pd"
   ]
  },
  {
   "cell_type": "code",
   "execution_count": 2,
   "id": "29c25f42",
   "metadata": {
    "execution": {
     "iopub.execute_input": "2023-08-25T23:39:23.805433Z",
     "iopub.status.busy": "2023-08-25T23:39:23.804784Z",
     "iopub.status.idle": "2023-08-25T23:39:23.808273Z",
     "shell.execute_reply": "2023-08-25T23:39:23.807628Z"
    },
    "papermill": {
     "duration": 0.007987,
     "end_time": "2023-08-25T23:39:23.809907",
     "exception": false,
     "start_time": "2023-08-25T23:39:23.801920",
     "status": "completed"
    },
    "tags": []
   },
   "outputs": [],
   "source": [
    "DATA_DIR='../../../docs/metrics/events/promote/_data/'\n",
    "os.makedirs(DATA_DIR, exist_ok=True)"
   ]
  },
  {
   "cell_type": "code",
   "execution_count": 3,
   "id": "ec616b3e",
   "metadata": {
    "execution": {
     "iopub.execute_input": "2023-08-25T23:39:23.814287Z",
     "iopub.status.busy": "2023-08-25T23:39:23.813870Z",
     "iopub.status.idle": "2023-08-25T23:39:23.822291Z",
     "shell.execute_reply": "2023-08-25T23:39:23.821746Z"
    },
    "papermill": {
     "duration": 0.012322,
     "end_time": "2023-08-25T23:39:23.823825",
     "exception": false,
     "start_time": "2023-08-25T23:39:23.811503",
     "status": "completed"
    },
    "tags": []
   },
   "outputs": [],
   "source": [
    "data = pd.read_csv('../../../data/metrics/events/promote-events/events.csv', parse_dates=['time'])"
   ]
  },
  {
   "cell_type": "code",
   "execution_count": 4,
   "id": "28a6f610",
   "metadata": {
    "execution": {
     "iopub.execute_input": "2023-08-25T23:39:23.828301Z",
     "iopub.status.busy": "2023-08-25T23:39:23.827894Z",
     "iopub.status.idle": "2023-08-25T23:39:23.833108Z",
     "shell.execute_reply": "2023-08-25T23:39:23.832493Z"
    },
    "papermill": {
     "duration": 0.009233,
     "end_time": "2023-08-25T23:39:23.834648",
     "exception": false,
     "start_time": "2023-08-25T23:39:23.825415",
     "status": "completed"
    },
    "tags": []
   },
   "outputs": [],
   "source": [
    "pd.Series({\n",
    "    'total_events': len(data.id.unique()),\n",
    "    'total_event_instances': len(data.time),\n",
    "    'earliest_event': data.time.min(),\n",
    "    'latest_event': data.time.max(),\n",
    "}).to_json(\n",
    "    os.path.join(DATA_DIR, 'headlines.json'),\n",
    "    date_format='iso', indent=2\n",
    ")"
   ]
  },
  {
   "cell_type": "code",
   "execution_count": 5,
   "id": "36149c8c",
   "metadata": {
    "execution": {
     "iopub.execute_input": "2023-08-25T23:39:23.839061Z",
     "iopub.status.busy": "2023-08-25T23:39:23.838651Z",
     "iopub.status.idle": "2023-08-25T23:39:23.846483Z",
     "shell.execute_reply": "2023-08-25T23:39:23.845942Z"
    },
    "papermill": {
     "duration": 0.011746,
     "end_time": "2023-08-25T23:39:23.847980",
     "exception": false,
     "start_time": "2023-08-25T23:39:23.836234",
     "status": "completed"
    },
    "tags": []
   },
   "outputs": [],
   "source": [
    "events = pd.DataFrame({\n",
    "    'events': data.groupby('id').agg({ 'time': 'min' }).reset_index().groupby('time').id.count(),\n",
    "    'event_instances': data.groupby('time').id.count(),\n",
    "}).fillna(0).astype(int)"
   ]
  },
  {
   "cell_type": "code",
   "execution_count": 6,
   "id": "f577dd88",
   "metadata": {
    "execution": {
     "iopub.execute_input": "2023-08-25T23:39:23.852453Z",
     "iopub.status.busy": "2023-08-25T23:39:23.852044Z",
     "iopub.status.idle": "2023-08-25T23:39:23.855430Z",
     "shell.execute_reply": "2023-08-25T23:39:23.854807Z"
    },
    "papermill": {
     "duration": 0.00738,
     "end_time": "2023-08-25T23:39:23.857013",
     "exception": false,
     "start_time": "2023-08-25T23:39:23.849633",
     "status": "completed"
    },
    "tags": []
   },
   "outputs": [],
   "source": [
    "def cumulate(data):\n",
    "    return pd.concat([\n",
    "        data,\n",
    "        data.cumsum().rename(columns=lambda c: f'cumulative_{c}')\n",
    "    ], axis=1)"
   ]
  },
  {
   "cell_type": "code",
   "execution_count": 7,
   "id": "8db82aab",
   "metadata": {
    "execution": {
     "iopub.execute_input": "2023-08-25T23:39:23.861535Z",
     "iopub.status.busy": "2023-08-25T23:39:23.861049Z",
     "iopub.status.idle": "2023-08-25T23:39:23.870879Z",
     "shell.execute_reply": "2023-08-25T23:39:23.870321Z"
    },
    "papermill": {
     "duration": 0.013752,
     "end_time": "2023-08-25T23:39:23.872397",
     "exception": false,
     "start_time": "2023-08-25T23:39:23.858645",
     "status": "completed"
    },
    "tags": []
   },
   "outputs": [],
   "source": [
    "events.resample('W-FRI').sum().pipe(cumulate).to_csv(os.path.join(DATA_DIR, 'by_week.csv'))"
   ]
  },
  {
   "cell_type": "code",
   "execution_count": 8,
   "id": "6b0f8932",
   "metadata": {
    "execution": {
     "iopub.execute_input": "2023-08-25T23:39:23.877246Z",
     "iopub.status.busy": "2023-08-25T23:39:23.876827Z",
     "iopub.status.idle": "2023-08-25T23:39:23.882969Z",
     "shell.execute_reply": "2023-08-25T23:39:23.882339Z"
    },
    "papermill": {
     "duration": 0.010173,
     "end_time": "2023-08-25T23:39:23.884424",
     "exception": false,
     "start_time": "2023-08-25T23:39:23.874251",
     "status": "completed"
    },
    "tags": []
   },
   "outputs": [],
   "source": [
    "events.resample('MS').sum().pipe(cumulate).to_csv(os.path.join(DATA_DIR, 'by_month.csv'))"
   ]
  },
  {
   "cell_type": "code",
   "execution_count": null,
   "id": "344a3457",
   "metadata": {
    "papermill": {
     "duration": 0.001721,
     "end_time": "2023-08-25T23:39:23.887902",
     "exception": false,
     "start_time": "2023-08-25T23:39:23.886181",
     "status": "completed"
    },
    "tags": []
   },
   "outputs": [],
   "source": []
  }
 ],
 "metadata": {
  "kernelspec": {
   "display_name": "leeds-2023-YZF5GfJv",
   "language": "python",
   "name": "python3"
  },
  "language_info": {
   "codemirror_mode": {
    "name": "ipython",
    "version": 3
   },
   "file_extension": ".py",
   "mimetype": "text/x-python",
   "name": "python",
   "nbconvert_exporter": "python",
   "pygments_lexer": "ipython3",
   "version": "3.10.12"
  },
  "papermill": {
   "default_parameters": {},
   "duration": 1.959924,
   "end_time": "2023-08-25T23:39:24.106204",
   "environment_variables": {},
   "exception": null,
   "input_path": "prepare.ipynb",
   "output_path": "../../../working/output/promote-events-prepare.ipynb",
   "parameters": {},
   "start_time": "2023-08-25T23:39:22.146280",
   "version": "2.4.0"
  }
 },
 "nbformat": 4,
 "nbformat_minor": 5
}