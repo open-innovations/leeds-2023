{
 "cells": [
  {
   "cell_type": "code",
   "execution_count": 1,
   "id": "8ca113ec",
   "metadata": {
    "execution": {
     "iopub.execute_input": "2023-09-02T23:40:02.264544Z",
     "iopub.status.busy": "2023-09-02T23:40:02.264030Z",
     "iopub.status.idle": "2023-09-02T23:40:02.536115Z",
     "shell.execute_reply": "2023-09-02T23:40:02.535144Z"
    },
    "papermill": {
     "duration": 0.280917,
     "end_time": "2023-09-02T23:40:02.539226",
     "exception": false,
     "start_time": "2023-09-02T23:40:02.258309",
     "status": "completed"
    },
    "tags": []
   },
   "outputs": [],
   "source": [
    "import os\n",
    "import pandas as pd"
   ]
  },
  {
   "cell_type": "code",
   "execution_count": 2,
   "id": "ce579bb6",
   "metadata": {
    "execution": {
     "iopub.execute_input": "2023-09-02T23:40:02.544287Z",
     "iopub.status.busy": "2023-09-02T23:40:02.543710Z",
     "iopub.status.idle": "2023-09-02T23:40:02.547546Z",
     "shell.execute_reply": "2023-09-02T23:40:02.546782Z"
    },
    "papermill": {
     "duration": 0.008401,
     "end_time": "2023-09-02T23:40:02.549441",
     "exception": false,
     "start_time": "2023-09-02T23:40:02.541040",
     "status": "completed"
    },
    "tags": []
   },
   "outputs": [],
   "source": [
    "EVENTS_RAW_DATA = '../../../working/metrics/promote-events/events.csv'\n",
    "DATA_DIR = '../../../data/metrics/events/promote-events/'\n",
    "EVENTS_DATA = os.path.join(DATA_DIR, 'events.csv')"
   ]
  },
  {
   "cell_type": "code",
   "execution_count": 3,
   "id": "eaa8e750",
   "metadata": {
    "execution": {
     "iopub.execute_input": "2023-09-02T23:40:02.553309Z",
     "iopub.status.busy": "2023-09-02T23:40:02.552827Z",
     "iopub.status.idle": "2023-09-02T23:40:02.556535Z",
     "shell.execute_reply": "2023-09-02T23:40:02.555794Z"
    },
    "papermill": {
     "duration": 0.0079,
     "end_time": "2023-09-02T23:40:02.558495",
     "exception": false,
     "start_time": "2023-09-02T23:40:02.550595",
     "status": "completed"
    },
    "tags": []
   },
   "outputs": [],
   "source": [
    "columns = {\n",
    "    'id': 'id',\n",
    "    'name': 'name',\n",
    "    'locationName': 'location',\n",
    "    'cardPrice': 'card_price',\n",
    "    'timeslots': 'time',\n",
    "    # 'displayOnWebsite': 'display',\n",
    "    'Stage': 'stage',\n",
    "}"
   ]
  },
  {
   "cell_type": "code",
   "execution_count": 4,
   "id": "20c84bb0",
   "metadata": {
    "execution": {
     "iopub.execute_input": "2023-09-02T23:40:02.562500Z",
     "iopub.status.busy": "2023-09-02T23:40:02.562026Z",
     "iopub.status.idle": "2023-09-02T23:40:02.573439Z",
     "shell.execute_reply": "2023-09-02T23:40:02.572807Z"
    },
    "papermill": {
     "duration": 0.015204,
     "end_time": "2023-09-02T23:40:02.575048",
     "exception": false,
     "start_time": "2023-09-02T23:40:02.559844",
     "status": "completed"
    },
    "tags": []
   },
   "outputs": [],
   "source": [
    "data = pd.read_csv(EVENTS_RAW_DATA)[columns.keys()].rename(columns=columns)\n",
    "data.time = pd.to_datetime(data.time, errors='coerce')"
   ]
  },
  {
   "cell_type": "code",
   "execution_count": 5,
   "id": "5d29b6b8",
   "metadata": {
    "execution": {
     "iopub.execute_input": "2023-09-02T23:40:02.579285Z",
     "iopub.status.busy": "2023-09-02T23:40:02.578819Z",
     "iopub.status.idle": "2023-09-02T23:40:02.584723Z",
     "shell.execute_reply": "2023-09-02T23:40:02.584078Z"
    },
    "papermill": {
     "duration": 0.009862,
     "end_time": "2023-09-02T23:40:02.586360",
     "exception": false,
     "start_time": "2023-09-02T23:40:02.576498",
     "status": "completed"
    },
    "tags": []
   },
   "outputs": [],
   "source": [
    "data.to_csv(os.path.join(DATA_DIR, 'events.csv'), index=False)"
   ]
  }
 ],
 "metadata": {
  "kernelspec": {
   "display_name": "leeds-2023-YZF5GfJv",
   "language": "python",
   "name": "python3"
  },
  "language_info": {
   "codemirror_mode": {
    "name": "ipython",
    "version": 3
   },
   "file_extension": ".py",
   "mimetype": "text/x-python",
   "name": "python",
   "nbconvert_exporter": "python",
   "pygments_lexer": "ipython3",
   "version": "3.10.12"
  },
  "papermill": {
   "default_parameters": {},
   "duration": 1.903478,
   "end_time": "2023-09-02T23:40:02.805233",
   "environment_variables": {},
   "exception": null,
   "input_path": "transform.ipynb",
   "output_path": "../../../working/output/promote-events-transform.ipynb",
   "parameters": {},
   "start_time": "2023-09-02T23:40:00.901755",
   "version": "2.4.0"
  }
 },
 "nbformat": 4,
 "nbformat_minor": 5
}