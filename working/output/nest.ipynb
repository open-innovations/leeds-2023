{
 "cells": [
  {
   "cell_type": "markdown",
   "id": "9e43ff50",
   "metadata": {
    "papermill": {
     "duration": 0.001909,
     "end_time": "2023-11-16T23:38:34.133928",
     "exception": false,
     "start_time": "2023-11-16T23:38:34.132019",
     "status": "completed"
    },
    "tags": []
   },
   "source": [
    "# Nest\n",
    "\n",
    "Prepares data for the Nest page "
   ]
  },
  {
   "cell_type": "code",
   "execution_count": 1,
   "id": "ede657c0",
   "metadata": {
    "execution": {
     "iopub.execute_input": "2023-11-16T23:38:34.137925Z",
     "iopub.status.busy": "2023-11-16T23:38:34.137684Z",
     "iopub.status.idle": "2023-11-16T23:38:41.604261Z",
     "shell.execute_reply": "2023-11-16T23:38:41.603596Z"
    },
    "papermill": {
     "duration": 7.470521,
     "end_time": "2023-11-16T23:38:41.605917",
     "exception": false,
     "start_time": "2023-11-16T23:38:34.135396",
     "status": "completed"
    },
    "tags": []
   },
   "outputs": [],
   "source": [
    "import os\n",
    "from events import (\n",
    "    load_event_data, filter_public_events, filter_by_project, prepare, save_files, count_wards\n",
    ")"
   ]
  },
  {
   "cell_type": "markdown",
   "id": "8017fecb",
   "metadata": {
    "papermill": {
     "duration": 0.001344,
     "end_time": "2023-11-16T23:38:41.608892",
     "exception": false,
     "start_time": "2023-11-16T23:38:41.607548",
     "status": "completed"
    },
    "tags": []
   },
   "source": [
    "Set output directory"
   ]
  },
  {
   "cell_type": "code",
   "execution_count": 2,
   "id": "fdaf74c6",
   "metadata": {
    "execution": {
     "iopub.execute_input": "2023-11-16T23:38:41.612692Z",
     "iopub.status.busy": "2023-11-16T23:38:41.612266Z",
     "iopub.status.idle": "2023-11-16T23:38:41.615441Z",
     "shell.execute_reply": "2023-11-16T23:38:41.614912Z"
    },
    "papermill": {
     "duration": 0.006543,
     "end_time": "2023-11-16T23:38:41.616729",
     "exception": false,
     "start_time": "2023-11-16T23:38:41.610186",
     "status": "completed"
    },
    "tags": []
   },
   "outputs": [],
   "source": [
    "OUT_DIR = '../../../../docs/metrics/events/nest/_data/events'"
   ]
  },
  {
   "cell_type": "markdown",
   "id": "e3149513",
   "metadata": {
    "papermill": {
     "duration": 0.001254,
     "end_time": "2023-11-16T23:38:41.619354",
     "exception": false,
     "start_time": "2023-11-16T23:38:41.618100",
     "status": "completed"
    },
    "tags": []
   },
   "source": [
    "Read in event data and filter by **My LEEDS 2023** project.\n",
    "\n",
    "The criteria are:\n",
    "\n",
    "* project type is 'Produce (Signature)'\n",
    "* event_type contains 'Public Event -'\n",
    "\n",
    "It's then filtered by project_name is '10 - Melt'"
   ]
  },
  {
   "cell_type": "code",
   "execution_count": 3,
   "id": "5c5c6e78",
   "metadata": {
    "execution": {
     "iopub.execute_input": "2023-11-16T23:38:41.622914Z",
     "iopub.status.busy": "2023-11-16T23:38:41.622579Z",
     "iopub.status.idle": "2023-11-16T23:38:41.646125Z",
     "shell.execute_reply": "2023-11-16T23:38:41.645554Z"
    },
    "papermill": {
     "duration": 0.026845,
     "end_time": "2023-11-16T23:38:41.647467",
     "exception": false,
     "start_time": "2023-11-16T23:38:41.620622",
     "status": "completed"
    },
    "tags": []
   },
   "outputs": [
    {
     "data": {
      "text/html": [
       "<div>\n",
       "<style scoped>\n",
       "    .dataframe tbody tr th:only-of-type {\n",
       "        vertical-align: middle;\n",
       "    }\n",
       "\n",
       "    .dataframe tbody tr th {\n",
       "        vertical-align: top;\n",
       "    }\n",
       "\n",
       "    .dataframe thead th {\n",
       "        text-align: right;\n",
       "    }\n",
       "</style>\n",
       "<table border=\"1\" class=\"dataframe\">\n",
       "  <thead>\n",
       "    <tr style=\"text-align: right;\">\n",
       "      <th></th>\n",
       "      <th>actual_audience_size_number_of_participants_in_person</th>\n",
       "      <th>actual_audience_size_number_of_participants_online</th>\n",
       "      <th>airtable_id</th>\n",
       "      <th>end_date</th>\n",
       "      <th>event_name</th>\n",
       "      <th>event_type</th>\n",
       "      <th>event_unique_identifier</th>\n",
       "      <th>number_of_booked_participants</th>\n",
       "      <th>postcode_(from_venue)</th>\n",
       "      <th>project_name</th>\n",
       "      <th>project_type</th>\n",
       "      <th>season</th>\n",
       "      <th>start_date</th>\n",
       "      <th>ticket_tailor_id</th>\n",
       "      <th>ward_(from_venue)</th>\n",
       "    </tr>\n",
       "  </thead>\n",
       "  <tbody>\n",
       "    <tr>\n",
       "      <th>1095</th>\n",
       "      <td>1338.0</td>\n",
       "      <td>NaN</td>\n",
       "      <td>241</td>\n",
       "      <td>2023-09-09</td>\n",
       "      <td>Melt (Run)</td>\n",
       "      <td>['Public Event - Performance']</td>\n",
       "      <td>10 - Melt: Melt (Run)</td>\n",
       "      <td>1542.0</td>\n",
       "      <td>['LS26 8AL']</td>\n",
       "      <td>10 - Melt</td>\n",
       "      <td>Produce (Signature)</td>\n",
       "      <td>['Season 3 - Dreaming']</td>\n",
       "      <td>2023-09-05</td>\n",
       "      <td>ev_2809632, ev_2809633,  ev_2809634,  ev_28096...</td>\n",
       "      <td>['Garforth and Swillington']</td>\n",
       "    </tr>\n",
       "  </tbody>\n",
       "</table>\n",
       "</div>"
      ],
      "text/plain": [
       "      actual_audience_size_number_of_participants_in_person  \\\n",
       "1095                                             1338.0       \n",
       "\n",
       "      actual_audience_size_number_of_participants_online  airtable_id  \\\n",
       "1095                                                NaN           241   \n",
       "\n",
       "        end_date  event_name                      event_type  \\\n",
       "1095  2023-09-09  Melt (Run)  ['Public Event - Performance']   \n",
       "\n",
       "     event_unique_identifier  number_of_booked_participants  \\\n",
       "1095   10 - Melt: Melt (Run)                         1542.0   \n",
       "\n",
       "     postcode_(from_venue) project_name         project_type  \\\n",
       "1095          ['LS26 8AL']    10 - Melt  Produce (Signature)   \n",
       "\n",
       "                       season start_date  \\\n",
       "1095  ['Season 3 - Dreaming'] 2023-09-05   \n",
       "\n",
       "                                       ticket_tailor_id  \\\n",
       "1095  ev_2809632, ev_2809633,  ev_2809634,  ev_28096...   \n",
       "\n",
       "                 ward_(from_venue)  \n",
       "1095  ['Garforth and Swillington']  "
      ]
     },
     "execution_count": 3,
     "metadata": {},
     "output_type": "execute_result"
    }
   ],
   "source": [
    "data = (\n",
    "  load_event_data()\n",
    "    .pipe(filter_by_project, '10 - Melt')\n",
    "    .pipe(filter_public_events)\n",
    "  )\n",
    "data"
   ]
  },
  {
   "cell_type": "markdown",
   "id": "364f0436",
   "metadata": {
    "papermill": {
     "duration": 0.001558,
     "end_time": "2023-11-16T23:38:41.650661",
     "exception": false,
     "start_time": "2023-11-16T23:38:41.649103",
     "status": "completed"
    },
    "tags": []
   },
   "source": [
    "Run the processing and save the files"
   ]
  },
  {
   "cell_type": "code",
   "execution_count": 4,
   "id": "fef4fbf3",
   "metadata": {
    "execution": {
     "iopub.execute_input": "2023-11-16T23:38:41.654951Z",
     "iopub.status.busy": "2023-11-16T23:38:41.654475Z",
     "iopub.status.idle": "2023-11-16T23:38:41.677374Z",
     "shell.execute_reply": "2023-11-16T23:38:41.676774Z"
    },
    "papermill": {
     "duration": 0.026593,
     "end_time": "2023-11-16T23:38:41.678827",
     "exception": false,
     "start_time": "2023-11-16T23:38:41.652234",
     "status": "completed"
    },
    "tags": []
   },
   "outputs": [],
   "source": [
    "data = data.pipe(prepare).pipe(save_files, OUT_DIR)"
   ]
  }
 ],
 "metadata": {
  "kernelspec": {
   "display_name": "leeds-2023-YZF5GfJv",
   "language": "python",
   "name": "python3"
  },
  "language_info": {
   "codemirror_mode": {
    "name": "ipython",
    "version": 3
   },
   "file_extension": ".py",
   "mimetype": "text/x-python",
   "name": "python",
   "nbconvert_exporter": "python",
   "pygments_lexer": "ipython3",
   "version": "3.10.13"
  },
  "papermill": {
   "default_parameters": {},
   "duration": 9.015733,
   "end_time": "2023-11-16T23:38:41.898344",
   "environment_variables": {},
   "exception": null,
   "input_path": "nest.ipynb",
   "output_path": "../../../../working/output/nest.ipynb",
   "parameters": {},
   "start_time": "2023-11-16T23:38:32.882611",
   "version": "2.4.0"
  }
 },
 "nbformat": 4,
 "nbformat_minor": 5
}