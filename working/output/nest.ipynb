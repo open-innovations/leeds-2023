{
 "cells": [
  {
   "cell_type": "markdown",
   "id": "461d32e4",
   "metadata": {
    "papermill": {
     "duration": 0.004815,
     "end_time": "2023-10-27T09:41:23.537431",
     "exception": false,
     "start_time": "2023-10-27T09:41:23.532616",
     "status": "completed"
    },
    "tags": []
   },
   "source": [
    "# Nest\n",
    "\n",
    "Prepares data for the Nest page "
   ]
  },
  {
   "cell_type": "code",
   "execution_count": 1,
   "id": "20c6b91e",
   "metadata": {
    "execution": {
     "iopub.execute_input": "2023-10-27T09:41:23.543863Z",
     "iopub.status.busy": "2023-10-27T09:41:23.542740Z",
     "iopub.status.idle": "2023-10-27T09:41:35.026616Z",
     "shell.execute_reply": "2023-10-27T09:41:35.025165Z"
    },
    "papermill": {
     "duration": 11.489354,
     "end_time": "2023-10-27T09:41:35.028895",
     "exception": false,
     "start_time": "2023-10-27T09:41:23.539541",
     "status": "completed"
    },
    "tags": []
   },
   "outputs": [],
   "source": [
    "import os\n",
    "from events import (\n",
    "    load_event_data, filter_public_events, filter_by_project, prepare, save_files, count_wards\n",
    ")"
   ]
  },
  {
   "cell_type": "markdown",
   "id": "42260853",
   "metadata": {
    "papermill": {
     "duration": 0.002069,
     "end_time": "2023-10-27T09:41:35.033153",
     "exception": false,
     "start_time": "2023-10-27T09:41:35.031084",
     "status": "completed"
    },
    "tags": []
   },
   "source": [
    "Set output directory"
   ]
  },
  {
   "cell_type": "code",
   "execution_count": 2,
   "id": "20bae65d",
   "metadata": {
    "execution": {
     "iopub.execute_input": "2023-10-27T09:41:35.039122Z",
     "iopub.status.busy": "2023-10-27T09:41:35.038379Z",
     "iopub.status.idle": "2023-10-27T09:41:35.043660Z",
     "shell.execute_reply": "2023-10-27T09:41:35.042744Z"
    },
    "papermill": {
     "duration": 0.010477,
     "end_time": "2023-10-27T09:41:35.045597",
     "exception": false,
     "start_time": "2023-10-27T09:41:35.035120",
     "status": "completed"
    },
    "tags": []
   },
   "outputs": [],
   "source": [
    "OUT_DIR = '../../../../docs/metrics/events/nest/_data/events'"
   ]
  },
  {
   "cell_type": "markdown",
   "id": "51481620",
   "metadata": {
    "papermill": {
     "duration": 0.001971,
     "end_time": "2023-10-27T09:41:35.049158",
     "exception": false,
     "start_time": "2023-10-27T09:41:35.047187",
     "status": "completed"
    },
    "tags": []
   },
   "source": [
    "Read in event data and filter by **My LEEDS 2023** project.\n",
    "\n",
    "The criteria are:\n",
    "\n",
    "* project type is 'Produce (Signature)'\n",
    "* event_type contains 'Public Event -'\n",
    "\n",
    "It's then filtered by project_name is '10 - Melt'"
   ]
  },
  {
   "cell_type": "code",
   "execution_count": 3,
   "id": "0a6f07b7",
   "metadata": {
    "execution": {
     "iopub.execute_input": "2023-10-27T09:41:35.054110Z",
     "iopub.status.busy": "2023-10-27T09:41:35.053849Z",
     "iopub.status.idle": "2023-10-27T09:41:35.086862Z",
     "shell.execute_reply": "2023-10-27T09:41:35.086026Z"
    },
    "papermill": {
     "duration": 0.038017,
     "end_time": "2023-10-27T09:41:35.089018",
     "exception": false,
     "start_time": "2023-10-27T09:41:35.051001",
     "status": "completed"
    },
    "tags": []
   },
   "outputs": [
    {
     "data": {
      "text/html": [
       "<div>\n",
       "<style scoped>\n",
       "    .dataframe tbody tr th:only-of-type {\n",
       "        vertical-align: middle;\n",
       "    }\n",
       "\n",
       "    .dataframe tbody tr th {\n",
       "        vertical-align: top;\n",
       "    }\n",
       "\n",
       "    .dataframe thead th {\n",
       "        text-align: right;\n",
       "    }\n",
       "</style>\n",
       "<table border=\"1\" class=\"dataframe\">\n",
       "  <thead>\n",
       "    <tr style=\"text-align: right;\">\n",
       "      <th></th>\n",
       "      <th>actual_audience_size_number_of_participants_in_person</th>\n",
       "      <th>actual_audience_size_number_of_participants_online</th>\n",
       "      <th>airtable_id</th>\n",
       "      <th>end_date</th>\n",
       "      <th>event_name</th>\n",
       "      <th>event_type</th>\n",
       "      <th>event_unique_identifier</th>\n",
       "      <th>number_of_booked_participants</th>\n",
       "      <th>postcode_(from_venue)</th>\n",
       "      <th>project_name</th>\n",
       "      <th>project_type</th>\n",
       "      <th>season</th>\n",
       "      <th>start_date</th>\n",
       "      <th>ward_(from_venue)</th>\n",
       "    </tr>\n",
       "  </thead>\n",
       "  <tbody>\n",
       "    <tr>\n",
       "      <th>1103</th>\n",
       "      <td>1338.0</td>\n",
       "      <td>NaN</td>\n",
       "      <td>241</td>\n",
       "      <td>2023-09-09</td>\n",
       "      <td>Melt (Run)</td>\n",
       "      <td>['Public Event - Performance']</td>\n",
       "      <td>10 - Melt: Melt (Run)</td>\n",
       "      <td>1542.0</td>\n",
       "      <td>['LS26 8AL']</td>\n",
       "      <td>10 - Melt</td>\n",
       "      <td>Produce (Signature)</td>\n",
       "      <td>['Season 3 - Dreaming']</td>\n",
       "      <td>2023-09-05</td>\n",
       "      <td>['Garforth and Swillington']</td>\n",
       "    </tr>\n",
       "  </tbody>\n",
       "</table>\n",
       "</div>"
      ],
      "text/plain": [
       "      actual_audience_size_number_of_participants_in_person  \\\n",
       "1103                                             1338.0       \n",
       "\n",
       "      actual_audience_size_number_of_participants_online  airtable_id  \\\n",
       "1103                                                NaN           241   \n",
       "\n",
       "        end_date  event_name                      event_type  \\\n",
       "1103  2023-09-09  Melt (Run)  ['Public Event - Performance']   \n",
       "\n",
       "     event_unique_identifier  number_of_booked_participants  \\\n",
       "1103   10 - Melt: Melt (Run)                         1542.0   \n",
       "\n",
       "     postcode_(from_venue) project_name         project_type  \\\n",
       "1103          ['LS26 8AL']    10 - Melt  Produce (Signature)   \n",
       "\n",
       "                       season start_date             ward_(from_venue)  \n",
       "1103  ['Season 3 - Dreaming'] 2023-09-05  ['Garforth and Swillington']  "
      ]
     },
     "execution_count": 3,
     "metadata": {},
     "output_type": "execute_result"
    }
   ],
   "source": [
    "data = (\n",
    "  load_event_data()\n",
    "    .pipe(filter_by_project, '10 - Melt')\n",
    "    .pipe(filter_public_events)\n",
    "  )\n",
    "data"
   ]
  },
  {
   "cell_type": "markdown",
   "id": "ef77f638",
   "metadata": {
    "papermill": {
     "duration": 0.0023,
     "end_time": "2023-10-27T09:41:35.094016",
     "exception": false,
     "start_time": "2023-10-27T09:41:35.091716",
     "status": "completed"
    },
    "tags": []
   },
   "source": [
    "Run the processing and save the files"
   ]
  },
  {
   "cell_type": "code",
   "execution_count": 4,
   "id": "39a2d724",
   "metadata": {
    "execution": {
     "iopub.execute_input": "2023-10-27T09:41:35.099894Z",
     "iopub.status.busy": "2023-10-27T09:41:35.099219Z",
     "iopub.status.idle": "2023-10-27T09:41:35.129433Z",
     "shell.execute_reply": "2023-10-27T09:41:35.128680Z"
    },
    "papermill": {
     "duration": 0.034836,
     "end_time": "2023-10-27T09:41:35.131181",
     "exception": false,
     "start_time": "2023-10-27T09:41:35.096345",
     "status": "completed"
    },
    "tags": []
   },
   "outputs": [],
   "source": [
    "data = data.pipe(prepare).pipe(save_files, OUT_DIR)"
   ]
  }
 ],
 "metadata": {
  "kernelspec": {
   "display_name": "leeds-2023-YZF5GfJv",
   "language": "python",
   "name": "python3"
  },
  "language_info": {
   "codemirror_mode": {
    "name": "ipython",
    "version": 3
   },
   "file_extension": ".py",
   "mimetype": "text/x-python",
   "name": "python",
   "nbconvert_exporter": "python",
   "pygments_lexer": "ipython3",
   "version": "3.10.13"
  },
  "papermill": {
   "default_parameters": {},
   "duration": 13.613782,
   "end_time": "2023-10-27T09:41:35.452547",
   "environment_variables": {},
   "exception": null,
   "input_path": "nest.ipynb",
   "output_path": "../../../../working/output/nest.ipynb",
   "parameters": {},
   "start_time": "2023-10-27T09:41:21.838765",
   "version": "2.4.0"
  }
 },
 "nbformat": 4,
 "nbformat_minor": 5
}