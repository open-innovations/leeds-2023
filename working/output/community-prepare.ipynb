{
 "cells": [
  {
   "cell_type": "code",
   "execution_count": 1,
   "id": "323217e1",
   "metadata": {
    "execution": {
     "iopub.execute_input": "2023-10-25T23:42:12.848336Z",
     "iopub.status.busy": "2023-10-25T23:42:12.847511Z",
     "iopub.status.idle": "2023-10-25T23:42:13.227175Z",
     "shell.execute_reply": "2023-10-25T23:42:13.226162Z"
    },
    "papermill": {
     "duration": 0.387739,
     "end_time": "2023-10-25T23:42:13.230046",
     "exception": false,
     "start_time": "2023-10-25T23:42:12.842307",
     "status": "completed"
    },
    "tags": []
   },
   "outputs": [],
   "source": [
    "import os, sys\n",
    "TOP_DIR = os.path.realpath('../../..')\n",
    "if TOP_DIR not in sys.path: sys.path.append(TOP_DIR)\n",
    "import pandas as pd"
   ]
  },
  {
   "cell_type": "code",
   "execution_count": 2,
   "id": "3831ba75",
   "metadata": {
    "execution": {
     "iopub.execute_input": "2023-10-25T23:42:13.241545Z",
     "iopub.status.busy": "2023-10-25T23:42:13.240136Z",
     "iopub.status.idle": "2023-10-25T23:42:13.248989Z",
     "shell.execute_reply": "2023-10-25T23:42:13.246930Z"
    },
    "papermill": {
     "duration": 0.018279,
     "end_time": "2023-10-25T23:42:13.251136",
     "exception": false,
     "start_time": "2023-10-25T23:42:13.232857",
     "status": "completed"
    },
    "tags": []
   },
   "outputs": [],
   "source": [
    "from lib.util.convert import named_cumulative_sum"
   ]
  },
  {
   "cell_type": "code",
   "execution_count": 3,
   "id": "9fb6113d",
   "metadata": {
    "execution": {
     "iopub.execute_input": "2023-10-25T23:42:13.256787Z",
     "iopub.status.busy": "2023-10-25T23:42:13.256481Z",
     "iopub.status.idle": "2023-10-25T23:42:13.271176Z",
     "shell.execute_reply": "2023-10-25T23:42:13.270202Z"
    },
    "papermill": {
     "duration": 0.019805,
     "end_time": "2023-10-25T23:42:13.273111",
     "exception": false,
     "start_time": "2023-10-25T23:42:13.253306",
     "status": "completed"
    },
    "tags": []
   },
   "outputs": [],
   "source": [
    "data = pd.read_csv('../../../data/metrics/community/events.csv', parse_dates=['start_date'])\n",
    "data.ward_code = data.ward_code.fillna('UNKNOWN')"
   ]
  },
  {
   "cell_type": "markdown",
   "id": "7be3ef5a",
   "metadata": {
    "papermill": {
     "duration": 0.002488,
     "end_time": "2023-10-25T23:42:13.277896",
     "exception": false,
     "start_time": "2023-10-25T23:42:13.275408",
     "status": "completed"
    },
    "tags": []
   },
   "source": [
    "Set up output directories"
   ]
  },
  {
   "cell_type": "code",
   "execution_count": 4,
   "id": "ea51579a",
   "metadata": {
    "execution": {
     "iopub.execute_input": "2023-10-25T23:42:13.284804Z",
     "iopub.status.busy": "2023-10-25T23:42:13.284473Z",
     "iopub.status.idle": "2023-10-25T23:42:13.290345Z",
     "shell.execute_reply": "2023-10-25T23:42:13.289391Z"
    },
    "papermill": {
     "duration": 0.012685,
     "end_time": "2023-10-25T23:42:13.293038",
     "exception": false,
     "start_time": "2023-10-25T23:42:13.280353",
     "status": "completed"
    },
    "tags": []
   },
   "outputs": [],
   "source": [
    "OUT_DIR = '../../../docs/metrics/community/_data'\n",
    "os.makedirs(OUT_DIR, exist_ok=True)"
   ]
  },
  {
   "cell_type": "code",
   "execution_count": 5,
   "id": "65389bac",
   "metadata": {
    "execution": {
     "iopub.execute_input": "2023-10-25T23:42:13.299248Z",
     "iopub.status.busy": "2023-10-25T23:42:13.298858Z",
     "iopub.status.idle": "2023-10-25T23:42:13.308653Z",
     "shell.execute_reply": "2023-10-25T23:42:13.307715Z"
    },
    "papermill": {
     "duration": 0.015394,
     "end_time": "2023-10-25T23:42:13.310712",
     "exception": false,
     "start_time": "2023-10-25T23:42:13.295318",
     "status": "completed"
    },
    "tags": []
   },
   "outputs": [],
   "source": [
    "pd.Series({\n",
    "  'events': data.event_name.count(),\n",
    "  'audience': data.audience.sum().astype(int),\n",
    "  'errors': {\n",
    "    'missing_wards': (data.ward_code == 'UNKNOWN').value_counts()[True],\n",
    "    'missing_audience': data.audience.isna().value_counts()[True],\n",
    "    'zero_audience':  (data.audience < 1).value_counts()[True],  \n",
    "  }\n",
    "}).to_json(os.path.join(OUT_DIR, 'headlines.json'), indent=2)"
   ]
  },
  {
   "cell_type": "code",
   "execution_count": 6,
   "id": "641b9d6a",
   "metadata": {
    "execution": {
     "iopub.execute_input": "2023-10-25T23:42:13.316982Z",
     "iopub.status.busy": "2023-10-25T23:42:13.316293Z",
     "iopub.status.idle": "2023-10-25T23:42:13.328384Z",
     "shell.execute_reply": "2023-10-25T23:42:13.327325Z"
    },
    "papermill": {
     "duration": 0.017925,
     "end_time": "2023-10-25T23:42:13.330759",
     "exception": false,
     "start_time": "2023-10-25T23:42:13.312834",
     "status": "completed"
    },
    "tags": []
   },
   "outputs": [],
   "source": [
    "by_ward = pd.DataFrame({\n",
    "  'events': data.groupby('ward_code').event_name.count().fillna(0).astype('int'),\n",
    "  'audience': data.groupby('ward_code').audience.sum().fillna(0).astype('int'),\n",
    "}).to_csv(os.path.join(OUT_DIR, 'by_ward.csv'))"
   ]
  },
  {
   "cell_type": "code",
   "execution_count": 7,
   "id": "9e34d5c7",
   "metadata": {
    "execution": {
     "iopub.execute_input": "2023-10-25T23:42:13.337815Z",
     "iopub.status.busy": "2023-10-25T23:42:13.337502Z",
     "iopub.status.idle": "2023-10-25T23:42:13.352277Z",
     "shell.execute_reply": "2023-10-25T23:42:13.351326Z"
    },
    "papermill": {
     "duration": 0.020877,
     "end_time": "2023-10-25T23:42:13.354490",
     "exception": false,
     "start_time": "2023-10-25T23:42:13.333613",
     "status": "completed"
    },
    "tags": []
   },
   "outputs": [],
   "source": [
    "by_date = pd.DataFrame({\n",
    "    'events': data.groupby('start_date').event_name.count(),\n",
    "    'audience': data.groupby('start_date').audience.sum(),\n",
    "}).resample('M').sum()\n",
    "\n",
    "pd.concat([\n",
    "    by_date,\n",
    "    by_date.pipe(named_cumulative_sum)\n",
    "], axis=1).astype('int').to_csv(os.path.join(OUT_DIR, 'by_date.csv'))"
   ]
  }
 ],
 "metadata": {
  "kernelspec": {
   "display_name": "leeds-2023-YZF5GfJv",
   "language": "python",
   "name": "python3"
  },
  "language_info": {
   "codemirror_mode": {
    "name": "ipython",
    "version": 3
   },
   "file_extension": ".py",
   "mimetype": "text/x-python",
   "name": "python",
   "nbconvert_exporter": "python",
   "pygments_lexer": "ipython3",
   "version": "3.10.13"
  },
  "papermill": {
   "default_parameters": {},
   "duration": 2.716248,
   "end_time": "2023-10-25T23:42:13.676921",
   "environment_variables": {},
   "exception": null,
   "input_path": "prepare.ipynb",
   "output_path": "../../../working/output/community-prepare.ipynb",
   "parameters": {},
   "start_time": "2023-10-25T23:42:10.960673",
   "version": "2.4.0"
  }
 },
 "nbformat": 4,
 "nbformat_minor": 5
}