{
 "cells": [
  {
   "cell_type": "code",
   "execution_count": 1,
   "id": "53f222fb",
   "metadata": {
    "execution": {
     "iopub.execute_input": "2023-10-14T23:40:26.911596Z",
     "iopub.status.busy": "2023-10-14T23:40:26.911087Z",
     "iopub.status.idle": "2023-10-14T23:40:36.505598Z",
     "shell.execute_reply": "2023-10-14T23:40:36.504920Z"
    },
    "papermill": {
     "duration": 9.600176,
     "end_time": "2023-10-14T23:40:36.507364",
     "exception": false,
     "start_time": "2023-10-14T23:40:26.907188",
     "status": "completed"
    },
    "tags": []
   },
   "outputs": [],
   "source": [
    "import os\n",
    "import pandas as pd\n",
    "from events import load_event_data, get_first_ward, normalise_ward"
   ]
  },
  {
   "cell_type": "code",
   "execution_count": 2,
   "id": "9d1871a6",
   "metadata": {
    "execution": {
     "iopub.execute_input": "2023-10-14T23:40:36.513860Z",
     "iopub.status.busy": "2023-10-14T23:40:36.513284Z",
     "iopub.status.idle": "2023-10-14T23:40:36.517936Z",
     "shell.execute_reply": "2023-10-14T23:40:36.517290Z"
    },
    "papermill": {
     "duration": 0.009358,
     "end_time": "2023-10-14T23:40:36.519377",
     "exception": false,
     "start_time": "2023-10-14T23:40:36.510019",
     "status": "completed"
    },
    "tags": []
   },
   "outputs": [],
   "source": [
    "latest_date = pd.Timestamp.today().ceil('D')"
   ]
  },
  {
   "cell_type": "code",
   "execution_count": 3,
   "id": "07685813",
   "metadata": {
    "execution": {
     "iopub.execute_input": "2023-10-14T23:40:36.525184Z",
     "iopub.status.busy": "2023-10-14T23:40:36.524653Z",
     "iopub.status.idle": "2023-10-14T23:40:36.540796Z",
     "shell.execute_reply": "2023-10-14T23:40:36.540185Z"
    },
    "papermill": {
     "duration": 0.020704,
     "end_time": "2023-10-14T23:40:36.542356",
     "exception": false,
     "start_time": "2023-10-14T23:40:36.521652",
     "status": "completed"
    },
    "tags": []
   },
   "outputs": [],
   "source": [
    "tickets = pd.read_csv('../../../../data/metrics/events/tickets/orders.csv', parse_dates=['created_at', 'event_date'])\n",
    "tickets = tickets[tickets.event_date <= latest_date]"
   ]
  },
  {
   "cell_type": "code",
   "execution_count": 4,
   "id": "e4648e2c",
   "metadata": {
    "execution": {
     "iopub.execute_input": "2023-10-14T23:40:36.548076Z",
     "iopub.status.busy": "2023-10-14T23:40:36.547653Z",
     "iopub.status.idle": "2023-10-14T23:40:36.782007Z",
     "shell.execute_reply": "2023-10-14T23:40:36.781353Z"
    },
    "papermill": {
     "duration": 0.239267,
     "end_time": "2023-10-14T23:40:36.783934",
     "exception": false,
     "start_time": "2023-10-14T23:40:36.544667",
     "status": "completed"
    },
    "tags": []
   },
   "outputs": [],
   "source": [
    "events = load_event_data()\n",
    "\n",
    "events = pd.concat([\n",
    "  events,\n",
    "  events.pipe(get_first_ward).pipe(normalise_ward).fillna('UNKNOWN'),\n",
    "  pd.Series(\n",
    "      events.actual_audience_size_number_of_participants_in_person + events.actual_audience_size_number_of_participants_online,\n",
    "      name='attendances'\n",
    "  )\n",
    "], axis=1).rename(columns={\n",
    "    'start_date': 'date'\n",
    "}).loc[:, ['ward_code', 'date', 'event_unique_identifier', 'attendances']]"
   ]
  },
  {
   "cell_type": "code",
   "execution_count": 5,
   "id": "6beeb110",
   "metadata": {
    "execution": {
     "iopub.execute_input": "2023-10-14T23:40:36.790416Z",
     "iopub.status.busy": "2023-10-14T23:40:36.789940Z",
     "iopub.status.idle": "2023-10-14T23:40:36.793403Z",
     "shell.execute_reply": "2023-10-14T23:40:36.792763Z"
    },
    "papermill": {
     "duration": 0.008333,
     "end_time": "2023-10-14T23:40:36.794882",
     "exception": false,
     "start_time": "2023-10-14T23:40:36.786549",
     "status": "completed"
    },
    "tags": []
   },
   "outputs": [],
   "source": [
    "OUTPUT_DIR='../../../../docs/metrics/events/signature/_data/'\n",
    "os.makedirs(OUTPUT_DIR, exist_ok=True)"
   ]
  },
  {
   "cell_type": "markdown",
   "id": "4b644c1c",
   "metadata": {
    "papermill": {
     "duration": 0.002328,
     "end_time": "2023-10-14T23:40:36.799563",
     "exception": false,
     "start_time": "2023-10-14T23:40:36.797235",
     "status": "completed"
    },
    "tags": []
   },
   "source": [
    "Events CSVs"
   ]
  },
  {
   "cell_type": "code",
   "execution_count": 6,
   "id": "c1dda100",
   "metadata": {
    "execution": {
     "iopub.execute_input": "2023-10-14T23:40:36.805082Z",
     "iopub.status.busy": "2023-10-14T23:40:36.804862Z",
     "iopub.status.idle": "2023-10-14T23:40:36.811759Z",
     "shell.execute_reply": "2023-10-14T23:40:36.811141Z"
    },
    "papermill": {
     "duration": 0.011295,
     "end_time": "2023-10-14T23:40:36.813156",
     "exception": false,
     "start_time": "2023-10-14T23:40:36.801861",
     "status": "completed"
    },
    "tags": []
   },
   "outputs": [],
   "source": [
    "pd.DataFrame({\n",
    "  'events': events.groupby('ward_code').event_unique_identifier.count(),\n",
    "  'attendances': events.groupby('ward_code').attendances.sum().astype(int),\n",
    "}).to_csv(os.path.join(OUTPUT_DIR, 'events_by_ward.csv'))\n"
   ]
  },
  {
   "cell_type": "code",
   "execution_count": 7,
   "id": "be09c6e2",
   "metadata": {
    "execution": {
     "iopub.execute_input": "2023-10-14T23:40:36.818990Z",
     "iopub.status.busy": "2023-10-14T23:40:36.818578Z",
     "iopub.status.idle": "2023-10-14T23:40:36.829383Z",
     "shell.execute_reply": "2023-10-14T23:40:36.828800Z"
    },
    "papermill": {
     "duration": 0.015352,
     "end_time": "2023-10-14T23:40:36.830881",
     "exception": false,
     "start_time": "2023-10-14T23:40:36.815529",
     "status": "completed"
    },
    "tags": []
   },
   "outputs": [],
   "source": [
    "pd.DataFrame({\n",
    "  'events': events.groupby('date').event_unique_identifier.count(),\n",
    "  'attendances': events.groupby('date').attendances.sum().astype(int),\n",
    "}).resample('M').sum().astype(int).to_csv(os.path.join(OUTPUT_DIR, 'events_by_date.csv'))"
   ]
  },
  {
   "cell_type": "markdown",
   "id": "ca75ba6d",
   "metadata": {
    "papermill": {
     "duration": 0.002378,
     "end_time": "2023-10-14T23:40:36.835666",
     "exception": false,
     "start_time": "2023-10-14T23:40:36.833288",
     "status": "completed"
    },
    "tags": []
   },
   "source": [
    "Tickets CSV"
   ]
  },
  {
   "cell_type": "code",
   "execution_count": 8,
   "id": "fdbaa69e",
   "metadata": {
    "execution": {
     "iopub.execute_input": "2023-10-14T23:40:36.841379Z",
     "iopub.status.busy": "2023-10-14T23:40:36.841162Z",
     "iopub.status.idle": "2023-10-14T23:40:36.847597Z",
     "shell.execute_reply": "2023-10-14T23:40:36.847028Z"
    },
    "papermill": {
     "duration": 0.011024,
     "end_time": "2023-10-14T23:40:36.849065",
     "exception": false,
     "start_time": "2023-10-14T23:40:36.838041",
     "status": "completed"
    },
    "tags": []
   },
   "outputs": [],
   "source": [
    "pd.DataFrame({\n",
    "  'orders': tickets.groupby('ward_code').number_of_tickets.count(),\n",
    "  'tickets': tickets.groupby('ward_code').number_of_tickets.sum().astype(int),\n",
    "}).to_csv(os.path.join(OUTPUT_DIR, 'tickets_by_ward.csv'))"
   ]
  },
  {
   "cell_type": "code",
   "execution_count": 9,
   "id": "d42e249f",
   "metadata": {
    "execution": {
     "iopub.execute_input": "2023-10-14T23:40:36.855135Z",
     "iopub.status.busy": "2023-10-14T23:40:36.854605Z",
     "iopub.status.idle": "2023-10-14T23:40:36.862260Z",
     "shell.execute_reply": "2023-10-14T23:40:36.861693Z"
    },
    "papermill": {
     "duration": 0.012318,
     "end_time": "2023-10-14T23:40:36.863824",
     "exception": false,
     "start_time": "2023-10-14T23:40:36.851506",
     "status": "completed"
    },
    "tags": []
   },
   "outputs": [],
   "source": [
    "pd.DataFrame({\n",
    "  'orders': tickets.groupby('event_date').number_of_tickets.count(),\n",
    "  'tickets': tickets.groupby('event_date').number_of_tickets.sum().astype(int),\n",
    "}).resample('M').sum().to_csv(os.path.join(OUTPUT_DIR, 'tickets_by_event_date.csv'))"
   ]
  },
  {
   "cell_type": "code",
   "execution_count": 10,
   "id": "6a7dc01b",
   "metadata": {
    "execution": {
     "iopub.execute_input": "2023-10-14T23:40:36.870633Z",
     "iopub.status.busy": "2023-10-14T23:40:36.870415Z",
     "iopub.status.idle": "2023-10-14T23:40:36.875595Z",
     "shell.execute_reply": "2023-10-14T23:40:36.874972Z"
    },
    "papermill": {
     "duration": 0.010862,
     "end_time": "2023-10-14T23:40:36.877180",
     "exception": false,
     "start_time": "2023-10-14T23:40:36.866318",
     "status": "completed"
    },
    "tags": []
   },
   "outputs": [],
   "source": [
    "pd.Series({\n",
    "    'total_events': events.event_unique_identifier.count(),\n",
    "    'total_attendances': events.attendances.count(),\n",
    "    'first_event': events.date.min(),\n",
    "    'latest_event': events.date.max(),\n",
    "    'total_ticket_orders_for_events_to_date': tickets.number_of_tickets.count(),\n",
    "    'total_tickets_sold_for_events_to_date': tickets.number_of_tickets.sum(),\n",
    "}).to_json(os.path.join(OUTPUT_DIR, 'headlines.json'), indent=2)"
   ]
  },
  {
   "cell_type": "code",
   "execution_count": null,
   "id": "4aea188f",
   "metadata": {
    "papermill": {
     "duration": 0.002439,
     "end_time": "2023-10-14T23:40:36.882139",
     "exception": false,
     "start_time": "2023-10-14T23:40:36.879700",
     "status": "completed"
    },
    "tags": []
   },
   "outputs": [],
   "source": []
  }
 ],
 "metadata": {
  "kernelspec": {
   "display_name": "leeds-2023-YZF5GfJv",
   "language": "python",
   "name": "python3"
  },
  "language_info": {
   "codemirror_mode": {
    "name": "ipython",
    "version": 3
   },
   "file_extension": ".py",
   "mimetype": "text/x-python",
   "name": "python",
   "nbconvert_exporter": "python",
   "pygments_lexer": "ipython3",
   "version": "3.10.13"
  },
  "papermill": {
   "default_parameters": {},
   "duration": 11.635502,
   "end_time": "2023-10-14T23:40:37.200536",
   "environment_variables": {},
   "exception": null,
   "input_path": "prepare.ipynb",
   "output_path": "../../../../working/output/signature-prepare.ipynb",
   "parameters": {},
   "start_time": "2023-10-14T23:40:25.565034",
   "version": "2.4.0"
  }
 },
 "nbformat": 4,
 "nbformat_minor": 5
}