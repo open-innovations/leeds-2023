{
 "cells": [
  {
   "cell_type": "markdown",
   "id": "dab32412",
   "metadata": {
    "papermill": {
     "duration": 0.002849,
     "end_time": "2023-07-18T23:38:12.128650",
     "exception": false,
     "start_time": "2023-07-18T23:38:12.125801",
     "status": "completed"
    },
    "tags": []
   },
   "source": [
    "# My LEEDS 2023\n",
    "\n",
    "Prepares data for the My LEEDS 2023 page "
   ]
  },
  {
   "cell_type": "code",
   "execution_count": 1,
   "id": "97177ecc",
   "metadata": {
    "execution": {
     "iopub.execute_input": "2023-07-18T23:38:12.134704Z",
     "iopub.status.busy": "2023-07-18T23:38:12.134124Z",
     "iopub.status.idle": "2023-07-18T23:38:21.828038Z",
     "shell.execute_reply": "2023-07-18T23:38:21.827308Z"
    },
    "papermill": {
     "duration": 9.699244,
     "end_time": "2023-07-18T23:38:21.830107",
     "exception": false,
     "start_time": "2023-07-18T23:38:12.130863",
     "status": "completed"
    },
    "tags": []
   },
   "outputs": [],
   "source": [
    "from events import (\n",
    "    load_event_data, filter_by_project, prepare, save_files, count_wards\n",
    ")"
   ]
  },
  {
   "cell_type": "markdown",
   "id": "70f11a9d",
   "metadata": {
    "papermill": {
     "duration": 0.002596,
     "end_time": "2023-07-18T23:38:21.835233",
     "exception": false,
     "start_time": "2023-07-18T23:38:21.832637",
     "status": "completed"
    },
    "tags": []
   },
   "source": [
    "Set output directory"
   ]
  },
  {
   "cell_type": "code",
   "execution_count": 2,
   "id": "30e74369",
   "metadata": {
    "execution": {
     "iopub.execute_input": "2023-07-18T23:38:21.840877Z",
     "iopub.status.busy": "2023-07-18T23:38:21.840168Z",
     "iopub.status.idle": "2023-07-18T23:38:21.844534Z",
     "shell.execute_reply": "2023-07-18T23:38:21.843935Z"
    },
    "papermill": {
     "duration": 0.008641,
     "end_time": "2023-07-18T23:38:21.845961",
     "exception": false,
     "start_time": "2023-07-18T23:38:21.837320",
     "status": "completed"
    },
    "tags": []
   },
   "outputs": [],
   "source": [
    "OUT_DIR = '../../../../docs/metrics/events/my-leeds-2023/_data/events'"
   ]
  },
  {
   "cell_type": "markdown",
   "id": "ccb0dbbe",
   "metadata": {
    "papermill": {
     "duration": 0.001836,
     "end_time": "2023-07-18T23:38:21.849709",
     "exception": false,
     "start_time": "2023-07-18T23:38:21.847873",
     "status": "completed"
    },
    "tags": []
   },
   "source": [
    "Read in event data and filter by **My LEEDS 2023** project"
   ]
  },
  {
   "cell_type": "code",
   "execution_count": 3,
   "id": "1dade4a0",
   "metadata": {
    "execution": {
     "iopub.execute_input": "2023-07-18T23:38:21.854850Z",
     "iopub.status.busy": "2023-07-18T23:38:21.854442Z",
     "iopub.status.idle": "2023-07-18T23:38:21.870516Z",
     "shell.execute_reply": "2023-07-18T23:38:21.869831Z"
    },
    "papermill": {
     "duration": 0.020782,
     "end_time": "2023-07-18T23:38:21.872384",
     "exception": false,
     "start_time": "2023-07-18T23:38:21.851602",
     "status": "completed"
    },
    "tags": []
   },
   "outputs": [],
   "source": [
    "data = load_event_data().pipe(filter_by_project, '12 - My LEEDS 2023')"
   ]
  },
  {
   "cell_type": "markdown",
   "id": "0d5dff37",
   "metadata": {
    "papermill": {
     "duration": 0.002026,
     "end_time": "2023-07-18T23:38:21.876531",
     "exception": false,
     "start_time": "2023-07-18T23:38:21.874505",
     "status": "completed"
    },
    "tags": []
   },
   "source": [
    "Run the processing and save the files"
   ]
  },
  {
   "cell_type": "code",
   "execution_count": 4,
   "id": "a2cb303a",
   "metadata": {
    "execution": {
     "iopub.execute_input": "2023-07-18T23:38:21.882261Z",
     "iopub.status.busy": "2023-07-18T23:38:21.881601Z",
     "iopub.status.idle": "2023-07-18T23:38:21.958797Z",
     "shell.execute_reply": "2023-07-18T23:38:21.958072Z"
    },
    "papermill": {
     "duration": 0.082364,
     "end_time": "2023-07-18T23:38:21.960897",
     "exception": false,
     "start_time": "2023-07-18T23:38:21.878533",
     "status": "completed"
    },
    "tags": []
   },
   "outputs": [],
   "source": [
    "data = data.pipe(prepare).pipe(save_files, OUT_DIR)"
   ]
  },
  {
   "cell_type": "markdown",
   "id": "a57a02cf",
   "metadata": {
    "papermill": {
     "duration": 0.002413,
     "end_time": "2023-07-18T23:38:21.965593",
     "exception": false,
     "start_time": "2023-07-18T23:38:21.963180",
     "status": "completed"
    },
    "tags": []
   },
   "source": [
    "Print a list of events which have no ward, or more than one"
   ]
  },
  {
   "cell_type": "code",
   "execution_count": 5,
   "id": "3b7f7146",
   "metadata": {
    "execution": {
     "iopub.execute_input": "2023-07-18T23:38:21.971027Z",
     "iopub.status.busy": "2023-07-18T23:38:21.970545Z",
     "iopub.status.idle": "2023-07-18T23:38:21.984639Z",
     "shell.execute_reply": "2023-07-18T23:38:21.983975Z"
    },
    "papermill": {
     "duration": 0.0188,
     "end_time": "2023-07-18T23:38:21.986380",
     "exception": false,
     "start_time": "2023-07-18T23:38:21.967580",
     "status": "completed"
    },
    "tags": []
   },
   "outputs": [
    {
     "data": {
      "text/html": [
       "<div>\n",
       "<style scoped>\n",
       "    .dataframe tbody tr th:only-of-type {\n",
       "        vertical-align: middle;\n",
       "    }\n",
       "\n",
       "    .dataframe tbody tr th {\n",
       "        vertical-align: top;\n",
       "    }\n",
       "\n",
       "    .dataframe thead th {\n",
       "        text-align: right;\n",
       "    }\n",
       "</style>\n",
       "<table border=\"1\" class=\"dataframe\">\n",
       "  <thead>\n",
       "    <tr style=\"text-align: right;\">\n",
       "      <th></th>\n",
       "      <th>airtable_id</th>\n",
       "      <th>event_name</th>\n",
       "      <th>start_date</th>\n",
       "      <th>ward_(from_venue)</th>\n",
       "    </tr>\n",
       "  </thead>\n",
       "  <tbody>\n",
       "    <tr>\n",
       "      <th>768</th>\n",
       "      <td>657</td>\n",
       "      <td>The Gift: Garments</td>\n",
       "      <td>2023-06-17</td>\n",
       "      <td>NaN</td>\n",
       "    </tr>\n",
       "    <tr>\n",
       "      <th>770</th>\n",
       "      <td>656</td>\n",
       "      <td>The Gift: digital gift launch</td>\n",
       "      <td>2023-06-19</td>\n",
       "      <td>NaN</td>\n",
       "    </tr>\n",
       "    <tr>\n",
       "      <th>828</th>\n",
       "      <td>265</td>\n",
       "      <td>My Leeds Event Day 1 (Live Activation)</td>\n",
       "      <td>2023-07-08</td>\n",
       "      <td>NaN</td>\n",
       "    </tr>\n",
       "    <tr>\n",
       "      <th>830</th>\n",
       "      <td>430</td>\n",
       "      <td>My LEEDS Summer: Alwoodley Festival of Sport a...</td>\n",
       "      <td>2023-07-09</td>\n",
       "      <td>['Alwoodley', 'Alwoodley', 'Alwoodley', 'Alwoo...</td>\n",
       "    </tr>\n",
       "  </tbody>\n",
       "</table>\n",
       "</div>"
      ],
      "text/plain": [
       "     airtable_id                                         event_name  \\\n",
       "768          657                                 The Gift: Garments   \n",
       "770          656                     The Gift: digital gift launch    \n",
       "828          265             My Leeds Event Day 1 (Live Activation)   \n",
       "830          430  My LEEDS Summer: Alwoodley Festival of Sport a...   \n",
       "\n",
       "    start_date                                  ward_(from_venue)  \n",
       "768 2023-06-17                                                NaN  \n",
       "770 2023-06-19                                                NaN  \n",
       "828 2023-07-08                                                NaN  \n",
       "830 2023-07-09  ['Alwoodley', 'Alwoodley', 'Alwoodley', 'Alwoo...  "
      ]
     },
     "execution_count": 5,
     "metadata": {},
     "output_type": "execute_result"
    }
   ],
   "source": [
    "data[data.pipe(count_wards) != 1][[\n",
    "    'airtable_id',\n",
    "    'event_name',\n",
    "    'start_date',\n",
    "    'ward_(from_venue)',\n",
    "]]"
   ]
  },
  {
   "cell_type": "markdown",
   "id": "9167cea9",
   "metadata": {
    "papermill": {
     "duration": 0.002622,
     "end_time": "2023-07-18T23:38:21.991332",
     "exception": false,
     "start_time": "2023-07-18T23:38:21.988710",
     "status": "completed"
    },
    "tags": []
   },
   "source": [
    "Print a list of events with no audience recorded"
   ]
  },
  {
   "cell_type": "code",
   "execution_count": 6,
   "id": "a64bdfc4",
   "metadata": {
    "execution": {
     "iopub.execute_input": "2023-07-18T23:38:21.997482Z",
     "iopub.status.busy": "2023-07-18T23:38:21.996779Z",
     "iopub.status.idle": "2023-07-18T23:38:22.008797Z",
     "shell.execute_reply": "2023-07-18T23:38:22.008122Z"
    },
    "papermill": {
     "duration": 0.017105,
     "end_time": "2023-07-18T23:38:22.010706",
     "exception": false,
     "start_time": "2023-07-18T23:38:21.993601",
     "status": "completed"
    },
    "tags": []
   },
   "outputs": [
    {
     "data": {
      "text/html": [
       "<div>\n",
       "<style scoped>\n",
       "    .dataframe tbody tr th:only-of-type {\n",
       "        vertical-align: middle;\n",
       "    }\n",
       "\n",
       "    .dataframe tbody tr th {\n",
       "        vertical-align: top;\n",
       "    }\n",
       "\n",
       "    .dataframe thead th {\n",
       "        text-align: right;\n",
       "    }\n",
       "</style>\n",
       "<table border=\"1\" class=\"dataframe\">\n",
       "  <thead>\n",
       "    <tr style=\"text-align: right;\">\n",
       "      <th></th>\n",
       "      <th>airtable_id</th>\n",
       "      <th>event_name</th>\n",
       "      <th>start_date</th>\n",
       "      <th>audience_size</th>\n",
       "    </tr>\n",
       "  </thead>\n",
       "  <tbody>\n",
       "    <tr>\n",
       "      <th>265</th>\n",
       "      <td>560</td>\n",
       "      <td>Pudsey Grant Info Session</td>\n",
       "      <td>2023-02-13</td>\n",
       "      <td>0.0</td>\n",
       "    </tr>\n",
       "    <tr>\n",
       "      <th>266</th>\n",
       "      <td>561</td>\n",
       "      <td>Rothwell Grant Info Session</td>\n",
       "      <td>2023-02-13</td>\n",
       "      <td>0.0</td>\n",
       "    </tr>\n",
       "    <tr>\n",
       "      <th>268</th>\n",
       "      <td>562</td>\n",
       "      <td>Roundhay Grant Info Session 1</td>\n",
       "      <td>2023-02-13</td>\n",
       "      <td>0.0</td>\n",
       "    </tr>\n",
       "    <tr>\n",
       "      <th>280</th>\n",
       "      <td>567</td>\n",
       "      <td>Wetherby Grant Info Session 1</td>\n",
       "      <td>2023-02-14</td>\n",
       "      <td>0.0</td>\n",
       "    </tr>\n",
       "    <tr>\n",
       "      <th>289</th>\n",
       "      <td>565</td>\n",
       "      <td>Weetwood Grant Info Session 1</td>\n",
       "      <td>2023-02-15</td>\n",
       "      <td>0.0</td>\n",
       "    </tr>\n",
       "    <tr>\n",
       "      <th>300</th>\n",
       "      <td>563</td>\n",
       "      <td>Roundhay Grant Info Session 2</td>\n",
       "      <td>2023-02-16</td>\n",
       "      <td>0.0</td>\n",
       "    </tr>\n",
       "    <tr>\n",
       "      <th>303</th>\n",
       "      <td>564</td>\n",
       "      <td>Temple Newsam Grant Info Session</td>\n",
       "      <td>2023-02-16</td>\n",
       "      <td>0.0</td>\n",
       "    </tr>\n",
       "    <tr>\n",
       "      <th>315</th>\n",
       "      <td>566</td>\n",
       "      <td>Weetwood Grant Info Session 2</td>\n",
       "      <td>2023-02-19</td>\n",
       "      <td>0.0</td>\n",
       "    </tr>\n",
       "    <tr>\n",
       "      <th>323</th>\n",
       "      <td>558</td>\n",
       "      <td>Otley and Yeadon Grant Info Session 1</td>\n",
       "      <td>2023-02-20</td>\n",
       "      <td>0.0</td>\n",
       "    </tr>\n",
       "    <tr>\n",
       "      <th>334</th>\n",
       "      <td>559</td>\n",
       "      <td>Otley and Yeadon Grant Info Session 2</td>\n",
       "      <td>2023-02-21</td>\n",
       "      <td>0.0</td>\n",
       "    </tr>\n",
       "    <tr>\n",
       "      <th>336</th>\n",
       "      <td>568</td>\n",
       "      <td>Wetherby Grant Info Session 2</td>\n",
       "      <td>2023-02-21</td>\n",
       "      <td>0.0</td>\n",
       "    </tr>\n",
       "    <tr>\n",
       "      <th>768</th>\n",
       "      <td>657</td>\n",
       "      <td>The Gift: Garments</td>\n",
       "      <td>2023-06-17</td>\n",
       "      <td>0.0</td>\n",
       "    </tr>\n",
       "    <tr>\n",
       "      <th>770</th>\n",
       "      <td>656</td>\n",
       "      <td>The Gift: digital gift launch</td>\n",
       "      <td>2023-06-19</td>\n",
       "      <td>0.0</td>\n",
       "    </tr>\n",
       "    <tr>\n",
       "      <th>778</th>\n",
       "      <td>417</td>\n",
       "      <td>My LEEDS Summer: Moortown Picnic in the Park</td>\n",
       "      <td>2023-06-24</td>\n",
       "      <td>0.0</td>\n",
       "    </tr>\n",
       "    <tr>\n",
       "      <th>810</th>\n",
       "      <td>425</td>\n",
       "      <td>My LEEDS Summer: Guiseley and Rawdon Feast</td>\n",
       "      <td>2023-07-02</td>\n",
       "      <td>0.0</td>\n",
       "    </tr>\n",
       "    <tr>\n",
       "      <th>827</th>\n",
       "      <td>428</td>\n",
       "      <td>My LEEDS Summer: Gipton &amp; Harehills</td>\n",
       "      <td>2023-07-08</td>\n",
       "      <td>0.0</td>\n",
       "    </tr>\n",
       "    <tr>\n",
       "      <th>828</th>\n",
       "      <td>265</td>\n",
       "      <td>My Leeds Event Day 1 (Live Activation)</td>\n",
       "      <td>2023-07-08</td>\n",
       "      <td>0.0</td>\n",
       "    </tr>\n",
       "  </tbody>\n",
       "</table>\n",
       "</div>"
      ],
      "text/plain": [
       "     airtable_id                                    event_name start_date  \\\n",
       "265          560                     Pudsey Grant Info Session 2023-02-13   \n",
       "266          561                   Rothwell Grant Info Session 2023-02-13   \n",
       "268          562                 Roundhay Grant Info Session 1 2023-02-13   \n",
       "280          567                 Wetherby Grant Info Session 1 2023-02-14   \n",
       "289          565                 Weetwood Grant Info Session 1 2023-02-15   \n",
       "300          563                 Roundhay Grant Info Session 2 2023-02-16   \n",
       "303          564              Temple Newsam Grant Info Session 2023-02-16   \n",
       "315          566                 Weetwood Grant Info Session 2 2023-02-19   \n",
       "323          558         Otley and Yeadon Grant Info Session 1 2023-02-20   \n",
       "334          559         Otley and Yeadon Grant Info Session 2 2023-02-21   \n",
       "336          568                 Wetherby Grant Info Session 2 2023-02-21   \n",
       "768          657                            The Gift: Garments 2023-06-17   \n",
       "770          656                The Gift: digital gift launch  2023-06-19   \n",
       "778          417  My LEEDS Summer: Moortown Picnic in the Park 2023-06-24   \n",
       "810          425    My LEEDS Summer: Guiseley and Rawdon Feast 2023-07-02   \n",
       "827          428           My LEEDS Summer: Gipton & Harehills 2023-07-08   \n",
       "828          265        My Leeds Event Day 1 (Live Activation) 2023-07-08   \n",
       "\n",
       "     audience_size  \n",
       "265            0.0  \n",
       "266            0.0  \n",
       "268            0.0  \n",
       "280            0.0  \n",
       "289            0.0  \n",
       "300            0.0  \n",
       "303            0.0  \n",
       "315            0.0  \n",
       "323            0.0  \n",
       "334            0.0  \n",
       "336            0.0  \n",
       "768            0.0  \n",
       "770            0.0  \n",
       "778            0.0  \n",
       "810            0.0  \n",
       "827            0.0  \n",
       "828            0.0  "
      ]
     },
     "execution_count": 6,
     "metadata": {},
     "output_type": "execute_result"
    }
   ],
   "source": [
    "data[data.audience_size == 0][[\n",
    "    'airtable_id', 'event_name', 'start_date', 'audience_size'\n",
    "]]"
   ]
  },
  {
   "cell_type": "code",
   "execution_count": 7,
   "id": "c1e85d99",
   "metadata": {
    "execution": {
     "iopub.execute_input": "2023-07-18T23:38:22.017258Z",
     "iopub.status.busy": "2023-07-18T23:38:22.016656Z",
     "iopub.status.idle": "2023-07-18T23:38:22.529071Z",
     "shell.execute_reply": "2023-07-18T23:38:22.528360Z"
    },
    "papermill": {
     "duration": 0.517841,
     "end_time": "2023-07-18T23:38:22.531170",
     "exception": false,
     "start_time": "2023-07-18T23:38:22.013329",
     "status": "completed"
    },
    "tags": []
   },
   "outputs": [
    {
     "data": {
      "text/plain": [
       "event_type\n",
       "['Public Event - Digital Experience']     1\n",
       "['Public Event - Installation']           1\n",
       "['Public Event - Performance']           19\n",
       "['Public Event - Talk / Tour']           11\n",
       "Name: event_name, dtype: int64"
      ]
     },
     "execution_count": 7,
     "metadata": {},
     "output_type": "execute_result"
    },
    {
     "data": {
      "image/png": "[encoded data removed]",
      "text/plain": [
       "<Figure size 640x480 with 1 Axes>"
      ]
     },
     "metadata": {},
     "output_type": "display_data"
    }
   ],
   "source": [
    "plot = data.groupby('event_type').event_name.count().plot.barh()\n",
    "plot.xaxis.label.set_text('Number of events')\n",
    "plot.yaxis.label.set_text('Event Type Labels')\n",
    "data.groupby('event_type').event_name.count()"
   ]
  }
 ],
 "metadata": {
  "kernelspec": {
   "display_name": "leeds-2023-YZF5GfJv",
   "language": "python",
   "name": "python3"
  },
  "language_info": {
   "codemirror_mode": {
    "name": "ipython",
    "version": 3
   },
   "file_extension": ".py",
   "mimetype": "text/x-python",
   "name": "python",
   "nbconvert_exporter": "python",
   "pygments_lexer": "ipython3",
   "version": "3.10.6"
  },
  "papermill": {
   "default_parameters": {},
   "duration": 12.180079,
   "end_time": "2023-07-18T23:38:22.953948",
   "environment_variables": {},
   "exception": null,
   "input_path": "my-leeds-2023.ipynb",
   "output_path": "../../../../working/output/my-leeds-2023.ipynb",
   "parameters": {},
   "start_time": "2023-07-18T23:38:10.773869",
   "version": "2.4.0"
  }
 },
 "nbformat": 4,
 "nbformat_minor": 5
}