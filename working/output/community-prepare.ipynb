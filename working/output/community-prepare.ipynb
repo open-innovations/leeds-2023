{
 "cells": [
  {
   "cell_type": "code",
   "execution_count": 1,
   "id": "ad9eacf0",
   "metadata": {
    "execution": {
     "iopub.execute_input": "2024-01-23T11:55:15.696654Z",
     "iopub.status.busy": "2024-01-23T11:55:15.696393Z",
     "iopub.status.idle": "2024-01-23T11:55:15.884836Z",
     "shell.execute_reply": "2024-01-23T11:55:15.884376Z"
    },
    "papermill": {
     "duration": 0.19197,
     "end_time": "2024-01-23T11:55:15.885916",
     "exception": false,
     "start_time": "2024-01-23T11:55:15.693946",
     "status": "completed"
    },
    "tags": []
   },
   "outputs": [],
   "source": [
    "import os, sys\n",
    "TOP_DIR = os.path.realpath('../../..')\n",
    "if TOP_DIR not in sys.path: sys.path.append(TOP_DIR)\n",
    "import pandas as pd"
   ]
  },
  {
   "cell_type": "code",
   "execution_count": 2,
   "id": "5f904e6d",
   "metadata": {
    "execution": {
     "iopub.execute_input": "2024-01-23T11:55:15.888703Z",
     "iopub.status.busy": "2024-01-23T11:55:15.888447Z",
     "iopub.status.idle": "2024-01-23T11:55:15.890996Z",
     "shell.execute_reply": "2024-01-23T11:55:15.890699Z"
    },
    "papermill": {
     "duration": 0.004677,
     "end_time": "2024-01-23T11:55:15.891684",
     "exception": false,
     "start_time": "2024-01-23T11:55:15.887007",
     "status": "completed"
    },
    "tags": []
   },
   "outputs": [],
   "source": [
    "from lib.util.convert import named_cumulative_sum"
   ]
  },
  {
   "cell_type": "code",
   "execution_count": 3,
   "id": "0e30934e",
   "metadata": {
    "execution": {
     "iopub.execute_input": "2024-01-23T11:55:15.894068Z",
     "iopub.status.busy": "2024-01-23T11:55:15.893904Z",
     "iopub.status.idle": "2024-01-23T11:55:15.899690Z",
     "shell.execute_reply": "2024-01-23T11:55:15.899331Z"
    },
    "papermill": {
     "duration": 0.007879,
     "end_time": "2024-01-23T11:55:15.900457",
     "exception": false,
     "start_time": "2024-01-23T11:55:15.892578",
     "status": "completed"
    },
    "tags": []
   },
   "outputs": [],
   "source": [
    "data = pd.read_csv('../../../data/metrics/community/events.csv', parse_dates=['start_date'])\n",
    "data.ward_code = data.ward_code.fillna('UNKNOWN')"
   ]
  },
  {
   "cell_type": "markdown",
   "id": "2b6583be",
   "metadata": {
    "papermill": {
     "duration": 0.000848,
     "end_time": "2024-01-23T11:55:15.902243",
     "exception": false,
     "start_time": "2024-01-23T11:55:15.901395",
     "status": "completed"
    },
    "tags": []
   },
   "source": [
    "Set up output directories"
   ]
  },
  {
   "cell_type": "code",
   "execution_count": 4,
   "id": "047ce614",
   "metadata": {
    "execution": {
     "iopub.execute_input": "2024-01-23T11:55:15.904515Z",
     "iopub.status.busy": "2024-01-23T11:55:15.904314Z",
     "iopub.status.idle": "2024-01-23T11:55:15.906367Z",
     "shell.execute_reply": "2024-01-23T11:55:15.906078Z"
    },
    "papermill": {
     "duration": 0.003963,
     "end_time": "2024-01-23T11:55:15.907006",
     "exception": false,
     "start_time": "2024-01-23T11:55:15.903043",
     "status": "completed"
    },
    "tags": []
   },
   "outputs": [],
   "source": [
    "OUT_DIR = '../../../docs/metrics/community/_data'\n",
    "os.makedirs(OUT_DIR, exist_ok=True)"
   ]
  },
  {
   "cell_type": "code",
   "execution_count": 5,
   "id": "65fbf92b",
   "metadata": {
    "execution": {
     "iopub.execute_input": "2024-01-23T11:55:15.909257Z",
     "iopub.status.busy": "2024-01-23T11:55:15.909131Z",
     "iopub.status.idle": "2024-01-23T11:55:15.913348Z",
     "shell.execute_reply": "2024-01-23T11:55:15.912983Z"
    },
    "papermill": {
     "duration": 0.00619,
     "end_time": "2024-01-23T11:55:15.914085",
     "exception": false,
     "start_time": "2024-01-23T11:55:15.907895",
     "status": "completed"
    },
    "tags": []
   },
   "outputs": [],
   "source": [
    "pd.Series({\n",
    "  'events': data.event_name.count(),\n",
    "  'audience': data.audience.sum().astype(int),\n",
    "  'errors': {\n",
    "    'missing_wards': (data.ward_code == 'UNKNOWN').value_counts()[True],\n",
    "    'missing_audience': data.audience.isna().value_counts()[True],\n",
    "    'zero_audience':  (data.audience < 1).value_counts()[True],  \n",
    "  }\n",
    "}).to_json(os.path.join(OUT_DIR, 'headlines.json'), indent=2)"
   ]
  },
  {
   "cell_type": "code",
   "execution_count": 6,
   "id": "38cc0be0",
   "metadata": {
    "execution": {
     "iopub.execute_input": "2024-01-23T11:55:15.916758Z",
     "iopub.status.busy": "2024-01-23T11:55:15.916610Z",
     "iopub.status.idle": "2024-01-23T11:55:15.921002Z",
     "shell.execute_reply": "2024-01-23T11:55:15.920684Z"
    },
    "papermill": {
     "duration": 0.006661,
     "end_time": "2024-01-23T11:55:15.921708",
     "exception": false,
     "start_time": "2024-01-23T11:55:15.915047",
     "status": "completed"
    },
    "tags": []
   },
   "outputs": [],
   "source": [
    "by_ward = pd.DataFrame({\n",
    "  'events': data.groupby('ward_code').event_name.count().fillna(0).astype('int'),\n",
    "  'audience': data.groupby('ward_code').audience.sum().fillna(0).astype('int'),\n",
    "}).to_csv(os.path.join(OUT_DIR, 'by_ward.csv'))"
   ]
  },
  {
   "cell_type": "code",
   "execution_count": 7,
   "id": "b89dc53d",
   "metadata": {
    "execution": {
     "iopub.execute_input": "2024-01-23T11:55:15.924322Z",
     "iopub.status.busy": "2024-01-23T11:55:15.924153Z",
     "iopub.status.idle": "2024-01-23T11:55:15.930685Z",
     "shell.execute_reply": "2024-01-23T11:55:15.930357Z"
    },
    "papermill": {
     "duration": 0.008804,
     "end_time": "2024-01-23T11:55:15.931466",
     "exception": false,
     "start_time": "2024-01-23T11:55:15.922662",
     "status": "completed"
    },
    "tags": []
   },
   "outputs": [],
   "source": [
    "by_date = pd.DataFrame({\n",
    "    'events': data.groupby('start_date').event_name.count(),\n",
    "    'audience': data.groupby('start_date').audience.sum(),\n",
    "}).resample('M').sum()\n",
    "\n",
    "pd.concat([\n",
    "    by_date,\n",
    "    by_date.pipe(named_cumulative_sum)\n",
    "], axis=1).astype('int').to_csv(os.path.join(OUT_DIR, 'by_date.csv'))"
   ]
  }
 ],
 "metadata": {
  "kernelspec": {
   "display_name": "leeds-2023-YZF5GfJv",
   "language": "python",
   "name": "python3"
  },
  "language_info": {
   "codemirror_mode": {
    "name": "ipython",
    "version": 3
   },
   "file_extension": ".py",
   "mimetype": "text/x-python",
   "name": "python",
   "nbconvert_exporter": "python",
   "pygments_lexer": "ipython3",
   "version": "3.10.12"
  },
  "papermill": {
   "default_parameters": {},
   "duration": 1.190451,
   "end_time": "2024-01-23T11:55:16.146982",
   "environment_variables": {},
   "exception": null,
   "input_path": "prepare.ipynb",
   "output_path": "../../../working/output/community-prepare.ipynb",
   "parameters": {},
   "start_time": "2024-01-23T11:55:14.956531",
   "version": "2.4.0"
  }
 },
 "nbformat": 4,
 "nbformat_minor": 5
}