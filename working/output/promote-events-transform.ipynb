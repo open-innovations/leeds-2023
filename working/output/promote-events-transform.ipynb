{
 "cells": [
  {
   "cell_type": "code",
   "execution_count": 1,
   "id": "98c79170",
   "metadata": {
    "execution": {
     "iopub.execute_input": "2023-07-17T23:41:33.434803Z",
     "iopub.status.busy": "2023-07-17T23:41:33.434442Z",
     "iopub.status.idle": "2023-07-17T23:41:33.773146Z",
     "shell.execute_reply": "2023-07-17T23:41:33.772205Z"
    },
    "papermill": {
     "duration": 0.344575,
     "end_time": "2023-07-17T23:41:33.775491",
     "exception": false,
     "start_time": "2023-07-17T23:41:33.430916",
     "status": "completed"
    },
    "tags": []
   },
   "outputs": [],
   "source": [
    "import os\n",
    "import pandas as pd"
   ]
  },
  {
   "cell_type": "code",
   "execution_count": 2,
   "id": "a1e31b7e",
   "metadata": {
    "execution": {
     "iopub.execute_input": "2023-07-17T23:41:33.781481Z",
     "iopub.status.busy": "2023-07-17T23:41:33.781108Z",
     "iopub.status.idle": "2023-07-17T23:41:33.786591Z",
     "shell.execute_reply": "2023-07-17T23:41:33.785641Z"
    },
    "papermill": {
     "duration": 0.01122,
     "end_time": "2023-07-17T23:41:33.788793",
     "exception": false,
     "start_time": "2023-07-17T23:41:33.777573",
     "status": "completed"
    },
    "tags": []
   },
   "outputs": [],
   "source": [
    "EVENTS_RAW_DATA = '../../../working/metrics/promote-events/events.csv'\n",
    "DATA_DIR = '../../../data/metrics/events/promote-events/'\n",
    "EVENTS_DATA = os.path.join(DATA_DIR, 'events.csv')"
   ]
  },
  {
   "cell_type": "code",
   "execution_count": 3,
   "id": "fbd01a85",
   "metadata": {
    "execution": {
     "iopub.execute_input": "2023-07-17T23:41:33.793245Z",
     "iopub.status.busy": "2023-07-17T23:41:33.792945Z",
     "iopub.status.idle": "2023-07-17T23:41:33.797127Z",
     "shell.execute_reply": "2023-07-17T23:41:33.796231Z"
    },
    "papermill": {
     "duration": 0.009035,
     "end_time": "2023-07-17T23:41:33.799433",
     "exception": false,
     "start_time": "2023-07-17T23:41:33.790398",
     "status": "completed"
    },
    "tags": []
   },
   "outputs": [],
   "source": [
    "columns = {\n",
    "    'id': 'id',\n",
    "    'name': 'name',\n",
    "    'locationName': 'location',\n",
    "    'cardPrice': 'card_price',\n",
    "    'timeslots': 'time',\n",
    "    'displayOnWebsite': 'display',\n",
    "    'Stage': 'stage',\n",
    "}"
   ]
  },
  {
   "cell_type": "code",
   "execution_count": 4,
   "id": "c147865d",
   "metadata": {
    "execution": {
     "iopub.execute_input": "2023-07-17T23:41:33.803722Z",
     "iopub.status.busy": "2023-07-17T23:41:33.803440Z",
     "iopub.status.idle": "2023-07-17T23:41:33.818486Z",
     "shell.execute_reply": "2023-07-17T23:41:33.817547Z"
    },
    "papermill": {
     "duration": 0.022487,
     "end_time": "2023-07-17T23:41:33.823540",
     "exception": false,
     "start_time": "2023-07-17T23:41:33.801053",
     "status": "completed"
    },
    "tags": []
   },
   "outputs": [],
   "source": [
    "data = pd.read_csv(EVENTS_RAW_DATA)[columns.keys()].rename(columns=columns)\n",
    "data.time = pd.to_datetime(data.time, errors='coerce')"
   ]
  },
  {
   "cell_type": "code",
   "execution_count": 5,
   "id": "e521509c",
   "metadata": {
    "execution": {
     "iopub.execute_input": "2023-07-17T23:41:33.828408Z",
     "iopub.status.busy": "2023-07-17T23:41:33.828060Z",
     "iopub.status.idle": "2023-07-17T23:41:33.838150Z",
     "shell.execute_reply": "2023-07-17T23:41:33.837238Z"
    },
    "papermill": {
     "duration": 0.015085,
     "end_time": "2023-07-17T23:41:33.840345",
     "exception": false,
     "start_time": "2023-07-17T23:41:33.825260",
     "status": "completed"
    },
    "tags": []
   },
   "outputs": [],
   "source": [
    "data.to_csv(os.path.join(DATA_DIR, 'events.csv'), index=False)"
   ]
  }
 ],
 "metadata": {
  "kernelspec": {
   "display_name": "leeds-2023-YZF5GfJv",
   "language": "python",
   "name": "python3"
  },
  "language_info": {
   "codemirror_mode": {
    "name": "ipython",
    "version": 3
   },
   "file_extension": ".py",
   "mimetype": "text/x-python",
   "name": "python",
   "nbconvert_exporter": "python",
   "pygments_lexer": "ipython3",
   "version": "3.10.6"
  },
  "papermill": {
   "default_parameters": {},
   "duration": 2.351416,
   "end_time": "2023-07-17T23:41:34.161900",
   "environment_variables": {},
   "exception": null,
   "input_path": "transform.ipynb",
   "output_path": "../../../working/output/promote-events-transform.ipynb",
   "parameters": {},
   "start_time": "2023-07-17T23:41:31.810484",
   "version": "2.4.0"
  }
 },
 "nbformat": 4,
 "nbformat_minor": 5
}