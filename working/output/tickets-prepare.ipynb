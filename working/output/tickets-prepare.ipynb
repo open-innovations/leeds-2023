{
 "cells": [
  {
   "cell_type": "code",
   "execution_count": 1,
   "id": "4cf79b7a",
   "metadata": {
    "execution": {
     "iopub.execute_input": "2023-12-23T01:13:30.023722Z",
     "iopub.status.busy": "2023-12-23T01:13:30.023508Z",
     "iopub.status.idle": "2023-12-23T01:13:30.261402Z",
     "shell.execute_reply": "2023-12-23T01:13:30.260719Z"
    },
    "papermill": {
     "duration": 0.243186,
     "end_time": "2023-12-23T01:13:30.263121",
     "exception": false,
     "start_time": "2023-12-23T01:13:30.019935",
     "status": "completed"
    },
    "tags": []
   },
   "outputs": [],
   "source": [
    "from pathlib import Path\n",
    "import pandas as pd"
   ]
  },
  {
   "cell_type": "markdown",
   "id": "c7f2e71a",
   "metadata": {
    "papermill": {
     "duration": 0.002255,
     "end_time": "2023-12-23T01:13:30.267930",
     "exception": false,
     "start_time": "2023-12-23T01:13:30.265675",
     "status": "completed"
    },
    "tags": []
   },
   "source": [
    "Load the orders data which was created in the [transform stage](./tickets.ipynb)."
   ]
  },
  {
   "cell_type": "code",
   "execution_count": 2,
   "id": "5bb0d3ec",
   "metadata": {
    "execution": {
     "iopub.execute_input": "2023-12-23T01:13:30.273485Z",
     "iopub.status.busy": "2023-12-23T01:13:30.273028Z",
     "iopub.status.idle": "2023-12-23T01:13:30.291345Z",
     "shell.execute_reply": "2023-12-23T01:13:30.290808Z"
    },
    "papermill": {
     "duration": 0.022581,
     "end_time": "2023-12-23T01:13:30.292655",
     "exception": false,
     "start_time": "2023-12-23T01:13:30.270074",
     "status": "completed"
    },
    "tags": []
   },
   "outputs": [],
   "source": [
    "def prepare(data: pd.DataFrame) -> pd.DataFrame:\n",
    "    data = data.loc[\n",
    "        (\n",
    "            data.public_event == True\n",
    "        ) & (\n",
    "            ~data.project_name.isin([\n",
    "                'Skills Development',\n",
    "            ])\n",
    "        )\n",
    "    ]\n",
    "    data = data.drop(columns=['public_event'])\n",
    "    return data\n",
    "\n",
    "\n",
    "orders = pd.read_csv(\n",
    "    '../../../../data/metrics/events/tickets/orders.csv',\n",
    "    usecols=[\n",
    "        'created_at',\n",
    "        'project_name',\n",
    "        'public_event',\n",
    "        'number_of_tickets'\n",
    "    ],\n",
    "    parse_dates=['created_at']\n",
    ").pipe(prepare)"
   ]
  },
  {
   "cell_type": "markdown",
   "id": "dc8e353b",
   "metadata": {
    "papermill": {
     "duration": 0.002224,
     "end_time": "2023-12-23T01:13:30.297041",
     "exception": false,
     "start_time": "2023-12-23T01:13:30.294817",
     "status": "completed"
    },
    "tags": []
   },
   "source": [
    "Define functions to count and sum tickets, and to append cumulative versions of those."
   ]
  },
  {
   "cell_type": "code",
   "execution_count": 3,
   "id": "256eaafb",
   "metadata": {
    "execution": {
     "iopub.execute_input": "2023-12-23T01:13:30.302396Z",
     "iopub.status.busy": "2023-12-23T01:13:30.302076Z",
     "iopub.status.idle": "2023-12-23T01:13:30.306116Z",
     "shell.execute_reply": "2023-12-23T01:13:30.305488Z"
    },
    "papermill": {
     "duration": 0.008298,
     "end_time": "2023-12-23T01:13:30.307452",
     "exception": false,
     "start_time": "2023-12-23T01:13:30.299154",
     "status": "completed"
    },
    "tags": []
   },
   "outputs": [],
   "source": [
    "def count_and_sum(series):\n",
    "    return pd.concat([\n",
    "        series.count().to_frame('orders'),\n",
    "        series.sum().to_frame('tickets'),\n",
    "    ], axis=1)\n",
    "\n",
    "\n",
    "def cumulate(df: pd.DataFrame) -> pd.DataFrame:\n",
    "    return pd.concat([\n",
    "        df,\n",
    "        df.cumsum().rename(columns=lambda x: f'cumulative_{x}')\n",
    "    ], axis=1)"
   ]
  },
  {
   "cell_type": "markdown",
   "id": "58942531",
   "metadata": {
    "papermill": {
     "duration": 0.002183,
     "end_time": "2023-12-23T01:13:30.311793",
     "exception": false,
     "start_time": "2023-12-23T01:13:30.309610",
     "status": "completed"
    },
    "tags": []
   },
   "source": [
    "Create output directory"
   ]
  },
  {
   "cell_type": "code",
   "execution_count": 4,
   "id": "61e6f0b3",
   "metadata": {
    "execution": {
     "iopub.execute_input": "2023-12-23T01:13:30.317201Z",
     "iopub.status.busy": "2023-12-23T01:13:30.316787Z",
     "iopub.status.idle": "2023-12-23T01:13:30.319946Z",
     "shell.execute_reply": "2023-12-23T01:13:30.319325Z"
    },
    "papermill": {
     "duration": 0.007259,
     "end_time": "2023-12-23T01:13:30.321204",
     "exception": false,
     "start_time": "2023-12-23T01:13:30.313945",
     "status": "completed"
    },
    "tags": []
   },
   "outputs": [],
   "source": [
    "OUTPUT_DIR = Path('../../../../docs/metrics/tickets/_data/')\n",
    "OUTPUT_DIR.mkdir(parents=True, exist_ok=True)"
   ]
  },
  {
   "cell_type": "markdown",
   "id": "110d63b1",
   "metadata": {
    "papermill": {
     "duration": 0.002148,
     "end_time": "2023-12-23T01:13:30.326380",
     "exception": false,
     "start_time": "2023-12-23T01:13:30.324232",
     "status": "completed"
    },
    "tags": []
   },
   "source": [
    "Count / sum the orders and tickets by project code and save to a JSON file"
   ]
  },
  {
   "cell_type": "code",
   "execution_count": 5,
   "id": "3491e997",
   "metadata": {
    "execution": {
     "iopub.execute_input": "2023-12-23T01:13:30.331686Z",
     "iopub.status.busy": "2023-12-23T01:13:30.331477Z",
     "iopub.status.idle": "2023-12-23T01:13:30.338099Z",
     "shell.execute_reply": "2023-12-23T01:13:30.337497Z"
    },
    "papermill": {
     "duration": 0.011034,
     "end_time": "2023-12-23T01:13:30.339623",
     "exception": false,
     "start_time": "2023-12-23T01:13:30.328589",
     "status": "completed"
    },
    "tags": []
   },
   "outputs": [],
   "source": [
    "by_project = orders.groupby('project_name').number_of_tickets.pipe(count_and_sum)\n",
    "by_project.loc['total']= by_project.sum()\n",
    "by_project.T.to_json(\n",
    "  OUTPUT_DIR.joinpath('headlines.json'),\n",
    "  indent=2\n",
    ")"
   ]
  },
  {
   "cell_type": "markdown",
   "id": "adeba82f",
   "metadata": {
    "papermill": {
     "duration": 0.002258,
     "end_time": "2023-12-23T01:13:30.344087",
     "exception": false,
     "start_time": "2023-12-23T01:13:30.341829",
     "status": "completed"
    },
    "tags": []
   },
   "source": [
    "Add `day` column"
   ]
  },
  {
   "cell_type": "code",
   "execution_count": 6,
   "id": "2d7da3b0",
   "metadata": {
    "execution": {
     "iopub.execute_input": "2023-12-23T01:13:30.349453Z",
     "iopub.status.busy": "2023-12-23T01:13:30.349115Z",
     "iopub.status.idle": "2023-12-23T01:13:30.353030Z",
     "shell.execute_reply": "2023-12-23T01:13:30.352407Z"
    },
    "papermill": {
     "duration": 0.008084,
     "end_time": "2023-12-23T01:13:30.354390",
     "exception": false,
     "start_time": "2023-12-23T01:13:30.346306",
     "status": "completed"
    },
    "tags": []
   },
   "outputs": [],
   "source": [
    "orders['day'] = orders.created_at.dt.floor('D')"
   ]
  },
  {
   "cell_type": "code",
   "execution_count": 7,
   "id": "222d785a",
   "metadata": {
    "execution": {
     "iopub.execute_input": "2023-12-23T01:13:30.360139Z",
     "iopub.status.busy": "2023-12-23T01:13:30.359656Z",
     "iopub.status.idle": "2023-12-23T01:13:30.369153Z",
     "shell.execute_reply": "2023-12-23T01:13:30.368550Z"
    },
    "papermill": {
     "duration": 0.013813,
     "end_time": "2023-12-23T01:13:30.370496",
     "exception": false,
     "start_time": "2023-12-23T01:13:30.356683",
     "status": "completed"
    },
    "tags": []
   },
   "outputs": [
    {
     "data": {
      "text/html": [
       "<div>\n",
       "<style scoped>\n",
       "    .dataframe tbody tr th:only-of-type {\n",
       "        vertical-align: middle;\n",
       "    }\n",
       "\n",
       "    .dataframe tbody tr th {\n",
       "        vertical-align: top;\n",
       "    }\n",
       "\n",
       "    .dataframe thead th {\n",
       "        text-align: right;\n",
       "    }\n",
       "</style>\n",
       "<table border=\"1\" class=\"dataframe\">\n",
       "  <thead>\n",
       "    <tr style=\"text-align: right;\">\n",
       "      <th></th>\n",
       "      <th>created_at</th>\n",
       "      <th>day</th>\n",
       "    </tr>\n",
       "  </thead>\n",
       "  <tbody>\n",
       "    <tr>\n",
       "      <th>176</th>\n",
       "      <td>2023-03-30 16:58:03</td>\n",
       "      <td>2023-03-30</td>\n",
       "    </tr>\n",
       "    <tr>\n",
       "      <th>177</th>\n",
       "      <td>2023-03-30 18:44:08</td>\n",
       "      <td>2023-03-30</td>\n",
       "    </tr>\n",
       "    <tr>\n",
       "      <th>180</th>\n",
       "      <td>2023-03-30 20:32:43</td>\n",
       "      <td>2023-03-30</td>\n",
       "    </tr>\n",
       "    <tr>\n",
       "      <th>181</th>\n",
       "      <td>2023-03-30 21:27:59</td>\n",
       "      <td>2023-03-30</td>\n",
       "    </tr>\n",
       "    <tr>\n",
       "      <th>183</th>\n",
       "      <td>2023-03-30 22:56:31</td>\n",
       "      <td>2023-03-30</td>\n",
       "    </tr>\n",
       "  </tbody>\n",
       "</table>\n",
       "</div>"
      ],
      "text/plain": [
       "             created_at        day\n",
       "176 2023-03-30 16:58:03 2023-03-30\n",
       "177 2023-03-30 18:44:08 2023-03-30\n",
       "180 2023-03-30 20:32:43 2023-03-30\n",
       "181 2023-03-30 21:27:59 2023-03-30\n",
       "183 2023-03-30 22:56:31 2023-03-30"
      ]
     },
     "execution_count": 7,
     "metadata": {},
     "output_type": "execute_result"
    }
   ],
   "source": [
    "orders.loc[:, ['created_at', 'day']].head()"
   ]
  },
  {
   "cell_type": "markdown",
   "id": "e1dec9f2",
   "metadata": {
    "papermill": {
     "duration": 0.002581,
     "end_time": "2023-12-23T01:13:30.375752",
     "exception": false,
     "start_time": "2023-12-23T01:13:30.373171",
     "status": "completed"
    },
    "tags": []
   },
   "source": [
    "Save table cumulative weekly per project"
   ]
  },
  {
   "cell_type": "code",
   "execution_count": 8,
   "id": "98dbd197",
   "metadata": {
    "execution": {
     "iopub.execute_input": "2023-12-23T01:13:30.381908Z",
     "iopub.status.busy": "2023-12-23T01:13:30.381491Z",
     "iopub.status.idle": "2023-12-23T01:13:30.392975Z",
     "shell.execute_reply": "2023-12-23T01:13:30.392315Z"
    },
    "papermill": {
     "duration": 0.016222,
     "end_time": "2023-12-23T01:13:30.394377",
     "exception": false,
     "start_time": "2023-12-23T01:13:30.378155",
     "status": "completed"
    },
    "tags": []
   },
   "outputs": [],
   "source": [
    "orders.groupby(\n",
    "  ['day', 'project_name']\n",
    ").number_of_tickets.pipe(\n",
    "  count_and_sum\n",
    ").tickets.unstack().fillna(0).resample('W-FRI').sum().cumsum().rename_axis('week').to_csv(\n",
    "  OUTPUT_DIR.joinpath('by_project_cumulative_weekly.csv')\n",
    ")"
   ]
  },
  {
   "cell_type": "markdown",
   "id": "fd9ef825",
   "metadata": {
    "papermill": {
     "duration": 0.002517,
     "end_time": "2023-12-23T01:13:30.399601",
     "exception": false,
     "start_time": "2023-12-23T01:13:30.397084",
     "status": "completed"
    },
    "tags": []
   },
   "source": [
    "Save cumulative monthly sales"
   ]
  },
  {
   "cell_type": "code",
   "execution_count": 9,
   "id": "5a308f82",
   "metadata": {
    "execution": {
     "iopub.execute_input": "2023-12-23T01:13:30.405909Z",
     "iopub.status.busy": "2023-12-23T01:13:30.405383Z",
     "iopub.status.idle": "2023-12-23T01:13:30.412984Z",
     "shell.execute_reply": "2023-12-23T01:13:30.412356Z"
    },
    "papermill": {
     "duration": 0.012339,
     "end_time": "2023-12-23T01:13:30.414356",
     "exception": false,
     "start_time": "2023-12-23T01:13:30.402017",
     "status": "completed"
    },
    "tags": []
   },
   "outputs": [],
   "source": [
    "orders.groupby(['day']).number_of_tickets.pipe(count_and_sum).resample('MS').sum().pipe(cumulate).rename_axis('month').to_csv(\n",
    "  OUTPUT_DIR.joinpath('monthly_cumulative.csv')\n",
    ")"
   ]
  },
  {
   "cell_type": "code",
   "execution_count": null,
   "id": "62329e0c",
   "metadata": {
    "papermill": {
     "duration": 0.002547,
     "end_time": "2023-12-23T01:13:30.419507",
     "exception": false,
     "start_time": "2023-12-23T01:13:30.416960",
     "status": "completed"
    },
    "tags": []
   },
   "outputs": [],
   "source": []
  }
 ],
 "metadata": {
  "kernelspec": {
   "display_name": "leeds-2023-YZF5GfJv",
   "language": "python",
   "name": "python3"
  },
  "language_info": {
   "codemirror_mode": {
    "name": "ipython",
    "version": 3
   },
   "file_extension": ".py",
   "mimetype": "text/x-python",
   "name": "python",
   "nbconvert_exporter": "python",
   "pygments_lexer": "ipython3",
   "version": "3.10.13"
  },
  "papermill": {
   "default_parameters": {},
   "duration": 1.847303,
   "end_time": "2023-12-23T01:13:30.637415",
   "environment_variables": {},
   "exception": null,
   "input_path": "prepare.ipynb",
   "output_path": "../../../../working/output/tickets-prepare.ipynb",
   "parameters": {},
   "start_time": "2023-12-23T01:13:28.790112",
   "version": "2.4.0"
  }
 },
 "nbformat": 4,
 "nbformat_minor": 5
}