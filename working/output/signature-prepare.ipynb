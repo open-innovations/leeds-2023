{
 "cells": [
  {
   "cell_type": "code",
   "execution_count": 1,
   "id": "1a474adb",
   "metadata": {
    "execution": {
     "iopub.execute_input": "2023-10-24T23:40:49.847162Z",
     "iopub.status.busy": "2023-10-24T23:40:49.846528Z",
     "iopub.status.idle": "2023-10-24T23:41:02.874794Z",
     "shell.execute_reply": "2023-10-24T23:41:02.873872Z"
    },
    "papermill": {
     "duration": 13.036111,
     "end_time": "2023-10-24T23:41:02.877410",
     "exception": false,
     "start_time": "2023-10-24T23:40:49.841299",
     "status": "completed"
    },
    "tags": []
   },
   "outputs": [],
   "source": [
    "import os\n",
    "import pandas as pd\n",
    "from events import load_event_data, get_first_ward, normalise_ward"
   ]
  },
  {
   "cell_type": "code",
   "execution_count": 2,
   "id": "52021d0f",
   "metadata": {
    "execution": {
     "iopub.execute_input": "2023-10-24T23:41:02.885109Z",
     "iopub.status.busy": "2023-10-24T23:41:02.884854Z",
     "iopub.status.idle": "2023-10-24T23:41:02.889766Z",
     "shell.execute_reply": "2023-10-24T23:41:02.888956Z"
    },
    "papermill": {
     "duration": 0.01131,
     "end_time": "2023-10-24T23:41:02.891980",
     "exception": false,
     "start_time": "2023-10-24T23:41:02.880670",
     "status": "completed"
    },
    "tags": []
   },
   "outputs": [],
   "source": [
    "latest_date = pd.Timestamp.today().ceil('D')"
   ]
  },
  {
   "cell_type": "code",
   "execution_count": 3,
   "id": "8f8d7dce",
   "metadata": {
    "execution": {
     "iopub.execute_input": "2023-10-24T23:41:02.899152Z",
     "iopub.status.busy": "2023-10-24T23:41:02.898381Z",
     "iopub.status.idle": "2023-10-24T23:41:02.918405Z",
     "shell.execute_reply": "2023-10-24T23:41:02.917386Z"
    },
    "papermill": {
     "duration": 0.025937,
     "end_time": "2023-10-24T23:41:02.920273",
     "exception": false,
     "start_time": "2023-10-24T23:41:02.894336",
     "status": "completed"
    },
    "tags": []
   },
   "outputs": [],
   "source": [
    "tickets = pd.read_csv('../../../../data/metrics/events/tickets/orders.csv', parse_dates=['created_at', 'event_date'])\n",
    "tickets = tickets[tickets.event_date <= latest_date]"
   ]
  },
  {
   "cell_type": "code",
   "execution_count": 4,
   "id": "a9ef7426",
   "metadata": {
    "execution": {
     "iopub.execute_input": "2023-10-24T23:41:02.927283Z",
     "iopub.status.busy": "2023-10-24T23:41:02.926857Z",
     "iopub.status.idle": "2023-10-24T23:41:02.986720Z",
     "shell.execute_reply": "2023-10-24T23:41:02.985673Z"
    },
    "papermill": {
     "duration": 0.065765,
     "end_time": "2023-10-24T23:41:02.988957",
     "exception": false,
     "start_time": "2023-10-24T23:41:02.923192",
     "status": "completed"
    },
    "tags": []
   },
   "outputs": [],
   "source": [
    "events = load_event_data()\n",
    "\n",
    "events = pd.concat([\n",
    "  events,\n",
    "  events.pipe(get_first_ward).pipe(normalise_ward).fillna('UNKNOWN'),\n",
    "  pd.Series(\n",
    "      events.actual_audience_size_number_of_participants_in_person + events.actual_audience_size_number_of_participants_online,\n",
    "      name='attendances'\n",
    "  )\n",
    "], axis=1).rename(columns={\n",
    "    'start_date': 'date'\n",
    "}).loc[:, ['ward_code', 'date', 'event_unique_identifier', 'attendances']]"
   ]
  },
  {
   "cell_type": "code",
   "execution_count": 5,
   "id": "c9fa98e6",
   "metadata": {
    "execution": {
     "iopub.execute_input": "2023-10-24T23:41:02.996249Z",
     "iopub.status.busy": "2023-10-24T23:41:02.995991Z",
     "iopub.status.idle": "2023-10-24T23:41:03.000155Z",
     "shell.execute_reply": "2023-10-24T23:41:02.999338Z"
    },
    "papermill": {
     "duration": 0.010354,
     "end_time": "2023-10-24T23:41:03.002275",
     "exception": false,
     "start_time": "2023-10-24T23:41:02.991921",
     "status": "completed"
    },
    "tags": []
   },
   "outputs": [],
   "source": [
    "OUTPUT_DIR='../../../../docs/metrics/events/signature/_data/'\n",
    "os.makedirs(OUTPUT_DIR, exist_ok=True)"
   ]
  },
  {
   "cell_type": "markdown",
   "id": "12e21c30",
   "metadata": {
    "papermill": {
     "duration": 0.002901,
     "end_time": "2023-10-24T23:41:03.008011",
     "exception": false,
     "start_time": "2023-10-24T23:41:03.005110",
     "status": "completed"
    },
    "tags": []
   },
   "source": [
    "Events CSVs"
   ]
  },
  {
   "cell_type": "code",
   "execution_count": 6,
   "id": "e3c322e7",
   "metadata": {
    "execution": {
     "iopub.execute_input": "2023-10-24T23:41:03.014615Z",
     "iopub.status.busy": "2023-10-24T23:41:03.014339Z",
     "iopub.status.idle": "2023-10-24T23:41:03.024614Z",
     "shell.execute_reply": "2023-10-24T23:41:03.023659Z"
    },
    "papermill": {
     "duration": 0.015422,
     "end_time": "2023-10-24T23:41:03.026323",
     "exception": false,
     "start_time": "2023-10-24T23:41:03.010901",
     "status": "completed"
    },
    "tags": []
   },
   "outputs": [],
   "source": [
    "pd.DataFrame({\n",
    "  'events': events.groupby('ward_code').event_unique_identifier.count(),\n",
    "  'attendances': events.groupby('ward_code').attendances.sum().astype(int),\n",
    "}).to_csv(os.path.join(OUTPUT_DIR, 'events_by_ward.csv'))\n"
   ]
  },
  {
   "cell_type": "code",
   "execution_count": 7,
   "id": "4ae014a7",
   "metadata": {
    "execution": {
     "iopub.execute_input": "2023-10-24T23:41:03.033614Z",
     "iopub.status.busy": "2023-10-24T23:41:03.033131Z",
     "iopub.status.idle": "2023-10-24T23:41:03.044310Z",
     "shell.execute_reply": "2023-10-24T23:41:03.043565Z"
    },
    "papermill": {
     "duration": 0.017115,
     "end_time": "2023-10-24T23:41:03.046285",
     "exception": false,
     "start_time": "2023-10-24T23:41:03.029170",
     "status": "completed"
    },
    "tags": []
   },
   "outputs": [],
   "source": [
    "pd.DataFrame({\n",
    "  'events': events.groupby('date').event_unique_identifier.count(),\n",
    "  'attendances': events.groupby('date').attendances.sum().astype(int),\n",
    "}).resample('M').sum().astype(int).to_csv(os.path.join(OUTPUT_DIR, 'events_by_date.csv'))"
   ]
  },
  {
   "cell_type": "markdown",
   "id": "7c8bbc71",
   "metadata": {
    "papermill": {
     "duration": 0.002854,
     "end_time": "2023-10-24T23:41:03.053413",
     "exception": false,
     "start_time": "2023-10-24T23:41:03.050559",
     "status": "completed"
    },
    "tags": []
   },
   "source": [
    "Tickets CSV"
   ]
  },
  {
   "cell_type": "code",
   "execution_count": 8,
   "id": "9bad59f4",
   "metadata": {
    "execution": {
     "iopub.execute_input": "2023-10-24T23:41:03.062268Z",
     "iopub.status.busy": "2023-10-24T23:41:03.061996Z",
     "iopub.status.idle": "2023-10-24T23:41:03.071876Z",
     "shell.execute_reply": "2023-10-24T23:41:03.070950Z"
    },
    "papermill": {
     "duration": 0.017952,
     "end_time": "2023-10-24T23:41:03.074035",
     "exception": false,
     "start_time": "2023-10-24T23:41:03.056083",
     "status": "completed"
    },
    "tags": []
   },
   "outputs": [],
   "source": [
    "pd.DataFrame({\n",
    "  'orders': tickets.groupby('ward_code').number_of_tickets.count(),\n",
    "  'tickets': tickets.groupby('ward_code').number_of_tickets.sum().astype(int),\n",
    "}).to_csv(os.path.join(OUTPUT_DIR, 'tickets_by_ward.csv'))"
   ]
  },
  {
   "cell_type": "code",
   "execution_count": 9,
   "id": "7a662dd1",
   "metadata": {
    "execution": {
     "iopub.execute_input": "2023-10-24T23:41:03.081792Z",
     "iopub.status.busy": "2023-10-24T23:41:03.080722Z",
     "iopub.status.idle": "2023-10-24T23:41:03.090909Z",
     "shell.execute_reply": "2023-10-24T23:41:03.090110Z"
    },
    "papermill": {
     "duration": 0.015905,
     "end_time": "2023-10-24T23:41:03.092834",
     "exception": false,
     "start_time": "2023-10-24T23:41:03.076929",
     "status": "completed"
    },
    "tags": []
   },
   "outputs": [],
   "source": [
    "pd.DataFrame({\n",
    "  'orders': tickets.groupby('event_date').number_of_tickets.count(),\n",
    "  'tickets': tickets.groupby('event_date').number_of_tickets.sum().astype(int),\n",
    "}).resample('M').sum().to_csv(os.path.join(OUTPUT_DIR, 'tickets_by_event_date.csv'))"
   ]
  },
  {
   "cell_type": "code",
   "execution_count": 10,
   "id": "0699a0bd",
   "metadata": {
    "execution": {
     "iopub.execute_input": "2023-10-24T23:41:03.101482Z",
     "iopub.status.busy": "2023-10-24T23:41:03.100736Z",
     "iopub.status.idle": "2023-10-24T23:41:03.107078Z",
     "shell.execute_reply": "2023-10-24T23:41:03.106175Z"
    },
    "papermill": {
     "duration": 0.014152,
     "end_time": "2023-10-24T23:41:03.110328",
     "exception": false,
     "start_time": "2023-10-24T23:41:03.096176",
     "status": "completed"
    },
    "tags": []
   },
   "outputs": [],
   "source": [
    "pd.Series({\n",
    "    'total_events': events.event_unique_identifier.count(),\n",
    "    'total_attendances': events.attendances.count(),\n",
    "    'first_event': events.date.min(),\n",
    "    'latest_event': events.date.max(),\n",
    "    'total_ticket_orders_for_events_to_date': tickets.number_of_tickets.count(),\n",
    "    'total_tickets_sold_for_events_to_date': tickets.number_of_tickets.sum(),\n",
    "}).to_json(os.path.join(OUTPUT_DIR, 'headlines.json'), indent=2)"
   ]
  },
  {
   "cell_type": "code",
   "execution_count": null,
   "id": "562e57c4",
   "metadata": {
    "papermill": {
     "duration": 0.003181,
     "end_time": "2023-10-24T23:41:03.116416",
     "exception": false,
     "start_time": "2023-10-24T23:41:03.113235",
     "status": "completed"
    },
    "tags": []
   },
   "outputs": [],
   "source": []
  }
 ],
 "metadata": {
  "kernelspec": {
   "display_name": "leeds-2023-YZF5GfJv",
   "language": "python",
   "name": "python3"
  },
  "language_info": {
   "codemirror_mode": {
    "name": "ipython",
    "version": 3
   },
   "file_extension": ".py",
   "mimetype": "text/x-python",
   "name": "python",
   "nbconvert_exporter": "python",
   "pygments_lexer": "ipython3",
   "version": "3.10.13"
  },
  "papermill": {
   "default_parameters": {},
   "duration": 15.56988,
   "end_time": "2023-10-24T23:41:03.539088",
   "environment_variables": {},
   "exception": null,
   "input_path": "prepare.ipynb",
   "output_path": "../../../../working/output/signature-prepare.ipynb",
   "parameters": {},
   "start_time": "2023-10-24T23:40:47.969208",
   "version": "2.4.0"
  }
 },
 "nbformat": 4,
 "nbformat_minor": 5
}