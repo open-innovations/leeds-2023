{
 "cells": [
  {
   "cell_type": "code",
   "execution_count": 1,
   "id": "69b98d3a",
   "metadata": {
    "execution": {
     "iopub.execute_input": "2023-07-15T23:39:48.234191Z",
     "iopub.status.busy": "2023-07-15T23:39:48.233684Z",
     "iopub.status.idle": "2023-07-15T23:39:48.461899Z",
     "shell.execute_reply": "2023-07-15T23:39:48.461284Z"
    },
    "papermill": {
     "duration": 0.232878,
     "end_time": "2023-07-15T23:39:48.463936",
     "exception": false,
     "start_time": "2023-07-15T23:39:48.231058",
     "status": "completed"
    },
    "tags": []
   },
   "outputs": [],
   "source": [
    "import os\n",
    "import pandas as pd"
   ]
  },
  {
   "cell_type": "code",
   "execution_count": 2,
   "id": "97c1c086",
   "metadata": {
    "execution": {
     "iopub.execute_input": "2023-07-15T23:39:48.468363Z",
     "iopub.status.busy": "2023-07-15T23:39:48.467755Z",
     "iopub.status.idle": "2023-07-15T23:39:48.471081Z",
     "shell.execute_reply": "2023-07-15T23:39:48.470497Z"
    },
    "papermill": {
     "duration": 0.006988,
     "end_time": "2023-07-15T23:39:48.472453",
     "exception": false,
     "start_time": "2023-07-15T23:39:48.465465",
     "status": "completed"
    },
    "tags": []
   },
   "outputs": [],
   "source": [
    "EVENTS_RAW_DATA = '../../../working/metrics/promote-events/events.csv'\n",
    "DATA_DIR = '../../../data/metrics/events/promote-events/'\n",
    "EVENTS_DATA = os.path.join(DATA_DIR, 'events.csv')"
   ]
  },
  {
   "cell_type": "code",
   "execution_count": 3,
   "id": "dca0ab30",
   "metadata": {
    "execution": {
     "iopub.execute_input": "2023-07-15T23:39:48.475865Z",
     "iopub.status.busy": "2023-07-15T23:39:48.475369Z",
     "iopub.status.idle": "2023-07-15T23:39:48.479526Z",
     "shell.execute_reply": "2023-07-15T23:39:48.479001Z"
    },
    "papermill": {
     "duration": 0.007298,
     "end_time": "2023-07-15T23:39:48.480903",
     "exception": false,
     "start_time": "2023-07-15T23:39:48.473605",
     "status": "completed"
    },
    "tags": []
   },
   "outputs": [],
   "source": [
    "columns = {\n",
    "    'id': 'id',\n",
    "    'name': 'name',\n",
    "    'locationName': 'location',\n",
    "    'cardPrice': 'card_price',\n",
    "    'timeslots': 'time',\n",
    "    'displayOnWebsite': 'display',\n",
    "    'Stage': 'stage',\n",
    "}"
   ]
  },
  {
   "cell_type": "code",
   "execution_count": 4,
   "id": "9632bd63",
   "metadata": {
    "execution": {
     "iopub.execute_input": "2023-07-15T23:39:48.484186Z",
     "iopub.status.busy": "2023-07-15T23:39:48.483868Z",
     "iopub.status.idle": "2023-07-15T23:39:48.495773Z",
     "shell.execute_reply": "2023-07-15T23:39:48.495236Z"
    },
    "papermill": {
     "duration": 0.014999,
     "end_time": "2023-07-15T23:39:48.497097",
     "exception": false,
     "start_time": "2023-07-15T23:39:48.482098",
     "status": "completed"
    },
    "tags": []
   },
   "outputs": [],
   "source": [
    "data = pd.read_csv(EVENTS_RAW_DATA)[columns.keys()].rename(columns=columns)\n",
    "data.time = pd.to_datetime(data.time, errors='coerce')"
   ]
  },
  {
   "cell_type": "code",
   "execution_count": 5,
   "id": "adc5bb7f",
   "metadata": {
    "execution": {
     "iopub.execute_input": "2023-07-15T23:39:48.500581Z",
     "iopub.status.busy": "2023-07-15T23:39:48.500197Z",
     "iopub.status.idle": "2023-07-15T23:39:48.507324Z",
     "shell.execute_reply": "2023-07-15T23:39:48.506801Z"
    },
    "papermill": {
     "duration": 0.010384,
     "end_time": "2023-07-15T23:39:48.508698",
     "exception": false,
     "start_time": "2023-07-15T23:39:48.498314",
     "status": "completed"
    },
    "tags": []
   },
   "outputs": [],
   "source": [
    "data.to_csv(os.path.join(DATA_DIR, 'events.csv'), index=False)"
   ]
  }
 ],
 "metadata": {
  "kernelspec": {
   "display_name": "leeds-2023-YZF5GfJv",
   "language": "python",
   "name": "python3"
  },
  "language_info": {
   "codemirror_mode": {
    "name": "ipython",
    "version": 3
   },
   "file_extension": ".py",
   "mimetype": "text/x-python",
   "name": "python",
   "nbconvert_exporter": "python",
   "pygments_lexer": "ipython3",
   "version": "3.10.6"
  },
  "papermill": {
   "default_parameters": {},
   "duration": 1.809073,
   "end_time": "2023-07-15T23:39:48.725891",
   "environment_variables": {},
   "exception": null,
   "input_path": "transform.ipynb",
   "output_path": "../../../working/output/promote-events-transform.ipynb",
   "parameters": {},
   "start_time": "2023-07-15T23:39:46.916818",
   "version": "2.4.0"
  }
 },
 "nbformat": 4,
 "nbformat_minor": 5
}