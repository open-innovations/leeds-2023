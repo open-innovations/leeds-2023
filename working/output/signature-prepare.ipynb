{
 "cells": [
  {
   "cell_type": "code",
   "execution_count": 1,
   "id": "9ee863cb",
   "metadata": {
    "execution": {
     "iopub.execute_input": "2023-11-15T23:40:55.952643Z",
     "iopub.status.busy": "2023-11-15T23:40:55.952442Z",
     "iopub.status.idle": "2023-11-15T23:41:03.133744Z",
     "shell.execute_reply": "2023-11-15T23:41:03.133080Z"
    },
    "papermill": {
     "duration": 7.1863,
     "end_time": "2023-11-15T23:41:03.135417",
     "exception": false,
     "start_time": "2023-11-15T23:40:55.949117",
     "status": "completed"
    },
    "tags": []
   },
   "outputs": [],
   "source": [
    "import os\n",
    "import pandas as pd\n",
    "from events import load_event_data, get_first_ward, normalise_ward"
   ]
  },
  {
   "cell_type": "code",
   "execution_count": 2,
   "id": "209e0e42",
   "metadata": {
    "execution": {
     "iopub.execute_input": "2023-11-15T23:41:03.140841Z",
     "iopub.status.busy": "2023-11-15T23:41:03.140388Z",
     "iopub.status.idle": "2023-11-15T23:41:03.143994Z",
     "shell.execute_reply": "2023-11-15T23:41:03.143473Z"
    },
    "papermill": {
     "duration": 0.007602,
     "end_time": "2023-11-15T23:41:03.145239",
     "exception": false,
     "start_time": "2023-11-15T23:41:03.137637",
     "status": "completed"
    },
    "tags": []
   },
   "outputs": [],
   "source": [
    "latest_date = pd.Timestamp.today().ceil('D')"
   ]
  },
  {
   "cell_type": "code",
   "execution_count": 3,
   "id": "e1e9a274",
   "metadata": {
    "execution": {
     "iopub.execute_input": "2023-11-15T23:41:03.150106Z",
     "iopub.status.busy": "2023-11-15T23:41:03.149683Z",
     "iopub.status.idle": "2023-11-15T23:41:03.164229Z",
     "shell.execute_reply": "2023-11-15T23:41:03.163722Z"
    },
    "papermill": {
     "duration": 0.018459,
     "end_time": "2023-11-15T23:41:03.165560",
     "exception": false,
     "start_time": "2023-11-15T23:41:03.147101",
     "status": "completed"
    },
    "tags": []
   },
   "outputs": [],
   "source": [
    "tickets = pd.read_csv('../../../../data/metrics/events/tickets/orders.csv', parse_dates=['created_at', 'event_date'])\n",
    "tickets = tickets[tickets.event_date <= latest_date]"
   ]
  },
  {
   "cell_type": "code",
   "execution_count": 4,
   "id": "9ffe30dd",
   "metadata": {
    "execution": {
     "iopub.execute_input": "2023-11-15T23:41:03.170424Z",
     "iopub.status.busy": "2023-11-15T23:41:03.169957Z",
     "iopub.status.idle": "2023-11-15T23:41:03.208579Z",
     "shell.execute_reply": "2023-11-15T23:41:03.208081Z"
    },
    "papermill": {
     "duration": 0.042557,
     "end_time": "2023-11-15T23:41:03.209988",
     "exception": false,
     "start_time": "2023-11-15T23:41:03.167431",
     "status": "completed"
    },
    "tags": []
   },
   "outputs": [],
   "source": [
    "events = load_event_data()\n",
    "\n",
    "events = pd.concat([\n",
    "  events,\n",
    "  events.pipe(get_first_ward).pipe(normalise_ward).fillna('UNKNOWN'),\n",
    "  pd.Series(\n",
    "      events.actual_audience_size_number_of_participants_in_person + events.actual_audience_size_number_of_participants_online,\n",
    "      name='attendances'\n",
    "  )\n",
    "], axis=1).rename(columns={\n",
    "    'start_date': 'date'\n",
    "}).loc[:, ['ward_code', 'date', 'event_unique_identifier', 'attendances']]"
   ]
  },
  {
   "cell_type": "code",
   "execution_count": 5,
   "id": "a1619642",
   "metadata": {
    "execution": {
     "iopub.execute_input": "2023-11-15T23:41:03.214791Z",
     "iopub.status.busy": "2023-11-15T23:41:03.214385Z",
     "iopub.status.idle": "2023-11-15T23:41:03.217402Z",
     "shell.execute_reply": "2023-11-15T23:41:03.216859Z"
    },
    "papermill": {
     "duration": 0.006801,
     "end_time": "2023-11-15T23:41:03.218674",
     "exception": false,
     "start_time": "2023-11-15T23:41:03.211873",
     "status": "completed"
    },
    "tags": []
   },
   "outputs": [],
   "source": [
    "OUTPUT_DIR='../../../../docs/metrics/events/signature/_data/'\n",
    "os.makedirs(OUTPUT_DIR, exist_ok=True)"
   ]
  },
  {
   "cell_type": "markdown",
   "id": "b45e172b",
   "metadata": {
    "papermill": {
     "duration": 0.001914,
     "end_time": "2023-11-15T23:41:03.222481",
     "exception": false,
     "start_time": "2023-11-15T23:41:03.220567",
     "status": "completed"
    },
    "tags": []
   },
   "source": [
    "Events CSVs"
   ]
  },
  {
   "cell_type": "code",
   "execution_count": 6,
   "id": "0ffa2417",
   "metadata": {
    "execution": {
     "iopub.execute_input": "2023-11-15T23:41:03.227106Z",
     "iopub.status.busy": "2023-11-15T23:41:03.226747Z",
     "iopub.status.idle": "2023-11-15T23:41:03.232308Z",
     "shell.execute_reply": "2023-11-15T23:41:03.231815Z"
    },
    "papermill": {
     "duration": 0.009222,
     "end_time": "2023-11-15T23:41:03.233563",
     "exception": false,
     "start_time": "2023-11-15T23:41:03.224341",
     "status": "completed"
    },
    "tags": []
   },
   "outputs": [],
   "source": [
    "pd.DataFrame({\n",
    "  'events': events.groupby('ward_code').event_unique_identifier.count(),\n",
    "  'attendances': events.groupby('ward_code').attendances.sum().astype(int),\n",
    "}).to_csv(os.path.join(OUTPUT_DIR, 'events_by_ward.csv'))\n"
   ]
  },
  {
   "cell_type": "code",
   "execution_count": 7,
   "id": "e4af9352",
   "metadata": {
    "execution": {
     "iopub.execute_input": "2023-11-15T23:41:03.238342Z",
     "iopub.status.busy": "2023-11-15T23:41:03.237985Z",
     "iopub.status.idle": "2023-11-15T23:41:03.245438Z",
     "shell.execute_reply": "2023-11-15T23:41:03.244908Z"
    },
    "papermill": {
     "duration": 0.01124,
     "end_time": "2023-11-15T23:41:03.246764",
     "exception": false,
     "start_time": "2023-11-15T23:41:03.235524",
     "status": "completed"
    },
    "tags": []
   },
   "outputs": [],
   "source": [
    "pd.DataFrame({\n",
    "  'events': events.groupby('date').event_unique_identifier.count(),\n",
    "  'attendances': events.groupby('date').attendances.sum().astype(int),\n",
    "}).resample('M').sum().astype(int).to_csv(os.path.join(OUTPUT_DIR, 'events_by_date.csv'))"
   ]
  },
  {
   "cell_type": "markdown",
   "id": "74ebdd00",
   "metadata": {
    "papermill": {
     "duration": 0.002792,
     "end_time": "2023-11-15T23:41:03.251613",
     "exception": false,
     "start_time": "2023-11-15T23:41:03.248821",
     "status": "completed"
    },
    "tags": []
   },
   "source": [
    "Tickets CSV"
   ]
  },
  {
   "cell_type": "code",
   "execution_count": 8,
   "id": "7b9a2850",
   "metadata": {
    "execution": {
     "iopub.execute_input": "2023-11-15T23:41:03.256487Z",
     "iopub.status.busy": "2023-11-15T23:41:03.256094Z",
     "iopub.status.idle": "2023-11-15T23:41:03.261839Z",
     "shell.execute_reply": "2023-11-15T23:41:03.261356Z"
    },
    "papermill": {
     "duration": 0.009583,
     "end_time": "2023-11-15T23:41:03.263109",
     "exception": false,
     "start_time": "2023-11-15T23:41:03.253526",
     "status": "completed"
    },
    "tags": []
   },
   "outputs": [],
   "source": [
    "pd.DataFrame({\n",
    "  'orders': tickets.groupby('ward_code').number_of_tickets.count(),\n",
    "  'tickets': tickets.groupby('ward_code').number_of_tickets.sum().astype(int),\n",
    "}).to_csv(os.path.join(OUTPUT_DIR, 'tickets_by_ward.csv'))"
   ]
  },
  {
   "cell_type": "code",
   "execution_count": 9,
   "id": "b80722c5",
   "metadata": {
    "execution": {
     "iopub.execute_input": "2023-11-15T23:41:03.267951Z",
     "iopub.status.busy": "2023-11-15T23:41:03.267625Z",
     "iopub.status.idle": "2023-11-15T23:41:03.274387Z",
     "shell.execute_reply": "2023-11-15T23:41:03.273741Z"
    },
    "papermill": {
     "duration": 0.010601,
     "end_time": "2023-11-15T23:41:03.275673",
     "exception": false,
     "start_time": "2023-11-15T23:41:03.265072",
     "status": "completed"
    },
    "tags": []
   },
   "outputs": [],
   "source": [
    "pd.DataFrame({\n",
    "  'orders': tickets.groupby('event_date').number_of_tickets.count(),\n",
    "  'tickets': tickets.groupby('event_date').number_of_tickets.sum().astype(int),\n",
    "}).resample('M').sum().to_csv(os.path.join(OUTPUT_DIR, 'tickets_by_event_date.csv'))"
   ]
  },
  {
   "cell_type": "code",
   "execution_count": 10,
   "id": "09bd4778",
   "metadata": {
    "execution": {
     "iopub.execute_input": "2023-11-15T23:41:03.280669Z",
     "iopub.status.busy": "2023-11-15T23:41:03.280298Z",
     "iopub.status.idle": "2023-11-15T23:41:03.285067Z",
     "shell.execute_reply": "2023-11-15T23:41:03.284531Z"
    },
    "papermill": {
     "duration": 0.008747,
     "end_time": "2023-11-15T23:41:03.286386",
     "exception": false,
     "start_time": "2023-11-15T23:41:03.277639",
     "status": "completed"
    },
    "tags": []
   },
   "outputs": [],
   "source": [
    "pd.Series({\n",
    "    'total_events': events.event_unique_identifier.count(),\n",
    "    'total_attendances': events.attendances.count(),\n",
    "    'first_event': events.date.min(),\n",
    "    'latest_event': events.date.max(),\n",
    "    'total_ticket_orders_for_events_to_date': tickets.number_of_tickets.count(),\n",
    "    'total_tickets_sold_for_events_to_date': tickets.number_of_tickets.sum(),\n",
    "}).to_json(os.path.join(OUTPUT_DIR, 'headlines.json'), indent=2)"
   ]
  },
  {
   "cell_type": "code",
   "execution_count": null,
   "id": "4f05f8f4",
   "metadata": {
    "papermill": {
     "duration": 0.001994,
     "end_time": "2023-11-15T23:41:03.290390",
     "exception": false,
     "start_time": "2023-11-15T23:41:03.288396",
     "status": "completed"
    },
    "tags": []
   },
   "outputs": [],
   "source": []
  }
 ],
 "metadata": {
  "kernelspec": {
   "display_name": "leeds-2023-YZF5GfJv",
   "language": "python",
   "name": "python3"
  },
  "language_info": {
   "codemirror_mode": {
    "name": "ipython",
    "version": 3
   },
   "file_extension": ".py",
   "mimetype": "text/x-python",
   "name": "python",
   "nbconvert_exporter": "python",
   "pygments_lexer": "ipython3",
   "version": "3.10.13"
  },
  "papermill": {
   "default_parameters": {},
   "duration": 8.79657,
   "end_time": "2023-11-15T23:41:03.508374",
   "environment_variables": {},
   "exception": null,
   "input_path": "prepare.ipynb",
   "output_path": "../../../../working/output/signature-prepare.ipynb",
   "parameters": {},
   "start_time": "2023-11-15T23:40:54.711804",
   "version": "2.4.0"
  }
 },
 "nbformat": 4,
 "nbformat_minor": 5
}