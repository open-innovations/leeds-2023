{
 "cells": [
  {
   "cell_type": "markdown",
   "id": "a74da71b",
   "metadata": {
    "papermill": {
     "duration": 0.002397,
     "end_time": "2023-07-22T23:38:16.110233",
     "exception": false,
     "start_time": "2023-07-22T23:38:16.107836",
     "status": "completed"
    },
    "tags": []
   },
   "source": [
    "# My LEEDS 2023\n",
    "\n",
    "Prepares data for the My LEEDS 2023 page "
   ]
  },
  {
   "cell_type": "code",
   "execution_count": 1,
   "id": "d832af95",
   "metadata": {
    "execution": {
     "iopub.execute_input": "2023-07-22T23:38:16.115729Z",
     "iopub.status.busy": "2023-07-22T23:38:16.115190Z",
     "iopub.status.idle": "2023-07-22T23:38:24.465970Z",
     "shell.execute_reply": "2023-07-22T23:38:24.465333Z"
    },
    "papermill": {
     "duration": 8.35532,
     "end_time": "2023-07-22T23:38:24.467662",
     "exception": false,
     "start_time": "2023-07-22T23:38:16.112342",
     "status": "completed"
    },
    "tags": []
   },
   "outputs": [],
   "source": [
    "from events import (\n",
    "    load_event_data, filter_by_project, prepare, save_files, count_wards\n",
    ")"
   ]
  },
  {
   "cell_type": "markdown",
   "id": "7bd33231",
   "metadata": {
    "papermill": {
     "duration": 0.00205,
     "end_time": "2023-07-22T23:38:24.471872",
     "exception": false,
     "start_time": "2023-07-22T23:38:24.469822",
     "status": "completed"
    },
    "tags": []
   },
   "source": [
    "Set output directory"
   ]
  },
  {
   "cell_type": "code",
   "execution_count": 2,
   "id": "3df02b18",
   "metadata": {
    "execution": {
     "iopub.execute_input": "2023-07-22T23:38:24.476823Z",
     "iopub.status.busy": "2023-07-22T23:38:24.476281Z",
     "iopub.status.idle": "2023-07-22T23:38:24.479352Z",
     "shell.execute_reply": "2023-07-22T23:38:24.478758Z"
    },
    "papermill": {
     "duration": 0.007031,
     "end_time": "2023-07-22T23:38:24.480696",
     "exception": false,
     "start_time": "2023-07-22T23:38:24.473665",
     "status": "completed"
    },
    "tags": []
   },
   "outputs": [],
   "source": [
    "OUT_DIR = '../../../../docs/metrics/events/my-leeds-2023/_data/events'"
   ]
  },
  {
   "cell_type": "markdown",
   "id": "2685e188",
   "metadata": {
    "papermill": {
     "duration": 0.001814,
     "end_time": "2023-07-22T23:38:24.484366",
     "exception": false,
     "start_time": "2023-07-22T23:38:24.482552",
     "status": "completed"
    },
    "tags": []
   },
   "source": [
    "Read in event data and filter by **My LEEDS 2023** project"
   ]
  },
  {
   "cell_type": "code",
   "execution_count": 3,
   "id": "3752a919",
   "metadata": {
    "execution": {
     "iopub.execute_input": "2023-07-22T23:38:24.488953Z",
     "iopub.status.busy": "2023-07-22T23:38:24.488748Z",
     "iopub.status.idle": "2023-07-22T23:38:24.502280Z",
     "shell.execute_reply": "2023-07-22T23:38:24.501716Z"
    },
    "papermill": {
     "duration": 0.017537,
     "end_time": "2023-07-22T23:38:24.503755",
     "exception": false,
     "start_time": "2023-07-22T23:38:24.486218",
     "status": "completed"
    },
    "tags": []
   },
   "outputs": [],
   "source": [
    "data = load_event_data().pipe(filter_by_project, '12 - My LEEDS 2023')"
   ]
  },
  {
   "cell_type": "markdown",
   "id": "bb5f8c78",
   "metadata": {
    "papermill": {
     "duration": 0.00184,
     "end_time": "2023-07-22T23:38:24.507511",
     "exception": false,
     "start_time": "2023-07-22T23:38:24.505671",
     "status": "completed"
    },
    "tags": []
   },
   "source": [
    "Run the processing and save the files"
   ]
  },
  {
   "cell_type": "code",
   "execution_count": 4,
   "id": "1f4f146e",
   "metadata": {
    "execution": {
     "iopub.execute_input": "2023-07-22T23:38:24.512503Z",
     "iopub.status.busy": "2023-07-22T23:38:24.511924Z",
     "iopub.status.idle": "2023-07-22T23:38:24.588655Z",
     "shell.execute_reply": "2023-07-22T23:38:24.588077Z"
    },
    "papermill": {
     "duration": 0.080916,
     "end_time": "2023-07-22T23:38:24.590339",
     "exception": false,
     "start_time": "2023-07-22T23:38:24.509423",
     "status": "completed"
    },
    "tags": []
   },
   "outputs": [],
   "source": [
    "data = data.pipe(prepare).pipe(save_files, OUT_DIR)"
   ]
  },
  {
   "cell_type": "markdown",
   "id": "1b3e4140",
   "metadata": {
    "papermill": {
     "duration": 0.002108,
     "end_time": "2023-07-22T23:38:24.594641",
     "exception": false,
     "start_time": "2023-07-22T23:38:24.592533",
     "status": "completed"
    },
    "tags": []
   },
   "source": [
    "Print a list of events which have no ward, or more than one"
   ]
  },
  {
   "cell_type": "code",
   "execution_count": 5,
   "id": "ce60763c",
   "metadata": {
    "execution": {
     "iopub.execute_input": "2023-07-22T23:38:24.599902Z",
     "iopub.status.busy": "2023-07-22T23:38:24.599248Z",
     "iopub.status.idle": "2023-07-22T23:38:24.614241Z",
     "shell.execute_reply": "2023-07-22T23:38:24.613698Z"
    },
    "papermill": {
     "duration": 0.019043,
     "end_time": "2023-07-22T23:38:24.615606",
     "exception": false,
     "start_time": "2023-07-22T23:38:24.596563",
     "status": "completed"
    },
    "tags": []
   },
   "outputs": [
    {
     "data": {
      "text/html": [
       "<div>\n",
       "<style scoped>\n",
       "    .dataframe tbody tr th:only-of-type {\n",
       "        vertical-align: middle;\n",
       "    }\n",
       "\n",
       "    .dataframe tbody tr th {\n",
       "        vertical-align: top;\n",
       "    }\n",
       "\n",
       "    .dataframe thead th {\n",
       "        text-align: right;\n",
       "    }\n",
       "</style>\n",
       "<table border=\"1\" class=\"dataframe\">\n",
       "  <thead>\n",
       "    <tr style=\"text-align: right;\">\n",
       "      <th></th>\n",
       "      <th>airtable_id</th>\n",
       "      <th>event_name</th>\n",
       "      <th>start_date</th>\n",
       "      <th>ward_(from_venue)</th>\n",
       "    </tr>\n",
       "  </thead>\n",
       "  <tbody>\n",
       "    <tr>\n",
       "      <th>768</th>\n",
       "      <td>657</td>\n",
       "      <td>The Gift: Garments</td>\n",
       "      <td>2023-06-17</td>\n",
       "      <td>NaN</td>\n",
       "    </tr>\n",
       "    <tr>\n",
       "      <th>770</th>\n",
       "      <td>656</td>\n",
       "      <td>The Gift: digital gift launch</td>\n",
       "      <td>2023-06-19</td>\n",
       "      <td>NaN</td>\n",
       "    </tr>\n",
       "    <tr>\n",
       "      <th>828</th>\n",
       "      <td>265</td>\n",
       "      <td>My Leeds Event Day 1 (Live Activation)</td>\n",
       "      <td>2023-07-08</td>\n",
       "      <td>NaN</td>\n",
       "    </tr>\n",
       "    <tr>\n",
       "      <th>830</th>\n",
       "      <td>430</td>\n",
       "      <td>My LEEDS Summer: Alwoodley Festival of Sport a...</td>\n",
       "      <td>2023-07-09</td>\n",
       "      <td>['Alwoodley', 'Alwoodley', 'Alwoodley', 'Alwoo...</td>\n",
       "    </tr>\n",
       "  </tbody>\n",
       "</table>\n",
       "</div>"
      ],
      "text/plain": [
       "     airtable_id                                         event_name  \\\n",
       "768          657                                 The Gift: Garments   \n",
       "770          656                     The Gift: digital gift launch    \n",
       "828          265             My Leeds Event Day 1 (Live Activation)   \n",
       "830          430  My LEEDS Summer: Alwoodley Festival of Sport a...   \n",
       "\n",
       "    start_date                                  ward_(from_venue)  \n",
       "768 2023-06-17                                                NaN  \n",
       "770 2023-06-19                                                NaN  \n",
       "828 2023-07-08                                                NaN  \n",
       "830 2023-07-09  ['Alwoodley', 'Alwoodley', 'Alwoodley', 'Alwoo...  "
      ]
     },
     "execution_count": 5,
     "metadata": {},
     "output_type": "execute_result"
    }
   ],
   "source": [
    "data[data.pipe(count_wards) != 1][[\n",
    "    'airtable_id',\n",
    "    'event_name',\n",
    "    'start_date',\n",
    "    'ward_(from_venue)',\n",
    "]]"
   ]
  },
  {
   "cell_type": "markdown",
   "id": "d94f7720",
   "metadata": {
    "papermill": {
     "duration": 0.00212,
     "end_time": "2023-07-22T23:38:24.619926",
     "exception": false,
     "start_time": "2023-07-22T23:38:24.617806",
     "status": "completed"
    },
    "tags": []
   },
   "source": [
    "Print a list of events with no audience recorded"
   ]
  },
  {
   "cell_type": "code",
   "execution_count": 6,
   "id": "1a5d47ae",
   "metadata": {
    "execution": {
     "iopub.execute_input": "2023-07-22T23:38:24.625259Z",
     "iopub.status.busy": "2023-07-22T23:38:24.624881Z",
     "iopub.status.idle": "2023-07-22T23:38:24.635204Z",
     "shell.execute_reply": "2023-07-22T23:38:24.634599Z"
    },
    "papermill": {
     "duration": 0.014539,
     "end_time": "2023-07-22T23:38:24.636616",
     "exception": false,
     "start_time": "2023-07-22T23:38:24.622077",
     "status": "completed"
    },
    "tags": []
   },
   "outputs": [
    {
     "data": {
      "text/html": [
       "<div>\n",
       "<style scoped>\n",
       "    .dataframe tbody tr th:only-of-type {\n",
       "        vertical-align: middle;\n",
       "    }\n",
       "\n",
       "    .dataframe tbody tr th {\n",
       "        vertical-align: top;\n",
       "    }\n",
       "\n",
       "    .dataframe thead th {\n",
       "        text-align: right;\n",
       "    }\n",
       "</style>\n",
       "<table border=\"1\" class=\"dataframe\">\n",
       "  <thead>\n",
       "    <tr style=\"text-align: right;\">\n",
       "      <th></th>\n",
       "      <th>airtable_id</th>\n",
       "      <th>event_name</th>\n",
       "      <th>start_date</th>\n",
       "      <th>audience_size</th>\n",
       "    </tr>\n",
       "  </thead>\n",
       "  <tbody>\n",
       "    <tr>\n",
       "      <th>265</th>\n",
       "      <td>560</td>\n",
       "      <td>Pudsey Grant Info Session</td>\n",
       "      <td>2023-02-13</td>\n",
       "      <td>0.0</td>\n",
       "    </tr>\n",
       "    <tr>\n",
       "      <th>266</th>\n",
       "      <td>561</td>\n",
       "      <td>Rothwell Grant Info Session</td>\n",
       "      <td>2023-02-13</td>\n",
       "      <td>0.0</td>\n",
       "    </tr>\n",
       "    <tr>\n",
       "      <th>268</th>\n",
       "      <td>562</td>\n",
       "      <td>Roundhay Grant Info Session 1</td>\n",
       "      <td>2023-02-13</td>\n",
       "      <td>0.0</td>\n",
       "    </tr>\n",
       "    <tr>\n",
       "      <th>280</th>\n",
       "      <td>567</td>\n",
       "      <td>Wetherby Grant Info Session 1</td>\n",
       "      <td>2023-02-14</td>\n",
       "      <td>0.0</td>\n",
       "    </tr>\n",
       "    <tr>\n",
       "      <th>289</th>\n",
       "      <td>565</td>\n",
       "      <td>Weetwood Grant Info Session 1</td>\n",
       "      <td>2023-02-15</td>\n",
       "      <td>0.0</td>\n",
       "    </tr>\n",
       "    <tr>\n",
       "      <th>300</th>\n",
       "      <td>563</td>\n",
       "      <td>Roundhay Grant Info Session 2</td>\n",
       "      <td>2023-02-16</td>\n",
       "      <td>0.0</td>\n",
       "    </tr>\n",
       "    <tr>\n",
       "      <th>303</th>\n",
       "      <td>564</td>\n",
       "      <td>Temple Newsam Grant Info Session</td>\n",
       "      <td>2023-02-16</td>\n",
       "      <td>0.0</td>\n",
       "    </tr>\n",
       "    <tr>\n",
       "      <th>315</th>\n",
       "      <td>566</td>\n",
       "      <td>Weetwood Grant Info Session 2</td>\n",
       "      <td>2023-02-19</td>\n",
       "      <td>0.0</td>\n",
       "    </tr>\n",
       "    <tr>\n",
       "      <th>323</th>\n",
       "      <td>558</td>\n",
       "      <td>Otley and Yeadon Grant Info Session 1</td>\n",
       "      <td>2023-02-20</td>\n",
       "      <td>0.0</td>\n",
       "    </tr>\n",
       "    <tr>\n",
       "      <th>334</th>\n",
       "      <td>559</td>\n",
       "      <td>Otley and Yeadon Grant Info Session 2</td>\n",
       "      <td>2023-02-21</td>\n",
       "      <td>0.0</td>\n",
       "    </tr>\n",
       "    <tr>\n",
       "      <th>336</th>\n",
       "      <td>568</td>\n",
       "      <td>Wetherby Grant Info Session 2</td>\n",
       "      <td>2023-02-21</td>\n",
       "      <td>0.0</td>\n",
       "    </tr>\n",
       "    <tr>\n",
       "      <th>768</th>\n",
       "      <td>657</td>\n",
       "      <td>The Gift: Garments</td>\n",
       "      <td>2023-06-17</td>\n",
       "      <td>0.0</td>\n",
       "    </tr>\n",
       "    <tr>\n",
       "      <th>770</th>\n",
       "      <td>656</td>\n",
       "      <td>The Gift: digital gift launch</td>\n",
       "      <td>2023-06-19</td>\n",
       "      <td>0.0</td>\n",
       "    </tr>\n",
       "    <tr>\n",
       "      <th>778</th>\n",
       "      <td>417</td>\n",
       "      <td>My LEEDS Summer: Moortown Picnic in the Park</td>\n",
       "      <td>2023-06-24</td>\n",
       "      <td>0.0</td>\n",
       "    </tr>\n",
       "    <tr>\n",
       "      <th>810</th>\n",
       "      <td>425</td>\n",
       "      <td>My LEEDS Summer: Guiseley and Rawdon Feast</td>\n",
       "      <td>2023-07-02</td>\n",
       "      <td>0.0</td>\n",
       "    </tr>\n",
       "    <tr>\n",
       "      <th>827</th>\n",
       "      <td>428</td>\n",
       "      <td>My LEEDS Summer: Gipton &amp; Harehills</td>\n",
       "      <td>2023-07-08</td>\n",
       "      <td>0.0</td>\n",
       "    </tr>\n",
       "    <tr>\n",
       "      <th>828</th>\n",
       "      <td>265</td>\n",
       "      <td>My Leeds Event Day 1 (Live Activation)</td>\n",
       "      <td>2023-07-08</td>\n",
       "      <td>0.0</td>\n",
       "    </tr>\n",
       "    <tr>\n",
       "      <th>852</th>\n",
       "      <td>435</td>\n",
       "      <td>My LEEDS Summer: Headingley &amp; Hyde Park</td>\n",
       "      <td>2023-07-22</td>\n",
       "      <td>0.0</td>\n",
       "    </tr>\n",
       "    <tr>\n",
       "      <th>853</th>\n",
       "      <td>444</td>\n",
       "      <td>My LEEDS Summer: Kippax and Methley</td>\n",
       "      <td>2023-07-22</td>\n",
       "      <td>0.0</td>\n",
       "    </tr>\n",
       "    <tr>\n",
       "      <th>854</th>\n",
       "      <td>434</td>\n",
       "      <td>My LEEDS Summer: Pudsey LS28 Live</td>\n",
       "      <td>2023-07-22</td>\n",
       "      <td>0.0</td>\n",
       "    </tr>\n",
       "  </tbody>\n",
       "</table>\n",
       "</div>"
      ],
      "text/plain": [
       "     airtable_id                                    event_name start_date  \\\n",
       "265          560                     Pudsey Grant Info Session 2023-02-13   \n",
       "266          561                   Rothwell Grant Info Session 2023-02-13   \n",
       "268          562                 Roundhay Grant Info Session 1 2023-02-13   \n",
       "280          567                 Wetherby Grant Info Session 1 2023-02-14   \n",
       "289          565                 Weetwood Grant Info Session 1 2023-02-15   \n",
       "300          563                 Roundhay Grant Info Session 2 2023-02-16   \n",
       "303          564              Temple Newsam Grant Info Session 2023-02-16   \n",
       "315          566                 Weetwood Grant Info Session 2 2023-02-19   \n",
       "323          558         Otley and Yeadon Grant Info Session 1 2023-02-20   \n",
       "334          559         Otley and Yeadon Grant Info Session 2 2023-02-21   \n",
       "336          568                 Wetherby Grant Info Session 2 2023-02-21   \n",
       "768          657                            The Gift: Garments 2023-06-17   \n",
       "770          656                The Gift: digital gift launch  2023-06-19   \n",
       "778          417  My LEEDS Summer: Moortown Picnic in the Park 2023-06-24   \n",
       "810          425    My LEEDS Summer: Guiseley and Rawdon Feast 2023-07-02   \n",
       "827          428           My LEEDS Summer: Gipton & Harehills 2023-07-08   \n",
       "828          265        My Leeds Event Day 1 (Live Activation) 2023-07-08   \n",
       "852          435       My LEEDS Summer: Headingley & Hyde Park 2023-07-22   \n",
       "853          444           My LEEDS Summer: Kippax and Methley 2023-07-22   \n",
       "854          434             My LEEDS Summer: Pudsey LS28 Live 2023-07-22   \n",
       "\n",
       "     audience_size  \n",
       "265            0.0  \n",
       "266            0.0  \n",
       "268            0.0  \n",
       "280            0.0  \n",
       "289            0.0  \n",
       "300            0.0  \n",
       "303            0.0  \n",
       "315            0.0  \n",
       "323            0.0  \n",
       "334            0.0  \n",
       "336            0.0  \n",
       "768            0.0  \n",
       "770            0.0  \n",
       "778            0.0  \n",
       "810            0.0  \n",
       "827            0.0  \n",
       "828            0.0  \n",
       "852            0.0  \n",
       "853            0.0  \n",
       "854            0.0  "
      ]
     },
     "execution_count": 6,
     "metadata": {},
     "output_type": "execute_result"
    }
   ],
   "source": [
    "data[data.audience_size == 0][[\n",
    "    'airtable_id', 'event_name', 'start_date', 'audience_size'\n",
    "]]"
   ]
  },
  {
   "cell_type": "code",
   "execution_count": 7,
   "id": "41719572",
   "metadata": {
    "execution": {
     "iopub.execute_input": "2023-07-22T23:38:24.642611Z",
     "iopub.status.busy": "2023-07-22T23:38:24.642103Z",
     "iopub.status.idle": "2023-07-22T23:38:25.087053Z",
     "shell.execute_reply": "2023-07-22T23:38:25.085883Z"
    },
    "papermill": {
     "duration": 0.449453,
     "end_time": "2023-07-22T23:38:25.088488",
     "exception": false,
     "start_time": "2023-07-22T23:38:24.639035",
     "status": "completed"
    },
    "tags": []
   },
   "outputs": [
    {
     "data": {
      "text/plain": [
       "event_type\n",
       "['Public Event - Digital Experience']     1\n",
       "['Public Event - Installation']           1\n",
       "['Public Event - Performance']           22\n",
       "['Public Event - Talk / Tour']           11\n",
       "Name: event_name, dtype: int64"
      ]
     },
     "execution_count": 7,
     "metadata": {},
     "output_type": "execute_result"
    },
    {
     "data": {
      "image/png": "[encoded data removed]",
      "text/plain": [
       "<Figure size 640x480 with 1 Axes>"
      ]
     },
     "metadata": {},
     "output_type": "display_data"
    }
   ],
   "source": [
    "plot = data.groupby('event_type').event_name.count().plot.barh()\n",
    "plot.xaxis.label.set_text('Number of events')\n",
    "plot.yaxis.label.set_text('Event Type Labels')\n",
    "data.groupby('event_type').event_name.count()"
   ]
  }
 ],
 "metadata": {
  "kernelspec": {
   "display_name": "leeds-2023-YZF5GfJv",
   "language": "python",
   "name": "python3"
  },
  "language_info": {
   "codemirror_mode": {
    "name": "ipython",
    "version": 3
   },
   "file_extension": ".py",
   "mimetype": "text/x-python",
   "name": "python",
   "nbconvert_exporter": "python",
   "pygments_lexer": "ipython3",
   "version": "3.10.6"
  },
  "papermill": {
   "default_parameters": {},
   "duration": 10.6186,
   "end_time": "2023-07-22T23:38:25.413362",
   "environment_variables": {},
   "exception": null,
   "input_path": "my-leeds-2023.ipynb",
   "output_path": "../../../../working/output/my-leeds-2023.ipynb",
   "parameters": {},
   "start_time": "2023-07-22T23:38:14.794762",
   "version": "2.4.0"
  }
 },
 "nbformat": 4,
 "nbformat_minor": 5
}