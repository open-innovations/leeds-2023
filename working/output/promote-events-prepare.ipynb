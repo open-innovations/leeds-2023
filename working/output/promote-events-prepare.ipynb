{
 "cells": [
  {
   "cell_type": "code",
   "execution_count": 1,
   "id": "8191837b",
   "metadata": {
    "execution": {
     "iopub.execute_input": "2023-11-13T15:15:31.058832Z",
     "iopub.status.busy": "2023-11-13T15:15:31.058647Z",
     "iopub.status.idle": "2023-11-13T15:15:31.216063Z",
     "shell.execute_reply": "2023-11-13T15:15:31.215616Z"
    },
    "papermill": {
     "duration": 0.164332,
     "end_time": "2023-11-13T15:15:31.217163",
     "exception": false,
     "start_time": "2023-11-13T15:15:31.052831",
     "status": "completed"
    },
    "tags": []
   },
   "outputs": [],
   "source": [
    "import os\n",
    "import pandas as pd"
   ]
  },
  {
   "cell_type": "code",
   "execution_count": 2,
   "id": "038828d0",
   "metadata": {
    "execution": {
     "iopub.execute_input": "2023-11-13T15:15:31.219936Z",
     "iopub.status.busy": "2023-11-13T15:15:31.219741Z",
     "iopub.status.idle": "2023-11-13T15:15:31.221720Z",
     "shell.execute_reply": "2023-11-13T15:15:31.221446Z"
    },
    "papermill": {
     "duration": 0.004293,
     "end_time": "2023-11-13T15:15:31.222521",
     "exception": false,
     "start_time": "2023-11-13T15:15:31.218228",
     "status": "completed"
    },
    "tags": []
   },
   "outputs": [],
   "source": [
    "DATA_DIR='../../../docs/metrics/events/promote/_data/'\n",
    "os.makedirs(DATA_DIR, exist_ok=True)"
   ]
  },
  {
   "cell_type": "code",
   "execution_count": 3,
   "id": "50d65cc9",
   "metadata": {
    "execution": {
     "iopub.execute_input": "2023-11-13T15:15:31.224824Z",
     "iopub.status.busy": "2023-11-13T15:15:31.224679Z",
     "iopub.status.idle": "2023-11-13T15:15:31.229824Z",
     "shell.execute_reply": "2023-11-13T15:15:31.229503Z"
    },
    "papermill": {
     "duration": 0.00733,
     "end_time": "2023-11-13T15:15:31.230667",
     "exception": false,
     "start_time": "2023-11-13T15:15:31.223337",
     "status": "completed"
    },
    "tags": []
   },
   "outputs": [],
   "source": [
    "data = pd.read_csv('../../../data/metrics/events/promote-events/events.csv', parse_dates=['time'])"
   ]
  },
  {
   "cell_type": "code",
   "execution_count": 4,
   "id": "33b7c713",
   "metadata": {
    "execution": {
     "iopub.execute_input": "2023-11-13T15:15:31.233045Z",
     "iopub.status.busy": "2023-11-13T15:15:31.232896Z",
     "iopub.status.idle": "2023-11-13T15:15:31.236170Z",
     "shell.execute_reply": "2023-11-13T15:15:31.235753Z"
    },
    "papermill": {
     "duration": 0.005299,
     "end_time": "2023-11-13T15:15:31.236891",
     "exception": false,
     "start_time": "2023-11-13T15:15:31.231592",
     "status": "completed"
    },
    "tags": []
   },
   "outputs": [],
   "source": [
    "pd.Series({\n",
    "    'total_events': len(data.id.unique()),\n",
    "    'total_event_instances': len(data.time),\n",
    "    'earliest_event': data.time.min(),\n",
    "    'latest_event': data.time.max(),\n",
    "}).to_json(\n",
    "    os.path.join(DATA_DIR, 'headlines.json'),\n",
    "    date_format='iso', indent=2\n",
    ")"
   ]
  },
  {
   "cell_type": "code",
   "execution_count": 5,
   "id": "041fa943",
   "metadata": {
    "execution": {
     "iopub.execute_input": "2023-11-13T15:15:31.239070Z",
     "iopub.status.busy": "2023-11-13T15:15:31.238943Z",
     "iopub.status.idle": "2023-11-13T15:15:31.244951Z",
     "shell.execute_reply": "2023-11-13T15:15:31.244639Z"
    },
    "papermill": {
     "duration": 0.007841,
     "end_time": "2023-11-13T15:15:31.245590",
     "exception": false,
     "start_time": "2023-11-13T15:15:31.237749",
     "status": "completed"
    },
    "tags": []
   },
   "outputs": [],
   "source": [
    "events = pd.DataFrame({\n",
    "    'events': data.groupby('id').agg({ 'time': 'min' }).reset_index().groupby('time').id.count(),\n",
    "    'event_instances': data.groupby('time').id.count(),\n",
    "}).fillna(0).astype(int)"
   ]
  },
  {
   "cell_type": "code",
   "execution_count": 6,
   "id": "ca8ce203",
   "metadata": {
    "execution": {
     "iopub.execute_input": "2023-11-13T15:15:31.247864Z",
     "iopub.status.busy": "2023-11-13T15:15:31.247733Z",
     "iopub.status.idle": "2023-11-13T15:15:31.249832Z",
     "shell.execute_reply": "2023-11-13T15:15:31.249537Z"
    },
    "papermill": {
     "duration": 0.004012,
     "end_time": "2023-11-13T15:15:31.250506",
     "exception": false,
     "start_time": "2023-11-13T15:15:31.246494",
     "status": "completed"
    },
    "tags": []
   },
   "outputs": [],
   "source": [
    "def cumulate(data):\n",
    "    return pd.concat([\n",
    "        data,\n",
    "        data.cumsum().rename(columns=lambda c: f'cumulative_{c}')\n",
    "    ], axis=1)"
   ]
  },
  {
   "cell_type": "code",
   "execution_count": 7,
   "id": "3cf6f32c",
   "metadata": {
    "execution": {
     "iopub.execute_input": "2023-11-13T15:15:31.252765Z",
     "iopub.status.busy": "2023-11-13T15:15:31.252633Z",
     "iopub.status.idle": "2023-11-13T15:15:31.257711Z",
     "shell.execute_reply": "2023-11-13T15:15:31.257392Z"
    },
    "papermill": {
     "duration": 0.007017,
     "end_time": "2023-11-13T15:15:31.258402",
     "exception": false,
     "start_time": "2023-11-13T15:15:31.251385",
     "status": "completed"
    },
    "tags": []
   },
   "outputs": [],
   "source": [
    "events.resample('W-FRI').sum().pipe(cumulate).to_csv(os.path.join(DATA_DIR, 'by_week.csv'))"
   ]
  },
  {
   "cell_type": "code",
   "execution_count": 8,
   "id": "bd94ec4b",
   "metadata": {
    "execution": {
     "iopub.execute_input": "2023-11-13T15:15:31.260881Z",
     "iopub.status.busy": "2023-11-13T15:15:31.260654Z",
     "iopub.status.idle": "2023-11-13T15:15:31.264171Z",
     "shell.execute_reply": "2023-11-13T15:15:31.263925Z"
    },
    "papermill": {
     "duration": 0.005488,
     "end_time": "2023-11-13T15:15:31.264824",
     "exception": false,
     "start_time": "2023-11-13T15:15:31.259336",
     "status": "completed"
    },
    "tags": []
   },
   "outputs": [],
   "source": [
    "events.resample('MS').sum().pipe(cumulate).to_csv(os.path.join(DATA_DIR, 'by_month.csv'))"
   ]
  },
  {
   "cell_type": "code",
   "execution_count": null,
   "id": "304daf70",
   "metadata": {
    "papermill": {
     "duration": 0.000917,
     "end_time": "2023-11-13T15:15:31.266699",
     "exception": false,
     "start_time": "2023-11-13T15:15:31.265782",
     "status": "completed"
    },
    "tags": []
   },
   "outputs": [],
   "source": []
  }
 ],
 "metadata": {
  "kernelspec": {
   "display_name": "leeds-2023-YZF5GfJv",
   "language": "python",
   "name": "python3"
  },
  "language_info": {
   "codemirror_mode": {
    "name": "ipython",
    "version": 3
   },
   "file_extension": ".py",
   "mimetype": "text/x-python",
   "name": "python",
   "nbconvert_exporter": "python",
   "pygments_lexer": "ipython3",
   "version": "3.10.12"
  },
  "papermill": {
   "default_parameters": {},
   "duration": 1.150038,
   "end_time": "2023-11-13T15:15:31.485321",
   "environment_variables": {},
   "exception": null,
   "input_path": "prepare.ipynb",
   "output_path": "../../../working/output/promote-events-prepare.ipynb",
   "parameters": {},
   "start_time": "2023-11-13T15:15:30.335283",
   "version": "2.4.0"
  }
 },
 "nbformat": 4,
 "nbformat_minor": 5
}