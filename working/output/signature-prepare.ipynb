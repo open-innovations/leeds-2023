{
 "cells": [
  {
   "cell_type": "code",
   "execution_count": 1,
   "id": "d85fe8e5",
   "metadata": {
    "execution": {
     "iopub.execute_input": "2023-11-18T23:38:44.014309Z",
     "iopub.status.busy": "2023-11-18T23:38:44.014134Z",
     "iopub.status.idle": "2023-11-18T23:38:51.119299Z",
     "shell.execute_reply": "2023-11-18T23:38:51.118641Z"
    },
    "papermill": {
     "duration": 7.110109,
     "end_time": "2023-11-18T23:38:51.121048",
     "exception": false,
     "start_time": "2023-11-18T23:38:44.010939",
     "status": "completed"
    },
    "tags": []
   },
   "outputs": [],
   "source": [
    "import os\n",
    "import pandas as pd\n",
    "from events import load_event_data, get_first_ward, normalise_ward"
   ]
  },
  {
   "cell_type": "code",
   "execution_count": 2,
   "id": "55adecd3",
   "metadata": {
    "execution": {
     "iopub.execute_input": "2023-11-18T23:38:51.126433Z",
     "iopub.status.busy": "2023-11-18T23:38:51.125971Z",
     "iopub.status.idle": "2023-11-18T23:38:51.129542Z",
     "shell.execute_reply": "2023-11-18T23:38:51.128918Z"
    },
    "papermill": {
     "duration": 0.007635,
     "end_time": "2023-11-18T23:38:51.130908",
     "exception": false,
     "start_time": "2023-11-18T23:38:51.123273",
     "status": "completed"
    },
    "tags": []
   },
   "outputs": [],
   "source": [
    "latest_date = pd.Timestamp.today().ceil('D')"
   ]
  },
  {
   "cell_type": "code",
   "execution_count": 3,
   "id": "2acbf4a9",
   "metadata": {
    "execution": {
     "iopub.execute_input": "2023-11-18T23:38:51.135550Z",
     "iopub.status.busy": "2023-11-18T23:38:51.135191Z",
     "iopub.status.idle": "2023-11-18T23:38:51.149010Z",
     "shell.execute_reply": "2023-11-18T23:38:51.148486Z"
    },
    "papermill": {
     "duration": 0.017459,
     "end_time": "2023-11-18T23:38:51.150248",
     "exception": false,
     "start_time": "2023-11-18T23:38:51.132789",
     "status": "completed"
    },
    "tags": []
   },
   "outputs": [],
   "source": [
    "tickets = pd.read_csv('../../../../data/metrics/events/tickets/orders.csv', parse_dates=['created_at', 'event_date'])\n",
    "tickets = tickets[tickets.event_date <= latest_date]"
   ]
  },
  {
   "cell_type": "code",
   "execution_count": 4,
   "id": "988a83da",
   "metadata": {
    "execution": {
     "iopub.execute_input": "2023-11-18T23:38:51.155099Z",
     "iopub.status.busy": "2023-11-18T23:38:51.154591Z",
     "iopub.status.idle": "2023-11-18T23:38:51.192294Z",
     "shell.execute_reply": "2023-11-18T23:38:51.191798Z"
    },
    "papermill": {
     "duration": 0.041577,
     "end_time": "2023-11-18T23:38:51.193636",
     "exception": false,
     "start_time": "2023-11-18T23:38:51.152059",
     "status": "completed"
    },
    "tags": []
   },
   "outputs": [],
   "source": [
    "events = load_event_data()\n",
    "\n",
    "events = pd.concat([\n",
    "  events,\n",
    "  events.pipe(get_first_ward).pipe(normalise_ward).fillna('UNKNOWN'),\n",
    "  pd.Series(\n",
    "      events.actual_audience_size_number_of_participants_in_person + events.actual_audience_size_number_of_participants_online,\n",
    "      name='attendances'\n",
    "  )\n",
    "], axis=1).rename(columns={\n",
    "    'start_date': 'date'\n",
    "}).loc[:, ['ward_code', 'date', 'event_unique_identifier', 'attendances']]"
   ]
  },
  {
   "cell_type": "code",
   "execution_count": 5,
   "id": "07d7d4f2",
   "metadata": {
    "execution": {
     "iopub.execute_input": "2023-11-18T23:38:51.198376Z",
     "iopub.status.busy": "2023-11-18T23:38:51.198003Z",
     "iopub.status.idle": "2023-11-18T23:38:51.201079Z",
     "shell.execute_reply": "2023-11-18T23:38:51.200536Z"
    },
    "papermill": {
     "duration": 0.006837,
     "end_time": "2023-11-18T23:38:51.202346",
     "exception": false,
     "start_time": "2023-11-18T23:38:51.195509",
     "status": "completed"
    },
    "tags": []
   },
   "outputs": [],
   "source": [
    "OUTPUT_DIR='../../../../docs/metrics/events/signature/_data/'\n",
    "os.makedirs(OUTPUT_DIR, exist_ok=True)"
   ]
  },
  {
   "cell_type": "markdown",
   "id": "2a4ad6ad",
   "metadata": {
    "papermill": {
     "duration": 0.002014,
     "end_time": "2023-11-18T23:38:51.206245",
     "exception": false,
     "start_time": "2023-11-18T23:38:51.204231",
     "status": "completed"
    },
    "tags": []
   },
   "source": [
    "Events CSVs"
   ]
  },
  {
   "cell_type": "code",
   "execution_count": 6,
   "id": "725d6151",
   "metadata": {
    "execution": {
     "iopub.execute_input": "2023-11-18T23:38:51.211086Z",
     "iopub.status.busy": "2023-11-18T23:38:51.210593Z",
     "iopub.status.idle": "2023-11-18T23:38:51.216652Z",
     "shell.execute_reply": "2023-11-18T23:38:51.216028Z"
    },
    "papermill": {
     "duration": 0.009932,
     "end_time": "2023-11-18T23:38:51.218020",
     "exception": false,
     "start_time": "2023-11-18T23:38:51.208088",
     "status": "completed"
    },
    "tags": []
   },
   "outputs": [],
   "source": [
    "pd.DataFrame({\n",
    "  'events': events.groupby('ward_code').event_unique_identifier.count(),\n",
    "  'attendances': events.groupby('ward_code').attendances.sum().astype(int),\n",
    "}).to_csv(os.path.join(OUTPUT_DIR, 'events_by_ward.csv'))\n"
   ]
  },
  {
   "cell_type": "code",
   "execution_count": 7,
   "id": "5226c4df",
   "metadata": {
    "execution": {
     "iopub.execute_input": "2023-11-18T23:38:51.222966Z",
     "iopub.status.busy": "2023-11-18T23:38:51.222522Z",
     "iopub.status.idle": "2023-11-18T23:38:51.230318Z",
     "shell.execute_reply": "2023-11-18T23:38:51.229816Z"
    },
    "papermill": {
     "duration": 0.011654,
     "end_time": "2023-11-18T23:38:51.231606",
     "exception": false,
     "start_time": "2023-11-18T23:38:51.219952",
     "status": "completed"
    },
    "tags": []
   },
   "outputs": [],
   "source": [
    "pd.DataFrame({\n",
    "  'events': events.groupby('date').event_unique_identifier.count(),\n",
    "  'attendances': events.groupby('date').attendances.sum().astype(int),\n",
    "}).resample('M').sum().astype(int).to_csv(os.path.join(OUTPUT_DIR, 'events_by_date.csv'))"
   ]
  },
  {
   "cell_type": "markdown",
   "id": "4a18496b",
   "metadata": {
    "papermill": {
     "duration": 0.002702,
     "end_time": "2023-11-18T23:38:51.236421",
     "exception": false,
     "start_time": "2023-11-18T23:38:51.233719",
     "status": "completed"
    },
    "tags": []
   },
   "source": [
    "Tickets CSV"
   ]
  },
  {
   "cell_type": "code",
   "execution_count": 8,
   "id": "fb7fe73c",
   "metadata": {
    "execution": {
     "iopub.execute_input": "2023-11-18T23:38:51.241390Z",
     "iopub.status.busy": "2023-11-18T23:38:51.240900Z",
     "iopub.status.idle": "2023-11-18T23:38:51.246787Z",
     "shell.execute_reply": "2023-11-18T23:38:51.246178Z"
    },
    "papermill": {
     "duration": 0.009987,
     "end_time": "2023-11-18T23:38:51.248332",
     "exception": false,
     "start_time": "2023-11-18T23:38:51.238345",
     "status": "completed"
    },
    "tags": []
   },
   "outputs": [],
   "source": [
    "pd.DataFrame({\n",
    "  'orders': tickets.groupby('ward_code').number_of_tickets.count(),\n",
    "  'tickets': tickets.groupby('ward_code').number_of_tickets.sum().astype(int),\n",
    "}).to_csv(os.path.join(OUTPUT_DIR, 'tickets_by_ward.csv'))"
   ]
  },
  {
   "cell_type": "code",
   "execution_count": 9,
   "id": "53874db7",
   "metadata": {
    "execution": {
     "iopub.execute_input": "2023-11-18T23:38:51.253400Z",
     "iopub.status.busy": "2023-11-18T23:38:51.253021Z",
     "iopub.status.idle": "2023-11-18T23:38:51.259829Z",
     "shell.execute_reply": "2023-11-18T23:38:51.259214Z"
    },
    "papermill": {
     "duration": 0.011029,
     "end_time": "2023-11-18T23:38:51.261378",
     "exception": false,
     "start_time": "2023-11-18T23:38:51.250349",
     "status": "completed"
    },
    "tags": []
   },
   "outputs": [],
   "source": [
    "pd.DataFrame({\n",
    "  'orders': tickets.groupby('event_date').number_of_tickets.count(),\n",
    "  'tickets': tickets.groupby('event_date').number_of_tickets.sum().astype(int),\n",
    "}).resample('M').sum().to_csv(os.path.join(OUTPUT_DIR, 'tickets_by_event_date.csv'))"
   ]
  },
  {
   "cell_type": "code",
   "execution_count": 10,
   "id": "91b1f689",
   "metadata": {
    "execution": {
     "iopub.execute_input": "2023-11-18T23:38:51.266336Z",
     "iopub.status.busy": "2023-11-18T23:38:51.265990Z",
     "iopub.status.idle": "2023-11-18T23:38:51.270849Z",
     "shell.execute_reply": "2023-11-18T23:38:51.270245Z"
    },
    "papermill": {
     "duration": 0.008832,
     "end_time": "2023-11-18T23:38:51.272203",
     "exception": false,
     "start_time": "2023-11-18T23:38:51.263371",
     "status": "completed"
    },
    "tags": []
   },
   "outputs": [],
   "source": [
    "pd.Series({\n",
    "    'total_events': events.event_unique_identifier.count(),\n",
    "    'total_attendances': events.attendances.count(),\n",
    "    'first_event': events.date.min(),\n",
    "    'latest_event': events.date.max(),\n",
    "    'total_ticket_orders_for_events_to_date': tickets.number_of_tickets.count(),\n",
    "    'total_tickets_sold_for_events_to_date': tickets.number_of_tickets.sum(),\n",
    "}).to_json(os.path.join(OUTPUT_DIR, 'headlines.json'), indent=2)"
   ]
  },
  {
   "cell_type": "code",
   "execution_count": null,
   "id": "3c10edff",
   "metadata": {
    "papermill": {
     "duration": 0.001931,
     "end_time": "2023-11-18T23:38:51.276165",
     "exception": false,
     "start_time": "2023-11-18T23:38:51.274234",
     "status": "completed"
    },
    "tags": []
   },
   "outputs": [],
   "source": []
  }
 ],
 "metadata": {
  "kernelspec": {
   "display_name": "leeds-2023-YZF5GfJv",
   "language": "python",
   "name": "python3"
  },
  "language_info": {
   "codemirror_mode": {
    "name": "ipython",
    "version": 3
   },
   "file_extension": ".py",
   "mimetype": "text/x-python",
   "name": "python",
   "nbconvert_exporter": "python",
   "pygments_lexer": "ipython3",
   "version": "3.10.13"
  },
  "papermill": {
   "default_parameters": {},
   "duration": 8.716808,
   "end_time": "2023-11-18T23:38:51.493644",
   "environment_variables": {},
   "exception": null,
   "input_path": "prepare.ipynb",
   "output_path": "../../../../working/output/signature-prepare.ipynb",
   "parameters": {},
   "start_time": "2023-11-18T23:38:42.776836",
   "version": "2.4.0"
  }
 },
 "nbformat": 4,
 "nbformat_minor": 5
}