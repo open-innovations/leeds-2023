{
 "cells": [
  {
   "cell_type": "code",
   "execution_count": 1,
   "id": "027a25e2",
   "metadata": {
    "execution": {
     "iopub.execute_input": "2023-10-27T09:42:06.479807Z",
     "iopub.status.busy": "2023-10-27T09:42:06.479318Z",
     "iopub.status.idle": "2023-10-27T09:42:18.036572Z",
     "shell.execute_reply": "2023-10-27T09:42:18.035623Z"
    },
    "papermill": {
     "duration": 11.565582,
     "end_time": "2023-10-27T09:42:18.038663",
     "exception": false,
     "start_time": "2023-10-27T09:42:06.473081",
     "status": "completed"
    },
    "tags": []
   },
   "outputs": [],
   "source": [
    "import os\n",
    "import pandas as pd\n",
    "from events import load_event_data, get_first_ward, normalise_ward"
   ]
  },
  {
   "cell_type": "code",
   "execution_count": 2,
   "id": "d9f568c8",
   "metadata": {
    "execution": {
     "iopub.execute_input": "2023-10-27T09:42:18.047250Z",
     "iopub.status.busy": "2023-10-27T09:42:18.047004Z",
     "iopub.status.idle": "2023-10-27T09:42:18.052551Z",
     "shell.execute_reply": "2023-10-27T09:42:18.051741Z"
    },
    "papermill": {
     "duration": 0.012493,
     "end_time": "2023-10-27T09:42:18.054223",
     "exception": false,
     "start_time": "2023-10-27T09:42:18.041730",
     "status": "completed"
    },
    "tags": []
   },
   "outputs": [],
   "source": [
    "latest_date = pd.Timestamp.today().ceil('D')"
   ]
  },
  {
   "cell_type": "code",
   "execution_count": 3,
   "id": "a6fcb84b",
   "metadata": {
    "execution": {
     "iopub.execute_input": "2023-10-27T09:42:18.062578Z",
     "iopub.status.busy": "2023-10-27T09:42:18.062339Z",
     "iopub.status.idle": "2023-10-27T09:42:18.083125Z",
     "shell.execute_reply": "2023-10-27T09:42:18.082458Z"
    },
    "papermill": {
     "duration": 0.026032,
     "end_time": "2023-10-27T09:42:18.084937",
     "exception": false,
     "start_time": "2023-10-27T09:42:18.058905",
     "status": "completed"
    },
    "tags": []
   },
   "outputs": [],
   "source": [
    "tickets = pd.read_csv('../../../../data/metrics/events/tickets/orders.csv', parse_dates=['created_at', 'event_date'])\n",
    "tickets = tickets[tickets.event_date <= latest_date]"
   ]
  },
  {
   "cell_type": "code",
   "execution_count": 4,
   "id": "b2cd20dd",
   "metadata": {
    "execution": {
     "iopub.execute_input": "2023-10-27T09:42:18.092726Z",
     "iopub.status.busy": "2023-10-27T09:42:18.091958Z",
     "iopub.status.idle": "2023-10-27T09:42:18.149469Z",
     "shell.execute_reply": "2023-10-27T09:42:18.148516Z"
    },
    "papermill": {
     "duration": 0.06389,
     "end_time": "2023-10-27T09:42:18.151667",
     "exception": false,
     "start_time": "2023-10-27T09:42:18.087777",
     "status": "completed"
    },
    "tags": []
   },
   "outputs": [],
   "source": [
    "events = load_event_data()\n",
    "\n",
    "events = pd.concat([\n",
    "  events,\n",
    "  events.pipe(get_first_ward).pipe(normalise_ward).fillna('UNKNOWN'),\n",
    "  pd.Series(\n",
    "      events.actual_audience_size_number_of_participants_in_person + events.actual_audience_size_number_of_participants_online,\n",
    "      name='attendances'\n",
    "  )\n",
    "], axis=1).rename(columns={\n",
    "    'start_date': 'date'\n",
    "}).loc[:, ['ward_code', 'date', 'event_unique_identifier', 'attendances']]"
   ]
  },
  {
   "cell_type": "code",
   "execution_count": 5,
   "id": "41a26ca0",
   "metadata": {
    "execution": {
     "iopub.execute_input": "2023-10-27T09:42:18.159358Z",
     "iopub.status.busy": "2023-10-27T09:42:18.158902Z",
     "iopub.status.idle": "2023-10-27T09:42:18.163285Z",
     "shell.execute_reply": "2023-10-27T09:42:18.162512Z"
    },
    "papermill": {
     "duration": 0.01072,
     "end_time": "2023-10-27T09:42:18.165425",
     "exception": false,
     "start_time": "2023-10-27T09:42:18.154705",
     "status": "completed"
    },
    "tags": []
   },
   "outputs": [],
   "source": [
    "OUTPUT_DIR='../../../../docs/metrics/events/signature/_data/'\n",
    "os.makedirs(OUTPUT_DIR, exist_ok=True)"
   ]
  },
  {
   "cell_type": "markdown",
   "id": "04c467f5",
   "metadata": {
    "papermill": {
     "duration": 0.00276,
     "end_time": "2023-10-27T09:42:18.171148",
     "exception": false,
     "start_time": "2023-10-27T09:42:18.168388",
     "status": "completed"
    },
    "tags": []
   },
   "source": [
    "Events CSVs"
   ]
  },
  {
   "cell_type": "code",
   "execution_count": 6,
   "id": "949b1fd0",
   "metadata": {
    "execution": {
     "iopub.execute_input": "2023-10-27T09:42:18.179061Z",
     "iopub.status.busy": "2023-10-27T09:42:18.178065Z",
     "iopub.status.idle": "2023-10-27T09:42:18.189828Z",
     "shell.execute_reply": "2023-10-27T09:42:18.189135Z"
    },
    "papermill": {
     "duration": 0.017761,
     "end_time": "2023-10-27T09:42:18.191821",
     "exception": false,
     "start_time": "2023-10-27T09:42:18.174060",
     "status": "completed"
    },
    "tags": []
   },
   "outputs": [],
   "source": [
    "pd.DataFrame({\n",
    "  'events': events.groupby('ward_code').event_unique_identifier.count(),\n",
    "  'attendances': events.groupby('ward_code').attendances.sum().astype(int),\n",
    "}).to_csv(os.path.join(OUTPUT_DIR, 'events_by_ward.csv'))\n"
   ]
  },
  {
   "cell_type": "code",
   "execution_count": 7,
   "id": "7ea7fedd",
   "metadata": {
    "execution": {
     "iopub.execute_input": "2023-10-27T09:42:18.199253Z",
     "iopub.status.busy": "2023-10-27T09:42:18.198620Z",
     "iopub.status.idle": "2023-10-27T09:42:18.209883Z",
     "shell.execute_reply": "2023-10-27T09:42:18.208909Z"
    },
    "papermill": {
     "duration": 0.016751,
     "end_time": "2023-10-27T09:42:18.211374",
     "exception": false,
     "start_time": "2023-10-27T09:42:18.194623",
     "status": "completed"
    },
    "tags": []
   },
   "outputs": [],
   "source": [
    "pd.DataFrame({\n",
    "  'events': events.groupby('date').event_unique_identifier.count(),\n",
    "  'attendances': events.groupby('date').attendances.sum().astype(int),\n",
    "}).resample('M').sum().astype(int).to_csv(os.path.join(OUTPUT_DIR, 'events_by_date.csv'))"
   ]
  },
  {
   "cell_type": "markdown",
   "id": "78afbe4a",
   "metadata": {
    "papermill": {
     "duration": 0.003018,
     "end_time": "2023-10-27T09:42:18.218032",
     "exception": false,
     "start_time": "2023-10-27T09:42:18.215014",
     "status": "completed"
    },
    "tags": []
   },
   "source": [
    "Tickets CSV"
   ]
  },
  {
   "cell_type": "code",
   "execution_count": 8,
   "id": "2442aa18",
   "metadata": {
    "execution": {
     "iopub.execute_input": "2023-10-27T09:42:18.225795Z",
     "iopub.status.busy": "2023-10-27T09:42:18.225316Z",
     "iopub.status.idle": "2023-10-27T09:42:18.233618Z",
     "shell.execute_reply": "2023-10-27T09:42:18.232515Z"
    },
    "papermill": {
     "duration": 0.014084,
     "end_time": "2023-10-27T09:42:18.235166",
     "exception": false,
     "start_time": "2023-10-27T09:42:18.221082",
     "status": "completed"
    },
    "tags": []
   },
   "outputs": [],
   "source": [
    "pd.DataFrame({\n",
    "  'orders': tickets.groupby('ward_code').number_of_tickets.count(),\n",
    "  'tickets': tickets.groupby('ward_code').number_of_tickets.sum().astype(int),\n",
    "}).to_csv(os.path.join(OUTPUT_DIR, 'tickets_by_ward.csv'))"
   ]
  },
  {
   "cell_type": "code",
   "execution_count": 9,
   "id": "d6300bcf",
   "metadata": {
    "execution": {
     "iopub.execute_input": "2023-10-27T09:42:18.242564Z",
     "iopub.status.busy": "2023-10-27T09:42:18.242096Z",
     "iopub.status.idle": "2023-10-27T09:42:18.251251Z",
     "shell.execute_reply": "2023-10-27T09:42:18.250108Z"
    },
    "papermill": {
     "duration": 0.014628,
     "end_time": "2023-10-27T09:42:18.253013",
     "exception": false,
     "start_time": "2023-10-27T09:42:18.238385",
     "status": "completed"
    },
    "tags": []
   },
   "outputs": [],
   "source": [
    "pd.DataFrame({\n",
    "  'orders': tickets.groupby('event_date').number_of_tickets.count(),\n",
    "  'tickets': tickets.groupby('event_date').number_of_tickets.sum().astype(int),\n",
    "}).resample('M').sum().to_csv(os.path.join(OUTPUT_DIR, 'tickets_by_event_date.csv'))"
   ]
  },
  {
   "cell_type": "code",
   "execution_count": 10,
   "id": "bf4127d5",
   "metadata": {
    "execution": {
     "iopub.execute_input": "2023-10-27T09:42:18.260737Z",
     "iopub.status.busy": "2023-10-27T09:42:18.260336Z",
     "iopub.status.idle": "2023-10-27T09:42:18.265138Z",
     "shell.execute_reply": "2023-10-27T09:42:18.264585Z"
    },
    "papermill": {
     "duration": 0.010235,
     "end_time": "2023-10-27T09:42:18.266459",
     "exception": false,
     "start_time": "2023-10-27T09:42:18.256224",
     "status": "completed"
    },
    "tags": []
   },
   "outputs": [],
   "source": [
    "pd.Series({\n",
    "    'total_events': events.event_unique_identifier.count(),\n",
    "    'total_attendances': events.attendances.count(),\n",
    "    'first_event': events.date.min(),\n",
    "    'latest_event': events.date.max(),\n",
    "    'total_ticket_orders_for_events_to_date': tickets.number_of_tickets.count(),\n",
    "    'total_tickets_sold_for_events_to_date': tickets.number_of_tickets.sum(),\n",
    "}).to_json(os.path.join(OUTPUT_DIR, 'headlines.json'), indent=2)"
   ]
  },
  {
   "cell_type": "code",
   "execution_count": null,
   "id": "6e44c7c0",
   "metadata": {
    "papermill": {
     "duration": 0.002743,
     "end_time": "2023-10-27T09:42:18.272130",
     "exception": false,
     "start_time": "2023-10-27T09:42:18.269387",
     "status": "completed"
    },
    "tags": []
   },
   "outputs": [],
   "source": []
  }
 ],
 "metadata": {
  "kernelspec": {
   "display_name": "leeds-2023-YZF5GfJv",
   "language": "python",
   "name": "python3"
  },
  "language_info": {
   "codemirror_mode": {
    "name": "ipython",
    "version": 3
   },
   "file_extension": ".py",
   "mimetype": "text/x-python",
   "name": "python",
   "nbconvert_exporter": "python",
   "pygments_lexer": "ipython3",
   "version": "3.10.13"
  },
  "papermill": {
   "default_parameters": {},
   "duration": 13.771926,
   "end_time": "2023-10-27T09:42:18.593845",
   "environment_variables": {},
   "exception": null,
   "input_path": "prepare.ipynb",
   "output_path": "../../../../working/output/signature-prepare.ipynb",
   "parameters": {},
   "start_time": "2023-10-27T09:42:04.821919",
   "version": "2.4.0"
  }
 },
 "nbformat": 4,
 "nbformat_minor": 5
}