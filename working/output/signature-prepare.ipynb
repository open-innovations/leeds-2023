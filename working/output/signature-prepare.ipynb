{
 "cells": [
  {
   "cell_type": "code",
   "execution_count": 1,
   "id": "cef4fb55",
   "metadata": {
    "execution": {
     "iopub.execute_input": "2023-10-26T23:41:46.134480Z",
     "iopub.status.busy": "2023-10-26T23:41:46.134044Z",
     "iopub.status.idle": "2023-10-26T23:41:58.843630Z",
     "shell.execute_reply": "2023-10-26T23:41:58.842794Z"
    },
    "papermill": {
     "duration": 12.717945,
     "end_time": "2023-10-26T23:41:58.845797",
     "exception": false,
     "start_time": "2023-10-26T23:41:46.127852",
     "status": "completed"
    },
    "tags": []
   },
   "outputs": [],
   "source": [
    "import os\n",
    "import pandas as pd\n",
    "from events import load_event_data, get_first_ward, normalise_ward"
   ]
  },
  {
   "cell_type": "code",
   "execution_count": 2,
   "id": "bd5c8bd9",
   "metadata": {
    "execution": {
     "iopub.execute_input": "2023-10-26T23:41:58.853528Z",
     "iopub.status.busy": "2023-10-26T23:41:58.853263Z",
     "iopub.status.idle": "2023-10-26T23:41:58.858130Z",
     "shell.execute_reply": "2023-10-26T23:41:58.857361Z"
    },
    "papermill": {
     "duration": 0.01098,
     "end_time": "2023-10-26T23:41:58.860020",
     "exception": false,
     "start_time": "2023-10-26T23:41:58.849040",
     "status": "completed"
    },
    "tags": []
   },
   "outputs": [],
   "source": [
    "latest_date = pd.Timestamp.today().ceil('D')"
   ]
  },
  {
   "cell_type": "code",
   "execution_count": 3,
   "id": "b088170b",
   "metadata": {
    "execution": {
     "iopub.execute_input": "2023-10-26T23:41:58.867066Z",
     "iopub.status.busy": "2023-10-26T23:41:58.866390Z",
     "iopub.status.idle": "2023-10-26T23:41:58.887025Z",
     "shell.execute_reply": "2023-10-26T23:41:58.886049Z"
    },
    "papermill": {
     "duration": 0.026325,
     "end_time": "2023-10-26T23:41:58.889048",
     "exception": false,
     "start_time": "2023-10-26T23:41:58.862723",
     "status": "completed"
    },
    "tags": []
   },
   "outputs": [],
   "source": [
    "tickets = pd.read_csv('../../../../data/metrics/events/tickets/orders.csv', parse_dates=['created_at', 'event_date'])\n",
    "tickets = tickets[tickets.event_date <= latest_date]"
   ]
  },
  {
   "cell_type": "code",
   "execution_count": 4,
   "id": "57bb2923",
   "metadata": {
    "execution": {
     "iopub.execute_input": "2023-10-26T23:41:58.896401Z",
     "iopub.status.busy": "2023-10-26T23:41:58.895759Z",
     "iopub.status.idle": "2023-10-26T23:41:58.951741Z",
     "shell.execute_reply": "2023-10-26T23:41:58.950839Z"
    },
    "papermill": {
     "duration": 0.062647,
     "end_time": "2023-10-26T23:41:58.954501",
     "exception": false,
     "start_time": "2023-10-26T23:41:58.891854",
     "status": "completed"
    },
    "tags": []
   },
   "outputs": [],
   "source": [
    "events = load_event_data()\n",
    "\n",
    "events = pd.concat([\n",
    "  events,\n",
    "  events.pipe(get_first_ward).pipe(normalise_ward).fillna('UNKNOWN'),\n",
    "  pd.Series(\n",
    "      events.actual_audience_size_number_of_participants_in_person + events.actual_audience_size_number_of_participants_online,\n",
    "      name='attendances'\n",
    "  )\n",
    "], axis=1).rename(columns={\n",
    "    'start_date': 'date'\n",
    "}).loc[:, ['ward_code', 'date', 'event_unique_identifier', 'attendances']]"
   ]
  },
  {
   "cell_type": "code",
   "execution_count": 5,
   "id": "fc180d6b",
   "metadata": {
    "execution": {
     "iopub.execute_input": "2023-10-26T23:41:58.963786Z",
     "iopub.status.busy": "2023-10-26T23:41:58.963074Z",
     "iopub.status.idle": "2023-10-26T23:41:58.967347Z",
     "shell.execute_reply": "2023-10-26T23:41:58.966600Z"
    },
    "papermill": {
     "duration": 0.009899,
     "end_time": "2023-10-26T23:41:58.969217",
     "exception": false,
     "start_time": "2023-10-26T23:41:58.959318",
     "status": "completed"
    },
    "tags": []
   },
   "outputs": [],
   "source": [
    "OUTPUT_DIR='../../../../docs/metrics/events/signature/_data/'\n",
    "os.makedirs(OUTPUT_DIR, exist_ok=True)"
   ]
  },
  {
   "cell_type": "markdown",
   "id": "1336a3cd",
   "metadata": {
    "papermill": {
     "duration": 0.002924,
     "end_time": "2023-10-26T23:41:58.974990",
     "exception": false,
     "start_time": "2023-10-26T23:41:58.972066",
     "status": "completed"
    },
    "tags": []
   },
   "source": [
    "Events CSVs"
   ]
  },
  {
   "cell_type": "code",
   "execution_count": 6,
   "id": "cd909211",
   "metadata": {
    "execution": {
     "iopub.execute_input": "2023-10-26T23:41:58.982277Z",
     "iopub.status.busy": "2023-10-26T23:41:58.981654Z",
     "iopub.status.idle": "2023-10-26T23:41:58.991380Z",
     "shell.execute_reply": "2023-10-26T23:41:58.990670Z"
    },
    "papermill": {
     "duration": 0.015494,
     "end_time": "2023-10-26T23:41:58.993134",
     "exception": false,
     "start_time": "2023-10-26T23:41:58.977640",
     "status": "completed"
    },
    "tags": []
   },
   "outputs": [],
   "source": [
    "pd.DataFrame({\n",
    "  'events': events.groupby('ward_code').event_unique_identifier.count(),\n",
    "  'attendances': events.groupby('ward_code').attendances.sum().astype(int),\n",
    "}).to_csv(os.path.join(OUTPUT_DIR, 'events_by_ward.csv'))\n"
   ]
  },
  {
   "cell_type": "code",
   "execution_count": 7,
   "id": "6b812896",
   "metadata": {
    "execution": {
     "iopub.execute_input": "2023-10-26T23:41:59.000824Z",
     "iopub.status.busy": "2023-10-26T23:41:59.000210Z",
     "iopub.status.idle": "2023-10-26T23:41:59.011045Z",
     "shell.execute_reply": "2023-10-26T23:41:59.009734Z"
    },
    "papermill": {
     "duration": 0.016964,
     "end_time": "2023-10-26T23:41:59.012963",
     "exception": false,
     "start_time": "2023-10-26T23:41:58.995999",
     "status": "completed"
    },
    "tags": []
   },
   "outputs": [],
   "source": [
    "pd.DataFrame({\n",
    "  'events': events.groupby('date').event_unique_identifier.count(),\n",
    "  'attendances': events.groupby('date').attendances.sum().astype(int),\n",
    "}).resample('M').sum().astype(int).to_csv(os.path.join(OUTPUT_DIR, 'events_by_date.csv'))"
   ]
  },
  {
   "cell_type": "markdown",
   "id": "30bba44e",
   "metadata": {
    "papermill": {
     "duration": 0.002784,
     "end_time": "2023-10-26T23:41:59.019698",
     "exception": false,
     "start_time": "2023-10-26T23:41:59.016914",
     "status": "completed"
    },
    "tags": []
   },
   "source": [
    "Tickets CSV"
   ]
  },
  {
   "cell_type": "code",
   "execution_count": 8,
   "id": "8dc23b5d",
   "metadata": {
    "execution": {
     "iopub.execute_input": "2023-10-26T23:41:59.027254Z",
     "iopub.status.busy": "2023-10-26T23:41:59.026491Z",
     "iopub.status.idle": "2023-10-26T23:41:59.035941Z",
     "shell.execute_reply": "2023-10-26T23:41:59.035099Z"
    },
    "papermill": {
     "duration": 0.015391,
     "end_time": "2023-10-26T23:41:59.037916",
     "exception": false,
     "start_time": "2023-10-26T23:41:59.022525",
     "status": "completed"
    },
    "tags": []
   },
   "outputs": [],
   "source": [
    "pd.DataFrame({\n",
    "  'orders': tickets.groupby('ward_code').number_of_tickets.count(),\n",
    "  'tickets': tickets.groupby('ward_code').number_of_tickets.sum().astype(int),\n",
    "}).to_csv(os.path.join(OUTPUT_DIR, 'tickets_by_ward.csv'))"
   ]
  },
  {
   "cell_type": "code",
   "execution_count": 9,
   "id": "df0645f5",
   "metadata": {
    "execution": {
     "iopub.execute_input": "2023-10-26T23:41:59.045677Z",
     "iopub.status.busy": "2023-10-26T23:41:59.045147Z",
     "iopub.status.idle": "2023-10-26T23:41:59.056114Z",
     "shell.execute_reply": "2023-10-26T23:41:59.054840Z"
    },
    "papermill": {
     "duration": 0.017186,
     "end_time": "2023-10-26T23:41:59.058082",
     "exception": false,
     "start_time": "2023-10-26T23:41:59.040896",
     "status": "completed"
    },
    "tags": []
   },
   "outputs": [],
   "source": [
    "pd.DataFrame({\n",
    "  'orders': tickets.groupby('event_date').number_of_tickets.count(),\n",
    "  'tickets': tickets.groupby('event_date').number_of_tickets.sum().astype(int),\n",
    "}).resample('M').sum().to_csv(os.path.join(OUTPUT_DIR, 'tickets_by_event_date.csv'))"
   ]
  },
  {
   "cell_type": "code",
   "execution_count": 10,
   "id": "1912beda",
   "metadata": {
    "execution": {
     "iopub.execute_input": "2023-10-26T23:41:59.065823Z",
     "iopub.status.busy": "2023-10-26T23:41:59.065390Z",
     "iopub.status.idle": "2023-10-26T23:41:59.071695Z",
     "shell.execute_reply": "2023-10-26T23:41:59.070946Z"
    },
    "papermill": {
     "duration": 0.012242,
     "end_time": "2023-10-26T23:41:59.073573",
     "exception": false,
     "start_time": "2023-10-26T23:41:59.061331",
     "status": "completed"
    },
    "tags": []
   },
   "outputs": [],
   "source": [
    "pd.Series({\n",
    "    'total_events': events.event_unique_identifier.count(),\n",
    "    'total_attendances': events.attendances.count(),\n",
    "    'first_event': events.date.min(),\n",
    "    'latest_event': events.date.max(),\n",
    "    'total_ticket_orders_for_events_to_date': tickets.number_of_tickets.count(),\n",
    "    'total_tickets_sold_for_events_to_date': tickets.number_of_tickets.sum(),\n",
    "}).to_json(os.path.join(OUTPUT_DIR, 'headlines.json'), indent=2)"
   ]
  },
  {
   "cell_type": "code",
   "execution_count": null,
   "id": "1856d239",
   "metadata": {
    "papermill": {
     "duration": 0.002988,
     "end_time": "2023-10-26T23:41:59.079561",
     "exception": false,
     "start_time": "2023-10-26T23:41:59.076573",
     "status": "completed"
    },
    "tags": []
   },
   "outputs": [],
   "source": []
  }
 ],
 "metadata": {
  "kernelspec": {
   "display_name": "leeds-2023-YZF5GfJv",
   "language": "python",
   "name": "python3"
  },
  "language_info": {
   "codemirror_mode": {
    "name": "ipython",
    "version": 3
   },
   "file_extension": ".py",
   "mimetype": "text/x-python",
   "name": "python",
   "nbconvert_exporter": "python",
   "pygments_lexer": "ipython3",
   "version": "3.10.13"
  },
  "papermill": {
   "default_parameters": {},
   "duration": 14.86835,
   "end_time": "2023-10-26T23:41:59.401516",
   "environment_variables": {},
   "exception": null,
   "input_path": "prepare.ipynb",
   "output_path": "../../../../working/output/signature-prepare.ipynb",
   "parameters": {},
   "start_time": "2023-10-26T23:41:44.533166",
   "version": "2.4.0"
  }
 },
 "nbformat": 4,
 "nbformat_minor": 5
}