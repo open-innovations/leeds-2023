{
 "cells": [
  {
   "cell_type": "code",
   "execution_count": 1,
   "id": "4f133e58",
   "metadata": {
    "execution": {
     "iopub.execute_input": "2023-09-01T23:38:58.192079Z",
     "iopub.status.busy": "2023-09-01T23:38:58.191543Z",
     "iopub.status.idle": "2023-09-01T23:39:06.835829Z",
     "shell.execute_reply": "2023-09-01T23:39:06.835190Z"
    },
    "papermill": {
     "duration": 8.649548,
     "end_time": "2023-09-01T23:39:06.837533",
     "exception": false,
     "start_time": "2023-09-01T23:38:58.187985",
     "status": "completed"
    },
    "tags": []
   },
   "outputs": [],
   "source": [
    "import os\n",
    "import pandas as pd\n",
    "from events import load_event_data, get_first_ward, normalise_ward"
   ]
  },
  {
   "cell_type": "code",
   "execution_count": 2,
   "id": "ff9804d0",
   "metadata": {
    "execution": {
     "iopub.execute_input": "2023-09-01T23:39:06.844201Z",
     "iopub.status.busy": "2023-09-01T23:39:06.843738Z",
     "iopub.status.idle": "2023-09-01T23:39:06.847344Z",
     "shell.execute_reply": "2023-09-01T23:39:06.846706Z"
    },
    "papermill": {
     "duration": 0.008461,
     "end_time": "2023-09-01T23:39:06.848929",
     "exception": false,
     "start_time": "2023-09-01T23:39:06.840468",
     "status": "completed"
    },
    "tags": []
   },
   "outputs": [],
   "source": [
    "latest_date = pd.Timestamp.today().ceil('D')"
   ]
  },
  {
   "cell_type": "code",
   "execution_count": 3,
   "id": "7a340ed8",
   "metadata": {
    "execution": {
     "iopub.execute_input": "2023-09-01T23:39:06.853948Z",
     "iopub.status.busy": "2023-09-01T23:39:06.853595Z",
     "iopub.status.idle": "2023-09-01T23:39:06.869896Z",
     "shell.execute_reply": "2023-09-01T23:39:06.869295Z"
    },
    "papermill": {
     "duration": 0.020608,
     "end_time": "2023-09-01T23:39:06.871505",
     "exception": false,
     "start_time": "2023-09-01T23:39:06.850897",
     "status": "completed"
    },
    "tags": []
   },
   "outputs": [],
   "source": [
    "tickets = pd.read_csv('../../../../data/metrics/events/tickets/orders.csv', parse_dates=['created_at', 'event_date'])\n",
    "tickets = tickets[tickets.event_date <= latest_date]"
   ]
  },
  {
   "cell_type": "code",
   "execution_count": 4,
   "id": "3226fd75",
   "metadata": {
    "execution": {
     "iopub.execute_input": "2023-09-01T23:39:06.877110Z",
     "iopub.status.busy": "2023-09-01T23:39:06.876473Z",
     "iopub.status.idle": "2023-09-01T23:39:07.069784Z",
     "shell.execute_reply": "2023-09-01T23:39:07.069155Z"
    },
    "papermill": {
     "duration": 0.198032,
     "end_time": "2023-09-01T23:39:07.071648",
     "exception": false,
     "start_time": "2023-09-01T23:39:06.873616",
     "status": "completed"
    },
    "tags": []
   },
   "outputs": [],
   "source": [
    "events = load_event_data()\n",
    "\n",
    "events = pd.concat([\n",
    "  events,\n",
    "  events.pipe(get_first_ward).pipe(normalise_ward).fillna('UNKNOWN'),\n",
    "  pd.Series(\n",
    "      events.actual_audience_size_number_of_participants_in_person + events.actual_audience_size_number_of_participants_online,\n",
    "      name='attendances'\n",
    "  )\n",
    "], axis=1).rename(columns={\n",
    "    'start_date': 'date'\n",
    "}).loc[:, ['ward_code', 'date', 'event_unique_identifier', 'attendances']]"
   ]
  },
  {
   "cell_type": "code",
   "execution_count": 5,
   "id": "926a85f4",
   "metadata": {
    "execution": {
     "iopub.execute_input": "2023-09-01T23:39:07.077317Z",
     "iopub.status.busy": "2023-09-01T23:39:07.076930Z",
     "iopub.status.idle": "2023-09-01T23:39:07.080208Z",
     "shell.execute_reply": "2023-09-01T23:39:07.079603Z"
    },
    "papermill": {
     "duration": 0.007704,
     "end_time": "2023-09-01T23:39:07.081686",
     "exception": false,
     "start_time": "2023-09-01T23:39:07.073982",
     "status": "completed"
    },
    "tags": []
   },
   "outputs": [],
   "source": [
    "OUTPUT_DIR='../../../../docs/metrics/events/signature/_data/'\n",
    "os.makedirs(OUTPUT_DIR, exist_ok=True)"
   ]
  },
  {
   "cell_type": "markdown",
   "id": "6b72c50e",
   "metadata": {
    "papermill": {
     "duration": 0.002033,
     "end_time": "2023-09-01T23:39:07.085776",
     "exception": false,
     "start_time": "2023-09-01T23:39:07.083743",
     "status": "completed"
    },
    "tags": []
   },
   "source": [
    "Events CSVs"
   ]
  },
  {
   "cell_type": "code",
   "execution_count": 6,
   "id": "2da275e9",
   "metadata": {
    "execution": {
     "iopub.execute_input": "2023-09-01T23:39:07.090685Z",
     "iopub.status.busy": "2023-09-01T23:39:07.090474Z",
     "iopub.status.idle": "2023-09-01T23:39:07.097101Z",
     "shell.execute_reply": "2023-09-01T23:39:07.096525Z"
    },
    "papermill": {
     "duration": 0.010753,
     "end_time": "2023-09-01T23:39:07.098506",
     "exception": false,
     "start_time": "2023-09-01T23:39:07.087753",
     "status": "completed"
    },
    "tags": []
   },
   "outputs": [],
   "source": [
    "pd.DataFrame({\n",
    "  'events': events.groupby('ward_code').event_unique_identifier.count(),\n",
    "  'attendances': events.groupby('ward_code').attendances.sum().astype(int),\n",
    "}).to_csv(os.path.join(OUTPUT_DIR, 'events_by_ward.csv'))\n"
   ]
  },
  {
   "cell_type": "code",
   "execution_count": 7,
   "id": "ca5a8a58",
   "metadata": {
    "execution": {
     "iopub.execute_input": "2023-09-01T23:39:07.103768Z",
     "iopub.status.busy": "2023-09-01T23:39:07.103365Z",
     "iopub.status.idle": "2023-09-01T23:39:07.113330Z",
     "shell.execute_reply": "2023-09-01T23:39:07.112787Z"
    },
    "papermill": {
     "duration": 0.014213,
     "end_time": "2023-09-01T23:39:07.114783",
     "exception": false,
     "start_time": "2023-09-01T23:39:07.100570",
     "status": "completed"
    },
    "tags": []
   },
   "outputs": [],
   "source": [
    "pd.DataFrame({\n",
    "  'events': events.groupby('date').event_unique_identifier.count(),\n",
    "  'attendances': events.groupby('date').attendances.sum().astype(int),\n",
    "}).resample('M').sum().astype(int).to_csv(os.path.join(OUTPUT_DIR, 'events_by_date.csv'))"
   ]
  },
  {
   "cell_type": "markdown",
   "id": "dd2b482b",
   "metadata": {
    "papermill": {
     "duration": 0.002072,
     "end_time": "2023-09-01T23:39:07.118914",
     "exception": false,
     "start_time": "2023-09-01T23:39:07.116842",
     "status": "completed"
    },
    "tags": []
   },
   "source": [
    "Tickets CSV"
   ]
  },
  {
   "cell_type": "code",
   "execution_count": 8,
   "id": "24dcfd9c",
   "metadata": {
    "execution": {
     "iopub.execute_input": "2023-09-01T23:39:07.124178Z",
     "iopub.status.busy": "2023-09-01T23:39:07.123690Z",
     "iopub.status.idle": "2023-09-01T23:39:07.129784Z",
     "shell.execute_reply": "2023-09-01T23:39:07.129249Z"
    },
    "papermill": {
     "duration": 0.010333,
     "end_time": "2023-09-01T23:39:07.131307",
     "exception": false,
     "start_time": "2023-09-01T23:39:07.120974",
     "status": "completed"
    },
    "tags": []
   },
   "outputs": [],
   "source": [
    "pd.DataFrame({\n",
    "  'orders': tickets.groupby('ward_code').number_of_tickets.count(),\n",
    "  'tickets': tickets.groupby('ward_code').number_of_tickets.sum().astype(int),\n",
    "}).to_csv(os.path.join(OUTPUT_DIR, 'tickets_by_ward.csv'))"
   ]
  },
  {
   "cell_type": "code",
   "execution_count": 9,
   "id": "21b1389e",
   "metadata": {
    "execution": {
     "iopub.execute_input": "2023-09-01T23:39:07.136670Z",
     "iopub.status.busy": "2023-09-01T23:39:07.136348Z",
     "iopub.status.idle": "2023-09-01T23:39:07.143662Z",
     "shell.execute_reply": "2023-09-01T23:39:07.143132Z"
    },
    "papermill": {
     "duration": 0.011558,
     "end_time": "2023-09-01T23:39:07.144999",
     "exception": false,
     "start_time": "2023-09-01T23:39:07.133441",
     "status": "completed"
    },
    "tags": []
   },
   "outputs": [],
   "source": [
    "pd.DataFrame({\n",
    "  'orders': tickets.groupby('event_date').number_of_tickets.count(),\n",
    "  'tickets': tickets.groupby('event_date').number_of_tickets.sum().astype(int),\n",
    "}).resample('M').sum().to_csv(os.path.join(OUTPUT_DIR, 'tickets_by_event_date.csv'))"
   ]
  },
  {
   "cell_type": "code",
   "execution_count": 10,
   "id": "8f7c5a00",
   "metadata": {
    "execution": {
     "iopub.execute_input": "2023-09-01T23:39:07.151221Z",
     "iopub.status.busy": "2023-09-01T23:39:07.150740Z",
     "iopub.status.idle": "2023-09-01T23:39:07.155594Z",
     "shell.execute_reply": "2023-09-01T23:39:07.155005Z"
    },
    "papermill": {
     "duration": 0.009831,
     "end_time": "2023-09-01T23:39:07.156971",
     "exception": false,
     "start_time": "2023-09-01T23:39:07.147140",
     "status": "completed"
    },
    "tags": []
   },
   "outputs": [],
   "source": [
    "pd.Series({\n",
    "    'total_events': events.event_unique_identifier.count(),\n",
    "    'total_attendances': events.attendances.count(),\n",
    "    'first_event': events.date.min(),\n",
    "    'latest_event': events.date.max(),\n",
    "    'total_ticket_orders_for_events_to_date': tickets.number_of_tickets.count(),\n",
    "    'total_tickets_sold_for_events_to_date': tickets.number_of_tickets.sum(),\n",
    "}).to_json(os.path.join(OUTPUT_DIR, 'headlines.json'), indent=2)"
   ]
  },
  {
   "cell_type": "code",
   "execution_count": null,
   "id": "e04d97dc",
   "metadata": {
    "papermill": {
     "duration": 0.002091,
     "end_time": "2023-09-01T23:39:07.161223",
     "exception": false,
     "start_time": "2023-09-01T23:39:07.159132",
     "status": "completed"
    },
    "tags": []
   },
   "outputs": [],
   "source": []
  }
 ],
 "metadata": {
  "kernelspec": {
   "display_name": "leeds-2023-YZF5GfJv",
   "language": "python",
   "name": "python3"
  },
  "language_info": {
   "codemirror_mode": {
    "name": "ipython",
    "version": 3
   },
   "file_extension": ".py",
   "mimetype": "text/x-python",
   "name": "python",
   "nbconvert_exporter": "python",
   "pygments_lexer": "ipython3",
   "version": "3.10.12"
  },
  "papermill": {
   "default_parameters": {},
   "duration": 10.664123,
   "end_time": "2023-09-01T23:39:07.479366",
   "environment_variables": {},
   "exception": null,
   "input_path": "prepare.ipynb",
   "output_path": "../../../../working/output/signature-prepare.ipynb",
   "parameters": {},
   "start_time": "2023-09-01T23:38:56.815243",
   "version": "2.4.0"
  }
 },
 "nbformat": 4,
 "nbformat_minor": 5
}