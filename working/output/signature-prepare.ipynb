{
 "cells": [
  {
   "cell_type": "code",
   "execution_count": 1,
   "id": "2865c38a",
   "metadata": {
    "execution": {
     "iopub.execute_input": "2023-08-03T16:30:01.906008Z",
     "iopub.status.busy": "2023-08-03T16:30:01.904522Z",
     "iopub.status.idle": "2023-08-03T16:30:06.706371Z",
     "shell.execute_reply": "2023-08-03T16:30:06.705912Z"
    },
    "papermill": {
     "duration": 4.809009,
     "end_time": "2023-08-03T16:30:06.707388",
     "exception": false,
     "start_time": "2023-08-03T16:30:01.898379",
     "status": "completed"
    },
    "tags": []
   },
   "outputs": [],
   "source": [
    "import os\n",
    "import pandas as pd\n",
    "from events import load_event_data, get_first_ward, normalise_ward"
   ]
  },
  {
   "cell_type": "code",
   "execution_count": 2,
   "id": "12a5e780",
   "metadata": {
    "execution": {
     "iopub.execute_input": "2023-08-03T16:30:06.710532Z",
     "iopub.status.busy": "2023-08-03T16:30:06.710308Z",
     "iopub.status.idle": "2023-08-03T16:30:06.712715Z",
     "shell.execute_reply": "2023-08-03T16:30:06.712411Z"
    },
    "papermill": {
     "duration": 0.004653,
     "end_time": "2023-08-03T16:30:06.713318",
     "exception": false,
     "start_time": "2023-08-03T16:30:06.708665",
     "status": "completed"
    },
    "tags": []
   },
   "outputs": [],
   "source": [
    "latest_date = pd.Timestamp.today().ceil('D')"
   ]
  },
  {
   "cell_type": "code",
   "execution_count": 3,
   "id": "10ec85d5",
   "metadata": {
    "execution": {
     "iopub.execute_input": "2023-08-03T16:30:06.716003Z",
     "iopub.status.busy": "2023-08-03T16:30:06.715803Z",
     "iopub.status.idle": "2023-08-03T16:30:06.723975Z",
     "shell.execute_reply": "2023-08-03T16:30:06.723633Z"
    },
    "papermill": {
     "duration": 0.010331,
     "end_time": "2023-08-03T16:30:06.724723",
     "exception": false,
     "start_time": "2023-08-03T16:30:06.714392",
     "status": "completed"
    },
    "tags": []
   },
   "outputs": [],
   "source": [
    "tickets = pd.read_csv('../../../../data/metrics/events/tickets/orders.csv', parse_dates=['created_at', 'event_date'])\n",
    "tickets = tickets[tickets.event_date <= latest_date]"
   ]
  },
  {
   "cell_type": "code",
   "execution_count": 4,
   "id": "ce3ac980",
   "metadata": {
    "execution": {
     "iopub.execute_input": "2023-08-03T16:30:06.727430Z",
     "iopub.status.busy": "2023-08-03T16:30:06.727289Z",
     "iopub.status.idle": "2023-08-03T16:30:06.798741Z",
     "shell.execute_reply": "2023-08-03T16:30:06.798287Z"
    },
    "papermill": {
     "duration": 0.073849,
     "end_time": "2023-08-03T16:30:06.799702",
     "exception": false,
     "start_time": "2023-08-03T16:30:06.725853",
     "status": "completed"
    },
    "tags": []
   },
   "outputs": [],
   "source": [
    "events = load_event_data()\n",
    "\n",
    "events = pd.concat([\n",
    "  events,\n",
    "  events.pipe(get_first_ward).pipe(normalise_ward).fillna('UNKNOWN'),\n",
    "  pd.Series(\n",
    "      events.actual_audience_size_number_of_participants_in_person + events.actual_audience_size_number_of_participants_online,\n",
    "      name='attendances'\n",
    "  )\n",
    "], axis=1).rename(columns={\n",
    "    'start_date': 'date'\n",
    "}).loc[:, ['ward_code', 'date', 'event_unique_identifier', 'attendances']]"
   ]
  },
  {
   "cell_type": "code",
   "execution_count": 5,
   "id": "a4ddcde8",
   "metadata": {
    "execution": {
     "iopub.execute_input": "2023-08-03T16:30:06.802553Z",
     "iopub.status.busy": "2023-08-03T16:30:06.802400Z",
     "iopub.status.idle": "2023-08-03T16:30:06.804326Z",
     "shell.execute_reply": "2023-08-03T16:30:06.804027Z"
    },
    "papermill": {
     "duration": 0.004192,
     "end_time": "2023-08-03T16:30:06.805069",
     "exception": false,
     "start_time": "2023-08-03T16:30:06.800877",
     "status": "completed"
    },
    "tags": []
   },
   "outputs": [],
   "source": [
    "OUTPUT_DIR='../../../../docs/metrics/events/signature/_data/'\n",
    "os.makedirs(OUTPUT_DIR, exist_ok=True)"
   ]
  },
  {
   "cell_type": "markdown",
   "id": "c1c8316b",
   "metadata": {
    "papermill": {
     "duration": 0.001142,
     "end_time": "2023-08-03T16:30:06.807280",
     "exception": false,
     "start_time": "2023-08-03T16:30:06.806138",
     "status": "completed"
    },
    "tags": []
   },
   "source": [
    "Events CSVs"
   ]
  },
  {
   "cell_type": "code",
   "execution_count": 6,
   "id": "d1b5cd9b",
   "metadata": {
    "execution": {
     "iopub.execute_input": "2023-08-03T16:30:06.809866Z",
     "iopub.status.busy": "2023-08-03T16:30:06.809653Z",
     "iopub.status.idle": "2023-08-03T16:30:06.813331Z",
     "shell.execute_reply": "2023-08-03T16:30:06.813015Z"
    },
    "papermill": {
     "duration": 0.005773,
     "end_time": "2023-08-03T16:30:06.814080",
     "exception": false,
     "start_time": "2023-08-03T16:30:06.808307",
     "status": "completed"
    },
    "tags": []
   },
   "outputs": [],
   "source": [
    "pd.DataFrame({\n",
    "  'events': events.groupby('ward_code').event_unique_identifier.count(),\n",
    "  'attendances': events.groupby('ward_code').attendances.sum().astype(int),\n",
    "}).to_csv(os.path.join(OUTPUT_DIR, 'events_by_ward.csv'))\n"
   ]
  },
  {
   "cell_type": "code",
   "execution_count": 7,
   "id": "66c129e4",
   "metadata": {
    "execution": {
     "iopub.execute_input": "2023-08-03T16:30:06.817039Z",
     "iopub.status.busy": "2023-08-03T16:30:06.816851Z",
     "iopub.status.idle": "2023-08-03T16:30:06.822824Z",
     "shell.execute_reply": "2023-08-03T16:30:06.822494Z"
    },
    "papermill": {
     "duration": 0.008187,
     "end_time": "2023-08-03T16:30:06.823467",
     "exception": false,
     "start_time": "2023-08-03T16:30:06.815280",
     "status": "completed"
    },
    "tags": []
   },
   "outputs": [],
   "source": [
    "pd.DataFrame({\n",
    "  'events': events.groupby('date').event_unique_identifier.count(),\n",
    "  'attendances': events.groupby('date').attendances.sum().astype(int),\n",
    "}).resample('M').sum().astype(int).to_csv(os.path.join(OUTPUT_DIR, 'events_by_date.csv'))"
   ]
  },
  {
   "cell_type": "markdown",
   "id": "2720e4ab",
   "metadata": {
    "papermill": {
     "duration": 0.001107,
     "end_time": "2023-08-03T16:30:06.825739",
     "exception": false,
     "start_time": "2023-08-03T16:30:06.824632",
     "status": "completed"
    },
    "tags": []
   },
   "source": [
    "Tickets CSV"
   ]
  },
  {
   "cell_type": "code",
   "execution_count": 8,
   "id": "341df08f",
   "metadata": {
    "execution": {
     "iopub.execute_input": "2023-08-03T16:30:06.828484Z",
     "iopub.status.busy": "2023-08-03T16:30:06.828337Z",
     "iopub.status.idle": "2023-08-03T16:30:06.832097Z",
     "shell.execute_reply": "2023-08-03T16:30:06.831782Z"
    },
    "papermill": {
     "duration": 0.005888,
     "end_time": "2023-08-03T16:30:06.832715",
     "exception": false,
     "start_time": "2023-08-03T16:30:06.826827",
     "status": "completed"
    },
    "tags": []
   },
   "outputs": [],
   "source": [
    "pd.DataFrame({\n",
    "  'orders': tickets.groupby('ward_code').number_of_tickets.count(),\n",
    "  'tickets': tickets.groupby('ward_code').number_of_tickets.sum().astype(int),\n",
    "}).to_csv(os.path.join(OUTPUT_DIR, 'tickets_by_ward.csv'))"
   ]
  },
  {
   "cell_type": "code",
   "execution_count": 9,
   "id": "cdec6161",
   "metadata": {
    "execution": {
     "iopub.execute_input": "2023-08-03T16:30:06.835532Z",
     "iopub.status.busy": "2023-08-03T16:30:06.835324Z",
     "iopub.status.idle": "2023-08-03T16:30:06.839803Z",
     "shell.execute_reply": "2023-08-03T16:30:06.839298Z"
    },
    "papermill": {
     "duration": 0.006575,
     "end_time": "2023-08-03T16:30:06.840429",
     "exception": false,
     "start_time": "2023-08-03T16:30:06.833854",
     "status": "completed"
    },
    "tags": []
   },
   "outputs": [],
   "source": [
    "pd.DataFrame({\n",
    "  'orders': tickets.groupby('event_date').number_of_tickets.count(),\n",
    "  'tickets': tickets.groupby('event_date').number_of_tickets.sum().astype(int),\n",
    "}).resample('M').sum().to_csv(os.path.join(OUTPUT_DIR, 'tickets_by_event_date.csv'))"
   ]
  },
  {
   "cell_type": "code",
   "execution_count": 10,
   "id": "0021386a",
   "metadata": {
    "execution": {
     "iopub.execute_input": "2023-08-03T16:30:06.843279Z",
     "iopub.status.busy": "2023-08-03T16:30:06.843075Z",
     "iopub.status.idle": "2023-08-03T16:30:06.845866Z",
     "shell.execute_reply": "2023-08-03T16:30:06.845551Z"
    },
    "papermill": {
     "duration": 0.004913,
     "end_time": "2023-08-03T16:30:06.846481",
     "exception": false,
     "start_time": "2023-08-03T16:30:06.841568",
     "status": "completed"
    },
    "tags": []
   },
   "outputs": [],
   "source": [
    "pd.Series({\n",
    "    'total_events': events.event_unique_identifier.count(),\n",
    "    'total_attendances': events.attendances.count(),\n",
    "    'first_event': events.date.min(),\n",
    "    'latest_event': events.date.max(),\n",
    "    'total_ticket_orders_for_events_to_date': tickets.number_of_tickets.count(),\n",
    "    'total_tickets_sold_for_events_to_date': tickets.number_of_tickets.sum(),\n",
    "}).to_json(os.path.join(OUTPUT_DIR, 'headlines.json'), indent=2)"
   ]
  },
  {
   "cell_type": "code",
   "execution_count": null,
   "id": "ad8d3039",
   "metadata": {
    "papermill": {
     "duration": 0.001077,
     "end_time": "2023-08-03T16:30:06.848703",
     "exception": false,
     "start_time": "2023-08-03T16:30:06.847626",
     "status": "completed"
    },
    "tags": []
   },
   "outputs": [],
   "source": []
  }
 ],
 "metadata": {
  "kernelspec": {
   "display_name": "leeds-2023-YZF5GfJv",
   "language": "python",
   "name": "python3"
  },
  "language_info": {
   "codemirror_mode": {
    "name": "ipython",
    "version": 3
   },
   "file_extension": ".py",
   "mimetype": "text/x-python",
   "name": "python",
   "nbconvert_exporter": "python",
   "pygments_lexer": "ipython3",
   "version": "3.10.12"
  },
  "papermill": {
   "default_parameters": {},
   "duration": 5.987879,
   "end_time": "2023-08-03T16:30:07.167042",
   "environment_variables": {},
   "exception": null,
   "input_path": "prepare.ipynb",
   "output_path": "../../../../working/output/signature-prepare.ipynb",
   "parameters": {},
   "start_time": "2023-08-03T16:30:01.179163",
   "version": "2.4.0"
  }
 },
 "nbformat": 4,
 "nbformat_minor": 5
}