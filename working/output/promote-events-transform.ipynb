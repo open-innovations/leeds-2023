{
 "cells": [
  {
   "cell_type": "code",
   "execution_count": 1,
   "id": "39744181",
   "metadata": {
    "execution": {
     "iopub.execute_input": "2023-11-13T23:37:48.396373Z",
     "iopub.status.busy": "2023-11-13T23:37:48.396151Z",
     "iopub.status.idle": "2023-11-13T23:37:48.652086Z",
     "shell.execute_reply": "2023-11-13T23:37:48.651517Z"
    },
    "papermill": {
     "duration": 0.260273,
     "end_time": "2023-11-13T23:37:48.653801",
     "exception": false,
     "start_time": "2023-11-13T23:37:48.393528",
     "status": "completed"
    },
    "tags": []
   },
   "outputs": [],
   "source": [
    "import os\n",
    "import pandas as pd"
   ]
  },
  {
   "cell_type": "code",
   "execution_count": 2,
   "id": "68ccfe37",
   "metadata": {
    "execution": {
     "iopub.execute_input": "2023-11-13T23:37:48.657437Z",
     "iopub.status.busy": "2023-11-13T23:37:48.657002Z",
     "iopub.status.idle": "2023-11-13T23:37:48.660285Z",
     "shell.execute_reply": "2023-11-13T23:37:48.659724Z"
    },
    "papermill": {
     "duration": 0.006332,
     "end_time": "2023-11-13T23:37:48.661537",
     "exception": false,
     "start_time": "2023-11-13T23:37:48.655205",
     "status": "completed"
    },
    "tags": []
   },
   "outputs": [],
   "source": [
    "EVENTS_RAW_DATA = '../../../working/metrics/promote-events/events.csv'\n",
    "DATA_DIR = '../../../data/metrics/events/promote-events/'\n",
    "EVENTS_DATA = os.path.join(DATA_DIR, 'events.csv')"
   ]
  },
  {
   "cell_type": "code",
   "execution_count": 3,
   "id": "c2cec9be",
   "metadata": {
    "execution": {
     "iopub.execute_input": "2023-11-13T23:37:48.664531Z",
     "iopub.status.busy": "2023-11-13T23:37:48.664178Z",
     "iopub.status.idle": "2023-11-13T23:37:48.667209Z",
     "shell.execute_reply": "2023-11-13T23:37:48.666655Z"
    },
    "papermill": {
     "duration": 0.005902,
     "end_time": "2023-11-13T23:37:48.668484",
     "exception": false,
     "start_time": "2023-11-13T23:37:48.662582",
     "status": "completed"
    },
    "tags": []
   },
   "outputs": [],
   "source": [
    "columns = {\n",
    "    'id': 'id',\n",
    "    'name': 'name',\n",
    "    'locationName': 'location',\n",
    "    'cardPrice': 'card_price',\n",
    "    'timeslots': 'time',\n",
    "    # 'displayOnWebsite': 'display',\n",
    "    'Stage': 'stage',\n",
    "}"
   ]
  },
  {
   "cell_type": "code",
   "execution_count": 4,
   "id": "bcd2210a",
   "metadata": {
    "execution": {
     "iopub.execute_input": "2023-11-13T23:37:48.671934Z",
     "iopub.status.busy": "2023-11-13T23:37:48.671541Z",
     "iopub.status.idle": "2023-11-13T23:37:48.680510Z",
     "shell.execute_reply": "2023-11-13T23:37:48.679985Z"
    },
    "papermill": {
     "duration": 0.011987,
     "end_time": "2023-11-13T23:37:48.681767",
     "exception": false,
     "start_time": "2023-11-13T23:37:48.669780",
     "status": "completed"
    },
    "tags": []
   },
   "outputs": [],
   "source": [
    "data = pd.read_csv(EVENTS_RAW_DATA)[columns.keys()].rename(columns=columns)\n",
    "data.time = pd.to_datetime(data.time, errors='coerce')"
   ]
  },
  {
   "cell_type": "code",
   "execution_count": 5,
   "id": "8810c811",
   "metadata": {
    "execution": {
     "iopub.execute_input": "2023-11-13T23:37:48.684924Z",
     "iopub.status.busy": "2023-11-13T23:37:48.684747Z",
     "iopub.status.idle": "2023-11-13T23:37:48.689396Z",
     "shell.execute_reply": "2023-11-13T23:37:48.688897Z"
    },
    "papermill": {
     "duration": 0.007715,
     "end_time": "2023-11-13T23:37:48.690659",
     "exception": false,
     "start_time": "2023-11-13T23:37:48.682944",
     "status": "completed"
    },
    "tags": []
   },
   "outputs": [],
   "source": [
    "data.to_csv(os.path.join(DATA_DIR, 'events.csv'), index=False)"
   ]
  }
 ],
 "metadata": {
  "kernelspec": {
   "display_name": "leeds-2023-YZF5GfJv",
   "language": "python",
   "name": "python3"
  },
  "language_info": {
   "codemirror_mode": {
    "name": "ipython",
    "version": 3
   },
   "file_extension": ".py",
   "mimetype": "text/x-python",
   "name": "python",
   "nbconvert_exporter": "python",
   "pygments_lexer": "ipython3",
   "version": "3.10.13"
  },
  "papermill": {
   "default_parameters": {},
   "duration": 1.751231,
   "end_time": "2023-11-13T23:37:48.907644",
   "environment_variables": {},
   "exception": null,
   "input_path": "transform.ipynb",
   "output_path": "../../../working/output/promote-events-transform.ipynb",
   "parameters": {},
   "start_time": "2023-11-13T23:37:47.156413",
   "version": "2.4.0"
  }
 },
 "nbformat": 4,
 "nbformat_minor": 5
}