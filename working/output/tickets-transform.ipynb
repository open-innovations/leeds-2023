{
 "cells": [
  {
   "cell_type": "code",
   "execution_count": 1,
   "id": "9c79467c",
   "metadata": {
    "execution": {
     "iopub.execute_input": "2023-12-31T23:39:31.041913Z",
     "iopub.status.busy": "2023-12-31T23:39:31.041715Z",
     "iopub.status.idle": "2023-12-31T23:39:31.278808Z",
     "shell.execute_reply": "2023-12-31T23:39:31.278265Z"
    },
    "papermill": {
     "duration": 0.242397,
     "end_time": "2023-12-31T23:39:31.280448",
     "exception": false,
     "start_time": "2023-12-31T23:39:31.038051",
     "status": "completed"
    },
    "tags": []
   },
   "outputs": [],
   "source": [
    "import sys\n",
    "from pathlib import Path\n",
    "\n",
    "import pandas as pd\n",
    "\n",
    "TOP_DIR = Path('../../../..').resolve()\n",
    "\n",
    "if str(TOP_DIR) not in sys.path: sys.path.append(str(TOP_DIR))"
   ]
  },
  {
   "cell_type": "code",
   "execution_count": 2,
   "id": "174c61fc",
   "metadata": {
    "execution": {
     "iopub.execute_input": "2023-12-31T23:39:31.286835Z",
     "iopub.status.busy": "2023-12-31T23:39:31.286391Z",
     "iopub.status.idle": "2023-12-31T23:39:38.070765Z",
     "shell.execute_reply": "2023-12-31T23:39:38.070126Z"
    },
    "papermill": {
     "duration": 6.789105,
     "end_time": "2023-12-31T23:39:38.072308",
     "exception": false,
     "start_time": "2023-12-31T23:39:31.283203",
     "status": "completed"
    },
    "tags": []
   },
   "outputs": [],
   "source": [
    "from lib.util.geo import postcode_formatter, postcode_to_ward_code"
   ]
  },
  {
   "cell_type": "code",
   "execution_count": 3,
   "id": "3ebb9e67",
   "metadata": {
    "execution": {
     "iopub.execute_input": "2023-12-31T23:39:38.078742Z",
     "iopub.status.busy": "2023-12-31T23:39:38.078406Z",
     "iopub.status.idle": "2023-12-31T23:39:38.101094Z",
     "shell.execute_reply": "2023-12-31T23:39:38.100432Z"
    },
    "papermill": {
     "duration": 0.027453,
     "end_time": "2023-12-31T23:39:38.102495",
     "exception": false,
     "start_time": "2023-12-31T23:39:38.075042",
     "status": "completed"
    },
    "tags": []
   },
   "outputs": [],
   "source": [
    "ticket_data = pd.read_csv(\n",
    "    '../../../../working/metrics/ticketing/orders.csv',\n",
    "    parse_dates=['created_at', 'event_date'],\n",
    "    usecols=[\n",
    "        'created_at',\n",
    "        'event_id',\n",
    "        'event_name',\n",
    "        'event_date',\n",
    "        'event_time',\n",
    "        'number_of_tickets',\n",
    "        'postcode_from_question',\n",
    "        'postcode_from_address',\n",
    "        'status',\n",
    "    ]\n",
    ")"
   ]
  },
  {
   "cell_type": "code",
   "execution_count": 4,
   "id": "5cd96f96",
   "metadata": {
    "execution": {
     "iopub.execute_input": "2023-12-31T23:39:38.108413Z",
     "iopub.status.busy": "2023-12-31T23:39:38.107936Z",
     "iopub.status.idle": "2023-12-31T23:39:38.116334Z",
     "shell.execute_reply": "2023-12-31T23:39:38.115793Z"
    },
    "papermill": {
     "duration": 0.012745,
     "end_time": "2023-12-31T23:39:38.117661",
     "exception": false,
     "start_time": "2023-12-31T23:39:38.104916",
     "status": "completed"
    },
    "tags": []
   },
   "outputs": [
    {
     "name": "stdout",
     "output_type": "stream",
     "text": [
      "<class 'pandas.core.frame.DataFrame'>\n",
      "RangeIndex: 7515 entries, 0 to 7514\n",
      "Data columns (total 9 columns):\n",
      " #   Column                  Non-Null Count  Dtype         \n",
      "---  ------                  --------------  -----         \n",
      " 0   postcode_from_question  6951 non-null   object        \n",
      " 1   postcode_from_address   875 non-null    object        \n",
      " 2   created_at              7515 non-null   datetime64[ns]\n",
      " 3   event_id                7515 non-null   object        \n",
      " 4   event_name              7515 non-null   object        \n",
      " 5   event_date              7515 non-null   datetime64[ns]\n",
      " 6   event_time              7515 non-null   object        \n",
      " 7   number_of_tickets       7515 non-null   int64         \n",
      " 8   status                  7515 non-null   object        \n",
      "dtypes: datetime64[ns](2), int64(1), object(6)\n",
      "memory usage: 528.5+ KB\n"
     ]
    }
   ],
   "source": [
    "ticket_data.info()"
   ]
  },
  {
   "cell_type": "code",
   "execution_count": 5,
   "id": "b0ba59f7",
   "metadata": {
    "execution": {
     "iopub.execute_input": "2023-12-31T23:39:38.123804Z",
     "iopub.status.busy": "2023-12-31T23:39:38.123444Z",
     "iopub.status.idle": "2023-12-31T23:39:38.128122Z",
     "shell.execute_reply": "2023-12-31T23:39:38.127628Z"
    },
    "papermill": {
     "duration": 0.00921,
     "end_time": "2023-12-31T23:39:38.129432",
     "exception": false,
     "start_time": "2023-12-31T23:39:38.120222",
     "status": "completed"
    },
    "tags": []
   },
   "outputs": [],
   "source": [
    "completed_orders = (\n",
    "    ticket_data.loc[\n",
    "        ~ticket_data.status.isin(['cancelled']),\n",
    "        ticket_data.columns\n",
    "    ]\n",
    ")"
   ]
  },
  {
   "cell_type": "code",
   "execution_count": 6,
   "id": "c86c55d1",
   "metadata": {
    "execution": {
     "iopub.execute_input": "2023-12-31T23:39:38.135620Z",
     "iopub.status.busy": "2023-12-31T23:39:38.135126Z",
     "iopub.status.idle": "2023-12-31T23:39:38.997716Z",
     "shell.execute_reply": "2023-12-31T23:39:38.997077Z"
    },
    "papermill": {
     "duration": 0.867391,
     "end_time": "2023-12-31T23:39:38.999339",
     "exception": false,
     "start_time": "2023-12-31T23:39:38.131948",
     "status": "completed"
    },
    "tags": []
   },
   "outputs": [],
   "source": [
    "completed_orders['ward_code'] = (\n",
    "    completed_orders\n",
    "        .loc[:, ['postcode_from_question', 'postcode_from_address']]\n",
    "        .bfill()\n",
    "        .iloc[:, 0]\n",
    "        .pipe(postcode_formatter)\n",
    "        .map(postcode_to_ward_code)\n",
    ")"
   ]
  },
  {
   "cell_type": "markdown",
   "id": "848dc8d7",
   "metadata": {
    "papermill": {
     "duration": 0.002657,
     "end_time": "2023-12-31T23:39:39.005771",
     "exception": false,
     "start_time": "2023-12-31T23:39:39.003114",
     "status": "completed"
    },
    "tags": []
   },
   "source": [
    "Get the events data"
   ]
  },
  {
   "cell_type": "code",
   "execution_count": 7,
   "id": "f5b9efdf",
   "metadata": {
    "execution": {
     "iopub.execute_input": "2023-12-31T23:39:39.012050Z",
     "iopub.status.busy": "2023-12-31T23:39:39.011641Z",
     "iopub.status.idle": "2023-12-31T23:39:39.027511Z",
     "shell.execute_reply": "2023-12-31T23:39:39.026974Z"
    },
    "papermill": {
     "duration": 0.020561,
     "end_time": "2023-12-31T23:39:39.028853",
     "exception": false,
     "start_time": "2023-12-31T23:39:39.008292",
     "status": "completed"
    },
    "tags": []
   },
   "outputs": [],
   "source": [
    "def prepare_events(data: pd.DataFrame):\n",
    "    data = data.rename(columns={\n",
    "        'Project name': 'project_name',\n",
    "        'Event type': 'event_type',\n",
    "        'Ticket Tailor ID': 'ticket_tailor_id'\n",
    "    })\n",
    "    data['public_event'] = data.event_type.str.contains('Public Event')\n",
    "    data['ticket_tailor_id'] = data.ticket_tailor_id.str.split(\n",
    "        pat=r'[\\s,]+', regex=True)\n",
    "    data = data.drop(columns=['event_type'])\n",
    "    data = data.explode('ticket_tailor_id')\n",
    "    data = data.loc[data.ticket_tailor_id.notna() & (data.ticket_tailor_id != '')]\n",
    "    return data\n",
    "\n",
    "\n",
    "events = pd.read_csv(\n",
    "    '../../../../working/metrics/events/all.csv',\n",
    "    usecols=[\n",
    "        'Project name',\n",
    "        'Event type',\n",
    "        'Ticket Tailor ID'\n",
    "    ]\n",
    ").pipe(prepare_events)"
   ]
  },
  {
   "cell_type": "markdown",
   "id": "dcedd0db",
   "metadata": {
    "papermill": {
     "duration": 0.002559,
     "end_time": "2023-12-31T23:39:39.034036",
     "exception": false,
     "start_time": "2023-12-31T23:39:39.031477",
     "status": "completed"
    },
    "tags": []
   },
   "source": [
    "Duplicated ticket tailor IDs"
   ]
  },
  {
   "cell_type": "code",
   "execution_count": 8,
   "id": "bfa27f37",
   "metadata": {
    "execution": {
     "iopub.execute_input": "2023-12-31T23:39:39.040255Z",
     "iopub.status.busy": "2023-12-31T23:39:39.039854Z",
     "iopub.status.idle": "2023-12-31T23:39:39.050859Z",
     "shell.execute_reply": "2023-12-31T23:39:39.050266Z"
    },
    "papermill": {
     "duration": 0.015566,
     "end_time": "2023-12-31T23:39:39.052157",
     "exception": false,
     "start_time": "2023-12-31T23:39:39.036591",
     "status": "completed"
    },
    "tags": []
   },
   "outputs": [
    {
     "data": {
      "text/html": [
       "<div>\n",
       "<style scoped>\n",
       "    .dataframe tbody tr th:only-of-type {\n",
       "        vertical-align: middle;\n",
       "    }\n",
       "\n",
       "    .dataframe tbody tr th {\n",
       "        vertical-align: top;\n",
       "    }\n",
       "\n",
       "    .dataframe thead th {\n",
       "        text-align: right;\n",
       "    }\n",
       "</style>\n",
       "<table border=\"1\" class=\"dataframe\">\n",
       "  <thead>\n",
       "    <tr style=\"text-align: right;\">\n",
       "      <th></th>\n",
       "      <th>project_name</th>\n",
       "      <th>ticket_tailor_id</th>\n",
       "      <th>public_event</th>\n",
       "    </tr>\n",
       "  </thead>\n",
       "  <tbody>\n",
       "    <tr>\n",
       "      <th>127</th>\n",
       "      <td>11 - All That Lives</td>\n",
       "      <td>985872</td>\n",
       "      <td>True</td>\n",
       "    </tr>\n",
       "    <tr>\n",
       "      <th>147</th>\n",
       "      <td>09 - Smeaton300: Moon Palace East Leeds Observ...</td>\n",
       "      <td>ev_2918127</td>\n",
       "      <td>True</td>\n",
       "    </tr>\n",
       "    <tr>\n",
       "      <th>173</th>\n",
       "      <td>11 - All That Lives</td>\n",
       "      <td>985872</td>\n",
       "      <td>True</td>\n",
       "    </tr>\n",
       "    <tr>\n",
       "      <th>272</th>\n",
       "      <td>Creative Learning S3</td>\n",
       "      <td>ev_3073624</td>\n",
       "      <td>False</td>\n",
       "    </tr>\n",
       "    <tr>\n",
       "      <th>332</th>\n",
       "      <td>11 - All That Lives</td>\n",
       "      <td>985872</td>\n",
       "      <td>True</td>\n",
       "    </tr>\n",
       "    <tr>\n",
       "      <th>651</th>\n",
       "      <td>11 - All That Lives</td>\n",
       "      <td>985872</td>\n",
       "      <td>True</td>\n",
       "    </tr>\n",
       "    <tr>\n",
       "      <th>948</th>\n",
       "      <td>07 - Children's Day</td>\n",
       "      <td>ev_2963290</td>\n",
       "      <td>NaN</td>\n",
       "    </tr>\n",
       "    <tr>\n",
       "      <th>948</th>\n",
       "      <td>07 - Children's Day</td>\n",
       "      <td>ev_2963290</td>\n",
       "      <td>NaN</td>\n",
       "    </tr>\n",
       "    <tr>\n",
       "      <th>948</th>\n",
       "      <td>07 - Children's Day</td>\n",
       "      <td>ev_2963295</td>\n",
       "      <td>NaN</td>\n",
       "    </tr>\n",
       "    <tr>\n",
       "      <th>948</th>\n",
       "      <td>07 - Children's Day</td>\n",
       "      <td>ev_2963297</td>\n",
       "      <td>NaN</td>\n",
       "    </tr>\n",
       "    <tr>\n",
       "      <th>948</th>\n",
       "      <td>07 - Children's Day</td>\n",
       "      <td>ev_2963295</td>\n",
       "      <td>NaN</td>\n",
       "    </tr>\n",
       "    <tr>\n",
       "      <th>948</th>\n",
       "      <td>07 - Children's Day</td>\n",
       "      <td>ev_2963296</td>\n",
       "      <td>NaN</td>\n",
       "    </tr>\n",
       "    <tr>\n",
       "      <th>948</th>\n",
       "      <td>07 - Children's Day</td>\n",
       "      <td>ev_2963296</td>\n",
       "      <td>NaN</td>\n",
       "    </tr>\n",
       "    <tr>\n",
       "      <th>948</th>\n",
       "      <td>07 - Children's Day</td>\n",
       "      <td>ev_2963297</td>\n",
       "      <td>NaN</td>\n",
       "    </tr>\n",
       "    <tr>\n",
       "      <th>992</th>\n",
       "      <td>11 - All That Lives</td>\n",
       "      <td>985872</td>\n",
       "      <td>True</td>\n",
       "    </tr>\n",
       "    <tr>\n",
       "      <th>1172</th>\n",
       "      <td>09 - Smeaton300: Moon Palace East Leeds Observ...</td>\n",
       "      <td>ev_2918127</td>\n",
       "      <td>True</td>\n",
       "    </tr>\n",
       "    <tr>\n",
       "      <th>1462</th>\n",
       "      <td>07 - Children's Day</td>\n",
       "      <td>ev_2963290</td>\n",
       "      <td>True</td>\n",
       "    </tr>\n",
       "    <tr>\n",
       "      <th>1462</th>\n",
       "      <td>07 - Children's Day</td>\n",
       "      <td>ev_2963295</td>\n",
       "      <td>True</td>\n",
       "    </tr>\n",
       "    <tr>\n",
       "      <th>1462</th>\n",
       "      <td>07 - Children's Day</td>\n",
       "      <td>ev_2963296</td>\n",
       "      <td>True</td>\n",
       "    </tr>\n",
       "    <tr>\n",
       "      <th>1462</th>\n",
       "      <td>07 - Children's Day</td>\n",
       "      <td>ev_2963297</td>\n",
       "      <td>True</td>\n",
       "    </tr>\n",
       "    <tr>\n",
       "      <th>1482</th>\n",
       "      <td>09 - Smeaton300: Moon Palace East Leeds Observ...</td>\n",
       "      <td>ev_2918127</td>\n",
       "      <td>True</td>\n",
       "    </tr>\n",
       "    <tr>\n",
       "      <th>1567</th>\n",
       "      <td>Creative Learning S3</td>\n",
       "      <td>ev_3073624</td>\n",
       "      <td>False</td>\n",
       "    </tr>\n",
       "  </tbody>\n",
       "</table>\n",
       "</div>"
      ],
      "text/plain": [
       "                                           project_name ticket_tailor_id  \\\n",
       "127                                 11 - All That Lives           985872   \n",
       "147   09 - Smeaton300: Moon Palace East Leeds Observ...       ev_2918127   \n",
       "173                                 11 - All That Lives           985872   \n",
       "272                                Creative Learning S3       ev_3073624   \n",
       "332                                 11 - All That Lives           985872   \n",
       "651                                 11 - All That Lives           985872   \n",
       "948                                 07 - Children's Day       ev_2963290   \n",
       "948                                 07 - Children's Day       ev_2963290   \n",
       "948                                 07 - Children's Day       ev_2963295   \n",
       "948                                 07 - Children's Day       ev_2963297   \n",
       "948                                 07 - Children's Day       ev_2963295   \n",
       "948                                 07 - Children's Day       ev_2963296   \n",
       "948                                 07 - Children's Day       ev_2963296   \n",
       "948                                 07 - Children's Day       ev_2963297   \n",
       "992                                 11 - All That Lives           985872   \n",
       "1172  09 - Smeaton300: Moon Palace East Leeds Observ...       ev_2918127   \n",
       "1462                                07 - Children's Day       ev_2963290   \n",
       "1462                                07 - Children's Day       ev_2963295   \n",
       "1462                                07 - Children's Day       ev_2963296   \n",
       "1462                                07 - Children's Day       ev_2963297   \n",
       "1482  09 - Smeaton300: Moon Palace East Leeds Observ...       ev_2918127   \n",
       "1567                               Creative Learning S3       ev_3073624   \n",
       "\n",
       "     public_event  \n",
       "127          True  \n",
       "147          True  \n",
       "173          True  \n",
       "272         False  \n",
       "332          True  \n",
       "651          True  \n",
       "948           NaN  \n",
       "948           NaN  \n",
       "948           NaN  \n",
       "948           NaN  \n",
       "948           NaN  \n",
       "948           NaN  \n",
       "948           NaN  \n",
       "948           NaN  \n",
       "992          True  \n",
       "1172         True  \n",
       "1462         True  \n",
       "1462         True  \n",
       "1462         True  \n",
       "1462         True  \n",
       "1482         True  \n",
       "1567        False  "
      ]
     },
     "execution_count": 8,
     "metadata": {},
     "output_type": "execute_result"
    }
   ],
   "source": [
    "events[\n",
    "  events.ticket_tailor_id.isin(\n",
    "    events.ticket_tailor_id[\n",
    "      events.ticket_tailor_id.duplicated()\n",
    "    ].to_list()\n",
    "  )\n",
    "]"
   ]
  },
  {
   "cell_type": "code",
   "execution_count": 9,
   "id": "20d176e3",
   "metadata": {
    "execution": {
     "iopub.execute_input": "2023-12-31T23:39:39.058875Z",
     "iopub.status.busy": "2023-12-31T23:39:39.058514Z",
     "iopub.status.idle": "2023-12-31T23:39:39.062395Z",
     "shell.execute_reply": "2023-12-31T23:39:39.061803Z"
    },
    "papermill": {
     "duration": 0.00852,
     "end_time": "2023-12-31T23:39:39.063579",
     "exception": false,
     "start_time": "2023-12-31T23:39:39.055059",
     "status": "completed"
    },
    "tags": []
   },
   "outputs": [
    {
     "data": {
      "text/plain": [
       "7293"
      ]
     },
     "execution_count": 9,
     "metadata": {},
     "output_type": "execute_result"
    }
   ],
   "source": [
    "len(completed_orders)"
   ]
  },
  {
   "cell_type": "code",
   "execution_count": 10,
   "id": "ab542a8f",
   "metadata": {
    "execution": {
     "iopub.execute_input": "2023-12-31T23:39:39.070339Z",
     "iopub.status.busy": "2023-12-31T23:39:39.069986Z",
     "iopub.status.idle": "2023-12-31T23:39:39.084467Z",
     "shell.execute_reply": "2023-12-31T23:39:39.083818Z"
    },
    "papermill": {
     "duration": 0.019343,
     "end_time": "2023-12-31T23:39:39.085854",
     "exception": false,
     "start_time": "2023-12-31T23:39:39.066511",
     "status": "completed"
    },
    "tags": []
   },
   "outputs": [],
   "source": [
    "completed_orders = completed_orders.merge(\n",
    "    events.drop_duplicates().set_index('ticket_tailor_id'),\n",
    "    left_on='event_id',\n",
    "    right_index=True,\n",
    "    how='left'\n",
    ")\n",
    "completed_orders['event_datetime'] = pd.to_datetime(completed_orders.event_date.astype(str) + 'T' + completed_orders.event_time)\n"
   ]
  },
  {
   "cell_type": "code",
   "execution_count": 11,
   "id": "684ffd1f",
   "metadata": {
    "execution": {
     "iopub.execute_input": "2023-12-31T23:39:39.092787Z",
     "iopub.status.busy": "2023-12-31T23:39:39.092418Z",
     "iopub.status.idle": "2023-12-31T23:39:39.096360Z",
     "shell.execute_reply": "2023-12-31T23:39:39.095752Z"
    },
    "papermill": {
     "duration": 0.008709,
     "end_time": "2023-12-31T23:39:39.097621",
     "exception": false,
     "start_time": "2023-12-31T23:39:39.088912",
     "status": "completed"
    },
    "tags": []
   },
   "outputs": [
    {
     "data": {
      "text/plain": [
       "7301"
      ]
     },
     "execution_count": 11,
     "metadata": {},
     "output_type": "execute_result"
    }
   ],
   "source": [
    "len(completed_orders)"
   ]
  },
  {
   "cell_type": "code",
   "execution_count": 12,
   "id": "eba7740e",
   "metadata": {
    "execution": {
     "iopub.execute_input": "2023-12-31T23:39:39.104728Z",
     "iopub.status.busy": "2023-12-31T23:39:39.104351Z",
     "iopub.status.idle": "2023-12-31T23:39:39.107516Z",
     "shell.execute_reply": "2023-12-31T23:39:39.106977Z"
    },
    "papermill": {
     "duration": 0.008105,
     "end_time": "2023-12-31T23:39:39.108759",
     "exception": false,
     "start_time": "2023-12-31T23:39:39.100654",
     "status": "completed"
    },
    "tags": []
   },
   "outputs": [],
   "source": [
    "OUTPUT_DIR = TOP_DIR.joinpath('data/metrics/events/tickets/')\n",
    "OUTPUT_DIR.mkdir(parents=True, exist_ok=True)"
   ]
  },
  {
   "cell_type": "code",
   "execution_count": 13,
   "id": "91e3d01d",
   "metadata": {
    "execution": {
     "iopub.execute_input": "2023-12-31T23:39:39.116226Z",
     "iopub.status.busy": "2023-12-31T23:39:39.115841Z",
     "iopub.status.idle": "2023-12-31T23:39:39.152978Z",
     "shell.execute_reply": "2023-12-31T23:39:39.152355Z"
    },
    "papermill": {
     "duration": 0.042282,
     "end_time": "2023-12-31T23:39:39.154279",
     "exception": false,
     "start_time": "2023-12-31T23:39:39.111997",
     "status": "completed"
    },
    "tags": []
   },
   "outputs": [],
   "source": [
    "completed_orders.loc[:, [\n",
    "    'created_at',\n",
    "    'event_id',\n",
    "    'event_date',\n",
    "    'event_datetime',\n",
    "    'number_of_tickets',\n",
    "    'ward_code',\n",
    "    'project_name',\n",
    "    'public_event',\n",
    "]].sort_values(['created_at', 'event_id']).to_csv(\n",
    "  OUTPUT_DIR.joinpath('orders.csv'),\n",
    "  index=False\n",
    ")"
   ]
  },
  {
   "cell_type": "code",
   "execution_count": 14,
   "id": "ad4c19c6",
   "metadata": {
    "execution": {
     "iopub.execute_input": "2023-12-31T23:39:39.161678Z",
     "iopub.status.busy": "2023-12-31T23:39:39.161120Z",
     "iopub.status.idle": "2023-12-31T23:39:39.169823Z",
     "shell.execute_reply": "2023-12-31T23:39:39.169206Z"
    },
    "papermill": {
     "duration": 0.0138,
     "end_time": "2023-12-31T23:39:39.171183",
     "exception": false,
     "start_time": "2023-12-31T23:39:39.157383",
     "status": "completed"
    },
    "tags": []
   },
   "outputs": [],
   "source": [
    "(\n",
    "    completed_orders.loc[:, ['event_date', 'event_time', 'event_name', 'event_id', 'project_name', 'public_event']]\n",
    "      .drop_duplicates()\n",
    "      .sort_values(['event_date', 'event_time'])\n",
    "      .to_csv('../../../../data/metrics/events/tickets/events.csv', index=False)\n",
    ")"
   ]
  },
  {
   "cell_type": "code",
   "execution_count": 15,
   "id": "9af63d9d",
   "metadata": {
    "execution": {
     "iopub.execute_input": "2023-12-31T23:39:39.178289Z",
     "iopub.status.busy": "2023-12-31T23:39:39.177950Z",
     "iopub.status.idle": "2023-12-31T23:39:41.507783Z",
     "shell.execute_reply": "2023-12-31T23:39:41.507079Z"
    },
    "papermill": {
     "duration": 2.33499,
     "end_time": "2023-12-31T23:39:41.509285",
     "exception": false,
     "start_time": "2023-12-31T23:39:39.174295",
     "status": "completed"
    },
    "tags": []
   },
   "outputs": [
    {
     "data": {
      "image/png": "[encoded data removed]",
      "text/plain": [
       "<Figure size 640x480 with 1 Axes>"
      ]
     },
     "metadata": {},
     "output_type": "display_data"
    }
   ],
   "source": [
    "chart = completed_orders.groupby(['project_name']).number_of_tickets.sum().sort_values().plot.barh()"
   ]
  },
  {
   "cell_type": "code",
   "execution_count": 16,
   "id": "630f3a54",
   "metadata": {
    "execution": {
     "iopub.execute_input": "2023-12-31T23:39:41.518115Z",
     "iopub.status.busy": "2023-12-31T23:39:41.517647Z",
     "iopub.status.idle": "2023-12-31T23:39:41.699649Z",
     "shell.execute_reply": "2023-12-31T23:39:41.699086Z"
    },
    "papermill": {
     "duration": 0.187763,
     "end_time": "2023-12-31T23:39:41.700991",
     "exception": false,
     "start_time": "2023-12-31T23:39:41.513228",
     "status": "completed"
    },
    "tags": []
   },
   "outputs": [
    {
     "data": {
      "image/png": "[encoded data removed]",
      "text/plain": [
       "<Figure size 640x480 with 1 Axes>"
      ]
     },
     "metadata": {},
     "output_type": "display_data"
    }
   ],
   "source": [
    "chart = completed_orders.groupby([\n",
    "    'event_date'\n",
    "    ]).number_of_tickets.sum().resample('M').sum().cumsum().plot.bar()"
   ]
  },
  {
   "cell_type": "code",
   "execution_count": null,
   "id": "3e857244",
   "metadata": {
    "papermill": {
     "duration": 0.004159,
     "end_time": "2023-12-31T23:39:41.709400",
     "exception": false,
     "start_time": "2023-12-31T23:39:41.705241",
     "status": "completed"
    },
    "tags": []
   },
   "outputs": [],
   "source": []
  }
 ],
 "metadata": {
  "kernelspec": {
   "display_name": "leeds-2023-YZF5GfJv",
   "language": "python",
   "name": "python3"
  },
  "language_info": {
   "codemirror_mode": {
    "name": "ipython",
    "version": 3
   },
   "file_extension": ".py",
   "mimetype": "text/x-python",
   "name": "python",
   "nbconvert_exporter": "python",
   "pygments_lexer": "ipython3",
   "version": "3.10.13"
  },
  "papermill": {
   "default_parameters": {},
   "duration": 12.76052,
   "end_time": "2023-12-31T23:39:42.029500",
   "environment_variables": {},
   "exception": null,
   "input_path": "tickets.ipynb",
   "output_path": "../../../../working/output/tickets-transform.ipynb",
   "parameters": {},
   "start_time": "2023-12-31T23:39:29.268980",
   "version": "2.4.0"
  }
 },
 "nbformat": 4,
 "nbformat_minor": 5
}