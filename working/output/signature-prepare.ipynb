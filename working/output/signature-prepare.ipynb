{
 "cells": [
  {
   "cell_type": "code",
   "execution_count": 1,
   "id": "6dd04a67",
   "metadata": {
    "execution": {
     "iopub.execute_input": "2023-08-25T23:39:07.153574Z",
     "iopub.status.busy": "2023-08-25T23:39:07.152786Z",
     "iopub.status.idle": "2023-08-25T23:39:17.462198Z",
     "shell.execute_reply": "2023-08-25T23:39:17.461444Z"
    },
    "papermill": {
     "duration": 10.316353,
     "end_time": "2023-08-25T23:39:17.464662",
     "exception": false,
     "start_time": "2023-08-25T23:39:07.148309",
     "status": "completed"
    },
    "tags": []
   },
   "outputs": [],
   "source": [
    "import os\n",
    "import pandas as pd\n",
    "from events import load_event_data, get_first_ward, normalise_ward"
   ]
  },
  {
   "cell_type": "code",
   "execution_count": 2,
   "id": "275f8c76",
   "metadata": {
    "execution": {
     "iopub.execute_input": "2023-08-25T23:39:17.470901Z",
     "iopub.status.busy": "2023-08-25T23:39:17.470248Z",
     "iopub.status.idle": "2023-08-25T23:39:17.475496Z",
     "shell.execute_reply": "2023-08-25T23:39:17.474791Z"
    },
    "papermill": {
     "duration": 0.009928,
     "end_time": "2023-08-25T23:39:17.477046",
     "exception": false,
     "start_time": "2023-08-25T23:39:17.467118",
     "status": "completed"
    },
    "tags": []
   },
   "outputs": [],
   "source": [
    "latest_date = pd.Timestamp.today().ceil('D')"
   ]
  },
  {
   "cell_type": "code",
   "execution_count": 3,
   "id": "cc37edc9",
   "metadata": {
    "execution": {
     "iopub.execute_input": "2023-08-25T23:39:17.482253Z",
     "iopub.status.busy": "2023-08-25T23:39:17.481885Z",
     "iopub.status.idle": "2023-08-25T23:39:17.499130Z",
     "shell.execute_reply": "2023-08-25T23:39:17.498522Z"
    },
    "papermill": {
     "duration": 0.022102,
     "end_time": "2023-08-25T23:39:17.501107",
     "exception": false,
     "start_time": "2023-08-25T23:39:17.479005",
     "status": "completed"
    },
    "tags": []
   },
   "outputs": [],
   "source": [
    "tickets = pd.read_csv('../../../../data/metrics/events/tickets/orders.csv', parse_dates=['created_at', 'event_date'])\n",
    "tickets = tickets[tickets.event_date <= latest_date]"
   ]
  },
  {
   "cell_type": "code",
   "execution_count": 4,
   "id": "1a2a933d",
   "metadata": {
    "execution": {
     "iopub.execute_input": "2023-08-25T23:39:17.507257Z",
     "iopub.status.busy": "2023-08-25T23:39:17.506567Z",
     "iopub.status.idle": "2023-08-25T23:39:17.681135Z",
     "shell.execute_reply": "2023-08-25T23:39:17.680410Z"
    },
    "papermill": {
     "duration": 0.179634,
     "end_time": "2023-08-25T23:39:17.683106",
     "exception": false,
     "start_time": "2023-08-25T23:39:17.503472",
     "status": "completed"
    },
    "tags": []
   },
   "outputs": [],
   "source": [
    "events = load_event_data()\n",
    "\n",
    "events = pd.concat([\n",
    "  events,\n",
    "  events.pipe(get_first_ward).pipe(normalise_ward).fillna('UNKNOWN'),\n",
    "  pd.Series(\n",
    "      events.actual_audience_size_number_of_participants_in_person + events.actual_audience_size_number_of_participants_online,\n",
    "      name='attendances'\n",
    "  )\n",
    "], axis=1).rename(columns={\n",
    "    'start_date': 'date'\n",
    "}).loc[:, ['ward_code', 'date', 'event_unique_identifier', 'attendances']]"
   ]
  },
  {
   "cell_type": "code",
   "execution_count": 5,
   "id": "99d57408",
   "metadata": {
    "execution": {
     "iopub.execute_input": "2023-08-25T23:39:17.690278Z",
     "iopub.status.busy": "2023-08-25T23:39:17.689613Z",
     "iopub.status.idle": "2023-08-25T23:39:17.693736Z",
     "shell.execute_reply": "2023-08-25T23:39:17.693105Z"
    },
    "papermill": {
     "duration": 0.009395,
     "end_time": "2023-08-25T23:39:17.695257",
     "exception": false,
     "start_time": "2023-08-25T23:39:17.685862",
     "status": "completed"
    },
    "tags": []
   },
   "outputs": [],
   "source": [
    "OUTPUT_DIR='../../../../docs/metrics/events/signature/_data/'\n",
    "os.makedirs(OUTPUT_DIR, exist_ok=True)"
   ]
  },
  {
   "cell_type": "markdown",
   "id": "191fc3ba",
   "metadata": {
    "papermill": {
     "duration": 0.002055,
     "end_time": "2023-08-25T23:39:17.699387",
     "exception": false,
     "start_time": "2023-08-25T23:39:17.697332",
     "status": "completed"
    },
    "tags": []
   },
   "source": [
    "Events CSVs"
   ]
  },
  {
   "cell_type": "code",
   "execution_count": 6,
   "id": "aaa7a05a",
   "metadata": {
    "execution": {
     "iopub.execute_input": "2023-08-25T23:39:17.704659Z",
     "iopub.status.busy": "2023-08-25T23:39:17.704215Z",
     "iopub.status.idle": "2023-08-25T23:39:17.711189Z",
     "shell.execute_reply": "2023-08-25T23:39:17.710576Z"
    },
    "papermill": {
     "duration": 0.011316,
     "end_time": "2023-08-25T23:39:17.712740",
     "exception": false,
     "start_time": "2023-08-25T23:39:17.701424",
     "status": "completed"
    },
    "tags": []
   },
   "outputs": [],
   "source": [
    "pd.DataFrame({\n",
    "  'events': events.groupby('ward_code').event_unique_identifier.count(),\n",
    "  'attendances': events.groupby('ward_code').attendances.sum().astype(int),\n",
    "}).to_csv(os.path.join(OUTPUT_DIR, 'events_by_ward.csv'))\n"
   ]
  },
  {
   "cell_type": "code",
   "execution_count": 7,
   "id": "af418540",
   "metadata": {
    "execution": {
     "iopub.execute_input": "2023-08-25T23:39:17.718054Z",
     "iopub.status.busy": "2023-08-25T23:39:17.717714Z",
     "iopub.status.idle": "2023-08-25T23:39:17.728438Z",
     "shell.execute_reply": "2023-08-25T23:39:17.727843Z"
    },
    "papermill": {
     "duration": 0.015211,
     "end_time": "2023-08-25T23:39:17.730029",
     "exception": false,
     "start_time": "2023-08-25T23:39:17.714818",
     "status": "completed"
    },
    "tags": []
   },
   "outputs": [],
   "source": [
    "pd.DataFrame({\n",
    "  'events': events.groupby('date').event_unique_identifier.count(),\n",
    "  'attendances': events.groupby('date').attendances.sum().astype(int),\n",
    "}).resample('M').sum().astype(int).to_csv(os.path.join(OUTPUT_DIR, 'events_by_date.csv'))"
   ]
  },
  {
   "cell_type": "markdown",
   "id": "1656f0bf",
   "metadata": {
    "papermill": {
     "duration": 0.002172,
     "end_time": "2023-08-25T23:39:17.734363",
     "exception": false,
     "start_time": "2023-08-25T23:39:17.732191",
     "status": "completed"
    },
    "tags": []
   },
   "source": [
    "Tickets CSV"
   ]
  },
  {
   "cell_type": "code",
   "execution_count": 8,
   "id": "a37ff08a",
   "metadata": {
    "execution": {
     "iopub.execute_input": "2023-08-25T23:39:17.740091Z",
     "iopub.status.busy": "2023-08-25T23:39:17.739376Z",
     "iopub.status.idle": "2023-08-25T23:39:17.746286Z",
     "shell.execute_reply": "2023-08-25T23:39:17.745717Z"
    },
    "papermill": {
     "duration": 0.011284,
     "end_time": "2023-08-25T23:39:17.747752",
     "exception": false,
     "start_time": "2023-08-25T23:39:17.736468",
     "status": "completed"
    },
    "tags": []
   },
   "outputs": [],
   "source": [
    "pd.DataFrame({\n",
    "  'orders': tickets.groupby('ward_code').number_of_tickets.count(),\n",
    "  'tickets': tickets.groupby('ward_code').number_of_tickets.sum().astype(int),\n",
    "}).to_csv(os.path.join(OUTPUT_DIR, 'tickets_by_ward.csv'))"
   ]
  },
  {
   "cell_type": "code",
   "execution_count": 9,
   "id": "64e37a90",
   "metadata": {
    "execution": {
     "iopub.execute_input": "2023-08-25T23:39:17.753695Z",
     "iopub.status.busy": "2023-08-25T23:39:17.752957Z",
     "iopub.status.idle": "2023-08-25T23:39:17.761740Z",
     "shell.execute_reply": "2023-08-25T23:39:17.761141Z"
    },
    "papermill": {
     "duration": 0.013477,
     "end_time": "2023-08-25T23:39:17.763442",
     "exception": false,
     "start_time": "2023-08-25T23:39:17.749965",
     "status": "completed"
    },
    "tags": []
   },
   "outputs": [],
   "source": [
    "pd.DataFrame({\n",
    "  'orders': tickets.groupby('event_date').number_of_tickets.count(),\n",
    "  'tickets': tickets.groupby('event_date').number_of_tickets.sum().astype(int),\n",
    "}).resample('M').sum().to_csv(os.path.join(OUTPUT_DIR, 'tickets_by_event_date.csv'))"
   ]
  },
  {
   "cell_type": "code",
   "execution_count": 10,
   "id": "88b852c1",
   "metadata": {
    "execution": {
     "iopub.execute_input": "2023-08-25T23:39:17.770331Z",
     "iopub.status.busy": "2023-08-25T23:39:17.769997Z",
     "iopub.status.idle": "2023-08-25T23:39:17.775275Z",
     "shell.execute_reply": "2023-08-25T23:39:17.774631Z"
    },
    "papermill": {
     "duration": 0.01104,
     "end_time": "2023-08-25T23:39:17.776822",
     "exception": false,
     "start_time": "2023-08-25T23:39:17.765782",
     "status": "completed"
    },
    "tags": []
   },
   "outputs": [],
   "source": [
    "pd.Series({\n",
    "    'total_events': events.event_unique_identifier.count(),\n",
    "    'total_attendances': events.attendances.count(),\n",
    "    'first_event': events.date.min(),\n",
    "    'latest_event': events.date.max(),\n",
    "    'total_ticket_orders_for_events_to_date': tickets.number_of_tickets.count(),\n",
    "    'total_tickets_sold_for_events_to_date': tickets.number_of_tickets.sum(),\n",
    "}).to_json(os.path.join(OUTPUT_DIR, 'headlines.json'), indent=2)"
   ]
  },
  {
   "cell_type": "code",
   "execution_count": null,
   "id": "bdf0f0ed",
   "metadata": {
    "papermill": {
     "duration": 0.002184,
     "end_time": "2023-08-25T23:39:17.781206",
     "exception": false,
     "start_time": "2023-08-25T23:39:17.779022",
     "status": "completed"
    },
    "tags": []
   },
   "outputs": [],
   "source": []
  }
 ],
 "metadata": {
  "kernelspec": {
   "display_name": "leeds-2023-YZF5GfJv",
   "language": "python",
   "name": "python3"
  },
  "language_info": {
   "codemirror_mode": {
    "name": "ipython",
    "version": 3
   },
   "file_extension": ".py",
   "mimetype": "text/x-python",
   "name": "python",
   "nbconvert_exporter": "python",
   "pygments_lexer": "ipython3",
   "version": "3.10.12"
  },
  "papermill": {
   "default_parameters": {},
   "duration": 12.446966,
   "end_time": "2023-08-25T23:39:18.200584",
   "environment_variables": {},
   "exception": null,
   "input_path": "prepare.ipynb",
   "output_path": "../../../../working/output/signature-prepare.ipynb",
   "parameters": {},
   "start_time": "2023-08-25T23:39:05.753618",
   "version": "2.4.0"
  }
 },
 "nbformat": 4,
 "nbformat_minor": 5
}