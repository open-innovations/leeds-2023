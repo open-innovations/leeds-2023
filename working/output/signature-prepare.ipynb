{
 "cells": [
  {
   "cell_type": "code",
   "execution_count": 1,
   "id": "87de7470",
   "metadata": {
    "execution": {
     "iopub.execute_input": "2023-12-22T12:49:24.237673Z",
     "iopub.status.busy": "2023-12-22T12:49:24.237497Z",
     "iopub.status.idle": "2023-12-22T12:49:31.334770Z",
     "shell.execute_reply": "2023-12-22T12:49:31.334108Z"
    },
    "papermill": {
     "duration": 7.102151,
     "end_time": "2023-12-22T12:49:31.336451",
     "exception": false,
     "start_time": "2023-12-22T12:49:24.234300",
     "status": "completed"
    },
    "tags": []
   },
   "outputs": [],
   "source": [
    "import os\n",
    "import pandas as pd\n",
    "from events import load_event_data, get_first_ward, normalise_ward"
   ]
  },
  {
   "cell_type": "code",
   "execution_count": 2,
   "id": "96a49221",
   "metadata": {
    "execution": {
     "iopub.execute_input": "2023-12-22T12:49:31.341726Z",
     "iopub.status.busy": "2023-12-22T12:49:31.341244Z",
     "iopub.status.idle": "2023-12-22T12:49:31.345356Z",
     "shell.execute_reply": "2023-12-22T12:49:31.344756Z"
    },
    "papermill": {
     "duration": 0.007986,
     "end_time": "2023-12-22T12:49:31.346659",
     "exception": false,
     "start_time": "2023-12-22T12:49:31.338673",
     "status": "completed"
    },
    "tags": []
   },
   "outputs": [],
   "source": [
    "latest_date = pd.Timestamp.today().ceil('D')"
   ]
  },
  {
   "cell_type": "code",
   "execution_count": 3,
   "id": "92a192fb",
   "metadata": {
    "execution": {
     "iopub.execute_input": "2023-12-22T12:49:31.351415Z",
     "iopub.status.busy": "2023-12-22T12:49:31.351003Z",
     "iopub.status.idle": "2023-12-22T12:49:31.368689Z",
     "shell.execute_reply": "2023-12-22T12:49:31.368148Z"
    },
    "papermill": {
     "duration": 0.021504,
     "end_time": "2023-12-22T12:49:31.370004",
     "exception": false,
     "start_time": "2023-12-22T12:49:31.348500",
     "status": "completed"
    },
    "tags": []
   },
   "outputs": [],
   "source": [
    "tickets = pd.read_csv('../../../../data/metrics/events/tickets/orders.csv', parse_dates=['created_at', 'event_date'])\n",
    "tickets = tickets[tickets.event_date <= latest_date]"
   ]
  },
  {
   "cell_type": "code",
   "execution_count": 4,
   "id": "db703424",
   "metadata": {
    "execution": {
     "iopub.execute_input": "2023-12-22T12:49:31.374834Z",
     "iopub.status.busy": "2023-12-22T12:49:31.374372Z",
     "iopub.status.idle": "2023-12-22T12:49:31.427805Z",
     "shell.execute_reply": "2023-12-22T12:49:31.427296Z"
    },
    "papermill": {
     "duration": 0.057373,
     "end_time": "2023-12-22T12:49:31.429200",
     "exception": false,
     "start_time": "2023-12-22T12:49:31.371827",
     "status": "completed"
    },
    "tags": []
   },
   "outputs": [],
   "source": [
    "events = load_event_data()\n",
    "\n",
    "events = pd.concat([\n",
    "  events,\n",
    "  events.pipe(get_first_ward).pipe(normalise_ward).fillna('UNKNOWN'),\n",
    "  pd.Series(\n",
    "      events.actual_audience_size_number_of_participants_in_person + events.actual_audience_size_number_of_participants_online,\n",
    "      name='attendances'\n",
    "  )\n",
    "], axis=1).rename(columns={\n",
    "    'start_date': 'date'\n",
    "}).loc[:, ['ward_code', 'date', 'event_unique_identifier', 'attendances']]"
   ]
  },
  {
   "cell_type": "code",
   "execution_count": 5,
   "id": "10a4045d",
   "metadata": {
    "execution": {
     "iopub.execute_input": "2023-12-22T12:49:31.434030Z",
     "iopub.status.busy": "2023-12-22T12:49:31.433634Z",
     "iopub.status.idle": "2023-12-22T12:49:31.436831Z",
     "shell.execute_reply": "2023-12-22T12:49:31.436195Z"
    },
    "papermill": {
     "duration": 0.007085,
     "end_time": "2023-12-22T12:49:31.438145",
     "exception": false,
     "start_time": "2023-12-22T12:49:31.431060",
     "status": "completed"
    },
    "tags": []
   },
   "outputs": [],
   "source": [
    "OUTPUT_DIR='../../../../docs/metrics/events/signature/_data/'\n",
    "os.makedirs(OUTPUT_DIR, exist_ok=True)"
   ]
  },
  {
   "cell_type": "markdown",
   "id": "28fb47b5",
   "metadata": {
    "papermill": {
     "duration": 0.002087,
     "end_time": "2023-12-22T12:49:31.442335",
     "exception": false,
     "start_time": "2023-12-22T12:49:31.440248",
     "status": "completed"
    },
    "tags": []
   },
   "source": [
    "Events CSVs"
   ]
  },
  {
   "cell_type": "code",
   "execution_count": 6,
   "id": "2b50467e",
   "metadata": {
    "execution": {
     "iopub.execute_input": "2023-12-22T12:49:31.447234Z",
     "iopub.status.busy": "2023-12-22T12:49:31.446774Z",
     "iopub.status.idle": "2023-12-22T12:49:31.452771Z",
     "shell.execute_reply": "2023-12-22T12:49:31.452135Z"
    },
    "papermill": {
     "duration": 0.009914,
     "end_time": "2023-12-22T12:49:31.454128",
     "exception": false,
     "start_time": "2023-12-22T12:49:31.444214",
     "status": "completed"
    },
    "tags": []
   },
   "outputs": [],
   "source": [
    "pd.DataFrame({\n",
    "  'events': events.groupby('ward_code').event_unique_identifier.count(),\n",
    "  'attendances': events.groupby('ward_code').attendances.sum().astype(int),\n",
    "}).to_csv(os.path.join(OUTPUT_DIR, 'events_by_ward.csv'))\n"
   ]
  },
  {
   "cell_type": "code",
   "execution_count": 7,
   "id": "57545a57",
   "metadata": {
    "execution": {
     "iopub.execute_input": "2023-12-22T12:49:31.459053Z",
     "iopub.status.busy": "2023-12-22T12:49:31.458664Z",
     "iopub.status.idle": "2023-12-22T12:49:31.466059Z",
     "shell.execute_reply": "2023-12-22T12:49:31.465566Z"
    },
    "papermill": {
     "duration": 0.011269,
     "end_time": "2023-12-22T12:49:31.467333",
     "exception": false,
     "start_time": "2023-12-22T12:49:31.456064",
     "status": "completed"
    },
    "tags": []
   },
   "outputs": [],
   "source": [
    "pd.DataFrame({\n",
    "  'events': events.groupby('date').event_unique_identifier.count(),\n",
    "  'attendances': events.groupby('date').attendances.sum().astype(int),\n",
    "}).resample('M').sum().astype(int).to_csv(os.path.join(OUTPUT_DIR, 'events_by_date.csv'))"
   ]
  },
  {
   "cell_type": "markdown",
   "id": "3cc10bf6",
   "metadata": {
    "papermill": {
     "duration": 0.002651,
     "end_time": "2023-12-22T12:49:31.472000",
     "exception": false,
     "start_time": "2023-12-22T12:49:31.469349",
     "status": "completed"
    },
    "tags": []
   },
   "source": [
    "Tickets CSV"
   ]
  },
  {
   "cell_type": "code",
   "execution_count": 8,
   "id": "35e7a2ca",
   "metadata": {
    "execution": {
     "iopub.execute_input": "2023-12-22T12:49:31.476746Z",
     "iopub.status.busy": "2023-12-22T12:49:31.476566Z",
     "iopub.status.idle": "2023-12-22T12:49:31.482549Z",
     "shell.execute_reply": "2023-12-22T12:49:31.481940Z"
    },
    "papermill": {
     "duration": 0.009967,
     "end_time": "2023-12-22T12:49:31.483934",
     "exception": false,
     "start_time": "2023-12-22T12:49:31.473967",
     "status": "completed"
    },
    "tags": []
   },
   "outputs": [],
   "source": [
    "pd.DataFrame({\n",
    "  'orders': tickets.groupby('ward_code').number_of_tickets.count(),\n",
    "  'tickets': tickets.groupby('ward_code').number_of_tickets.sum().astype(int),\n",
    "}).to_csv(os.path.join(OUTPUT_DIR, 'tickets_by_ward.csv'))"
   ]
  },
  {
   "cell_type": "code",
   "execution_count": 9,
   "id": "90fda6dd",
   "metadata": {
    "execution": {
     "iopub.execute_input": "2023-12-22T12:49:31.489105Z",
     "iopub.status.busy": "2023-12-22T12:49:31.488644Z",
     "iopub.status.idle": "2023-12-22T12:49:31.495302Z",
     "shell.execute_reply": "2023-12-22T12:49:31.494693Z"
    },
    "papermill": {
     "duration": 0.010703,
     "end_time": "2023-12-22T12:49:31.496690",
     "exception": false,
     "start_time": "2023-12-22T12:49:31.485987",
     "status": "completed"
    },
    "tags": []
   },
   "outputs": [],
   "source": [
    "pd.DataFrame({\n",
    "  'orders': tickets.groupby('event_date').number_of_tickets.count(),\n",
    "  'tickets': tickets.groupby('event_date').number_of_tickets.sum().astype(int),\n",
    "}).resample('M').sum().to_csv(os.path.join(OUTPUT_DIR, 'tickets_by_event_date.csv'))"
   ]
  },
  {
   "cell_type": "code",
   "execution_count": 10,
   "id": "163b50e8",
   "metadata": {
    "execution": {
     "iopub.execute_input": "2023-12-22T12:49:31.501785Z",
     "iopub.status.busy": "2023-12-22T12:49:31.501432Z",
     "iopub.status.idle": "2023-12-22T12:49:31.506027Z",
     "shell.execute_reply": "2023-12-22T12:49:31.505436Z"
    },
    "papermill": {
     "duration": 0.008636,
     "end_time": "2023-12-22T12:49:31.507327",
     "exception": false,
     "start_time": "2023-12-22T12:49:31.498691",
     "status": "completed"
    },
    "tags": []
   },
   "outputs": [],
   "source": [
    "pd.Series({\n",
    "    'total_events': events.event_unique_identifier.count(),\n",
    "    'total_attendances': events.attendances.count(),\n",
    "    'first_event': events.date.min(),\n",
    "    'latest_event': events.date.max(),\n",
    "    'total_ticket_orders_for_events_to_date': tickets.number_of_tickets.count(),\n",
    "    'total_tickets_sold_for_events_to_date': tickets.number_of_tickets.sum(),\n",
    "}).to_json(os.path.join(OUTPUT_DIR, 'headlines.json'), indent=2)"
   ]
  },
  {
   "cell_type": "code",
   "execution_count": null,
   "id": "0976b16e",
   "metadata": {
    "papermill": {
     "duration": 0.001967,
     "end_time": "2023-12-22T12:49:31.511486",
     "exception": false,
     "start_time": "2023-12-22T12:49:31.509519",
     "status": "completed"
    },
    "tags": []
   },
   "outputs": [],
   "source": []
  }
 ],
 "metadata": {
  "kernelspec": {
   "display_name": "leeds-2023-YZF5GfJv",
   "language": "python",
   "name": "python3"
  },
  "language_info": {
   "codemirror_mode": {
    "name": "ipython",
    "version": 3
   },
   "file_extension": ".py",
   "mimetype": "text/x-python",
   "name": "python",
   "nbconvert_exporter": "python",
   "pygments_lexer": "ipython3",
   "version": "3.10.13"
  },
  "papermill": {
   "default_parameters": {},
   "duration": 8.727766,
   "end_time": "2023-12-22T12:49:31.729693",
   "environment_variables": {},
   "exception": null,
   "input_path": "prepare.ipynb",
   "output_path": "../../../../working/output/signature-prepare.ipynb",
   "parameters": {},
   "start_time": "2023-12-22T12:49:23.001927",
   "version": "2.4.0"
  }
 },
 "nbformat": 4,
 "nbformat_minor": 5
}