{
 "cells": [
  {
   "cell_type": "code",
   "execution_count": 1,
   "id": "46ec2caf",
   "metadata": {
    "execution": {
     "iopub.execute_input": "2023-12-08T23:40:32.990266Z",
     "iopub.status.busy": "2023-12-08T23:40:32.990005Z",
     "iopub.status.idle": "2023-12-08T23:40:40.259242Z",
     "shell.execute_reply": "2023-12-08T23:40:40.258502Z"
    },
    "papermill": {
     "duration": 7.274501,
     "end_time": "2023-12-08T23:40:40.260978",
     "exception": false,
     "start_time": "2023-12-08T23:40:32.986477",
     "status": "completed"
    },
    "tags": []
   },
   "outputs": [],
   "source": [
    "import os\n",
    "import pandas as pd\n",
    "from events import load_event_data, get_first_ward, normalise_ward"
   ]
  },
  {
   "cell_type": "code",
   "execution_count": 2,
   "id": "8acc3328",
   "metadata": {
    "execution": {
     "iopub.execute_input": "2023-12-08T23:40:40.266282Z",
     "iopub.status.busy": "2023-12-08T23:40:40.265883Z",
     "iopub.status.idle": "2023-12-08T23:40:40.269289Z",
     "shell.execute_reply": "2023-12-08T23:40:40.268720Z"
    },
    "papermill": {
     "duration": 0.007433,
     "end_time": "2023-12-08T23:40:40.270640",
     "exception": false,
     "start_time": "2023-12-08T23:40:40.263207",
     "status": "completed"
    },
    "tags": []
   },
   "outputs": [],
   "source": [
    "latest_date = pd.Timestamp.today().ceil('D')"
   ]
  },
  {
   "cell_type": "code",
   "execution_count": 3,
   "id": "9506e21b",
   "metadata": {
    "execution": {
     "iopub.execute_input": "2023-12-08T23:40:40.275415Z",
     "iopub.status.busy": "2023-12-08T23:40:40.275002Z",
     "iopub.status.idle": "2023-12-08T23:40:40.289602Z",
     "shell.execute_reply": "2023-12-08T23:40:40.289115Z"
    },
    "papermill": {
     "duration": 0.018422,
     "end_time": "2023-12-08T23:40:40.290892",
     "exception": false,
     "start_time": "2023-12-08T23:40:40.272470",
     "status": "completed"
    },
    "tags": []
   },
   "outputs": [],
   "source": [
    "tickets = pd.read_csv('../../../../data/metrics/events/tickets/orders.csv', parse_dates=['created_at', 'event_date'])\n",
    "tickets = tickets[tickets.event_date <= latest_date]"
   ]
  },
  {
   "cell_type": "code",
   "execution_count": 4,
   "id": "123b4d66",
   "metadata": {
    "execution": {
     "iopub.execute_input": "2023-12-08T23:40:40.295775Z",
     "iopub.status.busy": "2023-12-08T23:40:40.295279Z",
     "iopub.status.idle": "2023-12-08T23:40:40.348037Z",
     "shell.execute_reply": "2023-12-08T23:40:40.347497Z"
    },
    "papermill": {
     "duration": 0.056785,
     "end_time": "2023-12-08T23:40:40.349509",
     "exception": false,
     "start_time": "2023-12-08T23:40:40.292724",
     "status": "completed"
    },
    "tags": []
   },
   "outputs": [],
   "source": [
    "events = load_event_data()\n",
    "\n",
    "events = pd.concat([\n",
    "  events,\n",
    "  events.pipe(get_first_ward).pipe(normalise_ward).fillna('UNKNOWN'),\n",
    "  pd.Series(\n",
    "      events.actual_audience_size_number_of_participants_in_person + events.actual_audience_size_number_of_participants_online,\n",
    "      name='attendances'\n",
    "  )\n",
    "], axis=1).rename(columns={\n",
    "    'start_date': 'date'\n",
    "}).loc[:, ['ward_code', 'date', 'event_unique_identifier', 'attendances']]"
   ]
  },
  {
   "cell_type": "code",
   "execution_count": 5,
   "id": "911ea620",
   "metadata": {
    "execution": {
     "iopub.execute_input": "2023-12-08T23:40:40.354489Z",
     "iopub.status.busy": "2023-12-08T23:40:40.354074Z",
     "iopub.status.idle": "2023-12-08T23:40:40.357318Z",
     "shell.execute_reply": "2023-12-08T23:40:40.356774Z"
    },
    "papermill": {
     "duration": 0.007059,
     "end_time": "2023-12-08T23:40:40.358598",
     "exception": false,
     "start_time": "2023-12-08T23:40:40.351539",
     "status": "completed"
    },
    "tags": []
   },
   "outputs": [],
   "source": [
    "OUTPUT_DIR='../../../../docs/metrics/events/signature/_data/'\n",
    "os.makedirs(OUTPUT_DIR, exist_ok=True)"
   ]
  },
  {
   "cell_type": "markdown",
   "id": "c6fe44ca",
   "metadata": {
    "papermill": {
     "duration": 0.001913,
     "end_time": "2023-12-08T23:40:40.362408",
     "exception": false,
     "start_time": "2023-12-08T23:40:40.360495",
     "status": "completed"
    },
    "tags": []
   },
   "source": [
    "Events CSVs"
   ]
  },
  {
   "cell_type": "code",
   "execution_count": 6,
   "id": "abc887a5",
   "metadata": {
    "execution": {
     "iopub.execute_input": "2023-12-08T23:40:40.367293Z",
     "iopub.status.busy": "2023-12-08T23:40:40.366931Z",
     "iopub.status.idle": "2023-12-08T23:40:40.373122Z",
     "shell.execute_reply": "2023-12-08T23:40:40.372632Z"
    },
    "papermill": {
     "duration": 0.00996,
     "end_time": "2023-12-08T23:40:40.374364",
     "exception": false,
     "start_time": "2023-12-08T23:40:40.364404",
     "status": "completed"
    },
    "tags": []
   },
   "outputs": [],
   "source": [
    "pd.DataFrame({\n",
    "  'events': events.groupby('ward_code').event_unique_identifier.count(),\n",
    "  'attendances': events.groupby('ward_code').attendances.sum().astype(int),\n",
    "}).to_csv(os.path.join(OUTPUT_DIR, 'events_by_ward.csv'))\n"
   ]
  },
  {
   "cell_type": "code",
   "execution_count": 7,
   "id": "5452656c",
   "metadata": {
    "execution": {
     "iopub.execute_input": "2023-12-08T23:40:40.379307Z",
     "iopub.status.busy": "2023-12-08T23:40:40.378945Z",
     "iopub.status.idle": "2023-12-08T23:40:40.386689Z",
     "shell.execute_reply": "2023-12-08T23:40:40.386155Z"
    },
    "papermill": {
     "duration": 0.011681,
     "end_time": "2023-12-08T23:40:40.388005",
     "exception": false,
     "start_time": "2023-12-08T23:40:40.376324",
     "status": "completed"
    },
    "tags": []
   },
   "outputs": [],
   "source": [
    "pd.DataFrame({\n",
    "  'events': events.groupby('date').event_unique_identifier.count(),\n",
    "  'attendances': events.groupby('date').attendances.sum().astype(int),\n",
    "}).resample('M').sum().astype(int).to_csv(os.path.join(OUTPUT_DIR, 'events_by_date.csv'))"
   ]
  },
  {
   "cell_type": "markdown",
   "id": "10d17ba0",
   "metadata": {
    "papermill": {
     "duration": 0.002741,
     "end_time": "2023-12-08T23:40:40.392695",
     "exception": false,
     "start_time": "2023-12-08T23:40:40.389954",
     "status": "completed"
    },
    "tags": []
   },
   "source": [
    "Tickets CSV"
   ]
  },
  {
   "cell_type": "code",
   "execution_count": 8,
   "id": "df457b47",
   "metadata": {
    "execution": {
     "iopub.execute_input": "2023-12-08T23:40:40.397486Z",
     "iopub.status.busy": "2023-12-08T23:40:40.397107Z",
     "iopub.status.idle": "2023-12-08T23:40:40.403409Z",
     "shell.execute_reply": "2023-12-08T23:40:40.402919Z"
    },
    "papermill": {
     "duration": 0.010058,
     "end_time": "2023-12-08T23:40:40.404670",
     "exception": false,
     "start_time": "2023-12-08T23:40:40.394612",
     "status": "completed"
    },
    "tags": []
   },
   "outputs": [],
   "source": [
    "pd.DataFrame({\n",
    "  'orders': tickets.groupby('ward_code').number_of_tickets.count(),\n",
    "  'tickets': tickets.groupby('ward_code').number_of_tickets.sum().astype(int),\n",
    "}).to_csv(os.path.join(OUTPUT_DIR, 'tickets_by_ward.csv'))"
   ]
  },
  {
   "cell_type": "code",
   "execution_count": 9,
   "id": "aed9c31a",
   "metadata": {
    "execution": {
     "iopub.execute_input": "2023-12-08T23:40:40.409718Z",
     "iopub.status.busy": "2023-12-08T23:40:40.409315Z",
     "iopub.status.idle": "2023-12-08T23:40:40.416435Z",
     "shell.execute_reply": "2023-12-08T23:40:40.415944Z"
    },
    "papermill": {
     "duration": 0.011064,
     "end_time": "2023-12-08T23:40:40.417757",
     "exception": false,
     "start_time": "2023-12-08T23:40:40.406693",
     "status": "completed"
    },
    "tags": []
   },
   "outputs": [],
   "source": [
    "pd.DataFrame({\n",
    "  'orders': tickets.groupby('event_date').number_of_tickets.count(),\n",
    "  'tickets': tickets.groupby('event_date').number_of_tickets.sum().astype(int),\n",
    "}).resample('M').sum().to_csv(os.path.join(OUTPUT_DIR, 'tickets_by_event_date.csv'))"
   ]
  },
  {
   "cell_type": "code",
   "execution_count": 10,
   "id": "a72b797f",
   "metadata": {
    "execution": {
     "iopub.execute_input": "2023-12-08T23:40:40.422835Z",
     "iopub.status.busy": "2023-12-08T23:40:40.422487Z",
     "iopub.status.idle": "2023-12-08T23:40:40.427419Z",
     "shell.execute_reply": "2023-12-08T23:40:40.426905Z"
    },
    "papermill": {
     "duration": 0.008829,
     "end_time": "2023-12-08T23:40:40.428636",
     "exception": false,
     "start_time": "2023-12-08T23:40:40.419807",
     "status": "completed"
    },
    "tags": []
   },
   "outputs": [],
   "source": [
    "pd.Series({\n",
    "    'total_events': events.event_unique_identifier.count(),\n",
    "    'total_attendances': events.attendances.count(),\n",
    "    'first_event': events.date.min(),\n",
    "    'latest_event': events.date.max(),\n",
    "    'total_ticket_orders_for_events_to_date': tickets.number_of_tickets.count(),\n",
    "    'total_tickets_sold_for_events_to_date': tickets.number_of_tickets.sum(),\n",
    "}).to_json(os.path.join(OUTPUT_DIR, 'headlines.json'), indent=2)"
   ]
  },
  {
   "cell_type": "code",
   "execution_count": null,
   "id": "fb04643f",
   "metadata": {
    "papermill": {
     "duration": 0.001947,
     "end_time": "2023-12-08T23:40:40.432646",
     "exception": false,
     "start_time": "2023-12-08T23:40:40.430699",
     "status": "completed"
    },
    "tags": []
   },
   "outputs": [],
   "source": []
  }
 ],
 "metadata": {
  "kernelspec": {
   "display_name": "leeds-2023-YZF5GfJv",
   "language": "python",
   "name": "python3"
  },
  "language_info": {
   "codemirror_mode": {
    "name": "ipython",
    "version": 3
   },
   "file_extension": ".py",
   "mimetype": "text/x-python",
   "name": "python",
   "nbconvert_exporter": "python",
   "pygments_lexer": "ipython3",
   "version": "3.10.13"
  },
  "papermill": {
   "default_parameters": {},
   "duration": 8.906188,
   "end_time": "2023-12-08T23:40:40.650199",
   "environment_variables": {},
   "exception": null,
   "input_path": "prepare.ipynb",
   "output_path": "../../../../working/output/signature-prepare.ipynb",
   "parameters": {},
   "start_time": "2023-12-08T23:40:31.744011",
   "version": "2.4.0"
  }
 },
 "nbformat": 4,
 "nbformat_minor": 5
}