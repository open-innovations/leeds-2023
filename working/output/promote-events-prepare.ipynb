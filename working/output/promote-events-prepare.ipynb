{
 "cells": [
  {
   "cell_type": "code",
   "execution_count": 1,
   "id": "d7c2a99b",
   "metadata": {
    "execution": {
     "iopub.execute_input": "2023-08-22T23:39:28.754214Z",
     "iopub.status.busy": "2023-08-22T23:39:28.753479Z",
     "iopub.status.idle": "2023-08-22T23:39:28.991885Z",
     "shell.execute_reply": "2023-08-22T23:39:28.990562Z"
    },
    "papermill": {
     "duration": 0.244433,
     "end_time": "2023-08-22T23:39:28.994182",
     "exception": false,
     "start_time": "2023-08-22T23:39:28.749749",
     "status": "completed"
    },
    "tags": []
   },
   "outputs": [],
   "source": [
    "import os\n",
    "import pandas as pd"
   ]
  },
  {
   "cell_type": "code",
   "execution_count": 2,
   "id": "946fd9ec",
   "metadata": {
    "execution": {
     "iopub.execute_input": "2023-08-22T23:39:28.999397Z",
     "iopub.status.busy": "2023-08-22T23:39:28.998823Z",
     "iopub.status.idle": "2023-08-22T23:39:29.002345Z",
     "shell.execute_reply": "2023-08-22T23:39:29.001693Z"
    },
    "papermill": {
     "duration": 0.007886,
     "end_time": "2023-08-22T23:39:29.004045",
     "exception": false,
     "start_time": "2023-08-22T23:39:28.996159",
     "status": "completed"
    },
    "tags": []
   },
   "outputs": [],
   "source": [
    "DATA_DIR='../../../docs/metrics/events/promote/_data/'\n",
    "os.makedirs(DATA_DIR, exist_ok=True)"
   ]
  },
  {
   "cell_type": "code",
   "execution_count": 3,
   "id": "89778e5e",
   "metadata": {
    "execution": {
     "iopub.execute_input": "2023-08-22T23:39:29.008370Z",
     "iopub.status.busy": "2023-08-22T23:39:29.007950Z",
     "iopub.status.idle": "2023-08-22T23:39:29.016582Z",
     "shell.execute_reply": "2023-08-22T23:39:29.016027Z"
    },
    "papermill": {
     "duration": 0.012402,
     "end_time": "2023-08-22T23:39:29.018041",
     "exception": false,
     "start_time": "2023-08-22T23:39:29.005639",
     "status": "completed"
    },
    "tags": []
   },
   "outputs": [],
   "source": [
    "data = pd.read_csv('../../../data/metrics/events/promote-events/events.csv', parse_dates=['time'])"
   ]
  },
  {
   "cell_type": "code",
   "execution_count": 4,
   "id": "9dfa85d2",
   "metadata": {
    "execution": {
     "iopub.execute_input": "2023-08-22T23:39:29.022409Z",
     "iopub.status.busy": "2023-08-22T23:39:29.022003Z",
     "iopub.status.idle": "2023-08-22T23:39:29.027138Z",
     "shell.execute_reply": "2023-08-22T23:39:29.026523Z"
    },
    "papermill": {
     "duration": 0.009111,
     "end_time": "2023-08-22T23:39:29.028749",
     "exception": false,
     "start_time": "2023-08-22T23:39:29.019638",
     "status": "completed"
    },
    "tags": []
   },
   "outputs": [],
   "source": [
    "pd.Series({\n",
    "    'total_events': len(data.id.unique()),\n",
    "    'total_event_instances': len(data.time),\n",
    "    'earliest_event': data.time.min(),\n",
    "    'latest_event': data.time.max(),\n",
    "}).to_json(\n",
    "    os.path.join(DATA_DIR, 'headlines.json'),\n",
    "    date_format='iso', indent=2\n",
    ")"
   ]
  },
  {
   "cell_type": "code",
   "execution_count": 5,
   "id": "de773e5d",
   "metadata": {
    "execution": {
     "iopub.execute_input": "2023-08-22T23:39:29.033016Z",
     "iopub.status.busy": "2023-08-22T23:39:29.032624Z",
     "iopub.status.idle": "2023-08-22T23:39:29.040265Z",
     "shell.execute_reply": "2023-08-22T23:39:29.039720Z"
    },
    "papermill": {
     "duration": 0.011474,
     "end_time": "2023-08-22T23:39:29.041800",
     "exception": false,
     "start_time": "2023-08-22T23:39:29.030326",
     "status": "completed"
    },
    "tags": []
   },
   "outputs": [],
   "source": [
    "events = pd.DataFrame({\n",
    "    'events': data.groupby('id').agg({ 'time': 'min' }).reset_index().groupby('time').id.count(),\n",
    "    'event_instances': data.groupby('time').id.count(),\n",
    "}).fillna(0).astype(int)"
   ]
  },
  {
   "cell_type": "code",
   "execution_count": 6,
   "id": "c3c8c020",
   "metadata": {
    "execution": {
     "iopub.execute_input": "2023-08-22T23:39:29.046065Z",
     "iopub.status.busy": "2023-08-22T23:39:29.045734Z",
     "iopub.status.idle": "2023-08-22T23:39:29.049179Z",
     "shell.execute_reply": "2023-08-22T23:39:29.048555Z"
    },
    "papermill": {
     "duration": 0.007179,
     "end_time": "2023-08-22T23:39:29.050625",
     "exception": false,
     "start_time": "2023-08-22T23:39:29.043446",
     "status": "completed"
    },
    "tags": []
   },
   "outputs": [],
   "source": [
    "def cumulate(data):\n",
    "    return pd.concat([\n",
    "        data,\n",
    "        data.cumsum().rename(columns=lambda c: f'cumulative_{c}')\n",
    "    ], axis=1)"
   ]
  },
  {
   "cell_type": "code",
   "execution_count": 7,
   "id": "ea103a40",
   "metadata": {
    "execution": {
     "iopub.execute_input": "2023-08-22T23:39:29.055087Z",
     "iopub.status.busy": "2023-08-22T23:39:29.054580Z",
     "iopub.status.idle": "2023-08-22T23:39:29.064494Z",
     "shell.execute_reply": "2023-08-22T23:39:29.063935Z"
    },
    "papermill": {
     "duration": 0.013791,
     "end_time": "2023-08-22T23:39:29.066082",
     "exception": false,
     "start_time": "2023-08-22T23:39:29.052291",
     "status": "completed"
    },
    "tags": []
   },
   "outputs": [],
   "source": [
    "events.resample('W-FRI').sum().pipe(cumulate).to_csv(os.path.join(DATA_DIR, 'by_week.csv'))"
   ]
  },
  {
   "cell_type": "code",
   "execution_count": 8,
   "id": "52993018",
   "metadata": {
    "execution": {
     "iopub.execute_input": "2023-08-22T23:39:29.071017Z",
     "iopub.status.busy": "2023-08-22T23:39:29.070486Z",
     "iopub.status.idle": "2023-08-22T23:39:29.076715Z",
     "shell.execute_reply": "2023-08-22T23:39:29.076099Z"
    },
    "papermill": {
     "duration": 0.010151,
     "end_time": "2023-08-22T23:39:29.078129",
     "exception": false,
     "start_time": "2023-08-22T23:39:29.067978",
     "status": "completed"
    },
    "tags": []
   },
   "outputs": [],
   "source": [
    "events.resample('MS').sum().pipe(cumulate).to_csv(os.path.join(DATA_DIR, 'by_month.csv'))"
   ]
  },
  {
   "cell_type": "code",
   "execution_count": null,
   "id": "29355f56",
   "metadata": {
    "papermill": {
     "duration": 0.001701,
     "end_time": "2023-08-22T23:39:29.081594",
     "exception": false,
     "start_time": "2023-08-22T23:39:29.079893",
     "status": "completed"
    },
    "tags": []
   },
   "outputs": [],
   "source": []
  }
 ],
 "metadata": {
  "kernelspec": {
   "display_name": "leeds-2023-YZF5GfJv",
   "language": "python",
   "name": "python3"
  },
  "language_info": {
   "codemirror_mode": {
    "name": "ipython",
    "version": 3
   },
   "file_extension": ".py",
   "mimetype": "text/x-python",
   "name": "python",
   "nbconvert_exporter": "python",
   "pygments_lexer": "ipython3",
   "version": "3.10.12"
  },
  "papermill": {
   "default_parameters": {},
   "duration": 1.803244,
   "end_time": "2023-08-22T23:39:29.300994",
   "environment_variables": {},
   "exception": null,
   "input_path": "prepare.ipynb",
   "output_path": "../../../working/output/promote-events-prepare.ipynb",
   "parameters": {},
   "start_time": "2023-08-22T23:39:27.497750",
   "version": "2.4.0"
  }
 },
 "nbformat": 4,
 "nbformat_minor": 5
}