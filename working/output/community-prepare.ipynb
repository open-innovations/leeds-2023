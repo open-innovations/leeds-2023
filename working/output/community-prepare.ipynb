{
 "cells": [
  {
   "cell_type": "code",
   "execution_count": 1,
   "id": "e0fa21a3",
   "metadata": {
    "execution": {
     "iopub.execute_input": "2023-10-24T23:41:24.270806Z",
     "iopub.status.busy": "2023-10-24T23:41:24.269897Z",
     "iopub.status.idle": "2023-10-24T23:41:24.606599Z",
     "shell.execute_reply": "2023-10-24T23:41:24.605135Z"
    },
    "papermill": {
     "duration": 0.344049,
     "end_time": "2023-10-24T23:41:24.609291",
     "exception": false,
     "start_time": "2023-10-24T23:41:24.265242",
     "status": "completed"
    },
    "tags": []
   },
   "outputs": [],
   "source": [
    "import os, sys\n",
    "TOP_DIR = os.path.realpath('../../..')\n",
    "if TOP_DIR not in sys.path: sys.path.append(TOP_DIR)\n",
    "import pandas as pd"
   ]
  },
  {
   "cell_type": "code",
   "execution_count": 2,
   "id": "f3f01021",
   "metadata": {
    "execution": {
     "iopub.execute_input": "2023-10-24T23:41:24.616414Z",
     "iopub.status.busy": "2023-10-24T23:41:24.615309Z",
     "iopub.status.idle": "2023-10-24T23:41:24.621412Z",
     "shell.execute_reply": "2023-10-24T23:41:24.620612Z"
    },
    "papermill": {
     "duration": 0.011526,
     "end_time": "2023-10-24T23:41:24.623417",
     "exception": false,
     "start_time": "2023-10-24T23:41:24.611891",
     "status": "completed"
    },
    "tags": []
   },
   "outputs": [],
   "source": [
    "from lib.util.convert import named_cumulative_sum"
   ]
  },
  {
   "cell_type": "code",
   "execution_count": 3,
   "id": "646df865",
   "metadata": {
    "execution": {
     "iopub.execute_input": "2023-10-24T23:41:24.628724Z",
     "iopub.status.busy": "2023-10-24T23:41:24.628256Z",
     "iopub.status.idle": "2023-10-24T23:41:24.640566Z",
     "shell.execute_reply": "2023-10-24T23:41:24.639664Z"
    },
    "papermill": {
     "duration": 0.017119,
     "end_time": "2023-10-24T23:41:24.642399",
     "exception": false,
     "start_time": "2023-10-24T23:41:24.625280",
     "status": "completed"
    },
    "tags": []
   },
   "outputs": [],
   "source": [
    "data = pd.read_csv('../../../data/metrics/community/events.csv', parse_dates=['start_date'])\n",
    "data.ward_code = data.ward_code.fillna('UNKNOWN')"
   ]
  },
  {
   "cell_type": "markdown",
   "id": "a03c0faa",
   "metadata": {
    "papermill": {
     "duration": 0.002127,
     "end_time": "2023-10-24T23:41:24.646348",
     "exception": false,
     "start_time": "2023-10-24T23:41:24.644221",
     "status": "completed"
    },
    "tags": []
   },
   "source": [
    "Set up output directories"
   ]
  },
  {
   "cell_type": "code",
   "execution_count": 4,
   "id": "b46dc2ec",
   "metadata": {
    "execution": {
     "iopub.execute_input": "2023-10-24T23:41:24.652363Z",
     "iopub.status.busy": "2023-10-24T23:41:24.651823Z",
     "iopub.status.idle": "2023-10-24T23:41:24.656937Z",
     "shell.execute_reply": "2023-10-24T23:41:24.655955Z"
    },
    "papermill": {
     "duration": 0.010055,
     "end_time": "2023-10-24T23:41:24.658983",
     "exception": false,
     "start_time": "2023-10-24T23:41:24.648928",
     "status": "completed"
    },
    "tags": []
   },
   "outputs": [],
   "source": [
    "OUT_DIR = '../../../docs/metrics/community/_data'\n",
    "os.makedirs(OUT_DIR, exist_ok=True)"
   ]
  },
  {
   "cell_type": "code",
   "execution_count": 5,
   "id": "9ca5735c",
   "metadata": {
    "execution": {
     "iopub.execute_input": "2023-10-24T23:41:24.664656Z",
     "iopub.status.busy": "2023-10-24T23:41:24.664425Z",
     "iopub.status.idle": "2023-10-24T23:41:24.673223Z",
     "shell.execute_reply": "2023-10-24T23:41:24.672433Z"
    },
    "papermill": {
     "duration": 0.01452,
     "end_time": "2023-10-24T23:41:24.675480",
     "exception": false,
     "start_time": "2023-10-24T23:41:24.660960",
     "status": "completed"
    },
    "tags": []
   },
   "outputs": [],
   "source": [
    "pd.Series({\n",
    "  'events': data.event_name.count(),\n",
    "  'audience': data.audience.sum().astype(int),\n",
    "  'errors': {\n",
    "    'missing_wards': (data.ward_code == 'UNKNOWN').value_counts()[True],\n",
    "    'missing_audience': data.audience.isna().value_counts()[True],\n",
    "    'zero_audience':  (data.audience < 1).value_counts()[True],  \n",
    "  }\n",
    "}).to_json(os.path.join(OUT_DIR, 'headlines.json'), indent=2)"
   ]
  },
  {
   "cell_type": "code",
   "execution_count": 6,
   "id": "53f9be2d",
   "metadata": {
    "execution": {
     "iopub.execute_input": "2023-10-24T23:41:24.681867Z",
     "iopub.status.busy": "2023-10-24T23:41:24.681088Z",
     "iopub.status.idle": "2023-10-24T23:41:24.691081Z",
     "shell.execute_reply": "2023-10-24T23:41:24.690068Z"
    },
    "papermill": {
     "duration": 0.015473,
     "end_time": "2023-10-24T23:41:24.693204",
     "exception": false,
     "start_time": "2023-10-24T23:41:24.677731",
     "status": "completed"
    },
    "tags": []
   },
   "outputs": [],
   "source": [
    "by_ward = pd.DataFrame({\n",
    "  'events': data.groupby('ward_code').event_name.count().fillna(0).astype('int'),\n",
    "  'audience': data.groupby('ward_code').audience.sum().fillna(0).astype('int'),\n",
    "}).to_csv(os.path.join(OUT_DIR, 'by_ward.csv'))"
   ]
  },
  {
   "cell_type": "code",
   "execution_count": 7,
   "id": "302e7b8c",
   "metadata": {
    "execution": {
     "iopub.execute_input": "2023-10-24T23:41:24.701341Z",
     "iopub.status.busy": "2023-10-24T23:41:24.700499Z",
     "iopub.status.idle": "2023-10-24T23:41:24.715040Z",
     "shell.execute_reply": "2023-10-24T23:41:24.713919Z"
    },
    "papermill": {
     "duration": 0.021002,
     "end_time": "2023-10-24T23:41:24.717277",
     "exception": false,
     "start_time": "2023-10-24T23:41:24.696275",
     "status": "completed"
    },
    "tags": []
   },
   "outputs": [],
   "source": [
    "by_date = pd.DataFrame({\n",
    "    'events': data.groupby('start_date').event_name.count(),\n",
    "    'audience': data.groupby('start_date').audience.sum(),\n",
    "}).resample('M').sum()\n",
    "\n",
    "pd.concat([\n",
    "    by_date,\n",
    "    by_date.pipe(named_cumulative_sum)\n",
    "], axis=1).astype('int').to_csv(os.path.join(OUT_DIR, 'by_date.csv'))"
   ]
  }
 ],
 "metadata": {
  "kernelspec": {
   "display_name": "leeds-2023-YZF5GfJv",
   "language": "python",
   "name": "python3"
  },
  "language_info": {
   "codemirror_mode": {
    "name": "ipython",
    "version": 3
   },
   "file_extension": ".py",
   "mimetype": "text/x-python",
   "name": "python",
   "nbconvert_exporter": "python",
   "pygments_lexer": "ipython3",
   "version": "3.10.13"
  },
  "papermill": {
   "default_parameters": {},
   "duration": 2.594783,
   "end_time": "2023-10-24T23:41:25.039788",
   "environment_variables": {},
   "exception": null,
   "input_path": "prepare.ipynb",
   "output_path": "../../../working/output/community-prepare.ipynb",
   "parameters": {},
   "start_time": "2023-10-24T23:41:22.445005",
   "version": "2.4.0"
  }
 },
 "nbformat": 4,
 "nbformat_minor": 5
}