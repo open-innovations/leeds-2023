{
 "cells": [
  {
   "cell_type": "code",
   "execution_count": 1,
   "id": "0ca7e2ff",
   "metadata": {
    "execution": {
     "iopub.execute_input": "2023-07-28T23:39:37.240294Z",
     "iopub.status.busy": "2023-07-28T23:39:37.239794Z",
     "iopub.status.idle": "2023-07-28T23:39:37.482877Z",
     "shell.execute_reply": "2023-07-28T23:39:37.481888Z"
    },
    "papermill": {
     "duration": 0.249018,
     "end_time": "2023-07-28T23:39:37.485178",
     "exception": false,
     "start_time": "2023-07-28T23:39:37.236160",
     "status": "completed"
    },
    "tags": []
   },
   "outputs": [],
   "source": [
    "import os\n",
    "import pandas as pd"
   ]
  },
  {
   "cell_type": "code",
   "execution_count": 2,
   "id": "8f64e7e6",
   "metadata": {
    "execution": {
     "iopub.execute_input": "2023-07-28T23:39:37.491123Z",
     "iopub.status.busy": "2023-07-28T23:39:37.490688Z",
     "iopub.status.idle": "2023-07-28T23:39:37.493919Z",
     "shell.execute_reply": "2023-07-28T23:39:37.493408Z"
    },
    "papermill": {
     "duration": 0.008711,
     "end_time": "2023-07-28T23:39:37.495695",
     "exception": false,
     "start_time": "2023-07-28T23:39:37.486984",
     "status": "completed"
    },
    "tags": []
   },
   "outputs": [],
   "source": [
    "EVENTS_RAW_DATA = '../../../working/metrics/promote-events/events.csv'\n",
    "DATA_DIR = '../../../data/metrics/events/promote-events/'\n",
    "EVENTS_DATA = os.path.join(DATA_DIR, 'events.csv')"
   ]
  },
  {
   "cell_type": "code",
   "execution_count": 3,
   "id": "749055e3",
   "metadata": {
    "execution": {
     "iopub.execute_input": "2023-07-28T23:39:37.499173Z",
     "iopub.status.busy": "2023-07-28T23:39:37.498764Z",
     "iopub.status.idle": "2023-07-28T23:39:37.502011Z",
     "shell.execute_reply": "2023-07-28T23:39:37.501388Z"
    },
    "papermill": {
     "duration": 0.006802,
     "end_time": "2023-07-28T23:39:37.503693",
     "exception": false,
     "start_time": "2023-07-28T23:39:37.496891",
     "status": "completed"
    },
    "tags": []
   },
   "outputs": [],
   "source": [
    "columns = {\n",
    "    'id': 'id',\n",
    "    'name': 'name',\n",
    "    'locationName': 'location',\n",
    "    'cardPrice': 'card_price',\n",
    "    'timeslots': 'time',\n",
    "    'displayOnWebsite': 'display',\n",
    "    'Stage': 'stage',\n",
    "}"
   ]
  },
  {
   "cell_type": "code",
   "execution_count": 4,
   "id": "163ca02f",
   "metadata": {
    "execution": {
     "iopub.execute_input": "2023-07-28T23:39:37.507084Z",
     "iopub.status.busy": "2023-07-28T23:39:37.506686Z",
     "iopub.status.idle": "2023-07-28T23:39:37.520386Z",
     "shell.execute_reply": "2023-07-28T23:39:37.519282Z"
    },
    "papermill": {
     "duration": 0.017401,
     "end_time": "2023-07-28T23:39:37.522267",
     "exception": false,
     "start_time": "2023-07-28T23:39:37.504866",
     "status": "completed"
    },
    "tags": []
   },
   "outputs": [],
   "source": [
    "data = pd.read_csv(EVENTS_RAW_DATA)[columns.keys()].rename(columns=columns)\n",
    "data.time = pd.to_datetime(data.time, errors='coerce')"
   ]
  },
  {
   "cell_type": "code",
   "execution_count": 5,
   "id": "780c8396",
   "metadata": {
    "execution": {
     "iopub.execute_input": "2023-07-28T23:39:37.525978Z",
     "iopub.status.busy": "2023-07-28T23:39:37.525447Z",
     "iopub.status.idle": "2023-07-28T23:39:37.533710Z",
     "shell.execute_reply": "2023-07-28T23:39:37.532912Z"
    },
    "papermill": {
     "duration": 0.011724,
     "end_time": "2023-07-28T23:39:37.535186",
     "exception": false,
     "start_time": "2023-07-28T23:39:37.523462",
     "status": "completed"
    },
    "tags": []
   },
   "outputs": [],
   "source": [
    "data.to_csv(os.path.join(DATA_DIR, 'events.csv'), index=False)"
   ]
  }
 ],
 "metadata": {
  "kernelspec": {
   "display_name": "leeds-2023-YZF5GfJv",
   "language": "python",
   "name": "python3"
  },
  "language_info": {
   "codemirror_mode": {
    "name": "ipython",
    "version": 3
   },
   "file_extension": ".py",
   "mimetype": "text/x-python",
   "name": "python",
   "nbconvert_exporter": "python",
   "pygments_lexer": "ipython3",
   "version": "3.10.6"
  },
  "papermill": {
   "default_parameters": {},
   "duration": 1.93915,
   "end_time": "2023-07-28T23:39:37.753831",
   "environment_variables": {},
   "exception": null,
   "input_path": "transform.ipynb",
   "output_path": "../../../working/output/promote-events-transform.ipynb",
   "parameters": {},
   "start_time": "2023-07-28T23:39:35.814681",
   "version": "2.4.0"
  }
 },
 "nbformat": 4,
 "nbformat_minor": 5
}