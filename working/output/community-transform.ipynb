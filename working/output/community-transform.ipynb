{
 "cells": [
  {
   "cell_type": "code",
   "execution_count": 1,
   "id": "5360b171",
   "metadata": {
    "execution": {
     "iopub.execute_input": "2024-01-01T23:40:23.334934Z",
     "iopub.status.busy": "2024-01-01T23:40:23.334671Z",
     "iopub.status.idle": "2024-01-01T23:40:23.342524Z",
     "shell.execute_reply": "2024-01-01T23:40:23.341866Z"
    },
    "papermill": {
     "duration": 0.013218,
     "end_time": "2024-01-01T23:40:23.344003",
     "exception": false,
     "start_time": "2024-01-01T23:40:23.330785",
     "status": "completed"
    },
    "tags": []
   },
   "outputs": [],
   "source": [
    "import os\n",
    "import sys\n",
    "\n",
    "TOP_DIR=os.path.realpath(\"../../..\")\n",
    "if TOP_DIR not in sys.path: sys.path.append(TOP_DIR)"
   ]
  },
  {
   "cell_type": "code",
   "execution_count": 2,
   "id": "96d2f3ed",
   "metadata": {
    "execution": {
     "iopub.execute_input": "2024-01-01T23:40:23.349281Z",
     "iopub.status.busy": "2024-01-01T23:40:23.348795Z",
     "iopub.status.idle": "2024-01-01T23:40:31.446967Z",
     "shell.execute_reply": "2024-01-01T23:40:31.446140Z"
    },
    "papermill": {
     "duration": 8.102702,
     "end_time": "2024-01-01T23:40:31.448867",
     "exception": false,
     "start_time": "2024-01-01T23:40:23.346165",
     "status": "completed"
    },
    "tags": []
   },
   "outputs": [],
   "source": [
    "import pandas as pd\n",
    "import numpy as np\n",
    "from lib.util.convert import standardise_columns, literal_converter\n",
    "from lib.util.geo import normalise_leeds_wards, ward_name_to_code"
   ]
  },
  {
   "cell_type": "code",
   "execution_count": 3,
   "id": "8c284934",
   "metadata": {
    "execution": {
     "iopub.execute_input": "2024-01-01T23:40:31.454327Z",
     "iopub.status.busy": "2024-01-01T23:40:31.453811Z",
     "iopub.status.idle": "2024-01-01T23:40:31.471225Z",
     "shell.execute_reply": "2024-01-01T23:40:31.470508Z"
    },
    "papermill": {
     "duration": 0.022054,
     "end_time": "2024-01-01T23:40:31.473000",
     "exception": false,
     "start_time": "2024-01-01T23:40:31.450946",
     "status": "completed"
    },
    "tags": []
   },
   "outputs": [],
   "source": [
    "data = pd.read_csv('../../../working/metrics/community/events.csv', parse_dates=['Start date'])\n",
    "data = data.rename(columns=standardise_columns)"
   ]
  },
  {
   "cell_type": "code",
   "execution_count": 4,
   "id": "f3f00d98",
   "metadata": {
    "execution": {
     "iopub.execute_input": "2024-01-01T23:40:31.478071Z",
     "iopub.status.busy": "2024-01-01T23:40:31.477626Z",
     "iopub.status.idle": "2024-01-01T23:40:31.486561Z",
     "shell.execute_reply": "2024-01-01T23:40:31.485982Z"
    },
    "papermill": {
     "duration": 0.012943,
     "end_time": "2024-01-01T23:40:31.487941",
     "exception": false,
     "start_time": "2024-01-01T23:40:31.474998",
     "status": "completed"
    },
    "tags": []
   },
   "outputs": [],
   "source": [
    "wards = data['ward_(from_venue)'].fillna('[]').pipe(literal_converter).apply(np.unique)"
   ]
  },
  {
   "cell_type": "code",
   "execution_count": 5,
   "id": "9312fd53",
   "metadata": {
    "execution": {
     "iopub.execute_input": "2024-01-01T23:40:31.492997Z",
     "iopub.status.busy": "2024-01-01T23:40:31.492587Z",
     "iopub.status.idle": "2024-01-01T23:40:31.513602Z",
     "shell.execute_reply": "2024-01-01T23:40:31.512928Z"
    },
    "papermill": {
     "duration": 0.025113,
     "end_time": "2024-01-01T23:40:31.515022",
     "exception": false,
     "start_time": "2024-01-01T23:40:31.489909",
     "status": "completed"
    },
    "tags": []
   },
   "outputs": [],
   "source": [
    "data['ward_name'] = wards.apply(lambda x: x[0] if len(x) > 0 else np.nan).pipe(normalise_leeds_wards)\n",
    "data['ward_code'] = data.ward_name.pipe(ward_name_to_code)\n",
    "data['audience'] = data.actual_audience_size_number_of_participants_in_person\n",
    "cleaned_data = data.loc[:, ['event_name', 'project_name', 'start_date', 'ward_name', 'ward_code', 'audience']]"
   ]
  },
  {
   "cell_type": "code",
   "execution_count": 6,
   "id": "9de45a48",
   "metadata": {
    "execution": {
     "iopub.execute_input": "2024-01-01T23:40:31.520224Z",
     "iopub.status.busy": "2024-01-01T23:40:31.519794Z",
     "iopub.status.idle": "2024-01-01T23:40:31.525863Z",
     "shell.execute_reply": "2024-01-01T23:40:31.525290Z"
    },
    "papermill": {
     "duration": 0.010191,
     "end_time": "2024-01-01T23:40:31.527234",
     "exception": false,
     "start_time": "2024-01-01T23:40:31.517043",
     "status": "completed"
    },
    "tags": []
   },
   "outputs": [],
   "source": [
    "DATA_DIR='../../../data/metrics/community'\n",
    "os.makedirs(DATA_DIR, exist_ok=True)\n",
    "cleaned_data.to_csv(os.path.join(DATA_DIR, 'events.csv'), index=False)"
   ]
  },
  {
   "cell_type": "markdown",
   "id": "9a182d6c",
   "metadata": {
    "papermill": {
     "duration": 0.001922,
     "end_time": "2024-01-01T23:40:31.531078",
     "exception": false,
     "start_time": "2024-01-01T23:40:31.529156",
     "status": "completed"
    },
    "tags": []
   },
   "source": [
    "Missing or duplicated wards"
   ]
  },
  {
   "cell_type": "code",
   "execution_count": 7,
   "id": "11e336ff",
   "metadata": {
    "execution": {
     "iopub.execute_input": "2024-01-01T23:40:31.535916Z",
     "iopub.status.busy": "2024-01-01T23:40:31.535506Z",
     "iopub.status.idle": "2024-01-01T23:40:31.549318Z",
     "shell.execute_reply": "2024-01-01T23:40:31.548725Z"
    },
    "papermill": {
     "duration": 0.017787,
     "end_time": "2024-01-01T23:40:31.550680",
     "exception": false,
     "start_time": "2024-01-01T23:40:31.532893",
     "status": "completed"
    },
    "tags": []
   },
   "outputs": [
    {
     "data": {
      "text/html": [
       "<div>\n",
       "<style scoped>\n",
       "    .dataframe tbody tr th:only-of-type {\n",
       "        vertical-align: middle;\n",
       "    }\n",
       "\n",
       "    .dataframe tbody tr th {\n",
       "        vertical-align: top;\n",
       "    }\n",
       "\n",
       "    .dataframe thead th {\n",
       "        text-align: right;\n",
       "    }\n",
       "</style>\n",
       "<table border=\"1\" class=\"dataframe\">\n",
       "  <thead>\n",
       "    <tr style=\"text-align: right;\">\n",
       "      <th></th>\n",
       "      <th>project_name</th>\n",
       "      <th>event_name</th>\n",
       "      <th>start_date</th>\n",
       "      <th>ward_(from_venue)</th>\n",
       "    </tr>\n",
       "  </thead>\n",
       "  <tbody>\n",
       "    <tr>\n",
       "      <th>51</th>\n",
       "      <td>01 - The Awakening</td>\n",
       "      <td>Creation Station - Leeds City Council</td>\n",
       "      <td>2022-11-23</td>\n",
       "      <td>NaN</td>\n",
       "    </tr>\n",
       "    <tr>\n",
       "      <th>52</th>\n",
       "      <td>01 - The Awakening</td>\n",
       "      <td>Creation Station - Leeds City Council</td>\n",
       "      <td>2022-11-24</td>\n",
       "      <td>NaN</td>\n",
       "    </tr>\n",
       "    <tr>\n",
       "      <th>66</th>\n",
       "      <td>01 - The Awakening</td>\n",
       "      <td>Creation Station - Yorkshire Schools Dance Fes...</td>\n",
       "      <td>2022-11-19</td>\n",
       "      <td>NaN</td>\n",
       "    </tr>\n",
       "    <tr>\n",
       "      <th>68</th>\n",
       "      <td>01 - The Awakening</td>\n",
       "      <td>Creation Station: Ballot Engagement</td>\n",
       "      <td>NaT</td>\n",
       "      <td>NaN</td>\n",
       "    </tr>\n",
       "    <tr>\n",
       "      <th>71</th>\n",
       "      <td>01 - The Awakening</td>\n",
       "      <td>Leeds Arts University - Creation Station</td>\n",
       "      <td>NaT</td>\n",
       "      <td>NaN</td>\n",
       "    </tr>\n",
       "    <tr>\n",
       "      <th>...</th>\n",
       "      <td>...</td>\n",
       "      <td>...</td>\n",
       "      <td>...</td>\n",
       "      <td>...</td>\n",
       "    </tr>\n",
       "    <tr>\n",
       "      <th>301</th>\n",
       "      <td>Hidden Stories</td>\n",
       "      <td>Edible Archives: Eating The Corn Exchange Invi...</td>\n",
       "      <td>2023-10-29</td>\n",
       "      <td>NaN</td>\n",
       "    </tr>\n",
       "    <tr>\n",
       "      <th>302</th>\n",
       "      <td>Hidden Stories</td>\n",
       "      <td>Edible Archives: Eating The Corn Exchange Slot 1</td>\n",
       "      <td>2023-10-29</td>\n",
       "      <td>NaN</td>\n",
       "    </tr>\n",
       "    <tr>\n",
       "      <th>303</th>\n",
       "      <td>Hidden Stories</td>\n",
       "      <td>Edible Archives: Eating The Corn Exchange Slot 2</td>\n",
       "      <td>2023-10-29</td>\n",
       "      <td>NaN</td>\n",
       "    </tr>\n",
       "    <tr>\n",
       "      <th>304</th>\n",
       "      <td>Hidden Stories</td>\n",
       "      <td>Harewood House - Aberford Community Cafe</td>\n",
       "      <td>2023-04-28</td>\n",
       "      <td>NaN</td>\n",
       "    </tr>\n",
       "    <tr>\n",
       "      <th>317</th>\n",
       "      <td>Hidden Stories</td>\n",
       "      <td>Royal Armouries Exhibition</td>\n",
       "      <td>2023-09-07</td>\n",
       "      <td>NaN</td>\n",
       "    </tr>\n",
       "  </tbody>\n",
       "</table>\n",
       "<p>89 rows × 4 columns</p>\n",
       "</div>"
      ],
      "text/plain": [
       "           project_name                                         event_name  \\\n",
       "51   01 - The Awakening             Creation Station - Leeds City Council    \n",
       "52   01 - The Awakening             Creation Station - Leeds City Council    \n",
       "66   01 - The Awakening  Creation Station - Yorkshire Schools Dance Fes...   \n",
       "68   01 - The Awakening               Creation Station: Ballot Engagement    \n",
       "71   01 - The Awakening           Leeds Arts University - Creation Station   \n",
       "..                  ...                                                ...   \n",
       "301      Hidden Stories  Edible Archives: Eating The Corn Exchange Invi...   \n",
       "302      Hidden Stories  Edible Archives: Eating The Corn Exchange Slot 1    \n",
       "303      Hidden Stories   Edible Archives: Eating The Corn Exchange Slot 2   \n",
       "304      Hidden Stories           Harewood House - Aberford Community Cafe   \n",
       "317      Hidden Stories                         Royal Armouries Exhibition   \n",
       "\n",
       "    start_date ward_(from_venue)  \n",
       "51  2022-11-23               NaN  \n",
       "52  2022-11-24               NaN  \n",
       "66  2022-11-19               NaN  \n",
       "68         NaT               NaN  \n",
       "71         NaT               NaN  \n",
       "..         ...               ...  \n",
       "301 2023-10-29               NaN  \n",
       "302 2023-10-29               NaN  \n",
       "303 2023-10-29               NaN  \n",
       "304 2023-04-28               NaN  \n",
       "317 2023-09-07               NaN  \n",
       "\n",
       "[89 rows x 4 columns]"
      ]
     },
     "execution_count": 7,
     "metadata": {},
     "output_type": "execute_result"
    }
   ],
   "source": [
    "data.loc[wards.apply(len) != 1, ['project_name', 'event_name', 'start_date', 'ward_(from_venue)']]"
   ]
  },
  {
   "cell_type": "markdown",
   "id": "9b2a2ab7",
   "metadata": {
    "papermill": {
     "duration": 0.002374,
     "end_time": "2024-01-01T23:40:31.556269",
     "exception": false,
     "start_time": "2024-01-01T23:40:31.553895",
     "status": "completed"
    },
    "tags": []
   },
   "source": [
    "Missing audience"
   ]
  },
  {
   "cell_type": "code",
   "execution_count": 8,
   "id": "d1b059e2",
   "metadata": {
    "execution": {
     "iopub.execute_input": "2024-01-01T23:40:31.562119Z",
     "iopub.status.busy": "2024-01-01T23:40:31.561645Z",
     "iopub.status.idle": "2024-01-01T23:40:31.572362Z",
     "shell.execute_reply": "2024-01-01T23:40:31.571700Z"
    },
    "papermill": {
     "duration": 0.015213,
     "end_time": "2024-01-01T23:40:31.573709",
     "exception": false,
     "start_time": "2024-01-01T23:40:31.558496",
     "status": "completed"
    },
    "tags": []
   },
   "outputs": [
    {
     "data": {
      "text/html": [
       "<div>\n",
       "<style scoped>\n",
       "    .dataframe tbody tr th:only-of-type {\n",
       "        vertical-align: middle;\n",
       "    }\n",
       "\n",
       "    .dataframe tbody tr th {\n",
       "        vertical-align: top;\n",
       "    }\n",
       "\n",
       "    .dataframe thead th {\n",
       "        text-align: right;\n",
       "    }\n",
       "</style>\n",
       "<table border=\"1\" class=\"dataframe\">\n",
       "  <thead>\n",
       "    <tr style=\"text-align: right;\">\n",
       "      <th></th>\n",
       "      <th>project_name</th>\n",
       "      <th>event_name</th>\n",
       "      <th>start_date</th>\n",
       "      <th>audience</th>\n",
       "    </tr>\n",
       "  </thead>\n",
       "  <tbody>\n",
       "    <tr>\n",
       "      <th>0</th>\n",
       "      <td>01 - The Awakening</td>\n",
       "      <td>Ballot Facilitated Session - Carr Manor Commun...</td>\n",
       "      <td>2022-11-01</td>\n",
       "      <td>NaN</td>\n",
       "    </tr>\n",
       "    <tr>\n",
       "      <th>1</th>\n",
       "      <td>01 - The Awakening</td>\n",
       "      <td>Ballot Facilitated Session - Chapel Allerton P...</td>\n",
       "      <td>2022-11-07</td>\n",
       "      <td>NaN</td>\n",
       "    </tr>\n",
       "    <tr>\n",
       "      <th>2</th>\n",
       "      <td>01 - The Awakening</td>\n",
       "      <td>Ballot Facilitated Session - Cobden Primary Sc...</td>\n",
       "      <td>2022-11-09</td>\n",
       "      <td>NaN</td>\n",
       "    </tr>\n",
       "    <tr>\n",
       "      <th>3</th>\n",
       "      <td>01 - The Awakening</td>\n",
       "      <td>Ballot Facilitated Session - Cobden Primary Sc...</td>\n",
       "      <td>2022-11-10</td>\n",
       "      <td>NaN</td>\n",
       "    </tr>\n",
       "    <tr>\n",
       "      <th>4</th>\n",
       "      <td>01 - The Awakening</td>\n",
       "      <td>Ballot Facilitated Session - Cobden Primary Sc...</td>\n",
       "      <td>2022-11-18</td>\n",
       "      <td>NaN</td>\n",
       "    </tr>\n",
       "    <tr>\n",
       "      <th>...</th>\n",
       "      <td>...</td>\n",
       "      <td>...</td>\n",
       "      <td>...</td>\n",
       "      <td>...</td>\n",
       "    </tr>\n",
       "    <tr>\n",
       "      <th>323</th>\n",
       "      <td>Hidden Stories</td>\n",
       "      <td>Try Your Hand at Ceramic Sculpture</td>\n",
       "      <td>2023-09-10</td>\n",
       "      <td>NaN</td>\n",
       "    </tr>\n",
       "    <tr>\n",
       "      <th>324</th>\n",
       "      <td>Hidden Stories</td>\n",
       "      <td>Try Your Hand at Ceramic Sculpture</td>\n",
       "      <td>2023-09-16</td>\n",
       "      <td>NaN</td>\n",
       "    </tr>\n",
       "    <tr>\n",
       "      <th>325</th>\n",
       "      <td>Hidden Stories</td>\n",
       "      <td>Try Your Hand at Stone Carving</td>\n",
       "      <td>2023-09-09</td>\n",
       "      <td>NaN</td>\n",
       "    </tr>\n",
       "    <tr>\n",
       "      <th>326</th>\n",
       "      <td>Hidden Stories</td>\n",
       "      <td>Try Your Hand at Stone Carving</td>\n",
       "      <td>2023-09-10</td>\n",
       "      <td>NaN</td>\n",
       "    </tr>\n",
       "    <tr>\n",
       "      <th>327</th>\n",
       "      <td>Hidden Stories</td>\n",
       "      <td>Try Your Hand at Stone Carving</td>\n",
       "      <td>2023-09-16</td>\n",
       "      <td>NaN</td>\n",
       "    </tr>\n",
       "  </tbody>\n",
       "</table>\n",
       "<p>177 rows × 4 columns</p>\n",
       "</div>"
      ],
      "text/plain": [
       "           project_name                                         event_name  \\\n",
       "0    01 - The Awakening  Ballot Facilitated Session - Carr Manor Commun...   \n",
       "1    01 - The Awakening  Ballot Facilitated Session - Chapel Allerton P...   \n",
       "2    01 - The Awakening  Ballot Facilitated Session - Cobden Primary Sc...   \n",
       "3    01 - The Awakening  Ballot Facilitated Session - Cobden Primary Sc...   \n",
       "4    01 - The Awakening  Ballot Facilitated Session - Cobden Primary Sc...   \n",
       "..                  ...                                                ...   \n",
       "323      Hidden Stories                 Try Your Hand at Ceramic Sculpture   \n",
       "324      Hidden Stories                 Try Your Hand at Ceramic Sculpture   \n",
       "325      Hidden Stories                     Try Your Hand at Stone Carving   \n",
       "326      Hidden Stories                     Try Your Hand at Stone Carving   \n",
       "327      Hidden Stories                     Try Your Hand at Stone Carving   \n",
       "\n",
       "    start_date  audience  \n",
       "0   2022-11-01       NaN  \n",
       "1   2022-11-07       NaN  \n",
       "2   2022-11-09       NaN  \n",
       "3   2022-11-10       NaN  \n",
       "4   2022-11-18       NaN  \n",
       "..         ...       ...  \n",
       "323 2023-09-10       NaN  \n",
       "324 2023-09-16       NaN  \n",
       "325 2023-09-09       NaN  \n",
       "326 2023-09-10       NaN  \n",
       "327 2023-09-16       NaN  \n",
       "\n",
       "[177 rows x 4 columns]"
      ]
     },
     "execution_count": 8,
     "metadata": {},
     "output_type": "execute_result"
    }
   ],
   "source": [
    "data.loc[data.audience.isna(), ['project_name', 'event_name', 'start_date', 'audience']]"
   ]
  },
  {
   "cell_type": "code",
   "execution_count": null,
   "id": "9e6a829f",
   "metadata": {
    "papermill": {
     "duration": 0.002479,
     "end_time": "2024-01-01T23:40:31.578625",
     "exception": false,
     "start_time": "2024-01-01T23:40:31.576146",
     "status": "completed"
    },
    "tags": []
   },
   "outputs": [],
   "source": []
  },
  {
   "cell_type": "code",
   "execution_count": null,
   "id": "92d8c773",
   "metadata": {
    "papermill": {
     "duration": 0.002366,
     "end_time": "2024-01-01T23:40:31.583324",
     "exception": false,
     "start_time": "2024-01-01T23:40:31.580958",
     "status": "completed"
    },
    "tags": []
   },
   "outputs": [],
   "source": []
  }
 ],
 "metadata": {
  "kernelspec": {
   "display_name": "leeds-2023-YZF5GfJv",
   "language": "python",
   "name": "python3"
  },
  "language_info": {
   "codemirror_mode": {
    "name": "ipython",
    "version": 3
   },
   "file_extension": ".py",
   "mimetype": "text/x-python",
   "name": "python",
   "nbconvert_exporter": "python",
   "pygments_lexer": "ipython3",
   "version": "3.10.13"
  },
  "papermill": {
   "default_parameters": {},
   "duration": 9.862232,
   "end_time": "2024-01-01T23:40:31.902982",
   "environment_variables": {},
   "exception": null,
   "input_path": "transform.ipynb",
   "output_path": "../../../working/output/community-transform.ipynb",
   "parameters": {},
   "start_time": "2024-01-01T23:40:22.040750",
   "version": "2.4.0"
  }
 },
 "nbformat": 4,
 "nbformat_minor": 5
}