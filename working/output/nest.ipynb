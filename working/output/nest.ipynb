{
 "cells": [
  {
   "cell_type": "markdown",
   "id": "e802c558",
   "metadata": {
    "papermill": {
     "duration": 0.004235,
     "end_time": "2023-10-27T14:21:06.528049",
     "exception": false,
     "start_time": "2023-10-27T14:21:06.523814",
     "status": "completed"
    },
    "tags": []
   },
   "source": [
    "# Nest\n",
    "\n",
    "Prepares data for the Nest page "
   ]
  },
  {
   "cell_type": "code",
   "execution_count": 1,
   "id": "013dbc81",
   "metadata": {
    "execution": {
     "iopub.execute_input": "2023-10-27T14:21:06.530826Z",
     "iopub.status.busy": "2023-10-27T14:21:06.530397Z",
     "iopub.status.idle": "2023-10-27T14:21:11.455550Z",
     "shell.execute_reply": "2023-10-27T14:21:11.455080Z"
    },
    "papermill": {
     "duration": 4.927636,
     "end_time": "2023-10-27T14:21:11.456577",
     "exception": false,
     "start_time": "2023-10-27T14:21:06.528941",
     "status": "completed"
    },
    "tags": []
   },
   "outputs": [],
   "source": [
    "import os\n",
    "from events import (\n",
    "    load_event_data, filter_public_events, filter_by_project, prepare, save_files, count_wards\n",
    ")"
   ]
  },
  {
   "cell_type": "markdown",
   "id": "ae52d240",
   "metadata": {
    "papermill": {
     "duration": 0.000812,
     "end_time": "2023-10-27T14:21:11.458381",
     "exception": false,
     "start_time": "2023-10-27T14:21:11.457569",
     "status": "completed"
    },
    "tags": []
   },
   "source": [
    "Set output directory"
   ]
  },
  {
   "cell_type": "code",
   "execution_count": 2,
   "id": "73a52b08",
   "metadata": {
    "execution": {
     "iopub.execute_input": "2023-10-27T14:21:11.460564Z",
     "iopub.status.busy": "2023-10-27T14:21:11.460401Z",
     "iopub.status.idle": "2023-10-27T14:21:11.462288Z",
     "shell.execute_reply": "2023-10-27T14:21:11.462011Z"
    },
    "papermill": {
     "duration": 0.003908,
     "end_time": "2023-10-27T14:21:11.463003",
     "exception": false,
     "start_time": "2023-10-27T14:21:11.459095",
     "status": "completed"
    },
    "tags": []
   },
   "outputs": [],
   "source": [
    "OUT_DIR = '../../../../docs/metrics/events/nest/_data/events'"
   ]
  },
  {
   "cell_type": "markdown",
   "id": "4df54334",
   "metadata": {
    "papermill": {
     "duration": 0.000718,
     "end_time": "2023-10-27T14:21:11.464484",
     "exception": false,
     "start_time": "2023-10-27T14:21:11.463766",
     "status": "completed"
    },
    "tags": []
   },
   "source": [
    "Read in event data and filter by **My LEEDS 2023** project.\n",
    "\n",
    "The criteria are:\n",
    "\n",
    "* project type is 'Produce (Signature)'\n",
    "* event_type contains 'Public Event -'\n",
    "\n",
    "It's then filtered by project_name is '10 - Melt'"
   ]
  },
  {
   "cell_type": "code",
   "execution_count": 3,
   "id": "efe60fc4",
   "metadata": {
    "execution": {
     "iopub.execute_input": "2023-10-27T14:21:11.466559Z",
     "iopub.status.busy": "2023-10-27T14:21:11.466412Z",
     "iopub.status.idle": "2023-10-27T14:21:11.480319Z",
     "shell.execute_reply": "2023-10-27T14:21:11.480036Z"
    },
    "papermill": {
     "duration": 0.015798,
     "end_time": "2023-10-27T14:21:11.481009",
     "exception": false,
     "start_time": "2023-10-27T14:21:11.465211",
     "status": "completed"
    },
    "tags": []
   },
   "outputs": [
    {
     "data": {
      "text/html": [
       "<div>\n",
       "<style scoped>\n",
       "    .dataframe tbody tr th:only-of-type {\n",
       "        vertical-align: middle;\n",
       "    }\n",
       "\n",
       "    .dataframe tbody tr th {\n",
       "        vertical-align: top;\n",
       "    }\n",
       "\n",
       "    .dataframe thead th {\n",
       "        text-align: right;\n",
       "    }\n",
       "</style>\n",
       "<table border=\"1\" class=\"dataframe\">\n",
       "  <thead>\n",
       "    <tr style=\"text-align: right;\">\n",
       "      <th></th>\n",
       "      <th>actual_audience_size_number_of_participants_in_person</th>\n",
       "      <th>actual_audience_size_number_of_participants_online</th>\n",
       "      <th>airtable_id</th>\n",
       "      <th>end_date</th>\n",
       "      <th>event_name</th>\n",
       "      <th>event_type</th>\n",
       "      <th>event_unique_identifier</th>\n",
       "      <th>number_of_booked_participants</th>\n",
       "      <th>postcode_(from_venue)</th>\n",
       "      <th>project_name</th>\n",
       "      <th>project_type</th>\n",
       "      <th>season</th>\n",
       "      <th>start_date</th>\n",
       "      <th>ticket_tailor_id</th>\n",
       "      <th>ward_(from_venue)</th>\n",
       "    </tr>\n",
       "  </thead>\n",
       "  <tbody>\n",
       "    <tr>\n",
       "      <th>1103</th>\n",
       "      <td>1338.0</td>\n",
       "      <td>NaN</td>\n",
       "      <td>241</td>\n",
       "      <td>2023-09-09</td>\n",
       "      <td>Melt (Run)</td>\n",
       "      <td>['Public Event - Performance']</td>\n",
       "      <td>10 - Melt: Melt (Run)</td>\n",
       "      <td>1542.0</td>\n",
       "      <td>['LS26 8AL']</td>\n",
       "      <td>10 - Melt</td>\n",
       "      <td>Produce (Signature)</td>\n",
       "      <td>['Season 3 - Dreaming']</td>\n",
       "      <td>2023-09-05</td>\n",
       "      <td>NaN</td>\n",
       "      <td>['Garforth and Swillington']</td>\n",
       "    </tr>\n",
       "  </tbody>\n",
       "</table>\n",
       "</div>"
      ],
      "text/plain": [
       "      actual_audience_size_number_of_participants_in_person  \\\n",
       "1103                                             1338.0       \n",
       "\n",
       "      actual_audience_size_number_of_participants_online  airtable_id  \\\n",
       "1103                                                NaN           241   \n",
       "\n",
       "        end_date  event_name                      event_type  \\\n",
       "1103  2023-09-09  Melt (Run)  ['Public Event - Performance']   \n",
       "\n",
       "     event_unique_identifier  number_of_booked_participants  \\\n",
       "1103   10 - Melt: Melt (Run)                         1542.0   \n",
       "\n",
       "     postcode_(from_venue) project_name         project_type  \\\n",
       "1103          ['LS26 8AL']    10 - Melt  Produce (Signature)   \n",
       "\n",
       "                       season start_date  ticket_tailor_id  \\\n",
       "1103  ['Season 3 - Dreaming'] 2023-09-05               NaN   \n",
       "\n",
       "                 ward_(from_venue)  \n",
       "1103  ['Garforth and Swillington']  "
      ]
     },
     "execution_count": 3,
     "metadata": {},
     "output_type": "execute_result"
    }
   ],
   "source": [
    "data = (\n",
    "  load_event_data()\n",
    "    .pipe(filter_by_project, '10 - Melt')\n",
    "    .pipe(filter_public_events)\n",
    "  )\n",
    "data"
   ]
  },
  {
   "cell_type": "markdown",
   "id": "d5628cd3",
   "metadata": {
    "papermill": {
     "duration": 0.000876,
     "end_time": "2023-10-27T14:21:11.482879",
     "exception": false,
     "start_time": "2023-10-27T14:21:11.482003",
     "status": "completed"
    },
    "tags": []
   },
   "source": [
    "Run the processing and save the files"
   ]
  },
  {
   "cell_type": "code",
   "execution_count": 4,
   "id": "b09b70b8",
   "metadata": {
    "execution": {
     "iopub.execute_input": "2023-10-27T14:21:11.485181Z",
     "iopub.status.busy": "2023-10-27T14:21:11.485035Z",
     "iopub.status.idle": "2023-10-27T14:21:11.498777Z",
     "shell.execute_reply": "2023-10-27T14:21:11.498437Z"
    },
    "papermill": {
     "duration": 0.015712,
     "end_time": "2023-10-27T14:21:11.499471",
     "exception": false,
     "start_time": "2023-10-27T14:21:11.483759",
     "status": "completed"
    },
    "tags": []
   },
   "outputs": [],
   "source": [
    "data = data.pipe(prepare).pipe(save_files, OUT_DIR)"
   ]
  }
 ],
 "metadata": {
  "kernelspec": {
   "display_name": "leeds-2023-YZF5GfJv",
   "language": "python",
   "name": "python3"
  },
  "language_info": {
   "codemirror_mode": {
    "name": "ipython",
    "version": 3
   },
   "file_extension": ".py",
   "mimetype": "text/x-python",
   "name": "python",
   "nbconvert_exporter": "python",
   "pygments_lexer": "ipython3",
   "version": "3.10.12"
  },
  "papermill": {
   "default_parameters": {},
   "duration": 5.906226,
   "end_time": "2023-10-27T14:21:11.716273",
   "environment_variables": {},
   "exception": null,
   "input_path": "nest.ipynb",
   "output_path": "../../../../working/output/nest.ipynb",
   "parameters": {},
   "start_time": "2023-10-27T14:21:05.810047",
   "version": "2.4.0"
  }
 },
 "nbformat": 4,
 "nbformat_minor": 5
}