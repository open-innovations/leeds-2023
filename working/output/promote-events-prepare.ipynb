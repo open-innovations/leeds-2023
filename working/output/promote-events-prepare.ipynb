{
 "cells": [
  {
   "cell_type": "code",
   "execution_count": 1,
   "id": "cd0e8f22",
   "metadata": {
    "execution": {
     "iopub.execute_input": "2023-09-02T23:40:04.845871Z",
     "iopub.status.busy": "2023-09-02T23:40:04.844667Z",
     "iopub.status.idle": "2023-09-02T23:40:05.130811Z",
     "shell.execute_reply": "2023-09-02T23:40:05.129876Z"
    },
    "papermill": {
     "duration": 0.294261,
     "end_time": "2023-09-02T23:40:05.132854",
     "exception": false,
     "start_time": "2023-09-02T23:40:04.838593",
     "status": "completed"
    },
    "tags": []
   },
   "outputs": [],
   "source": [
    "import os\n",
    "import pandas as pd"
   ]
  },
  {
   "cell_type": "code",
   "execution_count": 2,
   "id": "3e25d7eb",
   "metadata": {
    "execution": {
     "iopub.execute_input": "2023-09-02T23:40:05.138692Z",
     "iopub.status.busy": "2023-09-02T23:40:05.138353Z",
     "iopub.status.idle": "2023-09-02T23:40:05.141967Z",
     "shell.execute_reply": "2023-09-02T23:40:05.141218Z"
    },
    "papermill": {
     "duration": 0.008922,
     "end_time": "2023-09-02T23:40:05.144035",
     "exception": false,
     "start_time": "2023-09-02T23:40:05.135113",
     "status": "completed"
    },
    "tags": []
   },
   "outputs": [],
   "source": [
    "DATA_DIR='../../../docs/metrics/events/promote/_data/'\n",
    "os.makedirs(DATA_DIR, exist_ok=True)"
   ]
  },
  {
   "cell_type": "code",
   "execution_count": 3,
   "id": "1432a698",
   "metadata": {
    "execution": {
     "iopub.execute_input": "2023-09-02T23:40:05.149007Z",
     "iopub.status.busy": "2023-09-02T23:40:05.148753Z",
     "iopub.status.idle": "2023-09-02T23:40:05.158752Z",
     "shell.execute_reply": "2023-09-02T23:40:05.158102Z"
    },
    "papermill": {
     "duration": 0.014691,
     "end_time": "2023-09-02T23:40:05.160600",
     "exception": false,
     "start_time": "2023-09-02T23:40:05.145909",
     "status": "completed"
    },
    "tags": []
   },
   "outputs": [],
   "source": [
    "data = pd.read_csv('../../../data/metrics/events/promote-events/events.csv', parse_dates=['time'])"
   ]
  },
  {
   "cell_type": "code",
   "execution_count": 4,
   "id": "2efd9bb1",
   "metadata": {
    "execution": {
     "iopub.execute_input": "2023-09-02T23:40:05.165889Z",
     "iopub.status.busy": "2023-09-02T23:40:05.165283Z",
     "iopub.status.idle": "2023-09-02T23:40:05.172499Z",
     "shell.execute_reply": "2023-09-02T23:40:05.171798Z"
    },
    "papermill": {
     "duration": 0.012074,
     "end_time": "2023-09-02T23:40:05.174555",
     "exception": false,
     "start_time": "2023-09-02T23:40:05.162481",
     "status": "completed"
    },
    "tags": []
   },
   "outputs": [],
   "source": [
    "pd.Series({\n",
    "    'total_events': len(data.id.unique()),\n",
    "    'total_event_instances': len(data.time),\n",
    "    'earliest_event': data.time.min(),\n",
    "    'latest_event': data.time.max(),\n",
    "}).to_json(\n",
    "    os.path.join(DATA_DIR, 'headlines.json'),\n",
    "    date_format='iso', indent=2\n",
    ")"
   ]
  },
  {
   "cell_type": "code",
   "execution_count": 5,
   "id": "52b82fe0",
   "metadata": {
    "execution": {
     "iopub.execute_input": "2023-09-02T23:40:05.179793Z",
     "iopub.status.busy": "2023-09-02T23:40:05.179268Z",
     "iopub.status.idle": "2023-09-02T23:40:05.190325Z",
     "shell.execute_reply": "2023-09-02T23:40:05.189271Z"
    },
    "papermill": {
     "duration": 0.015535,
     "end_time": "2023-09-02T23:40:05.191998",
     "exception": false,
     "start_time": "2023-09-02T23:40:05.176463",
     "status": "completed"
    },
    "tags": []
   },
   "outputs": [],
   "source": [
    "events = pd.DataFrame({\n",
    "    'events': data.groupby('id').agg({ 'time': 'min' }).reset_index().groupby('time').id.count(),\n",
    "    'event_instances': data.groupby('time').id.count(),\n",
    "}).fillna(0).astype(int)"
   ]
  },
  {
   "cell_type": "code",
   "execution_count": 6,
   "id": "41bf6e5b",
   "metadata": {
    "execution": {
     "iopub.execute_input": "2023-09-02T23:40:05.197120Z",
     "iopub.status.busy": "2023-09-02T23:40:05.196650Z",
     "iopub.status.idle": "2023-09-02T23:40:05.200659Z",
     "shell.execute_reply": "2023-09-02T23:40:05.199902Z"
    },
    "papermill": {
     "duration": 0.008712,
     "end_time": "2023-09-02T23:40:05.202594",
     "exception": false,
     "start_time": "2023-09-02T23:40:05.193882",
     "status": "completed"
    },
    "tags": []
   },
   "outputs": [],
   "source": [
    "def cumulate(data):\n",
    "    return pd.concat([\n",
    "        data,\n",
    "        data.cumsum().rename(columns=lambda c: f'cumulative_{c}')\n",
    "    ], axis=1)"
   ]
  },
  {
   "cell_type": "code",
   "execution_count": 7,
   "id": "3c149a57",
   "metadata": {
    "execution": {
     "iopub.execute_input": "2023-09-02T23:40:05.208172Z",
     "iopub.status.busy": "2023-09-02T23:40:05.207531Z",
     "iopub.status.idle": "2023-09-02T23:40:05.218487Z",
     "shell.execute_reply": "2023-09-02T23:40:05.217837Z"
    },
    "papermill": {
     "duration": 0.015617,
     "end_time": "2023-09-02T23:40:05.220244",
     "exception": false,
     "start_time": "2023-09-02T23:40:05.204627",
     "status": "completed"
    },
    "tags": []
   },
   "outputs": [],
   "source": [
    "events.resample('W-FRI').sum().pipe(cumulate).to_csv(os.path.join(DATA_DIR, 'by_week.csv'))"
   ]
  },
  {
   "cell_type": "code",
   "execution_count": 8,
   "id": "5eeae68e",
   "metadata": {
    "execution": {
     "iopub.execute_input": "2023-09-02T23:40:05.225760Z",
     "iopub.status.busy": "2023-09-02T23:40:05.225153Z",
     "iopub.status.idle": "2023-09-02T23:40:05.233045Z",
     "shell.execute_reply": "2023-09-02T23:40:05.232263Z"
    },
    "papermill": {
     "duration": 0.01235,
     "end_time": "2023-09-02T23:40:05.234642",
     "exception": false,
     "start_time": "2023-09-02T23:40:05.222292",
     "status": "completed"
    },
    "tags": []
   },
   "outputs": [],
   "source": [
    "events.resample('MS').sum().pipe(cumulate).to_csv(os.path.join(DATA_DIR, 'by_month.csv'))"
   ]
  },
  {
   "cell_type": "code",
   "execution_count": null,
   "id": "98fd075d",
   "metadata": {
    "papermill": {
     "duration": 0.001995,
     "end_time": "2023-09-02T23:40:05.238766",
     "exception": false,
     "start_time": "2023-09-02T23:40:05.236771",
     "status": "completed"
    },
    "tags": []
   },
   "outputs": [],
   "source": []
  }
 ],
 "metadata": {
  "kernelspec": {
   "display_name": "leeds-2023-YZF5GfJv",
   "language": "python",
   "name": "python3"
  },
  "language_info": {
   "codemirror_mode": {
    "name": "ipython",
    "version": 3
   },
   "file_extension": ".py",
   "mimetype": "text/x-python",
   "name": "python",
   "nbconvert_exporter": "python",
   "pygments_lexer": "ipython3",
   "version": "3.10.12"
  },
  "papermill": {
   "default_parameters": {},
   "duration": 1.978995,
   "end_time": "2023-09-02T23:40:05.458695",
   "environment_variables": {},
   "exception": null,
   "input_path": "prepare.ipynb",
   "output_path": "../../../working/output/promote-events-prepare.ipynb",
   "parameters": {},
   "start_time": "2023-09-02T23:40:03.479700",
   "version": "2.4.0"
  }
 },
 "nbformat": 4,
 "nbformat_minor": 5
}