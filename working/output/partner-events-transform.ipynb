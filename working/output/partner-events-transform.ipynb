{
 "cells": [
  {
   "cell_type": "code",
   "execution_count": 1,
   "id": "3dcdc6ab",
   "metadata": {
    "execution": {
     "iopub.execute_input": "2023-11-13T15:40:10.638088Z",
     "iopub.status.busy": "2023-11-13T15:40:10.637303Z",
     "iopub.status.idle": "2023-11-13T15:40:10.925284Z",
     "shell.execute_reply": "2023-11-13T15:40:10.924376Z"
    },
    "papermill": {
     "duration": 0.295662,
     "end_time": "2023-11-13T15:40:10.927344",
     "exception": false,
     "start_time": "2023-11-13T15:40:10.631682",
     "status": "completed"
    },
    "tags": []
   },
   "outputs": [],
   "source": [
    "import os\n",
    "import sys\n",
    "import pandas as pd\n",
    "lib_dir = os.path.realpath('../../../lib/')\n",
    "if lib_dir not in sys.path: sys.path.append(lib_dir)"
   ]
  },
  {
   "cell_type": "code",
   "execution_count": 2,
   "id": "2d2ff310",
   "metadata": {
    "execution": {
     "iopub.execute_input": "2023-11-13T15:40:10.934863Z",
     "iopub.status.busy": "2023-11-13T15:40:10.934288Z",
     "iopub.status.idle": "2023-11-13T15:40:22.760059Z",
     "shell.execute_reply": "2023-11-13T15:40:22.759236Z"
    },
    "papermill": {
     "duration": 11.83215,
     "end_time": "2023-11-13T15:40:22.762506",
     "exception": false,
     "start_time": "2023-11-13T15:40:10.930356",
     "status": "completed"
    },
    "tags": []
   },
   "outputs": [],
   "source": [
    "import util.geo"
   ]
  },
  {
   "cell_type": "code",
   "execution_count": 3,
   "id": "d9710c83",
   "metadata": {
    "execution": {
     "iopub.execute_input": "2023-11-13T15:40:22.771471Z",
     "iopub.status.busy": "2023-11-13T15:40:22.770926Z",
     "iopub.status.idle": "2023-11-13T15:40:22.775922Z",
     "shell.execute_reply": "2023-11-13T15:40:22.775281Z"
    },
    "papermill": {
     "duration": 0.011278,
     "end_time": "2023-11-13T15:40:22.777676",
     "exception": false,
     "start_time": "2023-11-13T15:40:22.766398",
     "status": "completed"
    },
    "tags": []
   },
   "outputs": [],
   "source": [
    "EVENTS_RAW_DATA = '../../../working/metrics/partner-events/events.csv'\n",
    "DATA_DIR = '../../../data/metrics/events/partner-events/'\n",
    "EVENTS_DATA = os.path.join(DATA_DIR, 'events.csv')"
   ]
  },
  {
   "cell_type": "code",
   "execution_count": 4,
   "id": "52c8a5c0",
   "metadata": {
    "execution": {
     "iopub.execute_input": "2023-11-13T15:40:22.784863Z",
     "iopub.status.busy": "2023-11-13T15:40:22.784263Z",
     "iopub.status.idle": "2023-11-13T15:40:22.789325Z",
     "shell.execute_reply": "2023-11-13T15:40:22.788756Z"
    },
    "papermill": {
     "duration": 0.010428,
     "end_time": "2023-11-13T15:40:22.790883",
     "exception": false,
     "start_time": "2023-11-13T15:40:22.780455",
     "status": "completed"
    },
    "tags": []
   },
   "outputs": [],
   "source": [
    "columns = {\n",
    "    'Event Name': 'name',\n",
    "    'Event Start Date': 'start_date',\n",
    "    'Event End Date': 'end_date',\n",
    "    'Partner/Promote': 'partner_promote',\n",
    "    'Stage': 'stage',\n",
    "    'Live date': 'live_date',\n",
    "    'Venue postcode': 'postcode',\n",
    "    'Pricing Policy': 'pricing',\n",
    "    'Venue - including address': 'venue',\n",
    "    'Is this event on Leeds Inspried?': 'on_leeds_inspired',\n",
    "}"
   ]
  },
  {
   "cell_type": "markdown",
   "id": "257b0145",
   "metadata": {
    "papermill": {
     "duration": 0.002887,
     "end_time": "2023-11-13T15:40:22.796591",
     "exception": false,
     "start_time": "2023-11-13T15:40:22.793704",
     "status": "completed"
    },
    "tags": []
   },
   "source": [
    "Load the data and rename columns. Parse the dates to dates."
   ]
  },
  {
   "cell_type": "code",
   "execution_count": 5,
   "id": "dd719a3d",
   "metadata": {
    "execution": {
     "iopub.execute_input": "2023-11-13T15:40:22.803821Z",
     "iopub.status.busy": "2023-11-13T15:40:22.803428Z",
     "iopub.status.idle": "2023-11-13T15:40:22.814980Z",
     "shell.execute_reply": "2023-11-13T15:40:22.814421Z"
    },
    "papermill": {
     "duration": 0.017518,
     "end_time": "2023-11-13T15:40:22.816837",
     "exception": false,
     "start_time": "2023-11-13T15:40:22.799319",
     "status": "completed"
    },
    "tags": []
   },
   "outputs": [],
   "source": [
    "data = pd.read_csv(EVENTS_RAW_DATA)[columns.keys()].rename(columns=columns)\n",
    "data.start_date = pd.to_datetime(data.start_date, errors='coerce')\n",
    "data.end_date = pd.to_datetime(data.end_date, errors='coerce')"
   ]
  },
  {
   "cell_type": "markdown",
   "id": "bb208a8a",
   "metadata": {
    "papermill": {
     "duration": 0.002998,
     "end_time": "2023-11-13T15:40:22.822670",
     "exception": false,
     "start_time": "2023-11-13T15:40:22.819672",
     "status": "completed"
    },
    "tags": []
   },
   "source": [
    "Filter data by not LI Pull through and start date before now"
   ]
  },
  {
   "cell_type": "code",
   "execution_count": 6,
   "id": "8c5a1345",
   "metadata": {
    "execution": {
     "iopub.execute_input": "2023-11-13T15:40:22.831271Z",
     "iopub.status.busy": "2023-11-13T15:40:22.831010Z",
     "iopub.status.idle": "2023-11-13T15:40:22.836418Z",
     "shell.execute_reply": "2023-11-13T15:40:22.835715Z"
    },
    "papermill": {
     "duration": 0.011227,
     "end_time": "2023-11-13T15:40:22.838063",
     "exception": false,
     "start_time": "2023-11-13T15:40:22.826836",
     "status": "completed"
    },
    "tags": []
   },
   "outputs": [],
   "source": [
    "data = data[\n",
    "    # (data.live_date == 'This event is live ') &\n",
    "    ((data.stage != 'LI pull through') & data.stage.notna()) &\n",
    "    (data.start_date < pd.Timestamp.now())\n",
    "]"
   ]
  },
  {
   "cell_type": "code",
   "execution_count": 7,
   "id": "2fb51740",
   "metadata": {
    "execution": {
     "iopub.execute_input": "2023-11-13T15:40:22.845716Z",
     "iopub.status.busy": "2023-11-13T15:40:22.845225Z",
     "iopub.status.idle": "2023-11-13T15:40:24.127077Z",
     "shell.execute_reply": "2023-11-13T15:40:24.126289Z"
    },
    "papermill": {
     "duration": 1.288282,
     "end_time": "2023-11-13T15:40:24.129386",
     "exception": false,
     "start_time": "2023-11-13T15:40:22.841104",
     "status": "completed"
    },
    "tags": []
   },
   "outputs": [],
   "source": [
    "data['ward_code'] = data.postcode.pipe(util.geo.postcode_formatter).map(util.geo.postcode_to_ward_code)\n",
    "data['ward_name'] = data.ward_code.pipe(util.geo.ward_code_to_name)"
   ]
  },
  {
   "cell_type": "markdown",
   "id": "f31f3c19",
   "metadata": {
    "papermill": {
     "duration": 0.004134,
     "end_time": "2023-11-13T15:40:24.137489",
     "exception": false,
     "start_time": "2023-11-13T15:40:24.133355",
     "status": "completed"
    },
    "tags": []
   },
   "source": [
    "Save the file"
   ]
  },
  {
   "cell_type": "code",
   "execution_count": 8,
   "id": "84ad21f7",
   "metadata": {
    "execution": {
     "iopub.execute_input": "2023-11-13T15:40:24.145314Z",
     "iopub.status.busy": "2023-11-13T15:40:24.144917Z",
     "iopub.status.idle": "2023-11-13T15:40:24.153539Z",
     "shell.execute_reply": "2023-11-13T15:40:24.152703Z"
    },
    "papermill": {
     "duration": 0.014554,
     "end_time": "2023-11-13T15:40:24.155340",
     "exception": false,
     "start_time": "2023-11-13T15:40:24.140786",
     "status": "completed"
    },
    "tags": []
   },
   "outputs": [],
   "source": [
    "data[\n",
    "    ['name','start_date','end_date','ward_code']\n",
    "].to_csv(EVENTS_DATA, index=False)"
   ]
  },
  {
   "cell_type": "markdown",
   "id": "bc7735d8",
   "metadata": {
    "papermill": {
     "duration": 0.003104,
     "end_time": "2023-11-13T15:40:24.161683",
     "exception": false,
     "start_time": "2023-11-13T15:40:24.158579",
     "status": "completed"
    },
    "tags": []
   },
   "source": [
    "Print out missing postcode data"
   ]
  },
  {
   "cell_type": "code",
   "execution_count": 9,
   "id": "872f8ea5",
   "metadata": {
    "execution": {
     "iopub.execute_input": "2023-11-13T15:40:24.169336Z",
     "iopub.status.busy": "2023-11-13T15:40:24.168726Z",
     "iopub.status.idle": "2023-11-13T15:40:24.183110Z",
     "shell.execute_reply": "2023-11-13T15:40:24.182374Z"
    },
    "papermill": {
     "duration": 0.020333,
     "end_time": "2023-11-13T15:40:24.184970",
     "exception": false,
     "start_time": "2023-11-13T15:40:24.164637",
     "status": "completed"
    },
    "tags": []
   },
   "outputs": [
    {
     "data": {
      "text/html": [
       "<div>\n",
       "<style scoped>\n",
       "    .dataframe tbody tr th:only-of-type {\n",
       "        vertical-align: middle;\n",
       "    }\n",
       "\n",
       "    .dataframe tbody tr th {\n",
       "        vertical-align: top;\n",
       "    }\n",
       "\n",
       "    .dataframe thead th {\n",
       "        text-align: right;\n",
       "    }\n",
       "</style>\n",
       "<table border=\"1\" class=\"dataframe\">\n",
       "  <thead>\n",
       "    <tr style=\"text-align: right;\">\n",
       "      <th></th>\n",
       "      <th>name</th>\n",
       "      <th>start_date</th>\n",
       "    </tr>\n",
       "  </thead>\n",
       "  <tbody>\n",
       "    <tr>\n",
       "      <th>1</th>\n",
       "      <td>East Street Arts, A City Less Grey 2022</td>\n",
       "      <td>2022-10-08</td>\n",
       "    </tr>\n",
       "    <tr>\n",
       "      <th>3</th>\n",
       "      <td>Phoenix Dance Theatre Virtual Gallery</td>\n",
       "      <td>2023-01-01</td>\n",
       "    </tr>\n",
       "    <tr>\n",
       "      <th>4</th>\n",
       "      <td>The Big Art Giveaway, School of Creative Arts ...</td>\n",
       "      <td>2023-01-01</td>\n",
       "    </tr>\n",
       "    <tr>\n",
       "      <th>5</th>\n",
       "      <td>Embassy of Netherlands, Meet Leeds Lab</td>\n",
       "      <td>2023-01-16</td>\n",
       "    </tr>\n",
       "    <tr>\n",
       "      <th>6</th>\n",
       "      <td>Shifting Borders: A Journey to the Centre of o...</td>\n",
       "      <td>2023-01-24</td>\n",
       "    </tr>\n",
       "    <tr>\n",
       "      <th>...</th>\n",
       "      <td>...</td>\n",
       "      <td>...</td>\n",
       "    </tr>\n",
       "    <tr>\n",
       "      <th>278</th>\n",
       "      <td>citations citations citation citstions citatio...</td>\n",
       "      <td>2023-11-08</td>\n",
       "    </tr>\n",
       "    <tr>\n",
       "      <th>280</th>\n",
       "      <td>Heart of the Nation: Migration and the Making ...</td>\n",
       "      <td>2023-11-10</td>\n",
       "    </tr>\n",
       "    <tr>\n",
       "      <th>281</th>\n",
       "      <td>Dual Language, Story &amp; Rhyme</td>\n",
       "      <td>2023-11-13</td>\n",
       "    </tr>\n",
       "    <tr>\n",
       "      <th>282</th>\n",
       "      <td>Leeds Language Week: El cuento de Babel (The T...</td>\n",
       "      <td>2023-11-13</td>\n",
       "    </tr>\n",
       "    <tr>\n",
       "      <th>283</th>\n",
       "      <td>Leeds Language Week: Taster Workshops</td>\n",
       "      <td>2023-11-13</td>\n",
       "    </tr>\n",
       "  </tbody>\n",
       "</table>\n",
       "<p>109 rows × 2 columns</p>\n",
       "</div>"
      ],
      "text/plain": [
       "                                                  name start_date\n",
       "1              East Street Arts, A City Less Grey 2022 2022-10-08\n",
       "3                Phoenix Dance Theatre Virtual Gallery 2023-01-01\n",
       "4    The Big Art Giveaway, School of Creative Arts ... 2023-01-01\n",
       "5               Embassy of Netherlands, Meet Leeds Lab 2023-01-16\n",
       "6    Shifting Borders: A Journey to the Centre of o... 2023-01-24\n",
       "..                                                 ...        ...\n",
       "278  citations citations citation citstions citatio... 2023-11-08\n",
       "280  Heart of the Nation: Migration and the Making ... 2023-11-10\n",
       "281                      Dual Language, Story & Rhyme  2023-11-13\n",
       "282  Leeds Language Week: El cuento de Babel (The T... 2023-11-13\n",
       "283              Leeds Language Week: Taster Workshops 2023-11-13\n",
       "\n",
       "[109 rows x 2 columns]"
      ]
     },
     "execution_count": 9,
     "metadata": {},
     "output_type": "execute_result"
    }
   ],
   "source": [
    "data[data.postcode.isna()][[\n",
    "    'name', 'start_date'\n",
    "]]"
   ]
  },
  {
   "cell_type": "markdown",
   "id": "9f6d8cf9",
   "metadata": {
    "papermill": {
     "duration": 0.003473,
     "end_time": "2023-11-13T15:40:24.192062",
     "exception": false,
     "start_time": "2023-11-13T15:40:24.188589",
     "status": "completed"
    },
    "tags": []
   },
   "source": [
    "Plot the pricing"
   ]
  },
  {
   "cell_type": "code",
   "execution_count": 10,
   "id": "12cd6be2",
   "metadata": {
    "execution": {
     "iopub.execute_input": "2023-11-13T15:40:24.200352Z",
     "iopub.status.busy": "2023-11-13T15:40:24.199877Z",
     "iopub.status.idle": "2023-11-13T15:40:24.818784Z",
     "shell.execute_reply": "2023-11-13T15:40:24.818071Z"
    },
    "papermill": {
     "duration": 0.625328,
     "end_time": "2023-11-13T15:40:24.820828",
     "exception": false,
     "start_time": "2023-11-13T15:40:24.195500",
     "status": "completed"
    },
    "tags": []
   },
   "outputs": [
    {
     "data": {
      "image/png": "[encoded data removed]",
      "text/plain": [
       "<Figure size 640x480 with 1 Axes>"
      ]
     },
     "metadata": {},
     "output_type": "display_data"
    }
   ],
   "source": [
    "# .groupby('pricing').count().plot.barh()\n",
    "pricing = data.pricing.fillna('Unspecified').str.replace('[\\[\\'\\]]', '', regex=True).to_frame().reset_index().groupby('pricing').count()\n",
    "\n",
    "pricing.columns = ['count']\n",
    "plot = pricing.plot.barh()\n"
   ]
  },
  {
   "cell_type": "code",
   "execution_count": null,
   "id": "323485e7",
   "metadata": {
    "papermill": {
     "duration": 0.004647,
     "end_time": "2023-11-13T15:40:24.830457",
     "exception": false,
     "start_time": "2023-11-13T15:40:24.825810",
     "status": "completed"
    },
    "tags": []
   },
   "outputs": [],
   "source": []
  }
 ],
 "metadata": {
  "kernelspec": {
   "display_name": "leeds-2023-YZF5GfJv",
   "language": "python",
   "name": "python3"
  },
  "language_info": {
   "codemirror_mode": {
    "name": "ipython",
    "version": 3
   },
   "file_extension": ".py",
   "mimetype": "text/x-python",
   "name": "python",
   "nbconvert_exporter": "python",
   "pygments_lexer": "ipython3",
   "version": "3.10.13"
  },
  "papermill": {
   "default_parameters": {},
   "duration": 16.263449,
   "end_time": "2023-11-13T15:40:25.253842",
   "environment_variables": {},
   "exception": null,
   "input_path": "transform.ipynb",
   "output_path": "../../../working/output/partner-events-transform.ipynb",
   "parameters": {},
   "start_time": "2023-11-13T15:40:08.990393",
   "version": "2.4.0"
  }
 },
 "nbformat": 4,
 "nbformat_minor": 5
}