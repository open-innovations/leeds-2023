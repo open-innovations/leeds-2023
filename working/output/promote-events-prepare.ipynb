{
 "cells": [
  {
   "cell_type": "code",
   "execution_count": 1,
   "id": "b1e32096",
   "metadata": {
    "execution": {
     "iopub.execute_input": "2023-09-17T23:39:11.297789Z",
     "iopub.status.busy": "2023-09-17T23:39:11.297227Z",
     "iopub.status.idle": "2023-09-17T23:39:11.554879Z",
     "shell.execute_reply": "2023-09-17T23:39:11.554153Z"
    },
    "papermill": {
     "duration": 0.263419,
     "end_time": "2023-09-17T23:39:11.556925",
     "exception": false,
     "start_time": "2023-09-17T23:39:11.293506",
     "status": "completed"
    },
    "tags": []
   },
   "outputs": [],
   "source": [
    "import os\n",
    "import pandas as pd"
   ]
  },
  {
   "cell_type": "code",
   "execution_count": 2,
   "id": "31a1754a",
   "metadata": {
    "execution": {
     "iopub.execute_input": "2023-09-17T23:39:11.562609Z",
     "iopub.status.busy": "2023-09-17T23:39:11.561911Z",
     "iopub.status.idle": "2023-09-17T23:39:11.565596Z",
     "shell.execute_reply": "2023-09-17T23:39:11.564954Z"
    },
    "papermill": {
     "duration": 0.007942,
     "end_time": "2023-09-17T23:39:11.567093",
     "exception": false,
     "start_time": "2023-09-17T23:39:11.559151",
     "status": "completed"
    },
    "tags": []
   },
   "outputs": [],
   "source": [
    "DATA_DIR='../../../docs/metrics/events/promote/_data/'\n",
    "os.makedirs(DATA_DIR, exist_ok=True)"
   ]
  },
  {
   "cell_type": "code",
   "execution_count": 3,
   "id": "6710e0b2",
   "metadata": {
    "execution": {
     "iopub.execute_input": "2023-09-17T23:39:11.572199Z",
     "iopub.status.busy": "2023-09-17T23:39:11.571548Z",
     "iopub.status.idle": "2023-09-17T23:39:11.580926Z",
     "shell.execute_reply": "2023-09-17T23:39:11.580315Z"
    },
    "papermill": {
     "duration": 0.013726,
     "end_time": "2023-09-17T23:39:11.582640",
     "exception": false,
     "start_time": "2023-09-17T23:39:11.568914",
     "status": "completed"
    },
    "tags": []
   },
   "outputs": [],
   "source": [
    "data = pd.read_csv('../../../data/metrics/events/promote-events/events.csv', parse_dates=['time'])"
   ]
  },
  {
   "cell_type": "code",
   "execution_count": 4,
   "id": "419e39cd",
   "metadata": {
    "execution": {
     "iopub.execute_input": "2023-09-17T23:39:11.587837Z",
     "iopub.status.busy": "2023-09-17T23:39:11.587370Z",
     "iopub.status.idle": "2023-09-17T23:39:11.592921Z",
     "shell.execute_reply": "2023-09-17T23:39:11.592229Z"
    },
    "papermill": {
     "duration": 0.010065,
     "end_time": "2023-09-17T23:39:11.594649",
     "exception": false,
     "start_time": "2023-09-17T23:39:11.584584",
     "status": "completed"
    },
    "tags": []
   },
   "outputs": [],
   "source": [
    "pd.Series({\n",
    "    'total_events': len(data.id.unique()),\n",
    "    'total_event_instances': len(data.time),\n",
    "    'earliest_event': data.time.min(),\n",
    "    'latest_event': data.time.max(),\n",
    "}).to_json(\n",
    "    os.path.join(DATA_DIR, 'headlines.json'),\n",
    "    date_format='iso', indent=2\n",
    ")"
   ]
  },
  {
   "cell_type": "code",
   "execution_count": 5,
   "id": "12e59031",
   "metadata": {
    "execution": {
     "iopub.execute_input": "2023-09-17T23:39:11.599637Z",
     "iopub.status.busy": "2023-09-17T23:39:11.599221Z",
     "iopub.status.idle": "2023-09-17T23:39:11.608633Z",
     "shell.execute_reply": "2023-09-17T23:39:11.608031Z"
    },
    "papermill": {
     "duration": 0.013441,
     "end_time": "2023-09-17T23:39:11.610002",
     "exception": false,
     "start_time": "2023-09-17T23:39:11.596561",
     "status": "completed"
    },
    "tags": []
   },
   "outputs": [],
   "source": [
    "events = pd.DataFrame({\n",
    "    'events': data.groupby('id').agg({ 'time': 'min' }).reset_index().groupby('time').id.count(),\n",
    "    'event_instances': data.groupby('time').id.count(),\n",
    "}).fillna(0).astype(int)"
   ]
  },
  {
   "cell_type": "code",
   "execution_count": 6,
   "id": "35022858",
   "metadata": {
    "execution": {
     "iopub.execute_input": "2023-09-17T23:39:11.615768Z",
     "iopub.status.busy": "2023-09-17T23:39:11.615212Z",
     "iopub.status.idle": "2023-09-17T23:39:11.619809Z",
     "shell.execute_reply": "2023-09-17T23:39:11.619244Z"
    },
    "papermill": {
     "duration": 0.008624,
     "end_time": "2023-09-17T23:39:11.621179",
     "exception": false,
     "start_time": "2023-09-17T23:39:11.612555",
     "status": "completed"
    },
    "tags": []
   },
   "outputs": [],
   "source": [
    "def cumulate(data):\n",
    "    return pd.concat([\n",
    "        data,\n",
    "        data.cumsum().rename(columns=lambda c: f'cumulative_{c}')\n",
    "    ], axis=1)"
   ]
  },
  {
   "cell_type": "code",
   "execution_count": 7,
   "id": "f572e528",
   "metadata": {
    "execution": {
     "iopub.execute_input": "2023-09-17T23:39:11.626263Z",
     "iopub.status.busy": "2023-09-17T23:39:11.625730Z",
     "iopub.status.idle": "2023-09-17T23:39:11.636692Z",
     "shell.execute_reply": "2023-09-17T23:39:11.636117Z"
    },
    "papermill": {
     "duration": 0.015078,
     "end_time": "2023-09-17T23:39:11.638178",
     "exception": false,
     "start_time": "2023-09-17T23:39:11.623100",
     "status": "completed"
    },
    "tags": []
   },
   "outputs": [],
   "source": [
    "events.resample('W-FRI').sum().pipe(cumulate).to_csv(os.path.join(DATA_DIR, 'by_week.csv'))"
   ]
  },
  {
   "cell_type": "code",
   "execution_count": 8,
   "id": "2e75180e",
   "metadata": {
    "execution": {
     "iopub.execute_input": "2023-09-17T23:39:11.643350Z",
     "iopub.status.busy": "2023-09-17T23:39:11.642820Z",
     "iopub.status.idle": "2023-09-17T23:39:11.648784Z",
     "shell.execute_reply": "2023-09-17T23:39:11.648213Z"
    },
    "papermill": {
     "duration": 0.010124,
     "end_time": "2023-09-17T23:39:11.650310",
     "exception": false,
     "start_time": "2023-09-17T23:39:11.640186",
     "status": "completed"
    },
    "tags": []
   },
   "outputs": [],
   "source": [
    "events.resample('MS').sum().pipe(cumulate).to_csv(os.path.join(DATA_DIR, 'by_month.csv'))"
   ]
  },
  {
   "cell_type": "code",
   "execution_count": null,
   "id": "f4d3ea80",
   "metadata": {
    "papermill": {
     "duration": 0.001925,
     "end_time": "2023-09-17T23:39:11.654216",
     "exception": false,
     "start_time": "2023-09-17T23:39:11.652291",
     "status": "completed"
    },
    "tags": []
   },
   "outputs": [],
   "source": []
  }
 ],
 "metadata": {
  "kernelspec": {
   "display_name": "leeds-2023-YZF5GfJv",
   "language": "python",
   "name": "python3"
  },
  "language_info": {
   "codemirror_mode": {
    "name": "ipython",
    "version": 3
   },
   "file_extension": ".py",
   "mimetype": "text/x-python",
   "name": "python",
   "nbconvert_exporter": "python",
   "pygments_lexer": "ipython3",
   "version": "3.10.13"
  },
  "papermill": {
   "default_parameters": {},
   "duration": 1.937255,
   "end_time": "2023-09-17T23:39:11.872041",
   "environment_variables": {},
   "exception": null,
   "input_path": "prepare.ipynb",
   "output_path": "../../../working/output/promote-events-prepare.ipynb",
   "parameters": {},
   "start_time": "2023-09-17T23:39:09.934786",
   "version": "2.4.0"
  }
 },
 "nbformat": 4,
 "nbformat_minor": 5
}