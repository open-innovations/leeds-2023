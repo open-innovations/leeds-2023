{
 "cells": [
  {
   "cell_type": "code",
   "execution_count": 1,
   "id": "5d2038a9",
   "metadata": {
    "execution": {
     "iopub.execute_input": "2023-12-05T23:41:06.644351Z",
     "iopub.status.busy": "2023-12-05T23:41:06.644102Z",
     "iopub.status.idle": "2023-12-05T23:41:14.190825Z",
     "shell.execute_reply": "2023-12-05T23:41:14.190175Z"
    },
    "papermill": {
     "duration": 7.552034,
     "end_time": "2023-12-05T23:41:14.192495",
     "exception": false,
     "start_time": "2023-12-05T23:41:06.640461",
     "status": "completed"
    },
    "tags": []
   },
   "outputs": [],
   "source": [
    "import os\n",
    "import pandas as pd\n",
    "from events import load_event_data, get_first_ward, normalise_ward"
   ]
  },
  {
   "cell_type": "code",
   "execution_count": 2,
   "id": "4b5b8165",
   "metadata": {
    "execution": {
     "iopub.execute_input": "2023-12-05T23:41:14.197791Z",
     "iopub.status.busy": "2023-12-05T23:41:14.197387Z",
     "iopub.status.idle": "2023-12-05T23:41:14.200960Z",
     "shell.execute_reply": "2023-12-05T23:41:14.200411Z"
    },
    "papermill": {
     "duration": 0.007465,
     "end_time": "2023-12-05T23:41:14.202197",
     "exception": false,
     "start_time": "2023-12-05T23:41:14.194732",
     "status": "completed"
    },
    "tags": []
   },
   "outputs": [],
   "source": [
    "latest_date = pd.Timestamp.today().ceil('D')"
   ]
  },
  {
   "cell_type": "code",
   "execution_count": 3,
   "id": "451b7cfe",
   "metadata": {
    "execution": {
     "iopub.execute_input": "2023-12-05T23:41:14.207046Z",
     "iopub.status.busy": "2023-12-05T23:41:14.206678Z",
     "iopub.status.idle": "2023-12-05T23:41:14.222136Z",
     "shell.execute_reply": "2023-12-05T23:41:14.221459Z"
    },
    "papermill": {
     "duration": 0.019672,
     "end_time": "2023-12-05T23:41:14.223734",
     "exception": false,
     "start_time": "2023-12-05T23:41:14.204062",
     "status": "completed"
    },
    "tags": []
   },
   "outputs": [],
   "source": [
    "tickets = pd.read_csv('../../../../data/metrics/events/tickets/orders.csv', parse_dates=['created_at', 'event_date'])\n",
    "tickets = tickets[tickets.event_date <= latest_date]"
   ]
  },
  {
   "cell_type": "code",
   "execution_count": 4,
   "id": "c988cb91",
   "metadata": {
    "execution": {
     "iopub.execute_input": "2023-12-05T23:41:14.228883Z",
     "iopub.status.busy": "2023-12-05T23:41:14.228393Z",
     "iopub.status.idle": "2023-12-05T23:41:14.279507Z",
     "shell.execute_reply": "2023-12-05T23:41:14.278769Z"
    },
    "papermill": {
     "duration": 0.055427,
     "end_time": "2023-12-05T23:41:14.281192",
     "exception": false,
     "start_time": "2023-12-05T23:41:14.225765",
     "status": "completed"
    },
    "tags": []
   },
   "outputs": [],
   "source": [
    "events = load_event_data()\n",
    "\n",
    "events = pd.concat([\n",
    "  events,\n",
    "  events.pipe(get_first_ward).pipe(normalise_ward).fillna('UNKNOWN'),\n",
    "  pd.Series(\n",
    "      events.actual_audience_size_number_of_participants_in_person + events.actual_audience_size_number_of_participants_online,\n",
    "      name='attendances'\n",
    "  )\n",
    "], axis=1).rename(columns={\n",
    "    'start_date': 'date'\n",
    "}).loc[:, ['ward_code', 'date', 'event_unique_identifier', 'attendances']]"
   ]
  },
  {
   "cell_type": "code",
   "execution_count": 5,
   "id": "8c18538a",
   "metadata": {
    "execution": {
     "iopub.execute_input": "2023-12-05T23:41:14.286446Z",
     "iopub.status.busy": "2023-12-05T23:41:14.285988Z",
     "iopub.status.idle": "2023-12-05T23:41:14.289418Z",
     "shell.execute_reply": "2023-12-05T23:41:14.288760Z"
    },
    "papermill": {
     "duration": 0.007537,
     "end_time": "2023-12-05T23:41:14.290818",
     "exception": false,
     "start_time": "2023-12-05T23:41:14.283281",
     "status": "completed"
    },
    "tags": []
   },
   "outputs": [],
   "source": [
    "OUTPUT_DIR='../../../../docs/metrics/events/signature/_data/'\n",
    "os.makedirs(OUTPUT_DIR, exist_ok=True)"
   ]
  },
  {
   "cell_type": "markdown",
   "id": "67357277",
   "metadata": {
    "papermill": {
     "duration": 0.001958,
     "end_time": "2023-12-05T23:41:14.294728",
     "exception": false,
     "start_time": "2023-12-05T23:41:14.292770",
     "status": "completed"
    },
    "tags": []
   },
   "source": [
    "Events CSVs"
   ]
  },
  {
   "cell_type": "code",
   "execution_count": 6,
   "id": "0b34f226",
   "metadata": {
    "execution": {
     "iopub.execute_input": "2023-12-05T23:41:14.299895Z",
     "iopub.status.busy": "2023-12-05T23:41:14.299436Z",
     "iopub.status.idle": "2023-12-05T23:41:14.305758Z",
     "shell.execute_reply": "2023-12-05T23:41:14.305256Z"
    },
    "papermill": {
     "duration": 0.010258,
     "end_time": "2023-12-05T23:41:14.307033",
     "exception": false,
     "start_time": "2023-12-05T23:41:14.296775",
     "status": "completed"
    },
    "tags": []
   },
   "outputs": [],
   "source": [
    "pd.DataFrame({\n",
    "  'events': events.groupby('ward_code').event_unique_identifier.count(),\n",
    "  'attendances': events.groupby('ward_code').attendances.sum().astype(int),\n",
    "}).to_csv(os.path.join(OUTPUT_DIR, 'events_by_ward.csv'))\n"
   ]
  },
  {
   "cell_type": "code",
   "execution_count": 7,
   "id": "2db43cb1",
   "metadata": {
    "execution": {
     "iopub.execute_input": "2023-12-05T23:41:14.312165Z",
     "iopub.status.busy": "2023-12-05T23:41:14.311796Z",
     "iopub.status.idle": "2023-12-05T23:41:14.320401Z",
     "shell.execute_reply": "2023-12-05T23:41:14.319713Z"
    },
    "papermill": {
     "duration": 0.012951,
     "end_time": "2023-12-05T23:41:14.322030",
     "exception": false,
     "start_time": "2023-12-05T23:41:14.309079",
     "status": "completed"
    },
    "tags": []
   },
   "outputs": [],
   "source": [
    "pd.DataFrame({\n",
    "  'events': events.groupby('date').event_unique_identifier.count(),\n",
    "  'attendances': events.groupby('date').attendances.sum().astype(int),\n",
    "}).resample('M').sum().astype(int).to_csv(os.path.join(OUTPUT_DIR, 'events_by_date.csv'))"
   ]
  },
  {
   "cell_type": "markdown",
   "id": "c4ddbd46",
   "metadata": {
    "papermill": {
     "duration": 0.002672,
     "end_time": "2023-12-05T23:41:14.326865",
     "exception": false,
     "start_time": "2023-12-05T23:41:14.324193",
     "status": "completed"
    },
    "tags": []
   },
   "source": [
    "Tickets CSV"
   ]
  },
  {
   "cell_type": "code",
   "execution_count": 8,
   "id": "0615a6ea",
   "metadata": {
    "execution": {
     "iopub.execute_input": "2023-12-05T23:41:14.331920Z",
     "iopub.status.busy": "2023-12-05T23:41:14.331438Z",
     "iopub.status.idle": "2023-12-05T23:41:14.338388Z",
     "shell.execute_reply": "2023-12-05T23:41:14.337891Z"
    },
    "papermill": {
     "duration": 0.010852,
     "end_time": "2023-12-05T23:41:14.339658",
     "exception": false,
     "start_time": "2023-12-05T23:41:14.328806",
     "status": "completed"
    },
    "tags": []
   },
   "outputs": [],
   "source": [
    "pd.DataFrame({\n",
    "  'orders': tickets.groupby('ward_code').number_of_tickets.count(),\n",
    "  'tickets': tickets.groupby('ward_code').number_of_tickets.sum().astype(int),\n",
    "}).to_csv(os.path.join(OUTPUT_DIR, 'tickets_by_ward.csv'))"
   ]
  },
  {
   "cell_type": "code",
   "execution_count": 9,
   "id": "67f64c1a",
   "metadata": {
    "execution": {
     "iopub.execute_input": "2023-12-05T23:41:14.344930Z",
     "iopub.status.busy": "2023-12-05T23:41:14.344460Z",
     "iopub.status.idle": "2023-12-05T23:41:14.351994Z",
     "shell.execute_reply": "2023-12-05T23:41:14.351333Z"
    },
    "papermill": {
     "duration": 0.011581,
     "end_time": "2023-12-05T23:41:14.353258",
     "exception": false,
     "start_time": "2023-12-05T23:41:14.341677",
     "status": "completed"
    },
    "tags": []
   },
   "outputs": [],
   "source": [
    "pd.DataFrame({\n",
    "  'orders': tickets.groupby('event_date').number_of_tickets.count(),\n",
    "  'tickets': tickets.groupby('event_date').number_of_tickets.sum().astype(int),\n",
    "}).resample('M').sum().to_csv(os.path.join(OUTPUT_DIR, 'tickets_by_event_date.csv'))"
   ]
  },
  {
   "cell_type": "code",
   "execution_count": 10,
   "id": "5c0eab9c",
   "metadata": {
    "execution": {
     "iopub.execute_input": "2023-12-05T23:41:14.358524Z",
     "iopub.status.busy": "2023-12-05T23:41:14.358177Z",
     "iopub.status.idle": "2023-12-05T23:41:14.363343Z",
     "shell.execute_reply": "2023-12-05T23:41:14.362784Z"
    },
    "papermill": {
     "duration": 0.009312,
     "end_time": "2023-12-05T23:41:14.364631",
     "exception": false,
     "start_time": "2023-12-05T23:41:14.355319",
     "status": "completed"
    },
    "tags": []
   },
   "outputs": [],
   "source": [
    "pd.Series({\n",
    "    'total_events': events.event_unique_identifier.count(),\n",
    "    'total_attendances': events.attendances.count(),\n",
    "    'first_event': events.date.min(),\n",
    "    'latest_event': events.date.max(),\n",
    "    'total_ticket_orders_for_events_to_date': tickets.number_of_tickets.count(),\n",
    "    'total_tickets_sold_for_events_to_date': tickets.number_of_tickets.sum(),\n",
    "}).to_json(os.path.join(OUTPUT_DIR, 'headlines.json'), indent=2)"
   ]
  },
  {
   "cell_type": "code",
   "execution_count": null,
   "id": "6cdcf635",
   "metadata": {
    "papermill": {
     "duration": 0.002078,
     "end_time": "2023-12-05T23:41:14.368808",
     "exception": false,
     "start_time": "2023-12-05T23:41:14.366730",
     "status": "completed"
    },
    "tags": []
   },
   "outputs": [],
   "source": []
  }
 ],
 "metadata": {
  "kernelspec": {
   "display_name": "leeds-2023-YZF5GfJv",
   "language": "python",
   "name": "python3"
  },
  "language_info": {
   "codemirror_mode": {
    "name": "ipython",
    "version": 3
   },
   "file_extension": ".py",
   "mimetype": "text/x-python",
   "name": "python",
   "nbconvert_exporter": "python",
   "pygments_lexer": "ipython3",
   "version": "3.10.13"
  },
  "papermill": {
   "default_parameters": {},
   "duration": 9.301705,
   "end_time": "2023-12-05T23:41:14.687763",
   "environment_variables": {},
   "exception": null,
   "input_path": "prepare.ipynb",
   "output_path": "../../../../working/output/signature-prepare.ipynb",
   "parameters": {},
   "start_time": "2023-12-05T23:41:05.386058",
   "version": "2.4.0"
  }
 },
 "nbformat": 4,
 "nbformat_minor": 5
}