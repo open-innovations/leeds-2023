{
 "cells": [
  {
   "cell_type": "code",
   "execution_count": 1,
   "id": "6f1ce60c",
   "metadata": {
    "execution": {
     "iopub.execute_input": "2023-08-09T23:38:02.524667Z",
     "iopub.status.busy": "2023-08-09T23:38:02.523912Z",
     "iopub.status.idle": "2023-08-09T23:38:02.765068Z",
     "shell.execute_reply": "2023-08-09T23:38:02.764383Z"
    },
    "papermill": {
     "duration": 0.246964,
     "end_time": "2023-08-09T23:38:02.767323",
     "exception": false,
     "start_time": "2023-08-09T23:38:02.520359",
     "status": "completed"
    },
    "tags": []
   },
   "outputs": [],
   "source": [
    "import os, sys\n",
    "TOP_DIR = os.path.realpath('../../..')\n",
    "if TOP_DIR not in sys.path: sys.path.append(TOP_DIR)\n",
    "import pandas as pd"
   ]
  },
  {
   "cell_type": "code",
   "execution_count": 2,
   "id": "76f60708",
   "metadata": {
    "execution": {
     "iopub.execute_input": "2023-08-09T23:38:02.772159Z",
     "iopub.status.busy": "2023-08-09T23:38:02.771604Z",
     "iopub.status.idle": "2023-08-09T23:38:02.775951Z",
     "shell.execute_reply": "2023-08-09T23:38:02.775338Z"
    },
    "papermill": {
     "duration": 0.008309,
     "end_time": "2023-08-09T23:38:02.777437",
     "exception": false,
     "start_time": "2023-08-09T23:38:02.769128",
     "status": "completed"
    },
    "tags": []
   },
   "outputs": [],
   "source": [
    "from lib.util.convert import named_cumulative_sum"
   ]
  },
  {
   "cell_type": "code",
   "execution_count": 3,
   "id": "5feb9b0e",
   "metadata": {
    "execution": {
     "iopub.execute_input": "2023-08-09T23:38:02.782421Z",
     "iopub.status.busy": "2023-08-09T23:38:02.781212Z",
     "iopub.status.idle": "2023-08-09T23:38:02.791798Z",
     "shell.execute_reply": "2023-08-09T23:38:02.791251Z"
    },
    "papermill": {
     "duration": 0.014384,
     "end_time": "2023-08-09T23:38:02.793278",
     "exception": false,
     "start_time": "2023-08-09T23:38:02.778894",
     "status": "completed"
    },
    "tags": []
   },
   "outputs": [],
   "source": [
    "data = pd.read_csv('../../../data/metrics/community/events.csv', parse_dates=['start_date'])\n",
    "data.ward_code = data.ward_code.fillna('UNKNOWN')"
   ]
  },
  {
   "cell_type": "markdown",
   "id": "aff35710",
   "metadata": {
    "papermill": {
     "duration": 0.001526,
     "end_time": "2023-08-09T23:38:02.796280",
     "exception": false,
     "start_time": "2023-08-09T23:38:02.794754",
     "status": "completed"
    },
    "tags": []
   },
   "source": [
    "Set up output directories"
   ]
  },
  {
   "cell_type": "code",
   "execution_count": 4,
   "id": "35df9ff3",
   "metadata": {
    "execution": {
     "iopub.execute_input": "2023-08-09T23:38:02.800693Z",
     "iopub.status.busy": "2023-08-09T23:38:02.800468Z",
     "iopub.status.idle": "2023-08-09T23:38:02.803419Z",
     "shell.execute_reply": "2023-08-09T23:38:02.802901Z"
    },
    "papermill": {
     "duration": 0.006585,
     "end_time": "2023-08-09T23:38:02.804705",
     "exception": false,
     "start_time": "2023-08-09T23:38:02.798120",
     "status": "completed"
    },
    "tags": []
   },
   "outputs": [],
   "source": [
    "OUT_DIR = '../../../docs/metrics/community/_data'\n",
    "os.makedirs(OUT_DIR, exist_ok=True)"
   ]
  },
  {
   "cell_type": "code",
   "execution_count": 5,
   "id": "1a024e86",
   "metadata": {
    "execution": {
     "iopub.execute_input": "2023-08-09T23:38:02.808815Z",
     "iopub.status.busy": "2023-08-09T23:38:02.808473Z",
     "iopub.status.idle": "2023-08-09T23:38:02.814403Z",
     "shell.execute_reply": "2023-08-09T23:38:02.813909Z"
    },
    "papermill": {
     "duration": 0.009631,
     "end_time": "2023-08-09T23:38:02.815797",
     "exception": false,
     "start_time": "2023-08-09T23:38:02.806166",
     "status": "completed"
    },
    "tags": []
   },
   "outputs": [],
   "source": [
    "pd.Series({\n",
    "  'events': data.event_name.count(),\n",
    "  'audience': data.audience.sum().astype(int),\n",
    "  'errors': {\n",
    "    'missing_wards': (data.ward_code == 'UNKNOWN').value_counts()[True],\n",
    "    'missing_audience': data.audience.isna().value_counts()[True],\n",
    "    'zero_audience':  (data.audience < 1).value_counts()[True],  \n",
    "  }\n",
    "}).to_json(os.path.join(OUT_DIR, 'headlines.json'), indent=2)"
   ]
  },
  {
   "cell_type": "code",
   "execution_count": 6,
   "id": "ac1affc1",
   "metadata": {
    "execution": {
     "iopub.execute_input": "2023-08-09T23:38:02.819962Z",
     "iopub.status.busy": "2023-08-09T23:38:02.819616Z",
     "iopub.status.idle": "2023-08-09T23:38:02.825906Z",
     "shell.execute_reply": "2023-08-09T23:38:02.825411Z"
    },
    "papermill": {
     "duration": 0.010007,
     "end_time": "2023-08-09T23:38:02.827300",
     "exception": false,
     "start_time": "2023-08-09T23:38:02.817293",
     "status": "completed"
    },
    "tags": []
   },
   "outputs": [],
   "source": [
    "by_ward = pd.DataFrame({\n",
    "  'events': data.groupby('ward_code').event_name.count().fillna(0).astype('int'),\n",
    "  'audience': data.groupby('ward_code').audience.sum().fillna(0).astype('int'),\n",
    "}).to_csv(os.path.join(OUT_DIR, 'by_ward.csv'))"
   ]
  },
  {
   "cell_type": "code",
   "execution_count": 7,
   "id": "686ff4c3",
   "metadata": {
    "execution": {
     "iopub.execute_input": "2023-08-09T23:38:02.831564Z",
     "iopub.status.busy": "2023-08-09T23:38:02.831199Z",
     "iopub.status.idle": "2023-08-09T23:38:02.841733Z",
     "shell.execute_reply": "2023-08-09T23:38:02.841233Z"
    },
    "papermill": {
     "duration": 0.014274,
     "end_time": "2023-08-09T23:38:02.843132",
     "exception": false,
     "start_time": "2023-08-09T23:38:02.828858",
     "status": "completed"
    },
    "tags": []
   },
   "outputs": [],
   "source": [
    "by_date = pd.DataFrame({\n",
    "    'events': data.groupby('start_date').event_name.count(),\n",
    "    'audience': data.groupby('start_date').audience.sum(),\n",
    "}).resample('M').sum()\n",
    "\n",
    "pd.concat([\n",
    "    by_date,\n",
    "    by_date.pipe(named_cumulative_sum)\n",
    "], axis=1).astype('int').to_csv(os.path.join(OUT_DIR, 'by_date.csv'))"
   ]
  }
 ],
 "metadata": {
  "kernelspec": {
   "display_name": "leeds-2023-YZF5GfJv",
   "language": "python",
   "name": "python3"
  },
  "language_info": {
   "codemirror_mode": {
    "name": "ipython",
    "version": 3
   },
   "file_extension": ".py",
   "mimetype": "text/x-python",
   "name": "python",
   "nbconvert_exporter": "python",
   "pygments_lexer": "ipython3",
   "version": "3.10.6"
  },
  "papermill": {
   "default_parameters": {},
   "duration": 1.931182,
   "end_time": "2023-08-09T23:38:03.060697",
   "environment_variables": {},
   "exception": null,
   "input_path": "prepare.ipynb",
   "output_path": "../../../working/output/community-prepare.ipynb",
   "parameters": {},
   "start_time": "2023-08-09T23:38:01.129515",
   "version": "2.4.0"
  }
 },
 "nbformat": 4,
 "nbformat_minor": 5
}