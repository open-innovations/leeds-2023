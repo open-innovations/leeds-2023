{
 "cells": [
  {
   "cell_type": "code",
   "execution_count": 1,
   "id": "88946098",
   "metadata": {
    "execution": {
     "iopub.execute_input": "2023-08-21T23:39:24.904797Z",
     "iopub.status.busy": "2023-08-21T23:39:24.903990Z",
     "iopub.status.idle": "2023-08-21T23:39:37.481473Z",
     "shell.execute_reply": "2023-08-21T23:39:37.480466Z"
    },
    "papermill": {
     "duration": 12.584904,
     "end_time": "2023-08-21T23:39:37.484392",
     "exception": false,
     "start_time": "2023-08-21T23:39:24.899488",
     "status": "completed"
    },
    "tags": []
   },
   "outputs": [],
   "source": [
    "import os\n",
    "import pandas as pd\n",
    "from events import load_event_data, get_first_ward, normalise_ward"
   ]
  },
  {
   "cell_type": "code",
   "execution_count": 2,
   "id": "3d74a7ae",
   "metadata": {
    "execution": {
     "iopub.execute_input": "2023-08-21T23:39:37.491966Z",
     "iopub.status.busy": "2023-08-21T23:39:37.491676Z",
     "iopub.status.idle": "2023-08-21T23:39:37.496947Z",
     "shell.execute_reply": "2023-08-21T23:39:37.496027Z"
    },
    "papermill": {
     "duration": 0.011498,
     "end_time": "2023-08-21T23:39:37.499245",
     "exception": false,
     "start_time": "2023-08-21T23:39:37.487747",
     "status": "completed"
    },
    "tags": []
   },
   "outputs": [],
   "source": [
    "latest_date = pd.Timestamp.today().ceil('D')"
   ]
  },
  {
   "cell_type": "code",
   "execution_count": 3,
   "id": "38180179",
   "metadata": {
    "execution": {
     "iopub.execute_input": "2023-08-21T23:39:37.506068Z",
     "iopub.status.busy": "2023-08-21T23:39:37.505784Z",
     "iopub.status.idle": "2023-08-21T23:39:37.525593Z",
     "shell.execute_reply": "2023-08-21T23:39:37.524640Z"
    },
    "papermill": {
     "duration": 0.026216,
     "end_time": "2023-08-21T23:39:37.528284",
     "exception": false,
     "start_time": "2023-08-21T23:39:37.502068",
     "status": "completed"
    },
    "tags": []
   },
   "outputs": [],
   "source": [
    "tickets = pd.read_csv('../../../../data/metrics/events/tickets/orders.csv', parse_dates=['created_at', 'event_date'])\n",
    "tickets = tickets[tickets.event_date <= latest_date]"
   ]
  },
  {
   "cell_type": "code",
   "execution_count": 4,
   "id": "87d341d2",
   "metadata": {
    "execution": {
     "iopub.execute_input": "2023-08-21T23:39:37.536013Z",
     "iopub.status.busy": "2023-08-21T23:39:37.535714Z",
     "iopub.status.idle": "2023-08-21T23:39:37.770945Z",
     "shell.execute_reply": "2023-08-21T23:39:37.769823Z"
    },
    "papermill": {
     "duration": 0.241473,
     "end_time": "2023-08-21T23:39:37.773620",
     "exception": false,
     "start_time": "2023-08-21T23:39:37.532147",
     "status": "completed"
    },
    "tags": []
   },
   "outputs": [],
   "source": [
    "events = load_event_data()\n",
    "\n",
    "events = pd.concat([\n",
    "  events,\n",
    "  events.pipe(get_first_ward).pipe(normalise_ward).fillna('UNKNOWN'),\n",
    "  pd.Series(\n",
    "      events.actual_audience_size_number_of_participants_in_person + events.actual_audience_size_number_of_participants_online,\n",
    "      name='attendances'\n",
    "  )\n",
    "], axis=1).rename(columns={\n",
    "    'start_date': 'date'\n",
    "}).loc[:, ['ward_code', 'date', 'event_unique_identifier', 'attendances']]"
   ]
  },
  {
   "cell_type": "code",
   "execution_count": 5,
   "id": "098b4235",
   "metadata": {
    "execution": {
     "iopub.execute_input": "2023-08-21T23:39:37.781556Z",
     "iopub.status.busy": "2023-08-21T23:39:37.780792Z",
     "iopub.status.idle": "2023-08-21T23:39:37.785432Z",
     "shell.execute_reply": "2023-08-21T23:39:37.784584Z"
    },
    "papermill": {
     "duration": 0.01092,
     "end_time": "2023-08-21T23:39:37.787779",
     "exception": false,
     "start_time": "2023-08-21T23:39:37.776859",
     "status": "completed"
    },
    "tags": []
   },
   "outputs": [],
   "source": [
    "OUTPUT_DIR='../../../../docs/metrics/events/signature/_data/'\n",
    "os.makedirs(OUTPUT_DIR, exist_ok=True)"
   ]
  },
  {
   "cell_type": "markdown",
   "id": "75236cda",
   "metadata": {
    "papermill": {
     "duration": 0.002847,
     "end_time": "2023-08-21T23:39:37.793217",
     "exception": false,
     "start_time": "2023-08-21T23:39:37.790370",
     "status": "completed"
    },
    "tags": []
   },
   "source": [
    "Events CSVs"
   ]
  },
  {
   "cell_type": "code",
   "execution_count": 6,
   "id": "bde91c99",
   "metadata": {
    "execution": {
     "iopub.execute_input": "2023-08-21T23:39:37.800778Z",
     "iopub.status.busy": "2023-08-21T23:39:37.799821Z",
     "iopub.status.idle": "2023-08-21T23:39:37.810184Z",
     "shell.execute_reply": "2023-08-21T23:39:37.809283Z"
    },
    "papermill": {
     "duration": 0.016099,
     "end_time": "2023-08-21T23:39:37.812063",
     "exception": false,
     "start_time": "2023-08-21T23:39:37.795964",
     "status": "completed"
    },
    "tags": []
   },
   "outputs": [],
   "source": [
    "pd.DataFrame({\n",
    "  'events': events.groupby('ward_code').event_unique_identifier.count(),\n",
    "  'attendances': events.groupby('ward_code').attendances.sum().astype(int),\n",
    "}).to_csv(os.path.join(OUTPUT_DIR, 'events_by_ward.csv'))\n"
   ]
  },
  {
   "cell_type": "code",
   "execution_count": 7,
   "id": "7fa9bf68",
   "metadata": {
    "execution": {
     "iopub.execute_input": "2023-08-21T23:39:37.819947Z",
     "iopub.status.busy": "2023-08-21T23:39:37.819426Z",
     "iopub.status.idle": "2023-08-21T23:39:37.833928Z",
     "shell.execute_reply": "2023-08-21T23:39:37.832992Z"
    },
    "papermill": {
     "duration": 0.021295,
     "end_time": "2023-08-21T23:39:37.836295",
     "exception": false,
     "start_time": "2023-08-21T23:39:37.815000",
     "status": "completed"
    },
    "tags": []
   },
   "outputs": [],
   "source": [
    "pd.DataFrame({\n",
    "  'events': events.groupby('date').event_unique_identifier.count(),\n",
    "  'attendances': events.groupby('date').attendances.sum().astype(int),\n",
    "}).resample('M').sum().astype(int).to_csv(os.path.join(OUTPUT_DIR, 'events_by_date.csv'))"
   ]
  },
  {
   "cell_type": "markdown",
   "id": "fd4ed28c",
   "metadata": {
    "papermill": {
     "duration": 0.00282,
     "end_time": "2023-08-21T23:39:37.842074",
     "exception": false,
     "start_time": "2023-08-21T23:39:37.839254",
     "status": "completed"
    },
    "tags": []
   },
   "source": [
    "Tickets CSV"
   ]
  },
  {
   "cell_type": "code",
   "execution_count": 8,
   "id": "6f21b404",
   "metadata": {
    "execution": {
     "iopub.execute_input": "2023-08-21T23:39:37.849693Z",
     "iopub.status.busy": "2023-08-21T23:39:37.848878Z",
     "iopub.status.idle": "2023-08-21T23:39:37.858403Z",
     "shell.execute_reply": "2023-08-21T23:39:37.857434Z"
    },
    "papermill": {
     "duration": 0.015975,
     "end_time": "2023-08-21T23:39:37.860725",
     "exception": false,
     "start_time": "2023-08-21T23:39:37.844750",
     "status": "completed"
    },
    "tags": []
   },
   "outputs": [],
   "source": [
    "pd.DataFrame({\n",
    "  'orders': tickets.groupby('ward_code').number_of_tickets.count(),\n",
    "  'tickets': tickets.groupby('ward_code').number_of_tickets.sum().astype(int),\n",
    "}).to_csv(os.path.join(OUTPUT_DIR, 'tickets_by_ward.csv'))"
   ]
  },
  {
   "cell_type": "code",
   "execution_count": 9,
   "id": "ff735b28",
   "metadata": {
    "execution": {
     "iopub.execute_input": "2023-08-21T23:39:37.868094Z",
     "iopub.status.busy": "2023-08-21T23:39:37.867811Z",
     "iopub.status.idle": "2023-08-21T23:39:37.879158Z",
     "shell.execute_reply": "2023-08-21T23:39:37.878267Z"
    },
    "papermill": {
     "duration": 0.017772,
     "end_time": "2023-08-21T23:39:37.881498",
     "exception": false,
     "start_time": "2023-08-21T23:39:37.863726",
     "status": "completed"
    },
    "tags": []
   },
   "outputs": [],
   "source": [
    "pd.DataFrame({\n",
    "  'orders': tickets.groupby('event_date').number_of_tickets.count(),\n",
    "  'tickets': tickets.groupby('event_date').number_of_tickets.sum().astype(int),\n",
    "}).resample('M').sum().to_csv(os.path.join(OUTPUT_DIR, 'tickets_by_event_date.csv'))"
   ]
  },
  {
   "cell_type": "code",
   "execution_count": 10,
   "id": "5adc786f",
   "metadata": {
    "execution": {
     "iopub.execute_input": "2023-08-21T23:39:37.891173Z",
     "iopub.status.busy": "2023-08-21T23:39:37.890521Z",
     "iopub.status.idle": "2023-08-21T23:39:37.897804Z",
     "shell.execute_reply": "2023-08-21T23:39:37.896946Z"
    },
    "papermill": {
     "duration": 0.014743,
     "end_time": "2023-08-21T23:39:37.899768",
     "exception": false,
     "start_time": "2023-08-21T23:39:37.885025",
     "status": "completed"
    },
    "tags": []
   },
   "outputs": [],
   "source": [
    "pd.Series({\n",
    "    'total_events': events.event_unique_identifier.count(),\n",
    "    'total_attendances': events.attendances.count(),\n",
    "    'first_event': events.date.min(),\n",
    "    'latest_event': events.date.max(),\n",
    "    'total_ticket_orders_for_events_to_date': tickets.number_of_tickets.count(),\n",
    "    'total_tickets_sold_for_events_to_date': tickets.number_of_tickets.sum(),\n",
    "}).to_json(os.path.join(OUTPUT_DIR, 'headlines.json'), indent=2)"
   ]
  },
  {
   "cell_type": "code",
   "execution_count": null,
   "id": "e636d029",
   "metadata": {
    "papermill": {
     "duration": 0.002736,
     "end_time": "2023-08-21T23:39:37.905453",
     "exception": false,
     "start_time": "2023-08-21T23:39:37.902717",
     "status": "completed"
    },
    "tags": []
   },
   "outputs": [],
   "source": []
  }
 ],
 "metadata": {
  "kernelspec": {
   "display_name": "leeds-2023-YZF5GfJv",
   "language": "python",
   "name": "python3"
  },
  "language_info": {
   "codemirror_mode": {
    "name": "ipython",
    "version": 3
   },
   "file_extension": ".py",
   "mimetype": "text/x-python",
   "name": "python",
   "nbconvert_exporter": "python",
   "pygments_lexer": "ipython3",
   "version": "3.10.12"
  },
  "papermill": {
   "default_parameters": {},
   "duration": 15.002903,
   "end_time": "2023-08-21T23:39:38.327644",
   "environment_variables": {},
   "exception": null,
   "input_path": "prepare.ipynb",
   "output_path": "../../../../working/output/signature-prepare.ipynb",
   "parameters": {},
   "start_time": "2023-08-21T23:39:23.324741",
   "version": "2.4.0"
  }
 },
 "nbformat": 4,
 "nbformat_minor": 5
}