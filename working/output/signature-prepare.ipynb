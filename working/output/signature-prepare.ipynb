{
 "cells": [
  {
   "cell_type": "code",
   "execution_count": 1,
   "id": "4cc40e13",
   "metadata": {
    "execution": {
     "iopub.execute_input": "2023-11-14T23:40:06.926916Z",
     "iopub.status.busy": "2023-11-14T23:40:06.926686Z",
     "iopub.status.idle": "2023-11-14T23:40:14.114280Z",
     "shell.execute_reply": "2023-11-14T23:40:14.113557Z"
    },
    "papermill": {
     "duration": 7.192893,
     "end_time": "2023-11-14T23:40:14.116009",
     "exception": false,
     "start_time": "2023-11-14T23:40:06.923116",
     "status": "completed"
    },
    "tags": []
   },
   "outputs": [],
   "source": [
    "import os\n",
    "import pandas as pd\n",
    "from events import load_event_data, get_first_ward, normalise_ward"
   ]
  },
  {
   "cell_type": "code",
   "execution_count": 2,
   "id": "ae621b8d",
   "metadata": {
    "execution": {
     "iopub.execute_input": "2023-11-14T23:40:14.121112Z",
     "iopub.status.busy": "2023-11-14T23:40:14.120871Z",
     "iopub.status.idle": "2023-11-14T23:40:14.124474Z",
     "shell.execute_reply": "2023-11-14T23:40:14.123947Z"
    },
    "papermill": {
     "duration": 0.007582,
     "end_time": "2023-11-14T23:40:14.125806",
     "exception": false,
     "start_time": "2023-11-14T23:40:14.118224",
     "status": "completed"
    },
    "tags": []
   },
   "outputs": [],
   "source": [
    "latest_date = pd.Timestamp.today().ceil('D')"
   ]
  },
  {
   "cell_type": "code",
   "execution_count": 3,
   "id": "c00fa48a",
   "metadata": {
    "execution": {
     "iopub.execute_input": "2023-11-14T23:40:14.130438Z",
     "iopub.status.busy": "2023-11-14T23:40:14.130113Z",
     "iopub.status.idle": "2023-11-14T23:40:14.144497Z",
     "shell.execute_reply": "2023-11-14T23:40:14.143968Z"
    },
    "papermill": {
     "duration": 0.018239,
     "end_time": "2023-11-14T23:40:14.145863",
     "exception": false,
     "start_time": "2023-11-14T23:40:14.127624",
     "status": "completed"
    },
    "tags": []
   },
   "outputs": [],
   "source": [
    "tickets = pd.read_csv('../../../../data/metrics/events/tickets/orders.csv', parse_dates=['created_at', 'event_date'])\n",
    "tickets = tickets[tickets.event_date <= latest_date]"
   ]
  },
  {
   "cell_type": "code",
   "execution_count": 4,
   "id": "83de8714",
   "metadata": {
    "execution": {
     "iopub.execute_input": "2023-11-14T23:40:14.150687Z",
     "iopub.status.busy": "2023-11-14T23:40:14.150245Z",
     "iopub.status.idle": "2023-11-14T23:40:14.188220Z",
     "shell.execute_reply": "2023-11-14T23:40:14.187718Z"
    },
    "papermill": {
     "duration": 0.041854,
     "end_time": "2023-11-14T23:40:14.189561",
     "exception": false,
     "start_time": "2023-11-14T23:40:14.147707",
     "status": "completed"
    },
    "tags": []
   },
   "outputs": [],
   "source": [
    "events = load_event_data()\n",
    "\n",
    "events = pd.concat([\n",
    "  events,\n",
    "  events.pipe(get_first_ward).pipe(normalise_ward).fillna('UNKNOWN'),\n",
    "  pd.Series(\n",
    "      events.actual_audience_size_number_of_participants_in_person + events.actual_audience_size_number_of_participants_online,\n",
    "      name='attendances'\n",
    "  )\n",
    "], axis=1).rename(columns={\n",
    "    'start_date': 'date'\n",
    "}).loc[:, ['ward_code', 'date', 'event_unique_identifier', 'attendances']]"
   ]
  },
  {
   "cell_type": "code",
   "execution_count": 5,
   "id": "0f6ceeda",
   "metadata": {
    "execution": {
     "iopub.execute_input": "2023-11-14T23:40:14.194525Z",
     "iopub.status.busy": "2023-11-14T23:40:14.194085Z",
     "iopub.status.idle": "2023-11-14T23:40:14.197108Z",
     "shell.execute_reply": "2023-11-14T23:40:14.196595Z"
    },
    "papermill": {
     "duration": 0.006911,
     "end_time": "2023-11-14T23:40:14.198394",
     "exception": false,
     "start_time": "2023-11-14T23:40:14.191483",
     "status": "completed"
    },
    "tags": []
   },
   "outputs": [],
   "source": [
    "OUTPUT_DIR='../../../../docs/metrics/events/signature/_data/'\n",
    "os.makedirs(OUTPUT_DIR, exist_ok=True)"
   ]
  },
  {
   "cell_type": "markdown",
   "id": "f943ad93",
   "metadata": {
    "papermill": {
     "duration": 0.001954,
     "end_time": "2023-11-14T23:40:14.202255",
     "exception": false,
     "start_time": "2023-11-14T23:40:14.200301",
     "status": "completed"
    },
    "tags": []
   },
   "source": [
    "Events CSVs"
   ]
  },
  {
   "cell_type": "code",
   "execution_count": 6,
   "id": "d0938ee4",
   "metadata": {
    "execution": {
     "iopub.execute_input": "2023-11-14T23:40:14.206994Z",
     "iopub.status.busy": "2023-11-14T23:40:14.206633Z",
     "iopub.status.idle": "2023-11-14T23:40:14.212226Z",
     "shell.execute_reply": "2023-11-14T23:40:14.211731Z"
    },
    "papermill": {
     "duration": 0.009274,
     "end_time": "2023-11-14T23:40:14.213480",
     "exception": false,
     "start_time": "2023-11-14T23:40:14.204206",
     "status": "completed"
    },
    "tags": []
   },
   "outputs": [],
   "source": [
    "pd.DataFrame({\n",
    "  'events': events.groupby('ward_code').event_unique_identifier.count(),\n",
    "  'attendances': events.groupby('ward_code').attendances.sum().astype(int),\n",
    "}).to_csv(os.path.join(OUTPUT_DIR, 'events_by_ward.csv'))\n"
   ]
  },
  {
   "cell_type": "code",
   "execution_count": 7,
   "id": "26fd5bdd",
   "metadata": {
    "execution": {
     "iopub.execute_input": "2023-11-14T23:40:14.218398Z",
     "iopub.status.busy": "2023-11-14T23:40:14.217991Z",
     "iopub.status.idle": "2023-11-14T23:40:14.225208Z",
     "shell.execute_reply": "2023-11-14T23:40:14.224700Z"
    },
    "papermill": {
     "duration": 0.011075,
     "end_time": "2023-11-14T23:40:14.226484",
     "exception": false,
     "start_time": "2023-11-14T23:40:14.215409",
     "status": "completed"
    },
    "tags": []
   },
   "outputs": [],
   "source": [
    "pd.DataFrame({\n",
    "  'events': events.groupby('date').event_unique_identifier.count(),\n",
    "  'attendances': events.groupby('date').attendances.sum().astype(int),\n",
    "}).resample('M').sum().astype(int).to_csv(os.path.join(OUTPUT_DIR, 'events_by_date.csv'))"
   ]
  },
  {
   "cell_type": "markdown",
   "id": "8ef7bef1",
   "metadata": {
    "papermill": {
     "duration": 0.002705,
     "end_time": "2023-11-14T23:40:14.231230",
     "exception": false,
     "start_time": "2023-11-14T23:40:14.228525",
     "status": "completed"
    },
    "tags": []
   },
   "source": [
    "Tickets CSV"
   ]
  },
  {
   "cell_type": "code",
   "execution_count": 8,
   "id": "13a6db85",
   "metadata": {
    "execution": {
     "iopub.execute_input": "2023-11-14T23:40:14.236261Z",
     "iopub.status.busy": "2023-11-14T23:40:14.235850Z",
     "iopub.status.idle": "2023-11-14T23:40:14.241723Z",
     "shell.execute_reply": "2023-11-14T23:40:14.241197Z"
    },
    "papermill": {
     "duration": 0.009802,
     "end_time": "2023-11-14T23:40:14.242995",
     "exception": false,
     "start_time": "2023-11-14T23:40:14.233193",
     "status": "completed"
    },
    "tags": []
   },
   "outputs": [],
   "source": [
    "pd.DataFrame({\n",
    "  'orders': tickets.groupby('ward_code').number_of_tickets.count(),\n",
    "  'tickets': tickets.groupby('ward_code').number_of_tickets.sum().astype(int),\n",
    "}).to_csv(os.path.join(OUTPUT_DIR, 'tickets_by_ward.csv'))"
   ]
  },
  {
   "cell_type": "code",
   "execution_count": 9,
   "id": "984274a7",
   "metadata": {
    "execution": {
     "iopub.execute_input": "2023-11-14T23:40:14.247830Z",
     "iopub.status.busy": "2023-11-14T23:40:14.247489Z",
     "iopub.status.idle": "2023-11-14T23:40:14.254200Z",
     "shell.execute_reply": "2023-11-14T23:40:14.253550Z"
    },
    "papermill": {
     "duration": 0.01056,
     "end_time": "2023-11-14T23:40:14.255514",
     "exception": false,
     "start_time": "2023-11-14T23:40:14.244954",
     "status": "completed"
    },
    "tags": []
   },
   "outputs": [],
   "source": [
    "pd.DataFrame({\n",
    "  'orders': tickets.groupby('event_date').number_of_tickets.count(),\n",
    "  'tickets': tickets.groupby('event_date').number_of_tickets.sum().astype(int),\n",
    "}).resample('M').sum().to_csv(os.path.join(OUTPUT_DIR, 'tickets_by_event_date.csv'))"
   ]
  },
  {
   "cell_type": "code",
   "execution_count": 10,
   "id": "47922e8a",
   "metadata": {
    "execution": {
     "iopub.execute_input": "2023-11-14T23:40:14.260753Z",
     "iopub.status.busy": "2023-11-14T23:40:14.260240Z",
     "iopub.status.idle": "2023-11-14T23:40:14.264939Z",
     "shell.execute_reply": "2023-11-14T23:40:14.264426Z"
    },
    "papermill": {
     "duration": 0.008773,
     "end_time": "2023-11-14T23:40:14.266263",
     "exception": false,
     "start_time": "2023-11-14T23:40:14.257490",
     "status": "completed"
    },
    "tags": []
   },
   "outputs": [],
   "source": [
    "pd.Series({\n",
    "    'total_events': events.event_unique_identifier.count(),\n",
    "    'total_attendances': events.attendances.count(),\n",
    "    'first_event': events.date.min(),\n",
    "    'latest_event': events.date.max(),\n",
    "    'total_ticket_orders_for_events_to_date': tickets.number_of_tickets.count(),\n",
    "    'total_tickets_sold_for_events_to_date': tickets.number_of_tickets.sum(),\n",
    "}).to_json(os.path.join(OUTPUT_DIR, 'headlines.json'), indent=2)"
   ]
  },
  {
   "cell_type": "code",
   "execution_count": null,
   "id": "3b423f4f",
   "metadata": {
    "papermill": {
     "duration": 0.001983,
     "end_time": "2023-11-14T23:40:14.270262",
     "exception": false,
     "start_time": "2023-11-14T23:40:14.268279",
     "status": "completed"
    },
    "tags": []
   },
   "outputs": [],
   "source": []
  }
 ],
 "metadata": {
  "kernelspec": {
   "display_name": "leeds-2023-YZF5GfJv",
   "language": "python",
   "name": "python3"
  },
  "language_info": {
   "codemirror_mode": {
    "name": "ipython",
    "version": 3
   },
   "file_extension": ".py",
   "mimetype": "text/x-python",
   "name": "python",
   "nbconvert_exporter": "python",
   "pygments_lexer": "ipython3",
   "version": "3.10.13"
  },
  "papermill": {
   "default_parameters": {},
   "duration": 8.799851,
   "end_time": "2023-11-14T23:40:14.487638",
   "environment_variables": {},
   "exception": null,
   "input_path": "prepare.ipynb",
   "output_path": "../../../../working/output/signature-prepare.ipynb",
   "parameters": {},
   "start_time": "2023-11-14T23:40:05.687787",
   "version": "2.4.0"
  }
 },
 "nbformat": 4,
 "nbformat_minor": 5
}