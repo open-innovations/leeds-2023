{
 "cells": [
  {
   "cell_type": "code",
   "execution_count": 1,
   "id": "b9eafd05",
   "metadata": {
    "execution": {
     "iopub.execute_input": "2023-07-21T23:38:24.954867Z",
     "iopub.status.busy": "2023-07-21T23:38:24.954153Z",
     "iopub.status.idle": "2023-07-21T23:38:25.196807Z",
     "shell.execute_reply": "2023-07-21T23:38:25.196119Z"
    },
    "papermill": {
     "duration": 0.248661,
     "end_time": "2023-07-21T23:38:25.199070",
     "exception": false,
     "start_time": "2023-07-21T23:38:24.950409",
     "status": "completed"
    },
    "tags": []
   },
   "outputs": [],
   "source": [
    "import os\n",
    "import pandas as pd"
   ]
  },
  {
   "cell_type": "code",
   "execution_count": 2,
   "id": "33f53987",
   "metadata": {
    "execution": {
     "iopub.execute_input": "2023-07-21T23:38:25.204533Z",
     "iopub.status.busy": "2023-07-21T23:38:25.204035Z",
     "iopub.status.idle": "2023-07-21T23:38:25.207445Z",
     "shell.execute_reply": "2023-07-21T23:38:25.206810Z"
    },
    "papermill": {
     "duration": 0.007762,
     "end_time": "2023-07-21T23:38:25.208996",
     "exception": false,
     "start_time": "2023-07-21T23:38:25.201234",
     "status": "completed"
    },
    "tags": []
   },
   "outputs": [],
   "source": [
    "DATA_DIR='../../../docs/metrics/events/promote/_data/'\n",
    "os.makedirs(DATA_DIR, exist_ok=True)"
   ]
  },
  {
   "cell_type": "code",
   "execution_count": 3,
   "id": "f276d90a",
   "metadata": {
    "execution": {
     "iopub.execute_input": "2023-07-21T23:38:25.213235Z",
     "iopub.status.busy": "2023-07-21T23:38:25.212825Z",
     "iopub.status.idle": "2023-07-21T23:38:25.222816Z",
     "shell.execute_reply": "2023-07-21T23:38:25.222250Z"
    },
    "papermill": {
     "duration": 0.013783,
     "end_time": "2023-07-21T23:38:25.224356",
     "exception": false,
     "start_time": "2023-07-21T23:38:25.210573",
     "status": "completed"
    },
    "tags": []
   },
   "outputs": [],
   "source": [
    "data = pd.read_csv('../../../data/metrics/events/promote-events/events.csv', parse_dates=['time'])"
   ]
  },
  {
   "cell_type": "code",
   "execution_count": 4,
   "id": "7d4af4df",
   "metadata": {
    "execution": {
     "iopub.execute_input": "2023-07-21T23:38:25.228902Z",
     "iopub.status.busy": "2023-07-21T23:38:25.228481Z",
     "iopub.status.idle": "2023-07-21T23:38:25.233915Z",
     "shell.execute_reply": "2023-07-21T23:38:25.233319Z"
    },
    "papermill": {
     "duration": 0.009375,
     "end_time": "2023-07-21T23:38:25.235379",
     "exception": false,
     "start_time": "2023-07-21T23:38:25.226004",
     "status": "completed"
    },
    "tags": []
   },
   "outputs": [],
   "source": [
    "pd.Series({\n",
    "    'total_events': len(data.id.unique()),\n",
    "    'total_event_instances': len(data.time),\n",
    "    'earliest_event': data.time.min(),\n",
    "    'latest_event': data.time.max(),\n",
    "}).to_json(\n",
    "    os.path.join(DATA_DIR, 'headlines.json'),\n",
    "    date_format='iso', indent=2\n",
    ")"
   ]
  },
  {
   "cell_type": "code",
   "execution_count": 5,
   "id": "a55b9af8",
   "metadata": {
    "execution": {
     "iopub.execute_input": "2023-07-21T23:38:25.239698Z",
     "iopub.status.busy": "2023-07-21T23:38:25.239292Z",
     "iopub.status.idle": "2023-07-21T23:38:25.247404Z",
     "shell.execute_reply": "2023-07-21T23:38:25.246849Z"
    },
    "papermill": {
     "duration": 0.011972,
     "end_time": "2023-07-21T23:38:25.248938",
     "exception": false,
     "start_time": "2023-07-21T23:38:25.236966",
     "status": "completed"
    },
    "tags": []
   },
   "outputs": [],
   "source": [
    "events = pd.DataFrame({\n",
    "    'events': data.groupby('id').agg({ 'time': 'min' }).reset_index().groupby('time').id.count(),\n",
    "    'event_instances': data.groupby('time').id.count(),\n",
    "}).fillna(0).astype(int)"
   ]
  },
  {
   "cell_type": "code",
   "execution_count": 6,
   "id": "10552948",
   "metadata": {
    "execution": {
     "iopub.execute_input": "2023-07-21T23:38:25.253376Z",
     "iopub.status.busy": "2023-07-21T23:38:25.252881Z",
     "iopub.status.idle": "2023-07-21T23:38:25.256349Z",
     "shell.execute_reply": "2023-07-21T23:38:25.255724Z"
    },
    "papermill": {
     "duration": 0.00721,
     "end_time": "2023-07-21T23:38:25.257780",
     "exception": false,
     "start_time": "2023-07-21T23:38:25.250570",
     "status": "completed"
    },
    "tags": []
   },
   "outputs": [],
   "source": [
    "def cumulate(data):\n",
    "    return pd.concat([\n",
    "        data,\n",
    "        data.cumsum().rename(columns=lambda c: f'cumulative_{c}')\n",
    "    ], axis=1)"
   ]
  },
  {
   "cell_type": "code",
   "execution_count": 7,
   "id": "a11daa72",
   "metadata": {
    "execution": {
     "iopub.execute_input": "2023-07-21T23:38:25.262332Z",
     "iopub.status.busy": "2023-07-21T23:38:25.261813Z",
     "iopub.status.idle": "2023-07-21T23:38:25.271525Z",
     "shell.execute_reply": "2023-07-21T23:38:25.270971Z"
    },
    "papermill": {
     "duration": 0.013505,
     "end_time": "2023-07-21T23:38:25.272960",
     "exception": false,
     "start_time": "2023-07-21T23:38:25.259455",
     "status": "completed"
    },
    "tags": []
   },
   "outputs": [],
   "source": [
    "events.resample('W-FRI').sum().pipe(cumulate).to_csv(os.path.join(DATA_DIR, 'by_week.csv'))"
   ]
  },
  {
   "cell_type": "code",
   "execution_count": 8,
   "id": "f80b48c0",
   "metadata": {
    "execution": {
     "iopub.execute_input": "2023-07-21T23:38:25.277511Z",
     "iopub.status.busy": "2023-07-21T23:38:25.277113Z",
     "iopub.status.idle": "2023-07-21T23:38:25.282828Z",
     "shell.execute_reply": "2023-07-21T23:38:25.282228Z"
    },
    "papermill": {
     "duration": 0.009575,
     "end_time": "2023-07-21T23:38:25.284291",
     "exception": false,
     "start_time": "2023-07-21T23:38:25.274716",
     "status": "completed"
    },
    "tags": []
   },
   "outputs": [],
   "source": [
    "events.resample('MS').sum().pipe(cumulate).to_csv(os.path.join(DATA_DIR, 'by_month.csv'))"
   ]
  },
  {
   "cell_type": "code",
   "execution_count": null,
   "id": "0153add4",
   "metadata": {
    "papermill": {
     "duration": 0.001683,
     "end_time": "2023-07-21T23:38:25.287659",
     "exception": false,
     "start_time": "2023-07-21T23:38:25.285976",
     "status": "completed"
    },
    "tags": []
   },
   "outputs": [],
   "source": []
  }
 ],
 "metadata": {
  "kernelspec": {
   "display_name": "leeds-2023-YZF5GfJv",
   "language": "python",
   "name": "python3"
  },
  "language_info": {
   "codemirror_mode": {
    "name": "ipython",
    "version": 3
   },
   "file_extension": ".py",
   "mimetype": "text/x-python",
   "name": "python",
   "nbconvert_exporter": "python",
   "pygments_lexer": "ipython3",
   "version": "3.10.6"
  },
  "papermill": {
   "default_parameters": {},
   "duration": 1.885093,
   "end_time": "2023-07-21T23:38:25.506000",
   "environment_variables": {},
   "exception": null,
   "input_path": "prepare.ipynb",
   "output_path": "../../../working/output/promote-events-prepare.ipynb",
   "parameters": {},
   "start_time": "2023-07-21T23:38:23.620907",
   "version": "2.4.0"
  }
 },
 "nbformat": 4,
 "nbformat_minor": 5
}