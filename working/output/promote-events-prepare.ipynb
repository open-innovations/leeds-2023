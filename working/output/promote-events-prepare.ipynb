{
 "cells": [
  {
   "cell_type": "code",
   "execution_count": 1,
   "id": "bca4f9cf",
   "metadata": {
    "execution": {
     "iopub.execute_input": "2023-08-31T12:16:24.006382Z",
     "iopub.status.busy": "2023-08-31T12:16:24.005842Z",
     "iopub.status.idle": "2023-08-31T12:16:24.254838Z",
     "shell.execute_reply": "2023-08-31T12:16:24.254099Z"
    },
    "papermill": {
     "duration": 0.256131,
     "end_time": "2023-08-31T12:16:24.257913",
     "exception": false,
     "start_time": "2023-08-31T12:16:24.001782",
     "status": "completed"
    },
    "tags": []
   },
   "outputs": [],
   "source": [
    "import os\n",
    "import pandas as pd"
   ]
  },
  {
   "cell_type": "code",
   "execution_count": 2,
   "id": "83775bfa",
   "metadata": {
    "execution": {
     "iopub.execute_input": "2023-08-31T12:16:24.263293Z",
     "iopub.status.busy": "2023-08-31T12:16:24.262831Z",
     "iopub.status.idle": "2023-08-31T12:16:24.267358Z",
     "shell.execute_reply": "2023-08-31T12:16:24.266726Z"
    },
    "papermill": {
     "duration": 0.008699,
     "end_time": "2023-08-31T12:16:24.268843",
     "exception": false,
     "start_time": "2023-08-31T12:16:24.260144",
     "status": "completed"
    },
    "tags": []
   },
   "outputs": [],
   "source": [
    "DATA_DIR='../../../docs/metrics/events/promote/_data/'\n",
    "os.makedirs(DATA_DIR, exist_ok=True)"
   ]
  },
  {
   "cell_type": "code",
   "execution_count": 3,
   "id": "69a56bce",
   "metadata": {
    "execution": {
     "iopub.execute_input": "2023-08-31T12:16:24.273067Z",
     "iopub.status.busy": "2023-08-31T12:16:24.272844Z",
     "iopub.status.idle": "2023-08-31T12:16:24.281387Z",
     "shell.execute_reply": "2023-08-31T12:16:24.280831Z"
    },
    "papermill": {
     "duration": 0.012411,
     "end_time": "2023-08-31T12:16:24.282880",
     "exception": false,
     "start_time": "2023-08-31T12:16:24.270469",
     "status": "completed"
    },
    "tags": []
   },
   "outputs": [],
   "source": [
    "data = pd.read_csv('../../../data/metrics/events/promote-events/events.csv', parse_dates=['time'])"
   ]
  },
  {
   "cell_type": "code",
   "execution_count": 4,
   "id": "03c32684",
   "metadata": {
    "execution": {
     "iopub.execute_input": "2023-08-31T12:16:24.287311Z",
     "iopub.status.busy": "2023-08-31T12:16:24.286921Z",
     "iopub.status.idle": "2023-08-31T12:16:24.292160Z",
     "shell.execute_reply": "2023-08-31T12:16:24.291526Z"
    },
    "papermill": {
     "duration": 0.009176,
     "end_time": "2023-08-31T12:16:24.293632",
     "exception": false,
     "start_time": "2023-08-31T12:16:24.284456",
     "status": "completed"
    },
    "tags": []
   },
   "outputs": [],
   "source": [
    "pd.Series({\n",
    "    'total_events': len(data.id.unique()),\n",
    "    'total_event_instances': len(data.time),\n",
    "    'earliest_event': data.time.min(),\n",
    "    'latest_event': data.time.max(),\n",
    "}).to_json(\n",
    "    os.path.join(DATA_DIR, 'headlines.json'),\n",
    "    date_format='iso', indent=2\n",
    ")"
   ]
  },
  {
   "cell_type": "code",
   "execution_count": 5,
   "id": "06c09da8",
   "metadata": {
    "execution": {
     "iopub.execute_input": "2023-08-31T12:16:24.298072Z",
     "iopub.status.busy": "2023-08-31T12:16:24.297688Z",
     "iopub.status.idle": "2023-08-31T12:16:24.305744Z",
     "shell.execute_reply": "2023-08-31T12:16:24.305183Z"
    },
    "papermill": {
     "duration": 0.012088,
     "end_time": "2023-08-31T12:16:24.307326",
     "exception": false,
     "start_time": "2023-08-31T12:16:24.295238",
     "status": "completed"
    },
    "tags": []
   },
   "outputs": [],
   "source": [
    "events = pd.DataFrame({\n",
    "    'events': data.groupby('id').agg({ 'time': 'min' }).reset_index().groupby('time').id.count(),\n",
    "    'event_instances': data.groupby('time').id.count(),\n",
    "}).fillna(0).astype(int)"
   ]
  },
  {
   "cell_type": "code",
   "execution_count": 6,
   "id": "1d024f06",
   "metadata": {
    "execution": {
     "iopub.execute_input": "2023-08-31T12:16:24.311996Z",
     "iopub.status.busy": "2023-08-31T12:16:24.311630Z",
     "iopub.status.idle": "2023-08-31T12:16:24.315179Z",
     "shell.execute_reply": "2023-08-31T12:16:24.314571Z"
    },
    "papermill": {
     "duration": 0.007595,
     "end_time": "2023-08-31T12:16:24.316646",
     "exception": false,
     "start_time": "2023-08-31T12:16:24.309051",
     "status": "completed"
    },
    "tags": []
   },
   "outputs": [],
   "source": [
    "def cumulate(data):\n",
    "    return pd.concat([\n",
    "        data,\n",
    "        data.cumsum().rename(columns=lambda c: f'cumulative_{c}')\n",
    "    ], axis=1)"
   ]
  },
  {
   "cell_type": "code",
   "execution_count": 7,
   "id": "7c7a39c7",
   "metadata": {
    "execution": {
     "iopub.execute_input": "2023-08-31T12:16:24.321093Z",
     "iopub.status.busy": "2023-08-31T12:16:24.320760Z",
     "iopub.status.idle": "2023-08-31T12:16:24.331113Z",
     "shell.execute_reply": "2023-08-31T12:16:24.330537Z"
    },
    "papermill": {
     "duration": 0.014353,
     "end_time": "2023-08-31T12:16:24.332673",
     "exception": false,
     "start_time": "2023-08-31T12:16:24.318320",
     "status": "completed"
    },
    "tags": []
   },
   "outputs": [],
   "source": [
    "events.resample('W-FRI').sum().pipe(cumulate).to_csv(os.path.join(DATA_DIR, 'by_week.csv'))"
   ]
  },
  {
   "cell_type": "code",
   "execution_count": 8,
   "id": "082e89f0",
   "metadata": {
    "execution": {
     "iopub.execute_input": "2023-08-31T12:16:24.337428Z",
     "iopub.status.busy": "2023-08-31T12:16:24.337048Z",
     "iopub.status.idle": "2023-08-31T12:16:24.343055Z",
     "shell.execute_reply": "2023-08-31T12:16:24.342497Z"
    },
    "papermill": {
     "duration": 0.009968,
     "end_time": "2023-08-31T12:16:24.344479",
     "exception": false,
     "start_time": "2023-08-31T12:16:24.334511",
     "status": "completed"
    },
    "tags": []
   },
   "outputs": [],
   "source": [
    "events.resample('MS').sum().pipe(cumulate).to_csv(os.path.join(DATA_DIR, 'by_month.csv'))"
   ]
  },
  {
   "cell_type": "code",
   "execution_count": null,
   "id": "75a59522",
   "metadata": {
    "papermill": {
     "duration": 0.001683,
     "end_time": "2023-08-31T12:16:24.347914",
     "exception": false,
     "start_time": "2023-08-31T12:16:24.346231",
     "status": "completed"
    },
    "tags": []
   },
   "outputs": [],
   "source": []
  }
 ],
 "metadata": {
  "kernelspec": {
   "display_name": "leeds-2023-YZF5GfJv",
   "language": "python",
   "name": "python3"
  },
  "language_info": {
   "codemirror_mode": {
    "name": "ipython",
    "version": 3
   },
   "file_extension": ".py",
   "mimetype": "text/x-python",
   "name": "python",
   "nbconvert_exporter": "python",
   "pygments_lexer": "ipython3",
   "version": "3.10.12"
  },
  "papermill": {
   "default_parameters": {},
   "duration": 1.961103,
   "end_time": "2023-08-31T12:16:24.565748",
   "environment_variables": {},
   "exception": null,
   "input_path": "prepare.ipynb",
   "output_path": "../../../working/output/promote-events-prepare.ipynb",
   "parameters": {},
   "start_time": "2023-08-31T12:16:22.604645",
   "version": "2.4.0"
  }
 },
 "nbformat": 4,
 "nbformat_minor": 5
}