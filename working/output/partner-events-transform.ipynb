{
 "cells": [
  {
   "cell_type": "code",
   "execution_count": 1,
   "id": "5e9715cc",
   "metadata": {
    "execution": {
     "iopub.execute_input": "2023-08-11T23:37:32.043137Z",
     "iopub.status.busy": "2023-08-11T23:37:32.042494Z",
     "iopub.status.idle": "2023-08-11T23:37:32.335720Z",
     "shell.execute_reply": "2023-08-11T23:37:32.334987Z"
    },
    "papermill": {
     "duration": 0.30515,
     "end_time": "2023-08-11T23:37:32.342224",
     "exception": false,
     "start_time": "2023-08-11T23:37:32.037074",
     "status": "completed"
    },
    "tags": []
   },
   "outputs": [],
   "source": [
    "import os\n",
    "import sys\n",
    "import pandas as pd\n",
    "lib_dir = os.path.realpath('../../../lib/')\n",
    "if lib_dir not in sys.path: sys.path.append(lib_dir)"
   ]
  },
  {
   "cell_type": "code",
   "execution_count": 2,
   "id": "ccd3a476",
   "metadata": {
    "execution": {
     "iopub.execute_input": "2023-08-11T23:37:32.349722Z",
     "iopub.status.busy": "2023-08-11T23:37:32.349136Z",
     "iopub.status.idle": "2023-08-11T23:37:43.262400Z",
     "shell.execute_reply": "2023-08-11T23:37:43.261603Z"
    },
    "papermill": {
     "duration": 10.919578,
     "end_time": "2023-08-11T23:37:43.264845",
     "exception": false,
     "start_time": "2023-08-11T23:37:32.345267",
     "status": "completed"
    },
    "tags": []
   },
   "outputs": [],
   "source": [
    "import util.geo"
   ]
  },
  {
   "cell_type": "code",
   "execution_count": 3,
   "id": "5caab923",
   "metadata": {
    "execution": {
     "iopub.execute_input": "2023-08-11T23:37:43.272733Z",
     "iopub.status.busy": "2023-08-11T23:37:43.271967Z",
     "iopub.status.idle": "2023-08-11T23:37:43.277089Z",
     "shell.execute_reply": "2023-08-11T23:37:43.276399Z"
    },
    "papermill": {
     "duration": 0.010767,
     "end_time": "2023-08-11T23:37:43.278760",
     "exception": false,
     "start_time": "2023-08-11T23:37:43.267993",
     "status": "completed"
    },
    "tags": []
   },
   "outputs": [],
   "source": [
    "EVENTS_RAW_DATA = '../../../working/metrics/partner-events/events.csv'\n",
    "DATA_DIR = '../../../data/metrics/events/partner-events/'\n",
    "EVENTS_DATA = os.path.join(DATA_DIR, 'events.csv')"
   ]
  },
  {
   "cell_type": "code",
   "execution_count": 4,
   "id": "11d968fc",
   "metadata": {
    "execution": {
     "iopub.execute_input": "2023-08-11T23:37:43.286041Z",
     "iopub.status.busy": "2023-08-11T23:37:43.285124Z",
     "iopub.status.idle": "2023-08-11T23:37:43.289962Z",
     "shell.execute_reply": "2023-08-11T23:37:43.289284Z"
    },
    "papermill": {
     "duration": 0.01026,
     "end_time": "2023-08-11T23:37:43.291737",
     "exception": false,
     "start_time": "2023-08-11T23:37:43.281477",
     "status": "completed"
    },
    "tags": []
   },
   "outputs": [],
   "source": [
    "columns = {\n",
    "    'Event Name': 'name',\n",
    "    'Event Start Date': 'start_date',\n",
    "    'Event End Date': 'end_date',\n",
    "    'Partner/Promote': 'partner_promote',\n",
    "    'Stage': 'stage',\n",
    "    'Live date': 'live_date',\n",
    "    'Venue postcode': 'postcode',\n",
    "    'Pricing Policy': 'pricing',\n",
    "    'Venue - including address': 'venue',\n",
    "    'Is this event on Leeds Inspried?': 'on_leeds_inspired',\n",
    "}"
   ]
  },
  {
   "cell_type": "markdown",
   "id": "dd83f7a2",
   "metadata": {
    "papermill": {
     "duration": 0.002716,
     "end_time": "2023-08-11T23:37:43.297140",
     "exception": false,
     "start_time": "2023-08-11T23:37:43.294424",
     "status": "completed"
    },
    "tags": []
   },
   "source": [
    "Load the data and rename columns. Parse the dates to dates."
   ]
  },
  {
   "cell_type": "code",
   "execution_count": 5,
   "id": "5a66acf9",
   "metadata": {
    "execution": {
     "iopub.execute_input": "2023-08-11T23:37:43.304301Z",
     "iopub.status.busy": "2023-08-11T23:37:43.303631Z",
     "iopub.status.idle": "2023-08-11T23:37:43.316316Z",
     "shell.execute_reply": "2023-08-11T23:37:43.315642Z"
    },
    "papermill": {
     "duration": 0.01824,
     "end_time": "2023-08-11T23:37:43.318105",
     "exception": false,
     "start_time": "2023-08-11T23:37:43.299865",
     "status": "completed"
    },
    "tags": []
   },
   "outputs": [],
   "source": [
    "data = pd.read_csv(EVENTS_RAW_DATA)[columns.keys()].rename(columns=columns)\n",
    "data.start_date = pd.to_datetime(data.start_date, errors='coerce')\n",
    "data.end_date = pd.to_datetime(data.end_date, errors='coerce')"
   ]
  },
  {
   "cell_type": "markdown",
   "id": "e4232378",
   "metadata": {
    "papermill": {
     "duration": 0.002726,
     "end_time": "2023-08-11T23:37:43.323632",
     "exception": false,
     "start_time": "2023-08-11T23:37:43.320906",
     "status": "completed"
    },
    "tags": []
   },
   "source": [
    "Filter data by not LI Pull through and start date before now"
   ]
  },
  {
   "cell_type": "code",
   "execution_count": 6,
   "id": "6142217b",
   "metadata": {
    "execution": {
     "iopub.execute_input": "2023-08-11T23:37:43.330760Z",
     "iopub.status.busy": "2023-08-11T23:37:43.330114Z",
     "iopub.status.idle": "2023-08-11T23:37:43.336900Z",
     "shell.execute_reply": "2023-08-11T23:37:43.336254Z"
    },
    "papermill": {
     "duration": 0.012352,
     "end_time": "2023-08-11T23:37:43.338787",
     "exception": false,
     "start_time": "2023-08-11T23:37:43.326435",
     "status": "completed"
    },
    "tags": []
   },
   "outputs": [],
   "source": [
    "data = data[\n",
    "    # (data.live_date == 'This event is live ') &\n",
    "    ((data.stage != 'LI pull through') & data.stage.notna()) &\n",
    "    (data.start_date < pd.Timestamp.now())\n",
    "]"
   ]
  },
  {
   "cell_type": "code",
   "execution_count": 7,
   "id": "fd1a173e",
   "metadata": {
    "execution": {
     "iopub.execute_input": "2023-08-11T23:37:43.345779Z",
     "iopub.status.busy": "2023-08-11T23:37:43.345294Z",
     "iopub.status.idle": "2023-08-11T23:37:44.667253Z",
     "shell.execute_reply": "2023-08-11T23:37:44.666495Z"
    },
    "papermill": {
     "duration": 1.328093,
     "end_time": "2023-08-11T23:37:44.669622",
     "exception": false,
     "start_time": "2023-08-11T23:37:43.341529",
     "status": "completed"
    },
    "tags": []
   },
   "outputs": [],
   "source": [
    "data['ward_code'] = data.postcode.pipe(util.geo.postcode_formatter).map(util.geo.postcode_to_ward_code)\n",
    "data['ward_name'] = data.ward_code.pipe(util.geo.ward_code_to_name)"
   ]
  },
  {
   "cell_type": "markdown",
   "id": "e87b0605",
   "metadata": {
    "papermill": {
     "duration": 0.004415,
     "end_time": "2023-08-11T23:37:44.677232",
     "exception": false,
     "start_time": "2023-08-11T23:37:44.672817",
     "status": "completed"
    },
    "tags": []
   },
   "source": [
    "Save the file"
   ]
  },
  {
   "cell_type": "code",
   "execution_count": 8,
   "id": "e271ad7e",
   "metadata": {
    "execution": {
     "iopub.execute_input": "2023-08-11T23:37:44.685036Z",
     "iopub.status.busy": "2023-08-11T23:37:44.684434Z",
     "iopub.status.idle": "2023-08-11T23:37:44.692060Z",
     "shell.execute_reply": "2023-08-11T23:37:44.691369Z"
    },
    "papermill": {
     "duration": 0.013766,
     "end_time": "2023-08-11T23:37:44.693922",
     "exception": false,
     "start_time": "2023-08-11T23:37:44.680156",
     "status": "completed"
    },
    "tags": []
   },
   "outputs": [],
   "source": [
    "data[\n",
    "    ['name','start_date','end_date','ward_code']\n",
    "].to_csv(EVENTS_DATA, index=False)"
   ]
  },
  {
   "cell_type": "markdown",
   "id": "278e7a2c",
   "metadata": {
    "papermill": {
     "duration": 0.002842,
     "end_time": "2023-08-11T23:37:44.699715",
     "exception": false,
     "start_time": "2023-08-11T23:37:44.696873",
     "status": "completed"
    },
    "tags": []
   },
   "source": [
    "Print out missing postcode data"
   ]
  },
  {
   "cell_type": "code",
   "execution_count": 9,
   "id": "5557cf81",
   "metadata": {
    "execution": {
     "iopub.execute_input": "2023-08-11T23:37:44.707146Z",
     "iopub.status.busy": "2023-08-11T23:37:44.706604Z",
     "iopub.status.idle": "2023-08-11T23:37:44.721757Z",
     "shell.execute_reply": "2023-08-11T23:37:44.720983Z"
    },
    "papermill": {
     "duration": 0.021411,
     "end_time": "2023-08-11T23:37:44.724047",
     "exception": false,
     "start_time": "2023-08-11T23:37:44.702636",
     "status": "completed"
    },
    "tags": []
   },
   "outputs": [
    {
     "data": {
      "text/html": [
       "<div>\n",
       "<style scoped>\n",
       "    .dataframe tbody tr th:only-of-type {\n",
       "        vertical-align: middle;\n",
       "    }\n",
       "\n",
       "    .dataframe tbody tr th {\n",
       "        vertical-align: top;\n",
       "    }\n",
       "\n",
       "    .dataframe thead th {\n",
       "        text-align: right;\n",
       "    }\n",
       "</style>\n",
       "<table border=\"1\" class=\"dataframe\">\n",
       "  <thead>\n",
       "    <tr style=\"text-align: right;\">\n",
       "      <th></th>\n",
       "      <th>name</th>\n",
       "      <th>start_date</th>\n",
       "    </tr>\n",
       "  </thead>\n",
       "  <tbody>\n",
       "    <tr>\n",
       "      <th>1</th>\n",
       "      <td>East Street Arts, A City Less Grey 2022</td>\n",
       "      <td>2022-10-08</td>\n",
       "    </tr>\n",
       "    <tr>\n",
       "      <th>3</th>\n",
       "      <td>Phoenix Dance Theatre Virtual Gallery</td>\n",
       "      <td>2023-01-01</td>\n",
       "    </tr>\n",
       "    <tr>\n",
       "      <th>4</th>\n",
       "      <td>The Big Art Giveaway, School of Creative Arts ...</td>\n",
       "      <td>2023-01-01</td>\n",
       "    </tr>\n",
       "    <tr>\n",
       "      <th>5</th>\n",
       "      <td>Embassy of Netherlands, Meet Leeds Lab</td>\n",
       "      <td>2023-01-16</td>\n",
       "    </tr>\n",
       "    <tr>\n",
       "      <th>6</th>\n",
       "      <td>Shifting Borders: A Journey to the Centre of o...</td>\n",
       "      <td>2023-01-24</td>\n",
       "    </tr>\n",
       "    <tr>\n",
       "      <th>12</th>\n",
       "      <td>Leeds Lit Fest 2023</td>\n",
       "      <td>2023-02-25</td>\n",
       "    </tr>\n",
       "    <tr>\n",
       "      <th>26</th>\n",
       "      <td>East Street Arts, Add Fuel</td>\n",
       "      <td>2023-04-01</td>\n",
       "    </tr>\n",
       "    <tr>\n",
       "      <th>43</th>\n",
       "      <td>Jamica Society Leeds, Out of Many Festival - T...</td>\n",
       "      <td>2023-05-01</td>\n",
       "    </tr>\n",
       "    <tr>\n",
       "      <th>44</th>\n",
       "      <td>Sayang, Si Polan - International residency in ...</td>\n",
       "      <td>2023-05-01</td>\n",
       "    </tr>\n",
       "    <tr>\n",
       "      <th>63</th>\n",
       "      <td>Leeds Jazz Festival 2023</td>\n",
       "      <td>2023-05-25</td>\n",
       "    </tr>\n",
       "    <tr>\n",
       "      <th>79</th>\n",
       "      <td>Keira Martin, Queenie and the Pooka (Performan...</td>\n",
       "      <td>2023-06-05</td>\n",
       "    </tr>\n",
       "    <tr>\n",
       "      <th>80</th>\n",
       "      <td>My LEEDS Summer: Kirkstall Makes + Moves</td>\n",
       "      <td>2023-06-11</td>\n",
       "    </tr>\n",
       "    <tr>\n",
       "      <th>83</th>\n",
       "      <td>My LEEDS Summer at Hunslet Festival</td>\n",
       "      <td>2023-06-17</td>\n",
       "    </tr>\n",
       "    <tr>\n",
       "      <th>84</th>\n",
       "      <td>My LEEDS Summer: Roundhay World Music &amp; Food Fest</td>\n",
       "      <td>2023-06-17</td>\n",
       "    </tr>\n",
       "    <tr>\n",
       "      <th>92</th>\n",
       "      <td>My LEEDS Summer: Beeston Festival</td>\n",
       "      <td>2023-06-24</td>\n",
       "    </tr>\n",
       "    <tr>\n",
       "      <th>93</th>\n",
       "      <td>My LEEDS Summer: Crossgates and Whinmoor - Pas...</td>\n",
       "      <td>2023-06-24</td>\n",
       "    </tr>\n",
       "    <tr>\n",
       "      <th>94</th>\n",
       "      <td>My LEEDS Summer: Picnic in the Park</td>\n",
       "      <td>2023-06-24</td>\n",
       "    </tr>\n",
       "    <tr>\n",
       "      <th>97</th>\n",
       "      <td>Becoming the Brontës</td>\n",
       "      <td>2023-06-29</td>\n",
       "    </tr>\n",
       "    <tr>\n",
       "      <th>103</th>\n",
       "      <td>My LEEDS Summer: Wetherby Drovers Day</td>\n",
       "      <td>2023-07-01</td>\n",
       "    </tr>\n",
       "    <tr>\n",
       "      <th>104</th>\n",
       "      <td>My Leeds Summer : Walk of Art</td>\n",
       "      <td>2023-07-01</td>\n",
       "    </tr>\n",
       "    <tr>\n",
       "      <th>107</th>\n",
       "      <td>My LEEDS Summer: The Feast</td>\n",
       "      <td>2023-07-02</td>\n",
       "    </tr>\n",
       "    <tr>\n",
       "      <th>108</th>\n",
       "      <td>My LEEDS summer: Celebration Day</td>\n",
       "      <td>2023-07-02</td>\n",
       "    </tr>\n",
       "    <tr>\n",
       "      <th>116</th>\n",
       "      <td>My LEEDS Summer : Wonderful Workshops and Cele...</td>\n",
       "      <td>2023-07-06</td>\n",
       "    </tr>\n",
       "    <tr>\n",
       "      <th>123</th>\n",
       "      <td>My LEEDS Summer: The Gipton and Harehills Crea...</td>\n",
       "      <td>2023-07-08</td>\n",
       "    </tr>\n",
       "    <tr>\n",
       "      <th>125</th>\n",
       "      <td>My LEEDS Summer: Ardsley &amp; Robin Hood: Celebra...</td>\n",
       "      <td>2023-07-09</td>\n",
       "    </tr>\n",
       "    <tr>\n",
       "      <th>127</th>\n",
       "      <td>My LEEDS Summer: The Big Summer Picnic</td>\n",
       "      <td>2023-07-09</td>\n",
       "    </tr>\n",
       "    <tr>\n",
       "      <th>130</th>\n",
       "      <td>My LEEDS Summer: Ralph Thoresby Summer Festival</td>\n",
       "      <td>2023-07-15</td>\n",
       "    </tr>\n",
       "    <tr>\n",
       "      <th>132</th>\n",
       "      <td>My LEEDS Summer: Fuse Festival</td>\n",
       "      <td>2023-07-17</td>\n",
       "    </tr>\n",
       "    <tr>\n",
       "      <th>134</th>\n",
       "      <td>Community Training Programme</td>\n",
       "      <td>2023-07-20</td>\n",
       "    </tr>\n",
       "    <tr>\n",
       "      <th>136</th>\n",
       "      <td>My LEEDS Summer: Festival of Culture</td>\n",
       "      <td>2023-07-22</td>\n",
       "    </tr>\n",
       "    <tr>\n",
       "      <th>137</th>\n",
       "      <td>My LEEDS Summer: Kippax and Methley Culture Trail</td>\n",
       "      <td>2023-07-22</td>\n",
       "    </tr>\n",
       "    <tr>\n",
       "      <th>138</th>\n",
       "      <td>My LEEDS Summer: Farnley and Wortley gives it ...</td>\n",
       "      <td>2023-07-23</td>\n",
       "    </tr>\n",
       "    <tr>\n",
       "      <th>139</th>\n",
       "      <td>My LEEDS Summer: Garforth and Swillington's Cr...</td>\n",
       "      <td>2023-07-23</td>\n",
       "    </tr>\n",
       "    <tr>\n",
       "      <th>140</th>\n",
       "      <td>My LEEDS Summer: Morley Make Together</td>\n",
       "      <td>2023-07-23</td>\n",
       "    </tr>\n",
       "    <tr>\n",
       "      <th>141</th>\n",
       "      <td>Gracefool Collective, Kick Off 2023</td>\n",
       "      <td>2023-07-27</td>\n",
       "    </tr>\n",
       "    <tr>\n",
       "      <th>145</th>\n",
       "      <td>My LEEDS Summer: Picture Palace in the Park</td>\n",
       "      <td>2023-07-29</td>\n",
       "    </tr>\n",
       "    <tr>\n",
       "      <th>149</th>\n",
       "      <td>My LEEDS Summer: Cultural Bloom</td>\n",
       "      <td>2023-08-05</td>\n",
       "    </tr>\n",
       "    <tr>\n",
       "      <th>150</th>\n",
       "      <td>My Leeds Summer: Armley Extravaganza</td>\n",
       "      <td>2023-08-05</td>\n",
       "    </tr>\n",
       "    <tr>\n",
       "      <th>151</th>\n",
       "      <td>My Leeds Summer: Music, Moves and Makes</td>\n",
       "      <td>2023-08-06</td>\n",
       "    </tr>\n",
       "  </tbody>\n",
       "</table>\n",
       "</div>"
      ],
      "text/plain": [
       "                                                  name start_date\n",
       "1              East Street Arts, A City Less Grey 2022 2022-10-08\n",
       "3                Phoenix Dance Theatre Virtual Gallery 2023-01-01\n",
       "4    The Big Art Giveaway, School of Creative Arts ... 2023-01-01\n",
       "5               Embassy of Netherlands, Meet Leeds Lab 2023-01-16\n",
       "6    Shifting Borders: A Journey to the Centre of o... 2023-01-24\n",
       "12                                 Leeds Lit Fest 2023 2023-02-25\n",
       "26                          East Street Arts, Add Fuel 2023-04-01\n",
       "43   Jamica Society Leeds, Out of Many Festival - T... 2023-05-01\n",
       "44   Sayang, Si Polan - International residency in ... 2023-05-01\n",
       "63                            Leeds Jazz Festival 2023 2023-05-25\n",
       "79   Keira Martin, Queenie and the Pooka (Performan... 2023-06-05\n",
       "80            My LEEDS Summer: Kirkstall Makes + Moves 2023-06-11\n",
       "83                 My LEEDS Summer at Hunslet Festival 2023-06-17\n",
       "84   My LEEDS Summer: Roundhay World Music & Food Fest 2023-06-17\n",
       "92                   My LEEDS Summer: Beeston Festival 2023-06-24\n",
       "93   My LEEDS Summer: Crossgates and Whinmoor - Pas... 2023-06-24\n",
       "94                 My LEEDS Summer: Picnic in the Park 2023-06-24\n",
       "97                                Becoming the Brontës 2023-06-29\n",
       "103              My LEEDS Summer: Wetherby Drovers Day 2023-07-01\n",
       "104                      My Leeds Summer : Walk of Art 2023-07-01\n",
       "107                         My LEEDS Summer: The Feast 2023-07-02\n",
       "108                   My LEEDS summer: Celebration Day 2023-07-02\n",
       "116  My LEEDS Summer : Wonderful Workshops and Cele... 2023-07-06\n",
       "123  My LEEDS Summer: The Gipton and Harehills Crea... 2023-07-08\n",
       "125  My LEEDS Summer: Ardsley & Robin Hood: Celebra... 2023-07-09\n",
       "127             My LEEDS Summer: The Big Summer Picnic 2023-07-09\n",
       "130    My LEEDS Summer: Ralph Thoresby Summer Festival 2023-07-15\n",
       "132                     My LEEDS Summer: Fuse Festival 2023-07-17\n",
       "134                       Community Training Programme 2023-07-20\n",
       "136               My LEEDS Summer: Festival of Culture 2023-07-22\n",
       "137  My LEEDS Summer: Kippax and Methley Culture Trail 2023-07-22\n",
       "138  My LEEDS Summer: Farnley and Wortley gives it ... 2023-07-23\n",
       "139  My LEEDS Summer: Garforth and Swillington's Cr... 2023-07-23\n",
       "140              My LEEDS Summer: Morley Make Together 2023-07-23\n",
       "141                Gracefool Collective, Kick Off 2023 2023-07-27\n",
       "145        My LEEDS Summer: Picture Palace in the Park 2023-07-29\n",
       "149                    My LEEDS Summer: Cultural Bloom 2023-08-05\n",
       "150               My Leeds Summer: Armley Extravaganza 2023-08-05\n",
       "151            My Leeds Summer: Music, Moves and Makes 2023-08-06"
      ]
     },
     "execution_count": 9,
     "metadata": {},
     "output_type": "execute_result"
    }
   ],
   "source": [
    "data[data.postcode.isna()][[\n",
    "    'name', 'start_date'\n",
    "]]"
   ]
  },
  {
   "cell_type": "markdown",
   "id": "8db8f626",
   "metadata": {
    "papermill": {
     "duration": 0.003329,
     "end_time": "2023-08-11T23:37:44.730916",
     "exception": false,
     "start_time": "2023-08-11T23:37:44.727587",
     "status": "completed"
    },
    "tags": []
   },
   "source": [
    "Plot the pricing"
   ]
  },
  {
   "cell_type": "code",
   "execution_count": 10,
   "id": "7111f073",
   "metadata": {
    "execution": {
     "iopub.execute_input": "2023-08-11T23:37:44.739268Z",
     "iopub.status.busy": "2023-08-11T23:37:44.738678Z",
     "iopub.status.idle": "2023-08-11T23:37:45.346352Z",
     "shell.execute_reply": "2023-08-11T23:37:45.345688Z"
    },
    "papermill": {
     "duration": 0.61406,
     "end_time": "2023-08-11T23:37:45.348327",
     "exception": false,
     "start_time": "2023-08-11T23:37:44.734267",
     "status": "completed"
    },
    "tags": []
   },
   "outputs": [
    {
     "data": {
      "image/png": "[encoded data removed]",
      "text/plain": [
       "<Figure size 640x480 with 1 Axes>"
      ]
     },
     "metadata": {},
     "output_type": "display_data"
    }
   ],
   "source": [
    "# .groupby('pricing').count().plot.barh()\n",
    "pricing = data.pricing.fillna('Unspecified').str.replace('[\\[\\'\\]]', '', regex=True).to_frame().reset_index().groupby('pricing').count()\n",
    "\n",
    "pricing.columns = ['count']\n",
    "plot = pricing.plot.barh()\n"
   ]
  },
  {
   "cell_type": "code",
   "execution_count": null,
   "id": "99053837",
   "metadata": {
    "papermill": {
     "duration": 0.003846,
     "end_time": "2023-08-11T23:37:45.357289",
     "exception": false,
     "start_time": "2023-08-11T23:37:45.353443",
     "status": "completed"
    },
    "tags": []
   },
   "outputs": [],
   "source": []
  }
 ],
 "metadata": {
  "kernelspec": {
   "display_name": "leeds-2023-YZF5GfJv",
   "language": "python",
   "name": "python3"
  },
  "language_info": {
   "codemirror_mode": {
    "name": "ipython",
    "version": 3
   },
   "file_extension": ".py",
   "mimetype": "text/x-python",
   "name": "python",
   "nbconvert_exporter": "python",
   "pygments_lexer": "ipython3",
   "version": "3.10.12"
  },
  "papermill": {
   "default_parameters": {},
   "duration": 15.104902,
   "end_time": "2023-08-11T23:37:45.780040",
   "environment_variables": {},
   "exception": null,
   "input_path": "transform.ipynb",
   "output_path": "../../../working/output/partner-events-transform.ipynb",
   "parameters": {},
   "start_time": "2023-08-11T23:37:30.675138",
   "version": "2.4.0"
  }
 },
 "nbformat": 4,
 "nbformat_minor": 5
}