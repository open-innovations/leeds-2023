{
 "cells": [
  {
   "cell_type": "code",
   "execution_count": 1,
   "id": "60f12885",
   "metadata": {
    "execution": {
     "iopub.execute_input": "2023-11-13T15:15:11.576685Z",
     "iopub.status.busy": "2023-11-13T15:15:11.576112Z",
     "iopub.status.idle": "2023-11-13T15:15:16.390863Z",
     "shell.execute_reply": "2023-11-13T15:15:16.390422Z"
    },
    "papermill": {
     "duration": 4.821915,
     "end_time": "2023-11-13T15:15:16.391994",
     "exception": false,
     "start_time": "2023-11-13T15:15:11.570079",
     "status": "completed"
    },
    "tags": []
   },
   "outputs": [],
   "source": [
    "import os\n",
    "import pandas as pd\n",
    "from events import load_event_data, get_first_ward, normalise_ward"
   ]
  },
  {
   "cell_type": "code",
   "execution_count": 2,
   "id": "a3656a11",
   "metadata": {
    "execution": {
     "iopub.execute_input": "2023-11-13T15:15:16.395289Z",
     "iopub.status.busy": "2023-11-13T15:15:16.395131Z",
     "iopub.status.idle": "2023-11-13T15:15:16.397684Z",
     "shell.execute_reply": "2023-11-13T15:15:16.397252Z"
    },
    "papermill": {
     "duration": 0.007504,
     "end_time": "2023-11-13T15:15:16.400904",
     "exception": false,
     "start_time": "2023-11-13T15:15:16.393400",
     "status": "completed"
    },
    "tags": []
   },
   "outputs": [],
   "source": [
    "latest_date = pd.Timestamp.today().ceil('D')"
   ]
  },
  {
   "cell_type": "code",
   "execution_count": 3,
   "id": "89df106d",
   "metadata": {
    "execution": {
     "iopub.execute_input": "2023-11-13T15:15:16.404264Z",
     "iopub.status.busy": "2023-11-13T15:15:16.404106Z",
     "iopub.status.idle": "2023-11-13T15:15:16.413527Z",
     "shell.execute_reply": "2023-11-13T15:15:16.413188Z"
    },
    "papermill": {
     "duration": 0.011878,
     "end_time": "2023-11-13T15:15:16.414278",
     "exception": false,
     "start_time": "2023-11-13T15:15:16.402400",
     "status": "completed"
    },
    "tags": []
   },
   "outputs": [],
   "source": [
    "tickets = pd.read_csv('../../../../data/metrics/events/tickets/orders.csv', parse_dates=['created_at', 'event_date'])\n",
    "tickets = tickets[tickets.event_date <= latest_date]"
   ]
  },
  {
   "cell_type": "code",
   "execution_count": 4,
   "id": "e7272895",
   "metadata": {
    "execution": {
     "iopub.execute_input": "2023-11-13T15:15:16.417158Z",
     "iopub.status.busy": "2023-11-13T15:15:16.417004Z",
     "iopub.status.idle": "2023-11-13T15:15:16.440950Z",
     "shell.execute_reply": "2023-11-13T15:15:16.440513Z"
    },
    "papermill": {
     "duration": 0.026523,
     "end_time": "2023-11-13T15:15:16.441949",
     "exception": false,
     "start_time": "2023-11-13T15:15:16.415426",
     "status": "completed"
    },
    "tags": []
   },
   "outputs": [],
   "source": [
    "events = load_event_data()\n",
    "\n",
    "events = pd.concat([\n",
    "  events,\n",
    "  events.pipe(get_first_ward).pipe(normalise_ward).fillna('UNKNOWN'),\n",
    "  pd.Series(\n",
    "      events.actual_audience_size_number_of_participants_in_person + events.actual_audience_size_number_of_participants_online,\n",
    "      name='attendances'\n",
    "  )\n",
    "], axis=1).rename(columns={\n",
    "    'start_date': 'date'\n",
    "}).loc[:, ['ward_code', 'date', 'event_unique_identifier', 'attendances']]"
   ]
  },
  {
   "cell_type": "code",
   "execution_count": 5,
   "id": "2dbea459",
   "metadata": {
    "execution": {
     "iopub.execute_input": "2023-11-13T15:15:16.444992Z",
     "iopub.status.busy": "2023-11-13T15:15:16.444855Z",
     "iopub.status.idle": "2023-11-13T15:15:16.446821Z",
     "shell.execute_reply": "2023-11-13T15:15:16.446580Z"
    },
    "papermill": {
     "duration": 0.004341,
     "end_time": "2023-11-13T15:15:16.447500",
     "exception": false,
     "start_time": "2023-11-13T15:15:16.443159",
     "status": "completed"
    },
    "tags": []
   },
   "outputs": [],
   "source": [
    "OUTPUT_DIR='../../../../docs/metrics/events/signature/_data/'\n",
    "os.makedirs(OUTPUT_DIR, exist_ok=True)"
   ]
  },
  {
   "cell_type": "markdown",
   "id": "dee8dfa0",
   "metadata": {
    "papermill": {
     "duration": 0.001088,
     "end_time": "2023-11-13T15:15:16.449680",
     "exception": false,
     "start_time": "2023-11-13T15:15:16.448592",
     "status": "completed"
    },
    "tags": []
   },
   "source": [
    "Events CSVs"
   ]
  },
  {
   "cell_type": "code",
   "execution_count": 6,
   "id": "4656e257",
   "metadata": {
    "execution": {
     "iopub.execute_input": "2023-11-13T15:15:16.452371Z",
     "iopub.status.busy": "2023-11-13T15:15:16.452237Z",
     "iopub.status.idle": "2023-11-13T15:15:16.455990Z",
     "shell.execute_reply": "2023-11-13T15:15:16.455678Z"
    },
    "papermill": {
     "duration": 0.005964,
     "end_time": "2023-11-13T15:15:16.456705",
     "exception": false,
     "start_time": "2023-11-13T15:15:16.450741",
     "status": "completed"
    },
    "tags": []
   },
   "outputs": [],
   "source": [
    "pd.DataFrame({\n",
    "  'events': events.groupby('ward_code').event_unique_identifier.count(),\n",
    "  'attendances': events.groupby('ward_code').attendances.sum().astype(int),\n",
    "}).to_csv(os.path.join(OUTPUT_DIR, 'events_by_ward.csv'))\n"
   ]
  },
  {
   "cell_type": "code",
   "execution_count": 7,
   "id": "9b80a9a8",
   "metadata": {
    "execution": {
     "iopub.execute_input": "2023-11-13T15:15:16.459822Z",
     "iopub.status.busy": "2023-11-13T15:15:16.459651Z",
     "iopub.status.idle": "2023-11-13T15:15:16.465138Z",
     "shell.execute_reply": "2023-11-13T15:15:16.464838Z"
    },
    "papermill": {
     "duration": 0.008176,
     "end_time": "2023-11-13T15:15:16.465995",
     "exception": false,
     "start_time": "2023-11-13T15:15:16.457819",
     "status": "completed"
    },
    "tags": []
   },
   "outputs": [],
   "source": [
    "pd.DataFrame({\n",
    "  'events': events.groupby('date').event_unique_identifier.count(),\n",
    "  'attendances': events.groupby('date').attendances.sum().astype(int),\n",
    "}).resample('M').sum().astype(int).to_csv(os.path.join(OUTPUT_DIR, 'events_by_date.csv'))"
   ]
  },
  {
   "cell_type": "markdown",
   "id": "be7345a4",
   "metadata": {
    "papermill": {
     "duration": 0.001159,
     "end_time": "2023-11-13T15:15:16.468424",
     "exception": false,
     "start_time": "2023-11-13T15:15:16.467265",
     "status": "completed"
    },
    "tags": []
   },
   "source": [
    "Tickets CSV"
   ]
  },
  {
   "cell_type": "code",
   "execution_count": 8,
   "id": "547a877e",
   "metadata": {
    "execution": {
     "iopub.execute_input": "2023-11-13T15:15:16.472987Z",
     "iopub.status.busy": "2023-11-13T15:15:16.472826Z",
     "iopub.status.idle": "2023-11-13T15:15:16.479948Z",
     "shell.execute_reply": "2023-11-13T15:15:16.479618Z"
    },
    "papermill": {
     "duration": 0.010817,
     "end_time": "2023-11-13T15:15:16.480715",
     "exception": false,
     "start_time": "2023-11-13T15:15:16.469898",
     "status": "completed"
    },
    "tags": []
   },
   "outputs": [],
   "source": [
    "pd.DataFrame({\n",
    "  'orders': tickets.groupby('ward_code').number_of_tickets.count(),\n",
    "  'tickets': tickets.groupby('ward_code').number_of_tickets.sum().astype(int),\n",
    "}).to_csv(os.path.join(OUTPUT_DIR, 'tickets_by_ward.csv'))"
   ]
  },
  {
   "cell_type": "code",
   "execution_count": 9,
   "id": "a53506fb",
   "metadata": {
    "execution": {
     "iopub.execute_input": "2023-11-13T15:15:16.483614Z",
     "iopub.status.busy": "2023-11-13T15:15:16.483468Z",
     "iopub.status.idle": "2023-11-13T15:15:16.488232Z",
     "shell.execute_reply": "2023-11-13T15:15:16.487918Z"
    },
    "papermill": {
     "duration": 0.007484,
     "end_time": "2023-11-13T15:15:16.489400",
     "exception": false,
     "start_time": "2023-11-13T15:15:16.481916",
     "status": "completed"
    },
    "tags": []
   },
   "outputs": [],
   "source": [
    "pd.DataFrame({\n",
    "  'orders': tickets.groupby('event_date').number_of_tickets.count(),\n",
    "  'tickets': tickets.groupby('event_date').number_of_tickets.sum().astype(int),\n",
    "}).resample('M').sum().to_csv(os.path.join(OUTPUT_DIR, 'tickets_by_event_date.csv'))"
   ]
  },
  {
   "cell_type": "code",
   "execution_count": 10,
   "id": "8ae52ff5",
   "metadata": {
    "execution": {
     "iopub.execute_input": "2023-11-13T15:15:16.493970Z",
     "iopub.status.busy": "2023-11-13T15:15:16.493835Z",
     "iopub.status.idle": "2023-11-13T15:15:16.498041Z",
     "shell.execute_reply": "2023-11-13T15:15:16.497731Z"
    },
    "papermill": {
     "duration": 0.00745,
     "end_time": "2023-11-13T15:15:16.498891",
     "exception": false,
     "start_time": "2023-11-13T15:15:16.491441",
     "status": "completed"
    },
    "tags": []
   },
   "outputs": [],
   "source": [
    "pd.Series({\n",
    "    'total_events': events.event_unique_identifier.count(),\n",
    "    'total_attendances': events.attendances.count(),\n",
    "    'first_event': events.date.min(),\n",
    "    'latest_event': events.date.max(),\n",
    "    'total_ticket_orders_for_events_to_date': tickets.number_of_tickets.count(),\n",
    "    'total_tickets_sold_for_events_to_date': tickets.number_of_tickets.sum(),\n",
    "}).to_json(os.path.join(OUTPUT_DIR, 'headlines.json'), indent=2)"
   ]
  },
  {
   "cell_type": "code",
   "execution_count": null,
   "id": "89ad5da3",
   "metadata": {
    "papermill": {
     "duration": 0.001905,
     "end_time": "2023-11-13T15:15:16.503572",
     "exception": false,
     "start_time": "2023-11-13T15:15:16.501667",
     "status": "completed"
    },
    "tags": []
   },
   "outputs": [],
   "source": []
  }
 ],
 "metadata": {
  "kernelspec": {
   "display_name": "leeds-2023-YZF5GfJv",
   "language": "python",
   "name": "python3"
  },
  "language_info": {
   "codemirror_mode": {
    "name": "ipython",
    "version": 3
   },
   "file_extension": ".py",
   "mimetype": "text/x-python",
   "name": "python",
   "nbconvert_exporter": "python",
   "pygments_lexer": "ipython3",
   "version": "3.10.12"
  },
  "papermill": {
   "default_parameters": {},
   "duration": 5.867894,
   "end_time": "2023-11-13T15:15:16.722689",
   "environment_variables": {},
   "exception": null,
   "input_path": "prepare.ipynb",
   "output_path": "../../../../working/output/signature-prepare.ipynb",
   "parameters": {},
   "start_time": "2023-11-13T15:15:10.854795",
   "version": "2.4.0"
  }
 },
 "nbformat": 4,
 "nbformat_minor": 5
}