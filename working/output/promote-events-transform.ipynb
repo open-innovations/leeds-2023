{
 "cells": [
  {
   "cell_type": "code",
   "execution_count": 1,
   "id": "4ab65f3c",
   "metadata": {
    "execution": {
     "iopub.execute_input": "2023-08-01T23:41:06.567663Z",
     "iopub.status.busy": "2023-08-01T23:41:06.567049Z",
     "iopub.status.idle": "2023-08-01T23:41:06.897273Z",
     "shell.execute_reply": "2023-08-01T23:41:06.896228Z"
    },
    "papermill": {
     "duration": 0.336396,
     "end_time": "2023-08-01T23:41:06.899629",
     "exception": false,
     "start_time": "2023-08-01T23:41:06.563233",
     "status": "completed"
    },
    "tags": []
   },
   "outputs": [],
   "source": [
    "import os\n",
    "import pandas as pd"
   ]
  },
  {
   "cell_type": "code",
   "execution_count": 2,
   "id": "7fbcbf2c",
   "metadata": {
    "execution": {
     "iopub.execute_input": "2023-08-01T23:41:06.905353Z",
     "iopub.status.busy": "2023-08-01T23:41:06.904652Z",
     "iopub.status.idle": "2023-08-01T23:41:06.909331Z",
     "shell.execute_reply": "2023-08-01T23:41:06.908426Z"
    },
    "papermill": {
     "duration": 0.010337,
     "end_time": "2023-08-01T23:41:06.912006",
     "exception": false,
     "start_time": "2023-08-01T23:41:06.901669",
     "status": "completed"
    },
    "tags": []
   },
   "outputs": [],
   "source": [
    "EVENTS_RAW_DATA = '../../../working/metrics/promote-events/events.csv'\n",
    "DATA_DIR = '../../../data/metrics/events/promote-events/'\n",
    "EVENTS_DATA = os.path.join(DATA_DIR, 'events.csv')"
   ]
  },
  {
   "cell_type": "code",
   "execution_count": 3,
   "id": "a0d33e3a",
   "metadata": {
    "execution": {
     "iopub.execute_input": "2023-08-01T23:41:06.916582Z",
     "iopub.status.busy": "2023-08-01T23:41:06.916268Z",
     "iopub.status.idle": "2023-08-01T23:41:06.920769Z",
     "shell.execute_reply": "2023-08-01T23:41:06.919911Z"
    },
    "papermill": {
     "duration": 0.009033,
     "end_time": "2023-08-01T23:41:06.922648",
     "exception": false,
     "start_time": "2023-08-01T23:41:06.913615",
     "status": "completed"
    },
    "tags": []
   },
   "outputs": [],
   "source": [
    "columns = {\n",
    "    'id': 'id',\n",
    "    'name': 'name',\n",
    "    'locationName': 'location',\n",
    "    'cardPrice': 'card_price',\n",
    "    'timeslots': 'time',\n",
    "    'displayOnWebsite': 'display',\n",
    "    'Stage': 'stage',\n",
    "}"
   ]
  },
  {
   "cell_type": "code",
   "execution_count": 4,
   "id": "6ae785c0",
   "metadata": {
    "execution": {
     "iopub.execute_input": "2023-08-01T23:41:06.927291Z",
     "iopub.status.busy": "2023-08-01T23:41:06.926759Z",
     "iopub.status.idle": "2023-08-01T23:41:06.944069Z",
     "shell.execute_reply": "2023-08-01T23:41:06.943126Z"
    },
    "papermill": {
     "duration": 0.021984,
     "end_time": "2023-08-01T23:41:06.946251",
     "exception": false,
     "start_time": "2023-08-01T23:41:06.924267",
     "status": "completed"
    },
    "tags": []
   },
   "outputs": [],
   "source": [
    "data = pd.read_csv(EVENTS_RAW_DATA)[columns.keys()].rename(columns=columns)\n",
    "data.time = pd.to_datetime(data.time, errors='coerce')"
   ]
  },
  {
   "cell_type": "code",
   "execution_count": 5,
   "id": "c43899ae",
   "metadata": {
    "execution": {
     "iopub.execute_input": "2023-08-01T23:41:06.951460Z",
     "iopub.status.busy": "2023-08-01T23:41:06.951155Z",
     "iopub.status.idle": "2023-08-01T23:41:06.961732Z",
     "shell.execute_reply": "2023-08-01T23:41:06.960745Z"
    },
    "papermill": {
     "duration": 0.015842,
     "end_time": "2023-08-01T23:41:06.964077",
     "exception": false,
     "start_time": "2023-08-01T23:41:06.948235",
     "status": "completed"
    },
    "tags": []
   },
   "outputs": [],
   "source": [
    "data.to_csv(os.path.join(DATA_DIR, 'events.csv'), index=False)"
   ]
  }
 ],
 "metadata": {
  "kernelspec": {
   "display_name": "leeds-2023-YZF5GfJv",
   "language": "python",
   "name": "python3"
  },
  "language_info": {
   "codemirror_mode": {
    "name": "ipython",
    "version": 3
   },
   "file_extension": ".py",
   "mimetype": "text/x-python",
   "name": "python",
   "nbconvert_exporter": "python",
   "pygments_lexer": "ipython3",
   "version": "3.10.6"
  },
  "papermill": {
   "default_parameters": {},
   "duration": 2.324348,
   "end_time": "2023-08-01T23:41:07.285250",
   "environment_variables": {},
   "exception": null,
   "input_path": "transform.ipynb",
   "output_path": "../../../working/output/promote-events-transform.ipynb",
   "parameters": {},
   "start_time": "2023-08-01T23:41:04.960902",
   "version": "2.4.0"
  }
 },
 "nbformat": 4,
 "nbformat_minor": 5
}