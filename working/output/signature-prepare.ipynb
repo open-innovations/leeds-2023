{
 "cells": [
  {
   "cell_type": "code",
   "execution_count": 1,
   "id": "464d09c6",
   "metadata": {
    "execution": {
     "iopub.execute_input": "2023-10-20T11:35:00.364386Z",
     "iopub.status.busy": "2023-10-20T11:35:00.363929Z",
     "iopub.status.idle": "2023-10-20T11:35:05.214887Z",
     "shell.execute_reply": "2023-10-20T11:35:05.214417Z"
    },
    "papermill": {
     "duration": 4.858138,
     "end_time": "2023-10-20T11:35:05.216003",
     "exception": false,
     "start_time": "2023-10-20T11:35:00.357865",
     "status": "completed"
    },
    "tags": []
   },
   "outputs": [],
   "source": [
    "import os\n",
    "import pandas as pd\n",
    "from events import load_event_data, get_first_ward, normalise_ward"
   ]
  },
  {
   "cell_type": "code",
   "execution_count": 2,
   "id": "dece67a6",
   "metadata": {
    "execution": {
     "iopub.execute_input": "2023-10-20T11:35:05.219135Z",
     "iopub.status.busy": "2023-10-20T11:35:05.218990Z",
     "iopub.status.idle": "2023-10-20T11:35:05.221404Z",
     "shell.execute_reply": "2023-10-20T11:35:05.221121Z"
    },
    "papermill": {
     "duration": 0.004821,
     "end_time": "2023-10-20T11:35:05.222156",
     "exception": false,
     "start_time": "2023-10-20T11:35:05.217335",
     "status": "completed"
    },
    "tags": []
   },
   "outputs": [],
   "source": [
    "latest_date = pd.Timestamp.today().ceil('D')"
   ]
  },
  {
   "cell_type": "code",
   "execution_count": 3,
   "id": "5d003b9a",
   "metadata": {
    "execution": {
     "iopub.execute_input": "2023-10-20T11:35:05.224949Z",
     "iopub.status.busy": "2023-10-20T11:35:05.224807Z",
     "iopub.status.idle": "2023-10-20T11:35:05.233662Z",
     "shell.execute_reply": "2023-10-20T11:35:05.233307Z"
    },
    "papermill": {
     "duration": 0.011102,
     "end_time": "2023-10-20T11:35:05.234375",
     "exception": false,
     "start_time": "2023-10-20T11:35:05.223273",
     "status": "completed"
    },
    "tags": []
   },
   "outputs": [],
   "source": [
    "tickets = pd.read_csv('../../../../data/metrics/events/tickets/orders.csv', parse_dates=['created_at', 'event_date'])\n",
    "tickets = tickets[tickets.event_date <= latest_date]"
   ]
  },
  {
   "cell_type": "code",
   "execution_count": 4,
   "id": "5a6f2e72",
   "metadata": {
    "execution": {
     "iopub.execute_input": "2023-10-20T11:35:05.237163Z",
     "iopub.status.busy": "2023-10-20T11:35:05.236989Z",
     "iopub.status.idle": "2023-10-20T11:35:05.259453Z",
     "shell.execute_reply": "2023-10-20T11:35:05.258990Z"
    },
    "papermill": {
     "duration": 0.024848,
     "end_time": "2023-10-20T11:35:05.260344",
     "exception": false,
     "start_time": "2023-10-20T11:35:05.235496",
     "status": "completed"
    },
    "tags": []
   },
   "outputs": [],
   "source": [
    "events = load_event_data()\n",
    "\n",
    "events = pd.concat([\n",
    "  events,\n",
    "  events.pipe(get_first_ward).pipe(normalise_ward).fillna('UNKNOWN'),\n",
    "  pd.Series(\n",
    "      events.actual_audience_size_number_of_participants_in_person + events.actual_audience_size_number_of_participants_online,\n",
    "      name='attendances'\n",
    "  )\n",
    "], axis=1).rename(columns={\n",
    "    'start_date': 'date'\n",
    "}).loc[:, ['ward_code', 'date', 'event_unique_identifier', 'attendances']]"
   ]
  },
  {
   "cell_type": "code",
   "execution_count": 5,
   "id": "7e391d6c",
   "metadata": {
    "execution": {
     "iopub.execute_input": "2023-10-20T11:35:05.263411Z",
     "iopub.status.busy": "2023-10-20T11:35:05.263228Z",
     "iopub.status.idle": "2023-10-20T11:35:05.265095Z",
     "shell.execute_reply": "2023-10-20T11:35:05.264819Z"
    },
    "papermill": {
     "duration": 0.004169,
     "end_time": "2023-10-20T11:35:05.265838",
     "exception": false,
     "start_time": "2023-10-20T11:35:05.261669",
     "status": "completed"
    },
    "tags": []
   },
   "outputs": [],
   "source": [
    "OUTPUT_DIR='../../../../docs/metrics/events/signature/_data/'\n",
    "os.makedirs(OUTPUT_DIR, exist_ok=True)"
   ]
  },
  {
   "cell_type": "markdown",
   "id": "160c431f",
   "metadata": {
    "papermill": {
     "duration": 0.001109,
     "end_time": "2023-10-20T11:35:05.268028",
     "exception": false,
     "start_time": "2023-10-20T11:35:05.266919",
     "status": "completed"
    },
    "tags": []
   },
   "source": [
    "Events CSVs"
   ]
  },
  {
   "cell_type": "code",
   "execution_count": 6,
   "id": "e858b1fe",
   "metadata": {
    "execution": {
     "iopub.execute_input": "2023-10-20T11:35:05.270657Z",
     "iopub.status.busy": "2023-10-20T11:35:05.270488Z",
     "iopub.status.idle": "2023-10-20T11:35:05.274264Z",
     "shell.execute_reply": "2023-10-20T11:35:05.273937Z"
    },
    "papermill": {
     "duration": 0.005931,
     "end_time": "2023-10-20T11:35:05.275000",
     "exception": false,
     "start_time": "2023-10-20T11:35:05.269069",
     "status": "completed"
    },
    "tags": []
   },
   "outputs": [],
   "source": [
    "pd.DataFrame({\n",
    "  'events': events.groupby('ward_code').event_unique_identifier.count(),\n",
    "  'attendances': events.groupby('ward_code').attendances.sum().astype(int),\n",
    "}).to_csv(os.path.join(OUTPUT_DIR, 'events_by_ward.csv'))\n"
   ]
  },
  {
   "cell_type": "code",
   "execution_count": 7,
   "id": "b9b591d4",
   "metadata": {
    "execution": {
     "iopub.execute_input": "2023-10-20T11:35:05.277740Z",
     "iopub.status.busy": "2023-10-20T11:35:05.277635Z",
     "iopub.status.idle": "2023-10-20T11:35:05.282599Z",
     "shell.execute_reply": "2023-10-20T11:35:05.282280Z"
    },
    "papermill": {
     "duration": 0.0072,
     "end_time": "2023-10-20T11:35:05.283326",
     "exception": false,
     "start_time": "2023-10-20T11:35:05.276126",
     "status": "completed"
    },
    "tags": []
   },
   "outputs": [],
   "source": [
    "pd.DataFrame({\n",
    "  'events': events.groupby('date').event_unique_identifier.count(),\n",
    "  'attendances': events.groupby('date').attendances.sum().astype(int),\n",
    "}).resample('M').sum().astype(int).to_csv(os.path.join(OUTPUT_DIR, 'events_by_date.csv'))"
   ]
  },
  {
   "cell_type": "markdown",
   "id": "4f30ffcb",
   "metadata": {
    "papermill": {
     "duration": 0.001152,
     "end_time": "2023-10-20T11:35:05.285635",
     "exception": false,
     "start_time": "2023-10-20T11:35:05.284483",
     "status": "completed"
    },
    "tags": []
   },
   "source": [
    "Tickets CSV"
   ]
  },
  {
   "cell_type": "code",
   "execution_count": 8,
   "id": "352591e0",
   "metadata": {
    "execution": {
     "iopub.execute_input": "2023-10-20T11:35:05.288302Z",
     "iopub.status.busy": "2023-10-20T11:35:05.288170Z",
     "iopub.status.idle": "2023-10-20T11:35:05.292011Z",
     "shell.execute_reply": "2023-10-20T11:35:05.291680Z"
    },
    "papermill": {
     "duration": 0.006083,
     "end_time": "2023-10-20T11:35:05.292804",
     "exception": false,
     "start_time": "2023-10-20T11:35:05.286721",
     "status": "completed"
    },
    "tags": []
   },
   "outputs": [],
   "source": [
    "pd.DataFrame({\n",
    "  'orders': tickets.groupby('ward_code').number_of_tickets.count(),\n",
    "  'tickets': tickets.groupby('ward_code').number_of_tickets.sum().astype(int),\n",
    "}).to_csv(os.path.join(OUTPUT_DIR, 'tickets_by_ward.csv'))"
   ]
  },
  {
   "cell_type": "code",
   "execution_count": 9,
   "id": "d91e9b26",
   "metadata": {
    "execution": {
     "iopub.execute_input": "2023-10-20T11:35:05.296104Z",
     "iopub.status.busy": "2023-10-20T11:35:05.295946Z",
     "iopub.status.idle": "2023-10-20T11:35:05.300972Z",
     "shell.execute_reply": "2023-10-20T11:35:05.300642Z"
    },
    "papermill": {
     "duration": 0.007618,
     "end_time": "2023-10-20T11:35:05.301706",
     "exception": false,
     "start_time": "2023-10-20T11:35:05.294088",
     "status": "completed"
    },
    "tags": []
   },
   "outputs": [],
   "source": [
    "pd.DataFrame({\n",
    "  'orders': tickets.groupby('event_date').number_of_tickets.count(),\n",
    "  'tickets': tickets.groupby('event_date').number_of_tickets.sum().astype(int),\n",
    "}).resample('M').sum().to_csv(os.path.join(OUTPUT_DIR, 'tickets_by_event_date.csv'))"
   ]
  },
  {
   "cell_type": "code",
   "execution_count": 10,
   "id": "a90f7572",
   "metadata": {
    "execution": {
     "iopub.execute_input": "2023-10-20T11:35:05.305186Z",
     "iopub.status.busy": "2023-10-20T11:35:05.305009Z",
     "iopub.status.idle": "2023-10-20T11:35:05.308013Z",
     "shell.execute_reply": "2023-10-20T11:35:05.307724Z"
    },
    "papermill": {
     "duration": 0.005734,
     "end_time": "2023-10-20T11:35:05.308644",
     "exception": false,
     "start_time": "2023-10-20T11:35:05.302910",
     "status": "completed"
    },
    "tags": []
   },
   "outputs": [],
   "source": [
    "pd.Series({\n",
    "    'total_events': events.event_unique_identifier.count(),\n",
    "    'total_attendances': events.attendances.count(),\n",
    "    'first_event': events.date.min(),\n",
    "    'latest_event': events.date.max(),\n",
    "    'total_ticket_orders_for_events_to_date': tickets.number_of_tickets.count(),\n",
    "    'total_tickets_sold_for_events_to_date': tickets.number_of_tickets.sum(),\n",
    "}).to_json(os.path.join(OUTPUT_DIR, 'headlines.json'), indent=2)"
   ]
  },
  {
   "cell_type": "code",
   "execution_count": null,
   "id": "f15f6cd2",
   "metadata": {
    "papermill": {
     "duration": 0.001197,
     "end_time": "2023-10-20T11:35:05.311042",
     "exception": false,
     "start_time": "2023-10-20T11:35:05.309845",
     "status": "completed"
    },
    "tags": []
   },
   "outputs": [],
   "source": []
  }
 ],
 "metadata": {
  "kernelspec": {
   "display_name": "leeds-2023-YZF5GfJv",
   "language": "python",
   "name": "python3"
  },
  "language_info": {
   "codemirror_mode": {
    "name": "ipython",
    "version": 3
   },
   "file_extension": ".py",
   "mimetype": "text/x-python",
   "name": "python",
   "nbconvert_exporter": "python",
   "pygments_lexer": "ipython3",
   "version": "3.10.12"
  },
  "papermill": {
   "default_parameters": {},
   "duration": 5.891742,
   "end_time": "2023-10-20T11:35:05.528932",
   "environment_variables": {},
   "exception": null,
   "input_path": "prepare.ipynb",
   "output_path": "../../../../working/output/signature-prepare.ipynb",
   "parameters": {},
   "start_time": "2023-10-20T11:34:59.637190",
   "version": "2.4.0"
  }
 },
 "nbformat": 4,
 "nbformat_minor": 5
}