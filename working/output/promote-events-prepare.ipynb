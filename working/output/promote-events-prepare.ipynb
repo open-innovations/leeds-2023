{
 "cells": [
  {
   "cell_type": "code",
   "execution_count": 1,
   "id": "658bae4b",
   "metadata": {
    "execution": {
     "iopub.execute_input": "2023-08-21T23:39:44.998327Z",
     "iopub.status.busy": "2023-08-21T23:39:44.996982Z",
     "iopub.status.idle": "2023-08-21T23:39:45.340337Z",
     "shell.execute_reply": "2023-08-21T23:39:45.339361Z"
    },
    "papermill": {
     "duration": 0.350371,
     "end_time": "2023-08-21T23:39:45.342681",
     "exception": false,
     "start_time": "2023-08-21T23:39:44.992310",
     "status": "completed"
    },
    "tags": []
   },
   "outputs": [],
   "source": [
    "import os\n",
    "import pandas as pd"
   ]
  },
  {
   "cell_type": "code",
   "execution_count": 2,
   "id": "791846be",
   "metadata": {
    "execution": {
     "iopub.execute_input": "2023-08-21T23:39:45.348806Z",
     "iopub.status.busy": "2023-08-21T23:39:45.348313Z",
     "iopub.status.idle": "2023-08-21T23:39:45.352796Z",
     "shell.execute_reply": "2023-08-21T23:39:45.351945Z"
    },
    "papermill": {
     "duration": 0.009515,
     "end_time": "2023-08-21T23:39:45.354699",
     "exception": false,
     "start_time": "2023-08-21T23:39:45.345184",
     "status": "completed"
    },
    "tags": []
   },
   "outputs": [],
   "source": [
    "DATA_DIR='../../../docs/metrics/events/promote/_data/'\n",
    "os.makedirs(DATA_DIR, exist_ok=True)"
   ]
  },
  {
   "cell_type": "code",
   "execution_count": 3,
   "id": "c2ee7b17",
   "metadata": {
    "execution": {
     "iopub.execute_input": "2023-08-21T23:39:45.359794Z",
     "iopub.status.busy": "2023-08-21T23:39:45.359513Z",
     "iopub.status.idle": "2023-08-21T23:39:45.370938Z",
     "shell.execute_reply": "2023-08-21T23:39:45.370003Z"
    },
    "papermill": {
     "duration": 0.016246,
     "end_time": "2023-08-21T23:39:45.372941",
     "exception": false,
     "start_time": "2023-08-21T23:39:45.356695",
     "status": "completed"
    },
    "tags": []
   },
   "outputs": [],
   "source": [
    "data = pd.read_csv('../../../data/metrics/events/promote-events/events.csv', parse_dates=['time'])"
   ]
  },
  {
   "cell_type": "code",
   "execution_count": 4,
   "id": "2fe23e3c",
   "metadata": {
    "execution": {
     "iopub.execute_input": "2023-08-21T23:39:45.378595Z",
     "iopub.status.busy": "2023-08-21T23:39:45.378192Z",
     "iopub.status.idle": "2023-08-21T23:39:45.387854Z",
     "shell.execute_reply": "2023-08-21T23:39:45.386122Z"
    },
    "papermill": {
     "duration": 0.015053,
     "end_time": "2023-08-21T23:39:45.390105",
     "exception": false,
     "start_time": "2023-08-21T23:39:45.375052",
     "status": "completed"
    },
    "tags": []
   },
   "outputs": [],
   "source": [
    "pd.Series({\n",
    "    'total_events': len(data.id.unique()),\n",
    "    'total_event_instances': len(data.time),\n",
    "    'earliest_event': data.time.min(),\n",
    "    'latest_event': data.time.max(),\n",
    "}).to_json(\n",
    "    os.path.join(DATA_DIR, 'headlines.json'),\n",
    "    date_format='iso', indent=2\n",
    ")"
   ]
  },
  {
   "cell_type": "code",
   "execution_count": 5,
   "id": "c27bff94",
   "metadata": {
    "execution": {
     "iopub.execute_input": "2023-08-21T23:39:45.395630Z",
     "iopub.status.busy": "2023-08-21T23:39:45.395208Z",
     "iopub.status.idle": "2023-08-21T23:39:45.406377Z",
     "shell.execute_reply": "2023-08-21T23:39:45.405532Z"
    },
    "papermill": {
     "duration": 0.016179,
     "end_time": "2023-08-21T23:39:45.408346",
     "exception": false,
     "start_time": "2023-08-21T23:39:45.392167",
     "status": "completed"
    },
    "tags": []
   },
   "outputs": [],
   "source": [
    "events = pd.DataFrame({\n",
    "    'events': data.groupby('id').agg({ 'time': 'min' }).reset_index().groupby('time').id.count(),\n",
    "    'event_instances': data.groupby('time').id.count(),\n",
    "}).fillna(0).astype(int)"
   ]
  },
  {
   "cell_type": "code",
   "execution_count": 6,
   "id": "2978a8a3",
   "metadata": {
    "execution": {
     "iopub.execute_input": "2023-08-21T23:39:45.414873Z",
     "iopub.status.busy": "2023-08-21T23:39:45.414358Z",
     "iopub.status.idle": "2023-08-21T23:39:45.418936Z",
     "shell.execute_reply": "2023-08-21T23:39:45.418042Z"
    },
    "papermill": {
     "duration": 0.010206,
     "end_time": "2023-08-21T23:39:45.421026",
     "exception": false,
     "start_time": "2023-08-21T23:39:45.410820",
     "status": "completed"
    },
    "tags": []
   },
   "outputs": [],
   "source": [
    "def cumulate(data):\n",
    "    return pd.concat([\n",
    "        data,\n",
    "        data.cumsum().rename(columns=lambda c: f'cumulative_{c}')\n",
    "    ], axis=1)"
   ]
  },
  {
   "cell_type": "code",
   "execution_count": 7,
   "id": "0e61a894",
   "metadata": {
    "execution": {
     "iopub.execute_input": "2023-08-21T23:39:45.427229Z",
     "iopub.status.busy": "2023-08-21T23:39:45.426518Z",
     "iopub.status.idle": "2023-08-21T23:39:45.440089Z",
     "shell.execute_reply": "2023-08-21T23:39:45.439036Z"
    },
    "papermill": {
     "duration": 0.018966,
     "end_time": "2023-08-21T23:39:45.442374",
     "exception": false,
     "start_time": "2023-08-21T23:39:45.423408",
     "status": "completed"
    },
    "tags": []
   },
   "outputs": [],
   "source": [
    "events.resample('W-FRI').sum().pipe(cumulate).to_csv(os.path.join(DATA_DIR, 'by_week.csv'))"
   ]
  },
  {
   "cell_type": "code",
   "execution_count": 8,
   "id": "45131936",
   "metadata": {
    "execution": {
     "iopub.execute_input": "2023-08-21T23:39:45.448588Z",
     "iopub.status.busy": "2023-08-21T23:39:45.448291Z",
     "iopub.status.idle": "2023-08-21T23:39:45.457310Z",
     "shell.execute_reply": "2023-08-21T23:39:45.456307Z"
    },
    "papermill": {
     "duration": 0.014464,
     "end_time": "2023-08-21T23:39:45.459273",
     "exception": false,
     "start_time": "2023-08-21T23:39:45.444809",
     "status": "completed"
    },
    "tags": []
   },
   "outputs": [],
   "source": [
    "events.resample('MS').sum().pipe(cumulate).to_csv(os.path.join(DATA_DIR, 'by_month.csv'))"
   ]
  },
  {
   "cell_type": "code",
   "execution_count": null,
   "id": "9379b299",
   "metadata": {
    "papermill": {
     "duration": 0.004127,
     "end_time": "2023-08-21T23:39:45.466451",
     "exception": false,
     "start_time": "2023-08-21T23:39:45.462324",
     "status": "completed"
    },
    "tags": []
   },
   "outputs": [],
   "source": []
  }
 ],
 "metadata": {
  "kernelspec": {
   "display_name": "leeds-2023-YZF5GfJv",
   "language": "python",
   "name": "python3"
  },
  "language_info": {
   "codemirror_mode": {
    "name": "ipython",
    "version": 3
   },
   "file_extension": ".py",
   "mimetype": "text/x-python",
   "name": "python",
   "nbconvert_exporter": "python",
   "pygments_lexer": "ipython3",
   "version": "3.10.12"
  },
  "papermill": {
   "default_parameters": {},
   "duration": 2.395935,
   "end_time": "2023-08-21T23:39:45.789651",
   "environment_variables": {},
   "exception": null,
   "input_path": "prepare.ipynb",
   "output_path": "../../../working/output/promote-events-prepare.ipynb",
   "parameters": {},
   "start_time": "2023-08-21T23:39:43.393716",
   "version": "2.4.0"
  }
 },
 "nbformat": 4,
 "nbformat_minor": 5
}