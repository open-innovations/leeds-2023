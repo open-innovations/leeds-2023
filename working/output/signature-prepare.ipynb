{
 "cells": [
  {
   "cell_type": "code",
   "execution_count": 1,
   "id": "be42c967",
   "metadata": {
    "execution": {
     "iopub.execute_input": "2023-09-05T23:39:13.816719Z",
     "iopub.status.busy": "2023-09-05T23:39:13.816117Z",
     "iopub.status.idle": "2023-09-05T23:39:23.748329Z",
     "shell.execute_reply": "2023-09-05T23:39:23.747555Z"
    },
    "papermill": {
     "duration": 9.938342,
     "end_time": "2023-09-05T23:39:23.750280",
     "exception": false,
     "start_time": "2023-09-05T23:39:13.811938",
     "status": "completed"
    },
    "tags": []
   },
   "outputs": [],
   "source": [
    "import os\n",
    "import pandas as pd\n",
    "from events import load_event_data, get_first_ward, normalise_ward"
   ]
  },
  {
   "cell_type": "code",
   "execution_count": 2,
   "id": "500fe5f8",
   "metadata": {
    "execution": {
     "iopub.execute_input": "2023-09-05T23:39:23.757017Z",
     "iopub.status.busy": "2023-09-05T23:39:23.756539Z",
     "iopub.status.idle": "2023-09-05T23:39:23.760679Z",
     "shell.execute_reply": "2023-09-05T23:39:23.759955Z"
    },
    "papermill": {
     "duration": 0.009348,
     "end_time": "2023-09-05T23:39:23.762441",
     "exception": false,
     "start_time": "2023-09-05T23:39:23.753093",
     "status": "completed"
    },
    "tags": []
   },
   "outputs": [],
   "source": [
    "latest_date = pd.Timestamp.today().ceil('D')"
   ]
  },
  {
   "cell_type": "code",
   "execution_count": 3,
   "id": "5ec24337",
   "metadata": {
    "execution": {
     "iopub.execute_input": "2023-09-05T23:39:23.768592Z",
     "iopub.status.busy": "2023-09-05T23:39:23.767939Z",
     "iopub.status.idle": "2023-09-05T23:39:23.787334Z",
     "shell.execute_reply": "2023-09-05T23:39:23.786646Z"
    },
    "papermill": {
     "duration": 0.024841,
     "end_time": "2023-09-05T23:39:23.789456",
     "exception": false,
     "start_time": "2023-09-05T23:39:23.764615",
     "status": "completed"
    },
    "tags": []
   },
   "outputs": [],
   "source": [
    "tickets = pd.read_csv('../../../../data/metrics/events/tickets/orders.csv', parse_dates=['created_at', 'event_date'])\n",
    "tickets = tickets[tickets.event_date <= latest_date]"
   ]
  },
  {
   "cell_type": "code",
   "execution_count": 4,
   "id": "973bba38",
   "metadata": {
    "execution": {
     "iopub.execute_input": "2023-09-05T23:39:23.795419Z",
     "iopub.status.busy": "2023-09-05T23:39:23.794865Z",
     "iopub.status.idle": "2023-09-05T23:39:23.993666Z",
     "shell.execute_reply": "2023-09-05T23:39:23.992881Z"
    },
    "papermill": {
     "duration": 0.203983,
     "end_time": "2023-09-05T23:39:23.995658",
     "exception": false,
     "start_time": "2023-09-05T23:39:23.791675",
     "status": "completed"
    },
    "tags": []
   },
   "outputs": [],
   "source": [
    "events = load_event_data()\n",
    "\n",
    "events = pd.concat([\n",
    "  events,\n",
    "  events.pipe(get_first_ward).pipe(normalise_ward).fillna('UNKNOWN'),\n",
    "  pd.Series(\n",
    "      events.actual_audience_size_number_of_participants_in_person + events.actual_audience_size_number_of_participants_online,\n",
    "      name='attendances'\n",
    "  )\n",
    "], axis=1).rename(columns={\n",
    "    'start_date': 'date'\n",
    "}).loc[:, ['ward_code', 'date', 'event_unique_identifier', 'attendances']]"
   ]
  },
  {
   "cell_type": "code",
   "execution_count": 5,
   "id": "5a714e4c",
   "metadata": {
    "execution": {
     "iopub.execute_input": "2023-09-05T23:39:24.002100Z",
     "iopub.status.busy": "2023-09-05T23:39:24.001593Z",
     "iopub.status.idle": "2023-09-05T23:39:24.005230Z",
     "shell.execute_reply": "2023-09-05T23:39:24.004550Z"
    },
    "papermill": {
     "duration": 0.00859,
     "end_time": "2023-09-05T23:39:24.006783",
     "exception": false,
     "start_time": "2023-09-05T23:39:23.998193",
     "status": "completed"
    },
    "tags": []
   },
   "outputs": [],
   "source": [
    "OUTPUT_DIR='../../../../docs/metrics/events/signature/_data/'\n",
    "os.makedirs(OUTPUT_DIR, exist_ok=True)"
   ]
  },
  {
   "cell_type": "markdown",
   "id": "fdba7796",
   "metadata": {
    "papermill": {
     "duration": 0.002177,
     "end_time": "2023-09-05T23:39:24.011205",
     "exception": false,
     "start_time": "2023-09-05T23:39:24.009028",
     "status": "completed"
    },
    "tags": []
   },
   "source": [
    "Events CSVs"
   ]
  },
  {
   "cell_type": "code",
   "execution_count": 6,
   "id": "32380d4a",
   "metadata": {
    "execution": {
     "iopub.execute_input": "2023-09-05T23:39:24.016992Z",
     "iopub.status.busy": "2023-09-05T23:39:24.016325Z",
     "iopub.status.idle": "2023-09-05T23:39:24.024781Z",
     "shell.execute_reply": "2023-09-05T23:39:24.024153Z"
    },
    "papermill": {
     "duration": 0.013428,
     "end_time": "2023-09-05T23:39:24.026705",
     "exception": false,
     "start_time": "2023-09-05T23:39:24.013277",
     "status": "completed"
    },
    "tags": []
   },
   "outputs": [],
   "source": [
    "pd.DataFrame({\n",
    "  'events': events.groupby('ward_code').event_unique_identifier.count(),\n",
    "  'attendances': events.groupby('ward_code').attendances.sum().astype(int),\n",
    "}).to_csv(os.path.join(OUTPUT_DIR, 'events_by_ward.csv'))\n"
   ]
  },
  {
   "cell_type": "code",
   "execution_count": 7,
   "id": "b2bc1110",
   "metadata": {
    "execution": {
     "iopub.execute_input": "2023-09-05T23:39:24.032466Z",
     "iopub.status.busy": "2023-09-05T23:39:24.032065Z",
     "iopub.status.idle": "2023-09-05T23:39:24.043319Z",
     "shell.execute_reply": "2023-09-05T23:39:24.042667Z"
    },
    "papermill": {
     "duration": 0.015933,
     "end_time": "2023-09-05T23:39:24.044921",
     "exception": false,
     "start_time": "2023-09-05T23:39:24.028988",
     "status": "completed"
    },
    "tags": []
   },
   "outputs": [],
   "source": [
    "pd.DataFrame({\n",
    "  'events': events.groupby('date').event_unique_identifier.count(),\n",
    "  'attendances': events.groupby('date').attendances.sum().astype(int),\n",
    "}).resample('M').sum().astype(int).to_csv(os.path.join(OUTPUT_DIR, 'events_by_date.csv'))"
   ]
  },
  {
   "cell_type": "markdown",
   "id": "6586d239",
   "metadata": {
    "papermill": {
     "duration": 0.002285,
     "end_time": "2023-09-05T23:39:24.049552",
     "exception": false,
     "start_time": "2023-09-05T23:39:24.047267",
     "status": "completed"
    },
    "tags": []
   },
   "source": [
    "Tickets CSV"
   ]
  },
  {
   "cell_type": "code",
   "execution_count": 8,
   "id": "ef3dd65b",
   "metadata": {
    "execution": {
     "iopub.execute_input": "2023-09-05T23:39:24.055552Z",
     "iopub.status.busy": "2023-09-05T23:39:24.055057Z",
     "iopub.status.idle": "2023-09-05T23:39:24.062993Z",
     "shell.execute_reply": "2023-09-05T23:39:24.062365Z"
    },
    "papermill": {
     "duration": 0.013029,
     "end_time": "2023-09-05T23:39:24.064751",
     "exception": false,
     "start_time": "2023-09-05T23:39:24.051722",
     "status": "completed"
    },
    "tags": []
   },
   "outputs": [],
   "source": [
    "pd.DataFrame({\n",
    "  'orders': tickets.groupby('ward_code').number_of_tickets.count(),\n",
    "  'tickets': tickets.groupby('ward_code').number_of_tickets.sum().astype(int),\n",
    "}).to_csv(os.path.join(OUTPUT_DIR, 'tickets_by_ward.csv'))"
   ]
  },
  {
   "cell_type": "code",
   "execution_count": 9,
   "id": "891e9420",
   "metadata": {
    "execution": {
     "iopub.execute_input": "2023-09-05T23:39:24.071115Z",
     "iopub.status.busy": "2023-09-05T23:39:24.070490Z",
     "iopub.status.idle": "2023-09-05T23:39:24.079910Z",
     "shell.execute_reply": "2023-09-05T23:39:24.079280Z"
    },
    "papermill": {
     "duration": 0.014456,
     "end_time": "2023-09-05T23:39:24.081518",
     "exception": false,
     "start_time": "2023-09-05T23:39:24.067062",
     "status": "completed"
    },
    "tags": []
   },
   "outputs": [],
   "source": [
    "pd.DataFrame({\n",
    "  'orders': tickets.groupby('event_date').number_of_tickets.count(),\n",
    "  'tickets': tickets.groupby('event_date').number_of_tickets.sum().astype(int),\n",
    "}).resample('M').sum().to_csv(os.path.join(OUTPUT_DIR, 'tickets_by_event_date.csv'))"
   ]
  },
  {
   "cell_type": "code",
   "execution_count": 10,
   "id": "91edf124",
   "metadata": {
    "execution": {
     "iopub.execute_input": "2023-09-05T23:39:24.089050Z",
     "iopub.status.busy": "2023-09-05T23:39:24.088252Z",
     "iopub.status.idle": "2023-09-05T23:39:24.094055Z",
     "shell.execute_reply": "2023-09-05T23:39:24.093452Z"
    },
    "papermill": {
     "duration": 0.011731,
     "end_time": "2023-09-05T23:39:24.095675",
     "exception": false,
     "start_time": "2023-09-05T23:39:24.083944",
     "status": "completed"
    },
    "tags": []
   },
   "outputs": [],
   "source": [
    "pd.Series({\n",
    "    'total_events': events.event_unique_identifier.count(),\n",
    "    'total_attendances': events.attendances.count(),\n",
    "    'first_event': events.date.min(),\n",
    "    'latest_event': events.date.max(),\n",
    "    'total_ticket_orders_for_events_to_date': tickets.number_of_tickets.count(),\n",
    "    'total_tickets_sold_for_events_to_date': tickets.number_of_tickets.sum(),\n",
    "}).to_json(os.path.join(OUTPUT_DIR, 'headlines.json'), indent=2)"
   ]
  },
  {
   "cell_type": "code",
   "execution_count": null,
   "id": "ce1b7183",
   "metadata": {
    "papermill": {
     "duration": 0.002289,
     "end_time": "2023-09-05T23:39:24.100321",
     "exception": false,
     "start_time": "2023-09-05T23:39:24.098032",
     "status": "completed"
    },
    "tags": []
   },
   "outputs": [],
   "source": []
  }
 ],
 "metadata": {
  "kernelspec": {
   "display_name": "leeds-2023-YZF5GfJv",
   "language": "python",
   "name": "python3"
  },
  "language_info": {
   "codemirror_mode": {
    "name": "ipython",
    "version": 3
   },
   "file_extension": ".py",
   "mimetype": "text/x-python",
   "name": "python",
   "nbconvert_exporter": "python",
   "pygments_lexer": "ipython3",
   "version": "3.10.12"
  },
  "papermill": {
   "default_parameters": {},
   "duration": 12.123546,
   "end_time": "2023-09-05T23:39:24.520644",
   "environment_variables": {},
   "exception": null,
   "input_path": "prepare.ipynb",
   "output_path": "../../../../working/output/signature-prepare.ipynb",
   "parameters": {},
   "start_time": "2023-09-05T23:39:12.397098",
   "version": "2.4.0"
  }
 },
 "nbformat": 4,
 "nbformat_minor": 5
}