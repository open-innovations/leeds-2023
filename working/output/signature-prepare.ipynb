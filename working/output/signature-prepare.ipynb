{
 "cells": [
  {
   "cell_type": "code",
   "execution_count": 1,
   "id": "e8df9e9c",
   "metadata": {
    "execution": {
     "iopub.execute_input": "2023-12-13T23:40:48.051264Z",
     "iopub.status.busy": "2023-12-13T23:40:48.051065Z",
     "iopub.status.idle": "2023-12-13T23:40:55.263862Z",
     "shell.execute_reply": "2023-12-13T23:40:55.263169Z"
    },
    "papermill": {
     "duration": 7.217675,
     "end_time": "2023-12-13T23:40:55.265626",
     "exception": false,
     "start_time": "2023-12-13T23:40:48.047951",
     "status": "completed"
    },
    "tags": []
   },
   "outputs": [],
   "source": [
    "import os\n",
    "import pandas as pd\n",
    "from events import load_event_data, get_first_ward, normalise_ward"
   ]
  },
  {
   "cell_type": "code",
   "execution_count": 2,
   "id": "98025783",
   "metadata": {
    "execution": {
     "iopub.execute_input": "2023-12-13T23:40:55.270696Z",
     "iopub.status.busy": "2023-12-13T23:40:55.270473Z",
     "iopub.status.idle": "2023-12-13T23:40:55.274103Z",
     "shell.execute_reply": "2023-12-13T23:40:55.273463Z"
    },
    "papermill": {
     "duration": 0.007505,
     "end_time": "2023-12-13T23:40:55.275324",
     "exception": false,
     "start_time": "2023-12-13T23:40:55.267819",
     "status": "completed"
    },
    "tags": []
   },
   "outputs": [],
   "source": [
    "latest_date = pd.Timestamp.today().ceil('D')"
   ]
  },
  {
   "cell_type": "code",
   "execution_count": 3,
   "id": "c21e85c0",
   "metadata": {
    "execution": {
     "iopub.execute_input": "2023-12-13T23:40:55.280082Z",
     "iopub.status.busy": "2023-12-13T23:40:55.279605Z",
     "iopub.status.idle": "2023-12-13T23:40:55.294521Z",
     "shell.execute_reply": "2023-12-13T23:40:55.293885Z"
    },
    "papermill": {
     "duration": 0.018715,
     "end_time": "2023-12-13T23:40:55.295883",
     "exception": false,
     "start_time": "2023-12-13T23:40:55.277168",
     "status": "completed"
    },
    "tags": []
   },
   "outputs": [],
   "source": [
    "tickets = pd.read_csv('../../../../data/metrics/events/tickets/orders.csv', parse_dates=['created_at', 'event_date'])\n",
    "tickets = tickets[tickets.event_date <= latest_date]"
   ]
  },
  {
   "cell_type": "code",
   "execution_count": 4,
   "id": "3e332588",
   "metadata": {
    "execution": {
     "iopub.execute_input": "2023-12-13T23:40:55.300835Z",
     "iopub.status.busy": "2023-12-13T23:40:55.300309Z",
     "iopub.status.idle": "2023-12-13T23:40:55.351256Z",
     "shell.execute_reply": "2023-12-13T23:40:55.350747Z"
    },
    "papermill": {
     "duration": 0.0548,
     "end_time": "2023-12-13T23:40:55.352579",
     "exception": false,
     "start_time": "2023-12-13T23:40:55.297779",
     "status": "completed"
    },
    "tags": []
   },
   "outputs": [],
   "source": [
    "events = load_event_data()\n",
    "\n",
    "events = pd.concat([\n",
    "  events,\n",
    "  events.pipe(get_first_ward).pipe(normalise_ward).fillna('UNKNOWN'),\n",
    "  pd.Series(\n",
    "      events.actual_audience_size_number_of_participants_in_person + events.actual_audience_size_number_of_participants_online,\n",
    "      name='attendances'\n",
    "  )\n",
    "], axis=1).rename(columns={\n",
    "    'start_date': 'date'\n",
    "}).loc[:, ['ward_code', 'date', 'event_unique_identifier', 'attendances']]"
   ]
  },
  {
   "cell_type": "code",
   "execution_count": 5,
   "id": "7eefa9b3",
   "metadata": {
    "execution": {
     "iopub.execute_input": "2023-12-13T23:40:55.357291Z",
     "iopub.status.busy": "2023-12-13T23:40:55.357065Z",
     "iopub.status.idle": "2023-12-13T23:40:55.360212Z",
     "shell.execute_reply": "2023-12-13T23:40:55.359662Z"
    },
    "papermill": {
     "duration": 0.006955,
     "end_time": "2023-12-13T23:40:55.361480",
     "exception": false,
     "start_time": "2023-12-13T23:40:55.354525",
     "status": "completed"
    },
    "tags": []
   },
   "outputs": [],
   "source": [
    "OUTPUT_DIR='../../../../docs/metrics/events/signature/_data/'\n",
    "os.makedirs(OUTPUT_DIR, exist_ok=True)"
   ]
  },
  {
   "cell_type": "markdown",
   "id": "1af5a19d",
   "metadata": {
    "papermill": {
     "duration": 0.001917,
     "end_time": "2023-12-13T23:40:55.365339",
     "exception": false,
     "start_time": "2023-12-13T23:40:55.363422",
     "status": "completed"
    },
    "tags": []
   },
   "source": [
    "Events CSVs"
   ]
  },
  {
   "cell_type": "code",
   "execution_count": 6,
   "id": "b6b62e7b",
   "metadata": {
    "execution": {
     "iopub.execute_input": "2023-12-13T23:40:55.370077Z",
     "iopub.status.busy": "2023-12-13T23:40:55.369665Z",
     "iopub.status.idle": "2023-12-13T23:40:55.375296Z",
     "shell.execute_reply": "2023-12-13T23:40:55.374803Z"
    },
    "papermill": {
     "duration": 0.009315,
     "end_time": "2023-12-13T23:40:55.376485",
     "exception": false,
     "start_time": "2023-12-13T23:40:55.367170",
     "status": "completed"
    },
    "tags": []
   },
   "outputs": [],
   "source": [
    "pd.DataFrame({\n",
    "  'events': events.groupby('ward_code').event_unique_identifier.count(),\n",
    "  'attendances': events.groupby('ward_code').attendances.sum().astype(int),\n",
    "}).to_csv(os.path.join(OUTPUT_DIR, 'events_by_ward.csv'))\n"
   ]
  },
  {
   "cell_type": "code",
   "execution_count": 7,
   "id": "d4fb7eb6",
   "metadata": {
    "execution": {
     "iopub.execute_input": "2023-12-13T23:40:55.381735Z",
     "iopub.status.busy": "2023-12-13T23:40:55.381208Z",
     "iopub.status.idle": "2023-12-13T23:40:55.389100Z",
     "shell.execute_reply": "2023-12-13T23:40:55.388465Z"
    },
    "papermill": {
     "duration": 0.011918,
     "end_time": "2023-12-13T23:40:55.390453",
     "exception": false,
     "start_time": "2023-12-13T23:40:55.378535",
     "status": "completed"
    },
    "tags": []
   },
   "outputs": [],
   "source": [
    "pd.DataFrame({\n",
    "  'events': events.groupby('date').event_unique_identifier.count(),\n",
    "  'attendances': events.groupby('date').attendances.sum().astype(int),\n",
    "}).resample('M').sum().astype(int).to_csv(os.path.join(OUTPUT_DIR, 'events_by_date.csv'))"
   ]
  },
  {
   "cell_type": "markdown",
   "id": "c9b8d90c",
   "metadata": {
    "papermill": {
     "duration": 0.002768,
     "end_time": "2023-12-13T23:40:55.395160",
     "exception": false,
     "start_time": "2023-12-13T23:40:55.392392",
     "status": "completed"
    },
    "tags": []
   },
   "source": [
    "Tickets CSV"
   ]
  },
  {
   "cell_type": "code",
   "execution_count": 8,
   "id": "f2c92675",
   "metadata": {
    "execution": {
     "iopub.execute_input": "2023-12-13T23:40:55.400136Z",
     "iopub.status.busy": "2023-12-13T23:40:55.399652Z",
     "iopub.status.idle": "2023-12-13T23:40:55.405679Z",
     "shell.execute_reply": "2023-12-13T23:40:55.405058Z"
    },
    "papermill": {
     "duration": 0.009922,
     "end_time": "2023-12-13T23:40:55.407046",
     "exception": false,
     "start_time": "2023-12-13T23:40:55.397124",
     "status": "completed"
    },
    "tags": []
   },
   "outputs": [],
   "source": [
    "pd.DataFrame({\n",
    "  'orders': tickets.groupby('ward_code').number_of_tickets.count(),\n",
    "  'tickets': tickets.groupby('ward_code').number_of_tickets.sum().astype(int),\n",
    "}).to_csv(os.path.join(OUTPUT_DIR, 'tickets_by_ward.csv'))"
   ]
  },
  {
   "cell_type": "code",
   "execution_count": 9,
   "id": "e68c7a64",
   "metadata": {
    "execution": {
     "iopub.execute_input": "2023-12-13T23:40:55.412065Z",
     "iopub.status.busy": "2023-12-13T23:40:55.411614Z",
     "iopub.status.idle": "2023-12-13T23:40:55.418228Z",
     "shell.execute_reply": "2023-12-13T23:40:55.417707Z"
    },
    "papermill": {
     "duration": 0.01041,
     "end_time": "2023-12-13T23:40:55.419449",
     "exception": false,
     "start_time": "2023-12-13T23:40:55.409039",
     "status": "completed"
    },
    "tags": []
   },
   "outputs": [],
   "source": [
    "pd.DataFrame({\n",
    "  'orders': tickets.groupby('event_date').number_of_tickets.count(),\n",
    "  'tickets': tickets.groupby('event_date').number_of_tickets.sum().astype(int),\n",
    "}).resample('M').sum().to_csv(os.path.join(OUTPUT_DIR, 'tickets_by_event_date.csv'))"
   ]
  },
  {
   "cell_type": "code",
   "execution_count": 10,
   "id": "c5c24bbe",
   "metadata": {
    "execution": {
     "iopub.execute_input": "2023-12-13T23:40:55.424445Z",
     "iopub.status.busy": "2023-12-13T23:40:55.424096Z",
     "iopub.status.idle": "2023-12-13T23:40:55.428677Z",
     "shell.execute_reply": "2023-12-13T23:40:55.428151Z"
    },
    "papermill": {
     "duration": 0.008436,
     "end_time": "2023-12-13T23:40:55.429905",
     "exception": false,
     "start_time": "2023-12-13T23:40:55.421469",
     "status": "completed"
    },
    "tags": []
   },
   "outputs": [],
   "source": [
    "pd.Series({\n",
    "    'total_events': events.event_unique_identifier.count(),\n",
    "    'total_attendances': events.attendances.count(),\n",
    "    'first_event': events.date.min(),\n",
    "    'latest_event': events.date.max(),\n",
    "    'total_ticket_orders_for_events_to_date': tickets.number_of_tickets.count(),\n",
    "    'total_tickets_sold_for_events_to_date': tickets.number_of_tickets.sum(),\n",
    "}).to_json(os.path.join(OUTPUT_DIR, 'headlines.json'), indent=2)"
   ]
  },
  {
   "cell_type": "code",
   "execution_count": null,
   "id": "af91d7e6",
   "metadata": {
    "papermill": {
     "duration": 0.002022,
     "end_time": "2023-12-13T23:40:55.433933",
     "exception": false,
     "start_time": "2023-12-13T23:40:55.431911",
     "status": "completed"
    },
    "tags": []
   },
   "outputs": [],
   "source": []
  }
 ],
 "metadata": {
  "kernelspec": {
   "display_name": "leeds-2023-YZF5GfJv",
   "language": "python",
   "name": "python3"
  },
  "language_info": {
   "codemirror_mode": {
    "name": "ipython",
    "version": 3
   },
   "file_extension": ".py",
   "mimetype": "text/x-python",
   "name": "python",
   "nbconvert_exporter": "python",
   "pygments_lexer": "ipython3",
   "version": "3.10.13"
  },
  "papermill": {
   "default_parameters": {},
   "duration": 8.851141,
   "end_time": "2023-12-13T23:40:55.652278",
   "environment_variables": {},
   "exception": null,
   "input_path": "prepare.ipynb",
   "output_path": "../../../../working/output/signature-prepare.ipynb",
   "parameters": {},
   "start_time": "2023-12-13T23:40:46.801137",
   "version": "2.4.0"
  }
 },
 "nbformat": 4,
 "nbformat_minor": 5
}