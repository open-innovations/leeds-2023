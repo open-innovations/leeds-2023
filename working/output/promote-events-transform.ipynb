{
 "cells": [
  {
   "cell_type": "code",
   "execution_count": 1,
   "id": "105983f4",
   "metadata": {
    "execution": {
     "iopub.execute_input": "2023-10-23T23:38:10.949030Z",
     "iopub.status.busy": "2023-10-23T23:38:10.948129Z",
     "iopub.status.idle": "2023-10-23T23:38:11.264531Z",
     "shell.execute_reply": "2023-10-23T23:38:11.263528Z"
    },
    "papermill": {
     "duration": 0.323039,
     "end_time": "2023-10-23T23:38:11.266848",
     "exception": false,
     "start_time": "2023-10-23T23:38:10.943809",
     "status": "completed"
    },
    "tags": []
   },
   "outputs": [],
   "source": [
    "import os\n",
    "import pandas as pd"
   ]
  },
  {
   "cell_type": "code",
   "execution_count": 2,
   "id": "779263ab",
   "metadata": {
    "execution": {
     "iopub.execute_input": "2023-10-23T23:38:11.271700Z",
     "iopub.status.busy": "2023-10-23T23:38:11.271377Z",
     "iopub.status.idle": "2023-10-23T23:38:11.277767Z",
     "shell.execute_reply": "2023-10-23T23:38:11.276287Z"
    },
    "papermill": {
     "duration": 0.010741,
     "end_time": "2023-10-23T23:38:11.279538",
     "exception": false,
     "start_time": "2023-10-23T23:38:11.268797",
     "status": "completed"
    },
    "tags": []
   },
   "outputs": [],
   "source": [
    "EVENTS_RAW_DATA = '../../../working/metrics/promote-events/events.csv'\n",
    "DATA_DIR = '../../../data/metrics/events/promote-events/'\n",
    "EVENTS_DATA = os.path.join(DATA_DIR, 'events.csv')"
   ]
  },
  {
   "cell_type": "code",
   "execution_count": 3,
   "id": "54b2db4b",
   "metadata": {
    "execution": {
     "iopub.execute_input": "2023-10-23T23:38:11.283993Z",
     "iopub.status.busy": "2023-10-23T23:38:11.283416Z",
     "iopub.status.idle": "2023-10-23T23:38:11.288705Z",
     "shell.execute_reply": "2023-10-23T23:38:11.287834Z"
    },
    "papermill": {
     "duration": 0.009596,
     "end_time": "2023-10-23T23:38:11.290627",
     "exception": false,
     "start_time": "2023-10-23T23:38:11.281031",
     "status": "completed"
    },
    "tags": []
   },
   "outputs": [],
   "source": [
    "columns = {\n",
    "    'id': 'id',\n",
    "    'name': 'name',\n",
    "    'locationName': 'location',\n",
    "    'cardPrice': 'card_price',\n",
    "    'timeslots': 'time',\n",
    "    # 'displayOnWebsite': 'display',\n",
    "    'Stage': 'stage',\n",
    "}"
   ]
  },
  {
   "cell_type": "code",
   "execution_count": 4,
   "id": "921def79",
   "metadata": {
    "execution": {
     "iopub.execute_input": "2023-10-23T23:38:11.294921Z",
     "iopub.status.busy": "2023-10-23T23:38:11.294498Z",
     "iopub.status.idle": "2023-10-23T23:38:11.306745Z",
     "shell.execute_reply": "2023-10-23T23:38:11.305734Z"
    },
    "papermill": {
     "duration": 0.016609,
     "end_time": "2023-10-23T23:38:11.308659",
     "exception": false,
     "start_time": "2023-10-23T23:38:11.292050",
     "status": "completed"
    },
    "tags": []
   },
   "outputs": [],
   "source": [
    "data = pd.read_csv(EVENTS_RAW_DATA)[columns.keys()].rename(columns=columns)\n",
    "data.time = pd.to_datetime(data.time, errors='coerce')"
   ]
  },
  {
   "cell_type": "code",
   "execution_count": 5,
   "id": "a76592a4",
   "metadata": {
    "execution": {
     "iopub.execute_input": "2023-10-23T23:38:11.313329Z",
     "iopub.status.busy": "2023-10-23T23:38:11.313065Z",
     "iopub.status.idle": "2023-10-23T23:38:11.320031Z",
     "shell.execute_reply": "2023-10-23T23:38:11.319074Z"
    },
    "papermill": {
     "duration": 0.011724,
     "end_time": "2023-10-23T23:38:11.321871",
     "exception": false,
     "start_time": "2023-10-23T23:38:11.310147",
     "status": "completed"
    },
    "tags": []
   },
   "outputs": [],
   "source": [
    "data.to_csv(os.path.join(DATA_DIR, 'events.csv'), index=False)"
   ]
  }
 ],
 "metadata": {
  "kernelspec": {
   "display_name": "leeds-2023-YZF5GfJv",
   "language": "python",
   "name": "python3"
  },
  "language_info": {
   "codemirror_mode": {
    "name": "ipython",
    "version": 3
   },
   "file_extension": ".py",
   "mimetype": "text/x-python",
   "name": "python",
   "nbconvert_exporter": "python",
   "pygments_lexer": "ipython3",
   "version": "3.10.13"
  },
  "papermill": {
   "default_parameters": {},
   "duration": 2.190219,
   "end_time": "2023-10-23T23:38:11.542069",
   "environment_variables": {},
   "exception": null,
   "input_path": "transform.ipynb",
   "output_path": "../../../working/output/promote-events-transform.ipynb",
   "parameters": {},
   "start_time": "2023-10-23T23:38:09.351850",
   "version": "2.4.0"
  }
 },
 "nbformat": 4,
 "nbformat_minor": 5
}