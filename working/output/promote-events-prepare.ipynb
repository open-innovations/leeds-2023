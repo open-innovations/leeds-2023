{
 "cells": [
  {
   "cell_type": "code",
   "execution_count": 1,
   "id": "66b31273",
   "metadata": {
    "execution": {
     "iopub.execute_input": "2023-07-31T23:39:52.011560Z",
     "iopub.status.busy": "2023-07-31T23:39:52.010355Z",
     "iopub.status.idle": "2023-07-31T23:39:52.276701Z",
     "shell.execute_reply": "2023-07-31T23:39:52.275345Z"
    },
    "papermill": {
     "duration": 0.275317,
     "end_time": "2023-07-31T23:39:52.279274",
     "exception": false,
     "start_time": "2023-07-31T23:39:52.003957",
     "status": "completed"
    },
    "tags": []
   },
   "outputs": [],
   "source": [
    "import os\n",
    "import pandas as pd"
   ]
  },
  {
   "cell_type": "code",
   "execution_count": 2,
   "id": "1153c3f1",
   "metadata": {
    "execution": {
     "iopub.execute_input": "2023-07-31T23:39:52.284687Z",
     "iopub.status.busy": "2023-07-31T23:39:52.283833Z",
     "iopub.status.idle": "2023-07-31T23:39:52.287804Z",
     "shell.execute_reply": "2023-07-31T23:39:52.287208Z"
    },
    "papermill": {
     "duration": 0.008539,
     "end_time": "2023-07-31T23:39:52.289503",
     "exception": false,
     "start_time": "2023-07-31T23:39:52.280964",
     "status": "completed"
    },
    "tags": []
   },
   "outputs": [],
   "source": [
    "DATA_DIR='../../../docs/metrics/events/promote/_data/'\n",
    "os.makedirs(DATA_DIR, exist_ok=True)"
   ]
  },
  {
   "cell_type": "code",
   "execution_count": 3,
   "id": "e4e9b7bd",
   "metadata": {
    "execution": {
     "iopub.execute_input": "2023-07-31T23:39:52.294738Z",
     "iopub.status.busy": "2023-07-31T23:39:52.294076Z",
     "iopub.status.idle": "2023-07-31T23:39:52.305594Z",
     "shell.execute_reply": "2023-07-31T23:39:52.304775Z"
    },
    "papermill": {
     "duration": 0.016327,
     "end_time": "2023-07-31T23:39:52.307305",
     "exception": false,
     "start_time": "2023-07-31T23:39:52.290978",
     "status": "completed"
    },
    "tags": []
   },
   "outputs": [],
   "source": [
    "data = pd.read_csv('../../../data/metrics/events/promote-events/events.csv', parse_dates=['time'])"
   ]
  },
  {
   "cell_type": "code",
   "execution_count": 4,
   "id": "83368063",
   "metadata": {
    "execution": {
     "iopub.execute_input": "2023-07-31T23:39:52.312231Z",
     "iopub.status.busy": "2023-07-31T23:39:52.311686Z",
     "iopub.status.idle": "2023-07-31T23:39:52.317692Z",
     "shell.execute_reply": "2023-07-31T23:39:52.316935Z"
    },
    "papermill": {
     "duration": 0.010287,
     "end_time": "2023-07-31T23:39:52.319414",
     "exception": false,
     "start_time": "2023-07-31T23:39:52.309127",
     "status": "completed"
    },
    "tags": []
   },
   "outputs": [],
   "source": [
    "pd.Series({\n",
    "    'total_events': len(data.id.unique()),\n",
    "    'total_event_instances': len(data.time),\n",
    "    'earliest_event': data.time.min(),\n",
    "    'latest_event': data.time.max(),\n",
    "}).to_json(\n",
    "    os.path.join(DATA_DIR, 'headlines.json'),\n",
    "    date_format='iso', indent=2\n",
    ")"
   ]
  },
  {
   "cell_type": "code",
   "execution_count": 5,
   "id": "c8de1f8d",
   "metadata": {
    "execution": {
     "iopub.execute_input": "2023-07-31T23:39:52.324548Z",
     "iopub.status.busy": "2023-07-31T23:39:52.323841Z",
     "iopub.status.idle": "2023-07-31T23:39:52.333237Z",
     "shell.execute_reply": "2023-07-31T23:39:52.332579Z"
    },
    "papermill": {
     "duration": 0.014084,
     "end_time": "2023-07-31T23:39:52.334875",
     "exception": false,
     "start_time": "2023-07-31T23:39:52.320791",
     "status": "completed"
    },
    "tags": []
   },
   "outputs": [],
   "source": [
    "events = pd.DataFrame({\n",
    "    'events': data.groupby('id').agg({ 'time': 'min' }).reset_index().groupby('time').id.count(),\n",
    "    'event_instances': data.groupby('time').id.count(),\n",
    "}).fillna(0).astype(int)"
   ]
  },
  {
   "cell_type": "code",
   "execution_count": 6,
   "id": "6a29a13f",
   "metadata": {
    "execution": {
     "iopub.execute_input": "2023-07-31T23:39:52.340205Z",
     "iopub.status.busy": "2023-07-31T23:39:52.339645Z",
     "iopub.status.idle": "2023-07-31T23:39:52.343481Z",
     "shell.execute_reply": "2023-07-31T23:39:52.342854Z"
    },
    "papermill": {
     "duration": 0.008411,
     "end_time": "2023-07-31T23:39:52.345221",
     "exception": false,
     "start_time": "2023-07-31T23:39:52.336810",
     "status": "completed"
    },
    "tags": []
   },
   "outputs": [],
   "source": [
    "def cumulate(data):\n",
    "    return pd.concat([\n",
    "        data,\n",
    "        data.cumsum().rename(columns=lambda c: f'cumulative_{c}')\n",
    "    ], axis=1)"
   ]
  },
  {
   "cell_type": "code",
   "execution_count": 7,
   "id": "1717c12e",
   "metadata": {
    "execution": {
     "iopub.execute_input": "2023-07-31T23:39:52.350564Z",
     "iopub.status.busy": "2023-07-31T23:39:52.350031Z",
     "iopub.status.idle": "2023-07-31T23:39:52.361628Z",
     "shell.execute_reply": "2023-07-31T23:39:52.360456Z"
    },
    "papermill": {
     "duration": 0.016312,
     "end_time": "2023-07-31T23:39:52.363630",
     "exception": false,
     "start_time": "2023-07-31T23:39:52.347318",
     "status": "completed"
    },
    "tags": []
   },
   "outputs": [],
   "source": [
    "events.resample('W-FRI').sum().pipe(cumulate).to_csv(os.path.join(DATA_DIR, 'by_week.csv'))"
   ]
  },
  {
   "cell_type": "code",
   "execution_count": 8,
   "id": "bb1de95b",
   "metadata": {
    "execution": {
     "iopub.execute_input": "2023-07-31T23:39:52.369826Z",
     "iopub.status.busy": "2023-07-31T23:39:52.369369Z",
     "iopub.status.idle": "2023-07-31T23:39:52.376733Z",
     "shell.execute_reply": "2023-07-31T23:39:52.375790Z"
    },
    "papermill": {
     "duration": 0.012577,
     "end_time": "2023-07-31T23:39:52.378819",
     "exception": false,
     "start_time": "2023-07-31T23:39:52.366242",
     "status": "completed"
    },
    "tags": []
   },
   "outputs": [],
   "source": [
    "events.resample('MS').sum().pipe(cumulate).to_csv(os.path.join(DATA_DIR, 'by_month.csv'))"
   ]
  },
  {
   "cell_type": "code",
   "execution_count": null,
   "id": "74017b88",
   "metadata": {
    "papermill": {
     "duration": 0.002002,
     "end_time": "2023-07-31T23:39:52.382796",
     "exception": false,
     "start_time": "2023-07-31T23:39:52.380794",
     "status": "completed"
    },
    "tags": []
   },
   "outputs": [],
   "source": []
  }
 ],
 "metadata": {
  "kernelspec": {
   "display_name": "leeds-2023-YZF5GfJv",
   "language": "python",
   "name": "python3"
  },
  "language_info": {
   "codemirror_mode": {
    "name": "ipython",
    "version": 3
   },
   "file_extension": ".py",
   "mimetype": "text/x-python",
   "name": "python",
   "nbconvert_exporter": "python",
   "pygments_lexer": "ipython3",
   "version": "3.10.6"
  },
  "papermill": {
   "default_parameters": {},
   "duration": 1.973642,
   "end_time": "2023-07-31T23:39:52.603105",
   "environment_variables": {},
   "exception": null,
   "input_path": "prepare.ipynb",
   "output_path": "../../../working/output/promote-events-prepare.ipynb",
   "parameters": {},
   "start_time": "2023-07-31T23:39:50.629463",
   "version": "2.4.0"
  }
 },
 "nbformat": 4,
 "nbformat_minor": 5
}