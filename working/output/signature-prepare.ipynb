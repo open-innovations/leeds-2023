{
 "cells": [
  {
   "cell_type": "code",
   "execution_count": 1,
   "id": "11fb0d92",
   "metadata": {
    "execution": {
     "iopub.execute_input": "2023-09-14T23:39:58.648852Z",
     "iopub.status.busy": "2023-09-14T23:39:58.648164Z",
     "iopub.status.idle": "2023-09-14T23:40:08.313569Z",
     "shell.execute_reply": "2023-09-14T23:40:08.312903Z"
    },
    "papermill": {
     "duration": 9.671383,
     "end_time": "2023-09-14T23:40:08.315353",
     "exception": false,
     "start_time": "2023-09-14T23:39:58.643970",
     "status": "completed"
    },
    "tags": []
   },
   "outputs": [],
   "source": [
    "import os\n",
    "import pandas as pd\n",
    "from events import load_event_data, get_first_ward, normalise_ward"
   ]
  },
  {
   "cell_type": "code",
   "execution_count": 2,
   "id": "2a649656",
   "metadata": {
    "execution": {
     "iopub.execute_input": "2023-09-14T23:40:08.321750Z",
     "iopub.status.busy": "2023-09-14T23:40:08.321287Z",
     "iopub.status.idle": "2023-09-14T23:40:08.324954Z",
     "shell.execute_reply": "2023-09-14T23:40:08.324309Z"
    },
    "papermill": {
     "duration": 0.008542,
     "end_time": "2023-09-14T23:40:08.326483",
     "exception": false,
     "start_time": "2023-09-14T23:40:08.317941",
     "status": "completed"
    },
    "tags": []
   },
   "outputs": [],
   "source": [
    "latest_date = pd.Timestamp.today().ceil('D')"
   ]
  },
  {
   "cell_type": "code",
   "execution_count": 3,
   "id": "3ffe49a9",
   "metadata": {
    "execution": {
     "iopub.execute_input": "2023-09-14T23:40:08.332108Z",
     "iopub.status.busy": "2023-09-14T23:40:08.331690Z",
     "iopub.status.idle": "2023-09-14T23:40:08.348600Z",
     "shell.execute_reply": "2023-09-14T23:40:08.348012Z"
    },
    "papermill": {
     "duration": 0.021409,
     "end_time": "2023-09-14T23:40:08.350135",
     "exception": false,
     "start_time": "2023-09-14T23:40:08.328726",
     "status": "completed"
    },
    "tags": []
   },
   "outputs": [],
   "source": [
    "tickets = pd.read_csv('../../../../data/metrics/events/tickets/orders.csv', parse_dates=['created_at', 'event_date'])\n",
    "tickets = tickets[tickets.event_date <= latest_date]"
   ]
  },
  {
   "cell_type": "code",
   "execution_count": 4,
   "id": "c4ad2451",
   "metadata": {
    "execution": {
     "iopub.execute_input": "2023-09-14T23:40:08.355885Z",
     "iopub.status.busy": "2023-09-14T23:40:08.355466Z",
     "iopub.status.idle": "2023-09-14T23:40:08.577768Z",
     "shell.execute_reply": "2023-09-14T23:40:08.577115Z"
    },
    "papermill": {
     "duration": 0.227209,
     "end_time": "2023-09-14T23:40:08.579664",
     "exception": false,
     "start_time": "2023-09-14T23:40:08.352455",
     "status": "completed"
    },
    "tags": []
   },
   "outputs": [],
   "source": [
    "events = load_event_data()\n",
    "\n",
    "events = pd.concat([\n",
    "  events,\n",
    "  events.pipe(get_first_ward).pipe(normalise_ward).fillna('UNKNOWN'),\n",
    "  pd.Series(\n",
    "      events.actual_audience_size_number_of_participants_in_person + events.actual_audience_size_number_of_participants_online,\n",
    "      name='attendances'\n",
    "  )\n",
    "], axis=1).rename(columns={\n",
    "    'start_date': 'date'\n",
    "}).loc[:, ['ward_code', 'date', 'event_unique_identifier', 'attendances']]"
   ]
  },
  {
   "cell_type": "code",
   "execution_count": 5,
   "id": "9fc92a19",
   "metadata": {
    "execution": {
     "iopub.execute_input": "2023-09-14T23:40:08.586230Z",
     "iopub.status.busy": "2023-09-14T23:40:08.585768Z",
     "iopub.status.idle": "2023-09-14T23:40:08.589285Z",
     "shell.execute_reply": "2023-09-14T23:40:08.588639Z"
    },
    "papermill": {
     "duration": 0.008515,
     "end_time": "2023-09-14T23:40:08.590782",
     "exception": false,
     "start_time": "2023-09-14T23:40:08.582267",
     "status": "completed"
    },
    "tags": []
   },
   "outputs": [],
   "source": [
    "OUTPUT_DIR='../../../../docs/metrics/events/signature/_data/'\n",
    "os.makedirs(OUTPUT_DIR, exist_ok=True)"
   ]
  },
  {
   "cell_type": "markdown",
   "id": "0312408a",
   "metadata": {
    "papermill": {
     "duration": 0.002396,
     "end_time": "2023-09-14T23:40:08.595517",
     "exception": false,
     "start_time": "2023-09-14T23:40:08.593121",
     "status": "completed"
    },
    "tags": []
   },
   "source": [
    "Events CSVs"
   ]
  },
  {
   "cell_type": "code",
   "execution_count": 6,
   "id": "45e7f0cb",
   "metadata": {
    "execution": {
     "iopub.execute_input": "2023-09-14T23:40:08.601140Z",
     "iopub.status.busy": "2023-09-14T23:40:08.600924Z",
     "iopub.status.idle": "2023-09-14T23:40:08.607837Z",
     "shell.execute_reply": "2023-09-14T23:40:08.607244Z"
    },
    "papermill": {
     "duration": 0.011649,
     "end_time": "2023-09-14T23:40:08.609467",
     "exception": false,
     "start_time": "2023-09-14T23:40:08.597818",
     "status": "completed"
    },
    "tags": []
   },
   "outputs": [],
   "source": [
    "pd.DataFrame({\n",
    "  'events': events.groupby('ward_code').event_unique_identifier.count(),\n",
    "  'attendances': events.groupby('ward_code').attendances.sum().astype(int),\n",
    "}).to_csv(os.path.join(OUTPUT_DIR, 'events_by_ward.csv'))\n"
   ]
  },
  {
   "cell_type": "code",
   "execution_count": 7,
   "id": "5c5d0672",
   "metadata": {
    "execution": {
     "iopub.execute_input": "2023-09-14T23:40:08.615200Z",
     "iopub.status.busy": "2023-09-14T23:40:08.614976Z",
     "iopub.status.idle": "2023-09-14T23:40:08.625247Z",
     "shell.execute_reply": "2023-09-14T23:40:08.624667Z"
    },
    "papermill": {
     "duration": 0.01492,
     "end_time": "2023-09-14T23:40:08.626786",
     "exception": false,
     "start_time": "2023-09-14T23:40:08.611866",
     "status": "completed"
    },
    "tags": []
   },
   "outputs": [],
   "source": [
    "pd.DataFrame({\n",
    "  'events': events.groupby('date').event_unique_identifier.count(),\n",
    "  'attendances': events.groupby('date').attendances.sum().astype(int),\n",
    "}).resample('M').sum().astype(int).to_csv(os.path.join(OUTPUT_DIR, 'events_by_date.csv'))"
   ]
  },
  {
   "cell_type": "markdown",
   "id": "4b2816e6",
   "metadata": {
    "papermill": {
     "duration": 0.002407,
     "end_time": "2023-09-14T23:40:08.631627",
     "exception": false,
     "start_time": "2023-09-14T23:40:08.629220",
     "status": "completed"
    },
    "tags": []
   },
   "source": [
    "Tickets CSV"
   ]
  },
  {
   "cell_type": "code",
   "execution_count": 8,
   "id": "98886bb7",
   "metadata": {
    "execution": {
     "iopub.execute_input": "2023-09-14T23:40:08.637497Z",
     "iopub.status.busy": "2023-09-14T23:40:08.637125Z",
     "iopub.status.idle": "2023-09-14T23:40:08.644118Z",
     "shell.execute_reply": "2023-09-14T23:40:08.643539Z"
    },
    "papermill": {
     "duration": 0.01172,
     "end_time": "2023-09-14T23:40:08.645692",
     "exception": false,
     "start_time": "2023-09-14T23:40:08.633972",
     "status": "completed"
    },
    "tags": []
   },
   "outputs": [],
   "source": [
    "pd.DataFrame({\n",
    "  'orders': tickets.groupby('ward_code').number_of_tickets.count(),\n",
    "  'tickets': tickets.groupby('ward_code').number_of_tickets.sum().astype(int),\n",
    "}).to_csv(os.path.join(OUTPUT_DIR, 'tickets_by_ward.csv'))"
   ]
  },
  {
   "cell_type": "code",
   "execution_count": 9,
   "id": "f7ea6d2f",
   "metadata": {
    "execution": {
     "iopub.execute_input": "2023-09-14T23:40:08.651642Z",
     "iopub.status.busy": "2023-09-14T23:40:08.651428Z",
     "iopub.status.idle": "2023-09-14T23:40:08.659051Z",
     "shell.execute_reply": "2023-09-14T23:40:08.658463Z"
    },
    "papermill": {
     "duration": 0.012378,
     "end_time": "2023-09-14T23:40:08.660559",
     "exception": false,
     "start_time": "2023-09-14T23:40:08.648181",
     "status": "completed"
    },
    "tags": []
   },
   "outputs": [],
   "source": [
    "pd.DataFrame({\n",
    "  'orders': tickets.groupby('event_date').number_of_tickets.count(),\n",
    "  'tickets': tickets.groupby('event_date').number_of_tickets.sum().astype(int),\n",
    "}).resample('M').sum().to_csv(os.path.join(OUTPUT_DIR, 'tickets_by_event_date.csv'))"
   ]
  },
  {
   "cell_type": "code",
   "execution_count": 10,
   "id": "433c5f4c",
   "metadata": {
    "execution": {
     "iopub.execute_input": "2023-09-14T23:40:08.667564Z",
     "iopub.status.busy": "2023-09-14T23:40:08.667043Z",
     "iopub.status.idle": "2023-09-14T23:40:08.672342Z",
     "shell.execute_reply": "2023-09-14T23:40:08.671694Z"
    },
    "papermill": {
     "duration": 0.010723,
     "end_time": "2023-09-14T23:40:08.673772",
     "exception": false,
     "start_time": "2023-09-14T23:40:08.663049",
     "status": "completed"
    },
    "tags": []
   },
   "outputs": [],
   "source": [
    "pd.Series({\n",
    "    'total_events': events.event_unique_identifier.count(),\n",
    "    'total_attendances': events.attendances.count(),\n",
    "    'first_event': events.date.min(),\n",
    "    'latest_event': events.date.max(),\n",
    "    'total_ticket_orders_for_events_to_date': tickets.number_of_tickets.count(),\n",
    "    'total_tickets_sold_for_events_to_date': tickets.number_of_tickets.sum(),\n",
    "}).to_json(os.path.join(OUTPUT_DIR, 'headlines.json'), indent=2)"
   ]
  },
  {
   "cell_type": "code",
   "execution_count": null,
   "id": "acce4784",
   "metadata": {
    "papermill": {
     "duration": 0.002444,
     "end_time": "2023-09-14T23:40:08.678757",
     "exception": false,
     "start_time": "2023-09-14T23:40:08.676313",
     "status": "completed"
    },
    "tags": []
   },
   "outputs": [],
   "source": []
  }
 ],
 "metadata": {
  "kernelspec": {
   "display_name": "leeds-2023-YZF5GfJv",
   "language": "python",
   "name": "python3"
  },
  "language_info": {
   "codemirror_mode": {
    "name": "ipython",
    "version": 3
   },
   "file_extension": ".py",
   "mimetype": "text/x-python",
   "name": "python",
   "nbconvert_exporter": "python",
   "pygments_lexer": "ipython3",
   "version": "3.10.13"
  },
  "papermill": {
   "default_parameters": {},
   "duration": 11.703311,
   "end_time": "2023-09-14T23:40:08.999600",
   "environment_variables": {},
   "exception": null,
   "input_path": "prepare.ipynb",
   "output_path": "../../../../working/output/signature-prepare.ipynb",
   "parameters": {},
   "start_time": "2023-09-14T23:39:57.296289",
   "version": "2.4.0"
  }
 },
 "nbformat": 4,
 "nbformat_minor": 5
}