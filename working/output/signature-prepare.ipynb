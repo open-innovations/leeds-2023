{
 "cells": [
  {
   "cell_type": "code",
   "execution_count": 1,
   "id": "f7cdcfde",
   "metadata": {
    "execution": {
     "iopub.execute_input": "2023-11-19T23:39:47.781325Z",
     "iopub.status.busy": "2023-11-19T23:39:47.781143Z",
     "iopub.status.idle": "2023-11-19T23:39:55.147107Z",
     "shell.execute_reply": "2023-11-19T23:39:55.146457Z"
    },
    "papermill": {
     "duration": 7.370749,
     "end_time": "2023-11-19T23:39:55.148742",
     "exception": false,
     "start_time": "2023-11-19T23:39:47.777993",
     "status": "completed"
    },
    "tags": []
   },
   "outputs": [],
   "source": [
    "import os\n",
    "import pandas as pd\n",
    "from events import load_event_data, get_first_ward, normalise_ward"
   ]
  },
  {
   "cell_type": "code",
   "execution_count": 2,
   "id": "e4dcb5f0",
   "metadata": {
    "execution": {
     "iopub.execute_input": "2023-11-19T23:39:55.154191Z",
     "iopub.status.busy": "2023-11-19T23:39:55.153719Z",
     "iopub.status.idle": "2023-11-19T23:39:55.157107Z",
     "shell.execute_reply": "2023-11-19T23:39:55.156562Z"
    },
    "papermill": {
     "duration": 0.007441,
     "end_time": "2023-11-19T23:39:55.158449",
     "exception": false,
     "start_time": "2023-11-19T23:39:55.151008",
     "status": "completed"
    },
    "tags": []
   },
   "outputs": [],
   "source": [
    "latest_date = pd.Timestamp.today().ceil('D')"
   ]
  },
  {
   "cell_type": "code",
   "execution_count": 3,
   "id": "321577af",
   "metadata": {
    "execution": {
     "iopub.execute_input": "2023-11-19T23:39:55.163226Z",
     "iopub.status.busy": "2023-11-19T23:39:55.162863Z",
     "iopub.status.idle": "2023-11-19T23:39:55.176790Z",
     "shell.execute_reply": "2023-11-19T23:39:55.176306Z"
    },
    "papermill": {
     "duration": 0.017836,
     "end_time": "2023-11-19T23:39:55.178109",
     "exception": false,
     "start_time": "2023-11-19T23:39:55.160273",
     "status": "completed"
    },
    "tags": []
   },
   "outputs": [],
   "source": [
    "tickets = pd.read_csv('../../../../data/metrics/events/tickets/orders.csv', parse_dates=['created_at', 'event_date'])\n",
    "tickets = tickets[tickets.event_date <= latest_date]"
   ]
  },
  {
   "cell_type": "code",
   "execution_count": 4,
   "id": "2a503be1",
   "metadata": {
    "execution": {
     "iopub.execute_input": "2023-11-19T23:39:55.183050Z",
     "iopub.status.busy": "2023-11-19T23:39:55.182578Z",
     "iopub.status.idle": "2023-11-19T23:39:55.221173Z",
     "shell.execute_reply": "2023-11-19T23:39:55.220646Z"
    },
    "papermill": {
     "duration": 0.042544,
     "end_time": "2023-11-19T23:39:55.222606",
     "exception": false,
     "start_time": "2023-11-19T23:39:55.180062",
     "status": "completed"
    },
    "tags": []
   },
   "outputs": [],
   "source": [
    "events = load_event_data()\n",
    "\n",
    "events = pd.concat([\n",
    "  events,\n",
    "  events.pipe(get_first_ward).pipe(normalise_ward).fillna('UNKNOWN'),\n",
    "  pd.Series(\n",
    "      events.actual_audience_size_number_of_participants_in_person + events.actual_audience_size_number_of_participants_online,\n",
    "      name='attendances'\n",
    "  )\n",
    "], axis=1).rename(columns={\n",
    "    'start_date': 'date'\n",
    "}).loc[:, ['ward_code', 'date', 'event_unique_identifier', 'attendances']]"
   ]
  },
  {
   "cell_type": "code",
   "execution_count": 5,
   "id": "65b8dd88",
   "metadata": {
    "execution": {
     "iopub.execute_input": "2023-11-19T23:39:55.227696Z",
     "iopub.status.busy": "2023-11-19T23:39:55.227315Z",
     "iopub.status.idle": "2023-11-19T23:39:55.230366Z",
     "shell.execute_reply": "2023-11-19T23:39:55.229801Z"
    },
    "papermill": {
     "duration": 0.006982,
     "end_time": "2023-11-19T23:39:55.231555",
     "exception": false,
     "start_time": "2023-11-19T23:39:55.224573",
     "status": "completed"
    },
    "tags": []
   },
   "outputs": [],
   "source": [
    "OUTPUT_DIR='../../../../docs/metrics/events/signature/_data/'\n",
    "os.makedirs(OUTPUT_DIR, exist_ok=True)"
   ]
  },
  {
   "cell_type": "markdown",
   "id": "5a787f9b",
   "metadata": {
    "papermill": {
     "duration": 0.001982,
     "end_time": "2023-11-19T23:39:55.235482",
     "exception": false,
     "start_time": "2023-11-19T23:39:55.233500",
     "status": "completed"
    },
    "tags": []
   },
   "source": [
    "Events CSVs"
   ]
  },
  {
   "cell_type": "code",
   "execution_count": 6,
   "id": "a287954c",
   "metadata": {
    "execution": {
     "iopub.execute_input": "2023-11-19T23:39:55.240304Z",
     "iopub.status.busy": "2023-11-19T23:39:55.239969Z",
     "iopub.status.idle": "2023-11-19T23:39:55.246109Z",
     "shell.execute_reply": "2023-11-19T23:39:55.245589Z"
    },
    "papermill": {
     "duration": 0.010048,
     "end_time": "2023-11-19T23:39:55.247412",
     "exception": false,
     "start_time": "2023-11-19T23:39:55.237364",
     "status": "completed"
    },
    "tags": []
   },
   "outputs": [],
   "source": [
    "pd.DataFrame({\n",
    "  'events': events.groupby('ward_code').event_unique_identifier.count(),\n",
    "  'attendances': events.groupby('ward_code').attendances.sum().astype(int),\n",
    "}).to_csv(os.path.join(OUTPUT_DIR, 'events_by_ward.csv'))\n"
   ]
  },
  {
   "cell_type": "code",
   "execution_count": 7,
   "id": "eccd8e22",
   "metadata": {
    "execution": {
     "iopub.execute_input": "2023-11-19T23:39:55.252462Z",
     "iopub.status.busy": "2023-11-19T23:39:55.252006Z",
     "iopub.status.idle": "2023-11-19T23:39:55.259836Z",
     "shell.execute_reply": "2023-11-19T23:39:55.259204Z"
    },
    "papermill": {
     "duration": 0.0119,
     "end_time": "2023-11-19T23:39:55.261242",
     "exception": false,
     "start_time": "2023-11-19T23:39:55.249342",
     "status": "completed"
    },
    "tags": []
   },
   "outputs": [],
   "source": [
    "pd.DataFrame({\n",
    "  'events': events.groupby('date').event_unique_identifier.count(),\n",
    "  'attendances': events.groupby('date').attendances.sum().astype(int),\n",
    "}).resample('M').sum().astype(int).to_csv(os.path.join(OUTPUT_DIR, 'events_by_date.csv'))"
   ]
  },
  {
   "cell_type": "markdown",
   "id": "02104094",
   "metadata": {
    "papermill": {
     "duration": 0.002938,
     "end_time": "2023-11-19T23:39:55.266297",
     "exception": false,
     "start_time": "2023-11-19T23:39:55.263359",
     "status": "completed"
    },
    "tags": []
   },
   "source": [
    "Tickets CSV"
   ]
  },
  {
   "cell_type": "code",
   "execution_count": 8,
   "id": "aff4a8e9",
   "metadata": {
    "execution": {
     "iopub.execute_input": "2023-11-19T23:39:55.271187Z",
     "iopub.status.busy": "2023-11-19T23:39:55.270807Z",
     "iopub.status.idle": "2023-11-19T23:39:55.276573Z",
     "shell.execute_reply": "2023-11-19T23:39:55.276074Z"
    },
    "papermill": {
     "duration": 0.009664,
     "end_time": "2023-11-19T23:39:55.277891",
     "exception": false,
     "start_time": "2023-11-19T23:39:55.268227",
     "status": "completed"
    },
    "tags": []
   },
   "outputs": [],
   "source": [
    "pd.DataFrame({\n",
    "  'orders': tickets.groupby('ward_code').number_of_tickets.count(),\n",
    "  'tickets': tickets.groupby('ward_code').number_of_tickets.sum().astype(int),\n",
    "}).to_csv(os.path.join(OUTPUT_DIR, 'tickets_by_ward.csv'))"
   ]
  },
  {
   "cell_type": "code",
   "execution_count": 9,
   "id": "70d7c5f1",
   "metadata": {
    "execution": {
     "iopub.execute_input": "2023-11-19T23:39:55.282797Z",
     "iopub.status.busy": "2023-11-19T23:39:55.282441Z",
     "iopub.status.idle": "2023-11-19T23:39:55.289131Z",
     "shell.execute_reply": "2023-11-19T23:39:55.288621Z"
    },
    "papermill": {
     "duration": 0.010517,
     "end_time": "2023-11-19T23:39:55.290402",
     "exception": false,
     "start_time": "2023-11-19T23:39:55.279885",
     "status": "completed"
    },
    "tags": []
   },
   "outputs": [],
   "source": [
    "pd.DataFrame({\n",
    "  'orders': tickets.groupby('event_date').number_of_tickets.count(),\n",
    "  'tickets': tickets.groupby('event_date').number_of_tickets.sum().astype(int),\n",
    "}).resample('M').sum().to_csv(os.path.join(OUTPUT_DIR, 'tickets_by_event_date.csv'))"
   ]
  },
  {
   "cell_type": "code",
   "execution_count": 10,
   "id": "7a03f9ff",
   "metadata": {
    "execution": {
     "iopub.execute_input": "2023-11-19T23:39:55.295269Z",
     "iopub.status.busy": "2023-11-19T23:39:55.295082Z",
     "iopub.status.idle": "2023-11-19T23:39:55.299791Z",
     "shell.execute_reply": "2023-11-19T23:39:55.299176Z"
    },
    "papermill": {
     "duration": 0.008877,
     "end_time": "2023-11-19T23:39:55.301268",
     "exception": false,
     "start_time": "2023-11-19T23:39:55.292391",
     "status": "completed"
    },
    "tags": []
   },
   "outputs": [],
   "source": [
    "pd.Series({\n",
    "    'total_events': events.event_unique_identifier.count(),\n",
    "    'total_attendances': events.attendances.count(),\n",
    "    'first_event': events.date.min(),\n",
    "    'latest_event': events.date.max(),\n",
    "    'total_ticket_orders_for_events_to_date': tickets.number_of_tickets.count(),\n",
    "    'total_tickets_sold_for_events_to_date': tickets.number_of_tickets.sum(),\n",
    "}).to_json(os.path.join(OUTPUT_DIR, 'headlines.json'), indent=2)"
   ]
  },
  {
   "cell_type": "code",
   "execution_count": null,
   "id": "f9e5398e",
   "metadata": {
    "papermill": {
     "duration": 0.001934,
     "end_time": "2023-11-19T23:39:55.305279",
     "exception": false,
     "start_time": "2023-11-19T23:39:55.303345",
     "status": "completed"
    },
    "tags": []
   },
   "outputs": [],
   "source": []
  }
 ],
 "metadata": {
  "kernelspec": {
   "display_name": "leeds-2023-YZF5GfJv",
   "language": "python",
   "name": "python3"
  },
  "language_info": {
   "codemirror_mode": {
    "name": "ipython",
    "version": 3
   },
   "file_extension": ".py",
   "mimetype": "text/x-python",
   "name": "python",
   "nbconvert_exporter": "python",
   "pygments_lexer": "ipython3",
   "version": "3.10.13"
  },
  "papermill": {
   "default_parameters": {},
   "duration": 8.986924,
   "end_time": "2023-11-19T23:39:55.523109",
   "environment_variables": {},
   "exception": null,
   "input_path": "prepare.ipynb",
   "output_path": "../../../../working/output/signature-prepare.ipynb",
   "parameters": {},
   "start_time": "2023-11-19T23:39:46.536185",
   "version": "2.4.0"
  }
 },
 "nbformat": 4,
 "nbformat_minor": 5
}