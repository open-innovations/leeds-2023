{
 "cells": [
  {
   "cell_type": "markdown",
   "id": "58bf6183",
   "metadata": {
    "papermill": {
     "duration": 0.0053,
     "end_time": "2023-07-12T17:50:18.284148",
     "exception": false,
     "start_time": "2023-07-12T17:50:18.278848",
     "status": "completed"
    },
    "tags": []
   },
   "source": [
    "# My LEEDS 2023\n",
    "\n",
    "Prepares data for the My LEEDS 2023 page "
   ]
  },
  {
   "cell_type": "code",
   "execution_count": 1,
   "id": "786f34e3",
   "metadata": {
    "execution": {
     "iopub.execute_input": "2023-07-12T17:50:18.288029Z",
     "iopub.status.busy": "2023-07-12T17:50:18.287712Z",
     "iopub.status.idle": "2023-07-12T17:50:18.440547Z",
     "shell.execute_reply": "2023-07-12T17:50:18.440099Z"
    },
    "papermill": {
     "duration": 0.155914,
     "end_time": "2023-07-12T17:50:18.441641",
     "exception": false,
     "start_time": "2023-07-12T17:50:18.285727",
     "status": "completed"
    },
    "tags": []
   },
   "outputs": [],
   "source": [
    "import os\n",
    "import sys\n",
    "import pandas as pd\n",
    "import numpy as np"
   ]
  },
  {
   "cell_type": "code",
   "execution_count": 2,
   "id": "915ce4c6",
   "metadata": {
    "execution": {
     "iopub.execute_input": "2023-07-12T17:50:18.445475Z",
     "iopub.status.busy": "2023-07-12T17:50:18.445248Z",
     "iopub.status.idle": "2023-07-12T17:50:18.455034Z",
     "shell.execute_reply": "2023-07-12T17:50:18.454752Z"
    },
    "papermill": {
     "duration": 0.012545,
     "end_time": "2023-07-12T17:50:18.455825",
     "exception": false,
     "start_time": "2023-07-12T17:50:18.443280",
     "status": "completed"
    },
    "tags": []
   },
   "outputs": [],
   "source": [
    "lib_dir = os.path.abspath('../../../../lib/')\n",
    "if not lib_dir in sys.path: sys.path.append(lib_dir)\n",
    "\n",
    "import util.geo\n",
    "import util.convert"
   ]
  },
  {
   "cell_type": "markdown",
   "id": "67eb6638",
   "metadata": {
    "papermill": {
     "duration": 0.001441,
     "end_time": "2023-07-12T17:50:18.458841",
     "exception": false,
     "start_time": "2023-07-12T17:50:18.457400",
     "status": "completed"
    },
    "tags": []
   },
   "source": [
    "Read in event data and filter by past / current (starting before today) tagged with the appropriate project name and event type"
   ]
  },
  {
   "cell_type": "code",
   "execution_count": 3,
   "id": "0de310e8",
   "metadata": {
    "execution": {
     "iopub.execute_input": "2023-07-12T17:50:18.463022Z",
     "iopub.status.busy": "2023-07-12T17:50:18.462668Z",
     "iopub.status.idle": "2023-07-12T17:50:18.473280Z",
     "shell.execute_reply": "2023-07-12T17:50:18.472944Z"
    },
    "papermill": {
     "duration": 0.013547,
     "end_time": "2023-07-12T17:50:18.473942",
     "exception": false,
     "start_time": "2023-07-12T17:50:18.460395",
     "status": "completed"
    },
    "tags": []
   },
   "outputs": [],
   "source": [
    "data = pd.read_csv('../../../../data/metrics/events/master/all.csv', parse_dates=['start_date'])\n",
    "data = data.loc[\n",
    "    (data.project_type == 'Produce (Signature)') &\n",
    "    (data.project_name == '12 - My LEEDS 2023') &\n",
    "    (data.event_type.str.contains('Public Event -')) &\n",
    "    (data.start_date < pd.Timestamp.now())\n",
    "]"
   ]
  },
  {
   "cell_type": "markdown",
   "id": "23c37f65",
   "metadata": {
    "papermill": {
     "duration": 0.001849,
     "end_time": "2023-07-12T17:50:18.477420",
     "exception": false,
     "start_time": "2023-07-12T17:50:18.475571",
     "status": "completed"
    },
    "tags": []
   },
   "source": [
    "Calculate series of wards"
   ]
  },
  {
   "cell_type": "code",
   "execution_count": 4,
   "id": "51b4c2b0",
   "metadata": {
    "execution": {
     "iopub.execute_input": "2023-07-12T17:50:18.481729Z",
     "iopub.status.busy": "2023-07-12T17:50:18.481498Z",
     "iopub.status.idle": "2023-07-12T17:50:18.484674Z",
     "shell.execute_reply": "2023-07-12T17:50:18.484340Z"
    },
    "papermill": {
     "duration": 0.00609,
     "end_time": "2023-07-12T17:50:18.485516",
     "exception": false,
     "start_time": "2023-07-12T17:50:18.479426",
     "status": "completed"
    },
    "tags": []
   },
   "outputs": [],
   "source": [
    "wards = data['ward_(from_venue)'].fillna(value='[]').pipe(util.convert.literal_converter).apply(np.unique)"
   ]
  },
  {
   "cell_type": "markdown",
   "id": "aecf19fd",
   "metadata": {
    "papermill": {
     "duration": 0.001428,
     "end_time": "2023-07-12T17:50:18.488540",
     "exception": false,
     "start_time": "2023-07-12T17:50:18.487112",
     "status": "completed"
    },
    "tags": []
   },
   "source": [
    "Print a list of events which have no ward, or more than one"
   ]
  },
  {
   "cell_type": "code",
   "execution_count": 5,
   "id": "864a7ee8",
   "metadata": {
    "execution": {
     "iopub.execute_input": "2023-07-12T17:50:18.491974Z",
     "iopub.status.busy": "2023-07-12T17:50:18.491767Z",
     "iopub.status.idle": "2023-07-12T17:50:18.499744Z",
     "shell.execute_reply": "2023-07-12T17:50:18.499486Z"
    },
    "papermill": {
     "duration": 0.010508,
     "end_time": "2023-07-12T17:50:18.500494",
     "exception": false,
     "start_time": "2023-07-12T17:50:18.489986",
     "status": "completed"
    },
    "tags": []
   },
   "outputs": [
    {
     "data": {
      "text/html": [
       "<div>\n",
       "<style scoped>\n",
       "    .dataframe tbody tr th:only-of-type {\n",
       "        vertical-align: middle;\n",
       "    }\n",
       "\n",
       "    .dataframe tbody tr th {\n",
       "        vertical-align: top;\n",
       "    }\n",
       "\n",
       "    .dataframe thead th {\n",
       "        text-align: right;\n",
       "    }\n",
       "</style>\n",
       "<table border=\"1\" class=\"dataframe\">\n",
       "  <thead>\n",
       "    <tr style=\"text-align: right;\">\n",
       "      <th></th>\n",
       "      <th>project_name</th>\n",
       "      <th>event_name</th>\n",
       "      <th>event_type</th>\n",
       "      <th>season</th>\n",
       "      <th>start_date</th>\n",
       "      <th>airtable_id</th>\n",
       "      <th>actual_audience_size_number_of_participants_in_person</th>\n",
       "      <th>event_unique_identifier</th>\n",
       "      <th>project_type</th>\n",
       "      <th>ward_(from_venue)</th>\n",
       "      <th>postcode_(from_venue)</th>\n",
       "      <th>end_date</th>\n",
       "      <th>number_of_booked_participants</th>\n",
       "      <th>actual_audience_size_number_of_participants_online</th>\n",
       "    </tr>\n",
       "  </thead>\n",
       "  <tbody>\n",
       "    <tr>\n",
       "      <th>11</th>\n",
       "      <td>12 - My LEEDS 2023</td>\n",
       "      <td>My Leeds Event Day 1 (Live Activation)</td>\n",
       "      <td>['Public Event - Performance']</td>\n",
       "      <td>['Season 2 - Playing']</td>\n",
       "      <td>2023-07-08</td>\n",
       "      <td>265</td>\n",
       "      <td>NaN</td>\n",
       "      <td>12 - My LEEDS 2023: My Leeds Event Day 1 (Live...</td>\n",
       "      <td>Produce (Signature)</td>\n",
       "      <td>NaN</td>\n",
       "      <td>NaN</td>\n",
       "      <td>2023-07-09</td>\n",
       "      <td>NaN</td>\n",
       "      <td>NaN</td>\n",
       "    </tr>\n",
       "    <tr>\n",
       "      <th>506</th>\n",
       "      <td>12 - My LEEDS 2023</td>\n",
       "      <td>The Gift: digital gift launch</td>\n",
       "      <td>['Public Event - Digital Experience']</td>\n",
       "      <td>['Season 2 - Playing']</td>\n",
       "      <td>2023-06-19</td>\n",
       "      <td>656</td>\n",
       "      <td>NaN</td>\n",
       "      <td>12 - My LEEDS 2023: The Gift: digital gift lau...</td>\n",
       "      <td>Produce (Signature)</td>\n",
       "      <td>NaN</td>\n",
       "      <td>NaN</td>\n",
       "      <td>2023-06-19</td>\n",
       "      <td>NaN</td>\n",
       "      <td>NaN</td>\n",
       "    </tr>\n",
       "    <tr>\n",
       "      <th>570</th>\n",
       "      <td>12 - My LEEDS 2023</td>\n",
       "      <td>The Gift: Garments</td>\n",
       "      <td>['Public Event - Installation']</td>\n",
       "      <td>['Season 2 - Playing']</td>\n",
       "      <td>2023-06-17</td>\n",
       "      <td>657</td>\n",
       "      <td>NaN</td>\n",
       "      <td>12 - My LEEDS 2023: The Gift: Garments</td>\n",
       "      <td>Produce (Signature)</td>\n",
       "      <td>NaN</td>\n",
       "      <td>NaN</td>\n",
       "      <td>2023-08-27</td>\n",
       "      <td>NaN</td>\n",
       "      <td>NaN</td>\n",
       "    </tr>\n",
       "    <tr>\n",
       "      <th>686</th>\n",
       "      <td>12 - My LEEDS 2023</td>\n",
       "      <td>My LEEDS Summer: Alwoodley Festival of Sport a...</td>\n",
       "      <td>['Public Event - Performance']</td>\n",
       "      <td>['Season 2 - Playing']</td>\n",
       "      <td>2023-07-09</td>\n",
       "      <td>430</td>\n",
       "      <td>NaN</td>\n",
       "      <td>12 - My LEEDS 2023: My LEEDS Summer: Alwoodley...</td>\n",
       "      <td>Produce (Signature)</td>\n",
       "      <td>['Alwoodley', 'Alwoodley', 'Alwoodley', 'Alwoo...</td>\n",
       "      <td>['LS17 7NZ', 'LS17 7PF', 'LS17 5HX', 'LS17 7HL...</td>\n",
       "      <td>2023-07-09</td>\n",
       "      <td>NaN</td>\n",
       "      <td>NaN</td>\n",
       "    </tr>\n",
       "  </tbody>\n",
       "</table>\n",
       "</div>"
      ],
      "text/plain": [
       "           project_name                                         event_name  \\\n",
       "11   12 - My LEEDS 2023             My Leeds Event Day 1 (Live Activation)   \n",
       "506  12 - My LEEDS 2023                     The Gift: digital gift launch    \n",
       "570  12 - My LEEDS 2023                                 The Gift: Garments   \n",
       "686  12 - My LEEDS 2023  My LEEDS Summer: Alwoodley Festival of Sport a...   \n",
       "\n",
       "                                event_type                  season start_date  \\\n",
       "11          ['Public Event - Performance']  ['Season 2 - Playing'] 2023-07-08   \n",
       "506  ['Public Event - Digital Experience']  ['Season 2 - Playing'] 2023-06-19   \n",
       "570        ['Public Event - Installation']  ['Season 2 - Playing'] 2023-06-17   \n",
       "686         ['Public Event - Performance']  ['Season 2 - Playing'] 2023-07-09   \n",
       "\n",
       "     airtable_id  actual_audience_size_number_of_participants_in_person  \\\n",
       "11           265                                                NaN       \n",
       "506          656                                                NaN       \n",
       "570          657                                                NaN       \n",
       "686          430                                                NaN       \n",
       "\n",
       "                               event_unique_identifier         project_type  \\\n",
       "11   12 - My LEEDS 2023: My Leeds Event Day 1 (Live...  Produce (Signature)   \n",
       "506  12 - My LEEDS 2023: The Gift: digital gift lau...  Produce (Signature)   \n",
       "570             12 - My LEEDS 2023: The Gift: Garments  Produce (Signature)   \n",
       "686  12 - My LEEDS 2023: My LEEDS Summer: Alwoodley...  Produce (Signature)   \n",
       "\n",
       "                                     ward_(from_venue)  \\\n",
       "11                                                 NaN   \n",
       "506                                                NaN   \n",
       "570                                                NaN   \n",
       "686  ['Alwoodley', 'Alwoodley', 'Alwoodley', 'Alwoo...   \n",
       "\n",
       "                                 postcode_(from_venue)    end_date  \\\n",
       "11                                                 NaN  2023-07-09   \n",
       "506                                                NaN  2023-06-19   \n",
       "570                                                NaN  2023-08-27   \n",
       "686  ['LS17 7NZ', 'LS17 7PF', 'LS17 5HX', 'LS17 7HL...  2023-07-09   \n",
       "\n",
       "     number_of_booked_participants  \\\n",
       "11                             NaN   \n",
       "506                            NaN   \n",
       "570                            NaN   \n",
       "686                            NaN   \n",
       "\n",
       "     actual_audience_size_number_of_participants_online  \n",
       "11                                                 NaN   \n",
       "506                                                NaN   \n",
       "570                                                NaN   \n",
       "686                                                NaN   "
      ]
     },
     "execution_count": 5,
     "metadata": {},
     "output_type": "execute_result"
    }
   ],
   "source": [
    "data[wards.apply(len) != 1]"
   ]
  },
  {
   "cell_type": "markdown",
   "id": "3e8d5057",
   "metadata": {
    "papermill": {
     "duration": 0.001809,
     "end_time": "2023-07-12T17:50:18.504026",
     "exception": false,
     "start_time": "2023-07-12T17:50:18.502217",
     "status": "completed"
    },
    "tags": []
   },
   "source": [
    "Pick the first ward in the list and create a new column"
   ]
  },
  {
   "cell_type": "code",
   "execution_count": 6,
   "id": "7c18aa1e",
   "metadata": {
    "execution": {
     "iopub.execute_input": "2023-07-12T17:50:18.509392Z",
     "iopub.status.busy": "2023-07-12T17:50:18.509238Z",
     "iopub.status.idle": "2023-07-12T17:50:18.535033Z",
     "shell.execute_reply": "2023-07-12T17:50:18.534717Z"
    },
    "papermill": {
     "duration": 0.029621,
     "end_time": "2023-07-12T17:50:18.535717",
     "exception": false,
     "start_time": "2023-07-12T17:50:18.506096",
     "status": "completed"
    },
    "tags": []
   },
   "outputs": [],
   "source": [
    "data['ward_code'] = wards.apply(lambda x: x[0] if len(x) > 0 else np.nan).pipe(util.geo.normalise_leeds_wards).pipe(util.geo.ward_name_to_code)"
   ]
  },
  {
   "cell_type": "markdown",
   "id": "edc76ccd",
   "metadata": {
    "papermill": {
     "duration": 0.001673,
     "end_time": "2023-07-12T17:50:18.539067",
     "exception": false,
     "start_time": "2023-07-12T17:50:18.537394",
     "status": "completed"
    },
    "tags": []
   },
   "source": [
    "Calculate audience size"
   ]
  },
  {
   "cell_type": "code",
   "execution_count": 7,
   "id": "c148853a",
   "metadata": {
    "execution": {
     "iopub.execute_input": "2023-07-12T17:50:18.542888Z",
     "iopub.status.busy": "2023-07-12T17:50:18.542753Z",
     "iopub.status.idle": "2023-07-12T17:50:18.545346Z",
     "shell.execute_reply": "2023-07-12T17:50:18.545054Z"
    },
    "papermill": {
     "duration": 0.005329,
     "end_time": "2023-07-12T17:50:18.546014",
     "exception": false,
     "start_time": "2023-07-12T17:50:18.540685",
     "status": "completed"
    },
    "tags": []
   },
   "outputs": [],
   "source": [
    "data['audience_size'] = data.actual_audience_size_number_of_participants_in_person.fillna(0) + data.actual_audience_size_number_of_participants_online.fillna(0)"
   ]
  },
  {
   "cell_type": "markdown",
   "id": "03aeea0e",
   "metadata": {
    "papermill": {
     "duration": 0.001772,
     "end_time": "2023-07-12T17:50:18.549560",
     "exception": false,
     "start_time": "2023-07-12T17:50:18.547788",
     "status": "completed"
    },
    "tags": []
   },
   "source": [
    "Create output directory"
   ]
  },
  {
   "cell_type": "code",
   "execution_count": 8,
   "id": "29d1db93",
   "metadata": {
    "execution": {
     "iopub.execute_input": "2023-07-12T17:50:18.553498Z",
     "iopub.status.busy": "2023-07-12T17:50:18.553383Z",
     "iopub.status.idle": "2023-07-12T17:50:18.555422Z",
     "shell.execute_reply": "2023-07-12T17:50:18.555130Z"
    },
    "papermill": {
     "duration": 0.004858,
     "end_time": "2023-07-12T17:50:18.556112",
     "exception": false,
     "start_time": "2023-07-12T17:50:18.551254",
     "status": "completed"
    },
    "tags": []
   },
   "outputs": [],
   "source": [
    "OUT_DIR = '../../../../docs/metrics/events/my-leeds-2023/_data/events'\n",
    "os.makedirs(OUT_DIR, exist_ok=True)"
   ]
  },
  {
   "cell_type": "markdown",
   "id": "19993d4d",
   "metadata": {
    "papermill": {
     "duration": 0.004894,
     "end_time": "2023-07-12T17:50:18.562675",
     "exception": false,
     "start_time": "2023-07-12T17:50:18.557781",
     "status": "completed"
    },
    "tags": []
   },
   "source": [
    "Create counts of events by ward and save CSV"
   ]
  },
  {
   "cell_type": "code",
   "execution_count": 9,
   "id": "a723ae27",
   "metadata": {
    "execution": {
     "iopub.execute_input": "2023-07-12T17:50:18.573833Z",
     "iopub.status.busy": "2023-07-12T17:50:18.573676Z",
     "iopub.status.idle": "2023-07-12T17:50:18.580119Z",
     "shell.execute_reply": "2023-07-12T17:50:18.578542Z"
    },
    "papermill": {
     "duration": 0.015223,
     "end_time": "2023-07-12T17:50:18.584459",
     "exception": false,
     "start_time": "2023-07-12T17:50:18.569236",
     "status": "completed"
    },
    "tags": []
   },
   "outputs": [],
   "source": [
    "by_ward = pd.DataFrame(\n",
    "  {\n",
    "    'events': data.groupby('ward_code').audience_size.count(),\n",
    "    'audience': data.groupby('ward_code').audience_size.sum(),\n",
    "  }\n",
    ")\n",
    "by_ward.to_csv(os.path.join(OUT_DIR, 'by_ward.csv'))"
   ]
  },
  {
   "cell_type": "markdown",
   "id": "e05fa82b",
   "metadata": {
    "papermill": {
     "duration": 0.002449,
     "end_time": "2023-07-12T17:50:18.594995",
     "exception": false,
     "start_time": "2023-07-12T17:50:18.592546",
     "status": "completed"
    },
    "tags": []
   },
   "source": [
    "Create summary by week"
   ]
  },
  {
   "cell_type": "code",
   "execution_count": 10,
   "id": "4528d3f1",
   "metadata": {
    "execution": {
     "iopub.execute_input": "2023-07-12T17:50:18.604060Z",
     "iopub.status.busy": "2023-07-12T17:50:18.603604Z",
     "iopub.status.idle": "2023-07-12T17:50:18.611441Z",
     "shell.execute_reply": "2023-07-12T17:50:18.611172Z"
    },
    "papermill": {
     "duration": 0.012344,
     "end_time": "2023-07-12T17:50:18.612227",
     "exception": false,
     "start_time": "2023-07-12T17:50:18.599883",
     "status": "completed"
    },
    "tags": []
   },
   "outputs": [],
   "source": [
    "by_week = pd.DataFrame({\n",
    "  'events': data.groupby('start_date').audience_size.count(),\n",
    "  'audience': data.groupby('start_date').audience_size.sum().astype(int)\n",
    "}).resample('W-FRI').sum()\n",
    "by_week.index.name = 'week_ending'\n",
    "by_week['cumulative_events'] = by_week.events.cumsum()\n",
    "by_week['cumulative_audience'] = by_week.audience.cumsum()\n",
    "by_week.to_csv(os.path.join(OUT_DIR, 'by_week.csv'))"
   ]
  },
  {
   "cell_type": "markdown",
   "id": "0cf1dc8b",
   "metadata": {
    "papermill": {
     "duration": 0.00213,
     "end_time": "2023-07-12T17:50:18.616396",
     "exception": false,
     "start_time": "2023-07-12T17:50:18.614266",
     "status": "completed"
    },
    "tags": []
   },
   "source": [
    "Create summary by month"
   ]
  },
  {
   "cell_type": "code",
   "execution_count": 11,
   "id": "61b188f6",
   "metadata": {
    "execution": {
     "iopub.execute_input": "2023-07-12T17:50:18.620425Z",
     "iopub.status.busy": "2023-07-12T17:50:18.620270Z",
     "iopub.status.idle": "2023-07-12T17:50:18.624355Z",
     "shell.execute_reply": "2023-07-12T17:50:18.624034Z"
    },
    "papermill": {
     "duration": 0.006971,
     "end_time": "2023-07-12T17:50:18.625122",
     "exception": false,
     "start_time": "2023-07-12T17:50:18.618151",
     "status": "completed"
    },
    "tags": []
   },
   "outputs": [],
   "source": [
    "by_month = by_week.resample('M').sum()\n",
    "by_month['cumulative_events'] = by_month.events.cumsum()\n",
    "by_month['cumulative_audience'] = by_month.audience.cumsum()\n",
    "by_month.index.name = 'month_ending'\n",
    "by_month.to_csv(os.path.join(OUT_DIR, 'by_month.csv'))"
   ]
  },
  {
   "cell_type": "markdown",
   "id": "c24a7774",
   "metadata": {
    "papermill": {
     "duration": 0.001841,
     "end_time": "2023-07-12T17:50:18.628707",
     "exception": false,
     "start_time": "2023-07-12T17:50:18.626866",
     "status": "completed"
    },
    "tags": []
   },
   "source": [
    "Create headline counts of events"
   ]
  },
  {
   "cell_type": "code",
   "execution_count": 12,
   "id": "dc0296e8",
   "metadata": {
    "execution": {
     "iopub.execute_input": "2023-07-12T17:50:18.632576Z",
     "iopub.status.busy": "2023-07-12T17:50:18.632450Z",
     "iopub.status.idle": "2023-07-12T17:50:18.635436Z",
     "shell.execute_reply": "2023-07-12T17:50:18.635176Z"
    },
    "papermill": {
     "duration": 0.005642,
     "end_time": "2023-07-12T17:50:18.636029",
     "exception": false,
     "start_time": "2023-07-12T17:50:18.630387",
     "status": "completed"
    },
    "tags": []
   },
   "outputs": [],
   "source": [
    "by_month.drop(\n",
    "    columns=['events', 'audience']\n",
    ").rename(\n",
    "    columns=lambda n: n.replace('cumulative', 'total')\n",
    ").iloc[-1].to_json(os.path.join(OUT_DIR, 'headlines.json'))"
   ]
  }
 ],
 "metadata": {
  "kernelspec": {
   "display_name": "leeds-2023-YZF5GfJv",
   "language": "python",
   "name": "python3"
  },
  "language_info": {
   "codemirror_mode": {
    "name": "ipython",
    "version": 3
   },
   "file_extension": ".py",
   "mimetype": "text/x-python",
   "name": "python",
   "nbconvert_exporter": "python",
   "pygments_lexer": "ipython3",
   "version": "3.10.6"
  },
  "papermill": {
   "default_parameters": {},
   "duration": 1.286055,
   "end_time": "2023-07-12T17:50:18.852080",
   "environment_variables": {},
   "exception": null,
   "input_path": "my-leeds-2023.ipynb",
   "output_path": "output/my-leeds-2023.ipynb",
   "parameters": {},
   "start_time": "2023-07-12T17:50:17.566025",
   "version": "2.4.0"
  }
 },
 "nbformat": 4,
 "nbformat_minor": 5
}