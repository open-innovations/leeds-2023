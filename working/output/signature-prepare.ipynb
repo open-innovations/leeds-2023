{
 "cells": [
  {
   "cell_type": "code",
   "execution_count": 1,
   "id": "4d891edd",
   "metadata": {
    "execution": {
     "iopub.execute_input": "2023-12-28T23:40:15.822222Z",
     "iopub.status.busy": "2023-12-28T23:40:15.822005Z",
     "iopub.status.idle": "2023-12-28T23:40:22.863438Z",
     "shell.execute_reply": "2023-12-28T23:40:22.862683Z"
    },
    "papermill": {
     "duration": 7.04633,
     "end_time": "2023-12-28T23:40:22.865217",
     "exception": false,
     "start_time": "2023-12-28T23:40:15.818887",
     "status": "completed"
    },
    "tags": []
   },
   "outputs": [],
   "source": [
    "import os\n",
    "import pandas as pd\n",
    "from events import load_event_data, get_first_ward, normalise_ward"
   ]
  },
  {
   "cell_type": "code",
   "execution_count": 2,
   "id": "e428964f",
   "metadata": {
    "execution": {
     "iopub.execute_input": "2023-12-28T23:40:22.870534Z",
     "iopub.status.busy": "2023-12-28T23:40:22.870108Z",
     "iopub.status.idle": "2023-12-28T23:40:22.873512Z",
     "shell.execute_reply": "2023-12-28T23:40:22.872957Z"
    },
    "papermill": {
     "duration": 0.007346,
     "end_time": "2023-12-28T23:40:22.874810",
     "exception": false,
     "start_time": "2023-12-28T23:40:22.867464",
     "status": "completed"
    },
    "tags": []
   },
   "outputs": [],
   "source": [
    "latest_date = pd.Timestamp.today().ceil('D')"
   ]
  },
  {
   "cell_type": "code",
   "execution_count": 3,
   "id": "94c4dc1a",
   "metadata": {
    "execution": {
     "iopub.execute_input": "2023-12-28T23:40:22.879616Z",
     "iopub.status.busy": "2023-12-28T23:40:22.879222Z",
     "iopub.status.idle": "2023-12-28T23:40:22.897131Z",
     "shell.execute_reply": "2023-12-28T23:40:22.896641Z"
    },
    "papermill": {
     "duration": 0.021714,
     "end_time": "2023-12-28T23:40:22.898395",
     "exception": false,
     "start_time": "2023-12-28T23:40:22.876681",
     "status": "completed"
    },
    "tags": []
   },
   "outputs": [],
   "source": [
    "tickets = pd.read_csv('../../../../data/metrics/events/tickets/orders.csv', parse_dates=['created_at', 'event_date'])\n",
    "tickets = tickets[tickets.event_date <= latest_date]"
   ]
  },
  {
   "cell_type": "code",
   "execution_count": 4,
   "id": "f07c503f",
   "metadata": {
    "execution": {
     "iopub.execute_input": "2023-12-28T23:40:22.903065Z",
     "iopub.status.busy": "2023-12-28T23:40:22.902633Z",
     "iopub.status.idle": "2023-12-28T23:40:22.957392Z",
     "shell.execute_reply": "2023-12-28T23:40:22.956902Z"
    },
    "papermill": {
     "duration": 0.058445,
     "end_time": "2023-12-28T23:40:22.958685",
     "exception": false,
     "start_time": "2023-12-28T23:40:22.900240",
     "status": "completed"
    },
    "tags": []
   },
   "outputs": [],
   "source": [
    "events = load_event_data()\n",
    "\n",
    "events = pd.concat([\n",
    "  events,\n",
    "  events.pipe(get_first_ward).pipe(normalise_ward).fillna('UNKNOWN'),\n",
    "  pd.Series(\n",
    "      events.actual_audience_size_number_of_participants_in_person + events.actual_audience_size_number_of_participants_online,\n",
    "      name='attendances'\n",
    "  )\n",
    "], axis=1).rename(columns={\n",
    "    'start_date': 'date'\n",
    "}).loc[:, ['ward_code', 'date', 'event_unique_identifier', 'attendances']]"
   ]
  },
  {
   "cell_type": "code",
   "execution_count": 5,
   "id": "050ede11",
   "metadata": {
    "execution": {
     "iopub.execute_input": "2023-12-28T23:40:22.963569Z",
     "iopub.status.busy": "2023-12-28T23:40:22.963064Z",
     "iopub.status.idle": "2023-12-28T23:40:22.966820Z",
     "shell.execute_reply": "2023-12-28T23:40:22.966341Z"
    },
    "papermill": {
     "duration": 0.007434,
     "end_time": "2023-12-28T23:40:22.968022",
     "exception": false,
     "start_time": "2023-12-28T23:40:22.960588",
     "status": "completed"
    },
    "tags": []
   },
   "outputs": [],
   "source": [
    "OUTPUT_DIR='../../../../docs/metrics/events/signature/_data/'\n",
    "os.makedirs(OUTPUT_DIR, exist_ok=True)"
   ]
  },
  {
   "cell_type": "markdown",
   "id": "713d678b",
   "metadata": {
    "papermill": {
     "duration": 0.001991,
     "end_time": "2023-12-28T23:40:22.972004",
     "exception": false,
     "start_time": "2023-12-28T23:40:22.970013",
     "status": "completed"
    },
    "tags": []
   },
   "source": [
    "Events CSVs"
   ]
  },
  {
   "cell_type": "code",
   "execution_count": 6,
   "id": "f9f2e9cc",
   "metadata": {
    "execution": {
     "iopub.execute_input": "2023-12-28T23:40:22.976686Z",
     "iopub.status.busy": "2023-12-28T23:40:22.976456Z",
     "iopub.status.idle": "2023-12-28T23:40:22.982516Z",
     "shell.execute_reply": "2023-12-28T23:40:22.982032Z"
    },
    "papermill": {
     "duration": 0.009928,
     "end_time": "2023-12-28T23:40:22.983813",
     "exception": false,
     "start_time": "2023-12-28T23:40:22.973885",
     "status": "completed"
    },
    "tags": []
   },
   "outputs": [],
   "source": [
    "pd.DataFrame({\n",
    "  'events': events.groupby('ward_code').event_unique_identifier.count(),\n",
    "  'attendances': events.groupby('ward_code').attendances.sum().astype(int),\n",
    "}).to_csv(os.path.join(OUTPUT_DIR, 'events_by_ward.csv'))\n"
   ]
  },
  {
   "cell_type": "code",
   "execution_count": 7,
   "id": "d1586897",
   "metadata": {
    "execution": {
     "iopub.execute_input": "2023-12-28T23:40:22.988661Z",
     "iopub.status.busy": "2023-12-28T23:40:22.988297Z",
     "iopub.status.idle": "2023-12-28T23:40:22.995882Z",
     "shell.execute_reply": "2023-12-28T23:40:22.995356Z"
    },
    "papermill": {
     "duration": 0.011409,
     "end_time": "2023-12-28T23:40:22.997145",
     "exception": false,
     "start_time": "2023-12-28T23:40:22.985736",
     "status": "completed"
    },
    "tags": []
   },
   "outputs": [],
   "source": [
    "pd.DataFrame({\n",
    "  'events': events.groupby('date').event_unique_identifier.count(),\n",
    "  'attendances': events.groupby('date').attendances.sum().astype(int),\n",
    "}).resample('M').sum().astype(int).to_csv(os.path.join(OUTPUT_DIR, 'events_by_date.csv'))"
   ]
  },
  {
   "cell_type": "markdown",
   "id": "68b3fbc6",
   "metadata": {
    "papermill": {
     "duration": 0.002634,
     "end_time": "2023-12-28T23:40:23.001725",
     "exception": false,
     "start_time": "2023-12-28T23:40:22.999091",
     "status": "completed"
    },
    "tags": []
   },
   "source": [
    "Tickets CSV"
   ]
  },
  {
   "cell_type": "code",
   "execution_count": 8,
   "id": "37f98ac1",
   "metadata": {
    "execution": {
     "iopub.execute_input": "2023-12-28T23:40:23.006592Z",
     "iopub.status.busy": "2023-12-28T23:40:23.006196Z",
     "iopub.status.idle": "2023-12-28T23:40:23.012024Z",
     "shell.execute_reply": "2023-12-28T23:40:23.011515Z"
    },
    "papermill": {
     "duration": 0.009595,
     "end_time": "2023-12-28T23:40:23.013265",
     "exception": false,
     "start_time": "2023-12-28T23:40:23.003670",
     "status": "completed"
    },
    "tags": []
   },
   "outputs": [],
   "source": [
    "pd.DataFrame({\n",
    "  'orders': tickets.groupby('ward_code').number_of_tickets.count(),\n",
    "  'tickets': tickets.groupby('ward_code').number_of_tickets.sum().astype(int),\n",
    "}).to_csv(os.path.join(OUTPUT_DIR, 'tickets_by_ward.csv'))"
   ]
  },
  {
   "cell_type": "code",
   "execution_count": 9,
   "id": "eafe48a6",
   "metadata": {
    "execution": {
     "iopub.execute_input": "2023-12-28T23:40:23.018152Z",
     "iopub.status.busy": "2023-12-28T23:40:23.017782Z",
     "iopub.status.idle": "2023-12-28T23:40:23.024303Z",
     "shell.execute_reply": "2023-12-28T23:40:23.023813Z"
    },
    "papermill": {
     "duration": 0.010257,
     "end_time": "2023-12-28T23:40:23.025533",
     "exception": false,
     "start_time": "2023-12-28T23:40:23.015276",
     "status": "completed"
    },
    "tags": []
   },
   "outputs": [],
   "source": [
    "pd.DataFrame({\n",
    "  'orders': tickets.groupby('event_date').number_of_tickets.count(),\n",
    "  'tickets': tickets.groupby('event_date').number_of_tickets.sum().astype(int),\n",
    "}).resample('M').sum().to_csv(os.path.join(OUTPUT_DIR, 'tickets_by_event_date.csv'))"
   ]
  },
  {
   "cell_type": "code",
   "execution_count": 10,
   "id": "c64c6267",
   "metadata": {
    "execution": {
     "iopub.execute_input": "2023-12-28T23:40:23.030657Z",
     "iopub.status.busy": "2023-12-28T23:40:23.030263Z",
     "iopub.status.idle": "2023-12-28T23:40:23.034910Z",
     "shell.execute_reply": "2023-12-28T23:40:23.034384Z"
    },
    "papermill": {
     "duration": 0.008606,
     "end_time": "2023-12-28T23:40:23.036159",
     "exception": false,
     "start_time": "2023-12-28T23:40:23.027553",
     "status": "completed"
    },
    "tags": []
   },
   "outputs": [],
   "source": [
    "pd.Series({\n",
    "    'total_events': events.event_unique_identifier.count(),\n",
    "    'total_attendances': events.attendances.count(),\n",
    "    'first_event': events.date.min(),\n",
    "    'latest_event': events.date.max(),\n",
    "    'total_ticket_orders_for_events_to_date': tickets.number_of_tickets.count(),\n",
    "    'total_tickets_sold_for_events_to_date': tickets.number_of_tickets.sum(),\n",
    "}).to_json(os.path.join(OUTPUT_DIR, 'headlines.json'), indent=2)"
   ]
  },
  {
   "cell_type": "code",
   "execution_count": null,
   "id": "cd36847d",
   "metadata": {
    "papermill": {
     "duration": 0.001993,
     "end_time": "2023-12-28T23:40:23.040173",
     "exception": false,
     "start_time": "2023-12-28T23:40:23.038180",
     "status": "completed"
    },
    "tags": []
   },
   "outputs": [],
   "source": []
  }
 ],
 "metadata": {
  "kernelspec": {
   "display_name": "leeds-2023-YZF5GfJv",
   "language": "python",
   "name": "python3"
  },
  "language_info": {
   "codemirror_mode": {
    "name": "ipython",
    "version": 3
   },
   "file_extension": ".py",
   "mimetype": "text/x-python",
   "name": "python",
   "nbconvert_exporter": "python",
   "pygments_lexer": "ipython3",
   "version": "3.10.13"
  },
  "papermill": {
   "default_parameters": {},
   "duration": 8.677767,
   "end_time": "2023-12-28T23:40:23.258465",
   "environment_variables": {},
   "exception": null,
   "input_path": "prepare.ipynb",
   "output_path": "../../../../working/output/signature-prepare.ipynb",
   "parameters": {},
   "start_time": "2023-12-28T23:40:14.580698",
   "version": "2.4.0"
  }
 },
 "nbformat": 4,
 "nbformat_minor": 5
}