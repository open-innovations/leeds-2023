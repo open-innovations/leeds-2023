{
 "cells": [
  {
   "cell_type": "code",
   "execution_count": 1,
   "id": "08a75fe7",
   "metadata": {
    "execution": {
     "iopub.execute_input": "2023-08-11T23:38:14.391133Z",
     "iopub.status.busy": "2023-08-11T23:38:14.390462Z",
     "iopub.status.idle": "2023-08-11T23:38:14.677835Z",
     "shell.execute_reply": "2023-08-11T23:38:14.677045Z"
    },
    "papermill": {
     "duration": 0.293979,
     "end_time": "2023-08-11T23:38:14.680136",
     "exception": false,
     "start_time": "2023-08-11T23:38:14.386157",
     "status": "completed"
    },
    "tags": []
   },
   "outputs": [],
   "source": [
    "import os\n",
    "import pandas as pd"
   ]
  },
  {
   "cell_type": "code",
   "execution_count": 2,
   "id": "7efb7a13",
   "metadata": {
    "execution": {
     "iopub.execute_input": "2023-08-11T23:38:14.686194Z",
     "iopub.status.busy": "2023-08-11T23:38:14.685473Z",
     "iopub.status.idle": "2023-08-11T23:38:14.689279Z",
     "shell.execute_reply": "2023-08-11T23:38:14.688662Z"
    },
    "papermill": {
     "duration": 0.008701,
     "end_time": "2023-08-11T23:38:14.691133",
     "exception": false,
     "start_time": "2023-08-11T23:38:14.682432",
     "status": "completed"
    },
    "tags": []
   },
   "outputs": [],
   "source": [
    "DATA_DIR='../../../docs/metrics/events/promote/_data/'\n",
    "os.makedirs(DATA_DIR, exist_ok=True)"
   ]
  },
  {
   "cell_type": "code",
   "execution_count": 3,
   "id": "2d73352b",
   "metadata": {
    "execution": {
     "iopub.execute_input": "2023-08-11T23:38:14.696442Z",
     "iopub.status.busy": "2023-08-11T23:38:14.695745Z",
     "iopub.status.idle": "2023-08-11T23:38:14.707617Z",
     "shell.execute_reply": "2023-08-11T23:38:14.706961Z"
    },
    "papermill": {
     "duration": 0.016384,
     "end_time": "2023-08-11T23:38:14.709358",
     "exception": false,
     "start_time": "2023-08-11T23:38:14.692974",
     "status": "completed"
    },
    "tags": []
   },
   "outputs": [],
   "source": [
    "data = pd.read_csv('../../../data/metrics/events/promote-events/events.csv', parse_dates=['time'])"
   ]
  },
  {
   "cell_type": "code",
   "execution_count": 4,
   "id": "24c0416b",
   "metadata": {
    "execution": {
     "iopub.execute_input": "2023-08-11T23:38:14.714753Z",
     "iopub.status.busy": "2023-08-11T23:38:14.714134Z",
     "iopub.status.idle": "2023-08-11T23:38:14.720209Z",
     "shell.execute_reply": "2023-08-11T23:38:14.719443Z"
    },
    "papermill": {
     "duration": 0.010687,
     "end_time": "2023-08-11T23:38:14.721944",
     "exception": false,
     "start_time": "2023-08-11T23:38:14.711257",
     "status": "completed"
    },
    "tags": []
   },
   "outputs": [],
   "source": [
    "pd.Series({\n",
    "    'total_events': len(data.id.unique()),\n",
    "    'total_event_instances': len(data.time),\n",
    "    'earliest_event': data.time.min(),\n",
    "    'latest_event': data.time.max(),\n",
    "}).to_json(\n",
    "    os.path.join(DATA_DIR, 'headlines.json'),\n",
    "    date_format='iso', indent=2\n",
    ")"
   ]
  },
  {
   "cell_type": "code",
   "execution_count": 5,
   "id": "414c3ac2",
   "metadata": {
    "execution": {
     "iopub.execute_input": "2023-08-11T23:38:14.727212Z",
     "iopub.status.busy": "2023-08-11T23:38:14.726629Z",
     "iopub.status.idle": "2023-08-11T23:38:14.735939Z",
     "shell.execute_reply": "2023-08-11T23:38:14.735299Z"
    },
    "papermill": {
     "duration": 0.01384,
     "end_time": "2023-08-11T23:38:14.737713",
     "exception": false,
     "start_time": "2023-08-11T23:38:14.723873",
     "status": "completed"
    },
    "tags": []
   },
   "outputs": [],
   "source": [
    "events = pd.DataFrame({\n",
    "    'events': data.groupby('id').agg({ 'time': 'min' }).reset_index().groupby('time').id.count(),\n",
    "    'event_instances': data.groupby('time').id.count(),\n",
    "}).fillna(0).astype(int)"
   ]
  },
  {
   "cell_type": "code",
   "execution_count": 6,
   "id": "be1f8952",
   "metadata": {
    "execution": {
     "iopub.execute_input": "2023-08-11T23:38:14.743360Z",
     "iopub.status.busy": "2023-08-11T23:38:14.742739Z",
     "iopub.status.idle": "2023-08-11T23:38:14.746719Z",
     "shell.execute_reply": "2023-08-11T23:38:14.746122Z"
    },
    "papermill": {
     "duration": 0.008623,
     "end_time": "2023-08-11T23:38:14.748403",
     "exception": false,
     "start_time": "2023-08-11T23:38:14.739780",
     "status": "completed"
    },
    "tags": []
   },
   "outputs": [],
   "source": [
    "def cumulate(data):\n",
    "    return pd.concat([\n",
    "        data,\n",
    "        data.cumsum().rename(columns=lambda c: f'cumulative_{c}')\n",
    "    ], axis=1)"
   ]
  },
  {
   "cell_type": "code",
   "execution_count": 7,
   "id": "facdd079",
   "metadata": {
    "execution": {
     "iopub.execute_input": "2023-08-11T23:38:14.753944Z",
     "iopub.status.busy": "2023-08-11T23:38:14.753341Z",
     "iopub.status.idle": "2023-08-11T23:38:14.764576Z",
     "shell.execute_reply": "2023-08-11T23:38:14.763902Z"
    },
    "papermill": {
     "duration": 0.016052,
     "end_time": "2023-08-11T23:38:14.766474",
     "exception": false,
     "start_time": "2023-08-11T23:38:14.750422",
     "status": "completed"
    },
    "tags": []
   },
   "outputs": [],
   "source": [
    "events.resample('W-FRI').sum().pipe(cumulate).to_csv(os.path.join(DATA_DIR, 'by_week.csv'))"
   ]
  },
  {
   "cell_type": "code",
   "execution_count": 8,
   "id": "a1f6b81e",
   "metadata": {
    "execution": {
     "iopub.execute_input": "2023-08-11T23:38:14.771876Z",
     "iopub.status.busy": "2023-08-11T23:38:14.771622Z",
     "iopub.status.idle": "2023-08-11T23:38:14.778269Z",
     "shell.execute_reply": "2023-08-11T23:38:14.777491Z"
    },
    "papermill": {
     "duration": 0.011468,
     "end_time": "2023-08-11T23:38:14.780062",
     "exception": false,
     "start_time": "2023-08-11T23:38:14.768594",
     "status": "completed"
    },
    "tags": []
   },
   "outputs": [],
   "source": [
    "events.resample('MS').sum().pipe(cumulate).to_csv(os.path.join(DATA_DIR, 'by_month.csv'))"
   ]
  },
  {
   "cell_type": "code",
   "execution_count": null,
   "id": "7d1bddb7",
   "metadata": {
    "papermill": {
     "duration": 0.002046,
     "end_time": "2023-08-11T23:38:14.784214",
     "exception": false,
     "start_time": "2023-08-11T23:38:14.782168",
     "status": "completed"
    },
    "tags": []
   },
   "outputs": [],
   "source": []
  }
 ],
 "metadata": {
  "kernelspec": {
   "display_name": "leeds-2023-YZF5GfJv",
   "language": "python",
   "name": "python3"
  },
  "language_info": {
   "codemirror_mode": {
    "name": "ipython",
    "version": 3
   },
   "file_extension": ".py",
   "mimetype": "text/x-python",
   "name": "python",
   "nbconvert_exporter": "python",
   "pygments_lexer": "ipython3",
   "version": "3.10.12"
  },
  "papermill": {
   "default_parameters": {},
   "duration": 2.176775,
   "end_time": "2023-08-11T23:38:15.004954",
   "environment_variables": {},
   "exception": null,
   "input_path": "prepare.ipynb",
   "output_path": "../../../working/output/promote-events-prepare.ipynb",
   "parameters": {},
   "start_time": "2023-08-11T23:38:12.828179",
   "version": "2.4.0"
  }
 },
 "nbformat": 4,
 "nbformat_minor": 5
}