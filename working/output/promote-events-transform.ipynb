{
 "cells": [
  {
   "cell_type": "code",
   "execution_count": 1,
   "id": "da5f4dfb",
   "metadata": {
    "execution": {
     "iopub.execute_input": "2023-10-02T23:41:06.224619Z",
     "iopub.status.busy": "2023-10-02T23:41:06.223441Z",
     "iopub.status.idle": "2023-10-02T23:41:06.544439Z",
     "shell.execute_reply": "2023-10-02T23:41:06.543358Z"
    },
    "papermill": {
     "duration": 0.328735,
     "end_time": "2023-10-02T23:41:06.546833",
     "exception": false,
     "start_time": "2023-10-02T23:41:06.218098",
     "status": "completed"
    },
    "tags": []
   },
   "outputs": [],
   "source": [
    "import os\n",
    "import pandas as pd"
   ]
  },
  {
   "cell_type": "code",
   "execution_count": 2,
   "id": "15b34615",
   "metadata": {
    "execution": {
     "iopub.execute_input": "2023-10-02T23:41:06.552239Z",
     "iopub.status.busy": "2023-10-02T23:41:06.551859Z",
     "iopub.status.idle": "2023-10-02T23:41:06.557076Z",
     "shell.execute_reply": "2023-10-02T23:41:06.556356Z"
    },
    "papermill": {
     "duration": 0.010156,
     "end_time": "2023-10-02T23:41:06.559106",
     "exception": false,
     "start_time": "2023-10-02T23:41:06.548950",
     "status": "completed"
    },
    "tags": []
   },
   "outputs": [],
   "source": [
    "EVENTS_RAW_DATA = '../../../working/metrics/promote-events/events.csv'\n",
    "DATA_DIR = '../../../data/metrics/events/promote-events/'\n",
    "EVENTS_DATA = os.path.join(DATA_DIR, 'events.csv')"
   ]
  },
  {
   "cell_type": "code",
   "execution_count": 3,
   "id": "3e08d5ec",
   "metadata": {
    "execution": {
     "iopub.execute_input": "2023-10-02T23:41:06.563913Z",
     "iopub.status.busy": "2023-10-02T23:41:06.563586Z",
     "iopub.status.idle": "2023-10-02T23:41:06.568657Z",
     "shell.execute_reply": "2023-10-02T23:41:06.567947Z"
    },
    "papermill": {
     "duration": 0.009642,
     "end_time": "2023-10-02T23:41:06.570425",
     "exception": false,
     "start_time": "2023-10-02T23:41:06.560783",
     "status": "completed"
    },
    "tags": []
   },
   "outputs": [],
   "source": [
    "columns = {\n",
    "    'id': 'id',\n",
    "    'name': 'name',\n",
    "    'locationName': 'location',\n",
    "    'cardPrice': 'card_price',\n",
    "    'timeslots': 'time',\n",
    "    # 'displayOnWebsite': 'display',\n",
    "    'Stage': 'stage',\n",
    "}"
   ]
  },
  {
   "cell_type": "code",
   "execution_count": 4,
   "id": "30ecc32e",
   "metadata": {
    "execution": {
     "iopub.execute_input": "2023-10-02T23:41:06.575410Z",
     "iopub.status.busy": "2023-10-02T23:41:06.574771Z",
     "iopub.status.idle": "2023-10-02T23:41:06.589092Z",
     "shell.execute_reply": "2023-10-02T23:41:06.588364Z"
    },
    "papermill": {
     "duration": 0.018807,
     "end_time": "2023-10-02T23:41:06.590912",
     "exception": false,
     "start_time": "2023-10-02T23:41:06.572105",
     "status": "completed"
    },
    "tags": []
   },
   "outputs": [],
   "source": [
    "data = pd.read_csv(EVENTS_RAW_DATA)[columns.keys()].rename(columns=columns)\n",
    "data.time = pd.to_datetime(data.time, errors='coerce')"
   ]
  },
  {
   "cell_type": "code",
   "execution_count": 5,
   "id": "50a904ba",
   "metadata": {
    "execution": {
     "iopub.execute_input": "2023-10-02T23:41:06.595839Z",
     "iopub.status.busy": "2023-10-02T23:41:06.595319Z",
     "iopub.status.idle": "2023-10-02T23:41:06.602088Z",
     "shell.execute_reply": "2023-10-02T23:41:06.601369Z"
    },
    "papermill": {
     "duration": 0.011189,
     "end_time": "2023-10-02T23:41:06.603858",
     "exception": false,
     "start_time": "2023-10-02T23:41:06.592669",
     "status": "completed"
    },
    "tags": []
   },
   "outputs": [],
   "source": [
    "data.to_csv(os.path.join(DATA_DIR, 'events.csv'), index=False)"
   ]
  }
 ],
 "metadata": {
  "kernelspec": {
   "display_name": "leeds-2023-YZF5GfJv",
   "language": "python",
   "name": "python3"
  },
  "language_info": {
   "codemirror_mode": {
    "name": "ipython",
    "version": 3
   },
   "file_extension": ".py",
   "mimetype": "text/x-python",
   "name": "python",
   "nbconvert_exporter": "python",
   "pygments_lexer": "ipython3",
   "version": "3.10.13"
  },
  "papermill": {
   "default_parameters": {},
   "duration": 2.22431,
   "end_time": "2023-10-02T23:41:06.823772",
   "environment_variables": {},
   "exception": null,
   "input_path": "transform.ipynb",
   "output_path": "../../../working/output/promote-events-transform.ipynb",
   "parameters": {},
   "start_time": "2023-10-02T23:41:04.599462",
   "version": "2.4.0"
  }
 },
 "nbformat": 4,
 "nbformat_minor": 5
}