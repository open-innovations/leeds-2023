{
 "cells": [
  {
   "cell_type": "code",
   "execution_count": 1,
   "id": "d60a73c7",
   "metadata": {
    "execution": {
     "iopub.execute_input": "2023-12-07T23:41:04.764503Z",
     "iopub.status.busy": "2023-12-07T23:41:04.764213Z",
     "iopub.status.idle": "2023-12-07T23:41:12.627436Z",
     "shell.execute_reply": "2023-12-07T23:41:12.626696Z"
    },
    "papermill": {
     "duration": 7.868651,
     "end_time": "2023-12-07T23:41:12.629322",
     "exception": false,
     "start_time": "2023-12-07T23:41:04.760671",
     "status": "completed"
    },
    "tags": []
   },
   "outputs": [],
   "source": [
    "import os\n",
    "import pandas as pd\n",
    "from events import load_event_data, get_first_ward, normalise_ward"
   ]
  },
  {
   "cell_type": "code",
   "execution_count": 2,
   "id": "b5823707",
   "metadata": {
    "execution": {
     "iopub.execute_input": "2023-12-07T23:41:12.634862Z",
     "iopub.status.busy": "2023-12-07T23:41:12.634407Z",
     "iopub.status.idle": "2023-12-07T23:41:12.638159Z",
     "shell.execute_reply": "2023-12-07T23:41:12.637527Z"
    },
    "papermill": {
     "duration": 0.007872,
     "end_time": "2023-12-07T23:41:12.639480",
     "exception": false,
     "start_time": "2023-12-07T23:41:12.631608",
     "status": "completed"
    },
    "tags": []
   },
   "outputs": [],
   "source": [
    "latest_date = pd.Timestamp.today().ceil('D')"
   ]
  },
  {
   "cell_type": "code",
   "execution_count": 3,
   "id": "af4b8293",
   "metadata": {
    "execution": {
     "iopub.execute_input": "2023-12-07T23:41:12.644852Z",
     "iopub.status.busy": "2023-12-07T23:41:12.644275Z",
     "iopub.status.idle": "2023-12-07T23:41:12.660864Z",
     "shell.execute_reply": "2023-12-07T23:41:12.660123Z"
    },
    "papermill": {
     "duration": 0.021085,
     "end_time": "2023-12-07T23:41:12.662578",
     "exception": false,
     "start_time": "2023-12-07T23:41:12.641493",
     "status": "completed"
    },
    "tags": []
   },
   "outputs": [],
   "source": [
    "tickets = pd.read_csv('../../../../data/metrics/events/tickets/orders.csv', parse_dates=['created_at', 'event_date'])\n",
    "tickets = tickets[tickets.event_date <= latest_date]"
   ]
  },
  {
   "cell_type": "code",
   "execution_count": 4,
   "id": "2d3c2d43",
   "metadata": {
    "execution": {
     "iopub.execute_input": "2023-12-07T23:41:12.667944Z",
     "iopub.status.busy": "2023-12-07T23:41:12.667495Z",
     "iopub.status.idle": "2023-12-07T23:41:12.723415Z",
     "shell.execute_reply": "2023-12-07T23:41:12.722806Z"
    },
    "papermill": {
     "duration": 0.060468,
     "end_time": "2023-12-07T23:41:12.725140",
     "exception": false,
     "start_time": "2023-12-07T23:41:12.664672",
     "status": "completed"
    },
    "tags": []
   },
   "outputs": [],
   "source": [
    "events = load_event_data()\n",
    "\n",
    "events = pd.concat([\n",
    "  events,\n",
    "  events.pipe(get_first_ward).pipe(normalise_ward).fillna('UNKNOWN'),\n",
    "  pd.Series(\n",
    "      events.actual_audience_size_number_of_participants_in_person + events.actual_audience_size_number_of_participants_online,\n",
    "      name='attendances'\n",
    "  )\n",
    "], axis=1).rename(columns={\n",
    "    'start_date': 'date'\n",
    "}).loc[:, ['ward_code', 'date', 'event_unique_identifier', 'attendances']]"
   ]
  },
  {
   "cell_type": "code",
   "execution_count": 5,
   "id": "d2e76b4e",
   "metadata": {
    "execution": {
     "iopub.execute_input": "2023-12-07T23:41:12.730726Z",
     "iopub.status.busy": "2023-12-07T23:41:12.730196Z",
     "iopub.status.idle": "2023-12-07T23:41:12.733588Z",
     "shell.execute_reply": "2023-12-07T23:41:12.733062Z"
    },
    "papermill": {
     "duration": 0.007671,
     "end_time": "2023-12-07T23:41:12.734951",
     "exception": false,
     "start_time": "2023-12-07T23:41:12.727280",
     "status": "completed"
    },
    "tags": []
   },
   "outputs": [],
   "source": [
    "OUTPUT_DIR='../../../../docs/metrics/events/signature/_data/'\n",
    "os.makedirs(OUTPUT_DIR, exist_ok=True)"
   ]
  },
  {
   "cell_type": "markdown",
   "id": "2f22f6e5",
   "metadata": {
    "papermill": {
     "duration": 0.002124,
     "end_time": "2023-12-07T23:41:12.739227",
     "exception": false,
     "start_time": "2023-12-07T23:41:12.737103",
     "status": "completed"
    },
    "tags": []
   },
   "source": [
    "Events CSVs"
   ]
  },
  {
   "cell_type": "code",
   "execution_count": 6,
   "id": "4e29a6fe",
   "metadata": {
    "execution": {
     "iopub.execute_input": "2023-12-07T23:41:12.744496Z",
     "iopub.status.busy": "2023-12-07T23:41:12.744031Z",
     "iopub.status.idle": "2023-12-07T23:41:12.751194Z",
     "shell.execute_reply": "2023-12-07T23:41:12.750533Z"
    },
    "papermill": {
     "duration": 0.01156,
     "end_time": "2023-12-07T23:41:12.752744",
     "exception": false,
     "start_time": "2023-12-07T23:41:12.741184",
     "status": "completed"
    },
    "tags": []
   },
   "outputs": [],
   "source": [
    "pd.DataFrame({\n",
    "  'events': events.groupby('ward_code').event_unique_identifier.count(),\n",
    "  'attendances': events.groupby('ward_code').attendances.sum().astype(int),\n",
    "}).to_csv(os.path.join(OUTPUT_DIR, 'events_by_ward.csv'))\n"
   ]
  },
  {
   "cell_type": "code",
   "execution_count": 7,
   "id": "579206a8",
   "metadata": {
    "execution": {
     "iopub.execute_input": "2023-12-07T23:41:12.758148Z",
     "iopub.status.busy": "2023-12-07T23:41:12.757717Z",
     "iopub.status.idle": "2023-12-07T23:41:12.766175Z",
     "shell.execute_reply": "2023-12-07T23:41:12.765639Z"
    },
    "papermill": {
     "duration": 0.012721,
     "end_time": "2023-12-07T23:41:12.767566",
     "exception": false,
     "start_time": "2023-12-07T23:41:12.754845",
     "status": "completed"
    },
    "tags": []
   },
   "outputs": [],
   "source": [
    "pd.DataFrame({\n",
    "  'events': events.groupby('date').event_unique_identifier.count(),\n",
    "  'attendances': events.groupby('date').attendances.sum().astype(int),\n",
    "}).resample('M').sum().astype(int).to_csv(os.path.join(OUTPUT_DIR, 'events_by_date.csv'))"
   ]
  },
  {
   "cell_type": "markdown",
   "id": "c3cd66fe",
   "metadata": {
    "papermill": {
     "duration": 0.002958,
     "end_time": "2023-12-07T23:41:12.772686",
     "exception": false,
     "start_time": "2023-12-07T23:41:12.769728",
     "status": "completed"
    },
    "tags": []
   },
   "source": [
    "Tickets CSV"
   ]
  },
  {
   "cell_type": "code",
   "execution_count": 8,
   "id": "0d5f9adf",
   "metadata": {
    "execution": {
     "iopub.execute_input": "2023-12-07T23:41:12.777915Z",
     "iopub.status.busy": "2023-12-07T23:41:12.777476Z",
     "iopub.status.idle": "2023-12-07T23:41:12.784198Z",
     "shell.execute_reply": "2023-12-07T23:41:12.783658Z"
    },
    "papermill": {
     "duration": 0.010989,
     "end_time": "2023-12-07T23:41:12.785644",
     "exception": false,
     "start_time": "2023-12-07T23:41:12.774655",
     "status": "completed"
    },
    "tags": []
   },
   "outputs": [],
   "source": [
    "pd.DataFrame({\n",
    "  'orders': tickets.groupby('ward_code').number_of_tickets.count(),\n",
    "  'tickets': tickets.groupby('ward_code').number_of_tickets.sum().astype(int),\n",
    "}).to_csv(os.path.join(OUTPUT_DIR, 'tickets_by_ward.csv'))"
   ]
  },
  {
   "cell_type": "code",
   "execution_count": 9,
   "id": "cee23b67",
   "metadata": {
    "execution": {
     "iopub.execute_input": "2023-12-07T23:41:12.791118Z",
     "iopub.status.busy": "2023-12-07T23:41:12.790674Z",
     "iopub.status.idle": "2023-12-07T23:41:12.798598Z",
     "shell.execute_reply": "2023-12-07T23:41:12.797926Z"
    },
    "papermill": {
     "duration": 0.012441,
     "end_time": "2023-12-07T23:41:12.800232",
     "exception": false,
     "start_time": "2023-12-07T23:41:12.787791",
     "status": "completed"
    },
    "tags": []
   },
   "outputs": [],
   "source": [
    "pd.DataFrame({\n",
    "  'orders': tickets.groupby('event_date').number_of_tickets.count(),\n",
    "  'tickets': tickets.groupby('event_date').number_of_tickets.sum().astype(int),\n",
    "}).resample('M').sum().to_csv(os.path.join(OUTPUT_DIR, 'tickets_by_event_date.csv'))"
   ]
  },
  {
   "cell_type": "code",
   "execution_count": 10,
   "id": "6a9d0807",
   "metadata": {
    "execution": {
     "iopub.execute_input": "2023-12-07T23:41:12.805842Z",
     "iopub.status.busy": "2023-12-07T23:41:12.805355Z",
     "iopub.status.idle": "2023-12-07T23:41:12.810635Z",
     "shell.execute_reply": "2023-12-07T23:41:12.810010Z"
    },
    "papermill": {
     "duration": 0.009533,
     "end_time": "2023-12-07T23:41:12.811957",
     "exception": false,
     "start_time": "2023-12-07T23:41:12.802424",
     "status": "completed"
    },
    "tags": []
   },
   "outputs": [],
   "source": [
    "pd.Series({\n",
    "    'total_events': events.event_unique_identifier.count(),\n",
    "    'total_attendances': events.attendances.count(),\n",
    "    'first_event': events.date.min(),\n",
    "    'latest_event': events.date.max(),\n",
    "    'total_ticket_orders_for_events_to_date': tickets.number_of_tickets.count(),\n",
    "    'total_tickets_sold_for_events_to_date': tickets.number_of_tickets.sum(),\n",
    "}).to_json(os.path.join(OUTPUT_DIR, 'headlines.json'), indent=2)"
   ]
  },
  {
   "cell_type": "code",
   "execution_count": null,
   "id": "da5acccd",
   "metadata": {
    "papermill": {
     "duration": 0.00202,
     "end_time": "2023-12-07T23:41:12.816131",
     "exception": false,
     "start_time": "2023-12-07T23:41:12.814111",
     "status": "completed"
    },
    "tags": []
   },
   "outputs": [],
   "source": []
  }
 ],
 "metadata": {
  "kernelspec": {
   "display_name": "leeds-2023-YZF5GfJv",
   "language": "python",
   "name": "python3"
  },
  "language_info": {
   "codemirror_mode": {
    "name": "ipython",
    "version": 3
   },
   "file_extension": ".py",
   "mimetype": "text/x-python",
   "name": "python",
   "nbconvert_exporter": "python",
   "pygments_lexer": "ipython3",
   "version": "3.10.13"
  },
  "papermill": {
   "default_parameters": {},
   "duration": 9.654427,
   "end_time": "2023-12-07T23:41:13.134383",
   "environment_variables": {},
   "exception": null,
   "input_path": "prepare.ipynb",
   "output_path": "../../../../working/output/signature-prepare.ipynb",
   "parameters": {},
   "start_time": "2023-12-07T23:41:03.479956",
   "version": "2.4.0"
  }
 },
 "nbformat": 4,
 "nbformat_minor": 5
}