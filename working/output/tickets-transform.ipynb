{
 "cells": [
  {
   "cell_type": "code",
   "execution_count": 1,
   "id": "71d38f3c",
   "metadata": {
    "execution": {
     "iopub.execute_input": "2023-12-28T23:39:03.802784Z",
     "iopub.status.busy": "2023-12-28T23:39:03.802483Z",
     "iopub.status.idle": "2023-12-28T23:39:04.041472Z",
     "shell.execute_reply": "2023-12-28T23:39:04.040792Z"
    },
    "papermill": {
     "duration": 0.244961,
     "end_time": "2023-12-28T23:39:04.043175",
     "exception": false,
     "start_time": "2023-12-28T23:39:03.798214",
     "status": "completed"
    },
    "tags": []
   },
   "outputs": [],
   "source": [
    "import sys\n",
    "from pathlib import Path\n",
    "\n",
    "import pandas as pd\n",
    "\n",
    "TOP_DIR = Path('../../../..').resolve()\n",
    "\n",
    "if str(TOP_DIR) not in sys.path: sys.path.append(str(TOP_DIR))"
   ]
  },
  {
   "cell_type": "code",
   "execution_count": 2,
   "id": "b4652fa8",
   "metadata": {
    "execution": {
     "iopub.execute_input": "2023-12-28T23:39:04.049460Z",
     "iopub.status.busy": "2023-12-28T23:39:04.049031Z",
     "iopub.status.idle": "2023-12-28T23:39:10.911203Z",
     "shell.execute_reply": "2023-12-28T23:39:10.910528Z"
    },
    "papermill": {
     "duration": 6.867036,
     "end_time": "2023-12-28T23:39:10.912923",
     "exception": false,
     "start_time": "2023-12-28T23:39:04.045887",
     "status": "completed"
    },
    "tags": []
   },
   "outputs": [],
   "source": [
    "from lib.util.geo import postcode_formatter, postcode_to_ward_code"
   ]
  },
  {
   "cell_type": "code",
   "execution_count": 3,
   "id": "5ee9fe2e",
   "metadata": {
    "execution": {
     "iopub.execute_input": "2023-12-28T23:39:10.919793Z",
     "iopub.status.busy": "2023-12-28T23:39:10.919309Z",
     "iopub.status.idle": "2023-12-28T23:39:10.941671Z",
     "shell.execute_reply": "2023-12-28T23:39:10.941151Z"
    },
    "papermill": {
     "duration": 0.027311,
     "end_time": "2023-12-28T23:39:10.943079",
     "exception": false,
     "start_time": "2023-12-28T23:39:10.915768",
     "status": "completed"
    },
    "tags": []
   },
   "outputs": [],
   "source": [
    "ticket_data = pd.read_csv(\n",
    "    '../../../../working/metrics/ticketing/orders.csv',\n",
    "    parse_dates=['created_at', 'event_date'],\n",
    "    usecols=[\n",
    "        'created_at',\n",
    "        'event_id',\n",
    "        'event_name',\n",
    "        'event_date',\n",
    "        'event_time',\n",
    "        'number_of_tickets',\n",
    "        'postcode_from_question',\n",
    "        'postcode_from_address',\n",
    "        'status',\n",
    "    ]\n",
    ")"
   ]
  },
  {
   "cell_type": "code",
   "execution_count": 4,
   "id": "cacc5eab",
   "metadata": {
    "execution": {
     "iopub.execute_input": "2023-12-28T23:39:10.949079Z",
     "iopub.status.busy": "2023-12-28T23:39:10.948630Z",
     "iopub.status.idle": "2023-12-28T23:39:10.957371Z",
     "shell.execute_reply": "2023-12-28T23:39:10.956824Z"
    },
    "papermill": {
     "duration": 0.013046,
     "end_time": "2023-12-28T23:39:10.958609",
     "exception": false,
     "start_time": "2023-12-28T23:39:10.945563",
     "status": "completed"
    },
    "tags": []
   },
   "outputs": [
    {
     "name": "stdout",
     "output_type": "stream",
     "text": [
      "<class 'pandas.core.frame.DataFrame'>\n",
      "RangeIndex: 7294 entries, 0 to 7293\n",
      "Data columns (total 9 columns):\n",
      " #   Column                  Non-Null Count  Dtype         \n",
      "---  ------                  --------------  -----         \n",
      " 0   postcode_from_question  6795 non-null   object        \n",
      " 1   postcode_from_address   872 non-null    object        \n",
      " 2   created_at              7294 non-null   datetime64[ns]\n",
      " 3   event_id                7294 non-null   object        \n",
      " 4   event_name              7294 non-null   object        \n",
      " 5   event_date              7294 non-null   datetime64[ns]\n",
      " 6   event_time              7294 non-null   object        \n",
      " 7   number_of_tickets       7294 non-null   int64         \n",
      " 8   status                  7294 non-null   object        \n",
      "dtypes: datetime64[ns](2), int64(1), object(6)\n",
      "memory usage: 513.0+ KB\n"
     ]
    }
   ],
   "source": [
    "ticket_data.info()"
   ]
  },
  {
   "cell_type": "code",
   "execution_count": 5,
   "id": "155f9947",
   "metadata": {
    "execution": {
     "iopub.execute_input": "2023-12-28T23:39:10.964787Z",
     "iopub.status.busy": "2023-12-28T23:39:10.964431Z",
     "iopub.status.idle": "2023-12-28T23:39:10.969352Z",
     "shell.execute_reply": "2023-12-28T23:39:10.968660Z"
    },
    "papermill": {
     "duration": 0.009368,
     "end_time": "2023-12-28T23:39:10.970602",
     "exception": false,
     "start_time": "2023-12-28T23:39:10.961234",
     "status": "completed"
    },
    "tags": []
   },
   "outputs": [],
   "source": [
    "completed_orders = (\n",
    "    ticket_data.loc[\n",
    "        ~ticket_data.status.isin(['cancelled']),\n",
    "        ticket_data.columns\n",
    "    ]\n",
    ")"
   ]
  },
  {
   "cell_type": "code",
   "execution_count": 6,
   "id": "83a305ef",
   "metadata": {
    "execution": {
     "iopub.execute_input": "2023-12-28T23:39:10.976576Z",
     "iopub.status.busy": "2023-12-28T23:39:10.976377Z",
     "iopub.status.idle": "2023-12-28T23:39:11.870352Z",
     "shell.execute_reply": "2023-12-28T23:39:11.869708Z"
    },
    "papermill": {
     "duration": 0.898843,
     "end_time": "2023-12-28T23:39:11.872017",
     "exception": false,
     "start_time": "2023-12-28T23:39:10.973174",
     "status": "completed"
    },
    "tags": []
   },
   "outputs": [],
   "source": [
    "completed_orders['ward_code'] = (\n",
    "    completed_orders\n",
    "        .loc[:, ['postcode_from_question', 'postcode_from_address']]\n",
    "        .bfill()\n",
    "        .iloc[:, 0]\n",
    "        .pipe(postcode_formatter)\n",
    "        .map(postcode_to_ward_code)\n",
    ")"
   ]
  },
  {
   "cell_type": "markdown",
   "id": "711ed49a",
   "metadata": {
    "papermill": {
     "duration": 0.002547,
     "end_time": "2023-12-28T23:39:11.878235",
     "exception": false,
     "start_time": "2023-12-28T23:39:11.875688",
     "status": "completed"
    },
    "tags": []
   },
   "source": [
    "Get the events data"
   ]
  },
  {
   "cell_type": "code",
   "execution_count": 7,
   "id": "5fa98d36",
   "metadata": {
    "execution": {
     "iopub.execute_input": "2023-12-28T23:39:11.884466Z",
     "iopub.status.busy": "2023-12-28T23:39:11.884124Z",
     "iopub.status.idle": "2023-12-28T23:39:11.900529Z",
     "shell.execute_reply": "2023-12-28T23:39:11.900015Z"
    },
    "papermill": {
     "duration": 0.021014,
     "end_time": "2023-12-28T23:39:11.901771",
     "exception": false,
     "start_time": "2023-12-28T23:39:11.880757",
     "status": "completed"
    },
    "tags": []
   },
   "outputs": [],
   "source": [
    "def prepare_events(data: pd.DataFrame):\n",
    "    data = data.rename(columns={\n",
    "        'Project name': 'project_name',\n",
    "        'Event type': 'event_type',\n",
    "        'Ticket Tailor ID': 'ticket_tailor_id'\n",
    "    })\n",
    "    data['public_event'] = data.event_type.str.contains('Public Event')\n",
    "    data['ticket_tailor_id'] = data.ticket_tailor_id.str.split(\n",
    "        pat=r'[\\s,]+', regex=True)\n",
    "    data = data.drop(columns=['event_type'])\n",
    "    data = data.explode('ticket_tailor_id')\n",
    "    data = data.loc[data.ticket_tailor_id.notna() & (data.ticket_tailor_id != '')]\n",
    "    return data\n",
    "\n",
    "\n",
    "events = pd.read_csv(\n",
    "    '../../../../working/metrics/events/all.csv',\n",
    "    usecols=[\n",
    "        'Project name',\n",
    "        'Event type',\n",
    "        'Ticket Tailor ID'\n",
    "    ]\n",
    ").pipe(prepare_events)"
   ]
  },
  {
   "cell_type": "markdown",
   "id": "205524a3",
   "metadata": {
    "papermill": {
     "duration": 0.00249,
     "end_time": "2023-12-28T23:39:11.906880",
     "exception": false,
     "start_time": "2023-12-28T23:39:11.904390",
     "status": "completed"
    },
    "tags": []
   },
   "source": [
    "Duplicated ticket tailor IDs"
   ]
  },
  {
   "cell_type": "code",
   "execution_count": 8,
   "id": "b4d1c82e",
   "metadata": {
    "execution": {
     "iopub.execute_input": "2023-12-28T23:39:11.912968Z",
     "iopub.status.busy": "2023-12-28T23:39:11.912613Z",
     "iopub.status.idle": "2023-12-28T23:39:11.923720Z",
     "shell.execute_reply": "2023-12-28T23:39:11.923081Z"
    },
    "papermill": {
     "duration": 0.015551,
     "end_time": "2023-12-28T23:39:11.924971",
     "exception": false,
     "start_time": "2023-12-28T23:39:11.909420",
     "status": "completed"
    },
    "tags": []
   },
   "outputs": [
    {
     "data": {
      "text/html": [
       "<div>\n",
       "<style scoped>\n",
       "    .dataframe tbody tr th:only-of-type {\n",
       "        vertical-align: middle;\n",
       "    }\n",
       "\n",
       "    .dataframe tbody tr th {\n",
       "        vertical-align: top;\n",
       "    }\n",
       "\n",
       "    .dataframe thead th {\n",
       "        text-align: right;\n",
       "    }\n",
       "</style>\n",
       "<table border=\"1\" class=\"dataframe\">\n",
       "  <thead>\n",
       "    <tr style=\"text-align: right;\">\n",
       "      <th></th>\n",
       "      <th>project_name</th>\n",
       "      <th>ticket_tailor_id</th>\n",
       "      <th>public_event</th>\n",
       "    </tr>\n",
       "  </thead>\n",
       "  <tbody>\n",
       "    <tr>\n",
       "      <th>127</th>\n",
       "      <td>11 - All That Lives</td>\n",
       "      <td>985872</td>\n",
       "      <td>True</td>\n",
       "    </tr>\n",
       "    <tr>\n",
       "      <th>147</th>\n",
       "      <td>09 - Smeaton300: Moon Palace East Leeds Observ...</td>\n",
       "      <td>ev_2918127</td>\n",
       "      <td>True</td>\n",
       "    </tr>\n",
       "    <tr>\n",
       "      <th>173</th>\n",
       "      <td>11 - All That Lives</td>\n",
       "      <td>985872</td>\n",
       "      <td>True</td>\n",
       "    </tr>\n",
       "    <tr>\n",
       "      <th>272</th>\n",
       "      <td>Creative Learning S3</td>\n",
       "      <td>ev_3073624</td>\n",
       "      <td>False</td>\n",
       "    </tr>\n",
       "    <tr>\n",
       "      <th>332</th>\n",
       "      <td>11 - All That Lives</td>\n",
       "      <td>985872</td>\n",
       "      <td>True</td>\n",
       "    </tr>\n",
       "    <tr>\n",
       "      <th>651</th>\n",
       "      <td>11 - All That Lives</td>\n",
       "      <td>985872</td>\n",
       "      <td>True</td>\n",
       "    </tr>\n",
       "    <tr>\n",
       "      <th>948</th>\n",
       "      <td>07 - Children's Day</td>\n",
       "      <td>ev_2963290</td>\n",
       "      <td>NaN</td>\n",
       "    </tr>\n",
       "    <tr>\n",
       "      <th>948</th>\n",
       "      <td>07 - Children's Day</td>\n",
       "      <td>ev_2963290</td>\n",
       "      <td>NaN</td>\n",
       "    </tr>\n",
       "    <tr>\n",
       "      <th>948</th>\n",
       "      <td>07 - Children's Day</td>\n",
       "      <td>ev_2963295</td>\n",
       "      <td>NaN</td>\n",
       "    </tr>\n",
       "    <tr>\n",
       "      <th>948</th>\n",
       "      <td>07 - Children's Day</td>\n",
       "      <td>ev_2963297</td>\n",
       "      <td>NaN</td>\n",
       "    </tr>\n",
       "    <tr>\n",
       "      <th>948</th>\n",
       "      <td>07 - Children's Day</td>\n",
       "      <td>ev_2963295</td>\n",
       "      <td>NaN</td>\n",
       "    </tr>\n",
       "    <tr>\n",
       "      <th>948</th>\n",
       "      <td>07 - Children's Day</td>\n",
       "      <td>ev_2963296</td>\n",
       "      <td>NaN</td>\n",
       "    </tr>\n",
       "    <tr>\n",
       "      <th>948</th>\n",
       "      <td>07 - Children's Day</td>\n",
       "      <td>ev_2963296</td>\n",
       "      <td>NaN</td>\n",
       "    </tr>\n",
       "    <tr>\n",
       "      <th>948</th>\n",
       "      <td>07 - Children's Day</td>\n",
       "      <td>ev_2963297</td>\n",
       "      <td>NaN</td>\n",
       "    </tr>\n",
       "    <tr>\n",
       "      <th>992</th>\n",
       "      <td>11 - All That Lives</td>\n",
       "      <td>985872</td>\n",
       "      <td>True</td>\n",
       "    </tr>\n",
       "    <tr>\n",
       "      <th>1172</th>\n",
       "      <td>09 - Smeaton300: Moon Palace East Leeds Observ...</td>\n",
       "      <td>ev_2918127</td>\n",
       "      <td>True</td>\n",
       "    </tr>\n",
       "    <tr>\n",
       "      <th>1462</th>\n",
       "      <td>07 - Children's Day</td>\n",
       "      <td>ev_2963290</td>\n",
       "      <td>True</td>\n",
       "    </tr>\n",
       "    <tr>\n",
       "      <th>1462</th>\n",
       "      <td>07 - Children's Day</td>\n",
       "      <td>ev_2963295</td>\n",
       "      <td>True</td>\n",
       "    </tr>\n",
       "    <tr>\n",
       "      <th>1462</th>\n",
       "      <td>07 - Children's Day</td>\n",
       "      <td>ev_2963296</td>\n",
       "      <td>True</td>\n",
       "    </tr>\n",
       "    <tr>\n",
       "      <th>1462</th>\n",
       "      <td>07 - Children's Day</td>\n",
       "      <td>ev_2963297</td>\n",
       "      <td>True</td>\n",
       "    </tr>\n",
       "    <tr>\n",
       "      <th>1482</th>\n",
       "      <td>09 - Smeaton300: Moon Palace East Leeds Observ...</td>\n",
       "      <td>ev_2918127</td>\n",
       "      <td>True</td>\n",
       "    </tr>\n",
       "    <tr>\n",
       "      <th>1567</th>\n",
       "      <td>Creative Learning S3</td>\n",
       "      <td>ev_3073624</td>\n",
       "      <td>False</td>\n",
       "    </tr>\n",
       "  </tbody>\n",
       "</table>\n",
       "</div>"
      ],
      "text/plain": [
       "                                           project_name ticket_tailor_id  \\\n",
       "127                                 11 - All That Lives           985872   \n",
       "147   09 - Smeaton300: Moon Palace East Leeds Observ...       ev_2918127   \n",
       "173                                 11 - All That Lives           985872   \n",
       "272                                Creative Learning S3       ev_3073624   \n",
       "332                                 11 - All That Lives           985872   \n",
       "651                                 11 - All That Lives           985872   \n",
       "948                                 07 - Children's Day       ev_2963290   \n",
       "948                                 07 - Children's Day       ev_2963290   \n",
       "948                                 07 - Children's Day       ev_2963295   \n",
       "948                                 07 - Children's Day       ev_2963297   \n",
       "948                                 07 - Children's Day       ev_2963295   \n",
       "948                                 07 - Children's Day       ev_2963296   \n",
       "948                                 07 - Children's Day       ev_2963296   \n",
       "948                                 07 - Children's Day       ev_2963297   \n",
       "992                                 11 - All That Lives           985872   \n",
       "1172  09 - Smeaton300: Moon Palace East Leeds Observ...       ev_2918127   \n",
       "1462                                07 - Children's Day       ev_2963290   \n",
       "1462                                07 - Children's Day       ev_2963295   \n",
       "1462                                07 - Children's Day       ev_2963296   \n",
       "1462                                07 - Children's Day       ev_2963297   \n",
       "1482  09 - Smeaton300: Moon Palace East Leeds Observ...       ev_2918127   \n",
       "1567                               Creative Learning S3       ev_3073624   \n",
       "\n",
       "     public_event  \n",
       "127          True  \n",
       "147          True  \n",
       "173          True  \n",
       "272         False  \n",
       "332          True  \n",
       "651          True  \n",
       "948           NaN  \n",
       "948           NaN  \n",
       "948           NaN  \n",
       "948           NaN  \n",
       "948           NaN  \n",
       "948           NaN  \n",
       "948           NaN  \n",
       "948           NaN  \n",
       "992          True  \n",
       "1172         True  \n",
       "1462         True  \n",
       "1462         True  \n",
       "1462         True  \n",
       "1462         True  \n",
       "1482         True  \n",
       "1567        False  "
      ]
     },
     "execution_count": 8,
     "metadata": {},
     "output_type": "execute_result"
    }
   ],
   "source": [
    "events[\n",
    "  events.ticket_tailor_id.isin(\n",
    "    events.ticket_tailor_id[\n",
    "      events.ticket_tailor_id.duplicated()\n",
    "    ].to_list()\n",
    "  )\n",
    "]"
   ]
  },
  {
   "cell_type": "code",
   "execution_count": 9,
   "id": "23cb59f7",
   "metadata": {
    "execution": {
     "iopub.execute_input": "2023-12-28T23:39:11.931730Z",
     "iopub.status.busy": "2023-12-28T23:39:11.931281Z",
     "iopub.status.idle": "2023-12-28T23:39:11.935177Z",
     "shell.execute_reply": "2023-12-28T23:39:11.934601Z"
    },
    "papermill": {
     "duration": 0.008579,
     "end_time": "2023-12-28T23:39:11.936457",
     "exception": false,
     "start_time": "2023-12-28T23:39:11.927878",
     "status": "completed"
    },
    "tags": []
   },
   "outputs": [
    {
     "data": {
      "text/plain": [
       "7085"
      ]
     },
     "execution_count": 9,
     "metadata": {},
     "output_type": "execute_result"
    }
   ],
   "source": [
    "len(completed_orders)"
   ]
  },
  {
   "cell_type": "code",
   "execution_count": 10,
   "id": "866430a7",
   "metadata": {
    "execution": {
     "iopub.execute_input": "2023-12-28T23:39:11.943441Z",
     "iopub.status.busy": "2023-12-28T23:39:11.943040Z",
     "iopub.status.idle": "2023-12-28T23:39:11.957170Z",
     "shell.execute_reply": "2023-12-28T23:39:11.956683Z"
    },
    "papermill": {
     "duration": 0.019053,
     "end_time": "2023-12-28T23:39:11.958500",
     "exception": false,
     "start_time": "2023-12-28T23:39:11.939447",
     "status": "completed"
    },
    "tags": []
   },
   "outputs": [],
   "source": [
    "completed_orders = completed_orders.merge(\n",
    "    events.drop_duplicates().set_index('ticket_tailor_id'),\n",
    "    left_on='event_id',\n",
    "    right_index=True,\n",
    "    how='left'\n",
    ")\n",
    "completed_orders['event_datetime'] = pd.to_datetime(completed_orders.event_date.astype(str) + 'T' + completed_orders.event_time)\n"
   ]
  },
  {
   "cell_type": "code",
   "execution_count": 11,
   "id": "c6e3b5fb",
   "metadata": {
    "execution": {
     "iopub.execute_input": "2023-12-28T23:39:11.965410Z",
     "iopub.status.busy": "2023-12-28T23:39:11.965045Z",
     "iopub.status.idle": "2023-12-28T23:39:11.969081Z",
     "shell.execute_reply": "2023-12-28T23:39:11.968556Z"
    },
    "papermill": {
     "duration": 0.008889,
     "end_time": "2023-12-28T23:39:11.970410",
     "exception": false,
     "start_time": "2023-12-28T23:39:11.961521",
     "status": "completed"
    },
    "tags": []
   },
   "outputs": [
    {
     "data": {
      "text/plain": [
       "7093"
      ]
     },
     "execution_count": 11,
     "metadata": {},
     "output_type": "execute_result"
    }
   ],
   "source": [
    "len(completed_orders)"
   ]
  },
  {
   "cell_type": "code",
   "execution_count": 12,
   "id": "c15b3492",
   "metadata": {
    "execution": {
     "iopub.execute_input": "2023-12-28T23:39:11.977544Z",
     "iopub.status.busy": "2023-12-28T23:39:11.977187Z",
     "iopub.status.idle": "2023-12-28T23:39:11.980371Z",
     "shell.execute_reply": "2023-12-28T23:39:11.979848Z"
    },
    "papermill": {
     "duration": 0.008153,
     "end_time": "2023-12-28T23:39:11.981651",
     "exception": false,
     "start_time": "2023-12-28T23:39:11.973498",
     "status": "completed"
    },
    "tags": []
   },
   "outputs": [],
   "source": [
    "OUTPUT_DIR = TOP_DIR.joinpath('data/metrics/events/tickets/')\n",
    "OUTPUT_DIR.mkdir(parents=True, exist_ok=True)"
   ]
  },
  {
   "cell_type": "code",
   "execution_count": 13,
   "id": "57b2245d",
   "metadata": {
    "execution": {
     "iopub.execute_input": "2023-12-28T23:39:11.988965Z",
     "iopub.status.busy": "2023-12-28T23:39:11.988604Z",
     "iopub.status.idle": "2023-12-28T23:39:12.025000Z",
     "shell.execute_reply": "2023-12-28T23:39:12.024522Z"
    },
    "papermill": {
     "duration": 0.04136,
     "end_time": "2023-12-28T23:39:12.026266",
     "exception": false,
     "start_time": "2023-12-28T23:39:11.984906",
     "status": "completed"
    },
    "tags": []
   },
   "outputs": [],
   "source": [
    "completed_orders.loc[:, [\n",
    "    'created_at',\n",
    "    'event_id',\n",
    "    'event_date',\n",
    "    'event_datetime',\n",
    "    'number_of_tickets',\n",
    "    'ward_code',\n",
    "    'project_name',\n",
    "    'public_event',\n",
    "]].sort_values(['created_at', 'event_id']).to_csv(\n",
    "  OUTPUT_DIR.joinpath('orders.csv'),\n",
    "  index=False\n",
    ")"
   ]
  },
  {
   "cell_type": "code",
   "execution_count": 14,
   "id": "cf02e700",
   "metadata": {
    "execution": {
     "iopub.execute_input": "2023-12-28T23:39:12.033508Z",
     "iopub.status.busy": "2023-12-28T23:39:12.033146Z",
     "iopub.status.idle": "2023-12-28T23:39:12.041720Z",
     "shell.execute_reply": "2023-12-28T23:39:12.041236Z"
    },
    "papermill": {
     "duration": 0.013598,
     "end_time": "2023-12-28T23:39:12.042982",
     "exception": false,
     "start_time": "2023-12-28T23:39:12.029384",
     "status": "completed"
    },
    "tags": []
   },
   "outputs": [],
   "source": [
    "(\n",
    "    completed_orders.loc[:, ['event_date', 'event_time', 'event_name', 'event_id', 'project_name', 'public_event']]\n",
    "      .drop_duplicates()\n",
    "      .sort_values(['event_date', 'event_time'])\n",
    "      .to_csv('../../../../data/metrics/events/tickets/events.csv', index=False)\n",
    ")"
   ]
  },
  {
   "cell_type": "code",
   "execution_count": 15,
   "id": "d83d206e",
   "metadata": {
    "execution": {
     "iopub.execute_input": "2023-12-28T23:39:12.050132Z",
     "iopub.status.busy": "2023-12-28T23:39:12.049905Z",
     "iopub.status.idle": "2023-12-28T23:39:12.762075Z",
     "shell.execute_reply": "2023-12-28T23:39:12.761421Z"
    },
    "papermill": {
     "duration": 0.717446,
     "end_time": "2023-12-28T23:39:12.763559",
     "exception": false,
     "start_time": "2023-12-28T23:39:12.046113",
     "status": "completed"
    },
    "tags": []
   },
   "outputs": [
    {
     "data": {
      "image/png": "[encoded data removed]",
      "text/plain": [
       "<Figure size 640x480 with 1 Axes>"
      ]
     },
     "metadata": {},
     "output_type": "display_data"
    }
   ],
   "source": [
    "chart = completed_orders.groupby(['project_name']).number_of_tickets.sum().sort_values().plot.barh()"
   ]
  },
  {
   "cell_type": "code",
   "execution_count": 16,
   "id": "f88b679f",
   "metadata": {
    "execution": {
     "iopub.execute_input": "2023-12-28T23:39:12.772571Z",
     "iopub.status.busy": "2023-12-28T23:39:12.772002Z",
     "iopub.status.idle": "2023-12-28T23:39:12.953852Z",
     "shell.execute_reply": "2023-12-28T23:39:12.953307Z"
    },
    "papermill": {
     "duration": 0.187675,
     "end_time": "2023-12-28T23:39:12.955229",
     "exception": false,
     "start_time": "2023-12-28T23:39:12.767554",
     "status": "completed"
    },
    "tags": []
   },
   "outputs": [
    {
     "data": {
      "image/png": "[encoded data removed]",
      "text/plain": [
       "<Figure size 640x480 with 1 Axes>"
      ]
     },
     "metadata": {},
     "output_type": "display_data"
    }
   ],
   "source": [
    "chart = completed_orders.groupby([\n",
    "    'event_date'\n",
    "    ]).number_of_tickets.sum().resample('M').sum().cumsum().plot.bar()"
   ]
  },
  {
   "cell_type": "code",
   "execution_count": null,
   "id": "f3ccac5e",
   "metadata": {
    "papermill": {
     "duration": 0.004099,
     "end_time": "2023-12-28T23:39:12.963542",
     "exception": false,
     "start_time": "2023-12-28T23:39:12.959443",
     "status": "completed"
    },
    "tags": []
   },
   "outputs": [],
   "source": []
  }
 ],
 "metadata": {
  "kernelspec": {
   "display_name": "leeds-2023-YZF5GfJv",
   "language": "python",
   "name": "python3"
  },
  "language_info": {
   "codemirror_mode": {
    "name": "ipython",
    "version": 3
   },
   "file_extension": ".py",
   "mimetype": "text/x-python",
   "name": "python",
   "nbconvert_exporter": "python",
   "pygments_lexer": "ipython3",
   "version": "3.10.13"
  },
  "papermill": {
   "default_parameters": {},
   "duration": 10.858241,
   "end_time": "2023-12-28T23:39:13.283352",
   "environment_variables": {},
   "exception": null,
   "input_path": "tickets.ipynb",
   "output_path": "../../../../working/output/tickets-transform.ipynb",
   "parameters": {},
   "start_time": "2023-12-28T23:39:02.425111",
   "version": "2.4.0"
  }
 },
 "nbformat": 4,
 "nbformat_minor": 5
}