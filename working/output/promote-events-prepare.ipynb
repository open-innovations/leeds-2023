{
 "cells": [
  {
   "cell_type": "code",
   "execution_count": 1,
   "id": "e80a4a13",
   "metadata": {
    "execution": {
     "iopub.execute_input": "2023-09-11T23:40:02.010525Z",
     "iopub.status.busy": "2023-09-11T23:40:02.009783Z",
     "iopub.status.idle": "2023-09-11T23:40:02.275004Z",
     "shell.execute_reply": "2023-09-11T23:40:02.274259Z"
    },
    "papermill": {
     "duration": 0.271719,
     "end_time": "2023-09-11T23:40:02.277474",
     "exception": false,
     "start_time": "2023-09-11T23:40:02.005755",
     "status": "completed"
    },
    "tags": []
   },
   "outputs": [],
   "source": [
    "import os\n",
    "import pandas as pd"
   ]
  },
  {
   "cell_type": "code",
   "execution_count": 2,
   "id": "4d2e103f",
   "metadata": {
    "execution": {
     "iopub.execute_input": "2023-09-11T23:40:02.283229Z",
     "iopub.status.busy": "2023-09-11T23:40:02.282548Z",
     "iopub.status.idle": "2023-09-11T23:40:02.287755Z",
     "shell.execute_reply": "2023-09-11T23:40:02.287049Z"
    },
    "papermill": {
     "duration": 0.009623,
     "end_time": "2023-09-11T23:40:02.289338",
     "exception": false,
     "start_time": "2023-09-11T23:40:02.279715",
     "status": "completed"
    },
    "tags": []
   },
   "outputs": [],
   "source": [
    "DATA_DIR='../../../docs/metrics/events/promote/_data/'\n",
    "os.makedirs(DATA_DIR, exist_ok=True)"
   ]
  },
  {
   "cell_type": "code",
   "execution_count": 3,
   "id": "a3d6e8ed",
   "metadata": {
    "execution": {
     "iopub.execute_input": "2023-09-11T23:40:02.294142Z",
     "iopub.status.busy": "2023-09-11T23:40:02.293705Z",
     "iopub.status.idle": "2023-09-11T23:40:02.302789Z",
     "shell.execute_reply": "2023-09-11T23:40:02.302184Z"
    },
    "papermill": {
     "duration": 0.013343,
     "end_time": "2023-09-11T23:40:02.304487",
     "exception": false,
     "start_time": "2023-09-11T23:40:02.291144",
     "status": "completed"
    },
    "tags": []
   },
   "outputs": [],
   "source": [
    "data = pd.read_csv('../../../data/metrics/events/promote-events/events.csv', parse_dates=['time'])"
   ]
  },
  {
   "cell_type": "code",
   "execution_count": 4,
   "id": "2256bd07",
   "metadata": {
    "execution": {
     "iopub.execute_input": "2023-09-11T23:40:02.309427Z",
     "iopub.status.busy": "2023-09-11T23:40:02.308990Z",
     "iopub.status.idle": "2023-09-11T23:40:02.314475Z",
     "shell.execute_reply": "2023-09-11T23:40:02.313794Z"
    },
    "papermill": {
     "duration": 0.00984,
     "end_time": "2023-09-11T23:40:02.316160",
     "exception": false,
     "start_time": "2023-09-11T23:40:02.306320",
     "status": "completed"
    },
    "tags": []
   },
   "outputs": [],
   "source": [
    "pd.Series({\n",
    "    'total_events': len(data.id.unique()),\n",
    "    'total_event_instances': len(data.time),\n",
    "    'earliest_event': data.time.min(),\n",
    "    'latest_event': data.time.max(),\n",
    "}).to_json(\n",
    "    os.path.join(DATA_DIR, 'headlines.json'),\n",
    "    date_format='iso', indent=2\n",
    ")"
   ]
  },
  {
   "cell_type": "code",
   "execution_count": 5,
   "id": "2f14c905",
   "metadata": {
    "execution": {
     "iopub.execute_input": "2023-09-11T23:40:02.321048Z",
     "iopub.status.busy": "2023-09-11T23:40:02.320616Z",
     "iopub.status.idle": "2023-09-11T23:40:02.329204Z",
     "shell.execute_reply": "2023-09-11T23:40:02.328481Z"
    },
    "papermill": {
     "duration": 0.013325,
     "end_time": "2023-09-11T23:40:02.331332",
     "exception": false,
     "start_time": "2023-09-11T23:40:02.318007",
     "status": "completed"
    },
    "tags": []
   },
   "outputs": [],
   "source": [
    "events = pd.DataFrame({\n",
    "    'events': data.groupby('id').agg({ 'time': 'min' }).reset_index().groupby('time').id.count(),\n",
    "    'event_instances': data.groupby('time').id.count(),\n",
    "}).fillna(0).astype(int)"
   ]
  },
  {
   "cell_type": "code",
   "execution_count": 6,
   "id": "962a5bd0",
   "metadata": {
    "execution": {
     "iopub.execute_input": "2023-09-11T23:40:02.336496Z",
     "iopub.status.busy": "2023-09-11T23:40:02.335919Z",
     "iopub.status.idle": "2023-09-11T23:40:02.339636Z",
     "shell.execute_reply": "2023-09-11T23:40:02.338959Z"
    },
    "papermill": {
     "duration": 0.00798,
     "end_time": "2023-09-11T23:40:02.341240",
     "exception": false,
     "start_time": "2023-09-11T23:40:02.333260",
     "status": "completed"
    },
    "tags": []
   },
   "outputs": [],
   "source": [
    "def cumulate(data):\n",
    "    return pd.concat([\n",
    "        data,\n",
    "        data.cumsum().rename(columns=lambda c: f'cumulative_{c}')\n",
    "    ], axis=1)"
   ]
  },
  {
   "cell_type": "code",
   "execution_count": 7,
   "id": "d1b194ee",
   "metadata": {
    "execution": {
     "iopub.execute_input": "2023-09-11T23:40:02.346406Z",
     "iopub.status.busy": "2023-09-11T23:40:02.345857Z",
     "iopub.status.idle": "2023-09-11T23:40:02.356082Z",
     "shell.execute_reply": "2023-09-11T23:40:02.355473Z"
    },
    "papermill": {
     "duration": 0.01452,
     "end_time": "2023-09-11T23:40:02.357702",
     "exception": false,
     "start_time": "2023-09-11T23:40:02.343182",
     "status": "completed"
    },
    "tags": []
   },
   "outputs": [],
   "source": [
    "events.resample('W-FRI').sum().pipe(cumulate).to_csv(os.path.join(DATA_DIR, 'by_week.csv'))"
   ]
  },
  {
   "cell_type": "code",
   "execution_count": 8,
   "id": "909de8d8",
   "metadata": {
    "execution": {
     "iopub.execute_input": "2023-09-11T23:40:02.363065Z",
     "iopub.status.busy": "2023-09-11T23:40:02.362496Z",
     "iopub.status.idle": "2023-09-11T23:40:02.368903Z",
     "shell.execute_reply": "2023-09-11T23:40:02.368244Z"
    },
    "papermill": {
     "duration": 0.010748,
     "end_time": "2023-09-11T23:40:02.370508",
     "exception": false,
     "start_time": "2023-09-11T23:40:02.359760",
     "status": "completed"
    },
    "tags": []
   },
   "outputs": [],
   "source": [
    "events.resample('MS').sum().pipe(cumulate).to_csv(os.path.join(DATA_DIR, 'by_month.csv'))"
   ]
  },
  {
   "cell_type": "code",
   "execution_count": null,
   "id": "c88882e0",
   "metadata": {
    "papermill": {
     "duration": 0.001964,
     "end_time": "2023-09-11T23:40:02.374518",
     "exception": false,
     "start_time": "2023-09-11T23:40:02.372554",
     "status": "completed"
    },
    "tags": []
   },
   "outputs": [],
   "source": []
  }
 ],
 "metadata": {
  "kernelspec": {
   "display_name": "leeds-2023-YZF5GfJv",
   "language": "python",
   "name": "python3"
  },
  "language_info": {
   "codemirror_mode": {
    "name": "ipython",
    "version": 3
   },
   "file_extension": ".py",
   "mimetype": "text/x-python",
   "name": "python",
   "nbconvert_exporter": "python",
   "pygments_lexer": "ipython3",
   "version": "3.10.13"
  },
  "papermill": {
   "default_parameters": {},
   "duration": 1.958854,
   "end_time": "2023-09-11T23:40:02.593548",
   "environment_variables": {},
   "exception": null,
   "input_path": "prepare.ipynb",
   "output_path": "../../../working/output/promote-events-prepare.ipynb",
   "parameters": {},
   "start_time": "2023-09-11T23:40:00.634694",
   "version": "2.4.0"
  }
 },
 "nbformat": 4,
 "nbformat_minor": 5
}