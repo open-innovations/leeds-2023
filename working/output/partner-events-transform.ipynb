{
 "cells": [
  {
   "cell_type": "code",
   "execution_count": 1,
   "id": "862db39e",
   "metadata": {
    "execution": {
     "iopub.execute_input": "2023-10-22T23:37:14.389752Z",
     "iopub.status.busy": "2023-10-22T23:37:14.389092Z",
     "iopub.status.idle": "2023-10-22T23:37:14.643051Z",
     "shell.execute_reply": "2023-10-22T23:37:14.642369Z"
    },
    "papermill": {
     "duration": 0.260324,
     "end_time": "2023-10-22T23:37:14.644850",
     "exception": false,
     "start_time": "2023-10-22T23:37:14.384526",
     "status": "completed"
    },
    "tags": []
   },
   "outputs": [],
   "source": [
    "import os\n",
    "import sys\n",
    "import pandas as pd\n",
    "lib_dir = os.path.realpath('../../../lib/')\n",
    "if lib_dir not in sys.path: sys.path.append(lib_dir)"
   ]
  },
  {
   "cell_type": "code",
   "execution_count": 2,
   "id": "ff61d139",
   "metadata": {
    "execution": {
     "iopub.execute_input": "2023-10-22T23:37:14.651659Z",
     "iopub.status.busy": "2023-10-22T23:37:14.651363Z",
     "iopub.status.idle": "2023-10-22T23:37:24.691504Z",
     "shell.execute_reply": "2023-10-22T23:37:24.690830Z"
    },
    "papermill": {
     "duration": 10.045376,
     "end_time": "2023-10-22T23:37:24.693214",
     "exception": false,
     "start_time": "2023-10-22T23:37:14.647838",
     "status": "completed"
    },
    "tags": []
   },
   "outputs": [],
   "source": [
    "import util.geo"
   ]
  },
  {
   "cell_type": "code",
   "execution_count": 3,
   "id": "dc8afca3",
   "metadata": {
    "execution": {
     "iopub.execute_input": "2023-10-22T23:37:24.700472Z",
     "iopub.status.busy": "2023-10-22T23:37:24.700017Z",
     "iopub.status.idle": "2023-10-22T23:37:24.704118Z",
     "shell.execute_reply": "2023-10-22T23:37:24.703465Z"
    },
    "papermill": {
     "duration": 0.009523,
     "end_time": "2023-10-22T23:37:24.705710",
     "exception": false,
     "start_time": "2023-10-22T23:37:24.696187",
     "status": "completed"
    },
    "tags": []
   },
   "outputs": [],
   "source": [
    "EVENTS_RAW_DATA = '../../../working/metrics/partner-events/events.csv'\n",
    "DATA_DIR = '../../../data/metrics/events/partner-events/'\n",
    "EVENTS_DATA = os.path.join(DATA_DIR, 'events.csv')"
   ]
  },
  {
   "cell_type": "code",
   "execution_count": 4,
   "id": "db55a241",
   "metadata": {
    "execution": {
     "iopub.execute_input": "2023-10-22T23:37:24.712066Z",
     "iopub.status.busy": "2023-10-22T23:37:24.711656Z",
     "iopub.status.idle": "2023-10-22T23:37:24.715323Z",
     "shell.execute_reply": "2023-10-22T23:37:24.714662Z"
    },
    "papermill": {
     "duration": 0.008651,
     "end_time": "2023-10-22T23:37:24.717016",
     "exception": false,
     "start_time": "2023-10-22T23:37:24.708365",
     "status": "completed"
    },
    "tags": []
   },
   "outputs": [],
   "source": [
    "columns = {\n",
    "    'Event Name': 'name',\n",
    "    'Event Start Date': 'start_date',\n",
    "    'Event End Date': 'end_date',\n",
    "    'Partner/Promote': 'partner_promote',\n",
    "    'Stage': 'stage',\n",
    "    'Live date': 'live_date',\n",
    "    'Venue postcode': 'postcode',\n",
    "    'Pricing Policy': 'pricing',\n",
    "    'Venue - including address': 'venue',\n",
    "    'Is this event on Leeds Inspried?': 'on_leeds_inspired',\n",
    "}"
   ]
  },
  {
   "cell_type": "markdown",
   "id": "1fc5bba6",
   "metadata": {
    "papermill": {
     "duration": 0.00263,
     "end_time": "2023-10-22T23:37:24.722261",
     "exception": false,
     "start_time": "2023-10-22T23:37:24.719631",
     "status": "completed"
    },
    "tags": []
   },
   "source": [
    "Load the data and rename columns. Parse the dates to dates."
   ]
  },
  {
   "cell_type": "code",
   "execution_count": 5,
   "id": "afb37252",
   "metadata": {
    "execution": {
     "iopub.execute_input": "2023-10-22T23:37:24.728584Z",
     "iopub.status.busy": "2023-10-22T23:37:24.728163Z",
     "iopub.status.idle": "2023-10-22T23:37:24.738798Z",
     "shell.execute_reply": "2023-10-22T23:37:24.738226Z"
    },
    "papermill": {
     "duration": 0.01555,
     "end_time": "2023-10-22T23:37:24.740408",
     "exception": false,
     "start_time": "2023-10-22T23:37:24.724858",
     "status": "completed"
    },
    "tags": []
   },
   "outputs": [],
   "source": [
    "data = pd.read_csv(EVENTS_RAW_DATA)[columns.keys()].rename(columns=columns)\n",
    "data.start_date = pd.to_datetime(data.start_date, errors='coerce')\n",
    "data.end_date = pd.to_datetime(data.end_date, errors='coerce')"
   ]
  },
  {
   "cell_type": "markdown",
   "id": "b68216e7",
   "metadata": {
    "papermill": {
     "duration": 0.002584,
     "end_time": "2023-10-22T23:37:24.745659",
     "exception": false,
     "start_time": "2023-10-22T23:37:24.743075",
     "status": "completed"
    },
    "tags": []
   },
   "source": [
    "Filter data by not LI Pull through and start date before now"
   ]
  },
  {
   "cell_type": "code",
   "execution_count": 6,
   "id": "f5322206",
   "metadata": {
    "execution": {
     "iopub.execute_input": "2023-10-22T23:37:24.753147Z",
     "iopub.status.busy": "2023-10-22T23:37:24.752576Z",
     "iopub.status.idle": "2023-10-22T23:37:24.757686Z",
     "shell.execute_reply": "2023-10-22T23:37:24.757111Z"
    },
    "papermill": {
     "duration": 0.010011,
     "end_time": "2023-10-22T23:37:24.759149",
     "exception": false,
     "start_time": "2023-10-22T23:37:24.749138",
     "status": "completed"
    },
    "tags": []
   },
   "outputs": [],
   "source": [
    "data = data[\n",
    "    # (data.live_date == 'This event is live ') &\n",
    "    ((data.stage != 'LI pull through') & data.stage.notna()) &\n",
    "    (data.start_date < pd.Timestamp.now())\n",
    "]"
   ]
  },
  {
   "cell_type": "code",
   "execution_count": 7,
   "id": "60941cda",
   "metadata": {
    "execution": {
     "iopub.execute_input": "2023-10-22T23:37:24.766510Z",
     "iopub.status.busy": "2023-10-22T23:37:24.765241Z",
     "iopub.status.idle": "2023-10-22T23:37:25.725835Z",
     "shell.execute_reply": "2023-10-22T23:37:25.725188Z"
    },
    "papermill": {
     "duration": 0.966277,
     "end_time": "2023-10-22T23:37:25.728074",
     "exception": false,
     "start_time": "2023-10-22T23:37:24.761797",
     "status": "completed"
    },
    "tags": []
   },
   "outputs": [],
   "source": [
    "data['ward_code'] = data.postcode.pipe(util.geo.postcode_formatter).map(util.geo.postcode_to_ward_code)\n",
    "data['ward_name'] = data.ward_code.pipe(util.geo.ward_code_to_name)"
   ]
  },
  {
   "cell_type": "markdown",
   "id": "dcbba6d0",
   "metadata": {
    "papermill": {
     "duration": 0.00286,
     "end_time": "2023-10-22T23:37:25.733968",
     "exception": false,
     "start_time": "2023-10-22T23:37:25.731108",
     "status": "completed"
    },
    "tags": []
   },
   "source": [
    "Save the file"
   ]
  },
  {
   "cell_type": "code",
   "execution_count": 8,
   "id": "bc6d97cf",
   "metadata": {
    "execution": {
     "iopub.execute_input": "2023-10-22T23:37:25.740577Z",
     "iopub.status.busy": "2023-10-22T23:37:25.740256Z",
     "iopub.status.idle": "2023-10-22T23:37:25.746596Z",
     "shell.execute_reply": "2023-10-22T23:37:25.746016Z"
    },
    "papermill": {
     "duration": 0.011388,
     "end_time": "2023-10-22T23:37:25.748080",
     "exception": false,
     "start_time": "2023-10-22T23:37:25.736692",
     "status": "completed"
    },
    "tags": []
   },
   "outputs": [],
   "source": [
    "data[\n",
    "    ['name','start_date','end_date','ward_code']\n",
    "].to_csv(EVENTS_DATA, index=False)"
   ]
  },
  {
   "cell_type": "markdown",
   "id": "949b9fd0",
   "metadata": {
    "papermill": {
     "duration": 0.002722,
     "end_time": "2023-10-22T23:37:25.753568",
     "exception": false,
     "start_time": "2023-10-22T23:37:25.750846",
     "status": "completed"
    },
    "tags": []
   },
   "source": [
    "Print out missing postcode data"
   ]
  },
  {
   "cell_type": "code",
   "execution_count": 9,
   "id": "892b85f1",
   "metadata": {
    "execution": {
     "iopub.execute_input": "2023-10-22T23:37:25.760243Z",
     "iopub.status.busy": "2023-10-22T23:37:25.759828Z",
     "iopub.status.idle": "2023-10-22T23:37:25.772885Z",
     "shell.execute_reply": "2023-10-22T23:37:25.772255Z"
    },
    "papermill": {
     "duration": 0.018232,
     "end_time": "2023-10-22T23:37:25.774599",
     "exception": false,
     "start_time": "2023-10-22T23:37:25.756367",
     "status": "completed"
    },
    "tags": []
   },
   "outputs": [
    {
     "data": {
      "text/html": [
       "<div>\n",
       "<style scoped>\n",
       "    .dataframe tbody tr th:only-of-type {\n",
       "        vertical-align: middle;\n",
       "    }\n",
       "\n",
       "    .dataframe tbody tr th {\n",
       "        vertical-align: top;\n",
       "    }\n",
       "\n",
       "    .dataframe thead th {\n",
       "        text-align: right;\n",
       "    }\n",
       "</style>\n",
       "<table border=\"1\" class=\"dataframe\">\n",
       "  <thead>\n",
       "    <tr style=\"text-align: right;\">\n",
       "      <th></th>\n",
       "      <th>name</th>\n",
       "      <th>start_date</th>\n",
       "    </tr>\n",
       "  </thead>\n",
       "  <tbody>\n",
       "    <tr>\n",
       "      <th>1</th>\n",
       "      <td>East Street Arts, A City Less Grey 2022</td>\n",
       "      <td>2022-10-08</td>\n",
       "    </tr>\n",
       "    <tr>\n",
       "      <th>3</th>\n",
       "      <td>Phoenix Dance Theatre Virtual Gallery</td>\n",
       "      <td>2023-01-01</td>\n",
       "    </tr>\n",
       "    <tr>\n",
       "      <th>4</th>\n",
       "      <td>The Big Art Giveaway, School of Creative Arts ...</td>\n",
       "      <td>2023-01-01</td>\n",
       "    </tr>\n",
       "    <tr>\n",
       "      <th>5</th>\n",
       "      <td>Embassy of Netherlands, Meet Leeds Lab</td>\n",
       "      <td>2023-01-16</td>\n",
       "    </tr>\n",
       "    <tr>\n",
       "      <th>6</th>\n",
       "      <td>Shifting Borders: A Journey to the Centre of o...</td>\n",
       "      <td>2023-01-24</td>\n",
       "    </tr>\n",
       "    <tr>\n",
       "      <th>...</th>\n",
       "      <td>...</td>\n",
       "      <td>...</td>\n",
       "    </tr>\n",
       "    <tr>\n",
       "      <th>231</th>\n",
       "      <td>And She Built a Crooked House</td>\n",
       "      <td>2023-10-20</td>\n",
       "    </tr>\n",
       "    <tr>\n",
       "      <th>232</th>\n",
       "      <td>And She Built a Crooked House - 4D Yoga</td>\n",
       "      <td>2023-10-20</td>\n",
       "    </tr>\n",
       "    <tr>\n",
       "      <th>235</th>\n",
       "      <td>Artist Talk with Gemma Anderson-Tempini and Ma...</td>\n",
       "      <td>2023-10-21</td>\n",
       "    </tr>\n",
       "    <tr>\n",
       "      <th>239</th>\n",
       "      <td>Songs for No One - part of transform</td>\n",
       "      <td>2023-10-21</td>\n",
       "    </tr>\n",
       "    <tr>\n",
       "      <th>240</th>\n",
       "      <td>Spooky Shakespeare Suitcase Theatre</td>\n",
       "      <td>2023-10-21</td>\n",
       "    </tr>\n",
       "  </tbody>\n",
       "</table>\n",
       "<p>80 rows × 2 columns</p>\n",
       "</div>"
      ],
      "text/plain": [
       "                                                  name start_date\n",
       "1              East Street Arts, A City Less Grey 2022 2022-10-08\n",
       "3                Phoenix Dance Theatre Virtual Gallery 2023-01-01\n",
       "4    The Big Art Giveaway, School of Creative Arts ... 2023-01-01\n",
       "5               Embassy of Netherlands, Meet Leeds Lab 2023-01-16\n",
       "6    Shifting Borders: A Journey to the Centre of o... 2023-01-24\n",
       "..                                                 ...        ...\n",
       "231                      And She Built a Crooked House 2023-10-20\n",
       "232            And She Built a Crooked House - 4D Yoga 2023-10-20\n",
       "235  Artist Talk with Gemma Anderson-Tempini and Ma... 2023-10-21\n",
       "239               Songs for No One - part of transform 2023-10-21\n",
       "240                Spooky Shakespeare Suitcase Theatre 2023-10-21\n",
       "\n",
       "[80 rows x 2 columns]"
      ]
     },
     "execution_count": 9,
     "metadata": {},
     "output_type": "execute_result"
    }
   ],
   "source": [
    "data[data.postcode.isna()][[\n",
    "    'name', 'start_date'\n",
    "]]"
   ]
  },
  {
   "cell_type": "markdown",
   "id": "bc7c95c2",
   "metadata": {
    "papermill": {
     "duration": 0.00299,
     "end_time": "2023-10-22T23:37:25.780656",
     "exception": false,
     "start_time": "2023-10-22T23:37:25.777666",
     "status": "completed"
    },
    "tags": []
   },
   "source": [
    "Plot the pricing"
   ]
  },
  {
   "cell_type": "code",
   "execution_count": 10,
   "id": "a5cb419b",
   "metadata": {
    "execution": {
     "iopub.execute_input": "2023-10-22T23:37:25.787887Z",
     "iopub.status.busy": "2023-10-22T23:37:25.787474Z",
     "iopub.status.idle": "2023-10-22T23:37:26.300370Z",
     "shell.execute_reply": "2023-10-22T23:37:26.299804Z"
    },
    "papermill": {
     "duration": 0.518225,
     "end_time": "2023-10-22T23:37:26.301937",
     "exception": false,
     "start_time": "2023-10-22T23:37:25.783712",
     "status": "completed"
    },
    "tags": []
   },
   "outputs": [
    {
     "data": {
      "image/png": "[encoded data removed]",
      "text/plain": [
       "<Figure size 640x480 with 1 Axes>"
      ]
     },
     "metadata": {},
     "output_type": "display_data"
    }
   ],
   "source": [
    "# .groupby('pricing').count().plot.barh()\n",
    "pricing = data.pricing.fillna('Unspecified').str.replace('[\\[\\'\\]]', '', regex=True).to_frame().reset_index().groupby('pricing').count()\n",
    "\n",
    "pricing.columns = ['count']\n",
    "plot = pricing.plot.barh()\n"
   ]
  },
  {
   "cell_type": "code",
   "execution_count": null,
   "id": "45da0695",
   "metadata": {
    "papermill": {
     "duration": 0.003478,
     "end_time": "2023-10-22T23:37:26.309156",
     "exception": false,
     "start_time": "2023-10-22T23:37:26.305678",
     "status": "completed"
    },
    "tags": []
   },
   "outputs": [],
   "source": []
  }
 ],
 "metadata": {
  "kernelspec": {
   "display_name": "leeds-2023-YZF5GfJv",
   "language": "python",
   "name": "python3"
  },
  "language_info": {
   "codemirror_mode": {
    "name": "ipython",
    "version": 3
   },
   "file_extension": ".py",
   "mimetype": "text/x-python",
   "name": "python",
   "nbconvert_exporter": "python",
   "pygments_lexer": "ipython3",
   "version": "3.10.13"
  },
  "papermill": {
   "default_parameters": {},
   "duration": 13.695913,
   "end_time": "2023-10-22T23:37:26.731090",
   "environment_variables": {},
   "exception": null,
   "input_path": "transform.ipynb",
   "output_path": "../../../working/output/partner-events-transform.ipynb",
   "parameters": {},
   "start_time": "2023-10-22T23:37:13.035177",
   "version": "2.4.0"
  }
 },
 "nbformat": 4,
 "nbformat_minor": 5
}