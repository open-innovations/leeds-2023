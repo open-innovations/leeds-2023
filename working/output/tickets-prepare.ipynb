{
 "cells": [
  {
   "cell_type": "code",
   "execution_count": 1,
   "id": "78a5e573",
   "metadata": {
    "execution": {
     "iopub.execute_input": "2023-12-20T23:39:17.103803Z",
     "iopub.status.busy": "2023-12-20T23:39:17.103589Z",
     "iopub.status.idle": "2023-12-20T23:39:17.341494Z",
     "shell.execute_reply": "2023-12-20T23:39:17.340935Z"
    },
    "papermill": {
     "duration": 0.243319,
     "end_time": "2023-12-20T23:39:17.343123",
     "exception": false,
     "start_time": "2023-12-20T23:39:17.099804",
     "status": "completed"
    },
    "tags": []
   },
   "outputs": [],
   "source": [
    "from pathlib import Path\n",
    "import pandas as pd"
   ]
  },
  {
   "cell_type": "markdown",
   "id": "93b85c72",
   "metadata": {
    "papermill": {
     "duration": 0.002166,
     "end_time": "2023-12-20T23:39:17.347958",
     "exception": false,
     "start_time": "2023-12-20T23:39:17.345792",
     "status": "completed"
    },
    "tags": []
   },
   "source": [
    "Load the orders data which was created in the [transform stage](./tickets.ipynb)."
   ]
  },
  {
   "cell_type": "code",
   "execution_count": 2,
   "id": "91352bee",
   "metadata": {
    "execution": {
     "iopub.execute_input": "2023-12-20T23:39:17.353580Z",
     "iopub.status.busy": "2023-12-20T23:39:17.353137Z",
     "iopub.status.idle": "2023-12-20T23:39:17.370698Z",
     "shell.execute_reply": "2023-12-20T23:39:17.370203Z"
    },
    "papermill": {
     "duration": 0.021867,
     "end_time": "2023-12-20T23:39:17.372036",
     "exception": false,
     "start_time": "2023-12-20T23:39:17.350169",
     "status": "completed"
    },
    "tags": []
   },
   "outputs": [],
   "source": [
    "def prepare(data: pd.DataFrame) -> pd.DataFrame:\n",
    "    data = data.loc[\n",
    "        (\n",
    "            data.public_event == True\n",
    "        ) & (\n",
    "            ~data.project_name.isin([\n",
    "                'Skills Development',\n",
    "            ])\n",
    "        )\n",
    "    ]\n",
    "    data = data.drop(columns=['public_event'])\n",
    "    return data\n",
    "\n",
    "\n",
    "orders = pd.read_csv(\n",
    "    '../../../../data/metrics/events/tickets/orders.csv',\n",
    "    usecols=[\n",
    "        'created_at',\n",
    "        'project_name',\n",
    "        'public_event',\n",
    "        'number_of_tickets'\n",
    "    ],\n",
    "    parse_dates=['created_at']\n",
    ").pipe(prepare)"
   ]
  },
  {
   "cell_type": "markdown",
   "id": "45f9692c",
   "metadata": {
    "papermill": {
     "duration": 0.00214,
     "end_time": "2023-12-20T23:39:17.376398",
     "exception": false,
     "start_time": "2023-12-20T23:39:17.374258",
     "status": "completed"
    },
    "tags": []
   },
   "source": [
    "Define functions to count and sum tickets, and to append cumulative versions of those."
   ]
  },
  {
   "cell_type": "code",
   "execution_count": 3,
   "id": "e68b5afc",
   "metadata": {
    "execution": {
     "iopub.execute_input": "2023-12-20T23:39:17.381781Z",
     "iopub.status.busy": "2023-12-20T23:39:17.381404Z",
     "iopub.status.idle": "2023-12-20T23:39:17.385322Z",
     "shell.execute_reply": "2023-12-20T23:39:17.384784Z"
    },
    "papermill": {
     "duration": 0.008118,
     "end_time": "2023-12-20T23:39:17.386654",
     "exception": false,
     "start_time": "2023-12-20T23:39:17.378536",
     "status": "completed"
    },
    "tags": []
   },
   "outputs": [],
   "source": [
    "def count_and_sum(series):\n",
    "    return pd.concat([\n",
    "        series.count().to_frame('orders'),\n",
    "        series.sum().to_frame('tickets'),\n",
    "    ], axis=1)\n",
    "\n",
    "\n",
    "def cumulate(df: pd.DataFrame) -> pd.DataFrame:\n",
    "    return pd.concat([\n",
    "        df,\n",
    "        df.cumsum().rename(columns=lambda x: f'cumulative_{x}')\n",
    "    ], axis=1)"
   ]
  },
  {
   "cell_type": "markdown",
   "id": "50f14b68",
   "metadata": {
    "papermill": {
     "duration": 0.002182,
     "end_time": "2023-12-20T23:39:17.391139",
     "exception": false,
     "start_time": "2023-12-20T23:39:17.388957",
     "status": "completed"
    },
    "tags": []
   },
   "source": [
    "Create output directory"
   ]
  },
  {
   "cell_type": "code",
   "execution_count": 4,
   "id": "8861a311",
   "metadata": {
    "execution": {
     "iopub.execute_input": "2023-12-20T23:39:17.396675Z",
     "iopub.status.busy": "2023-12-20T23:39:17.396311Z",
     "iopub.status.idle": "2023-12-20T23:39:17.399382Z",
     "shell.execute_reply": "2023-12-20T23:39:17.398792Z"
    },
    "papermill": {
     "duration": 0.007358,
     "end_time": "2023-12-20T23:39:17.400742",
     "exception": false,
     "start_time": "2023-12-20T23:39:17.393384",
     "status": "completed"
    },
    "tags": []
   },
   "outputs": [],
   "source": [
    "OUTPUT_DIR = Path('../../../../docs/metrics/tickets/_data/')\n",
    "OUTPUT_DIR.mkdir(parents=True, exist_ok=True)"
   ]
  },
  {
   "cell_type": "markdown",
   "id": "938c3f25",
   "metadata": {
    "papermill": {
     "duration": 0.002215,
     "end_time": "2023-12-20T23:39:17.405974",
     "exception": false,
     "start_time": "2023-12-20T23:39:17.403759",
     "status": "completed"
    },
    "tags": []
   },
   "source": [
    "Count / sum the orders and tickets by project code and save to a JSON file"
   ]
  },
  {
   "cell_type": "code",
   "execution_count": 5,
   "id": "90448bcc",
   "metadata": {
    "execution": {
     "iopub.execute_input": "2023-12-20T23:39:17.411628Z",
     "iopub.status.busy": "2023-12-20T23:39:17.411186Z",
     "iopub.status.idle": "2023-12-20T23:39:17.418201Z",
     "shell.execute_reply": "2023-12-20T23:39:17.417595Z"
    },
    "papermill": {
     "duration": 0.01135,
     "end_time": "2023-12-20T23:39:17.419529",
     "exception": false,
     "start_time": "2023-12-20T23:39:17.408179",
     "status": "completed"
    },
    "tags": []
   },
   "outputs": [],
   "source": [
    "by_project = orders.groupby('project_name').number_of_tickets.pipe(count_and_sum)\n",
    "by_project.loc['total']= by_project.sum()\n",
    "by_project.T.to_json(\n",
    "  OUTPUT_DIR.joinpath('headlines.json'),\n",
    "  indent=2\n",
    ")"
   ]
  },
  {
   "cell_type": "markdown",
   "id": "67cecb76",
   "metadata": {
    "papermill": {
     "duration": 0.002373,
     "end_time": "2023-12-20T23:39:17.424267",
     "exception": false,
     "start_time": "2023-12-20T23:39:17.421894",
     "status": "completed"
    },
    "tags": []
   },
   "source": [
    "Add `day` column"
   ]
  },
  {
   "cell_type": "code",
   "execution_count": 6,
   "id": "dd3c3a18",
   "metadata": {
    "execution": {
     "iopub.execute_input": "2023-12-20T23:39:17.429912Z",
     "iopub.status.busy": "2023-12-20T23:39:17.429534Z",
     "iopub.status.idle": "2023-12-20T23:39:17.433486Z",
     "shell.execute_reply": "2023-12-20T23:39:17.432959Z"
    },
    "papermill": {
     "duration": 0.008268,
     "end_time": "2023-12-20T23:39:17.434829",
     "exception": false,
     "start_time": "2023-12-20T23:39:17.426561",
     "status": "completed"
    },
    "tags": []
   },
   "outputs": [],
   "source": [
    "orders['day'] = orders.created_at.dt.floor('D')"
   ]
  },
  {
   "cell_type": "code",
   "execution_count": 7,
   "id": "9ea73582",
   "metadata": {
    "execution": {
     "iopub.execute_input": "2023-12-20T23:39:17.440559Z",
     "iopub.status.busy": "2023-12-20T23:39:17.440185Z",
     "iopub.status.idle": "2023-12-20T23:39:17.449596Z",
     "shell.execute_reply": "2023-12-20T23:39:17.449064Z"
    },
    "papermill": {
     "duration": 0.013728,
     "end_time": "2023-12-20T23:39:17.450905",
     "exception": false,
     "start_time": "2023-12-20T23:39:17.437177",
     "status": "completed"
    },
    "tags": []
   },
   "outputs": [
    {
     "data": {
      "text/html": [
       "<div>\n",
       "<style scoped>\n",
       "    .dataframe tbody tr th:only-of-type {\n",
       "        vertical-align: middle;\n",
       "    }\n",
       "\n",
       "    .dataframe tbody tr th {\n",
       "        vertical-align: top;\n",
       "    }\n",
       "\n",
       "    .dataframe thead th {\n",
       "        text-align: right;\n",
       "    }\n",
       "</style>\n",
       "<table border=\"1\" class=\"dataframe\">\n",
       "  <thead>\n",
       "    <tr style=\"text-align: right;\">\n",
       "      <th></th>\n",
       "      <th>created_at</th>\n",
       "      <th>day</th>\n",
       "    </tr>\n",
       "  </thead>\n",
       "  <tbody>\n",
       "    <tr>\n",
       "      <th>176</th>\n",
       "      <td>2023-03-30 16:58:03</td>\n",
       "      <td>2023-03-30</td>\n",
       "    </tr>\n",
       "    <tr>\n",
       "      <th>177</th>\n",
       "      <td>2023-03-30 18:44:08</td>\n",
       "      <td>2023-03-30</td>\n",
       "    </tr>\n",
       "    <tr>\n",
       "      <th>180</th>\n",
       "      <td>2023-03-30 20:32:43</td>\n",
       "      <td>2023-03-30</td>\n",
       "    </tr>\n",
       "    <tr>\n",
       "      <th>181</th>\n",
       "      <td>2023-03-30 21:27:59</td>\n",
       "      <td>2023-03-30</td>\n",
       "    </tr>\n",
       "    <tr>\n",
       "      <th>183</th>\n",
       "      <td>2023-03-30 22:56:31</td>\n",
       "      <td>2023-03-30</td>\n",
       "    </tr>\n",
       "  </tbody>\n",
       "</table>\n",
       "</div>"
      ],
      "text/plain": [
       "             created_at        day\n",
       "176 2023-03-30 16:58:03 2023-03-30\n",
       "177 2023-03-30 18:44:08 2023-03-30\n",
       "180 2023-03-30 20:32:43 2023-03-30\n",
       "181 2023-03-30 21:27:59 2023-03-30\n",
       "183 2023-03-30 22:56:31 2023-03-30"
      ]
     },
     "execution_count": 7,
     "metadata": {},
     "output_type": "execute_result"
    }
   ],
   "source": [
    "orders.loc[:, ['created_at', 'day']].head()"
   ]
  },
  {
   "cell_type": "markdown",
   "id": "854066c6",
   "metadata": {
    "papermill": {
     "duration": 0.00252,
     "end_time": "2023-12-20T23:39:17.456173",
     "exception": false,
     "start_time": "2023-12-20T23:39:17.453653",
     "status": "completed"
    },
    "tags": []
   },
   "source": [
    "Save table cumulative weekly per project"
   ]
  },
  {
   "cell_type": "code",
   "execution_count": 8,
   "id": "20b74c9d",
   "metadata": {
    "execution": {
     "iopub.execute_input": "2023-12-20T23:39:17.462127Z",
     "iopub.status.busy": "2023-12-20T23:39:17.461754Z",
     "iopub.status.idle": "2023-12-20T23:39:17.472293Z",
     "shell.execute_reply": "2023-12-20T23:39:17.471759Z"
    },
    "papermill": {
     "duration": 0.014931,
     "end_time": "2023-12-20T23:39:17.473590",
     "exception": false,
     "start_time": "2023-12-20T23:39:17.458659",
     "status": "completed"
    },
    "tags": []
   },
   "outputs": [],
   "source": [
    "orders.groupby(\n",
    "  ['day', 'project_name']\n",
    ").number_of_tickets.pipe(\n",
    "  count_and_sum\n",
    ").tickets.unstack().fillna(0).resample('W-FRI').sum().cumsum().rename_axis('week').to_csv(\n",
    "  OUTPUT_DIR.joinpath('by_project_cumulative_weekly.csv')\n",
    ")"
   ]
  },
  {
   "cell_type": "markdown",
   "id": "91c85d9c",
   "metadata": {
    "papermill": {
     "duration": 0.002418,
     "end_time": "2023-12-20T23:39:17.478610",
     "exception": false,
     "start_time": "2023-12-20T23:39:17.476192",
     "status": "completed"
    },
    "tags": []
   },
   "source": [
    "Save cumulative monthly sales"
   ]
  },
  {
   "cell_type": "code",
   "execution_count": 9,
   "id": "47f9334a",
   "metadata": {
    "execution": {
     "iopub.execute_input": "2023-12-20T23:39:17.484584Z",
     "iopub.status.busy": "2023-12-20T23:39:17.484194Z",
     "iopub.status.idle": "2023-12-20T23:39:17.490740Z",
     "shell.execute_reply": "2023-12-20T23:39:17.490105Z"
    },
    "papermill": {
     "duration": 0.011042,
     "end_time": "2023-12-20T23:39:17.492131",
     "exception": false,
     "start_time": "2023-12-20T23:39:17.481089",
     "status": "completed"
    },
    "tags": []
   },
   "outputs": [],
   "source": [
    "orders.groupby(['day']).number_of_tickets.pipe(count_and_sum).resample('MS').sum().pipe(cumulate).rename_axis('month').to_csv(\n",
    "  OUTPUT_DIR.joinpath('monthly_cumulative.csv')\n",
    ")"
   ]
  },
  {
   "cell_type": "code",
   "execution_count": null,
   "id": "14f1e13e",
   "metadata": {
    "papermill": {
     "duration": 0.003084,
     "end_time": "2023-12-20T23:39:17.497768",
     "exception": false,
     "start_time": "2023-12-20T23:39:17.494684",
     "status": "completed"
    },
    "tags": []
   },
   "outputs": [],
   "source": []
  }
 ],
 "metadata": {
  "kernelspec": {
   "display_name": "leeds-2023-YZF5GfJv",
   "language": "python",
   "name": "python3"
  },
  "language_info": {
   "codemirror_mode": {
    "name": "ipython",
    "version": 3
   },
   "file_extension": ".py",
   "mimetype": "text/x-python",
   "name": "python",
   "nbconvert_exporter": "python",
   "pygments_lexer": "ipython3",
   "version": "3.10.13"
  },
  "papermill": {
   "default_parameters": {},
   "duration": 1.849584,
   "end_time": "2023-12-20T23:39:17.716080",
   "environment_variables": {},
   "exception": null,
   "input_path": "prepare.ipynb",
   "output_path": "../../../../working/output/tickets-prepare.ipynb",
   "parameters": {},
   "start_time": "2023-12-20T23:39:15.866496",
   "version": "2.4.0"
  }
 },
 "nbformat": 4,
 "nbformat_minor": 5
}