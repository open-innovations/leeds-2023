{
 "cells": [
  {
   "cell_type": "code",
   "execution_count": 1,
   "metadata": {},
   "outputs": [],
   "source": [
    "import sys\n",
    "from pathlib import Path\n",
    "\n",
    "import pandas as pd\n",
    "import os \n",
    "\n",
    "TOP_DIR = Path('../../../').resolve()\n",
    "\n",
    "if str(TOP_DIR) not in sys.path: sys.path.append(str(TOP_DIR))\n",
    "\n",
    "SITE_DATA_DIR = '../../../docs/metrics/partnerships/_data'\n",
    "\n",
    "PARTNERSHIPS_DATA = '../../../data/metrics/partnerships/partnerships.csv'\n",
    "COUNTRIES_DATA = '../../../data/metrics/partnerships/countries.csv'"
   ]
  },
  {
   "cell_type": "code",
   "execution_count": 2,
   "metadata": {},
   "outputs": [],
   "source": [
    "os.makedirs(SITE_DATA_DIR, exist_ok=True)\n",
    "\n",
    "partnerships_data = pd.read_csv(PARTNERSHIPS_DATA, parse_dates=['start_date'])\n",
    "countries_data = pd.read_csv(COUNTRIES_DATA)"
   ]
  },
  {
   "cell_type": "markdown",
   "metadata": {},
   "source": [
    "Summarise"
   ]
  },
  {
   "cell_type": "code",
   "execution_count": 34,
   "metadata": {},
   "outputs": [],
   "source": [
    "pd.Series({\n",
    "    'total_partnerships': len(partnerships_data),\n",
    "    'total_international': partnerships_data.international_element_to_project_.count(),\n",
    "    'total_unique_countries': len(countries_data.unique_countries),\n",
    "    'total_events': partnerships_data.total_number_of_events.sum(),\n",
    "    'total_audience': partnerships_data.audience_numbers.sum(),\n",
    "    'total_participants': partnerships_data.number_of_participants.sum(),\n",
    "    'total_in_person_events': partnerships_data['online_in_person_both'].value_counts()['In person'],\n",
    "    'both_online_in_person_events': partnerships_data['online_in_person_both'].value_counts()['Both'],\n",
    "    'online_only_events': partnerships_data['online_in_person_both'].value_counts()['Online'],\n",
    "}).astype(int).to_json(\n",
    "    os.path.join(SITE_DATA_DIR, 'headlines.json'),\n",
    "    date_format='iso', indent=2\n",
    ")"
   ]
  },
  {
   "cell_type": "markdown",
   "metadata": {},
   "source": [
    "Summarise by ward"
   ]
  },
  {
   "cell_type": "code",
   "execution_count": 4,
   "metadata": {},
   "outputs": [],
   "source": [
    "partnerships_data.fillna('UNKNOWN').groupby('partner_venue_ward_code').partner_organisation.count().to_csv(os.path.join(SITE_DATA_DIR, 'partnerships_by_ward.csv'))"
   ]
  },
  {
   "cell_type": "markdown",
   "metadata": {},
   "source": [
    "Summarise by month"
   ]
  },
  {
   "cell_type": "code",
   "execution_count": 15,
   "metadata": {},
   "outputs": [],
   "source": [
    "partnerships_data.groupby('start_date').partner_organisation.count().resample('MS').sum().cumsum().to_csv(os.path.join(SITE_DATA_DIR, 'partnerships_by_month.csv'))"
   ]
  },
  {
   "cell_type": "code",
   "execution_count": null,
   "metadata": {},
   "outputs": [],
   "source": []
  }
 ],
 "metadata": {
  "kernelspec": {
   "display_name": "leeds-2023-OyOrD6k7",
   "language": "python",
   "name": "python3"
  },
  "language_info": {
   "codemirror_mode": {
    "name": "ipython",
    "version": 3
   },
   "file_extension": ".py",
   "mimetype": "text/x-python",
   "name": "python",
   "nbconvert_exporter": "python",
   "pygments_lexer": "ipython3",
   "version": "3.10.8"
  },
  "orig_nbformat": 4
 },
 "nbformat": 4,
 "nbformat_minor": 2
}
