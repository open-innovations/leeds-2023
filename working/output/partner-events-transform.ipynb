{
 "cells": [
  {
   "cell_type": "code",
   "execution_count": 1,
   "id": "31482b3b",
   "metadata": {
    "execution": {
     "iopub.execute_input": "2023-07-18T23:36:44.778885Z",
     "iopub.status.busy": "2023-07-18T23:36:44.778297Z",
     "iopub.status.idle": "2023-07-18T23:36:45.034169Z",
     "shell.execute_reply": "2023-07-18T23:36:45.033466Z"
    },
    "papermill": {
     "duration": 0.262723,
     "end_time": "2023-07-18T23:36:45.036475",
     "exception": false,
     "start_time": "2023-07-18T23:36:44.773752",
     "status": "completed"
    },
    "tags": []
   },
   "outputs": [],
   "source": [
    "import os\n",
    "import sys\n",
    "import pandas as pd\n",
    "lib_dir = os.path.realpath('../../../lib/')\n",
    "if lib_dir not in sys.path: sys.path.append(lib_dir)"
   ]
  },
  {
   "cell_type": "code",
   "execution_count": 2,
   "id": "a330ec85",
   "metadata": {
    "execution": {
     "iopub.execute_input": "2023-07-18T23:36:45.043157Z",
     "iopub.status.busy": "2023-07-18T23:36:45.042662Z",
     "iopub.status.idle": "2023-07-18T23:36:54.546154Z",
     "shell.execute_reply": "2023-07-18T23:36:54.545443Z"
    },
    "papermill": {
     "duration": 9.509233,
     "end_time": "2023-07-18T23:36:54.548356",
     "exception": false,
     "start_time": "2023-07-18T23:36:45.039123",
     "status": "completed"
    },
    "tags": []
   },
   "outputs": [],
   "source": [
    "import util.geo"
   ]
  },
  {
   "cell_type": "code",
   "execution_count": 3,
   "id": "604852f7",
   "metadata": {
    "execution": {
     "iopub.execute_input": "2023-07-18T23:36:54.555119Z",
     "iopub.status.busy": "2023-07-18T23:36:54.554692Z",
     "iopub.status.idle": "2023-07-18T23:36:54.558251Z",
     "shell.execute_reply": "2023-07-18T23:36:54.557611Z"
    },
    "papermill": {
     "duration": 0.008413,
     "end_time": "2023-07-18T23:36:54.559752",
     "exception": false,
     "start_time": "2023-07-18T23:36:54.551339",
     "status": "completed"
    },
    "tags": []
   },
   "outputs": [],
   "source": [
    "EVENTS_RAW_DATA = '../../../working/metrics/partner-events/events.csv'\n",
    "DATA_DIR = '../../../data/metrics/events/partner-events/'\n",
    "EVENTS_DATA = os.path.join(DATA_DIR, 'events.csv')"
   ]
  },
  {
   "cell_type": "code",
   "execution_count": 4,
   "id": "4eb8eb07",
   "metadata": {
    "execution": {
     "iopub.execute_input": "2023-07-18T23:36:54.565933Z",
     "iopub.status.busy": "2023-07-18T23:36:54.565282Z",
     "iopub.status.idle": "2023-07-18T23:36:54.568985Z",
     "shell.execute_reply": "2023-07-18T23:36:54.568479Z"
    },
    "papermill": {
     "duration": 0.008252,
     "end_time": "2023-07-18T23:36:54.570346",
     "exception": false,
     "start_time": "2023-07-18T23:36:54.562094",
     "status": "completed"
    },
    "tags": []
   },
   "outputs": [],
   "source": [
    "columns = {\n",
    "    'Event Name': 'name',\n",
    "    'Event Start Date': 'start_date',\n",
    "    'Event End Date': 'end_date',\n",
    "    'Partner/Promote': 'partner_promote',\n",
    "    'Stage': 'stage',\n",
    "    'Live date': 'live_date',\n",
    "    'Venue postcode': 'postcode',\n",
    "    'Pricing Policy': 'pricing',\n",
    "    'Venue - including address': 'venue',\n",
    "    'Is this event on Leeds Inspried?': 'on_leeds_inspired',\n",
    "}"
   ]
  },
  {
   "cell_type": "markdown",
   "id": "a2712af7",
   "metadata": {
    "papermill": {
     "duration": 0.002293,
     "end_time": "2023-07-18T23:36:54.574952",
     "exception": false,
     "start_time": "2023-07-18T23:36:54.572659",
     "status": "completed"
    },
    "tags": []
   },
   "source": [
    "Load the data and rename columns. Parse the dates to dates."
   ]
  },
  {
   "cell_type": "code",
   "execution_count": 5,
   "id": "b3a0cedc",
   "metadata": {
    "execution": {
     "iopub.execute_input": "2023-07-18T23:36:54.581153Z",
     "iopub.status.busy": "2023-07-18T23:36:54.580495Z",
     "iopub.status.idle": "2023-07-18T23:36:54.591437Z",
     "shell.execute_reply": "2023-07-18T23:36:54.590903Z"
    },
    "papermill": {
     "duration": 0.015622,
     "end_time": "2023-07-18T23:36:54.592857",
     "exception": false,
     "start_time": "2023-07-18T23:36:54.577235",
     "status": "completed"
    },
    "tags": []
   },
   "outputs": [],
   "source": [
    "data = pd.read_csv(EVENTS_RAW_DATA)[columns.keys()].rename(columns=columns)\n",
    "data.start_date = pd.to_datetime(data.start_date, errors='coerce')\n",
    "data.end_date = pd.to_datetime(data.end_date, errors='coerce')"
   ]
  },
  {
   "cell_type": "markdown",
   "id": "7091d481",
   "metadata": {
    "papermill": {
     "duration": 0.002298,
     "end_time": "2023-07-18T23:36:54.597521",
     "exception": false,
     "start_time": "2023-07-18T23:36:54.595223",
     "status": "completed"
    },
    "tags": []
   },
   "source": [
    "Filter data by not LI Pull through and start date before now"
   ]
  },
  {
   "cell_type": "code",
   "execution_count": 6,
   "id": "5352ce40",
   "metadata": {
    "execution": {
     "iopub.execute_input": "2023-07-18T23:36:54.603593Z",
     "iopub.status.busy": "2023-07-18T23:36:54.603113Z",
     "iopub.status.idle": "2023-07-18T23:36:54.608215Z",
     "shell.execute_reply": "2023-07-18T23:36:54.607510Z"
    },
    "papermill": {
     "duration": 0.009929,
     "end_time": "2023-07-18T23:36:54.609831",
     "exception": false,
     "start_time": "2023-07-18T23:36:54.599902",
     "status": "completed"
    },
    "tags": []
   },
   "outputs": [],
   "source": [
    "data = data[\n",
    "    # (data.live_date == 'This event is live ') &\n",
    "    ((data.stage != 'LI pull through') & data.stage.notna()) &\n",
    "    (data.start_date < pd.Timestamp.now())\n",
    "]"
   ]
  },
  {
   "cell_type": "code",
   "execution_count": 7,
   "id": "0f41fd70",
   "metadata": {
    "execution": {
     "iopub.execute_input": "2023-07-18T23:36:54.616066Z",
     "iopub.status.busy": "2023-07-18T23:36:54.615417Z",
     "iopub.status.idle": "2023-07-18T23:36:55.844158Z",
     "shell.execute_reply": "2023-07-18T23:36:55.843442Z"
    },
    "papermill": {
     "duration": 1.234104,
     "end_time": "2023-07-18T23:36:55.846296",
     "exception": false,
     "start_time": "2023-07-18T23:36:54.612192",
     "status": "completed"
    },
    "tags": []
   },
   "outputs": [],
   "source": [
    "data['ward_code'] = data.postcode.pipe(util.geo.postcode_formatter).map(util.geo.postcode_to_ward_code)\n",
    "data['ward_name'] = data.ward_code.pipe(util.geo.ward_code_to_name)"
   ]
  },
  {
   "cell_type": "markdown",
   "id": "656d1f8c",
   "metadata": {
    "papermill": {
     "duration": 0.003231,
     "end_time": "2023-07-18T23:36:55.852632",
     "exception": false,
     "start_time": "2023-07-18T23:36:55.849401",
     "status": "completed"
    },
    "tags": []
   },
   "source": [
    "Save the file"
   ]
  },
  {
   "cell_type": "code",
   "execution_count": 8,
   "id": "4963fbbf",
   "metadata": {
    "execution": {
     "iopub.execute_input": "2023-07-18T23:36:55.859367Z",
     "iopub.status.busy": "2023-07-18T23:36:55.858689Z",
     "iopub.status.idle": "2023-07-18T23:36:55.867162Z",
     "shell.execute_reply": "2023-07-18T23:36:55.866537Z"
    },
    "papermill": {
     "duration": 0.013575,
     "end_time": "2023-07-18T23:36:55.868714",
     "exception": false,
     "start_time": "2023-07-18T23:36:55.855139",
     "status": "completed"
    },
    "tags": []
   },
   "outputs": [],
   "source": [
    "data[\n",
    "    ['name','start_date','end_date','ward_code']\n",
    "].to_csv(EVENTS_DATA, index=False)"
   ]
  },
  {
   "cell_type": "markdown",
   "id": "57fe8e61",
   "metadata": {
    "papermill": {
     "duration": 0.00247,
     "end_time": "2023-07-18T23:36:55.873719",
     "exception": false,
     "start_time": "2023-07-18T23:36:55.871249",
     "status": "completed"
    },
    "tags": []
   },
   "source": [
    "Print out missing postcode data"
   ]
  },
  {
   "cell_type": "code",
   "execution_count": 9,
   "id": "ba4fb0d3",
   "metadata": {
    "execution": {
     "iopub.execute_input": "2023-07-18T23:36:55.880425Z",
     "iopub.status.busy": "2023-07-18T23:36:55.879568Z",
     "iopub.status.idle": "2023-07-18T23:36:55.892489Z",
     "shell.execute_reply": "2023-07-18T23:36:55.891800Z"
    },
    "papermill": {
     "duration": 0.018093,
     "end_time": "2023-07-18T23:36:55.894322",
     "exception": false,
     "start_time": "2023-07-18T23:36:55.876229",
     "status": "completed"
    },
    "tags": []
   },
   "outputs": [
    {
     "data": {
      "text/html": [
       "<div>\n",
       "<style scoped>\n",
       "    .dataframe tbody tr th:only-of-type {\n",
       "        vertical-align: middle;\n",
       "    }\n",
       "\n",
       "    .dataframe tbody tr th {\n",
       "        vertical-align: top;\n",
       "    }\n",
       "\n",
       "    .dataframe thead th {\n",
       "        text-align: right;\n",
       "    }\n",
       "</style>\n",
       "<table border=\"1\" class=\"dataframe\">\n",
       "  <thead>\n",
       "    <tr style=\"text-align: right;\">\n",
       "      <th></th>\n",
       "      <th>name</th>\n",
       "      <th>start_date</th>\n",
       "    </tr>\n",
       "  </thead>\n",
       "  <tbody>\n",
       "    <tr>\n",
       "      <th>1</th>\n",
       "      <td>East Street Arts, A City Less Grey 2022</td>\n",
       "      <td>2022-10-08</td>\n",
       "    </tr>\n",
       "    <tr>\n",
       "      <th>3</th>\n",
       "      <td>Phoenix Dance Theatre Virtual Gallery</td>\n",
       "      <td>2023-01-01</td>\n",
       "    </tr>\n",
       "    <tr>\n",
       "      <th>4</th>\n",
       "      <td>The Big Art Giveaway, School of Creative Arts ...</td>\n",
       "      <td>2023-01-01</td>\n",
       "    </tr>\n",
       "    <tr>\n",
       "      <th>5</th>\n",
       "      <td>Embassy of Netherlands, Meet Leeds Lab</td>\n",
       "      <td>2023-01-16</td>\n",
       "    </tr>\n",
       "    <tr>\n",
       "      <th>6</th>\n",
       "      <td>Shifting Borders: A Journey to the Centre of o...</td>\n",
       "      <td>2023-01-24</td>\n",
       "    </tr>\n",
       "    <tr>\n",
       "      <th>13</th>\n",
       "      <td>Leeds Lit Fest 2023</td>\n",
       "      <td>2023-02-25</td>\n",
       "    </tr>\n",
       "    <tr>\n",
       "      <th>27</th>\n",
       "      <td>East Street Arts, Add Fuel</td>\n",
       "      <td>2023-04-01</td>\n",
       "    </tr>\n",
       "    <tr>\n",
       "      <th>45</th>\n",
       "      <td>Jamica Society Leeds, Out of Many Festival - T...</td>\n",
       "      <td>2023-05-01</td>\n",
       "    </tr>\n",
       "    <tr>\n",
       "      <th>46</th>\n",
       "      <td>Sayang, Si Polan - International residency in ...</td>\n",
       "      <td>2023-05-01</td>\n",
       "    </tr>\n",
       "    <tr>\n",
       "      <th>65</th>\n",
       "      <td>Leeds Jazz Festival 2023</td>\n",
       "      <td>2023-05-25</td>\n",
       "    </tr>\n",
       "    <tr>\n",
       "      <th>81</th>\n",
       "      <td>Keira Martin, Queenie and the Pooka (Performan...</td>\n",
       "      <td>2023-06-05</td>\n",
       "    </tr>\n",
       "    <tr>\n",
       "      <th>82</th>\n",
       "      <td>My LEEDS Summer: Kirkstall Makes + Moves</td>\n",
       "      <td>2023-06-11</td>\n",
       "    </tr>\n",
       "    <tr>\n",
       "      <th>85</th>\n",
       "      <td>My LEEDS Summer at Hunslet Festival</td>\n",
       "      <td>2023-06-17</td>\n",
       "    </tr>\n",
       "    <tr>\n",
       "      <th>86</th>\n",
       "      <td>My LEEDS Summer: Roundhay World Music &amp; Food Fest</td>\n",
       "      <td>2023-06-17</td>\n",
       "    </tr>\n",
       "    <tr>\n",
       "      <th>95</th>\n",
       "      <td>My LEEDS Summer: Beeston Festival</td>\n",
       "      <td>2023-06-24</td>\n",
       "    </tr>\n",
       "    <tr>\n",
       "      <th>96</th>\n",
       "      <td>My LEEDS Summer: Crossgates and Whinmoor - Pas...</td>\n",
       "      <td>2023-06-24</td>\n",
       "    </tr>\n",
       "    <tr>\n",
       "      <th>97</th>\n",
       "      <td>My LEEDS Summer: Picnic in the Park</td>\n",
       "      <td>2023-06-24</td>\n",
       "    </tr>\n",
       "    <tr>\n",
       "      <th>100</th>\n",
       "      <td>Becoming the Brontës</td>\n",
       "      <td>2023-06-29</td>\n",
       "    </tr>\n",
       "    <tr>\n",
       "      <th>107</th>\n",
       "      <td>My LEEDS Summer: Wetherby Drovers Day</td>\n",
       "      <td>2023-07-01</td>\n",
       "    </tr>\n",
       "    <tr>\n",
       "      <th>108</th>\n",
       "      <td>My Leeds Summer : Walk of Art</td>\n",
       "      <td>2023-07-01</td>\n",
       "    </tr>\n",
       "    <tr>\n",
       "      <th>111</th>\n",
       "      <td>My LEEDS Summer: The Feast</td>\n",
       "      <td>2023-07-02</td>\n",
       "    </tr>\n",
       "    <tr>\n",
       "      <th>112</th>\n",
       "      <td>My LEEDS summer: Celebration Day</td>\n",
       "      <td>2023-07-02</td>\n",
       "    </tr>\n",
       "    <tr>\n",
       "      <th>120</th>\n",
       "      <td>My LEEDS Summer : Wonderful Workshops and Cele...</td>\n",
       "      <td>2023-07-06</td>\n",
       "    </tr>\n",
       "    <tr>\n",
       "      <th>128</th>\n",
       "      <td>My LEEDS Summer: The Gipton and Harehills Crea...</td>\n",
       "      <td>2023-07-08</td>\n",
       "    </tr>\n",
       "    <tr>\n",
       "      <th>130</th>\n",
       "      <td>My LEEDS Summer: Ardsley &amp; Robin Hood: Celebra...</td>\n",
       "      <td>2023-07-09</td>\n",
       "    </tr>\n",
       "    <tr>\n",
       "      <th>133</th>\n",
       "      <td>My LEEDS Summer: The Big Summer Picnic</td>\n",
       "      <td>2023-07-09</td>\n",
       "    </tr>\n",
       "    <tr>\n",
       "      <th>136</th>\n",
       "      <td>My LEEDS Summer: Ralph Thoresby Summer Festival</td>\n",
       "      <td>2023-07-15</td>\n",
       "    </tr>\n",
       "    <tr>\n",
       "      <th>138</th>\n",
       "      <td>My LEEDS Summer: Fuse Festival</td>\n",
       "      <td>2023-07-17</td>\n",
       "    </tr>\n",
       "  </tbody>\n",
       "</table>\n",
       "</div>"
      ],
      "text/plain": [
       "                                                  name start_date\n",
       "1              East Street Arts, A City Less Grey 2022 2022-10-08\n",
       "3                Phoenix Dance Theatre Virtual Gallery 2023-01-01\n",
       "4    The Big Art Giveaway, School of Creative Arts ... 2023-01-01\n",
       "5               Embassy of Netherlands, Meet Leeds Lab 2023-01-16\n",
       "6    Shifting Borders: A Journey to the Centre of o... 2023-01-24\n",
       "13                                 Leeds Lit Fest 2023 2023-02-25\n",
       "27                          East Street Arts, Add Fuel 2023-04-01\n",
       "45   Jamica Society Leeds, Out of Many Festival - T... 2023-05-01\n",
       "46   Sayang, Si Polan - International residency in ... 2023-05-01\n",
       "65                            Leeds Jazz Festival 2023 2023-05-25\n",
       "81   Keira Martin, Queenie and the Pooka (Performan... 2023-06-05\n",
       "82            My LEEDS Summer: Kirkstall Makes + Moves 2023-06-11\n",
       "85                 My LEEDS Summer at Hunslet Festival 2023-06-17\n",
       "86   My LEEDS Summer: Roundhay World Music & Food Fest 2023-06-17\n",
       "95                   My LEEDS Summer: Beeston Festival 2023-06-24\n",
       "96   My LEEDS Summer: Crossgates and Whinmoor - Pas... 2023-06-24\n",
       "97                 My LEEDS Summer: Picnic in the Park 2023-06-24\n",
       "100                               Becoming the Brontës 2023-06-29\n",
       "107              My LEEDS Summer: Wetherby Drovers Day 2023-07-01\n",
       "108                      My Leeds Summer : Walk of Art 2023-07-01\n",
       "111                         My LEEDS Summer: The Feast 2023-07-02\n",
       "112                   My LEEDS summer: Celebration Day 2023-07-02\n",
       "120  My LEEDS Summer : Wonderful Workshops and Cele... 2023-07-06\n",
       "128  My LEEDS Summer: The Gipton and Harehills Crea... 2023-07-08\n",
       "130  My LEEDS Summer: Ardsley & Robin Hood: Celebra... 2023-07-09\n",
       "133             My LEEDS Summer: The Big Summer Picnic 2023-07-09\n",
       "136    My LEEDS Summer: Ralph Thoresby Summer Festival 2023-07-15\n",
       "138                     My LEEDS Summer: Fuse Festival 2023-07-17"
      ]
     },
     "execution_count": 9,
     "metadata": {},
     "output_type": "execute_result"
    }
   ],
   "source": [
    "data[data.postcode.isna()][[\n",
    "    'name', 'start_date'\n",
    "]]"
   ]
  },
  {
   "cell_type": "markdown",
   "id": "1bf10457",
   "metadata": {
    "papermill": {
     "duration": 0.002731,
     "end_time": "2023-07-18T23:36:55.899963",
     "exception": false,
     "start_time": "2023-07-18T23:36:55.897232",
     "status": "completed"
    },
    "tags": []
   },
   "source": [
    "Plot the pricing"
   ]
  },
  {
   "cell_type": "code",
   "execution_count": 10,
   "id": "0e610f11",
   "metadata": {
    "execution": {
     "iopub.execute_input": "2023-07-18T23:36:55.907889Z",
     "iopub.status.busy": "2023-07-18T23:36:55.907206Z",
     "iopub.status.idle": "2023-07-18T23:36:56.693780Z",
     "shell.execute_reply": "2023-07-18T23:36:56.693062Z"
    },
    "papermill": {
     "duration": 0.792038,
     "end_time": "2023-07-18T23:36:56.695431",
     "exception": false,
     "start_time": "2023-07-18T23:36:55.903393",
     "status": "completed"
    },
    "tags": []
   },
   "outputs": [
    {
     "data": {
      "image/png": "[encoded data removed]",
      "text/plain": [
       "<Figure size 640x480 with 1 Axes>"
      ]
     },
     "metadata": {},
     "output_type": "display_data"
    }
   ],
   "source": [
    "# .groupby('pricing').count().plot.barh()\n",
    "pricing = data.pricing.fillna('Unspecified').str.replace('[\\[\\'\\]]', '', regex=True).to_frame().reset_index().groupby('pricing').count()\n",
    "\n",
    "pricing.columns = ['count']\n",
    "plot = pricing.plot.barh()\n"
   ]
  },
  {
   "cell_type": "code",
   "execution_count": null,
   "id": "e49cbfb8",
   "metadata": {
    "papermill": {
     "duration": 0.00324,
     "end_time": "2023-07-18T23:36:56.702229",
     "exception": false,
     "start_time": "2023-07-18T23:36:56.698989",
     "status": "completed"
    },
    "tags": []
   },
   "outputs": [],
   "source": []
  }
 ],
 "metadata": {
  "kernelspec": {
   "display_name": "leeds-2023-YZF5GfJv",
   "language": "python",
   "name": "python3"
  },
  "language_info": {
   "codemirror_mode": {
    "name": "ipython",
    "version": 3
   },
   "file_extension": ".py",
   "mimetype": "text/x-python",
   "name": "python",
   "nbconvert_exporter": "python",
   "pygments_lexer": "ipython3",
   "version": "3.10.6"
  },
  "papermill": {
   "default_parameters": {},
   "duration": 13.738594,
   "end_time": "2023-07-18T23:36:57.124590",
   "environment_variables": {},
   "exception": null,
   "input_path": "transform.ipynb",
   "output_path": "../../../working/output/partner-events-transform.ipynb",
   "parameters": {},
   "start_time": "2023-07-18T23:36:43.385996",
   "version": "2.4.0"
  }
 },
 "nbformat": 4,
 "nbformat_minor": 5
}