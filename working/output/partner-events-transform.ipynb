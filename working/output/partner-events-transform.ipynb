{
 "cells": [
  {
   "cell_type": "code",
   "execution_count": 1,
   "id": "a6038fe0",
   "metadata": {
    "execution": {
     "iopub.execute_input": "2023-08-13T23:36:24.550804Z",
     "iopub.status.busy": "2023-08-13T23:36:24.550329Z",
     "iopub.status.idle": "2023-08-13T23:36:24.802474Z",
     "shell.execute_reply": "2023-08-13T23:36:24.801779Z"
    },
    "papermill": {
     "duration": 0.259132,
     "end_time": "2023-08-13T23:36:24.804804",
     "exception": false,
     "start_time": "2023-08-13T23:36:24.545672",
     "status": "completed"
    },
    "tags": []
   },
   "outputs": [],
   "source": [
    "import os\n",
    "import sys\n",
    "import pandas as pd\n",
    "lib_dir = os.path.realpath('../../../lib/')\n",
    "if lib_dir not in sys.path: sys.path.append(lib_dir)"
   ]
  },
  {
   "cell_type": "code",
   "execution_count": 2,
   "id": "92ed41e1",
   "metadata": {
    "execution": {
     "iopub.execute_input": "2023-08-13T23:36:24.811493Z",
     "iopub.status.busy": "2023-08-13T23:36:24.810901Z",
     "iopub.status.idle": "2023-08-13T23:36:34.363980Z",
     "shell.execute_reply": "2023-08-13T23:36:34.363314Z"
    },
    "papermill": {
     "duration": 9.558323,
     "end_time": "2023-08-13T23:36:34.365846",
     "exception": false,
     "start_time": "2023-08-13T23:36:24.807523",
     "status": "completed"
    },
    "tags": []
   },
   "outputs": [],
   "source": [
    "import util.geo"
   ]
  },
  {
   "cell_type": "code",
   "execution_count": 3,
   "id": "adcdee10",
   "metadata": {
    "execution": {
     "iopub.execute_input": "2023-08-13T23:36:34.373035Z",
     "iopub.status.busy": "2023-08-13T23:36:34.372376Z",
     "iopub.status.idle": "2023-08-13T23:36:34.376041Z",
     "shell.execute_reply": "2023-08-13T23:36:34.375406Z"
    },
    "papermill": {
     "duration": 0.009069,
     "end_time": "2023-08-13T23:36:34.377602",
     "exception": false,
     "start_time": "2023-08-13T23:36:34.368533",
     "status": "completed"
    },
    "tags": []
   },
   "outputs": [],
   "source": [
    "EVENTS_RAW_DATA = '../../../working/metrics/partner-events/events.csv'\n",
    "DATA_DIR = '../../../data/metrics/events/partner-events/'\n",
    "EVENTS_DATA = os.path.join(DATA_DIR, 'events.csv')"
   ]
  },
  {
   "cell_type": "code",
   "execution_count": 4,
   "id": "4040f47f",
   "metadata": {
    "execution": {
     "iopub.execute_input": "2023-08-13T23:36:34.383452Z",
     "iopub.status.busy": "2023-08-13T23:36:34.382932Z",
     "iopub.status.idle": "2023-08-13T23:36:34.386471Z",
     "shell.execute_reply": "2023-08-13T23:36:34.385871Z"
    },
    "papermill": {
     "duration": 0.008117,
     "end_time": "2023-08-13T23:36:34.388021",
     "exception": false,
     "start_time": "2023-08-13T23:36:34.379904",
     "status": "completed"
    },
    "tags": []
   },
   "outputs": [],
   "source": [
    "columns = {\n",
    "    'Event Name': 'name',\n",
    "    'Event Start Date': 'start_date',\n",
    "    'Event End Date': 'end_date',\n",
    "    'Partner/Promote': 'partner_promote',\n",
    "    'Stage': 'stage',\n",
    "    'Live date': 'live_date',\n",
    "    'Venue postcode': 'postcode',\n",
    "    'Pricing Policy': 'pricing',\n",
    "    'Venue - including address': 'venue',\n",
    "    'Is this event on Leeds Inspried?': 'on_leeds_inspired',\n",
    "}"
   ]
  },
  {
   "cell_type": "markdown",
   "id": "4df479c3",
   "metadata": {
    "papermill": {
     "duration": 0.002282,
     "end_time": "2023-08-13T23:36:34.392588",
     "exception": false,
     "start_time": "2023-08-13T23:36:34.390306",
     "status": "completed"
    },
    "tags": []
   },
   "source": [
    "Load the data and rename columns. Parse the dates to dates."
   ]
  },
  {
   "cell_type": "code",
   "execution_count": 5,
   "id": "a8f295fe",
   "metadata": {
    "execution": {
     "iopub.execute_input": "2023-08-13T23:36:34.398494Z",
     "iopub.status.busy": "2023-08-13T23:36:34.397966Z",
     "iopub.status.idle": "2023-08-13T23:36:34.409062Z",
     "shell.execute_reply": "2023-08-13T23:36:34.408485Z"
    },
    "papermill": {
     "duration": 0.015944,
     "end_time": "2023-08-13T23:36:34.410818",
     "exception": false,
     "start_time": "2023-08-13T23:36:34.394874",
     "status": "completed"
    },
    "tags": []
   },
   "outputs": [],
   "source": [
    "data = pd.read_csv(EVENTS_RAW_DATA)[columns.keys()].rename(columns=columns)\n",
    "data.start_date = pd.to_datetime(data.start_date, errors='coerce')\n",
    "data.end_date = pd.to_datetime(data.end_date, errors='coerce')"
   ]
  },
  {
   "cell_type": "markdown",
   "id": "5be2da9c",
   "metadata": {
    "papermill": {
     "duration": 0.002351,
     "end_time": "2023-08-13T23:36:34.415642",
     "exception": false,
     "start_time": "2023-08-13T23:36:34.413291",
     "status": "completed"
    },
    "tags": []
   },
   "source": [
    "Filter data by not LI Pull through and start date before now"
   ]
  },
  {
   "cell_type": "code",
   "execution_count": 6,
   "id": "f5546814",
   "metadata": {
    "execution": {
     "iopub.execute_input": "2023-08-13T23:36:34.421813Z",
     "iopub.status.busy": "2023-08-13T23:36:34.421254Z",
     "iopub.status.idle": "2023-08-13T23:36:34.426920Z",
     "shell.execute_reply": "2023-08-13T23:36:34.426266Z"
    },
    "papermill": {
     "duration": 0.010295,
     "end_time": "2023-08-13T23:36:34.428328",
     "exception": false,
     "start_time": "2023-08-13T23:36:34.418033",
     "status": "completed"
    },
    "tags": []
   },
   "outputs": [],
   "source": [
    "data = data[\n",
    "    # (data.live_date == 'This event is live ') &\n",
    "    ((data.stage != 'LI pull through') & data.stage.notna()) &\n",
    "    (data.start_date < pd.Timestamp.now())\n",
    "]"
   ]
  },
  {
   "cell_type": "code",
   "execution_count": 7,
   "id": "d37dadf6",
   "metadata": {
    "execution": {
     "iopub.execute_input": "2023-08-13T23:36:34.434713Z",
     "iopub.status.busy": "2023-08-13T23:36:34.434302Z",
     "iopub.status.idle": "2023-08-13T23:36:35.684022Z",
     "shell.execute_reply": "2023-08-13T23:36:35.683353Z"
    },
    "papermill": {
     "duration": 1.255209,
     "end_time": "2023-08-13T23:36:35.686005",
     "exception": false,
     "start_time": "2023-08-13T23:36:34.430796",
     "status": "completed"
    },
    "tags": []
   },
   "outputs": [],
   "source": [
    "data['ward_code'] = data.postcode.pipe(util.geo.postcode_formatter).map(util.geo.postcode_to_ward_code)\n",
    "data['ward_name'] = data.ward_code.pipe(util.geo.ward_code_to_name)"
   ]
  },
  {
   "cell_type": "markdown",
   "id": "e1cb388b",
   "metadata": {
    "papermill": {
     "duration": 0.003753,
     "end_time": "2023-08-13T23:36:35.693366",
     "exception": false,
     "start_time": "2023-08-13T23:36:35.689613",
     "status": "completed"
    },
    "tags": []
   },
   "source": [
    "Save the file"
   ]
  },
  {
   "cell_type": "code",
   "execution_count": 8,
   "id": "ac44a2ed",
   "metadata": {
    "execution": {
     "iopub.execute_input": "2023-08-13T23:36:35.699928Z",
     "iopub.status.busy": "2023-08-13T23:36:35.699169Z",
     "iopub.status.idle": "2023-08-13T23:36:35.705963Z",
     "shell.execute_reply": "2023-08-13T23:36:35.705364Z"
    },
    "papermill": {
     "duration": 0.01157,
     "end_time": "2023-08-13T23:36:35.707406",
     "exception": false,
     "start_time": "2023-08-13T23:36:35.695836",
     "status": "completed"
    },
    "tags": []
   },
   "outputs": [],
   "source": [
    "data[\n",
    "    ['name','start_date','end_date','ward_code']\n",
    "].to_csv(EVENTS_DATA, index=False)"
   ]
  },
  {
   "cell_type": "markdown",
   "id": "9a35c35f",
   "metadata": {
    "papermill": {
     "duration": 0.002384,
     "end_time": "2023-08-13T23:36:35.712215",
     "exception": false,
     "start_time": "2023-08-13T23:36:35.709831",
     "status": "completed"
    },
    "tags": []
   },
   "source": [
    "Print out missing postcode data"
   ]
  },
  {
   "cell_type": "code",
   "execution_count": 9,
   "id": "4587525e",
   "metadata": {
    "execution": {
     "iopub.execute_input": "2023-08-13T23:36:35.718526Z",
     "iopub.status.busy": "2023-08-13T23:36:35.717933Z",
     "iopub.status.idle": "2023-08-13T23:36:35.733058Z",
     "shell.execute_reply": "2023-08-13T23:36:35.732482Z"
    },
    "papermill": {
     "duration": 0.019959,
     "end_time": "2023-08-13T23:36:35.734640",
     "exception": false,
     "start_time": "2023-08-13T23:36:35.714681",
     "status": "completed"
    },
    "tags": []
   },
   "outputs": [
    {
     "data": {
      "text/html": [
       "<div>\n",
       "<style scoped>\n",
       "    .dataframe tbody tr th:only-of-type {\n",
       "        vertical-align: middle;\n",
       "    }\n",
       "\n",
       "    .dataframe tbody tr th {\n",
       "        vertical-align: top;\n",
       "    }\n",
       "\n",
       "    .dataframe thead th {\n",
       "        text-align: right;\n",
       "    }\n",
       "</style>\n",
       "<table border=\"1\" class=\"dataframe\">\n",
       "  <thead>\n",
       "    <tr style=\"text-align: right;\">\n",
       "      <th></th>\n",
       "      <th>name</th>\n",
       "      <th>start_date</th>\n",
       "    </tr>\n",
       "  </thead>\n",
       "  <tbody>\n",
       "    <tr>\n",
       "      <th>1</th>\n",
       "      <td>East Street Arts, A City Less Grey 2022</td>\n",
       "      <td>2022-10-08</td>\n",
       "    </tr>\n",
       "    <tr>\n",
       "      <th>3</th>\n",
       "      <td>Phoenix Dance Theatre Virtual Gallery</td>\n",
       "      <td>2023-01-01</td>\n",
       "    </tr>\n",
       "    <tr>\n",
       "      <th>4</th>\n",
       "      <td>The Big Art Giveaway, School of Creative Arts ...</td>\n",
       "      <td>2023-01-01</td>\n",
       "    </tr>\n",
       "    <tr>\n",
       "      <th>5</th>\n",
       "      <td>Embassy of Netherlands, Meet Leeds Lab</td>\n",
       "      <td>2023-01-16</td>\n",
       "    </tr>\n",
       "    <tr>\n",
       "      <th>6</th>\n",
       "      <td>Shifting Borders: A Journey to the Centre of o...</td>\n",
       "      <td>2023-01-24</td>\n",
       "    </tr>\n",
       "    <tr>\n",
       "      <th>12</th>\n",
       "      <td>Leeds Lit Fest 2023</td>\n",
       "      <td>2023-02-25</td>\n",
       "    </tr>\n",
       "    <tr>\n",
       "      <th>26</th>\n",
       "      <td>East Street Arts, Add Fuel</td>\n",
       "      <td>2023-04-01</td>\n",
       "    </tr>\n",
       "    <tr>\n",
       "      <th>43</th>\n",
       "      <td>Jamica Society Leeds, Out of Many Festival - T...</td>\n",
       "      <td>2023-05-01</td>\n",
       "    </tr>\n",
       "    <tr>\n",
       "      <th>44</th>\n",
       "      <td>Sayang, Si Polan - International residency in ...</td>\n",
       "      <td>2023-05-01</td>\n",
       "    </tr>\n",
       "    <tr>\n",
       "      <th>63</th>\n",
       "      <td>Leeds Jazz Festival 2023</td>\n",
       "      <td>2023-05-25</td>\n",
       "    </tr>\n",
       "    <tr>\n",
       "      <th>79</th>\n",
       "      <td>Keira Martin, Queenie and the Pooka (Performan...</td>\n",
       "      <td>2023-06-05</td>\n",
       "    </tr>\n",
       "    <tr>\n",
       "      <th>80</th>\n",
       "      <td>My LEEDS Summer: Kirkstall Makes + Moves</td>\n",
       "      <td>2023-06-11</td>\n",
       "    </tr>\n",
       "    <tr>\n",
       "      <th>83</th>\n",
       "      <td>My LEEDS Summer at Hunslet Festival</td>\n",
       "      <td>2023-06-17</td>\n",
       "    </tr>\n",
       "    <tr>\n",
       "      <th>84</th>\n",
       "      <td>My LEEDS Summer: Roundhay World Music &amp; Food Fest</td>\n",
       "      <td>2023-06-17</td>\n",
       "    </tr>\n",
       "    <tr>\n",
       "      <th>92</th>\n",
       "      <td>My LEEDS Summer: Beeston Festival</td>\n",
       "      <td>2023-06-24</td>\n",
       "    </tr>\n",
       "    <tr>\n",
       "      <th>93</th>\n",
       "      <td>My LEEDS Summer: Crossgates and Whinmoor - Pas...</td>\n",
       "      <td>2023-06-24</td>\n",
       "    </tr>\n",
       "    <tr>\n",
       "      <th>94</th>\n",
       "      <td>My LEEDS Summer: Picnic in the Park</td>\n",
       "      <td>2023-06-24</td>\n",
       "    </tr>\n",
       "    <tr>\n",
       "      <th>97</th>\n",
       "      <td>Becoming the Brontës</td>\n",
       "      <td>2023-06-29</td>\n",
       "    </tr>\n",
       "    <tr>\n",
       "      <th>103</th>\n",
       "      <td>My LEEDS Summer: Wetherby Drovers Day</td>\n",
       "      <td>2023-07-01</td>\n",
       "    </tr>\n",
       "    <tr>\n",
       "      <th>104</th>\n",
       "      <td>My Leeds Summer : Walk of Art</td>\n",
       "      <td>2023-07-01</td>\n",
       "    </tr>\n",
       "    <tr>\n",
       "      <th>107</th>\n",
       "      <td>My LEEDS Summer: The Feast</td>\n",
       "      <td>2023-07-02</td>\n",
       "    </tr>\n",
       "    <tr>\n",
       "      <th>108</th>\n",
       "      <td>My LEEDS summer: Celebration Day</td>\n",
       "      <td>2023-07-02</td>\n",
       "    </tr>\n",
       "    <tr>\n",
       "      <th>116</th>\n",
       "      <td>My LEEDS Summer : Wonderful Workshops and Cele...</td>\n",
       "      <td>2023-07-06</td>\n",
       "    </tr>\n",
       "    <tr>\n",
       "      <th>123</th>\n",
       "      <td>My LEEDS Summer: The Gipton and Harehills Crea...</td>\n",
       "      <td>2023-07-08</td>\n",
       "    </tr>\n",
       "    <tr>\n",
       "      <th>125</th>\n",
       "      <td>My LEEDS Summer: Ardsley &amp; Robin Hood: Celebra...</td>\n",
       "      <td>2023-07-09</td>\n",
       "    </tr>\n",
       "    <tr>\n",
       "      <th>127</th>\n",
       "      <td>My LEEDS Summer: The Big Summer Picnic</td>\n",
       "      <td>2023-07-09</td>\n",
       "    </tr>\n",
       "    <tr>\n",
       "      <th>130</th>\n",
       "      <td>My LEEDS Summer: Ralph Thoresby Summer Festival</td>\n",
       "      <td>2023-07-15</td>\n",
       "    </tr>\n",
       "    <tr>\n",
       "      <th>132</th>\n",
       "      <td>My LEEDS Summer: Fuse Festival</td>\n",
       "      <td>2023-07-17</td>\n",
       "    </tr>\n",
       "    <tr>\n",
       "      <th>134</th>\n",
       "      <td>Community Training Programme</td>\n",
       "      <td>2023-07-20</td>\n",
       "    </tr>\n",
       "    <tr>\n",
       "      <th>136</th>\n",
       "      <td>My LEEDS Summer: Festival of Culture</td>\n",
       "      <td>2023-07-22</td>\n",
       "    </tr>\n",
       "    <tr>\n",
       "      <th>137</th>\n",
       "      <td>My LEEDS Summer: Kippax and Methley Culture Trail</td>\n",
       "      <td>2023-07-22</td>\n",
       "    </tr>\n",
       "    <tr>\n",
       "      <th>138</th>\n",
       "      <td>My LEEDS Summer: Farnley and Wortley gives it ...</td>\n",
       "      <td>2023-07-23</td>\n",
       "    </tr>\n",
       "    <tr>\n",
       "      <th>139</th>\n",
       "      <td>My LEEDS Summer: Garforth and Swillington's Cr...</td>\n",
       "      <td>2023-07-23</td>\n",
       "    </tr>\n",
       "    <tr>\n",
       "      <th>140</th>\n",
       "      <td>My LEEDS Summer: Morley Make Together</td>\n",
       "      <td>2023-07-23</td>\n",
       "    </tr>\n",
       "    <tr>\n",
       "      <th>141</th>\n",
       "      <td>Gracefool Collective, Kick Off 2023</td>\n",
       "      <td>2023-07-27</td>\n",
       "    </tr>\n",
       "    <tr>\n",
       "      <th>145</th>\n",
       "      <td>My LEEDS Summer: Picture Palace in the Park</td>\n",
       "      <td>2023-07-29</td>\n",
       "    </tr>\n",
       "    <tr>\n",
       "      <th>149</th>\n",
       "      <td>My LEEDS Summer: Cultural Bloom</td>\n",
       "      <td>2023-08-05</td>\n",
       "    </tr>\n",
       "    <tr>\n",
       "      <th>150</th>\n",
       "      <td>My Leeds Summer: Armley Extravaganza</td>\n",
       "      <td>2023-08-05</td>\n",
       "    </tr>\n",
       "    <tr>\n",
       "      <th>151</th>\n",
       "      <td>My Leeds Summer: Music, Moves and Makes</td>\n",
       "      <td>2023-08-06</td>\n",
       "    </tr>\n",
       "    <tr>\n",
       "      <th>156</th>\n",
       "      <td>My LEEDS Summer: A World in our Ward</td>\n",
       "      <td>2023-08-12</td>\n",
       "    </tr>\n",
       "  </tbody>\n",
       "</table>\n",
       "</div>"
      ],
      "text/plain": [
       "                                                  name start_date\n",
       "1              East Street Arts, A City Less Grey 2022 2022-10-08\n",
       "3                Phoenix Dance Theatre Virtual Gallery 2023-01-01\n",
       "4    The Big Art Giveaway, School of Creative Arts ... 2023-01-01\n",
       "5               Embassy of Netherlands, Meet Leeds Lab 2023-01-16\n",
       "6    Shifting Borders: A Journey to the Centre of o... 2023-01-24\n",
       "12                                 Leeds Lit Fest 2023 2023-02-25\n",
       "26                          East Street Arts, Add Fuel 2023-04-01\n",
       "43   Jamica Society Leeds, Out of Many Festival - T... 2023-05-01\n",
       "44   Sayang, Si Polan - International residency in ... 2023-05-01\n",
       "63                            Leeds Jazz Festival 2023 2023-05-25\n",
       "79   Keira Martin, Queenie and the Pooka (Performan... 2023-06-05\n",
       "80            My LEEDS Summer: Kirkstall Makes + Moves 2023-06-11\n",
       "83                 My LEEDS Summer at Hunslet Festival 2023-06-17\n",
       "84   My LEEDS Summer: Roundhay World Music & Food Fest 2023-06-17\n",
       "92                   My LEEDS Summer: Beeston Festival 2023-06-24\n",
       "93   My LEEDS Summer: Crossgates and Whinmoor - Pas... 2023-06-24\n",
       "94                 My LEEDS Summer: Picnic in the Park 2023-06-24\n",
       "97                                Becoming the Brontës 2023-06-29\n",
       "103              My LEEDS Summer: Wetherby Drovers Day 2023-07-01\n",
       "104                      My Leeds Summer : Walk of Art 2023-07-01\n",
       "107                         My LEEDS Summer: The Feast 2023-07-02\n",
       "108                   My LEEDS summer: Celebration Day 2023-07-02\n",
       "116  My LEEDS Summer : Wonderful Workshops and Cele... 2023-07-06\n",
       "123  My LEEDS Summer: The Gipton and Harehills Crea... 2023-07-08\n",
       "125  My LEEDS Summer: Ardsley & Robin Hood: Celebra... 2023-07-09\n",
       "127             My LEEDS Summer: The Big Summer Picnic 2023-07-09\n",
       "130    My LEEDS Summer: Ralph Thoresby Summer Festival 2023-07-15\n",
       "132                     My LEEDS Summer: Fuse Festival 2023-07-17\n",
       "134                       Community Training Programme 2023-07-20\n",
       "136               My LEEDS Summer: Festival of Culture 2023-07-22\n",
       "137  My LEEDS Summer: Kippax and Methley Culture Trail 2023-07-22\n",
       "138  My LEEDS Summer: Farnley and Wortley gives it ... 2023-07-23\n",
       "139  My LEEDS Summer: Garforth and Swillington's Cr... 2023-07-23\n",
       "140              My LEEDS Summer: Morley Make Together 2023-07-23\n",
       "141                Gracefool Collective, Kick Off 2023 2023-07-27\n",
       "145        My LEEDS Summer: Picture Palace in the Park 2023-07-29\n",
       "149                    My LEEDS Summer: Cultural Bloom 2023-08-05\n",
       "150               My Leeds Summer: Armley Extravaganza 2023-08-05\n",
       "151            My Leeds Summer: Music, Moves and Makes 2023-08-06\n",
       "156               My LEEDS Summer: A World in our Ward 2023-08-12"
      ]
     },
     "execution_count": 9,
     "metadata": {},
     "output_type": "execute_result"
    }
   ],
   "source": [
    "data[data.postcode.isna()][[\n",
    "    'name', 'start_date'\n",
    "]]"
   ]
  },
  {
   "cell_type": "markdown",
   "id": "34178c36",
   "metadata": {
    "papermill": {
     "duration": 0.002813,
     "end_time": "2023-08-13T23:36:35.740357",
     "exception": false,
     "start_time": "2023-08-13T23:36:35.737544",
     "status": "completed"
    },
    "tags": []
   },
   "source": [
    "Plot the pricing"
   ]
  },
  {
   "cell_type": "code",
   "execution_count": 10,
   "id": "436a559e",
   "metadata": {
    "execution": {
     "iopub.execute_input": "2023-08-13T23:36:35.747395Z",
     "iopub.status.busy": "2023-08-13T23:36:35.746937Z",
     "iopub.status.idle": "2023-08-13T23:36:36.563163Z",
     "shell.execute_reply": "2023-08-13T23:36:36.561771Z"
    },
    "papermill": {
     "duration": 0.821839,
     "end_time": "2023-08-13T23:36:36.565047",
     "exception": false,
     "start_time": "2023-08-13T23:36:35.743208",
     "status": "completed"
    },
    "tags": []
   },
   "outputs": [
    {
     "data": {
      "image/png": "[encoded data removed]",
      "text/plain": [
       "<Figure size 640x480 with 1 Axes>"
      ]
     },
     "metadata": {},
     "output_type": "display_data"
    }
   ],
   "source": [
    "# .groupby('pricing').count().plot.barh()\n",
    "pricing = data.pricing.fillna('Unspecified').str.replace('[\\[\\'\\]]', '', regex=True).to_frame().reset_index().groupby('pricing').count()\n",
    "\n",
    "pricing.columns = ['count']\n",
    "plot = pricing.plot.barh()\n"
   ]
  },
  {
   "cell_type": "code",
   "execution_count": null,
   "id": "c6edf248",
   "metadata": {
    "papermill": {
     "duration": 0.003363,
     "end_time": "2023-08-13T23:36:36.572269",
     "exception": false,
     "start_time": "2023-08-13T23:36:36.568906",
     "status": "completed"
    },
    "tags": []
   },
   "outputs": [],
   "source": []
  }
 ],
 "metadata": {
  "kernelspec": {
   "display_name": "leeds-2023-YZF5GfJv",
   "language": "python",
   "name": "python3"
  },
  "language_info": {
   "codemirror_mode": {
    "name": "ipython",
    "version": 3
   },
   "file_extension": ".py",
   "mimetype": "text/x-python",
   "name": "python",
   "nbconvert_exporter": "python",
   "pygments_lexer": "ipython3",
   "version": "3.10.12"
  },
  "papermill": {
   "default_parameters": {},
   "duration": 13.973046,
   "end_time": "2023-08-13T23:36:36.994494",
   "environment_variables": {},
   "exception": null,
   "input_path": "transform.ipynb",
   "output_path": "../../../working/output/partner-events-transform.ipynb",
   "parameters": {},
   "start_time": "2023-08-13T23:36:23.021448",
   "version": "2.4.0"
  }
 },
 "nbformat": 4,
 "nbformat_minor": 5
}