{
 "cells": [
  {
   "cell_type": "code",
   "execution_count": 1,
   "id": "67578bc1",
   "metadata": {
    "execution": {
     "iopub.execute_input": "2023-09-03T23:38:58.607565Z",
     "iopub.status.busy": "2023-09-03T23:38:58.606844Z",
     "iopub.status.idle": "2023-09-03T23:39:07.202783Z",
     "shell.execute_reply": "2023-09-03T23:39:07.202146Z"
    },
    "papermill": {
     "duration": 8.601248,
     "end_time": "2023-09-03T23:39:07.204512",
     "exception": false,
     "start_time": "2023-09-03T23:38:58.603264",
     "status": "completed"
    },
    "tags": []
   },
   "outputs": [],
   "source": [
    "import os\n",
    "import pandas as pd\n",
    "from events import load_event_data, get_first_ward, normalise_ward"
   ]
  },
  {
   "cell_type": "code",
   "execution_count": 2,
   "id": "1246a797",
   "metadata": {
    "execution": {
     "iopub.execute_input": "2023-09-03T23:39:07.210399Z",
     "iopub.status.busy": "2023-09-03T23:39:07.209928Z",
     "iopub.status.idle": "2023-09-03T23:39:07.213588Z",
     "shell.execute_reply": "2023-09-03T23:39:07.212974Z"
    },
    "papermill": {
     "duration": 0.008357,
     "end_time": "2023-09-03T23:39:07.215177",
     "exception": false,
     "start_time": "2023-09-03T23:39:07.206820",
     "status": "completed"
    },
    "tags": []
   },
   "outputs": [],
   "source": [
    "latest_date = pd.Timestamp.today().ceil('D')"
   ]
  },
  {
   "cell_type": "code",
   "execution_count": 3,
   "id": "db3b0fb5",
   "metadata": {
    "execution": {
     "iopub.execute_input": "2023-09-03T23:39:07.220662Z",
     "iopub.status.busy": "2023-09-03T23:39:07.220048Z",
     "iopub.status.idle": "2023-09-03T23:39:07.236149Z",
     "shell.execute_reply": "2023-09-03T23:39:07.235516Z"
    },
    "papermill": {
     "duration": 0.020407,
     "end_time": "2023-09-03T23:39:07.237602",
     "exception": false,
     "start_time": "2023-09-03T23:39:07.217195",
     "status": "completed"
    },
    "tags": []
   },
   "outputs": [],
   "source": [
    "tickets = pd.read_csv('../../../../data/metrics/events/tickets/orders.csv', parse_dates=['created_at', 'event_date'])\n",
    "tickets = tickets[tickets.event_date <= latest_date]"
   ]
  },
  {
   "cell_type": "code",
   "execution_count": 4,
   "id": "3ce8b259",
   "metadata": {
    "execution": {
     "iopub.execute_input": "2023-09-03T23:39:07.243112Z",
     "iopub.status.busy": "2023-09-03T23:39:07.242548Z",
     "iopub.status.idle": "2023-09-03T23:39:07.435970Z",
     "shell.execute_reply": "2023-09-03T23:39:07.435320Z"
    },
    "papermill": {
     "duration": 0.198041,
     "end_time": "2023-09-03T23:39:07.437764",
     "exception": false,
     "start_time": "2023-09-03T23:39:07.239723",
     "status": "completed"
    },
    "tags": []
   },
   "outputs": [],
   "source": [
    "events = load_event_data()\n",
    "\n",
    "events = pd.concat([\n",
    "  events,\n",
    "  events.pipe(get_first_ward).pipe(normalise_ward).fillna('UNKNOWN'),\n",
    "  pd.Series(\n",
    "      events.actual_audience_size_number_of_participants_in_person + events.actual_audience_size_number_of_participants_online,\n",
    "      name='attendances'\n",
    "  )\n",
    "], axis=1).rename(columns={\n",
    "    'start_date': 'date'\n",
    "}).loc[:, ['ward_code', 'date', 'event_unique_identifier', 'attendances']]"
   ]
  },
  {
   "cell_type": "code",
   "execution_count": 5,
   "id": "8fc147cc",
   "metadata": {
    "execution": {
     "iopub.execute_input": "2023-09-03T23:39:07.443546Z",
     "iopub.status.busy": "2023-09-03T23:39:07.443167Z",
     "iopub.status.idle": "2023-09-03T23:39:07.446528Z",
     "shell.execute_reply": "2023-09-03T23:39:07.445929Z"
    },
    "papermill": {
     "duration": 0.007754,
     "end_time": "2023-09-03T23:39:07.447838",
     "exception": false,
     "start_time": "2023-09-03T23:39:07.440084",
     "status": "completed"
    },
    "tags": []
   },
   "outputs": [],
   "source": [
    "OUTPUT_DIR='../../../../docs/metrics/events/signature/_data/'\n",
    "os.makedirs(OUTPUT_DIR, exist_ok=True)"
   ]
  },
  {
   "cell_type": "markdown",
   "id": "cf9a5582",
   "metadata": {
    "papermill": {
     "duration": 0.00208,
     "end_time": "2023-09-03T23:39:07.451963",
     "exception": false,
     "start_time": "2023-09-03T23:39:07.449883",
     "status": "completed"
    },
    "tags": []
   },
   "source": [
    "Events CSVs"
   ]
  },
  {
   "cell_type": "code",
   "execution_count": 6,
   "id": "c6e3cd46",
   "metadata": {
    "execution": {
     "iopub.execute_input": "2023-09-03T23:39:07.457065Z",
     "iopub.status.busy": "2023-09-03T23:39:07.456657Z",
     "iopub.status.idle": "2023-09-03T23:39:07.463271Z",
     "shell.execute_reply": "2023-09-03T23:39:07.462736Z"
    },
    "papermill": {
     "duration": 0.010781,
     "end_time": "2023-09-03T23:39:07.464762",
     "exception": false,
     "start_time": "2023-09-03T23:39:07.453981",
     "status": "completed"
    },
    "tags": []
   },
   "outputs": [],
   "source": [
    "pd.DataFrame({\n",
    "  'events': events.groupby('ward_code').event_unique_identifier.count(),\n",
    "  'attendances': events.groupby('ward_code').attendances.sum().astype(int),\n",
    "}).to_csv(os.path.join(OUTPUT_DIR, 'events_by_ward.csv'))\n"
   ]
  },
  {
   "cell_type": "code",
   "execution_count": 7,
   "id": "8b5de282",
   "metadata": {
    "execution": {
     "iopub.execute_input": "2023-09-03T23:39:07.470070Z",
     "iopub.status.busy": "2023-09-03T23:39:07.469586Z",
     "iopub.status.idle": "2023-09-03T23:39:07.479607Z",
     "shell.execute_reply": "2023-09-03T23:39:07.479052Z"
    },
    "papermill": {
     "duration": 0.014262,
     "end_time": "2023-09-03T23:39:07.481078",
     "exception": false,
     "start_time": "2023-09-03T23:39:07.466816",
     "status": "completed"
    },
    "tags": []
   },
   "outputs": [],
   "source": [
    "pd.DataFrame({\n",
    "  'events': events.groupby('date').event_unique_identifier.count(),\n",
    "  'attendances': events.groupby('date').attendances.sum().astype(int),\n",
    "}).resample('M').sum().astype(int).to_csv(os.path.join(OUTPUT_DIR, 'events_by_date.csv'))"
   ]
  },
  {
   "cell_type": "markdown",
   "id": "999e2d42",
   "metadata": {
    "papermill": {
     "duration": 0.002079,
     "end_time": "2023-09-03T23:39:07.485241",
     "exception": false,
     "start_time": "2023-09-03T23:39:07.483162",
     "status": "completed"
    },
    "tags": []
   },
   "source": [
    "Tickets CSV"
   ]
  },
  {
   "cell_type": "code",
   "execution_count": 8,
   "id": "e4d55990",
   "metadata": {
    "execution": {
     "iopub.execute_input": "2023-09-03T23:39:07.490245Z",
     "iopub.status.busy": "2023-09-03T23:39:07.490042Z",
     "iopub.status.idle": "2023-09-03T23:39:07.496349Z",
     "shell.execute_reply": "2023-09-03T23:39:07.495814Z"
    },
    "papermill": {
     "duration": 0.010409,
     "end_time": "2023-09-03T23:39:07.497709",
     "exception": false,
     "start_time": "2023-09-03T23:39:07.487300",
     "status": "completed"
    },
    "tags": []
   },
   "outputs": [],
   "source": [
    "pd.DataFrame({\n",
    "  'orders': tickets.groupby('ward_code').number_of_tickets.count(),\n",
    "  'tickets': tickets.groupby('ward_code').number_of_tickets.sum().astype(int),\n",
    "}).to_csv(os.path.join(OUTPUT_DIR, 'tickets_by_ward.csv'))"
   ]
  },
  {
   "cell_type": "code",
   "execution_count": 9,
   "id": "69105d3a",
   "metadata": {
    "execution": {
     "iopub.execute_input": "2023-09-03T23:39:07.502977Z",
     "iopub.status.busy": "2023-09-03T23:39:07.502775Z",
     "iopub.status.idle": "2023-09-03T23:39:07.510167Z",
     "shell.execute_reply": "2023-09-03T23:39:07.509642Z"
    },
    "papermill": {
     "duration": 0.011679,
     "end_time": "2023-09-03T23:39:07.511557",
     "exception": false,
     "start_time": "2023-09-03T23:39:07.499878",
     "status": "completed"
    },
    "tags": []
   },
   "outputs": [],
   "source": [
    "pd.DataFrame({\n",
    "  'orders': tickets.groupby('event_date').number_of_tickets.count(),\n",
    "  'tickets': tickets.groupby('event_date').number_of_tickets.sum().astype(int),\n",
    "}).resample('M').sum().to_csv(os.path.join(OUTPUT_DIR, 'tickets_by_event_date.csv'))"
   ]
  },
  {
   "cell_type": "code",
   "execution_count": 10,
   "id": "818a02a3",
   "metadata": {
    "execution": {
     "iopub.execute_input": "2023-09-03T23:39:07.517674Z",
     "iopub.status.busy": "2023-09-03T23:39:07.517469Z",
     "iopub.status.idle": "2023-09-03T23:39:07.522194Z",
     "shell.execute_reply": "2023-09-03T23:39:07.521604Z"
    },
    "papermill": {
     "duration": 0.009821,
     "end_time": "2023-09-03T23:39:07.523551",
     "exception": false,
     "start_time": "2023-09-03T23:39:07.513730",
     "status": "completed"
    },
    "tags": []
   },
   "outputs": [],
   "source": [
    "pd.Series({\n",
    "    'total_events': events.event_unique_identifier.count(),\n",
    "    'total_attendances': events.attendances.count(),\n",
    "    'first_event': events.date.min(),\n",
    "    'latest_event': events.date.max(),\n",
    "    'total_ticket_orders_for_events_to_date': tickets.number_of_tickets.count(),\n",
    "    'total_tickets_sold_for_events_to_date': tickets.number_of_tickets.sum(),\n",
    "}).to_json(os.path.join(OUTPUT_DIR, 'headlines.json'), indent=2)"
   ]
  },
  {
   "cell_type": "code",
   "execution_count": null,
   "id": "08369ecc",
   "metadata": {
    "papermill": {
     "duration": 0.002147,
     "end_time": "2023-09-03T23:39:07.527886",
     "exception": false,
     "start_time": "2023-09-03T23:39:07.525739",
     "status": "completed"
    },
    "tags": []
   },
   "outputs": [],
   "source": []
  }
 ],
 "metadata": {
  "kernelspec": {
   "display_name": "leeds-2023-YZF5GfJv",
   "language": "python",
   "name": "python3"
  },
  "language_info": {
   "codemirror_mode": {
    "name": "ipython",
    "version": 3
   },
   "file_extension": ".py",
   "mimetype": "text/x-python",
   "name": "python",
   "nbconvert_exporter": "python",
   "pygments_lexer": "ipython3",
   "version": "3.10.12"
  },
  "papermill": {
   "default_parameters": {},
   "duration": 10.616922,
   "end_time": "2023-09-03T23:39:07.847582",
   "environment_variables": {},
   "exception": null,
   "input_path": "prepare.ipynb",
   "output_path": "../../../../working/output/signature-prepare.ipynb",
   "parameters": {},
   "start_time": "2023-09-03T23:38:57.230660",
   "version": "2.4.0"
  }
 },
 "nbformat": 4,
 "nbformat_minor": 5
}