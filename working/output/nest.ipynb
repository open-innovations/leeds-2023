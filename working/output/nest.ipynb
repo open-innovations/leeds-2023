{
 "cells": [
  {
   "cell_type": "markdown",
   "id": "17463fc5",
   "metadata": {
    "papermill": {
     "duration": 0.004235,
     "end_time": "2023-10-20T11:34:47.942424",
     "exception": false,
     "start_time": "2023-10-20T11:34:47.938189",
     "status": "completed"
    },
    "tags": []
   },
   "source": [
    "# Nest\n",
    "\n",
    "Prepares data for the Nest page "
   ]
  },
  {
   "cell_type": "code",
   "execution_count": 1,
   "id": "16f29546",
   "metadata": {
    "execution": {
     "iopub.execute_input": "2023-10-20T11:34:47.945047Z",
     "iopub.status.busy": "2023-10-20T11:34:47.944849Z",
     "iopub.status.idle": "2023-10-20T11:34:52.807634Z",
     "shell.execute_reply": "2023-10-20T11:34:52.807195Z"
    },
    "papermill": {
     "duration": 4.865329,
     "end_time": "2023-10-20T11:34:52.808729",
     "exception": false,
     "start_time": "2023-10-20T11:34:47.943400",
     "status": "completed"
    },
    "tags": []
   },
   "outputs": [],
   "source": [
    "import os\n",
    "from events import (\n",
    "    load_event_data, filter_public_events, filter_by_project, prepare, save_files, count_wards\n",
    ")"
   ]
  },
  {
   "cell_type": "markdown",
   "id": "fefcb051",
   "metadata": {
    "papermill": {
     "duration": 0.000828,
     "end_time": "2023-10-20T11:34:52.810608",
     "exception": false,
     "start_time": "2023-10-20T11:34:52.809780",
     "status": "completed"
    },
    "tags": []
   },
   "source": [
    "Set output directory"
   ]
  },
  {
   "cell_type": "code",
   "execution_count": 2,
   "id": "b941859a",
   "metadata": {
    "execution": {
     "iopub.execute_input": "2023-10-20T11:34:52.812766Z",
     "iopub.status.busy": "2023-10-20T11:34:52.812605Z",
     "iopub.status.idle": "2023-10-20T11:34:52.814511Z",
     "shell.execute_reply": "2023-10-20T11:34:52.814231Z"
    },
    "papermill": {
     "duration": 0.004016,
     "end_time": "2023-10-20T11:34:52.815381",
     "exception": false,
     "start_time": "2023-10-20T11:34:52.811365",
     "status": "completed"
    },
    "tags": []
   },
   "outputs": [],
   "source": [
    "OUT_DIR = '../../../../docs/metrics/events/nest/_data/events'"
   ]
  },
  {
   "cell_type": "markdown",
   "id": "4ddda6ff",
   "metadata": {
    "papermill": {
     "duration": 0.000831,
     "end_time": "2023-10-20T11:34:52.816989",
     "exception": false,
     "start_time": "2023-10-20T11:34:52.816158",
     "status": "completed"
    },
    "tags": []
   },
   "source": [
    "Read in event data and filter by **My LEEDS 2023** project.\n",
    "\n",
    "The criteria are:\n",
    "\n",
    "* project type is 'Produce (Signature)'\n",
    "* event_type contains 'Public Event -'\n",
    "\n",
    "It's then filtered by project_name is '10 - Melt'"
   ]
  },
  {
   "cell_type": "code",
   "execution_count": 3,
   "id": "5c07513e",
   "metadata": {
    "execution": {
     "iopub.execute_input": "2023-10-20T11:34:52.818953Z",
     "iopub.status.busy": "2023-10-20T11:34:52.818820Z",
     "iopub.status.idle": "2023-10-20T11:34:52.832287Z",
     "shell.execute_reply": "2023-10-20T11:34:52.832004Z"
    },
    "papermill": {
     "duration": 0.015248,
     "end_time": "2023-10-20T11:34:52.832973",
     "exception": false,
     "start_time": "2023-10-20T11:34:52.817725",
     "status": "completed"
    },
    "tags": []
   },
   "outputs": [
    {
     "data": {
      "text/html": [
       "<div>\n",
       "<style scoped>\n",
       "    .dataframe tbody tr th:only-of-type {\n",
       "        vertical-align: middle;\n",
       "    }\n",
       "\n",
       "    .dataframe tbody tr th {\n",
       "        vertical-align: top;\n",
       "    }\n",
       "\n",
       "    .dataframe thead th {\n",
       "        text-align: right;\n",
       "    }\n",
       "</style>\n",
       "<table border=\"1\" class=\"dataframe\">\n",
       "  <thead>\n",
       "    <tr style=\"text-align: right;\">\n",
       "      <th></th>\n",
       "      <th>actual_audience_size_number_of_participants_in_person</th>\n",
       "      <th>actual_audience_size_number_of_participants_online</th>\n",
       "      <th>airtable_id</th>\n",
       "      <th>end_date</th>\n",
       "      <th>event_name</th>\n",
       "      <th>event_type</th>\n",
       "      <th>event_unique_identifier</th>\n",
       "      <th>number_of_booked_participants</th>\n",
       "      <th>postcode_(from_venue)</th>\n",
       "      <th>project_name</th>\n",
       "      <th>project_type</th>\n",
       "      <th>season</th>\n",
       "      <th>start_date</th>\n",
       "      <th>ward_(from_venue)</th>\n",
       "    </tr>\n",
       "  </thead>\n",
       "  <tbody>\n",
       "    <tr>\n",
       "      <th>1084</th>\n",
       "      <td>1338.0</td>\n",
       "      <td>NaN</td>\n",
       "      <td>241</td>\n",
       "      <td>2023-09-09</td>\n",
       "      <td>Melt (Run)</td>\n",
       "      <td>['Public Event - Performance']</td>\n",
       "      <td>10 - Melt: Melt (Run)</td>\n",
       "      <td>1542.0</td>\n",
       "      <td>['LS26 8AL']</td>\n",
       "      <td>10 - Melt</td>\n",
       "      <td>Produce (Signature)</td>\n",
       "      <td>['Season 3 - Dreaming']</td>\n",
       "      <td>2023-09-05</td>\n",
       "      <td>['Garforth and Swillington']</td>\n",
       "    </tr>\n",
       "  </tbody>\n",
       "</table>\n",
       "</div>"
      ],
      "text/plain": [
       "      actual_audience_size_number_of_participants_in_person  \\\n",
       "1084                                             1338.0       \n",
       "\n",
       "      actual_audience_size_number_of_participants_online  airtable_id  \\\n",
       "1084                                                NaN           241   \n",
       "\n",
       "        end_date  event_name                      event_type  \\\n",
       "1084  2023-09-09  Melt (Run)  ['Public Event - Performance']   \n",
       "\n",
       "     event_unique_identifier  number_of_booked_participants  \\\n",
       "1084   10 - Melt: Melt (Run)                         1542.0   \n",
       "\n",
       "     postcode_(from_venue) project_name         project_type  \\\n",
       "1084          ['LS26 8AL']    10 - Melt  Produce (Signature)   \n",
       "\n",
       "                       season start_date             ward_(from_venue)  \n",
       "1084  ['Season 3 - Dreaming'] 2023-09-05  ['Garforth and Swillington']  "
      ]
     },
     "execution_count": 3,
     "metadata": {},
     "output_type": "execute_result"
    }
   ],
   "source": [
    "data = (\n",
    "  load_event_data()\n",
    "    .pipe(filter_by_project, '10 - Melt')\n",
    "    .pipe(filter_public_events)\n",
    "  )\n",
    "data"
   ]
  },
  {
   "cell_type": "markdown",
   "id": "eeff056a",
   "metadata": {
    "papermill": {
     "duration": 0.000892,
     "end_time": "2023-10-20T11:34:52.834854",
     "exception": false,
     "start_time": "2023-10-20T11:34:52.833962",
     "status": "completed"
    },
    "tags": []
   },
   "source": [
    "Run the processing and save the files"
   ]
  },
  {
   "cell_type": "code",
   "execution_count": 4,
   "id": "a9b4d7cc",
   "metadata": {
    "execution": {
     "iopub.execute_input": "2023-10-20T11:34:52.837236Z",
     "iopub.status.busy": "2023-10-20T11:34:52.837088Z",
     "iopub.status.idle": "2023-10-20T11:34:52.851076Z",
     "shell.execute_reply": "2023-10-20T11:34:52.850739Z"
    },
    "papermill": {
     "duration": 0.016218,
     "end_time": "2023-10-20T11:34:52.852007",
     "exception": false,
     "start_time": "2023-10-20T11:34:52.835789",
     "status": "completed"
    },
    "tags": []
   },
   "outputs": [],
   "source": [
    "data = data.pipe(prepare).pipe(save_files, OUT_DIR)"
   ]
  }
 ],
 "metadata": {
  "kernelspec": {
   "display_name": "leeds-2023-YZF5GfJv",
   "language": "python",
   "name": "python3"
  },
  "language_info": {
   "codemirror_mode": {
    "name": "ipython",
    "version": 3
   },
   "file_extension": ".py",
   "mimetype": "text/x-python",
   "name": "python",
   "nbconvert_exporter": "python",
   "pygments_lexer": "ipython3",
   "version": "3.10.12"
  },
  "papermill": {
   "default_parameters": {},
   "duration": 5.852024,
   "end_time": "2023-10-20T11:34:53.068556",
   "environment_variables": {},
   "exception": null,
   "input_path": "nest.ipynb",
   "output_path": "../../../../working/output/nest.ipynb",
   "parameters": {},
   "start_time": "2023-10-20T11:34:47.216532",
   "version": "2.4.0"
  }
 },
 "nbformat": 4,
 "nbformat_minor": 5
}