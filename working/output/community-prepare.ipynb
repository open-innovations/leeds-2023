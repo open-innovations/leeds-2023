{
 "cells": [
  {
   "cell_type": "code",
   "execution_count": 1,
   "id": "e1079181",
   "metadata": {
    "execution": {
     "iopub.execute_input": "2023-12-21T23:41:00.013911Z",
     "iopub.status.busy": "2023-12-21T23:41:00.013720Z",
     "iopub.status.idle": "2023-12-21T23:41:00.255677Z",
     "shell.execute_reply": "2023-12-21T23:41:00.255084Z"
    },
    "papermill": {
     "duration": 0.246683,
     "end_time": "2023-12-21T23:41:00.257365",
     "exception": false,
     "start_time": "2023-12-21T23:41:00.010682",
     "status": "completed"
    },
    "tags": []
   },
   "outputs": [],
   "source": [
    "import os, sys\n",
    "TOP_DIR = os.path.realpath('../../..')\n",
    "if TOP_DIR not in sys.path: sys.path.append(TOP_DIR)\n",
    "import pandas as pd"
   ]
  },
  {
   "cell_type": "code",
   "execution_count": 2,
   "id": "859349b6",
   "metadata": {
    "execution": {
     "iopub.execute_input": "2023-12-21T23:41:00.261807Z",
     "iopub.status.busy": "2023-12-21T23:41:00.261364Z",
     "iopub.status.idle": "2023-12-21T23:41:00.265418Z",
     "shell.execute_reply": "2023-12-21T23:41:00.264821Z"
    },
    "papermill": {
     "duration": 0.007716,
     "end_time": "2023-12-21T23:41:00.266872",
     "exception": false,
     "start_time": "2023-12-21T23:41:00.259156",
     "status": "completed"
    },
    "tags": []
   },
   "outputs": [],
   "source": [
    "from lib.util.convert import named_cumulative_sum"
   ]
  },
  {
   "cell_type": "code",
   "execution_count": 3,
   "id": "ac50de59",
   "metadata": {
    "execution": {
     "iopub.execute_input": "2023-12-21T23:41:00.270670Z",
     "iopub.status.busy": "2023-12-21T23:41:00.270287Z",
     "iopub.status.idle": "2023-12-21T23:41:00.278632Z",
     "shell.execute_reply": "2023-12-21T23:41:00.278132Z"
    },
    "papermill": {
     "duration": 0.011676,
     "end_time": "2023-12-21T23:41:00.279955",
     "exception": false,
     "start_time": "2023-12-21T23:41:00.268279",
     "status": "completed"
    },
    "tags": []
   },
   "outputs": [],
   "source": [
    "data = pd.read_csv('../../../data/metrics/community/events.csv', parse_dates=['start_date'])\n",
    "data.ward_code = data.ward_code.fillna('UNKNOWN')"
   ]
  },
  {
   "cell_type": "markdown",
   "id": "64f2d1d1",
   "metadata": {
    "papermill": {
     "duration": 0.001417,
     "end_time": "2023-12-21T23:41:00.282775",
     "exception": false,
     "start_time": "2023-12-21T23:41:00.281358",
     "status": "completed"
    },
    "tags": []
   },
   "source": [
    "Set up output directories"
   ]
  },
  {
   "cell_type": "code",
   "execution_count": 4,
   "id": "fa8b8073",
   "metadata": {
    "execution": {
     "iopub.execute_input": "2023-12-21T23:41:00.286649Z",
     "iopub.status.busy": "2023-12-21T23:41:00.286172Z",
     "iopub.status.idle": "2023-12-21T23:41:00.289389Z",
     "shell.execute_reply": "2023-12-21T23:41:00.288858Z"
    },
    "papermill": {
     "duration": 0.006479,
     "end_time": "2023-12-21T23:41:00.290619",
     "exception": false,
     "start_time": "2023-12-21T23:41:00.284140",
     "status": "completed"
    },
    "tags": []
   },
   "outputs": [],
   "source": [
    "OUT_DIR = '../../../docs/metrics/community/_data'\n",
    "os.makedirs(OUT_DIR, exist_ok=True)"
   ]
  },
  {
   "cell_type": "code",
   "execution_count": 5,
   "id": "41f00f1b",
   "metadata": {
    "execution": {
     "iopub.execute_input": "2023-12-21T23:41:00.294473Z",
     "iopub.status.busy": "2023-12-21T23:41:00.294074Z",
     "iopub.status.idle": "2023-12-21T23:41:00.299901Z",
     "shell.execute_reply": "2023-12-21T23:41:00.299298Z"
    },
    "papermill": {
     "duration": 0.00917,
     "end_time": "2023-12-21T23:41:00.301190",
     "exception": false,
     "start_time": "2023-12-21T23:41:00.292020",
     "status": "completed"
    },
    "tags": []
   },
   "outputs": [],
   "source": [
    "pd.Series({\n",
    "  'events': data.event_name.count(),\n",
    "  'audience': data.audience.sum().astype(int),\n",
    "  'errors': {\n",
    "    'missing_wards': (data.ward_code == 'UNKNOWN').value_counts()[True],\n",
    "    'missing_audience': data.audience.isna().value_counts()[True],\n",
    "    'zero_audience':  (data.audience < 1).value_counts()[True],  \n",
    "  }\n",
    "}).to_json(os.path.join(OUT_DIR, 'headlines.json'), indent=2)"
   ]
  },
  {
   "cell_type": "code",
   "execution_count": 6,
   "id": "ac8c19b3",
   "metadata": {
    "execution": {
     "iopub.execute_input": "2023-12-21T23:41:00.305158Z",
     "iopub.status.busy": "2023-12-21T23:41:00.304789Z",
     "iopub.status.idle": "2023-12-21T23:41:00.310857Z",
     "shell.execute_reply": "2023-12-21T23:41:00.310363Z"
    },
    "papermill": {
     "duration": 0.009606,
     "end_time": "2023-12-21T23:41:00.312226",
     "exception": false,
     "start_time": "2023-12-21T23:41:00.302620",
     "status": "completed"
    },
    "tags": []
   },
   "outputs": [],
   "source": [
    "by_ward = pd.DataFrame({\n",
    "  'events': data.groupby('ward_code').event_name.count().fillna(0).astype('int'),\n",
    "  'audience': data.groupby('ward_code').audience.sum().fillna(0).astype('int'),\n",
    "}).to_csv(os.path.join(OUT_DIR, 'by_ward.csv'))"
   ]
  },
  {
   "cell_type": "code",
   "execution_count": 7,
   "id": "dcd2cb49",
   "metadata": {
    "execution": {
     "iopub.execute_input": "2023-12-21T23:41:00.316233Z",
     "iopub.status.busy": "2023-12-21T23:41:00.315846Z",
     "iopub.status.idle": "2023-12-21T23:41:00.324845Z",
     "shell.execute_reply": "2023-12-21T23:41:00.324333Z"
    },
    "papermill": {
     "duration": 0.012438,
     "end_time": "2023-12-21T23:41:00.326150",
     "exception": false,
     "start_time": "2023-12-21T23:41:00.313712",
     "status": "completed"
    },
    "tags": []
   },
   "outputs": [],
   "source": [
    "by_date = pd.DataFrame({\n",
    "    'events': data.groupby('start_date').event_name.count(),\n",
    "    'audience': data.groupby('start_date').audience.sum(),\n",
    "}).resample('M').sum()\n",
    "\n",
    "pd.concat([\n",
    "    by_date,\n",
    "    by_date.pipe(named_cumulative_sum)\n",
    "], axis=1).astype('int').to_csv(os.path.join(OUT_DIR, 'by_date.csv'))"
   ]
  }
 ],
 "metadata": {
  "kernelspec": {
   "display_name": "leeds-2023-YZF5GfJv",
   "language": "python",
   "name": "python3"
  },
  "language_info": {
   "codemirror_mode": {
    "name": "ipython",
    "version": 3
   },
   "file_extension": ".py",
   "mimetype": "text/x-python",
   "name": "python",
   "nbconvert_exporter": "python",
   "pygments_lexer": "ipython3",
   "version": "3.10.13"
  },
  "papermill": {
   "default_parameters": {},
   "duration": 1.76559,
   "end_time": "2023-12-21T23:41:00.543885",
   "environment_variables": {},
   "exception": null,
   "input_path": "prepare.ipynb",
   "output_path": "../../../working/output/community-prepare.ipynb",
   "parameters": {},
   "start_time": "2023-12-21T23:40:58.778295",
   "version": "2.4.0"
  }
 },
 "nbformat": 4,
 "nbformat_minor": 5
}