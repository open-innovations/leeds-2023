{
 "cells": [
  {
   "cell_type": "code",
   "execution_count": 1,
   "id": "bd383672",
   "metadata": {
    "execution": {
     "iopub.execute_input": "2023-07-29T23:40:53.002335Z",
     "iopub.status.busy": "2023-07-29T23:40:53.001905Z",
     "iopub.status.idle": "2023-07-29T23:40:53.286131Z",
     "shell.execute_reply": "2023-07-29T23:40:53.285095Z"
    },
    "papermill": {
     "duration": 0.290706,
     "end_time": "2023-07-29T23:40:53.288443",
     "exception": false,
     "start_time": "2023-07-29T23:40:52.997737",
     "status": "completed"
    },
    "tags": []
   },
   "outputs": [],
   "source": [
    "import os\n",
    "import pandas as pd"
   ]
  },
  {
   "cell_type": "code",
   "execution_count": 2,
   "id": "0a994602",
   "metadata": {
    "execution": {
     "iopub.execute_input": "2023-07-29T23:40:53.295709Z",
     "iopub.status.busy": "2023-07-29T23:40:53.293983Z",
     "iopub.status.idle": "2023-07-29T23:40:53.299191Z",
     "shell.execute_reply": "2023-07-29T23:40:53.298508Z"
    },
    "papermill": {
     "duration": 0.01002,
     "end_time": "2023-07-29T23:40:53.300837",
     "exception": false,
     "start_time": "2023-07-29T23:40:53.290817",
     "status": "completed"
    },
    "tags": []
   },
   "outputs": [],
   "source": [
    "DATA_DIR='../../../docs/metrics/events/promote/_data/'\n",
    "os.makedirs(DATA_DIR, exist_ok=True)"
   ]
  },
  {
   "cell_type": "code",
   "execution_count": 3,
   "id": "4216ea82",
   "metadata": {
    "execution": {
     "iopub.execute_input": "2023-07-29T23:40:53.305763Z",
     "iopub.status.busy": "2023-07-29T23:40:53.305417Z",
     "iopub.status.idle": "2023-07-29T23:40:53.317636Z",
     "shell.execute_reply": "2023-07-29T23:40:53.316904Z"
    },
    "papermill": {
     "duration": 0.016776,
     "end_time": "2023-07-29T23:40:53.319554",
     "exception": false,
     "start_time": "2023-07-29T23:40:53.302778",
     "status": "completed"
    },
    "tags": []
   },
   "outputs": [],
   "source": [
    "data = pd.read_csv('../../../data/metrics/events/promote-events/events.csv', parse_dates=['time'])"
   ]
  },
  {
   "cell_type": "code",
   "execution_count": 4,
   "id": "6984e655",
   "metadata": {
    "execution": {
     "iopub.execute_input": "2023-07-29T23:40:53.324401Z",
     "iopub.status.busy": "2023-07-29T23:40:53.324002Z",
     "iopub.status.idle": "2023-07-29T23:40:53.330865Z",
     "shell.execute_reply": "2023-07-29T23:40:53.330049Z"
    },
    "papermill": {
     "duration": 0.011667,
     "end_time": "2023-07-29T23:40:53.332938",
     "exception": false,
     "start_time": "2023-07-29T23:40:53.321271",
     "status": "completed"
    },
    "tags": []
   },
   "outputs": [],
   "source": [
    "pd.Series({\n",
    "    'total_events': len(data.id.unique()),\n",
    "    'total_event_instances': len(data.time),\n",
    "    'earliest_event': data.time.min(),\n",
    "    'latest_event': data.time.max(),\n",
    "}).to_json(\n",
    "    os.path.join(DATA_DIR, 'headlines.json'),\n",
    "    date_format='iso', indent=2\n",
    ")"
   ]
  },
  {
   "cell_type": "code",
   "execution_count": 5,
   "id": "fd5c5e8d",
   "metadata": {
    "execution": {
     "iopub.execute_input": "2023-07-29T23:40:53.338123Z",
     "iopub.status.busy": "2023-07-29T23:40:53.337808Z",
     "iopub.status.idle": "2023-07-29T23:40:53.348560Z",
     "shell.execute_reply": "2023-07-29T23:40:53.347622Z"
    },
    "papermill": {
     "duration": 0.015581,
     "end_time": "2023-07-29T23:40:53.350497",
     "exception": false,
     "start_time": "2023-07-29T23:40:53.334916",
     "status": "completed"
    },
    "tags": []
   },
   "outputs": [],
   "source": [
    "events = pd.DataFrame({\n",
    "    'events': data.groupby('id').agg({ 'time': 'min' }).reset_index().groupby('time').id.count(),\n",
    "    'event_instances': data.groupby('time').id.count(),\n",
    "}).fillna(0).astype(int)"
   ]
  },
  {
   "cell_type": "code",
   "execution_count": 6,
   "id": "e735b828",
   "metadata": {
    "execution": {
     "iopub.execute_input": "2023-07-29T23:40:53.355221Z",
     "iopub.status.busy": "2023-07-29T23:40:53.354989Z",
     "iopub.status.idle": "2023-07-29T23:40:53.359172Z",
     "shell.execute_reply": "2023-07-29T23:40:53.358333Z"
    },
    "papermill": {
     "duration": 0.008951,
     "end_time": "2023-07-29T23:40:53.361239",
     "exception": false,
     "start_time": "2023-07-29T23:40:53.352288",
     "status": "completed"
    },
    "tags": []
   },
   "outputs": [],
   "source": [
    "def cumulate(data):\n",
    "    return pd.concat([\n",
    "        data,\n",
    "        data.cumsum().rename(columns=lambda c: f'cumulative_{c}')\n",
    "    ], axis=1)"
   ]
  },
  {
   "cell_type": "code",
   "execution_count": 7,
   "id": "7c5127e2",
   "metadata": {
    "execution": {
     "iopub.execute_input": "2023-07-29T23:40:53.366149Z",
     "iopub.status.busy": "2023-07-29T23:40:53.365920Z",
     "iopub.status.idle": "2023-07-29T23:40:53.377569Z",
     "shell.execute_reply": "2023-07-29T23:40:53.376633Z"
    },
    "papermill": {
     "duration": 0.016522,
     "end_time": "2023-07-29T23:40:53.379592",
     "exception": false,
     "start_time": "2023-07-29T23:40:53.363070",
     "status": "completed"
    },
    "tags": []
   },
   "outputs": [],
   "source": [
    "events.resample('W-FRI').sum().pipe(cumulate).to_csv(os.path.join(DATA_DIR, 'by_week.csv'))"
   ]
  },
  {
   "cell_type": "code",
   "execution_count": 8,
   "id": "7d0957b1",
   "metadata": {
    "execution": {
     "iopub.execute_input": "2023-07-29T23:40:53.385731Z",
     "iopub.status.busy": "2023-07-29T23:40:53.385032Z",
     "iopub.status.idle": "2023-07-29T23:40:53.392712Z",
     "shell.execute_reply": "2023-07-29T23:40:53.391881Z"
    },
    "papermill": {
     "duration": 0.012693,
     "end_time": "2023-07-29T23:40:53.394519",
     "exception": false,
     "start_time": "2023-07-29T23:40:53.381826",
     "status": "completed"
    },
    "tags": []
   },
   "outputs": [],
   "source": [
    "events.resample('MS').sum().pipe(cumulate).to_csv(os.path.join(DATA_DIR, 'by_month.csv'))"
   ]
  },
  {
   "cell_type": "code",
   "execution_count": null,
   "id": "b9868446",
   "metadata": {
    "papermill": {
     "duration": 0.002092,
     "end_time": "2023-07-29T23:40:53.398602",
     "exception": false,
     "start_time": "2023-07-29T23:40:53.396510",
     "status": "completed"
    },
    "tags": []
   },
   "outputs": [],
   "source": []
  }
 ],
 "metadata": {
  "kernelspec": {
   "display_name": "leeds-2023-YZF5GfJv",
   "language": "python",
   "name": "python3"
  },
  "language_info": {
   "codemirror_mode": {
    "name": "ipython",
    "version": 3
   },
   "file_extension": ".py",
   "mimetype": "text/x-python",
   "name": "python",
   "nbconvert_exporter": "python",
   "pygments_lexer": "ipython3",
   "version": "3.10.6"
  },
  "papermill": {
   "default_parameters": {},
   "duration": 2.246706,
   "end_time": "2023-07-29T23:40:53.618738",
   "environment_variables": {},
   "exception": null,
   "input_path": "prepare.ipynb",
   "output_path": "../../../working/output/promote-events-prepare.ipynb",
   "parameters": {},
   "start_time": "2023-07-29T23:40:51.372032",
   "version": "2.4.0"
  }
 },
 "nbformat": 4,
 "nbformat_minor": 5
}