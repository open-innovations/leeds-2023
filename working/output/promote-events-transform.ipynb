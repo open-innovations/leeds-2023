{
 "cells": [
  {
   "cell_type": "code",
   "execution_count": 1,
   "id": "4a8187dc",
   "metadata": {
    "execution": {
     "iopub.execute_input": "2023-11-20T23:37:31.442072Z",
     "iopub.status.busy": "2023-11-20T23:37:31.441860Z",
     "iopub.status.idle": "2023-11-20T23:37:31.680937Z",
     "shell.execute_reply": "2023-11-20T23:37:31.680247Z"
    },
    "papermill": {
     "duration": 0.243296,
     "end_time": "2023-11-20T23:37:31.682744",
     "exception": false,
     "start_time": "2023-11-20T23:37:31.439448",
     "status": "completed"
    },
    "tags": []
   },
   "outputs": [],
   "source": [
    "import os\n",
    "import pandas as pd"
   ]
  },
  {
   "cell_type": "code",
   "execution_count": 2,
   "id": "a8af59b4",
   "metadata": {
    "execution": {
     "iopub.execute_input": "2023-11-20T23:37:31.686406Z",
     "iopub.status.busy": "2023-11-20T23:37:31.685991Z",
     "iopub.status.idle": "2023-11-20T23:37:31.689220Z",
     "shell.execute_reply": "2023-11-20T23:37:31.688623Z"
    },
    "papermill": {
     "duration": 0.006484,
     "end_time": "2023-11-20T23:37:31.690636",
     "exception": false,
     "start_time": "2023-11-20T23:37:31.684152",
     "status": "completed"
    },
    "tags": []
   },
   "outputs": [],
   "source": [
    "EVENTS_RAW_DATA = '../../../working/metrics/promote-events/events.csv'\n",
    "DATA_DIR = '../../../data/metrics/events/promote-events/'\n",
    "EVENTS_DATA = os.path.join(DATA_DIR, 'events.csv')"
   ]
  },
  {
   "cell_type": "code",
   "execution_count": 3,
   "id": "9433e541",
   "metadata": {
    "execution": {
     "iopub.execute_input": "2023-11-20T23:37:31.693697Z",
     "iopub.status.busy": "2023-11-20T23:37:31.693368Z",
     "iopub.status.idle": "2023-11-20T23:37:31.696464Z",
     "shell.execute_reply": "2023-11-20T23:37:31.695864Z"
    },
    "papermill": {
     "duration": 0.006541,
     "end_time": "2023-11-20T23:37:31.698239",
     "exception": false,
     "start_time": "2023-11-20T23:37:31.691698",
     "status": "completed"
    },
    "tags": []
   },
   "outputs": [],
   "source": [
    "columns = {\n",
    "    'id': 'id',\n",
    "    'name': 'name',\n",
    "    'locationName': 'location',\n",
    "    'cardPrice': 'card_price',\n",
    "    'timeslots': 'time',\n",
    "    # 'displayOnWebsite': 'display',\n",
    "    'Stage': 'stage',\n",
    "}"
   ]
  },
  {
   "cell_type": "code",
   "execution_count": 4,
   "id": "132a21d3",
   "metadata": {
    "execution": {
     "iopub.execute_input": "2023-11-20T23:37:31.703105Z",
     "iopub.status.busy": "2023-11-20T23:37:31.702695Z",
     "iopub.status.idle": "2023-11-20T23:37:31.715041Z",
     "shell.execute_reply": "2023-11-20T23:37:31.714260Z"
    },
    "papermill": {
     "duration": 0.016264,
     "end_time": "2023-11-20T23:37:31.716408",
     "exception": false,
     "start_time": "2023-11-20T23:37:31.700144",
     "status": "completed"
    },
    "tags": []
   },
   "outputs": [],
   "source": [
    "data = pd.read_csv(EVENTS_RAW_DATA)[columns.keys()].rename(columns=columns)\n",
    "data.time = pd.to_datetime(data.time, errors='coerce')"
   ]
  },
  {
   "cell_type": "code",
   "execution_count": 5,
   "id": "78d4287e",
   "metadata": {
    "execution": {
     "iopub.execute_input": "2023-11-20T23:37:31.719663Z",
     "iopub.status.busy": "2023-11-20T23:37:31.719333Z",
     "iopub.status.idle": "2023-11-20T23:37:31.724323Z",
     "shell.execute_reply": "2023-11-20T23:37:31.723708Z"
    },
    "papermill": {
     "duration": 0.008134,
     "end_time": "2023-11-20T23:37:31.725736",
     "exception": false,
     "start_time": "2023-11-20T23:37:31.717602",
     "status": "completed"
    },
    "tags": []
   },
   "outputs": [],
   "source": [
    "data.to_csv(os.path.join(DATA_DIR, 'events.csv'), index=False)"
   ]
  }
 ],
 "metadata": {
  "kernelspec": {
   "display_name": "leeds-2023-YZF5GfJv",
   "language": "python",
   "name": "python3"
  },
  "language_info": {
   "codemirror_mode": {
    "name": "ipython",
    "version": 3
   },
   "file_extension": ".py",
   "mimetype": "text/x-python",
   "name": "python",
   "nbconvert_exporter": "python",
   "pygments_lexer": "ipython3",
   "version": "3.10.13"
  },
  "papermill": {
   "default_parameters": {},
   "duration": 1.742804,
   "end_time": "2023-11-20T23:37:31.943055",
   "environment_variables": {},
   "exception": null,
   "input_path": "transform.ipynb",
   "output_path": "../../../working/output/promote-events-transform.ipynb",
   "parameters": {},
   "start_time": "2023-11-20T23:37:30.200251",
   "version": "2.4.0"
  }
 },
 "nbformat": 4,
 "nbformat_minor": 5
}