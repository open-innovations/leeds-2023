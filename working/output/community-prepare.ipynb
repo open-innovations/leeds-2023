{
 "cells": [
  {
   "cell_type": "code",
   "execution_count": 1,
   "id": "408df3b9",
   "metadata": {
    "execution": {
     "iopub.execute_input": "2023-10-12T23:41:13.206762Z",
     "iopub.status.busy": "2023-10-12T23:41:13.206306Z",
     "iopub.status.idle": "2023-10-12T23:41:13.467450Z",
     "shell.execute_reply": "2023-10-12T23:41:13.466762Z"
    },
    "papermill": {
     "duration": 0.266349,
     "end_time": "2023-10-12T23:41:13.469225",
     "exception": false,
     "start_time": "2023-10-12T23:41:13.202876",
     "status": "completed"
    },
    "tags": []
   },
   "outputs": [],
   "source": [
    "import os, sys\n",
    "TOP_DIR = os.path.realpath('../../..')\n",
    "if TOP_DIR not in sys.path: sys.path.append(TOP_DIR)\n",
    "import pandas as pd"
   ]
  },
  {
   "cell_type": "code",
   "execution_count": 2,
   "id": "d5214863",
   "metadata": {
    "execution": {
     "iopub.execute_input": "2023-10-12T23:41:13.474408Z",
     "iopub.status.busy": "2023-10-12T23:41:13.474104Z",
     "iopub.status.idle": "2023-10-12T23:41:13.478258Z",
     "shell.execute_reply": "2023-10-12T23:41:13.477598Z"
    },
    "papermill": {
     "duration": 0.008616,
     "end_time": "2023-10-12T23:41:13.479884",
     "exception": false,
     "start_time": "2023-10-12T23:41:13.471268",
     "status": "completed"
    },
    "tags": []
   },
   "outputs": [],
   "source": [
    "from lib.util.convert import named_cumulative_sum"
   ]
  },
  {
   "cell_type": "code",
   "execution_count": 3,
   "id": "0e947919",
   "metadata": {
    "execution": {
     "iopub.execute_input": "2023-10-12T23:41:13.484531Z",
     "iopub.status.busy": "2023-10-12T23:41:13.484077Z",
     "iopub.status.idle": "2023-10-12T23:41:13.494646Z",
     "shell.execute_reply": "2023-10-12T23:41:13.494040Z"
    },
    "papermill": {
     "duration": 0.014644,
     "end_time": "2023-10-12T23:41:13.496238",
     "exception": false,
     "start_time": "2023-10-12T23:41:13.481594",
     "status": "completed"
    },
    "tags": []
   },
   "outputs": [],
   "source": [
    "data = pd.read_csv('../../../data/metrics/community/events.csv', parse_dates=['start_date'])\n",
    "data.ward_code = data.ward_code.fillna('UNKNOWN')"
   ]
  },
  {
   "cell_type": "markdown",
   "id": "ac9c34a2",
   "metadata": {
    "papermill": {
     "duration": 0.001699,
     "end_time": "2023-10-12T23:41:13.499684",
     "exception": false,
     "start_time": "2023-10-12T23:41:13.497985",
     "status": "completed"
    },
    "tags": []
   },
   "source": [
    "Set up output directories"
   ]
  },
  {
   "cell_type": "code",
   "execution_count": 4,
   "id": "3083e9c6",
   "metadata": {
    "execution": {
     "iopub.execute_input": "2023-10-12T23:41:13.504410Z",
     "iopub.status.busy": "2023-10-12T23:41:13.503780Z",
     "iopub.status.idle": "2023-10-12T23:41:13.507310Z",
     "shell.execute_reply": "2023-10-12T23:41:13.506684Z"
    },
    "papermill": {
     "duration": 0.007411,
     "end_time": "2023-10-12T23:41:13.508744",
     "exception": false,
     "start_time": "2023-10-12T23:41:13.501333",
     "status": "completed"
    },
    "tags": []
   },
   "outputs": [],
   "source": [
    "OUT_DIR = '../../../docs/metrics/community/_data'\n",
    "os.makedirs(OUT_DIR, exist_ok=True)"
   ]
  },
  {
   "cell_type": "code",
   "execution_count": 5,
   "id": "1921e15a",
   "metadata": {
    "execution": {
     "iopub.execute_input": "2023-10-12T23:41:13.513741Z",
     "iopub.status.busy": "2023-10-12T23:41:13.513185Z",
     "iopub.status.idle": "2023-10-12T23:41:13.521152Z",
     "shell.execute_reply": "2023-10-12T23:41:13.520568Z"
    },
    "papermill": {
     "duration": 0.012264,
     "end_time": "2023-10-12T23:41:13.522837",
     "exception": false,
     "start_time": "2023-10-12T23:41:13.510573",
     "status": "completed"
    },
    "tags": []
   },
   "outputs": [],
   "source": [
    "pd.Series({\n",
    "  'events': data.event_name.count(),\n",
    "  'audience': data.audience.sum().astype(int),\n",
    "  'errors': {\n",
    "    'missing_wards': (data.ward_code == 'UNKNOWN').value_counts()[True],\n",
    "    'missing_audience': data.audience.isna().value_counts()[True],\n",
    "    'zero_audience':  (data.audience < 1).value_counts()[True],  \n",
    "  }\n",
    "}).to_json(os.path.join(OUT_DIR, 'headlines.json'), indent=2)"
   ]
  },
  {
   "cell_type": "code",
   "execution_count": 6,
   "id": "3fafc76a",
   "metadata": {
    "execution": {
     "iopub.execute_input": "2023-10-12T23:41:13.527778Z",
     "iopub.status.busy": "2023-10-12T23:41:13.527222Z",
     "iopub.status.idle": "2023-10-12T23:41:13.534574Z",
     "shell.execute_reply": "2023-10-12T23:41:13.533986Z"
    },
    "papermill": {
     "duration": 0.01147,
     "end_time": "2023-10-12T23:41:13.536111",
     "exception": false,
     "start_time": "2023-10-12T23:41:13.524641",
     "status": "completed"
    },
    "tags": []
   },
   "outputs": [],
   "source": [
    "by_ward = pd.DataFrame({\n",
    "  'events': data.groupby('ward_code').event_name.count().fillna(0).astype('int'),\n",
    "  'audience': data.groupby('ward_code').audience.sum().fillna(0).astype('int'),\n",
    "}).to_csv(os.path.join(OUT_DIR, 'by_ward.csv'))"
   ]
  },
  {
   "cell_type": "code",
   "execution_count": 7,
   "id": "9ce9b121",
   "metadata": {
    "execution": {
     "iopub.execute_input": "2023-10-12T23:41:13.541041Z",
     "iopub.status.busy": "2023-10-12T23:41:13.540619Z",
     "iopub.status.idle": "2023-10-12T23:41:13.552657Z",
     "shell.execute_reply": "2023-10-12T23:41:13.552045Z"
    },
    "papermill": {
     "duration": 0.016353,
     "end_time": "2023-10-12T23:41:13.554340",
     "exception": false,
     "start_time": "2023-10-12T23:41:13.537987",
     "status": "completed"
    },
    "tags": []
   },
   "outputs": [],
   "source": [
    "by_date = pd.DataFrame({\n",
    "    'events': data.groupby('start_date').event_name.count(),\n",
    "    'audience': data.groupby('start_date').audience.sum(),\n",
    "}).resample('M').sum()\n",
    "\n",
    "pd.concat([\n",
    "    by_date,\n",
    "    by_date.pipe(named_cumulative_sum)\n",
    "], axis=1).astype('int').to_csv(os.path.join(OUT_DIR, 'by_date.csv'))"
   ]
  }
 ],
 "metadata": {
  "kernelspec": {
   "display_name": "leeds-2023-YZF5GfJv",
   "language": "python",
   "name": "python3"
  },
  "language_info": {
   "codemirror_mode": {
    "name": "ipython",
    "version": 3
   },
   "file_extension": ".py",
   "mimetype": "text/x-python",
   "name": "python",
   "nbconvert_exporter": "python",
   "pygments_lexer": "ipython3",
   "version": "3.10.13"
  },
  "papermill": {
   "default_parameters": {},
   "duration": 1.929568,
   "end_time": "2023-10-12T23:41:13.772274",
   "environment_variables": {},
   "exception": null,
   "input_path": "prepare.ipynb",
   "output_path": "../../../working/output/community-prepare.ipynb",
   "parameters": {},
   "start_time": "2023-10-12T23:41:11.842706",
   "version": "2.4.0"
  }
 },
 "nbformat": 4,
 "nbformat_minor": 5
}