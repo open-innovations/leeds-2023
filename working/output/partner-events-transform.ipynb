{
 "cells": [
  {
   "cell_type": "code",
   "execution_count": 1,
   "id": "9673974b",
   "metadata": {
    "execution": {
     "iopub.execute_input": "2023-10-14T23:37:35.582682Z",
     "iopub.status.busy": "2023-10-14T23:37:35.582143Z",
     "iopub.status.idle": "2023-10-14T23:37:35.832160Z",
     "shell.execute_reply": "2023-10-14T23:37:35.831504Z"
    },
    "papermill": {
     "duration": 0.256111,
     "end_time": "2023-10-14T23:37:35.834024",
     "exception": false,
     "start_time": "2023-10-14T23:37:35.577913",
     "status": "completed"
    },
    "tags": []
   },
   "outputs": [],
   "source": [
    "import os\n",
    "import sys\n",
    "import pandas as pd\n",
    "lib_dir = os.path.realpath('../../../lib/')\n",
    "if lib_dir not in sys.path: sys.path.append(lib_dir)"
   ]
  },
  {
   "cell_type": "code",
   "execution_count": 2,
   "id": "73e6f759",
   "metadata": {
    "execution": {
     "iopub.execute_input": "2023-10-14T23:37:35.840864Z",
     "iopub.status.busy": "2023-10-14T23:37:35.840560Z",
     "iopub.status.idle": "2023-10-14T23:37:45.587299Z",
     "shell.execute_reply": "2023-10-14T23:37:45.586599Z"
    },
    "papermill": {
     "duration": 9.752879,
     "end_time": "2023-10-14T23:37:45.589837",
     "exception": false,
     "start_time": "2023-10-14T23:37:35.836958",
     "status": "completed"
    },
    "tags": []
   },
   "outputs": [],
   "source": [
    "import util.geo"
   ]
  },
  {
   "cell_type": "code",
   "execution_count": 3,
   "id": "b5072ba3",
   "metadata": {
    "execution": {
     "iopub.execute_input": "2023-10-14T23:37:45.597674Z",
     "iopub.status.busy": "2023-10-14T23:37:45.597194Z",
     "iopub.status.idle": "2023-10-14T23:37:45.600816Z",
     "shell.execute_reply": "2023-10-14T23:37:45.600217Z"
    },
    "papermill": {
     "duration": 0.009556,
     "end_time": "2023-10-14T23:37:45.602332",
     "exception": false,
     "start_time": "2023-10-14T23:37:45.592776",
     "status": "completed"
    },
    "tags": []
   },
   "outputs": [],
   "source": [
    "EVENTS_RAW_DATA = '../../../working/metrics/partner-events/events.csv'\n",
    "DATA_DIR = '../../../data/metrics/events/partner-events/'\n",
    "EVENTS_DATA = os.path.join(DATA_DIR, 'events.csv')"
   ]
  },
  {
   "cell_type": "code",
   "execution_count": 4,
   "id": "1dc1d5e1",
   "metadata": {
    "execution": {
     "iopub.execute_input": "2023-10-14T23:37:45.608410Z",
     "iopub.status.busy": "2023-10-14T23:37:45.608190Z",
     "iopub.status.idle": "2023-10-14T23:37:45.611749Z",
     "shell.execute_reply": "2023-10-14T23:37:45.611100Z"
    },
    "papermill": {
     "duration": 0.008263,
     "end_time": "2023-10-14T23:37:45.613198",
     "exception": false,
     "start_time": "2023-10-14T23:37:45.604935",
     "status": "completed"
    },
    "tags": []
   },
   "outputs": [],
   "source": [
    "columns = {\n",
    "    'Event Name': 'name',\n",
    "    'Event Start Date': 'start_date',\n",
    "    'Event End Date': 'end_date',\n",
    "    'Partner/Promote': 'partner_promote',\n",
    "    'Stage': 'stage',\n",
    "    'Live date': 'live_date',\n",
    "    'Venue postcode': 'postcode',\n",
    "    'Pricing Policy': 'pricing',\n",
    "    'Venue - including address': 'venue',\n",
    "    'Is this event on Leeds Inspried?': 'on_leeds_inspired',\n",
    "}"
   ]
  },
  {
   "cell_type": "markdown",
   "id": "5776e257",
   "metadata": {
    "papermill": {
     "duration": 0.002618,
     "end_time": "2023-10-14T23:37:45.618390",
     "exception": false,
     "start_time": "2023-10-14T23:37:45.615772",
     "status": "completed"
    },
    "tags": []
   },
   "source": [
    "Load the data and rename columns. Parse the dates to dates."
   ]
  },
  {
   "cell_type": "code",
   "execution_count": 5,
   "id": "a557891f",
   "metadata": {
    "execution": {
     "iopub.execute_input": "2023-10-14T23:37:45.624473Z",
     "iopub.status.busy": "2023-10-14T23:37:45.624266Z",
     "iopub.status.idle": "2023-10-14T23:37:45.635743Z",
     "shell.execute_reply": "2023-10-14T23:37:45.635250Z"
    },
    "papermill": {
     "duration": 0.016287,
     "end_time": "2023-10-14T23:37:45.637245",
     "exception": false,
     "start_time": "2023-10-14T23:37:45.620958",
     "status": "completed"
    },
    "tags": []
   },
   "outputs": [],
   "source": [
    "data = pd.read_csv(EVENTS_RAW_DATA)[columns.keys()].rename(columns=columns)\n",
    "data.start_date = pd.to_datetime(data.start_date, errors='coerce')\n",
    "data.end_date = pd.to_datetime(data.end_date, errors='coerce')"
   ]
  },
  {
   "cell_type": "markdown",
   "id": "2cf064fe",
   "metadata": {
    "papermill": {
     "duration": 0.002592,
     "end_time": "2023-10-14T23:37:45.642471",
     "exception": false,
     "start_time": "2023-10-14T23:37:45.639879",
     "status": "completed"
    },
    "tags": []
   },
   "source": [
    "Filter data by not LI Pull through and start date before now"
   ]
  },
  {
   "cell_type": "code",
   "execution_count": 6,
   "id": "540d89ec",
   "metadata": {
    "execution": {
     "iopub.execute_input": "2023-10-14T23:37:45.648964Z",
     "iopub.status.busy": "2023-10-14T23:37:45.648539Z",
     "iopub.status.idle": "2023-10-14T23:37:45.653278Z",
     "shell.execute_reply": "2023-10-14T23:37:45.652670Z"
    },
    "papermill": {
     "duration": 0.00947,
     "end_time": "2023-10-14T23:37:45.654650",
     "exception": false,
     "start_time": "2023-10-14T23:37:45.645180",
     "status": "completed"
    },
    "tags": []
   },
   "outputs": [],
   "source": [
    "data = data[\n",
    "    # (data.live_date == 'This event is live ') &\n",
    "    ((data.stage != 'LI pull through') & data.stage.notna()) &\n",
    "    (data.start_date < pd.Timestamp.now())\n",
    "]"
   ]
  },
  {
   "cell_type": "code",
   "execution_count": 7,
   "id": "e67df207",
   "metadata": {
    "execution": {
     "iopub.execute_input": "2023-10-14T23:37:45.661124Z",
     "iopub.status.busy": "2023-10-14T23:37:45.660610Z",
     "iopub.status.idle": "2023-10-14T23:37:46.574298Z",
     "shell.execute_reply": "2023-10-14T23:37:46.573659Z"
    },
    "papermill": {
     "duration": 0.919164,
     "end_time": "2023-10-14T23:37:46.576478",
     "exception": false,
     "start_time": "2023-10-14T23:37:45.657314",
     "status": "completed"
    },
    "tags": []
   },
   "outputs": [],
   "source": [
    "data['ward_code'] = data.postcode.pipe(util.geo.postcode_formatter).map(util.geo.postcode_to_ward_code)\n",
    "data['ward_name'] = data.ward_code.pipe(util.geo.ward_code_to_name)"
   ]
  },
  {
   "cell_type": "markdown",
   "id": "59c01a53",
   "metadata": {
    "papermill": {
     "duration": 0.003512,
     "end_time": "2023-10-14T23:37:46.582996",
     "exception": false,
     "start_time": "2023-10-14T23:37:46.579484",
     "status": "completed"
    },
    "tags": []
   },
   "source": [
    "Save the file"
   ]
  },
  {
   "cell_type": "code",
   "execution_count": 8,
   "id": "3b45e04b",
   "metadata": {
    "execution": {
     "iopub.execute_input": "2023-10-14T23:37:46.589687Z",
     "iopub.status.busy": "2023-10-14T23:37:46.589233Z",
     "iopub.status.idle": "2023-10-14T23:37:46.595640Z",
     "shell.execute_reply": "2023-10-14T23:37:46.595065Z"
    },
    "papermill": {
     "duration": 0.011336,
     "end_time": "2023-10-14T23:37:46.597085",
     "exception": false,
     "start_time": "2023-10-14T23:37:46.585749",
     "status": "completed"
    },
    "tags": []
   },
   "outputs": [],
   "source": [
    "data[\n",
    "    ['name','start_date','end_date','ward_code']\n",
    "].to_csv(EVENTS_DATA, index=False)"
   ]
  },
  {
   "cell_type": "markdown",
   "id": "ecadb02f",
   "metadata": {
    "papermill": {
     "duration": 0.002699,
     "end_time": "2023-10-14T23:37:46.602535",
     "exception": false,
     "start_time": "2023-10-14T23:37:46.599836",
     "status": "completed"
    },
    "tags": []
   },
   "source": [
    "Print out missing postcode data"
   ]
  },
  {
   "cell_type": "code",
   "execution_count": 9,
   "id": "a3267541",
   "metadata": {
    "execution": {
     "iopub.execute_input": "2023-10-14T23:37:46.609321Z",
     "iopub.status.busy": "2023-10-14T23:37:46.608707Z",
     "iopub.status.idle": "2023-10-14T23:37:46.621632Z",
     "shell.execute_reply": "2023-10-14T23:37:46.621127Z"
    },
    "papermill": {
     "duration": 0.017892,
     "end_time": "2023-10-14T23:37:46.623209",
     "exception": false,
     "start_time": "2023-10-14T23:37:46.605317",
     "status": "completed"
    },
    "tags": []
   },
   "outputs": [
    {
     "data": {
      "text/html": [
       "<div>\n",
       "<style scoped>\n",
       "    .dataframe tbody tr th:only-of-type {\n",
       "        vertical-align: middle;\n",
       "    }\n",
       "\n",
       "    .dataframe tbody tr th {\n",
       "        vertical-align: top;\n",
       "    }\n",
       "\n",
       "    .dataframe thead th {\n",
       "        text-align: right;\n",
       "    }\n",
       "</style>\n",
       "<table border=\"1\" class=\"dataframe\">\n",
       "  <thead>\n",
       "    <tr style=\"text-align: right;\">\n",
       "      <th></th>\n",
       "      <th>name</th>\n",
       "      <th>start_date</th>\n",
       "    </tr>\n",
       "  </thead>\n",
       "  <tbody>\n",
       "    <tr>\n",
       "      <th>1</th>\n",
       "      <td>East Street Arts, A City Less Grey 2022</td>\n",
       "      <td>2022-10-08</td>\n",
       "    </tr>\n",
       "    <tr>\n",
       "      <th>3</th>\n",
       "      <td>Phoenix Dance Theatre Virtual Gallery</td>\n",
       "      <td>2023-01-01</td>\n",
       "    </tr>\n",
       "    <tr>\n",
       "      <th>4</th>\n",
       "      <td>The Big Art Giveaway, School of Creative Arts ...</td>\n",
       "      <td>2023-01-01</td>\n",
       "    </tr>\n",
       "    <tr>\n",
       "      <th>5</th>\n",
       "      <td>Embassy of Netherlands, Meet Leeds Lab</td>\n",
       "      <td>2023-01-16</td>\n",
       "    </tr>\n",
       "    <tr>\n",
       "      <th>6</th>\n",
       "      <td>Shifting Borders: A Journey to the Centre of o...</td>\n",
       "      <td>2023-01-24</td>\n",
       "    </tr>\n",
       "    <tr>\n",
       "      <th>...</th>\n",
       "      <td>...</td>\n",
       "      <td>...</td>\n",
       "    </tr>\n",
       "    <tr>\n",
       "      <th>211</th>\n",
       "      <td>Re-imagining Home: Teacher CPD Session</td>\n",
       "      <td>2023-10-09</td>\n",
       "    </tr>\n",
       "    <tr>\n",
       "      <th>212</th>\n",
       "      <td>TRANSFORM 23</td>\n",
       "      <td>2023-10-11</td>\n",
       "    </tr>\n",
       "    <tr>\n",
       "      <th>213</th>\n",
       "      <td>Wild Irish Tales: An evening of story telling ...</td>\n",
       "      <td>2023-10-11</td>\n",
       "    </tr>\n",
       "    <tr>\n",
       "      <th>215</th>\n",
       "      <td>Sayang presents: Si Polan x2 sharing (RSVP)</td>\n",
       "      <td>2023-10-12</td>\n",
       "    </tr>\n",
       "    <tr>\n",
       "      <th>219</th>\n",
       "      <td>NWMCMN: The Path Between</td>\n",
       "      <td>2023-10-14</td>\n",
       "    </tr>\n",
       "  </tbody>\n",
       "</table>\n",
       "<p>69 rows × 2 columns</p>\n",
       "</div>"
      ],
      "text/plain": [
       "                                                  name start_date\n",
       "1              East Street Arts, A City Less Grey 2022 2022-10-08\n",
       "3                Phoenix Dance Theatre Virtual Gallery 2023-01-01\n",
       "4    The Big Art Giveaway, School of Creative Arts ... 2023-01-01\n",
       "5               Embassy of Netherlands, Meet Leeds Lab 2023-01-16\n",
       "6    Shifting Borders: A Journey to the Centre of o... 2023-01-24\n",
       "..                                                 ...        ...\n",
       "211             Re-imagining Home: Teacher CPD Session 2023-10-09\n",
       "212                                      TRANSFORM 23  2023-10-11\n",
       "213  Wild Irish Tales: An evening of story telling ... 2023-10-11\n",
       "215        Sayang presents: Si Polan x2 sharing (RSVP) 2023-10-12\n",
       "219                           NWMCMN: The Path Between 2023-10-14\n",
       "\n",
       "[69 rows x 2 columns]"
      ]
     },
     "execution_count": 9,
     "metadata": {},
     "output_type": "execute_result"
    }
   ],
   "source": [
    "data[data.postcode.isna()][[\n",
    "    'name', 'start_date'\n",
    "]]"
   ]
  },
  {
   "cell_type": "markdown",
   "id": "9d7e3171",
   "metadata": {
    "papermill": {
     "duration": 0.002985,
     "end_time": "2023-10-14T23:37:46.629271",
     "exception": false,
     "start_time": "2023-10-14T23:37:46.626286",
     "status": "completed"
    },
    "tags": []
   },
   "source": [
    "Plot the pricing"
   ]
  },
  {
   "cell_type": "code",
   "execution_count": 10,
   "id": "7932ced5",
   "metadata": {
    "execution": {
     "iopub.execute_input": "2023-10-14T23:37:46.636430Z",
     "iopub.status.busy": "2023-10-14T23:37:46.636011Z",
     "iopub.status.idle": "2023-10-14T23:37:47.137065Z",
     "shell.execute_reply": "2023-10-14T23:37:47.136421Z"
    },
    "papermill": {
     "duration": 0.506453,
     "end_time": "2023-10-14T23:37:47.138787",
     "exception": false,
     "start_time": "2023-10-14T23:37:46.632334",
     "status": "completed"
    },
    "tags": []
   },
   "outputs": [
    {
     "data": {
      "image/png": "[encoded data removed]",
      "text/plain": [
       "<Figure size 640x480 with 1 Axes>"
      ]
     },
     "metadata": {},
     "output_type": "display_data"
    }
   ],
   "source": [
    "# .groupby('pricing').count().plot.barh()\n",
    "pricing = data.pricing.fillna('Unspecified').str.replace('[\\[\\'\\]]', '', regex=True).to_frame().reset_index().groupby('pricing').count()\n",
    "\n",
    "pricing.columns = ['count']\n",
    "plot = pricing.plot.barh()\n"
   ]
  },
  {
   "cell_type": "code",
   "execution_count": null,
   "id": "4a69a525",
   "metadata": {
    "papermill": {
     "duration": 0.003791,
     "end_time": "2023-10-14T23:37:47.146301",
     "exception": false,
     "start_time": "2023-10-14T23:37:47.142510",
     "status": "completed"
    },
    "tags": []
   },
   "outputs": [],
   "source": []
  }
 ],
 "metadata": {
  "kernelspec": {
   "display_name": "leeds-2023-YZF5GfJv",
   "language": "python",
   "name": "python3"
  },
  "language_info": {
   "codemirror_mode": {
    "name": "ipython",
    "version": 3
   },
   "file_extension": ".py",
   "mimetype": "text/x-python",
   "name": "python",
   "nbconvert_exporter": "python",
   "pygments_lexer": "ipython3",
   "version": "3.10.13"
  },
  "papermill": {
   "default_parameters": {},
   "duration": 13.242207,
   "end_time": "2023-10-14T23:37:47.467398",
   "environment_variables": {},
   "exception": null,
   "input_path": "transform.ipynb",
   "output_path": "../../../working/output/partner-events-transform.ipynb",
   "parameters": {},
   "start_time": "2023-10-14T23:37:34.225191",
   "version": "2.4.0"
  }
 },
 "nbformat": 4,
 "nbformat_minor": 5
}