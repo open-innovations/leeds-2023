{
 "cells": [
  {
   "cell_type": "code",
   "execution_count": 86,
   "metadata": {},
   "outputs": [],
   "source": [
    "from pathlib import Path\n",
    "import re"
   ]
  },
  {
   "cell_type": "code",
   "execution_count": 87,
   "metadata": {},
   "outputs": [],
   "source": [
    "ROOT_DIR = Path('../..')"
   ]
  },
  {
   "cell_type": "code",
   "execution_count": 105,
   "metadata": {},
   "outputs": [],
   "source": [
    "METRICS_DIR = ROOT_DIR.joinpath('data/metrics')\n",
    "\n",
    "class CatalogEntry:\n",
    "    def __init__(self, path):\n",
    "        self.path = Path(path)\n",
    "    \n",
    "    def id(self):\n",
    "        return self.slug().replace('/', '.')\n",
    "\n",
    "    def slug(self):\n",
    "        return str(self.path.parent.joinpath(self.path.stem))\n",
    "    \n",
    "    def container(self):\n",
    "        return [str(p) for p in str(self.path.parent).split('/')]\n",
    "      \n",
    "    def title(self):\n",
    "        group_name = [\n",
    "          re.sub(r'[_-]', ' ', p).capitalize()\n",
    "          for p in self.container()\n",
    "        ]\n",
    "        name = self.path.stem.replace('_', ' ').capitalize()\n",
    "        return name, group_name\n",
    "    \n",
    "    def __repr__(self):\n",
    "        return f\"CatalogEntry => {self.id()}\"\n",
    "\n",
    "metrics = [\n",
    "    CatalogEntry(f.relative_to(METRICS_DIR))\n",
    "    for f\n",
    "    in METRICS_DIR.glob('**/*.csv')\n",
    "    if f.is_file()\n",
    "]"
   ]
  },
  {
   "cell_type": "code",
   "execution_count": 112,
   "metadata": {},
   "outputs": [],
   "source": [
    "CATALOGUE_PATH = Path('../../docs/catalogue').resolve()\n",
    "\n",
    "for metric in metrics:\n",
    "    METRIC_PATH = CATALOGUE_PATH.joinpath(metric.slug())\n",
    "    METRIC_PATH.mkdir(parents=True, exist_ok=True)\n",
    "    index_file = METRIC_PATH.joinpath('index.yml')\n",
    "    with open(index_file, 'w') as i:\n",
    "        i.write(f'id: {metric.id()}\\n')\n",
    "        i.write(f'path: {metric.path}\\n')\n",
    "        i.write(f'title: {metric.title()[0]}\\n')\n",
    "        i.write(f'group: {\"::\".join(metric.title()[1])}\\n')\n"
   ]
  },
  {
   "cell_type": "code",
   "execution_count": null,
   "metadata": {},
   "outputs": [],
   "source": []
  },
  {
   "cell_type": "code",
   "execution_count": null,
   "metadata": {},
   "outputs": [],
   "source": []
  }
 ],
 "metadata": {
  "kernelspec": {
   "display_name": "leeds-2023-YZF5GfJv",
   "language": "python",
   "name": "python3"
  },
  "language_info": {
   "codemirror_mode": {
    "name": "ipython",
    "version": 3
   },
   "file_extension": ".py",
   "mimetype": "text/x-python",
   "name": "python",
   "nbconvert_exporter": "python",
   "pygments_lexer": "ipython3",
   "version": "3.10.12"
  },
  "orig_nbformat": 4
 },
 "nbformat": 4,
 "nbformat_minor": 2
}
