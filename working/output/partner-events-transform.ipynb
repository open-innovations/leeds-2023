{
 "cells": [
  {
   "cell_type": "code",
   "execution_count": 1,
   "id": "2d8d21cb",
   "metadata": {
    "execution": {
     "iopub.execute_input": "2023-11-01T23:37:07.999883Z",
     "iopub.status.busy": "2023-11-01T23:37:07.999411Z",
     "iopub.status.idle": "2023-11-01T23:37:08.249185Z",
     "shell.execute_reply": "2023-11-01T23:37:08.248604Z"
    },
    "papermill": {
     "duration": 0.255331,
     "end_time": "2023-11-01T23:37:08.250891",
     "exception": false,
     "start_time": "2023-11-01T23:37:07.995560",
     "status": "completed"
    },
    "tags": []
   },
   "outputs": [],
   "source": [
    "import os\n",
    "import sys\n",
    "import pandas as pd\n",
    "lib_dir = os.path.realpath('../../../lib/')\n",
    "if lib_dir not in sys.path: sys.path.append(lib_dir)"
   ]
  },
  {
   "cell_type": "code",
   "execution_count": 2,
   "id": "af522b17",
   "metadata": {
    "execution": {
     "iopub.execute_input": "2023-11-01T23:37:08.256719Z",
     "iopub.status.busy": "2023-11-01T23:37:08.256224Z",
     "iopub.status.idle": "2023-11-01T23:37:15.273901Z",
     "shell.execute_reply": "2023-11-01T23:37:15.273234Z"
    },
    "papermill": {
     "duration": 7.022136,
     "end_time": "2023-11-01T23:37:15.275461",
     "exception": false,
     "start_time": "2023-11-01T23:37:08.253325",
     "status": "completed"
    },
    "tags": []
   },
   "outputs": [],
   "source": [
    "import util.geo"
   ]
  },
  {
   "cell_type": "code",
   "execution_count": 3,
   "id": "1d4002e7",
   "metadata": {
    "execution": {
     "iopub.execute_input": "2023-11-01T23:37:15.281210Z",
     "iopub.status.busy": "2023-11-01T23:37:15.280872Z",
     "iopub.status.idle": "2023-11-01T23:37:15.284147Z",
     "shell.execute_reply": "2023-11-01T23:37:15.283616Z"
    },
    "papermill": {
     "duration": 0.007502,
     "end_time": "2023-11-01T23:37:15.285410",
     "exception": false,
     "start_time": "2023-11-01T23:37:15.277908",
     "status": "completed"
    },
    "tags": []
   },
   "outputs": [],
   "source": [
    "EVENTS_RAW_DATA = '../../../working/metrics/partner-events/events.csv'\n",
    "DATA_DIR = '../../../data/metrics/events/partner-events/'\n",
    "EVENTS_DATA = os.path.join(DATA_DIR, 'events.csv')"
   ]
  },
  {
   "cell_type": "code",
   "execution_count": 4,
   "id": "662dbf1b",
   "metadata": {
    "execution": {
     "iopub.execute_input": "2023-11-01T23:37:15.290611Z",
     "iopub.status.busy": "2023-11-01T23:37:15.290219Z",
     "iopub.status.idle": "2023-11-01T23:37:15.293609Z",
     "shell.execute_reply": "2023-11-01T23:37:15.293095Z"
    },
    "papermill": {
     "duration": 0.007401,
     "end_time": "2023-11-01T23:37:15.294952",
     "exception": false,
     "start_time": "2023-11-01T23:37:15.287551",
     "status": "completed"
    },
    "tags": []
   },
   "outputs": [],
   "source": [
    "columns = {\n",
    "    'Event Name': 'name',\n",
    "    'Event Start Date': 'start_date',\n",
    "    'Event End Date': 'end_date',\n",
    "    'Partner/Promote': 'partner_promote',\n",
    "    'Stage': 'stage',\n",
    "    'Live date': 'live_date',\n",
    "    'Venue postcode': 'postcode',\n",
    "    'Pricing Policy': 'pricing',\n",
    "    'Venue - including address': 'venue',\n",
    "    'Is this event on Leeds Inspried?': 'on_leeds_inspired',\n",
    "}"
   ]
  },
  {
   "cell_type": "markdown",
   "id": "9faf1dd4",
   "metadata": {
    "papermill": {
     "duration": 0.002219,
     "end_time": "2023-11-01T23:37:15.299348",
     "exception": false,
     "start_time": "2023-11-01T23:37:15.297129",
     "status": "completed"
    },
    "tags": []
   },
   "source": [
    "Load the data and rename columns. Parse the dates to dates."
   ]
  },
  {
   "cell_type": "code",
   "execution_count": 5,
   "id": "66e9c998",
   "metadata": {
    "execution": {
     "iopub.execute_input": "2023-11-01T23:37:15.304596Z",
     "iopub.status.busy": "2023-11-01T23:37:15.304235Z",
     "iopub.status.idle": "2023-11-01T23:37:15.312915Z",
     "shell.execute_reply": "2023-11-01T23:37:15.312440Z"
    },
    "papermill": {
     "duration": 0.012807,
     "end_time": "2023-11-01T23:37:15.314276",
     "exception": false,
     "start_time": "2023-11-01T23:37:15.301469",
     "status": "completed"
    },
    "tags": []
   },
   "outputs": [],
   "source": [
    "data = pd.read_csv(EVENTS_RAW_DATA)[columns.keys()].rename(columns=columns)\n",
    "data.start_date = pd.to_datetime(data.start_date, errors='coerce')\n",
    "data.end_date = pd.to_datetime(data.end_date, errors='coerce')"
   ]
  },
  {
   "cell_type": "markdown",
   "id": "a5b9a6da",
   "metadata": {
    "papermill": {
     "duration": 0.002142,
     "end_time": "2023-11-01T23:37:15.318576",
     "exception": false,
     "start_time": "2023-11-01T23:37:15.316434",
     "status": "completed"
    },
    "tags": []
   },
   "source": [
    "Filter data by not LI Pull through and start date before now"
   ]
  },
  {
   "cell_type": "code",
   "execution_count": 6,
   "id": "4f56b02c",
   "metadata": {
    "execution": {
     "iopub.execute_input": "2023-11-01T23:37:15.324548Z",
     "iopub.status.busy": "2023-11-01T23:37:15.324190Z",
     "iopub.status.idle": "2023-11-01T23:37:15.328479Z",
     "shell.execute_reply": "2023-11-01T23:37:15.327948Z"
    },
    "papermill": {
     "duration": 0.008306,
     "end_time": "2023-11-01T23:37:15.329722",
     "exception": false,
     "start_time": "2023-11-01T23:37:15.321416",
     "status": "completed"
    },
    "tags": []
   },
   "outputs": [],
   "source": [
    "data = data[\n",
    "    # (data.live_date == 'This event is live ') &\n",
    "    ((data.stage != 'LI pull through') & data.stage.notna()) &\n",
    "    (data.start_date < pd.Timestamp.now())\n",
    "]"
   ]
  },
  {
   "cell_type": "code",
   "execution_count": 7,
   "id": "4466e3f7",
   "metadata": {
    "execution": {
     "iopub.execute_input": "2023-11-01T23:37:15.335190Z",
     "iopub.status.busy": "2023-11-01T23:37:15.334695Z",
     "iopub.status.idle": "2023-11-01T23:37:16.185403Z",
     "shell.execute_reply": "2023-11-01T23:37:16.184689Z"
    },
    "papermill": {
     "duration": 0.855319,
     "end_time": "2023-11-01T23:37:16.187208",
     "exception": false,
     "start_time": "2023-11-01T23:37:15.331889",
     "status": "completed"
    },
    "tags": []
   },
   "outputs": [],
   "source": [
    "data['ward_code'] = data.postcode.pipe(util.geo.postcode_formatter).map(util.geo.postcode_to_ward_code)\n",
    "data['ward_name'] = data.ward_code.pipe(util.geo.ward_code_to_name)"
   ]
  },
  {
   "cell_type": "markdown",
   "id": "79424e0e",
   "metadata": {
    "papermill": {
     "duration": 0.002391,
     "end_time": "2023-11-01T23:37:16.192125",
     "exception": false,
     "start_time": "2023-11-01T23:37:16.189734",
     "status": "completed"
    },
    "tags": []
   },
   "source": [
    "Save the file"
   ]
  },
  {
   "cell_type": "code",
   "execution_count": 8,
   "id": "b64f9044",
   "metadata": {
    "execution": {
     "iopub.execute_input": "2023-11-01T23:37:16.197780Z",
     "iopub.status.busy": "2023-11-01T23:37:16.197329Z",
     "iopub.status.idle": "2023-11-01T23:37:16.203122Z",
     "shell.execute_reply": "2023-11-01T23:37:16.202604Z"
    },
    "papermill": {
     "duration": 0.010086,
     "end_time": "2023-11-01T23:37:16.204420",
     "exception": false,
     "start_time": "2023-11-01T23:37:16.194334",
     "status": "completed"
    },
    "tags": []
   },
   "outputs": [],
   "source": [
    "data[\n",
    "    ['name','start_date','end_date','ward_code']\n",
    "].to_csv(EVENTS_DATA, index=False)"
   ]
  },
  {
   "cell_type": "markdown",
   "id": "e7177fe6",
   "metadata": {
    "papermill": {
     "duration": 0.002162,
     "end_time": "2023-11-01T23:37:16.208861",
     "exception": false,
     "start_time": "2023-11-01T23:37:16.206699",
     "status": "completed"
    },
    "tags": []
   },
   "source": [
    "Print out missing postcode data"
   ]
  },
  {
   "cell_type": "code",
   "execution_count": 9,
   "id": "76a5a84c",
   "metadata": {
    "execution": {
     "iopub.execute_input": "2023-11-01T23:37:16.214251Z",
     "iopub.status.busy": "2023-11-01T23:37:16.214050Z",
     "iopub.status.idle": "2023-11-01T23:37:16.225321Z",
     "shell.execute_reply": "2023-11-01T23:37:16.224781Z"
    },
    "papermill": {
     "duration": 0.015503,
     "end_time": "2023-11-01T23:37:16.226654",
     "exception": false,
     "start_time": "2023-11-01T23:37:16.211151",
     "status": "completed"
    },
    "tags": []
   },
   "outputs": [
    {
     "data": {
      "text/html": [
       "<div>\n",
       "<style scoped>\n",
       "    .dataframe tbody tr th:only-of-type {\n",
       "        vertical-align: middle;\n",
       "    }\n",
       "\n",
       "    .dataframe tbody tr th {\n",
       "        vertical-align: top;\n",
       "    }\n",
       "\n",
       "    .dataframe thead th {\n",
       "        text-align: right;\n",
       "    }\n",
       "</style>\n",
       "<table border=\"1\" class=\"dataframe\">\n",
       "  <thead>\n",
       "    <tr style=\"text-align: right;\">\n",
       "      <th></th>\n",
       "      <th>name</th>\n",
       "      <th>start_date</th>\n",
       "    </tr>\n",
       "  </thead>\n",
       "  <tbody>\n",
       "    <tr>\n",
       "      <th>1</th>\n",
       "      <td>East Street Arts, A City Less Grey 2022</td>\n",
       "      <td>2022-10-08</td>\n",
       "    </tr>\n",
       "    <tr>\n",
       "      <th>3</th>\n",
       "      <td>Phoenix Dance Theatre Virtual Gallery</td>\n",
       "      <td>2023-01-01</td>\n",
       "    </tr>\n",
       "    <tr>\n",
       "      <th>4</th>\n",
       "      <td>The Big Art Giveaway, School of Creative Arts ...</td>\n",
       "      <td>2023-01-01</td>\n",
       "    </tr>\n",
       "    <tr>\n",
       "      <th>5</th>\n",
       "      <td>Embassy of Netherlands, Meet Leeds Lab</td>\n",
       "      <td>2023-01-16</td>\n",
       "    </tr>\n",
       "    <tr>\n",
       "      <th>6</th>\n",
       "      <td>Shifting Borders: A Journey to the Centre of o...</td>\n",
       "      <td>2023-01-24</td>\n",
       "    </tr>\n",
       "    <tr>\n",
       "      <th>...</th>\n",
       "      <td>...</td>\n",
       "      <td>...</td>\n",
       "    </tr>\n",
       "    <tr>\n",
       "      <th>255</th>\n",
       "      <td>Family Workshop: Geometric Poetry</td>\n",
       "      <td>2023-10-28</td>\n",
       "    </tr>\n",
       "    <tr>\n",
       "      <th>258</th>\n",
       "      <td>Northern Dreaming Storytelling Sessions</td>\n",
       "      <td>2023-10-30</td>\n",
       "    </tr>\n",
       "    <tr>\n",
       "      <th>262</th>\n",
       "      <td>Family Workshop: L23 Artspace Artist Residency...</td>\n",
       "      <td>2023-10-31</td>\n",
       "    </tr>\n",
       "    <tr>\n",
       "      <th>263</th>\n",
       "      <td>Halloween Mask Making and papercraft</td>\n",
       "      <td>2023-10-31</td>\n",
       "    </tr>\n",
       "    <tr>\n",
       "      <th>265</th>\n",
       "      <td>The Addams Family Musical</td>\n",
       "      <td>2023-10-31</td>\n",
       "    </tr>\n",
       "  </tbody>\n",
       "</table>\n",
       "<p>95 rows × 2 columns</p>\n",
       "</div>"
      ],
      "text/plain": [
       "                                                  name start_date\n",
       "1              East Street Arts, A City Less Grey 2022 2022-10-08\n",
       "3                Phoenix Dance Theatre Virtual Gallery 2023-01-01\n",
       "4    The Big Art Giveaway, School of Creative Arts ... 2023-01-01\n",
       "5               Embassy of Netherlands, Meet Leeds Lab 2023-01-16\n",
       "6    Shifting Borders: A Journey to the Centre of o... 2023-01-24\n",
       "..                                                 ...        ...\n",
       "255                  Family Workshop: Geometric Poetry 2023-10-28\n",
       "258            Northern Dreaming Storytelling Sessions 2023-10-30\n",
       "262  Family Workshop: L23 Artspace Artist Residency... 2023-10-31\n",
       "263               Halloween Mask Making and papercraft 2023-10-31\n",
       "265                          The Addams Family Musical 2023-10-31\n",
       "\n",
       "[95 rows x 2 columns]"
      ]
     },
     "execution_count": 9,
     "metadata": {},
     "output_type": "execute_result"
    }
   ],
   "source": [
    "data[data.postcode.isna()][[\n",
    "    'name', 'start_date'\n",
    "]]"
   ]
  },
  {
   "cell_type": "markdown",
   "id": "2bd3d7a9",
   "metadata": {
    "papermill": {
     "duration": 0.002435,
     "end_time": "2023-11-01T23:37:16.231606",
     "exception": false,
     "start_time": "2023-11-01T23:37:16.229171",
     "status": "completed"
    },
    "tags": []
   },
   "source": [
    "Plot the pricing"
   ]
  },
  {
   "cell_type": "code",
   "execution_count": 10,
   "id": "e61279c1",
   "metadata": {
    "execution": {
     "iopub.execute_input": "2023-11-01T23:37:16.237567Z",
     "iopub.status.busy": "2023-11-01T23:37:16.237119Z",
     "iopub.status.idle": "2023-11-01T23:37:16.674528Z",
     "shell.execute_reply": "2023-11-01T23:37:16.673874Z"
    },
    "papermill": {
     "duration": 0.441773,
     "end_time": "2023-11-01T23:37:16.675849",
     "exception": false,
     "start_time": "2023-11-01T23:37:16.234076",
     "status": "completed"
    },
    "tags": []
   },
   "outputs": [
    {
     "data": {
      "image/png": "[encoded data removed]",
      "text/plain": [
       "<Figure size 640x480 with 1 Axes>"
      ]
     },
     "metadata": {},
     "output_type": "display_data"
    }
   ],
   "source": [
    "# .groupby('pricing').count().plot.barh()\n",
    "pricing = data.pricing.fillna('Unspecified').str.replace('[\\[\\'\\]]', '', regex=True).to_frame().reset_index().groupby('pricing').count()\n",
    "\n",
    "pricing.columns = ['count']\n",
    "plot = pricing.plot.barh()\n"
   ]
  },
  {
   "cell_type": "code",
   "execution_count": null,
   "id": "b9d50572",
   "metadata": {
    "papermill": {
     "duration": 0.002761,
     "end_time": "2023-11-01T23:37:16.681698",
     "exception": false,
     "start_time": "2023-11-01T23:37:16.678937",
     "status": "completed"
    },
    "tags": []
   },
   "outputs": [],
   "source": []
  }
 ],
 "metadata": {
  "kernelspec": {
   "display_name": "leeds-2023-YZF5GfJv",
   "language": "python",
   "name": "python3"
  },
  "language_info": {
   "codemirror_mode": {
    "name": "ipython",
    "version": 3
   },
   "file_extension": ".py",
   "mimetype": "text/x-python",
   "name": "python",
   "nbconvert_exporter": "python",
   "pygments_lexer": "ipython3",
   "version": "3.10.13"
  },
  "papermill": {
   "default_parameters": {},
   "duration": 10.242374,
   "end_time": "2023-11-01T23:37:17.001327",
   "environment_variables": {},
   "exception": null,
   "input_path": "transform.ipynb",
   "output_path": "../../../working/output/partner-events-transform.ipynb",
   "parameters": {},
   "start_time": "2023-11-01T23:37:06.758953",
   "version": "2.4.0"
  }
 },
 "nbformat": 4,
 "nbformat_minor": 5
}