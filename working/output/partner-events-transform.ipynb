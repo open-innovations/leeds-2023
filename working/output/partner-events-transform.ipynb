{
 "cells": [
  {
   "cell_type": "code",
   "execution_count": 1,
   "id": "4d78c239",
   "metadata": {
    "execution": {
     "iopub.execute_input": "2023-12-06T23:38:05.100483Z",
     "iopub.status.busy": "2023-12-06T23:38:05.100237Z",
     "iopub.status.idle": "2023-12-06T23:38:05.344691Z",
     "shell.execute_reply": "2023-12-06T23:38:05.344054Z"
    },
    "papermill": {
     "duration": 0.250087,
     "end_time": "2023-12-06T23:38:05.346405",
     "exception": false,
     "start_time": "2023-12-06T23:38:05.096318",
     "status": "completed"
    },
    "tags": []
   },
   "outputs": [],
   "source": [
    "import os\n",
    "import sys\n",
    "import pandas as pd\n",
    "lib_dir = os.path.realpath('../../../lib/')\n",
    "if lib_dir not in sys.path: sys.path.append(lib_dir)"
   ]
  },
  {
   "cell_type": "code",
   "execution_count": 2,
   "id": "3912c86f",
   "metadata": {
    "execution": {
     "iopub.execute_input": "2023-12-06T23:38:05.352242Z",
     "iopub.status.busy": "2023-12-06T23:38:05.351791Z",
     "iopub.status.idle": "2023-12-06T23:38:12.328591Z",
     "shell.execute_reply": "2023-12-06T23:38:12.327844Z"
    },
    "papermill": {
     "duration": 6.981288,
     "end_time": "2023-12-06T23:38:12.330196",
     "exception": false,
     "start_time": "2023-12-06T23:38:05.348908",
     "status": "completed"
    },
    "tags": []
   },
   "outputs": [],
   "source": [
    "import util.geo"
   ]
  },
  {
   "cell_type": "code",
   "execution_count": 3,
   "id": "0fdfd628",
   "metadata": {
    "execution": {
     "iopub.execute_input": "2023-12-06T23:38:12.336114Z",
     "iopub.status.busy": "2023-12-06T23:38:12.335781Z",
     "iopub.status.idle": "2023-12-06T23:38:12.339007Z",
     "shell.execute_reply": "2023-12-06T23:38:12.338446Z"
    },
    "papermill": {
     "duration": 0.007511,
     "end_time": "2023-12-06T23:38:12.340235",
     "exception": false,
     "start_time": "2023-12-06T23:38:12.332724",
     "status": "completed"
    },
    "tags": []
   },
   "outputs": [],
   "source": [
    "EVENTS_RAW_DATA = '../../../working/metrics/partner-events/events.csv'\n",
    "DATA_DIR = '../../../data/metrics/events/partner-events/'\n",
    "EVENTS_DATA = os.path.join(DATA_DIR, 'events.csv')"
   ]
  },
  {
   "cell_type": "code",
   "execution_count": 4,
   "id": "af50ae1e",
   "metadata": {
    "execution": {
     "iopub.execute_input": "2023-12-06T23:38:12.345713Z",
     "iopub.status.busy": "2023-12-06T23:38:12.345215Z",
     "iopub.status.idle": "2023-12-06T23:38:12.348843Z",
     "shell.execute_reply": "2023-12-06T23:38:12.348311Z"
    },
    "papermill": {
     "duration": 0.007665,
     "end_time": "2023-12-06T23:38:12.350051",
     "exception": false,
     "start_time": "2023-12-06T23:38:12.342386",
     "status": "completed"
    },
    "tags": []
   },
   "outputs": [],
   "source": [
    "columns = {\n",
    "    'Event Name': 'name',\n",
    "    'Event Start Date': 'start_date',\n",
    "    'Event End Date': 'end_date',\n",
    "    'Partner/Promote': 'partner_promote',\n",
    "    'Stage': 'stage',\n",
    "    'Live date': 'live_date',\n",
    "    'Venue postcode': 'postcode',\n",
    "    'Pricing Policy': 'pricing',\n",
    "    'Venue - including address': 'venue',\n",
    "    'Is this event on Leeds Inspried?': 'on_leeds_inspired',\n",
    "}"
   ]
  },
  {
   "cell_type": "markdown",
   "id": "a7793766",
   "metadata": {
    "papermill": {
     "duration": 0.002195,
     "end_time": "2023-12-06T23:38:12.354358",
     "exception": false,
     "start_time": "2023-12-06T23:38:12.352163",
     "status": "completed"
    },
    "tags": []
   },
   "source": [
    "Load the data and rename columns. Parse the dates to dates."
   ]
  },
  {
   "cell_type": "code",
   "execution_count": 5,
   "id": "984e7d0e",
   "metadata": {
    "execution": {
     "iopub.execute_input": "2023-12-06T23:38:12.359701Z",
     "iopub.status.busy": "2023-12-06T23:38:12.359321Z",
     "iopub.status.idle": "2023-12-06T23:38:12.368514Z",
     "shell.execute_reply": "2023-12-06T23:38:12.367963Z"
    },
    "papermill": {
     "duration": 0.013228,
     "end_time": "2023-12-06T23:38:12.369734",
     "exception": false,
     "start_time": "2023-12-06T23:38:12.356506",
     "status": "completed"
    },
    "tags": []
   },
   "outputs": [],
   "source": [
    "data = pd.read_csv(EVENTS_RAW_DATA)[columns.keys()].rename(columns=columns)\n",
    "data.start_date = pd.to_datetime(data.start_date, errors='coerce')\n",
    "data.end_date = pd.to_datetime(data.end_date, errors='coerce')"
   ]
  },
  {
   "cell_type": "markdown",
   "id": "4aaa78a5",
   "metadata": {
    "papermill": {
     "duration": 0.00214,
     "end_time": "2023-12-06T23:38:12.374042",
     "exception": false,
     "start_time": "2023-12-06T23:38:12.371902",
     "status": "completed"
    },
    "tags": []
   },
   "source": [
    "Filter data by not LI Pull through and start date before now"
   ]
  },
  {
   "cell_type": "code",
   "execution_count": 6,
   "id": "1b26f666",
   "metadata": {
    "execution": {
     "iopub.execute_input": "2023-12-06T23:38:12.379990Z",
     "iopub.status.busy": "2023-12-06T23:38:12.379780Z",
     "iopub.status.idle": "2023-12-06T23:38:12.384276Z",
     "shell.execute_reply": "2023-12-06T23:38:12.383729Z"
    },
    "papermill": {
     "duration": 0.008635,
     "end_time": "2023-12-06T23:38:12.385600",
     "exception": false,
     "start_time": "2023-12-06T23:38:12.376965",
     "status": "completed"
    },
    "tags": []
   },
   "outputs": [],
   "source": [
    "data = data[\n",
    "    # (data.live_date == 'This event is live ') &\n",
    "    ((data.stage != 'LI pull through') & data.stage.notna()) &\n",
    "    (data.start_date < pd.Timestamp.now())\n",
    "]"
   ]
  },
  {
   "cell_type": "code",
   "execution_count": 7,
   "id": "ee6d5332",
   "metadata": {
    "execution": {
     "iopub.execute_input": "2023-12-06T23:38:12.390694Z",
     "iopub.status.busy": "2023-12-06T23:38:12.390512Z",
     "iopub.status.idle": "2023-12-06T23:38:13.272554Z",
     "shell.execute_reply": "2023-12-06T23:38:13.271898Z"
    },
    "papermill": {
     "duration": 0.886401,
     "end_time": "2023-12-06T23:38:13.274159",
     "exception": false,
     "start_time": "2023-12-06T23:38:12.387758",
     "status": "completed"
    },
    "tags": []
   },
   "outputs": [],
   "source": [
    "data['ward_code'] = data.postcode.pipe(util.geo.postcode_formatter).map(util.geo.postcode_to_ward_code)\n",
    "data['ward_name'] = data.ward_code.pipe(util.geo.ward_code_to_name)"
   ]
  },
  {
   "cell_type": "markdown",
   "id": "cfcd9d3f",
   "metadata": {
    "papermill": {
     "duration": 0.002392,
     "end_time": "2023-12-06T23:38:13.279146",
     "exception": false,
     "start_time": "2023-12-06T23:38:13.276754",
     "status": "completed"
    },
    "tags": []
   },
   "source": [
    "Save the file"
   ]
  },
  {
   "cell_type": "code",
   "execution_count": 8,
   "id": "f42482f8",
   "metadata": {
    "execution": {
     "iopub.execute_input": "2023-12-06T23:38:13.284876Z",
     "iopub.status.busy": "2023-12-06T23:38:13.284406Z",
     "iopub.status.idle": "2023-12-06T23:38:13.290189Z",
     "shell.execute_reply": "2023-12-06T23:38:13.289680Z"
    },
    "papermill": {
     "duration": 0.010049,
     "end_time": "2023-12-06T23:38:13.291455",
     "exception": false,
     "start_time": "2023-12-06T23:38:13.281406",
     "status": "completed"
    },
    "tags": []
   },
   "outputs": [],
   "source": [
    "data[\n",
    "    ['name','start_date','end_date','ward_code']\n",
    "].to_csv(EVENTS_DATA, index=False)"
   ]
  },
  {
   "cell_type": "markdown",
   "id": "2f160a27",
   "metadata": {
    "papermill": {
     "duration": 0.002168,
     "end_time": "2023-12-06T23:38:13.295945",
     "exception": false,
     "start_time": "2023-12-06T23:38:13.293777",
     "status": "completed"
    },
    "tags": []
   },
   "source": [
    "Print out missing postcode data"
   ]
  },
  {
   "cell_type": "code",
   "execution_count": 9,
   "id": "7120ea89",
   "metadata": {
    "execution": {
     "iopub.execute_input": "2023-12-06T23:38:13.301588Z",
     "iopub.status.busy": "2023-12-06T23:38:13.301200Z",
     "iopub.status.idle": "2023-12-06T23:38:13.312640Z",
     "shell.execute_reply": "2023-12-06T23:38:13.311967Z"
    },
    "papermill": {
     "duration": 0.015683,
     "end_time": "2023-12-06T23:38:13.313926",
     "exception": false,
     "start_time": "2023-12-06T23:38:13.298243",
     "status": "completed"
    },
    "tags": []
   },
   "outputs": [
    {
     "data": {
      "text/html": [
       "<div>\n",
       "<style scoped>\n",
       "    .dataframe tbody tr th:only-of-type {\n",
       "        vertical-align: middle;\n",
       "    }\n",
       "\n",
       "    .dataframe tbody tr th {\n",
       "        vertical-align: top;\n",
       "    }\n",
       "\n",
       "    .dataframe thead th {\n",
       "        text-align: right;\n",
       "    }\n",
       "</style>\n",
       "<table border=\"1\" class=\"dataframe\">\n",
       "  <thead>\n",
       "    <tr style=\"text-align: right;\">\n",
       "      <th></th>\n",
       "      <th>name</th>\n",
       "      <th>start_date</th>\n",
       "    </tr>\n",
       "  </thead>\n",
       "  <tbody>\n",
       "    <tr>\n",
       "      <th>1</th>\n",
       "      <td>East Street Arts, A City Less Grey 2022</td>\n",
       "      <td>2022-10-08</td>\n",
       "    </tr>\n",
       "    <tr>\n",
       "      <th>3</th>\n",
       "      <td>Phoenix Dance Theatre Virtual Gallery</td>\n",
       "      <td>2023-01-01</td>\n",
       "    </tr>\n",
       "    <tr>\n",
       "      <th>4</th>\n",
       "      <td>The Big Art Giveaway, School of Creative Arts ...</td>\n",
       "      <td>2023-01-01</td>\n",
       "    </tr>\n",
       "    <tr>\n",
       "      <th>5</th>\n",
       "      <td>Embassy of Netherlands, Meet Leeds Lab</td>\n",
       "      <td>2023-01-16</td>\n",
       "    </tr>\n",
       "    <tr>\n",
       "      <th>6</th>\n",
       "      <td>Shifting Borders: A Journey to the Centre of o...</td>\n",
       "      <td>2023-01-24</td>\n",
       "    </tr>\n",
       "    <tr>\n",
       "      <th>...</th>\n",
       "      <td>...</td>\n",
       "      <td>...</td>\n",
       "    </tr>\n",
       "    <tr>\n",
       "      <th>299</th>\n",
       "      <td>Leeds Language Week: Chinese Dance and Languag...</td>\n",
       "      <td>2023-11-19</td>\n",
       "    </tr>\n",
       "    <tr>\n",
       "      <th>300</th>\n",
       "      <td>Leeds Language Week: Taste of China</td>\n",
       "      <td>2023-11-19</td>\n",
       "    </tr>\n",
       "    <tr>\n",
       "      <th>302</th>\n",
       "      <td>Don't Go To Bed Just Yet: Live recording from ...</td>\n",
       "      <td>2023-11-21</td>\n",
       "    </tr>\n",
       "    <tr>\n",
       "      <th>304</th>\n",
       "      <td>Wellbeing Wednesdays</td>\n",
       "      <td>2023-11-22</td>\n",
       "    </tr>\n",
       "    <tr>\n",
       "      <th>315</th>\n",
       "      <td>Art Social for Teachers: Textile Stories with ...</td>\n",
       "      <td>2023-12-06</td>\n",
       "    </tr>\n",
       "  </tbody>\n",
       "</table>\n",
       "<p>127 rows × 2 columns</p>\n",
       "</div>"
      ],
      "text/plain": [
       "                                                  name start_date\n",
       "1              East Street Arts, A City Less Grey 2022 2022-10-08\n",
       "3                Phoenix Dance Theatre Virtual Gallery 2023-01-01\n",
       "4    The Big Art Giveaway, School of Creative Arts ... 2023-01-01\n",
       "5               Embassy of Netherlands, Meet Leeds Lab 2023-01-16\n",
       "6    Shifting Borders: A Journey to the Centre of o... 2023-01-24\n",
       "..                                                 ...        ...\n",
       "299  Leeds Language Week: Chinese Dance and Languag... 2023-11-19\n",
       "300                Leeds Language Week: Taste of China 2023-11-19\n",
       "302  Don't Go To Bed Just Yet: Live recording from ... 2023-11-21\n",
       "304                               Wellbeing Wednesdays 2023-11-22\n",
       "315  Art Social for Teachers: Textile Stories with ... 2023-12-06\n",
       "\n",
       "[127 rows x 2 columns]"
      ]
     },
     "execution_count": 9,
     "metadata": {},
     "output_type": "execute_result"
    }
   ],
   "source": [
    "data[data.postcode.isna()][[\n",
    "    'name', 'start_date'\n",
    "]]"
   ]
  },
  {
   "cell_type": "markdown",
   "id": "7fef2096",
   "metadata": {
    "papermill": {
     "duration": 0.002432,
     "end_time": "2023-12-06T23:38:13.318847",
     "exception": false,
     "start_time": "2023-12-06T23:38:13.316415",
     "status": "completed"
    },
    "tags": []
   },
   "source": [
    "Plot the pricing"
   ]
  },
  {
   "cell_type": "code",
   "execution_count": 10,
   "id": "52079dc3",
   "metadata": {
    "execution": {
     "iopub.execute_input": "2023-12-06T23:38:13.324982Z",
     "iopub.status.busy": "2023-12-06T23:38:13.324418Z",
     "iopub.status.idle": "2023-12-06T23:38:14.031374Z",
     "shell.execute_reply": "2023-12-06T23:38:14.030693Z"
    },
    "papermill": {
     "duration": 0.711415,
     "end_time": "2023-12-06T23:38:14.032745",
     "exception": false,
     "start_time": "2023-12-06T23:38:13.321330",
     "status": "completed"
    },
    "tags": []
   },
   "outputs": [
    {
     "data": {
      "image/png": "[encoded data removed]",
      "text/plain": [
       "<Figure size 640x480 with 1 Axes>"
      ]
     },
     "metadata": {},
     "output_type": "display_data"
    }
   ],
   "source": [
    "# .groupby('pricing').count().plot.barh()\n",
    "pricing = data.pricing.fillna('Unspecified').str.replace('[\\[\\'\\]]', '', regex=True).to_frame().reset_index().groupby('pricing').count()\n",
    "\n",
    "pricing.columns = ['count']\n",
    "plot = pricing.plot.barh()\n"
   ]
  },
  {
   "cell_type": "code",
   "execution_count": null,
   "id": "fbfa24c5",
   "metadata": {
    "papermill": {
     "duration": 0.003005,
     "end_time": "2023-12-06T23:38:14.038870",
     "exception": false,
     "start_time": "2023-12-06T23:38:14.035865",
     "status": "completed"
    },
    "tags": []
   },
   "outputs": [],
   "source": []
  }
 ],
 "metadata": {
  "kernelspec": {
   "display_name": "leeds-2023-YZF5GfJv",
   "language": "python",
   "name": "python3"
  },
  "language_info": {
   "codemirror_mode": {
    "name": "ipython",
    "version": 3
   },
   "file_extension": ".py",
   "mimetype": "text/x-python",
   "name": "python",
   "nbconvert_exporter": "python",
   "pygments_lexer": "ipython3",
   "version": "3.10.13"
  },
  "papermill": {
   "default_parameters": {},
   "duration": 10.5029,
   "end_time": "2023-12-06T23:38:14.357881",
   "environment_variables": {},
   "exception": null,
   "input_path": "transform.ipynb",
   "output_path": "../../../working/output/partner-events-transform.ipynb",
   "parameters": {},
   "start_time": "2023-12-06T23:38:03.854981",
   "version": "2.4.0"
  }
 },
 "nbformat": 4,
 "nbformat_minor": 5
}