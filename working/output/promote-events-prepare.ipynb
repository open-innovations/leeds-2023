{
 "cells": [
  {
   "cell_type": "code",
   "execution_count": 1,
   "id": "0f3f8f76",
   "metadata": {
    "execution": {
     "iopub.execute_input": "2023-08-19T23:37:28.757810Z",
     "iopub.status.busy": "2023-08-19T23:37:28.756870Z",
     "iopub.status.idle": "2023-08-19T23:37:29.054305Z",
     "shell.execute_reply": "2023-08-19T23:37:29.053285Z"
    },
    "papermill": {
     "duration": 0.304452,
     "end_time": "2023-08-19T23:37:29.056751",
     "exception": false,
     "start_time": "2023-08-19T23:37:28.752299",
     "status": "completed"
    },
    "tags": []
   },
   "outputs": [],
   "source": [
    "import os\n",
    "import pandas as pd"
   ]
  },
  {
   "cell_type": "code",
   "execution_count": 2,
   "id": "485d3026",
   "metadata": {
    "execution": {
     "iopub.execute_input": "2023-08-19T23:37:29.062819Z",
     "iopub.status.busy": "2023-08-19T23:37:29.062215Z",
     "iopub.status.idle": "2023-08-19T23:37:29.066192Z",
     "shell.execute_reply": "2023-08-19T23:37:29.065429Z"
    },
    "papermill": {
     "duration": 0.009188,
     "end_time": "2023-08-19T23:37:29.068340",
     "exception": false,
     "start_time": "2023-08-19T23:37:29.059152",
     "status": "completed"
    },
    "tags": []
   },
   "outputs": [],
   "source": [
    "DATA_DIR='../../../docs/metrics/events/promote/_data/'\n",
    "os.makedirs(DATA_DIR, exist_ok=True)"
   ]
  },
  {
   "cell_type": "code",
   "execution_count": 3,
   "id": "915a2990",
   "metadata": {
    "execution": {
     "iopub.execute_input": "2023-08-19T23:37:29.074844Z",
     "iopub.status.busy": "2023-08-19T23:37:29.074087Z",
     "iopub.status.idle": "2023-08-19T23:37:29.084260Z",
     "shell.execute_reply": "2023-08-19T23:37:29.083586Z"
    },
    "papermill": {
     "duration": 0.014919,
     "end_time": "2023-08-19T23:37:29.086040",
     "exception": false,
     "start_time": "2023-08-19T23:37:29.071121",
     "status": "completed"
    },
    "tags": []
   },
   "outputs": [],
   "source": [
    "data = pd.read_csv('../../../data/metrics/events/promote-events/events.csv', parse_dates=['time'])"
   ]
  },
  {
   "cell_type": "code",
   "execution_count": 4,
   "id": "04ef3341",
   "metadata": {
    "execution": {
     "iopub.execute_input": "2023-08-19T23:37:29.091255Z",
     "iopub.status.busy": "2023-08-19T23:37:29.090800Z",
     "iopub.status.idle": "2023-08-19T23:37:29.096987Z",
     "shell.execute_reply": "2023-08-19T23:37:29.096273Z"
    },
    "papermill": {
     "duration": 0.011022,
     "end_time": "2023-08-19T23:37:29.098954",
     "exception": false,
     "start_time": "2023-08-19T23:37:29.087932",
     "status": "completed"
    },
    "tags": []
   },
   "outputs": [],
   "source": [
    "pd.Series({\n",
    "    'total_events': len(data.id.unique()),\n",
    "    'total_event_instances': len(data.time),\n",
    "    'earliest_event': data.time.min(),\n",
    "    'latest_event': data.time.max(),\n",
    "}).to_json(\n",
    "    os.path.join(DATA_DIR, 'headlines.json'),\n",
    "    date_format='iso', indent=2\n",
    ")"
   ]
  },
  {
   "cell_type": "code",
   "execution_count": 5,
   "id": "1e428e6f",
   "metadata": {
    "execution": {
     "iopub.execute_input": "2023-08-19T23:37:29.104313Z",
     "iopub.status.busy": "2023-08-19T23:37:29.103718Z",
     "iopub.status.idle": "2023-08-19T23:37:29.113405Z",
     "shell.execute_reply": "2023-08-19T23:37:29.112701Z"
    },
    "papermill": {
     "duration": 0.014238,
     "end_time": "2023-08-19T23:37:29.115084",
     "exception": false,
     "start_time": "2023-08-19T23:37:29.100846",
     "status": "completed"
    },
    "tags": []
   },
   "outputs": [],
   "source": [
    "events = pd.DataFrame({\n",
    "    'events': data.groupby('id').agg({ 'time': 'min' }).reset_index().groupby('time').id.count(),\n",
    "    'event_instances': data.groupby('time').id.count(),\n",
    "}).fillna(0).astype(int)"
   ]
  },
  {
   "cell_type": "code",
   "execution_count": 6,
   "id": "0dfd4da3",
   "metadata": {
    "execution": {
     "iopub.execute_input": "2023-08-19T23:37:29.120313Z",
     "iopub.status.busy": "2023-08-19T23:37:29.119851Z",
     "iopub.status.idle": "2023-08-19T23:37:29.123852Z",
     "shell.execute_reply": "2023-08-19T23:37:29.123029Z"
    },
    "papermill": {
     "duration": 0.008625,
     "end_time": "2023-08-19T23:37:29.125660",
     "exception": false,
     "start_time": "2023-08-19T23:37:29.117035",
     "status": "completed"
    },
    "tags": []
   },
   "outputs": [],
   "source": [
    "def cumulate(data):\n",
    "    return pd.concat([\n",
    "        data,\n",
    "        data.cumsum().rename(columns=lambda c: f'cumulative_{c}')\n",
    "    ], axis=1)"
   ]
  },
  {
   "cell_type": "code",
   "execution_count": 7,
   "id": "240b55ed",
   "metadata": {
    "execution": {
     "iopub.execute_input": "2023-08-19T23:37:29.131187Z",
     "iopub.status.busy": "2023-08-19T23:37:29.130590Z",
     "iopub.status.idle": "2023-08-19T23:37:29.141617Z",
     "shell.execute_reply": "2023-08-19T23:37:29.140960Z"
    },
    "papermill": {
     "duration": 0.015648,
     "end_time": "2023-08-19T23:37:29.143307",
     "exception": false,
     "start_time": "2023-08-19T23:37:29.127659",
     "status": "completed"
    },
    "tags": []
   },
   "outputs": [],
   "source": [
    "events.resample('W-FRI').sum().pipe(cumulate).to_csv(os.path.join(DATA_DIR, 'by_week.csv'))"
   ]
  },
  {
   "cell_type": "code",
   "execution_count": 8,
   "id": "87c04531",
   "metadata": {
    "execution": {
     "iopub.execute_input": "2023-08-19T23:37:29.149174Z",
     "iopub.status.busy": "2023-08-19T23:37:29.148545Z",
     "iopub.status.idle": "2023-08-19T23:37:29.155309Z",
     "shell.execute_reply": "2023-08-19T23:37:29.154613Z"
    },
    "papermill": {
     "duration": 0.011415,
     "end_time": "2023-08-19T23:37:29.157022",
     "exception": false,
     "start_time": "2023-08-19T23:37:29.145607",
     "status": "completed"
    },
    "tags": []
   },
   "outputs": [],
   "source": [
    "events.resample('MS').sum().pipe(cumulate).to_csv(os.path.join(DATA_DIR, 'by_month.csv'))"
   ]
  },
  {
   "cell_type": "code",
   "execution_count": null,
   "id": "ea9e7580",
   "metadata": {
    "papermill": {
     "duration": 0.002523,
     "end_time": "2023-08-19T23:37:29.161771",
     "exception": false,
     "start_time": "2023-08-19T23:37:29.159248",
     "status": "completed"
    },
    "tags": []
   },
   "outputs": [],
   "source": []
  }
 ],
 "metadata": {
  "kernelspec": {
   "display_name": "leeds-2023-YZF5GfJv",
   "language": "python",
   "name": "python3"
  },
  "language_info": {
   "codemirror_mode": {
    "name": "ipython",
    "version": 3
   },
   "file_extension": ".py",
   "mimetype": "text/x-python",
   "name": "python",
   "nbconvert_exporter": "python",
   "pygments_lexer": "ipython3",
   "version": "3.10.12"
  },
  "papermill": {
   "default_parameters": {},
   "duration": 2.21215,
   "end_time": "2023-08-19T23:37:29.381381",
   "environment_variables": {},
   "exception": null,
   "input_path": "prepare.ipynb",
   "output_path": "../../../working/output/promote-events-prepare.ipynb",
   "parameters": {},
   "start_time": "2023-08-19T23:37:27.169231",
   "version": "2.4.0"
  }
 },
 "nbformat": 4,
 "nbformat_minor": 5
}