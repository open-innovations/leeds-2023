{
 "cells": [
  {
   "cell_type": "code",
   "execution_count": 1,
   "id": "5d237e8b",
   "metadata": {
    "execution": {
     "iopub.execute_input": "2023-09-08T09:02:25.622021Z",
     "iopub.status.busy": "2023-09-08T09:02:25.621335Z",
     "iopub.status.idle": "2023-09-08T09:02:25.865364Z",
     "shell.execute_reply": "2023-09-08T09:02:25.864693Z"
    },
    "papermill": {
     "duration": 0.249866,
     "end_time": "2023-09-08T09:02:25.867547",
     "exception": false,
     "start_time": "2023-09-08T09:02:25.617681",
     "status": "completed"
    },
    "tags": []
   },
   "outputs": [],
   "source": [
    "import os\n",
    "import pandas as pd"
   ]
  },
  {
   "cell_type": "code",
   "execution_count": 2,
   "id": "ec4ce40c",
   "metadata": {
    "execution": {
     "iopub.execute_input": "2023-09-08T09:02:25.873185Z",
     "iopub.status.busy": "2023-09-08T09:02:25.872454Z",
     "iopub.status.idle": "2023-09-08T09:02:25.876032Z",
     "shell.execute_reply": "2023-09-08T09:02:25.875429Z"
    },
    "papermill": {
     "duration": 0.007791,
     "end_time": "2023-09-08T09:02:25.877470",
     "exception": false,
     "start_time": "2023-09-08T09:02:25.869679",
     "status": "completed"
    },
    "tags": []
   },
   "outputs": [],
   "source": [
    "DATA_DIR='../../../docs/metrics/events/promote/_data/'\n",
    "os.makedirs(DATA_DIR, exist_ok=True)"
   ]
  },
  {
   "cell_type": "code",
   "execution_count": 3,
   "id": "ab035e05",
   "metadata": {
    "execution": {
     "iopub.execute_input": "2023-09-08T09:02:25.882018Z",
     "iopub.status.busy": "2023-09-08T09:02:25.881680Z",
     "iopub.status.idle": "2023-09-08T09:02:25.891474Z",
     "shell.execute_reply": "2023-09-08T09:02:25.890891Z"
    },
    "papermill": {
     "duration": 0.013755,
     "end_time": "2023-09-08T09:02:25.892987",
     "exception": false,
     "start_time": "2023-09-08T09:02:25.879232",
     "status": "completed"
    },
    "tags": []
   },
   "outputs": [],
   "source": [
    "data = pd.read_csv('../../../data/metrics/events/promote-events/events.csv', parse_dates=['time'])"
   ]
  },
  {
   "cell_type": "code",
   "execution_count": 4,
   "id": "e2cfe52b",
   "metadata": {
    "execution": {
     "iopub.execute_input": "2023-09-08T09:02:25.897513Z",
     "iopub.status.busy": "2023-09-08T09:02:25.897306Z",
     "iopub.status.idle": "2023-09-08T09:02:25.902460Z",
     "shell.execute_reply": "2023-09-08T09:02:25.901810Z"
    },
    "papermill": {
     "duration": 0.00934,
     "end_time": "2023-09-08T09:02:25.904105",
     "exception": false,
     "start_time": "2023-09-08T09:02:25.894765",
     "status": "completed"
    },
    "tags": []
   },
   "outputs": [],
   "source": [
    "pd.Series({\n",
    "    'total_events': len(data.id.unique()),\n",
    "    'total_event_instances': len(data.time),\n",
    "    'earliest_event': data.time.min(),\n",
    "    'latest_event': data.time.max(),\n",
    "}).to_json(\n",
    "    os.path.join(DATA_DIR, 'headlines.json'),\n",
    "    date_format='iso', indent=2\n",
    ")"
   ]
  },
  {
   "cell_type": "code",
   "execution_count": 5,
   "id": "17e5ee67",
   "metadata": {
    "execution": {
     "iopub.execute_input": "2023-09-08T09:02:25.908680Z",
     "iopub.status.busy": "2023-09-08T09:02:25.908461Z",
     "iopub.status.idle": "2023-09-08T09:02:25.916562Z",
     "shell.execute_reply": "2023-09-08T09:02:25.915921Z"
    },
    "papermill": {
     "duration": 0.01212,
     "end_time": "2023-09-08T09:02:25.918066",
     "exception": false,
     "start_time": "2023-09-08T09:02:25.905946",
     "status": "completed"
    },
    "tags": []
   },
   "outputs": [],
   "source": [
    "events = pd.DataFrame({\n",
    "    'events': data.groupby('id').agg({ 'time': 'min' }).reset_index().groupby('time').id.count(),\n",
    "    'event_instances': data.groupby('time').id.count(),\n",
    "}).fillna(0).astype(int)"
   ]
  },
  {
   "cell_type": "code",
   "execution_count": 6,
   "id": "882d13ec",
   "metadata": {
    "execution": {
     "iopub.execute_input": "2023-09-08T09:02:25.922764Z",
     "iopub.status.busy": "2023-09-08T09:02:25.922432Z",
     "iopub.status.idle": "2023-09-08T09:02:25.925953Z",
     "shell.execute_reply": "2023-09-08T09:02:25.925312Z"
    },
    "papermill": {
     "duration": 0.007763,
     "end_time": "2023-09-08T09:02:25.927678",
     "exception": false,
     "start_time": "2023-09-08T09:02:25.919915",
     "status": "completed"
    },
    "tags": []
   },
   "outputs": [],
   "source": [
    "def cumulate(data):\n",
    "    return pd.concat([\n",
    "        data,\n",
    "        data.cumsum().rename(columns=lambda c: f'cumulative_{c}')\n",
    "    ], axis=1)"
   ]
  },
  {
   "cell_type": "code",
   "execution_count": 7,
   "id": "24cc269f",
   "metadata": {
    "execution": {
     "iopub.execute_input": "2023-09-08T09:02:25.932764Z",
     "iopub.status.busy": "2023-09-08T09:02:25.932181Z",
     "iopub.status.idle": "2023-09-08T09:02:25.941984Z",
     "shell.execute_reply": "2023-09-08T09:02:25.941406Z"
    },
    "papermill": {
     "duration": 0.01398,
     "end_time": "2023-09-08T09:02:25.943599",
     "exception": false,
     "start_time": "2023-09-08T09:02:25.929619",
     "status": "completed"
    },
    "tags": []
   },
   "outputs": [],
   "source": [
    "events.resample('W-FRI').sum().pipe(cumulate).to_csv(os.path.join(DATA_DIR, 'by_week.csv'))"
   ]
  },
  {
   "cell_type": "code",
   "execution_count": 8,
   "id": "a7b6e5c8",
   "metadata": {
    "execution": {
     "iopub.execute_input": "2023-09-08T09:02:25.948561Z",
     "iopub.status.busy": "2023-09-08T09:02:25.948217Z",
     "iopub.status.idle": "2023-09-08T09:02:25.954197Z",
     "shell.execute_reply": "2023-09-08T09:02:25.953545Z"
    },
    "papermill": {
     "duration": 0.010036,
     "end_time": "2023-09-08T09:02:25.955646",
     "exception": false,
     "start_time": "2023-09-08T09:02:25.945610",
     "status": "completed"
    },
    "tags": []
   },
   "outputs": [],
   "source": [
    "events.resample('MS').sum().pipe(cumulate).to_csv(os.path.join(DATA_DIR, 'by_month.csv'))"
   ]
  },
  {
   "cell_type": "code",
   "execution_count": null,
   "id": "3c2cf70a",
   "metadata": {
    "papermill": {
     "duration": 0.001939,
     "end_time": "2023-09-08T09:02:25.959578",
     "exception": false,
     "start_time": "2023-09-08T09:02:25.957639",
     "status": "completed"
    },
    "tags": []
   },
   "outputs": [],
   "source": []
  }
 ],
 "metadata": {
  "kernelspec": {
   "display_name": "leeds-2023-YZF5GfJv",
   "language": "python",
   "name": "python3"
  },
  "language_info": {
   "codemirror_mode": {
    "name": "ipython",
    "version": 3
   },
   "file_extension": ".py",
   "mimetype": "text/x-python",
   "name": "python",
   "nbconvert_exporter": "python",
   "pygments_lexer": "ipython3",
   "version": "3.10.13"
  },
  "papermill": {
   "default_parameters": {},
   "duration": 1.902453,
   "end_time": "2023-09-08T09:02:26.177690",
   "environment_variables": {},
   "exception": null,
   "input_path": "prepare.ipynb",
   "output_path": "../../../working/output/promote-events-prepare.ipynb",
   "parameters": {},
   "start_time": "2023-09-08T09:02:24.275237",
   "version": "2.4.0"
  }
 },
 "nbformat": 4,
 "nbformat_minor": 5
}