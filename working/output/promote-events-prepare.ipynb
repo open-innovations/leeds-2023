{
 "cells": [
  {
   "cell_type": "code",
   "execution_count": 1,
   "id": "39aff2df",
   "metadata": {
    "execution": {
     "iopub.execute_input": "2023-07-19T23:38:58.880178Z",
     "iopub.status.busy": "2023-07-19T23:38:58.879374Z",
     "iopub.status.idle": "2023-07-19T23:38:59.195802Z",
     "shell.execute_reply": "2023-07-19T23:38:59.194695Z"
    },
    "papermill": {
     "duration": 0.323516,
     "end_time": "2023-07-19T23:38:59.198511",
     "exception": false,
     "start_time": "2023-07-19T23:38:58.874995",
     "status": "completed"
    },
    "tags": []
   },
   "outputs": [],
   "source": [
    "import os\n",
    "import pandas as pd"
   ]
  },
  {
   "cell_type": "code",
   "execution_count": 2,
   "id": "be312a86",
   "metadata": {
    "execution": {
     "iopub.execute_input": "2023-07-19T23:38:59.204997Z",
     "iopub.status.busy": "2023-07-19T23:38:59.204479Z",
     "iopub.status.idle": "2023-07-19T23:38:59.209187Z",
     "shell.execute_reply": "2023-07-19T23:38:59.208259Z"
    },
    "papermill": {
     "duration": 0.010085,
     "end_time": "2023-07-19T23:38:59.211251",
     "exception": false,
     "start_time": "2023-07-19T23:38:59.201166",
     "status": "completed"
    },
    "tags": []
   },
   "outputs": [],
   "source": [
    "DATA_DIR='../../../docs/metrics/events/promote/_data/'\n",
    "os.makedirs(DATA_DIR, exist_ok=True)"
   ]
  },
  {
   "cell_type": "code",
   "execution_count": 3,
   "id": "0ec8bf0c",
   "metadata": {
    "execution": {
     "iopub.execute_input": "2023-07-19T23:38:59.216792Z",
     "iopub.status.busy": "2023-07-19T23:38:59.216010Z",
     "iopub.status.idle": "2023-07-19T23:38:59.228150Z",
     "shell.execute_reply": "2023-07-19T23:38:59.227400Z"
    },
    "papermill": {
     "duration": 0.017042,
     "end_time": "2023-07-19T23:38:59.230169",
     "exception": false,
     "start_time": "2023-07-19T23:38:59.213127",
     "status": "completed"
    },
    "tags": []
   },
   "outputs": [],
   "source": [
    "data = pd.read_csv('../../../data/metrics/events/promote-events/events.csv', parse_dates=['time'])"
   ]
  },
  {
   "cell_type": "code",
   "execution_count": 4,
   "id": "9c7bcd84",
   "metadata": {
    "execution": {
     "iopub.execute_input": "2023-07-19T23:38:59.236031Z",
     "iopub.status.busy": "2023-07-19T23:38:59.235149Z",
     "iopub.status.idle": "2023-07-19T23:38:59.241904Z",
     "shell.execute_reply": "2023-07-19T23:38:59.241214Z"
    },
    "papermill": {
     "duration": 0.011604,
     "end_time": "2023-07-19T23:38:59.243824",
     "exception": false,
     "start_time": "2023-07-19T23:38:59.232220",
     "status": "completed"
    },
    "tags": []
   },
   "outputs": [],
   "source": [
    "pd.Series({\n",
    "    'total_events': len(data.id.unique()),\n",
    "    'total_event_instances': len(data.time),\n",
    "    'earliest_event': data.time.min(),\n",
    "    'latest_event': data.time.max(),\n",
    "}).to_json(\n",
    "    os.path.join(DATA_DIR, 'headlines.json'),\n",
    "    date_format='iso', indent=2\n",
    ")"
   ]
  },
  {
   "cell_type": "code",
   "execution_count": 5,
   "id": "3eb14e10",
   "metadata": {
    "execution": {
     "iopub.execute_input": "2023-07-19T23:38:59.249568Z",
     "iopub.status.busy": "2023-07-19T23:38:59.249060Z",
     "iopub.status.idle": "2023-07-19T23:38:59.260084Z",
     "shell.execute_reply": "2023-07-19T23:38:59.259284Z"
    },
    "papermill": {
     "duration": 0.01618,
     "end_time": "2023-07-19T23:38:59.262194",
     "exception": false,
     "start_time": "2023-07-19T23:38:59.246014",
     "status": "completed"
    },
    "tags": []
   },
   "outputs": [],
   "source": [
    "events = pd.DataFrame({\n",
    "    'events': data.groupby('id').agg({ 'time': 'min' }).reset_index().groupby('time').id.count(),\n",
    "    'event_instances': data.groupby('time').id.count(),\n",
    "}).fillna(0).astype(int)"
   ]
  },
  {
   "cell_type": "code",
   "execution_count": 6,
   "id": "f7ff19ba",
   "metadata": {
    "execution": {
     "iopub.execute_input": "2023-07-19T23:38:59.267669Z",
     "iopub.status.busy": "2023-07-19T23:38:59.267403Z",
     "iopub.status.idle": "2023-07-19T23:38:59.272601Z",
     "shell.execute_reply": "2023-07-19T23:38:59.270720Z"
    },
    "papermill": {
     "duration": 0.010865,
     "end_time": "2023-07-19T23:38:59.275191",
     "exception": false,
     "start_time": "2023-07-19T23:38:59.264326",
     "status": "completed"
    },
    "tags": []
   },
   "outputs": [],
   "source": [
    "def cumulate(data):\n",
    "    return pd.concat([\n",
    "        data,\n",
    "        data.cumsum().rename(columns=lambda c: f'cumulative_{c}')\n",
    "    ], axis=1)"
   ]
  },
  {
   "cell_type": "code",
   "execution_count": 7,
   "id": "98b70654",
   "metadata": {
    "execution": {
     "iopub.execute_input": "2023-07-19T23:38:59.281265Z",
     "iopub.status.busy": "2023-07-19T23:38:59.280955Z",
     "iopub.status.idle": "2023-07-19T23:38:59.294176Z",
     "shell.execute_reply": "2023-07-19T23:38:59.293369Z"
    },
    "papermill": {
     "duration": 0.018544,
     "end_time": "2023-07-19T23:38:59.296334",
     "exception": false,
     "start_time": "2023-07-19T23:38:59.277790",
     "status": "completed"
    },
    "tags": []
   },
   "outputs": [],
   "source": [
    "events.resample('W-FRI').sum().pipe(cumulate).to_csv(os.path.join(DATA_DIR, 'by_week.csv'))"
   ]
  },
  {
   "cell_type": "code",
   "execution_count": 8,
   "id": "c62aec9f",
   "metadata": {
    "execution": {
     "iopub.execute_input": "2023-07-19T23:38:59.303579Z",
     "iopub.status.busy": "2023-07-19T23:38:59.301680Z",
     "iopub.status.idle": "2023-07-19T23:38:59.311016Z",
     "shell.execute_reply": "2023-07-19T23:38:59.310199Z"
    },
    "papermill": {
     "duration": 0.014104,
     "end_time": "2023-07-19T23:38:59.312674",
     "exception": false,
     "start_time": "2023-07-19T23:38:59.298570",
     "status": "completed"
    },
    "tags": []
   },
   "outputs": [],
   "source": [
    "events.resample('MS').sum().pipe(cumulate).to_csv(os.path.join(DATA_DIR, 'by_month.csv'))"
   ]
  },
  {
   "cell_type": "code",
   "execution_count": null,
   "id": "9b40a4b9",
   "metadata": {
    "papermill": {
     "duration": 0.002749,
     "end_time": "2023-07-19T23:38:59.317619",
     "exception": false,
     "start_time": "2023-07-19T23:38:59.314870",
     "status": "completed"
    },
    "tags": []
   },
   "outputs": [],
   "source": []
  }
 ],
 "metadata": {
  "kernelspec": {
   "display_name": "leeds-2023-YZF5GfJv",
   "language": "python",
   "name": "python3"
  },
  "language_info": {
   "codemirror_mode": {
    "name": "ipython",
    "version": 3
   },
   "file_extension": ".py",
   "mimetype": "text/x-python",
   "name": "python",
   "nbconvert_exporter": "python",
   "pygments_lexer": "ipython3",
   "version": "3.10.6"
  },
  "papermill": {
   "default_parameters": {},
   "duration": 2.351678,
   "end_time": "2023-07-19T23:38:59.639998",
   "environment_variables": {},
   "exception": null,
   "input_path": "prepare.ipynb",
   "output_path": "../../../working/output/promote-events-prepare.ipynb",
   "parameters": {},
   "start_time": "2023-07-19T23:38:57.288320",
   "version": "2.4.0"
  }
 },
 "nbformat": 4,
 "nbformat_minor": 5
}