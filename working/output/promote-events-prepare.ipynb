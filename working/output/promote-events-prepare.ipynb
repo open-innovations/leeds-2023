{
 "cells": [
  {
   "cell_type": "code",
   "execution_count": 1,
   "id": "ef61bb69",
   "metadata": {
    "execution": {
     "iopub.execute_input": "2023-07-23T23:38:56.221566Z",
     "iopub.status.busy": "2023-07-23T23:38:56.220830Z",
     "iopub.status.idle": "2023-07-23T23:38:56.460504Z",
     "shell.execute_reply": "2023-07-23T23:38:56.459839Z"
    },
    "papermill": {
     "duration": 0.245737,
     "end_time": "2023-07-23T23:38:56.462811",
     "exception": false,
     "start_time": "2023-07-23T23:38:56.217074",
     "status": "completed"
    },
    "tags": []
   },
   "outputs": [],
   "source": [
    "import os\n",
    "import pandas as pd"
   ]
  },
  {
   "cell_type": "code",
   "execution_count": 2,
   "id": "d0ec0538",
   "metadata": {
    "execution": {
     "iopub.execute_input": "2023-07-23T23:38:56.468169Z",
     "iopub.status.busy": "2023-07-23T23:38:56.467400Z",
     "iopub.status.idle": "2023-07-23T23:38:56.471107Z",
     "shell.execute_reply": "2023-07-23T23:38:56.470498Z"
    },
    "papermill": {
     "duration": 0.007734,
     "end_time": "2023-07-23T23:38:56.472520",
     "exception": false,
     "start_time": "2023-07-23T23:38:56.464786",
     "status": "completed"
    },
    "tags": []
   },
   "outputs": [],
   "source": [
    "DATA_DIR='../../../docs/metrics/events/promote/_data/'\n",
    "os.makedirs(DATA_DIR, exist_ok=True)"
   ]
  },
  {
   "cell_type": "code",
   "execution_count": 3,
   "id": "71dada54",
   "metadata": {
    "execution": {
     "iopub.execute_input": "2023-07-23T23:38:56.477005Z",
     "iopub.status.busy": "2023-07-23T23:38:56.476508Z",
     "iopub.status.idle": "2023-07-23T23:38:56.485838Z",
     "shell.execute_reply": "2023-07-23T23:38:56.485301Z"
    },
    "papermill": {
     "duration": 0.013118,
     "end_time": "2023-07-23T23:38:56.487225",
     "exception": false,
     "start_time": "2023-07-23T23:38:56.474107",
     "status": "completed"
    },
    "tags": []
   },
   "outputs": [],
   "source": [
    "data = pd.read_csv('../../../data/metrics/events/promote-events/events.csv', parse_dates=['time'])"
   ]
  },
  {
   "cell_type": "code",
   "execution_count": 4,
   "id": "c1638e83",
   "metadata": {
    "execution": {
     "iopub.execute_input": "2023-07-23T23:38:56.491573Z",
     "iopub.status.busy": "2023-07-23T23:38:56.491187Z",
     "iopub.status.idle": "2023-07-23T23:38:56.496189Z",
     "shell.execute_reply": "2023-07-23T23:38:56.495556Z"
    },
    "papermill": {
     "duration": 0.008925,
     "end_time": "2023-07-23T23:38:56.497689",
     "exception": false,
     "start_time": "2023-07-23T23:38:56.488764",
     "status": "completed"
    },
    "tags": []
   },
   "outputs": [],
   "source": [
    "pd.Series({\n",
    "    'total_events': len(data.id.unique()),\n",
    "    'total_event_instances': len(data.time),\n",
    "    'earliest_event': data.time.min(),\n",
    "    'latest_event': data.time.max(),\n",
    "}).to_json(\n",
    "    os.path.join(DATA_DIR, 'headlines.json'),\n",
    "    date_format='iso', indent=2\n",
    ")"
   ]
  },
  {
   "cell_type": "code",
   "execution_count": 5,
   "id": "5705703d",
   "metadata": {
    "execution": {
     "iopub.execute_input": "2023-07-23T23:38:56.501944Z",
     "iopub.status.busy": "2023-07-23T23:38:56.501557Z",
     "iopub.status.idle": "2023-07-23T23:38:56.509162Z",
     "shell.execute_reply": "2023-07-23T23:38:56.508527Z"
    },
    "papermill": {
     "duration": 0.011453,
     "end_time": "2023-07-23T23:38:56.510703",
     "exception": false,
     "start_time": "2023-07-23T23:38:56.499250",
     "status": "completed"
    },
    "tags": []
   },
   "outputs": [],
   "source": [
    "events = pd.DataFrame({\n",
    "    'events': data.groupby('id').agg({ 'time': 'min' }).reset_index().groupby('time').id.count(),\n",
    "    'event_instances': data.groupby('time').id.count(),\n",
    "}).fillna(0).astype(int)"
   ]
  },
  {
   "cell_type": "code",
   "execution_count": 6,
   "id": "6d850586",
   "metadata": {
    "execution": {
     "iopub.execute_input": "2023-07-23T23:38:56.514965Z",
     "iopub.status.busy": "2023-07-23T23:38:56.514643Z",
     "iopub.status.idle": "2023-07-23T23:38:56.517961Z",
     "shell.execute_reply": "2023-07-23T23:38:56.517370Z"
    },
    "papermill": {
     "duration": 0.007098,
     "end_time": "2023-07-23T23:38:56.519400",
     "exception": false,
     "start_time": "2023-07-23T23:38:56.512302",
     "status": "completed"
    },
    "tags": []
   },
   "outputs": [],
   "source": [
    "def cumulate(data):\n",
    "    return pd.concat([\n",
    "        data,\n",
    "        data.cumsum().rename(columns=lambda c: f'cumulative_{c}')\n",
    "    ], axis=1)"
   ]
  },
  {
   "cell_type": "code",
   "execution_count": 7,
   "id": "c6389b18",
   "metadata": {
    "execution": {
     "iopub.execute_input": "2023-07-23T23:38:56.523774Z",
     "iopub.status.busy": "2023-07-23T23:38:56.523454Z",
     "iopub.status.idle": "2023-07-23T23:38:56.532870Z",
     "shell.execute_reply": "2023-07-23T23:38:56.531876Z"
    },
    "papermill": {
     "duration": 0.013287,
     "end_time": "2023-07-23T23:38:56.534339",
     "exception": false,
     "start_time": "2023-07-23T23:38:56.521052",
     "status": "completed"
    },
    "tags": []
   },
   "outputs": [],
   "source": [
    "events.resample('W-FRI').sum().pipe(cumulate).to_csv(os.path.join(DATA_DIR, 'by_week.csv'))"
   ]
  },
  {
   "cell_type": "code",
   "execution_count": 8,
   "id": "a21570ec",
   "metadata": {
    "execution": {
     "iopub.execute_input": "2023-07-23T23:38:56.538831Z",
     "iopub.status.busy": "2023-07-23T23:38:56.538442Z",
     "iopub.status.idle": "2023-07-23T23:38:56.543933Z",
     "shell.execute_reply": "2023-07-23T23:38:56.543346Z"
    },
    "papermill": {
     "duration": 0.009324,
     "end_time": "2023-07-23T23:38:56.545404",
     "exception": false,
     "start_time": "2023-07-23T23:38:56.536080",
     "status": "completed"
    },
    "tags": []
   },
   "outputs": [],
   "source": [
    "events.resample('MS').sum().pipe(cumulate).to_csv(os.path.join(DATA_DIR, 'by_month.csv'))"
   ]
  },
  {
   "cell_type": "code",
   "execution_count": null,
   "id": "2a7e6234",
   "metadata": {
    "papermill": {
     "duration": 0.001676,
     "end_time": "2023-07-23T23:38:56.548756",
     "exception": false,
     "start_time": "2023-07-23T23:38:56.547080",
     "status": "completed"
    },
    "tags": []
   },
   "outputs": [],
   "source": []
  }
 ],
 "metadata": {
  "kernelspec": {
   "display_name": "leeds-2023-YZF5GfJv",
   "language": "python",
   "name": "python3"
  },
  "language_info": {
   "codemirror_mode": {
    "name": "ipython",
    "version": 3
   },
   "file_extension": ".py",
   "mimetype": "text/x-python",
   "name": "python",
   "nbconvert_exporter": "python",
   "pygments_lexer": "ipython3",
   "version": "3.10.6"
  },
  "papermill": {
   "default_parameters": {},
   "duration": 1.87502,
   "end_time": "2023-07-23T23:38:56.767014",
   "environment_variables": {},
   "exception": null,
   "input_path": "prepare.ipynb",
   "output_path": "../../../working/output/promote-events-prepare.ipynb",
   "parameters": {},
   "start_time": "2023-07-23T23:38:54.891994",
   "version": "2.4.0"
  }
 },
 "nbformat": 4,
 "nbformat_minor": 5
}