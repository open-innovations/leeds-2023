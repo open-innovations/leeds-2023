{
 "cells": [
  {
   "cell_type": "code",
   "execution_count": 1,
   "id": "61115d90",
   "metadata": {
    "execution": {
     "iopub.execute_input": "2023-08-19T23:38:43.518884Z",
     "iopub.status.busy": "2023-08-19T23:38:43.518221Z",
     "iopub.status.idle": "2023-08-19T23:38:55.009099Z",
     "shell.execute_reply": "2023-08-19T23:38:55.008047Z"
    },
    "papermill": {
     "duration": 11.498618,
     "end_time": "2023-08-19T23:38:55.011469",
     "exception": false,
     "start_time": "2023-08-19T23:38:43.512851",
     "status": "completed"
    },
    "tags": []
   },
   "outputs": [],
   "source": [
    "import os\n",
    "import pandas as pd\n",
    "from events import load_event_data, get_first_ward, normalise_ward"
   ]
  },
  {
   "cell_type": "code",
   "execution_count": 2,
   "id": "d370189c",
   "metadata": {
    "execution": {
     "iopub.execute_input": "2023-08-19T23:38:55.019045Z",
     "iopub.status.busy": "2023-08-19T23:38:55.018217Z",
     "iopub.status.idle": "2023-08-19T23:38:55.022710Z",
     "shell.execute_reply": "2023-08-19T23:38:55.021938Z"
    },
    "papermill": {
     "duration": 0.010202,
     "end_time": "2023-08-19T23:38:55.024545",
     "exception": false,
     "start_time": "2023-08-19T23:38:55.014343",
     "status": "completed"
    },
    "tags": []
   },
   "outputs": [],
   "source": [
    "latest_date = pd.Timestamp.today().ceil('D')"
   ]
  },
  {
   "cell_type": "code",
   "execution_count": 3,
   "id": "b48e2ca5",
   "metadata": {
    "execution": {
     "iopub.execute_input": "2023-08-19T23:38:55.030821Z",
     "iopub.status.busy": "2023-08-19T23:38:55.030203Z",
     "iopub.status.idle": "2023-08-19T23:38:55.048698Z",
     "shell.execute_reply": "2023-08-19T23:38:55.047995Z"
    },
    "papermill": {
     "duration": 0.023716,
     "end_time": "2023-08-19T23:38:55.050624",
     "exception": false,
     "start_time": "2023-08-19T23:38:55.026908",
     "status": "completed"
    },
    "tags": []
   },
   "outputs": [],
   "source": [
    "tickets = pd.read_csv('../../../../data/metrics/events/tickets/orders.csv', parse_dates=['created_at', 'event_date'])\n",
    "tickets = tickets[tickets.event_date <= latest_date]"
   ]
  },
  {
   "cell_type": "code",
   "execution_count": 4,
   "id": "6097acfc",
   "metadata": {
    "execution": {
     "iopub.execute_input": "2023-08-19T23:38:55.057615Z",
     "iopub.status.busy": "2023-08-19T23:38:55.056799Z",
     "iopub.status.idle": "2023-08-19T23:38:55.266873Z",
     "shell.execute_reply": "2023-08-19T23:38:55.265873Z"
    },
    "papermill": {
     "duration": 0.217024,
     "end_time": "2023-08-19T23:38:55.270009",
     "exception": false,
     "start_time": "2023-08-19T23:38:55.052985",
     "status": "completed"
    },
    "tags": []
   },
   "outputs": [],
   "source": [
    "events = load_event_data()\n",
    "\n",
    "events = pd.concat([\n",
    "  events,\n",
    "  events.pipe(get_first_ward).pipe(normalise_ward).fillna('UNKNOWN'),\n",
    "  pd.Series(\n",
    "      events.actual_audience_size_number_of_participants_in_person + events.actual_audience_size_number_of_participants_online,\n",
    "      name='attendances'\n",
    "  )\n",
    "], axis=1).rename(columns={\n",
    "    'start_date': 'date'\n",
    "}).loc[:, ['ward_code', 'date', 'event_unique_identifier', 'attendances']]"
   ]
  },
  {
   "cell_type": "code",
   "execution_count": 5,
   "id": "82a06194",
   "metadata": {
    "execution": {
     "iopub.execute_input": "2023-08-19T23:38:55.279121Z",
     "iopub.status.busy": "2023-08-19T23:38:55.278436Z",
     "iopub.status.idle": "2023-08-19T23:38:55.282330Z",
     "shell.execute_reply": "2023-08-19T23:38:55.281605Z"
    },
    "papermill": {
     "duration": 0.009858,
     "end_time": "2023-08-19T23:38:55.284227",
     "exception": false,
     "start_time": "2023-08-19T23:38:55.274369",
     "status": "completed"
    },
    "tags": []
   },
   "outputs": [],
   "source": [
    "OUTPUT_DIR='../../../../docs/metrics/events/signature/_data/'\n",
    "os.makedirs(OUTPUT_DIR, exist_ok=True)"
   ]
  },
  {
   "cell_type": "markdown",
   "id": "7a048ae2",
   "metadata": {
    "papermill": {
     "duration": 0.002532,
     "end_time": "2023-08-19T23:38:55.289233",
     "exception": false,
     "start_time": "2023-08-19T23:38:55.286701",
     "status": "completed"
    },
    "tags": []
   },
   "source": [
    "Events CSVs"
   ]
  },
  {
   "cell_type": "code",
   "execution_count": 6,
   "id": "a0f854ac",
   "metadata": {
    "execution": {
     "iopub.execute_input": "2023-08-19T23:38:55.295599Z",
     "iopub.status.busy": "2023-08-19T23:38:55.294988Z",
     "iopub.status.idle": "2023-08-19T23:38:55.303997Z",
     "shell.execute_reply": "2023-08-19T23:38:55.303325Z"
    },
    "papermill": {
     "duration": 0.014066,
     "end_time": "2023-08-19T23:38:55.305727",
     "exception": false,
     "start_time": "2023-08-19T23:38:55.291661",
     "status": "completed"
    },
    "tags": []
   },
   "outputs": [],
   "source": [
    "pd.DataFrame({\n",
    "  'events': events.groupby('ward_code').event_unique_identifier.count(),\n",
    "  'attendances': events.groupby('ward_code').attendances.sum().astype(int),\n",
    "}).to_csv(os.path.join(OUTPUT_DIR, 'events_by_ward.csv'))\n"
   ]
  },
  {
   "cell_type": "code",
   "execution_count": 7,
   "id": "e1e247ef",
   "metadata": {
    "execution": {
     "iopub.execute_input": "2023-08-19T23:38:55.312092Z",
     "iopub.status.busy": "2023-08-19T23:38:55.311481Z",
     "iopub.status.idle": "2023-08-19T23:38:55.324090Z",
     "shell.execute_reply": "2023-08-19T23:38:55.323415Z"
    },
    "papermill": {
     "duration": 0.017758,
     "end_time": "2023-08-19T23:38:55.325927",
     "exception": false,
     "start_time": "2023-08-19T23:38:55.308169",
     "status": "completed"
    },
    "tags": []
   },
   "outputs": [],
   "source": [
    "pd.DataFrame({\n",
    "  'events': events.groupby('date').event_unique_identifier.count(),\n",
    "  'attendances': events.groupby('date').attendances.sum().astype(int),\n",
    "}).resample('M').sum().astype(int).to_csv(os.path.join(OUTPUT_DIR, 'events_by_date.csv'))"
   ]
  },
  {
   "cell_type": "markdown",
   "id": "5ab4b8ec",
   "metadata": {
    "papermill": {
     "duration": 0.002539,
     "end_time": "2023-08-19T23:38:55.330941",
     "exception": false,
     "start_time": "2023-08-19T23:38:55.328402",
     "status": "completed"
    },
    "tags": []
   },
   "source": [
    "Tickets CSV"
   ]
  },
  {
   "cell_type": "code",
   "execution_count": 8,
   "id": "31496b44",
   "metadata": {
    "execution": {
     "iopub.execute_input": "2023-08-19T23:38:55.337328Z",
     "iopub.status.busy": "2023-08-19T23:38:55.336838Z",
     "iopub.status.idle": "2023-08-19T23:38:55.344464Z",
     "shell.execute_reply": "2023-08-19T23:38:55.343786Z"
    },
    "papermill": {
     "duration": 0.012805,
     "end_time": "2023-08-19T23:38:55.346254",
     "exception": false,
     "start_time": "2023-08-19T23:38:55.333449",
     "status": "completed"
    },
    "tags": []
   },
   "outputs": [],
   "source": [
    "pd.DataFrame({\n",
    "  'orders': tickets.groupby('ward_code').number_of_tickets.count(),\n",
    "  'tickets': tickets.groupby('ward_code').number_of_tickets.sum().astype(int),\n",
    "}).to_csv(os.path.join(OUTPUT_DIR, 'tickets_by_ward.csv'))"
   ]
  },
  {
   "cell_type": "code",
   "execution_count": 9,
   "id": "bbff2657",
   "metadata": {
    "execution": {
     "iopub.execute_input": "2023-08-19T23:38:55.352760Z",
     "iopub.status.busy": "2023-08-19T23:38:55.352295Z",
     "iopub.status.idle": "2023-08-19T23:38:55.360858Z",
     "shell.execute_reply": "2023-08-19T23:38:55.360233Z"
    },
    "papermill": {
     "duration": 0.01379,
     "end_time": "2023-08-19T23:38:55.362540",
     "exception": false,
     "start_time": "2023-08-19T23:38:55.348750",
     "status": "completed"
    },
    "tags": []
   },
   "outputs": [],
   "source": [
    "pd.DataFrame({\n",
    "  'orders': tickets.groupby('event_date').number_of_tickets.count(),\n",
    "  'tickets': tickets.groupby('event_date').number_of_tickets.sum().astype(int),\n",
    "}).resample('M').sum().to_csv(os.path.join(OUTPUT_DIR, 'tickets_by_event_date.csv'))"
   ]
  },
  {
   "cell_type": "code",
   "execution_count": 10,
   "id": "81362b8b",
   "metadata": {
    "execution": {
     "iopub.execute_input": "2023-08-19T23:38:55.369965Z",
     "iopub.status.busy": "2023-08-19T23:38:55.369495Z",
     "iopub.status.idle": "2023-08-19T23:38:55.375159Z",
     "shell.execute_reply": "2023-08-19T23:38:55.374413Z"
    },
    "papermill": {
     "duration": 0.011792,
     "end_time": "2023-08-19T23:38:55.376848",
     "exception": false,
     "start_time": "2023-08-19T23:38:55.365056",
     "status": "completed"
    },
    "tags": []
   },
   "outputs": [],
   "source": [
    "pd.Series({\n",
    "    'total_events': events.event_unique_identifier.count(),\n",
    "    'total_attendances': events.attendances.count(),\n",
    "    'first_event': events.date.min(),\n",
    "    'latest_event': events.date.max(),\n",
    "    'total_ticket_orders_for_events_to_date': tickets.number_of_tickets.count(),\n",
    "    'total_tickets_sold_for_events_to_date': tickets.number_of_tickets.sum(),\n",
    "}).to_json(os.path.join(OUTPUT_DIR, 'headlines.json'), indent=2)"
   ]
  },
  {
   "cell_type": "code",
   "execution_count": null,
   "id": "9f18df7c",
   "metadata": {
    "papermill": {
     "duration": 0.002558,
     "end_time": "2023-08-19T23:38:55.382145",
     "exception": false,
     "start_time": "2023-08-19T23:38:55.379587",
     "status": "completed"
    },
    "tags": []
   },
   "outputs": [],
   "source": []
  }
 ],
 "metadata": {
  "kernelspec": {
   "display_name": "leeds-2023-YZF5GfJv",
   "language": "python",
   "name": "python3"
  },
  "language_info": {
   "codemirror_mode": {
    "name": "ipython",
    "version": 3
   },
   "file_extension": ".py",
   "mimetype": "text/x-python",
   "name": "python",
   "nbconvert_exporter": "python",
   "pygments_lexer": "ipython3",
   "version": "3.10.12"
  },
  "papermill": {
   "default_parameters": {},
   "duration": 13.763127,
   "end_time": "2023-08-19T23:38:55.702951",
   "environment_variables": {},
   "exception": null,
   "input_path": "prepare.ipynb",
   "output_path": "../../../../working/output/signature-prepare.ipynb",
   "parameters": {},
   "start_time": "2023-08-19T23:38:41.939824",
   "version": "2.4.0"
  }
 },
 "nbformat": 4,
 "nbformat_minor": 5
}