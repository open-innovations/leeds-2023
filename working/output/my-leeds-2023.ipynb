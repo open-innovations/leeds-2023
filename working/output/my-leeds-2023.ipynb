{
 "cells": [
  {
   "cell_type": "markdown",
   "id": "2783cb44",
   "metadata": {
    "papermill": {
     "duration": 0.005329,
     "end_time": "2023-07-13T10:34:32.562076",
     "exception": false,
     "start_time": "2023-07-13T10:34:32.556747",
     "status": "completed"
    },
    "tags": []
   },
   "source": [
    "# My LEEDS 2023\n",
    "\n",
    "Prepares data for the My LEEDS 2023 page "
   ]
  },
  {
   "cell_type": "code",
   "execution_count": 1,
   "id": "715ece9c",
   "metadata": {
    "execution": {
     "iopub.execute_input": "2023-07-13T10:34:32.564977Z",
     "iopub.status.busy": "2023-07-13T10:34:32.564812Z",
     "iopub.status.idle": "2023-07-13T10:34:32.731403Z",
     "shell.execute_reply": "2023-07-13T10:34:32.730957Z"
    },
    "papermill": {
     "duration": 0.169299,
     "end_time": "2023-07-13T10:34:32.732477",
     "exception": false,
     "start_time": "2023-07-13T10:34:32.563178",
     "status": "completed"
    },
    "tags": []
   },
   "outputs": [],
   "source": [
    "from events import (\n",
    "    load_event_data, filter_by_project, prepare, save_files, count_wards\n",
    ")"
   ]
  },
  {
   "cell_type": "markdown",
   "id": "0b93289e",
   "metadata": {
    "papermill": {
     "duration": 0.001013,
     "end_time": "2023-07-13T10:34:32.734604",
     "exception": false,
     "start_time": "2023-07-13T10:34:32.733591",
     "status": "completed"
    },
    "tags": []
   },
   "source": [
    "Set output directory"
   ]
  },
  {
   "cell_type": "code",
   "execution_count": 2,
   "id": "81d024b9",
   "metadata": {
    "execution": {
     "iopub.execute_input": "2023-07-13T10:34:32.737216Z",
     "iopub.status.busy": "2023-07-13T10:34:32.737068Z",
     "iopub.status.idle": "2023-07-13T10:34:32.739137Z",
     "shell.execute_reply": "2023-07-13T10:34:32.738836Z"
    },
    "papermill": {
     "duration": 0.004131,
     "end_time": "2023-07-13T10:34:32.739834",
     "exception": false,
     "start_time": "2023-07-13T10:34:32.735703",
     "status": "completed"
    },
    "tags": []
   },
   "outputs": [],
   "source": [
    "OUT_DIR = '../../../../docs/metrics/events/my-leeds-2023/_data/events'"
   ]
  },
  {
   "cell_type": "markdown",
   "id": "6e55cb3a",
   "metadata": {
    "papermill": {
     "duration": 0.000881,
     "end_time": "2023-07-13T10:34:32.741661",
     "exception": false,
     "start_time": "2023-07-13T10:34:32.740780",
     "status": "completed"
    },
    "tags": []
   },
   "source": [
    "Read in event data and filter by **My LEEDS 2023** project"
   ]
  },
  {
   "cell_type": "code",
   "execution_count": 3,
   "id": "07b1854c",
   "metadata": {
    "execution": {
     "iopub.execute_input": "2023-07-13T10:34:32.743977Z",
     "iopub.status.busy": "2023-07-13T10:34:32.743811Z",
     "iopub.status.idle": "2023-07-13T10:34:32.751861Z",
     "shell.execute_reply": "2023-07-13T10:34:32.751566Z"
    },
    "papermill": {
     "duration": 0.010059,
     "end_time": "2023-07-13T10:34:32.752619",
     "exception": false,
     "start_time": "2023-07-13T10:34:32.742560",
     "status": "completed"
    },
    "tags": []
   },
   "outputs": [],
   "source": [
    "data = load_event_data().pipe(filter_by_project, '12 - My LEEDS 2023')"
   ]
  },
  {
   "cell_type": "markdown",
   "id": "de38af6a",
   "metadata": {
    "papermill": {
     "duration": 0.000942,
     "end_time": "2023-07-13T10:34:32.754654",
     "exception": false,
     "start_time": "2023-07-13T10:34:32.753712",
     "status": "completed"
    },
    "tags": []
   },
   "source": [
    "Run the processing and save the files"
   ]
  },
  {
   "cell_type": "code",
   "execution_count": 4,
   "id": "29ec4f6e",
   "metadata": {
    "execution": {
     "iopub.execute_input": "2023-07-13T10:34:32.757088Z",
     "iopub.status.busy": "2023-07-13T10:34:32.756858Z",
     "iopub.status.idle": "2023-07-13T10:34:32.791872Z",
     "shell.execute_reply": "2023-07-13T10:34:32.791558Z"
    },
    "papermill": {
     "duration": 0.037097,
     "end_time": "2023-07-13T10:34:32.792676",
     "exception": false,
     "start_time": "2023-07-13T10:34:32.755579",
     "status": "completed"
    },
    "tags": []
   },
   "outputs": [],
   "source": [
    "data = data.pipe(prepare).pipe(save_files, OUT_DIR)"
   ]
  },
  {
   "cell_type": "markdown",
   "id": "a4a0871f",
   "metadata": {
    "papermill": {
     "duration": 0.000947,
     "end_time": "2023-07-13T10:34:32.794692",
     "exception": false,
     "start_time": "2023-07-13T10:34:32.793745",
     "status": "completed"
    },
    "tags": []
   },
   "source": [
    "Print a list of events which have no ward, or more than one"
   ]
  },
  {
   "cell_type": "code",
   "execution_count": 5,
   "id": "b840c2c4",
   "metadata": {
    "execution": {
     "iopub.execute_input": "2023-07-13T10:34:32.797144Z",
     "iopub.status.busy": "2023-07-13T10:34:32.796992Z",
     "iopub.status.idle": "2023-07-13T10:34:32.804135Z",
     "shell.execute_reply": "2023-07-13T10:34:32.803852Z"
    },
    "papermill": {
     "duration": 0.0092,
     "end_time": "2023-07-13T10:34:32.804866",
     "exception": false,
     "start_time": "2023-07-13T10:34:32.795666",
     "status": "completed"
    },
    "tags": []
   },
   "outputs": [
    {
     "data": {
      "text/html": [
       "<div>\n",
       "<style scoped>\n",
       "    .dataframe tbody tr th:only-of-type {\n",
       "        vertical-align: middle;\n",
       "    }\n",
       "\n",
       "    .dataframe tbody tr th {\n",
       "        vertical-align: top;\n",
       "    }\n",
       "\n",
       "    .dataframe thead th {\n",
       "        text-align: right;\n",
       "    }\n",
       "</style>\n",
       "<table border=\"1\" class=\"dataframe\">\n",
       "  <thead>\n",
       "    <tr style=\"text-align: right;\">\n",
       "      <th></th>\n",
       "      <th>airtable_id</th>\n",
       "      <th>event_name</th>\n",
       "      <th>start_date</th>\n",
       "      <th>ward_(from_venue)</th>\n",
       "    </tr>\n",
       "  </thead>\n",
       "  <tbody>\n",
       "    <tr>\n",
       "      <th>11</th>\n",
       "      <td>265</td>\n",
       "      <td>My Leeds Event Day 1 (Live Activation)</td>\n",
       "      <td>2023-07-08</td>\n",
       "      <td>NaN</td>\n",
       "    </tr>\n",
       "    <tr>\n",
       "      <th>507</th>\n",
       "      <td>656</td>\n",
       "      <td>The Gift: digital gift launch</td>\n",
       "      <td>2023-06-19</td>\n",
       "      <td>NaN</td>\n",
       "    </tr>\n",
       "    <tr>\n",
       "      <th>571</th>\n",
       "      <td>657</td>\n",
       "      <td>The Gift: Garments</td>\n",
       "      <td>2023-06-17</td>\n",
       "      <td>NaN</td>\n",
       "    </tr>\n",
       "    <tr>\n",
       "      <th>687</th>\n",
       "      <td>430</td>\n",
       "      <td>My LEEDS Summer: Alwoodley Festival of Sport a...</td>\n",
       "      <td>2023-07-09</td>\n",
       "      <td>['Alwoodley', 'Alwoodley', 'Alwoodley', 'Alwoo...</td>\n",
       "    </tr>\n",
       "  </tbody>\n",
       "</table>\n",
       "</div>"
      ],
      "text/plain": [
       "     airtable_id                                         event_name  \\\n",
       "11           265             My Leeds Event Day 1 (Live Activation)   \n",
       "507          656                     The Gift: digital gift launch    \n",
       "571          657                                 The Gift: Garments   \n",
       "687          430  My LEEDS Summer: Alwoodley Festival of Sport a...   \n",
       "\n",
       "    start_date                                  ward_(from_venue)  \n",
       "11  2023-07-08                                                NaN  \n",
       "507 2023-06-19                                                NaN  \n",
       "571 2023-06-17                                                NaN  \n",
       "687 2023-07-09  ['Alwoodley', 'Alwoodley', 'Alwoodley', 'Alwoo...  "
      ]
     },
     "execution_count": 5,
     "metadata": {},
     "output_type": "execute_result"
    }
   ],
   "source": [
    "data[data.pipe(count_wards) != 1][[\n",
    "    'airtable_id',\n",
    "    'event_name',\n",
    "    'start_date',\n",
    "    'ward_(from_venue)',\n",
    "]]"
   ]
  },
  {
   "cell_type": "markdown",
   "id": "4e277c2a",
   "metadata": {
    "papermill": {
     "duration": 0.001037,
     "end_time": "2023-07-13T10:34:32.807055",
     "exception": false,
     "start_time": "2023-07-13T10:34:32.806018",
     "status": "completed"
    },
    "tags": []
   },
   "source": [
    "Print a list of events with no audience recorded"
   ]
  },
  {
   "cell_type": "code",
   "execution_count": 6,
   "id": "c19c72df",
   "metadata": {
    "execution": {
     "iopub.execute_input": "2023-07-13T10:34:32.809782Z",
     "iopub.status.busy": "2023-07-13T10:34:32.809549Z",
     "iopub.status.idle": "2023-07-13T10:34:32.815276Z",
     "shell.execute_reply": "2023-07-13T10:34:32.815004Z"
    },
    "papermill": {
     "duration": 0.007838,
     "end_time": "2023-07-13T10:34:32.815932",
     "exception": false,
     "start_time": "2023-07-13T10:34:32.808094",
     "status": "completed"
    },
    "tags": []
   },
   "outputs": [
    {
     "data": {
      "text/html": [
       "<div>\n",
       "<style scoped>\n",
       "    .dataframe tbody tr th:only-of-type {\n",
       "        vertical-align: middle;\n",
       "    }\n",
       "\n",
       "    .dataframe tbody tr th {\n",
       "        vertical-align: top;\n",
       "    }\n",
       "\n",
       "    .dataframe thead th {\n",
       "        text-align: right;\n",
       "    }\n",
       "</style>\n",
       "<table border=\"1\" class=\"dataframe\">\n",
       "  <thead>\n",
       "    <tr style=\"text-align: right;\">\n",
       "      <th></th>\n",
       "      <th>airtable_id</th>\n",
       "      <th>event_name</th>\n",
       "      <th>start_date</th>\n",
       "      <th>audience_size</th>\n",
       "    </tr>\n",
       "  </thead>\n",
       "  <tbody>\n",
       "    <tr>\n",
       "      <th>11</th>\n",
       "      <td>265</td>\n",
       "      <td>My Leeds Event Day 1 (Live Activation)</td>\n",
       "      <td>2023-07-08</td>\n",
       "      <td>0.0</td>\n",
       "    </tr>\n",
       "    <tr>\n",
       "      <th>38</th>\n",
       "      <td>560</td>\n",
       "      <td>Pudsey Grant Info Session</td>\n",
       "      <td>2023-02-13</td>\n",
       "      <td>0.0</td>\n",
       "    </tr>\n",
       "    <tr>\n",
       "      <th>40</th>\n",
       "      <td>566</td>\n",
       "      <td>Weetwood Grant Info Session 2</td>\n",
       "      <td>2023-02-19</td>\n",
       "      <td>0.0</td>\n",
       "    </tr>\n",
       "    <tr>\n",
       "      <th>43</th>\n",
       "      <td>431</td>\n",
       "      <td>My LEEDS Summer: Harewood The BIG My Leeds Sum...</td>\n",
       "      <td>2023-07-09</td>\n",
       "      <td>0.0</td>\n",
       "    </tr>\n",
       "    <tr>\n",
       "      <th>50</th>\n",
       "      <td>559</td>\n",
       "      <td>Otley and Yeadon Grant Info Session 2</td>\n",
       "      <td>2023-02-21</td>\n",
       "      <td>0.0</td>\n",
       "    </tr>\n",
       "    <tr>\n",
       "      <th>71</th>\n",
       "      <td>565</td>\n",
       "      <td>Weetwood Grant Info Session 1</td>\n",
       "      <td>2023-02-15</td>\n",
       "      <td>0.0</td>\n",
       "    </tr>\n",
       "    <tr>\n",
       "      <th>74</th>\n",
       "      <td>428</td>\n",
       "      <td>My LEEDS Summer: Gipton &amp; Harehills</td>\n",
       "      <td>2023-07-08</td>\n",
       "      <td>0.0</td>\n",
       "    </tr>\n",
       "    <tr>\n",
       "      <th>91</th>\n",
       "      <td>432</td>\n",
       "      <td>My LEEDS Summer: Ardsley &amp; Robin Hood Celebrat...</td>\n",
       "      <td>2023-07-09</td>\n",
       "      <td>0.0</td>\n",
       "    </tr>\n",
       "    <tr>\n",
       "      <th>104</th>\n",
       "      <td>563</td>\n",
       "      <td>Roundhay Grant Info Session 2</td>\n",
       "      <td>2023-02-16</td>\n",
       "      <td>0.0</td>\n",
       "    </tr>\n",
       "    <tr>\n",
       "      <th>116</th>\n",
       "      <td>558</td>\n",
       "      <td>Otley and Yeadon Grant Info Session 1</td>\n",
       "      <td>2023-02-20</td>\n",
       "      <td>0.0</td>\n",
       "    </tr>\n",
       "    <tr>\n",
       "      <th>199</th>\n",
       "      <td>417</td>\n",
       "      <td>My LEEDS Summer: Moortown Picnic in the Park</td>\n",
       "      <td>2023-06-24</td>\n",
       "      <td>0.0</td>\n",
       "    </tr>\n",
       "    <tr>\n",
       "      <th>266</th>\n",
       "      <td>561</td>\n",
       "      <td>Rothwell Grant Info Session</td>\n",
       "      <td>2023-02-13</td>\n",
       "      <td>0.0</td>\n",
       "    </tr>\n",
       "    <tr>\n",
       "      <th>370</th>\n",
       "      <td>425</td>\n",
       "      <td>My LEEDS Summer: Guiseley and Rawdon Feast</td>\n",
       "      <td>2023-07-02</td>\n",
       "      <td>0.0</td>\n",
       "    </tr>\n",
       "    <tr>\n",
       "      <th>391</th>\n",
       "      <td>426</td>\n",
       "      <td>My LEEDS Summer: Otley &amp; Yeadon: Heritage Live</td>\n",
       "      <td>2023-07-06</td>\n",
       "      <td>0.0</td>\n",
       "    </tr>\n",
       "    <tr>\n",
       "      <th>507</th>\n",
       "      <td>656</td>\n",
       "      <td>The Gift: digital gift launch</td>\n",
       "      <td>2023-06-19</td>\n",
       "      <td>0.0</td>\n",
       "    </tr>\n",
       "    <tr>\n",
       "      <th>541</th>\n",
       "      <td>564</td>\n",
       "      <td>Temple Newsam Grant Info Session</td>\n",
       "      <td>2023-02-16</td>\n",
       "      <td>0.0</td>\n",
       "    </tr>\n",
       "    <tr>\n",
       "      <th>571</th>\n",
       "      <td>657</td>\n",
       "      <td>The Gift: Garments</td>\n",
       "      <td>2023-06-17</td>\n",
       "      <td>0.0</td>\n",
       "    </tr>\n",
       "    <tr>\n",
       "      <th>623</th>\n",
       "      <td>562</td>\n",
       "      <td>Roundhay Grant Info Session 1</td>\n",
       "      <td>2023-02-13</td>\n",
       "      <td>0.0</td>\n",
       "    </tr>\n",
       "    <tr>\n",
       "      <th>687</th>\n",
       "      <td>430</td>\n",
       "      <td>My LEEDS Summer: Alwoodley Festival of Sport a...</td>\n",
       "      <td>2023-07-09</td>\n",
       "      <td>0.0</td>\n",
       "    </tr>\n",
       "    <tr>\n",
       "      <th>772</th>\n",
       "      <td>568</td>\n",
       "      <td>Wetherby Grant Info Session 2</td>\n",
       "      <td>2023-02-21</td>\n",
       "      <td>0.0</td>\n",
       "    </tr>\n",
       "    <tr>\n",
       "      <th>821</th>\n",
       "      <td>567</td>\n",
       "      <td>Wetherby Grant Info Session 1</td>\n",
       "      <td>2023-02-14</td>\n",
       "      <td>0.0</td>\n",
       "    </tr>\n",
       "  </tbody>\n",
       "</table>\n",
       "</div>"
      ],
      "text/plain": [
       "     airtable_id                                         event_name  \\\n",
       "11           265             My Leeds Event Day 1 (Live Activation)   \n",
       "38           560                          Pudsey Grant Info Session   \n",
       "40           566                      Weetwood Grant Info Session 2   \n",
       "43           431  My LEEDS Summer: Harewood The BIG My Leeds Sum...   \n",
       "50           559              Otley and Yeadon Grant Info Session 2   \n",
       "71           565                      Weetwood Grant Info Session 1   \n",
       "74           428                My LEEDS Summer: Gipton & Harehills   \n",
       "91           432  My LEEDS Summer: Ardsley & Robin Hood Celebrat...   \n",
       "104          563                      Roundhay Grant Info Session 2   \n",
       "116          558              Otley and Yeadon Grant Info Session 1   \n",
       "199          417       My LEEDS Summer: Moortown Picnic in the Park   \n",
       "266          561                        Rothwell Grant Info Session   \n",
       "370          425         My LEEDS Summer: Guiseley and Rawdon Feast   \n",
       "391          426    My LEEDS Summer: Otley & Yeadon: Heritage Live    \n",
       "507          656                     The Gift: digital gift launch    \n",
       "541          564                   Temple Newsam Grant Info Session   \n",
       "571          657                                 The Gift: Garments   \n",
       "623          562                      Roundhay Grant Info Session 1   \n",
       "687          430  My LEEDS Summer: Alwoodley Festival of Sport a...   \n",
       "772          568                      Wetherby Grant Info Session 2   \n",
       "821          567                      Wetherby Grant Info Session 1   \n",
       "\n",
       "    start_date  audience_size  \n",
       "11  2023-07-08            0.0  \n",
       "38  2023-02-13            0.0  \n",
       "40  2023-02-19            0.0  \n",
       "43  2023-07-09            0.0  \n",
       "50  2023-02-21            0.0  \n",
       "71  2023-02-15            0.0  \n",
       "74  2023-07-08            0.0  \n",
       "91  2023-07-09            0.0  \n",
       "104 2023-02-16            0.0  \n",
       "116 2023-02-20            0.0  \n",
       "199 2023-06-24            0.0  \n",
       "266 2023-02-13            0.0  \n",
       "370 2023-07-02            0.0  \n",
       "391 2023-07-06            0.0  \n",
       "507 2023-06-19            0.0  \n",
       "541 2023-02-16            0.0  \n",
       "571 2023-06-17            0.0  \n",
       "623 2023-02-13            0.0  \n",
       "687 2023-07-09            0.0  \n",
       "772 2023-02-21            0.0  \n",
       "821 2023-02-14            0.0  "
      ]
     },
     "execution_count": 6,
     "metadata": {},
     "output_type": "execute_result"
    }
   ],
   "source": [
    "data[data.audience_size == 0][[\n",
    "    'airtable_id', 'event_name', 'start_date', 'audience_size'\n",
    "]]"
   ]
  }
 ],
 "metadata": {
  "kernelspec": {
   "display_name": "leeds-2023-YZF5GfJv",
   "language": "python",
   "name": "python3"
  },
  "language_info": {
   "codemirror_mode": {
    "name": "ipython",
    "version": 3
   },
   "file_extension": ".py",
   "mimetype": "text/x-python",
   "name": "python",
   "nbconvert_exporter": "python",
   "pygments_lexer": "ipython3",
   "version": "3.10.6"
  },
  "papermill": {
   "default_parameters": {},
   "duration": 1.188976,
   "end_time": "2023-07-13T10:34:33.034297",
   "environment_variables": {},
   "exception": null,
   "input_path": "my-leeds-2023.ipynb",
   "output_path": "../../../../working/output/my-leeds-2023.ipynb",
   "parameters": {},
   "start_time": "2023-07-13T10:34:31.845321",
   "version": "2.4.0"
  }
 },
 "nbformat": 4,
 "nbformat_minor": 5
}