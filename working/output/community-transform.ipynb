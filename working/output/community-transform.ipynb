{
 "cells": [
  {
   "cell_type": "code",
   "execution_count": 1,
   "id": "8cc8341d",
   "metadata": {
    "execution": {
     "iopub.execute_input": "2023-09-20T14:27:28.501093Z",
     "iopub.status.busy": "2023-09-20T14:27:28.500306Z",
     "iopub.status.idle": "2023-09-20T14:27:28.507935Z",
     "shell.execute_reply": "2023-09-20T14:27:28.507321Z"
    },
    "papermill": {
     "duration": 0.013014,
     "end_time": "2023-09-20T14:27:28.509497",
     "exception": false,
     "start_time": "2023-09-20T14:27:28.496483",
     "status": "completed"
    },
    "tags": []
   },
   "outputs": [],
   "source": [
    "import os\n",
    "import sys\n",
    "\n",
    "TOP_DIR=os.path.realpath(\"../../..\")\n",
    "if TOP_DIR not in sys.path: sys.path.append(TOP_DIR)"
   ]
  },
  {
   "cell_type": "code",
   "execution_count": 2,
   "id": "52eaa2da",
   "metadata": {
    "execution": {
     "iopub.execute_input": "2023-09-20T14:27:28.515609Z",
     "iopub.status.busy": "2023-09-20T14:27:28.514978Z",
     "iopub.status.idle": "2023-09-20T14:27:38.647788Z",
     "shell.execute_reply": "2023-09-20T14:27:38.647078Z"
    },
    "papermill": {
     "duration": 10.1376,
     "end_time": "2023-09-20T14:27:38.649542",
     "exception": false,
     "start_time": "2023-09-20T14:27:28.511942",
     "status": "completed"
    },
    "tags": []
   },
   "outputs": [],
   "source": [
    "import pandas as pd\n",
    "import numpy as np\n",
    "from lib.util.convert import standardise_columns, literal_converter\n",
    "from lib.util.geo import normalise_leeds_wards, ward_name_to_code"
   ]
  },
  {
   "cell_type": "code",
   "execution_count": 3,
   "id": "a004100d",
   "metadata": {
    "execution": {
     "iopub.execute_input": "2023-09-20T14:27:38.655988Z",
     "iopub.status.busy": "2023-09-20T14:27:38.655401Z",
     "iopub.status.idle": "2023-09-20T14:27:38.679890Z",
     "shell.execute_reply": "2023-09-20T14:27:38.679248Z"
    },
    "papermill": {
     "duration": 0.029399,
     "end_time": "2023-09-20T14:27:38.681462",
     "exception": false,
     "start_time": "2023-09-20T14:27:38.652063",
     "status": "completed"
    },
    "tags": []
   },
   "outputs": [],
   "source": [
    "data = pd.read_csv('../../../working/metrics/community/events.csv', parse_dates=['Start date'])\n",
    "data = data.rename(columns=standardise_columns)"
   ]
  },
  {
   "cell_type": "code",
   "execution_count": 4,
   "id": "b361b0b3",
   "metadata": {
    "execution": {
     "iopub.execute_input": "2023-09-20T14:27:38.687274Z",
     "iopub.status.busy": "2023-09-20T14:27:38.686808Z",
     "iopub.status.idle": "2023-09-20T14:27:38.697309Z",
     "shell.execute_reply": "2023-09-20T14:27:38.696427Z"
    },
    "papermill": {
     "duration": 0.015002,
     "end_time": "2023-09-20T14:27:38.698820",
     "exception": false,
     "start_time": "2023-09-20T14:27:38.683818",
     "status": "completed"
    },
    "tags": []
   },
   "outputs": [],
   "source": [
    "wards = data['ward_(from_venue)'].fillna('[]').pipe(literal_converter).apply(np.unique)"
   ]
  },
  {
   "cell_type": "code",
   "execution_count": 5,
   "id": "572da966",
   "metadata": {
    "execution": {
     "iopub.execute_input": "2023-09-20T14:27:38.704433Z",
     "iopub.status.busy": "2023-09-20T14:27:38.704201Z",
     "iopub.status.idle": "2023-09-20T14:27:39.106901Z",
     "shell.execute_reply": "2023-09-20T14:27:39.106237Z"
    },
    "papermill": {
     "duration": 0.407843,
     "end_time": "2023-09-20T14:27:39.108987",
     "exception": false,
     "start_time": "2023-09-20T14:27:38.701144",
     "status": "completed"
    },
    "tags": []
   },
   "outputs": [],
   "source": [
    "data['ward_name'] = wards.apply(lambda x: x[0] if len(x) > 0 else np.nan).pipe(normalise_leeds_wards)\n",
    "data['ward_code'] = data.ward_name.pipe(ward_name_to_code)\n",
    "data['audience'] = data.actual_audience_size_number_of_participants_in_person\n",
    "cleaned_data = data.loc[:, ['event_name', 'project_name', 'start_date', 'ward_name', 'ward_code', 'audience']]"
   ]
  },
  {
   "cell_type": "code",
   "execution_count": 6,
   "id": "ffe01abd",
   "metadata": {
    "execution": {
     "iopub.execute_input": "2023-09-20T14:27:39.115792Z",
     "iopub.status.busy": "2023-09-20T14:27:39.115060Z",
     "iopub.status.idle": "2023-09-20T14:27:39.121814Z",
     "shell.execute_reply": "2023-09-20T14:27:39.121211Z"
    },
    "papermill": {
     "duration": 0.011883,
     "end_time": "2023-09-20T14:27:39.123422",
     "exception": false,
     "start_time": "2023-09-20T14:27:39.111539",
     "status": "completed"
    },
    "tags": []
   },
   "outputs": [],
   "source": [
    "DATA_DIR='../../../data/metrics/community'\n",
    "os.makedirs(DATA_DIR, exist_ok=True)\n",
    "cleaned_data.to_csv(os.path.join(DATA_DIR, 'events.csv'), index=False)"
   ]
  },
  {
   "cell_type": "markdown",
   "id": "0d1e8b2e",
   "metadata": {
    "papermill": {
     "duration": 0.002221,
     "end_time": "2023-09-20T14:27:39.128009",
     "exception": false,
     "start_time": "2023-09-20T14:27:39.125788",
     "status": "completed"
    },
    "tags": []
   },
   "source": [
    "Missing or duplicated wards"
   ]
  },
  {
   "cell_type": "code",
   "execution_count": 7,
   "id": "a75b6779",
   "metadata": {
    "execution": {
     "iopub.execute_input": "2023-09-20T14:27:39.134115Z",
     "iopub.status.busy": "2023-09-20T14:27:39.133461Z",
     "iopub.status.idle": "2023-09-20T14:27:39.149966Z",
     "shell.execute_reply": "2023-09-20T14:27:39.149423Z"
    },
    "papermill": {
     "duration": 0.021289,
     "end_time": "2023-09-20T14:27:39.151535",
     "exception": false,
     "start_time": "2023-09-20T14:27:39.130246",
     "status": "completed"
    },
    "tags": []
   },
   "outputs": [
    {
     "data": {
      "text/html": [
       "<div>\n",
       "<style scoped>\n",
       "    .dataframe tbody tr th:only-of-type {\n",
       "        vertical-align: middle;\n",
       "    }\n",
       "\n",
       "    .dataframe tbody tr th {\n",
       "        vertical-align: top;\n",
       "    }\n",
       "\n",
       "    .dataframe thead th {\n",
       "        text-align: right;\n",
       "    }\n",
       "</style>\n",
       "<table border=\"1\" class=\"dataframe\">\n",
       "  <thead>\n",
       "    <tr style=\"text-align: right;\">\n",
       "      <th></th>\n",
       "      <th>project_name</th>\n",
       "      <th>event_name</th>\n",
       "      <th>start_date</th>\n",
       "      <th>ward_(from_venue)</th>\n",
       "    </tr>\n",
       "  </thead>\n",
       "  <tbody>\n",
       "    <tr>\n",
       "      <th>49</th>\n",
       "      <td>01 - The Awakening</td>\n",
       "      <td>Creation Station - Leeds City Council</td>\n",
       "      <td>2022-11-23</td>\n",
       "      <td>NaN</td>\n",
       "    </tr>\n",
       "    <tr>\n",
       "      <th>50</th>\n",
       "      <td>01 - The Awakening</td>\n",
       "      <td>Creation Station - Leeds City Council</td>\n",
       "      <td>2022-11-24</td>\n",
       "      <td>NaN</td>\n",
       "    </tr>\n",
       "    <tr>\n",
       "      <th>64</th>\n",
       "      <td>01 - The Awakening</td>\n",
       "      <td>Creation Station - Yorkshire Schools Dance Fes...</td>\n",
       "      <td>2022-11-19</td>\n",
       "      <td>NaN</td>\n",
       "    </tr>\n",
       "    <tr>\n",
       "      <th>66</th>\n",
       "      <td>01 - The Awakening</td>\n",
       "      <td>Creation Station: Ballot Engagement</td>\n",
       "      <td>NaT</td>\n",
       "      <td>NaN</td>\n",
       "    </tr>\n",
       "    <tr>\n",
       "      <th>68</th>\n",
       "      <td>01 - The Awakening</td>\n",
       "      <td>Leeds Arts University - Creation Station</td>\n",
       "      <td>NaT</td>\n",
       "      <td>NaN</td>\n",
       "    </tr>\n",
       "    <tr>\n",
       "      <th>...</th>\n",
       "      <td>...</td>\n",
       "      <td>...</td>\n",
       "      <td>...</td>\n",
       "      <td>...</td>\n",
       "    </tr>\n",
       "    <tr>\n",
       "      <th>292</th>\n",
       "      <td>Waking the Artist</td>\n",
       "      <td>Spring Gardens Pack</td>\n",
       "      <td>2023-03-23</td>\n",
       "      <td>NaN</td>\n",
       "    </tr>\n",
       "    <tr>\n",
       "      <th>293</th>\n",
       "      <td>Waking the Artist</td>\n",
       "      <td>The Den Headingley Pack</td>\n",
       "      <td>2023-02-13</td>\n",
       "      <td>NaN</td>\n",
       "    </tr>\n",
       "    <tr>\n",
       "      <th>294</th>\n",
       "      <td>Waking the Artist</td>\n",
       "      <td>Turning Lives Around Pack</td>\n",
       "      <td>2023-02-22</td>\n",
       "      <td>NaN</td>\n",
       "    </tr>\n",
       "    <tr>\n",
       "      <th>296</th>\n",
       "      <td>Waking the Artist</td>\n",
       "      <td>Wetherby Town Hall Pack</td>\n",
       "      <td>2023-02-25</td>\n",
       "      <td>NaN</td>\n",
       "    </tr>\n",
       "    <tr>\n",
       "      <th>297</th>\n",
       "      <td>Waking the Artist</td>\n",
       "      <td>Who Let The Dads Out Fulneck Moravian Church Pack</td>\n",
       "      <td>2023-02-22</td>\n",
       "      <td>NaN</td>\n",
       "    </tr>\n",
       "  </tbody>\n",
       "</table>\n",
       "<p>77 rows × 4 columns</p>\n",
       "</div>"
      ],
      "text/plain": [
       "           project_name                                         event_name  \\\n",
       "49   01 - The Awakening             Creation Station - Leeds City Council    \n",
       "50   01 - The Awakening             Creation Station - Leeds City Council    \n",
       "64   01 - The Awakening  Creation Station - Yorkshire Schools Dance Fes...   \n",
       "66   01 - The Awakening               Creation Station: Ballot Engagement    \n",
       "68   01 - The Awakening           Leeds Arts University - Creation Station   \n",
       "..                  ...                                                ...   \n",
       "292   Waking the Artist                                Spring Gardens Pack   \n",
       "293   Waking the Artist                            The Den Headingley Pack   \n",
       "294   Waking the Artist                          Turning Lives Around Pack   \n",
       "296   Waking the Artist                            Wetherby Town Hall Pack   \n",
       "297   Waking the Artist  Who Let The Dads Out Fulneck Moravian Church Pack   \n",
       "\n",
       "    start_date ward_(from_venue)  \n",
       "49  2022-11-23               NaN  \n",
       "50  2022-11-24               NaN  \n",
       "64  2022-11-19               NaN  \n",
       "66         NaT               NaN  \n",
       "68         NaT               NaN  \n",
       "..         ...               ...  \n",
       "292 2023-03-23               NaN  \n",
       "293 2023-02-13               NaN  \n",
       "294 2023-02-22               NaN  \n",
       "296 2023-02-25               NaN  \n",
       "297 2023-02-22               NaN  \n",
       "\n",
       "[77 rows x 4 columns]"
      ]
     },
     "execution_count": 7,
     "metadata": {},
     "output_type": "execute_result"
    }
   ],
   "source": [
    "data.loc[wards.apply(len) != 1, ['project_name', 'event_name', 'start_date', 'ward_(from_venue)']]"
   ]
  },
  {
   "cell_type": "markdown",
   "id": "e3c2894d",
   "metadata": {
    "papermill": {
     "duration": 0.002702,
     "end_time": "2023-09-20T14:27:39.156947",
     "exception": false,
     "start_time": "2023-09-20T14:27:39.154245",
     "status": "completed"
    },
    "tags": []
   },
   "source": [
    "Missing audience"
   ]
  },
  {
   "cell_type": "code",
   "execution_count": 8,
   "id": "ed1b67e9",
   "metadata": {
    "execution": {
     "iopub.execute_input": "2023-09-20T14:27:39.163899Z",
     "iopub.status.busy": "2023-09-20T14:27:39.163148Z",
     "iopub.status.idle": "2023-09-20T14:27:39.176559Z",
     "shell.execute_reply": "2023-09-20T14:27:39.175871Z"
    },
    "papermill": {
     "duration": 0.018495,
     "end_time": "2023-09-20T14:27:39.178082",
     "exception": false,
     "start_time": "2023-09-20T14:27:39.159587",
     "status": "completed"
    },
    "tags": []
   },
   "outputs": [
    {
     "data": {
      "text/html": [
       "<div>\n",
       "<style scoped>\n",
       "    .dataframe tbody tr th:only-of-type {\n",
       "        vertical-align: middle;\n",
       "    }\n",
       "\n",
       "    .dataframe tbody tr th {\n",
       "        vertical-align: top;\n",
       "    }\n",
       "\n",
       "    .dataframe thead th {\n",
       "        text-align: right;\n",
       "    }\n",
       "</style>\n",
       "<table border=\"1\" class=\"dataframe\">\n",
       "  <thead>\n",
       "    <tr style=\"text-align: right;\">\n",
       "      <th></th>\n",
       "      <th>project_name</th>\n",
       "      <th>event_name</th>\n",
       "      <th>start_date</th>\n",
       "      <th>audience</th>\n",
       "    </tr>\n",
       "  </thead>\n",
       "  <tbody>\n",
       "    <tr>\n",
       "      <th>0</th>\n",
       "      <td>01 - The Awakening</td>\n",
       "      <td>Ballot Facilitated Session - Carr Manor Commun...</td>\n",
       "      <td>2022-11-01</td>\n",
       "      <td>NaN</td>\n",
       "    </tr>\n",
       "    <tr>\n",
       "      <th>1</th>\n",
       "      <td>01 - The Awakening</td>\n",
       "      <td>Ballot Facilitated Session - Chapel Allerton P...</td>\n",
       "      <td>2022-11-07</td>\n",
       "      <td>NaN</td>\n",
       "    </tr>\n",
       "    <tr>\n",
       "      <th>2</th>\n",
       "      <td>01 - The Awakening</td>\n",
       "      <td>Ballot Facilitated Session - Cobden Primary Sc...</td>\n",
       "      <td>2022-11-09</td>\n",
       "      <td>NaN</td>\n",
       "    </tr>\n",
       "    <tr>\n",
       "      <th>3</th>\n",
       "      <td>01 - The Awakening</td>\n",
       "      <td>Ballot Facilitated Session - Cobden Primary Sc...</td>\n",
       "      <td>2022-11-10</td>\n",
       "      <td>NaN</td>\n",
       "    </tr>\n",
       "    <tr>\n",
       "      <th>4</th>\n",
       "      <td>01 - The Awakening</td>\n",
       "      <td>Ballot Facilitated Session - Cobden Primary Sc...</td>\n",
       "      <td>2022-11-18</td>\n",
       "      <td>NaN</td>\n",
       "    </tr>\n",
       "    <tr>\n",
       "      <th>...</th>\n",
       "      <td>...</td>\n",
       "      <td>...</td>\n",
       "      <td>...</td>\n",
       "      <td>...</td>\n",
       "    </tr>\n",
       "    <tr>\n",
       "      <th>256</th>\n",
       "      <td>Hidden Stories</td>\n",
       "      <td>Try Your Hand at Stone Carving</td>\n",
       "      <td>2023-09-09</td>\n",
       "      <td>NaN</td>\n",
       "    </tr>\n",
       "    <tr>\n",
       "      <th>257</th>\n",
       "      <td>Hidden Stories</td>\n",
       "      <td>Try Your Hand at Stone Carving</td>\n",
       "      <td>2023-09-10</td>\n",
       "      <td>NaN</td>\n",
       "    </tr>\n",
       "    <tr>\n",
       "      <th>258</th>\n",
       "      <td>Hidden Stories</td>\n",
       "      <td>Try Your Hand at Stone Carving</td>\n",
       "      <td>2023-09-16</td>\n",
       "      <td>NaN</td>\n",
       "    </tr>\n",
       "    <tr>\n",
       "      <th>259</th>\n",
       "      <td>Leeds International African Arts Festival</td>\n",
       "      <td>African and Caribbean Enterprise</td>\n",
       "      <td>2023-07-08</td>\n",
       "      <td>NaN</td>\n",
       "    </tr>\n",
       "    <tr>\n",
       "      <th>260</th>\n",
       "      <td>Leeds International African Arts Festival</td>\n",
       "      <td>Step into Africa</td>\n",
       "      <td>2023-07-09</td>\n",
       "      <td>NaN</td>\n",
       "    </tr>\n",
       "  </tbody>\n",
       "</table>\n",
       "<p>179 rows × 4 columns</p>\n",
       "</div>"
      ],
      "text/plain": [
       "                                   project_name  \\\n",
       "0                            01 - The Awakening   \n",
       "1                            01 - The Awakening   \n",
       "2                            01 - The Awakening   \n",
       "3                            01 - The Awakening   \n",
       "4                            01 - The Awakening   \n",
       "..                                          ...   \n",
       "256                              Hidden Stories   \n",
       "257                              Hidden Stories   \n",
       "258                              Hidden Stories   \n",
       "259  Leeds International African Arts Festival    \n",
       "260  Leeds International African Arts Festival    \n",
       "\n",
       "                                            event_name start_date  audience  \n",
       "0    Ballot Facilitated Session - Carr Manor Commun... 2022-11-01       NaN  \n",
       "1    Ballot Facilitated Session - Chapel Allerton P... 2022-11-07       NaN  \n",
       "2    Ballot Facilitated Session - Cobden Primary Sc... 2022-11-09       NaN  \n",
       "3    Ballot Facilitated Session - Cobden Primary Sc... 2022-11-10       NaN  \n",
       "4    Ballot Facilitated Session - Cobden Primary Sc... 2022-11-18       NaN  \n",
       "..                                                 ...        ...       ...  \n",
       "256                     Try Your Hand at Stone Carving 2023-09-09       NaN  \n",
       "257                     Try Your Hand at Stone Carving 2023-09-10       NaN  \n",
       "258                     Try Your Hand at Stone Carving 2023-09-16       NaN  \n",
       "259                  African and Caribbean Enterprise  2023-07-08       NaN  \n",
       "260                                   Step into Africa 2023-07-09       NaN  \n",
       "\n",
       "[179 rows x 4 columns]"
      ]
     },
     "execution_count": 8,
     "metadata": {},
     "output_type": "execute_result"
    }
   ],
   "source": [
    "data.loc[data.audience.isna(), ['project_name', 'event_name', 'start_date', 'audience']]"
   ]
  },
  {
   "cell_type": "code",
   "execution_count": null,
   "id": "73b580e1",
   "metadata": {
    "papermill": {
     "duration": 0.002778,
     "end_time": "2023-09-20T14:27:39.183766",
     "exception": false,
     "start_time": "2023-09-20T14:27:39.180988",
     "status": "completed"
    },
    "tags": []
   },
   "outputs": [],
   "source": []
  },
  {
   "cell_type": "code",
   "execution_count": null,
   "id": "99ba01d7",
   "metadata": {
    "papermill": {
     "duration": 0.003583,
     "end_time": "2023-09-20T14:27:39.190131",
     "exception": false,
     "start_time": "2023-09-20T14:27:39.186548",
     "status": "completed"
    },
    "tags": []
   },
   "outputs": [],
   "source": []
  }
 ],
 "metadata": {
  "kernelspec": {
   "display_name": "leeds-2023-YZF5GfJv",
   "language": "python",
   "name": "python3"
  },
  "language_info": {
   "codemirror_mode": {
    "name": "ipython",
    "version": 3
   },
   "file_extension": ".py",
   "mimetype": "text/x-python",
   "name": "python",
   "nbconvert_exporter": "python",
   "pygments_lexer": "ipython3",
   "version": "3.10.13"
  },
  "papermill": {
   "default_parameters": {},
   "duration": 12.377479,
   "end_time": "2023-09-20T14:27:39.510130",
   "environment_variables": {},
   "exception": null,
   "input_path": "transform.ipynb",
   "output_path": "../../../working/output/community-transform.ipynb",
   "parameters": {},
   "start_time": "2023-09-20T14:27:27.132651",
   "version": "2.4.0"
  }
 },
 "nbformat": 4,
 "nbformat_minor": 5
}