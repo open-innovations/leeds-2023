{
 "cells": [
  {
   "cell_type": "code",
   "execution_count": 1,
   "id": "10f735cb",
   "metadata": {
    "execution": {
     "iopub.execute_input": "2023-07-13T23:39:14.522950Z",
     "iopub.status.busy": "2023-07-13T23:39:14.522265Z",
     "iopub.status.idle": "2023-07-13T23:39:14.764968Z",
     "shell.execute_reply": "2023-07-13T23:39:14.763607Z"
    },
    "papermill": {
     "duration": 0.24788,
     "end_time": "2023-07-13T23:39:14.766787",
     "exception": false,
     "start_time": "2023-07-13T23:39:14.518907",
     "status": "completed"
    },
    "tags": []
   },
   "outputs": [],
   "source": [
    "import os\n",
    "import pandas as pd"
   ]
  },
  {
   "cell_type": "code",
   "execution_count": 2,
   "id": "c58522f7",
   "metadata": {
    "execution": {
     "iopub.execute_input": "2023-07-13T23:39:14.771278Z",
     "iopub.status.busy": "2023-07-13T23:39:14.770725Z",
     "iopub.status.idle": "2023-07-13T23:39:14.774178Z",
     "shell.execute_reply": "2023-07-13T23:39:14.773572Z"
    },
    "papermill": {
     "duration": 0.00744,
     "end_time": "2023-07-13T23:39:14.775799",
     "exception": false,
     "start_time": "2023-07-13T23:39:14.768359",
     "status": "completed"
    },
    "tags": []
   },
   "outputs": [],
   "source": [
    "EVENTS_RAW_DATA = '../../../working/metrics/promote-events/events.csv'\n",
    "DATA_DIR = '../../../data/metrics/events/promote-events/'\n",
    "EVENTS_DATA = os.path.join(DATA_DIR, 'events.csv')"
   ]
  },
  {
   "cell_type": "code",
   "execution_count": 3,
   "id": "5bebabac",
   "metadata": {
    "execution": {
     "iopub.execute_input": "2023-07-13T23:39:14.779229Z",
     "iopub.status.busy": "2023-07-13T23:39:14.778822Z",
     "iopub.status.idle": "2023-07-13T23:39:14.782060Z",
     "shell.execute_reply": "2023-07-13T23:39:14.781451Z"
    },
    "papermill": {
     "duration": 0.006706,
     "end_time": "2023-07-13T23:39:14.783653",
     "exception": false,
     "start_time": "2023-07-13T23:39:14.776947",
     "status": "completed"
    },
    "tags": []
   },
   "outputs": [],
   "source": [
    "columns = {\n",
    "    'id': 'id',\n",
    "    'name': 'name',\n",
    "    'locationName': 'location',\n",
    "    'cardPrice': 'card_price',\n",
    "    'timeslots': 'time',\n",
    "    'displayOnWebsite': 'display',\n",
    "    'Stage': 'stage',\n",
    "}"
   ]
  },
  {
   "cell_type": "code",
   "execution_count": 4,
   "id": "1d246f40",
   "metadata": {
    "execution": {
     "iopub.execute_input": "2023-07-13T23:39:14.786930Z",
     "iopub.status.busy": "2023-07-13T23:39:14.786604Z",
     "iopub.status.idle": "2023-07-13T23:39:14.798166Z",
     "shell.execute_reply": "2023-07-13T23:39:14.797502Z"
    },
    "papermill": {
     "duration": 0.01486,
     "end_time": "2023-07-13T23:39:14.799673",
     "exception": false,
     "start_time": "2023-07-13T23:39:14.784813",
     "status": "completed"
    },
    "tags": []
   },
   "outputs": [],
   "source": [
    "data = pd.read_csv(EVENTS_RAW_DATA)[columns.keys()].rename(columns=columns)\n",
    "data.time = pd.to_datetime(data.time, errors='coerce')"
   ]
  },
  {
   "cell_type": "code",
   "execution_count": 5,
   "id": "45584a16",
   "metadata": {
    "execution": {
     "iopub.execute_input": "2023-07-13T23:39:14.803182Z",
     "iopub.status.busy": "2023-07-13T23:39:14.802796Z",
     "iopub.status.idle": "2023-07-13T23:39:14.810506Z",
     "shell.execute_reply": "2023-07-13T23:39:14.809940Z"
    },
    "papermill": {
     "duration": 0.011114,
     "end_time": "2023-07-13T23:39:14.812002",
     "exception": false,
     "start_time": "2023-07-13T23:39:14.800888",
     "status": "completed"
    },
    "tags": []
   },
   "outputs": [],
   "source": [
    "data.to_csv(os.path.join(DATA_DIR, 'events.csv'), index=False)"
   ]
  }
 ],
 "metadata": {
  "kernelspec": {
   "display_name": "leeds-2023-YZF5GfJv",
   "language": "python",
   "name": "python3"
  },
  "language_info": {
   "codemirror_mode": {
    "name": "ipython",
    "version": 3
   },
   "file_extension": ".py",
   "mimetype": "text/x-python",
   "name": "python",
   "nbconvert_exporter": "python",
   "pygments_lexer": "ipython3",
   "version": "3.10.6"
  },
  "papermill": {
   "default_parameters": {},
   "duration": 1.850271,
   "end_time": "2023-07-13T23:39:15.029569",
   "environment_variables": {},
   "exception": null,
   "input_path": "transform.ipynb",
   "output_path": "../../../working/output/promote-events-transform.ipynb",
   "parameters": {},
   "start_time": "2023-07-13T23:39:13.179298",
   "version": "2.4.0"
  }
 },
 "nbformat": 4,
 "nbformat_minor": 5
}