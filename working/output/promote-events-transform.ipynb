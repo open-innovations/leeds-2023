{
 "cells": [
  {
   "cell_type": "code",
   "execution_count": 1,
   "id": "25c1bc68",
   "metadata": {
    "execution": {
     "iopub.execute_input": "2023-08-07T23:39:52.845761Z",
     "iopub.status.busy": "2023-08-07T23:39:52.845439Z",
     "iopub.status.idle": "2023-08-07T23:39:53.121306Z",
     "shell.execute_reply": "2023-08-07T23:39:53.120290Z"
    },
    "papermill": {
     "duration": 0.28132,
     "end_time": "2023-08-07T23:39:53.123333",
     "exception": false,
     "start_time": "2023-08-07T23:39:52.842013",
     "status": "completed"
    },
    "tags": []
   },
   "outputs": [],
   "source": [
    "import os\n",
    "import pandas as pd"
   ]
  },
  {
   "cell_type": "code",
   "execution_count": 2,
   "id": "74356250",
   "metadata": {
    "execution": {
     "iopub.execute_input": "2023-08-07T23:39:53.127919Z",
     "iopub.status.busy": "2023-08-07T23:39:53.127599Z",
     "iopub.status.idle": "2023-08-07T23:39:53.131316Z",
     "shell.execute_reply": "2023-08-07T23:39:53.130504Z"
    },
    "papermill": {
     "duration": 0.008262,
     "end_time": "2023-08-07T23:39:53.133249",
     "exception": false,
     "start_time": "2023-08-07T23:39:53.124987",
     "status": "completed"
    },
    "tags": []
   },
   "outputs": [],
   "source": [
    "EVENTS_RAW_DATA = '../../../working/metrics/promote-events/events.csv'\n",
    "DATA_DIR = '../../../data/metrics/events/promote-events/'\n",
    "EVENTS_DATA = os.path.join(DATA_DIR, 'events.csv')"
   ]
  },
  {
   "cell_type": "code",
   "execution_count": 3,
   "id": "2d41e594",
   "metadata": {
    "execution": {
     "iopub.execute_input": "2023-08-07T23:39:53.137157Z",
     "iopub.status.busy": "2023-08-07T23:39:53.136691Z",
     "iopub.status.idle": "2023-08-07T23:39:53.140628Z",
     "shell.execute_reply": "2023-08-07T23:39:53.139760Z"
    },
    "papermill": {
     "duration": 0.007926,
     "end_time": "2023-08-07T23:39:53.142322",
     "exception": false,
     "start_time": "2023-08-07T23:39:53.134396",
     "status": "completed"
    },
    "tags": []
   },
   "outputs": [],
   "source": [
    "columns = {\n",
    "    'id': 'id',\n",
    "    'name': 'name',\n",
    "    'locationName': 'location',\n",
    "    'cardPrice': 'card_price',\n",
    "    'timeslots': 'time',\n",
    "    'displayOnWebsite': 'display',\n",
    "    'Stage': 'stage',\n",
    "}"
   ]
  },
  {
   "cell_type": "code",
   "execution_count": 4,
   "id": "fde049de",
   "metadata": {
    "execution": {
     "iopub.execute_input": "2023-08-07T23:39:53.146143Z",
     "iopub.status.busy": "2023-08-07T23:39:53.145597Z",
     "iopub.status.idle": "2023-08-07T23:39:53.159900Z",
     "shell.execute_reply": "2023-08-07T23:39:53.158960Z"
    },
    "papermill": {
     "duration": 0.018116,
     "end_time": "2023-08-07T23:39:53.161698",
     "exception": false,
     "start_time": "2023-08-07T23:39:53.143582",
     "status": "completed"
    },
    "tags": []
   },
   "outputs": [],
   "source": [
    "data = pd.read_csv(EVENTS_RAW_DATA)[columns.keys()].rename(columns=columns)\n",
    "data.time = pd.to_datetime(data.time, errors='coerce')"
   ]
  },
  {
   "cell_type": "code",
   "execution_count": 5,
   "id": "91f27eb5",
   "metadata": {
    "execution": {
     "iopub.execute_input": "2023-08-07T23:39:53.165566Z",
     "iopub.status.busy": "2023-08-07T23:39:53.165284Z",
     "iopub.status.idle": "2023-08-07T23:39:53.174402Z",
     "shell.execute_reply": "2023-08-07T23:39:53.173644Z"
    },
    "papermill": {
     "duration": 0.013296,
     "end_time": "2023-08-07T23:39:53.176208",
     "exception": false,
     "start_time": "2023-08-07T23:39:53.162912",
     "status": "completed"
    },
    "tags": []
   },
   "outputs": [],
   "source": [
    "data.to_csv(os.path.join(DATA_DIR, 'events.csv'), index=False)"
   ]
  }
 ],
 "metadata": {
  "kernelspec": {
   "display_name": "leeds-2023-YZF5GfJv",
   "language": "python",
   "name": "python3"
  },
  "language_info": {
   "codemirror_mode": {
    "name": "ipython",
    "version": 3
   },
   "file_extension": ".py",
   "mimetype": "text/x-python",
   "name": "python",
   "nbconvert_exporter": "python",
   "pygments_lexer": "ipython3",
   "version": "3.10.6"
  },
  "papermill": {
   "default_parameters": {},
   "duration": 1.892127,
   "end_time": "2023-08-07T23:39:53.394762",
   "environment_variables": {},
   "exception": null,
   "input_path": "transform.ipynb",
   "output_path": "../../../working/output/promote-events-transform.ipynb",
   "parameters": {},
   "start_time": "2023-08-07T23:39:51.502635",
   "version": "2.4.0"
  }
 },
 "nbformat": 4,
 "nbformat_minor": 5
}