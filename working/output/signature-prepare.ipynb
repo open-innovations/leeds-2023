{
 "cells": [
  {
   "cell_type": "code",
   "execution_count": 1,
   "id": "13bc918e",
   "metadata": {
    "execution": {
     "iopub.execute_input": "2023-11-20T23:40:50.455613Z",
     "iopub.status.busy": "2023-11-20T23:40:50.455162Z",
     "iopub.status.idle": "2023-11-20T23:40:57.741391Z",
     "shell.execute_reply": "2023-11-20T23:40:57.740686Z"
    },
    "papermill": {
     "duration": 7.291262,
     "end_time": "2023-11-20T23:40:57.743030",
     "exception": false,
     "start_time": "2023-11-20T23:40:50.451768",
     "status": "completed"
    },
    "tags": []
   },
   "outputs": [],
   "source": [
    "import os\n",
    "import pandas as pd\n",
    "from events import load_event_data, get_first_ward, normalise_ward"
   ]
  },
  {
   "cell_type": "code",
   "execution_count": 2,
   "id": "e77998ca",
   "metadata": {
    "execution": {
     "iopub.execute_input": "2023-11-20T23:40:57.748257Z",
     "iopub.status.busy": "2023-11-20T23:40:57.747853Z",
     "iopub.status.idle": "2023-11-20T23:40:57.751313Z",
     "shell.execute_reply": "2023-11-20T23:40:57.750739Z"
    },
    "papermill": {
     "duration": 0.007427,
     "end_time": "2023-11-20T23:40:57.752631",
     "exception": false,
     "start_time": "2023-11-20T23:40:57.745204",
     "status": "completed"
    },
    "tags": []
   },
   "outputs": [],
   "source": [
    "latest_date = pd.Timestamp.today().ceil('D')"
   ]
  },
  {
   "cell_type": "code",
   "execution_count": 3,
   "id": "6185f97b",
   "metadata": {
    "execution": {
     "iopub.execute_input": "2023-11-20T23:40:57.758591Z",
     "iopub.status.busy": "2023-11-20T23:40:57.758167Z",
     "iopub.status.idle": "2023-11-20T23:40:57.772607Z",
     "shell.execute_reply": "2023-11-20T23:40:57.772106Z"
    },
    "papermill": {
     "duration": 0.019432,
     "end_time": "2023-11-20T23:40:57.773901",
     "exception": false,
     "start_time": "2023-11-20T23:40:57.754469",
     "status": "completed"
    },
    "tags": []
   },
   "outputs": [],
   "source": [
    "tickets = pd.read_csv('../../../../data/metrics/events/tickets/orders.csv', parse_dates=['created_at', 'event_date'])\n",
    "tickets = tickets[tickets.event_date <= latest_date]"
   ]
  },
  {
   "cell_type": "code",
   "execution_count": 4,
   "id": "7a8c16e3",
   "metadata": {
    "execution": {
     "iopub.execute_input": "2023-11-20T23:40:57.778802Z",
     "iopub.status.busy": "2023-11-20T23:40:57.778320Z",
     "iopub.status.idle": "2023-11-20T23:40:57.824620Z",
     "shell.execute_reply": "2023-11-20T23:40:57.823958Z"
    },
    "papermill": {
     "duration": 0.050438,
     "end_time": "2023-11-20T23:40:57.826194",
     "exception": false,
     "start_time": "2023-11-20T23:40:57.775756",
     "status": "completed"
    },
    "tags": []
   },
   "outputs": [],
   "source": [
    "events = load_event_data()\n",
    "\n",
    "events = pd.concat([\n",
    "  events,\n",
    "  events.pipe(get_first_ward).pipe(normalise_ward).fillna('UNKNOWN'),\n",
    "  pd.Series(\n",
    "      events.actual_audience_size_number_of_participants_in_person + events.actual_audience_size_number_of_participants_online,\n",
    "      name='attendances'\n",
    "  )\n",
    "], axis=1).rename(columns={\n",
    "    'start_date': 'date'\n",
    "}).loc[:, ['ward_code', 'date', 'event_unique_identifier', 'attendances']]"
   ]
  },
  {
   "cell_type": "code",
   "execution_count": 5,
   "id": "d7b8cd3d",
   "metadata": {
    "execution": {
     "iopub.execute_input": "2023-11-20T23:40:57.831077Z",
     "iopub.status.busy": "2023-11-20T23:40:57.830689Z",
     "iopub.status.idle": "2023-11-20T23:40:57.833938Z",
     "shell.execute_reply": "2023-11-20T23:40:57.833291Z"
    },
    "papermill": {
     "duration": 0.007149,
     "end_time": "2023-11-20T23:40:57.835220",
     "exception": false,
     "start_time": "2023-11-20T23:40:57.828071",
     "status": "completed"
    },
    "tags": []
   },
   "outputs": [],
   "source": [
    "OUTPUT_DIR='../../../../docs/metrics/events/signature/_data/'\n",
    "os.makedirs(OUTPUT_DIR, exist_ok=True)"
   ]
  },
  {
   "cell_type": "markdown",
   "id": "6ab397da",
   "metadata": {
    "papermill": {
     "duration": 0.001968,
     "end_time": "2023-11-20T23:40:57.839071",
     "exception": false,
     "start_time": "2023-11-20T23:40:57.837103",
     "status": "completed"
    },
    "tags": []
   },
   "source": [
    "Events CSVs"
   ]
  },
  {
   "cell_type": "code",
   "execution_count": 6,
   "id": "e2324900",
   "metadata": {
    "execution": {
     "iopub.execute_input": "2023-11-20T23:40:57.843868Z",
     "iopub.status.busy": "2023-11-20T23:40:57.843393Z",
     "iopub.status.idle": "2023-11-20T23:40:57.849287Z",
     "shell.execute_reply": "2023-11-20T23:40:57.848800Z"
    },
    "papermill": {
     "duration": 0.009666,
     "end_time": "2023-11-20T23:40:57.850596",
     "exception": false,
     "start_time": "2023-11-20T23:40:57.840930",
     "status": "completed"
    },
    "tags": []
   },
   "outputs": [],
   "source": [
    "pd.DataFrame({\n",
    "  'events': events.groupby('ward_code').event_unique_identifier.count(),\n",
    "  'attendances': events.groupby('ward_code').attendances.sum().astype(int),\n",
    "}).to_csv(os.path.join(OUTPUT_DIR, 'events_by_ward.csv'))\n"
   ]
  },
  {
   "cell_type": "code",
   "execution_count": 7,
   "id": "24ed90f2",
   "metadata": {
    "execution": {
     "iopub.execute_input": "2023-11-20T23:40:57.855612Z",
     "iopub.status.busy": "2023-11-20T23:40:57.855265Z",
     "iopub.status.idle": "2023-11-20T23:40:57.862562Z",
     "shell.execute_reply": "2023-11-20T23:40:57.862049Z"
    },
    "papermill": {
     "duration": 0.011189,
     "end_time": "2023-11-20T23:40:57.863829",
     "exception": false,
     "start_time": "2023-11-20T23:40:57.852640",
     "status": "completed"
    },
    "tags": []
   },
   "outputs": [],
   "source": [
    "pd.DataFrame({\n",
    "  'events': events.groupby('date').event_unique_identifier.count(),\n",
    "  'attendances': events.groupby('date').attendances.sum().astype(int),\n",
    "}).resample('M').sum().astype(int).to_csv(os.path.join(OUTPUT_DIR, 'events_by_date.csv'))"
   ]
  },
  {
   "cell_type": "markdown",
   "id": "95a0fa63",
   "metadata": {
    "papermill": {
     "duration": 0.002652,
     "end_time": "2023-11-20T23:40:57.868460",
     "exception": false,
     "start_time": "2023-11-20T23:40:57.865808",
     "status": "completed"
    },
    "tags": []
   },
   "source": [
    "Tickets CSV"
   ]
  },
  {
   "cell_type": "code",
   "execution_count": 8,
   "id": "0738fe53",
   "metadata": {
    "execution": {
     "iopub.execute_input": "2023-11-20T23:40:57.873327Z",
     "iopub.status.busy": "2023-11-20T23:40:57.872981Z",
     "iopub.status.idle": "2023-11-20T23:40:57.878952Z",
     "shell.execute_reply": "2023-11-20T23:40:57.878474Z"
    },
    "papermill": {
     "duration": 0.00974,
     "end_time": "2023-11-20T23:40:57.880170",
     "exception": false,
     "start_time": "2023-11-20T23:40:57.870430",
     "status": "completed"
    },
    "tags": []
   },
   "outputs": [],
   "source": [
    "pd.DataFrame({\n",
    "  'orders': tickets.groupby('ward_code').number_of_tickets.count(),\n",
    "  'tickets': tickets.groupby('ward_code').number_of_tickets.sum().astype(int),\n",
    "}).to_csv(os.path.join(OUTPUT_DIR, 'tickets_by_ward.csv'))"
   ]
  },
  {
   "cell_type": "code",
   "execution_count": 9,
   "id": "daeac72a",
   "metadata": {
    "execution": {
     "iopub.execute_input": "2023-11-20T23:40:57.885303Z",
     "iopub.status.busy": "2023-11-20T23:40:57.884818Z",
     "iopub.status.idle": "2023-11-20T23:40:57.891691Z",
     "shell.execute_reply": "2023-11-20T23:40:57.891081Z"
    },
    "papermill": {
     "duration": 0.011037,
     "end_time": "2023-11-20T23:40:57.893198",
     "exception": false,
     "start_time": "2023-11-20T23:40:57.882161",
     "status": "completed"
    },
    "tags": []
   },
   "outputs": [],
   "source": [
    "pd.DataFrame({\n",
    "  'orders': tickets.groupby('event_date').number_of_tickets.count(),\n",
    "  'tickets': tickets.groupby('event_date').number_of_tickets.sum().astype(int),\n",
    "}).resample('M').sum().to_csv(os.path.join(OUTPUT_DIR, 'tickets_by_event_date.csv'))"
   ]
  },
  {
   "cell_type": "code",
   "execution_count": 10,
   "id": "601dd741",
   "metadata": {
    "execution": {
     "iopub.execute_input": "2023-11-20T23:40:57.898288Z",
     "iopub.status.busy": "2023-11-20T23:40:57.897944Z",
     "iopub.status.idle": "2023-11-20T23:40:57.902804Z",
     "shell.execute_reply": "2023-11-20T23:40:57.902289Z"
    },
    "papermill": {
     "duration": 0.008839,
     "end_time": "2023-11-20T23:40:57.904027",
     "exception": false,
     "start_time": "2023-11-20T23:40:57.895188",
     "status": "completed"
    },
    "tags": []
   },
   "outputs": [],
   "source": [
    "pd.Series({\n",
    "    'total_events': events.event_unique_identifier.count(),\n",
    "    'total_attendances': events.attendances.count(),\n",
    "    'first_event': events.date.min(),\n",
    "    'latest_event': events.date.max(),\n",
    "    'total_ticket_orders_for_events_to_date': tickets.number_of_tickets.count(),\n",
    "    'total_tickets_sold_for_events_to_date': tickets.number_of_tickets.sum(),\n",
    "}).to_json(os.path.join(OUTPUT_DIR, 'headlines.json'), indent=2)"
   ]
  },
  {
   "cell_type": "code",
   "execution_count": null,
   "id": "7225c10a",
   "metadata": {
    "papermill": {
     "duration": 0.001963,
     "end_time": "2023-11-20T23:40:57.908039",
     "exception": false,
     "start_time": "2023-11-20T23:40:57.906076",
     "status": "completed"
    },
    "tags": []
   },
   "outputs": [],
   "source": []
  }
 ],
 "metadata": {
  "kernelspec": {
   "display_name": "leeds-2023-YZF5GfJv",
   "language": "python",
   "name": "python3"
  },
  "language_info": {
   "codemirror_mode": {
    "name": "ipython",
    "version": 3
   },
   "file_extension": ".py",
   "mimetype": "text/x-python",
   "name": "python",
   "nbconvert_exporter": "python",
   "pygments_lexer": "ipython3",
   "version": "3.10.13"
  },
  "papermill": {
   "default_parameters": {},
   "duration": 8.843258,
   "end_time": "2023-11-20T23:40:58.126036",
   "environment_variables": {},
   "exception": null,
   "input_path": "prepare.ipynb",
   "output_path": "../../../../working/output/signature-prepare.ipynb",
   "parameters": {},
   "start_time": "2023-11-20T23:40:49.282778",
   "version": "2.4.0"
  }
 },
 "nbformat": 4,
 "nbformat_minor": 5
}