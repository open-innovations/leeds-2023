{
 "cells": [
  {
   "cell_type": "code",
   "execution_count": 1,
   "id": "c750388d",
   "metadata": {
    "execution": {
     "iopub.execute_input": "2023-07-23T23:38:53.830452Z",
     "iopub.status.busy": "2023-07-23T23:38:53.830170Z",
     "iopub.status.idle": "2023-07-23T23:38:54.066410Z",
     "shell.execute_reply": "2023-07-23T23:38:54.065755Z"
    },
    "papermill": {
     "duration": 0.241431,
     "end_time": "2023-07-23T23:38:54.068544",
     "exception": false,
     "start_time": "2023-07-23T23:38:53.827113",
     "status": "completed"
    },
    "tags": []
   },
   "outputs": [],
   "source": [
    "import os\n",
    "import pandas as pd"
   ]
  },
  {
   "cell_type": "code",
   "execution_count": 2,
   "id": "01959a78",
   "metadata": {
    "execution": {
     "iopub.execute_input": "2023-07-23T23:38:54.072952Z",
     "iopub.status.busy": "2023-07-23T23:38:54.072427Z",
     "iopub.status.idle": "2023-07-23T23:38:54.075882Z",
     "shell.execute_reply": "2023-07-23T23:38:54.075245Z"
    },
    "papermill": {
     "duration": 0.007417,
     "end_time": "2023-07-23T23:38:54.077525",
     "exception": false,
     "start_time": "2023-07-23T23:38:54.070108",
     "status": "completed"
    },
    "tags": []
   },
   "outputs": [],
   "source": [
    "EVENTS_RAW_DATA = '../../../working/metrics/promote-events/events.csv'\n",
    "DATA_DIR = '../../../data/metrics/events/promote-events/'\n",
    "EVENTS_DATA = os.path.join(DATA_DIR, 'events.csv')"
   ]
  },
  {
   "cell_type": "code",
   "execution_count": 3,
   "id": "3fcd72ed",
   "metadata": {
    "execution": {
     "iopub.execute_input": "2023-07-23T23:38:54.081132Z",
     "iopub.status.busy": "2023-07-23T23:38:54.080643Z",
     "iopub.status.idle": "2023-07-23T23:38:54.083962Z",
     "shell.execute_reply": "2023-07-23T23:38:54.083337Z"
    },
    "papermill": {
     "duration": 0.006871,
     "end_time": "2023-07-23T23:38:54.085547",
     "exception": false,
     "start_time": "2023-07-23T23:38:54.078676",
     "status": "completed"
    },
    "tags": []
   },
   "outputs": [],
   "source": [
    "columns = {\n",
    "    'id': 'id',\n",
    "    'name': 'name',\n",
    "    'locationName': 'location',\n",
    "    'cardPrice': 'card_price',\n",
    "    'timeslots': 'time',\n",
    "    'displayOnWebsite': 'display',\n",
    "    'Stage': 'stage',\n",
    "}"
   ]
  },
  {
   "cell_type": "code",
   "execution_count": 4,
   "id": "adbf95c6",
   "metadata": {
    "execution": {
     "iopub.execute_input": "2023-07-23T23:38:54.088995Z",
     "iopub.status.busy": "2023-07-23T23:38:54.088604Z",
     "iopub.status.idle": "2023-07-23T23:38:54.100160Z",
     "shell.execute_reply": "2023-07-23T23:38:54.099616Z"
    },
    "papermill": {
     "duration": 0.014886,
     "end_time": "2023-07-23T23:38:54.101587",
     "exception": false,
     "start_time": "2023-07-23T23:38:54.086701",
     "status": "completed"
    },
    "tags": []
   },
   "outputs": [],
   "source": [
    "data = pd.read_csv(EVENTS_RAW_DATA)[columns.keys()].rename(columns=columns)\n",
    "data.time = pd.to_datetime(data.time, errors='coerce')"
   ]
  },
  {
   "cell_type": "code",
   "execution_count": 5,
   "id": "0dc32511",
   "metadata": {
    "execution": {
     "iopub.execute_input": "2023-07-23T23:38:54.105158Z",
     "iopub.status.busy": "2023-07-23T23:38:54.104766Z",
     "iopub.status.idle": "2023-07-23T23:38:54.112639Z",
     "shell.execute_reply": "2023-07-23T23:38:54.112105Z"
    },
    "papermill": {
     "duration": 0.011321,
     "end_time": "2023-07-23T23:38:54.114103",
     "exception": false,
     "start_time": "2023-07-23T23:38:54.102782",
     "status": "completed"
    },
    "tags": []
   },
   "outputs": [],
   "source": [
    "data.to_csv(os.path.join(DATA_DIR, 'events.csv'), index=False)"
   ]
  }
 ],
 "metadata": {
  "kernelspec": {
   "display_name": "leeds-2023-YZF5GfJv",
   "language": "python",
   "name": "python3"
  },
  "language_info": {
   "codemirror_mode": {
    "name": "ipython",
    "version": 3
   },
   "file_extension": ".py",
   "mimetype": "text/x-python",
   "name": "python",
   "nbconvert_exporter": "python",
   "pygments_lexer": "ipython3",
   "version": "3.10.6"
  },
  "papermill": {
   "default_parameters": {},
   "duration": 1.831098,
   "end_time": "2023-07-23T23:38:54.331615",
   "environment_variables": {},
   "exception": null,
   "input_path": "transform.ipynb",
   "output_path": "../../../working/output/promote-events-transform.ipynb",
   "parameters": {},
   "start_time": "2023-07-23T23:38:52.500517",
   "version": "2.4.0"
  }
 },
 "nbformat": 4,
 "nbformat_minor": 5
}