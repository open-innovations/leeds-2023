{
 "cells": [
  {
   "cell_type": "code",
   "execution_count": 1,
   "id": "43d27e44",
   "metadata": {
    "execution": {
     "iopub.execute_input": "2023-11-23T23:40:16.614515Z",
     "iopub.status.busy": "2023-11-23T23:40:16.614318Z",
     "iopub.status.idle": "2023-11-23T23:40:23.726656Z",
     "shell.execute_reply": "2023-11-23T23:40:23.725956Z"
    },
    "papermill": {
     "duration": 7.11743,
     "end_time": "2023-11-23T23:40:23.728427",
     "exception": false,
     "start_time": "2023-11-23T23:40:16.610997",
     "status": "completed"
    },
    "tags": []
   },
   "outputs": [],
   "source": [
    "import os\n",
    "import pandas as pd\n",
    "from events import load_event_data, get_first_ward, normalise_ward"
   ]
  },
  {
   "cell_type": "code",
   "execution_count": 2,
   "id": "462c52ec",
   "metadata": {
    "execution": {
     "iopub.execute_input": "2023-11-23T23:40:23.733657Z",
     "iopub.status.busy": "2023-11-23T23:40:23.733402Z",
     "iopub.status.idle": "2023-11-23T23:40:23.737136Z",
     "shell.execute_reply": "2023-11-23T23:40:23.736489Z"
    },
    "papermill": {
     "duration": 0.007704,
     "end_time": "2023-11-23T23:40:23.738411",
     "exception": false,
     "start_time": "2023-11-23T23:40:23.730707",
     "status": "completed"
    },
    "tags": []
   },
   "outputs": [],
   "source": [
    "latest_date = pd.Timestamp.today().ceil('D')"
   ]
  },
  {
   "cell_type": "code",
   "execution_count": 3,
   "id": "30766750",
   "metadata": {
    "execution": {
     "iopub.execute_input": "2023-11-23T23:40:23.742873Z",
     "iopub.status.busy": "2023-11-23T23:40:23.742687Z",
     "iopub.status.idle": "2023-11-23T23:40:23.756955Z",
     "shell.execute_reply": "2023-11-23T23:40:23.756339Z"
    },
    "papermill": {
     "duration": 0.018185,
     "end_time": "2023-11-23T23:40:23.758407",
     "exception": false,
     "start_time": "2023-11-23T23:40:23.740222",
     "status": "completed"
    },
    "tags": []
   },
   "outputs": [],
   "source": [
    "tickets = pd.read_csv('../../../../data/metrics/events/tickets/orders.csv', parse_dates=['created_at', 'event_date'])\n",
    "tickets = tickets[tickets.event_date <= latest_date]"
   ]
  },
  {
   "cell_type": "code",
   "execution_count": 4,
   "id": "bccdac3c",
   "metadata": {
    "execution": {
     "iopub.execute_input": "2023-11-23T23:40:23.763200Z",
     "iopub.status.busy": "2023-11-23T23:40:23.762746Z",
     "iopub.status.idle": "2023-11-23T23:40:23.810641Z",
     "shell.execute_reply": "2023-11-23T23:40:23.810124Z"
    },
    "papermill": {
     "duration": 0.051719,
     "end_time": "2023-11-23T23:40:23.811966",
     "exception": false,
     "start_time": "2023-11-23T23:40:23.760247",
     "status": "completed"
    },
    "tags": []
   },
   "outputs": [],
   "source": [
    "events = load_event_data()\n",
    "\n",
    "events = pd.concat([\n",
    "  events,\n",
    "  events.pipe(get_first_ward).pipe(normalise_ward).fillna('UNKNOWN'),\n",
    "  pd.Series(\n",
    "      events.actual_audience_size_number_of_participants_in_person + events.actual_audience_size_number_of_participants_online,\n",
    "      name='attendances'\n",
    "  )\n",
    "], axis=1).rename(columns={\n",
    "    'start_date': 'date'\n",
    "}).loc[:, ['ward_code', 'date', 'event_unique_identifier', 'attendances']]"
   ]
  },
  {
   "cell_type": "code",
   "execution_count": 5,
   "id": "72995211",
   "metadata": {
    "execution": {
     "iopub.execute_input": "2023-11-23T23:40:23.816770Z",
     "iopub.status.busy": "2023-11-23T23:40:23.816314Z",
     "iopub.status.idle": "2023-11-23T23:40:23.819587Z",
     "shell.execute_reply": "2023-11-23T23:40:23.818934Z"
    },
    "papermill": {
     "duration": 0.007223,
     "end_time": "2023-11-23T23:40:23.821100",
     "exception": false,
     "start_time": "2023-11-23T23:40:23.813877",
     "status": "completed"
    },
    "tags": []
   },
   "outputs": [],
   "source": [
    "OUTPUT_DIR='../../../../docs/metrics/events/signature/_data/'\n",
    "os.makedirs(OUTPUT_DIR, exist_ok=True)"
   ]
  },
  {
   "cell_type": "markdown",
   "id": "3c9cd532",
   "metadata": {
    "papermill": {
     "duration": 0.001899,
     "end_time": "2023-11-23T23:40:23.824904",
     "exception": false,
     "start_time": "2023-11-23T23:40:23.823005",
     "status": "completed"
    },
    "tags": []
   },
   "source": [
    "Events CSVs"
   ]
  },
  {
   "cell_type": "code",
   "execution_count": 6,
   "id": "dba7e6e3",
   "metadata": {
    "execution": {
     "iopub.execute_input": "2023-11-23T23:40:23.829572Z",
     "iopub.status.busy": "2023-11-23T23:40:23.829266Z",
     "iopub.status.idle": "2023-11-23T23:40:23.834993Z",
     "shell.execute_reply": "2023-11-23T23:40:23.834494Z"
    },
    "papermill": {
     "duration": 0.009425,
     "end_time": "2023-11-23T23:40:23.836261",
     "exception": false,
     "start_time": "2023-11-23T23:40:23.826836",
     "status": "completed"
    },
    "tags": []
   },
   "outputs": [],
   "source": [
    "pd.DataFrame({\n",
    "  'events': events.groupby('ward_code').event_unique_identifier.count(),\n",
    "  'attendances': events.groupby('ward_code').attendances.sum().astype(int),\n",
    "}).to_csv(os.path.join(OUTPUT_DIR, 'events_by_ward.csv'))\n"
   ]
  },
  {
   "cell_type": "code",
   "execution_count": 7,
   "id": "5e95ff80",
   "metadata": {
    "execution": {
     "iopub.execute_input": "2023-11-23T23:40:23.841420Z",
     "iopub.status.busy": "2023-11-23T23:40:23.840905Z",
     "iopub.status.idle": "2023-11-23T23:40:23.848789Z",
     "shell.execute_reply": "2023-11-23T23:40:23.848300Z"
    },
    "papermill": {
     "duration": 0.01177,
     "end_time": "2023-11-23T23:40:23.850105",
     "exception": false,
     "start_time": "2023-11-23T23:40:23.838335",
     "status": "completed"
    },
    "tags": []
   },
   "outputs": [],
   "source": [
    "pd.DataFrame({\n",
    "  'events': events.groupby('date').event_unique_identifier.count(),\n",
    "  'attendances': events.groupby('date').attendances.sum().astype(int),\n",
    "}).resample('M').sum().astype(int).to_csv(os.path.join(OUTPUT_DIR, 'events_by_date.csv'))"
   ]
  },
  {
   "cell_type": "markdown",
   "id": "12841449",
   "metadata": {
    "papermill": {
     "duration": 0.002687,
     "end_time": "2023-11-23T23:40:23.854734",
     "exception": false,
     "start_time": "2023-11-23T23:40:23.852047",
     "status": "completed"
    },
    "tags": []
   },
   "source": [
    "Tickets CSV"
   ]
  },
  {
   "cell_type": "code",
   "execution_count": 8,
   "id": "9782dfe9",
   "metadata": {
    "execution": {
     "iopub.execute_input": "2023-11-23T23:40:23.859486Z",
     "iopub.status.busy": "2023-11-23T23:40:23.859292Z",
     "iopub.status.idle": "2023-11-23T23:40:23.865200Z",
     "shell.execute_reply": "2023-11-23T23:40:23.864556Z"
    },
    "papermill": {
     "duration": 0.009912,
     "end_time": "2023-11-23T23:40:23.866626",
     "exception": false,
     "start_time": "2023-11-23T23:40:23.856714",
     "status": "completed"
    },
    "tags": []
   },
   "outputs": [],
   "source": [
    "pd.DataFrame({\n",
    "  'orders': tickets.groupby('ward_code').number_of_tickets.count(),\n",
    "  'tickets': tickets.groupby('ward_code').number_of_tickets.sum().astype(int),\n",
    "}).to_csv(os.path.join(OUTPUT_DIR, 'tickets_by_ward.csv'))"
   ]
  },
  {
   "cell_type": "code",
   "execution_count": 9,
   "id": "6f7ae9b8",
   "metadata": {
    "execution": {
     "iopub.execute_input": "2023-11-23T23:40:23.871506Z",
     "iopub.status.busy": "2023-11-23T23:40:23.871173Z",
     "iopub.status.idle": "2023-11-23T23:40:23.877935Z",
     "shell.execute_reply": "2023-11-23T23:40:23.877298Z"
    },
    "papermill": {
     "duration": 0.010615,
     "end_time": "2023-11-23T23:40:23.879202",
     "exception": false,
     "start_time": "2023-11-23T23:40:23.868587",
     "status": "completed"
    },
    "tags": []
   },
   "outputs": [],
   "source": [
    "pd.DataFrame({\n",
    "  'orders': tickets.groupby('event_date').number_of_tickets.count(),\n",
    "  'tickets': tickets.groupby('event_date').number_of_tickets.sum().astype(int),\n",
    "}).resample('M').sum().to_csv(os.path.join(OUTPUT_DIR, 'tickets_by_event_date.csv'))"
   ]
  },
  {
   "cell_type": "code",
   "execution_count": 10,
   "id": "d8446e98",
   "metadata": {
    "execution": {
     "iopub.execute_input": "2023-11-23T23:40:23.884285Z",
     "iopub.status.busy": "2023-11-23T23:40:23.883900Z",
     "iopub.status.idle": "2023-11-23T23:40:23.888753Z",
     "shell.execute_reply": "2023-11-23T23:40:23.888147Z"
    },
    "papermill": {
     "duration": 0.009021,
     "end_time": "2023-11-23T23:40:23.890243",
     "exception": false,
     "start_time": "2023-11-23T23:40:23.881222",
     "status": "completed"
    },
    "tags": []
   },
   "outputs": [],
   "source": [
    "pd.Series({\n",
    "    'total_events': events.event_unique_identifier.count(),\n",
    "    'total_attendances': events.attendances.count(),\n",
    "    'first_event': events.date.min(),\n",
    "    'latest_event': events.date.max(),\n",
    "    'total_ticket_orders_for_events_to_date': tickets.number_of_tickets.count(),\n",
    "    'total_tickets_sold_for_events_to_date': tickets.number_of_tickets.sum(),\n",
    "}).to_json(os.path.join(OUTPUT_DIR, 'headlines.json'), indent=2)"
   ]
  },
  {
   "cell_type": "code",
   "execution_count": null,
   "id": "c389a3cd",
   "metadata": {
    "papermill": {
     "duration": 0.002014,
     "end_time": "2023-11-23T23:40:23.894300",
     "exception": false,
     "start_time": "2023-11-23T23:40:23.892286",
     "status": "completed"
    },
    "tags": []
   },
   "outputs": [],
   "source": []
  }
 ],
 "metadata": {
  "kernelspec": {
   "display_name": "leeds-2023-YZF5GfJv",
   "language": "python",
   "name": "python3"
  },
  "language_info": {
   "codemirror_mode": {
    "name": "ipython",
    "version": 3
   },
   "file_extension": ".py",
   "mimetype": "text/x-python",
   "name": "python",
   "nbconvert_exporter": "python",
   "pygments_lexer": "ipython3",
   "version": "3.10.13"
  },
  "papermill": {
   "default_parameters": {},
   "duration": 8.737806,
   "end_time": "2023-11-23T23:40:24.113810",
   "environment_variables": {},
   "exception": null,
   "input_path": "prepare.ipynb",
   "output_path": "../../../../working/output/signature-prepare.ipynb",
   "parameters": {},
   "start_time": "2023-11-23T23:40:15.376004",
   "version": "2.4.0"
  }
 },
 "nbformat": 4,
 "nbformat_minor": 5
}