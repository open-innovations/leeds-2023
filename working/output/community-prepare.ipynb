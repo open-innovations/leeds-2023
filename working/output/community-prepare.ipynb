{
 "cells": [
  {
   "cell_type": "code",
   "execution_count": 1,
   "id": "29ce84ba",
   "metadata": {
    "execution": {
     "iopub.execute_input": "2023-07-24T17:26:02.845789Z",
     "iopub.status.busy": "2023-07-24T17:26:02.845636Z",
     "iopub.status.idle": "2023-07-24T17:26:02.990994Z",
     "shell.execute_reply": "2023-07-24T17:26:02.990556Z"
    },
    "papermill": {
     "duration": 0.151799,
     "end_time": "2023-07-24T17:26:02.992069",
     "exception": false,
     "start_time": "2023-07-24T17:26:02.840270",
     "status": "completed"
    },
    "tags": []
   },
   "outputs": [],
   "source": [
    "import os, sys\n",
    "TOP_DIR = os.path.realpath('../../..')\n",
    "if TOP_DIR not in sys.path: sys.path.append(TOP_DIR)\n",
    "import pandas as pd"
   ]
  },
  {
   "cell_type": "code",
   "execution_count": 2,
   "id": "1022f4e3",
   "metadata": {
    "execution": {
     "iopub.execute_input": "2023-07-24T17:26:02.994751Z",
     "iopub.status.busy": "2023-07-24T17:26:02.994567Z",
     "iopub.status.idle": "2023-07-24T17:26:02.997083Z",
     "shell.execute_reply": "2023-07-24T17:26:02.996761Z"
    },
    "papermill": {
     "duration": 0.004641,
     "end_time": "2023-07-24T17:26:02.997711",
     "exception": false,
     "start_time": "2023-07-24T17:26:02.993070",
     "status": "completed"
    },
    "tags": []
   },
   "outputs": [],
   "source": [
    "from lib.util.convert import named_cumulative_sum"
   ]
  },
  {
   "cell_type": "code",
   "execution_count": 3,
   "id": "5d58792d",
   "metadata": {
    "execution": {
     "iopub.execute_input": "2023-07-24T17:26:02.999781Z",
     "iopub.status.busy": "2023-07-24T17:26:02.999645Z",
     "iopub.status.idle": "2023-07-24T17:26:03.005239Z",
     "shell.execute_reply": "2023-07-24T17:26:03.004924Z"
    },
    "papermill": {
     "duration": 0.007376,
     "end_time": "2023-07-24T17:26:03.005883",
     "exception": false,
     "start_time": "2023-07-24T17:26:02.998507",
     "status": "completed"
    },
    "tags": []
   },
   "outputs": [],
   "source": [
    "data = pd.read_csv('../../../data/metrics/community/events.csv', parse_dates=['start_date'])\n",
    "data.ward_code = data.ward_code.fillna('UNKNOWN')"
   ]
  },
  {
   "cell_type": "markdown",
   "id": "a25c320f",
   "metadata": {
    "papermill": {
     "duration": 0.000781,
     "end_time": "2023-07-24T17:26:03.007481",
     "exception": false,
     "start_time": "2023-07-24T17:26:03.006700",
     "status": "completed"
    },
    "tags": []
   },
   "source": [
    "Set up output directories"
   ]
  },
  {
   "cell_type": "code",
   "execution_count": 4,
   "id": "7cf855d1",
   "metadata": {
    "execution": {
     "iopub.execute_input": "2023-07-24T17:26:03.009448Z",
     "iopub.status.busy": "2023-07-24T17:26:03.009289Z",
     "iopub.status.idle": "2023-07-24T17:26:03.011098Z",
     "shell.execute_reply": "2023-07-24T17:26:03.010854Z"
    },
    "papermill": {
     "duration": 0.003464,
     "end_time": "2023-07-24T17:26:03.011670",
     "exception": false,
     "start_time": "2023-07-24T17:26:03.008206",
     "status": "completed"
    },
    "tags": []
   },
   "outputs": [],
   "source": [
    "OUT_DIR = '../../../docs/metrics/community/_data'\n",
    "os.makedirs(OUT_DIR, exist_ok=True)"
   ]
  },
  {
   "cell_type": "code",
   "execution_count": 5,
   "id": "a3ea9954",
   "metadata": {
    "execution": {
     "iopub.execute_input": "2023-07-24T17:26:03.013702Z",
     "iopub.status.busy": "2023-07-24T17:26:03.013573Z",
     "iopub.status.idle": "2023-07-24T17:26:03.017213Z",
     "shell.execute_reply": "2023-07-24T17:26:03.016911Z"
    },
    "papermill": {
     "duration": 0.005349,
     "end_time": "2023-07-24T17:26:03.017810",
     "exception": false,
     "start_time": "2023-07-24T17:26:03.012461",
     "status": "completed"
    },
    "tags": []
   },
   "outputs": [],
   "source": [
    "pd.Series({\n",
    "  'events': data.event_name.count(),\n",
    "  'audience': data.audience.sum().astype(int),\n",
    "  'errors': {\n",
    "    'missing_wards': (data.ward_code == 'UNKNOWN').value_counts()[True],\n",
    "    'missing_audience': data.audience.isna().value_counts()[True],\n",
    "    'zero_audience':  (data.audience < 1).value_counts()[True],  \n",
    "  }\n",
    "}).to_json(os.path.join(OUT_DIR, 'headlines.json'), indent=2)"
   ]
  },
  {
   "cell_type": "code",
   "execution_count": 6,
   "id": "a080bee5",
   "metadata": {
    "execution": {
     "iopub.execute_input": "2023-07-24T17:26:03.019981Z",
     "iopub.status.busy": "2023-07-24T17:26:03.019782Z",
     "iopub.status.idle": "2023-07-24T17:26:03.023649Z",
     "shell.execute_reply": "2023-07-24T17:26:03.023378Z"
    },
    "papermill": {
     "duration": 0.005684,
     "end_time": "2023-07-24T17:26:03.024304",
     "exception": false,
     "start_time": "2023-07-24T17:26:03.018620",
     "status": "completed"
    },
    "tags": []
   },
   "outputs": [],
   "source": [
    "by_ward = pd.DataFrame({\n",
    "  'events': data.groupby('ward_code').event_name.count().fillna(0).astype('int'),\n",
    "  'audience': data.groupby('ward_code').audience.sum().fillna(0).astype('int'),\n",
    "}).to_csv(os.path.join(OUT_DIR, 'by_ward.csv'))"
   ]
  },
  {
   "cell_type": "code",
   "execution_count": 7,
   "id": "69dd60b0",
   "metadata": {
    "execution": {
     "iopub.execute_input": "2023-07-24T17:26:03.026539Z",
     "iopub.status.busy": "2023-07-24T17:26:03.026409Z",
     "iopub.status.idle": "2023-07-24T17:26:03.032722Z",
     "shell.execute_reply": "2023-07-24T17:26:03.032398Z"
    },
    "papermill": {
     "duration": 0.008132,
     "end_time": "2023-07-24T17:26:03.033342",
     "exception": false,
     "start_time": "2023-07-24T17:26:03.025210",
     "status": "completed"
    },
    "tags": []
   },
   "outputs": [],
   "source": [
    "by_date = pd.DataFrame({\n",
    "    'events': data.groupby('start_date').event_name.count(),\n",
    "    'audience': data.groupby('start_date').audience.sum(),\n",
    "}).resample('M').sum()\n",
    "\n",
    "pd.concat([\n",
    "    by_date,\n",
    "    by_date.pipe(named_cumulative_sum)\n",
    "], axis=1).astype('int').to_csv(os.path.join(OUT_DIR, 'by_date.csv'))"
   ]
  }
 ],
 "metadata": {
  "kernelspec": {
   "display_name": "leeds-2023-YZF5GfJv",
   "language": "python",
   "name": "python3"
  },
  "language_info": {
   "codemirror_mode": {
    "name": "ipython",
    "version": 3
   },
   "file_extension": ".py",
   "mimetype": "text/x-python",
   "name": "python",
   "nbconvert_exporter": "python",
   "pygments_lexer": "ipython3",
   "version": "3.10.6"
  },
  "papermill": {
   "default_parameters": {},
   "duration": 1.129848,
   "end_time": "2023-07-24T17:26:03.251381",
   "environment_variables": {},
   "exception": null,
   "input_path": "prepare.ipynb",
   "output_path": "../../../working/output/community-prepare.ipynb",
   "parameters": {},
   "start_time": "2023-07-24T17:26:02.121533",
   "version": "2.4.0"
  }
 },
 "nbformat": 4,
 "nbformat_minor": 5
}