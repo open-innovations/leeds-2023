{
 "cells": [
  {
   "cell_type": "code",
   "execution_count": 1,
   "id": "16da70f9",
   "metadata": {
    "execution": {
     "iopub.execute_input": "2023-10-10T23:41:55.114815Z",
     "iopub.status.busy": "2023-10-10T23:41:55.114452Z",
     "iopub.status.idle": "2023-10-10T23:42:08.486000Z",
     "shell.execute_reply": "2023-10-10T23:42:08.484811Z"
    },
    "papermill": {
     "duration": 13.379404,
     "end_time": "2023-10-10T23:42:08.488528",
     "exception": false,
     "start_time": "2023-10-10T23:41:55.109124",
     "status": "completed"
    },
    "tags": []
   },
   "outputs": [],
   "source": [
    "import os\n",
    "import pandas as pd\n",
    "from events import load_event_data, get_first_ward, normalise_ward"
   ]
  },
  {
   "cell_type": "code",
   "execution_count": 2,
   "id": "a181c9b8",
   "metadata": {
    "execution": {
     "iopub.execute_input": "2023-10-10T23:42:08.496659Z",
     "iopub.status.busy": "2023-10-10T23:42:08.496394Z",
     "iopub.status.idle": "2023-10-10T23:42:08.501748Z",
     "shell.execute_reply": "2023-10-10T23:42:08.500723Z"
    },
    "papermill": {
     "duration": 0.01233,
     "end_time": "2023-10-10T23:42:08.504266",
     "exception": false,
     "start_time": "2023-10-10T23:42:08.491936",
     "status": "completed"
    },
    "tags": []
   },
   "outputs": [],
   "source": [
    "latest_date = pd.Timestamp.today().ceil('D')"
   ]
  },
  {
   "cell_type": "code",
   "execution_count": 3,
   "id": "d3ea4ad7",
   "metadata": {
    "execution": {
     "iopub.execute_input": "2023-10-10T23:42:08.511481Z",
     "iopub.status.busy": "2023-10-10T23:42:08.510602Z",
     "iopub.status.idle": "2023-10-10T23:42:08.532590Z",
     "shell.execute_reply": "2023-10-10T23:42:08.531508Z"
    },
    "papermill": {
     "duration": 0.028473,
     "end_time": "2023-10-10T23:42:08.535259",
     "exception": false,
     "start_time": "2023-10-10T23:42:08.506786",
     "status": "completed"
    },
    "tags": []
   },
   "outputs": [],
   "source": [
    "tickets = pd.read_csv('../../../../data/metrics/events/tickets/orders.csv', parse_dates=['created_at', 'event_date'])\n",
    "tickets = tickets[tickets.event_date <= latest_date]"
   ]
  },
  {
   "cell_type": "code",
   "execution_count": 4,
   "id": "c03ecca5",
   "metadata": {
    "execution": {
     "iopub.execute_input": "2023-10-10T23:42:08.543363Z",
     "iopub.status.busy": "2023-10-10T23:42:08.542944Z",
     "iopub.status.idle": "2023-10-10T23:42:08.849271Z",
     "shell.execute_reply": "2023-10-10T23:42:08.848096Z"
    },
    "papermill": {
     "duration": 0.313301,
     "end_time": "2023-10-10T23:42:08.852215",
     "exception": false,
     "start_time": "2023-10-10T23:42:08.538914",
     "status": "completed"
    },
    "tags": []
   },
   "outputs": [],
   "source": [
    "events = load_event_data()\n",
    "\n",
    "events = pd.concat([\n",
    "  events,\n",
    "  events.pipe(get_first_ward).pipe(normalise_ward).fillna('UNKNOWN'),\n",
    "  pd.Series(\n",
    "      events.actual_audience_size_number_of_participants_in_person + events.actual_audience_size_number_of_participants_online,\n",
    "      name='attendances'\n",
    "  )\n",
    "], axis=1).rename(columns={\n",
    "    'start_date': 'date'\n",
    "}).loc[:, ['ward_code', 'date', 'event_unique_identifier', 'attendances']]"
   ]
  },
  {
   "cell_type": "code",
   "execution_count": 5,
   "id": "b59c49a5",
   "metadata": {
    "execution": {
     "iopub.execute_input": "2023-10-10T23:42:08.860978Z",
     "iopub.status.busy": "2023-10-10T23:42:08.860689Z",
     "iopub.status.idle": "2023-10-10T23:42:08.867134Z",
     "shell.execute_reply": "2023-10-10T23:42:08.866113Z"
    },
    "papermill": {
     "duration": 0.01326,
     "end_time": "2023-10-10T23:42:08.869061",
     "exception": false,
     "start_time": "2023-10-10T23:42:08.855801",
     "status": "completed"
    },
    "tags": []
   },
   "outputs": [],
   "source": [
    "OUTPUT_DIR='../../../../docs/metrics/events/signature/_data/'\n",
    "os.makedirs(OUTPUT_DIR, exist_ok=True)"
   ]
  },
  {
   "cell_type": "markdown",
   "id": "eb3abc54",
   "metadata": {
    "papermill": {
     "duration": 0.002839,
     "end_time": "2023-10-10T23:42:08.874827",
     "exception": false,
     "start_time": "2023-10-10T23:42:08.871988",
     "status": "completed"
    },
    "tags": []
   },
   "source": [
    "Events CSVs"
   ]
  },
  {
   "cell_type": "code",
   "execution_count": 6,
   "id": "200cb309",
   "metadata": {
    "execution": {
     "iopub.execute_input": "2023-10-10T23:42:08.882245Z",
     "iopub.status.busy": "2023-10-10T23:42:08.881925Z",
     "iopub.status.idle": "2023-10-10T23:42:08.892456Z",
     "shell.execute_reply": "2023-10-10T23:42:08.891454Z"
    },
    "papermill": {
     "duration": 0.016929,
     "end_time": "2023-10-10T23:42:08.894900",
     "exception": false,
     "start_time": "2023-10-10T23:42:08.877971",
     "status": "completed"
    },
    "tags": []
   },
   "outputs": [],
   "source": [
    "pd.DataFrame({\n",
    "  'events': events.groupby('ward_code').event_unique_identifier.count(),\n",
    "  'attendances': events.groupby('ward_code').attendances.sum().astype(int),\n",
    "}).to_csv(os.path.join(OUTPUT_DIR, 'events_by_ward.csv'))\n"
   ]
  },
  {
   "cell_type": "code",
   "execution_count": 7,
   "id": "25261b72",
   "metadata": {
    "execution": {
     "iopub.execute_input": "2023-10-10T23:42:08.902883Z",
     "iopub.status.busy": "2023-10-10T23:42:08.902248Z",
     "iopub.status.idle": "2023-10-10T23:42:08.918444Z",
     "shell.execute_reply": "2023-10-10T23:42:08.917531Z"
    },
    "papermill": {
     "duration": 0.022562,
     "end_time": "2023-10-10T23:42:08.920690",
     "exception": false,
     "start_time": "2023-10-10T23:42:08.898128",
     "status": "completed"
    },
    "tags": []
   },
   "outputs": [],
   "source": [
    "pd.DataFrame({\n",
    "  'events': events.groupby('date').event_unique_identifier.count(),\n",
    "  'attendances': events.groupby('date').attendances.sum().astype(int),\n",
    "}).resample('M').sum().astype(int).to_csv(os.path.join(OUTPUT_DIR, 'events_by_date.csv'))"
   ]
  },
  {
   "cell_type": "markdown",
   "id": "d52434a7",
   "metadata": {
    "papermill": {
     "duration": 0.003249,
     "end_time": "2023-10-10T23:42:08.927095",
     "exception": false,
     "start_time": "2023-10-10T23:42:08.923846",
     "status": "completed"
    },
    "tags": []
   },
   "source": [
    "Tickets CSV"
   ]
  },
  {
   "cell_type": "code",
   "execution_count": 8,
   "id": "6e7382f3",
   "metadata": {
    "execution": {
     "iopub.execute_input": "2023-10-10T23:42:08.934844Z",
     "iopub.status.busy": "2023-10-10T23:42:08.934312Z",
     "iopub.status.idle": "2023-10-10T23:42:08.945014Z",
     "shell.execute_reply": "2023-10-10T23:42:08.944043Z"
    },
    "papermill": {
     "duration": 0.017319,
     "end_time": "2023-10-10T23:42:08.947306",
     "exception": false,
     "start_time": "2023-10-10T23:42:08.929987",
     "status": "completed"
    },
    "tags": []
   },
   "outputs": [],
   "source": [
    "pd.DataFrame({\n",
    "  'orders': tickets.groupby('ward_code').number_of_tickets.count(),\n",
    "  'tickets': tickets.groupby('ward_code').number_of_tickets.sum().astype(int),\n",
    "}).to_csv(os.path.join(OUTPUT_DIR, 'tickets_by_ward.csv'))"
   ]
  },
  {
   "cell_type": "code",
   "execution_count": 9,
   "id": "3df8c90a",
   "metadata": {
    "execution": {
     "iopub.execute_input": "2023-10-10T23:42:08.955649Z",
     "iopub.status.busy": "2023-10-10T23:42:08.955297Z",
     "iopub.status.idle": "2023-10-10T23:42:08.967576Z",
     "shell.execute_reply": "2023-10-10T23:42:08.966545Z"
    },
    "papermill": {
     "duration": 0.019171,
     "end_time": "2023-10-10T23:42:08.969912",
     "exception": false,
     "start_time": "2023-10-10T23:42:08.950741",
     "status": "completed"
    },
    "tags": []
   },
   "outputs": [],
   "source": [
    "pd.DataFrame({\n",
    "  'orders': tickets.groupby('event_date').number_of_tickets.count(),\n",
    "  'tickets': tickets.groupby('event_date').number_of_tickets.sum().astype(int),\n",
    "}).resample('M').sum().to_csv(os.path.join(OUTPUT_DIR, 'tickets_by_event_date.csv'))"
   ]
  },
  {
   "cell_type": "code",
   "execution_count": 10,
   "id": "4376bf96",
   "metadata": {
    "execution": {
     "iopub.execute_input": "2023-10-10T23:42:08.980246Z",
     "iopub.status.busy": "2023-10-10T23:42:08.979782Z",
     "iopub.status.idle": "2023-10-10T23:42:08.986903Z",
     "shell.execute_reply": "2023-10-10T23:42:08.986000Z"
    },
    "papermill": {
     "duration": 0.015282,
     "end_time": "2023-10-10T23:42:08.988828",
     "exception": false,
     "start_time": "2023-10-10T23:42:08.973546",
     "status": "completed"
    },
    "tags": []
   },
   "outputs": [],
   "source": [
    "pd.Series({\n",
    "    'total_events': events.event_unique_identifier.count(),\n",
    "    'total_attendances': events.attendances.count(),\n",
    "    'first_event': events.date.min(),\n",
    "    'latest_event': events.date.max(),\n",
    "    'total_ticket_orders_for_events_to_date': tickets.number_of_tickets.count(),\n",
    "    'total_tickets_sold_for_events_to_date': tickets.number_of_tickets.sum(),\n",
    "}).to_json(os.path.join(OUTPUT_DIR, 'headlines.json'), indent=2)"
   ]
  },
  {
   "cell_type": "code",
   "execution_count": null,
   "id": "99614b26",
   "metadata": {
    "papermill": {
     "duration": 0.003113,
     "end_time": "2023-10-10T23:42:08.995383",
     "exception": false,
     "start_time": "2023-10-10T23:42:08.992270",
     "status": "completed"
    },
    "tags": []
   },
   "outputs": [],
   "source": []
  }
 ],
 "metadata": {
  "kernelspec": {
   "display_name": "leeds-2023-YZF5GfJv",
   "language": "python",
   "name": "python3"
  },
  "language_info": {
   "codemirror_mode": {
    "name": "ipython",
    "version": 3
   },
   "file_extension": ".py",
   "mimetype": "text/x-python",
   "name": "python",
   "nbconvert_exporter": "python",
   "pygments_lexer": "ipython3",
   "version": "3.10.13"
  },
  "papermill": {
   "default_parameters": {},
   "duration": 16.117421,
   "end_time": "2023-10-10T23:42:09.418316",
   "environment_variables": {},
   "exception": null,
   "input_path": "prepare.ipynb",
   "output_path": "../../../../working/output/signature-prepare.ipynb",
   "parameters": {},
   "start_time": "2023-10-10T23:41:53.300895",
   "version": "2.4.0"
  }
 },
 "nbformat": 4,
 "nbformat_minor": 5
}