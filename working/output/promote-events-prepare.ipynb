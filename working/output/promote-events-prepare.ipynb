{
 "cells": [
  {
   "cell_type": "code",
   "execution_count": 1,
   "id": "e8d386e2",
   "metadata": {
    "execution": {
     "iopub.execute_input": "2023-08-08T23:37:55.377916Z",
     "iopub.status.busy": "2023-08-08T23:37:55.377403Z",
     "iopub.status.idle": "2023-08-08T23:37:55.609583Z",
     "shell.execute_reply": "2023-08-08T23:37:55.608950Z"
    },
    "papermill": {
     "duration": 0.237414,
     "end_time": "2023-08-08T23:37:55.611717",
     "exception": false,
     "start_time": "2023-08-08T23:37:55.374303",
     "status": "completed"
    },
    "tags": []
   },
   "outputs": [],
   "source": [
    "import os\n",
    "import pandas as pd"
   ]
  },
  {
   "cell_type": "code",
   "execution_count": 2,
   "id": "ebdfb3cd",
   "metadata": {
    "execution": {
     "iopub.execute_input": "2023-08-08T23:37:55.616676Z",
     "iopub.status.busy": "2023-08-08T23:37:55.616008Z",
     "iopub.status.idle": "2023-08-08T23:37:55.619437Z",
     "shell.execute_reply": "2023-08-08T23:37:55.618827Z"
    },
    "papermill": {
     "duration": 0.007345,
     "end_time": "2023-08-08T23:37:55.620906",
     "exception": false,
     "start_time": "2023-08-08T23:37:55.613561",
     "status": "completed"
    },
    "tags": []
   },
   "outputs": [],
   "source": [
    "DATA_DIR='../../../docs/metrics/events/promote/_data/'\n",
    "os.makedirs(DATA_DIR, exist_ok=True)"
   ]
  },
  {
   "cell_type": "code",
   "execution_count": 3,
   "id": "bd9d9835",
   "metadata": {
    "execution": {
     "iopub.execute_input": "2023-08-08T23:37:55.625279Z",
     "iopub.status.busy": "2023-08-08T23:37:55.624768Z",
     "iopub.status.idle": "2023-08-08T23:37:55.634420Z",
     "shell.execute_reply": "2023-08-08T23:37:55.633871Z"
    },
    "papermill": {
     "duration": 0.013339,
     "end_time": "2023-08-08T23:37:55.635798",
     "exception": false,
     "start_time": "2023-08-08T23:37:55.622459",
     "status": "completed"
    },
    "tags": []
   },
   "outputs": [],
   "source": [
    "data = pd.read_csv('../../../data/metrics/events/promote-events/events.csv', parse_dates=['time'])"
   ]
  },
  {
   "cell_type": "code",
   "execution_count": 4,
   "id": "6ceedd34",
   "metadata": {
    "execution": {
     "iopub.execute_input": "2023-08-08T23:37:55.640342Z",
     "iopub.status.busy": "2023-08-08T23:37:55.639820Z",
     "iopub.status.idle": "2023-08-08T23:37:55.645101Z",
     "shell.execute_reply": "2023-08-08T23:37:55.644513Z"
    },
    "papermill": {
     "duration": 0.009102,
     "end_time": "2023-08-08T23:37:55.646503",
     "exception": false,
     "start_time": "2023-08-08T23:37:55.637401",
     "status": "completed"
    },
    "tags": []
   },
   "outputs": [],
   "source": [
    "pd.Series({\n",
    "    'total_events': len(data.id.unique()),\n",
    "    'total_event_instances': len(data.time),\n",
    "    'earliest_event': data.time.min(),\n",
    "    'latest_event': data.time.max(),\n",
    "}).to_json(\n",
    "    os.path.join(DATA_DIR, 'headlines.json'),\n",
    "    date_format='iso', indent=2\n",
    ")"
   ]
  },
  {
   "cell_type": "code",
   "execution_count": 5,
   "id": "85dadcb1",
   "metadata": {
    "execution": {
     "iopub.execute_input": "2023-08-08T23:37:55.650711Z",
     "iopub.status.busy": "2023-08-08T23:37:55.650381Z",
     "iopub.status.idle": "2023-08-08T23:37:55.658312Z",
     "shell.execute_reply": "2023-08-08T23:37:55.657771Z"
    },
    "papermill": {
     "duration": 0.011656,
     "end_time": "2023-08-08T23:37:55.659760",
     "exception": false,
     "start_time": "2023-08-08T23:37:55.648104",
     "status": "completed"
    },
    "tags": []
   },
   "outputs": [],
   "source": [
    "events = pd.DataFrame({\n",
    "    'events': data.groupby('id').agg({ 'time': 'min' }).reset_index().groupby('time').id.count(),\n",
    "    'event_instances': data.groupby('time').id.count(),\n",
    "}).fillna(0).astype(int)"
   ]
  },
  {
   "cell_type": "code",
   "execution_count": 6,
   "id": "55084c6d",
   "metadata": {
    "execution": {
     "iopub.execute_input": "2023-08-08T23:37:55.664485Z",
     "iopub.status.busy": "2023-08-08T23:37:55.664039Z",
     "iopub.status.idle": "2023-08-08T23:37:55.667597Z",
     "shell.execute_reply": "2023-08-08T23:37:55.666974Z"
    },
    "papermill": {
     "duration": 0.007554,
     "end_time": "2023-08-08T23:37:55.669026",
     "exception": false,
     "start_time": "2023-08-08T23:37:55.661472",
     "status": "completed"
    },
    "tags": []
   },
   "outputs": [],
   "source": [
    "def cumulate(data):\n",
    "    return pd.concat([\n",
    "        data,\n",
    "        data.cumsum().rename(columns=lambda c: f'cumulative_{c}')\n",
    "    ], axis=1)"
   ]
  },
  {
   "cell_type": "code",
   "execution_count": 7,
   "id": "a5e81349",
   "metadata": {
    "execution": {
     "iopub.execute_input": "2023-08-08T23:37:55.673393Z",
     "iopub.status.busy": "2023-08-08T23:37:55.673055Z",
     "iopub.status.idle": "2023-08-08T23:37:55.683165Z",
     "shell.execute_reply": "2023-08-08T23:37:55.682570Z"
    },
    "papermill": {
     "duration": 0.01399,
     "end_time": "2023-08-08T23:37:55.684686",
     "exception": false,
     "start_time": "2023-08-08T23:37:55.670696",
     "status": "completed"
    },
    "tags": []
   },
   "outputs": [],
   "source": [
    "events.resample('W-FRI').sum().pipe(cumulate).to_csv(os.path.join(DATA_DIR, 'by_week.csv'))"
   ]
  },
  {
   "cell_type": "code",
   "execution_count": 8,
   "id": "f2a77980",
   "metadata": {
    "execution": {
     "iopub.execute_input": "2023-08-08T23:37:55.689390Z",
     "iopub.status.busy": "2023-08-08T23:37:55.689044Z",
     "iopub.status.idle": "2023-08-08T23:37:55.695235Z",
     "shell.execute_reply": "2023-08-08T23:37:55.694627Z"
    },
    "papermill": {
     "duration": 0.010209,
     "end_time": "2023-08-08T23:37:55.696740",
     "exception": false,
     "start_time": "2023-08-08T23:37:55.686531",
     "status": "completed"
    },
    "tags": []
   },
   "outputs": [],
   "source": [
    "events.resample('MS').sum().pipe(cumulate).to_csv(os.path.join(DATA_DIR, 'by_month.csv'))"
   ]
  },
  {
   "cell_type": "code",
   "execution_count": null,
   "id": "bedc2f73",
   "metadata": {
    "papermill": {
     "duration": 0.001638,
     "end_time": "2023-08-08T23:37:55.700147",
     "exception": false,
     "start_time": "2023-08-08T23:37:55.698509",
     "status": "completed"
    },
    "tags": []
   },
   "outputs": [],
   "source": []
  }
 ],
 "metadata": {
  "kernelspec": {
   "display_name": "leeds-2023-YZF5GfJv",
   "language": "python",
   "name": "python3"
  },
  "language_info": {
   "codemirror_mode": {
    "name": "ipython",
    "version": 3
   },
   "file_extension": ".py",
   "mimetype": "text/x-python",
   "name": "python",
   "nbconvert_exporter": "python",
   "pygments_lexer": "ipython3",
   "version": "3.10.6"
  },
  "papermill": {
   "default_parameters": {},
   "duration": 1.9145,
   "end_time": "2023-08-08T23:37:55.919424",
   "environment_variables": {},
   "exception": null,
   "input_path": "prepare.ipynb",
   "output_path": "../../../working/output/promote-events-prepare.ipynb",
   "parameters": {},
   "start_time": "2023-08-08T23:37:54.004924",
   "version": "2.4.0"
  }
 },
 "nbformat": 4,
 "nbformat_minor": 5
}