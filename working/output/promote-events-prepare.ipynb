{
 "cells": [
  {
   "cell_type": "code",
   "execution_count": 1,
   "id": "f667fa43",
   "metadata": {
    "execution": {
     "iopub.execute_input": "2023-09-04T23:39:43.590968Z",
     "iopub.status.busy": "2023-09-04T23:39:43.590457Z",
     "iopub.status.idle": "2023-09-04T23:39:43.818843Z",
     "shell.execute_reply": "2023-09-04T23:39:43.818234Z"
    },
    "papermill": {
     "duration": 0.233824,
     "end_time": "2023-09-04T23:39:43.820900",
     "exception": false,
     "start_time": "2023-09-04T23:39:43.587076",
     "status": "completed"
    },
    "tags": []
   },
   "outputs": [],
   "source": [
    "import os\n",
    "import pandas as pd"
   ]
  },
  {
   "cell_type": "code",
   "execution_count": 2,
   "id": "543b1077",
   "metadata": {
    "execution": {
     "iopub.execute_input": "2023-09-04T23:39:43.825909Z",
     "iopub.status.busy": "2023-09-04T23:39:43.825298Z",
     "iopub.status.idle": "2023-09-04T23:39:43.828576Z",
     "shell.execute_reply": "2023-09-04T23:39:43.827988Z"
    },
    "papermill": {
     "duration": 0.0071,
     "end_time": "2023-09-04T23:39:43.830015",
     "exception": false,
     "start_time": "2023-09-04T23:39:43.822915",
     "status": "completed"
    },
    "tags": []
   },
   "outputs": [],
   "source": [
    "DATA_DIR='../../../docs/metrics/events/promote/_data/'\n",
    "os.makedirs(DATA_DIR, exist_ok=True)"
   ]
  },
  {
   "cell_type": "code",
   "execution_count": 3,
   "id": "c9d76e67",
   "metadata": {
    "execution": {
     "iopub.execute_input": "2023-09-04T23:39:43.834302Z",
     "iopub.status.busy": "2023-09-04T23:39:43.833804Z",
     "iopub.status.idle": "2023-09-04T23:39:43.841883Z",
     "shell.execute_reply": "2023-09-04T23:39:43.841342Z"
    },
    "papermill": {
     "duration": 0.011641,
     "end_time": "2023-09-04T23:39:43.843209",
     "exception": false,
     "start_time": "2023-09-04T23:39:43.831568",
     "status": "completed"
    },
    "tags": []
   },
   "outputs": [],
   "source": [
    "data = pd.read_csv('../../../data/metrics/events/promote-events/events.csv', parse_dates=['time'])"
   ]
  },
  {
   "cell_type": "code",
   "execution_count": 4,
   "id": "d952da15",
   "metadata": {
    "execution": {
     "iopub.execute_input": "2023-09-04T23:39:43.847563Z",
     "iopub.status.busy": "2023-09-04T23:39:43.847085Z",
     "iopub.status.idle": "2023-09-04T23:39:43.851978Z",
     "shell.execute_reply": "2023-09-04T23:39:43.851371Z"
    },
    "papermill": {
     "duration": 0.008636,
     "end_time": "2023-09-04T23:39:43.853391",
     "exception": false,
     "start_time": "2023-09-04T23:39:43.844755",
     "status": "completed"
    },
    "tags": []
   },
   "outputs": [],
   "source": [
    "pd.Series({\n",
    "    'total_events': len(data.id.unique()),\n",
    "    'total_event_instances': len(data.time),\n",
    "    'earliest_event': data.time.min(),\n",
    "    'latest_event': data.time.max(),\n",
    "}).to_json(\n",
    "    os.path.join(DATA_DIR, 'headlines.json'),\n",
    "    date_format='iso', indent=2\n",
    ")"
   ]
  },
  {
   "cell_type": "code",
   "execution_count": 5,
   "id": "962bf5cf",
   "metadata": {
    "execution": {
     "iopub.execute_input": "2023-09-04T23:39:43.857529Z",
     "iopub.status.busy": "2023-09-04T23:39:43.857212Z",
     "iopub.status.idle": "2023-09-04T23:39:43.864764Z",
     "shell.execute_reply": "2023-09-04T23:39:43.864226Z"
    },
    "papermill": {
     "duration": 0.011213,
     "end_time": "2023-09-04T23:39:43.866172",
     "exception": false,
     "start_time": "2023-09-04T23:39:43.854959",
     "status": "completed"
    },
    "tags": []
   },
   "outputs": [],
   "source": [
    "events = pd.DataFrame({\n",
    "    'events': data.groupby('id').agg({ 'time': 'min' }).reset_index().groupby('time').id.count(),\n",
    "    'event_instances': data.groupby('time').id.count(),\n",
    "}).fillna(0).astype(int)"
   ]
  },
  {
   "cell_type": "code",
   "execution_count": 6,
   "id": "7346862a",
   "metadata": {
    "execution": {
     "iopub.execute_input": "2023-09-04T23:39:43.870412Z",
     "iopub.status.busy": "2023-09-04T23:39:43.870088Z",
     "iopub.status.idle": "2023-09-04T23:39:43.873391Z",
     "shell.execute_reply": "2023-09-04T23:39:43.872775Z"
    },
    "papermill": {
     "duration": 0.006956,
     "end_time": "2023-09-04T23:39:43.874753",
     "exception": false,
     "start_time": "2023-09-04T23:39:43.867797",
     "status": "completed"
    },
    "tags": []
   },
   "outputs": [],
   "source": [
    "def cumulate(data):\n",
    "    return pd.concat([\n",
    "        data,\n",
    "        data.cumsum().rename(columns=lambda c: f'cumulative_{c}')\n",
    "    ], axis=1)"
   ]
  },
  {
   "cell_type": "code",
   "execution_count": 7,
   "id": "cb3f2ec2",
   "metadata": {
    "execution": {
     "iopub.execute_input": "2023-09-04T23:39:43.878963Z",
     "iopub.status.busy": "2023-09-04T23:39:43.878647Z",
     "iopub.status.idle": "2023-09-04T23:39:43.887833Z",
     "shell.execute_reply": "2023-09-04T23:39:43.887289Z"
    },
    "papermill": {
     "duration": 0.012952,
     "end_time": "2023-09-04T23:39:43.889341",
     "exception": false,
     "start_time": "2023-09-04T23:39:43.876389",
     "status": "completed"
    },
    "tags": []
   },
   "outputs": [],
   "source": [
    "events.resample('W-FRI').sum().pipe(cumulate).to_csv(os.path.join(DATA_DIR, 'by_week.csv'))"
   ]
  },
  {
   "cell_type": "code",
   "execution_count": 8,
   "id": "e0497e5a",
   "metadata": {
    "execution": {
     "iopub.execute_input": "2023-09-04T23:39:43.893786Z",
     "iopub.status.busy": "2023-09-04T23:39:43.893399Z",
     "iopub.status.idle": "2023-09-04T23:39:43.898977Z",
     "shell.execute_reply": "2023-09-04T23:39:43.898413Z"
    },
    "papermill": {
     "duration": 0.009299,
     "end_time": "2023-09-04T23:39:43.900398",
     "exception": false,
     "start_time": "2023-09-04T23:39:43.891099",
     "status": "completed"
    },
    "tags": []
   },
   "outputs": [],
   "source": [
    "events.resample('MS').sum().pipe(cumulate).to_csv(os.path.join(DATA_DIR, 'by_month.csv'))"
   ]
  },
  {
   "cell_type": "code",
   "execution_count": null,
   "id": "6be3a359",
   "metadata": {
    "papermill": {
     "duration": 0.001665,
     "end_time": "2023-09-04T23:39:43.903789",
     "exception": false,
     "start_time": "2023-09-04T23:39:43.902124",
     "status": "completed"
    },
    "tags": []
   },
   "outputs": [],
   "source": []
  }
 ],
 "metadata": {
  "kernelspec": {
   "display_name": "leeds-2023-YZF5GfJv",
   "language": "python",
   "name": "python3"
  },
  "language_info": {
   "codemirror_mode": {
    "name": "ipython",
    "version": 3
   },
   "file_extension": ".py",
   "mimetype": "text/x-python",
   "name": "python",
   "nbconvert_exporter": "python",
   "pygments_lexer": "ipython3",
   "version": "3.10.12"
  },
  "papermill": {
   "default_parameters": {},
   "duration": 1.903432,
   "end_time": "2023-09-04T23:39:44.121557",
   "environment_variables": {},
   "exception": null,
   "input_path": "prepare.ipynb",
   "output_path": "../../../working/output/promote-events-prepare.ipynb",
   "parameters": {},
   "start_time": "2023-09-04T23:39:42.218125",
   "version": "2.4.0"
  }
 },
 "nbformat": 4,
 "nbformat_minor": 5
}