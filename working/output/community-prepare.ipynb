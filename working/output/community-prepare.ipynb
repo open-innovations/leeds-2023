{
 "cells": [
  {
   "cell_type": "code",
   "execution_count": 1,
   "id": "2f3032a2",
   "metadata": {
    "execution": {
     "iopub.execute_input": "2023-10-16T23:40:59.181351Z",
     "iopub.status.busy": "2023-10-16T23:40:59.180725Z",
     "iopub.status.idle": "2023-10-16T23:40:59.450106Z",
     "shell.execute_reply": "2023-10-16T23:40:59.449328Z"
    },
    "papermill": {
     "duration": 0.275321,
     "end_time": "2023-10-16T23:40:59.452170",
     "exception": false,
     "start_time": "2023-10-16T23:40:59.176849",
     "status": "completed"
    },
    "tags": []
   },
   "outputs": [],
   "source": [
    "import os, sys\n",
    "TOP_DIR = os.path.realpath('../../..')\n",
    "if TOP_DIR not in sys.path: sys.path.append(TOP_DIR)\n",
    "import pandas as pd"
   ]
  },
  {
   "cell_type": "code",
   "execution_count": 2,
   "id": "5eb06e24",
   "metadata": {
    "execution": {
     "iopub.execute_input": "2023-10-16T23:40:59.457935Z",
     "iopub.status.busy": "2023-10-16T23:40:59.457610Z",
     "iopub.status.idle": "2023-10-16T23:40:59.461854Z",
     "shell.execute_reply": "2023-10-16T23:40:59.461193Z"
    },
    "papermill": {
     "duration": 0.008782,
     "end_time": "2023-10-16T23:40:59.463328",
     "exception": false,
     "start_time": "2023-10-16T23:40:59.454546",
     "status": "completed"
    },
    "tags": []
   },
   "outputs": [],
   "source": [
    "from lib.util.convert import named_cumulative_sum"
   ]
  },
  {
   "cell_type": "code",
   "execution_count": 3,
   "id": "a90618d4",
   "metadata": {
    "execution": {
     "iopub.execute_input": "2023-10-16T23:40:59.468300Z",
     "iopub.status.busy": "2023-10-16T23:40:59.467722Z",
     "iopub.status.idle": "2023-10-16T23:40:59.478537Z",
     "shell.execute_reply": "2023-10-16T23:40:59.477931Z"
    },
    "papermill": {
     "duration": 0.015176,
     "end_time": "2023-10-16T23:40:59.480257",
     "exception": false,
     "start_time": "2023-10-16T23:40:59.465081",
     "status": "completed"
    },
    "tags": []
   },
   "outputs": [],
   "source": [
    "data = pd.read_csv('../../../data/metrics/community/events.csv', parse_dates=['start_date'])\n",
    "data.ward_code = data.ward_code.fillna('UNKNOWN')"
   ]
  },
  {
   "cell_type": "markdown",
   "id": "efc5e121",
   "metadata": {
    "papermill": {
     "duration": 0.00178,
     "end_time": "2023-10-16T23:40:59.483854",
     "exception": false,
     "start_time": "2023-10-16T23:40:59.482074",
     "status": "completed"
    },
    "tags": []
   },
   "source": [
    "Set up output directories"
   ]
  },
  {
   "cell_type": "code",
   "execution_count": 4,
   "id": "51697ce5",
   "metadata": {
    "execution": {
     "iopub.execute_input": "2023-10-16T23:40:59.488714Z",
     "iopub.status.busy": "2023-10-16T23:40:59.488161Z",
     "iopub.status.idle": "2023-10-16T23:40:59.492595Z",
     "shell.execute_reply": "2023-10-16T23:40:59.491996Z"
    },
    "papermill": {
     "duration": 0.008555,
     "end_time": "2023-10-16T23:40:59.494195",
     "exception": false,
     "start_time": "2023-10-16T23:40:59.485640",
     "status": "completed"
    },
    "tags": []
   },
   "outputs": [],
   "source": [
    "OUT_DIR = '../../../docs/metrics/community/_data'\n",
    "os.makedirs(OUT_DIR, exist_ok=True)"
   ]
  },
  {
   "cell_type": "code",
   "execution_count": 5,
   "id": "8309f328",
   "metadata": {
    "execution": {
     "iopub.execute_input": "2023-10-16T23:40:59.499155Z",
     "iopub.status.busy": "2023-10-16T23:40:59.498609Z",
     "iopub.status.idle": "2023-10-16T23:40:59.505560Z",
     "shell.execute_reply": "2023-10-16T23:40:59.504957Z"
    },
    "papermill": {
     "duration": 0.011189,
     "end_time": "2023-10-16T23:40:59.507215",
     "exception": false,
     "start_time": "2023-10-16T23:40:59.496026",
     "status": "completed"
    },
    "tags": []
   },
   "outputs": [],
   "source": [
    "pd.Series({\n",
    "  'events': data.event_name.count(),\n",
    "  'audience': data.audience.sum().astype(int),\n",
    "  'errors': {\n",
    "    'missing_wards': (data.ward_code == 'UNKNOWN').value_counts()[True],\n",
    "    'missing_audience': data.audience.isna().value_counts()[True],\n",
    "    'zero_audience':  (data.audience < 1).value_counts()[True],  \n",
    "  }\n",
    "}).to_json(os.path.join(OUT_DIR, 'headlines.json'), indent=2)"
   ]
  },
  {
   "cell_type": "code",
   "execution_count": 6,
   "id": "b5ba8115",
   "metadata": {
    "execution": {
     "iopub.execute_input": "2023-10-16T23:40:59.511966Z",
     "iopub.status.busy": "2023-10-16T23:40:59.511745Z",
     "iopub.status.idle": "2023-10-16T23:40:59.518821Z",
     "shell.execute_reply": "2023-10-16T23:40:59.518218Z"
    },
    "papermill": {
     "duration": 0.011394,
     "end_time": "2023-10-16T23:40:59.520425",
     "exception": false,
     "start_time": "2023-10-16T23:40:59.509031",
     "status": "completed"
    },
    "tags": []
   },
   "outputs": [],
   "source": [
    "by_ward = pd.DataFrame({\n",
    "  'events': data.groupby('ward_code').event_name.count().fillna(0).astype('int'),\n",
    "  'audience': data.groupby('ward_code').audience.sum().fillna(0).astype('int'),\n",
    "}).to_csv(os.path.join(OUT_DIR, 'by_ward.csv'))"
   ]
  },
  {
   "cell_type": "code",
   "execution_count": 7,
   "id": "7f45309e",
   "metadata": {
    "execution": {
     "iopub.execute_input": "2023-10-16T23:40:59.525723Z",
     "iopub.status.busy": "2023-10-16T23:40:59.525153Z",
     "iopub.status.idle": "2023-10-16T23:40:59.537773Z",
     "shell.execute_reply": "2023-10-16T23:40:59.537130Z"
    },
    "papermill": {
     "duration": 0.017277,
     "end_time": "2023-10-16T23:40:59.539594",
     "exception": false,
     "start_time": "2023-10-16T23:40:59.522317",
     "status": "completed"
    },
    "tags": []
   },
   "outputs": [],
   "source": [
    "by_date = pd.DataFrame({\n",
    "    'events': data.groupby('start_date').event_name.count(),\n",
    "    'audience': data.groupby('start_date').audience.sum(),\n",
    "}).resample('M').sum()\n",
    "\n",
    "pd.concat([\n",
    "    by_date,\n",
    "    by_date.pipe(named_cumulative_sum)\n",
    "], axis=1).astype('int').to_csv(os.path.join(OUT_DIR, 'by_date.csv'))"
   ]
  }
 ],
 "metadata": {
  "kernelspec": {
   "display_name": "leeds-2023-YZF5GfJv",
   "language": "python",
   "name": "python3"
  },
  "language_info": {
   "codemirror_mode": {
    "name": "ipython",
    "version": 3
   },
   "file_extension": ".py",
   "mimetype": "text/x-python",
   "name": "python",
   "nbconvert_exporter": "python",
   "pygments_lexer": "ipython3",
   "version": "3.10.13"
  },
  "papermill": {
   "default_parameters": {},
   "duration": 1.978227,
   "end_time": "2023-10-16T23:40:59.758124",
   "environment_variables": {},
   "exception": null,
   "input_path": "prepare.ipynb",
   "output_path": "../../../working/output/community-prepare.ipynb",
   "parameters": {},
   "start_time": "2023-10-16T23:40:57.779897",
   "version": "2.4.0"
  }
 },
 "nbformat": 4,
 "nbformat_minor": 5
}