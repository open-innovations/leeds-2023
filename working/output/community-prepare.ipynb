{
 "cells": [
  {
   "cell_type": "code",
   "execution_count": 1,
   "id": "85bcdbf0",
   "metadata": {
    "execution": {
     "iopub.execute_input": "2023-11-27T23:37:13.530888Z",
     "iopub.status.busy": "2023-11-27T23:37:13.530651Z",
     "iopub.status.idle": "2023-11-27T23:37:13.772935Z",
     "shell.execute_reply": "2023-11-27T23:37:13.772358Z"
    },
    "papermill": {
     "duration": 0.246548,
     "end_time": "2023-11-27T23:37:13.774537",
     "exception": false,
     "start_time": "2023-11-27T23:37:13.527989",
     "status": "completed"
    },
    "tags": []
   },
   "outputs": [],
   "source": [
    "import os, sys\n",
    "TOP_DIR = os.path.realpath('../../..')\n",
    "if TOP_DIR not in sys.path: sys.path.append(TOP_DIR)\n",
    "import pandas as pd"
   ]
  },
  {
   "cell_type": "code",
   "execution_count": 2,
   "id": "4388c970",
   "metadata": {
    "execution": {
     "iopub.execute_input": "2023-11-27T23:37:13.778826Z",
     "iopub.status.busy": "2023-11-27T23:37:13.778394Z",
     "iopub.status.idle": "2023-11-27T23:37:13.782618Z",
     "shell.execute_reply": "2023-11-27T23:37:13.781984Z"
    },
    "papermill": {
     "duration": 0.007626,
     "end_time": "2023-11-27T23:37:13.783881",
     "exception": false,
     "start_time": "2023-11-27T23:37:13.776255",
     "status": "completed"
    },
    "tags": []
   },
   "outputs": [],
   "source": [
    "from lib.util.convert import named_cumulative_sum"
   ]
  },
  {
   "cell_type": "code",
   "execution_count": 3,
   "id": "566cce27",
   "metadata": {
    "execution": {
     "iopub.execute_input": "2023-11-27T23:37:13.787583Z",
     "iopub.status.busy": "2023-11-27T23:37:13.787238Z",
     "iopub.status.idle": "2023-11-27T23:37:13.795322Z",
     "shell.execute_reply": "2023-11-27T23:37:13.794691Z"
    },
    "papermill": {
     "duration": 0.01156,
     "end_time": "2023-11-27T23:37:13.796842",
     "exception": false,
     "start_time": "2023-11-27T23:37:13.785282",
     "status": "completed"
    },
    "tags": []
   },
   "outputs": [],
   "source": [
    "data = pd.read_csv('../../../data/metrics/community/events.csv', parse_dates=['start_date'])\n",
    "data.ward_code = data.ward_code.fillna('UNKNOWN')"
   ]
  },
  {
   "cell_type": "markdown",
   "id": "6aad843f",
   "metadata": {
    "papermill": {
     "duration": 0.001392,
     "end_time": "2023-11-27T23:37:13.799593",
     "exception": false,
     "start_time": "2023-11-27T23:37:13.798201",
     "status": "completed"
    },
    "tags": []
   },
   "source": [
    "Set up output directories"
   ]
  },
  {
   "cell_type": "code",
   "execution_count": 4,
   "id": "95595784",
   "metadata": {
    "execution": {
     "iopub.execute_input": "2023-11-27T23:37:13.803463Z",
     "iopub.status.busy": "2023-11-27T23:37:13.802970Z",
     "iopub.status.idle": "2023-11-27T23:37:13.806214Z",
     "shell.execute_reply": "2023-11-27T23:37:13.805593Z"
    },
    "papermill": {
     "duration": 0.006559,
     "end_time": "2023-11-27T23:37:13.807542",
     "exception": false,
     "start_time": "2023-11-27T23:37:13.800983",
     "status": "completed"
    },
    "tags": []
   },
   "outputs": [],
   "source": [
    "OUT_DIR = '../../../docs/metrics/community/_data'\n",
    "os.makedirs(OUT_DIR, exist_ok=True)"
   ]
  },
  {
   "cell_type": "code",
   "execution_count": 5,
   "id": "18e3a0c1",
   "metadata": {
    "execution": {
     "iopub.execute_input": "2023-11-27T23:37:13.811426Z",
     "iopub.status.busy": "2023-11-27T23:37:13.811027Z",
     "iopub.status.idle": "2023-11-27T23:37:13.816962Z",
     "shell.execute_reply": "2023-11-27T23:37:13.816436Z"
    },
    "papermill": {
     "duration": 0.009246,
     "end_time": "2023-11-27T23:37:13.818200",
     "exception": false,
     "start_time": "2023-11-27T23:37:13.808954",
     "status": "completed"
    },
    "tags": []
   },
   "outputs": [],
   "source": [
    "pd.Series({\n",
    "  'events': data.event_name.count(),\n",
    "  'audience': data.audience.sum().astype(int),\n",
    "  'errors': {\n",
    "    'missing_wards': (data.ward_code == 'UNKNOWN').value_counts()[True],\n",
    "    'missing_audience': data.audience.isna().value_counts()[True],\n",
    "    'zero_audience':  (data.audience < 1).value_counts()[True],  \n",
    "  }\n",
    "}).to_json(os.path.join(OUT_DIR, 'headlines.json'), indent=2)"
   ]
  },
  {
   "cell_type": "code",
   "execution_count": 6,
   "id": "b6ca22ab",
   "metadata": {
    "execution": {
     "iopub.execute_input": "2023-11-27T23:37:13.822079Z",
     "iopub.status.busy": "2023-11-27T23:37:13.821698Z",
     "iopub.status.idle": "2023-11-27T23:37:13.827822Z",
     "shell.execute_reply": "2023-11-27T23:37:13.827201Z"
    },
    "papermill": {
     "duration": 0.009617,
     "end_time": "2023-11-27T23:37:13.829238",
     "exception": false,
     "start_time": "2023-11-27T23:37:13.819621",
     "status": "completed"
    },
    "tags": []
   },
   "outputs": [],
   "source": [
    "by_ward = pd.DataFrame({\n",
    "  'events': data.groupby('ward_code').event_name.count().fillna(0).astype('int'),\n",
    "  'audience': data.groupby('ward_code').audience.sum().fillna(0).astype('int'),\n",
    "}).to_csv(os.path.join(OUT_DIR, 'by_ward.csv'))"
   ]
  },
  {
   "cell_type": "code",
   "execution_count": 7,
   "id": "0f349a33",
   "metadata": {
    "execution": {
     "iopub.execute_input": "2023-11-27T23:37:13.833118Z",
     "iopub.status.busy": "2023-11-27T23:37:13.832790Z",
     "iopub.status.idle": "2023-11-27T23:37:13.841582Z",
     "shell.execute_reply": "2023-11-27T23:37:13.841057Z"
    },
    "papermill": {
     "duration": 0.012156,
     "end_time": "2023-11-27T23:37:13.842845",
     "exception": false,
     "start_time": "2023-11-27T23:37:13.830689",
     "status": "completed"
    },
    "tags": []
   },
   "outputs": [],
   "source": [
    "by_date = pd.DataFrame({\n",
    "    'events': data.groupby('start_date').event_name.count(),\n",
    "    'audience': data.groupby('start_date').audience.sum(),\n",
    "}).resample('M').sum()\n",
    "\n",
    "pd.concat([\n",
    "    by_date,\n",
    "    by_date.pipe(named_cumulative_sum)\n",
    "], axis=1).astype('int').to_csv(os.path.join(OUT_DIR, 'by_date.csv'))"
   ]
  }
 ],
 "metadata": {
  "kernelspec": {
   "display_name": "leeds-2023-YZF5GfJv",
   "language": "python",
   "name": "python3"
  },
  "language_info": {
   "codemirror_mode": {
    "name": "ipython",
    "version": 3
   },
   "file_extension": ".py",
   "mimetype": "text/x-python",
   "name": "python",
   "nbconvert_exporter": "python",
   "pygments_lexer": "ipython3",
   "version": "3.10.13"
  },
  "papermill": {
   "default_parameters": {},
   "duration": 1.773568,
   "end_time": "2023-11-27T23:37:14.060614",
   "environment_variables": {},
   "exception": null,
   "input_path": "prepare.ipynb",
   "output_path": "../../../working/output/community-prepare.ipynb",
   "parameters": {},
   "start_time": "2023-11-27T23:37:12.287046",
   "version": "2.4.0"
  }
 },
 "nbformat": 4,
 "nbformat_minor": 5
}