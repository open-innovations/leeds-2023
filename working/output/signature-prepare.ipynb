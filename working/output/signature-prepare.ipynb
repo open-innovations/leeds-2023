{
 "cells": [
  {
   "cell_type": "code",
   "execution_count": 1,
   "id": "4950d30b",
   "metadata": {
    "execution": {
     "iopub.execute_input": "2023-09-16T23:39:17.886831Z",
     "iopub.status.busy": "2023-09-16T23:39:17.886148Z",
     "iopub.status.idle": "2023-09-16T23:39:27.686157Z",
     "shell.execute_reply": "2023-09-16T23:39:27.685463Z"
    },
    "papermill": {
     "duration": 9.805823,
     "end_time": "2023-09-16T23:39:27.687948",
     "exception": false,
     "start_time": "2023-09-16T23:39:17.882125",
     "status": "completed"
    },
    "tags": []
   },
   "outputs": [],
   "source": [
    "import os\n",
    "import pandas as pd\n",
    "from events import load_event_data, get_first_ward, normalise_ward"
   ]
  },
  {
   "cell_type": "code",
   "execution_count": 2,
   "id": "5b7d388e",
   "metadata": {
    "execution": {
     "iopub.execute_input": "2023-09-16T23:39:27.694419Z",
     "iopub.status.busy": "2023-09-16T23:39:27.693836Z",
     "iopub.status.idle": "2023-09-16T23:39:27.698297Z",
     "shell.execute_reply": "2023-09-16T23:39:27.697717Z"
    },
    "papermill": {
     "duration": 0.009167,
     "end_time": "2023-09-16T23:39:27.699757",
     "exception": false,
     "start_time": "2023-09-16T23:39:27.690590",
     "status": "completed"
    },
    "tags": []
   },
   "outputs": [],
   "source": [
    "latest_date = pd.Timestamp.today().ceil('D')"
   ]
  },
  {
   "cell_type": "code",
   "execution_count": 3,
   "id": "b2d3d452",
   "metadata": {
    "execution": {
     "iopub.execute_input": "2023-09-16T23:39:27.705497Z",
     "iopub.status.busy": "2023-09-16T23:39:27.705064Z",
     "iopub.status.idle": "2023-09-16T23:39:27.725052Z",
     "shell.execute_reply": "2023-09-16T23:39:27.723835Z"
    },
    "papermill": {
     "duration": 0.024486,
     "end_time": "2023-09-16T23:39:27.726525",
     "exception": false,
     "start_time": "2023-09-16T23:39:27.702039",
     "status": "completed"
    },
    "tags": []
   },
   "outputs": [],
   "source": [
    "tickets = pd.read_csv('../../../../data/metrics/events/tickets/orders.csv', parse_dates=['created_at', 'event_date'])\n",
    "tickets = tickets[tickets.event_date <= latest_date]"
   ]
  },
  {
   "cell_type": "code",
   "execution_count": 4,
   "id": "bdfee16f",
   "metadata": {
    "execution": {
     "iopub.execute_input": "2023-09-16T23:39:27.732557Z",
     "iopub.status.busy": "2023-09-16T23:39:27.732010Z",
     "iopub.status.idle": "2023-09-16T23:39:27.955741Z",
     "shell.execute_reply": "2023-09-16T23:39:27.955079Z"
    },
    "papermill": {
     "duration": 0.228821,
     "end_time": "2023-09-16T23:39:27.957641",
     "exception": false,
     "start_time": "2023-09-16T23:39:27.728820",
     "status": "completed"
    },
    "tags": []
   },
   "outputs": [],
   "source": [
    "events = load_event_data()\n",
    "\n",
    "events = pd.concat([\n",
    "  events,\n",
    "  events.pipe(get_first_ward).pipe(normalise_ward).fillna('UNKNOWN'),\n",
    "  pd.Series(\n",
    "      events.actual_audience_size_number_of_participants_in_person + events.actual_audience_size_number_of_participants_online,\n",
    "      name='attendances'\n",
    "  )\n",
    "], axis=1).rename(columns={\n",
    "    'start_date': 'date'\n",
    "}).loc[:, ['ward_code', 'date', 'event_unique_identifier', 'attendances']]"
   ]
  },
  {
   "cell_type": "code",
   "execution_count": 5,
   "id": "6ace7953",
   "metadata": {
    "execution": {
     "iopub.execute_input": "2023-09-16T23:39:27.964333Z",
     "iopub.status.busy": "2023-09-16T23:39:27.963856Z",
     "iopub.status.idle": "2023-09-16T23:39:27.967424Z",
     "shell.execute_reply": "2023-09-16T23:39:27.966770Z"
    },
    "papermill": {
     "duration": 0.008782,
     "end_time": "2023-09-16T23:39:27.969040",
     "exception": false,
     "start_time": "2023-09-16T23:39:27.960258",
     "status": "completed"
    },
    "tags": []
   },
   "outputs": [],
   "source": [
    "OUTPUT_DIR='../../../../docs/metrics/events/signature/_data/'\n",
    "os.makedirs(OUTPUT_DIR, exist_ok=True)"
   ]
  },
  {
   "cell_type": "markdown",
   "id": "d5b8d087",
   "metadata": {
    "papermill": {
     "duration": 0.002426,
     "end_time": "2023-09-16T23:39:27.973847",
     "exception": false,
     "start_time": "2023-09-16T23:39:27.971421",
     "status": "completed"
    },
    "tags": []
   },
   "source": [
    "Events CSVs"
   ]
  },
  {
   "cell_type": "code",
   "execution_count": 6,
   "id": "1120bbf2",
   "metadata": {
    "execution": {
     "iopub.execute_input": "2023-09-16T23:39:27.979487Z",
     "iopub.status.busy": "2023-09-16T23:39:27.979272Z",
     "iopub.status.idle": "2023-09-16T23:39:27.986311Z",
     "shell.execute_reply": "2023-09-16T23:39:27.985725Z"
    },
    "papermill": {
     "duration": 0.011739,
     "end_time": "2023-09-16T23:39:27.987899",
     "exception": false,
     "start_time": "2023-09-16T23:39:27.976160",
     "status": "completed"
    },
    "tags": []
   },
   "outputs": [],
   "source": [
    "pd.DataFrame({\n",
    "  'events': events.groupby('ward_code').event_unique_identifier.count(),\n",
    "  'attendances': events.groupby('ward_code').attendances.sum().astype(int),\n",
    "}).to_csv(os.path.join(OUTPUT_DIR, 'events_by_ward.csv'))\n"
   ]
  },
  {
   "cell_type": "code",
   "execution_count": 7,
   "id": "7b6330eb",
   "metadata": {
    "execution": {
     "iopub.execute_input": "2023-09-16T23:39:27.993846Z",
     "iopub.status.busy": "2023-09-16T23:39:27.993422Z",
     "iopub.status.idle": "2023-09-16T23:39:28.003546Z",
     "shell.execute_reply": "2023-09-16T23:39:28.002973Z"
    },
    "papermill": {
     "duration": 0.014782,
     "end_time": "2023-09-16T23:39:28.005099",
     "exception": false,
     "start_time": "2023-09-16T23:39:27.990317",
     "status": "completed"
    },
    "tags": []
   },
   "outputs": [],
   "source": [
    "pd.DataFrame({\n",
    "  'events': events.groupby('date').event_unique_identifier.count(),\n",
    "  'attendances': events.groupby('date').attendances.sum().astype(int),\n",
    "}).resample('M').sum().astype(int).to_csv(os.path.join(OUTPUT_DIR, 'events_by_date.csv'))"
   ]
  },
  {
   "cell_type": "markdown",
   "id": "780885a5",
   "metadata": {
    "papermill": {
     "duration": 0.002468,
     "end_time": "2023-09-16T23:39:28.010010",
     "exception": false,
     "start_time": "2023-09-16T23:39:28.007542",
     "status": "completed"
    },
    "tags": []
   },
   "source": [
    "Tickets CSV"
   ]
  },
  {
   "cell_type": "code",
   "execution_count": 8,
   "id": "bca1639c",
   "metadata": {
    "execution": {
     "iopub.execute_input": "2023-09-16T23:39:28.016166Z",
     "iopub.status.busy": "2023-09-16T23:39:28.015820Z",
     "iopub.status.idle": "2023-09-16T23:39:28.022689Z",
     "shell.execute_reply": "2023-09-16T23:39:28.022115Z"
    },
    "papermill": {
     "duration": 0.011553,
     "end_time": "2023-09-16T23:39:28.024200",
     "exception": false,
     "start_time": "2023-09-16T23:39:28.012647",
     "status": "completed"
    },
    "tags": []
   },
   "outputs": [],
   "source": [
    "pd.DataFrame({\n",
    "  'orders': tickets.groupby('ward_code').number_of_tickets.count(),\n",
    "  'tickets': tickets.groupby('ward_code').number_of_tickets.sum().astype(int),\n",
    "}).to_csv(os.path.join(OUTPUT_DIR, 'tickets_by_ward.csv'))"
   ]
  },
  {
   "cell_type": "code",
   "execution_count": 9,
   "id": "db5ccdc9",
   "metadata": {
    "execution": {
     "iopub.execute_input": "2023-09-16T23:39:28.030213Z",
     "iopub.status.busy": "2023-09-16T23:39:28.029881Z",
     "iopub.status.idle": "2023-09-16T23:39:28.037692Z",
     "shell.execute_reply": "2023-09-16T23:39:28.037111Z"
    },
    "papermill": {
     "duration": 0.012514,
     "end_time": "2023-09-16T23:39:28.039218",
     "exception": false,
     "start_time": "2023-09-16T23:39:28.026704",
     "status": "completed"
    },
    "tags": []
   },
   "outputs": [],
   "source": [
    "pd.DataFrame({\n",
    "  'orders': tickets.groupby('event_date').number_of_tickets.count(),\n",
    "  'tickets': tickets.groupby('event_date').number_of_tickets.sum().astype(int),\n",
    "}).resample('M').sum().to_csv(os.path.join(OUTPUT_DIR, 'tickets_by_event_date.csv'))"
   ]
  },
  {
   "cell_type": "code",
   "execution_count": 10,
   "id": "cc96b732",
   "metadata": {
    "execution": {
     "iopub.execute_input": "2023-09-16T23:39:28.046011Z",
     "iopub.status.busy": "2023-09-16T23:39:28.045802Z",
     "iopub.status.idle": "2023-09-16T23:39:28.050666Z",
     "shell.execute_reply": "2023-09-16T23:39:28.050025Z"
    },
    "papermill": {
     "duration": 0.010547,
     "end_time": "2023-09-16T23:39:28.052265",
     "exception": false,
     "start_time": "2023-09-16T23:39:28.041718",
     "status": "completed"
    },
    "tags": []
   },
   "outputs": [],
   "source": [
    "pd.Series({\n",
    "    'total_events': events.event_unique_identifier.count(),\n",
    "    'total_attendances': events.attendances.count(),\n",
    "    'first_event': events.date.min(),\n",
    "    'latest_event': events.date.max(),\n",
    "    'total_ticket_orders_for_events_to_date': tickets.number_of_tickets.count(),\n",
    "    'total_tickets_sold_for_events_to_date': tickets.number_of_tickets.sum(),\n",
    "}).to_json(os.path.join(OUTPUT_DIR, 'headlines.json'), indent=2)"
   ]
  },
  {
   "cell_type": "code",
   "execution_count": null,
   "id": "150107ec",
   "metadata": {
    "papermill": {
     "duration": 0.002457,
     "end_time": "2023-09-16T23:39:28.057253",
     "exception": false,
     "start_time": "2023-09-16T23:39:28.054796",
     "status": "completed"
    },
    "tags": []
   },
   "outputs": [],
   "source": []
  }
 ],
 "metadata": {
  "kernelspec": {
   "display_name": "leeds-2023-YZF5GfJv",
   "language": "python",
   "name": "python3"
  },
  "language_info": {
   "codemirror_mode": {
    "name": "ipython",
    "version": 3
   },
   "file_extension": ".py",
   "mimetype": "text/x-python",
   "name": "python",
   "nbconvert_exporter": "python",
   "pygments_lexer": "ipython3",
   "version": "3.10.13"
  },
  "papermill": {
   "default_parameters": {},
   "duration": 11.841147,
   "end_time": "2023-09-16T23:39:28.376749",
   "environment_variables": {},
   "exception": null,
   "input_path": "prepare.ipynb",
   "output_path": "../../../../working/output/signature-prepare.ipynb",
   "parameters": {},
   "start_time": "2023-09-16T23:39:16.535602",
   "version": "2.4.0"
  }
 },
 "nbformat": 4,
 "nbformat_minor": 5
}