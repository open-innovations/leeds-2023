{
 "cells": [
  {
   "cell_type": "markdown",
   "id": "ca17564c",
   "metadata": {
    "papermill": {
     "duration": 0.001921,
     "end_time": "2023-07-12T19:03:43.721909",
     "exception": false,
     "start_time": "2023-07-12T19:03:43.719988",
     "status": "completed"
    },
    "tags": []
   },
   "source": [
    "# My LEEDS 2023\n",
    "\n",
    "Prepares data for the My LEEDS 2023 page "
   ]
  },
  {
   "cell_type": "code",
   "execution_count": 1,
   "id": "4b2ea44c",
   "metadata": {
    "execution": {
     "iopub.execute_input": "2023-07-12T19:03:43.725796Z",
     "iopub.status.busy": "2023-07-12T19:03:43.725634Z",
     "iopub.status.idle": "2023-07-12T19:03:43.917709Z",
     "shell.execute_reply": "2023-07-12T19:03:43.917256Z"
    },
    "papermill": {
     "duration": 0.195225,
     "end_time": "2023-07-12T19:03:43.918785",
     "exception": false,
     "start_time": "2023-07-12T19:03:43.723560",
     "status": "completed"
    },
    "tags": []
   },
   "outputs": [],
   "source": [
    "import os\n",
    "import sys\n",
    "import pandas as pd\n",
    "import numpy as np"
   ]
  },
  {
   "cell_type": "code",
   "execution_count": 2,
   "id": "917110d6",
   "metadata": {
    "execution": {
     "iopub.execute_input": "2023-07-12T19:03:43.922912Z",
     "iopub.status.busy": "2023-07-12T19:03:43.922709Z",
     "iopub.status.idle": "2023-07-12T19:03:43.933378Z",
     "shell.execute_reply": "2023-07-12T19:03:43.933035Z"
    },
    "papermill": {
     "duration": 0.013975,
     "end_time": "2023-07-12T19:03:43.934500",
     "exception": false,
     "start_time": "2023-07-12T19:03:43.920525",
     "status": "completed"
    },
    "tags": []
   },
   "outputs": [],
   "source": [
    "lib_dir = os.path.abspath('../../../../lib/')\n",
    "if not lib_dir in sys.path: sys.path.append(lib_dir)\n",
    "\n",
    "import util.geo\n",
    "import util.convert"
   ]
  },
  {
   "cell_type": "markdown",
   "id": "34e1056c",
   "metadata": {
    "papermill": {
     "duration": 0.001817,
     "end_time": "2023-07-12T19:03:43.937953",
     "exception": false,
     "start_time": "2023-07-12T19:03:43.936136",
     "status": "completed"
    },
    "tags": []
   },
   "source": [
    "Read in event data and filter by past / current (starting before today) tagged with the appropriate project name and event type"
   ]
  },
  {
   "cell_type": "code",
   "execution_count": 3,
   "id": "20ff3107",
   "metadata": {
    "execution": {
     "iopub.execute_input": "2023-07-12T19:03:43.942161Z",
     "iopub.status.busy": "2023-07-12T19:03:43.941991Z",
     "iopub.status.idle": "2023-07-12T19:03:43.950855Z",
     "shell.execute_reply": "2023-07-12T19:03:43.950525Z"
    },
    "papermill": {
     "duration": 0.012045,
     "end_time": "2023-07-12T19:03:43.951617",
     "exception": false,
     "start_time": "2023-07-12T19:03:43.939572",
     "status": "completed"
    },
    "tags": []
   },
   "outputs": [],
   "source": [
    "data = pd.read_csv('../../../../data/metrics/events/master/all.csv', parse_dates=['start_date'])\n",
    "data = data.loc[\n",
    "    (data.project_type == 'Produce (Signature)') &\n",
    "    (data.project_name == '12 - My LEEDS 2023') &\n",
    "    (data.event_type.str.contains('Public Event -')) &\n",
    "    (data.start_date < pd.Timestamp.now())\n",
    "]"
   ]
  },
  {
   "cell_type": "markdown",
   "id": "c82cc6e3",
   "metadata": {
    "papermill": {
     "duration": 0.001491,
     "end_time": "2023-07-12T19:03:43.954809",
     "exception": false,
     "start_time": "2023-07-12T19:03:43.953318",
     "status": "completed"
    },
    "tags": []
   },
   "source": [
    "Calculate series of wards"
   ]
  },
  {
   "cell_type": "code",
   "execution_count": 4,
   "id": "4c39130d",
   "metadata": {
    "execution": {
     "iopub.execute_input": "2023-07-12T19:03:43.958472Z",
     "iopub.status.busy": "2023-07-12T19:03:43.958291Z",
     "iopub.status.idle": "2023-07-12T19:03:43.961445Z",
     "shell.execute_reply": "2023-07-12T19:03:43.961148Z"
    },
    "papermill": {
     "duration": 0.005735,
     "end_time": "2023-07-12T19:03:43.962055",
     "exception": false,
     "start_time": "2023-07-12T19:03:43.956320",
     "status": "completed"
    },
    "tags": []
   },
   "outputs": [],
   "source": [
    "wards = data['ward_(from_venue)'].fillna(value='[]').pipe(util.convert.literal_converter).apply(np.unique)"
   ]
  },
  {
   "cell_type": "markdown",
   "id": "339e3f38",
   "metadata": {
    "papermill": {
     "duration": 0.001833,
     "end_time": "2023-07-12T19:03:43.965494",
     "exception": false,
     "start_time": "2023-07-12T19:03:43.963661",
     "status": "completed"
    },
    "tags": []
   },
   "source": [
    "Print a list of events which have no ward, or more than one"
   ]
  },
  {
   "cell_type": "code",
   "execution_count": 5,
   "id": "e5d38b7c",
   "metadata": {
    "execution": {
     "iopub.execute_input": "2023-07-12T19:03:43.969356Z",
     "iopub.status.busy": "2023-07-12T19:03:43.969147Z",
     "iopub.status.idle": "2023-07-12T19:03:43.978668Z",
     "shell.execute_reply": "2023-07-12T19:03:43.978368Z"
    },
    "papermill": {
     "duration": 0.012324,
     "end_time": "2023-07-12T19:03:43.979380",
     "exception": false,
     "start_time": "2023-07-12T19:03:43.967056",
     "status": "completed"
    },
    "tags": []
   },
   "outputs": [
    {
     "data": {
      "text/html": [
       "<div>\n",
       "<style scoped>\n",
       "    .dataframe tbody tr th:only-of-type {\n",
       "        vertical-align: middle;\n",
       "    }\n",
       "\n",
       "    .dataframe tbody tr th {\n",
       "        vertical-align: top;\n",
       "    }\n",
       "\n",
       "    .dataframe thead th {\n",
       "        text-align: right;\n",
       "    }\n",
       "</style>\n",
       "<table border=\"1\" class=\"dataframe\">\n",
       "  <thead>\n",
       "    <tr style=\"text-align: right;\">\n",
       "      <th></th>\n",
       "      <th>project_name</th>\n",
       "      <th>event_name</th>\n",
       "      <th>event_type</th>\n",
       "      <th>season</th>\n",
       "      <th>start_date</th>\n",
       "      <th>airtable_id</th>\n",
       "      <th>actual_audience_size_number_of_participants_in_person</th>\n",
       "      <th>event_unique_identifier</th>\n",
       "      <th>project_type</th>\n",
       "      <th>ward_(from_venue)</th>\n",
       "      <th>postcode_(from_venue)</th>\n",
       "      <th>end_date</th>\n",
       "      <th>number_of_booked_participants</th>\n",
       "      <th>actual_audience_size_number_of_participants_online</th>\n",
       "    </tr>\n",
       "  </thead>\n",
       "  <tbody>\n",
       "    <tr>\n",
       "      <th>11</th>\n",
       "      <td>12 - My LEEDS 2023</td>\n",
       "      <td>My Leeds Event Day 1 (Live Activation)</td>\n",
       "      <td>['Public Event - Performance']</td>\n",
       "      <td>['Season 2 - Playing']</td>\n",
       "      <td>2023-07-08</td>\n",
       "      <td>265</td>\n",
       "      <td>NaN</td>\n",
       "      <td>12 - My LEEDS 2023: My Leeds Event Day 1 (Live...</td>\n",
       "      <td>Produce (Signature)</td>\n",
       "      <td>NaN</td>\n",
       "      <td>NaN</td>\n",
       "      <td>2023-07-09</td>\n",
       "      <td>NaN</td>\n",
       "      <td>NaN</td>\n",
       "    </tr>\n",
       "    <tr>\n",
       "      <th>506</th>\n",
       "      <td>12 - My LEEDS 2023</td>\n",
       "      <td>The Gift: digital gift launch</td>\n",
       "      <td>['Public Event - Digital Experience']</td>\n",
       "      <td>['Season 2 - Playing']</td>\n",
       "      <td>2023-06-19</td>\n",
       "      <td>656</td>\n",
       "      <td>NaN</td>\n",
       "      <td>12 - My LEEDS 2023: The Gift: digital gift lau...</td>\n",
       "      <td>Produce (Signature)</td>\n",
       "      <td>NaN</td>\n",
       "      <td>NaN</td>\n",
       "      <td>2023-06-19</td>\n",
       "      <td>NaN</td>\n",
       "      <td>NaN</td>\n",
       "    </tr>\n",
       "    <tr>\n",
       "      <th>570</th>\n",
       "      <td>12 - My LEEDS 2023</td>\n",
       "      <td>The Gift: Garments</td>\n",
       "      <td>['Public Event - Installation']</td>\n",
       "      <td>['Season 2 - Playing']</td>\n",
       "      <td>2023-06-17</td>\n",
       "      <td>657</td>\n",
       "      <td>NaN</td>\n",
       "      <td>12 - My LEEDS 2023: The Gift: Garments</td>\n",
       "      <td>Produce (Signature)</td>\n",
       "      <td>NaN</td>\n",
       "      <td>NaN</td>\n",
       "      <td>2023-08-27</td>\n",
       "      <td>NaN</td>\n",
       "      <td>NaN</td>\n",
       "    </tr>\n",
       "    <tr>\n",
       "      <th>686</th>\n",
       "      <td>12 - My LEEDS 2023</td>\n",
       "      <td>My LEEDS Summer: Alwoodley Festival of Sport a...</td>\n",
       "      <td>['Public Event - Performance']</td>\n",
       "      <td>['Season 2 - Playing']</td>\n",
       "      <td>2023-07-09</td>\n",
       "      <td>430</td>\n",
       "      <td>NaN</td>\n",
       "      <td>12 - My LEEDS 2023: My LEEDS Summer: Alwoodley...</td>\n",
       "      <td>Produce (Signature)</td>\n",
       "      <td>['Alwoodley', 'Alwoodley', 'Alwoodley', 'Alwoo...</td>\n",
       "      <td>['LS17 7NZ', 'LS17 7PF', 'LS17 5HX', 'LS17 7HL...</td>\n",
       "      <td>2023-07-09</td>\n",
       "      <td>NaN</td>\n",
       "      <td>NaN</td>\n",
       "    </tr>\n",
       "  </tbody>\n",
       "</table>\n",
       "</div>"
      ],
      "text/plain": [
       "           project_name                                         event_name  \\\n",
       "11   12 - My LEEDS 2023             My Leeds Event Day 1 (Live Activation)   \n",
       "506  12 - My LEEDS 2023                     The Gift: digital gift launch    \n",
       "570  12 - My LEEDS 2023                                 The Gift: Garments   \n",
       "686  12 - My LEEDS 2023  My LEEDS Summer: Alwoodley Festival of Sport a...   \n",
       "\n",
       "                                event_type                  season start_date  \\\n",
       "11          ['Public Event - Performance']  ['Season 2 - Playing'] 2023-07-08   \n",
       "506  ['Public Event - Digital Experience']  ['Season 2 - Playing'] 2023-06-19   \n",
       "570        ['Public Event - Installation']  ['Season 2 - Playing'] 2023-06-17   \n",
       "686         ['Public Event - Performance']  ['Season 2 - Playing'] 2023-07-09   \n",
       "\n",
       "     airtable_id  actual_audience_size_number_of_participants_in_person  \\\n",
       "11           265                                                NaN       \n",
       "506          656                                                NaN       \n",
       "570          657                                                NaN       \n",
       "686          430                                                NaN       \n",
       "\n",
       "                               event_unique_identifier         project_type  \\\n",
       "11   12 - My LEEDS 2023: My Leeds Event Day 1 (Live...  Produce (Signature)   \n",
       "506  12 - My LEEDS 2023: The Gift: digital gift lau...  Produce (Signature)   \n",
       "570             12 - My LEEDS 2023: The Gift: Garments  Produce (Signature)   \n",
       "686  12 - My LEEDS 2023: My LEEDS Summer: Alwoodley...  Produce (Signature)   \n",
       "\n",
       "                                     ward_(from_venue)  \\\n",
       "11                                                 NaN   \n",
       "506                                                NaN   \n",
       "570                                                NaN   \n",
       "686  ['Alwoodley', 'Alwoodley', 'Alwoodley', 'Alwoo...   \n",
       "\n",
       "                                 postcode_(from_venue)    end_date  \\\n",
       "11                                                 NaN  2023-07-09   \n",
       "506                                                NaN  2023-06-19   \n",
       "570                                                NaN  2023-08-27   \n",
       "686  ['LS17 7NZ', 'LS17 7PF', 'LS17 5HX', 'LS17 7HL...  2023-07-09   \n",
       "\n",
       "     number_of_booked_participants  \\\n",
       "11                             NaN   \n",
       "506                            NaN   \n",
       "570                            NaN   \n",
       "686                            NaN   \n",
       "\n",
       "     actual_audience_size_number_of_participants_online  \n",
       "11                                                 NaN   \n",
       "506                                                NaN   \n",
       "570                                                NaN   \n",
       "686                                                NaN   "
      ]
     },
     "execution_count": 5,
     "metadata": {},
     "output_type": "execute_result"
    }
   ],
   "source": [
    "data[wards.apply(len) != 1]"
   ]
  },
  {
   "cell_type": "markdown",
   "id": "e4a1b19c",
   "metadata": {
    "papermill": {
     "duration": 0.001696,
     "end_time": "2023-07-12T19:03:43.982920",
     "exception": false,
     "start_time": "2023-07-12T19:03:43.981224",
     "status": "completed"
    },
    "tags": []
   },
   "source": [
    "Pick the first ward in the list and create a new column"
   ]
  },
  {
   "cell_type": "code",
   "execution_count": 6,
   "id": "7db465e8",
   "metadata": {
    "execution": {
     "iopub.execute_input": "2023-07-12T19:03:43.987067Z",
     "iopub.status.busy": "2023-07-12T19:03:43.986840Z",
     "iopub.status.idle": "2023-07-12T19:03:44.017839Z",
     "shell.execute_reply": "2023-07-12T19:03:44.017443Z"
    },
    "papermill": {
     "duration": 0.034061,
     "end_time": "2023-07-12T19:03:44.018626",
     "exception": false,
     "start_time": "2023-07-12T19:03:43.984565",
     "status": "completed"
    },
    "tags": []
   },
   "outputs": [],
   "source": [
    "data['ward_code'] = wards.apply(lambda x: x[0] if len(x) > 0 else np.nan).pipe(util.geo.normalise_leeds_wards).pipe(util.geo.ward_name_to_code)"
   ]
  },
  {
   "cell_type": "markdown",
   "id": "71a629ad",
   "metadata": {
    "papermill": {
     "duration": 0.00259,
     "end_time": "2023-07-12T19:03:44.023125",
     "exception": false,
     "start_time": "2023-07-12T19:03:44.020535",
     "status": "completed"
    },
    "tags": []
   },
   "source": [
    "Calculate audience size"
   ]
  },
  {
   "cell_type": "code",
   "execution_count": 7,
   "id": "b7607f12",
   "metadata": {
    "execution": {
     "iopub.execute_input": "2023-07-12T19:03:44.028243Z",
     "iopub.status.busy": "2023-07-12T19:03:44.028017Z",
     "iopub.status.idle": "2023-07-12T19:03:44.030956Z",
     "shell.execute_reply": "2023-07-12T19:03:44.030635Z"
    },
    "papermill": {
     "duration": 0.00618,
     "end_time": "2023-07-12T19:03:44.031703",
     "exception": false,
     "start_time": "2023-07-12T19:03:44.025523",
     "status": "completed"
    },
    "tags": []
   },
   "outputs": [],
   "source": [
    "data['audience_size'] = data.actual_audience_size_number_of_participants_in_person.fillna(0) + data.actual_audience_size_number_of_participants_online.fillna(0)"
   ]
  },
  {
   "cell_type": "markdown",
   "id": "fa1d0da7",
   "metadata": {
    "papermill": {
     "duration": 0.002083,
     "end_time": "2023-07-12T19:03:44.035749",
     "exception": false,
     "start_time": "2023-07-12T19:03:44.033666",
     "status": "completed"
    },
    "tags": []
   },
   "source": [
    "Create output directory"
   ]
  },
  {
   "cell_type": "code",
   "execution_count": 8,
   "id": "9f69a238",
   "metadata": {
    "execution": {
     "iopub.execute_input": "2023-07-12T19:03:44.040437Z",
     "iopub.status.busy": "2023-07-12T19:03:44.040224Z",
     "iopub.status.idle": "2023-07-12T19:03:44.042681Z",
     "shell.execute_reply": "2023-07-12T19:03:44.042321Z"
    },
    "papermill": {
     "duration": 0.005705,
     "end_time": "2023-07-12T19:03:44.043432",
     "exception": false,
     "start_time": "2023-07-12T19:03:44.037727",
     "status": "completed"
    },
    "tags": []
   },
   "outputs": [],
   "source": [
    "OUT_DIR = '../../../../docs/metrics/events/my-leeds-2023/_data/events'\n",
    "os.makedirs(OUT_DIR, exist_ok=True)"
   ]
  },
  {
   "cell_type": "markdown",
   "id": "8f65766f",
   "metadata": {
    "papermill": {
     "duration": 0.001775,
     "end_time": "2023-07-12T19:03:44.047031",
     "exception": false,
     "start_time": "2023-07-12T19:03:44.045256",
     "status": "completed"
    },
    "tags": []
   },
   "source": [
    "Create counts of events by ward and save CSV"
   ]
  },
  {
   "cell_type": "code",
   "execution_count": 9,
   "id": "e4689f20",
   "metadata": {
    "execution": {
     "iopub.execute_input": "2023-07-12T19:03:44.051396Z",
     "iopub.status.busy": "2023-07-12T19:03:44.051228Z",
     "iopub.status.idle": "2023-07-12T19:03:44.056395Z",
     "shell.execute_reply": "2023-07-12T19:03:44.056072Z"
    },
    "papermill": {
     "duration": 0.008332,
     "end_time": "2023-07-12T19:03:44.057157",
     "exception": false,
     "start_time": "2023-07-12T19:03:44.048825",
     "status": "completed"
    },
    "tags": []
   },
   "outputs": [],
   "source": [
    "by_ward = pd.DataFrame(\n",
    "  {\n",
    "    'events': data.groupby('ward_code').audience_size.count(),\n",
    "    'audience': data.groupby('ward_code').audience_size.sum(),\n",
    "  }\n",
    ")\n",
    "by_ward.to_csv(os.path.join(OUT_DIR, 'by_ward.csv'))"
   ]
  },
  {
   "cell_type": "markdown",
   "id": "acf72b8a",
   "metadata": {
    "papermill": {
     "duration": 0.003253,
     "end_time": "2023-07-12T19:03:44.063277",
     "exception": false,
     "start_time": "2023-07-12T19:03:44.060024",
     "status": "completed"
    },
    "tags": []
   },
   "source": [
    "Create summary by week"
   ]
  },
  {
   "cell_type": "code",
   "execution_count": 10,
   "id": "e9917939",
   "metadata": {
    "execution": {
     "iopub.execute_input": "2023-07-12T19:03:44.068002Z",
     "iopub.status.busy": "2023-07-12T19:03:44.067679Z",
     "iopub.status.idle": "2023-07-12T19:03:44.079346Z",
     "shell.execute_reply": "2023-07-12T19:03:44.078800Z"
    },
    "papermill": {
     "duration": 0.015506,
     "end_time": "2023-07-12T19:03:44.080724",
     "exception": false,
     "start_time": "2023-07-12T19:03:44.065218",
     "status": "completed"
    },
    "tags": []
   },
   "outputs": [],
   "source": [
    "by_week = pd.DataFrame({\n",
    "  'events': data.groupby('start_date').audience_size.count(),\n",
    "  'audience': data.groupby('start_date').audience_size.sum().astype(int)\n",
    "}).resample('W-FRI').sum()\n",
    "by_week.index.name = 'week_ending'\n",
    "by_week['cumulative_events'] = by_week.events.cumsum()\n",
    "by_week['cumulative_audience'] = by_week.audience.cumsum()\n",
    "by_week.to_csv(os.path.join(OUT_DIR, 'by_week.csv'))"
   ]
  },
  {
   "cell_type": "markdown",
   "id": "0eddaf78",
   "metadata": {
    "papermill": {
     "duration": 0.002288,
     "end_time": "2023-07-12T19:03:44.085634",
     "exception": false,
     "start_time": "2023-07-12T19:03:44.083346",
     "status": "completed"
    },
    "tags": []
   },
   "source": [
    "Create summary by month"
   ]
  },
  {
   "cell_type": "code",
   "execution_count": 11,
   "id": "cc0ec038",
   "metadata": {
    "execution": {
     "iopub.execute_input": "2023-07-12T19:03:44.090798Z",
     "iopub.status.busy": "2023-07-12T19:03:44.090546Z",
     "iopub.status.idle": "2023-07-12T19:03:44.099878Z",
     "shell.execute_reply": "2023-07-12T19:03:44.099215Z"
    },
    "papermill": {
     "duration": 0.013112,
     "end_time": "2023-07-12T19:03:44.100927",
     "exception": false,
     "start_time": "2023-07-12T19:03:44.087815",
     "status": "completed"
    },
    "tags": []
   },
   "outputs": [],
   "source": [
    "by_month = by_week.resample('M').sum()\n",
    "by_month['cumulative_events'] = by_month.events.cumsum()\n",
    "by_month['cumulative_audience'] = by_month.audience.cumsum()\n",
    "by_month.index.name = 'month_ending'\n",
    "by_month.to_csv(os.path.join(OUT_DIR, 'by_month.csv'))"
   ]
  },
  {
   "cell_type": "markdown",
   "id": "0135511a",
   "metadata": {
    "papermill": {
     "duration": 0.003365,
     "end_time": "2023-07-12T19:03:44.107294",
     "exception": false,
     "start_time": "2023-07-12T19:03:44.103929",
     "status": "completed"
    },
    "tags": []
   },
   "source": [
    "Create headline counts of events"
   ]
  },
  {
   "cell_type": "code",
   "execution_count": 12,
   "id": "9fe2c53d",
   "metadata": {
    "execution": {
     "iopub.execute_input": "2023-07-12T19:03:44.114397Z",
     "iopub.status.busy": "2023-07-12T19:03:44.114193Z",
     "iopub.status.idle": "2023-07-12T19:03:44.117495Z",
     "shell.execute_reply": "2023-07-12T19:03:44.117141Z"
    },
    "papermill": {
     "duration": 0.008029,
     "end_time": "2023-07-12T19:03:44.118401",
     "exception": false,
     "start_time": "2023-07-12T19:03:44.110372",
     "status": "completed"
    },
    "tags": []
   },
   "outputs": [],
   "source": [
    "by_month.drop(\n",
    "    columns=['events', 'audience']\n",
    ").rename(\n",
    "    columns=lambda n: n.replace('cumulative', 'total')\n",
    ").iloc[-1].to_json(os.path.join(OUT_DIR, 'headlines.json'))"
   ]
  }
 ],
 "metadata": {
  "kernelspec": {
   "display_name": "leeds-2023-YZF5GfJv",
   "language": "python",
   "name": "python3"
  },
  "language_info": {
   "codemirror_mode": {
    "name": "ipython",
    "version": 3
   },
   "file_extension": ".py",
   "mimetype": "text/x-python",
   "name": "python",
   "nbconvert_exporter": "python",
   "pygments_lexer": "ipython3",
   "version": "3.10.6"
  },
  "papermill": {
   "default_parameters": {},
   "duration": 1.328213,
   "end_time": "2023-07-12T19:03:44.335870",
   "environment_variables": {},
   "exception": null,
   "input_path": "my-leeds-2023.ipynb",
   "output_path": "../../../../working/output/my-leeds-2023.ipynb",
   "parameters": {},
   "start_time": "2023-07-12T19:03:43.007657",
   "version": "2.4.0"
  }
 },
 "nbformat": 4,
 "nbformat_minor": 5
}