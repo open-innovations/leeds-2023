{
 "cells": [
  {
   "cell_type": "markdown",
   "id": "e2ce5a47",
   "metadata": {
    "papermill": {
     "duration": 0.006361,
     "end_time": "2023-10-25T23:38:48.750859",
     "exception": false,
     "start_time": "2023-10-25T23:38:48.744498",
     "status": "completed"
    },
    "tags": []
   },
   "source": [
    "# Nest\n",
    "\n",
    "Prepares data for the Nest page "
   ]
  },
  {
   "cell_type": "code",
   "execution_count": 1,
   "id": "35309e97",
   "metadata": {
    "execution": {
     "iopub.execute_input": "2023-10-25T23:38:48.760156Z",
     "iopub.status.busy": "2023-10-25T23:38:48.759779Z",
     "iopub.status.idle": "2023-10-25T23:39:03.396989Z",
     "shell.execute_reply": "2023-10-25T23:39:03.395889Z"
    },
    "papermill": {
     "duration": 14.648347,
     "end_time": "2023-10-25T23:39:03.402250",
     "exception": false,
     "start_time": "2023-10-25T23:38:48.753903",
     "status": "completed"
    },
    "tags": []
   },
   "outputs": [],
   "source": [
    "import os\n",
    "from events import (\n",
    "    load_event_data, filter_public_events, filter_by_project, prepare, save_files, count_wards\n",
    ")"
   ]
  },
  {
   "cell_type": "markdown",
   "id": "9cc6f3b5",
   "metadata": {
    "papermill": {
     "duration": 0.002705,
     "end_time": "2023-10-25T23:39:03.407870",
     "exception": false,
     "start_time": "2023-10-25T23:39:03.405165",
     "status": "completed"
    },
    "tags": []
   },
   "source": [
    "Set output directory"
   ]
  },
  {
   "cell_type": "code",
   "execution_count": 2,
   "id": "638a4a88",
   "metadata": {
    "execution": {
     "iopub.execute_input": "2023-10-25T23:39:03.415650Z",
     "iopub.status.busy": "2023-10-25T23:39:03.413744Z",
     "iopub.status.idle": "2023-10-25T23:39:03.420614Z",
     "shell.execute_reply": "2023-10-25T23:39:03.419574Z"
    },
    "papermill": {
     "duration": 0.01303,
     "end_time": "2023-10-25T23:39:03.423241",
     "exception": false,
     "start_time": "2023-10-25T23:39:03.410211",
     "status": "completed"
    },
    "tags": []
   },
   "outputs": [],
   "source": [
    "OUT_DIR = '../../../../docs/metrics/events/nest/_data/events'"
   ]
  },
  {
   "cell_type": "markdown",
   "id": "37743ad8",
   "metadata": {
    "papermill": {
     "duration": 0.003151,
     "end_time": "2023-10-25T23:39:03.428618",
     "exception": false,
     "start_time": "2023-10-25T23:39:03.425467",
     "status": "completed"
    },
    "tags": []
   },
   "source": [
    "Read in event data and filter by **My LEEDS 2023** project.\n",
    "\n",
    "The criteria are:\n",
    "\n",
    "* project type is 'Produce (Signature)'\n",
    "* event_type contains 'Public Event -'\n",
    "\n",
    "It's then filtered by project_name is '10 - Melt'"
   ]
  },
  {
   "cell_type": "code",
   "execution_count": 3,
   "id": "1358ddb0",
   "metadata": {
    "execution": {
     "iopub.execute_input": "2023-10-25T23:39:03.434586Z",
     "iopub.status.busy": "2023-10-25T23:39:03.434257Z",
     "iopub.status.idle": "2023-10-25T23:39:03.472475Z",
     "shell.execute_reply": "2023-10-25T23:39:03.471565Z"
    },
    "papermill": {
     "duration": 0.04369,
     "end_time": "2023-10-25T23:39:03.474562",
     "exception": false,
     "start_time": "2023-10-25T23:39:03.430872",
     "status": "completed"
    },
    "tags": []
   },
   "outputs": [
    {
     "data": {
      "text/html": [
       "<div>\n",
       "<style scoped>\n",
       "    .dataframe tbody tr th:only-of-type {\n",
       "        vertical-align: middle;\n",
       "    }\n",
       "\n",
       "    .dataframe tbody tr th {\n",
       "        vertical-align: top;\n",
       "    }\n",
       "\n",
       "    .dataframe thead th {\n",
       "        text-align: right;\n",
       "    }\n",
       "</style>\n",
       "<table border=\"1\" class=\"dataframe\">\n",
       "  <thead>\n",
       "    <tr style=\"text-align: right;\">\n",
       "      <th></th>\n",
       "      <th>actual_audience_size_number_of_participants_in_person</th>\n",
       "      <th>actual_audience_size_number_of_participants_online</th>\n",
       "      <th>airtable_id</th>\n",
       "      <th>end_date</th>\n",
       "      <th>event_name</th>\n",
       "      <th>event_type</th>\n",
       "      <th>event_unique_identifier</th>\n",
       "      <th>number_of_booked_participants</th>\n",
       "      <th>postcode_(from_venue)</th>\n",
       "      <th>project_name</th>\n",
       "      <th>project_type</th>\n",
       "      <th>season</th>\n",
       "      <th>start_date</th>\n",
       "      <th>ward_(from_venue)</th>\n",
       "    </tr>\n",
       "  </thead>\n",
       "  <tbody>\n",
       "    <tr>\n",
       "      <th>1104</th>\n",
       "      <td>1338.0</td>\n",
       "      <td>NaN</td>\n",
       "      <td>241</td>\n",
       "      <td>2023-09-09</td>\n",
       "      <td>Melt (Run)</td>\n",
       "      <td>['Public Event - Performance']</td>\n",
       "      <td>10 - Melt: Melt (Run)</td>\n",
       "      <td>1542.0</td>\n",
       "      <td>['LS26 8AL']</td>\n",
       "      <td>10 - Melt</td>\n",
       "      <td>Produce (Signature)</td>\n",
       "      <td>['Season 3 - Dreaming']</td>\n",
       "      <td>2023-09-05</td>\n",
       "      <td>['Garforth and Swillington']</td>\n",
       "    </tr>\n",
       "  </tbody>\n",
       "</table>\n",
       "</div>"
      ],
      "text/plain": [
       "      actual_audience_size_number_of_participants_in_person  \\\n",
       "1104                                             1338.0       \n",
       "\n",
       "      actual_audience_size_number_of_participants_online  airtable_id  \\\n",
       "1104                                                NaN           241   \n",
       "\n",
       "        end_date  event_name                      event_type  \\\n",
       "1104  2023-09-09  Melt (Run)  ['Public Event - Performance']   \n",
       "\n",
       "     event_unique_identifier  number_of_booked_participants  \\\n",
       "1104   10 - Melt: Melt (Run)                         1542.0   \n",
       "\n",
       "     postcode_(from_venue) project_name         project_type  \\\n",
       "1104          ['LS26 8AL']    10 - Melt  Produce (Signature)   \n",
       "\n",
       "                       season start_date             ward_(from_venue)  \n",
       "1104  ['Season 3 - Dreaming'] 2023-09-05  ['Garforth and Swillington']  "
      ]
     },
     "execution_count": 3,
     "metadata": {},
     "output_type": "execute_result"
    }
   ],
   "source": [
    "data = (\n",
    "  load_event_data()\n",
    "    .pipe(filter_by_project, '10 - Melt')\n",
    "    .pipe(filter_public_events)\n",
    "  )\n",
    "data"
   ]
  },
  {
   "cell_type": "markdown",
   "id": "532238bf",
   "metadata": {
    "papermill": {
     "duration": 0.002608,
     "end_time": "2023-10-25T23:39:03.479917",
     "exception": false,
     "start_time": "2023-10-25T23:39:03.477309",
     "status": "completed"
    },
    "tags": []
   },
   "source": [
    "Run the processing and save the files"
   ]
  },
  {
   "cell_type": "code",
   "execution_count": 4,
   "id": "05f619b6",
   "metadata": {
    "execution": {
     "iopub.execute_input": "2023-10-25T23:39:03.487341Z",
     "iopub.status.busy": "2023-10-25T23:39:03.486728Z",
     "iopub.status.idle": "2023-10-25T23:39:03.528394Z",
     "shell.execute_reply": "2023-10-25T23:39:03.527279Z"
    },
    "papermill": {
     "duration": 0.048896,
     "end_time": "2023-10-25T23:39:03.531269",
     "exception": false,
     "start_time": "2023-10-25T23:39:03.482373",
     "status": "completed"
    },
    "tags": []
   },
   "outputs": [],
   "source": [
    "data = data.pipe(prepare).pipe(save_files, OUT_DIR)"
   ]
  }
 ],
 "metadata": {
  "kernelspec": {
   "display_name": "leeds-2023-YZF5GfJv",
   "language": "python",
   "name": "python3"
  },
  "language_info": {
   "codemirror_mode": {
    "name": "ipython",
    "version": 3
   },
   "file_extension": ".py",
   "mimetype": "text/x-python",
   "name": "python",
   "nbconvert_exporter": "python",
   "pygments_lexer": "ipython3",
   "version": "3.10.13"
  },
  "papermill": {
   "default_parameters": {},
   "duration": 17.164368,
   "end_time": "2023-10-25T23:39:04.055075",
   "environment_variables": {},
   "exception": null,
   "input_path": "nest.ipynb",
   "output_path": "../../../../working/output/nest.ipynb",
   "parameters": {},
   "start_time": "2023-10-25T23:38:46.890707",
   "version": "2.4.0"
  }
 },
 "nbformat": 4,
 "nbformat_minor": 5
}