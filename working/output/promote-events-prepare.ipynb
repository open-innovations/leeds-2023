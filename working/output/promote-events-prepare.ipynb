{
 "cells": [
  {
   "cell_type": "code",
   "execution_count": 1,
   "id": "0bcd3a1f",
   "metadata": {
    "execution": {
     "iopub.execute_input": "2023-08-07T23:39:55.373873Z",
     "iopub.status.busy": "2023-08-07T23:39:55.373237Z",
     "iopub.status.idle": "2023-08-07T23:39:55.654719Z",
     "shell.execute_reply": "2023-08-07T23:39:55.653757Z"
    },
    "papermill": {
     "duration": 0.287431,
     "end_time": "2023-08-07T23:39:55.657013",
     "exception": false,
     "start_time": "2023-08-07T23:39:55.369582",
     "status": "completed"
    },
    "tags": []
   },
   "outputs": [],
   "source": [
    "import os\n",
    "import pandas as pd"
   ]
  },
  {
   "cell_type": "code",
   "execution_count": 2,
   "id": "61b82842",
   "metadata": {
    "execution": {
     "iopub.execute_input": "2023-08-07T23:39:55.662135Z",
     "iopub.status.busy": "2023-08-07T23:39:55.661667Z",
     "iopub.status.idle": "2023-08-07T23:39:55.667112Z",
     "shell.execute_reply": "2023-08-07T23:39:55.666254Z"
    },
    "papermill": {
     "duration": 0.010088,
     "end_time": "2023-08-07T23:39:55.669103",
     "exception": false,
     "start_time": "2023-08-07T23:39:55.659015",
     "status": "completed"
    },
    "tags": []
   },
   "outputs": [],
   "source": [
    "DATA_DIR='../../../docs/metrics/events/promote/_data/'\n",
    "os.makedirs(DATA_DIR, exist_ok=True)"
   ]
  },
  {
   "cell_type": "code",
   "execution_count": 3,
   "id": "5ae9500b",
   "metadata": {
    "execution": {
     "iopub.execute_input": "2023-08-07T23:39:55.675303Z",
     "iopub.status.busy": "2023-08-07T23:39:55.675053Z",
     "iopub.status.idle": "2023-08-07T23:39:55.685558Z",
     "shell.execute_reply": "2023-08-07T23:39:55.684701Z"
    },
    "papermill": {
     "duration": 0.016549,
     "end_time": "2023-08-07T23:39:55.687285",
     "exception": false,
     "start_time": "2023-08-07T23:39:55.670736",
     "status": "completed"
    },
    "tags": []
   },
   "outputs": [],
   "source": [
    "data = pd.read_csv('../../../data/metrics/events/promote-events/events.csv', parse_dates=['time'])"
   ]
  },
  {
   "cell_type": "code",
   "execution_count": 4,
   "id": "80d5172b",
   "metadata": {
    "execution": {
     "iopub.execute_input": "2023-08-07T23:39:55.692078Z",
     "iopub.status.busy": "2023-08-07T23:39:55.691841Z",
     "iopub.status.idle": "2023-08-07T23:39:55.697588Z",
     "shell.execute_reply": "2023-08-07T23:39:55.696834Z"
    },
    "papermill": {
     "duration": 0.010356,
     "end_time": "2023-08-07T23:39:55.699321",
     "exception": false,
     "start_time": "2023-08-07T23:39:55.688965",
     "status": "completed"
    },
    "tags": []
   },
   "outputs": [],
   "source": [
    "pd.Series({\n",
    "    'total_events': len(data.id.unique()),\n",
    "    'total_event_instances': len(data.time),\n",
    "    'earliest_event': data.time.min(),\n",
    "    'latest_event': data.time.max(),\n",
    "}).to_json(\n",
    "    os.path.join(DATA_DIR, 'headlines.json'),\n",
    "    date_format='iso', indent=2\n",
    ")"
   ]
  },
  {
   "cell_type": "code",
   "execution_count": 5,
   "id": "d1c51ad4",
   "metadata": {
    "execution": {
     "iopub.execute_input": "2023-08-07T23:39:55.703832Z",
     "iopub.status.busy": "2023-08-07T23:39:55.703595Z",
     "iopub.status.idle": "2023-08-07T23:39:55.713125Z",
     "shell.execute_reply": "2023-08-07T23:39:55.712052Z"
    },
    "papermill": {
     "duration": 0.01388,
     "end_time": "2023-08-07T23:39:55.714855",
     "exception": false,
     "start_time": "2023-08-07T23:39:55.700975",
     "status": "completed"
    },
    "tags": []
   },
   "outputs": [],
   "source": [
    "events = pd.DataFrame({\n",
    "    'events': data.groupby('id').agg({ 'time': 'min' }).reset_index().groupby('time').id.count(),\n",
    "    'event_instances': data.groupby('time').id.count(),\n",
    "}).fillna(0).astype(int)"
   ]
  },
  {
   "cell_type": "code",
   "execution_count": 6,
   "id": "ce8be73e",
   "metadata": {
    "execution": {
     "iopub.execute_input": "2023-08-07T23:39:55.719513Z",
     "iopub.status.busy": "2023-08-07T23:39:55.719258Z",
     "iopub.status.idle": "2023-08-07T23:39:55.723273Z",
     "shell.execute_reply": "2023-08-07T23:39:55.722498Z"
    },
    "papermill": {
     "duration": 0.008805,
     "end_time": "2023-08-07T23:39:55.725438",
     "exception": false,
     "start_time": "2023-08-07T23:39:55.716633",
     "status": "completed"
    },
    "tags": []
   },
   "outputs": [],
   "source": [
    "def cumulate(data):\n",
    "    return pd.concat([\n",
    "        data,\n",
    "        data.cumsum().rename(columns=lambda c: f'cumulative_{c}')\n",
    "    ], axis=1)"
   ]
  },
  {
   "cell_type": "code",
   "execution_count": 7,
   "id": "6cedaf63",
   "metadata": {
    "execution": {
     "iopub.execute_input": "2023-08-07T23:39:55.730199Z",
     "iopub.status.busy": "2023-08-07T23:39:55.729964Z",
     "iopub.status.idle": "2023-08-07T23:39:55.741494Z",
     "shell.execute_reply": "2023-08-07T23:39:55.740690Z"
    },
    "papermill": {
     "duration": 0.015937,
     "end_time": "2023-08-07T23:39:55.743068",
     "exception": false,
     "start_time": "2023-08-07T23:39:55.727131",
     "status": "completed"
    },
    "tags": []
   },
   "outputs": [],
   "source": [
    "events.resample('W-FRI').sum().pipe(cumulate).to_csv(os.path.join(DATA_DIR, 'by_week.csv'))"
   ]
  },
  {
   "cell_type": "code",
   "execution_count": 8,
   "id": "cc385dd4",
   "metadata": {
    "execution": {
     "iopub.execute_input": "2023-08-07T23:39:55.748206Z",
     "iopub.status.busy": "2023-08-07T23:39:55.747701Z",
     "iopub.status.idle": "2023-08-07T23:39:55.754577Z",
     "shell.execute_reply": "2023-08-07T23:39:55.753605Z"
    },
    "papermill": {
     "duration": 0.011569,
     "end_time": "2023-08-07T23:39:55.756610",
     "exception": false,
     "start_time": "2023-08-07T23:39:55.745041",
     "status": "completed"
    },
    "tags": []
   },
   "outputs": [],
   "source": [
    "events.resample('MS').sum().pipe(cumulate).to_csv(os.path.join(DATA_DIR, 'by_month.csv'))"
   ]
  },
  {
   "cell_type": "code",
   "execution_count": null,
   "id": "c4dd69dc",
   "metadata": {
    "papermill": {
     "duration": 0.001805,
     "end_time": "2023-08-07T23:39:55.760165",
     "exception": false,
     "start_time": "2023-08-07T23:39:55.758360",
     "status": "completed"
    },
    "tags": []
   },
   "outputs": [],
   "source": []
  }
 ],
 "metadata": {
  "kernelspec": {
   "display_name": "leeds-2023-YZF5GfJv",
   "language": "python",
   "name": "python3"
  },
  "language_info": {
   "codemirror_mode": {
    "name": "ipython",
    "version": 3
   },
   "file_extension": ".py",
   "mimetype": "text/x-python",
   "name": "python",
   "nbconvert_exporter": "python",
   "pygments_lexer": "ipython3",
   "version": "3.10.6"
  },
  "papermill": {
   "default_parameters": {},
   "duration": 1.949823,
   "end_time": "2023-08-07T23:39:55.980656",
   "environment_variables": {},
   "exception": null,
   "input_path": "prepare.ipynb",
   "output_path": "../../../working/output/promote-events-prepare.ipynb",
   "parameters": {},
   "start_time": "2023-08-07T23:39:54.030833",
   "version": "2.4.0"
  }
 },
 "nbformat": 4,
 "nbformat_minor": 5
}