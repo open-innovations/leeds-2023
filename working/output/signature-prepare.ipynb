{
 "cells": [
  {
   "cell_type": "code",
   "execution_count": 1,
   "id": "89430ccd",
   "metadata": {
    "execution": {
     "iopub.execute_input": "2024-01-15T22:02:03.462746Z",
     "iopub.status.busy": "2024-01-15T22:02:03.462574Z",
     "iopub.status.idle": "2024-01-15T22:02:08.491663Z",
     "shell.execute_reply": "2024-01-15T22:02:08.491221Z"
    },
    "papermill": {
     "duration": 5.032616,
     "end_time": "2024-01-15T22:02:08.492787",
     "exception": false,
     "start_time": "2024-01-15T22:02:03.460171",
     "status": "completed"
    },
    "tags": []
   },
   "outputs": [],
   "source": [
    "import os\n",
    "import pandas as pd\n",
    "from events import load_event_data, get_first_ward, normalise_ward"
   ]
  },
  {
   "cell_type": "code",
   "execution_count": 2,
   "id": "ad19f15f",
   "metadata": {
    "execution": {
     "iopub.execute_input": "2024-01-15T22:02:08.495979Z",
     "iopub.status.busy": "2024-01-15T22:02:08.495840Z",
     "iopub.status.idle": "2024-01-15T22:02:08.498272Z",
     "shell.execute_reply": "2024-01-15T22:02:08.497964Z"
    },
    "papermill": {
     "duration": 0.004787,
     "end_time": "2024-01-15T22:02:08.498962",
     "exception": false,
     "start_time": "2024-01-15T22:02:08.494175",
     "status": "completed"
    },
    "tags": []
   },
   "outputs": [],
   "source": [
    "latest_date = pd.Timestamp.today().ceil('D')"
   ]
  },
  {
   "cell_type": "code",
   "execution_count": 3,
   "id": "0d5b1b8d",
   "metadata": {
    "execution": {
     "iopub.execute_input": "2024-01-15T22:02:08.501808Z",
     "iopub.status.busy": "2024-01-15T22:02:08.501622Z",
     "iopub.status.idle": "2024-01-15T22:02:08.513604Z",
     "shell.execute_reply": "2024-01-15T22:02:08.513215Z"
    },
    "papermill": {
     "duration": 0.014319,
     "end_time": "2024-01-15T22:02:08.514441",
     "exception": false,
     "start_time": "2024-01-15T22:02:08.500122",
     "status": "completed"
    },
    "tags": []
   },
   "outputs": [],
   "source": [
    "tickets = pd.read_csv('../../../../data/metrics/events/tickets/orders.csv', parse_dates=['created_at', 'event_date'])\n",
    "tickets = tickets[tickets.event_date <= latest_date]"
   ]
  },
  {
   "cell_type": "code",
   "execution_count": 4,
   "id": "2fb7b9bf",
   "metadata": {
    "execution": {
     "iopub.execute_input": "2024-01-15T22:02:08.517302Z",
     "iopub.status.busy": "2024-01-15T22:02:08.517156Z",
     "iopub.status.idle": "2024-01-15T22:02:08.549293Z",
     "shell.execute_reply": "2024-01-15T22:02:08.548869Z"
    },
    "papermill": {
     "duration": 0.034544,
     "end_time": "2024-01-15T22:02:08.550170",
     "exception": false,
     "start_time": "2024-01-15T22:02:08.515626",
     "status": "completed"
    },
    "tags": []
   },
   "outputs": [],
   "source": [
    "events = load_event_data()\n",
    "\n",
    "events = pd.concat([\n",
    "  events,\n",
    "  events.pipe(get_first_ward).pipe(normalise_ward).fillna('UNKNOWN'),\n",
    "  pd.Series(\n",
    "      events.actual_audience_size_number_of_participants_in_person + events.actual_audience_size_number_of_participants_online,\n",
    "      name='attendances'\n",
    "  )\n",
    "], axis=1).rename(columns={\n",
    "    'start_date': 'date'\n",
    "}).loc[:, ['ward_code', 'date', 'event_unique_identifier', 'attendances']]"
   ]
  },
  {
   "cell_type": "code",
   "execution_count": 5,
   "id": "1cd195fc",
   "metadata": {
    "execution": {
     "iopub.execute_input": "2024-01-15T22:02:08.553064Z",
     "iopub.status.busy": "2024-01-15T22:02:08.552913Z",
     "iopub.status.idle": "2024-01-15T22:02:08.554907Z",
     "shell.execute_reply": "2024-01-15T22:02:08.554646Z"
    },
    "papermill": {
     "duration": 0.004228,
     "end_time": "2024-01-15T22:02:08.555601",
     "exception": false,
     "start_time": "2024-01-15T22:02:08.551373",
     "status": "completed"
    },
    "tags": []
   },
   "outputs": [],
   "source": [
    "OUTPUT_DIR='../../../../docs/metrics/events/signature/_data/'\n",
    "os.makedirs(OUTPUT_DIR, exist_ok=True)"
   ]
  },
  {
   "cell_type": "markdown",
   "id": "9713ca73",
   "metadata": {
    "papermill": {
     "duration": 0.001055,
     "end_time": "2024-01-15T22:02:08.557799",
     "exception": false,
     "start_time": "2024-01-15T22:02:08.556744",
     "status": "completed"
    },
    "tags": []
   },
   "source": [
    "Events CSVs"
   ]
  },
  {
   "cell_type": "code",
   "execution_count": 6,
   "id": "eba68035",
   "metadata": {
    "execution": {
     "iopub.execute_input": "2024-01-15T22:02:08.560369Z",
     "iopub.status.busy": "2024-01-15T22:02:08.560240Z",
     "iopub.status.idle": "2024-01-15T22:02:08.564032Z",
     "shell.execute_reply": "2024-01-15T22:02:08.563724Z"
    },
    "papermill": {
     "duration": 0.005846,
     "end_time": "2024-01-15T22:02:08.564688",
     "exception": false,
     "start_time": "2024-01-15T22:02:08.558842",
     "status": "completed"
    },
    "tags": []
   },
   "outputs": [],
   "source": [
    "pd.DataFrame({\n",
    "  'events': events.groupby('ward_code').event_unique_identifier.count(),\n",
    "  'attendances': events.groupby('ward_code').attendances.sum().astype(int),\n",
    "}).to_csv(os.path.join(OUTPUT_DIR, 'events_by_ward.csv'))\n"
   ]
  },
  {
   "cell_type": "code",
   "execution_count": 7,
   "id": "51066032",
   "metadata": {
    "execution": {
     "iopub.execute_input": "2024-01-15T22:02:08.567458Z",
     "iopub.status.busy": "2024-01-15T22:02:08.567327Z",
     "iopub.status.idle": "2024-01-15T22:02:08.573814Z",
     "shell.execute_reply": "2024-01-15T22:02:08.573411Z"
    },
    "papermill": {
     "duration": 0.008821,
     "end_time": "2024-01-15T22:02:08.574674",
     "exception": false,
     "start_time": "2024-01-15T22:02:08.565853",
     "status": "completed"
    },
    "tags": []
   },
   "outputs": [],
   "source": [
    "pd.DataFrame({\n",
    "  'events': events.groupby('date').event_unique_identifier.count(),\n",
    "  'attendances': events.groupby('date').attendances.sum().astype(int),\n",
    "}).resample('M').sum().cumsum().astype(int).to_csv(os.path.join(OUTPUT_DIR, 'events_by_date.csv'))"
   ]
  },
  {
   "cell_type": "markdown",
   "id": "7813ad6d",
   "metadata": {
    "papermill": {
     "duration": 0.001212,
     "end_time": "2024-01-15T22:02:08.577140",
     "exception": false,
     "start_time": "2024-01-15T22:02:08.575928",
     "status": "completed"
    },
    "tags": []
   },
   "source": [
    "Tickets CSV"
   ]
  },
  {
   "cell_type": "code",
   "execution_count": 8,
   "id": "8be81314",
   "metadata": {
    "execution": {
     "iopub.execute_input": "2024-01-15T22:02:08.580001Z",
     "iopub.status.busy": "2024-01-15T22:02:08.579871Z",
     "iopub.status.idle": "2024-01-15T22:02:08.584275Z",
     "shell.execute_reply": "2024-01-15T22:02:08.583956Z"
    },
    "papermill": {
     "duration": 0.006676,
     "end_time": "2024-01-15T22:02:08.584974",
     "exception": false,
     "start_time": "2024-01-15T22:02:08.578298",
     "status": "completed"
    },
    "tags": []
   },
   "outputs": [],
   "source": [
    "pd.DataFrame({\n",
    "  'orders': tickets.groupby('ward_code').number_of_tickets.count(),\n",
    "  'tickets': tickets.groupby('ward_code').number_of_tickets.sum().astype(int),\n",
    "}).to_csv(os.path.join(OUTPUT_DIR, 'tickets_by_ward.csv'))"
   ]
  },
  {
   "cell_type": "code",
   "execution_count": 9,
   "id": "6c5a0b4f",
   "metadata": {
    "execution": {
     "iopub.execute_input": "2024-01-15T22:02:08.588330Z",
     "iopub.status.busy": "2024-01-15T22:02:08.588196Z",
     "iopub.status.idle": "2024-01-15T22:02:08.592932Z",
     "shell.execute_reply": "2024-01-15T22:02:08.592615Z"
    },
    "papermill": {
     "duration": 0.006952,
     "end_time": "2024-01-15T22:02:08.593612",
     "exception": false,
     "start_time": "2024-01-15T22:02:08.586660",
     "status": "completed"
    },
    "tags": []
   },
   "outputs": [],
   "source": [
    "pd.DataFrame({\n",
    "  'orders': tickets.groupby('event_date').number_of_tickets.count(),\n",
    "  'tickets': tickets.groupby('event_date').number_of_tickets.sum().astype(int),\n",
    "}).resample('M').sum().cumsum().to_csv(os.path.join(OUTPUT_DIR, 'tickets_by_event_date.csv'))"
   ]
  },
  {
   "cell_type": "code",
   "execution_count": 10,
   "id": "993d81cd",
   "metadata": {
    "execution": {
     "iopub.execute_input": "2024-01-15T22:02:08.596570Z",
     "iopub.status.busy": "2024-01-15T22:02:08.596438Z",
     "iopub.status.idle": "2024-01-15T22:02:08.599362Z",
     "shell.execute_reply": "2024-01-15T22:02:08.599098Z"
    },
    "papermill": {
     "duration": 0.005239,
     "end_time": "2024-01-15T22:02:08.600135",
     "exception": false,
     "start_time": "2024-01-15T22:02:08.594896",
     "status": "completed"
    },
    "tags": []
   },
   "outputs": [],
   "source": [
    "pd.Series({\n",
    "    'total_events': events.event_unique_identifier.count(),\n",
    "    'total_attendances': events.attendances.sum().astype(int),\n",
    "    'first_event': events.date.min(),\n",
    "    'latest_event': events.date.max(),\n",
    "    'total_ticket_orders_for_events_to_date': tickets.number_of_tickets.count(),\n",
    "    'total_tickets_sold_for_events_to_date': tickets.number_of_tickets.sum(),\n",
    "}).to_json(os.path.join(OUTPUT_DIR, 'headlines.json'), indent=2)"
   ]
  },
  {
   "cell_type": "code",
   "execution_count": 11,
   "id": "ecdb4c38",
   "metadata": {
    "execution": {
     "iopub.execute_input": "2024-01-15T22:02:08.603247Z",
     "iopub.status.busy": "2024-01-15T22:02:08.603110Z",
     "iopub.status.idle": "2024-01-15T22:02:08.606439Z",
     "shell.execute_reply": "2024-01-15T22:02:08.606180Z"
    },
    "papermill": {
     "duration": 0.005616,
     "end_time": "2024-01-15T22:02:08.607101",
     "exception": false,
     "start_time": "2024-01-15T22:02:08.601485",
     "status": "completed"
    },
    "tags": []
   },
   "outputs": [
    {
     "data": {
      "text/plain": [
       "15"
      ]
     },
     "execution_count": 11,
     "metadata": {},
     "output_type": "execute_result"
    }
   ],
   "source": [
    "events.attendances.count()"
   ]
  },
  {
   "cell_type": "code",
   "execution_count": null,
   "id": "174e8aba",
   "metadata": {
    "papermill": {
     "duration": 0.0012,
     "end_time": "2024-01-15T22:02:08.609582",
     "exception": false,
     "start_time": "2024-01-15T22:02:08.608382",
     "status": "completed"
    },
    "tags": []
   },
   "outputs": [],
   "source": []
  }
 ],
 "metadata": {
  "kernelspec": {
   "display_name": "leeds-2023-YZF5GfJv",
   "language": "python",
   "name": "python3"
  },
  "language_info": {
   "codemirror_mode": {
    "name": "ipython",
    "version": 3
   },
   "file_extension": ".py",
   "mimetype": "text/x-python",
   "name": "python",
   "nbconvert_exporter": "python",
   "pygments_lexer": "ipython3",
   "version": "3.10.12"
  },
  "papermill": {
   "default_parameters": {},
   "duration": 6.08782,
   "end_time": "2024-01-15T22:02:08.824976",
   "environment_variables": {},
   "exception": null,
   "input_path": "prepare.ipynb",
   "output_path": "../../../../working/output/signature-prepare.ipynb",
   "parameters": {},
   "start_time": "2024-01-15T22:02:02.737156",
   "version": "2.4.0"
  }
 },
 "nbformat": 4,
 "nbformat_minor": 5
}