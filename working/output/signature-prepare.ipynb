{
 "cells": [
  {
   "cell_type": "code",
   "execution_count": 1,
   "id": "888f2078",
   "metadata": {
    "execution": {
     "iopub.execute_input": "2023-12-23T01:14:31.270620Z",
     "iopub.status.busy": "2023-12-23T01:14:31.270415Z",
     "iopub.status.idle": "2023-12-23T01:14:38.422988Z",
     "shell.execute_reply": "2023-12-23T01:14:38.422314Z"
    },
    "papermill": {
     "duration": 7.157412,
     "end_time": "2023-12-23T01:14:38.424742",
     "exception": false,
     "start_time": "2023-12-23T01:14:31.267330",
     "status": "completed"
    },
    "tags": []
   },
   "outputs": [],
   "source": [
    "import os\n",
    "import pandas as pd\n",
    "from events import load_event_data, get_first_ward, normalise_ward"
   ]
  },
  {
   "cell_type": "code",
   "execution_count": 2,
   "id": "5b3b454c",
   "metadata": {
    "execution": {
     "iopub.execute_input": "2023-12-23T01:14:38.430048Z",
     "iopub.status.busy": "2023-12-23T01:14:38.429812Z",
     "iopub.status.idle": "2023-12-23T01:14:38.433399Z",
     "shell.execute_reply": "2023-12-23T01:14:38.432802Z"
    },
    "papermill": {
     "duration": 0.00777,
     "end_time": "2023-12-23T01:14:38.434761",
     "exception": false,
     "start_time": "2023-12-23T01:14:38.426991",
     "status": "completed"
    },
    "tags": []
   },
   "outputs": [],
   "source": [
    "latest_date = pd.Timestamp.today().ceil('D')"
   ]
  },
  {
   "cell_type": "code",
   "execution_count": 3,
   "id": "cf03b96b",
   "metadata": {
    "execution": {
     "iopub.execute_input": "2023-12-23T01:14:38.439729Z",
     "iopub.status.busy": "2023-12-23T01:14:38.439313Z",
     "iopub.status.idle": "2023-12-23T01:14:38.456850Z",
     "shell.execute_reply": "2023-12-23T01:14:38.456241Z"
    },
    "papermill": {
     "duration": 0.021669,
     "end_time": "2023-12-23T01:14:38.458295",
     "exception": false,
     "start_time": "2023-12-23T01:14:38.436626",
     "status": "completed"
    },
    "tags": []
   },
   "outputs": [],
   "source": [
    "tickets = pd.read_csv('../../../../data/metrics/events/tickets/orders.csv', parse_dates=['created_at', 'event_date'])\n",
    "tickets = tickets[tickets.event_date <= latest_date]"
   ]
  },
  {
   "cell_type": "code",
   "execution_count": 4,
   "id": "642cf958",
   "metadata": {
    "execution": {
     "iopub.execute_input": "2023-12-23T01:14:38.463169Z",
     "iopub.status.busy": "2023-12-23T01:14:38.462706Z",
     "iopub.status.idle": "2023-12-23T01:14:38.516301Z",
     "shell.execute_reply": "2023-12-23T01:14:38.515677Z"
    },
    "papermill": {
     "duration": 0.057521,
     "end_time": "2023-12-23T01:14:38.517709",
     "exception": false,
     "start_time": "2023-12-23T01:14:38.460188",
     "status": "completed"
    },
    "tags": []
   },
   "outputs": [],
   "source": [
    "events = load_event_data()\n",
    "\n",
    "events = pd.concat([\n",
    "  events,\n",
    "  events.pipe(get_first_ward).pipe(normalise_ward).fillna('UNKNOWN'),\n",
    "  pd.Series(\n",
    "      events.actual_audience_size_number_of_participants_in_person + events.actual_audience_size_number_of_participants_online,\n",
    "      name='attendances'\n",
    "  )\n",
    "], axis=1).rename(columns={\n",
    "    'start_date': 'date'\n",
    "}).loc[:, ['ward_code', 'date', 'event_unique_identifier', 'attendances']]"
   ]
  },
  {
   "cell_type": "code",
   "execution_count": 5,
   "id": "629ba537",
   "metadata": {
    "execution": {
     "iopub.execute_input": "2023-12-23T01:14:38.522520Z",
     "iopub.status.busy": "2023-12-23T01:14:38.522142Z",
     "iopub.status.idle": "2023-12-23T01:14:38.525347Z",
     "shell.execute_reply": "2023-12-23T01:14:38.524723Z"
    },
    "papermill": {
     "duration": 0.007013,
     "end_time": "2023-12-23T01:14:38.526637",
     "exception": false,
     "start_time": "2023-12-23T01:14:38.519624",
     "status": "completed"
    },
    "tags": []
   },
   "outputs": [],
   "source": [
    "OUTPUT_DIR='../../../../docs/metrics/events/signature/_data/'\n",
    "os.makedirs(OUTPUT_DIR, exist_ok=True)"
   ]
  },
  {
   "cell_type": "markdown",
   "id": "f75dde85",
   "metadata": {
    "papermill": {
     "duration": 0.002065,
     "end_time": "2023-12-23T01:14:38.530747",
     "exception": false,
     "start_time": "2023-12-23T01:14:38.528682",
     "status": "completed"
    },
    "tags": []
   },
   "source": [
    "Events CSVs"
   ]
  },
  {
   "cell_type": "code",
   "execution_count": 6,
   "id": "b891dab6",
   "metadata": {
    "execution": {
     "iopub.execute_input": "2023-12-23T01:14:38.535424Z",
     "iopub.status.busy": "2023-12-23T01:14:38.535051Z",
     "iopub.status.idle": "2023-12-23T01:14:38.541062Z",
     "shell.execute_reply": "2023-12-23T01:14:38.540456Z"
    },
    "papermill": {
     "duration": 0.00981,
     "end_time": "2023-12-23T01:14:38.542449",
     "exception": false,
     "start_time": "2023-12-23T01:14:38.532639",
     "status": "completed"
    },
    "tags": []
   },
   "outputs": [],
   "source": [
    "pd.DataFrame({\n",
    "  'events': events.groupby('ward_code').event_unique_identifier.count(),\n",
    "  'attendances': events.groupby('ward_code').attendances.sum().astype(int),\n",
    "}).to_csv(os.path.join(OUTPUT_DIR, 'events_by_ward.csv'))\n"
   ]
  },
  {
   "cell_type": "code",
   "execution_count": 7,
   "id": "ed623a6e",
   "metadata": {
    "execution": {
     "iopub.execute_input": "2023-12-23T01:14:38.547351Z",
     "iopub.status.busy": "2023-12-23T01:14:38.546949Z",
     "iopub.status.idle": "2023-12-23T01:14:38.554320Z",
     "shell.execute_reply": "2023-12-23T01:14:38.553791Z"
    },
    "papermill": {
     "duration": 0.011253,
     "end_time": "2023-12-23T01:14:38.555644",
     "exception": false,
     "start_time": "2023-12-23T01:14:38.544391",
     "status": "completed"
    },
    "tags": []
   },
   "outputs": [],
   "source": [
    "pd.DataFrame({\n",
    "  'events': events.groupby('date').event_unique_identifier.count(),\n",
    "  'attendances': events.groupby('date').attendances.sum().astype(int),\n",
    "}).resample('M').sum().astype(int).to_csv(os.path.join(OUTPUT_DIR, 'events_by_date.csv'))"
   ]
  },
  {
   "cell_type": "markdown",
   "id": "727ebaa1",
   "metadata": {
    "papermill": {
     "duration": 0.00272,
     "end_time": "2023-12-23T01:14:38.560323",
     "exception": false,
     "start_time": "2023-12-23T01:14:38.557603",
     "status": "completed"
    },
    "tags": []
   },
   "source": [
    "Tickets CSV"
   ]
  },
  {
   "cell_type": "code",
   "execution_count": 8,
   "id": "b8574f25",
   "metadata": {
    "execution": {
     "iopub.execute_input": "2023-12-23T01:14:38.564991Z",
     "iopub.status.busy": "2023-12-23T01:14:38.564800Z",
     "iopub.status.idle": "2023-12-23T01:14:38.571044Z",
     "shell.execute_reply": "2023-12-23T01:14:38.570550Z"
    },
    "papermill": {
     "duration": 0.010093,
     "end_time": "2023-12-23T01:14:38.572353",
     "exception": false,
     "start_time": "2023-12-23T01:14:38.562260",
     "status": "completed"
    },
    "tags": []
   },
   "outputs": [],
   "source": [
    "pd.DataFrame({\n",
    "  'orders': tickets.groupby('ward_code').number_of_tickets.count(),\n",
    "  'tickets': tickets.groupby('ward_code').number_of_tickets.sum().astype(int),\n",
    "}).to_csv(os.path.join(OUTPUT_DIR, 'tickets_by_ward.csv'))"
   ]
  },
  {
   "cell_type": "code",
   "execution_count": 9,
   "id": "f92853b8",
   "metadata": {
    "execution": {
     "iopub.execute_input": "2023-12-23T01:14:38.577346Z",
     "iopub.status.busy": "2023-12-23T01:14:38.576866Z",
     "iopub.status.idle": "2023-12-23T01:14:38.583484Z",
     "shell.execute_reply": "2023-12-23T01:14:38.582864Z"
    },
    "papermill": {
     "duration": 0.010575,
     "end_time": "2023-12-23T01:14:38.584895",
     "exception": false,
     "start_time": "2023-12-23T01:14:38.574320",
     "status": "completed"
    },
    "tags": []
   },
   "outputs": [],
   "source": [
    "pd.DataFrame({\n",
    "  'orders': tickets.groupby('event_date').number_of_tickets.count(),\n",
    "  'tickets': tickets.groupby('event_date').number_of_tickets.sum().astype(int),\n",
    "}).resample('M').sum().to_csv(os.path.join(OUTPUT_DIR, 'tickets_by_event_date.csv'))"
   ]
  },
  {
   "cell_type": "code",
   "execution_count": 10,
   "id": "78909719",
   "metadata": {
    "execution": {
     "iopub.execute_input": "2023-12-23T01:14:38.589970Z",
     "iopub.status.busy": "2023-12-23T01:14:38.589579Z",
     "iopub.status.idle": "2023-12-23T01:14:38.594312Z",
     "shell.execute_reply": "2023-12-23T01:14:38.593761Z"
    },
    "papermill": {
     "duration": 0.008742,
     "end_time": "2023-12-23T01:14:38.595622",
     "exception": false,
     "start_time": "2023-12-23T01:14:38.586880",
     "status": "completed"
    },
    "tags": []
   },
   "outputs": [],
   "source": [
    "pd.Series({\n",
    "    'total_events': events.event_unique_identifier.count(),\n",
    "    'total_attendances': events.attendances.count(),\n",
    "    'first_event': events.date.min(),\n",
    "    'latest_event': events.date.max(),\n",
    "    'total_ticket_orders_for_events_to_date': tickets.number_of_tickets.count(),\n",
    "    'total_tickets_sold_for_events_to_date': tickets.number_of_tickets.sum(),\n",
    "}).to_json(os.path.join(OUTPUT_DIR, 'headlines.json'), indent=2)"
   ]
  },
  {
   "cell_type": "code",
   "execution_count": null,
   "id": "473cdde2",
   "metadata": {
    "papermill": {
     "duration": 0.002003,
     "end_time": "2023-12-23T01:14:38.599656",
     "exception": false,
     "start_time": "2023-12-23T01:14:38.597653",
     "status": "completed"
    },
    "tags": []
   },
   "outputs": [],
   "source": []
  }
 ],
 "metadata": {
  "kernelspec": {
   "display_name": "leeds-2023-YZF5GfJv",
   "language": "python",
   "name": "python3"
  },
  "language_info": {
   "codemirror_mode": {
    "name": "ipython",
    "version": 3
   },
   "file_extension": ".py",
   "mimetype": "text/x-python",
   "name": "python",
   "nbconvert_exporter": "python",
   "pygments_lexer": "ipython3",
   "version": "3.10.13"
  },
  "papermill": {
   "default_parameters": {},
   "duration": 8.787582,
   "end_time": "2023-12-23T01:14:38.817465",
   "environment_variables": {},
   "exception": null,
   "input_path": "prepare.ipynb",
   "output_path": "../../../../working/output/signature-prepare.ipynb",
   "parameters": {},
   "start_time": "2023-12-23T01:14:30.029883",
   "version": "2.4.0"
  }
 },
 "nbformat": 4,
 "nbformat_minor": 5
}