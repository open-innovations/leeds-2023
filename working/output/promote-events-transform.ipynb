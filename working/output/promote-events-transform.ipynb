{
 "cells": [
  {
   "cell_type": "code",
   "execution_count": 1,
   "id": "640e60ac",
   "metadata": {
    "execution": {
     "iopub.execute_input": "2023-08-24T23:39:28.395061Z",
     "iopub.status.busy": "2023-08-24T23:39:28.394401Z",
     "iopub.status.idle": "2023-08-24T23:39:28.637596Z",
     "shell.execute_reply": "2023-08-24T23:39:28.636898Z"
    },
    "papermill": {
     "duration": 0.248635,
     "end_time": "2023-08-24T23:39:28.639885",
     "exception": false,
     "start_time": "2023-08-24T23:39:28.391250",
     "status": "completed"
    },
    "tags": []
   },
   "outputs": [],
   "source": [
    "import os\n",
    "import pandas as pd"
   ]
  },
  {
   "cell_type": "code",
   "execution_count": 2,
   "id": "0e4d5e71",
   "metadata": {
    "execution": {
     "iopub.execute_input": "2023-08-24T23:39:28.644219Z",
     "iopub.status.busy": "2023-08-24T23:39:28.643726Z",
     "iopub.status.idle": "2023-08-24T23:39:28.648950Z",
     "shell.execute_reply": "2023-08-24T23:39:28.647599Z"
    },
    "papermill": {
     "duration": 0.008873,
     "end_time": "2023-08-24T23:39:28.650359",
     "exception": false,
     "start_time": "2023-08-24T23:39:28.641486",
     "status": "completed"
    },
    "tags": []
   },
   "outputs": [],
   "source": [
    "EVENTS_RAW_DATA = '../../../working/metrics/promote-events/events.csv'\n",
    "DATA_DIR = '../../../data/metrics/events/promote-events/'\n",
    "EVENTS_DATA = os.path.join(DATA_DIR, 'events.csv')"
   ]
  },
  {
   "cell_type": "code",
   "execution_count": 3,
   "id": "d60ce71a",
   "metadata": {
    "execution": {
     "iopub.execute_input": "2023-08-24T23:39:28.654034Z",
     "iopub.status.busy": "2023-08-24T23:39:28.653609Z",
     "iopub.status.idle": "2023-08-24T23:39:28.656931Z",
     "shell.execute_reply": "2023-08-24T23:39:28.656277Z"
    },
    "papermill": {
     "duration": 0.006975,
     "end_time": "2023-08-24T23:39:28.658562",
     "exception": false,
     "start_time": "2023-08-24T23:39:28.651587",
     "status": "completed"
    },
    "tags": []
   },
   "outputs": [],
   "source": [
    "columns = {\n",
    "    'id': 'id',\n",
    "    'name': 'name',\n",
    "    'locationName': 'location',\n",
    "    'cardPrice': 'card_price',\n",
    "    'timeslots': 'time',\n",
    "    # 'displayOnWebsite': 'display',\n",
    "    'Stage': 'stage',\n",
    "}"
   ]
  },
  {
   "cell_type": "code",
   "execution_count": 4,
   "id": "fb9458c0",
   "metadata": {
    "execution": {
     "iopub.execute_input": "2023-08-24T23:39:28.662238Z",
     "iopub.status.busy": "2023-08-24T23:39:28.661747Z",
     "iopub.status.idle": "2023-08-24T23:39:28.672164Z",
     "shell.execute_reply": "2023-08-24T23:39:28.671591Z"
    },
    "papermill": {
     "duration": 0.013984,
     "end_time": "2023-08-24T23:39:28.673765",
     "exception": false,
     "start_time": "2023-08-24T23:39:28.659781",
     "status": "completed"
    },
    "tags": []
   },
   "outputs": [],
   "source": [
    "data = pd.read_csv(EVENTS_RAW_DATA)[columns.keys()].rename(columns=columns)\n",
    "data.time = pd.to_datetime(data.time, errors='coerce')"
   ]
  },
  {
   "cell_type": "code",
   "execution_count": 5,
   "id": "317da4eb",
   "metadata": {
    "execution": {
     "iopub.execute_input": "2023-08-24T23:39:28.677496Z",
     "iopub.status.busy": "2023-08-24T23:39:28.677092Z",
     "iopub.status.idle": "2023-08-24T23:39:28.682446Z",
     "shell.execute_reply": "2023-08-24T23:39:28.681894Z"
    },
    "papermill": {
     "duration": 0.008923,
     "end_time": "2023-08-24T23:39:28.683952",
     "exception": false,
     "start_time": "2023-08-24T23:39:28.675029",
     "status": "completed"
    },
    "tags": []
   },
   "outputs": [],
   "source": [
    "data.to_csv(os.path.join(DATA_DIR, 'events.csv'), index=False)"
   ]
  }
 ],
 "metadata": {
  "kernelspec": {
   "display_name": "leeds-2023-YZF5GfJv",
   "language": "python",
   "name": "python3"
  },
  "language_info": {
   "codemirror_mode": {
    "name": "ipython",
    "version": 3
   },
   "file_extension": ".py",
   "mimetype": "text/x-python",
   "name": "python",
   "nbconvert_exporter": "python",
   "pygments_lexer": "ipython3",
   "version": "3.10.12"
  },
  "papermill": {
   "default_parameters": {},
   "duration": 1.902485,
   "end_time": "2023-08-24T23:39:28.902121",
   "environment_variables": {},
   "exception": null,
   "input_path": "transform.ipynb",
   "output_path": "../../../working/output/promote-events-transform.ipynb",
   "parameters": {},
   "start_time": "2023-08-24T23:39:26.999636",
   "version": "2.4.0"
  }
 },
 "nbformat": 4,
 "nbformat_minor": 5
}