{
 "cells": [
  {
   "cell_type": "code",
   "execution_count": 1,
   "id": "c561f32d",
   "metadata": {
    "execution": {
     "iopub.execute_input": "2023-10-30T12:21:54.333069Z",
     "iopub.status.busy": "2023-10-30T12:21:54.332459Z",
     "iopub.status.idle": "2023-10-30T12:21:54.654663Z",
     "shell.execute_reply": "2023-10-30T12:21:54.653774Z"
    },
    "papermill": {
     "duration": 0.33025,
     "end_time": "2023-10-30T12:21:54.657113",
     "exception": false,
     "start_time": "2023-10-30T12:21:54.326863",
     "status": "completed"
    },
    "tags": []
   },
   "outputs": [],
   "source": [
    "import os\n",
    "import sys\n",
    "import pandas as pd\n",
    "lib_dir = os.path.realpath('../../../lib/')\n",
    "if lib_dir not in sys.path: sys.path.append(lib_dir)"
   ]
  },
  {
   "cell_type": "code",
   "execution_count": 2,
   "id": "712627c1",
   "metadata": {
    "execution": {
     "iopub.execute_input": "2023-10-30T12:21:54.666080Z",
     "iopub.status.busy": "2023-10-30T12:21:54.665410Z",
     "iopub.status.idle": "2023-10-30T12:22:07.326270Z",
     "shell.execute_reply": "2023-10-30T12:22:07.325403Z"
    },
    "papermill": {
     "duration": 12.667826,
     "end_time": "2023-10-30T12:22:07.328660",
     "exception": false,
     "start_time": "2023-10-30T12:21:54.660834",
     "status": "completed"
    },
    "tags": []
   },
   "outputs": [],
   "source": [
    "import util.geo"
   ]
  },
  {
   "cell_type": "code",
   "execution_count": 3,
   "id": "121093ea",
   "metadata": {
    "execution": {
     "iopub.execute_input": "2023-10-30T12:22:07.337948Z",
     "iopub.status.busy": "2023-10-30T12:22:07.337154Z",
     "iopub.status.idle": "2023-10-30T12:22:07.341573Z",
     "shell.execute_reply": "2023-10-30T12:22:07.340745Z"
    },
    "papermill": {
     "duration": 0.010741,
     "end_time": "2023-10-30T12:22:07.343366",
     "exception": false,
     "start_time": "2023-10-30T12:22:07.332625",
     "status": "completed"
    },
    "tags": []
   },
   "outputs": [],
   "source": [
    "EVENTS_RAW_DATA = '../../../working/metrics/partner-events/events.csv'\n",
    "DATA_DIR = '../../../data/metrics/events/partner-events/'\n",
    "EVENTS_DATA = os.path.join(DATA_DIR, 'events.csv')"
   ]
  },
  {
   "cell_type": "code",
   "execution_count": 4,
   "id": "303106c8",
   "metadata": {
    "execution": {
     "iopub.execute_input": "2023-10-30T12:22:07.351895Z",
     "iopub.status.busy": "2023-10-30T12:22:07.351070Z",
     "iopub.status.idle": "2023-10-30T12:22:07.355782Z",
     "shell.execute_reply": "2023-10-30T12:22:07.355005Z"
    },
    "papermill": {
     "duration": 0.011029,
     "end_time": "2023-10-30T12:22:07.357692",
     "exception": false,
     "start_time": "2023-10-30T12:22:07.346663",
     "status": "completed"
    },
    "tags": []
   },
   "outputs": [],
   "source": [
    "columns = {\n",
    "    'Event Name': 'name',\n",
    "    'Event Start Date': 'start_date',\n",
    "    'Event End Date': 'end_date',\n",
    "    'Partner/Promote': 'partner_promote',\n",
    "    'Stage': 'stage',\n",
    "    'Live date': 'live_date',\n",
    "    'Venue postcode': 'postcode',\n",
    "    'Pricing Policy': 'pricing',\n",
    "    'Venue - including address': 'venue',\n",
    "    'Is this event on Leeds Inspried?': 'on_leeds_inspired',\n",
    "}"
   ]
  },
  {
   "cell_type": "markdown",
   "id": "573b44dd",
   "metadata": {
    "papermill": {
     "duration": 0.00365,
     "end_time": "2023-10-30T12:22:07.364777",
     "exception": false,
     "start_time": "2023-10-30T12:22:07.361127",
     "status": "completed"
    },
    "tags": []
   },
   "source": [
    "Load the data and rename columns. Parse the dates to dates."
   ]
  },
  {
   "cell_type": "code",
   "execution_count": 5,
   "id": "fb955c73",
   "metadata": {
    "execution": {
     "iopub.execute_input": "2023-10-30T12:22:07.373206Z",
     "iopub.status.busy": "2023-10-30T12:22:07.372712Z",
     "iopub.status.idle": "2023-10-30T12:22:07.386263Z",
     "shell.execute_reply": "2023-10-30T12:22:07.385518Z"
    },
    "papermill": {
     "duration": 0.02083,
     "end_time": "2023-10-30T12:22:07.388966",
     "exception": false,
     "start_time": "2023-10-30T12:22:07.368136",
     "status": "completed"
    },
    "tags": []
   },
   "outputs": [],
   "source": [
    "data = pd.read_csv(EVENTS_RAW_DATA)[columns.keys()].rename(columns=columns)\n",
    "data.start_date = pd.to_datetime(data.start_date, errors='coerce')\n",
    "data.end_date = pd.to_datetime(data.end_date, errors='coerce')"
   ]
  },
  {
   "cell_type": "markdown",
   "id": "3f09e177",
   "metadata": {
    "papermill": {
     "duration": 0.003271,
     "end_time": "2023-10-30T12:22:07.396010",
     "exception": false,
     "start_time": "2023-10-30T12:22:07.392739",
     "status": "completed"
    },
    "tags": []
   },
   "source": [
    "Filter data by not LI Pull through and start date before now"
   ]
  },
  {
   "cell_type": "code",
   "execution_count": 6,
   "id": "0b66ba71",
   "metadata": {
    "execution": {
     "iopub.execute_input": "2023-10-30T12:22:07.405254Z",
     "iopub.status.busy": "2023-10-30T12:22:07.404813Z",
     "iopub.status.idle": "2023-10-30T12:22:07.411396Z",
     "shell.execute_reply": "2023-10-30T12:22:07.410528Z"
    },
    "papermill": {
     "duration": 0.012836,
     "end_time": "2023-10-30T12:22:07.413184",
     "exception": false,
     "start_time": "2023-10-30T12:22:07.400348",
     "status": "completed"
    },
    "tags": []
   },
   "outputs": [],
   "source": [
    "data = data[\n",
    "    # (data.live_date == 'This event is live ') &\n",
    "    ((data.stage != 'LI pull through') & data.stage.notna()) &\n",
    "    (data.start_date < pd.Timestamp.now())\n",
    "]"
   ]
  },
  {
   "cell_type": "code",
   "execution_count": 7,
   "id": "f1c265fb",
   "metadata": {
    "execution": {
     "iopub.execute_input": "2023-10-30T12:22:07.421806Z",
     "iopub.status.busy": "2023-10-30T12:22:07.420968Z",
     "iopub.status.idle": "2023-10-30T12:22:08.817689Z",
     "shell.execute_reply": "2023-10-30T12:22:08.816681Z"
    },
    "papermill": {
     "duration": 1.403627,
     "end_time": "2023-10-30T12:22:08.820156",
     "exception": false,
     "start_time": "2023-10-30T12:22:07.416529",
     "status": "completed"
    },
    "tags": []
   },
   "outputs": [],
   "source": [
    "data['ward_code'] = data.postcode.pipe(util.geo.postcode_formatter).map(util.geo.postcode_to_ward_code)\n",
    "data['ward_name'] = data.ward_code.pipe(util.geo.ward_code_to_name)"
   ]
  },
  {
   "cell_type": "markdown",
   "id": "1e7ade0a",
   "metadata": {
    "papermill": {
     "duration": 0.003883,
     "end_time": "2023-10-30T12:22:08.828451",
     "exception": false,
     "start_time": "2023-10-30T12:22:08.824568",
     "status": "completed"
    },
    "tags": []
   },
   "source": [
    "Save the file"
   ]
  },
  {
   "cell_type": "code",
   "execution_count": 8,
   "id": "b3c4007a",
   "metadata": {
    "execution": {
     "iopub.execute_input": "2023-10-30T12:22:08.837705Z",
     "iopub.status.busy": "2023-10-30T12:22:08.836907Z",
     "iopub.status.idle": "2023-10-30T12:22:08.847501Z",
     "shell.execute_reply": "2023-10-30T12:22:08.846737Z"
    },
    "papermill": {
     "duration": 0.017572,
     "end_time": "2023-10-30T12:22:08.849380",
     "exception": false,
     "start_time": "2023-10-30T12:22:08.831808",
     "status": "completed"
    },
    "tags": []
   },
   "outputs": [],
   "source": [
    "data[\n",
    "    ['name','start_date','end_date','ward_code']\n",
    "].to_csv(EVENTS_DATA, index=False)"
   ]
  },
  {
   "cell_type": "markdown",
   "id": "8c6204c3",
   "metadata": {
    "papermill": {
     "duration": 0.00343,
     "end_time": "2023-10-30T12:22:08.856282",
     "exception": false,
     "start_time": "2023-10-30T12:22:08.852852",
     "status": "completed"
    },
    "tags": []
   },
   "source": [
    "Print out missing postcode data"
   ]
  },
  {
   "cell_type": "code",
   "execution_count": 9,
   "id": "16a87f59",
   "metadata": {
    "execution": {
     "iopub.execute_input": "2023-10-30T12:22:08.865342Z",
     "iopub.status.busy": "2023-10-30T12:22:08.864420Z",
     "iopub.status.idle": "2023-10-30T12:22:08.884095Z",
     "shell.execute_reply": "2023-10-30T12:22:08.883201Z"
    },
    "papermill": {
     "duration": 0.026215,
     "end_time": "2023-10-30T12:22:08.885936",
     "exception": false,
     "start_time": "2023-10-30T12:22:08.859721",
     "status": "completed"
    },
    "tags": []
   },
   "outputs": [
    {
     "data": {
      "text/html": [
       "<div>\n",
       "<style scoped>\n",
       "    .dataframe tbody tr th:only-of-type {\n",
       "        vertical-align: middle;\n",
       "    }\n",
       "\n",
       "    .dataframe tbody tr th {\n",
       "        vertical-align: top;\n",
       "    }\n",
       "\n",
       "    .dataframe thead th {\n",
       "        text-align: right;\n",
       "    }\n",
       "</style>\n",
       "<table border=\"1\" class=\"dataframe\">\n",
       "  <thead>\n",
       "    <tr style=\"text-align: right;\">\n",
       "      <th></th>\n",
       "      <th>name</th>\n",
       "      <th>start_date</th>\n",
       "    </tr>\n",
       "  </thead>\n",
       "  <tbody>\n",
       "    <tr>\n",
       "      <th>1</th>\n",
       "      <td>East Street Arts, A City Less Grey 2022</td>\n",
       "      <td>2022-10-08</td>\n",
       "    </tr>\n",
       "    <tr>\n",
       "      <th>3</th>\n",
       "      <td>Phoenix Dance Theatre Virtual Gallery</td>\n",
       "      <td>2023-01-01</td>\n",
       "    </tr>\n",
       "    <tr>\n",
       "      <th>4</th>\n",
       "      <td>The Big Art Giveaway, School of Creative Arts ...</td>\n",
       "      <td>2023-01-01</td>\n",
       "    </tr>\n",
       "    <tr>\n",
       "      <th>5</th>\n",
       "      <td>Embassy of Netherlands, Meet Leeds Lab</td>\n",
       "      <td>2023-01-16</td>\n",
       "    </tr>\n",
       "    <tr>\n",
       "      <th>6</th>\n",
       "      <td>Shifting Borders: A Journey to the Centre of o...</td>\n",
       "      <td>2023-01-24</td>\n",
       "    </tr>\n",
       "    <tr>\n",
       "      <th>...</th>\n",
       "      <td>...</td>\n",
       "      <td>...</td>\n",
       "    </tr>\n",
       "    <tr>\n",
       "      <th>252</th>\n",
       "      <td>All That Lives: What is Left?</td>\n",
       "      <td>2023-10-27</td>\n",
       "    </tr>\n",
       "    <tr>\n",
       "      <th>253</th>\n",
       "      <td>The Crossing</td>\n",
       "      <td>2023-10-27</td>\n",
       "    </tr>\n",
       "    <tr>\n",
       "      <th>254</th>\n",
       "      <td>Day of the Dead Papercraft Workshops</td>\n",
       "      <td>2023-10-28</td>\n",
       "    </tr>\n",
       "    <tr>\n",
       "      <th>255</th>\n",
       "      <td>Family Workshop: Geometric Poetry</td>\n",
       "      <td>2023-10-28</td>\n",
       "    </tr>\n",
       "    <tr>\n",
       "      <th>258</th>\n",
       "      <td>Northern Dreaming Storytelling Sessions</td>\n",
       "      <td>2023-10-30</td>\n",
       "    </tr>\n",
       "  </tbody>\n",
       "</table>\n",
       "<p>92 rows × 2 columns</p>\n",
       "</div>"
      ],
      "text/plain": [
       "                                                  name start_date\n",
       "1              East Street Arts, A City Less Grey 2022 2022-10-08\n",
       "3                Phoenix Dance Theatre Virtual Gallery 2023-01-01\n",
       "4    The Big Art Giveaway, School of Creative Arts ... 2023-01-01\n",
       "5               Embassy of Netherlands, Meet Leeds Lab 2023-01-16\n",
       "6    Shifting Borders: A Journey to the Centre of o... 2023-01-24\n",
       "..                                                 ...        ...\n",
       "252                      All That Lives: What is Left? 2023-10-27\n",
       "253                                       The Crossing 2023-10-27\n",
       "254               Day of the Dead Papercraft Workshops 2023-10-28\n",
       "255                  Family Workshop: Geometric Poetry 2023-10-28\n",
       "258            Northern Dreaming Storytelling Sessions 2023-10-30\n",
       "\n",
       "[92 rows x 2 columns]"
      ]
     },
     "execution_count": 9,
     "metadata": {},
     "output_type": "execute_result"
    }
   ],
   "source": [
    "data[data.postcode.isna()][[\n",
    "    'name', 'start_date'\n",
    "]]"
   ]
  },
  {
   "cell_type": "markdown",
   "id": "ed8e26a3",
   "metadata": {
    "papermill": {
     "duration": 0.003773,
     "end_time": "2023-10-30T12:22:08.893592",
     "exception": false,
     "start_time": "2023-10-30T12:22:08.889819",
     "status": "completed"
    },
    "tags": []
   },
   "source": [
    "Plot the pricing"
   ]
  },
  {
   "cell_type": "code",
   "execution_count": 10,
   "id": "9da54776",
   "metadata": {
    "execution": {
     "iopub.execute_input": "2023-10-30T12:22:08.904007Z",
     "iopub.status.busy": "2023-10-30T12:22:08.903186Z",
     "iopub.status.idle": "2023-10-30T12:22:09.571345Z",
     "shell.execute_reply": "2023-10-30T12:22:09.570607Z"
    },
    "papermill": {
     "duration": 0.676255,
     "end_time": "2023-10-30T12:22:09.574390",
     "exception": false,
     "start_time": "2023-10-30T12:22:08.898135",
     "status": "completed"
    },
    "tags": []
   },
   "outputs": [
    {
     "data": {
      "image/png": "[encoded data removed]",
      "text/plain": [
       "<Figure size 640x480 with 1 Axes>"
      ]
     },
     "metadata": {},
     "output_type": "display_data"
    }
   ],
   "source": [
    "# .groupby('pricing').count().plot.barh()\n",
    "pricing = data.pricing.fillna('Unspecified').str.replace('[\\[\\'\\]]', '', regex=True).to_frame().reset_index().groupby('pricing').count()\n",
    "\n",
    "pricing.columns = ['count']\n",
    "plot = pricing.plot.barh()\n"
   ]
  },
  {
   "cell_type": "code",
   "execution_count": null,
   "id": "beb3f573",
   "metadata": {
    "papermill": {
     "duration": 0.004433,
     "end_time": "2023-10-30T12:22:09.583385",
     "exception": false,
     "start_time": "2023-10-30T12:22:09.578952",
     "status": "completed"
    },
    "tags": []
   },
   "outputs": [],
   "source": []
  }
 ],
 "metadata": {
  "kernelspec": {
   "display_name": "leeds-2023-YZF5GfJv",
   "language": "python",
   "name": "python3"
  },
  "language_info": {
   "codemirror_mode": {
    "name": "ipython",
    "version": 3
   },
   "file_extension": ".py",
   "mimetype": "text/x-python",
   "name": "python",
   "nbconvert_exporter": "python",
   "pygments_lexer": "ipython3",
   "version": "3.10.13"
  },
  "papermill": {
   "default_parameters": {},
   "duration": 17.384531,
   "end_time": "2023-10-30T12:22:10.108545",
   "environment_variables": {},
   "exception": null,
   "input_path": "transform.ipynb",
   "output_path": "../../../working/output/partner-events-transform.ipynb",
   "parameters": {},
   "start_time": "2023-10-30T12:21:52.724014",
   "version": "2.4.0"
  }
 },
 "nbformat": 4,
 "nbformat_minor": 5
}