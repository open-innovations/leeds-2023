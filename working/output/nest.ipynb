{
 "cells": [
  {
   "cell_type": "markdown",
   "id": "99653a3a",
   "metadata": {
    "papermill": {
     "duration": 0.002822,
     "end_time": "2023-10-23T23:38:19.370321",
     "exception": false,
     "start_time": "2023-10-23T23:38:19.367499",
     "status": "completed"
    },
    "tags": []
   },
   "source": [
    "# Nest\n",
    "\n",
    "Prepares data for the Nest page "
   ]
  },
  {
   "cell_type": "code",
   "execution_count": 1,
   "id": "884f024e",
   "metadata": {
    "execution": {
     "iopub.execute_input": "2023-10-23T23:38:19.376924Z",
     "iopub.status.busy": "2023-10-23T23:38:19.376185Z",
     "iopub.status.idle": "2023-10-23T23:38:31.201105Z",
     "shell.execute_reply": "2023-10-23T23:38:31.200195Z"
    },
    "papermill": {
     "duration": 11.830542,
     "end_time": "2023-10-23T23:38:31.203190",
     "exception": false,
     "start_time": "2023-10-23T23:38:19.372648",
     "status": "completed"
    },
    "tags": []
   },
   "outputs": [],
   "source": [
    "import os\n",
    "from events import (\n",
    "    load_event_data, filter_public_events, filter_by_project, prepare, save_files, count_wards\n",
    ")"
   ]
  },
  {
   "cell_type": "markdown",
   "id": "60188973",
   "metadata": {
    "papermill": {
     "duration": 0.001981,
     "end_time": "2023-10-23T23:38:31.207294",
     "exception": false,
     "start_time": "2023-10-23T23:38:31.205313",
     "status": "completed"
    },
    "tags": []
   },
   "source": [
    "Set output directory"
   ]
  },
  {
   "cell_type": "code",
   "execution_count": 2,
   "id": "0b40a3d6",
   "metadata": {
    "execution": {
     "iopub.execute_input": "2023-10-23T23:38:31.213623Z",
     "iopub.status.busy": "2023-10-23T23:38:31.212959Z",
     "iopub.status.idle": "2023-10-23T23:38:31.217500Z",
     "shell.execute_reply": "2023-10-23T23:38:31.216628Z"
    },
    "papermill": {
     "duration": 0.009281,
     "end_time": "2023-10-23T23:38:31.219387",
     "exception": false,
     "start_time": "2023-10-23T23:38:31.210106",
     "status": "completed"
    },
    "tags": []
   },
   "outputs": [],
   "source": [
    "OUT_DIR = '../../../../docs/metrics/events/nest/_data/events'"
   ]
  },
  {
   "cell_type": "markdown",
   "id": "d4d5dde3",
   "metadata": {
    "papermill": {
     "duration": 0.001932,
     "end_time": "2023-10-23T23:38:31.223186",
     "exception": false,
     "start_time": "2023-10-23T23:38:31.221254",
     "status": "completed"
    },
    "tags": []
   },
   "source": [
    "Read in event data and filter by **My LEEDS 2023** project.\n",
    "\n",
    "The criteria are:\n",
    "\n",
    "* project type is 'Produce (Signature)'\n",
    "* event_type contains 'Public Event -'\n",
    "\n",
    "It's then filtered by project_name is '10 - Melt'"
   ]
  },
  {
   "cell_type": "code",
   "execution_count": 3,
   "id": "f0d68fc8",
   "metadata": {
    "execution": {
     "iopub.execute_input": "2023-10-23T23:38:31.228078Z",
     "iopub.status.busy": "2023-10-23T23:38:31.227792Z",
     "iopub.status.idle": "2023-10-23T23:38:31.261570Z",
     "shell.execute_reply": "2023-10-23T23:38:31.260399Z"
    },
    "papermill": {
     "duration": 0.038552,
     "end_time": "2023-10-23T23:38:31.263717",
     "exception": false,
     "start_time": "2023-10-23T23:38:31.225165",
     "status": "completed"
    },
    "tags": []
   },
   "outputs": [
    {
     "data": {
      "text/html": [
       "<div>\n",
       "<style scoped>\n",
       "    .dataframe tbody tr th:only-of-type {\n",
       "        vertical-align: middle;\n",
       "    }\n",
       "\n",
       "    .dataframe tbody tr th {\n",
       "        vertical-align: top;\n",
       "    }\n",
       "\n",
       "    .dataframe thead th {\n",
       "        text-align: right;\n",
       "    }\n",
       "</style>\n",
       "<table border=\"1\" class=\"dataframe\">\n",
       "  <thead>\n",
       "    <tr style=\"text-align: right;\">\n",
       "      <th></th>\n",
       "      <th>actual_audience_size_number_of_participants_in_person</th>\n",
       "      <th>actual_audience_size_number_of_participants_online</th>\n",
       "      <th>airtable_id</th>\n",
       "      <th>end_date</th>\n",
       "      <th>event_name</th>\n",
       "      <th>event_type</th>\n",
       "      <th>event_unique_identifier</th>\n",
       "      <th>number_of_booked_participants</th>\n",
       "      <th>postcode_(from_venue)</th>\n",
       "      <th>project_name</th>\n",
       "      <th>project_type</th>\n",
       "      <th>season</th>\n",
       "      <th>start_date</th>\n",
       "      <th>ward_(from_venue)</th>\n",
       "    </tr>\n",
       "  </thead>\n",
       "  <tbody>\n",
       "    <tr>\n",
       "      <th>1084</th>\n",
       "      <td>1338.0</td>\n",
       "      <td>NaN</td>\n",
       "      <td>241</td>\n",
       "      <td>2023-09-09</td>\n",
       "      <td>Melt (Run)</td>\n",
       "      <td>['Public Event - Performance']</td>\n",
       "      <td>10 - Melt: Melt (Run)</td>\n",
       "      <td>1542.0</td>\n",
       "      <td>['LS26 8AL']</td>\n",
       "      <td>10 - Melt</td>\n",
       "      <td>Produce (Signature)</td>\n",
       "      <td>['Season 3 - Dreaming']</td>\n",
       "      <td>2023-09-05</td>\n",
       "      <td>['Garforth and Swillington']</td>\n",
       "    </tr>\n",
       "  </tbody>\n",
       "</table>\n",
       "</div>"
      ],
      "text/plain": [
       "      actual_audience_size_number_of_participants_in_person  \\\n",
       "1084                                             1338.0       \n",
       "\n",
       "      actual_audience_size_number_of_participants_online  airtable_id  \\\n",
       "1084                                                NaN           241   \n",
       "\n",
       "        end_date  event_name                      event_type  \\\n",
       "1084  2023-09-09  Melt (Run)  ['Public Event - Performance']   \n",
       "\n",
       "     event_unique_identifier  number_of_booked_participants  \\\n",
       "1084   10 - Melt: Melt (Run)                         1542.0   \n",
       "\n",
       "     postcode_(from_venue) project_name         project_type  \\\n",
       "1084          ['LS26 8AL']    10 - Melt  Produce (Signature)   \n",
       "\n",
       "                       season start_date             ward_(from_venue)  \n",
       "1084  ['Season 3 - Dreaming'] 2023-09-05  ['Garforth and Swillington']  "
      ]
     },
     "execution_count": 3,
     "metadata": {},
     "output_type": "execute_result"
    }
   ],
   "source": [
    "data = (\n",
    "  load_event_data()\n",
    "    .pipe(filter_by_project, '10 - Melt')\n",
    "    .pipe(filter_public_events)\n",
    "  )\n",
    "data"
   ]
  },
  {
   "cell_type": "markdown",
   "id": "9c5e55d2",
   "metadata": {
    "papermill": {
     "duration": 0.002273,
     "end_time": "2023-10-23T23:38:31.268118",
     "exception": false,
     "start_time": "2023-10-23T23:38:31.265845",
     "status": "completed"
    },
    "tags": []
   },
   "source": [
    "Run the processing and save the files"
   ]
  },
  {
   "cell_type": "code",
   "execution_count": 4,
   "id": "34798d0f",
   "metadata": {
    "execution": {
     "iopub.execute_input": "2023-10-23T23:38:31.273982Z",
     "iopub.status.busy": "2023-10-23T23:38:31.273728Z",
     "iopub.status.idle": "2023-10-23T23:38:31.305117Z",
     "shell.execute_reply": "2023-10-23T23:38:31.304219Z"
    },
    "papermill": {
     "duration": 0.036544,
     "end_time": "2023-10-23T23:38:31.306933",
     "exception": false,
     "start_time": "2023-10-23T23:38:31.270389",
     "status": "completed"
    },
    "tags": []
   },
   "outputs": [],
   "source": [
    "data = data.pipe(prepare).pipe(save_files, OUT_DIR)"
   ]
  }
 ],
 "metadata": {
  "kernelspec": {
   "display_name": "leeds-2023-YZF5GfJv",
   "language": "python",
   "name": "python3"
  },
  "language_info": {
   "codemirror_mode": {
    "name": "ipython",
    "version": 3
   },
   "file_extension": ".py",
   "mimetype": "text/x-python",
   "name": "python",
   "nbconvert_exporter": "python",
   "pygments_lexer": "ipython3",
   "version": "3.10.13"
  },
  "papermill": {
   "default_parameters": {},
   "duration": 13.835898,
   "end_time": "2023-10-23T23:38:31.628571",
   "environment_variables": {},
   "exception": null,
   "input_path": "nest.ipynb",
   "output_path": "../../../../working/output/nest.ipynb",
   "parameters": {},
   "start_time": "2023-10-23T23:38:17.792673",
   "version": "2.4.0"
  }
 },
 "nbformat": 4,
 "nbformat_minor": 5
}