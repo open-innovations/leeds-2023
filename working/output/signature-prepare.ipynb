{
 "cells": [
  {
   "cell_type": "code",
   "execution_count": 1,
   "id": "9fa86b21",
   "metadata": {
    "execution": {
     "iopub.execute_input": "2023-12-22T00:31:41.317712Z",
     "iopub.status.busy": "2023-12-22T00:31:41.317134Z",
     "iopub.status.idle": "2023-12-22T00:31:46.102624Z",
     "shell.execute_reply": "2023-12-22T00:31:46.102202Z"
    },
    "papermill": {
     "duration": 4.792321,
     "end_time": "2023-12-22T00:31:46.103787",
     "exception": false,
     "start_time": "2023-12-22T00:31:41.311466",
     "status": "completed"
    },
    "tags": []
   },
   "outputs": [],
   "source": [
    "import os\n",
    "import pandas as pd\n",
    "from events import load_event_data, get_first_ward, normalise_ward"
   ]
  },
  {
   "cell_type": "code",
   "execution_count": 2,
   "id": "341c60a6",
   "metadata": {
    "execution": {
     "iopub.execute_input": "2023-12-22T00:31:46.106872Z",
     "iopub.status.busy": "2023-12-22T00:31:46.106728Z",
     "iopub.status.idle": "2023-12-22T00:31:46.108982Z",
     "shell.execute_reply": "2023-12-22T00:31:46.108669Z"
    },
    "papermill": {
     "duration": 0.0047,
     "end_time": "2023-12-22T00:31:46.109805",
     "exception": false,
     "start_time": "2023-12-22T00:31:46.105105",
     "status": "completed"
    },
    "tags": []
   },
   "outputs": [],
   "source": [
    "latest_date = pd.Timestamp.today().ceil('D')"
   ]
  },
  {
   "cell_type": "code",
   "execution_count": 3,
   "id": "256e3b88",
   "metadata": {
    "execution": {
     "iopub.execute_input": "2023-12-22T00:31:46.112440Z",
     "iopub.status.busy": "2023-12-22T00:31:46.112302Z",
     "iopub.status.idle": "2023-12-22T00:31:46.123113Z",
     "shell.execute_reply": "2023-12-22T00:31:46.122754Z"
    },
    "papermill": {
     "duration": 0.013225,
     "end_time": "2023-12-22T00:31:46.124057",
     "exception": false,
     "start_time": "2023-12-22T00:31:46.110832",
     "status": "completed"
    },
    "tags": []
   },
   "outputs": [],
   "source": [
    "tickets = pd.read_csv('../../../../data/metrics/events/tickets/orders.csv', parse_dates=['created_at', 'event_date'])\n",
    "tickets = tickets[tickets.event_date <= latest_date]"
   ]
  },
  {
   "cell_type": "code",
   "execution_count": 4,
   "id": "5b396ab1",
   "metadata": {
    "execution": {
     "iopub.execute_input": "2023-12-22T00:31:46.126848Z",
     "iopub.status.busy": "2023-12-22T00:31:46.126648Z",
     "iopub.status.idle": "2023-12-22T00:31:46.159164Z",
     "shell.execute_reply": "2023-12-22T00:31:46.158830Z"
    },
    "papermill": {
     "duration": 0.035032,
     "end_time": "2023-12-22T00:31:46.160220",
     "exception": false,
     "start_time": "2023-12-22T00:31:46.125188",
     "status": "completed"
    },
    "tags": []
   },
   "outputs": [],
   "source": [
    "events = load_event_data()\n",
    "\n",
    "events = pd.concat([\n",
    "  events,\n",
    "  events.pipe(get_first_ward).pipe(normalise_ward).fillna('UNKNOWN'),\n",
    "  pd.Series(\n",
    "      events.actual_audience_size_number_of_participants_in_person + events.actual_audience_size_number_of_participants_online,\n",
    "      name='attendances'\n",
    "  )\n",
    "], axis=1).rename(columns={\n",
    "    'start_date': 'date'\n",
    "}).loc[:, ['ward_code', 'date', 'event_unique_identifier', 'attendances']]"
   ]
  },
  {
   "cell_type": "code",
   "execution_count": 5,
   "id": "7ab524fb",
   "metadata": {
    "execution": {
     "iopub.execute_input": "2023-12-22T00:31:46.163088Z",
     "iopub.status.busy": "2023-12-22T00:31:46.162943Z",
     "iopub.status.idle": "2023-12-22T00:31:46.164991Z",
     "shell.execute_reply": "2023-12-22T00:31:46.164685Z"
    },
    "papermill": {
     "duration": 0.00444,
     "end_time": "2023-12-22T00:31:46.165818",
     "exception": false,
     "start_time": "2023-12-22T00:31:46.161378",
     "status": "completed"
    },
    "tags": []
   },
   "outputs": [],
   "source": [
    "OUTPUT_DIR='../../../../docs/metrics/events/signature/_data/'\n",
    "os.makedirs(OUTPUT_DIR, exist_ok=True)"
   ]
  },
  {
   "cell_type": "markdown",
   "id": "afdf4761",
   "metadata": {
    "papermill": {
     "duration": 0.001062,
     "end_time": "2023-12-22T00:31:46.167930",
     "exception": false,
     "start_time": "2023-12-22T00:31:46.166868",
     "status": "completed"
    },
    "tags": []
   },
   "source": [
    "Events CSVs"
   ]
  },
  {
   "cell_type": "code",
   "execution_count": 6,
   "id": "7362ff89",
   "metadata": {
    "execution": {
     "iopub.execute_input": "2023-12-22T00:31:46.170546Z",
     "iopub.status.busy": "2023-12-22T00:31:46.170358Z",
     "iopub.status.idle": "2023-12-22T00:31:46.174053Z",
     "shell.execute_reply": "2023-12-22T00:31:46.173739Z"
    },
    "papermill": {
     "duration": 0.005909,
     "end_time": "2023-12-22T00:31:46.174898",
     "exception": false,
     "start_time": "2023-12-22T00:31:46.168989",
     "status": "completed"
    },
    "tags": []
   },
   "outputs": [],
   "source": [
    "pd.DataFrame({\n",
    "  'events': events.groupby('ward_code').event_unique_identifier.count(),\n",
    "  'attendances': events.groupby('ward_code').attendances.sum().astype(int),\n",
    "}).to_csv(os.path.join(OUTPUT_DIR, 'events_by_ward.csv'))\n"
   ]
  },
  {
   "cell_type": "code",
   "execution_count": 7,
   "id": "bd45223c",
   "metadata": {
    "execution": {
     "iopub.execute_input": "2023-12-22T00:31:46.177625Z",
     "iopub.status.busy": "2023-12-22T00:31:46.177455Z",
     "iopub.status.idle": "2023-12-22T00:31:46.182268Z",
     "shell.execute_reply": "2023-12-22T00:31:46.181986Z"
    },
    "papermill": {
     "duration": 0.007199,
     "end_time": "2023-12-22T00:31:46.183177",
     "exception": false,
     "start_time": "2023-12-22T00:31:46.175978",
     "status": "completed"
    },
    "tags": []
   },
   "outputs": [],
   "source": [
    "pd.DataFrame({\n",
    "  'events': events.groupby('date').event_unique_identifier.count(),\n",
    "  'attendances': events.groupby('date').attendances.sum().astype(int),\n",
    "}).resample('M').sum().astype(int).to_csv(os.path.join(OUTPUT_DIR, 'events_by_date.csv'))"
   ]
  },
  {
   "cell_type": "markdown",
   "id": "b869c1d4",
   "metadata": {
    "papermill": {
     "duration": 0.00114,
     "end_time": "2023-12-22T00:31:46.185485",
     "exception": false,
     "start_time": "2023-12-22T00:31:46.184345",
     "status": "completed"
    },
    "tags": []
   },
   "source": [
    "Tickets CSV"
   ]
  },
  {
   "cell_type": "code",
   "execution_count": 8,
   "id": "d8d06ad7",
   "metadata": {
    "execution": {
     "iopub.execute_input": "2023-12-22T00:31:46.188479Z",
     "iopub.status.busy": "2023-12-22T00:31:46.188354Z",
     "iopub.status.idle": "2023-12-22T00:31:46.192442Z",
     "shell.execute_reply": "2023-12-22T00:31:46.192173Z"
    },
    "papermill": {
     "duration": 0.006608,
     "end_time": "2023-12-22T00:31:46.193158",
     "exception": false,
     "start_time": "2023-12-22T00:31:46.186550",
     "status": "completed"
    },
    "tags": []
   },
   "outputs": [],
   "source": [
    "pd.DataFrame({\n",
    "  'orders': tickets.groupby('ward_code').number_of_tickets.count(),\n",
    "  'tickets': tickets.groupby('ward_code').number_of_tickets.sum().astype(int),\n",
    "}).to_csv(os.path.join(OUTPUT_DIR, 'tickets_by_ward.csv'))"
   ]
  },
  {
   "cell_type": "code",
   "execution_count": 9,
   "id": "1dcb8b58",
   "metadata": {
    "execution": {
     "iopub.execute_input": "2023-12-22T00:31:46.196031Z",
     "iopub.status.busy": "2023-12-22T00:31:46.195888Z",
     "iopub.status.idle": "2023-12-22T00:31:46.200402Z",
     "shell.execute_reply": "2023-12-22T00:31:46.200134Z"
    },
    "papermill": {
     "duration": 0.006746,
     "end_time": "2023-12-22T00:31:46.201074",
     "exception": false,
     "start_time": "2023-12-22T00:31:46.194328",
     "status": "completed"
    },
    "tags": []
   },
   "outputs": [],
   "source": [
    "pd.DataFrame({\n",
    "  'orders': tickets.groupby('event_date').number_of_tickets.count(),\n",
    "  'tickets': tickets.groupby('event_date').number_of_tickets.sum().astype(int),\n",
    "}).resample('M').sum().to_csv(os.path.join(OUTPUT_DIR, 'tickets_by_event_date.csv'))"
   ]
  },
  {
   "cell_type": "code",
   "execution_count": 10,
   "id": "b7e120ec",
   "metadata": {
    "execution": {
     "iopub.execute_input": "2023-12-22T00:31:46.204497Z",
     "iopub.status.busy": "2023-12-22T00:31:46.204327Z",
     "iopub.status.idle": "2023-12-22T00:31:46.207262Z",
     "shell.execute_reply": "2023-12-22T00:31:46.206952Z"
    },
    "papermill": {
     "duration": 0.005689,
     "end_time": "2023-12-22T00:31:46.207916",
     "exception": false,
     "start_time": "2023-12-22T00:31:46.202227",
     "status": "completed"
    },
    "tags": []
   },
   "outputs": [],
   "source": [
    "pd.Series({\n",
    "    'total_events': events.event_unique_identifier.count(),\n",
    "    'total_attendances': events.attendances.count(),\n",
    "    'first_event': events.date.min(),\n",
    "    'latest_event': events.date.max(),\n",
    "    'total_ticket_orders_for_events_to_date': tickets.number_of_tickets.count(),\n",
    "    'total_tickets_sold_for_events_to_date': tickets.number_of_tickets.sum(),\n",
    "}).to_json(os.path.join(OUTPUT_DIR, 'headlines.json'), indent=2)"
   ]
  },
  {
   "cell_type": "code",
   "execution_count": null,
   "id": "30489c55",
   "metadata": {
    "papermill": {
     "duration": 0.001261,
     "end_time": "2023-12-22T00:31:46.210476",
     "exception": false,
     "start_time": "2023-12-22T00:31:46.209215",
     "status": "completed"
    },
    "tags": []
   },
   "outputs": [],
   "source": []
  }
 ],
 "metadata": {
  "kernelspec": {
   "display_name": "leeds-2023-YZF5GfJv",
   "language": "python",
   "name": "python3"
  },
  "language_info": {
   "codemirror_mode": {
    "name": "ipython",
    "version": 3
   },
   "file_extension": ".py",
   "mimetype": "text/x-python",
   "name": "python",
   "nbconvert_exporter": "python",
   "pygments_lexer": "ipython3",
   "version": "3.10.12"
  },
  "papermill": {
   "default_parameters": {},
   "duration": 5.832966,
   "end_time": "2023-12-22T00:31:46.426673",
   "environment_variables": {},
   "exception": null,
   "input_path": "prepare.ipynb",
   "output_path": "../../../../working/output/signature-prepare.ipynb",
   "parameters": {},
   "start_time": "2023-12-22T00:31:40.593707",
   "version": "2.4.0"
  }
 },
 "nbformat": 4,
 "nbformat_minor": 5
}