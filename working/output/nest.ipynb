{
 "cells": [
  {
   "cell_type": "markdown",
   "id": "4bc45087",
   "metadata": {
    "papermill": {
     "duration": 0.002468,
     "end_time": "2023-10-17T23:38:50.924612",
     "exception": false,
     "start_time": "2023-10-17T23:38:50.922144",
     "status": "completed"
    },
    "tags": []
   },
   "source": [
    "# Nest\n",
    "\n",
    "Prepares data for the Nest page "
   ]
  },
  {
   "cell_type": "code",
   "execution_count": 1,
   "id": "ba30894b",
   "metadata": {
    "execution": {
     "iopub.execute_input": "2023-10-17T23:38:50.930449Z",
     "iopub.status.busy": "2023-10-17T23:38:50.929598Z",
     "iopub.status.idle": "2023-10-17T23:39:02.240401Z",
     "shell.execute_reply": "2023-10-17T23:39:02.239600Z"
    },
    "papermill": {
     "duration": 11.315963,
     "end_time": "2023-10-17T23:39:02.242537",
     "exception": false,
     "start_time": "2023-10-17T23:38:50.926574",
     "status": "completed"
    },
    "tags": []
   },
   "outputs": [],
   "source": [
    "import os\n",
    "from events import (\n",
    "    load_event_data, filter_by_project, prepare, save_files, count_wards\n",
    ")"
   ]
  },
  {
   "cell_type": "markdown",
   "id": "ef2c5493",
   "metadata": {
    "papermill": {
     "duration": 0.002022,
     "end_time": "2023-10-17T23:39:02.247080",
     "exception": false,
     "start_time": "2023-10-17T23:39:02.245058",
     "status": "completed"
    },
    "tags": []
   },
   "source": [
    "Set output directory"
   ]
  },
  {
   "cell_type": "code",
   "execution_count": 2,
   "id": "dd3854bd",
   "metadata": {
    "execution": {
     "iopub.execute_input": "2023-10-17T23:39:02.252144Z",
     "iopub.status.busy": "2023-10-17T23:39:02.251460Z",
     "iopub.status.idle": "2023-10-17T23:39:02.256100Z",
     "shell.execute_reply": "2023-10-17T23:39:02.255494Z"
    },
    "papermill": {
     "duration": 0.008918,
     "end_time": "2023-10-17T23:39:02.257632",
     "exception": false,
     "start_time": "2023-10-17T23:39:02.248714",
     "status": "completed"
    },
    "tags": []
   },
   "outputs": [],
   "source": [
    "OUT_DIR = '../../../../docs/metrics/events/nest/_data/events'"
   ]
  },
  {
   "cell_type": "markdown",
   "id": "9318c70e",
   "metadata": {
    "papermill": {
     "duration": 0.001608,
     "end_time": "2023-10-17T23:39:02.260908",
     "exception": false,
     "start_time": "2023-10-17T23:39:02.259300",
     "status": "completed"
    },
    "tags": []
   },
   "source": [
    "Read in event data and filter by **My LEEDS 2023** project.\n",
    "\n",
    "The criteria are:\n",
    "\n",
    "* project type is 'Produce (Signature)'\n",
    "* event_type contains 'Public Event -'\n",
    "\n",
    "It's then filtered by project_name is '10 - Melt'"
   ]
  },
  {
   "cell_type": "code",
   "execution_count": 3,
   "id": "fb25a876",
   "metadata": {
    "execution": {
     "iopub.execute_input": "2023-10-17T23:39:02.265488Z",
     "iopub.status.busy": "2023-10-17T23:39:02.264918Z",
     "iopub.status.idle": "2023-10-17T23:39:02.295234Z",
     "shell.execute_reply": "2023-10-17T23:39:02.294620Z"
    },
    "papermill": {
     "duration": 0.034347,
     "end_time": "2023-10-17T23:39:02.296883",
     "exception": false,
     "start_time": "2023-10-17T23:39:02.262536",
     "status": "completed"
    },
    "tags": []
   },
   "outputs": [
    {
     "data": {
      "text/html": [
       "<div>\n",
       "<style scoped>\n",
       "    .dataframe tbody tr th:only-of-type {\n",
       "        vertical-align: middle;\n",
       "    }\n",
       "\n",
       "    .dataframe tbody tr th {\n",
       "        vertical-align: top;\n",
       "    }\n",
       "\n",
       "    .dataframe thead th {\n",
       "        text-align: right;\n",
       "    }\n",
       "</style>\n",
       "<table border=\"1\" class=\"dataframe\">\n",
       "  <thead>\n",
       "    <tr style=\"text-align: right;\">\n",
       "      <th></th>\n",
       "      <th>actual_audience_size_number_of_participants_in_person</th>\n",
       "      <th>actual_audience_size_number_of_participants_online</th>\n",
       "      <th>airtable_id</th>\n",
       "      <th>end_date</th>\n",
       "      <th>event_name</th>\n",
       "      <th>event_type</th>\n",
       "      <th>event_unique_identifier</th>\n",
       "      <th>number_of_booked_participants</th>\n",
       "      <th>postcode_(from_venue)</th>\n",
       "      <th>project_name</th>\n",
       "      <th>project_type</th>\n",
       "      <th>season</th>\n",
       "      <th>start_date</th>\n",
       "      <th>ward_(from_venue)</th>\n",
       "    </tr>\n",
       "  </thead>\n",
       "  <tbody>\n",
       "    <tr>\n",
       "      <th>1054</th>\n",
       "      <td>1338.0</td>\n",
       "      <td>NaN</td>\n",
       "      <td>241</td>\n",
       "      <td>2023-09-09</td>\n",
       "      <td>Melt (Run)</td>\n",
       "      <td>['Public Event - Performance']</td>\n",
       "      <td>10 - Melt: Melt (Run)</td>\n",
       "      <td>1542.0</td>\n",
       "      <td>['LS26 8AL']</td>\n",
       "      <td>10 - Melt</td>\n",
       "      <td>Produce (Signature)</td>\n",
       "      <td>['Season 3 - Dreaming']</td>\n",
       "      <td>2023-09-05</td>\n",
       "      <td>['Garforth and Swillington']</td>\n",
       "    </tr>\n",
       "  </tbody>\n",
       "</table>\n",
       "</div>"
      ],
      "text/plain": [
       "      actual_audience_size_number_of_participants_in_person  \\\n",
       "1054                                             1338.0       \n",
       "\n",
       "      actual_audience_size_number_of_participants_online  airtable_id  \\\n",
       "1054                                                NaN           241   \n",
       "\n",
       "        end_date  event_name                      event_type  \\\n",
       "1054  2023-09-09  Melt (Run)  ['Public Event - Performance']   \n",
       "\n",
       "     event_unique_identifier  number_of_booked_participants  \\\n",
       "1054   10 - Melt: Melt (Run)                         1542.0   \n",
       "\n",
       "     postcode_(from_venue) project_name         project_type  \\\n",
       "1054          ['LS26 8AL']    10 - Melt  Produce (Signature)   \n",
       "\n",
       "                       season start_date             ward_(from_venue)  \n",
       "1054  ['Season 3 - Dreaming'] 2023-09-05  ['Garforth and Swillington']  "
      ]
     },
     "execution_count": 3,
     "metadata": {},
     "output_type": "execute_result"
    }
   ],
   "source": [
    "data = load_event_data().pipe(filter_by_project, '10 - Melt')\n",
    "data"
   ]
  },
  {
   "cell_type": "markdown",
   "id": "222173c4",
   "metadata": {
    "papermill": {
     "duration": 0.001928,
     "end_time": "2023-10-17T23:39:02.300929",
     "exception": false,
     "start_time": "2023-10-17T23:39:02.299001",
     "status": "completed"
    },
    "tags": []
   },
   "source": [
    "Run the processing and save the files"
   ]
  },
  {
   "cell_type": "code",
   "execution_count": 4,
   "id": "a2184b04",
   "metadata": {
    "execution": {
     "iopub.execute_input": "2023-10-17T23:39:02.305922Z",
     "iopub.status.busy": "2023-10-17T23:39:02.305675Z",
     "iopub.status.idle": "2023-10-17T23:39:02.338119Z",
     "shell.execute_reply": "2023-10-17T23:39:02.337449Z"
    },
    "papermill": {
     "duration": 0.037068,
     "end_time": "2023-10-17T23:39:02.339947",
     "exception": false,
     "start_time": "2023-10-17T23:39:02.302879",
     "status": "completed"
    },
    "tags": []
   },
   "outputs": [],
   "source": [
    "data = data.pipe(prepare).pipe(save_files, OUT_DIR)"
   ]
  }
 ],
 "metadata": {
  "kernelspec": {
   "display_name": "leeds-2023-YZF5GfJv",
   "language": "python",
   "name": "python3"
  },
  "language_info": {
   "codemirror_mode": {
    "name": "ipython",
    "version": 3
   },
   "file_extension": ".py",
   "mimetype": "text/x-python",
   "name": "python",
   "nbconvert_exporter": "python",
   "pygments_lexer": "ipython3",
   "version": "3.10.13"
  },
  "papermill": {
   "default_parameters": {},
   "duration": 13.326365,
   "end_time": "2023-10-17T23:39:02.660186",
   "environment_variables": {},
   "exception": null,
   "input_path": "nest.ipynb",
   "output_path": "../../../../working/output/nest.ipynb",
   "parameters": {},
   "start_time": "2023-10-17T23:38:49.333821",
   "version": "2.4.0"
  }
 },
 "nbformat": 4,
 "nbformat_minor": 5
}