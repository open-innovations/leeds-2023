{
 "cells": [
  {
   "cell_type": "code",
   "execution_count": 1,
   "id": "0a7d7ea8",
   "metadata": {
    "execution": {
     "iopub.execute_input": "2023-12-11T23:41:19.951377Z",
     "iopub.status.busy": "2023-12-11T23:41:19.951135Z",
     "iopub.status.idle": "2023-12-11T23:41:20.198528Z",
     "shell.execute_reply": "2023-12-11T23:41:20.197830Z"
    },
    "papermill": {
     "duration": 0.251866,
     "end_time": "2023-12-11T23:41:20.200222",
     "exception": false,
     "start_time": "2023-12-11T23:41:19.948356",
     "status": "completed"
    },
    "tags": []
   },
   "outputs": [],
   "source": [
    "import os\n",
    "import pandas as pd"
   ]
  },
  {
   "cell_type": "code",
   "execution_count": 2,
   "id": "c1ddfdf6",
   "metadata": {
    "execution": {
     "iopub.execute_input": "2023-12-11T23:41:20.203899Z",
     "iopub.status.busy": "2023-12-11T23:41:20.203455Z",
     "iopub.status.idle": "2023-12-11T23:41:20.206865Z",
     "shell.execute_reply": "2023-12-11T23:41:20.206210Z"
    },
    "papermill": {
     "duration": 0.00648,
     "end_time": "2023-12-11T23:41:20.208144",
     "exception": false,
     "start_time": "2023-12-11T23:41:20.201664",
     "status": "completed"
    },
    "tags": []
   },
   "outputs": [],
   "source": [
    "EVENTS_RAW_DATA = '../../../working/metrics/promote-events/events.csv'\n",
    "DATA_DIR = '../../../data/metrics/events/promote-events/'\n",
    "EVENTS_DATA = os.path.join(DATA_DIR, 'events.csv')"
   ]
  },
  {
   "cell_type": "code",
   "execution_count": 3,
   "id": "b0c84e9f",
   "metadata": {
    "execution": {
     "iopub.execute_input": "2023-12-11T23:41:20.211651Z",
     "iopub.status.busy": "2023-12-11T23:41:20.211160Z",
     "iopub.status.idle": "2023-12-11T23:41:20.214621Z",
     "shell.execute_reply": "2023-12-11T23:41:20.214120Z"
    },
    "papermill": {
     "duration": 0.00654,
     "end_time": "2023-12-11T23:41:20.215880",
     "exception": false,
     "start_time": "2023-12-11T23:41:20.209340",
     "status": "completed"
    },
    "tags": []
   },
   "outputs": [],
   "source": [
    "columns = {\n",
    "    'id': 'id',\n",
    "    'name': 'name',\n",
    "    'locationName': 'location',\n",
    "    'cardPrice': 'card_price',\n",
    "    'timeslots': 'time',\n",
    "    # 'displayOnWebsite': 'display',\n",
    "    'Stage': 'stage',\n",
    "}"
   ]
  },
  {
   "cell_type": "code",
   "execution_count": 4,
   "id": "96461d68",
   "metadata": {
    "execution": {
     "iopub.execute_input": "2023-12-11T23:41:20.219467Z",
     "iopub.status.busy": "2023-12-11T23:41:20.218968Z",
     "iopub.status.idle": "2023-12-11T23:41:20.228553Z",
     "shell.execute_reply": "2023-12-11T23:41:20.228002Z"
    },
    "papermill": {
     "duration": 0.012974,
     "end_time": "2023-12-11T23:41:20.229977",
     "exception": false,
     "start_time": "2023-12-11T23:41:20.217003",
     "status": "completed"
    },
    "tags": []
   },
   "outputs": [],
   "source": [
    "data = pd.read_csv(EVENTS_RAW_DATA)[columns.keys()].rename(columns=columns)\n",
    "data.time = pd.to_datetime(data.time, errors='coerce')"
   ]
  },
  {
   "cell_type": "code",
   "execution_count": 5,
   "id": "096cff17",
   "metadata": {
    "execution": {
     "iopub.execute_input": "2023-12-11T23:41:20.233671Z",
     "iopub.status.busy": "2023-12-11T23:41:20.233201Z",
     "iopub.status.idle": "2023-12-11T23:41:20.238682Z",
     "shell.execute_reply": "2023-12-11T23:41:20.238061Z"
    },
    "papermill": {
     "duration": 0.00879,
     "end_time": "2023-12-11T23:41:20.240092",
     "exception": false,
     "start_time": "2023-12-11T23:41:20.231302",
     "status": "completed"
    },
    "tags": []
   },
   "outputs": [],
   "source": [
    "data.to_csv(os.path.join(DATA_DIR, 'events.csv'), index=False)"
   ]
  }
 ],
 "metadata": {
  "kernelspec": {
   "display_name": "leeds-2023-YZF5GfJv",
   "language": "python",
   "name": "python3"
  },
  "language_info": {
   "codemirror_mode": {
    "name": "ipython",
    "version": 3
   },
   "file_extension": ".py",
   "mimetype": "text/x-python",
   "name": "python",
   "nbconvert_exporter": "python",
   "pygments_lexer": "ipython3",
   "version": "3.10.13"
  },
  "papermill": {
   "default_parameters": {},
   "duration": 1.755498,
   "end_time": "2023-12-11T23:41:20.457894",
   "environment_variables": {},
   "exception": null,
   "input_path": "transform.ipynb",
   "output_path": "../../../working/output/promote-events-transform.ipynb",
   "parameters": {},
   "start_time": "2023-12-11T23:41:18.702396",
   "version": "2.4.0"
  }
 },
 "nbformat": 4,
 "nbformat_minor": 5
}