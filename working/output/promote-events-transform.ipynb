{
 "cells": [
  {
   "cell_type": "code",
   "execution_count": 1,
   "id": "4848e403",
   "metadata": {
    "execution": {
     "iopub.execute_input": "2023-07-19T23:38:55.800371Z",
     "iopub.status.busy": "2023-07-19T23:38:55.799642Z",
     "iopub.status.idle": "2023-07-19T23:38:56.121153Z",
     "shell.execute_reply": "2023-07-19T23:38:56.120172Z"
    },
    "papermill": {
     "duration": 0.327746,
     "end_time": "2023-07-19T23:38:56.123822",
     "exception": false,
     "start_time": "2023-07-19T23:38:55.796076",
     "status": "completed"
    },
    "tags": []
   },
   "outputs": [],
   "source": [
    "import os\n",
    "import pandas as pd"
   ]
  },
  {
   "cell_type": "code",
   "execution_count": 2,
   "id": "c9058eb3",
   "metadata": {
    "execution": {
     "iopub.execute_input": "2023-07-19T23:38:56.130012Z",
     "iopub.status.busy": "2023-07-19T23:38:56.129389Z",
     "iopub.status.idle": "2023-07-19T23:38:56.133870Z",
     "shell.execute_reply": "2023-07-19T23:38:56.133033Z"
    },
    "papermill": {
     "duration": 0.009642,
     "end_time": "2023-07-19T23:38:56.135748",
     "exception": false,
     "start_time": "2023-07-19T23:38:56.126106",
     "status": "completed"
    },
    "tags": []
   },
   "outputs": [],
   "source": [
    "EVENTS_RAW_DATA = '../../../working/metrics/promote-events/events.csv'\n",
    "DATA_DIR = '../../../data/metrics/events/promote-events/'\n",
    "EVENTS_DATA = os.path.join(DATA_DIR, 'events.csv')"
   ]
  },
  {
   "cell_type": "code",
   "execution_count": 3,
   "id": "ccb2cdc4",
   "metadata": {
    "execution": {
     "iopub.execute_input": "2023-07-19T23:38:56.140556Z",
     "iopub.status.busy": "2023-07-19T23:38:56.139877Z",
     "iopub.status.idle": "2023-07-19T23:38:56.144277Z",
     "shell.execute_reply": "2023-07-19T23:38:56.143434Z"
    },
    "papermill": {
     "duration": 0.009656,
     "end_time": "2023-07-19T23:38:56.147013",
     "exception": false,
     "start_time": "2023-07-19T23:38:56.137357",
     "status": "completed"
    },
    "tags": []
   },
   "outputs": [],
   "source": [
    "columns = {\n",
    "    'id': 'id',\n",
    "    'name': 'name',\n",
    "    'locationName': 'location',\n",
    "    'cardPrice': 'card_price',\n",
    "    'timeslots': 'time',\n",
    "    'displayOnWebsite': 'display',\n",
    "    'Stage': 'stage',\n",
    "}"
   ]
  },
  {
   "cell_type": "code",
   "execution_count": 4,
   "id": "3c63711e",
   "metadata": {
    "execution": {
     "iopub.execute_input": "2023-07-19T23:38:56.151482Z",
     "iopub.status.busy": "2023-07-19T23:38:56.151170Z",
     "iopub.status.idle": "2023-07-19T23:38:56.166712Z",
     "shell.execute_reply": "2023-07-19T23:38:56.165685Z"
    },
    "papermill": {
     "duration": 0.020182,
     "end_time": "2023-07-19T23:38:56.168898",
     "exception": false,
     "start_time": "2023-07-19T23:38:56.148716",
     "status": "completed"
    },
    "tags": []
   },
   "outputs": [],
   "source": [
    "data = pd.read_csv(EVENTS_RAW_DATA)[columns.keys()].rename(columns=columns)\n",
    "data.time = pd.to_datetime(data.time, errors='coerce')"
   ]
  },
  {
   "cell_type": "code",
   "execution_count": 5,
   "id": "68897b7d",
   "metadata": {
    "execution": {
     "iopub.execute_input": "2023-07-19T23:38:56.173634Z",
     "iopub.status.busy": "2023-07-19T23:38:56.173325Z",
     "iopub.status.idle": "2023-07-19T23:38:56.183705Z",
     "shell.execute_reply": "2023-07-19T23:38:56.182365Z"
    },
    "papermill": {
     "duration": 0.015135,
     "end_time": "2023-07-19T23:38:56.185748",
     "exception": false,
     "start_time": "2023-07-19T23:38:56.170613",
     "status": "completed"
    },
    "tags": []
   },
   "outputs": [],
   "source": [
    "data.to_csv(os.path.join(DATA_DIR, 'events.csv'), index=False)"
   ]
  }
 ],
 "metadata": {
  "kernelspec": {
   "display_name": "leeds-2023-YZF5GfJv",
   "language": "python",
   "name": "python3"
  },
  "language_info": {
   "codemirror_mode": {
    "name": "ipython",
    "version": 3
   },
   "file_extension": ".py",
   "mimetype": "text/x-python",
   "name": "python",
   "nbconvert_exporter": "python",
   "pygments_lexer": "ipython3",
   "version": "3.10.6"
  },
  "papermill": {
   "default_parameters": {},
   "duration": 2.092988,
   "end_time": "2023-07-19T23:38:56.505877",
   "environment_variables": {},
   "exception": null,
   "input_path": "transform.ipynb",
   "output_path": "../../../working/output/promote-events-transform.ipynb",
   "parameters": {},
   "start_time": "2023-07-19T23:38:54.412889",
   "version": "2.4.0"
  }
 },
 "nbformat": 4,
 "nbformat_minor": 5
}