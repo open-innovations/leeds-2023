{
 "cells": [
  {
   "cell_type": "markdown",
   "metadata": {},
   "source": [
    "# The Gifting & Northern Dreaming"
   ]
  },
  {
   "cell_type": "code",
   "execution_count": 1,
   "metadata": {},
   "outputs": [],
   "source": [
    "import os\n",
    "\n",
    "import pandas as pd\n",
    "import ticket_helpers\n",
    "from events import (filter_by_project, filter_community_events,\n",
    "                    filter_public_events, filter_school_events, load_raw_data,\n",
    "                    prepare, save_files)"
   ]
  },
  {
   "cell_type": "markdown",
   "metadata": {},
   "source": [
    "Set output directory"
   ]
  },
  {
   "cell_type": "code",
   "execution_count": 2,
   "metadata": {},
   "outputs": [],
   "source": [
    "OUT_DIR = '../../../../docs/metrics/events/the-gifting/_data/events'"
   ]
  },
  {
   "cell_type": "markdown",
   "metadata": {},
   "source": [
    "The criteria are:\n",
    "\n",
    "* project type is 'Produce (Signature)'\n",
    "* event_type contains 'Public Event -'\n",
    "\n",
    "It's then filtered by project_name is \"13 - The Gifting\""
   ]
  },
  {
   "cell_type": "code",
   "execution_count": 3,
   "metadata": {},
   "outputs": [],
   "source": [
    "data = load_raw_data().pipe(filter_by_project, \"13 - The Gifting\")\n",
    "data = data.loc[data.event_type.notna()]"
   ]
  },
  {
   "cell_type": "markdown",
   "metadata": {},
   "source": [
    "Run the processing and save the files"
   ]
  },
  {
   "cell_type": "code",
   "execution_count": 4,
   "metadata": {},
   "outputs": [
    {
     "data": {
      "text/html": [
       "<div>\n",
       "<style scoped>\n",
       "    .dataframe tbody tr th:only-of-type {\n",
       "        vertical-align: middle;\n",
       "    }\n",
       "\n",
       "    .dataframe tbody tr th {\n",
       "        vertical-align: top;\n",
       "    }\n",
       "\n",
       "    .dataframe thead th {\n",
       "        text-align: right;\n",
       "    }\n",
       "</style>\n",
       "<table border=\"1\" class=\"dataframe\">\n",
       "  <thead>\n",
       "    <tr style=\"text-align: right;\">\n",
       "      <th></th>\n",
       "      <th>actual_audience_size_number_of_participants_in_person</th>\n",
       "      <th>actual_audience_size_number_of_participants_online</th>\n",
       "      <th>airtable_id</th>\n",
       "      <th>end_date</th>\n",
       "      <th>event_name</th>\n",
       "      <th>event_type</th>\n",
       "      <th>event_unique_identifier</th>\n",
       "      <th>number_of_booked_participants</th>\n",
       "      <th>postcode_(from_venue)</th>\n",
       "      <th>project_name</th>\n",
       "      <th>project_type</th>\n",
       "      <th>season</th>\n",
       "      <th>start_date</th>\n",
       "      <th>status</th>\n",
       "      <th>ticket_tailor_id</th>\n",
       "      <th>ward_(from_venue)</th>\n",
       "      <th>ward_name</th>\n",
       "      <th>ward_code</th>\n",
       "      <th>audience_size</th>\n",
       "    </tr>\n",
       "  </thead>\n",
       "  <tbody>\n",
       "    <tr>\n",
       "      <th>1222</th>\n",
       "      <td>2771.0</td>\n",
       "      <td>NaN</td>\n",
       "      <td>270</td>\n",
       "      <td>2023-12-31</td>\n",
       "      <td>The Gifting</td>\n",
       "      <td>['Public Event - Large Scale Outdoor Event']</td>\n",
       "      <td>13 - The Gifting: The Gifting</td>\n",
       "      <td>NaN</td>\n",
       "      <td>['LS12 1AP']</td>\n",
       "      <td>13 - The Gifting</td>\n",
       "      <td>Produce (Signature)</td>\n",
       "      <td>['Season 3 - Dreaming']</td>\n",
       "      <td>2023-12-22</td>\n",
       "      <td>01 - Greenlit</td>\n",
       "      <td>ev_3027783, ev_2994143, ev_2994144, ev_2994146...</td>\n",
       "      <td>NaN</td>\n",
       "      <td>&lt;NA&gt;</td>\n",
       "      <td>NaN</td>\n",
       "      <td>2771.0</td>\n",
       "    </tr>\n",
       "  </tbody>\n",
       "</table>\n",
       "</div>"
      ],
      "text/plain": [
       "      actual_audience_size_number_of_participants_in_person  \\\n",
       "1222                                             2771.0       \n",
       "\n",
       "      actual_audience_size_number_of_participants_online  airtable_id  \\\n",
       "1222                                                NaN           270   \n",
       "\n",
       "        end_date   event_name                                    event_type  \\\n",
       "1222  2023-12-31  The Gifting  ['Public Event - Large Scale Outdoor Event']   \n",
       "\n",
       "            event_unique_identifier  number_of_booked_participants  \\\n",
       "1222  13 - The Gifting: The Gifting                            NaN   \n",
       "\n",
       "     postcode_(from_venue)      project_name         project_type  \\\n",
       "1222          ['LS12 1AP']  13 - The Gifting  Produce (Signature)   \n",
       "\n",
       "                       season start_date         status  \\\n",
       "1222  ['Season 3 - Dreaming'] 2023-12-22  01 - Greenlit   \n",
       "\n",
       "                                       ticket_tailor_id ward_(from_venue)  \\\n",
       "1222  ev_3027783, ev_2994143, ev_2994144, ev_2994146...               NaN   \n",
       "\n",
       "     ward_name ward_code  audience_size  \n",
       "1222      <NA>       NaN         2771.0  "
      ]
     },
     "execution_count": 4,
     "metadata": {},
     "output_type": "execute_result"
    }
   ],
   "source": [
    "data.pipe(prepare).pipe(save_files, OUT_DIR)"
   ]
  },
  {
   "cell_type": "markdown",
   "metadata": {},
   "source": [
    "Filter by public events"
   ]
  },
  {
   "cell_type": "code",
   "execution_count": 5,
   "metadata": {},
   "outputs": [
    {
     "data": {
      "text/html": [
       "<div>\n",
       "<style scoped>\n",
       "    .dataframe tbody tr th:only-of-type {\n",
       "        vertical-align: middle;\n",
       "    }\n",
       "\n",
       "    .dataframe tbody tr th {\n",
       "        vertical-align: top;\n",
       "    }\n",
       "\n",
       "    .dataframe thead th {\n",
       "        text-align: right;\n",
       "    }\n",
       "</style>\n",
       "<table border=\"1\" class=\"dataframe\">\n",
       "  <thead>\n",
       "    <tr style=\"text-align: right;\">\n",
       "      <th></th>\n",
       "      <th>actual_audience_size_number_of_participants_in_person</th>\n",
       "      <th>actual_audience_size_number_of_participants_online</th>\n",
       "      <th>airtable_id</th>\n",
       "      <th>end_date</th>\n",
       "      <th>event_name</th>\n",
       "      <th>event_type</th>\n",
       "      <th>event_unique_identifier</th>\n",
       "      <th>number_of_booked_participants</th>\n",
       "      <th>postcode_(from_venue)</th>\n",
       "      <th>project_name</th>\n",
       "      <th>project_type</th>\n",
       "      <th>season</th>\n",
       "      <th>start_date</th>\n",
       "      <th>status</th>\n",
       "      <th>ticket_tailor_id</th>\n",
       "      <th>ward_(from_venue)</th>\n",
       "    </tr>\n",
       "  </thead>\n",
       "  <tbody>\n",
       "    <tr>\n",
       "      <th>1222</th>\n",
       "      <td>2771.0</td>\n",
       "      <td>NaN</td>\n",
       "      <td>270</td>\n",
       "      <td>2023-12-31</td>\n",
       "      <td>The Gifting</td>\n",
       "      <td>['Public Event - Large Scale Outdoor Event']</td>\n",
       "      <td>13 - The Gifting: The Gifting</td>\n",
       "      <td>NaN</td>\n",
       "      <td>['LS12 1AP']</td>\n",
       "      <td>13 - The Gifting</td>\n",
       "      <td>Produce (Signature)</td>\n",
       "      <td>['Season 3 - Dreaming']</td>\n",
       "      <td>2023-12-22</td>\n",
       "      <td>01 - Greenlit</td>\n",
       "      <td>ev_3027783, ev_2994143, ev_2994144, ev_2994146...</td>\n",
       "      <td>NaN</td>\n",
       "    </tr>\n",
       "  </tbody>\n",
       "</table>\n",
       "</div>"
      ],
      "text/plain": [
       "      actual_audience_size_number_of_participants_in_person  \\\n",
       "1222                                             2771.0       \n",
       "\n",
       "      actual_audience_size_number_of_participants_online  airtable_id  \\\n",
       "1222                                                NaN           270   \n",
       "\n",
       "        end_date   event_name                                    event_type  \\\n",
       "1222  2023-12-31  The Gifting  ['Public Event - Large Scale Outdoor Event']   \n",
       "\n",
       "            event_unique_identifier  number_of_booked_participants  \\\n",
       "1222  13 - The Gifting: The Gifting                            NaN   \n",
       "\n",
       "     postcode_(from_venue)      project_name         project_type  \\\n",
       "1222          ['LS12 1AP']  13 - The Gifting  Produce (Signature)   \n",
       "\n",
       "                       season start_date         status  \\\n",
       "1222  ['Season 3 - Dreaming'] 2023-12-22  01 - Greenlit   \n",
       "\n",
       "                                       ticket_tailor_id ward_(from_venue)  \n",
       "1222  ev_3027783, ev_2994143, ev_2994144, ev_2994146...               NaN  "
      ]
     },
     "execution_count": 5,
     "metadata": {},
     "output_type": "execute_result"
    }
   ],
   "source": [
    "PUBLIC_EVENTS_DIR = OUT_DIR+'/public'\n",
    "os.makedirs(PUBLIC_EVENTS_DIR, exist_ok=True)\n",
    "\n",
    "\n",
    "data.pipe(filter_public_events).pipe(prepare).pipe(save_files, PUBLIC_EVENTS_DIR)\n",
    "data"
   ]
  },
  {
   "cell_type": "markdown",
   "metadata": {},
   "source": [
    "Filter by Community events"
   ]
  },
  {
   "cell_type": "code",
   "execution_count": 6,
   "metadata": {},
   "outputs": [],
   "source": [
    "# COMMUNITY_EVENTS_DIR = OUT_DIR+'/community'\n",
    "# os.makedirs(COMMUNITY_EVENTS_DIR, exist_ok=True)\n",
    "\n",
    "# data.pipe(filter_community_events).pipe(prepare).pipe(save_files, COMMUNITY_EVENTS_DIR)"
   ]
  },
  {
   "cell_type": "markdown",
   "metadata": {},
   "source": [
    "Filter by Schools events"
   ]
  },
  {
   "cell_type": "code",
   "execution_count": 7,
   "metadata": {},
   "outputs": [
    {
     "data": {
      "text/html": [
       "<div>\n",
       "<style scoped>\n",
       "    .dataframe tbody tr th:only-of-type {\n",
       "        vertical-align: middle;\n",
       "    }\n",
       "\n",
       "    .dataframe tbody tr th {\n",
       "        vertical-align: top;\n",
       "    }\n",
       "\n",
       "    .dataframe thead th {\n",
       "        text-align: right;\n",
       "    }\n",
       "</style>\n",
       "<table border=\"1\" class=\"dataframe\">\n",
       "  <thead>\n",
       "    <tr style=\"text-align: right;\">\n",
       "      <th></th>\n",
       "      <th>actual_audience_size_number_of_participants_in_person</th>\n",
       "      <th>actual_audience_size_number_of_participants_online</th>\n",
       "      <th>airtable_id</th>\n",
       "      <th>end_date</th>\n",
       "      <th>event_name</th>\n",
       "      <th>event_type</th>\n",
       "      <th>event_unique_identifier</th>\n",
       "      <th>number_of_booked_participants</th>\n",
       "      <th>postcode_(from_venue)</th>\n",
       "      <th>project_name</th>\n",
       "      <th>project_type</th>\n",
       "      <th>season</th>\n",
       "      <th>start_date</th>\n",
       "      <th>status</th>\n",
       "      <th>ticket_tailor_id</th>\n",
       "      <th>ward_(from_venue)</th>\n",
       "      <th>ward_name</th>\n",
       "      <th>ward_code</th>\n",
       "      <th>audience_size</th>\n",
       "    </tr>\n",
       "  </thead>\n",
       "  <tbody>\n",
       "  </tbody>\n",
       "</table>\n",
       "</div>"
      ],
      "text/plain": [
       "Empty DataFrame\n",
       "Columns: [actual_audience_size_number_of_participants_in_person, actual_audience_size_number_of_participants_online, airtable_id, end_date, event_name, event_type, event_unique_identifier, number_of_booked_participants, postcode_(from_venue), project_name, project_type, season, start_date, status, ticket_tailor_id, ward_(from_venue), ward_name, ward_code, audience_size]\n",
       "Index: []"
      ]
     },
     "execution_count": 7,
     "metadata": {},
     "output_type": "execute_result"
    }
   ],
   "source": [
    "SCHOOLS_EVENTS_DIR = OUT_DIR+'/schools'\n",
    "os.makedirs(SCHOOLS_EVENTS_DIR, exist_ok=True)\n",
    "\n",
    "\n",
    "data.pipe(filter_school_events).pipe(prepare).pipe(save_files, SCHOOLS_EVENTS_DIR)"
   ]
  },
  {
   "cell_type": "markdown",
   "metadata": {},
   "source": [
    "## Ticket Processing"
   ]
  },
  {
   "cell_type": "code",
   "execution_count": 8,
   "metadata": {},
   "outputs": [],
   "source": [
    "ticket_sales = (\n",
    "    ticket_helpers\n",
    "        .get_tickets_for_project('13 - Closing')\n",
    "        .pipe(ticket_helpers.filter_public_events)\n",
    ")"
   ]
  },
  {
   "cell_type": "code",
   "execution_count": 9,
   "metadata": {},
   "outputs": [],
   "source": [
    "# ticket_sales = data.pipe(filter_public_events).pipe(ticket_helpers.get_tickets_for_event)"
   ]
  },
  {
   "cell_type": "markdown",
   "metadata": {},
   "source": [
    "By ward"
   ]
  },
  {
   "cell_type": "code",
   "execution_count": 10,
   "metadata": {},
   "outputs": [],
   "source": [
    "ticket_sales.pipe(ticket_helpers.summarise_by_ward).reset_index().to_csv(\n",
    "    os.path.join(OUT_DIR, 'tickets_by_ward.csv'), index=False)"
   ]
  },
  {
   "cell_type": "markdown",
   "metadata": {},
   "source": [
    "By date"
   ]
  },
  {
   "cell_type": "code",
   "execution_count": 11,
   "metadata": {},
   "outputs": [],
   "source": [
    "(\n",
    "  ticket_sales\n",
    "    .pipe(ticket_helpers.summarise_by_date)\n",
    "    .resample('W-FRI').sum()\n",
    "    .cumsum().to_csv(os.path.join(OUT_DIR, 'tickets_by_date.csv'))\n",
    ")"
   ]
  },
  {
   "cell_type": "code",
   "execution_count": 12,
   "metadata": {},
   "outputs": [],
   "source": [
    "def add_human_date(data):\n",
    "    datetime = data.index.to_series().dt.strftime('%a %d %b, %l:%M %P').rename('human_datetime')\n",
    "    return pd.concat([data, datetime], axis=1)\n",
    "\n",
    "ticket_sales.loc[\n",
    "  (ticket_sales.event_datetime > pd.to_datetime('2023-12-21')) & (ticket_sales.public_event == True)\n",
    "].groupby('event_datetime').number_of_tickets.sum().sort_index().pipe(add_human_date).to_csv(f'{OUT_DIR}/tickets_by_event_datetime.csv')"
   ]
  },
  {
   "cell_type": "code",
   "execution_count": null,
   "metadata": {},
   "outputs": [],
   "source": []
  },
  {
   "cell_type": "code",
   "execution_count": null,
   "metadata": {},
   "outputs": [],
   "source": []
  }
 ],
 "metadata": {
  "kernelspec": {
   "display_name": "leeds-2023-YZF5GfJv",
   "language": "python",
   "name": "python3"
  },
  "language_info": {
   "codemirror_mode": {
    "name": "ipython",
    "version": 3
   },
   "file_extension": ".py",
   "mimetype": "text/x-python",
   "name": "python",
   "nbconvert_exporter": "python",
   "pygments_lexer": "ipython3",
   "version": "3.10.12"
  },
  "orig_nbformat": 4
 },
 "nbformat": 4,
 "nbformat_minor": 2
}
