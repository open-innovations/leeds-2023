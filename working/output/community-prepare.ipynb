{
 "cells": [
  {
   "cell_type": "code",
   "execution_count": 1,
   "id": "6aca475b",
   "metadata": {
    "execution": {
     "iopub.execute_input": "2023-10-10T23:42:32.641187Z",
     "iopub.status.busy": "2023-10-10T23:42:32.640303Z",
     "iopub.status.idle": "2023-10-10T23:42:32.998309Z",
     "shell.execute_reply": "2023-10-10T23:42:32.997312Z"
    },
    "papermill": {
     "duration": 0.366063,
     "end_time": "2023-10-10T23:42:33.000961",
     "exception": false,
     "start_time": "2023-10-10T23:42:32.634898",
     "status": "completed"
    },
    "tags": []
   },
   "outputs": [],
   "source": [
    "import os, sys\n",
    "TOP_DIR = os.path.realpath('../../..')\n",
    "if TOP_DIR not in sys.path: sys.path.append(TOP_DIR)\n",
    "import pandas as pd"
   ]
  },
  {
   "cell_type": "code",
   "execution_count": 2,
   "id": "a1a53d3a",
   "metadata": {
    "execution": {
     "iopub.execute_input": "2023-10-10T23:42:33.007976Z",
     "iopub.status.busy": "2023-10-10T23:42:33.007456Z",
     "iopub.status.idle": "2023-10-10T23:42:33.013739Z",
     "shell.execute_reply": "2023-10-10T23:42:33.012804Z"
    },
    "papermill": {
     "duration": 0.012389,
     "end_time": "2023-10-10T23:42:33.016200",
     "exception": false,
     "start_time": "2023-10-10T23:42:33.003811",
     "status": "completed"
    },
    "tags": []
   },
   "outputs": [],
   "source": [
    "from lib.util.convert import named_cumulative_sum"
   ]
  },
  {
   "cell_type": "code",
   "execution_count": 3,
   "id": "1930d56f",
   "metadata": {
    "execution": {
     "iopub.execute_input": "2023-10-10T23:42:33.022314Z",
     "iopub.status.busy": "2023-10-10T23:42:33.021995Z",
     "iopub.status.idle": "2023-10-10T23:42:33.036859Z",
     "shell.execute_reply": "2023-10-10T23:42:33.035853Z"
    },
    "papermill": {
     "duration": 0.020774,
     "end_time": "2023-10-10T23:42:33.039309",
     "exception": false,
     "start_time": "2023-10-10T23:42:33.018535",
     "status": "completed"
    },
    "tags": []
   },
   "outputs": [],
   "source": [
    "data = pd.read_csv('../../../data/metrics/community/events.csv', parse_dates=['start_date'])\n",
    "data.ward_code = data.ward_code.fillna('UNKNOWN')"
   ]
  },
  {
   "cell_type": "markdown",
   "id": "f92e87a3",
   "metadata": {
    "papermill": {
     "duration": 0.002167,
     "end_time": "2023-10-10T23:42:33.043931",
     "exception": false,
     "start_time": "2023-10-10T23:42:33.041764",
     "status": "completed"
    },
    "tags": []
   },
   "source": [
    "Set up output directories"
   ]
  },
  {
   "cell_type": "code",
   "execution_count": 4,
   "id": "50d3a0a7",
   "metadata": {
    "execution": {
     "iopub.execute_input": "2023-10-10T23:42:33.050329Z",
     "iopub.status.busy": "2023-10-10T23:42:33.049703Z",
     "iopub.status.idle": "2023-10-10T23:42:33.056278Z",
     "shell.execute_reply": "2023-10-10T23:42:33.055298Z"
    },
    "papermill": {
     "duration": 0.013005,
     "end_time": "2023-10-10T23:42:33.058974",
     "exception": false,
     "start_time": "2023-10-10T23:42:33.045969",
     "status": "completed"
    },
    "tags": []
   },
   "outputs": [],
   "source": [
    "OUT_DIR = '../../../docs/metrics/community/_data'\n",
    "os.makedirs(OUT_DIR, exist_ok=True)"
   ]
  },
  {
   "cell_type": "code",
   "execution_count": 5,
   "id": "6d71919e",
   "metadata": {
    "execution": {
     "iopub.execute_input": "2023-10-10T23:42:33.066234Z",
     "iopub.status.busy": "2023-10-10T23:42:33.065418Z",
     "iopub.status.idle": "2023-10-10T23:42:33.076529Z",
     "shell.execute_reply": "2023-10-10T23:42:33.075308Z"
    },
    "papermill": {
     "duration": 0.017122,
     "end_time": "2023-10-10T23:42:33.078650",
     "exception": false,
     "start_time": "2023-10-10T23:42:33.061528",
     "status": "completed"
    },
    "tags": []
   },
   "outputs": [],
   "source": [
    "pd.Series({\n",
    "  'events': data.event_name.count(),\n",
    "  'audience': data.audience.sum().astype(int),\n",
    "  'errors': {\n",
    "    'missing_wards': (data.ward_code == 'UNKNOWN').value_counts()[True],\n",
    "    'missing_audience': data.audience.isna().value_counts()[True],\n",
    "    'zero_audience':  (data.audience < 1).value_counts()[True],  \n",
    "  }\n",
    "}).to_json(os.path.join(OUT_DIR, 'headlines.json'), indent=2)"
   ]
  },
  {
   "cell_type": "code",
   "execution_count": 6,
   "id": "f852b10c",
   "metadata": {
    "execution": {
     "iopub.execute_input": "2023-10-10T23:42:33.088992Z",
     "iopub.status.busy": "2023-10-10T23:42:33.087941Z",
     "iopub.status.idle": "2023-10-10T23:42:33.099967Z",
     "shell.execute_reply": "2023-10-10T23:42:33.098876Z"
    },
    "papermill": {
     "duration": 0.018966,
     "end_time": "2023-10-10T23:42:33.102175",
     "exception": false,
     "start_time": "2023-10-10T23:42:33.083209",
     "status": "completed"
    },
    "tags": []
   },
   "outputs": [],
   "source": [
    "by_ward = pd.DataFrame({\n",
    "  'events': data.groupby('ward_code').event_name.count().fillna(0).astype('int'),\n",
    "  'audience': data.groupby('ward_code').audience.sum().fillna(0).astype('int'),\n",
    "}).to_csv(os.path.join(OUT_DIR, 'by_ward.csv'))"
   ]
  },
  {
   "cell_type": "code",
   "execution_count": 7,
   "id": "fdc73401",
   "metadata": {
    "execution": {
     "iopub.execute_input": "2023-10-10T23:42:33.109706Z",
     "iopub.status.busy": "2023-10-10T23:42:33.108894Z",
     "iopub.status.idle": "2023-10-10T23:42:33.128247Z",
     "shell.execute_reply": "2023-10-10T23:42:33.126891Z"
    },
    "papermill": {
     "duration": 0.025921,
     "end_time": "2023-10-10T23:42:33.130843",
     "exception": false,
     "start_time": "2023-10-10T23:42:33.104922",
     "status": "completed"
    },
    "tags": []
   },
   "outputs": [],
   "source": [
    "by_date = pd.DataFrame({\n",
    "    'events': data.groupby('start_date').event_name.count(),\n",
    "    'audience': data.groupby('start_date').audience.sum(),\n",
    "}).resample('M').sum()\n",
    "\n",
    "pd.concat([\n",
    "    by_date,\n",
    "    by_date.pipe(named_cumulative_sum)\n",
    "], axis=1).astype('int').to_csv(os.path.join(OUT_DIR, 'by_date.csv'))"
   ]
  }
 ],
 "metadata": {
  "kernelspec": {
   "display_name": "leeds-2023-YZF5GfJv",
   "language": "python",
   "name": "python3"
  },
  "language_info": {
   "codemirror_mode": {
    "name": "ipython",
    "version": 3
   },
   "file_extension": ".py",
   "mimetype": "text/x-python",
   "name": "python",
   "nbconvert_exporter": "python",
   "pygments_lexer": "ipython3",
   "version": "3.10.13"
  },
  "papermill": {
   "default_parameters": {},
   "duration": 2.812561,
   "end_time": "2023-10-10T23:42:33.456259",
   "environment_variables": {},
   "exception": null,
   "input_path": "prepare.ipynb",
   "output_path": "../../../working/output/community-prepare.ipynb",
   "parameters": {},
   "start_time": "2023-10-10T23:42:30.643698",
   "version": "2.4.0"
  }
 },
 "nbformat": 4,
 "nbformat_minor": 5
}