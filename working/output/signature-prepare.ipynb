{
 "cells": [
  {
   "cell_type": "code",
   "execution_count": 1,
   "id": "23780ca5",
   "metadata": {
    "execution": {
     "iopub.execute_input": "2023-12-19T23:39:29.267737Z",
     "iopub.status.busy": "2023-12-19T23:39:29.267302Z",
     "iopub.status.idle": "2023-12-19T23:39:36.276088Z",
     "shell.execute_reply": "2023-12-19T23:39:36.275326Z"
    },
    "papermill": {
     "duration": 7.013749,
     "end_time": "2023-12-19T23:39:36.277775",
     "exception": false,
     "start_time": "2023-12-19T23:39:29.264026",
     "status": "completed"
    },
    "tags": []
   },
   "outputs": [],
   "source": [
    "import os\n",
    "import pandas as pd\n",
    "from events import load_event_data, get_first_ward, normalise_ward"
   ]
  },
  {
   "cell_type": "code",
   "execution_count": 2,
   "id": "b8c1926b",
   "metadata": {
    "execution": {
     "iopub.execute_input": "2023-12-19T23:39:36.283144Z",
     "iopub.status.busy": "2023-12-19T23:39:36.282732Z",
     "iopub.status.idle": "2023-12-19T23:39:36.286289Z",
     "shell.execute_reply": "2023-12-19T23:39:36.285680Z"
    },
    "papermill": {
     "duration": 0.007668,
     "end_time": "2023-12-19T23:39:36.287672",
     "exception": false,
     "start_time": "2023-12-19T23:39:36.280004",
     "status": "completed"
    },
    "tags": []
   },
   "outputs": [],
   "source": [
    "latest_date = pd.Timestamp.today().ceil('D')"
   ]
  },
  {
   "cell_type": "code",
   "execution_count": 3,
   "id": "4e1514d1",
   "metadata": {
    "execution": {
     "iopub.execute_input": "2023-12-19T23:39:36.292356Z",
     "iopub.status.busy": "2023-12-19T23:39:36.291914Z",
     "iopub.status.idle": "2023-12-19T23:39:36.307951Z",
     "shell.execute_reply": "2023-12-19T23:39:36.307370Z"
    },
    "papermill": {
     "duration": 0.019839,
     "end_time": "2023-12-19T23:39:36.309307",
     "exception": false,
     "start_time": "2023-12-19T23:39:36.289468",
     "status": "completed"
    },
    "tags": []
   },
   "outputs": [],
   "source": [
    "tickets = pd.read_csv('../../../../data/metrics/events/tickets/orders.csv', parse_dates=['created_at', 'event_date'])\n",
    "tickets = tickets[tickets.event_date <= latest_date]"
   ]
  },
  {
   "cell_type": "code",
   "execution_count": 4,
   "id": "34ed1595",
   "metadata": {
    "execution": {
     "iopub.execute_input": "2023-12-19T23:39:36.314101Z",
     "iopub.status.busy": "2023-12-19T23:39:36.313661Z",
     "iopub.status.idle": "2023-12-19T23:39:36.366892Z",
     "shell.execute_reply": "2023-12-19T23:39:36.366232Z"
    },
    "papermill": {
     "duration": 0.05731,
     "end_time": "2023-12-19T23:39:36.368448",
     "exception": false,
     "start_time": "2023-12-19T23:39:36.311138",
     "status": "completed"
    },
    "tags": []
   },
   "outputs": [],
   "source": [
    "events = load_event_data()\n",
    "\n",
    "events = pd.concat([\n",
    "  events,\n",
    "  events.pipe(get_first_ward).pipe(normalise_ward).fillna('UNKNOWN'),\n",
    "  pd.Series(\n",
    "      events.actual_audience_size_number_of_participants_in_person + events.actual_audience_size_number_of_participants_online,\n",
    "      name='attendances'\n",
    "  )\n",
    "], axis=1).rename(columns={\n",
    "    'start_date': 'date'\n",
    "}).loc[:, ['ward_code', 'date', 'event_unique_identifier', 'attendances']]"
   ]
  },
  {
   "cell_type": "code",
   "execution_count": 5,
   "id": "dbe72645",
   "metadata": {
    "execution": {
     "iopub.execute_input": "2023-12-19T23:39:36.373402Z",
     "iopub.status.busy": "2023-12-19T23:39:36.373014Z",
     "iopub.status.idle": "2023-12-19T23:39:36.376124Z",
     "shell.execute_reply": "2023-12-19T23:39:36.375600Z"
    },
    "papermill": {
     "duration": 0.006963,
     "end_time": "2023-12-19T23:39:36.377382",
     "exception": false,
     "start_time": "2023-12-19T23:39:36.370419",
     "status": "completed"
    },
    "tags": []
   },
   "outputs": [],
   "source": [
    "OUTPUT_DIR='../../../../docs/metrics/events/signature/_data/'\n",
    "os.makedirs(OUTPUT_DIR, exist_ok=True)"
   ]
  },
  {
   "cell_type": "markdown",
   "id": "52c3dd36",
   "metadata": {
    "papermill": {
     "duration": 0.001985,
     "end_time": "2023-12-19T23:39:36.381256",
     "exception": false,
     "start_time": "2023-12-19T23:39:36.379271",
     "status": "completed"
    },
    "tags": []
   },
   "source": [
    "Events CSVs"
   ]
  },
  {
   "cell_type": "code",
   "execution_count": 6,
   "id": "b75ebc2e",
   "metadata": {
    "execution": {
     "iopub.execute_input": "2023-12-19T23:39:36.386263Z",
     "iopub.status.busy": "2023-12-19T23:39:36.385795Z",
     "iopub.status.idle": "2023-12-19T23:39:36.391834Z",
     "shell.execute_reply": "2023-12-19T23:39:36.391199Z"
    },
    "papermill": {
     "duration": 0.010022,
     "end_time": "2023-12-19T23:39:36.393251",
     "exception": false,
     "start_time": "2023-12-19T23:39:36.383229",
     "status": "completed"
    },
    "tags": []
   },
   "outputs": [],
   "source": [
    "pd.DataFrame({\n",
    "  'events': events.groupby('ward_code').event_unique_identifier.count(),\n",
    "  'attendances': events.groupby('ward_code').attendances.sum().astype(int),\n",
    "}).to_csv(os.path.join(OUTPUT_DIR, 'events_by_ward.csv'))\n"
   ]
  },
  {
   "cell_type": "code",
   "execution_count": 7,
   "id": "5149c119",
   "metadata": {
    "execution": {
     "iopub.execute_input": "2023-12-19T23:39:36.398183Z",
     "iopub.status.busy": "2023-12-19T23:39:36.397745Z",
     "iopub.status.idle": "2023-12-19T23:39:36.405286Z",
     "shell.execute_reply": "2023-12-19T23:39:36.404693Z"
    },
    "papermill": {
     "duration": 0.011492,
     "end_time": "2023-12-19T23:39:36.406665",
     "exception": false,
     "start_time": "2023-12-19T23:39:36.395173",
     "status": "completed"
    },
    "tags": []
   },
   "outputs": [],
   "source": [
    "pd.DataFrame({\n",
    "  'events': events.groupby('date').event_unique_identifier.count(),\n",
    "  'attendances': events.groupby('date').attendances.sum().astype(int),\n",
    "}).resample('M').sum().astype(int).to_csv(os.path.join(OUTPUT_DIR, 'events_by_date.csv'))"
   ]
  },
  {
   "cell_type": "markdown",
   "id": "e5376f0b",
   "metadata": {
    "papermill": {
     "duration": 0.002628,
     "end_time": "2023-12-19T23:39:36.411329",
     "exception": false,
     "start_time": "2023-12-19T23:39:36.408701",
     "status": "completed"
    },
    "tags": []
   },
   "source": [
    "Tickets CSV"
   ]
  },
  {
   "cell_type": "code",
   "execution_count": 8,
   "id": "8ec3cecf",
   "metadata": {
    "execution": {
     "iopub.execute_input": "2023-12-19T23:39:36.416275Z",
     "iopub.status.busy": "2023-12-19T23:39:36.415905Z",
     "iopub.status.idle": "2023-12-19T23:39:36.422108Z",
     "shell.execute_reply": "2023-12-19T23:39:36.421508Z"
    },
    "papermill": {
     "duration": 0.01019,
     "end_time": "2023-12-19T23:39:36.423501",
     "exception": false,
     "start_time": "2023-12-19T23:39:36.413311",
     "status": "completed"
    },
    "tags": []
   },
   "outputs": [],
   "source": [
    "pd.DataFrame({\n",
    "  'orders': tickets.groupby('ward_code').number_of_tickets.count(),\n",
    "  'tickets': tickets.groupby('ward_code').number_of_tickets.sum().astype(int),\n",
    "}).to_csv(os.path.join(OUTPUT_DIR, 'tickets_by_ward.csv'))"
   ]
  },
  {
   "cell_type": "code",
   "execution_count": 9,
   "id": "a1c96928",
   "metadata": {
    "execution": {
     "iopub.execute_input": "2023-12-19T23:39:36.428410Z",
     "iopub.status.busy": "2023-12-19T23:39:36.428090Z",
     "iopub.status.idle": "2023-12-19T23:39:36.434797Z",
     "shell.execute_reply": "2023-12-19T23:39:36.434092Z"
    },
    "papermill": {
     "duration": 0.01064,
     "end_time": "2023-12-19T23:39:36.436122",
     "exception": false,
     "start_time": "2023-12-19T23:39:36.425482",
     "status": "completed"
    },
    "tags": []
   },
   "outputs": [],
   "source": [
    "pd.DataFrame({\n",
    "  'orders': tickets.groupby('event_date').number_of_tickets.count(),\n",
    "  'tickets': tickets.groupby('event_date').number_of_tickets.sum().astype(int),\n",
    "}).resample('M').sum().to_csv(os.path.join(OUTPUT_DIR, 'tickets_by_event_date.csv'))"
   ]
  },
  {
   "cell_type": "code",
   "execution_count": 10,
   "id": "4e83e3f9",
   "metadata": {
    "execution": {
     "iopub.execute_input": "2023-12-19T23:39:36.441139Z",
     "iopub.status.busy": "2023-12-19T23:39:36.440794Z",
     "iopub.status.idle": "2023-12-19T23:39:36.445312Z",
     "shell.execute_reply": "2023-12-19T23:39:36.444788Z"
    },
    "papermill": {
     "duration": 0.008429,
     "end_time": "2023-12-19T23:39:36.446555",
     "exception": false,
     "start_time": "2023-12-19T23:39:36.438126",
     "status": "completed"
    },
    "tags": []
   },
   "outputs": [],
   "source": [
    "pd.Series({\n",
    "    'total_events': events.event_unique_identifier.count(),\n",
    "    'total_attendances': events.attendances.count(),\n",
    "    'first_event': events.date.min(),\n",
    "    'latest_event': events.date.max(),\n",
    "    'total_ticket_orders_for_events_to_date': tickets.number_of_tickets.count(),\n",
    "    'total_tickets_sold_for_events_to_date': tickets.number_of_tickets.sum(),\n",
    "}).to_json(os.path.join(OUTPUT_DIR, 'headlines.json'), indent=2)"
   ]
  },
  {
   "cell_type": "code",
   "execution_count": null,
   "id": "f6de8229",
   "metadata": {
    "papermill": {
     "duration": 0.001995,
     "end_time": "2023-12-19T23:39:36.450626",
     "exception": false,
     "start_time": "2023-12-19T23:39:36.448631",
     "status": "completed"
    },
    "tags": []
   },
   "outputs": [],
   "source": []
  }
 ],
 "metadata": {
  "kernelspec": {
   "display_name": "leeds-2023-YZF5GfJv",
   "language": "python",
   "name": "python3"
  },
  "language_info": {
   "codemirror_mode": {
    "name": "ipython",
    "version": 3
   },
   "file_extension": ".py",
   "mimetype": "text/x-python",
   "name": "python",
   "nbconvert_exporter": "python",
   "pygments_lexer": "ipython3",
   "version": "3.10.13"
  },
  "papermill": {
   "default_parameters": {},
   "duration": 8.63916,
   "end_time": "2023-12-19T23:39:36.668598",
   "environment_variables": {},
   "exception": null,
   "input_path": "prepare.ipynb",
   "output_path": "../../../../working/output/signature-prepare.ipynb",
   "parameters": {},
   "start_time": "2023-12-19T23:39:28.029438",
   "version": "2.4.0"
  }
 },
 "nbformat": 4,
 "nbformat_minor": 5
}