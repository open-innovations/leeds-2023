{
 "cells": [
  {
   "cell_type": "code",
   "execution_count": 1,
   "id": "d4093a60",
   "metadata": {
    "execution": {
     "iopub.execute_input": "2023-08-15T23:39:20.655905Z",
     "iopub.status.busy": "2023-08-15T23:39:20.655256Z",
     "iopub.status.idle": "2023-08-15T23:39:31.782674Z",
     "shell.execute_reply": "2023-08-15T23:39:31.781555Z"
    },
    "papermill": {
     "duration": 11.136832,
     "end_time": "2023-08-15T23:39:31.785401",
     "exception": false,
     "start_time": "2023-08-15T23:39:20.648569",
     "status": "completed"
    },
    "tags": []
   },
   "outputs": [],
   "source": [
    "import os\n",
    "import pandas as pd\n",
    "from events import load_event_data, get_first_ward, normalise_ward"
   ]
  },
  {
   "cell_type": "code",
   "execution_count": 2,
   "id": "70b94371",
   "metadata": {
    "execution": {
     "iopub.execute_input": "2023-08-15T23:39:31.792198Z",
     "iopub.status.busy": "2023-08-15T23:39:31.791632Z",
     "iopub.status.idle": "2023-08-15T23:39:31.795935Z",
     "shell.execute_reply": "2023-08-15T23:39:31.795157Z"
    },
    "papermill": {
     "duration": 0.009684,
     "end_time": "2023-08-15T23:39:31.797858",
     "exception": false,
     "start_time": "2023-08-15T23:39:31.788174",
     "status": "completed"
    },
    "tags": []
   },
   "outputs": [],
   "source": [
    "latest_date = pd.Timestamp.today().ceil('D')"
   ]
  },
  {
   "cell_type": "code",
   "execution_count": 3,
   "id": "aa6f4cc4",
   "metadata": {
    "execution": {
     "iopub.execute_input": "2023-08-15T23:39:31.803904Z",
     "iopub.status.busy": "2023-08-15T23:39:31.803402Z",
     "iopub.status.idle": "2023-08-15T23:39:31.820530Z",
     "shell.execute_reply": "2023-08-15T23:39:31.819866Z"
    },
    "papermill": {
     "duration": 0.022356,
     "end_time": "2023-08-15T23:39:31.822373",
     "exception": false,
     "start_time": "2023-08-15T23:39:31.800017",
     "status": "completed"
    },
    "tags": []
   },
   "outputs": [],
   "source": [
    "tickets = pd.read_csv('../../../../data/metrics/events/tickets/orders.csv', parse_dates=['created_at', 'event_date'])\n",
    "tickets = tickets[tickets.event_date <= latest_date]"
   ]
  },
  {
   "cell_type": "code",
   "execution_count": 4,
   "id": "0625bc75",
   "metadata": {
    "execution": {
     "iopub.execute_input": "2023-08-15T23:39:31.829070Z",
     "iopub.status.busy": "2023-08-15T23:39:31.828427Z",
     "iopub.status.idle": "2023-08-15T23:39:32.033465Z",
     "shell.execute_reply": "2023-08-15T23:39:32.032669Z"
    },
    "papermill": {
     "duration": 0.211037,
     "end_time": "2023-08-15T23:39:32.035896",
     "exception": false,
     "start_time": "2023-08-15T23:39:31.824859",
     "status": "completed"
    },
    "tags": []
   },
   "outputs": [],
   "source": [
    "events = load_event_data()\n",
    "\n",
    "events = pd.concat([\n",
    "  events,\n",
    "  events.pipe(get_first_ward).pipe(normalise_ward).fillna('UNKNOWN'),\n",
    "  pd.Series(\n",
    "      events.actual_audience_size_number_of_participants_in_person + events.actual_audience_size_number_of_participants_online,\n",
    "      name='attendances'\n",
    "  )\n",
    "], axis=1).rename(columns={\n",
    "    'start_date': 'date'\n",
    "}).loc[:, ['ward_code', 'date', 'event_unique_identifier', 'attendances']]"
   ]
  },
  {
   "cell_type": "code",
   "execution_count": 5,
   "id": "2350ba3f",
   "metadata": {
    "execution": {
     "iopub.execute_input": "2023-08-15T23:39:32.042650Z",
     "iopub.status.busy": "2023-08-15T23:39:32.042085Z",
     "iopub.status.idle": "2023-08-15T23:39:32.046070Z",
     "shell.execute_reply": "2023-08-15T23:39:32.045313Z"
    },
    "papermill": {
     "duration": 0.009302,
     "end_time": "2023-08-15T23:39:32.047934",
     "exception": false,
     "start_time": "2023-08-15T23:39:32.038632",
     "status": "completed"
    },
    "tags": []
   },
   "outputs": [],
   "source": [
    "OUTPUT_DIR='../../../../docs/metrics/events/signature/_data/'\n",
    "os.makedirs(OUTPUT_DIR, exist_ok=True)"
   ]
  },
  {
   "cell_type": "markdown",
   "id": "b34fba0b",
   "metadata": {
    "papermill": {
     "duration": 0.002502,
     "end_time": "2023-08-15T23:39:32.052937",
     "exception": false,
     "start_time": "2023-08-15T23:39:32.050435",
     "status": "completed"
    },
    "tags": []
   },
   "source": [
    "Events CSVs"
   ]
  },
  {
   "cell_type": "code",
   "execution_count": 6,
   "id": "decf1605",
   "metadata": {
    "execution": {
     "iopub.execute_input": "2023-08-15T23:39:32.059554Z",
     "iopub.status.busy": "2023-08-15T23:39:32.058853Z",
     "iopub.status.idle": "2023-08-15T23:39:32.067088Z",
     "shell.execute_reply": "2023-08-15T23:39:32.066349Z"
    },
    "papermill": {
     "duration": 0.01354,
     "end_time": "2023-08-15T23:39:32.068884",
     "exception": false,
     "start_time": "2023-08-15T23:39:32.055344",
     "status": "completed"
    },
    "tags": []
   },
   "outputs": [],
   "source": [
    "pd.DataFrame({\n",
    "  'events': events.groupby('ward_code').event_unique_identifier.count(),\n",
    "  'attendances': events.groupby('ward_code').attendances.sum().astype(int),\n",
    "}).to_csv(os.path.join(OUTPUT_DIR, 'events_by_ward.csv'))\n"
   ]
  },
  {
   "cell_type": "code",
   "execution_count": 7,
   "id": "be4f4c55",
   "metadata": {
    "execution": {
     "iopub.execute_input": "2023-08-15T23:39:32.075595Z",
     "iopub.status.busy": "2023-08-15T23:39:32.074934Z",
     "iopub.status.idle": "2023-08-15T23:39:32.088676Z",
     "shell.execute_reply": "2023-08-15T23:39:32.087974Z"
    },
    "papermill": {
     "duration": 0.019047,
     "end_time": "2023-08-15T23:39:32.090445",
     "exception": false,
     "start_time": "2023-08-15T23:39:32.071398",
     "status": "completed"
    },
    "tags": []
   },
   "outputs": [],
   "source": [
    "pd.DataFrame({\n",
    "  'events': events.groupby('date').event_unique_identifier.count(),\n",
    "  'attendances': events.groupby('date').attendances.sum().astype(int),\n",
    "}).resample('M').sum().astype(int).to_csv(os.path.join(OUTPUT_DIR, 'events_by_date.csv'))"
   ]
  },
  {
   "cell_type": "markdown",
   "id": "47c74112",
   "metadata": {
    "papermill": {
     "duration": 0.002574,
     "end_time": "2023-08-15T23:39:32.095642",
     "exception": false,
     "start_time": "2023-08-15T23:39:32.093068",
     "status": "completed"
    },
    "tags": []
   },
   "source": [
    "Tickets CSV"
   ]
  },
  {
   "cell_type": "code",
   "execution_count": 8,
   "id": "cf5e2fd1",
   "metadata": {
    "execution": {
     "iopub.execute_input": "2023-08-15T23:39:32.102370Z",
     "iopub.status.busy": "2023-08-15T23:39:32.101806Z",
     "iopub.status.idle": "2023-08-15T23:39:32.109907Z",
     "shell.execute_reply": "2023-08-15T23:39:32.109227Z"
    },
    "papermill": {
     "duration": 0.013655,
     "end_time": "2023-08-15T23:39:32.111777",
     "exception": false,
     "start_time": "2023-08-15T23:39:32.098122",
     "status": "completed"
    },
    "tags": []
   },
   "outputs": [],
   "source": [
    "pd.DataFrame({\n",
    "  'orders': tickets.groupby('ward_code').number_of_tickets.count(),\n",
    "  'tickets': tickets.groupby('ward_code').number_of_tickets.sum().astype(int),\n",
    "}).to_csv(os.path.join(OUTPUT_DIR, 'tickets_by_ward.csv'))"
   ]
  },
  {
   "cell_type": "code",
   "execution_count": 9,
   "id": "95d4c796",
   "metadata": {
    "execution": {
     "iopub.execute_input": "2023-08-15T23:39:32.118293Z",
     "iopub.status.busy": "2023-08-15T23:39:32.117666Z",
     "iopub.status.idle": "2023-08-15T23:39:32.126664Z",
     "shell.execute_reply": "2023-08-15T23:39:32.126022Z"
    },
    "papermill": {
     "duration": 0.014115,
     "end_time": "2023-08-15T23:39:32.128409",
     "exception": false,
     "start_time": "2023-08-15T23:39:32.114294",
     "status": "completed"
    },
    "tags": []
   },
   "outputs": [],
   "source": [
    "pd.DataFrame({\n",
    "  'orders': tickets.groupby('event_date').number_of_tickets.count(),\n",
    "  'tickets': tickets.groupby('event_date').number_of_tickets.sum().astype(int),\n",
    "}).resample('M').sum().to_csv(os.path.join(OUTPUT_DIR, 'tickets_by_event_date.csv'))"
   ]
  },
  {
   "cell_type": "code",
   "execution_count": 10,
   "id": "e6dfdcac",
   "metadata": {
    "execution": {
     "iopub.execute_input": "2023-08-15T23:39:32.136165Z",
     "iopub.status.busy": "2023-08-15T23:39:32.135669Z",
     "iopub.status.idle": "2023-08-15T23:39:32.141868Z",
     "shell.execute_reply": "2023-08-15T23:39:32.141147Z"
    },
    "papermill": {
     "duration": 0.012308,
     "end_time": "2023-08-15T23:39:32.143536",
     "exception": false,
     "start_time": "2023-08-15T23:39:32.131228",
     "status": "completed"
    },
    "tags": []
   },
   "outputs": [],
   "source": [
    "pd.Series({\n",
    "    'total_events': events.event_unique_identifier.count(),\n",
    "    'total_attendances': events.attendances.count(),\n",
    "    'first_event': events.date.min(),\n",
    "    'latest_event': events.date.max(),\n",
    "    'total_ticket_orders_for_events_to_date': tickets.number_of_tickets.count(),\n",
    "    'total_tickets_sold_for_events_to_date': tickets.number_of_tickets.sum(),\n",
    "}).to_json(os.path.join(OUTPUT_DIR, 'headlines.json'), indent=2)"
   ]
  },
  {
   "cell_type": "code",
   "execution_count": null,
   "id": "efaf8296",
   "metadata": {
    "papermill": {
     "duration": 0.002932,
     "end_time": "2023-08-15T23:39:32.149310",
     "exception": false,
     "start_time": "2023-08-15T23:39:32.146378",
     "status": "completed"
    },
    "tags": []
   },
   "outputs": [],
   "source": []
  }
 ],
 "metadata": {
  "kernelspec": {
   "display_name": "leeds-2023-YZF5GfJv",
   "language": "python",
   "name": "python3"
  },
  "language_info": {
   "codemirror_mode": {
    "name": "ipython",
    "version": 3
   },
   "file_extension": ".py",
   "mimetype": "text/x-python",
   "name": "python",
   "nbconvert_exporter": "python",
   "pygments_lexer": "ipython3",
   "version": "3.10.12"
  },
  "papermill": {
   "default_parameters": {},
   "duration": 13.294042,
   "end_time": "2023-08-15T23:39:32.570510",
   "environment_variables": {},
   "exception": null,
   "input_path": "prepare.ipynb",
   "output_path": "../../../../working/output/signature-prepare.ipynb",
   "parameters": {},
   "start_time": "2023-08-15T23:39:19.276468",
   "version": "2.4.0"
  }
 },
 "nbformat": 4,
 "nbformat_minor": 5
}