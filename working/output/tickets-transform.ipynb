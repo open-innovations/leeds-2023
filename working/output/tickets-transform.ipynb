{
 "cells": [
  {
   "cell_type": "code",
   "execution_count": 1,
   "id": "2741bd90",
   "metadata": {
    "execution": {
     "iopub.execute_input": "2023-12-15T23:38:54.047444Z",
     "iopub.status.busy": "2023-12-15T23:38:54.047207Z",
     "iopub.status.idle": "2023-12-15T23:38:54.287434Z",
     "shell.execute_reply": "2023-12-15T23:38:54.286856Z"
    },
    "papermill": {
     "duration": 0.245949,
     "end_time": "2023-12-15T23:38:54.289118",
     "exception": false,
     "start_time": "2023-12-15T23:38:54.043169",
     "status": "completed"
    },
    "tags": []
   },
   "outputs": [],
   "source": [
    "import sys\n",
    "from pathlib import Path\n",
    "\n",
    "import pandas as pd\n",
    "\n",
    "TOP_DIR = Path('../../../..').resolve()\n",
    "\n",
    "if str(TOP_DIR) not in sys.path: sys.path.append(str(TOP_DIR))"
   ]
  },
  {
   "cell_type": "code",
   "execution_count": 2,
   "id": "3c925623",
   "metadata": {
    "execution": {
     "iopub.execute_input": "2023-12-15T23:38:54.295590Z",
     "iopub.status.busy": "2023-12-15T23:38:54.295149Z",
     "iopub.status.idle": "2023-12-15T23:39:01.275227Z",
     "shell.execute_reply": "2023-12-15T23:39:01.274585Z"
    },
    "papermill": {
     "duration": 6.984963,
     "end_time": "2023-12-15T23:39:01.276866",
     "exception": false,
     "start_time": "2023-12-15T23:38:54.291903",
     "status": "completed"
    },
    "tags": []
   },
   "outputs": [],
   "source": [
    "from lib.util.geo import postcode_formatter, postcode_to_ward_code"
   ]
  },
  {
   "cell_type": "code",
   "execution_count": 3,
   "id": "c3406ada",
   "metadata": {
    "execution": {
     "iopub.execute_input": "2023-12-15T23:39:01.283175Z",
     "iopub.status.busy": "2023-12-15T23:39:01.282782Z",
     "iopub.status.idle": "2023-12-15T23:39:01.303965Z",
     "shell.execute_reply": "2023-12-15T23:39:01.303448Z"
    },
    "papermill": {
     "duration": 0.025711,
     "end_time": "2023-12-15T23:39:01.305284",
     "exception": false,
     "start_time": "2023-12-15T23:39:01.279573",
     "status": "completed"
    },
    "tags": []
   },
   "outputs": [],
   "source": [
    "ticket_data = pd.read_csv(\n",
    "    '../../../../working/metrics/ticketing/orders.csv',\n",
    "    parse_dates=['created_at', 'event_date'],\n",
    "    usecols=[\n",
    "        'created_at',\n",
    "        'event_id',\n",
    "        'event_name',\n",
    "        'event_date',\n",
    "        'event_time',\n",
    "        'number_of_tickets',\n",
    "        'postcode_from_question',\n",
    "        'postcode_from_address',\n",
    "        'status',\n",
    "    ]\n",
    ")"
   ]
  },
  {
   "cell_type": "code",
   "execution_count": 4,
   "id": "c51fbd0b",
   "metadata": {
    "execution": {
     "iopub.execute_input": "2023-12-15T23:39:01.311419Z",
     "iopub.status.busy": "2023-12-15T23:39:01.310961Z",
     "iopub.status.idle": "2023-12-15T23:39:01.319544Z",
     "shell.execute_reply": "2023-12-15T23:39:01.318933Z"
    },
    "papermill": {
     "duration": 0.012978,
     "end_time": "2023-12-15T23:39:01.320799",
     "exception": false,
     "start_time": "2023-12-15T23:39:01.307821",
     "status": "completed"
    },
    "tags": []
   },
   "outputs": [
    {
     "name": "stdout",
     "output_type": "stream",
     "text": [
      "<class 'pandas.core.frame.DataFrame'>\n",
      "RangeIndex: 6635 entries, 0 to 6634\n",
      "Data columns (total 9 columns):\n",
      " #   Column                  Non-Null Count  Dtype         \n",
      "---  ------                  --------------  -----         \n",
      " 0   postcode_from_question  6268 non-null   object        \n",
      " 1   postcode_from_address   848 non-null    object        \n",
      " 2   created_at              6635 non-null   datetime64[ns]\n",
      " 3   event_id                6635 non-null   object        \n",
      " 4   event_name              6635 non-null   object        \n",
      " 5   event_date              6635 non-null   datetime64[ns]\n",
      " 6   event_time              6635 non-null   object        \n",
      " 7   number_of_tickets       6635 non-null   int64         \n",
      " 8   status                  6635 non-null   object        \n",
      "dtypes: datetime64[ns](2), int64(1), object(6)\n",
      "memory usage: 466.6+ KB\n"
     ]
    }
   ],
   "source": [
    "ticket_data.info()"
   ]
  },
  {
   "cell_type": "code",
   "execution_count": 5,
   "id": "41e7992a",
   "metadata": {
    "execution": {
     "iopub.execute_input": "2023-12-15T23:39:01.326930Z",
     "iopub.status.busy": "2023-12-15T23:39:01.326592Z",
     "iopub.status.idle": "2023-12-15T23:39:01.331407Z",
     "shell.execute_reply": "2023-12-15T23:39:01.330800Z"
    },
    "papermill": {
     "duration": 0.009271,
     "end_time": "2023-12-15T23:39:01.332632",
     "exception": false,
     "start_time": "2023-12-15T23:39:01.323361",
     "status": "completed"
    },
    "tags": []
   },
   "outputs": [],
   "source": [
    "completed_orders = (\n",
    "    ticket_data.loc[\n",
    "        ~ticket_data.status.isin(['cancelled']),\n",
    "        ticket_data.columns\n",
    "    ]\n",
    ")"
   ]
  },
  {
   "cell_type": "code",
   "execution_count": 6,
   "id": "6b073d45",
   "metadata": {
    "execution": {
     "iopub.execute_input": "2023-12-15T23:39:01.339453Z",
     "iopub.status.busy": "2023-12-15T23:39:01.339129Z",
     "iopub.status.idle": "2023-12-15T23:39:02.209548Z",
     "shell.execute_reply": "2023-12-15T23:39:02.208851Z"
    },
    "papermill": {
     "duration": 0.876096,
     "end_time": "2023-12-15T23:39:02.211289",
     "exception": false,
     "start_time": "2023-12-15T23:39:01.335193",
     "status": "completed"
    },
    "tags": []
   },
   "outputs": [],
   "source": [
    "completed_orders['ward_code'] = (\n",
    "    completed_orders\n",
    "        .loc[:, ['postcode_from_question', 'postcode_from_address']]\n",
    "        .bfill()\n",
    "        .iloc[:, 0]\n",
    "        .pipe(postcode_formatter)\n",
    "        .map(postcode_to_ward_code)\n",
    ")"
   ]
  },
  {
   "cell_type": "markdown",
   "id": "c3075439",
   "metadata": {
    "papermill": {
     "duration": 0.002966,
     "end_time": "2023-12-15T23:39:02.217201",
     "exception": false,
     "start_time": "2023-12-15T23:39:02.214235",
     "status": "completed"
    },
    "tags": []
   },
   "source": [
    "Get the events data"
   ]
  },
  {
   "cell_type": "code",
   "execution_count": 7,
   "id": "36a9a42e",
   "metadata": {
    "execution": {
     "iopub.execute_input": "2023-12-15T23:39:02.223789Z",
     "iopub.status.busy": "2023-12-15T23:39:02.223166Z",
     "iopub.status.idle": "2023-12-15T23:39:02.237914Z",
     "shell.execute_reply": "2023-12-15T23:39:02.237352Z"
    },
    "papermill": {
     "duration": 0.019437,
     "end_time": "2023-12-15T23:39:02.239213",
     "exception": false,
     "start_time": "2023-12-15T23:39:02.219776",
     "status": "completed"
    },
    "tags": []
   },
   "outputs": [],
   "source": [
    "def prepare_events(data: pd.DataFrame):\n",
    "    data = data.rename(columns={\n",
    "        'Project name': 'project_name',\n",
    "        'Event type': 'event_type',\n",
    "        'Ticket Tailor ID': 'ticket_tailor_id'\n",
    "    })\n",
    "    data['public_event'] = data.event_type.str.contains('Public Event')\n",
    "    data['ticket_tailor_id'] = data.ticket_tailor_id.str.split(\n",
    "        pat=r'[\\s,]+', regex=True)\n",
    "    data = data.drop(columns=['event_type'])\n",
    "    data = data.explode('ticket_tailor_id')\n",
    "    data = data.loc[data.ticket_tailor_id.notna() & (data.ticket_tailor_id != '')]\n",
    "    return data\n",
    "\n",
    "\n",
    "events = pd.read_csv(\n",
    "    '../../../../working/metrics/events/all.csv',\n",
    "    usecols=[\n",
    "        'Project name',\n",
    "        'Event type',\n",
    "        'Ticket Tailor ID'\n",
    "    ]\n",
    ").pipe(prepare_events)"
   ]
  },
  {
   "cell_type": "markdown",
   "id": "2efc7141",
   "metadata": {
    "papermill": {
     "duration": 0.002521,
     "end_time": "2023-12-15T23:39:02.244301",
     "exception": false,
     "start_time": "2023-12-15T23:39:02.241780",
     "status": "completed"
    },
    "tags": []
   },
   "source": [
    "Duplicated ticket tailor IDs"
   ]
  },
  {
   "cell_type": "code",
   "execution_count": 8,
   "id": "1e8bfe0d",
   "metadata": {
    "execution": {
     "iopub.execute_input": "2023-12-15T23:39:02.250603Z",
     "iopub.status.busy": "2023-12-15T23:39:02.250202Z",
     "iopub.status.idle": "2023-12-15T23:39:02.260942Z",
     "shell.execute_reply": "2023-12-15T23:39:02.260333Z"
    },
    "papermill": {
     "duration": 0.015297,
     "end_time": "2023-12-15T23:39:02.262181",
     "exception": false,
     "start_time": "2023-12-15T23:39:02.246884",
     "status": "completed"
    },
    "tags": []
   },
   "outputs": [
    {
     "data": {
      "text/html": [
       "<div>\n",
       "<style scoped>\n",
       "    .dataframe tbody tr th:only-of-type {\n",
       "        vertical-align: middle;\n",
       "    }\n",
       "\n",
       "    .dataframe tbody tr th {\n",
       "        vertical-align: top;\n",
       "    }\n",
       "\n",
       "    .dataframe thead th {\n",
       "        text-align: right;\n",
       "    }\n",
       "</style>\n",
       "<table border=\"1\" class=\"dataframe\">\n",
       "  <thead>\n",
       "    <tr style=\"text-align: right;\">\n",
       "      <th></th>\n",
       "      <th>project_name</th>\n",
       "      <th>ticket_tailor_id</th>\n",
       "      <th>public_event</th>\n",
       "    </tr>\n",
       "  </thead>\n",
       "  <tbody>\n",
       "    <tr>\n",
       "      <th>117</th>\n",
       "      <td>11 - All That Lives</td>\n",
       "      <td>985872</td>\n",
       "      <td>True</td>\n",
       "    </tr>\n",
       "    <tr>\n",
       "      <th>134</th>\n",
       "      <td>09 - Smeaton300: Moon Palace East Leeds Observ...</td>\n",
       "      <td>ev_2918127</td>\n",
       "      <td>True</td>\n",
       "    </tr>\n",
       "    <tr>\n",
       "      <th>159</th>\n",
       "      <td>11 - All That Lives</td>\n",
       "      <td>985872</td>\n",
       "      <td>True</td>\n",
       "    </tr>\n",
       "    <tr>\n",
       "      <th>251</th>\n",
       "      <td>Creative Learning S3</td>\n",
       "      <td>ev_3073624</td>\n",
       "      <td>False</td>\n",
       "    </tr>\n",
       "    <tr>\n",
       "      <th>309</th>\n",
       "      <td>11 - All That Lives</td>\n",
       "      <td>985872</td>\n",
       "      <td>True</td>\n",
       "    </tr>\n",
       "    <tr>\n",
       "      <th>608</th>\n",
       "      <td>11 - All That Lives</td>\n",
       "      <td>985872</td>\n",
       "      <td>True</td>\n",
       "    </tr>\n",
       "    <tr>\n",
       "      <th>887</th>\n",
       "      <td>07 - Children's Day</td>\n",
       "      <td>ev_2963290</td>\n",
       "      <td>NaN</td>\n",
       "    </tr>\n",
       "    <tr>\n",
       "      <th>887</th>\n",
       "      <td>07 - Children's Day</td>\n",
       "      <td>ev_2963290</td>\n",
       "      <td>NaN</td>\n",
       "    </tr>\n",
       "    <tr>\n",
       "      <th>887</th>\n",
       "      <td>07 - Children's Day</td>\n",
       "      <td>ev_2963295</td>\n",
       "      <td>NaN</td>\n",
       "    </tr>\n",
       "    <tr>\n",
       "      <th>887</th>\n",
       "      <td>07 - Children's Day</td>\n",
       "      <td>ev_2963297</td>\n",
       "      <td>NaN</td>\n",
       "    </tr>\n",
       "    <tr>\n",
       "      <th>887</th>\n",
       "      <td>07 - Children's Day</td>\n",
       "      <td>ev_2963295</td>\n",
       "      <td>NaN</td>\n",
       "    </tr>\n",
       "    <tr>\n",
       "      <th>887</th>\n",
       "      <td>07 - Children's Day</td>\n",
       "      <td>ev_2963296</td>\n",
       "      <td>NaN</td>\n",
       "    </tr>\n",
       "    <tr>\n",
       "      <th>887</th>\n",
       "      <td>07 - Children's Day</td>\n",
       "      <td>ev_2963296</td>\n",
       "      <td>NaN</td>\n",
       "    </tr>\n",
       "    <tr>\n",
       "      <th>887</th>\n",
       "      <td>07 - Children's Day</td>\n",
       "      <td>ev_2963297</td>\n",
       "      <td>NaN</td>\n",
       "    </tr>\n",
       "    <tr>\n",
       "      <th>928</th>\n",
       "      <td>11 - All That Lives</td>\n",
       "      <td>985872</td>\n",
       "      <td>True</td>\n",
       "    </tr>\n",
       "    <tr>\n",
       "      <th>1094</th>\n",
       "      <td>09 - Smeaton300: Moon Palace East Leeds Observ...</td>\n",
       "      <td>ev_2918127</td>\n",
       "      <td>True</td>\n",
       "    </tr>\n",
       "    <tr>\n",
       "      <th>1364</th>\n",
       "      <td>07 - Children's Day</td>\n",
       "      <td>ev_2963290</td>\n",
       "      <td>True</td>\n",
       "    </tr>\n",
       "    <tr>\n",
       "      <th>1364</th>\n",
       "      <td>07 - Children's Day</td>\n",
       "      <td>ev_2963295</td>\n",
       "      <td>True</td>\n",
       "    </tr>\n",
       "    <tr>\n",
       "      <th>1364</th>\n",
       "      <td>07 - Children's Day</td>\n",
       "      <td>ev_2963296</td>\n",
       "      <td>True</td>\n",
       "    </tr>\n",
       "    <tr>\n",
       "      <th>1364</th>\n",
       "      <td>07 - Children's Day</td>\n",
       "      <td>ev_2963297</td>\n",
       "      <td>True</td>\n",
       "    </tr>\n",
       "    <tr>\n",
       "      <th>1382</th>\n",
       "      <td>09 - Smeaton300: Moon Palace East Leeds Observ...</td>\n",
       "      <td>ev_2918127</td>\n",
       "      <td>True</td>\n",
       "    </tr>\n",
       "    <tr>\n",
       "      <th>1462</th>\n",
       "      <td>Creative Learning S3</td>\n",
       "      <td>ev_3073624</td>\n",
       "      <td>False</td>\n",
       "    </tr>\n",
       "  </tbody>\n",
       "</table>\n",
       "</div>"
      ],
      "text/plain": [
       "                                           project_name ticket_tailor_id  \\\n",
       "117                                 11 - All That Lives           985872   \n",
       "134   09 - Smeaton300: Moon Palace East Leeds Observ...       ev_2918127   \n",
       "159                                 11 - All That Lives           985872   \n",
       "251                                Creative Learning S3       ev_3073624   \n",
       "309                                 11 - All That Lives           985872   \n",
       "608                                 11 - All That Lives           985872   \n",
       "887                                 07 - Children's Day       ev_2963290   \n",
       "887                                 07 - Children's Day       ev_2963290   \n",
       "887                                 07 - Children's Day       ev_2963295   \n",
       "887                                 07 - Children's Day       ev_2963297   \n",
       "887                                 07 - Children's Day       ev_2963295   \n",
       "887                                 07 - Children's Day       ev_2963296   \n",
       "887                                 07 - Children's Day       ev_2963296   \n",
       "887                                 07 - Children's Day       ev_2963297   \n",
       "928                                 11 - All That Lives           985872   \n",
       "1094  09 - Smeaton300: Moon Palace East Leeds Observ...       ev_2918127   \n",
       "1364                                07 - Children's Day       ev_2963290   \n",
       "1364                                07 - Children's Day       ev_2963295   \n",
       "1364                                07 - Children's Day       ev_2963296   \n",
       "1364                                07 - Children's Day       ev_2963297   \n",
       "1382  09 - Smeaton300: Moon Palace East Leeds Observ...       ev_2918127   \n",
       "1462                               Creative Learning S3       ev_3073624   \n",
       "\n",
       "     public_event  \n",
       "117          True  \n",
       "134          True  \n",
       "159          True  \n",
       "251         False  \n",
       "309          True  \n",
       "608          True  \n",
       "887           NaN  \n",
       "887           NaN  \n",
       "887           NaN  \n",
       "887           NaN  \n",
       "887           NaN  \n",
       "887           NaN  \n",
       "887           NaN  \n",
       "887           NaN  \n",
       "928          True  \n",
       "1094         True  \n",
       "1364         True  \n",
       "1364         True  \n",
       "1364         True  \n",
       "1364         True  \n",
       "1382         True  \n",
       "1462        False  "
      ]
     },
     "execution_count": 8,
     "metadata": {},
     "output_type": "execute_result"
    }
   ],
   "source": [
    "events[\n",
    "  events.ticket_tailor_id.isin(\n",
    "    events.ticket_tailor_id[\n",
    "      events.ticket_tailor_id.duplicated()\n",
    "    ].to_list()\n",
    "  )\n",
    "]"
   ]
  },
  {
   "cell_type": "code",
   "execution_count": 9,
   "id": "81a25c41",
   "metadata": {
    "execution": {
     "iopub.execute_input": "2023-12-15T23:39:02.268867Z",
     "iopub.status.busy": "2023-12-15T23:39:02.268475Z",
     "iopub.status.idle": "2023-12-15T23:39:02.272437Z",
     "shell.execute_reply": "2023-12-15T23:39:02.271820Z"
    },
    "papermill": {
     "duration": 0.008765,
     "end_time": "2023-12-15T23:39:02.273763",
     "exception": false,
     "start_time": "2023-12-15T23:39:02.264998",
     "status": "completed"
    },
    "tags": []
   },
   "outputs": [
    {
     "data": {
      "text/plain": [
       "6470"
      ]
     },
     "execution_count": 9,
     "metadata": {},
     "output_type": "execute_result"
    }
   ],
   "source": [
    "len(completed_orders)"
   ]
  },
  {
   "cell_type": "code",
   "execution_count": 10,
   "id": "b51cc5e1",
   "metadata": {
    "execution": {
     "iopub.execute_input": "2023-12-15T23:39:02.280818Z",
     "iopub.status.busy": "2023-12-15T23:39:02.280408Z",
     "iopub.status.idle": "2023-12-15T23:39:02.287763Z",
     "shell.execute_reply": "2023-12-15T23:39:02.287269Z"
    },
    "papermill": {
     "duration": 0.012266,
     "end_time": "2023-12-15T23:39:02.289022",
     "exception": false,
     "start_time": "2023-12-15T23:39:02.276756",
     "status": "completed"
    },
    "tags": []
   },
   "outputs": [],
   "source": [
    "completed_orders = completed_orders.merge(\n",
    "    events.drop_duplicates().set_index('ticket_tailor_id'),\n",
    "    left_on='event_id',\n",
    "    right_index=True,\n",
    "    how='left'\n",
    ")"
   ]
  },
  {
   "cell_type": "code",
   "execution_count": 11,
   "id": "407ded39",
   "metadata": {
    "execution": {
     "iopub.execute_input": "2023-12-15T23:39:02.296069Z",
     "iopub.status.busy": "2023-12-15T23:39:02.295678Z",
     "iopub.status.idle": "2023-12-15T23:39:02.299619Z",
     "shell.execute_reply": "2023-12-15T23:39:02.299001Z"
    },
    "papermill": {
     "duration": 0.00897,
     "end_time": "2023-12-15T23:39:02.300996",
     "exception": false,
     "start_time": "2023-12-15T23:39:02.292026",
     "status": "completed"
    },
    "tags": []
   },
   "outputs": [
    {
     "data": {
      "text/plain": [
       "6478"
      ]
     },
     "execution_count": 11,
     "metadata": {},
     "output_type": "execute_result"
    }
   ],
   "source": [
    "len(completed_orders)"
   ]
  },
  {
   "cell_type": "code",
   "execution_count": 12,
   "id": "e8540558",
   "metadata": {
    "execution": {
     "iopub.execute_input": "2023-12-15T23:39:02.308131Z",
     "iopub.status.busy": "2023-12-15T23:39:02.307780Z",
     "iopub.status.idle": "2023-12-15T23:39:02.310941Z",
     "shell.execute_reply": "2023-12-15T23:39:02.310323Z"
    },
    "papermill": {
     "duration": 0.008054,
     "end_time": "2023-12-15T23:39:02.312177",
     "exception": false,
     "start_time": "2023-12-15T23:39:02.304123",
     "status": "completed"
    },
    "tags": []
   },
   "outputs": [],
   "source": [
    "OUTPUT_DIR = TOP_DIR.joinpath('data/metrics/events/tickets/')\n",
    "OUTPUT_DIR.mkdir(parents=True, exist_ok=True)"
   ]
  },
  {
   "cell_type": "code",
   "execution_count": 13,
   "id": "46580cf9",
   "metadata": {
    "execution": {
     "iopub.execute_input": "2023-12-15T23:39:02.319638Z",
     "iopub.status.busy": "2023-12-15T23:39:02.319195Z",
     "iopub.status.idle": "2023-12-15T23:39:02.345647Z",
     "shell.execute_reply": "2023-12-15T23:39:02.345145Z"
    },
    "papermill": {
     "duration": 0.03157,
     "end_time": "2023-12-15T23:39:02.346961",
     "exception": false,
     "start_time": "2023-12-15T23:39:02.315391",
     "status": "completed"
    },
    "tags": []
   },
   "outputs": [],
   "source": [
    "completed_orders.loc[:, [\n",
    "    'created_at',\n",
    "    'event_id',\n",
    "    'event_date',\n",
    "    'number_of_tickets',\n",
    "    'ward_code',\n",
    "    'project_name',\n",
    "    'public_event',\n",
    "]].sort_values(['created_at', 'event_id']).to_csv(\n",
    "  OUTPUT_DIR.joinpath('orders.csv'),\n",
    "  index=False\n",
    ")"
   ]
  },
  {
   "cell_type": "code",
   "execution_count": 14,
   "id": "339f36ec",
   "metadata": {
    "execution": {
     "iopub.execute_input": "2023-12-15T23:39:02.354146Z",
     "iopub.status.busy": "2023-12-15T23:39:02.353959Z",
     "iopub.status.idle": "2023-12-15T23:39:02.362280Z",
     "shell.execute_reply": "2023-12-15T23:39:02.361720Z"
    },
    "papermill": {
     "duration": 0.013476,
     "end_time": "2023-12-15T23:39:02.363619",
     "exception": false,
     "start_time": "2023-12-15T23:39:02.350143",
     "status": "completed"
    },
    "tags": []
   },
   "outputs": [],
   "source": [
    "(\n",
    "    completed_orders.loc[:, ['event_date', 'event_time', 'event_name', 'event_id', 'project_name', 'public_event']]\n",
    "      .drop_duplicates()\n",
    "      .sort_values(['event_date', 'event_time'])\n",
    "      .to_csv('../../../../data/metrics/events/tickets/events.csv', index=False)\n",
    ")"
   ]
  },
  {
   "cell_type": "code",
   "execution_count": 15,
   "id": "5bf14cd3",
   "metadata": {
    "execution": {
     "iopub.execute_input": "2023-12-15T23:39:02.370979Z",
     "iopub.status.busy": "2023-12-15T23:39:02.370613Z",
     "iopub.status.idle": "2023-12-15T23:39:03.103909Z",
     "shell.execute_reply": "2023-12-15T23:39:03.103206Z"
    },
    "papermill": {
     "duration": 0.73866,
     "end_time": "2023-12-15T23:39:03.105440",
     "exception": false,
     "start_time": "2023-12-15T23:39:02.366780",
     "status": "completed"
    },
    "tags": []
   },
   "outputs": [
    {
     "data": {
      "image/png": "[encoded data removed]",
      "text/plain": [
       "<Figure size 640x480 with 1 Axes>"
      ]
     },
     "metadata": {},
     "output_type": "display_data"
    }
   ],
   "source": [
    "chart = completed_orders.groupby(['project_name']).number_of_tickets.sum().sort_values().plot.barh()"
   ]
  },
  {
   "cell_type": "code",
   "execution_count": 16,
   "id": "f7ebb6c4",
   "metadata": {
    "execution": {
     "iopub.execute_input": "2023-12-15T23:39:03.114256Z",
     "iopub.status.busy": "2023-12-15T23:39:03.113769Z",
     "iopub.status.idle": "2023-12-15T23:39:03.258404Z",
     "shell.execute_reply": "2023-12-15T23:39:03.257697Z"
    },
    "papermill": {
     "duration": 0.150549,
     "end_time": "2023-12-15T23:39:03.259849",
     "exception": false,
     "start_time": "2023-12-15T23:39:03.109300",
     "status": "completed"
    },
    "tags": []
   },
   "outputs": [
    {
     "data": {
      "image/png": "[encoded data removed]",
      "text/plain": [
       "<Figure size 640x480 with 1 Axes>"
      ]
     },
     "metadata": {},
     "output_type": "display_data"
    }
   ],
   "source": [
    "chart = completed_orders.groupby([\n",
    "    'event_date'\n",
    "    ]).number_of_tickets.sum().resample('M').sum().cumsum().plot.bar()"
   ]
  },
  {
   "cell_type": "code",
   "execution_count": null,
   "id": "895d92d9",
   "metadata": {
    "papermill": {
     "duration": 0.004015,
     "end_time": "2023-12-15T23:39:03.268228",
     "exception": false,
     "start_time": "2023-12-15T23:39:03.264213",
     "status": "completed"
    },
    "tags": []
   },
   "outputs": [],
   "source": []
  }
 ],
 "metadata": {
  "kernelspec": {
   "display_name": "leeds-2023-YZF5GfJv",
   "language": "python",
   "name": "python3"
  },
  "language_info": {
   "codemirror_mode": {
    "name": "ipython",
    "version": 3
   },
   "file_extension": ".py",
   "mimetype": "text/x-python",
   "name": "python",
   "nbconvert_exporter": "python",
   "pygments_lexer": "ipython3",
   "version": "3.10.13"
  },
  "papermill": {
   "default_parameters": {},
   "duration": 10.888032,
   "end_time": "2023-12-15T23:39:03.590052",
   "environment_variables": {},
   "exception": null,
   "input_path": "tickets.ipynb",
   "output_path": "../../../../working/output/tickets-transform.ipynb",
   "parameters": {},
   "start_time": "2023-12-15T23:38:52.702020",
   "version": "2.4.0"
  }
 },
 "nbformat": 4,
 "nbformat_minor": 5
}