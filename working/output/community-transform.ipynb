{
 "cells": [
  {
   "cell_type": "code",
   "execution_count": 1,
   "id": "b6fab059",
   "metadata": {
    "execution": {
     "iopub.execute_input": "2023-12-14T23:40:35.292905Z",
     "iopub.status.busy": "2023-12-14T23:40:35.292446Z",
     "iopub.status.idle": "2023-12-14T23:40:35.300002Z",
     "shell.execute_reply": "2023-12-14T23:40:35.299373Z"
    },
    "papermill": {
     "duration": 0.012476,
     "end_time": "2023-12-14T23:40:35.301480",
     "exception": false,
     "start_time": "2023-12-14T23:40:35.289004",
     "status": "completed"
    },
    "tags": []
   },
   "outputs": [],
   "source": [
    "import os\n",
    "import sys\n",
    "\n",
    "TOP_DIR=os.path.realpath(\"../../..\")\n",
    "if TOP_DIR not in sys.path: sys.path.append(TOP_DIR)"
   ]
  },
  {
   "cell_type": "code",
   "execution_count": 2,
   "id": "a8018d7c",
   "metadata": {
    "execution": {
     "iopub.execute_input": "2023-12-14T23:40:35.306324Z",
     "iopub.status.busy": "2023-12-14T23:40:35.305911Z",
     "iopub.status.idle": "2023-12-14T23:40:42.730117Z",
     "shell.execute_reply": "2023-12-14T23:40:42.729369Z"
    },
    "papermill": {
     "duration": 7.428254,
     "end_time": "2023-12-14T23:40:42.731721",
     "exception": false,
     "start_time": "2023-12-14T23:40:35.303467",
     "status": "completed"
    },
    "tags": []
   },
   "outputs": [],
   "source": [
    "import pandas as pd\n",
    "import numpy as np\n",
    "from lib.util.convert import standardise_columns, literal_converter\n",
    "from lib.util.geo import normalise_leeds_wards, ward_name_to_code"
   ]
  },
  {
   "cell_type": "code",
   "execution_count": 3,
   "id": "c96f5db8",
   "metadata": {
    "execution": {
     "iopub.execute_input": "2023-12-14T23:40:42.737083Z",
     "iopub.status.busy": "2023-12-14T23:40:42.736602Z",
     "iopub.status.idle": "2023-12-14T23:40:42.756436Z",
     "shell.execute_reply": "2023-12-14T23:40:42.755806Z"
    },
    "papermill": {
     "duration": 0.024156,
     "end_time": "2023-12-14T23:40:42.757907",
     "exception": false,
     "start_time": "2023-12-14T23:40:42.733751",
     "status": "completed"
    },
    "tags": []
   },
   "outputs": [],
   "source": [
    "data = pd.read_csv('../../../working/metrics/community/events.csv', parse_dates=['Start date'])\n",
    "data = data.rename(columns=standardise_columns)"
   ]
  },
  {
   "cell_type": "code",
   "execution_count": 4,
   "id": "f16e3bd8",
   "metadata": {
    "execution": {
     "iopub.execute_input": "2023-12-14T23:40:42.762562Z",
     "iopub.status.busy": "2023-12-14T23:40:42.762080Z",
     "iopub.status.idle": "2023-12-14T23:40:42.771479Z",
     "shell.execute_reply": "2023-12-14T23:40:42.770880Z"
    },
    "papermill": {
     "duration": 0.013225,
     "end_time": "2023-12-14T23:40:42.772903",
     "exception": false,
     "start_time": "2023-12-14T23:40:42.759678",
     "status": "completed"
    },
    "tags": []
   },
   "outputs": [],
   "source": [
    "wards = data['ward_(from_venue)'].fillna('[]').pipe(literal_converter).apply(np.unique)"
   ]
  },
  {
   "cell_type": "code",
   "execution_count": 5,
   "id": "084a7139",
   "metadata": {
    "execution": {
     "iopub.execute_input": "2023-12-14T23:40:42.777789Z",
     "iopub.status.busy": "2023-12-14T23:40:42.777366Z",
     "iopub.status.idle": "2023-12-14T23:40:42.797690Z",
     "shell.execute_reply": "2023-12-14T23:40:42.797165Z"
    },
    "papermill": {
     "duration": 0.024152,
     "end_time": "2023-12-14T23:40:42.798948",
     "exception": false,
     "start_time": "2023-12-14T23:40:42.774796",
     "status": "completed"
    },
    "tags": []
   },
   "outputs": [],
   "source": [
    "data['ward_name'] = wards.apply(lambda x: x[0] if len(x) > 0 else np.nan).pipe(normalise_leeds_wards)\n",
    "data['ward_code'] = data.ward_name.pipe(ward_name_to_code)\n",
    "data['audience'] = data.actual_audience_size_number_of_participants_in_person\n",
    "cleaned_data = data.loc[:, ['event_name', 'project_name', 'start_date', 'ward_name', 'ward_code', 'audience']]"
   ]
  },
  {
   "cell_type": "code",
   "execution_count": 6,
   "id": "98f7e77a",
   "metadata": {
    "execution": {
     "iopub.execute_input": "2023-12-14T23:40:42.803386Z",
     "iopub.status.busy": "2023-12-14T23:40:42.803196Z",
     "iopub.status.idle": "2023-12-14T23:40:42.808743Z",
     "shell.execute_reply": "2023-12-14T23:40:42.808244Z"
    },
    "papermill": {
     "duration": 0.009253,
     "end_time": "2023-12-14T23:40:42.809975",
     "exception": false,
     "start_time": "2023-12-14T23:40:42.800722",
     "status": "completed"
    },
    "tags": []
   },
   "outputs": [],
   "source": [
    "DATA_DIR='../../../data/metrics/community'\n",
    "os.makedirs(DATA_DIR, exist_ok=True)\n",
    "cleaned_data.to_csv(os.path.join(DATA_DIR, 'events.csv'), index=False)"
   ]
  },
  {
   "cell_type": "markdown",
   "id": "890aa6b7",
   "metadata": {
    "papermill": {
     "duration": 0.00176,
     "end_time": "2023-12-14T23:40:42.813530",
     "exception": false,
     "start_time": "2023-12-14T23:40:42.811770",
     "status": "completed"
    },
    "tags": []
   },
   "source": [
    "Missing or duplicated wards"
   ]
  },
  {
   "cell_type": "code",
   "execution_count": 7,
   "id": "b4a69b32",
   "metadata": {
    "execution": {
     "iopub.execute_input": "2023-12-14T23:40:42.818035Z",
     "iopub.status.busy": "2023-12-14T23:40:42.817691Z",
     "iopub.status.idle": "2023-12-14T23:40:42.830670Z",
     "shell.execute_reply": "2023-12-14T23:40:42.830063Z"
    },
    "papermill": {
     "duration": 0.016769,
     "end_time": "2023-12-14T23:40:42.832095",
     "exception": false,
     "start_time": "2023-12-14T23:40:42.815326",
     "status": "completed"
    },
    "tags": []
   },
   "outputs": [
    {
     "data": {
      "text/html": [
       "<div>\n",
       "<style scoped>\n",
       "    .dataframe tbody tr th:only-of-type {\n",
       "        vertical-align: middle;\n",
       "    }\n",
       "\n",
       "    .dataframe tbody tr th {\n",
       "        vertical-align: top;\n",
       "    }\n",
       "\n",
       "    .dataframe thead th {\n",
       "        text-align: right;\n",
       "    }\n",
       "</style>\n",
       "<table border=\"1\" class=\"dataframe\">\n",
       "  <thead>\n",
       "    <tr style=\"text-align: right;\">\n",
       "      <th></th>\n",
       "      <th>project_name</th>\n",
       "      <th>event_name</th>\n",
       "      <th>start_date</th>\n",
       "      <th>ward_(from_venue)</th>\n",
       "    </tr>\n",
       "  </thead>\n",
       "  <tbody>\n",
       "    <tr>\n",
       "      <th>25</th>\n",
       "      <td>01 - The Awakening</td>\n",
       "      <td>Be More and Swarthmore Pack</td>\n",
       "      <td>2023-02-07</td>\n",
       "      <td>NaN</td>\n",
       "    </tr>\n",
       "    <tr>\n",
       "      <th>55</th>\n",
       "      <td>01 - The Awakening</td>\n",
       "      <td>Creation Station - Leeds City Council</td>\n",
       "      <td>2022-11-23</td>\n",
       "      <td>NaN</td>\n",
       "    </tr>\n",
       "    <tr>\n",
       "      <th>56</th>\n",
       "      <td>01 - The Awakening</td>\n",
       "      <td>Creation Station - Leeds City Council</td>\n",
       "      <td>2022-11-24</td>\n",
       "      <td>NaN</td>\n",
       "    </tr>\n",
       "    <tr>\n",
       "      <th>70</th>\n",
       "      <td>01 - The Awakening</td>\n",
       "      <td>Creation Station - Yorkshire Schools Dance Fes...</td>\n",
       "      <td>2022-11-19</td>\n",
       "      <td>NaN</td>\n",
       "    </tr>\n",
       "    <tr>\n",
       "      <th>72</th>\n",
       "      <td>01 - The Awakening</td>\n",
       "      <td>Creation Station: Ballot Engagement</td>\n",
       "      <td>NaT</td>\n",
       "      <td>NaN</td>\n",
       "    </tr>\n",
       "    <tr>\n",
       "      <th>...</th>\n",
       "      <td>...</td>\n",
       "      <td>...</td>\n",
       "      <td>...</td>\n",
       "      <td>...</td>\n",
       "    </tr>\n",
       "    <tr>\n",
       "      <th>291</th>\n",
       "      <td>Hidden Stories</td>\n",
       "      <td>Edible Archives: Eating The Corn Exchange Slot 2</td>\n",
       "      <td>2023-10-29</td>\n",
       "      <td>NaN</td>\n",
       "    </tr>\n",
       "    <tr>\n",
       "      <th>292</th>\n",
       "      <td>Hidden Stories</td>\n",
       "      <td>Harewood House - Aberford Community Cafe</td>\n",
       "      <td>2023-04-28</td>\n",
       "      <td>NaN</td>\n",
       "    </tr>\n",
       "    <tr>\n",
       "      <th>300</th>\n",
       "      <td>Hidden Stories</td>\n",
       "      <td>Lens Lab Exhibition</td>\n",
       "      <td>2023-09-16</td>\n",
       "      <td>NaN</td>\n",
       "    </tr>\n",
       "    <tr>\n",
       "      <th>306</th>\n",
       "      <td>Hidden Stories</td>\n",
       "      <td>Royal Armouries Exhibition</td>\n",
       "      <td>2023-09-07</td>\n",
       "      <td>NaN</td>\n",
       "    </tr>\n",
       "    <tr>\n",
       "      <th>310</th>\n",
       "      <td>Hidden Stories</td>\n",
       "      <td>TBC British Library Collaboration</td>\n",
       "      <td>NaT</td>\n",
       "      <td>NaN</td>\n",
       "    </tr>\n",
       "  </tbody>\n",
       "</table>\n",
       "<p>82 rows × 4 columns</p>\n",
       "</div>"
      ],
      "text/plain": [
       "           project_name                                         event_name  \\\n",
       "25   01 - The Awakening                        Be More and Swarthmore Pack   \n",
       "55   01 - The Awakening             Creation Station - Leeds City Council    \n",
       "56   01 - The Awakening             Creation Station - Leeds City Council    \n",
       "70   01 - The Awakening  Creation Station - Yorkshire Schools Dance Fes...   \n",
       "72   01 - The Awakening               Creation Station: Ballot Engagement    \n",
       "..                  ...                                                ...   \n",
       "291      Hidden Stories   Edible Archives: Eating The Corn Exchange Slot 2   \n",
       "292      Hidden Stories           Harewood House - Aberford Community Cafe   \n",
       "300      Hidden Stories                                Lens Lab Exhibition   \n",
       "306      Hidden Stories                         Royal Armouries Exhibition   \n",
       "310      Hidden Stories                  TBC British Library Collaboration   \n",
       "\n",
       "    start_date ward_(from_venue)  \n",
       "25  2023-02-07               NaN  \n",
       "55  2022-11-23               NaN  \n",
       "56  2022-11-24               NaN  \n",
       "70  2022-11-19               NaN  \n",
       "72         NaT               NaN  \n",
       "..         ...               ...  \n",
       "291 2023-10-29               NaN  \n",
       "292 2023-04-28               NaN  \n",
       "300 2023-09-16               NaN  \n",
       "306 2023-09-07               NaN  \n",
       "310        NaT               NaN  \n",
       "\n",
       "[82 rows x 4 columns]"
      ]
     },
     "execution_count": 7,
     "metadata": {},
     "output_type": "execute_result"
    }
   ],
   "source": [
    "data.loc[wards.apply(len) != 1, ['project_name', 'event_name', 'start_date', 'ward_(from_venue)']]"
   ]
  },
  {
   "cell_type": "markdown",
   "id": "4bc3cd66",
   "metadata": {
    "papermill": {
     "duration": 0.002061,
     "end_time": "2023-12-14T23:40:42.837282",
     "exception": false,
     "start_time": "2023-12-14T23:40:42.835221",
     "status": "completed"
    },
    "tags": []
   },
   "source": [
    "Missing audience"
   ]
  },
  {
   "cell_type": "code",
   "execution_count": 8,
   "id": "b2c540d2",
   "metadata": {
    "execution": {
     "iopub.execute_input": "2023-12-14T23:40:42.842839Z",
     "iopub.status.busy": "2023-12-14T23:40:42.842266Z",
     "iopub.status.idle": "2023-12-14T23:40:42.853001Z",
     "shell.execute_reply": "2023-12-14T23:40:42.852444Z"
    },
    "papermill": {
     "duration": 0.014939,
     "end_time": "2023-12-14T23:40:42.854303",
     "exception": false,
     "start_time": "2023-12-14T23:40:42.839364",
     "status": "completed"
    },
    "tags": []
   },
   "outputs": [
    {
     "data": {
      "text/html": [
       "<div>\n",
       "<style scoped>\n",
       "    .dataframe tbody tr th:only-of-type {\n",
       "        vertical-align: middle;\n",
       "    }\n",
       "\n",
       "    .dataframe tbody tr th {\n",
       "        vertical-align: top;\n",
       "    }\n",
       "\n",
       "    .dataframe thead th {\n",
       "        text-align: right;\n",
       "    }\n",
       "</style>\n",
       "<table border=\"1\" class=\"dataframe\">\n",
       "  <thead>\n",
       "    <tr style=\"text-align: right;\">\n",
       "      <th></th>\n",
       "      <th>project_name</th>\n",
       "      <th>event_name</th>\n",
       "      <th>start_date</th>\n",
       "      <th>audience</th>\n",
       "    </tr>\n",
       "  </thead>\n",
       "  <tbody>\n",
       "    <tr>\n",
       "      <th>2</th>\n",
       "      <td>01 - The Awakening</td>\n",
       "      <td>Ballot Facilitated Session - Carr Manor Commun...</td>\n",
       "      <td>2022-11-01</td>\n",
       "      <td>NaN</td>\n",
       "    </tr>\n",
       "    <tr>\n",
       "      <th>3</th>\n",
       "      <td>01 - The Awakening</td>\n",
       "      <td>Ballot Facilitated Session - Chapel Allerton P...</td>\n",
       "      <td>2022-11-07</td>\n",
       "      <td>NaN</td>\n",
       "    </tr>\n",
       "    <tr>\n",
       "      <th>4</th>\n",
       "      <td>01 - The Awakening</td>\n",
       "      <td>Ballot Facilitated Session - Cobden Primary Sc...</td>\n",
       "      <td>2022-11-09</td>\n",
       "      <td>NaN</td>\n",
       "    </tr>\n",
       "    <tr>\n",
       "      <th>5</th>\n",
       "      <td>01 - The Awakening</td>\n",
       "      <td>Ballot Facilitated Session - Cobden Primary Sc...</td>\n",
       "      <td>2022-11-10</td>\n",
       "      <td>NaN</td>\n",
       "    </tr>\n",
       "    <tr>\n",
       "      <th>6</th>\n",
       "      <td>01 - The Awakening</td>\n",
       "      <td>Ballot Facilitated Session - Cobden Primary Sc...</td>\n",
       "      <td>2022-11-18</td>\n",
       "      <td>NaN</td>\n",
       "    </tr>\n",
       "    <tr>\n",
       "      <th>...</th>\n",
       "      <td>...</td>\n",
       "      <td>...</td>\n",
       "      <td>...</td>\n",
       "      <td>...</td>\n",
       "    </tr>\n",
       "    <tr>\n",
       "      <th>313</th>\n",
       "      <td>Hidden Stories</td>\n",
       "      <td>Try Your Hand at Ceramic Sculpture</td>\n",
       "      <td>2023-09-10</td>\n",
       "      <td>NaN</td>\n",
       "    </tr>\n",
       "    <tr>\n",
       "      <th>314</th>\n",
       "      <td>Hidden Stories</td>\n",
       "      <td>Try Your Hand at Ceramic Sculpture</td>\n",
       "      <td>2023-09-16</td>\n",
       "      <td>NaN</td>\n",
       "    </tr>\n",
       "    <tr>\n",
       "      <th>315</th>\n",
       "      <td>Hidden Stories</td>\n",
       "      <td>Try Your Hand at Stone Carving</td>\n",
       "      <td>2023-09-09</td>\n",
       "      <td>NaN</td>\n",
       "    </tr>\n",
       "    <tr>\n",
       "      <th>316</th>\n",
       "      <td>Hidden Stories</td>\n",
       "      <td>Try Your Hand at Stone Carving</td>\n",
       "      <td>2023-09-10</td>\n",
       "      <td>NaN</td>\n",
       "    </tr>\n",
       "    <tr>\n",
       "      <th>317</th>\n",
       "      <td>Hidden Stories</td>\n",
       "      <td>Try Your Hand at Stone Carving</td>\n",
       "      <td>2023-09-16</td>\n",
       "      <td>NaN</td>\n",
       "    </tr>\n",
       "  </tbody>\n",
       "</table>\n",
       "<p>184 rows × 4 columns</p>\n",
       "</div>"
      ],
      "text/plain": [
       "           project_name                                         event_name  \\\n",
       "2    01 - The Awakening  Ballot Facilitated Session - Carr Manor Commun...   \n",
       "3    01 - The Awakening  Ballot Facilitated Session - Chapel Allerton P...   \n",
       "4    01 - The Awakening  Ballot Facilitated Session - Cobden Primary Sc...   \n",
       "5    01 - The Awakening  Ballot Facilitated Session - Cobden Primary Sc...   \n",
       "6    01 - The Awakening  Ballot Facilitated Session - Cobden Primary Sc...   \n",
       "..                  ...                                                ...   \n",
       "313      Hidden Stories                 Try Your Hand at Ceramic Sculpture   \n",
       "314      Hidden Stories                 Try Your Hand at Ceramic Sculpture   \n",
       "315      Hidden Stories                     Try Your Hand at Stone Carving   \n",
       "316      Hidden Stories                     Try Your Hand at Stone Carving   \n",
       "317      Hidden Stories                     Try Your Hand at Stone Carving   \n",
       "\n",
       "    start_date  audience  \n",
       "2   2022-11-01       NaN  \n",
       "3   2022-11-07       NaN  \n",
       "4   2022-11-09       NaN  \n",
       "5   2022-11-10       NaN  \n",
       "6   2022-11-18       NaN  \n",
       "..         ...       ...  \n",
       "313 2023-09-10       NaN  \n",
       "314 2023-09-16       NaN  \n",
       "315 2023-09-09       NaN  \n",
       "316 2023-09-10       NaN  \n",
       "317 2023-09-16       NaN  \n",
       "\n",
       "[184 rows x 4 columns]"
      ]
     },
     "execution_count": 8,
     "metadata": {},
     "output_type": "execute_result"
    }
   ],
   "source": [
    "data.loc[data.audience.isna(), ['project_name', 'event_name', 'start_date', 'audience']]"
   ]
  },
  {
   "cell_type": "code",
   "execution_count": null,
   "id": "7e2df699",
   "metadata": {
    "papermill": {
     "duration": 0.002171,
     "end_time": "2023-12-14T23:40:42.858744",
     "exception": false,
     "start_time": "2023-12-14T23:40:42.856573",
     "status": "completed"
    },
    "tags": []
   },
   "outputs": [],
   "source": []
  },
  {
   "cell_type": "code",
   "execution_count": null,
   "id": "b13c8871",
   "metadata": {
    "papermill": {
     "duration": 0.002141,
     "end_time": "2023-12-14T23:40:42.863098",
     "exception": false,
     "start_time": "2023-12-14T23:40:42.860957",
     "status": "completed"
    },
    "tags": []
   },
   "outputs": [],
   "source": []
  }
 ],
 "metadata": {
  "kernelspec": {
   "display_name": "leeds-2023-YZF5GfJv",
   "language": "python",
   "name": "python3"
  },
  "language_info": {
   "codemirror_mode": {
    "name": "ipython",
    "version": 3
   },
   "file_extension": ".py",
   "mimetype": "text/x-python",
   "name": "python",
   "nbconvert_exporter": "python",
   "pygments_lexer": "ipython3",
   "version": "3.10.13"
  },
  "papermill": {
   "default_parameters": {},
   "duration": 9.136858,
   "end_time": "2023-12-14T23:40:43.182684",
   "environment_variables": {},
   "exception": null,
   "input_path": "transform.ipynb",
   "output_path": "../../../working/output/community-transform.ipynb",
   "parameters": {},
   "start_time": "2023-12-14T23:40:34.045826",
   "version": "2.4.0"
  }
 },
 "nbformat": 4,
 "nbformat_minor": 5
}