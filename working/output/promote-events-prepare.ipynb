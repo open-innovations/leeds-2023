{
 "cells": [
  {
   "cell_type": "code",
   "execution_count": 1,
   "id": "ba0ac4f3",
   "metadata": {
    "execution": {
     "iopub.execute_input": "2023-08-26T23:39:12.010443Z",
     "iopub.status.busy": "2023-08-26T23:39:12.009955Z",
     "iopub.status.idle": "2023-08-26T23:39:12.246708Z",
     "shell.execute_reply": "2023-08-26T23:39:12.246045Z"
    },
    "papermill": {
     "duration": 0.242835,
     "end_time": "2023-08-26T23:39:12.248980",
     "exception": false,
     "start_time": "2023-08-26T23:39:12.006145",
     "status": "completed"
    },
    "tags": []
   },
   "outputs": [],
   "source": [
    "import os\n",
    "import pandas as pd"
   ]
  },
  {
   "cell_type": "code",
   "execution_count": 2,
   "id": "d98a8a12",
   "metadata": {
    "execution": {
     "iopub.execute_input": "2023-08-26T23:39:12.254399Z",
     "iopub.status.busy": "2023-08-26T23:39:12.253768Z",
     "iopub.status.idle": "2023-08-26T23:39:12.257129Z",
     "shell.execute_reply": "2023-08-26T23:39:12.256520Z"
    },
    "papermill": {
     "duration": 0.007672,
     "end_time": "2023-08-26T23:39:12.258620",
     "exception": false,
     "start_time": "2023-08-26T23:39:12.250948",
     "status": "completed"
    },
    "tags": []
   },
   "outputs": [],
   "source": [
    "DATA_DIR='../../../docs/metrics/events/promote/_data/'\n",
    "os.makedirs(DATA_DIR, exist_ok=True)"
   ]
  },
  {
   "cell_type": "code",
   "execution_count": 3,
   "id": "47a25083",
   "metadata": {
    "execution": {
     "iopub.execute_input": "2023-08-26T23:39:12.262853Z",
     "iopub.status.busy": "2023-08-26T23:39:12.262453Z",
     "iopub.status.idle": "2023-08-26T23:39:12.270539Z",
     "shell.execute_reply": "2023-08-26T23:39:12.270000Z"
    },
    "papermill": {
     "duration": 0.011767,
     "end_time": "2023-08-26T23:39:12.271952",
     "exception": false,
     "start_time": "2023-08-26T23:39:12.260185",
     "status": "completed"
    },
    "tags": []
   },
   "outputs": [],
   "source": [
    "data = pd.read_csv('../../../data/metrics/events/promote-events/events.csv', parse_dates=['time'])"
   ]
  },
  {
   "cell_type": "code",
   "execution_count": 4,
   "id": "cc23872d",
   "metadata": {
    "execution": {
     "iopub.execute_input": "2023-08-26T23:39:12.276280Z",
     "iopub.status.busy": "2023-08-26T23:39:12.275887Z",
     "iopub.status.idle": "2023-08-26T23:39:12.280844Z",
     "shell.execute_reply": "2023-08-26T23:39:12.280221Z"
    },
    "papermill": {
     "duration": 0.008838,
     "end_time": "2023-08-26T23:39:12.282372",
     "exception": false,
     "start_time": "2023-08-26T23:39:12.273534",
     "status": "completed"
    },
    "tags": []
   },
   "outputs": [],
   "source": [
    "pd.Series({\n",
    "    'total_events': len(data.id.unique()),\n",
    "    'total_event_instances': len(data.time),\n",
    "    'earliest_event': data.time.min(),\n",
    "    'latest_event': data.time.max(),\n",
    "}).to_json(\n",
    "    os.path.join(DATA_DIR, 'headlines.json'),\n",
    "    date_format='iso', indent=2\n",
    ")"
   ]
  },
  {
   "cell_type": "code",
   "execution_count": 5,
   "id": "c5cb945f",
   "metadata": {
    "execution": {
     "iopub.execute_input": "2023-08-26T23:39:12.286600Z",
     "iopub.status.busy": "2023-08-26T23:39:12.286217Z",
     "iopub.status.idle": "2023-08-26T23:39:12.293820Z",
     "shell.execute_reply": "2023-08-26T23:39:12.293162Z"
    },
    "papermill": {
     "duration": 0.011466,
     "end_time": "2023-08-26T23:39:12.295417",
     "exception": false,
     "start_time": "2023-08-26T23:39:12.283951",
     "status": "completed"
    },
    "tags": []
   },
   "outputs": [],
   "source": [
    "events = pd.DataFrame({\n",
    "    'events': data.groupby('id').agg({ 'time': 'min' }).reset_index().groupby('time').id.count(),\n",
    "    'event_instances': data.groupby('time').id.count(),\n",
    "}).fillna(0).astype(int)"
   ]
  },
  {
   "cell_type": "code",
   "execution_count": 6,
   "id": "27f9eae2",
   "metadata": {
    "execution": {
     "iopub.execute_input": "2023-08-26T23:39:12.299648Z",
     "iopub.status.busy": "2023-08-26T23:39:12.299327Z",
     "iopub.status.idle": "2023-08-26T23:39:12.302715Z",
     "shell.execute_reply": "2023-08-26T23:39:12.302125Z"
    },
    "papermill": {
     "duration": 0.007046,
     "end_time": "2023-08-26T23:39:12.304074",
     "exception": false,
     "start_time": "2023-08-26T23:39:12.297028",
     "status": "completed"
    },
    "tags": []
   },
   "outputs": [],
   "source": [
    "def cumulate(data):\n",
    "    return pd.concat([\n",
    "        data,\n",
    "        data.cumsum().rename(columns=lambda c: f'cumulative_{c}')\n",
    "    ], axis=1)"
   ]
  },
  {
   "cell_type": "code",
   "execution_count": 7,
   "id": "c96d18fd",
   "metadata": {
    "execution": {
     "iopub.execute_input": "2023-08-26T23:39:12.308457Z",
     "iopub.status.busy": "2023-08-26T23:39:12.307995Z",
     "iopub.status.idle": "2023-08-26T23:39:12.317040Z",
     "shell.execute_reply": "2023-08-26T23:39:12.316503Z"
    },
    "papermill": {
     "duration": 0.012733,
     "end_time": "2023-08-26T23:39:12.318470",
     "exception": false,
     "start_time": "2023-08-26T23:39:12.305737",
     "status": "completed"
    },
    "tags": []
   },
   "outputs": [],
   "source": [
    "events.resample('W-FRI').sum().pipe(cumulate).to_csv(os.path.join(DATA_DIR, 'by_week.csv'))"
   ]
  },
  {
   "cell_type": "code",
   "execution_count": 8,
   "id": "a9948d10",
   "metadata": {
    "execution": {
     "iopub.execute_input": "2023-08-26T23:39:12.322955Z",
     "iopub.status.busy": "2023-08-26T23:39:12.322560Z",
     "iopub.status.idle": "2023-08-26T23:39:12.328117Z",
     "shell.execute_reply": "2023-08-26T23:39:12.327535Z"
    },
    "papermill": {
     "duration": 0.009368,
     "end_time": "2023-08-26T23:39:12.329596",
     "exception": false,
     "start_time": "2023-08-26T23:39:12.320228",
     "status": "completed"
    },
    "tags": []
   },
   "outputs": [],
   "source": [
    "events.resample('MS').sum().pipe(cumulate).to_csv(os.path.join(DATA_DIR, 'by_month.csv'))"
   ]
  },
  {
   "cell_type": "code",
   "execution_count": null,
   "id": "f5ae8755",
   "metadata": {
    "papermill": {
     "duration": 0.001678,
     "end_time": "2023-08-26T23:39:12.332980",
     "exception": false,
     "start_time": "2023-08-26T23:39:12.331302",
     "status": "completed"
    },
    "tags": []
   },
   "outputs": [],
   "source": []
  }
 ],
 "metadata": {
  "kernelspec": {
   "display_name": "leeds-2023-YZF5GfJv",
   "language": "python",
   "name": "python3"
  },
  "language_info": {
   "codemirror_mode": {
    "name": "ipython",
    "version": 3
   },
   "file_extension": ".py",
   "mimetype": "text/x-python",
   "name": "python",
   "nbconvert_exporter": "python",
   "pygments_lexer": "ipython3",
   "version": "3.10.12"
  },
  "papermill": {
   "default_parameters": {},
   "duration": 1.926812,
   "end_time": "2023-08-26T23:39:12.551143",
   "environment_variables": {},
   "exception": null,
   "input_path": "prepare.ipynb",
   "output_path": "../../../working/output/promote-events-prepare.ipynb",
   "parameters": {},
   "start_time": "2023-08-26T23:39:10.624331",
   "version": "2.4.0"
  }
 },
 "nbformat": 4,
 "nbformat_minor": 5
}