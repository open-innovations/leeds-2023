{
 "cells": [
  {
   "cell_type": "code",
   "execution_count": 1,
   "id": "cef8329e",
   "metadata": {
    "execution": {
     "iopub.execute_input": "2023-08-09T23:38:06.134338Z",
     "iopub.status.busy": "2023-08-09T23:38:06.133578Z",
     "iopub.status.idle": "2023-08-09T23:38:06.373168Z",
     "shell.execute_reply": "2023-08-09T23:38:06.372502Z"
    },
    "papermill": {
     "duration": 0.244935,
     "end_time": "2023-08-09T23:38:06.375175",
     "exception": false,
     "start_time": "2023-08-09T23:38:06.130240",
     "status": "completed"
    },
    "tags": []
   },
   "outputs": [],
   "source": [
    "import os\n",
    "import pandas as pd"
   ]
  },
  {
   "cell_type": "code",
   "execution_count": 2,
   "id": "261a5a25",
   "metadata": {
    "execution": {
     "iopub.execute_input": "2023-08-09T23:38:06.379827Z",
     "iopub.status.busy": "2023-08-09T23:38:06.379387Z",
     "iopub.status.idle": "2023-08-09T23:38:06.382954Z",
     "shell.execute_reply": "2023-08-09T23:38:06.382317Z"
    },
    "papermill": {
     "duration": 0.007647,
     "end_time": "2023-08-09T23:38:06.384562",
     "exception": false,
     "start_time": "2023-08-09T23:38:06.376915",
     "status": "completed"
    },
    "tags": []
   },
   "outputs": [],
   "source": [
    "EVENTS_RAW_DATA = '../../../working/metrics/promote-events/events.csv'\n",
    "DATA_DIR = '../../../data/metrics/events/promote-events/'\n",
    "EVENTS_DATA = os.path.join(DATA_DIR, 'events.csv')"
   ]
  },
  {
   "cell_type": "code",
   "execution_count": 3,
   "id": "28068166",
   "metadata": {
    "execution": {
     "iopub.execute_input": "2023-08-09T23:38:06.387941Z",
     "iopub.status.busy": "2023-08-09T23:38:06.387533Z",
     "iopub.status.idle": "2023-08-09T23:38:06.390777Z",
     "shell.execute_reply": "2023-08-09T23:38:06.390156Z"
    },
    "papermill": {
     "duration": 0.006643,
     "end_time": "2023-08-09T23:38:06.392345",
     "exception": false,
     "start_time": "2023-08-09T23:38:06.385702",
     "status": "completed"
    },
    "tags": []
   },
   "outputs": [],
   "source": [
    "columns = {\n",
    "    'id': 'id',\n",
    "    'name': 'name',\n",
    "    'locationName': 'location',\n",
    "    'cardPrice': 'card_price',\n",
    "    'timeslots': 'time',\n",
    "    'displayOnWebsite': 'display',\n",
    "    'Stage': 'stage',\n",
    "}"
   ]
  },
  {
   "cell_type": "code",
   "execution_count": 4,
   "id": "9624295b",
   "metadata": {
    "execution": {
     "iopub.execute_input": "2023-08-09T23:38:06.395650Z",
     "iopub.status.busy": "2023-08-09T23:38:06.395327Z",
     "iopub.status.idle": "2023-08-09T23:38:06.408896Z",
     "shell.execute_reply": "2023-08-09T23:38:06.408291Z"
    },
    "papermill": {
     "duration": 0.016969,
     "end_time": "2023-08-09T23:38:06.410474",
     "exception": false,
     "start_time": "2023-08-09T23:38:06.393505",
     "status": "completed"
    },
    "tags": []
   },
   "outputs": [],
   "source": [
    "data = pd.read_csv(EVENTS_RAW_DATA)[columns.keys()].rename(columns=columns)\n",
    "data.time = pd.to_datetime(data.time, errors='coerce')"
   ]
  },
  {
   "cell_type": "code",
   "execution_count": 5,
   "id": "967cd1b6",
   "metadata": {
    "execution": {
     "iopub.execute_input": "2023-08-09T23:38:06.414443Z",
     "iopub.status.busy": "2023-08-09T23:38:06.414019Z",
     "iopub.status.idle": "2023-08-09T23:38:06.422792Z",
     "shell.execute_reply": "2023-08-09T23:38:06.422239Z"
    },
    "papermill": {
     "duration": 0.012381,
     "end_time": "2023-08-09T23:38:06.424208",
     "exception": false,
     "start_time": "2023-08-09T23:38:06.411827",
     "status": "completed"
    },
    "tags": []
   },
   "outputs": [],
   "source": [
    "data.to_csv(os.path.join(DATA_DIR, 'events.csv'), index=False)"
   ]
  }
 ],
 "metadata": {
  "kernelspec": {
   "display_name": "leeds-2023-YZF5GfJv",
   "language": "python",
   "name": "python3"
  },
  "language_info": {
   "codemirror_mode": {
    "name": "ipython",
    "version": 3
   },
   "file_extension": ".py",
   "mimetype": "text/x-python",
   "name": "python",
   "nbconvert_exporter": "python",
   "pygments_lexer": "ipython3",
   "version": "3.10.6"
  },
  "papermill": {
   "default_parameters": {},
   "duration": 1.897762,
   "end_time": "2023-08-09T23:38:06.642462",
   "environment_variables": {},
   "exception": null,
   "input_path": "transform.ipynb",
   "output_path": "../../../working/output/promote-events-transform.ipynb",
   "parameters": {},
   "start_time": "2023-08-09T23:38:04.744700",
   "version": "2.4.0"
  }
 },
 "nbformat": 4,
 "nbformat_minor": 5
}