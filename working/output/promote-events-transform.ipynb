{
 "cells": [
  {
   "cell_type": "code",
   "execution_count": 1,
   "id": "906f5e97",
   "metadata": {
    "execution": {
     "iopub.execute_input": "2023-08-30T23:39:39.402656Z",
     "iopub.status.busy": "2023-08-30T23:39:39.402179Z",
     "iopub.status.idle": "2023-08-30T23:39:39.645587Z",
     "shell.execute_reply": "2023-08-30T23:39:39.644852Z"
    },
    "papermill": {
     "duration": 0.248849,
     "end_time": "2023-08-30T23:39:39.647905",
     "exception": false,
     "start_time": "2023-08-30T23:39:39.399056",
     "status": "completed"
    },
    "tags": []
   },
   "outputs": [],
   "source": [
    "import os\n",
    "import pandas as pd"
   ]
  },
  {
   "cell_type": "code",
   "execution_count": 2,
   "id": "73213e3a",
   "metadata": {
    "execution": {
     "iopub.execute_input": "2023-08-30T23:39:39.652360Z",
     "iopub.status.busy": "2023-08-30T23:39:39.651609Z",
     "iopub.status.idle": "2023-08-30T23:39:39.655125Z",
     "shell.execute_reply": "2023-08-30T23:39:39.654560Z"
    },
    "papermill": {
     "duration": 0.0072,
     "end_time": "2023-08-30T23:39:39.656707",
     "exception": false,
     "start_time": "2023-08-30T23:39:39.649507",
     "status": "completed"
    },
    "tags": []
   },
   "outputs": [],
   "source": [
    "EVENTS_RAW_DATA = '../../../working/metrics/promote-events/events.csv'\n",
    "DATA_DIR = '../../../data/metrics/events/promote-events/'\n",
    "EVENTS_DATA = os.path.join(DATA_DIR, 'events.csv')"
   ]
  },
  {
   "cell_type": "code",
   "execution_count": 3,
   "id": "fa27dbe9",
   "metadata": {
    "execution": {
     "iopub.execute_input": "2023-08-30T23:39:39.660282Z",
     "iopub.status.busy": "2023-08-30T23:39:39.659863Z",
     "iopub.status.idle": "2023-08-30T23:39:39.663141Z",
     "shell.execute_reply": "2023-08-30T23:39:39.662505Z"
    },
    "papermill": {
     "duration": 0.006853,
     "end_time": "2023-08-30T23:39:39.664760",
     "exception": false,
     "start_time": "2023-08-30T23:39:39.657907",
     "status": "completed"
    },
    "tags": []
   },
   "outputs": [],
   "source": [
    "columns = {\n",
    "    'id': 'id',\n",
    "    'name': 'name',\n",
    "    'locationName': 'location',\n",
    "    'cardPrice': 'card_price',\n",
    "    'timeslots': 'time',\n",
    "    # 'displayOnWebsite': 'display',\n",
    "    'Stage': 'stage',\n",
    "}"
   ]
  },
  {
   "cell_type": "code",
   "execution_count": 4,
   "id": "160327c9",
   "metadata": {
    "execution": {
     "iopub.execute_input": "2023-08-30T23:39:39.668181Z",
     "iopub.status.busy": "2023-08-30T23:39:39.667855Z",
     "iopub.status.idle": "2023-08-30T23:39:39.678263Z",
     "shell.execute_reply": "2023-08-30T23:39:39.677702Z"
    },
    "papermill": {
     "duration": 0.013765,
     "end_time": "2023-08-30T23:39:39.679718",
     "exception": false,
     "start_time": "2023-08-30T23:39:39.665953",
     "status": "completed"
    },
    "tags": []
   },
   "outputs": [],
   "source": [
    "data = pd.read_csv(EVENTS_RAW_DATA)[columns.keys()].rename(columns=columns)\n",
    "data.time = pd.to_datetime(data.time, errors='coerce')"
   ]
  },
  {
   "cell_type": "code",
   "execution_count": 5,
   "id": "b7dac060",
   "metadata": {
    "execution": {
     "iopub.execute_input": "2023-08-30T23:39:39.683463Z",
     "iopub.status.busy": "2023-08-30T23:39:39.683120Z",
     "iopub.status.idle": "2023-08-30T23:39:39.688735Z",
     "shell.execute_reply": "2023-08-30T23:39:39.688140Z"
    },
    "papermill": {
     "duration": 0.009118,
     "end_time": "2023-08-30T23:39:39.690154",
     "exception": false,
     "start_time": "2023-08-30T23:39:39.681036",
     "status": "completed"
    },
    "tags": []
   },
   "outputs": [],
   "source": [
    "data.to_csv(os.path.join(DATA_DIR, 'events.csv'), index=False)"
   ]
  }
 ],
 "metadata": {
  "kernelspec": {
   "display_name": "leeds-2023-YZF5GfJv",
   "language": "python",
   "name": "python3"
  },
  "language_info": {
   "codemirror_mode": {
    "name": "ipython",
    "version": 3
   },
   "file_extension": ".py",
   "mimetype": "text/x-python",
   "name": "python",
   "nbconvert_exporter": "python",
   "pygments_lexer": "ipython3",
   "version": "3.10.12"
  },
  "papermill": {
   "default_parameters": {},
   "duration": 1.90803,
   "end_time": "2023-08-30T23:39:39.908268",
   "environment_variables": {},
   "exception": null,
   "input_path": "transform.ipynb",
   "output_path": "../../../working/output/promote-events-transform.ipynb",
   "parameters": {},
   "start_time": "2023-08-30T23:39:38.000238",
   "version": "2.4.0"
  }
 },
 "nbformat": 4,
 "nbformat_minor": 5
}