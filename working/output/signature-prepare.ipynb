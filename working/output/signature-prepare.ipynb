{
 "cells": [
  {
   "cell_type": "code",
   "execution_count": 1,
   "id": "a9ce4dce",
   "metadata": {
    "execution": {
     "iopub.execute_input": "2023-12-30T23:40:14.738412Z",
     "iopub.status.busy": "2023-12-30T23:40:14.737821Z",
     "iopub.status.idle": "2023-12-30T23:40:22.380933Z",
     "shell.execute_reply": "2023-12-30T23:40:22.380225Z"
    },
    "papermill": {
     "duration": 7.648585,
     "end_time": "2023-12-30T23:40:22.382815",
     "exception": false,
     "start_time": "2023-12-30T23:40:14.734230",
     "status": "completed"
    },
    "tags": []
   },
   "outputs": [],
   "source": [
    "import os\n",
    "import pandas as pd\n",
    "from events import load_event_data, get_first_ward, normalise_ward"
   ]
  },
  {
   "cell_type": "code",
   "execution_count": 2,
   "id": "d472c7d4",
   "metadata": {
    "execution": {
     "iopub.execute_input": "2023-12-30T23:40:22.387833Z",
     "iopub.status.busy": "2023-12-30T23:40:22.387625Z",
     "iopub.status.idle": "2023-12-30T23:40:22.391094Z",
     "shell.execute_reply": "2023-12-30T23:40:22.390488Z"
    },
    "papermill": {
     "duration": 0.00737,
     "end_time": "2023-12-30T23:40:22.392384",
     "exception": false,
     "start_time": "2023-12-30T23:40:22.385014",
     "status": "completed"
    },
    "tags": []
   },
   "outputs": [],
   "source": [
    "latest_date = pd.Timestamp.today().ceil('D')"
   ]
  },
  {
   "cell_type": "code",
   "execution_count": 3,
   "id": "d55aad96",
   "metadata": {
    "execution": {
     "iopub.execute_input": "2023-12-30T23:40:22.397352Z",
     "iopub.status.busy": "2023-12-30T23:40:22.396817Z",
     "iopub.status.idle": "2023-12-30T23:40:22.415732Z",
     "shell.execute_reply": "2023-12-30T23:40:22.415069Z"
    },
    "papermill": {
     "duration": 0.02306,
     "end_time": "2023-12-30T23:40:22.417268",
     "exception": false,
     "start_time": "2023-12-30T23:40:22.394208",
     "status": "completed"
    },
    "tags": []
   },
   "outputs": [],
   "source": [
    "tickets = pd.read_csv('../../../../data/metrics/events/tickets/orders.csv', parse_dates=['created_at', 'event_date'])\n",
    "tickets = tickets[tickets.event_date <= latest_date]"
   ]
  },
  {
   "cell_type": "code",
   "execution_count": 4,
   "id": "7ae4a450",
   "metadata": {
    "execution": {
     "iopub.execute_input": "2023-12-30T23:40:22.422292Z",
     "iopub.status.busy": "2023-12-30T23:40:22.421902Z",
     "iopub.status.idle": "2023-12-30T23:40:22.476975Z",
     "shell.execute_reply": "2023-12-30T23:40:22.476397Z"
    },
    "papermill": {
     "duration": 0.059336,
     "end_time": "2023-12-30T23:40:22.478657",
     "exception": false,
     "start_time": "2023-12-30T23:40:22.419321",
     "status": "completed"
    },
    "tags": []
   },
   "outputs": [],
   "source": [
    "events = load_event_data()\n",
    "\n",
    "events = pd.concat([\n",
    "  events,\n",
    "  events.pipe(get_first_ward).pipe(normalise_ward).fillna('UNKNOWN'),\n",
    "  pd.Series(\n",
    "      events.actual_audience_size_number_of_participants_in_person + events.actual_audience_size_number_of_participants_online,\n",
    "      name='attendances'\n",
    "  )\n",
    "], axis=1).rename(columns={\n",
    "    'start_date': 'date'\n",
    "}).loc[:, ['ward_code', 'date', 'event_unique_identifier', 'attendances']]"
   ]
  },
  {
   "cell_type": "code",
   "execution_count": 5,
   "id": "4904b163",
   "metadata": {
    "execution": {
     "iopub.execute_input": "2023-12-30T23:40:22.483853Z",
     "iopub.status.busy": "2023-12-30T23:40:22.483617Z",
     "iopub.status.idle": "2023-12-30T23:40:22.486908Z",
     "shell.execute_reply": "2023-12-30T23:40:22.486369Z"
    },
    "papermill": {
     "duration": 0.00743,
     "end_time": "2023-12-30T23:40:22.488189",
     "exception": false,
     "start_time": "2023-12-30T23:40:22.480759",
     "status": "completed"
    },
    "tags": []
   },
   "outputs": [],
   "source": [
    "OUTPUT_DIR='../../../../docs/metrics/events/signature/_data/'\n",
    "os.makedirs(OUTPUT_DIR, exist_ok=True)"
   ]
  },
  {
   "cell_type": "markdown",
   "id": "ac0a62e3",
   "metadata": {
    "papermill": {
     "duration": 0.002027,
     "end_time": "2023-12-30T23:40:22.492279",
     "exception": false,
     "start_time": "2023-12-30T23:40:22.490252",
     "status": "completed"
    },
    "tags": []
   },
   "source": [
    "Events CSVs"
   ]
  },
  {
   "cell_type": "code",
   "execution_count": 6,
   "id": "a17cdcd9",
   "metadata": {
    "execution": {
     "iopub.execute_input": "2023-12-30T23:40:22.497267Z",
     "iopub.status.busy": "2023-12-30T23:40:22.496861Z",
     "iopub.status.idle": "2023-12-30T23:40:22.503511Z",
     "shell.execute_reply": "2023-12-30T23:40:22.502976Z"
    },
    "papermill": {
     "duration": 0.010622,
     "end_time": "2023-12-30T23:40:22.504808",
     "exception": false,
     "start_time": "2023-12-30T23:40:22.494186",
     "status": "completed"
    },
    "tags": []
   },
   "outputs": [],
   "source": [
    "pd.DataFrame({\n",
    "  'events': events.groupby('ward_code').event_unique_identifier.count(),\n",
    "  'attendances': events.groupby('ward_code').attendances.sum().astype(int),\n",
    "}).to_csv(os.path.join(OUTPUT_DIR, 'events_by_ward.csv'))\n"
   ]
  },
  {
   "cell_type": "code",
   "execution_count": 7,
   "id": "d22f11b8",
   "metadata": {
    "execution": {
     "iopub.execute_input": "2023-12-30T23:40:22.509980Z",
     "iopub.status.busy": "2023-12-30T23:40:22.509484Z",
     "iopub.status.idle": "2023-12-30T23:40:22.517686Z",
     "shell.execute_reply": "2023-12-30T23:40:22.517178Z"
    },
    "papermill": {
     "duration": 0.012247,
     "end_time": "2023-12-30T23:40:22.519042",
     "exception": false,
     "start_time": "2023-12-30T23:40:22.506795",
     "status": "completed"
    },
    "tags": []
   },
   "outputs": [],
   "source": [
    "pd.DataFrame({\n",
    "  'events': events.groupby('date').event_unique_identifier.count(),\n",
    "  'attendances': events.groupby('date').attendances.sum().astype(int),\n",
    "}).resample('M').sum().astype(int).to_csv(os.path.join(OUTPUT_DIR, 'events_by_date.csv'))"
   ]
  },
  {
   "cell_type": "markdown",
   "id": "98f3bc23",
   "metadata": {
    "papermill": {
     "duration": 0.002798,
     "end_time": "2023-12-30T23:40:22.523834",
     "exception": false,
     "start_time": "2023-12-30T23:40:22.521036",
     "status": "completed"
    },
    "tags": []
   },
   "source": [
    "Tickets CSV"
   ]
  },
  {
   "cell_type": "code",
   "execution_count": 8,
   "id": "2f30c997",
   "metadata": {
    "execution": {
     "iopub.execute_input": "2023-12-30T23:40:22.528653Z",
     "iopub.status.busy": "2023-12-30T23:40:22.528450Z",
     "iopub.status.idle": "2023-12-30T23:40:22.535194Z",
     "shell.execute_reply": "2023-12-30T23:40:22.534639Z"
    },
    "papermill": {
     "duration": 0.010892,
     "end_time": "2023-12-30T23:40:22.536669",
     "exception": false,
     "start_time": "2023-12-30T23:40:22.525777",
     "status": "completed"
    },
    "tags": []
   },
   "outputs": [],
   "source": [
    "pd.DataFrame({\n",
    "  'orders': tickets.groupby('ward_code').number_of_tickets.count(),\n",
    "  'tickets': tickets.groupby('ward_code').number_of_tickets.sum().astype(int),\n",
    "}).to_csv(os.path.join(OUTPUT_DIR, 'tickets_by_ward.csv'))"
   ]
  },
  {
   "cell_type": "code",
   "execution_count": 9,
   "id": "947c223d",
   "metadata": {
    "execution": {
     "iopub.execute_input": "2023-12-30T23:40:22.541927Z",
     "iopub.status.busy": "2023-12-30T23:40:22.541692Z",
     "iopub.status.idle": "2023-12-30T23:40:22.549822Z",
     "shell.execute_reply": "2023-12-30T23:40:22.549261Z"
    },
    "papermill": {
     "duration": 0.012552,
     "end_time": "2023-12-30T23:40:22.551374",
     "exception": false,
     "start_time": "2023-12-30T23:40:22.538822",
     "status": "completed"
    },
    "tags": []
   },
   "outputs": [],
   "source": [
    "pd.DataFrame({\n",
    "  'orders': tickets.groupby('event_date').number_of_tickets.count(),\n",
    "  'tickets': tickets.groupby('event_date').number_of_tickets.sum().astype(int),\n",
    "}).resample('M').sum().to_csv(os.path.join(OUTPUT_DIR, 'tickets_by_event_date.csv'))"
   ]
  },
  {
   "cell_type": "code",
   "execution_count": 10,
   "id": "8cc35605",
   "metadata": {
    "execution": {
     "iopub.execute_input": "2023-12-30T23:40:22.557056Z",
     "iopub.status.busy": "2023-12-30T23:40:22.556566Z",
     "iopub.status.idle": "2023-12-30T23:40:22.561749Z",
     "shell.execute_reply": "2023-12-30T23:40:22.561229Z"
    },
    "papermill": {
     "duration": 0.009615,
     "end_time": "2023-12-30T23:40:22.563153",
     "exception": false,
     "start_time": "2023-12-30T23:40:22.553538",
     "status": "completed"
    },
    "tags": []
   },
   "outputs": [],
   "source": [
    "pd.Series({\n",
    "    'total_events': events.event_unique_identifier.count(),\n",
    "    'total_attendances': events.attendances.count(),\n",
    "    'first_event': events.date.min(),\n",
    "    'latest_event': events.date.max(),\n",
    "    'total_ticket_orders_for_events_to_date': tickets.number_of_tickets.count(),\n",
    "    'total_tickets_sold_for_events_to_date': tickets.number_of_tickets.sum(),\n",
    "}).to_json(os.path.join(OUTPUT_DIR, 'headlines.json'), indent=2)"
   ]
  },
  {
   "cell_type": "code",
   "execution_count": null,
   "id": "ff6d1649",
   "metadata": {
    "papermill": {
     "duration": 0.002061,
     "end_time": "2023-12-30T23:40:22.567287",
     "exception": false,
     "start_time": "2023-12-30T23:40:22.565226",
     "status": "completed"
    },
    "tags": []
   },
   "outputs": [],
   "source": []
  }
 ],
 "metadata": {
  "kernelspec": {
   "display_name": "leeds-2023-YZF5GfJv",
   "language": "python",
   "name": "python3"
  },
  "language_info": {
   "codemirror_mode": {
    "name": "ipython",
    "version": 3
   },
   "file_extension": ".py",
   "mimetype": "text/x-python",
   "name": "python",
   "nbconvert_exporter": "python",
   "pygments_lexer": "ipython3",
   "version": "3.10.13"
  },
  "papermill": {
   "default_parameters": {},
   "duration": 9.396824,
   "end_time": "2023-12-30T23:40:22.885665",
   "environment_variables": {},
   "exception": null,
   "input_path": "prepare.ipynb",
   "output_path": "../../../../working/output/signature-prepare.ipynb",
   "parameters": {},
   "start_time": "2023-12-30T23:40:13.488841",
   "version": "2.4.0"
  }
 },
 "nbformat": 4,
 "nbformat_minor": 5
}