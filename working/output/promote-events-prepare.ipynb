{
 "cells": [
  {
   "cell_type": "code",
   "execution_count": 1,
   "id": "fcb282fe",
   "metadata": {
    "execution": {
     "iopub.execute_input": "2023-10-02T23:41:09.251407Z",
     "iopub.status.busy": "2023-10-02T23:41:09.250200Z",
     "iopub.status.idle": "2023-10-02T23:41:09.579327Z",
     "shell.execute_reply": "2023-10-02T23:41:09.578219Z"
    },
    "papermill": {
     "duration": 0.337596,
     "end_time": "2023-10-02T23:41:09.581893",
     "exception": false,
     "start_time": "2023-10-02T23:41:09.244297",
     "status": "completed"
    },
    "tags": []
   },
   "outputs": [],
   "source": [
    "import os\n",
    "import pandas as pd"
   ]
  },
  {
   "cell_type": "code",
   "execution_count": 2,
   "id": "e096b271",
   "metadata": {
    "execution": {
     "iopub.execute_input": "2023-10-02T23:41:09.589663Z",
     "iopub.status.busy": "2023-10-02T23:41:09.589269Z",
     "iopub.status.idle": "2023-10-02T23:41:09.594651Z",
     "shell.execute_reply": "2023-10-02T23:41:09.593903Z"
    },
    "papermill": {
     "duration": 0.011468,
     "end_time": "2023-10-02T23:41:09.596548",
     "exception": false,
     "start_time": "2023-10-02T23:41:09.585080",
     "status": "completed"
    },
    "tags": []
   },
   "outputs": [],
   "source": [
    "DATA_DIR='../../../docs/metrics/events/promote/_data/'\n",
    "os.makedirs(DATA_DIR, exist_ok=True)"
   ]
  },
  {
   "cell_type": "code",
   "execution_count": 3,
   "id": "18314d99",
   "metadata": {
    "execution": {
     "iopub.execute_input": "2023-10-02T23:41:09.602509Z",
     "iopub.status.busy": "2023-10-02T23:41:09.601979Z",
     "iopub.status.idle": "2023-10-02T23:41:09.613044Z",
     "shell.execute_reply": "2023-10-02T23:41:09.612318Z"
    },
    "papermill": {
     "duration": 0.016139,
     "end_time": "2023-10-02T23:41:09.614945",
     "exception": false,
     "start_time": "2023-10-02T23:41:09.598806",
     "status": "completed"
    },
    "tags": []
   },
   "outputs": [],
   "source": [
    "data = pd.read_csv('../../../data/metrics/events/promote-events/events.csv', parse_dates=['time'])"
   ]
  },
  {
   "cell_type": "code",
   "execution_count": 4,
   "id": "219cc664",
   "metadata": {
    "execution": {
     "iopub.execute_input": "2023-10-02T23:41:09.621272Z",
     "iopub.status.busy": "2023-10-02T23:41:09.620620Z",
     "iopub.status.idle": "2023-10-02T23:41:09.628431Z",
     "shell.execute_reply": "2023-10-02T23:41:09.627696Z"
    },
    "papermill": {
     "duration": 0.012908,
     "end_time": "2023-10-02T23:41:09.630181",
     "exception": false,
     "start_time": "2023-10-02T23:41:09.617273",
     "status": "completed"
    },
    "tags": []
   },
   "outputs": [],
   "source": [
    "pd.Series({\n",
    "    'total_events': len(data.id.unique()),\n",
    "    'total_event_instances': len(data.time),\n",
    "    'earliest_event': data.time.min(),\n",
    "    'latest_event': data.time.max(),\n",
    "}).to_json(\n",
    "    os.path.join(DATA_DIR, 'headlines.json'),\n",
    "    date_format='iso', indent=2\n",
    ")"
   ]
  },
  {
   "cell_type": "code",
   "execution_count": 5,
   "id": "8d84a48e",
   "metadata": {
    "execution": {
     "iopub.execute_input": "2023-10-02T23:41:09.636415Z",
     "iopub.status.busy": "2023-10-02T23:41:09.635755Z",
     "iopub.status.idle": "2023-10-02T23:41:09.645792Z",
     "shell.execute_reply": "2023-10-02T23:41:09.645061Z"
    },
    "papermill": {
     "duration": 0.015083,
     "end_time": "2023-10-02T23:41:09.647604",
     "exception": false,
     "start_time": "2023-10-02T23:41:09.632521",
     "status": "completed"
    },
    "tags": []
   },
   "outputs": [],
   "source": [
    "events = pd.DataFrame({\n",
    "    'events': data.groupby('id').agg({ 'time': 'min' }).reset_index().groupby('time').id.count(),\n",
    "    'event_instances': data.groupby('time').id.count(),\n",
    "}).fillna(0).astype(int)"
   ]
  },
  {
   "cell_type": "code",
   "execution_count": 6,
   "id": "4e56e4e3",
   "metadata": {
    "execution": {
     "iopub.execute_input": "2023-10-02T23:41:09.653809Z",
     "iopub.status.busy": "2023-10-02T23:41:09.653290Z",
     "iopub.status.idle": "2023-10-02T23:41:09.657540Z",
     "shell.execute_reply": "2023-10-02T23:41:09.656756Z"
    },
    "papermill": {
     "duration": 0.009801,
     "end_time": "2023-10-02T23:41:09.659787",
     "exception": false,
     "start_time": "2023-10-02T23:41:09.649986",
     "status": "completed"
    },
    "tags": []
   },
   "outputs": [],
   "source": [
    "def cumulate(data):\n",
    "    return pd.concat([\n",
    "        data,\n",
    "        data.cumsum().rename(columns=lambda c: f'cumulative_{c}')\n",
    "    ], axis=1)"
   ]
  },
  {
   "cell_type": "code",
   "execution_count": 7,
   "id": "805d369d",
   "metadata": {
    "execution": {
     "iopub.execute_input": "2023-10-02T23:41:09.665916Z",
     "iopub.status.busy": "2023-10-02T23:41:09.665479Z",
     "iopub.status.idle": "2023-10-02T23:41:09.677561Z",
     "shell.execute_reply": "2023-10-02T23:41:09.676846Z"
    },
    "papermill": {
     "duration": 0.017408,
     "end_time": "2023-10-02T23:41:09.679588",
     "exception": false,
     "start_time": "2023-10-02T23:41:09.662180",
     "status": "completed"
    },
    "tags": []
   },
   "outputs": [],
   "source": [
    "events.resample('W-FRI').sum().pipe(cumulate).to_csv(os.path.join(DATA_DIR, 'by_week.csv'))"
   ]
  },
  {
   "cell_type": "code",
   "execution_count": 8,
   "id": "2bbb46c9",
   "metadata": {
    "execution": {
     "iopub.execute_input": "2023-10-02T23:41:09.685988Z",
     "iopub.status.busy": "2023-10-02T23:41:09.685486Z",
     "iopub.status.idle": "2023-10-02T23:41:09.692662Z",
     "shell.execute_reply": "2023-10-02T23:41:09.691868Z"
    },
    "papermill": {
     "duration": 0.012476,
     "end_time": "2023-10-02T23:41:09.694618",
     "exception": false,
     "start_time": "2023-10-02T23:41:09.682142",
     "status": "completed"
    },
    "tags": []
   },
   "outputs": [],
   "source": [
    "events.resample('MS').sum().pipe(cumulate).to_csv(os.path.join(DATA_DIR, 'by_month.csv'))"
   ]
  },
  {
   "cell_type": "code",
   "execution_count": null,
   "id": "1f44a9a5",
   "metadata": {
    "papermill": {
     "duration": 0.002778,
     "end_time": "2023-10-02T23:41:09.700055",
     "exception": false,
     "start_time": "2023-10-02T23:41:09.697277",
     "status": "completed"
    },
    "tags": []
   },
   "outputs": [],
   "source": []
  }
 ],
 "metadata": {
  "kernelspec": {
   "display_name": "leeds-2023-YZF5GfJv",
   "language": "python",
   "name": "python3"
  },
  "language_info": {
   "codemirror_mode": {
    "name": "ipython",
    "version": 3
   },
   "file_extension": ".py",
   "mimetype": "text/x-python",
   "name": "python",
   "nbconvert_exporter": "python",
   "pygments_lexer": "ipython3",
   "version": "3.10.13"
  },
  "papermill": {
   "default_parameters": {},
   "duration": 2.390749,
   "end_time": "2023-10-02T23:41:10.021991",
   "environment_variables": {},
   "exception": null,
   "input_path": "prepare.ipynb",
   "output_path": "../../../working/output/promote-events-prepare.ipynb",
   "parameters": {},
   "start_time": "2023-10-02T23:41:07.631242",
   "version": "2.4.0"
  }
 },
 "nbformat": 4,
 "nbformat_minor": 5
}