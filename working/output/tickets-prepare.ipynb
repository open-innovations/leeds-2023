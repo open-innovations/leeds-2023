{
 "cells": [
  {
   "cell_type": "code",
   "execution_count": 1,
   "id": "55118c42",
   "metadata": {
    "execution": {
     "iopub.execute_input": "2023-12-30T23:39:09.492429Z",
     "iopub.status.busy": "2023-12-30T23:39:09.492182Z",
     "iopub.status.idle": "2023-12-30T23:39:09.736438Z",
     "shell.execute_reply": "2023-12-30T23:39:09.735720Z"
    },
    "papermill": {
     "duration": 0.250314,
     "end_time": "2023-12-30T23:39:09.738218",
     "exception": false,
     "start_time": "2023-12-30T23:39:09.487904",
     "status": "completed"
    },
    "tags": []
   },
   "outputs": [],
   "source": [
    "from pathlib import Path\n",
    "import pandas as pd"
   ]
  },
  {
   "cell_type": "markdown",
   "id": "798fa869",
   "metadata": {
    "papermill": {
     "duration": 0.002176,
     "end_time": "2023-12-30T23:39:09.742939",
     "exception": false,
     "start_time": "2023-12-30T23:39:09.740763",
     "status": "completed"
    },
    "tags": []
   },
   "source": [
    "Load the orders data which was created in the [transform stage](./tickets.ipynb)."
   ]
  },
  {
   "cell_type": "code",
   "execution_count": 2,
   "id": "82d7de7d",
   "metadata": {
    "execution": {
     "iopub.execute_input": "2023-12-30T23:39:09.748354Z",
     "iopub.status.busy": "2023-12-30T23:39:09.747911Z",
     "iopub.status.idle": "2023-12-30T23:39:09.767072Z",
     "shell.execute_reply": "2023-12-30T23:39:09.766417Z"
    },
    "papermill": {
     "duration": 0.023381,
     "end_time": "2023-12-30T23:39:09.768449",
     "exception": false,
     "start_time": "2023-12-30T23:39:09.745068",
     "status": "completed"
    },
    "tags": []
   },
   "outputs": [],
   "source": [
    "def prepare(data: pd.DataFrame) -> pd.DataFrame:\n",
    "    data = data.loc[\n",
    "        (\n",
    "            data.public_event == True\n",
    "        ) & (\n",
    "            ~data.project_name.isin([\n",
    "                'Skills Development',\n",
    "            ])\n",
    "        )\n",
    "    ]\n",
    "    data = data.drop(columns=['public_event'])\n",
    "    return data\n",
    "\n",
    "\n",
    "orders = pd.read_csv(\n",
    "    '../../../../data/metrics/events/tickets/orders.csv',\n",
    "    usecols=[\n",
    "        'created_at',\n",
    "        'project_name',\n",
    "        'public_event',\n",
    "        'number_of_tickets'\n",
    "    ],\n",
    "    parse_dates=['created_at']\n",
    ").pipe(prepare)"
   ]
  },
  {
   "cell_type": "markdown",
   "id": "a11cc051",
   "metadata": {
    "papermill": {
     "duration": 0.002128,
     "end_time": "2023-12-30T23:39:09.772784",
     "exception": false,
     "start_time": "2023-12-30T23:39:09.770656",
     "status": "completed"
    },
    "tags": []
   },
   "source": [
    "Define functions to count and sum tickets, and to append cumulative versions of those."
   ]
  },
  {
   "cell_type": "code",
   "execution_count": 3,
   "id": "07dc14a9",
   "metadata": {
    "execution": {
     "iopub.execute_input": "2023-12-30T23:39:09.778010Z",
     "iopub.status.busy": "2023-12-30T23:39:09.777813Z",
     "iopub.status.idle": "2023-12-30T23:39:09.781858Z",
     "shell.execute_reply": "2023-12-30T23:39:09.781251Z"
    },
    "papermill": {
     "duration": 0.008317,
     "end_time": "2023-12-30T23:39:09.783213",
     "exception": false,
     "start_time": "2023-12-30T23:39:09.774896",
     "status": "completed"
    },
    "tags": []
   },
   "outputs": [],
   "source": [
    "def count_and_sum(series):\n",
    "    return pd.concat([\n",
    "        series.count().to_frame('orders'),\n",
    "        series.sum().to_frame('tickets'),\n",
    "    ], axis=1)\n",
    "\n",
    "\n",
    "def cumulate(df: pd.DataFrame) -> pd.DataFrame:\n",
    "    return pd.concat([\n",
    "        df,\n",
    "        df.cumsum().rename(columns=lambda x: f'cumulative_{x}')\n",
    "    ], axis=1)"
   ]
  },
  {
   "cell_type": "markdown",
   "id": "4d770738",
   "metadata": {
    "papermill": {
     "duration": 0.002119,
     "end_time": "2023-12-30T23:39:09.787489",
     "exception": false,
     "start_time": "2023-12-30T23:39:09.785370",
     "status": "completed"
    },
    "tags": []
   },
   "source": [
    "Create output directory"
   ]
  },
  {
   "cell_type": "code",
   "execution_count": 4,
   "id": "16eabe55",
   "metadata": {
    "execution": {
     "iopub.execute_input": "2023-12-30T23:39:09.793036Z",
     "iopub.status.busy": "2023-12-30T23:39:09.792510Z",
     "iopub.status.idle": "2023-12-30T23:39:09.795919Z",
     "shell.execute_reply": "2023-12-30T23:39:09.795298Z"
    },
    "papermill": {
     "duration": 0.007641,
     "end_time": "2023-12-30T23:39:09.797265",
     "exception": false,
     "start_time": "2023-12-30T23:39:09.789624",
     "status": "completed"
    },
    "tags": []
   },
   "outputs": [],
   "source": [
    "OUTPUT_DIR = Path('../../../../docs/metrics/tickets/_data/')\n",
    "OUTPUT_DIR.mkdir(parents=True, exist_ok=True)"
   ]
  },
  {
   "cell_type": "markdown",
   "id": "2b21da7f",
   "metadata": {
    "papermill": {
     "duration": 0.002213,
     "end_time": "2023-12-30T23:39:09.802641",
     "exception": false,
     "start_time": "2023-12-30T23:39:09.800428",
     "status": "completed"
    },
    "tags": []
   },
   "source": [
    "Count / sum the orders and tickets by project code and save to a JSON file"
   ]
  },
  {
   "cell_type": "code",
   "execution_count": 5,
   "id": "eb393036",
   "metadata": {
    "execution": {
     "iopub.execute_input": "2023-12-30T23:39:09.808336Z",
     "iopub.status.busy": "2023-12-30T23:39:09.807896Z",
     "iopub.status.idle": "2023-12-30T23:39:09.814991Z",
     "shell.execute_reply": "2023-12-30T23:39:09.814429Z"
    },
    "papermill": {
     "duration": 0.01142,
     "end_time": "2023-12-30T23:39:09.816219",
     "exception": false,
     "start_time": "2023-12-30T23:39:09.804799",
     "status": "completed"
    },
    "tags": []
   },
   "outputs": [],
   "source": [
    "by_project = orders.groupby('project_name').number_of_tickets.pipe(count_and_sum)\n",
    "by_project.loc['total']= by_project.sum()\n",
    "by_project.T.to_json(\n",
    "  OUTPUT_DIR.joinpath('headlines.json'),\n",
    "  indent=2\n",
    ")"
   ]
  },
  {
   "cell_type": "markdown",
   "id": "a80a524f",
   "metadata": {
    "papermill": {
     "duration": 0.002252,
     "end_time": "2023-12-30T23:39:09.820742",
     "exception": false,
     "start_time": "2023-12-30T23:39:09.818490",
     "status": "completed"
    },
    "tags": []
   },
   "source": [
    "Add `day` column"
   ]
  },
  {
   "cell_type": "code",
   "execution_count": 6,
   "id": "b6b3efde",
   "metadata": {
    "execution": {
     "iopub.execute_input": "2023-12-30T23:39:09.830849Z",
     "iopub.status.busy": "2023-12-30T23:39:09.830368Z",
     "iopub.status.idle": "2023-12-30T23:39:09.834980Z",
     "shell.execute_reply": "2023-12-30T23:39:09.834310Z"
    },
    "papermill": {
     "duration": 0.009273,
     "end_time": "2023-12-30T23:39:09.836310",
     "exception": false,
     "start_time": "2023-12-30T23:39:09.827037",
     "status": "completed"
    },
    "tags": []
   },
   "outputs": [],
   "source": [
    "orders['day'] = orders.created_at.dt.floor('D')"
   ]
  },
  {
   "cell_type": "code",
   "execution_count": 7,
   "id": "816a2bdf",
   "metadata": {
    "execution": {
     "iopub.execute_input": "2023-12-30T23:39:09.841965Z",
     "iopub.status.busy": "2023-12-30T23:39:09.841585Z",
     "iopub.status.idle": "2023-12-30T23:39:09.851464Z",
     "shell.execute_reply": "2023-12-30T23:39:09.850829Z"
    },
    "papermill": {
     "duration": 0.014223,
     "end_time": "2023-12-30T23:39:09.852857",
     "exception": false,
     "start_time": "2023-12-30T23:39:09.838634",
     "status": "completed"
    },
    "tags": []
   },
   "outputs": [
    {
     "data": {
      "text/html": [
       "<div>\n",
       "<style scoped>\n",
       "    .dataframe tbody tr th:only-of-type {\n",
       "        vertical-align: middle;\n",
       "    }\n",
       "\n",
       "    .dataframe tbody tr th {\n",
       "        vertical-align: top;\n",
       "    }\n",
       "\n",
       "    .dataframe thead th {\n",
       "        text-align: right;\n",
       "    }\n",
       "</style>\n",
       "<table border=\"1\" class=\"dataframe\">\n",
       "  <thead>\n",
       "    <tr style=\"text-align: right;\">\n",
       "      <th></th>\n",
       "      <th>created_at</th>\n",
       "      <th>day</th>\n",
       "    </tr>\n",
       "  </thead>\n",
       "  <tbody>\n",
       "    <tr>\n",
       "      <th>176</th>\n",
       "      <td>2023-03-30 16:58:03</td>\n",
       "      <td>2023-03-30</td>\n",
       "    </tr>\n",
       "    <tr>\n",
       "      <th>177</th>\n",
       "      <td>2023-03-30 18:44:08</td>\n",
       "      <td>2023-03-30</td>\n",
       "    </tr>\n",
       "    <tr>\n",
       "      <th>180</th>\n",
       "      <td>2023-03-30 20:32:43</td>\n",
       "      <td>2023-03-30</td>\n",
       "    </tr>\n",
       "    <tr>\n",
       "      <th>181</th>\n",
       "      <td>2023-03-30 21:27:59</td>\n",
       "      <td>2023-03-30</td>\n",
       "    </tr>\n",
       "    <tr>\n",
       "      <th>183</th>\n",
       "      <td>2023-03-30 22:56:31</td>\n",
       "      <td>2023-03-30</td>\n",
       "    </tr>\n",
       "  </tbody>\n",
       "</table>\n",
       "</div>"
      ],
      "text/plain": [
       "             created_at        day\n",
       "176 2023-03-30 16:58:03 2023-03-30\n",
       "177 2023-03-30 18:44:08 2023-03-30\n",
       "180 2023-03-30 20:32:43 2023-03-30\n",
       "181 2023-03-30 21:27:59 2023-03-30\n",
       "183 2023-03-30 22:56:31 2023-03-30"
      ]
     },
     "execution_count": 7,
     "metadata": {},
     "output_type": "execute_result"
    }
   ],
   "source": [
    "orders.loc[:, ['created_at', 'day']].head()"
   ]
  },
  {
   "cell_type": "markdown",
   "id": "ca322524",
   "metadata": {
    "papermill": {
     "duration": 0.002403,
     "end_time": "2023-12-30T23:39:09.858038",
     "exception": false,
     "start_time": "2023-12-30T23:39:09.855635",
     "status": "completed"
    },
    "tags": []
   },
   "source": [
    "Save table cumulative weekly per project"
   ]
  },
  {
   "cell_type": "code",
   "execution_count": 8,
   "id": "2296e0fc",
   "metadata": {
    "execution": {
     "iopub.execute_input": "2023-12-30T23:39:09.864079Z",
     "iopub.status.busy": "2023-12-30T23:39:09.863681Z",
     "iopub.status.idle": "2023-12-30T23:39:09.875216Z",
     "shell.execute_reply": "2023-12-30T23:39:09.874558Z"
    },
    "papermill": {
     "duration": 0.016309,
     "end_time": "2023-12-30T23:39:09.876736",
     "exception": false,
     "start_time": "2023-12-30T23:39:09.860427",
     "status": "completed"
    },
    "tags": []
   },
   "outputs": [],
   "source": [
    "orders.groupby(\n",
    "  ['day', 'project_name']\n",
    ").number_of_tickets.pipe(\n",
    "  count_and_sum\n",
    ").tickets.unstack().fillna(0).resample('W-FRI').sum().cumsum().rename_axis('week').to_csv(\n",
    "  OUTPUT_DIR.joinpath('by_project_cumulative_weekly.csv')\n",
    ")"
   ]
  },
  {
   "cell_type": "markdown",
   "id": "69237f00",
   "metadata": {
    "papermill": {
     "duration": 0.00245,
     "end_time": "2023-12-30T23:39:09.881893",
     "exception": false,
     "start_time": "2023-12-30T23:39:09.879443",
     "status": "completed"
    },
    "tags": []
   },
   "source": [
    "Save cumulative monthly sales"
   ]
  },
  {
   "cell_type": "code",
   "execution_count": 9,
   "id": "109798bc",
   "metadata": {
    "execution": {
     "iopub.execute_input": "2023-12-30T23:39:09.887984Z",
     "iopub.status.busy": "2023-12-30T23:39:09.887572Z",
     "iopub.status.idle": "2023-12-30T23:39:09.895002Z",
     "shell.execute_reply": "2023-12-30T23:39:09.894455Z"
    },
    "papermill": {
     "duration": 0.011991,
     "end_time": "2023-12-30T23:39:09.896327",
     "exception": false,
     "start_time": "2023-12-30T23:39:09.884336",
     "status": "completed"
    },
    "tags": []
   },
   "outputs": [],
   "source": [
    "orders.groupby(['day']).number_of_tickets.pipe(count_and_sum).resample('MS').sum().pipe(cumulate).rename_axis('month').to_csv(\n",
    "  OUTPUT_DIR.joinpath('monthly_cumulative.csv')\n",
    ")"
   ]
  },
  {
   "cell_type": "code",
   "execution_count": null,
   "id": "d1911636",
   "metadata": {
    "papermill": {
     "duration": 0.002522,
     "end_time": "2023-12-30T23:39:09.901435",
     "exception": false,
     "start_time": "2023-12-30T23:39:09.898913",
     "status": "completed"
    },
    "tags": []
   },
   "outputs": [],
   "source": []
  }
 ],
 "metadata": {
  "kernelspec": {
   "display_name": "leeds-2023-YZF5GfJv",
   "language": "python",
   "name": "python3"
  },
  "language_info": {
   "codemirror_mode": {
    "name": "ipython",
    "version": 3
   },
   "file_extension": ".py",
   "mimetype": "text/x-python",
   "name": "python",
   "nbconvert_exporter": "python",
   "pygments_lexer": "ipython3",
   "version": "3.10.13"
  },
  "papermill": {
   "default_parameters": {},
   "duration": 1.890112,
   "end_time": "2023-12-30T23:39:10.119506",
   "environment_variables": {},
   "exception": null,
   "input_path": "prepare.ipynb",
   "output_path": "../../../../working/output/tickets-prepare.ipynb",
   "parameters": {},
   "start_time": "2023-12-30T23:39:08.229394",
   "version": "2.4.0"
  }
 },
 "nbformat": 4,
 "nbformat_minor": 5
}