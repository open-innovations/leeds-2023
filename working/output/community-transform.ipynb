{
 "cells": [
  {
   "cell_type": "code",
   "execution_count": 1,
   "id": "df15d426",
   "metadata": {
    "execution": {
     "iopub.execute_input": "2023-12-09T23:39:24.485938Z",
     "iopub.status.busy": "2023-12-09T23:39:24.485680Z",
     "iopub.status.idle": "2023-12-09T23:39:24.493140Z",
     "shell.execute_reply": "2023-12-09T23:39:24.492524Z"
    },
    "papermill": {
     "duration": 0.012386,
     "end_time": "2023-12-09T23:39:24.494572",
     "exception": false,
     "start_time": "2023-12-09T23:39:24.482186",
     "status": "completed"
    },
    "tags": []
   },
   "outputs": [],
   "source": [
    "import os\n",
    "import sys\n",
    "\n",
    "TOP_DIR=os.path.realpath(\"../../..\")\n",
    "if TOP_DIR not in sys.path: sys.path.append(TOP_DIR)"
   ]
  },
  {
   "cell_type": "code",
   "execution_count": 2,
   "id": "e8c2c0ca",
   "metadata": {
    "execution": {
     "iopub.execute_input": "2023-12-09T23:39:24.499482Z",
     "iopub.status.busy": "2023-12-09T23:39:24.498989Z",
     "iopub.status.idle": "2023-12-09T23:39:31.822763Z",
     "shell.execute_reply": "2023-12-09T23:39:31.822027Z"
    },
    "papermill": {
     "duration": 7.328048,
     "end_time": "2023-12-09T23:39:31.824599",
     "exception": false,
     "start_time": "2023-12-09T23:39:24.496551",
     "status": "completed"
    },
    "tags": []
   },
   "outputs": [],
   "source": [
    "import pandas as pd\n",
    "import numpy as np\n",
    "from lib.util.convert import standardise_columns, literal_converter\n",
    "from lib.util.geo import normalise_leeds_wards, ward_name_to_code"
   ]
  },
  {
   "cell_type": "code",
   "execution_count": 3,
   "id": "4ac44986",
   "metadata": {
    "execution": {
     "iopub.execute_input": "2023-12-09T23:39:31.829766Z",
     "iopub.status.busy": "2023-12-09T23:39:31.829395Z",
     "iopub.status.idle": "2023-12-09T23:39:31.844624Z",
     "shell.execute_reply": "2023-12-09T23:39:31.843954Z"
    },
    "papermill": {
     "duration": 0.019371,
     "end_time": "2023-12-09T23:39:31.846054",
     "exception": false,
     "start_time": "2023-12-09T23:39:31.826683",
     "status": "completed"
    },
    "tags": []
   },
   "outputs": [],
   "source": [
    "data = pd.read_csv('../../../working/metrics/community/events.csv', parse_dates=['Start date'])\n",
    "data = data.rename(columns=standardise_columns)"
   ]
  },
  {
   "cell_type": "code",
   "execution_count": 4,
   "id": "76f3d45c",
   "metadata": {
    "execution": {
     "iopub.execute_input": "2023-12-09T23:39:31.850747Z",
     "iopub.status.busy": "2023-12-09T23:39:31.850274Z",
     "iopub.status.idle": "2023-12-09T23:39:31.859641Z",
     "shell.execute_reply": "2023-12-09T23:39:31.858975Z"
    },
    "papermill": {
     "duration": 0.013279,
     "end_time": "2023-12-09T23:39:31.861141",
     "exception": false,
     "start_time": "2023-12-09T23:39:31.847862",
     "status": "completed"
    },
    "tags": []
   },
   "outputs": [],
   "source": [
    "wards = data['ward_(from_venue)'].fillna('[]').pipe(literal_converter).apply(np.unique)"
   ]
  },
  {
   "cell_type": "code",
   "execution_count": 5,
   "id": "9f8bdf1c",
   "metadata": {
    "execution": {
     "iopub.execute_input": "2023-12-09T23:39:31.865727Z",
     "iopub.status.busy": "2023-12-09T23:39:31.865360Z",
     "iopub.status.idle": "2023-12-09T23:39:31.885115Z",
     "shell.execute_reply": "2023-12-09T23:39:31.884553Z"
    },
    "papermill": {
     "duration": 0.023493,
     "end_time": "2023-12-09T23:39:31.886439",
     "exception": false,
     "start_time": "2023-12-09T23:39:31.862946",
     "status": "completed"
    },
    "tags": []
   },
   "outputs": [],
   "source": [
    "data['ward_name'] = wards.apply(lambda x: x[0] if len(x) > 0 else np.nan).pipe(normalise_leeds_wards)\n",
    "data['ward_code'] = data.ward_name.pipe(ward_name_to_code)\n",
    "data['audience'] = data.actual_audience_size_number_of_participants_in_person\n",
    "cleaned_data = data.loc[:, ['event_name', 'project_name', 'start_date', 'ward_name', 'ward_code', 'audience']]"
   ]
  },
  {
   "cell_type": "code",
   "execution_count": 6,
   "id": "d2a71ec7",
   "metadata": {
    "execution": {
     "iopub.execute_input": "2023-12-09T23:39:31.891259Z",
     "iopub.status.busy": "2023-12-09T23:39:31.890876Z",
     "iopub.status.idle": "2023-12-09T23:39:31.896569Z",
     "shell.execute_reply": "2023-12-09T23:39:31.895952Z"
    },
    "papermill": {
     "duration": 0.009605,
     "end_time": "2023-12-09T23:39:31.897938",
     "exception": false,
     "start_time": "2023-12-09T23:39:31.888333",
     "status": "completed"
    },
    "tags": []
   },
   "outputs": [],
   "source": [
    "DATA_DIR='../../../data/metrics/community'\n",
    "os.makedirs(DATA_DIR, exist_ok=True)\n",
    "cleaned_data.to_csv(os.path.join(DATA_DIR, 'events.csv'), index=False)"
   ]
  },
  {
   "cell_type": "markdown",
   "id": "2c811948",
   "metadata": {
    "papermill": {
     "duration": 0.00178,
     "end_time": "2023-12-09T23:39:31.901573",
     "exception": false,
     "start_time": "2023-12-09T23:39:31.899793",
     "status": "completed"
    },
    "tags": []
   },
   "source": [
    "Missing or duplicated wards"
   ]
  },
  {
   "cell_type": "code",
   "execution_count": 7,
   "id": "36be58e7",
   "metadata": {
    "execution": {
     "iopub.execute_input": "2023-12-09T23:39:31.906151Z",
     "iopub.status.busy": "2023-12-09T23:39:31.905774Z",
     "iopub.status.idle": "2023-12-09T23:39:31.918357Z",
     "shell.execute_reply": "2023-12-09T23:39:31.917746Z"
    },
    "papermill": {
     "duration": 0.016365,
     "end_time": "2023-12-09T23:39:31.919718",
     "exception": false,
     "start_time": "2023-12-09T23:39:31.903353",
     "status": "completed"
    },
    "tags": []
   },
   "outputs": [
    {
     "data": {
      "text/html": [
       "<div>\n",
       "<style scoped>\n",
       "    .dataframe tbody tr th:only-of-type {\n",
       "        vertical-align: middle;\n",
       "    }\n",
       "\n",
       "    .dataframe tbody tr th {\n",
       "        vertical-align: top;\n",
       "    }\n",
       "\n",
       "    .dataframe thead th {\n",
       "        text-align: right;\n",
       "    }\n",
       "</style>\n",
       "<table border=\"1\" class=\"dataframe\">\n",
       "  <thead>\n",
       "    <tr style=\"text-align: right;\">\n",
       "      <th></th>\n",
       "      <th>project_name</th>\n",
       "      <th>event_name</th>\n",
       "      <th>start_date</th>\n",
       "      <th>ward_(from_venue)</th>\n",
       "    </tr>\n",
       "  </thead>\n",
       "  <tbody>\n",
       "    <tr>\n",
       "      <th>25</th>\n",
       "      <td>01 - The Awakening</td>\n",
       "      <td>Be More and Swarthmore Pack</td>\n",
       "      <td>2023-02-07</td>\n",
       "      <td>NaN</td>\n",
       "    </tr>\n",
       "    <tr>\n",
       "      <th>55</th>\n",
       "      <td>01 - The Awakening</td>\n",
       "      <td>Creation Station - Leeds City Council</td>\n",
       "      <td>2022-11-23</td>\n",
       "      <td>NaN</td>\n",
       "    </tr>\n",
       "    <tr>\n",
       "      <th>56</th>\n",
       "      <td>01 - The Awakening</td>\n",
       "      <td>Creation Station - Leeds City Council</td>\n",
       "      <td>2022-11-24</td>\n",
       "      <td>NaN</td>\n",
       "    </tr>\n",
       "    <tr>\n",
       "      <th>70</th>\n",
       "      <td>01 - The Awakening</td>\n",
       "      <td>Creation Station - Yorkshire Schools Dance Fes...</td>\n",
       "      <td>2022-11-19</td>\n",
       "      <td>NaN</td>\n",
       "    </tr>\n",
       "    <tr>\n",
       "      <th>72</th>\n",
       "      <td>01 - The Awakening</td>\n",
       "      <td>Creation Station: Ballot Engagement</td>\n",
       "      <td>NaT</td>\n",
       "      <td>NaN</td>\n",
       "    </tr>\n",
       "    <tr>\n",
       "      <th>...</th>\n",
       "      <td>...</td>\n",
       "      <td>...</td>\n",
       "      <td>...</td>\n",
       "      <td>...</td>\n",
       "    </tr>\n",
       "    <tr>\n",
       "      <th>289</th>\n",
       "      <td>Hidden Stories</td>\n",
       "      <td>Edible Archives: Eating The Corn Exchange Slot 2</td>\n",
       "      <td>2023-10-29</td>\n",
       "      <td>NaN</td>\n",
       "    </tr>\n",
       "    <tr>\n",
       "      <th>290</th>\n",
       "      <td>Hidden Stories</td>\n",
       "      <td>Harewood House - Aberford Community Cafe</td>\n",
       "      <td>2023-04-28</td>\n",
       "      <td>NaN</td>\n",
       "    </tr>\n",
       "    <tr>\n",
       "      <th>298</th>\n",
       "      <td>Hidden Stories</td>\n",
       "      <td>Lens Lab Exhibition</td>\n",
       "      <td>2023-09-16</td>\n",
       "      <td>NaN</td>\n",
       "    </tr>\n",
       "    <tr>\n",
       "      <th>304</th>\n",
       "      <td>Hidden Stories</td>\n",
       "      <td>Royal Armouries Exhibition</td>\n",
       "      <td>2023-09-07</td>\n",
       "      <td>NaN</td>\n",
       "    </tr>\n",
       "    <tr>\n",
       "      <th>308</th>\n",
       "      <td>Hidden Stories</td>\n",
       "      <td>TBC British Library Collaboration</td>\n",
       "      <td>NaT</td>\n",
       "      <td>NaN</td>\n",
       "    </tr>\n",
       "  </tbody>\n",
       "</table>\n",
       "<p>81 rows × 4 columns</p>\n",
       "</div>"
      ],
      "text/plain": [
       "           project_name                                         event_name  \\\n",
       "25   01 - The Awakening                        Be More and Swarthmore Pack   \n",
       "55   01 - The Awakening             Creation Station - Leeds City Council    \n",
       "56   01 - The Awakening             Creation Station - Leeds City Council    \n",
       "70   01 - The Awakening  Creation Station - Yorkshire Schools Dance Fes...   \n",
       "72   01 - The Awakening               Creation Station: Ballot Engagement    \n",
       "..                  ...                                                ...   \n",
       "289      Hidden Stories   Edible Archives: Eating The Corn Exchange Slot 2   \n",
       "290      Hidden Stories           Harewood House - Aberford Community Cafe   \n",
       "298      Hidden Stories                                Lens Lab Exhibition   \n",
       "304      Hidden Stories                         Royal Armouries Exhibition   \n",
       "308      Hidden Stories                  TBC British Library Collaboration   \n",
       "\n",
       "    start_date ward_(from_venue)  \n",
       "25  2023-02-07               NaN  \n",
       "55  2022-11-23               NaN  \n",
       "56  2022-11-24               NaN  \n",
       "70  2022-11-19               NaN  \n",
       "72         NaT               NaN  \n",
       "..         ...               ...  \n",
       "289 2023-10-29               NaN  \n",
       "290 2023-04-28               NaN  \n",
       "298 2023-09-16               NaN  \n",
       "304 2023-09-07               NaN  \n",
       "308        NaT               NaN  \n",
       "\n",
       "[81 rows x 4 columns]"
      ]
     },
     "execution_count": 7,
     "metadata": {},
     "output_type": "execute_result"
    }
   ],
   "source": [
    "data.loc[wards.apply(len) != 1, ['project_name', 'event_name', 'start_date', 'ward_(from_venue)']]"
   ]
  },
  {
   "cell_type": "markdown",
   "id": "b56f54d4",
   "metadata": {
    "papermill": {
     "duration": 0.002065,
     "end_time": "2023-12-09T23:39:31.924609",
     "exception": false,
     "start_time": "2023-12-09T23:39:31.922544",
     "status": "completed"
    },
    "tags": []
   },
   "source": [
    "Missing audience"
   ]
  },
  {
   "cell_type": "code",
   "execution_count": 8,
   "id": "1d50086c",
   "metadata": {
    "execution": {
     "iopub.execute_input": "2023-12-09T23:39:31.929932Z",
     "iopub.status.busy": "2023-12-09T23:39:31.929567Z",
     "iopub.status.idle": "2023-12-09T23:39:31.939067Z",
     "shell.execute_reply": "2023-12-09T23:39:31.938516Z"
    },
    "papermill": {
     "duration": 0.013608,
     "end_time": "2023-12-09T23:39:31.940331",
     "exception": false,
     "start_time": "2023-12-09T23:39:31.926723",
     "status": "completed"
    },
    "tags": []
   },
   "outputs": [
    {
     "data": {
      "text/html": [
       "<div>\n",
       "<style scoped>\n",
       "    .dataframe tbody tr th:only-of-type {\n",
       "        vertical-align: middle;\n",
       "    }\n",
       "\n",
       "    .dataframe tbody tr th {\n",
       "        vertical-align: top;\n",
       "    }\n",
       "\n",
       "    .dataframe thead th {\n",
       "        text-align: right;\n",
       "    }\n",
       "</style>\n",
       "<table border=\"1\" class=\"dataframe\">\n",
       "  <thead>\n",
       "    <tr style=\"text-align: right;\">\n",
       "      <th></th>\n",
       "      <th>project_name</th>\n",
       "      <th>event_name</th>\n",
       "      <th>start_date</th>\n",
       "      <th>audience</th>\n",
       "    </tr>\n",
       "  </thead>\n",
       "  <tbody>\n",
       "    <tr>\n",
       "      <th>2</th>\n",
       "      <td>01 - The Awakening</td>\n",
       "      <td>Ballot Facilitated Session - Carr Manor Commun...</td>\n",
       "      <td>2022-11-01</td>\n",
       "      <td>NaN</td>\n",
       "    </tr>\n",
       "    <tr>\n",
       "      <th>3</th>\n",
       "      <td>01 - The Awakening</td>\n",
       "      <td>Ballot Facilitated Session - Chapel Allerton P...</td>\n",
       "      <td>2022-11-07</td>\n",
       "      <td>NaN</td>\n",
       "    </tr>\n",
       "    <tr>\n",
       "      <th>4</th>\n",
       "      <td>01 - The Awakening</td>\n",
       "      <td>Ballot Facilitated Session - Cobden Primary Sc...</td>\n",
       "      <td>2022-11-09</td>\n",
       "      <td>NaN</td>\n",
       "    </tr>\n",
       "    <tr>\n",
       "      <th>5</th>\n",
       "      <td>01 - The Awakening</td>\n",
       "      <td>Ballot Facilitated Session - Cobden Primary Sc...</td>\n",
       "      <td>2022-11-10</td>\n",
       "      <td>NaN</td>\n",
       "    </tr>\n",
       "    <tr>\n",
       "      <th>6</th>\n",
       "      <td>01 - The Awakening</td>\n",
       "      <td>Ballot Facilitated Session - Cobden Primary Sc...</td>\n",
       "      <td>2022-11-18</td>\n",
       "      <td>NaN</td>\n",
       "    </tr>\n",
       "    <tr>\n",
       "      <th>...</th>\n",
       "      <td>...</td>\n",
       "      <td>...</td>\n",
       "      <td>...</td>\n",
       "      <td>...</td>\n",
       "    </tr>\n",
       "    <tr>\n",
       "      <th>311</th>\n",
       "      <td>Hidden Stories</td>\n",
       "      <td>Try Your Hand at Ceramic Sculpture</td>\n",
       "      <td>2023-09-10</td>\n",
       "      <td>NaN</td>\n",
       "    </tr>\n",
       "    <tr>\n",
       "      <th>312</th>\n",
       "      <td>Hidden Stories</td>\n",
       "      <td>Try Your Hand at Ceramic Sculpture</td>\n",
       "      <td>2023-09-16</td>\n",
       "      <td>NaN</td>\n",
       "    </tr>\n",
       "    <tr>\n",
       "      <th>313</th>\n",
       "      <td>Hidden Stories</td>\n",
       "      <td>Try Your Hand at Stone Carving</td>\n",
       "      <td>2023-09-09</td>\n",
       "      <td>NaN</td>\n",
       "    </tr>\n",
       "    <tr>\n",
       "      <th>314</th>\n",
       "      <td>Hidden Stories</td>\n",
       "      <td>Try Your Hand at Stone Carving</td>\n",
       "      <td>2023-09-10</td>\n",
       "      <td>NaN</td>\n",
       "    </tr>\n",
       "    <tr>\n",
       "      <th>315</th>\n",
       "      <td>Hidden Stories</td>\n",
       "      <td>Try Your Hand at Stone Carving</td>\n",
       "      <td>2023-09-16</td>\n",
       "      <td>NaN</td>\n",
       "    </tr>\n",
       "  </tbody>\n",
       "</table>\n",
       "<p>185 rows × 4 columns</p>\n",
       "</div>"
      ],
      "text/plain": [
       "           project_name                                         event_name  \\\n",
       "2    01 - The Awakening  Ballot Facilitated Session - Carr Manor Commun...   \n",
       "3    01 - The Awakening  Ballot Facilitated Session - Chapel Allerton P...   \n",
       "4    01 - The Awakening  Ballot Facilitated Session - Cobden Primary Sc...   \n",
       "5    01 - The Awakening  Ballot Facilitated Session - Cobden Primary Sc...   \n",
       "6    01 - The Awakening  Ballot Facilitated Session - Cobden Primary Sc...   \n",
       "..                  ...                                                ...   \n",
       "311      Hidden Stories                 Try Your Hand at Ceramic Sculpture   \n",
       "312      Hidden Stories                 Try Your Hand at Ceramic Sculpture   \n",
       "313      Hidden Stories                     Try Your Hand at Stone Carving   \n",
       "314      Hidden Stories                     Try Your Hand at Stone Carving   \n",
       "315      Hidden Stories                     Try Your Hand at Stone Carving   \n",
       "\n",
       "    start_date  audience  \n",
       "2   2022-11-01       NaN  \n",
       "3   2022-11-07       NaN  \n",
       "4   2022-11-09       NaN  \n",
       "5   2022-11-10       NaN  \n",
       "6   2022-11-18       NaN  \n",
       "..         ...       ...  \n",
       "311 2023-09-10       NaN  \n",
       "312 2023-09-16       NaN  \n",
       "313 2023-09-09       NaN  \n",
       "314 2023-09-10       NaN  \n",
       "315 2023-09-16       NaN  \n",
       "\n",
       "[185 rows x 4 columns]"
      ]
     },
     "execution_count": 8,
     "metadata": {},
     "output_type": "execute_result"
    }
   ],
   "source": [
    "data.loc[data.audience.isna(), ['project_name', 'event_name', 'start_date', 'audience']]"
   ]
  },
  {
   "cell_type": "code",
   "execution_count": null,
   "id": "f33ee70d",
   "metadata": {
    "papermill": {
     "duration": 0.002226,
     "end_time": "2023-12-09T23:39:31.944817",
     "exception": false,
     "start_time": "2023-12-09T23:39:31.942591",
     "status": "completed"
    },
    "tags": []
   },
   "outputs": [],
   "source": []
  },
  {
   "cell_type": "code",
   "execution_count": null,
   "id": "fb1adac8",
   "metadata": {
    "papermill": {
     "duration": 0.002195,
     "end_time": "2023-12-09T23:39:31.949275",
     "exception": false,
     "start_time": "2023-12-09T23:39:31.947080",
     "status": "completed"
    },
    "tags": []
   },
   "outputs": [],
   "source": []
  }
 ],
 "metadata": {
  "kernelspec": {
   "display_name": "leeds-2023-YZF5GfJv",
   "language": "python",
   "name": "python3"
  },
  "language_info": {
   "codemirror_mode": {
    "name": "ipython",
    "version": 3
   },
   "file_extension": ".py",
   "mimetype": "text/x-python",
   "name": "python",
   "nbconvert_exporter": "python",
   "pygments_lexer": "ipython3",
   "version": "3.10.13"
  },
  "papermill": {
   "default_parameters": {},
   "duration": 8.938775,
   "end_time": "2023-12-09T23:39:32.167286",
   "environment_variables": {},
   "exception": null,
   "input_path": "transform.ipynb",
   "output_path": "../../../working/output/community-transform.ipynb",
   "parameters": {},
   "start_time": "2023-12-09T23:39:23.228511",
   "version": "2.4.0"
  }
 },
 "nbformat": 4,
 "nbformat_minor": 5
}