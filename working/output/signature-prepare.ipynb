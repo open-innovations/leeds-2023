{
 "cells": [
  {
   "cell_type": "code",
   "execution_count": 1,
   "id": "ee4dae52",
   "metadata": {
    "execution": {
     "iopub.execute_input": "2023-12-20T23:40:08.141357Z",
     "iopub.status.busy": "2023-12-20T23:40:08.141107Z",
     "iopub.status.idle": "2023-12-20T23:40:15.224783Z",
     "shell.execute_reply": "2023-12-20T23:40:15.224136Z"
    },
    "papermill": {
     "duration": 7.088916,
     "end_time": "2023-12-20T23:40:15.226477",
     "exception": false,
     "start_time": "2023-12-20T23:40:08.137561",
     "status": "completed"
    },
    "tags": []
   },
   "outputs": [],
   "source": [
    "import os\n",
    "import pandas as pd\n",
    "from events import load_event_data, get_first_ward, normalise_ward"
   ]
  },
  {
   "cell_type": "code",
   "execution_count": 2,
   "id": "8e48adee",
   "metadata": {
    "execution": {
     "iopub.execute_input": "2023-12-20T23:40:15.231952Z",
     "iopub.status.busy": "2023-12-20T23:40:15.231453Z",
     "iopub.status.idle": "2023-12-20T23:40:15.235123Z",
     "shell.execute_reply": "2023-12-20T23:40:15.234480Z"
    },
    "papermill": {
     "duration": 0.007672,
     "end_time": "2023-12-20T23:40:15.236405",
     "exception": false,
     "start_time": "2023-12-20T23:40:15.228733",
     "status": "completed"
    },
    "tags": []
   },
   "outputs": [],
   "source": [
    "latest_date = pd.Timestamp.today().ceil('D')"
   ]
  },
  {
   "cell_type": "code",
   "execution_count": 3,
   "id": "b191e753",
   "metadata": {
    "execution": {
     "iopub.execute_input": "2023-12-20T23:40:15.241188Z",
     "iopub.status.busy": "2023-12-20T23:40:15.240752Z",
     "iopub.status.idle": "2023-12-20T23:40:15.256894Z",
     "shell.execute_reply": "2023-12-20T23:40:15.256281Z"
    },
    "papermill": {
     "duration": 0.020157,
     "end_time": "2023-12-20T23:40:15.258389",
     "exception": false,
     "start_time": "2023-12-20T23:40:15.238232",
     "status": "completed"
    },
    "tags": []
   },
   "outputs": [],
   "source": [
    "tickets = pd.read_csv('../../../../data/metrics/events/tickets/orders.csv', parse_dates=['created_at', 'event_date'])\n",
    "tickets = tickets[tickets.event_date <= latest_date]"
   ]
  },
  {
   "cell_type": "code",
   "execution_count": 4,
   "id": "91d58435",
   "metadata": {
    "execution": {
     "iopub.execute_input": "2023-12-20T23:40:15.263114Z",
     "iopub.status.busy": "2023-12-20T23:40:15.262691Z",
     "iopub.status.idle": "2023-12-20T23:40:15.316219Z",
     "shell.execute_reply": "2023-12-20T23:40:15.315685Z"
    },
    "papermill": {
     "duration": 0.057338,
     "end_time": "2023-12-20T23:40:15.317585",
     "exception": false,
     "start_time": "2023-12-20T23:40:15.260247",
     "status": "completed"
    },
    "tags": []
   },
   "outputs": [],
   "source": [
    "events = load_event_data()\n",
    "\n",
    "events = pd.concat([\n",
    "  events,\n",
    "  events.pipe(get_first_ward).pipe(normalise_ward).fillna('UNKNOWN'),\n",
    "  pd.Series(\n",
    "      events.actual_audience_size_number_of_participants_in_person + events.actual_audience_size_number_of_participants_online,\n",
    "      name='attendances'\n",
    "  )\n",
    "], axis=1).rename(columns={\n",
    "    'start_date': 'date'\n",
    "}).loc[:, ['ward_code', 'date', 'event_unique_identifier', 'attendances']]"
   ]
  },
  {
   "cell_type": "code",
   "execution_count": 5,
   "id": "c2e3ab2b",
   "metadata": {
    "execution": {
     "iopub.execute_input": "2023-12-20T23:40:15.322466Z",
     "iopub.status.busy": "2023-12-20T23:40:15.322091Z",
     "iopub.status.idle": "2023-12-20T23:40:15.325263Z",
     "shell.execute_reply": "2023-12-20T23:40:15.324643Z"
    },
    "papermill": {
     "duration": 0.007044,
     "end_time": "2023-12-20T23:40:15.326565",
     "exception": false,
     "start_time": "2023-12-20T23:40:15.319521",
     "status": "completed"
    },
    "tags": []
   },
   "outputs": [],
   "source": [
    "OUTPUT_DIR='../../../../docs/metrics/events/signature/_data/'\n",
    "os.makedirs(OUTPUT_DIR, exist_ok=True)"
   ]
  },
  {
   "cell_type": "markdown",
   "id": "6abdade4",
   "metadata": {
    "papermill": {
     "duration": 0.001924,
     "end_time": "2023-12-20T23:40:15.330423",
     "exception": false,
     "start_time": "2023-12-20T23:40:15.328499",
     "status": "completed"
    },
    "tags": []
   },
   "source": [
    "Events CSVs"
   ]
  },
  {
   "cell_type": "code",
   "execution_count": 6,
   "id": "620f5a69",
   "metadata": {
    "execution": {
     "iopub.execute_input": "2023-12-20T23:40:15.335483Z",
     "iopub.status.busy": "2023-12-20T23:40:15.335056Z",
     "iopub.status.idle": "2023-12-20T23:40:15.341042Z",
     "shell.execute_reply": "2023-12-20T23:40:15.340530Z"
    },
    "papermill": {
     "duration": 0.009876,
     "end_time": "2023-12-20T23:40:15.342350",
     "exception": false,
     "start_time": "2023-12-20T23:40:15.332474",
     "status": "completed"
    },
    "tags": []
   },
   "outputs": [],
   "source": [
    "pd.DataFrame({\n",
    "  'events': events.groupby('ward_code').event_unique_identifier.count(),\n",
    "  'attendances': events.groupby('ward_code').attendances.sum().astype(int),\n",
    "}).to_csv(os.path.join(OUTPUT_DIR, 'events_by_ward.csv'))\n"
   ]
  },
  {
   "cell_type": "code",
   "execution_count": 7,
   "id": "768acdd7",
   "metadata": {
    "execution": {
     "iopub.execute_input": "2023-12-20T23:40:15.347183Z",
     "iopub.status.busy": "2023-12-20T23:40:15.346832Z",
     "iopub.status.idle": "2023-12-20T23:40:15.354346Z",
     "shell.execute_reply": "2023-12-20T23:40:15.353859Z"
    },
    "papermill": {
     "duration": 0.011322,
     "end_time": "2023-12-20T23:40:15.355624",
     "exception": false,
     "start_time": "2023-12-20T23:40:15.344302",
     "status": "completed"
    },
    "tags": []
   },
   "outputs": [],
   "source": [
    "pd.DataFrame({\n",
    "  'events': events.groupby('date').event_unique_identifier.count(),\n",
    "  'attendances': events.groupby('date').attendances.sum().astype(int),\n",
    "}).resample('M').sum().astype(int).to_csv(os.path.join(OUTPUT_DIR, 'events_by_date.csv'))"
   ]
  },
  {
   "cell_type": "markdown",
   "id": "77d6da92",
   "metadata": {
    "papermill": {
     "duration": 0.002637,
     "end_time": "2023-12-20T23:40:15.360270",
     "exception": false,
     "start_time": "2023-12-20T23:40:15.357633",
     "status": "completed"
    },
    "tags": []
   },
   "source": [
    "Tickets CSV"
   ]
  },
  {
   "cell_type": "code",
   "execution_count": 8,
   "id": "518a350d",
   "metadata": {
    "execution": {
     "iopub.execute_input": "2023-12-20T23:40:15.365052Z",
     "iopub.status.busy": "2023-12-20T23:40:15.364699Z",
     "iopub.status.idle": "2023-12-20T23:40:15.370923Z",
     "shell.execute_reply": "2023-12-20T23:40:15.370419Z"
    },
    "papermill": {
     "duration": 0.010061,
     "end_time": "2023-12-20T23:40:15.372239",
     "exception": false,
     "start_time": "2023-12-20T23:40:15.362178",
     "status": "completed"
    },
    "tags": []
   },
   "outputs": [],
   "source": [
    "pd.DataFrame({\n",
    "  'orders': tickets.groupby('ward_code').number_of_tickets.count(),\n",
    "  'tickets': tickets.groupby('ward_code').number_of_tickets.sum().astype(int),\n",
    "}).to_csv(os.path.join(OUTPUT_DIR, 'tickets_by_ward.csv'))"
   ]
  },
  {
   "cell_type": "code",
   "execution_count": 9,
   "id": "27ed0027",
   "metadata": {
    "execution": {
     "iopub.execute_input": "2023-12-20T23:40:15.377225Z",
     "iopub.status.busy": "2023-12-20T23:40:15.376879Z",
     "iopub.status.idle": "2023-12-20T23:40:15.383567Z",
     "shell.execute_reply": "2023-12-20T23:40:15.383087Z"
    },
    "papermill": {
     "duration": 0.010596,
     "end_time": "2023-12-20T23:40:15.384838",
     "exception": false,
     "start_time": "2023-12-20T23:40:15.374242",
     "status": "completed"
    },
    "tags": []
   },
   "outputs": [],
   "source": [
    "pd.DataFrame({\n",
    "  'orders': tickets.groupby('event_date').number_of_tickets.count(),\n",
    "  'tickets': tickets.groupby('event_date').number_of_tickets.sum().astype(int),\n",
    "}).resample('M').sum().to_csv(os.path.join(OUTPUT_DIR, 'tickets_by_event_date.csv'))"
   ]
  },
  {
   "cell_type": "code",
   "execution_count": 10,
   "id": "56e64c9f",
   "metadata": {
    "execution": {
     "iopub.execute_input": "2023-12-20T23:40:15.389904Z",
     "iopub.status.busy": "2023-12-20T23:40:15.389559Z",
     "iopub.status.idle": "2023-12-20T23:40:15.394106Z",
     "shell.execute_reply": "2023-12-20T23:40:15.393504Z"
    },
    "papermill": {
     "duration": 0.008458,
     "end_time": "2023-12-20T23:40:15.395308",
     "exception": false,
     "start_time": "2023-12-20T23:40:15.386850",
     "status": "completed"
    },
    "tags": []
   },
   "outputs": [],
   "source": [
    "pd.Series({\n",
    "    'total_events': events.event_unique_identifier.count(),\n",
    "    'total_attendances': events.attendances.count(),\n",
    "    'first_event': events.date.min(),\n",
    "    'latest_event': events.date.max(),\n",
    "    'total_ticket_orders_for_events_to_date': tickets.number_of_tickets.count(),\n",
    "    'total_tickets_sold_for_events_to_date': tickets.number_of_tickets.sum(),\n",
    "}).to_json(os.path.join(OUTPUT_DIR, 'headlines.json'), indent=2)"
   ]
  },
  {
   "cell_type": "code",
   "execution_count": null,
   "id": "d3351001",
   "metadata": {
    "papermill": {
     "duration": 0.001991,
     "end_time": "2023-12-20T23:40:15.399350",
     "exception": false,
     "start_time": "2023-12-20T23:40:15.397359",
     "status": "completed"
    },
    "tags": []
   },
   "outputs": [],
   "source": []
  }
 ],
 "metadata": {
  "kernelspec": {
   "display_name": "leeds-2023-YZF5GfJv",
   "language": "python",
   "name": "python3"
  },
  "language_info": {
   "codemirror_mode": {
    "name": "ipython",
    "version": 3
   },
   "file_extension": ".py",
   "mimetype": "text/x-python",
   "name": "python",
   "nbconvert_exporter": "python",
   "pygments_lexer": "ipython3",
   "version": "3.10.13"
  },
  "papermill": {
   "default_parameters": {},
   "duration": 8.713597,
   "end_time": "2023-12-20T23:40:15.617255",
   "environment_variables": {},
   "exception": null,
   "input_path": "prepare.ipynb",
   "output_path": "../../../../working/output/signature-prepare.ipynb",
   "parameters": {},
   "start_time": "2023-12-20T23:40:06.903658",
   "version": "2.4.0"
  }
 },
 "nbformat": 4,
 "nbformat_minor": 5
}