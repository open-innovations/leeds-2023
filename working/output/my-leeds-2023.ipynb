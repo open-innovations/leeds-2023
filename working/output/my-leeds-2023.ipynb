{
 "cells": [
  {
   "cell_type": "markdown",
   "id": "a7048b9b",
   "metadata": {
    "papermill": {
     "duration": 0.005115,
     "end_time": "2023-07-12T18:28:12.340708",
     "exception": false,
     "start_time": "2023-07-12T18:28:12.335593",
     "status": "completed"
    },
    "tags": []
   },
   "source": [
    "# My LEEDS 2023\n",
    "\n",
    "Prepares data for the My LEEDS 2023 page "
   ]
  },
  {
   "cell_type": "code",
   "execution_count": 1,
   "id": "e3e963a6",
   "metadata": {
    "execution": {
     "iopub.execute_input": "2023-07-12T18:28:12.344596Z",
     "iopub.status.busy": "2023-07-12T18:28:12.344433Z",
     "iopub.status.idle": "2023-07-12T18:28:12.497377Z",
     "shell.execute_reply": "2023-07-12T18:28:12.496924Z"
    },
    "papermill": {
     "duration": 0.156231,
     "end_time": "2023-07-12T18:28:12.498510",
     "exception": false,
     "start_time": "2023-07-12T18:28:12.342279",
     "status": "completed"
    },
    "tags": []
   },
   "outputs": [],
   "source": [
    "import os\n",
    "import sys\n",
    "import pandas as pd\n",
    "import numpy as np"
   ]
  },
  {
   "cell_type": "code",
   "execution_count": 2,
   "id": "c40eb3f6",
   "metadata": {
    "execution": {
     "iopub.execute_input": "2023-07-12T18:28:12.502350Z",
     "iopub.status.busy": "2023-07-12T18:28:12.502180Z",
     "iopub.status.idle": "2023-07-12T18:28:12.511700Z",
     "shell.execute_reply": "2023-07-12T18:28:12.511293Z"
    },
    "papermill": {
     "duration": 0.012467,
     "end_time": "2023-07-12T18:28:12.512627",
     "exception": false,
     "start_time": "2023-07-12T18:28:12.500160",
     "status": "completed"
    },
    "tags": []
   },
   "outputs": [],
   "source": [
    "lib_dir = os.path.abspath('../../../../lib/')\n",
    "if not lib_dir in sys.path: sys.path.append(lib_dir)\n",
    "\n",
    "import util.geo\n",
    "import util.convert"
   ]
  },
  {
   "cell_type": "markdown",
   "id": "c4c08a56",
   "metadata": {
    "papermill": {
     "duration": 0.001444,
     "end_time": "2023-07-12T18:28:12.515608",
     "exception": false,
     "start_time": "2023-07-12T18:28:12.514164",
     "status": "completed"
    },
    "tags": []
   },
   "source": [
    "Read in event data and filter by past / current (starting before today) tagged with the appropriate project name and event type"
   ]
  },
  {
   "cell_type": "code",
   "execution_count": 3,
   "id": "e6b7b922",
   "metadata": {
    "execution": {
     "iopub.execute_input": "2023-07-12T18:28:12.519161Z",
     "iopub.status.busy": "2023-07-12T18:28:12.519004Z",
     "iopub.status.idle": "2023-07-12T18:28:12.527242Z",
     "shell.execute_reply": "2023-07-12T18:28:12.526883Z"
    },
    "papermill": {
     "duration": 0.011172,
     "end_time": "2023-07-12T18:28:12.528236",
     "exception": false,
     "start_time": "2023-07-12T18:28:12.517064",
     "status": "completed"
    },
    "tags": []
   },
   "outputs": [],
   "source": [
    "data = pd.read_csv('../../../../data/metrics/events/master/all.csv', parse_dates=['start_date'])\n",
    "data = data.loc[\n",
    "    (data.project_type == 'Produce (Signature)') &\n",
    "    (data.project_name == '12 - My LEEDS 2023') &\n",
    "    (data.event_type.str.contains('Public Event -')) &\n",
    "    (data.start_date < pd.Timestamp.now())\n",
    "]"
   ]
  },
  {
   "cell_type": "markdown",
   "id": "1ed78165",
   "metadata": {
    "papermill": {
     "duration": 0.002102,
     "end_time": "2023-07-12T18:28:12.532249",
     "exception": false,
     "start_time": "2023-07-12T18:28:12.530147",
     "status": "completed"
    },
    "tags": []
   },
   "source": [
    "Calculate series of wards"
   ]
  },
  {
   "cell_type": "code",
   "execution_count": 4,
   "id": "3717f200",
   "metadata": {
    "execution": {
     "iopub.execute_input": "2023-07-12T18:28:12.536186Z",
     "iopub.status.busy": "2023-07-12T18:28:12.536046Z",
     "iopub.status.idle": "2023-07-12T18:28:12.538943Z",
     "shell.execute_reply": "2023-07-12T18:28:12.538658Z"
    },
    "papermill": {
     "duration": 0.005692,
     "end_time": "2023-07-12T18:28:12.539807",
     "exception": false,
     "start_time": "2023-07-12T18:28:12.534115",
     "status": "completed"
    },
    "tags": []
   },
   "outputs": [],
   "source": [
    "wards = data['ward_(from_venue)'].fillna(value='[]').pipe(util.convert.literal_converter).apply(np.unique)"
   ]
  },
  {
   "cell_type": "markdown",
   "id": "d40ddc78",
   "metadata": {
    "papermill": {
     "duration": 0.002114,
     "end_time": "2023-07-12T18:28:12.543758",
     "exception": false,
     "start_time": "2023-07-12T18:28:12.541644",
     "status": "completed"
    },
    "tags": []
   },
   "source": [
    "Print a list of events which have no ward, or more than one"
   ]
  },
  {
   "cell_type": "code",
   "execution_count": 5,
   "id": "d9407059",
   "metadata": {
    "execution": {
     "iopub.execute_input": "2023-07-12T18:28:12.550312Z",
     "iopub.status.busy": "2023-07-12T18:28:12.550088Z",
     "iopub.status.idle": "2023-07-12T18:28:12.564305Z",
     "shell.execute_reply": "2023-07-12T18:28:12.563989Z"
    },
    "papermill": {
     "duration": 0.018787,
     "end_time": "2023-07-12T18:28:12.565125",
     "exception": false,
     "start_time": "2023-07-12T18:28:12.546338",
     "status": "completed"
    },
    "tags": []
   },
   "outputs": [
    {
     "data": {
      "text/html": [
       "<div>\n",
       "<style scoped>\n",
       "    .dataframe tbody tr th:only-of-type {\n",
       "        vertical-align: middle;\n",
       "    }\n",
       "\n",
       "    .dataframe tbody tr th {\n",
       "        vertical-align: top;\n",
       "    }\n",
       "\n",
       "    .dataframe thead th {\n",
       "        text-align: right;\n",
       "    }\n",
       "</style>\n",
       "<table border=\"1\" class=\"dataframe\">\n",
       "  <thead>\n",
       "    <tr style=\"text-align: right;\">\n",
       "      <th></th>\n",
       "      <th>event_unique_identifier</th>\n",
       "      <th>project_name</th>\n",
       "      <th>event_name</th>\n",
       "      <th>event_type</th>\n",
       "      <th>season</th>\n",
       "      <th>start_date</th>\n",
       "      <th>airtable_id</th>\n",
       "      <th>actual_audience_size_number_of_participants_in_person</th>\n",
       "      <th>project_type</th>\n",
       "      <th>ward_(from_venue)</th>\n",
       "      <th>postcode_(from_venue)</th>\n",
       "      <th>end_date</th>\n",
       "      <th>number_of_booked_participants</th>\n",
       "      <th>actual_audience_size_number_of_participants_online</th>\n",
       "    </tr>\n",
       "  </thead>\n",
       "  <tbody>\n",
       "    <tr>\n",
       "      <th>11</th>\n",
       "      <td>12 - My LEEDS 2023: My Leeds Event Day 1 (Live...</td>\n",
       "      <td>12 - My LEEDS 2023</td>\n",
       "      <td>My Leeds Event Day 1 (Live Activation)</td>\n",
       "      <td>['Public Event - Performance']</td>\n",
       "      <td>['Season 2 - Playing']</td>\n",
       "      <td>2023-07-08</td>\n",
       "      <td>265</td>\n",
       "      <td>NaN</td>\n",
       "      <td>Produce (Signature)</td>\n",
       "      <td>NaN</td>\n",
       "      <td>NaN</td>\n",
       "      <td>2023-07-09</td>\n",
       "      <td>NaN</td>\n",
       "      <td>NaN</td>\n",
       "    </tr>\n",
       "    <tr>\n",
       "      <th>506</th>\n",
       "      <td>12 - My LEEDS 2023: The Gift: digital gift lau...</td>\n",
       "      <td>12 - My LEEDS 2023</td>\n",
       "      <td>The Gift: digital gift launch</td>\n",
       "      <td>['Public Event - Digital Experience']</td>\n",
       "      <td>['Season 2 - Playing']</td>\n",
       "      <td>2023-06-19</td>\n",
       "      <td>656</td>\n",
       "      <td>NaN</td>\n",
       "      <td>Produce (Signature)</td>\n",
       "      <td>NaN</td>\n",
       "      <td>NaN</td>\n",
       "      <td>2023-06-19</td>\n",
       "      <td>NaN</td>\n",
       "      <td>NaN</td>\n",
       "    </tr>\n",
       "    <tr>\n",
       "      <th>570</th>\n",
       "      <td>12 - My LEEDS 2023: The Gift: Garments</td>\n",
       "      <td>12 - My LEEDS 2023</td>\n",
       "      <td>The Gift: Garments</td>\n",
       "      <td>['Public Event - Installation']</td>\n",
       "      <td>['Season 2 - Playing']</td>\n",
       "      <td>2023-06-17</td>\n",
       "      <td>657</td>\n",
       "      <td>NaN</td>\n",
       "      <td>Produce (Signature)</td>\n",
       "      <td>NaN</td>\n",
       "      <td>NaN</td>\n",
       "      <td>2023-08-27</td>\n",
       "      <td>NaN</td>\n",
       "      <td>NaN</td>\n",
       "    </tr>\n",
       "    <tr>\n",
       "      <th>686</th>\n",
       "      <td>12 - My LEEDS 2023: My LEEDS Summer: Alwoodley...</td>\n",
       "      <td>12 - My LEEDS 2023</td>\n",
       "      <td>My LEEDS Summer: Alwoodley Festival of Sport a...</td>\n",
       "      <td>['Public Event - Performance']</td>\n",
       "      <td>['Season 2 - Playing']</td>\n",
       "      <td>2023-07-09</td>\n",
       "      <td>430</td>\n",
       "      <td>NaN</td>\n",
       "      <td>Produce (Signature)</td>\n",
       "      <td>['Alwoodley', 'Alwoodley', 'Alwoodley', 'Alwoo...</td>\n",
       "      <td>['LS17 7NZ', 'LS17 7PF', 'LS17 5HX', 'LS17 7HL...</td>\n",
       "      <td>2023-07-09</td>\n",
       "      <td>NaN</td>\n",
       "      <td>NaN</td>\n",
       "    </tr>\n",
       "  </tbody>\n",
       "</table>\n",
       "</div>"
      ],
      "text/plain": [
       "                               event_unique_identifier        project_name  \\\n",
       "11   12 - My LEEDS 2023: My Leeds Event Day 1 (Live...  12 - My LEEDS 2023   \n",
       "506  12 - My LEEDS 2023: The Gift: digital gift lau...  12 - My LEEDS 2023   \n",
       "570             12 - My LEEDS 2023: The Gift: Garments  12 - My LEEDS 2023   \n",
       "686  12 - My LEEDS 2023: My LEEDS Summer: Alwoodley...  12 - My LEEDS 2023   \n",
       "\n",
       "                                            event_name  \\\n",
       "11              My Leeds Event Day 1 (Live Activation)   \n",
       "506                     The Gift: digital gift launch    \n",
       "570                                 The Gift: Garments   \n",
       "686  My LEEDS Summer: Alwoodley Festival of Sport a...   \n",
       "\n",
       "                                event_type                  season start_date  \\\n",
       "11          ['Public Event - Performance']  ['Season 2 - Playing'] 2023-07-08   \n",
       "506  ['Public Event - Digital Experience']  ['Season 2 - Playing'] 2023-06-19   \n",
       "570        ['Public Event - Installation']  ['Season 2 - Playing'] 2023-06-17   \n",
       "686         ['Public Event - Performance']  ['Season 2 - Playing'] 2023-07-09   \n",
       "\n",
       "     airtable_id  actual_audience_size_number_of_participants_in_person  \\\n",
       "11           265                                                NaN       \n",
       "506          656                                                NaN       \n",
       "570          657                                                NaN       \n",
       "686          430                                                NaN       \n",
       "\n",
       "            project_type                                  ward_(from_venue)  \\\n",
       "11   Produce (Signature)                                                NaN   \n",
       "506  Produce (Signature)                                                NaN   \n",
       "570  Produce (Signature)                                                NaN   \n",
       "686  Produce (Signature)  ['Alwoodley', 'Alwoodley', 'Alwoodley', 'Alwoo...   \n",
       "\n",
       "                                 postcode_(from_venue)    end_date  \\\n",
       "11                                                 NaN  2023-07-09   \n",
       "506                                                NaN  2023-06-19   \n",
       "570                                                NaN  2023-08-27   \n",
       "686  ['LS17 7NZ', 'LS17 7PF', 'LS17 5HX', 'LS17 7HL...  2023-07-09   \n",
       "\n",
       "     number_of_booked_participants  \\\n",
       "11                             NaN   \n",
       "506                            NaN   \n",
       "570                            NaN   \n",
       "686                            NaN   \n",
       "\n",
       "     actual_audience_size_number_of_participants_online  \n",
       "11                                                 NaN   \n",
       "506                                                NaN   \n",
       "570                                                NaN   \n",
       "686                                                NaN   "
      ]
     },
     "execution_count": 5,
     "metadata": {},
     "output_type": "execute_result"
    }
   ],
   "source": [
    "data[wards.apply(len) != 1]"
   ]
  },
  {
   "cell_type": "markdown",
   "id": "e9c6eddb",
   "metadata": {
    "papermill": {
     "duration": 0.002692,
     "end_time": "2023-07-12T18:28:12.570112",
     "exception": false,
     "start_time": "2023-07-12T18:28:12.567420",
     "status": "completed"
    },
    "tags": []
   },
   "source": [
    "Pick the first ward in the list and create a new column"
   ]
  },
  {
   "cell_type": "code",
   "execution_count": 6,
   "id": "8aa95be9",
   "metadata": {
    "execution": {
     "iopub.execute_input": "2023-07-12T18:28:12.574630Z",
     "iopub.status.busy": "2023-07-12T18:28:12.574498Z",
     "iopub.status.idle": "2023-07-12T18:28:12.599281Z",
     "shell.execute_reply": "2023-07-12T18:28:12.598958Z"
    },
    "papermill": {
     "duration": 0.027693,
     "end_time": "2023-07-12T18:28:12.600051",
     "exception": false,
     "start_time": "2023-07-12T18:28:12.572358",
     "status": "completed"
    },
    "tags": []
   },
   "outputs": [],
   "source": [
    "data['ward_code'] = wards.apply(lambda x: x[0] if len(x) > 0 else np.nan).pipe(util.geo.normalise_leeds_wards).pipe(util.geo.ward_name_to_code)"
   ]
  },
  {
   "cell_type": "markdown",
   "id": "4ecf62cb",
   "metadata": {
    "papermill": {
     "duration": 0.001648,
     "end_time": "2023-07-12T18:28:12.603466",
     "exception": false,
     "start_time": "2023-07-12T18:28:12.601818",
     "status": "completed"
    },
    "tags": []
   },
   "source": [
    "Calculate audience size"
   ]
  },
  {
   "cell_type": "code",
   "execution_count": 7,
   "id": "9d34516a",
   "metadata": {
    "execution": {
     "iopub.execute_input": "2023-07-12T18:28:12.607412Z",
     "iopub.status.busy": "2023-07-12T18:28:12.607173Z",
     "iopub.status.idle": "2023-07-12T18:28:12.609723Z",
     "shell.execute_reply": "2023-07-12T18:28:12.609456Z"
    },
    "papermill": {
     "duration": 0.005317,
     "end_time": "2023-07-12T18:28:12.610456",
     "exception": false,
     "start_time": "2023-07-12T18:28:12.605139",
     "status": "completed"
    },
    "tags": []
   },
   "outputs": [],
   "source": [
    "data['audience_size'] = data.actual_audience_size_number_of_participants_in_person.fillna(0) + data.actual_audience_size_number_of_participants_online.fillna(0)"
   ]
  },
  {
   "cell_type": "markdown",
   "id": "873af77e",
   "metadata": {
    "papermill": {
     "duration": 0.001608,
     "end_time": "2023-07-12T18:28:12.613737",
     "exception": false,
     "start_time": "2023-07-12T18:28:12.612129",
     "status": "completed"
    },
    "tags": []
   },
   "source": [
    "Create output directory"
   ]
  },
  {
   "cell_type": "code",
   "execution_count": 8,
   "id": "355bca28",
   "metadata": {
    "execution": {
     "iopub.execute_input": "2023-07-12T18:28:12.617715Z",
     "iopub.status.busy": "2023-07-12T18:28:12.617486Z",
     "iopub.status.idle": "2023-07-12T18:28:12.619390Z",
     "shell.execute_reply": "2023-07-12T18:28:12.619122Z"
    },
    "papermill": {
     "duration": 0.004525,
     "end_time": "2023-07-12T18:28:12.620018",
     "exception": false,
     "start_time": "2023-07-12T18:28:12.615493",
     "status": "completed"
    },
    "tags": []
   },
   "outputs": [],
   "source": [
    "OUT_DIR = '../../../../docs/metrics/events/my-leeds-2023/_data/events'\n",
    "os.makedirs(OUT_DIR, exist_ok=True)"
   ]
  },
  {
   "cell_type": "markdown",
   "id": "32030ce3",
   "metadata": {
    "papermill": {
     "duration": 0.001625,
     "end_time": "2023-07-12T18:28:12.623303",
     "exception": false,
     "start_time": "2023-07-12T18:28:12.621678",
     "status": "completed"
    },
    "tags": []
   },
   "source": [
    "Create counts of events by ward and save CSV"
   ]
  },
  {
   "cell_type": "code",
   "execution_count": 9,
   "id": "c2d5fe4f",
   "metadata": {
    "execution": {
     "iopub.execute_input": "2023-07-12T18:28:12.627261Z",
     "iopub.status.busy": "2023-07-12T18:28:12.627112Z",
     "iopub.status.idle": "2023-07-12T18:28:12.631230Z",
     "shell.execute_reply": "2023-07-12T18:28:12.630907Z"
    },
    "papermill": {
     "duration": 0.007024,
     "end_time": "2023-07-12T18:28:12.631972",
     "exception": false,
     "start_time": "2023-07-12T18:28:12.624948",
     "status": "completed"
    },
    "tags": []
   },
   "outputs": [],
   "source": [
    "by_ward = pd.DataFrame(\n",
    "  {\n",
    "    'events': data.groupby('ward_code').audience_size.count(),\n",
    "    'audience': data.groupby('ward_code').audience_size.sum(),\n",
    "  }\n",
    ")\n",
    "by_ward.to_csv(os.path.join(OUT_DIR, 'by_ward.csv'))"
   ]
  },
  {
   "cell_type": "markdown",
   "id": "d07e9965",
   "metadata": {
    "papermill": {
     "duration": 0.001639,
     "end_time": "2023-07-12T18:28:12.635378",
     "exception": false,
     "start_time": "2023-07-12T18:28:12.633739",
     "status": "completed"
    },
    "tags": []
   },
   "source": [
    "Create summary by week"
   ]
  },
  {
   "cell_type": "code",
   "execution_count": 10,
   "id": "a14ec827",
   "metadata": {
    "execution": {
     "iopub.execute_input": "2023-07-12T18:28:12.639291Z",
     "iopub.status.busy": "2023-07-12T18:28:12.639056Z",
     "iopub.status.idle": "2023-07-12T18:28:12.645813Z",
     "shell.execute_reply": "2023-07-12T18:28:12.645479Z"
    },
    "papermill": {
     "duration": 0.009588,
     "end_time": "2023-07-12T18:28:12.646615",
     "exception": false,
     "start_time": "2023-07-12T18:28:12.637027",
     "status": "completed"
    },
    "tags": []
   },
   "outputs": [],
   "source": [
    "by_week = pd.DataFrame({\n",
    "  'events': data.groupby('start_date').audience_size.count(),\n",
    "  'audience': data.groupby('start_date').audience_size.sum().astype(int)\n",
    "}).resample('W-FRI').sum()\n",
    "by_week.index.name = 'week_ending'\n",
    "by_week['cumulative_events'] = by_week.events.cumsum()\n",
    "by_week['cumulative_audience'] = by_week.audience.cumsum()\n",
    "by_week.to_csv(os.path.join(OUT_DIR, 'by_week.csv'))"
   ]
  },
  {
   "cell_type": "markdown",
   "id": "5659bd2c",
   "metadata": {
    "papermill": {
     "duration": 0.001653,
     "end_time": "2023-07-12T18:28:12.650065",
     "exception": false,
     "start_time": "2023-07-12T18:28:12.648412",
     "status": "completed"
    },
    "tags": []
   },
   "source": [
    "Create summary by month"
   ]
  },
  {
   "cell_type": "code",
   "execution_count": 11,
   "id": "1cc9045b",
   "metadata": {
    "execution": {
     "iopub.execute_input": "2023-07-12T18:28:12.653854Z",
     "iopub.status.busy": "2023-07-12T18:28:12.653743Z",
     "iopub.status.idle": "2023-07-12T18:28:12.657753Z",
     "shell.execute_reply": "2023-07-12T18:28:12.657431Z"
    },
    "papermill": {
     "duration": 0.006796,
     "end_time": "2023-07-12T18:28:12.658512",
     "exception": false,
     "start_time": "2023-07-12T18:28:12.651716",
     "status": "completed"
    },
    "tags": []
   },
   "outputs": [],
   "source": [
    "by_month = by_week.resample('M').sum()\n",
    "by_month['cumulative_events'] = by_month.events.cumsum()\n",
    "by_month['cumulative_audience'] = by_month.audience.cumsum()\n",
    "by_month.index.name = 'month_ending'\n",
    "by_month.to_csv(os.path.join(OUT_DIR, 'by_month.csv'))"
   ]
  },
  {
   "cell_type": "markdown",
   "id": "38cca7d4",
   "metadata": {
    "papermill": {
     "duration": 0.00183,
     "end_time": "2023-07-12T18:28:12.662088",
     "exception": false,
     "start_time": "2023-07-12T18:28:12.660258",
     "status": "completed"
    },
    "tags": []
   },
   "source": [
    "Create headline counts of events"
   ]
  },
  {
   "cell_type": "code",
   "execution_count": 12,
   "id": "1c956ed8",
   "metadata": {
    "execution": {
     "iopub.execute_input": "2023-07-12T18:28:12.666045Z",
     "iopub.status.busy": "2023-07-12T18:28:12.665831Z",
     "iopub.status.idle": "2023-07-12T18:28:12.668753Z",
     "shell.execute_reply": "2023-07-12T18:28:12.668446Z"
    },
    "papermill": {
     "duration": 0.005712,
     "end_time": "2023-07-12T18:28:12.669480",
     "exception": false,
     "start_time": "2023-07-12T18:28:12.663768",
     "status": "completed"
    },
    "tags": []
   },
   "outputs": [],
   "source": [
    "by_month.drop(\n",
    "    columns=['events', 'audience']\n",
    ").rename(\n",
    "    columns=lambda n: n.replace('cumulative', 'total')\n",
    ").iloc[-1].to_json(os.path.join(OUT_DIR, 'headlines.json'))"
   ]
  }
 ],
 "metadata": {
  "kernelspec": {
   "display_name": "leeds-2023-YZF5GfJv",
   "language": "python",
   "name": "python3"
  },
  "language_info": {
   "codemirror_mode": {
    "name": "ipython",
    "version": 3
   },
   "file_extension": ".py",
   "mimetype": "text/x-python",
   "name": "python",
   "nbconvert_exporter": "python",
   "pygments_lexer": "ipython3",
   "version": "3.10.6"
  },
  "papermill": {
   "default_parameters": {},
   "duration": 1.285068,
   "end_time": "2023-07-12T18:28:12.885577",
   "environment_variables": {},
   "exception": null,
   "input_path": "my-leeds-2023.ipynb",
   "output_path": "../../../../working/output/my-leeds-2023.ipynb",
   "parameters": {},
   "start_time": "2023-07-12T18:28:11.600509",
   "version": "2.4.0"
  }
 },
 "nbformat": 4,
 "nbformat_minor": 5
}