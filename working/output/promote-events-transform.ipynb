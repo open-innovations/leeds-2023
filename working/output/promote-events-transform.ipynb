{
 "cells": [
  {
   "cell_type": "code",
   "execution_count": 1,
   "id": "6882567f",
   "metadata": {
    "execution": {
     "iopub.execute_input": "2023-08-26T23:39:09.550352Z",
     "iopub.status.busy": "2023-08-26T23:39:09.549772Z",
     "iopub.status.idle": "2023-08-26T23:39:09.787122Z",
     "shell.execute_reply": "2023-08-26T23:39:09.786412Z"
    },
    "papermill": {
     "duration": 0.242673,
     "end_time": "2023-08-26T23:39:09.789394",
     "exception": false,
     "start_time": "2023-08-26T23:39:09.546721",
     "status": "completed"
    },
    "tags": []
   },
   "outputs": [],
   "source": [
    "import os\n",
    "import pandas as pd"
   ]
  },
  {
   "cell_type": "code",
   "execution_count": 2,
   "id": "7727cd51",
   "metadata": {
    "execution": {
     "iopub.execute_input": "2023-08-26T23:39:09.793734Z",
     "iopub.status.busy": "2023-08-26T23:39:09.793188Z",
     "iopub.status.idle": "2023-08-26T23:39:09.797693Z",
     "shell.execute_reply": "2023-08-26T23:39:09.797108Z"
    },
    "papermill": {
     "duration": 0.008184,
     "end_time": "2023-08-26T23:39:09.799126",
     "exception": false,
     "start_time": "2023-08-26T23:39:09.790942",
     "status": "completed"
    },
    "tags": []
   },
   "outputs": [],
   "source": [
    "EVENTS_RAW_DATA = '../../../working/metrics/promote-events/events.csv'\n",
    "DATA_DIR = '../../../data/metrics/events/promote-events/'\n",
    "EVENTS_DATA = os.path.join(DATA_DIR, 'events.csv')"
   ]
  },
  {
   "cell_type": "code",
   "execution_count": 3,
   "id": "fb1c69a3",
   "metadata": {
    "execution": {
     "iopub.execute_input": "2023-08-26T23:39:09.802567Z",
     "iopub.status.busy": "2023-08-26T23:39:09.802161Z",
     "iopub.status.idle": "2023-08-26T23:39:09.805440Z",
     "shell.execute_reply": "2023-08-26T23:39:09.804794Z"
    },
    "papermill": {
     "duration": 0.006753,
     "end_time": "2023-08-26T23:39:09.807041",
     "exception": false,
     "start_time": "2023-08-26T23:39:09.800288",
     "status": "completed"
    },
    "tags": []
   },
   "outputs": [],
   "source": [
    "columns = {\n",
    "    'id': 'id',\n",
    "    'name': 'name',\n",
    "    'locationName': 'location',\n",
    "    'cardPrice': 'card_price',\n",
    "    'timeslots': 'time',\n",
    "    # 'displayOnWebsite': 'display',\n",
    "    'Stage': 'stage',\n",
    "}"
   ]
  },
  {
   "cell_type": "code",
   "execution_count": 4,
   "id": "36c10c43",
   "metadata": {
    "execution": {
     "iopub.execute_input": "2023-08-26T23:39:09.810404Z",
     "iopub.status.busy": "2023-08-26T23:39:09.810083Z",
     "iopub.status.idle": "2023-08-26T23:39:09.820112Z",
     "shell.execute_reply": "2023-08-26T23:39:09.819567Z"
    },
    "papermill": {
     "duration": 0.0134,
     "end_time": "2023-08-26T23:39:09.821617",
     "exception": false,
     "start_time": "2023-08-26T23:39:09.808217",
     "status": "completed"
    },
    "tags": []
   },
   "outputs": [],
   "source": [
    "data = pd.read_csv(EVENTS_RAW_DATA)[columns.keys()].rename(columns=columns)\n",
    "data.time = pd.to_datetime(data.time, errors='coerce')"
   ]
  },
  {
   "cell_type": "code",
   "execution_count": 5,
   "id": "e180cb9f",
   "metadata": {
    "execution": {
     "iopub.execute_input": "2023-08-26T23:39:09.825048Z",
     "iopub.status.busy": "2023-08-26T23:39:09.824833Z",
     "iopub.status.idle": "2023-08-26T23:39:09.830036Z",
     "shell.execute_reply": "2023-08-26T23:39:09.829488Z"
    },
    "papermill": {
     "duration": 0.008602,
     "end_time": "2023-08-26T23:39:09.831427",
     "exception": false,
     "start_time": "2023-08-26T23:39:09.822825",
     "status": "completed"
    },
    "tags": []
   },
   "outputs": [],
   "source": [
    "data.to_csv(os.path.join(DATA_DIR, 'events.csv'), index=False)"
   ]
  }
 ],
 "metadata": {
  "kernelspec": {
   "display_name": "leeds-2023-YZF5GfJv",
   "language": "python",
   "name": "python3"
  },
  "language_info": {
   "codemirror_mode": {
    "name": "ipython",
    "version": 3
   },
   "file_extension": ".py",
   "mimetype": "text/x-python",
   "name": "python",
   "nbconvert_exporter": "python",
   "pygments_lexer": "ipython3",
   "version": "3.10.12"
  },
  "papermill": {
   "default_parameters": {},
   "duration": 1.884319,
   "end_time": "2023-08-26T23:39:10.049425",
   "environment_variables": {},
   "exception": null,
   "input_path": "transform.ipynb",
   "output_path": "../../../working/output/promote-events-transform.ipynb",
   "parameters": {},
   "start_time": "2023-08-26T23:39:08.165106",
   "version": "2.4.0"
  }
 },
 "nbformat": 4,
 "nbformat_minor": 5
}