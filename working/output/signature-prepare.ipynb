{
 "cells": [
  {
   "cell_type": "code",
   "execution_count": 1,
   "id": "2b119012",
   "metadata": {
    "execution": {
     "iopub.execute_input": "2023-11-29T23:40:49.703223Z",
     "iopub.status.busy": "2023-11-29T23:40:49.702760Z",
     "iopub.status.idle": "2023-11-29T23:40:56.859590Z",
     "shell.execute_reply": "2023-11-29T23:40:56.858931Z"
    },
    "papermill": {
     "duration": 7.161662,
     "end_time": "2023-11-29T23:40:56.861191",
     "exception": false,
     "start_time": "2023-11-29T23:40:49.699529",
     "status": "completed"
    },
    "tags": []
   },
   "outputs": [],
   "source": [
    "import os\n",
    "import pandas as pd\n",
    "from events import load_event_data, get_first_ward, normalise_ward"
   ]
  },
  {
   "cell_type": "code",
   "execution_count": 2,
   "id": "81a251b5",
   "metadata": {
    "execution": {
     "iopub.execute_input": "2023-11-29T23:40:56.866513Z",
     "iopub.status.busy": "2023-11-29T23:40:56.866105Z",
     "iopub.status.idle": "2023-11-29T23:40:56.869493Z",
     "shell.execute_reply": "2023-11-29T23:40:56.868927Z"
    },
    "papermill": {
     "duration": 0.007414,
     "end_time": "2023-11-29T23:40:56.870809",
     "exception": false,
     "start_time": "2023-11-29T23:40:56.863395",
     "status": "completed"
    },
    "tags": []
   },
   "outputs": [],
   "source": [
    "latest_date = pd.Timestamp.today().ceil('D')"
   ]
  },
  {
   "cell_type": "code",
   "execution_count": 3,
   "id": "27f4efc4",
   "metadata": {
    "execution": {
     "iopub.execute_input": "2023-11-29T23:40:56.875734Z",
     "iopub.status.busy": "2023-11-29T23:40:56.875378Z",
     "iopub.status.idle": "2023-11-29T23:40:56.889477Z",
     "shell.execute_reply": "2023-11-29T23:40:56.888980Z"
    },
    "papermill": {
     "duration": 0.018002,
     "end_time": "2023-11-29T23:40:56.890816",
     "exception": false,
     "start_time": "2023-11-29T23:40:56.872814",
     "status": "completed"
    },
    "tags": []
   },
   "outputs": [],
   "source": [
    "tickets = pd.read_csv('../../../../data/metrics/events/tickets/orders.csv', parse_dates=['created_at', 'event_date'])\n",
    "tickets = tickets[tickets.event_date <= latest_date]"
   ]
  },
  {
   "cell_type": "code",
   "execution_count": 4,
   "id": "bff6f1cb",
   "metadata": {
    "execution": {
     "iopub.execute_input": "2023-11-29T23:40:56.895505Z",
     "iopub.status.busy": "2023-11-29T23:40:56.895214Z",
     "iopub.status.idle": "2023-11-29T23:40:56.944283Z",
     "shell.execute_reply": "2023-11-29T23:40:56.943707Z"
    },
    "papermill": {
     "duration": 0.052917,
     "end_time": "2023-11-29T23:40:56.945575",
     "exception": false,
     "start_time": "2023-11-29T23:40:56.892658",
     "status": "completed"
    },
    "tags": []
   },
   "outputs": [],
   "source": [
    "events = load_event_data()\n",
    "\n",
    "events = pd.concat([\n",
    "  events,\n",
    "  events.pipe(get_first_ward).pipe(normalise_ward).fillna('UNKNOWN'),\n",
    "  pd.Series(\n",
    "      events.actual_audience_size_number_of_participants_in_person + events.actual_audience_size_number_of_participants_online,\n",
    "      name='attendances'\n",
    "  )\n",
    "], axis=1).rename(columns={\n",
    "    'start_date': 'date'\n",
    "}).loc[:, ['ward_code', 'date', 'event_unique_identifier', 'attendances']]"
   ]
  },
  {
   "cell_type": "code",
   "execution_count": 5,
   "id": "36cf9495",
   "metadata": {
    "execution": {
     "iopub.execute_input": "2023-11-29T23:40:56.950378Z",
     "iopub.status.busy": "2023-11-29T23:40:56.950050Z",
     "iopub.status.idle": "2023-11-29T23:40:56.953193Z",
     "shell.execute_reply": "2023-11-29T23:40:56.952563Z"
    },
    "papermill": {
     "duration": 0.006952,
     "end_time": "2023-11-29T23:40:56.954449",
     "exception": false,
     "start_time": "2023-11-29T23:40:56.947497",
     "status": "completed"
    },
    "tags": []
   },
   "outputs": [],
   "source": [
    "OUTPUT_DIR='../../../../docs/metrics/events/signature/_data/'\n",
    "os.makedirs(OUTPUT_DIR, exist_ok=True)"
   ]
  },
  {
   "cell_type": "markdown",
   "id": "8880c495",
   "metadata": {
    "papermill": {
     "duration": 0.00199,
     "end_time": "2023-11-29T23:40:56.958332",
     "exception": false,
     "start_time": "2023-11-29T23:40:56.956342",
     "status": "completed"
    },
    "tags": []
   },
   "source": [
    "Events CSVs"
   ]
  },
  {
   "cell_type": "code",
   "execution_count": 6,
   "id": "969488fd",
   "metadata": {
    "execution": {
     "iopub.execute_input": "2023-11-29T23:40:56.963308Z",
     "iopub.status.busy": "2023-11-29T23:40:56.962754Z",
     "iopub.status.idle": "2023-11-29T23:40:56.968410Z",
     "shell.execute_reply": "2023-11-29T23:40:56.967916Z"
    },
    "papermill": {
     "duration": 0.009383,
     "end_time": "2023-11-29T23:40:56.969621",
     "exception": false,
     "start_time": "2023-11-29T23:40:56.960238",
     "status": "completed"
    },
    "tags": []
   },
   "outputs": [],
   "source": [
    "pd.DataFrame({\n",
    "  'events': events.groupby('ward_code').event_unique_identifier.count(),\n",
    "  'attendances': events.groupby('ward_code').attendances.sum().astype(int),\n",
    "}).to_csv(os.path.join(OUTPUT_DIR, 'events_by_ward.csv'))\n"
   ]
  },
  {
   "cell_type": "code",
   "execution_count": 7,
   "id": "ab80fce2",
   "metadata": {
    "execution": {
     "iopub.execute_input": "2023-11-29T23:40:56.974711Z",
     "iopub.status.busy": "2023-11-29T23:40:56.974338Z",
     "iopub.status.idle": "2023-11-29T23:40:56.981917Z",
     "shell.execute_reply": "2023-11-29T23:40:56.981270Z"
    },
    "papermill": {
     "duration": 0.011585,
     "end_time": "2023-11-29T23:40:56.983270",
     "exception": false,
     "start_time": "2023-11-29T23:40:56.971685",
     "status": "completed"
    },
    "tags": []
   },
   "outputs": [],
   "source": [
    "pd.DataFrame({\n",
    "  'events': events.groupby('date').event_unique_identifier.count(),\n",
    "  'attendances': events.groupby('date').attendances.sum().astype(int),\n",
    "}).resample('M').sum().astype(int).to_csv(os.path.join(OUTPUT_DIR, 'events_by_date.csv'))"
   ]
  },
  {
   "cell_type": "markdown",
   "id": "d3ae4ebe",
   "metadata": {
    "papermill": {
     "duration": 0.002683,
     "end_time": "2023-11-29T23:40:56.987904",
     "exception": false,
     "start_time": "2023-11-29T23:40:56.985221",
     "status": "completed"
    },
    "tags": []
   },
   "source": [
    "Tickets CSV"
   ]
  },
  {
   "cell_type": "code",
   "execution_count": 8,
   "id": "4c837065",
   "metadata": {
    "execution": {
     "iopub.execute_input": "2023-11-29T23:40:56.992879Z",
     "iopub.status.busy": "2023-11-29T23:40:56.992510Z",
     "iopub.status.idle": "2023-11-29T23:40:56.998434Z",
     "shell.execute_reply": "2023-11-29T23:40:56.997813Z"
    },
    "papermill": {
     "duration": 0.009812,
     "end_time": "2023-11-29T23:40:56.999712",
     "exception": false,
     "start_time": "2023-11-29T23:40:56.989900",
     "status": "completed"
    },
    "tags": []
   },
   "outputs": [],
   "source": [
    "pd.DataFrame({\n",
    "  'orders': tickets.groupby('ward_code').number_of_tickets.count(),\n",
    "  'tickets': tickets.groupby('ward_code').number_of_tickets.sum().astype(int),\n",
    "}).to_csv(os.path.join(OUTPUT_DIR, 'tickets_by_ward.csv'))"
   ]
  },
  {
   "cell_type": "code",
   "execution_count": 9,
   "id": "2606e544",
   "metadata": {
    "execution": {
     "iopub.execute_input": "2023-11-29T23:40:57.004737Z",
     "iopub.status.busy": "2023-11-29T23:40:57.004423Z",
     "iopub.status.idle": "2023-11-29T23:40:57.011244Z",
     "shell.execute_reply": "2023-11-29T23:40:57.010745Z"
    },
    "papermill": {
     "duration": 0.010789,
     "end_time": "2023-11-29T23:40:57.012473",
     "exception": false,
     "start_time": "2023-11-29T23:40:57.001684",
     "status": "completed"
    },
    "tags": []
   },
   "outputs": [],
   "source": [
    "pd.DataFrame({\n",
    "  'orders': tickets.groupby('event_date').number_of_tickets.count(),\n",
    "  'tickets': tickets.groupby('event_date').number_of_tickets.sum().astype(int),\n",
    "}).resample('M').sum().to_csv(os.path.join(OUTPUT_DIR, 'tickets_by_event_date.csv'))"
   ]
  },
  {
   "cell_type": "code",
   "execution_count": 10,
   "id": "8a900fff",
   "metadata": {
    "execution": {
     "iopub.execute_input": "2023-11-29T23:40:57.017705Z",
     "iopub.status.busy": "2023-11-29T23:40:57.017185Z",
     "iopub.status.idle": "2023-11-29T23:40:57.022182Z",
     "shell.execute_reply": "2023-11-29T23:40:57.021624Z"
    },
    "papermill": {
     "duration": 0.008958,
     "end_time": "2023-11-29T23:40:57.023464",
     "exception": false,
     "start_time": "2023-11-29T23:40:57.014506",
     "status": "completed"
    },
    "tags": []
   },
   "outputs": [],
   "source": [
    "pd.Series({\n",
    "    'total_events': events.event_unique_identifier.count(),\n",
    "    'total_attendances': events.attendances.count(),\n",
    "    'first_event': events.date.min(),\n",
    "    'latest_event': events.date.max(),\n",
    "    'total_ticket_orders_for_events_to_date': tickets.number_of_tickets.count(),\n",
    "    'total_tickets_sold_for_events_to_date': tickets.number_of_tickets.sum(),\n",
    "}).to_json(os.path.join(OUTPUT_DIR, 'headlines.json'), indent=2)"
   ]
  },
  {
   "cell_type": "code",
   "execution_count": null,
   "id": "9dddcfe7",
   "metadata": {
    "papermill": {
     "duration": 0.002006,
     "end_time": "2023-11-29T23:40:57.027510",
     "exception": false,
     "start_time": "2023-11-29T23:40:57.025504",
     "status": "completed"
    },
    "tags": []
   },
   "outputs": [],
   "source": []
  }
 ],
 "metadata": {
  "kernelspec": {
   "display_name": "leeds-2023-YZF5GfJv",
   "language": "python",
   "name": "python3"
  },
  "language_info": {
   "codemirror_mode": {
    "name": "ipython",
    "version": 3
   },
   "file_extension": ".py",
   "mimetype": "text/x-python",
   "name": "python",
   "nbconvert_exporter": "python",
   "pygments_lexer": "ipython3",
   "version": "3.10.13"
  },
  "papermill": {
   "default_parameters": {},
   "duration": 8.801944,
   "end_time": "2023-11-29T23:40:57.245013",
   "environment_variables": {},
   "exception": null,
   "input_path": "prepare.ipynb",
   "output_path": "../../../../working/output/signature-prepare.ipynb",
   "parameters": {},
   "start_time": "2023-11-29T23:40:48.443069",
   "version": "2.4.0"
  }
 },
 "nbformat": 4,
 "nbformat_minor": 5
}