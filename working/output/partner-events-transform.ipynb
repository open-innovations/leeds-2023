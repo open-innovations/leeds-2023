{
 "cells": [
  {
   "cell_type": "code",
   "execution_count": 1,
   "id": "c9041181",
   "metadata": {
    "execution": {
     "iopub.execute_input": "2023-10-09T23:37:33.396663Z",
     "iopub.status.busy": "2023-10-09T23:37:33.395971Z",
     "iopub.status.idle": "2023-10-09T23:37:33.649044Z",
     "shell.execute_reply": "2023-10-09T23:37:33.648341Z"
    },
    "papermill": {
     "duration": 0.259102,
     "end_time": "2023-10-09T23:37:33.650855",
     "exception": false,
     "start_time": "2023-10-09T23:37:33.391753",
     "status": "completed"
    },
    "tags": []
   },
   "outputs": [],
   "source": [
    "import os\n",
    "import sys\n",
    "import pandas as pd\n",
    "lib_dir = os.path.realpath('../../../lib/')\n",
    "if lib_dir not in sys.path: sys.path.append(lib_dir)"
   ]
  },
  {
   "cell_type": "code",
   "execution_count": 2,
   "id": "7002361d",
   "metadata": {
    "execution": {
     "iopub.execute_input": "2023-10-09T23:37:33.658010Z",
     "iopub.status.busy": "2023-10-09T23:37:33.657340Z",
     "iopub.status.idle": "2023-10-09T23:37:43.411930Z",
     "shell.execute_reply": "2023-10-09T23:37:43.411262Z"
    },
    "papermill": {
     "duration": 9.759856,
     "end_time": "2023-10-09T23:37:43.413697",
     "exception": false,
     "start_time": "2023-10-09T23:37:33.653841",
     "status": "completed"
    },
    "tags": []
   },
   "outputs": [],
   "source": [
    "import util.geo"
   ]
  },
  {
   "cell_type": "code",
   "execution_count": 3,
   "id": "7dbe4c8d",
   "metadata": {
    "execution": {
     "iopub.execute_input": "2023-10-09T23:37:43.420918Z",
     "iopub.status.busy": "2023-10-09T23:37:43.420463Z",
     "iopub.status.idle": "2023-10-09T23:37:43.424438Z",
     "shell.execute_reply": "2023-10-09T23:37:43.423785Z"
    },
    "papermill": {
     "duration": 0.009277,
     "end_time": "2023-10-09T23:37:43.425939",
     "exception": false,
     "start_time": "2023-10-09T23:37:43.416662",
     "status": "completed"
    },
    "tags": []
   },
   "outputs": [],
   "source": [
    "EVENTS_RAW_DATA = '../../../working/metrics/partner-events/events.csv'\n",
    "DATA_DIR = '../../../data/metrics/events/partner-events/'\n",
    "EVENTS_DATA = os.path.join(DATA_DIR, 'events.csv')"
   ]
  },
  {
   "cell_type": "code",
   "execution_count": 4,
   "id": "4d47aa87",
   "metadata": {
    "execution": {
     "iopub.execute_input": "2023-10-09T23:37:43.432636Z",
     "iopub.status.busy": "2023-10-09T23:37:43.432227Z",
     "iopub.status.idle": "2023-10-09T23:37:43.435707Z",
     "shell.execute_reply": "2023-10-09T23:37:43.435101Z"
    },
    "papermill": {
     "duration": 0.008269,
     "end_time": "2023-10-09T23:37:43.437170",
     "exception": false,
     "start_time": "2023-10-09T23:37:43.428901",
     "status": "completed"
    },
    "tags": []
   },
   "outputs": [],
   "source": [
    "columns = {\n",
    "    'Event Name': 'name',\n",
    "    'Event Start Date': 'start_date',\n",
    "    'Event End Date': 'end_date',\n",
    "    'Partner/Promote': 'partner_promote',\n",
    "    'Stage': 'stage',\n",
    "    'Live date': 'live_date',\n",
    "    'Venue postcode': 'postcode',\n",
    "    'Pricing Policy': 'pricing',\n",
    "    'Venue - including address': 'venue',\n",
    "    'Is this event on Leeds Inspried?': 'on_leeds_inspired',\n",
    "}"
   ]
  },
  {
   "cell_type": "markdown",
   "id": "8977a9b3",
   "metadata": {
    "papermill": {
     "duration": 0.002641,
     "end_time": "2023-10-09T23:37:43.442420",
     "exception": false,
     "start_time": "2023-10-09T23:37:43.439779",
     "status": "completed"
    },
    "tags": []
   },
   "source": [
    "Load the data and rename columns. Parse the dates to dates."
   ]
  },
  {
   "cell_type": "code",
   "execution_count": 5,
   "id": "5f35b97a",
   "metadata": {
    "execution": {
     "iopub.execute_input": "2023-10-09T23:37:43.448800Z",
     "iopub.status.busy": "2023-10-09T23:37:43.448264Z",
     "iopub.status.idle": "2023-10-09T23:37:43.460724Z",
     "shell.execute_reply": "2023-10-09T23:37:43.459774Z"
    },
    "papermill": {
     "duration": 0.017134,
     "end_time": "2023-10-09T23:37:43.462141",
     "exception": false,
     "start_time": "2023-10-09T23:37:43.445007",
     "status": "completed"
    },
    "tags": []
   },
   "outputs": [],
   "source": [
    "data = pd.read_csv(EVENTS_RAW_DATA)[columns.keys()].rename(columns=columns)\n",
    "data.start_date = pd.to_datetime(data.start_date, errors='coerce')\n",
    "data.end_date = pd.to_datetime(data.end_date, errors='coerce')"
   ]
  },
  {
   "cell_type": "markdown",
   "id": "def5c215",
   "metadata": {
    "papermill": {
     "duration": 0.002616,
     "end_time": "2023-10-09T23:37:43.467449",
     "exception": false,
     "start_time": "2023-10-09T23:37:43.464833",
     "status": "completed"
    },
    "tags": []
   },
   "source": [
    "Filter data by not LI Pull through and start date before now"
   ]
  },
  {
   "cell_type": "code",
   "execution_count": 6,
   "id": "a5b2a677",
   "metadata": {
    "execution": {
     "iopub.execute_input": "2023-10-09T23:37:43.473891Z",
     "iopub.status.busy": "2023-10-09T23:37:43.473458Z",
     "iopub.status.idle": "2023-10-09T23:37:43.479364Z",
     "shell.execute_reply": "2023-10-09T23:37:43.478765Z"
    },
    "papermill": {
     "duration": 0.010836,
     "end_time": "2023-10-09T23:37:43.480951",
     "exception": false,
     "start_time": "2023-10-09T23:37:43.470115",
     "status": "completed"
    },
    "tags": []
   },
   "outputs": [],
   "source": [
    "data = data[\n",
    "    # (data.live_date == 'This event is live ') &\n",
    "    ((data.stage != 'LI pull through') & data.stage.notna()) &\n",
    "    (data.start_date < pd.Timestamp.now())\n",
    "]"
   ]
  },
  {
   "cell_type": "code",
   "execution_count": 7,
   "id": "f10d5476",
   "metadata": {
    "execution": {
     "iopub.execute_input": "2023-10-09T23:37:43.487485Z",
     "iopub.status.busy": "2023-10-09T23:37:43.487064Z",
     "iopub.status.idle": "2023-10-09T23:37:44.432666Z",
     "shell.execute_reply": "2023-10-09T23:37:44.432009Z"
    },
    "papermill": {
     "duration": 0.950726,
     "end_time": "2023-10-09T23:37:44.434374",
     "exception": false,
     "start_time": "2023-10-09T23:37:43.483648",
     "status": "completed"
    },
    "tags": []
   },
   "outputs": [],
   "source": [
    "data['ward_code'] = data.postcode.pipe(util.geo.postcode_formatter).map(util.geo.postcode_to_ward_code)\n",
    "data['ward_name'] = data.ward_code.pipe(util.geo.ward_code_to_name)"
   ]
  },
  {
   "cell_type": "markdown",
   "id": "c898e23b",
   "metadata": {
    "papermill": {
     "duration": 0.003555,
     "end_time": "2023-10-09T23:37:44.441419",
     "exception": false,
     "start_time": "2023-10-09T23:37:44.437864",
     "status": "completed"
    },
    "tags": []
   },
   "source": [
    "Save the file"
   ]
  },
  {
   "cell_type": "code",
   "execution_count": 8,
   "id": "ddd31524",
   "metadata": {
    "execution": {
     "iopub.execute_input": "2023-10-09T23:37:44.448208Z",
     "iopub.status.busy": "2023-10-09T23:37:44.447730Z",
     "iopub.status.idle": "2023-10-09T23:37:44.454275Z",
     "shell.execute_reply": "2023-10-09T23:37:44.453695Z"
    },
    "papermill": {
     "duration": 0.011617,
     "end_time": "2023-10-09T23:37:44.455779",
     "exception": false,
     "start_time": "2023-10-09T23:37:44.444162",
     "status": "completed"
    },
    "tags": []
   },
   "outputs": [],
   "source": [
    "data[\n",
    "    ['name','start_date','end_date','ward_code']\n",
    "].to_csv(EVENTS_DATA, index=False)"
   ]
  },
  {
   "cell_type": "markdown",
   "id": "02f10d3e",
   "metadata": {
    "papermill": {
     "duration": 0.002708,
     "end_time": "2023-10-09T23:37:44.461249",
     "exception": false,
     "start_time": "2023-10-09T23:37:44.458541",
     "status": "completed"
    },
    "tags": []
   },
   "source": [
    "Print out missing postcode data"
   ]
  },
  {
   "cell_type": "code",
   "execution_count": 9,
   "id": "e3af49dc",
   "metadata": {
    "execution": {
     "iopub.execute_input": "2023-10-09T23:37:44.467785Z",
     "iopub.status.busy": "2023-10-09T23:37:44.467558Z",
     "iopub.status.idle": "2023-10-09T23:37:44.480638Z",
     "shell.execute_reply": "2023-10-09T23:37:44.480138Z"
    },
    "papermill": {
     "duration": 0.017949,
     "end_time": "2023-10-09T23:37:44.482016",
     "exception": false,
     "start_time": "2023-10-09T23:37:44.464067",
     "status": "completed"
    },
    "tags": []
   },
   "outputs": [
    {
     "data": {
      "text/html": [
       "<div>\n",
       "<style scoped>\n",
       "    .dataframe tbody tr th:only-of-type {\n",
       "        vertical-align: middle;\n",
       "    }\n",
       "\n",
       "    .dataframe tbody tr th {\n",
       "        vertical-align: top;\n",
       "    }\n",
       "\n",
       "    .dataframe thead th {\n",
       "        text-align: right;\n",
       "    }\n",
       "</style>\n",
       "<table border=\"1\" class=\"dataframe\">\n",
       "  <thead>\n",
       "    <tr style=\"text-align: right;\">\n",
       "      <th></th>\n",
       "      <th>name</th>\n",
       "      <th>start_date</th>\n",
       "    </tr>\n",
       "  </thead>\n",
       "  <tbody>\n",
       "    <tr>\n",
       "      <th>1</th>\n",
       "      <td>East Street Arts, A City Less Grey 2022</td>\n",
       "      <td>2022-10-08</td>\n",
       "    </tr>\n",
       "    <tr>\n",
       "      <th>3</th>\n",
       "      <td>Phoenix Dance Theatre Virtual Gallery</td>\n",
       "      <td>2023-01-01</td>\n",
       "    </tr>\n",
       "    <tr>\n",
       "      <th>4</th>\n",
       "      <td>The Big Art Giveaway, School of Creative Arts ...</td>\n",
       "      <td>2023-01-01</td>\n",
       "    </tr>\n",
       "    <tr>\n",
       "      <th>5</th>\n",
       "      <td>Embassy of Netherlands, Meet Leeds Lab</td>\n",
       "      <td>2023-01-16</td>\n",
       "    </tr>\n",
       "    <tr>\n",
       "      <th>6</th>\n",
       "      <td>Shifting Borders: A Journey to the Centre of o...</td>\n",
       "      <td>2023-01-24</td>\n",
       "    </tr>\n",
       "    <tr>\n",
       "      <th>...</th>\n",
       "      <td>...</td>\n",
       "      <td>...</td>\n",
       "    </tr>\n",
       "    <tr>\n",
       "      <th>195</th>\n",
       "      <td>Jazz at HEART: Sam Newbould Quintet (UK tour)</td>\n",
       "      <td>2023-09-20</td>\n",
       "    </tr>\n",
       "    <tr>\n",
       "      <th>196</th>\n",
       "      <td>On Wednesdays We Wear Queer: Drag Night Extrav...</td>\n",
       "      <td>2023-09-20</td>\n",
       "    </tr>\n",
       "    <tr>\n",
       "      <th>205</th>\n",
       "      <td>Neville Street Artwork</td>\n",
       "      <td>2023-10-01</td>\n",
       "    </tr>\n",
       "    <tr>\n",
       "      <th>210</th>\n",
       "      <td>Fathom - Goat Monkey</td>\n",
       "      <td>2023-10-09</td>\n",
       "    </tr>\n",
       "    <tr>\n",
       "      <th>211</th>\n",
       "      <td>Re-imagining Home: Teacher CPD Session</td>\n",
       "      <td>2023-10-09</td>\n",
       "    </tr>\n",
       "  </tbody>\n",
       "</table>\n",
       "<p>65 rows × 2 columns</p>\n",
       "</div>"
      ],
      "text/plain": [
       "                                                  name start_date\n",
       "1              East Street Arts, A City Less Grey 2022 2022-10-08\n",
       "3                Phoenix Dance Theatre Virtual Gallery 2023-01-01\n",
       "4    The Big Art Giveaway, School of Creative Arts ... 2023-01-01\n",
       "5               Embassy of Netherlands, Meet Leeds Lab 2023-01-16\n",
       "6    Shifting Borders: A Journey to the Centre of o... 2023-01-24\n",
       "..                                                 ...        ...\n",
       "195      Jazz at HEART: Sam Newbould Quintet (UK tour) 2023-09-20\n",
       "196  On Wednesdays We Wear Queer: Drag Night Extrav... 2023-09-20\n",
       "205                             Neville Street Artwork 2023-10-01\n",
       "210                               Fathom - Goat Monkey 2023-10-09\n",
       "211             Re-imagining Home: Teacher CPD Session 2023-10-09\n",
       "\n",
       "[65 rows x 2 columns]"
      ]
     },
     "execution_count": 9,
     "metadata": {},
     "output_type": "execute_result"
    }
   ],
   "source": [
    "data[data.postcode.isna()][[\n",
    "    'name', 'start_date'\n",
    "]]"
   ]
  },
  {
   "cell_type": "markdown",
   "id": "df805b29",
   "metadata": {
    "papermill": {
     "duration": 0.00296,
     "end_time": "2023-10-09T23:37:44.488059",
     "exception": false,
     "start_time": "2023-10-09T23:37:44.485099",
     "status": "completed"
    },
    "tags": []
   },
   "source": [
    "Plot the pricing"
   ]
  },
  {
   "cell_type": "code",
   "execution_count": 10,
   "id": "e6f9cb88",
   "metadata": {
    "execution": {
     "iopub.execute_input": "2023-10-09T23:37:44.495217Z",
     "iopub.status.busy": "2023-10-09T23:37:44.494973Z",
     "iopub.status.idle": "2023-10-09T23:37:45.000026Z",
     "shell.execute_reply": "2023-10-09T23:37:44.999396Z"
    },
    "papermill": {
     "duration": 0.510562,
     "end_time": "2023-10-09T23:37:45.001716",
     "exception": false,
     "start_time": "2023-10-09T23:37:44.491154",
     "status": "completed"
    },
    "tags": []
   },
   "outputs": [
    {
     "data": {
      "image/png": "[encoded data removed]",
      "text/plain": [
       "<Figure size 640x480 with 1 Axes>"
      ]
     },
     "metadata": {},
     "output_type": "display_data"
    }
   ],
   "source": [
    "# .groupby('pricing').count().plot.barh()\n",
    "pricing = data.pricing.fillna('Unspecified').str.replace('[\\[\\'\\]]', '', regex=True).to_frame().reset_index().groupby('pricing').count()\n",
    "\n",
    "pricing.columns = ['count']\n",
    "plot = pricing.plot.barh()\n"
   ]
  },
  {
   "cell_type": "code",
   "execution_count": null,
   "id": "de9948a5",
   "metadata": {
    "papermill": {
     "duration": 0.003449,
     "end_time": "2023-10-09T23:37:45.008827",
     "exception": false,
     "start_time": "2023-10-09T23:37:45.005378",
     "status": "completed"
    },
    "tags": []
   },
   "outputs": [],
   "source": []
  }
 ],
 "metadata": {
  "kernelspec": {
   "display_name": "leeds-2023-YZF5GfJv",
   "language": "python",
   "name": "python3"
  },
  "language_info": {
   "codemirror_mode": {
    "name": "ipython",
    "version": 3
   },
   "file_extension": ".py",
   "mimetype": "text/x-python",
   "name": "python",
   "nbconvert_exporter": "python",
   "pygments_lexer": "ipython3",
   "version": "3.10.13"
  },
  "papermill": {
   "default_parameters": {},
   "duration": 13.286302,
   "end_time": "2023-10-09T23:37:45.330443",
   "environment_variables": {},
   "exception": null,
   "input_path": "transform.ipynb",
   "output_path": "../../../working/output/partner-events-transform.ipynb",
   "parameters": {},
   "start_time": "2023-10-09T23:37:32.044141",
   "version": "2.4.0"
  }
 },
 "nbformat": 4,
 "nbformat_minor": 5
}