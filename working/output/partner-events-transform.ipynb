{
 "cells": [
  {
   "cell_type": "code",
   "execution_count": 1,
   "id": "3e68b5b0",
   "metadata": {
    "execution": {
     "iopub.execute_input": "2023-10-01T23:37:37.019953Z",
     "iopub.status.busy": "2023-10-01T23:37:37.019194Z",
     "iopub.status.idle": "2023-10-01T23:37:37.285666Z",
     "shell.execute_reply": "2023-10-01T23:37:37.284915Z"
    },
    "papermill": {
     "duration": 0.273958,
     "end_time": "2023-10-01T23:37:37.288113",
     "exception": false,
     "start_time": "2023-10-01T23:37:37.014155",
     "status": "completed"
    },
    "tags": []
   },
   "outputs": [],
   "source": [
    "import os\n",
    "import sys\n",
    "import pandas as pd\n",
    "lib_dir = os.path.realpath('../../../lib/')\n",
    "if lib_dir not in sys.path: sys.path.append(lib_dir)"
   ]
  },
  {
   "cell_type": "code",
   "execution_count": 2,
   "id": "500bec0d",
   "metadata": {
    "execution": {
     "iopub.execute_input": "2023-10-01T23:37:37.295428Z",
     "iopub.status.busy": "2023-10-01T23:37:37.294915Z",
     "iopub.status.idle": "2023-10-01T23:37:47.590149Z",
     "shell.execute_reply": "2023-10-01T23:37:47.588932Z"
    },
    "papermill": {
     "duration": 10.300808,
     "end_time": "2023-10-01T23:37:47.592033",
     "exception": false,
     "start_time": "2023-10-01T23:37:37.291225",
     "status": "completed"
    },
    "tags": []
   },
   "outputs": [],
   "source": [
    "import util.geo"
   ]
  },
  {
   "cell_type": "code",
   "execution_count": 3,
   "id": "3b511262",
   "metadata": {
    "execution": {
     "iopub.execute_input": "2023-10-01T23:37:47.599700Z",
     "iopub.status.busy": "2023-10-01T23:37:47.599072Z",
     "iopub.status.idle": "2023-10-01T23:37:47.603344Z",
     "shell.execute_reply": "2023-10-01T23:37:47.602732Z"
    },
    "papermill": {
     "duration": 0.009781,
     "end_time": "2023-10-01T23:37:47.604874",
     "exception": false,
     "start_time": "2023-10-01T23:37:47.595093",
     "status": "completed"
    },
    "tags": []
   },
   "outputs": [],
   "source": [
    "EVENTS_RAW_DATA = '../../../working/metrics/partner-events/events.csv'\n",
    "DATA_DIR = '../../../data/metrics/events/partner-events/'\n",
    "EVENTS_DATA = os.path.join(DATA_DIR, 'events.csv')"
   ]
  },
  {
   "cell_type": "code",
   "execution_count": 4,
   "id": "c0a0ff24",
   "metadata": {
    "execution": {
     "iopub.execute_input": "2023-10-01T23:37:47.611578Z",
     "iopub.status.busy": "2023-10-01T23:37:47.611029Z",
     "iopub.status.idle": "2023-10-01T23:37:47.615827Z",
     "shell.execute_reply": "2023-10-01T23:37:47.615223Z"
    },
    "papermill": {
     "duration": 0.009758,
     "end_time": "2023-10-01T23:37:47.617288",
     "exception": false,
     "start_time": "2023-10-01T23:37:47.607530",
     "status": "completed"
    },
    "tags": []
   },
   "outputs": [],
   "source": [
    "columns = {\n",
    "    'Event Name': 'name',\n",
    "    'Event Start Date': 'start_date',\n",
    "    'Event End Date': 'end_date',\n",
    "    'Partner/Promote': 'partner_promote',\n",
    "    'Stage': 'stage',\n",
    "    'Live date': 'live_date',\n",
    "    'Venue postcode': 'postcode',\n",
    "    'Pricing Policy': 'pricing',\n",
    "    'Venue - including address': 'venue',\n",
    "    'Is this event on Leeds Inspried?': 'on_leeds_inspired',\n",
    "}"
   ]
  },
  {
   "cell_type": "markdown",
   "id": "29c97dd6",
   "metadata": {
    "papermill": {
     "duration": 0.002738,
     "end_time": "2023-10-01T23:37:47.622654",
     "exception": false,
     "start_time": "2023-10-01T23:37:47.619916",
     "status": "completed"
    },
    "tags": []
   },
   "source": [
    "Load the data and rename columns. Parse the dates to dates."
   ]
  },
  {
   "cell_type": "code",
   "execution_count": 5,
   "id": "629a354c",
   "metadata": {
    "execution": {
     "iopub.execute_input": "2023-10-01T23:37:47.629552Z",
     "iopub.status.busy": "2023-10-01T23:37:47.628960Z",
     "iopub.status.idle": "2023-10-01T23:37:47.642318Z",
     "shell.execute_reply": "2023-10-01T23:37:47.641721Z"
    },
    "papermill": {
     "duration": 0.018544,
     "end_time": "2023-10-01T23:37:47.643889",
     "exception": false,
     "start_time": "2023-10-01T23:37:47.625345",
     "status": "completed"
    },
    "tags": []
   },
   "outputs": [],
   "source": [
    "data = pd.read_csv(EVENTS_RAW_DATA)[columns.keys()].rename(columns=columns)\n",
    "data.start_date = pd.to_datetime(data.start_date, errors='coerce')\n",
    "data.end_date = pd.to_datetime(data.end_date, errors='coerce')"
   ]
  },
  {
   "cell_type": "markdown",
   "id": "379dae72",
   "metadata": {
    "papermill": {
     "duration": 0.002686,
     "end_time": "2023-10-01T23:37:47.649287",
     "exception": false,
     "start_time": "2023-10-01T23:37:47.646601",
     "status": "completed"
    },
    "tags": []
   },
   "source": [
    "Filter data by not LI Pull through and start date before now"
   ]
  },
  {
   "cell_type": "code",
   "execution_count": 6,
   "id": "5e7655d4",
   "metadata": {
    "execution": {
     "iopub.execute_input": "2023-10-01T23:37:47.656050Z",
     "iopub.status.busy": "2023-10-01T23:37:47.655622Z",
     "iopub.status.idle": "2023-10-01T23:37:47.661734Z",
     "shell.execute_reply": "2023-10-01T23:37:47.661138Z"
    },
    "papermill": {
     "duration": 0.011256,
     "end_time": "2023-10-01T23:37:47.663315",
     "exception": false,
     "start_time": "2023-10-01T23:37:47.652059",
     "status": "completed"
    },
    "tags": []
   },
   "outputs": [],
   "source": [
    "data = data[\n",
    "    # (data.live_date == 'This event is live ') &\n",
    "    ((data.stage != 'LI pull through') & data.stage.notna()) &\n",
    "    (data.start_date < pd.Timestamp.now())\n",
    "]"
   ]
  },
  {
   "cell_type": "code",
   "execution_count": 7,
   "id": "950f346c",
   "metadata": {
    "execution": {
     "iopub.execute_input": "2023-10-01T23:37:47.670001Z",
     "iopub.status.busy": "2023-10-01T23:37:47.669581Z",
     "iopub.status.idle": "2023-10-01T23:37:48.856624Z",
     "shell.execute_reply": "2023-10-01T23:37:48.855878Z"
    },
    "papermill": {
     "duration": 1.192609,
     "end_time": "2023-10-01T23:37:48.858663",
     "exception": false,
     "start_time": "2023-10-01T23:37:47.666054",
     "status": "completed"
    },
    "tags": []
   },
   "outputs": [],
   "source": [
    "data['ward_code'] = data.postcode.pipe(util.geo.postcode_formatter).map(util.geo.postcode_to_ward_code)\n",
    "data['ward_name'] = data.ward_code.pipe(util.geo.ward_code_to_name)"
   ]
  },
  {
   "cell_type": "markdown",
   "id": "94e386db",
   "metadata": {
    "papermill": {
     "duration": 0.003842,
     "end_time": "2023-10-01T23:37:48.866523",
     "exception": false,
     "start_time": "2023-10-01T23:37:48.862681",
     "status": "completed"
    },
    "tags": []
   },
   "source": [
    "Save the file"
   ]
  },
  {
   "cell_type": "code",
   "execution_count": 8,
   "id": "def52d32",
   "metadata": {
    "execution": {
     "iopub.execute_input": "2023-10-01T23:37:48.873760Z",
     "iopub.status.busy": "2023-10-01T23:37:48.873131Z",
     "iopub.status.idle": "2023-10-01T23:37:48.880034Z",
     "shell.execute_reply": "2023-10-01T23:37:48.879402Z"
    },
    "papermill": {
     "duration": 0.012262,
     "end_time": "2023-10-01T23:37:48.881637",
     "exception": false,
     "start_time": "2023-10-01T23:37:48.869375",
     "status": "completed"
    },
    "tags": []
   },
   "outputs": [],
   "source": [
    "data[\n",
    "    ['name','start_date','end_date','ward_code']\n",
    "].to_csv(EVENTS_DATA, index=False)"
   ]
  },
  {
   "cell_type": "markdown",
   "id": "c5a0f9a8",
   "metadata": {
    "papermill": {
     "duration": 0.002776,
     "end_time": "2023-10-01T23:37:48.887227",
     "exception": false,
     "start_time": "2023-10-01T23:37:48.884451",
     "status": "completed"
    },
    "tags": []
   },
   "source": [
    "Print out missing postcode data"
   ]
  },
  {
   "cell_type": "code",
   "execution_count": 9,
   "id": "ea023f37",
   "metadata": {
    "execution": {
     "iopub.execute_input": "2023-10-01T23:37:48.894366Z",
     "iopub.status.busy": "2023-10-01T23:37:48.893772Z",
     "iopub.status.idle": "2023-10-01T23:37:48.907546Z",
     "shell.execute_reply": "2023-10-01T23:37:48.906886Z"
    },
    "papermill": {
     "duration": 0.018959,
     "end_time": "2023-10-01T23:37:48.909041",
     "exception": false,
     "start_time": "2023-10-01T23:37:48.890082",
     "status": "completed"
    },
    "tags": []
   },
   "outputs": [
    {
     "data": {
      "text/html": [
       "<div>\n",
       "<style scoped>\n",
       "    .dataframe tbody tr th:only-of-type {\n",
       "        vertical-align: middle;\n",
       "    }\n",
       "\n",
       "    .dataframe tbody tr th {\n",
       "        vertical-align: top;\n",
       "    }\n",
       "\n",
       "    .dataframe thead th {\n",
       "        text-align: right;\n",
       "    }\n",
       "</style>\n",
       "<table border=\"1\" class=\"dataframe\">\n",
       "  <thead>\n",
       "    <tr style=\"text-align: right;\">\n",
       "      <th></th>\n",
       "      <th>name</th>\n",
       "      <th>start_date</th>\n",
       "    </tr>\n",
       "  </thead>\n",
       "  <tbody>\n",
       "    <tr>\n",
       "      <th>1</th>\n",
       "      <td>East Street Arts, A City Less Grey 2022</td>\n",
       "      <td>2022-10-08</td>\n",
       "    </tr>\n",
       "    <tr>\n",
       "      <th>3</th>\n",
       "      <td>Phoenix Dance Theatre Virtual Gallery</td>\n",
       "      <td>2023-01-01</td>\n",
       "    </tr>\n",
       "    <tr>\n",
       "      <th>4</th>\n",
       "      <td>The Big Art Giveaway, School of Creative Arts ...</td>\n",
       "      <td>2023-01-01</td>\n",
       "    </tr>\n",
       "    <tr>\n",
       "      <th>5</th>\n",
       "      <td>Embassy of Netherlands, Meet Leeds Lab</td>\n",
       "      <td>2023-01-16</td>\n",
       "    </tr>\n",
       "    <tr>\n",
       "      <th>6</th>\n",
       "      <td>Shifting Borders: A Journey to the Centre of o...</td>\n",
       "      <td>2023-01-24</td>\n",
       "    </tr>\n",
       "    <tr>\n",
       "      <th>...</th>\n",
       "      <td>...</td>\n",
       "      <td>...</td>\n",
       "    </tr>\n",
       "    <tr>\n",
       "      <th>186</th>\n",
       "      <td>The Ida Network: Leeds meet-up</td>\n",
       "      <td>2023-09-11</td>\n",
       "    </tr>\n",
       "    <tr>\n",
       "      <th>191</th>\n",
       "      <td>Civic Skateboarding</td>\n",
       "      <td>2023-09-16</td>\n",
       "    </tr>\n",
       "    <tr>\n",
       "      <th>195</th>\n",
       "      <td>Jazz at HEART: Sam Newbould Quintet (UK tour)</td>\n",
       "      <td>2023-09-20</td>\n",
       "    </tr>\n",
       "    <tr>\n",
       "      <th>196</th>\n",
       "      <td>On Wednesdays We Wear Queer: Drag Night Extrav...</td>\n",
       "      <td>2023-09-20</td>\n",
       "    </tr>\n",
       "    <tr>\n",
       "      <th>205</th>\n",
       "      <td>Neville Street Artwork</td>\n",
       "      <td>2023-10-01</td>\n",
       "    </tr>\n",
       "  </tbody>\n",
       "</table>\n",
       "<p>63 rows × 2 columns</p>\n",
       "</div>"
      ],
      "text/plain": [
       "                                                  name start_date\n",
       "1              East Street Arts, A City Less Grey 2022 2022-10-08\n",
       "3                Phoenix Dance Theatre Virtual Gallery 2023-01-01\n",
       "4    The Big Art Giveaway, School of Creative Arts ... 2023-01-01\n",
       "5               Embassy of Netherlands, Meet Leeds Lab 2023-01-16\n",
       "6    Shifting Borders: A Journey to the Centre of o... 2023-01-24\n",
       "..                                                 ...        ...\n",
       "186                     The Ida Network: Leeds meet-up 2023-09-11\n",
       "191                                Civic Skateboarding 2023-09-16\n",
       "195      Jazz at HEART: Sam Newbould Quintet (UK tour) 2023-09-20\n",
       "196  On Wednesdays We Wear Queer: Drag Night Extrav... 2023-09-20\n",
       "205                             Neville Street Artwork 2023-10-01\n",
       "\n",
       "[63 rows x 2 columns]"
      ]
     },
     "execution_count": 9,
     "metadata": {},
     "output_type": "execute_result"
    }
   ],
   "source": [
    "data[data.postcode.isna()][[\n",
    "    'name', 'start_date'\n",
    "]]"
   ]
  },
  {
   "cell_type": "markdown",
   "id": "79135ba0",
   "metadata": {
    "papermill": {
     "duration": 0.003067,
     "end_time": "2023-10-01T23:37:48.915211",
     "exception": false,
     "start_time": "2023-10-01T23:37:48.912144",
     "status": "completed"
    },
    "tags": []
   },
   "source": [
    "Plot the pricing"
   ]
  },
  {
   "cell_type": "code",
   "execution_count": 10,
   "id": "12c705c7",
   "metadata": {
    "execution": {
     "iopub.execute_input": "2023-10-01T23:37:48.922660Z",
     "iopub.status.busy": "2023-10-01T23:37:48.922227Z",
     "iopub.status.idle": "2023-10-01T23:37:49.458518Z",
     "shell.execute_reply": "2023-10-01T23:37:49.457918Z"
    },
    "papermill": {
     "duration": 0.541937,
     "end_time": "2023-10-01T23:37:49.460307",
     "exception": false,
     "start_time": "2023-10-01T23:37:48.918370",
     "status": "completed"
    },
    "tags": []
   },
   "outputs": [
    {
     "data": {
      "image/png": "[encoded data removed]",
      "text/plain": [
       "<Figure size 640x480 with 1 Axes>"
      ]
     },
     "metadata": {},
     "output_type": "display_data"
    }
   ],
   "source": [
    "# .groupby('pricing').count().plot.barh()\n",
    "pricing = data.pricing.fillna('Unspecified').str.replace('[\\[\\'\\]]', '', regex=True).to_frame().reset_index().groupby('pricing').count()\n",
    "\n",
    "pricing.columns = ['count']\n",
    "plot = pricing.plot.barh()\n"
   ]
  },
  {
   "cell_type": "code",
   "execution_count": null,
   "id": "0a584a9c",
   "metadata": {
    "papermill": {
     "duration": 0.00352,
     "end_time": "2023-10-01T23:37:49.468603",
     "exception": false,
     "start_time": "2023-10-01T23:37:49.465083",
     "status": "completed"
    },
    "tags": []
   },
   "outputs": [],
   "source": []
  }
 ],
 "metadata": {
  "kernelspec": {
   "display_name": "leeds-2023-YZF5GfJv",
   "language": "python",
   "name": "python3"
  },
  "language_info": {
   "codemirror_mode": {
    "name": "ipython",
    "version": 3
   },
   "file_extension": ".py",
   "mimetype": "text/x-python",
   "name": "python",
   "nbconvert_exporter": "python",
   "pygments_lexer": "ipython3",
   "version": "3.10.13"
  },
  "papermill": {
   "default_parameters": {},
   "duration": 14.251408,
   "end_time": "2023-10-01T23:37:49.891391",
   "environment_variables": {},
   "exception": null,
   "input_path": "transform.ipynb",
   "output_path": "../../../working/output/partner-events-transform.ipynb",
   "parameters": {},
   "start_time": "2023-10-01T23:37:35.639983",
   "version": "2.4.0"
  }
 },
 "nbformat": 4,
 "nbformat_minor": 5
}