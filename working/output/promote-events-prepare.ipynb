{
 "cells": [
  {
   "cell_type": "code",
   "execution_count": 1,
   "id": "c244e817",
   "metadata": {
    "execution": {
     "iopub.execute_input": "2023-08-20T23:37:18.771286Z",
     "iopub.status.busy": "2023-08-20T23:37:18.770664Z",
     "iopub.status.idle": "2023-08-20T23:37:18.994944Z",
     "shell.execute_reply": "2023-08-20T23:37:18.994337Z"
    },
    "papermill": {
     "duration": 0.229749,
     "end_time": "2023-08-20T23:37:18.997027",
     "exception": false,
     "start_time": "2023-08-20T23:37:18.767278",
     "status": "completed"
    },
    "tags": []
   },
   "outputs": [],
   "source": [
    "import os\n",
    "import pandas as pd"
   ]
  },
  {
   "cell_type": "code",
   "execution_count": 2,
   "id": "d0c056d7",
   "metadata": {
    "execution": {
     "iopub.execute_input": "2023-08-20T23:37:19.001998Z",
     "iopub.status.busy": "2023-08-20T23:37:19.001315Z",
     "iopub.status.idle": "2023-08-20T23:37:19.004714Z",
     "shell.execute_reply": "2023-08-20T23:37:19.004143Z"
    },
    "papermill": {
     "duration": 0.007165,
     "end_time": "2023-08-20T23:37:19.006091",
     "exception": false,
     "start_time": "2023-08-20T23:37:18.998926",
     "status": "completed"
    },
    "tags": []
   },
   "outputs": [],
   "source": [
    "DATA_DIR='../../../docs/metrics/events/promote/_data/'\n",
    "os.makedirs(DATA_DIR, exist_ok=True)"
   ]
  },
  {
   "cell_type": "code",
   "execution_count": 3,
   "id": "b2e56457",
   "metadata": {
    "execution": {
     "iopub.execute_input": "2023-08-20T23:37:19.010350Z",
     "iopub.status.busy": "2023-08-20T23:37:19.009877Z",
     "iopub.status.idle": "2023-08-20T23:37:19.017841Z",
     "shell.execute_reply": "2023-08-20T23:37:19.017304Z"
    },
    "papermill": {
     "duration": 0.011599,
     "end_time": "2023-08-20T23:37:19.019250",
     "exception": false,
     "start_time": "2023-08-20T23:37:19.007651",
     "status": "completed"
    },
    "tags": []
   },
   "outputs": [],
   "source": [
    "data = pd.read_csv('../../../data/metrics/events/promote-events/events.csv', parse_dates=['time'])"
   ]
  },
  {
   "cell_type": "code",
   "execution_count": 4,
   "id": "eddf3850",
   "metadata": {
    "execution": {
     "iopub.execute_input": "2023-08-20T23:37:19.023413Z",
     "iopub.status.busy": "2023-08-20T23:37:19.023095Z",
     "iopub.status.idle": "2023-08-20T23:37:19.027923Z",
     "shell.execute_reply": "2023-08-20T23:37:19.027304Z"
    },
    "papermill": {
     "duration": 0.008526,
     "end_time": "2023-08-20T23:37:19.029329",
     "exception": false,
     "start_time": "2023-08-20T23:37:19.020803",
     "status": "completed"
    },
    "tags": []
   },
   "outputs": [],
   "source": [
    "pd.Series({\n",
    "    'total_events': len(data.id.unique()),\n",
    "    'total_event_instances': len(data.time),\n",
    "    'earliest_event': data.time.min(),\n",
    "    'latest_event': data.time.max(),\n",
    "}).to_json(\n",
    "    os.path.join(DATA_DIR, 'headlines.json'),\n",
    "    date_format='iso', indent=2\n",
    ")"
   ]
  },
  {
   "cell_type": "code",
   "execution_count": 5,
   "id": "ebb1654c",
   "metadata": {
    "execution": {
     "iopub.execute_input": "2023-08-20T23:37:19.033977Z",
     "iopub.status.busy": "2023-08-20T23:37:19.033584Z",
     "iopub.status.idle": "2023-08-20T23:37:19.040785Z",
     "shell.execute_reply": "2023-08-20T23:37:19.040251Z"
    },
    "papermill": {
     "duration": 0.011219,
     "end_time": "2023-08-20T23:37:19.042149",
     "exception": false,
     "start_time": "2023-08-20T23:37:19.030930",
     "status": "completed"
    },
    "tags": []
   },
   "outputs": [],
   "source": [
    "events = pd.DataFrame({\n",
    "    'events': data.groupby('id').agg({ 'time': 'min' }).reset_index().groupby('time').id.count(),\n",
    "    'event_instances': data.groupby('time').id.count(),\n",
    "}).fillna(0).astype(int)"
   ]
  },
  {
   "cell_type": "code",
   "execution_count": 6,
   "id": "9acf613b",
   "metadata": {
    "execution": {
     "iopub.execute_input": "2023-08-20T23:37:19.046457Z",
     "iopub.status.busy": "2023-08-20T23:37:19.046140Z",
     "iopub.status.idle": "2023-08-20T23:37:19.049548Z",
     "shell.execute_reply": "2023-08-20T23:37:19.048929Z"
    },
    "papermill": {
     "duration": 0.007057,
     "end_time": "2023-08-20T23:37:19.050827",
     "exception": false,
     "start_time": "2023-08-20T23:37:19.043770",
     "status": "completed"
    },
    "tags": []
   },
   "outputs": [],
   "source": [
    "def cumulate(data):\n",
    "    return pd.concat([\n",
    "        data,\n",
    "        data.cumsum().rename(columns=lambda c: f'cumulative_{c}')\n",
    "    ], axis=1)"
   ]
  },
  {
   "cell_type": "code",
   "execution_count": 7,
   "id": "d8087926",
   "metadata": {
    "execution": {
     "iopub.execute_input": "2023-08-20T23:37:19.055040Z",
     "iopub.status.busy": "2023-08-20T23:37:19.054717Z",
     "iopub.status.idle": "2023-08-20T23:37:19.064328Z",
     "shell.execute_reply": "2023-08-20T23:37:19.063768Z"
    },
    "papermill": {
     "duration": 0.013285,
     "end_time": "2023-08-20T23:37:19.065755",
     "exception": false,
     "start_time": "2023-08-20T23:37:19.052470",
     "status": "completed"
    },
    "tags": []
   },
   "outputs": [],
   "source": [
    "events.resample('W-FRI').sum().pipe(cumulate).to_csv(os.path.join(DATA_DIR, 'by_week.csv'))"
   ]
  },
  {
   "cell_type": "code",
   "execution_count": 8,
   "id": "e3f3f1b2",
   "metadata": {
    "execution": {
     "iopub.execute_input": "2023-08-20T23:37:19.070485Z",
     "iopub.status.busy": "2023-08-20T23:37:19.069996Z",
     "iopub.status.idle": "2023-08-20T23:37:19.075853Z",
     "shell.execute_reply": "2023-08-20T23:37:19.075297Z"
    },
    "papermill": {
     "duration": 0.009597,
     "end_time": "2023-08-20T23:37:19.077163",
     "exception": false,
     "start_time": "2023-08-20T23:37:19.067566",
     "status": "completed"
    },
    "tags": []
   },
   "outputs": [],
   "source": [
    "events.resample('MS').sum().pipe(cumulate).to_csv(os.path.join(DATA_DIR, 'by_month.csv'))"
   ]
  },
  {
   "cell_type": "code",
   "execution_count": null,
   "id": "4eeee817",
   "metadata": {
    "papermill": {
     "duration": 0.00167,
     "end_time": "2023-08-20T23:37:19.080581",
     "exception": false,
     "start_time": "2023-08-20T23:37:19.078911",
     "status": "completed"
    },
    "tags": []
   },
   "outputs": [],
   "source": []
  }
 ],
 "metadata": {
  "kernelspec": {
   "display_name": "leeds-2023-YZF5GfJv",
   "language": "python",
   "name": "python3"
  },
  "language_info": {
   "codemirror_mode": {
    "name": "ipython",
    "version": 3
   },
   "file_extension": ".py",
   "mimetype": "text/x-python",
   "name": "python",
   "nbconvert_exporter": "python",
   "pygments_lexer": "ipython3",
   "version": "3.10.12"
  },
  "papermill": {
   "default_parameters": {},
   "duration": 1.894969,
   "end_time": "2023-08-20T23:37:19.297890",
   "environment_variables": {},
   "exception": null,
   "input_path": "prepare.ipynb",
   "output_path": "../../../working/output/promote-events-prepare.ipynb",
   "parameters": {},
   "start_time": "2023-08-20T23:37:17.402921",
   "version": "2.4.0"
  }
 },
 "nbformat": 4,
 "nbformat_minor": 5
}