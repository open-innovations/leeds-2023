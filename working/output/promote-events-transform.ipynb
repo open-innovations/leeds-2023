{
 "cells": [
  {
   "cell_type": "code",
   "execution_count": 1,
   "id": "33558803",
   "metadata": {
    "execution": {
     "iopub.execute_input": "2023-08-27T23:39:55.757045Z",
     "iopub.status.busy": "2023-08-27T23:39:55.756399Z",
     "iopub.status.idle": "2023-08-27T23:39:56.057189Z",
     "shell.execute_reply": "2023-08-27T23:39:56.056006Z"
    },
    "papermill": {
     "duration": 0.306789,
     "end_time": "2023-08-27T23:39:56.059683",
     "exception": false,
     "start_time": "2023-08-27T23:39:55.752894",
     "status": "completed"
    },
    "tags": []
   },
   "outputs": [],
   "source": [
    "import os\n",
    "import pandas as pd"
   ]
  },
  {
   "cell_type": "code",
   "execution_count": 2,
   "id": "e2066586",
   "metadata": {
    "execution": {
     "iopub.execute_input": "2023-08-27T23:39:56.065641Z",
     "iopub.status.busy": "2023-08-27T23:39:56.065033Z",
     "iopub.status.idle": "2023-08-27T23:39:56.069122Z",
     "shell.execute_reply": "2023-08-27T23:39:56.068254Z"
    },
    "papermill": {
     "duration": 0.009194,
     "end_time": "2023-08-27T23:39:56.071464",
     "exception": false,
     "start_time": "2023-08-27T23:39:56.062270",
     "status": "completed"
    },
    "tags": []
   },
   "outputs": [],
   "source": [
    "EVENTS_RAW_DATA = '../../../working/metrics/promote-events/events.csv'\n",
    "DATA_DIR = '../../../data/metrics/events/promote-events/'\n",
    "EVENTS_DATA = os.path.join(DATA_DIR, 'events.csv')"
   ]
  },
  {
   "cell_type": "code",
   "execution_count": 3,
   "id": "c40be026",
   "metadata": {
    "execution": {
     "iopub.execute_input": "2023-08-27T23:39:56.075967Z",
     "iopub.status.busy": "2023-08-27T23:39:56.075468Z",
     "iopub.status.idle": "2023-08-27T23:39:56.079387Z",
     "shell.execute_reply": "2023-08-27T23:39:56.078638Z"
    },
    "papermill": {
     "duration": 0.00848,
     "end_time": "2023-08-27T23:39:56.081493",
     "exception": false,
     "start_time": "2023-08-27T23:39:56.073013",
     "status": "completed"
    },
    "tags": []
   },
   "outputs": [],
   "source": [
    "columns = {\n",
    "    'id': 'id',\n",
    "    'name': 'name',\n",
    "    'locationName': 'location',\n",
    "    'cardPrice': 'card_price',\n",
    "    'timeslots': 'time',\n",
    "    # 'displayOnWebsite': 'display',\n",
    "    'Stage': 'stage',\n",
    "}"
   ]
  },
  {
   "cell_type": "code",
   "execution_count": 4,
   "id": "4e16db96",
   "metadata": {
    "execution": {
     "iopub.execute_input": "2023-08-27T23:39:56.086333Z",
     "iopub.status.busy": "2023-08-27T23:39:56.085892Z",
     "iopub.status.idle": "2023-08-27T23:39:56.100407Z",
     "shell.execute_reply": "2023-08-27T23:39:56.099545Z"
    },
    "papermill": {
     "duration": 0.019491,
     "end_time": "2023-08-27T23:39:56.102566",
     "exception": false,
     "start_time": "2023-08-27T23:39:56.083075",
     "status": "completed"
    },
    "tags": []
   },
   "outputs": [],
   "source": [
    "data = pd.read_csv(EVENTS_RAW_DATA)[columns.keys()].rename(columns=columns)\n",
    "data.time = pd.to_datetime(data.time, errors='coerce')"
   ]
  },
  {
   "cell_type": "code",
   "execution_count": 5,
   "id": "795563d4",
   "metadata": {
    "execution": {
     "iopub.execute_input": "2023-08-27T23:39:56.107393Z",
     "iopub.status.busy": "2023-08-27T23:39:56.106765Z",
     "iopub.status.idle": "2023-08-27T23:39:56.113327Z",
     "shell.execute_reply": "2023-08-27T23:39:56.112615Z"
    },
    "papermill": {
     "duration": 0.010947,
     "end_time": "2023-08-27T23:39:56.115148",
     "exception": false,
     "start_time": "2023-08-27T23:39:56.104201",
     "status": "completed"
    },
    "tags": []
   },
   "outputs": [],
   "source": [
    "data.to_csv(os.path.join(DATA_DIR, 'events.csv'), index=False)"
   ]
  }
 ],
 "metadata": {
  "kernelspec": {
   "display_name": "leeds-2023-YZF5GfJv",
   "language": "python",
   "name": "python3"
  },
  "language_info": {
   "codemirror_mode": {
    "name": "ipython",
    "version": 3
   },
   "file_extension": ".py",
   "mimetype": "text/x-python",
   "name": "python",
   "nbconvert_exporter": "python",
   "pygments_lexer": "ipython3",
   "version": "3.10.12"
  },
  "papermill": {
   "default_parameters": {},
   "duration": 2.232105,
   "end_time": "2023-08-27T23:39:56.335201",
   "environment_variables": {},
   "exception": null,
   "input_path": "transform.ipynb",
   "output_path": "../../../working/output/promote-events-transform.ipynb",
   "parameters": {},
   "start_time": "2023-08-27T23:39:54.103096",
   "version": "2.4.0"
  }
 },
 "nbformat": 4,
 "nbformat_minor": 5
}