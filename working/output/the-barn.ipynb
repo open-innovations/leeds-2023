{
 "cells": [
  {
   "cell_type": "markdown",
   "id": "c2dfb082",
   "metadata": {
    "papermill": {
     "duration": 0.002547,
     "end_time": "2023-11-27T23:40:27.638531",
     "exception": false,
     "start_time": "2023-11-27T23:40:27.635984",
     "status": "completed"
    },
    "tags": []
   },
   "source": [
    "# The Barn\n",
    "\n",
    "Prepares data for The Barn signature events page"
   ]
  },
  {
   "cell_type": "code",
   "execution_count": 1,
   "id": "85e4d969",
   "metadata": {
    "execution": {
     "iopub.execute_input": "2023-11-27T23:40:27.644014Z",
     "iopub.status.busy": "2023-11-27T23:40:27.643460Z",
     "iopub.status.idle": "2023-11-27T23:40:34.935956Z",
     "shell.execute_reply": "2023-11-27T23:40:34.935193Z"
    },
    "papermill": {
     "duration": 7.297111,
     "end_time": "2023-11-27T23:40:34.937724",
     "exception": false,
     "start_time": "2023-11-27T23:40:27.640613",
     "status": "completed"
    },
    "tags": []
   },
   "outputs": [],
   "source": [
    "from events import (\n",
    "    load_event_data, filter_public_events, filter_by_project, prepare, save_files, count_wards\n",
    ")"
   ]
  },
  {
   "cell_type": "markdown",
   "id": "f279527c",
   "metadata": {
    "papermill": {
     "duration": 0.001896,
     "end_time": "2023-11-27T23:40:34.941834",
     "exception": false,
     "start_time": "2023-11-27T23:40:34.939938",
     "status": "completed"
    },
    "tags": []
   },
   "source": [
    "Set an output directory"
   ]
  },
  {
   "cell_type": "code",
   "execution_count": 2,
   "id": "660488c2",
   "metadata": {
    "execution": {
     "iopub.execute_input": "2023-11-27T23:40:34.946496Z",
     "iopub.status.busy": "2023-11-27T23:40:34.946245Z",
     "iopub.status.idle": "2023-11-27T23:40:34.949409Z",
     "shell.execute_reply": "2023-11-27T23:40:34.948839Z"
    },
    "papermill": {
     "duration": 0.007139,
     "end_time": "2023-11-27T23:40:34.950736",
     "exception": false,
     "start_time": "2023-11-27T23:40:34.943597",
     "status": "completed"
    },
    "tags": []
   },
   "outputs": [],
   "source": [
    "OUT_DIR = '../../../../docs/metrics/events/the-barn/_data/events'"
   ]
  },
  {
   "cell_type": "markdown",
   "id": "4c83f91c",
   "metadata": {
    "papermill": {
     "duration": 0.001839,
     "end_time": "2023-11-27T23:40:34.954503",
     "exception": false,
     "start_time": "2023-11-27T23:40:34.952664",
     "status": "completed"
    },
    "tags": []
   },
   "source": [
    "Read in event data and filter by **The Barn**"
   ]
  },
  {
   "cell_type": "code",
   "execution_count": 3,
   "id": "30dc9946",
   "metadata": {
    "execution": {
     "iopub.execute_input": "2023-11-27T23:40:34.959377Z",
     "iopub.status.busy": "2023-11-27T23:40:34.959014Z",
     "iopub.status.idle": "2023-11-27T23:40:34.972131Z",
     "shell.execute_reply": "2023-11-27T23:40:34.971620Z"
    },
    "papermill": {
     "duration": 0.017023,
     "end_time": "2023-11-27T23:40:34.973488",
     "exception": false,
     "start_time": "2023-11-27T23:40:34.956465",
     "status": "completed"
    },
    "tags": []
   },
   "outputs": [],
   "source": [
    "data = (\n",
    "  load_event_data()\n",
    "    .pipe(filter_by_project, '05 - The Barn')\n",
    "    .pipe(filter_public_events)\n",
    "  )"
   ]
  },
  {
   "cell_type": "markdown",
   "id": "5b4813a4",
   "metadata": {
    "papermill": {
     "duration": 0.001899,
     "end_time": "2023-11-27T23:40:34.977274",
     "exception": false,
     "start_time": "2023-11-27T23:40:34.975375",
     "status": "completed"
    },
    "tags": []
   },
   "source": [
    "Run the processing and save the files"
   ]
  },
  {
   "cell_type": "code",
   "execution_count": 4,
   "id": "5a394bfd",
   "metadata": {
    "execution": {
     "iopub.execute_input": "2023-11-27T23:40:34.982139Z",
     "iopub.status.busy": "2023-11-27T23:40:34.981678Z",
     "iopub.status.idle": "2023-11-27T23:40:35.005651Z",
     "shell.execute_reply": "2023-11-27T23:40:35.005149Z"
    },
    "papermill": {
     "duration": 0.027801,
     "end_time": "2023-11-27T23:40:35.006949",
     "exception": false,
     "start_time": "2023-11-27T23:40:34.979148",
     "status": "completed"
    },
    "tags": []
   },
   "outputs": [],
   "source": [
    "data = data.pipe(prepare).pipe(save_files, OUT_DIR)"
   ]
  },
  {
   "cell_type": "markdown",
   "id": "707d6f44",
   "metadata": {
    "papermill": {
     "duration": 0.001911,
     "end_time": "2023-11-27T23:40:35.011704",
     "exception": false,
     "start_time": "2023-11-27T23:40:35.009793",
     "status": "completed"
    },
    "tags": []
   },
   "source": [
    "Print a list of events which have no ward, or more than one"
   ]
  },
  {
   "cell_type": "code",
   "execution_count": 5,
   "id": "31902a29",
   "metadata": {
    "execution": {
     "iopub.execute_input": "2023-11-27T23:40:35.016897Z",
     "iopub.status.busy": "2023-11-27T23:40:35.016381Z",
     "iopub.status.idle": "2023-11-27T23:40:35.027509Z",
     "shell.execute_reply": "2023-11-27T23:40:35.026904Z"
    },
    "papermill": {
     "duration": 0.015278,
     "end_time": "2023-11-27T23:40:35.028954",
     "exception": false,
     "start_time": "2023-11-27T23:40:35.013676",
     "status": "completed"
    },
    "tags": []
   },
   "outputs": [
    {
     "data": {
      "text/html": [
       "<div>\n",
       "<style scoped>\n",
       "    .dataframe tbody tr th:only-of-type {\n",
       "        vertical-align: middle;\n",
       "    }\n",
       "\n",
       "    .dataframe tbody tr th {\n",
       "        vertical-align: top;\n",
       "    }\n",
       "\n",
       "    .dataframe thead th {\n",
       "        text-align: right;\n",
       "    }\n",
       "</style>\n",
       "<table border=\"1\" class=\"dataframe\">\n",
       "  <thead>\n",
       "    <tr style=\"text-align: right;\">\n",
       "      <th></th>\n",
       "      <th>airtable_id</th>\n",
       "      <th>event_name</th>\n",
       "      <th>start_date</th>\n",
       "      <th>ward_(from_venue)</th>\n",
       "    </tr>\n",
       "  </thead>\n",
       "  <tbody>\n",
       "    <tr>\n",
       "      <th>695</th>\n",
       "      <td>351</td>\n",
       "      <td>The Space Digital Interactive Playspace</td>\n",
       "      <td>2023-05-16</td>\n",
       "      <td>NaN</td>\n",
       "    </tr>\n",
       "    <tr>\n",
       "      <th>696</th>\n",
       "      <td>1623</td>\n",
       "      <td>The Space Digital Interactive Playspace (schoo...</td>\n",
       "      <td>2023-05-16</td>\n",
       "      <td>NaN</td>\n",
       "    </tr>\n",
       "  </tbody>\n",
       "</table>\n",
       "</div>"
      ],
      "text/plain": [
       "     airtable_id                                         event_name  \\\n",
       "695          351           The Space Digital Interactive Playspace    \n",
       "696         1623  The Space Digital Interactive Playspace (schoo...   \n",
       "\n",
       "    start_date ward_(from_venue)  \n",
       "695 2023-05-16               NaN  \n",
       "696 2023-05-16               NaN  "
      ]
     },
     "execution_count": 5,
     "metadata": {},
     "output_type": "execute_result"
    }
   ],
   "source": [
    "data[data.pipe(count_wards) != 1][[\n",
    "    'airtable_id',\n",
    "    'event_name',\n",
    "    'start_date',\n",
    "    'ward_(from_venue)',\n",
    "]]"
   ]
  },
  {
   "cell_type": "markdown",
   "id": "40d4ca3e",
   "metadata": {
    "papermill": {
     "duration": 0.002216,
     "end_time": "2023-11-27T23:40:35.033306",
     "exception": false,
     "start_time": "2023-11-27T23:40:35.031090",
     "status": "completed"
    },
    "tags": []
   },
   "source": [
    "Print a list of events with no audience recorded"
   ]
  },
  {
   "cell_type": "code",
   "execution_count": 6,
   "id": "b750d2e7",
   "metadata": {
    "execution": {
     "iopub.execute_input": "2023-11-27T23:40:35.038488Z",
     "iopub.status.busy": "2023-11-27T23:40:35.038126Z",
     "iopub.status.idle": "2023-11-27T23:40:35.045896Z",
     "shell.execute_reply": "2023-11-27T23:40:35.045282Z"
    },
    "papermill": {
     "duration": 0.011798,
     "end_time": "2023-11-27T23:40:35.047182",
     "exception": false,
     "start_time": "2023-11-27T23:40:35.035384",
     "status": "completed"
    },
    "tags": []
   },
   "outputs": [
    {
     "data": {
      "text/html": [
       "<div>\n",
       "<style scoped>\n",
       "    .dataframe tbody tr th:only-of-type {\n",
       "        vertical-align: middle;\n",
       "    }\n",
       "\n",
       "    .dataframe tbody tr th {\n",
       "        vertical-align: top;\n",
       "    }\n",
       "\n",
       "    .dataframe thead th {\n",
       "        text-align: right;\n",
       "    }\n",
       "</style>\n",
       "<table border=\"1\" class=\"dataframe\">\n",
       "  <thead>\n",
       "    <tr style=\"text-align: right;\">\n",
       "      <th></th>\n",
       "      <th>airtable_id</th>\n",
       "      <th>event_name</th>\n",
       "      <th>start_date</th>\n",
       "      <th>audience_size</th>\n",
       "    </tr>\n",
       "  </thead>\n",
       "  <tbody>\n",
       "    <tr>\n",
       "      <th>672</th>\n",
       "      <td>1156</td>\n",
       "      <td>Shazia Mirza - 9pm show</td>\n",
       "      <td>2023-05-11</td>\n",
       "      <td>0.0</td>\n",
       "    </tr>\n",
       "    <tr>\n",
       "      <th>719</th>\n",
       "      <td>1162</td>\n",
       "      <td>Christie Watson</td>\n",
       "      <td>2023-05-21</td>\n",
       "      <td>0.0</td>\n",
       "    </tr>\n",
       "  </tbody>\n",
       "</table>\n",
       "</div>"
      ],
      "text/plain": [
       "     airtable_id               event_name start_date  audience_size\n",
       "672         1156  Shazia Mirza - 9pm show 2023-05-11            0.0\n",
       "719         1162          Christie Watson 2023-05-21            0.0"
      ]
     },
     "execution_count": 6,
     "metadata": {},
     "output_type": "execute_result"
    }
   ],
   "source": [
    "data[data.audience_size == 0][[\n",
    "    'airtable_id', 'event_name', 'start_date', 'audience_size'\n",
    "]]"
   ]
  },
  {
   "cell_type": "markdown",
   "id": "e7a93ba6",
   "metadata": {
    "papermill": {
     "duration": 0.002218,
     "end_time": "2023-11-27T23:40:35.051810",
     "exception": false,
     "start_time": "2023-11-27T23:40:35.049592",
     "status": "completed"
    },
    "tags": []
   },
   "source": [
    "Plot event types shown"
   ]
  },
  {
   "cell_type": "code",
   "execution_count": 7,
   "id": "7b2d4ae0",
   "metadata": {
    "execution": {
     "iopub.execute_input": "2023-11-27T23:40:35.057369Z",
     "iopub.status.busy": "2023-11-27T23:40:35.056978Z",
     "iopub.status.idle": "2023-11-27T23:40:35.519476Z",
     "shell.execute_reply": "2023-11-27T23:40:35.518720Z"
    },
    "papermill": {
     "duration": 0.466909,
     "end_time": "2023-11-27T23:40:35.520988",
     "exception": false,
     "start_time": "2023-11-27T23:40:35.054079",
     "status": "completed"
    },
    "tags": []
   },
   "outputs": [
    {
     "data": {
      "image/png": "[encoded data removed]",
      "text/plain": [
       "<Figure size 640x480 with 1 Axes>"
      ]
     },
     "metadata": {},
     "output_type": "display_data"
    }
   ],
   "source": [
    "plot = data.groupby('event_type').event_name.count().plot.barh()\n",
    "plot.xaxis.label.set_text('Number of events')\n",
    "plot.yaxis.label.set_text('Event Type Labels')"
   ]
  }
 ],
 "metadata": {
  "kernelspec": {
   "display_name": "leeds-2023-YZF5GfJv",
   "language": "python",
   "name": "python3"
  },
  "language_info": {
   "codemirror_mode": {
    "name": "ipython",
    "version": 3
   },
   "file_extension": ".py",
   "mimetype": "text/x-python",
   "name": "python",
   "nbconvert_exporter": "python",
   "pygments_lexer": "ipython3",
   "version": "3.10.13"
  },
  "papermill": {
   "default_parameters": {},
   "duration": 9.46655,
   "end_time": "2023-11-27T23:40:35.840588",
   "environment_variables": {},
   "exception": null,
   "input_path": "the-barn.ipynb",
   "output_path": "../../../../working/output/the-barn.ipynb",
   "parameters": {},
   "start_time": "2023-11-27T23:40:26.374038",
   "version": "2.4.0"
  }
 },
 "nbformat": 4,
 "nbformat_minor": 5
}