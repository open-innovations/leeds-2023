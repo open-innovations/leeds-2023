{
 "cells": [
  {
   "cell_type": "code",
   "execution_count": 1,
   "id": "61d69fbd",
   "metadata": {
    "execution": {
     "iopub.execute_input": "2023-07-18T23:39:03.354061Z",
     "iopub.status.busy": "2023-07-18T23:39:03.353458Z",
     "iopub.status.idle": "2023-07-18T23:39:03.612301Z",
     "shell.execute_reply": "2023-07-18T23:39:03.611576Z"
    },
    "papermill": {
     "duration": 0.264596,
     "end_time": "2023-07-18T23:39:03.614599",
     "exception": false,
     "start_time": "2023-07-18T23:39:03.350003",
     "status": "completed"
    },
    "tags": []
   },
   "outputs": [],
   "source": [
    "import os\n",
    "import pandas as pd"
   ]
  },
  {
   "cell_type": "code",
   "execution_count": 2,
   "id": "1e9233a6",
   "metadata": {
    "execution": {
     "iopub.execute_input": "2023-07-18T23:39:03.619132Z",
     "iopub.status.busy": "2023-07-18T23:39:03.618541Z",
     "iopub.status.idle": "2023-07-18T23:39:03.622238Z",
     "shell.execute_reply": "2023-07-18T23:39:03.621558Z"
    },
    "papermill": {
     "duration": 0.007727,
     "end_time": "2023-07-18T23:39:03.623960",
     "exception": false,
     "start_time": "2023-07-18T23:39:03.616233",
     "status": "completed"
    },
    "tags": []
   },
   "outputs": [],
   "source": [
    "EVENTS_RAW_DATA = '../../../working/metrics/promote-events/events.csv'\n",
    "DATA_DIR = '../../../data/metrics/events/promote-events/'\n",
    "EVENTS_DATA = os.path.join(DATA_DIR, 'events.csv')"
   ]
  },
  {
   "cell_type": "code",
   "execution_count": 3,
   "id": "39a5165e",
   "metadata": {
    "execution": {
     "iopub.execute_input": "2023-07-18T23:39:03.627747Z",
     "iopub.status.busy": "2023-07-18T23:39:03.627358Z",
     "iopub.status.idle": "2023-07-18T23:39:03.630970Z",
     "shell.execute_reply": "2023-07-18T23:39:03.630303Z"
    },
    "papermill": {
     "duration": 0.007459,
     "end_time": "2023-07-18T23:39:03.632676",
     "exception": false,
     "start_time": "2023-07-18T23:39:03.625217",
     "status": "completed"
    },
    "tags": []
   },
   "outputs": [],
   "source": [
    "columns = {\n",
    "    'id': 'id',\n",
    "    'name': 'name',\n",
    "    'locationName': 'location',\n",
    "    'cardPrice': 'card_price',\n",
    "    'timeslots': 'time',\n",
    "    'displayOnWebsite': 'display',\n",
    "    'Stage': 'stage',\n",
    "}"
   ]
  },
  {
   "cell_type": "code",
   "execution_count": 4,
   "id": "c11c18ce",
   "metadata": {
    "execution": {
     "iopub.execute_input": "2023-07-18T23:39:03.636554Z",
     "iopub.status.busy": "2023-07-18T23:39:03.636130Z",
     "iopub.status.idle": "2023-07-18T23:39:03.648559Z",
     "shell.execute_reply": "2023-07-18T23:39:03.647937Z"
    },
    "papermill": {
     "duration": 0.016405,
     "end_time": "2023-07-18T23:39:03.650385",
     "exception": false,
     "start_time": "2023-07-18T23:39:03.633980",
     "status": "completed"
    },
    "tags": []
   },
   "outputs": [],
   "source": [
    "data = pd.read_csv(EVENTS_RAW_DATA)[columns.keys()].rename(columns=columns)\n",
    "data.time = pd.to_datetime(data.time, errors='coerce')"
   ]
  },
  {
   "cell_type": "code",
   "execution_count": 5,
   "id": "cf072abf",
   "metadata": {
    "execution": {
     "iopub.execute_input": "2023-07-18T23:39:03.654338Z",
     "iopub.status.busy": "2023-07-18T23:39:03.653964Z",
     "iopub.status.idle": "2023-07-18T23:39:03.662310Z",
     "shell.execute_reply": "2023-07-18T23:39:03.661711Z"
    },
    "papermill": {
     "duration": 0.012199,
     "end_time": "2023-07-18T23:39:03.663982",
     "exception": false,
     "start_time": "2023-07-18T23:39:03.651783",
     "status": "completed"
    },
    "tags": []
   },
   "outputs": [],
   "source": [
    "data.to_csv(os.path.join(DATA_DIR, 'events.csv'), index=False)"
   ]
  }
 ],
 "metadata": {
  "kernelspec": {
   "display_name": "leeds-2023-YZF5GfJv",
   "language": "python",
   "name": "python3"
  },
  "language_info": {
   "codemirror_mode": {
    "name": "ipython",
    "version": 3
   },
   "file_extension": ".py",
   "mimetype": "text/x-python",
   "name": "python",
   "nbconvert_exporter": "python",
   "pygments_lexer": "ipython3",
   "version": "3.10.6"
  },
  "papermill": {
   "default_parameters": {},
   "duration": 1.989719,
   "end_time": "2023-07-18T23:39:03.984388",
   "environment_variables": {},
   "exception": null,
   "input_path": "transform.ipynb",
   "output_path": "../../../working/output/promote-events-transform.ipynb",
   "parameters": {},
   "start_time": "2023-07-18T23:39:01.994669",
   "version": "2.4.0"
  }
 },
 "nbformat": 4,
 "nbformat_minor": 5
}