{
 "cells": [
  {
   "cell_type": "code",
   "execution_count": 1,
   "id": "6ad837ad",
   "metadata": {
    "execution": {
     "iopub.execute_input": "2023-11-14T23:37:25.143628Z",
     "iopub.status.busy": "2023-11-14T23:37:25.143390Z",
     "iopub.status.idle": "2023-11-14T23:37:25.383792Z",
     "shell.execute_reply": "2023-11-14T23:37:25.383042Z"
    },
    "papermill": {
     "duration": 0.24621,
     "end_time": "2023-11-14T23:37:25.385684",
     "exception": false,
     "start_time": "2023-11-14T23:37:25.139474",
     "status": "completed"
    },
    "tags": []
   },
   "outputs": [],
   "source": [
    "import os\n",
    "import sys\n",
    "import pandas as pd\n",
    "lib_dir = os.path.realpath('../../../lib/')\n",
    "if lib_dir not in sys.path: sys.path.append(lib_dir)"
   ]
  },
  {
   "cell_type": "code",
   "execution_count": 2,
   "id": "bc8cf65d",
   "metadata": {
    "execution": {
     "iopub.execute_input": "2023-11-14T23:37:25.391516Z",
     "iopub.status.busy": "2023-11-14T23:37:25.391058Z",
     "iopub.status.idle": "2023-11-14T23:37:32.408713Z",
     "shell.execute_reply": "2023-11-14T23:37:32.408060Z"
    },
    "papermill": {
     "duration": 7.022288,
     "end_time": "2023-11-14T23:37:32.410411",
     "exception": false,
     "start_time": "2023-11-14T23:37:25.388123",
     "status": "completed"
    },
    "tags": []
   },
   "outputs": [],
   "source": [
    "import util.geo"
   ]
  },
  {
   "cell_type": "code",
   "execution_count": 3,
   "id": "6c94fdf5",
   "metadata": {
    "execution": {
     "iopub.execute_input": "2023-11-14T23:37:32.416348Z",
     "iopub.status.busy": "2023-11-14T23:37:32.415927Z",
     "iopub.status.idle": "2023-11-14T23:37:32.419424Z",
     "shell.execute_reply": "2023-11-14T23:37:32.418809Z"
    },
    "papermill": {
     "duration": 0.007874,
     "end_time": "2023-11-14T23:37:32.420762",
     "exception": false,
     "start_time": "2023-11-14T23:37:32.412888",
     "status": "completed"
    },
    "tags": []
   },
   "outputs": [],
   "source": [
    "EVENTS_RAW_DATA = '../../../working/metrics/partner-events/events.csv'\n",
    "DATA_DIR = '../../../data/metrics/events/partner-events/'\n",
    "EVENTS_DATA = os.path.join(DATA_DIR, 'events.csv')"
   ]
  },
  {
   "cell_type": "code",
   "execution_count": 4,
   "id": "7bdd0ec7",
   "metadata": {
    "execution": {
     "iopub.execute_input": "2023-11-14T23:37:32.426320Z",
     "iopub.status.busy": "2023-11-14T23:37:32.425872Z",
     "iopub.status.idle": "2023-11-14T23:37:32.429303Z",
     "shell.execute_reply": "2023-11-14T23:37:32.428750Z"
    },
    "papermill": {
     "duration": 0.007648,
     "end_time": "2023-11-14T23:37:32.430624",
     "exception": false,
     "start_time": "2023-11-14T23:37:32.422976",
     "status": "completed"
    },
    "tags": []
   },
   "outputs": [],
   "source": [
    "columns = {\n",
    "    'Event Name': 'name',\n",
    "    'Event Start Date': 'start_date',\n",
    "    'Event End Date': 'end_date',\n",
    "    'Partner/Promote': 'partner_promote',\n",
    "    'Stage': 'stage',\n",
    "    'Live date': 'live_date',\n",
    "    'Venue postcode': 'postcode',\n",
    "    'Pricing Policy': 'pricing',\n",
    "    'Venue - including address': 'venue',\n",
    "    'Is this event on Leeds Inspried?': 'on_leeds_inspired',\n",
    "}"
   ]
  },
  {
   "cell_type": "markdown",
   "id": "92c1c2a1",
   "metadata": {
    "papermill": {
     "duration": 0.002184,
     "end_time": "2023-11-14T23:37:32.435054",
     "exception": false,
     "start_time": "2023-11-14T23:37:32.432870",
     "status": "completed"
    },
    "tags": []
   },
   "source": [
    "Load the data and rename columns. Parse the dates to dates."
   ]
  },
  {
   "cell_type": "code",
   "execution_count": 5,
   "id": "faf194b2",
   "metadata": {
    "execution": {
     "iopub.execute_input": "2023-11-14T23:37:32.440400Z",
     "iopub.status.busy": "2023-11-14T23:37:32.439998Z",
     "iopub.status.idle": "2023-11-14T23:37:32.449214Z",
     "shell.execute_reply": "2023-11-14T23:37:32.448683Z"
    },
    "papermill": {
     "duration": 0.013395,
     "end_time": "2023-11-14T23:37:32.450559",
     "exception": false,
     "start_time": "2023-11-14T23:37:32.437164",
     "status": "completed"
    },
    "tags": []
   },
   "outputs": [],
   "source": [
    "data = pd.read_csv(EVENTS_RAW_DATA)[columns.keys()].rename(columns=columns)\n",
    "data.start_date = pd.to_datetime(data.start_date, errors='coerce')\n",
    "data.end_date = pd.to_datetime(data.end_date, errors='coerce')"
   ]
  },
  {
   "cell_type": "markdown",
   "id": "78093230",
   "metadata": {
    "papermill": {
     "duration": 0.002207,
     "end_time": "2023-11-14T23:37:32.454951",
     "exception": false,
     "start_time": "2023-11-14T23:37:32.452744",
     "status": "completed"
    },
    "tags": []
   },
   "source": [
    "Filter data by not LI Pull through and start date before now"
   ]
  },
  {
   "cell_type": "code",
   "execution_count": 6,
   "id": "8a71d658",
   "metadata": {
    "execution": {
     "iopub.execute_input": "2023-11-14T23:37:32.461225Z",
     "iopub.status.busy": "2023-11-14T23:37:32.460840Z",
     "iopub.status.idle": "2023-11-14T23:37:32.465305Z",
     "shell.execute_reply": "2023-11-14T23:37:32.464742Z"
    },
    "papermill": {
     "duration": 0.008661,
     "end_time": "2023-11-14T23:37:32.466658",
     "exception": false,
     "start_time": "2023-11-14T23:37:32.457997",
     "status": "completed"
    },
    "tags": []
   },
   "outputs": [],
   "source": [
    "data = data[\n",
    "    # (data.live_date == 'This event is live ') &\n",
    "    ((data.stage != 'LI pull through') & data.stage.notna()) &\n",
    "    (data.start_date < pd.Timestamp.now())\n",
    "]"
   ]
  },
  {
   "cell_type": "code",
   "execution_count": 7,
   "id": "324c5556",
   "metadata": {
    "execution": {
     "iopub.execute_input": "2023-11-14T23:37:32.472081Z",
     "iopub.status.busy": "2023-11-14T23:37:32.471709Z",
     "iopub.status.idle": "2023-11-14T23:37:33.315356Z",
     "shell.execute_reply": "2023-11-14T23:37:33.314770Z"
    },
    "papermill": {
     "duration": 0.848127,
     "end_time": "2023-11-14T23:37:33.316949",
     "exception": false,
     "start_time": "2023-11-14T23:37:32.468822",
     "status": "completed"
    },
    "tags": []
   },
   "outputs": [],
   "source": [
    "data['ward_code'] = data.postcode.pipe(util.geo.postcode_formatter).map(util.geo.postcode_to_ward_code)\n",
    "data['ward_name'] = data.ward_code.pipe(util.geo.ward_code_to_name)"
   ]
  },
  {
   "cell_type": "markdown",
   "id": "20b0326d",
   "metadata": {
    "papermill": {
     "duration": 0.002487,
     "end_time": "2023-11-14T23:37:33.322033",
     "exception": false,
     "start_time": "2023-11-14T23:37:33.319546",
     "status": "completed"
    },
    "tags": []
   },
   "source": [
    "Save the file"
   ]
  },
  {
   "cell_type": "code",
   "execution_count": 8,
   "id": "428d5a10",
   "metadata": {
    "execution": {
     "iopub.execute_input": "2023-11-14T23:37:33.327653Z",
     "iopub.status.busy": "2023-11-14T23:37:33.327226Z",
     "iopub.status.idle": "2023-11-14T23:37:33.332934Z",
     "shell.execute_reply": "2023-11-14T23:37:33.332410Z"
    },
    "papermill": {
     "duration": 0.010073,
     "end_time": "2023-11-14T23:37:33.334295",
     "exception": false,
     "start_time": "2023-11-14T23:37:33.324222",
     "status": "completed"
    },
    "tags": []
   },
   "outputs": [],
   "source": [
    "data[\n",
    "    ['name','start_date','end_date','ward_code']\n",
    "].to_csv(EVENTS_DATA, index=False)"
   ]
  },
  {
   "cell_type": "markdown",
   "id": "71e3a559",
   "metadata": {
    "papermill": {
     "duration": 0.002241,
     "end_time": "2023-11-14T23:37:33.338837",
     "exception": false,
     "start_time": "2023-11-14T23:37:33.336596",
     "status": "completed"
    },
    "tags": []
   },
   "source": [
    "Print out missing postcode data"
   ]
  },
  {
   "cell_type": "code",
   "execution_count": 9,
   "id": "a61769a3",
   "metadata": {
    "execution": {
     "iopub.execute_input": "2023-11-14T23:37:33.344546Z",
     "iopub.status.busy": "2023-11-14T23:37:33.344121Z",
     "iopub.status.idle": "2023-11-14T23:37:33.355790Z",
     "shell.execute_reply": "2023-11-14T23:37:33.355247Z"
    },
    "papermill": {
     "duration": 0.015961,
     "end_time": "2023-11-14T23:37:33.357085",
     "exception": false,
     "start_time": "2023-11-14T23:37:33.341124",
     "status": "completed"
    },
    "tags": []
   },
   "outputs": [
    {
     "data": {
      "text/html": [
       "<div>\n",
       "<style scoped>\n",
       "    .dataframe tbody tr th:only-of-type {\n",
       "        vertical-align: middle;\n",
       "    }\n",
       "\n",
       "    .dataframe tbody tr th {\n",
       "        vertical-align: top;\n",
       "    }\n",
       "\n",
       "    .dataframe thead th {\n",
       "        text-align: right;\n",
       "    }\n",
       "</style>\n",
       "<table border=\"1\" class=\"dataframe\">\n",
       "  <thead>\n",
       "    <tr style=\"text-align: right;\">\n",
       "      <th></th>\n",
       "      <th>name</th>\n",
       "      <th>start_date</th>\n",
       "    </tr>\n",
       "  </thead>\n",
       "  <tbody>\n",
       "    <tr>\n",
       "      <th>1</th>\n",
       "      <td>East Street Arts, A City Less Grey 2022</td>\n",
       "      <td>2022-10-08</td>\n",
       "    </tr>\n",
       "    <tr>\n",
       "      <th>3</th>\n",
       "      <td>Phoenix Dance Theatre Virtual Gallery</td>\n",
       "      <td>2023-01-01</td>\n",
       "    </tr>\n",
       "    <tr>\n",
       "      <th>4</th>\n",
       "      <td>The Big Art Giveaway, School of Creative Arts ...</td>\n",
       "      <td>2023-01-01</td>\n",
       "    </tr>\n",
       "    <tr>\n",
       "      <th>5</th>\n",
       "      <td>Embassy of Netherlands, Meet Leeds Lab</td>\n",
       "      <td>2023-01-16</td>\n",
       "    </tr>\n",
       "    <tr>\n",
       "      <th>6</th>\n",
       "      <td>Shifting Borders: A Journey to the Centre of o...</td>\n",
       "      <td>2023-01-24</td>\n",
       "    </tr>\n",
       "    <tr>\n",
       "      <th>...</th>\n",
       "      <td>...</td>\n",
       "      <td>...</td>\n",
       "    </tr>\n",
       "    <tr>\n",
       "      <th>281</th>\n",
       "      <td>Dual Language, Story &amp; Rhyme</td>\n",
       "      <td>2023-11-13</td>\n",
       "    </tr>\n",
       "    <tr>\n",
       "      <th>282</th>\n",
       "      <td>Leeds Language Week: El cuento de Babel (The T...</td>\n",
       "      <td>2023-11-13</td>\n",
       "    </tr>\n",
       "    <tr>\n",
       "      <th>283</th>\n",
       "      <td>Leeds Language Week: Taster Workshops</td>\n",
       "      <td>2023-11-13</td>\n",
       "    </tr>\n",
       "    <tr>\n",
       "      <th>285</th>\n",
       "      <td>Leeds Language Week: Cherishing and Maintainin...</td>\n",
       "      <td>2023-11-14</td>\n",
       "    </tr>\n",
       "    <tr>\n",
       "      <th>286</th>\n",
       "      <td>Leeds Language Week: Teacher CPD: Linguistic D...</td>\n",
       "      <td>2023-11-14</td>\n",
       "    </tr>\n",
       "  </tbody>\n",
       "</table>\n",
       "<p>111 rows × 2 columns</p>\n",
       "</div>"
      ],
      "text/plain": [
       "                                                  name start_date\n",
       "1              East Street Arts, A City Less Grey 2022 2022-10-08\n",
       "3                Phoenix Dance Theatre Virtual Gallery 2023-01-01\n",
       "4    The Big Art Giveaway, School of Creative Arts ... 2023-01-01\n",
       "5               Embassy of Netherlands, Meet Leeds Lab 2023-01-16\n",
       "6    Shifting Borders: A Journey to the Centre of o... 2023-01-24\n",
       "..                                                 ...        ...\n",
       "281                      Dual Language, Story & Rhyme  2023-11-13\n",
       "282  Leeds Language Week: El cuento de Babel (The T... 2023-11-13\n",
       "283              Leeds Language Week: Taster Workshops 2023-11-13\n",
       "285  Leeds Language Week: Cherishing and Maintainin... 2023-11-14\n",
       "286  Leeds Language Week: Teacher CPD: Linguistic D... 2023-11-14\n",
       "\n",
       "[111 rows x 2 columns]"
      ]
     },
     "execution_count": 9,
     "metadata": {},
     "output_type": "execute_result"
    }
   ],
   "source": [
    "data[data.postcode.isna()][[\n",
    "    'name', 'start_date'\n",
    "]]"
   ]
  },
  {
   "cell_type": "markdown",
   "id": "c7d69b0f",
   "metadata": {
    "papermill": {
     "duration": 0.002462,
     "end_time": "2023-11-14T23:37:33.362173",
     "exception": false,
     "start_time": "2023-11-14T23:37:33.359711",
     "status": "completed"
    },
    "tags": []
   },
   "source": [
    "Plot the pricing"
   ]
  },
  {
   "cell_type": "code",
   "execution_count": 10,
   "id": "94b46b22",
   "metadata": {
    "execution": {
     "iopub.execute_input": "2023-11-14T23:37:33.368359Z",
     "iopub.status.busy": "2023-11-14T23:37:33.367918Z",
     "iopub.status.idle": "2023-11-14T23:37:33.837813Z",
     "shell.execute_reply": "2023-11-14T23:37:33.837057Z"
    },
    "papermill": {
     "duration": 0.474483,
     "end_time": "2023-11-14T23:37:33.839181",
     "exception": false,
     "start_time": "2023-11-14T23:37:33.364698",
     "status": "completed"
    },
    "tags": []
   },
   "outputs": [
    {
     "data": {
      "image/png": "[encoded data removed]",
      "text/plain": [
       "<Figure size 640x480 with 1 Axes>"
      ]
     },
     "metadata": {},
     "output_type": "display_data"
    }
   ],
   "source": [
    "# .groupby('pricing').count().plot.barh()\n",
    "pricing = data.pricing.fillna('Unspecified').str.replace('[\\[\\'\\]]', '', regex=True).to_frame().reset_index().groupby('pricing').count()\n",
    "\n",
    "pricing.columns = ['count']\n",
    "plot = pricing.plot.barh()\n"
   ]
  },
  {
   "cell_type": "code",
   "execution_count": null,
   "id": "36aeb638",
   "metadata": {
    "papermill": {
     "duration": 0.002828,
     "end_time": "2023-11-14T23:37:33.845159",
     "exception": false,
     "start_time": "2023-11-14T23:37:33.842331",
     "status": "completed"
    },
    "tags": []
   },
   "outputs": [],
   "source": []
  }
 ],
 "metadata": {
  "kernelspec": {
   "display_name": "leeds-2023-YZF5GfJv",
   "language": "python",
   "name": "python3"
  },
  "language_info": {
   "codemirror_mode": {
    "name": "ipython",
    "version": 3
   },
   "file_extension": ".py",
   "mimetype": "text/x-python",
   "name": "python",
   "nbconvert_exporter": "python",
   "pygments_lexer": "ipython3",
   "version": "3.10.13"
  },
  "papermill": {
   "default_parameters": {},
   "duration": 10.265579,
   "end_time": "2023-11-14T23:37:34.165471",
   "environment_variables": {},
   "exception": null,
   "input_path": "transform.ipynb",
   "output_path": "../../../working/output/partner-events-transform.ipynb",
   "parameters": {},
   "start_time": "2023-11-14T23:37:23.899892",
   "version": "2.4.0"
  }
 },
 "nbformat": 4,
 "nbformat_minor": 5
}