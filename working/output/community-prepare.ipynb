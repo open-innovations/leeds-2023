{
 "cells": [
  {
   "cell_type": "code",
   "execution_count": 1,
   "id": "7884b3c6",
   "metadata": {
    "execution": {
     "iopub.execute_input": "2023-09-21T23:41:08.666491Z",
     "iopub.status.busy": "2023-09-21T23:41:08.665885Z",
     "iopub.status.idle": "2023-09-21T23:41:08.942246Z",
     "shell.execute_reply": "2023-09-21T23:41:08.941503Z"
    },
    "papermill": {
     "duration": 0.282833,
     "end_time": "2023-09-21T23:41:08.944674",
     "exception": false,
     "start_time": "2023-09-21T23:41:08.661841",
     "status": "completed"
    },
    "tags": []
   },
   "outputs": [],
   "source": [
    "import os, sys\n",
    "TOP_DIR = os.path.realpath('../../..')\n",
    "if TOP_DIR not in sys.path: sys.path.append(TOP_DIR)\n",
    "import pandas as pd"
   ]
  },
  {
   "cell_type": "code",
   "execution_count": 2,
   "id": "8b3fea96",
   "metadata": {
    "execution": {
     "iopub.execute_input": "2023-09-21T23:41:08.950653Z",
     "iopub.status.busy": "2023-09-21T23:41:08.949891Z",
     "iopub.status.idle": "2023-09-21T23:41:08.954683Z",
     "shell.execute_reply": "2023-09-21T23:41:08.954051Z"
    },
    "papermill": {
     "duration": 0.009437,
     "end_time": "2023-09-21T23:41:08.956259",
     "exception": false,
     "start_time": "2023-09-21T23:41:08.946822",
     "status": "completed"
    },
    "tags": []
   },
   "outputs": [],
   "source": [
    "from lib.util.convert import named_cumulative_sum"
   ]
  },
  {
   "cell_type": "code",
   "execution_count": 3,
   "id": "f35cf7fe",
   "metadata": {
    "execution": {
     "iopub.execute_input": "2023-09-21T23:41:08.961380Z",
     "iopub.status.busy": "2023-09-21T23:41:08.960796Z",
     "iopub.status.idle": "2023-09-21T23:41:08.971875Z",
     "shell.execute_reply": "2023-09-21T23:41:08.971218Z"
    },
    "papermill": {
     "duration": 0.015383,
     "end_time": "2023-09-21T23:41:08.973468",
     "exception": false,
     "start_time": "2023-09-21T23:41:08.958085",
     "status": "completed"
    },
    "tags": []
   },
   "outputs": [],
   "source": [
    "data = pd.read_csv('../../../data/metrics/community/events.csv', parse_dates=['start_date'])\n",
    "data.ward_code = data.ward_code.fillna('UNKNOWN')"
   ]
  },
  {
   "cell_type": "markdown",
   "id": "2943f888",
   "metadata": {
    "papermill": {
     "duration": 0.001832,
     "end_time": "2023-09-21T23:41:08.977168",
     "exception": false,
     "start_time": "2023-09-21T23:41:08.975336",
     "status": "completed"
    },
    "tags": []
   },
   "source": [
    "Set up output directories"
   ]
  },
  {
   "cell_type": "code",
   "execution_count": 4,
   "id": "9804d863",
   "metadata": {
    "execution": {
     "iopub.execute_input": "2023-09-21T23:41:08.982165Z",
     "iopub.status.busy": "2023-09-21T23:41:08.981525Z",
     "iopub.status.idle": "2023-09-21T23:41:08.985231Z",
     "shell.execute_reply": "2023-09-21T23:41:08.984523Z"
    },
    "papermill": {
     "duration": 0.008111,
     "end_time": "2023-09-21T23:41:08.986994",
     "exception": false,
     "start_time": "2023-09-21T23:41:08.978883",
     "status": "completed"
    },
    "tags": []
   },
   "outputs": [],
   "source": [
    "OUT_DIR = '../../../docs/metrics/community/_data'\n",
    "os.makedirs(OUT_DIR, exist_ok=True)"
   ]
  },
  {
   "cell_type": "code",
   "execution_count": 5,
   "id": "87ea2f4a",
   "metadata": {
    "execution": {
     "iopub.execute_input": "2023-09-21T23:41:08.992075Z",
     "iopub.status.busy": "2023-09-21T23:41:08.991471Z",
     "iopub.status.idle": "2023-09-21T23:41:08.998997Z",
     "shell.execute_reply": "2023-09-21T23:41:08.998301Z"
    },
    "papermill": {
     "duration": 0.011751,
     "end_time": "2023-09-21T23:41:09.000572",
     "exception": false,
     "start_time": "2023-09-21T23:41:08.988821",
     "status": "completed"
    },
    "tags": []
   },
   "outputs": [],
   "source": [
    "pd.Series({\n",
    "  'events': data.event_name.count(),\n",
    "  'audience': data.audience.sum().astype(int),\n",
    "  'errors': {\n",
    "    'missing_wards': (data.ward_code == 'UNKNOWN').value_counts()[True],\n",
    "    'missing_audience': data.audience.isna().value_counts()[True],\n",
    "    'zero_audience':  (data.audience < 1).value_counts()[True],  \n",
    "  }\n",
    "}).to_json(os.path.join(OUT_DIR, 'headlines.json'), indent=2)"
   ]
  },
  {
   "cell_type": "code",
   "execution_count": 6,
   "id": "b12bf088",
   "metadata": {
    "execution": {
     "iopub.execute_input": "2023-09-21T23:41:09.005903Z",
     "iopub.status.busy": "2023-09-21T23:41:09.005299Z",
     "iopub.status.idle": "2023-09-21T23:41:09.013116Z",
     "shell.execute_reply": "2023-09-21T23:41:09.012452Z"
    },
    "papermill": {
     "duration": 0.012341,
     "end_time": "2023-09-21T23:41:09.014841",
     "exception": false,
     "start_time": "2023-09-21T23:41:09.002500",
     "status": "completed"
    },
    "tags": []
   },
   "outputs": [],
   "source": [
    "by_ward = pd.DataFrame({\n",
    "  'events': data.groupby('ward_code').event_name.count().fillna(0).astype('int'),\n",
    "  'audience': data.groupby('ward_code').audience.sum().fillna(0).astype('int'),\n",
    "}).to_csv(os.path.join(OUT_DIR, 'by_ward.csv'))"
   ]
  },
  {
   "cell_type": "code",
   "execution_count": 7,
   "id": "461b9764",
   "metadata": {
    "execution": {
     "iopub.execute_input": "2023-09-21T23:41:09.020209Z",
     "iopub.status.busy": "2023-09-21T23:41:09.019741Z",
     "iopub.status.idle": "2023-09-21T23:41:09.032734Z",
     "shell.execute_reply": "2023-09-21T23:41:09.032035Z"
    },
    "papermill": {
     "duration": 0.017508,
     "end_time": "2023-09-21T23:41:09.034369",
     "exception": false,
     "start_time": "2023-09-21T23:41:09.016861",
     "status": "completed"
    },
    "tags": []
   },
   "outputs": [],
   "source": [
    "by_date = pd.DataFrame({\n",
    "    'events': data.groupby('start_date').event_name.count(),\n",
    "    'audience': data.groupby('start_date').audience.sum(),\n",
    "}).resample('M').sum()\n",
    "\n",
    "pd.concat([\n",
    "    by_date,\n",
    "    by_date.pipe(named_cumulative_sum)\n",
    "], axis=1).astype('int').to_csv(os.path.join(OUT_DIR, 'by_date.csv'))"
   ]
  }
 ],
 "metadata": {
  "kernelspec": {
   "display_name": "leeds-2023-YZF5GfJv",
   "language": "python",
   "name": "python3"
  },
  "language_info": {
   "codemirror_mode": {
    "name": "ipython",
    "version": 3
   },
   "file_extension": ".py",
   "mimetype": "text/x-python",
   "name": "python",
   "nbconvert_exporter": "python",
   "pygments_lexer": "ipython3",
   "version": "3.10.13"
  },
  "papermill": {
   "default_parameters": {},
   "duration": 2.295825,
   "end_time": "2023-09-21T23:41:09.354728",
   "environment_variables": {},
   "exception": null,
   "input_path": "prepare.ipynb",
   "output_path": "../../../working/output/community-prepare.ipynb",
   "parameters": {},
   "start_time": "2023-09-21T23:41:07.058903",
   "version": "2.4.0"
  }
 },
 "nbformat": 4,
 "nbformat_minor": 5
}