{
 "cells": [
  {
   "cell_type": "code",
   "execution_count": 1,
   "id": "2ed84e4b",
   "metadata": {
    "execution": {
     "iopub.execute_input": "2023-07-16T23:37:30.509480Z",
     "iopub.status.busy": "2023-07-16T23:37:30.508798Z",
     "iopub.status.idle": "2023-07-16T23:37:30.734949Z",
     "shell.execute_reply": "2023-07-16T23:37:30.734335Z"
    },
    "papermill": {
     "duration": 0.23155,
     "end_time": "2023-07-16T23:37:30.736599",
     "exception": false,
     "start_time": "2023-07-16T23:37:30.505049",
     "status": "completed"
    },
    "tags": []
   },
   "outputs": [],
   "source": [
    "import os\n",
    "import sys\n",
    "import pandas as pd\n",
    "lib_dir = os.path.realpath('../../../lib/')\n",
    "if lib_dir not in sys.path: sys.path.append(lib_dir)"
   ]
  },
  {
   "cell_type": "code",
   "execution_count": 2,
   "id": "38c1f294",
   "metadata": {
    "execution": {
     "iopub.execute_input": "2023-07-16T23:37:30.742961Z",
     "iopub.status.busy": "2023-07-16T23:37:30.742335Z",
     "iopub.status.idle": "2023-07-16T23:37:39.001306Z",
     "shell.execute_reply": "2023-07-16T23:37:39.000685Z"
    },
    "papermill": {
     "duration": 8.263987,
     "end_time": "2023-07-16T23:37:39.003111",
     "exception": false,
     "start_time": "2023-07-16T23:37:30.739124",
     "status": "completed"
    },
    "tags": []
   },
   "outputs": [],
   "source": [
    "import util.geo"
   ]
  },
  {
   "cell_type": "code",
   "execution_count": 3,
   "id": "cbc8e4c9",
   "metadata": {
    "execution": {
     "iopub.execute_input": "2023-07-16T23:37:39.009454Z",
     "iopub.status.busy": "2023-07-16T23:37:39.009000Z",
     "iopub.status.idle": "2023-07-16T23:37:39.012246Z",
     "shell.execute_reply": "2023-07-16T23:37:39.011649Z"
    },
    "papermill": {
     "duration": 0.007975,
     "end_time": "2023-07-16T23:37:39.013635",
     "exception": false,
     "start_time": "2023-07-16T23:37:39.005660",
     "status": "completed"
    },
    "tags": []
   },
   "outputs": [],
   "source": [
    "EVENTS_RAW_DATA = '../../../working/metrics/partner-events/events.csv'\n",
    "DATA_DIR = '../../../data/metrics/events/partner-events/'\n",
    "EVENTS_DATA = os.path.join(DATA_DIR, 'events.csv')"
   ]
  },
  {
   "cell_type": "code",
   "execution_count": 4,
   "id": "affa3c32",
   "metadata": {
    "execution": {
     "iopub.execute_input": "2023-07-16T23:37:39.019162Z",
     "iopub.status.busy": "2023-07-16T23:37:39.018674Z",
     "iopub.status.idle": "2023-07-16T23:37:39.022191Z",
     "shell.execute_reply": "2023-07-16T23:37:39.021610Z"
    },
    "papermill": {
     "duration": 0.007655,
     "end_time": "2023-07-16T23:37:39.023449",
     "exception": false,
     "start_time": "2023-07-16T23:37:39.015794",
     "status": "completed"
    },
    "tags": []
   },
   "outputs": [],
   "source": [
    "columns = {\n",
    "    'Event Name': 'name',\n",
    "    'Event Start Date': 'start_date',\n",
    "    'Event End Date': 'end_date',\n",
    "    'Partner/Promote': 'partner_promote',\n",
    "    'Stage': 'stage',\n",
    "    'Live date': 'live_date',\n",
    "    'Venue postcode': 'postcode',\n",
    "    'Pricing Policy': 'pricing',\n",
    "    'Venue - including address': 'venue',\n",
    "    'Is this event on Leeds Inspried?': 'on_leeds_inspired',\n",
    "}"
   ]
  },
  {
   "cell_type": "markdown",
   "id": "ded08123",
   "metadata": {
    "papermill": {
     "duration": 0.002188,
     "end_time": "2023-07-16T23:37:39.027845",
     "exception": false,
     "start_time": "2023-07-16T23:37:39.025657",
     "status": "completed"
    },
    "tags": []
   },
   "source": [
    "Load the data and rename columns. Parse the dates to dates."
   ]
  },
  {
   "cell_type": "code",
   "execution_count": 5,
   "id": "31e87527",
   "metadata": {
    "execution": {
     "iopub.execute_input": "2023-07-16T23:37:39.033534Z",
     "iopub.status.busy": "2023-07-16T23:37:39.032896Z",
     "iopub.status.idle": "2023-07-16T23:37:39.043035Z",
     "shell.execute_reply": "2023-07-16T23:37:39.042563Z"
    },
    "papermill": {
     "duration": 0.014155,
     "end_time": "2023-07-16T23:37:39.044196",
     "exception": false,
     "start_time": "2023-07-16T23:37:39.030041",
     "status": "completed"
    },
    "tags": []
   },
   "outputs": [],
   "source": [
    "data = pd.read_csv(EVENTS_RAW_DATA)[columns.keys()].rename(columns=columns)\n",
    "data.start_date = pd.to_datetime(data.start_date, errors='coerce')\n",
    "data.end_date = pd.to_datetime(data.end_date, errors='coerce')"
   ]
  },
  {
   "cell_type": "markdown",
   "id": "4c1b340c",
   "metadata": {
    "papermill": {
     "duration": 0.002167,
     "end_time": "2023-07-16T23:37:39.048631",
     "exception": false,
     "start_time": "2023-07-16T23:37:39.046464",
     "status": "completed"
    },
    "tags": []
   },
   "source": [
    "Filter data by not LI Pull through and start date before now"
   ]
  },
  {
   "cell_type": "code",
   "execution_count": 6,
   "id": "a5a14174",
   "metadata": {
    "execution": {
     "iopub.execute_input": "2023-07-16T23:37:39.054288Z",
     "iopub.status.busy": "2023-07-16T23:37:39.053871Z",
     "iopub.status.idle": "2023-07-16T23:37:39.058450Z",
     "shell.execute_reply": "2023-07-16T23:37:39.057974Z"
    },
    "papermill": {
     "duration": 0.008693,
     "end_time": "2023-07-16T23:37:39.059601",
     "exception": false,
     "start_time": "2023-07-16T23:37:39.050908",
     "status": "completed"
    },
    "tags": []
   },
   "outputs": [],
   "source": [
    "data = data[\n",
    "    # (data.live_date == 'This event is live ') &\n",
    "    ((data.stage != 'LI pull through') & data.stage.notna()) &\n",
    "    (data.start_date < pd.Timestamp.now())\n",
    "]"
   ]
  },
  {
   "cell_type": "code",
   "execution_count": 7,
   "id": "fda54384",
   "metadata": {
    "execution": {
     "iopub.execute_input": "2023-07-16T23:37:39.065335Z",
     "iopub.status.busy": "2023-07-16T23:37:39.064792Z",
     "iopub.status.idle": "2023-07-16T23:37:40.012009Z",
     "shell.execute_reply": "2023-07-16T23:37:40.011404Z"
    },
    "papermill": {
     "duration": 0.951843,
     "end_time": "2023-07-16T23:37:40.013714",
     "exception": false,
     "start_time": "2023-07-16T23:37:39.061871",
     "status": "completed"
    },
    "tags": []
   },
   "outputs": [],
   "source": [
    "data['ward_code'] = data.postcode.pipe(util.geo.postcode_formatter).map(util.geo.postcode_to_ward_code)\n",
    "data['ward_name'] = data.ward_code.pipe(util.geo.ward_code_to_name)"
   ]
  },
  {
   "cell_type": "markdown",
   "id": "ce070031",
   "metadata": {
    "papermill": {
     "duration": 0.002436,
     "end_time": "2023-07-16T23:37:40.018717",
     "exception": false,
     "start_time": "2023-07-16T23:37:40.016281",
     "status": "completed"
    },
    "tags": []
   },
   "source": [
    "Save the file"
   ]
  },
  {
   "cell_type": "code",
   "execution_count": 8,
   "id": "84515a82",
   "metadata": {
    "execution": {
     "iopub.execute_input": "2023-07-16T23:37:40.024619Z",
     "iopub.status.busy": "2023-07-16T23:37:40.024060Z",
     "iopub.status.idle": "2023-07-16T23:37:40.029969Z",
     "shell.execute_reply": "2023-07-16T23:37:40.029417Z"
    },
    "papermill": {
     "duration": 0.010415,
     "end_time": "2023-07-16T23:37:40.031424",
     "exception": false,
     "start_time": "2023-07-16T23:37:40.021009",
     "status": "completed"
    },
    "tags": []
   },
   "outputs": [],
   "source": [
    "data[\n",
    "    ['name','start_date','end_date','ward_code']\n",
    "].to_csv(EVENTS_DATA, index=False)"
   ]
  },
  {
   "cell_type": "markdown",
   "id": "661fa06a",
   "metadata": {
    "papermill": {
     "duration": 0.002244,
     "end_time": "2023-07-16T23:37:40.036015",
     "exception": false,
     "start_time": "2023-07-16T23:37:40.033771",
     "status": "completed"
    },
    "tags": []
   },
   "source": [
    "Print out missing postcode data"
   ]
  },
  {
   "cell_type": "code",
   "execution_count": 9,
   "id": "fb5640d0",
   "metadata": {
    "execution": {
     "iopub.execute_input": "2023-07-16T23:37:40.041581Z",
     "iopub.status.busy": "2023-07-16T23:37:40.041372Z",
     "iopub.status.idle": "2023-07-16T23:37:40.052389Z",
     "shell.execute_reply": "2023-07-16T23:37:40.051820Z"
    },
    "papermill": {
     "duration": 0.015522,
     "end_time": "2023-07-16T23:37:40.053913",
     "exception": false,
     "start_time": "2023-07-16T23:37:40.038391",
     "status": "completed"
    },
    "tags": []
   },
   "outputs": [
    {
     "data": {
      "text/html": [
       "<div>\n",
       "<style scoped>\n",
       "    .dataframe tbody tr th:only-of-type {\n",
       "        vertical-align: middle;\n",
       "    }\n",
       "\n",
       "    .dataframe tbody tr th {\n",
       "        vertical-align: top;\n",
       "    }\n",
       "\n",
       "    .dataframe thead th {\n",
       "        text-align: right;\n",
       "    }\n",
       "</style>\n",
       "<table border=\"1\" class=\"dataframe\">\n",
       "  <thead>\n",
       "    <tr style=\"text-align: right;\">\n",
       "      <th></th>\n",
       "      <th>name</th>\n",
       "      <th>start_date</th>\n",
       "    </tr>\n",
       "  </thead>\n",
       "  <tbody>\n",
       "    <tr>\n",
       "      <th>3</th>\n",
       "      <td>Phoenix Dance Theatre Virtual Gallery</td>\n",
       "      <td>2023-01-01</td>\n",
       "    </tr>\n",
       "    <tr>\n",
       "      <th>4</th>\n",
       "      <td>The Big Art Giveaway, School of Creative Arts ...</td>\n",
       "      <td>2023-01-01</td>\n",
       "    </tr>\n",
       "    <tr>\n",
       "      <th>6</th>\n",
       "      <td>Shifting Borders: A Journey to the Centre of o...</td>\n",
       "      <td>2023-01-24</td>\n",
       "    </tr>\n",
       "    <tr>\n",
       "      <th>13</th>\n",
       "      <td>Leeds Lit Fest 2023</td>\n",
       "      <td>2023-02-25</td>\n",
       "    </tr>\n",
       "    <tr>\n",
       "      <th>45</th>\n",
       "      <td>Jamica Society Leeds, Out of Many Festival - T...</td>\n",
       "      <td>2023-05-01</td>\n",
       "    </tr>\n",
       "    <tr>\n",
       "      <th>46</th>\n",
       "      <td>Sayang, Si Polan - International residency in ...</td>\n",
       "      <td>2023-05-01</td>\n",
       "    </tr>\n",
       "    <tr>\n",
       "      <th>65</th>\n",
       "      <td>Leeds Jazz Festival 2023</td>\n",
       "      <td>2023-05-25</td>\n",
       "    </tr>\n",
       "    <tr>\n",
       "      <th>81</th>\n",
       "      <td>Keira Martin, Queenie and the Pooka (Performan...</td>\n",
       "      <td>2023-06-05</td>\n",
       "    </tr>\n",
       "    <tr>\n",
       "      <th>82</th>\n",
       "      <td>My LEEDS Summer: Kirkstall Makes + Moves</td>\n",
       "      <td>2023-06-11</td>\n",
       "    </tr>\n",
       "    <tr>\n",
       "      <th>85</th>\n",
       "      <td>My LEEDS Summer at Hunslet Festival</td>\n",
       "      <td>2023-06-17</td>\n",
       "    </tr>\n",
       "    <tr>\n",
       "      <th>86</th>\n",
       "      <td>My LEEDS Summer: Roundhay World Music &amp; Food Fest</td>\n",
       "      <td>2023-06-17</td>\n",
       "    </tr>\n",
       "    <tr>\n",
       "      <th>95</th>\n",
       "      <td>My LEEDS Summer: Beeston Festival</td>\n",
       "      <td>2023-06-24</td>\n",
       "    </tr>\n",
       "    <tr>\n",
       "      <th>96</th>\n",
       "      <td>My LEEDS Summer: Crossgates and Whinmoor - Pas...</td>\n",
       "      <td>2023-06-24</td>\n",
       "    </tr>\n",
       "    <tr>\n",
       "      <th>97</th>\n",
       "      <td>My LEEDS Summer: Picnic in the Park</td>\n",
       "      <td>2023-06-24</td>\n",
       "    </tr>\n",
       "    <tr>\n",
       "      <th>100</th>\n",
       "      <td>Becoming the Brontës</td>\n",
       "      <td>2023-06-29</td>\n",
       "    </tr>\n",
       "    <tr>\n",
       "      <th>107</th>\n",
       "      <td>My LEEDS Summer: Wetherby Drovers Day</td>\n",
       "      <td>2023-07-01</td>\n",
       "    </tr>\n",
       "    <tr>\n",
       "      <th>108</th>\n",
       "      <td>My Leeds Summer : Walk of Art</td>\n",
       "      <td>2023-07-01</td>\n",
       "    </tr>\n",
       "    <tr>\n",
       "      <th>111</th>\n",
       "      <td>My LEEDS Summer: The Feast</td>\n",
       "      <td>2023-07-02</td>\n",
       "    </tr>\n",
       "    <tr>\n",
       "      <th>112</th>\n",
       "      <td>My LEEDS summer: Celebration Day</td>\n",
       "      <td>2023-07-02</td>\n",
       "    </tr>\n",
       "    <tr>\n",
       "      <th>120</th>\n",
       "      <td>My LEEDS Summer : Wonderful Workshops and Cele...</td>\n",
       "      <td>2023-07-06</td>\n",
       "    </tr>\n",
       "    <tr>\n",
       "      <th>128</th>\n",
       "      <td>My LEEDS Summer: The Gipton and Harehills Crea...</td>\n",
       "      <td>2023-07-08</td>\n",
       "    </tr>\n",
       "    <tr>\n",
       "      <th>130</th>\n",
       "      <td>My LEEDS Summer: Ardsley &amp; Robin Hood: Celebra...</td>\n",
       "      <td>2023-07-09</td>\n",
       "    </tr>\n",
       "    <tr>\n",
       "      <th>133</th>\n",
       "      <td>My LEEDS Summer: The Big Summer Picnic</td>\n",
       "      <td>2023-07-09</td>\n",
       "    </tr>\n",
       "    <tr>\n",
       "      <th>136</th>\n",
       "      <td>My LEEDS Summer: Ralph Thoresby Summer Festival</td>\n",
       "      <td>2023-07-15</td>\n",
       "    </tr>\n",
       "  </tbody>\n",
       "</table>\n",
       "</div>"
      ],
      "text/plain": [
       "                                                  name start_date\n",
       "3                Phoenix Dance Theatre Virtual Gallery 2023-01-01\n",
       "4    The Big Art Giveaway, School of Creative Arts ... 2023-01-01\n",
       "6    Shifting Borders: A Journey to the Centre of o... 2023-01-24\n",
       "13                                 Leeds Lit Fest 2023 2023-02-25\n",
       "45   Jamica Society Leeds, Out of Many Festival - T... 2023-05-01\n",
       "46   Sayang, Si Polan - International residency in ... 2023-05-01\n",
       "65                            Leeds Jazz Festival 2023 2023-05-25\n",
       "81   Keira Martin, Queenie and the Pooka (Performan... 2023-06-05\n",
       "82            My LEEDS Summer: Kirkstall Makes + Moves 2023-06-11\n",
       "85                 My LEEDS Summer at Hunslet Festival 2023-06-17\n",
       "86   My LEEDS Summer: Roundhay World Music & Food Fest 2023-06-17\n",
       "95                   My LEEDS Summer: Beeston Festival 2023-06-24\n",
       "96   My LEEDS Summer: Crossgates and Whinmoor - Pas... 2023-06-24\n",
       "97                 My LEEDS Summer: Picnic in the Park 2023-06-24\n",
       "100                               Becoming the Brontës 2023-06-29\n",
       "107              My LEEDS Summer: Wetherby Drovers Day 2023-07-01\n",
       "108                      My Leeds Summer : Walk of Art 2023-07-01\n",
       "111                         My LEEDS Summer: The Feast 2023-07-02\n",
       "112                   My LEEDS summer: Celebration Day 2023-07-02\n",
       "120  My LEEDS Summer : Wonderful Workshops and Cele... 2023-07-06\n",
       "128  My LEEDS Summer: The Gipton and Harehills Crea... 2023-07-08\n",
       "130  My LEEDS Summer: Ardsley & Robin Hood: Celebra... 2023-07-09\n",
       "133             My LEEDS Summer: The Big Summer Picnic 2023-07-09\n",
       "136    My LEEDS Summer: Ralph Thoresby Summer Festival 2023-07-15"
      ]
     },
     "execution_count": 9,
     "metadata": {},
     "output_type": "execute_result"
    }
   ],
   "source": [
    "data[data.postcode.isna()][[\n",
    "    'name', 'start_date'\n",
    "]]"
   ]
  },
  {
   "cell_type": "markdown",
   "id": "5604d4f8",
   "metadata": {
    "papermill": {
     "duration": 0.002583,
     "end_time": "2023-07-16T23:37:40.059182",
     "exception": false,
     "start_time": "2023-07-16T23:37:40.056599",
     "status": "completed"
    },
    "tags": []
   },
   "source": [
    "Plot the pricing"
   ]
  },
  {
   "cell_type": "code",
   "execution_count": 10,
   "id": "188fa1cb",
   "metadata": {
    "execution": {
     "iopub.execute_input": "2023-07-16T23:37:40.066326Z",
     "iopub.status.busy": "2023-07-16T23:37:40.065707Z",
     "iopub.status.idle": "2023-07-16T23:37:40.877554Z",
     "shell.execute_reply": "2023-07-16T23:37:40.876945Z"
    },
    "papermill": {
     "duration": 0.81665,
     "end_time": "2023-07-16T23:37:40.879037",
     "exception": false,
     "start_time": "2023-07-16T23:37:40.062387",
     "status": "completed"
    },
    "tags": []
   },
   "outputs": [
    {
     "data": {
      "image/png": "[encoded data removed]",
      "text/plain": [
       "<Figure size 640x480 with 1 Axes>"
      ]
     },
     "metadata": {},
     "output_type": "display_data"
    }
   ],
   "source": [
    "# .groupby('pricing').count().plot.barh()\n",
    "pricing = data.pricing.fillna('Unspecified').str.replace('[\\[\\'\\]]', '', regex=True).to_frame().reset_index().groupby('pricing').count()\n",
    "\n",
    "pricing.columns = ['count']\n",
    "plot = pricing.plot.barh()\n"
   ]
  },
  {
   "cell_type": "code",
   "execution_count": null,
   "id": "6527f53a",
   "metadata": {
    "papermill": {
     "duration": 0.003395,
     "end_time": "2023-07-16T23:37:40.885828",
     "exception": false,
     "start_time": "2023-07-16T23:37:40.882433",
     "status": "completed"
    },
    "tags": []
   },
   "outputs": [],
   "source": []
  }
 ],
 "metadata": {
  "kernelspec": {
   "display_name": "leeds-2023-YZF5GfJv",
   "language": "python",
   "name": "python3"
  },
  "language_info": {
   "codemirror_mode": {
    "name": "ipython",
    "version": 3
   },
   "file_extension": ".py",
   "mimetype": "text/x-python",
   "name": "python",
   "nbconvert_exporter": "python",
   "pygments_lexer": "ipython3",
   "version": "3.10.6"
  },
  "papermill": {
   "default_parameters": {},
   "duration": 12.108381,
   "end_time": "2023-07-16T23:37:41.205761",
   "environment_variables": {},
   "exception": null,
   "input_path": "transform.ipynb",
   "output_path": "../../../working/output/partner-events-transform.ipynb",
   "parameters": {},
   "start_time": "2023-07-16T23:37:29.097380",
   "version": "2.4.0"
  }
 },
 "nbformat": 4,
 "nbformat_minor": 5
}