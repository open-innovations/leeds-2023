{
 "cells": [
  {
   "cell_type": "code",
   "execution_count": 1,
   "id": "9678943b",
   "metadata": {
    "execution": {
     "iopub.execute_input": "2023-12-06T23:41:25.699776Z",
     "iopub.status.busy": "2023-12-06T23:41:25.699561Z",
     "iopub.status.idle": "2023-12-06T23:41:32.965046Z",
     "shell.execute_reply": "2023-12-06T23:41:32.964352Z"
    },
    "papermill": {
     "duration": 7.270386,
     "end_time": "2023-12-06T23:41:32.966741",
     "exception": false,
     "start_time": "2023-12-06T23:41:25.696355",
     "status": "completed"
    },
    "tags": []
   },
   "outputs": [],
   "source": [
    "import os\n",
    "import pandas as pd\n",
    "from events import load_event_data, get_first_ward, normalise_ward"
   ]
  },
  {
   "cell_type": "code",
   "execution_count": 2,
   "id": "c22df237",
   "metadata": {
    "execution": {
     "iopub.execute_input": "2023-12-06T23:41:32.972142Z",
     "iopub.status.busy": "2023-12-06T23:41:32.971724Z",
     "iopub.status.idle": "2023-12-06T23:41:32.975217Z",
     "shell.execute_reply": "2023-12-06T23:41:32.974641Z"
    },
    "papermill": {
     "duration": 0.007597,
     "end_time": "2023-12-06T23:41:32.976628",
     "exception": false,
     "start_time": "2023-12-06T23:41:32.969031",
     "status": "completed"
    },
    "tags": []
   },
   "outputs": [],
   "source": [
    "latest_date = pd.Timestamp.today().ceil('D')"
   ]
  },
  {
   "cell_type": "code",
   "execution_count": 3,
   "id": "376f391c",
   "metadata": {
    "execution": {
     "iopub.execute_input": "2023-12-06T23:41:32.981408Z",
     "iopub.status.busy": "2023-12-06T23:41:32.981048Z",
     "iopub.status.idle": "2023-12-06T23:41:32.995545Z",
     "shell.execute_reply": "2023-12-06T23:41:32.995061Z"
    },
    "papermill": {
     "duration": 0.018411,
     "end_time": "2023-12-06T23:41:32.996886",
     "exception": false,
     "start_time": "2023-12-06T23:41:32.978475",
     "status": "completed"
    },
    "tags": []
   },
   "outputs": [],
   "source": [
    "tickets = pd.read_csv('../../../../data/metrics/events/tickets/orders.csv', parse_dates=['created_at', 'event_date'])\n",
    "tickets = tickets[tickets.event_date <= latest_date]"
   ]
  },
  {
   "cell_type": "code",
   "execution_count": 4,
   "id": "2c084d08",
   "metadata": {
    "execution": {
     "iopub.execute_input": "2023-12-06T23:41:33.001720Z",
     "iopub.status.busy": "2023-12-06T23:41:33.001259Z",
     "iopub.status.idle": "2023-12-06T23:41:33.051283Z",
     "shell.execute_reply": "2023-12-06T23:41:33.050711Z"
    },
    "papermill": {
     "duration": 0.05391,
     "end_time": "2023-12-06T23:41:33.052636",
     "exception": false,
     "start_time": "2023-12-06T23:41:32.998726",
     "status": "completed"
    },
    "tags": []
   },
   "outputs": [],
   "source": [
    "events = load_event_data()\n",
    "\n",
    "events = pd.concat([\n",
    "  events,\n",
    "  events.pipe(get_first_ward).pipe(normalise_ward).fillna('UNKNOWN'),\n",
    "  pd.Series(\n",
    "      events.actual_audience_size_number_of_participants_in_person + events.actual_audience_size_number_of_participants_online,\n",
    "      name='attendances'\n",
    "  )\n",
    "], axis=1).rename(columns={\n",
    "    'start_date': 'date'\n",
    "}).loc[:, ['ward_code', 'date', 'event_unique_identifier', 'attendances']]"
   ]
  },
  {
   "cell_type": "code",
   "execution_count": 5,
   "id": "3c4045e2",
   "metadata": {
    "execution": {
     "iopub.execute_input": "2023-12-06T23:41:33.057652Z",
     "iopub.status.busy": "2023-12-06T23:41:33.057121Z",
     "iopub.status.idle": "2023-12-06T23:41:33.060712Z",
     "shell.execute_reply": "2023-12-06T23:41:33.060066Z"
    },
    "papermill": {
     "duration": 0.007805,
     "end_time": "2023-12-06T23:41:33.062307",
     "exception": false,
     "start_time": "2023-12-06T23:41:33.054502",
     "status": "completed"
    },
    "tags": []
   },
   "outputs": [],
   "source": [
    "OUTPUT_DIR='../../../../docs/metrics/events/signature/_data/'\n",
    "os.makedirs(OUTPUT_DIR, exist_ok=True)"
   ]
  },
  {
   "cell_type": "markdown",
   "id": "4bbc1fde",
   "metadata": {
    "papermill": {
     "duration": 0.002857,
     "end_time": "2023-12-06T23:41:33.067990",
     "exception": false,
     "start_time": "2023-12-06T23:41:33.065133",
     "status": "completed"
    },
    "tags": []
   },
   "source": [
    "Events CSVs"
   ]
  },
  {
   "cell_type": "code",
   "execution_count": 6,
   "id": "be1c0333",
   "metadata": {
    "execution": {
     "iopub.execute_input": "2023-12-06T23:41:33.074947Z",
     "iopub.status.busy": "2023-12-06T23:41:33.074433Z",
     "iopub.status.idle": "2023-12-06T23:41:33.080541Z",
     "shell.execute_reply": "2023-12-06T23:41:33.079876Z"
    },
    "papermill": {
     "duration": 0.011232,
     "end_time": "2023-12-06T23:41:33.082139",
     "exception": false,
     "start_time": "2023-12-06T23:41:33.070907",
     "status": "completed"
    },
    "tags": []
   },
   "outputs": [],
   "source": [
    "pd.DataFrame({\n",
    "  'events': events.groupby('ward_code').event_unique_identifier.count(),\n",
    "  'attendances': events.groupby('ward_code').attendances.sum().astype(int),\n",
    "}).to_csv(os.path.join(OUTPUT_DIR, 'events_by_ward.csv'))\n"
   ]
  },
  {
   "cell_type": "code",
   "execution_count": 7,
   "id": "e056e81e",
   "metadata": {
    "execution": {
     "iopub.execute_input": "2023-12-06T23:41:33.088911Z",
     "iopub.status.busy": "2023-12-06T23:41:33.088538Z",
     "iopub.status.idle": "2023-12-06T23:41:33.096903Z",
     "shell.execute_reply": "2023-12-06T23:41:33.096216Z"
    },
    "papermill": {
     "duration": 0.013484,
     "end_time": "2023-12-06T23:41:33.098526",
     "exception": false,
     "start_time": "2023-12-06T23:41:33.085042",
     "status": "completed"
    },
    "tags": []
   },
   "outputs": [],
   "source": [
    "pd.DataFrame({\n",
    "  'events': events.groupby('date').event_unique_identifier.count(),\n",
    "  'attendances': events.groupby('date').attendances.sum().astype(int),\n",
    "}).resample('M').sum().astype(int).to_csv(os.path.join(OUTPUT_DIR, 'events_by_date.csv'))"
   ]
  },
  {
   "cell_type": "markdown",
   "id": "0686b6d7",
   "metadata": {
    "papermill": {
     "duration": 0.0039,
     "end_time": "2023-12-06T23:41:33.105458",
     "exception": false,
     "start_time": "2023-12-06T23:41:33.101558",
     "status": "completed"
    },
    "tags": []
   },
   "source": [
    "Tickets CSV"
   ]
  },
  {
   "cell_type": "code",
   "execution_count": 8,
   "id": "93d7439d",
   "metadata": {
    "execution": {
     "iopub.execute_input": "2023-12-06T23:41:33.112124Z",
     "iopub.status.busy": "2023-12-06T23:41:33.111928Z",
     "iopub.status.idle": "2023-12-06T23:41:33.119003Z",
     "shell.execute_reply": "2023-12-06T23:41:33.118405Z"
    },
    "papermill": {
     "duration": 0.012034,
     "end_time": "2023-12-06T23:41:33.120405",
     "exception": false,
     "start_time": "2023-12-06T23:41:33.108371",
     "status": "completed"
    },
    "tags": []
   },
   "outputs": [],
   "source": [
    "pd.DataFrame({\n",
    "  'orders': tickets.groupby('ward_code').number_of_tickets.count(),\n",
    "  'tickets': tickets.groupby('ward_code').number_of_tickets.sum().astype(int),\n",
    "}).to_csv(os.path.join(OUTPUT_DIR, 'tickets_by_ward.csv'))"
   ]
  },
  {
   "cell_type": "code",
   "execution_count": 9,
   "id": "ba34df09",
   "metadata": {
    "execution": {
     "iopub.execute_input": "2023-12-06T23:41:33.125634Z",
     "iopub.status.busy": "2023-12-06T23:41:33.125264Z",
     "iopub.status.idle": "2023-12-06T23:41:33.133197Z",
     "shell.execute_reply": "2023-12-06T23:41:33.132562Z"
    },
    "papermill": {
     "duration": 0.012028,
     "end_time": "2023-12-06T23:41:33.134506",
     "exception": false,
     "start_time": "2023-12-06T23:41:33.122478",
     "status": "completed"
    },
    "tags": []
   },
   "outputs": [],
   "source": [
    "pd.DataFrame({\n",
    "  'orders': tickets.groupby('event_date').number_of_tickets.count(),\n",
    "  'tickets': tickets.groupby('event_date').number_of_tickets.sum().astype(int),\n",
    "}).resample('M').sum().to_csv(os.path.join(OUTPUT_DIR, 'tickets_by_event_date.csv'))"
   ]
  },
  {
   "cell_type": "code",
   "execution_count": 10,
   "id": "0d92d388",
   "metadata": {
    "execution": {
     "iopub.execute_input": "2023-12-06T23:41:33.140563Z",
     "iopub.status.busy": "2023-12-06T23:41:33.140167Z",
     "iopub.status.idle": "2023-12-06T23:41:33.145324Z",
     "shell.execute_reply": "2023-12-06T23:41:33.144690Z"
    },
    "papermill": {
     "duration": 0.010192,
     "end_time": "2023-12-06T23:41:33.146752",
     "exception": false,
     "start_time": "2023-12-06T23:41:33.136560",
     "status": "completed"
    },
    "tags": []
   },
   "outputs": [],
   "source": [
    "pd.Series({\n",
    "    'total_events': events.event_unique_identifier.count(),\n",
    "    'total_attendances': events.attendances.count(),\n",
    "    'first_event': events.date.min(),\n",
    "    'latest_event': events.date.max(),\n",
    "    'total_ticket_orders_for_events_to_date': tickets.number_of_tickets.count(),\n",
    "    'total_tickets_sold_for_events_to_date': tickets.number_of_tickets.sum(),\n",
    "}).to_json(os.path.join(OUTPUT_DIR, 'headlines.json'), indent=2)"
   ]
  },
  {
   "cell_type": "code",
   "execution_count": null,
   "id": "f6e55c93",
   "metadata": {
    "papermill": {
     "duration": 0.001989,
     "end_time": "2023-12-06T23:41:33.150824",
     "exception": false,
     "start_time": "2023-12-06T23:41:33.148835",
     "status": "completed"
    },
    "tags": []
   },
   "outputs": [],
   "source": []
  }
 ],
 "metadata": {
  "kernelspec": {
   "display_name": "leeds-2023-YZF5GfJv",
   "language": "python",
   "name": "python3"
  },
  "language_info": {
   "codemirror_mode": {
    "name": "ipython",
    "version": 3
   },
   "file_extension": ".py",
   "mimetype": "text/x-python",
   "name": "python",
   "nbconvert_exporter": "python",
   "pygments_lexer": "ipython3",
   "version": "3.10.13"
  },
  "papermill": {
   "default_parameters": {},
   "duration": 9.013014,
   "end_time": "2023-12-06T23:41:33.471559",
   "environment_variables": {},
   "exception": null,
   "input_path": "prepare.ipynb",
   "output_path": "../../../../working/output/signature-prepare.ipynb",
   "parameters": {},
   "start_time": "2023-12-06T23:41:24.458545",
   "version": "2.4.0"
  }
 },
 "nbformat": 4,
 "nbformat_minor": 5
}