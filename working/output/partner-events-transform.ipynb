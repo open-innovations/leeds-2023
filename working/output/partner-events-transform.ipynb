{
 "cells": [
  {
   "cell_type": "code",
   "execution_count": 1,
   "id": "b846fa42",
   "metadata": {
    "execution": {
     "iopub.execute_input": "2023-11-18T23:36:42.970461Z",
     "iopub.status.busy": "2023-11-18T23:36:42.970066Z",
     "iopub.status.idle": "2023-11-18T23:36:43.212997Z",
     "shell.execute_reply": "2023-11-18T23:36:43.212410Z"
    },
    "papermill": {
     "duration": 0.248428,
     "end_time": "2023-11-18T23:36:43.214962",
     "exception": false,
     "start_time": "2023-11-18T23:36:42.966534",
     "status": "completed"
    },
    "tags": []
   },
   "outputs": [],
   "source": [
    "import os\n",
    "import sys\n",
    "import pandas as pd\n",
    "lib_dir = os.path.realpath('../../../lib/')\n",
    "if lib_dir not in sys.path: sys.path.append(lib_dir)"
   ]
  },
  {
   "cell_type": "code",
   "execution_count": 2,
   "id": "b1621b70",
   "metadata": {
    "execution": {
     "iopub.execute_input": "2023-11-18T23:36:43.220894Z",
     "iopub.status.busy": "2023-11-18T23:36:43.220449Z",
     "iopub.status.idle": "2023-11-18T23:36:50.122804Z",
     "shell.execute_reply": "2023-11-18T23:36:50.122155Z"
    },
    "papermill": {
     "duration": 6.907009,
     "end_time": "2023-11-18T23:36:50.124483",
     "exception": false,
     "start_time": "2023-11-18T23:36:43.217474",
     "status": "completed"
    },
    "tags": []
   },
   "outputs": [],
   "source": [
    "import util.geo"
   ]
  },
  {
   "cell_type": "code",
   "execution_count": 3,
   "id": "451c83d0",
   "metadata": {
    "execution": {
     "iopub.execute_input": "2023-11-18T23:36:50.130387Z",
     "iopub.status.busy": "2023-11-18T23:36:50.130003Z",
     "iopub.status.idle": "2023-11-18T23:36:50.133174Z",
     "shell.execute_reply": "2023-11-18T23:36:50.132575Z"
    },
    "papermill": {
     "duration": 0.00749,
     "end_time": "2023-11-18T23:36:50.134451",
     "exception": false,
     "start_time": "2023-11-18T23:36:50.126961",
     "status": "completed"
    },
    "tags": []
   },
   "outputs": [],
   "source": [
    "EVENTS_RAW_DATA = '../../../working/metrics/partner-events/events.csv'\n",
    "DATA_DIR = '../../../data/metrics/events/partner-events/'\n",
    "EVENTS_DATA = os.path.join(DATA_DIR, 'events.csv')"
   ]
  },
  {
   "cell_type": "code",
   "execution_count": 4,
   "id": "93645a0c",
   "metadata": {
    "execution": {
     "iopub.execute_input": "2023-11-18T23:36:50.139822Z",
     "iopub.status.busy": "2023-11-18T23:36:50.139354Z",
     "iopub.status.idle": "2023-11-18T23:36:50.142597Z",
     "shell.execute_reply": "2023-11-18T23:36:50.142091Z"
    },
    "papermill": {
     "duration": 0.007327,
     "end_time": "2023-11-18T23:36:50.143889",
     "exception": false,
     "start_time": "2023-11-18T23:36:50.136562",
     "status": "completed"
    },
    "tags": []
   },
   "outputs": [],
   "source": [
    "columns = {\n",
    "    'Event Name': 'name',\n",
    "    'Event Start Date': 'start_date',\n",
    "    'Event End Date': 'end_date',\n",
    "    'Partner/Promote': 'partner_promote',\n",
    "    'Stage': 'stage',\n",
    "    'Live date': 'live_date',\n",
    "    'Venue postcode': 'postcode',\n",
    "    'Pricing Policy': 'pricing',\n",
    "    'Venue - including address': 'venue',\n",
    "    'Is this event on Leeds Inspried?': 'on_leeds_inspired',\n",
    "}"
   ]
  },
  {
   "cell_type": "markdown",
   "id": "708ba16a",
   "metadata": {
    "papermill": {
     "duration": 0.002104,
     "end_time": "2023-11-18T23:36:50.148174",
     "exception": false,
     "start_time": "2023-11-18T23:36:50.146070",
     "status": "completed"
    },
    "tags": []
   },
   "source": [
    "Load the data and rename columns. Parse the dates to dates."
   ]
  },
  {
   "cell_type": "code",
   "execution_count": 5,
   "id": "62a557fe",
   "metadata": {
    "execution": {
     "iopub.execute_input": "2023-11-18T23:36:50.153224Z",
     "iopub.status.busy": "2023-11-18T23:36:50.152898Z",
     "iopub.status.idle": "2023-11-18T23:36:50.161858Z",
     "shell.execute_reply": "2023-11-18T23:36:50.161255Z"
    },
    "papermill": {
     "duration": 0.012805,
     "end_time": "2023-11-18T23:36:50.163082",
     "exception": false,
     "start_time": "2023-11-18T23:36:50.150277",
     "status": "completed"
    },
    "tags": []
   },
   "outputs": [],
   "source": [
    "data = pd.read_csv(EVENTS_RAW_DATA)[columns.keys()].rename(columns=columns)\n",
    "data.start_date = pd.to_datetime(data.start_date, errors='coerce')\n",
    "data.end_date = pd.to_datetime(data.end_date, errors='coerce')"
   ]
  },
  {
   "cell_type": "markdown",
   "id": "4e624942",
   "metadata": {
    "papermill": {
     "duration": 0.002069,
     "end_time": "2023-11-18T23:36:50.167296",
     "exception": false,
     "start_time": "2023-11-18T23:36:50.165227",
     "status": "completed"
    },
    "tags": []
   },
   "source": [
    "Filter data by not LI Pull through and start date before now"
   ]
  },
  {
   "cell_type": "code",
   "execution_count": 6,
   "id": "2028da2f",
   "metadata": {
    "execution": {
     "iopub.execute_input": "2023-11-18T23:36:50.173232Z",
     "iopub.status.busy": "2023-11-18T23:36:50.172893Z",
     "iopub.status.idle": "2023-11-18T23:36:50.177312Z",
     "shell.execute_reply": "2023-11-18T23:36:50.176716Z"
    },
    "papermill": {
     "duration": 0.008387,
     "end_time": "2023-11-18T23:36:50.178541",
     "exception": false,
     "start_time": "2023-11-18T23:36:50.170154",
     "status": "completed"
    },
    "tags": []
   },
   "outputs": [],
   "source": [
    "data = data[\n",
    "    # (data.live_date == 'This event is live ') &\n",
    "    ((data.stage != 'LI pull through') & data.stage.notna()) &\n",
    "    (data.start_date < pd.Timestamp.now())\n",
    "]"
   ]
  },
  {
   "cell_type": "code",
   "execution_count": 7,
   "id": "b7018794",
   "metadata": {
    "execution": {
     "iopub.execute_input": "2023-11-18T23:36:50.183782Z",
     "iopub.status.busy": "2023-11-18T23:36:50.183450Z",
     "iopub.status.idle": "2023-11-18T23:36:51.068314Z",
     "shell.execute_reply": "2023-11-18T23:36:51.067608Z"
    },
    "papermill": {
     "duration": 0.889377,
     "end_time": "2023-11-18T23:36:51.070069",
     "exception": false,
     "start_time": "2023-11-18T23:36:50.180692",
     "status": "completed"
    },
    "tags": []
   },
   "outputs": [],
   "source": [
    "data['ward_code'] = data.postcode.pipe(util.geo.postcode_formatter).map(util.geo.postcode_to_ward_code)\n",
    "data['ward_name'] = data.ward_code.pipe(util.geo.ward_code_to_name)"
   ]
  },
  {
   "cell_type": "markdown",
   "id": "c805229e",
   "metadata": {
    "papermill": {
     "duration": 0.002333,
     "end_time": "2023-11-18T23:36:51.074903",
     "exception": false,
     "start_time": "2023-11-18T23:36:51.072570",
     "status": "completed"
    },
    "tags": []
   },
   "source": [
    "Save the file"
   ]
  },
  {
   "cell_type": "code",
   "execution_count": 8,
   "id": "82e355ec",
   "metadata": {
    "execution": {
     "iopub.execute_input": "2023-11-18T23:36:51.080606Z",
     "iopub.status.busy": "2023-11-18T23:36:51.079955Z",
     "iopub.status.idle": "2023-11-18T23:36:51.086316Z",
     "shell.execute_reply": "2023-11-18T23:36:51.085705Z"
    },
    "papermill": {
     "duration": 0.010743,
     "end_time": "2023-11-18T23:36:51.087793",
     "exception": false,
     "start_time": "2023-11-18T23:36:51.077050",
     "status": "completed"
    },
    "tags": []
   },
   "outputs": [],
   "source": [
    "data[\n",
    "    ['name','start_date','end_date','ward_code']\n",
    "].to_csv(EVENTS_DATA, index=False)"
   ]
  },
  {
   "cell_type": "markdown",
   "id": "56873ab6",
   "metadata": {
    "papermill": {
     "duration": 0.002141,
     "end_time": "2023-11-18T23:36:51.092245",
     "exception": false,
     "start_time": "2023-11-18T23:36:51.090104",
     "status": "completed"
    },
    "tags": []
   },
   "source": [
    "Print out missing postcode data"
   ]
  },
  {
   "cell_type": "code",
   "execution_count": 9,
   "id": "c1c37947",
   "metadata": {
    "execution": {
     "iopub.execute_input": "2023-11-18T23:36:51.097825Z",
     "iopub.status.busy": "2023-11-18T23:36:51.097364Z",
     "iopub.status.idle": "2023-11-18T23:36:51.108901Z",
     "shell.execute_reply": "2023-11-18T23:36:51.108176Z"
    },
    "papermill": {
     "duration": 0.015711,
     "end_time": "2023-11-18T23:36:51.110205",
     "exception": false,
     "start_time": "2023-11-18T23:36:51.094494",
     "status": "completed"
    },
    "tags": []
   },
   "outputs": [
    {
     "data": {
      "text/html": [
       "<div>\n",
       "<style scoped>\n",
       "    .dataframe tbody tr th:only-of-type {\n",
       "        vertical-align: middle;\n",
       "    }\n",
       "\n",
       "    .dataframe tbody tr th {\n",
       "        vertical-align: top;\n",
       "    }\n",
       "\n",
       "    .dataframe thead th {\n",
       "        text-align: right;\n",
       "    }\n",
       "</style>\n",
       "<table border=\"1\" class=\"dataframe\">\n",
       "  <thead>\n",
       "    <tr style=\"text-align: right;\">\n",
       "      <th></th>\n",
       "      <th>name</th>\n",
       "      <th>start_date</th>\n",
       "    </tr>\n",
       "  </thead>\n",
       "  <tbody>\n",
       "    <tr>\n",
       "      <th>1</th>\n",
       "      <td>East Street Arts, A City Less Grey 2022</td>\n",
       "      <td>2022-10-08</td>\n",
       "    </tr>\n",
       "    <tr>\n",
       "      <th>3</th>\n",
       "      <td>Phoenix Dance Theatre Virtual Gallery</td>\n",
       "      <td>2023-01-01</td>\n",
       "    </tr>\n",
       "    <tr>\n",
       "      <th>4</th>\n",
       "      <td>The Big Art Giveaway, School of Creative Arts ...</td>\n",
       "      <td>2023-01-01</td>\n",
       "    </tr>\n",
       "    <tr>\n",
       "      <th>5</th>\n",
       "      <td>Embassy of Netherlands, Meet Leeds Lab</td>\n",
       "      <td>2023-01-16</td>\n",
       "    </tr>\n",
       "    <tr>\n",
       "      <th>6</th>\n",
       "      <td>Shifting Borders: A Journey to the Centre of o...</td>\n",
       "      <td>2023-01-24</td>\n",
       "    </tr>\n",
       "    <tr>\n",
       "      <th>...</th>\n",
       "      <td>...</td>\n",
       "      <td>...</td>\n",
       "    </tr>\n",
       "    <tr>\n",
       "      <th>293</th>\n",
       "      <td>Leeds Language Week: Teacher CPD: Designing CL...</td>\n",
       "      <td>2023-11-15</td>\n",
       "    </tr>\n",
       "    <tr>\n",
       "      <th>294</th>\n",
       "      <td>Leeds Language Week: Test de Nivel (Placement ...</td>\n",
       "      <td>2023-11-15</td>\n",
       "    </tr>\n",
       "    <tr>\n",
       "      <th>296</th>\n",
       "      <td>Leeds Language Week: Sentidos y Sensaciones (S...</td>\n",
       "      <td>2023-11-16</td>\n",
       "    </tr>\n",
       "    <tr>\n",
       "      <th>297</th>\n",
       "      <td>Leeds Language Week: Where Will Languages Take...</td>\n",
       "      <td>2023-11-16</td>\n",
       "    </tr>\n",
       "    <tr>\n",
       "      <th>298</th>\n",
       "      <td>afrah shafiq: st.itch</td>\n",
       "      <td>2023-11-16</td>\n",
       "    </tr>\n",
       "  </tbody>\n",
       "</table>\n",
       "<p>122 rows × 2 columns</p>\n",
       "</div>"
      ],
      "text/plain": [
       "                                                  name start_date\n",
       "1              East Street Arts, A City Less Grey 2022 2022-10-08\n",
       "3                Phoenix Dance Theatre Virtual Gallery 2023-01-01\n",
       "4    The Big Art Giveaway, School of Creative Arts ... 2023-01-01\n",
       "5               Embassy of Netherlands, Meet Leeds Lab 2023-01-16\n",
       "6    Shifting Borders: A Journey to the Centre of o... 2023-01-24\n",
       "..                                                 ...        ...\n",
       "293  Leeds Language Week: Teacher CPD: Designing CL... 2023-11-15\n",
       "294  Leeds Language Week: Test de Nivel (Placement ... 2023-11-15\n",
       "296  Leeds Language Week: Sentidos y Sensaciones (S... 2023-11-16\n",
       "297  Leeds Language Week: Where Will Languages Take... 2023-11-16\n",
       "298                              afrah shafiq: st.itch 2023-11-16\n",
       "\n",
       "[122 rows x 2 columns]"
      ]
     },
     "execution_count": 9,
     "metadata": {},
     "output_type": "execute_result"
    }
   ],
   "source": [
    "data[data.postcode.isna()][[\n",
    "    'name', 'start_date'\n",
    "]]"
   ]
  },
  {
   "cell_type": "markdown",
   "id": "cc37e2e6",
   "metadata": {
    "papermill": {
     "duration": 0.002342,
     "end_time": "2023-11-18T23:36:51.115010",
     "exception": false,
     "start_time": "2023-11-18T23:36:51.112668",
     "status": "completed"
    },
    "tags": []
   },
   "source": [
    "Plot the pricing"
   ]
  },
  {
   "cell_type": "code",
   "execution_count": 10,
   "id": "8d89f8ae",
   "metadata": {
    "execution": {
     "iopub.execute_input": "2023-11-18T23:36:51.121030Z",
     "iopub.status.busy": "2023-11-18T23:36:51.120553Z",
     "iopub.status.idle": "2023-11-18T23:36:53.858841Z",
     "shell.execute_reply": "2023-11-18T23:36:53.858143Z"
    },
    "papermill": {
     "duration": 2.742729,
     "end_time": "2023-11-18T23:36:53.860223",
     "exception": false,
     "start_time": "2023-11-18T23:36:51.117494",
     "status": "completed"
    },
    "tags": []
   },
   "outputs": [
    {
     "data": {
      "image/png": "[encoded data removed]",
      "text/plain": [
       "<Figure size 640x480 with 1 Axes>"
      ]
     },
     "metadata": {},
     "output_type": "display_data"
    }
   ],
   "source": [
    "# .groupby('pricing').count().plot.barh()\n",
    "pricing = data.pricing.fillna('Unspecified').str.replace('[\\[\\'\\]]', '', regex=True).to_frame().reset_index().groupby('pricing').count()\n",
    "\n",
    "pricing.columns = ['count']\n",
    "plot = pricing.plot.barh()\n"
   ]
  },
  {
   "cell_type": "code",
   "execution_count": null,
   "id": "7334f8c5",
   "metadata": {
    "papermill": {
     "duration": 0.004197,
     "end_time": "2023-11-18T23:36:53.867574",
     "exception": false,
     "start_time": "2023-11-18T23:36:53.863377",
     "status": "completed"
    },
    "tags": []
   },
   "outputs": [],
   "source": []
  }
 ],
 "metadata": {
  "kernelspec": {
   "display_name": "leeds-2023-YZF5GfJv",
   "language": "python",
   "name": "python3"
  },
  "language_info": {
   "codemirror_mode": {
    "name": "ipython",
    "version": 3
   },
   "file_extension": ".py",
   "mimetype": "text/x-python",
   "name": "python",
   "nbconvert_exporter": "python",
   "pygments_lexer": "ipython3",
   "version": "3.10.13"
  },
  "papermill": {
   "default_parameters": {},
   "duration": 12.910061,
   "end_time": "2023-11-18T23:36:54.188009",
   "environment_variables": {},
   "exception": null,
   "input_path": "transform.ipynb",
   "output_path": "../../../working/output/partner-events-transform.ipynb",
   "parameters": {},
   "start_time": "2023-11-18T23:36:41.277948",
   "version": "2.4.0"
  }
 },
 "nbformat": 4,
 "nbformat_minor": 5
}