{
 "cells": [
  {
   "cell_type": "code",
   "execution_count": 1,
   "id": "eb3313bd",
   "metadata": {
    "execution": {
     "iopub.execute_input": "2023-12-19T23:40:47.841771Z",
     "iopub.status.busy": "2023-12-19T23:40:47.841563Z",
     "iopub.status.idle": "2023-12-19T23:40:48.082608Z",
     "shell.execute_reply": "2023-12-19T23:40:48.082027Z"
    },
    "papermill": {
     "duration": 0.245597,
     "end_time": "2023-12-19T23:40:48.084188",
     "exception": false,
     "start_time": "2023-12-19T23:40:47.838591",
     "status": "completed"
    },
    "tags": []
   },
   "outputs": [],
   "source": [
    "import os, sys\n",
    "TOP_DIR = os.path.realpath('../../..')\n",
    "if TOP_DIR not in sys.path: sys.path.append(TOP_DIR)\n",
    "import pandas as pd"
   ]
  },
  {
   "cell_type": "code",
   "execution_count": 2,
   "id": "ee452afd",
   "metadata": {
    "execution": {
     "iopub.execute_input": "2023-12-19T23:40:48.088636Z",
     "iopub.status.busy": "2023-12-19T23:40:48.088111Z",
     "iopub.status.idle": "2023-12-19T23:40:48.092150Z",
     "shell.execute_reply": "2023-12-19T23:40:48.091527Z"
    },
    "papermill": {
     "duration": 0.007445,
     "end_time": "2023-12-19T23:40:48.093361",
     "exception": false,
     "start_time": "2023-12-19T23:40:48.085916",
     "status": "completed"
    },
    "tags": []
   },
   "outputs": [],
   "source": [
    "from lib.util.convert import named_cumulative_sum"
   ]
  },
  {
   "cell_type": "code",
   "execution_count": 3,
   "id": "31c29d26",
   "metadata": {
    "execution": {
     "iopub.execute_input": "2023-12-19T23:40:48.096998Z",
     "iopub.status.busy": "2023-12-19T23:40:48.096675Z",
     "iopub.status.idle": "2023-12-19T23:40:48.104735Z",
     "shell.execute_reply": "2023-12-19T23:40:48.104243Z"
    },
    "papermill": {
     "duration": 0.01131,
     "end_time": "2023-12-19T23:40:48.106040",
     "exception": false,
     "start_time": "2023-12-19T23:40:48.094730",
     "status": "completed"
    },
    "tags": []
   },
   "outputs": [],
   "source": [
    "data = pd.read_csv('../../../data/metrics/community/events.csv', parse_dates=['start_date'])\n",
    "data.ward_code = data.ward_code.fillna('UNKNOWN')"
   ]
  },
  {
   "cell_type": "markdown",
   "id": "9d5c869d",
   "metadata": {
    "papermill": {
     "duration": 0.001427,
     "end_time": "2023-12-19T23:40:48.108875",
     "exception": false,
     "start_time": "2023-12-19T23:40:48.107448",
     "status": "completed"
    },
    "tags": []
   },
   "source": [
    "Set up output directories"
   ]
  },
  {
   "cell_type": "code",
   "execution_count": 4,
   "id": "0554114b",
   "metadata": {
    "execution": {
     "iopub.execute_input": "2023-12-19T23:40:48.112618Z",
     "iopub.status.busy": "2023-12-19T23:40:48.112188Z",
     "iopub.status.idle": "2023-12-19T23:40:48.115318Z",
     "shell.execute_reply": "2023-12-19T23:40:48.114788Z"
    },
    "papermill": {
     "duration": 0.006347,
     "end_time": "2023-12-19T23:40:48.116567",
     "exception": false,
     "start_time": "2023-12-19T23:40:48.110220",
     "status": "completed"
    },
    "tags": []
   },
   "outputs": [],
   "source": [
    "OUT_DIR = '../../../docs/metrics/community/_data'\n",
    "os.makedirs(OUT_DIR, exist_ok=True)"
   ]
  },
  {
   "cell_type": "code",
   "execution_count": 5,
   "id": "b3b736b2",
   "metadata": {
    "execution": {
     "iopub.execute_input": "2023-12-19T23:40:48.120268Z",
     "iopub.status.busy": "2023-12-19T23:40:48.119940Z",
     "iopub.status.idle": "2023-12-19T23:40:48.125838Z",
     "shell.execute_reply": "2023-12-19T23:40:48.125229Z"
    },
    "papermill": {
     "duration": 0.009163,
     "end_time": "2023-12-19T23:40:48.127116",
     "exception": false,
     "start_time": "2023-12-19T23:40:48.117953",
     "status": "completed"
    },
    "tags": []
   },
   "outputs": [],
   "source": [
    "pd.Series({\n",
    "  'events': data.event_name.count(),\n",
    "  'audience': data.audience.sum().astype(int),\n",
    "  'errors': {\n",
    "    'missing_wards': (data.ward_code == 'UNKNOWN').value_counts()[True],\n",
    "    'missing_audience': data.audience.isna().value_counts()[True],\n",
    "    'zero_audience':  (data.audience < 1).value_counts()[True],  \n",
    "  }\n",
    "}).to_json(os.path.join(OUT_DIR, 'headlines.json'), indent=2)"
   ]
  },
  {
   "cell_type": "code",
   "execution_count": 6,
   "id": "27af5bdd",
   "metadata": {
    "execution": {
     "iopub.execute_input": "2023-12-19T23:40:48.130893Z",
     "iopub.status.busy": "2023-12-19T23:40:48.130564Z",
     "iopub.status.idle": "2023-12-19T23:40:48.136720Z",
     "shell.execute_reply": "2023-12-19T23:40:48.136104Z"
    },
    "papermill": {
     "duration": 0.00961,
     "end_time": "2023-12-19T23:40:48.138186",
     "exception": false,
     "start_time": "2023-12-19T23:40:48.128576",
     "status": "completed"
    },
    "tags": []
   },
   "outputs": [],
   "source": [
    "by_ward = pd.DataFrame({\n",
    "  'events': data.groupby('ward_code').event_name.count().fillna(0).astype('int'),\n",
    "  'audience': data.groupby('ward_code').audience.sum().fillna(0).astype('int'),\n",
    "}).to_csv(os.path.join(OUT_DIR, 'by_ward.csv'))"
   ]
  },
  {
   "cell_type": "code",
   "execution_count": 7,
   "id": "ea827f73",
   "metadata": {
    "execution": {
     "iopub.execute_input": "2023-12-19T23:40:48.142030Z",
     "iopub.status.busy": "2023-12-19T23:40:48.141690Z",
     "iopub.status.idle": "2023-12-19T23:40:48.150266Z",
     "shell.execute_reply": "2023-12-19T23:40:48.149761Z"
    },
    "papermill": {
     "duration": 0.011987,
     "end_time": "2023-12-19T23:40:48.151636",
     "exception": false,
     "start_time": "2023-12-19T23:40:48.139649",
     "status": "completed"
    },
    "tags": []
   },
   "outputs": [],
   "source": [
    "by_date = pd.DataFrame({\n",
    "    'events': data.groupby('start_date').event_name.count(),\n",
    "    'audience': data.groupby('start_date').audience.sum(),\n",
    "}).resample('M').sum()\n",
    "\n",
    "pd.concat([\n",
    "    by_date,\n",
    "    by_date.pipe(named_cumulative_sum)\n",
    "], axis=1).astype('int').to_csv(os.path.join(OUT_DIR, 'by_date.csv'))"
   ]
  }
 ],
 "metadata": {
  "kernelspec": {
   "display_name": "leeds-2023-YZF5GfJv",
   "language": "python",
   "name": "python3"
  },
  "language_info": {
   "codemirror_mode": {
    "name": "ipython",
    "version": 3
   },
   "file_extension": ".py",
   "mimetype": "text/x-python",
   "name": "python",
   "nbconvert_exporter": "python",
   "pygments_lexer": "ipython3",
   "version": "3.10.13"
  },
  "papermill": {
   "default_parameters": {},
   "duration": 1.760247,
   "end_time": "2023-12-19T23:40:48.368715",
   "environment_variables": {},
   "exception": null,
   "input_path": "prepare.ipynb",
   "output_path": "../../../working/output/community-prepare.ipynb",
   "parameters": {},
   "start_time": "2023-12-19T23:40:46.608468",
   "version": "2.4.0"
  }
 },
 "nbformat": 4,
 "nbformat_minor": 5
}