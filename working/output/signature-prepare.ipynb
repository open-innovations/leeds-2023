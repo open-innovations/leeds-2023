{
 "cells": [
  {
   "cell_type": "code",
   "execution_count": 1,
   "id": "6e166b54",
   "metadata": {
    "execution": {
     "iopub.execute_input": "2023-10-27T23:40:11.429442Z",
     "iopub.status.busy": "2023-10-27T23:40:11.428890Z",
     "iopub.status.idle": "2023-10-27T23:40:21.593467Z",
     "shell.execute_reply": "2023-10-27T23:40:21.592354Z"
    },
    "papermill": {
     "duration": 10.170328,
     "end_time": "2023-10-27T23:40:21.595266",
     "exception": false,
     "start_time": "2023-10-27T23:40:11.424938",
     "status": "completed"
    },
    "tags": []
   },
   "outputs": [],
   "source": [
    "import os\n",
    "import pandas as pd\n",
    "from events import load_event_data, get_first_ward, normalise_ward"
   ]
  },
  {
   "cell_type": "code",
   "execution_count": 2,
   "id": "d1d6b9d0",
   "metadata": {
    "execution": {
     "iopub.execute_input": "2023-10-27T23:40:21.601830Z",
     "iopub.status.busy": "2023-10-27T23:40:21.601241Z",
     "iopub.status.idle": "2023-10-27T23:40:21.606057Z",
     "shell.execute_reply": "2023-10-27T23:40:21.605140Z"
    },
    "papermill": {
     "duration": 0.009551,
     "end_time": "2023-10-27T23:40:21.607487",
     "exception": false,
     "start_time": "2023-10-27T23:40:21.597936",
     "status": "completed"
    },
    "tags": []
   },
   "outputs": [],
   "source": [
    "latest_date = pd.Timestamp.today().ceil('D')"
   ]
  },
  {
   "cell_type": "code",
   "execution_count": 3,
   "id": "1f390fae",
   "metadata": {
    "execution": {
     "iopub.execute_input": "2023-10-27T23:40:21.613083Z",
     "iopub.status.busy": "2023-10-27T23:40:21.612670Z",
     "iopub.status.idle": "2023-10-27T23:40:21.629925Z",
     "shell.execute_reply": "2023-10-27T23:40:21.629338Z"
    },
    "papermill": {
     "duration": 0.021538,
     "end_time": "2023-10-27T23:40:21.631333",
     "exception": false,
     "start_time": "2023-10-27T23:40:21.609795",
     "status": "completed"
    },
    "tags": []
   },
   "outputs": [],
   "source": [
    "tickets = pd.read_csv('../../../../data/metrics/events/tickets/orders.csv', parse_dates=['created_at', 'event_date'])\n",
    "tickets = tickets[tickets.event_date <= latest_date]"
   ]
  },
  {
   "cell_type": "code",
   "execution_count": 4,
   "id": "c732977c",
   "metadata": {
    "execution": {
     "iopub.execute_input": "2023-10-27T23:40:21.636930Z",
     "iopub.status.busy": "2023-10-27T23:40:21.636522Z",
     "iopub.status.idle": "2023-10-27T23:40:21.680455Z",
     "shell.execute_reply": "2023-10-27T23:40:21.679858Z"
    },
    "papermill": {
     "duration": 0.048478,
     "end_time": "2023-10-27T23:40:21.682070",
     "exception": false,
     "start_time": "2023-10-27T23:40:21.633592",
     "status": "completed"
    },
    "tags": []
   },
   "outputs": [],
   "source": [
    "events = load_event_data()\n",
    "\n",
    "events = pd.concat([\n",
    "  events,\n",
    "  events.pipe(get_first_ward).pipe(normalise_ward).fillna('UNKNOWN'),\n",
    "  pd.Series(\n",
    "      events.actual_audience_size_number_of_participants_in_person + events.actual_audience_size_number_of_participants_online,\n",
    "      name='attendances'\n",
    "  )\n",
    "], axis=1).rename(columns={\n",
    "    'start_date': 'date'\n",
    "}).loc[:, ['ward_code', 'date', 'event_unique_identifier', 'attendances']]"
   ]
  },
  {
   "cell_type": "code",
   "execution_count": 5,
   "id": "456592e0",
   "metadata": {
    "execution": {
     "iopub.execute_input": "2023-10-27T23:40:21.687835Z",
     "iopub.status.busy": "2023-10-27T23:40:21.687412Z",
     "iopub.status.idle": "2023-10-27T23:40:21.690666Z",
     "shell.execute_reply": "2023-10-27T23:40:21.690011Z"
    },
    "papermill": {
     "duration": 0.007816,
     "end_time": "2023-10-27T23:40:21.692193",
     "exception": false,
     "start_time": "2023-10-27T23:40:21.684377",
     "status": "completed"
    },
    "tags": []
   },
   "outputs": [],
   "source": [
    "OUTPUT_DIR='../../../../docs/metrics/events/signature/_data/'\n",
    "os.makedirs(OUTPUT_DIR, exist_ok=True)"
   ]
  },
  {
   "cell_type": "markdown",
   "id": "51029039",
   "metadata": {
    "papermill": {
     "duration": 0.002326,
     "end_time": "2023-10-27T23:40:21.696959",
     "exception": false,
     "start_time": "2023-10-27T23:40:21.694633",
     "status": "completed"
    },
    "tags": []
   },
   "source": [
    "Events CSVs"
   ]
  },
  {
   "cell_type": "code",
   "execution_count": 6,
   "id": "9fa8bb11",
   "metadata": {
    "execution": {
     "iopub.execute_input": "2023-10-27T23:40:21.703145Z",
     "iopub.status.busy": "2023-10-27T23:40:21.702589Z",
     "iopub.status.idle": "2023-10-27T23:40:21.709868Z",
     "shell.execute_reply": "2023-10-27T23:40:21.708859Z"
    },
    "papermill": {
     "duration": 0.011884,
     "end_time": "2023-10-27T23:40:21.711319",
     "exception": false,
     "start_time": "2023-10-27T23:40:21.699435",
     "status": "completed"
    },
    "tags": []
   },
   "outputs": [],
   "source": [
    "pd.DataFrame({\n",
    "  'events': events.groupby('ward_code').event_unique_identifier.count(),\n",
    "  'attendances': events.groupby('ward_code').attendances.sum().astype(int),\n",
    "}).to_csv(os.path.join(OUTPUT_DIR, 'events_by_ward.csv'))\n"
   ]
  },
  {
   "cell_type": "code",
   "execution_count": 7,
   "id": "b32825ad",
   "metadata": {
    "execution": {
     "iopub.execute_input": "2023-10-27T23:40:21.717267Z",
     "iopub.status.busy": "2023-10-27T23:40:21.716740Z",
     "iopub.status.idle": "2023-10-27T23:40:21.725168Z",
     "shell.execute_reply": "2023-10-27T23:40:21.724601Z"
    },
    "papermill": {
     "duration": 0.01293,
     "end_time": "2023-10-27T23:40:21.726637",
     "exception": false,
     "start_time": "2023-10-27T23:40:21.713707",
     "status": "completed"
    },
    "tags": []
   },
   "outputs": [],
   "source": [
    "pd.DataFrame({\n",
    "  'events': events.groupby('date').event_unique_identifier.count(),\n",
    "  'attendances': events.groupby('date').attendances.sum().astype(int),\n",
    "}).resample('M').sum().astype(int).to_csv(os.path.join(OUTPUT_DIR, 'events_by_date.csv'))"
   ]
  },
  {
   "cell_type": "markdown",
   "id": "42d02ac6",
   "metadata": {
    "papermill": {
     "duration": 0.002379,
     "end_time": "2023-10-27T23:40:21.732293",
     "exception": false,
     "start_time": "2023-10-27T23:40:21.729914",
     "status": "completed"
    },
    "tags": []
   },
   "source": [
    "Tickets CSV"
   ]
  },
  {
   "cell_type": "code",
   "execution_count": 8,
   "id": "3c63d57d",
   "metadata": {
    "execution": {
     "iopub.execute_input": "2023-10-27T23:40:21.738070Z",
     "iopub.status.busy": "2023-10-27T23:40:21.737861Z",
     "iopub.status.idle": "2023-10-27T23:40:21.744299Z",
     "shell.execute_reply": "2023-10-27T23:40:21.743724Z"
    },
    "papermill": {
     "duration": 0.011115,
     "end_time": "2023-10-27T23:40:21.745806",
     "exception": false,
     "start_time": "2023-10-27T23:40:21.734691",
     "status": "completed"
    },
    "tags": []
   },
   "outputs": [],
   "source": [
    "pd.DataFrame({\n",
    "  'orders': tickets.groupby('ward_code').number_of_tickets.count(),\n",
    "  'tickets': tickets.groupby('ward_code').number_of_tickets.sum().astype(int),\n",
    "}).to_csv(os.path.join(OUTPUT_DIR, 'tickets_by_ward.csv'))"
   ]
  },
  {
   "cell_type": "code",
   "execution_count": 9,
   "id": "66f48d7f",
   "metadata": {
    "execution": {
     "iopub.execute_input": "2023-10-27T23:40:21.751881Z",
     "iopub.status.busy": "2023-10-27T23:40:21.751355Z",
     "iopub.status.idle": "2023-10-27T23:40:21.759016Z",
     "shell.execute_reply": "2023-10-27T23:40:21.758424Z"
    },
    "papermill": {
     "duration": 0.012273,
     "end_time": "2023-10-27T23:40:21.760516",
     "exception": false,
     "start_time": "2023-10-27T23:40:21.748243",
     "status": "completed"
    },
    "tags": []
   },
   "outputs": [],
   "source": [
    "pd.DataFrame({\n",
    "  'orders': tickets.groupby('event_date').number_of_tickets.count(),\n",
    "  'tickets': tickets.groupby('event_date').number_of_tickets.sum().astype(int),\n",
    "}).resample('M').sum().to_csv(os.path.join(OUTPUT_DIR, 'tickets_by_event_date.csv'))"
   ]
  },
  {
   "cell_type": "code",
   "execution_count": 10,
   "id": "6e55fb63",
   "metadata": {
    "execution": {
     "iopub.execute_input": "2023-10-27T23:40:21.766736Z",
     "iopub.status.busy": "2023-10-27T23:40:21.766219Z",
     "iopub.status.idle": "2023-10-27T23:40:21.771857Z",
     "shell.execute_reply": "2023-10-27T23:40:21.771241Z"
    },
    "papermill": {
     "duration": 0.01021,
     "end_time": "2023-10-27T23:40:21.773281",
     "exception": false,
     "start_time": "2023-10-27T23:40:21.763071",
     "status": "completed"
    },
    "tags": []
   },
   "outputs": [],
   "source": [
    "pd.Series({\n",
    "    'total_events': events.event_unique_identifier.count(),\n",
    "    'total_attendances': events.attendances.count(),\n",
    "    'first_event': events.date.min(),\n",
    "    'latest_event': events.date.max(),\n",
    "    'total_ticket_orders_for_events_to_date': tickets.number_of_tickets.count(),\n",
    "    'total_tickets_sold_for_events_to_date': tickets.number_of_tickets.sum(),\n",
    "}).to_json(os.path.join(OUTPUT_DIR, 'headlines.json'), indent=2)"
   ]
  },
  {
   "cell_type": "code",
   "execution_count": null,
   "id": "c65b9b30",
   "metadata": {
    "papermill": {
     "duration": 0.002498,
     "end_time": "2023-10-27T23:40:21.778308",
     "exception": false,
     "start_time": "2023-10-27T23:40:21.775810",
     "status": "completed"
    },
    "tags": []
   },
   "outputs": [],
   "source": []
  }
 ],
 "metadata": {
  "kernelspec": {
   "display_name": "leeds-2023-YZF5GfJv",
   "language": "python",
   "name": "python3"
  },
  "language_info": {
   "codemirror_mode": {
    "name": "ipython",
    "version": 3
   },
   "file_extension": ".py",
   "mimetype": "text/x-python",
   "name": "python",
   "nbconvert_exporter": "python",
   "pygments_lexer": "ipython3",
   "version": "3.10.13"
  },
  "papermill": {
   "default_parameters": {},
   "duration": 12.017703,
   "end_time": "2023-10-27T23:40:22.098109",
   "environment_variables": {},
   "exception": null,
   "input_path": "prepare.ipynb",
   "output_path": "../../../../working/output/signature-prepare.ipynb",
   "parameters": {},
   "start_time": "2023-10-27T23:40:10.080406",
   "version": "2.4.0"
  }
 },
 "nbformat": 4,
 "nbformat_minor": 5
}