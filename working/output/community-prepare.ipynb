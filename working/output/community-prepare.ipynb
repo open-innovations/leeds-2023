{
 "cells": [
  {
   "cell_type": "code",
   "execution_count": 1,
   "id": "6420d8d2",
   "metadata": {
    "execution": {
     "iopub.execute_input": "2023-12-12T23:40:40.198411Z",
     "iopub.status.busy": "2023-12-12T23:40:40.198119Z",
     "iopub.status.idle": "2023-12-12T23:40:40.440270Z",
     "shell.execute_reply": "2023-12-12T23:40:40.439573Z"
    },
    "papermill": {
     "duration": 0.246794,
     "end_time": "2023-12-12T23:40:40.442034",
     "exception": false,
     "start_time": "2023-12-12T23:40:40.195240",
     "status": "completed"
    },
    "tags": []
   },
   "outputs": [],
   "source": [
    "import os, sys\n",
    "TOP_DIR = os.path.realpath('../../..')\n",
    "if TOP_DIR not in sys.path: sys.path.append(TOP_DIR)\n",
    "import pandas as pd"
   ]
  },
  {
   "cell_type": "code",
   "execution_count": 2,
   "id": "1d923c22",
   "metadata": {
    "execution": {
     "iopub.execute_input": "2023-12-12T23:40:40.446272Z",
     "iopub.status.busy": "2023-12-12T23:40:40.445874Z",
     "iopub.status.idle": "2023-12-12T23:40:40.449948Z",
     "shell.execute_reply": "2023-12-12T23:40:40.449336Z"
    },
    "papermill": {
     "duration": 0.007571,
     "end_time": "2023-12-12T23:40:40.451345",
     "exception": false,
     "start_time": "2023-12-12T23:40:40.443774",
     "status": "completed"
    },
    "tags": []
   },
   "outputs": [],
   "source": [
    "from lib.util.convert import named_cumulative_sum"
   ]
  },
  {
   "cell_type": "code",
   "execution_count": 3,
   "id": "7584d632",
   "metadata": {
    "execution": {
     "iopub.execute_input": "2023-12-12T23:40:40.454841Z",
     "iopub.status.busy": "2023-12-12T23:40:40.454656Z",
     "iopub.status.idle": "2023-12-12T23:40:40.462753Z",
     "shell.execute_reply": "2023-12-12T23:40:40.462110Z"
    },
    "papermill": {
     "duration": 0.011309,
     "end_time": "2023-12-12T23:40:40.464030",
     "exception": false,
     "start_time": "2023-12-12T23:40:40.452721",
     "status": "completed"
    },
    "tags": []
   },
   "outputs": [],
   "source": [
    "data = pd.read_csv('../../../data/metrics/community/events.csv', parse_dates=['start_date'])\n",
    "data.ward_code = data.ward_code.fillna('UNKNOWN')"
   ]
  },
  {
   "cell_type": "markdown",
   "id": "a63852d3",
   "metadata": {
    "papermill": {
     "duration": 0.001452,
     "end_time": "2023-12-12T23:40:40.466858",
     "exception": false,
     "start_time": "2023-12-12T23:40:40.465406",
     "status": "completed"
    },
    "tags": []
   },
   "source": [
    "Set up output directories"
   ]
  },
  {
   "cell_type": "code",
   "execution_count": 4,
   "id": "aa12980f",
   "metadata": {
    "execution": {
     "iopub.execute_input": "2023-12-12T23:40:40.470581Z",
     "iopub.status.busy": "2023-12-12T23:40:40.470121Z",
     "iopub.status.idle": "2023-12-12T23:40:40.473260Z",
     "shell.execute_reply": "2023-12-12T23:40:40.472653Z"
    },
    "papermill": {
     "duration": 0.006385,
     "end_time": "2023-12-12T23:40:40.474601",
     "exception": false,
     "start_time": "2023-12-12T23:40:40.468216",
     "status": "completed"
    },
    "tags": []
   },
   "outputs": [],
   "source": [
    "OUT_DIR = '../../../docs/metrics/community/_data'\n",
    "os.makedirs(OUT_DIR, exist_ok=True)"
   ]
  },
  {
   "cell_type": "code",
   "execution_count": 5,
   "id": "917e1de8",
   "metadata": {
    "execution": {
     "iopub.execute_input": "2023-12-12T23:40:40.478507Z",
     "iopub.status.busy": "2023-12-12T23:40:40.478050Z",
     "iopub.status.idle": "2023-12-12T23:40:40.484235Z",
     "shell.execute_reply": "2023-12-12T23:40:40.483703Z"
    },
    "papermill": {
     "duration": 0.00946,
     "end_time": "2023-12-12T23:40:40.485486",
     "exception": false,
     "start_time": "2023-12-12T23:40:40.476026",
     "status": "completed"
    },
    "tags": []
   },
   "outputs": [],
   "source": [
    "pd.Series({\n",
    "  'events': data.event_name.count(),\n",
    "  'audience': data.audience.sum().astype(int),\n",
    "  'errors': {\n",
    "    'missing_wards': (data.ward_code == 'UNKNOWN').value_counts()[True],\n",
    "    'missing_audience': data.audience.isna().value_counts()[True],\n",
    "    'zero_audience':  (data.audience < 1).value_counts()[True],  \n",
    "  }\n",
    "}).to_json(os.path.join(OUT_DIR, 'headlines.json'), indent=2)"
   ]
  },
  {
   "cell_type": "code",
   "execution_count": 6,
   "id": "e029548c",
   "metadata": {
    "execution": {
     "iopub.execute_input": "2023-12-12T23:40:40.489326Z",
     "iopub.status.busy": "2023-12-12T23:40:40.488966Z",
     "iopub.status.idle": "2023-12-12T23:40:40.495236Z",
     "shell.execute_reply": "2023-12-12T23:40:40.494727Z"
    },
    "papermill": {
     "duration": 0.009526,
     "end_time": "2023-12-12T23:40:40.496480",
     "exception": false,
     "start_time": "2023-12-12T23:40:40.486954",
     "status": "completed"
    },
    "tags": []
   },
   "outputs": [],
   "source": [
    "by_ward = pd.DataFrame({\n",
    "  'events': data.groupby('ward_code').event_name.count().fillna(0).astype('int'),\n",
    "  'audience': data.groupby('ward_code').audience.sum().fillna(0).astype('int'),\n",
    "}).to_csv(os.path.join(OUT_DIR, 'by_ward.csv'))"
   ]
  },
  {
   "cell_type": "code",
   "execution_count": 7,
   "id": "cefa6217",
   "metadata": {
    "execution": {
     "iopub.execute_input": "2023-12-12T23:40:40.500405Z",
     "iopub.status.busy": "2023-12-12T23:40:40.500046Z",
     "iopub.status.idle": "2023-12-12T23:40:40.508614Z",
     "shell.execute_reply": "2023-12-12T23:40:40.508114Z"
    },
    "papermill": {
     "duration": 0.011904,
     "end_time": "2023-12-12T23:40:40.509831",
     "exception": false,
     "start_time": "2023-12-12T23:40:40.497927",
     "status": "completed"
    },
    "tags": []
   },
   "outputs": [],
   "source": [
    "by_date = pd.DataFrame({\n",
    "    'events': data.groupby('start_date').event_name.count(),\n",
    "    'audience': data.groupby('start_date').audience.sum(),\n",
    "}).resample('M').sum()\n",
    "\n",
    "pd.concat([\n",
    "    by_date,\n",
    "    by_date.pipe(named_cumulative_sum)\n",
    "], axis=1).astype('int').to_csv(os.path.join(OUT_DIR, 'by_date.csv'))"
   ]
  }
 ],
 "metadata": {
  "kernelspec": {
   "display_name": "leeds-2023-YZF5GfJv",
   "language": "python",
   "name": "python3"
  },
  "language_info": {
   "codemirror_mode": {
    "name": "ipython",
    "version": 3
   },
   "file_extension": ".py",
   "mimetype": "text/x-python",
   "name": "python",
   "nbconvert_exporter": "python",
   "pygments_lexer": "ipython3",
   "version": "3.10.13"
  },
  "papermill": {
   "default_parameters": {},
   "duration": 1.777378,
   "end_time": "2023-12-12T23:40:40.727671",
   "environment_variables": {},
   "exception": null,
   "input_path": "prepare.ipynb",
   "output_path": "../../../working/output/community-prepare.ipynb",
   "parameters": {},
   "start_time": "2023-12-12T23:40:38.950293",
   "version": "2.4.0"
  }
 },
 "nbformat": 4,
 "nbformat_minor": 5
}