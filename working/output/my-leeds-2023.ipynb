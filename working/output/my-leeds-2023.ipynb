{
 "cells": [
  {
   "cell_type": "markdown",
   "id": "e2b868bc",
   "metadata": {
    "papermill": {
     "duration": 0.003491,
     "end_time": "2023-09-21T23:37:11.529671",
     "exception": false,
     "start_time": "2023-09-21T23:37:11.526180",
     "status": "completed"
    },
    "tags": []
   },
   "source": [
    "# My LEEDS 2023\n",
    "\n",
    "Prepares data for the My LEEDS 2023 page "
   ]
  },
  {
   "cell_type": "code",
   "execution_count": 1,
   "id": "e027f107",
   "metadata": {
    "execution": {
     "iopub.execute_input": "2023-09-21T23:37:11.536672Z",
     "iopub.status.busy": "2023-09-21T23:37:11.536067Z",
     "iopub.status.idle": "2023-09-21T23:37:22.019232Z",
     "shell.execute_reply": "2023-09-21T23:37:22.018474Z"
    },
    "papermill": {
     "duration": 10.488886,
     "end_time": "2023-09-21T23:37:22.021347",
     "exception": false,
     "start_time": "2023-09-21T23:37:11.532461",
     "status": "completed"
    },
    "tags": []
   },
   "outputs": [],
   "source": [
    "import os\n",
    "from events import (\n",
    "    load_event_data, filter_by_project, prepare, save_files, count_wards\n",
    ")"
   ]
  },
  {
   "cell_type": "markdown",
   "id": "3cff7133",
   "metadata": {
    "papermill": {
     "duration": 0.003089,
     "end_time": "2023-09-21T23:37:22.027243",
     "exception": false,
     "start_time": "2023-09-21T23:37:22.024154",
     "status": "completed"
    },
    "tags": []
   },
   "source": [
    "Set output directory"
   ]
  },
  {
   "cell_type": "code",
   "execution_count": 2,
   "id": "175e9982",
   "metadata": {
    "execution": {
     "iopub.execute_input": "2023-09-21T23:37:22.033747Z",
     "iopub.status.busy": "2023-09-21T23:37:22.033026Z",
     "iopub.status.idle": "2023-09-21T23:37:22.036556Z",
     "shell.execute_reply": "2023-09-21T23:37:22.035886Z"
    },
    "papermill": {
     "duration": 0.008557,
     "end_time": "2023-09-21T23:37:22.038238",
     "exception": false,
     "start_time": "2023-09-21T23:37:22.029681",
     "status": "completed"
    },
    "tags": []
   },
   "outputs": [],
   "source": [
    "OUT_DIR = '../../../../docs/metrics/events/my-leeds-2023/_data/events'"
   ]
  },
  {
   "cell_type": "markdown",
   "id": "5acc4e64",
   "metadata": {
    "papermill": {
     "duration": 0.00241,
     "end_time": "2023-09-21T23:37:22.043127",
     "exception": false,
     "start_time": "2023-09-21T23:37:22.040717",
     "status": "completed"
    },
    "tags": []
   },
   "source": [
    "Read in event data and filter by **My LEEDS 2023** project"
   ]
  },
  {
   "cell_type": "code",
   "execution_count": 3,
   "id": "098a5e9b",
   "metadata": {
    "execution": {
     "iopub.execute_input": "2023-09-21T23:37:22.049393Z",
     "iopub.status.busy": "2023-09-21T23:37:22.048962Z",
     "iopub.status.idle": "2023-09-21T23:37:22.065486Z",
     "shell.execute_reply": "2023-09-21T23:37:22.064841Z"
    },
    "papermill": {
     "duration": 0.021535,
     "end_time": "2023-09-21T23:37:22.067206",
     "exception": false,
     "start_time": "2023-09-21T23:37:22.045671",
     "status": "completed"
    },
    "tags": []
   },
   "outputs": [],
   "source": [
    "data = load_event_data().pipe(filter_by_project, '12 - My LEEDS 2023')"
   ]
  },
  {
   "cell_type": "markdown",
   "id": "8421ef33",
   "metadata": {
    "papermill": {
     "duration": 0.002542,
     "end_time": "2023-09-21T23:37:22.072332",
     "exception": false,
     "start_time": "2023-09-21T23:37:22.069790",
     "status": "completed"
    },
    "tags": []
   },
   "source": [
    "Run the processing and save the files"
   ]
  },
  {
   "cell_type": "code",
   "execution_count": 4,
   "id": "2904a5ba",
   "metadata": {
    "execution": {
     "iopub.execute_input": "2023-09-21T23:37:22.078947Z",
     "iopub.status.busy": "2023-09-21T23:37:22.078362Z",
     "iopub.status.idle": "2023-09-21T23:37:22.193703Z",
     "shell.execute_reply": "2023-09-21T23:37:22.192986Z"
    },
    "papermill": {
     "duration": 0.120851,
     "end_time": "2023-09-21T23:37:22.195708",
     "exception": false,
     "start_time": "2023-09-21T23:37:22.074857",
     "status": "completed"
    },
    "tags": []
   },
   "outputs": [],
   "source": [
    "data = data.pipe(prepare).pipe(save_files, OUT_DIR)"
   ]
  },
  {
   "cell_type": "code",
   "execution_count": 5,
   "id": "d911e358",
   "metadata": {
    "execution": {
     "iopub.execute_input": "2023-09-21T23:37:22.203995Z",
     "iopub.status.busy": "2023-09-21T23:37:22.203340Z",
     "iopub.status.idle": "2023-09-21T23:37:22.226763Z",
     "shell.execute_reply": "2023-09-21T23:37:22.226074Z"
    },
    "papermill": {
     "duration": 0.029498,
     "end_time": "2023-09-21T23:37:22.228950",
     "exception": false,
     "start_time": "2023-09-21T23:37:22.199452",
     "status": "completed"
    },
    "tags": []
   },
   "outputs": [],
   "source": [
    "SUMMER_OUT_DIR = f'{OUT_DIR}/summer'\n",
    "os.makedirs(SUMMER_OUT_DIR, exist_ok=True)\n",
    "data = data.loc[data.event_name.str.contains('Summer')].pipe(save_files, SUMMER_OUT_DIR)"
   ]
  },
  {
   "cell_type": "markdown",
   "id": "97881770",
   "metadata": {
    "papermill": {
     "duration": 0.003001,
     "end_time": "2023-09-21T23:37:22.235062",
     "exception": false,
     "start_time": "2023-09-21T23:37:22.232061",
     "status": "completed"
    },
    "tags": []
   },
   "source": [
    "Print a list of events which have no ward, or more than one"
   ]
  },
  {
   "cell_type": "code",
   "execution_count": 6,
   "id": "3edec1fc",
   "metadata": {
    "execution": {
     "iopub.execute_input": "2023-09-21T23:37:22.242593Z",
     "iopub.status.busy": "2023-09-21T23:37:22.242059Z",
     "iopub.status.idle": "2023-09-21T23:37:22.260037Z",
     "shell.execute_reply": "2023-09-21T23:37:22.259415Z"
    },
    "papermill": {
     "duration": 0.023064,
     "end_time": "2023-09-21T23:37:22.261619",
     "exception": false,
     "start_time": "2023-09-21T23:37:22.238555",
     "status": "completed"
    },
    "tags": []
   },
   "outputs": [
    {
     "data": {
      "text/html": [
       "<div>\n",
       "<style scoped>\n",
       "    .dataframe tbody tr th:only-of-type {\n",
       "        vertical-align: middle;\n",
       "    }\n",
       "\n",
       "    .dataframe tbody tr th {\n",
       "        vertical-align: top;\n",
       "    }\n",
       "\n",
       "    .dataframe thead th {\n",
       "        text-align: right;\n",
       "    }\n",
       "</style>\n",
       "<table border=\"1\" class=\"dataframe\">\n",
       "  <thead>\n",
       "    <tr style=\"text-align: right;\">\n",
       "      <th></th>\n",
       "      <th>airtable_id</th>\n",
       "      <th>event_name</th>\n",
       "      <th>start_date</th>\n",
       "      <th>ward_(from_venue)</th>\n",
       "    </tr>\n",
       "  </thead>\n",
       "  <tbody>\n",
       "    <tr>\n",
       "      <th>885</th>\n",
       "      <td>430</td>\n",
       "      <td>My LEEDS Summer: Alwoodley Festival of Sport a...</td>\n",
       "      <td>2023-07-09</td>\n",
       "      <td>['Alwoodley', 'Alwoodley', 'Alwoodley', 'Alwoo...</td>\n",
       "    </tr>\n",
       "  </tbody>\n",
       "</table>\n",
       "</div>"
      ],
      "text/plain": [
       "     airtable_id                                         event_name  \\\n",
       "885          430  My LEEDS Summer: Alwoodley Festival of Sport a...   \n",
       "\n",
       "    start_date                                  ward_(from_venue)  \n",
       "885 2023-07-09  ['Alwoodley', 'Alwoodley', 'Alwoodley', 'Alwoo...  "
      ]
     },
     "execution_count": 6,
     "metadata": {},
     "output_type": "execute_result"
    }
   ],
   "source": [
    "data[data.pipe(count_wards) != 1][[\n",
    "    'airtable_id',\n",
    "    'event_name',\n",
    "    'start_date',\n",
    "    'ward_(from_venue)',\n",
    "]]"
   ]
  },
  {
   "cell_type": "markdown",
   "id": "580a26ae",
   "metadata": {
    "papermill": {
     "duration": 0.002759,
     "end_time": "2023-09-21T23:37:22.267251",
     "exception": false,
     "start_time": "2023-09-21T23:37:22.264492",
     "status": "completed"
    },
    "tags": []
   },
   "source": [
    "Print a list of events with no audience recorded"
   ]
  },
  {
   "cell_type": "code",
   "execution_count": 7,
   "id": "cbf0481b",
   "metadata": {
    "execution": {
     "iopub.execute_input": "2023-09-21T23:37:22.274214Z",
     "iopub.status.busy": "2023-09-21T23:37:22.273646Z",
     "iopub.status.idle": "2023-09-21T23:37:22.285442Z",
     "shell.execute_reply": "2023-09-21T23:37:22.284857Z"
    },
    "papermill": {
     "duration": 0.016835,
     "end_time": "2023-09-21T23:37:22.286852",
     "exception": false,
     "start_time": "2023-09-21T23:37:22.270017",
     "status": "completed"
    },
    "tags": []
   },
   "outputs": [
    {
     "data": {
      "text/html": [
       "<div>\n",
       "<style scoped>\n",
       "    .dataframe tbody tr th:only-of-type {\n",
       "        vertical-align: middle;\n",
       "    }\n",
       "\n",
       "    .dataframe tbody tr th {\n",
       "        vertical-align: top;\n",
       "    }\n",
       "\n",
       "    .dataframe thead th {\n",
       "        text-align: right;\n",
       "    }\n",
       "</style>\n",
       "<table border=\"1\" class=\"dataframe\">\n",
       "  <thead>\n",
       "    <tr style=\"text-align: right;\">\n",
       "      <th></th>\n",
       "      <th>airtable_id</th>\n",
       "      <th>event_name</th>\n",
       "      <th>start_date</th>\n",
       "      <th>audience_size</th>\n",
       "    </tr>\n",
       "  </thead>\n",
       "  <tbody>\n",
       "    <tr>\n",
       "      <th>823</th>\n",
       "      <td>417</td>\n",
       "      <td>My LEEDS Summer: Moortown Picnic in the Park</td>\n",
       "      <td>2023-06-24</td>\n",
       "      <td>0.0</td>\n",
       "    </tr>\n",
       "    <tr>\n",
       "      <th>914</th>\n",
       "      <td>446</td>\n",
       "      <td>My LEEDS Summer: Morley South</td>\n",
       "      <td>2023-07-23</td>\n",
       "      <td>0.0</td>\n",
       "    </tr>\n",
       "    <tr>\n",
       "      <th>960</th>\n",
       "      <td>454</td>\n",
       "      <td>My LEEDS Summer: Killingbeck &amp; Seacroft Show, ...</td>\n",
       "      <td>2023-08-12</td>\n",
       "      <td>0.0</td>\n",
       "    </tr>\n",
       "    <tr>\n",
       "      <th>977</th>\n",
       "      <td>459</td>\n",
       "      <td>My LEEDS Summer: Calverley &amp; Farsley - Are you...</td>\n",
       "      <td>2023-08-26</td>\n",
       "      <td>0.0</td>\n",
       "    </tr>\n",
       "  </tbody>\n",
       "</table>\n",
       "</div>"
      ],
      "text/plain": [
       "     airtable_id                                         event_name  \\\n",
       "823          417       My LEEDS Summer: Moortown Picnic in the Park   \n",
       "914          446                      My LEEDS Summer: Morley South   \n",
       "960          454  My LEEDS Summer: Killingbeck & Seacroft Show, ...   \n",
       "977          459  My LEEDS Summer: Calverley & Farsley - Are you...   \n",
       "\n",
       "    start_date  audience_size  \n",
       "823 2023-06-24            0.0  \n",
       "914 2023-07-23            0.0  \n",
       "960 2023-08-12            0.0  \n",
       "977 2023-08-26            0.0  "
      ]
     },
     "execution_count": 7,
     "metadata": {},
     "output_type": "execute_result"
    }
   ],
   "source": [
    "data[data.audience_size == 0][[\n",
    "    'airtable_id', 'event_name', 'start_date', 'audience_size'\n",
    "]]"
   ]
  },
  {
   "cell_type": "code",
   "execution_count": 8,
   "id": "f0246b98",
   "metadata": {
    "execution": {
     "iopub.execute_input": "2023-09-21T23:37:22.294082Z",
     "iopub.status.busy": "2023-09-21T23:37:22.293525Z",
     "iopub.status.idle": "2023-09-21T23:37:25.197364Z",
     "shell.execute_reply": "2023-09-21T23:37:25.196679Z"
    },
    "papermill": {
     "duration": 2.909177,
     "end_time": "2023-09-21T23:37:25.199009",
     "exception": false,
     "start_time": "2023-09-21T23:37:22.289832",
     "status": "completed"
    },
    "tags": []
   },
   "outputs": [
    {
     "data": {
      "text/plain": [
       "event_type\n",
       "['Public Event - Performance']    35\n",
       "Name: event_name, dtype: int64"
      ]
     },
     "execution_count": 8,
     "metadata": {},
     "output_type": "execute_result"
    },
    {
     "data": {
      "image/png": "[encoded data removed]",
      "text/plain": [
       "<Figure size 640x480 with 1 Axes>"
      ]
     },
     "metadata": {},
     "output_type": "display_data"
    }
   ],
   "source": [
    "plot = data.groupby('event_type').event_name.count().plot.barh()\n",
    "plot.xaxis.label.set_text('Number of events')\n",
    "plot.yaxis.label.set_text('Event Type Labels')\n",
    "data.groupby('event_type').event_name.count()"
   ]
  },
  {
   "cell_type": "code",
   "execution_count": null,
   "id": "caa9a715",
   "metadata": {
    "papermill": {
     "duration": 0.003811,
     "end_time": "2023-09-21T23:37:25.206586",
     "exception": false,
     "start_time": "2023-09-21T23:37:25.202775",
     "status": "completed"
    },
    "tags": []
   },
   "outputs": [],
   "source": []
  }
 ],
 "metadata": {
  "kernelspec": {
   "display_name": "leeds-2023-YZF5GfJv",
   "language": "python",
   "name": "python3"
  },
  "language_info": {
   "codemirror_mode": {
    "name": "ipython",
    "version": 3
   },
   "file_extension": ".py",
   "mimetype": "text/x-python",
   "name": "python",
   "nbconvert_exporter": "python",
   "pygments_lexer": "ipython3",
   "version": "3.10.13"
  },
  "papermill": {
   "default_parameters": {},
   "duration": 15.633452,
   "end_time": "2023-09-21T23:37:25.629552",
   "environment_variables": {},
   "exception": null,
   "input_path": "my-leeds-2023.ipynb",
   "output_path": "../../../../working/output/my-leeds-2023.ipynb",
   "parameters": {},
   "start_time": "2023-09-21T23:37:09.996100",
   "version": "2.4.0"
  }
 },
 "nbformat": 4,
 "nbformat_minor": 5
}