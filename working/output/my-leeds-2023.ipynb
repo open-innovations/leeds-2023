{
 "cells": [
  {
   "cell_type": "markdown",
   "id": "bc3e725d",
   "metadata": {
    "papermill": {
     "duration": 0.002705,
     "end_time": "2023-07-13T11:37:08.150686",
     "exception": false,
     "start_time": "2023-07-13T11:37:08.147981",
     "status": "completed"
    },
    "tags": []
   },
   "source": [
    "# My LEEDS 2023\n",
    "\n",
    "Prepares data for the My LEEDS 2023 page "
   ]
  },
  {
   "cell_type": "code",
   "execution_count": 1,
   "id": "b23e079e",
   "metadata": {
    "execution": {
     "iopub.execute_input": "2023-07-13T11:37:08.157077Z",
     "iopub.status.busy": "2023-07-13T11:37:08.156484Z",
     "iopub.status.idle": "2023-07-13T11:37:08.430796Z",
     "shell.execute_reply": "2023-07-13T11:37:08.430098Z"
    },
    "papermill": {
     "duration": 0.279983,
     "end_time": "2023-07-13T11:37:08.433085",
     "exception": false,
     "start_time": "2023-07-13T11:37:08.153102",
     "status": "completed"
    },
    "tags": []
   },
   "outputs": [],
   "source": [
    "from events import (\n",
    "    load_event_data, filter_by_project, prepare, save_files, count_wards\n",
    ")"
   ]
  },
  {
   "cell_type": "markdown",
   "id": "5572234c",
   "metadata": {
    "papermill": {
     "duration": 0.001846,
     "end_time": "2023-07-13T11:37:08.437041",
     "exception": false,
     "start_time": "2023-07-13T11:37:08.435195",
     "status": "completed"
    },
    "tags": []
   },
   "source": [
    "Set output directory"
   ]
  },
  {
   "cell_type": "code",
   "execution_count": 2,
   "id": "e42a3fc5",
   "metadata": {
    "execution": {
     "iopub.execute_input": "2023-07-13T11:37:08.442250Z",
     "iopub.status.busy": "2023-07-13T11:37:08.441554Z",
     "iopub.status.idle": "2023-07-13T11:37:08.444950Z",
     "shell.execute_reply": "2023-07-13T11:37:08.444380Z"
    },
    "papermill": {
     "duration": 0.007561,
     "end_time": "2023-07-13T11:37:08.446402",
     "exception": false,
     "start_time": "2023-07-13T11:37:08.438841",
     "status": "completed"
    },
    "tags": []
   },
   "outputs": [],
   "source": [
    "OUT_DIR = '../../../../docs/metrics/events/my-leeds-2023/_data/events'"
   ]
  },
  {
   "cell_type": "markdown",
   "id": "7923b32f",
   "metadata": {
    "papermill": {
     "duration": 0.001825,
     "end_time": "2023-07-13T11:37:08.450025",
     "exception": false,
     "start_time": "2023-07-13T11:37:08.448200",
     "status": "completed"
    },
    "tags": []
   },
   "source": [
    "Read in event data and filter by **My LEEDS 2023** project"
   ]
  },
  {
   "cell_type": "code",
   "execution_count": 3,
   "id": "b193aac8",
   "metadata": {
    "execution": {
     "iopub.execute_input": "2023-07-13T11:37:08.454913Z",
     "iopub.status.busy": "2023-07-13T11:37:08.454460Z",
     "iopub.status.idle": "2023-07-13T11:37:08.469986Z",
     "shell.execute_reply": "2023-07-13T11:37:08.469378Z"
    },
    "papermill": {
     "duration": 0.019896,
     "end_time": "2023-07-13T11:37:08.471695",
     "exception": false,
     "start_time": "2023-07-13T11:37:08.451799",
     "status": "completed"
    },
    "tags": []
   },
   "outputs": [],
   "source": [
    "data = load_event_data().pipe(filter_by_project, '12 - My LEEDS 2023')"
   ]
  },
  {
   "cell_type": "markdown",
   "id": "eee3d01b",
   "metadata": {
    "papermill": {
     "duration": 0.001764,
     "end_time": "2023-07-13T11:37:08.475433",
     "exception": false,
     "start_time": "2023-07-13T11:37:08.473669",
     "status": "completed"
    },
    "tags": []
   },
   "source": [
    "Run the processing and save the files"
   ]
  },
  {
   "cell_type": "code",
   "execution_count": 4,
   "id": "e3459899",
   "metadata": {
    "execution": {
     "iopub.execute_input": "2023-07-13T11:37:08.480521Z",
     "iopub.status.busy": "2023-07-13T11:37:08.479920Z",
     "iopub.status.idle": "2023-07-13T11:37:08.551458Z",
     "shell.execute_reply": "2023-07-13T11:37:08.550769Z"
    },
    "papermill": {
     "duration": 0.076194,
     "end_time": "2023-07-13T11:37:08.553487",
     "exception": false,
     "start_time": "2023-07-13T11:37:08.477293",
     "status": "completed"
    },
    "tags": []
   },
   "outputs": [],
   "source": [
    "data = data.pipe(prepare).pipe(save_files, OUT_DIR)"
   ]
  },
  {
   "cell_type": "markdown",
   "id": "9ef778b5",
   "metadata": {
    "papermill": {
     "duration": 0.00193,
     "end_time": "2023-07-13T11:37:08.557883",
     "exception": false,
     "start_time": "2023-07-13T11:37:08.555953",
     "status": "completed"
    },
    "tags": []
   },
   "source": [
    "Print a list of events which have no ward, or more than one"
   ]
  },
  {
   "cell_type": "code",
   "execution_count": 5,
   "id": "26aaae62",
   "metadata": {
    "execution": {
     "iopub.execute_input": "2023-07-13T11:37:08.563351Z",
     "iopub.status.busy": "2023-07-13T11:37:08.562727Z",
     "iopub.status.idle": "2023-07-13T11:37:08.576729Z",
     "shell.execute_reply": "2023-07-13T11:37:08.576078Z"
    },
    "papermill": {
     "duration": 0.018689,
     "end_time": "2023-07-13T11:37:08.578511",
     "exception": false,
     "start_time": "2023-07-13T11:37:08.559822",
     "status": "completed"
    },
    "tags": []
   },
   "outputs": [
    {
     "data": {
      "text/html": [
       "<div>\n",
       "<style scoped>\n",
       "    .dataframe tbody tr th:only-of-type {\n",
       "        vertical-align: middle;\n",
       "    }\n",
       "\n",
       "    .dataframe tbody tr th {\n",
       "        vertical-align: top;\n",
       "    }\n",
       "\n",
       "    .dataframe thead th {\n",
       "        text-align: right;\n",
       "    }\n",
       "</style>\n",
       "<table border=\"1\" class=\"dataframe\">\n",
       "  <thead>\n",
       "    <tr style=\"text-align: right;\">\n",
       "      <th></th>\n",
       "      <th>airtable_id</th>\n",
       "      <th>event_name</th>\n",
       "      <th>start_date</th>\n",
       "      <th>ward_(from_venue)</th>\n",
       "    </tr>\n",
       "  </thead>\n",
       "  <tbody>\n",
       "    <tr>\n",
       "      <th>11</th>\n",
       "      <td>265</td>\n",
       "      <td>My Leeds Event Day 1 (Live Activation)</td>\n",
       "      <td>2023-07-08</td>\n",
       "      <td>NaN</td>\n",
       "    </tr>\n",
       "    <tr>\n",
       "      <th>507</th>\n",
       "      <td>656</td>\n",
       "      <td>The Gift: digital gift launch</td>\n",
       "      <td>2023-06-19</td>\n",
       "      <td>NaN</td>\n",
       "    </tr>\n",
       "    <tr>\n",
       "      <th>571</th>\n",
       "      <td>657</td>\n",
       "      <td>The Gift: Garments</td>\n",
       "      <td>2023-06-17</td>\n",
       "      <td>NaN</td>\n",
       "    </tr>\n",
       "    <tr>\n",
       "      <th>687</th>\n",
       "      <td>430</td>\n",
       "      <td>My LEEDS Summer: Alwoodley Festival of Sport a...</td>\n",
       "      <td>2023-07-09</td>\n",
       "      <td>['Alwoodley', 'Alwoodley', 'Alwoodley', 'Alwoo...</td>\n",
       "    </tr>\n",
       "  </tbody>\n",
       "</table>\n",
       "</div>"
      ],
      "text/plain": [
       "     airtable_id                                         event_name  \\\n",
       "11           265             My Leeds Event Day 1 (Live Activation)   \n",
       "507          656                     The Gift: digital gift launch    \n",
       "571          657                                 The Gift: Garments   \n",
       "687          430  My LEEDS Summer: Alwoodley Festival of Sport a...   \n",
       "\n",
       "    start_date                                  ward_(from_venue)  \n",
       "11  2023-07-08                                                NaN  \n",
       "507 2023-06-19                                                NaN  \n",
       "571 2023-06-17                                                NaN  \n",
       "687 2023-07-09  ['Alwoodley', 'Alwoodley', 'Alwoodley', 'Alwoo...  "
      ]
     },
     "execution_count": 5,
     "metadata": {},
     "output_type": "execute_result"
    }
   ],
   "source": [
    "data[data.pipe(count_wards) != 1][[\n",
    "    'airtable_id',\n",
    "    'event_name',\n",
    "    'start_date',\n",
    "    'ward_(from_venue)',\n",
    "]]"
   ]
  },
  {
   "cell_type": "markdown",
   "id": "5a54cb07",
   "metadata": {
    "papermill": {
     "duration": 0.001979,
     "end_time": "2023-07-13T11:37:08.582617",
     "exception": false,
     "start_time": "2023-07-13T11:37:08.580638",
     "status": "completed"
    },
    "tags": []
   },
   "source": [
    "Print a list of events with no audience recorded"
   ]
  },
  {
   "cell_type": "code",
   "execution_count": 6,
   "id": "d5b27847",
   "metadata": {
    "execution": {
     "iopub.execute_input": "2023-07-13T11:37:08.587963Z",
     "iopub.status.busy": "2023-07-13T11:37:08.587461Z",
     "iopub.status.idle": "2023-07-13T11:37:08.600553Z",
     "shell.execute_reply": "2023-07-13T11:37:08.599968Z"
    },
    "papermill": {
     "duration": 0.017314,
     "end_time": "2023-07-13T11:37:08.601958",
     "exception": false,
     "start_time": "2023-07-13T11:37:08.584644",
     "status": "completed"
    },
    "tags": []
   },
   "outputs": [
    {
     "data": {
      "text/html": [
       "<div>\n",
       "<style scoped>\n",
       "    .dataframe tbody tr th:only-of-type {\n",
       "        vertical-align: middle;\n",
       "    }\n",
       "\n",
       "    .dataframe tbody tr th {\n",
       "        vertical-align: top;\n",
       "    }\n",
       "\n",
       "    .dataframe thead th {\n",
       "        text-align: right;\n",
       "    }\n",
       "</style>\n",
       "<table border=\"1\" class=\"dataframe\">\n",
       "  <thead>\n",
       "    <tr style=\"text-align: right;\">\n",
       "      <th></th>\n",
       "      <th>airtable_id</th>\n",
       "      <th>event_name</th>\n",
       "      <th>start_date</th>\n",
       "      <th>audience_size</th>\n",
       "    </tr>\n",
       "  </thead>\n",
       "  <tbody>\n",
       "    <tr>\n",
       "      <th>11</th>\n",
       "      <td>265</td>\n",
       "      <td>My Leeds Event Day 1 (Live Activation)</td>\n",
       "      <td>2023-07-08</td>\n",
       "      <td>0.0</td>\n",
       "    </tr>\n",
       "    <tr>\n",
       "      <th>38</th>\n",
       "      <td>560</td>\n",
       "      <td>Pudsey Grant Info Session</td>\n",
       "      <td>2023-02-13</td>\n",
       "      <td>0.0</td>\n",
       "    </tr>\n",
       "    <tr>\n",
       "      <th>40</th>\n",
       "      <td>566</td>\n",
       "      <td>Weetwood Grant Info Session 2</td>\n",
       "      <td>2023-02-19</td>\n",
       "      <td>0.0</td>\n",
       "    </tr>\n",
       "    <tr>\n",
       "      <th>43</th>\n",
       "      <td>431</td>\n",
       "      <td>My LEEDS Summer: Harewood The BIG My Leeds Sum...</td>\n",
       "      <td>2023-07-09</td>\n",
       "      <td>0.0</td>\n",
       "    </tr>\n",
       "    <tr>\n",
       "      <th>50</th>\n",
       "      <td>559</td>\n",
       "      <td>Otley and Yeadon Grant Info Session 2</td>\n",
       "      <td>2023-02-21</td>\n",
       "      <td>0.0</td>\n",
       "    </tr>\n",
       "    <tr>\n",
       "      <th>71</th>\n",
       "      <td>565</td>\n",
       "      <td>Weetwood Grant Info Session 1</td>\n",
       "      <td>2023-02-15</td>\n",
       "      <td>0.0</td>\n",
       "    </tr>\n",
       "    <tr>\n",
       "      <th>74</th>\n",
       "      <td>428</td>\n",
       "      <td>My LEEDS Summer: Gipton &amp; Harehills</td>\n",
       "      <td>2023-07-08</td>\n",
       "      <td>0.0</td>\n",
       "    </tr>\n",
       "    <tr>\n",
       "      <th>91</th>\n",
       "      <td>432</td>\n",
       "      <td>My LEEDS Summer: Ardsley &amp; Robin Hood Celebrat...</td>\n",
       "      <td>2023-07-09</td>\n",
       "      <td>0.0</td>\n",
       "    </tr>\n",
       "    <tr>\n",
       "      <th>104</th>\n",
       "      <td>563</td>\n",
       "      <td>Roundhay Grant Info Session 2</td>\n",
       "      <td>2023-02-16</td>\n",
       "      <td>0.0</td>\n",
       "    </tr>\n",
       "    <tr>\n",
       "      <th>116</th>\n",
       "      <td>558</td>\n",
       "      <td>Otley and Yeadon Grant Info Session 1</td>\n",
       "      <td>2023-02-20</td>\n",
       "      <td>0.0</td>\n",
       "    </tr>\n",
       "    <tr>\n",
       "      <th>199</th>\n",
       "      <td>417</td>\n",
       "      <td>My LEEDS Summer: Moortown Picnic in the Park</td>\n",
       "      <td>2023-06-24</td>\n",
       "      <td>0.0</td>\n",
       "    </tr>\n",
       "    <tr>\n",
       "      <th>266</th>\n",
       "      <td>561</td>\n",
       "      <td>Rothwell Grant Info Session</td>\n",
       "      <td>2023-02-13</td>\n",
       "      <td>0.0</td>\n",
       "    </tr>\n",
       "    <tr>\n",
       "      <th>370</th>\n",
       "      <td>425</td>\n",
       "      <td>My LEEDS Summer: Guiseley and Rawdon Feast</td>\n",
       "      <td>2023-07-02</td>\n",
       "      <td>0.0</td>\n",
       "    </tr>\n",
       "    <tr>\n",
       "      <th>391</th>\n",
       "      <td>426</td>\n",
       "      <td>My LEEDS Summer: Otley &amp; Yeadon: Heritage Live</td>\n",
       "      <td>2023-07-06</td>\n",
       "      <td>0.0</td>\n",
       "    </tr>\n",
       "    <tr>\n",
       "      <th>507</th>\n",
       "      <td>656</td>\n",
       "      <td>The Gift: digital gift launch</td>\n",
       "      <td>2023-06-19</td>\n",
       "      <td>0.0</td>\n",
       "    </tr>\n",
       "    <tr>\n",
       "      <th>541</th>\n",
       "      <td>564</td>\n",
       "      <td>Temple Newsam Grant Info Session</td>\n",
       "      <td>2023-02-16</td>\n",
       "      <td>0.0</td>\n",
       "    </tr>\n",
       "    <tr>\n",
       "      <th>571</th>\n",
       "      <td>657</td>\n",
       "      <td>The Gift: Garments</td>\n",
       "      <td>2023-06-17</td>\n",
       "      <td>0.0</td>\n",
       "    </tr>\n",
       "    <tr>\n",
       "      <th>623</th>\n",
       "      <td>562</td>\n",
       "      <td>Roundhay Grant Info Session 1</td>\n",
       "      <td>2023-02-13</td>\n",
       "      <td>0.0</td>\n",
       "    </tr>\n",
       "    <tr>\n",
       "      <th>687</th>\n",
       "      <td>430</td>\n",
       "      <td>My LEEDS Summer: Alwoodley Festival of Sport a...</td>\n",
       "      <td>2023-07-09</td>\n",
       "      <td>0.0</td>\n",
       "    </tr>\n",
       "    <tr>\n",
       "      <th>772</th>\n",
       "      <td>568</td>\n",
       "      <td>Wetherby Grant Info Session 2</td>\n",
       "      <td>2023-02-21</td>\n",
       "      <td>0.0</td>\n",
       "    </tr>\n",
       "    <tr>\n",
       "      <th>821</th>\n",
       "      <td>567</td>\n",
       "      <td>Wetherby Grant Info Session 1</td>\n",
       "      <td>2023-02-14</td>\n",
       "      <td>0.0</td>\n",
       "    </tr>\n",
       "  </tbody>\n",
       "</table>\n",
       "</div>"
      ],
      "text/plain": [
       "     airtable_id                                         event_name  \\\n",
       "11           265             My Leeds Event Day 1 (Live Activation)   \n",
       "38           560                          Pudsey Grant Info Session   \n",
       "40           566                      Weetwood Grant Info Session 2   \n",
       "43           431  My LEEDS Summer: Harewood The BIG My Leeds Sum...   \n",
       "50           559              Otley and Yeadon Grant Info Session 2   \n",
       "71           565                      Weetwood Grant Info Session 1   \n",
       "74           428                My LEEDS Summer: Gipton & Harehills   \n",
       "91           432  My LEEDS Summer: Ardsley & Robin Hood Celebrat...   \n",
       "104          563                      Roundhay Grant Info Session 2   \n",
       "116          558              Otley and Yeadon Grant Info Session 1   \n",
       "199          417       My LEEDS Summer: Moortown Picnic in the Park   \n",
       "266          561                        Rothwell Grant Info Session   \n",
       "370          425         My LEEDS Summer: Guiseley and Rawdon Feast   \n",
       "391          426    My LEEDS Summer: Otley & Yeadon: Heritage Live    \n",
       "507          656                     The Gift: digital gift launch    \n",
       "541          564                   Temple Newsam Grant Info Session   \n",
       "571          657                                 The Gift: Garments   \n",
       "623          562                      Roundhay Grant Info Session 1   \n",
       "687          430  My LEEDS Summer: Alwoodley Festival of Sport a...   \n",
       "772          568                      Wetherby Grant Info Session 2   \n",
       "821          567                      Wetherby Grant Info Session 1   \n",
       "\n",
       "    start_date  audience_size  \n",
       "11  2023-07-08            0.0  \n",
       "38  2023-02-13            0.0  \n",
       "40  2023-02-19            0.0  \n",
       "43  2023-07-09            0.0  \n",
       "50  2023-02-21            0.0  \n",
       "71  2023-02-15            0.0  \n",
       "74  2023-07-08            0.0  \n",
       "91  2023-07-09            0.0  \n",
       "104 2023-02-16            0.0  \n",
       "116 2023-02-20            0.0  \n",
       "199 2023-06-24            0.0  \n",
       "266 2023-02-13            0.0  \n",
       "370 2023-07-02            0.0  \n",
       "391 2023-07-06            0.0  \n",
       "507 2023-06-19            0.0  \n",
       "541 2023-02-16            0.0  \n",
       "571 2023-06-17            0.0  \n",
       "623 2023-02-13            0.0  \n",
       "687 2023-07-09            0.0  \n",
       "772 2023-02-21            0.0  \n",
       "821 2023-02-14            0.0  "
      ]
     },
     "execution_count": 6,
     "metadata": {},
     "output_type": "execute_result"
    }
   ],
   "source": [
    "data[data.audience_size == 0][[\n",
    "    'airtable_id', 'event_name', 'start_date', 'audience_size'\n",
    "]]"
   ]
  }
 ],
 "metadata": {
  "kernelspec": {
   "display_name": "leeds-2023-YZF5GfJv",
   "language": "python",
   "name": "python3"
  },
  "language_info": {
   "codemirror_mode": {
    "name": "ipython",
    "version": 3
   },
   "file_extension": ".py",
   "mimetype": "text/x-python",
   "name": "python",
   "nbconvert_exporter": "python",
   "pygments_lexer": "ipython3",
   "version": "3.10.6"
  },
  "papermill": {
   "default_parameters": {},
   "duration": 2.114044,
   "end_time": "2023-07-13T11:37:08.822134",
   "environment_variables": {},
   "exception": null,
   "input_path": "my-leeds-2023.ipynb",
   "output_path": "../../../../working/output/my-leeds-2023.ipynb",
   "parameters": {},
   "start_time": "2023-07-13T11:37:06.708090",
   "version": "2.4.0"
  }
 },
 "nbformat": 4,
 "nbformat_minor": 5
}