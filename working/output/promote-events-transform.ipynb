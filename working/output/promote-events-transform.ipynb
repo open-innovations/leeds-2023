{
 "cells": [
  {
   "cell_type": "code",
   "execution_count": 1,
   "id": "9403a56b",
   "metadata": {
    "execution": {
     "iopub.execute_input": "2023-07-29T23:40:50.104116Z",
     "iopub.status.busy": "2023-07-29T23:40:50.103761Z",
     "iopub.status.idle": "2023-07-29T23:40:50.407315Z",
     "shell.execute_reply": "2023-07-29T23:40:50.406305Z"
    },
    "papermill": {
     "duration": 0.309902,
     "end_time": "2023-07-29T23:40:50.409912",
     "exception": false,
     "start_time": "2023-07-29T23:40:50.100010",
     "status": "completed"
    },
    "tags": []
   },
   "outputs": [],
   "source": [
    "import os\n",
    "import pandas as pd"
   ]
  },
  {
   "cell_type": "code",
   "execution_count": 2,
   "id": "855e66e0",
   "metadata": {
    "execution": {
     "iopub.execute_input": "2023-07-29T23:40:50.415078Z",
     "iopub.status.busy": "2023-07-29T23:40:50.414301Z",
     "iopub.status.idle": "2023-07-29T23:40:50.419016Z",
     "shell.execute_reply": "2023-07-29T23:40:50.418115Z"
    },
    "papermill": {
     "duration": 0.009208,
     "end_time": "2023-07-29T23:40:50.420995",
     "exception": false,
     "start_time": "2023-07-29T23:40:50.411787",
     "status": "completed"
    },
    "tags": []
   },
   "outputs": [],
   "source": [
    "EVENTS_RAW_DATA = '../../../working/metrics/promote-events/events.csv'\n",
    "DATA_DIR = '../../../data/metrics/events/promote-events/'\n",
    "EVENTS_DATA = os.path.join(DATA_DIR, 'events.csv')"
   ]
  },
  {
   "cell_type": "code",
   "execution_count": 3,
   "id": "ea59d4aa",
   "metadata": {
    "execution": {
     "iopub.execute_input": "2023-07-29T23:40:50.425375Z",
     "iopub.status.busy": "2023-07-29T23:40:50.424613Z",
     "iopub.status.idle": "2023-07-29T23:40:50.429287Z",
     "shell.execute_reply": "2023-07-29T23:40:50.428148Z"
    },
    "papermill": {
     "duration": 0.010179,
     "end_time": "2023-07-29T23:40:50.432492",
     "exception": false,
     "start_time": "2023-07-29T23:40:50.422313",
     "status": "completed"
    },
    "tags": []
   },
   "outputs": [],
   "source": [
    "columns = {\n",
    "    'id': 'id',\n",
    "    'name': 'name',\n",
    "    'locationName': 'location',\n",
    "    'cardPrice': 'card_price',\n",
    "    'timeslots': 'time',\n",
    "    'displayOnWebsite': 'display',\n",
    "    'Stage': 'stage',\n",
    "}"
   ]
  },
  {
   "cell_type": "code",
   "execution_count": 4,
   "id": "ef55ce03",
   "metadata": {
    "execution": {
     "iopub.execute_input": "2023-07-29T23:40:50.436719Z",
     "iopub.status.busy": "2023-07-29T23:40:50.436457Z",
     "iopub.status.idle": "2023-07-29T23:40:50.454145Z",
     "shell.execute_reply": "2023-07-29T23:40:50.452719Z"
    },
    "papermill": {
     "duration": 0.022795,
     "end_time": "2023-07-29T23:40:50.456844",
     "exception": false,
     "start_time": "2023-07-29T23:40:50.434049",
     "status": "completed"
    },
    "tags": []
   },
   "outputs": [],
   "source": [
    "data = pd.read_csv(EVENTS_RAW_DATA)[columns.keys()].rename(columns=columns)\n",
    "data.time = pd.to_datetime(data.time, errors='coerce')"
   ]
  },
  {
   "cell_type": "code",
   "execution_count": 5,
   "id": "ebfd9833",
   "metadata": {
    "execution": {
     "iopub.execute_input": "2023-07-29T23:40:50.461702Z",
     "iopub.status.busy": "2023-07-29T23:40:50.461437Z",
     "iopub.status.idle": "2023-07-29T23:40:50.471088Z",
     "shell.execute_reply": "2023-07-29T23:40:50.470219Z"
    },
    "papermill": {
     "duration": 0.014628,
     "end_time": "2023-07-29T23:40:50.472865",
     "exception": false,
     "start_time": "2023-07-29T23:40:50.458237",
     "status": "completed"
    },
    "tags": []
   },
   "outputs": [],
   "source": [
    "data.to_csv(os.path.join(DATA_DIR, 'events.csv'), index=False)"
   ]
  }
 ],
 "metadata": {
  "kernelspec": {
   "display_name": "leeds-2023-YZF5GfJv",
   "language": "python",
   "name": "python3"
  },
  "language_info": {
   "codemirror_mode": {
    "name": "ipython",
    "version": 3
   },
   "file_extension": ".py",
   "mimetype": "text/x-python",
   "name": "python",
   "nbconvert_exporter": "python",
   "pygments_lexer": "ipython3",
   "version": "3.10.6"
  },
  "papermill": {
   "default_parameters": {},
   "duration": 2.113129,
   "end_time": "2023-07-29T23:40:50.692040",
   "environment_variables": {},
   "exception": null,
   "input_path": "transform.ipynb",
   "output_path": "../../../working/output/promote-events-transform.ipynb",
   "parameters": {},
   "start_time": "2023-07-29T23:40:48.578911",
   "version": "2.4.0"
  }
 },
 "nbformat": 4,
 "nbformat_minor": 5
}