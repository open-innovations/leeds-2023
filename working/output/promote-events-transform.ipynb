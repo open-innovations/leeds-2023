{
 "cells": [
  {
   "cell_type": "code",
   "execution_count": 1,
   "id": "b0380d97",
   "metadata": {
    "execution": {
     "iopub.execute_input": "2023-07-27T19:15:27.414201Z",
     "iopub.status.busy": "2023-07-27T19:15:27.413506Z",
     "iopub.status.idle": "2023-07-27T19:15:27.667062Z",
     "shell.execute_reply": "2023-07-27T19:15:27.666356Z"
    },
    "papermill": {
     "duration": 0.258563,
     "end_time": "2023-07-27T19:15:27.668992",
     "exception": false,
     "start_time": "2023-07-27T19:15:27.410429",
     "status": "completed"
    },
    "tags": []
   },
   "outputs": [],
   "source": [
    "import os\n",
    "import pandas as pd"
   ]
  },
  {
   "cell_type": "code",
   "execution_count": 2,
   "id": "aaed3cd6",
   "metadata": {
    "execution": {
     "iopub.execute_input": "2023-07-27T19:15:27.673310Z",
     "iopub.status.busy": "2023-07-27T19:15:27.672803Z",
     "iopub.status.idle": "2023-07-27T19:15:27.676334Z",
     "shell.execute_reply": "2023-07-27T19:15:27.675689Z"
    },
    "papermill": {
     "duration": 0.007401,
     "end_time": "2023-07-27T19:15:27.677939",
     "exception": false,
     "start_time": "2023-07-27T19:15:27.670538",
     "status": "completed"
    },
    "tags": []
   },
   "outputs": [],
   "source": [
    "EVENTS_RAW_DATA = '../../../working/metrics/promote-events/events.csv'\n",
    "DATA_DIR = '../../../data/metrics/events/promote-events/'\n",
    "EVENTS_DATA = os.path.join(DATA_DIR, 'events.csv')"
   ]
  },
  {
   "cell_type": "code",
   "execution_count": 3,
   "id": "c9d183d1",
   "metadata": {
    "execution": {
     "iopub.execute_input": "2023-07-27T19:15:27.681422Z",
     "iopub.status.busy": "2023-07-27T19:15:27.681012Z",
     "iopub.status.idle": "2023-07-27T19:15:27.684311Z",
     "shell.execute_reply": "2023-07-27T19:15:27.683683Z"
    },
    "papermill": {
     "duration": 0.006705,
     "end_time": "2023-07-27T19:15:27.685808",
     "exception": false,
     "start_time": "2023-07-27T19:15:27.679103",
     "status": "completed"
    },
    "tags": []
   },
   "outputs": [],
   "source": [
    "columns = {\n",
    "    'id': 'id',\n",
    "    'name': 'name',\n",
    "    'locationName': 'location',\n",
    "    'cardPrice': 'card_price',\n",
    "    'timeslots': 'time',\n",
    "    'displayOnWebsite': 'display',\n",
    "    'Stage': 'stage',\n",
    "}"
   ]
  },
  {
   "cell_type": "code",
   "execution_count": 4,
   "id": "b4a4bd5c",
   "metadata": {
    "execution": {
     "iopub.execute_input": "2023-07-27T19:15:27.689283Z",
     "iopub.status.busy": "2023-07-27T19:15:27.688886Z",
     "iopub.status.idle": "2023-07-27T19:15:27.702158Z",
     "shell.execute_reply": "2023-07-27T19:15:27.701580Z"
    },
    "papermill": {
     "duration": 0.016695,
     "end_time": "2023-07-27T19:15:27.703672",
     "exception": false,
     "start_time": "2023-07-27T19:15:27.686977",
     "status": "completed"
    },
    "tags": []
   },
   "outputs": [],
   "source": [
    "data = pd.read_csv(EVENTS_RAW_DATA)[columns.keys()].rename(columns=columns)\n",
    "data.time = pd.to_datetime(data.time, errors='coerce')"
   ]
  },
  {
   "cell_type": "code",
   "execution_count": 5,
   "id": "e0e4cd83",
   "metadata": {
    "execution": {
     "iopub.execute_input": "2023-07-27T19:15:27.707374Z",
     "iopub.status.busy": "2023-07-27T19:15:27.707059Z",
     "iopub.status.idle": "2023-07-27T19:15:27.715600Z",
     "shell.execute_reply": "2023-07-27T19:15:27.715020Z"
    },
    "papermill": {
     "duration": 0.012035,
     "end_time": "2023-07-27T19:15:27.717004",
     "exception": false,
     "start_time": "2023-07-27T19:15:27.704969",
     "status": "completed"
    },
    "tags": []
   },
   "outputs": [],
   "source": [
    "data.to_csv(os.path.join(DATA_DIR, 'events.csv'), index=False)"
   ]
  }
 ],
 "metadata": {
  "kernelspec": {
   "display_name": "leeds-2023-YZF5GfJv",
   "language": "python",
   "name": "python3"
  },
  "language_info": {
   "codemirror_mode": {
    "name": "ipython",
    "version": 3
   },
   "file_extension": ".py",
   "mimetype": "text/x-python",
   "name": "python",
   "nbconvert_exporter": "python",
   "pygments_lexer": "ipython3",
   "version": "3.10.6"
  },
  "papermill": {
   "default_parameters": {},
   "duration": 1.934955,
   "end_time": "2023-07-27T19:15:27.934154",
   "environment_variables": {},
   "exception": null,
   "input_path": "transform.ipynb",
   "output_path": "../../../working/output/promote-events-transform.ipynb",
   "parameters": {},
   "start_time": "2023-07-27T19:15:25.999199",
   "version": "2.4.0"
  }
 },
 "nbformat": 4,
 "nbformat_minor": 5
}