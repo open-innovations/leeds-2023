{
 "cells": [
  {
   "cell_type": "code",
   "execution_count": 1,
   "id": "6ea8c9d6",
   "metadata": {
    "execution": {
     "iopub.execute_input": "2023-11-22T15:26:46.672436Z",
     "iopub.status.busy": "2023-11-22T15:26:46.672232Z",
     "iopub.status.idle": "2023-11-22T15:26:53.900681Z",
     "shell.execute_reply": "2023-11-22T15:26:53.900032Z"
    },
    "papermill": {
     "duration": 7.233395,
     "end_time": "2023-11-22T15:26:53.902360",
     "exception": false,
     "start_time": "2023-11-22T15:26:46.668965",
     "status": "completed"
    },
    "tags": []
   },
   "outputs": [],
   "source": [
    "import os\n",
    "import pandas as pd\n",
    "from events import load_event_data, get_first_ward, normalise_ward"
   ]
  },
  {
   "cell_type": "code",
   "execution_count": 2,
   "id": "e9124d7e",
   "metadata": {
    "execution": {
     "iopub.execute_input": "2023-11-22T15:26:53.907800Z",
     "iopub.status.busy": "2023-11-22T15:26:53.907314Z",
     "iopub.status.idle": "2023-11-22T15:26:53.910918Z",
     "shell.execute_reply": "2023-11-22T15:26:53.910378Z"
    },
    "papermill": {
     "duration": 0.007555,
     "end_time": "2023-11-22T15:26:53.912190",
     "exception": false,
     "start_time": "2023-11-22T15:26:53.904635",
     "status": "completed"
    },
    "tags": []
   },
   "outputs": [],
   "source": [
    "latest_date = pd.Timestamp.today().ceil('D')"
   ]
  },
  {
   "cell_type": "code",
   "execution_count": 3,
   "id": "a5849201",
   "metadata": {
    "execution": {
     "iopub.execute_input": "2023-11-22T15:26:53.916809Z",
     "iopub.status.busy": "2023-11-22T15:26:53.916468Z",
     "iopub.status.idle": "2023-11-22T15:26:53.930447Z",
     "shell.execute_reply": "2023-11-22T15:26:53.929958Z"
    },
    "papermill": {
     "duration": 0.017634,
     "end_time": "2023-11-22T15:26:53.931639",
     "exception": false,
     "start_time": "2023-11-22T15:26:53.914005",
     "status": "completed"
    },
    "tags": []
   },
   "outputs": [],
   "source": [
    "tickets = pd.read_csv('../../../../data/metrics/events/tickets/orders.csv', parse_dates=['created_at', 'event_date'])\n",
    "tickets = tickets[tickets.event_date <= latest_date]"
   ]
  },
  {
   "cell_type": "code",
   "execution_count": 4,
   "id": "0f15f01d",
   "metadata": {
    "execution": {
     "iopub.execute_input": "2023-11-22T15:26:53.936331Z",
     "iopub.status.busy": "2023-11-22T15:26:53.935996Z",
     "iopub.status.idle": "2023-11-22T15:26:53.981965Z",
     "shell.execute_reply": "2023-11-22T15:26:53.981474Z"
    },
    "papermill": {
     "duration": 0.049755,
     "end_time": "2023-11-22T15:26:53.983239",
     "exception": false,
     "start_time": "2023-11-22T15:26:53.933484",
     "status": "completed"
    },
    "tags": []
   },
   "outputs": [],
   "source": [
    "events = load_event_data()\n",
    "\n",
    "events = pd.concat([\n",
    "  events,\n",
    "  events.pipe(get_first_ward).pipe(normalise_ward).fillna('UNKNOWN'),\n",
    "  pd.Series(\n",
    "      events.actual_audience_size_number_of_participants_in_person + events.actual_audience_size_number_of_participants_online,\n",
    "      name='attendances'\n",
    "  )\n",
    "], axis=1).rename(columns={\n",
    "    'start_date': 'date'\n",
    "}).loc[:, ['ward_code', 'date', 'event_unique_identifier', 'attendances']]"
   ]
  },
  {
   "cell_type": "code",
   "execution_count": 5,
   "id": "10f44a30",
   "metadata": {
    "execution": {
     "iopub.execute_input": "2023-11-22T15:26:53.988074Z",
     "iopub.status.busy": "2023-11-22T15:26:53.987664Z",
     "iopub.status.idle": "2023-11-22T15:26:53.990770Z",
     "shell.execute_reply": "2023-11-22T15:26:53.990153Z"
    },
    "papermill": {
     "duration": 0.006889,
     "end_time": "2023-11-22T15:26:53.992057",
     "exception": false,
     "start_time": "2023-11-22T15:26:53.985168",
     "status": "completed"
    },
    "tags": []
   },
   "outputs": [],
   "source": [
    "OUTPUT_DIR='../../../../docs/metrics/events/signature/_data/'\n",
    "os.makedirs(OUTPUT_DIR, exist_ok=True)"
   ]
  },
  {
   "cell_type": "markdown",
   "id": "f45602e2",
   "metadata": {
    "papermill": {
     "duration": 0.001937,
     "end_time": "2023-11-22T15:26:53.995901",
     "exception": false,
     "start_time": "2023-11-22T15:26:53.993964",
     "status": "completed"
    },
    "tags": []
   },
   "source": [
    "Events CSVs"
   ]
  },
  {
   "cell_type": "code",
   "execution_count": 6,
   "id": "9e63402b",
   "metadata": {
    "execution": {
     "iopub.execute_input": "2023-11-22T15:26:54.000567Z",
     "iopub.status.busy": "2023-11-22T15:26:54.000213Z",
     "iopub.status.idle": "2023-11-22T15:26:54.005967Z",
     "shell.execute_reply": "2023-11-22T15:26:54.005365Z"
    },
    "papermill": {
     "duration": 0.009561,
     "end_time": "2023-11-22T15:26:54.007331",
     "exception": false,
     "start_time": "2023-11-22T15:26:53.997770",
     "status": "completed"
    },
    "tags": []
   },
   "outputs": [],
   "source": [
    "pd.DataFrame({\n",
    "  'events': events.groupby('ward_code').event_unique_identifier.count(),\n",
    "  'attendances': events.groupby('ward_code').attendances.sum().astype(int),\n",
    "}).to_csv(os.path.join(OUTPUT_DIR, 'events_by_ward.csv'))\n"
   ]
  },
  {
   "cell_type": "code",
   "execution_count": 7,
   "id": "78709754",
   "metadata": {
    "execution": {
     "iopub.execute_input": "2023-11-22T15:26:54.012342Z",
     "iopub.status.busy": "2023-11-22T15:26:54.012021Z",
     "iopub.status.idle": "2023-11-22T15:26:54.019560Z",
     "shell.execute_reply": "2023-11-22T15:26:54.018949Z"
    },
    "papermill": {
     "duration": 0.011705,
     "end_time": "2023-11-22T15:26:54.021116",
     "exception": false,
     "start_time": "2023-11-22T15:26:54.009411",
     "status": "completed"
    },
    "tags": []
   },
   "outputs": [],
   "source": [
    "pd.DataFrame({\n",
    "  'events': events.groupby('date').event_unique_identifier.count(),\n",
    "  'attendances': events.groupby('date').attendances.sum().astype(int),\n",
    "}).resample('M').sum().astype(int).to_csv(os.path.join(OUTPUT_DIR, 'events_by_date.csv'))"
   ]
  },
  {
   "cell_type": "markdown",
   "id": "8f73efd4",
   "metadata": {
    "papermill": {
     "duration": 0.002788,
     "end_time": "2023-11-22T15:26:54.025888",
     "exception": false,
     "start_time": "2023-11-22T15:26:54.023100",
     "status": "completed"
    },
    "tags": []
   },
   "source": [
    "Tickets CSV"
   ]
  },
  {
   "cell_type": "code",
   "execution_count": 8,
   "id": "604b4760",
   "metadata": {
    "execution": {
     "iopub.execute_input": "2023-11-22T15:26:54.031148Z",
     "iopub.status.busy": "2023-11-22T15:26:54.030678Z",
     "iopub.status.idle": "2023-11-22T15:26:54.036542Z",
     "shell.execute_reply": "2023-11-22T15:26:54.035924Z"
    },
    "papermill": {
     "duration": 0.009774,
     "end_time": "2023-11-22T15:26:54.037897",
     "exception": false,
     "start_time": "2023-11-22T15:26:54.028123",
     "status": "completed"
    },
    "tags": []
   },
   "outputs": [],
   "source": [
    "pd.DataFrame({\n",
    "  'orders': tickets.groupby('ward_code').number_of_tickets.count(),\n",
    "  'tickets': tickets.groupby('ward_code').number_of_tickets.sum().astype(int),\n",
    "}).to_csv(os.path.join(OUTPUT_DIR, 'tickets_by_ward.csv'))"
   ]
  },
  {
   "cell_type": "code",
   "execution_count": 9,
   "id": "b3f17ac7",
   "metadata": {
    "execution": {
     "iopub.execute_input": "2023-11-22T15:26:54.042996Z",
     "iopub.status.busy": "2023-11-22T15:26:54.042601Z",
     "iopub.status.idle": "2023-11-22T15:26:54.049184Z",
     "shell.execute_reply": "2023-11-22T15:26:54.048649Z"
    },
    "papermill": {
     "duration": 0.010552,
     "end_time": "2023-11-22T15:26:54.050495",
     "exception": false,
     "start_time": "2023-11-22T15:26:54.039943",
     "status": "completed"
    },
    "tags": []
   },
   "outputs": [],
   "source": [
    "pd.DataFrame({\n",
    "  'orders': tickets.groupby('event_date').number_of_tickets.count(),\n",
    "  'tickets': tickets.groupby('event_date').number_of_tickets.sum().astype(int),\n",
    "}).resample('M').sum().to_csv(os.path.join(OUTPUT_DIR, 'tickets_by_event_date.csv'))"
   ]
  },
  {
   "cell_type": "code",
   "execution_count": 10,
   "id": "f532d104",
   "metadata": {
    "execution": {
     "iopub.execute_input": "2023-11-22T15:26:54.055582Z",
     "iopub.status.busy": "2023-11-22T15:26:54.055238Z",
     "iopub.status.idle": "2023-11-22T15:26:54.059674Z",
     "shell.execute_reply": "2023-11-22T15:26:54.059176Z"
    },
    "papermill": {
     "duration": 0.008402,
     "end_time": "2023-11-22T15:26:54.060977",
     "exception": false,
     "start_time": "2023-11-22T15:26:54.052575",
     "status": "completed"
    },
    "tags": []
   },
   "outputs": [],
   "source": [
    "pd.Series({\n",
    "    'total_events': events.event_unique_identifier.count(),\n",
    "    'total_attendances': events.attendances.count(),\n",
    "    'first_event': events.date.min(),\n",
    "    'latest_event': events.date.max(),\n",
    "    'total_ticket_orders_for_events_to_date': tickets.number_of_tickets.count(),\n",
    "    'total_tickets_sold_for_events_to_date': tickets.number_of_tickets.sum(),\n",
    "}).to_json(os.path.join(OUTPUT_DIR, 'headlines.json'), indent=2)"
   ]
  },
  {
   "cell_type": "code",
   "execution_count": null,
   "id": "411ea8a8",
   "metadata": {
    "papermill": {
     "duration": 0.00202,
     "end_time": "2023-11-22T15:26:54.065026",
     "exception": false,
     "start_time": "2023-11-22T15:26:54.063006",
     "status": "completed"
    },
    "tags": []
   },
   "outputs": [],
   "source": []
  }
 ],
 "metadata": {
  "kernelspec": {
   "display_name": "leeds-2023-YZF5GfJv",
   "language": "python",
   "name": "python3"
  },
  "language_info": {
   "codemirror_mode": {
    "name": "ipython",
    "version": 3
   },
   "file_extension": ".py",
   "mimetype": "text/x-python",
   "name": "python",
   "nbconvert_exporter": "python",
   "pygments_lexer": "ipython3",
   "version": "3.10.13"
  },
  "papermill": {
   "default_parameters": {},
   "duration": 8.849072,
   "end_time": "2023-11-22T15:26:54.283844",
   "environment_variables": {},
   "exception": null,
   "input_path": "prepare.ipynb",
   "output_path": "../../../../working/output/signature-prepare.ipynb",
   "parameters": {},
   "start_time": "2023-11-22T15:26:45.434772",
   "version": "2.4.0"
  }
 },
 "nbformat": 4,
 "nbformat_minor": 5
}