{
 "cells": [
  {
   "cell_type": "code",
   "execution_count": 1,
   "id": "bb8d4c7a",
   "metadata": {
    "execution": {
     "iopub.execute_input": "2023-12-17T23:39:20.257466Z",
     "iopub.status.busy": "2023-12-17T23:39:20.257260Z",
     "iopub.status.idle": "2023-12-17T23:39:27.250664Z",
     "shell.execute_reply": "2023-12-17T23:39:27.250028Z"
    },
    "papermill": {
     "duration": 6.998436,
     "end_time": "2023-12-17T23:39:27.252385",
     "exception": false,
     "start_time": "2023-12-17T23:39:20.253949",
     "status": "completed"
    },
    "tags": []
   },
   "outputs": [],
   "source": [
    "import os\n",
    "import pandas as pd\n",
    "from events import load_event_data, get_first_ward, normalise_ward"
   ]
  },
  {
   "cell_type": "code",
   "execution_count": 2,
   "id": "b30aa3ae",
   "metadata": {
    "execution": {
     "iopub.execute_input": "2023-12-17T23:39:27.257832Z",
     "iopub.status.busy": "2023-12-17T23:39:27.257338Z",
     "iopub.status.idle": "2023-12-17T23:39:27.260882Z",
     "shell.execute_reply": "2023-12-17T23:39:27.260280Z"
    },
    "papermill": {
     "duration": 0.007635,
     "end_time": "2023-12-17T23:39:27.262236",
     "exception": false,
     "start_time": "2023-12-17T23:39:27.254601",
     "status": "completed"
    },
    "tags": []
   },
   "outputs": [],
   "source": [
    "latest_date = pd.Timestamp.today().ceil('D')"
   ]
  },
  {
   "cell_type": "code",
   "execution_count": 3,
   "id": "85cf532e",
   "metadata": {
    "execution": {
     "iopub.execute_input": "2023-12-17T23:39:27.267525Z",
     "iopub.status.busy": "2023-12-17T23:39:27.267048Z",
     "iopub.status.idle": "2023-12-17T23:39:27.283252Z",
     "shell.execute_reply": "2023-12-17T23:39:27.282630Z"
    },
    "papermill": {
     "duration": 0.020642,
     "end_time": "2023-12-17T23:39:27.284763",
     "exception": false,
     "start_time": "2023-12-17T23:39:27.264121",
     "status": "completed"
    },
    "tags": []
   },
   "outputs": [],
   "source": [
    "tickets = pd.read_csv('../../../../data/metrics/events/tickets/orders.csv', parse_dates=['created_at', 'event_date'])\n",
    "tickets = tickets[tickets.event_date <= latest_date]"
   ]
  },
  {
   "cell_type": "code",
   "execution_count": 4,
   "id": "1e97222b",
   "metadata": {
    "execution": {
     "iopub.execute_input": "2023-12-17T23:39:27.289675Z",
     "iopub.status.busy": "2023-12-17T23:39:27.289132Z",
     "iopub.status.idle": "2023-12-17T23:39:27.340703Z",
     "shell.execute_reply": "2023-12-17T23:39:27.340166Z"
    },
    "papermill": {
     "duration": 0.055321,
     "end_time": "2023-12-17T23:39:27.341945",
     "exception": false,
     "start_time": "2023-12-17T23:39:27.286624",
     "status": "completed"
    },
    "tags": []
   },
   "outputs": [],
   "source": [
    "events = load_event_data()\n",
    "\n",
    "events = pd.concat([\n",
    "  events,\n",
    "  events.pipe(get_first_ward).pipe(normalise_ward).fillna('UNKNOWN'),\n",
    "  pd.Series(\n",
    "      events.actual_audience_size_number_of_participants_in_person + events.actual_audience_size_number_of_participants_online,\n",
    "      name='attendances'\n",
    "  )\n",
    "], axis=1).rename(columns={\n",
    "    'start_date': 'date'\n",
    "}).loc[:, ['ward_code', 'date', 'event_unique_identifier', 'attendances']]"
   ]
  },
  {
   "cell_type": "code",
   "execution_count": 5,
   "id": "bae77320",
   "metadata": {
    "execution": {
     "iopub.execute_input": "2023-12-17T23:39:27.346792Z",
     "iopub.status.busy": "2023-12-17T23:39:27.346390Z",
     "iopub.status.idle": "2023-12-17T23:39:27.349417Z",
     "shell.execute_reply": "2023-12-17T23:39:27.348841Z"
    },
    "papermill": {
     "duration": 0.006874,
     "end_time": "2023-12-17T23:39:27.350691",
     "exception": false,
     "start_time": "2023-12-17T23:39:27.343817",
     "status": "completed"
    },
    "tags": []
   },
   "outputs": [],
   "source": [
    "OUTPUT_DIR='../../../../docs/metrics/events/signature/_data/'\n",
    "os.makedirs(OUTPUT_DIR, exist_ok=True)"
   ]
  },
  {
   "cell_type": "markdown",
   "id": "4ccd1564",
   "metadata": {
    "papermill": {
     "duration": 0.001932,
     "end_time": "2023-12-17T23:39:27.354552",
     "exception": false,
     "start_time": "2023-12-17T23:39:27.352620",
     "status": "completed"
    },
    "tags": []
   },
   "source": [
    "Events CSVs"
   ]
  },
  {
   "cell_type": "code",
   "execution_count": 6,
   "id": "ca2cb476",
   "metadata": {
    "execution": {
     "iopub.execute_input": "2023-12-17T23:39:27.359438Z",
     "iopub.status.busy": "2023-12-17T23:39:27.359078Z",
     "iopub.status.idle": "2023-12-17T23:39:27.364937Z",
     "shell.execute_reply": "2023-12-17T23:39:27.364458Z"
    },
    "papermill": {
     "duration": 0.009666,
     "end_time": "2023-12-17T23:39:27.366179",
     "exception": false,
     "start_time": "2023-12-17T23:39:27.356513",
     "status": "completed"
    },
    "tags": []
   },
   "outputs": [],
   "source": [
    "pd.DataFrame({\n",
    "  'events': events.groupby('ward_code').event_unique_identifier.count(),\n",
    "  'attendances': events.groupby('ward_code').attendances.sum().astype(int),\n",
    "}).to_csv(os.path.join(OUTPUT_DIR, 'events_by_ward.csv'))\n"
   ]
  },
  {
   "cell_type": "code",
   "execution_count": 7,
   "id": "5c393bda",
   "metadata": {
    "execution": {
     "iopub.execute_input": "2023-12-17T23:39:27.371119Z",
     "iopub.status.busy": "2023-12-17T23:39:27.370689Z",
     "iopub.status.idle": "2023-12-17T23:39:27.378018Z",
     "shell.execute_reply": "2023-12-17T23:39:27.377522Z"
    },
    "papermill": {
     "duration": 0.011177,
     "end_time": "2023-12-17T23:39:27.379283",
     "exception": false,
     "start_time": "2023-12-17T23:39:27.368106",
     "status": "completed"
    },
    "tags": []
   },
   "outputs": [],
   "source": [
    "pd.DataFrame({\n",
    "  'events': events.groupby('date').event_unique_identifier.count(),\n",
    "  'attendances': events.groupby('date').attendances.sum().astype(int),\n",
    "}).resample('M').sum().astype(int).to_csv(os.path.join(OUTPUT_DIR, 'events_by_date.csv'))"
   ]
  },
  {
   "cell_type": "markdown",
   "id": "7eedf44b",
   "metadata": {
    "papermill": {
     "duration": 0.002633,
     "end_time": "2023-12-17T23:39:27.383886",
     "exception": false,
     "start_time": "2023-12-17T23:39:27.381253",
     "status": "completed"
    },
    "tags": []
   },
   "source": [
    "Tickets CSV"
   ]
  },
  {
   "cell_type": "code",
   "execution_count": 8,
   "id": "dea0eb30",
   "metadata": {
    "execution": {
     "iopub.execute_input": "2023-12-17T23:39:27.388890Z",
     "iopub.status.busy": "2023-12-17T23:39:27.388500Z",
     "iopub.status.idle": "2023-12-17T23:39:27.394210Z",
     "shell.execute_reply": "2023-12-17T23:39:27.393726Z"
    },
    "papermill": {
     "duration": 0.009563,
     "end_time": "2023-12-17T23:39:27.395432",
     "exception": false,
     "start_time": "2023-12-17T23:39:27.385869",
     "status": "completed"
    },
    "tags": []
   },
   "outputs": [],
   "source": [
    "pd.DataFrame({\n",
    "  'orders': tickets.groupby('ward_code').number_of_tickets.count(),\n",
    "  'tickets': tickets.groupby('ward_code').number_of_tickets.sum().astype(int),\n",
    "}).to_csv(os.path.join(OUTPUT_DIR, 'tickets_by_ward.csv'))"
   ]
  },
  {
   "cell_type": "code",
   "execution_count": 9,
   "id": "df381959",
   "metadata": {
    "execution": {
     "iopub.execute_input": "2023-12-17T23:39:27.400470Z",
     "iopub.status.busy": "2023-12-17T23:39:27.400063Z",
     "iopub.status.idle": "2023-12-17T23:39:27.406903Z",
     "shell.execute_reply": "2023-12-17T23:39:27.406298Z"
    },
    "papermill": {
     "duration": 0.010984,
     "end_time": "2023-12-17T23:39:27.408424",
     "exception": false,
     "start_time": "2023-12-17T23:39:27.397440",
     "status": "completed"
    },
    "tags": []
   },
   "outputs": [],
   "source": [
    "pd.DataFrame({\n",
    "  'orders': tickets.groupby('event_date').number_of_tickets.count(),\n",
    "  'tickets': tickets.groupby('event_date').number_of_tickets.sum().astype(int),\n",
    "}).resample('M').sum().to_csv(os.path.join(OUTPUT_DIR, 'tickets_by_event_date.csv'))"
   ]
  },
  {
   "cell_type": "code",
   "execution_count": 10,
   "id": "288f5160",
   "metadata": {
    "execution": {
     "iopub.execute_input": "2023-12-17T23:39:27.413483Z",
     "iopub.status.busy": "2023-12-17T23:39:27.413128Z",
     "iopub.status.idle": "2023-12-17T23:39:27.417711Z",
     "shell.execute_reply": "2023-12-17T23:39:27.417098Z"
    },
    "papermill": {
     "duration": 0.008582,
     "end_time": "2023-12-17T23:39:27.418978",
     "exception": false,
     "start_time": "2023-12-17T23:39:27.410396",
     "status": "completed"
    },
    "tags": []
   },
   "outputs": [],
   "source": [
    "pd.Series({\n",
    "    'total_events': events.event_unique_identifier.count(),\n",
    "    'total_attendances': events.attendances.count(),\n",
    "    'first_event': events.date.min(),\n",
    "    'latest_event': events.date.max(),\n",
    "    'total_ticket_orders_for_events_to_date': tickets.number_of_tickets.count(),\n",
    "    'total_tickets_sold_for_events_to_date': tickets.number_of_tickets.sum(),\n",
    "}).to_json(os.path.join(OUTPUT_DIR, 'headlines.json'), indent=2)"
   ]
  },
  {
   "cell_type": "code",
   "execution_count": null,
   "id": "5d02d4f7",
   "metadata": {
    "papermill": {
     "duration": 0.001961,
     "end_time": "2023-12-17T23:39:27.422979",
     "exception": false,
     "start_time": "2023-12-17T23:39:27.421018",
     "status": "completed"
    },
    "tags": []
   },
   "outputs": [],
   "source": []
  }
 ],
 "metadata": {
  "kernelspec": {
   "display_name": "leeds-2023-YZF5GfJv",
   "language": "python",
   "name": "python3"
  },
  "language_info": {
   "codemirror_mode": {
    "name": "ipython",
    "version": 3
   },
   "file_extension": ".py",
   "mimetype": "text/x-python",
   "name": "python",
   "nbconvert_exporter": "python",
   "pygments_lexer": "ipython3",
   "version": "3.10.13"
  },
  "papermill": {
   "default_parameters": {},
   "duration": 8.613867,
   "end_time": "2023-12-17T23:39:27.640672",
   "environment_variables": {},
   "exception": null,
   "input_path": "prepare.ipynb",
   "output_path": "../../../../working/output/signature-prepare.ipynb",
   "parameters": {},
   "start_time": "2023-12-17T23:39:19.026805",
   "version": "2.4.0"
  }
 },
 "nbformat": 4,
 "nbformat_minor": 5
}