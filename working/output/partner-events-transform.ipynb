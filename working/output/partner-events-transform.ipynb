{
 "cells": [
  {
   "cell_type": "code",
   "execution_count": 1,
   "id": "06c80302",
   "metadata": {
    "execution": {
     "iopub.execute_input": "2023-10-27T23:37:13.290419Z",
     "iopub.status.busy": "2023-10-27T23:37:13.289900Z",
     "iopub.status.idle": "2023-10-27T23:37:13.543049Z",
     "shell.execute_reply": "2023-10-27T23:37:13.542363Z"
    },
    "papermill": {
     "duration": 0.259619,
     "end_time": "2023-10-27T23:37:13.545236",
     "exception": false,
     "start_time": "2023-10-27T23:37:13.285617",
     "status": "completed"
    },
    "tags": []
   },
   "outputs": [],
   "source": [
    "import os\n",
    "import sys\n",
    "import pandas as pd\n",
    "lib_dir = os.path.realpath('../../../lib/')\n",
    "if lib_dir not in sys.path: sys.path.append(lib_dir)"
   ]
  },
  {
   "cell_type": "code",
   "execution_count": 2,
   "id": "8fbc13ac",
   "metadata": {
    "execution": {
     "iopub.execute_input": "2023-10-27T23:37:13.552213Z",
     "iopub.status.busy": "2023-10-27T23:37:13.551690Z",
     "iopub.status.idle": "2023-10-27T23:37:23.410762Z",
     "shell.execute_reply": "2023-10-27T23:37:23.410084Z"
    },
    "papermill": {
     "duration": 9.864727,
     "end_time": "2023-10-27T23:37:23.412914",
     "exception": false,
     "start_time": "2023-10-27T23:37:13.548187",
     "status": "completed"
    },
    "tags": []
   },
   "outputs": [],
   "source": [
    "import util.geo"
   ]
  },
  {
   "cell_type": "code",
   "execution_count": 3,
   "id": "2adcadd9",
   "metadata": {
    "execution": {
     "iopub.execute_input": "2023-10-27T23:37:23.420188Z",
     "iopub.status.busy": "2023-10-27T23:37:23.419538Z",
     "iopub.status.idle": "2023-10-27T23:37:23.423184Z",
     "shell.execute_reply": "2023-10-27T23:37:23.422563Z"
    },
    "papermill": {
     "duration": 0.008654,
     "end_time": "2023-10-27T23:37:23.424714",
     "exception": false,
     "start_time": "2023-10-27T23:37:23.416060",
     "status": "completed"
    },
    "tags": []
   },
   "outputs": [],
   "source": [
    "EVENTS_RAW_DATA = '../../../working/metrics/partner-events/events.csv'\n",
    "DATA_DIR = '../../../data/metrics/events/partner-events/'\n",
    "EVENTS_DATA = os.path.join(DATA_DIR, 'events.csv')"
   ]
  },
  {
   "cell_type": "code",
   "execution_count": 4,
   "id": "4ce80fd3",
   "metadata": {
    "execution": {
     "iopub.execute_input": "2023-10-27T23:37:23.431009Z",
     "iopub.status.busy": "2023-10-27T23:37:23.430798Z",
     "iopub.status.idle": "2023-10-27T23:37:23.434742Z",
     "shell.execute_reply": "2023-10-27T23:37:23.434103Z"
    },
    "papermill": {
     "duration": 0.008836,
     "end_time": "2023-10-27T23:37:23.436179",
     "exception": false,
     "start_time": "2023-10-27T23:37:23.427343",
     "status": "completed"
    },
    "tags": []
   },
   "outputs": [],
   "source": [
    "columns = {\n",
    "    'Event Name': 'name',\n",
    "    'Event Start Date': 'start_date',\n",
    "    'Event End Date': 'end_date',\n",
    "    'Partner/Promote': 'partner_promote',\n",
    "    'Stage': 'stage',\n",
    "    'Live date': 'live_date',\n",
    "    'Venue postcode': 'postcode',\n",
    "    'Pricing Policy': 'pricing',\n",
    "    'Venue - including address': 'venue',\n",
    "    'Is this event on Leeds Inspried?': 'on_leeds_inspired',\n",
    "}"
   ]
  },
  {
   "cell_type": "markdown",
   "id": "6fdd0f70",
   "metadata": {
    "papermill": {
     "duration": 0.002664,
     "end_time": "2023-10-27T23:37:23.441482",
     "exception": false,
     "start_time": "2023-10-27T23:37:23.438818",
     "status": "completed"
    },
    "tags": []
   },
   "source": [
    "Load the data and rename columns. Parse the dates to dates."
   ]
  },
  {
   "cell_type": "code",
   "execution_count": 5,
   "id": "f47e4a58",
   "metadata": {
    "execution": {
     "iopub.execute_input": "2023-10-27T23:37:23.447841Z",
     "iopub.status.busy": "2023-10-27T23:37:23.447435Z",
     "iopub.status.idle": "2023-10-27T23:37:23.458074Z",
     "shell.execute_reply": "2023-10-27T23:37:23.457479Z"
    },
    "papermill": {
     "duration": 0.015599,
     "end_time": "2023-10-27T23:37:23.459677",
     "exception": false,
     "start_time": "2023-10-27T23:37:23.444078",
     "status": "completed"
    },
    "tags": []
   },
   "outputs": [],
   "source": [
    "data = pd.read_csv(EVENTS_RAW_DATA)[columns.keys()].rename(columns=columns)\n",
    "data.start_date = pd.to_datetime(data.start_date, errors='coerce')\n",
    "data.end_date = pd.to_datetime(data.end_date, errors='coerce')"
   ]
  },
  {
   "cell_type": "markdown",
   "id": "7949e360",
   "metadata": {
    "papermill": {
     "duration": 0.00261,
     "end_time": "2023-10-27T23:37:23.465003",
     "exception": false,
     "start_time": "2023-10-27T23:37:23.462393",
     "status": "completed"
    },
    "tags": []
   },
   "source": [
    "Filter data by not LI Pull through and start date before now"
   ]
  },
  {
   "cell_type": "code",
   "execution_count": 6,
   "id": "77b39e8b",
   "metadata": {
    "execution": {
     "iopub.execute_input": "2023-10-27T23:37:23.472244Z",
     "iopub.status.busy": "2023-10-27T23:37:23.472022Z",
     "iopub.status.idle": "2023-10-27T23:37:23.477071Z",
     "shell.execute_reply": "2023-10-27T23:37:23.476401Z"
    },
    "papermill": {
     "duration": 0.010201,
     "end_time": "2023-10-27T23:37:23.478721",
     "exception": false,
     "start_time": "2023-10-27T23:37:23.468520",
     "status": "completed"
    },
    "tags": []
   },
   "outputs": [],
   "source": [
    "data = data[\n",
    "    # (data.live_date == 'This event is live ') &\n",
    "    ((data.stage != 'LI pull through') & data.stage.notna()) &\n",
    "    (data.start_date < pd.Timestamp.now())\n",
    "]"
   ]
  },
  {
   "cell_type": "code",
   "execution_count": 7,
   "id": "4920241b",
   "metadata": {
    "execution": {
     "iopub.execute_input": "2023-10-27T23:37:23.485379Z",
     "iopub.status.busy": "2023-10-27T23:37:23.484809Z",
     "iopub.status.idle": "2023-10-27T23:37:24.445143Z",
     "shell.execute_reply": "2023-10-27T23:37:24.444496Z"
    },
    "papermill": {
     "duration": 0.965668,
     "end_time": "2023-10-27T23:37:24.447083",
     "exception": false,
     "start_time": "2023-10-27T23:37:23.481415",
     "status": "completed"
    },
    "tags": []
   },
   "outputs": [],
   "source": [
    "data['ward_code'] = data.postcode.pipe(util.geo.postcode_formatter).map(util.geo.postcode_to_ward_code)\n",
    "data['ward_name'] = data.ward_code.pipe(util.geo.ward_code_to_name)"
   ]
  },
  {
   "cell_type": "markdown",
   "id": "b5a9ad1a",
   "metadata": {
    "papermill": {
     "duration": 0.003125,
     "end_time": "2023-10-27T23:37:24.453245",
     "exception": false,
     "start_time": "2023-10-27T23:37:24.450120",
     "status": "completed"
    },
    "tags": []
   },
   "source": [
    "Save the file"
   ]
  },
  {
   "cell_type": "code",
   "execution_count": 8,
   "id": "d34d7069",
   "metadata": {
    "execution": {
     "iopub.execute_input": "2023-10-27T23:37:24.460282Z",
     "iopub.status.busy": "2023-10-27T23:37:24.459590Z",
     "iopub.status.idle": "2023-10-27T23:37:24.466057Z",
     "shell.execute_reply": "2023-10-27T23:37:24.465463Z"
    },
    "papermill": {
     "duration": 0.011781,
     "end_time": "2023-10-27T23:37:24.467747",
     "exception": false,
     "start_time": "2023-10-27T23:37:24.455966",
     "status": "completed"
    },
    "tags": []
   },
   "outputs": [],
   "source": [
    "data[\n",
    "    ['name','start_date','end_date','ward_code']\n",
    "].to_csv(EVENTS_DATA, index=False)"
   ]
  },
  {
   "cell_type": "markdown",
   "id": "e01db5f1",
   "metadata": {
    "papermill": {
     "duration": 0.002724,
     "end_time": "2023-10-27T23:37:24.473268",
     "exception": false,
     "start_time": "2023-10-27T23:37:24.470544",
     "status": "completed"
    },
    "tags": []
   },
   "source": [
    "Print out missing postcode data"
   ]
  },
  {
   "cell_type": "code",
   "execution_count": 9,
   "id": "c665ab11",
   "metadata": {
    "execution": {
     "iopub.execute_input": "2023-10-27T23:37:24.480075Z",
     "iopub.status.busy": "2023-10-27T23:37:24.479647Z",
     "iopub.status.idle": "2023-10-27T23:37:24.492796Z",
     "shell.execute_reply": "2023-10-27T23:37:24.492268Z"
    },
    "papermill": {
     "duration": 0.018344,
     "end_time": "2023-10-27T23:37:24.494459",
     "exception": false,
     "start_time": "2023-10-27T23:37:24.476115",
     "status": "completed"
    },
    "tags": []
   },
   "outputs": [
    {
     "data": {
      "text/html": [
       "<div>\n",
       "<style scoped>\n",
       "    .dataframe tbody tr th:only-of-type {\n",
       "        vertical-align: middle;\n",
       "    }\n",
       "\n",
       "    .dataframe tbody tr th {\n",
       "        vertical-align: top;\n",
       "    }\n",
       "\n",
       "    .dataframe thead th {\n",
       "        text-align: right;\n",
       "    }\n",
       "</style>\n",
       "<table border=\"1\" class=\"dataframe\">\n",
       "  <thead>\n",
       "    <tr style=\"text-align: right;\">\n",
       "      <th></th>\n",
       "      <th>name</th>\n",
       "      <th>start_date</th>\n",
       "    </tr>\n",
       "  </thead>\n",
       "  <tbody>\n",
       "    <tr>\n",
       "      <th>1</th>\n",
       "      <td>East Street Arts, A City Less Grey 2022</td>\n",
       "      <td>2022-10-08</td>\n",
       "    </tr>\n",
       "    <tr>\n",
       "      <th>3</th>\n",
       "      <td>Phoenix Dance Theatre Virtual Gallery</td>\n",
       "      <td>2023-01-01</td>\n",
       "    </tr>\n",
       "    <tr>\n",
       "      <th>4</th>\n",
       "      <td>The Big Art Giveaway, School of Creative Arts ...</td>\n",
       "      <td>2023-01-01</td>\n",
       "    </tr>\n",
       "    <tr>\n",
       "      <th>5</th>\n",
       "      <td>Embassy of Netherlands, Meet Leeds Lab</td>\n",
       "      <td>2023-01-16</td>\n",
       "    </tr>\n",
       "    <tr>\n",
       "      <th>6</th>\n",
       "      <td>Shifting Borders: A Journey to the Centre of o...</td>\n",
       "      <td>2023-01-24</td>\n",
       "    </tr>\n",
       "    <tr>\n",
       "      <th>...</th>\n",
       "      <td>...</td>\n",
       "      <td>...</td>\n",
       "    </tr>\n",
       "    <tr>\n",
       "      <th>249</th>\n",
       "      <td>All That Lives.  Zion Studio Mexico City: Scul...</td>\n",
       "      <td>2023-10-27</td>\n",
       "    </tr>\n",
       "    <tr>\n",
       "      <th>250</th>\n",
       "      <td>All That Lives: Digital Artwork</td>\n",
       "      <td>2023-10-27</td>\n",
       "    </tr>\n",
       "    <tr>\n",
       "      <th>251</th>\n",
       "      <td>All That Lives: Journey With Absent Friends</td>\n",
       "      <td>2023-10-27</td>\n",
       "    </tr>\n",
       "    <tr>\n",
       "      <th>252</th>\n",
       "      <td>All That Lives: What is Left?</td>\n",
       "      <td>2023-10-27</td>\n",
       "    </tr>\n",
       "    <tr>\n",
       "      <th>253</th>\n",
       "      <td>The Crossing</td>\n",
       "      <td>2023-10-27</td>\n",
       "    </tr>\n",
       "  </tbody>\n",
       "</table>\n",
       "<p>89 rows × 2 columns</p>\n",
       "</div>"
      ],
      "text/plain": [
       "                                                  name start_date\n",
       "1              East Street Arts, A City Less Grey 2022 2022-10-08\n",
       "3                Phoenix Dance Theatre Virtual Gallery 2023-01-01\n",
       "4    The Big Art Giveaway, School of Creative Arts ... 2023-01-01\n",
       "5               Embassy of Netherlands, Meet Leeds Lab 2023-01-16\n",
       "6    Shifting Borders: A Journey to the Centre of o... 2023-01-24\n",
       "..                                                 ...        ...\n",
       "249  All That Lives.  Zion Studio Mexico City: Scul... 2023-10-27\n",
       "250                    All That Lives: Digital Artwork 2023-10-27\n",
       "251        All That Lives: Journey With Absent Friends 2023-10-27\n",
       "252                      All That Lives: What is Left? 2023-10-27\n",
       "253                                       The Crossing 2023-10-27\n",
       "\n",
       "[89 rows x 2 columns]"
      ]
     },
     "execution_count": 9,
     "metadata": {},
     "output_type": "execute_result"
    }
   ],
   "source": [
    "data[data.postcode.isna()][[\n",
    "    'name', 'start_date'\n",
    "]]"
   ]
  },
  {
   "cell_type": "markdown",
   "id": "41724cb1",
   "metadata": {
    "papermill": {
     "duration": 0.002996,
     "end_time": "2023-10-27T23:37:24.500554",
     "exception": false,
     "start_time": "2023-10-27T23:37:24.497558",
     "status": "completed"
    },
    "tags": []
   },
   "source": [
    "Plot the pricing"
   ]
  },
  {
   "cell_type": "code",
   "execution_count": 10,
   "id": "fe135fe7",
   "metadata": {
    "execution": {
     "iopub.execute_input": "2023-10-27T23:37:24.507912Z",
     "iopub.status.busy": "2023-10-27T23:37:24.507461Z",
     "iopub.status.idle": "2023-10-27T23:37:25.016352Z",
     "shell.execute_reply": "2023-10-27T23:37:25.015728Z"
    },
    "papermill": {
     "duration": 0.514419,
     "end_time": "2023-10-27T23:37:25.018058",
     "exception": false,
     "start_time": "2023-10-27T23:37:24.503639",
     "status": "completed"
    },
    "tags": []
   },
   "outputs": [
    {
     "data": {
      "image/png": "[encoded data removed]",
      "text/plain": [
       "<Figure size 640x480 with 1 Axes>"
      ]
     },
     "metadata": {},
     "output_type": "display_data"
    }
   ],
   "source": [
    "# .groupby('pricing').count().plot.barh()\n",
    "pricing = data.pricing.fillna('Unspecified').str.replace('[\\[\\'\\]]', '', regex=True).to_frame().reset_index().groupby('pricing').count()\n",
    "\n",
    "pricing.columns = ['count']\n",
    "plot = pricing.plot.barh()\n"
   ]
  },
  {
   "cell_type": "code",
   "execution_count": null,
   "id": "b91fa20b",
   "metadata": {
    "papermill": {
     "duration": 0.003969,
     "end_time": "2023-10-27T23:37:25.025762",
     "exception": false,
     "start_time": "2023-10-27T23:37:25.021793",
     "status": "completed"
    },
    "tags": []
   },
   "outputs": [],
   "source": []
  }
 ],
 "metadata": {
  "kernelspec": {
   "display_name": "leeds-2023-YZF5GfJv",
   "language": "python",
   "name": "python3"
  },
  "language_info": {
   "codemirror_mode": {
    "name": "ipython",
    "version": 3
   },
   "file_extension": ".py",
   "mimetype": "text/x-python",
   "name": "python",
   "nbconvert_exporter": "python",
   "pygments_lexer": "ipython3",
   "version": "3.10.13"
  },
  "papermill": {
   "default_parameters": {},
   "duration": 13.417513,
   "end_time": "2023-10-27T23:37:25.346137",
   "environment_variables": {},
   "exception": null,
   "input_path": "transform.ipynb",
   "output_path": "../../../working/output/partner-events-transform.ipynb",
   "parameters": {},
   "start_time": "2023-10-27T23:37:11.928624",
   "version": "2.4.0"
  }
 },
 "nbformat": 4,
 "nbformat_minor": 5
}