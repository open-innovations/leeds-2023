{
 "cells": [
  {
   "cell_type": "code",
   "execution_count": 1,
   "id": "9da5d1c6",
   "metadata": {
    "execution": {
     "iopub.execute_input": "2023-10-16T23:40:29.896534Z",
     "iopub.status.busy": "2023-10-16T23:40:29.895899Z",
     "iopub.status.idle": "2023-10-16T23:40:40.470961Z",
     "shell.execute_reply": "2023-10-16T23:40:40.470195Z"
    },
    "papermill": {
     "duration": 10.581977,
     "end_time": "2023-10-16T23:40:40.473050",
     "exception": false,
     "start_time": "2023-10-16T23:40:29.891073",
     "status": "completed"
    },
    "tags": []
   },
   "outputs": [],
   "source": [
    "import os\n",
    "import pandas as pd\n",
    "from events import load_event_data, get_first_ward, normalise_ward"
   ]
  },
  {
   "cell_type": "code",
   "execution_count": 2,
   "id": "74f5c355",
   "metadata": {
    "execution": {
     "iopub.execute_input": "2023-10-16T23:40:40.480329Z",
     "iopub.status.busy": "2023-10-16T23:40:40.479729Z",
     "iopub.status.idle": "2023-10-16T23:40:40.484248Z",
     "shell.execute_reply": "2023-10-16T23:40:40.483663Z"
    },
    "papermill": {
     "duration": 0.009588,
     "end_time": "2023-10-16T23:40:40.485719",
     "exception": false,
     "start_time": "2023-10-16T23:40:40.476131",
     "status": "completed"
    },
    "tags": []
   },
   "outputs": [],
   "source": [
    "latest_date = pd.Timestamp.today().ceil('D')"
   ]
  },
  {
   "cell_type": "code",
   "execution_count": 3,
   "id": "3ba2c14a",
   "metadata": {
    "execution": {
     "iopub.execute_input": "2023-10-16T23:40:40.491631Z",
     "iopub.status.busy": "2023-10-16T23:40:40.491060Z",
     "iopub.status.idle": "2023-10-16T23:40:40.508714Z",
     "shell.execute_reply": "2023-10-16T23:40:40.508071Z"
    },
    "papermill": {
     "duration": 0.022637,
     "end_time": "2023-10-16T23:40:40.510609",
     "exception": false,
     "start_time": "2023-10-16T23:40:40.487972",
     "status": "completed"
    },
    "tags": []
   },
   "outputs": [],
   "source": [
    "tickets = pd.read_csv('../../../../data/metrics/events/tickets/orders.csv', parse_dates=['created_at', 'event_date'])\n",
    "tickets = tickets[tickets.event_date <= latest_date]"
   ]
  },
  {
   "cell_type": "code",
   "execution_count": 4,
   "id": "85bb438d",
   "metadata": {
    "execution": {
     "iopub.execute_input": "2023-10-16T23:40:40.517116Z",
     "iopub.status.busy": "2023-10-16T23:40:40.516890Z",
     "iopub.status.idle": "2023-10-16T23:40:40.775643Z",
     "shell.execute_reply": "2023-10-16T23:40:40.774907Z"
    },
    "papermill": {
     "duration": 0.264469,
     "end_time": "2023-10-16T23:40:40.777727",
     "exception": false,
     "start_time": "2023-10-16T23:40:40.513258",
     "status": "completed"
    },
    "tags": []
   },
   "outputs": [],
   "source": [
    "events = load_event_data()\n",
    "\n",
    "events = pd.concat([\n",
    "  events,\n",
    "  events.pipe(get_first_ward).pipe(normalise_ward).fillna('UNKNOWN'),\n",
    "  pd.Series(\n",
    "      events.actual_audience_size_number_of_participants_in_person + events.actual_audience_size_number_of_participants_online,\n",
    "      name='attendances'\n",
    "  )\n",
    "], axis=1).rename(columns={\n",
    "    'start_date': 'date'\n",
    "}).loc[:, ['ward_code', 'date', 'event_unique_identifier', 'attendances']]"
   ]
  },
  {
   "cell_type": "code",
   "execution_count": 5,
   "id": "9b224fe1",
   "metadata": {
    "execution": {
     "iopub.execute_input": "2023-10-16T23:40:40.785038Z",
     "iopub.status.busy": "2023-10-16T23:40:40.784792Z",
     "iopub.status.idle": "2023-10-16T23:40:40.788204Z",
     "shell.execute_reply": "2023-10-16T23:40:40.787534Z"
    },
    "papermill": {
     "duration": 0.009189,
     "end_time": "2023-10-16T23:40:40.789979",
     "exception": false,
     "start_time": "2023-10-16T23:40:40.780790",
     "status": "completed"
    },
    "tags": []
   },
   "outputs": [],
   "source": [
    "OUTPUT_DIR='../../../../docs/metrics/events/signature/_data/'\n",
    "os.makedirs(OUTPUT_DIR, exist_ok=True)"
   ]
  },
  {
   "cell_type": "markdown",
   "id": "9004940e",
   "metadata": {
    "papermill": {
     "duration": 0.002453,
     "end_time": "2023-10-16T23:40:40.794815",
     "exception": false,
     "start_time": "2023-10-16T23:40:40.792362",
     "status": "completed"
    },
    "tags": []
   },
   "source": [
    "Events CSVs"
   ]
  },
  {
   "cell_type": "code",
   "execution_count": 6,
   "id": "c66caeb6",
   "metadata": {
    "execution": {
     "iopub.execute_input": "2023-10-16T23:40:40.800646Z",
     "iopub.status.busy": "2023-10-16T23:40:40.800421Z",
     "iopub.status.idle": "2023-10-16T23:40:40.807239Z",
     "shell.execute_reply": "2023-10-16T23:40:40.806655Z"
    },
    "papermill": {
     "duration": 0.011618,
     "end_time": "2023-10-16T23:40:40.808810",
     "exception": false,
     "start_time": "2023-10-16T23:40:40.797192",
     "status": "completed"
    },
    "tags": []
   },
   "outputs": [],
   "source": [
    "pd.DataFrame({\n",
    "  'events': events.groupby('ward_code').event_unique_identifier.count(),\n",
    "  'attendances': events.groupby('ward_code').attendances.sum().astype(int),\n",
    "}).to_csv(os.path.join(OUTPUT_DIR, 'events_by_ward.csv'))\n"
   ]
  },
  {
   "cell_type": "code",
   "execution_count": 7,
   "id": "8ab10e81",
   "metadata": {
    "execution": {
     "iopub.execute_input": "2023-10-16T23:40:40.814970Z",
     "iopub.status.busy": "2023-10-16T23:40:40.814420Z",
     "iopub.status.idle": "2023-10-16T23:40:40.827447Z",
     "shell.execute_reply": "2023-10-16T23:40:40.826833Z"
    },
    "papermill": {
     "duration": 0.017733,
     "end_time": "2023-10-16T23:40:40.828973",
     "exception": false,
     "start_time": "2023-10-16T23:40:40.811240",
     "status": "completed"
    },
    "tags": []
   },
   "outputs": [],
   "source": [
    "pd.DataFrame({\n",
    "  'events': events.groupby('date').event_unique_identifier.count(),\n",
    "  'attendances': events.groupby('date').attendances.sum().astype(int),\n",
    "}).resample('M').sum().astype(int).to_csv(os.path.join(OUTPUT_DIR, 'events_by_date.csv'))"
   ]
  },
  {
   "cell_type": "markdown",
   "id": "39758c20",
   "metadata": {
    "papermill": {
     "duration": 0.002542,
     "end_time": "2023-10-16T23:40:40.834033",
     "exception": false,
     "start_time": "2023-10-16T23:40:40.831491",
     "status": "completed"
    },
    "tags": []
   },
   "source": [
    "Tickets CSV"
   ]
  },
  {
   "cell_type": "code",
   "execution_count": 8,
   "id": "49fd0480",
   "metadata": {
    "execution": {
     "iopub.execute_input": "2023-10-16T23:40:40.840459Z",
     "iopub.status.busy": "2023-10-16T23:40:40.839869Z",
     "iopub.status.idle": "2023-10-16T23:40:40.847225Z",
     "shell.execute_reply": "2023-10-16T23:40:40.846630Z"
    },
    "papermill": {
     "duration": 0.012308,
     "end_time": "2023-10-16T23:40:40.848797",
     "exception": false,
     "start_time": "2023-10-16T23:40:40.836489",
     "status": "completed"
    },
    "tags": []
   },
   "outputs": [],
   "source": [
    "pd.DataFrame({\n",
    "  'orders': tickets.groupby('ward_code').number_of_tickets.count(),\n",
    "  'tickets': tickets.groupby('ward_code').number_of_tickets.sum().astype(int),\n",
    "}).to_csv(os.path.join(OUTPUT_DIR, 'tickets_by_ward.csv'))"
   ]
  },
  {
   "cell_type": "code",
   "execution_count": 9,
   "id": "89930a84",
   "metadata": {
    "execution": {
     "iopub.execute_input": "2023-10-16T23:40:40.854989Z",
     "iopub.status.busy": "2023-10-16T23:40:40.854562Z",
     "iopub.status.idle": "2023-10-16T23:40:40.863466Z",
     "shell.execute_reply": "2023-10-16T23:40:40.862873Z"
    },
    "papermill": {
     "duration": 0.013565,
     "end_time": "2023-10-16T23:40:40.864877",
     "exception": false,
     "start_time": "2023-10-16T23:40:40.851312",
     "status": "completed"
    },
    "tags": []
   },
   "outputs": [],
   "source": [
    "pd.DataFrame({\n",
    "  'orders': tickets.groupby('event_date').number_of_tickets.count(),\n",
    "  'tickets': tickets.groupby('event_date').number_of_tickets.sum().astype(int),\n",
    "}).resample('M').sum().to_csv(os.path.join(OUTPUT_DIR, 'tickets_by_event_date.csv'))"
   ]
  },
  {
   "cell_type": "code",
   "execution_count": 10,
   "id": "05c5e10d",
   "metadata": {
    "execution": {
     "iopub.execute_input": "2023-10-16T23:40:40.872173Z",
     "iopub.status.busy": "2023-10-16T23:40:40.871757Z",
     "iopub.status.idle": "2023-10-16T23:40:40.877033Z",
     "shell.execute_reply": "2023-10-16T23:40:40.876381Z"
    },
    "papermill": {
     "duration": 0.011244,
     "end_time": "2023-10-16T23:40:40.878654",
     "exception": false,
     "start_time": "2023-10-16T23:40:40.867410",
     "status": "completed"
    },
    "tags": []
   },
   "outputs": [],
   "source": [
    "pd.Series({\n",
    "    'total_events': events.event_unique_identifier.count(),\n",
    "    'total_attendances': events.attendances.count(),\n",
    "    'first_event': events.date.min(),\n",
    "    'latest_event': events.date.max(),\n",
    "    'total_ticket_orders_for_events_to_date': tickets.number_of_tickets.count(),\n",
    "    'total_tickets_sold_for_events_to_date': tickets.number_of_tickets.sum(),\n",
    "}).to_json(os.path.join(OUTPUT_DIR, 'headlines.json'), indent=2)"
   ]
  },
  {
   "cell_type": "code",
   "execution_count": null,
   "id": "490708c2",
   "metadata": {
    "papermill": {
     "duration": 0.002526,
     "end_time": "2023-10-16T23:40:40.883883",
     "exception": false,
     "start_time": "2023-10-16T23:40:40.881357",
     "status": "completed"
    },
    "tags": []
   },
   "outputs": [],
   "source": []
  }
 ],
 "metadata": {
  "kernelspec": {
   "display_name": "leeds-2023-YZF5GfJv",
   "language": "python",
   "name": "python3"
  },
  "language_info": {
   "codemirror_mode": {
    "name": "ipython",
    "version": 3
   },
   "file_extension": ".py",
   "mimetype": "text/x-python",
   "name": "python",
   "nbconvert_exporter": "python",
   "pygments_lexer": "ipython3",
   "version": "3.10.13"
  },
  "papermill": {
   "default_parameters": {},
   "duration": 12.690359,
   "end_time": "2023-10-16T23:40:41.204851",
   "environment_variables": {},
   "exception": null,
   "input_path": "prepare.ipynb",
   "output_path": "../../../../working/output/signature-prepare.ipynb",
   "parameters": {},
   "start_time": "2023-10-16T23:40:28.514492",
   "version": "2.4.0"
  }
 },
 "nbformat": 4,
 "nbformat_minor": 5
}