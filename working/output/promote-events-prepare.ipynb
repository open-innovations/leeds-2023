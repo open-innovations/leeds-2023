{
 "cells": [
  {
   "cell_type": "code",
   "execution_count": 1,
   "id": "4f1e8c09",
   "metadata": {
    "execution": {
     "iopub.execute_input": "2023-09-18T23:40:15.606972Z",
     "iopub.status.busy": "2023-09-18T23:40:15.606283Z",
     "iopub.status.idle": "2023-09-18T23:40:15.854453Z",
     "shell.execute_reply": "2023-09-18T23:40:15.853600Z"
    },
    "papermill": {
     "duration": 0.253433,
     "end_time": "2023-09-18T23:40:15.856273",
     "exception": false,
     "start_time": "2023-09-18T23:40:15.602840",
     "status": "completed"
    },
    "tags": []
   },
   "outputs": [],
   "source": [
    "import os\n",
    "import pandas as pd"
   ]
  },
  {
   "cell_type": "code",
   "execution_count": 2,
   "id": "62395638",
   "metadata": {
    "execution": {
     "iopub.execute_input": "2023-09-18T23:40:15.861642Z",
     "iopub.status.busy": "2023-09-18T23:40:15.861340Z",
     "iopub.status.idle": "2023-09-18T23:40:15.865737Z",
     "shell.execute_reply": "2023-09-18T23:40:15.865166Z"
    },
    "papermill": {
     "duration": 0.008665,
     "end_time": "2023-09-18T23:40:15.867094",
     "exception": false,
     "start_time": "2023-09-18T23:40:15.858429",
     "status": "completed"
    },
    "tags": []
   },
   "outputs": [],
   "source": [
    "DATA_DIR='../../../docs/metrics/events/promote/_data/'\n",
    "os.makedirs(DATA_DIR, exist_ok=True)"
   ]
  },
  {
   "cell_type": "code",
   "execution_count": 3,
   "id": "7e820376",
   "metadata": {
    "execution": {
     "iopub.execute_input": "2023-09-18T23:40:15.871934Z",
     "iopub.status.busy": "2023-09-18T23:40:15.871384Z",
     "iopub.status.idle": "2023-09-18T23:40:15.880068Z",
     "shell.execute_reply": "2023-09-18T23:40:15.879487Z"
    },
    "papermill": {
     "duration": 0.012689,
     "end_time": "2023-09-18T23:40:15.881576",
     "exception": false,
     "start_time": "2023-09-18T23:40:15.868887",
     "status": "completed"
    },
    "tags": []
   },
   "outputs": [],
   "source": [
    "data = pd.read_csv('../../../data/metrics/events/promote-events/events.csv', parse_dates=['time'])"
   ]
  },
  {
   "cell_type": "code",
   "execution_count": 4,
   "id": "076d630d",
   "metadata": {
    "execution": {
     "iopub.execute_input": "2023-09-18T23:40:15.886285Z",
     "iopub.status.busy": "2023-09-18T23:40:15.886054Z",
     "iopub.status.idle": "2023-09-18T23:40:15.890973Z",
     "shell.execute_reply": "2023-09-18T23:40:15.890332Z"
    },
    "papermill": {
     "duration": 0.009096,
     "end_time": "2023-09-18T23:40:15.892475",
     "exception": false,
     "start_time": "2023-09-18T23:40:15.883379",
     "status": "completed"
    },
    "tags": []
   },
   "outputs": [],
   "source": [
    "pd.Series({\n",
    "    'total_events': len(data.id.unique()),\n",
    "    'total_event_instances': len(data.time),\n",
    "    'earliest_event': data.time.min(),\n",
    "    'latest_event': data.time.max(),\n",
    "}).to_json(\n",
    "    os.path.join(DATA_DIR, 'headlines.json'),\n",
    "    date_format='iso', indent=2\n",
    ")"
   ]
  },
  {
   "cell_type": "code",
   "execution_count": 5,
   "id": "10052fe2",
   "metadata": {
    "execution": {
     "iopub.execute_input": "2023-09-18T23:40:15.897279Z",
     "iopub.status.busy": "2023-09-18T23:40:15.896867Z",
     "iopub.status.idle": "2023-09-18T23:40:15.904898Z",
     "shell.execute_reply": "2023-09-18T23:40:15.904262Z"
    },
    "papermill": {
     "duration": 0.01212,
     "end_time": "2023-09-18T23:40:15.906445",
     "exception": false,
     "start_time": "2023-09-18T23:40:15.894325",
     "status": "completed"
    },
    "tags": []
   },
   "outputs": [],
   "source": [
    "events = pd.DataFrame({\n",
    "    'events': data.groupby('id').agg({ 'time': 'min' }).reset_index().groupby('time').id.count(),\n",
    "    'event_instances': data.groupby('time').id.count(),\n",
    "}).fillna(0).astype(int)"
   ]
  },
  {
   "cell_type": "code",
   "execution_count": 6,
   "id": "9c27b1ff",
   "metadata": {
    "execution": {
     "iopub.execute_input": "2023-09-18T23:40:15.911214Z",
     "iopub.status.busy": "2023-09-18T23:40:15.910999Z",
     "iopub.status.idle": "2023-09-18T23:40:15.914306Z",
     "shell.execute_reply": "2023-09-18T23:40:15.913633Z"
    },
    "papermill": {
     "duration": 0.007499,
     "end_time": "2023-09-18T23:40:15.915844",
     "exception": false,
     "start_time": "2023-09-18T23:40:15.908345",
     "status": "completed"
    },
    "tags": []
   },
   "outputs": [],
   "source": [
    "def cumulate(data):\n",
    "    return pd.concat([\n",
    "        data,\n",
    "        data.cumsum().rename(columns=lambda c: f'cumulative_{c}')\n",
    "    ], axis=1)"
   ]
  },
  {
   "cell_type": "code",
   "execution_count": 7,
   "id": "95286948",
   "metadata": {
    "execution": {
     "iopub.execute_input": "2023-09-18T23:40:15.920677Z",
     "iopub.status.busy": "2023-09-18T23:40:15.920263Z",
     "iopub.status.idle": "2023-09-18T23:40:15.930005Z",
     "shell.execute_reply": "2023-09-18T23:40:15.929424Z"
    },
    "papermill": {
     "duration": 0.013707,
     "end_time": "2023-09-18T23:40:15.931431",
     "exception": false,
     "start_time": "2023-09-18T23:40:15.917724",
     "status": "completed"
    },
    "tags": []
   },
   "outputs": [],
   "source": [
    "events.resample('W-FRI').sum().pipe(cumulate).to_csv(os.path.join(DATA_DIR, 'by_week.csv'))"
   ]
  },
  {
   "cell_type": "code",
   "execution_count": 8,
   "id": "487ca0b6",
   "metadata": {
    "execution": {
     "iopub.execute_input": "2023-09-18T23:40:15.936578Z",
     "iopub.status.busy": "2023-09-18T23:40:15.936059Z",
     "iopub.status.idle": "2023-09-18T23:40:15.942916Z",
     "shell.execute_reply": "2023-09-18T23:40:15.942340Z"
    },
    "papermill": {
     "duration": 0.011145,
     "end_time": "2023-09-18T23:40:15.944592",
     "exception": false,
     "start_time": "2023-09-18T23:40:15.933447",
     "status": "completed"
    },
    "tags": []
   },
   "outputs": [],
   "source": [
    "events.resample('MS').sum().pipe(cumulate).to_csv(os.path.join(DATA_DIR, 'by_month.csv'))"
   ]
  },
  {
   "cell_type": "code",
   "execution_count": null,
   "id": "a200a8e5",
   "metadata": {
    "papermill": {
     "duration": 0.001936,
     "end_time": "2023-09-18T23:40:15.948517",
     "exception": false,
     "start_time": "2023-09-18T23:40:15.946581",
     "status": "completed"
    },
    "tags": []
   },
   "outputs": [],
   "source": []
  }
 ],
 "metadata": {
  "kernelspec": {
   "display_name": "leeds-2023-YZF5GfJv",
   "language": "python",
   "name": "python3"
  },
  "language_info": {
   "codemirror_mode": {
    "name": "ipython",
    "version": 3
   },
   "file_extension": ".py",
   "mimetype": "text/x-python",
   "name": "python",
   "nbconvert_exporter": "python",
   "pygments_lexer": "ipython3",
   "version": "3.10.13"
  },
  "papermill": {
   "default_parameters": {},
   "duration": 1.911683,
   "end_time": "2023-09-18T23:40:16.167475",
   "environment_variables": {},
   "exception": null,
   "input_path": "prepare.ipynb",
   "output_path": "../../../working/output/promote-events-prepare.ipynb",
   "parameters": {},
   "start_time": "2023-09-18T23:40:14.255792",
   "version": "2.4.0"
  }
 },
 "nbformat": 4,
 "nbformat_minor": 5
}