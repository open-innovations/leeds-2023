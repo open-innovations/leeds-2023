{
 "cells": [
  {
   "cell_type": "markdown",
   "id": "78aae79d",
   "metadata": {
    "papermill": {
     "duration": 0.003074,
     "end_time": "2023-10-10T23:39:19.249151",
     "exception": false,
     "start_time": "2023-10-10T23:39:19.246077",
     "status": "completed"
    },
    "tags": []
   },
   "source": [
    "# Nest\n",
    "\n",
    "Prepares data for the Nest page "
   ]
  },
  {
   "cell_type": "code",
   "execution_count": 1,
   "id": "2ba2ae9e",
   "metadata": {
    "execution": {
     "iopub.execute_input": "2023-10-10T23:39:19.255975Z",
     "iopub.status.busy": "2023-10-10T23:39:19.255015Z",
     "iopub.status.idle": "2023-10-10T23:39:32.993757Z",
     "shell.execute_reply": "2023-10-10T23:39:32.992601Z"
    },
    "papermill": {
     "duration": 13.744841,
     "end_time": "2023-10-10T23:39:32.996283",
     "exception": false,
     "start_time": "2023-10-10T23:39:19.251442",
     "status": "completed"
    },
    "tags": []
   },
   "outputs": [],
   "source": [
    "import os\n",
    "from events import (\n",
    "    load_event_data, filter_by_project, prepare, save_files, count_wards\n",
    ")"
   ]
  },
  {
   "cell_type": "markdown",
   "id": "3ecea124",
   "metadata": {
    "papermill": {
     "duration": 0.00233,
     "end_time": "2023-10-10T23:39:33.001427",
     "exception": false,
     "start_time": "2023-10-10T23:39:32.999097",
     "status": "completed"
    },
    "tags": []
   },
   "source": [
    "Set output directory"
   ]
  },
  {
   "cell_type": "code",
   "execution_count": 2,
   "id": "fcdf36b6",
   "metadata": {
    "execution": {
     "iopub.execute_input": "2023-10-10T23:39:33.008289Z",
     "iopub.status.busy": "2023-10-10T23:39:33.007389Z",
     "iopub.status.idle": "2023-10-10T23:39:33.011925Z",
     "shell.execute_reply": "2023-10-10T23:39:33.010994Z"
    },
    "papermill": {
     "duration": 0.010347,
     "end_time": "2023-10-10T23:39:33.013845",
     "exception": false,
     "start_time": "2023-10-10T23:39:33.003498",
     "status": "completed"
    },
    "tags": []
   },
   "outputs": [],
   "source": [
    "OUT_DIR = '../../../../docs/metrics/events/nest/_data/events'"
   ]
  },
  {
   "cell_type": "markdown",
   "id": "3ef73fcf",
   "metadata": {
    "papermill": {
     "duration": 0.001896,
     "end_time": "2023-10-10T23:39:33.017896",
     "exception": false,
     "start_time": "2023-10-10T23:39:33.016000",
     "status": "completed"
    },
    "tags": []
   },
   "source": [
    "Read in event data and filter by **My LEEDS 2023** project.\n",
    "\n",
    "The criteria are:\n",
    "\n",
    "* project type is 'Produce (Signature)'\n",
    "* event_type contains 'Public Event -'\n",
    "\n",
    "It's then filtered by project_name is '10 - Melt'"
   ]
  },
  {
   "cell_type": "code",
   "execution_count": 3,
   "id": "b418afa8",
   "metadata": {
    "execution": {
     "iopub.execute_input": "2023-10-10T23:39:33.023265Z",
     "iopub.status.busy": "2023-10-10T23:39:33.022946Z",
     "iopub.status.idle": "2023-10-10T23:39:33.067827Z",
     "shell.execute_reply": "2023-10-10T23:39:33.066683Z"
    },
    "papermill": {
     "duration": 0.050673,
     "end_time": "2023-10-10T23:39:33.070555",
     "exception": false,
     "start_time": "2023-10-10T23:39:33.019882",
     "status": "completed"
    },
    "tags": []
   },
   "outputs": [
    {
     "data": {
      "text/html": [
       "<div>\n",
       "<style scoped>\n",
       "    .dataframe tbody tr th:only-of-type {\n",
       "        vertical-align: middle;\n",
       "    }\n",
       "\n",
       "    .dataframe tbody tr th {\n",
       "        vertical-align: top;\n",
       "    }\n",
       "\n",
       "    .dataframe thead th {\n",
       "        text-align: right;\n",
       "    }\n",
       "</style>\n",
       "<table border=\"1\" class=\"dataframe\">\n",
       "  <thead>\n",
       "    <tr style=\"text-align: right;\">\n",
       "      <th></th>\n",
       "      <th>actual_audience_size_number_of_participants_in_person</th>\n",
       "      <th>actual_audience_size_number_of_participants_online</th>\n",
       "      <th>airtable_id</th>\n",
       "      <th>end_date</th>\n",
       "      <th>event_name</th>\n",
       "      <th>event_type</th>\n",
       "      <th>event_unique_identifier</th>\n",
       "      <th>number_of_booked_participants</th>\n",
       "      <th>postcode_(from_venue)</th>\n",
       "      <th>project_name</th>\n",
       "      <th>project_type</th>\n",
       "      <th>season</th>\n",
       "      <th>start_date</th>\n",
       "      <th>ward_(from_venue)</th>\n",
       "    </tr>\n",
       "  </thead>\n",
       "  <tbody>\n",
       "    <tr>\n",
       "      <th>1054</th>\n",
       "      <td>1338.0</td>\n",
       "      <td>NaN</td>\n",
       "      <td>241</td>\n",
       "      <td>2023-09-09</td>\n",
       "      <td>Melt (Run)</td>\n",
       "      <td>['Public Event - Performance']</td>\n",
       "      <td>10 - Melt: Melt (Run)</td>\n",
       "      <td>1542.0</td>\n",
       "      <td>['LS26 8AL']</td>\n",
       "      <td>10 - Melt</td>\n",
       "      <td>Produce (Signature)</td>\n",
       "      <td>['Season 3 - Dreaming']</td>\n",
       "      <td>2023-09-05</td>\n",
       "      <td>['Garforth and Swillington']</td>\n",
       "    </tr>\n",
       "  </tbody>\n",
       "</table>\n",
       "</div>"
      ],
      "text/plain": [
       "      actual_audience_size_number_of_participants_in_person  \\\n",
       "1054                                             1338.0       \n",
       "\n",
       "      actual_audience_size_number_of_participants_online  airtable_id  \\\n",
       "1054                                                NaN           241   \n",
       "\n",
       "        end_date  event_name                      event_type  \\\n",
       "1054  2023-09-09  Melt (Run)  ['Public Event - Performance']   \n",
       "\n",
       "     event_unique_identifier  number_of_booked_participants  \\\n",
       "1054   10 - Melt: Melt (Run)                         1542.0   \n",
       "\n",
       "     postcode_(from_venue) project_name         project_type  \\\n",
       "1054          ['LS26 8AL']    10 - Melt  Produce (Signature)   \n",
       "\n",
       "                       season start_date             ward_(from_venue)  \n",
       "1054  ['Season 3 - Dreaming'] 2023-09-05  ['Garforth and Swillington']  "
      ]
     },
     "execution_count": 3,
     "metadata": {},
     "output_type": "execute_result"
    }
   ],
   "source": [
    "data = load_event_data().pipe(filter_by_project, '10 - Melt')\n",
    "data"
   ]
  },
  {
   "cell_type": "markdown",
   "id": "7ce71d30",
   "metadata": {
    "papermill": {
     "duration": 0.002724,
     "end_time": "2023-10-10T23:39:33.076243",
     "exception": false,
     "start_time": "2023-10-10T23:39:33.073519",
     "status": "completed"
    },
    "tags": []
   },
   "source": [
    "Run the processing and save the files"
   ]
  },
  {
   "cell_type": "code",
   "execution_count": 4,
   "id": "2f803d29",
   "metadata": {
    "execution": {
     "iopub.execute_input": "2023-10-10T23:39:33.084710Z",
     "iopub.status.busy": "2023-10-10T23:39:33.083927Z",
     "iopub.status.idle": "2023-10-10T23:39:33.128987Z",
     "shell.execute_reply": "2023-10-10T23:39:33.128037Z"
    },
    "papermill": {
     "duration": 0.052534,
     "end_time": "2023-10-10T23:39:33.131518",
     "exception": false,
     "start_time": "2023-10-10T23:39:33.078984",
     "status": "completed"
    },
    "tags": []
   },
   "outputs": [],
   "source": [
    "data = data.pipe(prepare).pipe(save_files, OUT_DIR)"
   ]
  }
 ],
 "metadata": {
  "kernelspec": {
   "display_name": "leeds-2023-YZF5GfJv",
   "language": "python",
   "name": "python3"
  },
  "language_info": {
   "codemirror_mode": {
    "name": "ipython",
    "version": 3
   },
   "file_extension": ".py",
   "mimetype": "text/x-python",
   "name": "python",
   "nbconvert_exporter": "python",
   "pygments_lexer": "ipython3",
   "version": "3.10.13"
  },
  "papermill": {
   "default_parameters": {},
   "duration": 16.139813,
   "end_time": "2023-10-10T23:39:33.555736",
   "environment_variables": {},
   "exception": null,
   "input_path": "nest.ipynb",
   "output_path": "../../../../working/output/nest.ipynb",
   "parameters": {},
   "start_time": "2023-10-10T23:39:17.415923",
   "version": "2.4.0"
  }
 },
 "nbformat": 4,
 "nbformat_minor": 5
}