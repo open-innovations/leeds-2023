{
 "cells": [
  {
   "cell_type": "code",
   "execution_count": 1,
   "id": "909cd367",
   "metadata": {
    "execution": {
     "iopub.execute_input": "2023-09-26T23:38:12.566309Z",
     "iopub.status.busy": "2023-09-26T23:38:12.565860Z",
     "iopub.status.idle": "2023-09-26T23:38:12.953359Z",
     "shell.execute_reply": "2023-09-26T23:38:12.952204Z"
    },
    "papermill": {
     "duration": 0.396927,
     "end_time": "2023-09-26T23:38:12.956104",
     "exception": false,
     "start_time": "2023-09-26T23:38:12.559177",
     "status": "completed"
    },
    "tags": []
   },
   "outputs": [],
   "source": [
    "import os\n",
    "import sys\n",
    "import pandas as pd\n",
    "lib_dir = os.path.realpath('../../../lib/')\n",
    "if lib_dir not in sys.path: sys.path.append(lib_dir)"
   ]
  },
  {
   "cell_type": "code",
   "execution_count": 2,
   "id": "b3c38b7c",
   "metadata": {
    "execution": {
     "iopub.execute_input": "2023-09-26T23:38:12.966034Z",
     "iopub.status.busy": "2023-09-26T23:38:12.965551Z",
     "iopub.status.idle": "2023-09-26T23:38:26.702371Z",
     "shell.execute_reply": "2023-09-26T23:38:26.701175Z"
    },
    "papermill": {
     "duration": 13.745129,
     "end_time": "2023-09-26T23:38:26.705367",
     "exception": false,
     "start_time": "2023-09-26T23:38:12.960238",
     "status": "completed"
    },
    "tags": []
   },
   "outputs": [],
   "source": [
    "import util.geo"
   ]
  },
  {
   "cell_type": "code",
   "execution_count": 3,
   "id": "3fdeeed2",
   "metadata": {
    "execution": {
     "iopub.execute_input": "2023-09-26T23:38:26.715357Z",
     "iopub.status.busy": "2023-09-26T23:38:26.714466Z",
     "iopub.status.idle": "2023-09-26T23:38:26.720949Z",
     "shell.execute_reply": "2023-09-26T23:38:26.719776Z"
    },
    "papermill": {
     "duration": 0.014165,
     "end_time": "2023-09-26T23:38:26.723658",
     "exception": false,
     "start_time": "2023-09-26T23:38:26.709493",
     "status": "completed"
    },
    "tags": []
   },
   "outputs": [],
   "source": [
    "EVENTS_RAW_DATA = '../../../working/metrics/partner-events/events.csv'\n",
    "DATA_DIR = '../../../data/metrics/events/partner-events/'\n",
    "EVENTS_DATA = os.path.join(DATA_DIR, 'events.csv')"
   ]
  },
  {
   "cell_type": "code",
   "execution_count": 4,
   "id": "8c572e2d",
   "metadata": {
    "execution": {
     "iopub.execute_input": "2023-09-26T23:38:26.731859Z",
     "iopub.status.busy": "2023-09-26T23:38:26.731570Z",
     "iopub.status.idle": "2023-09-26T23:38:26.736766Z",
     "shell.execute_reply": "2023-09-26T23:38:26.735947Z"
    },
    "papermill": {
     "duration": 0.011974,
     "end_time": "2023-09-26T23:38:26.738994",
     "exception": false,
     "start_time": "2023-09-26T23:38:26.727020",
     "status": "completed"
    },
    "tags": []
   },
   "outputs": [],
   "source": [
    "columns = {\n",
    "    'Event Name': 'name',\n",
    "    'Event Start Date': 'start_date',\n",
    "    'Event End Date': 'end_date',\n",
    "    'Partner/Promote': 'partner_promote',\n",
    "    'Stage': 'stage',\n",
    "    'Live date': 'live_date',\n",
    "    'Venue postcode': 'postcode',\n",
    "    'Pricing Policy': 'pricing',\n",
    "    'Venue - including address': 'venue',\n",
    "    'Is this event on Leeds Inspried?': 'on_leeds_inspired',\n",
    "}"
   ]
  },
  {
   "cell_type": "markdown",
   "id": "291cfe59",
   "metadata": {
    "papermill": {
     "duration": 0.003629,
     "end_time": "2023-09-26T23:38:26.746112",
     "exception": false,
     "start_time": "2023-09-26T23:38:26.742483",
     "status": "completed"
    },
    "tags": []
   },
   "source": [
    "Load the data and rename columns. Parse the dates to dates."
   ]
  },
  {
   "cell_type": "code",
   "execution_count": 5,
   "id": "42fdbe1d",
   "metadata": {
    "execution": {
     "iopub.execute_input": "2023-09-26T23:38:26.755217Z",
     "iopub.status.busy": "2023-09-26T23:38:26.754884Z",
     "iopub.status.idle": "2023-09-26T23:38:26.772326Z",
     "shell.execute_reply": "2023-09-26T23:38:26.771329Z"
    },
    "papermill": {
     "duration": 0.025153,
     "end_time": "2023-09-26T23:38:26.774634",
     "exception": false,
     "start_time": "2023-09-26T23:38:26.749481",
     "status": "completed"
    },
    "tags": []
   },
   "outputs": [],
   "source": [
    "data = pd.read_csv(EVENTS_RAW_DATA)[columns.keys()].rename(columns=columns)\n",
    "data.start_date = pd.to_datetime(data.start_date, errors='coerce')\n",
    "data.end_date = pd.to_datetime(data.end_date, errors='coerce')"
   ]
  },
  {
   "cell_type": "markdown",
   "id": "7bfaa1e8",
   "metadata": {
    "papermill": {
     "duration": 0.003531,
     "end_time": "2023-09-26T23:38:26.782005",
     "exception": false,
     "start_time": "2023-09-26T23:38:26.778474",
     "status": "completed"
    },
    "tags": []
   },
   "source": [
    "Filter data by not LI Pull through and start date before now"
   ]
  },
  {
   "cell_type": "code",
   "execution_count": 6,
   "id": "39231690",
   "metadata": {
    "execution": {
     "iopub.execute_input": "2023-09-26T23:38:26.791326Z",
     "iopub.status.busy": "2023-09-26T23:38:26.790591Z",
     "iopub.status.idle": "2023-09-26T23:38:26.798339Z",
     "shell.execute_reply": "2023-09-26T23:38:26.797347Z"
    },
    "papermill": {
     "duration": 0.014645,
     "end_time": "2023-09-26T23:38:26.800463",
     "exception": false,
     "start_time": "2023-09-26T23:38:26.785818",
     "status": "completed"
    },
    "tags": []
   },
   "outputs": [],
   "source": [
    "data = data[\n",
    "    # (data.live_date == 'This event is live ') &\n",
    "    ((data.stage != 'LI pull through') & data.stage.notna()) &\n",
    "    (data.start_date < pd.Timestamp.now())\n",
    "]"
   ]
  },
  {
   "cell_type": "code",
   "execution_count": 7,
   "id": "c1dd41e9",
   "metadata": {
    "execution": {
     "iopub.execute_input": "2023-09-26T23:38:26.809856Z",
     "iopub.status.busy": "2023-09-26T23:38:26.809390Z",
     "iopub.status.idle": "2023-09-26T23:38:28.551900Z",
     "shell.execute_reply": "2023-09-26T23:38:28.550790Z"
    },
    "papermill": {
     "duration": 1.750081,
     "end_time": "2023-09-26T23:38:28.554488",
     "exception": false,
     "start_time": "2023-09-26T23:38:26.804407",
     "status": "completed"
    },
    "tags": []
   },
   "outputs": [],
   "source": [
    "data['ward_code'] = data.postcode.pipe(util.geo.postcode_formatter).map(util.geo.postcode_to_ward_code)\n",
    "data['ward_name'] = data.ward_code.pipe(util.geo.ward_code_to_name)"
   ]
  },
  {
   "cell_type": "markdown",
   "id": "75baa33b",
   "metadata": {
    "papermill": {
     "duration": 0.004952,
     "end_time": "2023-09-26T23:38:28.563431",
     "exception": false,
     "start_time": "2023-09-26T23:38:28.558479",
     "status": "completed"
    },
    "tags": []
   },
   "source": [
    "Save the file"
   ]
  },
  {
   "cell_type": "code",
   "execution_count": 8,
   "id": "753dbee7",
   "metadata": {
    "execution": {
     "iopub.execute_input": "2023-09-26T23:38:28.572139Z",
     "iopub.status.busy": "2023-09-26T23:38:28.571763Z",
     "iopub.status.idle": "2023-09-26T23:38:28.581383Z",
     "shell.execute_reply": "2023-09-26T23:38:28.580320Z"
    },
    "papermill": {
     "duration": 0.016696,
     "end_time": "2023-09-26T23:38:28.583492",
     "exception": false,
     "start_time": "2023-09-26T23:38:28.566796",
     "status": "completed"
    },
    "tags": []
   },
   "outputs": [],
   "source": [
    "data[\n",
    "    ['name','start_date','end_date','ward_code']\n",
    "].to_csv(EVENTS_DATA, index=False)"
   ]
  },
  {
   "cell_type": "markdown",
   "id": "02251d89",
   "metadata": {
    "papermill": {
     "duration": 0.003673,
     "end_time": "2023-09-26T23:38:28.590780",
     "exception": false,
     "start_time": "2023-09-26T23:38:28.587107",
     "status": "completed"
    },
    "tags": []
   },
   "source": [
    "Print out missing postcode data"
   ]
  },
  {
   "cell_type": "code",
   "execution_count": 9,
   "id": "00a05f42",
   "metadata": {
    "execution": {
     "iopub.execute_input": "2023-09-26T23:38:28.599842Z",
     "iopub.status.busy": "2023-09-26T23:38:28.599492Z",
     "iopub.status.idle": "2023-09-26T23:38:28.625693Z",
     "shell.execute_reply": "2023-09-26T23:38:28.624673Z"
    },
    "papermill": {
     "duration": 0.033295,
     "end_time": "2023-09-26T23:38:28.627828",
     "exception": false,
     "start_time": "2023-09-26T23:38:28.594533",
     "status": "completed"
    },
    "tags": []
   },
   "outputs": [
    {
     "data": {
      "text/html": [
       "<div>\n",
       "<style scoped>\n",
       "    .dataframe tbody tr th:only-of-type {\n",
       "        vertical-align: middle;\n",
       "    }\n",
       "\n",
       "    .dataframe tbody tr th {\n",
       "        vertical-align: top;\n",
       "    }\n",
       "\n",
       "    .dataframe thead th {\n",
       "        text-align: right;\n",
       "    }\n",
       "</style>\n",
       "<table border=\"1\" class=\"dataframe\">\n",
       "  <thead>\n",
       "    <tr style=\"text-align: right;\">\n",
       "      <th></th>\n",
       "      <th>name</th>\n",
       "      <th>start_date</th>\n",
       "    </tr>\n",
       "  </thead>\n",
       "  <tbody>\n",
       "    <tr>\n",
       "      <th>1</th>\n",
       "      <td>East Street Arts, A City Less Grey 2022</td>\n",
       "      <td>2022-10-08</td>\n",
       "    </tr>\n",
       "    <tr>\n",
       "      <th>3</th>\n",
       "      <td>Phoenix Dance Theatre Virtual Gallery</td>\n",
       "      <td>2023-01-01</td>\n",
       "    </tr>\n",
       "    <tr>\n",
       "      <th>4</th>\n",
       "      <td>The Big Art Giveaway, School of Creative Arts ...</td>\n",
       "      <td>2023-01-01</td>\n",
       "    </tr>\n",
       "    <tr>\n",
       "      <th>5</th>\n",
       "      <td>Embassy of Netherlands, Meet Leeds Lab</td>\n",
       "      <td>2023-01-16</td>\n",
       "    </tr>\n",
       "    <tr>\n",
       "      <th>6</th>\n",
       "      <td>Shifting Borders: A Journey to the Centre of o...</td>\n",
       "      <td>2023-01-24</td>\n",
       "    </tr>\n",
       "    <tr>\n",
       "      <th>...</th>\n",
       "      <td>...</td>\n",
       "      <td>...</td>\n",
       "    </tr>\n",
       "    <tr>\n",
       "      <th>184</th>\n",
       "      <td>Leeds Language Week: MODERN FOREIGN LANGUAGES ...</td>\n",
       "      <td>2023-09-11</td>\n",
       "    </tr>\n",
       "    <tr>\n",
       "      <th>186</th>\n",
       "      <td>The Ida Network: Leeds meet-up</td>\n",
       "      <td>2023-09-11</td>\n",
       "    </tr>\n",
       "    <tr>\n",
       "      <th>191</th>\n",
       "      <td>Civic Skateboarding</td>\n",
       "      <td>2023-09-16</td>\n",
       "    </tr>\n",
       "    <tr>\n",
       "      <th>195</th>\n",
       "      <td>Jazz at HEART: Sam Newbould Quintet (UK tour)</td>\n",
       "      <td>2023-09-20</td>\n",
       "    </tr>\n",
       "    <tr>\n",
       "      <th>196</th>\n",
       "      <td>On Wednesdays We Wear Queer: Drag Night Extrav...</td>\n",
       "      <td>2023-09-20</td>\n",
       "    </tr>\n",
       "  </tbody>\n",
       "</table>\n",
       "<p>62 rows × 2 columns</p>\n",
       "</div>"
      ],
      "text/plain": [
       "                                                  name start_date\n",
       "1              East Street Arts, A City Less Grey 2022 2022-10-08\n",
       "3                Phoenix Dance Theatre Virtual Gallery 2023-01-01\n",
       "4    The Big Art Giveaway, School of Creative Arts ... 2023-01-01\n",
       "5               Embassy of Netherlands, Meet Leeds Lab 2023-01-16\n",
       "6    Shifting Borders: A Journey to the Centre of o... 2023-01-24\n",
       "..                                                 ...        ...\n",
       "184  Leeds Language Week: MODERN FOREIGN LANGUAGES ... 2023-09-11\n",
       "186                     The Ida Network: Leeds meet-up 2023-09-11\n",
       "191                                Civic Skateboarding 2023-09-16\n",
       "195      Jazz at HEART: Sam Newbould Quintet (UK tour) 2023-09-20\n",
       "196  On Wednesdays We Wear Queer: Drag Night Extrav... 2023-09-20\n",
       "\n",
       "[62 rows x 2 columns]"
      ]
     },
     "execution_count": 9,
     "metadata": {},
     "output_type": "execute_result"
    }
   ],
   "source": [
    "data[data.postcode.isna()][[\n",
    "    'name', 'start_date'\n",
    "]]"
   ]
  },
  {
   "cell_type": "markdown",
   "id": "ed5ccd8b",
   "metadata": {
    "papermill": {
     "duration": 0.00397,
     "end_time": "2023-09-26T23:38:28.635980",
     "exception": false,
     "start_time": "2023-09-26T23:38:28.632010",
     "status": "completed"
    },
    "tags": []
   },
   "source": [
    "Plot the pricing"
   ]
  },
  {
   "cell_type": "code",
   "execution_count": 10,
   "id": "6e6ff8f1",
   "metadata": {
    "execution": {
     "iopub.execute_input": "2023-09-26T23:38:28.646160Z",
     "iopub.status.busy": "2023-09-26T23:38:28.645268Z",
     "iopub.status.idle": "2023-09-26T23:38:29.401408Z",
     "shell.execute_reply": "2023-09-26T23:38:29.400316Z"
    },
    "papermill": {
     "duration": 0.764042,
     "end_time": "2023-09-26T23:38:29.403969",
     "exception": false,
     "start_time": "2023-09-26T23:38:28.639927",
     "status": "completed"
    },
    "tags": []
   },
   "outputs": [
    {
     "data": {
      "image/png": "[encoded data removed]",
      "text/plain": [
       "<Figure size 640x480 with 1 Axes>"
      ]
     },
     "metadata": {},
     "output_type": "display_data"
    }
   ],
   "source": [
    "# .groupby('pricing').count().plot.barh()\n",
    "pricing = data.pricing.fillna('Unspecified').str.replace('[\\[\\'\\]]', '', regex=True).to_frame().reset_index().groupby('pricing').count()\n",
    "\n",
    "pricing.columns = ['count']\n",
    "plot = pricing.plot.barh()\n"
   ]
  },
  {
   "cell_type": "code",
   "execution_count": null,
   "id": "98e7ee27",
   "metadata": {
    "papermill": {
     "duration": 0.005033,
     "end_time": "2023-09-26T23:38:29.418756",
     "exception": false,
     "start_time": "2023-09-26T23:38:29.413723",
     "status": "completed"
    },
    "tags": []
   },
   "outputs": [],
   "source": []
  }
 ],
 "metadata": {
  "kernelspec": {
   "display_name": "leeds-2023-YZF5GfJv",
   "language": "python",
   "name": "python3"
  },
  "language_info": {
   "codemirror_mode": {
    "name": "ipython",
    "version": 3
   },
   "file_extension": ".py",
   "mimetype": "text/x-python",
   "name": "python",
   "nbconvert_exporter": "python",
   "pygments_lexer": "ipython3",
   "version": "3.10.13"
  },
  "papermill": {
   "default_parameters": {},
   "duration": 19.409356,
   "end_time": "2023-09-26T23:38:30.046685",
   "environment_variables": {},
   "exception": null,
   "input_path": "transform.ipynb",
   "output_path": "../../../working/output/partner-events-transform.ipynb",
   "parameters": {},
   "start_time": "2023-09-26T23:38:10.637329",
   "version": "2.4.0"
  }
 },
 "nbformat": 4,
 "nbformat_minor": 5
}