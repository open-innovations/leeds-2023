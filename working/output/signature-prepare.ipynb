{
 "cells": [
  {
   "cell_type": "code",
   "execution_count": 1,
   "id": "faf4e0da",
   "metadata": {
    "execution": {
     "iopub.execute_input": "2023-09-12T23:40:00.542592Z",
     "iopub.status.busy": "2023-09-12T23:40:00.541739Z",
     "iopub.status.idle": "2023-09-12T23:40:10.273545Z",
     "shell.execute_reply": "2023-09-12T23:40:10.272867Z"
    },
    "papermill": {
     "duration": 9.737561,
     "end_time": "2023-09-12T23:40:10.275345",
     "exception": false,
     "start_time": "2023-09-12T23:40:00.537784",
     "status": "completed"
    },
    "tags": []
   },
   "outputs": [],
   "source": [
    "import os\n",
    "import pandas as pd\n",
    "from events import load_event_data, get_first_ward, normalise_ward"
   ]
  },
  {
   "cell_type": "code",
   "execution_count": 2,
   "id": "093a04c8",
   "metadata": {
    "execution": {
     "iopub.execute_input": "2023-09-12T23:40:10.281969Z",
     "iopub.status.busy": "2023-09-12T23:40:10.281378Z",
     "iopub.status.idle": "2023-09-12T23:40:10.286380Z",
     "shell.execute_reply": "2023-09-12T23:40:10.285753Z"
    },
    "papermill": {
     "duration": 0.01006,
     "end_time": "2023-09-12T23:40:10.287994",
     "exception": false,
     "start_time": "2023-09-12T23:40:10.277934",
     "status": "completed"
    },
    "tags": []
   },
   "outputs": [],
   "source": [
    "latest_date = pd.Timestamp.today().ceil('D')"
   ]
  },
  {
   "cell_type": "code",
   "execution_count": 3,
   "id": "bfa4e295",
   "metadata": {
    "execution": {
     "iopub.execute_input": "2023-09-12T23:40:10.293580Z",
     "iopub.status.busy": "2023-09-12T23:40:10.293234Z",
     "iopub.status.idle": "2023-09-12T23:40:10.310540Z",
     "shell.execute_reply": "2023-09-12T23:40:10.309881Z"
    },
    "papermill": {
     "duration": 0.021989,
     "end_time": "2023-09-12T23:40:10.312225",
     "exception": false,
     "start_time": "2023-09-12T23:40:10.290236",
     "status": "completed"
    },
    "tags": []
   },
   "outputs": [],
   "source": [
    "tickets = pd.read_csv('../../../../data/metrics/events/tickets/orders.csv', parse_dates=['created_at', 'event_date'])\n",
    "tickets = tickets[tickets.event_date <= latest_date]"
   ]
  },
  {
   "cell_type": "code",
   "execution_count": 4,
   "id": "eb480441",
   "metadata": {
    "execution": {
     "iopub.execute_input": "2023-09-12T23:40:10.318091Z",
     "iopub.status.busy": "2023-09-12T23:40:10.317560Z",
     "iopub.status.idle": "2023-09-12T23:40:10.545224Z",
     "shell.execute_reply": "2023-09-12T23:40:10.544561Z"
    },
    "papermill": {
     "duration": 0.232602,
     "end_time": "2023-09-12T23:40:10.547130",
     "exception": false,
     "start_time": "2023-09-12T23:40:10.314528",
     "status": "completed"
    },
    "tags": []
   },
   "outputs": [],
   "source": [
    "events = load_event_data()\n",
    "\n",
    "events = pd.concat([\n",
    "  events,\n",
    "  events.pipe(get_first_ward).pipe(normalise_ward).fillna('UNKNOWN'),\n",
    "  pd.Series(\n",
    "      events.actual_audience_size_number_of_participants_in_person + events.actual_audience_size_number_of_participants_online,\n",
    "      name='attendances'\n",
    "  )\n",
    "], axis=1).rename(columns={\n",
    "    'start_date': 'date'\n",
    "}).loc[:, ['ward_code', 'date', 'event_unique_identifier', 'attendances']]"
   ]
  },
  {
   "cell_type": "code",
   "execution_count": 5,
   "id": "f7d9ee8e",
   "metadata": {
    "execution": {
     "iopub.execute_input": "2023-09-12T23:40:10.553969Z",
     "iopub.status.busy": "2023-09-12T23:40:10.553370Z",
     "iopub.status.idle": "2023-09-12T23:40:10.557035Z",
     "shell.execute_reply": "2023-09-12T23:40:10.556378Z"
    },
    "papermill": {
     "duration": 0.008992,
     "end_time": "2023-09-12T23:40:10.558714",
     "exception": false,
     "start_time": "2023-09-12T23:40:10.549722",
     "status": "completed"
    },
    "tags": []
   },
   "outputs": [],
   "source": [
    "OUTPUT_DIR='../../../../docs/metrics/events/signature/_data/'\n",
    "os.makedirs(OUTPUT_DIR, exist_ok=True)"
   ]
  },
  {
   "cell_type": "markdown",
   "id": "a3f58516",
   "metadata": {
    "papermill": {
     "duration": 0.002398,
     "end_time": "2023-09-12T23:40:10.563488",
     "exception": false,
     "start_time": "2023-09-12T23:40:10.561090",
     "status": "completed"
    },
    "tags": []
   },
   "source": [
    "Events CSVs"
   ]
  },
  {
   "cell_type": "code",
   "execution_count": 6,
   "id": "06e6e58b",
   "metadata": {
    "execution": {
     "iopub.execute_input": "2023-09-12T23:40:10.569531Z",
     "iopub.status.busy": "2023-09-12T23:40:10.568938Z",
     "iopub.status.idle": "2023-09-12T23:40:10.575991Z",
     "shell.execute_reply": "2023-09-12T23:40:10.575414Z"
    },
    "papermill": {
     "duration": 0.011745,
     "end_time": "2023-09-12T23:40:10.577555",
     "exception": false,
     "start_time": "2023-09-12T23:40:10.565810",
     "status": "completed"
    },
    "tags": []
   },
   "outputs": [],
   "source": [
    "pd.DataFrame({\n",
    "  'events': events.groupby('ward_code').event_unique_identifier.count(),\n",
    "  'attendances': events.groupby('ward_code').attendances.sum().astype(int),\n",
    "}).to_csv(os.path.join(OUTPUT_DIR, 'events_by_ward.csv'))\n"
   ]
  },
  {
   "cell_type": "code",
   "execution_count": 7,
   "id": "4823a6b6",
   "metadata": {
    "execution": {
     "iopub.execute_input": "2023-09-12T23:40:10.583339Z",
     "iopub.status.busy": "2023-09-12T23:40:10.583121Z",
     "iopub.status.idle": "2023-09-12T23:40:10.593283Z",
     "shell.execute_reply": "2023-09-12T23:40:10.592699Z"
    },
    "papermill": {
     "duration": 0.014948,
     "end_time": "2023-09-12T23:40:10.594906",
     "exception": false,
     "start_time": "2023-09-12T23:40:10.579958",
     "status": "completed"
    },
    "tags": []
   },
   "outputs": [],
   "source": [
    "pd.DataFrame({\n",
    "  'events': events.groupby('date').event_unique_identifier.count(),\n",
    "  'attendances': events.groupby('date').attendances.sum().astype(int),\n",
    "}).resample('M').sum().astype(int).to_csv(os.path.join(OUTPUT_DIR, 'events_by_date.csv'))"
   ]
  },
  {
   "cell_type": "markdown",
   "id": "3bedaf55",
   "metadata": {
    "papermill": {
     "duration": 0.002424,
     "end_time": "2023-09-12T23:40:10.599728",
     "exception": false,
     "start_time": "2023-09-12T23:40:10.597304",
     "status": "completed"
    },
    "tags": []
   },
   "source": [
    "Tickets CSV"
   ]
  },
  {
   "cell_type": "code",
   "execution_count": 8,
   "id": "9d191327",
   "metadata": {
    "execution": {
     "iopub.execute_input": "2023-09-12T23:40:10.605768Z",
     "iopub.status.busy": "2023-09-12T23:40:10.605139Z",
     "iopub.status.idle": "2023-09-12T23:40:10.612869Z",
     "shell.execute_reply": "2023-09-12T23:40:10.612341Z"
    },
    "papermill": {
     "duration": 0.012312,
     "end_time": "2023-09-12T23:40:10.614376",
     "exception": false,
     "start_time": "2023-09-12T23:40:10.602064",
     "status": "completed"
    },
    "tags": []
   },
   "outputs": [],
   "source": [
    "pd.DataFrame({\n",
    "  'orders': tickets.groupby('ward_code').number_of_tickets.count(),\n",
    "  'tickets': tickets.groupby('ward_code').number_of_tickets.sum().astype(int),\n",
    "}).to_csv(os.path.join(OUTPUT_DIR, 'tickets_by_ward.csv'))"
   ]
  },
  {
   "cell_type": "code",
   "execution_count": 9,
   "id": "b20a763e",
   "metadata": {
    "execution": {
     "iopub.execute_input": "2023-09-12T23:40:10.620644Z",
     "iopub.status.busy": "2023-09-12T23:40:10.620182Z",
     "iopub.status.idle": "2023-09-12T23:40:10.628485Z",
     "shell.execute_reply": "2023-09-12T23:40:10.627945Z"
    },
    "papermill": {
     "duration": 0.012968,
     "end_time": "2023-09-12T23:40:10.629826",
     "exception": false,
     "start_time": "2023-09-12T23:40:10.616858",
     "status": "completed"
    },
    "tags": []
   },
   "outputs": [],
   "source": [
    "pd.DataFrame({\n",
    "  'orders': tickets.groupby('event_date').number_of_tickets.count(),\n",
    "  'tickets': tickets.groupby('event_date').number_of_tickets.sum().astype(int),\n",
    "}).resample('M').sum().to_csv(os.path.join(OUTPUT_DIR, 'tickets_by_event_date.csv'))"
   ]
  },
  {
   "cell_type": "code",
   "execution_count": 10,
   "id": "67439ed2",
   "metadata": {
    "execution": {
     "iopub.execute_input": "2023-09-12T23:40:10.636778Z",
     "iopub.status.busy": "2023-09-12T23:40:10.636349Z",
     "iopub.status.idle": "2023-09-12T23:40:10.641494Z",
     "shell.execute_reply": "2023-09-12T23:40:10.640972Z"
    },
    "papermill": {
     "duration": 0.01045,
     "end_time": "2023-09-12T23:40:10.642781",
     "exception": false,
     "start_time": "2023-09-12T23:40:10.632331",
     "status": "completed"
    },
    "tags": []
   },
   "outputs": [],
   "source": [
    "pd.Series({\n",
    "    'total_events': events.event_unique_identifier.count(),\n",
    "    'total_attendances': events.attendances.count(),\n",
    "    'first_event': events.date.min(),\n",
    "    'latest_event': events.date.max(),\n",
    "    'total_ticket_orders_for_events_to_date': tickets.number_of_tickets.count(),\n",
    "    'total_tickets_sold_for_events_to_date': tickets.number_of_tickets.sum(),\n",
    "}).to_json(os.path.join(OUTPUT_DIR, 'headlines.json'), indent=2)"
   ]
  },
  {
   "cell_type": "code",
   "execution_count": null,
   "id": "a33c02dc",
   "metadata": {
    "papermill": {
     "duration": 0.002451,
     "end_time": "2023-09-12T23:40:10.647719",
     "exception": false,
     "start_time": "2023-09-12T23:40:10.645268",
     "status": "completed"
    },
    "tags": []
   },
   "outputs": [],
   "source": []
  }
 ],
 "metadata": {
  "kernelspec": {
   "display_name": "leeds-2023-YZF5GfJv",
   "language": "python",
   "name": "python3"
  },
  "language_info": {
   "codemirror_mode": {
    "name": "ipython",
    "version": 3
   },
   "file_extension": ".py",
   "mimetype": "text/x-python",
   "name": "python",
   "nbconvert_exporter": "python",
   "pygments_lexer": "ipython3",
   "version": "3.10.13"
  },
  "papermill": {
   "default_parameters": {},
   "duration": 11.788513,
   "end_time": "2023-09-12T23:40:10.966720",
   "environment_variables": {},
   "exception": null,
   "input_path": "prepare.ipynb",
   "output_path": "../../../../working/output/signature-prepare.ipynb",
   "parameters": {},
   "start_time": "2023-09-12T23:39:59.178207",
   "version": "2.4.0"
  }
 },
 "nbformat": 4,
 "nbformat_minor": 5
}