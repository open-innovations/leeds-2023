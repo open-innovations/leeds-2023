{
 "cells": [
  {
   "cell_type": "code",
   "execution_count": 1,
   "id": "1bb65eaf",
   "metadata": {
    "execution": {
     "iopub.execute_input": "2023-08-10T23:38:47.318984Z",
     "iopub.status.busy": "2023-08-10T23:38:47.318520Z",
     "iopub.status.idle": "2023-08-10T23:38:56.918300Z",
     "shell.execute_reply": "2023-08-10T23:38:56.917575Z"
    },
    "papermill": {
     "duration": 9.606527,
     "end_time": "2023-08-10T23:38:56.920678",
     "exception": false,
     "start_time": "2023-08-10T23:38:47.314151",
     "status": "completed"
    },
    "tags": []
   },
   "outputs": [],
   "source": [
    "import os\n",
    "import pandas as pd\n",
    "from events import load_event_data, get_first_ward, normalise_ward"
   ]
  },
  {
   "cell_type": "code",
   "execution_count": 2,
   "id": "79463cf3",
   "metadata": {
    "execution": {
     "iopub.execute_input": "2023-08-10T23:38:56.926543Z",
     "iopub.status.busy": "2023-08-10T23:38:56.926064Z",
     "iopub.status.idle": "2023-08-10T23:38:56.929889Z",
     "shell.execute_reply": "2023-08-10T23:38:56.929236Z"
    },
    "papermill": {
     "duration": 0.00847,
     "end_time": "2023-08-10T23:38:56.931537",
     "exception": false,
     "start_time": "2023-08-10T23:38:56.923067",
     "status": "completed"
    },
    "tags": []
   },
   "outputs": [],
   "source": [
    "latest_date = pd.Timestamp.today().ceil('D')"
   ]
  },
  {
   "cell_type": "code",
   "execution_count": 3,
   "id": "6bb94098",
   "metadata": {
    "execution": {
     "iopub.execute_input": "2023-08-10T23:38:56.936982Z",
     "iopub.status.busy": "2023-08-10T23:38:56.936391Z",
     "iopub.status.idle": "2023-08-10T23:38:56.951845Z",
     "shell.execute_reply": "2023-08-10T23:38:56.951253Z"
    },
    "papermill": {
     "duration": 0.020012,
     "end_time": "2023-08-10T23:38:56.953528",
     "exception": false,
     "start_time": "2023-08-10T23:38:56.933516",
     "status": "completed"
    },
    "tags": []
   },
   "outputs": [],
   "source": [
    "tickets = pd.read_csv('../../../../data/metrics/events/tickets/orders.csv', parse_dates=['created_at', 'event_date'])\n",
    "tickets = tickets[tickets.event_date <= latest_date]"
   ]
  },
  {
   "cell_type": "code",
   "execution_count": 4,
   "id": "0f6affb2",
   "metadata": {
    "execution": {
     "iopub.execute_input": "2023-08-10T23:38:56.959125Z",
     "iopub.status.busy": "2023-08-10T23:38:56.958916Z",
     "iopub.status.idle": "2023-08-10T23:38:57.117013Z",
     "shell.execute_reply": "2023-08-10T23:38:57.116317Z"
    },
    "papermill": {
     "duration": 0.163359,
     "end_time": "2023-08-10T23:38:57.119145",
     "exception": false,
     "start_time": "2023-08-10T23:38:56.955786",
     "status": "completed"
    },
    "tags": []
   },
   "outputs": [],
   "source": [
    "events = load_event_data()\n",
    "\n",
    "events = pd.concat([\n",
    "  events,\n",
    "  events.pipe(get_first_ward).pipe(normalise_ward).fillna('UNKNOWN'),\n",
    "  pd.Series(\n",
    "      events.actual_audience_size_number_of_participants_in_person + events.actual_audience_size_number_of_participants_online,\n",
    "      name='attendances'\n",
    "  )\n",
    "], axis=1).rename(columns={\n",
    "    'start_date': 'date'\n",
    "}).loc[:, ['ward_code', 'date', 'event_unique_identifier', 'attendances']]"
   ]
  },
  {
   "cell_type": "code",
   "execution_count": 5,
   "id": "3d48c590",
   "metadata": {
    "execution": {
     "iopub.execute_input": "2023-08-10T23:38:57.126324Z",
     "iopub.status.busy": "2023-08-10T23:38:57.125909Z",
     "iopub.status.idle": "2023-08-10T23:38:57.130191Z",
     "shell.execute_reply": "2023-08-10T23:38:57.129632Z"
    },
    "papermill": {
     "duration": 0.009434,
     "end_time": "2023-08-10T23:38:57.131683",
     "exception": false,
     "start_time": "2023-08-10T23:38:57.122249",
     "status": "completed"
    },
    "tags": []
   },
   "outputs": [],
   "source": [
    "OUTPUT_DIR='../../../../docs/metrics/events/signature/_data/'\n",
    "os.makedirs(OUTPUT_DIR, exist_ok=True)"
   ]
  },
  {
   "cell_type": "markdown",
   "id": "b2501db7",
   "metadata": {
    "papermill": {
     "duration": 0.002095,
     "end_time": "2023-08-10T23:38:57.135848",
     "exception": false,
     "start_time": "2023-08-10T23:38:57.133753",
     "status": "completed"
    },
    "tags": []
   },
   "source": [
    "Events CSVs"
   ]
  },
  {
   "cell_type": "code",
   "execution_count": 6,
   "id": "a5a98bd8",
   "metadata": {
    "execution": {
     "iopub.execute_input": "2023-08-10T23:38:57.141092Z",
     "iopub.status.busy": "2023-08-10T23:38:57.140753Z",
     "iopub.status.idle": "2023-08-10T23:38:57.147444Z",
     "shell.execute_reply": "2023-08-10T23:38:57.146828Z"
    },
    "papermill": {
     "duration": 0.011042,
     "end_time": "2023-08-10T23:38:57.148979",
     "exception": false,
     "start_time": "2023-08-10T23:38:57.137937",
     "status": "completed"
    },
    "tags": []
   },
   "outputs": [],
   "source": [
    "pd.DataFrame({\n",
    "  'events': events.groupby('ward_code').event_unique_identifier.count(),\n",
    "  'attendances': events.groupby('ward_code').attendances.sum().astype(int),\n",
    "}).to_csv(os.path.join(OUTPUT_DIR, 'events_by_ward.csv'))\n"
   ]
  },
  {
   "cell_type": "code",
   "execution_count": 7,
   "id": "049d1659",
   "metadata": {
    "execution": {
     "iopub.execute_input": "2023-08-10T23:38:57.154419Z",
     "iopub.status.busy": "2023-08-10T23:38:57.153853Z",
     "iopub.status.idle": "2023-08-10T23:38:57.164678Z",
     "shell.execute_reply": "2023-08-10T23:38:57.163499Z"
    },
    "papermill": {
     "duration": 0.015246,
     "end_time": "2023-08-10T23:38:57.166301",
     "exception": false,
     "start_time": "2023-08-10T23:38:57.151055",
     "status": "completed"
    },
    "tags": []
   },
   "outputs": [],
   "source": [
    "pd.DataFrame({\n",
    "  'events': events.groupby('date').event_unique_identifier.count(),\n",
    "  'attendances': events.groupby('date').attendances.sum().astype(int),\n",
    "}).resample('M').sum().astype(int).to_csv(os.path.join(OUTPUT_DIR, 'events_by_date.csv'))"
   ]
  },
  {
   "cell_type": "markdown",
   "id": "32790f57",
   "metadata": {
    "papermill": {
     "duration": 0.002144,
     "end_time": "2023-08-10T23:38:57.170554",
     "exception": false,
     "start_time": "2023-08-10T23:38:57.168410",
     "status": "completed"
    },
    "tags": []
   },
   "source": [
    "Tickets CSV"
   ]
  },
  {
   "cell_type": "code",
   "execution_count": 8,
   "id": "df5c37e2",
   "metadata": {
    "execution": {
     "iopub.execute_input": "2023-08-10T23:38:57.176014Z",
     "iopub.status.busy": "2023-08-10T23:38:57.175474Z",
     "iopub.status.idle": "2023-08-10T23:38:57.181837Z",
     "shell.execute_reply": "2023-08-10T23:38:57.181295Z"
    },
    "papermill": {
     "duration": 0.010667,
     "end_time": "2023-08-10T23:38:57.183333",
     "exception": false,
     "start_time": "2023-08-10T23:38:57.172666",
     "status": "completed"
    },
    "tags": []
   },
   "outputs": [],
   "source": [
    "pd.DataFrame({\n",
    "  'orders': tickets.groupby('ward_code').number_of_tickets.count(),\n",
    "  'tickets': tickets.groupby('ward_code').number_of_tickets.sum().astype(int),\n",
    "}).to_csv(os.path.join(OUTPUT_DIR, 'tickets_by_ward.csv'))"
   ]
  },
  {
   "cell_type": "code",
   "execution_count": 9,
   "id": "2bb7c76d",
   "metadata": {
    "execution": {
     "iopub.execute_input": "2023-08-10T23:38:57.189003Z",
     "iopub.status.busy": "2023-08-10T23:38:57.188436Z",
     "iopub.status.idle": "2023-08-10T23:38:57.196468Z",
     "shell.execute_reply": "2023-08-10T23:38:57.195873Z"
    },
    "papermill": {
     "duration": 0.012638,
     "end_time": "2023-08-10T23:38:57.198127",
     "exception": false,
     "start_time": "2023-08-10T23:38:57.185489",
     "status": "completed"
    },
    "tags": []
   },
   "outputs": [],
   "source": [
    "pd.DataFrame({\n",
    "  'orders': tickets.groupby('event_date').number_of_tickets.count(),\n",
    "  'tickets': tickets.groupby('event_date').number_of_tickets.sum().astype(int),\n",
    "}).resample('M').sum().to_csv(os.path.join(OUTPUT_DIR, 'tickets_by_event_date.csv'))"
   ]
  },
  {
   "cell_type": "code",
   "execution_count": 10,
   "id": "4858939f",
   "metadata": {
    "execution": {
     "iopub.execute_input": "2023-08-10T23:38:57.204907Z",
     "iopub.status.busy": "2023-08-10T23:38:57.204450Z",
     "iopub.status.idle": "2023-08-10T23:38:57.209957Z",
     "shell.execute_reply": "2023-08-10T23:38:57.209289Z"
    },
    "papermill": {
     "duration": 0.011067,
     "end_time": "2023-08-10T23:38:57.211499",
     "exception": false,
     "start_time": "2023-08-10T23:38:57.200432",
     "status": "completed"
    },
    "tags": []
   },
   "outputs": [],
   "source": [
    "pd.Series({\n",
    "    'total_events': events.event_unique_identifier.count(),\n",
    "    'total_attendances': events.attendances.count(),\n",
    "    'first_event': events.date.min(),\n",
    "    'latest_event': events.date.max(),\n",
    "    'total_ticket_orders_for_events_to_date': tickets.number_of_tickets.count(),\n",
    "    'total_tickets_sold_for_events_to_date': tickets.number_of_tickets.sum(),\n",
    "}).to_json(os.path.join(OUTPUT_DIR, 'headlines.json'), indent=2)"
   ]
  },
  {
   "cell_type": "code",
   "execution_count": null,
   "id": "1cf9381c",
   "metadata": {
    "papermill": {
     "duration": 0.002254,
     "end_time": "2023-08-10T23:38:57.216197",
     "exception": false,
     "start_time": "2023-08-10T23:38:57.213943",
     "status": "completed"
    },
    "tags": []
   },
   "outputs": [],
   "source": []
  }
 ],
 "metadata": {
  "kernelspec": {
   "display_name": "leeds-2023-YZF5GfJv",
   "language": "python",
   "name": "python3"
  },
  "language_info": {
   "codemirror_mode": {
    "name": "ipython",
    "version": 3
   },
   "file_extension": ".py",
   "mimetype": "text/x-python",
   "name": "python",
   "nbconvert_exporter": "python",
   "pygments_lexer": "ipython3",
   "version": "3.10.12"
  },
  "papermill": {
   "default_parameters": {},
   "duration": 11.61491,
   "end_time": "2023-08-10T23:38:57.534757",
   "environment_variables": {},
   "exception": null,
   "input_path": "prepare.ipynb",
   "output_path": "../../../../working/output/signature-prepare.ipynb",
   "parameters": {},
   "start_time": "2023-08-10T23:38:45.919847",
   "version": "2.4.0"
  }
 },
 "nbformat": 4,
 "nbformat_minor": 5
}