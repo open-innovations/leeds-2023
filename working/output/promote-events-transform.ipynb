{
 "cells": [
  {
   "cell_type": "code",
   "execution_count": 1,
   "id": "7644a820",
   "metadata": {
    "execution": {
     "iopub.execute_input": "2023-07-14T23:41:41.029280Z",
     "iopub.status.busy": "2023-07-14T23:41:41.028477Z",
     "iopub.status.idle": "2023-07-14T23:41:41.349740Z",
     "shell.execute_reply": "2023-07-14T23:41:41.347993Z"
    },
    "papermill": {
     "duration": 0.328485,
     "end_time": "2023-07-14T23:41:41.352732",
     "exception": false,
     "start_time": "2023-07-14T23:41:41.024247",
     "status": "completed"
    },
    "tags": []
   },
   "outputs": [],
   "source": [
    "import os\n",
    "import pandas as pd"
   ]
  },
  {
   "cell_type": "code",
   "execution_count": 2,
   "id": "e20e7e5c",
   "metadata": {
    "execution": {
     "iopub.execute_input": "2023-07-14T23:41:41.358243Z",
     "iopub.status.busy": "2023-07-14T23:41:41.357456Z",
     "iopub.status.idle": "2023-07-14T23:41:41.362188Z",
     "shell.execute_reply": "2023-07-14T23:41:41.361319Z"
    },
    "papermill": {
     "duration": 0.00974,
     "end_time": "2023-07-14T23:41:41.364379",
     "exception": false,
     "start_time": "2023-07-14T23:41:41.354639",
     "status": "completed"
    },
    "tags": []
   },
   "outputs": [],
   "source": [
    "EVENTS_RAW_DATA = '../../../working/metrics/promote-events/events.csv'\n",
    "DATA_DIR = '../../../data/metrics/events/promote-events/'\n",
    "EVENTS_DATA = os.path.join(DATA_DIR, 'events.csv')"
   ]
  },
  {
   "cell_type": "code",
   "execution_count": 3,
   "id": "6a07ba1f",
   "metadata": {
    "execution": {
     "iopub.execute_input": "2023-07-14T23:41:41.369270Z",
     "iopub.status.busy": "2023-07-14T23:41:41.368689Z",
     "iopub.status.idle": "2023-07-14T23:41:41.373236Z",
     "shell.execute_reply": "2023-07-14T23:41:41.372360Z"
    },
    "papermill": {
     "duration": 0.009905,
     "end_time": "2023-07-14T23:41:41.375778",
     "exception": false,
     "start_time": "2023-07-14T23:41:41.365873",
     "status": "completed"
    },
    "tags": []
   },
   "outputs": [],
   "source": [
    "columns = {\n",
    "    'id': 'id',\n",
    "    'name': 'name',\n",
    "    'locationName': 'location',\n",
    "    'cardPrice': 'card_price',\n",
    "    'timeslots': 'time',\n",
    "    'displayOnWebsite': 'display',\n",
    "    'Stage': 'stage',\n",
    "}"
   ]
  },
  {
   "cell_type": "code",
   "execution_count": 4,
   "id": "f0cfc26e",
   "metadata": {
    "execution": {
     "iopub.execute_input": "2023-07-14T23:41:41.380521Z",
     "iopub.status.busy": "2023-07-14T23:41:41.380206Z",
     "iopub.status.idle": "2023-07-14T23:41:41.396324Z",
     "shell.execute_reply": "2023-07-14T23:41:41.395269Z"
    },
    "papermill": {
     "duration": 0.021091,
     "end_time": "2023-07-14T23:41:41.398751",
     "exception": false,
     "start_time": "2023-07-14T23:41:41.377660",
     "status": "completed"
    },
    "tags": []
   },
   "outputs": [],
   "source": [
    "data = pd.read_csv(EVENTS_RAW_DATA)[columns.keys()].rename(columns=columns)\n",
    "data.time = pd.to_datetime(data.time, errors='coerce')"
   ]
  },
  {
   "cell_type": "code",
   "execution_count": 5,
   "id": "27c45536",
   "metadata": {
    "execution": {
     "iopub.execute_input": "2023-07-14T23:41:41.403893Z",
     "iopub.status.busy": "2023-07-14T23:41:41.403574Z",
     "iopub.status.idle": "2023-07-14T23:41:41.414024Z",
     "shell.execute_reply": "2023-07-14T23:41:41.413140Z"
    },
    "papermill": {
     "duration": 0.015513,
     "end_time": "2023-07-14T23:41:41.416233",
     "exception": false,
     "start_time": "2023-07-14T23:41:41.400720",
     "status": "completed"
    },
    "tags": []
   },
   "outputs": [],
   "source": [
    "data.to_csv(os.path.join(DATA_DIR, 'events.csv'), index=False)"
   ]
  }
 ],
 "metadata": {
  "kernelspec": {
   "display_name": "leeds-2023-YZF5GfJv",
   "language": "python",
   "name": "python3"
  },
  "language_info": {
   "codemirror_mode": {
    "name": "ipython",
    "version": 3
   },
   "file_extension": ".py",
   "mimetype": "text/x-python",
   "name": "python",
   "nbconvert_exporter": "python",
   "pygments_lexer": "ipython3",
   "version": "3.10.6"
  },
  "papermill": {
   "default_parameters": {},
   "duration": 2.332277,
   "end_time": "2023-07-14T23:41:41.737494",
   "environment_variables": {},
   "exception": null,
   "input_path": "transform.ipynb",
   "output_path": "../../../working/output/promote-events-transform.ipynb",
   "parameters": {},
   "start_time": "2023-07-14T23:41:39.405217",
   "version": "2.4.0"
  }
 },
 "nbformat": 4,
 "nbformat_minor": 5
}