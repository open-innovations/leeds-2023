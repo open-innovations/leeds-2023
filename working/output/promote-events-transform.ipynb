{
 "cells": [
  {
   "cell_type": "code",
   "execution_count": 1,
   "id": "f5b1cd1e",
   "metadata": {
    "execution": {
     "iopub.execute_input": "2023-08-18T17:34:24.259545Z",
     "iopub.status.busy": "2023-08-18T17:34:24.259384Z",
     "iopub.status.idle": "2023-08-18T17:34:24.420822Z",
     "shell.execute_reply": "2023-08-18T17:34:24.420372Z"
    },
    "papermill": {
     "duration": 0.167334,
     "end_time": "2023-08-18T17:34:24.421784",
     "exception": false,
     "start_time": "2023-08-18T17:34:24.254450",
     "status": "completed"
    },
    "tags": []
   },
   "outputs": [],
   "source": [
    "import os\n",
    "import pandas as pd"
   ]
  },
  {
   "cell_type": "code",
   "execution_count": 2,
   "id": "7fdb86c5",
   "metadata": {
    "execution": {
     "iopub.execute_input": "2023-08-18T17:34:24.424000Z",
     "iopub.status.busy": "2023-08-18T17:34:24.423831Z",
     "iopub.status.idle": "2023-08-18T17:34:24.425944Z",
     "shell.execute_reply": "2023-08-18T17:34:24.425650Z"
    },
    "papermill": {
     "duration": 0.003991,
     "end_time": "2023-08-18T17:34:24.426648",
     "exception": false,
     "start_time": "2023-08-18T17:34:24.422657",
     "status": "completed"
    },
    "tags": []
   },
   "outputs": [],
   "source": [
    "EVENTS_RAW_DATA = '../../../working/metrics/promote-events/events.csv'\n",
    "DATA_DIR = '../../../data/metrics/events/promote-events/'\n",
    "EVENTS_DATA = os.path.join(DATA_DIR, 'events.csv')"
   ]
  },
  {
   "cell_type": "code",
   "execution_count": 3,
   "id": "2051d48d",
   "metadata": {
    "execution": {
     "iopub.execute_input": "2023-08-18T17:34:24.428451Z",
     "iopub.status.busy": "2023-08-18T17:34:24.428217Z",
     "iopub.status.idle": "2023-08-18T17:34:24.430221Z",
     "shell.execute_reply": "2023-08-18T17:34:24.429927Z"
    },
    "papermill": {
     "duration": 0.003574,
     "end_time": "2023-08-18T17:34:24.430851",
     "exception": false,
     "start_time": "2023-08-18T17:34:24.427277",
     "status": "completed"
    },
    "tags": []
   },
   "outputs": [],
   "source": [
    "columns = {\n",
    "    'id': 'id',\n",
    "    'name': 'name',\n",
    "    'locationName': 'location',\n",
    "    'cardPrice': 'card_price',\n",
    "    'timeslots': 'time',\n",
    "    # 'displayOnWebsite': 'display',\n",
    "    'Stage': 'stage',\n",
    "}"
   ]
  },
  {
   "cell_type": "code",
   "execution_count": 4,
   "id": "6665f8fc",
   "metadata": {
    "execution": {
     "iopub.execute_input": "2023-08-18T17:34:24.432579Z",
     "iopub.status.busy": "2023-08-18T17:34:24.432444Z",
     "iopub.status.idle": "2023-08-18T17:34:24.438161Z",
     "shell.execute_reply": "2023-08-18T17:34:24.437843Z"
    },
    "papermill": {
     "duration": 0.007288,
     "end_time": "2023-08-18T17:34:24.438801",
     "exception": false,
     "start_time": "2023-08-18T17:34:24.431513",
     "status": "completed"
    },
    "tags": []
   },
   "outputs": [],
   "source": [
    "data = pd.read_csv(EVENTS_RAW_DATA)[columns.keys()].rename(columns=columns)\n",
    "data.time = pd.to_datetime(data.time, errors='coerce')"
   ]
  },
  {
   "cell_type": "code",
   "execution_count": 5,
   "id": "5751be86",
   "metadata": {
    "execution": {
     "iopub.execute_input": "2023-08-18T17:34:24.440728Z",
     "iopub.status.busy": "2023-08-18T17:34:24.440582Z",
     "iopub.status.idle": "2023-08-18T17:34:24.443633Z",
     "shell.execute_reply": "2023-08-18T17:34:24.443371Z"
    },
    "papermill": {
     "duration": 0.004716,
     "end_time": "2023-08-18T17:34:24.444259",
     "exception": false,
     "start_time": "2023-08-18T17:34:24.439543",
     "status": "completed"
    },
    "tags": []
   },
   "outputs": [],
   "source": [
    "data.to_csv(os.path.join(DATA_DIR, 'events.csv'), index=False)"
   ]
  }
 ],
 "metadata": {
  "kernelspec": {
   "display_name": "leeds-2023-YZF5GfJv",
   "language": "python",
   "name": "python3"
  },
  "language_info": {
   "codemirror_mode": {
    "name": "ipython",
    "version": 3
   },
   "file_extension": ".py",
   "mimetype": "text/x-python",
   "name": "python",
   "nbconvert_exporter": "python",
   "pygments_lexer": "ipython3",
   "version": "3.10.12"
  },
  "papermill": {
   "default_parameters": {},
   "duration": 1.262883,
   "end_time": "2023-08-18T17:34:24.661901",
   "environment_variables": {},
   "exception": null,
   "input_path": "transform.ipynb",
   "output_path": "../../../working/output/promote-events-transform.ipynb",
   "parameters": {},
   "start_time": "2023-08-18T17:34:23.399018",
   "version": "2.4.0"
  }
 },
 "nbformat": 4,
 "nbformat_minor": 5
}