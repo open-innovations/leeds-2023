{
 "cells": [
  {
   "cell_type": "code",
   "execution_count": 1,
   "id": "df71483a",
   "metadata": {
    "execution": {
     "iopub.execute_input": "2023-07-13T23:39:16.945200Z",
     "iopub.status.busy": "2023-07-13T23:39:16.944713Z",
     "iopub.status.idle": "2023-07-13T23:39:17.188151Z",
     "shell.execute_reply": "2023-07-13T23:39:17.187445Z"
    },
    "papermill": {
     "duration": 0.249431,
     "end_time": "2023-07-13T23:39:17.190432",
     "exception": false,
     "start_time": "2023-07-13T23:39:16.941001",
     "status": "completed"
    },
    "tags": []
   },
   "outputs": [],
   "source": [
    "import os\n",
    "import pandas as pd"
   ]
  },
  {
   "cell_type": "code",
   "execution_count": 2,
   "id": "6f401601",
   "metadata": {
    "execution": {
     "iopub.execute_input": "2023-07-13T23:39:17.195609Z",
     "iopub.status.busy": "2023-07-13T23:39:17.194968Z",
     "iopub.status.idle": "2023-07-13T23:39:17.198407Z",
     "shell.execute_reply": "2023-07-13T23:39:17.197785Z"
    },
    "papermill": {
     "duration": 0.007615,
     "end_time": "2023-07-13T23:39:17.200015",
     "exception": false,
     "start_time": "2023-07-13T23:39:17.192400",
     "status": "completed"
    },
    "tags": []
   },
   "outputs": [],
   "source": [
    "DATA_DIR='../../../docs/metrics/events/promote/_data/'\n",
    "os.makedirs(DATA_DIR, exist_ok=True)"
   ]
  },
  {
   "cell_type": "code",
   "execution_count": 3,
   "id": "06e479db",
   "metadata": {
    "execution": {
     "iopub.execute_input": "2023-07-13T23:39:17.204490Z",
     "iopub.status.busy": "2023-07-13T23:39:17.204087Z",
     "iopub.status.idle": "2023-07-13T23:39:17.213806Z",
     "shell.execute_reply": "2023-07-13T23:39:17.212887Z"
    },
    "papermill": {
     "duration": 0.013633,
     "end_time": "2023-07-13T23:39:17.215321",
     "exception": false,
     "start_time": "2023-07-13T23:39:17.201688",
     "status": "completed"
    },
    "tags": []
   },
   "outputs": [],
   "source": [
    "data = pd.read_csv('../../../data/metrics/events/promote-events/events.csv', parse_dates=['time'])"
   ]
  },
  {
   "cell_type": "code",
   "execution_count": 4,
   "id": "fc6773dc",
   "metadata": {
    "execution": {
     "iopub.execute_input": "2023-07-13T23:39:17.219688Z",
     "iopub.status.busy": "2023-07-13T23:39:17.219286Z",
     "iopub.status.idle": "2023-07-13T23:39:17.224365Z",
     "shell.execute_reply": "2023-07-13T23:39:17.223759Z"
    },
    "papermill": {
     "duration": 0.008959,
     "end_time": "2023-07-13T23:39:17.225843",
     "exception": false,
     "start_time": "2023-07-13T23:39:17.216884",
     "status": "completed"
    },
    "tags": []
   },
   "outputs": [],
   "source": [
    "pd.Series({\n",
    "    'total_events': len(data.id.unique()),\n",
    "    'total_event_instances': len(data.time),\n",
    "    'earliest_event': data.time.min(),\n",
    "    'latest_event': data.time.max(),\n",
    "}).to_json(\n",
    "    os.path.join(DATA_DIR, 'headlines.json'),\n",
    "    date_format='iso', indent=2\n",
    ")"
   ]
  },
  {
   "cell_type": "code",
   "execution_count": 5,
   "id": "6e1fe5d2",
   "metadata": {
    "execution": {
     "iopub.execute_input": "2023-07-13T23:39:17.230623Z",
     "iopub.status.busy": "2023-07-13T23:39:17.230216Z",
     "iopub.status.idle": "2023-07-13T23:39:17.237924Z",
     "shell.execute_reply": "2023-07-13T23:39:17.237380Z"
    },
    "papermill": {
     "duration": 0.01209,
     "end_time": "2023-07-13T23:39:17.239483",
     "exception": false,
     "start_time": "2023-07-13T23:39:17.227393",
     "status": "completed"
    },
    "tags": []
   },
   "outputs": [],
   "source": [
    "events = pd.DataFrame({\n",
    "    'events': data.groupby('id').agg({ 'time': 'min' }).reset_index().groupby('time').id.count(),\n",
    "    'event_instances': data.groupby('time').id.count(),\n",
    "}).fillna(0).astype(int)"
   ]
  },
  {
   "cell_type": "code",
   "execution_count": 6,
   "id": "219e70fb",
   "metadata": {
    "execution": {
     "iopub.execute_input": "2023-07-13T23:39:17.243873Z",
     "iopub.status.busy": "2023-07-13T23:39:17.243532Z",
     "iopub.status.idle": "2023-07-13T23:39:17.247004Z",
     "shell.execute_reply": "2023-07-13T23:39:17.246380Z"
    },
    "papermill": {
     "duration": 0.007483,
     "end_time": "2023-07-13T23:39:17.248604",
     "exception": false,
     "start_time": "2023-07-13T23:39:17.241121",
     "status": "completed"
    },
    "tags": []
   },
   "outputs": [],
   "source": [
    "def cumulate(data):\n",
    "    return pd.concat([\n",
    "        data,\n",
    "        data.cumsum().rename(columns=lambda c: f'cumulative_{c}')\n",
    "    ], axis=1)"
   ]
  },
  {
   "cell_type": "code",
   "execution_count": 7,
   "id": "4e5181f1",
   "metadata": {
    "execution": {
     "iopub.execute_input": "2023-07-13T23:39:17.252912Z",
     "iopub.status.busy": "2023-07-13T23:39:17.252523Z",
     "iopub.status.idle": "2023-07-13T23:39:17.261748Z",
     "shell.execute_reply": "2023-07-13T23:39:17.261197Z"
    },
    "papermill": {
     "duration": 0.013018,
     "end_time": "2023-07-13T23:39:17.263249",
     "exception": false,
     "start_time": "2023-07-13T23:39:17.250231",
     "status": "completed"
    },
    "tags": []
   },
   "outputs": [],
   "source": [
    "events.resample('W-FRI').sum().pipe(cumulate).to_csv(os.path.join(DATA_DIR, 'by_week.csv'))"
   ]
  },
  {
   "cell_type": "code",
   "execution_count": 8,
   "id": "fd270428",
   "metadata": {
    "execution": {
     "iopub.execute_input": "2023-07-13T23:39:17.267717Z",
     "iopub.status.busy": "2023-07-13T23:39:17.267318Z",
     "iopub.status.idle": "2023-07-13T23:39:17.272784Z",
     "shell.execute_reply": "2023-07-13T23:39:17.272189Z"
    },
    "papermill": {
     "duration": 0.009194,
     "end_time": "2023-07-13T23:39:17.274196",
     "exception": false,
     "start_time": "2023-07-13T23:39:17.265002",
     "status": "completed"
    },
    "tags": []
   },
   "outputs": [],
   "source": [
    "events.resample('MS').sum().pipe(cumulate).to_csv(os.path.join(DATA_DIR, 'by_month.csv'))"
   ]
  },
  {
   "cell_type": "code",
   "execution_count": null,
   "id": "3be93d4a",
   "metadata": {
    "papermill": {
     "duration": 0.001646,
     "end_time": "2023-07-13T23:39:17.277537",
     "exception": false,
     "start_time": "2023-07-13T23:39:17.275891",
     "status": "completed"
    },
    "tags": []
   },
   "outputs": [],
   "source": []
  }
 ],
 "metadata": {
  "kernelspec": {
   "display_name": "leeds-2023-YZF5GfJv",
   "language": "python",
   "name": "python3"
  },
  "language_info": {
   "codemirror_mode": {
    "name": "ipython",
    "version": 3
   },
   "file_extension": ".py",
   "mimetype": "text/x-python",
   "name": "python",
   "nbconvert_exporter": "python",
   "pygments_lexer": "ipython3",
   "version": "3.10.6"
  },
  "papermill": {
   "default_parameters": {},
   "duration": 1.885766,
   "end_time": "2023-07-13T23:39:17.496274",
   "environment_variables": {},
   "exception": null,
   "input_path": "prepare.ipynb",
   "output_path": "../../../working/output/promote-events-prepare.ipynb",
   "parameters": {},
   "start_time": "2023-07-13T23:39:15.610508",
   "version": "2.4.0"
  }
 },
 "nbformat": 4,
 "nbformat_minor": 5
}