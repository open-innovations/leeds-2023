{
 "cells": [
  {
   "cell_type": "code",
   "execution_count": 1,
   "id": "9132a463",
   "metadata": {
    "execution": {
     "iopub.execute_input": "2023-08-19T10:22:17.276155Z",
     "iopub.status.busy": "2023-08-19T10:22:17.275687Z",
     "iopub.status.idle": "2023-08-19T10:22:17.516936Z",
     "shell.execute_reply": "2023-08-19T10:22:17.516207Z"
    },
    "papermill": {
     "duration": 0.246563,
     "end_time": "2023-08-19T10:22:17.518828",
     "exception": false,
     "start_time": "2023-08-19T10:22:17.272265",
     "status": "completed"
    },
    "tags": []
   },
   "outputs": [],
   "source": [
    "import os\n",
    "import pandas as pd"
   ]
  },
  {
   "cell_type": "code",
   "execution_count": 2,
   "id": "eb766a90",
   "metadata": {
    "execution": {
     "iopub.execute_input": "2023-08-19T10:22:17.523540Z",
     "iopub.status.busy": "2023-08-19T10:22:17.522855Z",
     "iopub.status.idle": "2023-08-19T10:22:17.526280Z",
     "shell.execute_reply": "2023-08-19T10:22:17.525723Z"
    },
    "papermill": {
     "duration": 0.007286,
     "end_time": "2023-08-19T10:22:17.527705",
     "exception": false,
     "start_time": "2023-08-19T10:22:17.520419",
     "status": "completed"
    },
    "tags": []
   },
   "outputs": [],
   "source": [
    "EVENTS_RAW_DATA = '../../../working/metrics/promote-events/events.csv'\n",
    "DATA_DIR = '../../../data/metrics/events/promote-events/'\n",
    "EVENTS_DATA = os.path.join(DATA_DIR, 'events.csv')"
   ]
  },
  {
   "cell_type": "code",
   "execution_count": 3,
   "id": "320f35c8",
   "metadata": {
    "execution": {
     "iopub.execute_input": "2023-08-19T10:22:17.530941Z",
     "iopub.status.busy": "2023-08-19T10:22:17.530731Z",
     "iopub.status.idle": "2023-08-19T10:22:17.533896Z",
     "shell.execute_reply": "2023-08-19T10:22:17.533292Z"
    },
    "papermill": {
     "duration": 0.006434,
     "end_time": "2023-08-19T10:22:17.535330",
     "exception": false,
     "start_time": "2023-08-19T10:22:17.528896",
     "status": "completed"
    },
    "tags": []
   },
   "outputs": [],
   "source": [
    "columns = {\n",
    "    'id': 'id',\n",
    "    'name': 'name',\n",
    "    'locationName': 'location',\n",
    "    'cardPrice': 'card_price',\n",
    "    'timeslots': 'time',\n",
    "    # 'displayOnWebsite': 'display',\n",
    "    'Stage': 'stage',\n",
    "}"
   ]
  },
  {
   "cell_type": "code",
   "execution_count": 4,
   "id": "fb671643",
   "metadata": {
    "execution": {
     "iopub.execute_input": "2023-08-19T10:22:17.538786Z",
     "iopub.status.busy": "2023-08-19T10:22:17.538402Z",
     "iopub.status.idle": "2023-08-19T10:22:17.548209Z",
     "shell.execute_reply": "2023-08-19T10:22:17.547668Z"
    },
    "papermill": {
     "duration": 0.013189,
     "end_time": "2023-08-19T10:22:17.549708",
     "exception": false,
     "start_time": "2023-08-19T10:22:17.536519",
     "status": "completed"
    },
    "tags": []
   },
   "outputs": [],
   "source": [
    "data = pd.read_csv(EVENTS_RAW_DATA)[columns.keys()].rename(columns=columns)\n",
    "data.time = pd.to_datetime(data.time, errors='coerce')"
   ]
  },
  {
   "cell_type": "code",
   "execution_count": 5,
   "id": "c92d6d33",
   "metadata": {
    "execution": {
     "iopub.execute_input": "2023-08-19T10:22:17.553262Z",
     "iopub.status.busy": "2023-08-19T10:22:17.552868Z",
     "iopub.status.idle": "2023-08-19T10:22:17.557900Z",
     "shell.execute_reply": "2023-08-19T10:22:17.557368Z"
    },
    "papermill": {
     "duration": 0.008406,
     "end_time": "2023-08-19T10:22:17.559331",
     "exception": false,
     "start_time": "2023-08-19T10:22:17.550925",
     "status": "completed"
    },
    "tags": []
   },
   "outputs": [],
   "source": [
    "data.to_csv(os.path.join(DATA_DIR, 'events.csv'), index=False)"
   ]
  }
 ],
 "metadata": {
  "kernelspec": {
   "display_name": "leeds-2023-YZF5GfJv",
   "language": "python",
   "name": "python3"
  },
  "language_info": {
   "codemirror_mode": {
    "name": "ipython",
    "version": 3
   },
   "file_extension": ".py",
   "mimetype": "text/x-python",
   "name": "python",
   "nbconvert_exporter": "python",
   "pygments_lexer": "ipython3",
   "version": "3.10.12"
  },
  "papermill": {
   "default_parameters": {},
   "duration": 1.895752,
   "end_time": "2023-08-19T10:22:17.777652",
   "environment_variables": {},
   "exception": null,
   "input_path": "transform.ipynb",
   "output_path": "../../../working/output/promote-events-transform.ipynb",
   "parameters": {},
   "start_time": "2023-08-19T10:22:15.881900",
   "version": "2.4.0"
  }
 },
 "nbformat": 4,
 "nbformat_minor": 5
}