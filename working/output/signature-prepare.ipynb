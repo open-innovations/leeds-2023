{
 "cells": [
  {
   "cell_type": "code",
   "execution_count": 1,
   "id": "7e3398c5",
   "metadata": {
    "execution": {
     "iopub.execute_input": "2023-07-29T23:40:31.789444Z",
     "iopub.status.busy": "2023-07-29T23:40:31.788742Z",
     "iopub.status.idle": "2023-07-29T23:40:43.012983Z",
     "shell.execute_reply": "2023-07-29T23:40:43.011813Z"
    },
    "papermill": {
     "duration": 11.231998,
     "end_time": "2023-07-29T23:40:43.015765",
     "exception": false,
     "start_time": "2023-07-29T23:40:31.783767",
     "status": "completed"
    },
    "tags": []
   },
   "outputs": [],
   "source": [
    "import os\n",
    "import pandas as pd\n",
    "from events import load_event_data, get_first_ward, normalise_ward"
   ]
  },
  {
   "cell_type": "code",
   "execution_count": 2,
   "id": "7eb4eadd",
   "metadata": {
    "execution": {
     "iopub.execute_input": "2023-07-29T23:40:43.023069Z",
     "iopub.status.busy": "2023-07-29T23:40:43.022424Z",
     "iopub.status.idle": "2023-07-29T23:40:43.027378Z",
     "shell.execute_reply": "2023-07-29T23:40:43.026480Z"
    },
    "papermill": {
     "duration": 0.011236,
     "end_time": "2023-07-29T23:40:43.029859",
     "exception": false,
     "start_time": "2023-07-29T23:40:43.018623",
     "status": "completed"
    },
    "tags": []
   },
   "outputs": [],
   "source": [
    "latest_date = pd.Timestamp.today().ceil('D')"
   ]
  },
  {
   "cell_type": "code",
   "execution_count": 3,
   "id": "1c49ad20",
   "metadata": {
    "execution": {
     "iopub.execute_input": "2023-07-29T23:40:43.036363Z",
     "iopub.status.busy": "2023-07-29T23:40:43.035876Z",
     "iopub.status.idle": "2023-07-29T23:40:43.056725Z",
     "shell.execute_reply": "2023-07-29T23:40:43.055686Z"
    },
    "papermill": {
     "duration": 0.026495,
     "end_time": "2023-07-29T23:40:43.059033",
     "exception": false,
     "start_time": "2023-07-29T23:40:43.032538",
     "status": "completed"
    },
    "tags": []
   },
   "outputs": [],
   "source": [
    "tickets = pd.read_csv('../../../../data/metrics/events/tickets/orders.csv', parse_dates=['created_at', 'event_date'])\n",
    "tickets = tickets[tickets.event_date <= latest_date]"
   ]
  },
  {
   "cell_type": "code",
   "execution_count": 4,
   "id": "f6a831e3",
   "metadata": {
    "execution": {
     "iopub.execute_input": "2023-07-29T23:40:43.065927Z",
     "iopub.status.busy": "2023-07-29T23:40:43.065651Z",
     "iopub.status.idle": "2023-07-29T23:40:43.254385Z",
     "shell.execute_reply": "2023-07-29T23:40:43.253240Z"
    },
    "papermill": {
     "duration": 0.195163,
     "end_time": "2023-07-29T23:40:43.257293",
     "exception": false,
     "start_time": "2023-07-29T23:40:43.062130",
     "status": "completed"
    },
    "tags": []
   },
   "outputs": [],
   "source": [
    "events = load_event_data()\n",
    "\n",
    "events = pd.concat([\n",
    "  events,\n",
    "  events.pipe(get_first_ward).pipe(normalise_ward).fillna('UNKNOWN'),\n",
    "  pd.Series(\n",
    "      events.actual_audience_size_number_of_participants_in_person + events.actual_audience_size_number_of_participants_online,\n",
    "      name='attendances'\n",
    "  )\n",
    "], axis=1).rename(columns={\n",
    "    'start_date': 'date'\n",
    "}).loc[:, ['ward_code', 'date', 'event_unique_identifier', 'attendances']]"
   ]
  },
  {
   "cell_type": "code",
   "execution_count": 5,
   "id": "2bbac593",
   "metadata": {
    "execution": {
     "iopub.execute_input": "2023-07-29T23:40:43.264282Z",
     "iopub.status.busy": "2023-07-29T23:40:43.264015Z",
     "iopub.status.idle": "2023-07-29T23:40:43.268502Z",
     "shell.execute_reply": "2023-07-29T23:40:43.267689Z"
    },
    "papermill": {
     "duration": 0.010289,
     "end_time": "2023-07-29T23:40:43.270678",
     "exception": false,
     "start_time": "2023-07-29T23:40:43.260389",
     "status": "completed"
    },
    "tags": []
   },
   "outputs": [],
   "source": [
    "OUTPUT_DIR='../../../../docs/metrics/events/signature/_data/'\n",
    "os.makedirs(OUTPUT_DIR, exist_ok=True)"
   ]
  },
  {
   "cell_type": "markdown",
   "id": "ea3ab266",
   "metadata": {
    "papermill": {
     "duration": 0.002529,
     "end_time": "2023-07-29T23:40:43.275590",
     "exception": false,
     "start_time": "2023-07-29T23:40:43.273061",
     "status": "completed"
    },
    "tags": []
   },
   "source": [
    "Events CSVs"
   ]
  },
  {
   "cell_type": "code",
   "execution_count": 6,
   "id": "e96409fd",
   "metadata": {
    "execution": {
     "iopub.execute_input": "2023-07-29T23:40:43.282330Z",
     "iopub.status.busy": "2023-07-29T23:40:43.281492Z",
     "iopub.status.idle": "2023-07-29T23:40:43.289897Z",
     "shell.execute_reply": "2023-07-29T23:40:43.289186Z"
    },
    "papermill": {
     "duration": 0.01378,
     "end_time": "2023-07-29T23:40:43.291796",
     "exception": false,
     "start_time": "2023-07-29T23:40:43.278016",
     "status": "completed"
    },
    "tags": []
   },
   "outputs": [],
   "source": [
    "pd.DataFrame({\n",
    "  'events': events.groupby('ward_code').event_unique_identifier.count(),\n",
    "  'attendances': events.groupby('ward_code').attendances.sum().astype(int),\n",
    "}).to_csv(os.path.join(OUTPUT_DIR, 'events_by_ward.csv'))\n"
   ]
  },
  {
   "cell_type": "code",
   "execution_count": 7,
   "id": "ca11b1de",
   "metadata": {
    "execution": {
     "iopub.execute_input": "2023-07-29T23:40:43.298334Z",
     "iopub.status.busy": "2023-07-29T23:40:43.297832Z",
     "iopub.status.idle": "2023-07-29T23:40:43.311023Z",
     "shell.execute_reply": "2023-07-29T23:40:43.310258Z"
    },
    "papermill": {
     "duration": 0.019229,
     "end_time": "2023-07-29T23:40:43.313303",
     "exception": false,
     "start_time": "2023-07-29T23:40:43.294074",
     "status": "completed"
    },
    "tags": []
   },
   "outputs": [],
   "source": [
    "pd.DataFrame({\n",
    "  'events': events.groupby('date').event_unique_identifier.count(),\n",
    "  'attendances': events.groupby('date').attendances.sum().astype(int),\n",
    "}).resample('M').sum().astype(int).to_csv(os.path.join(OUTPUT_DIR, 'events_by_date.csv'))"
   ]
  },
  {
   "cell_type": "markdown",
   "id": "8bbe4b2e",
   "metadata": {
    "papermill": {
     "duration": 0.003851,
     "end_time": "2023-07-29T23:40:43.320664",
     "exception": false,
     "start_time": "2023-07-29T23:40:43.316813",
     "status": "completed"
    },
    "tags": []
   },
   "source": [
    "Tickets CSV"
   ]
  },
  {
   "cell_type": "code",
   "execution_count": 8,
   "id": "db98dbf4",
   "metadata": {
    "execution": {
     "iopub.execute_input": "2023-07-29T23:40:43.326983Z",
     "iopub.status.busy": "2023-07-29T23:40:43.326733Z",
     "iopub.status.idle": "2023-07-29T23:40:43.335163Z",
     "shell.execute_reply": "2023-07-29T23:40:43.334003Z"
    },
    "papermill": {
     "duration": 0.013867,
     "end_time": "2023-07-29T23:40:43.337069",
     "exception": false,
     "start_time": "2023-07-29T23:40:43.323202",
     "status": "completed"
    },
    "tags": []
   },
   "outputs": [],
   "source": [
    "pd.DataFrame({\n",
    "  'orders': tickets.groupby('ward_code').number_of_tickets.count(),\n",
    "  'tickets': tickets.groupby('ward_code').number_of_tickets.sum().astype(int),\n",
    "}).to_csv(os.path.join(OUTPUT_DIR, 'tickets_by_ward.csv'))"
   ]
  },
  {
   "cell_type": "code",
   "execution_count": 9,
   "id": "1efe2f36",
   "metadata": {
    "execution": {
     "iopub.execute_input": "2023-07-29T23:40:43.343038Z",
     "iopub.status.busy": "2023-07-29T23:40:43.342801Z",
     "iopub.status.idle": "2023-07-29T23:40:43.351926Z",
     "shell.execute_reply": "2023-07-29T23:40:43.351157Z"
    },
    "papermill": {
     "duration": 0.014651,
     "end_time": "2023-07-29T23:40:43.354047",
     "exception": false,
     "start_time": "2023-07-29T23:40:43.339396",
     "status": "completed"
    },
    "tags": []
   },
   "outputs": [],
   "source": [
    "pd.DataFrame({\n",
    "  'orders': tickets.groupby('event_date').number_of_tickets.count(),\n",
    "  'tickets': tickets.groupby('event_date').number_of_tickets.sum().astype(int),\n",
    "}).resample('M').sum().to_csv(os.path.join(OUTPUT_DIR, 'tickets_by_event_date.csv'))"
   ]
  },
  {
   "cell_type": "code",
   "execution_count": 10,
   "id": "4bf1f939",
   "metadata": {
    "execution": {
     "iopub.execute_input": "2023-07-29T23:40:43.362322Z",
     "iopub.status.busy": "2023-07-29T23:40:43.361444Z",
     "iopub.status.idle": "2023-07-29T23:40:43.368249Z",
     "shell.execute_reply": "2023-07-29T23:40:43.367420Z"
    },
    "papermill": {
     "duration": 0.013293,
     "end_time": "2023-07-29T23:40:43.369959",
     "exception": false,
     "start_time": "2023-07-29T23:40:43.356666",
     "status": "completed"
    },
    "tags": []
   },
   "outputs": [],
   "source": [
    "pd.Series({\n",
    "    'total_events': events.event_unique_identifier.count(),\n",
    "    'total_attendances': events.attendances.count(),\n",
    "    'first_event': events.date.min(),\n",
    "    'latest_event': events.date.max(),\n",
    "    'total_ticket_orders_for_events_to_date': tickets.number_of_tickets.count(),\n",
    "    'total_tickets_sold_for_events_to_date': tickets.number_of_tickets.sum(),\n",
    "}).to_json(os.path.join(OUTPUT_DIR, 'headlines.json'), indent=2)"
   ]
  },
  {
   "cell_type": "code",
   "execution_count": null,
   "id": "85d7afce",
   "metadata": {
    "papermill": {
     "duration": 0.002581,
     "end_time": "2023-07-29T23:40:43.375241",
     "exception": false,
     "start_time": "2023-07-29T23:40:43.372660",
     "status": "completed"
    },
    "tags": []
   },
   "outputs": [],
   "source": []
  }
 ],
 "metadata": {
  "kernelspec": {
   "display_name": "leeds-2023-YZF5GfJv",
   "language": "python",
   "name": "python3"
  },
  "language_info": {
   "codemirror_mode": {
    "name": "ipython",
    "version": 3
   },
   "file_extension": ".py",
   "mimetype": "text/x-python",
   "name": "python",
   "nbconvert_exporter": "python",
   "pygments_lexer": "ipython3",
   "version": "3.10.6"
  },
  "papermill": {
   "default_parameters": {},
   "duration": 13.654536,
   "end_time": "2023-07-29T23:40:43.796709",
   "environment_variables": {},
   "exception": null,
   "input_path": "prepare.ipynb",
   "output_path": "../../../../working/output/signature-prepare.ipynb",
   "parameters": {},
   "start_time": "2023-07-29T23:40:30.142173",
   "version": "2.4.0"
  }
 },
 "nbformat": 4,
 "nbformat_minor": 5
}