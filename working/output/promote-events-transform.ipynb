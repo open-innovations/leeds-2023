{
 "cells": [
  {
   "cell_type": "code",
   "execution_count": 1,
   "id": "1dba374e",
   "metadata": {
    "execution": {
     "iopub.execute_input": "2023-08-29T00:00:17.240905Z",
     "iopub.status.busy": "2023-08-29T00:00:17.240380Z",
     "iopub.status.idle": "2023-08-29T00:00:17.470312Z",
     "shell.execute_reply": "2023-08-29T00:00:17.469696Z"
    },
    "papermill": {
     "duration": 0.234927,
     "end_time": "2023-08-29T00:00:17.472410",
     "exception": false,
     "start_time": "2023-08-29T00:00:17.237483",
     "status": "completed"
    },
    "tags": []
   },
   "outputs": [],
   "source": [
    "import os\n",
    "import pandas as pd"
   ]
  },
  {
   "cell_type": "code",
   "execution_count": 2,
   "id": "7b772665",
   "metadata": {
    "execution": {
     "iopub.execute_input": "2023-08-29T00:00:17.476678Z",
     "iopub.status.busy": "2023-08-29T00:00:17.476173Z",
     "iopub.status.idle": "2023-08-29T00:00:17.479560Z",
     "shell.execute_reply": "2023-08-29T00:00:17.478888Z"
    },
    "papermill": {
     "duration": 0.006908,
     "end_time": "2023-08-29T00:00:17.480840",
     "exception": false,
     "start_time": "2023-08-29T00:00:17.473932",
     "status": "completed"
    },
    "tags": []
   },
   "outputs": [],
   "source": [
    "EVENTS_RAW_DATA = '../../../working/metrics/promote-events/events.csv'\n",
    "DATA_DIR = '../../../data/metrics/events/promote-events/'\n",
    "EVENTS_DATA = os.path.join(DATA_DIR, 'events.csv')"
   ]
  },
  {
   "cell_type": "code",
   "execution_count": 3,
   "id": "fce8e86b",
   "metadata": {
    "execution": {
     "iopub.execute_input": "2023-08-29T00:00:17.484278Z",
     "iopub.status.busy": "2023-08-29T00:00:17.483801Z",
     "iopub.status.idle": "2023-08-29T00:00:17.486979Z",
     "shell.execute_reply": "2023-08-29T00:00:17.486381Z"
    },
    "papermill": {
     "duration": 0.006342,
     "end_time": "2023-08-29T00:00:17.488335",
     "exception": false,
     "start_time": "2023-08-29T00:00:17.481993",
     "status": "completed"
    },
    "tags": []
   },
   "outputs": [],
   "source": [
    "columns = {\n",
    "    'id': 'id',\n",
    "    'name': 'name',\n",
    "    'locationName': 'location',\n",
    "    'cardPrice': 'card_price',\n",
    "    'timeslots': 'time',\n",
    "    # 'displayOnWebsite': 'display',\n",
    "    'Stage': 'stage',\n",
    "}"
   ]
  },
  {
   "cell_type": "code",
   "execution_count": 4,
   "id": "811724f3",
   "metadata": {
    "execution": {
     "iopub.execute_input": "2023-08-29T00:00:17.491620Z",
     "iopub.status.busy": "2023-08-29T00:00:17.491306Z",
     "iopub.status.idle": "2023-08-29T00:00:17.501266Z",
     "shell.execute_reply": "2023-08-29T00:00:17.500720Z"
    },
    "papermill": {
     "duration": 0.01316,
     "end_time": "2023-08-29T00:00:17.502671",
     "exception": false,
     "start_time": "2023-08-29T00:00:17.489511",
     "status": "completed"
    },
    "tags": []
   },
   "outputs": [],
   "source": [
    "data = pd.read_csv(EVENTS_RAW_DATA)[columns.keys()].rename(columns=columns)\n",
    "data.time = pd.to_datetime(data.time, errors='coerce')"
   ]
  },
  {
   "cell_type": "code",
   "execution_count": 5,
   "id": "d927ff7a",
   "metadata": {
    "execution": {
     "iopub.execute_input": "2023-08-29T00:00:17.506260Z",
     "iopub.status.busy": "2023-08-29T00:00:17.506049Z",
     "iopub.status.idle": "2023-08-29T00:00:17.511196Z",
     "shell.execute_reply": "2023-08-29T00:00:17.510655Z"
    },
    "papermill": {
     "duration": 0.008546,
     "end_time": "2023-08-29T00:00:17.512501",
     "exception": false,
     "start_time": "2023-08-29T00:00:17.503955",
     "status": "completed"
    },
    "tags": []
   },
   "outputs": [],
   "source": [
    "data.to_csv(os.path.join(DATA_DIR, 'events.csv'), index=False)"
   ]
  }
 ],
 "metadata": {
  "kernelspec": {
   "display_name": "leeds-2023-YZF5GfJv",
   "language": "python",
   "name": "python3"
  },
  "language_info": {
   "codemirror_mode": {
    "name": "ipython",
    "version": 3
   },
   "file_extension": ".py",
   "mimetype": "text/x-python",
   "name": "python",
   "nbconvert_exporter": "python",
   "pygments_lexer": "ipython3",
   "version": "3.10.12"
  },
  "papermill": {
   "default_parameters": {},
   "duration": 1.866593,
   "end_time": "2023-08-29T00:00:17.730918",
   "environment_variables": {},
   "exception": null,
   "input_path": "transform.ipynb",
   "output_path": "../../../working/output/promote-events-transform.ipynb",
   "parameters": {},
   "start_time": "2023-08-29T00:00:15.864325",
   "version": "2.4.0"
  }
 },
 "nbformat": 4,
 "nbformat_minor": 5
}