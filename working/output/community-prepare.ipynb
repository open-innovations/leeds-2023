{
 "cells": [
  {
   "cell_type": "code",
   "execution_count": 1,
   "id": "c6bdc93a",
   "metadata": {
    "execution": {
     "iopub.execute_input": "2023-08-30T23:38:07.114081Z",
     "iopub.status.busy": "2023-08-30T23:38:07.113488Z",
     "iopub.status.idle": "2023-08-30T23:38:07.361290Z",
     "shell.execute_reply": "2023-08-30T23:38:07.360632Z"
    },
    "papermill": {
     "duration": 0.253386,
     "end_time": "2023-08-30T23:38:07.363444",
     "exception": false,
     "start_time": "2023-08-30T23:38:07.110058",
     "status": "completed"
    },
    "tags": []
   },
   "outputs": [],
   "source": [
    "import os, sys\n",
    "TOP_DIR = os.path.realpath('../../..')\n",
    "if TOP_DIR not in sys.path: sys.path.append(TOP_DIR)\n",
    "import pandas as pd"
   ]
  },
  {
   "cell_type": "code",
   "execution_count": 2,
   "id": "2cb9cdea",
   "metadata": {
    "execution": {
     "iopub.execute_input": "2023-08-30T23:38:07.368207Z",
     "iopub.status.busy": "2023-08-30T23:38:07.367760Z",
     "iopub.status.idle": "2023-08-30T23:38:07.372082Z",
     "shell.execute_reply": "2023-08-30T23:38:07.371451Z"
    },
    "papermill": {
     "duration": 0.0082,
     "end_time": "2023-08-30T23:38:07.373539",
     "exception": false,
     "start_time": "2023-08-30T23:38:07.365339",
     "status": "completed"
    },
    "tags": []
   },
   "outputs": [],
   "source": [
    "from lib.util.convert import named_cumulative_sum"
   ]
  },
  {
   "cell_type": "code",
   "execution_count": 3,
   "id": "04bc5d91",
   "metadata": {
    "execution": {
     "iopub.execute_input": "2023-08-30T23:38:07.377692Z",
     "iopub.status.busy": "2023-08-30T23:38:07.377274Z",
     "iopub.status.idle": "2023-08-30T23:38:07.387342Z",
     "shell.execute_reply": "2023-08-30T23:38:07.386771Z"
    },
    "papermill": {
     "duration": 0.01396,
     "end_time": "2023-08-30T23:38:07.389003",
     "exception": false,
     "start_time": "2023-08-30T23:38:07.375043",
     "status": "completed"
    },
    "tags": []
   },
   "outputs": [],
   "source": [
    "data = pd.read_csv('../../../data/metrics/community/events.csv', parse_dates=['start_date'])\n",
    "data.ward_code = data.ward_code.fillna('UNKNOWN')"
   ]
  },
  {
   "cell_type": "markdown",
   "id": "8a3bece3",
   "metadata": {
    "papermill": {
     "duration": 0.001504,
     "end_time": "2023-08-30T23:38:07.392041",
     "exception": false,
     "start_time": "2023-08-30T23:38:07.390537",
     "status": "completed"
    },
    "tags": []
   },
   "source": [
    "Set up output directories"
   ]
  },
  {
   "cell_type": "code",
   "execution_count": 4,
   "id": "105862e0",
   "metadata": {
    "execution": {
     "iopub.execute_input": "2023-08-30T23:38:07.396397Z",
     "iopub.status.busy": "2023-08-30T23:38:07.395792Z",
     "iopub.status.idle": "2023-08-30T23:38:07.399260Z",
     "shell.execute_reply": "2023-08-30T23:38:07.398619Z"
    },
    "papermill": {
     "duration": 0.007119,
     "end_time": "2023-08-30T23:38:07.400640",
     "exception": false,
     "start_time": "2023-08-30T23:38:07.393521",
     "status": "completed"
    },
    "tags": []
   },
   "outputs": [],
   "source": [
    "OUT_DIR = '../../../docs/metrics/community/_data'\n",
    "os.makedirs(OUT_DIR, exist_ok=True)"
   ]
  },
  {
   "cell_type": "code",
   "execution_count": 5,
   "id": "6b950785",
   "metadata": {
    "execution": {
     "iopub.execute_input": "2023-08-30T23:38:07.404771Z",
     "iopub.status.busy": "2023-08-30T23:38:07.404413Z",
     "iopub.status.idle": "2023-08-30T23:38:07.411401Z",
     "shell.execute_reply": "2023-08-30T23:38:07.410773Z"
    },
    "papermill": {
     "duration": 0.010807,
     "end_time": "2023-08-30T23:38:07.412961",
     "exception": false,
     "start_time": "2023-08-30T23:38:07.402154",
     "status": "completed"
    },
    "tags": []
   },
   "outputs": [],
   "source": [
    "pd.Series({\n",
    "  'events': data.event_name.count(),\n",
    "  'audience': data.audience.sum().astype(int),\n",
    "  'errors': {\n",
    "    'missing_wards': (data.ward_code == 'UNKNOWN').value_counts()[True],\n",
    "    'missing_audience': data.audience.isna().value_counts()[True],\n",
    "    'zero_audience':  (data.audience < 1).value_counts()[True],  \n",
    "  }\n",
    "}).to_json(os.path.join(OUT_DIR, 'headlines.json'), indent=2)"
   ]
  },
  {
   "cell_type": "code",
   "execution_count": 6,
   "id": "557110bc",
   "metadata": {
    "execution": {
     "iopub.execute_input": "2023-08-30T23:38:07.417358Z",
     "iopub.status.busy": "2023-08-30T23:38:07.416933Z",
     "iopub.status.idle": "2023-08-30T23:38:07.424429Z",
     "shell.execute_reply": "2023-08-30T23:38:07.423830Z"
    },
    "papermill": {
     "duration": 0.011267,
     "end_time": "2023-08-30T23:38:07.425837",
     "exception": false,
     "start_time": "2023-08-30T23:38:07.414570",
     "status": "completed"
    },
    "tags": []
   },
   "outputs": [],
   "source": [
    "by_ward = pd.DataFrame({\n",
    "  'events': data.groupby('ward_code').event_name.count().fillna(0).astype('int'),\n",
    "  'audience': data.groupby('ward_code').audience.sum().fillna(0).astype('int'),\n",
    "}).to_csv(os.path.join(OUT_DIR, 'by_ward.csv'))"
   ]
  },
  {
   "cell_type": "code",
   "execution_count": 7,
   "id": "b454c3aa",
   "metadata": {
    "execution": {
     "iopub.execute_input": "2023-08-30T23:38:07.432216Z",
     "iopub.status.busy": "2023-08-30T23:38:07.431789Z",
     "iopub.status.idle": "2023-08-30T23:38:07.443365Z",
     "shell.execute_reply": "2023-08-30T23:38:07.442832Z"
    },
    "papermill": {
     "duration": 0.017223,
     "end_time": "2023-08-30T23:38:07.444834",
     "exception": false,
     "start_time": "2023-08-30T23:38:07.427611",
     "status": "completed"
    },
    "tags": []
   },
   "outputs": [],
   "source": [
    "by_date = pd.DataFrame({\n",
    "    'events': data.groupby('start_date').event_name.count(),\n",
    "    'audience': data.groupby('start_date').audience.sum(),\n",
    "}).resample('M').sum()\n",
    "\n",
    "pd.concat([\n",
    "    by_date,\n",
    "    by_date.pipe(named_cumulative_sum)\n",
    "], axis=1).astype('int').to_csv(os.path.join(OUT_DIR, 'by_date.csv'))"
   ]
  }
 ],
 "metadata": {
  "kernelspec": {
   "display_name": "leeds-2023-YZF5GfJv",
   "language": "python",
   "name": "python3"
  },
  "language_info": {
   "codemirror_mode": {
    "name": "ipython",
    "version": 3
   },
   "file_extension": ".py",
   "mimetype": "text/x-python",
   "name": "python",
   "nbconvert_exporter": "python",
   "pygments_lexer": "ipython3",
   "version": "3.10.12"
  },
  "papermill": {
   "default_parameters": {},
   "duration": 1.959576,
   "end_time": "2023-08-30T23:38:07.664451",
   "environment_variables": {},
   "exception": null,
   "input_path": "prepare.ipynb",
   "output_path": "../../../working/output/community-prepare.ipynb",
   "parameters": {},
   "start_time": "2023-08-30T23:38:05.704875",
   "version": "2.4.0"
  }
 },
 "nbformat": 4,
 "nbformat_minor": 5
}