{
 "cells": [
  {
   "cell_type": "code",
   "execution_count": 1,
   "id": "c67fadd9",
   "metadata": {
    "execution": {
     "iopub.execute_input": "2023-11-15T23:38:09.501494Z",
     "iopub.status.busy": "2023-11-15T23:38:09.501222Z",
     "iopub.status.idle": "2023-11-15T23:38:09.754614Z",
     "shell.execute_reply": "2023-11-15T23:38:09.753873Z"
    },
    "papermill": {
     "duration": 0.259014,
     "end_time": "2023-11-15T23:38:09.756404",
     "exception": false,
     "start_time": "2023-11-15T23:38:09.497390",
     "status": "completed"
    },
    "tags": []
   },
   "outputs": [],
   "source": [
    "import os\n",
    "import sys\n",
    "import pandas as pd\n",
    "lib_dir = os.path.realpath('../../../lib/')\n",
    "if lib_dir not in sys.path: sys.path.append(lib_dir)"
   ]
  },
  {
   "cell_type": "code",
   "execution_count": 2,
   "id": "c0d4177d",
   "metadata": {
    "execution": {
     "iopub.execute_input": "2023-11-15T23:38:09.762347Z",
     "iopub.status.busy": "2023-11-15T23:38:09.761863Z",
     "iopub.status.idle": "2023-11-15T23:38:16.979461Z",
     "shell.execute_reply": "2023-11-15T23:38:16.978811Z"
    },
    "papermill": {
     "duration": 7.222168,
     "end_time": "2023-11-15T23:38:16.981116",
     "exception": false,
     "start_time": "2023-11-15T23:38:09.758948",
     "status": "completed"
    },
    "tags": []
   },
   "outputs": [],
   "source": [
    "import util.geo"
   ]
  },
  {
   "cell_type": "code",
   "execution_count": 3,
   "id": "9beedb17",
   "metadata": {
    "execution": {
     "iopub.execute_input": "2023-11-15T23:38:16.986915Z",
     "iopub.status.busy": "2023-11-15T23:38:16.986568Z",
     "iopub.status.idle": "2023-11-15T23:38:16.989872Z",
     "shell.execute_reply": "2023-11-15T23:38:16.989290Z"
    },
    "papermill": {
     "duration": 0.007629,
     "end_time": "2023-11-15T23:38:16.991239",
     "exception": false,
     "start_time": "2023-11-15T23:38:16.983610",
     "status": "completed"
    },
    "tags": []
   },
   "outputs": [],
   "source": [
    "EVENTS_RAW_DATA = '../../../working/metrics/partner-events/events.csv'\n",
    "DATA_DIR = '../../../data/metrics/events/partner-events/'\n",
    "EVENTS_DATA = os.path.join(DATA_DIR, 'events.csv')"
   ]
  },
  {
   "cell_type": "code",
   "execution_count": 4,
   "id": "5c10078f",
   "metadata": {
    "execution": {
     "iopub.execute_input": "2023-11-15T23:38:16.996823Z",
     "iopub.status.busy": "2023-11-15T23:38:16.996319Z",
     "iopub.status.idle": "2023-11-15T23:38:16.999764Z",
     "shell.execute_reply": "2023-11-15T23:38:16.999206Z"
    },
    "papermill": {
     "duration": 0.007666,
     "end_time": "2023-11-15T23:38:17.001085",
     "exception": false,
     "start_time": "2023-11-15T23:38:16.993419",
     "status": "completed"
    },
    "tags": []
   },
   "outputs": [],
   "source": [
    "columns = {\n",
    "    'Event Name': 'name',\n",
    "    'Event Start Date': 'start_date',\n",
    "    'Event End Date': 'end_date',\n",
    "    'Partner/Promote': 'partner_promote',\n",
    "    'Stage': 'stage',\n",
    "    'Live date': 'live_date',\n",
    "    'Venue postcode': 'postcode',\n",
    "    'Pricing Policy': 'pricing',\n",
    "    'Venue - including address': 'venue',\n",
    "    'Is this event on Leeds Inspried?': 'on_leeds_inspired',\n",
    "}"
   ]
  },
  {
   "cell_type": "markdown",
   "id": "7dc3c125",
   "metadata": {
    "papermill": {
     "duration": 0.002146,
     "end_time": "2023-11-15T23:38:17.005451",
     "exception": false,
     "start_time": "2023-11-15T23:38:17.003305",
     "status": "completed"
    },
    "tags": []
   },
   "source": [
    "Load the data and rename columns. Parse the dates to dates."
   ]
  },
  {
   "cell_type": "code",
   "execution_count": 5,
   "id": "9c3b27a8",
   "metadata": {
    "execution": {
     "iopub.execute_input": "2023-11-15T23:38:17.011129Z",
     "iopub.status.busy": "2023-11-15T23:38:17.010650Z",
     "iopub.status.idle": "2023-11-15T23:38:17.020591Z",
     "shell.execute_reply": "2023-11-15T23:38:17.019903Z"
    },
    "papermill": {
     "duration": 0.014736,
     "end_time": "2023-11-15T23:38:17.022369",
     "exception": false,
     "start_time": "2023-11-15T23:38:17.007633",
     "status": "completed"
    },
    "tags": []
   },
   "outputs": [],
   "source": [
    "data = pd.read_csv(EVENTS_RAW_DATA)[columns.keys()].rename(columns=columns)\n",
    "data.start_date = pd.to_datetime(data.start_date, errors='coerce')\n",
    "data.end_date = pd.to_datetime(data.end_date, errors='coerce')"
   ]
  },
  {
   "cell_type": "markdown",
   "id": "b3b2a22a",
   "metadata": {
    "papermill": {
     "duration": 0.002392,
     "end_time": "2023-11-15T23:38:17.027211",
     "exception": false,
     "start_time": "2023-11-15T23:38:17.024819",
     "status": "completed"
    },
    "tags": []
   },
   "source": [
    "Filter data by not LI Pull through and start date before now"
   ]
  },
  {
   "cell_type": "code",
   "execution_count": 6,
   "id": "89a35370",
   "metadata": {
    "execution": {
     "iopub.execute_input": "2023-11-15T23:38:17.034782Z",
     "iopub.status.busy": "2023-11-15T23:38:17.034031Z",
     "iopub.status.idle": "2023-11-15T23:38:17.039992Z",
     "shell.execute_reply": "2023-11-15T23:38:17.039331Z"
    },
    "papermill": {
     "duration": 0.010945,
     "end_time": "2023-11-15T23:38:17.041419",
     "exception": false,
     "start_time": "2023-11-15T23:38:17.030474",
     "status": "completed"
    },
    "tags": []
   },
   "outputs": [],
   "source": [
    "data = data[\n",
    "    # (data.live_date == 'This event is live ') &\n",
    "    ((data.stage != 'LI pull through') & data.stage.notna()) &\n",
    "    (data.start_date < pd.Timestamp.now())\n",
    "]"
   ]
  },
  {
   "cell_type": "code",
   "execution_count": 7,
   "id": "9eafadcd",
   "metadata": {
    "execution": {
     "iopub.execute_input": "2023-11-15T23:38:17.047295Z",
     "iopub.status.busy": "2023-11-15T23:38:17.046863Z",
     "iopub.status.idle": "2023-11-15T23:38:17.923660Z",
     "shell.execute_reply": "2023-11-15T23:38:17.923016Z"
    },
    "papermill": {
     "duration": 0.881444,
     "end_time": "2023-11-15T23:38:17.925309",
     "exception": false,
     "start_time": "2023-11-15T23:38:17.043865",
     "status": "completed"
    },
    "tags": []
   },
   "outputs": [],
   "source": [
    "data['ward_code'] = data.postcode.pipe(util.geo.postcode_formatter).map(util.geo.postcode_to_ward_code)\n",
    "data['ward_name'] = data.ward_code.pipe(util.geo.ward_code_to_name)"
   ]
  },
  {
   "cell_type": "markdown",
   "id": "10249080",
   "metadata": {
    "papermill": {
     "duration": 0.002294,
     "end_time": "2023-11-15T23:38:17.930174",
     "exception": false,
     "start_time": "2023-11-15T23:38:17.927880",
     "status": "completed"
    },
    "tags": []
   },
   "source": [
    "Save the file"
   ]
  },
  {
   "cell_type": "code",
   "execution_count": 8,
   "id": "b8ed37d2",
   "metadata": {
    "execution": {
     "iopub.execute_input": "2023-11-15T23:38:17.935890Z",
     "iopub.status.busy": "2023-11-15T23:38:17.935450Z",
     "iopub.status.idle": "2023-11-15T23:38:17.941533Z",
     "shell.execute_reply": "2023-11-15T23:38:17.940897Z"
    },
    "papermill": {
     "duration": 0.010637,
     "end_time": "2023-11-15T23:38:17.943010",
     "exception": false,
     "start_time": "2023-11-15T23:38:17.932373",
     "status": "completed"
    },
    "tags": []
   },
   "outputs": [],
   "source": [
    "data[\n",
    "    ['name','start_date','end_date','ward_code']\n",
    "].to_csv(EVENTS_DATA, index=False)"
   ]
  },
  {
   "cell_type": "markdown",
   "id": "d12b88d6",
   "metadata": {
    "papermill": {
     "duration": 0.002227,
     "end_time": "2023-11-15T23:38:17.947613",
     "exception": false,
     "start_time": "2023-11-15T23:38:17.945386",
     "status": "completed"
    },
    "tags": []
   },
   "source": [
    "Print out missing postcode data"
   ]
  },
  {
   "cell_type": "code",
   "execution_count": 9,
   "id": "cd92af4d",
   "metadata": {
    "execution": {
     "iopub.execute_input": "2023-11-15T23:38:17.953321Z",
     "iopub.status.busy": "2023-11-15T23:38:17.952902Z",
     "iopub.status.idle": "2023-11-15T23:38:17.964677Z",
     "shell.execute_reply": "2023-11-15T23:38:17.964052Z"
    },
    "papermill": {
     "duration": 0.016061,
     "end_time": "2023-11-15T23:38:17.965990",
     "exception": false,
     "start_time": "2023-11-15T23:38:17.949929",
     "status": "completed"
    },
    "tags": []
   },
   "outputs": [
    {
     "data": {
      "text/html": [
       "<div>\n",
       "<style scoped>\n",
       "    .dataframe tbody tr th:only-of-type {\n",
       "        vertical-align: middle;\n",
       "    }\n",
       "\n",
       "    .dataframe tbody tr th {\n",
       "        vertical-align: top;\n",
       "    }\n",
       "\n",
       "    .dataframe thead th {\n",
       "        text-align: right;\n",
       "    }\n",
       "</style>\n",
       "<table border=\"1\" class=\"dataframe\">\n",
       "  <thead>\n",
       "    <tr style=\"text-align: right;\">\n",
       "      <th></th>\n",
       "      <th>name</th>\n",
       "      <th>start_date</th>\n",
       "    </tr>\n",
       "  </thead>\n",
       "  <tbody>\n",
       "    <tr>\n",
       "      <th>1</th>\n",
       "      <td>East Street Arts, A City Less Grey 2022</td>\n",
       "      <td>2022-10-08</td>\n",
       "    </tr>\n",
       "    <tr>\n",
       "      <th>3</th>\n",
       "      <td>Phoenix Dance Theatre Virtual Gallery</td>\n",
       "      <td>2023-01-01</td>\n",
       "    </tr>\n",
       "    <tr>\n",
       "      <th>4</th>\n",
       "      <td>The Big Art Giveaway, School of Creative Arts ...</td>\n",
       "      <td>2023-01-01</td>\n",
       "    </tr>\n",
       "    <tr>\n",
       "      <th>5</th>\n",
       "      <td>Embassy of Netherlands, Meet Leeds Lab</td>\n",
       "      <td>2023-01-16</td>\n",
       "    </tr>\n",
       "    <tr>\n",
       "      <th>6</th>\n",
       "      <td>Shifting Borders: A Journey to the Centre of o...</td>\n",
       "      <td>2023-01-24</td>\n",
       "    </tr>\n",
       "    <tr>\n",
       "      <th>...</th>\n",
       "      <td>...</td>\n",
       "      <td>...</td>\n",
       "    </tr>\n",
       "    <tr>\n",
       "      <th>290</th>\n",
       "      <td>Leeds Language Week: Discover the Beauty of Po...</td>\n",
       "      <td>2023-11-15</td>\n",
       "    </tr>\n",
       "    <tr>\n",
       "      <th>291</th>\n",
       "      <td>Leeds Language Week: El Placer de Aprender (Th...</td>\n",
       "      <td>2023-11-15</td>\n",
       "    </tr>\n",
       "    <tr>\n",
       "      <th>292</th>\n",
       "      <td>Leeds Language Week: Stories Beyond Borders - ...</td>\n",
       "      <td>2023-11-15</td>\n",
       "    </tr>\n",
       "    <tr>\n",
       "      <th>293</th>\n",
       "      <td>Leeds Language Week: Teacher CPD: Designing CL...</td>\n",
       "      <td>2023-11-15</td>\n",
       "    </tr>\n",
       "    <tr>\n",
       "      <th>294</th>\n",
       "      <td>Leeds Language Week: Test de Nivel (Placement ...</td>\n",
       "      <td>2023-11-15</td>\n",
       "    </tr>\n",
       "  </tbody>\n",
       "</table>\n",
       "<p>119 rows × 2 columns</p>\n",
       "</div>"
      ],
      "text/plain": [
       "                                                  name start_date\n",
       "1              East Street Arts, A City Less Grey 2022 2022-10-08\n",
       "3                Phoenix Dance Theatre Virtual Gallery 2023-01-01\n",
       "4    The Big Art Giveaway, School of Creative Arts ... 2023-01-01\n",
       "5               Embassy of Netherlands, Meet Leeds Lab 2023-01-16\n",
       "6    Shifting Borders: A Journey to the Centre of o... 2023-01-24\n",
       "..                                                 ...        ...\n",
       "290  Leeds Language Week: Discover the Beauty of Po... 2023-11-15\n",
       "291  Leeds Language Week: El Placer de Aprender (Th... 2023-11-15\n",
       "292  Leeds Language Week: Stories Beyond Borders - ... 2023-11-15\n",
       "293  Leeds Language Week: Teacher CPD: Designing CL... 2023-11-15\n",
       "294  Leeds Language Week: Test de Nivel (Placement ... 2023-11-15\n",
       "\n",
       "[119 rows x 2 columns]"
      ]
     },
     "execution_count": 9,
     "metadata": {},
     "output_type": "execute_result"
    }
   ],
   "source": [
    "data[data.postcode.isna()][[\n",
    "    'name', 'start_date'\n",
    "]]"
   ]
  },
  {
   "cell_type": "markdown",
   "id": "280e016e",
   "metadata": {
    "papermill": {
     "duration": 0.002435,
     "end_time": "2023-11-15T23:38:17.971057",
     "exception": false,
     "start_time": "2023-11-15T23:38:17.968622",
     "status": "completed"
    },
    "tags": []
   },
   "source": [
    "Plot the pricing"
   ]
  },
  {
   "cell_type": "code",
   "execution_count": 10,
   "id": "092302ff",
   "metadata": {
    "execution": {
     "iopub.execute_input": "2023-11-15T23:38:17.977181Z",
     "iopub.status.busy": "2023-11-15T23:38:17.976759Z",
     "iopub.status.idle": "2023-11-15T23:38:18.469688Z",
     "shell.execute_reply": "2023-11-15T23:38:18.469012Z"
    },
    "papermill": {
     "duration": 0.497502,
     "end_time": "2023-11-15T23:38:18.471042",
     "exception": false,
     "start_time": "2023-11-15T23:38:17.973540",
     "status": "completed"
    },
    "tags": []
   },
   "outputs": [
    {
     "data": {
      "image/png": "[encoded data removed]",
      "text/plain": [
       "<Figure size 640x480 with 1 Axes>"
      ]
     },
     "metadata": {},
     "output_type": "display_data"
    }
   ],
   "source": [
    "# .groupby('pricing').count().plot.barh()\n",
    "pricing = data.pricing.fillna('Unspecified').str.replace('[\\[\\'\\]]', '', regex=True).to_frame().reset_index().groupby('pricing').count()\n",
    "\n",
    "pricing.columns = ['count']\n",
    "plot = pricing.plot.barh()\n"
   ]
  },
  {
   "cell_type": "code",
   "execution_count": null,
   "id": "c0068bef",
   "metadata": {
    "papermill": {
     "duration": 0.002953,
     "end_time": "2023-11-15T23:38:18.477190",
     "exception": false,
     "start_time": "2023-11-15T23:38:18.474237",
     "status": "completed"
    },
    "tags": []
   },
   "outputs": [],
   "source": []
  }
 ],
 "metadata": {
  "kernelspec": {
   "display_name": "leeds-2023-YZF5GfJv",
   "language": "python",
   "name": "python3"
  },
  "language_info": {
   "codemirror_mode": {
    "name": "ipython",
    "version": 3
   },
   "file_extension": ".py",
   "mimetype": "text/x-python",
   "name": "python",
   "nbconvert_exporter": "python",
   "pygments_lexer": "ipython3",
   "version": "3.10.13"
  },
  "papermill": {
   "default_parameters": {},
   "duration": 10.553136,
   "end_time": "2023-11-15T23:38:18.797052",
   "environment_variables": {},
   "exception": null,
   "input_path": "transform.ipynb",
   "output_path": "../../../working/output/partner-events-transform.ipynb",
   "parameters": {},
   "start_time": "2023-11-15T23:38:08.243916",
   "version": "2.4.0"
  }
 },
 "nbformat": 4,
 "nbformat_minor": 5
}