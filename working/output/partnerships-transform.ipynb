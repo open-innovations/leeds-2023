{
 "cells": [
  {
   "cell_type": "code",
   "execution_count": 1,
   "id": "ef928420",
   "metadata": {
    "execution": {
     "iopub.execute_input": "2023-12-23T01:05:07.602302Z",
     "iopub.status.busy": "2023-12-23T01:05:07.601731Z",
     "iopub.status.idle": "2023-12-23T01:05:07.754127Z",
     "shell.execute_reply": "2023-12-23T01:05:07.753675Z"
    },
    "papermill": {
     "duration": 0.159095,
     "end_time": "2023-12-23T01:05:07.755247",
     "exception": false,
     "start_time": "2023-12-23T01:05:07.596152",
     "status": "completed"
    },
    "tags": []
   },
   "outputs": [],
   "source": [
    "import sys\n",
    "from pathlib import Path\n",
    "\n",
    "import pandas as pd"
   ]
  },
  {
   "cell_type": "code",
   "execution_count": 2,
   "id": "d9a8c46f",
   "metadata": {
    "execution": {
     "iopub.execute_input": "2023-12-23T01:05:07.758111Z",
     "iopub.status.busy": "2023-12-23T01:05:07.757936Z",
     "iopub.status.idle": "2023-12-23T01:05:07.760296Z",
     "shell.execute_reply": "2023-12-23T01:05:07.759986Z"
    },
    "papermill": {
     "duration": 0.004621,
     "end_time": "2023-12-23T01:05:07.761049",
     "exception": false,
     "start_time": "2023-12-23T01:05:07.756428",
     "status": "completed"
    },
    "tags": []
   },
   "outputs": [],
   "source": [
    "TOP_DIR = Path('../../../').resolve()\n",
    "if str(TOP_DIR) not in sys.path: sys.path.append(str(TOP_DIR))"
   ]
  },
  {
   "cell_type": "code",
   "execution_count": 3,
   "id": "c4799330",
   "metadata": {
    "execution": {
     "iopub.execute_input": "2023-12-23T01:05:07.764999Z",
     "iopub.status.busy": "2023-12-23T01:05:07.764862Z",
     "iopub.status.idle": "2023-12-23T01:05:12.394608Z",
     "shell.execute_reply": "2023-12-23T01:05:12.394159Z"
    },
    "papermill": {
     "duration": 4.632173,
     "end_time": "2023-12-23T01:05:12.395701",
     "exception": false,
     "start_time": "2023-12-23T01:05:07.763528",
     "status": "completed"
    },
    "tags": []
   },
   "outputs": [],
   "source": [
    "from lib.util.geo import postcode_formatter, postcode_to_ward_code"
   ]
  },
  {
   "cell_type": "code",
   "execution_count": 4,
   "id": "db1f3e0f",
   "metadata": {
    "execution": {
     "iopub.execute_input": "2023-12-23T01:05:12.398721Z",
     "iopub.status.busy": "2023-12-23T01:05:12.398542Z",
     "iopub.status.idle": "2023-12-23T01:05:12.404344Z",
     "shell.execute_reply": "2023-12-23T01:05:12.404013Z"
    },
    "papermill": {
     "duration": 0.008179,
     "end_time": "2023-12-23T01:05:12.405104",
     "exception": false,
     "start_time": "2023-12-23T01:05:12.396925",
     "status": "completed"
    },
    "tags": []
   },
   "outputs": [],
   "source": [
    "data = pd.read_csv(\n",
    "    '../../../working/metrics/partnerships/all.csv',\n",
    "    parse_dates=['Start date', 'End date'],\n",
    "    usecols=[\n",
    "        # 'Partner Lead Contact',\n",
    "        'Partner Organisation',\n",
    "        'List of countries involved',\n",
    "        'End date',\n",
    "        # 'Baseline survey completed by partner',\n",
    "        'Start date',\n",
    "        'Partner Venue Postcode',\n",
    "        # 'Notes',\n",
    "        'Partnership Status',\n",
    "        'Project Artform',\n",
    "        # 'Project Description',\n",
    "        'Project Name',\n",
    "        # 'Offered SAIL training',\n",
    "        'Project Output',\n",
    "        # 'L23 economic contribution',\n",
    "        'International element to project?',\n",
    "        'Online/in person/both',\n",
    "        'Number of countries involved',\n",
    "        'Season',\n",
    "        # 'Partner Venue Name',\n",
    "        # 'Contract signed by partner',\n",
    "        'Duration of activity/event',\n",
    "        # 'LEEDS 2023 Assignee.id',\n",
    "        # 'LEEDS 2023 Assignee.email',\n",
    "        # 'LEEDS 2023 Assignee.name',\n",
    "        # 'Last Modified By.id',\n",
    "        # 'Last Modified By.email',\n",
    "        # 'Last Modified By.name',\n",
    "        # 'Activity log completed by partner',\n",
    "        # 'Final survey completed by partner',\n",
    "        # 'Number of unique countries',\n",
    "        'Contains heritage, young people',\n",
    "        # 'Total budget',\n",
    "        'Digital audiences',\n",
    "        'Audience numbers',\n",
    "        'number of participants',\n",
    "        'Total number of events'\n",
    "    ]\n",
    ")"
   ]
  },
  {
   "cell_type": "code",
   "execution_count": 5,
   "id": "90acb4d1",
   "metadata": {
    "execution": {
     "iopub.execute_input": "2023-12-23T01:05:12.407753Z",
     "iopub.status.busy": "2023-12-23T01:05:12.407608Z",
     "iopub.status.idle": "2023-12-23T01:05:12.411309Z",
     "shell.execute_reply": "2023-12-23T01:05:12.411033Z"
    },
    "papermill": {
     "duration": 0.005823,
     "end_time": "2023-12-23T01:05:12.412005",
     "exception": false,
     "start_time": "2023-12-23T01:05:12.406182",
     "status": "completed"
    },
    "tags": []
   },
   "outputs": [
    {
     "data": {
      "text/plain": [
       "['Partner Organisation',\n",
       " 'List of countries involved',\n",
       " 'End date',\n",
       " 'Start date',\n",
       " 'Partner Venue Postcode',\n",
       " 'Partnership Status',\n",
       " 'Project Artform',\n",
       " 'Project Name',\n",
       " 'Project Output',\n",
       " 'International element to project?',\n",
       " 'Online/in person/both',\n",
       " 'Number of countries involved',\n",
       " 'Season',\n",
       " 'Duration of activity/event',\n",
       " 'Contains heritage, young people',\n",
       " 'Digital audiences',\n",
       " 'Audience numbers',\n",
       " 'number of participants',\n",
       " 'Total number of events']"
      ]
     },
     "execution_count": 5,
     "metadata": {},
     "output_type": "execute_result"
    }
   ],
   "source": [
    "data.columns.to_list()"
   ]
  },
  {
   "cell_type": "code",
   "execution_count": 6,
   "id": "589076ef",
   "metadata": {
    "execution": {
     "iopub.execute_input": "2023-12-23T01:05:12.414761Z",
     "iopub.status.busy": "2023-12-23T01:05:12.414598Z",
     "iopub.status.idle": "2023-12-23T01:05:12.417053Z",
     "shell.execute_reply": "2023-12-23T01:05:12.416754Z"
    },
    "papermill": {
     "duration": 0.004626,
     "end_time": "2023-12-23T01:05:12.417717",
     "exception": false,
     "start_time": "2023-12-23T01:05:12.413091",
     "status": "completed"
    },
    "tags": []
   },
   "outputs": [],
   "source": [
    "data.columns = data.columns.str.strip().str.lower().str.replace(r'[^a-z0-9]+', '_', regex=True)"
   ]
  },
  {
   "cell_type": "code",
   "execution_count": 7,
   "id": "b5e1aff3",
   "metadata": {
    "execution": {
     "iopub.execute_input": "2023-12-23T01:05:12.420328Z",
     "iopub.status.busy": "2023-12-23T01:05:12.420154Z",
     "iopub.status.idle": "2023-12-23T01:05:13.040347Z",
     "shell.execute_reply": "2023-12-23T01:05:13.039887Z"
    },
    "papermill": {
     "duration": 0.622563,
     "end_time": "2023-12-23T01:05:13.041348",
     "exception": false,
     "start_time": "2023-12-23T01:05:12.418785",
     "status": "completed"
    },
    "tags": []
   },
   "outputs": [],
   "source": [
    "data['partner_venue_ward_code'] = data['partner_venue_postcode'].pipe(postcode_formatter).map(postcode_to_ward_code)"
   ]
  },
  {
   "cell_type": "code",
   "execution_count": 8,
   "id": "8455c237",
   "metadata": {
    "execution": {
     "iopub.execute_input": "2023-12-23T01:05:13.044412Z",
     "iopub.status.busy": "2023-12-23T01:05:13.044265Z",
     "iopub.status.idle": "2023-12-23T01:05:13.047683Z",
     "shell.execute_reply": "2023-12-23T01:05:13.047399Z"
    },
    "papermill": {
     "duration": 0.005832,
     "end_time": "2023-12-23T01:05:13.048471",
     "exception": false,
     "start_time": "2023-12-23T01:05:13.042639",
     "status": "completed"
    },
    "tags": []
   },
   "outputs": [],
   "source": [
    "data['list_of_countries_involved'] = (\n",
    "  data['list_of_countries_involved']\n",
    "    .str.strip()\n",
    "    .str.replace('[\\.]', '', regex=True)\n",
    "    .str.replace(r'[\\n]+|\\s*,\\s*', '|', regex=True)\n",
    "    .str.replace('The Netherlands','Netherlands')\n",
    "    .str.replace('Trinidad & Tobago','Trinidad and Tobago')\n",
    "    .str.strip('|')\n",
    "    .str.split('|')\n",
    ")\n"
   ]
  },
  {
   "cell_type": "code",
   "execution_count": 9,
   "id": "7b1a1e1e",
   "metadata": {
    "execution": {
     "iopub.execute_input": "2023-12-23T01:05:13.051321Z",
     "iopub.status.busy": "2023-12-23T01:05:13.051170Z",
     "iopub.status.idle": "2023-12-23T01:05:13.054181Z",
     "shell.execute_reply": "2023-12-23T01:05:13.053870Z"
    },
    "papermill": {
     "duration": 0.005212,
     "end_time": "2023-12-23T01:05:13.054866",
     "exception": false,
     "start_time": "2023-12-23T01:05:13.049654",
     "status": "completed"
    },
    "tags": []
   },
   "outputs": [],
   "source": [
    "data['number_of_countries_involved'] = data.loc[data.list_of_countries_involved.notna(), 'list_of_countries_involved'].map(len)\n",
    "data['number_of_countries_involved'].fillna(0, inplace=True)"
   ]
  },
  {
   "cell_type": "code",
   "execution_count": 10,
   "id": "51a10a1f",
   "metadata": {
    "execution": {
     "iopub.execute_input": "2023-12-23T01:05:13.057565Z",
     "iopub.status.busy": "2023-12-23T01:05:13.057435Z",
     "iopub.status.idle": "2023-12-23T01:05:13.059427Z",
     "shell.execute_reply": "2023-12-23T01:05:13.059129Z"
    },
    "papermill": {
     "duration": 0.004144,
     "end_time": "2023-12-23T01:05:13.060140",
     "exception": false,
     "start_time": "2023-12-23T01:05:13.055996",
     "status": "completed"
    },
    "tags": []
   },
   "outputs": [],
   "source": [
    "OUTPUT_DIR = TOP_DIR.joinpath('data/metrics/partnerships')\n",
    "OUTPUT_DIR.mkdir(parents=True, exist_ok=True)"
   ]
  },
  {
   "cell_type": "code",
   "execution_count": 11,
   "id": "e25a5c8b",
   "metadata": {
    "execution": {
     "iopub.execute_input": "2023-12-23T01:05:13.062855Z",
     "iopub.status.busy": "2023-12-23T01:05:13.062732Z",
     "iopub.status.idle": "2023-12-23T01:05:13.066027Z",
     "shell.execute_reply": "2023-12-23T01:05:13.065739Z"
    },
    "papermill": {
     "duration": 0.005424,
     "end_time": "2023-12-23T01:05:13.066715",
     "exception": false,
     "start_time": "2023-12-23T01:05:13.061291",
     "status": "completed"
    },
    "tags": []
   },
   "outputs": [],
   "source": [
    "data.to_csv(\n",
    "  OUTPUT_DIR.joinpath('partnerships.csv'),\n",
    "  index=False\n",
    ")"
   ]
  }
 ],
 "metadata": {
  "kernelspec": {
   "display_name": "leeds-2023-YZF5GfJv",
   "language": "python",
   "name": "python3"
  },
  "language_info": {
   "codemirror_mode": {
    "name": "ipython",
    "version": 3
   },
   "file_extension": ".py",
   "mimetype": "text/x-python",
   "name": "python",
   "nbconvert_exporter": "python",
   "pygments_lexer": "ipython3",
   "version": "3.10.12"
  },
  "papermill": {
   "default_parameters": {},
   "duration": 6.543385,
   "end_time": "2023-12-23T01:05:13.282429",
   "environment_variables": {},
   "exception": null,
   "input_path": "transform.ipynb",
   "output_path": "../../../working/output/partnerships-transform.ipynb",
   "parameters": {},
   "start_time": "2023-12-23T01:05:06.739044",
   "version": "2.4.0"
  }
 },
 "nbformat": 4,
 "nbformat_minor": 5
}