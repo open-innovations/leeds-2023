{
 "cells": [
  {
   "cell_type": "code",
   "execution_count": 1,
   "id": "a5782f6f",
   "metadata": {
    "execution": {
     "iopub.execute_input": "2023-08-23T23:38:52.554305Z",
     "iopub.status.busy": "2023-08-23T23:38:52.553755Z",
     "iopub.status.idle": "2023-08-23T23:38:52.794568Z",
     "shell.execute_reply": "2023-08-23T23:38:52.793902Z"
    },
    "papermill": {
     "duration": 0.247091,
     "end_time": "2023-08-23T23:38:52.796841",
     "exception": false,
     "start_time": "2023-08-23T23:38:52.549750",
     "status": "completed"
    },
    "tags": []
   },
   "outputs": [],
   "source": [
    "import os, sys\n",
    "TOP_DIR = os.path.realpath('../../..')\n",
    "if TOP_DIR not in sys.path: sys.path.append(TOP_DIR)\n",
    "import pandas as pd"
   ]
  },
  {
   "cell_type": "code",
   "execution_count": 2,
   "id": "5f8ae967",
   "metadata": {
    "execution": {
     "iopub.execute_input": "2023-08-23T23:38:52.801828Z",
     "iopub.status.busy": "2023-08-23T23:38:52.801220Z",
     "iopub.status.idle": "2023-08-23T23:38:52.805415Z",
     "shell.execute_reply": "2023-08-23T23:38:52.804827Z"
    },
    "papermill": {
     "duration": 0.008102,
     "end_time": "2023-08-23T23:38:52.806831",
     "exception": false,
     "start_time": "2023-08-23T23:38:52.798729",
     "status": "completed"
    },
    "tags": []
   },
   "outputs": [],
   "source": [
    "from lib.util.convert import named_cumulative_sum"
   ]
  },
  {
   "cell_type": "code",
   "execution_count": 3,
   "id": "05613983",
   "metadata": {
    "execution": {
     "iopub.execute_input": "2023-08-23T23:38:52.810980Z",
     "iopub.status.busy": "2023-08-23T23:38:52.810581Z",
     "iopub.status.idle": "2023-08-23T23:38:52.820560Z",
     "shell.execute_reply": "2023-08-23T23:38:52.819624Z"
    },
    "papermill": {
     "duration": 0.01371,
     "end_time": "2023-08-23T23:38:52.822016",
     "exception": false,
     "start_time": "2023-08-23T23:38:52.808306",
     "status": "completed"
    },
    "tags": []
   },
   "outputs": [],
   "source": [
    "data = pd.read_csv('../../../data/metrics/community/events.csv', parse_dates=['start_date'])\n",
    "data.ward_code = data.ward_code.fillna('UNKNOWN')"
   ]
  },
  {
   "cell_type": "markdown",
   "id": "e1cc9cd1",
   "metadata": {
    "papermill": {
     "duration": 0.001499,
     "end_time": "2023-08-23T23:38:52.824980",
     "exception": false,
     "start_time": "2023-08-23T23:38:52.823481",
     "status": "completed"
    },
    "tags": []
   },
   "source": [
    "Set up output directories"
   ]
  },
  {
   "cell_type": "code",
   "execution_count": 4,
   "id": "3541af36",
   "metadata": {
    "execution": {
     "iopub.execute_input": "2023-08-23T23:38:52.829139Z",
     "iopub.status.busy": "2023-08-23T23:38:52.828565Z",
     "iopub.status.idle": "2023-08-23T23:38:52.831744Z",
     "shell.execute_reply": "2023-08-23T23:38:52.831174Z"
    },
    "papermill": {
     "duration": 0.006741,
     "end_time": "2023-08-23T23:38:52.833189",
     "exception": false,
     "start_time": "2023-08-23T23:38:52.826448",
     "status": "completed"
    },
    "tags": []
   },
   "outputs": [],
   "source": [
    "OUT_DIR = '../../../docs/metrics/community/_data'\n",
    "os.makedirs(OUT_DIR, exist_ok=True)"
   ]
  },
  {
   "cell_type": "code",
   "execution_count": 5,
   "id": "2af0f36b",
   "metadata": {
    "execution": {
     "iopub.execute_input": "2023-08-23T23:38:52.837263Z",
     "iopub.status.busy": "2023-08-23T23:38:52.836880Z",
     "iopub.status.idle": "2023-08-23T23:38:52.843169Z",
     "shell.execute_reply": "2023-08-23T23:38:52.842552Z"
    },
    "papermill": {
     "duration": 0.009909,
     "end_time": "2023-08-23T23:38:52.844599",
     "exception": false,
     "start_time": "2023-08-23T23:38:52.834690",
     "status": "completed"
    },
    "tags": []
   },
   "outputs": [],
   "source": [
    "pd.Series({\n",
    "  'events': data.event_name.count(),\n",
    "  'audience': data.audience.sum().astype(int),\n",
    "  'errors': {\n",
    "    'missing_wards': (data.ward_code == 'UNKNOWN').value_counts()[True],\n",
    "    'missing_audience': data.audience.isna().value_counts()[True],\n",
    "    'zero_audience':  (data.audience < 1).value_counts()[True],  \n",
    "  }\n",
    "}).to_json(os.path.join(OUT_DIR, 'headlines.json'), indent=2)"
   ]
  },
  {
   "cell_type": "code",
   "execution_count": 6,
   "id": "5cd85f11",
   "metadata": {
    "execution": {
     "iopub.execute_input": "2023-08-23T23:38:52.848705Z",
     "iopub.status.busy": "2023-08-23T23:38:52.848318Z",
     "iopub.status.idle": "2023-08-23T23:38:52.854833Z",
     "shell.execute_reply": "2023-08-23T23:38:52.854305Z"
    },
    "papermill": {
     "duration": 0.010138,
     "end_time": "2023-08-23T23:38:52.856284",
     "exception": false,
     "start_time": "2023-08-23T23:38:52.846146",
     "status": "completed"
    },
    "tags": []
   },
   "outputs": [],
   "source": [
    "by_ward = pd.DataFrame({\n",
    "  'events': data.groupby('ward_code').event_name.count().fillna(0).astype('int'),\n",
    "  'audience': data.groupby('ward_code').audience.sum().fillna(0).astype('int'),\n",
    "}).to_csv(os.path.join(OUT_DIR, 'by_ward.csv'))"
   ]
  },
  {
   "cell_type": "code",
   "execution_count": 7,
   "id": "4b12d966",
   "metadata": {
    "execution": {
     "iopub.execute_input": "2023-08-23T23:38:52.860604Z",
     "iopub.status.busy": "2023-08-23T23:38:52.860223Z",
     "iopub.status.idle": "2023-08-23T23:38:52.871046Z",
     "shell.execute_reply": "2023-08-23T23:38:52.870494Z"
    },
    "papermill": {
     "duration": 0.014612,
     "end_time": "2023-08-23T23:38:52.872516",
     "exception": false,
     "start_time": "2023-08-23T23:38:52.857904",
     "status": "completed"
    },
    "tags": []
   },
   "outputs": [],
   "source": [
    "by_date = pd.DataFrame({\n",
    "    'events': data.groupby('start_date').event_name.count(),\n",
    "    'audience': data.groupby('start_date').audience.sum(),\n",
    "}).resample('M').sum()\n",
    "\n",
    "pd.concat([\n",
    "    by_date,\n",
    "    by_date.pipe(named_cumulative_sum)\n",
    "], axis=1).astype('int').to_csv(os.path.join(OUT_DIR, 'by_date.csv'))"
   ]
  }
 ],
 "metadata": {
  "kernelspec": {
   "display_name": "leeds-2023-YZF5GfJv",
   "language": "python",
   "name": "python3"
  },
  "language_info": {
   "codemirror_mode": {
    "name": "ipython",
    "version": 3
   },
   "file_extension": ".py",
   "mimetype": "text/x-python",
   "name": "python",
   "nbconvert_exporter": "python",
   "pygments_lexer": "ipython3",
   "version": "3.10.12"
  },
  "papermill": {
   "default_parameters": {},
   "duration": 1.916508,
   "end_time": "2023-08-23T23:38:53.091404",
   "environment_variables": {},
   "exception": null,
   "input_path": "prepare.ipynb",
   "output_path": "../../../working/output/community-prepare.ipynb",
   "parameters": {},
   "start_time": "2023-08-23T23:38:51.174896",
   "version": "2.4.0"
  }
 },
 "nbformat": 4,
 "nbformat_minor": 5
}