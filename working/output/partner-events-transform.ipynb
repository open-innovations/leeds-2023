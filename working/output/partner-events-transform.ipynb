{
 "cells": [
  {
   "cell_type": "code",
   "execution_count": 1,
   "id": "c9fb3ea4",
   "metadata": {
    "execution": {
     "iopub.execute_input": "2023-11-02T23:37:29.392350Z",
     "iopub.status.busy": "2023-11-02T23:37:29.391884Z",
     "iopub.status.idle": "2023-11-02T23:37:29.648955Z",
     "shell.execute_reply": "2023-11-02T23:37:29.648270Z"
    },
    "papermill": {
     "duration": 0.263563,
     "end_time": "2023-11-02T23:37:29.651124",
     "exception": false,
     "start_time": "2023-11-02T23:37:29.387561",
     "status": "completed"
    },
    "tags": []
   },
   "outputs": [],
   "source": [
    "import os\n",
    "import sys\n",
    "import pandas as pd\n",
    "lib_dir = os.path.realpath('../../../lib/')\n",
    "if lib_dir not in sys.path: sys.path.append(lib_dir)"
   ]
  },
  {
   "cell_type": "code",
   "execution_count": 2,
   "id": "3193ffb6",
   "metadata": {
    "execution": {
     "iopub.execute_input": "2023-11-02T23:37:29.658252Z",
     "iopub.status.busy": "2023-11-02T23:37:29.657698Z",
     "iopub.status.idle": "2023-11-02T23:37:39.935898Z",
     "shell.execute_reply": "2023-11-02T23:37:39.935228Z"
    },
    "papermill": {
     "duration": 10.283563,
     "end_time": "2023-11-02T23:37:39.937714",
     "exception": false,
     "start_time": "2023-11-02T23:37:29.654151",
     "status": "completed"
    },
    "tags": []
   },
   "outputs": [],
   "source": [
    "import util.geo"
   ]
  },
  {
   "cell_type": "code",
   "execution_count": 3,
   "id": "333bc837",
   "metadata": {
    "execution": {
     "iopub.execute_input": "2023-11-02T23:37:39.945116Z",
     "iopub.status.busy": "2023-11-02T23:37:39.944519Z",
     "iopub.status.idle": "2023-11-02T23:37:39.948178Z",
     "shell.execute_reply": "2023-11-02T23:37:39.947494Z"
    },
    "papermill": {
     "duration": 0.00918,
     "end_time": "2023-11-02T23:37:39.949861",
     "exception": false,
     "start_time": "2023-11-02T23:37:39.940681",
     "status": "completed"
    },
    "tags": []
   },
   "outputs": [],
   "source": [
    "EVENTS_RAW_DATA = '../../../working/metrics/partner-events/events.csv'\n",
    "DATA_DIR = '../../../data/metrics/events/partner-events/'\n",
    "EVENTS_DATA = os.path.join(DATA_DIR, 'events.csv')"
   ]
  },
  {
   "cell_type": "code",
   "execution_count": 4,
   "id": "216d748d",
   "metadata": {
    "execution": {
     "iopub.execute_input": "2023-11-02T23:37:39.956139Z",
     "iopub.status.busy": "2023-11-02T23:37:39.955924Z",
     "iopub.status.idle": "2023-11-02T23:37:39.960438Z",
     "shell.execute_reply": "2023-11-02T23:37:39.959847Z"
    },
    "papermill": {
     "duration": 0.009879,
     "end_time": "2023-11-02T23:37:39.962358",
     "exception": false,
     "start_time": "2023-11-02T23:37:39.952479",
     "status": "completed"
    },
    "tags": []
   },
   "outputs": [],
   "source": [
    "columns = {\n",
    "    'Event Name': 'name',\n",
    "    'Event Start Date': 'start_date',\n",
    "    'Event End Date': 'end_date',\n",
    "    'Partner/Promote': 'partner_promote',\n",
    "    'Stage': 'stage',\n",
    "    'Live date': 'live_date',\n",
    "    'Venue postcode': 'postcode',\n",
    "    'Pricing Policy': 'pricing',\n",
    "    'Venue - including address': 'venue',\n",
    "    'Is this event on Leeds Inspried?': 'on_leeds_inspired',\n",
    "}"
   ]
  },
  {
   "cell_type": "markdown",
   "id": "b19d746e",
   "metadata": {
    "papermill": {
     "duration": 0.002639,
     "end_time": "2023-11-02T23:37:39.967640",
     "exception": false,
     "start_time": "2023-11-02T23:37:39.965001",
     "status": "completed"
    },
    "tags": []
   },
   "source": [
    "Load the data and rename columns. Parse the dates to dates."
   ]
  },
  {
   "cell_type": "code",
   "execution_count": 5,
   "id": "592fdb6e",
   "metadata": {
    "execution": {
     "iopub.execute_input": "2023-11-02T23:37:39.973962Z",
     "iopub.status.busy": "2023-11-02T23:37:39.973658Z",
     "iopub.status.idle": "2023-11-02T23:37:39.984446Z",
     "shell.execute_reply": "2023-11-02T23:37:39.983852Z"
    },
    "papermill": {
     "duration": 0.015754,
     "end_time": "2023-11-02T23:37:39.986015",
     "exception": false,
     "start_time": "2023-11-02T23:37:39.970261",
     "status": "completed"
    },
    "tags": []
   },
   "outputs": [],
   "source": [
    "data = pd.read_csv(EVENTS_RAW_DATA)[columns.keys()].rename(columns=columns)\n",
    "data.start_date = pd.to_datetime(data.start_date, errors='coerce')\n",
    "data.end_date = pd.to_datetime(data.end_date, errors='coerce')"
   ]
  },
  {
   "cell_type": "markdown",
   "id": "48e2e815",
   "metadata": {
    "papermill": {
     "duration": 0.002566,
     "end_time": "2023-11-02T23:37:39.991239",
     "exception": false,
     "start_time": "2023-11-02T23:37:39.988673",
     "status": "completed"
    },
    "tags": []
   },
   "source": [
    "Filter data by not LI Pull through and start date before now"
   ]
  },
  {
   "cell_type": "code",
   "execution_count": 6,
   "id": "7348df17",
   "metadata": {
    "execution": {
     "iopub.execute_input": "2023-11-02T23:37:39.998636Z",
     "iopub.status.busy": "2023-11-02T23:37:39.998088Z",
     "iopub.status.idle": "2023-11-02T23:37:40.003012Z",
     "shell.execute_reply": "2023-11-02T23:37:40.002373Z"
    },
    "papermill": {
     "duration": 0.009703,
     "end_time": "2023-11-02T23:37:40.004426",
     "exception": false,
     "start_time": "2023-11-02T23:37:39.994723",
     "status": "completed"
    },
    "tags": []
   },
   "outputs": [],
   "source": [
    "data = data[\n",
    "    # (data.live_date == 'This event is live ') &\n",
    "    ((data.stage != 'LI pull through') & data.stage.notna()) &\n",
    "    (data.start_date < pd.Timestamp.now())\n",
    "]"
   ]
  },
  {
   "cell_type": "code",
   "execution_count": 7,
   "id": "e44269ca",
   "metadata": {
    "execution": {
     "iopub.execute_input": "2023-11-02T23:37:40.010900Z",
     "iopub.status.busy": "2023-11-02T23:37:40.010485Z",
     "iopub.status.idle": "2023-11-02T23:37:40.977386Z",
     "shell.execute_reply": "2023-11-02T23:37:40.976728Z"
    },
    "papermill": {
     "duration": 0.972251,
     "end_time": "2023-11-02T23:37:40.979334",
     "exception": false,
     "start_time": "2023-11-02T23:37:40.007083",
     "status": "completed"
    },
    "tags": []
   },
   "outputs": [],
   "source": [
    "data['ward_code'] = data.postcode.pipe(util.geo.postcode_formatter).map(util.geo.postcode_to_ward_code)\n",
    "data['ward_name'] = data.ward_code.pipe(util.geo.ward_code_to_name)"
   ]
  },
  {
   "cell_type": "markdown",
   "id": "2f053e7e",
   "metadata": {
    "papermill": {
     "duration": 0.003172,
     "end_time": "2023-11-02T23:37:40.985570",
     "exception": false,
     "start_time": "2023-11-02T23:37:40.982398",
     "status": "completed"
    },
    "tags": []
   },
   "source": [
    "Save the file"
   ]
  },
  {
   "cell_type": "code",
   "execution_count": 8,
   "id": "9e60e520",
   "metadata": {
    "execution": {
     "iopub.execute_input": "2023-11-02T23:37:40.992410Z",
     "iopub.status.busy": "2023-11-02T23:37:40.991903Z",
     "iopub.status.idle": "2023-11-02T23:37:40.999528Z",
     "shell.execute_reply": "2023-11-02T23:37:40.998927Z"
    },
    "papermill": {
     "duration": 0.012639,
     "end_time": "2023-11-02T23:37:41.000964",
     "exception": false,
     "start_time": "2023-11-02T23:37:40.988325",
     "status": "completed"
    },
    "tags": []
   },
   "outputs": [],
   "source": [
    "data[\n",
    "    ['name','start_date','end_date','ward_code']\n",
    "].to_csv(EVENTS_DATA, index=False)"
   ]
  },
  {
   "cell_type": "markdown",
   "id": "d4a7bc30",
   "metadata": {
    "papermill": {
     "duration": 0.002708,
     "end_time": "2023-11-02T23:37:41.006423",
     "exception": false,
     "start_time": "2023-11-02T23:37:41.003715",
     "status": "completed"
    },
    "tags": []
   },
   "source": [
    "Print out missing postcode data"
   ]
  },
  {
   "cell_type": "code",
   "execution_count": 9,
   "id": "ffb446db",
   "metadata": {
    "execution": {
     "iopub.execute_input": "2023-11-02T23:37:41.013189Z",
     "iopub.status.busy": "2023-11-02T23:37:41.012700Z",
     "iopub.status.idle": "2023-11-02T23:37:41.027328Z",
     "shell.execute_reply": "2023-11-02T23:37:41.026723Z"
    },
    "papermill": {
     "duration": 0.019555,
     "end_time": "2023-11-02T23:37:41.028807",
     "exception": false,
     "start_time": "2023-11-02T23:37:41.009252",
     "status": "completed"
    },
    "tags": []
   },
   "outputs": [
    {
     "data": {
      "text/html": [
       "<div>\n",
       "<style scoped>\n",
       "    .dataframe tbody tr th:only-of-type {\n",
       "        vertical-align: middle;\n",
       "    }\n",
       "\n",
       "    .dataframe tbody tr th {\n",
       "        vertical-align: top;\n",
       "    }\n",
       "\n",
       "    .dataframe thead th {\n",
       "        text-align: right;\n",
       "    }\n",
       "</style>\n",
       "<table border=\"1\" class=\"dataframe\">\n",
       "  <thead>\n",
       "    <tr style=\"text-align: right;\">\n",
       "      <th></th>\n",
       "      <th>name</th>\n",
       "      <th>start_date</th>\n",
       "    </tr>\n",
       "  </thead>\n",
       "  <tbody>\n",
       "    <tr>\n",
       "      <th>1</th>\n",
       "      <td>East Street Arts, A City Less Grey 2022</td>\n",
       "      <td>2022-10-08</td>\n",
       "    </tr>\n",
       "    <tr>\n",
       "      <th>3</th>\n",
       "      <td>Phoenix Dance Theatre Virtual Gallery</td>\n",
       "      <td>2023-01-01</td>\n",
       "    </tr>\n",
       "    <tr>\n",
       "      <th>4</th>\n",
       "      <td>The Big Art Giveaway, School of Creative Arts ...</td>\n",
       "      <td>2023-01-01</td>\n",
       "    </tr>\n",
       "    <tr>\n",
       "      <th>5</th>\n",
       "      <td>Embassy of Netherlands, Meet Leeds Lab</td>\n",
       "      <td>2023-01-16</td>\n",
       "    </tr>\n",
       "    <tr>\n",
       "      <th>6</th>\n",
       "      <td>Shifting Borders: A Journey to the Centre of o...</td>\n",
       "      <td>2023-01-24</td>\n",
       "    </tr>\n",
       "    <tr>\n",
       "      <th>...</th>\n",
       "      <td>...</td>\n",
       "      <td>...</td>\n",
       "    </tr>\n",
       "    <tr>\n",
       "      <th>262</th>\n",
       "      <td>Family Workshop: L23 Artspace Artist Residency...</td>\n",
       "      <td>2023-10-31</td>\n",
       "    </tr>\n",
       "    <tr>\n",
       "      <th>263</th>\n",
       "      <td>Halloween Mask Making and papercraft</td>\n",
       "      <td>2023-10-31</td>\n",
       "    </tr>\n",
       "    <tr>\n",
       "      <th>265</th>\n",
       "      <td>The Addams Family Musical</td>\n",
       "      <td>2023-10-31</td>\n",
       "    </tr>\n",
       "    <tr>\n",
       "      <th>266</th>\n",
       "      <td>Day of the Dead: Meet The Artists</td>\n",
       "      <td>2023-11-02</td>\n",
       "    </tr>\n",
       "    <tr>\n",
       "      <th>267</th>\n",
       "      <td>LCAN Takeover</td>\n",
       "      <td>2023-11-02</td>\n",
       "    </tr>\n",
       "  </tbody>\n",
       "</table>\n",
       "<p>97 rows × 2 columns</p>\n",
       "</div>"
      ],
      "text/plain": [
       "                                                  name start_date\n",
       "1              East Street Arts, A City Less Grey 2022 2022-10-08\n",
       "3                Phoenix Dance Theatre Virtual Gallery 2023-01-01\n",
       "4    The Big Art Giveaway, School of Creative Arts ... 2023-01-01\n",
       "5               Embassy of Netherlands, Meet Leeds Lab 2023-01-16\n",
       "6    Shifting Borders: A Journey to the Centre of o... 2023-01-24\n",
       "..                                                 ...        ...\n",
       "262  Family Workshop: L23 Artspace Artist Residency... 2023-10-31\n",
       "263               Halloween Mask Making and papercraft 2023-10-31\n",
       "265                          The Addams Family Musical 2023-10-31\n",
       "266                 Day of the Dead: Meet The Artists  2023-11-02\n",
       "267                                      LCAN Takeover 2023-11-02\n",
       "\n",
       "[97 rows x 2 columns]"
      ]
     },
     "execution_count": 9,
     "metadata": {},
     "output_type": "execute_result"
    }
   ],
   "source": [
    "data[data.postcode.isna()][[\n",
    "    'name', 'start_date'\n",
    "]]"
   ]
  },
  {
   "cell_type": "markdown",
   "id": "9dc59317",
   "metadata": {
    "papermill": {
     "duration": 0.003028,
     "end_time": "2023-11-02T23:37:41.034918",
     "exception": false,
     "start_time": "2023-11-02T23:37:41.031890",
     "status": "completed"
    },
    "tags": []
   },
   "source": [
    "Plot the pricing"
   ]
  },
  {
   "cell_type": "code",
   "execution_count": 10,
   "id": "90352ea3",
   "metadata": {
    "execution": {
     "iopub.execute_input": "2023-11-02T23:37:41.042420Z",
     "iopub.status.busy": "2023-11-02T23:37:41.041839Z",
     "iopub.status.idle": "2023-11-02T23:37:41.580780Z",
     "shell.execute_reply": "2023-11-02T23:37:41.580043Z"
    },
    "papermill": {
     "duration": 0.544367,
     "end_time": "2023-11-02T23:37:41.582402",
     "exception": false,
     "start_time": "2023-11-02T23:37:41.038035",
     "status": "completed"
    },
    "tags": []
   },
   "outputs": [
    {
     "data": {
      "image/png": "[encoded data removed]",
      "text/plain": [
       "<Figure size 640x480 with 1 Axes>"
      ]
     },
     "metadata": {},
     "output_type": "display_data"
    }
   ],
   "source": [
    "# .groupby('pricing').count().plot.barh()\n",
    "pricing = data.pricing.fillna('Unspecified').str.replace('[\\[\\'\\]]', '', regex=True).to_frame().reset_index().groupby('pricing').count()\n",
    "\n",
    "pricing.columns = ['count']\n",
    "plot = pricing.plot.barh()\n"
   ]
  },
  {
   "cell_type": "code",
   "execution_count": null,
   "id": "c47d6f2b",
   "metadata": {
    "papermill": {
     "duration": 0.003674,
     "end_time": "2023-11-02T23:37:41.589949",
     "exception": false,
     "start_time": "2023-11-02T23:37:41.586275",
     "status": "completed"
    },
    "tags": []
   },
   "outputs": [],
   "source": []
  }
 ],
 "metadata": {
  "kernelspec": {
   "display_name": "leeds-2023-YZF5GfJv",
   "language": "python",
   "name": "python3"
  },
  "language_info": {
   "codemirror_mode": {
    "name": "ipython",
    "version": 3
   },
   "file_extension": ".py",
   "mimetype": "text/x-python",
   "name": "python",
   "nbconvert_exporter": "python",
   "pygments_lexer": "ipython3",
   "version": "3.10.13"
  },
  "papermill": {
   "default_parameters": {},
   "duration": 13.878513,
   "end_time": "2023-11-02T23:37:41.911746",
   "environment_variables": {},
   "exception": null,
   "input_path": "transform.ipynb",
   "output_path": "../../../working/output/partner-events-transform.ipynb",
   "parameters": {},
   "start_time": "2023-11-02T23:37:28.033233",
   "version": "2.4.0"
  }
 },
 "nbformat": 4,
 "nbformat_minor": 5
}