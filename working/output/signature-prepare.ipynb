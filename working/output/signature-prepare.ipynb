{
 "cells": [
  {
   "cell_type": "code",
   "execution_count": 1,
   "id": "977f6e24",
   "metadata": {
    "execution": {
     "iopub.execute_input": "2023-10-08T23:39:23.861548Z",
     "iopub.status.busy": "2023-10-08T23:39:23.860877Z",
     "iopub.status.idle": "2023-10-08T23:39:35.862020Z",
     "shell.execute_reply": "2023-10-08T23:39:35.860844Z"
    },
    "papermill": {
     "duration": 12.010755,
     "end_time": "2023-10-08T23:39:35.864699",
     "exception": false,
     "start_time": "2023-10-08T23:39:23.853944",
     "status": "completed"
    },
    "tags": []
   },
   "outputs": [],
   "source": [
    "import os\n",
    "import pandas as pd\n",
    "from events import load_event_data, get_first_ward, normalise_ward"
   ]
  },
  {
   "cell_type": "code",
   "execution_count": 2,
   "id": "300ce688",
   "metadata": {
    "execution": {
     "iopub.execute_input": "2023-10-08T23:39:35.873825Z",
     "iopub.status.busy": "2023-10-08T23:39:35.873079Z",
     "iopub.status.idle": "2023-10-08T23:39:35.878876Z",
     "shell.execute_reply": "2023-10-08T23:39:35.878200Z"
    },
    "papermill": {
     "duration": 0.011836,
     "end_time": "2023-10-08T23:39:35.880626",
     "exception": false,
     "start_time": "2023-10-08T23:39:35.868790",
     "status": "completed"
    },
    "tags": []
   },
   "outputs": [],
   "source": [
    "latest_date = pd.Timestamp.today().ceil('D')"
   ]
  },
  {
   "cell_type": "code",
   "execution_count": 3,
   "id": "b4cab1db",
   "metadata": {
    "execution": {
     "iopub.execute_input": "2023-10-08T23:39:35.887523Z",
     "iopub.status.busy": "2023-10-08T23:39:35.886985Z",
     "iopub.status.idle": "2023-10-08T23:39:35.907592Z",
     "shell.execute_reply": "2023-10-08T23:39:35.906789Z"
    },
    "papermill": {
     "duration": 0.026419,
     "end_time": "2023-10-08T23:39:35.909707",
     "exception": false,
     "start_time": "2023-10-08T23:39:35.883288",
     "status": "completed"
    },
    "tags": []
   },
   "outputs": [],
   "source": [
    "tickets = pd.read_csv('../../../../data/metrics/events/tickets/orders.csv', parse_dates=['created_at', 'event_date'])\n",
    "tickets = tickets[tickets.event_date <= latest_date]"
   ]
  },
  {
   "cell_type": "code",
   "execution_count": 4,
   "id": "c40974ae",
   "metadata": {
    "execution": {
     "iopub.execute_input": "2023-10-08T23:39:35.916468Z",
     "iopub.status.busy": "2023-10-08T23:39:35.915794Z",
     "iopub.status.idle": "2023-10-08T23:39:36.192315Z",
     "shell.execute_reply": "2023-10-08T23:39:36.190600Z"
    },
    "papermill": {
     "duration": 0.282292,
     "end_time": "2023-10-08T23:39:36.194807",
     "exception": false,
     "start_time": "2023-10-08T23:39:35.912515",
     "status": "completed"
    },
    "tags": []
   },
   "outputs": [],
   "source": [
    "events = load_event_data()\n",
    "\n",
    "events = pd.concat([\n",
    "  events,\n",
    "  events.pipe(get_first_ward).pipe(normalise_ward).fillna('UNKNOWN'),\n",
    "  pd.Series(\n",
    "      events.actual_audience_size_number_of_participants_in_person + events.actual_audience_size_number_of_participants_online,\n",
    "      name='attendances'\n",
    "  )\n",
    "], axis=1).rename(columns={\n",
    "    'start_date': 'date'\n",
    "}).loc[:, ['ward_code', 'date', 'event_unique_identifier', 'attendances']]"
   ]
  },
  {
   "cell_type": "code",
   "execution_count": 5,
   "id": "f7943b72",
   "metadata": {
    "execution": {
     "iopub.execute_input": "2023-10-08T23:39:36.202496Z",
     "iopub.status.busy": "2023-10-08T23:39:36.202028Z",
     "iopub.status.idle": "2023-10-08T23:39:36.206205Z",
     "shell.execute_reply": "2023-10-08T23:39:36.205417Z"
    },
    "papermill": {
     "duration": 0.01031,
     "end_time": "2023-10-08T23:39:36.208393",
     "exception": false,
     "start_time": "2023-10-08T23:39:36.198083",
     "status": "completed"
    },
    "tags": []
   },
   "outputs": [],
   "source": [
    "OUTPUT_DIR='../../../../docs/metrics/events/signature/_data/'\n",
    "os.makedirs(OUTPUT_DIR, exist_ok=True)"
   ]
  },
  {
   "cell_type": "markdown",
   "id": "97d32ec2",
   "metadata": {
    "papermill": {
     "duration": 0.00286,
     "end_time": "2023-10-08T23:39:36.214155",
     "exception": false,
     "start_time": "2023-10-08T23:39:36.211295",
     "status": "completed"
    },
    "tags": []
   },
   "source": [
    "Events CSVs"
   ]
  },
  {
   "cell_type": "code",
   "execution_count": 6,
   "id": "a61ba8ca",
   "metadata": {
    "execution": {
     "iopub.execute_input": "2023-10-08T23:39:36.221686Z",
     "iopub.status.busy": "2023-10-08T23:39:36.220967Z",
     "iopub.status.idle": "2023-10-08T23:39:36.231180Z",
     "shell.execute_reply": "2023-10-08T23:39:36.230477Z"
    },
    "papermill": {
     "duration": 0.016143,
     "end_time": "2023-10-08T23:39:36.233122",
     "exception": false,
     "start_time": "2023-10-08T23:39:36.216979",
     "status": "completed"
    },
    "tags": []
   },
   "outputs": [],
   "source": [
    "pd.DataFrame({\n",
    "  'events': events.groupby('ward_code').event_unique_identifier.count(),\n",
    "  'attendances': events.groupby('ward_code').attendances.sum().astype(int),\n",
    "}).to_csv(os.path.join(OUTPUT_DIR, 'events_by_ward.csv'))\n"
   ]
  },
  {
   "cell_type": "code",
   "execution_count": 7,
   "id": "0f402f89",
   "metadata": {
    "execution": {
     "iopub.execute_input": "2023-10-08T23:39:36.240524Z",
     "iopub.status.busy": "2023-10-08T23:39:36.239725Z",
     "iopub.status.idle": "2023-10-08T23:39:36.253121Z",
     "shell.execute_reply": "2023-10-08T23:39:36.252335Z"
    },
    "papermill": {
     "duration": 0.01937,
     "end_time": "2023-10-08T23:39:36.255151",
     "exception": false,
     "start_time": "2023-10-08T23:39:36.235781",
     "status": "completed"
    },
    "tags": []
   },
   "outputs": [],
   "source": [
    "pd.DataFrame({\n",
    "  'events': events.groupby('date').event_unique_identifier.count(),\n",
    "  'attendances': events.groupby('date').attendances.sum().astype(int),\n",
    "}).resample('M').sum().astype(int).to_csv(os.path.join(OUTPUT_DIR, 'events_by_date.csv'))"
   ]
  },
  {
   "cell_type": "markdown",
   "id": "b99864d3",
   "metadata": {
    "papermill": {
     "duration": 0.002836,
     "end_time": "2023-10-08T23:39:36.260981",
     "exception": false,
     "start_time": "2023-10-08T23:39:36.258145",
     "status": "completed"
    },
    "tags": []
   },
   "source": [
    "Tickets CSV"
   ]
  },
  {
   "cell_type": "code",
   "execution_count": 8,
   "id": "dbe64400",
   "metadata": {
    "execution": {
     "iopub.execute_input": "2023-10-08T23:39:36.268127Z",
     "iopub.status.busy": "2023-10-08T23:39:36.267585Z",
     "iopub.status.idle": "2023-10-08T23:39:36.276201Z",
     "shell.execute_reply": "2023-10-08T23:39:36.275443Z"
    },
    "papermill": {
     "duration": 0.0144,
     "end_time": "2023-10-08T23:39:36.278172",
     "exception": false,
     "start_time": "2023-10-08T23:39:36.263772",
     "status": "completed"
    },
    "tags": []
   },
   "outputs": [],
   "source": [
    "pd.DataFrame({\n",
    "  'orders': tickets.groupby('ward_code').number_of_tickets.count(),\n",
    "  'tickets': tickets.groupby('ward_code').number_of_tickets.sum().astype(int),\n",
    "}).to_csv(os.path.join(OUTPUT_DIR, 'tickets_by_ward.csv'))"
   ]
  },
  {
   "cell_type": "code",
   "execution_count": 9,
   "id": "99272dc7",
   "metadata": {
    "execution": {
     "iopub.execute_input": "2023-10-08T23:39:36.285118Z",
     "iopub.status.busy": "2023-10-08T23:39:36.284491Z",
     "iopub.status.idle": "2023-10-08T23:39:36.294428Z",
     "shell.execute_reply": "2023-10-08T23:39:36.293622Z"
    },
    "papermill": {
     "duration": 0.015494,
     "end_time": "2023-10-08T23:39:36.296289",
     "exception": false,
     "start_time": "2023-10-08T23:39:36.280795",
     "status": "completed"
    },
    "tags": []
   },
   "outputs": [],
   "source": [
    "pd.DataFrame({\n",
    "  'orders': tickets.groupby('event_date').number_of_tickets.count(),\n",
    "  'tickets': tickets.groupby('event_date').number_of_tickets.sum().astype(int),\n",
    "}).resample('M').sum().to_csv(os.path.join(OUTPUT_DIR, 'tickets_by_event_date.csv'))"
   ]
  },
  {
   "cell_type": "code",
   "execution_count": 10,
   "id": "8a6ef857",
   "metadata": {
    "execution": {
     "iopub.execute_input": "2023-10-08T23:39:36.305212Z",
     "iopub.status.busy": "2023-10-08T23:39:36.304948Z",
     "iopub.status.idle": "2023-10-08T23:39:36.310591Z",
     "shell.execute_reply": "2023-10-08T23:39:36.310030Z"
    },
    "papermill": {
     "duration": 0.012404,
     "end_time": "2023-10-08T23:39:36.312136",
     "exception": false,
     "start_time": "2023-10-08T23:39:36.299732",
     "status": "completed"
    },
    "tags": []
   },
   "outputs": [],
   "source": [
    "pd.Series({\n",
    "    'total_events': events.event_unique_identifier.count(),\n",
    "    'total_attendances': events.attendances.count(),\n",
    "    'first_event': events.date.min(),\n",
    "    'latest_event': events.date.max(),\n",
    "    'total_ticket_orders_for_events_to_date': tickets.number_of_tickets.count(),\n",
    "    'total_tickets_sold_for_events_to_date': tickets.number_of_tickets.sum(),\n",
    "}).to_json(os.path.join(OUTPUT_DIR, 'headlines.json'), indent=2)"
   ]
  },
  {
   "cell_type": "code",
   "execution_count": null,
   "id": "eab0f51c",
   "metadata": {
    "papermill": {
     "duration": 0.002857,
     "end_time": "2023-10-08T23:39:36.317829",
     "exception": false,
     "start_time": "2023-10-08T23:39:36.314972",
     "status": "completed"
    },
    "tags": []
   },
   "outputs": [],
   "source": []
  }
 ],
 "metadata": {
  "kernelspec": {
   "display_name": "leeds-2023-YZF5GfJv",
   "language": "python",
   "name": "python3"
  },
  "language_info": {
   "codemirror_mode": {
    "name": "ipython",
    "version": 3
   },
   "file_extension": ".py",
   "mimetype": "text/x-python",
   "name": "python",
   "nbconvert_exporter": "python",
   "pygments_lexer": "ipython3",
   "version": "3.10.13"
  },
  "papermill": {
   "default_parameters": {},
   "duration": 14.458956,
   "end_time": "2023-10-08T23:39:36.740360",
   "environment_variables": {},
   "exception": null,
   "input_path": "prepare.ipynb",
   "output_path": "../../../../working/output/signature-prepare.ipynb",
   "parameters": {},
   "start_time": "2023-10-08T23:39:22.281404",
   "version": "2.4.0"
  }
 },
 "nbformat": 4,
 "nbformat_minor": 5
}