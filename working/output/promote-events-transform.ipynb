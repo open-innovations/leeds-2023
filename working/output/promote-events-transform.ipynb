{
 "cells": [
  {
   "cell_type": "code",
   "execution_count": 1,
   "id": "b41f9861",
   "metadata": {
    "execution": {
     "iopub.execute_input": "2023-08-12T23:37:54.057951Z",
     "iopub.status.busy": "2023-08-12T23:37:54.057231Z",
     "iopub.status.idle": "2023-08-12T23:37:54.308560Z",
     "shell.execute_reply": "2023-08-12T23:37:54.307860Z"
    },
    "papermill": {
     "duration": 0.257338,
     "end_time": "2023-08-12T23:37:54.310950",
     "exception": false,
     "start_time": "2023-08-12T23:37:54.053612",
     "status": "completed"
    },
    "tags": []
   },
   "outputs": [],
   "source": [
    "import os\n",
    "import pandas as pd"
   ]
  },
  {
   "cell_type": "code",
   "execution_count": 2,
   "id": "8093b866",
   "metadata": {
    "execution": {
     "iopub.execute_input": "2023-08-12T23:37:54.315501Z",
     "iopub.status.busy": "2023-08-12T23:37:54.315033Z",
     "iopub.status.idle": "2023-08-12T23:37:54.318673Z",
     "shell.execute_reply": "2023-08-12T23:37:54.317997Z"
    },
    "papermill": {
     "duration": 0.007684,
     "end_time": "2023-08-12T23:37:54.320248",
     "exception": false,
     "start_time": "2023-08-12T23:37:54.312564",
     "status": "completed"
    },
    "tags": []
   },
   "outputs": [],
   "source": [
    "EVENTS_RAW_DATA = '../../../working/metrics/promote-events/events.csv'\n",
    "DATA_DIR = '../../../data/metrics/events/promote-events/'\n",
    "EVENTS_DATA = os.path.join(DATA_DIR, 'events.csv')"
   ]
  },
  {
   "cell_type": "code",
   "execution_count": 3,
   "id": "00f8f2e0",
   "metadata": {
    "execution": {
     "iopub.execute_input": "2023-08-12T23:37:54.323834Z",
     "iopub.status.busy": "2023-08-12T23:37:54.323416Z",
     "iopub.status.idle": "2023-08-12T23:37:54.326787Z",
     "shell.execute_reply": "2023-08-12T23:37:54.326128Z"
    },
    "papermill": {
     "duration": 0.006894,
     "end_time": "2023-08-12T23:37:54.328333",
     "exception": false,
     "start_time": "2023-08-12T23:37:54.321439",
     "status": "completed"
    },
    "tags": []
   },
   "outputs": [],
   "source": [
    "columns = {\n",
    "    'id': 'id',\n",
    "    'name': 'name',\n",
    "    'locationName': 'location',\n",
    "    'cardPrice': 'card_price',\n",
    "    'timeslots': 'time',\n",
    "    'displayOnWebsite': 'display',\n",
    "    'Stage': 'stage',\n",
    "}"
   ]
  },
  {
   "cell_type": "code",
   "execution_count": 4,
   "id": "74e333b2",
   "metadata": {
    "execution": {
     "iopub.execute_input": "2023-08-12T23:37:54.332062Z",
     "iopub.status.busy": "2023-08-12T23:37:54.331617Z",
     "iopub.status.idle": "2023-08-12T23:37:54.345366Z",
     "shell.execute_reply": "2023-08-12T23:37:54.344789Z"
    },
    "papermill": {
     "duration": 0.017327,
     "end_time": "2023-08-12T23:37:54.346862",
     "exception": false,
     "start_time": "2023-08-12T23:37:54.329535",
     "status": "completed"
    },
    "tags": []
   },
   "outputs": [],
   "source": [
    "data = pd.read_csv(EVENTS_RAW_DATA)[columns.keys()].rename(columns=columns)\n",
    "data.time = pd.to_datetime(data.time, errors='coerce')"
   ]
  },
  {
   "cell_type": "code",
   "execution_count": 5,
   "id": "a09ec27d",
   "metadata": {
    "execution": {
     "iopub.execute_input": "2023-08-12T23:37:54.350876Z",
     "iopub.status.busy": "2023-08-12T23:37:54.350199Z",
     "iopub.status.idle": "2023-08-12T23:37:54.359203Z",
     "shell.execute_reply": "2023-08-12T23:37:54.358650Z"
    },
    "papermill": {
     "duration": 0.012573,
     "end_time": "2023-08-12T23:37:54.360694",
     "exception": false,
     "start_time": "2023-08-12T23:37:54.348121",
     "status": "completed"
    },
    "tags": []
   },
   "outputs": [],
   "source": [
    "data.to_csv(os.path.join(DATA_DIR, 'events.csv'), index=False)"
   ]
  }
 ],
 "metadata": {
  "kernelspec": {
   "display_name": "leeds-2023-YZF5GfJv",
   "language": "python",
   "name": "python3"
  },
  "language_info": {
   "codemirror_mode": {
    "name": "ipython",
    "version": 3
   },
   "file_extension": ".py",
   "mimetype": "text/x-python",
   "name": "python",
   "nbconvert_exporter": "python",
   "pygments_lexer": "ipython3",
   "version": "3.10.12"
  },
  "papermill": {
   "default_parameters": {},
   "duration": 1.923686,
   "end_time": "2023-08-12T23:37:54.579426",
   "environment_variables": {},
   "exception": null,
   "input_path": "transform.ipynb",
   "output_path": "../../../working/output/promote-events-transform.ipynb",
   "parameters": {},
   "start_time": "2023-08-12T23:37:52.655740",
   "version": "2.4.0"
  }
 },
 "nbformat": 4,
 "nbformat_minor": 5
}