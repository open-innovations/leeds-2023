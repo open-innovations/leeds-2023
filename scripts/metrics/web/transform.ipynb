{
 "cells": [
  {
   "attachments": {},
   "cell_type": "markdown",
   "metadata": {},
   "source": [
    "# Pipeline to explore the web analytics data"
   ]
  },
  {
   "cell_type": "code",
   "execution_count": 1,
   "metadata": {},
   "outputs": [],
   "source": [
    "import os\n",
    "import re\n",
    "from io import StringIO\n",
    "\n",
    "import pandas as pd"
   ]
  },
  {
   "attachments": {},
   "cell_type": "markdown",
   "metadata": {},
   "source": [
    "This script is fed by downloading from Google Analytics by navigating to **Reports -> Engagement -> Events**, then selecting page_view. Make sure the date range is as required (starting on Saturday 5th November 2022, and running to the current day) Click __Share this report__. Download a CSV and then upload to [files.open-innovations.org](https://files.open-innovations.org) and place in the `web_analyics` folder in the `leeds2023` user account.\n",
    "\n",
    "The following loop processes transforms this into a series of pandas data frames.\n",
    "\n",
    "* daily_data - data about overall number of visits per day (sometimes not available)\n",
    "* weekly_data - data about overall number of visits per week\n",
    "* page_data - information about the pages viewed on the site"
   ]
  },
  {
   "cell_type": "code",
   "execution_count": 2,
   "metadata": {},
   "outputs": [],
   "source": [
    "WEEKLY_DATA='weekly_data'\n",
    "DAILY_DATA='daily_data'\n",
    "PAGE_DATA='page_data'\n",
    "\n",
    "with open('../../../working/manual/web_analytics/data-export.csv') as f:\n",
    "    mode = None\n",
    "    weekly_data = pd.DataFrame()\n",
    "    daily_data = pd.DataFrame()\n",
    "    page_data = pd.DataFrame()\n",
    "    for line in f.readlines():\n",
    "        if line.startswith('# Start date'):\n",
    "            start_date = pd.to_datetime(re.search(r'[0-9]+', line).group(0))\n",
    "            continue\n",
    "        if line.startswith('Nth week'):\n",
    "            mode = WEEKLY_DATA\n",
    "            csv = ''\n",
    "        if line.startswith('Nth day'):\n",
    "            mode = DAILY_DATA\n",
    "            csv = ''\n",
    "        if line.startswith('Page title and screen name'):\n",
    "            mode = PAGE_DATA\n",
    "            csv = ''\n",
    "        if re.match(r'^$', line):\n",
    "            if mode == WEEKLY_DATA:\n",
    "                new_data = pd.read_csv(StringIO(csv), index_col=0)\n",
    "                new_data.index = pd.DatetimeIndex(start_date + new_data.index.map(lambda x: pd.DateOffset(weeks=x)))\n",
    "                new_data.index.name = 'week'\n",
    "                new_data.rename(columns=lambda x: x.lower().replace(' ', '_'), inplace=True)\n",
    "                weekly_data = pd.concat([weekly_data, new_data], axis=1)\n",
    "            if mode == DAILY_DATA:\n",
    "                new_data = pd.read_csv(StringIO(csv), index_col=0)\n",
    "                new_data.index = pd.DatetimeIndex(start_date + new_data.index.map(lambda x: pd.DateOffset(days=x)))\n",
    "                new_data.index.name = 'day'\n",
    "                new_data.rename(columns=lambda x: x.lower().replace(' ', '_'), inplace=True)\n",
    "                daily_data = pd.concat([daily_data, new_data], axis=1)\n",
    "            if mode == PAGE_DATA:\n",
    "                new_data = pd.read_csv(StringIO(csv))\n",
    "                new_data.rename(columns=lambda x: x.lower().replace(' ', '_'), inplace=True)\n",
    "                page_data = pd.concat([page_data, new_data])\n",
    "            mode = None\n",
    "        if mode != None:\n",
    "            csv += line"
   ]
  },
  {
   "attachments": {},
   "cell_type": "markdown",
   "metadata": {},
   "source": [
    "Clean up the data"
   ]
  },
  {
   "cell_type": "code",
   "execution_count": 3,
   "metadata": {},
   "outputs": [],
   "source": [
    "if (len(daily_data.index) > 0):\n",
    "    daily_data = daily_data[['event_count', 'total_users']]\n",
    "    weekly_data = daily_data.resample('W-FRI').sum()\n"
   ]
  },
  {
   "attachments": {},
   "cell_type": "markdown",
   "metadata": {},
   "source": [
    "Set up the output directory"
   ]
  },
  {
   "cell_type": "code",
   "execution_count": 4,
   "metadata": {},
   "outputs": [],
   "source": [
    "DATA_DIR = os.path.join('../../../data/metrics', 'web_analytics')\n",
    "os.makedirs(DATA_DIR, exist_ok=True)"
   ]
  },
  {
   "attachments": {},
   "cell_type": "markdown",
   "metadata": {},
   "source": [
    "Save the CSV files"
   ]
  },
  {
   "cell_type": "code",
   "execution_count": 5,
   "metadata": {},
   "outputs": [],
   "source": [
    "daily_data.to_csv(os.path.join(DATA_DIR, 'daily_page_views.csv'))\n",
    "weekly_data.to_csv(os.path.join(DATA_DIR, 'weekly_page_views.csv'))"
   ]
  }
 ],
 "metadata": {
  "kernelspec": {
   "display_name": "leeds-2023-YZF5GfJv",
   "language": "python",
   "name": "python3"
  },
  "language_info": {
   "codemirror_mode": {
    "name": "ipython",
    "version": 3
   },
   "file_extension": ".py",
   "mimetype": "text/x-python",
   "name": "python",
   "nbconvert_exporter": "python",
   "pygments_lexer": "ipython3",
   "version": "3.10.6"
  },
  "orig_nbformat": 4
 },
 "nbformat": 4,
 "nbformat_minor": 2
}
