{
 "cells": [
  {
   "cell_type": "markdown",
   "id": "6c304b98",
   "metadata": {
    "papermill": {
     "duration": 0.004896,
     "end_time": "2023-07-14T11:16:53.629542",
     "exception": false,
     "start_time": "2023-07-14T11:16:53.624646",
     "status": "completed"
    },
    "tags": []
   },
   "source": [
    "# My LEEDS 2023\n",
    "\n",
    "Prepares data for the My LEEDS 2023 page "
   ]
  },
  {
   "cell_type": "code",
   "execution_count": 1,
   "id": "e7bee8fb",
   "metadata": {
    "execution": {
     "iopub.execute_input": "2023-07-14T11:16:53.632467Z",
     "iopub.status.busy": "2023-07-14T11:16:53.632248Z",
     "iopub.status.idle": "2023-07-14T11:16:58.401623Z",
     "shell.execute_reply": "2023-07-14T11:16:58.401179Z"
    },
    "papermill": {
     "duration": 4.772069,
     "end_time": "2023-07-14T11:16:58.402733",
     "exception": false,
     "start_time": "2023-07-14T11:16:53.630664",
     "status": "completed"
    },
    "tags": []
   },
   "outputs": [],
   "source": [
    "from events import (\n",
    "    load_event_data, filter_by_project, prepare, save_files, count_wards\n",
    ")"
   ]
  },
  {
   "cell_type": "markdown",
   "id": "c6a82e83",
   "metadata": {
    "papermill": {
     "duration": 0.000992,
     "end_time": "2023-07-14T11:16:58.404915",
     "exception": false,
     "start_time": "2023-07-14T11:16:58.403923",
     "status": "completed"
    },
    "tags": []
   },
   "source": [
    "Set output directory"
   ]
  },
  {
   "cell_type": "code",
   "execution_count": 2,
   "id": "4b3d4092",
   "metadata": {
    "execution": {
     "iopub.execute_input": "2023-07-14T11:16:58.407635Z",
     "iopub.status.busy": "2023-07-14T11:16:58.407442Z",
     "iopub.status.idle": "2023-07-14T11:16:58.409396Z",
     "shell.execute_reply": "2023-07-14T11:16:58.409121Z"
    },
    "papermill": {
     "duration": 0.00409,
     "end_time": "2023-07-14T11:16:58.410044",
     "exception": false,
     "start_time": "2023-07-14T11:16:58.405954",
     "status": "completed"
    },
    "tags": []
   },
   "outputs": [],
   "source": [
    "OUT_DIR = '../../../../docs/metrics/events/my-leeds-2023/_data/events'"
   ]
  },
  {
   "cell_type": "markdown",
   "id": "b5c0425a",
   "metadata": {
    "papermill": {
     "duration": 0.000924,
     "end_time": "2023-07-14T11:16:58.411952",
     "exception": false,
     "start_time": "2023-07-14T11:16:58.411028",
     "status": "completed"
    },
    "tags": []
   },
   "source": [
    "Read in event data and filter by **My LEEDS 2023** project"
   ]
  },
  {
   "cell_type": "code",
   "execution_count": 3,
   "id": "61e40e25",
   "metadata": {
    "execution": {
     "iopub.execute_input": "2023-07-14T11:16:58.414432Z",
     "iopub.status.busy": "2023-07-14T11:16:58.414241Z",
     "iopub.status.idle": "2023-07-14T11:16:58.421844Z",
     "shell.execute_reply": "2023-07-14T11:16:58.421509Z"
    },
    "papermill": {
     "duration": 0.009693,
     "end_time": "2023-07-14T11:16:58.422597",
     "exception": false,
     "start_time": "2023-07-14T11:16:58.412904",
     "status": "completed"
    },
    "tags": []
   },
   "outputs": [],
   "source": [
    "data = load_event_data().pipe(filter_by_project, '12 - My LEEDS 2023')"
   ]
  },
  {
   "cell_type": "markdown",
   "id": "f4900e43",
   "metadata": {
    "papermill": {
     "duration": 0.000975,
     "end_time": "2023-07-14T11:16:58.424672",
     "exception": false,
     "start_time": "2023-07-14T11:16:58.423697",
     "status": "completed"
    },
    "tags": []
   },
   "source": [
    "Run the processing and save the files"
   ]
  },
  {
   "cell_type": "code",
   "execution_count": 4,
   "id": "f5b9d8b8",
   "metadata": {
    "execution": {
     "iopub.execute_input": "2023-07-14T11:16:58.427114Z",
     "iopub.status.busy": "2023-07-14T11:16:58.426999Z",
     "iopub.status.idle": "2023-07-14T11:16:58.463582Z",
     "shell.execute_reply": "2023-07-14T11:16:58.463228Z"
    },
    "papermill": {
     "duration": 0.038765,
     "end_time": "2023-07-14T11:16:58.464382",
     "exception": false,
     "start_time": "2023-07-14T11:16:58.425617",
     "status": "completed"
    },
    "tags": []
   },
   "outputs": [],
   "source": [
    "data = data.pipe(prepare).pipe(save_files, OUT_DIR)"
   ]
  },
  {
   "cell_type": "markdown",
   "id": "e7bf5e61",
   "metadata": {
    "papermill": {
     "duration": 0.001008,
     "end_time": "2023-07-14T11:16:58.466488",
     "exception": false,
     "start_time": "2023-07-14T11:16:58.465480",
     "status": "completed"
    },
    "tags": []
   },
   "source": [
    "Print a list of events which have no ward, or more than one"
   ]
  },
  {
   "cell_type": "code",
   "execution_count": 5,
   "id": "82d54441",
   "metadata": {
    "execution": {
     "iopub.execute_input": "2023-07-14T11:16:58.469109Z",
     "iopub.status.busy": "2023-07-14T11:16:58.468956Z",
     "iopub.status.idle": "2023-07-14T11:16:58.476066Z",
     "shell.execute_reply": "2023-07-14T11:16:58.475769Z"
    },
    "papermill": {
     "duration": 0.009339,
     "end_time": "2023-07-14T11:16:58.476826",
     "exception": false,
     "start_time": "2023-07-14T11:16:58.467487",
     "status": "completed"
    },
    "tags": []
   },
   "outputs": [
    {
     "data": {
      "text/html": [
       "<div>\n",
       "<style scoped>\n",
       "    .dataframe tbody tr th:only-of-type {\n",
       "        vertical-align: middle;\n",
       "    }\n",
       "\n",
       "    .dataframe tbody tr th {\n",
       "        vertical-align: top;\n",
       "    }\n",
       "\n",
       "    .dataframe thead th {\n",
       "        text-align: right;\n",
       "    }\n",
       "</style>\n",
       "<table border=\"1\" class=\"dataframe\">\n",
       "  <thead>\n",
       "    <tr style=\"text-align: right;\">\n",
       "      <th></th>\n",
       "      <th>airtable_id</th>\n",
       "      <th>event_name</th>\n",
       "      <th>start_date</th>\n",
       "      <th>ward_(from_venue)</th>\n",
       "    </tr>\n",
       "  </thead>\n",
       "  <tbody>\n",
       "    <tr>\n",
       "      <th>11</th>\n",
       "      <td>265</td>\n",
       "      <td>My Leeds Event Day 1 (Live Activation)</td>\n",
       "      <td>2023-07-08</td>\n",
       "      <td>NaN</td>\n",
       "    </tr>\n",
       "    <tr>\n",
       "      <th>508</th>\n",
       "      <td>656</td>\n",
       "      <td>The Gift: digital gift launch</td>\n",
       "      <td>2023-06-19</td>\n",
       "      <td>NaN</td>\n",
       "    </tr>\n",
       "    <tr>\n",
       "      <th>572</th>\n",
       "      <td>657</td>\n",
       "      <td>The Gift: Garments</td>\n",
       "      <td>2023-06-17</td>\n",
       "      <td>NaN</td>\n",
       "    </tr>\n",
       "    <tr>\n",
       "      <th>688</th>\n",
       "      <td>430</td>\n",
       "      <td>My LEEDS Summer: Alwoodley Festival of Sport a...</td>\n",
       "      <td>2023-07-09</td>\n",
       "      <td>['Alwoodley', 'Alwoodley', 'Alwoodley', 'Alwoo...</td>\n",
       "    </tr>\n",
       "  </tbody>\n",
       "</table>\n",
       "</div>"
      ],
      "text/plain": [
       "     airtable_id                                         event_name  \\\n",
       "11           265             My Leeds Event Day 1 (Live Activation)   \n",
       "508          656                     The Gift: digital gift launch    \n",
       "572          657                                 The Gift: Garments   \n",
       "688          430  My LEEDS Summer: Alwoodley Festival of Sport a...   \n",
       "\n",
       "    start_date                                  ward_(from_venue)  \n",
       "11  2023-07-08                                                NaN  \n",
       "508 2023-06-19                                                NaN  \n",
       "572 2023-06-17                                                NaN  \n",
       "688 2023-07-09  ['Alwoodley', 'Alwoodley', 'Alwoodley', 'Alwoo...  "
      ]
     },
     "execution_count": 5,
     "metadata": {},
     "output_type": "execute_result"
    }
   ],
   "source": [
    "data[data.pipe(count_wards) != 1][[\n",
    "    'airtable_id',\n",
    "    'event_name',\n",
    "    'start_date',\n",
    "    'ward_(from_venue)',\n",
    "]]"
   ]
  },
  {
   "cell_type": "markdown",
   "id": "9acd4242",
   "metadata": {
    "papermill": {
     "duration": 0.001068,
     "end_time": "2023-07-14T11:16:58.479078",
     "exception": false,
     "start_time": "2023-07-14T11:16:58.478010",
     "status": "completed"
    },
    "tags": []
   },
   "source": [
    "Print a list of events with no audience recorded"
   ]
  },
  {
   "cell_type": "code",
   "execution_count": 6,
   "id": "74353e2b",
   "metadata": {
    "execution": {
     "iopub.execute_input": "2023-07-14T11:16:58.482029Z",
     "iopub.status.busy": "2023-07-14T11:16:58.481836Z",
     "iopub.status.idle": "2023-07-14T11:16:58.487889Z",
     "shell.execute_reply": "2023-07-14T11:16:58.487555Z"
    },
    "papermill": {
     "duration": 0.008475,
     "end_time": "2023-07-14T11:16:58.488660",
     "exception": false,
     "start_time": "2023-07-14T11:16:58.480185",
     "status": "completed"
    },
    "tags": []
   },
   "outputs": [
    {
     "data": {
      "text/html": [
       "<div>\n",
       "<style scoped>\n",
       "    .dataframe tbody tr th:only-of-type {\n",
       "        vertical-align: middle;\n",
       "    }\n",
       "\n",
       "    .dataframe tbody tr th {\n",
       "        vertical-align: top;\n",
       "    }\n",
       "\n",
       "    .dataframe thead th {\n",
       "        text-align: right;\n",
       "    }\n",
       "</style>\n",
       "<table border=\"1\" class=\"dataframe\">\n",
       "  <thead>\n",
       "    <tr style=\"text-align: right;\">\n",
       "      <th></th>\n",
       "      <th>airtable_id</th>\n",
       "      <th>event_name</th>\n",
       "      <th>start_date</th>\n",
       "      <th>audience_size</th>\n",
       "    </tr>\n",
       "  </thead>\n",
       "  <tbody>\n",
       "    <tr>\n",
       "      <th>11</th>\n",
       "      <td>265</td>\n",
       "      <td>My Leeds Event Day 1 (Live Activation)</td>\n",
       "      <td>2023-07-08</td>\n",
       "      <td>0.0</td>\n",
       "    </tr>\n",
       "    <tr>\n",
       "      <th>38</th>\n",
       "      <td>560</td>\n",
       "      <td>Pudsey Grant Info Session</td>\n",
       "      <td>2023-02-13</td>\n",
       "      <td>0.0</td>\n",
       "    </tr>\n",
       "    <tr>\n",
       "      <th>40</th>\n",
       "      <td>566</td>\n",
       "      <td>Weetwood Grant Info Session 2</td>\n",
       "      <td>2023-02-19</td>\n",
       "      <td>0.0</td>\n",
       "    </tr>\n",
       "    <tr>\n",
       "      <th>50</th>\n",
       "      <td>559</td>\n",
       "      <td>Otley and Yeadon Grant Info Session 2</td>\n",
       "      <td>2023-02-21</td>\n",
       "      <td>0.0</td>\n",
       "    </tr>\n",
       "    <tr>\n",
       "      <th>71</th>\n",
       "      <td>565</td>\n",
       "      <td>Weetwood Grant Info Session 1</td>\n",
       "      <td>2023-02-15</td>\n",
       "      <td>0.0</td>\n",
       "    </tr>\n",
       "    <tr>\n",
       "      <th>74</th>\n",
       "      <td>428</td>\n",
       "      <td>My LEEDS Summer: Gipton &amp; Harehills</td>\n",
       "      <td>2023-07-08</td>\n",
       "      <td>0.0</td>\n",
       "    </tr>\n",
       "    <tr>\n",
       "      <th>104</th>\n",
       "      <td>563</td>\n",
       "      <td>Roundhay Grant Info Session 2</td>\n",
       "      <td>2023-02-16</td>\n",
       "      <td>0.0</td>\n",
       "    </tr>\n",
       "    <tr>\n",
       "      <th>116</th>\n",
       "      <td>558</td>\n",
       "      <td>Otley and Yeadon Grant Info Session 1</td>\n",
       "      <td>2023-02-20</td>\n",
       "      <td>0.0</td>\n",
       "    </tr>\n",
       "    <tr>\n",
       "      <th>199</th>\n",
       "      <td>417</td>\n",
       "      <td>My LEEDS Summer: Moortown Picnic in the Park</td>\n",
       "      <td>2023-06-24</td>\n",
       "      <td>0.0</td>\n",
       "    </tr>\n",
       "    <tr>\n",
       "      <th>267</th>\n",
       "      <td>561</td>\n",
       "      <td>Rothwell Grant Info Session</td>\n",
       "      <td>2023-02-13</td>\n",
       "      <td>0.0</td>\n",
       "    </tr>\n",
       "    <tr>\n",
       "      <th>371</th>\n",
       "      <td>425</td>\n",
       "      <td>My LEEDS Summer: Guiseley and Rawdon Feast</td>\n",
       "      <td>2023-07-02</td>\n",
       "      <td>0.0</td>\n",
       "    </tr>\n",
       "    <tr>\n",
       "      <th>508</th>\n",
       "      <td>656</td>\n",
       "      <td>The Gift: digital gift launch</td>\n",
       "      <td>2023-06-19</td>\n",
       "      <td>0.0</td>\n",
       "    </tr>\n",
       "    <tr>\n",
       "      <th>542</th>\n",
       "      <td>564</td>\n",
       "      <td>Temple Newsam Grant Info Session</td>\n",
       "      <td>2023-02-16</td>\n",
       "      <td>0.0</td>\n",
       "    </tr>\n",
       "    <tr>\n",
       "      <th>572</th>\n",
       "      <td>657</td>\n",
       "      <td>The Gift: Garments</td>\n",
       "      <td>2023-06-17</td>\n",
       "      <td>0.0</td>\n",
       "    </tr>\n",
       "    <tr>\n",
       "      <th>624</th>\n",
       "      <td>562</td>\n",
       "      <td>Roundhay Grant Info Session 1</td>\n",
       "      <td>2023-02-13</td>\n",
       "      <td>0.0</td>\n",
       "    </tr>\n",
       "    <tr>\n",
       "      <th>688</th>\n",
       "      <td>430</td>\n",
       "      <td>My LEEDS Summer: Alwoodley Festival of Sport a...</td>\n",
       "      <td>2023-07-09</td>\n",
       "      <td>0.0</td>\n",
       "    </tr>\n",
       "    <tr>\n",
       "      <th>774</th>\n",
       "      <td>568</td>\n",
       "      <td>Wetherby Grant Info Session 2</td>\n",
       "      <td>2023-02-21</td>\n",
       "      <td>0.0</td>\n",
       "    </tr>\n",
       "    <tr>\n",
       "      <th>824</th>\n",
       "      <td>567</td>\n",
       "      <td>Wetherby Grant Info Session 1</td>\n",
       "      <td>2023-02-14</td>\n",
       "      <td>0.0</td>\n",
       "    </tr>\n",
       "  </tbody>\n",
       "</table>\n",
       "</div>"
      ],
      "text/plain": [
       "     airtable_id                                         event_name  \\\n",
       "11           265             My Leeds Event Day 1 (Live Activation)   \n",
       "38           560                          Pudsey Grant Info Session   \n",
       "40           566                      Weetwood Grant Info Session 2   \n",
       "50           559              Otley and Yeadon Grant Info Session 2   \n",
       "71           565                      Weetwood Grant Info Session 1   \n",
       "74           428                My LEEDS Summer: Gipton & Harehills   \n",
       "104          563                      Roundhay Grant Info Session 2   \n",
       "116          558              Otley and Yeadon Grant Info Session 1   \n",
       "199          417       My LEEDS Summer: Moortown Picnic in the Park   \n",
       "267          561                        Rothwell Grant Info Session   \n",
       "371          425         My LEEDS Summer: Guiseley and Rawdon Feast   \n",
       "508          656                     The Gift: digital gift launch    \n",
       "542          564                   Temple Newsam Grant Info Session   \n",
       "572          657                                 The Gift: Garments   \n",
       "624          562                      Roundhay Grant Info Session 1   \n",
       "688          430  My LEEDS Summer: Alwoodley Festival of Sport a...   \n",
       "774          568                      Wetherby Grant Info Session 2   \n",
       "824          567                      Wetherby Grant Info Session 1   \n",
       "\n",
       "    start_date  audience_size  \n",
       "11  2023-07-08            0.0  \n",
       "38  2023-02-13            0.0  \n",
       "40  2023-02-19            0.0  \n",
       "50  2023-02-21            0.0  \n",
       "71  2023-02-15            0.0  \n",
       "74  2023-07-08            0.0  \n",
       "104 2023-02-16            0.0  \n",
       "116 2023-02-20            0.0  \n",
       "199 2023-06-24            0.0  \n",
       "267 2023-02-13            0.0  \n",
       "371 2023-07-02            0.0  \n",
       "508 2023-06-19            0.0  \n",
       "542 2023-02-16            0.0  \n",
       "572 2023-06-17            0.0  \n",
       "624 2023-02-13            0.0  \n",
       "688 2023-07-09            0.0  \n",
       "774 2023-02-21            0.0  \n",
       "824 2023-02-14            0.0  "
      ]
     },
     "execution_count": 6,
     "metadata": {},
     "output_type": "execute_result"
    }
   ],
   "source": [
    "data[data.audience_size == 0][[\n",
    "    'airtable_id', 'event_name', 'start_date', 'audience_size'\n",
    "]]"
   ]
  },
  {
   "cell_type": "code",
   "execution_count": 7,
   "id": "82ae22ee",
   "metadata": {
    "execution": {
     "iopub.execute_input": "2023-07-14T11:16:58.491972Z",
     "iopub.status.busy": "2023-07-14T11:16:58.491739Z",
     "iopub.status.idle": "2023-07-14T11:16:58.736735Z",
     "shell.execute_reply": "2023-07-14T11:16:58.736366Z"
    },
    "papermill": {
     "duration": 0.247577,
     "end_time": "2023-07-14T11:16:58.737578",
     "exception": false,
     "start_time": "2023-07-14T11:16:58.490001",
     "status": "completed"
    },
    "tags": []
   },
   "outputs": [
    {
     "data": {
      "text/plain": [
       "event_type\n",
       "['Public Event - Digital Experience']     1\n",
       "['Public Event - Installation']           1\n",
       "['Public Event - Performance']           18\n",
       "['Public Event - Talk / Tour']           11\n",
       "Name: event_name, dtype: int64"
      ]
     },
     "execution_count": 7,
     "metadata": {},
     "output_type": "execute_result"
    },
    {
     "data": {
      "image/png": "[encoded data removed]",
      "text/plain": [
       "<Figure size 640x480 with 1 Axes>"
      ]
     },
     "metadata": {},
     "output_type": "display_data"
    }
   ],
   "source": [
    "plot = data.groupby('event_type').event_name.count().plot.barh()\n",
    "plot.xaxis.label.set_text('Number of events')\n",
    "plot.yaxis.label.set_text('Event Type Labels')\n",
    "data.groupby('event_type').event_name.count()"
   ]
  }
 ],
 "metadata": {
  "kernelspec": {
   "display_name": "leeds-2023-YZF5GfJv",
   "language": "python",
   "name": "python3"
  },
  "language_info": {
   "codemirror_mode": {
    "name": "ipython",
    "version": 3
   },
   "file_extension": ".py",
   "mimetype": "text/x-python",
   "name": "python",
   "nbconvert_exporter": "python",
   "pygments_lexer": "ipython3",
   "version": "3.10.6"
  },
  "papermill": {
   "default_parameters": {},
   "duration": 6.145769,
   "end_time": "2023-07-14T11:16:59.056362",
   "environment_variables": {},
   "exception": null,
   "input_path": "my-leeds-2023.ipynb",
   "output_path": "../../../../working/output/my-leeds-2023.ipynb",
   "parameters": {},
   "start_time": "2023-07-14T11:16:52.910593",
   "version": "2.4.0"
  }
 },
 "nbformat": 4,
 "nbformat_minor": 5
}