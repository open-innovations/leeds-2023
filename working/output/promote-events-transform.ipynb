{
 "cells": [
  {
   "cell_type": "code",
   "execution_count": 1,
   "id": "73c021b5",
   "metadata": {
    "execution": {
     "iopub.execute_input": "2023-12-04T23:38:10.209326Z",
     "iopub.status.busy": "2023-12-04T23:38:10.209064Z",
     "iopub.status.idle": "2023-12-04T23:38:10.451288Z",
     "shell.execute_reply": "2023-12-04T23:38:10.450586Z"
    },
    "papermill": {
     "duration": 0.246797,
     "end_time": "2023-12-04T23:38:10.453094",
     "exception": false,
     "start_time": "2023-12-04T23:38:10.206297",
     "status": "completed"
    },
    "tags": []
   },
   "outputs": [],
   "source": [
    "import os\n",
    "import pandas as pd"
   ]
  },
  {
   "cell_type": "code",
   "execution_count": 2,
   "id": "9a743139",
   "metadata": {
    "execution": {
     "iopub.execute_input": "2023-12-04T23:38:10.456933Z",
     "iopub.status.busy": "2023-12-04T23:38:10.456462Z",
     "iopub.status.idle": "2023-12-04T23:38:10.459888Z",
     "shell.execute_reply": "2023-12-04T23:38:10.459326Z"
    },
    "papermill": {
     "duration": 0.006641,
     "end_time": "2023-12-04T23:38:10.461237",
     "exception": false,
     "start_time": "2023-12-04T23:38:10.454596",
     "status": "completed"
    },
    "tags": []
   },
   "outputs": [],
   "source": [
    "EVENTS_RAW_DATA = '../../../working/metrics/promote-events/events.csv'\n",
    "DATA_DIR = '../../../data/metrics/events/promote-events/'\n",
    "EVENTS_DATA = os.path.join(DATA_DIR, 'events.csv')"
   ]
  },
  {
   "cell_type": "code",
   "execution_count": 3,
   "id": "00ef00fe",
   "metadata": {
    "execution": {
     "iopub.execute_input": "2023-12-04T23:38:10.464493Z",
     "iopub.status.busy": "2023-12-04T23:38:10.464121Z",
     "iopub.status.idle": "2023-12-04T23:38:10.467270Z",
     "shell.execute_reply": "2023-12-04T23:38:10.466670Z"
    },
    "papermill": {
     "duration": 0.006367,
     "end_time": "2023-12-04T23:38:10.468683",
     "exception": false,
     "start_time": "2023-12-04T23:38:10.462316",
     "status": "completed"
    },
    "tags": []
   },
   "outputs": [],
   "source": [
    "columns = {\n",
    "    'id': 'id',\n",
    "    'name': 'name',\n",
    "    'locationName': 'location',\n",
    "    'cardPrice': 'card_price',\n",
    "    'timeslots': 'time',\n",
    "    # 'displayOnWebsite': 'display',\n",
    "    'Stage': 'stage',\n",
    "}"
   ]
  },
  {
   "cell_type": "code",
   "execution_count": 4,
   "id": "256d526e",
   "metadata": {
    "execution": {
     "iopub.execute_input": "2023-12-04T23:38:10.471890Z",
     "iopub.status.busy": "2023-12-04T23:38:10.471710Z",
     "iopub.status.idle": "2023-12-04T23:38:10.480440Z",
     "shell.execute_reply": "2023-12-04T23:38:10.479826Z"
    },
    "papermill": {
     "duration": 0.012123,
     "end_time": "2023-12-04T23:38:10.481911",
     "exception": false,
     "start_time": "2023-12-04T23:38:10.469788",
     "status": "completed"
    },
    "tags": []
   },
   "outputs": [],
   "source": [
    "data = pd.read_csv(EVENTS_RAW_DATA)[columns.keys()].rename(columns=columns)\n",
    "data.time = pd.to_datetime(data.time, errors='coerce')"
   ]
  },
  {
   "cell_type": "code",
   "execution_count": 5,
   "id": "95c01e63",
   "metadata": {
    "execution": {
     "iopub.execute_input": "2023-12-04T23:38:10.485177Z",
     "iopub.status.busy": "2023-12-04T23:38:10.484840Z",
     "iopub.status.idle": "2023-12-04T23:38:10.490034Z",
     "shell.execute_reply": "2023-12-04T23:38:10.489424Z"
    },
    "papermill": {
     "duration": 0.008278,
     "end_time": "2023-12-04T23:38:10.491372",
     "exception": false,
     "start_time": "2023-12-04T23:38:10.483094",
     "status": "completed"
    },
    "tags": []
   },
   "outputs": [],
   "source": [
    "data.to_csv(os.path.join(DATA_DIR, 'events.csv'), index=False)"
   ]
  }
 ],
 "metadata": {
  "kernelspec": {
   "display_name": "leeds-2023-YZF5GfJv",
   "language": "python",
   "name": "python3"
  },
  "language_info": {
   "codemirror_mode": {
    "name": "ipython",
    "version": 3
   },
   "file_extension": ".py",
   "mimetype": "text/x-python",
   "name": "python",
   "nbconvert_exporter": "python",
   "pygments_lexer": "ipython3",
   "version": "3.10.13"
  },
  "papermill": {
   "default_parameters": {},
   "duration": 1.749554,
   "end_time": "2023-12-04T23:38:10.708297",
   "environment_variables": {},
   "exception": null,
   "input_path": "transform.ipynb",
   "output_path": "../../../working/output/promote-events-transform.ipynb",
   "parameters": {},
   "start_time": "2023-12-04T23:38:08.958743",
   "version": "2.4.0"
  }
 },
 "nbformat": 4,
 "nbformat_minor": 5
}