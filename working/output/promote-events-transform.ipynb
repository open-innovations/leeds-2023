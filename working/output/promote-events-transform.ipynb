{
 "cells": [
  {
   "cell_type": "code",
   "execution_count": 1,
   "id": "c94c3c3d",
   "metadata": {
    "execution": {
     "iopub.execute_input": "2023-08-08T23:37:52.959078Z",
     "iopub.status.busy": "2023-08-08T23:37:52.958574Z",
     "iopub.status.idle": "2023-08-08T23:37:53.187346Z",
     "shell.execute_reply": "2023-08-08T23:37:53.186727Z"
    },
    "papermill": {
     "duration": 0.233541,
     "end_time": "2023-08-08T23:37:53.189511",
     "exception": false,
     "start_time": "2023-08-08T23:37:52.955970",
     "status": "completed"
    },
    "tags": []
   },
   "outputs": [],
   "source": [
    "import os\n",
    "import pandas as pd"
   ]
  },
  {
   "cell_type": "code",
   "execution_count": 2,
   "id": "605a825a",
   "metadata": {
    "execution": {
     "iopub.execute_input": "2023-08-08T23:37:53.193858Z",
     "iopub.status.busy": "2023-08-08T23:37:53.193236Z",
     "iopub.status.idle": "2023-08-08T23:37:53.197148Z",
     "shell.execute_reply": "2023-08-08T23:37:53.195962Z"
    },
    "papermill": {
     "duration": 0.007608,
     "end_time": "2023-08-08T23:37:53.198650",
     "exception": false,
     "start_time": "2023-08-08T23:37:53.191042",
     "status": "completed"
    },
    "tags": []
   },
   "outputs": [],
   "source": [
    "EVENTS_RAW_DATA = '../../../working/metrics/promote-events/events.csv'\n",
    "DATA_DIR = '../../../data/metrics/events/promote-events/'\n",
    "EVENTS_DATA = os.path.join(DATA_DIR, 'events.csv')"
   ]
  },
  {
   "cell_type": "code",
   "execution_count": 3,
   "id": "4e5c2ed5",
   "metadata": {
    "execution": {
     "iopub.execute_input": "2023-08-08T23:37:53.202105Z",
     "iopub.status.busy": "2023-08-08T23:37:53.201615Z",
     "iopub.status.idle": "2023-08-08T23:37:53.204840Z",
     "shell.execute_reply": "2023-08-08T23:37:53.204241Z"
    },
    "papermill": {
     "duration": 0.006336,
     "end_time": "2023-08-08T23:37:53.206137",
     "exception": false,
     "start_time": "2023-08-08T23:37:53.199801",
     "status": "completed"
    },
    "tags": []
   },
   "outputs": [],
   "source": [
    "columns = {\n",
    "    'id': 'id',\n",
    "    'name': 'name',\n",
    "    'locationName': 'location',\n",
    "    'cardPrice': 'card_price',\n",
    "    'timeslots': 'time',\n",
    "    'displayOnWebsite': 'display',\n",
    "    'Stage': 'stage',\n",
    "}"
   ]
  },
  {
   "cell_type": "code",
   "execution_count": 4,
   "id": "3b5688d3",
   "metadata": {
    "execution": {
     "iopub.execute_input": "2023-08-08T23:37:53.209374Z",
     "iopub.status.busy": "2023-08-08T23:37:53.209064Z",
     "iopub.status.idle": "2023-08-08T23:37:53.221561Z",
     "shell.execute_reply": "2023-08-08T23:37:53.221009Z"
    },
    "papermill": {
     "duration": 0.015635,
     "end_time": "2023-08-08T23:37:53.222914",
     "exception": false,
     "start_time": "2023-08-08T23:37:53.207279",
     "status": "completed"
    },
    "tags": []
   },
   "outputs": [],
   "source": [
    "data = pd.read_csv(EVENTS_RAW_DATA)[columns.keys()].rename(columns=columns)\n",
    "data.time = pd.to_datetime(data.time, errors='coerce')"
   ]
  },
  {
   "cell_type": "code",
   "execution_count": 5,
   "id": "fb821355",
   "metadata": {
    "execution": {
     "iopub.execute_input": "2023-08-08T23:37:53.226319Z",
     "iopub.status.busy": "2023-08-08T23:37:53.225997Z",
     "iopub.status.idle": "2023-08-08T23:37:53.233741Z",
     "shell.execute_reply": "2023-08-08T23:37:53.233212Z"
    },
    "papermill": {
     "duration": 0.011023,
     "end_time": "2023-08-08T23:37:53.235140",
     "exception": false,
     "start_time": "2023-08-08T23:37:53.224117",
     "status": "completed"
    },
    "tags": []
   },
   "outputs": [],
   "source": [
    "data.to_csv(os.path.join(DATA_DIR, 'events.csv'), index=False)"
   ]
  }
 ],
 "metadata": {
  "kernelspec": {
   "display_name": "leeds-2023-YZF5GfJv",
   "language": "python",
   "name": "python3"
  },
  "language_info": {
   "codemirror_mode": {
    "name": "ipython",
    "version": 3
   },
   "file_extension": ".py",
   "mimetype": "text/x-python",
   "name": "python",
   "nbconvert_exporter": "python",
   "pygments_lexer": "ipython3",
   "version": "3.10.6"
  },
  "papermill": {
   "default_parameters": {},
   "duration": 1.865452,
   "end_time": "2023-08-08T23:37:53.453627",
   "environment_variables": {},
   "exception": null,
   "input_path": "transform.ipynb",
   "output_path": "../../../working/output/promote-events-transform.ipynb",
   "parameters": {},
   "start_time": "2023-08-08T23:37:51.588175",
   "version": "2.4.0"
  }
 },
 "nbformat": 4,
 "nbformat_minor": 5
}