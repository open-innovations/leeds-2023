{
 "cells": [
  {
   "cell_type": "code",
   "execution_count": 1,
   "id": "9c68bd13",
   "metadata": {
    "execution": {
     "iopub.execute_input": "2023-12-21T23:39:57.338193Z",
     "iopub.status.busy": "2023-12-21T23:39:57.338000Z",
     "iopub.status.idle": "2023-12-21T23:40:04.833224Z",
     "shell.execute_reply": "2023-12-21T23:40:04.832530Z"
    },
    "papermill": {
     "duration": 7.50065,
     "end_time": "2023-12-21T23:40:04.834956",
     "exception": false,
     "start_time": "2023-12-21T23:39:57.334306",
     "status": "completed"
    },
    "tags": []
   },
   "outputs": [],
   "source": [
    "import os\n",
    "import pandas as pd\n",
    "from events import load_event_data, get_first_ward, normalise_ward"
   ]
  },
  {
   "cell_type": "code",
   "execution_count": 2,
   "id": "de708379",
   "metadata": {
    "execution": {
     "iopub.execute_input": "2023-12-21T23:40:04.840372Z",
     "iopub.status.busy": "2023-12-21T23:40:04.840095Z",
     "iopub.status.idle": "2023-12-21T23:40:04.843868Z",
     "shell.execute_reply": "2023-12-21T23:40:04.843226Z"
    },
    "papermill": {
     "duration": 0.007986,
     "end_time": "2023-12-21T23:40:04.845288",
     "exception": false,
     "start_time": "2023-12-21T23:40:04.837302",
     "status": "completed"
    },
    "tags": []
   },
   "outputs": [],
   "source": [
    "latest_date = pd.Timestamp.today().ceil('D')"
   ]
  },
  {
   "cell_type": "code",
   "execution_count": 3,
   "id": "3e02e192",
   "metadata": {
    "execution": {
     "iopub.execute_input": "2023-12-21T23:40:04.850119Z",
     "iopub.status.busy": "2023-12-21T23:40:04.849636Z",
     "iopub.status.idle": "2023-12-21T23:40:04.866933Z",
     "shell.execute_reply": "2023-12-21T23:40:04.866315Z"
    },
    "papermill": {
     "duration": 0.021305,
     "end_time": "2023-12-21T23:40:04.868408",
     "exception": false,
     "start_time": "2023-12-21T23:40:04.847103",
     "status": "completed"
    },
    "tags": []
   },
   "outputs": [],
   "source": [
    "tickets = pd.read_csv('../../../../data/metrics/events/tickets/orders.csv', parse_dates=['created_at', 'event_date'])\n",
    "tickets = tickets[tickets.event_date <= latest_date]"
   ]
  },
  {
   "cell_type": "code",
   "execution_count": 4,
   "id": "526b4923",
   "metadata": {
    "execution": {
     "iopub.execute_input": "2023-12-21T23:40:04.873408Z",
     "iopub.status.busy": "2023-12-21T23:40:04.872912Z",
     "iopub.status.idle": "2023-12-21T23:40:04.927019Z",
     "shell.execute_reply": "2023-12-21T23:40:04.926396Z"
    },
    "papermill": {
     "duration": 0.058052,
     "end_time": "2023-12-21T23:40:04.928433",
     "exception": false,
     "start_time": "2023-12-21T23:40:04.870381",
     "status": "completed"
    },
    "tags": []
   },
   "outputs": [],
   "source": [
    "events = load_event_data()\n",
    "\n",
    "events = pd.concat([\n",
    "  events,\n",
    "  events.pipe(get_first_ward).pipe(normalise_ward).fillna('UNKNOWN'),\n",
    "  pd.Series(\n",
    "      events.actual_audience_size_number_of_participants_in_person + events.actual_audience_size_number_of_participants_online,\n",
    "      name='attendances'\n",
    "  )\n",
    "], axis=1).rename(columns={\n",
    "    'start_date': 'date'\n",
    "}).loc[:, ['ward_code', 'date', 'event_unique_identifier', 'attendances']]"
   ]
  },
  {
   "cell_type": "code",
   "execution_count": 5,
   "id": "9d19ee04",
   "metadata": {
    "execution": {
     "iopub.execute_input": "2023-12-21T23:40:04.933223Z",
     "iopub.status.busy": "2023-12-21T23:40:04.932846Z",
     "iopub.status.idle": "2023-12-21T23:40:04.935867Z",
     "shell.execute_reply": "2023-12-21T23:40:04.935313Z"
    },
    "papermill": {
     "duration": 0.006866,
     "end_time": "2023-12-21T23:40:04.937169",
     "exception": false,
     "start_time": "2023-12-21T23:40:04.930303",
     "status": "completed"
    },
    "tags": []
   },
   "outputs": [],
   "source": [
    "OUTPUT_DIR='../../../../docs/metrics/events/signature/_data/'\n",
    "os.makedirs(OUTPUT_DIR, exist_ok=True)"
   ]
  },
  {
   "cell_type": "markdown",
   "id": "293e4968",
   "metadata": {
    "papermill": {
     "duration": 0.001988,
     "end_time": "2023-12-21T23:40:04.941214",
     "exception": false,
     "start_time": "2023-12-21T23:40:04.939226",
     "status": "completed"
    },
    "tags": []
   },
   "source": [
    "Events CSVs"
   ]
  },
  {
   "cell_type": "code",
   "execution_count": 6,
   "id": "a3b420cb",
   "metadata": {
    "execution": {
     "iopub.execute_input": "2023-12-21T23:40:04.945943Z",
     "iopub.status.busy": "2023-12-21T23:40:04.945589Z",
     "iopub.status.idle": "2023-12-21T23:40:04.951634Z",
     "shell.execute_reply": "2023-12-21T23:40:04.951104Z"
    },
    "papermill": {
     "duration": 0.009892,
     "end_time": "2023-12-21T23:40:04.952972",
     "exception": false,
     "start_time": "2023-12-21T23:40:04.943080",
     "status": "completed"
    },
    "tags": []
   },
   "outputs": [],
   "source": [
    "pd.DataFrame({\n",
    "  'events': events.groupby('ward_code').event_unique_identifier.count(),\n",
    "  'attendances': events.groupby('ward_code').attendances.sum().astype(int),\n",
    "}).to_csv(os.path.join(OUTPUT_DIR, 'events_by_ward.csv'))\n"
   ]
  },
  {
   "cell_type": "code",
   "execution_count": 7,
   "id": "68b1e6c3",
   "metadata": {
    "execution": {
     "iopub.execute_input": "2023-12-21T23:40:04.957794Z",
     "iopub.status.busy": "2023-12-21T23:40:04.957405Z",
     "iopub.status.idle": "2023-12-21T23:40:04.965176Z",
     "shell.execute_reply": "2023-12-21T23:40:04.964625Z"
    },
    "papermill": {
     "duration": 0.011596,
     "end_time": "2023-12-21T23:40:04.966461",
     "exception": false,
     "start_time": "2023-12-21T23:40:04.954865",
     "status": "completed"
    },
    "tags": []
   },
   "outputs": [],
   "source": [
    "pd.DataFrame({\n",
    "  'events': events.groupby('date').event_unique_identifier.count(),\n",
    "  'attendances': events.groupby('date').attendances.sum().astype(int),\n",
    "}).resample('M').sum().astype(int).to_csv(os.path.join(OUTPUT_DIR, 'events_by_date.csv'))"
   ]
  },
  {
   "cell_type": "markdown",
   "id": "44bacbaf",
   "metadata": {
    "papermill": {
     "duration": 0.00284,
     "end_time": "2023-12-21T23:40:04.971259",
     "exception": false,
     "start_time": "2023-12-21T23:40:04.968419",
     "status": "completed"
    },
    "tags": []
   },
   "source": [
    "Tickets CSV"
   ]
  },
  {
   "cell_type": "code",
   "execution_count": 8,
   "id": "d2c21342",
   "metadata": {
    "execution": {
     "iopub.execute_input": "2023-12-21T23:40:04.976078Z",
     "iopub.status.busy": "2023-12-21T23:40:04.975705Z",
     "iopub.status.idle": "2023-12-21T23:40:04.981731Z",
     "shell.execute_reply": "2023-12-21T23:40:04.981098Z"
    },
    "papermill": {
     "duration": 0.009789,
     "end_time": "2023-12-21T23:40:04.983001",
     "exception": false,
     "start_time": "2023-12-21T23:40:04.973212",
     "status": "completed"
    },
    "tags": []
   },
   "outputs": [],
   "source": [
    "pd.DataFrame({\n",
    "  'orders': tickets.groupby('ward_code').number_of_tickets.count(),\n",
    "  'tickets': tickets.groupby('ward_code').number_of_tickets.sum().astype(int),\n",
    "}).to_csv(os.path.join(OUTPUT_DIR, 'tickets_by_ward.csv'))"
   ]
  },
  {
   "cell_type": "code",
   "execution_count": 9,
   "id": "039a5a35",
   "metadata": {
    "execution": {
     "iopub.execute_input": "2023-12-21T23:40:04.987895Z",
     "iopub.status.busy": "2023-12-21T23:40:04.987594Z",
     "iopub.status.idle": "2023-12-21T23:40:04.994545Z",
     "shell.execute_reply": "2023-12-21T23:40:04.994058Z"
    },
    "papermill": {
     "duration": 0.010862,
     "end_time": "2023-12-21T23:40:04.995856",
     "exception": false,
     "start_time": "2023-12-21T23:40:04.984994",
     "status": "completed"
    },
    "tags": []
   },
   "outputs": [],
   "source": [
    "pd.DataFrame({\n",
    "  'orders': tickets.groupby('event_date').number_of_tickets.count(),\n",
    "  'tickets': tickets.groupby('event_date').number_of_tickets.sum().astype(int),\n",
    "}).resample('M').sum().to_csv(os.path.join(OUTPUT_DIR, 'tickets_by_event_date.csv'))"
   ]
  },
  {
   "cell_type": "code",
   "execution_count": 10,
   "id": "33aeb587",
   "metadata": {
    "execution": {
     "iopub.execute_input": "2023-12-21T23:40:05.000901Z",
     "iopub.status.busy": "2023-12-21T23:40:05.000557Z",
     "iopub.status.idle": "2023-12-21T23:40:05.005330Z",
     "shell.execute_reply": "2023-12-21T23:40:05.004831Z"
    },
    "papermill": {
     "duration": 0.008714,
     "end_time": "2023-12-21T23:40:05.006587",
     "exception": false,
     "start_time": "2023-12-21T23:40:04.997873",
     "status": "completed"
    },
    "tags": []
   },
   "outputs": [],
   "source": [
    "pd.Series({\n",
    "    'total_events': events.event_unique_identifier.count(),\n",
    "    'total_attendances': events.attendances.count(),\n",
    "    'first_event': events.date.min(),\n",
    "    'latest_event': events.date.max(),\n",
    "    'total_ticket_orders_for_events_to_date': tickets.number_of_tickets.count(),\n",
    "    'total_tickets_sold_for_events_to_date': tickets.number_of_tickets.sum(),\n",
    "}).to_json(os.path.join(OUTPUT_DIR, 'headlines.json'), indent=2)"
   ]
  },
  {
   "cell_type": "code",
   "execution_count": null,
   "id": "f0733fa2",
   "metadata": {
    "papermill": {
     "duration": 0.001953,
     "end_time": "2023-12-21T23:40:05.010602",
     "exception": false,
     "start_time": "2023-12-21T23:40:05.008649",
     "status": "completed"
    },
    "tags": []
   },
   "outputs": [],
   "source": []
  }
 ],
 "metadata": {
  "kernelspec": {
   "display_name": "leeds-2023-YZF5GfJv",
   "language": "python",
   "name": "python3"
  },
  "language_info": {
   "codemirror_mode": {
    "name": "ipython",
    "version": 3
   },
   "file_extension": ".py",
   "mimetype": "text/x-python",
   "name": "python",
   "nbconvert_exporter": "python",
   "pygments_lexer": "ipython3",
   "version": "3.10.13"
  },
  "papermill": {
   "default_parameters": {},
   "duration": 9.236113,
   "end_time": "2023-12-21T23:40:05.329294",
   "environment_variables": {},
   "exception": null,
   "input_path": "prepare.ipynb",
   "output_path": "../../../../working/output/signature-prepare.ipynb",
   "parameters": {},
   "start_time": "2023-12-21T23:39:56.093181",
   "version": "2.4.0"
  }
 },
 "nbformat": 4,
 "nbformat_minor": 5
}