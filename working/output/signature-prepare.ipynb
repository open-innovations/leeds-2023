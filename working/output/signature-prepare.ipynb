{
 "cells": [
  {
   "cell_type": "code",
   "execution_count": 1,
   "id": "d043598a",
   "metadata": {
    "execution": {
     "iopub.execute_input": "2023-09-30T23:39:00.116305Z",
     "iopub.status.busy": "2023-09-30T23:39:00.115582Z",
     "iopub.status.idle": "2023-09-30T23:39:10.438910Z",
     "shell.execute_reply": "2023-09-30T23:39:10.438157Z"
    },
    "papermill": {
     "duration": 10.329917,
     "end_time": "2023-09-30T23:39:10.441015",
     "exception": false,
     "start_time": "2023-09-30T23:39:00.111098",
     "status": "completed"
    },
    "tags": []
   },
   "outputs": [],
   "source": [
    "import os\n",
    "import pandas as pd\n",
    "from events import load_event_data, get_first_ward, normalise_ward"
   ]
  },
  {
   "cell_type": "code",
   "execution_count": 2,
   "id": "f13a2e8e",
   "metadata": {
    "execution": {
     "iopub.execute_input": "2023-09-30T23:39:10.448327Z",
     "iopub.status.busy": "2023-09-30T23:39:10.448060Z",
     "iopub.status.idle": "2023-09-30T23:39:10.453056Z",
     "shell.execute_reply": "2023-09-30T23:39:10.452408Z"
    },
    "papermill": {
     "duration": 0.010568,
     "end_time": "2023-09-30T23:39:10.454654",
     "exception": false,
     "start_time": "2023-09-30T23:39:10.444086",
     "status": "completed"
    },
    "tags": []
   },
   "outputs": [],
   "source": [
    "latest_date = pd.Timestamp.today().ceil('D')"
   ]
  },
  {
   "cell_type": "code",
   "execution_count": 3,
   "id": "5439dd44",
   "metadata": {
    "execution": {
     "iopub.execute_input": "2023-09-30T23:39:10.460531Z",
     "iopub.status.busy": "2023-09-30T23:39:10.460062Z",
     "iopub.status.idle": "2023-09-30T23:39:10.478861Z",
     "shell.execute_reply": "2023-09-30T23:39:10.478216Z"
    },
    "papermill": {
     "duration": 0.023478,
     "end_time": "2023-09-30T23:39:10.480459",
     "exception": false,
     "start_time": "2023-09-30T23:39:10.456981",
     "status": "completed"
    },
    "tags": []
   },
   "outputs": [],
   "source": [
    "tickets = pd.read_csv('../../../../data/metrics/events/tickets/orders.csv', parse_dates=['created_at', 'event_date'])\n",
    "tickets = tickets[tickets.event_date <= latest_date]"
   ]
  },
  {
   "cell_type": "code",
   "execution_count": 4,
   "id": "ea294440",
   "metadata": {
    "execution": {
     "iopub.execute_input": "2023-09-30T23:39:10.486553Z",
     "iopub.status.busy": "2023-09-30T23:39:10.485983Z",
     "iopub.status.idle": "2023-09-30T23:39:10.726422Z",
     "shell.execute_reply": "2023-09-30T23:39:10.725681Z"
    },
    "papermill": {
     "duration": 0.245629,
     "end_time": "2023-09-30T23:39:10.728470",
     "exception": false,
     "start_time": "2023-09-30T23:39:10.482841",
     "status": "completed"
    },
    "tags": []
   },
   "outputs": [],
   "source": [
    "events = load_event_data()\n",
    "\n",
    "events = pd.concat([\n",
    "  events,\n",
    "  events.pipe(get_first_ward).pipe(normalise_ward).fillna('UNKNOWN'),\n",
    "  pd.Series(\n",
    "      events.actual_audience_size_number_of_participants_in_person + events.actual_audience_size_number_of_participants_online,\n",
    "      name='attendances'\n",
    "  )\n",
    "], axis=1).rename(columns={\n",
    "    'start_date': 'date'\n",
    "}).loc[:, ['ward_code', 'date', 'event_unique_identifier', 'attendances']]"
   ]
  },
  {
   "cell_type": "code",
   "execution_count": 5,
   "id": "8b340de2",
   "metadata": {
    "execution": {
     "iopub.execute_input": "2023-09-30T23:39:10.736154Z",
     "iopub.status.busy": "2023-09-30T23:39:10.735429Z",
     "iopub.status.idle": "2023-09-30T23:39:10.738916Z",
     "shell.execute_reply": "2023-09-30T23:39:10.738371Z"
    },
    "papermill": {
     "duration": 0.008424,
     "end_time": "2023-09-30T23:39:10.740376",
     "exception": false,
     "start_time": "2023-09-30T23:39:10.731952",
     "status": "completed"
    },
    "tags": []
   },
   "outputs": [],
   "source": [
    "OUTPUT_DIR='../../../../docs/metrics/events/signature/_data/'\n",
    "os.makedirs(OUTPUT_DIR, exist_ok=True)"
   ]
  },
  {
   "cell_type": "markdown",
   "id": "7ea2590c",
   "metadata": {
    "papermill": {
     "duration": 0.002486,
     "end_time": "2023-09-30T23:39:10.745282",
     "exception": false,
     "start_time": "2023-09-30T23:39:10.742796",
     "status": "completed"
    },
    "tags": []
   },
   "source": [
    "Events CSVs"
   ]
  },
  {
   "cell_type": "code",
   "execution_count": 6,
   "id": "93a14b5b",
   "metadata": {
    "execution": {
     "iopub.execute_input": "2023-09-30T23:39:10.751414Z",
     "iopub.status.busy": "2023-09-30T23:39:10.750958Z",
     "iopub.status.idle": "2023-09-30T23:39:10.759128Z",
     "shell.execute_reply": "2023-09-30T23:39:10.758532Z"
    },
    "papermill": {
     "duration": 0.012883,
     "end_time": "2023-09-30T23:39:10.760565",
     "exception": false,
     "start_time": "2023-09-30T23:39:10.747682",
     "status": "completed"
    },
    "tags": []
   },
   "outputs": [],
   "source": [
    "pd.DataFrame({\n",
    "  'events': events.groupby('ward_code').event_unique_identifier.count(),\n",
    "  'attendances': events.groupby('ward_code').attendances.sum().astype(int),\n",
    "}).to_csv(os.path.join(OUTPUT_DIR, 'events_by_ward.csv'))\n"
   ]
  },
  {
   "cell_type": "code",
   "execution_count": 7,
   "id": "a1baf208",
   "metadata": {
    "execution": {
     "iopub.execute_input": "2023-09-30T23:39:10.766551Z",
     "iopub.status.busy": "2023-09-30T23:39:10.766326Z",
     "iopub.status.idle": "2023-09-30T23:39:10.776779Z",
     "shell.execute_reply": "2023-09-30T23:39:10.775910Z"
    },
    "papermill": {
     "duration": 0.015367,
     "end_time": "2023-09-30T23:39:10.778358",
     "exception": false,
     "start_time": "2023-09-30T23:39:10.762991",
     "status": "completed"
    },
    "tags": []
   },
   "outputs": [],
   "source": [
    "pd.DataFrame({\n",
    "  'events': events.groupby('date').event_unique_identifier.count(),\n",
    "  'attendances': events.groupby('date').attendances.sum().astype(int),\n",
    "}).resample('M').sum().astype(int).to_csv(os.path.join(OUTPUT_DIR, 'events_by_date.csv'))"
   ]
  },
  {
   "cell_type": "markdown",
   "id": "abb34c8d",
   "metadata": {
    "papermill": {
     "duration": 0.002454,
     "end_time": "2023-09-30T23:39:10.783283",
     "exception": false,
     "start_time": "2023-09-30T23:39:10.780829",
     "status": "completed"
    },
    "tags": []
   },
   "source": [
    "Tickets CSV"
   ]
  },
  {
   "cell_type": "code",
   "execution_count": 8,
   "id": "15d502a3",
   "metadata": {
    "execution": {
     "iopub.execute_input": "2023-09-30T23:39:10.789423Z",
     "iopub.status.busy": "2023-09-30T23:39:10.789001Z",
     "iopub.status.idle": "2023-09-30T23:39:10.796381Z",
     "shell.execute_reply": "2023-09-30T23:39:10.795526Z"
    },
    "papermill": {
     "duration": 0.012228,
     "end_time": "2023-09-30T23:39:10.797953",
     "exception": false,
     "start_time": "2023-09-30T23:39:10.785725",
     "status": "completed"
    },
    "tags": []
   },
   "outputs": [],
   "source": [
    "pd.DataFrame({\n",
    "  'orders': tickets.groupby('ward_code').number_of_tickets.count(),\n",
    "  'tickets': tickets.groupby('ward_code').number_of_tickets.sum().astype(int),\n",
    "}).to_csv(os.path.join(OUTPUT_DIR, 'tickets_by_ward.csv'))"
   ]
  },
  {
   "cell_type": "code",
   "execution_count": 9,
   "id": "a98d841f",
   "metadata": {
    "execution": {
     "iopub.execute_input": "2023-09-30T23:39:10.804099Z",
     "iopub.status.busy": "2023-09-30T23:39:10.803688Z",
     "iopub.status.idle": "2023-09-30T23:39:10.811785Z",
     "shell.execute_reply": "2023-09-30T23:39:10.810988Z"
    },
    "papermill": {
     "duration": 0.013023,
     "end_time": "2023-09-30T23:39:10.813432",
     "exception": false,
     "start_time": "2023-09-30T23:39:10.800409",
     "status": "completed"
    },
    "tags": []
   },
   "outputs": [],
   "source": [
    "pd.DataFrame({\n",
    "  'orders': tickets.groupby('event_date').number_of_tickets.count(),\n",
    "  'tickets': tickets.groupby('event_date').number_of_tickets.sum().astype(int),\n",
    "}).resample('M').sum().to_csv(os.path.join(OUTPUT_DIR, 'tickets_by_event_date.csv'))"
   ]
  },
  {
   "cell_type": "code",
   "execution_count": 10,
   "id": "581d67ae",
   "metadata": {
    "execution": {
     "iopub.execute_input": "2023-09-30T23:39:10.820449Z",
     "iopub.status.busy": "2023-09-30T23:39:10.820063Z",
     "iopub.status.idle": "2023-09-30T23:39:10.825239Z",
     "shell.execute_reply": "2023-09-30T23:39:10.824569Z"
    },
    "papermill": {
     "duration": 0.010824,
     "end_time": "2023-09-30T23:39:10.826739",
     "exception": false,
     "start_time": "2023-09-30T23:39:10.815915",
     "status": "completed"
    },
    "tags": []
   },
   "outputs": [],
   "source": [
    "pd.Series({\n",
    "    'total_events': events.event_unique_identifier.count(),\n",
    "    'total_attendances': events.attendances.count(),\n",
    "    'first_event': events.date.min(),\n",
    "    'latest_event': events.date.max(),\n",
    "    'total_ticket_orders_for_events_to_date': tickets.number_of_tickets.count(),\n",
    "    'total_tickets_sold_for_events_to_date': tickets.number_of_tickets.sum(),\n",
    "}).to_json(os.path.join(OUTPUT_DIR, 'headlines.json'), indent=2)"
   ]
  },
  {
   "cell_type": "code",
   "execution_count": null,
   "id": "4c8ca2a2",
   "metadata": {
    "papermill": {
     "duration": 0.002492,
     "end_time": "2023-09-30T23:39:10.831748",
     "exception": false,
     "start_time": "2023-09-30T23:39:10.829256",
     "status": "completed"
    },
    "tags": []
   },
   "outputs": [],
   "source": []
  }
 ],
 "metadata": {
  "kernelspec": {
   "display_name": "leeds-2023-YZF5GfJv",
   "language": "python",
   "name": "python3"
  },
  "language_info": {
   "codemirror_mode": {
    "name": "ipython",
    "version": 3
   },
   "file_extension": ".py",
   "mimetype": "text/x-python",
   "name": "python",
   "nbconvert_exporter": "python",
   "pygments_lexer": "ipython3",
   "version": "3.10.13"
  },
  "papermill": {
   "default_parameters": {},
   "duration": 12.411099,
   "end_time": "2023-09-30T23:39:11.151823",
   "environment_variables": {},
   "exception": null,
   "input_path": "prepare.ipynb",
   "output_path": "../../../../working/output/signature-prepare.ipynb",
   "parameters": {},
   "start_time": "2023-09-30T23:38:58.740724",
   "version": "2.4.0"
  }
 },
 "nbformat": 4,
 "nbformat_minor": 5
}