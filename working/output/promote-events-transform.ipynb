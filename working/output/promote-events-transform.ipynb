{
 "cells": [
  {
   "cell_type": "code",
   "execution_count": 1,
   "id": "7c37b274",
   "metadata": {
    "execution": {
     "iopub.execute_input": "2023-09-15T23:41:37.317806Z",
     "iopub.status.busy": "2023-09-15T23:41:37.317241Z",
     "iopub.status.idle": "2023-09-15T23:41:37.660720Z",
     "shell.execute_reply": "2023-09-15T23:41:37.659569Z"
    },
    "papermill": {
     "duration": 0.350013,
     "end_time": "2023-09-15T23:41:37.663302",
     "exception": false,
     "start_time": "2023-09-15T23:41:37.313289",
     "status": "completed"
    },
    "tags": []
   },
   "outputs": [],
   "source": [
    "import os\n",
    "import pandas as pd"
   ]
  },
  {
   "cell_type": "code",
   "execution_count": 2,
   "id": "101c43c1",
   "metadata": {
    "execution": {
     "iopub.execute_input": "2023-09-15T23:41:37.669311Z",
     "iopub.status.busy": "2023-09-15T23:41:37.668930Z",
     "iopub.status.idle": "2023-09-15T23:41:37.674643Z",
     "shell.execute_reply": "2023-09-15T23:41:37.673741Z"
    },
    "papermill": {
     "duration": 0.010908,
     "end_time": "2023-09-15T23:41:37.676657",
     "exception": false,
     "start_time": "2023-09-15T23:41:37.665749",
     "status": "completed"
    },
    "tags": []
   },
   "outputs": [],
   "source": [
    "EVENTS_RAW_DATA = '../../../working/metrics/promote-events/events.csv'\n",
    "DATA_DIR = '../../../data/metrics/events/promote-events/'\n",
    "EVENTS_DATA = os.path.join(DATA_DIR, 'events.csv')"
   ]
  },
  {
   "cell_type": "code",
   "execution_count": 3,
   "id": "1fcb48c3",
   "metadata": {
    "execution": {
     "iopub.execute_input": "2023-09-15T23:41:37.681208Z",
     "iopub.status.busy": "2023-09-15T23:41:37.680923Z",
     "iopub.status.idle": "2023-09-15T23:41:37.687426Z",
     "shell.execute_reply": "2023-09-15T23:41:37.686475Z"
    },
    "papermill": {
     "duration": 0.011262,
     "end_time": "2023-09-15T23:41:37.689581",
     "exception": false,
     "start_time": "2023-09-15T23:41:37.678319",
     "status": "completed"
    },
    "tags": []
   },
   "outputs": [],
   "source": [
    "columns = {\n",
    "    'id': 'id',\n",
    "    'name': 'name',\n",
    "    'locationName': 'location',\n",
    "    'cardPrice': 'card_price',\n",
    "    'timeslots': 'time',\n",
    "    # 'displayOnWebsite': 'display',\n",
    "    'Stage': 'stage',\n",
    "}"
   ]
  },
  {
   "cell_type": "code",
   "execution_count": 4,
   "id": "c8dd0ab5",
   "metadata": {
    "execution": {
     "iopub.execute_input": "2023-09-15T23:41:37.694495Z",
     "iopub.status.busy": "2023-09-15T23:41:37.693834Z",
     "iopub.status.idle": "2023-09-15T23:41:37.707624Z",
     "shell.execute_reply": "2023-09-15T23:41:37.706681Z"
    },
    "papermill": {
     "duration": 0.018434,
     "end_time": "2023-09-15T23:41:37.709679",
     "exception": false,
     "start_time": "2023-09-15T23:41:37.691245",
     "status": "completed"
    },
    "tags": []
   },
   "outputs": [],
   "source": [
    "data = pd.read_csv(EVENTS_RAW_DATA)[columns.keys()].rename(columns=columns)\n",
    "data.time = pd.to_datetime(data.time, errors='coerce')"
   ]
  },
  {
   "cell_type": "code",
   "execution_count": 5,
   "id": "24e6b0b1",
   "metadata": {
    "execution": {
     "iopub.execute_input": "2023-09-15T23:41:37.714892Z",
     "iopub.status.busy": "2023-09-15T23:41:37.714622Z",
     "iopub.status.idle": "2023-09-15T23:41:37.721771Z",
     "shell.execute_reply": "2023-09-15T23:41:37.720860Z"
    },
    "papermill": {
     "duration": 0.012234,
     "end_time": "2023-09-15T23:41:37.723711",
     "exception": false,
     "start_time": "2023-09-15T23:41:37.711477",
     "status": "completed"
    },
    "tags": []
   },
   "outputs": [],
   "source": [
    "data.to_csv(os.path.join(DATA_DIR, 'events.csv'), index=False)"
   ]
  }
 ],
 "metadata": {
  "kernelspec": {
   "display_name": "leeds-2023-YZF5GfJv",
   "language": "python",
   "name": "python3"
  },
  "language_info": {
   "codemirror_mode": {
    "name": "ipython",
    "version": 3
   },
   "file_extension": ".py",
   "mimetype": "text/x-python",
   "name": "python",
   "nbconvert_exporter": "python",
   "pygments_lexer": "ipython3",
   "version": "3.10.13"
  },
  "papermill": {
   "default_parameters": {},
   "duration": 2.433448,
   "end_time": "2023-09-15T23:41:37.947321",
   "environment_variables": {},
   "exception": null,
   "input_path": "transform.ipynb",
   "output_path": "../../../working/output/promote-events-transform.ipynb",
   "parameters": {},
   "start_time": "2023-09-15T23:41:35.513873",
   "version": "2.4.0"
  }
 },
 "nbformat": 4,
 "nbformat_minor": 5
}