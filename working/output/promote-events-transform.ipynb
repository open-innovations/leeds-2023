{
 "cells": [
  {
   "cell_type": "code",
   "execution_count": 1,
   "id": "6e8902aa",
   "metadata": {
    "execution": {
     "iopub.execute_input": "2023-09-25T23:40:22.301890Z",
     "iopub.status.busy": "2023-09-25T23:40:22.300892Z",
     "iopub.status.idle": "2023-09-25T23:40:22.592506Z",
     "shell.execute_reply": "2023-09-25T23:40:22.591255Z"
    },
    "papermill": {
     "duration": 0.299595,
     "end_time": "2023-09-25T23:40:22.594623",
     "exception": false,
     "start_time": "2023-09-25T23:40:22.295028",
     "status": "completed"
    },
    "tags": []
   },
   "outputs": [],
   "source": [
    "import os\n",
    "import pandas as pd"
   ]
  },
  {
   "cell_type": "code",
   "execution_count": 2,
   "id": "2e18dc3d",
   "metadata": {
    "execution": {
     "iopub.execute_input": "2023-09-25T23:40:22.600307Z",
     "iopub.status.busy": "2023-09-25T23:40:22.599570Z",
     "iopub.status.idle": "2023-09-25T23:40:22.603792Z",
     "shell.execute_reply": "2023-09-25T23:40:22.603005Z"
    },
    "papermill": {
     "duration": 0.008785,
     "end_time": "2023-09-25T23:40:22.605322",
     "exception": false,
     "start_time": "2023-09-25T23:40:22.596537",
     "status": "completed"
    },
    "tags": []
   },
   "outputs": [],
   "source": [
    "EVENTS_RAW_DATA = '../../../working/metrics/promote-events/events.csv'\n",
    "DATA_DIR = '../../../data/metrics/events/promote-events/'\n",
    "EVENTS_DATA = os.path.join(DATA_DIR, 'events.csv')"
   ]
  },
  {
   "cell_type": "code",
   "execution_count": 3,
   "id": "9ea2e174",
   "metadata": {
    "execution": {
     "iopub.execute_input": "2023-09-25T23:40:22.610057Z",
     "iopub.status.busy": "2023-09-25T23:40:22.609396Z",
     "iopub.status.idle": "2023-09-25T23:40:22.613923Z",
     "shell.execute_reply": "2023-09-25T23:40:22.613274Z"
    },
    "papermill": {
     "duration": 0.008592,
     "end_time": "2023-09-25T23:40:22.615558",
     "exception": false,
     "start_time": "2023-09-25T23:40:22.606966",
     "status": "completed"
    },
    "tags": []
   },
   "outputs": [],
   "source": [
    "columns = {\n",
    "    'id': 'id',\n",
    "    'name': 'name',\n",
    "    'locationName': 'location',\n",
    "    'cardPrice': 'card_price',\n",
    "    'timeslots': 'time',\n",
    "    # 'displayOnWebsite': 'display',\n",
    "    'Stage': 'stage',\n",
    "}"
   ]
  },
  {
   "cell_type": "code",
   "execution_count": 4,
   "id": "d0bb9899",
   "metadata": {
    "execution": {
     "iopub.execute_input": "2023-09-25T23:40:22.620298Z",
     "iopub.status.busy": "2023-09-25T23:40:22.619655Z",
     "iopub.status.idle": "2023-09-25T23:40:22.632132Z",
     "shell.execute_reply": "2023-09-25T23:40:22.631493Z"
    },
    "papermill": {
     "duration": 0.01654,
     "end_time": "2023-09-25T23:40:22.633699",
     "exception": false,
     "start_time": "2023-09-25T23:40:22.617159",
     "status": "completed"
    },
    "tags": []
   },
   "outputs": [],
   "source": [
    "data = pd.read_csv(EVENTS_RAW_DATA)[columns.keys()].rename(columns=columns)\n",
    "data.time = pd.to_datetime(data.time, errors='coerce')"
   ]
  },
  {
   "cell_type": "code",
   "execution_count": 5,
   "id": "b600aae1",
   "metadata": {
    "execution": {
     "iopub.execute_input": "2023-09-25T23:40:22.638418Z",
     "iopub.status.busy": "2023-09-25T23:40:22.637959Z",
     "iopub.status.idle": "2023-09-25T23:40:22.644658Z",
     "shell.execute_reply": "2023-09-25T23:40:22.643961Z"
    },
    "papermill": {
     "duration": 0.01133,
     "end_time": "2023-09-25T23:40:22.646569",
     "exception": false,
     "start_time": "2023-09-25T23:40:22.635239",
     "status": "completed"
    },
    "tags": []
   },
   "outputs": [],
   "source": [
    "data.to_csv(os.path.join(DATA_DIR, 'events.csv'), index=False)"
   ]
  }
 ],
 "metadata": {
  "kernelspec": {
   "display_name": "leeds-2023-YZF5GfJv",
   "language": "python",
   "name": "python3"
  },
  "language_info": {
   "codemirror_mode": {
    "name": "ipython",
    "version": 3
   },
   "file_extension": ".py",
   "mimetype": "text/x-python",
   "name": "python",
   "nbconvert_exporter": "python",
   "pygments_lexer": "ipython3",
   "version": "3.10.13"
  },
  "papermill": {
   "default_parameters": {},
   "duration": 2.098853,
   "end_time": "2023-09-25T23:40:22.867387",
   "environment_variables": {},
   "exception": null,
   "input_path": "transform.ipynb",
   "output_path": "../../../working/output/promote-events-transform.ipynb",
   "parameters": {},
   "start_time": "2023-09-25T23:40:20.768534",
   "version": "2.4.0"
  }
 },
 "nbformat": 4,
 "nbformat_minor": 5
}