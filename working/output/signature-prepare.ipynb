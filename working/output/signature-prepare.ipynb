{
 "cells": [
  {
   "cell_type": "code",
   "execution_count": 1,
   "id": "87abf43b",
   "metadata": {
    "execution": {
     "iopub.execute_input": "2023-07-27T15:44:49.353147Z",
     "iopub.status.busy": "2023-07-27T15:44:49.352562Z",
     "iopub.status.idle": "2023-07-27T15:44:54.107753Z",
     "shell.execute_reply": "2023-07-27T15:44:54.107327Z"
    },
    "papermill": {
     "duration": 4.762372,
     "end_time": "2023-07-27T15:44:54.108853",
     "exception": false,
     "start_time": "2023-07-27T15:44:49.346481",
     "status": "completed"
    },
    "tags": []
   },
   "outputs": [],
   "source": [
    "import os\n",
    "import pandas as pd\n",
    "from events import load_event_data, get_first_ward, normalise_ward"
   ]
  },
  {
   "cell_type": "code",
   "execution_count": 2,
   "id": "35898e86",
   "metadata": {
    "execution": {
     "iopub.execute_input": "2023-07-27T15:44:54.111903Z",
     "iopub.status.busy": "2023-07-27T15:44:54.111737Z",
     "iopub.status.idle": "2023-07-27T15:44:54.114222Z",
     "shell.execute_reply": "2023-07-27T15:44:54.113919Z"
    },
    "papermill": {
     "duration": 0.004718,
     "end_time": "2023-07-27T15:44:54.114835",
     "exception": false,
     "start_time": "2023-07-27T15:44:54.110117",
     "status": "completed"
    },
    "tags": []
   },
   "outputs": [],
   "source": [
    "latest_date = pd.Timestamp.today().ceil('D')"
   ]
  },
  {
   "cell_type": "code",
   "execution_count": 3,
   "id": "ba8c83ae",
   "metadata": {
    "execution": {
     "iopub.execute_input": "2023-07-27T15:44:54.117522Z",
     "iopub.status.busy": "2023-07-27T15:44:54.117242Z",
     "iopub.status.idle": "2023-07-27T15:44:54.125130Z",
     "shell.execute_reply": "2023-07-27T15:44:54.124793Z"
    },
    "papermill": {
     "duration": 0.010041,
     "end_time": "2023-07-27T15:44:54.125925",
     "exception": false,
     "start_time": "2023-07-27T15:44:54.115884",
     "status": "completed"
    },
    "tags": []
   },
   "outputs": [],
   "source": [
    "tickets = pd.read_csv('../../../../data/metrics/events/tickets/orders.csv', parse_dates=['created_at', 'event_date'])\n",
    "tickets = tickets[tickets.event_date <= latest_date]"
   ]
  },
  {
   "cell_type": "code",
   "execution_count": 4,
   "id": "957e4dbe",
   "metadata": {
    "execution": {
     "iopub.execute_input": "2023-07-27T15:44:54.128709Z",
     "iopub.status.busy": "2023-07-27T15:44:54.128558Z",
     "iopub.status.idle": "2023-07-27T15:44:54.197978Z",
     "shell.execute_reply": "2023-07-27T15:44:54.197526Z"
    },
    "papermill": {
     "duration": 0.071805,
     "end_time": "2023-07-27T15:44:54.198879",
     "exception": false,
     "start_time": "2023-07-27T15:44:54.127074",
     "status": "completed"
    },
    "tags": []
   },
   "outputs": [],
   "source": [
    "events = load_event_data()\n",
    "\n",
    "events = pd.concat([\n",
    "  events,\n",
    "  events.pipe(get_first_ward).pipe(normalise_ward).fillna('UNKNOWN'),\n",
    "  pd.Series(\n",
    "      events.actual_audience_size_number_of_participants_in_person + events.actual_audience_size_number_of_participants_online,\n",
    "      name='attendances'\n",
    "  )\n",
    "], axis=1).rename(columns={\n",
    "    'start_date': 'date'\n",
    "}).loc[:, ['ward_code', 'date', 'event_unique_identifier', 'attendances']]"
   ]
  },
  {
   "cell_type": "code",
   "execution_count": 5,
   "id": "20958c3c",
   "metadata": {
    "execution": {
     "iopub.execute_input": "2023-07-27T15:44:54.201686Z",
     "iopub.status.busy": "2023-07-27T15:44:54.201529Z",
     "iopub.status.idle": "2023-07-27T15:44:54.203423Z",
     "shell.execute_reply": "2023-07-27T15:44:54.203177Z"
    },
    "papermill": {
     "duration": 0.003988,
     "end_time": "2023-07-27T15:44:54.204017",
     "exception": false,
     "start_time": "2023-07-27T15:44:54.200029",
     "status": "completed"
    },
    "tags": []
   },
   "outputs": [],
   "source": [
    "OUTPUT_DIR='../../../../docs/metrics/events/signature/_data/'\n",
    "os.makedirs(OUTPUT_DIR, exist_ok=True)"
   ]
  },
  {
   "cell_type": "markdown",
   "id": "7c6a7d17",
   "metadata": {
    "papermill": {
     "duration": 0.000979,
     "end_time": "2023-07-27T15:44:54.206036",
     "exception": false,
     "start_time": "2023-07-27T15:44:54.205057",
     "status": "completed"
    },
    "tags": []
   },
   "source": [
    "Events CSVs"
   ]
  },
  {
   "cell_type": "code",
   "execution_count": 6,
   "id": "53cdd524",
   "metadata": {
    "execution": {
     "iopub.execute_input": "2023-07-27T15:44:54.208630Z",
     "iopub.status.busy": "2023-07-27T15:44:54.208414Z",
     "iopub.status.idle": "2023-07-27T15:44:54.212085Z",
     "shell.execute_reply": "2023-07-27T15:44:54.211776Z"
    },
    "papermill": {
     "duration": 0.005638,
     "end_time": "2023-07-27T15:44:54.212705",
     "exception": false,
     "start_time": "2023-07-27T15:44:54.207067",
     "status": "completed"
    },
    "tags": []
   },
   "outputs": [],
   "source": [
    "pd.DataFrame({\n",
    "  'events': events.groupby('ward_code').event_unique_identifier.count(),\n",
    "  'attendances': events.groupby('ward_code').attendances.sum().astype(int),\n",
    "}).to_csv(os.path.join(OUTPUT_DIR, 'events_by_ward.csv'))\n"
   ]
  },
  {
   "cell_type": "code",
   "execution_count": 7,
   "id": "26f537a9",
   "metadata": {
    "execution": {
     "iopub.execute_input": "2023-07-27T15:44:54.215497Z",
     "iopub.status.busy": "2023-07-27T15:44:54.215333Z",
     "iopub.status.idle": "2023-07-27T15:44:54.221194Z",
     "shell.execute_reply": "2023-07-27T15:44:54.220850Z"
    },
    "papermill": {
     "duration": 0.007997,
     "end_time": "2023-07-27T15:44:54.221868",
     "exception": false,
     "start_time": "2023-07-27T15:44:54.213871",
     "status": "completed"
    },
    "tags": []
   },
   "outputs": [],
   "source": [
    "pd.DataFrame({\n",
    "  'events': events.groupby('date').event_unique_identifier.count(),\n",
    "  'attendances': events.groupby('date').attendances.sum().astype(int),\n",
    "}).resample('M').sum().astype(int).to_csv(os.path.join(OUTPUT_DIR, 'events_by_date.csv'))"
   ]
  },
  {
   "cell_type": "markdown",
   "id": "afa69220",
   "metadata": {
    "papermill": {
     "duration": 0.001059,
     "end_time": "2023-07-27T15:44:54.224072",
     "exception": false,
     "start_time": "2023-07-27T15:44:54.223013",
     "status": "completed"
    },
    "tags": []
   },
   "source": [
    "Tickets CSV"
   ]
  },
  {
   "cell_type": "code",
   "execution_count": 8,
   "id": "5bc7c50c",
   "metadata": {
    "execution": {
     "iopub.execute_input": "2023-07-27T15:44:54.226798Z",
     "iopub.status.busy": "2023-07-27T15:44:54.226682Z",
     "iopub.status.idle": "2023-07-27T15:44:54.230434Z",
     "shell.execute_reply": "2023-07-27T15:44:54.230118Z"
    },
    "papermill": {
     "duration": 0.005842,
     "end_time": "2023-07-27T15:44:54.231073",
     "exception": false,
     "start_time": "2023-07-27T15:44:54.225231",
     "status": "completed"
    },
    "tags": []
   },
   "outputs": [],
   "source": [
    "pd.DataFrame({\n",
    "  'orders': tickets.groupby('ward_code').number_of_tickets.count(),\n",
    "  'tickets': tickets.groupby('ward_code').number_of_tickets.sum().astype(int),\n",
    "}).to_csv(os.path.join(OUTPUT_DIR, 'tickets_by_ward.csv'))"
   ]
  },
  {
   "cell_type": "code",
   "execution_count": 9,
   "id": "78658e7d",
   "metadata": {
    "execution": {
     "iopub.execute_input": "2023-07-27T15:44:54.233710Z",
     "iopub.status.busy": "2023-07-27T15:44:54.233601Z",
     "iopub.status.idle": "2023-07-27T15:44:54.238079Z",
     "shell.execute_reply": "2023-07-27T15:44:54.237767Z"
    },
    "papermill": {
     "duration": 0.006679,
     "end_time": "2023-07-27T15:44:54.238855",
     "exception": false,
     "start_time": "2023-07-27T15:44:54.232176",
     "status": "completed"
    },
    "tags": []
   },
   "outputs": [],
   "source": [
    "pd.DataFrame({\n",
    "  'orders': tickets.groupby('event_date').number_of_tickets.count(),\n",
    "  'tickets': tickets.groupby('event_date').number_of_tickets.sum().astype(int),\n",
    "}).resample('M').sum().to_csv(os.path.join(OUTPUT_DIR, 'tickets_by_event_date.csv'))"
   ]
  },
  {
   "cell_type": "code",
   "execution_count": 10,
   "id": "f3437e50",
   "metadata": {
    "execution": {
     "iopub.execute_input": "2023-07-27T15:44:54.241640Z",
     "iopub.status.busy": "2023-07-27T15:44:54.241439Z",
     "iopub.status.idle": "2023-07-27T15:44:54.244232Z",
     "shell.execute_reply": "2023-07-27T15:44:54.243926Z"
    },
    "papermill": {
     "duration": 0.005,
     "end_time": "2023-07-27T15:44:54.244991",
     "exception": false,
     "start_time": "2023-07-27T15:44:54.239991",
     "status": "completed"
    },
    "tags": []
   },
   "outputs": [],
   "source": [
    "pd.Series({\n",
    "    'total_events': events.event_unique_identifier.count(),\n",
    "    'total_attendances': events.attendances.count(),\n",
    "    'first_event': events.date.min(),\n",
    "    'latest_event': events.date.max(),\n",
    "    'total_ticket_orders_for_events_to_date': tickets.number_of_tickets.count(),\n",
    "    'total_tickets_sold_for_events_to_date': tickets.number_of_tickets.sum(),\n",
    "}).to_json(os.path.join(OUTPUT_DIR, 'headlines.json'), indent=2)"
   ]
  },
  {
   "cell_type": "code",
   "execution_count": null,
   "id": "34dfd1ee",
   "metadata": {
    "papermill": {
     "duration": 0.001083,
     "end_time": "2023-07-27T15:44:54.247229",
     "exception": false,
     "start_time": "2023-07-27T15:44:54.246146",
     "status": "completed"
    },
    "tags": []
   },
   "outputs": [],
   "source": []
  }
 ],
 "metadata": {
  "kernelspec": {
   "display_name": "leeds-2023-YZF5GfJv",
   "language": "python",
   "name": "python3"
  },
  "language_info": {
   "codemirror_mode": {
    "name": "ipython",
    "version": 3
   },
   "file_extension": ".py",
   "mimetype": "text/x-python",
   "name": "python",
   "nbconvert_exporter": "python",
   "pygments_lexer": "ipython3",
   "version": "3.10.6"
  },
  "papermill": {
   "default_parameters": {},
   "duration": 5.972341,
   "end_time": "2023-07-27T15:44:54.463436",
   "environment_variables": {},
   "exception": null,
   "input_path": "prepare.ipynb",
   "output_path": "../../../../working/output/signature-prepare.ipynb",
   "parameters": {},
   "start_time": "2023-07-27T15:44:48.491095",
   "version": "2.4.0"
  }
 },
 "nbformat": 4,
 "nbformat_minor": 5
}