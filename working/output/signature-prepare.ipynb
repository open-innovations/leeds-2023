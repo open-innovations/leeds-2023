{
 "cells": [
  {
   "cell_type": "code",
   "execution_count": 1,
   "id": "5d5dc822",
   "metadata": {
    "execution": {
     "iopub.execute_input": "2023-09-15T23:40:33.557064Z",
     "iopub.status.busy": "2023-09-15T23:40:33.556120Z",
     "iopub.status.idle": "2023-09-15T23:40:47.080077Z",
     "shell.execute_reply": "2023-09-15T23:40:47.078921Z"
    },
    "papermill": {
     "duration": 13.532058,
     "end_time": "2023-09-15T23:40:47.082598",
     "exception": false,
     "start_time": "2023-09-15T23:40:33.550540",
     "status": "completed"
    },
    "tags": []
   },
   "outputs": [],
   "source": [
    "import os\n",
    "import pandas as pd\n",
    "from events import load_event_data, get_first_ward, normalise_ward"
   ]
  },
  {
   "cell_type": "code",
   "execution_count": 2,
   "id": "2f7f2a28",
   "metadata": {
    "execution": {
     "iopub.execute_input": "2023-09-15T23:40:47.090869Z",
     "iopub.status.busy": "2023-09-15T23:40:47.090570Z",
     "iopub.status.idle": "2023-09-15T23:40:47.096642Z",
     "shell.execute_reply": "2023-09-15T23:40:47.095724Z"
    },
    "papermill": {
     "duration": 0.012712,
     "end_time": "2023-09-15T23:40:47.098667",
     "exception": false,
     "start_time": "2023-09-15T23:40:47.085955",
     "status": "completed"
    },
    "tags": []
   },
   "outputs": [],
   "source": [
    "latest_date = pd.Timestamp.today().ceil('D')"
   ]
  },
  {
   "cell_type": "code",
   "execution_count": 3,
   "id": "a00bec9b",
   "metadata": {
    "execution": {
     "iopub.execute_input": "2023-09-15T23:40:47.108518Z",
     "iopub.status.busy": "2023-09-15T23:40:47.108161Z",
     "iopub.status.idle": "2023-09-15T23:40:47.131134Z",
     "shell.execute_reply": "2023-09-15T23:40:47.129881Z"
    },
    "papermill": {
     "duration": 0.029846,
     "end_time": "2023-09-15T23:40:47.133459",
     "exception": false,
     "start_time": "2023-09-15T23:40:47.103613",
     "status": "completed"
    },
    "tags": []
   },
   "outputs": [],
   "source": [
    "tickets = pd.read_csv('../../../../data/metrics/events/tickets/orders.csv', parse_dates=['created_at', 'event_date'])\n",
    "tickets = tickets[tickets.event_date <= latest_date]"
   ]
  },
  {
   "cell_type": "code",
   "execution_count": 4,
   "id": "ba6afcdb",
   "metadata": {
    "execution": {
     "iopub.execute_input": "2023-09-15T23:40:47.141144Z",
     "iopub.status.busy": "2023-09-15T23:40:47.140806Z",
     "iopub.status.idle": "2023-09-15T23:40:47.459178Z",
     "shell.execute_reply": "2023-09-15T23:40:47.458110Z"
    },
    "papermill": {
     "duration": 0.32514,
     "end_time": "2023-09-15T23:40:47.461799",
     "exception": false,
     "start_time": "2023-09-15T23:40:47.136659",
     "status": "completed"
    },
    "tags": []
   },
   "outputs": [],
   "source": [
    "events = load_event_data()\n",
    "\n",
    "events = pd.concat([\n",
    "  events,\n",
    "  events.pipe(get_first_ward).pipe(normalise_ward).fillna('UNKNOWN'),\n",
    "  pd.Series(\n",
    "      events.actual_audience_size_number_of_participants_in_person + events.actual_audience_size_number_of_participants_online,\n",
    "      name='attendances'\n",
    "  )\n",
    "], axis=1).rename(columns={\n",
    "    'start_date': 'date'\n",
    "}).loc[:, ['ward_code', 'date', 'event_unique_identifier', 'attendances']]"
   ]
  },
  {
   "cell_type": "code",
   "execution_count": 5,
   "id": "86261a11",
   "metadata": {
    "execution": {
     "iopub.execute_input": "2023-09-15T23:40:47.470084Z",
     "iopub.status.busy": "2023-09-15T23:40:47.469787Z",
     "iopub.status.idle": "2023-09-15T23:40:47.475303Z",
     "shell.execute_reply": "2023-09-15T23:40:47.474419Z"
    },
    "papermill": {
     "duration": 0.01178,
     "end_time": "2023-09-15T23:40:47.477183",
     "exception": false,
     "start_time": "2023-09-15T23:40:47.465403",
     "status": "completed"
    },
    "tags": []
   },
   "outputs": [],
   "source": [
    "OUTPUT_DIR='../../../../docs/metrics/events/signature/_data/'\n",
    "os.makedirs(OUTPUT_DIR, exist_ok=True)"
   ]
  },
  {
   "cell_type": "markdown",
   "id": "f9d51aa9",
   "metadata": {
    "papermill": {
     "duration": 0.003019,
     "end_time": "2023-09-15T23:40:47.483262",
     "exception": false,
     "start_time": "2023-09-15T23:40:47.480243",
     "status": "completed"
    },
    "tags": []
   },
   "source": [
    "Events CSVs"
   ]
  },
  {
   "cell_type": "code",
   "execution_count": 6,
   "id": "7838844f",
   "metadata": {
    "execution": {
     "iopub.execute_input": "2023-09-15T23:40:47.490592Z",
     "iopub.status.busy": "2023-09-15T23:40:47.490101Z",
     "iopub.status.idle": "2023-09-15T23:40:47.500673Z",
     "shell.execute_reply": "2023-09-15T23:40:47.499768Z"
    },
    "papermill": {
     "duration": 0.016514,
     "end_time": "2023-09-15T23:40:47.502709",
     "exception": false,
     "start_time": "2023-09-15T23:40:47.486195",
     "status": "completed"
    },
    "tags": []
   },
   "outputs": [],
   "source": [
    "pd.DataFrame({\n",
    "  'events': events.groupby('ward_code').event_unique_identifier.count(),\n",
    "  'attendances': events.groupby('ward_code').attendances.sum().astype(int),\n",
    "}).to_csv(os.path.join(OUTPUT_DIR, 'events_by_ward.csv'))\n"
   ]
  },
  {
   "cell_type": "code",
   "execution_count": 7,
   "id": "e867cf90",
   "metadata": {
    "execution": {
     "iopub.execute_input": "2023-09-15T23:40:47.510398Z",
     "iopub.status.busy": "2023-09-15T23:40:47.509828Z",
     "iopub.status.idle": "2023-09-15T23:40:47.524974Z",
     "shell.execute_reply": "2023-09-15T23:40:47.524131Z"
    },
    "papermill": {
     "duration": 0.021188,
     "end_time": "2023-09-15T23:40:47.527007",
     "exception": false,
     "start_time": "2023-09-15T23:40:47.505819",
     "status": "completed"
    },
    "tags": []
   },
   "outputs": [],
   "source": [
    "pd.DataFrame({\n",
    "  'events': events.groupby('date').event_unique_identifier.count(),\n",
    "  'attendances': events.groupby('date').attendances.sum().astype(int),\n",
    "}).resample('M').sum().astype(int).to_csv(os.path.join(OUTPUT_DIR, 'events_by_date.csv'))"
   ]
  },
  {
   "cell_type": "markdown",
   "id": "0ffee600",
   "metadata": {
    "papermill": {
     "duration": 0.002992,
     "end_time": "2023-09-15T23:40:47.533108",
     "exception": false,
     "start_time": "2023-09-15T23:40:47.530116",
     "status": "completed"
    },
    "tags": []
   },
   "source": [
    "Tickets CSV"
   ]
  },
  {
   "cell_type": "code",
   "execution_count": 8,
   "id": "bae66bfa",
   "metadata": {
    "execution": {
     "iopub.execute_input": "2023-09-15T23:40:47.541480Z",
     "iopub.status.busy": "2023-09-15T23:40:47.540629Z",
     "iopub.status.idle": "2023-09-15T23:40:47.551304Z",
     "shell.execute_reply": "2023-09-15T23:40:47.550135Z"
    },
    "papermill": {
     "duration": 0.017039,
     "end_time": "2023-09-15T23:40:47.553719",
     "exception": false,
     "start_time": "2023-09-15T23:40:47.536680",
     "status": "completed"
    },
    "tags": []
   },
   "outputs": [],
   "source": [
    "pd.DataFrame({\n",
    "  'orders': tickets.groupby('ward_code').number_of_tickets.count(),\n",
    "  'tickets': tickets.groupby('ward_code').number_of_tickets.sum().astype(int),\n",
    "}).to_csv(os.path.join(OUTPUT_DIR, 'tickets_by_ward.csv'))"
   ]
  },
  {
   "cell_type": "code",
   "execution_count": 9,
   "id": "674f4105",
   "metadata": {
    "execution": {
     "iopub.execute_input": "2023-09-15T23:40:47.561461Z",
     "iopub.status.busy": "2023-09-15T23:40:47.561141Z",
     "iopub.status.idle": "2023-09-15T23:40:47.572315Z",
     "shell.execute_reply": "2023-09-15T23:40:47.571394Z"
    },
    "papermill": {
     "duration": 0.017692,
     "end_time": "2023-09-15T23:40:47.574633",
     "exception": false,
     "start_time": "2023-09-15T23:40:47.556941",
     "status": "completed"
    },
    "tags": []
   },
   "outputs": [],
   "source": [
    "pd.DataFrame({\n",
    "  'orders': tickets.groupby('event_date').number_of_tickets.count(),\n",
    "  'tickets': tickets.groupby('event_date').number_of_tickets.sum().astype(int),\n",
    "}).resample('M').sum().to_csv(os.path.join(OUTPUT_DIR, 'tickets_by_event_date.csv'))"
   ]
  },
  {
   "cell_type": "code",
   "execution_count": 10,
   "id": "009f95d2",
   "metadata": {
    "execution": {
     "iopub.execute_input": "2023-09-15T23:40:47.584295Z",
     "iopub.status.busy": "2023-09-15T23:40:47.583649Z",
     "iopub.status.idle": "2023-09-15T23:40:47.590410Z",
     "shell.execute_reply": "2023-09-15T23:40:47.589579Z"
    },
    "papermill": {
     "duration": 0.014232,
     "end_time": "2023-09-15T23:40:47.592178",
     "exception": false,
     "start_time": "2023-09-15T23:40:47.577946",
     "status": "completed"
    },
    "tags": []
   },
   "outputs": [],
   "source": [
    "pd.Series({\n",
    "    'total_events': events.event_unique_identifier.count(),\n",
    "    'total_attendances': events.attendances.count(),\n",
    "    'first_event': events.date.min(),\n",
    "    'latest_event': events.date.max(),\n",
    "    'total_ticket_orders_for_events_to_date': tickets.number_of_tickets.count(),\n",
    "    'total_tickets_sold_for_events_to_date': tickets.number_of_tickets.sum(),\n",
    "}).to_json(os.path.join(OUTPUT_DIR, 'headlines.json'), indent=2)"
   ]
  },
  {
   "cell_type": "code",
   "execution_count": null,
   "id": "41a356de",
   "metadata": {
    "papermill": {
     "duration": 0.003225,
     "end_time": "2023-09-15T23:40:47.598490",
     "exception": false,
     "start_time": "2023-09-15T23:40:47.595265",
     "status": "completed"
    },
    "tags": []
   },
   "outputs": [],
   "source": []
  }
 ],
 "metadata": {
  "kernelspec": {
   "display_name": "leeds-2023-YZF5GfJv",
   "language": "python",
   "name": "python3"
  },
  "language_info": {
   "codemirror_mode": {
    "name": "ipython",
    "version": 3
   },
   "file_extension": ".py",
   "mimetype": "text/x-python",
   "name": "python",
   "nbconvert_exporter": "python",
   "pygments_lexer": "ipython3",
   "version": "3.10.13"
  },
  "papermill": {
   "default_parameters": {},
   "duration": 16.331138,
   "end_time": "2023-09-15T23:40:48.021711",
   "environment_variables": {},
   "exception": null,
   "input_path": "prepare.ipynb",
   "output_path": "../../../../working/output/signature-prepare.ipynb",
   "parameters": {},
   "start_time": "2023-09-15T23:40:31.690573",
   "version": "2.4.0"
  }
 },
 "nbformat": 4,
 "nbformat_minor": 5
}