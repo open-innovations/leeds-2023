{
 "cells": [
  {
   "cell_type": "code",
   "execution_count": 1,
   "id": "3afc0eb0",
   "metadata": {
    "execution": {
     "iopub.execute_input": "2023-10-20T23:42:02.324836Z",
     "iopub.status.busy": "2023-10-20T23:42:02.324099Z",
     "iopub.status.idle": "2023-10-20T23:42:14.087417Z",
     "shell.execute_reply": "2023-10-20T23:42:14.086633Z"
    },
    "papermill": {
     "duration": 11.770623,
     "end_time": "2023-10-20T23:42:14.089464",
     "exception": false,
     "start_time": "2023-10-20T23:42:02.318841",
     "status": "completed"
    },
    "tags": []
   },
   "outputs": [],
   "source": [
    "import os\n",
    "import pandas as pd\n",
    "from events import load_event_data, get_first_ward, normalise_ward"
   ]
  },
  {
   "cell_type": "code",
   "execution_count": 2,
   "id": "52522659",
   "metadata": {
    "execution": {
     "iopub.execute_input": "2023-10-20T23:42:14.097682Z",
     "iopub.status.busy": "2023-10-20T23:42:14.096123Z",
     "iopub.status.idle": "2023-10-20T23:42:14.101882Z",
     "shell.execute_reply": "2023-10-20T23:42:14.101249Z"
    },
    "papermill": {
     "duration": 0.011143,
     "end_time": "2023-10-20T23:42:14.103499",
     "exception": false,
     "start_time": "2023-10-20T23:42:14.092356",
     "status": "completed"
    },
    "tags": []
   },
   "outputs": [],
   "source": [
    "latest_date = pd.Timestamp.today().ceil('D')"
   ]
  },
  {
   "cell_type": "code",
   "execution_count": 3,
   "id": "c5eda125",
   "metadata": {
    "execution": {
     "iopub.execute_input": "2023-10-20T23:42:14.109806Z",
     "iopub.status.busy": "2023-10-20T23:42:14.109203Z",
     "iopub.status.idle": "2023-10-20T23:42:14.127897Z",
     "shell.execute_reply": "2023-10-20T23:42:14.127155Z"
    },
    "papermill": {
     "duration": 0.023589,
     "end_time": "2023-10-20T23:42:14.129566",
     "exception": false,
     "start_time": "2023-10-20T23:42:14.105977",
     "status": "completed"
    },
    "tags": []
   },
   "outputs": [],
   "source": [
    "tickets = pd.read_csv('../../../../data/metrics/events/tickets/orders.csv', parse_dates=['created_at', 'event_date'])\n",
    "tickets = tickets[tickets.event_date <= latest_date]"
   ]
  },
  {
   "cell_type": "code",
   "execution_count": 4,
   "id": "303f0f1d",
   "metadata": {
    "execution": {
     "iopub.execute_input": "2023-10-20T23:42:14.136291Z",
     "iopub.status.busy": "2023-10-20T23:42:14.135516Z",
     "iopub.status.idle": "2023-10-20T23:42:14.184322Z",
     "shell.execute_reply": "2023-10-20T23:42:14.183559Z"
    },
    "papermill": {
     "duration": 0.054324,
     "end_time": "2023-10-20T23:42:14.186433",
     "exception": false,
     "start_time": "2023-10-20T23:42:14.132109",
     "status": "completed"
    },
    "tags": []
   },
   "outputs": [],
   "source": [
    "events = load_event_data()\n",
    "\n",
    "events = pd.concat([\n",
    "  events,\n",
    "  events.pipe(get_first_ward).pipe(normalise_ward).fillna('UNKNOWN'),\n",
    "  pd.Series(\n",
    "      events.actual_audience_size_number_of_participants_in_person + events.actual_audience_size_number_of_participants_online,\n",
    "      name='attendances'\n",
    "  )\n",
    "], axis=1).rename(columns={\n",
    "    'start_date': 'date'\n",
    "}).loc[:, ['ward_code', 'date', 'event_unique_identifier', 'attendances']]"
   ]
  },
  {
   "cell_type": "code",
   "execution_count": 5,
   "id": "57d44d7d",
   "metadata": {
    "execution": {
     "iopub.execute_input": "2023-10-20T23:42:14.193008Z",
     "iopub.status.busy": "2023-10-20T23:42:14.192545Z",
     "iopub.status.idle": "2023-10-20T23:42:14.196271Z",
     "shell.execute_reply": "2023-10-20T23:42:14.195557Z"
    },
    "papermill": {
     "duration": 0.009016,
     "end_time": "2023-10-20T23:42:14.198108",
     "exception": false,
     "start_time": "2023-10-20T23:42:14.189092",
     "status": "completed"
    },
    "tags": []
   },
   "outputs": [],
   "source": [
    "OUTPUT_DIR='../../../../docs/metrics/events/signature/_data/'\n",
    "os.makedirs(OUTPUT_DIR, exist_ok=True)"
   ]
  },
  {
   "cell_type": "markdown",
   "id": "503561dc",
   "metadata": {
    "papermill": {
     "duration": 0.002812,
     "end_time": "2023-10-20T23:42:14.203590",
     "exception": false,
     "start_time": "2023-10-20T23:42:14.200778",
     "status": "completed"
    },
    "tags": []
   },
   "source": [
    "Events CSVs"
   ]
  },
  {
   "cell_type": "code",
   "execution_count": 6,
   "id": "0430bd24",
   "metadata": {
    "execution": {
     "iopub.execute_input": "2023-10-20T23:42:14.209877Z",
     "iopub.status.busy": "2023-10-20T23:42:14.209363Z",
     "iopub.status.idle": "2023-10-20T23:42:14.218052Z",
     "shell.execute_reply": "2023-10-20T23:42:14.217432Z"
    },
    "papermill": {
     "duration": 0.013677,
     "end_time": "2023-10-20T23:42:14.219676",
     "exception": false,
     "start_time": "2023-10-20T23:42:14.205999",
     "status": "completed"
    },
    "tags": []
   },
   "outputs": [],
   "source": [
    "pd.DataFrame({\n",
    "  'events': events.groupby('ward_code').event_unique_identifier.count(),\n",
    "  'attendances': events.groupby('ward_code').attendances.sum().astype(int),\n",
    "}).to_csv(os.path.join(OUTPUT_DIR, 'events_by_ward.csv'))\n"
   ]
  },
  {
   "cell_type": "code",
   "execution_count": 7,
   "id": "8e2db53a",
   "metadata": {
    "execution": {
     "iopub.execute_input": "2023-10-20T23:42:14.226225Z",
     "iopub.status.busy": "2023-10-20T23:42:14.225766Z",
     "iopub.status.idle": "2023-10-20T23:42:14.236001Z",
     "shell.execute_reply": "2023-10-20T23:42:14.235352Z"
    },
    "papermill": {
     "duration": 0.01548,
     "end_time": "2023-10-20T23:42:14.237682",
     "exception": false,
     "start_time": "2023-10-20T23:42:14.222202",
     "status": "completed"
    },
    "tags": []
   },
   "outputs": [],
   "source": [
    "pd.DataFrame({\n",
    "  'events': events.groupby('date').event_unique_identifier.count(),\n",
    "  'attendances': events.groupby('date').attendances.sum().astype(int),\n",
    "}).resample('M').sum().astype(int).to_csv(os.path.join(OUTPUT_DIR, 'events_by_date.csv'))"
   ]
  },
  {
   "cell_type": "markdown",
   "id": "a9c8710c",
   "metadata": {
    "papermill": {
     "duration": 0.002509,
     "end_time": "2023-10-20T23:42:14.243874",
     "exception": false,
     "start_time": "2023-10-20T23:42:14.241365",
     "status": "completed"
    },
    "tags": []
   },
   "source": [
    "Tickets CSV"
   ]
  },
  {
   "cell_type": "code",
   "execution_count": 8,
   "id": "caa81073",
   "metadata": {
    "execution": {
     "iopub.execute_input": "2023-10-20T23:42:14.250597Z",
     "iopub.status.busy": "2023-10-20T23:42:14.250103Z",
     "iopub.status.idle": "2023-10-20T23:42:14.258005Z",
     "shell.execute_reply": "2023-10-20T23:42:14.257384Z"
    },
    "papermill": {
     "duration": 0.013407,
     "end_time": "2023-10-20T23:42:14.259929",
     "exception": false,
     "start_time": "2023-10-20T23:42:14.246522",
     "status": "completed"
    },
    "tags": []
   },
   "outputs": [],
   "source": [
    "pd.DataFrame({\n",
    "  'orders': tickets.groupby('ward_code').number_of_tickets.count(),\n",
    "  'tickets': tickets.groupby('ward_code').number_of_tickets.sum().astype(int),\n",
    "}).to_csv(os.path.join(OUTPUT_DIR, 'tickets_by_ward.csv'))"
   ]
  },
  {
   "cell_type": "code",
   "execution_count": 9,
   "id": "92ae0e4b",
   "metadata": {
    "execution": {
     "iopub.execute_input": "2023-10-20T23:42:14.266225Z",
     "iopub.status.busy": "2023-10-20T23:42:14.265803Z",
     "iopub.status.idle": "2023-10-20T23:42:14.274554Z",
     "shell.execute_reply": "2023-10-20T23:42:14.273943Z"
    },
    "papermill": {
     "duration": 0.013741,
     "end_time": "2023-10-20T23:42:14.276192",
     "exception": false,
     "start_time": "2023-10-20T23:42:14.262451",
     "status": "completed"
    },
    "tags": []
   },
   "outputs": [],
   "source": [
    "pd.DataFrame({\n",
    "  'orders': tickets.groupby('event_date').number_of_tickets.count(),\n",
    "  'tickets': tickets.groupby('event_date').number_of_tickets.sum().astype(int),\n",
    "}).resample('M').sum().to_csv(os.path.join(OUTPUT_DIR, 'tickets_by_event_date.csv'))"
   ]
  },
  {
   "cell_type": "code",
   "execution_count": 10,
   "id": "2265c013",
   "metadata": {
    "execution": {
     "iopub.execute_input": "2023-10-20T23:42:14.282820Z",
     "iopub.status.busy": "2023-10-20T23:42:14.282357Z",
     "iopub.status.idle": "2023-10-20T23:42:14.287988Z",
     "shell.execute_reply": "2023-10-20T23:42:14.287314Z"
    },
    "papermill": {
     "duration": 0.010745,
     "end_time": "2023-10-20T23:42:14.289579",
     "exception": false,
     "start_time": "2023-10-20T23:42:14.278834",
     "status": "completed"
    },
    "tags": []
   },
   "outputs": [],
   "source": [
    "pd.Series({\n",
    "    'total_events': events.event_unique_identifier.count(),\n",
    "    'total_attendances': events.attendances.count(),\n",
    "    'first_event': events.date.min(),\n",
    "    'latest_event': events.date.max(),\n",
    "    'total_ticket_orders_for_events_to_date': tickets.number_of_tickets.count(),\n",
    "    'total_tickets_sold_for_events_to_date': tickets.number_of_tickets.sum(),\n",
    "}).to_json(os.path.join(OUTPUT_DIR, 'headlines.json'), indent=2)"
   ]
  },
  {
   "cell_type": "code",
   "execution_count": null,
   "id": "4989d1ae",
   "metadata": {
    "papermill": {
     "duration": 0.00254,
     "end_time": "2023-10-20T23:42:14.294675",
     "exception": false,
     "start_time": "2023-10-20T23:42:14.292135",
     "status": "completed"
    },
    "tags": []
   },
   "outputs": [],
   "source": []
  }
 ],
 "metadata": {
  "kernelspec": {
   "display_name": "leeds-2023-YZF5GfJv",
   "language": "python",
   "name": "python3"
  },
  "language_info": {
   "codemirror_mode": {
    "name": "ipython",
    "version": 3
   },
   "file_extension": ".py",
   "mimetype": "text/x-python",
   "name": "python",
   "nbconvert_exporter": "python",
   "pygments_lexer": "ipython3",
   "version": "3.10.13"
  },
  "papermill": {
   "default_parameters": {},
   "duration": 13.999801,
   "end_time": "2023-10-20T23:42:14.715906",
   "environment_variables": {},
   "exception": null,
   "input_path": "prepare.ipynb",
   "output_path": "../../../../working/output/signature-prepare.ipynb",
   "parameters": {},
   "start_time": "2023-10-20T23:42:00.716105",
   "version": "2.4.0"
  }
 },
 "nbformat": 4,
 "nbformat_minor": 5
}