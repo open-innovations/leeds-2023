{
 "cells": [
  {
   "cell_type": "code",
   "execution_count": 1,
   "id": "ed1f5a09",
   "metadata": {
    "execution": {
     "iopub.execute_input": "2023-12-20T19:13:21.804394Z",
     "iopub.status.busy": "2023-12-20T19:13:21.804210Z",
     "iopub.status.idle": "2023-12-20T19:13:21.959085Z",
     "shell.execute_reply": "2023-12-20T19:13:21.958635Z"
    },
    "papermill": {
     "duration": 0.161965,
     "end_time": "2023-12-20T19:13:21.960242",
     "exception": false,
     "start_time": "2023-12-20T19:13:21.798277",
     "status": "completed"
    },
    "tags": []
   },
   "outputs": [],
   "source": [
    "import sys\n",
    "from pathlib import Path\n",
    "\n",
    "import pandas as pd\n",
    "\n",
    "TOP_DIR = Path('../../../..').resolve()\n",
    "\n",
    "if str(TOP_DIR) not in sys.path: sys.path.append(str(TOP_DIR))"
   ]
  },
  {
   "cell_type": "code",
   "execution_count": 2,
   "id": "4b062e15",
   "metadata": {
    "execution": {
     "iopub.execute_input": "2023-12-20T19:13:21.963938Z",
     "iopub.status.busy": "2023-12-20T19:13:21.963747Z",
     "iopub.status.idle": "2023-12-20T19:13:26.622801Z",
     "shell.execute_reply": "2023-12-20T19:13:26.622344Z"
    },
    "papermill": {
     "duration": 4.662126,
     "end_time": "2023-12-20T19:13:26.623883",
     "exception": false,
     "start_time": "2023-12-20T19:13:21.961757",
     "status": "completed"
    },
    "tags": []
   },
   "outputs": [],
   "source": [
    "from lib.util.geo import postcode_formatter, postcode_to_ward_code"
   ]
  },
  {
   "cell_type": "code",
   "execution_count": 3,
   "id": "febb716b",
   "metadata": {
    "execution": {
     "iopub.execute_input": "2023-12-20T19:13:26.627955Z",
     "iopub.status.busy": "2023-12-20T19:13:26.627802Z",
     "iopub.status.idle": "2023-12-20T19:13:26.642029Z",
     "shell.execute_reply": "2023-12-20T19:13:26.641670Z"
    },
    "papermill": {
     "duration": 0.017052,
     "end_time": "2023-12-20T19:13:26.642970",
     "exception": false,
     "start_time": "2023-12-20T19:13:26.625918",
     "status": "completed"
    },
    "tags": []
   },
   "outputs": [],
   "source": [
    "ticket_data = pd.read_csv(\n",
    "    '../../../../working/metrics/ticketing/orders.csv',\n",
    "    parse_dates=['created_at', 'event_date'],\n",
    "    usecols=[\n",
    "        'created_at',\n",
    "        'event_id',\n",
    "        'event_name',\n",
    "        'event_date',\n",
    "        'event_time',\n",
    "        'number_of_tickets',\n",
    "        'postcode_from_question',\n",
    "        'postcode_from_address',\n",
    "        'status',\n",
    "    ]\n",
    ")"
   ]
  },
  {
   "cell_type": "code",
   "execution_count": 4,
   "id": "0fa4e54c",
   "metadata": {
    "execution": {
     "iopub.execute_input": "2023-12-20T19:13:26.672069Z",
     "iopub.status.busy": "2023-12-20T19:13:26.671572Z",
     "iopub.status.idle": "2023-12-20T19:13:26.686782Z",
     "shell.execute_reply": "2023-12-20T19:13:26.685688Z"
    },
    "papermill": {
     "duration": 0.037152,
     "end_time": "2023-12-20T19:13:26.688820",
     "exception": false,
     "start_time": "2023-12-20T19:13:26.651668",
     "status": "completed"
    },
    "tags": []
   },
   "outputs": [
    {
     "name": "stdout",
     "output_type": "stream",
     "text": [
      "<class 'pandas.core.frame.DataFrame'>\n",
      "RangeIndex: 6810 entries, 0 to 6809\n",
      "Data columns (total 9 columns):\n",
      " #   Column                  Non-Null Count  Dtype         \n",
      "---  ------                  --------------  -----         \n",
      " 0   postcode_from_question  6419 non-null   object        \n",
      " 1   postcode_from_address   855 non-null    object        \n",
      " 2   created_at              6810 non-null   datetime64[ns]\n",
      " 3   event_id                6810 non-null   object        \n",
      " 4   event_name              6810 non-null   object        \n",
      " 5   event_date              6810 non-null   datetime64[ns]\n",
      " 6   event_time              6810 non-null   object        \n",
      " 7   number_of_tickets       6810 non-null   int64         \n",
      " 8   status                  6810 non-null   object        \n",
      "dtypes: datetime64[ns](2), int64(1), object(6)\n",
      "memory usage: 479.0+ KB\n"
     ]
    }
   ],
   "source": [
    "ticket_data.info()"
   ]
  },
  {
   "cell_type": "code",
   "execution_count": 5,
   "id": "3de22b33",
   "metadata": {
    "execution": {
     "iopub.execute_input": "2023-12-20T19:13:26.697608Z",
     "iopub.status.busy": "2023-12-20T19:13:26.697418Z",
     "iopub.status.idle": "2023-12-20T19:13:26.705366Z",
     "shell.execute_reply": "2023-12-20T19:13:26.704816Z"
    },
    "papermill": {
     "duration": 0.014763,
     "end_time": "2023-12-20T19:13:26.707070",
     "exception": false,
     "start_time": "2023-12-20T19:13:26.692307",
     "status": "completed"
    },
    "tags": []
   },
   "outputs": [],
   "source": [
    "completed_orders = (\n",
    "    ticket_data.loc[\n",
    "        ~ticket_data.status.isin(['cancelled']),\n",
    "        ticket_data.columns\n",
    "    ]\n",
    ")"
   ]
  },
  {
   "cell_type": "code",
   "execution_count": 6,
   "id": "d8da116f",
   "metadata": {
    "execution": {
     "iopub.execute_input": "2023-12-20T19:13:26.712300Z",
     "iopub.status.busy": "2023-12-20T19:13:26.712124Z",
     "iopub.status.idle": "2023-12-20T19:13:27.347113Z",
     "shell.execute_reply": "2023-12-20T19:13:27.346656Z"
    },
    "papermill": {
     "duration": 0.638537,
     "end_time": "2023-12-20T19:13:27.348262",
     "exception": false,
     "start_time": "2023-12-20T19:13:26.709725",
     "status": "completed"
    },
    "tags": []
   },
   "outputs": [],
   "source": [
    "completed_orders['ward_code'] = (\n",
    "    completed_orders\n",
    "        .loc[:, ['postcode_from_question', 'postcode_from_address']]\n",
    "        .bfill()\n",
    "        .iloc[:, 0]\n",
    "        .pipe(postcode_formatter)\n",
    "        .map(postcode_to_ward_code)\n",
    ")"
   ]
  },
  {
   "cell_type": "markdown",
   "id": "464a88de",
   "metadata": {
    "papermill": {
     "duration": 0.001463,
     "end_time": "2023-12-20T19:13:27.351376",
     "exception": false,
     "start_time": "2023-12-20T19:13:27.349913",
     "status": "completed"
    },
    "tags": []
   },
   "source": [
    "Get the events data"
   ]
  },
  {
   "cell_type": "code",
   "execution_count": 7,
   "id": "4e7aaf9a",
   "metadata": {
    "execution": {
     "iopub.execute_input": "2023-12-20T19:13:27.354844Z",
     "iopub.status.busy": "2023-12-20T19:13:27.354706Z",
     "iopub.status.idle": "2023-12-20T19:13:27.364251Z",
     "shell.execute_reply": "2023-12-20T19:13:27.363893Z"
    },
    "papermill": {
     "duration": 0.012284,
     "end_time": "2023-12-20T19:13:27.365078",
     "exception": false,
     "start_time": "2023-12-20T19:13:27.352794",
     "status": "completed"
    },
    "tags": []
   },
   "outputs": [],
   "source": [
    "def prepare_events(data: pd.DataFrame):\n",
    "    data = data.rename(columns={\n",
    "        'Project name': 'project_name',\n",
    "        'Event type': 'event_type',\n",
    "        'Ticket Tailor ID': 'ticket_tailor_id'\n",
    "    })\n",
    "    data['public_event'] = data.event_type.str.contains('Public Event')\n",
    "    data['ticket_tailor_id'] = data.ticket_tailor_id.str.split(\n",
    "        pat=r'[\\s,]+', regex=True)\n",
    "    data = data.drop(columns=['event_type'])\n",
    "    data = data.explode('ticket_tailor_id')\n",
    "    data = data.loc[data.ticket_tailor_id.notna() & (data.ticket_tailor_id != '')]\n",
    "    return data\n",
    "\n",
    "\n",
    "events = pd.read_csv(\n",
    "    '../../../../working/metrics/events/all.csv',\n",
    "    usecols=[\n",
    "        'Project name',\n",
    "        'Event type',\n",
    "        'Ticket Tailor ID'\n",
    "    ]\n",
    ").pipe(prepare_events)"
   ]
  },
  {
   "cell_type": "markdown",
   "id": "ac4a4480",
   "metadata": {
    "papermill": {
     "duration": 0.001643,
     "end_time": "2023-12-20T19:13:27.368773",
     "exception": false,
     "start_time": "2023-12-20T19:13:27.367130",
     "status": "completed"
    },
    "tags": []
   },
   "source": [
    "Duplicated ticket tailor IDs"
   ]
  },
  {
   "cell_type": "code",
   "execution_count": 8,
   "id": "31da17e8",
   "metadata": {
    "execution": {
     "iopub.execute_input": "2023-12-20T19:13:27.373011Z",
     "iopub.status.busy": "2023-12-20T19:13:27.372844Z",
     "iopub.status.idle": "2023-12-20T19:13:27.381254Z",
     "shell.execute_reply": "2023-12-20T19:13:27.380890Z"
    },
    "papermill": {
     "duration": 0.0117,
     "end_time": "2023-12-20T19:13:27.382270",
     "exception": false,
     "start_time": "2023-12-20T19:13:27.370570",
     "status": "completed"
    },
    "tags": []
   },
   "outputs": [
    {
     "data": {
      "text/html": [
       "<div>\n",
       "<style scoped>\n",
       "    .dataframe tbody tr th:only-of-type {\n",
       "        vertical-align: middle;\n",
       "    }\n",
       "\n",
       "    .dataframe tbody tr th {\n",
       "        vertical-align: top;\n",
       "    }\n",
       "\n",
       "    .dataframe thead th {\n",
       "        text-align: right;\n",
       "    }\n",
       "</style>\n",
       "<table border=\"1\" class=\"dataframe\">\n",
       "  <thead>\n",
       "    <tr style=\"text-align: right;\">\n",
       "      <th></th>\n",
       "      <th>project_name</th>\n",
       "      <th>ticket_tailor_id</th>\n",
       "      <th>public_event</th>\n",
       "    </tr>\n",
       "  </thead>\n",
       "  <tbody>\n",
       "    <tr>\n",
       "      <th>130</th>\n",
       "      <td>11 - All That Lives</td>\n",
       "      <td>985872</td>\n",
       "      <td>True</td>\n",
       "    </tr>\n",
       "    <tr>\n",
       "      <th>149</th>\n",
       "      <td>09 - Smeaton300: Moon Palace East Leeds Observ...</td>\n",
       "      <td>ev_2918127</td>\n",
       "      <td>True</td>\n",
       "    </tr>\n",
       "    <tr>\n",
       "      <th>175</th>\n",
       "      <td>11 - All That Lives</td>\n",
       "      <td>985872</td>\n",
       "      <td>True</td>\n",
       "    </tr>\n",
       "    <tr>\n",
       "      <th>276</th>\n",
       "      <td>Creative Learning S3</td>\n",
       "      <td>ev_3073624</td>\n",
       "      <td>False</td>\n",
       "    </tr>\n",
       "    <tr>\n",
       "      <th>338</th>\n",
       "      <td>11 - All That Lives</td>\n",
       "      <td>985872</td>\n",
       "      <td>True</td>\n",
       "    </tr>\n",
       "    <tr>\n",
       "      <th>658</th>\n",
       "      <td>11 - All That Lives</td>\n",
       "      <td>985872</td>\n",
       "      <td>True</td>\n",
       "    </tr>\n",
       "    <tr>\n",
       "      <th>959</th>\n",
       "      <td>07 - Children's Day</td>\n",
       "      <td>ev_2963290</td>\n",
       "      <td>NaN</td>\n",
       "    </tr>\n",
       "    <tr>\n",
       "      <th>959</th>\n",
       "      <td>07 - Children's Day</td>\n",
       "      <td>ev_2963290</td>\n",
       "      <td>NaN</td>\n",
       "    </tr>\n",
       "    <tr>\n",
       "      <th>959</th>\n",
       "      <td>07 - Children's Day</td>\n",
       "      <td>ev_2963295</td>\n",
       "      <td>NaN</td>\n",
       "    </tr>\n",
       "    <tr>\n",
       "      <th>959</th>\n",
       "      <td>07 - Children's Day</td>\n",
       "      <td>ev_2963297</td>\n",
       "      <td>NaN</td>\n",
       "    </tr>\n",
       "    <tr>\n",
       "      <th>959</th>\n",
       "      <td>07 - Children's Day</td>\n",
       "      <td>ev_2963295</td>\n",
       "      <td>NaN</td>\n",
       "    </tr>\n",
       "    <tr>\n",
       "      <th>959</th>\n",
       "      <td>07 - Children's Day</td>\n",
       "      <td>ev_2963296</td>\n",
       "      <td>NaN</td>\n",
       "    </tr>\n",
       "    <tr>\n",
       "      <th>959</th>\n",
       "      <td>07 - Children's Day</td>\n",
       "      <td>ev_2963296</td>\n",
       "      <td>NaN</td>\n",
       "    </tr>\n",
       "    <tr>\n",
       "      <th>959</th>\n",
       "      <td>07 - Children's Day</td>\n",
       "      <td>ev_2963297</td>\n",
       "      <td>NaN</td>\n",
       "    </tr>\n",
       "    <tr>\n",
       "      <th>1003</th>\n",
       "      <td>11 - All That Lives</td>\n",
       "      <td>985872</td>\n",
       "      <td>True</td>\n",
       "    </tr>\n",
       "    <tr>\n",
       "      <th>1184</th>\n",
       "      <td>09 - Smeaton300: Moon Palace East Leeds Observ...</td>\n",
       "      <td>ev_2918127</td>\n",
       "      <td>True</td>\n",
       "    </tr>\n",
       "    <tr>\n",
       "      <th>1470</th>\n",
       "      <td>07 - Children's Day</td>\n",
       "      <td>ev_2963290</td>\n",
       "      <td>True</td>\n",
       "    </tr>\n",
       "    <tr>\n",
       "      <th>1470</th>\n",
       "      <td>07 - Children's Day</td>\n",
       "      <td>ev_2963295</td>\n",
       "      <td>True</td>\n",
       "    </tr>\n",
       "    <tr>\n",
       "      <th>1470</th>\n",
       "      <td>07 - Children's Day</td>\n",
       "      <td>ev_2963296</td>\n",
       "      <td>True</td>\n",
       "    </tr>\n",
       "    <tr>\n",
       "      <th>1470</th>\n",
       "      <td>07 - Children's Day</td>\n",
       "      <td>ev_2963297</td>\n",
       "      <td>True</td>\n",
       "    </tr>\n",
       "    <tr>\n",
       "      <th>1490</th>\n",
       "      <td>09 - Smeaton300: Moon Palace East Leeds Observ...</td>\n",
       "      <td>ev_2918127</td>\n",
       "      <td>True</td>\n",
       "    </tr>\n",
       "    <tr>\n",
       "      <th>1577</th>\n",
       "      <td>Creative Learning S3</td>\n",
       "      <td>ev_3073624</td>\n",
       "      <td>False</td>\n",
       "    </tr>\n",
       "  </tbody>\n",
       "</table>\n",
       "</div>"
      ],
      "text/plain": [
       "                                           project_name ticket_tailor_id  \\\n",
       "130                                 11 - All That Lives           985872   \n",
       "149   09 - Smeaton300: Moon Palace East Leeds Observ...       ev_2918127   \n",
       "175                                 11 - All That Lives           985872   \n",
       "276                                Creative Learning S3       ev_3073624   \n",
       "338                                 11 - All That Lives           985872   \n",
       "658                                 11 - All That Lives           985872   \n",
       "959                                 07 - Children's Day       ev_2963290   \n",
       "959                                 07 - Children's Day       ev_2963290   \n",
       "959                                 07 - Children's Day       ev_2963295   \n",
       "959                                 07 - Children's Day       ev_2963297   \n",
       "959                                 07 - Children's Day       ev_2963295   \n",
       "959                                 07 - Children's Day       ev_2963296   \n",
       "959                                 07 - Children's Day       ev_2963296   \n",
       "959                                 07 - Children's Day       ev_2963297   \n",
       "1003                                11 - All That Lives           985872   \n",
       "1184  09 - Smeaton300: Moon Palace East Leeds Observ...       ev_2918127   \n",
       "1470                                07 - Children's Day       ev_2963290   \n",
       "1470                                07 - Children's Day       ev_2963295   \n",
       "1470                                07 - Children's Day       ev_2963296   \n",
       "1470                                07 - Children's Day       ev_2963297   \n",
       "1490  09 - Smeaton300: Moon Palace East Leeds Observ...       ev_2918127   \n",
       "1577                               Creative Learning S3       ev_3073624   \n",
       "\n",
       "     public_event  \n",
       "130          True  \n",
       "149          True  \n",
       "175          True  \n",
       "276         False  \n",
       "338          True  \n",
       "658          True  \n",
       "959           NaN  \n",
       "959           NaN  \n",
       "959           NaN  \n",
       "959           NaN  \n",
       "959           NaN  \n",
       "959           NaN  \n",
       "959           NaN  \n",
       "959           NaN  \n",
       "1003         True  \n",
       "1184         True  \n",
       "1470         True  \n",
       "1470         True  \n",
       "1470         True  \n",
       "1470         True  \n",
       "1490         True  \n",
       "1577        False  "
      ]
     },
     "execution_count": 8,
     "metadata": {},
     "output_type": "execute_result"
    }
   ],
   "source": [
    "events[\n",
    "  events.ticket_tailor_id.isin(\n",
    "    events.ticket_tailor_id[\n",
    "      events.ticket_tailor_id.duplicated()\n",
    "    ].to_list()\n",
    "  )\n",
    "]"
   ]
  },
  {
   "cell_type": "code",
   "execution_count": 9,
   "id": "8bdc70db",
   "metadata": {
    "execution": {
     "iopub.execute_input": "2023-12-20T19:13:27.387113Z",
     "iopub.status.busy": "2023-12-20T19:13:27.386963Z",
     "iopub.status.idle": "2023-12-20T19:13:27.389287Z",
     "shell.execute_reply": "2023-12-20T19:13:27.389011Z"
    },
    "papermill": {
     "duration": 0.005469,
     "end_time": "2023-12-20T19:13:27.390133",
     "exception": false,
     "start_time": "2023-12-20T19:13:27.384664",
     "status": "completed"
    },
    "tags": []
   },
   "outputs": [
    {
     "data": {
      "text/plain": [
       "6635"
      ]
     },
     "execution_count": 9,
     "metadata": {},
     "output_type": "execute_result"
    }
   ],
   "source": [
    "len(completed_orders)"
   ]
  },
  {
   "cell_type": "code",
   "execution_count": 10,
   "id": "b3a42242",
   "metadata": {
    "execution": {
     "iopub.execute_input": "2023-12-20T19:13:27.393970Z",
     "iopub.status.busy": "2023-12-20T19:13:27.393843Z",
     "iopub.status.idle": "2023-12-20T19:13:27.398822Z",
     "shell.execute_reply": "2023-12-20T19:13:27.398467Z"
    },
    "papermill": {
     "duration": 0.00803,
     "end_time": "2023-12-20T19:13:27.399805",
     "exception": false,
     "start_time": "2023-12-20T19:13:27.391775",
     "status": "completed"
    },
    "tags": []
   },
   "outputs": [],
   "source": [
    "completed_orders = completed_orders.merge(\n",
    "    events.drop_duplicates().set_index('ticket_tailor_id'),\n",
    "    left_on='event_id',\n",
    "    right_index=True,\n",
    "    how='left'\n",
    ")"
   ]
  },
  {
   "cell_type": "code",
   "execution_count": 11,
   "id": "958929d9",
   "metadata": {
    "execution": {
     "iopub.execute_input": "2023-12-20T19:13:27.404131Z",
     "iopub.status.busy": "2023-12-20T19:13:27.403939Z",
     "iopub.status.idle": "2023-12-20T19:13:27.406395Z",
     "shell.execute_reply": "2023-12-20T19:13:27.406129Z"
    },
    "papermill": {
     "duration": 0.005528,
     "end_time": "2023-12-20T19:13:27.407169",
     "exception": false,
     "start_time": "2023-12-20T19:13:27.401641",
     "status": "completed"
    },
    "tags": []
   },
   "outputs": [
    {
     "data": {
      "text/plain": [
       "6643"
      ]
     },
     "execution_count": 11,
     "metadata": {},
     "output_type": "execute_result"
    }
   ],
   "source": [
    "len(completed_orders)"
   ]
  },
  {
   "cell_type": "code",
   "execution_count": 12,
   "id": "4763f765",
   "metadata": {
    "execution": {
     "iopub.execute_input": "2023-12-20T19:13:27.411131Z",
     "iopub.status.busy": "2023-12-20T19:13:27.411007Z",
     "iopub.status.idle": "2023-12-20T19:13:27.412941Z",
     "shell.execute_reply": "2023-12-20T19:13:27.412626Z"
    },
    "papermill": {
     "duration": 0.004784,
     "end_time": "2023-12-20T19:13:27.413716",
     "exception": false,
     "start_time": "2023-12-20T19:13:27.408932",
     "status": "completed"
    },
    "tags": []
   },
   "outputs": [],
   "source": [
    "OUTPUT_DIR = TOP_DIR.joinpath('data/metrics/events/tickets/')\n",
    "OUTPUT_DIR.mkdir(parents=True, exist_ok=True)"
   ]
  },
  {
   "cell_type": "code",
   "execution_count": 13,
   "id": "18f647ff",
   "metadata": {
    "execution": {
     "iopub.execute_input": "2023-12-20T19:13:27.417747Z",
     "iopub.status.busy": "2023-12-20T19:13:27.417543Z",
     "iopub.status.idle": "2023-12-20T19:13:27.435328Z",
     "shell.execute_reply": "2023-12-20T19:13:27.434970Z"
    },
    "papermill": {
     "duration": 0.020804,
     "end_time": "2023-12-20T19:13:27.436269",
     "exception": false,
     "start_time": "2023-12-20T19:13:27.415465",
     "status": "completed"
    },
    "tags": []
   },
   "outputs": [],
   "source": [
    "completed_orders.loc[:, [\n",
    "    'created_at',\n",
    "    'event_id',\n",
    "    'event_date',\n",
    "    'number_of_tickets',\n",
    "    'ward_code',\n",
    "    'project_name',\n",
    "    'public_event',\n",
    "]].sort_values(['created_at', 'event_id']).to_csv(\n",
    "  OUTPUT_DIR.joinpath('orders.csv'),\n",
    "  index=False\n",
    ")"
   ]
  },
  {
   "cell_type": "code",
   "execution_count": 14,
   "id": "6f51cbb2",
   "metadata": {
    "execution": {
     "iopub.execute_input": "2023-12-20T19:13:27.440471Z",
     "iopub.status.busy": "2023-12-20T19:13:27.440325Z",
     "iopub.status.idle": "2023-12-20T19:13:27.446764Z",
     "shell.execute_reply": "2023-12-20T19:13:27.446430Z"
    },
    "papermill": {
     "duration": 0.009499,
     "end_time": "2023-12-20T19:13:27.447603",
     "exception": false,
     "start_time": "2023-12-20T19:13:27.438104",
     "status": "completed"
    },
    "tags": []
   },
   "outputs": [],
   "source": [
    "(\n",
    "    completed_orders.loc[:, ['event_date', 'event_time', 'event_name', 'event_id', 'project_name', 'public_event']]\n",
    "      .drop_duplicates()\n",
    "      .sort_values(['event_date', 'event_time'])\n",
    "      .to_csv('../../../../data/metrics/events/tickets/events.csv', index=False)\n",
    ")"
   ]
  },
  {
   "cell_type": "code",
   "execution_count": 15,
   "id": "72a0ae45",
   "metadata": {
    "execution": {
     "iopub.execute_input": "2023-12-20T19:13:27.451877Z",
     "iopub.status.busy": "2023-12-20T19:13:27.451657Z",
     "iopub.status.idle": "2023-12-20T19:13:27.720520Z",
     "shell.execute_reply": "2023-12-20T19:13:27.720218Z"
    },
    "papermill": {
     "duration": 0.271962,
     "end_time": "2023-12-20T19:13:27.721402",
     "exception": false,
     "start_time": "2023-12-20T19:13:27.449440",
     "status": "completed"
    },
    "tags": []
   },
   "outputs": [
    {
     "data": {
      "image/png": "[encoded data removed]",
      "text/plain": [
       "<Figure size 640x480 with 1 Axes>"
      ]
     },
     "metadata": {},
     "output_type": "display_data"
    }
   ],
   "source": [
    "chart = completed_orders.groupby(['project_name']).number_of_tickets.sum().sort_values().plot.barh()"
   ]
  },
  {
   "cell_type": "code",
   "execution_count": 16,
   "id": "782d5ef4",
   "metadata": {
    "execution": {
     "iopub.execute_input": "2023-12-20T19:13:27.727010Z",
     "iopub.status.busy": "2023-12-20T19:13:27.726836Z",
     "iopub.status.idle": "2023-12-20T19:13:27.808944Z",
     "shell.execute_reply": "2023-12-20T19:13:27.808636Z"
    },
    "papermill": {
     "duration": 0.085883,
     "end_time": "2023-12-20T19:13:27.809753",
     "exception": false,
     "start_time": "2023-12-20T19:13:27.723870",
     "status": "completed"
    },
    "tags": []
   },
   "outputs": [
    {
     "data": {
      "image/png": "[encoded data removed]",
      "text/plain": [
       "<Figure size 640x480 with 1 Axes>"
      ]
     },
     "metadata": {},
     "output_type": "display_data"
    }
   ],
   "source": [
    "chart = completed_orders.groupby([\n",
    "    'event_date'\n",
    "    ]).number_of_tickets.sum().resample('M').sum().cumsum().plot.bar()"
   ]
  },
  {
   "cell_type": "code",
   "execution_count": null,
   "id": "55bd46a1",
   "metadata": {
    "papermill": {
     "duration": 0.002613,
     "end_time": "2023-12-20T19:13:27.815126",
     "exception": false,
     "start_time": "2023-12-20T19:13:27.812513",
     "status": "completed"
    },
    "tags": []
   },
   "outputs": [],
   "source": []
  }
 ],
 "metadata": {
  "kernelspec": {
   "display_name": "leeds-2023-YZF5GfJv",
   "language": "python",
   "name": "python3"
  },
  "language_info": {
   "codemirror_mode": {
    "name": "ipython",
    "version": 3
   },
   "file_extension": ".py",
   "mimetype": "text/x-python",
   "name": "python",
   "nbconvert_exporter": "python",
   "pygments_lexer": "ipython3",
   "version": "3.10.12"
  },
  "papermill": {
   "default_parameters": {},
   "duration": 7.055089,
   "end_time": "2023-12-20T19:13:28.135670",
   "environment_variables": {},
   "exception": null,
   "input_path": "tickets.ipynb",
   "output_path": "../../../../working/output/tickets-transform.ipynb",
   "parameters": {},
   "start_time": "2023-12-20T19:13:21.080581",
   "version": "2.4.0"
  }
 },
 "nbformat": 4,
 "nbformat_minor": 5
}