{
 "cells": [
  {
   "cell_type": "code",
   "execution_count": 1,
   "id": "b2ae8b4b",
   "metadata": {
    "execution": {
     "iopub.execute_input": "2024-01-17T15:10:05.894609Z",
     "iopub.status.busy": "2024-01-17T15:10:05.894419Z",
     "iopub.status.idle": "2024-01-17T15:10:06.063020Z",
     "shell.execute_reply": "2024-01-17T15:10:06.062572Z"
    },
    "papermill": {
     "duration": 0.175232,
     "end_time": "2024-01-17T15:10:06.064140",
     "exception": false,
     "start_time": "2024-01-17T15:10:05.888908",
     "status": "completed"
    },
    "tags": []
   },
   "outputs": [],
   "source": [
    "import glob\n",
    "import os\n",
    "\n",
    "import pandas as pd\n",
    "from cision import (add_hash, append_filename, clean_up, convert_numbers,\n",
    "                    drop_empty_headlines, guess_date, guess_encoding,\n",
    "                    normalise_column_names, patch_column_names, save_csv,\n",
    "                    logger)"
   ]
  },
  {
   "cell_type": "markdown",
   "id": "bf127a6c",
   "metadata": {
    "papermill": {
     "duration": 0.00118,
     "end_time": "2024-01-17T15:10:06.066751",
     "exception": false,
     "start_time": "2024-01-17T15:10:06.065571",
     "status": "completed"
    },
    "tags": []
   },
   "source": [
    "The media files are downloaded to `working/manual/media` with a `dvc` url import. The files are uploaded to files.open-innovations.org by AMA, who are LEEDS 2023's media partner."
   ]
  },
  {
   "cell_type": "code",
   "execution_count": 2,
   "id": "a77807b6",
   "metadata": {
    "execution": {
     "iopub.execute_input": "2024-01-17T15:10:06.069635Z",
     "iopub.status.busy": "2024-01-17T15:10:06.069469Z",
     "iopub.status.idle": "2024-01-17T15:10:06.071376Z",
     "shell.execute_reply": "2024-01-17T15:10:06.071087Z"
    },
    "papermill": {
     "duration": 0.004174,
     "end_time": "2024-01-17T15:10:06.072091",
     "exception": false,
     "start_time": "2024-01-17T15:10:06.067917",
     "status": "completed"
    },
    "tags": []
   },
   "outputs": [],
   "source": [
    "WORKING_DIR = '../../../working/manual/media/'"
   ]
  },
  {
   "cell_type": "markdown",
   "id": "6acd56b4",
   "metadata": {
    "papermill": {
     "duration": 0.001185,
     "end_time": "2024-01-17T15:10:06.074470",
     "exception": false,
     "start_time": "2024-01-17T15:10:06.073285",
     "status": "completed"
    },
    "tags": []
   },
   "source": [
    "Get the list of input files and work out which is the latest date in the column"
   ]
  },
  {
   "cell_type": "code",
   "execution_count": 3,
   "id": "a3704537",
   "metadata": {
    "execution": {
     "iopub.execute_input": "2024-01-17T15:10:06.077391Z",
     "iopub.status.busy": "2024-01-17T15:10:06.077238Z",
     "iopub.status.idle": "2024-01-17T15:10:06.081488Z",
     "shell.execute_reply": "2024-01-17T15:10:06.081171Z"
    },
    "papermill": {
     "duration": 0.006567,
     "end_time": "2024-01-17T15:10:06.082157",
     "exception": false,
     "start_time": "2024-01-17T15:10:06.075590",
     "status": "completed"
    },
    "tags": []
   },
   "outputs": [],
   "source": [
    "files=glob.glob('*.csv', root_dir=WORKING_DIR)\n",
    "input_files = pd.Series(\n",
    "    files, index=files, name='latest_input_date'\n",
    ").str.lower().str.replace(\n",
    "    r'(leeds 2023.*?media coverage( w\\.e\\.*)*\\s*([\\d\\.]*-){0,1}|.csv$)', '', regex=True\n",
    ").str.strip().pipe(pd.to_datetime, format='%d.%m.%y', errors='coerce').sort_values()"
   ]
  },
  {
   "cell_type": "markdown",
   "id": "b6678478",
   "metadata": {
    "papermill": {
     "duration": 0.001138,
     "end_time": "2024-01-17T15:10:06.084505",
     "exception": false,
     "start_time": "2024-01-17T15:10:06.083367",
     "status": "completed"
    },
    "tags": []
   },
   "source": [
    "List files with invalid dates"
   ]
  },
  {
   "cell_type": "code",
   "execution_count": 4,
   "id": "c1806cd4",
   "metadata": {
    "execution": {
     "iopub.execute_input": "2024-01-17T15:10:06.087341Z",
     "iopub.status.busy": "2024-01-17T15:10:06.087207Z",
     "iopub.status.idle": "2024-01-17T15:10:06.092332Z",
     "shell.execute_reply": "2024-01-17T15:10:06.092065Z"
    },
    "papermill": {
     "duration": 0.007419,
     "end_time": "2024-01-17T15:10:06.093067",
     "exception": false,
     "start_time": "2024-01-17T15:10:06.085648",
     "status": "completed"
    },
    "tags": []
   },
   "outputs": [
    {
     "data": {
      "text/html": [
       "<div>\n",
       "<style scoped>\n",
       "    .dataframe tbody tr th:only-of-type {\n",
       "        vertical-align: middle;\n",
       "    }\n",
       "\n",
       "    .dataframe tbody tr th {\n",
       "        vertical-align: top;\n",
       "    }\n",
       "\n",
       "    .dataframe thead th {\n",
       "        text-align: right;\n",
       "    }\n",
       "</style>\n",
       "<table border=\"1\" class=\"dataframe\">\n",
       "  <thead>\n",
       "    <tr style=\"text-align: right;\">\n",
       "      <th></th>\n",
       "      <th>latest_input_date</th>\n",
       "    </tr>\n",
       "  </thead>\n",
       "  <tbody>\n",
       "  </tbody>\n",
       "</table>\n",
       "</div>"
      ],
      "text/plain": [
       "Empty DataFrame\n",
       "Columns: [latest_input_date]\n",
       "Index: []"
      ]
     },
     "execution_count": 4,
     "metadata": {},
     "output_type": "execute_result"
    }
   ],
   "source": [
    "input_files.loc[input_files.isna()].to_frame()"
   ]
  },
  {
   "cell_type": "markdown",
   "id": "b68362dd",
   "metadata": {
    "papermill": {
     "duration": 0.001248,
     "end_time": "2024-01-17T15:10:06.095714",
     "exception": false,
     "start_time": "2024-01-17T15:10:06.094466",
     "status": "completed"
    },
    "tags": []
   },
   "source": [
    "Load the cision date into a long "
   ]
  },
  {
   "cell_type": "code",
   "execution_count": 5,
   "id": "92944b32",
   "metadata": {
    "execution": {
     "iopub.execute_input": "2024-01-17T15:10:06.098801Z",
     "iopub.status.busy": "2024-01-17T15:10:06.098657Z",
     "iopub.status.idle": "2024-01-17T15:10:06.102084Z",
     "shell.execute_reply": "2024-01-17T15:10:06.101797Z"
    },
    "papermill": {
     "duration": 0.00584,
     "end_time": "2024-01-17T15:10:06.102788",
     "exception": false,
     "start_time": "2024-01-17T15:10:06.096948",
     "status": "completed"
    },
    "tags": []
   },
   "outputs": [],
   "source": [
    "required_columns = set([\n",
    "    'news_date', 'news_headline', 'outlet_name', 'audience_reach', 'uv'\n",
    "])\n",
    "\n",
    "\n",
    "def load_cision_file(filename):\n",
    "    source_file = os.path.basename(filename)\n",
    "    print(source_file)\n",
    "    latest_date = input_files.loc[source_file]\n",
    "    logger.info('Loading %s', source_file)\n",
    "    logger.info('Latest date %s', str(latest_date))\n",
    "\n",
    "    try:\n",
    "        data = pd.read_csv(\n",
    "            filename,\n",
    "            encoding=guess_encoding(filename),\n",
    "            thousands=',',\n",
    "            skipinitialspace=True\n",
    "        )\n",
    "    except Exception as e:\n",
    "        logger.warning('Cannot process %s', filename)\n",
    "        logger.info(e)\n",
    "        return\n",
    "\n",
    "    # print(data.pipe(normalise_column_names).pipe(patch_column_names)['uv'].fillna(0).astype('Int64'))\n",
    "    data = (\n",
    "        data\n",
    "        .pipe(add_hash)\n",
    "        .pipe(append_filename, source_file)\n",
    "        .pipe(normalise_column_names)\n",
    "        .pipe(patch_column_names)\n",
    "        .pipe(drop_empty_headlines)\n",
    "        .pipe(guess_date, latest_date=latest_date)\n",
    "        .pipe(convert_numbers)\n",
    "    )\n",
    "\n",
    "    data['latest_date'] = latest_date\n",
    "\n",
    "    # Check for expected columns\n",
    "    try:\n",
    "        assert required_columns.issubset(data.columns)\n",
    "    except:\n",
    "        missing = required_columns.difference(data.columns)\n",
    "        logger.warning(\"Missing columns %s in %s\", missing, filename)\n",
    "        logger.info(\"Got columns %r\", data.columns)\n",
    "        return\n",
    "\n",
    "    return data"
   ]
  },
  {
   "cell_type": "code",
   "execution_count": 6,
   "id": "6ba929e7",
   "metadata": {
    "execution": {
     "iopub.execute_input": "2024-01-17T15:10:06.106399Z",
     "iopub.status.busy": "2024-01-17T15:10:06.106242Z",
     "iopub.status.idle": "2024-01-17T15:10:06.543431Z",
     "shell.execute_reply": "2024-01-17T15:10:06.543026Z"
    },
    "papermill": {
     "duration": 0.440281,
     "end_time": "2024-01-17T15:10:06.544365",
     "exception": false,
     "start_time": "2024-01-17T15:10:06.104084",
     "status": "completed"
    },
    "tags": []
   },
   "outputs": [
    {
     "name": "stdout",
     "output_type": "stream",
     "text": [
      "Leeds 2023 media coverage 23.09.22-17.10.22.csv\n",
      "Leeds 2023 weekly media coverage 24.11.22.csv\n",
      "Leeds 2023 weekly media coverage 02.12.22.csv\n",
      "Leeds 2023 weekly media coverage 09.12.22.csv\n",
      "Leeds 2023 weekly media coverage 16.12.22.csv\n",
      "Leeds 2023 weekly media coverage 23.12.22.csv\n",
      "Leeds 2023 weekly media coverage 1-6.01.23.csv\n",
      "LEEDS 2023 The Awakening media coverage 7-9.01.23.csv\n",
      "Leeds 2023 weekly media coverage w.e. 13.01.23.csv\n",
      "Leeds 2023 weekly media coverage 13-20.01.23.csv\n",
      "Leeds 2023 weekly media coverage 21-27.01.23.csv\n",
      "Leeds 2023 weekly media coverage w.e 03.02.23.csv\n",
      "LEEDS 2023 weekly media coverage W.e 10.02.23.csv\n",
      "LEEDS 2023 Weekly Media Coverage w.e. 17.02.23.csv\n",
      "LEEDS 2023 weekly media coverage w.e. 24.02.23.csv\n",
      "LEEDS 2023 weekly media coverage w.e. 03.03.23.csv\n",
      "Leeds 2023 weekly media coverage w.e. 10.03.23.csv\n",
      "Leeds 2023 weekly media coverage w.e. 17.03.23.csv\n",
      "Leeds 2023 weekly media coverage 24.03.23.csv\n",
      "leeds 2023 weekly media coverage w.e. 31.03.23.csv\n",
      "Leeds 2023 weekly media coverage w.e. 6.04.23.csv\n",
      "LEEDS 2023 Weekly media coverage 28.04.23.csv\n",
      "LEEDS 2023 weekly media coverage w.e. 05.05.23.csv\n",
      "LEEDS 2023 Weekly media coverage w.e 12.05.23.csv\n",
      "Leeds 2023 weekly media coverage w.e 19.05.23.csv\n",
      "Leeds 2023 weekly media coverage w.e 26.5.23.csv\n"
     ]
    },
    {
     "name": "stdout",
     "output_type": "stream",
     "text": [
      "LEEDS 2023 Weekly media coverage w.e. 02.06.23.csv\n",
      "LEEDS 2023 Weekly media coverage w.e. 09.06.23.csv\n",
      "LEEDS 2023 Weekly media coverage w.e. 16.06.23.csv\n",
      "LEEDS 2023 Weekly media coverage w.e. 23.06.23.csv\n",
      "LEEDS 2023 Weekly media coverage 30.06.23.csv\n",
      "LEEDS 2023 Weekly media coverage w.e 07.07.23 .csv\n",
      "LEEDS 2023 Weekly media coverage w.e 14.07.23.csv\n",
      "LEEDS 2023 Weekly media coverage w.e. 21.07.23.csv\n",
      "LEEDS 2023 weekly media coverage w.e 28.07.23.csv\n",
      "Leeds 2023 weekly media coverage 29.07-18.08.23.csv\n",
      "LEEDS 2023 Weekly media coverage w.e 08.09.23.csv\n",
      "LEEDS 2023 Weekly media coverage 09.09.23-03.11.23.csv\n",
      "Leeds 2023 weekly media coverage 04.11.23-04.01.24.csv\n"
     ]
    }
   ],
   "source": [
    "cision_data = pd.concat([\n",
    "    load_cision_file(os.path.join(WORKING_DIR, f))\n",
    "    for f in\n",
    "    input_files.loc[input_files.notna()].index.to_list()\n",
    "])"
   ]
  },
  {
   "cell_type": "markdown",
   "id": "fe9b6689",
   "metadata": {
    "papermill": {
     "duration": 0.001368,
     "end_time": "2024-01-17T15:10:06.547294",
     "exception": false,
     "start_time": "2024-01-17T15:10:06.545926",
     "status": "completed"
    },
    "tags": []
   },
   "source": [
    "Print missing dates"
   ]
  },
  {
   "cell_type": "code",
   "execution_count": 7,
   "id": "9c052b89",
   "metadata": {
    "execution": {
     "iopub.execute_input": "2024-01-17T15:10:06.550625Z",
     "iopub.status.busy": "2024-01-17T15:10:06.550498Z",
     "iopub.status.idle": "2024-01-17T15:10:06.555651Z",
     "shell.execute_reply": "2024-01-17T15:10:06.555373Z"
    },
    "papermill": {
     "duration": 0.007685,
     "end_time": "2024-01-17T15:10:06.556332",
     "exception": false,
     "start_time": "2024-01-17T15:10:06.548647",
     "status": "completed"
    },
    "tags": []
   },
   "outputs": [
    {
     "data": {
      "text/html": [
       "<div>\n",
       "<style scoped>\n",
       "    .dataframe tbody tr th:only-of-type {\n",
       "        vertical-align: middle;\n",
       "    }\n",
       "\n",
       "    .dataframe tbody tr th {\n",
       "        vertical-align: top;\n",
       "    }\n",
       "\n",
       "    .dataframe thead th {\n",
       "        text-align: right;\n",
       "    }\n",
       "</style>\n",
       "<table border=\"1\" class=\"dataframe\">\n",
       "  <thead>\n",
       "    <tr style=\"text-align: right;\">\n",
       "      <th></th>\n",
       "      <th>news_date</th>\n",
       "      <th>input_date</th>\n",
       "      <th>source_file</th>\n",
       "    </tr>\n",
       "  </thead>\n",
       "  <tbody>\n",
       "    <tr>\n",
       "      <th>0</th>\n",
       "      <td>NaT</td>\n",
       "      <td>1/1/2023</td>\n",
       "      <td>Leeds 2023 weekly media coverage 23.12.22.csv</td>\n",
       "    </tr>\n",
       "    <tr>\n",
       "      <th>1</th>\n",
       "      <td>NaT</td>\n",
       "      <td>1/1/2023</td>\n",
       "      <td>Leeds 2023 weekly media coverage 23.12.22.csv</td>\n",
       "    </tr>\n",
       "    <tr>\n",
       "      <th>23</th>\n",
       "      <td>NaT</td>\n",
       "      <td>01.08.23</td>\n",
       "      <td>LEEDS 2023 Weekly media coverage w.e. 21.07.23...</td>\n",
       "    </tr>\n",
       "  </tbody>\n",
       "</table>\n",
       "</div>"
      ],
      "text/plain": [
       "   news_date input_date                                        source_file\n",
       "0        NaT   1/1/2023      Leeds 2023 weekly media coverage 23.12.22.csv\n",
       "1        NaT   1/1/2023      Leeds 2023 weekly media coverage 23.12.22.csv\n",
       "23       NaT   01.08.23  LEEDS 2023 Weekly media coverage w.e. 21.07.23..."
      ]
     },
     "execution_count": 7,
     "metadata": {},
     "output_type": "execute_result"
    }
   ],
   "source": [
    "cision_data[cision_data.news_date.isna()].loc[:, ['news_date', 'input_date', 'source_file']]"
   ]
  },
  {
   "cell_type": "code",
   "execution_count": 8,
   "id": "f7ce5cec",
   "metadata": {
    "execution": {
     "iopub.execute_input": "2024-01-17T15:10:06.559899Z",
     "iopub.status.busy": "2024-01-17T15:10:06.559758Z",
     "iopub.status.idle": "2024-01-17T15:10:06.585437Z",
     "shell.execute_reply": "2024-01-17T15:10:06.585084Z"
    },
    "papermill": {
     "duration": 0.028356,
     "end_time": "2024-01-17T15:10:06.586271",
     "exception": false,
     "start_time": "2024-01-17T15:10:06.557915",
     "status": "completed"
    },
    "tags": []
   },
   "outputs": [
    {
     "data": {
      "text/html": [
       "<div>\n",
       "<style scoped>\n",
       "    .dataframe tbody tr th:only-of-type {\n",
       "        vertical-align: middle;\n",
       "    }\n",
       "\n",
       "    .dataframe tbody tr th {\n",
       "        vertical-align: top;\n",
       "    }\n",
       "\n",
       "    .dataframe thead th {\n",
       "        text-align: right;\n",
       "    }\n",
       "</style>\n",
       "<table border=\"1\" class=\"dataframe\">\n",
       "  <thead>\n",
       "    <tr style=\"text-align: right;\">\n",
       "      <th></th>\n",
       "      <th>news_date</th>\n",
       "      <th>news_headline</th>\n",
       "      <th>outlet_name</th>\n",
       "      <th>audience_reach</th>\n",
       "      <th>uv</th>\n",
       "      <th>tone</th>\n",
       "      <th>medium</th>\n",
       "      <th>outlet_type</th>\n",
       "      <th>custom_tags</th>\n",
       "      <th>news_company_mentions</th>\n",
       "      <th>hash</th>\n",
       "      <th>source_file</th>\n",
       "      <th>latest_date</th>\n",
       "      <th>input_date</th>\n",
       "    </tr>\n",
       "  </thead>\n",
       "  <tbody>\n",
       "    <tr>\n",
       "      <th>236</th>\n",
       "      <td>2022-09-17</td>\n",
       "      <td>Four West Leeds sites earmarked for local auth...</td>\n",
       "      <td>West Leeds Dispatch</td>\n",
       "      <td>0</td>\n",
       "      <td>3141.0</td>\n",
       "      <td>POS</td>\n",
       "      <td>Online</td>\n",
       "      <td>Online, consumer</td>\n",
       "      <td>Local</td>\n",
       "      <td>Leeds 2023</td>\n",
       "      <td>13479499968123036765</td>\n",
       "      <td>Leeds 2023 media coverage 23.09.22-17.10.22.csv</td>\n",
       "      <td>2022-10-17</td>\n",
       "      <td>17/09/2022</td>\n",
       "    </tr>\n",
       "    <tr>\n",
       "      <th>237</th>\n",
       "      <td>2022-09-17</td>\n",
       "      <td>Inspirational Bramley Baths hailed a 'beacon f...</td>\n",
       "      <td>West Leeds Dispatch</td>\n",
       "      <td>0</td>\n",
       "      <td>3141.0</td>\n",
       "      <td>NEU</td>\n",
       "      <td>Online</td>\n",
       "      <td>Online, consumer</td>\n",
       "      <td>Local</td>\n",
       "      <td>Leeds 2023</td>\n",
       "      <td>453098313913252842</td>\n",
       "      <td>Leeds 2023 media coverage 23.09.22-17.10.22.csv</td>\n",
       "      <td>2022-10-17</td>\n",
       "      <td>17/09/2022</td>\n",
       "    </tr>\n",
       "    <tr>\n",
       "      <th>235</th>\n",
       "      <td>2022-09-17</td>\n",
       "      <td>Support Leeds 2023 city of culture by voluntee...</td>\n",
       "      <td>West Leeds Dispatch</td>\n",
       "      <td>0</td>\n",
       "      <td>3141.0</td>\n",
       "      <td>NEU</td>\n",
       "      <td>Online</td>\n",
       "      <td>Online, consumer</td>\n",
       "      <td>Local</td>\n",
       "      <td>Leeds 2023</td>\n",
       "      <td>10670817045611648545</td>\n",
       "      <td>Leeds 2023 media coverage 23.09.22-17.10.22.csv</td>\n",
       "      <td>2022-10-17</td>\n",
       "      <td>17/09/2022</td>\n",
       "    </tr>\n",
       "    <tr>\n",
       "      <th>234</th>\n",
       "      <td>2022-09-17</td>\n",
       "      <td>Youths shift 34 tonnes as new Bramley eco peac...</td>\n",
       "      <td>West Leeds Dispatch</td>\n",
       "      <td>0</td>\n",
       "      <td>3141.0</td>\n",
       "      <td>NEU</td>\n",
       "      <td>Online</td>\n",
       "      <td>Online, consumer</td>\n",
       "      <td>Local</td>\n",
       "      <td>Leeds 2023</td>\n",
       "      <td>13785126224380383013</td>\n",
       "      <td>Leeds 2023 media coverage 23.09.22-17.10.22.csv</td>\n",
       "      <td>2022-10-17</td>\n",
       "      <td>17/09/2022</td>\n",
       "    </tr>\n",
       "    <tr>\n",
       "      <th>233</th>\n",
       "      <td>2022-09-20</td>\n",
       "      <td>Inspirational Bramley Baths hailed a 'beacon f...</td>\n",
       "      <td>West Leeds Dispatch</td>\n",
       "      <td>0</td>\n",
       "      <td>3141.0</td>\n",
       "      <td>NEU</td>\n",
       "      <td>Online</td>\n",
       "      <td>Online, consumer</td>\n",
       "      <td>Local</td>\n",
       "      <td>Leeds 2023</td>\n",
       "      <td>12296830178779861036</td>\n",
       "      <td>Leeds 2023 media coverage 23.09.22-17.10.22.csv</td>\n",
       "      <td>2022-10-17</td>\n",
       "      <td>20/09/2022</td>\n",
       "    </tr>\n",
       "    <tr>\n",
       "      <th>...</th>\n",
       "      <td>...</td>\n",
       "      <td>...</td>\n",
       "      <td>...</td>\n",
       "      <td>...</td>\n",
       "      <td>...</td>\n",
       "      <td>...</td>\n",
       "      <td>...</td>\n",
       "      <td>...</td>\n",
       "      <td>...</td>\n",
       "      <td>...</td>\n",
       "      <td>...</td>\n",
       "      <td>...</td>\n",
       "      <td>...</td>\n",
       "      <td>...</td>\n",
       "    </tr>\n",
       "    <tr>\n",
       "      <th>232</th>\n",
       "      <td>2024-01-02</td>\n",
       "      <td>Yorkshire luminaries reveal their best day of ...</td>\n",
       "      <td>Oracle</td>\n",
       "      <td>0</td>\n",
       "      <td>22329.0</td>\n",
       "      <td>POS</td>\n",
       "      <td>Online</td>\n",
       "      <td>NaN</td>\n",
       "      <td>NaN</td>\n",
       "      <td>NaN</td>\n",
       "      <td>7795545271676658555</td>\n",
       "      <td>Leeds 2023 weekly media coverage 04.11.23-04.0...</td>\n",
       "      <td>2024-01-04</td>\n",
       "      <td>02/01/2024</td>\n",
       "    </tr>\n",
       "    <tr>\n",
       "      <th>230</th>\n",
       "      <td>2024-01-02</td>\n",
       "      <td>Yorkshire: Plane skids and Sinfield heroics am...</td>\n",
       "      <td>BBC News Online</td>\n",
       "      <td>0</td>\n",
       "      <td>24207801.0</td>\n",
       "      <td>NEU</td>\n",
       "      <td>Online</td>\n",
       "      <td>NaN</td>\n",
       "      <td>NaN</td>\n",
       "      <td>NaN</td>\n",
       "      <td>7339748550383482549</td>\n",
       "      <td>Leeds 2023 weekly media coverage 04.11.23-04.0...</td>\n",
       "      <td>2024-01-04</td>\n",
       "      <td>02/01/2024</td>\n",
       "    </tr>\n",
       "    <tr>\n",
       "      <th>234</th>\n",
       "      <td>2024-01-03</td>\n",
       "      <td>Radio clip from BBC Leeds at 2024-01-03 11:30:...</td>\n",
       "      <td>BBC Radio Leeds</td>\n",
       "      <td>78000</td>\n",
       "      <td>0.0</td>\n",
       "      <td>NEU</td>\n",
       "      <td>Broadcast</td>\n",
       "      <td>NaN</td>\n",
       "      <td>NaN</td>\n",
       "      <td>NaN</td>\n",
       "      <td>7218440904746135017</td>\n",
       "      <td>Leeds 2023 weekly media coverage 04.11.23-04.0...</td>\n",
       "      <td>2024-01-04</td>\n",
       "      <td>03/01/2024</td>\n",
       "    </tr>\n",
       "    <tr>\n",
       "      <th>235</th>\n",
       "      <td>2024-01-04</td>\n",
       "      <td>THE STAGE 100</td>\n",
       "      <td>Stage, The</td>\n",
       "      <td>9489</td>\n",
       "      <td>0.0</td>\n",
       "      <td>NEU</td>\n",
       "      <td>Magazine</td>\n",
       "      <td>NaN</td>\n",
       "      <td>NaN</td>\n",
       "      <td>NaN</td>\n",
       "      <td>5374329319475507494</td>\n",
       "      <td>Leeds 2023 weekly media coverage 04.11.23-04.0...</td>\n",
       "      <td>2024-01-04</td>\n",
       "      <td>04/01/2024</td>\n",
       "    </tr>\n",
       "    <tr>\n",
       "      <th>236</th>\n",
       "      <td>2024-01-04</td>\n",
       "      <td>Workers can 'make it' thanks to more cash</td>\n",
       "      <td>Yorkshire Evening Post</td>\n",
       "      <td>36512</td>\n",
       "      <td>0.0</td>\n",
       "      <td>NEU</td>\n",
       "      <td>Newspaper</td>\n",
       "      <td>NaN</td>\n",
       "      <td>NaN</td>\n",
       "      <td>NaN</td>\n",
       "      <td>290147962024147217</td>\n",
       "      <td>Leeds 2023 weekly media coverage 04.11.23-04.0...</td>\n",
       "      <td>2024-01-04</td>\n",
       "      <td>04/01/2024</td>\n",
       "    </tr>\n",
       "  </tbody>\n",
       "</table>\n",
       "<p>2622 rows × 14 columns</p>\n",
       "</div>"
      ],
      "text/plain": [
       "     news_date                                      news_headline  \\\n",
       "236 2022-09-17  Four West Leeds sites earmarked for local auth...   \n",
       "237 2022-09-17  Inspirational Bramley Baths hailed a 'beacon f...   \n",
       "235 2022-09-17  Support Leeds 2023 city of culture by voluntee...   \n",
       "234 2022-09-17  Youths shift 34 tonnes as new Bramley eco peac...   \n",
       "233 2022-09-20  Inspirational Bramley Baths hailed a 'beacon f...   \n",
       "..         ...                                                ...   \n",
       "232 2024-01-02  Yorkshire luminaries reveal their best day of ...   \n",
       "230 2024-01-02  Yorkshire: Plane skids and Sinfield heroics am...   \n",
       "234 2024-01-03  Radio clip from BBC Leeds at 2024-01-03 11:30:...   \n",
       "235 2024-01-04                                      THE STAGE 100   \n",
       "236 2024-01-04          Workers can 'make it' thanks to more cash   \n",
       "\n",
       "                outlet_name  audience_reach          uv tone     medium  \\\n",
       "236     West Leeds Dispatch               0      3141.0  POS     Online   \n",
       "237     West Leeds Dispatch               0      3141.0  NEU     Online   \n",
       "235     West Leeds Dispatch               0      3141.0  NEU     Online   \n",
       "234     West Leeds Dispatch               0      3141.0  NEU     Online   \n",
       "233     West Leeds Dispatch               0      3141.0  NEU     Online   \n",
       "..                      ...             ...         ...  ...        ...   \n",
       "232                  Oracle               0     22329.0  POS     Online   \n",
       "230         BBC News Online               0  24207801.0  NEU     Online   \n",
       "234         BBC Radio Leeds           78000         0.0  NEU  Broadcast   \n",
       "235              Stage, The            9489         0.0  NEU   Magazine   \n",
       "236  Yorkshire Evening Post           36512         0.0  NEU  Newspaper   \n",
       "\n",
       "          outlet_type custom_tags news_company_mentions                  hash  \\\n",
       "236  Online, consumer       Local            Leeds 2023  13479499968123036765   \n",
       "237  Online, consumer       Local            Leeds 2023    453098313913252842   \n",
       "235  Online, consumer       Local            Leeds 2023  10670817045611648545   \n",
       "234  Online, consumer       Local            Leeds 2023  13785126224380383013   \n",
       "233  Online, consumer       Local            Leeds 2023  12296830178779861036   \n",
       "..                ...         ...                   ...                   ...   \n",
       "232               NaN         NaN                   NaN   7795545271676658555   \n",
       "230               NaN         NaN                   NaN   7339748550383482549   \n",
       "234               NaN         NaN                   NaN   7218440904746135017   \n",
       "235               NaN         NaN                   NaN   5374329319475507494   \n",
       "236               NaN         NaN                   NaN    290147962024147217   \n",
       "\n",
       "                                           source_file latest_date  input_date  \n",
       "236    Leeds 2023 media coverage 23.09.22-17.10.22.csv  2022-10-17  17/09/2022  \n",
       "237    Leeds 2023 media coverage 23.09.22-17.10.22.csv  2022-10-17  17/09/2022  \n",
       "235    Leeds 2023 media coverage 23.09.22-17.10.22.csv  2022-10-17  17/09/2022  \n",
       "234    Leeds 2023 media coverage 23.09.22-17.10.22.csv  2022-10-17  17/09/2022  \n",
       "233    Leeds 2023 media coverage 23.09.22-17.10.22.csv  2022-10-17  20/09/2022  \n",
       "..                                                 ...         ...         ...  \n",
       "232  Leeds 2023 weekly media coverage 04.11.23-04.0...  2024-01-04  02/01/2024  \n",
       "230  Leeds 2023 weekly media coverage 04.11.23-04.0...  2024-01-04  02/01/2024  \n",
       "234  Leeds 2023 weekly media coverage 04.11.23-04.0...  2024-01-04  03/01/2024  \n",
       "235  Leeds 2023 weekly media coverage 04.11.23-04.0...  2024-01-04  04/01/2024  \n",
       "236  Leeds 2023 weekly media coverage 04.11.23-04.0...  2024-01-04  04/01/2024  \n",
       "\n",
       "[2622 rows x 14 columns]"
      ]
     },
     "execution_count": 8,
     "metadata": {},
     "output_type": "execute_result"
    }
   ],
   "source": [
    "CISION_FILE = '../../../data/metrics/media_coverage/combined_cision.csv'\n",
    "os.makedirs(os.path.dirname(CISION_FILE), exist_ok=True)\n",
    "\n",
    "cision_data.loc[cision_data.news_date.notna()].pipe(clean_up).pipe(save_csv, output_file=CISION_FILE)"
   ]
  },
  {
   "cell_type": "markdown",
   "id": "03151659",
   "metadata": {
    "papermill": {
     "duration": 0.001677,
     "end_time": "2024-01-17T15:10:06.589735",
     "exception": false,
     "start_time": "2024-01-17T15:10:06.588058",
     "status": "completed"
    },
    "tags": []
   },
   "source": [
    "Plot the number of days in a week where data is available. This shows potential gaps in the data."
   ]
  },
  {
   "cell_type": "code",
   "execution_count": 9,
   "id": "f8a0b0fb",
   "metadata": {
    "execution": {
     "iopub.execute_input": "2024-01-17T15:10:06.593628Z",
     "iopub.status.busy": "2024-01-17T15:10:06.593501Z",
     "iopub.status.idle": "2024-01-17T15:10:07.012967Z",
     "shell.execute_reply": "2024-01-17T15:10:07.012652Z"
    },
    "papermill": {
     "duration": 0.422294,
     "end_time": "2024-01-17T15:10:07.013709",
     "exception": false,
     "start_time": "2024-01-17T15:10:06.591415",
     "status": "completed"
    },
    "tags": []
   },
   "outputs": [
    {
     "data": {
      "image/png": "[encoded data removed]",
      "text/plain": [
       "<Figure size 640x480 with 1 Axes>"
      ]
     },
     "metadata": {},
     "output_type": "display_data"
    }
   ],
   "source": [
    "ax = cision_data.groupby('news_date').news_headline.count().resample('W').count().plot.barh(\n",
    "  xlabel='Number of days in week with news coverage'\n",
    ")"
   ]
  },
  {
   "cell_type": "code",
   "execution_count": null,
   "id": "fc7438e9",
   "metadata": {
    "papermill": {
     "duration": 0.002901,
     "end_time": "2024-01-17T15:10:07.019753",
     "exception": false,
     "start_time": "2024-01-17T15:10:07.016852",
     "status": "completed"
    },
    "tags": []
   },
   "outputs": [],
   "source": []
  }
 ],
 "metadata": {
  "kernelspec": {
   "display_name": "leeds-2023-YZF5GfJv",
   "language": "python",
   "name": "python3"
  },
  "language_info": {
   "codemirror_mode": {
    "name": "ipython",
    "version": 3
   },
   "file_extension": ".py",
   "mimetype": "text/x-python",
   "name": "python",
   "nbconvert_exporter": "python",
   "pygments_lexer": "ipython3",
   "version": "3.10.12"
  },
  "papermill": {
   "default_parameters": {},
   "duration": 2.065915,
   "end_time": "2024-01-17T15:10:07.240413",
   "environment_variables": {},
   "exception": null,
   "input_path": "ingest-cision.ipynb",
   "output_path": "../../../working/output/media-ingest-cision.ipynb",
   "parameters": {},
   "start_time": "2024-01-17T15:10:05.174498",
   "version": "2.4.0"
  }
 },
 "nbformat": 4,
 "nbformat_minor": 5
}