{
 "cells": [
  {
   "cell_type": "code",
   "execution_count": 1,
   "id": "6be8fef3",
   "metadata": {
    "execution": {
     "iopub.execute_input": "2023-08-31T13:39:14.025172Z",
     "iopub.status.busy": "2023-08-31T13:39:14.024830Z",
     "iopub.status.idle": "2023-08-31T13:39:26.165915Z",
     "shell.execute_reply": "2023-08-31T13:39:26.164882Z"
    },
    "papermill": {
     "duration": 12.14879,
     "end_time": "2023-08-31T13:39:26.168712",
     "exception": false,
     "start_time": "2023-08-31T13:39:14.019922",
     "status": "completed"
    },
    "tags": []
   },
   "outputs": [],
   "source": [
    "import os\n",
    "import pandas as pd\n",
    "from events import load_event_data, get_first_ward, normalise_ward"
   ]
  },
  {
   "cell_type": "code",
   "execution_count": 2,
   "id": "9cd89185",
   "metadata": {
    "execution": {
     "iopub.execute_input": "2023-08-31T13:39:26.176593Z",
     "iopub.status.busy": "2023-08-31T13:39:26.175778Z",
     "iopub.status.idle": "2023-08-31T13:39:26.181145Z",
     "shell.execute_reply": "2023-08-31T13:39:26.180045Z"
    },
    "papermill": {
     "duration": 0.011411,
     "end_time": "2023-08-31T13:39:26.183178",
     "exception": false,
     "start_time": "2023-08-31T13:39:26.171767",
     "status": "completed"
    },
    "tags": []
   },
   "outputs": [],
   "source": [
    "latest_date = pd.Timestamp.today().ceil('D')"
   ]
  },
  {
   "cell_type": "code",
   "execution_count": 3,
   "id": "392cecc6",
   "metadata": {
    "execution": {
     "iopub.execute_input": "2023-08-31T13:39:26.190517Z",
     "iopub.status.busy": "2023-08-31T13:39:26.189475Z",
     "iopub.status.idle": "2023-08-31T13:39:26.212209Z",
     "shell.execute_reply": "2023-08-31T13:39:26.211328Z"
    },
    "papermill": {
     "duration": 0.028616,
     "end_time": "2023-08-31T13:39:26.214449",
     "exception": false,
     "start_time": "2023-08-31T13:39:26.185833",
     "status": "completed"
    },
    "tags": []
   },
   "outputs": [],
   "source": [
    "tickets = pd.read_csv('../../../../data/metrics/events/tickets/orders.csv', parse_dates=['created_at', 'event_date'])\n",
    "tickets = tickets[tickets.event_date <= latest_date]"
   ]
  },
  {
   "cell_type": "code",
   "execution_count": 4,
   "id": "edd2d4f0",
   "metadata": {
    "execution": {
     "iopub.execute_input": "2023-08-31T13:39:26.222378Z",
     "iopub.status.busy": "2023-08-31T13:39:26.220851Z",
     "iopub.status.idle": "2023-08-31T13:39:26.505608Z",
     "shell.execute_reply": "2023-08-31T13:39:26.504519Z"
    },
    "papermill": {
     "duration": 0.290893,
     "end_time": "2023-08-31T13:39:26.508042",
     "exception": false,
     "start_time": "2023-08-31T13:39:26.217149",
     "status": "completed"
    },
    "tags": []
   },
   "outputs": [],
   "source": [
    "events = load_event_data()\n",
    "\n",
    "events = pd.concat([\n",
    "  events,\n",
    "  events.pipe(get_first_ward).pipe(normalise_ward).fillna('UNKNOWN'),\n",
    "  pd.Series(\n",
    "      events.actual_audience_size_number_of_participants_in_person + events.actual_audience_size_number_of_participants_online,\n",
    "      name='attendances'\n",
    "  )\n",
    "], axis=1).rename(columns={\n",
    "    'start_date': 'date'\n",
    "}).loc[:, ['ward_code', 'date', 'event_unique_identifier', 'attendances']]"
   ]
  },
  {
   "cell_type": "code",
   "execution_count": 5,
   "id": "c9e34604",
   "metadata": {
    "execution": {
     "iopub.execute_input": "2023-08-31T13:39:26.515295Z",
     "iopub.status.busy": "2023-08-31T13:39:26.514973Z",
     "iopub.status.idle": "2023-08-31T13:39:26.519451Z",
     "shell.execute_reply": "2023-08-31T13:39:26.518589Z"
    },
    "papermill": {
     "duration": 0.01073,
     "end_time": "2023-08-31T13:39:26.521741",
     "exception": false,
     "start_time": "2023-08-31T13:39:26.511011",
     "status": "completed"
    },
    "tags": []
   },
   "outputs": [],
   "source": [
    "OUTPUT_DIR='../../../../docs/metrics/events/signature/_data/'\n",
    "os.makedirs(OUTPUT_DIR, exist_ok=True)"
   ]
  },
  {
   "cell_type": "markdown",
   "id": "d818135d",
   "metadata": {
    "papermill": {
     "duration": 0.003226,
     "end_time": "2023-08-31T13:39:26.527810",
     "exception": false,
     "start_time": "2023-08-31T13:39:26.524584",
     "status": "completed"
    },
    "tags": []
   },
   "source": [
    "Events CSVs"
   ]
  },
  {
   "cell_type": "code",
   "execution_count": 6,
   "id": "fa105d30",
   "metadata": {
    "execution": {
     "iopub.execute_input": "2023-08-31T13:39:26.534373Z",
     "iopub.status.busy": "2023-08-31T13:39:26.534032Z",
     "iopub.status.idle": "2023-08-31T13:39:26.543700Z",
     "shell.execute_reply": "2023-08-31T13:39:26.542715Z"
    },
    "papermill": {
     "duration": 0.015416,
     "end_time": "2023-08-31T13:39:26.545682",
     "exception": false,
     "start_time": "2023-08-31T13:39:26.530266",
     "status": "completed"
    },
    "tags": []
   },
   "outputs": [],
   "source": [
    "pd.DataFrame({\n",
    "  'events': events.groupby('ward_code').event_unique_identifier.count(),\n",
    "  'attendances': events.groupby('ward_code').attendances.sum().astype(int),\n",
    "}).to_csv(os.path.join(OUTPUT_DIR, 'events_by_ward.csv'))\n"
   ]
  },
  {
   "cell_type": "code",
   "execution_count": 7,
   "id": "7d3255f3",
   "metadata": {
    "execution": {
     "iopub.execute_input": "2023-08-31T13:39:26.552290Z",
     "iopub.status.busy": "2023-08-31T13:39:26.551987Z",
     "iopub.status.idle": "2023-08-31T13:39:26.567487Z",
     "shell.execute_reply": "2023-08-31T13:39:26.566626Z"
    },
    "papermill": {
     "duration": 0.02145,
     "end_time": "2023-08-31T13:39:26.569779",
     "exception": false,
     "start_time": "2023-08-31T13:39:26.548329",
     "status": "completed"
    },
    "tags": []
   },
   "outputs": [],
   "source": [
    "pd.DataFrame({\n",
    "  'events': events.groupby('date').event_unique_identifier.count(),\n",
    "  'attendances': events.groupby('date').attendances.sum().astype(int),\n",
    "}).resample('M').sum().astype(int).to_csv(os.path.join(OUTPUT_DIR, 'events_by_date.csv'))"
   ]
  },
  {
   "cell_type": "markdown",
   "id": "35ea4a08",
   "metadata": {
    "papermill": {
     "duration": 0.002873,
     "end_time": "2023-08-31T13:39:26.575551",
     "exception": false,
     "start_time": "2023-08-31T13:39:26.572678",
     "status": "completed"
    },
    "tags": []
   },
   "source": [
    "Tickets CSV"
   ]
  },
  {
   "cell_type": "code",
   "execution_count": 8,
   "id": "95f2aefb",
   "metadata": {
    "execution": {
     "iopub.execute_input": "2023-08-31T13:39:26.582747Z",
     "iopub.status.busy": "2023-08-31T13:39:26.582225Z",
     "iopub.status.idle": "2023-08-31T13:39:26.591579Z",
     "shell.execute_reply": "2023-08-31T13:39:26.590783Z"
    },
    "papermill": {
     "duration": 0.016041,
     "end_time": "2023-08-31T13:39:26.594232",
     "exception": false,
     "start_time": "2023-08-31T13:39:26.578191",
     "status": "completed"
    },
    "tags": []
   },
   "outputs": [],
   "source": [
    "pd.DataFrame({\n",
    "  'orders': tickets.groupby('ward_code').number_of_tickets.count(),\n",
    "  'tickets': tickets.groupby('ward_code').number_of_tickets.sum().astype(int),\n",
    "}).to_csv(os.path.join(OUTPUT_DIR, 'tickets_by_ward.csv'))"
   ]
  },
  {
   "cell_type": "code",
   "execution_count": 9,
   "id": "3cd1eebf",
   "metadata": {
    "execution": {
     "iopub.execute_input": "2023-08-31T13:39:26.601346Z",
     "iopub.status.busy": "2023-08-31T13:39:26.600839Z",
     "iopub.status.idle": "2023-08-31T13:39:26.612123Z",
     "shell.execute_reply": "2023-08-31T13:39:26.611221Z"
    },
    "papermill": {
     "duration": 0.017331,
     "end_time": "2023-08-31T13:39:26.614332",
     "exception": false,
     "start_time": "2023-08-31T13:39:26.597001",
     "status": "completed"
    },
    "tags": []
   },
   "outputs": [],
   "source": [
    "pd.DataFrame({\n",
    "  'orders': tickets.groupby('event_date').number_of_tickets.count(),\n",
    "  'tickets': tickets.groupby('event_date').number_of_tickets.sum().astype(int),\n",
    "}).resample('M').sum().to_csv(os.path.join(OUTPUT_DIR, 'tickets_by_event_date.csv'))"
   ]
  },
  {
   "cell_type": "code",
   "execution_count": 10,
   "id": "7712aa2f",
   "metadata": {
    "execution": {
     "iopub.execute_input": "2023-08-31T13:39:26.623147Z",
     "iopub.status.busy": "2023-08-31T13:39:26.622355Z",
     "iopub.status.idle": "2023-08-31T13:39:26.629579Z",
     "shell.execute_reply": "2023-08-31T13:39:26.628831Z"
    },
    "papermill": {
     "duration": 0.013898,
     "end_time": "2023-08-31T13:39:26.631394",
     "exception": false,
     "start_time": "2023-08-31T13:39:26.617496",
     "status": "completed"
    },
    "tags": []
   },
   "outputs": [],
   "source": [
    "pd.Series({\n",
    "    'total_events': events.event_unique_identifier.count(),\n",
    "    'total_attendances': events.attendances.count(),\n",
    "    'first_event': events.date.min(),\n",
    "    'latest_event': events.date.max(),\n",
    "    'total_ticket_orders_for_events_to_date': tickets.number_of_tickets.count(),\n",
    "    'total_tickets_sold_for_events_to_date': tickets.number_of_tickets.sum(),\n",
    "}).to_json(os.path.join(OUTPUT_DIR, 'headlines.json'), indent=2)"
   ]
  },
  {
   "cell_type": "code",
   "execution_count": null,
   "id": "bba3191f",
   "metadata": {
    "papermill": {
     "duration": 0.002683,
     "end_time": "2023-08-31T13:39:26.637033",
     "exception": false,
     "start_time": "2023-08-31T13:39:26.634350",
     "status": "completed"
    },
    "tags": []
   },
   "outputs": [],
   "source": []
  }
 ],
 "metadata": {
  "kernelspec": {
   "display_name": "leeds-2023-YZF5GfJv",
   "language": "python",
   "name": "python3"
  },
  "language_info": {
   "codemirror_mode": {
    "name": "ipython",
    "version": 3
   },
   "file_extension": ".py",
   "mimetype": "text/x-python",
   "name": "python",
   "nbconvert_exporter": "python",
   "pygments_lexer": "ipython3",
   "version": "3.10.12"
  },
  "papermill": {
   "default_parameters": {},
   "duration": 14.619402,
   "end_time": "2023-08-31T13:39:27.062576",
   "environment_variables": {},
   "exception": null,
   "input_path": "prepare.ipynb",
   "output_path": "../../../../working/output/signature-prepare.ipynb",
   "parameters": {},
   "start_time": "2023-08-31T13:39:12.443174",
   "version": "2.4.0"
  }
 },
 "nbformat": 4,
 "nbformat_minor": 5
}