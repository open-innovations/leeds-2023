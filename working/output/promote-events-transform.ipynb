{
 "cells": [
  {
   "cell_type": "code",
   "execution_count": 1,
   "id": "f10a3d83",
   "metadata": {
    "execution": {
     "iopub.execute_input": "2023-07-22T23:38:41.090026Z",
     "iopub.status.busy": "2023-07-22T23:38:41.089518Z",
     "iopub.status.idle": "2023-07-22T23:38:41.318371Z",
     "shell.execute_reply": "2023-07-22T23:38:41.317752Z"
    },
    "papermill": {
     "duration": 0.233261,
     "end_time": "2023-07-22T23:38:41.320145",
     "exception": false,
     "start_time": "2023-07-22T23:38:41.086884",
     "status": "completed"
    },
    "tags": []
   },
   "outputs": [],
   "source": [
    "import os\n",
    "import pandas as pd"
   ]
  },
  {
   "cell_type": "code",
   "execution_count": 2,
   "id": "185801dc",
   "metadata": {
    "execution": {
     "iopub.execute_input": "2023-07-22T23:38:41.324386Z",
     "iopub.status.busy": "2023-07-22T23:38:41.323694Z",
     "iopub.status.idle": "2023-07-22T23:38:41.327131Z",
     "shell.execute_reply": "2023-07-22T23:38:41.326533Z"
    },
    "papermill": {
     "duration": 0.006962,
     "end_time": "2023-07-22T23:38:41.328573",
     "exception": false,
     "start_time": "2023-07-22T23:38:41.321611",
     "status": "completed"
    },
    "tags": []
   },
   "outputs": [],
   "source": [
    "EVENTS_RAW_DATA = '../../../working/metrics/promote-events/events.csv'\n",
    "DATA_DIR = '../../../data/metrics/events/promote-events/'\n",
    "EVENTS_DATA = os.path.join(DATA_DIR, 'events.csv')"
   ]
  },
  {
   "cell_type": "code",
   "execution_count": 3,
   "id": "c37055d0",
   "metadata": {
    "execution": {
     "iopub.execute_input": "2023-07-22T23:38:41.331700Z",
     "iopub.status.busy": "2023-07-22T23:38:41.331492Z",
     "iopub.status.idle": "2023-07-22T23:38:41.334712Z",
     "shell.execute_reply": "2023-07-22T23:38:41.334134Z"
    },
    "papermill": {
     "duration": 0.006288,
     "end_time": "2023-07-22T23:38:41.335981",
     "exception": false,
     "start_time": "2023-07-22T23:38:41.329693",
     "status": "completed"
    },
    "tags": []
   },
   "outputs": [],
   "source": [
    "columns = {\n",
    "    'id': 'id',\n",
    "    'name': 'name',\n",
    "    'locationName': 'location',\n",
    "    'cardPrice': 'card_price',\n",
    "    'timeslots': 'time',\n",
    "    'displayOnWebsite': 'display',\n",
    "    'Stage': 'stage',\n",
    "}"
   ]
  },
  {
   "cell_type": "code",
   "execution_count": 4,
   "id": "b117eae8",
   "metadata": {
    "execution": {
     "iopub.execute_input": "2023-07-22T23:38:41.339344Z",
     "iopub.status.busy": "2023-07-22T23:38:41.338896Z",
     "iopub.status.idle": "2023-07-22T23:38:41.349837Z",
     "shell.execute_reply": "2023-07-22T23:38:41.349299Z"
    },
    "papermill": {
     "duration": 0.014077,
     "end_time": "2023-07-22T23:38:41.351196",
     "exception": false,
     "start_time": "2023-07-22T23:38:41.337119",
     "status": "completed"
    },
    "tags": []
   },
   "outputs": [],
   "source": [
    "data = pd.read_csv(EVENTS_RAW_DATA)[columns.keys()].rename(columns=columns)\n",
    "data.time = pd.to_datetime(data.time, errors='coerce')"
   ]
  },
  {
   "cell_type": "code",
   "execution_count": 5,
   "id": "8cc67344",
   "metadata": {
    "execution": {
     "iopub.execute_input": "2023-07-22T23:38:41.354736Z",
     "iopub.status.busy": "2023-07-22T23:38:41.354255Z",
     "iopub.status.idle": "2023-07-22T23:38:41.361513Z",
     "shell.execute_reply": "2023-07-22T23:38:41.360976Z"
    },
    "papermill": {
     "duration": 0.010462,
     "end_time": "2023-07-22T23:38:41.362853",
     "exception": false,
     "start_time": "2023-07-22T23:38:41.352391",
     "status": "completed"
    },
    "tags": []
   },
   "outputs": [],
   "source": [
    "data.to_csv(os.path.join(DATA_DIR, 'events.csv'), index=False)"
   ]
  }
 ],
 "metadata": {
  "kernelspec": {
   "display_name": "leeds-2023-YZF5GfJv",
   "language": "python",
   "name": "python3"
  },
  "language_info": {
   "codemirror_mode": {
    "name": "ipython",
    "version": 3
   },
   "file_extension": ".py",
   "mimetype": "text/x-python",
   "name": "python",
   "nbconvert_exporter": "python",
   "pygments_lexer": "ipython3",
   "version": "3.10.6"
  },
  "papermill": {
   "default_parameters": {},
   "duration": 1.808279,
   "end_time": "2023-07-22T23:38:41.580906",
   "environment_variables": {},
   "exception": null,
   "input_path": "transform.ipynb",
   "output_path": "../../../working/output/promote-events-transform.ipynb",
   "parameters": {},
   "start_time": "2023-07-22T23:38:39.772627",
   "version": "2.4.0"
  }
 },
 "nbformat": 4,
 "nbformat_minor": 5
}