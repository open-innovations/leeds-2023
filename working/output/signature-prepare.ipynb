{
 "cells": [
  {
   "cell_type": "code",
   "execution_count": 1,
   "id": "15d376ec",
   "metadata": {
    "execution": {
     "iopub.execute_input": "2023-12-15T23:39:54.874652Z",
     "iopub.status.busy": "2023-12-15T23:39:54.874401Z",
     "iopub.status.idle": "2023-12-15T23:40:02.167445Z",
     "shell.execute_reply": "2023-12-15T23:40:02.166805Z"
    },
    "papermill": {
     "duration": 7.298393,
     "end_time": "2023-12-15T23:40:02.169164",
     "exception": false,
     "start_time": "2023-12-15T23:39:54.870771",
     "status": "completed"
    },
    "tags": []
   },
   "outputs": [],
   "source": [
    "import os\n",
    "import pandas as pd\n",
    "from events import load_event_data, get_first_ward, normalise_ward"
   ]
  },
  {
   "cell_type": "code",
   "execution_count": 2,
   "id": "5dca5703",
   "metadata": {
    "execution": {
     "iopub.execute_input": "2023-12-15T23:40:02.174395Z",
     "iopub.status.busy": "2023-12-15T23:40:02.174015Z",
     "iopub.status.idle": "2023-12-15T23:40:02.177354Z",
     "shell.execute_reply": "2023-12-15T23:40:02.176809Z"
    },
    "papermill": {
     "duration": 0.007239,
     "end_time": "2023-12-15T23:40:02.178650",
     "exception": false,
     "start_time": "2023-12-15T23:40:02.171411",
     "status": "completed"
    },
    "tags": []
   },
   "outputs": [],
   "source": [
    "latest_date = pd.Timestamp.today().ceil('D')"
   ]
  },
  {
   "cell_type": "code",
   "execution_count": 3,
   "id": "bd28c86e",
   "metadata": {
    "execution": {
     "iopub.execute_input": "2023-12-15T23:40:02.183282Z",
     "iopub.status.busy": "2023-12-15T23:40:02.182899Z",
     "iopub.status.idle": "2023-12-15T23:40:02.198933Z",
     "shell.execute_reply": "2023-12-15T23:40:02.198406Z"
    },
    "papermill": {
     "duration": 0.019888,
     "end_time": "2023-12-15T23:40:02.200310",
     "exception": false,
     "start_time": "2023-12-15T23:40:02.180422",
     "status": "completed"
    },
    "tags": []
   },
   "outputs": [],
   "source": [
    "tickets = pd.read_csv('../../../../data/metrics/events/tickets/orders.csv', parse_dates=['created_at', 'event_date'])\n",
    "tickets = tickets[tickets.event_date <= latest_date]"
   ]
  },
  {
   "cell_type": "code",
   "execution_count": 4,
   "id": "cafff49f",
   "metadata": {
    "execution": {
     "iopub.execute_input": "2023-12-15T23:40:02.205263Z",
     "iopub.status.busy": "2023-12-15T23:40:02.204768Z",
     "iopub.status.idle": "2023-12-15T23:40:02.257819Z",
     "shell.execute_reply": "2023-12-15T23:40:02.257183Z"
    },
    "papermill": {
     "duration": 0.057071,
     "end_time": "2023-12-15T23:40:02.259323",
     "exception": false,
     "start_time": "2023-12-15T23:40:02.202252",
     "status": "completed"
    },
    "tags": []
   },
   "outputs": [],
   "source": [
    "events = load_event_data()\n",
    "\n",
    "events = pd.concat([\n",
    "  events,\n",
    "  events.pipe(get_first_ward).pipe(normalise_ward).fillna('UNKNOWN'),\n",
    "  pd.Series(\n",
    "      events.actual_audience_size_number_of_participants_in_person + events.actual_audience_size_number_of_participants_online,\n",
    "      name='attendances'\n",
    "  )\n",
    "], axis=1).rename(columns={\n",
    "    'start_date': 'date'\n",
    "}).loc[:, ['ward_code', 'date', 'event_unique_identifier', 'attendances']]"
   ]
  },
  {
   "cell_type": "code",
   "execution_count": 5,
   "id": "172e29b6",
   "metadata": {
    "execution": {
     "iopub.execute_input": "2023-12-15T23:40:02.264264Z",
     "iopub.status.busy": "2023-12-15T23:40:02.263868Z",
     "iopub.status.idle": "2023-12-15T23:40:02.267185Z",
     "shell.execute_reply": "2023-12-15T23:40:02.266653Z"
    },
    "papermill": {
     "duration": 0.007186,
     "end_time": "2023-12-15T23:40:02.268495",
     "exception": false,
     "start_time": "2023-12-15T23:40:02.261309",
     "status": "completed"
    },
    "tags": []
   },
   "outputs": [],
   "source": [
    "OUTPUT_DIR='../../../../docs/metrics/events/signature/_data/'\n",
    "os.makedirs(OUTPUT_DIR, exist_ok=True)"
   ]
  },
  {
   "cell_type": "markdown",
   "id": "cd4ced2b",
   "metadata": {
    "papermill": {
     "duration": 0.001863,
     "end_time": "2023-12-15T23:40:02.272273",
     "exception": false,
     "start_time": "2023-12-15T23:40:02.270410",
     "status": "completed"
    },
    "tags": []
   },
   "source": [
    "Events CSVs"
   ]
  },
  {
   "cell_type": "code",
   "execution_count": 6,
   "id": "5591b06e",
   "metadata": {
    "execution": {
     "iopub.execute_input": "2023-12-15T23:40:02.277219Z",
     "iopub.status.busy": "2023-12-15T23:40:02.276805Z",
     "iopub.status.idle": "2023-12-15T23:40:02.282776Z",
     "shell.execute_reply": "2023-12-15T23:40:02.282266Z"
    },
    "papermill": {
     "duration": 0.009833,
     "end_time": "2023-12-15T23:40:02.284071",
     "exception": false,
     "start_time": "2023-12-15T23:40:02.274238",
     "status": "completed"
    },
    "tags": []
   },
   "outputs": [],
   "source": [
    "pd.DataFrame({\n",
    "  'events': events.groupby('ward_code').event_unique_identifier.count(),\n",
    "  'attendances': events.groupby('ward_code').attendances.sum().astype(int),\n",
    "}).to_csv(os.path.join(OUTPUT_DIR, 'events_by_ward.csv'))\n"
   ]
  },
  {
   "cell_type": "code",
   "execution_count": 7,
   "id": "77004207",
   "metadata": {
    "execution": {
     "iopub.execute_input": "2023-12-15T23:40:02.288917Z",
     "iopub.status.busy": "2023-12-15T23:40:02.288599Z",
     "iopub.status.idle": "2023-12-15T23:40:02.296515Z",
     "shell.execute_reply": "2023-12-15T23:40:02.295988Z"
    },
    "papermill": {
     "duration": 0.011731,
     "end_time": "2023-12-15T23:40:02.297768",
     "exception": false,
     "start_time": "2023-12-15T23:40:02.286037",
     "status": "completed"
    },
    "tags": []
   },
   "outputs": [],
   "source": [
    "pd.DataFrame({\n",
    "  'events': events.groupby('date').event_unique_identifier.count(),\n",
    "  'attendances': events.groupby('date').attendances.sum().astype(int),\n",
    "}).resample('M').sum().astype(int).to_csv(os.path.join(OUTPUT_DIR, 'events_by_date.csv'))"
   ]
  },
  {
   "cell_type": "markdown",
   "id": "9c9638f8",
   "metadata": {
    "papermill": {
     "duration": 0.002658,
     "end_time": "2023-12-15T23:40:02.302390",
     "exception": false,
     "start_time": "2023-12-15T23:40:02.299732",
     "status": "completed"
    },
    "tags": []
   },
   "source": [
    "Tickets CSV"
   ]
  },
  {
   "cell_type": "code",
   "execution_count": 8,
   "id": "c53fb3be",
   "metadata": {
    "execution": {
     "iopub.execute_input": "2023-12-15T23:40:02.307142Z",
     "iopub.status.busy": "2023-12-15T23:40:02.306768Z",
     "iopub.status.idle": "2023-12-15T23:40:02.313027Z",
     "shell.execute_reply": "2023-12-15T23:40:02.312540Z"
    },
    "papermill": {
     "duration": 0.010044,
     "end_time": "2023-12-15T23:40:02.314329",
     "exception": false,
     "start_time": "2023-12-15T23:40:02.304285",
     "status": "completed"
    },
    "tags": []
   },
   "outputs": [],
   "source": [
    "pd.DataFrame({\n",
    "  'orders': tickets.groupby('ward_code').number_of_tickets.count(),\n",
    "  'tickets': tickets.groupby('ward_code').number_of_tickets.sum().astype(int),\n",
    "}).to_csv(os.path.join(OUTPUT_DIR, 'tickets_by_ward.csv'))"
   ]
  },
  {
   "cell_type": "code",
   "execution_count": 9,
   "id": "ca49156d",
   "metadata": {
    "execution": {
     "iopub.execute_input": "2023-12-15T23:40:02.319319Z",
     "iopub.status.busy": "2023-12-15T23:40:02.318964Z",
     "iopub.status.idle": "2023-12-15T23:40:02.326013Z",
     "shell.execute_reply": "2023-12-15T23:40:02.325477Z"
    },
    "papermill": {
     "duration": 0.011034,
     "end_time": "2023-12-15T23:40:02.327333",
     "exception": false,
     "start_time": "2023-12-15T23:40:02.316299",
     "status": "completed"
    },
    "tags": []
   },
   "outputs": [],
   "source": [
    "pd.DataFrame({\n",
    "  'orders': tickets.groupby('event_date').number_of_tickets.count(),\n",
    "  'tickets': tickets.groupby('event_date').number_of_tickets.sum().astype(int),\n",
    "}).resample('M').sum().to_csv(os.path.join(OUTPUT_DIR, 'tickets_by_event_date.csv'))"
   ]
  },
  {
   "cell_type": "code",
   "execution_count": 10,
   "id": "48838bac",
   "metadata": {
    "execution": {
     "iopub.execute_input": "2023-12-15T23:40:02.332417Z",
     "iopub.status.busy": "2023-12-15T23:40:02.332079Z",
     "iopub.status.idle": "2023-12-15T23:40:02.336751Z",
     "shell.execute_reply": "2023-12-15T23:40:02.336261Z"
    },
    "papermill": {
     "duration": 0.008682,
     "end_time": "2023-12-15T23:40:02.338012",
     "exception": false,
     "start_time": "2023-12-15T23:40:02.329330",
     "status": "completed"
    },
    "tags": []
   },
   "outputs": [],
   "source": [
    "pd.Series({\n",
    "    'total_events': events.event_unique_identifier.count(),\n",
    "    'total_attendances': events.attendances.count(),\n",
    "    'first_event': events.date.min(),\n",
    "    'latest_event': events.date.max(),\n",
    "    'total_ticket_orders_for_events_to_date': tickets.number_of_tickets.count(),\n",
    "    'total_tickets_sold_for_events_to_date': tickets.number_of_tickets.sum(),\n",
    "}).to_json(os.path.join(OUTPUT_DIR, 'headlines.json'), indent=2)"
   ]
  },
  {
   "cell_type": "code",
   "execution_count": null,
   "id": "d11dbca9",
   "metadata": {
    "papermill": {
     "duration": 0.001992,
     "end_time": "2023-12-15T23:40:02.342008",
     "exception": false,
     "start_time": "2023-12-15T23:40:02.340016",
     "status": "completed"
    },
    "tags": []
   },
   "outputs": [],
   "source": []
  }
 ],
 "metadata": {
  "kernelspec": {
   "display_name": "leeds-2023-YZF5GfJv",
   "language": "python",
   "name": "python3"
  },
  "language_info": {
   "codemirror_mode": {
    "name": "ipython",
    "version": 3
   },
   "file_extension": ".py",
   "mimetype": "text/x-python",
   "name": "python",
   "nbconvert_exporter": "python",
   "pygments_lexer": "ipython3",
   "version": "3.10.13"
  },
  "papermill": {
   "default_parameters": {},
   "duration": 8.928066,
   "end_time": "2023-12-15T23:40:02.560407",
   "environment_variables": {},
   "exception": null,
   "input_path": "prepare.ipynb",
   "output_path": "../../../../working/output/signature-prepare.ipynb",
   "parameters": {},
   "start_time": "2023-12-15T23:39:53.632341",
   "version": "2.4.0"
  }
 },
 "nbformat": 4,
 "nbformat_minor": 5
}