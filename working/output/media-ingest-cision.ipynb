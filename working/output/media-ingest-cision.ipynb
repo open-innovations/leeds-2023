{
 "cells": [
  {
   "cell_type": "code",
   "execution_count": 1,
   "id": "660aa219",
   "metadata": {
    "execution": {
     "iopub.execute_input": "2024-01-19T16:12:07.518304Z",
     "iopub.status.busy": "2024-01-19T16:12:07.517631Z",
     "iopub.status.idle": "2024-01-19T16:12:07.692151Z",
     "shell.execute_reply": "2024-01-19T16:12:07.691706Z"
    },
    "papermill": {
     "duration": 0.182278,
     "end_time": "2024-01-19T16:12:07.693135",
     "exception": false,
     "start_time": "2024-01-19T16:12:07.510857",
     "status": "completed"
    },
    "tags": []
   },
   "outputs": [],
   "source": [
    "import glob\n",
    "import os\n",
    "\n",
    "import pandas as pd\n",
    "from cision import (add_hash, append_filename, clean_up, convert_numbers,\n",
    "                    drop_empty_headlines, guess_date, guess_encoding,\n",
    "                    normalise_column_names, patch_column_names, save_csv,\n",
    "                    logger)"
   ]
  },
  {
   "cell_type": "markdown",
   "id": "c3352f9a",
   "metadata": {
    "papermill": {
     "duration": 0.001234,
     "end_time": "2024-01-19T16:12:07.695838",
     "exception": false,
     "start_time": "2024-01-19T16:12:07.694604",
     "status": "completed"
    },
    "tags": []
   },
   "source": [
    "The media files are downloaded to `working/manual/media` with a `dvc` url import. The files are uploaded to files.open-innovations.org by AMA, who are LEEDS 2023's media partner."
   ]
  },
  {
   "cell_type": "code",
   "execution_count": 2,
   "id": "dc325cf4",
   "metadata": {
    "execution": {
     "iopub.execute_input": "2024-01-19T16:12:07.698879Z",
     "iopub.status.busy": "2024-01-19T16:12:07.698698Z",
     "iopub.status.idle": "2024-01-19T16:12:07.700845Z",
     "shell.execute_reply": "2024-01-19T16:12:07.700578Z"
    },
    "papermill": {
     "duration": 0.004499,
     "end_time": "2024-01-19T16:12:07.701544",
     "exception": false,
     "start_time": "2024-01-19T16:12:07.697045",
     "status": "completed"
    },
    "tags": []
   },
   "outputs": [],
   "source": [
    "WORKING_DIR = '../../../working/manual/media/'"
   ]
  },
  {
   "cell_type": "markdown",
   "id": "009ed3f4",
   "metadata": {
    "papermill": {
     "duration": 0.001163,
     "end_time": "2024-01-19T16:12:07.704016",
     "exception": false,
     "start_time": "2024-01-19T16:12:07.702853",
     "status": "completed"
    },
    "tags": []
   },
   "source": [
    "Get the list of input files and work out which is the latest date in the column"
   ]
  },
  {
   "cell_type": "code",
   "execution_count": 3,
   "id": "2d49a468",
   "metadata": {
    "execution": {
     "iopub.execute_input": "2024-01-19T16:12:07.707291Z",
     "iopub.status.busy": "2024-01-19T16:12:07.706880Z",
     "iopub.status.idle": "2024-01-19T16:12:07.711570Z",
     "shell.execute_reply": "2024-01-19T16:12:07.711253Z"
    },
    "papermill": {
     "duration": 0.007094,
     "end_time": "2024-01-19T16:12:07.712321",
     "exception": false,
     "start_time": "2024-01-19T16:12:07.705227",
     "status": "completed"
    },
    "tags": []
   },
   "outputs": [],
   "source": [
    "files=glob.glob('*.csv', root_dir=WORKING_DIR)\n",
    "input_files = pd.Series(\n",
    "    files, index=files, name='latest_input_date'\n",
    ").str.lower().str.replace(\n",
    "    r'(leeds 2023.*?media coverage( w\\.e\\.*)*\\s*([\\d\\.]*-){0,1}|.csv$)', '', regex=True\n",
    ").str.strip().pipe(pd.to_datetime, format='%d.%m.%y', errors='coerce').sort_values()"
   ]
  },
  {
   "cell_type": "markdown",
   "id": "fb59f105",
   "metadata": {
    "papermill": {
     "duration": 0.001181,
     "end_time": "2024-01-19T16:12:07.714759",
     "exception": false,
     "start_time": "2024-01-19T16:12:07.713578",
     "status": "completed"
    },
    "tags": []
   },
   "source": [
    "List files with invalid dates"
   ]
  },
  {
   "cell_type": "code",
   "execution_count": 4,
   "id": "e500038a",
   "metadata": {
    "execution": {
     "iopub.execute_input": "2024-01-19T16:12:07.717745Z",
     "iopub.status.busy": "2024-01-19T16:12:07.717560Z",
     "iopub.status.idle": "2024-01-19T16:12:07.722936Z",
     "shell.execute_reply": "2024-01-19T16:12:07.722645Z"
    },
    "papermill": {
     "duration": 0.007747,
     "end_time": "2024-01-19T16:12:07.723677",
     "exception": false,
     "start_time": "2024-01-19T16:12:07.715930",
     "status": "completed"
    },
    "tags": []
   },
   "outputs": [
    {
     "data": {
      "text/html": [
       "<div>\n",
       "<style scoped>\n",
       "    .dataframe tbody tr th:only-of-type {\n",
       "        vertical-align: middle;\n",
       "    }\n",
       "\n",
       "    .dataframe tbody tr th {\n",
       "        vertical-align: top;\n",
       "    }\n",
       "\n",
       "    .dataframe thead th {\n",
       "        text-align: right;\n",
       "    }\n",
       "</style>\n",
       "<table border=\"1\" class=\"dataframe\">\n",
       "  <thead>\n",
       "    <tr style=\"text-align: right;\">\n",
       "      <th></th>\n",
       "      <th>latest_input_date</th>\n",
       "    </tr>\n",
       "  </thead>\n",
       "  <tbody>\n",
       "  </tbody>\n",
       "</table>\n",
       "</div>"
      ],
      "text/plain": [
       "Empty DataFrame\n",
       "Columns: [latest_input_date]\n",
       "Index: []"
      ]
     },
     "execution_count": 4,
     "metadata": {},
     "output_type": "execute_result"
    }
   ],
   "source": [
    "input_files.loc[input_files.isna()].to_frame()"
   ]
  },
  {
   "cell_type": "markdown",
   "id": "cc6343ab",
   "metadata": {
    "papermill": {
     "duration": 0.001297,
     "end_time": "2024-01-19T16:12:07.726375",
     "exception": false,
     "start_time": "2024-01-19T16:12:07.725078",
     "status": "completed"
    },
    "tags": []
   },
   "source": [
    "Load the cision date into a long "
   ]
  },
  {
   "cell_type": "code",
   "execution_count": 5,
   "id": "c158c6ab",
   "metadata": {
    "execution": {
     "iopub.execute_input": "2024-01-19T16:12:07.729619Z",
     "iopub.status.busy": "2024-01-19T16:12:07.729376Z",
     "iopub.status.idle": "2024-01-19T16:12:07.732914Z",
     "shell.execute_reply": "2024-01-19T16:12:07.732636Z"
    },
    "papermill": {
     "duration": 0.00598,
     "end_time": "2024-01-19T16:12:07.733625",
     "exception": false,
     "start_time": "2024-01-19T16:12:07.727645",
     "status": "completed"
    },
    "tags": []
   },
   "outputs": [],
   "source": [
    "required_columns = set([\n",
    "    'news_date', 'news_headline', 'outlet_name', 'audience_reach', 'uv'\n",
    "])\n",
    "\n",
    "\n",
    "def load_cision_file(filename):\n",
    "    source_file = os.path.basename(filename)\n",
    "    print(source_file)\n",
    "    latest_date = input_files.loc[source_file]\n",
    "    logger.info('Loading %s', source_file)\n",
    "    logger.info('Latest date %s', str(latest_date))\n",
    "\n",
    "    try:\n",
    "        data = pd.read_csv(\n",
    "            filename,\n",
    "            encoding=guess_encoding(filename),\n",
    "            thousands=',',\n",
    "            skipinitialspace=True\n",
    "        )\n",
    "    except Exception as e:\n",
    "        logger.warning('Cannot process %s', filename)\n",
    "        logger.info(e)\n",
    "        return\n",
    "\n",
    "    # print(data.pipe(normalise_column_names).pipe(patch_column_names)['uv'].fillna(0).astype('Int64'))\n",
    "    data = (\n",
    "        data\n",
    "        .pipe(add_hash)\n",
    "        .pipe(append_filename, source_file)\n",
    "        .pipe(normalise_column_names)\n",
    "        .pipe(patch_column_names)\n",
    "        .pipe(drop_empty_headlines)\n",
    "        .pipe(guess_date, latest_date=latest_date)\n",
    "        .pipe(convert_numbers)\n",
    "    )\n",
    "\n",
    "    data['latest_date'] = latest_date\n",
    "\n",
    "    # Check for expected columns\n",
    "    try:\n",
    "        assert required_columns.issubset(data.columns)\n",
    "    except:\n",
    "        missing = required_columns.difference(data.columns)\n",
    "        logger.warning(\"Missing columns %s in %s\", missing, filename)\n",
    "        logger.info(\"Got columns %r\", data.columns)\n",
    "        return\n",
    "\n",
    "    return data"
   ]
  },
  {
   "cell_type": "code",
   "execution_count": 6,
   "id": "c83f5f48",
   "metadata": {
    "execution": {
     "iopub.execute_input": "2024-01-19T16:12:07.737411Z",
     "iopub.status.busy": "2024-01-19T16:12:07.737191Z",
     "iopub.status.idle": "2024-01-19T16:12:08.190317Z",
     "shell.execute_reply": "2024-01-19T16:12:08.189877Z"
    },
    "papermill": {
     "duration": 0.456245,
     "end_time": "2024-01-19T16:12:08.191211",
     "exception": false,
     "start_time": "2024-01-19T16:12:07.734966",
     "status": "completed"
    },
    "tags": []
   },
   "outputs": [
    {
     "name": "stdout",
     "output_type": "stream",
     "text": [
      "Leeds 2023 media coverage 23.09.22-17.10.22.csv\n",
      "Leeds 2023 weekly media coverage 24.11.22.csv\n",
      "Leeds 2023 weekly media coverage 02.12.22.csv\n",
      "Leeds 2023 weekly media coverage 09.12.22.csv\n",
      "Leeds 2023 weekly media coverage 16.12.22.csv\n",
      "Leeds 2023 weekly media coverage 23.12.22.csv\n",
      "Leeds 2023 weekly media coverage 1-6.01.23.csv\n",
      "LEEDS 2023 The Awakening media coverage 7-9.01.23.csv\n",
      "Leeds 2023 weekly media coverage w.e. 13.01.23.csv\n",
      "Leeds 2023 weekly media coverage 13-20.01.23.csv\n",
      "Leeds 2023 weekly media coverage 21-27.01.23.csv\n",
      "Leeds 2023 weekly media coverage w.e 03.02.23.csv\n",
      "LEEDS 2023 weekly media coverage W.e 10.02.23.csv\n",
      "LEEDS 2023 Weekly Media Coverage w.e. 17.02.23.csv\n",
      "LEEDS 2023 weekly media coverage w.e. 24.02.23.csv\n",
      "LEEDS 2023 weekly media coverage w.e. 03.03.23.csv\n",
      "Leeds 2023 weekly media coverage w.e. 10.03.23.csv\n",
      "Leeds 2023 weekly media coverage w.e. 17.03.23.csv\n",
      "Leeds 2023 weekly media coverage 24.03.23.csv\n",
      "leeds 2023 weekly media coverage w.e. 31.03.23.csv\n",
      "Leeds 2023 weekly media coverage w.e. 6.04.23.csv\n",
      "LEEDS 2023 Weekly media coverage 28.04.23.csv\n",
      "LEEDS 2023 weekly media coverage w.e. 05.05.23.csv\n",
      "LEEDS 2023 Weekly media coverage w.e 12.05.23.csv\n",
      "Leeds 2023 weekly media coverage w.e 19.05.23.csv\n",
      "Leeds 2023 weekly media coverage w.e 26.5.23.csv\n"
     ]
    },
    {
     "name": "stdout",
     "output_type": "stream",
     "text": [
      "LEEDS 2023 Weekly media coverage w.e. 02.06.23.csv\n",
      "LEEDS 2023 Weekly media coverage w.e. 09.06.23.csv\n",
      "LEEDS 2023 Weekly media coverage w.e. 16.06.23.csv\n",
      "LEEDS 2023 Weekly media coverage w.e. 23.06.23.csv\n",
      "LEEDS 2023 Weekly media coverage 30.06.23.csv\n",
      "LEEDS 2023 Weekly media coverage w.e 07.07.23 .csv\n",
      "LEEDS 2023 Weekly media coverage w.e 14.07.23.csv\n",
      "LEEDS 2023 Weekly media coverage w.e. 21.07.23.csv\n",
      "LEEDS 2023 weekly media coverage w.e 28.07.23.csv\n",
      "Leeds 2023 weekly media coverage 29.07-18.08.23.csv\n",
      "LEEDS 2023 Weekly media coverage w.e 08.09.23.csv\n",
      "LEEDS 2023 Weekly media coverage 09.09.23-03.11.23.csv\n",
      "Leeds 2023 weekly media coverage 04.11.23-04.01.24.csv\n",
      "Leeds 2023 weekly media coverage 05.01.24- 19.01.24.csv\n"
     ]
    }
   ],
   "source": [
    "cision_data = pd.concat([\n",
    "    load_cision_file(os.path.join(WORKING_DIR, f))\n",
    "    for f in\n",
    "    input_files.loc[input_files.notna()].index.to_list()\n",
    "])"
   ]
  },
  {
   "cell_type": "markdown",
   "id": "bbb8746e",
   "metadata": {
    "papermill": {
     "duration": 0.001508,
     "end_time": "2024-01-19T16:12:08.194341",
     "exception": false,
     "start_time": "2024-01-19T16:12:08.192833",
     "status": "completed"
    },
    "tags": []
   },
   "source": [
    "Print missing dates"
   ]
  },
  {
   "cell_type": "code",
   "execution_count": 7,
   "id": "c11120b5",
   "metadata": {
    "execution": {
     "iopub.execute_input": "2024-01-19T16:12:08.197805Z",
     "iopub.status.busy": "2024-01-19T16:12:08.197657Z",
     "iopub.status.idle": "2024-01-19T16:12:08.202953Z",
     "shell.execute_reply": "2024-01-19T16:12:08.202673Z"
    },
    "papermill": {
     "duration": 0.007914,
     "end_time": "2024-01-19T16:12:08.203659",
     "exception": false,
     "start_time": "2024-01-19T16:12:08.195745",
     "status": "completed"
    },
    "tags": []
   },
   "outputs": [
    {
     "data": {
      "text/html": [
       "<div>\n",
       "<style scoped>\n",
       "    .dataframe tbody tr th:only-of-type {\n",
       "        vertical-align: middle;\n",
       "    }\n",
       "\n",
       "    .dataframe tbody tr th {\n",
       "        vertical-align: top;\n",
       "    }\n",
       "\n",
       "    .dataframe thead th {\n",
       "        text-align: right;\n",
       "    }\n",
       "</style>\n",
       "<table border=\"1\" class=\"dataframe\">\n",
       "  <thead>\n",
       "    <tr style=\"text-align: right;\">\n",
       "      <th></th>\n",
       "      <th>news_date</th>\n",
       "      <th>input_date</th>\n",
       "      <th>source_file</th>\n",
       "    </tr>\n",
       "  </thead>\n",
       "  <tbody>\n",
       "    <tr>\n",
       "      <th>0</th>\n",
       "      <td>NaT</td>\n",
       "      <td>1/1/2023</td>\n",
       "      <td>Leeds 2023 weekly media coverage 23.12.22.csv</td>\n",
       "    </tr>\n",
       "    <tr>\n",
       "      <th>1</th>\n",
       "      <td>NaT</td>\n",
       "      <td>1/1/2023</td>\n",
       "      <td>Leeds 2023 weekly media coverage 23.12.22.csv</td>\n",
       "    </tr>\n",
       "    <tr>\n",
       "      <th>23</th>\n",
       "      <td>NaT</td>\n",
       "      <td>01.08.23</td>\n",
       "      <td>LEEDS 2023 Weekly media coverage w.e. 21.07.23...</td>\n",
       "    </tr>\n",
       "  </tbody>\n",
       "</table>\n",
       "</div>"
      ],
      "text/plain": [
       "   news_date input_date                                        source_file\n",
       "0        NaT   1/1/2023      Leeds 2023 weekly media coverage 23.12.22.csv\n",
       "1        NaT   1/1/2023      Leeds 2023 weekly media coverage 23.12.22.csv\n",
       "23       NaT   01.08.23  LEEDS 2023 Weekly media coverage w.e. 21.07.23..."
      ]
     },
     "execution_count": 7,
     "metadata": {},
     "output_type": "execute_result"
    }
   ],
   "source": [
    "cision_data[cision_data.news_date.isna()].loc[:, ['news_date', 'input_date', 'source_file']]"
   ]
  },
  {
   "cell_type": "code",
   "execution_count": 8,
   "id": "46705bde",
   "metadata": {
    "execution": {
     "iopub.execute_input": "2024-01-19T16:12:08.207469Z",
     "iopub.status.busy": "2024-01-19T16:12:08.207230Z",
     "iopub.status.idle": "2024-01-19T16:12:08.233448Z",
     "shell.execute_reply": "2024-01-19T16:12:08.233150Z"
    },
    "papermill": {
     "duration": 0.028872,
     "end_time": "2024-01-19T16:12:08.234160",
     "exception": false,
     "start_time": "2024-01-19T16:12:08.205288",
     "status": "completed"
    },
    "tags": []
   },
   "outputs": [
    {
     "data": {
      "text/html": [
       "<div>\n",
       "<style scoped>\n",
       "    .dataframe tbody tr th:only-of-type {\n",
       "        vertical-align: middle;\n",
       "    }\n",
       "\n",
       "    .dataframe tbody tr th {\n",
       "        vertical-align: top;\n",
       "    }\n",
       "\n",
       "    .dataframe thead th {\n",
       "        text-align: right;\n",
       "    }\n",
       "</style>\n",
       "<table border=\"1\" class=\"dataframe\">\n",
       "  <thead>\n",
       "    <tr style=\"text-align: right;\">\n",
       "      <th></th>\n",
       "      <th>news_date</th>\n",
       "      <th>news_headline</th>\n",
       "      <th>outlet_name</th>\n",
       "      <th>audience_reach</th>\n",
       "      <th>uv</th>\n",
       "      <th>tone</th>\n",
       "      <th>medium</th>\n",
       "      <th>outlet_type</th>\n",
       "      <th>custom_tags</th>\n",
       "      <th>news_company_mentions</th>\n",
       "      <th>hash</th>\n",
       "      <th>source_file</th>\n",
       "      <th>latest_date</th>\n",
       "      <th>input_date</th>\n",
       "    </tr>\n",
       "  </thead>\n",
       "  <tbody>\n",
       "    <tr>\n",
       "      <th>236</th>\n",
       "      <td>2022-09-17</td>\n",
       "      <td>Four West Leeds sites earmarked for local auth...</td>\n",
       "      <td>West Leeds Dispatch</td>\n",
       "      <td>0</td>\n",
       "      <td>3141.0</td>\n",
       "      <td>POS</td>\n",
       "      <td>Online</td>\n",
       "      <td>Online, consumer</td>\n",
       "      <td>Local</td>\n",
       "      <td>Leeds 2023</td>\n",
       "      <td>13479499968123036765</td>\n",
       "      <td>Leeds 2023 media coverage 23.09.22-17.10.22.csv</td>\n",
       "      <td>2022-10-17</td>\n",
       "      <td>17/09/2022</td>\n",
       "    </tr>\n",
       "    <tr>\n",
       "      <th>237</th>\n",
       "      <td>2022-09-17</td>\n",
       "      <td>Inspirational Bramley Baths hailed a 'beacon f...</td>\n",
       "      <td>West Leeds Dispatch</td>\n",
       "      <td>0</td>\n",
       "      <td>3141.0</td>\n",
       "      <td>NEU</td>\n",
       "      <td>Online</td>\n",
       "      <td>Online, consumer</td>\n",
       "      <td>Local</td>\n",
       "      <td>Leeds 2023</td>\n",
       "      <td>453098313913252842</td>\n",
       "      <td>Leeds 2023 media coverage 23.09.22-17.10.22.csv</td>\n",
       "      <td>2022-10-17</td>\n",
       "      <td>17/09/2022</td>\n",
       "    </tr>\n",
       "    <tr>\n",
       "      <th>235</th>\n",
       "      <td>2022-09-17</td>\n",
       "      <td>Support Leeds 2023 city of culture by voluntee...</td>\n",
       "      <td>West Leeds Dispatch</td>\n",
       "      <td>0</td>\n",
       "      <td>3141.0</td>\n",
       "      <td>NEU</td>\n",
       "      <td>Online</td>\n",
       "      <td>Online, consumer</td>\n",
       "      <td>Local</td>\n",
       "      <td>Leeds 2023</td>\n",
       "      <td>10670817045611648545</td>\n",
       "      <td>Leeds 2023 media coverage 23.09.22-17.10.22.csv</td>\n",
       "      <td>2022-10-17</td>\n",
       "      <td>17/09/2022</td>\n",
       "    </tr>\n",
       "    <tr>\n",
       "      <th>234</th>\n",
       "      <td>2022-09-17</td>\n",
       "      <td>Youths shift 34 tonnes as new Bramley eco peac...</td>\n",
       "      <td>West Leeds Dispatch</td>\n",
       "      <td>0</td>\n",
       "      <td>3141.0</td>\n",
       "      <td>NEU</td>\n",
       "      <td>Online</td>\n",
       "      <td>Online, consumer</td>\n",
       "      <td>Local</td>\n",
       "      <td>Leeds 2023</td>\n",
       "      <td>13785126224380383013</td>\n",
       "      <td>Leeds 2023 media coverage 23.09.22-17.10.22.csv</td>\n",
       "      <td>2022-10-17</td>\n",
       "      <td>17/09/2022</td>\n",
       "    </tr>\n",
       "    <tr>\n",
       "      <th>233</th>\n",
       "      <td>2022-09-20</td>\n",
       "      <td>Inspirational Bramley Baths hailed a 'beacon f...</td>\n",
       "      <td>West Leeds Dispatch</td>\n",
       "      <td>0</td>\n",
       "      <td>3141.0</td>\n",
       "      <td>NEU</td>\n",
       "      <td>Online</td>\n",
       "      <td>Online, consumer</td>\n",
       "      <td>Local</td>\n",
       "      <td>Leeds 2023</td>\n",
       "      <td>12296830178779861036</td>\n",
       "      <td>Leeds 2023 media coverage 23.09.22-17.10.22.csv</td>\n",
       "      <td>2022-10-17</td>\n",
       "      <td>20/09/2022</td>\n",
       "    </tr>\n",
       "    <tr>\n",
       "      <th>...</th>\n",
       "      <td>...</td>\n",
       "      <td>...</td>\n",
       "      <td>...</td>\n",
       "      <td>...</td>\n",
       "      <td>...</td>\n",
       "      <td>...</td>\n",
       "      <td>...</td>\n",
       "      <td>...</td>\n",
       "      <td>...</td>\n",
       "      <td>...</td>\n",
       "      <td>...</td>\n",
       "      <td>...</td>\n",
       "      <td>...</td>\n",
       "      <td>...</td>\n",
       "    </tr>\n",
       "    <tr>\n",
       "      <th>14</th>\n",
       "      <td>2024-01-16</td>\n",
       "      <td>I have seen the pride and joy that culture can...</td>\n",
       "      <td>Yorkshire Post, The</td>\n",
       "      <td>21817</td>\n",
       "      <td>0.0</td>\n",
       "      <td>NEU</td>\n",
       "      <td>Newspaper</td>\n",
       "      <td>NaN</td>\n",
       "      <td>NaN</td>\n",
       "      <td>NaN</td>\n",
       "      <td>10266557094906835127</td>\n",
       "      <td>Leeds 2023 weekly media coverage 05.01.24- 19....</td>\n",
       "      <td>2024-01-19</td>\n",
       "      <td>16/01/2024</td>\n",
       "    </tr>\n",
       "    <tr>\n",
       "      <th>16</th>\n",
       "      <td>2024-01-16</td>\n",
       "      <td>Phoenix Dance Theatre To Embark On Spring Tour...</td>\n",
       "      <td>Theatre Weekly</td>\n",
       "      <td>0</td>\n",
       "      <td>8038.0</td>\n",
       "      <td>POS</td>\n",
       "      <td>Online</td>\n",
       "      <td>NaN</td>\n",
       "      <td>NaN</td>\n",
       "      <td>NaN</td>\n",
       "      <td>13709804139819900190</td>\n",
       "      <td>Leeds 2023 weekly media coverage 05.01.24- 19....</td>\n",
       "      <td>2024-01-19</td>\n",
       "      <td>16/01/2024</td>\n",
       "    </tr>\n",
       "    <tr>\n",
       "      <th>13</th>\n",
       "      <td>2024-01-16</td>\n",
       "      <td>Year of culture</td>\n",
       "      <td>Yorkshire Evening Post</td>\n",
       "      <td>36512</td>\n",
       "      <td>0.0</td>\n",
       "      <td>NEG</td>\n",
       "      <td>Newspaper</td>\n",
       "      <td>NaN</td>\n",
       "      <td>NaN</td>\n",
       "      <td>NaN</td>\n",
       "      <td>15312840831798647469</td>\n",
       "      <td>Leeds 2023 weekly media coverage 05.01.24- 19....</td>\n",
       "      <td>2024-01-19</td>\n",
       "      <td>16/01/2024</td>\n",
       "    </tr>\n",
       "    <tr>\n",
       "      <th>17</th>\n",
       "      <td>2024-01-17</td>\n",
       "      <td>Dance moves</td>\n",
       "      <td>Yorkshire Post, The</td>\n",
       "      <td>21817</td>\n",
       "      <td>0.0</td>\n",
       "      <td>NEG</td>\n",
       "      <td>Newspaper</td>\n",
       "      <td>NaN</td>\n",
       "      <td>NaN</td>\n",
       "      <td>NaN</td>\n",
       "      <td>10345703299098156431</td>\n",
       "      <td>Leeds 2023 weekly media coverage 05.01.24- 19....</td>\n",
       "      <td>2024-01-19</td>\n",
       "      <td>17/01/2024</td>\n",
       "    </tr>\n",
       "    <tr>\n",
       "      <th>18</th>\n",
       "      <td>2024-01-17</td>\n",
       "      <td>Phoenix Dance Theatre to Embark on Spring Tour</td>\n",
       "      <td>Broadway World</td>\n",
       "      <td>0</td>\n",
       "      <td>635940.0</td>\n",
       "      <td>POS</td>\n",
       "      <td>Online</td>\n",
       "      <td>NaN</td>\n",
       "      <td>NaN</td>\n",
       "      <td>NaN</td>\n",
       "      <td>15102211473467926668</td>\n",
       "      <td>Leeds 2023 weekly media coverage 05.01.24- 19....</td>\n",
       "      <td>2024-01-19</td>\n",
       "      <td>17/01/2024</td>\n",
       "    </tr>\n",
       "  </tbody>\n",
       "</table>\n",
       "<p>2641 rows × 14 columns</p>\n",
       "</div>"
      ],
      "text/plain": [
       "     news_date                                      news_headline  \\\n",
       "236 2022-09-17  Four West Leeds sites earmarked for local auth...   \n",
       "237 2022-09-17  Inspirational Bramley Baths hailed a 'beacon f...   \n",
       "235 2022-09-17  Support Leeds 2023 city of culture by voluntee...   \n",
       "234 2022-09-17  Youths shift 34 tonnes as new Bramley eco peac...   \n",
       "233 2022-09-20  Inspirational Bramley Baths hailed a 'beacon f...   \n",
       "..         ...                                                ...   \n",
       "14  2024-01-16  I have seen the pride and joy that culture can...   \n",
       "16  2024-01-16  Phoenix Dance Theatre To Embark On Spring Tour...   \n",
       "13  2024-01-16                                    Year of culture   \n",
       "17  2024-01-17                                        Dance moves   \n",
       "18  2024-01-17     Phoenix Dance Theatre to Embark on Spring Tour   \n",
       "\n",
       "                outlet_name  audience_reach        uv tone     medium  \\\n",
       "236     West Leeds Dispatch               0    3141.0  POS     Online   \n",
       "237     West Leeds Dispatch               0    3141.0  NEU     Online   \n",
       "235     West Leeds Dispatch               0    3141.0  NEU     Online   \n",
       "234     West Leeds Dispatch               0    3141.0  NEU     Online   \n",
       "233     West Leeds Dispatch               0    3141.0  NEU     Online   \n",
       "..                      ...             ...       ...  ...        ...   \n",
       "14      Yorkshire Post, The           21817       0.0  NEU  Newspaper   \n",
       "16           Theatre Weekly               0    8038.0  POS     Online   \n",
       "13   Yorkshire Evening Post           36512       0.0  NEG  Newspaper   \n",
       "17      Yorkshire Post, The           21817       0.0  NEG  Newspaper   \n",
       "18           Broadway World               0  635940.0  POS     Online   \n",
       "\n",
       "          outlet_type custom_tags news_company_mentions                  hash  \\\n",
       "236  Online, consumer       Local            Leeds 2023  13479499968123036765   \n",
       "237  Online, consumer       Local            Leeds 2023    453098313913252842   \n",
       "235  Online, consumer       Local            Leeds 2023  10670817045611648545   \n",
       "234  Online, consumer       Local            Leeds 2023  13785126224380383013   \n",
       "233  Online, consumer       Local            Leeds 2023  12296830178779861036   \n",
       "..                ...         ...                   ...                   ...   \n",
       "14                NaN         NaN                   NaN  10266557094906835127   \n",
       "16                NaN         NaN                   NaN  13709804139819900190   \n",
       "13                NaN         NaN                   NaN  15312840831798647469   \n",
       "17                NaN         NaN                   NaN  10345703299098156431   \n",
       "18                NaN         NaN                   NaN  15102211473467926668   \n",
       "\n",
       "                                           source_file latest_date  input_date  \n",
       "236    Leeds 2023 media coverage 23.09.22-17.10.22.csv  2022-10-17  17/09/2022  \n",
       "237    Leeds 2023 media coverage 23.09.22-17.10.22.csv  2022-10-17  17/09/2022  \n",
       "235    Leeds 2023 media coverage 23.09.22-17.10.22.csv  2022-10-17  17/09/2022  \n",
       "234    Leeds 2023 media coverage 23.09.22-17.10.22.csv  2022-10-17  17/09/2022  \n",
       "233    Leeds 2023 media coverage 23.09.22-17.10.22.csv  2022-10-17  20/09/2022  \n",
       "..                                                 ...         ...         ...  \n",
       "14   Leeds 2023 weekly media coverage 05.01.24- 19....  2024-01-19  16/01/2024  \n",
       "16   Leeds 2023 weekly media coverage 05.01.24- 19....  2024-01-19  16/01/2024  \n",
       "13   Leeds 2023 weekly media coverage 05.01.24- 19....  2024-01-19  16/01/2024  \n",
       "17   Leeds 2023 weekly media coverage 05.01.24- 19....  2024-01-19  17/01/2024  \n",
       "18   Leeds 2023 weekly media coverage 05.01.24- 19....  2024-01-19  17/01/2024  \n",
       "\n",
       "[2641 rows x 14 columns]"
      ]
     },
     "execution_count": 8,
     "metadata": {},
     "output_type": "execute_result"
    }
   ],
   "source": [
    "CISION_FILE = '../../../data/metrics/media_coverage/combined_cision.csv'\n",
    "os.makedirs(os.path.dirname(CISION_FILE), exist_ok=True)\n",
    "\n",
    "cision_data.loc[cision_data.news_date.notna()].pipe(clean_up).pipe(save_csv, output_file=CISION_FILE)"
   ]
  },
  {
   "cell_type": "markdown",
   "id": "0637ff80",
   "metadata": {
    "papermill": {
     "duration": 0.001714,
     "end_time": "2024-01-19T16:12:08.237706",
     "exception": false,
     "start_time": "2024-01-19T16:12:08.235992",
     "status": "completed"
    },
    "tags": []
   },
   "source": [
    "Plot the number of days in a week where data is available. This shows potential gaps in the data."
   ]
  },
  {
   "cell_type": "code",
   "execution_count": 9,
   "id": "7c2098f0",
   "metadata": {
    "execution": {
     "iopub.execute_input": "2024-01-19T16:12:08.241757Z",
     "iopub.status.busy": "2024-01-19T16:12:08.241534Z",
     "iopub.status.idle": "2024-01-19T16:12:08.738874Z",
     "shell.execute_reply": "2024-01-19T16:12:08.738548Z"
    },
    "papermill": {
     "duration": 0.500284,
     "end_time": "2024-01-19T16:12:08.739716",
     "exception": false,
     "start_time": "2024-01-19T16:12:08.239432",
     "status": "completed"
    },
    "tags": []
   },
   "outputs": [
    {
     "data": {
      "image/png": "[encoded data removed]",
      "text/plain": [
       "<Figure size 640x480 with 1 Axes>"
      ]
     },
     "metadata": {},
     "output_type": "display_data"
    }
   ],
   "source": [
    "ax = cision_data.groupby('news_date').news_headline.count().resample('W').count().plot.barh(\n",
    "  xlabel='Number of days in week with news coverage'\n",
    ")"
   ]
  },
  {
   "cell_type": "code",
   "execution_count": null,
   "id": "4e75d172",
   "metadata": {
    "papermill": {
     "duration": 0.002858,
     "end_time": "2024-01-19T16:12:08.745651",
     "exception": false,
     "start_time": "2024-01-19T16:12:08.742793",
     "status": "completed"
    },
    "tags": []
   },
   "outputs": [],
   "source": []
  }
 ],
 "metadata": {
  "kernelspec": {
   "display_name": "leeds-2023-YZF5GfJv",
   "language": "python",
   "name": "python3"
  },
  "language_info": {
   "codemirror_mode": {
    "name": "ipython",
    "version": 3
   },
   "file_extension": ".py",
   "mimetype": "text/x-python",
   "name": "python",
   "nbconvert_exporter": "python",
   "pygments_lexer": "ipython3",
   "version": "3.10.12"
  },
  "papermill": {
   "default_parameters": {},
   "duration": 2.188122,
   "end_time": "2024-01-19T16:12:08.967750",
   "environment_variables": {},
   "exception": null,
   "input_path": "ingest-cision.ipynb",
   "output_path": "../../../working/output/media-ingest-cision.ipynb",
   "parameters": {},
   "start_time": "2024-01-19T16:12:06.779628",
   "version": "2.4.0"
  }
 },
 "nbformat": 4,
 "nbformat_minor": 5
}