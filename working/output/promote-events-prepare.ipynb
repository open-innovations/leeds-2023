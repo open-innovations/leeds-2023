{
 "cells": [
  {
   "cell_type": "code",
   "execution_count": 1,
   "id": "a2a32b7a",
   "metadata": {
    "execution": {
     "iopub.execute_input": "2023-08-23T23:40:33.918879Z",
     "iopub.status.busy": "2023-08-23T23:40:33.918296Z",
     "iopub.status.idle": "2023-08-23T23:40:34.155628Z",
     "shell.execute_reply": "2023-08-23T23:40:34.154969Z"
    },
    "papermill": {
     "duration": 0.242961,
     "end_time": "2023-08-23T23:40:34.157619",
     "exception": false,
     "start_time": "2023-08-23T23:40:33.914658",
     "status": "completed"
    },
    "tags": []
   },
   "outputs": [],
   "source": [
    "import os\n",
    "import pandas as pd"
   ]
  },
  {
   "cell_type": "code",
   "execution_count": 2,
   "id": "7d1204b0",
   "metadata": {
    "execution": {
     "iopub.execute_input": "2023-08-23T23:40:34.163365Z",
     "iopub.status.busy": "2023-08-23T23:40:34.162720Z",
     "iopub.status.idle": "2023-08-23T23:40:34.166232Z",
     "shell.execute_reply": "2023-08-23T23:40:34.165608Z"
    },
    "papermill": {
     "duration": 0.008035,
     "end_time": "2023-08-23T23:40:34.167827",
     "exception": false,
     "start_time": "2023-08-23T23:40:34.159792",
     "status": "completed"
    },
    "tags": []
   },
   "outputs": [],
   "source": [
    "DATA_DIR='../../../docs/metrics/events/promote/_data/'\n",
    "os.makedirs(DATA_DIR, exist_ok=True)"
   ]
  },
  {
   "cell_type": "code",
   "execution_count": 3,
   "id": "e03fa492",
   "metadata": {
    "execution": {
     "iopub.execute_input": "2023-08-23T23:40:34.172125Z",
     "iopub.status.busy": "2023-08-23T23:40:34.171712Z",
     "iopub.status.idle": "2023-08-23T23:40:34.180084Z",
     "shell.execute_reply": "2023-08-23T23:40:34.179533Z"
    },
    "papermill": {
     "duration": 0.012232,
     "end_time": "2023-08-23T23:40:34.181656",
     "exception": false,
     "start_time": "2023-08-23T23:40:34.169424",
     "status": "completed"
    },
    "tags": []
   },
   "outputs": [],
   "source": [
    "data = pd.read_csv('../../../data/metrics/events/promote-events/events.csv', parse_dates=['time'])"
   ]
  },
  {
   "cell_type": "code",
   "execution_count": 4,
   "id": "33eb8cf4",
   "metadata": {
    "execution": {
     "iopub.execute_input": "2023-08-23T23:40:34.186047Z",
     "iopub.status.busy": "2023-08-23T23:40:34.185648Z",
     "iopub.status.idle": "2023-08-23T23:40:34.190636Z",
     "shell.execute_reply": "2023-08-23T23:40:34.190004Z"
    },
    "papermill": {
     "duration": 0.008919,
     "end_time": "2023-08-23T23:40:34.192150",
     "exception": false,
     "start_time": "2023-08-23T23:40:34.183231",
     "status": "completed"
    },
    "tags": []
   },
   "outputs": [],
   "source": [
    "pd.Series({\n",
    "    'total_events': len(data.id.unique()),\n",
    "    'total_event_instances': len(data.time),\n",
    "    'earliest_event': data.time.min(),\n",
    "    'latest_event': data.time.max(),\n",
    "}).to_json(\n",
    "    os.path.join(DATA_DIR, 'headlines.json'),\n",
    "    date_format='iso', indent=2\n",
    ")"
   ]
  },
  {
   "cell_type": "code",
   "execution_count": 5,
   "id": "1a832d8b",
   "metadata": {
    "execution": {
     "iopub.execute_input": "2023-08-23T23:40:34.196514Z",
     "iopub.status.busy": "2023-08-23T23:40:34.196120Z",
     "iopub.status.idle": "2023-08-23T23:40:34.203769Z",
     "shell.execute_reply": "2023-08-23T23:40:34.203186Z"
    },
    "papermill": {
     "duration": 0.011506,
     "end_time": "2023-08-23T23:40:34.205261",
     "exception": false,
     "start_time": "2023-08-23T23:40:34.193755",
     "status": "completed"
    },
    "tags": []
   },
   "outputs": [],
   "source": [
    "events = pd.DataFrame({\n",
    "    'events': data.groupby('id').agg({ 'time': 'min' }).reset_index().groupby('time').id.count(),\n",
    "    'event_instances': data.groupby('time').id.count(),\n",
    "}).fillna(0).astype(int)"
   ]
  },
  {
   "cell_type": "code",
   "execution_count": 6,
   "id": "efb1f9b9",
   "metadata": {
    "execution": {
     "iopub.execute_input": "2023-08-23T23:40:34.209609Z",
     "iopub.status.busy": "2023-08-23T23:40:34.209285Z",
     "iopub.status.idle": "2023-08-23T23:40:34.212590Z",
     "shell.execute_reply": "2023-08-23T23:40:34.211998Z"
    },
    "papermill": {
     "duration": 0.007262,
     "end_time": "2023-08-23T23:40:34.214131",
     "exception": false,
     "start_time": "2023-08-23T23:40:34.206869",
     "status": "completed"
    },
    "tags": []
   },
   "outputs": [],
   "source": [
    "def cumulate(data):\n",
    "    return pd.concat([\n",
    "        data,\n",
    "        data.cumsum().rename(columns=lambda c: f'cumulative_{c}')\n",
    "    ], axis=1)"
   ]
  },
  {
   "cell_type": "code",
   "execution_count": 7,
   "id": "179dc6d2",
   "metadata": {
    "execution": {
     "iopub.execute_input": "2023-08-23T23:40:34.218448Z",
     "iopub.status.busy": "2023-08-23T23:40:34.218118Z",
     "iopub.status.idle": "2023-08-23T23:40:34.228190Z",
     "shell.execute_reply": "2023-08-23T23:40:34.227161Z"
    },
    "papermill": {
     "duration": 0.013897,
     "end_time": "2023-08-23T23:40:34.229668",
     "exception": false,
     "start_time": "2023-08-23T23:40:34.215771",
     "status": "completed"
    },
    "tags": []
   },
   "outputs": [],
   "source": [
    "events.resample('W-FRI').sum().pipe(cumulate).to_csv(os.path.join(DATA_DIR, 'by_week.csv'))"
   ]
  },
  {
   "cell_type": "code",
   "execution_count": 8,
   "id": "42bdac25",
   "metadata": {
    "execution": {
     "iopub.execute_input": "2023-08-23T23:40:34.234333Z",
     "iopub.status.busy": "2023-08-23T23:40:34.233823Z",
     "iopub.status.idle": "2023-08-23T23:40:34.239601Z",
     "shell.execute_reply": "2023-08-23T23:40:34.238977Z"
    },
    "papermill": {
     "duration": 0.009612,
     "end_time": "2023-08-23T23:40:34.241060",
     "exception": false,
     "start_time": "2023-08-23T23:40:34.231448",
     "status": "completed"
    },
    "tags": []
   },
   "outputs": [],
   "source": [
    "events.resample('MS').sum().pipe(cumulate).to_csv(os.path.join(DATA_DIR, 'by_month.csv'))"
   ]
  },
  {
   "cell_type": "code",
   "execution_count": null,
   "id": "0bfb7645",
   "metadata": {
    "papermill": {
     "duration": 0.001673,
     "end_time": "2023-08-23T23:40:34.244444",
     "exception": false,
     "start_time": "2023-08-23T23:40:34.242771",
     "status": "completed"
    },
    "tags": []
   },
   "outputs": [],
   "source": []
  }
 ],
 "metadata": {
  "kernelspec": {
   "display_name": "leeds-2023-YZF5GfJv",
   "language": "python",
   "name": "python3"
  },
  "language_info": {
   "codemirror_mode": {
    "name": "ipython",
    "version": 3
   },
   "file_extension": ".py",
   "mimetype": "text/x-python",
   "name": "python",
   "nbconvert_exporter": "python",
   "pygments_lexer": "ipython3",
   "version": "3.10.12"
  },
  "papermill": {
   "default_parameters": {},
   "duration": 1.924176,
   "end_time": "2023-08-23T23:40:34.463351",
   "environment_variables": {},
   "exception": null,
   "input_path": "prepare.ipynb",
   "output_path": "../../../working/output/promote-events-prepare.ipynb",
   "parameters": {},
   "start_time": "2023-08-23T23:40:32.539175",
   "version": "2.4.0"
  }
 },
 "nbformat": 4,
 "nbformat_minor": 5
}