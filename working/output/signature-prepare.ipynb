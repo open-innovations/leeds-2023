{
 "cells": [
  {
   "cell_type": "code",
   "execution_count": 1,
   "id": "0e4180b2",
   "metadata": {
    "execution": {
     "iopub.execute_input": "2023-10-31T23:40:46.929582Z",
     "iopub.status.busy": "2023-10-31T23:40:46.928961Z",
     "iopub.status.idle": "2023-10-31T23:40:58.053096Z",
     "shell.execute_reply": "2023-10-31T23:40:58.052121Z"
    },
    "papermill": {
     "duration": 11.131117,
     "end_time": "2023-10-31T23:40:58.055001",
     "exception": false,
     "start_time": "2023-10-31T23:40:46.923884",
     "status": "completed"
    },
    "tags": []
   },
   "outputs": [],
   "source": [
    "import os\n",
    "import pandas as pd\n",
    "from events import load_event_data, get_first_ward, normalise_ward"
   ]
  },
  {
   "cell_type": "code",
   "execution_count": 2,
   "id": "b9b9a22e",
   "metadata": {
    "execution": {
     "iopub.execute_input": "2023-10-31T23:40:58.062477Z",
     "iopub.status.busy": "2023-10-31T23:40:58.061951Z",
     "iopub.status.idle": "2023-10-31T23:40:58.067425Z",
     "shell.execute_reply": "2023-10-31T23:40:58.066770Z"
    },
    "papermill": {
     "duration": 0.010988,
     "end_time": "2023-10-31T23:40:58.069180",
     "exception": false,
     "start_time": "2023-10-31T23:40:58.058192",
     "status": "completed"
    },
    "tags": []
   },
   "outputs": [],
   "source": [
    "latest_date = pd.Timestamp.today().ceil('D')"
   ]
  },
  {
   "cell_type": "code",
   "execution_count": 3,
   "id": "76c23fd6",
   "metadata": {
    "execution": {
     "iopub.execute_input": "2023-10-31T23:40:58.075631Z",
     "iopub.status.busy": "2023-10-31T23:40:58.074999Z",
     "iopub.status.idle": "2023-10-31T23:40:58.093221Z",
     "shell.execute_reply": "2023-10-31T23:40:58.092524Z"
    },
    "papermill": {
     "duration": 0.023338,
     "end_time": "2023-10-31T23:40:58.095007",
     "exception": false,
     "start_time": "2023-10-31T23:40:58.071669",
     "status": "completed"
    },
    "tags": []
   },
   "outputs": [],
   "source": [
    "tickets = pd.read_csv('../../../../data/metrics/events/tickets/orders.csv', parse_dates=['created_at', 'event_date'])\n",
    "tickets = tickets[tickets.event_date <= latest_date]"
   ]
  },
  {
   "cell_type": "code",
   "execution_count": 4,
   "id": "4496e606",
   "metadata": {
    "execution": {
     "iopub.execute_input": "2023-10-31T23:40:58.101674Z",
     "iopub.status.busy": "2023-10-31T23:40:58.101061Z",
     "iopub.status.idle": "2023-10-31T23:40:58.149422Z",
     "shell.execute_reply": "2023-10-31T23:40:58.148682Z"
    },
    "papermill": {
     "duration": 0.05379,
     "end_time": "2023-10-31T23:40:58.151308",
     "exception": false,
     "start_time": "2023-10-31T23:40:58.097518",
     "status": "completed"
    },
    "tags": []
   },
   "outputs": [],
   "source": [
    "events = load_event_data()\n",
    "\n",
    "events = pd.concat([\n",
    "  events,\n",
    "  events.pipe(get_first_ward).pipe(normalise_ward).fillna('UNKNOWN'),\n",
    "  pd.Series(\n",
    "      events.actual_audience_size_number_of_participants_in_person + events.actual_audience_size_number_of_participants_online,\n",
    "      name='attendances'\n",
    "  )\n",
    "], axis=1).rename(columns={\n",
    "    'start_date': 'date'\n",
    "}).loc[:, ['ward_code', 'date', 'event_unique_identifier', 'attendances']]"
   ]
  },
  {
   "cell_type": "code",
   "execution_count": 5,
   "id": "357017eb",
   "metadata": {
    "execution": {
     "iopub.execute_input": "2023-10-31T23:40:58.158686Z",
     "iopub.status.busy": "2023-10-31T23:40:58.157288Z",
     "iopub.status.idle": "2023-10-31T23:40:58.162368Z",
     "shell.execute_reply": "2023-10-31T23:40:58.161768Z"
    },
    "papermill": {
     "duration": 0.010089,
     "end_time": "2023-10-31T23:40:58.163967",
     "exception": false,
     "start_time": "2023-10-31T23:40:58.153878",
     "status": "completed"
    },
    "tags": []
   },
   "outputs": [],
   "source": [
    "OUTPUT_DIR='../../../../docs/metrics/events/signature/_data/'\n",
    "os.makedirs(OUTPUT_DIR, exist_ok=True)"
   ]
  },
  {
   "cell_type": "markdown",
   "id": "a38d6454",
   "metadata": {
    "papermill": {
     "duration": 0.002514,
     "end_time": "2023-10-31T23:40:58.169117",
     "exception": false,
     "start_time": "2023-10-31T23:40:58.166603",
     "status": "completed"
    },
    "tags": []
   },
   "source": [
    "Events CSVs"
   ]
  },
  {
   "cell_type": "code",
   "execution_count": 6,
   "id": "bb1a1ae2",
   "metadata": {
    "execution": {
     "iopub.execute_input": "2023-10-31T23:40:58.175406Z",
     "iopub.status.busy": "2023-10-31T23:40:58.174826Z",
     "iopub.status.idle": "2023-10-31T23:40:58.183590Z",
     "shell.execute_reply": "2023-10-31T23:40:58.182961Z"
    },
    "papermill": {
     "duration": 0.013811,
     "end_time": "2023-10-31T23:40:58.185280",
     "exception": false,
     "start_time": "2023-10-31T23:40:58.171469",
     "status": "completed"
    },
    "tags": []
   },
   "outputs": [],
   "source": [
    "pd.DataFrame({\n",
    "  'events': events.groupby('ward_code').event_unique_identifier.count(),\n",
    "  'attendances': events.groupby('ward_code').attendances.sum().astype(int),\n",
    "}).to_csv(os.path.join(OUTPUT_DIR, 'events_by_ward.csv'))\n"
   ]
  },
  {
   "cell_type": "code",
   "execution_count": 7,
   "id": "9194ee6e",
   "metadata": {
    "execution": {
     "iopub.execute_input": "2023-10-31T23:40:58.191648Z",
     "iopub.status.busy": "2023-10-31T23:40:58.191196Z",
     "iopub.status.idle": "2023-10-31T23:40:58.200967Z",
     "shell.execute_reply": "2023-10-31T23:40:58.200313Z"
    },
    "papermill": {
     "duration": 0.014732,
     "end_time": "2023-10-31T23:40:58.202584",
     "exception": false,
     "start_time": "2023-10-31T23:40:58.187852",
     "status": "completed"
    },
    "tags": []
   },
   "outputs": [],
   "source": [
    "pd.DataFrame({\n",
    "  'events': events.groupby('date').event_unique_identifier.count(),\n",
    "  'attendances': events.groupby('date').attendances.sum().astype(int),\n",
    "}).resample('M').sum().astype(int).to_csv(os.path.join(OUTPUT_DIR, 'events_by_date.csv'))"
   ]
  },
  {
   "cell_type": "markdown",
   "id": "66987f57",
   "metadata": {
    "papermill": {
     "duration": 0.002483,
     "end_time": "2023-10-31T23:40:58.208646",
     "exception": false,
     "start_time": "2023-10-31T23:40:58.206163",
     "status": "completed"
    },
    "tags": []
   },
   "source": [
    "Tickets CSV"
   ]
  },
  {
   "cell_type": "code",
   "execution_count": 8,
   "id": "cee9e2aa",
   "metadata": {
    "execution": {
     "iopub.execute_input": "2023-10-31T23:40:58.215208Z",
     "iopub.status.busy": "2023-10-31T23:40:58.214568Z",
     "iopub.status.idle": "2023-10-31T23:40:58.222445Z",
     "shell.execute_reply": "2023-10-31T23:40:58.221796Z"
    },
    "papermill": {
     "duration": 0.012978,
     "end_time": "2023-10-31T23:40:58.224073",
     "exception": false,
     "start_time": "2023-10-31T23:40:58.211095",
     "status": "completed"
    },
    "tags": []
   },
   "outputs": [],
   "source": [
    "pd.DataFrame({\n",
    "  'orders': tickets.groupby('ward_code').number_of_tickets.count(),\n",
    "  'tickets': tickets.groupby('ward_code').number_of_tickets.sum().astype(int),\n",
    "}).to_csv(os.path.join(OUTPUT_DIR, 'tickets_by_ward.csv'))"
   ]
  },
  {
   "cell_type": "code",
   "execution_count": 9,
   "id": "df6c741e",
   "metadata": {
    "execution": {
     "iopub.execute_input": "2023-10-31T23:40:58.230693Z",
     "iopub.status.busy": "2023-10-31T23:40:58.229992Z",
     "iopub.status.idle": "2023-10-31T23:40:58.238431Z",
     "shell.execute_reply": "2023-10-31T23:40:58.237823Z"
    },
    "papermill": {
     "duration": 0.013442,
     "end_time": "2023-10-31T23:40:58.240044",
     "exception": false,
     "start_time": "2023-10-31T23:40:58.226602",
     "status": "completed"
    },
    "tags": []
   },
   "outputs": [],
   "source": [
    "pd.DataFrame({\n",
    "  'orders': tickets.groupby('event_date').number_of_tickets.count(),\n",
    "  'tickets': tickets.groupby('event_date').number_of_tickets.sum().astype(int),\n",
    "}).resample('M').sum().to_csv(os.path.join(OUTPUT_DIR, 'tickets_by_event_date.csv'))"
   ]
  },
  {
   "cell_type": "code",
   "execution_count": 10,
   "id": "90e2aa85",
   "metadata": {
    "execution": {
     "iopub.execute_input": "2023-10-31T23:40:58.246634Z",
     "iopub.status.busy": "2023-10-31T23:40:58.246082Z",
     "iopub.status.idle": "2023-10-31T23:40:58.251574Z",
     "shell.execute_reply": "2023-10-31T23:40:58.250935Z"
    },
    "papermill": {
     "duration": 0.010469,
     "end_time": "2023-10-31T23:40:58.253168",
     "exception": false,
     "start_time": "2023-10-31T23:40:58.242699",
     "status": "completed"
    },
    "tags": []
   },
   "outputs": [],
   "source": [
    "pd.Series({\n",
    "    'total_events': events.event_unique_identifier.count(),\n",
    "    'total_attendances': events.attendances.count(),\n",
    "    'first_event': events.date.min(),\n",
    "    'latest_event': events.date.max(),\n",
    "    'total_ticket_orders_for_events_to_date': tickets.number_of_tickets.count(),\n",
    "    'total_tickets_sold_for_events_to_date': tickets.number_of_tickets.sum(),\n",
    "}).to_json(os.path.join(OUTPUT_DIR, 'headlines.json'), indent=2)"
   ]
  },
  {
   "cell_type": "code",
   "execution_count": null,
   "id": "176f2ccd",
   "metadata": {
    "papermill": {
     "duration": 0.002546,
     "end_time": "2023-10-31T23:40:58.258249",
     "exception": false,
     "start_time": "2023-10-31T23:40:58.255703",
     "status": "completed"
    },
    "tags": []
   },
   "outputs": [],
   "source": []
  }
 ],
 "metadata": {
  "kernelspec": {
   "display_name": "leeds-2023-YZF5GfJv",
   "language": "python",
   "name": "python3"
  },
  "language_info": {
   "codemirror_mode": {
    "name": "ipython",
    "version": 3
   },
   "file_extension": ".py",
   "mimetype": "text/x-python",
   "name": "python",
   "nbconvert_exporter": "python",
   "pygments_lexer": "ipython3",
   "version": "3.10.13"
  },
  "papermill": {
   "default_parameters": {},
   "duration": 13.034773,
   "end_time": "2023-10-31T23:40:58.579707",
   "environment_variables": {},
   "exception": null,
   "input_path": "prepare.ipynb",
   "output_path": "../../../../working/output/signature-prepare.ipynb",
   "parameters": {},
   "start_time": "2023-10-31T23:40:45.544934",
   "version": "2.4.0"
  }
 },
 "nbformat": 4,
 "nbformat_minor": 5
}