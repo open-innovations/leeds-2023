{
 "cells": [
  {
   "cell_type": "code",
   "execution_count": 1,
   "id": "ff938940",
   "metadata": {
    "execution": {
     "iopub.execute_input": "2023-12-29T23:38:45.727891Z",
     "iopub.status.busy": "2023-12-29T23:38:45.727420Z",
     "iopub.status.idle": "2023-12-29T23:38:45.968192Z",
     "shell.execute_reply": "2023-12-29T23:38:45.967629Z"
    },
    "papermill": {
     "duration": 0.246014,
     "end_time": "2023-12-29T23:38:45.969754",
     "exception": false,
     "start_time": "2023-12-29T23:38:45.723740",
     "status": "completed"
    },
    "tags": []
   },
   "outputs": [],
   "source": [
    "import sys\n",
    "from pathlib import Path\n",
    "\n",
    "import pandas as pd\n",
    "\n",
    "TOP_DIR = Path('../../../..').resolve()\n",
    "\n",
    "if str(TOP_DIR) not in sys.path: sys.path.append(str(TOP_DIR))"
   ]
  },
  {
   "cell_type": "code",
   "execution_count": 2,
   "id": "6c626a63",
   "metadata": {
    "execution": {
     "iopub.execute_input": "2023-12-29T23:38:45.975926Z",
     "iopub.status.busy": "2023-12-29T23:38:45.975651Z",
     "iopub.status.idle": "2023-12-29T23:38:52.884240Z",
     "shell.execute_reply": "2023-12-29T23:38:52.883545Z"
    },
    "papermill": {
     "duration": 6.913811,
     "end_time": "2023-12-29T23:38:52.886298",
     "exception": false,
     "start_time": "2023-12-29T23:38:45.972487",
     "status": "completed"
    },
    "tags": []
   },
   "outputs": [],
   "source": [
    "from lib.util.geo import postcode_formatter, postcode_to_ward_code"
   ]
  },
  {
   "cell_type": "code",
   "execution_count": 3,
   "id": "a8a6d5c4",
   "metadata": {
    "execution": {
     "iopub.execute_input": "2023-12-29T23:38:52.894084Z",
     "iopub.status.busy": "2023-12-29T23:38:52.893692Z",
     "iopub.status.idle": "2023-12-29T23:38:52.921381Z",
     "shell.execute_reply": "2023-12-29T23:38:52.920638Z"
    },
    "papermill": {
     "duration": 0.033685,
     "end_time": "2023-12-29T23:38:52.923349",
     "exception": false,
     "start_time": "2023-12-29T23:38:52.889664",
     "status": "completed"
    },
    "tags": []
   },
   "outputs": [],
   "source": [
    "ticket_data = pd.read_csv(\n",
    "    '../../../../working/metrics/ticketing/orders.csv',\n",
    "    parse_dates=['created_at', 'event_date'],\n",
    "    usecols=[\n",
    "        'created_at',\n",
    "        'event_id',\n",
    "        'event_name',\n",
    "        'event_date',\n",
    "        'event_time',\n",
    "        'number_of_tickets',\n",
    "        'postcode_from_question',\n",
    "        'postcode_from_address',\n",
    "        'status',\n",
    "    ]\n",
    ")"
   ]
  },
  {
   "cell_type": "code",
   "execution_count": 4,
   "id": "9dca4725",
   "metadata": {
    "execution": {
     "iopub.execute_input": "2023-12-29T23:38:52.930248Z",
     "iopub.status.busy": "2023-12-29T23:38:52.929971Z",
     "iopub.status.idle": "2023-12-29T23:38:52.939190Z",
     "shell.execute_reply": "2023-12-29T23:38:52.938650Z"
    },
    "papermill": {
     "duration": 0.014119,
     "end_time": "2023-12-29T23:38:52.940452",
     "exception": false,
     "start_time": "2023-12-29T23:38:52.926333",
     "status": "completed"
    },
    "tags": []
   },
   "outputs": [
    {
     "name": "stdout",
     "output_type": "stream",
     "text": [
      "<class 'pandas.core.frame.DataFrame'>\n",
      "RangeIndex: 7390 entries, 0 to 7389\n",
      "Data columns (total 9 columns):\n",
      " #   Column                  Non-Null Count  Dtype         \n",
      "---  ------                  --------------  -----         \n",
      " 0   postcode_from_question  6864 non-null   object        \n",
      " 1   postcode_from_address   873 non-null    object        \n",
      " 2   created_at              7390 non-null   datetime64[ns]\n",
      " 3   event_id                7390 non-null   object        \n",
      " 4   event_name              7390 non-null   object        \n",
      " 5   event_date              7390 non-null   datetime64[ns]\n",
      " 6   event_time              7390 non-null   object        \n",
      " 7   number_of_tickets       7390 non-null   int64         \n",
      " 8   status                  7390 non-null   object        \n",
      "dtypes: datetime64[ns](2), int64(1), object(6)\n",
      "memory usage: 519.7+ KB\n"
     ]
    }
   ],
   "source": [
    "ticket_data.info()"
   ]
  },
  {
   "cell_type": "code",
   "execution_count": 5,
   "id": "a86a9e5a",
   "metadata": {
    "execution": {
     "iopub.execute_input": "2023-12-29T23:38:52.946635Z",
     "iopub.status.busy": "2023-12-29T23:38:52.946219Z",
     "iopub.status.idle": "2023-12-29T23:38:52.951321Z",
     "shell.execute_reply": "2023-12-29T23:38:52.950814Z"
    },
    "papermill": {
     "duration": 0.009554,
     "end_time": "2023-12-29T23:38:52.952593",
     "exception": false,
     "start_time": "2023-12-29T23:38:52.943039",
     "status": "completed"
    },
    "tags": []
   },
   "outputs": [],
   "source": [
    "completed_orders = (\n",
    "    ticket_data.loc[\n",
    "        ~ticket_data.status.isin(['cancelled']),\n",
    "        ticket_data.columns\n",
    "    ]\n",
    ")"
   ]
  },
  {
   "cell_type": "code",
   "execution_count": 6,
   "id": "e370ea52",
   "metadata": {
    "execution": {
     "iopub.execute_input": "2023-12-29T23:38:52.958751Z",
     "iopub.status.busy": "2023-12-29T23:38:52.958346Z",
     "iopub.status.idle": "2023-12-29T23:38:53.874724Z",
     "shell.execute_reply": "2023-12-29T23:38:53.873982Z"
    },
    "papermill": {
     "duration": 0.921177,
     "end_time": "2023-12-29T23:38:53.876329",
     "exception": false,
     "start_time": "2023-12-29T23:38:52.955152",
     "status": "completed"
    },
    "tags": []
   },
   "outputs": [],
   "source": [
    "completed_orders['ward_code'] = (\n",
    "    completed_orders\n",
    "        .loc[:, ['postcode_from_question', 'postcode_from_address']]\n",
    "        .bfill()\n",
    "        .iloc[:, 0]\n",
    "        .pipe(postcode_formatter)\n",
    "        .map(postcode_to_ward_code)\n",
    ")"
   ]
  },
  {
   "cell_type": "markdown",
   "id": "7b481a09",
   "metadata": {
    "papermill": {
     "duration": 0.002704,
     "end_time": "2023-12-29T23:38:53.882690",
     "exception": false,
     "start_time": "2023-12-29T23:38:53.879986",
     "status": "completed"
    },
    "tags": []
   },
   "source": [
    "Get the events data"
   ]
  },
  {
   "cell_type": "code",
   "execution_count": 7,
   "id": "876bd756",
   "metadata": {
    "execution": {
     "iopub.execute_input": "2023-12-29T23:38:53.889181Z",
     "iopub.status.busy": "2023-12-29T23:38:53.888727Z",
     "iopub.status.idle": "2023-12-29T23:38:53.905341Z",
     "shell.execute_reply": "2023-12-29T23:38:53.904820Z"
    },
    "papermill": {
     "duration": 0.021289,
     "end_time": "2023-12-29T23:38:53.906654",
     "exception": false,
     "start_time": "2023-12-29T23:38:53.885365",
     "status": "completed"
    },
    "tags": []
   },
   "outputs": [],
   "source": [
    "def prepare_events(data: pd.DataFrame):\n",
    "    data = data.rename(columns={\n",
    "        'Project name': 'project_name',\n",
    "        'Event type': 'event_type',\n",
    "        'Ticket Tailor ID': 'ticket_tailor_id'\n",
    "    })\n",
    "    data['public_event'] = data.event_type.str.contains('Public Event')\n",
    "    data['ticket_tailor_id'] = data.ticket_tailor_id.str.split(\n",
    "        pat=r'[\\s,]+', regex=True)\n",
    "    data = data.drop(columns=['event_type'])\n",
    "    data = data.explode('ticket_tailor_id')\n",
    "    data = data.loc[data.ticket_tailor_id.notna() & (data.ticket_tailor_id != '')]\n",
    "    return data\n",
    "\n",
    "\n",
    "events = pd.read_csv(\n",
    "    '../../../../working/metrics/events/all.csv',\n",
    "    usecols=[\n",
    "        'Project name',\n",
    "        'Event type',\n",
    "        'Ticket Tailor ID'\n",
    "    ]\n",
    ").pipe(prepare_events)"
   ]
  },
  {
   "cell_type": "markdown",
   "id": "456feb08",
   "metadata": {
    "papermill": {
     "duration": 0.002563,
     "end_time": "2023-12-29T23:38:53.911863",
     "exception": false,
     "start_time": "2023-12-29T23:38:53.909300",
     "status": "completed"
    },
    "tags": []
   },
   "source": [
    "Duplicated ticket tailor IDs"
   ]
  },
  {
   "cell_type": "code",
   "execution_count": 8,
   "id": "63f308b6",
   "metadata": {
    "execution": {
     "iopub.execute_input": "2023-12-29T23:38:53.918240Z",
     "iopub.status.busy": "2023-12-29T23:38:53.917703Z",
     "iopub.status.idle": "2023-12-29T23:38:53.928648Z",
     "shell.execute_reply": "2023-12-29T23:38:53.928037Z"
    },
    "papermill": {
     "duration": 0.015515,
     "end_time": "2023-12-29T23:38:53.929934",
     "exception": false,
     "start_time": "2023-12-29T23:38:53.914419",
     "status": "completed"
    },
    "tags": []
   },
   "outputs": [
    {
     "data": {
      "text/html": [
       "<div>\n",
       "<style scoped>\n",
       "    .dataframe tbody tr th:only-of-type {\n",
       "        vertical-align: middle;\n",
       "    }\n",
       "\n",
       "    .dataframe tbody tr th {\n",
       "        vertical-align: top;\n",
       "    }\n",
       "\n",
       "    .dataframe thead th {\n",
       "        text-align: right;\n",
       "    }\n",
       "</style>\n",
       "<table border=\"1\" class=\"dataframe\">\n",
       "  <thead>\n",
       "    <tr style=\"text-align: right;\">\n",
       "      <th></th>\n",
       "      <th>project_name</th>\n",
       "      <th>ticket_tailor_id</th>\n",
       "      <th>public_event</th>\n",
       "    </tr>\n",
       "  </thead>\n",
       "  <tbody>\n",
       "    <tr>\n",
       "      <th>127</th>\n",
       "      <td>11 - All That Lives</td>\n",
       "      <td>985872</td>\n",
       "      <td>True</td>\n",
       "    </tr>\n",
       "    <tr>\n",
       "      <th>147</th>\n",
       "      <td>09 - Smeaton300: Moon Palace East Leeds Observ...</td>\n",
       "      <td>ev_2918127</td>\n",
       "      <td>True</td>\n",
       "    </tr>\n",
       "    <tr>\n",
       "      <th>173</th>\n",
       "      <td>11 - All That Lives</td>\n",
       "      <td>985872</td>\n",
       "      <td>True</td>\n",
       "    </tr>\n",
       "    <tr>\n",
       "      <th>272</th>\n",
       "      <td>Creative Learning S3</td>\n",
       "      <td>ev_3073624</td>\n",
       "      <td>False</td>\n",
       "    </tr>\n",
       "    <tr>\n",
       "      <th>332</th>\n",
       "      <td>11 - All That Lives</td>\n",
       "      <td>985872</td>\n",
       "      <td>True</td>\n",
       "    </tr>\n",
       "    <tr>\n",
       "      <th>651</th>\n",
       "      <td>11 - All That Lives</td>\n",
       "      <td>985872</td>\n",
       "      <td>True</td>\n",
       "    </tr>\n",
       "    <tr>\n",
       "      <th>948</th>\n",
       "      <td>07 - Children's Day</td>\n",
       "      <td>ev_2963290</td>\n",
       "      <td>NaN</td>\n",
       "    </tr>\n",
       "    <tr>\n",
       "      <th>948</th>\n",
       "      <td>07 - Children's Day</td>\n",
       "      <td>ev_2963290</td>\n",
       "      <td>NaN</td>\n",
       "    </tr>\n",
       "    <tr>\n",
       "      <th>948</th>\n",
       "      <td>07 - Children's Day</td>\n",
       "      <td>ev_2963295</td>\n",
       "      <td>NaN</td>\n",
       "    </tr>\n",
       "    <tr>\n",
       "      <th>948</th>\n",
       "      <td>07 - Children's Day</td>\n",
       "      <td>ev_2963297</td>\n",
       "      <td>NaN</td>\n",
       "    </tr>\n",
       "    <tr>\n",
       "      <th>948</th>\n",
       "      <td>07 - Children's Day</td>\n",
       "      <td>ev_2963295</td>\n",
       "      <td>NaN</td>\n",
       "    </tr>\n",
       "    <tr>\n",
       "      <th>948</th>\n",
       "      <td>07 - Children's Day</td>\n",
       "      <td>ev_2963296</td>\n",
       "      <td>NaN</td>\n",
       "    </tr>\n",
       "    <tr>\n",
       "      <th>948</th>\n",
       "      <td>07 - Children's Day</td>\n",
       "      <td>ev_2963296</td>\n",
       "      <td>NaN</td>\n",
       "    </tr>\n",
       "    <tr>\n",
       "      <th>948</th>\n",
       "      <td>07 - Children's Day</td>\n",
       "      <td>ev_2963297</td>\n",
       "      <td>NaN</td>\n",
       "    </tr>\n",
       "    <tr>\n",
       "      <th>992</th>\n",
       "      <td>11 - All That Lives</td>\n",
       "      <td>985872</td>\n",
       "      <td>True</td>\n",
       "    </tr>\n",
       "    <tr>\n",
       "      <th>1172</th>\n",
       "      <td>09 - Smeaton300: Moon Palace East Leeds Observ...</td>\n",
       "      <td>ev_2918127</td>\n",
       "      <td>True</td>\n",
       "    </tr>\n",
       "    <tr>\n",
       "      <th>1462</th>\n",
       "      <td>07 - Children's Day</td>\n",
       "      <td>ev_2963290</td>\n",
       "      <td>True</td>\n",
       "    </tr>\n",
       "    <tr>\n",
       "      <th>1462</th>\n",
       "      <td>07 - Children's Day</td>\n",
       "      <td>ev_2963295</td>\n",
       "      <td>True</td>\n",
       "    </tr>\n",
       "    <tr>\n",
       "      <th>1462</th>\n",
       "      <td>07 - Children's Day</td>\n",
       "      <td>ev_2963296</td>\n",
       "      <td>True</td>\n",
       "    </tr>\n",
       "    <tr>\n",
       "      <th>1462</th>\n",
       "      <td>07 - Children's Day</td>\n",
       "      <td>ev_2963297</td>\n",
       "      <td>True</td>\n",
       "    </tr>\n",
       "    <tr>\n",
       "      <th>1482</th>\n",
       "      <td>09 - Smeaton300: Moon Palace East Leeds Observ...</td>\n",
       "      <td>ev_2918127</td>\n",
       "      <td>True</td>\n",
       "    </tr>\n",
       "    <tr>\n",
       "      <th>1567</th>\n",
       "      <td>Creative Learning S3</td>\n",
       "      <td>ev_3073624</td>\n",
       "      <td>False</td>\n",
       "    </tr>\n",
       "  </tbody>\n",
       "</table>\n",
       "</div>"
      ],
      "text/plain": [
       "                                           project_name ticket_tailor_id  \\\n",
       "127                                 11 - All That Lives           985872   \n",
       "147   09 - Smeaton300: Moon Palace East Leeds Observ...       ev_2918127   \n",
       "173                                 11 - All That Lives           985872   \n",
       "272                                Creative Learning S3       ev_3073624   \n",
       "332                                 11 - All That Lives           985872   \n",
       "651                                 11 - All That Lives           985872   \n",
       "948                                 07 - Children's Day       ev_2963290   \n",
       "948                                 07 - Children's Day       ev_2963290   \n",
       "948                                 07 - Children's Day       ev_2963295   \n",
       "948                                 07 - Children's Day       ev_2963297   \n",
       "948                                 07 - Children's Day       ev_2963295   \n",
       "948                                 07 - Children's Day       ev_2963296   \n",
       "948                                 07 - Children's Day       ev_2963296   \n",
       "948                                 07 - Children's Day       ev_2963297   \n",
       "992                                 11 - All That Lives           985872   \n",
       "1172  09 - Smeaton300: Moon Palace East Leeds Observ...       ev_2918127   \n",
       "1462                                07 - Children's Day       ev_2963290   \n",
       "1462                                07 - Children's Day       ev_2963295   \n",
       "1462                                07 - Children's Day       ev_2963296   \n",
       "1462                                07 - Children's Day       ev_2963297   \n",
       "1482  09 - Smeaton300: Moon Palace East Leeds Observ...       ev_2918127   \n",
       "1567                               Creative Learning S3       ev_3073624   \n",
       "\n",
       "     public_event  \n",
       "127          True  \n",
       "147          True  \n",
       "173          True  \n",
       "272         False  \n",
       "332          True  \n",
       "651          True  \n",
       "948           NaN  \n",
       "948           NaN  \n",
       "948           NaN  \n",
       "948           NaN  \n",
       "948           NaN  \n",
       "948           NaN  \n",
       "948           NaN  \n",
       "948           NaN  \n",
       "992          True  \n",
       "1172         True  \n",
       "1462         True  \n",
       "1462         True  \n",
       "1462         True  \n",
       "1462         True  \n",
       "1482         True  \n",
       "1567        False  "
      ]
     },
     "execution_count": 8,
     "metadata": {},
     "output_type": "execute_result"
    }
   ],
   "source": [
    "events[\n",
    "  events.ticket_tailor_id.isin(\n",
    "    events.ticket_tailor_id[\n",
    "      events.ticket_tailor_id.duplicated()\n",
    "    ].to_list()\n",
    "  )\n",
    "]"
   ]
  },
  {
   "cell_type": "code",
   "execution_count": 9,
   "id": "bba62572",
   "metadata": {
    "execution": {
     "iopub.execute_input": "2023-12-29T23:38:53.936653Z",
     "iopub.status.busy": "2023-12-29T23:38:53.936294Z",
     "iopub.status.idle": "2023-12-29T23:38:53.940475Z",
     "shell.execute_reply": "2023-12-29T23:38:53.939926Z"
    },
    "papermill": {
     "duration": 0.008925,
     "end_time": "2023-12-29T23:38:53.941779",
     "exception": false,
     "start_time": "2023-12-29T23:38:53.932854",
     "status": "completed"
    },
    "tags": []
   },
   "outputs": [
    {
     "data": {
      "text/plain": [
       "7180"
      ]
     },
     "execution_count": 9,
     "metadata": {},
     "output_type": "execute_result"
    }
   ],
   "source": [
    "len(completed_orders)"
   ]
  },
  {
   "cell_type": "code",
   "execution_count": 10,
   "id": "f064e9df",
   "metadata": {
    "execution": {
     "iopub.execute_input": "2023-12-29T23:38:53.948715Z",
     "iopub.status.busy": "2023-12-29T23:38:53.948364Z",
     "iopub.status.idle": "2023-12-29T23:38:53.962527Z",
     "shell.execute_reply": "2023-12-29T23:38:53.961998Z"
    },
    "papermill": {
     "duration": 0.019105,
     "end_time": "2023-12-29T23:38:53.963851",
     "exception": false,
     "start_time": "2023-12-29T23:38:53.944746",
     "status": "completed"
    },
    "tags": []
   },
   "outputs": [],
   "source": [
    "completed_orders = completed_orders.merge(\n",
    "    events.drop_duplicates().set_index('ticket_tailor_id'),\n",
    "    left_on='event_id',\n",
    "    right_index=True,\n",
    "    how='left'\n",
    ")\n",
    "completed_orders['event_datetime'] = pd.to_datetime(completed_orders.event_date.astype(str) + 'T' + completed_orders.event_time)\n"
   ]
  },
  {
   "cell_type": "code",
   "execution_count": 11,
   "id": "cf72cc60",
   "metadata": {
    "execution": {
     "iopub.execute_input": "2023-12-29T23:38:53.970917Z",
     "iopub.status.busy": "2023-12-29T23:38:53.970544Z",
     "iopub.status.idle": "2023-12-29T23:38:53.974612Z",
     "shell.execute_reply": "2023-12-29T23:38:53.974053Z"
    },
    "papermill": {
     "duration": 0.009012,
     "end_time": "2023-12-29T23:38:53.975917",
     "exception": false,
     "start_time": "2023-12-29T23:38:53.966905",
     "status": "completed"
    },
    "tags": []
   },
   "outputs": [
    {
     "data": {
      "text/plain": [
       "7188"
      ]
     },
     "execution_count": 11,
     "metadata": {},
     "output_type": "execute_result"
    }
   ],
   "source": [
    "len(completed_orders)"
   ]
  },
  {
   "cell_type": "code",
   "execution_count": 12,
   "id": "d93b05d5",
   "metadata": {
    "execution": {
     "iopub.execute_input": "2023-12-29T23:38:53.983142Z",
     "iopub.status.busy": "2023-12-29T23:38:53.982744Z",
     "iopub.status.idle": "2023-12-29T23:38:53.985789Z",
     "shell.execute_reply": "2023-12-29T23:38:53.985247Z"
    },
    "papermill": {
     "duration": 0.008083,
     "end_time": "2023-12-29T23:38:53.987121",
     "exception": false,
     "start_time": "2023-12-29T23:38:53.979038",
     "status": "completed"
    },
    "tags": []
   },
   "outputs": [],
   "source": [
    "OUTPUT_DIR = TOP_DIR.joinpath('data/metrics/events/tickets/')\n",
    "OUTPUT_DIR.mkdir(parents=True, exist_ok=True)"
   ]
  },
  {
   "cell_type": "code",
   "execution_count": 13,
   "id": "287e2115",
   "metadata": {
    "execution": {
     "iopub.execute_input": "2023-12-29T23:38:53.994653Z",
     "iopub.status.busy": "2023-12-29T23:38:53.994148Z",
     "iopub.status.idle": "2023-12-29T23:38:54.030356Z",
     "shell.execute_reply": "2023-12-29T23:38:54.029867Z"
    },
    "papermill": {
     "duration": 0.041335,
     "end_time": "2023-12-29T23:38:54.031778",
     "exception": false,
     "start_time": "2023-12-29T23:38:53.990443",
     "status": "completed"
    },
    "tags": []
   },
   "outputs": [],
   "source": [
    "completed_orders.loc[:, [\n",
    "    'created_at',\n",
    "    'event_id',\n",
    "    'event_date',\n",
    "    'event_datetime',\n",
    "    'number_of_tickets',\n",
    "    'ward_code',\n",
    "    'project_name',\n",
    "    'public_event',\n",
    "]].sort_values(['created_at', 'event_id']).to_csv(\n",
    "  OUTPUT_DIR.joinpath('orders.csv'),\n",
    "  index=False\n",
    ")"
   ]
  },
  {
   "cell_type": "code",
   "execution_count": 14,
   "id": "f20fcee5",
   "metadata": {
    "execution": {
     "iopub.execute_input": "2023-12-29T23:38:54.039215Z",
     "iopub.status.busy": "2023-12-29T23:38:54.038810Z",
     "iopub.status.idle": "2023-12-29T23:38:54.047599Z",
     "shell.execute_reply": "2023-12-29T23:38:54.047089Z"
    },
    "papermill": {
     "duration": 0.013998,
     "end_time": "2023-12-29T23:38:54.048971",
     "exception": false,
     "start_time": "2023-12-29T23:38:54.034973",
     "status": "completed"
    },
    "tags": []
   },
   "outputs": [],
   "source": [
    "(\n",
    "    completed_orders.loc[:, ['event_date', 'event_time', 'event_name', 'event_id', 'project_name', 'public_event']]\n",
    "      .drop_duplicates()\n",
    "      .sort_values(['event_date', 'event_time'])\n",
    "      .to_csv('../../../../data/metrics/events/tickets/events.csv', index=False)\n",
    ")"
   ]
  },
  {
   "cell_type": "code",
   "execution_count": 15,
   "id": "8e04686a",
   "metadata": {
    "execution": {
     "iopub.execute_input": "2023-12-29T23:38:54.056365Z",
     "iopub.status.busy": "2023-12-29T23:38:54.055900Z",
     "iopub.status.idle": "2023-12-29T23:38:54.850450Z",
     "shell.execute_reply": "2023-12-29T23:38:54.849702Z"
    },
    "papermill": {
     "duration": 0.799659,
     "end_time": "2023-12-29T23:38:54.851828",
     "exception": false,
     "start_time": "2023-12-29T23:38:54.052169",
     "status": "completed"
    },
    "tags": []
   },
   "outputs": [
    {
     "data": {
      "image/png": "[encoded data removed]",
      "text/plain": [
       "<Figure size 640x480 with 1 Axes>"
      ]
     },
     "metadata": {},
     "output_type": "display_data"
    }
   ],
   "source": [
    "chart = completed_orders.groupby(['project_name']).number_of_tickets.sum().sort_values().plot.barh()"
   ]
  },
  {
   "cell_type": "code",
   "execution_count": 16,
   "id": "6bbda83e",
   "metadata": {
    "execution": {
     "iopub.execute_input": "2023-12-29T23:38:54.862466Z",
     "iopub.status.busy": "2023-12-29T23:38:54.861934Z",
     "iopub.status.idle": "2023-12-29T23:38:55.046924Z",
     "shell.execute_reply": "2023-12-29T23:38:55.046342Z"
    },
    "papermill": {
     "duration": 0.192338,
     "end_time": "2023-12-29T23:38:55.048275",
     "exception": false,
     "start_time": "2023-12-29T23:38:54.855937",
     "status": "completed"
    },
    "tags": []
   },
   "outputs": [
    {
     "data": {
      "image/png": "[encoded data removed]",
      "text/plain": [
       "<Figure size 640x480 with 1 Axes>"
      ]
     },
     "metadata": {},
     "output_type": "display_data"
    }
   ],
   "source": [
    "chart = completed_orders.groupby([\n",
    "    'event_date'\n",
    "    ]).number_of_tickets.sum().resample('M').sum().cumsum().plot.bar()"
   ]
  },
  {
   "cell_type": "code",
   "execution_count": null,
   "id": "72e20248",
   "metadata": {
    "papermill": {
     "duration": 0.003974,
     "end_time": "2023-12-29T23:38:55.056464",
     "exception": false,
     "start_time": "2023-12-29T23:38:55.052490",
     "status": "completed"
    },
    "tags": []
   },
   "outputs": [],
   "source": []
  }
 ],
 "metadata": {
  "kernelspec": {
   "display_name": "leeds-2023-YZF5GfJv",
   "language": "python",
   "name": "python3"
  },
  "language_info": {
   "codemirror_mode": {
    "name": "ipython",
    "version": 3
   },
   "file_extension": ".py",
   "mimetype": "text/x-python",
   "name": "python",
   "nbconvert_exporter": "python",
   "pygments_lexer": "ipython3",
   "version": "3.10.13"
  },
  "papermill": {
   "default_parameters": {},
   "duration": 10.996755,
   "end_time": "2023-12-29T23:38:55.377633",
   "environment_variables": {},
   "exception": null,
   "input_path": "tickets.ipynb",
   "output_path": "../../../../working/output/tickets-transform.ipynb",
   "parameters": {},
   "start_time": "2023-12-29T23:38:44.380878",
   "version": "2.4.0"
  }
 },
 "nbformat": 4,
 "nbformat_minor": 5
}