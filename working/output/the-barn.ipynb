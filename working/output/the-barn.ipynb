{
 "cells": [
  {
   "cell_type": "code",
   "execution_count": 1,
   "id": "80a9531d",
   "metadata": {
    "execution": {
     "iopub.execute_input": "2023-07-13T10:03:21.249863Z",
     "iopub.status.busy": "2023-07-13T10:03:21.249262Z",
     "iopub.status.idle": "2023-07-13T10:03:21.410121Z",
     "shell.execute_reply": "2023-07-13T10:03:21.409666Z"
    },
    "papermill": {
     "duration": 0.170173,
     "end_time": "2023-07-13T10:03:21.411233",
     "exception": false,
     "start_time": "2023-07-13T10:03:21.241060",
     "status": "completed"
    },
    "tags": []
   },
   "outputs": [],
   "source": [
    "import os\n",
    "import sys\n",
    "import pandas as pd\n",
    "import numpy as np"
   ]
  },
  {
   "cell_type": "code",
   "execution_count": 2,
   "id": "c8b24749",
   "metadata": {
    "execution": {
     "iopub.execute_input": "2023-07-13T10:03:21.414206Z",
     "iopub.status.busy": "2023-07-13T10:03:21.414015Z",
     "iopub.status.idle": "2023-07-13T10:03:21.423739Z",
     "shell.execute_reply": "2023-07-13T10:03:21.423438Z"
    },
    "papermill": {
     "duration": 0.012195,
     "end_time": "2023-07-13T10:03:21.424658",
     "exception": false,
     "start_time": "2023-07-13T10:03:21.412463",
     "status": "completed"
    },
    "tags": []
   },
   "outputs": [],
   "source": [
    "lib_dir = os.path.abspath('../../../../lib/')\n",
    "if not lib_dir in sys.path: sys.path.append(lib_dir)\n",
    "\n",
    "import util.geo\n",
    "import util.convert"
   ]
  },
  {
   "cell_type": "code",
   "execution_count": 3,
   "id": "43aaee7a",
   "metadata": {
    "execution": {
     "iopub.execute_input": "2023-07-13T10:03:21.427209Z",
     "iopub.status.busy": "2023-07-13T10:03:21.427062Z",
     "iopub.status.idle": "2023-07-13T10:03:21.435302Z",
     "shell.execute_reply": "2023-07-13T10:03:21.435001Z"
    },
    "papermill": {
     "duration": 0.010519,
     "end_time": "2023-07-13T10:03:21.436218",
     "exception": false,
     "start_time": "2023-07-13T10:03:21.425699",
     "status": "completed"
    },
    "tags": []
   },
   "outputs": [],
   "source": [
    "data = pd.read_csv('../../../../data/metrics/events/master/all.csv', parse_dates=['start_date'])\n",
    "data = data.loc[\n",
    "    (data.project_type == 'Produce (Signature)') &\n",
    "    (data.project_name == '05 - The Barn') &\n",
    "    (data.event_type.str.contains('Public Event -')) &\n",
    "    (data.start_date < pd.Timestamp.now())\n",
    "]"
   ]
  },
  {
   "cell_type": "code",
   "execution_count": 4,
   "id": "b6cdd90d",
   "metadata": {
    "execution": {
     "iopub.execute_input": "2023-07-13T10:03:21.438723Z",
     "iopub.status.busy": "2023-07-13T10:03:21.438612Z",
     "iopub.status.idle": "2023-07-13T10:03:21.441101Z",
     "shell.execute_reply": "2023-07-13T10:03:21.440796Z"
    },
    "papermill": {
     "duration": 0.004625,
     "end_time": "2023-07-13T10:03:21.441895",
     "exception": false,
     "start_time": "2023-07-13T10:03:21.437270",
     "status": "completed"
    },
    "tags": []
   },
   "outputs": [],
   "source": [
    "wards = data['ward_(from_venue)'].fillna(value='[]').pipe(util.convert.literal_converter).apply(np.unique)"
   ]
  },
  {
   "cell_type": "code",
   "execution_count": 5,
   "id": "9878c80d",
   "metadata": {
    "execution": {
     "iopub.execute_input": "2023-07-13T10:03:21.444336Z",
     "iopub.status.busy": "2023-07-13T10:03:21.444231Z",
     "iopub.status.idle": "2023-07-13T10:03:21.452238Z",
     "shell.execute_reply": "2023-07-13T10:03:21.451973Z"
    },
    "papermill": {
     "duration": 0.010154,
     "end_time": "2023-07-13T10:03:21.453045",
     "exception": false,
     "start_time": "2023-07-13T10:03:21.442891",
     "status": "completed"
    },
    "tags": []
   },
   "outputs": [
    {
     "data": {
      "text/html": [
       "<div>\n",
       "<style scoped>\n",
       "    .dataframe tbody tr th:only-of-type {\n",
       "        vertical-align: middle;\n",
       "    }\n",
       "\n",
       "    .dataframe tbody tr th {\n",
       "        vertical-align: top;\n",
       "    }\n",
       "\n",
       "    .dataframe thead th {\n",
       "        text-align: right;\n",
       "    }\n",
       "</style>\n",
       "<table border=\"1\" class=\"dataframe\">\n",
       "  <thead>\n",
       "    <tr style=\"text-align: right;\">\n",
       "      <th></th>\n",
       "      <th>event_unique_identifier</th>\n",
       "      <th>project_name</th>\n",
       "      <th>event_name</th>\n",
       "      <th>event_type</th>\n",
       "      <th>season</th>\n",
       "      <th>start_date</th>\n",
       "      <th>airtable_id</th>\n",
       "      <th>actual_audience_size_number_of_participants_in_person</th>\n",
       "      <th>project_type</th>\n",
       "      <th>ward_(from_venue)</th>\n",
       "      <th>postcode_(from_venue)</th>\n",
       "      <th>end_date</th>\n",
       "      <th>number_of_booked_participants</th>\n",
       "      <th>actual_audience_size_number_of_participants_online</th>\n",
       "    </tr>\n",
       "  </thead>\n",
       "  <tbody>\n",
       "    <tr>\n",
       "      <th>363</th>\n",
       "      <td>05 - The Barn: The Space Digital Interactive P...</td>\n",
       "      <td>05 - The Barn</td>\n",
       "      <td>The Space Digital Interactive Playspace (schoo...</td>\n",
       "      <td>['Public Event - Digital Experience', 'CLE - C...</td>\n",
       "      <td>['Season 2 - Playing']</td>\n",
       "      <td>2023-05-16</td>\n",
       "      <td>1623</td>\n",
       "      <td>4.0</td>\n",
       "      <td>Produce (Signature)</td>\n",
       "      <td>NaN</td>\n",
       "      <td>NaN</td>\n",
       "      <td>2023-05-18</td>\n",
       "      <td>7.0</td>\n",
       "      <td>0.0</td>\n",
       "    </tr>\n",
       "    <tr>\n",
       "      <th>543</th>\n",
       "      <td>05 - The Barn: The Space Digital Interactive P...</td>\n",
       "      <td>05 - The Barn</td>\n",
       "      <td>The Space Digital Interactive Playspace</td>\n",
       "      <td>['Public Event - Digital Experience', 'CLE - C...</td>\n",
       "      <td>['Season 2 - Playing']</td>\n",
       "      <td>2023-05-16</td>\n",
       "      <td>351</td>\n",
       "      <td>128.0</td>\n",
       "      <td>Produce (Signature)</td>\n",
       "      <td>NaN</td>\n",
       "      <td>NaN</td>\n",
       "      <td>2023-05-18</td>\n",
       "      <td>7.0</td>\n",
       "      <td>NaN</td>\n",
       "    </tr>\n",
       "  </tbody>\n",
       "</table>\n",
       "</div>"
      ],
      "text/plain": [
       "                               event_unique_identifier   project_name  \\\n",
       "363  05 - The Barn: The Space Digital Interactive P...  05 - The Barn   \n",
       "543  05 - The Barn: The Space Digital Interactive P...  05 - The Barn   \n",
       "\n",
       "                                            event_name  \\\n",
       "363  The Space Digital Interactive Playspace (schoo...   \n",
       "543           The Space Digital Interactive Playspace    \n",
       "\n",
       "                                            event_type  \\\n",
       "363  ['Public Event - Digital Experience', 'CLE - C...   \n",
       "543  ['Public Event - Digital Experience', 'CLE - C...   \n",
       "\n",
       "                     season start_date  airtable_id  \\\n",
       "363  ['Season 2 - Playing'] 2023-05-16         1623   \n",
       "543  ['Season 2 - Playing'] 2023-05-16          351   \n",
       "\n",
       "     actual_audience_size_number_of_participants_in_person  \\\n",
       "363                                                4.0       \n",
       "543                                              128.0       \n",
       "\n",
       "            project_type ward_(from_venue) postcode_(from_venue)    end_date  \\\n",
       "363  Produce (Signature)               NaN                   NaN  2023-05-18   \n",
       "543  Produce (Signature)               NaN                   NaN  2023-05-18   \n",
       "\n",
       "     number_of_booked_participants  \\\n",
       "363                            7.0   \n",
       "543                            7.0   \n",
       "\n",
       "     actual_audience_size_number_of_participants_online  \n",
       "363                                                0.0   \n",
       "543                                                NaN   "
      ]
     },
     "execution_count": 5,
     "metadata": {},
     "output_type": "execute_result"
    }
   ],
   "source": [
    "data[wards.apply(len) != 1]"
   ]
  },
  {
   "cell_type": "code",
   "execution_count": 6,
   "id": "296f5e6b",
   "metadata": {
    "execution": {
     "iopub.execute_input": "2023-07-13T10:03:21.455897Z",
     "iopub.status.busy": "2023-07-13T10:03:21.455722Z",
     "iopub.status.idle": "2023-07-13T10:03:21.469896Z",
     "shell.execute_reply": "2023-07-13T10:03:21.469587Z"
    },
    "papermill": {
     "duration": 0.016445,
     "end_time": "2023-07-13T10:03:21.470683",
     "exception": false,
     "start_time": "2023-07-13T10:03:21.454238",
     "status": "completed"
    },
    "tags": []
   },
   "outputs": [],
   "source": [
    "data['ward_code'] = wards.apply(lambda x: x[0] if len(x) > 0 else np.nan).pipe(util.geo.normalise_leeds_wards).pipe(util.geo.ward_name_to_code)"
   ]
  },
  {
   "cell_type": "code",
   "execution_count": 7,
   "id": "95ea83aa",
   "metadata": {
    "execution": {
     "iopub.execute_input": "2023-07-13T10:03:21.473591Z",
     "iopub.status.busy": "2023-07-13T10:03:21.473419Z",
     "iopub.status.idle": "2023-07-13T10:03:21.475686Z",
     "shell.execute_reply": "2023-07-13T10:03:21.475435Z"
    },
    "papermill": {
     "duration": 0.004568,
     "end_time": "2023-07-13T10:03:21.476496",
     "exception": false,
     "start_time": "2023-07-13T10:03:21.471928",
     "status": "completed"
    },
    "tags": []
   },
   "outputs": [],
   "source": [
    "data['audience_size'] = data.actual_audience_size_number_of_participants_in_person.fillna(0) + data.actual_audience_size_number_of_participants_online.fillna(0)"
   ]
  },
  {
   "cell_type": "code",
   "execution_count": 8,
   "id": "3a63e4a2",
   "metadata": {
    "execution": {
     "iopub.execute_input": "2023-07-13T10:03:21.479251Z",
     "iopub.status.busy": "2023-07-13T10:03:21.479113Z",
     "iopub.status.idle": "2023-07-13T10:03:21.480879Z",
     "shell.execute_reply": "2023-07-13T10:03:21.480587Z"
    },
    "papermill": {
     "duration": 0.003948,
     "end_time": "2023-07-13T10:03:21.481627",
     "exception": false,
     "start_time": "2023-07-13T10:03:21.477679",
     "status": "completed"
    },
    "tags": []
   },
   "outputs": [],
   "source": [
    "OUT_DIR = '../../../../docs/metrics/events/the-barn/_data/events'\n",
    "os.makedirs(OUT_DIR, exist_ok=True)"
   ]
  },
  {
   "cell_type": "code",
   "execution_count": 9,
   "id": "8bd780d4",
   "metadata": {
    "execution": {
     "iopub.execute_input": "2023-07-13T10:03:21.484371Z",
     "iopub.status.busy": "2023-07-13T10:03:21.484233Z",
     "iopub.status.idle": "2023-07-13T10:03:21.487716Z",
     "shell.execute_reply": "2023-07-13T10:03:21.487430Z"
    },
    "papermill": {
     "duration": 0.005541,
     "end_time": "2023-07-13T10:03:21.488324",
     "exception": false,
     "start_time": "2023-07-13T10:03:21.482783",
     "status": "completed"
    },
    "tags": []
   },
   "outputs": [],
   "source": [
    "by_ward = pd.DataFrame(\n",
    "  {\n",
    "    'events': data.groupby('ward_code').audience_size.count(),\n",
    "    'audience': data.groupby('ward_code').audience_size.sum(),\n",
    "  }\n",
    ")\n",
    "by_ward.to_csv(os.path.join(OUT_DIR, 'by_ward.csv'))"
   ]
  },
  {
   "cell_type": "code",
   "execution_count": 10,
   "id": "f3b27bfd",
   "metadata": {
    "execution": {
     "iopub.execute_input": "2023-07-13T10:03:21.491088Z",
     "iopub.status.busy": "2023-07-13T10:03:21.490985Z",
     "iopub.status.idle": "2023-07-13T10:03:21.497337Z",
     "shell.execute_reply": "2023-07-13T10:03:21.497018Z"
    },
    "papermill": {
     "duration": 0.008557,
     "end_time": "2023-07-13T10:03:21.498066",
     "exception": false,
     "start_time": "2023-07-13T10:03:21.489509",
     "status": "completed"
    },
    "tags": []
   },
   "outputs": [],
   "source": [
    "by_week = pd.DataFrame({\n",
    "  'events': data.groupby('start_date').audience_size.count(),\n",
    "  'audience': data.groupby('start_date').audience_size.sum().astype(int)\n",
    "}).resample('W-FRI').sum()\n",
    "by_week.index.name = 'week_ending'\n",
    "by_week['cumulative_events'] = by_week.events.cumsum()\n",
    "by_week['cumulative_audience'] = by_week.audience.cumsum()\n",
    "by_week.to_csv(os.path.join(OUT_DIR, 'by_week.csv'))"
   ]
  },
  {
   "cell_type": "code",
   "execution_count": 11,
   "id": "0cc1a1a5",
   "metadata": {
    "execution": {
     "iopub.execute_input": "2023-07-13T10:03:21.501077Z",
     "iopub.status.busy": "2023-07-13T10:03:21.500905Z",
     "iopub.status.idle": "2023-07-13T10:03:21.504628Z",
     "shell.execute_reply": "2023-07-13T10:03:21.504323Z"
    },
    "papermill": {
     "duration": 0.006107,
     "end_time": "2023-07-13T10:03:21.505454",
     "exception": false,
     "start_time": "2023-07-13T10:03:21.499347",
     "status": "completed"
    },
    "tags": []
   },
   "outputs": [],
   "source": [
    "by_month = by_week.resample('M').sum()\n",
    "by_month['cumulative_events'] = by_month.events.cumsum()\n",
    "by_month['cumulative_audience'] = by_month.audience.cumsum()\n",
    "by_month.index.name = 'month_ending'\n",
    "by_month.to_csv(os.path.join(OUT_DIR, 'by_month.csv'))"
   ]
  },
  {
   "cell_type": "code",
   "execution_count": 12,
   "id": "9e473c1c",
   "metadata": {
    "execution": {
     "iopub.execute_input": "2023-07-13T10:03:21.508297Z",
     "iopub.status.busy": "2023-07-13T10:03:21.508184Z",
     "iopub.status.idle": "2023-07-13T10:03:21.510930Z",
     "shell.execute_reply": "2023-07-13T10:03:21.510665Z"
    },
    "papermill": {
     "duration": 0.004968,
     "end_time": "2023-07-13T10:03:21.511633",
     "exception": false,
     "start_time": "2023-07-13T10:03:21.506665",
     "status": "completed"
    },
    "tags": []
   },
   "outputs": [],
   "source": [
    "by_month.drop(\n",
    "    columns=['events', 'audience']\n",
    ").rename(\n",
    "    columns=lambda n: n.replace('cumulative', 'total')\n",
    ").iloc[-1].to_json(os.path.join(OUT_DIR, 'headlines.json'))"
   ]
  }
 ],
 "metadata": {
  "kernelspec": {
   "display_name": "leeds-2023-YZF5GfJv",
   "language": "python",
   "name": "python3"
  },
  "language_info": {
   "codemirror_mode": {
    "name": "ipython",
    "version": 3
   },
   "file_extension": ".py",
   "mimetype": "text/x-python",
   "name": "python",
   "nbconvert_exporter": "python",
   "pygments_lexer": "ipython3",
   "version": "3.10.6"
  },
  "papermill": {
   "default_parameters": {},
   "duration": 1.198796,
   "end_time": "2023-07-13T10:03:21.730041",
   "environment_variables": {},
   "exception": null,
   "input_path": "the-barn.ipynb",
   "output_path": "../../../../working/output/the-barn.ipynb",
   "parameters": {},
   "start_time": "2023-07-13T10:03:20.531245",
   "version": "2.4.0"
  }
 },
 "nbformat": 4,
 "nbformat_minor": 5
}