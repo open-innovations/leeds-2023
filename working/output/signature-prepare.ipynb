{
 "cells": [
  {
   "cell_type": "code",
   "execution_count": 1,
   "id": "f8e22592",
   "metadata": {
    "execution": {
     "iopub.execute_input": "2023-12-01T23:41:17.146750Z",
     "iopub.status.busy": "2023-12-01T23:41:17.146486Z",
     "iopub.status.idle": "2023-12-01T23:41:24.595482Z",
     "shell.execute_reply": "2023-12-01T23:41:24.594814Z"
    },
    "papermill": {
     "duration": 7.454214,
     "end_time": "2023-12-01T23:41:24.597088",
     "exception": false,
     "start_time": "2023-12-01T23:41:17.142874",
     "status": "completed"
    },
    "tags": []
   },
   "outputs": [],
   "source": [
    "import os\n",
    "import pandas as pd\n",
    "from events import load_event_data, get_first_ward, normalise_ward"
   ]
  },
  {
   "cell_type": "code",
   "execution_count": 2,
   "id": "96b3e719",
   "metadata": {
    "execution": {
     "iopub.execute_input": "2023-12-01T23:41:24.602513Z",
     "iopub.status.busy": "2023-12-01T23:41:24.602072Z",
     "iopub.status.idle": "2023-12-01T23:41:24.605569Z",
     "shell.execute_reply": "2023-12-01T23:41:24.604981Z"
    },
    "papermill": {
     "duration": 0.007555,
     "end_time": "2023-12-01T23:41:24.606918",
     "exception": false,
     "start_time": "2023-12-01T23:41:24.599363",
     "status": "completed"
    },
    "tags": []
   },
   "outputs": [],
   "source": [
    "latest_date = pd.Timestamp.today().ceil('D')"
   ]
  },
  {
   "cell_type": "code",
   "execution_count": 3,
   "id": "e2c68120",
   "metadata": {
    "execution": {
     "iopub.execute_input": "2023-12-01T23:41:24.611465Z",
     "iopub.status.busy": "2023-12-01T23:41:24.611276Z",
     "iopub.status.idle": "2023-12-01T23:41:24.625823Z",
     "shell.execute_reply": "2023-12-01T23:41:24.625314Z"
    },
    "papermill": {
     "duration": 0.018334,
     "end_time": "2023-12-01T23:41:24.627087",
     "exception": false,
     "start_time": "2023-12-01T23:41:24.608753",
     "status": "completed"
    },
    "tags": []
   },
   "outputs": [],
   "source": [
    "tickets = pd.read_csv('../../../../data/metrics/events/tickets/orders.csv', parse_dates=['created_at', 'event_date'])\n",
    "tickets = tickets[tickets.event_date <= latest_date]"
   ]
  },
  {
   "cell_type": "code",
   "execution_count": 4,
   "id": "820b1ac8",
   "metadata": {
    "execution": {
     "iopub.execute_input": "2023-12-01T23:41:24.631661Z",
     "iopub.status.busy": "2023-12-01T23:41:24.631472Z",
     "iopub.status.idle": "2023-12-01T23:41:24.682579Z",
     "shell.execute_reply": "2023-12-01T23:41:24.681963Z"
    },
    "papermill": {
     "duration": 0.055119,
     "end_time": "2023-12-01T23:41:24.684105",
     "exception": false,
     "start_time": "2023-12-01T23:41:24.628986",
     "status": "completed"
    },
    "tags": []
   },
   "outputs": [],
   "source": [
    "events = load_event_data()\n",
    "\n",
    "events = pd.concat([\n",
    "  events,\n",
    "  events.pipe(get_first_ward).pipe(normalise_ward).fillna('UNKNOWN'),\n",
    "  pd.Series(\n",
    "      events.actual_audience_size_number_of_participants_in_person + events.actual_audience_size_number_of_participants_online,\n",
    "      name='attendances'\n",
    "  )\n",
    "], axis=1).rename(columns={\n",
    "    'start_date': 'date'\n",
    "}).loc[:, ['ward_code', 'date', 'event_unique_identifier', 'attendances']]"
   ]
  },
  {
   "cell_type": "code",
   "execution_count": 5,
   "id": "43eafb14",
   "metadata": {
    "execution": {
     "iopub.execute_input": "2023-12-01T23:41:24.689234Z",
     "iopub.status.busy": "2023-12-01T23:41:24.688984Z",
     "iopub.status.idle": "2023-12-01T23:41:24.692277Z",
     "shell.execute_reply": "2023-12-01T23:41:24.691719Z"
    },
    "papermill": {
     "duration": 0.007374,
     "end_time": "2023-12-01T23:41:24.693574",
     "exception": false,
     "start_time": "2023-12-01T23:41:24.686200",
     "status": "completed"
    },
    "tags": []
   },
   "outputs": [],
   "source": [
    "OUTPUT_DIR='../../../../docs/metrics/events/signature/_data/'\n",
    "os.makedirs(OUTPUT_DIR, exist_ok=True)"
   ]
  },
  {
   "cell_type": "markdown",
   "id": "c5e0539b",
   "metadata": {
    "papermill": {
     "duration": 0.001963,
     "end_time": "2023-12-01T23:41:24.697517",
     "exception": false,
     "start_time": "2023-12-01T23:41:24.695554",
     "status": "completed"
    },
    "tags": []
   },
   "source": [
    "Events CSVs"
   ]
  },
  {
   "cell_type": "code",
   "execution_count": 6,
   "id": "3d01aba2",
   "metadata": {
    "execution": {
     "iopub.execute_input": "2023-12-01T23:41:24.702479Z",
     "iopub.status.busy": "2023-12-01T23:41:24.702057Z",
     "iopub.status.idle": "2023-12-01T23:41:24.708341Z",
     "shell.execute_reply": "2023-12-01T23:41:24.707828Z"
    },
    "papermill": {
     "duration": 0.010075,
     "end_time": "2023-12-01T23:41:24.709613",
     "exception": false,
     "start_time": "2023-12-01T23:41:24.699538",
     "status": "completed"
    },
    "tags": []
   },
   "outputs": [],
   "source": [
    "pd.DataFrame({\n",
    "  'events': events.groupby('ward_code').event_unique_identifier.count(),\n",
    "  'attendances': events.groupby('ward_code').attendances.sum().astype(int),\n",
    "}).to_csv(os.path.join(OUTPUT_DIR, 'events_by_ward.csv'))\n"
   ]
  },
  {
   "cell_type": "code",
   "execution_count": 7,
   "id": "35043b22",
   "metadata": {
    "execution": {
     "iopub.execute_input": "2023-12-01T23:41:24.714615Z",
     "iopub.status.busy": "2023-12-01T23:41:24.714227Z",
     "iopub.status.idle": "2023-12-01T23:41:24.722358Z",
     "shell.execute_reply": "2023-12-01T23:41:24.721814Z"
    },
    "papermill": {
     "duration": 0.012093,
     "end_time": "2023-12-01T23:41:24.723681",
     "exception": false,
     "start_time": "2023-12-01T23:41:24.711588",
     "status": "completed"
    },
    "tags": []
   },
   "outputs": [],
   "source": [
    "pd.DataFrame({\n",
    "  'events': events.groupby('date').event_unique_identifier.count(),\n",
    "  'attendances': events.groupby('date').attendances.sum().astype(int),\n",
    "}).resample('M').sum().astype(int).to_csv(os.path.join(OUTPUT_DIR, 'events_by_date.csv'))"
   ]
  },
  {
   "cell_type": "markdown",
   "id": "425a55dc",
   "metadata": {
    "papermill": {
     "duration": 0.002857,
     "end_time": "2023-12-01T23:41:24.728526",
     "exception": false,
     "start_time": "2023-12-01T23:41:24.725669",
     "status": "completed"
    },
    "tags": []
   },
   "source": [
    "Tickets CSV"
   ]
  },
  {
   "cell_type": "code",
   "execution_count": 8,
   "id": "d7cc081d",
   "metadata": {
    "execution": {
     "iopub.execute_input": "2023-12-01T23:41:24.733651Z",
     "iopub.status.busy": "2023-12-01T23:41:24.733182Z",
     "iopub.status.idle": "2023-12-01T23:41:24.739461Z",
     "shell.execute_reply": "2023-12-01T23:41:24.738843Z"
    },
    "papermill": {
     "duration": 0.010203,
     "end_time": "2023-12-01T23:41:24.740713",
     "exception": false,
     "start_time": "2023-12-01T23:41:24.730510",
     "status": "completed"
    },
    "tags": []
   },
   "outputs": [],
   "source": [
    "pd.DataFrame({\n",
    "  'orders': tickets.groupby('ward_code').number_of_tickets.count(),\n",
    "  'tickets': tickets.groupby('ward_code').number_of_tickets.sum().astype(int),\n",
    "}).to_csv(os.path.join(OUTPUT_DIR, 'tickets_by_ward.csv'))"
   ]
  },
  {
   "cell_type": "code",
   "execution_count": 9,
   "id": "3d52b16b",
   "metadata": {
    "execution": {
     "iopub.execute_input": "2023-12-01T23:41:24.745966Z",
     "iopub.status.busy": "2023-12-01T23:41:24.745456Z",
     "iopub.status.idle": "2023-12-01T23:41:24.752521Z",
     "shell.execute_reply": "2023-12-01T23:41:24.751885Z"
    },
    "papermill": {
     "duration": 0.011237,
     "end_time": "2023-12-01T23:41:24.753972",
     "exception": false,
     "start_time": "2023-12-01T23:41:24.742735",
     "status": "completed"
    },
    "tags": []
   },
   "outputs": [],
   "source": [
    "pd.DataFrame({\n",
    "  'orders': tickets.groupby('event_date').number_of_tickets.count(),\n",
    "  'tickets': tickets.groupby('event_date').number_of_tickets.sum().astype(int),\n",
    "}).resample('M').sum().to_csv(os.path.join(OUTPUT_DIR, 'tickets_by_event_date.csv'))"
   ]
  },
  {
   "cell_type": "code",
   "execution_count": 10,
   "id": "582e9334",
   "metadata": {
    "execution": {
     "iopub.execute_input": "2023-12-01T23:41:24.759710Z",
     "iopub.status.busy": "2023-12-01T23:41:24.759488Z",
     "iopub.status.idle": "2023-12-01T23:41:24.764830Z",
     "shell.execute_reply": "2023-12-01T23:41:24.764215Z"
    },
    "papermill": {
     "duration": 0.009678,
     "end_time": "2023-12-01T23:41:24.766063",
     "exception": false,
     "start_time": "2023-12-01T23:41:24.756385",
     "status": "completed"
    },
    "tags": []
   },
   "outputs": [],
   "source": [
    "pd.Series({\n",
    "    'total_events': events.event_unique_identifier.count(),\n",
    "    'total_attendances': events.attendances.count(),\n",
    "    'first_event': events.date.min(),\n",
    "    'latest_event': events.date.max(),\n",
    "    'total_ticket_orders_for_events_to_date': tickets.number_of_tickets.count(),\n",
    "    'total_tickets_sold_for_events_to_date': tickets.number_of_tickets.sum(),\n",
    "}).to_json(os.path.join(OUTPUT_DIR, 'headlines.json'), indent=2)"
   ]
  },
  {
   "cell_type": "code",
   "execution_count": null,
   "id": "db179ed6",
   "metadata": {
    "papermill": {
     "duration": 0.00203,
     "end_time": "2023-12-01T23:41:24.770159",
     "exception": false,
     "start_time": "2023-12-01T23:41:24.768129",
     "status": "completed"
    },
    "tags": []
   },
   "outputs": [],
   "source": []
  }
 ],
 "metadata": {
  "kernelspec": {
   "display_name": "leeds-2023-YZF5GfJv",
   "language": "python",
   "name": "python3"
  },
  "language_info": {
   "codemirror_mode": {
    "name": "ipython",
    "version": 3
   },
   "file_extension": ".py",
   "mimetype": "text/x-python",
   "name": "python",
   "nbconvert_exporter": "python",
   "pygments_lexer": "ipython3",
   "version": "3.10.13"
  },
  "papermill": {
   "default_parameters": {},
   "duration": 9.196928,
   "end_time": "2023-12-01T23:41:25.088286",
   "environment_variables": {},
   "exception": null,
   "input_path": "prepare.ipynb",
   "output_path": "../../../../working/output/signature-prepare.ipynb",
   "parameters": {},
   "start_time": "2023-12-01T23:41:15.891358",
   "version": "2.4.0"
  }
 },
 "nbformat": 4,
 "nbformat_minor": 5
}