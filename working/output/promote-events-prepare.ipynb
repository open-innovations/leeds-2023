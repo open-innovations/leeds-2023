{
 "cells": [
  {
   "cell_type": "code",
   "execution_count": 1,
   "id": "f9166462",
   "metadata": {
    "execution": {
     "iopub.execute_input": "2023-08-24T23:39:30.890651Z",
     "iopub.status.busy": "2023-08-24T23:39:30.890035Z",
     "iopub.status.idle": "2023-08-24T23:39:31.133614Z",
     "shell.execute_reply": "2023-08-24T23:39:31.132836Z"
    },
    "papermill": {
     "duration": 0.249911,
     "end_time": "2023-08-24T23:39:31.135914",
     "exception": false,
     "start_time": "2023-08-24T23:39:30.886003",
     "status": "completed"
    },
    "tags": []
   },
   "outputs": [],
   "source": [
    "import os\n",
    "import pandas as pd"
   ]
  },
  {
   "cell_type": "code",
   "execution_count": 2,
   "id": "f52bb5dd",
   "metadata": {
    "execution": {
     "iopub.execute_input": "2023-08-24T23:39:31.141181Z",
     "iopub.status.busy": "2023-08-24T23:39:31.140594Z",
     "iopub.status.idle": "2023-08-24T23:39:31.144183Z",
     "shell.execute_reply": "2023-08-24T23:39:31.143510Z"
    },
    "papermill": {
     "duration": 0.007966,
     "end_time": "2023-08-24T23:39:31.145901",
     "exception": false,
     "start_time": "2023-08-24T23:39:31.137935",
     "status": "completed"
    },
    "tags": []
   },
   "outputs": [],
   "source": [
    "DATA_DIR='../../../docs/metrics/events/promote/_data/'\n",
    "os.makedirs(DATA_DIR, exist_ok=True)"
   ]
  },
  {
   "cell_type": "code",
   "execution_count": 3,
   "id": "d2c0adc8",
   "metadata": {
    "execution": {
     "iopub.execute_input": "2023-08-24T23:39:31.150507Z",
     "iopub.status.busy": "2023-08-24T23:39:31.150052Z",
     "iopub.status.idle": "2023-08-24T23:39:31.158961Z",
     "shell.execute_reply": "2023-08-24T23:39:31.158372Z"
    },
    "papermill": {
     "duration": 0.01295,
     "end_time": "2023-08-24T23:39:31.160489",
     "exception": false,
     "start_time": "2023-08-24T23:39:31.147539",
     "status": "completed"
    },
    "tags": []
   },
   "outputs": [],
   "source": [
    "data = pd.read_csv('../../../data/metrics/events/promote-events/events.csv', parse_dates=['time'])"
   ]
  },
  {
   "cell_type": "code",
   "execution_count": 4,
   "id": "53e6c716",
   "metadata": {
    "execution": {
     "iopub.execute_input": "2023-08-24T23:39:31.165210Z",
     "iopub.status.busy": "2023-08-24T23:39:31.164764Z",
     "iopub.status.idle": "2023-08-24T23:39:31.170062Z",
     "shell.execute_reply": "2023-08-24T23:39:31.169391Z"
    },
    "papermill": {
     "duration": 0.009415,
     "end_time": "2023-08-24T23:39:31.171588",
     "exception": false,
     "start_time": "2023-08-24T23:39:31.162173",
     "status": "completed"
    },
    "tags": []
   },
   "outputs": [],
   "source": [
    "pd.Series({\n",
    "    'total_events': len(data.id.unique()),\n",
    "    'total_event_instances': len(data.time),\n",
    "    'earliest_event': data.time.min(),\n",
    "    'latest_event': data.time.max(),\n",
    "}).to_json(\n",
    "    os.path.join(DATA_DIR, 'headlines.json'),\n",
    "    date_format='iso', indent=2\n",
    ")"
   ]
  },
  {
   "cell_type": "code",
   "execution_count": 5,
   "id": "cc7bfcbe",
   "metadata": {
    "execution": {
     "iopub.execute_input": "2023-08-24T23:39:31.176061Z",
     "iopub.status.busy": "2023-08-24T23:39:31.175649Z",
     "iopub.status.idle": "2023-08-24T23:39:31.183866Z",
     "shell.execute_reply": "2023-08-24T23:39:31.183301Z"
    },
    "papermill": {
     "duration": 0.012084,
     "end_time": "2023-08-24T23:39:31.185317",
     "exception": false,
     "start_time": "2023-08-24T23:39:31.173233",
     "status": "completed"
    },
    "tags": []
   },
   "outputs": [],
   "source": [
    "events = pd.DataFrame({\n",
    "    'events': data.groupby('id').agg({ 'time': 'min' }).reset_index().groupby('time').id.count(),\n",
    "    'event_instances': data.groupby('time').id.count(),\n",
    "}).fillna(0).astype(int)"
   ]
  },
  {
   "cell_type": "code",
   "execution_count": 6,
   "id": "17f7968f",
   "metadata": {
    "execution": {
     "iopub.execute_input": "2023-08-24T23:39:31.189921Z",
     "iopub.status.busy": "2023-08-24T23:39:31.189510Z",
     "iopub.status.idle": "2023-08-24T23:39:31.193024Z",
     "shell.execute_reply": "2023-08-24T23:39:31.192357Z"
    },
    "papermill": {
     "duration": 0.007596,
     "end_time": "2023-08-24T23:39:31.194620",
     "exception": false,
     "start_time": "2023-08-24T23:39:31.187024",
     "status": "completed"
    },
    "tags": []
   },
   "outputs": [],
   "source": [
    "def cumulate(data):\n",
    "    return pd.concat([\n",
    "        data,\n",
    "        data.cumsum().rename(columns=lambda c: f'cumulative_{c}')\n",
    "    ], axis=1)"
   ]
  },
  {
   "cell_type": "code",
   "execution_count": 7,
   "id": "73143af2",
   "metadata": {
    "execution": {
     "iopub.execute_input": "2023-08-24T23:39:31.199123Z",
     "iopub.status.busy": "2023-08-24T23:39:31.198776Z",
     "iopub.status.idle": "2023-08-24T23:39:31.209182Z",
     "shell.execute_reply": "2023-08-24T23:39:31.208109Z"
    },
    "papermill": {
     "duration": 0.014336,
     "end_time": "2023-08-24T23:39:31.210635",
     "exception": false,
     "start_time": "2023-08-24T23:39:31.196299",
     "status": "completed"
    },
    "tags": []
   },
   "outputs": [],
   "source": [
    "events.resample('W-FRI').sum().pipe(cumulate).to_csv(os.path.join(DATA_DIR, 'by_week.csv'))"
   ]
  },
  {
   "cell_type": "code",
   "execution_count": 8,
   "id": "6a2a098e",
   "metadata": {
    "execution": {
     "iopub.execute_input": "2023-08-24T23:39:31.215341Z",
     "iopub.status.busy": "2023-08-24T23:39:31.214948Z",
     "iopub.status.idle": "2023-08-24T23:39:31.220884Z",
     "shell.execute_reply": "2023-08-24T23:39:31.220245Z"
    },
    "papermill": {
     "duration": 0.009978,
     "end_time": "2023-08-24T23:39:31.222424",
     "exception": false,
     "start_time": "2023-08-24T23:39:31.212446",
     "status": "completed"
    },
    "tags": []
   },
   "outputs": [],
   "source": [
    "events.resample('MS').sum().pipe(cumulate).to_csv(os.path.join(DATA_DIR, 'by_month.csv'))"
   ]
  },
  {
   "cell_type": "code",
   "execution_count": null,
   "id": "0f7277d9",
   "metadata": {
    "papermill": {
     "duration": 0.00173,
     "end_time": "2023-08-24T23:39:31.225882",
     "exception": false,
     "start_time": "2023-08-24T23:39:31.224152",
     "status": "completed"
    },
    "tags": []
   },
   "outputs": [],
   "source": []
  }
 ],
 "metadata": {
  "kernelspec": {
   "display_name": "leeds-2023-YZF5GfJv",
   "language": "python",
   "name": "python3"
  },
  "language_info": {
   "codemirror_mode": {
    "name": "ipython",
    "version": 3
   },
   "file_extension": ".py",
   "mimetype": "text/x-python",
   "name": "python",
   "nbconvert_exporter": "python",
   "pygments_lexer": "ipython3",
   "version": "3.10.12"
  },
  "papermill": {
   "default_parameters": {},
   "duration": 1.950509,
   "end_time": "2023-08-24T23:39:31.444455",
   "environment_variables": {},
   "exception": null,
   "input_path": "prepare.ipynb",
   "output_path": "../../../working/output/promote-events-prepare.ipynb",
   "parameters": {},
   "start_time": "2023-08-24T23:39:29.493946",
   "version": "2.4.0"
  }
 },
 "nbformat": 4,
 "nbformat_minor": 5
}