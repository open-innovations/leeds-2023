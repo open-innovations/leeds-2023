{
 "cells": [
  {
   "cell_type": "code",
   "execution_count": 1,
   "id": "30777008",
   "metadata": {
    "execution": {
     "iopub.execute_input": "2023-12-13T23:41:08.129800Z",
     "iopub.status.busy": "2023-12-13T23:41:08.129507Z",
     "iopub.status.idle": "2023-12-13T23:41:08.370476Z",
     "shell.execute_reply": "2023-12-13T23:41:08.369748Z"
    },
    "papermill": {
     "duration": 0.245607,
     "end_time": "2023-12-13T23:41:08.372133",
     "exception": false,
     "start_time": "2023-12-13T23:41:08.126526",
     "status": "completed"
    },
    "tags": []
   },
   "outputs": [],
   "source": [
    "import os, sys\n",
    "TOP_DIR = os.path.realpath('../../..')\n",
    "if TOP_DIR not in sys.path: sys.path.append(TOP_DIR)\n",
    "import pandas as pd"
   ]
  },
  {
   "cell_type": "code",
   "execution_count": 2,
   "id": "2abb91e0",
   "metadata": {
    "execution": {
     "iopub.execute_input": "2023-12-13T23:41:08.376589Z",
     "iopub.status.busy": "2023-12-13T23:41:08.375997Z",
     "iopub.status.idle": "2023-12-13T23:41:08.380241Z",
     "shell.execute_reply": "2023-12-13T23:41:08.379621Z"
    },
    "papermill": {
     "duration": 0.007825,
     "end_time": "2023-12-13T23:41:08.381688",
     "exception": false,
     "start_time": "2023-12-13T23:41:08.373863",
     "status": "completed"
    },
    "tags": []
   },
   "outputs": [],
   "source": [
    "from lib.util.convert import named_cumulative_sum"
   ]
  },
  {
   "cell_type": "code",
   "execution_count": 3,
   "id": "79b4d311",
   "metadata": {
    "execution": {
     "iopub.execute_input": "2023-12-13T23:41:08.385363Z",
     "iopub.status.busy": "2023-12-13T23:41:08.385017Z",
     "iopub.status.idle": "2023-12-13T23:41:08.393072Z",
     "shell.execute_reply": "2023-12-13T23:41:08.392535Z"
    },
    "papermill": {
     "duration": 0.01131,
     "end_time": "2023-12-13T23:41:08.394372",
     "exception": false,
     "start_time": "2023-12-13T23:41:08.383062",
     "status": "completed"
    },
    "tags": []
   },
   "outputs": [],
   "source": [
    "data = pd.read_csv('../../../data/metrics/community/events.csv', parse_dates=['start_date'])\n",
    "data.ward_code = data.ward_code.fillna('UNKNOWN')"
   ]
  },
  {
   "cell_type": "markdown",
   "id": "032756e2",
   "metadata": {
    "papermill": {
     "duration": 0.001431,
     "end_time": "2023-12-13T23:41:08.397190",
     "exception": false,
     "start_time": "2023-12-13T23:41:08.395759",
     "status": "completed"
    },
    "tags": []
   },
   "source": [
    "Set up output directories"
   ]
  },
  {
   "cell_type": "code",
   "execution_count": 4,
   "id": "ded7a85f",
   "metadata": {
    "execution": {
     "iopub.execute_input": "2023-12-13T23:41:08.401179Z",
     "iopub.status.busy": "2023-12-13T23:41:08.400671Z",
     "iopub.status.idle": "2023-12-13T23:41:08.404018Z",
     "shell.execute_reply": "2023-12-13T23:41:08.403454Z"
    },
    "papermill": {
     "duration": 0.006779,
     "end_time": "2023-12-13T23:41:08.405389",
     "exception": false,
     "start_time": "2023-12-13T23:41:08.398610",
     "status": "completed"
    },
    "tags": []
   },
   "outputs": [],
   "source": [
    "OUT_DIR = '../../../docs/metrics/community/_data'\n",
    "os.makedirs(OUT_DIR, exist_ok=True)"
   ]
  },
  {
   "cell_type": "code",
   "execution_count": 5,
   "id": "03df6477",
   "metadata": {
    "execution": {
     "iopub.execute_input": "2023-12-13T23:41:08.409625Z",
     "iopub.status.busy": "2023-12-13T23:41:08.409156Z",
     "iopub.status.idle": "2023-12-13T23:41:08.415725Z",
     "shell.execute_reply": "2023-12-13T23:41:08.415120Z"
    },
    "papermill": {
     "duration": 0.010086,
     "end_time": "2023-12-13T23:41:08.417031",
     "exception": false,
     "start_time": "2023-12-13T23:41:08.406945",
     "status": "completed"
    },
    "tags": []
   },
   "outputs": [],
   "source": [
    "pd.Series({\n",
    "  'events': data.event_name.count(),\n",
    "  'audience': data.audience.sum().astype(int),\n",
    "  'errors': {\n",
    "    'missing_wards': (data.ward_code == 'UNKNOWN').value_counts()[True],\n",
    "    'missing_audience': data.audience.isna().value_counts()[True],\n",
    "    'zero_audience':  (data.audience < 1).value_counts()[True],  \n",
    "  }\n",
    "}).to_json(os.path.join(OUT_DIR, 'headlines.json'), indent=2)"
   ]
  },
  {
   "cell_type": "code",
   "execution_count": 6,
   "id": "ee37808b",
   "metadata": {
    "execution": {
     "iopub.execute_input": "2023-12-13T23:41:08.421024Z",
     "iopub.status.busy": "2023-12-13T23:41:08.420627Z",
     "iopub.status.idle": "2023-12-13T23:41:08.427279Z",
     "shell.execute_reply": "2023-12-13T23:41:08.426666Z"
    },
    "papermill": {
     "duration": 0.010267,
     "end_time": "2023-12-13T23:41:08.428769",
     "exception": false,
     "start_time": "2023-12-13T23:41:08.418502",
     "status": "completed"
    },
    "tags": []
   },
   "outputs": [],
   "source": [
    "by_ward = pd.DataFrame({\n",
    "  'events': data.groupby('ward_code').event_name.count().fillna(0).astype('int'),\n",
    "  'audience': data.groupby('ward_code').audience.sum().fillna(0).astype('int'),\n",
    "}).to_csv(os.path.join(OUT_DIR, 'by_ward.csv'))"
   ]
  },
  {
   "cell_type": "code",
   "execution_count": 7,
   "id": "528484ff",
   "metadata": {
    "execution": {
     "iopub.execute_input": "2023-12-13T23:41:08.432753Z",
     "iopub.status.busy": "2023-12-13T23:41:08.432429Z",
     "iopub.status.idle": "2023-12-13T23:41:08.441855Z",
     "shell.execute_reply": "2023-12-13T23:41:08.441228Z"
    },
    "papermill": {
     "duration": 0.012789,
     "end_time": "2023-12-13T23:41:08.443073",
     "exception": false,
     "start_time": "2023-12-13T23:41:08.430284",
     "status": "completed"
    },
    "tags": []
   },
   "outputs": [],
   "source": [
    "by_date = pd.DataFrame({\n",
    "    'events': data.groupby('start_date').event_name.count(),\n",
    "    'audience': data.groupby('start_date').audience.sum(),\n",
    "}).resample('M').sum()\n",
    "\n",
    "pd.concat([\n",
    "    by_date,\n",
    "    by_date.pipe(named_cumulative_sum)\n",
    "], axis=1).astype('int').to_csv(os.path.join(OUT_DIR, 'by_date.csv'))"
   ]
  }
 ],
 "metadata": {
  "kernelspec": {
   "display_name": "leeds-2023-YZF5GfJv",
   "language": "python",
   "name": "python3"
  },
  "language_info": {
   "codemirror_mode": {
    "name": "ipython",
    "version": 3
   },
   "file_extension": ".py",
   "mimetype": "text/x-python",
   "name": "python",
   "nbconvert_exporter": "python",
   "pygments_lexer": "ipython3",
   "version": "3.10.13"
  },
  "papermill": {
   "default_parameters": {},
   "duration": 1.76923,
   "end_time": "2023-12-13T23:41:08.661857",
   "environment_variables": {},
   "exception": null,
   "input_path": "prepare.ipynb",
   "output_path": "../../../working/output/community-prepare.ipynb",
   "parameters": {},
   "start_time": "2023-12-13T23:41:06.892627",
   "version": "2.4.0"
  }
 },
 "nbformat": 4,
 "nbformat_minor": 5
}