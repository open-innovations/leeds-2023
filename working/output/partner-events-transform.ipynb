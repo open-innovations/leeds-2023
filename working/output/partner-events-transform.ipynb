{
 "cells": [
  {
   "cell_type": "code",
   "execution_count": 1,
   "id": "21509daf",
   "metadata": {
    "execution": {
     "iopub.execute_input": "2023-10-04T23:38:35.669798Z",
     "iopub.status.busy": "2023-10-04T23:38:35.669056Z",
     "iopub.status.idle": "2023-10-04T23:38:35.993160Z",
     "shell.execute_reply": "2023-10-04T23:38:35.992119Z"
    },
    "papermill": {
     "duration": 0.332527,
     "end_time": "2023-10-04T23:38:35.995899",
     "exception": false,
     "start_time": "2023-10-04T23:38:35.663372",
     "status": "completed"
    },
    "tags": []
   },
   "outputs": [],
   "source": [
    "import os\n",
    "import sys\n",
    "import pandas as pd\n",
    "lib_dir = os.path.realpath('../../../lib/')\n",
    "if lib_dir not in sys.path: sys.path.append(lib_dir)"
   ]
  },
  {
   "cell_type": "code",
   "execution_count": 2,
   "id": "bbc45579",
   "metadata": {
    "execution": {
     "iopub.execute_input": "2023-10-04T23:38:36.004308Z",
     "iopub.status.busy": "2023-10-04T23:38:36.003335Z",
     "iopub.status.idle": "2023-10-04T23:38:48.209594Z",
     "shell.execute_reply": "2023-10-04T23:38:48.208618Z"
    },
    "papermill": {
     "duration": 12.213215,
     "end_time": "2023-10-04T23:38:48.212744",
     "exception": false,
     "start_time": "2023-10-04T23:38:35.999529",
     "status": "completed"
    },
    "tags": []
   },
   "outputs": [],
   "source": [
    "import util.geo"
   ]
  },
  {
   "cell_type": "code",
   "execution_count": 3,
   "id": "643868b5",
   "metadata": {
    "execution": {
     "iopub.execute_input": "2023-10-04T23:38:48.222468Z",
     "iopub.status.busy": "2023-10-04T23:38:48.221748Z",
     "iopub.status.idle": "2023-10-04T23:38:48.227041Z",
     "shell.execute_reply": "2023-10-04T23:38:48.226021Z"
    },
    "papermill": {
     "duration": 0.012024,
     "end_time": "2023-10-04T23:38:48.228987",
     "exception": false,
     "start_time": "2023-10-04T23:38:48.216963",
     "status": "completed"
    },
    "tags": []
   },
   "outputs": [],
   "source": [
    "EVENTS_RAW_DATA = '../../../working/metrics/partner-events/events.csv'\n",
    "DATA_DIR = '../../../data/metrics/events/partner-events/'\n",
    "EVENTS_DATA = os.path.join(DATA_DIR, 'events.csv')"
   ]
  },
  {
   "cell_type": "code",
   "execution_count": 4,
   "id": "a53b2a1f",
   "metadata": {
    "execution": {
     "iopub.execute_input": "2023-10-04T23:38:48.237914Z",
     "iopub.status.busy": "2023-10-04T23:38:48.236618Z",
     "iopub.status.idle": "2023-10-04T23:38:48.242395Z",
     "shell.execute_reply": "2023-10-04T23:38:48.241437Z"
    },
    "papermill": {
     "duration": 0.011634,
     "end_time": "2023-10-04T23:38:48.244170",
     "exception": false,
     "start_time": "2023-10-04T23:38:48.232536",
     "status": "completed"
    },
    "tags": []
   },
   "outputs": [],
   "source": [
    "columns = {\n",
    "    'Event Name': 'name',\n",
    "    'Event Start Date': 'start_date',\n",
    "    'Event End Date': 'end_date',\n",
    "    'Partner/Promote': 'partner_promote',\n",
    "    'Stage': 'stage',\n",
    "    'Live date': 'live_date',\n",
    "    'Venue postcode': 'postcode',\n",
    "    'Pricing Policy': 'pricing',\n",
    "    'Venue - including address': 'venue',\n",
    "    'Is this event on Leeds Inspried?': 'on_leeds_inspired',\n",
    "}"
   ]
  },
  {
   "cell_type": "markdown",
   "id": "70500b79",
   "metadata": {
    "papermill": {
     "duration": 0.003215,
     "end_time": "2023-10-04T23:38:48.250292",
     "exception": false,
     "start_time": "2023-10-04T23:38:48.247077",
     "status": "completed"
    },
    "tags": []
   },
   "source": [
    "Load the data and rename columns. Parse the dates to dates."
   ]
  },
  {
   "cell_type": "code",
   "execution_count": 5,
   "id": "648a00ad",
   "metadata": {
    "execution": {
     "iopub.execute_input": "2023-10-04T23:38:48.257904Z",
     "iopub.status.busy": "2023-10-04T23:38:48.257542Z",
     "iopub.status.idle": "2023-10-04T23:38:48.271807Z",
     "shell.execute_reply": "2023-10-04T23:38:48.270813Z"
    },
    "papermill": {
     "duration": 0.020504,
     "end_time": "2023-10-04T23:38:48.273849",
     "exception": false,
     "start_time": "2023-10-04T23:38:48.253345",
     "status": "completed"
    },
    "tags": []
   },
   "outputs": [],
   "source": [
    "data = pd.read_csv(EVENTS_RAW_DATA)[columns.keys()].rename(columns=columns)\n",
    "data.start_date = pd.to_datetime(data.start_date, errors='coerce')\n",
    "data.end_date = pd.to_datetime(data.end_date, errors='coerce')"
   ]
  },
  {
   "cell_type": "markdown",
   "id": "2aca3cc5",
   "metadata": {
    "papermill": {
     "duration": 0.002974,
     "end_time": "2023-10-04T23:38:48.280085",
     "exception": false,
     "start_time": "2023-10-04T23:38:48.277111",
     "status": "completed"
    },
    "tags": []
   },
   "source": [
    "Filter data by not LI Pull through and start date before now"
   ]
  },
  {
   "cell_type": "code",
   "execution_count": 6,
   "id": "e33bcbeb",
   "metadata": {
    "execution": {
     "iopub.execute_input": "2023-10-04T23:38:48.289382Z",
     "iopub.status.busy": "2023-10-04T23:38:48.287973Z",
     "iopub.status.idle": "2023-10-04T23:38:48.297431Z",
     "shell.execute_reply": "2023-10-04T23:38:48.296454Z"
    },
    "papermill": {
     "duration": 0.015834,
     "end_time": "2023-10-04T23:38:48.299715",
     "exception": false,
     "start_time": "2023-10-04T23:38:48.283881",
     "status": "completed"
    },
    "tags": []
   },
   "outputs": [],
   "source": [
    "data = data[\n",
    "    # (data.live_date == 'This event is live ') &\n",
    "    ((data.stage != 'LI pull through') & data.stage.notna()) &\n",
    "    (data.start_date < pd.Timestamp.now())\n",
    "]"
   ]
  },
  {
   "cell_type": "code",
   "execution_count": 7,
   "id": "8ffb6e0e",
   "metadata": {
    "execution": {
     "iopub.execute_input": "2023-10-04T23:38:48.307884Z",
     "iopub.status.busy": "2023-10-04T23:38:48.307406Z",
     "iopub.status.idle": "2023-10-04T23:38:49.973203Z",
     "shell.execute_reply": "2023-10-04T23:38:49.972194Z"
    },
    "papermill": {
     "duration": 1.672928,
     "end_time": "2023-10-04T23:38:49.975957",
     "exception": false,
     "start_time": "2023-10-04T23:38:48.303029",
     "status": "completed"
    },
    "tags": []
   },
   "outputs": [],
   "source": [
    "data['ward_code'] = data.postcode.pipe(util.geo.postcode_formatter).map(util.geo.postcode_to_ward_code)\n",
    "data['ward_name'] = data.ward_code.pipe(util.geo.ward_code_to_name)"
   ]
  },
  {
   "cell_type": "markdown",
   "id": "963dd1dc",
   "metadata": {
    "papermill": {
     "duration": 0.004444,
     "end_time": "2023-10-04T23:38:49.984316",
     "exception": false,
     "start_time": "2023-10-04T23:38:49.979872",
     "status": "completed"
    },
    "tags": []
   },
   "source": [
    "Save the file"
   ]
  },
  {
   "cell_type": "code",
   "execution_count": 8,
   "id": "cd45a2b0",
   "metadata": {
    "execution": {
     "iopub.execute_input": "2023-10-04T23:38:49.997371Z",
     "iopub.status.busy": "2023-10-04T23:38:49.996962Z",
     "iopub.status.idle": "2023-10-04T23:38:50.005476Z",
     "shell.execute_reply": "2023-10-04T23:38:50.004550Z"
    },
    "papermill": {
     "duration": 0.018476,
     "end_time": "2023-10-04T23:38:50.007667",
     "exception": false,
     "start_time": "2023-10-04T23:38:49.989191",
     "status": "completed"
    },
    "tags": []
   },
   "outputs": [],
   "source": [
    "data[\n",
    "    ['name','start_date','end_date','ward_code']\n",
    "].to_csv(EVENTS_DATA, index=False)"
   ]
  },
  {
   "cell_type": "markdown",
   "id": "a7ba947a",
   "metadata": {
    "papermill": {
     "duration": 0.003341,
     "end_time": "2023-10-04T23:38:50.014245",
     "exception": false,
     "start_time": "2023-10-04T23:38:50.010904",
     "status": "completed"
    },
    "tags": []
   },
   "source": [
    "Print out missing postcode data"
   ]
  },
  {
   "cell_type": "code",
   "execution_count": 9,
   "id": "ab64f212",
   "metadata": {
    "execution": {
     "iopub.execute_input": "2023-10-04T23:38:50.022566Z",
     "iopub.status.busy": "2023-10-04T23:38:50.022282Z",
     "iopub.status.idle": "2023-10-04T23:38:50.039621Z",
     "shell.execute_reply": "2023-10-04T23:38:50.038718Z"
    },
    "papermill": {
     "duration": 0.023681,
     "end_time": "2023-10-04T23:38:50.042105",
     "exception": false,
     "start_time": "2023-10-04T23:38:50.018424",
     "status": "completed"
    },
    "tags": []
   },
   "outputs": [
    {
     "data": {
      "text/html": [
       "<div>\n",
       "<style scoped>\n",
       "    .dataframe tbody tr th:only-of-type {\n",
       "        vertical-align: middle;\n",
       "    }\n",
       "\n",
       "    .dataframe tbody tr th {\n",
       "        vertical-align: top;\n",
       "    }\n",
       "\n",
       "    .dataframe thead th {\n",
       "        text-align: right;\n",
       "    }\n",
       "</style>\n",
       "<table border=\"1\" class=\"dataframe\">\n",
       "  <thead>\n",
       "    <tr style=\"text-align: right;\">\n",
       "      <th></th>\n",
       "      <th>name</th>\n",
       "      <th>start_date</th>\n",
       "    </tr>\n",
       "  </thead>\n",
       "  <tbody>\n",
       "    <tr>\n",
       "      <th>1</th>\n",
       "      <td>East Street Arts, A City Less Grey 2022</td>\n",
       "      <td>2022-10-08</td>\n",
       "    </tr>\n",
       "    <tr>\n",
       "      <th>3</th>\n",
       "      <td>Phoenix Dance Theatre Virtual Gallery</td>\n",
       "      <td>2023-01-01</td>\n",
       "    </tr>\n",
       "    <tr>\n",
       "      <th>4</th>\n",
       "      <td>The Big Art Giveaway, School of Creative Arts ...</td>\n",
       "      <td>2023-01-01</td>\n",
       "    </tr>\n",
       "    <tr>\n",
       "      <th>5</th>\n",
       "      <td>Embassy of Netherlands, Meet Leeds Lab</td>\n",
       "      <td>2023-01-16</td>\n",
       "    </tr>\n",
       "    <tr>\n",
       "      <th>6</th>\n",
       "      <td>Shifting Borders: A Journey to the Centre of o...</td>\n",
       "      <td>2023-01-24</td>\n",
       "    </tr>\n",
       "    <tr>\n",
       "      <th>...</th>\n",
       "      <td>...</td>\n",
       "      <td>...</td>\n",
       "    </tr>\n",
       "    <tr>\n",
       "      <th>186</th>\n",
       "      <td>The Ida Network: Leeds meet-up</td>\n",
       "      <td>2023-09-11</td>\n",
       "    </tr>\n",
       "    <tr>\n",
       "      <th>191</th>\n",
       "      <td>Civic Skateboarding</td>\n",
       "      <td>2023-09-16</td>\n",
       "    </tr>\n",
       "    <tr>\n",
       "      <th>195</th>\n",
       "      <td>Jazz at HEART: Sam Newbould Quintet (UK tour)</td>\n",
       "      <td>2023-09-20</td>\n",
       "    </tr>\n",
       "    <tr>\n",
       "      <th>196</th>\n",
       "      <td>On Wednesdays We Wear Queer: Drag Night Extrav...</td>\n",
       "      <td>2023-09-20</td>\n",
       "    </tr>\n",
       "    <tr>\n",
       "      <th>205</th>\n",
       "      <td>Neville Street Artwork</td>\n",
       "      <td>2023-10-01</td>\n",
       "    </tr>\n",
       "  </tbody>\n",
       "</table>\n",
       "<p>63 rows × 2 columns</p>\n",
       "</div>"
      ],
      "text/plain": [
       "                                                  name start_date\n",
       "1              East Street Arts, A City Less Grey 2022 2022-10-08\n",
       "3                Phoenix Dance Theatre Virtual Gallery 2023-01-01\n",
       "4    The Big Art Giveaway, School of Creative Arts ... 2023-01-01\n",
       "5               Embassy of Netherlands, Meet Leeds Lab 2023-01-16\n",
       "6    Shifting Borders: A Journey to the Centre of o... 2023-01-24\n",
       "..                                                 ...        ...\n",
       "186                     The Ida Network: Leeds meet-up 2023-09-11\n",
       "191                                Civic Skateboarding 2023-09-16\n",
       "195      Jazz at HEART: Sam Newbould Quintet (UK tour) 2023-09-20\n",
       "196  On Wednesdays We Wear Queer: Drag Night Extrav... 2023-09-20\n",
       "205                             Neville Street Artwork 2023-10-01\n",
       "\n",
       "[63 rows x 2 columns]"
      ]
     },
     "execution_count": 9,
     "metadata": {},
     "output_type": "execute_result"
    }
   ],
   "source": [
    "data[data.postcode.isna()][[\n",
    "    'name', 'start_date'\n",
    "]]"
   ]
  },
  {
   "cell_type": "markdown",
   "id": "e4a0209b",
   "metadata": {
    "papermill": {
     "duration": 0.00367,
     "end_time": "2023-10-04T23:38:50.049212",
     "exception": false,
     "start_time": "2023-10-04T23:38:50.045542",
     "status": "completed"
    },
    "tags": []
   },
   "source": [
    "Plot the pricing"
   ]
  },
  {
   "cell_type": "code",
   "execution_count": 10,
   "id": "69eb3d6b",
   "metadata": {
    "execution": {
     "iopub.execute_input": "2023-10-04T23:38:50.058414Z",
     "iopub.status.busy": "2023-10-04T23:38:50.057613Z",
     "iopub.status.idle": "2023-10-04T23:38:50.752835Z",
     "shell.execute_reply": "2023-10-04T23:38:50.751872Z"
    },
    "papermill": {
     "duration": 0.702584,
     "end_time": "2023-10-04T23:38:50.755162",
     "exception": false,
     "start_time": "2023-10-04T23:38:50.052578",
     "status": "completed"
    },
    "tags": []
   },
   "outputs": [
    {
     "data": {
      "image/png": "[encoded data removed]",
      "text/plain": [
       "<Figure size 640x480 with 1 Axes>"
      ]
     },
     "metadata": {},
     "output_type": "display_data"
    }
   ],
   "source": [
    "# .groupby('pricing').count().plot.barh()\n",
    "pricing = data.pricing.fillna('Unspecified').str.replace('[\\[\\'\\]]', '', regex=True).to_frame().reset_index().groupby('pricing').count()\n",
    "\n",
    "pricing.columns = ['count']\n",
    "plot = pricing.plot.barh()\n"
   ]
  },
  {
   "cell_type": "code",
   "execution_count": null,
   "id": "0c1c169b",
   "metadata": {
    "papermill": {
     "duration": 0.004212,
     "end_time": "2023-10-04T23:38:50.764131",
     "exception": false,
     "start_time": "2023-10-04T23:38:50.759919",
     "status": "completed"
    },
    "tags": []
   },
   "outputs": [],
   "source": []
  }
 ],
 "metadata": {
  "kernelspec": {
   "display_name": "leeds-2023-YZF5GfJv",
   "language": "python",
   "name": "python3"
  },
  "language_info": {
   "codemirror_mode": {
    "name": "ipython",
    "version": 3
   },
   "file_extension": ".py",
   "mimetype": "text/x-python",
   "name": "python",
   "nbconvert_exporter": "python",
   "pygments_lexer": "ipython3",
   "version": "3.10.13"
  },
  "papermill": {
   "default_parameters": {},
   "duration": 17.471339,
   "end_time": "2023-10-04T23:38:51.288050",
   "environment_variables": {},
   "exception": null,
   "input_path": "transform.ipynb",
   "output_path": "../../../working/output/partner-events-transform.ipynb",
   "parameters": {},
   "start_time": "2023-10-04T23:38:33.816711",
   "version": "2.4.0"
  }
 },
 "nbformat": 4,
 "nbformat_minor": 5
}