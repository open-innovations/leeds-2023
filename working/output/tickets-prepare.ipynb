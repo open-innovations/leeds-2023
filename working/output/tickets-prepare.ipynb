{
 "cells": [
  {
   "cell_type": "code",
   "execution_count": 1,
   "id": "4a9308d6",
   "metadata": {
    "execution": {
     "iopub.execute_input": "2023-12-20T19:13:29.203336Z",
     "iopub.status.busy": "2023-12-20T19:13:29.203124Z",
     "iopub.status.idle": "2023-12-20T19:13:29.396635Z",
     "shell.execute_reply": "2023-12-20T19:13:29.395047Z"
    },
    "papermill": {
     "duration": 0.198281,
     "end_time": "2023-12-20T19:13:29.398210",
     "exception": false,
     "start_time": "2023-12-20T19:13:29.199929",
     "status": "completed"
    },
    "tags": []
   },
   "outputs": [],
   "source": [
    "from pathlib import Path\n",
    "import pandas as pd"
   ]
  },
  {
   "cell_type": "markdown",
   "id": "3946947d",
   "metadata": {
    "papermill": {
     "duration": 0.001365,
     "end_time": "2023-12-20T19:13:29.401535",
     "exception": false,
     "start_time": "2023-12-20T19:13:29.400170",
     "status": "completed"
    },
    "tags": []
   },
   "source": [
    "Load the orders data which was created in the [transform stage](./tickets.ipynb)."
   ]
  },
  {
   "cell_type": "code",
   "execution_count": 2,
   "id": "e60657c0",
   "metadata": {
    "execution": {
     "iopub.execute_input": "2023-12-20T19:13:29.404806Z",
     "iopub.status.busy": "2023-12-20T19:13:29.404548Z",
     "iopub.status.idle": "2023-12-20T19:13:29.416764Z",
     "shell.execute_reply": "2023-12-20T19:13:29.416360Z"
    },
    "papermill": {
     "duration": 0.015569,
     "end_time": "2023-12-20T19:13:29.418270",
     "exception": false,
     "start_time": "2023-12-20T19:13:29.402701",
     "status": "completed"
    },
    "tags": []
   },
   "outputs": [],
   "source": [
    "def prepare(data: pd.DataFrame) -> pd.DataFrame:\n",
    "    data = data.loc[\n",
    "        (\n",
    "            data.public_event == True\n",
    "        ) & (\n",
    "            ~data.project_name.isin([\n",
    "                'Skills Development',\n",
    "            ])\n",
    "        )\n",
    "    ]\n",
    "    data = data.drop(columns=['public_event'])\n",
    "    return data\n",
    "\n",
    "\n",
    "orders = pd.read_csv(\n",
    "    '../../../../data/metrics/events/tickets/orders.csv',\n",
    "    usecols=[\n",
    "        'created_at',\n",
    "        'project_name',\n",
    "        'public_event',\n",
    "        'number_of_tickets'\n",
    "    ],\n",
    "    parse_dates=['created_at']\n",
    ").pipe(prepare)"
   ]
  },
  {
   "cell_type": "markdown",
   "id": "fa9d1f50",
   "metadata": {
    "papermill": {
     "duration": 0.001355,
     "end_time": "2023-12-20T19:13:29.421257",
     "exception": false,
     "start_time": "2023-12-20T19:13:29.419902",
     "status": "completed"
    },
    "tags": []
   },
   "source": [
    "Define functions to count and sum tickets, and to append cumulative versions of those."
   ]
  },
  {
   "cell_type": "code",
   "execution_count": 3,
   "id": "b1046c85",
   "metadata": {
    "execution": {
     "iopub.execute_input": "2023-12-20T19:13:29.424754Z",
     "iopub.status.busy": "2023-12-20T19:13:29.424540Z",
     "iopub.status.idle": "2023-12-20T19:13:29.427181Z",
     "shell.execute_reply": "2023-12-20T19:13:29.426831Z"
    },
    "papermill": {
     "duration": 0.005457,
     "end_time": "2023-12-20T19:13:29.427892",
     "exception": false,
     "start_time": "2023-12-20T19:13:29.422435",
     "status": "completed"
    },
    "tags": []
   },
   "outputs": [],
   "source": [
    "def count_and_sum(series):\n",
    "    return pd.concat([\n",
    "        series.count().to_frame('orders'),\n",
    "        series.sum().to_frame('tickets'),\n",
    "    ], axis=1)\n",
    "\n",
    "\n",
    "def cumulate(df: pd.DataFrame) -> pd.DataFrame:\n",
    "    return pd.concat([\n",
    "        df,\n",
    "        df.cumsum().rename(columns=lambda x: f'cumulative_{x}')\n",
    "    ], axis=1)"
   ]
  },
  {
   "cell_type": "markdown",
   "id": "d3b29255",
   "metadata": {
    "papermill": {
     "duration": 0.001155,
     "end_time": "2023-12-20T19:13:29.430331",
     "exception": false,
     "start_time": "2023-12-20T19:13:29.429176",
     "status": "completed"
    },
    "tags": []
   },
   "source": [
    "Create output directory"
   ]
  },
  {
   "cell_type": "code",
   "execution_count": 4,
   "id": "a53af79e",
   "metadata": {
    "execution": {
     "iopub.execute_input": "2023-12-20T19:13:29.433389Z",
     "iopub.status.busy": "2023-12-20T19:13:29.433227Z",
     "iopub.status.idle": "2023-12-20T19:13:29.435589Z",
     "shell.execute_reply": "2023-12-20T19:13:29.435230Z"
    },
    "papermill": {
     "duration": 0.004819,
     "end_time": "2023-12-20T19:13:29.436283",
     "exception": false,
     "start_time": "2023-12-20T19:13:29.431464",
     "status": "completed"
    },
    "tags": []
   },
   "outputs": [],
   "source": [
    "OUTPUT_DIR = Path('../../../../docs/metrics/tickets/_data/')\n",
    "OUTPUT_DIR.mkdir(parents=True, exist_ok=True)"
   ]
  },
  {
   "cell_type": "markdown",
   "id": "be97192d",
   "metadata": {
    "papermill": {
     "duration": 0.001204,
     "end_time": "2023-12-20T19:13:29.438727",
     "exception": false,
     "start_time": "2023-12-20T19:13:29.437523",
     "status": "completed"
    },
    "tags": []
   },
   "source": [
    "Count / sum the orders and tickets by project code and save to a JSON file"
   ]
  },
  {
   "cell_type": "code",
   "execution_count": 5,
   "id": "0f06e614",
   "metadata": {
    "execution": {
     "iopub.execute_input": "2023-12-20T19:13:29.441863Z",
     "iopub.status.busy": "2023-12-20T19:13:29.441712Z",
     "iopub.status.idle": "2023-12-20T19:13:29.446457Z",
     "shell.execute_reply": "2023-12-20T19:13:29.446064Z"
    },
    "papermill": {
     "duration": 0.007486,
     "end_time": "2023-12-20T19:13:29.447429",
     "exception": false,
     "start_time": "2023-12-20T19:13:29.439943",
     "status": "completed"
    },
    "tags": []
   },
   "outputs": [],
   "source": [
    "by_project = orders.groupby('project_name').number_of_tickets.pipe(count_and_sum)\n",
    "by_project.loc['total']= by_project.sum()\n",
    "by_project.T.to_json(\n",
    "  OUTPUT_DIR.joinpath('headlines.json'),\n",
    "  indent=2\n",
    ")"
   ]
  },
  {
   "cell_type": "markdown",
   "id": "345a3bd7",
   "metadata": {
    "papermill": {
     "duration": 0.001211,
     "end_time": "2023-12-20T19:13:29.449941",
     "exception": false,
     "start_time": "2023-12-20T19:13:29.448730",
     "status": "completed"
    },
    "tags": []
   },
   "source": [
    "Add `week` and `month` columns"
   ]
  },
  {
   "cell_type": "code",
   "execution_count": 6,
   "id": "a176b1a8",
   "metadata": {
    "execution": {
     "iopub.execute_input": "2023-12-20T19:13:29.454027Z",
     "iopub.status.busy": "2023-12-20T19:13:29.453789Z",
     "iopub.status.idle": "2023-12-20T19:13:29.458317Z",
     "shell.execute_reply": "2023-12-20T19:13:29.457955Z"
    },
    "papermill": {
     "duration": 0.00754,
     "end_time": "2023-12-20T19:13:29.459134",
     "exception": false,
     "start_time": "2023-12-20T19:13:29.451594",
     "status": "completed"
    },
    "tags": []
   },
   "outputs": [],
   "source": [
    "orders['week'] = orders.created_at.dt.to_period('W-FRI').dt.to_timestamp()\n",
    "orders['month'] = orders.created_at.dt.to_period('M').dt.to_timestamp()"
   ]
  },
  {
   "cell_type": "markdown",
   "id": "69433565",
   "metadata": {
    "papermill": {
     "duration": 0.001229,
     "end_time": "2023-12-20T19:13:29.461738",
     "exception": false,
     "start_time": "2023-12-20T19:13:29.460509",
     "status": "completed"
    },
    "tags": []
   },
   "source": [
    "Save table cumulative weekly per project"
   ]
  },
  {
   "cell_type": "code",
   "execution_count": 7,
   "id": "13fa7918",
   "metadata": {
    "execution": {
     "iopub.execute_input": "2023-12-20T19:13:29.465324Z",
     "iopub.status.busy": "2023-12-20T19:13:29.465084Z",
     "iopub.status.idle": "2023-12-20T19:13:29.470751Z",
     "shell.execute_reply": "2023-12-20T19:13:29.470431Z"
    },
    "papermill": {
     "duration": 0.008521,
     "end_time": "2023-12-20T19:13:29.471582",
     "exception": false,
     "start_time": "2023-12-20T19:13:29.463061",
     "status": "completed"
    },
    "tags": []
   },
   "outputs": [],
   "source": [
    "orders.groupby(\n",
    "  ['week', 'project_name']\n",
    ").number_of_tickets.pipe(\n",
    "  count_and_sum\n",
    ").tickets.unstack().fillna(0).cumsum().to_csv(\n",
    "  OUTPUT_DIR.joinpath('by_project_cumulative_weekly.csv')\n",
    ")"
   ]
  },
  {
   "cell_type": "markdown",
   "id": "0682d810",
   "metadata": {
    "papermill": {
     "duration": 0.001757,
     "end_time": "2023-12-20T19:13:29.475041",
     "exception": false,
     "start_time": "2023-12-20T19:13:29.473284",
     "status": "completed"
    },
    "tags": []
   },
   "source": [
    "Save cumulative monthly sales"
   ]
  },
  {
   "cell_type": "code",
   "execution_count": 8,
   "id": "76bdd59d",
   "metadata": {
    "execution": {
     "iopub.execute_input": "2023-12-20T19:13:29.479052Z",
     "iopub.status.busy": "2023-12-20T19:13:29.478900Z",
     "iopub.status.idle": "2023-12-20T19:13:29.483055Z",
     "shell.execute_reply": "2023-12-20T19:13:29.482729Z"
    },
    "papermill": {
     "duration": 0.007151,
     "end_time": "2023-12-20T19:13:29.483855",
     "exception": false,
     "start_time": "2023-12-20T19:13:29.476704",
     "status": "completed"
    },
    "tags": []
   },
   "outputs": [],
   "source": [
    "orders.groupby(['month']).number_of_tickets.pipe(count_and_sum).pipe(cumulate).to_csv(\n",
    "  OUTPUT_DIR.joinpath('monthly_cumulative.csv')\n",
    ")"
   ]
  }
 ],
 "metadata": {
  "kernelspec": {
   "display_name": "leeds-2023-YZF5GfJv",
   "language": "python",
   "name": "python3"
  },
  "language_info": {
   "codemirror_mode": {
    "name": "ipython",
    "version": 3
   },
   "file_extension": ".py",
   "mimetype": "text/x-python",
   "name": "python",
   "nbconvert_exporter": "python",
   "pygments_lexer": "ipython3",
   "version": "3.10.12"
  },
  "papermill": {
   "default_parameters": {},
   "duration": 1.2168,
   "end_time": "2023-12-20T19:13:29.700102",
   "environment_variables": {},
   "exception": null,
   "input_path": "prepare.ipynb",
   "output_path": "../../../../working/output/tickets-prepare.ipynb",
   "parameters": {},
   "start_time": "2023-12-20T19:13:28.483302",
   "version": "2.4.0"
  }
 },
 "nbformat": 4,
 "nbformat_minor": 5
}