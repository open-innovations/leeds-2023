{
 "cells": [
  {
   "cell_type": "code",
   "execution_count": 1,
   "id": "1730e730",
   "metadata": {
    "execution": {
     "iopub.execute_input": "2023-08-13T23:36:51.410884Z",
     "iopub.status.busy": "2023-08-13T23:36:51.410401Z",
     "iopub.status.idle": "2023-08-13T23:36:51.654118Z",
     "shell.execute_reply": "2023-08-13T23:36:51.653418Z"
    },
    "papermill": {
     "duration": 0.250075,
     "end_time": "2023-08-13T23:36:51.656420",
     "exception": false,
     "start_time": "2023-08-13T23:36:51.406345",
     "status": "completed"
    },
    "tags": []
   },
   "outputs": [],
   "source": [
    "import os\n",
    "import pandas as pd"
   ]
  },
  {
   "cell_type": "code",
   "execution_count": 2,
   "id": "f61f27b9",
   "metadata": {
    "execution": {
     "iopub.execute_input": "2023-08-13T23:36:51.661842Z",
     "iopub.status.busy": "2023-08-13T23:36:51.661070Z",
     "iopub.status.idle": "2023-08-13T23:36:51.664692Z",
     "shell.execute_reply": "2023-08-13T23:36:51.664078Z"
    },
    "papermill": {
     "duration": 0.007767,
     "end_time": "2023-08-13T23:36:51.666158",
     "exception": false,
     "start_time": "2023-08-13T23:36:51.658391",
     "status": "completed"
    },
    "tags": []
   },
   "outputs": [],
   "source": [
    "DATA_DIR='../../../docs/metrics/events/promote/_data/'\n",
    "os.makedirs(DATA_DIR, exist_ok=True)"
   ]
  },
  {
   "cell_type": "code",
   "execution_count": 3,
   "id": "23dc2e16",
   "metadata": {
    "execution": {
     "iopub.execute_input": "2023-08-13T23:36:51.670654Z",
     "iopub.status.busy": "2023-08-13T23:36:51.670234Z",
     "iopub.status.idle": "2023-08-13T23:36:51.680505Z",
     "shell.execute_reply": "2023-08-13T23:36:51.679941Z"
    },
    "papermill": {
     "duration": 0.014264,
     "end_time": "2023-08-13T23:36:51.682078",
     "exception": false,
     "start_time": "2023-08-13T23:36:51.667814",
     "status": "completed"
    },
    "tags": []
   },
   "outputs": [],
   "source": [
    "data = pd.read_csv('../../../data/metrics/events/promote-events/events.csv', parse_dates=['time'])"
   ]
  },
  {
   "cell_type": "code",
   "execution_count": 4,
   "id": "f4db8f06",
   "metadata": {
    "execution": {
     "iopub.execute_input": "2023-08-13T23:36:51.686591Z",
     "iopub.status.busy": "2023-08-13T23:36:51.686196Z",
     "iopub.status.idle": "2023-08-13T23:36:51.691456Z",
     "shell.execute_reply": "2023-08-13T23:36:51.690848Z"
    },
    "papermill": {
     "duration": 0.009271,
     "end_time": "2023-08-13T23:36:51.693011",
     "exception": false,
     "start_time": "2023-08-13T23:36:51.683740",
     "status": "completed"
    },
    "tags": []
   },
   "outputs": [],
   "source": [
    "pd.Series({\n",
    "    'total_events': len(data.id.unique()),\n",
    "    'total_event_instances': len(data.time),\n",
    "    'earliest_event': data.time.min(),\n",
    "    'latest_event': data.time.max(),\n",
    "}).to_json(\n",
    "    os.path.join(DATA_DIR, 'headlines.json'),\n",
    "    date_format='iso', indent=2\n",
    ")"
   ]
  },
  {
   "cell_type": "code",
   "execution_count": 5,
   "id": "94c06d35",
   "metadata": {
    "execution": {
     "iopub.execute_input": "2023-08-13T23:36:51.697521Z",
     "iopub.status.busy": "2023-08-13T23:36:51.697131Z",
     "iopub.status.idle": "2023-08-13T23:36:51.705126Z",
     "shell.execute_reply": "2023-08-13T23:36:51.704453Z"
    },
    "papermill": {
     "duration": 0.011923,
     "end_time": "2023-08-13T23:36:51.706597",
     "exception": false,
     "start_time": "2023-08-13T23:36:51.694674",
     "status": "completed"
    },
    "tags": []
   },
   "outputs": [],
   "source": [
    "events = pd.DataFrame({\n",
    "    'events': data.groupby('id').agg({ 'time': 'min' }).reset_index().groupby('time').id.count(),\n",
    "    'event_instances': data.groupby('time').id.count(),\n",
    "}).fillna(0).astype(int)"
   ]
  },
  {
   "cell_type": "code",
   "execution_count": 6,
   "id": "0386d581",
   "metadata": {
    "execution": {
     "iopub.execute_input": "2023-08-13T23:36:51.711202Z",
     "iopub.status.busy": "2023-08-13T23:36:51.710682Z",
     "iopub.status.idle": "2023-08-13T23:36:51.714195Z",
     "shell.execute_reply": "2023-08-13T23:36:51.713578Z"
    },
    "papermill": {
     "duration": 0.00746,
     "end_time": "2023-08-13T23:36:51.715704",
     "exception": false,
     "start_time": "2023-08-13T23:36:51.708244",
     "status": "completed"
    },
    "tags": []
   },
   "outputs": [],
   "source": [
    "def cumulate(data):\n",
    "    return pd.concat([\n",
    "        data,\n",
    "        data.cumsum().rename(columns=lambda c: f'cumulative_{c}')\n",
    "    ], axis=1)"
   ]
  },
  {
   "cell_type": "code",
   "execution_count": 7,
   "id": "30ce4887",
   "metadata": {
    "execution": {
     "iopub.execute_input": "2023-08-13T23:36:51.720116Z",
     "iopub.status.busy": "2023-08-13T23:36:51.719728Z",
     "iopub.status.idle": "2023-08-13T23:36:51.729331Z",
     "shell.execute_reply": "2023-08-13T23:36:51.728786Z"
    },
    "papermill": {
     "duration": 0.013455,
     "end_time": "2023-08-13T23:36:51.730828",
     "exception": false,
     "start_time": "2023-08-13T23:36:51.717373",
     "status": "completed"
    },
    "tags": []
   },
   "outputs": [],
   "source": [
    "events.resample('W-FRI').sum().pipe(cumulate).to_csv(os.path.join(DATA_DIR, 'by_week.csv'))"
   ]
  },
  {
   "cell_type": "code",
   "execution_count": 8,
   "id": "0310caba",
   "metadata": {
    "execution": {
     "iopub.execute_input": "2023-08-13T23:36:51.735438Z",
     "iopub.status.busy": "2023-08-13T23:36:51.735045Z",
     "iopub.status.idle": "2023-08-13T23:36:51.740817Z",
     "shell.execute_reply": "2023-08-13T23:36:51.740211Z"
    },
    "papermill": {
     "duration": 0.009675,
     "end_time": "2023-08-13T23:36:51.742304",
     "exception": false,
     "start_time": "2023-08-13T23:36:51.732629",
     "status": "completed"
    },
    "tags": []
   },
   "outputs": [],
   "source": [
    "events.resample('MS').sum().pipe(cumulate).to_csv(os.path.join(DATA_DIR, 'by_month.csv'))"
   ]
  },
  {
   "cell_type": "code",
   "execution_count": null,
   "id": "ff4af0b3",
   "metadata": {
    "papermill": {
     "duration": 0.001721,
     "end_time": "2023-08-13T23:36:51.745778",
     "exception": false,
     "start_time": "2023-08-13T23:36:51.744057",
     "status": "completed"
    },
    "tags": []
   },
   "outputs": [],
   "source": []
  }
 ],
 "metadata": {
  "kernelspec": {
   "display_name": "leeds-2023-YZF5GfJv",
   "language": "python",
   "name": "python3"
  },
  "language_info": {
   "codemirror_mode": {
    "name": "ipython",
    "version": 3
   },
   "file_extension": ".py",
   "mimetype": "text/x-python",
   "name": "python",
   "nbconvert_exporter": "python",
   "pygments_lexer": "ipython3",
   "version": "3.10.12"
  },
  "papermill": {
   "default_parameters": {},
   "duration": 1.957627,
   "end_time": "2023-08-13T23:36:51.964712",
   "environment_variables": {},
   "exception": null,
   "input_path": "prepare.ipynb",
   "output_path": "../../../working/output/promote-events-prepare.ipynb",
   "parameters": {},
   "start_time": "2023-08-13T23:36:50.007085",
   "version": "2.4.0"
  }
 },
 "nbformat": 4,
 "nbformat_minor": 5
}