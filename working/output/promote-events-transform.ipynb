{
 "cells": [
  {
   "cell_type": "code",
   "execution_count": 1,
   "id": "68758ed5",
   "metadata": {
    "execution": {
     "iopub.execute_input": "2023-09-04T23:39:41.187717Z",
     "iopub.status.busy": "2023-09-04T23:39:41.187207Z",
     "iopub.status.idle": "2023-09-04T23:39:41.414899Z",
     "shell.execute_reply": "2023-09-04T23:39:41.414256Z"
    },
    "papermill": {
     "duration": 0.232537,
     "end_time": "2023-09-04T23:39:41.416997",
     "exception": false,
     "start_time": "2023-09-04T23:39:41.184460",
     "status": "completed"
    },
    "tags": []
   },
   "outputs": [],
   "source": [
    "import os\n",
    "import pandas as pd"
   ]
  },
  {
   "cell_type": "code",
   "execution_count": 2,
   "id": "a7a723c4",
   "metadata": {
    "execution": {
     "iopub.execute_input": "2023-09-04T23:39:41.421107Z",
     "iopub.status.busy": "2023-09-04T23:39:41.420677Z",
     "iopub.status.idle": "2023-09-04T23:39:41.425009Z",
     "shell.execute_reply": "2023-09-04T23:39:41.424479Z"
    },
    "papermill": {
     "duration": 0.0078,
     "end_time": "2023-09-04T23:39:41.426307",
     "exception": false,
     "start_time": "2023-09-04T23:39:41.418507",
     "status": "completed"
    },
    "tags": []
   },
   "outputs": [],
   "source": [
    "EVENTS_RAW_DATA = '../../../working/metrics/promote-events/events.csv'\n",
    "DATA_DIR = '../../../data/metrics/events/promote-events/'\n",
    "EVENTS_DATA = os.path.join(DATA_DIR, 'events.csv')"
   ]
  },
  {
   "cell_type": "code",
   "execution_count": 3,
   "id": "a5c124a3",
   "metadata": {
    "execution": {
     "iopub.execute_input": "2023-09-04T23:39:41.429725Z",
     "iopub.status.busy": "2023-09-04T23:39:41.429236Z",
     "iopub.status.idle": "2023-09-04T23:39:41.432377Z",
     "shell.execute_reply": "2023-09-04T23:39:41.431792Z"
    },
    "papermill": {
     "duration": 0.006272,
     "end_time": "2023-09-04T23:39:41.433741",
     "exception": false,
     "start_time": "2023-09-04T23:39:41.427469",
     "status": "completed"
    },
    "tags": []
   },
   "outputs": [],
   "source": [
    "columns = {\n",
    "    'id': 'id',\n",
    "    'name': 'name',\n",
    "    'locationName': 'location',\n",
    "    'cardPrice': 'card_price',\n",
    "    'timeslots': 'time',\n",
    "    # 'displayOnWebsite': 'display',\n",
    "    'Stage': 'stage',\n",
    "}"
   ]
  },
  {
   "cell_type": "code",
   "execution_count": 4,
   "id": "509eeb30",
   "metadata": {
    "execution": {
     "iopub.execute_input": "2023-09-04T23:39:41.436851Z",
     "iopub.status.busy": "2023-09-04T23:39:41.436656Z",
     "iopub.status.idle": "2023-09-04T23:39:41.447152Z",
     "shell.execute_reply": "2023-09-04T23:39:41.446577Z"
    },
    "papermill": {
     "duration": 0.013628,
     "end_time": "2023-09-04T23:39:41.448549",
     "exception": false,
     "start_time": "2023-09-04T23:39:41.434921",
     "status": "completed"
    },
    "tags": []
   },
   "outputs": [],
   "source": [
    "data = pd.read_csv(EVENTS_RAW_DATA)[columns.keys()].rename(columns=columns)\n",
    "data.time = pd.to_datetime(data.time, errors='coerce')"
   ]
  },
  {
   "cell_type": "code",
   "execution_count": 5,
   "id": "c5af8fc8",
   "metadata": {
    "execution": {
     "iopub.execute_input": "2023-09-04T23:39:41.452036Z",
     "iopub.status.busy": "2023-09-04T23:39:41.451710Z",
     "iopub.status.idle": "2023-09-04T23:39:41.456870Z",
     "shell.execute_reply": "2023-09-04T23:39:41.456331Z"
    },
    "papermill": {
     "duration": 0.008462,
     "end_time": "2023-09-04T23:39:41.458246",
     "exception": false,
     "start_time": "2023-09-04T23:39:41.449784",
     "status": "completed"
    },
    "tags": []
   },
   "outputs": [],
   "source": [
    "data.to_csv(os.path.join(DATA_DIR, 'events.csv'), index=False)"
   ]
  }
 ],
 "metadata": {
  "kernelspec": {
   "display_name": "leeds-2023-YZF5GfJv",
   "language": "python",
   "name": "python3"
  },
  "language_info": {
   "codemirror_mode": {
    "name": "ipython",
    "version": 3
   },
   "file_extension": ".py",
   "mimetype": "text/x-python",
   "name": "python",
   "nbconvert_exporter": "python",
   "pygments_lexer": "ipython3",
   "version": "3.10.12"
  },
  "papermill": {
   "default_parameters": {},
   "duration": 1.860426,
   "end_time": "2023-09-04T23:39:41.676558",
   "environment_variables": {},
   "exception": null,
   "input_path": "transform.ipynb",
   "output_path": "../../../working/output/promote-events-transform.ipynb",
   "parameters": {},
   "start_time": "2023-09-04T23:39:39.816132",
   "version": "2.4.0"
  }
 },
 "nbformat": 4,
 "nbformat_minor": 5
}