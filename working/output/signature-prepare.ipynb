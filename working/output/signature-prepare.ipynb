{
 "cells": [
  {
   "cell_type": "code",
   "execution_count": 1,
   "id": "0365c7fe",
   "metadata": {
    "execution": {
     "iopub.execute_input": "2023-07-27T23:38:30.718851Z",
     "iopub.status.busy": "2023-07-27T23:38:30.718346Z",
     "iopub.status.idle": "2023-07-27T23:38:39.339024Z",
     "shell.execute_reply": "2023-07-27T23:38:39.338404Z"
    },
    "papermill": {
     "duration": 8.625979,
     "end_time": "2023-07-27T23:38:39.340846",
     "exception": false,
     "start_time": "2023-07-27T23:38:30.714867",
     "status": "completed"
    },
    "tags": []
   },
   "outputs": [],
   "source": [
    "import os\n",
    "import pandas as pd\n",
    "from events import load_event_data, get_first_ward, normalise_ward"
   ]
  },
  {
   "cell_type": "code",
   "execution_count": 2,
   "id": "dcb91537",
   "metadata": {
    "execution": {
     "iopub.execute_input": "2023-07-27T23:38:39.346442Z",
     "iopub.status.busy": "2023-07-27T23:38:39.345998Z",
     "iopub.status.idle": "2023-07-27T23:38:39.349576Z",
     "shell.execute_reply": "2023-07-27T23:38:39.348969Z"
    },
    "papermill": {
     "duration": 0.007869,
     "end_time": "2023-07-27T23:38:39.350962",
     "exception": false,
     "start_time": "2023-07-27T23:38:39.343093",
     "status": "completed"
    },
    "tags": []
   },
   "outputs": [],
   "source": [
    "latest_date = pd.Timestamp.today().ceil('D')"
   ]
  },
  {
   "cell_type": "code",
   "execution_count": 3,
   "id": "ca52b057",
   "metadata": {
    "execution": {
     "iopub.execute_input": "2023-07-27T23:38:39.356136Z",
     "iopub.status.busy": "2023-07-27T23:38:39.355639Z",
     "iopub.status.idle": "2023-07-27T23:38:39.370295Z",
     "shell.execute_reply": "2023-07-27T23:38:39.369738Z"
    },
    "papermill": {
     "duration": 0.01894,
     "end_time": "2023-07-27T23:38:39.371810",
     "exception": false,
     "start_time": "2023-07-27T23:38:39.352870",
     "status": "completed"
    },
    "tags": []
   },
   "outputs": [],
   "source": [
    "tickets = pd.read_csv('../../../../data/metrics/events/tickets/orders.csv', parse_dates=['created_at', 'event_date'])\n",
    "tickets = tickets[tickets.event_date <= latest_date]"
   ]
  },
  {
   "cell_type": "code",
   "execution_count": 4,
   "id": "5ff16613",
   "metadata": {
    "execution": {
     "iopub.execute_input": "2023-07-27T23:38:39.376787Z",
     "iopub.status.busy": "2023-07-27T23:38:39.376459Z",
     "iopub.status.idle": "2023-07-27T23:38:39.521307Z",
     "shell.execute_reply": "2023-07-27T23:38:39.520689Z"
    },
    "papermill": {
     "duration": 0.149391,
     "end_time": "2023-07-27T23:38:39.523142",
     "exception": false,
     "start_time": "2023-07-27T23:38:39.373751",
     "status": "completed"
    },
    "tags": []
   },
   "outputs": [],
   "source": [
    "events = load_event_data()\n",
    "\n",
    "events = pd.concat([\n",
    "  events,\n",
    "  events.pipe(get_first_ward).pipe(normalise_ward).fillna('UNKNOWN'),\n",
    "  pd.Series(\n",
    "      events.actual_audience_size_number_of_participants_in_person + events.actual_audience_size_number_of_participants_online,\n",
    "      name='attendances'\n",
    "  )\n",
    "], axis=1).rename(columns={\n",
    "    'start_date': 'date'\n",
    "}).loc[:, ['ward_code', 'date', 'event_unique_identifier', 'attendances']]"
   ]
  },
  {
   "cell_type": "code",
   "execution_count": 5,
   "id": "2cace5e8",
   "metadata": {
    "execution": {
     "iopub.execute_input": "2023-07-27T23:38:39.528954Z",
     "iopub.status.busy": "2023-07-27T23:38:39.528407Z",
     "iopub.status.idle": "2023-07-27T23:38:39.531768Z",
     "shell.execute_reply": "2023-07-27T23:38:39.531158Z"
    },
    "papermill": {
     "duration": 0.007659,
     "end_time": "2023-07-27T23:38:39.533081",
     "exception": false,
     "start_time": "2023-07-27T23:38:39.525422",
     "status": "completed"
    },
    "tags": []
   },
   "outputs": [],
   "source": [
    "OUTPUT_DIR='../../../../docs/metrics/events/signature/_data/'\n",
    "os.makedirs(OUTPUT_DIR, exist_ok=True)"
   ]
  },
  {
   "cell_type": "markdown",
   "id": "37bba3e9",
   "metadata": {
    "papermill": {
     "duration": 0.002015,
     "end_time": "2023-07-27T23:38:39.537084",
     "exception": false,
     "start_time": "2023-07-27T23:38:39.535069",
     "status": "completed"
    },
    "tags": []
   },
   "source": [
    "Events CSVs"
   ]
  },
  {
   "cell_type": "code",
   "execution_count": 6,
   "id": "6083a9bb",
   "metadata": {
    "execution": {
     "iopub.execute_input": "2023-07-27T23:38:39.542256Z",
     "iopub.status.busy": "2023-07-27T23:38:39.541718Z",
     "iopub.status.idle": "2023-07-27T23:38:39.549496Z",
     "shell.execute_reply": "2023-07-27T23:38:39.548951Z"
    },
    "papermill": {
     "duration": 0.012164,
     "end_time": "2023-07-27T23:38:39.551201",
     "exception": false,
     "start_time": "2023-07-27T23:38:39.539037",
     "status": "completed"
    },
    "tags": []
   },
   "outputs": [],
   "source": [
    "pd.DataFrame({\n",
    "  'events': events.groupby('ward_code').event_unique_identifier.count(),\n",
    "  'attendances': events.groupby('ward_code').attendances.sum().astype(int),\n",
    "}).to_csv(os.path.join(OUTPUT_DIR, 'events_by_ward.csv'))\n"
   ]
  },
  {
   "cell_type": "code",
   "execution_count": 7,
   "id": "941b2607",
   "metadata": {
    "execution": {
     "iopub.execute_input": "2023-07-27T23:38:39.556477Z",
     "iopub.status.busy": "2023-07-27T23:38:39.555960Z",
     "iopub.status.idle": "2023-07-27T23:38:39.566708Z",
     "shell.execute_reply": "2023-07-27T23:38:39.566158Z"
    },
    "papermill": {
     "duration": 0.014973,
     "end_time": "2023-07-27T23:38:39.568224",
     "exception": false,
     "start_time": "2023-07-27T23:38:39.553251",
     "status": "completed"
    },
    "tags": []
   },
   "outputs": [],
   "source": [
    "pd.DataFrame({\n",
    "  'events': events.groupby('date').event_unique_identifier.count(),\n",
    "  'attendances': events.groupby('date').attendances.sum().astype(int),\n",
    "}).resample('M').sum().astype(int).to_csv(os.path.join(OUTPUT_DIR, 'events_by_date.csv'))"
   ]
  },
  {
   "cell_type": "markdown",
   "id": "9fd65872",
   "metadata": {
    "papermill": {
     "duration": 0.002081,
     "end_time": "2023-07-27T23:38:39.572398",
     "exception": false,
     "start_time": "2023-07-27T23:38:39.570317",
     "status": "completed"
    },
    "tags": []
   },
   "source": [
    "Tickets CSV"
   ]
  },
  {
   "cell_type": "code",
   "execution_count": 8,
   "id": "469d7e41",
   "metadata": {
    "execution": {
     "iopub.execute_input": "2023-07-27T23:38:39.577710Z",
     "iopub.status.busy": "2023-07-27T23:38:39.577197Z",
     "iopub.status.idle": "2023-07-27T23:38:39.584704Z",
     "shell.execute_reply": "2023-07-27T23:38:39.584158Z"
    },
    "papermill": {
     "duration": 0.011682,
     "end_time": "2023-07-27T23:38:39.586083",
     "exception": false,
     "start_time": "2023-07-27T23:38:39.574401",
     "status": "completed"
    },
    "tags": []
   },
   "outputs": [],
   "source": [
    "pd.DataFrame({\n",
    "  'orders': tickets.groupby('ward_code').number_of_tickets.count(),\n",
    "  'tickets': tickets.groupby('ward_code').number_of_tickets.sum().astype(int),\n",
    "}).to_csv(os.path.join(OUTPUT_DIR, 'tickets_by_ward.csv'))"
   ]
  },
  {
   "cell_type": "code",
   "execution_count": 9,
   "id": "e4972036",
   "metadata": {
    "execution": {
     "iopub.execute_input": "2023-07-27T23:38:39.591480Z",
     "iopub.status.busy": "2023-07-27T23:38:39.590905Z",
     "iopub.status.idle": "2023-07-27T23:38:39.598459Z",
     "shell.execute_reply": "2023-07-27T23:38:39.597923Z"
    },
    "papermill": {
     "duration": 0.011618,
     "end_time": "2023-07-27T23:38:39.599795",
     "exception": false,
     "start_time": "2023-07-27T23:38:39.588177",
     "status": "completed"
    },
    "tags": []
   },
   "outputs": [],
   "source": [
    "pd.DataFrame({\n",
    "  'orders': tickets.groupby('event_date').number_of_tickets.count(),\n",
    "  'tickets': tickets.groupby('event_date').number_of_tickets.sum().astype(int),\n",
    "}).resample('M').sum().to_csv(os.path.join(OUTPUT_DIR, 'tickets_by_event_date.csv'))"
   ]
  },
  {
   "cell_type": "code",
   "execution_count": 10,
   "id": "0a1a8201",
   "metadata": {
    "execution": {
     "iopub.execute_input": "2023-07-27T23:38:39.605731Z",
     "iopub.status.busy": "2023-07-27T23:38:39.605530Z",
     "iopub.status.idle": "2023-07-27T23:38:39.610269Z",
     "shell.execute_reply": "2023-07-27T23:38:39.609675Z"
    },
    "papermill": {
     "duration": 0.009712,
     "end_time": "2023-07-27T23:38:39.611590",
     "exception": false,
     "start_time": "2023-07-27T23:38:39.601878",
     "status": "completed"
    },
    "tags": []
   },
   "outputs": [],
   "source": [
    "pd.Series({\n",
    "    'total_events': events.event_unique_identifier.count(),\n",
    "    'total_attendances': events.attendances.count(),\n",
    "    'first_event': events.date.min(),\n",
    "    'latest_event': events.date.max(),\n",
    "    'total_ticket_orders_for_events_to_date': tickets.number_of_tickets.count(),\n",
    "    'total_tickets_sold_for_events_to_date': tickets.number_of_tickets.sum(),\n",
    "}).to_json(os.path.join(OUTPUT_DIR, 'headlines.json'), indent=2)"
   ]
  },
  {
   "cell_type": "code",
   "execution_count": null,
   "id": "9f6d695e",
   "metadata": {
    "papermill": {
     "duration": 0.002048,
     "end_time": "2023-07-27T23:38:39.615774",
     "exception": false,
     "start_time": "2023-07-27T23:38:39.613726",
     "status": "completed"
    },
    "tags": []
   },
   "outputs": [],
   "source": []
  }
 ],
 "metadata": {
  "kernelspec": {
   "display_name": "leeds-2023-YZF5GfJv",
   "language": "python",
   "name": "python3"
  },
  "language_info": {
   "codemirror_mode": {
    "name": "ipython",
    "version": 3
   },
   "file_extension": ".py",
   "mimetype": "text/x-python",
   "name": "python",
   "nbconvert_exporter": "python",
   "pygments_lexer": "ipython3",
   "version": "3.10.6"
  },
  "papermill": {
   "default_parameters": {},
   "duration": 10.580475,
   "end_time": "2023-07-27T23:38:39.935337",
   "environment_variables": {},
   "exception": null,
   "input_path": "prepare.ipynb",
   "output_path": "../../../../working/output/signature-prepare.ipynb",
   "parameters": {},
   "start_time": "2023-07-27T23:38:29.354862",
   "version": "2.4.0"
  }
 },
 "nbformat": 4,
 "nbformat_minor": 5
}