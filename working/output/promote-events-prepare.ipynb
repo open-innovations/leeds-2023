{
 "cells": [
  {
   "cell_type": "code",
   "execution_count": 1,
   "id": "cabf611a",
   "metadata": {
    "execution": {
     "iopub.execute_input": "2023-09-15T23:41:40.684918Z",
     "iopub.status.busy": "2023-09-15T23:41:40.684063Z",
     "iopub.status.idle": "2023-09-15T23:41:41.015023Z",
     "shell.execute_reply": "2023-09-15T23:41:41.014028Z"
    },
    "papermill": {
     "duration": 0.339337,
     "end_time": "2023-09-15T23:41:41.017992",
     "exception": false,
     "start_time": "2023-09-15T23:41:40.678655",
     "status": "completed"
    },
    "tags": []
   },
   "outputs": [],
   "source": [
    "import os\n",
    "import pandas as pd"
   ]
  },
  {
   "cell_type": "code",
   "execution_count": 2,
   "id": "49442026",
   "metadata": {
    "execution": {
     "iopub.execute_input": "2023-09-15T23:41:41.025992Z",
     "iopub.status.busy": "2023-09-15T23:41:41.025649Z",
     "iopub.status.idle": "2023-09-15T23:41:41.031478Z",
     "shell.execute_reply": "2023-09-15T23:41:41.030360Z"
    },
    "papermill": {
     "duration": 0.01148,
     "end_time": "2023-09-15T23:41:41.033581",
     "exception": false,
     "start_time": "2023-09-15T23:41:41.022101",
     "status": "completed"
    },
    "tags": []
   },
   "outputs": [],
   "source": [
    "DATA_DIR='../../../docs/metrics/events/promote/_data/'\n",
    "os.makedirs(DATA_DIR, exist_ok=True)"
   ]
  },
  {
   "cell_type": "code",
   "execution_count": 3,
   "id": "1ba0d7ad",
   "metadata": {
    "execution": {
     "iopub.execute_input": "2023-09-15T23:41:41.039523Z",
     "iopub.status.busy": "2023-09-15T23:41:41.039130Z",
     "iopub.status.idle": "2023-09-15T23:41:41.053464Z",
     "shell.execute_reply": "2023-09-15T23:41:41.051783Z"
    },
    "papermill": {
     "duration": 0.019801,
     "end_time": "2023-09-15T23:41:41.055507",
     "exception": false,
     "start_time": "2023-09-15T23:41:41.035706",
     "status": "completed"
    },
    "tags": []
   },
   "outputs": [],
   "source": [
    "data = pd.read_csv('../../../data/metrics/events/promote-events/events.csv', parse_dates=['time'])"
   ]
  },
  {
   "cell_type": "code",
   "execution_count": 4,
   "id": "c0a08825",
   "metadata": {
    "execution": {
     "iopub.execute_input": "2023-09-15T23:41:41.065105Z",
     "iopub.status.busy": "2023-09-15T23:41:41.062714Z",
     "iopub.status.idle": "2023-09-15T23:41:41.072718Z",
     "shell.execute_reply": "2023-09-15T23:41:41.071757Z"
    },
    "papermill": {
     "duration": 0.016929,
     "end_time": "2023-09-15T23:41:41.074814",
     "exception": false,
     "start_time": "2023-09-15T23:41:41.057885",
     "status": "completed"
    },
    "tags": []
   },
   "outputs": [],
   "source": [
    "pd.Series({\n",
    "    'total_events': len(data.id.unique()),\n",
    "    'total_event_instances': len(data.time),\n",
    "    'earliest_event': data.time.min(),\n",
    "    'latest_event': data.time.max(),\n",
    "}).to_json(\n",
    "    os.path.join(DATA_DIR, 'headlines.json'),\n",
    "    date_format='iso', indent=2\n",
    ")"
   ]
  },
  {
   "cell_type": "code",
   "execution_count": 5,
   "id": "dcff7de8",
   "metadata": {
    "execution": {
     "iopub.execute_input": "2023-09-15T23:41:41.081510Z",
     "iopub.status.busy": "2023-09-15T23:41:41.081222Z",
     "iopub.status.idle": "2023-09-15T23:41:41.094224Z",
     "shell.execute_reply": "2023-09-15T23:41:41.093231Z"
    },
    "papermill": {
     "duration": 0.019346,
     "end_time": "2023-09-15T23:41:41.096623",
     "exception": false,
     "start_time": "2023-09-15T23:41:41.077277",
     "status": "completed"
    },
    "tags": []
   },
   "outputs": [],
   "source": [
    "events = pd.DataFrame({\n",
    "    'events': data.groupby('id').agg({ 'time': 'min' }).reset_index().groupby('time').id.count(),\n",
    "    'event_instances': data.groupby('time').id.count(),\n",
    "}).fillna(0).astype(int)"
   ]
  },
  {
   "cell_type": "code",
   "execution_count": 6,
   "id": "e5a7a924",
   "metadata": {
    "execution": {
     "iopub.execute_input": "2023-09-15T23:41:41.103124Z",
     "iopub.status.busy": "2023-09-15T23:41:41.102786Z",
     "iopub.status.idle": "2023-09-15T23:41:41.107487Z",
     "shell.execute_reply": "2023-09-15T23:41:41.106290Z"
    },
    "papermill": {
     "duration": 0.010591,
     "end_time": "2023-09-15T23:41:41.109605",
     "exception": false,
     "start_time": "2023-09-15T23:41:41.099014",
     "status": "completed"
    },
    "tags": []
   },
   "outputs": [],
   "source": [
    "def cumulate(data):\n",
    "    return pd.concat([\n",
    "        data,\n",
    "        data.cumsum().rename(columns=lambda c: f'cumulative_{c}')\n",
    "    ], axis=1)"
   ]
  },
  {
   "cell_type": "code",
   "execution_count": 7,
   "id": "780bb5a4",
   "metadata": {
    "execution": {
     "iopub.execute_input": "2023-09-15T23:41:41.116845Z",
     "iopub.status.busy": "2023-09-15T23:41:41.116095Z",
     "iopub.status.idle": "2023-09-15T23:41:41.130141Z",
     "shell.execute_reply": "2023-09-15T23:41:41.128914Z"
    },
    "papermill": {
     "duration": 0.019858,
     "end_time": "2023-09-15T23:41:41.132368",
     "exception": false,
     "start_time": "2023-09-15T23:41:41.112510",
     "status": "completed"
    },
    "tags": []
   },
   "outputs": [],
   "source": [
    "events.resample('W-FRI').sum().pipe(cumulate).to_csv(os.path.join(DATA_DIR, 'by_week.csv'))"
   ]
  },
  {
   "cell_type": "code",
   "execution_count": 8,
   "id": "15dbd014",
   "metadata": {
    "execution": {
     "iopub.execute_input": "2023-09-15T23:41:41.139054Z",
     "iopub.status.busy": "2023-09-15T23:41:41.138779Z",
     "iopub.status.idle": "2023-09-15T23:41:41.148753Z",
     "shell.execute_reply": "2023-09-15T23:41:41.147694Z"
    },
    "papermill": {
     "duration": 0.016032,
     "end_time": "2023-09-15T23:41:41.151147",
     "exception": false,
     "start_time": "2023-09-15T23:41:41.135115",
     "status": "completed"
    },
    "tags": []
   },
   "outputs": [],
   "source": [
    "events.resample('MS').sum().pipe(cumulate).to_csv(os.path.join(DATA_DIR, 'by_month.csv'))"
   ]
  },
  {
   "cell_type": "code",
   "execution_count": null,
   "id": "7687f808",
   "metadata": {
    "papermill": {
     "duration": 0.002211,
     "end_time": "2023-09-15T23:41:41.155892",
     "exception": false,
     "start_time": "2023-09-15T23:41:41.153681",
     "status": "completed"
    },
    "tags": []
   },
   "outputs": [],
   "source": []
  }
 ],
 "metadata": {
  "kernelspec": {
   "display_name": "leeds-2023-YZF5GfJv",
   "language": "python",
   "name": "python3"
  },
  "language_info": {
   "codemirror_mode": {
    "name": "ipython",
    "version": 3
   },
   "file_extension": ".py",
   "mimetype": "text/x-python",
   "name": "python",
   "nbconvert_exporter": "python",
   "pygments_lexer": "ipython3",
   "version": "3.10.13"
  },
  "papermill": {
   "default_parameters": {},
   "duration": 2.53408,
   "end_time": "2023-09-15T23:41:41.378928",
   "environment_variables": {},
   "exception": null,
   "input_path": "prepare.ipynb",
   "output_path": "../../../working/output/promote-events-prepare.ipynb",
   "parameters": {},
   "start_time": "2023-09-15T23:41:38.844848",
   "version": "2.4.0"
  }
 },
 "nbformat": 4,
 "nbformat_minor": 5
}