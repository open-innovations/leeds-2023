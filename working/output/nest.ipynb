{
 "cells": [
  {
   "cell_type": "markdown",
   "id": "f875aaaa",
   "metadata": {
    "papermill": {
     "duration": 0.002747,
     "end_time": "2023-10-20T23:39:34.980057",
     "exception": false,
     "start_time": "2023-10-20T23:39:34.977310",
     "status": "completed"
    },
    "tags": []
   },
   "source": [
    "# Nest\n",
    "\n",
    "Prepares data for the Nest page "
   ]
  },
  {
   "cell_type": "code",
   "execution_count": 1,
   "id": "ff4a5c53",
   "metadata": {
    "execution": {
     "iopub.execute_input": "2023-10-20T23:39:34.985870Z",
     "iopub.status.busy": "2023-10-20T23:39:34.985257Z",
     "iopub.status.idle": "2023-10-20T23:39:46.825940Z",
     "shell.execute_reply": "2023-10-20T23:39:46.825127Z"
    },
    "papermill": {
     "duration": 11.845887,
     "end_time": "2023-10-20T23:39:46.828172",
     "exception": false,
     "start_time": "2023-10-20T23:39:34.982285",
     "status": "completed"
    },
    "tags": []
   },
   "outputs": [],
   "source": [
    "import os\n",
    "from events import (\n",
    "    load_event_data, filter_public_events, filter_by_project, prepare, save_files, count_wards\n",
    ")"
   ]
  },
  {
   "cell_type": "markdown",
   "id": "2eb601c0",
   "metadata": {
    "papermill": {
     "duration": 0.002133,
     "end_time": "2023-10-20T23:39:46.832554",
     "exception": false,
     "start_time": "2023-10-20T23:39:46.830421",
     "status": "completed"
    },
    "tags": []
   },
   "source": [
    "Set output directory"
   ]
  },
  {
   "cell_type": "code",
   "execution_count": 2,
   "id": "694e7635",
   "metadata": {
    "execution": {
     "iopub.execute_input": "2023-10-20T23:39:46.837443Z",
     "iopub.status.busy": "2023-10-20T23:39:46.836974Z",
     "iopub.status.idle": "2023-10-20T23:39:46.840393Z",
     "shell.execute_reply": "2023-10-20T23:39:46.839731Z"
    },
    "papermill": {
     "duration": 0.007693,
     "end_time": "2023-10-20T23:39:46.841919",
     "exception": false,
     "start_time": "2023-10-20T23:39:46.834226",
     "status": "completed"
    },
    "tags": []
   },
   "outputs": [],
   "source": [
    "OUT_DIR = '../../../../docs/metrics/events/nest/_data/events'"
   ]
  },
  {
   "cell_type": "markdown",
   "id": "a83f5acb",
   "metadata": {
    "papermill": {
     "duration": 0.001644,
     "end_time": "2023-10-20T23:39:46.845217",
     "exception": false,
     "start_time": "2023-10-20T23:39:46.843573",
     "status": "completed"
    },
    "tags": []
   },
   "source": [
    "Read in event data and filter by **My LEEDS 2023** project.\n",
    "\n",
    "The criteria are:\n",
    "\n",
    "* project type is 'Produce (Signature)'\n",
    "* event_type contains 'Public Event -'\n",
    "\n",
    "It's then filtered by project_name is '10 - Melt'"
   ]
  },
  {
   "cell_type": "code",
   "execution_count": 3,
   "id": "d2ec869c",
   "metadata": {
    "execution": {
     "iopub.execute_input": "2023-10-20T23:39:46.849888Z",
     "iopub.status.busy": "2023-10-20T23:39:46.849325Z",
     "iopub.status.idle": "2023-10-20T23:39:46.878951Z",
     "shell.execute_reply": "2023-10-20T23:39:46.878271Z"
    },
    "papermill": {
     "duration": 0.033872,
     "end_time": "2023-10-20T23:39:46.880740",
     "exception": false,
     "start_time": "2023-10-20T23:39:46.846868",
     "status": "completed"
    },
    "tags": []
   },
   "outputs": [
    {
     "data": {
      "text/html": [
       "<div>\n",
       "<style scoped>\n",
       "    .dataframe tbody tr th:only-of-type {\n",
       "        vertical-align: middle;\n",
       "    }\n",
       "\n",
       "    .dataframe tbody tr th {\n",
       "        vertical-align: top;\n",
       "    }\n",
       "\n",
       "    .dataframe thead th {\n",
       "        text-align: right;\n",
       "    }\n",
       "</style>\n",
       "<table border=\"1\" class=\"dataframe\">\n",
       "  <thead>\n",
       "    <tr style=\"text-align: right;\">\n",
       "      <th></th>\n",
       "      <th>actual_audience_size_number_of_participants_in_person</th>\n",
       "      <th>actual_audience_size_number_of_participants_online</th>\n",
       "      <th>airtable_id</th>\n",
       "      <th>end_date</th>\n",
       "      <th>event_name</th>\n",
       "      <th>event_type</th>\n",
       "      <th>event_unique_identifier</th>\n",
       "      <th>number_of_booked_participants</th>\n",
       "      <th>postcode_(from_venue)</th>\n",
       "      <th>project_name</th>\n",
       "      <th>project_type</th>\n",
       "      <th>season</th>\n",
       "      <th>start_date</th>\n",
       "      <th>ward_(from_venue)</th>\n",
       "    </tr>\n",
       "  </thead>\n",
       "  <tbody>\n",
       "    <tr>\n",
       "      <th>1084</th>\n",
       "      <td>1338.0</td>\n",
       "      <td>NaN</td>\n",
       "      <td>241</td>\n",
       "      <td>2023-09-09</td>\n",
       "      <td>Melt (Run)</td>\n",
       "      <td>['Public Event - Performance']</td>\n",
       "      <td>10 - Melt: Melt (Run)</td>\n",
       "      <td>1542.0</td>\n",
       "      <td>['LS26 8AL']</td>\n",
       "      <td>10 - Melt</td>\n",
       "      <td>Produce (Signature)</td>\n",
       "      <td>['Season 3 - Dreaming']</td>\n",
       "      <td>2023-09-05</td>\n",
       "      <td>['Garforth and Swillington']</td>\n",
       "    </tr>\n",
       "  </tbody>\n",
       "</table>\n",
       "</div>"
      ],
      "text/plain": [
       "      actual_audience_size_number_of_participants_in_person  \\\n",
       "1084                                             1338.0       \n",
       "\n",
       "      actual_audience_size_number_of_participants_online  airtable_id  \\\n",
       "1084                                                NaN           241   \n",
       "\n",
       "        end_date  event_name                      event_type  \\\n",
       "1084  2023-09-09  Melt (Run)  ['Public Event - Performance']   \n",
       "\n",
       "     event_unique_identifier  number_of_booked_participants  \\\n",
       "1084   10 - Melt: Melt (Run)                         1542.0   \n",
       "\n",
       "     postcode_(from_venue) project_name         project_type  \\\n",
       "1084          ['LS26 8AL']    10 - Melt  Produce (Signature)   \n",
       "\n",
       "                       season start_date             ward_(from_venue)  \n",
       "1084  ['Season 3 - Dreaming'] 2023-09-05  ['Garforth and Swillington']  "
      ]
     },
     "execution_count": 3,
     "metadata": {},
     "output_type": "execute_result"
    }
   ],
   "source": [
    "data = (\n",
    "  load_event_data()\n",
    "    .pipe(filter_by_project, '10 - Melt')\n",
    "    .pipe(filter_public_events)\n",
    "  )\n",
    "data"
   ]
  },
  {
   "cell_type": "markdown",
   "id": "24b96f13",
   "metadata": {
    "papermill": {
     "duration": 0.00203,
     "end_time": "2023-10-20T23:39:46.884844",
     "exception": false,
     "start_time": "2023-10-20T23:39:46.882814",
     "status": "completed"
    },
    "tags": []
   },
   "source": [
    "Run the processing and save the files"
   ]
  },
  {
   "cell_type": "code",
   "execution_count": 4,
   "id": "42a67567",
   "metadata": {
    "execution": {
     "iopub.execute_input": "2023-10-20T23:39:46.889890Z",
     "iopub.status.busy": "2023-10-20T23:39:46.889566Z",
     "iopub.status.idle": "2023-10-20T23:39:46.918894Z",
     "shell.execute_reply": "2023-10-20T23:39:46.918249Z"
    },
    "papermill": {
     "duration": 0.033773,
     "end_time": "2023-10-20T23:39:46.920502",
     "exception": false,
     "start_time": "2023-10-20T23:39:46.886729",
     "status": "completed"
    },
    "tags": []
   },
   "outputs": [],
   "source": [
    "data = data.pipe(prepare).pipe(save_files, OUT_DIR)"
   ]
  }
 ],
 "metadata": {
  "kernelspec": {
   "display_name": "leeds-2023-YZF5GfJv",
   "language": "python",
   "name": "python3"
  },
  "language_info": {
   "codemirror_mode": {
    "name": "ipython",
    "version": 3
   },
   "file_extension": ".py",
   "mimetype": "text/x-python",
   "name": "python",
   "nbconvert_exporter": "python",
   "pygments_lexer": "ipython3",
   "version": "3.10.13"
  },
  "papermill": {
   "default_parameters": {},
   "duration": 13.957352,
   "end_time": "2023-10-20T23:39:47.340921",
   "environment_variables": {},
   "exception": null,
   "input_path": "nest.ipynb",
   "output_path": "../../../../working/output/nest.ipynb",
   "parameters": {},
   "start_time": "2023-10-20T23:39:33.383569",
   "version": "2.4.0"
  }
 },
 "nbformat": 4,
 "nbformat_minor": 5
}