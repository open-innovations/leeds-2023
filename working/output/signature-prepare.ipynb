{
 "cells": [
  {
   "cell_type": "code",
   "execution_count": 1,
   "id": "3971d3e9",
   "metadata": {
    "execution": {
     "iopub.execute_input": "2023-10-21T23:40:21.237737Z",
     "iopub.status.busy": "2023-10-21T23:40:21.237297Z",
     "iopub.status.idle": "2023-10-21T23:40:31.740677Z",
     "shell.execute_reply": "2023-10-21T23:40:31.740004Z"
    },
    "papermill": {
     "duration": 10.509391,
     "end_time": "2023-10-21T23:40:31.742556",
     "exception": false,
     "start_time": "2023-10-21T23:40:21.233165",
     "status": "completed"
    },
    "tags": []
   },
   "outputs": [],
   "source": [
    "import os\n",
    "import pandas as pd\n",
    "from events import load_event_data, get_first_ward, normalise_ward"
   ]
  },
  {
   "cell_type": "code",
   "execution_count": 2,
   "id": "c3bcba22",
   "metadata": {
    "execution": {
     "iopub.execute_input": "2023-10-21T23:40:31.749338Z",
     "iopub.status.busy": "2023-10-21T23:40:31.748650Z",
     "iopub.status.idle": "2023-10-21T23:40:31.753242Z",
     "shell.execute_reply": "2023-10-21T23:40:31.752649Z"
    },
    "papermill": {
     "duration": 0.009452,
     "end_time": "2023-10-21T23:40:31.754713",
     "exception": false,
     "start_time": "2023-10-21T23:40:31.745261",
     "status": "completed"
    },
    "tags": []
   },
   "outputs": [],
   "source": [
    "latest_date = pd.Timestamp.today().ceil('D')"
   ]
  },
  {
   "cell_type": "code",
   "execution_count": 3,
   "id": "e863ad2d",
   "metadata": {
    "execution": {
     "iopub.execute_input": "2023-10-21T23:40:31.760541Z",
     "iopub.status.busy": "2023-10-21T23:40:31.760115Z",
     "iopub.status.idle": "2023-10-21T23:40:31.777432Z",
     "shell.execute_reply": "2023-10-21T23:40:31.776825Z"
    },
    "papermill": {
     "duration": 0.022053,
     "end_time": "2023-10-21T23:40:31.779124",
     "exception": false,
     "start_time": "2023-10-21T23:40:31.757071",
     "status": "completed"
    },
    "tags": []
   },
   "outputs": [],
   "source": [
    "tickets = pd.read_csv('../../../../data/metrics/events/tickets/orders.csv', parse_dates=['created_at', 'event_date'])\n",
    "tickets = tickets[tickets.event_date <= latest_date]"
   ]
  },
  {
   "cell_type": "code",
   "execution_count": 4,
   "id": "222097f4",
   "metadata": {
    "execution": {
     "iopub.execute_input": "2023-10-21T23:40:31.784985Z",
     "iopub.status.busy": "2023-10-21T23:40:31.784579Z",
     "iopub.status.idle": "2023-10-21T23:40:31.828100Z",
     "shell.execute_reply": "2023-10-21T23:40:31.827490Z"
    },
    "papermill": {
     "duration": 0.048337,
     "end_time": "2023-10-21T23:40:31.829834",
     "exception": false,
     "start_time": "2023-10-21T23:40:31.781497",
     "status": "completed"
    },
    "tags": []
   },
   "outputs": [],
   "source": [
    "events = load_event_data()\n",
    "\n",
    "events = pd.concat([\n",
    "  events,\n",
    "  events.pipe(get_first_ward).pipe(normalise_ward).fillna('UNKNOWN'),\n",
    "  pd.Series(\n",
    "      events.actual_audience_size_number_of_participants_in_person + events.actual_audience_size_number_of_participants_online,\n",
    "      name='attendances'\n",
    "  )\n",
    "], axis=1).rename(columns={\n",
    "    'start_date': 'date'\n",
    "}).loc[:, ['ward_code', 'date', 'event_unique_identifier', 'attendances']]"
   ]
  },
  {
   "cell_type": "code",
   "execution_count": 5,
   "id": "11f0a566",
   "metadata": {
    "execution": {
     "iopub.execute_input": "2023-10-21T23:40:31.836803Z",
     "iopub.status.busy": "2023-10-21T23:40:31.836236Z",
     "iopub.status.idle": "2023-10-21T23:40:31.840819Z",
     "shell.execute_reply": "2023-10-21T23:40:31.840252Z"
    },
    "papermill": {
     "duration": 0.009268,
     "end_time": "2023-10-21T23:40:31.842191",
     "exception": false,
     "start_time": "2023-10-21T23:40:31.832923",
     "status": "completed"
    },
    "tags": []
   },
   "outputs": [],
   "source": [
    "OUTPUT_DIR='../../../../docs/metrics/events/signature/_data/'\n",
    "os.makedirs(OUTPUT_DIR, exist_ok=True)"
   ]
  },
  {
   "cell_type": "markdown",
   "id": "0639bf13",
   "metadata": {
    "papermill": {
     "duration": 0.002345,
     "end_time": "2023-10-21T23:40:31.846970",
     "exception": false,
     "start_time": "2023-10-21T23:40:31.844625",
     "status": "completed"
    },
    "tags": []
   },
   "source": [
    "Events CSVs"
   ]
  },
  {
   "cell_type": "code",
   "execution_count": 6,
   "id": "eb99c04e",
   "metadata": {
    "execution": {
     "iopub.execute_input": "2023-10-21T23:40:31.853429Z",
     "iopub.status.busy": "2023-10-21T23:40:31.852840Z",
     "iopub.status.idle": "2023-10-21T23:40:31.859646Z",
     "shell.execute_reply": "2023-10-21T23:40:31.859073Z"
    },
    "papermill": {
     "duration": 0.01163,
     "end_time": "2023-10-21T23:40:31.861057",
     "exception": false,
     "start_time": "2023-10-21T23:40:31.849427",
     "status": "completed"
    },
    "tags": []
   },
   "outputs": [],
   "source": [
    "pd.DataFrame({\n",
    "  'events': events.groupby('ward_code').event_unique_identifier.count(),\n",
    "  'attendances': events.groupby('ward_code').attendances.sum().astype(int),\n",
    "}).to_csv(os.path.join(OUTPUT_DIR, 'events_by_ward.csv'))\n"
   ]
  },
  {
   "cell_type": "code",
   "execution_count": 7,
   "id": "7cc4f95e",
   "metadata": {
    "execution": {
     "iopub.execute_input": "2023-10-21T23:40:31.866988Z",
     "iopub.status.busy": "2023-10-21T23:40:31.866575Z",
     "iopub.status.idle": "2023-10-21T23:40:31.875410Z",
     "shell.execute_reply": "2023-10-21T23:40:31.874826Z"
    },
    "papermill": {
     "duration": 0.013501,
     "end_time": "2023-10-21T23:40:31.876953",
     "exception": false,
     "start_time": "2023-10-21T23:40:31.863452",
     "status": "completed"
    },
    "tags": []
   },
   "outputs": [],
   "source": [
    "pd.DataFrame({\n",
    "  'events': events.groupby('date').event_unique_identifier.count(),\n",
    "  'attendances': events.groupby('date').attendances.sum().astype(int),\n",
    "}).resample('M').sum().astype(int).to_csv(os.path.join(OUTPUT_DIR, 'events_by_date.csv'))"
   ]
  },
  {
   "cell_type": "markdown",
   "id": "6d254d5c",
   "metadata": {
    "papermill": {
     "duration": 0.002418,
     "end_time": "2023-10-21T23:40:31.882656",
     "exception": false,
     "start_time": "2023-10-21T23:40:31.880238",
     "status": "completed"
    },
    "tags": []
   },
   "source": [
    "Tickets CSV"
   ]
  },
  {
   "cell_type": "code",
   "execution_count": 8,
   "id": "2d44eff9",
   "metadata": {
    "execution": {
     "iopub.execute_input": "2023-10-21T23:40:31.888652Z",
     "iopub.status.busy": "2023-10-21T23:40:31.888219Z",
     "iopub.status.idle": "2023-10-21T23:40:31.894961Z",
     "shell.execute_reply": "2023-10-21T23:40:31.894316Z"
    },
    "papermill": {
     "duration": 0.011449,
     "end_time": "2023-10-21T23:40:31.896501",
     "exception": false,
     "start_time": "2023-10-21T23:40:31.885052",
     "status": "completed"
    },
    "tags": []
   },
   "outputs": [],
   "source": [
    "pd.DataFrame({\n",
    "  'orders': tickets.groupby('ward_code').number_of_tickets.count(),\n",
    "  'tickets': tickets.groupby('ward_code').number_of_tickets.sum().astype(int),\n",
    "}).to_csv(os.path.join(OUTPUT_DIR, 'tickets_by_ward.csv'))"
   ]
  },
  {
   "cell_type": "code",
   "execution_count": 9,
   "id": "f5102cd1",
   "metadata": {
    "execution": {
     "iopub.execute_input": "2023-10-21T23:40:31.902718Z",
     "iopub.status.busy": "2023-10-21T23:40:31.902260Z",
     "iopub.status.idle": "2023-10-21T23:40:31.910270Z",
     "shell.execute_reply": "2023-10-21T23:40:31.909681Z"
    },
    "papermill": {
     "duration": 0.012615,
     "end_time": "2023-10-21T23:40:31.911709",
     "exception": false,
     "start_time": "2023-10-21T23:40:31.899094",
     "status": "completed"
    },
    "tags": []
   },
   "outputs": [],
   "source": [
    "pd.DataFrame({\n",
    "  'orders': tickets.groupby('event_date').number_of_tickets.count(),\n",
    "  'tickets': tickets.groupby('event_date').number_of_tickets.sum().astype(int),\n",
    "}).resample('M').sum().to_csv(os.path.join(OUTPUT_DIR, 'tickets_by_event_date.csv'))"
   ]
  },
  {
   "cell_type": "code",
   "execution_count": 10,
   "id": "afc1b8fe",
   "metadata": {
    "execution": {
     "iopub.execute_input": "2023-10-21T23:40:31.918390Z",
     "iopub.status.busy": "2023-10-21T23:40:31.917795Z",
     "iopub.status.idle": "2023-10-21T23:40:31.923260Z",
     "shell.execute_reply": "2023-10-21T23:40:31.922614Z"
    },
    "papermill": {
     "duration": 0.010358,
     "end_time": "2023-10-21T23:40:31.924706",
     "exception": false,
     "start_time": "2023-10-21T23:40:31.914348",
     "status": "completed"
    },
    "tags": []
   },
   "outputs": [],
   "source": [
    "pd.Series({\n",
    "    'total_events': events.event_unique_identifier.count(),\n",
    "    'total_attendances': events.attendances.count(),\n",
    "    'first_event': events.date.min(),\n",
    "    'latest_event': events.date.max(),\n",
    "    'total_ticket_orders_for_events_to_date': tickets.number_of_tickets.count(),\n",
    "    'total_tickets_sold_for_events_to_date': tickets.number_of_tickets.sum(),\n",
    "}).to_json(os.path.join(OUTPUT_DIR, 'headlines.json'), indent=2)"
   ]
  },
  {
   "cell_type": "code",
   "execution_count": null,
   "id": "723e4317",
   "metadata": {
    "papermill": {
     "duration": 0.002504,
     "end_time": "2023-10-21T23:40:31.929734",
     "exception": false,
     "start_time": "2023-10-21T23:40:31.927230",
     "status": "completed"
    },
    "tags": []
   },
   "outputs": [],
   "source": []
  }
 ],
 "metadata": {
  "kernelspec": {
   "display_name": "leeds-2023-YZF5GfJv",
   "language": "python",
   "name": "python3"
  },
  "language_info": {
   "codemirror_mode": {
    "name": "ipython",
    "version": 3
   },
   "file_extension": ".py",
   "mimetype": "text/x-python",
   "name": "python",
   "nbconvert_exporter": "python",
   "pygments_lexer": "ipython3",
   "version": "3.10.13"
  },
  "papermill": {
   "default_parameters": {},
   "duration": 12.372779,
   "end_time": "2023-10-21T23:40:32.248889",
   "environment_variables": {},
   "exception": null,
   "input_path": "prepare.ipynb",
   "output_path": "../../../../working/output/signature-prepare.ipynb",
   "parameters": {},
   "start_time": "2023-10-21T23:40:19.876110",
   "version": "2.4.0"
  }
 },
 "nbformat": 4,
 "nbformat_minor": 5
}