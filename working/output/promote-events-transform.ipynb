{
 "cells": [
  {
   "cell_type": "code",
   "execution_count": 1,
   "id": "29320a5f",
   "metadata": {
    "execution": {
     "iopub.execute_input": "2023-07-16T23:39:26.574873Z",
     "iopub.status.busy": "2023-07-16T23:39:26.574367Z",
     "iopub.status.idle": "2023-07-16T23:39:26.806606Z",
     "shell.execute_reply": "2023-07-16T23:39:26.805987Z"
    },
    "papermill": {
     "duration": 0.237167,
     "end_time": "2023-07-16T23:39:26.808670",
     "exception": false,
     "start_time": "2023-07-16T23:39:26.571503",
     "status": "completed"
    },
    "tags": []
   },
   "outputs": [],
   "source": [
    "import os\n",
    "import pandas as pd"
   ]
  },
  {
   "cell_type": "code",
   "execution_count": 2,
   "id": "e1430c3d",
   "metadata": {
    "execution": {
     "iopub.execute_input": "2023-07-16T23:39:26.812651Z",
     "iopub.status.busy": "2023-07-16T23:39:26.812240Z",
     "iopub.status.idle": "2023-07-16T23:39:26.815724Z",
     "shell.execute_reply": "2023-07-16T23:39:26.814917Z"
    },
    "papermill": {
     "duration": 0.00685,
     "end_time": "2023-07-16T23:39:26.817023",
     "exception": false,
     "start_time": "2023-07-16T23:39:26.810173",
     "status": "completed"
    },
    "tags": []
   },
   "outputs": [],
   "source": [
    "EVENTS_RAW_DATA = '../../../working/metrics/promote-events/events.csv'\n",
    "DATA_DIR = '../../../data/metrics/events/promote-events/'\n",
    "EVENTS_DATA = os.path.join(DATA_DIR, 'events.csv')"
   ]
  },
  {
   "cell_type": "code",
   "execution_count": 3,
   "id": "b892f83a",
   "metadata": {
    "execution": {
     "iopub.execute_input": "2023-07-16T23:39:26.820355Z",
     "iopub.status.busy": "2023-07-16T23:39:26.819962Z",
     "iopub.status.idle": "2023-07-16T23:39:26.823116Z",
     "shell.execute_reply": "2023-07-16T23:39:26.822531Z"
    },
    "papermill": {
     "duration": 0.006244,
     "end_time": "2023-07-16T23:39:26.824412",
     "exception": false,
     "start_time": "2023-07-16T23:39:26.818168",
     "status": "completed"
    },
    "tags": []
   },
   "outputs": [],
   "source": [
    "columns = {\n",
    "    'id': 'id',\n",
    "    'name': 'name',\n",
    "    'locationName': 'location',\n",
    "    'cardPrice': 'card_price',\n",
    "    'timeslots': 'time',\n",
    "    'displayOnWebsite': 'display',\n",
    "    'Stage': 'stage',\n",
    "}"
   ]
  },
  {
   "cell_type": "code",
   "execution_count": 4,
   "id": "fcd563f1",
   "metadata": {
    "execution": {
     "iopub.execute_input": "2023-07-16T23:39:26.827549Z",
     "iopub.status.busy": "2023-07-16T23:39:26.827352Z",
     "iopub.status.idle": "2023-07-16T23:39:26.838492Z",
     "shell.execute_reply": "2023-07-16T23:39:26.837954Z"
    },
    "papermill": {
     "duration": 0.014372,
     "end_time": "2023-07-16T23:39:26.839950",
     "exception": false,
     "start_time": "2023-07-16T23:39:26.825578",
     "status": "completed"
    },
    "tags": []
   },
   "outputs": [],
   "source": [
    "data = pd.read_csv(EVENTS_RAW_DATA)[columns.keys()].rename(columns=columns)\n",
    "data.time = pd.to_datetime(data.time, errors='coerce')"
   ]
  },
  {
   "cell_type": "code",
   "execution_count": 5,
   "id": "697b9aa4",
   "metadata": {
    "execution": {
     "iopub.execute_input": "2023-07-16T23:39:26.843624Z",
     "iopub.status.busy": "2023-07-16T23:39:26.843141Z",
     "iopub.status.idle": "2023-07-16T23:39:26.850303Z",
     "shell.execute_reply": "2023-07-16T23:39:26.849775Z"
    },
    "papermill": {
     "duration": 0.010553,
     "end_time": "2023-07-16T23:39:26.851759",
     "exception": false,
     "start_time": "2023-07-16T23:39:26.841206",
     "status": "completed"
    },
    "tags": []
   },
   "outputs": [],
   "source": [
    "data.to_csv(os.path.join(DATA_DIR, 'events.csv'), index=False)"
   ]
  }
 ],
 "metadata": {
  "kernelspec": {
   "display_name": "leeds-2023-YZF5GfJv",
   "language": "python",
   "name": "python3"
  },
  "language_info": {
   "codemirror_mode": {
    "name": "ipython",
    "version": 3
   },
   "file_extension": ".py",
   "mimetype": "text/x-python",
   "name": "python",
   "nbconvert_exporter": "python",
   "pygments_lexer": "ipython3",
   "version": "3.10.6"
  },
  "papermill": {
   "default_parameters": {},
   "duration": 1.813365,
   "end_time": "2023-07-16T23:39:27.069970",
   "environment_variables": {},
   "exception": null,
   "input_path": "transform.ipynb",
   "output_path": "../../../working/output/promote-events-transform.ipynb",
   "parameters": {},
   "start_time": "2023-07-16T23:39:25.256605",
   "version": "2.4.0"
  }
 },
 "nbformat": 4,
 "nbformat_minor": 5
}