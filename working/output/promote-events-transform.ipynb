{
 "cells": [
  {
   "cell_type": "code",
   "execution_count": 1,
   "id": "c88798d3",
   "metadata": {
    "execution": {
     "iopub.execute_input": "2023-08-25T23:39:21.012039Z",
     "iopub.status.busy": "2023-08-25T23:39:21.011217Z",
     "iopub.status.idle": "2023-08-25T23:39:21.276682Z",
     "shell.execute_reply": "2023-08-25T23:39:21.275932Z"
    },
    "papermill": {
     "duration": 0.271539,
     "end_time": "2023-08-25T23:39:21.279093",
     "exception": false,
     "start_time": "2023-08-25T23:39:21.007554",
     "status": "completed"
    },
    "tags": []
   },
   "outputs": [],
   "source": [
    "import os\n",
    "import pandas as pd"
   ]
  },
  {
   "cell_type": "code",
   "execution_count": 2,
   "id": "e28ab87d",
   "metadata": {
    "execution": {
     "iopub.execute_input": "2023-08-25T23:39:21.283806Z",
     "iopub.status.busy": "2023-08-25T23:39:21.283240Z",
     "iopub.status.idle": "2023-08-25T23:39:21.286809Z",
     "shell.execute_reply": "2023-08-25T23:39:21.286159Z"
    },
    "papermill": {
     "duration": 0.00772,
     "end_time": "2023-08-25T23:39:21.288490",
     "exception": false,
     "start_time": "2023-08-25T23:39:21.280770",
     "status": "completed"
    },
    "tags": []
   },
   "outputs": [],
   "source": [
    "EVENTS_RAW_DATA = '../../../working/metrics/promote-events/events.csv'\n",
    "DATA_DIR = '../../../data/metrics/events/promote-events/'\n",
    "EVENTS_DATA = os.path.join(DATA_DIR, 'events.csv')"
   ]
  },
  {
   "cell_type": "code",
   "execution_count": 3,
   "id": "0ac28244",
   "metadata": {
    "execution": {
     "iopub.execute_input": "2023-08-25T23:39:21.292133Z",
     "iopub.status.busy": "2023-08-25T23:39:21.291703Z",
     "iopub.status.idle": "2023-08-25T23:39:21.295088Z",
     "shell.execute_reply": "2023-08-25T23:39:21.294423Z"
    },
    "papermill": {
     "duration": 0.007047,
     "end_time": "2023-08-25T23:39:21.296746",
     "exception": false,
     "start_time": "2023-08-25T23:39:21.289699",
     "status": "completed"
    },
    "tags": []
   },
   "outputs": [],
   "source": [
    "columns = {\n",
    "    'id': 'id',\n",
    "    'name': 'name',\n",
    "    'locationName': 'location',\n",
    "    'cardPrice': 'card_price',\n",
    "    'timeslots': 'time',\n",
    "    # 'displayOnWebsite': 'display',\n",
    "    'Stage': 'stage',\n",
    "}"
   ]
  },
  {
   "cell_type": "code",
   "execution_count": 4,
   "id": "4d37f3bf",
   "metadata": {
    "execution": {
     "iopub.execute_input": "2023-08-25T23:39:21.300441Z",
     "iopub.status.busy": "2023-08-25T23:39:21.299923Z",
     "iopub.status.idle": "2023-08-25T23:39:21.310673Z",
     "shell.execute_reply": "2023-08-25T23:39:21.310097Z"
    },
    "papermill": {
     "duration": 0.01419,
     "end_time": "2023-08-25T23:39:21.312148",
     "exception": false,
     "start_time": "2023-08-25T23:39:21.297958",
     "status": "completed"
    },
    "tags": []
   },
   "outputs": [],
   "source": [
    "data = pd.read_csv(EVENTS_RAW_DATA)[columns.keys()].rename(columns=columns)\n",
    "data.time = pd.to_datetime(data.time, errors='coerce')"
   ]
  },
  {
   "cell_type": "code",
   "execution_count": 5,
   "id": "e18b427a",
   "metadata": {
    "execution": {
     "iopub.execute_input": "2023-08-25T23:39:21.316077Z",
     "iopub.status.busy": "2023-08-25T23:39:21.315651Z",
     "iopub.status.idle": "2023-08-25T23:39:21.321292Z",
     "shell.execute_reply": "2023-08-25T23:39:21.320740Z"
    },
    "papermill": {
     "duration": 0.009342,
     "end_time": "2023-08-25T23:39:21.322851",
     "exception": false,
     "start_time": "2023-08-25T23:39:21.313509",
     "status": "completed"
    },
    "tags": []
   },
   "outputs": [],
   "source": [
    "data.to_csv(os.path.join(DATA_DIR, 'events.csv'), index=False)"
   ]
  }
 ],
 "metadata": {
  "kernelspec": {
   "display_name": "leeds-2023-YZF5GfJv",
   "language": "python",
   "name": "python3"
  },
  "language_info": {
   "codemirror_mode": {
    "name": "ipython",
    "version": 3
   },
   "file_extension": ".py",
   "mimetype": "text/x-python",
   "name": "python",
   "nbconvert_exporter": "python",
   "pygments_lexer": "ipython3",
   "version": "3.10.12"
  },
  "papermill": {
   "default_parameters": {},
   "duration": 1.93656,
   "end_time": "2023-08-25T23:39:21.540483",
   "environment_variables": {},
   "exception": null,
   "input_path": "transform.ipynb",
   "output_path": "../../../working/output/promote-events-transform.ipynb",
   "parameters": {},
   "start_time": "2023-08-25T23:39:19.603923",
   "version": "2.4.0"
  }
 },
 "nbformat": 4,
 "nbformat_minor": 5
}