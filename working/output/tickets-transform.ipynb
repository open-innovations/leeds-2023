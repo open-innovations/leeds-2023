{
 "cells": [
  {
   "cell_type": "code",
   "execution_count": 1,
   "id": "e66b9a2f",
   "metadata": {
    "execution": {
     "iopub.execute_input": "2023-12-26T23:39:27.765601Z",
     "iopub.status.busy": "2023-12-26T23:39:27.765156Z",
     "iopub.status.idle": "2023-12-26T23:39:28.015563Z",
     "shell.execute_reply": "2023-12-26T23:39:28.014949Z"
    },
    "papermill": {
     "duration": 0.256297,
     "end_time": "2023-12-26T23:39:28.017269",
     "exception": false,
     "start_time": "2023-12-26T23:39:27.760972",
     "status": "completed"
    },
    "tags": []
   },
   "outputs": [],
   "source": [
    "import sys\n",
    "from pathlib import Path\n",
    "\n",
    "import pandas as pd\n",
    "\n",
    "TOP_DIR = Path('../../../..').resolve()\n",
    "\n",
    "if str(TOP_DIR) not in sys.path: sys.path.append(str(TOP_DIR))"
   ]
  },
  {
   "cell_type": "code",
   "execution_count": 2,
   "id": "d06bedbd",
   "metadata": {
    "execution": {
     "iopub.execute_input": "2023-12-26T23:39:28.023929Z",
     "iopub.status.busy": "2023-12-26T23:39:28.023428Z",
     "iopub.status.idle": "2023-12-26T23:39:35.177479Z",
     "shell.execute_reply": "2023-12-26T23:39:35.176871Z"
    },
    "papermill": {
     "duration": 7.159167,
     "end_time": "2023-12-26T23:39:35.179236",
     "exception": false,
     "start_time": "2023-12-26T23:39:28.020069",
     "status": "completed"
    },
    "tags": []
   },
   "outputs": [],
   "source": [
    "from lib.util.geo import postcode_formatter, postcode_to_ward_code"
   ]
  },
  {
   "cell_type": "code",
   "execution_count": 3,
   "id": "522299fe",
   "metadata": {
    "execution": {
     "iopub.execute_input": "2023-12-26T23:39:35.186036Z",
     "iopub.status.busy": "2023-12-26T23:39:35.185808Z",
     "iopub.status.idle": "2023-12-26T23:39:35.208638Z",
     "shell.execute_reply": "2023-12-26T23:39:35.207953Z"
    },
    "papermill": {
     "duration": 0.028247,
     "end_time": "2023-12-26T23:39:35.210351",
     "exception": false,
     "start_time": "2023-12-26T23:39:35.182104",
     "status": "completed"
    },
    "tags": []
   },
   "outputs": [],
   "source": [
    "ticket_data = pd.read_csv(\n",
    "    '../../../../working/metrics/ticketing/orders.csv',\n",
    "    parse_dates=['created_at', 'event_date'],\n",
    "    usecols=[\n",
    "        'created_at',\n",
    "        'event_id',\n",
    "        'event_name',\n",
    "        'event_date',\n",
    "        'event_time',\n",
    "        'number_of_tickets',\n",
    "        'postcode_from_question',\n",
    "        'postcode_from_address',\n",
    "        'status',\n",
    "    ]\n",
    ")"
   ]
  },
  {
   "cell_type": "code",
   "execution_count": 4,
   "id": "5f9edbf4",
   "metadata": {
    "execution": {
     "iopub.execute_input": "2023-12-26T23:39:35.216634Z",
     "iopub.status.busy": "2023-12-26T23:39:35.216232Z",
     "iopub.status.idle": "2023-12-26T23:39:35.224876Z",
     "shell.execute_reply": "2023-12-26T23:39:35.224234Z"
    },
    "papermill": {
     "duration": 0.013136,
     "end_time": "2023-12-26T23:39:35.226198",
     "exception": false,
     "start_time": "2023-12-26T23:39:35.213062",
     "status": "completed"
    },
    "tags": []
   },
   "outputs": [
    {
     "name": "stdout",
     "output_type": "stream",
     "text": [
      "<class 'pandas.core.frame.DataFrame'>\n",
      "RangeIndex: 7108 entries, 0 to 7107\n",
      "Data columns (total 9 columns):\n",
      " #   Column                  Non-Null Count  Dtype         \n",
      "---  ------                  --------------  -----         \n",
      " 0   postcode_from_question  6663 non-null   object        \n",
      " 1   postcode_from_address   867 non-null    object        \n",
      " 2   created_at              7108 non-null   datetime64[ns]\n",
      " 3   event_id                7108 non-null   object        \n",
      " 4   event_name              7108 non-null   object        \n",
      " 5   event_date              7108 non-null   datetime64[ns]\n",
      " 6   event_time              7108 non-null   object        \n",
      " 7   number_of_tickets       7108 non-null   int64         \n",
      " 8   status                  7108 non-null   object        \n",
      "dtypes: datetime64[ns](2), int64(1), object(6)\n",
      "memory usage: 499.9+ KB\n"
     ]
    }
   ],
   "source": [
    "ticket_data.info()"
   ]
  },
  {
   "cell_type": "code",
   "execution_count": 5,
   "id": "5b88c261",
   "metadata": {
    "execution": {
     "iopub.execute_input": "2023-12-26T23:39:35.235395Z",
     "iopub.status.busy": "2023-12-26T23:39:35.234978Z",
     "iopub.status.idle": "2023-12-26T23:39:35.240208Z",
     "shell.execute_reply": "2023-12-26T23:39:35.239689Z"
    },
    "papermill": {
     "duration": 0.012485,
     "end_time": "2023-12-26T23:39:35.241512",
     "exception": false,
     "start_time": "2023-12-26T23:39:35.229027",
     "status": "completed"
    },
    "tags": []
   },
   "outputs": [],
   "source": [
    "completed_orders = (\n",
    "    ticket_data.loc[\n",
    "        ~ticket_data.status.isin(['cancelled']),\n",
    "        ticket_data.columns\n",
    "    ]\n",
    ")"
   ]
  },
  {
   "cell_type": "code",
   "execution_count": 6,
   "id": "8d215bb3",
   "metadata": {
    "execution": {
     "iopub.execute_input": "2023-12-26T23:39:35.248026Z",
     "iopub.status.busy": "2023-12-26T23:39:35.247483Z",
     "iopub.status.idle": "2023-12-26T23:39:36.171532Z",
     "shell.execute_reply": "2023-12-26T23:39:36.170774Z"
    },
    "papermill": {
     "duration": 0.92918,
     "end_time": "2023-12-26T23:39:36.173330",
     "exception": false,
     "start_time": "2023-12-26T23:39:35.244150",
     "status": "completed"
    },
    "tags": []
   },
   "outputs": [],
   "source": [
    "completed_orders['ward_code'] = (\n",
    "    completed_orders\n",
    "        .loc[:, ['postcode_from_question', 'postcode_from_address']]\n",
    "        .bfill()\n",
    "        .iloc[:, 0]\n",
    "        .pipe(postcode_formatter)\n",
    "        .map(postcode_to_ward_code)\n",
    ")"
   ]
  },
  {
   "cell_type": "markdown",
   "id": "4fe38a79",
   "metadata": {
    "papermill": {
     "duration": 0.002672,
     "end_time": "2023-12-26T23:39:36.179851",
     "exception": false,
     "start_time": "2023-12-26T23:39:36.177179",
     "status": "completed"
    },
    "tags": []
   },
   "source": [
    "Get the events data"
   ]
  },
  {
   "cell_type": "code",
   "execution_count": 7,
   "id": "738afc6e",
   "metadata": {
    "execution": {
     "iopub.execute_input": "2023-12-26T23:39:36.186333Z",
     "iopub.status.busy": "2023-12-26T23:39:36.185897Z",
     "iopub.status.idle": "2023-12-26T23:39:36.202379Z",
     "shell.execute_reply": "2023-12-26T23:39:36.201834Z"
    },
    "papermill": {
     "duration": 0.021497,
     "end_time": "2023-12-26T23:39:36.203923",
     "exception": false,
     "start_time": "2023-12-26T23:39:36.182426",
     "status": "completed"
    },
    "tags": []
   },
   "outputs": [],
   "source": [
    "def prepare_events(data: pd.DataFrame):\n",
    "    data = data.rename(columns={\n",
    "        'Project name': 'project_name',\n",
    "        'Event type': 'event_type',\n",
    "        'Ticket Tailor ID': 'ticket_tailor_id'\n",
    "    })\n",
    "    data['public_event'] = data.event_type.str.contains('Public Event')\n",
    "    data['ticket_tailor_id'] = data.ticket_tailor_id.str.split(\n",
    "        pat=r'[\\s,]+', regex=True)\n",
    "    data = data.drop(columns=['event_type'])\n",
    "    data = data.explode('ticket_tailor_id')\n",
    "    data = data.loc[data.ticket_tailor_id.notna() & (data.ticket_tailor_id != '')]\n",
    "    return data\n",
    "\n",
    "\n",
    "events = pd.read_csv(\n",
    "    '../../../../working/metrics/events/all.csv',\n",
    "    usecols=[\n",
    "        'Project name',\n",
    "        'Event type',\n",
    "        'Ticket Tailor ID'\n",
    "    ]\n",
    ").pipe(prepare_events)"
   ]
  },
  {
   "cell_type": "markdown",
   "id": "812a726a",
   "metadata": {
    "papermill": {
     "duration": 0.0026,
     "end_time": "2023-12-26T23:39:36.209351",
     "exception": false,
     "start_time": "2023-12-26T23:39:36.206751",
     "status": "completed"
    },
    "tags": []
   },
   "source": [
    "Duplicated ticket tailor IDs"
   ]
  },
  {
   "cell_type": "code",
   "execution_count": 8,
   "id": "f3ece113",
   "metadata": {
    "execution": {
     "iopub.execute_input": "2023-12-26T23:39:36.215487Z",
     "iopub.status.busy": "2023-12-26T23:39:36.215253Z",
     "iopub.status.idle": "2023-12-26T23:39:36.226837Z",
     "shell.execute_reply": "2023-12-26T23:39:36.226225Z"
    },
    "papermill": {
     "duration": 0.016296,
     "end_time": "2023-12-26T23:39:36.228239",
     "exception": false,
     "start_time": "2023-12-26T23:39:36.211943",
     "status": "completed"
    },
    "tags": []
   },
   "outputs": [
    {
     "data": {
      "text/html": [
       "<div>\n",
       "<style scoped>\n",
       "    .dataframe tbody tr th:only-of-type {\n",
       "        vertical-align: middle;\n",
       "    }\n",
       "\n",
       "    .dataframe tbody tr th {\n",
       "        vertical-align: top;\n",
       "    }\n",
       "\n",
       "    .dataframe thead th {\n",
       "        text-align: right;\n",
       "    }\n",
       "</style>\n",
       "<table border=\"1\" class=\"dataframe\">\n",
       "  <thead>\n",
       "    <tr style=\"text-align: right;\">\n",
       "      <th></th>\n",
       "      <th>project_name</th>\n",
       "      <th>ticket_tailor_id</th>\n",
       "      <th>public_event</th>\n",
       "    </tr>\n",
       "  </thead>\n",
       "  <tbody>\n",
       "    <tr>\n",
       "      <th>127</th>\n",
       "      <td>11 - All That Lives</td>\n",
       "      <td>985872</td>\n",
       "      <td>True</td>\n",
       "    </tr>\n",
       "    <tr>\n",
       "      <th>147</th>\n",
       "      <td>09 - Smeaton300: Moon Palace East Leeds Observ...</td>\n",
       "      <td>ev_2918127</td>\n",
       "      <td>True</td>\n",
       "    </tr>\n",
       "    <tr>\n",
       "      <th>173</th>\n",
       "      <td>11 - All That Lives</td>\n",
       "      <td>985872</td>\n",
       "      <td>True</td>\n",
       "    </tr>\n",
       "    <tr>\n",
       "      <th>272</th>\n",
       "      <td>Creative Learning S3</td>\n",
       "      <td>ev_3073624</td>\n",
       "      <td>False</td>\n",
       "    </tr>\n",
       "    <tr>\n",
       "      <th>332</th>\n",
       "      <td>11 - All That Lives</td>\n",
       "      <td>985872</td>\n",
       "      <td>True</td>\n",
       "    </tr>\n",
       "    <tr>\n",
       "      <th>651</th>\n",
       "      <td>11 - All That Lives</td>\n",
       "      <td>985872</td>\n",
       "      <td>True</td>\n",
       "    </tr>\n",
       "    <tr>\n",
       "      <th>948</th>\n",
       "      <td>07 - Children's Day</td>\n",
       "      <td>ev_2963290</td>\n",
       "      <td>NaN</td>\n",
       "    </tr>\n",
       "    <tr>\n",
       "      <th>948</th>\n",
       "      <td>07 - Children's Day</td>\n",
       "      <td>ev_2963290</td>\n",
       "      <td>NaN</td>\n",
       "    </tr>\n",
       "    <tr>\n",
       "      <th>948</th>\n",
       "      <td>07 - Children's Day</td>\n",
       "      <td>ev_2963295</td>\n",
       "      <td>NaN</td>\n",
       "    </tr>\n",
       "    <tr>\n",
       "      <th>948</th>\n",
       "      <td>07 - Children's Day</td>\n",
       "      <td>ev_2963297</td>\n",
       "      <td>NaN</td>\n",
       "    </tr>\n",
       "    <tr>\n",
       "      <th>948</th>\n",
       "      <td>07 - Children's Day</td>\n",
       "      <td>ev_2963295</td>\n",
       "      <td>NaN</td>\n",
       "    </tr>\n",
       "    <tr>\n",
       "      <th>948</th>\n",
       "      <td>07 - Children's Day</td>\n",
       "      <td>ev_2963296</td>\n",
       "      <td>NaN</td>\n",
       "    </tr>\n",
       "    <tr>\n",
       "      <th>948</th>\n",
       "      <td>07 - Children's Day</td>\n",
       "      <td>ev_2963296</td>\n",
       "      <td>NaN</td>\n",
       "    </tr>\n",
       "    <tr>\n",
       "      <th>948</th>\n",
       "      <td>07 - Children's Day</td>\n",
       "      <td>ev_2963297</td>\n",
       "      <td>NaN</td>\n",
       "    </tr>\n",
       "    <tr>\n",
       "      <th>992</th>\n",
       "      <td>11 - All That Lives</td>\n",
       "      <td>985872</td>\n",
       "      <td>True</td>\n",
       "    </tr>\n",
       "    <tr>\n",
       "      <th>1172</th>\n",
       "      <td>09 - Smeaton300: Moon Palace East Leeds Observ...</td>\n",
       "      <td>ev_2918127</td>\n",
       "      <td>True</td>\n",
       "    </tr>\n",
       "    <tr>\n",
       "      <th>1462</th>\n",
       "      <td>07 - Children's Day</td>\n",
       "      <td>ev_2963290</td>\n",
       "      <td>True</td>\n",
       "    </tr>\n",
       "    <tr>\n",
       "      <th>1462</th>\n",
       "      <td>07 - Children's Day</td>\n",
       "      <td>ev_2963295</td>\n",
       "      <td>True</td>\n",
       "    </tr>\n",
       "    <tr>\n",
       "      <th>1462</th>\n",
       "      <td>07 - Children's Day</td>\n",
       "      <td>ev_2963296</td>\n",
       "      <td>True</td>\n",
       "    </tr>\n",
       "    <tr>\n",
       "      <th>1462</th>\n",
       "      <td>07 - Children's Day</td>\n",
       "      <td>ev_2963297</td>\n",
       "      <td>True</td>\n",
       "    </tr>\n",
       "    <tr>\n",
       "      <th>1482</th>\n",
       "      <td>09 - Smeaton300: Moon Palace East Leeds Observ...</td>\n",
       "      <td>ev_2918127</td>\n",
       "      <td>True</td>\n",
       "    </tr>\n",
       "    <tr>\n",
       "      <th>1567</th>\n",
       "      <td>Creative Learning S3</td>\n",
       "      <td>ev_3073624</td>\n",
       "      <td>False</td>\n",
       "    </tr>\n",
       "  </tbody>\n",
       "</table>\n",
       "</div>"
      ],
      "text/plain": [
       "                                           project_name ticket_tailor_id  \\\n",
       "127                                 11 - All That Lives           985872   \n",
       "147   09 - Smeaton300: Moon Palace East Leeds Observ...       ev_2918127   \n",
       "173                                 11 - All That Lives           985872   \n",
       "272                                Creative Learning S3       ev_3073624   \n",
       "332                                 11 - All That Lives           985872   \n",
       "651                                 11 - All That Lives           985872   \n",
       "948                                 07 - Children's Day       ev_2963290   \n",
       "948                                 07 - Children's Day       ev_2963290   \n",
       "948                                 07 - Children's Day       ev_2963295   \n",
       "948                                 07 - Children's Day       ev_2963297   \n",
       "948                                 07 - Children's Day       ev_2963295   \n",
       "948                                 07 - Children's Day       ev_2963296   \n",
       "948                                 07 - Children's Day       ev_2963296   \n",
       "948                                 07 - Children's Day       ev_2963297   \n",
       "992                                 11 - All That Lives           985872   \n",
       "1172  09 - Smeaton300: Moon Palace East Leeds Observ...       ev_2918127   \n",
       "1462                                07 - Children's Day       ev_2963290   \n",
       "1462                                07 - Children's Day       ev_2963295   \n",
       "1462                                07 - Children's Day       ev_2963296   \n",
       "1462                                07 - Children's Day       ev_2963297   \n",
       "1482  09 - Smeaton300: Moon Palace East Leeds Observ...       ev_2918127   \n",
       "1567                               Creative Learning S3       ev_3073624   \n",
       "\n",
       "     public_event  \n",
       "127          True  \n",
       "147          True  \n",
       "173          True  \n",
       "272         False  \n",
       "332          True  \n",
       "651          True  \n",
       "948           NaN  \n",
       "948           NaN  \n",
       "948           NaN  \n",
       "948           NaN  \n",
       "948           NaN  \n",
       "948           NaN  \n",
       "948           NaN  \n",
       "948           NaN  \n",
       "992          True  \n",
       "1172         True  \n",
       "1462         True  \n",
       "1462         True  \n",
       "1462         True  \n",
       "1462         True  \n",
       "1482         True  \n",
       "1567        False  "
      ]
     },
     "execution_count": 8,
     "metadata": {},
     "output_type": "execute_result"
    }
   ],
   "source": [
    "events[\n",
    "  events.ticket_tailor_id.isin(\n",
    "    events.ticket_tailor_id[\n",
    "      events.ticket_tailor_id.duplicated()\n",
    "    ].to_list()\n",
    "  )\n",
    "]"
   ]
  },
  {
   "cell_type": "code",
   "execution_count": 9,
   "id": "225a8fcc",
   "metadata": {
    "execution": {
     "iopub.execute_input": "2023-12-26T23:39:36.235111Z",
     "iopub.status.busy": "2023-12-26T23:39:36.234741Z",
     "iopub.status.idle": "2023-12-26T23:39:36.238764Z",
     "shell.execute_reply": "2023-12-26T23:39:36.238175Z"
    },
    "papermill": {
     "duration": 0.008987,
     "end_time": "2023-12-26T23:39:36.240162",
     "exception": false,
     "start_time": "2023-12-26T23:39:36.231175",
     "status": "completed"
    },
    "tags": []
   },
   "outputs": [
    {
     "data": {
      "text/plain": [
       "6912"
      ]
     },
     "execution_count": 9,
     "metadata": {},
     "output_type": "execute_result"
    }
   ],
   "source": [
    "len(completed_orders)"
   ]
  },
  {
   "cell_type": "code",
   "execution_count": 10,
   "id": "2b35f7a2",
   "metadata": {
    "execution": {
     "iopub.execute_input": "2023-12-26T23:39:36.247144Z",
     "iopub.status.busy": "2023-12-26T23:39:36.246694Z",
     "iopub.status.idle": "2023-12-26T23:39:36.260857Z",
     "shell.execute_reply": "2023-12-26T23:39:36.260216Z"
    },
    "papermill": {
     "duration": 0.019366,
     "end_time": "2023-12-26T23:39:36.262477",
     "exception": false,
     "start_time": "2023-12-26T23:39:36.243111",
     "status": "completed"
    },
    "tags": []
   },
   "outputs": [],
   "source": [
    "completed_orders = completed_orders.merge(\n",
    "    events.drop_duplicates().set_index('ticket_tailor_id'),\n",
    "    left_on='event_id',\n",
    "    right_index=True,\n",
    "    how='left'\n",
    ")\n",
    "completed_orders['event_datetime'] = pd.to_datetime(completed_orders.event_date.astype(str) + 'T' + completed_orders.event_time)\n"
   ]
  },
  {
   "cell_type": "code",
   "execution_count": 11,
   "id": "58c95d95",
   "metadata": {
    "execution": {
     "iopub.execute_input": "2023-12-26T23:39:36.269562Z",
     "iopub.status.busy": "2023-12-26T23:39:36.269222Z",
     "iopub.status.idle": "2023-12-26T23:39:36.273440Z",
     "shell.execute_reply": "2023-12-26T23:39:36.272889Z"
    },
    "papermill": {
     "duration": 0.009068,
     "end_time": "2023-12-26T23:39:36.274690",
     "exception": false,
     "start_time": "2023-12-26T23:39:36.265622",
     "status": "completed"
    },
    "tags": []
   },
   "outputs": [
    {
     "data": {
      "text/plain": [
       "6920"
      ]
     },
     "execution_count": 11,
     "metadata": {},
     "output_type": "execute_result"
    }
   ],
   "source": [
    "len(completed_orders)"
   ]
  },
  {
   "cell_type": "code",
   "execution_count": 12,
   "id": "f0ad84b8",
   "metadata": {
    "execution": {
     "iopub.execute_input": "2023-12-26T23:39:36.282395Z",
     "iopub.status.busy": "2023-12-26T23:39:36.281873Z",
     "iopub.status.idle": "2023-12-26T23:39:36.285210Z",
     "shell.execute_reply": "2023-12-26T23:39:36.284603Z"
    },
    "papermill": {
     "duration": 0.008546,
     "end_time": "2023-12-26T23:39:36.286518",
     "exception": false,
     "start_time": "2023-12-26T23:39:36.277972",
     "status": "completed"
    },
    "tags": []
   },
   "outputs": [],
   "source": [
    "OUTPUT_DIR = TOP_DIR.joinpath('data/metrics/events/tickets/')\n",
    "OUTPUT_DIR.mkdir(parents=True, exist_ok=True)"
   ]
  },
  {
   "cell_type": "code",
   "execution_count": 13,
   "id": "3b3b319e",
   "metadata": {
    "execution": {
     "iopub.execute_input": "2023-12-26T23:39:36.293757Z",
     "iopub.status.busy": "2023-12-26T23:39:36.293402Z",
     "iopub.status.idle": "2023-12-26T23:39:36.332312Z",
     "shell.execute_reply": "2023-12-26T23:39:36.331744Z"
    },
    "papermill": {
     "duration": 0.044156,
     "end_time": "2023-12-26T23:39:36.333845",
     "exception": false,
     "start_time": "2023-12-26T23:39:36.289689",
     "status": "completed"
    },
    "tags": []
   },
   "outputs": [],
   "source": [
    "completed_orders.loc[:, [\n",
    "    'created_at',\n",
    "    'event_id',\n",
    "    'event_date',\n",
    "    'event_datetime',\n",
    "    'number_of_tickets',\n",
    "    'ward_code',\n",
    "    'project_name',\n",
    "    'public_event',\n",
    "]].sort_values(['created_at', 'event_id']).to_csv(\n",
    "  OUTPUT_DIR.joinpath('orders.csv'),\n",
    "  index=False\n",
    ")"
   ]
  },
  {
   "cell_type": "code",
   "execution_count": 14,
   "id": "f4eae138",
   "metadata": {
    "execution": {
     "iopub.execute_input": "2023-12-26T23:39:36.341455Z",
     "iopub.status.busy": "2023-12-26T23:39:36.341008Z",
     "iopub.status.idle": "2023-12-26T23:39:36.350300Z",
     "shell.execute_reply": "2023-12-26T23:39:36.349678Z"
    },
    "papermill": {
     "duration": 0.014567,
     "end_time": "2023-12-26T23:39:36.351761",
     "exception": false,
     "start_time": "2023-12-26T23:39:36.337194",
     "status": "completed"
    },
    "tags": []
   },
   "outputs": [],
   "source": [
    "(\n",
    "    completed_orders.loc[:, ['event_date', 'event_time', 'event_name', 'event_id', 'project_name', 'public_event']]\n",
    "      .drop_duplicates()\n",
    "      .sort_values(['event_date', 'event_time'])\n",
    "      .to_csv('../../../../data/metrics/events/tickets/events.csv', index=False)\n",
    ")"
   ]
  },
  {
   "cell_type": "code",
   "execution_count": 15,
   "id": "a4fb8184",
   "metadata": {
    "execution": {
     "iopub.execute_input": "2023-12-26T23:39:36.358994Z",
     "iopub.status.busy": "2023-12-26T23:39:36.358800Z",
     "iopub.status.idle": "2023-12-26T23:39:37.119138Z",
     "shell.execute_reply": "2023-12-26T23:39:37.118456Z"
    },
    "papermill": {
     "duration": 0.76575,
     "end_time": "2023-12-26T23:39:37.120673",
     "exception": false,
     "start_time": "2023-12-26T23:39:36.354923",
     "status": "completed"
    },
    "tags": []
   },
   "outputs": [
    {
     "data": {
      "image/png": "[encoded data removed]",
      "text/plain": [
       "<Figure size 640x480 with 1 Axes>"
      ]
     },
     "metadata": {},
     "output_type": "display_data"
    }
   ],
   "source": [
    "chart = completed_orders.groupby(['project_name']).number_of_tickets.sum().sort_values().plot.barh()"
   ]
  },
  {
   "cell_type": "code",
   "execution_count": 16,
   "id": "3e7e553e",
   "metadata": {
    "execution": {
     "iopub.execute_input": "2023-12-26T23:39:37.129635Z",
     "iopub.status.busy": "2023-12-26T23:39:37.129373Z",
     "iopub.status.idle": "2023-12-26T23:39:37.306700Z",
     "shell.execute_reply": "2023-12-26T23:39:37.305985Z"
    },
    "papermill": {
     "duration": 0.183386,
     "end_time": "2023-12-26T23:39:37.308195",
     "exception": false,
     "start_time": "2023-12-26T23:39:37.124809",
     "status": "completed"
    },
    "tags": []
   },
   "outputs": [
    {
     "data": {
      "image/png": "[encoded data removed]",
      "text/plain": [
       "<Figure size 640x480 with 1 Axes>"
      ]
     },
     "metadata": {},
     "output_type": "display_data"
    }
   ],
   "source": [
    "chart = completed_orders.groupby([\n",
    "    'event_date'\n",
    "    ]).number_of_tickets.sum().resample('M').sum().cumsum().plot.bar()"
   ]
  },
  {
   "cell_type": "code",
   "execution_count": null,
   "id": "3f31d140",
   "metadata": {
    "papermill": {
     "duration": 0.003997,
     "end_time": "2023-12-26T23:39:37.316434",
     "exception": false,
     "start_time": "2023-12-26T23:39:37.312437",
     "status": "completed"
    },
    "tags": []
   },
   "outputs": [],
   "source": []
  }
 ],
 "metadata": {
  "kernelspec": {
   "display_name": "leeds-2023-YZF5GfJv",
   "language": "python",
   "name": "python3"
  },
  "language_info": {
   "codemirror_mode": {
    "name": "ipython",
    "version": 3
   },
   "file_extension": ".py",
   "mimetype": "text/x-python",
   "name": "python",
   "nbconvert_exporter": "python",
   "pygments_lexer": "ipython3",
   "version": "3.10.13"
  },
  "papermill": {
   "default_parameters": {},
   "duration": 11.13958,
   "end_time": "2023-12-26T23:39:37.636929",
   "environment_variables": {},
   "exception": null,
   "input_path": "tickets.ipynb",
   "output_path": "../../../../working/output/tickets-transform.ipynb",
   "parameters": {},
   "start_time": "2023-12-26T23:39:26.497349",
   "version": "2.4.0"
  }
 },
 "nbformat": 4,
 "nbformat_minor": 5
}