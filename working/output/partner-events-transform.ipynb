{
 "cells": [
  {
   "cell_type": "code",
   "execution_count": 1,
   "id": "6401bfa9",
   "metadata": {
    "execution": {
     "iopub.execute_input": "2023-07-20T13:26:41.007024Z",
     "iopub.status.busy": "2023-07-20T13:26:41.006294Z",
     "iopub.status.idle": "2023-07-20T13:26:41.321699Z",
     "shell.execute_reply": "2023-07-20T13:26:41.320852Z"
    },
    "papermill": {
     "duration": 0.322439,
     "end_time": "2023-07-20T13:26:41.324088",
     "exception": false,
     "start_time": "2023-07-20T13:26:41.001649",
     "status": "completed"
    },
    "tags": []
   },
   "outputs": [],
   "source": [
    "import os\n",
    "import sys\n",
    "import pandas as pd\n",
    "lib_dir = os.path.realpath('../../../lib/')\n",
    "if lib_dir not in sys.path: sys.path.append(lib_dir)"
   ]
  },
  {
   "cell_type": "code",
   "execution_count": 2,
   "id": "dc367e51",
   "metadata": {
    "execution": {
     "iopub.execute_input": "2023-07-20T13:26:41.333398Z",
     "iopub.status.busy": "2023-07-20T13:26:41.332397Z",
     "iopub.status.idle": "2023-07-20T13:26:52.039641Z",
     "shell.execute_reply": "2023-07-20T13:26:52.038787Z"
    },
    "papermill": {
     "duration": 10.713515,
     "end_time": "2023-07-20T13:26:52.042081",
     "exception": false,
     "start_time": "2023-07-20T13:26:41.328566",
     "status": "completed"
    },
    "tags": []
   },
   "outputs": [],
   "source": [
    "import util.geo"
   ]
  },
  {
   "cell_type": "code",
   "execution_count": 3,
   "id": "676f4874",
   "metadata": {
    "execution": {
     "iopub.execute_input": "2023-07-20T13:26:52.049349Z",
     "iopub.status.busy": "2023-07-20T13:26:52.048940Z",
     "iopub.status.idle": "2023-07-20T13:26:52.053004Z",
     "shell.execute_reply": "2023-07-20T13:26:52.052204Z"
    },
    "papermill": {
     "duration": 0.009733,
     "end_time": "2023-07-20T13:26:52.054929",
     "exception": false,
     "start_time": "2023-07-20T13:26:52.045196",
     "status": "completed"
    },
    "tags": []
   },
   "outputs": [],
   "source": [
    "EVENTS_RAW_DATA = '../../../working/metrics/partner-events/events.csv'\n",
    "DATA_DIR = '../../../data/metrics/events/partner-events/'\n",
    "EVENTS_DATA = os.path.join(DATA_DIR, 'events.csv')"
   ]
  },
  {
   "cell_type": "code",
   "execution_count": 4,
   "id": "fc2f4fd7",
   "metadata": {
    "execution": {
     "iopub.execute_input": "2023-07-20T13:26:52.062140Z",
     "iopub.status.busy": "2023-07-20T13:26:52.061661Z",
     "iopub.status.idle": "2023-07-20T13:26:52.067138Z",
     "shell.execute_reply": "2023-07-20T13:26:52.066400Z"
    },
    "papermill": {
     "duration": 0.011566,
     "end_time": "2023-07-20T13:26:52.069096",
     "exception": false,
     "start_time": "2023-07-20T13:26:52.057530",
     "status": "completed"
    },
    "tags": []
   },
   "outputs": [],
   "source": [
    "columns = {\n",
    "    'Event Name': 'name',\n",
    "    'Event Start Date': 'start_date',\n",
    "    'Event End Date': 'end_date',\n",
    "    'Partner/Promote': 'partner_promote',\n",
    "    'Stage': 'stage',\n",
    "    'Live date': 'live_date',\n",
    "    'Venue postcode': 'postcode',\n",
    "    'Pricing Policy': 'pricing',\n",
    "    'Venue - including address': 'venue',\n",
    "    'Is this event on Leeds Inspried?': 'on_leeds_inspired',\n",
    "}"
   ]
  },
  {
   "cell_type": "markdown",
   "id": "a24acf82",
   "metadata": {
    "papermill": {
     "duration": 0.002616,
     "end_time": "2023-07-20T13:26:52.074933",
     "exception": false,
     "start_time": "2023-07-20T13:26:52.072317",
     "status": "completed"
    },
    "tags": []
   },
   "source": [
    "Load the data and rename columns. Parse the dates to dates."
   ]
  },
  {
   "cell_type": "code",
   "execution_count": 5,
   "id": "1a0a9db7",
   "metadata": {
    "execution": {
     "iopub.execute_input": "2023-07-20T13:26:52.082129Z",
     "iopub.status.busy": "2023-07-20T13:26:52.081540Z",
     "iopub.status.idle": "2023-07-20T13:26:52.094858Z",
     "shell.execute_reply": "2023-07-20T13:26:52.094128Z"
    },
    "papermill": {
     "duration": 0.019225,
     "end_time": "2023-07-20T13:26:52.096768",
     "exception": false,
     "start_time": "2023-07-20T13:26:52.077543",
     "status": "completed"
    },
    "tags": []
   },
   "outputs": [],
   "source": [
    "data = pd.read_csv(EVENTS_RAW_DATA)[columns.keys()].rename(columns=columns)\n",
    "data.start_date = pd.to_datetime(data.start_date, errors='coerce')\n",
    "data.end_date = pd.to_datetime(data.end_date, errors='coerce')"
   ]
  },
  {
   "cell_type": "markdown",
   "id": "b354cee3",
   "metadata": {
    "papermill": {
     "duration": 0.003605,
     "end_time": "2023-07-20T13:26:52.103207",
     "exception": false,
     "start_time": "2023-07-20T13:26:52.099602",
     "status": "completed"
    },
    "tags": []
   },
   "source": [
    "Filter data by not LI Pull through and start date before now"
   ]
  },
  {
   "cell_type": "code",
   "execution_count": 6,
   "id": "672746d8",
   "metadata": {
    "execution": {
     "iopub.execute_input": "2023-07-20T13:26:52.110340Z",
     "iopub.status.busy": "2023-07-20T13:26:52.109897Z",
     "iopub.status.idle": "2023-07-20T13:26:52.116223Z",
     "shell.execute_reply": "2023-07-20T13:26:52.115479Z"
    },
    "papermill": {
     "duration": 0.01204,
     "end_time": "2023-07-20T13:26:52.118066",
     "exception": false,
     "start_time": "2023-07-20T13:26:52.106026",
     "status": "completed"
    },
    "tags": []
   },
   "outputs": [],
   "source": [
    "data = data[\n",
    "    # (data.live_date == 'This event is live ') &\n",
    "    ((data.stage != 'LI pull through') & data.stage.notna()) &\n",
    "    (data.start_date < pd.Timestamp.now())\n",
    "]"
   ]
  },
  {
   "cell_type": "code",
   "execution_count": 7,
   "id": "81235505",
   "metadata": {
    "execution": {
     "iopub.execute_input": "2023-07-20T13:26:52.125006Z",
     "iopub.status.busy": "2023-07-20T13:26:52.124626Z",
     "iopub.status.idle": "2023-07-20T13:26:53.633134Z",
     "shell.execute_reply": "2023-07-20T13:26:53.632278Z"
    },
    "papermill": {
     "duration": 1.51442,
     "end_time": "2023-07-20T13:26:53.635438",
     "exception": false,
     "start_time": "2023-07-20T13:26:52.121018",
     "status": "completed"
    },
    "tags": []
   },
   "outputs": [],
   "source": [
    "data['ward_code'] = data.postcode.pipe(util.geo.postcode_formatter).map(util.geo.postcode_to_ward_code)\n",
    "data['ward_name'] = data.ward_code.pipe(util.geo.ward_code_to_name)"
   ]
  },
  {
   "cell_type": "markdown",
   "id": "14e42e8e",
   "metadata": {
    "papermill": {
     "duration": 0.002818,
     "end_time": "2023-07-20T13:26:53.641999",
     "exception": false,
     "start_time": "2023-07-20T13:26:53.639181",
     "status": "completed"
    },
    "tags": []
   },
   "source": [
    "Save the file"
   ]
  },
  {
   "cell_type": "code",
   "execution_count": 8,
   "id": "9407b6d5",
   "metadata": {
    "execution": {
     "iopub.execute_input": "2023-07-20T13:26:53.649941Z",
     "iopub.status.busy": "2023-07-20T13:26:53.649126Z",
     "iopub.status.idle": "2023-07-20T13:26:53.657149Z",
     "shell.execute_reply": "2023-07-20T13:26:53.656252Z"
    },
    "papermill": {
     "duration": 0.014089,
     "end_time": "2023-07-20T13:26:53.659048",
     "exception": false,
     "start_time": "2023-07-20T13:26:53.644959",
     "status": "completed"
    },
    "tags": []
   },
   "outputs": [],
   "source": [
    "data[\n",
    "    ['name','start_date','end_date','ward_code']\n",
    "].to_csv(EVENTS_DATA, index=False)"
   ]
  },
  {
   "cell_type": "markdown",
   "id": "7c9db296",
   "metadata": {
    "papermill": {
     "duration": 0.002747,
     "end_time": "2023-07-20T13:26:53.664987",
     "exception": false,
     "start_time": "2023-07-20T13:26:53.662240",
     "status": "completed"
    },
    "tags": []
   },
   "source": [
    "Print out missing postcode data"
   ]
  },
  {
   "cell_type": "code",
   "execution_count": 9,
   "id": "c5e80ddf",
   "metadata": {
    "execution": {
     "iopub.execute_input": "2023-07-20T13:26:53.672570Z",
     "iopub.status.busy": "2023-07-20T13:26:53.671933Z",
     "iopub.status.idle": "2023-07-20T13:26:53.687290Z",
     "shell.execute_reply": "2023-07-20T13:26:53.686452Z"
    },
    "papermill": {
     "duration": 0.022254,
     "end_time": "2023-07-20T13:26:53.690103",
     "exception": false,
     "start_time": "2023-07-20T13:26:53.667849",
     "status": "completed"
    },
    "tags": []
   },
   "outputs": [
    {
     "data": {
      "text/html": [
       "<div>\n",
       "<style scoped>\n",
       "    .dataframe tbody tr th:only-of-type {\n",
       "        vertical-align: middle;\n",
       "    }\n",
       "\n",
       "    .dataframe tbody tr th {\n",
       "        vertical-align: top;\n",
       "    }\n",
       "\n",
       "    .dataframe thead th {\n",
       "        text-align: right;\n",
       "    }\n",
       "</style>\n",
       "<table border=\"1\" class=\"dataframe\">\n",
       "  <thead>\n",
       "    <tr style=\"text-align: right;\">\n",
       "      <th></th>\n",
       "      <th>name</th>\n",
       "      <th>start_date</th>\n",
       "    </tr>\n",
       "  </thead>\n",
       "  <tbody>\n",
       "    <tr>\n",
       "      <th>1</th>\n",
       "      <td>East Street Arts, A City Less Grey 2022</td>\n",
       "      <td>2022-10-08</td>\n",
       "    </tr>\n",
       "    <tr>\n",
       "      <th>3</th>\n",
       "      <td>Phoenix Dance Theatre Virtual Gallery</td>\n",
       "      <td>2023-01-01</td>\n",
       "    </tr>\n",
       "    <tr>\n",
       "      <th>4</th>\n",
       "      <td>The Big Art Giveaway, School of Creative Arts ...</td>\n",
       "      <td>2023-01-01</td>\n",
       "    </tr>\n",
       "    <tr>\n",
       "      <th>5</th>\n",
       "      <td>Embassy of Netherlands, Meet Leeds Lab</td>\n",
       "      <td>2023-01-16</td>\n",
       "    </tr>\n",
       "    <tr>\n",
       "      <th>6</th>\n",
       "      <td>Shifting Borders: A Journey to the Centre of o...</td>\n",
       "      <td>2023-01-24</td>\n",
       "    </tr>\n",
       "    <tr>\n",
       "      <th>12</th>\n",
       "      <td>Leeds Lit Fest 2023</td>\n",
       "      <td>2023-02-25</td>\n",
       "    </tr>\n",
       "    <tr>\n",
       "      <th>26</th>\n",
       "      <td>East Street Arts, Add Fuel</td>\n",
       "      <td>2023-04-01</td>\n",
       "    </tr>\n",
       "    <tr>\n",
       "      <th>43</th>\n",
       "      <td>Jamica Society Leeds, Out of Many Festival - T...</td>\n",
       "      <td>2023-05-01</td>\n",
       "    </tr>\n",
       "    <tr>\n",
       "      <th>44</th>\n",
       "      <td>Sayang, Si Polan - International residency in ...</td>\n",
       "      <td>2023-05-01</td>\n",
       "    </tr>\n",
       "    <tr>\n",
       "      <th>63</th>\n",
       "      <td>Leeds Jazz Festival 2023</td>\n",
       "      <td>2023-05-25</td>\n",
       "    </tr>\n",
       "    <tr>\n",
       "      <th>79</th>\n",
       "      <td>Keira Martin, Queenie and the Pooka (Performan...</td>\n",
       "      <td>2023-06-05</td>\n",
       "    </tr>\n",
       "    <tr>\n",
       "      <th>80</th>\n",
       "      <td>My LEEDS Summer: Kirkstall Makes + Moves</td>\n",
       "      <td>2023-06-11</td>\n",
       "    </tr>\n",
       "    <tr>\n",
       "      <th>83</th>\n",
       "      <td>My LEEDS Summer at Hunslet Festival</td>\n",
       "      <td>2023-06-17</td>\n",
       "    </tr>\n",
       "    <tr>\n",
       "      <th>84</th>\n",
       "      <td>My LEEDS Summer: Roundhay World Music &amp; Food Fest</td>\n",
       "      <td>2023-06-17</td>\n",
       "    </tr>\n",
       "    <tr>\n",
       "      <th>93</th>\n",
       "      <td>My LEEDS Summer: Beeston Festival</td>\n",
       "      <td>2023-06-24</td>\n",
       "    </tr>\n",
       "    <tr>\n",
       "      <th>94</th>\n",
       "      <td>My LEEDS Summer: Crossgates and Whinmoor - Pas...</td>\n",
       "      <td>2023-06-24</td>\n",
       "    </tr>\n",
       "    <tr>\n",
       "      <th>95</th>\n",
       "      <td>My LEEDS Summer: Picnic in the Park</td>\n",
       "      <td>2023-06-24</td>\n",
       "    </tr>\n",
       "    <tr>\n",
       "      <th>98</th>\n",
       "      <td>Becoming the Brontës</td>\n",
       "      <td>2023-06-29</td>\n",
       "    </tr>\n",
       "    <tr>\n",
       "      <th>105</th>\n",
       "      <td>My LEEDS Summer: Wetherby Drovers Day</td>\n",
       "      <td>2023-07-01</td>\n",
       "    </tr>\n",
       "    <tr>\n",
       "      <th>106</th>\n",
       "      <td>My Leeds Summer : Walk of Art</td>\n",
       "      <td>2023-07-01</td>\n",
       "    </tr>\n",
       "    <tr>\n",
       "      <th>109</th>\n",
       "      <td>My LEEDS Summer: The Feast</td>\n",
       "      <td>2023-07-02</td>\n",
       "    </tr>\n",
       "    <tr>\n",
       "      <th>110</th>\n",
       "      <td>My LEEDS summer: Celebration Day</td>\n",
       "      <td>2023-07-02</td>\n",
       "    </tr>\n",
       "    <tr>\n",
       "      <th>118</th>\n",
       "      <td>My LEEDS Summer : Wonderful Workshops and Cele...</td>\n",
       "      <td>2023-07-06</td>\n",
       "    </tr>\n",
       "    <tr>\n",
       "      <th>125</th>\n",
       "      <td>My LEEDS Summer: The Gipton and Harehills Crea...</td>\n",
       "      <td>2023-07-08</td>\n",
       "    </tr>\n",
       "    <tr>\n",
       "      <th>127</th>\n",
       "      <td>My LEEDS Summer: Ardsley &amp; Robin Hood: Celebra...</td>\n",
       "      <td>2023-07-09</td>\n",
       "    </tr>\n",
       "    <tr>\n",
       "      <th>130</th>\n",
       "      <td>My LEEDS Summer: The Big Summer Picnic</td>\n",
       "      <td>2023-07-09</td>\n",
       "    </tr>\n",
       "    <tr>\n",
       "      <th>133</th>\n",
       "      <td>My LEEDS Summer: Ralph Thoresby Summer Festival</td>\n",
       "      <td>2023-07-15</td>\n",
       "    </tr>\n",
       "    <tr>\n",
       "      <th>135</th>\n",
       "      <td>My LEEDS Summer: Fuse Festival</td>\n",
       "      <td>2023-07-17</td>\n",
       "    </tr>\n",
       "    <tr>\n",
       "      <th>137</th>\n",
       "      <td>Community Training Programme</td>\n",
       "      <td>2023-07-20</td>\n",
       "    </tr>\n",
       "  </tbody>\n",
       "</table>\n",
       "</div>"
      ],
      "text/plain": [
       "                                                  name start_date\n",
       "1              East Street Arts, A City Less Grey 2022 2022-10-08\n",
       "3                Phoenix Dance Theatre Virtual Gallery 2023-01-01\n",
       "4    The Big Art Giveaway, School of Creative Arts ... 2023-01-01\n",
       "5               Embassy of Netherlands, Meet Leeds Lab 2023-01-16\n",
       "6    Shifting Borders: A Journey to the Centre of o... 2023-01-24\n",
       "12                                 Leeds Lit Fest 2023 2023-02-25\n",
       "26                          East Street Arts, Add Fuel 2023-04-01\n",
       "43   Jamica Society Leeds, Out of Many Festival - T... 2023-05-01\n",
       "44   Sayang, Si Polan - International residency in ... 2023-05-01\n",
       "63                            Leeds Jazz Festival 2023 2023-05-25\n",
       "79   Keira Martin, Queenie and the Pooka (Performan... 2023-06-05\n",
       "80            My LEEDS Summer: Kirkstall Makes + Moves 2023-06-11\n",
       "83                 My LEEDS Summer at Hunslet Festival 2023-06-17\n",
       "84   My LEEDS Summer: Roundhay World Music & Food Fest 2023-06-17\n",
       "93                   My LEEDS Summer: Beeston Festival 2023-06-24\n",
       "94   My LEEDS Summer: Crossgates and Whinmoor - Pas... 2023-06-24\n",
       "95                 My LEEDS Summer: Picnic in the Park 2023-06-24\n",
       "98                                Becoming the Brontës 2023-06-29\n",
       "105              My LEEDS Summer: Wetherby Drovers Day 2023-07-01\n",
       "106                      My Leeds Summer : Walk of Art 2023-07-01\n",
       "109                         My LEEDS Summer: The Feast 2023-07-02\n",
       "110                   My LEEDS summer: Celebration Day 2023-07-02\n",
       "118  My LEEDS Summer : Wonderful Workshops and Cele... 2023-07-06\n",
       "125  My LEEDS Summer: The Gipton and Harehills Crea... 2023-07-08\n",
       "127  My LEEDS Summer: Ardsley & Robin Hood: Celebra... 2023-07-09\n",
       "130             My LEEDS Summer: The Big Summer Picnic 2023-07-09\n",
       "133    My LEEDS Summer: Ralph Thoresby Summer Festival 2023-07-15\n",
       "135                     My LEEDS Summer: Fuse Festival 2023-07-17\n",
       "137                       Community Training Programme 2023-07-20"
      ]
     },
     "execution_count": 9,
     "metadata": {},
     "output_type": "execute_result"
    }
   ],
   "source": [
    "data[data.postcode.isna()][[\n",
    "    'name', 'start_date'\n",
    "]]"
   ]
  },
  {
   "cell_type": "markdown",
   "id": "25ca8dfb",
   "metadata": {
    "papermill": {
     "duration": 0.003226,
     "end_time": "2023-07-20T13:26:53.696597",
     "exception": false,
     "start_time": "2023-07-20T13:26:53.693371",
     "status": "completed"
    },
    "tags": []
   },
   "source": [
    "Plot the pricing"
   ]
  },
  {
   "cell_type": "code",
   "execution_count": 10,
   "id": "cdc1abb3",
   "metadata": {
    "execution": {
     "iopub.execute_input": "2023-07-20T13:26:53.705224Z",
     "iopub.status.busy": "2023-07-20T13:26:53.704443Z",
     "iopub.status.idle": "2023-07-20T13:26:54.676065Z",
     "shell.execute_reply": "2023-07-20T13:26:54.675230Z"
    },
    "papermill": {
     "duration": 0.977586,
     "end_time": "2023-07-20T13:26:54.678069",
     "exception": false,
     "start_time": "2023-07-20T13:26:53.700483",
     "status": "completed"
    },
    "tags": []
   },
   "outputs": [
    {
     "data": {
      "image/png": "[encoded data removed]",
      "text/plain": [
       "<Figure size 640x480 with 1 Axes>"
      ]
     },
     "metadata": {},
     "output_type": "display_data"
    }
   ],
   "source": [
    "# .groupby('pricing').count().plot.barh()\n",
    "pricing = data.pricing.fillna('Unspecified').str.replace('[\\[\\'\\]]', '', regex=True).to_frame().reset_index().groupby('pricing').count()\n",
    "\n",
    "pricing.columns = ['count']\n",
    "plot = pricing.plot.barh()\n"
   ]
  },
  {
   "cell_type": "code",
   "execution_count": null,
   "id": "e4e864a0",
   "metadata": {
    "papermill": {
     "duration": 0.003483,
     "end_time": "2023-07-20T13:26:54.686088",
     "exception": false,
     "start_time": "2023-07-20T13:26:54.682605",
     "status": "completed"
    },
    "tags": []
   },
   "outputs": [],
   "source": []
  }
 ],
 "metadata": {
  "kernelspec": {
   "display_name": "leeds-2023-YZF5GfJv",
   "language": "python",
   "name": "python3"
  },
  "language_info": {
   "codemirror_mode": {
    "name": "ipython",
    "version": 3
   },
   "file_extension": ".py",
   "mimetype": "text/x-python",
   "name": "python",
   "nbconvert_exporter": "python",
   "pygments_lexer": "ipython3",
   "version": "3.10.6"
  },
  "papermill": {
   "default_parameters": {},
   "duration": 15.519471,
   "end_time": "2023-07-20T13:26:55.108704",
   "environment_variables": {},
   "exception": null,
   "input_path": "transform.ipynb",
   "output_path": "../../../working/output/partner-events-transform.ipynb",
   "parameters": {},
   "start_time": "2023-07-20T13:26:39.589233",
   "version": "2.4.0"
  }
 },
 "nbformat": 4,
 "nbformat_minor": 5
}