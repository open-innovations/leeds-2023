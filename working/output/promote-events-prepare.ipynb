{
 "cells": [
  {
   "cell_type": "code",
   "execution_count": 1,
   "id": "32c3c2c9",
   "metadata": {
    "execution": {
     "iopub.execute_input": "2023-07-17T23:41:36.689174Z",
     "iopub.status.busy": "2023-07-17T23:41:36.688534Z",
     "iopub.status.idle": "2023-07-17T23:41:37.057104Z",
     "shell.execute_reply": "2023-07-17T23:41:37.055951Z"
    },
    "papermill": {
     "duration": 0.375794,
     "end_time": "2023-07-17T23:41:37.060042",
     "exception": false,
     "start_time": "2023-07-17T23:41:36.684248",
     "status": "completed"
    },
    "tags": []
   },
   "outputs": [],
   "source": [
    "import os\n",
    "import pandas as pd"
   ]
  },
  {
   "cell_type": "code",
   "execution_count": 2,
   "id": "81e1a9e0",
   "metadata": {
    "execution": {
     "iopub.execute_input": "2023-07-17T23:41:37.068743Z",
     "iopub.status.busy": "2023-07-17T23:41:37.068281Z",
     "iopub.status.idle": "2023-07-17T23:41:37.073177Z",
     "shell.execute_reply": "2023-07-17T23:41:37.072236Z"
    },
    "papermill": {
     "duration": 0.01137,
     "end_time": "2023-07-17T23:41:37.075884",
     "exception": false,
     "start_time": "2023-07-17T23:41:37.064514",
     "status": "completed"
    },
    "tags": []
   },
   "outputs": [],
   "source": [
    "DATA_DIR='../../../docs/metrics/events/promote/_data/'\n",
    "os.makedirs(DATA_DIR, exist_ok=True)"
   ]
  },
  {
   "cell_type": "code",
   "execution_count": 3,
   "id": "391adadb",
   "metadata": {
    "execution": {
     "iopub.execute_input": "2023-07-17T23:41:37.081660Z",
     "iopub.status.busy": "2023-07-17T23:41:37.081393Z",
     "iopub.status.idle": "2023-07-17T23:41:37.096091Z",
     "shell.execute_reply": "2023-07-17T23:41:37.095083Z"
    },
    "papermill": {
     "duration": 0.020692,
     "end_time": "2023-07-17T23:41:37.098899",
     "exception": false,
     "start_time": "2023-07-17T23:41:37.078207",
     "status": "completed"
    },
    "tags": []
   },
   "outputs": [],
   "source": [
    "data = pd.read_csv('../../../data/metrics/events/promote-events/events.csv', parse_dates=['time'])"
   ]
  },
  {
   "cell_type": "code",
   "execution_count": 4,
   "id": "f52f4ad5",
   "metadata": {
    "execution": {
     "iopub.execute_input": "2023-07-17T23:41:37.105590Z",
     "iopub.status.busy": "2023-07-17T23:41:37.104709Z",
     "iopub.status.idle": "2023-07-17T23:41:37.112484Z",
     "shell.execute_reply": "2023-07-17T23:41:37.111638Z"
    },
    "papermill": {
     "duration": 0.013018,
     "end_time": "2023-07-17T23:41:37.114366",
     "exception": false,
     "start_time": "2023-07-17T23:41:37.101348",
     "status": "completed"
    },
    "tags": []
   },
   "outputs": [],
   "source": [
    "pd.Series({\n",
    "    'total_events': len(data.id.unique()),\n",
    "    'total_event_instances': len(data.time),\n",
    "    'earliest_event': data.time.min(),\n",
    "    'latest_event': data.time.max(),\n",
    "}).to_json(\n",
    "    os.path.join(DATA_DIR, 'headlines.json'),\n",
    "    date_format='iso', indent=2\n",
    ")"
   ]
  },
  {
   "cell_type": "code",
   "execution_count": 5,
   "id": "1975e689",
   "metadata": {
    "execution": {
     "iopub.execute_input": "2023-07-17T23:41:37.119892Z",
     "iopub.status.busy": "2023-07-17T23:41:37.119473Z",
     "iopub.status.idle": "2023-07-17T23:41:37.130966Z",
     "shell.execute_reply": "2023-07-17T23:41:37.130113Z"
    },
    "papermill": {
     "duration": 0.016725,
     "end_time": "2023-07-17T23:41:37.133013",
     "exception": false,
     "start_time": "2023-07-17T23:41:37.116288",
     "status": "completed"
    },
    "tags": []
   },
   "outputs": [],
   "source": [
    "events = pd.DataFrame({\n",
    "    'events': data.groupby('id').agg({ 'time': 'min' }).reset_index().groupby('time').id.count(),\n",
    "    'event_instances': data.groupby('time').id.count(),\n",
    "}).fillna(0).astype(int)"
   ]
  },
  {
   "cell_type": "code",
   "execution_count": 6,
   "id": "51f5e021",
   "metadata": {
    "execution": {
     "iopub.execute_input": "2023-07-17T23:41:37.138534Z",
     "iopub.status.busy": "2023-07-17T23:41:37.138276Z",
     "iopub.status.idle": "2023-07-17T23:41:37.143243Z",
     "shell.execute_reply": "2023-07-17T23:41:37.142134Z"
    },
    "papermill": {
     "duration": 0.010779,
     "end_time": "2023-07-17T23:41:37.145889",
     "exception": false,
     "start_time": "2023-07-17T23:41:37.135110",
     "status": "completed"
    },
    "tags": []
   },
   "outputs": [],
   "source": [
    "def cumulate(data):\n",
    "    return pd.concat([\n",
    "        data,\n",
    "        data.cumsum().rename(columns=lambda c: f'cumulative_{c}')\n",
    "    ], axis=1)"
   ]
  },
  {
   "cell_type": "code",
   "execution_count": 7,
   "id": "3c7a7d95",
   "metadata": {
    "execution": {
     "iopub.execute_input": "2023-07-17T23:41:37.151298Z",
     "iopub.status.busy": "2023-07-17T23:41:37.150986Z",
     "iopub.status.idle": "2023-07-17T23:41:37.164074Z",
     "shell.execute_reply": "2023-07-17T23:41:37.163087Z"
    },
    "papermill": {
     "duration": 0.018564,
     "end_time": "2023-07-17T23:41:37.166546",
     "exception": false,
     "start_time": "2023-07-17T23:41:37.147982",
     "status": "completed"
    },
    "tags": []
   },
   "outputs": [],
   "source": [
    "events.resample('W-FRI').sum().pipe(cumulate).to_csv(os.path.join(DATA_DIR, 'by_week.csv'))"
   ]
  },
  {
   "cell_type": "code",
   "execution_count": 8,
   "id": "c5c230d4",
   "metadata": {
    "execution": {
     "iopub.execute_input": "2023-07-17T23:41:37.172639Z",
     "iopub.status.busy": "2023-07-17T23:41:37.172329Z",
     "iopub.status.idle": "2023-07-17T23:41:37.181701Z",
     "shell.execute_reply": "2023-07-17T23:41:37.180801Z"
    },
    "papermill": {
     "duration": 0.014473,
     "end_time": "2023-07-17T23:41:37.183564",
     "exception": false,
     "start_time": "2023-07-17T23:41:37.169091",
     "status": "completed"
    },
    "tags": []
   },
   "outputs": [],
   "source": [
    "events.resample('MS').sum().pipe(cumulate).to_csv(os.path.join(DATA_DIR, 'by_month.csv'))"
   ]
  },
  {
   "cell_type": "code",
   "execution_count": null,
   "id": "b410147a",
   "metadata": {
    "papermill": {
     "duration": 0.002213,
     "end_time": "2023-07-17T23:41:37.188293",
     "exception": false,
     "start_time": "2023-07-17T23:41:37.186080",
     "status": "completed"
    },
    "tags": []
   },
   "outputs": [],
   "source": []
  }
 ],
 "metadata": {
  "kernelspec": {
   "display_name": "leeds-2023-YZF5GfJv",
   "language": "python",
   "name": "python3"
  },
  "language_info": {
   "codemirror_mode": {
    "name": "ipython",
    "version": 3
   },
   "file_extension": ".py",
   "mimetype": "text/x-python",
   "name": "python",
   "nbconvert_exporter": "python",
   "pygments_lexer": "ipython3",
   "version": "3.10.6"
  },
  "papermill": {
   "default_parameters": {},
   "duration": 2.539091,
   "end_time": "2023-07-17T23:41:37.609587",
   "environment_variables": {},
   "exception": null,
   "input_path": "prepare.ipynb",
   "output_path": "../../../working/output/promote-events-prepare.ipynb",
   "parameters": {},
   "start_time": "2023-07-17T23:41:35.070496",
   "version": "2.4.0"
  }
 },
 "nbformat": 4,
 "nbformat_minor": 5
}