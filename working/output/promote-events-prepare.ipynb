{
 "cells": [
  {
   "cell_type": "code",
   "execution_count": 1,
   "id": "736d83a5",
   "metadata": {
    "execution": {
     "iopub.execute_input": "2023-07-30T23:39:08.407982Z",
     "iopub.status.busy": "2023-07-30T23:39:08.407448Z",
     "iopub.status.idle": "2023-07-30T23:39:08.635265Z",
     "shell.execute_reply": "2023-07-30T23:39:08.634641Z"
    },
    "papermill": {
     "duration": 0.234317,
     "end_time": "2023-07-30T23:39:08.637136",
     "exception": false,
     "start_time": "2023-07-30T23:39:08.402819",
     "status": "completed"
    },
    "tags": []
   },
   "outputs": [],
   "source": [
    "import os\n",
    "import pandas as pd"
   ]
  },
  {
   "cell_type": "code",
   "execution_count": 2,
   "id": "1ef1ec4c",
   "metadata": {
    "execution": {
     "iopub.execute_input": "2023-07-30T23:39:08.641798Z",
     "iopub.status.busy": "2023-07-30T23:39:08.641293Z",
     "iopub.status.idle": "2023-07-30T23:39:08.644589Z",
     "shell.execute_reply": "2023-07-30T23:39:08.644009Z"
    },
    "papermill": {
     "duration": 0.007095,
     "end_time": "2023-07-30T23:39:08.646087",
     "exception": false,
     "start_time": "2023-07-30T23:39:08.638992",
     "status": "completed"
    },
    "tags": []
   },
   "outputs": [],
   "source": [
    "DATA_DIR='../../../docs/metrics/events/promote/_data/'\n",
    "os.makedirs(DATA_DIR, exist_ok=True)"
   ]
  },
  {
   "cell_type": "code",
   "execution_count": 3,
   "id": "1e7bab39",
   "metadata": {
    "execution": {
     "iopub.execute_input": "2023-07-30T23:39:08.650274Z",
     "iopub.status.busy": "2023-07-30T23:39:08.649790Z",
     "iopub.status.idle": "2023-07-30T23:39:08.659096Z",
     "shell.execute_reply": "2023-07-30T23:39:08.658544Z"
    },
    "papermill": {
     "duration": 0.013142,
     "end_time": "2023-07-30T23:39:08.660750",
     "exception": false,
     "start_time": "2023-07-30T23:39:08.647608",
     "status": "completed"
    },
    "tags": []
   },
   "outputs": [],
   "source": [
    "data = pd.read_csv('../../../data/metrics/events/promote-events/events.csv', parse_dates=['time'])"
   ]
  },
  {
   "cell_type": "code",
   "execution_count": 4,
   "id": "9ca96048",
   "metadata": {
    "execution": {
     "iopub.execute_input": "2023-07-30T23:39:08.664960Z",
     "iopub.status.busy": "2023-07-30T23:39:08.664634Z",
     "iopub.status.idle": "2023-07-30T23:39:08.670020Z",
     "shell.execute_reply": "2023-07-30T23:39:08.669378Z"
    },
    "papermill": {
     "duration": 0.009162,
     "end_time": "2023-07-30T23:39:08.671497",
     "exception": false,
     "start_time": "2023-07-30T23:39:08.662335",
     "status": "completed"
    },
    "tags": []
   },
   "outputs": [],
   "source": [
    "pd.Series({\n",
    "    'total_events': len(data.id.unique()),\n",
    "    'total_event_instances': len(data.time),\n",
    "    'earliest_event': data.time.min(),\n",
    "    'latest_event': data.time.max(),\n",
    "}).to_json(\n",
    "    os.path.join(DATA_DIR, 'headlines.json'),\n",
    "    date_format='iso', indent=2\n",
    ")"
   ]
  },
  {
   "cell_type": "code",
   "execution_count": 5,
   "id": "72b31593",
   "metadata": {
    "execution": {
     "iopub.execute_input": "2023-07-30T23:39:08.675578Z",
     "iopub.status.busy": "2023-07-30T23:39:08.675380Z",
     "iopub.status.idle": "2023-07-30T23:39:08.682623Z",
     "shell.execute_reply": "2023-07-30T23:39:08.682081Z"
    },
    "papermill": {
     "duration": 0.010847,
     "end_time": "2023-07-30T23:39:08.683918",
     "exception": false,
     "start_time": "2023-07-30T23:39:08.673071",
     "status": "completed"
    },
    "tags": []
   },
   "outputs": [],
   "source": [
    "events = pd.DataFrame({\n",
    "    'events': data.groupby('id').agg({ 'time': 'min' }).reset_index().groupby('time').id.count(),\n",
    "    'event_instances': data.groupby('time').id.count(),\n",
    "}).fillna(0).astype(int)"
   ]
  },
  {
   "cell_type": "code",
   "execution_count": 6,
   "id": "f56879ef",
   "metadata": {
    "execution": {
     "iopub.execute_input": "2023-07-30T23:39:08.688206Z",
     "iopub.status.busy": "2023-07-30T23:39:08.687726Z",
     "iopub.status.idle": "2023-07-30T23:39:08.691115Z",
     "shell.execute_reply": "2023-07-30T23:39:08.690516Z"
    },
    "papermill": {
     "duration": 0.007022,
     "end_time": "2023-07-30T23:39:08.692504",
     "exception": false,
     "start_time": "2023-07-30T23:39:08.685482",
     "status": "completed"
    },
    "tags": []
   },
   "outputs": [],
   "source": [
    "def cumulate(data):\n",
    "    return pd.concat([\n",
    "        data,\n",
    "        data.cumsum().rename(columns=lambda c: f'cumulative_{c}')\n",
    "    ], axis=1)"
   ]
  },
  {
   "cell_type": "code",
   "execution_count": 7,
   "id": "0e4c322d",
   "metadata": {
    "execution": {
     "iopub.execute_input": "2023-07-30T23:39:08.696691Z",
     "iopub.status.busy": "2023-07-30T23:39:08.696366Z",
     "iopub.status.idle": "2023-07-30T23:39:08.705734Z",
     "shell.execute_reply": "2023-07-30T23:39:08.705189Z"
    },
    "papermill": {
     "duration": 0.012953,
     "end_time": "2023-07-30T23:39:08.707083",
     "exception": false,
     "start_time": "2023-07-30T23:39:08.694130",
     "status": "completed"
    },
    "tags": []
   },
   "outputs": [],
   "source": [
    "events.resample('W-FRI').sum().pipe(cumulate).to_csv(os.path.join(DATA_DIR, 'by_week.csv'))"
   ]
  },
  {
   "cell_type": "code",
   "execution_count": 8,
   "id": "c28eecb6",
   "metadata": {
    "execution": {
     "iopub.execute_input": "2023-07-30T23:39:08.711617Z",
     "iopub.status.busy": "2023-07-30T23:39:08.711124Z",
     "iopub.status.idle": "2023-07-30T23:39:08.716793Z",
     "shell.execute_reply": "2023-07-30T23:39:08.716252Z"
    },
    "papermill": {
     "duration": 0.0093,
     "end_time": "2023-07-30T23:39:08.718103",
     "exception": false,
     "start_time": "2023-07-30T23:39:08.708803",
     "status": "completed"
    },
    "tags": []
   },
   "outputs": [],
   "source": [
    "events.resample('MS').sum().pipe(cumulate).to_csv(os.path.join(DATA_DIR, 'by_month.csv'))"
   ]
  },
  {
   "cell_type": "code",
   "execution_count": null,
   "id": "54dd9abd",
   "metadata": {
    "papermill": {
     "duration": 0.001607,
     "end_time": "2023-07-30T23:39:08.721361",
     "exception": false,
     "start_time": "2023-07-30T23:39:08.719754",
     "status": "completed"
    },
    "tags": []
   },
   "outputs": [],
   "source": []
  }
 ],
 "metadata": {
  "kernelspec": {
   "display_name": "leeds-2023-YZF5GfJv",
   "language": "python",
   "name": "python3"
  },
  "language_info": {
   "codemirror_mode": {
    "name": "ipython",
    "version": 3
   },
   "file_extension": ".py",
   "mimetype": "text/x-python",
   "name": "python",
   "nbconvert_exporter": "python",
   "pygments_lexer": "ipython3",
   "version": "3.10.6"
  },
  "papermill": {
   "default_parameters": {},
   "duration": 1.902798,
   "end_time": "2023-07-30T23:39:08.940149",
   "environment_variables": {},
   "exception": null,
   "input_path": "prepare.ipynb",
   "output_path": "../../../working/output/promote-events-prepare.ipynb",
   "parameters": {},
   "start_time": "2023-07-30T23:39:07.037351",
   "version": "2.4.0"
  }
 },
 "nbformat": 4,
 "nbformat_minor": 5
}