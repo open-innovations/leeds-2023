{
 "cells": [
  {
   "cell_type": "code",
   "execution_count": 1,
   "id": "7f329d03",
   "metadata": {
    "execution": {
     "iopub.execute_input": "2024-01-23T11:55:17.304593Z",
     "iopub.status.busy": "2024-01-23T11:55:17.304363Z",
     "iopub.status.idle": "2024-01-23T11:55:17.486513Z",
     "shell.execute_reply": "2024-01-23T11:55:17.486099Z"
    },
    "papermill": {
     "duration": 0.185554,
     "end_time": "2024-01-23T11:55:17.487618",
     "exception": false,
     "start_time": "2024-01-23T11:55:17.302064",
     "status": "completed"
    },
    "tags": []
   },
   "outputs": [],
   "source": [
    "import sys\n",
    "from pathlib import Path\n",
    "\n",
    "import pandas as pd"
   ]
  },
  {
   "cell_type": "code",
   "execution_count": 2,
   "id": "ec0acd74",
   "metadata": {
    "execution": {
     "iopub.execute_input": "2024-01-23T11:55:17.491217Z",
     "iopub.status.busy": "2024-01-23T11:55:17.490797Z",
     "iopub.status.idle": "2024-01-23T11:55:17.493719Z",
     "shell.execute_reply": "2024-01-23T11:55:17.493304Z"
    },
    "papermill": {
     "duration": 0.005565,
     "end_time": "2024-01-23T11:55:17.494497",
     "exception": false,
     "start_time": "2024-01-23T11:55:17.488932",
     "status": "completed"
    },
    "tags": []
   },
   "outputs": [],
   "source": [
    "TOP_DIR = Path('../../../').resolve()\n",
    "if str(TOP_DIR) not in sys.path: sys.path.append(str(TOP_DIR))"
   ]
  },
  {
   "cell_type": "code",
   "execution_count": 3,
   "id": "fdd0e9ac",
   "metadata": {
    "execution": {
     "iopub.execute_input": "2024-01-23T11:55:17.497355Z",
     "iopub.status.busy": "2024-01-23T11:55:17.497170Z",
     "iopub.status.idle": "2024-01-23T11:55:22.878661Z",
     "shell.execute_reply": "2024-01-23T11:55:22.878284Z"
    },
    "papermill": {
     "duration": 5.384168,
     "end_time": "2024-01-23T11:55:22.879725",
     "exception": false,
     "start_time": "2024-01-23T11:55:17.495557",
     "status": "completed"
    },
    "tags": []
   },
   "outputs": [],
   "source": [
    "from lib.util.geo import postcode_formatter, postcode_to_ward_code"
   ]
  },
  {
   "cell_type": "code",
   "execution_count": 4,
   "id": "2cee1de5",
   "metadata": {
    "execution": {
     "iopub.execute_input": "2024-01-23T11:55:22.882592Z",
     "iopub.status.busy": "2024-01-23T11:55:22.882414Z",
     "iopub.status.idle": "2024-01-23T11:55:22.901229Z",
     "shell.execute_reply": "2024-01-23T11:55:22.900871Z"
    },
    "papermill": {
     "duration": 0.021305,
     "end_time": "2024-01-23T11:55:22.902209",
     "exception": false,
     "start_time": "2024-01-23T11:55:22.880904",
     "status": "completed"
    },
    "tags": []
   },
   "outputs": [],
   "source": [
    "data = pd.read_csv(\n",
    "    '../../../working/metrics/partnerships/all.csv',\n",
    "    parse_dates=['Start date', 'End date'],\n",
    "    usecols=[\n",
    "        # 'Partner Lead Contact',\n",
    "        'Partner Organisation',\n",
    "        'List of countries involved',\n",
    "        'End date',\n",
    "        # 'Baseline survey completed by partner',\n",
    "        'Start date',\n",
    "        'Partner Venue Postcode',\n",
    "        # 'Notes',\n",
    "        'Partnership Status',\n",
    "        'Project Artform',\n",
    "        # 'Project Description',\n",
    "        'Project Name',\n",
    "        # 'Offered SAIL training',\n",
    "        'Project Output',\n",
    "        # 'L23 economic contribution',\n",
    "        'International element to project?',\n",
    "        'Online/in person/both',\n",
    "        'Number of countries involved',\n",
    "        'Season',\n",
    "        # 'Partner Venue Name',\n",
    "        # 'Contract signed by partner',\n",
    "        'Duration of activity/event',\n",
    "        # 'LEEDS 2023 Assignee.id',\n",
    "        # 'LEEDS 2023 Assignee.email',\n",
    "        # 'LEEDS 2023 Assignee.name',\n",
    "        # 'Last Modified By.id',\n",
    "        # 'Last Modified By.email',\n",
    "        # 'Last Modified By.name',\n",
    "        # 'Activity log completed by partner',\n",
    "        # 'Final survey completed by partner',\n",
    "        # 'Number of unique countries',\n",
    "        'Contains heritage, young people',\n",
    "        # 'Total budget',\n",
    "        'Digital audiences',\n",
    "        'Audience numbers',\n",
    "        'number of participants',\n",
    "        'Total number of events'\n",
    "    ]\n",
    ")"
   ]
  },
  {
   "cell_type": "code",
   "execution_count": 5,
   "id": "e7799605",
   "metadata": {
    "execution": {
     "iopub.execute_input": "2024-01-23T11:55:22.904942Z",
     "iopub.status.busy": "2024-01-23T11:55:22.904736Z",
     "iopub.status.idle": "2024-01-23T11:55:22.908405Z",
     "shell.execute_reply": "2024-01-23T11:55:22.908111Z"
    },
    "papermill": {
     "duration": 0.005897,
     "end_time": "2024-01-23T11:55:22.909202",
     "exception": false,
     "start_time": "2024-01-23T11:55:22.903305",
     "status": "completed"
    },
    "tags": []
   },
   "outputs": [
    {
     "data": {
      "text/plain": [
       "['Partner Organisation',\n",
       " 'List of countries involved',\n",
       " 'End date',\n",
       " 'Start date',\n",
       " 'Partner Venue Postcode',\n",
       " 'Partnership Status',\n",
       " 'Project Artform',\n",
       " 'Project Name',\n",
       " 'Project Output',\n",
       " 'International element to project?',\n",
       " 'Online/in person/both',\n",
       " 'Number of countries involved',\n",
       " 'Season',\n",
       " 'Duration of activity/event',\n",
       " 'Contains heritage, young people',\n",
       " 'Digital audiences',\n",
       " 'Audience numbers',\n",
       " 'number of participants',\n",
       " 'Total number of events']"
      ]
     },
     "execution_count": 5,
     "metadata": {},
     "output_type": "execute_result"
    }
   ],
   "source": [
    "data.columns.to_list()"
   ]
  },
  {
   "cell_type": "code",
   "execution_count": 6,
   "id": "8e26b7e5",
   "metadata": {
    "execution": {
     "iopub.execute_input": "2024-01-23T11:55:22.911974Z",
     "iopub.status.busy": "2024-01-23T11:55:22.911759Z",
     "iopub.status.idle": "2024-01-23T11:55:22.914194Z",
     "shell.execute_reply": "2024-01-23T11:55:22.913892Z"
    },
    "papermill": {
     "duration": 0.004725,
     "end_time": "2024-01-23T11:55:22.915017",
     "exception": false,
     "start_time": "2024-01-23T11:55:22.910292",
     "status": "completed"
    },
    "tags": []
   },
   "outputs": [],
   "source": [
    "data.columns = data.columns.str.strip().str.lower().str.replace(r'[^a-z0-9]+', '_', regex=True)"
   ]
  },
  {
   "cell_type": "code",
   "execution_count": 7,
   "id": "02b7f402",
   "metadata": {
    "execution": {
     "iopub.execute_input": "2024-01-23T11:55:22.917774Z",
     "iopub.status.busy": "2024-01-23T11:55:22.917592Z",
     "iopub.status.idle": "2024-01-23T11:55:23.569355Z",
     "shell.execute_reply": "2024-01-23T11:55:23.568986Z"
    },
    "papermill": {
     "duration": 0.654329,
     "end_time": "2024-01-23T11:55:23.570441",
     "exception": false,
     "start_time": "2024-01-23T11:55:22.916112",
     "status": "completed"
    },
    "tags": []
   },
   "outputs": [],
   "source": [
    "data['partner_venue_ward_code'] = data['partner_venue_postcode'].pipe(postcode_formatter).map(postcode_to_ward_code)"
   ]
  },
  {
   "cell_type": "code",
   "execution_count": 8,
   "id": "732805b4",
   "metadata": {
    "execution": {
     "iopub.execute_input": "2024-01-23T11:55:23.573934Z",
     "iopub.status.busy": "2024-01-23T11:55:23.573424Z",
     "iopub.status.idle": "2024-01-23T11:55:23.577058Z",
     "shell.execute_reply": "2024-01-23T11:55:23.576717Z"
    },
    "papermill": {
     "duration": 0.006026,
     "end_time": "2024-01-23T11:55:23.577762",
     "exception": false,
     "start_time": "2024-01-23T11:55:23.571736",
     "status": "completed"
    },
    "tags": []
   },
   "outputs": [],
   "source": [
    "data['list_of_countries_involved'] = (\n",
    "  data['list_of_countries_involved']\n",
    "    .str.strip()\n",
    "    .str.replace('[\\.]', '', regex=True)\n",
    "    .str.replace(r'[\\n]+|\\s*,\\s*', '|', regex=True)\n",
    "    .str.replace('The Netherlands','Netherlands')\n",
    "    .str.replace('Trinidad & Tobago','Trinidad and Tobago')\n",
    "    .str.strip('|')\n",
    "    .str.split('|')\n",
    ")\n"
   ]
  },
  {
   "cell_type": "code",
   "execution_count": 9,
   "id": "4cf94e00",
   "metadata": {
    "execution": {
     "iopub.execute_input": "2024-01-23T11:55:23.580713Z",
     "iopub.status.busy": "2024-01-23T11:55:23.580514Z",
     "iopub.status.idle": "2024-01-23T11:55:23.583527Z",
     "shell.execute_reply": "2024-01-23T11:55:23.583214Z"
    },
    "papermill": {
     "duration": 0.005502,
     "end_time": "2024-01-23T11:55:23.584414",
     "exception": false,
     "start_time": "2024-01-23T11:55:23.578912",
     "status": "completed"
    },
    "tags": []
   },
   "outputs": [],
   "source": [
    "data['number_of_countries_involved'] = data.loc[data.list_of_countries_involved.notna(), 'list_of_countries_involved'].map(len)\n",
    "data['number_of_countries_involved'].fillna(0, inplace=True)"
   ]
  },
  {
   "cell_type": "code",
   "execution_count": 10,
   "id": "efe1b64a",
   "metadata": {
    "execution": {
     "iopub.execute_input": "2024-01-23T11:55:23.587453Z",
     "iopub.status.busy": "2024-01-23T11:55:23.587265Z",
     "iopub.status.idle": "2024-01-23T11:55:23.589383Z",
     "shell.execute_reply": "2024-01-23T11:55:23.589106Z"
    },
    "papermill": {
     "duration": 0.004369,
     "end_time": "2024-01-23T11:55:23.589974",
     "exception": false,
     "start_time": "2024-01-23T11:55:23.585605",
     "status": "completed"
    },
    "tags": []
   },
   "outputs": [],
   "source": [
    "OUTPUT_DIR = TOP_DIR.joinpath('data/metrics/partnerships')\n",
    "OUTPUT_DIR.mkdir(parents=True, exist_ok=True)"
   ]
  },
  {
   "cell_type": "code",
   "execution_count": 11,
   "id": "c6160572",
   "metadata": {
    "execution": {
     "iopub.execute_input": "2024-01-23T11:55:23.634252Z",
     "iopub.status.busy": "2024-01-23T11:55:23.634048Z",
     "iopub.status.idle": "2024-01-23T11:55:23.637563Z",
     "shell.execute_reply": "2024-01-23T11:55:23.637263Z"
    },
    "papermill": {
     "duration": 0.047258,
     "end_time": "2024-01-23T11:55:23.638351",
     "exception": false,
     "start_time": "2024-01-23T11:55:23.591093",
     "status": "completed"
    },
    "tags": []
   },
   "outputs": [],
   "source": [
    "data.to_csv(\n",
    "  OUTPUT_DIR.joinpath('partnerships.csv'),\n",
    "  index=False\n",
    ")"
   ]
  }
 ],
 "metadata": {
  "kernelspec": {
   "display_name": "leeds-2023-YZF5GfJv",
   "language": "python",
   "name": "python3"
  },
  "language_info": {
   "codemirror_mode": {
    "name": "ipython",
    "version": 3
   },
   "file_extension": ".py",
   "mimetype": "text/x-python",
   "name": "python",
   "nbconvert_exporter": "python",
   "pygments_lexer": "ipython3",
   "version": "3.10.12"
  },
  "papermill": {
   "default_parameters": {},
   "duration": 7.311661,
   "end_time": "2024-01-23T11:55:23.886109",
   "environment_variables": {},
   "exception": null,
   "input_path": "transform.ipynb",
   "output_path": "../../../working/output/partnerships-transform.ipynb",
   "parameters": {},
   "start_time": "2024-01-23T11:55:16.574448",
   "version": "2.4.0"
  }
 },
 "nbformat": 4,
 "nbformat_minor": 5
}