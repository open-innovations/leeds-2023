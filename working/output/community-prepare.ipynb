{
 "cells": [
  {
   "cell_type": "code",
   "execution_count": 1,
   "id": "03601229",
   "metadata": {
    "execution": {
     "iopub.execute_input": "2023-11-22T15:23:17.870045Z",
     "iopub.status.busy": "2023-11-22T15:23:17.869606Z",
     "iopub.status.idle": "2023-11-22T15:23:18.105186Z",
     "shell.execute_reply": "2023-11-22T15:23:18.104636Z"
    },
    "papermill": {
     "duration": 0.239798,
     "end_time": "2023-11-22T15:23:18.106664",
     "exception": false,
     "start_time": "2023-11-22T15:23:17.866866",
     "status": "completed"
    },
    "tags": []
   },
   "outputs": [],
   "source": [
    "import os, sys\n",
    "TOP_DIR = os.path.realpath('../../..')\n",
    "if TOP_DIR not in sys.path: sys.path.append(TOP_DIR)\n",
    "import pandas as pd"
   ]
  },
  {
   "cell_type": "code",
   "execution_count": 2,
   "id": "9ec8675b",
   "metadata": {
    "execution": {
     "iopub.execute_input": "2023-11-22T15:23:18.111151Z",
     "iopub.status.busy": "2023-11-22T15:23:18.110542Z",
     "iopub.status.idle": "2023-11-22T15:23:18.114696Z",
     "shell.execute_reply": "2023-11-22T15:23:18.114101Z"
    },
    "papermill": {
     "duration": 0.007764,
     "end_time": "2023-11-22T15:23:18.116159",
     "exception": false,
     "start_time": "2023-11-22T15:23:18.108395",
     "status": "completed"
    },
    "tags": []
   },
   "outputs": [],
   "source": [
    "from lib.util.convert import named_cumulative_sum"
   ]
  },
  {
   "cell_type": "code",
   "execution_count": 3,
   "id": "21a1527a",
   "metadata": {
    "execution": {
     "iopub.execute_input": "2023-11-22T15:23:18.119826Z",
     "iopub.status.busy": "2023-11-22T15:23:18.119462Z",
     "iopub.status.idle": "2023-11-22T15:23:18.127983Z",
     "shell.execute_reply": "2023-11-22T15:23:18.127337Z"
    },
    "papermill": {
     "duration": 0.01179,
     "end_time": "2023-11-22T15:23:18.129312",
     "exception": false,
     "start_time": "2023-11-22T15:23:18.117522",
     "status": "completed"
    },
    "tags": []
   },
   "outputs": [],
   "source": [
    "data = pd.read_csv('../../../data/metrics/community/events.csv', parse_dates=['start_date'])\n",
    "data.ward_code = data.ward_code.fillna('UNKNOWN')"
   ]
  },
  {
   "cell_type": "markdown",
   "id": "1497066f",
   "metadata": {
    "papermill": {
     "duration": 0.001409,
     "end_time": "2023-11-22T15:23:18.132096",
     "exception": false,
     "start_time": "2023-11-22T15:23:18.130687",
     "status": "completed"
    },
    "tags": []
   },
   "source": [
    "Set up output directories"
   ]
  },
  {
   "cell_type": "code",
   "execution_count": 4,
   "id": "92a41886",
   "metadata": {
    "execution": {
     "iopub.execute_input": "2023-11-22T15:23:18.135848Z",
     "iopub.status.busy": "2023-11-22T15:23:18.135434Z",
     "iopub.status.idle": "2023-11-22T15:23:18.138631Z",
     "shell.execute_reply": "2023-11-22T15:23:18.138046Z"
    },
    "papermill": {
     "duration": 0.006548,
     "end_time": "2023-11-22T15:23:18.140026",
     "exception": false,
     "start_time": "2023-11-22T15:23:18.133478",
     "status": "completed"
    },
    "tags": []
   },
   "outputs": [],
   "source": [
    "OUT_DIR = '../../../docs/metrics/community/_data'\n",
    "os.makedirs(OUT_DIR, exist_ok=True)"
   ]
  },
  {
   "cell_type": "code",
   "execution_count": 5,
   "id": "5a86cb3c",
   "metadata": {
    "execution": {
     "iopub.execute_input": "2023-11-22T15:23:18.143952Z",
     "iopub.status.busy": "2023-11-22T15:23:18.143435Z",
     "iopub.status.idle": "2023-11-22T15:23:18.149470Z",
     "shell.execute_reply": "2023-11-22T15:23:18.148883Z"
    },
    "papermill": {
     "duration": 0.009398,
     "end_time": "2023-11-22T15:23:18.150829",
     "exception": false,
     "start_time": "2023-11-22T15:23:18.141431",
     "status": "completed"
    },
    "tags": []
   },
   "outputs": [],
   "source": [
    "pd.Series({\n",
    "  'events': data.event_name.count(),\n",
    "  'audience': data.audience.sum().astype(int),\n",
    "  'errors': {\n",
    "    'missing_wards': (data.ward_code == 'UNKNOWN').value_counts()[True],\n",
    "    'missing_audience': data.audience.isna().value_counts()[True],\n",
    "    'zero_audience':  (data.audience < 1).value_counts()[True],  \n",
    "  }\n",
    "}).to_json(os.path.join(OUT_DIR, 'headlines.json'), indent=2)"
   ]
  },
  {
   "cell_type": "code",
   "execution_count": 6,
   "id": "49ea07d8",
   "metadata": {
    "execution": {
     "iopub.execute_input": "2023-11-22T15:23:18.154711Z",
     "iopub.status.busy": "2023-11-22T15:23:18.154384Z",
     "iopub.status.idle": "2023-11-22T15:23:18.160516Z",
     "shell.execute_reply": "2023-11-22T15:23:18.160002Z"
    },
    "papermill": {
     "duration": 0.009453,
     "end_time": "2023-11-22T15:23:18.161761",
     "exception": false,
     "start_time": "2023-11-22T15:23:18.152308",
     "status": "completed"
    },
    "tags": []
   },
   "outputs": [],
   "source": [
    "by_ward = pd.DataFrame({\n",
    "  'events': data.groupby('ward_code').event_name.count().fillna(0).astype('int'),\n",
    "  'audience': data.groupby('ward_code').audience.sum().fillna(0).astype('int'),\n",
    "}).to_csv(os.path.join(OUT_DIR, 'by_ward.csv'))"
   ]
  },
  {
   "cell_type": "code",
   "execution_count": 7,
   "id": "d8dd8f65",
   "metadata": {
    "execution": {
     "iopub.execute_input": "2023-11-22T15:23:18.165683Z",
     "iopub.status.busy": "2023-11-22T15:23:18.165355Z",
     "iopub.status.idle": "2023-11-22T15:23:18.173673Z",
     "shell.execute_reply": "2023-11-22T15:23:18.173184Z"
    },
    "papermill": {
     "duration": 0.011626,
     "end_time": "2023-11-22T15:23:18.174891",
     "exception": false,
     "start_time": "2023-11-22T15:23:18.163265",
     "status": "completed"
    },
    "tags": []
   },
   "outputs": [],
   "source": [
    "by_date = pd.DataFrame({\n",
    "    'events': data.groupby('start_date').event_name.count(),\n",
    "    'audience': data.groupby('start_date').audience.sum(),\n",
    "}).resample('M').sum()\n",
    "\n",
    "pd.concat([\n",
    "    by_date,\n",
    "    by_date.pipe(named_cumulative_sum)\n",
    "], axis=1).astype('int').to_csv(os.path.join(OUT_DIR, 'by_date.csv'))"
   ]
  }
 ],
 "metadata": {
  "kernelspec": {
   "display_name": "leeds-2023-YZF5GfJv",
   "language": "python",
   "name": "python3"
  },
  "language_info": {
   "codemirror_mode": {
    "name": "ipython",
    "version": 3
   },
   "file_extension": ".py",
   "mimetype": "text/x-python",
   "name": "python",
   "nbconvert_exporter": "python",
   "pygments_lexer": "ipython3",
   "version": "3.10.13"
  },
  "papermill": {
   "default_parameters": {},
   "duration": 1.759262,
   "end_time": "2023-11-22T15:23:18.393068",
   "environment_variables": {},
   "exception": null,
   "input_path": "prepare.ipynb",
   "output_path": "../../../working/output/community-prepare.ipynb",
   "parameters": {},
   "start_time": "2023-11-22T15:23:16.633806",
   "version": "2.4.0"
  }
 },
 "nbformat": 4,
 "nbformat_minor": 5
}