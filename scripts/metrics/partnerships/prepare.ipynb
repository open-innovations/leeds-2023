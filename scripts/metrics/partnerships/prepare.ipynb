{
 "cells": [
  {
   "cell_type": "code",
   "execution_count": 1,
   "metadata": {},
   "outputs": [],
   "source": [
    "import sys\n",
    "from pathlib import Path\n",
    "\n",
    "import pandas as pd\n",
    "import os \n",
    "import numpy as np\n",
    "\n",
    "TOP_DIR = Path('../../../').resolve()\n",
    "\n",
    "if str(TOP_DIR) not in sys.path: sys.path.append(str(TOP_DIR))\n",
    "\n",
    "SITE_DATA_DIR = '../../../docs/metrics/partnerships/_data'\n",
    "\n",
    "PARTNERSHIPS_DATA = '../../../data/metrics/partnerships/partnerships.csv'\n",
    "COUNTRIES_DATA = '../../../data/metrics/partnerships/countries.csv'"
   ]
  },
  {
   "cell_type": "code",
   "execution_count": 2,
   "metadata": {},
   "outputs": [],
   "source": [
    "os.makedirs(SITE_DATA_DIR, exist_ok=True)\n",
    "\n",
    "partnerships_data = pd.read_csv(PARTNERSHIPS_DATA, parse_dates=['start_date'])\n",
    "countries_data = pd.read_csv(COUNTRIES_DATA)"
   ]
  },
  {
   "cell_type": "markdown",
   "metadata": {},
   "source": [
    "Summarise"
   ]
  },
  {
   "cell_type": "code",
   "execution_count": 3,
   "metadata": {},
   "outputs": [],
   "source": [
    "pd.Series({\n",
    "    'total_partnerships': len(partnerships_data),\n",
    "    'total_international': partnerships_data.international_element_to_project_.count(),\n",
    "    'total_unique_countries': len(countries_data.unique_countries),\n",
    "    'total_events': partnerships_data.total_number_of_events.sum(),\n",
    "    'total_audience': partnerships_data.audience_numbers.sum(),\n",
    "    'total_participants': partnerships_data.number_of_participants.sum(),\n",
    "    'total_in_person_events': partnerships_data['online_in_person_both'].value_counts()['In person'],\n",
    "    'both_online_in_person_events': partnerships_data['online_in_person_both'].value_counts()['Both'],\n",
    "    'online_only_events': partnerships_data['online_in_person_both'].value_counts()['Online']\n",
    "}).astype(int).to_json(\n",
    "    os.path.join(SITE_DATA_DIR, 'headlines.json'),\n",
    "    date_format='iso', indent=2\n",
    ")"
   ]
  },
  {
   "cell_type": "markdown",
   "metadata": {},
   "source": [
    "Summarise by ward"
   ]
  },
  {
   "cell_type": "code",
   "execution_count": 4,
   "metadata": {},
   "outputs": [],
   "source": [
    "partnerships_data.fillna('UNKNOWN').groupby('partner_venue_ward_code').partner_organisation.count().to_csv(os.path.join(SITE_DATA_DIR, 'partnerships_by_ward.csv'))"
   ]
  },
  {
   "cell_type": "markdown",
   "metadata": {},
   "source": [
    "Summarise by month"
   ]
  },
  {
   "cell_type": "code",
   "execution_count": 5,
   "metadata": {},
   "outputs": [],
   "source": [
    "partnerships_data.groupby('start_date').partner_organisation.count().resample('MS').sum().cumsum().to_csv(os.path.join(SITE_DATA_DIR, 'partnerships_by_month.csv'))"
   ]
  },
  {
   "cell_type": "markdown",
   "metadata": {},
   "source": [
    "Event type"
   ]
  },
  {
   "cell_type": "code",
   "execution_count": 6,
   "metadata": {},
   "outputs": [],
   "source": [
    "event_type = pd.DataFrame({\n",
    "    'event_type': partnerships_data.groupby('online_in_person_both').partner_organisation.count()\n",
    "}).reset_index().to_csv(os.path.join(SITE_DATA_DIR, 'event_type.csv'), index=False)\n",
    "\n"
   ]
  },
  {
   "cell_type": "markdown",
   "metadata": {},
   "source": [
    "Project Artform"
   ]
  },
  {
   "cell_type": "code",
   "execution_count": 7,
   "metadata": {},
   "outputs": [],
   "source": [
    "artform = pd.DataFrame({\n",
    "    'number_of_partners': partnerships_data.groupby('project_artform').partner_organisation.count()\n",
    "}).T.rename(columns={\n",
    "    'Combined arts': 'combined_arts',\n",
    "    'Dance': 'dance',\n",
    "    'Literature': 'literature',\n",
    "    'Music': 'music',\n",
    "    'Theatre': 'theatre',\n",
    "    'Visual art': 'visual_art'\n",
    "}).reset_index().to_csv(os.path.join(SITE_DATA_DIR, 'artforms.csv'), index=False)\n"
   ]
  },
  {
   "cell_type": "markdown",
   "metadata": {},
   "source": [
    "Project outputs"
   ]
  },
  {
   "cell_type": "code",
   "execution_count": 8,
   "metadata": {},
   "outputs": [
    {
     "ename": "NameError",
     "evalue": "name 'partnerhips' is not defined",
     "output_type": "error",
     "traceback": [
      "\u001b[1;31m---------------------------------------------------------------------------\u001b[0m",
      "\u001b[1;31mNameError\u001b[0m                                 Traceback (most recent call last)",
      "\u001b[1;32mc:\\Users\\oi-user\\Documents\\GitHub\\leeds-2023\\scripts\\metrics\\partnerships\\prepare.ipynb Cell 14\u001b[0m line \u001b[0;36m4\n\u001b[0;32m      <a href='vscode-notebook-cell:/c%3A/Users/oi-user/Documents/GitHub/leeds-2023/scripts/metrics/partnerships/prepare.ipynb#X25sZmlsZQ%3D%3D?line=0'>1</a>\u001b[0m \u001b[39m#Clean up the Project Outputs column \u001b[39;00m\n\u001b[1;32m----> <a href='vscode-notebook-cell:/c%3A/Users/oi-user/Documents/GitHub/leeds-2023/scripts/metrics/partnerships/prepare.ipynb#X25sZmlsZQ%3D%3D?line=3'>4</a>\u001b[0m partnerhips\n\u001b[0;32m      <a href='vscode-notebook-cell:/c%3A/Users/oi-user/Documents/GitHub/leeds-2023/scripts/metrics/partnerships/prepare.ipynb#X25sZmlsZQ%3D%3D?line=6'>7</a>\u001b[0m \u001b[39m# partnerships_data['project_output'] = partnerships_data.project_output.str.replace('[','').replace(']','').replace('\\'','').replace('\\\"','').str.split(',')\u001b[39;00m\n\u001b[0;32m      <a href='vscode-notebook-cell:/c%3A/Users/oi-user/Documents/GitHub/leeds-2023/scripts/metrics/partnerships/prepare.ipynb#X25sZmlsZQ%3D%3D?line=7'>8</a>\u001b[0m \n\u001b[0;32m      <a href='vscode-notebook-cell:/c%3A/Users/oi-user/Documents/GitHub/leeds-2023/scripts/metrics/partnerships/prepare.ipynb#X25sZmlsZQ%3D%3D?line=8'>9</a>\u001b[0m \u001b[39m# str(text).replace('[','').replace(']','').replace('\\'','').replace('\\\"','')\u001b[39;00m\n",
      "\u001b[1;31mNameError\u001b[0m: name 'partnerhips' is not defined"
     ]
    }
   ],
   "source": [
    "\n",
    "#Clean up the Project Outputs column \n",
    "\n",
    "\n",
    "print(partnerships_data[\"project_output\"].apply(lambda x: \",\".join(x) if isinstance(x, list) else x)) \n",
    "\n",
    "\n",
    "# partnerships_data['project_output'] = partnerships_data.project_output.str.replace('[','').replace(']','').replace('\\'','').replace('\\\"','').str.split(',')\n",
    "\n",
    "# str(text).replace('[','').replace(']','').replace('\\'','').replace('\\\"','')"
   ]
  },
  {
   "cell_type": "code",
   "execution_count": null,
   "metadata": {},
   "outputs": [],
   "source": [
    "outputs = pd.DataFrame({\n",
    "    'number_of_partners': partnerships_data.groupby('project_output').partner_organisation.count()\n",
    "}).reset_index()\n"
   ]
  },
  {
   "cell_type": "code",
   "execution_count": null,
   "metadata": {},
   "outputs": [],
   "source": []
  }
 ],
 "metadata": {
  "kernelspec": {
   "display_name": "leeds-2023-OyOrD6k7",
   "language": "python",
   "name": "python3"
  },
  "language_info": {
   "codemirror_mode": {
    "name": "ipython",
    "version": 3
   },
   "file_extension": ".py",
   "mimetype": "text/x-python",
   "name": "python",
   "nbconvert_exporter": "python",
   "pygments_lexer": "ipython3",
   "version": "3.10.8"
  },
  "orig_nbformat": 4
 },
 "nbformat": 4,
 "nbformat_minor": 2
}
