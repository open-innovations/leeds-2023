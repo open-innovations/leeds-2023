{
 "cells": [
  {
   "cell_type": "code",
   "execution_count": 1,
   "id": "476168b3",
   "metadata": {
    "execution": {
     "iopub.execute_input": "2023-10-09T23:40:26.064828Z",
     "iopub.status.busy": "2023-10-09T23:40:26.064350Z",
     "iopub.status.idle": "2023-10-09T23:40:26.318227Z",
     "shell.execute_reply": "2023-10-09T23:40:26.317573Z"
    },
    "papermill": {
     "duration": 0.259142,
     "end_time": "2023-10-09T23:40:26.320035",
     "exception": false,
     "start_time": "2023-10-09T23:40:26.060893",
     "status": "completed"
    },
    "tags": []
   },
   "outputs": [],
   "source": [
    "import os, sys\n",
    "TOP_DIR = os.path.realpath('../../..')\n",
    "if TOP_DIR not in sys.path: sys.path.append(TOP_DIR)\n",
    "import pandas as pd"
   ]
  },
  {
   "cell_type": "code",
   "execution_count": 2,
   "id": "ccb2e412",
   "metadata": {
    "execution": {
     "iopub.execute_input": "2023-10-09T23:40:26.325324Z",
     "iopub.status.busy": "2023-10-09T23:40:26.324663Z",
     "iopub.status.idle": "2023-10-09T23:40:26.329243Z",
     "shell.execute_reply": "2023-10-09T23:40:26.328658Z"
    },
    "papermill": {
     "duration": 0.008731,
     "end_time": "2023-10-09T23:40:26.330780",
     "exception": false,
     "start_time": "2023-10-09T23:40:26.322049",
     "status": "completed"
    },
    "tags": []
   },
   "outputs": [],
   "source": [
    "from lib.util.convert import named_cumulative_sum"
   ]
  },
  {
   "cell_type": "code",
   "execution_count": 3,
   "id": "10bcdfe6",
   "metadata": {
    "execution": {
     "iopub.execute_input": "2023-10-09T23:40:26.335286Z",
     "iopub.status.busy": "2023-10-09T23:40:26.334852Z",
     "iopub.status.idle": "2023-10-09T23:40:26.346195Z",
     "shell.execute_reply": "2023-10-09T23:40:26.345591Z"
    },
    "papermill": {
     "duration": 0.015214,
     "end_time": "2023-10-09T23:40:26.347709",
     "exception": false,
     "start_time": "2023-10-09T23:40:26.332495",
     "status": "completed"
    },
    "tags": []
   },
   "outputs": [],
   "source": [
    "data = pd.read_csv('../../../data/metrics/community/events.csv', parse_dates=['start_date'])\n",
    "data.ward_code = data.ward_code.fillna('UNKNOWN')"
   ]
  },
  {
   "cell_type": "markdown",
   "id": "6c604e73",
   "metadata": {
    "papermill": {
     "duration": 0.001723,
     "end_time": "2023-10-09T23:40:26.351195",
     "exception": false,
     "start_time": "2023-10-09T23:40:26.349472",
     "status": "completed"
    },
    "tags": []
   },
   "source": [
    "Set up output directories"
   ]
  },
  {
   "cell_type": "code",
   "execution_count": 4,
   "id": "e68ea059",
   "metadata": {
    "execution": {
     "iopub.execute_input": "2023-10-09T23:40:26.355807Z",
     "iopub.status.busy": "2023-10-09T23:40:26.355265Z",
     "iopub.status.idle": "2023-10-09T23:40:26.358688Z",
     "shell.execute_reply": "2023-10-09T23:40:26.358046Z"
    },
    "papermill": {
     "duration": 0.007464,
     "end_time": "2023-10-09T23:40:26.360325",
     "exception": false,
     "start_time": "2023-10-09T23:40:26.352861",
     "status": "completed"
    },
    "tags": []
   },
   "outputs": [],
   "source": [
    "OUT_DIR = '../../../docs/metrics/community/_data'\n",
    "os.makedirs(OUT_DIR, exist_ok=True)"
   ]
  },
  {
   "cell_type": "code",
   "execution_count": 5,
   "id": "8e0f1c1a",
   "metadata": {
    "execution": {
     "iopub.execute_input": "2023-10-09T23:40:26.365000Z",
     "iopub.status.busy": "2023-10-09T23:40:26.364566Z",
     "iopub.status.idle": "2023-10-09T23:40:26.371658Z",
     "shell.execute_reply": "2023-10-09T23:40:26.370963Z"
    },
    "papermill": {
     "duration": 0.011045,
     "end_time": "2023-10-09T23:40:26.373122",
     "exception": false,
     "start_time": "2023-10-09T23:40:26.362077",
     "status": "completed"
    },
    "tags": []
   },
   "outputs": [],
   "source": [
    "pd.Series({\n",
    "  'events': data.event_name.count(),\n",
    "  'audience': data.audience.sum().astype(int),\n",
    "  'errors': {\n",
    "    'missing_wards': (data.ward_code == 'UNKNOWN').value_counts()[True],\n",
    "    'missing_audience': data.audience.isna().value_counts()[True],\n",
    "    'zero_audience':  (data.audience < 1).value_counts()[True],  \n",
    "  }\n",
    "}).to_json(os.path.join(OUT_DIR, 'headlines.json'), indent=2)"
   ]
  },
  {
   "cell_type": "code",
   "execution_count": 6,
   "id": "c8a05088",
   "metadata": {
    "execution": {
     "iopub.execute_input": "2023-10-09T23:40:26.377913Z",
     "iopub.status.busy": "2023-10-09T23:40:26.377489Z",
     "iopub.status.idle": "2023-10-09T23:40:26.384792Z",
     "shell.execute_reply": "2023-10-09T23:40:26.384205Z"
    },
    "papermill": {
     "duration": 0.011426,
     "end_time": "2023-10-09T23:40:26.386359",
     "exception": false,
     "start_time": "2023-10-09T23:40:26.374933",
     "status": "completed"
    },
    "tags": []
   },
   "outputs": [],
   "source": [
    "by_ward = pd.DataFrame({\n",
    "  'events': data.groupby('ward_code').event_name.count().fillna(0).astype('int'),\n",
    "  'audience': data.groupby('ward_code').audience.sum().fillna(0).astype('int'),\n",
    "}).to_csv(os.path.join(OUT_DIR, 'by_ward.csv'))"
   ]
  },
  {
   "cell_type": "code",
   "execution_count": 7,
   "id": "c39b8abc",
   "metadata": {
    "execution": {
     "iopub.execute_input": "2023-10-09T23:40:26.391152Z",
     "iopub.status.busy": "2023-10-09T23:40:26.390858Z",
     "iopub.status.idle": "2023-10-09T23:40:26.402783Z",
     "shell.execute_reply": "2023-10-09T23:40:26.402187Z"
    },
    "papermill": {
     "duration": 0.016185,
     "end_time": "2023-10-09T23:40:26.404410",
     "exception": false,
     "start_time": "2023-10-09T23:40:26.388225",
     "status": "completed"
    },
    "tags": []
   },
   "outputs": [],
   "source": [
    "by_date = pd.DataFrame({\n",
    "    'events': data.groupby('start_date').event_name.count(),\n",
    "    'audience': data.groupby('start_date').audience.sum(),\n",
    "}).resample('M').sum()\n",
    "\n",
    "pd.concat([\n",
    "    by_date,\n",
    "    by_date.pipe(named_cumulative_sum)\n",
    "], axis=1).astype('int').to_csv(os.path.join(OUT_DIR, 'by_date.csv'))"
   ]
  }
 ],
 "metadata": {
  "kernelspec": {
   "display_name": "leeds-2023-YZF5GfJv",
   "language": "python",
   "name": "python3"
  },
  "language_info": {
   "codemirror_mode": {
    "name": "ipython",
    "version": 3
   },
   "file_extension": ".py",
   "mimetype": "text/x-python",
   "name": "python",
   "nbconvert_exporter": "python",
   "pygments_lexer": "ipython3",
   "version": "3.10.13"
  },
  "papermill": {
   "default_parameters": {},
   "duration": 1.915245,
   "end_time": "2023-10-09T23:40:26.623640",
   "environment_variables": {},
   "exception": null,
   "input_path": "prepare.ipynb",
   "output_path": "../../../working/output/community-prepare.ipynb",
   "parameters": {},
   "start_time": "2023-10-09T23:40:24.708395",
   "version": "2.4.0"
  }
 },
 "nbformat": 4,
 "nbformat_minor": 5
}