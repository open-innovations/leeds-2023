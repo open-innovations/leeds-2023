{
 "cells": [
  {
   "cell_type": "code",
   "execution_count": 1,
   "id": "df5b09fc",
   "metadata": {
    "execution": {
     "iopub.execute_input": "2023-07-25T09:30:34.376827Z",
     "iopub.status.busy": "2023-07-25T09:30:34.376667Z",
     "iopub.status.idle": "2023-07-25T09:30:34.538420Z",
     "shell.execute_reply": "2023-07-25T09:30:34.537969Z"
    },
    "papermill": {
     "duration": 0.167754,
     "end_time": "2023-07-25T09:30:34.539545",
     "exception": false,
     "start_time": "2023-07-25T09:30:34.371791",
     "status": "completed"
    },
    "tags": []
   },
   "outputs": [],
   "source": [
    "import os, sys\n",
    "TOP_DIR = os.path.realpath('../../..')\n",
    "if TOP_DIR not in sys.path: sys.path.append(TOP_DIR)\n",
    "import pandas as pd"
   ]
  },
  {
   "cell_type": "code",
   "execution_count": 2,
   "id": "24d39607",
   "metadata": {
    "execution": {
     "iopub.execute_input": "2023-07-25T09:30:34.542070Z",
     "iopub.status.busy": "2023-07-25T09:30:34.541898Z",
     "iopub.status.idle": "2023-07-25T09:30:34.544466Z",
     "shell.execute_reply": "2023-07-25T09:30:34.544144Z"
    },
    "papermill": {
     "duration": 0.00465,
     "end_time": "2023-07-25T09:30:34.545214",
     "exception": false,
     "start_time": "2023-07-25T09:30:34.540564",
     "status": "completed"
    },
    "tags": []
   },
   "outputs": [],
   "source": [
    "from lib.util.convert import named_cumulative_sum"
   ]
  },
  {
   "cell_type": "code",
   "execution_count": 3,
   "id": "afefbe6c",
   "metadata": {
    "execution": {
     "iopub.execute_input": "2023-07-25T09:30:34.547299Z",
     "iopub.status.busy": "2023-07-25T09:30:34.547166Z",
     "iopub.status.idle": "2023-07-25T09:30:34.552857Z",
     "shell.execute_reply": "2023-07-25T09:30:34.552548Z"
    },
    "papermill": {
     "duration": 0.007549,
     "end_time": "2023-07-25T09:30:34.553569",
     "exception": false,
     "start_time": "2023-07-25T09:30:34.546020",
     "status": "completed"
    },
    "tags": []
   },
   "outputs": [],
   "source": [
    "data = pd.read_csv('../../../data/metrics/community/events.csv', parse_dates=['start_date'])\n",
    "data.ward_code = data.ward_code.fillna('UNKNOWN')"
   ]
  },
  {
   "cell_type": "markdown",
   "id": "8bb71094",
   "metadata": {
    "papermill": {
     "duration": 0.000796,
     "end_time": "2023-07-25T09:30:34.555220",
     "exception": false,
     "start_time": "2023-07-25T09:30:34.554424",
     "status": "completed"
    },
    "tags": []
   },
   "source": [
    "Set up output directories"
   ]
  },
  {
   "cell_type": "code",
   "execution_count": 4,
   "id": "abfc5abe",
   "metadata": {
    "execution": {
     "iopub.execute_input": "2023-07-25T09:30:34.557214Z",
     "iopub.status.busy": "2023-07-25T09:30:34.557075Z",
     "iopub.status.idle": "2023-07-25T09:30:34.558961Z",
     "shell.execute_reply": "2023-07-25T09:30:34.558661Z"
    },
    "papermill": {
     "duration": 0.00358,
     "end_time": "2023-07-25T09:30:34.559541",
     "exception": false,
     "start_time": "2023-07-25T09:30:34.555961",
     "status": "completed"
    },
    "tags": []
   },
   "outputs": [],
   "source": [
    "OUT_DIR = '../../../docs/metrics/community/_data'\n",
    "os.makedirs(OUT_DIR, exist_ok=True)"
   ]
  },
  {
   "cell_type": "code",
   "execution_count": 5,
   "id": "c7013f82",
   "metadata": {
    "execution": {
     "iopub.execute_input": "2023-07-25T09:30:34.561580Z",
     "iopub.status.busy": "2023-07-25T09:30:34.561417Z",
     "iopub.status.idle": "2023-07-25T09:30:34.564910Z",
     "shell.execute_reply": "2023-07-25T09:30:34.564636Z"
    },
    "papermill": {
     "duration": 0.005176,
     "end_time": "2023-07-25T09:30:34.565496",
     "exception": false,
     "start_time": "2023-07-25T09:30:34.560320",
     "status": "completed"
    },
    "tags": []
   },
   "outputs": [],
   "source": [
    "pd.Series({\n",
    "  'events': data.event_name.count(),\n",
    "  'audience': data.audience.sum().astype(int),\n",
    "  'errors': {\n",
    "    'missing_wards': (data.ward_code == 'UNKNOWN').value_counts()[True],\n",
    "    'missing_audience': data.audience.isna().value_counts()[True],\n",
    "    'zero_audience':  (data.audience < 1).value_counts()[True],  \n",
    "  }\n",
    "}).to_json(os.path.join(OUT_DIR, 'headlines.json'), indent=2)"
   ]
  },
  {
   "cell_type": "code",
   "execution_count": 6,
   "id": "8b39f6b9",
   "metadata": {
    "execution": {
     "iopub.execute_input": "2023-07-25T09:30:34.567519Z",
     "iopub.status.busy": "2023-07-25T09:30:34.567418Z",
     "iopub.status.idle": "2023-07-25T09:30:34.571257Z",
     "shell.execute_reply": "2023-07-25T09:30:34.570959Z"
    },
    "papermill": {
     "duration": 0.005578,
     "end_time": "2023-07-25T09:30:34.571883",
     "exception": false,
     "start_time": "2023-07-25T09:30:34.566305",
     "status": "completed"
    },
    "tags": []
   },
   "outputs": [],
   "source": [
    "by_ward = pd.DataFrame({\n",
    "  'events': data.groupby('ward_code').event_name.count().fillna(0).astype('int'),\n",
    "  'audience': data.groupby('ward_code').audience.sum().fillna(0).astype('int'),\n",
    "}).to_csv(os.path.join(OUT_DIR, 'by_ward.csv'))"
   ]
  },
  {
   "cell_type": "code",
   "execution_count": 7,
   "id": "def2774b",
   "metadata": {
    "execution": {
     "iopub.execute_input": "2023-07-25T09:30:34.574201Z",
     "iopub.status.busy": "2023-07-25T09:30:34.574032Z",
     "iopub.status.idle": "2023-07-25T09:30:34.580230Z",
     "shell.execute_reply": "2023-07-25T09:30:34.579908Z"
    },
    "papermill": {
     "duration": 0.008053,
     "end_time": "2023-07-25T09:30:34.580863",
     "exception": false,
     "start_time": "2023-07-25T09:30:34.572810",
     "status": "completed"
    },
    "tags": []
   },
   "outputs": [],
   "source": [
    "by_date = pd.DataFrame({\n",
    "    'events': data.groupby('start_date').event_name.count(),\n",
    "    'audience': data.groupby('start_date').audience.sum(),\n",
    "}).resample('M').sum()\n",
    "\n",
    "pd.concat([\n",
    "    by_date,\n",
    "    by_date.pipe(named_cumulative_sum)\n",
    "], axis=1).astype('int').to_csv(os.path.join(OUT_DIR, 'by_date.csv'))"
   ]
  }
 ],
 "metadata": {
  "kernelspec": {
   "display_name": "leeds-2023-YZF5GfJv",
   "language": "python",
   "name": "python3"
  },
  "language_info": {
   "codemirror_mode": {
    "name": "ipython",
    "version": 3
   },
   "file_extension": ".py",
   "mimetype": "text/x-python",
   "name": "python",
   "nbconvert_exporter": "python",
   "pygments_lexer": "ipython3",
   "version": "3.10.6"
  },
  "papermill": {
   "default_parameters": {},
   "duration": 1.141518,
   "end_time": "2023-07-25T09:30:34.798879",
   "environment_variables": {},
   "exception": null,
   "input_path": "prepare.ipynb",
   "output_path": "../../../working/output/community-prepare.ipynb",
   "parameters": {},
   "start_time": "2023-07-25T09:30:33.657361",
   "version": "2.4.0"
  }
 },
 "nbformat": 4,
 "nbformat_minor": 5
}