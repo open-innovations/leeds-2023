{
 "cells": [
  {
   "cell_type": "code",
   "execution_count": 1,
   "id": "5debd92a",
   "metadata": {
    "execution": {
     "iopub.execute_input": "2023-10-12T23:37:54.458357Z",
     "iopub.status.busy": "2023-10-12T23:37:54.457801Z",
     "iopub.status.idle": "2023-10-12T23:37:54.713951Z",
     "shell.execute_reply": "2023-10-12T23:37:54.713252Z"
    },
    "papermill": {
     "duration": 0.262562,
     "end_time": "2023-10-12T23:37:54.715960",
     "exception": false,
     "start_time": "2023-10-12T23:37:54.453398",
     "status": "completed"
    },
    "tags": []
   },
   "outputs": [],
   "source": [
    "import os\n",
    "import sys\n",
    "import pandas as pd\n",
    "lib_dir = os.path.realpath('../../../lib/')\n",
    "if lib_dir not in sys.path: sys.path.append(lib_dir)"
   ]
  },
  {
   "cell_type": "code",
   "execution_count": 2,
   "id": "53a342ab",
   "metadata": {
    "execution": {
     "iopub.execute_input": "2023-10-12T23:37:54.723309Z",
     "iopub.status.busy": "2023-10-12T23:37:54.722645Z",
     "iopub.status.idle": "2023-10-12T23:38:04.586177Z",
     "shell.execute_reply": "2023-10-12T23:38:04.585470Z"
    },
    "papermill": {
     "duration": 9.868917,
     "end_time": "2023-10-12T23:38:04.587892",
     "exception": false,
     "start_time": "2023-10-12T23:37:54.718975",
     "status": "completed"
    },
    "tags": []
   },
   "outputs": [],
   "source": [
    "import util.geo"
   ]
  },
  {
   "cell_type": "code",
   "execution_count": 3,
   "id": "c94b3e42",
   "metadata": {
    "execution": {
     "iopub.execute_input": "2023-10-12T23:38:04.595197Z",
     "iopub.status.busy": "2023-10-12T23:38:04.594717Z",
     "iopub.status.idle": "2023-10-12T23:38:04.599129Z",
     "shell.execute_reply": "2023-10-12T23:38:04.598465Z"
    },
    "papermill": {
     "duration": 0.009782,
     "end_time": "2023-10-12T23:38:04.600780",
     "exception": false,
     "start_time": "2023-10-12T23:38:04.590998",
     "status": "completed"
    },
    "tags": []
   },
   "outputs": [],
   "source": [
    "EVENTS_RAW_DATA = '../../../working/metrics/partner-events/events.csv'\n",
    "DATA_DIR = '../../../data/metrics/events/partner-events/'\n",
    "EVENTS_DATA = os.path.join(DATA_DIR, 'events.csv')"
   ]
  },
  {
   "cell_type": "code",
   "execution_count": 4,
   "id": "502ac76c",
   "metadata": {
    "execution": {
     "iopub.execute_input": "2023-10-12T23:38:04.607261Z",
     "iopub.status.busy": "2023-10-12T23:38:04.606816Z",
     "iopub.status.idle": "2023-10-12T23:38:04.610448Z",
     "shell.execute_reply": "2023-10-12T23:38:04.609807Z"
    },
    "papermill": {
     "duration": 0.008579,
     "end_time": "2023-10-12T23:38:04.612023",
     "exception": false,
     "start_time": "2023-10-12T23:38:04.603444",
     "status": "completed"
    },
    "tags": []
   },
   "outputs": [],
   "source": [
    "columns = {\n",
    "    'Event Name': 'name',\n",
    "    'Event Start Date': 'start_date',\n",
    "    'Event End Date': 'end_date',\n",
    "    'Partner/Promote': 'partner_promote',\n",
    "    'Stage': 'stage',\n",
    "    'Live date': 'live_date',\n",
    "    'Venue postcode': 'postcode',\n",
    "    'Pricing Policy': 'pricing',\n",
    "    'Venue - including address': 'venue',\n",
    "    'Is this event on Leeds Inspried?': 'on_leeds_inspired',\n",
    "}"
   ]
  },
  {
   "cell_type": "markdown",
   "id": "8ba92d7e",
   "metadata": {
    "papermill": {
     "duration": 0.002661,
     "end_time": "2023-10-12T23:38:04.617360",
     "exception": false,
     "start_time": "2023-10-12T23:38:04.614699",
     "status": "completed"
    },
    "tags": []
   },
   "source": [
    "Load the data and rename columns. Parse the dates to dates."
   ]
  },
  {
   "cell_type": "code",
   "execution_count": 5,
   "id": "3d3503d5",
   "metadata": {
    "execution": {
     "iopub.execute_input": "2023-10-12T23:38:04.623669Z",
     "iopub.status.busy": "2023-10-12T23:38:04.623451Z",
     "iopub.status.idle": "2023-10-12T23:38:04.634970Z",
     "shell.execute_reply": "2023-10-12T23:38:04.634353Z"
    },
    "papermill": {
     "duration": 0.016696,
     "end_time": "2023-10-12T23:38:04.636664",
     "exception": false,
     "start_time": "2023-10-12T23:38:04.619968",
     "status": "completed"
    },
    "tags": []
   },
   "outputs": [],
   "source": [
    "data = pd.read_csv(EVENTS_RAW_DATA)[columns.keys()].rename(columns=columns)\n",
    "data.start_date = pd.to_datetime(data.start_date, errors='coerce')\n",
    "data.end_date = pd.to_datetime(data.end_date, errors='coerce')"
   ]
  },
  {
   "cell_type": "markdown",
   "id": "1008bf79",
   "metadata": {
    "papermill": {
     "duration": 0.002653,
     "end_time": "2023-10-12T23:38:04.642090",
     "exception": false,
     "start_time": "2023-10-12T23:38:04.639437",
     "status": "completed"
    },
    "tags": []
   },
   "source": [
    "Filter data by not LI Pull through and start date before now"
   ]
  },
  {
   "cell_type": "code",
   "execution_count": 6,
   "id": "612ba6a1",
   "metadata": {
    "execution": {
     "iopub.execute_input": "2023-10-12T23:38:04.648535Z",
     "iopub.status.busy": "2023-10-12T23:38:04.648294Z",
     "iopub.status.idle": "2023-10-12T23:38:04.653728Z",
     "shell.execute_reply": "2023-10-12T23:38:04.653129Z"
    },
    "papermill": {
     "duration": 0.010538,
     "end_time": "2023-10-12T23:38:04.655341",
     "exception": false,
     "start_time": "2023-10-12T23:38:04.644803",
     "status": "completed"
    },
    "tags": []
   },
   "outputs": [],
   "source": [
    "data = data[\n",
    "    # (data.live_date == 'This event is live ') &\n",
    "    ((data.stage != 'LI pull through') & data.stage.notna()) &\n",
    "    (data.start_date < pd.Timestamp.now())\n",
    "]"
   ]
  },
  {
   "cell_type": "code",
   "execution_count": 7,
   "id": "675b4997",
   "metadata": {
    "execution": {
     "iopub.execute_input": "2023-10-12T23:38:04.661994Z",
     "iopub.status.busy": "2023-10-12T23:38:04.661542Z",
     "iopub.status.idle": "2023-10-12T23:38:05.633485Z",
     "shell.execute_reply": "2023-10-12T23:38:05.632832Z"
    },
    "papermill": {
     "duration": 0.977158,
     "end_time": "2023-10-12T23:38:05.635254",
     "exception": false,
     "start_time": "2023-10-12T23:38:04.658096",
     "status": "completed"
    },
    "tags": []
   },
   "outputs": [],
   "source": [
    "data['ward_code'] = data.postcode.pipe(util.geo.postcode_formatter).map(util.geo.postcode_to_ward_code)\n",
    "data['ward_name'] = data.ward_code.pipe(util.geo.ward_code_to_name)"
   ]
  },
  {
   "cell_type": "markdown",
   "id": "a3917d9d",
   "metadata": {
    "papermill": {
     "duration": 0.003753,
     "end_time": "2023-10-12T23:38:05.642537",
     "exception": false,
     "start_time": "2023-10-12T23:38:05.638784",
     "status": "completed"
    },
    "tags": []
   },
   "source": [
    "Save the file"
   ]
  },
  {
   "cell_type": "code",
   "execution_count": 8,
   "id": "6d9c4556",
   "metadata": {
    "execution": {
     "iopub.execute_input": "2023-10-12T23:38:05.649408Z",
     "iopub.status.busy": "2023-10-12T23:38:05.648804Z",
     "iopub.status.idle": "2023-10-12T23:38:05.656558Z",
     "shell.execute_reply": "2023-10-12T23:38:05.655952Z"
    },
    "papermill": {
     "duration": 0.012984,
     "end_time": "2023-10-12T23:38:05.658261",
     "exception": false,
     "start_time": "2023-10-12T23:38:05.645277",
     "status": "completed"
    },
    "tags": []
   },
   "outputs": [],
   "source": [
    "data[\n",
    "    ['name','start_date','end_date','ward_code']\n",
    "].to_csv(EVENTS_DATA, index=False)"
   ]
  },
  {
   "cell_type": "markdown",
   "id": "9c503e73",
   "metadata": {
    "papermill": {
     "duration": 0.002756,
     "end_time": "2023-10-12T23:38:05.663844",
     "exception": false,
     "start_time": "2023-10-12T23:38:05.661088",
     "status": "completed"
    },
    "tags": []
   },
   "source": [
    "Print out missing postcode data"
   ]
  },
  {
   "cell_type": "code",
   "execution_count": 9,
   "id": "63d0bb47",
   "metadata": {
    "execution": {
     "iopub.execute_input": "2023-10-12T23:38:05.670761Z",
     "iopub.status.busy": "2023-10-12T23:38:05.670293Z",
     "iopub.status.idle": "2023-10-12T23:38:05.684371Z",
     "shell.execute_reply": "2023-10-12T23:38:05.683722Z"
    },
    "papermill": {
     "duration": 0.019219,
     "end_time": "2023-10-12T23:38:05.685895",
     "exception": false,
     "start_time": "2023-10-12T23:38:05.666676",
     "status": "completed"
    },
    "tags": []
   },
   "outputs": [
    {
     "data": {
      "text/html": [
       "<div>\n",
       "<style scoped>\n",
       "    .dataframe tbody tr th:only-of-type {\n",
       "        vertical-align: middle;\n",
       "    }\n",
       "\n",
       "    .dataframe tbody tr th {\n",
       "        vertical-align: top;\n",
       "    }\n",
       "\n",
       "    .dataframe thead th {\n",
       "        text-align: right;\n",
       "    }\n",
       "</style>\n",
       "<table border=\"1\" class=\"dataframe\">\n",
       "  <thead>\n",
       "    <tr style=\"text-align: right;\">\n",
       "      <th></th>\n",
       "      <th>name</th>\n",
       "      <th>start_date</th>\n",
       "    </tr>\n",
       "  </thead>\n",
       "  <tbody>\n",
       "    <tr>\n",
       "      <th>1</th>\n",
       "      <td>East Street Arts, A City Less Grey 2022</td>\n",
       "      <td>2022-10-08</td>\n",
       "    </tr>\n",
       "    <tr>\n",
       "      <th>3</th>\n",
       "      <td>Phoenix Dance Theatre Virtual Gallery</td>\n",
       "      <td>2023-01-01</td>\n",
       "    </tr>\n",
       "    <tr>\n",
       "      <th>4</th>\n",
       "      <td>The Big Art Giveaway, School of Creative Arts ...</td>\n",
       "      <td>2023-01-01</td>\n",
       "    </tr>\n",
       "    <tr>\n",
       "      <th>5</th>\n",
       "      <td>Embassy of Netherlands, Meet Leeds Lab</td>\n",
       "      <td>2023-01-16</td>\n",
       "    </tr>\n",
       "    <tr>\n",
       "      <th>6</th>\n",
       "      <td>Shifting Borders: A Journey to the Centre of o...</td>\n",
       "      <td>2023-01-24</td>\n",
       "    </tr>\n",
       "    <tr>\n",
       "      <th>...</th>\n",
       "      <td>...</td>\n",
       "      <td>...</td>\n",
       "    </tr>\n",
       "    <tr>\n",
       "      <th>210</th>\n",
       "      <td>Fathom - Goat Monkey</td>\n",
       "      <td>2023-10-09</td>\n",
       "    </tr>\n",
       "    <tr>\n",
       "      <th>211</th>\n",
       "      <td>Re-imagining Home: Teacher CPD Session</td>\n",
       "      <td>2023-10-09</td>\n",
       "    </tr>\n",
       "    <tr>\n",
       "      <th>212</th>\n",
       "      <td>TRANSFORM 23</td>\n",
       "      <td>2023-10-11</td>\n",
       "    </tr>\n",
       "    <tr>\n",
       "      <th>213</th>\n",
       "      <td>Wild Irish Tales: An evening of story telling ...</td>\n",
       "      <td>2023-10-11</td>\n",
       "    </tr>\n",
       "    <tr>\n",
       "      <th>215</th>\n",
       "      <td>Sayang presents: Si Polan x2 sharing (RSVP)</td>\n",
       "      <td>2023-10-12</td>\n",
       "    </tr>\n",
       "  </tbody>\n",
       "</table>\n",
       "<p>68 rows × 2 columns</p>\n",
       "</div>"
      ],
      "text/plain": [
       "                                                  name start_date\n",
       "1              East Street Arts, A City Less Grey 2022 2022-10-08\n",
       "3                Phoenix Dance Theatre Virtual Gallery 2023-01-01\n",
       "4    The Big Art Giveaway, School of Creative Arts ... 2023-01-01\n",
       "5               Embassy of Netherlands, Meet Leeds Lab 2023-01-16\n",
       "6    Shifting Borders: A Journey to the Centre of o... 2023-01-24\n",
       "..                                                 ...        ...\n",
       "210                               Fathom - Goat Monkey 2023-10-09\n",
       "211             Re-imagining Home: Teacher CPD Session 2023-10-09\n",
       "212                                      TRANSFORM 23  2023-10-11\n",
       "213  Wild Irish Tales: An evening of story telling ... 2023-10-11\n",
       "215        Sayang presents: Si Polan x2 sharing (RSVP) 2023-10-12\n",
       "\n",
       "[68 rows x 2 columns]"
      ]
     },
     "execution_count": 9,
     "metadata": {},
     "output_type": "execute_result"
    }
   ],
   "source": [
    "data[data.postcode.isna()][[\n",
    "    'name', 'start_date'\n",
    "]]"
   ]
  },
  {
   "cell_type": "markdown",
   "id": "99098f8a",
   "metadata": {
    "papermill": {
     "duration": 0.003033,
     "end_time": "2023-10-12T23:38:05.692076",
     "exception": false,
     "start_time": "2023-10-12T23:38:05.689043",
     "status": "completed"
    },
    "tags": []
   },
   "source": [
    "Plot the pricing"
   ]
  },
  {
   "cell_type": "code",
   "execution_count": 10,
   "id": "aa4f3ada",
   "metadata": {
    "execution": {
     "iopub.execute_input": "2023-10-12T23:38:05.699686Z",
     "iopub.status.busy": "2023-10-12T23:38:05.699073Z",
     "iopub.status.idle": "2023-10-12T23:38:06.217634Z",
     "shell.execute_reply": "2023-10-12T23:38:06.216972Z"
    },
    "papermill": {
     "duration": 0.524199,
     "end_time": "2023-10-12T23:38:06.219411",
     "exception": false,
     "start_time": "2023-10-12T23:38:05.695212",
     "status": "completed"
    },
    "tags": []
   },
   "outputs": [
    {
     "data": {
      "image/png": "[encoded data removed]",
      "text/plain": [
       "<Figure size 640x480 with 1 Axes>"
      ]
     },
     "metadata": {},
     "output_type": "display_data"
    }
   ],
   "source": [
    "# .groupby('pricing').count().plot.barh()\n",
    "pricing = data.pricing.fillna('Unspecified').str.replace('[\\[\\'\\]]', '', regex=True).to_frame().reset_index().groupby('pricing').count()\n",
    "\n",
    "pricing.columns = ['count']\n",
    "plot = pricing.plot.barh()\n"
   ]
  },
  {
   "cell_type": "code",
   "execution_count": null,
   "id": "0e7982dc",
   "metadata": {
    "papermill": {
     "duration": 0.003793,
     "end_time": "2023-10-12T23:38:06.226899",
     "exception": false,
     "start_time": "2023-10-12T23:38:06.223106",
     "status": "completed"
    },
    "tags": []
   },
   "outputs": [],
   "source": []
  }
 ],
 "metadata": {
  "kernelspec": {
   "display_name": "leeds-2023-YZF5GfJv",
   "language": "python",
   "name": "python3"
  },
  "language_info": {
   "codemirror_mode": {
    "name": "ipython",
    "version": 3
   },
   "file_extension": ".py",
   "mimetype": "text/x-python",
   "name": "python",
   "nbconvert_exporter": "python",
   "pygments_lexer": "ipython3",
   "version": "3.10.13"
  },
  "papermill": {
   "default_parameters": {},
   "duration": 13.557787,
   "end_time": "2023-10-12T23:38:06.651632",
   "environment_variables": {},
   "exception": null,
   "input_path": "transform.ipynb",
   "output_path": "../../../working/output/partner-events-transform.ipynb",
   "parameters": {},
   "start_time": "2023-10-12T23:37:53.093845",
   "version": "2.4.0"
  }
 },
 "nbformat": 4,
 "nbformat_minor": 5
}