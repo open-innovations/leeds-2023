{
 "cells": [
  {
   "cell_type": "code",
   "execution_count": 1,
   "id": "cdded06a",
   "metadata": {
    "execution": {
     "iopub.execute_input": "2023-07-31T23:39:34.354094Z",
     "iopub.status.busy": "2023-07-31T23:39:34.352969Z",
     "iopub.status.idle": "2023-07-31T23:39:44.146349Z",
     "shell.execute_reply": "2023-07-31T23:39:44.145370Z"
    },
    "papermill": {
     "duration": 9.802156,
     "end_time": "2023-07-31T23:39:44.148538",
     "exception": false,
     "start_time": "2023-07-31T23:39:34.346382",
     "status": "completed"
    },
    "tags": []
   },
   "outputs": [],
   "source": [
    "import os\n",
    "import pandas as pd\n",
    "from events import load_event_data, get_first_ward, normalise_ward"
   ]
  },
  {
   "cell_type": "code",
   "execution_count": 2,
   "id": "15322845",
   "metadata": {
    "execution": {
     "iopub.execute_input": "2023-07-31T23:39:44.156323Z",
     "iopub.status.busy": "2023-07-31T23:39:44.155621Z",
     "iopub.status.idle": "2023-07-31T23:39:44.160232Z",
     "shell.execute_reply": "2023-07-31T23:39:44.159405Z"
    },
    "papermill": {
     "duration": 0.010353,
     "end_time": "2023-07-31T23:39:44.162277",
     "exception": false,
     "start_time": "2023-07-31T23:39:44.151924",
     "status": "completed"
    },
    "tags": []
   },
   "outputs": [],
   "source": [
    "latest_date = pd.Timestamp.today().ceil('D')"
   ]
  },
  {
   "cell_type": "code",
   "execution_count": 3,
   "id": "408f18bc",
   "metadata": {
    "execution": {
     "iopub.execute_input": "2023-07-31T23:39:44.168055Z",
     "iopub.status.busy": "2023-07-31T23:39:44.167418Z",
     "iopub.status.idle": "2023-07-31T23:39:44.184371Z",
     "shell.execute_reply": "2023-07-31T23:39:44.183557Z"
    },
    "papermill": {
     "duration": 0.02171,
     "end_time": "2023-07-31T23:39:44.186143",
     "exception": false,
     "start_time": "2023-07-31T23:39:44.164433",
     "status": "completed"
    },
    "tags": []
   },
   "outputs": [],
   "source": [
    "tickets = pd.read_csv('../../../../data/metrics/events/tickets/orders.csv', parse_dates=['created_at', 'event_date'])\n",
    "tickets = tickets[tickets.event_date <= latest_date]"
   ]
  },
  {
   "cell_type": "code",
   "execution_count": 4,
   "id": "5cd5835a",
   "metadata": {
    "execution": {
     "iopub.execute_input": "2023-07-31T23:39:44.192068Z",
     "iopub.status.busy": "2023-07-31T23:39:44.191510Z",
     "iopub.status.idle": "2023-07-31T23:39:44.339966Z",
     "shell.execute_reply": "2023-07-31T23:39:44.338397Z"
    },
    "papermill": {
     "duration": 0.155011,
     "end_time": "2023-07-31T23:39:44.343045",
     "exception": false,
     "start_time": "2023-07-31T23:39:44.188034",
     "status": "completed"
    },
    "tags": []
   },
   "outputs": [],
   "source": [
    "events = load_event_data()\n",
    "\n",
    "events = pd.concat([\n",
    "  events,\n",
    "  events.pipe(get_first_ward).pipe(normalise_ward).fillna('UNKNOWN'),\n",
    "  pd.Series(\n",
    "      events.actual_audience_size_number_of_participants_in_person + events.actual_audience_size_number_of_participants_online,\n",
    "      name='attendances'\n",
    "  )\n",
    "], axis=1).rename(columns={\n",
    "    'start_date': 'date'\n",
    "}).loc[:, ['ward_code', 'date', 'event_unique_identifier', 'attendances']]"
   ]
  },
  {
   "cell_type": "code",
   "execution_count": 5,
   "id": "fdb6a898",
   "metadata": {
    "execution": {
     "iopub.execute_input": "2023-07-31T23:39:44.350538Z",
     "iopub.status.busy": "2023-07-31T23:39:44.349977Z",
     "iopub.status.idle": "2023-07-31T23:39:44.353388Z",
     "shell.execute_reply": "2023-07-31T23:39:44.352586Z"
    },
    "papermill": {
     "duration": 0.008412,
     "end_time": "2023-07-31T23:39:44.354793",
     "exception": false,
     "start_time": "2023-07-31T23:39:44.346381",
     "status": "completed"
    },
    "tags": []
   },
   "outputs": [],
   "source": [
    "OUTPUT_DIR='../../../../docs/metrics/events/signature/_data/'\n",
    "os.makedirs(OUTPUT_DIR, exist_ok=True)"
   ]
  },
  {
   "cell_type": "markdown",
   "id": "4635998a",
   "metadata": {
    "papermill": {
     "duration": 0.002153,
     "end_time": "2023-07-31T23:39:44.358666",
     "exception": false,
     "start_time": "2023-07-31T23:39:44.356513",
     "status": "completed"
    },
    "tags": []
   },
   "source": [
    "Events CSVs"
   ]
  },
  {
   "cell_type": "code",
   "execution_count": 6,
   "id": "8522bfcf",
   "metadata": {
    "execution": {
     "iopub.execute_input": "2023-07-31T23:39:44.364712Z",
     "iopub.status.busy": "2023-07-31T23:39:44.364122Z",
     "iopub.status.idle": "2023-07-31T23:39:44.371903Z",
     "shell.execute_reply": "2023-07-31T23:39:44.370794Z"
    },
    "papermill": {
     "duration": 0.012703,
     "end_time": "2023-07-31T23:39:44.373541",
     "exception": false,
     "start_time": "2023-07-31T23:39:44.360838",
     "status": "completed"
    },
    "tags": []
   },
   "outputs": [],
   "source": [
    "pd.DataFrame({\n",
    "  'events': events.groupby('ward_code').event_unique_identifier.count(),\n",
    "  'attendances': events.groupby('ward_code').attendances.sum().astype(int),\n",
    "}).to_csv(os.path.join(OUTPUT_DIR, 'events_by_ward.csv'))\n"
   ]
  },
  {
   "cell_type": "code",
   "execution_count": 7,
   "id": "d1cd9ab6",
   "metadata": {
    "execution": {
     "iopub.execute_input": "2023-07-31T23:39:44.380007Z",
     "iopub.status.busy": "2023-07-31T23:39:44.379539Z",
     "iopub.status.idle": "2023-07-31T23:39:44.390113Z",
     "shell.execute_reply": "2023-07-31T23:39:44.389573Z"
    },
    "papermill": {
     "duration": 0.015565,
     "end_time": "2023-07-31T23:39:44.391512",
     "exception": false,
     "start_time": "2023-07-31T23:39:44.375947",
     "status": "completed"
    },
    "tags": []
   },
   "outputs": [],
   "source": [
    "pd.DataFrame({\n",
    "  'events': events.groupby('date').event_unique_identifier.count(),\n",
    "  'attendances': events.groupby('date').attendances.sum().astype(int),\n",
    "}).resample('M').sum().astype(int).to_csv(os.path.join(OUTPUT_DIR, 'events_by_date.csv'))"
   ]
  },
  {
   "cell_type": "markdown",
   "id": "8380b55c",
   "metadata": {
    "papermill": {
     "duration": 0.002506,
     "end_time": "2023-07-31T23:39:44.396089",
     "exception": false,
     "start_time": "2023-07-31T23:39:44.393583",
     "status": "completed"
    },
    "tags": []
   },
   "source": [
    "Tickets CSV"
   ]
  },
  {
   "cell_type": "code",
   "execution_count": 8,
   "id": "d35cebb5",
   "metadata": {
    "execution": {
     "iopub.execute_input": "2023-07-31T23:39:44.401958Z",
     "iopub.status.busy": "2023-07-31T23:39:44.401390Z",
     "iopub.status.idle": "2023-07-31T23:39:44.407947Z",
     "shell.execute_reply": "2023-07-31T23:39:44.407434Z"
    },
    "papermill": {
     "duration": 0.010991,
     "end_time": "2023-07-31T23:39:44.409437",
     "exception": false,
     "start_time": "2023-07-31T23:39:44.398446",
     "status": "completed"
    },
    "tags": []
   },
   "outputs": [],
   "source": [
    "pd.DataFrame({\n",
    "  'orders': tickets.groupby('ward_code').number_of_tickets.count(),\n",
    "  'tickets': tickets.groupby('ward_code').number_of_tickets.sum().astype(int),\n",
    "}).to_csv(os.path.join(OUTPUT_DIR, 'tickets_by_ward.csv'))"
   ]
  },
  {
   "cell_type": "code",
   "execution_count": 9,
   "id": "afe7afff",
   "metadata": {
    "execution": {
     "iopub.execute_input": "2023-07-31T23:39:44.415734Z",
     "iopub.status.busy": "2023-07-31T23:39:44.415163Z",
     "iopub.status.idle": "2023-07-31T23:39:44.422680Z",
     "shell.execute_reply": "2023-07-31T23:39:44.422156Z"
    },
    "papermill": {
     "duration": 0.012593,
     "end_time": "2023-07-31T23:39:44.424434",
     "exception": false,
     "start_time": "2023-07-31T23:39:44.411841",
     "status": "completed"
    },
    "tags": []
   },
   "outputs": [],
   "source": [
    "pd.DataFrame({\n",
    "  'orders': tickets.groupby('event_date').number_of_tickets.count(),\n",
    "  'tickets': tickets.groupby('event_date').number_of_tickets.sum().astype(int),\n",
    "}).resample('M').sum().to_csv(os.path.join(OUTPUT_DIR, 'tickets_by_event_date.csv'))"
   ]
  },
  {
   "cell_type": "code",
   "execution_count": 10,
   "id": "4c3c5c88",
   "metadata": {
    "execution": {
     "iopub.execute_input": "2023-07-31T23:39:44.432371Z",
     "iopub.status.busy": "2023-07-31T23:39:44.431702Z",
     "iopub.status.idle": "2023-07-31T23:39:44.438048Z",
     "shell.execute_reply": "2023-07-31T23:39:44.437444Z"
    },
    "papermill": {
     "duration": 0.012848,
     "end_time": "2023-07-31T23:39:44.439756",
     "exception": false,
     "start_time": "2023-07-31T23:39:44.426908",
     "status": "completed"
    },
    "tags": []
   },
   "outputs": [],
   "source": [
    "pd.Series({\n",
    "    'total_events': events.event_unique_identifier.count(),\n",
    "    'total_attendances': events.attendances.count(),\n",
    "    'first_event': events.date.min(),\n",
    "    'latest_event': events.date.max(),\n",
    "    'total_ticket_orders_for_events_to_date': tickets.number_of_tickets.count(),\n",
    "    'total_tickets_sold_for_events_to_date': tickets.number_of_tickets.sum(),\n",
    "}).to_json(os.path.join(OUTPUT_DIR, 'headlines.json'), indent=2)"
   ]
  },
  {
   "cell_type": "code",
   "execution_count": null,
   "id": "6e5ffdc9",
   "metadata": {
    "papermill": {
     "duration": 0.00282,
     "end_time": "2023-07-31T23:39:44.445044",
     "exception": false,
     "start_time": "2023-07-31T23:39:44.442224",
     "status": "completed"
    },
    "tags": []
   },
   "outputs": [],
   "source": []
  }
 ],
 "metadata": {
  "kernelspec": {
   "display_name": "leeds-2023-YZF5GfJv",
   "language": "python",
   "name": "python3"
  },
  "language_info": {
   "codemirror_mode": {
    "name": "ipython",
    "version": 3
   },
   "file_extension": ".py",
   "mimetype": "text/x-python",
   "name": "python",
   "nbconvert_exporter": "python",
   "pygments_lexer": "ipython3",
   "version": "3.10.6"
  },
  "papermill": {
   "default_parameters": {},
   "duration": 11.814938,
   "end_time": "2023-07-31T23:39:44.765752",
   "environment_variables": {},
   "exception": null,
   "input_path": "prepare.ipynb",
   "output_path": "../../../../working/output/signature-prepare.ipynb",
   "parameters": {},
   "start_time": "2023-07-31T23:39:32.950814",
   "version": "2.4.0"
  }
 },
 "nbformat": 4,
 "nbformat_minor": 5
}