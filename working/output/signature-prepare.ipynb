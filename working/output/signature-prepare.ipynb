{
 "cells": [
  {
   "cell_type": "code",
   "execution_count": 1,
   "id": "9668e53e",
   "metadata": {
    "execution": {
     "iopub.execute_input": "2023-10-13T23:39:53.463126Z",
     "iopub.status.busy": "2023-10-13T23:39:53.462563Z",
     "iopub.status.idle": "2023-10-13T23:40:03.271472Z",
     "shell.execute_reply": "2023-10-13T23:40:03.270772Z"
    },
    "papermill": {
     "duration": 9.814673,
     "end_time": "2023-10-13T23:40:03.273263",
     "exception": false,
     "start_time": "2023-10-13T23:39:53.458590",
     "status": "completed"
    },
    "tags": []
   },
   "outputs": [],
   "source": [
    "import os\n",
    "import pandas as pd\n",
    "from events import load_event_data, get_first_ward, normalise_ward"
   ]
  },
  {
   "cell_type": "code",
   "execution_count": 2,
   "id": "6a88381e",
   "metadata": {
    "execution": {
     "iopub.execute_input": "2023-10-13T23:40:03.280240Z",
     "iopub.status.busy": "2023-10-13T23:40:03.279615Z",
     "iopub.status.idle": "2023-10-13T23:40:03.284087Z",
     "shell.execute_reply": "2023-10-13T23:40:03.283437Z"
    },
    "papermill": {
     "duration": 0.009468,
     "end_time": "2023-10-13T23:40:03.285720",
     "exception": false,
     "start_time": "2023-10-13T23:40:03.276252",
     "status": "completed"
    },
    "tags": []
   },
   "outputs": [],
   "source": [
    "latest_date = pd.Timestamp.today().ceil('D')"
   ]
  },
  {
   "cell_type": "code",
   "execution_count": 3,
   "id": "11204ec6",
   "metadata": {
    "execution": {
     "iopub.execute_input": "2023-10-13T23:40:03.291603Z",
     "iopub.status.busy": "2023-10-13T23:40:03.291148Z",
     "iopub.status.idle": "2023-10-13T23:40:03.309176Z",
     "shell.execute_reply": "2023-10-13T23:40:03.308570Z"
    },
    "papermill": {
     "duration": 0.022697,
     "end_time": "2023-10-13T23:40:03.310719",
     "exception": false,
     "start_time": "2023-10-13T23:40:03.288022",
     "status": "completed"
    },
    "tags": []
   },
   "outputs": [],
   "source": [
    "tickets = pd.read_csv('../../../../data/metrics/events/tickets/orders.csv', parse_dates=['created_at', 'event_date'])\n",
    "tickets = tickets[tickets.event_date <= latest_date]"
   ]
  },
  {
   "cell_type": "code",
   "execution_count": 4,
   "id": "8356476e",
   "metadata": {
    "execution": {
     "iopub.execute_input": "2023-10-13T23:40:03.316714Z",
     "iopub.status.busy": "2023-10-13T23:40:03.316099Z",
     "iopub.status.idle": "2023-10-13T23:40:03.547906Z",
     "shell.execute_reply": "2023-10-13T23:40:03.547244Z"
    },
    "papermill": {
     "duration": 0.236589,
     "end_time": "2023-10-13T23:40:03.549615",
     "exception": false,
     "start_time": "2023-10-13T23:40:03.313026",
     "status": "completed"
    },
    "tags": []
   },
   "outputs": [],
   "source": [
    "events = load_event_data()\n",
    "\n",
    "events = pd.concat([\n",
    "  events,\n",
    "  events.pipe(get_first_ward).pipe(normalise_ward).fillna('UNKNOWN'),\n",
    "  pd.Series(\n",
    "      events.actual_audience_size_number_of_participants_in_person + events.actual_audience_size_number_of_participants_online,\n",
    "      name='attendances'\n",
    "  )\n",
    "], axis=1).rename(columns={\n",
    "    'start_date': 'date'\n",
    "}).loc[:, ['ward_code', 'date', 'event_unique_identifier', 'attendances']]"
   ]
  },
  {
   "cell_type": "code",
   "execution_count": 5,
   "id": "c63044d9",
   "metadata": {
    "execution": {
     "iopub.execute_input": "2023-10-13T23:40:03.556010Z",
     "iopub.status.busy": "2023-10-13T23:40:03.555534Z",
     "iopub.status.idle": "2023-10-13T23:40:03.559995Z",
     "shell.execute_reply": "2023-10-13T23:40:03.559402Z"
    },
    "papermill": {
     "duration": 0.009378,
     "end_time": "2023-10-13T23:40:03.561611",
     "exception": false,
     "start_time": "2023-10-13T23:40:03.552233",
     "status": "completed"
    },
    "tags": []
   },
   "outputs": [],
   "source": [
    "OUTPUT_DIR='../../../../docs/metrics/events/signature/_data/'\n",
    "os.makedirs(OUTPUT_DIR, exist_ok=True)"
   ]
  },
  {
   "cell_type": "markdown",
   "id": "0cefe0e6",
   "metadata": {
    "papermill": {
     "duration": 0.002409,
     "end_time": "2023-10-13T23:40:03.566384",
     "exception": false,
     "start_time": "2023-10-13T23:40:03.563975",
     "status": "completed"
    },
    "tags": []
   },
   "source": [
    "Events CSVs"
   ]
  },
  {
   "cell_type": "code",
   "execution_count": 6,
   "id": "3f3ca01c",
   "metadata": {
    "execution": {
     "iopub.execute_input": "2023-10-13T23:40:03.572173Z",
     "iopub.status.busy": "2023-10-13T23:40:03.571760Z",
     "iopub.status.idle": "2023-10-13T23:40:03.578847Z",
     "shell.execute_reply": "2023-10-13T23:40:03.578242Z"
    },
    "papermill": {
     "duration": 0.01177,
     "end_time": "2023-10-13T23:40:03.580458",
     "exception": false,
     "start_time": "2023-10-13T23:40:03.568688",
     "status": "completed"
    },
    "tags": []
   },
   "outputs": [],
   "source": [
    "pd.DataFrame({\n",
    "  'events': events.groupby('ward_code').event_unique_identifier.count(),\n",
    "  'attendances': events.groupby('ward_code').attendances.sum().astype(int),\n",
    "}).to_csv(os.path.join(OUTPUT_DIR, 'events_by_ward.csv'))\n"
   ]
  },
  {
   "cell_type": "code",
   "execution_count": 7,
   "id": "7d33bdaf",
   "metadata": {
    "execution": {
     "iopub.execute_input": "2023-10-13T23:40:03.586469Z",
     "iopub.status.busy": "2023-10-13T23:40:03.585965Z",
     "iopub.status.idle": "2023-10-13T23:40:03.596906Z",
     "shell.execute_reply": "2023-10-13T23:40:03.596310Z"
    },
    "papermill": {
     "duration": 0.015697,
     "end_time": "2023-10-13T23:40:03.598551",
     "exception": false,
     "start_time": "2023-10-13T23:40:03.582854",
     "status": "completed"
    },
    "tags": []
   },
   "outputs": [],
   "source": [
    "pd.DataFrame({\n",
    "  'events': events.groupby('date').event_unique_identifier.count(),\n",
    "  'attendances': events.groupby('date').attendances.sum().astype(int),\n",
    "}).resample('M').sum().astype(int).to_csv(os.path.join(OUTPUT_DIR, 'events_by_date.csv'))"
   ]
  },
  {
   "cell_type": "markdown",
   "id": "b2129245",
   "metadata": {
    "papermill": {
     "duration": 0.002447,
     "end_time": "2023-10-13T23:40:03.603446",
     "exception": false,
     "start_time": "2023-10-13T23:40:03.600999",
     "status": "completed"
    },
    "tags": []
   },
   "source": [
    "Tickets CSV"
   ]
  },
  {
   "cell_type": "code",
   "execution_count": 8,
   "id": "7581e327",
   "metadata": {
    "execution": {
     "iopub.execute_input": "2023-10-13T23:40:03.609270Z",
     "iopub.status.busy": "2023-10-13T23:40:03.609054Z",
     "iopub.status.idle": "2023-10-13T23:40:03.615780Z",
     "shell.execute_reply": "2023-10-13T23:40:03.615194Z"
    },
    "papermill": {
     "duration": 0.011474,
     "end_time": "2023-10-13T23:40:03.617305",
     "exception": false,
     "start_time": "2023-10-13T23:40:03.605831",
     "status": "completed"
    },
    "tags": []
   },
   "outputs": [],
   "source": [
    "pd.DataFrame({\n",
    "  'orders': tickets.groupby('ward_code').number_of_tickets.count(),\n",
    "  'tickets': tickets.groupby('ward_code').number_of_tickets.sum().astype(int),\n",
    "}).to_csv(os.path.join(OUTPUT_DIR, 'tickets_by_ward.csv'))"
   ]
  },
  {
   "cell_type": "code",
   "execution_count": 9,
   "id": "004aa52d",
   "metadata": {
    "execution": {
     "iopub.execute_input": "2023-10-13T23:40:03.623283Z",
     "iopub.status.busy": "2023-10-13T23:40:03.623062Z",
     "iopub.status.idle": "2023-10-13T23:40:03.630770Z",
     "shell.execute_reply": "2023-10-13T23:40:03.630173Z"
    },
    "papermill": {
     "duration": 0.012513,
     "end_time": "2023-10-13T23:40:03.632284",
     "exception": false,
     "start_time": "2023-10-13T23:40:03.619771",
     "status": "completed"
    },
    "tags": []
   },
   "outputs": [],
   "source": [
    "pd.DataFrame({\n",
    "  'orders': tickets.groupby('event_date').number_of_tickets.count(),\n",
    "  'tickets': tickets.groupby('event_date').number_of_tickets.sum().astype(int),\n",
    "}).resample('M').sum().to_csv(os.path.join(OUTPUT_DIR, 'tickets_by_event_date.csv'))"
   ]
  },
  {
   "cell_type": "code",
   "execution_count": 10,
   "id": "7e3d9b2b",
   "metadata": {
    "execution": {
     "iopub.execute_input": "2023-10-13T23:40:03.639418Z",
     "iopub.status.busy": "2023-10-13T23:40:03.638857Z",
     "iopub.status.idle": "2023-10-13T23:40:03.644281Z",
     "shell.execute_reply": "2023-10-13T23:40:03.643647Z"
    },
    "papermill": {
     "duration": 0.011038,
     "end_time": "2023-10-13T23:40:03.645800",
     "exception": false,
     "start_time": "2023-10-13T23:40:03.634762",
     "status": "completed"
    },
    "tags": []
   },
   "outputs": [],
   "source": [
    "pd.Series({\n",
    "    'total_events': events.event_unique_identifier.count(),\n",
    "    'total_attendances': events.attendances.count(),\n",
    "    'first_event': events.date.min(),\n",
    "    'latest_event': events.date.max(),\n",
    "    'total_ticket_orders_for_events_to_date': tickets.number_of_tickets.count(),\n",
    "    'total_tickets_sold_for_events_to_date': tickets.number_of_tickets.sum(),\n",
    "}).to_json(os.path.join(OUTPUT_DIR, 'headlines.json'), indent=2)"
   ]
  },
  {
   "cell_type": "code",
   "execution_count": null,
   "id": "1462cb37",
   "metadata": {
    "papermill": {
     "duration": 0.002443,
     "end_time": "2023-10-13T23:40:03.650769",
     "exception": false,
     "start_time": "2023-10-13T23:40:03.648326",
     "status": "completed"
    },
    "tags": []
   },
   "outputs": [],
   "source": []
  }
 ],
 "metadata": {
  "kernelspec": {
   "display_name": "leeds-2023-YZF5GfJv",
   "language": "python",
   "name": "python3"
  },
  "language_info": {
   "codemirror_mode": {
    "name": "ipython",
    "version": 3
   },
   "file_extension": ".py",
   "mimetype": "text/x-python",
   "name": "python",
   "nbconvert_exporter": "python",
   "pygments_lexer": "ipython3",
   "version": "3.10.13"
  },
  "papermill": {
   "default_parameters": {},
   "duration": 11.869711,
   "end_time": "2023-10-13T23:40:03.970530",
   "environment_variables": {},
   "exception": null,
   "input_path": "prepare.ipynb",
   "output_path": "../../../../working/output/signature-prepare.ipynb",
   "parameters": {},
   "start_time": "2023-10-13T23:39:52.100819",
   "version": "2.4.0"
  }
 },
 "nbformat": 4,
 "nbformat_minor": 5
}