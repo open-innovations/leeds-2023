{
 "cells": [
  {
   "cell_type": "code",
   "execution_count": 1,
   "id": "e92e1a4b",
   "metadata": {
    "execution": {
     "iopub.execute_input": "2023-11-02T23:40:31.631101Z",
     "iopub.status.busy": "2023-11-02T23:40:31.630569Z",
     "iopub.status.idle": "2023-11-02T23:40:41.959525Z",
     "shell.execute_reply": "2023-11-02T23:40:41.958841Z"
    },
    "papermill": {
     "duration": 10.334731,
     "end_time": "2023-11-02T23:40:41.961299",
     "exception": false,
     "start_time": "2023-11-02T23:40:31.626568",
     "status": "completed"
    },
    "tags": []
   },
   "outputs": [],
   "source": [
    "import os\n",
    "import pandas as pd\n",
    "from events import load_event_data, get_first_ward, normalise_ward"
   ]
  },
  {
   "cell_type": "code",
   "execution_count": 2,
   "id": "c967bae1",
   "metadata": {
    "execution": {
     "iopub.execute_input": "2023-11-02T23:40:41.967877Z",
     "iopub.status.busy": "2023-11-02T23:40:41.967395Z",
     "iopub.status.idle": "2023-11-02T23:40:41.972240Z",
     "shell.execute_reply": "2023-11-02T23:40:41.971640Z"
    },
    "papermill": {
     "duration": 0.009786,
     "end_time": "2023-11-02T23:40:41.973735",
     "exception": false,
     "start_time": "2023-11-02T23:40:41.963949",
     "status": "completed"
    },
    "tags": []
   },
   "outputs": [],
   "source": [
    "latest_date = pd.Timestamp.today().ceil('D')"
   ]
  },
  {
   "cell_type": "code",
   "execution_count": 3,
   "id": "e5b220a4",
   "metadata": {
    "execution": {
     "iopub.execute_input": "2023-11-02T23:40:41.979405Z",
     "iopub.status.busy": "2023-11-02T23:40:41.978979Z",
     "iopub.status.idle": "2023-11-02T23:40:41.995675Z",
     "shell.execute_reply": "2023-11-02T23:40:41.995087Z"
    },
    "papermill": {
     "duration": 0.021308,
     "end_time": "2023-11-02T23:40:41.997332",
     "exception": false,
     "start_time": "2023-11-02T23:40:41.976024",
     "status": "completed"
    },
    "tags": []
   },
   "outputs": [],
   "source": [
    "tickets = pd.read_csv('../../../../data/metrics/events/tickets/orders.csv', parse_dates=['created_at', 'event_date'])\n",
    "tickets = tickets[tickets.event_date <= latest_date]"
   ]
  },
  {
   "cell_type": "code",
   "execution_count": 4,
   "id": "d84a6d41",
   "metadata": {
    "execution": {
     "iopub.execute_input": "2023-11-02T23:40:42.003130Z",
     "iopub.status.busy": "2023-11-02T23:40:42.002694Z",
     "iopub.status.idle": "2023-11-02T23:40:42.049526Z",
     "shell.execute_reply": "2023-11-02T23:40:42.048869Z"
    },
    "papermill": {
     "duration": 0.051651,
     "end_time": "2023-11-02T23:40:42.051291",
     "exception": false,
     "start_time": "2023-11-02T23:40:41.999640",
     "status": "completed"
    },
    "tags": []
   },
   "outputs": [],
   "source": [
    "events = load_event_data()\n",
    "\n",
    "events = pd.concat([\n",
    "  events,\n",
    "  events.pipe(get_first_ward).pipe(normalise_ward).fillna('UNKNOWN'),\n",
    "  pd.Series(\n",
    "      events.actual_audience_size_number_of_participants_in_person + events.actual_audience_size_number_of_participants_online,\n",
    "      name='attendances'\n",
    "  )\n",
    "], axis=1).rename(columns={\n",
    "    'start_date': 'date'\n",
    "}).loc[:, ['ward_code', 'date', 'event_unique_identifier', 'attendances']]"
   ]
  },
  {
   "cell_type": "code",
   "execution_count": 5,
   "id": "2892f11c",
   "metadata": {
    "execution": {
     "iopub.execute_input": "2023-11-02T23:40:42.057653Z",
     "iopub.status.busy": "2023-11-02T23:40:42.057043Z",
     "iopub.status.idle": "2023-11-02T23:40:42.060678Z",
     "shell.execute_reply": "2023-11-02T23:40:42.059984Z"
    },
    "papermill": {
     "duration": 0.008663,
     "end_time": "2023-11-02T23:40:42.062457",
     "exception": false,
     "start_time": "2023-11-02T23:40:42.053794",
     "status": "completed"
    },
    "tags": []
   },
   "outputs": [],
   "source": [
    "OUTPUT_DIR='../../../../docs/metrics/events/signature/_data/'\n",
    "os.makedirs(OUTPUT_DIR, exist_ok=True)"
   ]
  },
  {
   "cell_type": "markdown",
   "id": "b7b64282",
   "metadata": {
    "papermill": {
     "duration": 0.002591,
     "end_time": "2023-11-02T23:40:42.067754",
     "exception": false,
     "start_time": "2023-11-02T23:40:42.065163",
     "status": "completed"
    },
    "tags": []
   },
   "source": [
    "Events CSVs"
   ]
  },
  {
   "cell_type": "code",
   "execution_count": 6,
   "id": "f2d3e9ef",
   "metadata": {
    "execution": {
     "iopub.execute_input": "2023-11-02T23:40:42.073998Z",
     "iopub.status.busy": "2023-11-02T23:40:42.073319Z",
     "iopub.status.idle": "2023-11-02T23:40:42.080182Z",
     "shell.execute_reply": "2023-11-02T23:40:42.079586Z"
    },
    "papermill": {
     "duration": 0.011758,
     "end_time": "2023-11-02T23:40:42.081880",
     "exception": false,
     "start_time": "2023-11-02T23:40:42.070122",
     "status": "completed"
    },
    "tags": []
   },
   "outputs": [],
   "source": [
    "pd.DataFrame({\n",
    "  'events': events.groupby('ward_code').event_unique_identifier.count(),\n",
    "  'attendances': events.groupby('ward_code').attendances.sum().astype(int),\n",
    "}).to_csv(os.path.join(OUTPUT_DIR, 'events_by_ward.csv'))\n"
   ]
  },
  {
   "cell_type": "code",
   "execution_count": 7,
   "id": "6691c5a9",
   "metadata": {
    "execution": {
     "iopub.execute_input": "2023-11-02T23:40:42.087841Z",
     "iopub.status.busy": "2023-11-02T23:40:42.087424Z",
     "iopub.status.idle": "2023-11-02T23:40:42.096399Z",
     "shell.execute_reply": "2023-11-02T23:40:42.095782Z"
    },
    "papermill": {
     "duration": 0.013737,
     "end_time": "2023-11-02T23:40:42.098037",
     "exception": false,
     "start_time": "2023-11-02T23:40:42.084300",
     "status": "completed"
    },
    "tags": []
   },
   "outputs": [],
   "source": [
    "pd.DataFrame({\n",
    "  'events': events.groupby('date').event_unique_identifier.count(),\n",
    "  'attendances': events.groupby('date').attendances.sum().astype(int),\n",
    "}).resample('M').sum().astype(int).to_csv(os.path.join(OUTPUT_DIR, 'events_by_date.csv'))"
   ]
  },
  {
   "cell_type": "markdown",
   "id": "467f1b63",
   "metadata": {
    "papermill": {
     "duration": 0.00241,
     "end_time": "2023-11-02T23:40:42.103751",
     "exception": false,
     "start_time": "2023-11-02T23:40:42.101341",
     "status": "completed"
    },
    "tags": []
   },
   "source": [
    "Tickets CSV"
   ]
  },
  {
   "cell_type": "code",
   "execution_count": 8,
   "id": "e6fb9606",
   "metadata": {
    "execution": {
     "iopub.execute_input": "2023-11-02T23:40:42.109833Z",
     "iopub.status.busy": "2023-11-02T23:40:42.109385Z",
     "iopub.status.idle": "2023-11-02T23:40:42.116408Z",
     "shell.execute_reply": "2023-11-02T23:40:42.115792Z"
    },
    "papermill": {
     "duration": 0.011695,
     "end_time": "2023-11-02T23:40:42.117866",
     "exception": false,
     "start_time": "2023-11-02T23:40:42.106171",
     "status": "completed"
    },
    "tags": []
   },
   "outputs": [],
   "source": [
    "pd.DataFrame({\n",
    "  'orders': tickets.groupby('ward_code').number_of_tickets.count(),\n",
    "  'tickets': tickets.groupby('ward_code').number_of_tickets.sum().astype(int),\n",
    "}).to_csv(os.path.join(OUTPUT_DIR, 'tickets_by_ward.csv'))"
   ]
  },
  {
   "cell_type": "code",
   "execution_count": 9,
   "id": "daa00c51",
   "metadata": {
    "execution": {
     "iopub.execute_input": "2023-11-02T23:40:42.124066Z",
     "iopub.status.busy": "2023-11-02T23:40:42.123520Z",
     "iopub.status.idle": "2023-11-02T23:40:42.132711Z",
     "shell.execute_reply": "2023-11-02T23:40:42.132107Z"
    },
    "papermill": {
     "duration": 0.014071,
     "end_time": "2023-11-02T23:40:42.134420",
     "exception": false,
     "start_time": "2023-11-02T23:40:42.120349",
     "status": "completed"
    },
    "tags": []
   },
   "outputs": [],
   "source": [
    "pd.DataFrame({\n",
    "  'orders': tickets.groupby('event_date').number_of_tickets.count(),\n",
    "  'tickets': tickets.groupby('event_date').number_of_tickets.sum().astype(int),\n",
    "}).resample('M').sum().to_csv(os.path.join(OUTPUT_DIR, 'tickets_by_event_date.csv'))"
   ]
  },
  {
   "cell_type": "code",
   "execution_count": 10,
   "id": "9dccd2d0",
   "metadata": {
    "execution": {
     "iopub.execute_input": "2023-11-02T23:40:42.140566Z",
     "iopub.status.busy": "2023-11-02T23:40:42.140343Z",
     "iopub.status.idle": "2023-11-02T23:40:42.146337Z",
     "shell.execute_reply": "2023-11-02T23:40:42.145764Z"
    },
    "papermill": {
     "duration": 0.010721,
     "end_time": "2023-11-02T23:40:42.147736",
     "exception": false,
     "start_time": "2023-11-02T23:40:42.137015",
     "status": "completed"
    },
    "tags": []
   },
   "outputs": [],
   "source": [
    "pd.Series({\n",
    "    'total_events': events.event_unique_identifier.count(),\n",
    "    'total_attendances': events.attendances.count(),\n",
    "    'first_event': events.date.min(),\n",
    "    'latest_event': events.date.max(),\n",
    "    'total_ticket_orders_for_events_to_date': tickets.number_of_tickets.count(),\n",
    "    'total_tickets_sold_for_events_to_date': tickets.number_of_tickets.sum(),\n",
    "}).to_json(os.path.join(OUTPUT_DIR, 'headlines.json'), indent=2)"
   ]
  },
  {
   "cell_type": "code",
   "execution_count": null,
   "id": "3ba476b8",
   "metadata": {
    "papermill": {
     "duration": 0.002496,
     "end_time": "2023-11-02T23:40:42.152751",
     "exception": false,
     "start_time": "2023-11-02T23:40:42.150255",
     "status": "completed"
    },
    "tags": []
   },
   "outputs": [],
   "source": []
  }
 ],
 "metadata": {
  "kernelspec": {
   "display_name": "leeds-2023-YZF5GfJv",
   "language": "python",
   "name": "python3"
  },
  "language_info": {
   "codemirror_mode": {
    "name": "ipython",
    "version": 3
   },
   "file_extension": ".py",
   "mimetype": "text/x-python",
   "name": "python",
   "nbconvert_exporter": "python",
   "pygments_lexer": "ipython3",
   "version": "3.10.13"
  },
  "papermill": {
   "default_parameters": {},
   "duration": 12.194305,
   "end_time": "2023-11-02T23:40:42.472672",
   "environment_variables": {},
   "exception": null,
   "input_path": "prepare.ipynb",
   "output_path": "../../../../working/output/signature-prepare.ipynb",
   "parameters": {},
   "start_time": "2023-11-02T23:40:30.278367",
   "version": "2.4.0"
  }
 },
 "nbformat": 4,
 "nbformat_minor": 5
}