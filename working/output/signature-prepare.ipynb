{
 "cells": [
  {
   "cell_type": "code",
   "execution_count": 1,
   "id": "2d1a6abd",
   "metadata": {
    "execution": {
     "iopub.execute_input": "2023-10-29T23:40:11.785357Z",
     "iopub.status.busy": "2023-10-29T23:40:11.784715Z",
     "iopub.status.idle": "2023-10-29T23:40:22.037663Z",
     "shell.execute_reply": "2023-10-29T23:40:22.036499Z"
    },
    "papermill": {
     "duration": 10.258685,
     "end_time": "2023-10-29T23:40:22.039445",
     "exception": false,
     "start_time": "2023-10-29T23:40:11.780760",
     "status": "completed"
    },
    "tags": []
   },
   "outputs": [],
   "source": [
    "import os\n",
    "import pandas as pd\n",
    "from events import load_event_data, get_first_ward, normalise_ward"
   ]
  },
  {
   "cell_type": "code",
   "execution_count": 2,
   "id": "a24ceae2",
   "metadata": {
    "execution": {
     "iopub.execute_input": "2023-10-29T23:40:22.045787Z",
     "iopub.status.busy": "2023-10-29T23:40:22.045418Z",
     "iopub.status.idle": "2023-10-29T23:40:22.049281Z",
     "shell.execute_reply": "2023-10-29T23:40:22.048641Z"
    },
    "papermill": {
     "duration": 0.00874,
     "end_time": "2023-10-29T23:40:22.050825",
     "exception": false,
     "start_time": "2023-10-29T23:40:22.042085",
     "status": "completed"
    },
    "tags": []
   },
   "outputs": [],
   "source": [
    "latest_date = pd.Timestamp.today().ceil('D')"
   ]
  },
  {
   "cell_type": "code",
   "execution_count": 3,
   "id": "9d32ae81",
   "metadata": {
    "execution": {
     "iopub.execute_input": "2023-10-29T23:40:22.056370Z",
     "iopub.status.busy": "2023-10-29T23:40:22.056160Z",
     "iopub.status.idle": "2023-10-29T23:40:22.074427Z",
     "shell.execute_reply": "2023-10-29T23:40:22.073853Z"
    },
    "papermill": {
     "duration": 0.02294,
     "end_time": "2023-10-29T23:40:22.076076",
     "exception": false,
     "start_time": "2023-10-29T23:40:22.053136",
     "status": "completed"
    },
    "tags": []
   },
   "outputs": [],
   "source": [
    "tickets = pd.read_csv('../../../../data/metrics/events/tickets/orders.csv', parse_dates=['created_at', 'event_date'])\n",
    "tickets = tickets[tickets.event_date <= latest_date]"
   ]
  },
  {
   "cell_type": "code",
   "execution_count": 4,
   "id": "cfad1a17",
   "metadata": {
    "execution": {
     "iopub.execute_input": "2023-10-29T23:40:22.081686Z",
     "iopub.status.busy": "2023-10-29T23:40:22.081472Z",
     "iopub.status.idle": "2023-10-29T23:40:22.129588Z",
     "shell.execute_reply": "2023-10-29T23:40:22.128960Z"
    },
    "papermill": {
     "duration": 0.053054,
     "end_time": "2023-10-29T23:40:22.131401",
     "exception": false,
     "start_time": "2023-10-29T23:40:22.078347",
     "status": "completed"
    },
    "tags": []
   },
   "outputs": [],
   "source": [
    "events = load_event_data()\n",
    "\n",
    "events = pd.concat([\n",
    "  events,\n",
    "  events.pipe(get_first_ward).pipe(normalise_ward).fillna('UNKNOWN'),\n",
    "  pd.Series(\n",
    "      events.actual_audience_size_number_of_participants_in_person + events.actual_audience_size_number_of_participants_online,\n",
    "      name='attendances'\n",
    "  )\n",
    "], axis=1).rename(columns={\n",
    "    'start_date': 'date'\n",
    "}).loc[:, ['ward_code', 'date', 'event_unique_identifier', 'attendances']]"
   ]
  },
  {
   "cell_type": "code",
   "execution_count": 5,
   "id": "0b75380e",
   "metadata": {
    "execution": {
     "iopub.execute_input": "2023-10-29T23:40:22.137369Z",
     "iopub.status.busy": "2023-10-29T23:40:22.137135Z",
     "iopub.status.idle": "2023-10-29T23:40:22.140440Z",
     "shell.execute_reply": "2023-10-29T23:40:22.139780Z"
    },
    "papermill": {
     "duration": 0.008144,
     "end_time": "2023-10-29T23:40:22.142017",
     "exception": false,
     "start_time": "2023-10-29T23:40:22.133873",
     "status": "completed"
    },
    "tags": []
   },
   "outputs": [],
   "source": [
    "OUTPUT_DIR='../../../../docs/metrics/events/signature/_data/'\n",
    "os.makedirs(OUTPUT_DIR, exist_ok=True)"
   ]
  },
  {
   "cell_type": "markdown",
   "id": "ac5f6ef6",
   "metadata": {
    "papermill": {
     "duration": 0.002415,
     "end_time": "2023-10-29T23:40:22.146980",
     "exception": false,
     "start_time": "2023-10-29T23:40:22.144565",
     "status": "completed"
    },
    "tags": []
   },
   "source": [
    "Events CSVs"
   ]
  },
  {
   "cell_type": "code",
   "execution_count": 6,
   "id": "d66ae749",
   "metadata": {
    "execution": {
     "iopub.execute_input": "2023-10-29T23:40:22.152646Z",
     "iopub.status.busy": "2023-10-29T23:40:22.152430Z",
     "iopub.status.idle": "2023-10-29T23:40:22.160722Z",
     "shell.execute_reply": "2023-10-29T23:40:22.160075Z"
    },
    "papermill": {
     "duration": 0.013169,
     "end_time": "2023-10-29T23:40:22.162498",
     "exception": false,
     "start_time": "2023-10-29T23:40:22.149329",
     "status": "completed"
    },
    "tags": []
   },
   "outputs": [],
   "source": [
    "pd.DataFrame({\n",
    "  'events': events.groupby('ward_code').event_unique_identifier.count(),\n",
    "  'attendances': events.groupby('ward_code').attendances.sum().astype(int),\n",
    "}).to_csv(os.path.join(OUTPUT_DIR, 'events_by_ward.csv'))\n"
   ]
  },
  {
   "cell_type": "code",
   "execution_count": 7,
   "id": "18e751bb",
   "metadata": {
    "execution": {
     "iopub.execute_input": "2023-10-29T23:40:22.168869Z",
     "iopub.status.busy": "2023-10-29T23:40:22.168619Z",
     "iopub.status.idle": "2023-10-29T23:40:22.178457Z",
     "shell.execute_reply": "2023-10-29T23:40:22.177715Z"
    },
    "papermill": {
     "duration": 0.016597,
     "end_time": "2023-10-29T23:40:22.181709",
     "exception": false,
     "start_time": "2023-10-29T23:40:22.165112",
     "status": "completed"
    },
    "tags": []
   },
   "outputs": [],
   "source": [
    "pd.DataFrame({\n",
    "  'events': events.groupby('date').event_unique_identifier.count(),\n",
    "  'attendances': events.groupby('date').attendances.sum().astype(int),\n",
    "}).resample('M').sum().astype(int).to_csv(os.path.join(OUTPUT_DIR, 'events_by_date.csv'))"
   ]
  },
  {
   "cell_type": "markdown",
   "id": "2ebbf4f9",
   "metadata": {
    "papermill": {
     "duration": 0.007127,
     "end_time": "2023-10-29T23:40:22.197534",
     "exception": false,
     "start_time": "2023-10-29T23:40:22.190407",
     "status": "completed"
    },
    "tags": []
   },
   "source": [
    "Tickets CSV"
   ]
  },
  {
   "cell_type": "code",
   "execution_count": 8,
   "id": "bcba36f2",
   "metadata": {
    "execution": {
     "iopub.execute_input": "2023-10-29T23:40:22.203659Z",
     "iopub.status.busy": "2023-10-29T23:40:22.203092Z",
     "iopub.status.idle": "2023-10-29T23:40:22.210284Z",
     "shell.execute_reply": "2023-10-29T23:40:22.209700Z"
    },
    "papermill": {
     "duration": 0.011742,
     "end_time": "2023-10-29T23:40:22.211659",
     "exception": false,
     "start_time": "2023-10-29T23:40:22.199917",
     "status": "completed"
    },
    "tags": []
   },
   "outputs": [],
   "source": [
    "pd.DataFrame({\n",
    "  'orders': tickets.groupby('ward_code').number_of_tickets.count(),\n",
    "  'tickets': tickets.groupby('ward_code').number_of_tickets.sum().astype(int),\n",
    "}).to_csv(os.path.join(OUTPUT_DIR, 'tickets_by_ward.csv'))"
   ]
  },
  {
   "cell_type": "code",
   "execution_count": 9,
   "id": "f1195958",
   "metadata": {
    "execution": {
     "iopub.execute_input": "2023-10-29T23:40:22.217827Z",
     "iopub.status.busy": "2023-10-29T23:40:22.217278Z",
     "iopub.status.idle": "2023-10-29T23:40:22.225248Z",
     "shell.execute_reply": "2023-10-29T23:40:22.224677Z"
    },
    "papermill": {
     "duration": 0.012526,
     "end_time": "2023-10-29T23:40:22.226657",
     "exception": false,
     "start_time": "2023-10-29T23:40:22.214131",
     "status": "completed"
    },
    "tags": []
   },
   "outputs": [],
   "source": [
    "pd.DataFrame({\n",
    "  'orders': tickets.groupby('event_date').number_of_tickets.count(),\n",
    "  'tickets': tickets.groupby('event_date').number_of_tickets.sum().astype(int),\n",
    "}).resample('M').sum().to_csv(os.path.join(OUTPUT_DIR, 'tickets_by_event_date.csv'))"
   ]
  },
  {
   "cell_type": "code",
   "execution_count": 10,
   "id": "54294041",
   "metadata": {
    "execution": {
     "iopub.execute_input": "2023-10-29T23:40:22.232944Z",
     "iopub.status.busy": "2023-10-29T23:40:22.232414Z",
     "iopub.status.idle": "2023-10-29T23:40:22.237585Z",
     "shell.execute_reply": "2023-10-29T23:40:22.236960Z"
    },
    "papermill": {
     "duration": 0.009826,
     "end_time": "2023-10-29T23:40:22.239026",
     "exception": false,
     "start_time": "2023-10-29T23:40:22.229200",
     "status": "completed"
    },
    "tags": []
   },
   "outputs": [],
   "source": [
    "pd.Series({\n",
    "    'total_events': events.event_unique_identifier.count(),\n",
    "    'total_attendances': events.attendances.count(),\n",
    "    'first_event': events.date.min(),\n",
    "    'latest_event': events.date.max(),\n",
    "    'total_ticket_orders_for_events_to_date': tickets.number_of_tickets.count(),\n",
    "    'total_tickets_sold_for_events_to_date': tickets.number_of_tickets.sum(),\n",
    "}).to_json(os.path.join(OUTPUT_DIR, 'headlines.json'), indent=2)"
   ]
  },
  {
   "cell_type": "code",
   "execution_count": null,
   "id": "3f63a044",
   "metadata": {
    "papermill": {
     "duration": 0.002448,
     "end_time": "2023-10-29T23:40:22.243961",
     "exception": false,
     "start_time": "2023-10-29T23:40:22.241513",
     "status": "completed"
    },
    "tags": []
   },
   "outputs": [],
   "source": []
  }
 ],
 "metadata": {
  "kernelspec": {
   "display_name": "leeds-2023-YZF5GfJv",
   "language": "python",
   "name": "python3"
  },
  "language_info": {
   "codemirror_mode": {
    "name": "ipython",
    "version": 3
   },
   "file_extension": ".py",
   "mimetype": "text/x-python",
   "name": "python",
   "nbconvert_exporter": "python",
   "pygments_lexer": "ipython3",
   "version": "3.10.13"
  },
  "papermill": {
   "default_parameters": {},
   "duration": 12.129217,
   "end_time": "2023-10-29T23:40:22.563815",
   "environment_variables": {},
   "exception": null,
   "input_path": "prepare.ipynb",
   "output_path": "../../../../working/output/signature-prepare.ipynb",
   "parameters": {},
   "start_time": "2023-10-29T23:40:10.434598",
   "version": "2.4.0"
  }
 },
 "nbformat": 4,
 "nbformat_minor": 5
}