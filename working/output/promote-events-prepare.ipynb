{
 "cells": [
  {
   "cell_type": "code",
   "execution_count": 1,
   "id": "225d8833",
   "metadata": {
    "execution": {
     "iopub.execute_input": "2023-08-09T23:38:08.607132Z",
     "iopub.status.busy": "2023-08-09T23:38:08.606431Z",
     "iopub.status.idle": "2023-08-09T23:38:08.849690Z",
     "shell.execute_reply": "2023-08-09T23:38:08.849032Z"
    },
    "papermill": {
     "duration": 0.24898,
     "end_time": "2023-08-09T23:38:08.851790",
     "exception": false,
     "start_time": "2023-08-09T23:38:08.602810",
     "status": "completed"
    },
    "tags": []
   },
   "outputs": [],
   "source": [
    "import os\n",
    "import pandas as pd"
   ]
  },
  {
   "cell_type": "code",
   "execution_count": 2,
   "id": "a0ccfe0c",
   "metadata": {
    "execution": {
     "iopub.execute_input": "2023-08-09T23:38:08.857047Z",
     "iopub.status.busy": "2023-08-09T23:38:08.856563Z",
     "iopub.status.idle": "2023-08-09T23:38:08.860042Z",
     "shell.execute_reply": "2023-08-09T23:38:08.859417Z"
    },
    "papermill": {
     "duration": 0.007713,
     "end_time": "2023-08-09T23:38:08.861619",
     "exception": false,
     "start_time": "2023-08-09T23:38:08.853906",
     "status": "completed"
    },
    "tags": []
   },
   "outputs": [],
   "source": [
    "DATA_DIR='../../../docs/metrics/events/promote/_data/'\n",
    "os.makedirs(DATA_DIR, exist_ok=True)"
   ]
  },
  {
   "cell_type": "code",
   "execution_count": 3,
   "id": "a65e154b",
   "metadata": {
    "execution": {
     "iopub.execute_input": "2023-08-09T23:38:08.865836Z",
     "iopub.status.busy": "2023-08-09T23:38:08.865436Z",
     "iopub.status.idle": "2023-08-09T23:38:08.875099Z",
     "shell.execute_reply": "2023-08-09T23:38:08.874550Z"
    },
    "papermill": {
     "duration": 0.013494,
     "end_time": "2023-08-09T23:38:08.876647",
     "exception": false,
     "start_time": "2023-08-09T23:38:08.863153",
     "status": "completed"
    },
    "tags": []
   },
   "outputs": [],
   "source": [
    "data = pd.read_csv('../../../data/metrics/events/promote-events/events.csv', parse_dates=['time'])"
   ]
  },
  {
   "cell_type": "code",
   "execution_count": 4,
   "id": "d5587cbe",
   "metadata": {
    "execution": {
     "iopub.execute_input": "2023-08-09T23:38:08.880883Z",
     "iopub.status.busy": "2023-08-09T23:38:08.880491Z",
     "iopub.status.idle": "2023-08-09T23:38:08.885649Z",
     "shell.execute_reply": "2023-08-09T23:38:08.885038Z"
    },
    "papermill": {
     "duration": 0.008983,
     "end_time": "2023-08-09T23:38:08.887146",
     "exception": false,
     "start_time": "2023-08-09T23:38:08.878163",
     "status": "completed"
    },
    "tags": []
   },
   "outputs": [],
   "source": [
    "pd.Series({\n",
    "    'total_events': len(data.id.unique()),\n",
    "    'total_event_instances': len(data.time),\n",
    "    'earliest_event': data.time.min(),\n",
    "    'latest_event': data.time.max(),\n",
    "}).to_json(\n",
    "    os.path.join(DATA_DIR, 'headlines.json'),\n",
    "    date_format='iso', indent=2\n",
    ")"
   ]
  },
  {
   "cell_type": "code",
   "execution_count": 5,
   "id": "19a24a69",
   "metadata": {
    "execution": {
     "iopub.execute_input": "2023-08-09T23:38:08.891489Z",
     "iopub.status.busy": "2023-08-09T23:38:08.890972Z",
     "iopub.status.idle": "2023-08-09T23:38:08.898994Z",
     "shell.execute_reply": "2023-08-09T23:38:08.898445Z"
    },
    "papermill": {
     "duration": 0.011725,
     "end_time": "2023-08-09T23:38:08.900456",
     "exception": false,
     "start_time": "2023-08-09T23:38:08.888731",
     "status": "completed"
    },
    "tags": []
   },
   "outputs": [],
   "source": [
    "events = pd.DataFrame({\n",
    "    'events': data.groupby('id').agg({ 'time': 'min' }).reset_index().groupby('time').id.count(),\n",
    "    'event_instances': data.groupby('time').id.count(),\n",
    "}).fillna(0).astype(int)"
   ]
  },
  {
   "cell_type": "code",
   "execution_count": 6,
   "id": "3338c530",
   "metadata": {
    "execution": {
     "iopub.execute_input": "2023-08-09T23:38:08.904831Z",
     "iopub.status.busy": "2023-08-09T23:38:08.904435Z",
     "iopub.status.idle": "2023-08-09T23:38:08.907936Z",
     "shell.execute_reply": "2023-08-09T23:38:08.907317Z"
    },
    "papermill": {
     "duration": 0.007504,
     "end_time": "2023-08-09T23:38:08.909577",
     "exception": false,
     "start_time": "2023-08-09T23:38:08.902073",
     "status": "completed"
    },
    "tags": []
   },
   "outputs": [],
   "source": [
    "def cumulate(data):\n",
    "    return pd.concat([\n",
    "        data,\n",
    "        data.cumsum().rename(columns=lambda c: f'cumulative_{c}')\n",
    "    ], axis=1)"
   ]
  },
  {
   "cell_type": "code",
   "execution_count": 7,
   "id": "7cb75f6e",
   "metadata": {
    "execution": {
     "iopub.execute_input": "2023-08-09T23:38:08.913879Z",
     "iopub.status.busy": "2023-08-09T23:38:08.913486Z",
     "iopub.status.idle": "2023-08-09T23:38:08.923153Z",
     "shell.execute_reply": "2023-08-09T23:38:08.922604Z"
    },
    "papermill": {
     "duration": 0.013524,
     "end_time": "2023-08-09T23:38:08.924715",
     "exception": false,
     "start_time": "2023-08-09T23:38:08.911191",
     "status": "completed"
    },
    "tags": []
   },
   "outputs": [],
   "source": [
    "events.resample('W-FRI').sum().pipe(cumulate).to_csv(os.path.join(DATA_DIR, 'by_week.csv'))"
   ]
  },
  {
   "cell_type": "code",
   "execution_count": 8,
   "id": "56499a1b",
   "metadata": {
    "execution": {
     "iopub.execute_input": "2023-08-09T23:38:08.929249Z",
     "iopub.status.busy": "2023-08-09T23:38:08.928857Z",
     "iopub.status.idle": "2023-08-09T23:38:08.934672Z",
     "shell.execute_reply": "2023-08-09T23:38:08.934085Z"
    },
    "papermill": {
     "duration": 0.009686,
     "end_time": "2023-08-09T23:38:08.936149",
     "exception": false,
     "start_time": "2023-08-09T23:38:08.926463",
     "status": "completed"
    },
    "tags": []
   },
   "outputs": [],
   "source": [
    "events.resample('MS').sum().pipe(cumulate).to_csv(os.path.join(DATA_DIR, 'by_month.csv'))"
   ]
  },
  {
   "cell_type": "code",
   "execution_count": null,
   "id": "6259c18b",
   "metadata": {
    "papermill": {
     "duration": 0.00166,
     "end_time": "2023-08-09T23:38:08.939480",
     "exception": false,
     "start_time": "2023-08-09T23:38:08.937820",
     "status": "completed"
    },
    "tags": []
   },
   "outputs": [],
   "source": []
  }
 ],
 "metadata": {
  "kernelspec": {
   "display_name": "leeds-2023-YZF5GfJv",
   "language": "python",
   "name": "python3"
  },
  "language_info": {
   "codemirror_mode": {
    "name": "ipython",
    "version": 3
   },
   "file_extension": ".py",
   "mimetype": "text/x-python",
   "name": "python",
   "nbconvert_exporter": "python",
   "pygments_lexer": "ipython3",
   "version": "3.10.6"
  },
  "papermill": {
   "default_parameters": {},
   "duration": 1.936612,
   "end_time": "2023-08-09T23:38:09.157600",
   "environment_variables": {},
   "exception": null,
   "input_path": "prepare.ipynb",
   "output_path": "../../../working/output/promote-events-prepare.ipynb",
   "parameters": {},
   "start_time": "2023-08-09T23:38:07.220988",
   "version": "2.4.0"
  }
 },
 "nbformat": 4,
 "nbformat_minor": 5
}