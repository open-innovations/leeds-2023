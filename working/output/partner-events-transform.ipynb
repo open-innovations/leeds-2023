{
 "cells": [
  {
   "cell_type": "code",
   "execution_count": 1,
   "id": "01bc9cb1",
   "metadata": {
    "execution": {
     "iopub.execute_input": "2023-11-22T15:23:29.829325Z",
     "iopub.status.busy": "2023-11-22T15:23:29.829143Z",
     "iopub.status.idle": "2023-11-22T15:23:30.069234Z",
     "shell.execute_reply": "2023-11-22T15:23:30.068671Z"
    },
    "papermill": {
     "duration": 0.245201,
     "end_time": "2023-11-22T15:23:30.070877",
     "exception": false,
     "start_time": "2023-11-22T15:23:29.825676",
     "status": "completed"
    },
    "tags": []
   },
   "outputs": [],
   "source": [
    "import os\n",
    "import sys\n",
    "import pandas as pd\n",
    "lib_dir = os.path.realpath('../../../lib/')\n",
    "if lib_dir not in sys.path: sys.path.append(lib_dir)"
   ]
  },
  {
   "cell_type": "code",
   "execution_count": 2,
   "id": "1acec14b",
   "metadata": {
    "execution": {
     "iopub.execute_input": "2023-11-22T15:23:30.076657Z",
     "iopub.status.busy": "2023-11-22T15:23:30.076269Z",
     "iopub.status.idle": "2023-11-22T15:23:36.966484Z",
     "shell.execute_reply": "2023-11-22T15:23:36.965769Z"
    },
    "papermill": {
     "duration": 6.894942,
     "end_time": "2023-11-22T15:23:36.968315",
     "exception": false,
     "start_time": "2023-11-22T15:23:30.073373",
     "status": "completed"
    },
    "tags": []
   },
   "outputs": [],
   "source": [
    "import util.geo"
   ]
  },
  {
   "cell_type": "code",
   "execution_count": 3,
   "id": "23f26c17",
   "metadata": {
    "execution": {
     "iopub.execute_input": "2023-11-22T15:23:36.974115Z",
     "iopub.status.busy": "2023-11-22T15:23:36.973667Z",
     "iopub.status.idle": "2023-11-22T15:23:36.976906Z",
     "shell.execute_reply": "2023-11-22T15:23:36.976337Z"
    },
    "papermill": {
     "duration": 0.007456,
     "end_time": "2023-11-22T15:23:36.978211",
     "exception": false,
     "start_time": "2023-11-22T15:23:36.970755",
     "status": "completed"
    },
    "tags": []
   },
   "outputs": [],
   "source": [
    "EVENTS_RAW_DATA = '../../../working/metrics/partner-events/events.csv'\n",
    "DATA_DIR = '../../../data/metrics/events/partner-events/'\n",
    "EVENTS_DATA = os.path.join(DATA_DIR, 'events.csv')"
   ]
  },
  {
   "cell_type": "code",
   "execution_count": 4,
   "id": "6bdbdbf0",
   "metadata": {
    "execution": {
     "iopub.execute_input": "2023-11-22T15:23:36.983493Z",
     "iopub.status.busy": "2023-11-22T15:23:36.983097Z",
     "iopub.status.idle": "2023-11-22T15:23:36.986440Z",
     "shell.execute_reply": "2023-11-22T15:23:36.985894Z"
    },
    "papermill": {
     "duration": 0.00738,
     "end_time": "2023-11-22T15:23:36.987716",
     "exception": false,
     "start_time": "2023-11-22T15:23:36.980336",
     "status": "completed"
    },
    "tags": []
   },
   "outputs": [],
   "source": [
    "columns = {\n",
    "    'Event Name': 'name',\n",
    "    'Event Start Date': 'start_date',\n",
    "    'Event End Date': 'end_date',\n",
    "    'Partner/Promote': 'partner_promote',\n",
    "    'Stage': 'stage',\n",
    "    'Live date': 'live_date',\n",
    "    'Venue postcode': 'postcode',\n",
    "    'Pricing Policy': 'pricing',\n",
    "    'Venue - including address': 'venue',\n",
    "    'Is this event on Leeds Inspried?': 'on_leeds_inspired',\n",
    "}"
   ]
  },
  {
   "cell_type": "markdown",
   "id": "5574132f",
   "metadata": {
    "papermill": {
     "duration": 0.002116,
     "end_time": "2023-11-22T15:23:36.991993",
     "exception": false,
     "start_time": "2023-11-22T15:23:36.989877",
     "status": "completed"
    },
    "tags": []
   },
   "source": [
    "Load the data and rename columns. Parse the dates to dates."
   ]
  },
  {
   "cell_type": "code",
   "execution_count": 5,
   "id": "88d6daa8",
   "metadata": {
    "execution": {
     "iopub.execute_input": "2023-11-22T15:23:36.997098Z",
     "iopub.status.busy": "2023-11-22T15:23:36.996921Z",
     "iopub.status.idle": "2023-11-22T15:23:37.006017Z",
     "shell.execute_reply": "2023-11-22T15:23:37.005538Z"
    },
    "papermill": {
     "duration": 0.01317,
     "end_time": "2023-11-22T15:23:37.007303",
     "exception": false,
     "start_time": "2023-11-22T15:23:36.994133",
     "status": "completed"
    },
    "tags": []
   },
   "outputs": [],
   "source": [
    "data = pd.read_csv(EVENTS_RAW_DATA)[columns.keys()].rename(columns=columns)\n",
    "data.start_date = pd.to_datetime(data.start_date, errors='coerce')\n",
    "data.end_date = pd.to_datetime(data.end_date, errors='coerce')"
   ]
  },
  {
   "cell_type": "markdown",
   "id": "07bd0fa0",
   "metadata": {
    "papermill": {
     "duration": 0.002099,
     "end_time": "2023-11-22T15:23:37.011564",
     "exception": false,
     "start_time": "2023-11-22T15:23:37.009465",
     "status": "completed"
    },
    "tags": []
   },
   "source": [
    "Filter data by not LI Pull through and start date before now"
   ]
  },
  {
   "cell_type": "code",
   "execution_count": 6,
   "id": "f7d7e5be",
   "metadata": {
    "execution": {
     "iopub.execute_input": "2023-11-22T15:23:37.017585Z",
     "iopub.status.busy": "2023-11-22T15:23:37.017223Z",
     "iopub.status.idle": "2023-11-22T15:23:37.021570Z",
     "shell.execute_reply": "2023-11-22T15:23:37.020931Z"
    },
    "papermill": {
     "duration": 0.008407,
     "end_time": "2023-11-22T15:23:37.022926",
     "exception": false,
     "start_time": "2023-11-22T15:23:37.014519",
     "status": "completed"
    },
    "tags": []
   },
   "outputs": [],
   "source": [
    "data = data[\n",
    "    # (data.live_date == 'This event is live ') &\n",
    "    ((data.stage != 'LI pull through') & data.stage.notna()) &\n",
    "    (data.start_date < pd.Timestamp.now())\n",
    "]"
   ]
  },
  {
   "cell_type": "code",
   "execution_count": 7,
   "id": "20f5cd00",
   "metadata": {
    "execution": {
     "iopub.execute_input": "2023-11-22T15:23:37.028349Z",
     "iopub.status.busy": "2023-11-22T15:23:37.027879Z",
     "iopub.status.idle": "2023-11-22T15:23:37.865177Z",
     "shell.execute_reply": "2023-11-22T15:23:37.864479Z"
    },
    "papermill": {
     "duration": 0.842028,
     "end_time": "2023-11-22T15:23:37.867129",
     "exception": false,
     "start_time": "2023-11-22T15:23:37.025101",
     "status": "completed"
    },
    "tags": []
   },
   "outputs": [],
   "source": [
    "data['ward_code'] = data.postcode.pipe(util.geo.postcode_formatter).map(util.geo.postcode_to_ward_code)\n",
    "data['ward_name'] = data.ward_code.pipe(util.geo.ward_code_to_name)"
   ]
  },
  {
   "cell_type": "markdown",
   "id": "238cf498",
   "metadata": {
    "papermill": {
     "duration": 0.003428,
     "end_time": "2023-11-22T15:23:37.874287",
     "exception": false,
     "start_time": "2023-11-22T15:23:37.870859",
     "status": "completed"
    },
    "tags": []
   },
   "source": [
    "Save the file"
   ]
  },
  {
   "cell_type": "code",
   "execution_count": 8,
   "id": "e4ba4155",
   "metadata": {
    "execution": {
     "iopub.execute_input": "2023-11-22T15:23:37.882053Z",
     "iopub.status.busy": "2023-11-22T15:23:37.881778Z",
     "iopub.status.idle": "2023-11-22T15:23:37.887896Z",
     "shell.execute_reply": "2023-11-22T15:23:37.887263Z"
    },
    "papermill": {
     "duration": 0.011683,
     "end_time": "2023-11-22T15:23:37.889323",
     "exception": false,
     "start_time": "2023-11-22T15:23:37.877640",
     "status": "completed"
    },
    "tags": []
   },
   "outputs": [],
   "source": [
    "data[\n",
    "    ['name','start_date','end_date','ward_code']\n",
    "].to_csv(EVENTS_DATA, index=False)"
   ]
  },
  {
   "cell_type": "markdown",
   "id": "5326e13b",
   "metadata": {
    "papermill": {
     "duration": 0.002168,
     "end_time": "2023-11-22T15:23:37.894059",
     "exception": false,
     "start_time": "2023-11-22T15:23:37.891891",
     "status": "completed"
    },
    "tags": []
   },
   "source": [
    "Print out missing postcode data"
   ]
  },
  {
   "cell_type": "code",
   "execution_count": 9,
   "id": "a1a58ebe",
   "metadata": {
    "execution": {
     "iopub.execute_input": "2023-11-22T15:23:37.899670Z",
     "iopub.status.busy": "2023-11-22T15:23:37.899230Z",
     "iopub.status.idle": "2023-11-22T15:23:37.910879Z",
     "shell.execute_reply": "2023-11-22T15:23:37.910277Z"
    },
    "papermill": {
     "duration": 0.015886,
     "end_time": "2023-11-22T15:23:37.912264",
     "exception": false,
     "start_time": "2023-11-22T15:23:37.896378",
     "status": "completed"
    },
    "tags": []
   },
   "outputs": [
    {
     "data": {
      "text/html": [
       "<div>\n",
       "<style scoped>\n",
       "    .dataframe tbody tr th:only-of-type {\n",
       "        vertical-align: middle;\n",
       "    }\n",
       "\n",
       "    .dataframe tbody tr th {\n",
       "        vertical-align: top;\n",
       "    }\n",
       "\n",
       "    .dataframe thead th {\n",
       "        text-align: right;\n",
       "    }\n",
       "</style>\n",
       "<table border=\"1\" class=\"dataframe\">\n",
       "  <thead>\n",
       "    <tr style=\"text-align: right;\">\n",
       "      <th></th>\n",
       "      <th>name</th>\n",
       "      <th>start_date</th>\n",
       "    </tr>\n",
       "  </thead>\n",
       "  <tbody>\n",
       "    <tr>\n",
       "      <th>1</th>\n",
       "      <td>East Street Arts, A City Less Grey 2022</td>\n",
       "      <td>2022-10-08</td>\n",
       "    </tr>\n",
       "    <tr>\n",
       "      <th>3</th>\n",
       "      <td>Phoenix Dance Theatre Virtual Gallery</td>\n",
       "      <td>2023-01-01</td>\n",
       "    </tr>\n",
       "    <tr>\n",
       "      <th>4</th>\n",
       "      <td>The Big Art Giveaway, School of Creative Arts ...</td>\n",
       "      <td>2023-01-01</td>\n",
       "    </tr>\n",
       "    <tr>\n",
       "      <th>5</th>\n",
       "      <td>Embassy of Netherlands, Meet Leeds Lab</td>\n",
       "      <td>2023-01-16</td>\n",
       "    </tr>\n",
       "    <tr>\n",
       "      <th>6</th>\n",
       "      <td>Shifting Borders: A Journey to the Centre of o...</td>\n",
       "      <td>2023-01-24</td>\n",
       "    </tr>\n",
       "    <tr>\n",
       "      <th>...</th>\n",
       "      <td>...</td>\n",
       "      <td>...</td>\n",
       "    </tr>\n",
       "    <tr>\n",
       "      <th>298</th>\n",
       "      <td>afrah shafiq: st.itch</td>\n",
       "      <td>2023-11-16</td>\n",
       "    </tr>\n",
       "    <tr>\n",
       "      <th>299</th>\n",
       "      <td>Leeds Language Week: Chinese Dance and Languag...</td>\n",
       "      <td>2023-11-19</td>\n",
       "    </tr>\n",
       "    <tr>\n",
       "      <th>300</th>\n",
       "      <td>Leeds Language Week: Taste of China</td>\n",
       "      <td>2023-11-19</td>\n",
       "    </tr>\n",
       "    <tr>\n",
       "      <th>302</th>\n",
       "      <td>Don't Go To Bed Just Yet: Live recording from ...</td>\n",
       "      <td>2023-11-21</td>\n",
       "    </tr>\n",
       "    <tr>\n",
       "      <th>304</th>\n",
       "      <td>Wellbeing Wednesdays</td>\n",
       "      <td>2023-11-22</td>\n",
       "    </tr>\n",
       "  </tbody>\n",
       "</table>\n",
       "<p>126 rows × 2 columns</p>\n",
       "</div>"
      ],
      "text/plain": [
       "                                                  name start_date\n",
       "1              East Street Arts, A City Less Grey 2022 2022-10-08\n",
       "3                Phoenix Dance Theatre Virtual Gallery 2023-01-01\n",
       "4    The Big Art Giveaway, School of Creative Arts ... 2023-01-01\n",
       "5               Embassy of Netherlands, Meet Leeds Lab 2023-01-16\n",
       "6    Shifting Borders: A Journey to the Centre of o... 2023-01-24\n",
       "..                                                 ...        ...\n",
       "298                              afrah shafiq: st.itch 2023-11-16\n",
       "299  Leeds Language Week: Chinese Dance and Languag... 2023-11-19\n",
       "300                Leeds Language Week: Taste of China 2023-11-19\n",
       "302  Don't Go To Bed Just Yet: Live recording from ... 2023-11-21\n",
       "304                               Wellbeing Wednesdays 2023-11-22\n",
       "\n",
       "[126 rows x 2 columns]"
      ]
     },
     "execution_count": 9,
     "metadata": {},
     "output_type": "execute_result"
    }
   ],
   "source": [
    "data[data.postcode.isna()][[\n",
    "    'name', 'start_date'\n",
    "]]"
   ]
  },
  {
   "cell_type": "markdown",
   "id": "c1bfadd5",
   "metadata": {
    "papermill": {
     "duration": 0.002412,
     "end_time": "2023-11-22T15:23:37.917182",
     "exception": false,
     "start_time": "2023-11-22T15:23:37.914770",
     "status": "completed"
    },
    "tags": []
   },
   "source": [
    "Plot the pricing"
   ]
  },
  {
   "cell_type": "code",
   "execution_count": 10,
   "id": "e2f4c18c",
   "metadata": {
    "execution": {
     "iopub.execute_input": "2023-11-22T15:23:37.923141Z",
     "iopub.status.busy": "2023-11-22T15:23:37.922752Z",
     "iopub.status.idle": "2023-11-22T15:23:38.587666Z",
     "shell.execute_reply": "2023-11-22T15:23:38.586956Z"
    },
    "papermill": {
     "duration": 0.669435,
     "end_time": "2023-11-22T15:23:38.589060",
     "exception": false,
     "start_time": "2023-11-22T15:23:37.919625",
     "status": "completed"
    },
    "tags": []
   },
   "outputs": [
    {
     "data": {
      "image/png": "[encoded data removed]",
      "text/plain": [
       "<Figure size 640x480 with 1 Axes>"
      ]
     },
     "metadata": {},
     "output_type": "display_data"
    }
   ],
   "source": [
    "# .groupby('pricing').count().plot.barh()\n",
    "pricing = data.pricing.fillna('Unspecified').str.replace('[\\[\\'\\]]', '', regex=True).to_frame().reset_index().groupby('pricing').count()\n",
    "\n",
    "pricing.columns = ['count']\n",
    "plot = pricing.plot.barh()\n"
   ]
  },
  {
   "cell_type": "code",
   "execution_count": null,
   "id": "c6e4d4c6",
   "metadata": {
    "papermill": {
     "duration": 0.002855,
     "end_time": "2023-11-22T15:23:38.595238",
     "exception": false,
     "start_time": "2023-11-22T15:23:38.592383",
     "status": "completed"
    },
    "tags": []
   },
   "outputs": [],
   "source": []
  }
 ],
 "metadata": {
  "kernelspec": {
   "display_name": "leeds-2023-YZF5GfJv",
   "language": "python",
   "name": "python3"
  },
  "language_info": {
   "codemirror_mode": {
    "name": "ipython",
    "version": 3
   },
   "file_extension": ".py",
   "mimetype": "text/x-python",
   "name": "python",
   "nbconvert_exporter": "python",
   "pygments_lexer": "ipython3",
   "version": "3.10.13"
  },
  "papermill": {
   "default_parameters": {},
   "duration": 10.325984,
   "end_time": "2023-11-22T15:23:38.915270",
   "environment_variables": {},
   "exception": null,
   "input_path": "transform.ipynb",
   "output_path": "../../../working/output/partner-events-transform.ipynb",
   "parameters": {},
   "start_time": "2023-11-22T15:23:28.589286",
   "version": "2.4.0"
  }
 },
 "nbformat": 4,
 "nbformat_minor": 5
}