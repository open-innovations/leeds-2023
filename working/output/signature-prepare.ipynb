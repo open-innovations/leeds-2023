{
 "cells": [
  {
   "cell_type": "code",
   "execution_count": 1,
   "id": "6fc9a5fd",
   "metadata": {
    "execution": {
     "iopub.execute_input": "2023-10-03T23:38:57.109768Z",
     "iopub.status.busy": "2023-10-03T23:38:57.109260Z",
     "iopub.status.idle": "2023-10-03T23:39:07.853539Z",
     "shell.execute_reply": "2023-10-03T23:39:07.852785Z"
    },
    "papermill": {
     "duration": 10.751523,
     "end_time": "2023-10-03T23:39:07.855985",
     "exception": false,
     "start_time": "2023-10-03T23:38:57.104462",
     "status": "completed"
    },
    "tags": []
   },
   "outputs": [],
   "source": [
    "import os\n",
    "import pandas as pd\n",
    "from events import load_event_data, get_first_ward, normalise_ward"
   ]
  },
  {
   "cell_type": "code",
   "execution_count": 2,
   "id": "4b699cc7",
   "metadata": {
    "execution": {
     "iopub.execute_input": "2023-10-03T23:39:07.862922Z",
     "iopub.status.busy": "2023-10-03T23:39:07.862388Z",
     "iopub.status.idle": "2023-10-03T23:39:07.867308Z",
     "shell.execute_reply": "2023-10-03T23:39:07.866606Z"
    },
    "papermill": {
     "duration": 0.010063,
     "end_time": "2023-10-03T23:39:07.868826",
     "exception": false,
     "start_time": "2023-10-03T23:39:07.858763",
     "status": "completed"
    },
    "tags": []
   },
   "outputs": [],
   "source": [
    "latest_date = pd.Timestamp.today().ceil('D')"
   ]
  },
  {
   "cell_type": "code",
   "execution_count": 3,
   "id": "5e72e13c",
   "metadata": {
    "execution": {
     "iopub.execute_input": "2023-10-03T23:39:07.875077Z",
     "iopub.status.busy": "2023-10-03T23:39:07.874600Z",
     "iopub.status.idle": "2023-10-03T23:39:07.892488Z",
     "shell.execute_reply": "2023-10-03T23:39:07.891838Z"
    },
    "papermill": {
     "duration": 0.023116,
     "end_time": "2023-10-03T23:39:07.894379",
     "exception": false,
     "start_time": "2023-10-03T23:39:07.871263",
     "status": "completed"
    },
    "tags": []
   },
   "outputs": [],
   "source": [
    "tickets = pd.read_csv('../../../../data/metrics/events/tickets/orders.csv', parse_dates=['created_at', 'event_date'])\n",
    "tickets = tickets[tickets.event_date <= latest_date]"
   ]
  },
  {
   "cell_type": "code",
   "execution_count": 4,
   "id": "457f74a9",
   "metadata": {
    "execution": {
     "iopub.execute_input": "2023-10-03T23:39:07.900823Z",
     "iopub.status.busy": "2023-10-03T23:39:07.900279Z",
     "iopub.status.idle": "2023-10-03T23:39:08.137919Z",
     "shell.execute_reply": "2023-10-03T23:39:08.137115Z"
    },
    "papermill": {
     "duration": 0.243088,
     "end_time": "2023-10-03T23:39:08.139954",
     "exception": false,
     "start_time": "2023-10-03T23:39:07.896866",
     "status": "completed"
    },
    "tags": []
   },
   "outputs": [],
   "source": [
    "events = load_event_data()\n",
    "\n",
    "events = pd.concat([\n",
    "  events,\n",
    "  events.pipe(get_first_ward).pipe(normalise_ward).fillna('UNKNOWN'),\n",
    "  pd.Series(\n",
    "      events.actual_audience_size_number_of_participants_in_person + events.actual_audience_size_number_of_participants_online,\n",
    "      name='attendances'\n",
    "  )\n",
    "], axis=1).rename(columns={\n",
    "    'start_date': 'date'\n",
    "}).loc[:, ['ward_code', 'date', 'event_unique_identifier', 'attendances']]"
   ]
  },
  {
   "cell_type": "code",
   "execution_count": 5,
   "id": "4521e778",
   "metadata": {
    "execution": {
     "iopub.execute_input": "2023-10-03T23:39:08.146868Z",
     "iopub.status.busy": "2023-10-03T23:39:08.146603Z",
     "iopub.status.idle": "2023-10-03T23:39:08.150084Z",
     "shell.execute_reply": "2023-10-03T23:39:08.149370Z"
    },
    "papermill": {
     "duration": 0.009005,
     "end_time": "2023-10-03T23:39:08.151698",
     "exception": false,
     "start_time": "2023-10-03T23:39:08.142693",
     "status": "completed"
    },
    "tags": []
   },
   "outputs": [],
   "source": [
    "OUTPUT_DIR='../../../../docs/metrics/events/signature/_data/'\n",
    "os.makedirs(OUTPUT_DIR, exist_ok=True)"
   ]
  },
  {
   "cell_type": "markdown",
   "id": "18a75092",
   "metadata": {
    "papermill": {
     "duration": 0.002454,
     "end_time": "2023-10-03T23:39:08.156567",
     "exception": false,
     "start_time": "2023-10-03T23:39:08.154113",
     "status": "completed"
    },
    "tags": []
   },
   "source": [
    "Events CSVs"
   ]
  },
  {
   "cell_type": "code",
   "execution_count": 6,
   "id": "3b29ab05",
   "metadata": {
    "execution": {
     "iopub.execute_input": "2023-10-03T23:39:08.162817Z",
     "iopub.status.busy": "2023-10-03T23:39:08.162231Z",
     "iopub.status.idle": "2023-10-03T23:39:08.169495Z",
     "shell.execute_reply": "2023-10-03T23:39:08.168889Z"
    },
    "papermill": {
     "duration": 0.012095,
     "end_time": "2023-10-03T23:39:08.171086",
     "exception": false,
     "start_time": "2023-10-03T23:39:08.158991",
     "status": "completed"
    },
    "tags": []
   },
   "outputs": [],
   "source": [
    "pd.DataFrame({\n",
    "  'events': events.groupby('ward_code').event_unique_identifier.count(),\n",
    "  'attendances': events.groupby('ward_code').attendances.sum().astype(int),\n",
    "}).to_csv(os.path.join(OUTPUT_DIR, 'events_by_ward.csv'))\n"
   ]
  },
  {
   "cell_type": "code",
   "execution_count": 7,
   "id": "83a0606c",
   "metadata": {
    "execution": {
     "iopub.execute_input": "2023-10-03T23:39:08.177525Z",
     "iopub.status.busy": "2023-10-03T23:39:08.176958Z",
     "iopub.status.idle": "2023-10-03T23:39:08.190118Z",
     "shell.execute_reply": "2023-10-03T23:39:08.189466Z"
    },
    "papermill": {
     "duration": 0.018149,
     "end_time": "2023-10-03T23:39:08.191717",
     "exception": false,
     "start_time": "2023-10-03T23:39:08.173568",
     "status": "completed"
    },
    "tags": []
   },
   "outputs": [],
   "source": [
    "pd.DataFrame({\n",
    "  'events': events.groupby('date').event_unique_identifier.count(),\n",
    "  'attendances': events.groupby('date').attendances.sum().astype(int),\n",
    "}).resample('M').sum().astype(int).to_csv(os.path.join(OUTPUT_DIR, 'events_by_date.csv'))"
   ]
  },
  {
   "cell_type": "markdown",
   "id": "2a325519",
   "metadata": {
    "papermill": {
     "duration": 0.002494,
     "end_time": "2023-10-03T23:39:08.196722",
     "exception": false,
     "start_time": "2023-10-03T23:39:08.194228",
     "status": "completed"
    },
    "tags": []
   },
   "source": [
    "Tickets CSV"
   ]
  },
  {
   "cell_type": "code",
   "execution_count": 8,
   "id": "5631ed8e",
   "metadata": {
    "execution": {
     "iopub.execute_input": "2023-10-03T23:39:08.203132Z",
     "iopub.status.busy": "2023-10-03T23:39:08.202573Z",
     "iopub.status.idle": "2023-10-03T23:39:08.210132Z",
     "shell.execute_reply": "2023-10-03T23:39:08.209496Z"
    },
    "papermill": {
     "duration": 0.012624,
     "end_time": "2023-10-03T23:39:08.211813",
     "exception": false,
     "start_time": "2023-10-03T23:39:08.199189",
     "status": "completed"
    },
    "tags": []
   },
   "outputs": [],
   "source": [
    "pd.DataFrame({\n",
    "  'orders': tickets.groupby('ward_code').number_of_tickets.count(),\n",
    "  'tickets': tickets.groupby('ward_code').number_of_tickets.sum().astype(int),\n",
    "}).to_csv(os.path.join(OUTPUT_DIR, 'tickets_by_ward.csv'))"
   ]
  },
  {
   "cell_type": "code",
   "execution_count": 9,
   "id": "386547a7",
   "metadata": {
    "execution": {
     "iopub.execute_input": "2023-10-03T23:39:08.218211Z",
     "iopub.status.busy": "2023-10-03T23:39:08.217627Z",
     "iopub.status.idle": "2023-10-03T23:39:08.226032Z",
     "shell.execute_reply": "2023-10-03T23:39:08.225413Z"
    },
    "papermill": {
     "duration": 0.01333,
     "end_time": "2023-10-03T23:39:08.227663",
     "exception": false,
     "start_time": "2023-10-03T23:39:08.214333",
     "status": "completed"
    },
    "tags": []
   },
   "outputs": [],
   "source": [
    "pd.DataFrame({\n",
    "  'orders': tickets.groupby('event_date').number_of_tickets.count(),\n",
    "  'tickets': tickets.groupby('event_date').number_of_tickets.sum().astype(int),\n",
    "}).resample('M').sum().to_csv(os.path.join(OUTPUT_DIR, 'tickets_by_event_date.csv'))"
   ]
  },
  {
   "cell_type": "code",
   "execution_count": 10,
   "id": "683dd3d1",
   "metadata": {
    "execution": {
     "iopub.execute_input": "2023-10-03T23:39:08.235102Z",
     "iopub.status.busy": "2023-10-03T23:39:08.234626Z",
     "iopub.status.idle": "2023-10-03T23:39:08.240412Z",
     "shell.execute_reply": "2023-10-03T23:39:08.239718Z"
    },
    "papermill": {
     "duration": 0.011787,
     "end_time": "2023-10-03T23:39:08.242011",
     "exception": false,
     "start_time": "2023-10-03T23:39:08.230224",
     "status": "completed"
    },
    "tags": []
   },
   "outputs": [],
   "source": [
    "pd.Series({\n",
    "    'total_events': events.event_unique_identifier.count(),\n",
    "    'total_attendances': events.attendances.count(),\n",
    "    'first_event': events.date.min(),\n",
    "    'latest_event': events.date.max(),\n",
    "    'total_ticket_orders_for_events_to_date': tickets.number_of_tickets.count(),\n",
    "    'total_tickets_sold_for_events_to_date': tickets.number_of_tickets.sum(),\n",
    "}).to_json(os.path.join(OUTPUT_DIR, 'headlines.json'), indent=2)"
   ]
  },
  {
   "cell_type": "code",
   "execution_count": null,
   "id": "7673999a",
   "metadata": {
    "papermill": {
     "duration": 0.002943,
     "end_time": "2023-10-03T23:39:08.247805",
     "exception": false,
     "start_time": "2023-10-03T23:39:08.244862",
     "status": "completed"
    },
    "tags": []
   },
   "outputs": [],
   "source": []
  }
 ],
 "metadata": {
  "kernelspec": {
   "display_name": "leeds-2023-YZF5GfJv",
   "language": "python",
   "name": "python3"
  },
  "language_info": {
   "codemirror_mode": {
    "name": "ipython",
    "version": 3
   },
   "file_extension": ".py",
   "mimetype": "text/x-python",
   "name": "python",
   "nbconvert_exporter": "python",
   "pygments_lexer": "ipython3",
   "version": "3.10.13"
  },
  "papermill": {
   "default_parameters": {},
   "duration": 12.946773,
   "end_time": "2023-10-03T23:39:08.669049",
   "environment_variables": {},
   "exception": null,
   "input_path": "prepare.ipynb",
   "output_path": "../../../../working/output/signature-prepare.ipynb",
   "parameters": {},
   "start_time": "2023-10-03T23:38:55.722276",
   "version": "2.4.0"
  }
 },
 "nbformat": 4,
 "nbformat_minor": 5
}