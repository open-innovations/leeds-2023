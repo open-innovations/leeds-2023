{
 "cells": [
  {
   "cell_type": "code",
   "execution_count": 1,
   "id": "25329388",
   "metadata": {
    "execution": {
     "iopub.execute_input": "2023-11-22T13:53:59.578400Z",
     "iopub.status.busy": "2023-11-22T13:53:59.577482Z",
     "iopub.status.idle": "2023-11-22T13:54:08.410767Z",
     "shell.execute_reply": "2023-11-22T13:54:08.409772Z"
    },
    "papermill": {
     "duration": 8.848237,
     "end_time": "2023-11-22T13:54:08.412582",
     "exception": false,
     "start_time": "2023-11-22T13:53:59.564345",
     "status": "completed"
    },
    "tags": []
   },
   "outputs": [],
   "source": [
    "import os\n",
    "import pandas as pd\n",
    "from events import load_event_data, get_first_ward, normalise_ward"
   ]
  },
  {
   "cell_type": "code",
   "execution_count": 2,
   "id": "ff4fea22",
   "metadata": {
    "execution": {
     "iopub.execute_input": "2023-11-22T13:54:08.444404Z",
     "iopub.status.busy": "2023-11-22T13:54:08.442864Z",
     "iopub.status.idle": "2023-11-22T13:54:08.449538Z",
     "shell.execute_reply": "2023-11-22T13:54:08.448576Z"
    },
    "papermill": {
     "duration": 0.029042,
     "end_time": "2023-11-22T13:54:08.450867",
     "exception": false,
     "start_time": "2023-11-22T13:54:08.421825",
     "status": "completed"
    },
    "tags": []
   },
   "outputs": [],
   "source": [
    "latest_date = pd.Timestamp.today().ceil('D')"
   ]
  },
  {
   "cell_type": "code",
   "execution_count": 3,
   "id": "f3d73086",
   "metadata": {
    "execution": {
     "iopub.execute_input": "2023-11-22T13:54:08.489688Z",
     "iopub.status.busy": "2023-11-22T13:54:08.489385Z",
     "iopub.status.idle": "2023-11-22T13:54:08.516340Z",
     "shell.execute_reply": "2023-11-22T13:54:08.514964Z"
    },
    "papermill": {
     "duration": 0.052501,
     "end_time": "2023-11-22T13:54:08.518317",
     "exception": false,
     "start_time": "2023-11-22T13:54:08.465816",
     "status": "completed"
    },
    "tags": []
   },
   "outputs": [],
   "source": [
    "tickets = pd.read_csv('../../../../data/metrics/events/tickets/orders.csv', parse_dates=['created_at', 'event_date'])\n",
    "tickets = tickets[tickets.event_date <= latest_date]"
   ]
  },
  {
   "cell_type": "code",
   "execution_count": 4,
   "id": "e4675058",
   "metadata": {
    "execution": {
     "iopub.execute_input": "2023-11-22T13:54:08.558446Z",
     "iopub.status.busy": "2023-11-22T13:54:08.557878Z",
     "iopub.status.idle": "2023-11-22T13:54:09.120365Z",
     "shell.execute_reply": "2023-11-22T13:54:09.119373Z"
    },
    "papermill": {
     "duration": 0.588126,
     "end_time": "2023-11-22T13:54:09.122188",
     "exception": false,
     "start_time": "2023-11-22T13:54:08.534062",
     "status": "completed"
    },
    "tags": []
   },
   "outputs": [],
   "source": [
    "events = load_event_data()\n",
    "\n",
    "events = pd.concat([\n",
    "  events,\n",
    "  events.pipe(get_first_ward).pipe(normalise_ward).fillna('UNKNOWN'),\n",
    "  pd.Series(\n",
    "      events.actual_audience_size_number_of_participants_in_person + events.actual_audience_size_number_of_participants_online,\n",
    "      name='attendances'\n",
    "  )\n",
    "], axis=1).rename(columns={\n",
    "    'start_date': 'date'\n",
    "}).loc[:, ['ward_code', 'date', 'event_unique_identifier', 'attendances']]"
   ]
  },
  {
   "cell_type": "code",
   "execution_count": 5,
   "id": "85c43843",
   "metadata": {
    "execution": {
     "iopub.execute_input": "2023-11-22T13:54:09.156260Z",
     "iopub.status.busy": "2023-11-22T13:54:09.155755Z",
     "iopub.status.idle": "2023-11-22T13:54:09.179145Z",
     "shell.execute_reply": "2023-11-22T13:54:09.177982Z"
    },
    "papermill": {
     "duration": 0.049343,
     "end_time": "2023-11-22T13:54:09.180850",
     "exception": false,
     "start_time": "2023-11-22T13:54:09.131507",
     "status": "completed"
    },
    "tags": []
   },
   "outputs": [],
   "source": [
    "OUTPUT_DIR='../../../../docs/metrics/events/signature/_data/'\n",
    "os.makedirs(OUTPUT_DIR, exist_ok=True)"
   ]
  },
  {
   "cell_type": "markdown",
   "id": "825fb820",
   "metadata": {
    "papermill": {
     "duration": 0.017959,
     "end_time": "2023-11-22T13:54:09.214288",
     "exception": false,
     "start_time": "2023-11-22T13:54:09.196329",
     "status": "completed"
    },
    "tags": []
   },
   "source": [
    "Events CSVs"
   ]
  },
  {
   "cell_type": "code",
   "execution_count": 6,
   "id": "2149844e",
   "metadata": {
    "execution": {
     "iopub.execute_input": "2023-11-22T13:54:09.255158Z",
     "iopub.status.busy": "2023-11-22T13:54:09.254711Z",
     "iopub.status.idle": "2023-11-22T13:54:09.286650Z",
     "shell.execute_reply": "2023-11-22T13:54:09.285428Z"
    },
    "papermill": {
     "duration": 0.055924,
     "end_time": "2023-11-22T13:54:09.288819",
     "exception": false,
     "start_time": "2023-11-22T13:54:09.232895",
     "status": "completed"
    },
    "tags": []
   },
   "outputs": [],
   "source": [
    "pd.DataFrame({\n",
    "  'events': events.groupby('ward_code').event_unique_identifier.count(),\n",
    "  'attendances': events.groupby('ward_code').attendances.sum().astype(int),\n",
    "}).to_csv(os.path.join(OUTPUT_DIR, 'events_by_ward.csv'))\n"
   ]
  },
  {
   "cell_type": "code",
   "execution_count": 7,
   "id": "b204b564",
   "metadata": {
    "execution": {
     "iopub.execute_input": "2023-11-22T13:54:09.328934Z",
     "iopub.status.busy": "2023-11-22T13:54:09.328523Z",
     "iopub.status.idle": "2023-11-22T13:54:09.391558Z",
     "shell.execute_reply": "2023-11-22T13:54:09.390451Z"
    },
    "papermill": {
     "duration": 0.087553,
     "end_time": "2023-11-22T13:54:09.393366",
     "exception": false,
     "start_time": "2023-11-22T13:54:09.305813",
     "status": "completed"
    },
    "tags": []
   },
   "outputs": [],
   "source": [
    "pd.DataFrame({\n",
    "  'events': events.groupby('date').event_unique_identifier.count(),\n",
    "  'attendances': events.groupby('date').attendances.sum().astype(int),\n",
    "}).resample('M').sum().astype(int).to_csv(os.path.join(OUTPUT_DIR, 'events_by_date.csv'))"
   ]
  },
  {
   "cell_type": "markdown",
   "id": "b1ca84c1",
   "metadata": {
    "papermill": {
     "duration": 0.018587,
     "end_time": "2023-11-22T13:54:09.426363",
     "exception": false,
     "start_time": "2023-11-22T13:54:09.407776",
     "status": "completed"
    },
    "tags": []
   },
   "source": [
    "Tickets CSV"
   ]
  },
  {
   "cell_type": "code",
   "execution_count": 8,
   "id": "905c104f",
   "metadata": {
    "execution": {
     "iopub.execute_input": "2023-11-22T13:54:09.467066Z",
     "iopub.status.busy": "2023-11-22T13:54:09.465951Z",
     "iopub.status.idle": "2023-11-22T13:54:09.495714Z",
     "shell.execute_reply": "2023-11-22T13:54:09.494486Z"
    },
    "papermill": {
     "duration": 0.051518,
     "end_time": "2023-11-22T13:54:09.497499",
     "exception": false,
     "start_time": "2023-11-22T13:54:09.445981",
     "status": "completed"
    },
    "tags": []
   },
   "outputs": [],
   "source": [
    "pd.DataFrame({\n",
    "  'orders': tickets.groupby('ward_code').number_of_tickets.count(),\n",
    "  'tickets': tickets.groupby('ward_code').number_of_tickets.sum().astype(int),\n",
    "}).to_csv(os.path.join(OUTPUT_DIR, 'tickets_by_ward.csv'))"
   ]
  },
  {
   "cell_type": "code",
   "execution_count": 9,
   "id": "8ad8c967",
   "metadata": {
    "execution": {
     "iopub.execute_input": "2023-11-22T13:54:09.532873Z",
     "iopub.status.busy": "2023-11-22T13:54:09.532267Z",
     "iopub.status.idle": "2023-11-22T13:54:09.563071Z",
     "shell.execute_reply": "2023-11-22T13:54:09.561922Z"
    },
    "papermill": {
     "duration": 0.054811,
     "end_time": "2023-11-22T13:54:09.564949",
     "exception": false,
     "start_time": "2023-11-22T13:54:09.510138",
     "status": "completed"
    },
    "tags": []
   },
   "outputs": [],
   "source": [
    "pd.DataFrame({\n",
    "  'orders': tickets.groupby('event_date').number_of_tickets.count(),\n",
    "  'tickets': tickets.groupby('event_date').number_of_tickets.sum().astype(int),\n",
    "}).resample('M').sum().to_csv(os.path.join(OUTPUT_DIR, 'tickets_by_event_date.csv'))"
   ]
  },
  {
   "cell_type": "code",
   "execution_count": 10,
   "id": "ea71f3de",
   "metadata": {
    "execution": {
     "iopub.execute_input": "2023-11-22T13:54:09.601933Z",
     "iopub.status.busy": "2023-11-22T13:54:09.601175Z",
     "iopub.status.idle": "2023-11-22T13:54:09.623301Z",
     "shell.execute_reply": "2023-11-22T13:54:09.622343Z"
    },
    "papermill": {
     "duration": 0.047898,
     "end_time": "2023-11-22T13:54:09.625033",
     "exception": false,
     "start_time": "2023-11-22T13:54:09.577135",
     "status": "completed"
    },
    "tags": []
   },
   "outputs": [],
   "source": [
    "pd.Series({\n",
    "    'total_events': events.event_unique_identifier.count(),\n",
    "    'total_attendances': events.attendances.count(),\n",
    "    'first_event': events.date.min(),\n",
    "    'latest_event': events.date.max(),\n",
    "    'total_ticket_orders_for_events_to_date': tickets.number_of_tickets.count(),\n",
    "    'total_tickets_sold_for_events_to_date': tickets.number_of_tickets.sum(),\n",
    "}).to_json(os.path.join(OUTPUT_DIR, 'headlines.json'), indent=2)"
   ]
  },
  {
   "cell_type": "code",
   "execution_count": null,
   "id": "0cad648b",
   "metadata": {
    "papermill": {
     "duration": 0.024874,
     "end_time": "2023-11-22T13:54:09.662740",
     "exception": false,
     "start_time": "2023-11-22T13:54:09.637866",
     "status": "completed"
    },
    "tags": []
   },
   "outputs": [],
   "source": []
  }
 ],
 "metadata": {
  "kernelspec": {
   "display_name": "leeds-2023-YZF5GfJv",
   "language": "python",
   "name": "python3"
  },
  "language_info": {
   "codemirror_mode": {
    "name": "ipython",
    "version": 3
   },
   "file_extension": ".py",
   "mimetype": "text/x-python",
   "name": "python",
   "nbconvert_exporter": "python",
   "pygments_lexer": "ipython3",
   "version": "3.10.12"
  },
  "papermill": {
   "default_parameters": {},
   "duration": 11.765669,
   "end_time": "2023-11-22T13:54:10.002155",
   "environment_variables": {},
   "exception": null,
   "input_path": "prepare.ipynb",
   "output_path": "../../../../working/output/signature-prepare.ipynb",
   "parameters": {},
   "start_time": "2023-11-22T13:53:58.236486",
   "version": "2.4.0"
  }
 },
 "nbformat": 4,
 "nbformat_minor": 5
}