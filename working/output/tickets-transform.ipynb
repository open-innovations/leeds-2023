{
 "cells": [
  {
   "cell_type": "code",
   "execution_count": 1,
   "id": "06bc1ebb",
   "metadata": {
    "execution": {
     "iopub.execute_input": "2023-12-16T23:38:37.873720Z",
     "iopub.status.busy": "2023-12-16T23:38:37.873506Z",
     "iopub.status.idle": "2023-12-16T23:38:38.106838Z",
     "shell.execute_reply": "2023-12-16T23:38:38.106257Z"
    },
    "papermill": {
     "duration": 0.238678,
     "end_time": "2023-12-16T23:38:38.108425",
     "exception": false,
     "start_time": "2023-12-16T23:38:37.869747",
     "status": "completed"
    },
    "tags": []
   },
   "outputs": [],
   "source": [
    "import sys\n",
    "from pathlib import Path\n",
    "\n",
    "import pandas as pd\n",
    "\n",
    "TOP_DIR = Path('../../../..').resolve()\n",
    "\n",
    "if str(TOP_DIR) not in sys.path: sys.path.append(str(TOP_DIR))"
   ]
  },
  {
   "cell_type": "code",
   "execution_count": 2,
   "id": "868cddf8",
   "metadata": {
    "execution": {
     "iopub.execute_input": "2023-12-16T23:38:38.114741Z",
     "iopub.status.busy": "2023-12-16T23:38:38.114315Z",
     "iopub.status.idle": "2023-12-16T23:38:44.880319Z",
     "shell.execute_reply": "2023-12-16T23:38:44.879695Z"
    },
    "papermill": {
     "duration": 6.77073,
     "end_time": "2023-12-16T23:38:44.881889",
     "exception": false,
     "start_time": "2023-12-16T23:38:38.111159",
     "status": "completed"
    },
    "tags": []
   },
   "outputs": [],
   "source": [
    "from lib.util.geo import postcode_formatter, postcode_to_ward_code"
   ]
  },
  {
   "cell_type": "code",
   "execution_count": 3,
   "id": "af085f8a",
   "metadata": {
    "execution": {
     "iopub.execute_input": "2023-12-16T23:38:44.888038Z",
     "iopub.status.busy": "2023-12-16T23:38:44.887721Z",
     "iopub.status.idle": "2023-12-16T23:38:44.909054Z",
     "shell.execute_reply": "2023-12-16T23:38:44.908528Z"
    },
    "papermill": {
     "duration": 0.025732,
     "end_time": "2023-12-16T23:38:44.910350",
     "exception": false,
     "start_time": "2023-12-16T23:38:44.884618",
     "status": "completed"
    },
    "tags": []
   },
   "outputs": [],
   "source": [
    "ticket_data = pd.read_csv(\n",
    "    '../../../../working/metrics/ticketing/orders.csv',\n",
    "    parse_dates=['created_at', 'event_date'],\n",
    "    usecols=[\n",
    "        'created_at',\n",
    "        'event_id',\n",
    "        'event_name',\n",
    "        'event_date',\n",
    "        'event_time',\n",
    "        'number_of_tickets',\n",
    "        'postcode_from_question',\n",
    "        'postcode_from_address',\n",
    "        'status',\n",
    "    ]\n",
    ")"
   ]
  },
  {
   "cell_type": "code",
   "execution_count": 4,
   "id": "3fd2770d",
   "metadata": {
    "execution": {
     "iopub.execute_input": "2023-12-16T23:38:44.916125Z",
     "iopub.status.busy": "2023-12-16T23:38:44.915680Z",
     "iopub.status.idle": "2023-12-16T23:38:44.924071Z",
     "shell.execute_reply": "2023-12-16T23:38:44.923443Z"
    },
    "papermill": {
     "duration": 0.012677,
     "end_time": "2023-12-16T23:38:44.925408",
     "exception": false,
     "start_time": "2023-12-16T23:38:44.912731",
     "status": "completed"
    },
    "tags": []
   },
   "outputs": [
    {
     "name": "stdout",
     "output_type": "stream",
     "text": [
      "<class 'pandas.core.frame.DataFrame'>\n",
      "RangeIndex: 6649 entries, 0 to 6648\n",
      "Data columns (total 9 columns):\n",
      " #   Column                  Non-Null Count  Dtype         \n",
      "---  ------                  --------------  -----         \n",
      " 0   postcode_from_question  6281 non-null   object        \n",
      " 1   postcode_from_address   849 non-null    object        \n",
      " 2   created_at              6649 non-null   datetime64[ns]\n",
      " 3   event_id                6649 non-null   object        \n",
      " 4   event_name              6649 non-null   object        \n",
      " 5   event_date              6649 non-null   datetime64[ns]\n",
      " 6   event_time              6649 non-null   object        \n",
      " 7   number_of_tickets       6649 non-null   int64         \n",
      " 8   status                  6649 non-null   object        \n",
      "dtypes: datetime64[ns](2), int64(1), object(6)\n",
      "memory usage: 467.6+ KB\n"
     ]
    }
   ],
   "source": [
    "ticket_data.info()"
   ]
  },
  {
   "cell_type": "code",
   "execution_count": 5,
   "id": "b2df1f81",
   "metadata": {
    "execution": {
     "iopub.execute_input": "2023-12-16T23:38:44.931976Z",
     "iopub.status.busy": "2023-12-16T23:38:44.931503Z",
     "iopub.status.idle": "2023-12-16T23:38:44.936003Z",
     "shell.execute_reply": "2023-12-16T23:38:44.935525Z"
    },
    "papermill": {
     "duration": 0.008993,
     "end_time": "2023-12-16T23:38:44.937240",
     "exception": false,
     "start_time": "2023-12-16T23:38:44.928247",
     "status": "completed"
    },
    "tags": []
   },
   "outputs": [],
   "source": [
    "completed_orders = (\n",
    "    ticket_data.loc[\n",
    "        ~ticket_data.status.isin(['cancelled']),\n",
    "        ticket_data.columns\n",
    "    ]\n",
    ")"
   ]
  },
  {
   "cell_type": "code",
   "execution_count": 6,
   "id": "18028e9f",
   "metadata": {
    "execution": {
     "iopub.execute_input": "2023-12-16T23:38:44.943261Z",
     "iopub.status.busy": "2023-12-16T23:38:44.942915Z",
     "iopub.status.idle": "2023-12-16T23:38:45.826360Z",
     "shell.execute_reply": "2023-12-16T23:38:45.825726Z"
    },
    "papermill": {
     "duration": 0.888234,
     "end_time": "2023-12-16T23:38:45.828013",
     "exception": false,
     "start_time": "2023-12-16T23:38:44.939779",
     "status": "completed"
    },
    "tags": []
   },
   "outputs": [],
   "source": [
    "completed_orders['ward_code'] = (\n",
    "    completed_orders\n",
    "        .loc[:, ['postcode_from_question', 'postcode_from_address']]\n",
    "        .bfill()\n",
    "        .iloc[:, 0]\n",
    "        .pipe(postcode_formatter)\n",
    "        .map(postcode_to_ward_code)\n",
    ")"
   ]
  },
  {
   "cell_type": "markdown",
   "id": "2294ff1b",
   "metadata": {
    "papermill": {
     "duration": 0.002599,
     "end_time": "2023-12-16T23:38:45.834406",
     "exception": false,
     "start_time": "2023-12-16T23:38:45.831807",
     "status": "completed"
    },
    "tags": []
   },
   "source": [
    "Get the events data"
   ]
  },
  {
   "cell_type": "code",
   "execution_count": 7,
   "id": "d8c8429b",
   "metadata": {
    "execution": {
     "iopub.execute_input": "2023-12-16T23:38:45.840641Z",
     "iopub.status.busy": "2023-12-16T23:38:45.840234Z",
     "iopub.status.idle": "2023-12-16T23:38:45.856017Z",
     "shell.execute_reply": "2023-12-16T23:38:45.855509Z"
    },
    "papermill": {
     "duration": 0.020442,
     "end_time": "2023-12-16T23:38:45.857339",
     "exception": false,
     "start_time": "2023-12-16T23:38:45.836897",
     "status": "completed"
    },
    "tags": []
   },
   "outputs": [],
   "source": [
    "def prepare_events(data: pd.DataFrame):\n",
    "    data = data.rename(columns={\n",
    "        'Project name': 'project_name',\n",
    "        'Event type': 'event_type',\n",
    "        'Ticket Tailor ID': 'ticket_tailor_id'\n",
    "    })\n",
    "    data['public_event'] = data.event_type.str.contains('Public Event')\n",
    "    data['ticket_tailor_id'] = data.ticket_tailor_id.str.split(\n",
    "        pat=r'[\\s,]+', regex=True)\n",
    "    data = data.drop(columns=['event_type'])\n",
    "    data = data.explode('ticket_tailor_id')\n",
    "    data = data.loc[data.ticket_tailor_id.notna() & (data.ticket_tailor_id != '')]\n",
    "    return data\n",
    "\n",
    "\n",
    "events = pd.read_csv(\n",
    "    '../../../../working/metrics/events/all.csv',\n",
    "    usecols=[\n",
    "        'Project name',\n",
    "        'Event type',\n",
    "        'Ticket Tailor ID'\n",
    "    ]\n",
    ").pipe(prepare_events)"
   ]
  },
  {
   "cell_type": "markdown",
   "id": "36981c29",
   "metadata": {
    "papermill": {
     "duration": 0.002506,
     "end_time": "2023-12-16T23:38:45.862497",
     "exception": false,
     "start_time": "2023-12-16T23:38:45.859991",
     "status": "completed"
    },
    "tags": []
   },
   "source": [
    "Duplicated ticket tailor IDs"
   ]
  },
  {
   "cell_type": "code",
   "execution_count": 8,
   "id": "7a56c71a",
   "metadata": {
    "execution": {
     "iopub.execute_input": "2023-12-16T23:38:45.868650Z",
     "iopub.status.busy": "2023-12-16T23:38:45.868231Z",
     "iopub.status.idle": "2023-12-16T23:38:45.879136Z",
     "shell.execute_reply": "2023-12-16T23:38:45.878491Z"
    },
    "papermill": {
     "duration": 0.015422,
     "end_time": "2023-12-16T23:38:45.880427",
     "exception": false,
     "start_time": "2023-12-16T23:38:45.865005",
     "status": "completed"
    },
    "tags": []
   },
   "outputs": [
    {
     "data": {
      "text/html": [
       "<div>\n",
       "<style scoped>\n",
       "    .dataframe tbody tr th:only-of-type {\n",
       "        vertical-align: middle;\n",
       "    }\n",
       "\n",
       "    .dataframe tbody tr th {\n",
       "        vertical-align: top;\n",
       "    }\n",
       "\n",
       "    .dataframe thead th {\n",
       "        text-align: right;\n",
       "    }\n",
       "</style>\n",
       "<table border=\"1\" class=\"dataframe\">\n",
       "  <thead>\n",
       "    <tr style=\"text-align: right;\">\n",
       "      <th></th>\n",
       "      <th>project_name</th>\n",
       "      <th>ticket_tailor_id</th>\n",
       "      <th>public_event</th>\n",
       "    </tr>\n",
       "  </thead>\n",
       "  <tbody>\n",
       "    <tr>\n",
       "      <th>117</th>\n",
       "      <td>11 - All That Lives</td>\n",
       "      <td>985872</td>\n",
       "      <td>True</td>\n",
       "    </tr>\n",
       "    <tr>\n",
       "      <th>134</th>\n",
       "      <td>09 - Smeaton300: Moon Palace East Leeds Observ...</td>\n",
       "      <td>ev_2918127</td>\n",
       "      <td>True</td>\n",
       "    </tr>\n",
       "    <tr>\n",
       "      <th>159</th>\n",
       "      <td>11 - All That Lives</td>\n",
       "      <td>985872</td>\n",
       "      <td>True</td>\n",
       "    </tr>\n",
       "    <tr>\n",
       "      <th>251</th>\n",
       "      <td>Creative Learning S3</td>\n",
       "      <td>ev_3073624</td>\n",
       "      <td>False</td>\n",
       "    </tr>\n",
       "    <tr>\n",
       "      <th>309</th>\n",
       "      <td>11 - All That Lives</td>\n",
       "      <td>985872</td>\n",
       "      <td>True</td>\n",
       "    </tr>\n",
       "    <tr>\n",
       "      <th>608</th>\n",
       "      <td>11 - All That Lives</td>\n",
       "      <td>985872</td>\n",
       "      <td>True</td>\n",
       "    </tr>\n",
       "    <tr>\n",
       "      <th>887</th>\n",
       "      <td>07 - Children's Day</td>\n",
       "      <td>ev_2963290</td>\n",
       "      <td>NaN</td>\n",
       "    </tr>\n",
       "    <tr>\n",
       "      <th>887</th>\n",
       "      <td>07 - Children's Day</td>\n",
       "      <td>ev_2963290</td>\n",
       "      <td>NaN</td>\n",
       "    </tr>\n",
       "    <tr>\n",
       "      <th>887</th>\n",
       "      <td>07 - Children's Day</td>\n",
       "      <td>ev_2963295</td>\n",
       "      <td>NaN</td>\n",
       "    </tr>\n",
       "    <tr>\n",
       "      <th>887</th>\n",
       "      <td>07 - Children's Day</td>\n",
       "      <td>ev_2963297</td>\n",
       "      <td>NaN</td>\n",
       "    </tr>\n",
       "    <tr>\n",
       "      <th>887</th>\n",
       "      <td>07 - Children's Day</td>\n",
       "      <td>ev_2963295</td>\n",
       "      <td>NaN</td>\n",
       "    </tr>\n",
       "    <tr>\n",
       "      <th>887</th>\n",
       "      <td>07 - Children's Day</td>\n",
       "      <td>ev_2963296</td>\n",
       "      <td>NaN</td>\n",
       "    </tr>\n",
       "    <tr>\n",
       "      <th>887</th>\n",
       "      <td>07 - Children's Day</td>\n",
       "      <td>ev_2963296</td>\n",
       "      <td>NaN</td>\n",
       "    </tr>\n",
       "    <tr>\n",
       "      <th>887</th>\n",
       "      <td>07 - Children's Day</td>\n",
       "      <td>ev_2963297</td>\n",
       "      <td>NaN</td>\n",
       "    </tr>\n",
       "    <tr>\n",
       "      <th>928</th>\n",
       "      <td>11 - All That Lives</td>\n",
       "      <td>985872</td>\n",
       "      <td>True</td>\n",
       "    </tr>\n",
       "    <tr>\n",
       "      <th>1094</th>\n",
       "      <td>09 - Smeaton300: Moon Palace East Leeds Observ...</td>\n",
       "      <td>ev_2918127</td>\n",
       "      <td>True</td>\n",
       "    </tr>\n",
       "    <tr>\n",
       "      <th>1364</th>\n",
       "      <td>07 - Children's Day</td>\n",
       "      <td>ev_2963290</td>\n",
       "      <td>True</td>\n",
       "    </tr>\n",
       "    <tr>\n",
       "      <th>1364</th>\n",
       "      <td>07 - Children's Day</td>\n",
       "      <td>ev_2963295</td>\n",
       "      <td>True</td>\n",
       "    </tr>\n",
       "    <tr>\n",
       "      <th>1364</th>\n",
       "      <td>07 - Children's Day</td>\n",
       "      <td>ev_2963296</td>\n",
       "      <td>True</td>\n",
       "    </tr>\n",
       "    <tr>\n",
       "      <th>1364</th>\n",
       "      <td>07 - Children's Day</td>\n",
       "      <td>ev_2963297</td>\n",
       "      <td>True</td>\n",
       "    </tr>\n",
       "    <tr>\n",
       "      <th>1382</th>\n",
       "      <td>09 - Smeaton300: Moon Palace East Leeds Observ...</td>\n",
       "      <td>ev_2918127</td>\n",
       "      <td>True</td>\n",
       "    </tr>\n",
       "    <tr>\n",
       "      <th>1462</th>\n",
       "      <td>Creative Learning S3</td>\n",
       "      <td>ev_3073624</td>\n",
       "      <td>False</td>\n",
       "    </tr>\n",
       "  </tbody>\n",
       "</table>\n",
       "</div>"
      ],
      "text/plain": [
       "                                           project_name ticket_tailor_id  \\\n",
       "117                                 11 - All That Lives           985872   \n",
       "134   09 - Smeaton300: Moon Palace East Leeds Observ...       ev_2918127   \n",
       "159                                 11 - All That Lives           985872   \n",
       "251                                Creative Learning S3       ev_3073624   \n",
       "309                                 11 - All That Lives           985872   \n",
       "608                                 11 - All That Lives           985872   \n",
       "887                                 07 - Children's Day       ev_2963290   \n",
       "887                                 07 - Children's Day       ev_2963290   \n",
       "887                                 07 - Children's Day       ev_2963295   \n",
       "887                                 07 - Children's Day       ev_2963297   \n",
       "887                                 07 - Children's Day       ev_2963295   \n",
       "887                                 07 - Children's Day       ev_2963296   \n",
       "887                                 07 - Children's Day       ev_2963296   \n",
       "887                                 07 - Children's Day       ev_2963297   \n",
       "928                                 11 - All That Lives           985872   \n",
       "1094  09 - Smeaton300: Moon Palace East Leeds Observ...       ev_2918127   \n",
       "1364                                07 - Children's Day       ev_2963290   \n",
       "1364                                07 - Children's Day       ev_2963295   \n",
       "1364                                07 - Children's Day       ev_2963296   \n",
       "1364                                07 - Children's Day       ev_2963297   \n",
       "1382  09 - Smeaton300: Moon Palace East Leeds Observ...       ev_2918127   \n",
       "1462                               Creative Learning S3       ev_3073624   \n",
       "\n",
       "     public_event  \n",
       "117          True  \n",
       "134          True  \n",
       "159          True  \n",
       "251         False  \n",
       "309          True  \n",
       "608          True  \n",
       "887           NaN  \n",
       "887           NaN  \n",
       "887           NaN  \n",
       "887           NaN  \n",
       "887           NaN  \n",
       "887           NaN  \n",
       "887           NaN  \n",
       "887           NaN  \n",
       "928          True  \n",
       "1094         True  \n",
       "1364         True  \n",
       "1364         True  \n",
       "1364         True  \n",
       "1364         True  \n",
       "1382         True  \n",
       "1462        False  "
      ]
     },
     "execution_count": 8,
     "metadata": {},
     "output_type": "execute_result"
    }
   ],
   "source": [
    "events[\n",
    "  events.ticket_tailor_id.isin(\n",
    "    events.ticket_tailor_id[\n",
    "      events.ticket_tailor_id.duplicated()\n",
    "    ].to_list()\n",
    "  )\n",
    "]"
   ]
  },
  {
   "cell_type": "code",
   "execution_count": 9,
   "id": "ff37656c",
   "metadata": {
    "execution": {
     "iopub.execute_input": "2023-12-16T23:38:45.887163Z",
     "iopub.status.busy": "2023-12-16T23:38:45.886808Z",
     "iopub.status.idle": "2023-12-16T23:38:45.890792Z",
     "shell.execute_reply": "2023-12-16T23:38:45.890278Z"
    },
    "papermill": {
     "duration": 0.008637,
     "end_time": "2023-12-16T23:38:45.892014",
     "exception": false,
     "start_time": "2023-12-16T23:38:45.883377",
     "status": "completed"
    },
    "tags": []
   },
   "outputs": [
    {
     "data": {
      "text/plain": [
       "6484"
      ]
     },
     "execution_count": 9,
     "metadata": {},
     "output_type": "execute_result"
    }
   ],
   "source": [
    "len(completed_orders)"
   ]
  },
  {
   "cell_type": "code",
   "execution_count": 10,
   "id": "744e1405",
   "metadata": {
    "execution": {
     "iopub.execute_input": "2023-12-16T23:38:45.898894Z",
     "iopub.status.busy": "2023-12-16T23:38:45.898517Z",
     "iopub.status.idle": "2023-12-16T23:38:45.905180Z",
     "shell.execute_reply": "2023-12-16T23:38:45.904695Z"
    },
    "papermill": {
     "duration": 0.011442,
     "end_time": "2023-12-16T23:38:45.906398",
     "exception": false,
     "start_time": "2023-12-16T23:38:45.894956",
     "status": "completed"
    },
    "tags": []
   },
   "outputs": [],
   "source": [
    "completed_orders = completed_orders.merge(\n",
    "    events.drop_duplicates().set_index('ticket_tailor_id'),\n",
    "    left_on='event_id',\n",
    "    right_index=True,\n",
    "    how='left'\n",
    ")"
   ]
  },
  {
   "cell_type": "code",
   "execution_count": 11,
   "id": "5e1daaa2",
   "metadata": {
    "execution": {
     "iopub.execute_input": "2023-12-16T23:38:45.913390Z",
     "iopub.status.busy": "2023-12-16T23:38:45.913022Z",
     "iopub.status.idle": "2023-12-16T23:38:45.917151Z",
     "shell.execute_reply": "2023-12-16T23:38:45.916642Z"
    },
    "papermill": {
     "duration": 0.009084,
     "end_time": "2023-12-16T23:38:45.918461",
     "exception": false,
     "start_time": "2023-12-16T23:38:45.909377",
     "status": "completed"
    },
    "tags": []
   },
   "outputs": [
    {
     "data": {
      "text/plain": [
       "6492"
      ]
     },
     "execution_count": 11,
     "metadata": {},
     "output_type": "execute_result"
    }
   ],
   "source": [
    "len(completed_orders)"
   ]
  },
  {
   "cell_type": "code",
   "execution_count": 12,
   "id": "c109cc4f",
   "metadata": {
    "execution": {
     "iopub.execute_input": "2023-12-16T23:38:45.925485Z",
     "iopub.status.busy": "2023-12-16T23:38:45.925130Z",
     "iopub.status.idle": "2023-12-16T23:38:45.928261Z",
     "shell.execute_reply": "2023-12-16T23:38:45.927660Z"
    },
    "papermill": {
     "duration": 0.008034,
     "end_time": "2023-12-16T23:38:45.929514",
     "exception": false,
     "start_time": "2023-12-16T23:38:45.921480",
     "status": "completed"
    },
    "tags": []
   },
   "outputs": [],
   "source": [
    "OUTPUT_DIR = TOP_DIR.joinpath('data/metrics/events/tickets/')\n",
    "OUTPUT_DIR.mkdir(parents=True, exist_ok=True)"
   ]
  },
  {
   "cell_type": "code",
   "execution_count": 13,
   "id": "e4bf2adb",
   "metadata": {
    "execution": {
     "iopub.execute_input": "2023-12-16T23:38:45.936946Z",
     "iopub.status.busy": "2023-12-16T23:38:45.936578Z",
     "iopub.status.idle": "2023-12-16T23:38:45.962648Z",
     "shell.execute_reply": "2023-12-16T23:38:45.961980Z"
    },
    "papermill": {
     "duration": 0.031155,
     "end_time": "2023-12-16T23:38:45.963925",
     "exception": false,
     "start_time": "2023-12-16T23:38:45.932770",
     "status": "completed"
    },
    "tags": []
   },
   "outputs": [],
   "source": [
    "completed_orders.loc[:, [\n",
    "    'created_at',\n",
    "    'event_id',\n",
    "    'event_date',\n",
    "    'number_of_tickets',\n",
    "    'ward_code',\n",
    "    'project_name',\n",
    "    'public_event',\n",
    "]].sort_values(['created_at', 'event_id']).to_csv(\n",
    "  OUTPUT_DIR.joinpath('orders.csv'),\n",
    "  index=False\n",
    ")"
   ]
  },
  {
   "cell_type": "code",
   "execution_count": 14,
   "id": "2af25c33",
   "metadata": {
    "execution": {
     "iopub.execute_input": "2023-12-16T23:38:45.971087Z",
     "iopub.status.busy": "2023-12-16T23:38:45.970729Z",
     "iopub.status.idle": "2023-12-16T23:38:45.979172Z",
     "shell.execute_reply": "2023-12-16T23:38:45.978565Z"
    },
    "papermill": {
     "duration": 0.013402,
     "end_time": "2023-12-16T23:38:45.980458",
     "exception": false,
     "start_time": "2023-12-16T23:38:45.967056",
     "status": "completed"
    },
    "tags": []
   },
   "outputs": [],
   "source": [
    "(\n",
    "    completed_orders.loc[:, ['event_date', 'event_time', 'event_name', 'event_id', 'project_name', 'public_event']]\n",
    "      .drop_duplicates()\n",
    "      .sort_values(['event_date', 'event_time'])\n",
    "      .to_csv('../../../../data/metrics/events/tickets/events.csv', index=False)\n",
    ")"
   ]
  },
  {
   "cell_type": "code",
   "execution_count": 15,
   "id": "acec403f",
   "metadata": {
    "execution": {
     "iopub.execute_input": "2023-12-16T23:38:45.987875Z",
     "iopub.status.busy": "2023-12-16T23:38:45.987521Z",
     "iopub.status.idle": "2023-12-16T23:38:46.831757Z",
     "shell.execute_reply": "2023-12-16T23:38:46.831062Z"
    },
    "papermill": {
     "duration": 0.849284,
     "end_time": "2023-12-16T23:38:46.833001",
     "exception": false,
     "start_time": "2023-12-16T23:38:45.983717",
     "status": "completed"
    },
    "tags": []
   },
   "outputs": [
    {
     "data": {
      "image/png": "[encoded data removed]",
      "text/plain": [
       "<Figure size 640x480 with 1 Axes>"
      ]
     },
     "metadata": {},
     "output_type": "display_data"
    }
   ],
   "source": [
    "chart = completed_orders.groupby(['project_name']).number_of_tickets.sum().sort_values().plot.barh()"
   ]
  },
  {
   "cell_type": "code",
   "execution_count": 16,
   "id": "3e6da703",
   "metadata": {
    "execution": {
     "iopub.execute_input": "2023-12-16T23:38:46.842100Z",
     "iopub.status.busy": "2023-12-16T23:38:46.841463Z",
     "iopub.status.idle": "2023-12-16T23:38:47.014037Z",
     "shell.execute_reply": "2023-12-16T23:38:47.013473Z"
    },
    "papermill": {
     "duration": 0.178416,
     "end_time": "2023-12-16T23:38:47.015379",
     "exception": false,
     "start_time": "2023-12-16T23:38:46.836963",
     "status": "completed"
    },
    "tags": []
   },
   "outputs": [
    {
     "data": {
      "image/png": "[encoded data removed]",
      "text/plain": [
       "<Figure size 640x480 with 1 Axes>"
      ]
     },
     "metadata": {},
     "output_type": "display_data"
    }
   ],
   "source": [
    "chart = completed_orders.groupby([\n",
    "    'event_date'\n",
    "    ]).number_of_tickets.sum().resample('M').sum().cumsum().plot.bar()"
   ]
  },
  {
   "cell_type": "code",
   "execution_count": null,
   "id": "b43e1d60",
   "metadata": {
    "papermill": {
     "duration": 0.004473,
     "end_time": "2023-12-16T23:38:47.024111",
     "exception": false,
     "start_time": "2023-12-16T23:38:47.019638",
     "status": "completed"
    },
    "tags": []
   },
   "outputs": [],
   "source": []
  }
 ],
 "metadata": {
  "kernelspec": {
   "display_name": "leeds-2023-YZF5GfJv",
   "language": "python",
   "name": "python3"
  },
  "language_info": {
   "codemirror_mode": {
    "name": "ipython",
    "version": 3
   },
   "file_extension": ".py",
   "mimetype": "text/x-python",
   "name": "python",
   "nbconvert_exporter": "python",
   "pygments_lexer": "ipython3",
   "version": "3.10.13"
  },
  "papermill": {
   "default_parameters": {},
   "duration": 10.931728,
   "end_time": "2023-12-16T23:38:47.345072",
   "environment_variables": {},
   "exception": null,
   "input_path": "tickets.ipynb",
   "output_path": "../../../../working/output/tickets-transform.ipynb",
   "parameters": {},
   "start_time": "2023-12-16T23:38:36.413344",
   "version": "2.4.0"
  }
 },
 "nbformat": 4,
 "nbformat_minor": 5
}