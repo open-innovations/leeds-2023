{
 "cells": [
  {
   "cell_type": "code",
   "execution_count": 1,
   "id": "db936e25",
   "metadata": {
    "execution": {
     "iopub.execute_input": "2023-11-01T23:37:22.055675Z",
     "iopub.status.busy": "2023-11-01T23:37:22.055443Z",
     "iopub.status.idle": "2023-11-01T23:37:22.296258Z",
     "shell.execute_reply": "2023-11-01T23:37:22.295694Z"
    },
    "papermill": {
     "duration": 0.245158,
     "end_time": "2023-11-01T23:37:22.297941",
     "exception": false,
     "start_time": "2023-11-01T23:37:22.052783",
     "status": "completed"
    },
    "tags": []
   },
   "outputs": [],
   "source": [
    "import os\n",
    "import pandas as pd"
   ]
  },
  {
   "cell_type": "code",
   "execution_count": 2,
   "id": "38f00869",
   "metadata": {
    "execution": {
     "iopub.execute_input": "2023-11-01T23:37:22.301637Z",
     "iopub.status.busy": "2023-11-01T23:37:22.301195Z",
     "iopub.status.idle": "2023-11-01T23:37:22.304448Z",
     "shell.execute_reply": "2023-11-01T23:37:22.303921Z"
    },
    "papermill": {
     "duration": 0.00623,
     "end_time": "2023-11-01T23:37:22.305640",
     "exception": false,
     "start_time": "2023-11-01T23:37:22.299410",
     "status": "completed"
    },
    "tags": []
   },
   "outputs": [],
   "source": [
    "EVENTS_RAW_DATA = '../../../working/metrics/promote-events/events.csv'\n",
    "DATA_DIR = '../../../data/metrics/events/promote-events/'\n",
    "EVENTS_DATA = os.path.join(DATA_DIR, 'events.csv')"
   ]
  },
  {
   "cell_type": "code",
   "execution_count": 3,
   "id": "f4ba83f6",
   "metadata": {
    "execution": {
     "iopub.execute_input": "2023-11-01T23:37:22.308701Z",
     "iopub.status.busy": "2023-11-01T23:37:22.308377Z",
     "iopub.status.idle": "2023-11-01T23:37:22.311522Z",
     "shell.execute_reply": "2023-11-01T23:37:22.310899Z"
    },
    "papermill": {
     "duration": 0.006032,
     "end_time": "2023-11-01T23:37:22.312774",
     "exception": false,
     "start_time": "2023-11-01T23:37:22.306742",
     "status": "completed"
    },
    "tags": []
   },
   "outputs": [],
   "source": [
    "columns = {\n",
    "    'id': 'id',\n",
    "    'name': 'name',\n",
    "    'locationName': 'location',\n",
    "    'cardPrice': 'card_price',\n",
    "    'timeslots': 'time',\n",
    "    # 'displayOnWebsite': 'display',\n",
    "    'Stage': 'stage',\n",
    "}"
   ]
  },
  {
   "cell_type": "code",
   "execution_count": 4,
   "id": "11806b16",
   "metadata": {
    "execution": {
     "iopub.execute_input": "2023-11-01T23:37:22.316075Z",
     "iopub.status.busy": "2023-11-01T23:37:22.315630Z",
     "iopub.status.idle": "2023-11-01T23:37:22.324486Z",
     "shell.execute_reply": "2023-11-01T23:37:22.323874Z"
    },
    "papermill": {
     "duration": 0.012007,
     "end_time": "2023-11-01T23:37:22.325905",
     "exception": false,
     "start_time": "2023-11-01T23:37:22.313898",
     "status": "completed"
    },
    "tags": []
   },
   "outputs": [],
   "source": [
    "data = pd.read_csv(EVENTS_RAW_DATA)[columns.keys()].rename(columns=columns)\n",
    "data.time = pd.to_datetime(data.time, errors='coerce')"
   ]
  },
  {
   "cell_type": "code",
   "execution_count": 5,
   "id": "26c0252b",
   "metadata": {
    "execution": {
     "iopub.execute_input": "2023-11-01T23:37:22.329100Z",
     "iopub.status.busy": "2023-11-01T23:37:22.328754Z",
     "iopub.status.idle": "2023-11-01T23:37:22.333623Z",
     "shell.execute_reply": "2023-11-01T23:37:22.333010Z"
    },
    "papermill": {
     "duration": 0.007835,
     "end_time": "2023-11-01T23:37:22.334921",
     "exception": false,
     "start_time": "2023-11-01T23:37:22.327086",
     "status": "completed"
    },
    "tags": []
   },
   "outputs": [],
   "source": [
    "data.to_csv(os.path.join(DATA_DIR, 'events.csv'), index=False)"
   ]
  }
 ],
 "metadata": {
  "kernelspec": {
   "display_name": "leeds-2023-YZF5GfJv",
   "language": "python",
   "name": "python3"
  },
  "language_info": {
   "codemirror_mode": {
    "name": "ipython",
    "version": 3
   },
   "file_extension": ".py",
   "mimetype": "text/x-python",
   "name": "python",
   "nbconvert_exporter": "python",
   "pygments_lexer": "ipython3",
   "version": "3.10.13"
  },
  "papermill": {
   "default_parameters": {},
   "duration": 1.741764,
   "end_time": "2023-11-01T23:37:22.551708",
   "environment_variables": {},
   "exception": null,
   "input_path": "transform.ipynb",
   "output_path": "../../../working/output/promote-events-transform.ipynb",
   "parameters": {},
   "start_time": "2023-11-01T23:37:20.809944",
   "version": "2.4.0"
  }
 },
 "nbformat": 4,
 "nbformat_minor": 5
}