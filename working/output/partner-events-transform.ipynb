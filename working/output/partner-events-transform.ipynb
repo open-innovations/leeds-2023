{
 "cells": [
  {
   "cell_type": "code",
   "execution_count": 1,
   "id": "5182c185",
   "metadata": {
    "execution": {
     "iopub.execute_input": "2023-12-01T23:37:56.014728Z",
     "iopub.status.busy": "2023-12-01T23:37:56.014465Z",
     "iopub.status.idle": "2023-12-01T23:37:56.257022Z",
     "shell.execute_reply": "2023-12-01T23:37:56.256329Z"
    },
    "papermill": {
     "duration": 0.248021,
     "end_time": "2023-12-01T23:37:56.258919",
     "exception": false,
     "start_time": "2023-12-01T23:37:56.010898",
     "status": "completed"
    },
    "tags": []
   },
   "outputs": [],
   "source": [
    "import os\n",
    "import sys\n",
    "import pandas as pd\n",
    "lib_dir = os.path.realpath('../../../lib/')\n",
    "if lib_dir not in sys.path: sys.path.append(lib_dir)"
   ]
  },
  {
   "cell_type": "code",
   "execution_count": 2,
   "id": "af65fe9f",
   "metadata": {
    "execution": {
     "iopub.execute_input": "2023-12-01T23:37:56.264606Z",
     "iopub.status.busy": "2023-12-01T23:37:56.264186Z",
     "iopub.status.idle": "2023-12-01T23:38:03.582988Z",
     "shell.execute_reply": "2023-12-01T23:38:03.582330Z"
    },
    "papermill": {
     "duration": 7.323265,
     "end_time": "2023-12-01T23:38:03.584636",
     "exception": false,
     "start_time": "2023-12-01T23:37:56.261371",
     "status": "completed"
    },
    "tags": []
   },
   "outputs": [],
   "source": [
    "import util.geo"
   ]
  },
  {
   "cell_type": "code",
   "execution_count": 3,
   "id": "7c7d0f40",
   "metadata": {
    "execution": {
     "iopub.execute_input": "2023-12-01T23:38:03.590345Z",
     "iopub.status.busy": "2023-12-01T23:38:03.590120Z",
     "iopub.status.idle": "2023-12-01T23:38:03.593604Z",
     "shell.execute_reply": "2023-12-01T23:38:03.592968Z"
    },
    "papermill": {
     "duration": 0.008071,
     "end_time": "2023-12-01T23:38:03.595216",
     "exception": false,
     "start_time": "2023-12-01T23:38:03.587145",
     "status": "completed"
    },
    "tags": []
   },
   "outputs": [],
   "source": [
    "EVENTS_RAW_DATA = '../../../working/metrics/partner-events/events.csv'\n",
    "DATA_DIR = '../../../data/metrics/events/partner-events/'\n",
    "EVENTS_DATA = os.path.join(DATA_DIR, 'events.csv')"
   ]
  },
  {
   "cell_type": "code",
   "execution_count": 4,
   "id": "6ebbdd78",
   "metadata": {
    "execution": {
     "iopub.execute_input": "2023-12-01T23:38:03.600512Z",
     "iopub.status.busy": "2023-12-01T23:38:03.600062Z",
     "iopub.status.idle": "2023-12-01T23:38:03.603576Z",
     "shell.execute_reply": "2023-12-01T23:38:03.602955Z"
    },
    "papermill": {
     "duration": 0.007541,
     "end_time": "2023-12-01T23:38:03.604868",
     "exception": false,
     "start_time": "2023-12-01T23:38:03.597327",
     "status": "completed"
    },
    "tags": []
   },
   "outputs": [],
   "source": [
    "columns = {\n",
    "    'Event Name': 'name',\n",
    "    'Event Start Date': 'start_date',\n",
    "    'Event End Date': 'end_date',\n",
    "    'Partner/Promote': 'partner_promote',\n",
    "    'Stage': 'stage',\n",
    "    'Live date': 'live_date',\n",
    "    'Venue postcode': 'postcode',\n",
    "    'Pricing Policy': 'pricing',\n",
    "    'Venue - including address': 'venue',\n",
    "    'Is this event on Leeds Inspried?': 'on_leeds_inspired',\n",
    "}"
   ]
  },
  {
   "cell_type": "markdown",
   "id": "1a52a822",
   "metadata": {
    "papermill": {
     "duration": 0.002119,
     "end_time": "2023-12-01T23:38:03.609159",
     "exception": false,
     "start_time": "2023-12-01T23:38:03.607040",
     "status": "completed"
    },
    "tags": []
   },
   "source": [
    "Load the data and rename columns. Parse the dates to dates."
   ]
  },
  {
   "cell_type": "code",
   "execution_count": 5,
   "id": "5344d8c0",
   "metadata": {
    "execution": {
     "iopub.execute_input": "2023-12-01T23:38:03.614445Z",
     "iopub.status.busy": "2023-12-01T23:38:03.614010Z",
     "iopub.status.idle": "2023-12-01T23:38:03.623236Z",
     "shell.execute_reply": "2023-12-01T23:38:03.622595Z"
    },
    "papermill": {
     "duration": 0.013184,
     "end_time": "2023-12-01T23:38:03.624483",
     "exception": false,
     "start_time": "2023-12-01T23:38:03.611299",
     "status": "completed"
    },
    "tags": []
   },
   "outputs": [],
   "source": [
    "data = pd.read_csv(EVENTS_RAW_DATA)[columns.keys()].rename(columns=columns)\n",
    "data.start_date = pd.to_datetime(data.start_date, errors='coerce')\n",
    "data.end_date = pd.to_datetime(data.end_date, errors='coerce')"
   ]
  },
  {
   "cell_type": "markdown",
   "id": "be8f4662",
   "metadata": {
    "papermill": {
     "duration": 0.002094,
     "end_time": "2023-12-01T23:38:03.628774",
     "exception": false,
     "start_time": "2023-12-01T23:38:03.626680",
     "status": "completed"
    },
    "tags": []
   },
   "source": [
    "Filter data by not LI Pull through and start date before now"
   ]
  },
  {
   "cell_type": "code",
   "execution_count": 6,
   "id": "f0bcf171",
   "metadata": {
    "execution": {
     "iopub.execute_input": "2023-12-01T23:38:03.634897Z",
     "iopub.status.busy": "2023-12-01T23:38:03.634517Z",
     "iopub.status.idle": "2023-12-01T23:38:03.638864Z",
     "shell.execute_reply": "2023-12-01T23:38:03.638277Z"
    },
    "papermill": {
     "duration": 0.008483,
     "end_time": "2023-12-01T23:38:03.640182",
     "exception": false,
     "start_time": "2023-12-01T23:38:03.631699",
     "status": "completed"
    },
    "tags": []
   },
   "outputs": [],
   "source": [
    "data = data[\n",
    "    # (data.live_date == 'This event is live ') &\n",
    "    ((data.stage != 'LI pull through') & data.stage.notna()) &\n",
    "    (data.start_date < pd.Timestamp.now())\n",
    "]"
   ]
  },
  {
   "cell_type": "code",
   "execution_count": 7,
   "id": "038c6164",
   "metadata": {
    "execution": {
     "iopub.execute_input": "2023-12-01T23:38:03.645628Z",
     "iopub.status.busy": "2023-12-01T23:38:03.645254Z",
     "iopub.status.idle": "2023-12-01T23:38:04.583806Z",
     "shell.execute_reply": "2023-12-01T23:38:04.583069Z"
    },
    "papermill": {
     "duration": 0.943425,
     "end_time": "2023-12-01T23:38:04.585795",
     "exception": false,
     "start_time": "2023-12-01T23:38:03.642370",
     "status": "completed"
    },
    "tags": []
   },
   "outputs": [],
   "source": [
    "data['ward_code'] = data.postcode.pipe(util.geo.postcode_formatter).map(util.geo.postcode_to_ward_code)\n",
    "data['ward_name'] = data.ward_code.pipe(util.geo.ward_code_to_name)"
   ]
  },
  {
   "cell_type": "markdown",
   "id": "21da4985",
   "metadata": {
    "papermill": {
     "duration": 0.002544,
     "end_time": "2023-12-01T23:38:04.591396",
     "exception": false,
     "start_time": "2023-12-01T23:38:04.588852",
     "status": "completed"
    },
    "tags": []
   },
   "source": [
    "Save the file"
   ]
  },
  {
   "cell_type": "code",
   "execution_count": 8,
   "id": "c9d039e6",
   "metadata": {
    "execution": {
     "iopub.execute_input": "2023-12-01T23:38:04.597491Z",
     "iopub.status.busy": "2023-12-01T23:38:04.596987Z",
     "iopub.status.idle": "2023-12-01T23:38:04.603612Z",
     "shell.execute_reply": "2023-12-01T23:38:04.602940Z"
    },
    "papermill": {
     "duration": 0.011553,
     "end_time": "2023-12-01T23:38:04.605213",
     "exception": false,
     "start_time": "2023-12-01T23:38:04.593660",
     "status": "completed"
    },
    "tags": []
   },
   "outputs": [],
   "source": [
    "data[\n",
    "    ['name','start_date','end_date','ward_code']\n",
    "].to_csv(EVENTS_DATA, index=False)"
   ]
  },
  {
   "cell_type": "markdown",
   "id": "cc04497b",
   "metadata": {
    "papermill": {
     "duration": 0.002297,
     "end_time": "2023-12-01T23:38:04.609975",
     "exception": false,
     "start_time": "2023-12-01T23:38:04.607678",
     "status": "completed"
    },
    "tags": []
   },
   "source": [
    "Print out missing postcode data"
   ]
  },
  {
   "cell_type": "code",
   "execution_count": 9,
   "id": "7600cd33",
   "metadata": {
    "execution": {
     "iopub.execute_input": "2023-12-01T23:38:04.616152Z",
     "iopub.status.busy": "2023-12-01T23:38:04.615672Z",
     "iopub.status.idle": "2023-12-01T23:38:04.628700Z",
     "shell.execute_reply": "2023-12-01T23:38:04.628099Z"
    },
    "papermill": {
     "duration": 0.017754,
     "end_time": "2023-12-01T23:38:04.630063",
     "exception": false,
     "start_time": "2023-12-01T23:38:04.612309",
     "status": "completed"
    },
    "tags": []
   },
   "outputs": [
    {
     "data": {
      "text/html": [
       "<div>\n",
       "<style scoped>\n",
       "    .dataframe tbody tr th:only-of-type {\n",
       "        vertical-align: middle;\n",
       "    }\n",
       "\n",
       "    .dataframe tbody tr th {\n",
       "        vertical-align: top;\n",
       "    }\n",
       "\n",
       "    .dataframe thead th {\n",
       "        text-align: right;\n",
       "    }\n",
       "</style>\n",
       "<table border=\"1\" class=\"dataframe\">\n",
       "  <thead>\n",
       "    <tr style=\"text-align: right;\">\n",
       "      <th></th>\n",
       "      <th>name</th>\n",
       "      <th>start_date</th>\n",
       "    </tr>\n",
       "  </thead>\n",
       "  <tbody>\n",
       "    <tr>\n",
       "      <th>1</th>\n",
       "      <td>East Street Arts, A City Less Grey 2022</td>\n",
       "      <td>2022-10-08</td>\n",
       "    </tr>\n",
       "    <tr>\n",
       "      <th>3</th>\n",
       "      <td>Phoenix Dance Theatre Virtual Gallery</td>\n",
       "      <td>2023-01-01</td>\n",
       "    </tr>\n",
       "    <tr>\n",
       "      <th>4</th>\n",
       "      <td>The Big Art Giveaway, School of Creative Arts ...</td>\n",
       "      <td>2023-01-01</td>\n",
       "    </tr>\n",
       "    <tr>\n",
       "      <th>5</th>\n",
       "      <td>Embassy of Netherlands, Meet Leeds Lab</td>\n",
       "      <td>2023-01-16</td>\n",
       "    </tr>\n",
       "    <tr>\n",
       "      <th>6</th>\n",
       "      <td>Shifting Borders: A Journey to the Centre of o...</td>\n",
       "      <td>2023-01-24</td>\n",
       "    </tr>\n",
       "    <tr>\n",
       "      <th>...</th>\n",
       "      <td>...</td>\n",
       "      <td>...</td>\n",
       "    </tr>\n",
       "    <tr>\n",
       "      <th>298</th>\n",
       "      <td>afrah shafiq: st.itch</td>\n",
       "      <td>2023-11-16</td>\n",
       "    </tr>\n",
       "    <tr>\n",
       "      <th>299</th>\n",
       "      <td>Leeds Language Week: Chinese Dance and Languag...</td>\n",
       "      <td>2023-11-19</td>\n",
       "    </tr>\n",
       "    <tr>\n",
       "      <th>300</th>\n",
       "      <td>Leeds Language Week: Taste of China</td>\n",
       "      <td>2023-11-19</td>\n",
       "    </tr>\n",
       "    <tr>\n",
       "      <th>302</th>\n",
       "      <td>Don't Go To Bed Just Yet: Live recording from ...</td>\n",
       "      <td>2023-11-21</td>\n",
       "    </tr>\n",
       "    <tr>\n",
       "      <th>304</th>\n",
       "      <td>Wellbeing Wednesdays</td>\n",
       "      <td>2023-11-22</td>\n",
       "    </tr>\n",
       "  </tbody>\n",
       "</table>\n",
       "<p>126 rows × 2 columns</p>\n",
       "</div>"
      ],
      "text/plain": [
       "                                                  name start_date\n",
       "1              East Street Arts, A City Less Grey 2022 2022-10-08\n",
       "3                Phoenix Dance Theatre Virtual Gallery 2023-01-01\n",
       "4    The Big Art Giveaway, School of Creative Arts ... 2023-01-01\n",
       "5               Embassy of Netherlands, Meet Leeds Lab 2023-01-16\n",
       "6    Shifting Borders: A Journey to the Centre of o... 2023-01-24\n",
       "..                                                 ...        ...\n",
       "298                              afrah shafiq: st.itch 2023-11-16\n",
       "299  Leeds Language Week: Chinese Dance and Languag... 2023-11-19\n",
       "300                Leeds Language Week: Taste of China 2023-11-19\n",
       "302  Don't Go To Bed Just Yet: Live recording from ... 2023-11-21\n",
       "304                               Wellbeing Wednesdays 2023-11-22\n",
       "\n",
       "[126 rows x 2 columns]"
      ]
     },
     "execution_count": 9,
     "metadata": {},
     "output_type": "execute_result"
    }
   ],
   "source": [
    "data[data.postcode.isna()][[\n",
    "    'name', 'start_date'\n",
    "]]"
   ]
  },
  {
   "cell_type": "markdown",
   "id": "16fa87cc",
   "metadata": {
    "papermill": {
     "duration": 0.002472,
     "end_time": "2023-12-01T23:38:04.635229",
     "exception": false,
     "start_time": "2023-12-01T23:38:04.632757",
     "status": "completed"
    },
    "tags": []
   },
   "source": [
    "Plot the pricing"
   ]
  },
  {
   "cell_type": "code",
   "execution_count": 10,
   "id": "178ad61b",
   "metadata": {
    "execution": {
     "iopub.execute_input": "2023-12-01T23:38:04.641491Z",
     "iopub.status.busy": "2023-12-01T23:38:04.641008Z",
     "iopub.status.idle": "2023-12-01T23:38:05.382583Z",
     "shell.execute_reply": "2023-12-01T23:38:05.381820Z"
    },
    "papermill": {
     "duration": 0.746241,
     "end_time": "2023-12-01T23:38:05.383898",
     "exception": false,
     "start_time": "2023-12-01T23:38:04.637657",
     "status": "completed"
    },
    "tags": []
   },
   "outputs": [
    {
     "data": {
      "image/png": "[encoded data removed]",
      "text/plain": [
       "<Figure size 640x480 with 1 Axes>"
      ]
     },
     "metadata": {},
     "output_type": "display_data"
    }
   ],
   "source": [
    "# .groupby('pricing').count().plot.barh()\n",
    "pricing = data.pricing.fillna('Unspecified').str.replace('[\\[\\'\\]]', '', regex=True).to_frame().reset_index().groupby('pricing').count()\n",
    "\n",
    "pricing.columns = ['count']\n",
    "plot = pricing.plot.barh()\n"
   ]
  },
  {
   "cell_type": "code",
   "execution_count": null,
   "id": "f6904f96",
   "metadata": {
    "papermill": {
     "duration": 0.002786,
     "end_time": "2023-12-01T23:38:05.389816",
     "exception": false,
     "start_time": "2023-12-01T23:38:05.387030",
     "status": "completed"
    },
    "tags": []
   },
   "outputs": [],
   "source": []
  }
 ],
 "metadata": {
  "kernelspec": {
   "display_name": "leeds-2023-YZF5GfJv",
   "language": "python",
   "name": "python3"
  },
  "language_info": {
   "codemirror_mode": {
    "name": "ipython",
    "version": 3
   },
   "file_extension": ".py",
   "mimetype": "text/x-python",
   "name": "python",
   "nbconvert_exporter": "python",
   "pygments_lexer": "ipython3",
   "version": "3.10.13"
  },
  "papermill": {
   "default_parameters": {},
   "duration": 10.940009,
   "end_time": "2023-12-01T23:38:05.708570",
   "environment_variables": {},
   "exception": null,
   "input_path": "transform.ipynb",
   "output_path": "../../../working/output/partner-events-transform.ipynb",
   "parameters": {},
   "start_time": "2023-12-01T23:37:54.768561",
   "version": "2.4.0"
  }
 },
 "nbformat": 4,
 "nbformat_minor": 5
}