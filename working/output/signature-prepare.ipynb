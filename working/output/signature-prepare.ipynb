{
 "cells": [
  {
   "cell_type": "code",
   "execution_count": 1,
   "id": "99a72c40",
   "metadata": {
    "execution": {
     "iopub.execute_input": "2023-08-22T23:39:13.515431Z",
     "iopub.status.busy": "2023-08-22T23:39:13.514959Z",
     "iopub.status.idle": "2023-08-22T23:39:22.939661Z",
     "shell.execute_reply": "2023-08-22T23:39:22.938924Z"
    },
    "papermill": {
     "duration": 9.431113,
     "end_time": "2023-08-22T23:39:22.941612",
     "exception": false,
     "start_time": "2023-08-22T23:39:13.510499",
     "status": "completed"
    },
    "tags": []
   },
   "outputs": [],
   "source": [
    "import os\n",
    "import pandas as pd\n",
    "from events import load_event_data, get_first_ward, normalise_ward"
   ]
  },
  {
   "cell_type": "code",
   "execution_count": 2,
   "id": "f94491a3",
   "metadata": {
    "execution": {
     "iopub.execute_input": "2023-08-22T23:39:22.947626Z",
     "iopub.status.busy": "2023-08-22T23:39:22.947162Z",
     "iopub.status.idle": "2023-08-22T23:39:22.950935Z",
     "shell.execute_reply": "2023-08-22T23:39:22.950298Z"
    },
    "papermill": {
     "duration": 0.008645,
     "end_time": "2023-08-22T23:39:22.952648",
     "exception": false,
     "start_time": "2023-08-22T23:39:22.944003",
     "status": "completed"
    },
    "tags": []
   },
   "outputs": [],
   "source": [
    "latest_date = pd.Timestamp.today().ceil('D')"
   ]
  },
  {
   "cell_type": "code",
   "execution_count": 3,
   "id": "e72b7108",
   "metadata": {
    "execution": {
     "iopub.execute_input": "2023-08-22T23:39:22.957825Z",
     "iopub.status.busy": "2023-08-22T23:39:22.957312Z",
     "iopub.status.idle": "2023-08-22T23:39:22.973930Z",
     "shell.execute_reply": "2023-08-22T23:39:22.972756Z"
    },
    "papermill": {
     "duration": 0.020846,
     "end_time": "2023-08-22T23:39:22.975421",
     "exception": false,
     "start_time": "2023-08-22T23:39:22.954575",
     "status": "completed"
    },
    "tags": []
   },
   "outputs": [],
   "source": [
    "tickets = pd.read_csv('../../../../data/metrics/events/tickets/orders.csv', parse_dates=['created_at', 'event_date'])\n",
    "tickets = tickets[tickets.event_date <= latest_date]"
   ]
  },
  {
   "cell_type": "code",
   "execution_count": 4,
   "id": "7f47e89c",
   "metadata": {
    "execution": {
     "iopub.execute_input": "2023-08-22T23:39:22.980650Z",
     "iopub.status.busy": "2023-08-22T23:39:22.980117Z",
     "iopub.status.idle": "2023-08-22T23:39:23.154300Z",
     "shell.execute_reply": "2023-08-22T23:39:23.153589Z"
    },
    "papermill": {
     "duration": 0.178831,
     "end_time": "2023-08-22T23:39:23.156226",
     "exception": false,
     "start_time": "2023-08-22T23:39:22.977395",
     "status": "completed"
    },
    "tags": []
   },
   "outputs": [],
   "source": [
    "events = load_event_data()\n",
    "\n",
    "events = pd.concat([\n",
    "  events,\n",
    "  events.pipe(get_first_ward).pipe(normalise_ward).fillna('UNKNOWN'),\n",
    "  pd.Series(\n",
    "      events.actual_audience_size_number_of_participants_in_person + events.actual_audience_size_number_of_participants_online,\n",
    "      name='attendances'\n",
    "  )\n",
    "], axis=1).rename(columns={\n",
    "    'start_date': 'date'\n",
    "}).loc[:, ['ward_code', 'date', 'event_unique_identifier', 'attendances']]"
   ]
  },
  {
   "cell_type": "code",
   "execution_count": 5,
   "id": "8488d7bd",
   "metadata": {
    "execution": {
     "iopub.execute_input": "2023-08-22T23:39:23.161881Z",
     "iopub.status.busy": "2023-08-22T23:39:23.161640Z",
     "iopub.status.idle": "2023-08-22T23:39:23.165015Z",
     "shell.execute_reply": "2023-08-22T23:39:23.164378Z"
    },
    "papermill": {
     "duration": 0.008116,
     "end_time": "2023-08-22T23:39:23.166673",
     "exception": false,
     "start_time": "2023-08-22T23:39:23.158557",
     "status": "completed"
    },
    "tags": []
   },
   "outputs": [],
   "source": [
    "OUTPUT_DIR='../../../../docs/metrics/events/signature/_data/'\n",
    "os.makedirs(OUTPUT_DIR, exist_ok=True)"
   ]
  },
  {
   "cell_type": "markdown",
   "id": "af089826",
   "metadata": {
    "papermill": {
     "duration": 0.0021,
     "end_time": "2023-08-22T23:39:23.170840",
     "exception": false,
     "start_time": "2023-08-22T23:39:23.168740",
     "status": "completed"
    },
    "tags": []
   },
   "source": [
    "Events CSVs"
   ]
  },
  {
   "cell_type": "code",
   "execution_count": 6,
   "id": "828e5323",
   "metadata": {
    "execution": {
     "iopub.execute_input": "2023-08-22T23:39:23.176016Z",
     "iopub.status.busy": "2023-08-22T23:39:23.175801Z",
     "iopub.status.idle": "2023-08-22T23:39:23.182393Z",
     "shell.execute_reply": "2023-08-22T23:39:23.181409Z"
    },
    "papermill": {
     "duration": 0.010861,
     "end_time": "2023-08-22T23:39:23.183785",
     "exception": false,
     "start_time": "2023-08-22T23:39:23.172924",
     "status": "completed"
    },
    "tags": []
   },
   "outputs": [],
   "source": [
    "pd.DataFrame({\n",
    "  'events': events.groupby('ward_code').event_unique_identifier.count(),\n",
    "  'attendances': events.groupby('ward_code').attendances.sum().astype(int),\n",
    "}).to_csv(os.path.join(OUTPUT_DIR, 'events_by_ward.csv'))\n"
   ]
  },
  {
   "cell_type": "code",
   "execution_count": 7,
   "id": "db1fe0de",
   "metadata": {
    "execution": {
     "iopub.execute_input": "2023-08-22T23:39:23.189096Z",
     "iopub.status.busy": "2023-08-22T23:39:23.188753Z",
     "iopub.status.idle": "2023-08-22T23:39:23.198037Z",
     "shell.execute_reply": "2023-08-22T23:39:23.197526Z"
    },
    "papermill": {
     "duration": 0.01358,
     "end_time": "2023-08-22T23:39:23.199432",
     "exception": false,
     "start_time": "2023-08-22T23:39:23.185852",
     "status": "completed"
    },
    "tags": []
   },
   "outputs": [],
   "source": [
    "pd.DataFrame({\n",
    "  'events': events.groupby('date').event_unique_identifier.count(),\n",
    "  'attendances': events.groupby('date').attendances.sum().astype(int),\n",
    "}).resample('M').sum().astype(int).to_csv(os.path.join(OUTPUT_DIR, 'events_by_date.csv'))"
   ]
  },
  {
   "cell_type": "markdown",
   "id": "c0fa27de",
   "metadata": {
    "papermill": {
     "duration": 0.002152,
     "end_time": "2023-08-22T23:39:23.203656",
     "exception": false,
     "start_time": "2023-08-22T23:39:23.201504",
     "status": "completed"
    },
    "tags": []
   },
   "source": [
    "Tickets CSV"
   ]
  },
  {
   "cell_type": "code",
   "execution_count": 8,
   "id": "a128b5b0",
   "metadata": {
    "execution": {
     "iopub.execute_input": "2023-08-22T23:39:23.208995Z",
     "iopub.status.busy": "2023-08-22T23:39:23.208588Z",
     "iopub.status.idle": "2023-08-22T23:39:23.214968Z",
     "shell.execute_reply": "2023-08-22T23:39:23.214419Z"
    },
    "papermill": {
     "duration": 0.010605,
     "end_time": "2023-08-22T23:39:23.216366",
     "exception": false,
     "start_time": "2023-08-22T23:39:23.205761",
     "status": "completed"
    },
    "tags": []
   },
   "outputs": [],
   "source": [
    "pd.DataFrame({\n",
    "  'orders': tickets.groupby('ward_code').number_of_tickets.count(),\n",
    "  'tickets': tickets.groupby('ward_code').number_of_tickets.sum().astype(int),\n",
    "}).to_csv(os.path.join(OUTPUT_DIR, 'tickets_by_ward.csv'))"
   ]
  },
  {
   "cell_type": "code",
   "execution_count": 9,
   "id": "c97e8014",
   "metadata": {
    "execution": {
     "iopub.execute_input": "2023-08-22T23:39:23.221796Z",
     "iopub.status.busy": "2023-08-22T23:39:23.221394Z",
     "iopub.status.idle": "2023-08-22T23:39:23.229035Z",
     "shell.execute_reply": "2023-08-22T23:39:23.228474Z"
    },
    "papermill": {
     "duration": 0.011956,
     "end_time": "2023-08-22T23:39:23.230480",
     "exception": false,
     "start_time": "2023-08-22T23:39:23.218524",
     "status": "completed"
    },
    "tags": []
   },
   "outputs": [],
   "source": [
    "pd.DataFrame({\n",
    "  'orders': tickets.groupby('event_date').number_of_tickets.count(),\n",
    "  'tickets': tickets.groupby('event_date').number_of_tickets.sum().astype(int),\n",
    "}).resample('M').sum().to_csv(os.path.join(OUTPUT_DIR, 'tickets_by_event_date.csv'))"
   ]
  },
  {
   "cell_type": "code",
   "execution_count": 10,
   "id": "c1c7e54f",
   "metadata": {
    "execution": {
     "iopub.execute_input": "2023-08-22T23:39:23.236855Z",
     "iopub.status.busy": "2023-08-22T23:39:23.236453Z",
     "iopub.status.idle": "2023-08-22T23:39:23.241443Z",
     "shell.execute_reply": "2023-08-22T23:39:23.240820Z"
    },
    "papermill": {
     "duration": 0.010139,
     "end_time": "2023-08-22T23:39:23.242809",
     "exception": false,
     "start_time": "2023-08-22T23:39:23.232670",
     "status": "completed"
    },
    "tags": []
   },
   "outputs": [],
   "source": [
    "pd.Series({\n",
    "    'total_events': events.event_unique_identifier.count(),\n",
    "    'total_attendances': events.attendances.count(),\n",
    "    'first_event': events.date.min(),\n",
    "    'latest_event': events.date.max(),\n",
    "    'total_ticket_orders_for_events_to_date': tickets.number_of_tickets.count(),\n",
    "    'total_tickets_sold_for_events_to_date': tickets.number_of_tickets.sum(),\n",
    "}).to_json(os.path.join(OUTPUT_DIR, 'headlines.json'), indent=2)"
   ]
  },
  {
   "cell_type": "code",
   "execution_count": null,
   "id": "ca026a4e",
   "metadata": {
    "papermill": {
     "duration": 0.002166,
     "end_time": "2023-08-22T23:39:23.247199",
     "exception": false,
     "start_time": "2023-08-22T23:39:23.245033",
     "status": "completed"
    },
    "tags": []
   },
   "outputs": [],
   "source": []
  }
 ],
 "metadata": {
  "kernelspec": {
   "display_name": "leeds-2023-YZF5GfJv",
   "language": "python",
   "name": "python3"
  },
  "language_info": {
   "codemirror_mode": {
    "name": "ipython",
    "version": 3
   },
   "file_extension": ".py",
   "mimetype": "text/x-python",
   "name": "python",
   "nbconvert_exporter": "python",
   "pygments_lexer": "ipython3",
   "version": "3.10.12"
  },
  "papermill": {
   "default_parameters": {},
   "duration": 11.444025,
   "end_time": "2023-08-22T23:39:23.566069",
   "environment_variables": {},
   "exception": null,
   "input_path": "prepare.ipynb",
   "output_path": "../../../../working/output/signature-prepare.ipynb",
   "parameters": {},
   "start_time": "2023-08-22T23:39:12.122044",
   "version": "2.4.0"
  }
 },
 "nbformat": 4,
 "nbformat_minor": 5
}