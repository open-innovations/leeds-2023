{
 "cells": [
  {
   "cell_type": "code",
   "execution_count": 1,
   "id": "9bbd5ed6",
   "metadata": {
    "execution": {
     "iopub.execute_input": "2023-12-08T23:40:43.683818Z",
     "iopub.status.busy": "2023-12-08T23:40:43.683571Z",
     "iopub.status.idle": "2023-12-08T23:40:43.691007Z",
     "shell.execute_reply": "2023-12-08T23:40:43.690467Z"
    },
    "papermill": {
     "duration": 0.01206,
     "end_time": "2023-12-08T23:40:43.692244",
     "exception": false,
     "start_time": "2023-12-08T23:40:43.680184",
     "status": "completed"
    },
    "tags": []
   },
   "outputs": [],
   "source": [
    "import os\n",
    "import sys\n",
    "\n",
    "TOP_DIR=os.path.realpath(\"../../..\")\n",
    "if TOP_DIR not in sys.path: sys.path.append(TOP_DIR)"
   ]
  },
  {
   "cell_type": "code",
   "execution_count": 2,
   "id": "0cfde4b1",
   "metadata": {
    "execution": {
     "iopub.execute_input": "2023-12-08T23:40:43.697090Z",
     "iopub.status.busy": "2023-12-08T23:40:43.696704Z",
     "iopub.status.idle": "2023-12-08T23:40:50.944527Z",
     "shell.execute_reply": "2023-12-08T23:40:50.943809Z"
    },
    "papermill": {
     "duration": 7.25214,
     "end_time": "2023-12-08T23:40:50.946380",
     "exception": false,
     "start_time": "2023-12-08T23:40:43.694240",
     "status": "completed"
    },
    "tags": []
   },
   "outputs": [],
   "source": [
    "import pandas as pd\n",
    "import numpy as np\n",
    "from lib.util.convert import standardise_columns, literal_converter\n",
    "from lib.util.geo import normalise_leeds_wards, ward_name_to_code"
   ]
  },
  {
   "cell_type": "code",
   "execution_count": 3,
   "id": "533455b2",
   "metadata": {
    "execution": {
     "iopub.execute_input": "2023-12-08T23:40:50.951485Z",
     "iopub.status.busy": "2023-12-08T23:40:50.951107Z",
     "iopub.status.idle": "2023-12-08T23:40:50.966574Z",
     "shell.execute_reply": "2023-12-08T23:40:50.965913Z"
    },
    "papermill": {
     "duration": 0.01961,
     "end_time": "2023-12-08T23:40:50.968077",
     "exception": false,
     "start_time": "2023-12-08T23:40:50.948467",
     "status": "completed"
    },
    "tags": []
   },
   "outputs": [],
   "source": [
    "data = pd.read_csv('../../../working/metrics/community/events.csv', parse_dates=['Start date'])\n",
    "data = data.rename(columns=standardise_columns)"
   ]
  },
  {
   "cell_type": "code",
   "execution_count": 4,
   "id": "a23d69fc",
   "metadata": {
    "execution": {
     "iopub.execute_input": "2023-12-08T23:40:50.972774Z",
     "iopub.status.busy": "2023-12-08T23:40:50.972289Z",
     "iopub.status.idle": "2023-12-08T23:40:50.981048Z",
     "shell.execute_reply": "2023-12-08T23:40:50.980545Z"
    },
    "papermill": {
     "duration": 0.012497,
     "end_time": "2023-12-08T23:40:50.982378",
     "exception": false,
     "start_time": "2023-12-08T23:40:50.969881",
     "status": "completed"
    },
    "tags": []
   },
   "outputs": [],
   "source": [
    "wards = data['ward_(from_venue)'].fillna('[]').pipe(literal_converter).apply(np.unique)"
   ]
  },
  {
   "cell_type": "code",
   "execution_count": 5,
   "id": "86c3500b",
   "metadata": {
    "execution": {
     "iopub.execute_input": "2023-12-08T23:40:50.987145Z",
     "iopub.status.busy": "2023-12-08T23:40:50.986761Z",
     "iopub.status.idle": "2023-12-08T23:40:51.006367Z",
     "shell.execute_reply": "2023-12-08T23:40:51.005832Z"
    },
    "papermill": {
     "duration": 0.023497,
     "end_time": "2023-12-08T23:40:51.007712",
     "exception": false,
     "start_time": "2023-12-08T23:40:50.984215",
     "status": "completed"
    },
    "tags": []
   },
   "outputs": [],
   "source": [
    "data['ward_name'] = wards.apply(lambda x: x[0] if len(x) > 0 else np.nan).pipe(normalise_leeds_wards)\n",
    "data['ward_code'] = data.ward_name.pipe(ward_name_to_code)\n",
    "data['audience'] = data.actual_audience_size_number_of_participants_in_person\n",
    "cleaned_data = data.loc[:, ['event_name', 'project_name', 'start_date', 'ward_name', 'ward_code', 'audience']]"
   ]
  },
  {
   "cell_type": "code",
   "execution_count": 6,
   "id": "e5631f22",
   "metadata": {
    "execution": {
     "iopub.execute_input": "2023-12-08T23:40:51.012252Z",
     "iopub.status.busy": "2023-12-08T23:40:51.012064Z",
     "iopub.status.idle": "2023-12-08T23:40:51.018106Z",
     "shell.execute_reply": "2023-12-08T23:40:51.017583Z"
    },
    "papermill": {
     "duration": 0.009861,
     "end_time": "2023-12-08T23:40:51.019417",
     "exception": false,
     "start_time": "2023-12-08T23:40:51.009556",
     "status": "completed"
    },
    "tags": []
   },
   "outputs": [],
   "source": [
    "DATA_DIR='../../../data/metrics/community'\n",
    "os.makedirs(DATA_DIR, exist_ok=True)\n",
    "cleaned_data.to_csv(os.path.join(DATA_DIR, 'events.csv'), index=False)"
   ]
  },
  {
   "cell_type": "markdown",
   "id": "96a61c6b",
   "metadata": {
    "papermill": {
     "duration": 0.001825,
     "end_time": "2023-12-08T23:40:51.023064",
     "exception": false,
     "start_time": "2023-12-08T23:40:51.021239",
     "status": "completed"
    },
    "tags": []
   },
   "source": [
    "Missing or duplicated wards"
   ]
  },
  {
   "cell_type": "code",
   "execution_count": 7,
   "id": "c1013f0e",
   "metadata": {
    "execution": {
     "iopub.execute_input": "2023-12-08T23:40:51.027742Z",
     "iopub.status.busy": "2023-12-08T23:40:51.027376Z",
     "iopub.status.idle": "2023-12-08T23:40:51.039784Z",
     "shell.execute_reply": "2023-12-08T23:40:51.039116Z"
    },
    "papermill": {
     "duration": 0.016221,
     "end_time": "2023-12-08T23:40:51.041119",
     "exception": false,
     "start_time": "2023-12-08T23:40:51.024898",
     "status": "completed"
    },
    "tags": []
   },
   "outputs": [
    {
     "data": {
      "text/html": [
       "<div>\n",
       "<style scoped>\n",
       "    .dataframe tbody tr th:only-of-type {\n",
       "        vertical-align: middle;\n",
       "    }\n",
       "\n",
       "    .dataframe tbody tr th {\n",
       "        vertical-align: top;\n",
       "    }\n",
       "\n",
       "    .dataframe thead th {\n",
       "        text-align: right;\n",
       "    }\n",
       "</style>\n",
       "<table border=\"1\" class=\"dataframe\">\n",
       "  <thead>\n",
       "    <tr style=\"text-align: right;\">\n",
       "      <th></th>\n",
       "      <th>project_name</th>\n",
       "      <th>event_name</th>\n",
       "      <th>start_date</th>\n",
       "      <th>ward_(from_venue)</th>\n",
       "    </tr>\n",
       "  </thead>\n",
       "  <tbody>\n",
       "    <tr>\n",
       "      <th>25</th>\n",
       "      <td>01 - The Awakening</td>\n",
       "      <td>Be More and Swarthmore Pack</td>\n",
       "      <td>2023-02-07</td>\n",
       "      <td>NaN</td>\n",
       "    </tr>\n",
       "    <tr>\n",
       "      <th>55</th>\n",
       "      <td>01 - The Awakening</td>\n",
       "      <td>Creation Station - Leeds City Council</td>\n",
       "      <td>2022-11-23</td>\n",
       "      <td>NaN</td>\n",
       "    </tr>\n",
       "    <tr>\n",
       "      <th>56</th>\n",
       "      <td>01 - The Awakening</td>\n",
       "      <td>Creation Station - Leeds City Council</td>\n",
       "      <td>2022-11-24</td>\n",
       "      <td>NaN</td>\n",
       "    </tr>\n",
       "    <tr>\n",
       "      <th>70</th>\n",
       "      <td>01 - The Awakening</td>\n",
       "      <td>Creation Station - Yorkshire Schools Dance Fes...</td>\n",
       "      <td>2022-11-19</td>\n",
       "      <td>NaN</td>\n",
       "    </tr>\n",
       "    <tr>\n",
       "      <th>72</th>\n",
       "      <td>01 - The Awakening</td>\n",
       "      <td>Creation Station: Ballot Engagement</td>\n",
       "      <td>NaT</td>\n",
       "      <td>NaN</td>\n",
       "    </tr>\n",
       "    <tr>\n",
       "      <th>...</th>\n",
       "      <td>...</td>\n",
       "      <td>...</td>\n",
       "      <td>...</td>\n",
       "      <td>...</td>\n",
       "    </tr>\n",
       "    <tr>\n",
       "      <th>289</th>\n",
       "      <td>Hidden Stories</td>\n",
       "      <td>Edible Archives: Eating The Corn Exchange Slot 2</td>\n",
       "      <td>2023-10-29</td>\n",
       "      <td>NaN</td>\n",
       "    </tr>\n",
       "    <tr>\n",
       "      <th>290</th>\n",
       "      <td>Hidden Stories</td>\n",
       "      <td>Harewood House - Aberford Community Cafe</td>\n",
       "      <td>2023-04-28</td>\n",
       "      <td>NaN</td>\n",
       "    </tr>\n",
       "    <tr>\n",
       "      <th>298</th>\n",
       "      <td>Hidden Stories</td>\n",
       "      <td>Lens Lab Exhibition</td>\n",
       "      <td>2023-09-16</td>\n",
       "      <td>NaN</td>\n",
       "    </tr>\n",
       "    <tr>\n",
       "      <th>304</th>\n",
       "      <td>Hidden Stories</td>\n",
       "      <td>Royal Armouries Exhibition</td>\n",
       "      <td>2023-09-07</td>\n",
       "      <td>NaN</td>\n",
       "    </tr>\n",
       "    <tr>\n",
       "      <th>308</th>\n",
       "      <td>Hidden Stories</td>\n",
       "      <td>TBC British Library Collaboration</td>\n",
       "      <td>NaT</td>\n",
       "      <td>NaN</td>\n",
       "    </tr>\n",
       "  </tbody>\n",
       "</table>\n",
       "<p>81 rows × 4 columns</p>\n",
       "</div>"
      ],
      "text/plain": [
       "           project_name                                         event_name  \\\n",
       "25   01 - The Awakening                        Be More and Swarthmore Pack   \n",
       "55   01 - The Awakening             Creation Station - Leeds City Council    \n",
       "56   01 - The Awakening             Creation Station - Leeds City Council    \n",
       "70   01 - The Awakening  Creation Station - Yorkshire Schools Dance Fes...   \n",
       "72   01 - The Awakening               Creation Station: Ballot Engagement    \n",
       "..                  ...                                                ...   \n",
       "289      Hidden Stories   Edible Archives: Eating The Corn Exchange Slot 2   \n",
       "290      Hidden Stories           Harewood House - Aberford Community Cafe   \n",
       "298      Hidden Stories                                Lens Lab Exhibition   \n",
       "304      Hidden Stories                         Royal Armouries Exhibition   \n",
       "308      Hidden Stories                  TBC British Library Collaboration   \n",
       "\n",
       "    start_date ward_(from_venue)  \n",
       "25  2023-02-07               NaN  \n",
       "55  2022-11-23               NaN  \n",
       "56  2022-11-24               NaN  \n",
       "70  2022-11-19               NaN  \n",
       "72         NaT               NaN  \n",
       "..         ...               ...  \n",
       "289 2023-10-29               NaN  \n",
       "290 2023-04-28               NaN  \n",
       "298 2023-09-16               NaN  \n",
       "304 2023-09-07               NaN  \n",
       "308        NaT               NaN  \n",
       "\n",
       "[81 rows x 4 columns]"
      ]
     },
     "execution_count": 7,
     "metadata": {},
     "output_type": "execute_result"
    }
   ],
   "source": [
    "data.loc[wards.apply(len) != 1, ['project_name', 'event_name', 'start_date', 'ward_(from_venue)']]"
   ]
  },
  {
   "cell_type": "markdown",
   "id": "02b98ada",
   "metadata": {
    "papermill": {
     "duration": 0.002042,
     "end_time": "2023-12-08T23:40:51.045998",
     "exception": false,
     "start_time": "2023-12-08T23:40:51.043956",
     "status": "completed"
    },
    "tags": []
   },
   "source": [
    "Missing audience"
   ]
  },
  {
   "cell_type": "code",
   "execution_count": 8,
   "id": "b6758660",
   "metadata": {
    "execution": {
     "iopub.execute_input": "2023-12-08T23:40:51.051327Z",
     "iopub.status.busy": "2023-12-08T23:40:51.050843Z",
     "iopub.status.idle": "2023-12-08T23:40:51.060693Z",
     "shell.execute_reply": "2023-12-08T23:40:51.060049Z"
    },
    "papermill": {
     "duration": 0.013932,
     "end_time": "2023-12-08T23:40:51.062004",
     "exception": false,
     "start_time": "2023-12-08T23:40:51.048072",
     "status": "completed"
    },
    "tags": []
   },
   "outputs": [
    {
     "data": {
      "text/html": [
       "<div>\n",
       "<style scoped>\n",
       "    .dataframe tbody tr th:only-of-type {\n",
       "        vertical-align: middle;\n",
       "    }\n",
       "\n",
       "    .dataframe tbody tr th {\n",
       "        vertical-align: top;\n",
       "    }\n",
       "\n",
       "    .dataframe thead th {\n",
       "        text-align: right;\n",
       "    }\n",
       "</style>\n",
       "<table border=\"1\" class=\"dataframe\">\n",
       "  <thead>\n",
       "    <tr style=\"text-align: right;\">\n",
       "      <th></th>\n",
       "      <th>project_name</th>\n",
       "      <th>event_name</th>\n",
       "      <th>start_date</th>\n",
       "      <th>audience</th>\n",
       "    </tr>\n",
       "  </thead>\n",
       "  <tbody>\n",
       "    <tr>\n",
       "      <th>2</th>\n",
       "      <td>01 - The Awakening</td>\n",
       "      <td>Ballot Facilitated Session - Carr Manor Commun...</td>\n",
       "      <td>2022-11-01</td>\n",
       "      <td>NaN</td>\n",
       "    </tr>\n",
       "    <tr>\n",
       "      <th>3</th>\n",
       "      <td>01 - The Awakening</td>\n",
       "      <td>Ballot Facilitated Session - Chapel Allerton P...</td>\n",
       "      <td>2022-11-07</td>\n",
       "      <td>NaN</td>\n",
       "    </tr>\n",
       "    <tr>\n",
       "      <th>4</th>\n",
       "      <td>01 - The Awakening</td>\n",
       "      <td>Ballot Facilitated Session - Cobden Primary Sc...</td>\n",
       "      <td>2022-11-09</td>\n",
       "      <td>NaN</td>\n",
       "    </tr>\n",
       "    <tr>\n",
       "      <th>5</th>\n",
       "      <td>01 - The Awakening</td>\n",
       "      <td>Ballot Facilitated Session - Cobden Primary Sc...</td>\n",
       "      <td>2022-11-10</td>\n",
       "      <td>NaN</td>\n",
       "    </tr>\n",
       "    <tr>\n",
       "      <th>6</th>\n",
       "      <td>01 - The Awakening</td>\n",
       "      <td>Ballot Facilitated Session - Cobden Primary Sc...</td>\n",
       "      <td>2022-11-18</td>\n",
       "      <td>NaN</td>\n",
       "    </tr>\n",
       "    <tr>\n",
       "      <th>...</th>\n",
       "      <td>...</td>\n",
       "      <td>...</td>\n",
       "      <td>...</td>\n",
       "      <td>...</td>\n",
       "    </tr>\n",
       "    <tr>\n",
       "      <th>311</th>\n",
       "      <td>Hidden Stories</td>\n",
       "      <td>Try Your Hand at Ceramic Sculpture</td>\n",
       "      <td>2023-09-10</td>\n",
       "      <td>NaN</td>\n",
       "    </tr>\n",
       "    <tr>\n",
       "      <th>312</th>\n",
       "      <td>Hidden Stories</td>\n",
       "      <td>Try Your Hand at Ceramic Sculpture</td>\n",
       "      <td>2023-09-16</td>\n",
       "      <td>NaN</td>\n",
       "    </tr>\n",
       "    <tr>\n",
       "      <th>313</th>\n",
       "      <td>Hidden Stories</td>\n",
       "      <td>Try Your Hand at Stone Carving</td>\n",
       "      <td>2023-09-09</td>\n",
       "      <td>NaN</td>\n",
       "    </tr>\n",
       "    <tr>\n",
       "      <th>314</th>\n",
       "      <td>Hidden Stories</td>\n",
       "      <td>Try Your Hand at Stone Carving</td>\n",
       "      <td>2023-09-10</td>\n",
       "      <td>NaN</td>\n",
       "    </tr>\n",
       "    <tr>\n",
       "      <th>315</th>\n",
       "      <td>Hidden Stories</td>\n",
       "      <td>Try Your Hand at Stone Carving</td>\n",
       "      <td>2023-09-16</td>\n",
       "      <td>NaN</td>\n",
       "    </tr>\n",
       "  </tbody>\n",
       "</table>\n",
       "<p>185 rows × 4 columns</p>\n",
       "</div>"
      ],
      "text/plain": [
       "           project_name                                         event_name  \\\n",
       "2    01 - The Awakening  Ballot Facilitated Session - Carr Manor Commun...   \n",
       "3    01 - The Awakening  Ballot Facilitated Session - Chapel Allerton P...   \n",
       "4    01 - The Awakening  Ballot Facilitated Session - Cobden Primary Sc...   \n",
       "5    01 - The Awakening  Ballot Facilitated Session - Cobden Primary Sc...   \n",
       "6    01 - The Awakening  Ballot Facilitated Session - Cobden Primary Sc...   \n",
       "..                  ...                                                ...   \n",
       "311      Hidden Stories                 Try Your Hand at Ceramic Sculpture   \n",
       "312      Hidden Stories                 Try Your Hand at Ceramic Sculpture   \n",
       "313      Hidden Stories                     Try Your Hand at Stone Carving   \n",
       "314      Hidden Stories                     Try Your Hand at Stone Carving   \n",
       "315      Hidden Stories                     Try Your Hand at Stone Carving   \n",
       "\n",
       "    start_date  audience  \n",
       "2   2022-11-01       NaN  \n",
       "3   2022-11-07       NaN  \n",
       "4   2022-11-09       NaN  \n",
       "5   2022-11-10       NaN  \n",
       "6   2022-11-18       NaN  \n",
       "..         ...       ...  \n",
       "311 2023-09-10       NaN  \n",
       "312 2023-09-16       NaN  \n",
       "313 2023-09-09       NaN  \n",
       "314 2023-09-10       NaN  \n",
       "315 2023-09-16       NaN  \n",
       "\n",
       "[185 rows x 4 columns]"
      ]
     },
     "execution_count": 8,
     "metadata": {},
     "output_type": "execute_result"
    }
   ],
   "source": [
    "data.loc[data.audience.isna(), ['project_name', 'event_name', 'start_date', 'audience']]"
   ]
  },
  {
   "cell_type": "code",
   "execution_count": null,
   "id": "10dfa07a",
   "metadata": {
    "papermill": {
     "duration": 0.002345,
     "end_time": "2023-12-08T23:40:51.066841",
     "exception": false,
     "start_time": "2023-12-08T23:40:51.064496",
     "status": "completed"
    },
    "tags": []
   },
   "outputs": [],
   "source": []
  },
  {
   "cell_type": "code",
   "execution_count": null,
   "id": "020538a2",
   "metadata": {
    "papermill": {
     "duration": 0.002301,
     "end_time": "2023-12-08T23:40:51.071469",
     "exception": false,
     "start_time": "2023-12-08T23:40:51.069168",
     "status": "completed"
    },
    "tags": []
   },
   "outputs": [],
   "source": []
  }
 ],
 "metadata": {
  "kernelspec": {
   "display_name": "leeds-2023-YZF5GfJv",
   "language": "python",
   "name": "python3"
  },
  "language_info": {
   "codemirror_mode": {
    "name": "ipython",
    "version": 3
   },
   "file_extension": ".py",
   "mimetype": "text/x-python",
   "name": "python",
   "nbconvert_exporter": "python",
   "pygments_lexer": "ipython3",
   "version": "3.10.13"
  },
  "papermill": {
   "default_parameters": {},
   "duration": 8.848028,
   "end_time": "2023-12-08T23:40:51.290164",
   "environment_variables": {},
   "exception": null,
   "input_path": "transform.ipynb",
   "output_path": "../../../working/output/community-transform.ipynb",
   "parameters": {},
   "start_time": "2023-12-08T23:40:42.442136",
   "version": "2.4.0"
  }
 },
 "nbformat": 4,
 "nbformat_minor": 5
}