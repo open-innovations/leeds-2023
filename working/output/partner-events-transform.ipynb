{
 "cells": [
  {
   "cell_type": "code",
   "execution_count": 1,
   "id": "67bf9560",
   "metadata": {
    "execution": {
     "iopub.execute_input": "2023-09-27T23:37:27.804753Z",
     "iopub.status.busy": "2023-09-27T23:37:27.803984Z",
     "iopub.status.idle": "2023-09-27T23:37:28.053912Z",
     "shell.execute_reply": "2023-09-27T23:37:28.052915Z"
    },
    "papermill": {
     "duration": 0.256272,
     "end_time": "2023-09-27T23:37:28.055766",
     "exception": false,
     "start_time": "2023-09-27T23:37:27.799494",
     "status": "completed"
    },
    "tags": []
   },
   "outputs": [],
   "source": [
    "import os\n",
    "import sys\n",
    "import pandas as pd\n",
    "lib_dir = os.path.realpath('../../../lib/')\n",
    "if lib_dir not in sys.path: sys.path.append(lib_dir)"
   ]
  },
  {
   "cell_type": "code",
   "execution_count": 2,
   "id": "93bc0d45",
   "metadata": {
    "execution": {
     "iopub.execute_input": "2023-09-27T23:37:28.062588Z",
     "iopub.status.busy": "2023-09-27T23:37:28.062291Z",
     "iopub.status.idle": "2023-09-27T23:37:37.448787Z",
     "shell.execute_reply": "2023-09-27T23:37:37.448124Z"
    },
    "papermill": {
     "duration": 9.392214,
     "end_time": "2023-09-27T23:37:37.450910",
     "exception": false,
     "start_time": "2023-09-27T23:37:28.058696",
     "status": "completed"
    },
    "tags": []
   },
   "outputs": [],
   "source": [
    "import util.geo"
   ]
  },
  {
   "cell_type": "code",
   "execution_count": 3,
   "id": "d50b576e",
   "metadata": {
    "execution": {
     "iopub.execute_input": "2023-09-27T23:37:37.457928Z",
     "iopub.status.busy": "2023-09-27T23:37:37.457279Z",
     "iopub.status.idle": "2023-09-27T23:37:37.461415Z",
     "shell.execute_reply": "2023-09-27T23:37:37.460850Z"
    },
    "papermill": {
     "duration": 0.009145,
     "end_time": "2023-09-27T23:37:37.462969",
     "exception": false,
     "start_time": "2023-09-27T23:37:37.453824",
     "status": "completed"
    },
    "tags": []
   },
   "outputs": [],
   "source": [
    "EVENTS_RAW_DATA = '../../../working/metrics/partner-events/events.csv'\n",
    "DATA_DIR = '../../../data/metrics/events/partner-events/'\n",
    "EVENTS_DATA = os.path.join(DATA_DIR, 'events.csv')"
   ]
  },
  {
   "cell_type": "code",
   "execution_count": 4,
   "id": "7f491526",
   "metadata": {
    "execution": {
     "iopub.execute_input": "2023-09-27T23:37:37.469276Z",
     "iopub.status.busy": "2023-09-27T23:37:37.468870Z",
     "iopub.status.idle": "2023-09-27T23:37:37.472436Z",
     "shell.execute_reply": "2023-09-27T23:37:37.471821Z"
    },
    "papermill": {
     "duration": 0.008596,
     "end_time": "2023-09-27T23:37:37.474147",
     "exception": false,
     "start_time": "2023-09-27T23:37:37.465551",
     "status": "completed"
    },
    "tags": []
   },
   "outputs": [],
   "source": [
    "columns = {\n",
    "    'Event Name': 'name',\n",
    "    'Event Start Date': 'start_date',\n",
    "    'Event End Date': 'end_date',\n",
    "    'Partner/Promote': 'partner_promote',\n",
    "    'Stage': 'stage',\n",
    "    'Live date': 'live_date',\n",
    "    'Venue postcode': 'postcode',\n",
    "    'Pricing Policy': 'pricing',\n",
    "    'Venue - including address': 'venue',\n",
    "    'Is this event on Leeds Inspried?': 'on_leeds_inspired',\n",
    "}"
   ]
  },
  {
   "cell_type": "markdown",
   "id": "5e585362",
   "metadata": {
    "papermill": {
     "duration": 0.002599,
     "end_time": "2023-09-27T23:37:37.479379",
     "exception": false,
     "start_time": "2023-09-27T23:37:37.476780",
     "status": "completed"
    },
    "tags": []
   },
   "source": [
    "Load the data and rename columns. Parse the dates to dates."
   ]
  },
  {
   "cell_type": "code",
   "execution_count": 5,
   "id": "ac0094c7",
   "metadata": {
    "execution": {
     "iopub.execute_input": "2023-09-27T23:37:37.485430Z",
     "iopub.status.busy": "2023-09-27T23:37:37.485221Z",
     "iopub.status.idle": "2023-09-27T23:37:37.496490Z",
     "shell.execute_reply": "2023-09-27T23:37:37.495914Z"
    },
    "papermill": {
     "duration": 0.016088,
     "end_time": "2023-09-27T23:37:37.498009",
     "exception": false,
     "start_time": "2023-09-27T23:37:37.481921",
     "status": "completed"
    },
    "tags": []
   },
   "outputs": [],
   "source": [
    "data = pd.read_csv(EVENTS_RAW_DATA)[columns.keys()].rename(columns=columns)\n",
    "data.start_date = pd.to_datetime(data.start_date, errors='coerce')\n",
    "data.end_date = pd.to_datetime(data.end_date, errors='coerce')"
   ]
  },
  {
   "cell_type": "markdown",
   "id": "af97dc43",
   "metadata": {
    "papermill": {
     "duration": 0.00261,
     "end_time": "2023-09-27T23:37:37.503305",
     "exception": false,
     "start_time": "2023-09-27T23:37:37.500695",
     "status": "completed"
    },
    "tags": []
   },
   "source": [
    "Filter data by not LI Pull through and start date before now"
   ]
  },
  {
   "cell_type": "code",
   "execution_count": 6,
   "id": "ea443f78",
   "metadata": {
    "execution": {
     "iopub.execute_input": "2023-09-27T23:37:37.510190Z",
     "iopub.status.busy": "2023-09-27T23:37:37.509594Z",
     "iopub.status.idle": "2023-09-27T23:37:37.514747Z",
     "shell.execute_reply": "2023-09-27T23:37:37.514206Z"
    },
    "papermill": {
     "duration": 0.010255,
     "end_time": "2023-09-27T23:37:37.516247",
     "exception": false,
     "start_time": "2023-09-27T23:37:37.505992",
     "status": "completed"
    },
    "tags": []
   },
   "outputs": [],
   "source": [
    "data = data[\n",
    "    # (data.live_date == 'This event is live ') &\n",
    "    ((data.stage != 'LI pull through') & data.stage.notna()) &\n",
    "    (data.start_date < pd.Timestamp.now())\n",
    "]"
   ]
  },
  {
   "cell_type": "code",
   "execution_count": 7,
   "id": "1a5c62e1",
   "metadata": {
    "execution": {
     "iopub.execute_input": "2023-09-27T23:37:37.523234Z",
     "iopub.status.busy": "2023-09-27T23:37:37.522606Z",
     "iopub.status.idle": "2023-09-27T23:37:38.466603Z",
     "shell.execute_reply": "2023-09-27T23:37:38.465958Z"
    },
    "papermill": {
     "duration": 0.949481,
     "end_time": "2023-09-27T23:37:38.468551",
     "exception": false,
     "start_time": "2023-09-27T23:37:37.519070",
     "status": "completed"
    },
    "tags": []
   },
   "outputs": [],
   "source": [
    "data['ward_code'] = data.postcode.pipe(util.geo.postcode_formatter).map(util.geo.postcode_to_ward_code)\n",
    "data['ward_name'] = data.ward_code.pipe(util.geo.ward_code_to_name)"
   ]
  },
  {
   "cell_type": "markdown",
   "id": "76b11482",
   "metadata": {
    "papermill": {
     "duration": 0.003896,
     "end_time": "2023-09-27T23:37:38.475474",
     "exception": false,
     "start_time": "2023-09-27T23:37:38.471578",
     "status": "completed"
    },
    "tags": []
   },
   "source": [
    "Save the file"
   ]
  },
  {
   "cell_type": "code",
   "execution_count": 8,
   "id": "7a548fbf",
   "metadata": {
    "execution": {
     "iopub.execute_input": "2023-09-27T23:37:38.482369Z",
     "iopub.status.busy": "2023-09-27T23:37:38.481868Z",
     "iopub.status.idle": "2023-09-27T23:37:38.489839Z",
     "shell.execute_reply": "2023-09-27T23:37:38.489203Z"
    },
    "papermill": {
     "duration": 0.013332,
     "end_time": "2023-09-27T23:37:38.491573",
     "exception": false,
     "start_time": "2023-09-27T23:37:38.478241",
     "status": "completed"
    },
    "tags": []
   },
   "outputs": [],
   "source": [
    "data[\n",
    "    ['name','start_date','end_date','ward_code']\n",
    "].to_csv(EVENTS_DATA, index=False)"
   ]
  },
  {
   "cell_type": "markdown",
   "id": "56a3d70a",
   "metadata": {
    "papermill": {
     "duration": 0.002843,
     "end_time": "2023-09-27T23:37:38.497342",
     "exception": false,
     "start_time": "2023-09-27T23:37:38.494499",
     "status": "completed"
    },
    "tags": []
   },
   "source": [
    "Print out missing postcode data"
   ]
  },
  {
   "cell_type": "code",
   "execution_count": 9,
   "id": "5c4cee30",
   "metadata": {
    "execution": {
     "iopub.execute_input": "2023-09-27T23:37:38.504622Z",
     "iopub.status.busy": "2023-09-27T23:37:38.503973Z",
     "iopub.status.idle": "2023-09-27T23:37:38.518282Z",
     "shell.execute_reply": "2023-09-27T23:37:38.517640Z"
    },
    "papermill": {
     "duration": 0.019675,
     "end_time": "2023-09-27T23:37:38.519939",
     "exception": false,
     "start_time": "2023-09-27T23:37:38.500264",
     "status": "completed"
    },
    "tags": []
   },
   "outputs": [
    {
     "data": {
      "text/html": [
       "<div>\n",
       "<style scoped>\n",
       "    .dataframe tbody tr th:only-of-type {\n",
       "        vertical-align: middle;\n",
       "    }\n",
       "\n",
       "    .dataframe tbody tr th {\n",
       "        vertical-align: top;\n",
       "    }\n",
       "\n",
       "    .dataframe thead th {\n",
       "        text-align: right;\n",
       "    }\n",
       "</style>\n",
       "<table border=\"1\" class=\"dataframe\">\n",
       "  <thead>\n",
       "    <tr style=\"text-align: right;\">\n",
       "      <th></th>\n",
       "      <th>name</th>\n",
       "      <th>start_date</th>\n",
       "    </tr>\n",
       "  </thead>\n",
       "  <tbody>\n",
       "    <tr>\n",
       "      <th>1</th>\n",
       "      <td>East Street Arts, A City Less Grey 2022</td>\n",
       "      <td>2022-10-08</td>\n",
       "    </tr>\n",
       "    <tr>\n",
       "      <th>3</th>\n",
       "      <td>Phoenix Dance Theatre Virtual Gallery</td>\n",
       "      <td>2023-01-01</td>\n",
       "    </tr>\n",
       "    <tr>\n",
       "      <th>4</th>\n",
       "      <td>The Big Art Giveaway, School of Creative Arts ...</td>\n",
       "      <td>2023-01-01</td>\n",
       "    </tr>\n",
       "    <tr>\n",
       "      <th>5</th>\n",
       "      <td>Embassy of Netherlands, Meet Leeds Lab</td>\n",
       "      <td>2023-01-16</td>\n",
       "    </tr>\n",
       "    <tr>\n",
       "      <th>6</th>\n",
       "      <td>Shifting Borders: A Journey to the Centre of o...</td>\n",
       "      <td>2023-01-24</td>\n",
       "    </tr>\n",
       "    <tr>\n",
       "      <th>...</th>\n",
       "      <td>...</td>\n",
       "      <td>...</td>\n",
       "    </tr>\n",
       "    <tr>\n",
       "      <th>184</th>\n",
       "      <td>Leeds Language Week: MODERN FOREIGN LANGUAGES ...</td>\n",
       "      <td>2023-09-11</td>\n",
       "    </tr>\n",
       "    <tr>\n",
       "      <th>186</th>\n",
       "      <td>The Ida Network: Leeds meet-up</td>\n",
       "      <td>2023-09-11</td>\n",
       "    </tr>\n",
       "    <tr>\n",
       "      <th>191</th>\n",
       "      <td>Civic Skateboarding</td>\n",
       "      <td>2023-09-16</td>\n",
       "    </tr>\n",
       "    <tr>\n",
       "      <th>195</th>\n",
       "      <td>Jazz at HEART: Sam Newbould Quintet (UK tour)</td>\n",
       "      <td>2023-09-20</td>\n",
       "    </tr>\n",
       "    <tr>\n",
       "      <th>196</th>\n",
       "      <td>On Wednesdays We Wear Queer: Drag Night Extrav...</td>\n",
       "      <td>2023-09-20</td>\n",
       "    </tr>\n",
       "  </tbody>\n",
       "</table>\n",
       "<p>62 rows × 2 columns</p>\n",
       "</div>"
      ],
      "text/plain": [
       "                                                  name start_date\n",
       "1              East Street Arts, A City Less Grey 2022 2022-10-08\n",
       "3                Phoenix Dance Theatre Virtual Gallery 2023-01-01\n",
       "4    The Big Art Giveaway, School of Creative Arts ... 2023-01-01\n",
       "5               Embassy of Netherlands, Meet Leeds Lab 2023-01-16\n",
       "6    Shifting Borders: A Journey to the Centre of o... 2023-01-24\n",
       "..                                                 ...        ...\n",
       "184  Leeds Language Week: MODERN FOREIGN LANGUAGES ... 2023-09-11\n",
       "186                     The Ida Network: Leeds meet-up 2023-09-11\n",
       "191                                Civic Skateboarding 2023-09-16\n",
       "195      Jazz at HEART: Sam Newbould Quintet (UK tour) 2023-09-20\n",
       "196  On Wednesdays We Wear Queer: Drag Night Extrav... 2023-09-20\n",
       "\n",
       "[62 rows x 2 columns]"
      ]
     },
     "execution_count": 9,
     "metadata": {},
     "output_type": "execute_result"
    }
   ],
   "source": [
    "data[data.postcode.isna()][[\n",
    "    'name', 'start_date'\n",
    "]]"
   ]
  },
  {
   "cell_type": "markdown",
   "id": "79d2b619",
   "metadata": {
    "papermill": {
     "duration": 0.002989,
     "end_time": "2023-09-27T23:37:38.526056",
     "exception": false,
     "start_time": "2023-09-27T23:37:38.523067",
     "status": "completed"
    },
    "tags": []
   },
   "source": [
    "Plot the pricing"
   ]
  },
  {
   "cell_type": "code",
   "execution_count": 10,
   "id": "165a63d6",
   "metadata": {
    "execution": {
     "iopub.execute_input": "2023-09-27T23:37:38.533187Z",
     "iopub.status.busy": "2023-09-27T23:37:38.532969Z",
     "iopub.status.idle": "2023-09-27T23:37:39.037643Z",
     "shell.execute_reply": "2023-09-27T23:37:39.037097Z"
    },
    "papermill": {
     "duration": 0.509989,
     "end_time": "2023-09-27T23:37:39.039164",
     "exception": false,
     "start_time": "2023-09-27T23:37:38.529175",
     "status": "completed"
    },
    "tags": []
   },
   "outputs": [
    {
     "data": {
      "image/png": "[encoded data removed]",
      "text/plain": [
       "<Figure size 640x480 with 1 Axes>"
      ]
     },
     "metadata": {},
     "output_type": "display_data"
    }
   ],
   "source": [
    "# .groupby('pricing').count().plot.barh()\n",
    "pricing = data.pricing.fillna('Unspecified').str.replace('[\\[\\'\\]]', '', regex=True).to_frame().reset_index().groupby('pricing').count()\n",
    "\n",
    "pricing.columns = ['count']\n",
    "plot = pricing.plot.barh()\n"
   ]
  },
  {
   "cell_type": "code",
   "execution_count": null,
   "id": "a30aa90c",
   "metadata": {
    "papermill": {
     "duration": 0.00365,
     "end_time": "2023-09-27T23:37:39.046484",
     "exception": false,
     "start_time": "2023-09-27T23:37:39.042834",
     "status": "completed"
    },
    "tags": []
   },
   "outputs": [],
   "source": []
  }
 ],
 "metadata": {
  "kernelspec": {
   "display_name": "leeds-2023-YZF5GfJv",
   "language": "python",
   "name": "python3"
  },
  "language_info": {
   "codemirror_mode": {
    "name": "ipython",
    "version": 3
   },
   "file_extension": ".py",
   "mimetype": "text/x-python",
   "name": "python",
   "nbconvert_exporter": "python",
   "pygments_lexer": "ipython3",
   "version": "3.10.13"
  },
  "papermill": {
   "default_parameters": {},
   "duration": 12.927218,
   "end_time": "2023-09-27T23:37:39.367851",
   "environment_variables": {},
   "exception": null,
   "input_path": "transform.ipynb",
   "output_path": "../../../working/output/partner-events-transform.ipynb",
   "parameters": {},
   "start_time": "2023-09-27T23:37:26.440633",
   "version": "2.4.0"
  }
 },
 "nbformat": 4,
 "nbformat_minor": 5
}