{
 "cells": [
  {
   "cell_type": "code",
   "execution_count": 1,
   "id": "9d9fe348",
   "metadata": {
    "execution": {
     "iopub.execute_input": "2023-09-28T23:40:48.303946Z",
     "iopub.status.busy": "2023-09-28T23:40:48.303166Z",
     "iopub.status.idle": "2023-09-28T23:40:48.604170Z",
     "shell.execute_reply": "2023-09-28T23:40:48.603346Z"
    },
    "papermill": {
     "duration": 0.307673,
     "end_time": "2023-09-28T23:40:48.606475",
     "exception": false,
     "start_time": "2023-09-28T23:40:48.298802",
     "status": "completed"
    },
    "tags": []
   },
   "outputs": [],
   "source": [
    "import os, sys\n",
    "TOP_DIR = os.path.realpath('../../..')\n",
    "if TOP_DIR not in sys.path: sys.path.append(TOP_DIR)\n",
    "import pandas as pd"
   ]
  },
  {
   "cell_type": "code",
   "execution_count": 2,
   "id": "c171f829",
   "metadata": {
    "execution": {
     "iopub.execute_input": "2023-09-28T23:40:48.613249Z",
     "iopub.status.busy": "2023-09-28T23:40:48.612490Z",
     "iopub.status.idle": "2023-09-28T23:40:48.617358Z",
     "shell.execute_reply": "2023-09-28T23:40:48.616675Z"
    },
    "papermill": {
     "duration": 0.009707,
     "end_time": "2023-09-28T23:40:48.619016",
     "exception": false,
     "start_time": "2023-09-28T23:40:48.609309",
     "status": "completed"
    },
    "tags": []
   },
   "outputs": [],
   "source": [
    "from lib.util.convert import named_cumulative_sum"
   ]
  },
  {
   "cell_type": "code",
   "execution_count": 3,
   "id": "77669e46",
   "metadata": {
    "execution": {
     "iopub.execute_input": "2023-09-28T23:40:48.623968Z",
     "iopub.status.busy": "2023-09-28T23:40:48.623497Z",
     "iopub.status.idle": "2023-09-28T23:40:48.635169Z",
     "shell.execute_reply": "2023-09-28T23:40:48.634486Z"
    },
    "papermill": {
     "duration": 0.016221,
     "end_time": "2023-09-28T23:40:48.637114",
     "exception": false,
     "start_time": "2023-09-28T23:40:48.620893",
     "status": "completed"
    },
    "tags": []
   },
   "outputs": [],
   "source": [
    "data = pd.read_csv('../../../data/metrics/community/events.csv', parse_dates=['start_date'])\n",
    "data.ward_code = data.ward_code.fillna('UNKNOWN')"
   ]
  },
  {
   "cell_type": "markdown",
   "id": "32cfc020",
   "metadata": {
    "papermill": {
     "duration": 0.001998,
     "end_time": "2023-09-28T23:40:48.641120",
     "exception": false,
     "start_time": "2023-09-28T23:40:48.639122",
     "status": "completed"
    },
    "tags": []
   },
   "source": [
    "Set up output directories"
   ]
  },
  {
   "cell_type": "code",
   "execution_count": 4,
   "id": "4d86d371",
   "metadata": {
    "execution": {
     "iopub.execute_input": "2023-09-28T23:40:48.646483Z",
     "iopub.status.busy": "2023-09-28T23:40:48.645994Z",
     "iopub.status.idle": "2023-09-28T23:40:48.651150Z",
     "shell.execute_reply": "2023-09-28T23:40:48.650489Z"
    },
    "papermill": {
     "duration": 0.009809,
     "end_time": "2023-09-28T23:40:48.652778",
     "exception": false,
     "start_time": "2023-09-28T23:40:48.642969",
     "status": "completed"
    },
    "tags": []
   },
   "outputs": [],
   "source": [
    "OUT_DIR = '../../../docs/metrics/community/_data'\n",
    "os.makedirs(OUT_DIR, exist_ok=True)"
   ]
  },
  {
   "cell_type": "code",
   "execution_count": 5,
   "id": "c9404c8a",
   "metadata": {
    "execution": {
     "iopub.execute_input": "2023-09-28T23:40:48.658278Z",
     "iopub.status.busy": "2023-09-28T23:40:48.657761Z",
     "iopub.status.idle": "2023-09-28T23:40:48.665814Z",
     "shell.execute_reply": "2023-09-28T23:40:48.664821Z"
    },
    "papermill": {
     "duration": 0.012838,
     "end_time": "2023-09-28T23:40:48.667542",
     "exception": false,
     "start_time": "2023-09-28T23:40:48.654704",
     "status": "completed"
    },
    "tags": []
   },
   "outputs": [],
   "source": [
    "pd.Series({\n",
    "  'events': data.event_name.count(),\n",
    "  'audience': data.audience.sum().astype(int),\n",
    "  'errors': {\n",
    "    'missing_wards': (data.ward_code == 'UNKNOWN').value_counts()[True],\n",
    "    'missing_audience': data.audience.isna().value_counts()[True],\n",
    "    'zero_audience':  (data.audience < 1).value_counts()[True],  \n",
    "  }\n",
    "}).to_json(os.path.join(OUT_DIR, 'headlines.json'), indent=2)"
   ]
  },
  {
   "cell_type": "code",
   "execution_count": 6,
   "id": "9a5f5229",
   "metadata": {
    "execution": {
     "iopub.execute_input": "2023-09-28T23:40:48.673122Z",
     "iopub.status.busy": "2023-09-28T23:40:48.672578Z",
     "iopub.status.idle": "2023-09-28T23:40:48.681248Z",
     "shell.execute_reply": "2023-09-28T23:40:48.680507Z"
    },
    "papermill": {
     "duration": 0.013328,
     "end_time": "2023-09-28T23:40:48.682959",
     "exception": false,
     "start_time": "2023-09-28T23:40:48.669631",
     "status": "completed"
    },
    "tags": []
   },
   "outputs": [],
   "source": [
    "by_ward = pd.DataFrame({\n",
    "  'events': data.groupby('ward_code').event_name.count().fillna(0).astype('int'),\n",
    "  'audience': data.groupby('ward_code').audience.sum().fillna(0).astype('int'),\n",
    "}).to_csv(os.path.join(OUT_DIR, 'by_ward.csv'))"
   ]
  },
  {
   "cell_type": "code",
   "execution_count": 7,
   "id": "95281835",
   "metadata": {
    "execution": {
     "iopub.execute_input": "2023-09-28T23:40:48.688566Z",
     "iopub.status.busy": "2023-09-28T23:40:48.688278Z",
     "iopub.status.idle": "2023-09-28T23:40:48.702086Z",
     "shell.execute_reply": "2023-09-28T23:40:48.701342Z"
    },
    "papermill": {
     "duration": 0.019039,
     "end_time": "2023-09-28T23:40:48.704159",
     "exception": false,
     "start_time": "2023-09-28T23:40:48.685120",
     "status": "completed"
    },
    "tags": []
   },
   "outputs": [],
   "source": [
    "by_date = pd.DataFrame({\n",
    "    'events': data.groupby('start_date').event_name.count(),\n",
    "    'audience': data.groupby('start_date').audience.sum(),\n",
    "}).resample('M').sum()\n",
    "\n",
    "pd.concat([\n",
    "    by_date,\n",
    "    by_date.pipe(named_cumulative_sum)\n",
    "], axis=1).astype('int').to_csv(os.path.join(OUT_DIR, 'by_date.csv'))"
   ]
  }
 ],
 "metadata": {
  "kernelspec": {
   "display_name": "leeds-2023-YZF5GfJv",
   "language": "python",
   "name": "python3"
  },
  "language_info": {
   "codemirror_mode": {
    "name": "ipython",
    "version": 3
   },
   "file_extension": ".py",
   "mimetype": "text/x-python",
   "name": "python",
   "nbconvert_exporter": "python",
   "pygments_lexer": "ipython3",
   "version": "3.10.13"
  },
  "papermill": {
   "default_parameters": {},
   "duration": 2.377624,
   "end_time": "2023-09-28T23:40:49.026138",
   "environment_variables": {},
   "exception": null,
   "input_path": "prepare.ipynb",
   "output_path": "../../../working/output/community-prepare.ipynb",
   "parameters": {},
   "start_time": "2023-09-28T23:40:46.648514",
   "version": "2.4.0"
  }
 },
 "nbformat": 4,
 "nbformat_minor": 5
}