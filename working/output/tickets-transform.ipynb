{
 "cells": [
  {
   "cell_type": "code",
   "execution_count": 1,
   "id": "7af6c2ca",
   "metadata": {
    "execution": {
     "iopub.execute_input": "2023-12-15T14:37:13.506839Z",
     "iopub.status.busy": "2023-12-15T14:37:13.506697Z",
     "iopub.status.idle": "2023-12-15T14:37:13.664308Z",
     "shell.execute_reply": "2023-12-15T14:37:13.663873Z"
    },
    "papermill": {
     "duration": 0.164621,
     "end_time": "2023-12-15T14:37:13.665432",
     "exception": false,
     "start_time": "2023-12-15T14:37:13.500811",
     "status": "completed"
    },
    "tags": []
   },
   "outputs": [],
   "source": [
    "import sys\n",
    "from pathlib import Path\n",
    "\n",
    "import pandas as pd\n",
    "\n",
    "TOP_DIR = Path('../../../..').resolve()\n",
    "\n",
    "if str(TOP_DIR) not in sys.path: sys.path.append(str(TOP_DIR))"
   ]
  },
  {
   "cell_type": "code",
   "execution_count": 2,
   "id": "617ab6b3",
   "metadata": {
    "execution": {
     "iopub.execute_input": "2023-12-15T14:37:13.669085Z",
     "iopub.status.busy": "2023-12-15T14:37:13.668919Z",
     "iopub.status.idle": "2023-12-15T14:37:18.282177Z",
     "shell.execute_reply": "2023-12-15T14:37:18.281798Z"
    },
    "papermill": {
     "duration": 4.616292,
     "end_time": "2023-12-15T14:37:18.283254",
     "exception": false,
     "start_time": "2023-12-15T14:37:13.666962",
     "status": "completed"
    },
    "tags": []
   },
   "outputs": [],
   "source": [
    "from lib.util.geo import postcode_formatter, postcode_to_ward_code"
   ]
  },
  {
   "cell_type": "code",
   "execution_count": 3,
   "id": "eba72c2e",
   "metadata": {
    "execution": {
     "iopub.execute_input": "2023-12-15T14:37:18.308835Z",
     "iopub.status.busy": "2023-12-15T14:37:18.308557Z",
     "iopub.status.idle": "2023-12-15T14:37:18.325014Z",
     "shell.execute_reply": "2023-12-15T14:37:18.324666Z"
    },
    "papermill": {
     "duration": 0.041098,
     "end_time": "2023-12-15T14:37:18.325955",
     "exception": false,
     "start_time": "2023-12-15T14:37:18.284857",
     "status": "completed"
    },
    "tags": []
   },
   "outputs": [],
   "source": [
    "ticket_data = pd.read_csv(\n",
    "    '../../../../working/metrics/ticketing/orders.csv',\n",
    "    parse_dates=['created_at', 'event_date'],\n",
    "    usecols=[\n",
    "        'created_at',\n",
    "        'event_id',\n",
    "        'event_name',\n",
    "        'event_date',\n",
    "        'event_time',\n",
    "        'number_of_tickets',\n",
    "        'postcode_from_question',\n",
    "        'postcode_from_address',\n",
    "        'status',\n",
    "    ]\n",
    ")"
   ]
  },
  {
   "cell_type": "code",
   "execution_count": 4,
   "id": "b0fb7c5d",
   "metadata": {
    "execution": {
     "iopub.execute_input": "2023-12-15T14:37:18.329404Z",
     "iopub.status.busy": "2023-12-15T14:37:18.329267Z",
     "iopub.status.idle": "2023-12-15T14:37:18.334635Z",
     "shell.execute_reply": "2023-12-15T14:37:18.334344Z"
    },
    "papermill": {
     "duration": 0.007954,
     "end_time": "2023-12-15T14:37:18.335354",
     "exception": false,
     "start_time": "2023-12-15T14:37:18.327400",
     "status": "completed"
    },
    "tags": []
   },
   "outputs": [
    {
     "name": "stdout",
     "output_type": "stream",
     "text": [
      "<class 'pandas.core.frame.DataFrame'>\n",
      "RangeIndex: 6622 entries, 0 to 6621\n",
      "Data columns (total 9 columns):\n",
      " #   Column                  Non-Null Count  Dtype         \n",
      "---  ------                  --------------  -----         \n",
      " 0   postcode_from_question  6255 non-null   object        \n",
      " 1   postcode_from_address   847 non-null    object        \n",
      " 2   created_at              6622 non-null   datetime64[ns]\n",
      " 3   event_id                6622 non-null   object        \n",
      " 4   event_name              6622 non-null   object        \n",
      " 5   event_date              6622 non-null   datetime64[ns]\n",
      " 6   event_time              6622 non-null   object        \n",
      " 7   number_of_tickets       6622 non-null   int64         \n",
      " 8   status                  6622 non-null   object        \n",
      "dtypes: datetime64[ns](2), int64(1), object(6)\n",
      "memory usage: 465.7+ KB\n"
     ]
    }
   ],
   "source": [
    "ticket_data.info()"
   ]
  },
  {
   "cell_type": "code",
   "execution_count": 5,
   "id": "9038346a",
   "metadata": {
    "execution": {
     "iopub.execute_input": "2023-12-15T14:37:18.340436Z",
     "iopub.status.busy": "2023-12-15T14:37:18.340296Z",
     "iopub.status.idle": "2023-12-15T14:37:18.343497Z",
     "shell.execute_reply": "2023-12-15T14:37:18.343206Z"
    },
    "papermill": {
     "duration": 0.007266,
     "end_time": "2023-12-15T14:37:18.344143",
     "exception": false,
     "start_time": "2023-12-15T14:37:18.336877",
     "status": "completed"
    },
    "tags": []
   },
   "outputs": [],
   "source": [
    "completed_orders = (\n",
    "    ticket_data.loc[\n",
    "        ~ticket_data.status.isin(['cancelled']),\n",
    "        ticket_data.columns\n",
    "    ]\n",
    ")"
   ]
  },
  {
   "cell_type": "code",
   "execution_count": 6,
   "id": "1d7c46e4",
   "metadata": {
    "execution": {
     "iopub.execute_input": "2023-12-15T14:37:18.347839Z",
     "iopub.status.busy": "2023-12-15T14:37:18.347655Z",
     "iopub.status.idle": "2023-12-15T14:37:18.978900Z",
     "shell.execute_reply": "2023-12-15T14:37:18.978445Z"
    },
    "papermill": {
     "duration": 0.634345,
     "end_time": "2023-12-15T14:37:18.979936",
     "exception": false,
     "start_time": "2023-12-15T14:37:18.345591",
     "status": "completed"
    },
    "tags": []
   },
   "outputs": [],
   "source": [
    "completed_orders['ward_code'] = (\n",
    "    completed_orders\n",
    "        .loc[:, ['postcode_from_question', 'postcode_from_address']]\n",
    "        .bfill()\n",
    "        .iloc[:, 0]\n",
    "        .pipe(postcode_formatter)\n",
    "        .map(postcode_to_ward_code)\n",
    ")"
   ]
  },
  {
   "cell_type": "markdown",
   "id": "661cf797",
   "metadata": {
    "papermill": {
     "duration": 0.001429,
     "end_time": "2023-12-15T14:37:18.983019",
     "exception": false,
     "start_time": "2023-12-15T14:37:18.981590",
     "status": "completed"
    },
    "tags": []
   },
   "source": [
    "Get the events data"
   ]
  },
  {
   "cell_type": "code",
   "execution_count": 7,
   "id": "a3d5e377",
   "metadata": {
    "execution": {
     "iopub.execute_input": "2023-12-15T14:37:18.986457Z",
     "iopub.status.busy": "2023-12-15T14:37:18.986308Z",
     "iopub.status.idle": "2023-12-15T14:37:18.995440Z",
     "shell.execute_reply": "2023-12-15T14:37:18.995124Z"
    },
    "papermill": {
     "duration": 0.011817,
     "end_time": "2023-12-15T14:37:18.996192",
     "exception": false,
     "start_time": "2023-12-15T14:37:18.984375",
     "status": "completed"
    },
    "tags": []
   },
   "outputs": [],
   "source": [
    "def prepare_events(data: pd.DataFrame):\n",
    "    data = data.rename(columns={\n",
    "        'Project name': 'project_name',\n",
    "        'Event type': 'event_type',\n",
    "        'Ticket Tailor ID': 'ticket_tailor_id'\n",
    "    })\n",
    "    data['public_event'] = data.event_type.str.contains('Public Event')\n",
    "    data['ticket_tailor_id'] = data.ticket_tailor_id.str.split(\n",
    "        pat=r'[\\s,]+', regex=True)\n",
    "    data = data.drop(columns=['event_type'])\n",
    "    data = data.explode('ticket_tailor_id')\n",
    "    data = data.loc[data.ticket_tailor_id.notna() & (data.ticket_tailor_id != '')]\n",
    "    return data\n",
    "\n",
    "\n",
    "events = pd.read_csv(\n",
    "    '../../../../working/metrics/events/all.csv',\n",
    "    usecols=[\n",
    "        'Project name',\n",
    "        'Event type',\n",
    "        'Ticket Tailor ID'\n",
    "    ]\n",
    ").pipe(prepare_events)"
   ]
  },
  {
   "cell_type": "markdown",
   "id": "b9250aaf",
   "metadata": {
    "papermill": {
     "duration": 0.001437,
     "end_time": "2023-12-15T14:37:18.999652",
     "exception": false,
     "start_time": "2023-12-15T14:37:18.998215",
     "status": "completed"
    },
    "tags": []
   },
   "source": [
    "Duplicated ticket tailor IDs"
   ]
  },
  {
   "cell_type": "code",
   "execution_count": 8,
   "id": "1f7feae7",
   "metadata": {
    "execution": {
     "iopub.execute_input": "2023-12-15T14:37:19.003185Z",
     "iopub.status.busy": "2023-12-15T14:37:19.003044Z",
     "iopub.status.idle": "2023-12-15T14:37:19.009487Z",
     "shell.execute_reply": "2023-12-15T14:37:19.009220Z"
    },
    "papermill": {
     "duration": 0.009075,
     "end_time": "2023-12-15T14:37:19.010200",
     "exception": false,
     "start_time": "2023-12-15T14:37:19.001125",
     "status": "completed"
    },
    "tags": []
   },
   "outputs": [
    {
     "data": {
      "text/html": [
       "<div>\n",
       "<style scoped>\n",
       "    .dataframe tbody tr th:only-of-type {\n",
       "        vertical-align: middle;\n",
       "    }\n",
       "\n",
       "    .dataframe tbody tr th {\n",
       "        vertical-align: top;\n",
       "    }\n",
       "\n",
       "    .dataframe thead th {\n",
       "        text-align: right;\n",
       "    }\n",
       "</style>\n",
       "<table border=\"1\" class=\"dataframe\">\n",
       "  <thead>\n",
       "    <tr style=\"text-align: right;\">\n",
       "      <th></th>\n",
       "      <th>project_name</th>\n",
       "      <th>ticket_tailor_id</th>\n",
       "      <th>public_event</th>\n",
       "    </tr>\n",
       "  </thead>\n",
       "  <tbody>\n",
       "    <tr>\n",
       "      <th>117</th>\n",
       "      <td>11 - All That Lives</td>\n",
       "      <td>985872</td>\n",
       "      <td>True</td>\n",
       "    </tr>\n",
       "    <tr>\n",
       "      <th>134</th>\n",
       "      <td>09 - Smeaton300: Moon Palace East Leeds Observ...</td>\n",
       "      <td>ev_2918127</td>\n",
       "      <td>True</td>\n",
       "    </tr>\n",
       "    <tr>\n",
       "      <th>159</th>\n",
       "      <td>11 - All That Lives</td>\n",
       "      <td>985872</td>\n",
       "      <td>True</td>\n",
       "    </tr>\n",
       "    <tr>\n",
       "      <th>251</th>\n",
       "      <td>Creative Learning S3</td>\n",
       "      <td>ev_3073624</td>\n",
       "      <td>False</td>\n",
       "    </tr>\n",
       "    <tr>\n",
       "      <th>309</th>\n",
       "      <td>11 - All That Lives</td>\n",
       "      <td>985872</td>\n",
       "      <td>True</td>\n",
       "    </tr>\n",
       "    <tr>\n",
       "      <th>608</th>\n",
       "      <td>11 - All That Lives</td>\n",
       "      <td>985872</td>\n",
       "      <td>True</td>\n",
       "    </tr>\n",
       "    <tr>\n",
       "      <th>887</th>\n",
       "      <td>07 - Children's Day</td>\n",
       "      <td>ev_2963290</td>\n",
       "      <td>NaN</td>\n",
       "    </tr>\n",
       "    <tr>\n",
       "      <th>887</th>\n",
       "      <td>07 - Children's Day</td>\n",
       "      <td>ev_2963290</td>\n",
       "      <td>NaN</td>\n",
       "    </tr>\n",
       "    <tr>\n",
       "      <th>887</th>\n",
       "      <td>07 - Children's Day</td>\n",
       "      <td>ev_2963295</td>\n",
       "      <td>NaN</td>\n",
       "    </tr>\n",
       "    <tr>\n",
       "      <th>887</th>\n",
       "      <td>07 - Children's Day</td>\n",
       "      <td>ev_2963297</td>\n",
       "      <td>NaN</td>\n",
       "    </tr>\n",
       "    <tr>\n",
       "      <th>887</th>\n",
       "      <td>07 - Children's Day</td>\n",
       "      <td>ev_2963295</td>\n",
       "      <td>NaN</td>\n",
       "    </tr>\n",
       "    <tr>\n",
       "      <th>887</th>\n",
       "      <td>07 - Children's Day</td>\n",
       "      <td>ev_2963296</td>\n",
       "      <td>NaN</td>\n",
       "    </tr>\n",
       "    <tr>\n",
       "      <th>887</th>\n",
       "      <td>07 - Children's Day</td>\n",
       "      <td>ev_2963296</td>\n",
       "      <td>NaN</td>\n",
       "    </tr>\n",
       "    <tr>\n",
       "      <th>887</th>\n",
       "      <td>07 - Children's Day</td>\n",
       "      <td>ev_2963297</td>\n",
       "      <td>NaN</td>\n",
       "    </tr>\n",
       "    <tr>\n",
       "      <th>928</th>\n",
       "      <td>11 - All That Lives</td>\n",
       "      <td>985872</td>\n",
       "      <td>True</td>\n",
       "    </tr>\n",
       "    <tr>\n",
       "      <th>1094</th>\n",
       "      <td>09 - Smeaton300: Moon Palace East Leeds Observ...</td>\n",
       "      <td>ev_2918127</td>\n",
       "      <td>True</td>\n",
       "    </tr>\n",
       "    <tr>\n",
       "      <th>1365</th>\n",
       "      <td>07 - Children's Day</td>\n",
       "      <td>ev_2963290</td>\n",
       "      <td>True</td>\n",
       "    </tr>\n",
       "    <tr>\n",
       "      <th>1365</th>\n",
       "      <td>07 - Children's Day</td>\n",
       "      <td>ev_2963295</td>\n",
       "      <td>True</td>\n",
       "    </tr>\n",
       "    <tr>\n",
       "      <th>1365</th>\n",
       "      <td>07 - Children's Day</td>\n",
       "      <td>ev_2963296</td>\n",
       "      <td>True</td>\n",
       "    </tr>\n",
       "    <tr>\n",
       "      <th>1365</th>\n",
       "      <td>07 - Children's Day</td>\n",
       "      <td>ev_2963297</td>\n",
       "      <td>True</td>\n",
       "    </tr>\n",
       "    <tr>\n",
       "      <th>1383</th>\n",
       "      <td>09 - Smeaton300: Moon Palace East Leeds Observ...</td>\n",
       "      <td>ev_2918127</td>\n",
       "      <td>True</td>\n",
       "    </tr>\n",
       "    <tr>\n",
       "      <th>1463</th>\n",
       "      <td>Creative Learning S3</td>\n",
       "      <td>ev_3073624</td>\n",
       "      <td>False</td>\n",
       "    </tr>\n",
       "  </tbody>\n",
       "</table>\n",
       "</div>"
      ],
      "text/plain": [
       "                                           project_name ticket_tailor_id  \\\n",
       "117                                 11 - All That Lives           985872   \n",
       "134   09 - Smeaton300: Moon Palace East Leeds Observ...       ev_2918127   \n",
       "159                                 11 - All That Lives           985872   \n",
       "251                                Creative Learning S3       ev_3073624   \n",
       "309                                 11 - All That Lives           985872   \n",
       "608                                 11 - All That Lives           985872   \n",
       "887                                 07 - Children's Day       ev_2963290   \n",
       "887                                 07 - Children's Day       ev_2963290   \n",
       "887                                 07 - Children's Day       ev_2963295   \n",
       "887                                 07 - Children's Day       ev_2963297   \n",
       "887                                 07 - Children's Day       ev_2963295   \n",
       "887                                 07 - Children's Day       ev_2963296   \n",
       "887                                 07 - Children's Day       ev_2963296   \n",
       "887                                 07 - Children's Day       ev_2963297   \n",
       "928                                 11 - All That Lives           985872   \n",
       "1094  09 - Smeaton300: Moon Palace East Leeds Observ...       ev_2918127   \n",
       "1365                                07 - Children's Day       ev_2963290   \n",
       "1365                                07 - Children's Day       ev_2963295   \n",
       "1365                                07 - Children's Day       ev_2963296   \n",
       "1365                                07 - Children's Day       ev_2963297   \n",
       "1383  09 - Smeaton300: Moon Palace East Leeds Observ...       ev_2918127   \n",
       "1463                               Creative Learning S3       ev_3073624   \n",
       "\n",
       "     public_event  \n",
       "117          True  \n",
       "134          True  \n",
       "159          True  \n",
       "251         False  \n",
       "309          True  \n",
       "608          True  \n",
       "887           NaN  \n",
       "887           NaN  \n",
       "887           NaN  \n",
       "887           NaN  \n",
       "887           NaN  \n",
       "887           NaN  \n",
       "887           NaN  \n",
       "887           NaN  \n",
       "928          True  \n",
       "1094         True  \n",
       "1365         True  \n",
       "1365         True  \n",
       "1365         True  \n",
       "1365         True  \n",
       "1383         True  \n",
       "1463        False  "
      ]
     },
     "execution_count": 8,
     "metadata": {},
     "output_type": "execute_result"
    }
   ],
   "source": [
    "events[\n",
    "  events.ticket_tailor_id.isin(\n",
    "    events.ticket_tailor_id[\n",
    "      events.ticket_tailor_id.duplicated()\n",
    "    ].to_list()\n",
    "  )\n",
    "]"
   ]
  },
  {
   "cell_type": "code",
   "execution_count": 9,
   "id": "9b3257e3",
   "metadata": {
    "execution": {
     "iopub.execute_input": "2023-12-15T14:37:19.014105Z",
     "iopub.status.busy": "2023-12-15T14:37:19.013963Z",
     "iopub.status.idle": "2023-12-15T14:37:19.016154Z",
     "shell.execute_reply": "2023-12-15T14:37:19.015896Z"
    },
    "papermill": {
     "duration": 0.004884,
     "end_time": "2023-12-15T14:37:19.016799",
     "exception": false,
     "start_time": "2023-12-15T14:37:19.011915",
     "status": "completed"
    },
    "tags": []
   },
   "outputs": [
    {
     "data": {
      "text/plain": [
       "6457"
      ]
     },
     "execution_count": 9,
     "metadata": {},
     "output_type": "execute_result"
    }
   ],
   "source": [
    "len(completed_orders)"
   ]
  },
  {
   "cell_type": "code",
   "execution_count": 10,
   "id": "d7c26834",
   "metadata": {
    "execution": {
     "iopub.execute_input": "2023-12-15T14:37:19.020602Z",
     "iopub.status.busy": "2023-12-15T14:37:19.020464Z",
     "iopub.status.idle": "2023-12-15T14:37:19.025175Z",
     "shell.execute_reply": "2023-12-15T14:37:19.024859Z"
    },
    "papermill": {
     "duration": 0.007417,
     "end_time": "2023-12-15T14:37:19.025870",
     "exception": false,
     "start_time": "2023-12-15T14:37:19.018453",
     "status": "completed"
    },
    "tags": []
   },
   "outputs": [],
   "source": [
    "completed_orders = completed_orders.merge(\n",
    "    events.drop_duplicates().set_index('ticket_tailor_id'),\n",
    "    left_on='event_id',\n",
    "    right_index=True,\n",
    "    how='left'\n",
    ")"
   ]
  },
  {
   "cell_type": "code",
   "execution_count": 11,
   "id": "c0f4e9a2",
   "metadata": {
    "execution": {
     "iopub.execute_input": "2023-12-15T14:37:19.029938Z",
     "iopub.status.busy": "2023-12-15T14:37:19.029792Z",
     "iopub.status.idle": "2023-12-15T14:37:19.032022Z",
     "shell.execute_reply": "2023-12-15T14:37:19.031764Z"
    },
    "papermill": {
     "duration": 0.004963,
     "end_time": "2023-12-15T14:37:19.032621",
     "exception": false,
     "start_time": "2023-12-15T14:37:19.027658",
     "status": "completed"
    },
    "tags": []
   },
   "outputs": [
    {
     "data": {
      "text/plain": [
       "6465"
      ]
     },
     "execution_count": 11,
     "metadata": {},
     "output_type": "execute_result"
    }
   ],
   "source": [
    "len(completed_orders)"
   ]
  },
  {
   "cell_type": "code",
   "execution_count": 12,
   "id": "aaf66838",
   "metadata": {
    "execution": {
     "iopub.execute_input": "2023-12-15T14:37:19.036509Z",
     "iopub.status.busy": "2023-12-15T14:37:19.036369Z",
     "iopub.status.idle": "2023-12-15T14:37:19.038187Z",
     "shell.execute_reply": "2023-12-15T14:37:19.037931Z"
    },
    "papermill": {
     "duration": 0.004514,
     "end_time": "2023-12-15T14:37:19.038849",
     "exception": false,
     "start_time": "2023-12-15T14:37:19.034335",
     "status": "completed"
    },
    "tags": []
   },
   "outputs": [],
   "source": [
    "OUTPUT_DIR = TOP_DIR.joinpath('data/metrics/events/tickets/')\n",
    "OUTPUT_DIR.mkdir(parents=True, exist_ok=True)"
   ]
  },
  {
   "cell_type": "code",
   "execution_count": 13,
   "id": "a78264b3",
   "metadata": {
    "execution": {
     "iopub.execute_input": "2023-12-15T14:37:19.042854Z",
     "iopub.status.busy": "2023-12-15T14:37:19.042723Z",
     "iopub.status.idle": "2023-12-15T14:37:19.059803Z",
     "shell.execute_reply": "2023-12-15T14:37:19.059475Z"
    },
    "papermill": {
     "duration": 0.020018,
     "end_time": "2023-12-15T14:37:19.060643",
     "exception": false,
     "start_time": "2023-12-15T14:37:19.040625",
     "status": "completed"
    },
    "tags": []
   },
   "outputs": [],
   "source": [
    "completed_orders.loc[:, [\n",
    "    'created_at',\n",
    "    'event_id',\n",
    "    'event_date',\n",
    "    'number_of_tickets',\n",
    "    'ward_code',\n",
    "    'project_name',\n",
    "    'public_event',\n",
    "]].sort_values(['created_at', 'event_id']).to_csv(\n",
    "  OUTPUT_DIR.joinpath('orders.csv'),\n",
    "  index=False\n",
    ")"
   ]
  },
  {
   "cell_type": "code",
   "execution_count": 14,
   "id": "cf9d201e",
   "metadata": {
    "execution": {
     "iopub.execute_input": "2023-12-15T14:37:19.064856Z",
     "iopub.status.busy": "2023-12-15T14:37:19.064719Z",
     "iopub.status.idle": "2023-12-15T14:37:19.070603Z",
     "shell.execute_reply": "2023-12-15T14:37:19.070300Z"
    },
    "papermill": {
     "duration": 0.008875,
     "end_time": "2023-12-15T14:37:19.071361",
     "exception": false,
     "start_time": "2023-12-15T14:37:19.062486",
     "status": "completed"
    },
    "tags": []
   },
   "outputs": [],
   "source": [
    "(\n",
    "    completed_orders.loc[:, ['event_date', 'event_time', 'event_name', 'event_id', 'project_name', 'public_event']]\n",
    "      .drop_duplicates()\n",
    "      .sort_values(['event_date', 'event_time'])\n",
    "      .to_csv('../../../../data/metrics/events/tickets/events.csv', index=False)\n",
    ")"
   ]
  },
  {
   "cell_type": "code",
   "execution_count": 15,
   "id": "bdd0b071",
   "metadata": {
    "execution": {
     "iopub.execute_input": "2023-12-15T14:37:19.075584Z",
     "iopub.status.busy": "2023-12-15T14:37:19.075436Z",
     "iopub.status.idle": "2023-12-15T14:37:19.341404Z",
     "shell.execute_reply": "2023-12-15T14:37:19.340937Z"
    },
    "papermill": {
     "duration": 0.269154,
     "end_time": "2023-12-15T14:37:19.342352",
     "exception": false,
     "start_time": "2023-12-15T14:37:19.073198",
     "status": "completed"
    },
    "tags": []
   },
   "outputs": [
    {
     "data": {
      "image/png": "[encoded data removed]",
      "text/plain": [
       "<Figure size 640x480 with 1 Axes>"
      ]
     },
     "metadata": {},
     "output_type": "display_data"
    }
   ],
   "source": [
    "chart = completed_orders.groupby(['project_name']).number_of_tickets.sum().sort_values().plot.barh()"
   ]
  },
  {
   "cell_type": "code",
   "execution_count": 16,
   "id": "a1bc367a",
   "metadata": {
    "execution": {
     "iopub.execute_input": "2023-12-15T14:37:19.347932Z",
     "iopub.status.busy": "2023-12-15T14:37:19.347738Z",
     "iopub.status.idle": "2023-12-15T14:37:19.439678Z",
     "shell.execute_reply": "2023-12-15T14:37:19.439360Z"
    },
    "papermill": {
     "duration": 0.095709,
     "end_time": "2023-12-15T14:37:19.440707",
     "exception": false,
     "start_time": "2023-12-15T14:37:19.344998",
     "status": "completed"
    },
    "tags": []
   },
   "outputs": [
    {
     "data": {
      "image/png": "[encoded data removed]",
      "text/plain": [
       "<Figure size 640x480 with 1 Axes>"
      ]
     },
     "metadata": {},
     "output_type": "display_data"
    }
   ],
   "source": [
    "chart = completed_orders.groupby([\n",
    "    'event_date'\n",
    "    ]).number_of_tickets.sum().resample('M').sum().cumsum().plot.bar()"
   ]
  },
  {
   "cell_type": "code",
   "execution_count": null,
   "id": "94c7c990",
   "metadata": {
    "papermill": {
     "duration": 0.002573,
     "end_time": "2023-12-15T14:37:19.446467",
     "exception": false,
     "start_time": "2023-12-15T14:37:19.443894",
     "status": "completed"
    },
    "tags": []
   },
   "outputs": [],
   "source": []
  }
 ],
 "metadata": {
  "kernelspec": {
   "display_name": "leeds-2023-YZF5GfJv",
   "language": "python",
   "name": "python3"
  },
  "language_info": {
   "codemirror_mode": {
    "name": "ipython",
    "version": 3
   },
   "file_extension": ".py",
   "mimetype": "text/x-python",
   "name": "python",
   "nbconvert_exporter": "python",
   "pygments_lexer": "ipython3",
   "version": "3.10.12"
  },
  "papermill": {
   "default_parameters": {},
   "duration": 6.982563,
   "end_time": "2023-12-15T14:37:19.767581",
   "environment_variables": {},
   "exception": null,
   "input_path": "tickets.ipynb",
   "output_path": "../../../../working/output/tickets-transform.ipynb",
   "parameters": {},
   "start_time": "2023-12-15T14:37:12.785018",
   "version": "2.4.0"
  }
 },
 "nbformat": 4,
 "nbformat_minor": 5
}