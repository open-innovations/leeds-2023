{
 "cells": [
  {
   "cell_type": "code",
   "execution_count": 1,
   "id": "3a92f860",
   "metadata": {
    "execution": {
     "iopub.execute_input": "2023-07-12T19:03:45.692257Z",
     "iopub.status.busy": "2023-07-12T19:03:45.691556Z",
     "iopub.status.idle": "2023-07-12T19:03:45.850645Z",
     "shell.execute_reply": "2023-07-12T19:03:45.850200Z"
    },
    "papermill": {
     "duration": 0.165466,
     "end_time": "2023-07-12T19:03:45.851662",
     "exception": false,
     "start_time": "2023-07-12T19:03:45.686196",
     "status": "completed"
    },
    "tags": []
   },
   "outputs": [],
   "source": [
    "import os\n",
    "import sys\n",
    "import pandas as pd\n",
    "import numpy as np"
   ]
  },
  {
   "cell_type": "code",
   "execution_count": 2,
   "id": "d261292d",
   "metadata": {
    "execution": {
     "iopub.execute_input": "2023-07-12T19:03:45.854647Z",
     "iopub.status.busy": "2023-07-12T19:03:45.854443Z",
     "iopub.status.idle": "2023-07-12T19:03:45.864513Z",
     "shell.execute_reply": "2023-07-12T19:03:45.864166Z"
    },
    "papermill": {
     "duration": 0.01257,
     "end_time": "2023-07-12T19:03:45.865415",
     "exception": false,
     "start_time": "2023-07-12T19:03:45.852845",
     "status": "completed"
    },
    "tags": []
   },
   "outputs": [],
   "source": [
    "lib_dir = os.path.abspath('../../../../lib/')\n",
    "if not lib_dir in sys.path: sys.path.append(lib_dir)\n",
    "\n",
    "import util.geo\n",
    "import util.convert"
   ]
  },
  {
   "cell_type": "code",
   "execution_count": 3,
   "id": "6249346d",
   "metadata": {
    "execution": {
     "iopub.execute_input": "2023-07-12T19:03:45.868221Z",
     "iopub.status.busy": "2023-07-12T19:03:45.867992Z",
     "iopub.status.idle": "2023-07-12T19:03:45.876659Z",
     "shell.execute_reply": "2023-07-12T19:03:45.876322Z"
    },
    "papermill": {
     "duration": 0.011005,
     "end_time": "2023-07-12T19:03:45.877486",
     "exception": false,
     "start_time": "2023-07-12T19:03:45.866481",
     "status": "completed"
    },
    "tags": []
   },
   "outputs": [],
   "source": [
    "data = pd.read_csv('../../../../data/metrics/events/master/all.csv', parse_dates=['start_date'])\n",
    "data = data.loc[\n",
    "    (data.project_type == 'Produce (Signature)') &\n",
    "    (data.project_name == '05 - The Barn') &\n",
    "    (data.event_type.str.contains('Public Event -')) &\n",
    "    (data.start_date < pd.Timestamp.now())\n",
    "]"
   ]
  },
  {
   "cell_type": "code",
   "execution_count": 4,
   "id": "c3118dcf",
   "metadata": {
    "execution": {
     "iopub.execute_input": "2023-07-12T19:03:45.880226Z",
     "iopub.status.busy": "2023-07-12T19:03:45.880037Z",
     "iopub.status.idle": "2023-07-12T19:03:45.882620Z",
     "shell.execute_reply": "2023-07-12T19:03:45.882331Z"
    },
    "papermill": {
     "duration": 0.004733,
     "end_time": "2023-07-12T19:03:45.883318",
     "exception": false,
     "start_time": "2023-07-12T19:03:45.878585",
     "status": "completed"
    },
    "tags": []
   },
   "outputs": [],
   "source": [
    "wards = data['ward_(from_venue)'].fillna(value='[]').pipe(util.convert.literal_converter).apply(np.unique)"
   ]
  },
  {
   "cell_type": "code",
   "execution_count": 5,
   "id": "e0739256",
   "metadata": {
    "execution": {
     "iopub.execute_input": "2023-07-12T19:03:45.885870Z",
     "iopub.status.busy": "2023-07-12T19:03:45.885707Z",
     "iopub.status.idle": "2023-07-12T19:03:45.894168Z",
     "shell.execute_reply": "2023-07-12T19:03:45.893828Z"
    },
    "papermill": {
     "duration": 0.010663,
     "end_time": "2023-07-12T19:03:45.894983",
     "exception": false,
     "start_time": "2023-07-12T19:03:45.884320",
     "status": "completed"
    },
    "tags": []
   },
   "outputs": [
    {
     "data": {
      "text/html": [
       "<div>\n",
       "<style scoped>\n",
       "    .dataframe tbody tr th:only-of-type {\n",
       "        vertical-align: middle;\n",
       "    }\n",
       "\n",
       "    .dataframe tbody tr th {\n",
       "        vertical-align: top;\n",
       "    }\n",
       "\n",
       "    .dataframe thead th {\n",
       "        text-align: right;\n",
       "    }\n",
       "</style>\n",
       "<table border=\"1\" class=\"dataframe\">\n",
       "  <thead>\n",
       "    <tr style=\"text-align: right;\">\n",
       "      <th></th>\n",
       "      <th>project_name</th>\n",
       "      <th>event_name</th>\n",
       "      <th>event_type</th>\n",
       "      <th>season</th>\n",
       "      <th>start_date</th>\n",
       "      <th>airtable_id</th>\n",
       "      <th>actual_audience_size_number_of_participants_in_person</th>\n",
       "      <th>event_unique_identifier</th>\n",
       "      <th>project_type</th>\n",
       "      <th>ward_(from_venue)</th>\n",
       "      <th>postcode_(from_venue)</th>\n",
       "      <th>end_date</th>\n",
       "      <th>number_of_booked_participants</th>\n",
       "      <th>actual_audience_size_number_of_participants_online</th>\n",
       "    </tr>\n",
       "  </thead>\n",
       "  <tbody>\n",
       "    <tr>\n",
       "      <th>362</th>\n",
       "      <td>05 - The Barn</td>\n",
       "      <td>The Space Digital Interactive Playspace (schoo...</td>\n",
       "      <td>['Public Event - Digital Experience', 'CLE - C...</td>\n",
       "      <td>['Season 2 - Playing']</td>\n",
       "      <td>2023-05-16</td>\n",
       "      <td>1623</td>\n",
       "      <td>4.0</td>\n",
       "      <td>05 - The Barn: The Space Digital Interactive P...</td>\n",
       "      <td>Produce (Signature)</td>\n",
       "      <td>NaN</td>\n",
       "      <td>NaN</td>\n",
       "      <td>2023-05-18</td>\n",
       "      <td>7.0</td>\n",
       "      <td>0.0</td>\n",
       "    </tr>\n",
       "    <tr>\n",
       "      <th>542</th>\n",
       "      <td>05 - The Barn</td>\n",
       "      <td>The Space Digital Interactive Playspace</td>\n",
       "      <td>['Public Event - Digital Experience', 'CLE - C...</td>\n",
       "      <td>['Season 2 - Playing']</td>\n",
       "      <td>2023-05-16</td>\n",
       "      <td>351</td>\n",
       "      <td>128.0</td>\n",
       "      <td>05 - The Barn: The Space Digital Interactive P...</td>\n",
       "      <td>Produce (Signature)</td>\n",
       "      <td>NaN</td>\n",
       "      <td>NaN</td>\n",
       "      <td>2023-05-18</td>\n",
       "      <td>7.0</td>\n",
       "      <td>NaN</td>\n",
       "    </tr>\n",
       "  </tbody>\n",
       "</table>\n",
       "</div>"
      ],
      "text/plain": [
       "      project_name                                         event_name  \\\n",
       "362  05 - The Barn  The Space Digital Interactive Playspace (schoo...   \n",
       "542  05 - The Barn           The Space Digital Interactive Playspace    \n",
       "\n",
       "                                            event_type  \\\n",
       "362  ['Public Event - Digital Experience', 'CLE - C...   \n",
       "542  ['Public Event - Digital Experience', 'CLE - C...   \n",
       "\n",
       "                     season start_date  airtable_id  \\\n",
       "362  ['Season 2 - Playing'] 2023-05-16         1623   \n",
       "542  ['Season 2 - Playing'] 2023-05-16          351   \n",
       "\n",
       "     actual_audience_size_number_of_participants_in_person  \\\n",
       "362                                                4.0       \n",
       "542                                              128.0       \n",
       "\n",
       "                               event_unique_identifier         project_type  \\\n",
       "362  05 - The Barn: The Space Digital Interactive P...  Produce (Signature)   \n",
       "542  05 - The Barn: The Space Digital Interactive P...  Produce (Signature)   \n",
       "\n",
       "    ward_(from_venue) postcode_(from_venue)    end_date  \\\n",
       "362               NaN                   NaN  2023-05-18   \n",
       "542               NaN                   NaN  2023-05-18   \n",
       "\n",
       "     number_of_booked_participants  \\\n",
       "362                            7.0   \n",
       "542                            7.0   \n",
       "\n",
       "     actual_audience_size_number_of_participants_online  \n",
       "362                                                0.0   \n",
       "542                                                NaN   "
      ]
     },
     "execution_count": 5,
     "metadata": {},
     "output_type": "execute_result"
    }
   ],
   "source": [
    "data[wards.apply(len) != 1]"
   ]
  },
  {
   "cell_type": "code",
   "execution_count": 6,
   "id": "fe2f42f5",
   "metadata": {
    "execution": {
     "iopub.execute_input": "2023-07-12T19:03:45.897947Z",
     "iopub.status.busy": "2023-07-12T19:03:45.897789Z",
     "iopub.status.idle": "2023-07-12T19:03:45.912253Z",
     "shell.execute_reply": "2023-07-12T19:03:45.911943Z"
    },
    "papermill": {
     "duration": 0.016782,
     "end_time": "2023-07-12T19:03:45.912972",
     "exception": false,
     "start_time": "2023-07-12T19:03:45.896190",
     "status": "completed"
    },
    "tags": []
   },
   "outputs": [],
   "source": [
    "data['ward_code'] = wards.apply(lambda x: x[0] if len(x) > 0 else np.nan).pipe(util.geo.normalise_leeds_wards).pipe(util.geo.ward_name_to_code)"
   ]
  },
  {
   "cell_type": "code",
   "execution_count": 7,
   "id": "4b1c4e3e",
   "metadata": {
    "execution": {
     "iopub.execute_input": "2023-07-12T19:03:45.915930Z",
     "iopub.status.busy": "2023-07-12T19:03:45.915749Z",
     "iopub.status.idle": "2023-07-12T19:03:45.918081Z",
     "shell.execute_reply": "2023-07-12T19:03:45.917803Z"
    },
    "papermill": {
     "duration": 0.004608,
     "end_time": "2023-07-12T19:03:45.918795",
     "exception": false,
     "start_time": "2023-07-12T19:03:45.914187",
     "status": "completed"
    },
    "tags": []
   },
   "outputs": [],
   "source": [
    "data['audience_size'] = data.actual_audience_size_number_of_participants_in_person.fillna(0) + data.actual_audience_size_number_of_participants_online.fillna(0)"
   ]
  },
  {
   "cell_type": "code",
   "execution_count": 8,
   "id": "8f34852a",
   "metadata": {
    "execution": {
     "iopub.execute_input": "2023-07-12T19:03:45.921693Z",
     "iopub.status.busy": "2023-07-12T19:03:45.921510Z",
     "iopub.status.idle": "2023-07-12T19:03:45.923259Z",
     "shell.execute_reply": "2023-07-12T19:03:45.922996Z"
    },
    "papermill": {
     "duration": 0.004018,
     "end_time": "2023-07-12T19:03:45.923967",
     "exception": false,
     "start_time": "2023-07-12T19:03:45.919949",
     "status": "completed"
    },
    "tags": []
   },
   "outputs": [],
   "source": [
    "OUT_DIR = '../../../../docs/metrics/events/the-barn/_data/events'\n",
    "os.makedirs(OUT_DIR, exist_ok=True)"
   ]
  },
  {
   "cell_type": "code",
   "execution_count": 9,
   "id": "72386129",
   "metadata": {
    "execution": {
     "iopub.execute_input": "2023-07-12T19:03:45.926763Z",
     "iopub.status.busy": "2023-07-12T19:03:45.926639Z",
     "iopub.status.idle": "2023-07-12T19:03:45.930559Z",
     "shell.execute_reply": "2023-07-12T19:03:45.930250Z"
    },
    "papermill": {
     "duration": 0.006198,
     "end_time": "2023-07-12T19:03:45.931273",
     "exception": false,
     "start_time": "2023-07-12T19:03:45.925075",
     "status": "completed"
    },
    "tags": []
   },
   "outputs": [],
   "source": [
    "by_ward = pd.DataFrame(\n",
    "  {\n",
    "    'events': data.groupby('ward_code').audience_size.count(),\n",
    "    'audience': data.groupby('ward_code').audience_size.sum(),\n",
    "  }\n",
    ")\n",
    "by_ward.to_csv(os.path.join(OUT_DIR, 'by_ward.csv'))"
   ]
  },
  {
   "cell_type": "code",
   "execution_count": 10,
   "id": "66c2dd10",
   "metadata": {
    "execution": {
     "iopub.execute_input": "2023-07-12T19:03:45.934277Z",
     "iopub.status.busy": "2023-07-12T19:03:45.934070Z",
     "iopub.status.idle": "2023-07-12T19:03:45.940893Z",
     "shell.execute_reply": "2023-07-12T19:03:45.940550Z"
    },
    "papermill": {
     "duration": 0.009204,
     "end_time": "2023-07-12T19:03:45.941708",
     "exception": false,
     "start_time": "2023-07-12T19:03:45.932504",
     "status": "completed"
    },
    "tags": []
   },
   "outputs": [],
   "source": [
    "by_week = pd.DataFrame({\n",
    "  'events': data.groupby('start_date').audience_size.count(),\n",
    "  'audience': data.groupby('start_date').audience_size.sum().astype(int)\n",
    "}).resample('W-FRI').sum()\n",
    "by_week.index.name = 'week_ending'\n",
    "by_week['cumulative_events'] = by_week.events.cumsum()\n",
    "by_week['cumulative_audience'] = by_week.audience.cumsum()\n",
    "by_week.to_csv(os.path.join(OUT_DIR, 'by_week.csv'))"
   ]
  },
  {
   "cell_type": "code",
   "execution_count": 11,
   "id": "c77b3085",
   "metadata": {
    "execution": {
     "iopub.execute_input": "2023-07-12T19:03:45.944803Z",
     "iopub.status.busy": "2023-07-12T19:03:45.944582Z",
     "iopub.status.idle": "2023-07-12T19:03:45.948546Z",
     "shell.execute_reply": "2023-07-12T19:03:45.948229Z"
    },
    "papermill": {
     "duration": 0.006366,
     "end_time": "2023-07-12T19:03:45.949310",
     "exception": false,
     "start_time": "2023-07-12T19:03:45.942944",
     "status": "completed"
    },
    "tags": []
   },
   "outputs": [],
   "source": [
    "by_month = by_week.resample('M').sum()\n",
    "by_month['cumulative_events'] = by_month.events.cumsum()\n",
    "by_month['cumulative_audience'] = by_month.audience.cumsum()\n",
    "by_month.index.name = 'month_ending'\n",
    "by_month.to_csv(os.path.join(OUT_DIR, 'by_month.csv'))"
   ]
  },
  {
   "cell_type": "code",
   "execution_count": 12,
   "id": "4ebb165c",
   "metadata": {
    "execution": {
     "iopub.execute_input": "2023-07-12T19:03:45.952458Z",
     "iopub.status.busy": "2023-07-12T19:03:45.952227Z",
     "iopub.status.idle": "2023-07-12T19:03:45.955112Z",
     "shell.execute_reply": "2023-07-12T19:03:45.954800Z"
    },
    "papermill": {
     "duration": 0.005263,
     "end_time": "2023-07-12T19:03:45.955829",
     "exception": false,
     "start_time": "2023-07-12T19:03:45.950566",
     "status": "completed"
    },
    "tags": []
   },
   "outputs": [],
   "source": [
    "by_month.drop(\n",
    "    columns=['events', 'audience']\n",
    ").rename(\n",
    "    columns=lambda n: n.replace('cumulative', 'total')\n",
    ").iloc[-1].to_json(os.path.join(OUT_DIR, 'headlines.json'))"
   ]
  }
 ],
 "metadata": {
  "kernelspec": {
   "display_name": "leeds-2023-YZF5GfJv",
   "language": "python",
   "name": "python3"
  },
  "language_info": {
   "codemirror_mode": {
    "name": "ipython",
    "version": 3
   },
   "file_extension": ".py",
   "mimetype": "text/x-python",
   "name": "python",
   "nbconvert_exporter": "python",
   "pygments_lexer": "ipython3",
   "version": "3.10.6"
  },
  "papermill": {
   "default_parameters": {},
   "duration": 1.22331,
   "end_time": "2023-07-12T19:03:46.170893",
   "environment_variables": {},
   "exception": null,
   "input_path": "the-barn.ipynb",
   "output_path": "../../../../working/output/the-barn.ipynb",
   "parameters": {},
   "start_time": "2023-07-12T19:03:44.947583",
   "version": "2.4.0"
  }
 },
 "nbformat": 4,
 "nbformat_minor": 5
}