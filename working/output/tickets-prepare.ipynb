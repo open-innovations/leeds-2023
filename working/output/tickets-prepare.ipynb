{
 "cells": [
  {
   "cell_type": "code",
   "execution_count": 1,
   "id": "f09435be",
   "metadata": {
    "execution": {
     "iopub.execute_input": "2023-12-26T23:39:39.440481Z",
     "iopub.status.busy": "2023-12-26T23:39:39.440244Z",
     "iopub.status.idle": "2023-12-26T23:39:39.678665Z",
     "shell.execute_reply": "2023-12-26T23:39:39.677960Z"
    },
    "papermill": {
     "duration": 0.243971,
     "end_time": "2023-12-26T23:39:39.680417",
     "exception": false,
     "start_time": "2023-12-26T23:39:39.436446",
     "status": "completed"
    },
    "tags": []
   },
   "outputs": [],
   "source": [
    "from pathlib import Path\n",
    "import pandas as pd"
   ]
  },
  {
   "cell_type": "markdown",
   "id": "0c9911ff",
   "metadata": {
    "papermill": {
     "duration": 0.002169,
     "end_time": "2023-12-26T23:39:39.685123",
     "exception": false,
     "start_time": "2023-12-26T23:39:39.682954",
     "status": "completed"
    },
    "tags": []
   },
   "source": [
    "Load the orders data which was created in the [transform stage](./tickets.ipynb)."
   ]
  },
  {
   "cell_type": "code",
   "execution_count": 2,
   "id": "2f4d6483",
   "metadata": {
    "execution": {
     "iopub.execute_input": "2023-12-26T23:39:39.690522Z",
     "iopub.status.busy": "2023-12-26T23:39:39.690086Z",
     "iopub.status.idle": "2023-12-26T23:39:39.708328Z",
     "shell.execute_reply": "2023-12-26T23:39:39.707817Z"
    },
    "papermill": {
     "duration": 0.022366,
     "end_time": "2023-12-26T23:39:39.709625",
     "exception": false,
     "start_time": "2023-12-26T23:39:39.687259",
     "status": "completed"
    },
    "tags": []
   },
   "outputs": [],
   "source": [
    "def prepare(data: pd.DataFrame) -> pd.DataFrame:\n",
    "    data = data.loc[\n",
    "        (\n",
    "            data.public_event == True\n",
    "        ) & (\n",
    "            ~data.project_name.isin([\n",
    "                'Skills Development',\n",
    "            ])\n",
    "        )\n",
    "    ]\n",
    "    data = data.drop(columns=['public_event'])\n",
    "    return data\n",
    "\n",
    "\n",
    "orders = pd.read_csv(\n",
    "    '../../../../data/metrics/events/tickets/orders.csv',\n",
    "    usecols=[\n",
    "        'created_at',\n",
    "        'project_name',\n",
    "        'public_event',\n",
    "        'number_of_tickets'\n",
    "    ],\n",
    "    parse_dates=['created_at']\n",
    ").pipe(prepare)"
   ]
  },
  {
   "cell_type": "markdown",
   "id": "db1bb6b6",
   "metadata": {
    "papermill": {
     "duration": 0.002156,
     "end_time": "2023-12-26T23:39:39.714008",
     "exception": false,
     "start_time": "2023-12-26T23:39:39.711852",
     "status": "completed"
    },
    "tags": []
   },
   "source": [
    "Define functions to count and sum tickets, and to append cumulative versions of those."
   ]
  },
  {
   "cell_type": "code",
   "execution_count": 3,
   "id": "c6971542",
   "metadata": {
    "execution": {
     "iopub.execute_input": "2023-12-26T23:39:39.719297Z",
     "iopub.status.busy": "2023-12-26T23:39:39.718935Z",
     "iopub.status.idle": "2023-12-26T23:39:39.722770Z",
     "shell.execute_reply": "2023-12-26T23:39:39.722254Z"
    },
    "papermill": {
     "duration": 0.007893,
     "end_time": "2023-12-26T23:39:39.724024",
     "exception": false,
     "start_time": "2023-12-26T23:39:39.716131",
     "status": "completed"
    },
    "tags": []
   },
   "outputs": [],
   "source": [
    "def count_and_sum(series):\n",
    "    return pd.concat([\n",
    "        series.count().to_frame('orders'),\n",
    "        series.sum().to_frame('tickets'),\n",
    "    ], axis=1)\n",
    "\n",
    "\n",
    "def cumulate(df: pd.DataFrame) -> pd.DataFrame:\n",
    "    return pd.concat([\n",
    "        df,\n",
    "        df.cumsum().rename(columns=lambda x: f'cumulative_{x}')\n",
    "    ], axis=1)"
   ]
  },
  {
   "cell_type": "markdown",
   "id": "460b028d",
   "metadata": {
    "papermill": {
     "duration": 0.002157,
     "end_time": "2023-12-26T23:39:39.728407",
     "exception": false,
     "start_time": "2023-12-26T23:39:39.726250",
     "status": "completed"
    },
    "tags": []
   },
   "source": [
    "Create output directory"
   ]
  },
  {
   "cell_type": "code",
   "execution_count": 4,
   "id": "095c96f3",
   "metadata": {
    "execution": {
     "iopub.execute_input": "2023-12-26T23:39:39.733939Z",
     "iopub.status.busy": "2023-12-26T23:39:39.733404Z",
     "iopub.status.idle": "2023-12-26T23:39:39.736750Z",
     "shell.execute_reply": "2023-12-26T23:39:39.736270Z"
    },
    "papermill": {
     "duration": 0.007368,
     "end_time": "2023-12-26T23:39:39.737971",
     "exception": false,
     "start_time": "2023-12-26T23:39:39.730603",
     "status": "completed"
    },
    "tags": []
   },
   "outputs": [],
   "source": [
    "OUTPUT_DIR = Path('../../../../docs/metrics/tickets/_data/')\n",
    "OUTPUT_DIR.mkdir(parents=True, exist_ok=True)"
   ]
  },
  {
   "cell_type": "markdown",
   "id": "32493a9d",
   "metadata": {
    "papermill": {
     "duration": 0.002172,
     "end_time": "2023-12-26T23:39:39.743067",
     "exception": false,
     "start_time": "2023-12-26T23:39:39.740895",
     "status": "completed"
    },
    "tags": []
   },
   "source": [
    "Count / sum the orders and tickets by project code and save to a JSON file"
   ]
  },
  {
   "cell_type": "code",
   "execution_count": 5,
   "id": "f5ecce55",
   "metadata": {
    "execution": {
     "iopub.execute_input": "2023-12-26T23:39:39.748436Z",
     "iopub.status.busy": "2023-12-26T23:39:39.748081Z",
     "iopub.status.idle": "2023-12-26T23:39:39.754175Z",
     "shell.execute_reply": "2023-12-26T23:39:39.753624Z"
    },
    "papermill": {
     "duration": 0.010256,
     "end_time": "2023-12-26T23:39:39.755498",
     "exception": false,
     "start_time": "2023-12-26T23:39:39.745242",
     "status": "completed"
    },
    "tags": []
   },
   "outputs": [],
   "source": [
    "by_project = orders.groupby('project_name').number_of_tickets.pipe(count_and_sum)\n",
    "by_project.loc['total']= by_project.sum()\n",
    "by_project.T.to_json(\n",
    "  OUTPUT_DIR.joinpath('headlines.json'),\n",
    "  indent=2\n",
    ")"
   ]
  },
  {
   "cell_type": "markdown",
   "id": "027b4e8b",
   "metadata": {
    "papermill": {
     "duration": 0.002274,
     "end_time": "2023-12-26T23:39:39.760017",
     "exception": false,
     "start_time": "2023-12-26T23:39:39.757743",
     "status": "completed"
    },
    "tags": []
   },
   "source": [
    "Add `day` column"
   ]
  },
  {
   "cell_type": "code",
   "execution_count": 6,
   "id": "121cc60f",
   "metadata": {
    "execution": {
     "iopub.execute_input": "2023-12-26T23:39:39.765392Z",
     "iopub.status.busy": "2023-12-26T23:39:39.765038Z",
     "iopub.status.idle": "2023-12-26T23:39:39.768722Z",
     "shell.execute_reply": "2023-12-26T23:39:39.768199Z"
    },
    "papermill": {
     "duration": 0.00779,
     "end_time": "2023-12-26T23:39:39.769993",
     "exception": false,
     "start_time": "2023-12-26T23:39:39.762203",
     "status": "completed"
    },
    "tags": []
   },
   "outputs": [],
   "source": [
    "orders['day'] = orders.created_at.dt.floor('D')"
   ]
  },
  {
   "cell_type": "code",
   "execution_count": 7,
   "id": "50862a25",
   "metadata": {
    "execution": {
     "iopub.execute_input": "2023-12-26T23:39:39.775529Z",
     "iopub.status.busy": "2023-12-26T23:39:39.775200Z",
     "iopub.status.idle": "2023-12-26T23:39:39.784259Z",
     "shell.execute_reply": "2023-12-26T23:39:39.783730Z"
    },
    "papermill": {
     "duration": 0.013204,
     "end_time": "2023-12-26T23:39:39.785502",
     "exception": false,
     "start_time": "2023-12-26T23:39:39.772298",
     "status": "completed"
    },
    "tags": []
   },
   "outputs": [
    {
     "data": {
      "text/html": [
       "<div>\n",
       "<style scoped>\n",
       "    .dataframe tbody tr th:only-of-type {\n",
       "        vertical-align: middle;\n",
       "    }\n",
       "\n",
       "    .dataframe tbody tr th {\n",
       "        vertical-align: top;\n",
       "    }\n",
       "\n",
       "    .dataframe thead th {\n",
       "        text-align: right;\n",
       "    }\n",
       "</style>\n",
       "<table border=\"1\" class=\"dataframe\">\n",
       "  <thead>\n",
       "    <tr style=\"text-align: right;\">\n",
       "      <th></th>\n",
       "      <th>created_at</th>\n",
       "      <th>day</th>\n",
       "    </tr>\n",
       "  </thead>\n",
       "  <tbody>\n",
       "    <tr>\n",
       "      <th>176</th>\n",
       "      <td>2023-03-30 16:58:03</td>\n",
       "      <td>2023-03-30</td>\n",
       "    </tr>\n",
       "    <tr>\n",
       "      <th>177</th>\n",
       "      <td>2023-03-30 18:44:08</td>\n",
       "      <td>2023-03-30</td>\n",
       "    </tr>\n",
       "    <tr>\n",
       "      <th>180</th>\n",
       "      <td>2023-03-30 20:32:43</td>\n",
       "      <td>2023-03-30</td>\n",
       "    </tr>\n",
       "    <tr>\n",
       "      <th>181</th>\n",
       "      <td>2023-03-30 21:27:59</td>\n",
       "      <td>2023-03-30</td>\n",
       "    </tr>\n",
       "    <tr>\n",
       "      <th>183</th>\n",
       "      <td>2023-03-30 22:56:31</td>\n",
       "      <td>2023-03-30</td>\n",
       "    </tr>\n",
       "  </tbody>\n",
       "</table>\n",
       "</div>"
      ],
      "text/plain": [
       "             created_at        day\n",
       "176 2023-03-30 16:58:03 2023-03-30\n",
       "177 2023-03-30 18:44:08 2023-03-30\n",
       "180 2023-03-30 20:32:43 2023-03-30\n",
       "181 2023-03-30 21:27:59 2023-03-30\n",
       "183 2023-03-30 22:56:31 2023-03-30"
      ]
     },
     "execution_count": 7,
     "metadata": {},
     "output_type": "execute_result"
    }
   ],
   "source": [
    "orders.loc[:, ['created_at', 'day']].head()"
   ]
  },
  {
   "cell_type": "markdown",
   "id": "69ae814c",
   "metadata": {
    "papermill": {
     "duration": 0.002412,
     "end_time": "2023-12-26T23:39:39.790624",
     "exception": false,
     "start_time": "2023-12-26T23:39:39.788212",
     "status": "completed"
    },
    "tags": []
   },
   "source": [
    "Save table cumulative weekly per project"
   ]
  },
  {
   "cell_type": "code",
   "execution_count": 8,
   "id": "3d85d60b",
   "metadata": {
    "execution": {
     "iopub.execute_input": "2023-12-26T23:39:39.796444Z",
     "iopub.status.busy": "2023-12-26T23:39:39.796153Z",
     "iopub.status.idle": "2023-12-26T23:39:39.806087Z",
     "shell.execute_reply": "2023-12-26T23:39:39.805596Z"
    },
    "papermill": {
     "duration": 0.014349,
     "end_time": "2023-12-26T23:39:39.807387",
     "exception": false,
     "start_time": "2023-12-26T23:39:39.793038",
     "status": "completed"
    },
    "tags": []
   },
   "outputs": [],
   "source": [
    "orders.groupby(\n",
    "  ['day', 'project_name']\n",
    ").number_of_tickets.pipe(\n",
    "  count_and_sum\n",
    ").tickets.unstack().fillna(0).resample('W-FRI').sum().cumsum().rename_axis('week').to_csv(\n",
    "  OUTPUT_DIR.joinpath('by_project_cumulative_weekly.csv')\n",
    ")"
   ]
  },
  {
   "cell_type": "markdown",
   "id": "5ce0ceee",
   "metadata": {
    "papermill": {
     "duration": 0.002439,
     "end_time": "2023-12-26T23:39:39.812348",
     "exception": false,
     "start_time": "2023-12-26T23:39:39.809909",
     "status": "completed"
    },
    "tags": []
   },
   "source": [
    "Save cumulative monthly sales"
   ]
  },
  {
   "cell_type": "code",
   "execution_count": 9,
   "id": "a2df5d88",
   "metadata": {
    "execution": {
     "iopub.execute_input": "2023-12-26T23:39:39.818003Z",
     "iopub.status.busy": "2023-12-26T23:39:39.817774Z",
     "iopub.status.idle": "2023-12-26T23:39:39.824814Z",
     "shell.execute_reply": "2023-12-26T23:39:39.824334Z"
    },
    "papermill": {
     "duration": 0.011364,
     "end_time": "2023-12-26T23:39:39.826070",
     "exception": false,
     "start_time": "2023-12-26T23:39:39.814706",
     "status": "completed"
    },
    "tags": []
   },
   "outputs": [],
   "source": [
    "orders.groupby(['day']).number_of_tickets.pipe(count_and_sum).resample('MS').sum().pipe(cumulate).rename_axis('month').to_csv(\n",
    "  OUTPUT_DIR.joinpath('monthly_cumulative.csv')\n",
    ")"
   ]
  },
  {
   "cell_type": "code",
   "execution_count": null,
   "id": "ab3077af",
   "metadata": {
    "papermill": {
     "duration": 0.002529,
     "end_time": "2023-12-26T23:39:39.831208",
     "exception": false,
     "start_time": "2023-12-26T23:39:39.828679",
     "status": "completed"
    },
    "tags": []
   },
   "outputs": [],
   "source": []
  }
 ],
 "metadata": {
  "kernelspec": {
   "display_name": "leeds-2023-YZF5GfJv",
   "language": "python",
   "name": "python3"
  },
  "language_info": {
   "codemirror_mode": {
    "name": "ipython",
    "version": 3
   },
   "file_extension": ".py",
   "mimetype": "text/x-python",
   "name": "python",
   "nbconvert_exporter": "python",
   "pygments_lexer": "ipython3",
   "version": "3.10.13"
  },
  "papermill": {
   "default_parameters": {},
   "duration": 1.856534,
   "end_time": "2023-12-26T23:39:40.050928",
   "environment_variables": {},
   "exception": null,
   "input_path": "prepare.ipynb",
   "output_path": "../../../../working/output/tickets-prepare.ipynb",
   "parameters": {},
   "start_time": "2023-12-26T23:39:38.194394",
   "version": "2.4.0"
  }
 },
 "nbformat": 4,
 "nbformat_minor": 5
}