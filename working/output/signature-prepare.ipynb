{
 "cells": [
  {
   "cell_type": "code",
   "execution_count": 1,
   "id": "285c3578",
   "metadata": {
    "execution": {
     "iopub.execute_input": "2023-07-28T23:39:21.428307Z",
     "iopub.status.busy": "2023-07-28T23:39:21.427823Z",
     "iopub.status.idle": "2023-07-28T23:39:31.239770Z",
     "shell.execute_reply": "2023-07-28T23:39:31.238878Z"
    },
    "papermill": {
     "duration": 9.818565,
     "end_time": "2023-07-28T23:39:31.241944",
     "exception": false,
     "start_time": "2023-07-28T23:39:21.423379",
     "status": "completed"
    },
    "tags": []
   },
   "outputs": [],
   "source": [
    "import os\n",
    "import pandas as pd\n",
    "from events import load_event_data, get_first_ward, normalise_ward"
   ]
  },
  {
   "cell_type": "code",
   "execution_count": 2,
   "id": "1e6e8c77",
   "metadata": {
    "execution": {
     "iopub.execute_input": "2023-07-28T23:39:31.248218Z",
     "iopub.status.busy": "2023-07-28T23:39:31.247848Z",
     "iopub.status.idle": "2023-07-28T23:39:31.251618Z",
     "shell.execute_reply": "2023-07-28T23:39:31.251019Z"
    },
    "papermill": {
     "duration": 0.008538,
     "end_time": "2023-07-28T23:39:31.253178",
     "exception": false,
     "start_time": "2023-07-28T23:39:31.244640",
     "status": "completed"
    },
    "tags": []
   },
   "outputs": [],
   "source": [
    "latest_date = pd.Timestamp.today().ceil('D')"
   ]
  },
  {
   "cell_type": "code",
   "execution_count": 3,
   "id": "489002cf",
   "metadata": {
    "execution": {
     "iopub.execute_input": "2023-07-28T23:39:31.258334Z",
     "iopub.status.busy": "2023-07-28T23:39:31.257759Z",
     "iopub.status.idle": "2023-07-28T23:39:31.272442Z",
     "shell.execute_reply": "2023-07-28T23:39:31.271897Z"
    },
    "papermill": {
     "duration": 0.018886,
     "end_time": "2023-07-28T23:39:31.273988",
     "exception": false,
     "start_time": "2023-07-28T23:39:31.255102",
     "status": "completed"
    },
    "tags": []
   },
   "outputs": [],
   "source": [
    "tickets = pd.read_csv('../../../../data/metrics/events/tickets/orders.csv', parse_dates=['created_at', 'event_date'])\n",
    "tickets = tickets[tickets.event_date <= latest_date]"
   ]
  },
  {
   "cell_type": "code",
   "execution_count": 4,
   "id": "cf2022ab",
   "metadata": {
    "execution": {
     "iopub.execute_input": "2023-07-28T23:39:31.279103Z",
     "iopub.status.busy": "2023-07-28T23:39:31.278534Z",
     "iopub.status.idle": "2023-07-28T23:39:31.424367Z",
     "shell.execute_reply": "2023-07-28T23:39:31.423450Z"
    },
    "papermill": {
     "duration": 0.154757,
     "end_time": "2023-07-28T23:39:31.430669",
     "exception": false,
     "start_time": "2023-07-28T23:39:31.275912",
     "status": "completed"
    },
    "tags": []
   },
   "outputs": [],
   "source": [
    "events = load_event_data()\n",
    "\n",
    "events = pd.concat([\n",
    "  events,\n",
    "  events.pipe(get_first_ward).pipe(normalise_ward).fillna('UNKNOWN'),\n",
    "  pd.Series(\n",
    "      events.actual_audience_size_number_of_participants_in_person + events.actual_audience_size_number_of_participants_online,\n",
    "      name='attendances'\n",
    "  )\n",
    "], axis=1).rename(columns={\n",
    "    'start_date': 'date'\n",
    "}).loc[:, ['ward_code', 'date', 'event_unique_identifier', 'attendances']]"
   ]
  },
  {
   "cell_type": "code",
   "execution_count": 5,
   "id": "c8b1fc4c",
   "metadata": {
    "execution": {
     "iopub.execute_input": "2023-07-28T23:39:31.436465Z",
     "iopub.status.busy": "2023-07-28T23:39:31.436008Z",
     "iopub.status.idle": "2023-07-28T23:39:31.439362Z",
     "shell.execute_reply": "2023-07-28T23:39:31.438720Z"
    },
    "papermill": {
     "duration": 0.007898,
     "end_time": "2023-07-28T23:39:31.440979",
     "exception": false,
     "start_time": "2023-07-28T23:39:31.433081",
     "status": "completed"
    },
    "tags": []
   },
   "outputs": [],
   "source": [
    "OUTPUT_DIR='../../../../docs/metrics/events/signature/_data/'\n",
    "os.makedirs(OUTPUT_DIR, exist_ok=True)"
   ]
  },
  {
   "cell_type": "markdown",
   "id": "df405a79",
   "metadata": {
    "papermill": {
     "duration": 0.002025,
     "end_time": "2023-07-28T23:39:31.445017",
     "exception": false,
     "start_time": "2023-07-28T23:39:31.442992",
     "status": "completed"
    },
    "tags": []
   },
   "source": [
    "Events CSVs"
   ]
  },
  {
   "cell_type": "code",
   "execution_count": 6,
   "id": "e09252af",
   "metadata": {
    "execution": {
     "iopub.execute_input": "2023-07-28T23:39:31.450274Z",
     "iopub.status.busy": "2023-07-28T23:39:31.449702Z",
     "iopub.status.idle": "2023-07-28T23:39:31.457007Z",
     "shell.execute_reply": "2023-07-28T23:39:31.456479Z"
    },
    "papermill": {
     "duration": 0.011381,
     "end_time": "2023-07-28T23:39:31.458414",
     "exception": false,
     "start_time": "2023-07-28T23:39:31.447033",
     "status": "completed"
    },
    "tags": []
   },
   "outputs": [],
   "source": [
    "pd.DataFrame({\n",
    "  'events': events.groupby('ward_code').event_unique_identifier.count(),\n",
    "  'attendances': events.groupby('ward_code').attendances.sum().astype(int),\n",
    "}).to_csv(os.path.join(OUTPUT_DIR, 'events_by_ward.csv'))\n"
   ]
  },
  {
   "cell_type": "code",
   "execution_count": 7,
   "id": "77229500",
   "metadata": {
    "execution": {
     "iopub.execute_input": "2023-07-28T23:39:31.463940Z",
     "iopub.status.busy": "2023-07-28T23:39:31.463426Z",
     "iopub.status.idle": "2023-07-28T23:39:31.473324Z",
     "shell.execute_reply": "2023-07-28T23:39:31.472770Z"
    },
    "papermill": {
     "duration": 0.014332,
     "end_time": "2023-07-28T23:39:31.474776",
     "exception": false,
     "start_time": "2023-07-28T23:39:31.460444",
     "status": "completed"
    },
    "tags": []
   },
   "outputs": [],
   "source": [
    "pd.DataFrame({\n",
    "  'events': events.groupby('date').event_unique_identifier.count(),\n",
    "  'attendances': events.groupby('date').attendances.sum().astype(int),\n",
    "}).resample('M').sum().astype(int).to_csv(os.path.join(OUTPUT_DIR, 'events_by_date.csv'))"
   ]
  },
  {
   "cell_type": "markdown",
   "id": "91944be4",
   "metadata": {
    "papermill": {
     "duration": 0.002118,
     "end_time": "2023-07-28T23:39:31.478949",
     "exception": false,
     "start_time": "2023-07-28T23:39:31.476831",
     "status": "completed"
    },
    "tags": []
   },
   "source": [
    "Tickets CSV"
   ]
  },
  {
   "cell_type": "code",
   "execution_count": 8,
   "id": "0b438f50",
   "metadata": {
    "execution": {
     "iopub.execute_input": "2023-07-28T23:39:31.484197Z",
     "iopub.status.busy": "2023-07-28T23:39:31.483799Z",
     "iopub.status.idle": "2023-07-28T23:39:31.490404Z",
     "shell.execute_reply": "2023-07-28T23:39:31.489407Z"
    },
    "papermill": {
     "duration": 0.010804,
     "end_time": "2023-07-28T23:39:31.491824",
     "exception": false,
     "start_time": "2023-07-28T23:39:31.481020",
     "status": "completed"
    },
    "tags": []
   },
   "outputs": [],
   "source": [
    "pd.DataFrame({\n",
    "  'orders': tickets.groupby('ward_code').number_of_tickets.count(),\n",
    "  'tickets': tickets.groupby('ward_code').number_of_tickets.sum().astype(int),\n",
    "}).to_csv(os.path.join(OUTPUT_DIR, 'tickets_by_ward.csv'))"
   ]
  },
  {
   "cell_type": "code",
   "execution_count": 9,
   "id": "496d4efd",
   "metadata": {
    "execution": {
     "iopub.execute_input": "2023-07-28T23:39:31.497093Z",
     "iopub.status.busy": "2023-07-28T23:39:31.496701Z",
     "iopub.status.idle": "2023-07-28T23:39:31.504439Z",
     "shell.execute_reply": "2023-07-28T23:39:31.503438Z"
    },
    "papermill": {
     "duration": 0.0119,
     "end_time": "2023-07-28T23:39:31.505817",
     "exception": false,
     "start_time": "2023-07-28T23:39:31.493917",
     "status": "completed"
    },
    "tags": []
   },
   "outputs": [],
   "source": [
    "pd.DataFrame({\n",
    "  'orders': tickets.groupby('event_date').number_of_tickets.count(),\n",
    "  'tickets': tickets.groupby('event_date').number_of_tickets.sum().astype(int),\n",
    "}).resample('M').sum().to_csv(os.path.join(OUTPUT_DIR, 'tickets_by_event_date.csv'))"
   ]
  },
  {
   "cell_type": "code",
   "execution_count": 10,
   "id": "aa1119ea",
   "metadata": {
    "execution": {
     "iopub.execute_input": "2023-07-28T23:39:31.512082Z",
     "iopub.status.busy": "2023-07-28T23:39:31.511689Z",
     "iopub.status.idle": "2023-07-28T23:39:31.516437Z",
     "shell.execute_reply": "2023-07-28T23:39:31.515845Z"
    },
    "papermill": {
     "duration": 0.009938,
     "end_time": "2023-07-28T23:39:31.517849",
     "exception": false,
     "start_time": "2023-07-28T23:39:31.507911",
     "status": "completed"
    },
    "tags": []
   },
   "outputs": [],
   "source": [
    "pd.Series({\n",
    "    'total_events': events.event_unique_identifier.count(),\n",
    "    'total_attendances': events.attendances.count(),\n",
    "    'first_event': events.date.min(),\n",
    "    'latest_event': events.date.max(),\n",
    "    'total_ticket_orders_for_events_to_date': tickets.number_of_tickets.count(),\n",
    "    'total_tickets_sold_for_events_to_date': tickets.number_of_tickets.sum(),\n",
    "}).to_json(os.path.join(OUTPUT_DIR, 'headlines.json'), indent=2)"
   ]
  },
  {
   "cell_type": "code",
   "execution_count": null,
   "id": "6bb2c771",
   "metadata": {
    "papermill": {
     "duration": 0.002117,
     "end_time": "2023-07-28T23:39:31.522088",
     "exception": false,
     "start_time": "2023-07-28T23:39:31.519971",
     "status": "completed"
    },
    "tags": []
   },
   "outputs": [],
   "source": []
  }
 ],
 "metadata": {
  "kernelspec": {
   "display_name": "leeds-2023-YZF5GfJv",
   "language": "python",
   "name": "python3"
  },
  "language_info": {
   "codemirror_mode": {
    "name": "ipython",
    "version": 3
   },
   "file_extension": ".py",
   "mimetype": "text/x-python",
   "name": "python",
   "nbconvert_exporter": "python",
   "pygments_lexer": "ipython3",
   "version": "3.10.6"
  },
  "papermill": {
   "default_parameters": {},
   "duration": 11.802333,
   "end_time": "2023-07-28T23:39:31.841227",
   "environment_variables": {},
   "exception": null,
   "input_path": "prepare.ipynb",
   "output_path": "../../../../working/output/signature-prepare.ipynb",
   "parameters": {},
   "start_time": "2023-07-28T23:39:20.038894",
   "version": "2.4.0"
  }
 },
 "nbformat": 4,
 "nbformat_minor": 5
}