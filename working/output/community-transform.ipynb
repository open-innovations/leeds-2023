{
 "cells": [
  {
   "cell_type": "code",
   "execution_count": 1,
   "id": "8e60342f",
   "metadata": {
    "execution": {
     "iopub.execute_input": "2023-08-03T23:38:00.298479Z",
     "iopub.status.busy": "2023-08-03T23:38:00.297969Z",
     "iopub.status.idle": "2023-08-03T23:38:00.304846Z",
     "shell.execute_reply": "2023-08-03T23:38:00.304231Z"
    },
    "papermill": {
     "duration": 0.011959,
     "end_time": "2023-08-03T23:38:00.306262",
     "exception": false,
     "start_time": "2023-08-03T23:38:00.294303",
     "status": "completed"
    },
    "tags": []
   },
   "outputs": [],
   "source": [
    "import os\n",
    "import sys\n",
    "\n",
    "TOP_DIR=os.path.realpath(\"../../..\")\n",
    "if TOP_DIR not in sys.path: sys.path.append(TOP_DIR)"
   ]
  },
  {
   "cell_type": "code",
   "execution_count": 2,
   "id": "56f6a3f1",
   "metadata": {
    "execution": {
     "iopub.execute_input": "2023-08-03T23:38:00.311454Z",
     "iopub.status.busy": "2023-08-03T23:38:00.310875Z",
     "iopub.status.idle": "2023-08-03T23:38:08.931403Z",
     "shell.execute_reply": "2023-08-03T23:38:08.930761Z"
    },
    "papermill": {
     "duration": 8.624833,
     "end_time": "2023-08-03T23:38:08.933183",
     "exception": false,
     "start_time": "2023-08-03T23:38:00.308350",
     "status": "completed"
    },
    "tags": []
   },
   "outputs": [],
   "source": [
    "import pandas as pd\n",
    "import numpy as np\n",
    "from lib.util.convert import standardise_columns, literal_converter\n",
    "from lib.util.geo import normalise_leeds_wards, ward_name_to_code"
   ]
  },
  {
   "cell_type": "code",
   "execution_count": 3,
   "id": "5158da2c",
   "metadata": {
    "execution": {
     "iopub.execute_input": "2023-08-03T23:38:08.938675Z",
     "iopub.status.busy": "2023-08-03T23:38:08.938080Z",
     "iopub.status.idle": "2023-08-03T23:38:08.957775Z",
     "shell.execute_reply": "2023-08-03T23:38:08.957182Z"
    },
    "papermill": {
     "duration": 0.023924,
     "end_time": "2023-08-03T23:38:08.959208",
     "exception": false,
     "start_time": "2023-08-03T23:38:08.935284",
     "status": "completed"
    },
    "tags": []
   },
   "outputs": [],
   "source": [
    "data = pd.read_csv('../../../working/metrics/community/events.csv', parse_dates=['Start date'])\n",
    "data = data.rename(columns=standardise_columns)"
   ]
  },
  {
   "cell_type": "code",
   "execution_count": 4,
   "id": "468d508a",
   "metadata": {
    "execution": {
     "iopub.execute_input": "2023-08-03T23:38:08.964290Z",
     "iopub.status.busy": "2023-08-03T23:38:08.963825Z",
     "iopub.status.idle": "2023-08-03T23:38:08.972749Z",
     "shell.execute_reply": "2023-08-03T23:38:08.972146Z"
    },
    "papermill": {
     "duration": 0.012985,
     "end_time": "2023-08-03T23:38:08.974205",
     "exception": false,
     "start_time": "2023-08-03T23:38:08.961220",
     "status": "completed"
    },
    "tags": []
   },
   "outputs": [],
   "source": [
    "wards = data['ward_(from_venue)'].fillna('[]').pipe(literal_converter).apply(np.unique)"
   ]
  },
  {
   "cell_type": "code",
   "execution_count": 5,
   "id": "c2c01775",
   "metadata": {
    "execution": {
     "iopub.execute_input": "2023-08-03T23:38:08.979155Z",
     "iopub.status.busy": "2023-08-03T23:38:08.978663Z",
     "iopub.status.idle": "2023-08-03T23:38:09.274763Z",
     "shell.execute_reply": "2023-08-03T23:38:09.274168Z"
    },
    "papermill": {
     "duration": 0.300425,
     "end_time": "2023-08-03T23:38:09.276504",
     "exception": false,
     "start_time": "2023-08-03T23:38:08.976079",
     "status": "completed"
    },
    "tags": []
   },
   "outputs": [],
   "source": [
    "data['ward_name'] = wards.apply(lambda x: x[0] if len(x) > 0 else np.nan).pipe(normalise_leeds_wards)\n",
    "data['ward_code'] = data.ward_name.pipe(ward_name_to_code)\n",
    "data['audience'] = data.actual_audience_size_number_of_participants_in_person\n",
    "cleaned_data = data.loc[:, ['event_name', 'project_name', 'start_date', 'ward_name', 'ward_code', 'audience']]"
   ]
  },
  {
   "cell_type": "code",
   "execution_count": 6,
   "id": "50c8d885",
   "metadata": {
    "execution": {
     "iopub.execute_input": "2023-08-03T23:38:09.282413Z",
     "iopub.status.busy": "2023-08-03T23:38:09.282049Z",
     "iopub.status.idle": "2023-08-03T23:38:09.289595Z",
     "shell.execute_reply": "2023-08-03T23:38:09.289018Z"
    },
    "papermill": {
     "duration": 0.01195,
     "end_time": "2023-08-03T23:38:09.291035",
     "exception": false,
     "start_time": "2023-08-03T23:38:09.279085",
     "status": "completed"
    },
    "tags": []
   },
   "outputs": [],
   "source": [
    "DATA_DIR='../../../data/metrics/community'\n",
    "os.makedirs(DATA_DIR, exist_ok=True)\n",
    "cleaned_data.to_csv(os.path.join(DATA_DIR, 'events.csv'), index=False)"
   ]
  },
  {
   "cell_type": "markdown",
   "id": "05c59b7b",
   "metadata": {
    "papermill": {
     "duration": 0.001858,
     "end_time": "2023-08-03T23:38:09.294986",
     "exception": false,
     "start_time": "2023-08-03T23:38:09.293128",
     "status": "completed"
    },
    "tags": []
   },
   "source": [
    "Missing or duplicated wards"
   ]
  },
  {
   "cell_type": "code",
   "execution_count": 7,
   "id": "7e9f81d5",
   "metadata": {
    "execution": {
     "iopub.execute_input": "2023-08-03T23:38:09.300214Z",
     "iopub.status.busy": "2023-08-03T23:38:09.299568Z",
     "iopub.status.idle": "2023-08-03T23:38:09.314562Z",
     "shell.execute_reply": "2023-08-03T23:38:09.313931Z"
    },
    "papermill": {
     "duration": 0.020614,
     "end_time": "2023-08-03T23:38:09.317516",
     "exception": false,
     "start_time": "2023-08-03T23:38:09.296902",
     "status": "completed"
    },
    "tags": []
   },
   "outputs": [
    {
     "data": {
      "text/html": [
       "<div>\n",
       "<style scoped>\n",
       "    .dataframe tbody tr th:only-of-type {\n",
       "        vertical-align: middle;\n",
       "    }\n",
       "\n",
       "    .dataframe tbody tr th {\n",
       "        vertical-align: top;\n",
       "    }\n",
       "\n",
       "    .dataframe thead th {\n",
       "        text-align: right;\n",
       "    }\n",
       "</style>\n",
       "<table border=\"1\" class=\"dataframe\">\n",
       "  <thead>\n",
       "    <tr style=\"text-align: right;\">\n",
       "      <th></th>\n",
       "      <th>project_name</th>\n",
       "      <th>event_name</th>\n",
       "      <th>start_date</th>\n",
       "      <th>ward_(from_venue)</th>\n",
       "    </tr>\n",
       "  </thead>\n",
       "  <tbody>\n",
       "    <tr>\n",
       "      <th>49</th>\n",
       "      <td>01 - The Awakening</td>\n",
       "      <td>Creation Station - Leeds City Council</td>\n",
       "      <td>2022-11-23</td>\n",
       "      <td>NaN</td>\n",
       "    </tr>\n",
       "    <tr>\n",
       "      <th>50</th>\n",
       "      <td>01 - The Awakening</td>\n",
       "      <td>Creation Station - Leeds City Council</td>\n",
       "      <td>2022-11-24</td>\n",
       "      <td>NaN</td>\n",
       "    </tr>\n",
       "    <tr>\n",
       "      <th>64</th>\n",
       "      <td>01 - The Awakening</td>\n",
       "      <td>Creation Station - Yorkshire Schools Dance Fes...</td>\n",
       "      <td>2022-11-19</td>\n",
       "      <td>NaN</td>\n",
       "    </tr>\n",
       "    <tr>\n",
       "      <th>66</th>\n",
       "      <td>01 - The Awakening</td>\n",
       "      <td>Mass Movement Rehearsals</td>\n",
       "      <td>2023-01-05</td>\n",
       "      <td>NaN</td>\n",
       "    </tr>\n",
       "    <tr>\n",
       "      <th>67</th>\n",
       "      <td>01 - The Awakening</td>\n",
       "      <td>Waking the Artist in Communities</td>\n",
       "      <td>2023-02-06</td>\n",
       "      <td>NaN</td>\n",
       "    </tr>\n",
       "    <tr>\n",
       "      <th>...</th>\n",
       "      <td>...</td>\n",
       "      <td>...</td>\n",
       "      <td>...</td>\n",
       "      <td>...</td>\n",
       "    </tr>\n",
       "    <tr>\n",
       "      <th>249</th>\n",
       "      <td>Waking the Artist</td>\n",
       "      <td>Spring Gardens Pack</td>\n",
       "      <td>2023-03-23</td>\n",
       "      <td>NaN</td>\n",
       "    </tr>\n",
       "    <tr>\n",
       "      <th>250</th>\n",
       "      <td>Waking the Artist</td>\n",
       "      <td>The Den Headingley Pack</td>\n",
       "      <td>2023-02-13</td>\n",
       "      <td>NaN</td>\n",
       "    </tr>\n",
       "    <tr>\n",
       "      <th>251</th>\n",
       "      <td>Waking the Artist</td>\n",
       "      <td>Turning Lives Around Pack</td>\n",
       "      <td>2023-02-22</td>\n",
       "      <td>NaN</td>\n",
       "    </tr>\n",
       "    <tr>\n",
       "      <th>253</th>\n",
       "      <td>Waking the Artist</td>\n",
       "      <td>Wetherby Town Hall Pack</td>\n",
       "      <td>2023-02-25</td>\n",
       "      <td>NaN</td>\n",
       "    </tr>\n",
       "    <tr>\n",
       "      <th>254</th>\n",
       "      <td>Waking the Artist</td>\n",
       "      <td>Who Let The Dads Out Fulneck Moravian Church Pack</td>\n",
       "      <td>2023-02-22</td>\n",
       "      <td>NaN</td>\n",
       "    </tr>\n",
       "  </tbody>\n",
       "</table>\n",
       "<p>67 rows × 4 columns</p>\n",
       "</div>"
      ],
      "text/plain": [
       "           project_name                                         event_name  \\\n",
       "49   01 - The Awakening             Creation Station - Leeds City Council    \n",
       "50   01 - The Awakening             Creation Station - Leeds City Council    \n",
       "64   01 - The Awakening  Creation Station - Yorkshire Schools Dance Fes...   \n",
       "66   01 - The Awakening                           Mass Movement Rehearsals   \n",
       "67   01 - The Awakening                  Waking the Artist in Communities    \n",
       "..                  ...                                                ...   \n",
       "249   Waking the Artist                                Spring Gardens Pack   \n",
       "250   Waking the Artist                            The Den Headingley Pack   \n",
       "251   Waking the Artist                          Turning Lives Around Pack   \n",
       "253   Waking the Artist                            Wetherby Town Hall Pack   \n",
       "254   Waking the Artist  Who Let The Dads Out Fulneck Moravian Church Pack   \n",
       "\n",
       "    start_date ward_(from_venue)  \n",
       "49  2022-11-23               NaN  \n",
       "50  2022-11-24               NaN  \n",
       "64  2022-11-19               NaN  \n",
       "66  2023-01-05               NaN  \n",
       "67  2023-02-06               NaN  \n",
       "..         ...               ...  \n",
       "249 2023-03-23               NaN  \n",
       "250 2023-02-13               NaN  \n",
       "251 2023-02-22               NaN  \n",
       "253 2023-02-25               NaN  \n",
       "254 2023-02-22               NaN  \n",
       "\n",
       "[67 rows x 4 columns]"
      ]
     },
     "execution_count": 7,
     "metadata": {},
     "output_type": "execute_result"
    }
   ],
   "source": [
    "data.loc[wards.apply(len) != 1, ['project_name', 'event_name', 'start_date', 'ward_(from_venue)']]"
   ]
  },
  {
   "cell_type": "markdown",
   "id": "cbaaa768",
   "metadata": {
    "papermill": {
     "duration": 0.002178,
     "end_time": "2023-08-03T23:38:09.322144",
     "exception": false,
     "start_time": "2023-08-03T23:38:09.319966",
     "status": "completed"
    },
    "tags": []
   },
   "source": [
    "Missing audience"
   ]
  },
  {
   "cell_type": "code",
   "execution_count": 8,
   "id": "16a76bf6",
   "metadata": {
    "execution": {
     "iopub.execute_input": "2023-08-03T23:38:09.327627Z",
     "iopub.status.busy": "2023-08-03T23:38:09.327236Z",
     "iopub.status.idle": "2023-08-03T23:38:09.338725Z",
     "shell.execute_reply": "2023-08-03T23:38:09.338093Z"
    },
    "papermill": {
     "duration": 0.016507,
     "end_time": "2023-08-03T23:38:09.340809",
     "exception": false,
     "start_time": "2023-08-03T23:38:09.324302",
     "status": "completed"
    },
    "tags": []
   },
   "outputs": [
    {
     "data": {
      "text/html": [
       "<div>\n",
       "<style scoped>\n",
       "    .dataframe tbody tr th:only-of-type {\n",
       "        vertical-align: middle;\n",
       "    }\n",
       "\n",
       "    .dataframe tbody tr th {\n",
       "        vertical-align: top;\n",
       "    }\n",
       "\n",
       "    .dataframe thead th {\n",
       "        text-align: right;\n",
       "    }\n",
       "</style>\n",
       "<table border=\"1\" class=\"dataframe\">\n",
       "  <thead>\n",
       "    <tr style=\"text-align: right;\">\n",
       "      <th></th>\n",
       "      <th>project_name</th>\n",
       "      <th>event_name</th>\n",
       "      <th>start_date</th>\n",
       "      <th>audience</th>\n",
       "    </tr>\n",
       "  </thead>\n",
       "  <tbody>\n",
       "    <tr>\n",
       "      <th>0</th>\n",
       "      <td>01 - The Awakening</td>\n",
       "      <td>Ballot Facilitated Session - Carr Manor Commun...</td>\n",
       "      <td>2022-11-01</td>\n",
       "      <td>NaN</td>\n",
       "    </tr>\n",
       "    <tr>\n",
       "      <th>1</th>\n",
       "      <td>01 - The Awakening</td>\n",
       "      <td>Ballot Facilitated Session - Chapel Allerton P...</td>\n",
       "      <td>2022-11-07</td>\n",
       "      <td>NaN</td>\n",
       "    </tr>\n",
       "    <tr>\n",
       "      <th>2</th>\n",
       "      <td>01 - The Awakening</td>\n",
       "      <td>Ballot Facilitated Session - Cobden Primary Sc...</td>\n",
       "      <td>2022-11-09</td>\n",
       "      <td>NaN</td>\n",
       "    </tr>\n",
       "    <tr>\n",
       "      <th>3</th>\n",
       "      <td>01 - The Awakening</td>\n",
       "      <td>Ballot Facilitated Session - Cobden Primary Sc...</td>\n",
       "      <td>2022-11-10</td>\n",
       "      <td>NaN</td>\n",
       "    </tr>\n",
       "    <tr>\n",
       "      <th>4</th>\n",
       "      <td>01 - The Awakening</td>\n",
       "      <td>Ballot Facilitated Session - Cobden Primary Sc...</td>\n",
       "      <td>2022-11-18</td>\n",
       "      <td>NaN</td>\n",
       "    </tr>\n",
       "    <tr>\n",
       "      <th>...</th>\n",
       "      <td>...</td>\n",
       "      <td>...</td>\n",
       "      <td>...</td>\n",
       "      <td>...</td>\n",
       "    </tr>\n",
       "    <tr>\n",
       "      <th>213</th>\n",
       "      <td>My World My City My Neighbourhood</td>\n",
       "      <td>Lincoln Greeners - Festival Closing</td>\n",
       "      <td>2023-08-24</td>\n",
       "      <td>NaN</td>\n",
       "    </tr>\n",
       "    <tr>\n",
       "      <th>214</th>\n",
       "      <td>My World My City My Neighbourhood</td>\n",
       "      <td>Lincoln Greeners - Festival Opening</td>\n",
       "      <td>2023-05-21</td>\n",
       "      <td>NaN</td>\n",
       "    </tr>\n",
       "    <tr>\n",
       "      <th>215</th>\n",
       "      <td>My World My City My Neighbourhood</td>\n",
       "      <td>Stand and Be Counted Round Table</td>\n",
       "      <td>2023-04-24</td>\n",
       "      <td>NaN</td>\n",
       "    </tr>\n",
       "    <tr>\n",
       "      <th>216</th>\n",
       "      <td>My World My City My Neighbourhood</td>\n",
       "      <td>The Ginnel</td>\n",
       "      <td>2023-10-13</td>\n",
       "      <td>NaN</td>\n",
       "    </tr>\n",
       "    <tr>\n",
       "      <th>217</th>\n",
       "      <td>My World My City My Neighbourhood</td>\n",
       "      <td>The Path Between</td>\n",
       "      <td>2023-10-14</td>\n",
       "      <td>NaN</td>\n",
       "    </tr>\n",
       "  </tbody>\n",
       "</table>\n",
       "<p>168 rows × 4 columns</p>\n",
       "</div>"
      ],
      "text/plain": [
       "                          project_name  \\\n",
       "0                   01 - The Awakening   \n",
       "1                   01 - The Awakening   \n",
       "2                   01 - The Awakening   \n",
       "3                   01 - The Awakening   \n",
       "4                   01 - The Awakening   \n",
       "..                                 ...   \n",
       "213  My World My City My Neighbourhood   \n",
       "214  My World My City My Neighbourhood   \n",
       "215  My World My City My Neighbourhood   \n",
       "216  My World My City My Neighbourhood   \n",
       "217  My World My City My Neighbourhood   \n",
       "\n",
       "                                            event_name start_date  audience  \n",
       "0    Ballot Facilitated Session - Carr Manor Commun... 2022-11-01       NaN  \n",
       "1    Ballot Facilitated Session - Chapel Allerton P... 2022-11-07       NaN  \n",
       "2    Ballot Facilitated Session - Cobden Primary Sc... 2022-11-09       NaN  \n",
       "3    Ballot Facilitated Session - Cobden Primary Sc... 2022-11-10       NaN  \n",
       "4    Ballot Facilitated Session - Cobden Primary Sc... 2022-11-18       NaN  \n",
       "..                                                 ...        ...       ...  \n",
       "213                Lincoln Greeners - Festival Closing 2023-08-24       NaN  \n",
       "214                Lincoln Greeners - Festival Opening 2023-05-21       NaN  \n",
       "215                   Stand and Be Counted Round Table 2023-04-24       NaN  \n",
       "216                                         The Ginnel 2023-10-13       NaN  \n",
       "217                                   The Path Between 2023-10-14       NaN  \n",
       "\n",
       "[168 rows x 4 columns]"
      ]
     },
     "execution_count": 8,
     "metadata": {},
     "output_type": "execute_result"
    }
   ],
   "source": [
    "data.loc[data.audience.isna(), ['project_name', 'event_name', 'start_date', 'audience']]"
   ]
  },
  {
   "cell_type": "code",
   "execution_count": null,
   "id": "186b0449",
   "metadata": {
    "papermill": {
     "duration": 0.00236,
     "end_time": "2023-08-03T23:38:09.345587",
     "exception": false,
     "start_time": "2023-08-03T23:38:09.343227",
     "status": "completed"
    },
    "tags": []
   },
   "outputs": [],
   "source": []
  },
  {
   "cell_type": "code",
   "execution_count": null,
   "id": "524a9499",
   "metadata": {
    "papermill": {
     "duration": 0.00303,
     "end_time": "2023-08-03T23:38:09.350943",
     "exception": false,
     "start_time": "2023-08-03T23:38:09.347913",
     "status": "completed"
    },
    "tags": []
   },
   "outputs": [],
   "source": []
  }
 ],
 "metadata": {
  "kernelspec": {
   "display_name": "leeds-2023-YZF5GfJv",
   "language": "python",
   "name": "python3"
  },
  "language_info": {
   "codemirror_mode": {
    "name": "ipython",
    "version": 3
   },
   "file_extension": ".py",
   "mimetype": "text/x-python",
   "name": "python",
   "nbconvert_exporter": "python",
   "pygments_lexer": "ipython3",
   "version": "3.10.6"
  },
  "papermill": {
   "default_parameters": {},
   "duration": 10.745482,
   "end_time": "2023-08-03T23:38:09.669488",
   "environment_variables": {},
   "exception": null,
   "input_path": "transform.ipynb",
   "output_path": "../../../working/output/community-transform.ipynb",
   "parameters": {},
   "start_time": "2023-08-03T23:37:58.924006",
   "version": "2.4.0"
  }
 },
 "nbformat": 4,
 "nbformat_minor": 5
}