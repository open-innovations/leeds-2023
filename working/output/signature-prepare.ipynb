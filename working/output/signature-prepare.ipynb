{
 "cells": [
  {
   "cell_type": "code",
   "execution_count": 1,
   "id": "a099c51e",
   "metadata": {
    "execution": {
     "iopub.execute_input": "2023-10-10T11:44:21.985298Z",
     "iopub.status.busy": "2023-10-10T11:44:21.984434Z",
     "iopub.status.idle": "2023-10-10T11:44:26.852276Z",
     "shell.execute_reply": "2023-10-10T11:44:26.851820Z"
    },
    "papermill": {
     "duration": 4.87493,
     "end_time": "2023-10-10T11:44:26.853377",
     "exception": false,
     "start_time": "2023-10-10T11:44:21.978447",
     "status": "completed"
    },
    "tags": []
   },
   "outputs": [],
   "source": [
    "import os\n",
    "import pandas as pd\n",
    "from events import load_event_data, get_first_ward, normalise_ward"
   ]
  },
  {
   "cell_type": "code",
   "execution_count": 2,
   "id": "14207816",
   "metadata": {
    "execution": {
     "iopub.execute_input": "2023-10-10T11:44:26.856432Z",
     "iopub.status.busy": "2023-10-10T11:44:26.856289Z",
     "iopub.status.idle": "2023-10-10T11:44:26.858544Z",
     "shell.execute_reply": "2023-10-10T11:44:26.858287Z"
    },
    "papermill": {
     "duration": 0.004697,
     "end_time": "2023-10-10T11:44:26.859366",
     "exception": false,
     "start_time": "2023-10-10T11:44:26.854669",
     "status": "completed"
    },
    "tags": []
   },
   "outputs": [],
   "source": [
    "latest_date = pd.Timestamp.today().ceil('D')"
   ]
  },
  {
   "cell_type": "code",
   "execution_count": 3,
   "id": "1c85ae63",
   "metadata": {
    "execution": {
     "iopub.execute_input": "2023-10-10T11:44:26.862021Z",
     "iopub.status.busy": "2023-10-10T11:44:26.861877Z",
     "iopub.status.idle": "2023-10-10T11:44:26.871565Z",
     "shell.execute_reply": "2023-10-10T11:44:26.871231Z"
    },
    "papermill": {
     "duration": 0.012062,
     "end_time": "2023-10-10T11:44:26.872464",
     "exception": false,
     "start_time": "2023-10-10T11:44:26.860402",
     "status": "completed"
    },
    "tags": []
   },
   "outputs": [],
   "source": [
    "tickets = pd.read_csv('../../../../data/metrics/events/tickets/orders.csv', parse_dates=['created_at', 'event_date'])\n",
    "tickets = tickets[tickets.event_date <= latest_date]"
   ]
  },
  {
   "cell_type": "code",
   "execution_count": 4,
   "id": "61c1387b",
   "metadata": {
    "execution": {
     "iopub.execute_input": "2023-10-10T11:44:26.875424Z",
     "iopub.status.busy": "2023-10-10T11:44:26.875178Z",
     "iopub.status.idle": "2023-10-10T11:44:26.973090Z",
     "shell.execute_reply": "2023-10-10T11:44:26.972748Z"
    },
    "papermill": {
     "duration": 0.100493,
     "end_time": "2023-10-10T11:44:26.974134",
     "exception": false,
     "start_time": "2023-10-10T11:44:26.873641",
     "status": "completed"
    },
    "tags": []
   },
   "outputs": [],
   "source": [
    "events = load_event_data()\n",
    "\n",
    "events = pd.concat([\n",
    "  events,\n",
    "  events.pipe(get_first_ward).pipe(normalise_ward).fillna('UNKNOWN'),\n",
    "  pd.Series(\n",
    "      events.actual_audience_size_number_of_participants_in_person + events.actual_audience_size_number_of_participants_online,\n",
    "      name='attendances'\n",
    "  )\n",
    "], axis=1).rename(columns={\n",
    "    'start_date': 'date'\n",
    "}).loc[:, ['ward_code', 'date', 'event_unique_identifier', 'attendances']]"
   ]
  },
  {
   "cell_type": "code",
   "execution_count": 5,
   "id": "523dac97",
   "metadata": {
    "execution": {
     "iopub.execute_input": "2023-10-10T11:44:26.977113Z",
     "iopub.status.busy": "2023-10-10T11:44:26.976961Z",
     "iopub.status.idle": "2023-10-10T11:44:26.978868Z",
     "shell.execute_reply": "2023-10-10T11:44:26.978555Z"
    },
    "papermill": {
     "duration": 0.004313,
     "end_time": "2023-10-10T11:44:26.979716",
     "exception": false,
     "start_time": "2023-10-10T11:44:26.975403",
     "status": "completed"
    },
    "tags": []
   },
   "outputs": [],
   "source": [
    "OUTPUT_DIR='../../../../docs/metrics/events/signature/_data/'\n",
    "os.makedirs(OUTPUT_DIR, exist_ok=True)"
   ]
  },
  {
   "cell_type": "markdown",
   "id": "5410c20f",
   "metadata": {
    "papermill": {
     "duration": 0.001083,
     "end_time": "2023-10-10T11:44:26.981999",
     "exception": false,
     "start_time": "2023-10-10T11:44:26.980916",
     "status": "completed"
    },
    "tags": []
   },
   "source": [
    "Events CSVs"
   ]
  },
  {
   "cell_type": "code",
   "execution_count": 6,
   "id": "b5846fba",
   "metadata": {
    "execution": {
     "iopub.execute_input": "2023-10-10T11:44:26.984999Z",
     "iopub.status.busy": "2023-10-10T11:44:26.984809Z",
     "iopub.status.idle": "2023-10-10T11:44:26.988971Z",
     "shell.execute_reply": "2023-10-10T11:44:26.988664Z"
    },
    "papermill": {
     "duration": 0.006496,
     "end_time": "2023-10-10T11:44:26.989725",
     "exception": false,
     "start_time": "2023-10-10T11:44:26.983229",
     "status": "completed"
    },
    "tags": []
   },
   "outputs": [],
   "source": [
    "pd.DataFrame({\n",
    "  'events': events.groupby('ward_code').event_unique_identifier.count(),\n",
    "  'attendances': events.groupby('ward_code').attendances.sum().astype(int),\n",
    "}).to_csv(os.path.join(OUTPUT_DIR, 'events_by_ward.csv'))\n"
   ]
  },
  {
   "cell_type": "code",
   "execution_count": 7,
   "id": "20f35f61",
   "metadata": {
    "execution": {
     "iopub.execute_input": "2023-10-10T11:44:26.992611Z",
     "iopub.status.busy": "2023-10-10T11:44:26.992373Z",
     "iopub.status.idle": "2023-10-10T11:44:26.998309Z",
     "shell.execute_reply": "2023-10-10T11:44:26.997977Z"
    },
    "papermill": {
     "duration": 0.008268,
     "end_time": "2023-10-10T11:44:26.999117",
     "exception": false,
     "start_time": "2023-10-10T11:44:26.990849",
     "status": "completed"
    },
    "tags": []
   },
   "outputs": [],
   "source": [
    "pd.DataFrame({\n",
    "  'events': events.groupby('date').event_unique_identifier.count(),\n",
    "  'attendances': events.groupby('date').attendances.sum().astype(int),\n",
    "}).resample('M').sum().astype(int).to_csv(os.path.join(OUTPUT_DIR, 'events_by_date.csv'))"
   ]
  },
  {
   "cell_type": "markdown",
   "id": "b91c422d",
   "metadata": {
    "papermill": {
     "duration": 0.001099,
     "end_time": "2023-10-10T11:44:27.001381",
     "exception": false,
     "start_time": "2023-10-10T11:44:27.000282",
     "status": "completed"
    },
    "tags": []
   },
   "source": [
    "Tickets CSV"
   ]
  },
  {
   "cell_type": "code",
   "execution_count": 8,
   "id": "5b23690a",
   "metadata": {
    "execution": {
     "iopub.execute_input": "2023-10-10T11:44:27.004167Z",
     "iopub.status.busy": "2023-10-10T11:44:27.004017Z",
     "iopub.status.idle": "2023-10-10T11:44:27.007932Z",
     "shell.execute_reply": "2023-10-10T11:44:27.007623Z"
    },
    "papermill": {
     "duration": 0.006028,
     "end_time": "2023-10-10T11:44:27.008552",
     "exception": false,
     "start_time": "2023-10-10T11:44:27.002524",
     "status": "completed"
    },
    "tags": []
   },
   "outputs": [],
   "source": [
    "pd.DataFrame({\n",
    "  'orders': tickets.groupby('ward_code').number_of_tickets.count(),\n",
    "  'tickets': tickets.groupby('ward_code').number_of_tickets.sum().astype(int),\n",
    "}).to_csv(os.path.join(OUTPUT_DIR, 'tickets_by_ward.csv'))"
   ]
  },
  {
   "cell_type": "code",
   "execution_count": 9,
   "id": "5b20e6fa",
   "metadata": {
    "execution": {
     "iopub.execute_input": "2023-10-10T11:44:27.011314Z",
     "iopub.status.busy": "2023-10-10T11:44:27.011191Z",
     "iopub.status.idle": "2023-10-10T11:44:27.015596Z",
     "shell.execute_reply": "2023-10-10T11:44:27.015283Z"
    },
    "papermill": {
     "duration": 0.006684,
     "end_time": "2023-10-10T11:44:27.016385",
     "exception": false,
     "start_time": "2023-10-10T11:44:27.009701",
     "status": "completed"
    },
    "tags": []
   },
   "outputs": [],
   "source": [
    "pd.DataFrame({\n",
    "  'orders': tickets.groupby('event_date').number_of_tickets.count(),\n",
    "  'tickets': tickets.groupby('event_date').number_of_tickets.sum().astype(int),\n",
    "}).resample('M').sum().to_csv(os.path.join(OUTPUT_DIR, 'tickets_by_event_date.csv'))"
   ]
  },
  {
   "cell_type": "code",
   "execution_count": 10,
   "id": "638ce369",
   "metadata": {
    "execution": {
     "iopub.execute_input": "2023-10-10T11:44:27.019277Z",
     "iopub.status.busy": "2023-10-10T11:44:27.019073Z",
     "iopub.status.idle": "2023-10-10T11:44:27.021908Z",
     "shell.execute_reply": "2023-10-10T11:44:27.021587Z"
    },
    "papermill": {
     "duration": 0.005088,
     "end_time": "2023-10-10T11:44:27.022660",
     "exception": false,
     "start_time": "2023-10-10T11:44:27.017572",
     "status": "completed"
    },
    "tags": []
   },
   "outputs": [],
   "source": [
    "pd.Series({\n",
    "    'total_events': events.event_unique_identifier.count(),\n",
    "    'total_attendances': events.attendances.count(),\n",
    "    'first_event': events.date.min(),\n",
    "    'latest_event': events.date.max(),\n",
    "    'total_ticket_orders_for_events_to_date': tickets.number_of_tickets.count(),\n",
    "    'total_tickets_sold_for_events_to_date': tickets.number_of_tickets.sum(),\n",
    "}).to_json(os.path.join(OUTPUT_DIR, 'headlines.json'), indent=2)"
   ]
  },
  {
   "cell_type": "code",
   "execution_count": null,
   "id": "9324af99",
   "metadata": {
    "papermill": {
     "duration": 0.001093,
     "end_time": "2023-10-10T11:44:27.024945",
     "exception": false,
     "start_time": "2023-10-10T11:44:27.023852",
     "status": "completed"
    },
    "tags": []
   },
   "outputs": [],
   "source": []
  }
 ],
 "metadata": {
  "kernelspec": {
   "display_name": "leeds-2023-YZF5GfJv",
   "language": "python",
   "name": "python3"
  },
  "language_info": {
   "codemirror_mode": {
    "name": "ipython",
    "version": 3
   },
   "file_extension": ".py",
   "mimetype": "text/x-python",
   "name": "python",
   "nbconvert_exporter": "python",
   "pygments_lexer": "ipython3",
   "version": "3.10.12"
  },
  "papermill": {
   "default_parameters": {},
   "duration": 6.083169,
   "end_time": "2023-10-10T11:44:27.343806",
   "environment_variables": {},
   "exception": null,
   "input_path": "prepare.ipynb",
   "output_path": "../../../../working/output/signature-prepare.ipynb",
   "parameters": {},
   "start_time": "2023-10-10T11:44:21.260637",
   "version": "2.4.0"
  }
 },
 "nbformat": 4,
 "nbformat_minor": 5
}