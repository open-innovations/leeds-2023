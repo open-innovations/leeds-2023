{
 "cells": [
  {
   "cell_type": "code",
   "execution_count": 1,
   "id": "8a5b6b9c",
   "metadata": {
    "execution": {
     "iopub.execute_input": "2023-08-03T23:38:17.826439Z",
     "iopub.status.busy": "2023-08-03T23:38:17.825767Z",
     "iopub.status.idle": "2023-08-03T23:38:18.053142Z",
     "shell.execute_reply": "2023-08-03T23:38:18.052517Z"
    },
    "papermill": {
     "duration": 0.232366,
     "end_time": "2023-08-03T23:38:18.054931",
     "exception": false,
     "start_time": "2023-08-03T23:38:17.822565",
     "status": "completed"
    },
    "tags": []
   },
   "outputs": [],
   "source": [
    "import os\n",
    "import pandas as pd"
   ]
  },
  {
   "cell_type": "code",
   "execution_count": 2,
   "id": "8292073e",
   "metadata": {
    "execution": {
     "iopub.execute_input": "2023-08-03T23:38:18.060161Z",
     "iopub.status.busy": "2023-08-03T23:38:18.059629Z",
     "iopub.status.idle": "2023-08-03T23:38:18.062961Z",
     "shell.execute_reply": "2023-08-03T23:38:18.062364Z"
    },
    "papermill": {
     "duration": 0.007517,
     "end_time": "2023-08-03T23:38:18.064364",
     "exception": false,
     "start_time": "2023-08-03T23:38:18.056847",
     "status": "completed"
    },
    "tags": []
   },
   "outputs": [],
   "source": [
    "DATA_DIR='../../../docs/metrics/events/promote/_data/'\n",
    "os.makedirs(DATA_DIR, exist_ok=True)"
   ]
  },
  {
   "cell_type": "code",
   "execution_count": 3,
   "id": "3922d38b",
   "metadata": {
    "execution": {
     "iopub.execute_input": "2023-08-03T23:38:18.068589Z",
     "iopub.status.busy": "2023-08-03T23:38:18.068177Z",
     "iopub.status.idle": "2023-08-03T23:38:18.077615Z",
     "shell.execute_reply": "2023-08-03T23:38:18.077085Z"
    },
    "papermill": {
     "duration": 0.013046,
     "end_time": "2023-08-03T23:38:18.078953",
     "exception": false,
     "start_time": "2023-08-03T23:38:18.065907",
     "status": "completed"
    },
    "tags": []
   },
   "outputs": [],
   "source": [
    "data = pd.read_csv('../../../data/metrics/events/promote-events/events.csv', parse_dates=['time'])"
   ]
  },
  {
   "cell_type": "code",
   "execution_count": 4,
   "id": "e5546303",
   "metadata": {
    "execution": {
     "iopub.execute_input": "2023-08-03T23:38:18.083213Z",
     "iopub.status.busy": "2023-08-03T23:38:18.082877Z",
     "iopub.status.idle": "2023-08-03T23:38:18.088029Z",
     "shell.execute_reply": "2023-08-03T23:38:18.087429Z"
    },
    "papermill": {
     "duration": 0.008778,
     "end_time": "2023-08-03T23:38:18.089315",
     "exception": false,
     "start_time": "2023-08-03T23:38:18.080537",
     "status": "completed"
    },
    "tags": []
   },
   "outputs": [],
   "source": [
    "pd.Series({\n",
    "    'total_events': len(data.id.unique()),\n",
    "    'total_event_instances': len(data.time),\n",
    "    'earliest_event': data.time.min(),\n",
    "    'latest_event': data.time.max(),\n",
    "}).to_json(\n",
    "    os.path.join(DATA_DIR, 'headlines.json'),\n",
    "    date_format='iso', indent=2\n",
    ")"
   ]
  },
  {
   "cell_type": "code",
   "execution_count": 5,
   "id": "0ae32375",
   "metadata": {
    "execution": {
     "iopub.execute_input": "2023-08-03T23:38:18.093492Z",
     "iopub.status.busy": "2023-08-03T23:38:18.093160Z",
     "iopub.status.idle": "2023-08-03T23:38:18.101009Z",
     "shell.execute_reply": "2023-08-03T23:38:18.100475Z"
    },
    "papermill": {
     "duration": 0.011607,
     "end_time": "2023-08-03T23:38:18.102477",
     "exception": false,
     "start_time": "2023-08-03T23:38:18.090870",
     "status": "completed"
    },
    "tags": []
   },
   "outputs": [],
   "source": [
    "events = pd.DataFrame({\n",
    "    'events': data.groupby('id').agg({ 'time': 'min' }).reset_index().groupby('time').id.count(),\n",
    "    'event_instances': data.groupby('time').id.count(),\n",
    "}).fillna(0).astype(int)"
   ]
  },
  {
   "cell_type": "code",
   "execution_count": 6,
   "id": "690045d1",
   "metadata": {
    "execution": {
     "iopub.execute_input": "2023-08-03T23:38:18.106856Z",
     "iopub.status.busy": "2023-08-03T23:38:18.106361Z",
     "iopub.status.idle": "2023-08-03T23:38:18.109779Z",
     "shell.execute_reply": "2023-08-03T23:38:18.109197Z"
    },
    "papermill": {
     "duration": 0.007063,
     "end_time": "2023-08-03T23:38:18.111129",
     "exception": false,
     "start_time": "2023-08-03T23:38:18.104066",
     "status": "completed"
    },
    "tags": []
   },
   "outputs": [],
   "source": [
    "def cumulate(data):\n",
    "    return pd.concat([\n",
    "        data,\n",
    "        data.cumsum().rename(columns=lambda c: f'cumulative_{c}')\n",
    "    ], axis=1)"
   ]
  },
  {
   "cell_type": "code",
   "execution_count": 7,
   "id": "add3be7e",
   "metadata": {
    "execution": {
     "iopub.execute_input": "2023-08-03T23:38:18.115520Z",
     "iopub.status.busy": "2023-08-03T23:38:18.115042Z",
     "iopub.status.idle": "2023-08-03T23:38:18.124547Z",
     "shell.execute_reply": "2023-08-03T23:38:18.123993Z"
    },
    "papermill": {
     "duration": 0.013098,
     "end_time": "2023-08-03T23:38:18.125881",
     "exception": false,
     "start_time": "2023-08-03T23:38:18.112783",
     "status": "completed"
    },
    "tags": []
   },
   "outputs": [],
   "source": [
    "events.resample('W-FRI').sum().pipe(cumulate).to_csv(os.path.join(DATA_DIR, 'by_week.csv'))"
   ]
  },
  {
   "cell_type": "code",
   "execution_count": 8,
   "id": "66d0d915",
   "metadata": {
    "execution": {
     "iopub.execute_input": "2023-08-03T23:38:18.130482Z",
     "iopub.status.busy": "2023-08-03T23:38:18.129987Z",
     "iopub.status.idle": "2023-08-03T23:38:18.135747Z",
     "shell.execute_reply": "2023-08-03T23:38:18.135208Z"
    },
    "papermill": {
     "duration": 0.009391,
     "end_time": "2023-08-03T23:38:18.137052",
     "exception": false,
     "start_time": "2023-08-03T23:38:18.127661",
     "status": "completed"
    },
    "tags": []
   },
   "outputs": [],
   "source": [
    "events.resample('MS').sum().pipe(cumulate).to_csv(os.path.join(DATA_DIR, 'by_month.csv'))"
   ]
  },
  {
   "cell_type": "code",
   "execution_count": null,
   "id": "1f120505",
   "metadata": {
    "papermill": {
     "duration": 0.001625,
     "end_time": "2023-08-03T23:38:18.140342",
     "exception": false,
     "start_time": "2023-08-03T23:38:18.138717",
     "status": "completed"
    },
    "tags": []
   },
   "outputs": [],
   "source": []
  }
 ],
 "metadata": {
  "kernelspec": {
   "display_name": "leeds-2023-YZF5GfJv",
   "language": "python",
   "name": "python3"
  },
  "language_info": {
   "codemirror_mode": {
    "name": "ipython",
    "version": 3
   },
   "file_extension": ".py",
   "mimetype": "text/x-python",
   "name": "python",
   "nbconvert_exporter": "python",
   "pygments_lexer": "ipython3",
   "version": "3.10.6"
  },
  "papermill": {
   "default_parameters": {},
   "duration": 1.90074,
   "end_time": "2023-08-03T23:38:18.358070",
   "environment_variables": {},
   "exception": null,
   "input_path": "prepare.ipynb",
   "output_path": "../../../working/output/promote-events-prepare.ipynb",
   "parameters": {},
   "start_time": "2023-08-03T23:38:16.457330",
   "version": "2.4.0"
  }
 },
 "nbformat": 4,
 "nbformat_minor": 5
}