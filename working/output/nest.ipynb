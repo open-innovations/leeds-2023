{
 "cells": [
  {
   "cell_type": "markdown",
   "id": "825f1ee8",
   "metadata": {
    "papermill": {
     "duration": 0.021718,
     "end_time": "2023-11-21T16:32:29.145834",
     "exception": false,
     "start_time": "2023-11-21T16:32:29.124116",
     "status": "completed"
    },
    "tags": []
   },
   "source": [
    "# Nest\n",
    "\n",
    "Prepares data for the Nest page "
   ]
  },
  {
   "cell_type": "code",
   "execution_count": 1,
   "id": "75fad996",
   "metadata": {
    "execution": {
     "iopub.execute_input": "2023-11-21T16:32:29.181254Z",
     "iopub.status.busy": "2023-11-21T16:32:29.180967Z",
     "iopub.status.idle": "2023-11-21T16:32:39.123350Z",
     "shell.execute_reply": "2023-11-21T16:32:39.122066Z"
    },
    "papermill": {
     "duration": 9.962403,
     "end_time": "2023-11-21T16:32:39.126246",
     "exception": false,
     "start_time": "2023-11-21T16:32:29.163843",
     "status": "completed"
    },
    "tags": []
   },
   "outputs": [],
   "source": [
    "import os\n",
    "import pandas as pd\n",
    "from events import (\n",
    "    load_event_data, filter_public_events, filter_by_project, prepare, save_files, count_wards, filter_signature_events, filter_community_events, filter_school_events, load_raw_data\n",
    ")\n",
    "import ticket_helpers\n"
   ]
  },
  {
   "cell_type": "markdown",
   "id": "6f1198f6",
   "metadata": {
    "papermill": {
     "duration": 0.018936,
     "end_time": "2023-11-21T16:32:39.162011",
     "exception": false,
     "start_time": "2023-11-21T16:32:39.143075",
     "status": "completed"
    },
    "tags": []
   },
   "source": [
    "Set output directory"
   ]
  },
  {
   "cell_type": "code",
   "execution_count": 2,
   "id": "6231c9b7",
   "metadata": {
    "execution": {
     "iopub.execute_input": "2023-11-21T16:32:39.199501Z",
     "iopub.status.busy": "2023-11-21T16:32:39.198701Z",
     "iopub.status.idle": "2023-11-21T16:32:39.245066Z",
     "shell.execute_reply": "2023-11-21T16:32:39.243599Z"
    },
    "papermill": {
     "duration": 0.067311,
     "end_time": "2023-11-21T16:32:39.247169",
     "exception": false,
     "start_time": "2023-11-21T16:32:39.179858",
     "status": "completed"
    },
    "tags": []
   },
   "outputs": [],
   "source": [
    "OUT_DIR = '../../../../docs/metrics/events/nest/_data/events'\n",
    "os.makedirs(OUT_DIR, exist_ok=True)"
   ]
  },
  {
   "cell_type": "markdown",
   "id": "ca162388",
   "metadata": {
    "papermill": {
     "duration": 0.016402,
     "end_time": "2023-11-21T16:32:39.277816",
     "exception": false,
     "start_time": "2023-11-21T16:32:39.261414",
     "status": "completed"
    },
    "tags": []
   },
   "source": [
    "Read in event data and apply Airtable filters.\n",
    "\n",
    "* Project_type is 'Produce (Signature)'\n",
    "* Project_name is '10 - Melt'\n",
    "* Event_type is 'Public Event -' and 'CLE - Community Engagement'"
   ]
  },
  {
   "cell_type": "code",
   "execution_count": 3,
   "id": "e0bd1af7",
   "metadata": {
    "execution": {
     "iopub.execute_input": "2023-11-21T16:32:39.310871Z",
     "iopub.status.busy": "2023-11-21T16:32:39.310064Z",
     "iopub.status.idle": "2023-11-21T16:32:39.355460Z",
     "shell.execute_reply": "2023-11-21T16:32:39.353566Z"
    },
    "papermill": {
     "duration": 0.065804,
     "end_time": "2023-11-21T16:32:39.359112",
     "exception": false,
     "start_time": "2023-11-21T16:32:39.293308",
     "status": "completed"
    },
    "tags": []
   },
   "outputs": [],
   "source": [
    "data = (\n",
    "  load_raw_data()\n",
    "    .pipe(filter_signature_events)\n",
    "    .pipe(filter_by_project, '10 - Melt')\n",
    "  )"
   ]
  },
  {
   "cell_type": "markdown",
   "id": "365e1795",
   "metadata": {
    "papermill": {
     "duration": 0.017853,
     "end_time": "2023-11-21T16:32:39.396387",
     "exception": false,
     "start_time": "2023-11-21T16:32:39.378534",
     "status": "completed"
    },
    "tags": []
   },
   "source": [
    "Run the processing and save the files"
   ]
  },
  {
   "cell_type": "code",
   "execution_count": 4,
   "id": "3345123d",
   "metadata": {
    "execution": {
     "iopub.execute_input": "2023-11-21T16:32:39.434532Z",
     "iopub.status.busy": "2023-11-21T16:32:39.433484Z",
     "iopub.status.idle": "2023-11-21T16:32:39.714762Z",
     "shell.execute_reply": "2023-11-21T16:32:39.713623Z"
    },
    "papermill": {
     "duration": 0.301073,
     "end_time": "2023-11-21T16:32:39.717102",
     "exception": false,
     "start_time": "2023-11-21T16:32:39.416029",
     "status": "completed"
    },
    "tags": []
   },
   "outputs": [
    {
     "data": {
      "text/html": [
       "<div>\n",
       "<style scoped>\n",
       "    .dataframe tbody tr th:only-of-type {\n",
       "        vertical-align: middle;\n",
       "    }\n",
       "\n",
       "    .dataframe tbody tr th {\n",
       "        vertical-align: top;\n",
       "    }\n",
       "\n",
       "    .dataframe thead th {\n",
       "        text-align: right;\n",
       "    }\n",
       "</style>\n",
       "<table border=\"1\" class=\"dataframe\">\n",
       "  <thead>\n",
       "    <tr style=\"text-align: right;\">\n",
       "      <th></th>\n",
       "      <th>actual_audience_size_number_of_participants_in_person</th>\n",
       "      <th>actual_audience_size_number_of_participants_online</th>\n",
       "      <th>airtable_id</th>\n",
       "      <th>end_date</th>\n",
       "      <th>event_name</th>\n",
       "      <th>event_type</th>\n",
       "      <th>event_unique_identifier</th>\n",
       "      <th>number_of_booked_participants</th>\n",
       "      <th>postcode_(from_venue)</th>\n",
       "      <th>project_name</th>\n",
       "      <th>project_type</th>\n",
       "      <th>season</th>\n",
       "      <th>start_date</th>\n",
       "      <th>ticket_tailor_id</th>\n",
       "      <th>ward_(from_venue)</th>\n",
       "      <th>ward_name</th>\n",
       "      <th>ward_code</th>\n",
       "      <th>audience_size</th>\n",
       "    </tr>\n",
       "  </thead>\n",
       "  <tbody>\n",
       "    <tr>\n",
       "      <th>1093</th>\n",
       "      <td>1338.0</td>\n",
       "      <td>NaN</td>\n",
       "      <td>241</td>\n",
       "      <td>2023-09-09</td>\n",
       "      <td>Melt (Run)</td>\n",
       "      <td>['Public Event - Performance']</td>\n",
       "      <td>10 - Melt: Melt (Run)</td>\n",
       "      <td>1542.0</td>\n",
       "      <td>['LS26 8AL']</td>\n",
       "      <td>10 - Melt</td>\n",
       "      <td>Produce (Signature)</td>\n",
       "      <td>['Season 3 - Dreaming']</td>\n",
       "      <td>2023-09-05</td>\n",
       "      <td>ev_2809632, ev_2809633,  ev_2809634,  ev_28096...</td>\n",
       "      <td>['Garforth and Swillington']</td>\n",
       "      <td>Garforth and Swillington</td>\n",
       "      <td>E05013830</td>\n",
       "      <td>1338.0</td>\n",
       "    </tr>\n",
       "  </tbody>\n",
       "</table>\n",
       "</div>"
      ],
      "text/plain": [
       "      actual_audience_size_number_of_participants_in_person  \\\n",
       "1093                                             1338.0       \n",
       "\n",
       "      actual_audience_size_number_of_participants_online  airtable_id  \\\n",
       "1093                                                NaN           241   \n",
       "\n",
       "        end_date  event_name                      event_type  \\\n",
       "1093  2023-09-09  Melt (Run)  ['Public Event - Performance']   \n",
       "\n",
       "     event_unique_identifier  number_of_booked_participants  \\\n",
       "1093   10 - Melt: Melt (Run)                         1542.0   \n",
       "\n",
       "     postcode_(from_venue) project_name         project_type  \\\n",
       "1093          ['LS26 8AL']    10 - Melt  Produce (Signature)   \n",
       "\n",
       "                       season start_date  \\\n",
       "1093  ['Season 3 - Dreaming'] 2023-09-05   \n",
       "\n",
       "                                       ticket_tailor_id  \\\n",
       "1093  ev_2809632, ev_2809633,  ev_2809634,  ev_28096...   \n",
       "\n",
       "                 ward_(from_venue)                 ward_name  ward_code  \\\n",
       "1093  ['Garforth and Swillington']  Garforth and Swillington  E05013830   \n",
       "\n",
       "      audience_size  \n",
       "1093         1338.0  "
      ]
     },
     "execution_count": 4,
     "metadata": {},
     "output_type": "execute_result"
    }
   ],
   "source": [
    "data.pipe(filter_public_events).pipe(prepare).pipe(save_files, OUT_DIR)"
   ]
  },
  {
   "cell_type": "markdown",
   "id": "08baa150",
   "metadata": {
    "papermill": {
     "duration": 0.0173,
     "end_time": "2023-11-21T16:32:39.748359",
     "exception": false,
     "start_time": "2023-11-21T16:32:39.731059",
     "status": "completed"
    },
    "tags": []
   },
   "source": [
    "## Ticket processing\n",
    "\n",
    "Extract the ticket data"
   ]
  },
  {
   "cell_type": "code",
   "execution_count": 5,
   "id": "75abe935",
   "metadata": {
    "execution": {
     "iopub.execute_input": "2023-11-21T16:32:39.782856Z",
     "iopub.status.busy": "2023-11-21T16:32:39.781456Z",
     "iopub.status.idle": "2023-11-21T16:32:39.816703Z",
     "shell.execute_reply": "2023-11-21T16:32:39.815598Z"
    },
    "papermill": {
     "duration": 0.056494,
     "end_time": "2023-11-21T16:32:39.818801",
     "exception": false,
     "start_time": "2023-11-21T16:32:39.762307",
     "status": "completed"
    },
    "tags": []
   },
   "outputs": [],
   "source": [
    "ticket_sales = data.pipe(filter_public_events).pipe(ticket_helpers.get_tickets_for_event)"
   ]
  },
  {
   "cell_type": "markdown",
   "id": "91ead0e0",
   "metadata": {
    "papermill": {
     "duration": 0.018347,
     "end_time": "2023-11-21T16:32:39.850526",
     "exception": false,
     "start_time": "2023-11-21T16:32:39.832179",
     "status": "completed"
    },
    "tags": []
   },
   "source": [
    "By Ward"
   ]
  },
  {
   "cell_type": "code",
   "execution_count": 6,
   "id": "ae366265",
   "metadata": {
    "execution": {
     "iopub.execute_input": "2023-11-21T16:32:39.886443Z",
     "iopub.status.busy": "2023-11-21T16:32:39.885415Z",
     "iopub.status.idle": "2023-11-21T16:32:39.925249Z",
     "shell.execute_reply": "2023-11-21T16:32:39.923735Z"
    },
    "papermill": {
     "duration": 0.059873,
     "end_time": "2023-11-21T16:32:39.927290",
     "exception": false,
     "start_time": "2023-11-21T16:32:39.867417",
     "status": "completed"
    },
    "tags": []
   },
   "outputs": [],
   "source": [
    "ticket_sales.pipe(ticket_helpers.summarise_by_ward).reset_index().to_csv(\n",
    "    os.path.join(OUT_DIR, 'tickets_by_ward.csv'), index=False)\n"
   ]
  },
  {
   "cell_type": "markdown",
   "id": "bdeaa104",
   "metadata": {
    "papermill": {
     "duration": 0.016215,
     "end_time": "2023-11-21T16:32:39.955821",
     "exception": false,
     "start_time": "2023-11-21T16:32:39.939606",
     "status": "completed"
    },
    "tags": []
   },
   "source": [
    "By Date"
   ]
  },
  {
   "cell_type": "code",
   "execution_count": 7,
   "id": "7e1d11a9",
   "metadata": {
    "execution": {
     "iopub.execute_input": "2023-11-21T16:32:39.991208Z",
     "iopub.status.busy": "2023-11-21T16:32:39.990688Z",
     "iopub.status.idle": "2023-11-21T16:32:40.045267Z",
     "shell.execute_reply": "2023-11-21T16:32:40.043832Z"
    },
    "papermill": {
     "duration": 0.076062,
     "end_time": "2023-11-21T16:32:40.048195",
     "exception": false,
     "start_time": "2023-11-21T16:32:39.972133",
     "status": "completed"
    },
    "tags": []
   },
   "outputs": [],
   "source": [
    "(\n",
    "  ticket_sales\n",
    "    .pipe(ticket_helpers.summarise_by_date)\n",
    "    .resample('W-FRI').sum()\n",
    "    .cumsum().to_csv(os.path.join(OUT_DIR, 'tickets_by_date.csv'))\n",
    ")"
   ]
  },
  {
   "cell_type": "markdown",
   "id": "3f4d627c",
   "metadata": {
    "papermill": {
     "duration": 0.019239,
     "end_time": "2023-11-21T16:32:40.084675",
     "exception": false,
     "start_time": "2023-11-21T16:32:40.065436",
     "status": "completed"
    },
    "tags": []
   },
   "source": []
  }
 ],
 "metadata": {
  "kernelspec": {
   "display_name": "leeds-2023-YZF5GfJv",
   "language": "python",
   "name": "python3"
  },
  "language_info": {
   "codemirror_mode": {
    "name": "ipython",
    "version": 3
   },
   "file_extension": ".py",
   "mimetype": "text/x-python",
   "name": "python",
   "nbconvert_exporter": "python",
   "pygments_lexer": "ipython3",
   "version": "3.10.12"
  },
  "papermill": {
   "default_parameters": {},
   "duration": 13.199531,
   "end_time": "2023-11-21T16:32:40.485860",
   "environment_variables": {},
   "exception": null,
   "input_path": "nest.ipynb",
   "output_path": "../../../../working/output/nest.ipynb",
   "parameters": {},
   "start_time": "2023-11-21T16:32:27.286329",
   "version": "2.4.0"
  }
 },
 "nbformat": 4,
 "nbformat_minor": 5
}