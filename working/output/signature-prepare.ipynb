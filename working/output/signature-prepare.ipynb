{
 "cells": [
  {
   "cell_type": "code",
   "execution_count": 1,
   "id": "f7505c4f",
   "metadata": {
    "execution": {
     "iopub.execute_input": "2023-08-31T23:40:23.990704Z",
     "iopub.status.busy": "2023-08-31T23:40:23.990383Z",
     "iopub.status.idle": "2023-08-31T23:40:35.789208Z",
     "shell.execute_reply": "2023-08-31T23:40:35.788114Z"
    },
    "papermill": {
     "duration": 11.806089,
     "end_time": "2023-08-31T23:40:35.791962",
     "exception": false,
     "start_time": "2023-08-31T23:40:23.985873",
     "status": "completed"
    },
    "tags": []
   },
   "outputs": [],
   "source": [
    "import os\n",
    "import pandas as pd\n",
    "from events import load_event_data, get_first_ward, normalise_ward"
   ]
  },
  {
   "cell_type": "code",
   "execution_count": 2,
   "id": "8599022e",
   "metadata": {
    "execution": {
     "iopub.execute_input": "2023-08-31T23:40:35.798972Z",
     "iopub.status.busy": "2023-08-31T23:40:35.798441Z",
     "iopub.status.idle": "2023-08-31T23:40:35.803405Z",
     "shell.execute_reply": "2023-08-31T23:40:35.802508Z"
    },
    "papermill": {
     "duration": 0.011028,
     "end_time": "2023-08-31T23:40:35.805851",
     "exception": false,
     "start_time": "2023-08-31T23:40:35.794823",
     "status": "completed"
    },
    "tags": []
   },
   "outputs": [],
   "source": [
    "latest_date = pd.Timestamp.today().ceil('D')"
   ]
  },
  {
   "cell_type": "code",
   "execution_count": 3,
   "id": "47956e0f",
   "metadata": {
    "execution": {
     "iopub.execute_input": "2023-08-31T23:40:35.812242Z",
     "iopub.status.busy": "2023-08-31T23:40:35.811537Z",
     "iopub.status.idle": "2023-08-31T23:40:35.833111Z",
     "shell.execute_reply": "2023-08-31T23:40:35.832215Z"
    },
    "papermill": {
     "duration": 0.02759,
     "end_time": "2023-08-31T23:40:35.835698",
     "exception": false,
     "start_time": "2023-08-31T23:40:35.808108",
     "status": "completed"
    },
    "tags": []
   },
   "outputs": [],
   "source": [
    "tickets = pd.read_csv('../../../../data/metrics/events/tickets/orders.csv', parse_dates=['created_at', 'event_date'])\n",
    "tickets = tickets[tickets.event_date <= latest_date]"
   ]
  },
  {
   "cell_type": "code",
   "execution_count": 4,
   "id": "6ce91ff4",
   "metadata": {
    "execution": {
     "iopub.execute_input": "2023-08-31T23:40:35.842565Z",
     "iopub.status.busy": "2023-08-31T23:40:35.842273Z",
     "iopub.status.idle": "2023-08-31T23:40:36.120439Z",
     "shell.execute_reply": "2023-08-31T23:40:36.118276Z"
    },
    "papermill": {
     "duration": 0.284994,
     "end_time": "2023-08-31T23:40:36.123431",
     "exception": false,
     "start_time": "2023-08-31T23:40:35.838437",
     "status": "completed"
    },
    "tags": []
   },
   "outputs": [],
   "source": [
    "events = load_event_data()\n",
    "\n",
    "events = pd.concat([\n",
    "  events,\n",
    "  events.pipe(get_first_ward).pipe(normalise_ward).fillna('UNKNOWN'),\n",
    "  pd.Series(\n",
    "      events.actual_audience_size_number_of_participants_in_person + events.actual_audience_size_number_of_participants_online,\n",
    "      name='attendances'\n",
    "  )\n",
    "], axis=1).rename(columns={\n",
    "    'start_date': 'date'\n",
    "}).loc[:, ['ward_code', 'date', 'event_unique_identifier', 'attendances']]"
   ]
  },
  {
   "cell_type": "code",
   "execution_count": 5,
   "id": "0786a7bd",
   "metadata": {
    "execution": {
     "iopub.execute_input": "2023-08-31T23:40:36.131296Z",
     "iopub.status.busy": "2023-08-31T23:40:36.130597Z",
     "iopub.status.idle": "2023-08-31T23:40:36.135094Z",
     "shell.execute_reply": "2023-08-31T23:40:36.134214Z"
    },
    "papermill": {
     "duration": 0.010895,
     "end_time": "2023-08-31T23:40:36.137353",
     "exception": false,
     "start_time": "2023-08-31T23:40:36.126458",
     "status": "completed"
    },
    "tags": []
   },
   "outputs": [],
   "source": [
    "OUTPUT_DIR='../../../../docs/metrics/events/signature/_data/'\n",
    "os.makedirs(OUTPUT_DIR, exist_ok=True)"
   ]
  },
  {
   "cell_type": "markdown",
   "id": "1fc4a1dc",
   "metadata": {
    "papermill": {
     "duration": 0.002629,
     "end_time": "2023-08-31T23:40:36.143126",
     "exception": false,
     "start_time": "2023-08-31T23:40:36.140497",
     "status": "completed"
    },
    "tags": []
   },
   "source": [
    "Events CSVs"
   ]
  },
  {
   "cell_type": "code",
   "execution_count": 6,
   "id": "01f0c128",
   "metadata": {
    "execution": {
     "iopub.execute_input": "2023-08-31T23:40:36.150539Z",
     "iopub.status.busy": "2023-08-31T23:40:36.149806Z",
     "iopub.status.idle": "2023-08-31T23:40:36.161311Z",
     "shell.execute_reply": "2023-08-31T23:40:36.160367Z"
    },
    "papermill": {
     "duration": 0.01805,
     "end_time": "2023-08-31T23:40:36.163709",
     "exception": false,
     "start_time": "2023-08-31T23:40:36.145659",
     "status": "completed"
    },
    "tags": []
   },
   "outputs": [],
   "source": [
    "pd.DataFrame({\n",
    "  'events': events.groupby('ward_code').event_unique_identifier.count(),\n",
    "  'attendances': events.groupby('ward_code').attendances.sum().astype(int),\n",
    "}).to_csv(os.path.join(OUTPUT_DIR, 'events_by_ward.csv'))\n"
   ]
  },
  {
   "cell_type": "code",
   "execution_count": 7,
   "id": "3d8f0b7d",
   "metadata": {
    "execution": {
     "iopub.execute_input": "2023-08-31T23:40:36.171844Z",
     "iopub.status.busy": "2023-08-31T23:40:36.171406Z",
     "iopub.status.idle": "2023-08-31T23:40:36.187218Z",
     "shell.execute_reply": "2023-08-31T23:40:36.186003Z"
    },
    "papermill": {
     "duration": 0.022793,
     "end_time": "2023-08-31T23:40:36.189385",
     "exception": false,
     "start_time": "2023-08-31T23:40:36.166592",
     "status": "completed"
    },
    "tags": []
   },
   "outputs": [],
   "source": [
    "pd.DataFrame({\n",
    "  'events': events.groupby('date').event_unique_identifier.count(),\n",
    "  'attendances': events.groupby('date').attendances.sum().astype(int),\n",
    "}).resample('M').sum().astype(int).to_csv(os.path.join(OUTPUT_DIR, 'events_by_date.csv'))"
   ]
  },
  {
   "cell_type": "markdown",
   "id": "f01b1e45",
   "metadata": {
    "papermill": {
     "duration": 0.002796,
     "end_time": "2023-08-31T23:40:36.195210",
     "exception": false,
     "start_time": "2023-08-31T23:40:36.192414",
     "status": "completed"
    },
    "tags": []
   },
   "source": [
    "Tickets CSV"
   ]
  },
  {
   "cell_type": "code",
   "execution_count": 8,
   "id": "30f7ff81",
   "metadata": {
    "execution": {
     "iopub.execute_input": "2023-08-31T23:40:36.204364Z",
     "iopub.status.busy": "2023-08-31T23:40:36.203541Z",
     "iopub.status.idle": "2023-08-31T23:40:36.212616Z",
     "shell.execute_reply": "2023-08-31T23:40:36.211545Z"
    },
    "papermill": {
     "duration": 0.017036,
     "end_time": "2023-08-31T23:40:36.214914",
     "exception": false,
     "start_time": "2023-08-31T23:40:36.197878",
     "status": "completed"
    },
    "tags": []
   },
   "outputs": [],
   "source": [
    "pd.DataFrame({\n",
    "  'orders': tickets.groupby('ward_code').number_of_tickets.count(),\n",
    "  'tickets': tickets.groupby('ward_code').number_of_tickets.sum().astype(int),\n",
    "}).to_csv(os.path.join(OUTPUT_DIR, 'tickets_by_ward.csv'))"
   ]
  },
  {
   "cell_type": "code",
   "execution_count": 9,
   "id": "23d9aa2d",
   "metadata": {
    "execution": {
     "iopub.execute_input": "2023-08-31T23:40:36.222771Z",
     "iopub.status.busy": "2023-08-31T23:40:36.222458Z",
     "iopub.status.idle": "2023-08-31T23:40:36.233976Z",
     "shell.execute_reply": "2023-08-31T23:40:36.232995Z"
    },
    "papermill": {
     "duration": 0.018241,
     "end_time": "2023-08-31T23:40:36.236557",
     "exception": false,
     "start_time": "2023-08-31T23:40:36.218316",
     "status": "completed"
    },
    "tags": []
   },
   "outputs": [],
   "source": [
    "pd.DataFrame({\n",
    "  'orders': tickets.groupby('event_date').number_of_tickets.count(),\n",
    "  'tickets': tickets.groupby('event_date').number_of_tickets.sum().astype(int),\n",
    "}).resample('M').sum().to_csv(os.path.join(OUTPUT_DIR, 'tickets_by_event_date.csv'))"
   ]
  },
  {
   "cell_type": "code",
   "execution_count": 10,
   "id": "e30a230e",
   "metadata": {
    "execution": {
     "iopub.execute_input": "2023-08-31T23:40:36.245919Z",
     "iopub.status.busy": "2023-08-31T23:40:36.245470Z",
     "iopub.status.idle": "2023-08-31T23:40:36.254787Z",
     "shell.execute_reply": "2023-08-31T23:40:36.253767Z"
    },
    "papermill": {
     "duration": 0.017182,
     "end_time": "2023-08-31T23:40:36.257046",
     "exception": false,
     "start_time": "2023-08-31T23:40:36.239864",
     "status": "completed"
    },
    "tags": []
   },
   "outputs": [],
   "source": [
    "pd.Series({\n",
    "    'total_events': events.event_unique_identifier.count(),\n",
    "    'total_attendances': events.attendances.count(),\n",
    "    'first_event': events.date.min(),\n",
    "    'latest_event': events.date.max(),\n",
    "    'total_ticket_orders_for_events_to_date': tickets.number_of_tickets.count(),\n",
    "    'total_tickets_sold_for_events_to_date': tickets.number_of_tickets.sum(),\n",
    "}).to_json(os.path.join(OUTPUT_DIR, 'headlines.json'), indent=2)"
   ]
  },
  {
   "cell_type": "code",
   "execution_count": null,
   "id": "1a2a25db",
   "metadata": {
    "papermill": {
     "duration": 0.00318,
     "end_time": "2023-08-31T23:40:36.263493",
     "exception": false,
     "start_time": "2023-08-31T23:40:36.260313",
     "status": "completed"
    },
    "tags": []
   },
   "outputs": [],
   "source": []
  }
 ],
 "metadata": {
  "kernelspec": {
   "display_name": "leeds-2023-YZF5GfJv",
   "language": "python",
   "name": "python3"
  },
  "language_info": {
   "codemirror_mode": {
    "name": "ipython",
    "version": 3
   },
   "file_extension": ".py",
   "mimetype": "text/x-python",
   "name": "python",
   "nbconvert_exporter": "python",
   "pygments_lexer": "ipython3",
   "version": "3.10.12"
  },
  "papermill": {
   "default_parameters": {},
   "duration": 14.286928,
   "end_time": "2023-08-31T23:40:36.687047",
   "environment_variables": {},
   "exception": null,
   "input_path": "prepare.ipynb",
   "output_path": "../../../../working/output/signature-prepare.ipynb",
   "parameters": {},
   "start_time": "2023-08-31T23:40:22.400119",
   "version": "2.4.0"
  }
 },
 "nbformat": 4,
 "nbformat_minor": 5
}