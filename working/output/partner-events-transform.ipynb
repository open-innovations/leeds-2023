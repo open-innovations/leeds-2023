{
 "cells": [
  {
   "cell_type": "code",
   "execution_count": 1,
   "id": "80e6bc03",
   "metadata": {
    "execution": {
     "iopub.execute_input": "2023-12-23T23:40:54.335528Z",
     "iopub.status.busy": "2023-12-23T23:40:54.335265Z",
     "iopub.status.idle": "2023-12-23T23:40:54.585812Z",
     "shell.execute_reply": "2023-12-23T23:40:54.585075Z"
    },
    "papermill": {
     "duration": 0.256547,
     "end_time": "2023-12-23T23:40:54.587749",
     "exception": false,
     "start_time": "2023-12-23T23:40:54.331202",
     "status": "completed"
    },
    "tags": []
   },
   "outputs": [],
   "source": [
    "import os\n",
    "import sys\n",
    "import pandas as pd\n",
    "lib_dir = os.path.realpath('../../../lib/')\n",
    "if lib_dir not in sys.path: sys.path.append(lib_dir)"
   ]
  },
  {
   "cell_type": "code",
   "execution_count": 2,
   "id": "07f719a2",
   "metadata": {
    "execution": {
     "iopub.execute_input": "2023-12-23T23:40:54.593596Z",
     "iopub.status.busy": "2023-12-23T23:40:54.593131Z",
     "iopub.status.idle": "2023-12-23T23:41:01.828666Z",
     "shell.execute_reply": "2023-12-23T23:41:01.828006Z"
    },
    "papermill": {
     "duration": 7.240126,
     "end_time": "2023-12-23T23:41:01.830335",
     "exception": false,
     "start_time": "2023-12-23T23:40:54.590209",
     "status": "completed"
    },
    "tags": []
   },
   "outputs": [],
   "source": [
    "import util.geo"
   ]
  },
  {
   "cell_type": "code",
   "execution_count": 3,
   "id": "6e8857c7",
   "metadata": {
    "execution": {
     "iopub.execute_input": "2023-12-23T23:41:01.836203Z",
     "iopub.status.busy": "2023-12-23T23:41:01.835974Z",
     "iopub.status.idle": "2023-12-23T23:41:01.839377Z",
     "shell.execute_reply": "2023-12-23T23:41:01.838806Z"
    },
    "papermill": {
     "duration": 0.007833,
     "end_time": "2023-12-23T23:41:01.840674",
     "exception": false,
     "start_time": "2023-12-23T23:41:01.832841",
     "status": "completed"
    },
    "tags": []
   },
   "outputs": [],
   "source": [
    "EVENTS_RAW_DATA = '../../../working/metrics/partner-events/events.csv'\n",
    "DATA_DIR = '../../../data/metrics/events/partner-events/'\n",
    "EVENTS_DATA = os.path.join(DATA_DIR, 'events.csv')"
   ]
  },
  {
   "cell_type": "code",
   "execution_count": 4,
   "id": "31a1a484",
   "metadata": {
    "execution": {
     "iopub.execute_input": "2023-12-23T23:41:01.845935Z",
     "iopub.status.busy": "2023-12-23T23:41:01.845479Z",
     "iopub.status.idle": "2023-12-23T23:41:01.848891Z",
     "shell.execute_reply": "2023-12-23T23:41:01.848363Z"
    },
    "papermill": {
     "duration": 0.007372,
     "end_time": "2023-12-23T23:41:01.850112",
     "exception": false,
     "start_time": "2023-12-23T23:41:01.842740",
     "status": "completed"
    },
    "tags": []
   },
   "outputs": [],
   "source": [
    "columns = {\n",
    "    'Event Name': 'name',\n",
    "    'Event Start Date': 'start_date',\n",
    "    'Event End Date': 'end_date',\n",
    "    'Partner/Promote': 'partner_promote',\n",
    "    'Stage': 'stage',\n",
    "    'Live date': 'live_date',\n",
    "    'Venue postcode': 'postcode',\n",
    "    'Pricing Policy': 'pricing',\n",
    "    'Venue - including address': 'venue',\n",
    "    'Is this event on Leeds Inspried?': 'on_leeds_inspired',\n",
    "}"
   ]
  },
  {
   "cell_type": "markdown",
   "id": "0dd692f6",
   "metadata": {
    "papermill": {
     "duration": 0.002152,
     "end_time": "2023-12-23T23:41:01.854419",
     "exception": false,
     "start_time": "2023-12-23T23:41:01.852267",
     "status": "completed"
    },
    "tags": []
   },
   "source": [
    "Load the data and rename columns. Parse the dates to dates."
   ]
  },
  {
   "cell_type": "code",
   "execution_count": 5,
   "id": "75f5ed4d",
   "metadata": {
    "execution": {
     "iopub.execute_input": "2023-12-23T23:41:01.860201Z",
     "iopub.status.busy": "2023-12-23T23:41:01.859733Z",
     "iopub.status.idle": "2023-12-23T23:41:01.869547Z",
     "shell.execute_reply": "2023-12-23T23:41:01.868921Z"
    },
    "papermill": {
     "duration": 0.014508,
     "end_time": "2023-12-23T23:41:01.871047",
     "exception": false,
     "start_time": "2023-12-23T23:41:01.856539",
     "status": "completed"
    },
    "tags": []
   },
   "outputs": [],
   "source": [
    "data = pd.read_csv(EVENTS_RAW_DATA)[columns.keys()].rename(columns=columns)\n",
    "data.start_date = pd.to_datetime(data.start_date, errors='coerce')\n",
    "data.end_date = pd.to_datetime(data.end_date, errors='coerce')"
   ]
  },
  {
   "cell_type": "markdown",
   "id": "a31e179b",
   "metadata": {
    "papermill": {
     "duration": 0.002135,
     "end_time": "2023-12-23T23:41:01.875410",
     "exception": false,
     "start_time": "2023-12-23T23:41:01.873275",
     "status": "completed"
    },
    "tags": []
   },
   "source": [
    "Filter data by not LI Pull through and start date before now"
   ]
  },
  {
   "cell_type": "code",
   "execution_count": 6,
   "id": "9283db92",
   "metadata": {
    "execution": {
     "iopub.execute_input": "2023-12-23T23:41:01.881471Z",
     "iopub.status.busy": "2023-12-23T23:41:01.881113Z",
     "iopub.status.idle": "2023-12-23T23:41:01.885791Z",
     "shell.execute_reply": "2023-12-23T23:41:01.885240Z"
    },
    "papermill": {
     "duration": 0.008839,
     "end_time": "2023-12-23T23:41:01.887131",
     "exception": false,
     "start_time": "2023-12-23T23:41:01.878292",
     "status": "completed"
    },
    "tags": []
   },
   "outputs": [],
   "source": [
    "data = data[\n",
    "    # (data.live_date == 'This event is live ') &\n",
    "    ((data.stage != 'LI pull through') & data.stage.notna()) &\n",
    "    (data.start_date < pd.Timestamp.now())\n",
    "]"
   ]
  },
  {
   "cell_type": "code",
   "execution_count": 7,
   "id": "b82e445c",
   "metadata": {
    "execution": {
     "iopub.execute_input": "2023-12-23T23:41:01.892378Z",
     "iopub.status.busy": "2023-12-23T23:41:01.892036Z",
     "iopub.status.idle": "2023-12-23T23:41:02.803338Z",
     "shell.execute_reply": "2023-12-23T23:41:02.802646Z"
    },
    "papermill": {
     "duration": 0.915679,
     "end_time": "2023-12-23T23:41:02.804964",
     "exception": false,
     "start_time": "2023-12-23T23:41:01.889285",
     "status": "completed"
    },
    "tags": []
   },
   "outputs": [],
   "source": [
    "data['ward_code'] = data.postcode.pipe(util.geo.postcode_formatter).map(util.geo.postcode_to_ward_code)\n",
    "data['ward_name'] = data.ward_code.pipe(util.geo.ward_code_to_name)"
   ]
  },
  {
   "cell_type": "markdown",
   "id": "0984dd8e",
   "metadata": {
    "papermill": {
     "duration": 0.00237,
     "end_time": "2023-12-23T23:41:02.809925",
     "exception": false,
     "start_time": "2023-12-23T23:41:02.807555",
     "status": "completed"
    },
    "tags": []
   },
   "source": [
    "Save the file"
   ]
  },
  {
   "cell_type": "code",
   "execution_count": 8,
   "id": "6ece26b6",
   "metadata": {
    "execution": {
     "iopub.execute_input": "2023-12-23T23:41:02.815464Z",
     "iopub.status.busy": "2023-12-23T23:41:02.815038Z",
     "iopub.status.idle": "2023-12-23T23:41:02.821212Z",
     "shell.execute_reply": "2023-12-23T23:41:02.820579Z"
    },
    "papermill": {
     "duration": 0.010421,
     "end_time": "2023-12-23T23:41:02.822524",
     "exception": false,
     "start_time": "2023-12-23T23:41:02.812103",
     "status": "completed"
    },
    "tags": []
   },
   "outputs": [],
   "source": [
    "data[\n",
    "    ['name','start_date','end_date','ward_code']\n",
    "].to_csv(EVENTS_DATA, index=False)"
   ]
  },
  {
   "cell_type": "markdown",
   "id": "af1e4d66",
   "metadata": {
    "papermill": {
     "duration": 0.002135,
     "end_time": "2023-12-23T23:41:02.826901",
     "exception": false,
     "start_time": "2023-12-23T23:41:02.824766",
     "status": "completed"
    },
    "tags": []
   },
   "source": [
    "Print out missing postcode data"
   ]
  },
  {
   "cell_type": "code",
   "execution_count": 9,
   "id": "3827ac09",
   "metadata": {
    "execution": {
     "iopub.execute_input": "2023-12-23T23:41:02.832401Z",
     "iopub.status.busy": "2023-12-23T23:41:02.832019Z",
     "iopub.status.idle": "2023-12-23T23:41:02.843673Z",
     "shell.execute_reply": "2023-12-23T23:41:02.843037Z"
    },
    "papermill": {
     "duration": 0.015743,
     "end_time": "2023-12-23T23:41:02.844883",
     "exception": false,
     "start_time": "2023-12-23T23:41:02.829140",
     "status": "completed"
    },
    "tags": []
   },
   "outputs": [
    {
     "data": {
      "text/html": [
       "<div>\n",
       "<style scoped>\n",
       "    .dataframe tbody tr th:only-of-type {\n",
       "        vertical-align: middle;\n",
       "    }\n",
       "\n",
       "    .dataframe tbody tr th {\n",
       "        vertical-align: top;\n",
       "    }\n",
       "\n",
       "    .dataframe thead th {\n",
       "        text-align: right;\n",
       "    }\n",
       "</style>\n",
       "<table border=\"1\" class=\"dataframe\">\n",
       "  <thead>\n",
       "    <tr style=\"text-align: right;\">\n",
       "      <th></th>\n",
       "      <th>name</th>\n",
       "      <th>start_date</th>\n",
       "    </tr>\n",
       "  </thead>\n",
       "  <tbody>\n",
       "    <tr>\n",
       "      <th>1</th>\n",
       "      <td>East Street Arts, A City Less Grey 2022</td>\n",
       "      <td>2022-10-08</td>\n",
       "    </tr>\n",
       "    <tr>\n",
       "      <th>3</th>\n",
       "      <td>Phoenix Dance Theatre Virtual Gallery</td>\n",
       "      <td>2023-01-01</td>\n",
       "    </tr>\n",
       "    <tr>\n",
       "      <th>4</th>\n",
       "      <td>The Big Art Giveaway, School of Creative Arts ...</td>\n",
       "      <td>2023-01-01</td>\n",
       "    </tr>\n",
       "    <tr>\n",
       "      <th>5</th>\n",
       "      <td>Embassy of Netherlands, Meet Leeds Lab</td>\n",
       "      <td>2023-01-16</td>\n",
       "    </tr>\n",
       "    <tr>\n",
       "      <th>6</th>\n",
       "      <td>Shifting Borders: A Journey to the Centre of o...</td>\n",
       "      <td>2023-01-24</td>\n",
       "    </tr>\n",
       "    <tr>\n",
       "      <th>...</th>\n",
       "      <td>...</td>\n",
       "      <td>...</td>\n",
       "    </tr>\n",
       "    <tr>\n",
       "      <th>334</th>\n",
       "      <td>Wellbeing Wednesdays</td>\n",
       "      <td>2023-11-22</td>\n",
       "    </tr>\n",
       "    <tr>\n",
       "      <th>345</th>\n",
       "      <td>Art Social for Teachers: Textile Stories with ...</td>\n",
       "      <td>2023-12-06</td>\n",
       "    </tr>\n",
       "    <tr>\n",
       "      <th>348</th>\n",
       "      <td>Leeds Beckett University presents ‘A Christmas...</td>\n",
       "      <td>2023-12-08</td>\n",
       "    </tr>\n",
       "    <tr>\n",
       "      <th>349</th>\n",
       "      <td>Mohammad Barrangi: Last Dream</td>\n",
       "      <td>2023-12-11</td>\n",
       "    </tr>\n",
       "    <tr>\n",
       "      <th>352</th>\n",
       "      <td>Future Perfect - Preview Screening</td>\n",
       "      <td>2023-12-14</td>\n",
       "    </tr>\n",
       "  </tbody>\n",
       "</table>\n",
       "<p>130 rows × 2 columns</p>\n",
       "</div>"
      ],
      "text/plain": [
       "                                                  name start_date\n",
       "1              East Street Arts, A City Less Grey 2022 2022-10-08\n",
       "3                Phoenix Dance Theatre Virtual Gallery 2023-01-01\n",
       "4    The Big Art Giveaway, School of Creative Arts ... 2023-01-01\n",
       "5               Embassy of Netherlands, Meet Leeds Lab 2023-01-16\n",
       "6    Shifting Borders: A Journey to the Centre of o... 2023-01-24\n",
       "..                                                 ...        ...\n",
       "334                               Wellbeing Wednesdays 2023-11-22\n",
       "345  Art Social for Teachers: Textile Stories with ... 2023-12-06\n",
       "348  Leeds Beckett University presents ‘A Christmas... 2023-12-08\n",
       "349                      Mohammad Barrangi: Last Dream 2023-12-11\n",
       "352                 Future Perfect - Preview Screening 2023-12-14\n",
       "\n",
       "[130 rows x 2 columns]"
      ]
     },
     "execution_count": 9,
     "metadata": {},
     "output_type": "execute_result"
    }
   ],
   "source": [
    "data[data.postcode.isna()][[\n",
    "    'name', 'start_date'\n",
    "]]"
   ]
  },
  {
   "cell_type": "markdown",
   "id": "96e338ce",
   "metadata": {
    "papermill": {
     "duration": 0.002378,
     "end_time": "2023-12-23T23:41:02.849790",
     "exception": false,
     "start_time": "2023-12-23T23:41:02.847412",
     "status": "completed"
    },
    "tags": []
   },
   "source": [
    "Plot the pricing"
   ]
  },
  {
   "cell_type": "code",
   "execution_count": 10,
   "id": "52a5ae1e",
   "metadata": {
    "execution": {
     "iopub.execute_input": "2023-12-23T23:41:02.855833Z",
     "iopub.status.busy": "2023-12-23T23:41:02.855361Z",
     "iopub.status.idle": "2023-12-23T23:41:03.340043Z",
     "shell.execute_reply": "2023-12-23T23:41:03.339294Z"
    },
    "papermill": {
     "duration": 0.489201,
     "end_time": "2023-12-23T23:41:03.341446",
     "exception": false,
     "start_time": "2023-12-23T23:41:02.852245",
     "status": "completed"
    },
    "tags": []
   },
   "outputs": [
    {
     "data": {
      "image/png": "[encoded data removed]",
      "text/plain": [
       "<Figure size 640x480 with 1 Axes>"
      ]
     },
     "metadata": {},
     "output_type": "display_data"
    }
   ],
   "source": [
    "# .groupby('pricing').count().plot.barh()\n",
    "pricing = data.pricing.fillna('Unspecified').str.replace('[\\[\\'\\]]', '', regex=True).to_frame().reset_index().groupby('pricing').count()\n",
    "\n",
    "pricing.columns = ['count']\n",
    "plot = pricing.plot.barh()\n"
   ]
  },
  {
   "cell_type": "code",
   "execution_count": null,
   "id": "9956e7fb",
   "metadata": {
    "papermill": {
     "duration": 0.002809,
     "end_time": "2023-12-23T23:41:03.347387",
     "exception": false,
     "start_time": "2023-12-23T23:41:03.344578",
     "status": "completed"
    },
    "tags": []
   },
   "outputs": [],
   "source": []
  }
 ],
 "metadata": {
  "kernelspec": {
   "display_name": "leeds-2023-YZF5GfJv",
   "language": "python",
   "name": "python3"
  },
  "language_info": {
   "codemirror_mode": {
    "name": "ipython",
    "version": 3
   },
   "file_extension": ".py",
   "mimetype": "text/x-python",
   "name": "python",
   "nbconvert_exporter": "python",
   "pygments_lexer": "ipython3",
   "version": "3.10.13"
  },
  "papermill": {
   "default_parameters": {},
   "duration": 10.597161,
   "end_time": "2023-12-23T23:41:03.666447",
   "environment_variables": {},
   "exception": null,
   "input_path": "transform.ipynb",
   "output_path": "../../../working/output/partner-events-transform.ipynb",
   "parameters": {},
   "start_time": "2023-12-23T23:40:53.069286",
   "version": "2.4.0"
  }
 },
 "nbformat": 4,
 "nbformat_minor": 5
}