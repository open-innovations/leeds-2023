{
 "cells": [
  {
   "cell_type": "code",
   "execution_count": 1,
   "id": "12651b1e",
   "metadata": {
    "execution": {
     "iopub.execute_input": "2023-08-30T23:39:41.925586Z",
     "iopub.status.busy": "2023-08-30T23:39:41.924987Z",
     "iopub.status.idle": "2023-08-30T23:39:42.178195Z",
     "shell.execute_reply": "2023-08-30T23:39:42.177471Z"
    },
    "papermill": {
     "duration": 0.259285,
     "end_time": "2023-08-30T23:39:42.180536",
     "exception": false,
     "start_time": "2023-08-30T23:39:41.921251",
     "status": "completed"
    },
    "tags": []
   },
   "outputs": [],
   "source": [
    "import os\n",
    "import pandas as pd"
   ]
  },
  {
   "cell_type": "code",
   "execution_count": 2,
   "id": "b225ea5c",
   "metadata": {
    "execution": {
     "iopub.execute_input": "2023-08-30T23:39:42.185889Z",
     "iopub.status.busy": "2023-08-30T23:39:42.185341Z",
     "iopub.status.idle": "2023-08-30T23:39:42.188883Z",
     "shell.execute_reply": "2023-08-30T23:39:42.188179Z"
    },
    "papermill": {
     "duration": 0.007951,
     "end_time": "2023-08-30T23:39:42.190494",
     "exception": false,
     "start_time": "2023-08-30T23:39:42.182543",
     "status": "completed"
    },
    "tags": []
   },
   "outputs": [],
   "source": [
    "DATA_DIR='../../../docs/metrics/events/promote/_data/'\n",
    "os.makedirs(DATA_DIR, exist_ok=True)"
   ]
  },
  {
   "cell_type": "code",
   "execution_count": 3,
   "id": "9ba7fc6d",
   "metadata": {
    "execution": {
     "iopub.execute_input": "2023-08-30T23:39:42.195027Z",
     "iopub.status.busy": "2023-08-30T23:39:42.194514Z",
     "iopub.status.idle": "2023-08-30T23:39:42.203177Z",
     "shell.execute_reply": "2023-08-30T23:39:42.202617Z"
    },
    "papermill": {
     "duration": 0.012618,
     "end_time": "2023-08-30T23:39:42.204725",
     "exception": false,
     "start_time": "2023-08-30T23:39:42.192107",
     "status": "completed"
    },
    "tags": []
   },
   "outputs": [],
   "source": [
    "data = pd.read_csv('../../../data/metrics/events/promote-events/events.csv', parse_dates=['time'])"
   ]
  },
  {
   "cell_type": "code",
   "execution_count": 4,
   "id": "e1196566",
   "metadata": {
    "execution": {
     "iopub.execute_input": "2023-08-30T23:39:42.209199Z",
     "iopub.status.busy": "2023-08-30T23:39:42.208786Z",
     "iopub.status.idle": "2023-08-30T23:39:42.213938Z",
     "shell.execute_reply": "2023-08-30T23:39:42.213285Z"
    },
    "papermill": {
     "duration": 0.009081,
     "end_time": "2023-08-30T23:39:42.215408",
     "exception": false,
     "start_time": "2023-08-30T23:39:42.206327",
     "status": "completed"
    },
    "tags": []
   },
   "outputs": [],
   "source": [
    "pd.Series({\n",
    "    'total_events': len(data.id.unique()),\n",
    "    'total_event_instances': len(data.time),\n",
    "    'earliest_event': data.time.min(),\n",
    "    'latest_event': data.time.max(),\n",
    "}).to_json(\n",
    "    os.path.join(DATA_DIR, 'headlines.json'),\n",
    "    date_format='iso', indent=2\n",
    ")"
   ]
  },
  {
   "cell_type": "code",
   "execution_count": 5,
   "id": "8f31244a",
   "metadata": {
    "execution": {
     "iopub.execute_input": "2023-08-30T23:39:42.219845Z",
     "iopub.status.busy": "2023-08-30T23:39:42.219438Z",
     "iopub.status.idle": "2023-08-30T23:39:42.227448Z",
     "shell.execute_reply": "2023-08-30T23:39:42.226787Z"
    },
    "papermill": {
     "duration": 0.01196,
     "end_time": "2023-08-30T23:39:42.228991",
     "exception": false,
     "start_time": "2023-08-30T23:39:42.217031",
     "status": "completed"
    },
    "tags": []
   },
   "outputs": [],
   "source": [
    "events = pd.DataFrame({\n",
    "    'events': data.groupby('id').agg({ 'time': 'min' }).reset_index().groupby('time').id.count(),\n",
    "    'event_instances': data.groupby('time').id.count(),\n",
    "}).fillna(0).astype(int)"
   ]
  },
  {
   "cell_type": "code",
   "execution_count": 6,
   "id": "f37f39c1",
   "metadata": {
    "execution": {
     "iopub.execute_input": "2023-08-30T23:39:42.233550Z",
     "iopub.status.busy": "2023-08-30T23:39:42.233200Z",
     "iopub.status.idle": "2023-08-30T23:39:42.236729Z",
     "shell.execute_reply": "2023-08-30T23:39:42.236082Z"
    },
    "papermill": {
     "duration": 0.007464,
     "end_time": "2023-08-30T23:39:42.238159",
     "exception": false,
     "start_time": "2023-08-30T23:39:42.230695",
     "status": "completed"
    },
    "tags": []
   },
   "outputs": [],
   "source": [
    "def cumulate(data):\n",
    "    return pd.concat([\n",
    "        data,\n",
    "        data.cumsum().rename(columns=lambda c: f'cumulative_{c}')\n",
    "    ], axis=1)"
   ]
  },
  {
   "cell_type": "code",
   "execution_count": 7,
   "id": "320ef2d6",
   "metadata": {
    "execution": {
     "iopub.execute_input": "2023-08-30T23:39:42.242693Z",
     "iopub.status.busy": "2023-08-30T23:39:42.242347Z",
     "iopub.status.idle": "2023-08-30T23:39:42.252543Z",
     "shell.execute_reply": "2023-08-30T23:39:42.251933Z"
    },
    "papermill": {
     "duration": 0.014374,
     "end_time": "2023-08-30T23:39:42.254210",
     "exception": false,
     "start_time": "2023-08-30T23:39:42.239836",
     "status": "completed"
    },
    "tags": []
   },
   "outputs": [],
   "source": [
    "events.resample('W-FRI').sum().pipe(cumulate).to_csv(os.path.join(DATA_DIR, 'by_week.csv'))"
   ]
  },
  {
   "cell_type": "code",
   "execution_count": 8,
   "id": "00effbd1",
   "metadata": {
    "execution": {
     "iopub.execute_input": "2023-08-30T23:39:42.259196Z",
     "iopub.status.busy": "2023-08-30T23:39:42.258781Z",
     "iopub.status.idle": "2023-08-30T23:39:42.265232Z",
     "shell.execute_reply": "2023-08-30T23:39:42.264568Z"
    },
    "papermill": {
     "duration": 0.010631,
     "end_time": "2023-08-30T23:39:42.266752",
     "exception": false,
     "start_time": "2023-08-30T23:39:42.256121",
     "status": "completed"
    },
    "tags": []
   },
   "outputs": [],
   "source": [
    "events.resample('MS').sum().pipe(cumulate).to_csv(os.path.join(DATA_DIR, 'by_month.csv'))"
   ]
  },
  {
   "cell_type": "code",
   "execution_count": null,
   "id": "dd1f6774",
   "metadata": {
    "papermill": {
     "duration": 0.001758,
     "end_time": "2023-08-30T23:39:42.270291",
     "exception": false,
     "start_time": "2023-08-30T23:39:42.268533",
     "status": "completed"
    },
    "tags": []
   },
   "outputs": [],
   "source": []
  }
 ],
 "metadata": {
  "kernelspec": {
   "display_name": "leeds-2023-YZF5GfJv",
   "language": "python",
   "name": "python3"
  },
  "language_info": {
   "codemirror_mode": {
    "name": "ipython",
    "version": 3
   },
   "file_extension": ".py",
   "mimetype": "text/x-python",
   "name": "python",
   "nbconvert_exporter": "python",
   "pygments_lexer": "ipython3",
   "version": "3.10.12"
  },
  "papermill": {
   "default_parameters": {},
   "duration": 1.969739,
   "end_time": "2023-08-30T23:39:42.488427",
   "environment_variables": {},
   "exception": null,
   "input_path": "prepare.ipynb",
   "output_path": "../../../working/output/promote-events-prepare.ipynb",
   "parameters": {},
   "start_time": "2023-08-30T23:39:40.518688",
   "version": "2.4.0"
  }
 },
 "nbformat": 4,
 "nbformat_minor": 5
}