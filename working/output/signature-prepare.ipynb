{
 "cells": [
  {
   "cell_type": "code",
   "execution_count": 1,
   "id": "c4a308fc",
   "metadata": {
    "execution": {
     "iopub.execute_input": "2023-10-11T23:42:11.373347Z",
     "iopub.status.busy": "2023-10-11T23:42:11.372686Z",
     "iopub.status.idle": "2023-10-11T23:42:25.433338Z",
     "shell.execute_reply": "2023-10-11T23:42:25.432436Z"
    },
    "papermill": {
     "duration": 14.070155,
     "end_time": "2023-10-11T23:42:25.435910",
     "exception": false,
     "start_time": "2023-10-11T23:42:11.365755",
     "status": "completed"
    },
    "tags": []
   },
   "outputs": [],
   "source": [
    "import os\n",
    "import pandas as pd\n",
    "from events import load_event_data, get_first_ward, normalise_ward"
   ]
  },
  {
   "cell_type": "code",
   "execution_count": 2,
   "id": "1e489a5f",
   "metadata": {
    "execution": {
     "iopub.execute_input": "2023-10-11T23:42:25.443909Z",
     "iopub.status.busy": "2023-10-11T23:42:25.443401Z",
     "iopub.status.idle": "2023-10-11T23:42:25.448049Z",
     "shell.execute_reply": "2023-10-11T23:42:25.447314Z"
    },
    "papermill": {
     "duration": 0.010837,
     "end_time": "2023-10-11T23:42:25.449847",
     "exception": false,
     "start_time": "2023-10-11T23:42:25.439010",
     "status": "completed"
    },
    "tags": []
   },
   "outputs": [],
   "source": [
    "latest_date = pd.Timestamp.today().ceil('D')"
   ]
  },
  {
   "cell_type": "code",
   "execution_count": 3,
   "id": "6e2e21d6",
   "metadata": {
    "execution": {
     "iopub.execute_input": "2023-10-11T23:42:25.456164Z",
     "iopub.status.busy": "2023-10-11T23:42:25.455575Z",
     "iopub.status.idle": "2023-10-11T23:42:25.476727Z",
     "shell.execute_reply": "2023-10-11T23:42:25.475889Z"
    },
    "papermill": {
     "duration": 0.026301,
     "end_time": "2023-10-11T23:42:25.478278",
     "exception": false,
     "start_time": "2023-10-11T23:42:25.451977",
     "status": "completed"
    },
    "tags": []
   },
   "outputs": [],
   "source": [
    "tickets = pd.read_csv('../../../../data/metrics/events/tickets/orders.csv', parse_dates=['created_at', 'event_date'])\n",
    "tickets = tickets[tickets.event_date <= latest_date]"
   ]
  },
  {
   "cell_type": "code",
   "execution_count": 4,
   "id": "27e7d827",
   "metadata": {
    "execution": {
     "iopub.execute_input": "2023-10-11T23:42:25.485045Z",
     "iopub.status.busy": "2023-10-11T23:42:25.484630Z",
     "iopub.status.idle": "2023-10-11T23:42:25.757983Z",
     "shell.execute_reply": "2023-10-11T23:42:25.756609Z"
    },
    "papermill": {
     "duration": 0.279793,
     "end_time": "2023-10-11T23:42:25.760831",
     "exception": false,
     "start_time": "2023-10-11T23:42:25.481038",
     "status": "completed"
    },
    "tags": []
   },
   "outputs": [],
   "source": [
    "events = load_event_data()\n",
    "\n",
    "events = pd.concat([\n",
    "  events,\n",
    "  events.pipe(get_first_ward).pipe(normalise_ward).fillna('UNKNOWN'),\n",
    "  pd.Series(\n",
    "      events.actual_audience_size_number_of_participants_in_person + events.actual_audience_size_number_of_participants_online,\n",
    "      name='attendances'\n",
    "  )\n",
    "], axis=1).rename(columns={\n",
    "    'start_date': 'date'\n",
    "}).loc[:, ['ward_code', 'date', 'event_unique_identifier', 'attendances']]"
   ]
  },
  {
   "cell_type": "code",
   "execution_count": 5,
   "id": "026c2251",
   "metadata": {
    "execution": {
     "iopub.execute_input": "2023-10-11T23:42:25.769043Z",
     "iopub.status.busy": "2023-10-11T23:42:25.768606Z",
     "iopub.status.idle": "2023-10-11T23:42:25.772826Z",
     "shell.execute_reply": "2023-10-11T23:42:25.772207Z"
    },
    "papermill": {
     "duration": 0.010334,
     "end_time": "2023-10-11T23:42:25.774649",
     "exception": false,
     "start_time": "2023-10-11T23:42:25.764315",
     "status": "completed"
    },
    "tags": []
   },
   "outputs": [],
   "source": [
    "OUTPUT_DIR='../../../../docs/metrics/events/signature/_data/'\n",
    "os.makedirs(OUTPUT_DIR, exist_ok=True)"
   ]
  },
  {
   "cell_type": "markdown",
   "id": "1fcfd2ea",
   "metadata": {
    "papermill": {
     "duration": 0.003131,
     "end_time": "2023-10-11T23:42:25.780725",
     "exception": false,
     "start_time": "2023-10-11T23:42:25.777594",
     "status": "completed"
    },
    "tags": []
   },
   "source": [
    "Events CSVs"
   ]
  },
  {
   "cell_type": "code",
   "execution_count": 6,
   "id": "f1bd4ac0",
   "metadata": {
    "execution": {
     "iopub.execute_input": "2023-10-11T23:42:25.787882Z",
     "iopub.status.busy": "2023-10-11T23:42:25.787396Z",
     "iopub.status.idle": "2023-10-11T23:42:25.796106Z",
     "shell.execute_reply": "2023-10-11T23:42:25.795311Z"
    },
    "papermill": {
     "duration": 0.014609,
     "end_time": "2023-10-11T23:42:25.798149",
     "exception": false,
     "start_time": "2023-10-11T23:42:25.783540",
     "status": "completed"
    },
    "tags": []
   },
   "outputs": [],
   "source": [
    "pd.DataFrame({\n",
    "  'events': events.groupby('ward_code').event_unique_identifier.count(),\n",
    "  'attendances': events.groupby('ward_code').attendances.sum().astype(int),\n",
    "}).to_csv(os.path.join(OUTPUT_DIR, 'events_by_ward.csv'))\n"
   ]
  },
  {
   "cell_type": "code",
   "execution_count": 7,
   "id": "95925e46",
   "metadata": {
    "execution": {
     "iopub.execute_input": "2023-10-11T23:42:25.805514Z",
     "iopub.status.busy": "2023-10-11T23:42:25.805247Z",
     "iopub.status.idle": "2023-10-11T23:42:25.819836Z",
     "shell.execute_reply": "2023-10-11T23:42:25.818988Z"
    },
    "papermill": {
     "duration": 0.020869,
     "end_time": "2023-10-11T23:42:25.822064",
     "exception": false,
     "start_time": "2023-10-11T23:42:25.801195",
     "status": "completed"
    },
    "tags": []
   },
   "outputs": [],
   "source": [
    "pd.DataFrame({\n",
    "  'events': events.groupby('date').event_unique_identifier.count(),\n",
    "  'attendances': events.groupby('date').attendances.sum().astype(int),\n",
    "}).resample('M').sum().astype(int).to_csv(os.path.join(OUTPUT_DIR, 'events_by_date.csv'))"
   ]
  },
  {
   "cell_type": "markdown",
   "id": "2d8911b7",
   "metadata": {
    "papermill": {
     "duration": 0.003201,
     "end_time": "2023-10-11T23:42:25.828506",
     "exception": false,
     "start_time": "2023-10-11T23:42:25.825305",
     "status": "completed"
    },
    "tags": []
   },
   "source": [
    "Tickets CSV"
   ]
  },
  {
   "cell_type": "code",
   "execution_count": 8,
   "id": "3b71793a",
   "metadata": {
    "execution": {
     "iopub.execute_input": "2023-10-11T23:42:25.837480Z",
     "iopub.status.busy": "2023-10-11T23:42:25.836641Z",
     "iopub.status.idle": "2023-10-11T23:42:25.846761Z",
     "shell.execute_reply": "2023-10-11T23:42:25.846022Z"
    },
    "papermill": {
     "duration": 0.016525,
     "end_time": "2023-10-11T23:42:25.848689",
     "exception": false,
     "start_time": "2023-10-11T23:42:25.832164",
     "status": "completed"
    },
    "tags": []
   },
   "outputs": [],
   "source": [
    "pd.DataFrame({\n",
    "  'orders': tickets.groupby('ward_code').number_of_tickets.count(),\n",
    "  'tickets': tickets.groupby('ward_code').number_of_tickets.sum().astype(int),\n",
    "}).to_csv(os.path.join(OUTPUT_DIR, 'tickets_by_ward.csv'))"
   ]
  },
  {
   "cell_type": "code",
   "execution_count": 9,
   "id": "08efa694",
   "metadata": {
    "execution": {
     "iopub.execute_input": "2023-10-11T23:42:25.856872Z",
     "iopub.status.busy": "2023-10-11T23:42:25.856233Z",
     "iopub.status.idle": "2023-10-11T23:42:25.866861Z",
     "shell.execute_reply": "2023-10-11T23:42:25.866132Z"
    },
    "papermill": {
     "duration": 0.016692,
     "end_time": "2023-10-11T23:42:25.868681",
     "exception": false,
     "start_time": "2023-10-11T23:42:25.851989",
     "status": "completed"
    },
    "tags": []
   },
   "outputs": [],
   "source": [
    "pd.DataFrame({\n",
    "  'orders': tickets.groupby('event_date').number_of_tickets.count(),\n",
    "  'tickets': tickets.groupby('event_date').number_of_tickets.sum().astype(int),\n",
    "}).resample('M').sum().to_csv(os.path.join(OUTPUT_DIR, 'tickets_by_event_date.csv'))"
   ]
  },
  {
   "cell_type": "code",
   "execution_count": 10,
   "id": "c725f70c",
   "metadata": {
    "execution": {
     "iopub.execute_input": "2023-10-11T23:42:25.879999Z",
     "iopub.status.busy": "2023-10-11T23:42:25.879288Z",
     "iopub.status.idle": "2023-10-11T23:42:25.886968Z",
     "shell.execute_reply": "2023-10-11T23:42:25.885332Z"
    },
    "papermill": {
     "duration": 0.015612,
     "end_time": "2023-10-11T23:42:25.888808",
     "exception": false,
     "start_time": "2023-10-11T23:42:25.873196",
     "status": "completed"
    },
    "tags": []
   },
   "outputs": [],
   "source": [
    "pd.Series({\n",
    "    'total_events': events.event_unique_identifier.count(),\n",
    "    'total_attendances': events.attendances.count(),\n",
    "    'first_event': events.date.min(),\n",
    "    'latest_event': events.date.max(),\n",
    "    'total_ticket_orders_for_events_to_date': tickets.number_of_tickets.count(),\n",
    "    'total_tickets_sold_for_events_to_date': tickets.number_of_tickets.sum(),\n",
    "}).to_json(os.path.join(OUTPUT_DIR, 'headlines.json'), indent=2)"
   ]
  },
  {
   "cell_type": "code",
   "execution_count": null,
   "id": "43e7179d",
   "metadata": {
    "papermill": {
     "duration": 0.002879,
     "end_time": "2023-10-11T23:42:25.894699",
     "exception": false,
     "start_time": "2023-10-11T23:42:25.891820",
     "status": "completed"
    },
    "tags": []
   },
   "outputs": [],
   "source": []
  }
 ],
 "metadata": {
  "kernelspec": {
   "display_name": "leeds-2023-YZF5GfJv",
   "language": "python",
   "name": "python3"
  },
  "language_info": {
   "codemirror_mode": {
    "name": "ipython",
    "version": 3
   },
   "file_extension": ".py",
   "mimetype": "text/x-python",
   "name": "python",
   "nbconvert_exporter": "python",
   "pygments_lexer": "ipython3",
   "version": "3.10.13"
  },
  "papermill": {
   "default_parameters": {},
   "duration": 16.609556,
   "end_time": "2023-10-11T23:42:26.317835",
   "environment_variables": {},
   "exception": null,
   "input_path": "prepare.ipynb",
   "output_path": "../../../../working/output/signature-prepare.ipynb",
   "parameters": {},
   "start_time": "2023-10-11T23:42:09.708279",
   "version": "2.4.0"
  }
 },
 "nbformat": 4,
 "nbformat_minor": 5
}