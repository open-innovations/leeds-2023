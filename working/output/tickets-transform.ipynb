{
 "cells": [
  {
   "cell_type": "code",
   "execution_count": 1,
   "id": "1ecbfd3e",
   "metadata": {
    "execution": {
     "iopub.execute_input": "2023-12-18T23:38:58.535955Z",
     "iopub.status.busy": "2023-12-18T23:38:58.535702Z",
     "iopub.status.idle": "2023-12-18T23:38:58.777863Z",
     "shell.execute_reply": "2023-12-18T23:38:58.777275Z"
    },
    "papermill": {
     "duration": 0.247982,
     "end_time": "2023-12-18T23:38:58.779533",
     "exception": false,
     "start_time": "2023-12-18T23:38:58.531551",
     "status": "completed"
    },
    "tags": []
   },
   "outputs": [],
   "source": [
    "import sys\n",
    "from pathlib import Path\n",
    "\n",
    "import pandas as pd\n",
    "\n",
    "TOP_DIR = Path('../../../..').resolve()\n",
    "\n",
    "if str(TOP_DIR) not in sys.path: sys.path.append(str(TOP_DIR))"
   ]
  },
  {
   "cell_type": "code",
   "execution_count": 2,
   "id": "822d168d",
   "metadata": {
    "execution": {
     "iopub.execute_input": "2023-12-18T23:38:58.785965Z",
     "iopub.status.busy": "2023-12-18T23:38:58.785508Z",
     "iopub.status.idle": "2023-12-18T23:39:05.910310Z",
     "shell.execute_reply": "2023-12-18T23:39:05.909645Z"
    },
    "papermill": {
     "duration": 7.129641,
     "end_time": "2023-12-18T23:39:05.911941",
     "exception": false,
     "start_time": "2023-12-18T23:38:58.782300",
     "status": "completed"
    },
    "tags": []
   },
   "outputs": [],
   "source": [
    "from lib.util.geo import postcode_formatter, postcode_to_ward_code"
   ]
  },
  {
   "cell_type": "code",
   "execution_count": 3,
   "id": "8fb766c3",
   "metadata": {
    "execution": {
     "iopub.execute_input": "2023-12-18T23:39:05.918314Z",
     "iopub.status.busy": "2023-12-18T23:39:05.917909Z",
     "iopub.status.idle": "2023-12-18T23:39:05.939690Z",
     "shell.execute_reply": "2023-12-18T23:39:05.939167Z"
    },
    "papermill": {
     "duration": 0.026414,
     "end_time": "2023-12-18T23:39:05.941126",
     "exception": false,
     "start_time": "2023-12-18T23:39:05.914712",
     "status": "completed"
    },
    "tags": []
   },
   "outputs": [],
   "source": [
    "ticket_data = pd.read_csv(\n",
    "    '../../../../working/metrics/ticketing/orders.csv',\n",
    "    parse_dates=['created_at', 'event_date'],\n",
    "    usecols=[\n",
    "        'created_at',\n",
    "        'event_id',\n",
    "        'event_name',\n",
    "        'event_date',\n",
    "        'event_time',\n",
    "        'number_of_tickets',\n",
    "        'postcode_from_question',\n",
    "        'postcode_from_address',\n",
    "        'status',\n",
    "    ]\n",
    ")"
   ]
  },
  {
   "cell_type": "code",
   "execution_count": 4,
   "id": "93312db7",
   "metadata": {
    "execution": {
     "iopub.execute_input": "2023-12-18T23:39:05.947149Z",
     "iopub.status.busy": "2023-12-18T23:39:05.946750Z",
     "iopub.status.idle": "2023-12-18T23:39:05.955807Z",
     "shell.execute_reply": "2023-12-18T23:39:05.955255Z"
    },
    "papermill": {
     "duration": 0.013576,
     "end_time": "2023-12-18T23:39:05.957171",
     "exception": false,
     "start_time": "2023-12-18T23:39:05.943595",
     "status": "completed"
    },
    "tags": []
   },
   "outputs": [
    {
     "name": "stdout",
     "output_type": "stream",
     "text": [
      "<class 'pandas.core.frame.DataFrame'>\n",
      "RangeIndex: 6718 entries, 0 to 6717\n",
      "Data columns (total 9 columns):\n",
      " #   Column                  Non-Null Count  Dtype         \n",
      "---  ------                  --------------  -----         \n",
      " 0   postcode_from_question  6343 non-null   object        \n",
      " 1   postcode_from_address   853 non-null    object        \n",
      " 2   created_at              6718 non-null   datetime64[ns]\n",
      " 3   event_id                6718 non-null   object        \n",
      " 4   event_name              6718 non-null   object        \n",
      " 5   event_date              6718 non-null   datetime64[ns]\n",
      " 6   event_time              6718 non-null   object        \n",
      " 7   number_of_tickets       6718 non-null   int64         \n",
      " 8   status                  6718 non-null   object        \n",
      "dtypes: datetime64[ns](2), int64(1), object(6)\n",
      "memory usage: 472.5+ KB\n"
     ]
    }
   ],
   "source": [
    "ticket_data.info()"
   ]
  },
  {
   "cell_type": "code",
   "execution_count": 5,
   "id": "16da68f9",
   "metadata": {
    "execution": {
     "iopub.execute_input": "2023-12-18T23:39:05.963269Z",
     "iopub.status.busy": "2023-12-18T23:39:05.962861Z",
     "iopub.status.idle": "2023-12-18T23:39:05.967825Z",
     "shell.execute_reply": "2023-12-18T23:39:05.967336Z"
    },
    "papermill": {
     "duration": 0.009518,
     "end_time": "2023-12-18T23:39:05.969210",
     "exception": false,
     "start_time": "2023-12-18T23:39:05.959692",
     "status": "completed"
    },
    "tags": []
   },
   "outputs": [],
   "source": [
    "completed_orders = (\n",
    "    ticket_data.loc[\n",
    "        ~ticket_data.status.isin(['cancelled']),\n",
    "        ticket_data.columns\n",
    "    ]\n",
    ")"
   ]
  },
  {
   "cell_type": "code",
   "execution_count": 6,
   "id": "e28fda68",
   "metadata": {
    "execution": {
     "iopub.execute_input": "2023-12-18T23:39:05.976010Z",
     "iopub.status.busy": "2023-12-18T23:39:05.975630Z",
     "iopub.status.idle": "2023-12-18T23:39:06.916070Z",
     "shell.execute_reply": "2023-12-18T23:39:06.915403Z"
    },
    "papermill": {
     "duration": 0.946041,
     "end_time": "2023-12-18T23:39:06.917800",
     "exception": false,
     "start_time": "2023-12-18T23:39:05.971759",
     "status": "completed"
    },
    "tags": []
   },
   "outputs": [],
   "source": [
    "completed_orders['ward_code'] = (\n",
    "    completed_orders\n",
    "        .loc[:, ['postcode_from_question', 'postcode_from_address']]\n",
    "        .bfill()\n",
    "        .iloc[:, 0]\n",
    "        .pipe(postcode_formatter)\n",
    "        .map(postcode_to_ward_code)\n",
    ")"
   ]
  },
  {
   "cell_type": "markdown",
   "id": "0fc6f9e4",
   "metadata": {
    "papermill": {
     "duration": 0.00263,
     "end_time": "2023-12-18T23:39:06.923437",
     "exception": false,
     "start_time": "2023-12-18T23:39:06.920807",
     "status": "completed"
    },
    "tags": []
   },
   "source": [
    "Get the events data"
   ]
  },
  {
   "cell_type": "code",
   "execution_count": 7,
   "id": "e944758d",
   "metadata": {
    "execution": {
     "iopub.execute_input": "2023-12-18T23:39:06.930043Z",
     "iopub.status.busy": "2023-12-18T23:39:06.929577Z",
     "iopub.status.idle": "2023-12-18T23:39:06.945566Z",
     "shell.execute_reply": "2023-12-18T23:39:06.945031Z"
    },
    "papermill": {
     "duration": 0.020864,
     "end_time": "2023-12-18T23:39:06.946914",
     "exception": false,
     "start_time": "2023-12-18T23:39:06.926050",
     "status": "completed"
    },
    "tags": []
   },
   "outputs": [],
   "source": [
    "def prepare_events(data: pd.DataFrame):\n",
    "    data = data.rename(columns={\n",
    "        'Project name': 'project_name',\n",
    "        'Event type': 'event_type',\n",
    "        'Ticket Tailor ID': 'ticket_tailor_id'\n",
    "    })\n",
    "    data['public_event'] = data.event_type.str.contains('Public Event')\n",
    "    data['ticket_tailor_id'] = data.ticket_tailor_id.str.split(\n",
    "        pat=r'[\\s,]+', regex=True)\n",
    "    data = data.drop(columns=['event_type'])\n",
    "    data = data.explode('ticket_tailor_id')\n",
    "    data = data.loc[data.ticket_tailor_id.notna() & (data.ticket_tailor_id != '')]\n",
    "    return data\n",
    "\n",
    "\n",
    "events = pd.read_csv(\n",
    "    '../../../../working/metrics/events/all.csv',\n",
    "    usecols=[\n",
    "        'Project name',\n",
    "        'Event type',\n",
    "        'Ticket Tailor ID'\n",
    "    ]\n",
    ").pipe(prepare_events)"
   ]
  },
  {
   "cell_type": "markdown",
   "id": "e41f51f6",
   "metadata": {
    "papermill": {
     "duration": 0.002539,
     "end_time": "2023-12-18T23:39:06.952177",
     "exception": false,
     "start_time": "2023-12-18T23:39:06.949638",
     "status": "completed"
    },
    "tags": []
   },
   "source": [
    "Duplicated ticket tailor IDs"
   ]
  },
  {
   "cell_type": "code",
   "execution_count": 8,
   "id": "c021bca0",
   "metadata": {
    "execution": {
     "iopub.execute_input": "2023-12-18T23:39:06.958438Z",
     "iopub.status.busy": "2023-12-18T23:39:06.958061Z",
     "iopub.status.idle": "2023-12-18T23:39:06.969031Z",
     "shell.execute_reply": "2023-12-18T23:39:06.968377Z"
    },
    "papermill": {
     "duration": 0.015581,
     "end_time": "2023-12-18T23:39:06.970335",
     "exception": false,
     "start_time": "2023-12-18T23:39:06.954754",
     "status": "completed"
    },
    "tags": []
   },
   "outputs": [
    {
     "data": {
      "text/html": [
       "<div>\n",
       "<style scoped>\n",
       "    .dataframe tbody tr th:only-of-type {\n",
       "        vertical-align: middle;\n",
       "    }\n",
       "\n",
       "    .dataframe tbody tr th {\n",
       "        vertical-align: top;\n",
       "    }\n",
       "\n",
       "    .dataframe thead th {\n",
       "        text-align: right;\n",
       "    }\n",
       "</style>\n",
       "<table border=\"1\" class=\"dataframe\">\n",
       "  <thead>\n",
       "    <tr style=\"text-align: right;\">\n",
       "      <th></th>\n",
       "      <th>project_name</th>\n",
       "      <th>ticket_tailor_id</th>\n",
       "      <th>public_event</th>\n",
       "    </tr>\n",
       "  </thead>\n",
       "  <tbody>\n",
       "    <tr>\n",
       "      <th>128</th>\n",
       "      <td>11 - All That Lives</td>\n",
       "      <td>985872</td>\n",
       "      <td>True</td>\n",
       "    </tr>\n",
       "    <tr>\n",
       "      <th>147</th>\n",
       "      <td>09 - Smeaton300: Moon Palace East Leeds Observ...</td>\n",
       "      <td>ev_2918127</td>\n",
       "      <td>True</td>\n",
       "    </tr>\n",
       "    <tr>\n",
       "      <th>173</th>\n",
       "      <td>11 - All That Lives</td>\n",
       "      <td>985872</td>\n",
       "      <td>True</td>\n",
       "    </tr>\n",
       "    <tr>\n",
       "      <th>268</th>\n",
       "      <td>Creative Learning S3</td>\n",
       "      <td>ev_3073624</td>\n",
       "      <td>False</td>\n",
       "    </tr>\n",
       "    <tr>\n",
       "      <th>328</th>\n",
       "      <td>11 - All That Lives</td>\n",
       "      <td>985872</td>\n",
       "      <td>True</td>\n",
       "    </tr>\n",
       "    <tr>\n",
       "      <th>636</th>\n",
       "      <td>11 - All That Lives</td>\n",
       "      <td>985872</td>\n",
       "      <td>True</td>\n",
       "    </tr>\n",
       "    <tr>\n",
       "      <th>926</th>\n",
       "      <td>07 - Children's Day</td>\n",
       "      <td>ev_2963290</td>\n",
       "      <td>NaN</td>\n",
       "    </tr>\n",
       "    <tr>\n",
       "      <th>926</th>\n",
       "      <td>07 - Children's Day</td>\n",
       "      <td>ev_2963290</td>\n",
       "      <td>NaN</td>\n",
       "    </tr>\n",
       "    <tr>\n",
       "      <th>926</th>\n",
       "      <td>07 - Children's Day</td>\n",
       "      <td>ev_2963295</td>\n",
       "      <td>NaN</td>\n",
       "    </tr>\n",
       "    <tr>\n",
       "      <th>926</th>\n",
       "      <td>07 - Children's Day</td>\n",
       "      <td>ev_2963297</td>\n",
       "      <td>NaN</td>\n",
       "    </tr>\n",
       "    <tr>\n",
       "      <th>926</th>\n",
       "      <td>07 - Children's Day</td>\n",
       "      <td>ev_2963295</td>\n",
       "      <td>NaN</td>\n",
       "    </tr>\n",
       "    <tr>\n",
       "      <th>926</th>\n",
       "      <td>07 - Children's Day</td>\n",
       "      <td>ev_2963296</td>\n",
       "      <td>NaN</td>\n",
       "    </tr>\n",
       "    <tr>\n",
       "      <th>926</th>\n",
       "      <td>07 - Children's Day</td>\n",
       "      <td>ev_2963296</td>\n",
       "      <td>NaN</td>\n",
       "    </tr>\n",
       "    <tr>\n",
       "      <th>926</th>\n",
       "      <td>07 - Children's Day</td>\n",
       "      <td>ev_2963297</td>\n",
       "      <td>NaN</td>\n",
       "    </tr>\n",
       "    <tr>\n",
       "      <th>970</th>\n",
       "      <td>11 - All That Lives</td>\n",
       "      <td>985872</td>\n",
       "      <td>True</td>\n",
       "    </tr>\n",
       "    <tr>\n",
       "      <th>1147</th>\n",
       "      <td>09 - Smeaton300: Moon Palace East Leeds Observ...</td>\n",
       "      <td>ev_2918127</td>\n",
       "      <td>True</td>\n",
       "    </tr>\n",
       "    <tr>\n",
       "      <th>1426</th>\n",
       "      <td>07 - Children's Day</td>\n",
       "      <td>ev_2963290</td>\n",
       "      <td>True</td>\n",
       "    </tr>\n",
       "    <tr>\n",
       "      <th>1426</th>\n",
       "      <td>07 - Children's Day</td>\n",
       "      <td>ev_2963295</td>\n",
       "      <td>True</td>\n",
       "    </tr>\n",
       "    <tr>\n",
       "      <th>1426</th>\n",
       "      <td>07 - Children's Day</td>\n",
       "      <td>ev_2963296</td>\n",
       "      <td>True</td>\n",
       "    </tr>\n",
       "    <tr>\n",
       "      <th>1426</th>\n",
       "      <td>07 - Children's Day</td>\n",
       "      <td>ev_2963297</td>\n",
       "      <td>True</td>\n",
       "    </tr>\n",
       "    <tr>\n",
       "      <th>1445</th>\n",
       "      <td>09 - Smeaton300: Moon Palace East Leeds Observ...</td>\n",
       "      <td>ev_2918127</td>\n",
       "      <td>True</td>\n",
       "    </tr>\n",
       "    <tr>\n",
       "      <th>1529</th>\n",
       "      <td>Creative Learning S3</td>\n",
       "      <td>ev_3073624</td>\n",
       "      <td>False</td>\n",
       "    </tr>\n",
       "  </tbody>\n",
       "</table>\n",
       "</div>"
      ],
      "text/plain": [
       "                                           project_name ticket_tailor_id  \\\n",
       "128                                 11 - All That Lives           985872   \n",
       "147   09 - Smeaton300: Moon Palace East Leeds Observ...       ev_2918127   \n",
       "173                                 11 - All That Lives           985872   \n",
       "268                                Creative Learning S3       ev_3073624   \n",
       "328                                 11 - All That Lives           985872   \n",
       "636                                 11 - All That Lives           985872   \n",
       "926                                 07 - Children's Day       ev_2963290   \n",
       "926                                 07 - Children's Day       ev_2963290   \n",
       "926                                 07 - Children's Day       ev_2963295   \n",
       "926                                 07 - Children's Day       ev_2963297   \n",
       "926                                 07 - Children's Day       ev_2963295   \n",
       "926                                 07 - Children's Day       ev_2963296   \n",
       "926                                 07 - Children's Day       ev_2963296   \n",
       "926                                 07 - Children's Day       ev_2963297   \n",
       "970                                 11 - All That Lives           985872   \n",
       "1147  09 - Smeaton300: Moon Palace East Leeds Observ...       ev_2918127   \n",
       "1426                                07 - Children's Day       ev_2963290   \n",
       "1426                                07 - Children's Day       ev_2963295   \n",
       "1426                                07 - Children's Day       ev_2963296   \n",
       "1426                                07 - Children's Day       ev_2963297   \n",
       "1445  09 - Smeaton300: Moon Palace East Leeds Observ...       ev_2918127   \n",
       "1529                               Creative Learning S3       ev_3073624   \n",
       "\n",
       "     public_event  \n",
       "128          True  \n",
       "147          True  \n",
       "173          True  \n",
       "268         False  \n",
       "328          True  \n",
       "636          True  \n",
       "926           NaN  \n",
       "926           NaN  \n",
       "926           NaN  \n",
       "926           NaN  \n",
       "926           NaN  \n",
       "926           NaN  \n",
       "926           NaN  \n",
       "926           NaN  \n",
       "970          True  \n",
       "1147         True  \n",
       "1426         True  \n",
       "1426         True  \n",
       "1426         True  \n",
       "1426         True  \n",
       "1445         True  \n",
       "1529        False  "
      ]
     },
     "execution_count": 8,
     "metadata": {},
     "output_type": "execute_result"
    }
   ],
   "source": [
    "events[\n",
    "  events.ticket_tailor_id.isin(\n",
    "    events.ticket_tailor_id[\n",
    "      events.ticket_tailor_id.duplicated()\n",
    "    ].to_list()\n",
    "  )\n",
    "]"
   ]
  },
  {
   "cell_type": "code",
   "execution_count": 9,
   "id": "bc2c37b0",
   "metadata": {
    "execution": {
     "iopub.execute_input": "2023-12-18T23:39:06.976933Z",
     "iopub.status.busy": "2023-12-18T23:39:06.976580Z",
     "iopub.status.idle": "2023-12-18T23:39:06.980449Z",
     "shell.execute_reply": "2023-12-18T23:39:06.979857Z"
    },
    "papermill": {
     "duration": 0.008648,
     "end_time": "2023-12-18T23:39:06.981828",
     "exception": false,
     "start_time": "2023-12-18T23:39:06.973180",
     "status": "completed"
    },
    "tags": []
   },
   "outputs": [
    {
     "data": {
      "text/plain": [
       "6548"
      ]
     },
     "execution_count": 9,
     "metadata": {},
     "output_type": "execute_result"
    }
   ],
   "source": [
    "len(completed_orders)"
   ]
  },
  {
   "cell_type": "code",
   "execution_count": 10,
   "id": "1ff07c5f",
   "metadata": {
    "execution": {
     "iopub.execute_input": "2023-12-18T23:39:06.988709Z",
     "iopub.status.busy": "2023-12-18T23:39:06.988337Z",
     "iopub.status.idle": "2023-12-18T23:39:06.995695Z",
     "shell.execute_reply": "2023-12-18T23:39:06.995038Z"
    },
    "papermill": {
     "duration": 0.012297,
     "end_time": "2023-12-18T23:39:06.997050",
     "exception": false,
     "start_time": "2023-12-18T23:39:06.984753",
     "status": "completed"
    },
    "tags": []
   },
   "outputs": [],
   "source": [
    "completed_orders = completed_orders.merge(\n",
    "    events.drop_duplicates().set_index('ticket_tailor_id'),\n",
    "    left_on='event_id',\n",
    "    right_index=True,\n",
    "    how='left'\n",
    ")"
   ]
  },
  {
   "cell_type": "code",
   "execution_count": 11,
   "id": "227a06e5",
   "metadata": {
    "execution": {
     "iopub.execute_input": "2023-12-18T23:39:07.003975Z",
     "iopub.status.busy": "2023-12-18T23:39:07.003588Z",
     "iopub.status.idle": "2023-12-18T23:39:07.007687Z",
     "shell.execute_reply": "2023-12-18T23:39:07.007056Z"
    },
    "papermill": {
     "duration": 0.008978,
     "end_time": "2023-12-18T23:39:07.008986",
     "exception": false,
     "start_time": "2023-12-18T23:39:07.000008",
     "status": "completed"
    },
    "tags": []
   },
   "outputs": [
    {
     "data": {
      "text/plain": [
       "6556"
      ]
     },
     "execution_count": 11,
     "metadata": {},
     "output_type": "execute_result"
    }
   ],
   "source": [
    "len(completed_orders)"
   ]
  },
  {
   "cell_type": "code",
   "execution_count": 12,
   "id": "6e85b8c6",
   "metadata": {
    "execution": {
     "iopub.execute_input": "2023-12-18T23:39:07.016165Z",
     "iopub.status.busy": "2023-12-18T23:39:07.015824Z",
     "iopub.status.idle": "2023-12-18T23:39:07.019137Z",
     "shell.execute_reply": "2023-12-18T23:39:07.018525Z"
    },
    "papermill": {
     "duration": 0.008378,
     "end_time": "2023-12-18T23:39:07.020428",
     "exception": false,
     "start_time": "2023-12-18T23:39:07.012050",
     "status": "completed"
    },
    "tags": []
   },
   "outputs": [],
   "source": [
    "OUTPUT_DIR = TOP_DIR.joinpath('data/metrics/events/tickets/')\n",
    "OUTPUT_DIR.mkdir(parents=True, exist_ok=True)"
   ]
  },
  {
   "cell_type": "code",
   "execution_count": 13,
   "id": "30f8f5df",
   "metadata": {
    "execution": {
     "iopub.execute_input": "2023-12-18T23:39:07.027828Z",
     "iopub.status.busy": "2023-12-18T23:39:07.027484Z",
     "iopub.status.idle": "2023-12-18T23:39:07.054097Z",
     "shell.execute_reply": "2023-12-18T23:39:07.053481Z"
    },
    "papermill": {
     "duration": 0.03205,
     "end_time": "2023-12-18T23:39:07.055685",
     "exception": false,
     "start_time": "2023-12-18T23:39:07.023635",
     "status": "completed"
    },
    "tags": []
   },
   "outputs": [],
   "source": [
    "completed_orders.loc[:, [\n",
    "    'created_at',\n",
    "    'event_id',\n",
    "    'event_date',\n",
    "    'number_of_tickets',\n",
    "    'ward_code',\n",
    "    'project_name',\n",
    "    'public_event',\n",
    "]].sort_values(['created_at', 'event_id']).to_csv(\n",
    "  OUTPUT_DIR.joinpath('orders.csv'),\n",
    "  index=False\n",
    ")"
   ]
  },
  {
   "cell_type": "code",
   "execution_count": 14,
   "id": "072235fe",
   "metadata": {
    "execution": {
     "iopub.execute_input": "2023-12-18T23:39:07.062949Z",
     "iopub.status.busy": "2023-12-18T23:39:07.062589Z",
     "iopub.status.idle": "2023-12-18T23:39:07.071186Z",
     "shell.execute_reply": "2023-12-18T23:39:07.070697Z"
    },
    "papermill": {
     "duration": 0.01366,
     "end_time": "2023-12-18T23:39:07.072552",
     "exception": false,
     "start_time": "2023-12-18T23:39:07.058892",
     "status": "completed"
    },
    "tags": []
   },
   "outputs": [],
   "source": [
    "(\n",
    "    completed_orders.loc[:, ['event_date', 'event_time', 'event_name', 'event_id', 'project_name', 'public_event']]\n",
    "      .drop_duplicates()\n",
    "      .sort_values(['event_date', 'event_time'])\n",
    "      .to_csv('../../../../data/metrics/events/tickets/events.csv', index=False)\n",
    ")"
   ]
  },
  {
   "cell_type": "code",
   "execution_count": 15,
   "id": "b54244bd",
   "metadata": {
    "execution": {
     "iopub.execute_input": "2023-12-18T23:39:07.079857Z",
     "iopub.status.busy": "2023-12-18T23:39:07.079507Z",
     "iopub.status.idle": "2023-12-18T23:39:07.810567Z",
     "shell.execute_reply": "2023-12-18T23:39:07.809890Z"
    },
    "papermill": {
     "duration": 0.736534,
     "end_time": "2023-12-18T23:39:07.812209",
     "exception": false,
     "start_time": "2023-12-18T23:39:07.075675",
     "status": "completed"
    },
    "tags": []
   },
   "outputs": [
    {
     "data": {
      "image/png": "[encoded data removed]",
      "text/plain": [
       "<Figure size 640x480 with 1 Axes>"
      ]
     },
     "metadata": {},
     "output_type": "display_data"
    }
   ],
   "source": [
    "chart = completed_orders.groupby(['project_name']).number_of_tickets.sum().sort_values().plot.barh()"
   ]
  },
  {
   "cell_type": "code",
   "execution_count": 16,
   "id": "1235bac2",
   "metadata": {
    "execution": {
     "iopub.execute_input": "2023-12-18T23:39:07.821202Z",
     "iopub.status.busy": "2023-12-18T23:39:07.820726Z",
     "iopub.status.idle": "2023-12-18T23:39:07.997410Z",
     "shell.execute_reply": "2023-12-18T23:39:07.996709Z"
    },
    "papermill": {
     "duration": 0.182777,
     "end_time": "2023-12-18T23:39:07.998934",
     "exception": false,
     "start_time": "2023-12-18T23:39:07.816157",
     "status": "completed"
    },
    "tags": []
   },
   "outputs": [
    {
     "data": {
      "image/png": "[encoded data removed]",
      "text/plain": [
       "<Figure size 640x480 with 1 Axes>"
      ]
     },
     "metadata": {},
     "output_type": "display_data"
    }
   ],
   "source": [
    "chart = completed_orders.groupby([\n",
    "    'event_date'\n",
    "    ]).number_of_tickets.sum().resample('M').sum().cumsum().plot.bar()"
   ]
  },
  {
   "cell_type": "code",
   "execution_count": null,
   "id": "168d40d5",
   "metadata": {
    "papermill": {
     "duration": 0.00411,
     "end_time": "2023-12-18T23:39:08.007579",
     "exception": false,
     "start_time": "2023-12-18T23:39:08.003469",
     "status": "completed"
    },
    "tags": []
   },
   "outputs": [],
   "source": []
  }
 ],
 "metadata": {
  "kernelspec": {
   "display_name": "leeds-2023-YZF5GfJv",
   "language": "python",
   "name": "python3"
  },
  "language_info": {
   "codemirror_mode": {
    "name": "ipython",
    "version": 3
   },
   "file_extension": ".py",
   "mimetype": "text/x-python",
   "name": "python",
   "nbconvert_exporter": "python",
   "pygments_lexer": "ipython3",
   "version": "3.10.13"
  },
  "papermill": {
   "default_parameters": {},
   "duration": 11.434751,
   "end_time": "2023-12-18T23:39:08.328329",
   "environment_variables": {},
   "exception": null,
   "input_path": "tickets.ipynb",
   "output_path": "../../../../working/output/tickets-transform.ipynb",
   "parameters": {},
   "start_time": "2023-12-18T23:38:56.893578",
   "version": "2.4.0"
  }
 },
 "nbformat": 4,
 "nbformat_minor": 5
}