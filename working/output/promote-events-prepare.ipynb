{
 "cells": [
  {
   "cell_type": "code",
   "execution_count": 1,
   "id": "f0cb671d",
   "metadata": {
    "execution": {
     "iopub.execute_input": "2023-08-06T23:38:07.946378Z",
     "iopub.status.busy": "2023-08-06T23:38:07.945502Z",
     "iopub.status.idle": "2023-08-06T23:38:08.247864Z",
     "shell.execute_reply": "2023-08-06T23:38:08.246326Z"
    },
    "papermill": {
     "duration": 0.309941,
     "end_time": "2023-08-06T23:38:08.251448",
     "exception": false,
     "start_time": "2023-08-06T23:38:07.941507",
     "status": "completed"
    },
    "tags": []
   },
   "outputs": [],
   "source": [
    "import os\n",
    "import pandas as pd"
   ]
  },
  {
   "cell_type": "code",
   "execution_count": 2,
   "id": "379089ca",
   "metadata": {
    "execution": {
     "iopub.execute_input": "2023-08-06T23:38:08.258192Z",
     "iopub.status.busy": "2023-08-06T23:38:08.257571Z",
     "iopub.status.idle": "2023-08-06T23:38:08.261614Z",
     "shell.execute_reply": "2023-08-06T23:38:08.260858Z"
    },
    "papermill": {
     "duration": 0.009168,
     "end_time": "2023-08-06T23:38:08.263554",
     "exception": false,
     "start_time": "2023-08-06T23:38:08.254386",
     "status": "completed"
    },
    "tags": []
   },
   "outputs": [],
   "source": [
    "DATA_DIR='../../../docs/metrics/events/promote/_data/'\n",
    "os.makedirs(DATA_DIR, exist_ok=True)"
   ]
  },
  {
   "cell_type": "code",
   "execution_count": 3,
   "id": "f32a0f22",
   "metadata": {
    "execution": {
     "iopub.execute_input": "2023-08-06T23:38:08.269227Z",
     "iopub.status.busy": "2023-08-06T23:38:08.268596Z",
     "iopub.status.idle": "2023-08-06T23:38:08.280407Z",
     "shell.execute_reply": "2023-08-06T23:38:08.279745Z"
    },
    "papermill": {
     "duration": 0.016596,
     "end_time": "2023-08-06T23:38:08.282170",
     "exception": false,
     "start_time": "2023-08-06T23:38:08.265574",
     "status": "completed"
    },
    "tags": []
   },
   "outputs": [],
   "source": [
    "data = pd.read_csv('../../../data/metrics/events/promote-events/events.csv', parse_dates=['time'])"
   ]
  },
  {
   "cell_type": "code",
   "execution_count": 4,
   "id": "66d5018b",
   "metadata": {
    "execution": {
     "iopub.execute_input": "2023-08-06T23:38:08.287937Z",
     "iopub.status.busy": "2023-08-06T23:38:08.287386Z",
     "iopub.status.idle": "2023-08-06T23:38:08.293549Z",
     "shell.execute_reply": "2023-08-06T23:38:08.292798Z"
    },
    "papermill": {
     "duration": 0.011314,
     "end_time": "2023-08-06T23:38:08.295403",
     "exception": false,
     "start_time": "2023-08-06T23:38:08.284089",
     "status": "completed"
    },
    "tags": []
   },
   "outputs": [],
   "source": [
    "pd.Series({\n",
    "    'total_events': len(data.id.unique()),\n",
    "    'total_event_instances': len(data.time),\n",
    "    'earliest_event': data.time.min(),\n",
    "    'latest_event': data.time.max(),\n",
    "}).to_json(\n",
    "    os.path.join(DATA_DIR, 'headlines.json'),\n",
    "    date_format='iso', indent=2\n",
    ")"
   ]
  },
  {
   "cell_type": "code",
   "execution_count": 5,
   "id": "f0facc07",
   "metadata": {
    "execution": {
     "iopub.execute_input": "2023-08-06T23:38:08.301007Z",
     "iopub.status.busy": "2023-08-06T23:38:08.300348Z",
     "iopub.status.idle": "2023-08-06T23:38:08.309829Z",
     "shell.execute_reply": "2023-08-06T23:38:08.309167Z"
    },
    "papermill": {
     "duration": 0.014241,
     "end_time": "2023-08-06T23:38:08.311681",
     "exception": false,
     "start_time": "2023-08-06T23:38:08.297440",
     "status": "completed"
    },
    "tags": []
   },
   "outputs": [],
   "source": [
    "events = pd.DataFrame({\n",
    "    'events': data.groupby('id').agg({ 'time': 'min' }).reset_index().groupby('time').id.count(),\n",
    "    'event_instances': data.groupby('time').id.count(),\n",
    "}).fillna(0).astype(int)"
   ]
  },
  {
   "cell_type": "code",
   "execution_count": 6,
   "id": "e668bab0",
   "metadata": {
    "execution": {
     "iopub.execute_input": "2023-08-06T23:38:08.317149Z",
     "iopub.status.busy": "2023-08-06T23:38:08.316638Z",
     "iopub.status.idle": "2023-08-06T23:38:08.321315Z",
     "shell.execute_reply": "2023-08-06T23:38:08.320484Z"
    },
    "papermill": {
     "duration": 0.009552,
     "end_time": "2023-08-06T23:38:08.323185",
     "exception": false,
     "start_time": "2023-08-06T23:38:08.313633",
     "status": "completed"
    },
    "tags": []
   },
   "outputs": [],
   "source": [
    "def cumulate(data):\n",
    "    return pd.concat([\n",
    "        data,\n",
    "        data.cumsum().rename(columns=lambda c: f'cumulative_{c}')\n",
    "    ], axis=1)"
   ]
  },
  {
   "cell_type": "code",
   "execution_count": 7,
   "id": "dbb23209",
   "metadata": {
    "execution": {
     "iopub.execute_input": "2023-08-06T23:38:08.328461Z",
     "iopub.status.busy": "2023-08-06T23:38:08.327856Z",
     "iopub.status.idle": "2023-08-06T23:38:08.339067Z",
     "shell.execute_reply": "2023-08-06T23:38:08.338329Z"
    },
    "papermill": {
     "duration": 0.015689,
     "end_time": "2023-08-06T23:38:08.340796",
     "exception": false,
     "start_time": "2023-08-06T23:38:08.325107",
     "status": "completed"
    },
    "tags": []
   },
   "outputs": [],
   "source": [
    "events.resample('W-FRI').sum().pipe(cumulate).to_csv(os.path.join(DATA_DIR, 'by_week.csv'))"
   ]
  },
  {
   "cell_type": "code",
   "execution_count": 8,
   "id": "93f92045",
   "metadata": {
    "execution": {
     "iopub.execute_input": "2023-08-06T23:38:08.346380Z",
     "iopub.status.busy": "2023-08-06T23:38:08.345786Z",
     "iopub.status.idle": "2023-08-06T23:38:08.352400Z",
     "shell.execute_reply": "2023-08-06T23:38:08.351749Z"
    },
    "papermill": {
     "duration": 0.011229,
     "end_time": "2023-08-06T23:38:08.354099",
     "exception": false,
     "start_time": "2023-08-06T23:38:08.342870",
     "status": "completed"
    },
    "tags": []
   },
   "outputs": [],
   "source": [
    "events.resample('MS').sum().pipe(cumulate).to_csv(os.path.join(DATA_DIR, 'by_month.csv'))"
   ]
  },
  {
   "cell_type": "code",
   "execution_count": null,
   "id": "bc0e16d7",
   "metadata": {
    "papermill": {
     "duration": 0.001968,
     "end_time": "2023-08-06T23:38:08.358211",
     "exception": false,
     "start_time": "2023-08-06T23:38:08.356243",
     "status": "completed"
    },
    "tags": []
   },
   "outputs": [],
   "source": []
  }
 ],
 "metadata": {
  "kernelspec": {
   "display_name": "leeds-2023-YZF5GfJv",
   "language": "python",
   "name": "python3"
  },
  "language_info": {
   "codemirror_mode": {
    "name": "ipython",
    "version": 3
   },
   "file_extension": ".py",
   "mimetype": "text/x-python",
   "name": "python",
   "nbconvert_exporter": "python",
   "pygments_lexer": "ipython3",
   "version": "3.10.6"
  },
  "papermill": {
   "default_parameters": {},
   "duration": 2.224848,
   "end_time": "2023-08-06T23:38:08.577360",
   "environment_variables": {},
   "exception": null,
   "input_path": "prepare.ipynb",
   "output_path": "../../../working/output/promote-events-prepare.ipynb",
   "parameters": {},
   "start_time": "2023-08-06T23:38:06.352512",
   "version": "2.4.0"
  }
 },
 "nbformat": 4,
 "nbformat_minor": 5
}