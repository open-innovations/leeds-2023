{
 "cells": [
  {
   "cell_type": "code",
   "execution_count": 1,
   "id": "58e56ed1",
   "metadata": {
    "execution": {
     "iopub.execute_input": "2023-07-28T23:39:39.727646Z",
     "iopub.status.busy": "2023-07-28T23:39:39.727092Z",
     "iopub.status.idle": "2023-07-28T23:39:39.968648Z",
     "shell.execute_reply": "2023-07-28T23:39:39.967703Z"
    },
    "papermill": {
     "duration": 0.247882,
     "end_time": "2023-07-28T23:39:39.971091",
     "exception": false,
     "start_time": "2023-07-28T23:39:39.723209",
     "status": "completed"
    },
    "tags": []
   },
   "outputs": [],
   "source": [
    "import os\n",
    "import pandas as pd"
   ]
  },
  {
   "cell_type": "code",
   "execution_count": 2,
   "id": "060c1b30",
   "metadata": {
    "execution": {
     "iopub.execute_input": "2023-07-28T23:39:39.976401Z",
     "iopub.status.busy": "2023-07-28T23:39:39.976107Z",
     "iopub.status.idle": "2023-07-28T23:39:39.979826Z",
     "shell.execute_reply": "2023-07-28T23:39:39.979013Z"
    },
    "papermill": {
     "duration": 0.008182,
     "end_time": "2023-07-28T23:39:39.981468",
     "exception": false,
     "start_time": "2023-07-28T23:39:39.973286",
     "status": "completed"
    },
    "tags": []
   },
   "outputs": [],
   "source": [
    "DATA_DIR='../../../docs/metrics/events/promote/_data/'\n",
    "os.makedirs(DATA_DIR, exist_ok=True)"
   ]
  },
  {
   "cell_type": "code",
   "execution_count": 3,
   "id": "614b7643",
   "metadata": {
    "execution": {
     "iopub.execute_input": "2023-07-28T23:39:39.985719Z",
     "iopub.status.busy": "2023-07-28T23:39:39.985199Z",
     "iopub.status.idle": "2023-07-28T23:39:39.994784Z",
     "shell.execute_reply": "2023-07-28T23:39:39.994186Z"
    },
    "papermill": {
     "duration": 0.013257,
     "end_time": "2023-07-28T23:39:39.996252",
     "exception": false,
     "start_time": "2023-07-28T23:39:39.982995",
     "status": "completed"
    },
    "tags": []
   },
   "outputs": [],
   "source": [
    "data = pd.read_csv('../../../data/metrics/events/promote-events/events.csv', parse_dates=['time'])"
   ]
  },
  {
   "cell_type": "code",
   "execution_count": 4,
   "id": "78741cdf",
   "metadata": {
    "execution": {
     "iopub.execute_input": "2023-07-28T23:39:40.000656Z",
     "iopub.status.busy": "2023-07-28T23:39:40.000267Z",
     "iopub.status.idle": "2023-07-28T23:39:40.005382Z",
     "shell.execute_reply": "2023-07-28T23:39:40.004761Z"
    },
    "papermill": {
     "duration": 0.008872,
     "end_time": "2023-07-28T23:39:40.006857",
     "exception": false,
     "start_time": "2023-07-28T23:39:39.997985",
     "status": "completed"
    },
    "tags": []
   },
   "outputs": [],
   "source": [
    "pd.Series({\n",
    "    'total_events': len(data.id.unique()),\n",
    "    'total_event_instances': len(data.time),\n",
    "    'earliest_event': data.time.min(),\n",
    "    'latest_event': data.time.max(),\n",
    "}).to_json(\n",
    "    os.path.join(DATA_DIR, 'headlines.json'),\n",
    "    date_format='iso', indent=2\n",
    ")"
   ]
  },
  {
   "cell_type": "code",
   "execution_count": 5,
   "id": "6897414b",
   "metadata": {
    "execution": {
     "iopub.execute_input": "2023-07-28T23:39:40.011117Z",
     "iopub.status.busy": "2023-07-28T23:39:40.010729Z",
     "iopub.status.idle": "2023-07-28T23:39:40.018504Z",
     "shell.execute_reply": "2023-07-28T23:39:40.017735Z"
    },
    "papermill": {
     "duration": 0.011402,
     "end_time": "2023-07-28T23:39:40.019915",
     "exception": false,
     "start_time": "2023-07-28T23:39:40.008513",
     "status": "completed"
    },
    "tags": []
   },
   "outputs": [],
   "source": [
    "events = pd.DataFrame({\n",
    "    'events': data.groupby('id').agg({ 'time': 'min' }).reset_index().groupby('time').id.count(),\n",
    "    'event_instances': data.groupby('time').id.count(),\n",
    "}).fillna(0).astype(int)"
   ]
  },
  {
   "cell_type": "code",
   "execution_count": 6,
   "id": "9c722fad",
   "metadata": {
    "execution": {
     "iopub.execute_input": "2023-07-28T23:39:40.024390Z",
     "iopub.status.busy": "2023-07-28T23:39:40.023997Z",
     "iopub.status.idle": "2023-07-28T23:39:40.027350Z",
     "shell.execute_reply": "2023-07-28T23:39:40.026737Z"
    },
    "papermill": {
     "duration": 0.007314,
     "end_time": "2023-07-28T23:39:40.029002",
     "exception": false,
     "start_time": "2023-07-28T23:39:40.021688",
     "status": "completed"
    },
    "tags": []
   },
   "outputs": [],
   "source": [
    "def cumulate(data):\n",
    "    return pd.concat([\n",
    "        data,\n",
    "        data.cumsum().rename(columns=lambda c: f'cumulative_{c}')\n",
    "    ], axis=1)"
   ]
  },
  {
   "cell_type": "code",
   "execution_count": 7,
   "id": "97571420",
   "metadata": {
    "execution": {
     "iopub.execute_input": "2023-07-28T23:39:40.033499Z",
     "iopub.status.busy": "2023-07-28T23:39:40.032959Z",
     "iopub.status.idle": "2023-07-28T23:39:40.043188Z",
     "shell.execute_reply": "2023-07-28T23:39:40.042200Z"
    },
    "papermill": {
     "duration": 0.013934,
     "end_time": "2023-07-28T23:39:40.044664",
     "exception": false,
     "start_time": "2023-07-28T23:39:40.030730",
     "status": "completed"
    },
    "tags": []
   },
   "outputs": [],
   "source": [
    "events.resample('W-FRI').sum().pipe(cumulate).to_csv(os.path.join(DATA_DIR, 'by_week.csv'))"
   ]
  },
  {
   "cell_type": "code",
   "execution_count": 8,
   "id": "114030cd",
   "metadata": {
    "execution": {
     "iopub.execute_input": "2023-07-28T23:39:40.049628Z",
     "iopub.status.busy": "2023-07-28T23:39:40.049237Z",
     "iopub.status.idle": "2023-07-28T23:39:40.055467Z",
     "shell.execute_reply": "2023-07-28T23:39:40.054758Z"
    },
    "papermill": {
     "duration": 0.010573,
     "end_time": "2023-07-28T23:39:40.057003",
     "exception": false,
     "start_time": "2023-07-28T23:39:40.046430",
     "status": "completed"
    },
    "tags": []
   },
   "outputs": [],
   "source": [
    "events.resample('MS').sum().pipe(cumulate).to_csv(os.path.join(DATA_DIR, 'by_month.csv'))"
   ]
  },
  {
   "cell_type": "code",
   "execution_count": null,
   "id": "eeb93655",
   "metadata": {
    "papermill": {
     "duration": 0.001639,
     "end_time": "2023-07-28T23:39:40.060316",
     "exception": false,
     "start_time": "2023-07-28T23:39:40.058677",
     "status": "completed"
    },
    "tags": []
   },
   "outputs": [],
   "source": []
  }
 ],
 "metadata": {
  "kernelspec": {
   "display_name": "leeds-2023-YZF5GfJv",
   "language": "python",
   "name": "python3"
  },
  "language_info": {
   "codemirror_mode": {
    "name": "ipython",
    "version": 3
   },
   "file_extension": ".py",
   "mimetype": "text/x-python",
   "name": "python",
   "nbconvert_exporter": "python",
   "pygments_lexer": "ipython3",
   "version": "3.10.6"
  },
  "papermill": {
   "default_parameters": {},
   "duration": 1.938135,
   "end_time": "2023-07-28T23:39:40.278553",
   "environment_variables": {},
   "exception": null,
   "input_path": "prepare.ipynb",
   "output_path": "../../../working/output/promote-events-prepare.ipynb",
   "parameters": {},
   "start_time": "2023-07-28T23:39:38.340418",
   "version": "2.4.0"
  }
 },
 "nbformat": 4,
 "nbformat_minor": 5
}