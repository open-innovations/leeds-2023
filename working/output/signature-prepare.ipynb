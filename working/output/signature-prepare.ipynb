{
 "cells": [
  {
   "cell_type": "code",
   "execution_count": 1,
   "id": "32f2ce60",
   "metadata": {
    "execution": {
     "iopub.execute_input": "2023-08-05T23:39:48.399454Z",
     "iopub.status.busy": "2023-08-05T23:39:48.399074Z",
     "iopub.status.idle": "2023-08-05T23:40:00.628643Z",
     "shell.execute_reply": "2023-08-05T23:40:00.627273Z"
    },
    "papermill": {
     "duration": 12.236886,
     "end_time": "2023-08-05T23:40:00.631285",
     "exception": false,
     "start_time": "2023-08-05T23:39:48.394399",
     "status": "completed"
    },
    "tags": []
   },
   "outputs": [],
   "source": [
    "import os\n",
    "import pandas as pd\n",
    "from events import load_event_data, get_first_ward, normalise_ward"
   ]
  },
  {
   "cell_type": "code",
   "execution_count": 2,
   "id": "a762a9d2",
   "metadata": {
    "execution": {
     "iopub.execute_input": "2023-08-05T23:40:00.638856Z",
     "iopub.status.busy": "2023-08-05T23:40:00.638141Z",
     "iopub.status.idle": "2023-08-05T23:40:00.643107Z",
     "shell.execute_reply": "2023-08-05T23:40:00.642278Z"
    },
    "papermill": {
     "duration": 0.010827,
     "end_time": "2023-08-05T23:40:00.645319",
     "exception": false,
     "start_time": "2023-08-05T23:40:00.634492",
     "status": "completed"
    },
    "tags": []
   },
   "outputs": [],
   "source": [
    "latest_date = pd.Timestamp.today().ceil('D')"
   ]
  },
  {
   "cell_type": "code",
   "execution_count": 3,
   "id": "3157f15a",
   "metadata": {
    "execution": {
     "iopub.execute_input": "2023-08-05T23:40:00.651630Z",
     "iopub.status.busy": "2023-08-05T23:40:00.651064Z",
     "iopub.status.idle": "2023-08-05T23:40:00.672217Z",
     "shell.execute_reply": "2023-08-05T23:40:00.671294Z"
    },
    "papermill": {
     "duration": 0.026675,
     "end_time": "2023-08-05T23:40:00.674409",
     "exception": false,
     "start_time": "2023-08-05T23:40:00.647734",
     "status": "completed"
    },
    "tags": []
   },
   "outputs": [],
   "source": [
    "tickets = pd.read_csv('../../../../data/metrics/events/tickets/orders.csv', parse_dates=['created_at', 'event_date'])\n",
    "tickets = tickets[tickets.event_date <= latest_date]"
   ]
  },
  {
   "cell_type": "code",
   "execution_count": 4,
   "id": "f2e40082",
   "metadata": {
    "execution": {
     "iopub.execute_input": "2023-08-05T23:40:00.681133Z",
     "iopub.status.busy": "2023-08-05T23:40:00.680792Z",
     "iopub.status.idle": "2023-08-05T23:40:00.923627Z",
     "shell.execute_reply": "2023-08-05T23:40:00.922533Z"
    },
    "papermill": {
     "duration": 0.249352,
     "end_time": "2023-08-05T23:40:00.926404",
     "exception": false,
     "start_time": "2023-08-05T23:40:00.677052",
     "status": "completed"
    },
    "tags": []
   },
   "outputs": [],
   "source": [
    "events = load_event_data()\n",
    "\n",
    "events = pd.concat([\n",
    "  events,\n",
    "  events.pipe(get_first_ward).pipe(normalise_ward).fillna('UNKNOWN'),\n",
    "  pd.Series(\n",
    "      events.actual_audience_size_number_of_participants_in_person + events.actual_audience_size_number_of_participants_online,\n",
    "      name='attendances'\n",
    "  )\n",
    "], axis=1).rename(columns={\n",
    "    'start_date': 'date'\n",
    "}).loc[:, ['ward_code', 'date', 'event_unique_identifier', 'attendances']]"
   ]
  },
  {
   "cell_type": "code",
   "execution_count": 5,
   "id": "feb727ce",
   "metadata": {
    "execution": {
     "iopub.execute_input": "2023-08-05T23:40:00.933877Z",
     "iopub.status.busy": "2023-08-05T23:40:00.933561Z",
     "iopub.status.idle": "2023-08-05T23:40:00.938356Z",
     "shell.execute_reply": "2023-08-05T23:40:00.937274Z"
    },
    "papermill": {
     "duration": 0.011417,
     "end_time": "2023-08-05T23:40:00.940827",
     "exception": false,
     "start_time": "2023-08-05T23:40:00.929410",
     "status": "completed"
    },
    "tags": []
   },
   "outputs": [],
   "source": [
    "OUTPUT_DIR='../../../../docs/metrics/events/signature/_data/'\n",
    "os.makedirs(OUTPUT_DIR, exist_ok=True)"
   ]
  },
  {
   "cell_type": "markdown",
   "id": "b3d31978",
   "metadata": {
    "papermill": {
     "duration": 0.002744,
     "end_time": "2023-08-05T23:40:00.946102",
     "exception": false,
     "start_time": "2023-08-05T23:40:00.943358",
     "status": "completed"
    },
    "tags": []
   },
   "source": [
    "Events CSVs"
   ]
  },
  {
   "cell_type": "code",
   "execution_count": 6,
   "id": "3a3d0ff1",
   "metadata": {
    "execution": {
     "iopub.execute_input": "2023-08-05T23:40:00.953785Z",
     "iopub.status.busy": "2023-08-05T23:40:00.952709Z",
     "iopub.status.idle": "2023-08-05T23:40:00.963153Z",
     "shell.execute_reply": "2023-08-05T23:40:00.962269Z"
    },
    "papermill": {
     "duration": 0.017221,
     "end_time": "2023-08-05T23:40:00.965991",
     "exception": false,
     "start_time": "2023-08-05T23:40:00.948770",
     "status": "completed"
    },
    "tags": []
   },
   "outputs": [],
   "source": [
    "pd.DataFrame({\n",
    "  'events': events.groupby('ward_code').event_unique_identifier.count(),\n",
    "  'attendances': events.groupby('ward_code').attendances.sum().astype(int),\n",
    "}).to_csv(os.path.join(OUTPUT_DIR, 'events_by_ward.csv'))\n"
   ]
  },
  {
   "cell_type": "code",
   "execution_count": 7,
   "id": "c1321b0a",
   "metadata": {
    "execution": {
     "iopub.execute_input": "2023-08-05T23:40:00.972772Z",
     "iopub.status.busy": "2023-08-05T23:40:00.972492Z",
     "iopub.status.idle": "2023-08-05T23:40:00.988969Z",
     "shell.execute_reply": "2023-08-05T23:40:00.987336Z"
    },
    "papermill": {
     "duration": 0.022764,
     "end_time": "2023-08-05T23:40:00.991456",
     "exception": false,
     "start_time": "2023-08-05T23:40:00.968692",
     "status": "completed"
    },
    "tags": []
   },
   "outputs": [],
   "source": [
    "pd.DataFrame({\n",
    "  'events': events.groupby('date').event_unique_identifier.count(),\n",
    "  'attendances': events.groupby('date').attendances.sum().astype(int),\n",
    "}).resample('M').sum().astype(int).to_csv(os.path.join(OUTPUT_DIR, 'events_by_date.csv'))"
   ]
  },
  {
   "cell_type": "markdown",
   "id": "fa19ae74",
   "metadata": {
    "papermill": {
     "duration": 0.002974,
     "end_time": "2023-08-05T23:40:00.997403",
     "exception": false,
     "start_time": "2023-08-05T23:40:00.994429",
     "status": "completed"
    },
    "tags": []
   },
   "source": [
    "Tickets CSV"
   ]
  },
  {
   "cell_type": "code",
   "execution_count": 8,
   "id": "139c589a",
   "metadata": {
    "execution": {
     "iopub.execute_input": "2023-08-05T23:40:01.004753Z",
     "iopub.status.busy": "2023-08-05T23:40:01.004437Z",
     "iopub.status.idle": "2023-08-05T23:40:01.014848Z",
     "shell.execute_reply": "2023-08-05T23:40:01.013876Z"
    },
    "papermill": {
     "duration": 0.01689,
     "end_time": "2023-08-05T23:40:01.016962",
     "exception": false,
     "start_time": "2023-08-05T23:40:01.000072",
     "status": "completed"
    },
    "tags": []
   },
   "outputs": [],
   "source": [
    "pd.DataFrame({\n",
    "  'orders': tickets.groupby('ward_code').number_of_tickets.count(),\n",
    "  'tickets': tickets.groupby('ward_code').number_of_tickets.sum().astype(int),\n",
    "}).to_csv(os.path.join(OUTPUT_DIR, 'tickets_by_ward.csv'))"
   ]
  },
  {
   "cell_type": "code",
   "execution_count": 9,
   "id": "1eba3a12",
   "metadata": {
    "execution": {
     "iopub.execute_input": "2023-08-05T23:40:01.024020Z",
     "iopub.status.busy": "2023-08-05T23:40:01.023726Z",
     "iopub.status.idle": "2023-08-05T23:40:01.034200Z",
     "shell.execute_reply": "2023-08-05T23:40:01.033291Z"
    },
    "papermill": {
     "duration": 0.01659,
     "end_time": "2023-08-05T23:40:01.036341",
     "exception": false,
     "start_time": "2023-08-05T23:40:01.019751",
     "status": "completed"
    },
    "tags": []
   },
   "outputs": [],
   "source": [
    "pd.DataFrame({\n",
    "  'orders': tickets.groupby('event_date').number_of_tickets.count(),\n",
    "  'tickets': tickets.groupby('event_date').number_of_tickets.sum().astype(int),\n",
    "}).resample('M').sum().to_csv(os.path.join(OUTPUT_DIR, 'tickets_by_event_date.csv'))"
   ]
  },
  {
   "cell_type": "code",
   "execution_count": 10,
   "id": "9d83cc2a",
   "metadata": {
    "execution": {
     "iopub.execute_input": "2023-08-05T23:40:01.044923Z",
     "iopub.status.busy": "2023-08-05T23:40:01.044585Z",
     "iopub.status.idle": "2023-08-05T23:40:01.052149Z",
     "shell.execute_reply": "2023-08-05T23:40:01.051145Z"
    },
    "papermill": {
     "duration": 0.014786,
     "end_time": "2023-08-05T23:40:01.054031",
     "exception": false,
     "start_time": "2023-08-05T23:40:01.039245",
     "status": "completed"
    },
    "tags": []
   },
   "outputs": [],
   "source": [
    "pd.Series({\n",
    "    'total_events': events.event_unique_identifier.count(),\n",
    "    'total_attendances': events.attendances.count(),\n",
    "    'first_event': events.date.min(),\n",
    "    'latest_event': events.date.max(),\n",
    "    'total_ticket_orders_for_events_to_date': tickets.number_of_tickets.count(),\n",
    "    'total_tickets_sold_for_events_to_date': tickets.number_of_tickets.sum(),\n",
    "}).to_json(os.path.join(OUTPUT_DIR, 'headlines.json'), indent=2)"
   ]
  },
  {
   "cell_type": "code",
   "execution_count": null,
   "id": "2acc9db2",
   "metadata": {
    "papermill": {
     "duration": 0.00306,
     "end_time": "2023-08-05T23:40:01.059978",
     "exception": false,
     "start_time": "2023-08-05T23:40:01.056918",
     "status": "completed"
    },
    "tags": []
   },
   "outputs": [],
   "source": []
  }
 ],
 "metadata": {
  "kernelspec": {
   "display_name": "leeds-2023-YZF5GfJv",
   "language": "python",
   "name": "python3"
  },
  "language_info": {
   "codemirror_mode": {
    "name": "ipython",
    "version": 3
   },
   "file_extension": ".py",
   "mimetype": "text/x-python",
   "name": "python",
   "nbconvert_exporter": "python",
   "pygments_lexer": "ipython3",
   "version": "3.10.6"
  },
  "papermill": {
   "default_parameters": {},
   "duration": 14.668697,
   "end_time": "2023-08-05T23:40:01.482292",
   "environment_variables": {},
   "exception": null,
   "input_path": "prepare.ipynb",
   "output_path": "../../../../working/output/signature-prepare.ipynb",
   "parameters": {},
   "start_time": "2023-08-05T23:39:46.813595",
   "version": "2.4.0"
  }
 },
 "nbformat": 4,
 "nbformat_minor": 5
}