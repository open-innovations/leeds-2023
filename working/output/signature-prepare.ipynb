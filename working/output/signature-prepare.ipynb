{
 "cells": [
  {
   "cell_type": "code",
   "execution_count": 1,
   "id": "8aa5ee5f",
   "metadata": {
    "execution": {
     "iopub.execute_input": "2023-09-21T23:40:07.197651Z",
     "iopub.status.busy": "2023-09-21T23:40:07.196932Z",
     "iopub.status.idle": "2023-09-21T23:40:17.671670Z",
     "shell.execute_reply": "2023-09-21T23:40:17.670917Z"
    },
    "papermill": {
     "duration": 10.481807,
     "end_time": "2023-09-21T23:40:17.673800",
     "exception": false,
     "start_time": "2023-09-21T23:40:07.191993",
     "status": "completed"
    },
    "tags": []
   },
   "outputs": [],
   "source": [
    "import os\n",
    "import pandas as pd\n",
    "from events import load_event_data, get_first_ward, normalise_ward"
   ]
  },
  {
   "cell_type": "code",
   "execution_count": 2,
   "id": "d9638401",
   "metadata": {
    "execution": {
     "iopub.execute_input": "2023-09-21T23:40:17.681428Z",
     "iopub.status.busy": "2023-09-21T23:40:17.680814Z",
     "iopub.status.idle": "2023-09-21T23:40:17.684791Z",
     "shell.execute_reply": "2023-09-21T23:40:17.684114Z"
    },
    "papermill": {
     "duration": 0.009046,
     "end_time": "2023-09-21T23:40:17.686376",
     "exception": false,
     "start_time": "2023-09-21T23:40:17.677330",
     "status": "completed"
    },
    "tags": []
   },
   "outputs": [],
   "source": [
    "latest_date = pd.Timestamp.today().ceil('D')"
   ]
  },
  {
   "cell_type": "code",
   "execution_count": 3,
   "id": "b25e7936",
   "metadata": {
    "execution": {
     "iopub.execute_input": "2023-09-21T23:40:17.692382Z",
     "iopub.status.busy": "2023-09-21T23:40:17.691912Z",
     "iopub.status.idle": "2023-09-21T23:40:17.709134Z",
     "shell.execute_reply": "2023-09-21T23:40:17.708533Z"
    },
    "papermill": {
     "duration": 0.022075,
     "end_time": "2023-09-21T23:40:17.710761",
     "exception": false,
     "start_time": "2023-09-21T23:40:17.688686",
     "status": "completed"
    },
    "tags": []
   },
   "outputs": [],
   "source": [
    "tickets = pd.read_csv('../../../../data/metrics/events/tickets/orders.csv', parse_dates=['created_at', 'event_date'])\n",
    "tickets = tickets[tickets.event_date <= latest_date]"
   ]
  },
  {
   "cell_type": "code",
   "execution_count": 4,
   "id": "125d7b4d",
   "metadata": {
    "execution": {
     "iopub.execute_input": "2023-09-21T23:40:17.716743Z",
     "iopub.status.busy": "2023-09-21T23:40:17.716196Z",
     "iopub.status.idle": "2023-09-21T23:40:17.951142Z",
     "shell.execute_reply": "2023-09-21T23:40:17.950391Z"
    },
    "papermill": {
     "duration": 0.24034,
     "end_time": "2023-09-21T23:40:17.953414",
     "exception": false,
     "start_time": "2023-09-21T23:40:17.713074",
     "status": "completed"
    },
    "tags": []
   },
   "outputs": [],
   "source": [
    "events = load_event_data()\n",
    "\n",
    "events = pd.concat([\n",
    "  events,\n",
    "  events.pipe(get_first_ward).pipe(normalise_ward).fillna('UNKNOWN'),\n",
    "  pd.Series(\n",
    "      events.actual_audience_size_number_of_participants_in_person + events.actual_audience_size_number_of_participants_online,\n",
    "      name='attendances'\n",
    "  )\n",
    "], axis=1).rename(columns={\n",
    "    'start_date': 'date'\n",
    "}).loc[:, ['ward_code', 'date', 'event_unique_identifier', 'attendances']]"
   ]
  },
  {
   "cell_type": "code",
   "execution_count": 5,
   "id": "48fcd38b",
   "metadata": {
    "execution": {
     "iopub.execute_input": "2023-09-21T23:40:17.960948Z",
     "iopub.status.busy": "2023-09-21T23:40:17.960695Z",
     "iopub.status.idle": "2023-09-21T23:40:17.965185Z",
     "shell.execute_reply": "2023-09-21T23:40:17.964558Z"
    },
    "papermill": {
     "duration": 0.010365,
     "end_time": "2023-09-21T23:40:17.966850",
     "exception": false,
     "start_time": "2023-09-21T23:40:17.956485",
     "status": "completed"
    },
    "tags": []
   },
   "outputs": [],
   "source": [
    "OUTPUT_DIR='../../../../docs/metrics/events/signature/_data/'\n",
    "os.makedirs(OUTPUT_DIR, exist_ok=True)"
   ]
  },
  {
   "cell_type": "markdown",
   "id": "5cd31c20",
   "metadata": {
    "papermill": {
     "duration": 0.002469,
     "end_time": "2023-09-21T23:40:17.971730",
     "exception": false,
     "start_time": "2023-09-21T23:40:17.969261",
     "status": "completed"
    },
    "tags": []
   },
   "source": [
    "Events CSVs"
   ]
  },
  {
   "cell_type": "code",
   "execution_count": 6,
   "id": "a5b4f93b",
   "metadata": {
    "execution": {
     "iopub.execute_input": "2023-09-21T23:40:17.977711Z",
     "iopub.status.busy": "2023-09-21T23:40:17.977337Z",
     "iopub.status.idle": "2023-09-21T23:40:17.984345Z",
     "shell.execute_reply": "2023-09-21T23:40:17.983730Z"
    },
    "papermill": {
     "duration": 0.011667,
     "end_time": "2023-09-21T23:40:17.985800",
     "exception": false,
     "start_time": "2023-09-21T23:40:17.974133",
     "status": "completed"
    },
    "tags": []
   },
   "outputs": [],
   "source": [
    "pd.DataFrame({\n",
    "  'events': events.groupby('ward_code').event_unique_identifier.count(),\n",
    "  'attendances': events.groupby('ward_code').attendances.sum().astype(int),\n",
    "}).to_csv(os.path.join(OUTPUT_DIR, 'events_by_ward.csv'))\n"
   ]
  },
  {
   "cell_type": "code",
   "execution_count": 7,
   "id": "5dbf1b8c",
   "metadata": {
    "execution": {
     "iopub.execute_input": "2023-09-21T23:40:17.991982Z",
     "iopub.status.busy": "2023-09-21T23:40:17.991430Z",
     "iopub.status.idle": "2023-09-21T23:40:18.002046Z",
     "shell.execute_reply": "2023-09-21T23:40:18.001448Z"
    },
    "papermill": {
     "duration": 0.015275,
     "end_time": "2023-09-21T23:40:18.003541",
     "exception": false,
     "start_time": "2023-09-21T23:40:17.988266",
     "status": "completed"
    },
    "tags": []
   },
   "outputs": [],
   "source": [
    "pd.DataFrame({\n",
    "  'events': events.groupby('date').event_unique_identifier.count(),\n",
    "  'attendances': events.groupby('date').attendances.sum().astype(int),\n",
    "}).resample('M').sum().astype(int).to_csv(os.path.join(OUTPUT_DIR, 'events_by_date.csv'))"
   ]
  },
  {
   "cell_type": "markdown",
   "id": "1f12286f",
   "metadata": {
    "papermill": {
     "duration": 0.002535,
     "end_time": "2023-09-21T23:40:18.008570",
     "exception": false,
     "start_time": "2023-09-21T23:40:18.006035",
     "status": "completed"
    },
    "tags": []
   },
   "source": [
    "Tickets CSV"
   ]
  },
  {
   "cell_type": "code",
   "execution_count": 8,
   "id": "6e159db1",
   "metadata": {
    "execution": {
     "iopub.execute_input": "2023-09-21T23:40:18.014762Z",
     "iopub.status.busy": "2023-09-21T23:40:18.014324Z",
     "iopub.status.idle": "2023-09-21T23:40:18.021623Z",
     "shell.execute_reply": "2023-09-21T23:40:18.021013Z"
    },
    "papermill": {
     "duration": 0.012267,
     "end_time": "2023-09-21T23:40:18.023312",
     "exception": false,
     "start_time": "2023-09-21T23:40:18.011045",
     "status": "completed"
    },
    "tags": []
   },
   "outputs": [],
   "source": [
    "pd.DataFrame({\n",
    "  'orders': tickets.groupby('ward_code').number_of_tickets.count(),\n",
    "  'tickets': tickets.groupby('ward_code').number_of_tickets.sum().astype(int),\n",
    "}).to_csv(os.path.join(OUTPUT_DIR, 'tickets_by_ward.csv'))"
   ]
  },
  {
   "cell_type": "code",
   "execution_count": 9,
   "id": "e5972071",
   "metadata": {
    "execution": {
     "iopub.execute_input": "2023-09-21T23:40:18.029750Z",
     "iopub.status.busy": "2023-09-21T23:40:18.029303Z",
     "iopub.status.idle": "2023-09-21T23:40:18.037896Z",
     "shell.execute_reply": "2023-09-21T23:40:18.037270Z"
    },
    "papermill": {
     "duration": 0.013632,
     "end_time": "2023-09-21T23:40:18.039541",
     "exception": false,
     "start_time": "2023-09-21T23:40:18.025909",
     "status": "completed"
    },
    "tags": []
   },
   "outputs": [],
   "source": [
    "pd.DataFrame({\n",
    "  'orders': tickets.groupby('event_date').number_of_tickets.count(),\n",
    "  'tickets': tickets.groupby('event_date').number_of_tickets.sum().astype(int),\n",
    "}).resample('M').sum().to_csv(os.path.join(OUTPUT_DIR, 'tickets_by_event_date.csv'))"
   ]
  },
  {
   "cell_type": "code",
   "execution_count": 10,
   "id": "1fe8ef1e",
   "metadata": {
    "execution": {
     "iopub.execute_input": "2023-09-21T23:40:18.047053Z",
     "iopub.status.busy": "2023-09-21T23:40:18.046598Z",
     "iopub.status.idle": "2023-09-21T23:40:18.052226Z",
     "shell.execute_reply": "2023-09-21T23:40:18.051526Z"
    },
    "papermill": {
     "duration": 0.011622,
     "end_time": "2023-09-21T23:40:18.053786",
     "exception": false,
     "start_time": "2023-09-21T23:40:18.042164",
     "status": "completed"
    },
    "tags": []
   },
   "outputs": [],
   "source": [
    "pd.Series({\n",
    "    'total_events': events.event_unique_identifier.count(),\n",
    "    'total_attendances': events.attendances.count(),\n",
    "    'first_event': events.date.min(),\n",
    "    'latest_event': events.date.max(),\n",
    "    'total_ticket_orders_for_events_to_date': tickets.number_of_tickets.count(),\n",
    "    'total_tickets_sold_for_events_to_date': tickets.number_of_tickets.sum(),\n",
    "}).to_json(os.path.join(OUTPUT_DIR, 'headlines.json'), indent=2)"
   ]
  },
  {
   "cell_type": "code",
   "execution_count": null,
   "id": "025aeb7b",
   "metadata": {
    "papermill": {
     "duration": 0.002876,
     "end_time": "2023-09-21T23:40:18.059414",
     "exception": false,
     "start_time": "2023-09-21T23:40:18.056538",
     "status": "completed"
    },
    "tags": []
   },
   "outputs": [],
   "source": []
  }
 ],
 "metadata": {
  "kernelspec": {
   "display_name": "leeds-2023-YZF5GfJv",
   "language": "python",
   "name": "python3"
  },
  "language_info": {
   "codemirror_mode": {
    "name": "ipython",
    "version": 3
   },
   "file_extension": ".py",
   "mimetype": "text/x-python",
   "name": "python",
   "nbconvert_exporter": "python",
   "pygments_lexer": "ipython3",
   "version": "3.10.13"
  },
  "papermill": {
   "default_parameters": {},
   "duration": 12.568489,
   "end_time": "2023-09-21T23:40:18.379244",
   "environment_variables": {},
   "exception": null,
   "input_path": "prepare.ipynb",
   "output_path": "../../../../working/output/signature-prepare.ipynb",
   "parameters": {},
   "start_time": "2023-09-21T23:40:05.810755",
   "version": "2.4.0"
  }
 },
 "nbformat": 4,
 "nbformat_minor": 5
}