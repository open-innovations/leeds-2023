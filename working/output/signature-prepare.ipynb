{
 "cells": [
  {
   "cell_type": "code",
   "execution_count": 1,
   "id": "71e42b55",
   "metadata": {
    "execution": {
     "iopub.execute_input": "2023-11-25T23:38:53.665335Z",
     "iopub.status.busy": "2023-11-25T23:38:53.664854Z",
     "iopub.status.idle": "2023-11-25T23:39:00.774579Z",
     "shell.execute_reply": "2023-11-25T23:39:00.773944Z"
    },
    "papermill": {
     "duration": 7.11479,
     "end_time": "2023-11-25T23:39:00.776307",
     "exception": false,
     "start_time": "2023-11-25T23:38:53.661517",
     "status": "completed"
    },
    "tags": []
   },
   "outputs": [],
   "source": [
    "import os\n",
    "import pandas as pd\n",
    "from events import load_event_data, get_first_ward, normalise_ward"
   ]
  },
  {
   "cell_type": "code",
   "execution_count": 2,
   "id": "98a21dae",
   "metadata": {
    "execution": {
     "iopub.execute_input": "2023-11-25T23:39:00.781744Z",
     "iopub.status.busy": "2023-11-25T23:39:00.781300Z",
     "iopub.status.idle": "2023-11-25T23:39:00.784900Z",
     "shell.execute_reply": "2023-11-25T23:39:00.784356Z"
    },
    "papermill": {
     "duration": 0.007562,
     "end_time": "2023-11-25T23:39:00.786152",
     "exception": false,
     "start_time": "2023-11-25T23:39:00.778590",
     "status": "completed"
    },
    "tags": []
   },
   "outputs": [],
   "source": [
    "latest_date = pd.Timestamp.today().ceil('D')"
   ]
  },
  {
   "cell_type": "code",
   "execution_count": 3,
   "id": "01720646",
   "metadata": {
    "execution": {
     "iopub.execute_input": "2023-11-25T23:39:00.791017Z",
     "iopub.status.busy": "2023-11-25T23:39:00.790640Z",
     "iopub.status.idle": "2023-11-25T23:39:00.804998Z",
     "shell.execute_reply": "2023-11-25T23:39:00.804375Z"
    },
    "papermill": {
     "duration": 0.01842,
     "end_time": "2023-11-25T23:39:00.806448",
     "exception": false,
     "start_time": "2023-11-25T23:39:00.788028",
     "status": "completed"
    },
    "tags": []
   },
   "outputs": [],
   "source": [
    "tickets = pd.read_csv('../../../../data/metrics/events/tickets/orders.csv', parse_dates=['created_at', 'event_date'])\n",
    "tickets = tickets[tickets.event_date <= latest_date]"
   ]
  },
  {
   "cell_type": "code",
   "execution_count": 4,
   "id": "82b27a42",
   "metadata": {
    "execution": {
     "iopub.execute_input": "2023-11-25T23:39:00.811180Z",
     "iopub.status.busy": "2023-11-25T23:39:00.810755Z",
     "iopub.status.idle": "2023-11-25T23:39:00.857477Z",
     "shell.execute_reply": "2023-11-25T23:39:00.856983Z"
    },
    "papermill": {
     "duration": 0.050507,
     "end_time": "2023-11-25T23:39:00.858801",
     "exception": false,
     "start_time": "2023-11-25T23:39:00.808294",
     "status": "completed"
    },
    "tags": []
   },
   "outputs": [],
   "source": [
    "events = load_event_data()\n",
    "\n",
    "events = pd.concat([\n",
    "  events,\n",
    "  events.pipe(get_first_ward).pipe(normalise_ward).fillna('UNKNOWN'),\n",
    "  pd.Series(\n",
    "      events.actual_audience_size_number_of_participants_in_person + events.actual_audience_size_number_of_participants_online,\n",
    "      name='attendances'\n",
    "  )\n",
    "], axis=1).rename(columns={\n",
    "    'start_date': 'date'\n",
    "}).loc[:, ['ward_code', 'date', 'event_unique_identifier', 'attendances']]"
   ]
  },
  {
   "cell_type": "code",
   "execution_count": 5,
   "id": "0071247e",
   "metadata": {
    "execution": {
     "iopub.execute_input": "2023-11-25T23:39:00.863542Z",
     "iopub.status.busy": "2023-11-25T23:39:00.863203Z",
     "iopub.status.idle": "2023-11-25T23:39:00.866366Z",
     "shell.execute_reply": "2023-11-25T23:39:00.865725Z"
    },
    "papermill": {
     "duration": 0.006995,
     "end_time": "2023-11-25T23:39:00.867687",
     "exception": false,
     "start_time": "2023-11-25T23:39:00.860692",
     "status": "completed"
    },
    "tags": []
   },
   "outputs": [],
   "source": [
    "OUTPUT_DIR='../../../../docs/metrics/events/signature/_data/'\n",
    "os.makedirs(OUTPUT_DIR, exist_ok=True)"
   ]
  },
  {
   "cell_type": "markdown",
   "id": "e88ef4ae",
   "metadata": {
    "papermill": {
     "duration": 0.002053,
     "end_time": "2023-11-25T23:39:00.871616",
     "exception": false,
     "start_time": "2023-11-25T23:39:00.869563",
     "status": "completed"
    },
    "tags": []
   },
   "source": [
    "Events CSVs"
   ]
  },
  {
   "cell_type": "code",
   "execution_count": 6,
   "id": "2c0ca063",
   "metadata": {
    "execution": {
     "iopub.execute_input": "2023-11-25T23:39:00.876325Z",
     "iopub.status.busy": "2023-11-25T23:39:00.875987Z",
     "iopub.status.idle": "2023-11-25T23:39:00.881959Z",
     "shell.execute_reply": "2023-11-25T23:39:00.881358Z"
    },
    "papermill": {
     "duration": 0.009931,
     "end_time": "2023-11-25T23:39:00.883426",
     "exception": false,
     "start_time": "2023-11-25T23:39:00.873495",
     "status": "completed"
    },
    "tags": []
   },
   "outputs": [],
   "source": [
    "pd.DataFrame({\n",
    "  'events': events.groupby('ward_code').event_unique_identifier.count(),\n",
    "  'attendances': events.groupby('ward_code').attendances.sum().astype(int),\n",
    "}).to_csv(os.path.join(OUTPUT_DIR, 'events_by_ward.csv'))\n"
   ]
  },
  {
   "cell_type": "code",
   "execution_count": 7,
   "id": "cc7aadec",
   "metadata": {
    "execution": {
     "iopub.execute_input": "2023-11-25T23:39:00.888639Z",
     "iopub.status.busy": "2023-11-25T23:39:00.888135Z",
     "iopub.status.idle": "2023-11-25T23:39:00.896293Z",
     "shell.execute_reply": "2023-11-25T23:39:00.895691Z"
    },
    "papermill": {
     "duration": 0.012273,
     "end_time": "2023-11-25T23:39:00.897731",
     "exception": false,
     "start_time": "2023-11-25T23:39:00.885458",
     "status": "completed"
    },
    "tags": []
   },
   "outputs": [],
   "source": [
    "pd.DataFrame({\n",
    "  'events': events.groupby('date').event_unique_identifier.count(),\n",
    "  'attendances': events.groupby('date').attendances.sum().astype(int),\n",
    "}).resample('M').sum().astype(int).to_csv(os.path.join(OUTPUT_DIR, 'events_by_date.csv'))"
   ]
  },
  {
   "cell_type": "markdown",
   "id": "97089225",
   "metadata": {
    "papermill": {
     "duration": 0.002791,
     "end_time": "2023-11-25T23:39:00.902498",
     "exception": false,
     "start_time": "2023-11-25T23:39:00.899707",
     "status": "completed"
    },
    "tags": []
   },
   "source": [
    "Tickets CSV"
   ]
  },
  {
   "cell_type": "code",
   "execution_count": 8,
   "id": "58d6f39a",
   "metadata": {
    "execution": {
     "iopub.execute_input": "2023-11-25T23:39:00.907509Z",
     "iopub.status.busy": "2023-11-25T23:39:00.907049Z",
     "iopub.status.idle": "2023-11-25T23:39:00.912737Z",
     "shell.execute_reply": "2023-11-25T23:39:00.912246Z"
    },
    "papermill": {
     "duration": 0.009608,
     "end_time": "2023-11-25T23:39:00.914046",
     "exception": false,
     "start_time": "2023-11-25T23:39:00.904438",
     "status": "completed"
    },
    "tags": []
   },
   "outputs": [],
   "source": [
    "pd.DataFrame({\n",
    "  'orders': tickets.groupby('ward_code').number_of_tickets.count(),\n",
    "  'tickets': tickets.groupby('ward_code').number_of_tickets.sum().astype(int),\n",
    "}).to_csv(os.path.join(OUTPUT_DIR, 'tickets_by_ward.csv'))"
   ]
  },
  {
   "cell_type": "code",
   "execution_count": 9,
   "id": "1d859355",
   "metadata": {
    "execution": {
     "iopub.execute_input": "2023-11-25T23:39:00.919021Z",
     "iopub.status.busy": "2023-11-25T23:39:00.918689Z",
     "iopub.status.idle": "2023-11-25T23:39:00.925446Z",
     "shell.execute_reply": "2023-11-25T23:39:00.924838Z"
    },
    "papermill": {
     "duration": 0.010753,
     "end_time": "2023-11-25T23:39:00.926814",
     "exception": false,
     "start_time": "2023-11-25T23:39:00.916061",
     "status": "completed"
    },
    "tags": []
   },
   "outputs": [],
   "source": [
    "pd.DataFrame({\n",
    "  'orders': tickets.groupby('event_date').number_of_tickets.count(),\n",
    "  'tickets': tickets.groupby('event_date').number_of_tickets.sum().astype(int),\n",
    "}).resample('M').sum().to_csv(os.path.join(OUTPUT_DIR, 'tickets_by_event_date.csv'))"
   ]
  },
  {
   "cell_type": "code",
   "execution_count": 10,
   "id": "50793f14",
   "metadata": {
    "execution": {
     "iopub.execute_input": "2023-11-25T23:39:00.931854Z",
     "iopub.status.busy": "2023-11-25T23:39:00.931522Z",
     "iopub.status.idle": "2023-11-25T23:39:00.936445Z",
     "shell.execute_reply": "2023-11-25T23:39:00.935910Z"
    },
    "papermill": {
     "duration": 0.008795,
     "end_time": "2023-11-25T23:39:00.937664",
     "exception": false,
     "start_time": "2023-11-25T23:39:00.928869",
     "status": "completed"
    },
    "tags": []
   },
   "outputs": [],
   "source": [
    "pd.Series({\n",
    "    'total_events': events.event_unique_identifier.count(),\n",
    "    'total_attendances': events.attendances.count(),\n",
    "    'first_event': events.date.min(),\n",
    "    'latest_event': events.date.max(),\n",
    "    'total_ticket_orders_for_events_to_date': tickets.number_of_tickets.count(),\n",
    "    'total_tickets_sold_for_events_to_date': tickets.number_of_tickets.sum(),\n",
    "}).to_json(os.path.join(OUTPUT_DIR, 'headlines.json'), indent=2)"
   ]
  },
  {
   "cell_type": "code",
   "execution_count": null,
   "id": "01d0ffe0",
   "metadata": {
    "papermill": {
     "duration": 0.00197,
     "end_time": "2023-11-25T23:39:00.941699",
     "exception": false,
     "start_time": "2023-11-25T23:39:00.939729",
     "status": "completed"
    },
    "tags": []
   },
   "outputs": [],
   "source": []
  }
 ],
 "metadata": {
  "kernelspec": {
   "display_name": "leeds-2023-YZF5GfJv",
   "language": "python",
   "name": "python3"
  },
  "language_info": {
   "codemirror_mode": {
    "name": "ipython",
    "version": 3
   },
   "file_extension": ".py",
   "mimetype": "text/x-python",
   "name": "python",
   "nbconvert_exporter": "python",
   "pygments_lexer": "ipython3",
   "version": "3.10.13"
  },
  "papermill": {
   "default_parameters": {},
   "duration": 8.733601,
   "end_time": "2023-11-25T23:39:01.159718",
   "environment_variables": {},
   "exception": null,
   "input_path": "prepare.ipynb",
   "output_path": "../../../../working/output/signature-prepare.ipynb",
   "parameters": {},
   "start_time": "2023-11-25T23:38:52.426117",
   "version": "2.4.0"
  }
 },
 "nbformat": 4,
 "nbformat_minor": 5
}