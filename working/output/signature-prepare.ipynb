{
 "cells": [
  {
   "cell_type": "code",
   "execution_count": 1,
   "id": "afdbaf70",
   "metadata": {
    "execution": {
     "iopub.execute_input": "2023-10-03T08:44:26.163868Z",
     "iopub.status.busy": "2023-10-03T08:44:26.163104Z",
     "iopub.status.idle": "2023-10-03T08:44:36.583723Z",
     "shell.execute_reply": "2023-10-03T08:44:36.582952Z"
    },
    "papermill": {
     "duration": 10.42756,
     "end_time": "2023-10-03T08:44:36.586160",
     "exception": false,
     "start_time": "2023-10-03T08:44:26.158600",
     "status": "completed"
    },
    "tags": []
   },
   "outputs": [],
   "source": [
    "import os\n",
    "import pandas as pd\n",
    "from events import load_event_data, get_first_ward, normalise_ward"
   ]
  },
  {
   "cell_type": "code",
   "execution_count": 2,
   "id": "371112bb",
   "metadata": {
    "execution": {
     "iopub.execute_input": "2023-10-03T08:44:36.593385Z",
     "iopub.status.busy": "2023-10-03T08:44:36.592797Z",
     "iopub.status.idle": "2023-10-03T08:44:36.597285Z",
     "shell.execute_reply": "2023-10-03T08:44:36.596695Z"
    },
    "papermill": {
     "duration": 0.00953,
     "end_time": "2023-10-03T08:44:36.598739",
     "exception": false,
     "start_time": "2023-10-03T08:44:36.589209",
     "status": "completed"
    },
    "tags": []
   },
   "outputs": [],
   "source": [
    "latest_date = pd.Timestamp.today().ceil('D')"
   ]
  },
  {
   "cell_type": "code",
   "execution_count": 3,
   "id": "5dead7e9",
   "metadata": {
    "execution": {
     "iopub.execute_input": "2023-10-03T08:44:36.604601Z",
     "iopub.status.busy": "2023-10-03T08:44:36.604069Z",
     "iopub.status.idle": "2023-10-03T08:44:36.622906Z",
     "shell.execute_reply": "2023-10-03T08:44:36.622237Z"
    },
    "papermill": {
     "duration": 0.023616,
     "end_time": "2023-10-03T08:44:36.624601",
     "exception": false,
     "start_time": "2023-10-03T08:44:36.600985",
     "status": "completed"
    },
    "tags": []
   },
   "outputs": [],
   "source": [
    "tickets = pd.read_csv('../../../../data/metrics/events/tickets/orders.csv', parse_dates=['created_at', 'event_date'])\n",
    "tickets = tickets[tickets.event_date <= latest_date]"
   ]
  },
  {
   "cell_type": "code",
   "execution_count": 4,
   "id": "6789bb75",
   "metadata": {
    "execution": {
     "iopub.execute_input": "2023-10-03T08:44:36.631015Z",
     "iopub.status.busy": "2023-10-03T08:44:36.630784Z",
     "iopub.status.idle": "2023-10-03T08:44:36.869719Z",
     "shell.execute_reply": "2023-10-03T08:44:36.868963Z"
    },
    "papermill": {
     "duration": 0.244427,
     "end_time": "2023-10-03T08:44:36.871675",
     "exception": false,
     "start_time": "2023-10-03T08:44:36.627248",
     "status": "completed"
    },
    "tags": []
   },
   "outputs": [],
   "source": [
    "events = load_event_data()\n",
    "\n",
    "events = pd.concat([\n",
    "  events,\n",
    "  events.pipe(get_first_ward).pipe(normalise_ward).fillna('UNKNOWN'),\n",
    "  pd.Series(\n",
    "      events.actual_audience_size_number_of_participants_in_person + events.actual_audience_size_number_of_participants_online,\n",
    "      name='attendances'\n",
    "  )\n",
    "], axis=1).rename(columns={\n",
    "    'start_date': 'date'\n",
    "}).loc[:, ['ward_code', 'date', 'event_unique_identifier', 'attendances']]"
   ]
  },
  {
   "cell_type": "code",
   "execution_count": 5,
   "id": "1b1978fd",
   "metadata": {
    "execution": {
     "iopub.execute_input": "2023-10-03T08:44:36.878453Z",
     "iopub.status.busy": "2023-10-03T08:44:36.877953Z",
     "iopub.status.idle": "2023-10-03T08:44:36.881662Z",
     "shell.execute_reply": "2023-10-03T08:44:36.880963Z"
    },
    "papermill": {
     "duration": 0.009005,
     "end_time": "2023-10-03T08:44:36.883393",
     "exception": false,
     "start_time": "2023-10-03T08:44:36.874388",
     "status": "completed"
    },
    "tags": []
   },
   "outputs": [],
   "source": [
    "OUTPUT_DIR='../../../../docs/metrics/events/signature/_data/'\n",
    "os.makedirs(OUTPUT_DIR, exist_ok=True)"
   ]
  },
  {
   "cell_type": "markdown",
   "id": "0971ce2c",
   "metadata": {
    "papermill": {
     "duration": 0.002422,
     "end_time": "2023-10-03T08:44:36.888163",
     "exception": false,
     "start_time": "2023-10-03T08:44:36.885741",
     "status": "completed"
    },
    "tags": []
   },
   "source": [
    "Events CSVs"
   ]
  },
  {
   "cell_type": "code",
   "execution_count": 6,
   "id": "df33193c",
   "metadata": {
    "execution": {
     "iopub.execute_input": "2023-10-03T08:44:36.894189Z",
     "iopub.status.busy": "2023-10-03T08:44:36.893756Z",
     "iopub.status.idle": "2023-10-03T08:44:36.900670Z",
     "shell.execute_reply": "2023-10-03T08:44:36.900057Z"
    },
    "papermill": {
     "duration": 0.011677,
     "end_time": "2023-10-03T08:44:36.902222",
     "exception": false,
     "start_time": "2023-10-03T08:44:36.890545",
     "status": "completed"
    },
    "tags": []
   },
   "outputs": [],
   "source": [
    "pd.DataFrame({\n",
    "  'events': events.groupby('ward_code').event_unique_identifier.count(),\n",
    "  'attendances': events.groupby('ward_code').attendances.sum().astype(int),\n",
    "}).to_csv(os.path.join(OUTPUT_DIR, 'events_by_ward.csv'))\n"
   ]
  },
  {
   "cell_type": "code",
   "execution_count": 7,
   "id": "3c2eb73d",
   "metadata": {
    "execution": {
     "iopub.execute_input": "2023-10-03T08:44:36.908279Z",
     "iopub.status.busy": "2023-10-03T08:44:36.907757Z",
     "iopub.status.idle": "2023-10-03T08:44:36.919149Z",
     "shell.execute_reply": "2023-10-03T08:44:36.918552Z"
    },
    "papermill": {
     "duration": 0.016022,
     "end_time": "2023-10-03T08:44:36.920652",
     "exception": false,
     "start_time": "2023-10-03T08:44:36.904630",
     "status": "completed"
    },
    "tags": []
   },
   "outputs": [],
   "source": [
    "pd.DataFrame({\n",
    "  'events': events.groupby('date').event_unique_identifier.count(),\n",
    "  'attendances': events.groupby('date').attendances.sum().astype(int),\n",
    "}).resample('M').sum().astype(int).to_csv(os.path.join(OUTPUT_DIR, 'events_by_date.csv'))"
   ]
  },
  {
   "cell_type": "markdown",
   "id": "f733b761",
   "metadata": {
    "papermill": {
     "duration": 0.002477,
     "end_time": "2023-10-03T08:44:36.925584",
     "exception": false,
     "start_time": "2023-10-03T08:44:36.923107",
     "status": "completed"
    },
    "tags": []
   },
   "source": [
    "Tickets CSV"
   ]
  },
  {
   "cell_type": "code",
   "execution_count": 8,
   "id": "ca83c132",
   "metadata": {
    "execution": {
     "iopub.execute_input": "2023-10-03T08:44:36.931646Z",
     "iopub.status.busy": "2023-10-03T08:44:36.931207Z",
     "iopub.status.idle": "2023-10-03T08:44:36.938319Z",
     "shell.execute_reply": "2023-10-03T08:44:36.937725Z"
    },
    "papermill": {
     "duration": 0.01186,
     "end_time": "2023-10-03T08:44:36.939894",
     "exception": false,
     "start_time": "2023-10-03T08:44:36.928034",
     "status": "completed"
    },
    "tags": []
   },
   "outputs": [],
   "source": [
    "pd.DataFrame({\n",
    "  'orders': tickets.groupby('ward_code').number_of_tickets.count(),\n",
    "  'tickets': tickets.groupby('ward_code').number_of_tickets.sum().astype(int),\n",
    "}).to_csv(os.path.join(OUTPUT_DIR, 'tickets_by_ward.csv'))"
   ]
  },
  {
   "cell_type": "code",
   "execution_count": 9,
   "id": "734788e2",
   "metadata": {
    "execution": {
     "iopub.execute_input": "2023-10-03T08:44:36.946059Z",
     "iopub.status.busy": "2023-10-03T08:44:36.945649Z",
     "iopub.status.idle": "2023-10-03T08:44:36.953606Z",
     "shell.execute_reply": "2023-10-03T08:44:36.953011Z"
    },
    "papermill": {
     "duration": 0.012946,
     "end_time": "2023-10-03T08:44:36.955301",
     "exception": false,
     "start_time": "2023-10-03T08:44:36.942355",
     "status": "completed"
    },
    "tags": []
   },
   "outputs": [],
   "source": [
    "pd.DataFrame({\n",
    "  'orders': tickets.groupby('event_date').number_of_tickets.count(),\n",
    "  'tickets': tickets.groupby('event_date').number_of_tickets.sum().astype(int),\n",
    "}).resample('M').sum().to_csv(os.path.join(OUTPUT_DIR, 'tickets_by_event_date.csv'))"
   ]
  },
  {
   "cell_type": "code",
   "execution_count": 10,
   "id": "02433239",
   "metadata": {
    "execution": {
     "iopub.execute_input": "2023-10-03T08:44:36.962470Z",
     "iopub.status.busy": "2023-10-03T08:44:36.962055Z",
     "iopub.status.idle": "2023-10-03T08:44:36.967338Z",
     "shell.execute_reply": "2023-10-03T08:44:36.966642Z"
    },
    "papermill": {
     "duration": 0.011079,
     "end_time": "2023-10-03T08:44:36.968847",
     "exception": false,
     "start_time": "2023-10-03T08:44:36.957768",
     "status": "completed"
    },
    "tags": []
   },
   "outputs": [],
   "source": [
    "pd.Series({\n",
    "    'total_events': events.event_unique_identifier.count(),\n",
    "    'total_attendances': events.attendances.count(),\n",
    "    'first_event': events.date.min(),\n",
    "    'latest_event': events.date.max(),\n",
    "    'total_ticket_orders_for_events_to_date': tickets.number_of_tickets.count(),\n",
    "    'total_tickets_sold_for_events_to_date': tickets.number_of_tickets.sum(),\n",
    "}).to_json(os.path.join(OUTPUT_DIR, 'headlines.json'), indent=2)"
   ]
  },
  {
   "cell_type": "code",
   "execution_count": null,
   "id": "15d96185",
   "metadata": {
    "papermill": {
     "duration": 0.002498,
     "end_time": "2023-10-03T08:44:36.973893",
     "exception": false,
     "start_time": "2023-10-03T08:44:36.971395",
     "status": "completed"
    },
    "tags": []
   },
   "outputs": [],
   "source": []
  }
 ],
 "metadata": {
  "kernelspec": {
   "display_name": "leeds-2023-YZF5GfJv",
   "language": "python",
   "name": "python3"
  },
  "language_info": {
   "codemirror_mode": {
    "name": "ipython",
    "version": 3
   },
   "file_extension": ".py",
   "mimetype": "text/x-python",
   "name": "python",
   "nbconvert_exporter": "python",
   "pygments_lexer": "ipython3",
   "version": "3.10.13"
  },
  "papermill": {
   "default_parameters": {},
   "duration": 12.505492,
   "end_time": "2023-10-03T08:44:37.293946",
   "environment_variables": {},
   "exception": null,
   "input_path": "prepare.ipynb",
   "output_path": "../../../../working/output/signature-prepare.ipynb",
   "parameters": {},
   "start_time": "2023-10-03T08:44:24.788454",
   "version": "2.4.0"
  }
 },
 "nbformat": 4,
 "nbformat_minor": 5
}