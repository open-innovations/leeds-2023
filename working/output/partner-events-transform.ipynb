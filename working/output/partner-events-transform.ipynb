{
 "cells": [
  {
   "cell_type": "code",
   "execution_count": 1,
   "id": "4610432e",
   "metadata": {
    "execution": {
     "iopub.execute_input": "2023-12-07T23:37:52.789467Z",
     "iopub.status.busy": "2023-12-07T23:37:52.789221Z",
     "iopub.status.idle": "2023-12-07T23:37:53.035923Z",
     "shell.execute_reply": "2023-12-07T23:37:53.035207Z"
    },
    "papermill": {
     "duration": 0.252319,
     "end_time": "2023-12-07T23:37:53.037784",
     "exception": false,
     "start_time": "2023-12-07T23:37:52.785465",
     "status": "completed"
    },
    "tags": []
   },
   "outputs": [],
   "source": [
    "import os\n",
    "import sys\n",
    "import pandas as pd\n",
    "lib_dir = os.path.realpath('../../../lib/')\n",
    "if lib_dir not in sys.path: sys.path.append(lib_dir)"
   ]
  },
  {
   "cell_type": "code",
   "execution_count": 2,
   "id": "230b9d69",
   "metadata": {
    "execution": {
     "iopub.execute_input": "2023-12-07T23:37:53.043602Z",
     "iopub.status.busy": "2023-12-07T23:37:53.043146Z",
     "iopub.status.idle": "2023-12-07T23:38:00.270520Z",
     "shell.execute_reply": "2023-12-07T23:38:00.269780Z"
    },
    "papermill": {
     "duration": 7.232152,
     "end_time": "2023-12-07T23:38:00.272351",
     "exception": false,
     "start_time": "2023-12-07T23:37:53.040199",
     "status": "completed"
    },
    "tags": []
   },
   "outputs": [],
   "source": [
    "import util.geo"
   ]
  },
  {
   "cell_type": "code",
   "execution_count": 3,
   "id": "7e987609",
   "metadata": {
    "execution": {
     "iopub.execute_input": "2023-12-07T23:38:00.277879Z",
     "iopub.status.busy": "2023-12-07T23:38:00.277645Z",
     "iopub.status.idle": "2023-12-07T23:38:00.281112Z",
     "shell.execute_reply": "2023-12-07T23:38:00.280470Z"
    },
    "papermill": {
     "duration": 0.007657,
     "end_time": "2023-12-07T23:38:00.282439",
     "exception": false,
     "start_time": "2023-12-07T23:38:00.274782",
     "status": "completed"
    },
    "tags": []
   },
   "outputs": [],
   "source": [
    "EVENTS_RAW_DATA = '../../../working/metrics/partner-events/events.csv'\n",
    "DATA_DIR = '../../../data/metrics/events/partner-events/'\n",
    "EVENTS_DATA = os.path.join(DATA_DIR, 'events.csv')"
   ]
  },
  {
   "cell_type": "code",
   "execution_count": 4,
   "id": "fca2feaa",
   "metadata": {
    "execution": {
     "iopub.execute_input": "2023-12-07T23:38:00.287733Z",
     "iopub.status.busy": "2023-12-07T23:38:00.287321Z",
     "iopub.status.idle": "2023-12-07T23:38:00.290854Z",
     "shell.execute_reply": "2023-12-07T23:38:00.290321Z"
    },
    "papermill": {
     "duration": 0.007593,
     "end_time": "2023-12-07T23:38:00.292166",
     "exception": false,
     "start_time": "2023-12-07T23:38:00.284573",
     "status": "completed"
    },
    "tags": []
   },
   "outputs": [],
   "source": [
    "columns = {\n",
    "    'Event Name': 'name',\n",
    "    'Event Start Date': 'start_date',\n",
    "    'Event End Date': 'end_date',\n",
    "    'Partner/Promote': 'partner_promote',\n",
    "    'Stage': 'stage',\n",
    "    'Live date': 'live_date',\n",
    "    'Venue postcode': 'postcode',\n",
    "    'Pricing Policy': 'pricing',\n",
    "    'Venue - including address': 'venue',\n",
    "    'Is this event on Leeds Inspried?': 'on_leeds_inspired',\n",
    "}"
   ]
  },
  {
   "cell_type": "markdown",
   "id": "b49391bc",
   "metadata": {
    "papermill": {
     "duration": 0.002143,
     "end_time": "2023-12-07T23:38:00.296472",
     "exception": false,
     "start_time": "2023-12-07T23:38:00.294329",
     "status": "completed"
    },
    "tags": []
   },
   "source": [
    "Load the data and rename columns. Parse the dates to dates."
   ]
  },
  {
   "cell_type": "code",
   "execution_count": 5,
   "id": "4c1284e4",
   "metadata": {
    "execution": {
     "iopub.execute_input": "2023-12-07T23:38:00.301754Z",
     "iopub.status.busy": "2023-12-07T23:38:00.301386Z",
     "iopub.status.idle": "2023-12-07T23:38:00.310843Z",
     "shell.execute_reply": "2023-12-07T23:38:00.310330Z"
    },
    "papermill": {
     "duration": 0.013577,
     "end_time": "2023-12-07T23:38:00.312137",
     "exception": false,
     "start_time": "2023-12-07T23:38:00.298560",
     "status": "completed"
    },
    "tags": []
   },
   "outputs": [],
   "source": [
    "data = pd.read_csv(EVENTS_RAW_DATA)[columns.keys()].rename(columns=columns)\n",
    "data.start_date = pd.to_datetime(data.start_date, errors='coerce')\n",
    "data.end_date = pd.to_datetime(data.end_date, errors='coerce')"
   ]
  },
  {
   "cell_type": "markdown",
   "id": "2fd22f60",
   "metadata": {
    "papermill": {
     "duration": 0.002119,
     "end_time": "2023-12-07T23:38:00.316453",
     "exception": false,
     "start_time": "2023-12-07T23:38:00.314334",
     "status": "completed"
    },
    "tags": []
   },
   "source": [
    "Filter data by not LI Pull through and start date before now"
   ]
  },
  {
   "cell_type": "code",
   "execution_count": 6,
   "id": "56a7acc6",
   "metadata": {
    "execution": {
     "iopub.execute_input": "2023-12-07T23:38:00.322472Z",
     "iopub.status.busy": "2023-12-07T23:38:00.322099Z",
     "iopub.status.idle": "2023-12-07T23:38:00.327171Z",
     "shell.execute_reply": "2023-12-07T23:38:00.326667Z"
    },
    "papermill": {
     "duration": 0.009203,
     "end_time": "2023-12-07T23:38:00.328549",
     "exception": false,
     "start_time": "2023-12-07T23:38:00.319346",
     "status": "completed"
    },
    "tags": []
   },
   "outputs": [],
   "source": [
    "data = data[\n",
    "    # (data.live_date == 'This event is live ') &\n",
    "    ((data.stage != 'LI pull through') & data.stage.notna()) &\n",
    "    (data.start_date < pd.Timestamp.now())\n",
    "]"
   ]
  },
  {
   "cell_type": "code",
   "execution_count": 7,
   "id": "c1e0b6d2",
   "metadata": {
    "execution": {
     "iopub.execute_input": "2023-12-07T23:38:00.333891Z",
     "iopub.status.busy": "2023-12-07T23:38:00.333482Z",
     "iopub.status.idle": "2023-12-07T23:38:01.196656Z",
     "shell.execute_reply": "2023-12-07T23:38:01.195910Z"
    },
    "papermill": {
     "duration": 0.867771,
     "end_time": "2023-12-07T23:38:01.198447",
     "exception": false,
     "start_time": "2023-12-07T23:38:00.330676",
     "status": "completed"
    },
    "tags": []
   },
   "outputs": [],
   "source": [
    "data['ward_code'] = data.postcode.pipe(util.geo.postcode_formatter).map(util.geo.postcode_to_ward_code)\n",
    "data['ward_name'] = data.ward_code.pipe(util.geo.ward_code_to_name)"
   ]
  },
  {
   "cell_type": "markdown",
   "id": "6782966e",
   "metadata": {
    "papermill": {
     "duration": 0.002372,
     "end_time": "2023-12-07T23:38:01.203344",
     "exception": false,
     "start_time": "2023-12-07T23:38:01.200972",
     "status": "completed"
    },
    "tags": []
   },
   "source": [
    "Save the file"
   ]
  },
  {
   "cell_type": "code",
   "execution_count": 8,
   "id": "568d1a8e",
   "metadata": {
    "execution": {
     "iopub.execute_input": "2023-12-07T23:38:01.209076Z",
     "iopub.status.busy": "2023-12-07T23:38:01.208556Z",
     "iopub.status.idle": "2023-12-07T23:38:01.214580Z",
     "shell.execute_reply": "2023-12-07T23:38:01.213958Z"
    },
    "papermill": {
     "duration": 0.010499,
     "end_time": "2023-12-07T23:38:01.216060",
     "exception": false,
     "start_time": "2023-12-07T23:38:01.205561",
     "status": "completed"
    },
    "tags": []
   },
   "outputs": [],
   "source": [
    "data[\n",
    "    ['name','start_date','end_date','ward_code']\n",
    "].to_csv(EVENTS_DATA, index=False)"
   ]
  },
  {
   "cell_type": "markdown",
   "id": "5762c158",
   "metadata": {
    "papermill": {
     "duration": 0.002184,
     "end_time": "2023-12-07T23:38:01.220496",
     "exception": false,
     "start_time": "2023-12-07T23:38:01.218312",
     "status": "completed"
    },
    "tags": []
   },
   "source": [
    "Print out missing postcode data"
   ]
  },
  {
   "cell_type": "code",
   "execution_count": 9,
   "id": "9d90f068",
   "metadata": {
    "execution": {
     "iopub.execute_input": "2023-12-07T23:38:01.226001Z",
     "iopub.status.busy": "2023-12-07T23:38:01.225605Z",
     "iopub.status.idle": "2023-12-07T23:38:01.237265Z",
     "shell.execute_reply": "2023-12-07T23:38:01.236642Z"
    },
    "papermill": {
     "duration": 0.015809,
     "end_time": "2023-12-07T23:38:01.238517",
     "exception": false,
     "start_time": "2023-12-07T23:38:01.222708",
     "status": "completed"
    },
    "tags": []
   },
   "outputs": [
    {
     "data": {
      "text/html": [
       "<div>\n",
       "<style scoped>\n",
       "    .dataframe tbody tr th:only-of-type {\n",
       "        vertical-align: middle;\n",
       "    }\n",
       "\n",
       "    .dataframe tbody tr th {\n",
       "        vertical-align: top;\n",
       "    }\n",
       "\n",
       "    .dataframe thead th {\n",
       "        text-align: right;\n",
       "    }\n",
       "</style>\n",
       "<table border=\"1\" class=\"dataframe\">\n",
       "  <thead>\n",
       "    <tr style=\"text-align: right;\">\n",
       "      <th></th>\n",
       "      <th>name</th>\n",
       "      <th>start_date</th>\n",
       "    </tr>\n",
       "  </thead>\n",
       "  <tbody>\n",
       "    <tr>\n",
       "      <th>1</th>\n",
       "      <td>East Street Arts, A City Less Grey 2022</td>\n",
       "      <td>2022-10-08</td>\n",
       "    </tr>\n",
       "    <tr>\n",
       "      <th>3</th>\n",
       "      <td>Phoenix Dance Theatre Virtual Gallery</td>\n",
       "      <td>2023-01-01</td>\n",
       "    </tr>\n",
       "    <tr>\n",
       "      <th>4</th>\n",
       "      <td>The Big Art Giveaway, School of Creative Arts ...</td>\n",
       "      <td>2023-01-01</td>\n",
       "    </tr>\n",
       "    <tr>\n",
       "      <th>5</th>\n",
       "      <td>Embassy of Netherlands, Meet Leeds Lab</td>\n",
       "      <td>2023-01-16</td>\n",
       "    </tr>\n",
       "    <tr>\n",
       "      <th>6</th>\n",
       "      <td>Shifting Borders: A Journey to the Centre of o...</td>\n",
       "      <td>2023-01-24</td>\n",
       "    </tr>\n",
       "    <tr>\n",
       "      <th>...</th>\n",
       "      <td>...</td>\n",
       "      <td>...</td>\n",
       "    </tr>\n",
       "    <tr>\n",
       "      <th>299</th>\n",
       "      <td>Leeds Language Week: Chinese Dance and Languag...</td>\n",
       "      <td>2023-11-19</td>\n",
       "    </tr>\n",
       "    <tr>\n",
       "      <th>300</th>\n",
       "      <td>Leeds Language Week: Taste of China</td>\n",
       "      <td>2023-11-19</td>\n",
       "    </tr>\n",
       "    <tr>\n",
       "      <th>302</th>\n",
       "      <td>Don't Go To Bed Just Yet: Live recording from ...</td>\n",
       "      <td>2023-11-21</td>\n",
       "    </tr>\n",
       "    <tr>\n",
       "      <th>304</th>\n",
       "      <td>Wellbeing Wednesdays</td>\n",
       "      <td>2023-11-22</td>\n",
       "    </tr>\n",
       "    <tr>\n",
       "      <th>315</th>\n",
       "      <td>Art Social for Teachers: Textile Stories with ...</td>\n",
       "      <td>2023-12-06</td>\n",
       "    </tr>\n",
       "  </tbody>\n",
       "</table>\n",
       "<p>127 rows × 2 columns</p>\n",
       "</div>"
      ],
      "text/plain": [
       "                                                  name start_date\n",
       "1              East Street Arts, A City Less Grey 2022 2022-10-08\n",
       "3                Phoenix Dance Theatre Virtual Gallery 2023-01-01\n",
       "4    The Big Art Giveaway, School of Creative Arts ... 2023-01-01\n",
       "5               Embassy of Netherlands, Meet Leeds Lab 2023-01-16\n",
       "6    Shifting Borders: A Journey to the Centre of o... 2023-01-24\n",
       "..                                                 ...        ...\n",
       "299  Leeds Language Week: Chinese Dance and Languag... 2023-11-19\n",
       "300                Leeds Language Week: Taste of China 2023-11-19\n",
       "302  Don't Go To Bed Just Yet: Live recording from ... 2023-11-21\n",
       "304                               Wellbeing Wednesdays 2023-11-22\n",
       "315  Art Social for Teachers: Textile Stories with ... 2023-12-06\n",
       "\n",
       "[127 rows x 2 columns]"
      ]
     },
     "execution_count": 9,
     "metadata": {},
     "output_type": "execute_result"
    }
   ],
   "source": [
    "data[data.postcode.isna()][[\n",
    "    'name', 'start_date'\n",
    "]]"
   ]
  },
  {
   "cell_type": "markdown",
   "id": "a16e4388",
   "metadata": {
    "papermill": {
     "duration": 0.002357,
     "end_time": "2023-12-07T23:38:01.243351",
     "exception": false,
     "start_time": "2023-12-07T23:38:01.240994",
     "status": "completed"
    },
    "tags": []
   },
   "source": [
    "Plot the pricing"
   ]
  },
  {
   "cell_type": "code",
   "execution_count": 10,
   "id": "db9f682c",
   "metadata": {
    "execution": {
     "iopub.execute_input": "2023-12-07T23:38:01.249333Z",
     "iopub.status.busy": "2023-12-07T23:38:01.248925Z",
     "iopub.status.idle": "2023-12-07T23:38:01.726336Z",
     "shell.execute_reply": "2023-12-07T23:38:01.725658Z"
    },
    "papermill": {
     "duration": 0.481819,
     "end_time": "2023-12-07T23:38:01.727649",
     "exception": false,
     "start_time": "2023-12-07T23:38:01.245830",
     "status": "completed"
    },
    "tags": []
   },
   "outputs": [
    {
     "data": {
      "image/png": "[encoded data removed]",
      "text/plain": [
       "<Figure size 640x480 with 1 Axes>"
      ]
     },
     "metadata": {},
     "output_type": "display_data"
    }
   ],
   "source": [
    "# .groupby('pricing').count().plot.barh()\n",
    "pricing = data.pricing.fillna('Unspecified').str.replace('[\\[\\'\\]]', '', regex=True).to_frame().reset_index().groupby('pricing').count()\n",
    "\n",
    "pricing.columns = ['count']\n",
    "plot = pricing.plot.barh()\n"
   ]
  },
  {
   "cell_type": "code",
   "execution_count": null,
   "id": "a22f431f",
   "metadata": {
    "papermill": {
     "duration": 0.002982,
     "end_time": "2023-12-07T23:38:01.733746",
     "exception": false,
     "start_time": "2023-12-07T23:38:01.730764",
     "status": "completed"
    },
    "tags": []
   },
   "outputs": [],
   "source": []
  }
 ],
 "metadata": {
  "kernelspec": {
   "display_name": "leeds-2023-YZF5GfJv",
   "language": "python",
   "name": "python3"
  },
  "language_info": {
   "codemirror_mode": {
    "name": "ipython",
    "version": 3
   },
   "file_extension": ".py",
   "mimetype": "text/x-python",
   "name": "python",
   "nbconvert_exporter": "python",
   "pygments_lexer": "ipython3",
   "version": "3.10.13"
  },
  "papermill": {
   "default_parameters": {},
   "duration": 10.524588,
   "end_time": "2023-12-07T23:38:02.053438",
   "environment_variables": {},
   "exception": null,
   "input_path": "transform.ipynb",
   "output_path": "../../../working/output/partner-events-transform.ipynb",
   "parameters": {},
   "start_time": "2023-12-07T23:37:51.528850",
   "version": "2.4.0"
  }
 },
 "nbformat": 4,
 "nbformat_minor": 5
}