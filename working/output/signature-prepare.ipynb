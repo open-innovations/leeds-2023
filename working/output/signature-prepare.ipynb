{
 "cells": [
  {
   "cell_type": "code",
   "execution_count": 1,
   "id": "bd95ba97",
   "metadata": {
    "execution": {
     "iopub.execute_input": "2023-08-06T23:39:17.870293Z",
     "iopub.status.busy": "2023-08-06T23:39:17.869663Z",
     "iopub.status.idle": "2023-08-06T23:39:28.861190Z",
     "shell.execute_reply": "2023-08-06T23:39:28.860301Z"
    },
    "papermill": {
     "duration": 10.998067,
     "end_time": "2023-08-06T23:39:28.863246",
     "exception": false,
     "start_time": "2023-08-06T23:39:17.865179",
     "status": "completed"
    },
    "tags": []
   },
   "outputs": [],
   "source": [
    "import os\n",
    "import pandas as pd\n",
    "from events import load_event_data, get_first_ward, normalise_ward"
   ]
  },
  {
   "cell_type": "code",
   "execution_count": 2,
   "id": "27c0bd04",
   "metadata": {
    "execution": {
     "iopub.execute_input": "2023-08-06T23:39:28.870297Z",
     "iopub.status.busy": "2023-08-06T23:39:28.869799Z",
     "iopub.status.idle": "2023-08-06T23:39:28.874253Z",
     "shell.execute_reply": "2023-08-06T23:39:28.873358Z"
    },
    "papermill": {
     "duration": 0.010204,
     "end_time": "2023-08-06T23:39:28.876455",
     "exception": false,
     "start_time": "2023-08-06T23:39:28.866251",
     "status": "completed"
    },
    "tags": []
   },
   "outputs": [],
   "source": [
    "latest_date = pd.Timestamp.today().ceil('D')"
   ]
  },
  {
   "cell_type": "code",
   "execution_count": 3,
   "id": "fe290225",
   "metadata": {
    "execution": {
     "iopub.execute_input": "2023-08-06T23:39:28.882708Z",
     "iopub.status.busy": "2023-08-06T23:39:28.882103Z",
     "iopub.status.idle": "2023-08-06T23:39:28.900274Z",
     "shell.execute_reply": "2023-08-06T23:39:28.899581Z"
    },
    "papermill": {
     "duration": 0.023858,
     "end_time": "2023-08-06T23:39:28.902644",
     "exception": false,
     "start_time": "2023-08-06T23:39:28.878786",
     "status": "completed"
    },
    "tags": []
   },
   "outputs": [],
   "source": [
    "tickets = pd.read_csv('../../../../data/metrics/events/tickets/orders.csv', parse_dates=['created_at', 'event_date'])\n",
    "tickets = tickets[tickets.event_date <= latest_date]"
   ]
  },
  {
   "cell_type": "code",
   "execution_count": 4,
   "id": "7d304e8f",
   "metadata": {
    "execution": {
     "iopub.execute_input": "2023-08-06T23:39:28.909356Z",
     "iopub.status.busy": "2023-08-06T23:39:28.908682Z",
     "iopub.status.idle": "2023-08-06T23:39:29.109210Z",
     "shell.execute_reply": "2023-08-06T23:39:29.108351Z"
    },
    "papermill": {
     "duration": 0.20623,
     "end_time": "2023-08-06T23:39:29.111349",
     "exception": false,
     "start_time": "2023-08-06T23:39:28.905119",
     "status": "completed"
    },
    "tags": []
   },
   "outputs": [],
   "source": [
    "events = load_event_data()\n",
    "\n",
    "events = pd.concat([\n",
    "  events,\n",
    "  events.pipe(get_first_ward).pipe(normalise_ward).fillna('UNKNOWN'),\n",
    "  pd.Series(\n",
    "      events.actual_audience_size_number_of_participants_in_person + events.actual_audience_size_number_of_participants_online,\n",
    "      name='attendances'\n",
    "  )\n",
    "], axis=1).rename(columns={\n",
    "    'start_date': 'date'\n",
    "}).loc[:, ['ward_code', 'date', 'event_unique_identifier', 'attendances']]"
   ]
  },
  {
   "cell_type": "code",
   "execution_count": 5,
   "id": "c26e0997",
   "metadata": {
    "execution": {
     "iopub.execute_input": "2023-08-06T23:39:29.118819Z",
     "iopub.status.busy": "2023-08-06T23:39:29.118147Z",
     "iopub.status.idle": "2023-08-06T23:39:29.122064Z",
     "shell.execute_reply": "2023-08-06T23:39:29.121328Z"
    },
    "papermill": {
     "duration": 0.009405,
     "end_time": "2023-08-06T23:39:29.123828",
     "exception": false,
     "start_time": "2023-08-06T23:39:29.114423",
     "status": "completed"
    },
    "tags": []
   },
   "outputs": [],
   "source": [
    "OUTPUT_DIR='../../../../docs/metrics/events/signature/_data/'\n",
    "os.makedirs(OUTPUT_DIR, exist_ok=True)"
   ]
  },
  {
   "cell_type": "markdown",
   "id": "2c5c7172",
   "metadata": {
    "papermill": {
     "duration": 0.003058,
     "end_time": "2023-08-06T23:39:29.129280",
     "exception": false,
     "start_time": "2023-08-06T23:39:29.126222",
     "status": "completed"
    },
    "tags": []
   },
   "source": [
    "Events CSVs"
   ]
  },
  {
   "cell_type": "code",
   "execution_count": 6,
   "id": "f0990a6b",
   "metadata": {
    "execution": {
     "iopub.execute_input": "2023-08-06T23:39:29.135532Z",
     "iopub.status.busy": "2023-08-06T23:39:29.134891Z",
     "iopub.status.idle": "2023-08-06T23:39:29.142736Z",
     "shell.execute_reply": "2023-08-06T23:39:29.142040Z"
    },
    "papermill": {
     "duration": 0.013084,
     "end_time": "2023-08-06T23:39:29.144699",
     "exception": false,
     "start_time": "2023-08-06T23:39:29.131615",
     "status": "completed"
    },
    "tags": []
   },
   "outputs": [],
   "source": [
    "pd.DataFrame({\n",
    "  'events': events.groupby('ward_code').event_unique_identifier.count(),\n",
    "  'attendances': events.groupby('ward_code').attendances.sum().astype(int),\n",
    "}).to_csv(os.path.join(OUTPUT_DIR, 'events_by_ward.csv'))\n"
   ]
  },
  {
   "cell_type": "code",
   "execution_count": 7,
   "id": "a4e56dc2",
   "metadata": {
    "execution": {
     "iopub.execute_input": "2023-08-06T23:39:29.151109Z",
     "iopub.status.busy": "2023-08-06T23:39:29.150493Z",
     "iopub.status.idle": "2023-08-06T23:39:29.163709Z",
     "shell.execute_reply": "2023-08-06T23:39:29.162922Z"
    },
    "papermill": {
     "duration": 0.018226,
     "end_time": "2023-08-06T23:39:29.165429",
     "exception": false,
     "start_time": "2023-08-06T23:39:29.147203",
     "status": "completed"
    },
    "tags": []
   },
   "outputs": [],
   "source": [
    "pd.DataFrame({\n",
    "  'events': events.groupby('date').event_unique_identifier.count(),\n",
    "  'attendances': events.groupby('date').attendances.sum().astype(int),\n",
    "}).resample('M').sum().astype(int).to_csv(os.path.join(OUTPUT_DIR, 'events_by_date.csv'))"
   ]
  },
  {
   "cell_type": "markdown",
   "id": "3715164d",
   "metadata": {
    "papermill": {
     "duration": 0.002508,
     "end_time": "2023-08-06T23:39:29.170367",
     "exception": false,
     "start_time": "2023-08-06T23:39:29.167859",
     "status": "completed"
    },
    "tags": []
   },
   "source": [
    "Tickets CSV"
   ]
  },
  {
   "cell_type": "code",
   "execution_count": 8,
   "id": "d35a19a7",
   "metadata": {
    "execution": {
     "iopub.execute_input": "2023-08-06T23:39:29.176621Z",
     "iopub.status.busy": "2023-08-06T23:39:29.176150Z",
     "iopub.status.idle": "2023-08-06T23:39:29.183836Z",
     "shell.execute_reply": "2023-08-06T23:39:29.183202Z"
    },
    "papermill": {
     "duration": 0.012714,
     "end_time": "2023-08-06T23:39:29.185515",
     "exception": false,
     "start_time": "2023-08-06T23:39:29.172801",
     "status": "completed"
    },
    "tags": []
   },
   "outputs": [],
   "source": [
    "pd.DataFrame({\n",
    "  'orders': tickets.groupby('ward_code').number_of_tickets.count(),\n",
    "  'tickets': tickets.groupby('ward_code').number_of_tickets.sum().astype(int),\n",
    "}).to_csv(os.path.join(OUTPUT_DIR, 'tickets_by_ward.csv'))"
   ]
  },
  {
   "cell_type": "code",
   "execution_count": 9,
   "id": "9f533cf7",
   "metadata": {
    "execution": {
     "iopub.execute_input": "2023-08-06T23:39:29.192106Z",
     "iopub.status.busy": "2023-08-06T23:39:29.191777Z",
     "iopub.status.idle": "2023-08-06T23:39:29.200813Z",
     "shell.execute_reply": "2023-08-06T23:39:29.200187Z"
    },
    "papermill": {
     "duration": 0.014487,
     "end_time": "2023-08-06T23:39:29.202467",
     "exception": false,
     "start_time": "2023-08-06T23:39:29.187980",
     "status": "completed"
    },
    "tags": []
   },
   "outputs": [],
   "source": [
    "pd.DataFrame({\n",
    "  'orders': tickets.groupby('event_date').number_of_tickets.count(),\n",
    "  'tickets': tickets.groupby('event_date').number_of_tickets.sum().astype(int),\n",
    "}).resample('M').sum().to_csv(os.path.join(OUTPUT_DIR, 'tickets_by_event_date.csv'))"
   ]
  },
  {
   "cell_type": "code",
   "execution_count": 10,
   "id": "e63e8b7a",
   "metadata": {
    "execution": {
     "iopub.execute_input": "2023-08-06T23:39:29.210473Z",
     "iopub.status.busy": "2023-08-06T23:39:29.209523Z",
     "iopub.status.idle": "2023-08-06T23:39:29.215743Z",
     "shell.execute_reply": "2023-08-06T23:39:29.215110Z"
    },
    "papermill": {
     "duration": 0.012482,
     "end_time": "2023-08-06T23:39:29.217426",
     "exception": false,
     "start_time": "2023-08-06T23:39:29.204944",
     "status": "completed"
    },
    "tags": []
   },
   "outputs": [],
   "source": [
    "pd.Series({\n",
    "    'total_events': events.event_unique_identifier.count(),\n",
    "    'total_attendances': events.attendances.count(),\n",
    "    'first_event': events.date.min(),\n",
    "    'latest_event': events.date.max(),\n",
    "    'total_ticket_orders_for_events_to_date': tickets.number_of_tickets.count(),\n",
    "    'total_tickets_sold_for_events_to_date': tickets.number_of_tickets.sum(),\n",
    "}).to_json(os.path.join(OUTPUT_DIR, 'headlines.json'), indent=2)"
   ]
  },
  {
   "cell_type": "code",
   "execution_count": null,
   "id": "3a6717a7",
   "metadata": {
    "papermill": {
     "duration": 0.00318,
     "end_time": "2023-08-06T23:39:29.223434",
     "exception": false,
     "start_time": "2023-08-06T23:39:29.220254",
     "status": "completed"
    },
    "tags": []
   },
   "outputs": [],
   "source": []
  }
 ],
 "metadata": {
  "kernelspec": {
   "display_name": "leeds-2023-YZF5GfJv",
   "language": "python",
   "name": "python3"
  },
  "language_info": {
   "codemirror_mode": {
    "name": "ipython",
    "version": 3
   },
   "file_extension": ".py",
   "mimetype": "text/x-python",
   "name": "python",
   "nbconvert_exporter": "python",
   "pygments_lexer": "ipython3",
   "version": "3.10.6"
  },
  "papermill": {
   "default_parameters": {},
   "duration": 13.038319,
   "end_time": "2023-08-06T23:39:29.543854",
   "environment_variables": {},
   "exception": null,
   "input_path": "prepare.ipynb",
   "output_path": "../../../../working/output/signature-prepare.ipynb",
   "parameters": {},
   "start_time": "2023-08-06T23:39:16.505535",
   "version": "2.4.0"
  }
 },
 "nbformat": 4,
 "nbformat_minor": 5
}