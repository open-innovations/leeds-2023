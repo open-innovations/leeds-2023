{
 "cells": [
  {
   "cell_type": "code",
   "execution_count": 1,
   "id": "ab0bf971",
   "metadata": {
    "execution": {
     "iopub.execute_input": "2023-08-10T23:37:37.376175Z",
     "iopub.status.busy": "2023-08-10T23:37:37.375584Z",
     "iopub.status.idle": "2023-08-10T23:37:37.615454Z",
     "shell.execute_reply": "2023-08-10T23:37:37.614791Z"
    },
    "papermill": {
     "duration": 0.245492,
     "end_time": "2023-08-10T23:37:37.617713",
     "exception": false,
     "start_time": "2023-08-10T23:37:37.372221",
     "status": "completed"
    },
    "tags": []
   },
   "outputs": [],
   "source": [
    "import os\n",
    "import pandas as pd"
   ]
  },
  {
   "cell_type": "code",
   "execution_count": 2,
   "id": "bf45ef09",
   "metadata": {
    "execution": {
     "iopub.execute_input": "2023-08-10T23:37:37.622125Z",
     "iopub.status.busy": "2023-08-10T23:37:37.621451Z",
     "iopub.status.idle": "2023-08-10T23:37:37.625012Z",
     "shell.execute_reply": "2023-08-10T23:37:37.624388Z"
    },
    "papermill": {
     "duration": 0.007201,
     "end_time": "2023-08-10T23:37:37.626467",
     "exception": false,
     "start_time": "2023-08-10T23:37:37.619266",
     "status": "completed"
    },
    "tags": []
   },
   "outputs": [],
   "source": [
    "EVENTS_RAW_DATA = '../../../working/metrics/promote-events/events.csv'\n",
    "DATA_DIR = '../../../data/metrics/events/promote-events/'\n",
    "EVENTS_DATA = os.path.join(DATA_DIR, 'events.csv')"
   ]
  },
  {
   "cell_type": "code",
   "execution_count": 3,
   "id": "5a0073dc",
   "metadata": {
    "execution": {
     "iopub.execute_input": "2023-08-10T23:37:37.629927Z",
     "iopub.status.busy": "2023-08-10T23:37:37.629523Z",
     "iopub.status.idle": "2023-08-10T23:37:37.632746Z",
     "shell.execute_reply": "2023-08-10T23:37:37.632123Z"
    },
    "papermill": {
     "duration": 0.006733,
     "end_time": "2023-08-10T23:37:37.634355",
     "exception": false,
     "start_time": "2023-08-10T23:37:37.627622",
     "status": "completed"
    },
    "tags": []
   },
   "outputs": [],
   "source": [
    "columns = {\n",
    "    'id': 'id',\n",
    "    'name': 'name',\n",
    "    'locationName': 'location',\n",
    "    'cardPrice': 'card_price',\n",
    "    'timeslots': 'time',\n",
    "    'displayOnWebsite': 'display',\n",
    "    'Stage': 'stage',\n",
    "}"
   ]
  },
  {
   "cell_type": "code",
   "execution_count": 4,
   "id": "1347296f",
   "metadata": {
    "execution": {
     "iopub.execute_input": "2023-08-10T23:37:37.637802Z",
     "iopub.status.busy": "2023-08-10T23:37:37.637418Z",
     "iopub.status.idle": "2023-08-10T23:37:37.650351Z",
     "shell.execute_reply": "2023-08-10T23:37:37.649798Z"
    },
    "papermill": {
     "duration": 0.016451,
     "end_time": "2023-08-10T23:37:37.651981",
     "exception": false,
     "start_time": "2023-08-10T23:37:37.635530",
     "status": "completed"
    },
    "tags": []
   },
   "outputs": [],
   "source": [
    "data = pd.read_csv(EVENTS_RAW_DATA)[columns.keys()].rename(columns=columns)\n",
    "data.time = pd.to_datetime(data.time, errors='coerce')"
   ]
  },
  {
   "cell_type": "code",
   "execution_count": 5,
   "id": "5c5a1aeb",
   "metadata": {
    "execution": {
     "iopub.execute_input": "2023-08-10T23:37:37.655650Z",
     "iopub.status.busy": "2023-08-10T23:37:37.655250Z",
     "iopub.status.idle": "2023-08-10T23:37:37.663828Z",
     "shell.execute_reply": "2023-08-10T23:37:37.663283Z"
    },
    "papermill": {
     "duration": 0.012049,
     "end_time": "2023-08-10T23:37:37.665287",
     "exception": false,
     "start_time": "2023-08-10T23:37:37.653238",
     "status": "completed"
    },
    "tags": []
   },
   "outputs": [],
   "source": [
    "data.to_csv(os.path.join(DATA_DIR, 'events.csv'), index=False)"
   ]
  }
 ],
 "metadata": {
  "kernelspec": {
   "display_name": "leeds-2023-YZF5GfJv",
   "language": "python",
   "name": "python3"
  },
  "language_info": {
   "codemirror_mode": {
    "name": "ipython",
    "version": 3
   },
   "file_extension": ".py",
   "mimetype": "text/x-python",
   "name": "python",
   "nbconvert_exporter": "python",
   "pygments_lexer": "ipython3",
   "version": "3.10.12"
  },
  "papermill": {
   "default_parameters": {},
   "duration": 1.889325,
   "end_time": "2023-08-10T23:37:37.882146",
   "environment_variables": {},
   "exception": null,
   "input_path": "transform.ipynb",
   "output_path": "../../../working/output/promote-events-transform.ipynb",
   "parameters": {},
   "start_time": "2023-08-10T23:37:35.992821",
   "version": "2.4.0"
  }
 },
 "nbformat": 4,
 "nbformat_minor": 5
}