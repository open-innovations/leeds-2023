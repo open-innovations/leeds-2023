{
 "cells": [
  {
   "cell_type": "code",
   "execution_count": 1,
   "id": "b0af7557",
   "metadata": {
    "execution": {
     "iopub.execute_input": "2023-07-31T23:39:49.521088Z",
     "iopub.status.busy": "2023-07-31T23:39:49.520247Z",
     "iopub.status.idle": "2023-07-31T23:39:49.781886Z",
     "shell.execute_reply": "2023-07-31T23:39:49.780685Z"
    },
    "papermill": {
     "duration": 0.269694,
     "end_time": "2023-07-31T23:39:49.784969",
     "exception": false,
     "start_time": "2023-07-31T23:39:49.515275",
     "status": "completed"
    },
    "tags": []
   },
   "outputs": [],
   "source": [
    "import os\n",
    "import pandas as pd"
   ]
  },
  {
   "cell_type": "code",
   "execution_count": 2,
   "id": "9cd9b70a",
   "metadata": {
    "execution": {
     "iopub.execute_input": "2023-07-31T23:39:49.789960Z",
     "iopub.status.busy": "2023-07-31T23:39:49.789272Z",
     "iopub.status.idle": "2023-07-31T23:39:49.792740Z",
     "shell.execute_reply": "2023-07-31T23:39:49.792082Z"
    },
    "papermill": {
     "duration": 0.007705,
     "end_time": "2023-07-31T23:39:49.794434",
     "exception": false,
     "start_time": "2023-07-31T23:39:49.786729",
     "status": "completed"
    },
    "tags": []
   },
   "outputs": [],
   "source": [
    "EVENTS_RAW_DATA = '../../../working/metrics/promote-events/events.csv'\n",
    "DATA_DIR = '../../../data/metrics/events/promote-events/'\n",
    "EVENTS_DATA = os.path.join(DATA_DIR, 'events.csv')"
   ]
  },
  {
   "cell_type": "code",
   "execution_count": 3,
   "id": "1df78096",
   "metadata": {
    "execution": {
     "iopub.execute_input": "2023-07-31T23:39:49.798043Z",
     "iopub.status.busy": "2023-07-31T23:39:49.797804Z",
     "iopub.status.idle": "2023-07-31T23:39:49.800827Z",
     "shell.execute_reply": "2023-07-31T23:39:49.800218Z"
    },
    "papermill": {
     "duration": 0.007077,
     "end_time": "2023-07-31T23:39:49.802614",
     "exception": false,
     "start_time": "2023-07-31T23:39:49.795537",
     "status": "completed"
    },
    "tags": []
   },
   "outputs": [],
   "source": [
    "columns = {\n",
    "    'id': 'id',\n",
    "    'name': 'name',\n",
    "    'locationName': 'location',\n",
    "    'cardPrice': 'card_price',\n",
    "    'timeslots': 'time',\n",
    "    'displayOnWebsite': 'display',\n",
    "    'Stage': 'stage',\n",
    "}"
   ]
  },
  {
   "cell_type": "code",
   "execution_count": 4,
   "id": "84bf29f6",
   "metadata": {
    "execution": {
     "iopub.execute_input": "2023-07-31T23:39:49.806130Z",
     "iopub.status.busy": "2023-07-31T23:39:49.805771Z",
     "iopub.status.idle": "2023-07-31T23:39:49.818378Z",
     "shell.execute_reply": "2023-07-31T23:39:49.817484Z"
    },
    "papermill": {
     "duration": 0.016209,
     "end_time": "2023-07-31T23:39:49.819835",
     "exception": false,
     "start_time": "2023-07-31T23:39:49.803626",
     "status": "completed"
    },
    "tags": []
   },
   "outputs": [],
   "source": [
    "data = pd.read_csv(EVENTS_RAW_DATA)[columns.keys()].rename(columns=columns)\n",
    "data.time = pd.to_datetime(data.time, errors='coerce')"
   ]
  },
  {
   "cell_type": "code",
   "execution_count": 5,
   "id": "b86d37ad",
   "metadata": {
    "execution": {
     "iopub.execute_input": "2023-07-31T23:39:49.823107Z",
     "iopub.status.busy": "2023-07-31T23:39:49.822724Z",
     "iopub.status.idle": "2023-07-31T23:39:49.831690Z",
     "shell.execute_reply": "2023-07-31T23:39:49.830694Z"
    },
    "papermill": {
     "duration": 0.012519,
     "end_time": "2023-07-31T23:39:49.833375",
     "exception": false,
     "start_time": "2023-07-31T23:39:49.820856",
     "status": "completed"
    },
    "tags": []
   },
   "outputs": [],
   "source": [
    "data.to_csv(os.path.join(DATA_DIR, 'events.csv'), index=False)"
   ]
  }
 ],
 "metadata": {
  "kernelspec": {
   "display_name": "leeds-2023-YZF5GfJv",
   "language": "python",
   "name": "python3"
  },
  "language_info": {
   "codemirror_mode": {
    "name": "ipython",
    "version": 3
   },
   "file_extension": ".py",
   "mimetype": "text/x-python",
   "name": "python",
   "nbconvert_exporter": "python",
   "pygments_lexer": "ipython3",
   "version": "3.10.6"
  },
  "papermill": {
   "default_parameters": {},
   "duration": 1.963084,
   "end_time": "2023-07-31T23:39:50.052366",
   "environment_variables": {},
   "exception": null,
   "input_path": "transform.ipynb",
   "output_path": "../../../working/output/promote-events-transform.ipynb",
   "parameters": {},
   "start_time": "2023-07-31T23:39:48.089282",
   "version": "2.4.0"
  }
 },
 "nbformat": 4,
 "nbformat_minor": 5
}