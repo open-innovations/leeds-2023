{
 "cells": [
  {
   "cell_type": "code",
   "execution_count": 1,
   "id": "64579c3d",
   "metadata": {
    "execution": {
     "iopub.execute_input": "2023-09-24T23:38:57.528289Z",
     "iopub.status.busy": "2023-09-24T23:38:57.527586Z",
     "iopub.status.idle": "2023-09-24T23:39:07.224785Z",
     "shell.execute_reply": "2023-09-24T23:39:07.224108Z"
    },
    "papermill": {
     "duration": 9.703035,
     "end_time": "2023-09-24T23:39:07.226824",
     "exception": false,
     "start_time": "2023-09-24T23:38:57.523789",
     "status": "completed"
    },
    "tags": []
   },
   "outputs": [],
   "source": [
    "import os\n",
    "import pandas as pd\n",
    "from events import load_event_data, get_first_ward, normalise_ward"
   ]
  },
  {
   "cell_type": "code",
   "execution_count": 2,
   "id": "9a33e5d9",
   "metadata": {
    "execution": {
     "iopub.execute_input": "2023-09-24T23:39:07.233225Z",
     "iopub.status.busy": "2023-09-24T23:39:07.232775Z",
     "iopub.status.idle": "2023-09-24T23:39:07.238205Z",
     "shell.execute_reply": "2023-09-24T23:39:07.236893Z"
    },
    "papermill": {
     "duration": 0.010211,
     "end_time": "2023-09-24T23:39:07.239662",
     "exception": false,
     "start_time": "2023-09-24T23:39:07.229451",
     "status": "completed"
    },
    "tags": []
   },
   "outputs": [],
   "source": [
    "latest_date = pd.Timestamp.today().ceil('D')"
   ]
  },
  {
   "cell_type": "code",
   "execution_count": 3,
   "id": "c687245a",
   "metadata": {
    "execution": {
     "iopub.execute_input": "2023-09-24T23:39:07.245232Z",
     "iopub.status.busy": "2023-09-24T23:39:07.244816Z",
     "iopub.status.idle": "2023-09-24T23:39:07.263493Z",
     "shell.execute_reply": "2023-09-24T23:39:07.262410Z"
    },
    "papermill": {
     "duration": 0.023126,
     "end_time": "2023-09-24T23:39:07.264986",
     "exception": false,
     "start_time": "2023-09-24T23:39:07.241860",
     "status": "completed"
    },
    "tags": []
   },
   "outputs": [],
   "source": [
    "tickets = pd.read_csv('../../../../data/metrics/events/tickets/orders.csv', parse_dates=['created_at', 'event_date'])\n",
    "tickets = tickets[tickets.event_date <= latest_date]"
   ]
  },
  {
   "cell_type": "code",
   "execution_count": 4,
   "id": "c1e3ed06",
   "metadata": {
    "execution": {
     "iopub.execute_input": "2023-09-24T23:39:07.272787Z",
     "iopub.status.busy": "2023-09-24T23:39:07.271481Z",
     "iopub.status.idle": "2023-09-24T23:39:07.497145Z",
     "shell.execute_reply": "2023-09-24T23:39:07.496505Z"
    },
    "papermill": {
     "duration": 0.23169,
     "end_time": "2023-09-24T23:39:07.498944",
     "exception": false,
     "start_time": "2023-09-24T23:39:07.267254",
     "status": "completed"
    },
    "tags": []
   },
   "outputs": [],
   "source": [
    "events = load_event_data()\n",
    "\n",
    "events = pd.concat([\n",
    "  events,\n",
    "  events.pipe(get_first_ward).pipe(normalise_ward).fillna('UNKNOWN'),\n",
    "  pd.Series(\n",
    "      events.actual_audience_size_number_of_participants_in_person + events.actual_audience_size_number_of_participants_online,\n",
    "      name='attendances'\n",
    "  )\n",
    "], axis=1).rename(columns={\n",
    "    'start_date': 'date'\n",
    "}).loc[:, ['ward_code', 'date', 'event_unique_identifier', 'attendances']]"
   ]
  },
  {
   "cell_type": "code",
   "execution_count": 5,
   "id": "7d7521d1",
   "metadata": {
    "execution": {
     "iopub.execute_input": "2023-09-24T23:39:07.505301Z",
     "iopub.status.busy": "2023-09-24T23:39:07.504737Z",
     "iopub.status.idle": "2023-09-24T23:39:07.508159Z",
     "shell.execute_reply": "2023-09-24T23:39:07.507517Z"
    },
    "papermill": {
     "duration": 0.008353,
     "end_time": "2023-09-24T23:39:07.509885",
     "exception": false,
     "start_time": "2023-09-24T23:39:07.501532",
     "status": "completed"
    },
    "tags": []
   },
   "outputs": [],
   "source": [
    "OUTPUT_DIR='../../../../docs/metrics/events/signature/_data/'\n",
    "os.makedirs(OUTPUT_DIR, exist_ok=True)"
   ]
  },
  {
   "cell_type": "markdown",
   "id": "f47e6afb",
   "metadata": {
    "papermill": {
     "duration": 0.002349,
     "end_time": "2023-09-24T23:39:07.514585",
     "exception": false,
     "start_time": "2023-09-24T23:39:07.512236",
     "status": "completed"
    },
    "tags": []
   },
   "source": [
    "Events CSVs"
   ]
  },
  {
   "cell_type": "code",
   "execution_count": 6,
   "id": "8c911905",
   "metadata": {
    "execution": {
     "iopub.execute_input": "2023-09-24T23:39:07.520231Z",
     "iopub.status.busy": "2023-09-24T23:39:07.520022Z",
     "iopub.status.idle": "2023-09-24T23:39:07.526386Z",
     "shell.execute_reply": "2023-09-24T23:39:07.525814Z"
    },
    "papermill": {
     "duration": 0.011064,
     "end_time": "2023-09-24T23:39:07.527967",
     "exception": false,
     "start_time": "2023-09-24T23:39:07.516903",
     "status": "completed"
    },
    "tags": []
   },
   "outputs": [],
   "source": [
    "pd.DataFrame({\n",
    "  'events': events.groupby('ward_code').event_unique_identifier.count(),\n",
    "  'attendances': events.groupby('ward_code').attendances.sum().astype(int),\n",
    "}).to_csv(os.path.join(OUTPUT_DIR, 'events_by_ward.csv'))\n"
   ]
  },
  {
   "cell_type": "code",
   "execution_count": 7,
   "id": "14945bf1",
   "metadata": {
    "execution": {
     "iopub.execute_input": "2023-09-24T23:39:07.533663Z",
     "iopub.status.busy": "2023-09-24T23:39:07.533446Z",
     "iopub.status.idle": "2023-09-24T23:39:07.543285Z",
     "shell.execute_reply": "2023-09-24T23:39:07.542688Z"
    },
    "papermill": {
     "duration": 0.014587,
     "end_time": "2023-09-24T23:39:07.544917",
     "exception": false,
     "start_time": "2023-09-24T23:39:07.530330",
     "status": "completed"
    },
    "tags": []
   },
   "outputs": [],
   "source": [
    "pd.DataFrame({\n",
    "  'events': events.groupby('date').event_unique_identifier.count(),\n",
    "  'attendances': events.groupby('date').attendances.sum().astype(int),\n",
    "}).resample('M').sum().astype(int).to_csv(os.path.join(OUTPUT_DIR, 'events_by_date.csv'))"
   ]
  },
  {
   "cell_type": "markdown",
   "id": "785beadc",
   "metadata": {
    "papermill": {
     "duration": 0.002424,
     "end_time": "2023-09-24T23:39:07.549753",
     "exception": false,
     "start_time": "2023-09-24T23:39:07.547329",
     "status": "completed"
    },
    "tags": []
   },
   "source": [
    "Tickets CSV"
   ]
  },
  {
   "cell_type": "code",
   "execution_count": 8,
   "id": "cb1c550d",
   "metadata": {
    "execution": {
     "iopub.execute_input": "2023-09-24T23:39:07.555428Z",
     "iopub.status.busy": "2023-09-24T23:39:07.555214Z",
     "iopub.status.idle": "2023-09-24T23:39:07.562330Z",
     "shell.execute_reply": "2023-09-24T23:39:07.561376Z"
    },
    "papermill": {
     "duration": 0.011651,
     "end_time": "2023-09-24T23:39:07.563816",
     "exception": false,
     "start_time": "2023-09-24T23:39:07.552165",
     "status": "completed"
    },
    "tags": []
   },
   "outputs": [],
   "source": [
    "pd.DataFrame({\n",
    "  'orders': tickets.groupby('ward_code').number_of_tickets.count(),\n",
    "  'tickets': tickets.groupby('ward_code').number_of_tickets.sum().astype(int),\n",
    "}).to_csv(os.path.join(OUTPUT_DIR, 'tickets_by_ward.csv'))"
   ]
  },
  {
   "cell_type": "code",
   "execution_count": 9,
   "id": "8e1b07e9",
   "metadata": {
    "execution": {
     "iopub.execute_input": "2023-09-24T23:39:07.569713Z",
     "iopub.status.busy": "2023-09-24T23:39:07.569495Z",
     "iopub.status.idle": "2023-09-24T23:39:07.576886Z",
     "shell.execute_reply": "2023-09-24T23:39:07.576323Z"
    },
    "papermill": {
     "duration": 0.012208,
     "end_time": "2023-09-24T23:39:07.578466",
     "exception": false,
     "start_time": "2023-09-24T23:39:07.566258",
     "status": "completed"
    },
    "tags": []
   },
   "outputs": [],
   "source": [
    "pd.DataFrame({\n",
    "  'orders': tickets.groupby('event_date').number_of_tickets.count(),\n",
    "  'tickets': tickets.groupby('event_date').number_of_tickets.sum().astype(int),\n",
    "}).resample('M').sum().to_csv(os.path.join(OUTPUT_DIR, 'tickets_by_event_date.csv'))"
   ]
  },
  {
   "cell_type": "code",
   "execution_count": 10,
   "id": "1fb76d9e",
   "metadata": {
    "execution": {
     "iopub.execute_input": "2023-09-24T23:39:07.585408Z",
     "iopub.status.busy": "2023-09-24T23:39:07.584871Z",
     "iopub.status.idle": "2023-09-24T23:39:07.589848Z",
     "shell.execute_reply": "2023-09-24T23:39:07.589232Z"
    },
    "papermill": {
     "duration": 0.01042,
     "end_time": "2023-09-24T23:39:07.591354",
     "exception": false,
     "start_time": "2023-09-24T23:39:07.580934",
     "status": "completed"
    },
    "tags": []
   },
   "outputs": [],
   "source": [
    "pd.Series({\n",
    "    'total_events': events.event_unique_identifier.count(),\n",
    "    'total_attendances': events.attendances.count(),\n",
    "    'first_event': events.date.min(),\n",
    "    'latest_event': events.date.max(),\n",
    "    'total_ticket_orders_for_events_to_date': tickets.number_of_tickets.count(),\n",
    "    'total_tickets_sold_for_events_to_date': tickets.number_of_tickets.sum(),\n",
    "}).to_json(os.path.join(OUTPUT_DIR, 'headlines.json'), indent=2)"
   ]
  },
  {
   "cell_type": "code",
   "execution_count": null,
   "id": "7b46a01b",
   "metadata": {
    "papermill": {
     "duration": 0.002455,
     "end_time": "2023-09-24T23:39:07.596298",
     "exception": false,
     "start_time": "2023-09-24T23:39:07.593843",
     "status": "completed"
    },
    "tags": []
   },
   "outputs": [],
   "source": []
  }
 ],
 "metadata": {
  "kernelspec": {
   "display_name": "leeds-2023-YZF5GfJv",
   "language": "python",
   "name": "python3"
  },
  "language_info": {
   "codemirror_mode": {
    "name": "ipython",
    "version": 3
   },
   "file_extension": ".py",
   "mimetype": "text/x-python",
   "name": "python",
   "nbconvert_exporter": "python",
   "pygments_lexer": "ipython3",
   "version": "3.10.13"
  },
  "papermill": {
   "default_parameters": {},
   "duration": 11.731389,
   "end_time": "2023-09-24T23:39:07.915369",
   "environment_variables": {},
   "exception": null,
   "input_path": "prepare.ipynb",
   "output_path": "../../../../working/output/signature-prepare.ipynb",
   "parameters": {},
   "start_time": "2023-09-24T23:38:56.183980",
   "version": "2.4.0"
  }
 },
 "nbformat": 4,
 "nbformat_minor": 5
}