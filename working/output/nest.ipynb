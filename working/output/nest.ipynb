{
 "cells": [
  {
   "cell_type": "markdown",
   "id": "e5eb1f8a",
   "metadata": {
    "papermill": {
     "duration": 0.003065,
     "end_time": "2023-10-30T23:40:21.413598",
     "exception": false,
     "start_time": "2023-10-30T23:40:21.410533",
     "status": "completed"
    },
    "tags": []
   },
   "source": [
    "# Nest\n",
    "\n",
    "Prepares data for the Nest page "
   ]
  },
  {
   "cell_type": "code",
   "execution_count": 1,
   "id": "b4e6e2b0",
   "metadata": {
    "execution": {
     "iopub.execute_input": "2023-10-30T23:40:21.420272Z",
     "iopub.status.busy": "2023-10-30T23:40:21.419566Z",
     "iopub.status.idle": "2023-10-30T23:40:33.594407Z",
     "shell.execute_reply": "2023-10-30T23:40:33.593424Z"
    },
    "papermill": {
     "duration": 12.180936,
     "end_time": "2023-10-30T23:40:33.596908",
     "exception": false,
     "start_time": "2023-10-30T23:40:21.415972",
     "status": "completed"
    },
    "tags": []
   },
   "outputs": [],
   "source": [
    "import os\n",
    "from events import (\n",
    "    load_event_data, filter_public_events, filter_by_project, prepare, save_files, count_wards\n",
    ")"
   ]
  },
  {
   "cell_type": "markdown",
   "id": "9b02e963",
   "metadata": {
    "papermill": {
     "duration": 0.00189,
     "end_time": "2023-10-30T23:40:33.601168",
     "exception": false,
     "start_time": "2023-10-30T23:40:33.599278",
     "status": "completed"
    },
    "tags": []
   },
   "source": [
    "Set output directory"
   ]
  },
  {
   "cell_type": "code",
   "execution_count": 2,
   "id": "e903297b",
   "metadata": {
    "execution": {
     "iopub.execute_input": "2023-10-30T23:40:33.607285Z",
     "iopub.status.busy": "2023-10-30T23:40:33.606169Z",
     "iopub.status.idle": "2023-10-30T23:40:33.610786Z",
     "shell.execute_reply": "2023-10-30T23:40:33.609896Z"
    },
    "papermill": {
     "duration": 0.009815,
     "end_time": "2023-10-30T23:40:33.613074",
     "exception": false,
     "start_time": "2023-10-30T23:40:33.603259",
     "status": "completed"
    },
    "tags": []
   },
   "outputs": [],
   "source": [
    "OUT_DIR = '../../../../docs/metrics/events/nest/_data/events'"
   ]
  },
  {
   "cell_type": "markdown",
   "id": "5c3f249b",
   "metadata": {
    "papermill": {
     "duration": 0.001975,
     "end_time": "2023-10-30T23:40:33.617084",
     "exception": false,
     "start_time": "2023-10-30T23:40:33.615109",
     "status": "completed"
    },
    "tags": []
   },
   "source": [
    "Read in event data and filter by **My LEEDS 2023** project.\n",
    "\n",
    "The criteria are:\n",
    "\n",
    "* project type is 'Produce (Signature)'\n",
    "* event_type contains 'Public Event -'\n",
    "\n",
    "It's then filtered by project_name is '10 - Melt'"
   ]
  },
  {
   "cell_type": "code",
   "execution_count": 3,
   "id": "296cb31e",
   "metadata": {
    "execution": {
     "iopub.execute_input": "2023-10-30T23:40:33.622349Z",
     "iopub.status.busy": "2023-10-30T23:40:33.622033Z",
     "iopub.status.idle": "2023-10-30T23:40:33.658034Z",
     "shell.execute_reply": "2023-10-30T23:40:33.657118Z"
    },
    "papermill": {
     "duration": 0.041202,
     "end_time": "2023-10-30T23:40:33.660262",
     "exception": false,
     "start_time": "2023-10-30T23:40:33.619060",
     "status": "completed"
    },
    "tags": []
   },
   "outputs": [
    {
     "data": {
      "text/html": [
       "<div>\n",
       "<style scoped>\n",
       "    .dataframe tbody tr th:only-of-type {\n",
       "        vertical-align: middle;\n",
       "    }\n",
       "\n",
       "    .dataframe tbody tr th {\n",
       "        vertical-align: top;\n",
       "    }\n",
       "\n",
       "    .dataframe thead th {\n",
       "        text-align: right;\n",
       "    }\n",
       "</style>\n",
       "<table border=\"1\" class=\"dataframe\">\n",
       "  <thead>\n",
       "    <tr style=\"text-align: right;\">\n",
       "      <th></th>\n",
       "      <th>actual_audience_size_number_of_participants_in_person</th>\n",
       "      <th>actual_audience_size_number_of_participants_online</th>\n",
       "      <th>airtable_id</th>\n",
       "      <th>end_date</th>\n",
       "      <th>event_name</th>\n",
       "      <th>event_type</th>\n",
       "      <th>event_unique_identifier</th>\n",
       "      <th>number_of_booked_participants</th>\n",
       "      <th>postcode_(from_venue)</th>\n",
       "      <th>project_name</th>\n",
       "      <th>project_type</th>\n",
       "      <th>season</th>\n",
       "      <th>start_date</th>\n",
       "      <th>ticket_tailor_id</th>\n",
       "      <th>ward_(from_venue)</th>\n",
       "    </tr>\n",
       "  </thead>\n",
       "  <tbody>\n",
       "    <tr>\n",
       "      <th>1103</th>\n",
       "      <td>1338.0</td>\n",
       "      <td>NaN</td>\n",
       "      <td>241</td>\n",
       "      <td>2023-09-09</td>\n",
       "      <td>Melt (Run)</td>\n",
       "      <td>['Public Event - Performance']</td>\n",
       "      <td>10 - Melt: Melt (Run)</td>\n",
       "      <td>1542.0</td>\n",
       "      <td>['LS26 8AL']</td>\n",
       "      <td>10 - Melt</td>\n",
       "      <td>Produce (Signature)</td>\n",
       "      <td>['Season 3 - Dreaming']</td>\n",
       "      <td>2023-09-05</td>\n",
       "      <td>NaN</td>\n",
       "      <td>['Garforth and Swillington']</td>\n",
       "    </tr>\n",
       "  </tbody>\n",
       "</table>\n",
       "</div>"
      ],
      "text/plain": [
       "      actual_audience_size_number_of_participants_in_person  \\\n",
       "1103                                             1338.0       \n",
       "\n",
       "      actual_audience_size_number_of_participants_online  airtable_id  \\\n",
       "1103                                                NaN           241   \n",
       "\n",
       "        end_date  event_name                      event_type  \\\n",
       "1103  2023-09-09  Melt (Run)  ['Public Event - Performance']   \n",
       "\n",
       "     event_unique_identifier  number_of_booked_participants  \\\n",
       "1103   10 - Melt: Melt (Run)                         1542.0   \n",
       "\n",
       "     postcode_(from_venue) project_name         project_type  \\\n",
       "1103          ['LS26 8AL']    10 - Melt  Produce (Signature)   \n",
       "\n",
       "                       season start_date  ticket_tailor_id  \\\n",
       "1103  ['Season 3 - Dreaming'] 2023-09-05               NaN   \n",
       "\n",
       "                 ward_(from_venue)  \n",
       "1103  ['Garforth and Swillington']  "
      ]
     },
     "execution_count": 3,
     "metadata": {},
     "output_type": "execute_result"
    }
   ],
   "source": [
    "data = (\n",
    "  load_event_data()\n",
    "    .pipe(filter_by_project, '10 - Melt')\n",
    "    .pipe(filter_public_events)\n",
    "  )\n",
    "data"
   ]
  },
  {
   "cell_type": "markdown",
   "id": "8b4908d4",
   "metadata": {
    "papermill": {
     "duration": 0.002222,
     "end_time": "2023-10-30T23:40:33.664870",
     "exception": false,
     "start_time": "2023-10-30T23:40:33.662648",
     "status": "completed"
    },
    "tags": []
   },
   "source": [
    "Run the processing and save the files"
   ]
  },
  {
   "cell_type": "code",
   "execution_count": 4,
   "id": "64688e3a",
   "metadata": {
    "execution": {
     "iopub.execute_input": "2023-10-30T23:40:33.670844Z",
     "iopub.status.busy": "2023-10-30T23:40:33.670556Z",
     "iopub.status.idle": "2023-10-30T23:40:33.705126Z",
     "shell.execute_reply": "2023-10-30T23:40:33.704109Z"
    },
    "papermill": {
     "duration": 0.040228,
     "end_time": "2023-10-30T23:40:33.707412",
     "exception": false,
     "start_time": "2023-10-30T23:40:33.667184",
     "status": "completed"
    },
    "tags": []
   },
   "outputs": [],
   "source": [
    "data = data.pipe(prepare).pipe(save_files, OUT_DIR)"
   ]
  }
 ],
 "metadata": {
  "kernelspec": {
   "display_name": "leeds-2023-YZF5GfJv",
   "language": "python",
   "name": "python3"
  },
  "language_info": {
   "codemirror_mode": {
    "name": "ipython",
    "version": 3
   },
   "file_extension": ".py",
   "mimetype": "text/x-python",
   "name": "python",
   "nbconvert_exporter": "python",
   "pygments_lexer": "ipython3",
   "version": "3.10.13"
  },
  "papermill": {
   "default_parameters": {},
   "duration": 14.307549,
   "end_time": "2023-10-30T23:40:34.128414",
   "environment_variables": {},
   "exception": null,
   "input_path": "nest.ipynb",
   "output_path": "../../../../working/output/nest.ipynb",
   "parameters": {},
   "start_time": "2023-10-30T23:40:19.820865",
   "version": "2.4.0"
  }
 },
 "nbformat": 4,
 "nbformat_minor": 5
}