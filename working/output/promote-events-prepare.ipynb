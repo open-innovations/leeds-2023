{
 "cells": [
  {
   "cell_type": "code",
   "execution_count": 1,
   "id": "07332727",
   "metadata": {
    "execution": {
     "iopub.execute_input": "2023-08-02T23:40:17.546822Z",
     "iopub.status.busy": "2023-08-02T23:40:17.546116Z",
     "iopub.status.idle": "2023-08-02T23:40:17.817743Z",
     "shell.execute_reply": "2023-08-02T23:40:17.816896Z"
    },
    "papermill": {
     "duration": 0.277753,
     "end_time": "2023-08-02T23:40:17.819834",
     "exception": false,
     "start_time": "2023-08-02T23:40:17.542081",
     "status": "completed"
    },
    "tags": []
   },
   "outputs": [],
   "source": [
    "import os\n",
    "import pandas as pd"
   ]
  },
  {
   "cell_type": "code",
   "execution_count": 2,
   "id": "ec9b5eba",
   "metadata": {
    "execution": {
     "iopub.execute_input": "2023-08-02T23:40:17.825280Z",
     "iopub.status.busy": "2023-08-02T23:40:17.824982Z",
     "iopub.status.idle": "2023-08-02T23:40:17.829668Z",
     "shell.execute_reply": "2023-08-02T23:40:17.828894Z"
    },
    "papermill": {
     "duration": 0.00961,
     "end_time": "2023-08-02T23:40:17.831613",
     "exception": false,
     "start_time": "2023-08-02T23:40:17.822003",
     "status": "completed"
    },
    "tags": []
   },
   "outputs": [],
   "source": [
    "DATA_DIR='../../../docs/metrics/events/promote/_data/'\n",
    "os.makedirs(DATA_DIR, exist_ok=True)"
   ]
  },
  {
   "cell_type": "code",
   "execution_count": 3,
   "id": "a0dc8886",
   "metadata": {
    "execution": {
     "iopub.execute_input": "2023-08-02T23:40:17.837274Z",
     "iopub.status.busy": "2023-08-02T23:40:17.836456Z",
     "iopub.status.idle": "2023-08-02T23:40:17.847593Z",
     "shell.execute_reply": "2023-08-02T23:40:17.846804Z"
    },
    "papermill": {
     "duration": 0.015914,
     "end_time": "2023-08-02T23:40:17.849413",
     "exception": false,
     "start_time": "2023-08-02T23:40:17.833499",
     "status": "completed"
    },
    "tags": []
   },
   "outputs": [],
   "source": [
    "data = pd.read_csv('../../../data/metrics/events/promote-events/events.csv', parse_dates=['time'])"
   ]
  },
  {
   "cell_type": "code",
   "execution_count": 4,
   "id": "6b1c99c6",
   "metadata": {
    "execution": {
     "iopub.execute_input": "2023-08-02T23:40:17.858583Z",
     "iopub.status.busy": "2023-08-02T23:40:17.858334Z",
     "iopub.status.idle": "2023-08-02T23:40:17.864977Z",
     "shell.execute_reply": "2023-08-02T23:40:17.864165Z"
    },
    "papermill": {
     "duration": 0.015622,
     "end_time": "2023-08-02T23:40:17.866771",
     "exception": false,
     "start_time": "2023-08-02T23:40:17.851149",
     "status": "completed"
    },
    "tags": []
   },
   "outputs": [],
   "source": [
    "pd.Series({\n",
    "    'total_events': len(data.id.unique()),\n",
    "    'total_event_instances': len(data.time),\n",
    "    'earliest_event': data.time.min(),\n",
    "    'latest_event': data.time.max(),\n",
    "}).to_json(\n",
    "    os.path.join(DATA_DIR, 'headlines.json'),\n",
    "    date_format='iso', indent=2\n",
    ")"
   ]
  },
  {
   "cell_type": "code",
   "execution_count": 5,
   "id": "a73c254b",
   "metadata": {
    "execution": {
     "iopub.execute_input": "2023-08-02T23:40:17.871467Z",
     "iopub.status.busy": "2023-08-02T23:40:17.871221Z",
     "iopub.status.idle": "2023-08-02T23:40:17.880568Z",
     "shell.execute_reply": "2023-08-02T23:40:17.879761Z"
    },
    "papermill": {
     "duration": 0.013768,
     "end_time": "2023-08-02T23:40:17.882273",
     "exception": false,
     "start_time": "2023-08-02T23:40:17.868505",
     "status": "completed"
    },
    "tags": []
   },
   "outputs": [],
   "source": [
    "events = pd.DataFrame({\n",
    "    'events': data.groupby('id').agg({ 'time': 'min' }).reset_index().groupby('time').id.count(),\n",
    "    'event_instances': data.groupby('time').id.count(),\n",
    "}).fillna(0).astype(int)"
   ]
  },
  {
   "cell_type": "code",
   "execution_count": 6,
   "id": "6cd57225",
   "metadata": {
    "execution": {
     "iopub.execute_input": "2023-08-02T23:40:17.887299Z",
     "iopub.status.busy": "2023-08-02T23:40:17.887016Z",
     "iopub.status.idle": "2023-08-02T23:40:17.890773Z",
     "shell.execute_reply": "2023-08-02T23:40:17.889981Z"
    },
    "papermill": {
     "duration": 0.008622,
     "end_time": "2023-08-02T23:40:17.892787",
     "exception": false,
     "start_time": "2023-08-02T23:40:17.884165",
     "status": "completed"
    },
    "tags": []
   },
   "outputs": [],
   "source": [
    "def cumulate(data):\n",
    "    return pd.concat([\n",
    "        data,\n",
    "        data.cumsum().rename(columns=lambda c: f'cumulative_{c}')\n",
    "    ], axis=1)"
   ]
  },
  {
   "cell_type": "code",
   "execution_count": 7,
   "id": "36640421",
   "metadata": {
    "execution": {
     "iopub.execute_input": "2023-08-02T23:40:17.901182Z",
     "iopub.status.busy": "2023-08-02T23:40:17.900621Z",
     "iopub.status.idle": "2023-08-02T23:40:17.911604Z",
     "shell.execute_reply": "2023-08-02T23:40:17.910843Z"
    },
    "papermill": {
     "duration": 0.018698,
     "end_time": "2023-08-02T23:40:17.913290",
     "exception": false,
     "start_time": "2023-08-02T23:40:17.894592",
     "status": "completed"
    },
    "tags": []
   },
   "outputs": [],
   "source": [
    "events.resample('W-FRI').sum().pipe(cumulate).to_csv(os.path.join(DATA_DIR, 'by_week.csv'))"
   ]
  },
  {
   "cell_type": "code",
   "execution_count": 8,
   "id": "9746f6df",
   "metadata": {
    "execution": {
     "iopub.execute_input": "2023-08-02T23:40:17.919223Z",
     "iopub.status.busy": "2023-08-02T23:40:17.918530Z",
     "iopub.status.idle": "2023-08-02T23:40:17.925479Z",
     "shell.execute_reply": "2023-08-02T23:40:17.924561Z"
    },
    "papermill": {
     "duration": 0.011302,
     "end_time": "2023-08-02T23:40:17.927113",
     "exception": false,
     "start_time": "2023-08-02T23:40:17.915811",
     "status": "completed"
    },
    "tags": []
   },
   "outputs": [],
   "source": [
    "events.resample('MS').sum().pipe(cumulate).to_csv(os.path.join(DATA_DIR, 'by_month.csv'))"
   ]
  },
  {
   "cell_type": "code",
   "execution_count": null,
   "id": "3b629631",
   "metadata": {
    "papermill": {
     "duration": 0.001998,
     "end_time": "2023-08-02T23:40:17.930977",
     "exception": false,
     "start_time": "2023-08-02T23:40:17.928979",
     "status": "completed"
    },
    "tags": []
   },
   "outputs": [],
   "source": []
  }
 ],
 "metadata": {
  "kernelspec": {
   "display_name": "leeds-2023-YZF5GfJv",
   "language": "python",
   "name": "python3"
  },
  "language_info": {
   "codemirror_mode": {
    "name": "ipython",
    "version": 3
   },
   "file_extension": ".py",
   "mimetype": "text/x-python",
   "name": "python",
   "nbconvert_exporter": "python",
   "pygments_lexer": "ipython3",
   "version": "3.10.6"
  },
  "papermill": {
   "default_parameters": {},
   "duration": 1.94303,
   "end_time": "2023-08-02T23:40:18.150856",
   "environment_variables": {},
   "exception": null,
   "input_path": "prepare.ipynb",
   "output_path": "../../../working/output/promote-events-prepare.ipynb",
   "parameters": {},
   "start_time": "2023-08-02T23:40:16.207826",
   "version": "2.4.0"
  }
 },
 "nbformat": 4,
 "nbformat_minor": 5
}