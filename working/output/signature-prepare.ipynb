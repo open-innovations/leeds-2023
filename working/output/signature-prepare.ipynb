{
 "cells": [
  {
   "cell_type": "code",
   "execution_count": 1,
   "id": "9a657166",
   "metadata": {
    "execution": {
     "iopub.execute_input": "2023-10-12T23:40:45.336413Z",
     "iopub.status.busy": "2023-10-12T23:40:45.335611Z",
     "iopub.status.idle": "2023-10-12T23:40:55.286242Z",
     "shell.execute_reply": "2023-10-12T23:40:55.285469Z"
    },
    "papermill": {
     "duration": 9.956434,
     "end_time": "2023-10-12T23:40:55.288012",
     "exception": false,
     "start_time": "2023-10-12T23:40:45.331578",
     "status": "completed"
    },
    "tags": []
   },
   "outputs": [],
   "source": [
    "import os\n",
    "import pandas as pd\n",
    "from events import load_event_data, get_first_ward, normalise_ward"
   ]
  },
  {
   "cell_type": "code",
   "execution_count": 2,
   "id": "ecb9aa83",
   "metadata": {
    "execution": {
     "iopub.execute_input": "2023-10-12T23:40:55.294626Z",
     "iopub.status.busy": "2023-10-12T23:40:55.294112Z",
     "iopub.status.idle": "2023-10-12T23:40:55.299199Z",
     "shell.execute_reply": "2023-10-12T23:40:55.298581Z"
    },
    "papermill": {
     "duration": 0.010041,
     "end_time": "2023-10-12T23:40:55.300762",
     "exception": false,
     "start_time": "2023-10-12T23:40:55.290721",
     "status": "completed"
    },
    "tags": []
   },
   "outputs": [],
   "source": [
    "latest_date = pd.Timestamp.today().ceil('D')"
   ]
  },
  {
   "cell_type": "code",
   "execution_count": 3,
   "id": "5f634972",
   "metadata": {
    "execution": {
     "iopub.execute_input": "2023-10-12T23:40:55.306613Z",
     "iopub.status.busy": "2023-10-12T23:40:55.306233Z",
     "iopub.status.idle": "2023-10-12T23:40:55.323813Z",
     "shell.execute_reply": "2023-10-12T23:40:55.323146Z"
    },
    "papermill": {
     "duration": 0.022197,
     "end_time": "2023-10-12T23:40:55.325312",
     "exception": false,
     "start_time": "2023-10-12T23:40:55.303115",
     "status": "completed"
    },
    "tags": []
   },
   "outputs": [],
   "source": [
    "tickets = pd.read_csv('../../../../data/metrics/events/tickets/orders.csv', parse_dates=['created_at', 'event_date'])\n",
    "tickets = tickets[tickets.event_date <= latest_date]"
   ]
  },
  {
   "cell_type": "code",
   "execution_count": 4,
   "id": "4babd761",
   "metadata": {
    "execution": {
     "iopub.execute_input": "2023-10-12T23:40:55.331421Z",
     "iopub.status.busy": "2023-10-12T23:40:55.330843Z",
     "iopub.status.idle": "2023-10-12T23:40:55.564477Z",
     "shell.execute_reply": "2023-10-12T23:40:55.563804Z"
    },
    "papermill": {
     "duration": 0.238782,
     "end_time": "2023-10-12T23:40:55.566500",
     "exception": false,
     "start_time": "2023-10-12T23:40:55.327718",
     "status": "completed"
    },
    "tags": []
   },
   "outputs": [],
   "source": [
    "events = load_event_data()\n",
    "\n",
    "events = pd.concat([\n",
    "  events,\n",
    "  events.pipe(get_first_ward).pipe(normalise_ward).fillna('UNKNOWN'),\n",
    "  pd.Series(\n",
    "      events.actual_audience_size_number_of_participants_in_person + events.actual_audience_size_number_of_participants_online,\n",
    "      name='attendances'\n",
    "  )\n",
    "], axis=1).rename(columns={\n",
    "    'start_date': 'date'\n",
    "}).loc[:, ['ward_code', 'date', 'event_unique_identifier', 'attendances']]"
   ]
  },
  {
   "cell_type": "code",
   "execution_count": 5,
   "id": "aa8b0e86",
   "metadata": {
    "execution": {
     "iopub.execute_input": "2023-10-12T23:40:55.573040Z",
     "iopub.status.busy": "2023-10-12T23:40:55.572545Z",
     "iopub.status.idle": "2023-10-12T23:40:55.577217Z",
     "shell.execute_reply": "2023-10-12T23:40:55.576633Z"
    },
    "papermill": {
     "duration": 0.009676,
     "end_time": "2023-10-12T23:40:55.578824",
     "exception": false,
     "start_time": "2023-10-12T23:40:55.569148",
     "status": "completed"
    },
    "tags": []
   },
   "outputs": [],
   "source": [
    "OUTPUT_DIR='../../../../docs/metrics/events/signature/_data/'\n",
    "os.makedirs(OUTPUT_DIR, exist_ok=True)"
   ]
  },
  {
   "cell_type": "markdown",
   "id": "1f3b01eb",
   "metadata": {
    "papermill": {
     "duration": 0.002447,
     "end_time": "2023-10-12T23:40:55.583693",
     "exception": false,
     "start_time": "2023-10-12T23:40:55.581246",
     "status": "completed"
    },
    "tags": []
   },
   "source": [
    "Events CSVs"
   ]
  },
  {
   "cell_type": "code",
   "execution_count": 6,
   "id": "0260dc45",
   "metadata": {
    "execution": {
     "iopub.execute_input": "2023-10-12T23:40:55.589833Z",
     "iopub.status.busy": "2023-10-12T23:40:55.589298Z",
     "iopub.status.idle": "2023-10-12T23:40:55.596669Z",
     "shell.execute_reply": "2023-10-12T23:40:55.596065Z"
    },
    "papermill": {
     "duration": 0.012246,
     "end_time": "2023-10-12T23:40:55.598293",
     "exception": false,
     "start_time": "2023-10-12T23:40:55.586047",
     "status": "completed"
    },
    "tags": []
   },
   "outputs": [],
   "source": [
    "pd.DataFrame({\n",
    "  'events': events.groupby('ward_code').event_unique_identifier.count(),\n",
    "  'attendances': events.groupby('ward_code').attendances.sum().astype(int),\n",
    "}).to_csv(os.path.join(OUTPUT_DIR, 'events_by_ward.csv'))\n"
   ]
  },
  {
   "cell_type": "code",
   "execution_count": 7,
   "id": "ee2cf222",
   "metadata": {
    "execution": {
     "iopub.execute_input": "2023-10-12T23:40:55.604586Z",
     "iopub.status.busy": "2023-10-12T23:40:55.604110Z",
     "iopub.status.idle": "2023-10-12T23:40:55.615826Z",
     "shell.execute_reply": "2023-10-12T23:40:55.615205Z"
    },
    "papermill": {
     "duration": 0.016541,
     "end_time": "2023-10-12T23:40:55.617331",
     "exception": false,
     "start_time": "2023-10-12T23:40:55.600790",
     "status": "completed"
    },
    "tags": []
   },
   "outputs": [],
   "source": [
    "pd.DataFrame({\n",
    "  'events': events.groupby('date').event_unique_identifier.count(),\n",
    "  'attendances': events.groupby('date').attendances.sum().astype(int),\n",
    "}).resample('M').sum().astype(int).to_csv(os.path.join(OUTPUT_DIR, 'events_by_date.csv'))"
   ]
  },
  {
   "cell_type": "markdown",
   "id": "a8930ae2",
   "metadata": {
    "papermill": {
     "duration": 0.002493,
     "end_time": "2023-10-12T23:40:55.622376",
     "exception": false,
     "start_time": "2023-10-12T23:40:55.619883",
     "status": "completed"
    },
    "tags": []
   },
   "source": [
    "Tickets CSV"
   ]
  },
  {
   "cell_type": "code",
   "execution_count": 8,
   "id": "f463ca47",
   "metadata": {
    "execution": {
     "iopub.execute_input": "2023-10-12T23:40:55.628538Z",
     "iopub.status.busy": "2023-10-12T23:40:55.628272Z",
     "iopub.status.idle": "2023-10-12T23:40:55.635647Z",
     "shell.execute_reply": "2023-10-12T23:40:55.635024Z"
    },
    "papermill": {
     "duration": 0.012582,
     "end_time": "2023-10-12T23:40:55.637344",
     "exception": false,
     "start_time": "2023-10-12T23:40:55.624762",
     "status": "completed"
    },
    "tags": []
   },
   "outputs": [],
   "source": [
    "pd.DataFrame({\n",
    "  'orders': tickets.groupby('ward_code').number_of_tickets.count(),\n",
    "  'tickets': tickets.groupby('ward_code').number_of_tickets.sum().astype(int),\n",
    "}).to_csv(os.path.join(OUTPUT_DIR, 'tickets_by_ward.csv'))"
   ]
  },
  {
   "cell_type": "code",
   "execution_count": 9,
   "id": "8882e1da",
   "metadata": {
    "execution": {
     "iopub.execute_input": "2023-10-12T23:40:55.643900Z",
     "iopub.status.busy": "2023-10-12T23:40:55.643323Z",
     "iopub.status.idle": "2023-10-12T23:40:55.651777Z",
     "shell.execute_reply": "2023-10-12T23:40:55.651148Z"
    },
    "papermill": {
     "duration": 0.013472,
     "end_time": "2023-10-12T23:40:55.653395",
     "exception": false,
     "start_time": "2023-10-12T23:40:55.639923",
     "status": "completed"
    },
    "tags": []
   },
   "outputs": [],
   "source": [
    "pd.DataFrame({\n",
    "  'orders': tickets.groupby('event_date').number_of_tickets.count(),\n",
    "  'tickets': tickets.groupby('event_date').number_of_tickets.sum().astype(int),\n",
    "}).resample('M').sum().to_csv(os.path.join(OUTPUT_DIR, 'tickets_by_event_date.csv'))"
   ]
  },
  {
   "cell_type": "code",
   "execution_count": 10,
   "id": "3b64f0d0",
   "metadata": {
    "execution": {
     "iopub.execute_input": "2023-10-12T23:40:55.661046Z",
     "iopub.status.busy": "2023-10-12T23:40:55.660563Z",
     "iopub.status.idle": "2023-10-12T23:40:55.667171Z",
     "shell.execute_reply": "2023-10-12T23:40:55.666581Z"
    },
    "papermill": {
     "duration": 0.012586,
     "end_time": "2023-10-12T23:40:55.668587",
     "exception": false,
     "start_time": "2023-10-12T23:40:55.656001",
     "status": "completed"
    },
    "tags": []
   },
   "outputs": [],
   "source": [
    "pd.Series({\n",
    "    'total_events': events.event_unique_identifier.count(),\n",
    "    'total_attendances': events.attendances.count(),\n",
    "    'first_event': events.date.min(),\n",
    "    'latest_event': events.date.max(),\n",
    "    'total_ticket_orders_for_events_to_date': tickets.number_of_tickets.count(),\n",
    "    'total_tickets_sold_for_events_to_date': tickets.number_of_tickets.sum(),\n",
    "}).to_json(os.path.join(OUTPUT_DIR, 'headlines.json'), indent=2)"
   ]
  },
  {
   "cell_type": "code",
   "execution_count": null,
   "id": "0f394b20",
   "metadata": {
    "papermill": {
     "duration": 0.002502,
     "end_time": "2023-10-12T23:40:55.673824",
     "exception": false,
     "start_time": "2023-10-12T23:40:55.671322",
     "status": "completed"
    },
    "tags": []
   },
   "outputs": [],
   "source": []
  }
 ],
 "metadata": {
  "kernelspec": {
   "display_name": "leeds-2023-YZF5GfJv",
   "language": "python",
   "name": "python3"
  },
  "language_info": {
   "codemirror_mode": {
    "name": "ipython",
    "version": 3
   },
   "file_extension": ".py",
   "mimetype": "text/x-python",
   "name": "python",
   "nbconvert_exporter": "python",
   "pygments_lexer": "ipython3",
   "version": "3.10.13"
  },
  "papermill": {
   "default_parameters": {},
   "duration": 12.029252,
   "end_time": "2023-10-12T23:40:55.993228",
   "environment_variables": {},
   "exception": null,
   "input_path": "prepare.ipynb",
   "output_path": "../../../../working/output/signature-prepare.ipynb",
   "parameters": {},
   "start_time": "2023-10-12T23:40:43.963976",
   "version": "2.4.0"
  }
 },
 "nbformat": 4,
 "nbformat_minor": 5
}