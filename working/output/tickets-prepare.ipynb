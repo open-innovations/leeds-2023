{
 "cells": [
  {
   "cell_type": "code",
   "execution_count": 1,
   "id": "be5201f1",
   "metadata": {
    "execution": {
     "iopub.execute_input": "2023-12-19T23:38:37.989139Z",
     "iopub.status.busy": "2023-12-19T23:38:37.988675Z",
     "iopub.status.idle": "2023-12-19T23:38:38.225022Z",
     "shell.execute_reply": "2023-12-19T23:38:38.224345Z"
    },
    "papermill": {
     "duration": 0.241294,
     "end_time": "2023-12-19T23:38:38.226680",
     "exception": false,
     "start_time": "2023-12-19T23:38:37.985386",
     "status": "completed"
    },
    "tags": []
   },
   "outputs": [],
   "source": [
    "from pathlib import Path\n",
    "import pandas as pd"
   ]
  },
  {
   "cell_type": "markdown",
   "id": "1e18904d",
   "metadata": {
    "papermill": {
     "duration": 0.001938,
     "end_time": "2023-12-19T23:38:38.231013",
     "exception": false,
     "start_time": "2023-12-19T23:38:38.229075",
     "status": "completed"
    },
    "tags": []
   },
   "source": [
    "Load the orders data which was created in the [transform stage](./tickets.ipynb)."
   ]
  },
  {
   "cell_type": "code",
   "execution_count": 2,
   "id": "c3457dbe",
   "metadata": {
    "execution": {
     "iopub.execute_input": "2023-12-19T23:38:38.236145Z",
     "iopub.status.busy": "2023-12-19T23:38:38.235669Z",
     "iopub.status.idle": "2023-12-19T23:38:38.252939Z",
     "shell.execute_reply": "2023-12-19T23:38:38.252447Z"
    },
    "papermill": {
     "duration": 0.021215,
     "end_time": "2023-12-19T23:38:38.254225",
     "exception": false,
     "start_time": "2023-12-19T23:38:38.233010",
     "status": "completed"
    },
    "tags": []
   },
   "outputs": [],
   "source": [
    "def prepare(data: pd.DataFrame) -> pd.DataFrame:\n",
    "    data = data.loc[\n",
    "        (\n",
    "            data.public_event == True\n",
    "        ) & (\n",
    "            ~data.project_name.isin([\n",
    "                'Skills Development',\n",
    "            ])\n",
    "        )\n",
    "    ]\n",
    "    data = data.drop(columns=['public_event'])\n",
    "    return data\n",
    "\n",
    "\n",
    "orders = pd.read_csv(\n",
    "    '../../../../data/metrics/events/tickets/orders.csv',\n",
    "    usecols=[\n",
    "        'created_at',\n",
    "        'project_name',\n",
    "        'public_event',\n",
    "        'number_of_tickets'\n",
    "    ],\n",
    "    parse_dates=['created_at']\n",
    ").pipe(prepare)"
   ]
  },
  {
   "cell_type": "markdown",
   "id": "061c7521",
   "metadata": {
    "papermill": {
     "duration": 0.001938,
     "end_time": "2023-12-19T23:38:38.258178",
     "exception": false,
     "start_time": "2023-12-19T23:38:38.256240",
     "status": "completed"
    },
    "tags": []
   },
   "source": [
    "Define functions to count and sum tickets, and to append cumulative versions of those."
   ]
  },
  {
   "cell_type": "code",
   "execution_count": 3,
   "id": "55532dd1",
   "metadata": {
    "execution": {
     "iopub.execute_input": "2023-12-19T23:38:38.263188Z",
     "iopub.status.busy": "2023-12-19T23:38:38.262788Z",
     "iopub.status.idle": "2023-12-19T23:38:38.266685Z",
     "shell.execute_reply": "2023-12-19T23:38:38.266143Z"
    },
    "papermill": {
     "duration": 0.007772,
     "end_time": "2023-12-19T23:38:38.267935",
     "exception": false,
     "start_time": "2023-12-19T23:38:38.260163",
     "status": "completed"
    },
    "tags": []
   },
   "outputs": [],
   "source": [
    "def count_and_sum(series):\n",
    "    return pd.concat([\n",
    "        series.count().to_frame('orders'),\n",
    "        series.sum().to_frame('tickets'),\n",
    "    ], axis=1)\n",
    "\n",
    "\n",
    "def cumulate(df: pd.DataFrame) -> pd.DataFrame:\n",
    "    return pd.concat([\n",
    "        df,\n",
    "        df.cumsum().rename(columns=lambda x: f'cumulative_{x}')\n",
    "    ], axis=1)"
   ]
  },
  {
   "cell_type": "markdown",
   "id": "bb307ca0",
   "metadata": {
    "papermill": {
     "duration": 0.002007,
     "end_time": "2023-12-19T23:38:38.271933",
     "exception": false,
     "start_time": "2023-12-19T23:38:38.269926",
     "status": "completed"
    },
    "tags": []
   },
   "source": [
    "Create output directory"
   ]
  },
  {
   "cell_type": "code",
   "execution_count": 4,
   "id": "cf1b35d6",
   "metadata": {
    "execution": {
     "iopub.execute_input": "2023-12-19T23:38:38.276907Z",
     "iopub.status.busy": "2023-12-19T23:38:38.276460Z",
     "iopub.status.idle": "2023-12-19T23:38:38.279702Z",
     "shell.execute_reply": "2023-12-19T23:38:38.279063Z"
    },
    "papermill": {
     "duration": 0.007153,
     "end_time": "2023-12-19T23:38:38.281070",
     "exception": false,
     "start_time": "2023-12-19T23:38:38.273917",
     "status": "completed"
    },
    "tags": []
   },
   "outputs": [],
   "source": [
    "OUTPUT_DIR = Path('../../../../docs/metrics/tickets/_data/')\n",
    "OUTPUT_DIR.mkdir(parents=True, exist_ok=True)"
   ]
  },
  {
   "cell_type": "markdown",
   "id": "e9b6bb84",
   "metadata": {
    "papermill": {
     "duration": 0.001973,
     "end_time": "2023-12-19T23:38:38.285811",
     "exception": false,
     "start_time": "2023-12-19T23:38:38.283838",
     "status": "completed"
    },
    "tags": []
   },
   "source": [
    "Count / sum the orders and tickets by project code and save to a JSON file"
   ]
  },
  {
   "cell_type": "code",
   "execution_count": 5,
   "id": "6fb6fddd",
   "metadata": {
    "execution": {
     "iopub.execute_input": "2023-12-19T23:38:38.290969Z",
     "iopub.status.busy": "2023-12-19T23:38:38.290585Z",
     "iopub.status.idle": "2023-12-19T23:38:38.297512Z",
     "shell.execute_reply": "2023-12-19T23:38:38.296993Z"
    },
    "papermill": {
     "duration": 0.010972,
     "end_time": "2023-12-19T23:38:38.298807",
     "exception": false,
     "start_time": "2023-12-19T23:38:38.287835",
     "status": "completed"
    },
    "tags": []
   },
   "outputs": [],
   "source": [
    "by_project = orders.groupby('project_name').number_of_tickets.pipe(count_and_sum)\n",
    "by_project.loc['total']= by_project.sum()\n",
    "by_project.T.to_json(\n",
    "  OUTPUT_DIR.joinpath('headlines.json'),\n",
    "  indent=2\n",
    ")"
   ]
  },
  {
   "cell_type": "markdown",
   "id": "bf9cf4dc",
   "metadata": {
    "papermill": {
     "duration": 0.00207,
     "end_time": "2023-12-19T23:38:38.303006",
     "exception": false,
     "start_time": "2023-12-19T23:38:38.300936",
     "status": "completed"
    },
    "tags": []
   },
   "source": [
    "Add `week` and `month` columns"
   ]
  },
  {
   "cell_type": "code",
   "execution_count": 6,
   "id": "78b92b01",
   "metadata": {
    "execution": {
     "iopub.execute_input": "2023-12-19T23:38:38.308174Z",
     "iopub.status.busy": "2023-12-19T23:38:38.307798Z",
     "iopub.status.idle": "2023-12-19T23:38:38.313815Z",
     "shell.execute_reply": "2023-12-19T23:38:38.313203Z"
    },
    "papermill": {
     "duration": 0.01008,
     "end_time": "2023-12-19T23:38:38.315160",
     "exception": false,
     "start_time": "2023-12-19T23:38:38.305080",
     "status": "completed"
    },
    "tags": []
   },
   "outputs": [],
   "source": [
    "orders['week'] = orders.created_at.dt.to_period('W-FRI').dt.to_timestamp()\n",
    "orders['month'] = orders.created_at.dt.to_period('M').dt.to_timestamp()"
   ]
  },
  {
   "cell_type": "markdown",
   "id": "a1efa874",
   "metadata": {
    "papermill": {
     "duration": 0.002088,
     "end_time": "2023-12-19T23:38:38.319388",
     "exception": false,
     "start_time": "2023-12-19T23:38:38.317300",
     "status": "completed"
    },
    "tags": []
   },
   "source": [
    "Save table cumulative weekly per project"
   ]
  },
  {
   "cell_type": "code",
   "execution_count": 7,
   "id": "f64d096f",
   "metadata": {
    "execution": {
     "iopub.execute_input": "2023-12-19T23:38:38.324506Z",
     "iopub.status.busy": "2023-12-19T23:38:38.324274Z",
     "iopub.status.idle": "2023-12-19T23:38:38.332263Z",
     "shell.execute_reply": "2023-12-19T23:38:38.331746Z"
    },
    "papermill": {
     "duration": 0.012116,
     "end_time": "2023-12-19T23:38:38.333601",
     "exception": false,
     "start_time": "2023-12-19T23:38:38.321485",
     "status": "completed"
    },
    "tags": []
   },
   "outputs": [],
   "source": [
    "orders.groupby(\n",
    "  ['week', 'project_name']\n",
    ").number_of_tickets.pipe(\n",
    "  count_and_sum\n",
    ").tickets.unstack().fillna(0).cumsum().to_csv(\n",
    "  OUTPUT_DIR.joinpath('by_project_cumulative_weekly.csv')\n",
    ")"
   ]
  },
  {
   "cell_type": "markdown",
   "id": "6efabebb",
   "metadata": {
    "papermill": {
     "duration": 0.002211,
     "end_time": "2023-12-19T23:38:38.338097",
     "exception": false,
     "start_time": "2023-12-19T23:38:38.335886",
     "status": "completed"
    },
    "tags": []
   },
   "source": [
    "Save cumulative monthly sales"
   ]
  },
  {
   "cell_type": "code",
   "execution_count": 8,
   "id": "08e85cd9",
   "metadata": {
    "execution": {
     "iopub.execute_input": "2023-12-19T23:38:38.343484Z",
     "iopub.status.busy": "2023-12-19T23:38:38.343050Z",
     "iopub.status.idle": "2023-12-19T23:38:38.349025Z",
     "shell.execute_reply": "2023-12-19T23:38:38.348503Z"
    },
    "papermill": {
     "duration": 0.010063,
     "end_time": "2023-12-19T23:38:38.350310",
     "exception": false,
     "start_time": "2023-12-19T23:38:38.340247",
     "status": "completed"
    },
    "tags": []
   },
   "outputs": [],
   "source": [
    "orders.groupby(['month']).number_of_tickets.pipe(count_and_sum).pipe(cumulate).to_csv(\n",
    "  OUTPUT_DIR.joinpath('monthly_cumulative.csv')\n",
    ")"
   ]
  }
 ],
 "metadata": {
  "kernelspec": {
   "display_name": "leeds-2023-YZF5GfJv",
   "language": "python",
   "name": "python3"
  },
  "language_info": {
   "codemirror_mode": {
    "name": "ipython",
    "version": 3
   },
   "file_extension": ".py",
   "mimetype": "text/x-python",
   "name": "python",
   "nbconvert_exporter": "python",
   "pygments_lexer": "ipython3",
   "version": "3.10.13"
  },
  "papermill": {
   "default_parameters": {},
   "duration": 1.82188,
   "end_time": "2023-12-19T23:38:38.568838",
   "environment_variables": {},
   "exception": null,
   "input_path": "prepare.ipynb",
   "output_path": "../../../../working/output/tickets-prepare.ipynb",
   "parameters": {},
   "start_time": "2023-12-19T23:38:36.746958",
   "version": "2.4.0"
  }
 },
 "nbformat": 4,
 "nbformat_minor": 5
}