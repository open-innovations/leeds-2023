{
 "cells": [
  {
   "cell_type": "code",
   "execution_count": 1,
   "id": "4d22e7aa",
   "metadata": {
    "execution": {
     "iopub.execute_input": "2023-08-13T23:37:59.667689Z",
     "iopub.status.busy": "2023-08-13T23:37:59.667199Z",
     "iopub.status.idle": "2023-08-13T23:38:09.308316Z",
     "shell.execute_reply": "2023-08-13T23:38:09.307615Z"
    },
    "papermill": {
     "duration": 9.647883,
     "end_time": "2023-08-13T23:38:09.310646",
     "exception": false,
     "start_time": "2023-08-13T23:37:59.662763",
     "status": "completed"
    },
    "tags": []
   },
   "outputs": [],
   "source": [
    "import os\n",
    "import pandas as pd\n",
    "from events import load_event_data, get_first_ward, normalise_ward"
   ]
  },
  {
   "cell_type": "code",
   "execution_count": 2,
   "id": "eb0f0932",
   "metadata": {
    "execution": {
     "iopub.execute_input": "2023-08-13T23:38:09.319707Z",
     "iopub.status.busy": "2023-08-13T23:38:09.319054Z",
     "iopub.status.idle": "2023-08-13T23:38:09.324496Z",
     "shell.execute_reply": "2023-08-13T23:38:09.323904Z"
    },
    "papermill": {
     "duration": 0.012926,
     "end_time": "2023-08-13T23:38:09.325930",
     "exception": false,
     "start_time": "2023-08-13T23:38:09.313004",
     "status": "completed"
    },
    "tags": []
   },
   "outputs": [],
   "source": [
    "latest_date = pd.Timestamp.today().ceil('D')"
   ]
  },
  {
   "cell_type": "code",
   "execution_count": 3,
   "id": "4f22c26f",
   "metadata": {
    "execution": {
     "iopub.execute_input": "2023-08-13T23:38:09.331370Z",
     "iopub.status.busy": "2023-08-13T23:38:09.330935Z",
     "iopub.status.idle": "2023-08-13T23:38:09.346143Z",
     "shell.execute_reply": "2023-08-13T23:38:09.345505Z"
    },
    "papermill": {
     "duration": 0.019918,
     "end_time": "2023-08-13T23:38:09.347854",
     "exception": false,
     "start_time": "2023-08-13T23:38:09.327936",
     "status": "completed"
    },
    "tags": []
   },
   "outputs": [],
   "source": [
    "tickets = pd.read_csv('../../../../data/metrics/events/tickets/orders.csv', parse_dates=['created_at', 'event_date'])\n",
    "tickets = tickets[tickets.event_date <= latest_date]"
   ]
  },
  {
   "cell_type": "code",
   "execution_count": 4,
   "id": "7d6ed027",
   "metadata": {
    "execution": {
     "iopub.execute_input": "2023-08-13T23:38:09.353332Z",
     "iopub.status.busy": "2023-08-13T23:38:09.352921Z",
     "iopub.status.idle": "2023-08-13T23:38:09.521531Z",
     "shell.execute_reply": "2023-08-13T23:38:09.520833Z"
    },
    "papermill": {
     "duration": 0.173809,
     "end_time": "2023-08-13T23:38:09.523818",
     "exception": false,
     "start_time": "2023-08-13T23:38:09.350009",
     "status": "completed"
    },
    "tags": []
   },
   "outputs": [],
   "source": [
    "events = load_event_data()\n",
    "\n",
    "events = pd.concat([\n",
    "  events,\n",
    "  events.pipe(get_first_ward).pipe(normalise_ward).fillna('UNKNOWN'),\n",
    "  pd.Series(\n",
    "      events.actual_audience_size_number_of_participants_in_person + events.actual_audience_size_number_of_participants_online,\n",
    "      name='attendances'\n",
    "  )\n",
    "], axis=1).rename(columns={\n",
    "    'start_date': 'date'\n",
    "}).loc[:, ['ward_code', 'date', 'event_unique_identifier', 'attendances']]"
   ]
  },
  {
   "cell_type": "code",
   "execution_count": 5,
   "id": "4d277db1",
   "metadata": {
    "execution": {
     "iopub.execute_input": "2023-08-13T23:38:09.529922Z",
     "iopub.status.busy": "2023-08-13T23:38:09.529281Z",
     "iopub.status.idle": "2023-08-13T23:38:09.533595Z",
     "shell.execute_reply": "2023-08-13T23:38:09.533031Z"
    },
    "papermill": {
     "duration": 0.00891,
     "end_time": "2023-08-13T23:38:09.535067",
     "exception": false,
     "start_time": "2023-08-13T23:38:09.526157",
     "status": "completed"
    },
    "tags": []
   },
   "outputs": [],
   "source": [
    "OUTPUT_DIR='../../../../docs/metrics/events/signature/_data/'\n",
    "os.makedirs(OUTPUT_DIR, exist_ok=True)"
   ]
  },
  {
   "cell_type": "markdown",
   "id": "ee739da2",
   "metadata": {
    "papermill": {
     "duration": 0.002083,
     "end_time": "2023-08-13T23:38:09.539190",
     "exception": false,
     "start_time": "2023-08-13T23:38:09.537107",
     "status": "completed"
    },
    "tags": []
   },
   "source": [
    "Events CSVs"
   ]
  },
  {
   "cell_type": "code",
   "execution_count": 6,
   "id": "b461d754",
   "metadata": {
    "execution": {
     "iopub.execute_input": "2023-08-13T23:38:09.544738Z",
     "iopub.status.busy": "2023-08-13T23:38:09.544162Z",
     "iopub.status.idle": "2023-08-13T23:38:09.552322Z",
     "shell.execute_reply": "2023-08-13T23:38:09.551754Z"
    },
    "papermill": {
     "duration": 0.012405,
     "end_time": "2023-08-13T23:38:09.553643",
     "exception": false,
     "start_time": "2023-08-13T23:38:09.541238",
     "status": "completed"
    },
    "tags": []
   },
   "outputs": [],
   "source": [
    "pd.DataFrame({\n",
    "  'events': events.groupby('ward_code').event_unique_identifier.count(),\n",
    "  'attendances': events.groupby('ward_code').attendances.sum().astype(int),\n",
    "}).to_csv(os.path.join(OUTPUT_DIR, 'events_by_ward.csv'))\n"
   ]
  },
  {
   "cell_type": "code",
   "execution_count": 7,
   "id": "02e1e292",
   "metadata": {
    "execution": {
     "iopub.execute_input": "2023-08-13T23:38:09.559242Z",
     "iopub.status.busy": "2023-08-13T23:38:09.558812Z",
     "iopub.status.idle": "2023-08-13T23:38:09.569332Z",
     "shell.execute_reply": "2023-08-13T23:38:09.568761Z"
    },
    "papermill": {
     "duration": 0.015099,
     "end_time": "2023-08-13T23:38:09.570833",
     "exception": false,
     "start_time": "2023-08-13T23:38:09.555734",
     "status": "completed"
    },
    "tags": []
   },
   "outputs": [],
   "source": [
    "pd.DataFrame({\n",
    "  'events': events.groupby('date').event_unique_identifier.count(),\n",
    "  'attendances': events.groupby('date').attendances.sum().astype(int),\n",
    "}).resample('M').sum().astype(int).to_csv(os.path.join(OUTPUT_DIR, 'events_by_date.csv'))"
   ]
  },
  {
   "cell_type": "markdown",
   "id": "8ec75176",
   "metadata": {
    "papermill": {
     "duration": 0.002161,
     "end_time": "2023-08-13T23:38:09.575133",
     "exception": false,
     "start_time": "2023-08-13T23:38:09.572972",
     "status": "completed"
    },
    "tags": []
   },
   "source": [
    "Tickets CSV"
   ]
  },
  {
   "cell_type": "code",
   "execution_count": 8,
   "id": "4800d6d9",
   "metadata": {
    "execution": {
     "iopub.execute_input": "2023-08-13T23:38:09.580561Z",
     "iopub.status.busy": "2023-08-13T23:38:09.580127Z",
     "iopub.status.idle": "2023-08-13T23:38:09.586863Z",
     "shell.execute_reply": "2023-08-13T23:38:09.586297Z"
    },
    "papermill": {
     "duration": 0.011096,
     "end_time": "2023-08-13T23:38:09.588331",
     "exception": false,
     "start_time": "2023-08-13T23:38:09.577235",
     "status": "completed"
    },
    "tags": []
   },
   "outputs": [],
   "source": [
    "pd.DataFrame({\n",
    "  'orders': tickets.groupby('ward_code').number_of_tickets.count(),\n",
    "  'tickets': tickets.groupby('ward_code').number_of_tickets.sum().astype(int),\n",
    "}).to_csv(os.path.join(OUTPUT_DIR, 'tickets_by_ward.csv'))"
   ]
  },
  {
   "cell_type": "code",
   "execution_count": 9,
   "id": "004c1ae3",
   "metadata": {
    "execution": {
     "iopub.execute_input": "2023-08-13T23:38:09.593763Z",
     "iopub.status.busy": "2023-08-13T23:38:09.593408Z",
     "iopub.status.idle": "2023-08-13T23:38:09.601529Z",
     "shell.execute_reply": "2023-08-13T23:38:09.600977Z"
    },
    "papermill": {
     "duration": 0.012563,
     "end_time": "2023-08-13T23:38:09.603077",
     "exception": false,
     "start_time": "2023-08-13T23:38:09.590514",
     "status": "completed"
    },
    "tags": []
   },
   "outputs": [],
   "source": [
    "pd.DataFrame({\n",
    "  'orders': tickets.groupby('event_date').number_of_tickets.count(),\n",
    "  'tickets': tickets.groupby('event_date').number_of_tickets.sum().astype(int),\n",
    "}).resample('M').sum().to_csv(os.path.join(OUTPUT_DIR, 'tickets_by_event_date.csv'))"
   ]
  },
  {
   "cell_type": "code",
   "execution_count": 10,
   "id": "b55fa4eb",
   "metadata": {
    "execution": {
     "iopub.execute_input": "2023-08-13T23:38:09.609604Z",
     "iopub.status.busy": "2023-08-13T23:38:09.609066Z",
     "iopub.status.idle": "2023-08-13T23:38:09.614307Z",
     "shell.execute_reply": "2023-08-13T23:38:09.613762Z"
    },
    "papermill": {
     "duration": 0.010509,
     "end_time": "2023-08-13T23:38:09.615740",
     "exception": false,
     "start_time": "2023-08-13T23:38:09.605231",
     "status": "completed"
    },
    "tags": []
   },
   "outputs": [],
   "source": [
    "pd.Series({\n",
    "    'total_events': events.event_unique_identifier.count(),\n",
    "    'total_attendances': events.attendances.count(),\n",
    "    'first_event': events.date.min(),\n",
    "    'latest_event': events.date.max(),\n",
    "    'total_ticket_orders_for_events_to_date': tickets.number_of_tickets.count(),\n",
    "    'total_tickets_sold_for_events_to_date': tickets.number_of_tickets.sum(),\n",
    "}).to_json(os.path.join(OUTPUT_DIR, 'headlines.json'), indent=2)"
   ]
  },
  {
   "cell_type": "code",
   "execution_count": null,
   "id": "38adf87b",
   "metadata": {
    "papermill": {
     "duration": 0.002164,
     "end_time": "2023-08-13T23:38:09.620134",
     "exception": false,
     "start_time": "2023-08-13T23:38:09.617970",
     "status": "completed"
    },
    "tags": []
   },
   "outputs": [],
   "source": []
  }
 ],
 "metadata": {
  "kernelspec": {
   "display_name": "leeds-2023-YZF5GfJv",
   "language": "python",
   "name": "python3"
  },
  "language_info": {
   "codemirror_mode": {
    "name": "ipython",
    "version": 3
   },
   "file_extension": ".py",
   "mimetype": "text/x-python",
   "name": "python",
   "nbconvert_exporter": "python",
   "pygments_lexer": "ipython3",
   "version": "3.10.12"
  },
  "papermill": {
   "default_parameters": {},
   "duration": 11.670304,
   "end_time": "2023-08-13T23:38:09.939517",
   "environment_variables": {},
   "exception": null,
   "input_path": "prepare.ipynb",
   "output_path": "../../../../working/output/signature-prepare.ipynb",
   "parameters": {},
   "start_time": "2023-08-13T23:37:58.269213",
   "version": "2.4.0"
  }
 },
 "nbformat": 4,
 "nbformat_minor": 5
}