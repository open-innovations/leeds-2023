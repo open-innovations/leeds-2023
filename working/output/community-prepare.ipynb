{
 "cells": [
  {
   "cell_type": "code",
   "execution_count": 1,
   "id": "8150d472",
   "metadata": {
    "execution": {
     "iopub.execute_input": "2023-08-31T23:38:41.857154Z",
     "iopub.status.busy": "2023-08-31T23:38:41.856571Z",
     "iopub.status.idle": "2023-08-31T23:38:42.171422Z",
     "shell.execute_reply": "2023-08-31T23:38:42.170471Z"
    },
    "papermill": {
     "duration": 0.322668,
     "end_time": "2023-08-31T23:38:42.173605",
     "exception": false,
     "start_time": "2023-08-31T23:38:41.850937",
     "status": "completed"
    },
    "tags": []
   },
   "outputs": [],
   "source": [
    "import os, sys\n",
    "TOP_DIR = os.path.realpath('../../..')\n",
    "if TOP_DIR not in sys.path: sys.path.append(TOP_DIR)\n",
    "import pandas as pd"
   ]
  },
  {
   "cell_type": "code",
   "execution_count": 2,
   "id": "5a50c7d7",
   "metadata": {
    "execution": {
     "iopub.execute_input": "2023-08-31T23:38:42.180671Z",
     "iopub.status.busy": "2023-08-31T23:38:42.180287Z",
     "iopub.status.idle": "2023-08-31T23:38:42.185036Z",
     "shell.execute_reply": "2023-08-31T23:38:42.184122Z"
    },
    "papermill": {
     "duration": 0.009552,
     "end_time": "2023-08-31T23:38:42.186987",
     "exception": false,
     "start_time": "2023-08-31T23:38:42.177435",
     "status": "completed"
    },
    "tags": []
   },
   "outputs": [],
   "source": [
    "from lib.util.convert import named_cumulative_sum"
   ]
  },
  {
   "cell_type": "code",
   "execution_count": 3,
   "id": "9885c762",
   "metadata": {
    "execution": {
     "iopub.execute_input": "2023-08-31T23:38:42.192624Z",
     "iopub.status.busy": "2023-08-31T23:38:42.192376Z",
     "iopub.status.idle": "2023-08-31T23:38:42.204537Z",
     "shell.execute_reply": "2023-08-31T23:38:42.203656Z"
    },
    "papermill": {
     "duration": 0.017874,
     "end_time": "2023-08-31T23:38:42.206876",
     "exception": false,
     "start_time": "2023-08-31T23:38:42.189002",
     "status": "completed"
    },
    "tags": []
   },
   "outputs": [],
   "source": [
    "data = pd.read_csv('../../../data/metrics/community/events.csv', parse_dates=['start_date'])\n",
    "data.ward_code = data.ward_code.fillna('UNKNOWN')"
   ]
  },
  {
   "cell_type": "markdown",
   "id": "43f9df17",
   "metadata": {
    "papermill": {
     "duration": 0.001658,
     "end_time": "2023-08-31T23:38:42.210403",
     "exception": false,
     "start_time": "2023-08-31T23:38:42.208745",
     "status": "completed"
    },
    "tags": []
   },
   "source": [
    "Set up output directories"
   ]
  },
  {
   "cell_type": "code",
   "execution_count": 4,
   "id": "36608a7f",
   "metadata": {
    "execution": {
     "iopub.execute_input": "2023-08-31T23:38:42.215433Z",
     "iopub.status.busy": "2023-08-31T23:38:42.215186Z",
     "iopub.status.idle": "2023-08-31T23:38:42.219063Z",
     "shell.execute_reply": "2023-08-31T23:38:42.218361Z"
    },
    "papermill": {
     "duration": 0.008613,
     "end_time": "2023-08-31T23:38:42.220857",
     "exception": false,
     "start_time": "2023-08-31T23:38:42.212244",
     "status": "completed"
    },
    "tags": []
   },
   "outputs": [],
   "source": [
    "OUT_DIR = '../../../docs/metrics/community/_data'\n",
    "os.makedirs(OUT_DIR, exist_ok=True)"
   ]
  },
  {
   "cell_type": "code",
   "execution_count": 5,
   "id": "6ac2f5c3",
   "metadata": {
    "execution": {
     "iopub.execute_input": "2023-08-31T23:38:42.225982Z",
     "iopub.status.busy": "2023-08-31T23:38:42.225585Z",
     "iopub.status.idle": "2023-08-31T23:38:42.233523Z",
     "shell.execute_reply": "2023-08-31T23:38:42.232626Z"
    },
    "papermill": {
     "duration": 0.012703,
     "end_time": "2023-08-31T23:38:42.235486",
     "exception": false,
     "start_time": "2023-08-31T23:38:42.222783",
     "status": "completed"
    },
    "tags": []
   },
   "outputs": [],
   "source": [
    "pd.Series({\n",
    "  'events': data.event_name.count(),\n",
    "  'audience': data.audience.sum().astype(int),\n",
    "  'errors': {\n",
    "    'missing_wards': (data.ward_code == 'UNKNOWN').value_counts()[True],\n",
    "    'missing_audience': data.audience.isna().value_counts()[True],\n",
    "    'zero_audience':  (data.audience < 1).value_counts()[True],  \n",
    "  }\n",
    "}).to_json(os.path.join(OUT_DIR, 'headlines.json'), indent=2)"
   ]
  },
  {
   "cell_type": "code",
   "execution_count": 6,
   "id": "6970aee9",
   "metadata": {
    "execution": {
     "iopub.execute_input": "2023-08-31T23:38:42.240939Z",
     "iopub.status.busy": "2023-08-31T23:38:42.240652Z",
     "iopub.status.idle": "2023-08-31T23:38:42.249355Z",
     "shell.execute_reply": "2023-08-31T23:38:42.248513Z"
    },
    "papermill": {
     "duration": 0.01427,
     "end_time": "2023-08-31T23:38:42.251742",
     "exception": false,
     "start_time": "2023-08-31T23:38:42.237472",
     "status": "completed"
    },
    "tags": []
   },
   "outputs": [],
   "source": [
    "by_ward = pd.DataFrame({\n",
    "  'events': data.groupby('ward_code').event_name.count().fillna(0).astype('int'),\n",
    "  'audience': data.groupby('ward_code').audience.sum().fillna(0).astype('int'),\n",
    "}).to_csv(os.path.join(OUT_DIR, 'by_ward.csv'))"
   ]
  },
  {
   "cell_type": "code",
   "execution_count": 7,
   "id": "e24510b0",
   "metadata": {
    "execution": {
     "iopub.execute_input": "2023-08-31T23:38:42.257099Z",
     "iopub.status.busy": "2023-08-31T23:38:42.256772Z",
     "iopub.status.idle": "2023-08-31T23:38:42.272460Z",
     "shell.execute_reply": "2023-08-31T23:38:42.271591Z"
    },
    "papermill": {
     "duration": 0.020777,
     "end_time": "2023-08-31T23:38:42.274394",
     "exception": false,
     "start_time": "2023-08-31T23:38:42.253617",
     "status": "completed"
    },
    "tags": []
   },
   "outputs": [],
   "source": [
    "by_date = pd.DataFrame({\n",
    "    'events': data.groupby('start_date').event_name.count(),\n",
    "    'audience': data.groupby('start_date').audience.sum(),\n",
    "}).resample('M').sum()\n",
    "\n",
    "pd.concat([\n",
    "    by_date,\n",
    "    by_date.pipe(named_cumulative_sum)\n",
    "], axis=1).astype('int').to_csv(os.path.join(OUT_DIR, 'by_date.csv'))"
   ]
  }
 ],
 "metadata": {
  "kernelspec": {
   "display_name": "leeds-2023-YZF5GfJv",
   "language": "python",
   "name": "python3"
  },
  "language_info": {
   "codemirror_mode": {
    "name": "ipython",
    "version": 3
   },
   "file_extension": ".py",
   "mimetype": "text/x-python",
   "name": "python",
   "nbconvert_exporter": "python",
   "pygments_lexer": "ipython3",
   "version": "3.10.12"
  },
  "papermill": {
   "default_parameters": {},
   "duration": 2.203624,
   "end_time": "2023-08-31T23:38:42.496440",
   "environment_variables": {},
   "exception": null,
   "input_path": "prepare.ipynb",
   "output_path": "../../../working/output/community-prepare.ipynb",
   "parameters": {},
   "start_time": "2023-08-31T23:38:40.292816",
   "version": "2.4.0"
  }
 },
 "nbformat": 4,
 "nbformat_minor": 5
}