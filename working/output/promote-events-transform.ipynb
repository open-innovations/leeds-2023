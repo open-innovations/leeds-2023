{
 "cells": [
  {
   "cell_type": "code",
   "execution_count": 1,
   "id": "c21db76e",
   "metadata": {
    "execution": {
     "iopub.execute_input": "2023-07-13T15:38:11.904230Z",
     "iopub.status.busy": "2023-07-13T15:38:11.903642Z",
     "iopub.status.idle": "2023-07-13T15:38:12.085442Z",
     "shell.execute_reply": "2023-07-13T15:38:12.085091Z"
    },
    "papermill": {
     "duration": 0.188716,
     "end_time": "2023-07-13T15:38:12.086526",
     "exception": false,
     "start_time": "2023-07-13T15:38:11.897810",
     "status": "completed"
    },
    "tags": []
   },
   "outputs": [],
   "source": [
    "import os\n",
    "import pandas as pd"
   ]
  },
  {
   "cell_type": "code",
   "execution_count": 2,
   "id": "d30687da",
   "metadata": {
    "execution": {
     "iopub.execute_input": "2023-07-13T15:38:12.088847Z",
     "iopub.status.busy": "2023-07-13T15:38:12.088647Z",
     "iopub.status.idle": "2023-07-13T15:38:12.090914Z",
     "shell.execute_reply": "2023-07-13T15:38:12.090561Z"
    },
    "papermill": {
     "duration": 0.004166,
     "end_time": "2023-07-13T15:38:12.091565",
     "exception": false,
     "start_time": "2023-07-13T15:38:12.087399",
     "status": "completed"
    },
    "tags": []
   },
   "outputs": [],
   "source": [
    "EVENTS_RAW_DATA = '../../../working/metrics/promote-events/events.csv'\n",
    "DATA_DIR = '../../../data/metrics/events/promote-events/'\n",
    "EVENTS_DATA = os.path.join(DATA_DIR, 'events.csv')"
   ]
  },
  {
   "cell_type": "code",
   "execution_count": 3,
   "id": "cabf4144",
   "metadata": {
    "execution": {
     "iopub.execute_input": "2023-07-13T15:38:12.093333Z",
     "iopub.status.busy": "2023-07-13T15:38:12.093139Z",
     "iopub.status.idle": "2023-07-13T15:38:12.095015Z",
     "shell.execute_reply": "2023-07-13T15:38:12.094716Z"
    },
    "papermill": {
     "duration": 0.003418,
     "end_time": "2023-07-13T15:38:12.095612",
     "exception": false,
     "start_time": "2023-07-13T15:38:12.092194",
     "status": "completed"
    },
    "tags": []
   },
   "outputs": [],
   "source": [
    "columns = {\n",
    "    'id': 'id',\n",
    "    'name': 'name',\n",
    "    'locationName': 'location',\n",
    "    'cardPrice': 'card_price',\n",
    "    'timeslots': 'time',\n",
    "    'displayOnWebsite': 'display',\n",
    "    'Stage': 'stage',\n",
    "}"
   ]
  },
  {
   "cell_type": "code",
   "execution_count": 4,
   "id": "a3cf64e9",
   "metadata": {
    "execution": {
     "iopub.execute_input": "2023-07-13T15:38:12.097406Z",
     "iopub.status.busy": "2023-07-13T15:38:12.097249Z",
     "iopub.status.idle": "2023-07-13T15:38:12.103630Z",
     "shell.execute_reply": "2023-07-13T15:38:12.103298Z"
    },
    "papermill": {
     "duration": 0.008043,
     "end_time": "2023-07-13T15:38:12.104271",
     "exception": false,
     "start_time": "2023-07-13T15:38:12.096228",
     "status": "completed"
    },
    "tags": []
   },
   "outputs": [],
   "source": [
    "data = pd.read_csv(EVENTS_RAW_DATA)[columns.keys()].rename(columns=columns)\n",
    "data.time = pd.to_datetime(data.time, errors='coerce')"
   ]
  },
  {
   "cell_type": "code",
   "execution_count": 5,
   "id": "ee80f57c",
   "metadata": {
    "execution": {
     "iopub.execute_input": "2023-07-13T15:38:12.106469Z",
     "iopub.status.busy": "2023-07-13T15:38:12.106304Z",
     "iopub.status.idle": "2023-07-13T15:38:12.111474Z",
     "shell.execute_reply": "2023-07-13T15:38:12.111116Z"
    },
    "papermill": {
     "duration": 0.007355,
     "end_time": "2023-07-13T15:38:12.112409",
     "exception": false,
     "start_time": "2023-07-13T15:38:12.105054",
     "status": "completed"
    },
    "tags": []
   },
   "outputs": [],
   "source": [
    "data.to_csv(os.path.join(DATA_DIR, 'events.csv'), index=False)"
   ]
  }
 ],
 "metadata": {
  "kernelspec": {
   "display_name": "leeds-2023-YZF5GfJv",
   "language": "python",
   "name": "python3"
  },
  "language_info": {
   "codemirror_mode": {
    "name": "ipython",
    "version": 3
   },
   "file_extension": ".py",
   "mimetype": "text/x-python",
   "name": "python",
   "nbconvert_exporter": "python",
   "pygments_lexer": "ipython3",
   "version": "3.10.6"
  },
  "papermill": {
   "default_parameters": {},
   "duration": 1.291624,
   "end_time": "2023-07-13T15:38:12.330900",
   "environment_variables": {},
   "exception": null,
   "input_path": "transform.ipynb",
   "output_path": "../../../working/output/promote-events-transform.ipynb",
   "parameters": {},
   "start_time": "2023-07-13T15:38:11.039276",
   "version": "2.4.0"
  }
 },
 "nbformat": 4,
 "nbformat_minor": 5
}