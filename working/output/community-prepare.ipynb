{
 "cells": [
  {
   "cell_type": "code",
   "execution_count": 1,
   "id": "de542896",
   "metadata": {
    "execution": {
     "iopub.execute_input": "2023-09-08T09:00:10.123701Z",
     "iopub.status.busy": "2023-09-08T09:00:10.123063Z",
     "iopub.status.idle": "2023-09-08T09:00:10.368211Z",
     "shell.execute_reply": "2023-09-08T09:00:10.367551Z"
    },
    "papermill": {
     "duration": 0.250384,
     "end_time": "2023-09-08T09:00:10.370096",
     "exception": false,
     "start_time": "2023-09-08T09:00:10.119712",
     "status": "completed"
    },
    "tags": []
   },
   "outputs": [],
   "source": [
    "import os, sys\n",
    "TOP_DIR = os.path.realpath('../../..')\n",
    "if TOP_DIR not in sys.path: sys.path.append(TOP_DIR)\n",
    "import pandas as pd"
   ]
  },
  {
   "cell_type": "code",
   "execution_count": 2,
   "id": "69567edc",
   "metadata": {
    "execution": {
     "iopub.execute_input": "2023-09-08T09:00:10.375382Z",
     "iopub.status.busy": "2023-09-08T09:00:10.375096Z",
     "iopub.status.idle": "2023-09-08T09:00:10.379139Z",
     "shell.execute_reply": "2023-09-08T09:00:10.378507Z"
    },
    "papermill": {
     "duration": 0.008512,
     "end_time": "2023-09-08T09:00:10.380616",
     "exception": false,
     "start_time": "2023-09-08T09:00:10.372104",
     "status": "completed"
    },
    "tags": []
   },
   "outputs": [],
   "source": [
    "from lib.util.convert import named_cumulative_sum"
   ]
  },
  {
   "cell_type": "code",
   "execution_count": 3,
   "id": "a4ac9956",
   "metadata": {
    "execution": {
     "iopub.execute_input": "2023-09-08T09:00:10.385159Z",
     "iopub.status.busy": "2023-09-08T09:00:10.384614Z",
     "iopub.status.idle": "2023-09-08T09:00:10.394704Z",
     "shell.execute_reply": "2023-09-08T09:00:10.394120Z"
    },
    "papermill": {
     "duration": 0.013854,
     "end_time": "2023-09-08T09:00:10.396147",
     "exception": false,
     "start_time": "2023-09-08T09:00:10.382293",
     "status": "completed"
    },
    "tags": []
   },
   "outputs": [],
   "source": [
    "data = pd.read_csv('../../../data/metrics/community/events.csv', parse_dates=['start_date'])\n",
    "data.ward_code = data.ward_code.fillna('UNKNOWN')"
   ]
  },
  {
   "cell_type": "markdown",
   "id": "3b87e335",
   "metadata": {
    "papermill": {
     "duration": 0.002101,
     "end_time": "2023-09-08T09:00:10.399956",
     "exception": false,
     "start_time": "2023-09-08T09:00:10.397855",
     "status": "completed"
    },
    "tags": []
   },
   "source": [
    "Set up output directories"
   ]
  },
  {
   "cell_type": "code",
   "execution_count": 4,
   "id": "5263c8cb",
   "metadata": {
    "execution": {
     "iopub.execute_input": "2023-09-08T09:00:10.404478Z",
     "iopub.status.busy": "2023-09-08T09:00:10.403960Z",
     "iopub.status.idle": "2023-09-08T09:00:10.407272Z",
     "shell.execute_reply": "2023-09-08T09:00:10.406633Z"
    },
    "papermill": {
     "duration": 0.007358,
     "end_time": "2023-09-08T09:00:10.408971",
     "exception": false,
     "start_time": "2023-09-08T09:00:10.401613",
     "status": "completed"
    },
    "tags": []
   },
   "outputs": [],
   "source": [
    "OUT_DIR = '../../../docs/metrics/community/_data'\n",
    "os.makedirs(OUT_DIR, exist_ok=True)"
   ]
  },
  {
   "cell_type": "code",
   "execution_count": 5,
   "id": "af0e0de2",
   "metadata": {
    "execution": {
     "iopub.execute_input": "2023-09-08T09:00:10.413479Z",
     "iopub.status.busy": "2023-09-08T09:00:10.413265Z",
     "iopub.status.idle": "2023-09-08T09:00:10.419589Z",
     "shell.execute_reply": "2023-09-08T09:00:10.418945Z"
    },
    "papermill": {
     "duration": 0.010404,
     "end_time": "2023-09-08T09:00:10.421118",
     "exception": false,
     "start_time": "2023-09-08T09:00:10.410714",
     "status": "completed"
    },
    "tags": []
   },
   "outputs": [],
   "source": [
    "pd.Series({\n",
    "  'events': data.event_name.count(),\n",
    "  'audience': data.audience.sum().astype(int),\n",
    "  'errors': {\n",
    "    'missing_wards': (data.ward_code == 'UNKNOWN').value_counts()[True],\n",
    "    'missing_audience': data.audience.isna().value_counts()[True],\n",
    "    'zero_audience':  (data.audience < 1).value_counts()[True],  \n",
    "  }\n",
    "}).to_json(os.path.join(OUT_DIR, 'headlines.json'), indent=2)"
   ]
  },
  {
   "cell_type": "code",
   "execution_count": 6,
   "id": "1b76a50b",
   "metadata": {
    "execution": {
     "iopub.execute_input": "2023-09-08T09:00:10.425650Z",
     "iopub.status.busy": "2023-09-08T09:00:10.425438Z",
     "iopub.status.idle": "2023-09-08T09:00:10.432544Z",
     "shell.execute_reply": "2023-09-08T09:00:10.431580Z"
    },
    "papermill": {
     "duration": 0.011135,
     "end_time": "2023-09-08T09:00:10.434018",
     "exception": false,
     "start_time": "2023-09-08T09:00:10.422883",
     "status": "completed"
    },
    "tags": []
   },
   "outputs": [],
   "source": [
    "by_ward = pd.DataFrame({\n",
    "  'events': data.groupby('ward_code').event_name.count().fillna(0).astype('int'),\n",
    "  'audience': data.groupby('ward_code').audience.sum().fillna(0).astype('int'),\n",
    "}).to_csv(os.path.join(OUT_DIR, 'by_ward.csv'))"
   ]
  },
  {
   "cell_type": "code",
   "execution_count": 7,
   "id": "fdfb1e7b",
   "metadata": {
    "execution": {
     "iopub.execute_input": "2023-09-08T09:00:10.438660Z",
     "iopub.status.busy": "2023-09-08T09:00:10.438453Z",
     "iopub.status.idle": "2023-09-08T09:00:10.450049Z",
     "shell.execute_reply": "2023-09-08T09:00:10.448952Z"
    },
    "papermill": {
     "duration": 0.015712,
     "end_time": "2023-09-08T09:00:10.451524",
     "exception": false,
     "start_time": "2023-09-08T09:00:10.435812",
     "status": "completed"
    },
    "tags": []
   },
   "outputs": [],
   "source": [
    "by_date = pd.DataFrame({\n",
    "    'events': data.groupby('start_date').event_name.count(),\n",
    "    'audience': data.groupby('start_date').audience.sum(),\n",
    "}).resample('M').sum()\n",
    "\n",
    "pd.concat([\n",
    "    by_date,\n",
    "    by_date.pipe(named_cumulative_sum)\n",
    "], axis=1).astype('int').to_csv(os.path.join(OUT_DIR, 'by_date.csv'))"
   ]
  }
 ],
 "metadata": {
  "kernelspec": {
   "display_name": "leeds-2023-YZF5GfJv",
   "language": "python",
   "name": "python3"
  },
  "language_info": {
   "codemirror_mode": {
    "name": "ipython",
    "version": 3
   },
   "file_extension": ".py",
   "mimetype": "text/x-python",
   "name": "python",
   "nbconvert_exporter": "python",
   "pygments_lexer": "ipython3",
   "version": "3.10.13"
  },
  "papermill": {
   "default_parameters": {},
   "duration": 1.888255,
   "end_time": "2023-09-08T09:00:10.669229",
   "environment_variables": {},
   "exception": null,
   "input_path": "prepare.ipynb",
   "output_path": "../../../working/output/community-prepare.ipynb",
   "parameters": {},
   "start_time": "2023-09-08T09:00:08.780974",
   "version": "2.4.0"
  }
 },
 "nbformat": 4,
 "nbformat_minor": 5
}