{
 "cells": [
  {
   "cell_type": "code",
   "execution_count": 1,
   "id": "9ed232de",
   "metadata": {
    "execution": {
     "iopub.execute_input": "2023-12-28T23:39:15.074143Z",
     "iopub.status.busy": "2023-12-28T23:39:15.073968Z",
     "iopub.status.idle": "2023-12-28T23:39:15.311305Z",
     "shell.execute_reply": "2023-12-28T23:39:15.310733Z"
    },
    "papermill": {
     "duration": 0.242591,
     "end_time": "2023-12-28T23:39:15.312939",
     "exception": false,
     "start_time": "2023-12-28T23:39:15.070348",
     "status": "completed"
    },
    "tags": []
   },
   "outputs": [],
   "source": [
    "from pathlib import Path\n",
    "import pandas as pd"
   ]
  },
  {
   "cell_type": "markdown",
   "id": "d53ef8f5",
   "metadata": {
    "papermill": {
     "duration": 0.002172,
     "end_time": "2023-12-28T23:39:15.317682",
     "exception": false,
     "start_time": "2023-12-28T23:39:15.315510",
     "status": "completed"
    },
    "tags": []
   },
   "source": [
    "Load the orders data which was created in the [transform stage](./tickets.ipynb)."
   ]
  },
  {
   "cell_type": "code",
   "execution_count": 2,
   "id": "138c8381",
   "metadata": {
    "execution": {
     "iopub.execute_input": "2023-12-28T23:39:15.323200Z",
     "iopub.status.busy": "2023-12-28T23:39:15.322739Z",
     "iopub.status.idle": "2023-12-28T23:39:15.341262Z",
     "shell.execute_reply": "2023-12-28T23:39:15.340759Z"
    },
    "papermill": {
     "duration": 0.022723,
     "end_time": "2023-12-28T23:39:15.342576",
     "exception": false,
     "start_time": "2023-12-28T23:39:15.319853",
     "status": "completed"
    },
    "tags": []
   },
   "outputs": [],
   "source": [
    "def prepare(data: pd.DataFrame) -> pd.DataFrame:\n",
    "    data = data.loc[\n",
    "        (\n",
    "            data.public_event == True\n",
    "        ) & (\n",
    "            ~data.project_name.isin([\n",
    "                'Skills Development',\n",
    "            ])\n",
    "        )\n",
    "    ]\n",
    "    data = data.drop(columns=['public_event'])\n",
    "    return data\n",
    "\n",
    "\n",
    "orders = pd.read_csv(\n",
    "    '../../../../data/metrics/events/tickets/orders.csv',\n",
    "    usecols=[\n",
    "        'created_at',\n",
    "        'project_name',\n",
    "        'public_event',\n",
    "        'number_of_tickets'\n",
    "    ],\n",
    "    parse_dates=['created_at']\n",
    ").pipe(prepare)"
   ]
  },
  {
   "cell_type": "markdown",
   "id": "cbf425be",
   "metadata": {
    "papermill": {
     "duration": 0.002104,
     "end_time": "2023-12-28T23:39:15.346870",
     "exception": false,
     "start_time": "2023-12-28T23:39:15.344766",
     "status": "completed"
    },
    "tags": []
   },
   "source": [
    "Define functions to count and sum tickets, and to append cumulative versions of those."
   ]
  },
  {
   "cell_type": "code",
   "execution_count": 3,
   "id": "f60ea5aa",
   "metadata": {
    "execution": {
     "iopub.execute_input": "2023-12-28T23:39:15.352045Z",
     "iopub.status.busy": "2023-12-28T23:39:15.351852Z",
     "iopub.status.idle": "2023-12-28T23:39:15.355708Z",
     "shell.execute_reply": "2023-12-28T23:39:15.355196Z"
    },
    "papermill": {
     "duration": 0.00794,
     "end_time": "2023-12-28T23:39:15.356933",
     "exception": false,
     "start_time": "2023-12-28T23:39:15.348993",
     "status": "completed"
    },
    "tags": []
   },
   "outputs": [],
   "source": [
    "def count_and_sum(series):\n",
    "    return pd.concat([\n",
    "        series.count().to_frame('orders'),\n",
    "        series.sum().to_frame('tickets'),\n",
    "    ], axis=1)\n",
    "\n",
    "\n",
    "def cumulate(df: pd.DataFrame) -> pd.DataFrame:\n",
    "    return pd.concat([\n",
    "        df,\n",
    "        df.cumsum().rename(columns=lambda x: f'cumulative_{x}')\n",
    "    ], axis=1)"
   ]
  },
  {
   "cell_type": "markdown",
   "id": "5659cce2",
   "metadata": {
    "papermill": {
     "duration": 0.002133,
     "end_time": "2023-12-28T23:39:15.361205",
     "exception": false,
     "start_time": "2023-12-28T23:39:15.359072",
     "status": "completed"
    },
    "tags": []
   },
   "source": [
    "Create output directory"
   ]
  },
  {
   "cell_type": "code",
   "execution_count": 4,
   "id": "06d96772",
   "metadata": {
    "execution": {
     "iopub.execute_input": "2023-12-28T23:39:15.366618Z",
     "iopub.status.busy": "2023-12-28T23:39:15.366143Z",
     "iopub.status.idle": "2023-12-28T23:39:15.369470Z",
     "shell.execute_reply": "2023-12-28T23:39:15.368849Z"
    },
    "papermill": {
     "duration": 0.007418,
     "end_time": "2023-12-28T23:39:15.370796",
     "exception": false,
     "start_time": "2023-12-28T23:39:15.363378",
     "status": "completed"
    },
    "tags": []
   },
   "outputs": [],
   "source": [
    "OUTPUT_DIR = Path('../../../../docs/metrics/tickets/_data/')\n",
    "OUTPUT_DIR.mkdir(parents=True, exist_ok=True)"
   ]
  },
  {
   "cell_type": "markdown",
   "id": "2be46ff0",
   "metadata": {
    "papermill": {
     "duration": 0.00216,
     "end_time": "2023-12-28T23:39:15.375971",
     "exception": false,
     "start_time": "2023-12-28T23:39:15.373811",
     "status": "completed"
    },
    "tags": []
   },
   "source": [
    "Count / sum the orders and tickets by project code and save to a JSON file"
   ]
  },
  {
   "cell_type": "code",
   "execution_count": 5,
   "id": "3125cadd",
   "metadata": {
    "execution": {
     "iopub.execute_input": "2023-12-28T23:39:15.381186Z",
     "iopub.status.busy": "2023-12-28T23:39:15.380851Z",
     "iopub.status.idle": "2023-12-28T23:39:15.387105Z",
     "shell.execute_reply": "2023-12-28T23:39:15.386499Z"
    },
    "papermill": {
     "duration": 0.010435,
     "end_time": "2023-12-28T23:39:15.388544",
     "exception": false,
     "start_time": "2023-12-28T23:39:15.378109",
     "status": "completed"
    },
    "tags": []
   },
   "outputs": [],
   "source": [
    "by_project = orders.groupby('project_name').number_of_tickets.pipe(count_and_sum)\n",
    "by_project.loc['total']= by_project.sum()\n",
    "by_project.T.to_json(\n",
    "  OUTPUT_DIR.joinpath('headlines.json'),\n",
    "  indent=2\n",
    ")"
   ]
  },
  {
   "cell_type": "markdown",
   "id": "7c8216b9",
   "metadata": {
    "papermill": {
     "duration": 0.002239,
     "end_time": "2023-12-28T23:39:15.392950",
     "exception": false,
     "start_time": "2023-12-28T23:39:15.390711",
     "status": "completed"
    },
    "tags": []
   },
   "source": [
    "Add `day` column"
   ]
  },
  {
   "cell_type": "code",
   "execution_count": 6,
   "id": "c93e83cc",
   "metadata": {
    "execution": {
     "iopub.execute_input": "2023-12-28T23:39:15.398230Z",
     "iopub.status.busy": "2023-12-28T23:39:15.397917Z",
     "iopub.status.idle": "2023-12-28T23:39:15.401863Z",
     "shell.execute_reply": "2023-12-28T23:39:15.401238Z"
    },
    "papermill": {
     "duration": 0.008075,
     "end_time": "2023-12-28T23:39:15.403201",
     "exception": false,
     "start_time": "2023-12-28T23:39:15.395126",
     "status": "completed"
    },
    "tags": []
   },
   "outputs": [],
   "source": [
    "orders['day'] = orders.created_at.dt.floor('D')"
   ]
  },
  {
   "cell_type": "code",
   "execution_count": 7,
   "id": "21552757",
   "metadata": {
    "execution": {
     "iopub.execute_input": "2023-12-28T23:39:15.408457Z",
     "iopub.status.busy": "2023-12-28T23:39:15.408270Z",
     "iopub.status.idle": "2023-12-28T23:39:15.417808Z",
     "shell.execute_reply": "2023-12-28T23:39:15.417207Z"
    },
    "papermill": {
     "duration": 0.013684,
     "end_time": "2023-12-28T23:39:15.419124",
     "exception": false,
     "start_time": "2023-12-28T23:39:15.405440",
     "status": "completed"
    },
    "tags": []
   },
   "outputs": [
    {
     "data": {
      "text/html": [
       "<div>\n",
       "<style scoped>\n",
       "    .dataframe tbody tr th:only-of-type {\n",
       "        vertical-align: middle;\n",
       "    }\n",
       "\n",
       "    .dataframe tbody tr th {\n",
       "        vertical-align: top;\n",
       "    }\n",
       "\n",
       "    .dataframe thead th {\n",
       "        text-align: right;\n",
       "    }\n",
       "</style>\n",
       "<table border=\"1\" class=\"dataframe\">\n",
       "  <thead>\n",
       "    <tr style=\"text-align: right;\">\n",
       "      <th></th>\n",
       "      <th>created_at</th>\n",
       "      <th>day</th>\n",
       "    </tr>\n",
       "  </thead>\n",
       "  <tbody>\n",
       "    <tr>\n",
       "      <th>176</th>\n",
       "      <td>2023-03-30 16:58:03</td>\n",
       "      <td>2023-03-30</td>\n",
       "    </tr>\n",
       "    <tr>\n",
       "      <th>177</th>\n",
       "      <td>2023-03-30 18:44:08</td>\n",
       "      <td>2023-03-30</td>\n",
       "    </tr>\n",
       "    <tr>\n",
       "      <th>180</th>\n",
       "      <td>2023-03-30 20:32:43</td>\n",
       "      <td>2023-03-30</td>\n",
       "    </tr>\n",
       "    <tr>\n",
       "      <th>181</th>\n",
       "      <td>2023-03-30 21:27:59</td>\n",
       "      <td>2023-03-30</td>\n",
       "    </tr>\n",
       "    <tr>\n",
       "      <th>183</th>\n",
       "      <td>2023-03-30 22:56:31</td>\n",
       "      <td>2023-03-30</td>\n",
       "    </tr>\n",
       "  </tbody>\n",
       "</table>\n",
       "</div>"
      ],
      "text/plain": [
       "             created_at        day\n",
       "176 2023-03-30 16:58:03 2023-03-30\n",
       "177 2023-03-30 18:44:08 2023-03-30\n",
       "180 2023-03-30 20:32:43 2023-03-30\n",
       "181 2023-03-30 21:27:59 2023-03-30\n",
       "183 2023-03-30 22:56:31 2023-03-30"
      ]
     },
     "execution_count": 7,
     "metadata": {},
     "output_type": "execute_result"
    }
   ],
   "source": [
    "orders.loc[:, ['created_at', 'day']].head()"
   ]
  },
  {
   "cell_type": "markdown",
   "id": "1ecc1841",
   "metadata": {
    "papermill": {
     "duration": 0.002549,
     "end_time": "2023-12-28T23:39:15.424295",
     "exception": false,
     "start_time": "2023-12-28T23:39:15.421746",
     "status": "completed"
    },
    "tags": []
   },
   "source": [
    "Save table cumulative weekly per project"
   ]
  },
  {
   "cell_type": "code",
   "execution_count": 8,
   "id": "d27b1d9a",
   "metadata": {
    "execution": {
     "iopub.execute_input": "2023-12-28T23:39:15.430094Z",
     "iopub.status.busy": "2023-12-28T23:39:15.429747Z",
     "iopub.status.idle": "2023-12-28T23:39:15.439783Z",
     "shell.execute_reply": "2023-12-28T23:39:15.439174Z"
    },
    "papermill": {
     "duration": 0.014337,
     "end_time": "2023-12-28T23:39:15.440990",
     "exception": false,
     "start_time": "2023-12-28T23:39:15.426653",
     "status": "completed"
    },
    "tags": []
   },
   "outputs": [],
   "source": [
    "orders.groupby(\n",
    "  ['day', 'project_name']\n",
    ").number_of_tickets.pipe(\n",
    "  count_and_sum\n",
    ").tickets.unstack().fillna(0).resample('W-FRI').sum().cumsum().rename_axis('week').to_csv(\n",
    "  OUTPUT_DIR.joinpath('by_project_cumulative_weekly.csv')\n",
    ")"
   ]
  },
  {
   "cell_type": "markdown",
   "id": "41e48bdc",
   "metadata": {
    "papermill": {
     "duration": 0.002506,
     "end_time": "2023-12-28T23:39:15.446026",
     "exception": false,
     "start_time": "2023-12-28T23:39:15.443520",
     "status": "completed"
    },
    "tags": []
   },
   "source": [
    "Save cumulative monthly sales"
   ]
  },
  {
   "cell_type": "code",
   "execution_count": 9,
   "id": "56a1a2a7",
   "metadata": {
    "execution": {
     "iopub.execute_input": "2023-12-28T23:39:15.451831Z",
     "iopub.status.busy": "2023-12-28T23:39:15.451596Z",
     "iopub.status.idle": "2023-12-28T23:39:15.458858Z",
     "shell.execute_reply": "2023-12-28T23:39:15.458374Z"
    },
    "papermill": {
     "duration": 0.011724,
     "end_time": "2023-12-28T23:39:15.460190",
     "exception": false,
     "start_time": "2023-12-28T23:39:15.448466",
     "status": "completed"
    },
    "tags": []
   },
   "outputs": [],
   "source": [
    "orders.groupby(['day']).number_of_tickets.pipe(count_and_sum).resample('MS').sum().pipe(cumulate).rename_axis('month').to_csv(\n",
    "  OUTPUT_DIR.joinpath('monthly_cumulative.csv')\n",
    ")"
   ]
  },
  {
   "cell_type": "code",
   "execution_count": null,
   "id": "1f970789",
   "metadata": {
    "papermill": {
     "duration": 0.002501,
     "end_time": "2023-12-28T23:39:15.465145",
     "exception": false,
     "start_time": "2023-12-28T23:39:15.462644",
     "status": "completed"
    },
    "tags": []
   },
   "outputs": [],
   "source": []
  }
 ],
 "metadata": {
  "kernelspec": {
   "display_name": "leeds-2023-YZF5GfJv",
   "language": "python",
   "name": "python3"
  },
  "language_info": {
   "codemirror_mode": {
    "name": "ipython",
    "version": 3
   },
   "file_extension": ".py",
   "mimetype": "text/x-python",
   "name": "python",
   "nbconvert_exporter": "python",
   "pygments_lexer": "ipython3",
   "version": "3.10.13"
  },
  "papermill": {
   "default_parameters": {},
   "duration": 1.844511,
   "end_time": "2023-12-28T23:39:15.683436",
   "environment_variables": {},
   "exception": null,
   "input_path": "prepare.ipynb",
   "output_path": "../../../../working/output/tickets-prepare.ipynb",
   "parameters": {},
   "start_time": "2023-12-28T23:39:13.838925",
   "version": "2.4.0"
  }
 },
 "nbformat": 4,
 "nbformat_minor": 5
}