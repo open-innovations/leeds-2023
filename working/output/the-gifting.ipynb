{
 "cells": [
  {
   "cell_type": "markdown",
   "id": "eb0b3876",
   "metadata": {
    "papermill": {
     "duration": 0.0021,
     "end_time": "2024-01-23T11:48:10.896799",
     "exception": false,
     "start_time": "2024-01-23T11:48:10.894699",
     "status": "completed"
    },
    "tags": []
   },
   "source": [
    "# The Gifting & Northern Dreaming"
   ]
  },
  {
   "cell_type": "code",
   "execution_count": 1,
   "id": "07bcb846",
   "metadata": {
    "execution": {
     "iopub.execute_input": "2024-01-23T11:48:10.901482Z",
     "iopub.status.busy": "2024-01-23T11:48:10.901130Z",
     "iopub.status.idle": "2024-01-23T11:48:16.099085Z",
     "shell.execute_reply": "2024-01-23T11:48:16.098658Z"
    },
    "papermill": {
     "duration": 5.201523,
     "end_time": "2024-01-23T11:48:16.100090",
     "exception": false,
     "start_time": "2024-01-23T11:48:10.898567",
     "status": "completed"
    },
    "tags": []
   },
   "outputs": [],
   "source": [
    "import os\n",
    "\n",
    "import pandas as pd\n",
    "import ticket_helpers\n",
    "from events import (filter_by_project, filter_community_events,\n",
    "                    filter_public_events, filter_school_events, load_raw_data,\n",
    "                    prepare, save_files)"
   ]
  },
  {
   "cell_type": "markdown",
   "id": "ea8f0f0e",
   "metadata": {
    "papermill": {
     "duration": 0.001648,
     "end_time": "2024-01-23T11:48:16.103577",
     "exception": false,
     "start_time": "2024-01-23T11:48:16.101929",
     "status": "completed"
    },
    "tags": []
   },
   "source": [
    "Set output directory"
   ]
  },
  {
   "cell_type": "code",
   "execution_count": 2,
   "id": "798b4bd6",
   "metadata": {
    "execution": {
     "iopub.execute_input": "2024-01-23T11:48:16.107367Z",
     "iopub.status.busy": "2024-01-23T11:48:16.107206Z",
     "iopub.status.idle": "2024-01-23T11:48:16.109219Z",
     "shell.execute_reply": "2024-01-23T11:48:16.108953Z"
    },
    "papermill": {
     "duration": 0.00471,
     "end_time": "2024-01-23T11:48:16.109861",
     "exception": false,
     "start_time": "2024-01-23T11:48:16.105151",
     "status": "completed"
    },
    "tags": []
   },
   "outputs": [],
   "source": [
    "OUT_DIR = '../../../../docs/metrics/events/the-gifting/_data/events'"
   ]
  },
  {
   "cell_type": "markdown",
   "id": "d739c26b",
   "metadata": {
    "papermill": {
     "duration": 0.001569,
     "end_time": "2024-01-23T11:48:16.113022",
     "exception": false,
     "start_time": "2024-01-23T11:48:16.111453",
     "status": "completed"
    },
    "tags": []
   },
   "source": [
    "The criteria are:\n",
    "\n",
    "* project type is 'Produce (Signature)'\n",
    "* event_type contains 'Public Event -'\n",
    "\n",
    "It's then filtered by project_name is \"13 - The Gifting\""
   ]
  },
  {
   "cell_type": "code",
   "execution_count": 3,
   "id": "9e5732fa",
   "metadata": {
    "execution": {
     "iopub.execute_input": "2024-01-23T11:48:16.116722Z",
     "iopub.status.busy": "2024-01-23T11:48:16.116558Z",
     "iopub.status.idle": "2024-01-23T11:48:16.123746Z",
     "shell.execute_reply": "2024-01-23T11:48:16.123437Z"
    },
    "papermill": {
     "duration": 0.009866,
     "end_time": "2024-01-23T11:48:16.124448",
     "exception": false,
     "start_time": "2024-01-23T11:48:16.114582",
     "status": "completed"
    },
    "tags": []
   },
   "outputs": [],
   "source": [
    "data = load_raw_data().pipe(filter_by_project, \"13 - The Gifting\")\n",
    "data = data.loc[data.event_type.notna()]"
   ]
  },
  {
   "cell_type": "markdown",
   "id": "3f47018b",
   "metadata": {
    "papermill": {
     "duration": 0.001542,
     "end_time": "2024-01-23T11:48:16.127664",
     "exception": false,
     "start_time": "2024-01-23T11:48:16.126122",
     "status": "completed"
    },
    "tags": []
   },
   "source": [
    "Run the processing and save the files"
   ]
  },
  {
   "cell_type": "code",
   "execution_count": 4,
   "id": "a81eabdf",
   "metadata": {
    "execution": {
     "iopub.execute_input": "2024-01-23T11:48:16.131847Z",
     "iopub.status.busy": "2024-01-23T11:48:16.131672Z",
     "iopub.status.idle": "2024-01-23T11:48:16.152578Z",
     "shell.execute_reply": "2024-01-23T11:48:16.152279Z"
    },
    "papermill": {
     "duration": 0.023584,
     "end_time": "2024-01-23T11:48:16.153279",
     "exception": false,
     "start_time": "2024-01-23T11:48:16.129695",
     "status": "completed"
    },
    "tags": []
   },
   "outputs": [
    {
     "data": {
      "text/html": [
       "<div>\n",
       "<style scoped>\n",
       "    .dataframe tbody tr th:only-of-type {\n",
       "        vertical-align: middle;\n",
       "    }\n",
       "\n",
       "    .dataframe tbody tr th {\n",
       "        vertical-align: top;\n",
       "    }\n",
       "\n",
       "    .dataframe thead th {\n",
       "        text-align: right;\n",
       "    }\n",
       "</style>\n",
       "<table border=\"1\" class=\"dataframe\">\n",
       "  <thead>\n",
       "    <tr style=\"text-align: right;\">\n",
       "      <th></th>\n",
       "      <th>actual_audience_size_number_of_participants_in_person</th>\n",
       "      <th>actual_audience_size_number_of_participants_online</th>\n",
       "      <th>airtable_id</th>\n",
       "      <th>end_date</th>\n",
       "      <th>event_name</th>\n",
       "      <th>event_type</th>\n",
       "      <th>event_unique_identifier</th>\n",
       "      <th>number_of_booked_participants</th>\n",
       "      <th>postcode_(from_venue)</th>\n",
       "      <th>project_name</th>\n",
       "      <th>project_type</th>\n",
       "      <th>season</th>\n",
       "      <th>start_date</th>\n",
       "      <th>status</th>\n",
       "      <th>ticket_tailor_id</th>\n",
       "      <th>ward_(from_venue)</th>\n",
       "      <th>ward_name</th>\n",
       "      <th>ward_code</th>\n",
       "      <th>audience_size</th>\n",
       "    </tr>\n",
       "  </thead>\n",
       "  <tbody>\n",
       "    <tr>\n",
       "      <th>1222</th>\n",
       "      <td>2771.0</td>\n",
       "      <td>NaN</td>\n",
       "      <td>270</td>\n",
       "      <td>2023-12-31</td>\n",
       "      <td>The Gifting</td>\n",
       "      <td>['Public Event - Large Scale Outdoor Event']</td>\n",
       "      <td>13 - The Gifting: The Gifting</td>\n",
       "      <td>NaN</td>\n",
       "      <td>['LS12 1AP']</td>\n",
       "      <td>13 - The Gifting</td>\n",
       "      <td>Produce (Signature)</td>\n",
       "      <td>['Season 3 - Dreaming']</td>\n",
       "      <td>2023-12-22</td>\n",
       "      <td>01 - Greenlit</td>\n",
       "      <td>ev_3027783, ev_2994143, ev_2994144, ev_2994146...</td>\n",
       "      <td>NaN</td>\n",
       "      <td>&lt;NA&gt;</td>\n",
       "      <td>NaN</td>\n",
       "      <td>2771.0</td>\n",
       "    </tr>\n",
       "  </tbody>\n",
       "</table>\n",
       "</div>"
      ],
      "text/plain": [
       "      actual_audience_size_number_of_participants_in_person  \\\n",
       "1222                                             2771.0       \n",
       "\n",
       "      actual_audience_size_number_of_participants_online  airtable_id  \\\n",
       "1222                                                NaN           270   \n",
       "\n",
       "        end_date   event_name                                    event_type  \\\n",
       "1222  2023-12-31  The Gifting  ['Public Event - Large Scale Outdoor Event']   \n",
       "\n",
       "            event_unique_identifier  number_of_booked_participants  \\\n",
       "1222  13 - The Gifting: The Gifting                            NaN   \n",
       "\n",
       "     postcode_(from_venue)      project_name         project_type  \\\n",
       "1222          ['LS12 1AP']  13 - The Gifting  Produce (Signature)   \n",
       "\n",
       "                       season start_date         status  \\\n",
       "1222  ['Season 3 - Dreaming'] 2023-12-22  01 - Greenlit   \n",
       "\n",
       "                                       ticket_tailor_id ward_(from_venue)  \\\n",
       "1222  ev_3027783, ev_2994143, ev_2994144, ev_2994146...               NaN   \n",
       "\n",
       "     ward_name ward_code  audience_size  \n",
       "1222      <NA>       NaN         2771.0  "
      ]
     },
     "execution_count": 4,
     "metadata": {},
     "output_type": "execute_result"
    }
   ],
   "source": [
    "data.pipe(prepare).pipe(save_files, OUT_DIR)"
   ]
  },
  {
   "cell_type": "markdown",
   "id": "d330d6f0",
   "metadata": {
    "papermill": {
     "duration": 0.00174,
     "end_time": "2024-01-23T11:48:16.156820",
     "exception": false,
     "start_time": "2024-01-23T11:48:16.155080",
     "status": "completed"
    },
    "tags": []
   },
   "source": [
    "Filter by public events"
   ]
  },
  {
   "cell_type": "code",
   "execution_count": 5,
   "id": "56d468a9",
   "metadata": {
    "execution": {
     "iopub.execute_input": "2024-01-23T11:48:16.160705Z",
     "iopub.status.busy": "2024-01-23T11:48:16.160540Z",
     "iopub.status.idle": "2024-01-23T11:48:16.179223Z",
     "shell.execute_reply": "2024-01-23T11:48:16.178894Z"
    },
    "papermill": {
     "duration": 0.021523,
     "end_time": "2024-01-23T11:48:16.179962",
     "exception": false,
     "start_time": "2024-01-23T11:48:16.158439",
     "status": "completed"
    },
    "tags": []
   },
   "outputs": [
    {
     "data": {
      "text/html": [
       "<div>\n",
       "<style scoped>\n",
       "    .dataframe tbody tr th:only-of-type {\n",
       "        vertical-align: middle;\n",
       "    }\n",
       "\n",
       "    .dataframe tbody tr th {\n",
       "        vertical-align: top;\n",
       "    }\n",
       "\n",
       "    .dataframe thead th {\n",
       "        text-align: right;\n",
       "    }\n",
       "</style>\n",
       "<table border=\"1\" class=\"dataframe\">\n",
       "  <thead>\n",
       "    <tr style=\"text-align: right;\">\n",
       "      <th></th>\n",
       "      <th>actual_audience_size_number_of_participants_in_person</th>\n",
       "      <th>actual_audience_size_number_of_participants_online</th>\n",
       "      <th>airtable_id</th>\n",
       "      <th>end_date</th>\n",
       "      <th>event_name</th>\n",
       "      <th>event_type</th>\n",
       "      <th>event_unique_identifier</th>\n",
       "      <th>number_of_booked_participants</th>\n",
       "      <th>postcode_(from_venue)</th>\n",
       "      <th>project_name</th>\n",
       "      <th>project_type</th>\n",
       "      <th>season</th>\n",
       "      <th>start_date</th>\n",
       "      <th>status</th>\n",
       "      <th>ticket_tailor_id</th>\n",
       "      <th>ward_(from_venue)</th>\n",
       "    </tr>\n",
       "  </thead>\n",
       "  <tbody>\n",
       "    <tr>\n",
       "      <th>1222</th>\n",
       "      <td>2771.0</td>\n",
       "      <td>NaN</td>\n",
       "      <td>270</td>\n",
       "      <td>2023-12-31</td>\n",
       "      <td>The Gifting</td>\n",
       "      <td>['Public Event - Large Scale Outdoor Event']</td>\n",
       "      <td>13 - The Gifting: The Gifting</td>\n",
       "      <td>NaN</td>\n",
       "      <td>['LS12 1AP']</td>\n",
       "      <td>13 - The Gifting</td>\n",
       "      <td>Produce (Signature)</td>\n",
       "      <td>['Season 3 - Dreaming']</td>\n",
       "      <td>2023-12-22</td>\n",
       "      <td>01 - Greenlit</td>\n",
       "      <td>ev_3027783, ev_2994143, ev_2994144, ev_2994146...</td>\n",
       "      <td>NaN</td>\n",
       "    </tr>\n",
       "  </tbody>\n",
       "</table>\n",
       "</div>"
      ],
      "text/plain": [
       "      actual_audience_size_number_of_participants_in_person  \\\n",
       "1222                                             2771.0       \n",
       "\n",
       "      actual_audience_size_number_of_participants_online  airtable_id  \\\n",
       "1222                                                NaN           270   \n",
       "\n",
       "        end_date   event_name                                    event_type  \\\n",
       "1222  2023-12-31  The Gifting  ['Public Event - Large Scale Outdoor Event']   \n",
       "\n",
       "            event_unique_identifier  number_of_booked_participants  \\\n",
       "1222  13 - The Gifting: The Gifting                            NaN   \n",
       "\n",
       "     postcode_(from_venue)      project_name         project_type  \\\n",
       "1222          ['LS12 1AP']  13 - The Gifting  Produce (Signature)   \n",
       "\n",
       "                       season start_date         status  \\\n",
       "1222  ['Season 3 - Dreaming'] 2023-12-22  01 - Greenlit   \n",
       "\n",
       "                                       ticket_tailor_id ward_(from_venue)  \n",
       "1222  ev_3027783, ev_2994143, ev_2994144, ev_2994146...               NaN  "
      ]
     },
     "execution_count": 5,
     "metadata": {},
     "output_type": "execute_result"
    }
   ],
   "source": [
    "PUBLIC_EVENTS_DIR = OUT_DIR+'/public'\n",
    "os.makedirs(PUBLIC_EVENTS_DIR, exist_ok=True)\n",
    "\n",
    "\n",
    "data.pipe(filter_public_events).pipe(prepare).pipe(save_files, PUBLIC_EVENTS_DIR)\n",
    "data"
   ]
  },
  {
   "cell_type": "markdown",
   "id": "f6e11d99",
   "metadata": {
    "papermill": {
     "duration": 0.001786,
     "end_time": "2024-01-23T11:48:16.183673",
     "exception": false,
     "start_time": "2024-01-23T11:48:16.181887",
     "status": "completed"
    },
    "tags": []
   },
   "source": [
    "Filter by Community events"
   ]
  },
  {
   "cell_type": "code",
   "execution_count": 6,
   "id": "42ccd397",
   "metadata": {
    "execution": {
     "iopub.execute_input": "2024-01-23T11:48:16.187874Z",
     "iopub.status.busy": "2024-01-23T11:48:16.187678Z",
     "iopub.status.idle": "2024-01-23T11:48:16.189445Z",
     "shell.execute_reply": "2024-01-23T11:48:16.189205Z"
    },
    "papermill": {
     "duration": 0.004612,
     "end_time": "2024-01-23T11:48:16.190037",
     "exception": false,
     "start_time": "2024-01-23T11:48:16.185425",
     "status": "completed"
    },
    "tags": []
   },
   "outputs": [],
   "source": [
    "# COMMUNITY_EVENTS_DIR = OUT_DIR+'/community'\n",
    "# os.makedirs(COMMUNITY_EVENTS_DIR, exist_ok=True)\n",
    "\n",
    "# data.pipe(filter_community_events).pipe(prepare).pipe(save_files, COMMUNITY_EVENTS_DIR)"
   ]
  },
  {
   "cell_type": "markdown",
   "id": "d2236071",
   "metadata": {
    "papermill": {
     "duration": 0.001745,
     "end_time": "2024-01-23T11:48:16.193584",
     "exception": false,
     "start_time": "2024-01-23T11:48:16.191839",
     "status": "completed"
    },
    "tags": []
   },
   "source": [
    "Filter by Schools events"
   ]
  },
  {
   "cell_type": "code",
   "execution_count": 7,
   "id": "6c254ae3",
   "metadata": {
    "execution": {
     "iopub.execute_input": "2024-01-23T11:48:16.197783Z",
     "iopub.status.busy": "2024-01-23T11:48:16.197596Z",
     "iopub.status.idle": "2024-01-23T11:48:16.209748Z",
     "shell.execute_reply": "2024-01-23T11:48:16.209485Z"
    },
    "papermill": {
     "duration": 0.015074,
     "end_time": "2024-01-23T11:48:16.210438",
     "exception": false,
     "start_time": "2024-01-23T11:48:16.195364",
     "status": "completed"
    },
    "tags": []
   },
   "outputs": [
    {
     "data": {
      "text/html": [
       "<div>\n",
       "<style scoped>\n",
       "    .dataframe tbody tr th:only-of-type {\n",
       "        vertical-align: middle;\n",
       "    }\n",
       "\n",
       "    .dataframe tbody tr th {\n",
       "        vertical-align: top;\n",
       "    }\n",
       "\n",
       "    .dataframe thead th {\n",
       "        text-align: right;\n",
       "    }\n",
       "</style>\n",
       "<table border=\"1\" class=\"dataframe\">\n",
       "  <thead>\n",
       "    <tr style=\"text-align: right;\">\n",
       "      <th></th>\n",
       "      <th>actual_audience_size_number_of_participants_in_person</th>\n",
       "      <th>actual_audience_size_number_of_participants_online</th>\n",
       "      <th>airtable_id</th>\n",
       "      <th>end_date</th>\n",
       "      <th>event_name</th>\n",
       "      <th>event_type</th>\n",
       "      <th>event_unique_identifier</th>\n",
       "      <th>number_of_booked_participants</th>\n",
       "      <th>postcode_(from_venue)</th>\n",
       "      <th>project_name</th>\n",
       "      <th>project_type</th>\n",
       "      <th>season</th>\n",
       "      <th>start_date</th>\n",
       "      <th>status</th>\n",
       "      <th>ticket_tailor_id</th>\n",
       "      <th>ward_(from_venue)</th>\n",
       "      <th>ward_name</th>\n",
       "      <th>ward_code</th>\n",
       "      <th>audience_size</th>\n",
       "    </tr>\n",
       "  </thead>\n",
       "  <tbody>\n",
       "  </tbody>\n",
       "</table>\n",
       "</div>"
      ],
      "text/plain": [
       "Empty DataFrame\n",
       "Columns: [actual_audience_size_number_of_participants_in_person, actual_audience_size_number_of_participants_online, airtable_id, end_date, event_name, event_type, event_unique_identifier, number_of_booked_participants, postcode_(from_venue), project_name, project_type, season, start_date, status, ticket_tailor_id, ward_(from_venue), ward_name, ward_code, audience_size]\n",
       "Index: []"
      ]
     },
     "execution_count": 7,
     "metadata": {},
     "output_type": "execute_result"
    }
   ],
   "source": [
    "SCHOOLS_EVENTS_DIR = OUT_DIR+'/schools'\n",
    "os.makedirs(SCHOOLS_EVENTS_DIR, exist_ok=True)\n",
    "\n",
    "\n",
    "data.pipe(filter_school_events).pipe(prepare).pipe(save_files, SCHOOLS_EVENTS_DIR)"
   ]
  },
  {
   "cell_type": "markdown",
   "id": "4ed1ba6e",
   "metadata": {
    "papermill": {
     "duration": 0.001883,
     "end_time": "2024-01-23T11:48:16.214434",
     "exception": false,
     "start_time": "2024-01-23T11:48:16.212551",
     "status": "completed"
    },
    "tags": []
   },
   "source": [
    "## Ticket Processing"
   ]
  },
  {
   "cell_type": "code",
   "execution_count": 8,
   "id": "e4fa5e16",
   "metadata": {
    "execution": {
     "iopub.execute_input": "2024-01-23T11:48:16.218843Z",
     "iopub.status.busy": "2024-01-23T11:48:16.218659Z",
     "iopub.status.idle": "2024-01-23T11:48:16.221864Z",
     "shell.execute_reply": "2024-01-23T11:48:16.221580Z"
    },
    "papermill": {
     "duration": 0.006201,
     "end_time": "2024-01-23T11:48:16.222496",
     "exception": false,
     "start_time": "2024-01-23T11:48:16.216295",
     "status": "completed"
    },
    "tags": []
   },
   "outputs": [],
   "source": [
    "ticket_sales = (\n",
    "    ticket_helpers\n",
    "        .get_tickets_for_project('13 - Closing')\n",
    "        .pipe(ticket_helpers.filter_public_events)\n",
    ")"
   ]
  },
  {
   "cell_type": "code",
   "execution_count": 9,
   "id": "b2cf781a",
   "metadata": {
    "execution": {
     "iopub.execute_input": "2024-01-23T11:48:16.226989Z",
     "iopub.status.busy": "2024-01-23T11:48:16.226839Z",
     "iopub.status.idle": "2024-01-23T11:48:16.228589Z",
     "shell.execute_reply": "2024-01-23T11:48:16.228315Z"
    },
    "papermill": {
     "duration": 0.004736,
     "end_time": "2024-01-23T11:48:16.229202",
     "exception": false,
     "start_time": "2024-01-23T11:48:16.224466",
     "status": "completed"
    },
    "tags": []
   },
   "outputs": [],
   "source": [
    "# ticket_sales = data.pipe(filter_public_events).pipe(ticket_helpers.get_tickets_for_event)"
   ]
  },
  {
   "cell_type": "markdown",
   "id": "494b66a4",
   "metadata": {
    "papermill": {
     "duration": 0.001873,
     "end_time": "2024-01-23T11:48:16.232974",
     "exception": false,
     "start_time": "2024-01-23T11:48:16.231101",
     "status": "completed"
    },
    "tags": []
   },
   "source": [
    "By ward"
   ]
  },
  {
   "cell_type": "code",
   "execution_count": 10,
   "id": "10b51f66",
   "metadata": {
    "execution": {
     "iopub.execute_input": "2024-01-23T11:48:16.237250Z",
     "iopub.status.busy": "2024-01-23T11:48:16.237095Z",
     "iopub.status.idle": "2024-01-23T11:48:16.240954Z",
     "shell.execute_reply": "2024-01-23T11:48:16.240662Z"
    },
    "papermill": {
     "duration": 0.006802,
     "end_time": "2024-01-23T11:48:16.241628",
     "exception": false,
     "start_time": "2024-01-23T11:48:16.234826",
     "status": "completed"
    },
    "tags": []
   },
   "outputs": [],
   "source": [
    "ticket_sales.pipe(ticket_helpers.summarise_by_ward).reset_index().to_csv(\n",
    "    os.path.join(OUT_DIR, 'tickets_by_ward.csv'), index=False)"
   ]
  },
  {
   "cell_type": "markdown",
   "id": "947f435a",
   "metadata": {
    "papermill": {
     "duration": 0.001897,
     "end_time": "2024-01-23T11:48:16.245545",
     "exception": false,
     "start_time": "2024-01-23T11:48:16.243648",
     "status": "completed"
    },
    "tags": []
   },
   "source": [
    "By date"
   ]
  },
  {
   "cell_type": "code",
   "execution_count": 11,
   "id": "5ccd16d4",
   "metadata": {
    "execution": {
     "iopub.execute_input": "2024-01-23T11:48:16.249902Z",
     "iopub.status.busy": "2024-01-23T11:48:16.249747Z",
     "iopub.status.idle": "2024-01-23T11:48:16.255570Z",
     "shell.execute_reply": "2024-01-23T11:48:16.255286Z"
    },
    "papermill": {
     "duration": 0.008851,
     "end_time": "2024-01-23T11:48:16.256271",
     "exception": false,
     "start_time": "2024-01-23T11:48:16.247420",
     "status": "completed"
    },
    "tags": []
   },
   "outputs": [],
   "source": [
    "(\n",
    "  ticket_sales\n",
    "    .pipe(ticket_helpers.summarise_by_date)\n",
    "    .resample('W-FRI').sum()\n",
    "    .cumsum().to_csv(os.path.join(OUT_DIR, 'tickets_by_date.csv'))\n",
    ")"
   ]
  },
  {
   "cell_type": "code",
   "execution_count": 12,
   "id": "60876fc6",
   "metadata": {
    "execution": {
     "iopub.execute_input": "2024-01-23T11:48:16.260929Z",
     "iopub.status.busy": "2024-01-23T11:48:16.260745Z",
     "iopub.status.idle": "2024-01-23T11:48:16.265816Z",
     "shell.execute_reply": "2024-01-23T11:48:16.265516Z"
    },
    "papermill": {
     "duration": 0.008204,
     "end_time": "2024-01-23T11:48:16.266474",
     "exception": false,
     "start_time": "2024-01-23T11:48:16.258270",
     "status": "completed"
    },
    "tags": []
   },
   "outputs": [],
   "source": [
    "def add_human_date(data):\n",
    "    datetime = data.index.to_series().dt.strftime('%a %d %b, %l:%M %P').rename('human_datetime')\n",
    "    return pd.concat([data, datetime], axis=1)\n",
    "\n",
    "ticket_sales.loc[\n",
    "  (ticket_sales.event_datetime > pd.to_datetime('2023-12-21')) & (ticket_sales.public_event == True)\n",
    "].groupby('event_datetime').number_of_tickets.sum().sort_index().pipe(add_human_date).to_csv(f'{OUT_DIR}/tickets_by_event_datetime.csv')"
   ]
  },
  {
   "cell_type": "code",
   "execution_count": null,
   "id": "69ac9c93",
   "metadata": {
    "papermill": {
     "duration": 0.001919,
     "end_time": "2024-01-23T11:48:16.270403",
     "exception": false,
     "start_time": "2024-01-23T11:48:16.268484",
     "status": "completed"
    },
    "tags": []
   },
   "outputs": [],
   "source": []
  },
  {
   "cell_type": "code",
   "execution_count": null,
   "id": "5097c6b5",
   "metadata": {
    "papermill": {
     "duration": 0.001857,
     "end_time": "2024-01-23T11:48:16.274169",
     "exception": false,
     "start_time": "2024-01-23T11:48:16.272312",
     "status": "completed"
    },
    "tags": []
   },
   "outputs": [],
   "source": []
  }
 ],
 "metadata": {
  "kernelspec": {
   "display_name": "leeds-2023-YZF5GfJv",
   "language": "python",
   "name": "python3"
  },
  "language_info": {
   "codemirror_mode": {
    "name": "ipython",
    "version": 3
   },
   "file_extension": ".py",
   "mimetype": "text/x-python",
   "name": "python",
   "nbconvert_exporter": "python",
   "pygments_lexer": "ipython3",
   "version": "3.10.12"
  },
  "papermill": {
   "default_parameters": {},
   "duration": 6.343243,
   "end_time": "2024-01-23T11:48:16.491575",
   "environment_variables": {},
   "exception": null,
   "input_path": "the-gifting.ipynb",
   "output_path": "../../../../working/output/the-gifting.ipynb",
   "parameters": {},
   "start_time": "2024-01-23T11:48:10.148332",
   "version": "2.4.0"
  }
 },
 "nbformat": 4,
 "nbformat_minor": 5
}