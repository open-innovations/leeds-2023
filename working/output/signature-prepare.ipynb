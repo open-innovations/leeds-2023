{
 "cells": [
  {
   "cell_type": "code",
   "execution_count": 1,
   "id": "84ce8d90",
   "metadata": {
    "execution": {
     "iopub.execute_input": "2023-11-16T23:40:45.507083Z",
     "iopub.status.busy": "2023-11-16T23:40:45.506617Z",
     "iopub.status.idle": "2023-11-16T23:40:53.061749Z",
     "shell.execute_reply": "2023-11-16T23:40:53.061059Z"
    },
    "papermill": {
     "duration": 7.560297,
     "end_time": "2023-11-16T23:40:53.063413",
     "exception": false,
     "start_time": "2023-11-16T23:40:45.503116",
     "status": "completed"
    },
    "tags": []
   },
   "outputs": [],
   "source": [
    "import os\n",
    "import pandas as pd\n",
    "from events import load_event_data, get_first_ward, normalise_ward"
   ]
  },
  {
   "cell_type": "code",
   "execution_count": 2,
   "id": "b1961802",
   "metadata": {
    "execution": {
     "iopub.execute_input": "2023-11-16T23:40:53.068691Z",
     "iopub.status.busy": "2023-11-16T23:40:53.068275Z",
     "iopub.status.idle": "2023-11-16T23:40:53.071733Z",
     "shell.execute_reply": "2023-11-16T23:40:53.071168Z"
    },
    "papermill": {
     "duration": 0.007371,
     "end_time": "2023-11-16T23:40:53.072989",
     "exception": false,
     "start_time": "2023-11-16T23:40:53.065618",
     "status": "completed"
    },
    "tags": []
   },
   "outputs": [],
   "source": [
    "latest_date = pd.Timestamp.today().ceil('D')"
   ]
  },
  {
   "cell_type": "code",
   "execution_count": 3,
   "id": "bebdeeb2",
   "metadata": {
    "execution": {
     "iopub.execute_input": "2023-11-16T23:40:53.077821Z",
     "iopub.status.busy": "2023-11-16T23:40:53.077357Z",
     "iopub.status.idle": "2023-11-16T23:40:53.091551Z",
     "shell.execute_reply": "2023-11-16T23:40:53.090938Z"
    },
    "papermill": {
     "duration": 0.018098,
     "end_time": "2023-11-16T23:40:53.092928",
     "exception": false,
     "start_time": "2023-11-16T23:40:53.074830",
     "status": "completed"
    },
    "tags": []
   },
   "outputs": [],
   "source": [
    "tickets = pd.read_csv('../../../../data/metrics/events/tickets/orders.csv', parse_dates=['created_at', 'event_date'])\n",
    "tickets = tickets[tickets.event_date <= latest_date]"
   ]
  },
  {
   "cell_type": "code",
   "execution_count": 4,
   "id": "de08dd4e",
   "metadata": {
    "execution": {
     "iopub.execute_input": "2023-11-16T23:40:53.097815Z",
     "iopub.status.busy": "2023-11-16T23:40:53.097341Z",
     "iopub.status.idle": "2023-11-16T23:40:53.134679Z",
     "shell.execute_reply": "2023-11-16T23:40:53.134098Z"
    },
    "papermill": {
     "duration": 0.041469,
     "end_time": "2023-11-16T23:40:53.136310",
     "exception": false,
     "start_time": "2023-11-16T23:40:53.094841",
     "status": "completed"
    },
    "tags": []
   },
   "outputs": [],
   "source": [
    "events = load_event_data()\n",
    "\n",
    "events = pd.concat([\n",
    "  events,\n",
    "  events.pipe(get_first_ward).pipe(normalise_ward).fillna('UNKNOWN'),\n",
    "  pd.Series(\n",
    "      events.actual_audience_size_number_of_participants_in_person + events.actual_audience_size_number_of_participants_online,\n",
    "      name='attendances'\n",
    "  )\n",
    "], axis=1).rename(columns={\n",
    "    'start_date': 'date'\n",
    "}).loc[:, ['ward_code', 'date', 'event_unique_identifier', 'attendances']]"
   ]
  },
  {
   "cell_type": "code",
   "execution_count": 5,
   "id": "f7ac63cd",
   "metadata": {
    "execution": {
     "iopub.execute_input": "2023-11-16T23:40:53.141604Z",
     "iopub.status.busy": "2023-11-16T23:40:53.141124Z",
     "iopub.status.idle": "2023-11-16T23:40:53.144389Z",
     "shell.execute_reply": "2023-11-16T23:40:53.143807Z"
    },
    "papermill": {
     "duration": 0.00721,
     "end_time": "2023-11-16T23:40:53.145648",
     "exception": false,
     "start_time": "2023-11-16T23:40:53.138438",
     "status": "completed"
    },
    "tags": []
   },
   "outputs": [],
   "source": [
    "OUTPUT_DIR='../../../../docs/metrics/events/signature/_data/'\n",
    "os.makedirs(OUTPUT_DIR, exist_ok=True)"
   ]
  },
  {
   "cell_type": "markdown",
   "id": "6655517d",
   "metadata": {
    "papermill": {
     "duration": 0.001907,
     "end_time": "2023-11-16T23:40:53.149444",
     "exception": false,
     "start_time": "2023-11-16T23:40:53.147537",
     "status": "completed"
    },
    "tags": []
   },
   "source": [
    "Events CSVs"
   ]
  },
  {
   "cell_type": "code",
   "execution_count": 6,
   "id": "5fdfc501",
   "metadata": {
    "execution": {
     "iopub.execute_input": "2023-11-16T23:40:53.154067Z",
     "iopub.status.busy": "2023-11-16T23:40:53.153864Z",
     "iopub.status.idle": "2023-11-16T23:40:53.160372Z",
     "shell.execute_reply": "2023-11-16T23:40:53.159863Z"
    },
    "papermill": {
     "duration": 0.010398,
     "end_time": "2023-11-16T23:40:53.161740",
     "exception": false,
     "start_time": "2023-11-16T23:40:53.151342",
     "status": "completed"
    },
    "tags": []
   },
   "outputs": [],
   "source": [
    "pd.DataFrame({\n",
    "  'events': events.groupby('ward_code').event_unique_identifier.count(),\n",
    "  'attendances': events.groupby('ward_code').attendances.sum().astype(int),\n",
    "}).to_csv(os.path.join(OUTPUT_DIR, 'events_by_ward.csv'))\n"
   ]
  },
  {
   "cell_type": "code",
   "execution_count": 7,
   "id": "eebd4f99",
   "metadata": {
    "execution": {
     "iopub.execute_input": "2023-11-16T23:40:53.166758Z",
     "iopub.status.busy": "2023-11-16T23:40:53.166380Z",
     "iopub.status.idle": "2023-11-16T23:40:53.174437Z",
     "shell.execute_reply": "2023-11-16T23:40:53.173819Z"
    },
    "papermill": {
     "duration": 0.012091,
     "end_time": "2023-11-16T23:40:53.175813",
     "exception": false,
     "start_time": "2023-11-16T23:40:53.163722",
     "status": "completed"
    },
    "tags": []
   },
   "outputs": [],
   "source": [
    "pd.DataFrame({\n",
    "  'events': events.groupby('date').event_unique_identifier.count(),\n",
    "  'attendances': events.groupby('date').attendances.sum().astype(int),\n",
    "}).resample('M').sum().astype(int).to_csv(os.path.join(OUTPUT_DIR, 'events_by_date.csv'))"
   ]
  },
  {
   "cell_type": "markdown",
   "id": "15cc1e9d",
   "metadata": {
    "papermill": {
     "duration": 0.002819,
     "end_time": "2023-11-16T23:40:53.180763",
     "exception": false,
     "start_time": "2023-11-16T23:40:53.177944",
     "status": "completed"
    },
    "tags": []
   },
   "source": [
    "Tickets CSV"
   ]
  },
  {
   "cell_type": "code",
   "execution_count": 8,
   "id": "e0b47bd2",
   "metadata": {
    "execution": {
     "iopub.execute_input": "2023-11-16T23:40:53.185869Z",
     "iopub.status.busy": "2023-11-16T23:40:53.185371Z",
     "iopub.status.idle": "2023-11-16T23:40:53.191974Z",
     "shell.execute_reply": "2023-11-16T23:40:53.191363Z"
    },
    "papermill": {
     "duration": 0.010635,
     "end_time": "2023-11-16T23:40:53.193372",
     "exception": false,
     "start_time": "2023-11-16T23:40:53.182737",
     "status": "completed"
    },
    "tags": []
   },
   "outputs": [],
   "source": [
    "pd.DataFrame({\n",
    "  'orders': tickets.groupby('ward_code').number_of_tickets.count(),\n",
    "  'tickets': tickets.groupby('ward_code').number_of_tickets.sum().astype(int),\n",
    "}).to_csv(os.path.join(OUTPUT_DIR, 'tickets_by_ward.csv'))"
   ]
  },
  {
   "cell_type": "code",
   "execution_count": 9,
   "id": "59eb82a7",
   "metadata": {
    "execution": {
     "iopub.execute_input": "2023-11-16T23:40:53.198502Z",
     "iopub.status.busy": "2023-11-16T23:40:53.198098Z",
     "iopub.status.idle": "2023-11-16T23:40:53.205157Z",
     "shell.execute_reply": "2023-11-16T23:40:53.204658Z"
    },
    "papermill": {
     "duration": 0.011048,
     "end_time": "2023-11-16T23:40:53.206457",
     "exception": false,
     "start_time": "2023-11-16T23:40:53.195409",
     "status": "completed"
    },
    "tags": []
   },
   "outputs": [],
   "source": [
    "pd.DataFrame({\n",
    "  'orders': tickets.groupby('event_date').number_of_tickets.count(),\n",
    "  'tickets': tickets.groupby('event_date').number_of_tickets.sum().astype(int),\n",
    "}).resample('M').sum().to_csv(os.path.join(OUTPUT_DIR, 'tickets_by_event_date.csv'))"
   ]
  },
  {
   "cell_type": "code",
   "execution_count": 10,
   "id": "b03ac0b2",
   "metadata": {
    "execution": {
     "iopub.execute_input": "2023-11-16T23:40:53.211575Z",
     "iopub.status.busy": "2023-11-16T23:40:53.211193Z",
     "iopub.status.idle": "2023-11-16T23:40:53.215950Z",
     "shell.execute_reply": "2023-11-16T23:40:53.215450Z"
    },
    "papermill": {
     "duration": 0.008807,
     "end_time": "2023-11-16T23:40:53.217262",
     "exception": false,
     "start_time": "2023-11-16T23:40:53.208455",
     "status": "completed"
    },
    "tags": []
   },
   "outputs": [],
   "source": [
    "pd.Series({\n",
    "    'total_events': events.event_unique_identifier.count(),\n",
    "    'total_attendances': events.attendances.count(),\n",
    "    'first_event': events.date.min(),\n",
    "    'latest_event': events.date.max(),\n",
    "    'total_ticket_orders_for_events_to_date': tickets.number_of_tickets.count(),\n",
    "    'total_tickets_sold_for_events_to_date': tickets.number_of_tickets.sum(),\n",
    "}).to_json(os.path.join(OUTPUT_DIR, 'headlines.json'), indent=2)"
   ]
  },
  {
   "cell_type": "code",
   "execution_count": null,
   "id": "ddecbe43",
   "metadata": {
    "papermill": {
     "duration": 0.001989,
     "end_time": "2023-11-16T23:40:53.221296",
     "exception": false,
     "start_time": "2023-11-16T23:40:53.219307",
     "status": "completed"
    },
    "tags": []
   },
   "outputs": [],
   "source": []
  }
 ],
 "metadata": {
  "kernelspec": {
   "display_name": "leeds-2023-YZF5GfJv",
   "language": "python",
   "name": "python3"
  },
  "language_info": {
   "codemirror_mode": {
    "name": "ipython",
    "version": 3
   },
   "file_extension": ".py",
   "mimetype": "text/x-python",
   "name": "python",
   "nbconvert_exporter": "python",
   "pygments_lexer": "ipython3",
   "version": "3.10.13"
  },
  "papermill": {
   "default_parameters": {},
   "duration": 9.284853,
   "end_time": "2023-11-16T23:40:53.539672",
   "environment_variables": {},
   "exception": null,
   "input_path": "prepare.ipynb",
   "output_path": "../../../../working/output/signature-prepare.ipynb",
   "parameters": {},
   "start_time": "2023-11-16T23:40:44.254819",
   "version": "2.4.0"
  }
 },
 "nbformat": 4,
 "nbformat_minor": 5
}