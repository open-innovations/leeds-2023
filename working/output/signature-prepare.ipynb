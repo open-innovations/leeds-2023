{
 "cells": [
  {
   "cell_type": "code",
   "execution_count": 1,
   "id": "dcb590ae",
   "metadata": {
    "execution": {
     "iopub.execute_input": "2023-09-26T23:40:43.173206Z",
     "iopub.status.busy": "2023-09-26T23:40:43.172709Z",
     "iopub.status.idle": "2023-09-26T23:40:57.377173Z",
     "shell.execute_reply": "2023-09-26T23:40:57.375739Z"
    },
    "papermill": {
     "duration": 14.213,
     "end_time": "2023-09-26T23:40:57.379820",
     "exception": false,
     "start_time": "2023-09-26T23:40:43.166820",
     "status": "completed"
    },
    "tags": []
   },
   "outputs": [],
   "source": [
    "import os\n",
    "import pandas as pd\n",
    "from events import load_event_data, get_first_ward, normalise_ward"
   ]
  },
  {
   "cell_type": "code",
   "execution_count": 2,
   "id": "a46b0ddb",
   "metadata": {
    "execution": {
     "iopub.execute_input": "2023-09-26T23:40:57.390895Z",
     "iopub.status.busy": "2023-09-26T23:40:57.389923Z",
     "iopub.status.idle": "2023-09-26T23:40:57.397386Z",
     "shell.execute_reply": "2023-09-26T23:40:57.396368Z"
    },
    "papermill": {
     "duration": 0.015295,
     "end_time": "2023-09-26T23:40:57.399720",
     "exception": false,
     "start_time": "2023-09-26T23:40:57.384425",
     "status": "completed"
    },
    "tags": []
   },
   "outputs": [],
   "source": [
    "latest_date = pd.Timestamp.today().ceil('D')"
   ]
  },
  {
   "cell_type": "code",
   "execution_count": 3,
   "id": "a26110ba",
   "metadata": {
    "execution": {
     "iopub.execute_input": "2023-09-26T23:40:57.408906Z",
     "iopub.status.busy": "2023-09-26T23:40:57.407970Z",
     "iopub.status.idle": "2023-09-26T23:40:57.431508Z",
     "shell.execute_reply": "2023-09-26T23:40:57.430423Z"
    },
    "papermill": {
     "duration": 0.030619,
     "end_time": "2023-09-26T23:40:57.434011",
     "exception": false,
     "start_time": "2023-09-26T23:40:57.403392",
     "status": "completed"
    },
    "tags": []
   },
   "outputs": [],
   "source": [
    "tickets = pd.read_csv('../../../../data/metrics/events/tickets/orders.csv', parse_dates=['created_at', 'event_date'])\n",
    "tickets = tickets[tickets.event_date <= latest_date]"
   ]
  },
  {
   "cell_type": "code",
   "execution_count": 4,
   "id": "a0c5b04c",
   "metadata": {
    "execution": {
     "iopub.execute_input": "2023-09-26T23:40:57.442679Z",
     "iopub.status.busy": "2023-09-26T23:40:57.442220Z",
     "iopub.status.idle": "2023-09-26T23:40:57.793216Z",
     "shell.execute_reply": "2023-09-26T23:40:57.792171Z"
    },
    "papermill": {
     "duration": 0.358658,
     "end_time": "2023-09-26T23:40:57.795938",
     "exception": false,
     "start_time": "2023-09-26T23:40:57.437280",
     "status": "completed"
    },
    "tags": []
   },
   "outputs": [],
   "source": [
    "events = load_event_data()\n",
    "\n",
    "events = pd.concat([\n",
    "  events,\n",
    "  events.pipe(get_first_ward).pipe(normalise_ward).fillna('UNKNOWN'),\n",
    "  pd.Series(\n",
    "      events.actual_audience_size_number_of_participants_in_person + events.actual_audience_size_number_of_participants_online,\n",
    "      name='attendances'\n",
    "  )\n",
    "], axis=1).rename(columns={\n",
    "    'start_date': 'date'\n",
    "}).loc[:, ['ward_code', 'date', 'event_unique_identifier', 'attendances']]"
   ]
  },
  {
   "cell_type": "code",
   "execution_count": 5,
   "id": "84ac866a",
   "metadata": {
    "execution": {
     "iopub.execute_input": "2023-09-26T23:40:57.806378Z",
     "iopub.status.busy": "2023-09-26T23:40:57.806022Z",
     "iopub.status.idle": "2023-09-26T23:40:57.812797Z",
     "shell.execute_reply": "2023-09-26T23:40:57.811791Z"
    },
    "papermill": {
     "duration": 0.014244,
     "end_time": "2023-09-26T23:40:57.814924",
     "exception": false,
     "start_time": "2023-09-26T23:40:57.800680",
     "status": "completed"
    },
    "tags": []
   },
   "outputs": [],
   "source": [
    "OUTPUT_DIR='../../../../docs/metrics/events/signature/_data/'\n",
    "os.makedirs(OUTPUT_DIR, exist_ok=True)"
   ]
  },
  {
   "cell_type": "markdown",
   "id": "8a8adedd",
   "metadata": {
    "papermill": {
     "duration": 0.003366,
     "end_time": "2023-09-26T23:40:57.821472",
     "exception": false,
     "start_time": "2023-09-26T23:40:57.818106",
     "status": "completed"
    },
    "tags": []
   },
   "source": [
    "Events CSVs"
   ]
  },
  {
   "cell_type": "code",
   "execution_count": 6,
   "id": "ff14ff9b",
   "metadata": {
    "execution": {
     "iopub.execute_input": "2023-09-26T23:40:57.830388Z",
     "iopub.status.busy": "2023-09-26T23:40:57.829366Z",
     "iopub.status.idle": "2023-09-26T23:40:57.840230Z",
     "shell.execute_reply": "2023-09-26T23:40:57.839215Z"
    },
    "papermill": {
     "duration": 0.01762,
     "end_time": "2023-09-26T23:40:57.842361",
     "exception": false,
     "start_time": "2023-09-26T23:40:57.824741",
     "status": "completed"
    },
    "tags": []
   },
   "outputs": [],
   "source": [
    "pd.DataFrame({\n",
    "  'events': events.groupby('ward_code').event_unique_identifier.count(),\n",
    "  'attendances': events.groupby('ward_code').attendances.sum().astype(int),\n",
    "}).to_csv(os.path.join(OUTPUT_DIR, 'events_by_ward.csv'))\n"
   ]
  },
  {
   "cell_type": "code",
   "execution_count": 7,
   "id": "ea8e9cb7",
   "metadata": {
    "execution": {
     "iopub.execute_input": "2023-09-26T23:40:57.850859Z",
     "iopub.status.busy": "2023-09-26T23:40:57.850278Z",
     "iopub.status.idle": "2023-09-26T23:40:57.866346Z",
     "shell.execute_reply": "2023-09-26T23:40:57.865358Z"
    },
    "papermill": {
     "duration": 0.02307,
     "end_time": "2023-09-26T23:40:57.868827",
     "exception": false,
     "start_time": "2023-09-26T23:40:57.845757",
     "status": "completed"
    },
    "tags": []
   },
   "outputs": [],
   "source": [
    "pd.DataFrame({\n",
    "  'events': events.groupby('date').event_unique_identifier.count(),\n",
    "  'attendances': events.groupby('date').attendances.sum().astype(int),\n",
    "}).resample('M').sum().astype(int).to_csv(os.path.join(OUTPUT_DIR, 'events_by_date.csv'))"
   ]
  },
  {
   "cell_type": "markdown",
   "id": "4dd7a167",
   "metadata": {
    "papermill": {
     "duration": 0.003546,
     "end_time": "2023-09-26T23:40:57.875863",
     "exception": false,
     "start_time": "2023-09-26T23:40:57.872317",
     "status": "completed"
    },
    "tags": []
   },
   "source": [
    "Tickets CSV"
   ]
  },
  {
   "cell_type": "code",
   "execution_count": 8,
   "id": "3a648ea7",
   "metadata": {
    "execution": {
     "iopub.execute_input": "2023-09-26T23:40:57.884793Z",
     "iopub.status.busy": "2023-09-26T23:40:57.883869Z",
     "iopub.status.idle": "2023-09-26T23:40:57.895025Z",
     "shell.execute_reply": "2023-09-26T23:40:57.894019Z"
    },
    "papermill": {
     "duration": 0.018488,
     "end_time": "2023-09-26T23:40:57.897621",
     "exception": false,
     "start_time": "2023-09-26T23:40:57.879133",
     "status": "completed"
    },
    "tags": []
   },
   "outputs": [],
   "source": [
    "pd.DataFrame({\n",
    "  'orders': tickets.groupby('ward_code').number_of_tickets.count(),\n",
    "  'tickets': tickets.groupby('ward_code').number_of_tickets.sum().astype(int),\n",
    "}).to_csv(os.path.join(OUTPUT_DIR, 'tickets_by_ward.csv'))"
   ]
  },
  {
   "cell_type": "code",
   "execution_count": 9,
   "id": "eb56c8d8",
   "metadata": {
    "execution": {
     "iopub.execute_input": "2023-09-26T23:40:57.909063Z",
     "iopub.status.busy": "2023-09-26T23:40:57.907905Z",
     "iopub.status.idle": "2023-09-26T23:40:57.920877Z",
     "shell.execute_reply": "2023-09-26T23:40:57.919615Z"
    },
    "papermill": {
     "duration": 0.022228,
     "end_time": "2023-09-26T23:40:57.923743",
     "exception": false,
     "start_time": "2023-09-26T23:40:57.901515",
     "status": "completed"
    },
    "tags": []
   },
   "outputs": [],
   "source": [
    "pd.DataFrame({\n",
    "  'orders': tickets.groupby('event_date').number_of_tickets.count(),\n",
    "  'tickets': tickets.groupby('event_date').number_of_tickets.sum().astype(int),\n",
    "}).resample('M').sum().to_csv(os.path.join(OUTPUT_DIR, 'tickets_by_event_date.csv'))"
   ]
  },
  {
   "cell_type": "code",
   "execution_count": 10,
   "id": "aabbbc68",
   "metadata": {
    "execution": {
     "iopub.execute_input": "2023-09-26T23:40:57.936720Z",
     "iopub.status.busy": "2023-09-26T23:40:57.935741Z",
     "iopub.status.idle": "2023-09-26T23:40:57.948224Z",
     "shell.execute_reply": "2023-09-26T23:40:57.946036Z"
    },
    "papermill": {
     "duration": 0.022568,
     "end_time": "2023-09-26T23:40:57.950747",
     "exception": false,
     "start_time": "2023-09-26T23:40:57.928179",
     "status": "completed"
    },
    "tags": []
   },
   "outputs": [],
   "source": [
    "pd.Series({\n",
    "    'total_events': events.event_unique_identifier.count(),\n",
    "    'total_attendances': events.attendances.count(),\n",
    "    'first_event': events.date.min(),\n",
    "    'latest_event': events.date.max(),\n",
    "    'total_ticket_orders_for_events_to_date': tickets.number_of_tickets.count(),\n",
    "    'total_tickets_sold_for_events_to_date': tickets.number_of_tickets.sum(),\n",
    "}).to_json(os.path.join(OUTPUT_DIR, 'headlines.json'), indent=2)"
   ]
  },
  {
   "cell_type": "code",
   "execution_count": null,
   "id": "2142f23f",
   "metadata": {
    "papermill": {
     "duration": 0.003359,
     "end_time": "2023-09-26T23:40:57.957731",
     "exception": false,
     "start_time": "2023-09-26T23:40:57.954372",
     "status": "completed"
    },
    "tags": []
   },
   "outputs": [],
   "source": []
  }
 ],
 "metadata": {
  "kernelspec": {
   "display_name": "leeds-2023-YZF5GfJv",
   "language": "python",
   "name": "python3"
  },
  "language_info": {
   "codemirror_mode": {
    "name": "ipython",
    "version": 3
   },
   "file_extension": ".py",
   "mimetype": "text/x-python",
   "name": "python",
   "nbconvert_exporter": "python",
   "pygments_lexer": "ipython3",
   "version": "3.10.13"
  },
  "papermill": {
   "default_parameters": {},
   "duration": 17.204729,
   "end_time": "2023-09-26T23:40:58.482278",
   "environment_variables": {},
   "exception": null,
   "input_path": "prepare.ipynb",
   "output_path": "../../../../working/output/signature-prepare.ipynb",
   "parameters": {},
   "start_time": "2023-09-26T23:40:41.277549",
   "version": "2.4.0"
  }
 },
 "nbformat": 4,
 "nbformat_minor": 5
}