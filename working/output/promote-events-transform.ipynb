{
 "cells": [
  {
   "cell_type": "code",
   "execution_count": 1,
   "id": "dc11df16",
   "metadata": {
    "execution": {
     "iopub.execute_input": "2023-08-11T23:38:11.581630Z",
     "iopub.status.busy": "2023-08-11T23:38:11.580959Z",
     "iopub.status.idle": "2023-08-11T23:38:11.867295Z",
     "shell.execute_reply": "2023-08-11T23:38:11.866442Z"
    },
    "papermill": {
     "duration": 0.292107,
     "end_time": "2023-08-11T23:38:11.869596",
     "exception": false,
     "start_time": "2023-08-11T23:38:11.577489",
     "status": "completed"
    },
    "tags": []
   },
   "outputs": [],
   "source": [
    "import os\n",
    "import pandas as pd"
   ]
  },
  {
   "cell_type": "code",
   "execution_count": 2,
   "id": "801e5337",
   "metadata": {
    "execution": {
     "iopub.execute_input": "2023-08-11T23:38:11.875774Z",
     "iopub.status.busy": "2023-08-11T23:38:11.875211Z",
     "iopub.status.idle": "2023-08-11T23:38:11.879115Z",
     "shell.execute_reply": "2023-08-11T23:38:11.878399Z"
    },
    "papermill": {
     "duration": 0.008953,
     "end_time": "2023-08-11T23:38:11.881043",
     "exception": false,
     "start_time": "2023-08-11T23:38:11.872090",
     "status": "completed"
    },
    "tags": []
   },
   "outputs": [],
   "source": [
    "EVENTS_RAW_DATA = '../../../working/metrics/promote-events/events.csv'\n",
    "DATA_DIR = '../../../data/metrics/events/promote-events/'\n",
    "EVENTS_DATA = os.path.join(DATA_DIR, 'events.csv')"
   ]
  },
  {
   "cell_type": "code",
   "execution_count": 3,
   "id": "418ebcfb",
   "metadata": {
    "execution": {
     "iopub.execute_input": "2023-08-11T23:38:11.885120Z",
     "iopub.status.busy": "2023-08-11T23:38:11.884654Z",
     "iopub.status.idle": "2023-08-11T23:38:11.888418Z",
     "shell.execute_reply": "2023-08-11T23:38:11.887694Z"
    },
    "papermill": {
     "duration": 0.007809,
     "end_time": "2023-08-11T23:38:11.890251",
     "exception": false,
     "start_time": "2023-08-11T23:38:11.882442",
     "status": "completed"
    },
    "tags": []
   },
   "outputs": [],
   "source": [
    "columns = {\n",
    "    'id': 'id',\n",
    "    'name': 'name',\n",
    "    'locationName': 'location',\n",
    "    'cardPrice': 'card_price',\n",
    "    'timeslots': 'time',\n",
    "    'displayOnWebsite': 'display',\n",
    "    'Stage': 'stage',\n",
    "}"
   ]
  },
  {
   "cell_type": "code",
   "execution_count": 4,
   "id": "ae4b2303",
   "metadata": {
    "execution": {
     "iopub.execute_input": "2023-08-11T23:38:11.894368Z",
     "iopub.status.busy": "2023-08-11T23:38:11.893879Z",
     "iopub.status.idle": "2023-08-11T23:38:11.909154Z",
     "shell.execute_reply": "2023-08-11T23:38:11.908519Z"
    },
    "papermill": {
     "duration": 0.019234,
     "end_time": "2023-08-11T23:38:11.910905",
     "exception": false,
     "start_time": "2023-08-11T23:38:11.891671",
     "status": "completed"
    },
    "tags": []
   },
   "outputs": [],
   "source": [
    "data = pd.read_csv(EVENTS_RAW_DATA)[columns.keys()].rename(columns=columns)\n",
    "data.time = pd.to_datetime(data.time, errors='coerce')"
   ]
  },
  {
   "cell_type": "code",
   "execution_count": 5,
   "id": "dee5a46e",
   "metadata": {
    "execution": {
     "iopub.execute_input": "2023-08-11T23:38:11.915229Z",
     "iopub.status.busy": "2023-08-11T23:38:11.914762Z",
     "iopub.status.idle": "2023-08-11T23:38:11.924974Z",
     "shell.execute_reply": "2023-08-11T23:38:11.924328Z"
    },
    "papermill": {
     "duration": 0.014455,
     "end_time": "2023-08-11T23:38:11.926830",
     "exception": false,
     "start_time": "2023-08-11T23:38:11.912375",
     "status": "completed"
    },
    "tags": []
   },
   "outputs": [],
   "source": [
    "data.to_csv(os.path.join(DATA_DIR, 'events.csv'), index=False)"
   ]
  }
 ],
 "metadata": {
  "kernelspec": {
   "display_name": "leeds-2023-YZF5GfJv",
   "language": "python",
   "name": "python3"
  },
  "language_info": {
   "codemirror_mode": {
    "name": "ipython",
    "version": 3
   },
   "file_extension": ".py",
   "mimetype": "text/x-python",
   "name": "python",
   "nbconvert_exporter": "python",
   "pygments_lexer": "ipython3",
   "version": "3.10.12"
  },
  "papermill": {
   "default_parameters": {},
   "duration": 1.939993,
   "end_time": "2023-08-11T23:38:12.146988",
   "environment_variables": {},
   "exception": null,
   "input_path": "transform.ipynb",
   "output_path": "../../../working/output/promote-events-transform.ipynb",
   "parameters": {},
   "start_time": "2023-08-11T23:38:10.206995",
   "version": "2.4.0"
  }
 },
 "nbformat": 4,
 "nbformat_minor": 5
}