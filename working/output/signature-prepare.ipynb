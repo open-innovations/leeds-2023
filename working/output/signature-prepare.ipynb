{
 "cells": [
  {
   "cell_type": "code",
   "execution_count": 1,
   "id": "b94209fd",
   "metadata": {
    "execution": {
     "iopub.execute_input": "2023-12-11T23:40:55.092240Z",
     "iopub.status.busy": "2023-12-11T23:40:55.091984Z",
     "iopub.status.idle": "2023-12-11T23:41:02.681831Z",
     "shell.execute_reply": "2023-12-11T23:41:02.681184Z"
    },
    "papermill": {
     "duration": 7.594915,
     "end_time": "2023-12-11T23:41:02.683386",
     "exception": false,
     "start_time": "2023-12-11T23:40:55.088471",
     "status": "completed"
    },
    "tags": []
   },
   "outputs": [],
   "source": [
    "import os\n",
    "import pandas as pd\n",
    "from events import load_event_data, get_first_ward, normalise_ward"
   ]
  },
  {
   "cell_type": "code",
   "execution_count": 2,
   "id": "15b86f57",
   "metadata": {
    "execution": {
     "iopub.execute_input": "2023-12-11T23:41:02.688534Z",
     "iopub.status.busy": "2023-12-11T23:41:02.688200Z",
     "iopub.status.idle": "2023-12-11T23:41:02.691693Z",
     "shell.execute_reply": "2023-12-11T23:41:02.691104Z"
    },
    "papermill": {
     "duration": 0.007376,
     "end_time": "2023-12-11T23:41:02.692997",
     "exception": false,
     "start_time": "2023-12-11T23:41:02.685621",
     "status": "completed"
    },
    "tags": []
   },
   "outputs": [],
   "source": [
    "latest_date = pd.Timestamp.today().ceil('D')"
   ]
  },
  {
   "cell_type": "code",
   "execution_count": 3,
   "id": "213a51d5",
   "metadata": {
    "execution": {
     "iopub.execute_input": "2023-12-11T23:41:02.697952Z",
     "iopub.status.busy": "2023-12-11T23:41:02.697543Z",
     "iopub.status.idle": "2023-12-11T23:41:02.712700Z",
     "shell.execute_reply": "2023-12-11T23:41:02.712163Z"
    },
    "papermill": {
     "duration": 0.019398,
     "end_time": "2023-12-11T23:41:02.714313",
     "exception": false,
     "start_time": "2023-12-11T23:41:02.694915",
     "status": "completed"
    },
    "tags": []
   },
   "outputs": [],
   "source": [
    "tickets = pd.read_csv('../../../../data/metrics/events/tickets/orders.csv', parse_dates=['created_at', 'event_date'])\n",
    "tickets = tickets[tickets.event_date <= latest_date]"
   ]
  },
  {
   "cell_type": "code",
   "execution_count": 4,
   "id": "4fe8bccf",
   "metadata": {
    "execution": {
     "iopub.execute_input": "2023-12-11T23:41:02.719302Z",
     "iopub.status.busy": "2023-12-11T23:41:02.718927Z",
     "iopub.status.idle": "2023-12-11T23:41:02.773580Z",
     "shell.execute_reply": "2023-12-11T23:41:02.772919Z"
    },
    "papermill": {
     "duration": 0.058867,
     "end_time": "2023-12-11T23:41:02.775183",
     "exception": false,
     "start_time": "2023-12-11T23:41:02.716316",
     "status": "completed"
    },
    "tags": []
   },
   "outputs": [],
   "source": [
    "events = load_event_data()\n",
    "\n",
    "events = pd.concat([\n",
    "  events,\n",
    "  events.pipe(get_first_ward).pipe(normalise_ward).fillna('UNKNOWN'),\n",
    "  pd.Series(\n",
    "      events.actual_audience_size_number_of_participants_in_person + events.actual_audience_size_number_of_participants_online,\n",
    "      name='attendances'\n",
    "  )\n",
    "], axis=1).rename(columns={\n",
    "    'start_date': 'date'\n",
    "}).loc[:, ['ward_code', 'date', 'event_unique_identifier', 'attendances']]"
   ]
  },
  {
   "cell_type": "code",
   "execution_count": 5,
   "id": "905729c5",
   "metadata": {
    "execution": {
     "iopub.execute_input": "2023-12-11T23:41:02.780369Z",
     "iopub.status.busy": "2023-12-11T23:41:02.779938Z",
     "iopub.status.idle": "2023-12-11T23:41:02.783159Z",
     "shell.execute_reply": "2023-12-11T23:41:02.782576Z"
    },
    "papermill": {
     "duration": 0.007202,
     "end_time": "2023-12-11T23:41:02.784458",
     "exception": false,
     "start_time": "2023-12-11T23:41:02.777256",
     "status": "completed"
    },
    "tags": []
   },
   "outputs": [],
   "source": [
    "OUTPUT_DIR='../../../../docs/metrics/events/signature/_data/'\n",
    "os.makedirs(OUTPUT_DIR, exist_ok=True)"
   ]
  },
  {
   "cell_type": "markdown",
   "id": "75d99800",
   "metadata": {
    "papermill": {
     "duration": 0.002111,
     "end_time": "2023-12-11T23:41:02.788669",
     "exception": false,
     "start_time": "2023-12-11T23:41:02.786558",
     "status": "completed"
    },
    "tags": []
   },
   "source": [
    "Events CSVs"
   ]
  },
  {
   "cell_type": "code",
   "execution_count": 6,
   "id": "57efb7e0",
   "metadata": {
    "execution": {
     "iopub.execute_input": "2023-12-11T23:41:02.793936Z",
     "iopub.status.busy": "2023-12-11T23:41:02.793486Z",
     "iopub.status.idle": "2023-12-11T23:41:02.800316Z",
     "shell.execute_reply": "2023-12-11T23:41:02.799774Z"
    },
    "papermill": {
     "duration": 0.011076,
     "end_time": "2023-12-11T23:41:02.801661",
     "exception": false,
     "start_time": "2023-12-11T23:41:02.790585",
     "status": "completed"
    },
    "tags": []
   },
   "outputs": [],
   "source": [
    "pd.DataFrame({\n",
    "  'events': events.groupby('ward_code').event_unique_identifier.count(),\n",
    "  'attendances': events.groupby('ward_code').attendances.sum().astype(int),\n",
    "}).to_csv(os.path.join(OUTPUT_DIR, 'events_by_ward.csv'))\n"
   ]
  },
  {
   "cell_type": "code",
   "execution_count": 7,
   "id": "299a8f39",
   "metadata": {
    "execution": {
     "iopub.execute_input": "2023-12-11T23:41:02.806922Z",
     "iopub.status.busy": "2023-12-11T23:41:02.806438Z",
     "iopub.status.idle": "2023-12-11T23:41:02.815097Z",
     "shell.execute_reply": "2023-12-11T23:41:02.814547Z"
    },
    "papermill": {
     "duration": 0.012754,
     "end_time": "2023-12-11T23:41:02.816503",
     "exception": false,
     "start_time": "2023-12-11T23:41:02.803749",
     "status": "completed"
    },
    "tags": []
   },
   "outputs": [],
   "source": [
    "pd.DataFrame({\n",
    "  'events': events.groupby('date').event_unique_identifier.count(),\n",
    "  'attendances': events.groupby('date').attendances.sum().astype(int),\n",
    "}).resample('M').sum().astype(int).to_csv(os.path.join(OUTPUT_DIR, 'events_by_date.csv'))"
   ]
  },
  {
   "cell_type": "markdown",
   "id": "b5253e64",
   "metadata": {
    "papermill": {
     "duration": 0.002869,
     "end_time": "2023-12-11T23:41:02.821491",
     "exception": false,
     "start_time": "2023-12-11T23:41:02.818622",
     "status": "completed"
    },
    "tags": []
   },
   "source": [
    "Tickets CSV"
   ]
  },
  {
   "cell_type": "code",
   "execution_count": 8,
   "id": "e953a124",
   "metadata": {
    "execution": {
     "iopub.execute_input": "2023-12-11T23:41:02.826734Z",
     "iopub.status.busy": "2023-12-11T23:41:02.826276Z",
     "iopub.status.idle": "2023-12-11T23:41:02.833437Z",
     "shell.execute_reply": "2023-12-11T23:41:02.832857Z"
    },
    "papermill": {
     "duration": 0.011396,
     "end_time": "2023-12-11T23:41:02.834846",
     "exception": false,
     "start_time": "2023-12-11T23:41:02.823450",
     "status": "completed"
    },
    "tags": []
   },
   "outputs": [],
   "source": [
    "pd.DataFrame({\n",
    "  'orders': tickets.groupby('ward_code').number_of_tickets.count(),\n",
    "  'tickets': tickets.groupby('ward_code').number_of_tickets.sum().astype(int),\n",
    "}).to_csv(os.path.join(OUTPUT_DIR, 'tickets_by_ward.csv'))"
   ]
  },
  {
   "cell_type": "code",
   "execution_count": 9,
   "id": "fdd78eee",
   "metadata": {
    "execution": {
     "iopub.execute_input": "2023-12-11T23:41:02.840178Z",
     "iopub.status.busy": "2023-12-11T23:41:02.839777Z",
     "iopub.status.idle": "2023-12-11T23:41:02.847574Z",
     "shell.execute_reply": "2023-12-11T23:41:02.847028Z"
    },
    "papermill": {
     "duration": 0.011963,
     "end_time": "2023-12-11T23:41:02.848934",
     "exception": false,
     "start_time": "2023-12-11T23:41:02.836971",
     "status": "completed"
    },
    "tags": []
   },
   "outputs": [],
   "source": [
    "pd.DataFrame({\n",
    "  'orders': tickets.groupby('event_date').number_of_tickets.count(),\n",
    "  'tickets': tickets.groupby('event_date').number_of_tickets.sum().astype(int),\n",
    "}).resample('M').sum().to_csv(os.path.join(OUTPUT_DIR, 'tickets_by_event_date.csv'))"
   ]
  },
  {
   "cell_type": "code",
   "execution_count": 10,
   "id": "4c7e0433",
   "metadata": {
    "execution": {
     "iopub.execute_input": "2023-12-11T23:41:02.854378Z",
     "iopub.status.busy": "2023-12-11T23:41:02.853955Z",
     "iopub.status.idle": "2023-12-11T23:41:02.859083Z",
     "shell.execute_reply": "2023-12-11T23:41:02.858514Z"
    },
    "papermill": {
     "duration": 0.00933,
     "end_time": "2023-12-11T23:41:02.860418",
     "exception": false,
     "start_time": "2023-12-11T23:41:02.851088",
     "status": "completed"
    },
    "tags": []
   },
   "outputs": [],
   "source": [
    "pd.Series({\n",
    "    'total_events': events.event_unique_identifier.count(),\n",
    "    'total_attendances': events.attendances.count(),\n",
    "    'first_event': events.date.min(),\n",
    "    'latest_event': events.date.max(),\n",
    "    'total_ticket_orders_for_events_to_date': tickets.number_of_tickets.count(),\n",
    "    'total_tickets_sold_for_events_to_date': tickets.number_of_tickets.sum(),\n",
    "}).to_json(os.path.join(OUTPUT_DIR, 'headlines.json'), indent=2)"
   ]
  },
  {
   "cell_type": "code",
   "execution_count": null,
   "id": "1647c386",
   "metadata": {
    "papermill": {
     "duration": 0.002039,
     "end_time": "2023-12-11T23:41:02.864622",
     "exception": false,
     "start_time": "2023-12-11T23:41:02.862583",
     "status": "completed"
    },
    "tags": []
   },
   "outputs": [],
   "source": []
  }
 ],
 "metadata": {
  "kernelspec": {
   "display_name": "leeds-2023-YZF5GfJv",
   "language": "python",
   "name": "python3"
  },
  "language_info": {
   "codemirror_mode": {
    "name": "ipython",
    "version": 3
   },
   "file_extension": ".py",
   "mimetype": "text/x-python",
   "name": "python",
   "nbconvert_exporter": "python",
   "pygments_lexer": "ipython3",
   "version": "3.10.13"
  },
  "papermill": {
   "default_parameters": {},
   "duration": 9.346123,
   "end_time": "2023-12-11T23:41:03.182989",
   "environment_variables": {},
   "exception": null,
   "input_path": "prepare.ipynb",
   "output_path": "../../../../working/output/signature-prepare.ipynb",
   "parameters": {},
   "start_time": "2023-12-11T23:40:53.836866",
   "version": "2.4.0"
  }
 },
 "nbformat": 4,
 "nbformat_minor": 5
}