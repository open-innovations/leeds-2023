{
 "cells": [
  {
   "cell_type": "code",
   "execution_count": 1,
   "id": "a4292a51",
   "metadata": {
    "execution": {
     "iopub.execute_input": "2023-07-19T23:36:58.820879Z",
     "iopub.status.busy": "2023-07-19T23:36:58.820169Z",
     "iopub.status.idle": "2023-07-19T23:36:59.129632Z",
     "shell.execute_reply": "2023-07-19T23:36:59.128670Z"
    },
    "papermill": {
     "duration": 0.317471,
     "end_time": "2023-07-19T23:36:59.132427",
     "exception": false,
     "start_time": "2023-07-19T23:36:58.814956",
     "status": "completed"
    },
    "tags": []
   },
   "outputs": [],
   "source": [
    "import os\n",
    "import sys\n",
    "import pandas as pd\n",
    "lib_dir = os.path.realpath('../../../lib/')\n",
    "if lib_dir not in sys.path: sys.path.append(lib_dir)"
   ]
  },
  {
   "cell_type": "code",
   "execution_count": 2,
   "id": "684d1b3f",
   "metadata": {
    "execution": {
     "iopub.execute_input": "2023-07-19T23:36:59.140211Z",
     "iopub.status.busy": "2023-07-19T23:36:59.139799Z",
     "iopub.status.idle": "2023-07-19T23:37:11.023767Z",
     "shell.execute_reply": "2023-07-19T23:37:11.022769Z"
    },
    "papermill": {
     "duration": 11.890229,
     "end_time": "2023-07-19T23:37:11.026025",
     "exception": false,
     "start_time": "2023-07-19T23:36:59.135796",
     "status": "completed"
    },
    "tags": []
   },
   "outputs": [],
   "source": [
    "import util.geo"
   ]
  },
  {
   "cell_type": "code",
   "execution_count": 3,
   "id": "e86c5586",
   "metadata": {
    "execution": {
     "iopub.execute_input": "2023-07-19T23:37:11.035228Z",
     "iopub.status.busy": "2023-07-19T23:37:11.034615Z",
     "iopub.status.idle": "2023-07-19T23:37:11.038901Z",
     "shell.execute_reply": "2023-07-19T23:37:11.038171Z"
    },
    "papermill": {
     "duration": 0.011858,
     "end_time": "2023-07-19T23:37:11.041156",
     "exception": false,
     "start_time": "2023-07-19T23:37:11.029298",
     "status": "completed"
    },
    "tags": []
   },
   "outputs": [],
   "source": [
    "EVENTS_RAW_DATA = '../../../working/metrics/partner-events/events.csv'\n",
    "DATA_DIR = '../../../data/metrics/events/partner-events/'\n",
    "EVENTS_DATA = os.path.join(DATA_DIR, 'events.csv')"
   ]
  },
  {
   "cell_type": "code",
   "execution_count": 4,
   "id": "458d9416",
   "metadata": {
    "execution": {
     "iopub.execute_input": "2023-07-19T23:37:11.048015Z",
     "iopub.status.busy": "2023-07-19T23:37:11.047732Z",
     "iopub.status.idle": "2023-07-19T23:37:11.052433Z",
     "shell.execute_reply": "2023-07-19T23:37:11.051594Z"
    },
    "papermill": {
     "duration": 0.011239,
     "end_time": "2023-07-19T23:37:11.055246",
     "exception": false,
     "start_time": "2023-07-19T23:37:11.044007",
     "status": "completed"
    },
    "tags": []
   },
   "outputs": [],
   "source": [
    "columns = {\n",
    "    'Event Name': 'name',\n",
    "    'Event Start Date': 'start_date',\n",
    "    'Event End Date': 'end_date',\n",
    "    'Partner/Promote': 'partner_promote',\n",
    "    'Stage': 'stage',\n",
    "    'Live date': 'live_date',\n",
    "    'Venue postcode': 'postcode',\n",
    "    'Pricing Policy': 'pricing',\n",
    "    'Venue - including address': 'venue',\n",
    "    'Is this event on Leeds Inspried?': 'on_leeds_inspired',\n",
    "}"
   ]
  },
  {
   "cell_type": "markdown",
   "id": "4cd2a173",
   "metadata": {
    "papermill": {
     "duration": 0.002868,
     "end_time": "2023-07-19T23:37:11.060973",
     "exception": false,
     "start_time": "2023-07-19T23:37:11.058105",
     "status": "completed"
    },
    "tags": []
   },
   "source": [
    "Load the data and rename columns. Parse the dates to dates."
   ]
  },
  {
   "cell_type": "code",
   "execution_count": 5,
   "id": "fc50d48e",
   "metadata": {
    "execution": {
     "iopub.execute_input": "2023-07-19T23:37:11.067949Z",
     "iopub.status.busy": "2023-07-19T23:37:11.067625Z",
     "iopub.status.idle": "2023-07-19T23:37:11.081579Z",
     "shell.execute_reply": "2023-07-19T23:37:11.080651Z"
    },
    "papermill": {
     "duration": 0.020031,
     "end_time": "2023-07-19T23:37:11.083696",
     "exception": false,
     "start_time": "2023-07-19T23:37:11.063665",
     "status": "completed"
    },
    "tags": []
   },
   "outputs": [],
   "source": [
    "data = pd.read_csv(EVENTS_RAW_DATA)[columns.keys()].rename(columns=columns)\n",
    "data.start_date = pd.to_datetime(data.start_date, errors='coerce')\n",
    "data.end_date = pd.to_datetime(data.end_date, errors='coerce')"
   ]
  },
  {
   "cell_type": "markdown",
   "id": "c01e04b6",
   "metadata": {
    "papermill": {
     "duration": 0.002695,
     "end_time": "2023-07-19T23:37:11.089481",
     "exception": false,
     "start_time": "2023-07-19T23:37:11.086786",
     "status": "completed"
    },
    "tags": []
   },
   "source": [
    "Filter data by not LI Pull through and start date before now"
   ]
  },
  {
   "cell_type": "code",
   "execution_count": 6,
   "id": "c0a59131",
   "metadata": {
    "execution": {
     "iopub.execute_input": "2023-07-19T23:37:11.097664Z",
     "iopub.status.busy": "2023-07-19T23:37:11.096236Z",
     "iopub.status.idle": "2023-07-19T23:37:11.104131Z",
     "shell.execute_reply": "2023-07-19T23:37:11.103389Z"
    },
    "papermill": {
     "duration": 0.01356,
     "end_time": "2023-07-19T23:37:11.105982",
     "exception": false,
     "start_time": "2023-07-19T23:37:11.092422",
     "status": "completed"
    },
    "tags": []
   },
   "outputs": [],
   "source": [
    "data = data[\n",
    "    # (data.live_date == 'This event is live ') &\n",
    "    ((data.stage != 'LI pull through') & data.stage.notna()) &\n",
    "    (data.start_date < pd.Timestamp.now())\n",
    "]"
   ]
  },
  {
   "cell_type": "code",
   "execution_count": 7,
   "id": "dffbacba",
   "metadata": {
    "execution": {
     "iopub.execute_input": "2023-07-19T23:37:11.113118Z",
     "iopub.status.busy": "2023-07-19T23:37:11.112562Z",
     "iopub.status.idle": "2023-07-19T23:37:12.806037Z",
     "shell.execute_reply": "2023-07-19T23:37:12.805116Z"
    },
    "papermill": {
     "duration": 1.703194,
     "end_time": "2023-07-19T23:37:12.812057",
     "exception": false,
     "start_time": "2023-07-19T23:37:11.108863",
     "status": "completed"
    },
    "tags": []
   },
   "outputs": [],
   "source": [
    "data['ward_code'] = data.postcode.pipe(util.geo.postcode_formatter).map(util.geo.postcode_to_ward_code)\n",
    "data['ward_name'] = data.ward_code.pipe(util.geo.ward_code_to_name)"
   ]
  },
  {
   "cell_type": "markdown",
   "id": "dd550a91",
   "metadata": {
    "papermill": {
     "duration": 0.00416,
     "end_time": "2023-07-19T23:37:12.819542",
     "exception": false,
     "start_time": "2023-07-19T23:37:12.815382",
     "status": "completed"
    },
    "tags": []
   },
   "source": [
    "Save the file"
   ]
  },
  {
   "cell_type": "code",
   "execution_count": 8,
   "id": "ec201844",
   "metadata": {
    "execution": {
     "iopub.execute_input": "2023-07-19T23:37:12.827520Z",
     "iopub.status.busy": "2023-07-19T23:37:12.826754Z",
     "iopub.status.idle": "2023-07-19T23:37:12.834704Z",
     "shell.execute_reply": "2023-07-19T23:37:12.833948Z"
    },
    "papermill": {
     "duration": 0.014716,
     "end_time": "2023-07-19T23:37:12.837173",
     "exception": false,
     "start_time": "2023-07-19T23:37:12.822457",
     "status": "completed"
    },
    "tags": []
   },
   "outputs": [],
   "source": [
    "data[\n",
    "    ['name','start_date','end_date','ward_code']\n",
    "].to_csv(EVENTS_DATA, index=False)"
   ]
  },
  {
   "cell_type": "markdown",
   "id": "1a206dd4",
   "metadata": {
    "papermill": {
     "duration": 0.002994,
     "end_time": "2023-07-19T23:37:12.843328",
     "exception": false,
     "start_time": "2023-07-19T23:37:12.840334",
     "status": "completed"
    },
    "tags": []
   },
   "source": [
    "Print out missing postcode data"
   ]
  },
  {
   "cell_type": "code",
   "execution_count": 9,
   "id": "6c97e8dc",
   "metadata": {
    "execution": {
     "iopub.execute_input": "2023-07-19T23:37:12.853058Z",
     "iopub.status.busy": "2023-07-19T23:37:12.852343Z",
     "iopub.status.idle": "2023-07-19T23:37:12.870414Z",
     "shell.execute_reply": "2023-07-19T23:37:12.869531Z"
    },
    "papermill": {
     "duration": 0.025779,
     "end_time": "2023-07-19T23:37:12.872159",
     "exception": false,
     "start_time": "2023-07-19T23:37:12.846380",
     "status": "completed"
    },
    "tags": []
   },
   "outputs": [
    {
     "data": {
      "text/html": [
       "<div>\n",
       "<style scoped>\n",
       "    .dataframe tbody tr th:only-of-type {\n",
       "        vertical-align: middle;\n",
       "    }\n",
       "\n",
       "    .dataframe tbody tr th {\n",
       "        vertical-align: top;\n",
       "    }\n",
       "\n",
       "    .dataframe thead th {\n",
       "        text-align: right;\n",
       "    }\n",
       "</style>\n",
       "<table border=\"1\" class=\"dataframe\">\n",
       "  <thead>\n",
       "    <tr style=\"text-align: right;\">\n",
       "      <th></th>\n",
       "      <th>name</th>\n",
       "      <th>start_date</th>\n",
       "    </tr>\n",
       "  </thead>\n",
       "  <tbody>\n",
       "    <tr>\n",
       "      <th>1</th>\n",
       "      <td>East Street Arts, A City Less Grey 2022</td>\n",
       "      <td>2022-10-08</td>\n",
       "    </tr>\n",
       "    <tr>\n",
       "      <th>3</th>\n",
       "      <td>Phoenix Dance Theatre Virtual Gallery</td>\n",
       "      <td>2023-01-01</td>\n",
       "    </tr>\n",
       "    <tr>\n",
       "      <th>4</th>\n",
       "      <td>The Big Art Giveaway, School of Creative Arts ...</td>\n",
       "      <td>2023-01-01</td>\n",
       "    </tr>\n",
       "    <tr>\n",
       "      <th>5</th>\n",
       "      <td>Embassy of Netherlands, Meet Leeds Lab</td>\n",
       "      <td>2023-01-16</td>\n",
       "    </tr>\n",
       "    <tr>\n",
       "      <th>6</th>\n",
       "      <td>Shifting Borders: A Journey to the Centre of o...</td>\n",
       "      <td>2023-01-24</td>\n",
       "    </tr>\n",
       "    <tr>\n",
       "      <th>12</th>\n",
       "      <td>Leeds Lit Fest 2023</td>\n",
       "      <td>2023-02-25</td>\n",
       "    </tr>\n",
       "    <tr>\n",
       "      <th>26</th>\n",
       "      <td>East Street Arts, Add Fuel</td>\n",
       "      <td>2023-04-01</td>\n",
       "    </tr>\n",
       "    <tr>\n",
       "      <th>43</th>\n",
       "      <td>Jamica Society Leeds, Out of Many Festival - T...</td>\n",
       "      <td>2023-05-01</td>\n",
       "    </tr>\n",
       "    <tr>\n",
       "      <th>44</th>\n",
       "      <td>Sayang, Si Polan - International residency in ...</td>\n",
       "      <td>2023-05-01</td>\n",
       "    </tr>\n",
       "    <tr>\n",
       "      <th>63</th>\n",
       "      <td>Leeds Jazz Festival 2023</td>\n",
       "      <td>2023-05-25</td>\n",
       "    </tr>\n",
       "    <tr>\n",
       "      <th>79</th>\n",
       "      <td>Keira Martin, Queenie and the Pooka (Performan...</td>\n",
       "      <td>2023-06-05</td>\n",
       "    </tr>\n",
       "    <tr>\n",
       "      <th>80</th>\n",
       "      <td>My LEEDS Summer: Kirkstall Makes + Moves</td>\n",
       "      <td>2023-06-11</td>\n",
       "    </tr>\n",
       "    <tr>\n",
       "      <th>83</th>\n",
       "      <td>My LEEDS Summer at Hunslet Festival</td>\n",
       "      <td>2023-06-17</td>\n",
       "    </tr>\n",
       "    <tr>\n",
       "      <th>84</th>\n",
       "      <td>My LEEDS Summer: Roundhay World Music &amp; Food Fest</td>\n",
       "      <td>2023-06-17</td>\n",
       "    </tr>\n",
       "    <tr>\n",
       "      <th>93</th>\n",
       "      <td>My LEEDS Summer: Beeston Festival</td>\n",
       "      <td>2023-06-24</td>\n",
       "    </tr>\n",
       "    <tr>\n",
       "      <th>94</th>\n",
       "      <td>My LEEDS Summer: Crossgates and Whinmoor - Pas...</td>\n",
       "      <td>2023-06-24</td>\n",
       "    </tr>\n",
       "    <tr>\n",
       "      <th>95</th>\n",
       "      <td>My LEEDS Summer: Picnic in the Park</td>\n",
       "      <td>2023-06-24</td>\n",
       "    </tr>\n",
       "    <tr>\n",
       "      <th>98</th>\n",
       "      <td>Becoming the Brontës</td>\n",
       "      <td>2023-06-29</td>\n",
       "    </tr>\n",
       "    <tr>\n",
       "      <th>105</th>\n",
       "      <td>My LEEDS Summer: Wetherby Drovers Day</td>\n",
       "      <td>2023-07-01</td>\n",
       "    </tr>\n",
       "    <tr>\n",
       "      <th>106</th>\n",
       "      <td>My Leeds Summer : Walk of Art</td>\n",
       "      <td>2023-07-01</td>\n",
       "    </tr>\n",
       "    <tr>\n",
       "      <th>109</th>\n",
       "      <td>My LEEDS Summer: The Feast</td>\n",
       "      <td>2023-07-02</td>\n",
       "    </tr>\n",
       "    <tr>\n",
       "      <th>110</th>\n",
       "      <td>My LEEDS summer: Celebration Day</td>\n",
       "      <td>2023-07-02</td>\n",
       "    </tr>\n",
       "    <tr>\n",
       "      <th>118</th>\n",
       "      <td>My LEEDS Summer : Wonderful Workshops and Cele...</td>\n",
       "      <td>2023-07-06</td>\n",
       "    </tr>\n",
       "    <tr>\n",
       "      <th>125</th>\n",
       "      <td>My LEEDS Summer: The Gipton and Harehills Crea...</td>\n",
       "      <td>2023-07-08</td>\n",
       "    </tr>\n",
       "    <tr>\n",
       "      <th>127</th>\n",
       "      <td>My LEEDS Summer: Ardsley &amp; Robin Hood: Celebra...</td>\n",
       "      <td>2023-07-09</td>\n",
       "    </tr>\n",
       "    <tr>\n",
       "      <th>130</th>\n",
       "      <td>My LEEDS Summer: The Big Summer Picnic</td>\n",
       "      <td>2023-07-09</td>\n",
       "    </tr>\n",
       "    <tr>\n",
       "      <th>133</th>\n",
       "      <td>My LEEDS Summer: Ralph Thoresby Summer Festival</td>\n",
       "      <td>2023-07-15</td>\n",
       "    </tr>\n",
       "    <tr>\n",
       "      <th>135</th>\n",
       "      <td>My LEEDS Summer: Fuse Festival</td>\n",
       "      <td>2023-07-17</td>\n",
       "    </tr>\n",
       "  </tbody>\n",
       "</table>\n",
       "</div>"
      ],
      "text/plain": [
       "                                                  name start_date\n",
       "1              East Street Arts, A City Less Grey 2022 2022-10-08\n",
       "3                Phoenix Dance Theatre Virtual Gallery 2023-01-01\n",
       "4    The Big Art Giveaway, School of Creative Arts ... 2023-01-01\n",
       "5               Embassy of Netherlands, Meet Leeds Lab 2023-01-16\n",
       "6    Shifting Borders: A Journey to the Centre of o... 2023-01-24\n",
       "12                                 Leeds Lit Fest 2023 2023-02-25\n",
       "26                          East Street Arts, Add Fuel 2023-04-01\n",
       "43   Jamica Society Leeds, Out of Many Festival - T... 2023-05-01\n",
       "44   Sayang, Si Polan - International residency in ... 2023-05-01\n",
       "63                            Leeds Jazz Festival 2023 2023-05-25\n",
       "79   Keira Martin, Queenie and the Pooka (Performan... 2023-06-05\n",
       "80            My LEEDS Summer: Kirkstall Makes + Moves 2023-06-11\n",
       "83                 My LEEDS Summer at Hunslet Festival 2023-06-17\n",
       "84   My LEEDS Summer: Roundhay World Music & Food Fest 2023-06-17\n",
       "93                   My LEEDS Summer: Beeston Festival 2023-06-24\n",
       "94   My LEEDS Summer: Crossgates and Whinmoor - Pas... 2023-06-24\n",
       "95                 My LEEDS Summer: Picnic in the Park 2023-06-24\n",
       "98                                Becoming the Brontës 2023-06-29\n",
       "105              My LEEDS Summer: Wetherby Drovers Day 2023-07-01\n",
       "106                      My Leeds Summer : Walk of Art 2023-07-01\n",
       "109                         My LEEDS Summer: The Feast 2023-07-02\n",
       "110                   My LEEDS summer: Celebration Day 2023-07-02\n",
       "118  My LEEDS Summer : Wonderful Workshops and Cele... 2023-07-06\n",
       "125  My LEEDS Summer: The Gipton and Harehills Crea... 2023-07-08\n",
       "127  My LEEDS Summer: Ardsley & Robin Hood: Celebra... 2023-07-09\n",
       "130             My LEEDS Summer: The Big Summer Picnic 2023-07-09\n",
       "133    My LEEDS Summer: Ralph Thoresby Summer Festival 2023-07-15\n",
       "135                     My LEEDS Summer: Fuse Festival 2023-07-17"
      ]
     },
     "execution_count": 9,
     "metadata": {},
     "output_type": "execute_result"
    }
   ],
   "source": [
    "data[data.postcode.isna()][[\n",
    "    'name', 'start_date'\n",
    "]]"
   ]
  },
  {
   "cell_type": "markdown",
   "id": "057a91c8",
   "metadata": {
    "papermill": {
     "duration": 0.003264,
     "end_time": "2023-07-19T23:37:12.879096",
     "exception": false,
     "start_time": "2023-07-19T23:37:12.875832",
     "status": "completed"
    },
    "tags": []
   },
   "source": [
    "Plot the pricing"
   ]
  },
  {
   "cell_type": "code",
   "execution_count": 10,
   "id": "5c90c724",
   "metadata": {
    "execution": {
     "iopub.execute_input": "2023-07-19T23:37:12.888370Z",
     "iopub.status.busy": "2023-07-19T23:37:12.887654Z",
     "iopub.status.idle": "2023-07-19T23:37:13.974300Z",
     "shell.execute_reply": "2023-07-19T23:37:13.973348Z"
    },
    "papermill": {
     "duration": 1.093092,
     "end_time": "2023-07-19T23:37:13.976238",
     "exception": false,
     "start_time": "2023-07-19T23:37:12.883146",
     "status": "completed"
    },
    "tags": []
   },
   "outputs": [
    {
     "data": {
      "image/png": "[encoded data removed]",
      "text/plain": [
       "<Figure size 640x480 with 1 Axes>"
      ]
     },
     "metadata": {},
     "output_type": "display_data"
    }
   ],
   "source": [
    "# .groupby('pricing').count().plot.barh()\n",
    "pricing = data.pricing.fillna('Unspecified').str.replace('[\\[\\'\\]]', '', regex=True).to_frame().reset_index().groupby('pricing').count()\n",
    "\n",
    "pricing.columns = ['count']\n",
    "plot = pricing.plot.barh()\n"
   ]
  },
  {
   "cell_type": "code",
   "execution_count": null,
   "id": "150a1673",
   "metadata": {
    "papermill": {
     "duration": 0.004016,
     "end_time": "2023-07-19T23:37:13.984854",
     "exception": false,
     "start_time": "2023-07-19T23:37:13.980838",
     "status": "completed"
    },
    "tags": []
   },
   "outputs": [],
   "source": []
  }
 ],
 "metadata": {
  "kernelspec": {
   "display_name": "leeds-2023-YZF5GfJv",
   "language": "python",
   "name": "python3"
  },
  "language_info": {
   "codemirror_mode": {
    "name": "ipython",
    "version": 3
   },
   "file_extension": ".py",
   "mimetype": "text/x-python",
   "name": "python",
   "nbconvert_exporter": "python",
   "pygments_lexer": "ipython3",
   "version": "3.10.6"
  },
  "papermill": {
   "default_parameters": {},
   "duration": 17.182047,
   "end_time": "2023-07-19T23:37:14.608957",
   "environment_variables": {},
   "exception": null,
   "input_path": "transform.ipynb",
   "output_path": "../../../working/output/partner-events-transform.ipynb",
   "parameters": {},
   "start_time": "2023-07-19T23:36:57.426910",
   "version": "2.4.0"
  }
 },
 "nbformat": 4,
 "nbformat_minor": 5
}