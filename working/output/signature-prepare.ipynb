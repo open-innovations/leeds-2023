{
 "cells": [
  {
   "cell_type": "code",
   "execution_count": 1,
   "id": "e684fe7b",
   "metadata": {
    "execution": {
     "iopub.execute_input": "2023-08-12T23:39:05.484897Z",
     "iopub.status.busy": "2023-08-12T23:39:05.484423Z",
     "iopub.status.idle": "2023-08-12T23:39:15.781062Z",
     "shell.execute_reply": "2023-08-12T23:39:15.780007Z"
    },
    "papermill": {
     "duration": 10.30369,
     "end_time": "2023-08-12T23:39:15.783396",
     "exception": false,
     "start_time": "2023-08-12T23:39:05.479706",
     "status": "completed"
    },
    "tags": []
   },
   "outputs": [],
   "source": [
    "import os\n",
    "import pandas as pd\n",
    "from events import load_event_data, get_first_ward, normalise_ward"
   ]
  },
  {
   "cell_type": "code",
   "execution_count": 2,
   "id": "b5a4a996",
   "metadata": {
    "execution": {
     "iopub.execute_input": "2023-08-12T23:39:15.790025Z",
     "iopub.status.busy": "2023-08-12T23:39:15.789597Z",
     "iopub.status.idle": "2023-08-12T23:39:15.793676Z",
     "shell.execute_reply": "2023-08-12T23:39:15.793025Z"
    },
    "papermill": {
     "duration": 0.009195,
     "end_time": "2023-08-12T23:39:15.795318",
     "exception": false,
     "start_time": "2023-08-12T23:39:15.786123",
     "status": "completed"
    },
    "tags": []
   },
   "outputs": [],
   "source": [
    "latest_date = pd.Timestamp.today().ceil('D')"
   ]
  },
  {
   "cell_type": "code",
   "execution_count": 3,
   "id": "4a1274c0",
   "metadata": {
    "execution": {
     "iopub.execute_input": "2023-08-12T23:39:15.800454Z",
     "iopub.status.busy": "2023-08-12T23:39:15.800052Z",
     "iopub.status.idle": "2023-08-12T23:39:15.815083Z",
     "shell.execute_reply": "2023-08-12T23:39:15.814504Z"
    },
    "papermill": {
     "duration": 0.019495,
     "end_time": "2023-08-12T23:39:15.816754",
     "exception": false,
     "start_time": "2023-08-12T23:39:15.797259",
     "status": "completed"
    },
    "tags": []
   },
   "outputs": [],
   "source": [
    "tickets = pd.read_csv('../../../../data/metrics/events/tickets/orders.csv', parse_dates=['created_at', 'event_date'])\n",
    "tickets = tickets[tickets.event_date <= latest_date]"
   ]
  },
  {
   "cell_type": "code",
   "execution_count": 4,
   "id": "301cb634",
   "metadata": {
    "execution": {
     "iopub.execute_input": "2023-08-12T23:39:15.822025Z",
     "iopub.status.busy": "2023-08-12T23:39:15.821624Z",
     "iopub.status.idle": "2023-08-12T23:39:15.990534Z",
     "shell.execute_reply": "2023-08-12T23:39:15.989780Z"
    },
    "papermill": {
     "duration": 0.173848,
     "end_time": "2023-08-12T23:39:15.992670",
     "exception": false,
     "start_time": "2023-08-12T23:39:15.818822",
     "status": "completed"
    },
    "tags": []
   },
   "outputs": [],
   "source": [
    "events = load_event_data()\n",
    "\n",
    "events = pd.concat([\n",
    "  events,\n",
    "  events.pipe(get_first_ward).pipe(normalise_ward).fillna('UNKNOWN'),\n",
    "  pd.Series(\n",
    "      events.actual_audience_size_number_of_participants_in_person + events.actual_audience_size_number_of_participants_online,\n",
    "      name='attendances'\n",
    "  )\n",
    "], axis=1).rename(columns={\n",
    "    'start_date': 'date'\n",
    "}).loc[:, ['ward_code', 'date', 'event_unique_identifier', 'attendances']]"
   ]
  },
  {
   "cell_type": "code",
   "execution_count": 5,
   "id": "982e118e",
   "metadata": {
    "execution": {
     "iopub.execute_input": "2023-08-12T23:39:15.999522Z",
     "iopub.status.busy": "2023-08-12T23:39:15.999060Z",
     "iopub.status.idle": "2023-08-12T23:39:16.002517Z",
     "shell.execute_reply": "2023-08-12T23:39:16.001885Z"
    },
    "papermill": {
     "duration": 0.008692,
     "end_time": "2023-08-12T23:39:16.004054",
     "exception": false,
     "start_time": "2023-08-12T23:39:15.995362",
     "status": "completed"
    },
    "tags": []
   },
   "outputs": [],
   "source": [
    "OUTPUT_DIR='../../../../docs/metrics/events/signature/_data/'\n",
    "os.makedirs(OUTPUT_DIR, exist_ok=True)"
   ]
  },
  {
   "cell_type": "markdown",
   "id": "c25a84c7",
   "metadata": {
    "papermill": {
     "duration": 0.002162,
     "end_time": "2023-08-12T23:39:16.008240",
     "exception": false,
     "start_time": "2023-08-12T23:39:16.006078",
     "status": "completed"
    },
    "tags": []
   },
   "source": [
    "Events CSVs"
   ]
  },
  {
   "cell_type": "code",
   "execution_count": 6,
   "id": "51cdbc34",
   "metadata": {
    "execution": {
     "iopub.execute_input": "2023-08-12T23:39:16.013765Z",
     "iopub.status.busy": "2023-08-12T23:39:16.013193Z",
     "iopub.status.idle": "2023-08-12T23:39:16.021405Z",
     "shell.execute_reply": "2023-08-12T23:39:16.020606Z"
    },
    "papermill": {
     "duration": 0.012594,
     "end_time": "2023-08-12T23:39:16.022878",
     "exception": false,
     "start_time": "2023-08-12T23:39:16.010284",
     "status": "completed"
    },
    "tags": []
   },
   "outputs": [],
   "source": [
    "pd.DataFrame({\n",
    "  'events': events.groupby('ward_code').event_unique_identifier.count(),\n",
    "  'attendances': events.groupby('ward_code').attendances.sum().astype(int),\n",
    "}).to_csv(os.path.join(OUTPUT_DIR, 'events_by_ward.csv'))\n"
   ]
  },
  {
   "cell_type": "code",
   "execution_count": 7,
   "id": "80d5d328",
   "metadata": {
    "execution": {
     "iopub.execute_input": "2023-08-12T23:39:16.028224Z",
     "iopub.status.busy": "2023-08-12T23:39:16.027699Z",
     "iopub.status.idle": "2023-08-12T23:39:16.038238Z",
     "shell.execute_reply": "2023-08-12T23:39:16.037688Z"
    },
    "papermill": {
     "duration": 0.014838,
     "end_time": "2023-08-12T23:39:16.039771",
     "exception": false,
     "start_time": "2023-08-12T23:39:16.024933",
     "status": "completed"
    },
    "tags": []
   },
   "outputs": [],
   "source": [
    "pd.DataFrame({\n",
    "  'events': events.groupby('date').event_unique_identifier.count(),\n",
    "  'attendances': events.groupby('date').attendances.sum().astype(int),\n",
    "}).resample('M').sum().astype(int).to_csv(os.path.join(OUTPUT_DIR, 'events_by_date.csv'))"
   ]
  },
  {
   "cell_type": "markdown",
   "id": "aa49d9ed",
   "metadata": {
    "papermill": {
     "duration": 0.002156,
     "end_time": "2023-08-12T23:39:16.044021",
     "exception": false,
     "start_time": "2023-08-12T23:39:16.041865",
     "status": "completed"
    },
    "tags": []
   },
   "source": [
    "Tickets CSV"
   ]
  },
  {
   "cell_type": "code",
   "execution_count": 8,
   "id": "9edc1508",
   "metadata": {
    "execution": {
     "iopub.execute_input": "2023-08-12T23:39:16.049669Z",
     "iopub.status.busy": "2023-08-12T23:39:16.049126Z",
     "iopub.status.idle": "2023-08-12T23:39:16.055733Z",
     "shell.execute_reply": "2023-08-12T23:39:16.055111Z"
    },
    "papermill": {
     "duration": 0.011179,
     "end_time": "2023-08-12T23:39:16.057284",
     "exception": false,
     "start_time": "2023-08-12T23:39:16.046105",
     "status": "completed"
    },
    "tags": []
   },
   "outputs": [],
   "source": [
    "pd.DataFrame({\n",
    "  'orders': tickets.groupby('ward_code').number_of_tickets.count(),\n",
    "  'tickets': tickets.groupby('ward_code').number_of_tickets.sum().astype(int),\n",
    "}).to_csv(os.path.join(OUTPUT_DIR, 'tickets_by_ward.csv'))"
   ]
  },
  {
   "cell_type": "code",
   "execution_count": 9,
   "id": "d01623ea",
   "metadata": {
    "execution": {
     "iopub.execute_input": "2023-08-12T23:39:16.062992Z",
     "iopub.status.busy": "2023-08-12T23:39:16.062445Z",
     "iopub.status.idle": "2023-08-12T23:39:16.070515Z",
     "shell.execute_reply": "2023-08-12T23:39:16.069860Z"
    },
    "papermill": {
     "duration": 0.012442,
     "end_time": "2023-08-12T23:39:16.071875",
     "exception": false,
     "start_time": "2023-08-12T23:39:16.059433",
     "status": "completed"
    },
    "tags": []
   },
   "outputs": [],
   "source": [
    "pd.DataFrame({\n",
    "  'orders': tickets.groupby('event_date').number_of_tickets.count(),\n",
    "  'tickets': tickets.groupby('event_date').number_of_tickets.sum().astype(int),\n",
    "}).resample('M').sum().to_csv(os.path.join(OUTPUT_DIR, 'tickets_by_event_date.csv'))"
   ]
  },
  {
   "cell_type": "code",
   "execution_count": 10,
   "id": "37bc64c1",
   "metadata": {
    "execution": {
     "iopub.execute_input": "2023-08-12T23:39:16.078830Z",
     "iopub.status.busy": "2023-08-12T23:39:16.078144Z",
     "iopub.status.idle": "2023-08-12T23:39:16.083339Z",
     "shell.execute_reply": "2023-08-12T23:39:16.082778Z"
    },
    "papermill": {
     "duration": 0.010792,
     "end_time": "2023-08-12T23:39:16.084849",
     "exception": false,
     "start_time": "2023-08-12T23:39:16.074057",
     "status": "completed"
    },
    "tags": []
   },
   "outputs": [],
   "source": [
    "pd.Series({\n",
    "    'total_events': events.event_unique_identifier.count(),\n",
    "    'total_attendances': events.attendances.count(),\n",
    "    'first_event': events.date.min(),\n",
    "    'latest_event': events.date.max(),\n",
    "    'total_ticket_orders_for_events_to_date': tickets.number_of_tickets.count(),\n",
    "    'total_tickets_sold_for_events_to_date': tickets.number_of_tickets.sum(),\n",
    "}).to_json(os.path.join(OUTPUT_DIR, 'headlines.json'), indent=2)"
   ]
  },
  {
   "cell_type": "code",
   "execution_count": null,
   "id": "9605cc7f",
   "metadata": {
    "papermill": {
     "duration": 0.002132,
     "end_time": "2023-08-12T23:39:16.089154",
     "exception": false,
     "start_time": "2023-08-12T23:39:16.087022",
     "status": "completed"
    },
    "tags": []
   },
   "outputs": [],
   "source": []
  }
 ],
 "metadata": {
  "kernelspec": {
   "display_name": "leeds-2023-YZF5GfJv",
   "language": "python",
   "name": "python3"
  },
  "language_info": {
   "codemirror_mode": {
    "name": "ipython",
    "version": 3
   },
   "file_extension": ".py",
   "mimetype": "text/x-python",
   "name": "python",
   "nbconvert_exporter": "python",
   "pygments_lexer": "ipython3",
   "version": "3.10.12"
  },
  "papermill": {
   "default_parameters": {},
   "duration": 12.434543,
   "end_time": "2023-08-12T23:39:16.509032",
   "environment_variables": {},
   "exception": null,
   "input_path": "prepare.ipynb",
   "output_path": "../../../../working/output/signature-prepare.ipynb",
   "parameters": {},
   "start_time": "2023-08-12T23:39:04.074489",
   "version": "2.4.0"
  }
 },
 "nbformat": 4,
 "nbformat_minor": 5
}