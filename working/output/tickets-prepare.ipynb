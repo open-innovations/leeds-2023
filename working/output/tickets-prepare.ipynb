{
 "cells": [
  {
   "cell_type": "code",
   "execution_count": 1,
   "id": "cdf4fa78",
   "metadata": {
    "execution": {
     "iopub.execute_input": "2023-12-25T23:39:16.329113Z",
     "iopub.status.busy": "2023-12-25T23:39:16.328914Z",
     "iopub.status.idle": "2023-12-25T23:39:16.564341Z",
     "shell.execute_reply": "2023-12-25T23:39:16.563778Z"
    },
    "papermill": {
     "duration": 0.240957,
     "end_time": "2023-12-25T23:39:16.565958",
     "exception": false,
     "start_time": "2023-12-25T23:39:16.325001",
     "status": "completed"
    },
    "tags": []
   },
   "outputs": [],
   "source": [
    "from pathlib import Path\n",
    "import pandas as pd"
   ]
  },
  {
   "cell_type": "markdown",
   "id": "7be4ff1b",
   "metadata": {
    "papermill": {
     "duration": 0.002147,
     "end_time": "2023-12-25T23:39:16.570683",
     "exception": false,
     "start_time": "2023-12-25T23:39:16.568536",
     "status": "completed"
    },
    "tags": []
   },
   "source": [
    "Load the orders data which was created in the [transform stage](./tickets.ipynb)."
   ]
  },
  {
   "cell_type": "code",
   "execution_count": 2,
   "id": "6b2c806a",
   "metadata": {
    "execution": {
     "iopub.execute_input": "2023-12-25T23:39:16.576129Z",
     "iopub.status.busy": "2023-12-25T23:39:16.575688Z",
     "iopub.status.idle": "2023-12-25T23:39:16.593434Z",
     "shell.execute_reply": "2023-12-25T23:39:16.592935Z"
    },
    "papermill": {
     "duration": 0.021877,
     "end_time": "2023-12-25T23:39:16.594704",
     "exception": false,
     "start_time": "2023-12-25T23:39:16.572827",
     "status": "completed"
    },
    "tags": []
   },
   "outputs": [],
   "source": [
    "def prepare(data: pd.DataFrame) -> pd.DataFrame:\n",
    "    data = data.loc[\n",
    "        (\n",
    "            data.public_event == True\n",
    "        ) & (\n",
    "            ~data.project_name.isin([\n",
    "                'Skills Development',\n",
    "            ])\n",
    "        )\n",
    "    ]\n",
    "    data = data.drop(columns=['public_event'])\n",
    "    return data\n",
    "\n",
    "\n",
    "orders = pd.read_csv(\n",
    "    '../../../../data/metrics/events/tickets/orders.csv',\n",
    "    usecols=[\n",
    "        'created_at',\n",
    "        'project_name',\n",
    "        'public_event',\n",
    "        'number_of_tickets'\n",
    "    ],\n",
    "    parse_dates=['created_at']\n",
    ").pipe(prepare)"
   ]
  },
  {
   "cell_type": "markdown",
   "id": "fcf9df6e",
   "metadata": {
    "papermill": {
     "duration": 0.002116,
     "end_time": "2023-12-25T23:39:16.599020",
     "exception": false,
     "start_time": "2023-12-25T23:39:16.596904",
     "status": "completed"
    },
    "tags": []
   },
   "source": [
    "Define functions to count and sum tickets, and to append cumulative versions of those."
   ]
  },
  {
   "cell_type": "code",
   "execution_count": 3,
   "id": "85ad42ec",
   "metadata": {
    "execution": {
     "iopub.execute_input": "2023-12-25T23:39:16.604384Z",
     "iopub.status.busy": "2023-12-25T23:39:16.603899Z",
     "iopub.status.idle": "2023-12-25T23:39:16.607857Z",
     "shell.execute_reply": "2023-12-25T23:39:16.607327Z"
    },
    "papermill": {
     "duration": 0.007997,
     "end_time": "2023-12-25T23:39:16.609102",
     "exception": false,
     "start_time": "2023-12-25T23:39:16.601105",
     "status": "completed"
    },
    "tags": []
   },
   "outputs": [],
   "source": [
    "def count_and_sum(series):\n",
    "    return pd.concat([\n",
    "        series.count().to_frame('orders'),\n",
    "        series.sum().to_frame('tickets'),\n",
    "    ], axis=1)\n",
    "\n",
    "\n",
    "def cumulate(df: pd.DataFrame) -> pd.DataFrame:\n",
    "    return pd.concat([\n",
    "        df,\n",
    "        df.cumsum().rename(columns=lambda x: f'cumulative_{x}')\n",
    "    ], axis=1)"
   ]
  },
  {
   "cell_type": "markdown",
   "id": "287f51be",
   "metadata": {
    "papermill": {
     "duration": 0.002107,
     "end_time": "2023-12-25T23:39:16.613415",
     "exception": false,
     "start_time": "2023-12-25T23:39:16.611308",
     "status": "completed"
    },
    "tags": []
   },
   "source": [
    "Create output directory"
   ]
  },
  {
   "cell_type": "code",
   "execution_count": 4,
   "id": "ddaed4aa",
   "metadata": {
    "execution": {
     "iopub.execute_input": "2023-12-25T23:39:16.618849Z",
     "iopub.status.busy": "2023-12-25T23:39:16.618346Z",
     "iopub.status.idle": "2023-12-25T23:39:16.621568Z",
     "shell.execute_reply": "2023-12-25T23:39:16.621038Z"
    },
    "papermill": {
     "duration": 0.007315,
     "end_time": "2023-12-25T23:39:16.622910",
     "exception": false,
     "start_time": "2023-12-25T23:39:16.615595",
     "status": "completed"
    },
    "tags": []
   },
   "outputs": [],
   "source": [
    "OUTPUT_DIR = Path('../../../../docs/metrics/tickets/_data/')\n",
    "OUTPUT_DIR.mkdir(parents=True, exist_ok=True)"
   ]
  },
  {
   "cell_type": "markdown",
   "id": "f2b5f58a",
   "metadata": {
    "papermill": {
     "duration": 0.002161,
     "end_time": "2023-12-25T23:39:16.627989",
     "exception": false,
     "start_time": "2023-12-25T23:39:16.625828",
     "status": "completed"
    },
    "tags": []
   },
   "source": [
    "Count / sum the orders and tickets by project code and save to a JSON file"
   ]
  },
  {
   "cell_type": "code",
   "execution_count": 5,
   "id": "2c59da85",
   "metadata": {
    "execution": {
     "iopub.execute_input": "2023-12-25T23:39:16.633351Z",
     "iopub.status.busy": "2023-12-25T23:39:16.632908Z",
     "iopub.status.idle": "2023-12-25T23:39:16.639133Z",
     "shell.execute_reply": "2023-12-25T23:39:16.638492Z"
    },
    "papermill": {
     "duration": 0.010479,
     "end_time": "2023-12-25T23:39:16.640593",
     "exception": false,
     "start_time": "2023-12-25T23:39:16.630114",
     "status": "completed"
    },
    "tags": []
   },
   "outputs": [],
   "source": [
    "by_project = orders.groupby('project_name').number_of_tickets.pipe(count_and_sum)\n",
    "by_project.loc['total']= by_project.sum()\n",
    "by_project.T.to_json(\n",
    "  OUTPUT_DIR.joinpath('headlines.json'),\n",
    "  indent=2\n",
    ")"
   ]
  },
  {
   "cell_type": "markdown",
   "id": "807619d8",
   "metadata": {
    "papermill": {
     "duration": 0.002251,
     "end_time": "2023-12-25T23:39:16.645144",
     "exception": false,
     "start_time": "2023-12-25T23:39:16.642893",
     "status": "completed"
    },
    "tags": []
   },
   "source": [
    "Add `day` column"
   ]
  },
  {
   "cell_type": "code",
   "execution_count": 6,
   "id": "2412401e",
   "metadata": {
    "execution": {
     "iopub.execute_input": "2023-12-25T23:39:16.650627Z",
     "iopub.status.busy": "2023-12-25T23:39:16.650254Z",
     "iopub.status.idle": "2023-12-25T23:39:16.654139Z",
     "shell.execute_reply": "2023-12-25T23:39:16.653528Z"
    },
    "papermill": {
     "duration": 0.008087,
     "end_time": "2023-12-25T23:39:16.655494",
     "exception": false,
     "start_time": "2023-12-25T23:39:16.647407",
     "status": "completed"
    },
    "tags": []
   },
   "outputs": [],
   "source": [
    "orders['day'] = orders.created_at.dt.floor('D')"
   ]
  },
  {
   "cell_type": "code",
   "execution_count": 7,
   "id": "e280ae0f",
   "metadata": {
    "execution": {
     "iopub.execute_input": "2023-12-25T23:39:16.661058Z",
     "iopub.status.busy": "2023-12-25T23:39:16.660634Z",
     "iopub.status.idle": "2023-12-25T23:39:16.670281Z",
     "shell.execute_reply": "2023-12-25T23:39:16.669669Z"
    },
    "papermill": {
     "duration": 0.013903,
     "end_time": "2023-12-25T23:39:16.671647",
     "exception": false,
     "start_time": "2023-12-25T23:39:16.657744",
     "status": "completed"
    },
    "tags": []
   },
   "outputs": [
    {
     "data": {
      "text/html": [
       "<div>\n",
       "<style scoped>\n",
       "    .dataframe tbody tr th:only-of-type {\n",
       "        vertical-align: middle;\n",
       "    }\n",
       "\n",
       "    .dataframe tbody tr th {\n",
       "        vertical-align: top;\n",
       "    }\n",
       "\n",
       "    .dataframe thead th {\n",
       "        text-align: right;\n",
       "    }\n",
       "</style>\n",
       "<table border=\"1\" class=\"dataframe\">\n",
       "  <thead>\n",
       "    <tr style=\"text-align: right;\">\n",
       "      <th></th>\n",
       "      <th>created_at</th>\n",
       "      <th>day</th>\n",
       "    </tr>\n",
       "  </thead>\n",
       "  <tbody>\n",
       "    <tr>\n",
       "      <th>176</th>\n",
       "      <td>2023-03-30 16:58:03</td>\n",
       "      <td>2023-03-30</td>\n",
       "    </tr>\n",
       "    <tr>\n",
       "      <th>177</th>\n",
       "      <td>2023-03-30 18:44:08</td>\n",
       "      <td>2023-03-30</td>\n",
       "    </tr>\n",
       "    <tr>\n",
       "      <th>180</th>\n",
       "      <td>2023-03-30 20:32:43</td>\n",
       "      <td>2023-03-30</td>\n",
       "    </tr>\n",
       "    <tr>\n",
       "      <th>181</th>\n",
       "      <td>2023-03-30 21:27:59</td>\n",
       "      <td>2023-03-30</td>\n",
       "    </tr>\n",
       "    <tr>\n",
       "      <th>183</th>\n",
       "      <td>2023-03-30 22:56:31</td>\n",
       "      <td>2023-03-30</td>\n",
       "    </tr>\n",
       "  </tbody>\n",
       "</table>\n",
       "</div>"
      ],
      "text/plain": [
       "             created_at        day\n",
       "176 2023-03-30 16:58:03 2023-03-30\n",
       "177 2023-03-30 18:44:08 2023-03-30\n",
       "180 2023-03-30 20:32:43 2023-03-30\n",
       "181 2023-03-30 21:27:59 2023-03-30\n",
       "183 2023-03-30 22:56:31 2023-03-30"
      ]
     },
     "execution_count": 7,
     "metadata": {},
     "output_type": "execute_result"
    }
   ],
   "source": [
    "orders.loc[:, ['created_at', 'day']].head()"
   ]
  },
  {
   "cell_type": "markdown",
   "id": "f40912eb",
   "metadata": {
    "papermill": {
     "duration": 0.002431,
     "end_time": "2023-12-25T23:39:16.676710",
     "exception": false,
     "start_time": "2023-12-25T23:39:16.674279",
     "status": "completed"
    },
    "tags": []
   },
   "source": [
    "Save table cumulative weekly per project"
   ]
  },
  {
   "cell_type": "code",
   "execution_count": 8,
   "id": "8000e532",
   "metadata": {
    "execution": {
     "iopub.execute_input": "2023-12-25T23:39:16.682688Z",
     "iopub.status.busy": "2023-12-25T23:39:16.682205Z",
     "iopub.status.idle": "2023-12-25T23:39:16.692243Z",
     "shell.execute_reply": "2023-12-25T23:39:16.691621Z"
    },
    "papermill": {
     "duration": 0.014435,
     "end_time": "2023-12-25T23:39:16.693577",
     "exception": false,
     "start_time": "2023-12-25T23:39:16.679142",
     "status": "completed"
    },
    "tags": []
   },
   "outputs": [],
   "source": [
    "orders.groupby(\n",
    "  ['day', 'project_name']\n",
    ").number_of_tickets.pipe(\n",
    "  count_and_sum\n",
    ").tickets.unstack().fillna(0).resample('W-FRI').sum().cumsum().rename_axis('week').to_csv(\n",
    "  OUTPUT_DIR.joinpath('by_project_cumulative_weekly.csv')\n",
    ")"
   ]
  },
  {
   "cell_type": "markdown",
   "id": "0e4c0b18",
   "metadata": {
    "papermill": {
     "duration": 0.002418,
     "end_time": "2023-12-25T23:39:16.698568",
     "exception": false,
     "start_time": "2023-12-25T23:39:16.696150",
     "status": "completed"
    },
    "tags": []
   },
   "source": [
    "Save cumulative monthly sales"
   ]
  },
  {
   "cell_type": "code",
   "execution_count": 9,
   "id": "f578d347",
   "metadata": {
    "execution": {
     "iopub.execute_input": "2023-12-25T23:39:16.704585Z",
     "iopub.status.busy": "2023-12-25T23:39:16.704095Z",
     "iopub.status.idle": "2023-12-25T23:39:16.710778Z",
     "shell.execute_reply": "2023-12-25T23:39:16.710239Z"
    },
    "papermill": {
     "duration": 0.011032,
     "end_time": "2023-12-25T23:39:16.712079",
     "exception": false,
     "start_time": "2023-12-25T23:39:16.701047",
     "status": "completed"
    },
    "tags": []
   },
   "outputs": [],
   "source": [
    "orders.groupby(['day']).number_of_tickets.pipe(count_and_sum).resample('MS').sum().pipe(cumulate).rename_axis('month').to_csv(\n",
    "  OUTPUT_DIR.joinpath('monthly_cumulative.csv')\n",
    ")"
   ]
  },
  {
   "cell_type": "code",
   "execution_count": null,
   "id": "c2fc2ba0",
   "metadata": {
    "papermill": {
     "duration": 0.00248,
     "end_time": "2023-12-25T23:39:16.717076",
     "exception": false,
     "start_time": "2023-12-25T23:39:16.714596",
     "status": "completed"
    },
    "tags": []
   },
   "outputs": [],
   "source": []
  }
 ],
 "metadata": {
  "kernelspec": {
   "display_name": "leeds-2023-YZF5GfJv",
   "language": "python",
   "name": "python3"
  },
  "language_info": {
   "codemirror_mode": {
    "name": "ipython",
    "version": 3
   },
   "file_extension": ".py",
   "mimetype": "text/x-python",
   "name": "python",
   "nbconvert_exporter": "python",
   "pygments_lexer": "ipython3",
   "version": "3.10.13"
  },
  "papermill": {
   "default_parameters": {},
   "duration": 1.841881,
   "end_time": "2023-12-25T23:39:16.937033",
   "environment_variables": {},
   "exception": null,
   "input_path": "prepare.ipynb",
   "output_path": "../../../../working/output/tickets-prepare.ipynb",
   "parameters": {},
   "start_time": "2023-12-25T23:39:15.095152",
   "version": "2.4.0"
  }
 },
 "nbformat": 4,
 "nbformat_minor": 5
}