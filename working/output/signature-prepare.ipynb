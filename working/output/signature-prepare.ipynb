{
 "cells": [
  {
   "cell_type": "code",
   "execution_count": 1,
   "id": "a7bd0ea5",
   "metadata": {
    "execution": {
     "iopub.execute_input": "2023-11-30T23:40:44.348952Z",
     "iopub.status.busy": "2023-11-30T23:40:44.348760Z",
     "iopub.status.idle": "2023-11-30T23:40:51.684604Z",
     "shell.execute_reply": "2023-11-30T23:40:51.683905Z"
    },
    "papermill": {
     "duration": 7.341023,
     "end_time": "2023-11-30T23:40:51.686285",
     "exception": false,
     "start_time": "2023-11-30T23:40:44.345262",
     "status": "completed"
    },
    "tags": []
   },
   "outputs": [],
   "source": [
    "import os\n",
    "import pandas as pd\n",
    "from events import load_event_data, get_first_ward, normalise_ward"
   ]
  },
  {
   "cell_type": "code",
   "execution_count": 2,
   "id": "ac7cd1c0",
   "metadata": {
    "execution": {
     "iopub.execute_input": "2023-11-30T23:40:51.691503Z",
     "iopub.status.busy": "2023-11-30T23:40:51.691116Z",
     "iopub.status.idle": "2023-11-30T23:40:51.694471Z",
     "shell.execute_reply": "2023-11-30T23:40:51.693911Z"
    },
    "papermill": {
     "duration": 0.007179,
     "end_time": "2023-11-30T23:40:51.695745",
     "exception": false,
     "start_time": "2023-11-30T23:40:51.688566",
     "status": "completed"
    },
    "tags": []
   },
   "outputs": [],
   "source": [
    "latest_date = pd.Timestamp.today().ceil('D')"
   ]
  },
  {
   "cell_type": "code",
   "execution_count": 3,
   "id": "3b4d77a8",
   "metadata": {
    "execution": {
     "iopub.execute_input": "2023-11-30T23:40:51.700562Z",
     "iopub.status.busy": "2023-11-30T23:40:51.700170Z",
     "iopub.status.idle": "2023-11-30T23:40:51.714425Z",
     "shell.execute_reply": "2023-11-30T23:40:51.713923Z"
    },
    "papermill": {
     "duration": 0.018099,
     "end_time": "2023-11-30T23:40:51.715769",
     "exception": false,
     "start_time": "2023-11-30T23:40:51.697670",
     "status": "completed"
    },
    "tags": []
   },
   "outputs": [],
   "source": [
    "tickets = pd.read_csv('../../../../data/metrics/events/tickets/orders.csv', parse_dates=['created_at', 'event_date'])\n",
    "tickets = tickets[tickets.event_date <= latest_date]"
   ]
  },
  {
   "cell_type": "code",
   "execution_count": 4,
   "id": "18679688",
   "metadata": {
    "execution": {
     "iopub.execute_input": "2023-11-30T23:40:51.720605Z",
     "iopub.status.busy": "2023-11-30T23:40:51.720141Z",
     "iopub.status.idle": "2023-11-30T23:40:51.773165Z",
     "shell.execute_reply": "2023-11-30T23:40:51.772511Z"
    },
    "papermill": {
     "duration": 0.05711,
     "end_time": "2023-11-30T23:40:51.774770",
     "exception": false,
     "start_time": "2023-11-30T23:40:51.717660",
     "status": "completed"
    },
    "tags": []
   },
   "outputs": [],
   "source": [
    "events = load_event_data()\n",
    "\n",
    "events = pd.concat([\n",
    "  events,\n",
    "  events.pipe(get_first_ward).pipe(normalise_ward).fillna('UNKNOWN'),\n",
    "  pd.Series(\n",
    "      events.actual_audience_size_number_of_participants_in_person + events.actual_audience_size_number_of_participants_online,\n",
    "      name='attendances'\n",
    "  )\n",
    "], axis=1).rename(columns={\n",
    "    'start_date': 'date'\n",
    "}).loc[:, ['ward_code', 'date', 'event_unique_identifier', 'attendances']]"
   ]
  },
  {
   "cell_type": "code",
   "execution_count": 5,
   "id": "8fd17428",
   "metadata": {
    "execution": {
     "iopub.execute_input": "2023-11-30T23:40:51.780049Z",
     "iopub.status.busy": "2023-11-30T23:40:51.779557Z",
     "iopub.status.idle": "2023-11-30T23:40:51.782955Z",
     "shell.execute_reply": "2023-11-30T23:40:51.782426Z"
    },
    "papermill": {
     "duration": 0.007295,
     "end_time": "2023-11-30T23:40:51.784183",
     "exception": false,
     "start_time": "2023-11-30T23:40:51.776888",
     "status": "completed"
    },
    "tags": []
   },
   "outputs": [],
   "source": [
    "OUTPUT_DIR='../../../../docs/metrics/events/signature/_data/'\n",
    "os.makedirs(OUTPUT_DIR, exist_ok=True)"
   ]
  },
  {
   "cell_type": "markdown",
   "id": "c5c1087c",
   "metadata": {
    "papermill": {
     "duration": 0.001967,
     "end_time": "2023-11-30T23:40:51.788070",
     "exception": false,
     "start_time": "2023-11-30T23:40:51.786103",
     "status": "completed"
    },
    "tags": []
   },
   "source": [
    "Events CSVs"
   ]
  },
  {
   "cell_type": "code",
   "execution_count": 6,
   "id": "1871590e",
   "metadata": {
    "execution": {
     "iopub.execute_input": "2023-11-30T23:40:51.793454Z",
     "iopub.status.busy": "2023-11-30T23:40:51.792967Z",
     "iopub.status.idle": "2023-11-30T23:40:51.799415Z",
     "shell.execute_reply": "2023-11-30T23:40:51.798810Z"
    },
    "papermill": {
     "duration": 0.010557,
     "end_time": "2023-11-30T23:40:51.800789",
     "exception": false,
     "start_time": "2023-11-30T23:40:51.790232",
     "status": "completed"
    },
    "tags": []
   },
   "outputs": [],
   "source": [
    "pd.DataFrame({\n",
    "  'events': events.groupby('ward_code').event_unique_identifier.count(),\n",
    "  'attendances': events.groupby('ward_code').attendances.sum().astype(int),\n",
    "}).to_csv(os.path.join(OUTPUT_DIR, 'events_by_ward.csv'))\n"
   ]
  },
  {
   "cell_type": "code",
   "execution_count": 7,
   "id": "71d8d3de",
   "metadata": {
    "execution": {
     "iopub.execute_input": "2023-11-30T23:40:51.805721Z",
     "iopub.status.busy": "2023-11-30T23:40:51.805357Z",
     "iopub.status.idle": "2023-11-30T23:40:51.813614Z",
     "shell.execute_reply": "2023-11-30T23:40:51.812989Z"
    },
    "papermill": {
     "duration": 0.012299,
     "end_time": "2023-11-30T23:40:51.815004",
     "exception": false,
     "start_time": "2023-11-30T23:40:51.802705",
     "status": "completed"
    },
    "tags": []
   },
   "outputs": [],
   "source": [
    "pd.DataFrame({\n",
    "  'events': events.groupby('date').event_unique_identifier.count(),\n",
    "  'attendances': events.groupby('date').attendances.sum().astype(int),\n",
    "}).resample('M').sum().astype(int).to_csv(os.path.join(OUTPUT_DIR, 'events_by_date.csv'))"
   ]
  },
  {
   "cell_type": "markdown",
   "id": "1a288654",
   "metadata": {
    "papermill": {
     "duration": 0.002722,
     "end_time": "2023-11-30T23:40:51.819740",
     "exception": false,
     "start_time": "2023-11-30T23:40:51.817018",
     "status": "completed"
    },
    "tags": []
   },
   "source": [
    "Tickets CSV"
   ]
  },
  {
   "cell_type": "code",
   "execution_count": 8,
   "id": "f96463fd",
   "metadata": {
    "execution": {
     "iopub.execute_input": "2023-11-30T23:40:51.825010Z",
     "iopub.status.busy": "2023-11-30T23:40:51.824427Z",
     "iopub.status.idle": "2023-11-30T23:40:51.831159Z",
     "shell.execute_reply": "2023-11-30T23:40:51.830646Z"
    },
    "papermill": {
     "duration": 0.010739,
     "end_time": "2023-11-30T23:40:51.832428",
     "exception": false,
     "start_time": "2023-11-30T23:40:51.821689",
     "status": "completed"
    },
    "tags": []
   },
   "outputs": [],
   "source": [
    "pd.DataFrame({\n",
    "  'orders': tickets.groupby('ward_code').number_of_tickets.count(),\n",
    "  'tickets': tickets.groupby('ward_code').number_of_tickets.sum().astype(int),\n",
    "}).to_csv(os.path.join(OUTPUT_DIR, 'tickets_by_ward.csv'))"
   ]
  },
  {
   "cell_type": "code",
   "execution_count": 9,
   "id": "43a22f89",
   "metadata": {
    "execution": {
     "iopub.execute_input": "2023-11-30T23:40:51.837623Z",
     "iopub.status.busy": "2023-11-30T23:40:51.837239Z",
     "iopub.status.idle": "2023-11-30T23:40:51.844426Z",
     "shell.execute_reply": "2023-11-30T23:40:51.843808Z"
    },
    "papermill": {
     "duration": 0.011399,
     "end_time": "2023-11-30T23:40:51.845870",
     "exception": false,
     "start_time": "2023-11-30T23:40:51.834471",
     "status": "completed"
    },
    "tags": []
   },
   "outputs": [],
   "source": [
    "pd.DataFrame({\n",
    "  'orders': tickets.groupby('event_date').number_of_tickets.count(),\n",
    "  'tickets': tickets.groupby('event_date').number_of_tickets.sum().astype(int),\n",
    "}).resample('M').sum().to_csv(os.path.join(OUTPUT_DIR, 'tickets_by_event_date.csv'))"
   ]
  },
  {
   "cell_type": "code",
   "execution_count": 10,
   "id": "b6045346",
   "metadata": {
    "execution": {
     "iopub.execute_input": "2023-11-30T23:40:51.851063Z",
     "iopub.status.busy": "2023-11-30T23:40:51.850642Z",
     "iopub.status.idle": "2023-11-30T23:40:51.855377Z",
     "shell.execute_reply": "2023-11-30T23:40:51.854863Z"
    },
    "papermill": {
     "duration": 0.008828,
     "end_time": "2023-11-30T23:40:51.856698",
     "exception": false,
     "start_time": "2023-11-30T23:40:51.847870",
     "status": "completed"
    },
    "tags": []
   },
   "outputs": [],
   "source": [
    "pd.Series({\n",
    "    'total_events': events.event_unique_identifier.count(),\n",
    "    'total_attendances': events.attendances.count(),\n",
    "    'first_event': events.date.min(),\n",
    "    'latest_event': events.date.max(),\n",
    "    'total_ticket_orders_for_events_to_date': tickets.number_of_tickets.count(),\n",
    "    'total_tickets_sold_for_events_to_date': tickets.number_of_tickets.sum(),\n",
    "}).to_json(os.path.join(OUTPUT_DIR, 'headlines.json'), indent=2)"
   ]
  },
  {
   "cell_type": "code",
   "execution_count": null,
   "id": "22d22509",
   "metadata": {
    "papermill": {
     "duration": 0.002,
     "end_time": "2023-11-30T23:40:51.860706",
     "exception": false,
     "start_time": "2023-11-30T23:40:51.858706",
     "status": "completed"
    },
    "tags": []
   },
   "outputs": [],
   "source": []
  }
 ],
 "metadata": {
  "kernelspec": {
   "display_name": "leeds-2023-YZF5GfJv",
   "language": "python",
   "name": "python3"
  },
  "language_info": {
   "codemirror_mode": {
    "name": "ipython",
    "version": 3
   },
   "file_extension": ".py",
   "mimetype": "text/x-python",
   "name": "python",
   "nbconvert_exporter": "python",
   "pygments_lexer": "ipython3",
   "version": "3.10.13"
  },
  "papermill": {
   "default_parameters": {},
   "duration": 9.076317,
   "end_time": "2023-11-30T23:40:52.179533",
   "environment_variables": {},
   "exception": null,
   "input_path": "prepare.ipynb",
   "output_path": "../../../../working/output/signature-prepare.ipynb",
   "parameters": {},
   "start_time": "2023-11-30T23:40:43.103216",
   "version": "2.4.0"
  }
 },
 "nbformat": 4,
 "nbformat_minor": 5
}