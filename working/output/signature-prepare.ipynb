{
 "cells": [
  {
   "cell_type": "code",
   "execution_count": 1,
   "id": "eb92cb4e",
   "metadata": {
    "execution": {
     "iopub.execute_input": "2023-09-17T23:38:49.402547Z",
     "iopub.status.busy": "2023-09-17T23:38:49.401993Z",
     "iopub.status.idle": "2023-09-17T23:38:59.753875Z",
     "shell.execute_reply": "2023-09-17T23:38:59.753183Z"
    },
    "papermill": {
     "duration": 10.357902,
     "end_time": "2023-09-17T23:38:59.755664",
     "exception": false,
     "start_time": "2023-09-17T23:38:49.397762",
     "status": "completed"
    },
    "tags": []
   },
   "outputs": [],
   "source": [
    "import os\n",
    "import pandas as pd\n",
    "from events import load_event_data, get_first_ward, normalise_ward"
   ]
  },
  {
   "cell_type": "code",
   "execution_count": 2,
   "id": "b55c5f3b",
   "metadata": {
    "execution": {
     "iopub.execute_input": "2023-09-17T23:38:59.762234Z",
     "iopub.status.busy": "2023-09-17T23:38:59.761584Z",
     "iopub.status.idle": "2023-09-17T23:38:59.765963Z",
     "shell.execute_reply": "2023-09-17T23:38:59.765386Z"
    },
    "papermill": {
     "duration": 0.009119,
     "end_time": "2023-09-17T23:38:59.767392",
     "exception": false,
     "start_time": "2023-09-17T23:38:59.758273",
     "status": "completed"
    },
    "tags": []
   },
   "outputs": [],
   "source": [
    "latest_date = pd.Timestamp.today().ceil('D')"
   ]
  },
  {
   "cell_type": "code",
   "execution_count": 3,
   "id": "f18b8673",
   "metadata": {
    "execution": {
     "iopub.execute_input": "2023-09-17T23:38:59.773287Z",
     "iopub.status.busy": "2023-09-17T23:38:59.772828Z",
     "iopub.status.idle": "2023-09-17T23:38:59.790672Z",
     "shell.execute_reply": "2023-09-17T23:38:59.790033Z"
    },
    "papermill": {
     "duration": 0.022477,
     "end_time": "2023-09-17T23:38:59.792176",
     "exception": false,
     "start_time": "2023-09-17T23:38:59.769699",
     "status": "completed"
    },
    "tags": []
   },
   "outputs": [],
   "source": [
    "tickets = pd.read_csv('../../../../data/metrics/events/tickets/orders.csv', parse_dates=['created_at', 'event_date'])\n",
    "tickets = tickets[tickets.event_date <= latest_date]"
   ]
  },
  {
   "cell_type": "code",
   "execution_count": 4,
   "id": "197b4e41",
   "metadata": {
    "execution": {
     "iopub.execute_input": "2023-09-17T23:38:59.798083Z",
     "iopub.status.busy": "2023-09-17T23:38:59.797654Z",
     "iopub.status.idle": "2023-09-17T23:39:00.020998Z",
     "shell.execute_reply": "2023-09-17T23:39:00.020331Z"
    },
    "papermill": {
     "duration": 0.228219,
     "end_time": "2023-09-17T23:39:00.022808",
     "exception": false,
     "start_time": "2023-09-17T23:38:59.794589",
     "status": "completed"
    },
    "tags": []
   },
   "outputs": [],
   "source": [
    "events = load_event_data()\n",
    "\n",
    "events = pd.concat([\n",
    "  events,\n",
    "  events.pipe(get_first_ward).pipe(normalise_ward).fillna('UNKNOWN'),\n",
    "  pd.Series(\n",
    "      events.actual_audience_size_number_of_participants_in_person + events.actual_audience_size_number_of_participants_online,\n",
    "      name='attendances'\n",
    "  )\n",
    "], axis=1).rename(columns={\n",
    "    'start_date': 'date'\n",
    "}).loc[:, ['ward_code', 'date', 'event_unique_identifier', 'attendances']]"
   ]
  },
  {
   "cell_type": "code",
   "execution_count": 5,
   "id": "e2f3bab0",
   "metadata": {
    "execution": {
     "iopub.execute_input": "2023-09-17T23:39:00.029625Z",
     "iopub.status.busy": "2023-09-17T23:39:00.029014Z",
     "iopub.status.idle": "2023-09-17T23:39:00.033740Z",
     "shell.execute_reply": "2023-09-17T23:39:00.033125Z"
    },
    "papermill": {
     "duration": 0.009961,
     "end_time": "2023-09-17T23:39:00.035427",
     "exception": false,
     "start_time": "2023-09-17T23:39:00.025466",
     "status": "completed"
    },
    "tags": []
   },
   "outputs": [],
   "source": [
    "OUTPUT_DIR='../../../../docs/metrics/events/signature/_data/'\n",
    "os.makedirs(OUTPUT_DIR, exist_ok=True)"
   ]
  },
  {
   "cell_type": "markdown",
   "id": "0999c5fc",
   "metadata": {
    "papermill": {
     "duration": 0.002381,
     "end_time": "2023-09-17T23:39:00.040239",
     "exception": false,
     "start_time": "2023-09-17T23:39:00.037858",
     "status": "completed"
    },
    "tags": []
   },
   "source": [
    "Events CSVs"
   ]
  },
  {
   "cell_type": "code",
   "execution_count": 6,
   "id": "d7098142",
   "metadata": {
    "execution": {
     "iopub.execute_input": "2023-09-17T23:39:00.046144Z",
     "iopub.status.busy": "2023-09-17T23:39:00.045692Z",
     "iopub.status.idle": "2023-09-17T23:39:00.053811Z",
     "shell.execute_reply": "2023-09-17T23:39:00.053200Z"
    },
    "papermill": {
     "duration": 0.012732,
     "end_time": "2023-09-17T23:39:00.055312",
     "exception": false,
     "start_time": "2023-09-17T23:39:00.042580",
     "status": "completed"
    },
    "tags": []
   },
   "outputs": [],
   "source": [
    "pd.DataFrame({\n",
    "  'events': events.groupby('ward_code').event_unique_identifier.count(),\n",
    "  'attendances': events.groupby('ward_code').attendances.sum().astype(int),\n",
    "}).to_csv(os.path.join(OUTPUT_DIR, 'events_by_ward.csv'))\n"
   ]
  },
  {
   "cell_type": "code",
   "execution_count": 7,
   "id": "504b8f83",
   "metadata": {
    "execution": {
     "iopub.execute_input": "2023-09-17T23:39:00.061249Z",
     "iopub.status.busy": "2023-09-17T23:39:00.060867Z",
     "iopub.status.idle": "2023-09-17T23:39:00.071422Z",
     "shell.execute_reply": "2023-09-17T23:39:00.070831Z"
    },
    "papermill": {
     "duration": 0.015107,
     "end_time": "2023-09-17T23:39:00.072838",
     "exception": false,
     "start_time": "2023-09-17T23:39:00.057731",
     "status": "completed"
    },
    "tags": []
   },
   "outputs": [],
   "source": [
    "pd.DataFrame({\n",
    "  'events': events.groupby('date').event_unique_identifier.count(),\n",
    "  'attendances': events.groupby('date').attendances.sum().astype(int),\n",
    "}).resample('M').sum().astype(int).to_csv(os.path.join(OUTPUT_DIR, 'events_by_date.csv'))"
   ]
  },
  {
   "cell_type": "markdown",
   "id": "a649e2a7",
   "metadata": {
    "papermill": {
     "duration": 0.002426,
     "end_time": "2023-09-17T23:39:00.077703",
     "exception": false,
     "start_time": "2023-09-17T23:39:00.075277",
     "status": "completed"
    },
    "tags": []
   },
   "source": [
    "Tickets CSV"
   ]
  },
  {
   "cell_type": "code",
   "execution_count": 8,
   "id": "ab706f8b",
   "metadata": {
    "execution": {
     "iopub.execute_input": "2023-09-17T23:39:00.083684Z",
     "iopub.status.busy": "2023-09-17T23:39:00.083250Z",
     "iopub.status.idle": "2023-09-17T23:39:00.090310Z",
     "shell.execute_reply": "2023-09-17T23:39:00.089719Z"
    },
    "papermill": {
     "duration": 0.011775,
     "end_time": "2023-09-17T23:39:00.091861",
     "exception": false,
     "start_time": "2023-09-17T23:39:00.080086",
     "status": "completed"
    },
    "tags": []
   },
   "outputs": [],
   "source": [
    "pd.DataFrame({\n",
    "  'orders': tickets.groupby('ward_code').number_of_tickets.count(),\n",
    "  'tickets': tickets.groupby('ward_code').number_of_tickets.sum().astype(int),\n",
    "}).to_csv(os.path.join(OUTPUT_DIR, 'tickets_by_ward.csv'))"
   ]
  },
  {
   "cell_type": "code",
   "execution_count": 9,
   "id": "1d80f390",
   "metadata": {
    "execution": {
     "iopub.execute_input": "2023-09-17T23:39:00.098207Z",
     "iopub.status.busy": "2023-09-17T23:39:00.097635Z",
     "iopub.status.idle": "2023-09-17T23:39:00.105917Z",
     "shell.execute_reply": "2023-09-17T23:39:00.105302Z"
    },
    "papermill": {
     "duration": 0.013131,
     "end_time": "2023-09-17T23:39:00.107507",
     "exception": false,
     "start_time": "2023-09-17T23:39:00.094376",
     "status": "completed"
    },
    "tags": []
   },
   "outputs": [],
   "source": [
    "pd.DataFrame({\n",
    "  'orders': tickets.groupby('event_date').number_of_tickets.count(),\n",
    "  'tickets': tickets.groupby('event_date').number_of_tickets.sum().astype(int),\n",
    "}).resample('M').sum().to_csv(os.path.join(OUTPUT_DIR, 'tickets_by_event_date.csv'))"
   ]
  },
  {
   "cell_type": "code",
   "execution_count": 10,
   "id": "0a16af5b",
   "metadata": {
    "execution": {
     "iopub.execute_input": "2023-09-17T23:39:00.114644Z",
     "iopub.status.busy": "2023-09-17T23:39:00.114197Z",
     "iopub.status.idle": "2023-09-17T23:39:00.119637Z",
     "shell.execute_reply": "2023-09-17T23:39:00.118970Z"
    },
    "papermill": {
     "duration": 0.011033,
     "end_time": "2023-09-17T23:39:00.121104",
     "exception": false,
     "start_time": "2023-09-17T23:39:00.110071",
     "status": "completed"
    },
    "tags": []
   },
   "outputs": [],
   "source": [
    "pd.Series({\n",
    "    'total_events': events.event_unique_identifier.count(),\n",
    "    'total_attendances': events.attendances.count(),\n",
    "    'first_event': events.date.min(),\n",
    "    'latest_event': events.date.max(),\n",
    "    'total_ticket_orders_for_events_to_date': tickets.number_of_tickets.count(),\n",
    "    'total_tickets_sold_for_events_to_date': tickets.number_of_tickets.sum(),\n",
    "}).to_json(os.path.join(OUTPUT_DIR, 'headlines.json'), indent=2)"
   ]
  },
  {
   "cell_type": "code",
   "execution_count": null,
   "id": "c3fb3459",
   "metadata": {
    "papermill": {
     "duration": 0.002493,
     "end_time": "2023-09-17T23:39:00.126253",
     "exception": false,
     "start_time": "2023-09-17T23:39:00.123760",
     "status": "completed"
    },
    "tags": []
   },
   "outputs": [],
   "source": []
  }
 ],
 "metadata": {
  "kernelspec": {
   "display_name": "leeds-2023-YZF5GfJv",
   "language": "python",
   "name": "python3"
  },
  "language_info": {
   "codemirror_mode": {
    "name": "ipython",
    "version": 3
   },
   "file_extension": ".py",
   "mimetype": "text/x-python",
   "name": "python",
   "nbconvert_exporter": "python",
   "pygments_lexer": "ipython3",
   "version": "3.10.13"
  },
  "papermill": {
   "default_parameters": {},
   "duration": 12.406278,
   "end_time": "2023-09-17T23:39:00.446259",
   "environment_variables": {},
   "exception": null,
   "input_path": "prepare.ipynb",
   "output_path": "../../../../working/output/signature-prepare.ipynb",
   "parameters": {},
   "start_time": "2023-09-17T23:38:48.039981",
   "version": "2.4.0"
  }
 },
 "nbformat": 4,
 "nbformat_minor": 5
}