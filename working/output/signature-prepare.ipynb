{
 "cells": [
  {
   "cell_type": "code",
   "execution_count": 1,
   "id": "786bba47",
   "metadata": {
    "execution": {
     "iopub.execute_input": "2023-10-30T23:41:07.258349Z",
     "iopub.status.busy": "2023-10-30T23:41:07.257402Z",
     "iopub.status.idle": "2023-10-30T23:41:19.503011Z",
     "shell.execute_reply": "2023-10-30T23:41:19.502012Z"
    },
    "papermill": {
     "duration": 12.253097,
     "end_time": "2023-10-30T23:41:19.505137",
     "exception": false,
     "start_time": "2023-10-30T23:41:07.252040",
     "status": "completed"
    },
    "tags": []
   },
   "outputs": [],
   "source": [
    "import os\n",
    "import pandas as pd\n",
    "from events import load_event_data, get_first_ward, normalise_ward"
   ]
  },
  {
   "cell_type": "code",
   "execution_count": 2,
   "id": "aa053ce4",
   "metadata": {
    "execution": {
     "iopub.execute_input": "2023-10-30T23:41:19.512394Z",
     "iopub.status.busy": "2023-10-30T23:41:19.512152Z",
     "iopub.status.idle": "2023-10-30T23:41:19.517659Z",
     "shell.execute_reply": "2023-10-30T23:41:19.516792Z"
    },
    "papermill": {
     "duration": 0.011876,
     "end_time": "2023-10-30T23:41:19.520197",
     "exception": false,
     "start_time": "2023-10-30T23:41:19.508321",
     "status": "completed"
    },
    "tags": []
   },
   "outputs": [],
   "source": [
    "latest_date = pd.Timestamp.today().ceil('D')"
   ]
  },
  {
   "cell_type": "code",
   "execution_count": 3,
   "id": "8bdff045",
   "metadata": {
    "execution": {
     "iopub.execute_input": "2023-10-30T23:41:19.527140Z",
     "iopub.status.busy": "2023-10-30T23:41:19.526432Z",
     "iopub.status.idle": "2023-10-30T23:41:19.545776Z",
     "shell.execute_reply": "2023-10-30T23:41:19.544849Z"
    },
    "papermill": {
     "duration": 0.025072,
     "end_time": "2023-10-30T23:41:19.547907",
     "exception": false,
     "start_time": "2023-10-30T23:41:19.522835",
     "status": "completed"
    },
    "tags": []
   },
   "outputs": [],
   "source": [
    "tickets = pd.read_csv('../../../../data/metrics/events/tickets/orders.csv', parse_dates=['created_at', 'event_date'])\n",
    "tickets = tickets[tickets.event_date <= latest_date]"
   ]
  },
  {
   "cell_type": "code",
   "execution_count": 4,
   "id": "904935e4",
   "metadata": {
    "execution": {
     "iopub.execute_input": "2023-10-30T23:41:19.554339Z",
     "iopub.status.busy": "2023-10-30T23:41:19.554089Z",
     "iopub.status.idle": "2023-10-30T23:41:19.608007Z",
     "shell.execute_reply": "2023-10-30T23:41:19.606963Z"
    },
    "papermill": {
     "duration": 0.059366,
     "end_time": "2023-10-30T23:41:19.609906",
     "exception": false,
     "start_time": "2023-10-30T23:41:19.550540",
     "status": "completed"
    },
    "tags": []
   },
   "outputs": [],
   "source": [
    "events = load_event_data()\n",
    "\n",
    "events = pd.concat([\n",
    "  events,\n",
    "  events.pipe(get_first_ward).pipe(normalise_ward).fillna('UNKNOWN'),\n",
    "  pd.Series(\n",
    "      events.actual_audience_size_number_of_participants_in_person + events.actual_audience_size_number_of_participants_online,\n",
    "      name='attendances'\n",
    "  )\n",
    "], axis=1).rename(columns={\n",
    "    'start_date': 'date'\n",
    "}).loc[:, ['ward_code', 'date', 'event_unique_identifier', 'attendances']]"
   ]
  },
  {
   "cell_type": "code",
   "execution_count": 5,
   "id": "4ed361ec",
   "metadata": {
    "execution": {
     "iopub.execute_input": "2023-10-30T23:41:19.617036Z",
     "iopub.status.busy": "2023-10-30T23:41:19.616383Z",
     "iopub.status.idle": "2023-10-30T23:41:19.620618Z",
     "shell.execute_reply": "2023-10-30T23:41:19.619824Z"
    },
    "papermill": {
     "duration": 0.010066,
     "end_time": "2023-10-30T23:41:19.622909",
     "exception": false,
     "start_time": "2023-10-30T23:41:19.612843",
     "status": "completed"
    },
    "tags": []
   },
   "outputs": [],
   "source": [
    "OUTPUT_DIR='../../../../docs/metrics/events/signature/_data/'\n",
    "os.makedirs(OUTPUT_DIR, exist_ok=True)"
   ]
  },
  {
   "cell_type": "markdown",
   "id": "97948c17",
   "metadata": {
    "papermill": {
     "duration": 0.002738,
     "end_time": "2023-10-30T23:41:19.628444",
     "exception": false,
     "start_time": "2023-10-30T23:41:19.625706",
     "status": "completed"
    },
    "tags": []
   },
   "source": [
    "Events CSVs"
   ]
  },
  {
   "cell_type": "code",
   "execution_count": 6,
   "id": "626ea496",
   "metadata": {
    "execution": {
     "iopub.execute_input": "2023-10-30T23:41:19.635693Z",
     "iopub.status.busy": "2023-10-30T23:41:19.635457Z",
     "iopub.status.idle": "2023-10-30T23:41:19.643524Z",
     "shell.execute_reply": "2023-10-30T23:41:19.642637Z"
    },
    "papermill": {
     "duration": 0.014546,
     "end_time": "2023-10-30T23:41:19.645712",
     "exception": false,
     "start_time": "2023-10-30T23:41:19.631166",
     "status": "completed"
    },
    "tags": []
   },
   "outputs": [],
   "source": [
    "pd.DataFrame({\n",
    "  'events': events.groupby('ward_code').event_unique_identifier.count(),\n",
    "  'attendances': events.groupby('ward_code').attendances.sum().astype(int),\n",
    "}).to_csv(os.path.join(OUTPUT_DIR, 'events_by_ward.csv'))\n"
   ]
  },
  {
   "cell_type": "code",
   "execution_count": 7,
   "id": "43534800",
   "metadata": {
    "execution": {
     "iopub.execute_input": "2023-10-30T23:41:19.652975Z",
     "iopub.status.busy": "2023-10-30T23:41:19.652241Z",
     "iopub.status.idle": "2023-10-30T23:41:19.663895Z",
     "shell.execute_reply": "2023-10-30T23:41:19.662977Z"
    },
    "papermill": {
     "duration": 0.017604,
     "end_time": "2023-10-30T23:41:19.665942",
     "exception": false,
     "start_time": "2023-10-30T23:41:19.648338",
     "status": "completed"
    },
    "tags": []
   },
   "outputs": [],
   "source": [
    "pd.DataFrame({\n",
    "  'events': events.groupby('date').event_unique_identifier.count(),\n",
    "  'attendances': events.groupby('date').attendances.sum().astype(int),\n",
    "}).resample('M').sum().astype(int).to_csv(os.path.join(OUTPUT_DIR, 'events_by_date.csv'))"
   ]
  },
  {
   "cell_type": "markdown",
   "id": "1954a120",
   "metadata": {
    "papermill": {
     "duration": 0.002831,
     "end_time": "2023-10-30T23:41:19.672546",
     "exception": false,
     "start_time": "2023-10-30T23:41:19.669715",
     "status": "completed"
    },
    "tags": []
   },
   "source": [
    "Tickets CSV"
   ]
  },
  {
   "cell_type": "code",
   "execution_count": 8,
   "id": "bec36b3d",
   "metadata": {
    "execution": {
     "iopub.execute_input": "2023-10-30T23:41:19.680325Z",
     "iopub.status.busy": "2023-10-30T23:41:19.679566Z",
     "iopub.status.idle": "2023-10-30T23:41:19.688403Z",
     "shell.execute_reply": "2023-10-30T23:41:19.687217Z"
    },
    "papermill": {
     "duration": 0.015083,
     "end_time": "2023-10-30T23:41:19.690522",
     "exception": false,
     "start_time": "2023-10-30T23:41:19.675439",
     "status": "completed"
    },
    "tags": []
   },
   "outputs": [],
   "source": [
    "pd.DataFrame({\n",
    "  'orders': tickets.groupby('ward_code').number_of_tickets.count(),\n",
    "  'tickets': tickets.groupby('ward_code').number_of_tickets.sum().astype(int),\n",
    "}).to_csv(os.path.join(OUTPUT_DIR, 'tickets_by_ward.csv'))"
   ]
  },
  {
   "cell_type": "code",
   "execution_count": 9,
   "id": "df76a8de",
   "metadata": {
    "execution": {
     "iopub.execute_input": "2023-10-30T23:41:19.698239Z",
     "iopub.status.busy": "2023-10-30T23:41:19.697451Z",
     "iopub.status.idle": "2023-10-30T23:41:19.707689Z",
     "shell.execute_reply": "2023-10-30T23:41:19.706834Z"
    },
    "papermill": {
     "duration": 0.01594,
     "end_time": "2023-10-30T23:41:19.709527",
     "exception": false,
     "start_time": "2023-10-30T23:41:19.693587",
     "status": "completed"
    },
    "tags": []
   },
   "outputs": [],
   "source": [
    "pd.DataFrame({\n",
    "  'orders': tickets.groupby('event_date').number_of_tickets.count(),\n",
    "  'tickets': tickets.groupby('event_date').number_of_tickets.sum().astype(int),\n",
    "}).resample('M').sum().to_csv(os.path.join(OUTPUT_DIR, 'tickets_by_event_date.csv'))"
   ]
  },
  {
   "cell_type": "code",
   "execution_count": 10,
   "id": "b56e1dbe",
   "metadata": {
    "execution": {
     "iopub.execute_input": "2023-10-30T23:41:19.717128Z",
     "iopub.status.busy": "2023-10-30T23:41:19.716421Z",
     "iopub.status.idle": "2023-10-30T23:41:19.724675Z",
     "shell.execute_reply": "2023-10-30T23:41:19.723881Z"
    },
    "papermill": {
     "duration": 0.014064,
     "end_time": "2023-10-30T23:41:19.726592",
     "exception": false,
     "start_time": "2023-10-30T23:41:19.712528",
     "status": "completed"
    },
    "tags": []
   },
   "outputs": [],
   "source": [
    "pd.Series({\n",
    "    'total_events': events.event_unique_identifier.count(),\n",
    "    'total_attendances': events.attendances.count(),\n",
    "    'first_event': events.date.min(),\n",
    "    'latest_event': events.date.max(),\n",
    "    'total_ticket_orders_for_events_to_date': tickets.number_of_tickets.count(),\n",
    "    'total_tickets_sold_for_events_to_date': tickets.number_of_tickets.sum(),\n",
    "}).to_json(os.path.join(OUTPUT_DIR, 'headlines.json'), indent=2)"
   ]
  },
  {
   "cell_type": "code",
   "execution_count": null,
   "id": "99d5dd1c",
   "metadata": {
    "papermill": {
     "duration": 0.002963,
     "end_time": "2023-10-30T23:41:19.732696",
     "exception": false,
     "start_time": "2023-10-30T23:41:19.729733",
     "status": "completed"
    },
    "tags": []
   },
   "outputs": [],
   "source": []
  }
 ],
 "metadata": {
  "kernelspec": {
   "display_name": "leeds-2023-YZF5GfJv",
   "language": "python",
   "name": "python3"
  },
  "language_info": {
   "codemirror_mode": {
    "name": "ipython",
    "version": 3
   },
   "file_extension": ".py",
   "mimetype": "text/x-python",
   "name": "python",
   "nbconvert_exporter": "python",
   "pygments_lexer": "ipython3",
   "version": "3.10.13"
  },
  "papermill": {
   "default_parameters": {},
   "duration": 14.390363,
   "end_time": "2023-10-30T23:41:20.054333",
   "environment_variables": {},
   "exception": null,
   "input_path": "prepare.ipynb",
   "output_path": "../../../../working/output/signature-prepare.ipynb",
   "parameters": {},
   "start_time": "2023-10-30T23:41:05.663970",
   "version": "2.4.0"
  }
 },
 "nbformat": 4,
 "nbformat_minor": 5
}